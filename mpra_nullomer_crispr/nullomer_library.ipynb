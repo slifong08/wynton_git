{
 "cells": [
  {
   "cell_type": "code",
   "execution_count": 1,
   "id": "0f424900",
   "metadata": {},
   "outputs": [],
   "source": [
    "import matplotlib.pyplot as plt\n",
    "import numpy as np\n",
    "import os, sys\n",
    "import pandas as pd\n",
    "import seaborn as sns\n",
    "\n",
    "# custom scripts\n",
    "sys.path.append(\"/Users/sarahfong/tools/py_\")\n",
    "import config_readwrite as crw\n",
    "import plot_params as pp\n",
    "pp.fonts()\n",
    "\n",
    "# config \n",
    "name = \"local_config.ini\"\n",
    "config, cfn = crw.read_config(name)\n",
    "\n",
    "section=\"LIBRARY\"\n",
    "MPRA_LIBRARY = config[section][\"15mer_constructs\"]\n",
    "RE = config[section][\"results\"]\n",
    "\n",
    "if os.path.exists(RE) is False:\n",
    "    os.mkdir(RE)"
   ]
  },
  {
   "cell_type": "markdown",
   "id": "1b3a6ec4",
   "metadata": {},
   "source": [
    "# load library"
   ]
  },
  {
   "cell_type": "code",
   "execution_count": 2,
   "id": "2c5237eb",
   "metadata": {},
   "outputs": [],
   "source": [
    "df = pd.read_csv(MPRA_LIBRARY, sep='\\t')"
   ]
  },
  {
   "cell_type": "markdown",
   "id": "08c6af3a",
   "metadata": {},
   "source": [
    "## single-nullomer inserts only"
   ]
  },
  {
   "cell_type": "code",
   "execution_count": 3,
   "id": "b1a72f95",
   "metadata": {},
   "outputs": [
    {
     "data": {
      "text/html": [
       "<div>\n",
       "<style scoped>\n",
       "    .dataframe tbody tr th:only-of-type {\n",
       "        vertical-align: middle;\n",
       "    }\n",
       "\n",
       "    .dataframe tbody tr th {\n",
       "        vertical-align: top;\n",
       "    }\n",
       "\n",
       "    .dataframe thead th {\n",
       "        text-align: right;\n",
       "    }\n",
       "</style>\n",
       "<table border=\"1\" class=\"dataframe\">\n",
       "  <thead>\n",
       "    <tr style=\"text-align: right;\">\n",
       "      <th></th>\n",
       "      <th>id</th>\n",
       "      <th>exp.id</th>\n",
       "      <th>exp.seq.id</th>\n",
       "      <th>exp.coor.id</th>\n",
       "      <th>coor</th>\n",
       "      <th>str</th>\n",
       "      <th>seq_frag</th>\n",
       "      <th>200bp_insert</th>\n",
       "      <th>200bp_insert+adaptors</th>\n",
       "      <th>gc_frac</th>\n",
       "      <th>len</th>\n",
       "    </tr>\n",
       "  </thead>\n",
       "  <tbody>\n",
       "    <tr>\n",
       "      <th>701</th>\n",
       "      <td>single-null-0</td>\n",
       "      <td>single-null</td>\n",
       "      <td>0.0</td>\n",
       "      <td>0.0</td>\n",
       "      <td>chr22:42533418-42533618</td>\n",
       "      <td>+</td>\n",
       "      <td>TCGATCGCGAAGTGG</td>\n",
       "      <td>TTCTGAAAAGAGCATAGAAGAAATAATGACGTAAGCTGTCCTCTCT...</td>\n",
       "      <td>AGGACCGGATCAACTTTCTGAAAAGAGCATAGAAGAAATAATGACG...</td>\n",
       "      <td>0.495</td>\n",
       "      <td>230</td>\n",
       "    </tr>\n",
       "    <tr>\n",
       "      <th>703</th>\n",
       "      <td>single-null-0</td>\n",
       "      <td>single-null</td>\n",
       "      <td>0.0</td>\n",
       "      <td>1.0</td>\n",
       "      <td>chr17:81472134-81472334</td>\n",
       "      <td>+</td>\n",
       "      <td>TCGATCGCGAAGTGG</td>\n",
       "      <td>GATCCGAGGACAGCCATGCCACTCTCCGGTCACATGACCCACGCCA...</td>\n",
       "      <td>AGGACCGGATCAACTGATCCGAGGACAGCCATGCCACTCTCCGGTC...</td>\n",
       "      <td>0.580</td>\n",
       "      <td>230</td>\n",
       "    </tr>\n",
       "    <tr>\n",
       "      <th>705</th>\n",
       "      <td>single-null-0</td>\n",
       "      <td>single-null</td>\n",
       "      <td>0.0</td>\n",
       "      <td>2.0</td>\n",
       "      <td>chr1:23562395-23562595</td>\n",
       "      <td>+</td>\n",
       "      <td>TCGATCGCGAAGTGG</td>\n",
       "      <td>TGCCCAGCTGTGGGTCCCGGTCCCACAGCTGTGTTGATCTAAGACT...</td>\n",
       "      <td>AGGACCGGATCAACTTGCCCAGCTGTGGGTCCCGGTCCCACAGCTG...</td>\n",
       "      <td>0.660</td>\n",
       "      <td>230</td>\n",
       "    </tr>\n",
       "    <tr>\n",
       "      <th>707</th>\n",
       "      <td>single-null-0</td>\n",
       "      <td>single-null</td>\n",
       "      <td>0.0</td>\n",
       "      <td>3.0</td>\n",
       "      <td>chr10:68901084-68901284</td>\n",
       "      <td>+</td>\n",
       "      <td>TCGATCGCGAAGTGG</td>\n",
       "      <td>TAATCAGTGCATGCTTCCTTTATGGAGATTGGCCAGGGTTTTACTC...</td>\n",
       "      <td>AGGACCGGATCAACTTAATCAGTGCATGCTTCCTTTATGGAGATTG...</td>\n",
       "      <td>0.525</td>\n",
       "      <td>230</td>\n",
       "    </tr>\n",
       "    <tr>\n",
       "      <th>709</th>\n",
       "      <td>single-null-0</td>\n",
       "      <td>single-null</td>\n",
       "      <td>0.0</td>\n",
       "      <td>4.0</td>\n",
       "      <td>chr1:150977355-150977555</td>\n",
       "      <td>+</td>\n",
       "      <td>TCGATCGCGAAGTGG</td>\n",
       "      <td>GATGATGCGACCAGCTTTGTCAGCACGCTTGGGGAGCATACACACC...</td>\n",
       "      <td>AGGACCGGATCAACTGATGATGCGACCAGCTTTGTCAGCACGCTTG...</td>\n",
       "      <td>0.600</td>\n",
       "      <td>230</td>\n",
       "    </tr>\n",
       "  </tbody>\n",
       "</table>\n",
       "</div>"
      ],
      "text/plain": [
       "                id       exp.id  exp.seq.id  exp.coor.id  \\\n",
       "701  single-null-0  single-null         0.0          0.0   \n",
       "703  single-null-0  single-null         0.0          1.0   \n",
       "705  single-null-0  single-null         0.0          2.0   \n",
       "707  single-null-0  single-null         0.0          3.0   \n",
       "709  single-null-0  single-null         0.0          4.0   \n",
       "\n",
       "                         coor str         seq_frag  \\\n",
       "701   chr22:42533418-42533618   +  TCGATCGCGAAGTGG   \n",
       "703   chr17:81472134-81472334   +  TCGATCGCGAAGTGG   \n",
       "705    chr1:23562395-23562595   +  TCGATCGCGAAGTGG   \n",
       "707   chr10:68901084-68901284   +  TCGATCGCGAAGTGG   \n",
       "709  chr1:150977355-150977555   +  TCGATCGCGAAGTGG   \n",
       "\n",
       "                                          200bp_insert  \\\n",
       "701  TTCTGAAAAGAGCATAGAAGAAATAATGACGTAAGCTGTCCTCTCT...   \n",
       "703  GATCCGAGGACAGCCATGCCACTCTCCGGTCACATGACCCACGCCA...   \n",
       "705  TGCCCAGCTGTGGGTCCCGGTCCCACAGCTGTGTTGATCTAAGACT...   \n",
       "707  TAATCAGTGCATGCTTCCTTTATGGAGATTGGCCAGGGTTTTACTC...   \n",
       "709  GATGATGCGACCAGCTTTGTCAGCACGCTTGGGGAGCATACACACC...   \n",
       "\n",
       "                                 200bp_insert+adaptors  gc_frac  len  \n",
       "701  AGGACCGGATCAACTTTCTGAAAAGAGCATAGAAGAAATAATGACG...    0.495  230  \n",
       "703  AGGACCGGATCAACTGATCCGAGGACAGCCATGCCACTCTCCGGTC...    0.580  230  \n",
       "705  AGGACCGGATCAACTTGCCCAGCTGTGGGTCCCGGTCCCACAGCTG...    0.660  230  \n",
       "707  AGGACCGGATCAACTTAATCAGTGCATGCTTCCTTTATGGAGATTG...    0.525  230  \n",
       "709  AGGACCGGATCAACTGATGATGCGACCAGCTTTGTCAGCACGCTTG...    0.600  230  "
      ]
     },
     "execution_count": 3,
     "metadata": {},
     "output_type": "execute_result"
    }
   ],
   "source": [
    "one_null = df.loc[df[\"exp.id\"]==\"single-null\"].copy()\n",
    "\n",
    "one_null.head()"
   ]
  },
  {
   "cell_type": "markdown",
   "id": "908f4892",
   "metadata": {},
   "source": [
    "## write fa"
   ]
  },
  {
   "cell_type": "code",
   "execution_count": 4,
   "id": "359a82de",
   "metadata": {},
   "outputs": [],
   "source": [
    "def writeFa(ID, df, cols, RE):\n",
    "    \n",
    "    # make fa file\n",
    "    out = os.path.join(RE, f\"{ID}.fa\")\n",
    "\n",
    "    with open(out, \"w\") as writer:\n",
    "        for row in df.iterrows():\n",
    "            \n",
    "            # first line in fa entry\n",
    "            tag = \">\"+ row[1][\"id\"] + \"|\" + row[1][\"coor\"] + \"|\" + str(row[1][\"seq_frag\"])\n",
    "            \n",
    "            # second line in fa entry\n",
    "            seq = row[1][\"200bp_insert\"] \n",
    "            \n",
    "            # write\n",
    "            writer.write(f\"{tag}\\n{seq}\\n\")\n",
    "\n",
    "    writer.close()\n",
    "    \n",
    "    return out"
   ]
  },
  {
   "cell_type": "markdown",
   "id": "15e4e098",
   "metadata": {},
   "source": [
    "## get one nullomer inserted into 100 scaffolds"
   ]
  },
  {
   "cell_type": "code",
   "execution_count": null,
   "metadata": {},
   "outputs": [],
   "source": [
    "# cols to extract\n",
    "cols = [\"id\", \"coor\", \"200bp_insert\", \"seq_frag\"]"
   ]
  },
  {
   "cell_type": "code",
   "execution_count": 5,
   "id": "cc5d22d1",
   "metadata": {},
   "outputs": [
    {
     "data": {
      "text/plain": [
       "'/Users/sarahfong/Desktop/local_data/MPRA/nullomers/library/results/single-null-0.fa'"
      ]
     },
     "execution_count": 5,
     "metadata": {},
     "output_type": "execute_result"
    }
   ],
   "source": [
    "ID = \"single-null-0\"\n",
    "\n",
    "# subset data\n",
    "test = df.loc[df[\"id\"]==ID, cols].copy().drop_duplicates()\n",
    "\n",
    "# write fa\n",
    "single_null_out = writeFa(ID, test, cols, RE)\n",
    "single_null_out"
   ]
  },
  {
   "cell_type": "markdown",
   "metadata": {},
   "source": [
    "## randomly select 30 nullomer ids"
   ]
  },
  {
   "cell_type": "code",
   "execution_count": 15,
   "metadata": {},
   "outputs": [
    {
     "name": "stdout",
     "output_type": "stream",
     "text": [
      "wrote /Users/sarahfong/Desktop/local_data/MPRA/nullomers/library/results/single-null-204.fa\n",
      "wrote /Users/sarahfong/Desktop/local_data/MPRA/nullomers/library/results/single-null-50.fa\n",
      "wrote /Users/sarahfong/Desktop/local_data/MPRA/nullomers/library/results/single-null-81.fa\n",
      "wrote /Users/sarahfong/Desktop/local_data/MPRA/nullomers/library/results/single-null-223.fa\n",
      "wrote /Users/sarahfong/Desktop/local_data/MPRA/nullomers/library/results/single-null-330.fa\n",
      "wrote /Users/sarahfong/Desktop/local_data/MPRA/nullomers/library/results/single-null-969.fa\n",
      "wrote /Users/sarahfong/Desktop/local_data/MPRA/nullomers/library/results/single-null-410.fa\n",
      "wrote /Users/sarahfong/Desktop/local_data/MPRA/nullomers/library/results/single-null-763.fa\n",
      "wrote /Users/sarahfong/Desktop/local_data/MPRA/nullomers/library/results/single-null-464.fa\n",
      "wrote /Users/sarahfong/Desktop/local_data/MPRA/nullomers/library/results/single-null-959.fa\n",
      "wrote /Users/sarahfong/Desktop/local_data/MPRA/nullomers/library/results/single-null-222.fa\n",
      "wrote /Users/sarahfong/Desktop/local_data/MPRA/nullomers/library/results/single-null-296.fa\n",
      "wrote /Users/sarahfong/Desktop/local_data/MPRA/nullomers/library/results/single-null-968.fa\n",
      "wrote /Users/sarahfong/Desktop/local_data/MPRA/nullomers/library/results/single-null-246.fa\n",
      "wrote /Users/sarahfong/Desktop/local_data/MPRA/nullomers/library/results/single-null-811.fa\n",
      "wrote /Users/sarahfong/Desktop/local_data/MPRA/nullomers/library/results/single-null-364.fa\n",
      "wrote /Users/sarahfong/Desktop/local_data/MPRA/nullomers/library/results/single-null-482.fa\n",
      "wrote /Users/sarahfong/Desktop/local_data/MPRA/nullomers/library/results/single-null-781.fa\n",
      "wrote /Users/sarahfong/Desktop/local_data/MPRA/nullomers/library/results/single-null-602.fa\n",
      "wrote /Users/sarahfong/Desktop/local_data/MPRA/nullomers/library/results/single-null-997.fa\n",
      "wrote /Users/sarahfong/Desktop/local_data/MPRA/nullomers/library/results/single-null-860.fa\n",
      "wrote /Users/sarahfong/Desktop/local_data/MPRA/nullomers/library/results/single-null-462.fa\n",
      "wrote /Users/sarahfong/Desktop/local_data/MPRA/nullomers/library/results/single-null-24.fa\n",
      "wrote /Users/sarahfong/Desktop/local_data/MPRA/nullomers/library/results/single-null-276.fa\n",
      "wrote /Users/sarahfong/Desktop/local_data/MPRA/nullomers/library/results/single-null-327.fa\n",
      "wrote /Users/sarahfong/Desktop/local_data/MPRA/nullomers/library/results/single-null-367.fa\n",
      "wrote /Users/sarahfong/Desktop/local_data/MPRA/nullomers/library/results/single-null-503.fa\n",
      "wrote /Users/sarahfong/Desktop/local_data/MPRA/nullomers/library/results/single-null-75.fa\n",
      "wrote /Users/sarahfong/Desktop/local_data/MPRA/nullomers/library/results/single-null-968.fa\n",
      "wrote /Users/sarahfong/Desktop/local_data/MPRA/nullomers/library/results/single-null-154.fa\n"
     ]
    }
   ],
   "source": [
    "# randomly sample single-null ids\n",
    "random_30 = np.random.choice(list(set(one_null[\"id\"])), size=30)\n",
    "\n",
    "for ID in random_30:\n",
    "    \n",
    "    # subset data\n",
    "    test = df.loc[df[\"id\"]==ID, cols].copy().drop_duplicates()\n",
    "\n",
    "    # write fa\n",
    "    single_null_out = writeFa(ID, test, cols, RE)\n",
    "\n",
    "    print(\"wrote\", single_null_out)"
   ]
  },
  {
   "cell_type": "markdown",
   "id": "91ac311b",
   "metadata": {},
   "source": [
    "# get all the concatemer-nullomers "
   ]
  },
  {
   "cell_type": "code",
   "execution_count": 31,
   "id": "aba3985c",
   "metadata": {},
   "outputs": [
    {
     "data": {
      "text/plain": [
       "'/Users/sarahfong/Desktop/local_data/MPRA/nullomers/library/results/concat-null.fa'"
      ]
     },
     "execution_count": 31,
     "metadata": {},
     "output_type": "execute_result"
    }
   ],
   "source": [
    "ID = \"concat-null\"\n",
    "cols = [\"id\", \"coor\", \"200bp_insert\", \"seq_frag\"]\n",
    "\n",
    "# subset data\n",
    "test = df.loc[df[\"exp.id\"]==ID, cols].copy().drop_duplicates()\n",
    "\n",
    "# write fa\n",
    "concat_out = writeFa(ID, test.sample(n=19), cols, RE)\n",
    "concat_out"
   ]
  },
  {
   "cell_type": "code",
   "execution_count": 32,
   "id": "7d3c57c1",
   "metadata": {},
   "outputs": [
    {
     "data": {
      "text/html": [
       "<div>\n",
       "<style scoped>\n",
       "    .dataframe tbody tr th:only-of-type {\n",
       "        vertical-align: middle;\n",
       "    }\n",
       "\n",
       "    .dataframe tbody tr th {\n",
       "        vertical-align: top;\n",
       "    }\n",
       "\n",
       "    .dataframe thead th {\n",
       "        text-align: right;\n",
       "    }\n",
       "</style>\n",
       "<table border=\"1\" class=\"dataframe\">\n",
       "  <thead>\n",
       "    <tr style=\"text-align: right;\">\n",
       "      <th></th>\n",
       "      <th>id</th>\n",
       "      <th>coor</th>\n",
       "      <th>200bp_insert</th>\n",
       "      <th>seq_frag</th>\n",
       "    </tr>\n",
       "  </thead>\n",
       "  <tbody>\n",
       "    <tr>\n",
       "      <th>100800</th>\n",
       "      <td>concat-null-0</td>\n",
       "      <td>concat_template-chr22:42533418-42533618</td>\n",
       "      <td>TTTATTACGGTCGCGGGGTATTCGCTAGCGGGTATCTATCGGCGCG...</td>\n",
       "      <td>TATTACGGTCGCGGGGTATTCGCTAGCGGGTATCTATCGGCGCGGA...</td>\n",
       "    </tr>\n",
       "    <tr>\n",
       "      <th>100801</th>\n",
       "      <td>concat-null-1</td>\n",
       "      <td>concat_template-chr22:42533418-42533618</td>\n",
       "      <td>TTTTGACGCGATCGAGGCGTAGAGTTACGCGGCGTATACGATACGG...</td>\n",
       "      <td>TTGACGCGATCGAGGCGTAGAGTTACGCGGCGTATACGATACGGGT...</td>\n",
       "    </tr>\n",
       "    <tr>\n",
       "      <th>100802</th>\n",
       "      <td>concat-null-2</td>\n",
       "      <td>concat_template-chr22:42533418-42533618</td>\n",
       "      <td>TTCGTCGACGATACTGGCGAACCGTAAACGGGACGCGCGATAGTTG...</td>\n",
       "      <td>CGTCGACGATACTGGCGAACCGTAAACGGGACGCGCGATAGTTGGT...</td>\n",
       "    </tr>\n",
       "    <tr>\n",
       "      <th>100803</th>\n",
       "      <td>concat-null-3</td>\n",
       "      <td>concat_template-chr22:42533418-42533618</td>\n",
       "      <td>TTTATGATACCGCGCGGCGTATAGTCGGACGGACACGCGTAACGTG...</td>\n",
       "      <td>TATGATACCGCGCGGCGTATAGTCGGACGGACACGCGTAACGTGGC...</td>\n",
       "    </tr>\n",
       "    <tr>\n",
       "      <th>100804</th>\n",
       "      <td>concat-null-4</td>\n",
       "      <td>concat_template-chr22:42533418-42533618</td>\n",
       "      <td>TTAAAGTTAACGCGCGGCATATTCGACCGCGGCTCGACACGTATCG...</td>\n",
       "      <td>AAAGTTAACGCGCGGCATATTCGACCGCGGCTCGACACGTATCGGA...</td>\n",
       "    </tr>\n",
       "  </tbody>\n",
       "</table>\n",
       "</div>"
      ],
      "text/plain": [
       "                   id                                     coor   \n",
       "100800  concat-null-0  concat_template-chr22:42533418-42533618  \\\n",
       "100801  concat-null-1  concat_template-chr22:42533418-42533618   \n",
       "100802  concat-null-2  concat_template-chr22:42533418-42533618   \n",
       "100803  concat-null-3  concat_template-chr22:42533418-42533618   \n",
       "100804  concat-null-4  concat_template-chr22:42533418-42533618   \n",
       "\n",
       "                                             200bp_insert   \n",
       "100800  TTTATTACGGTCGCGGGGTATTCGCTAGCGGGTATCTATCGGCGCG...  \\\n",
       "100801  TTTTGACGCGATCGAGGCGTAGAGTTACGCGGCGTATACGATACGG...   \n",
       "100802  TTCGTCGACGATACTGGCGAACCGTAAACGGGACGCGCGATAGTTG...   \n",
       "100803  TTTATGATACCGCGCGGCGTATAGTCGGACGGACACGCGTAACGTG...   \n",
       "100804  TTAAAGTTAACGCGCGGCATATTCGACCGCGGCTCGACACGTATCG...   \n",
       "\n",
       "                                                 seq_frag  \n",
       "100800  TATTACGGTCGCGGGGTATTCGCTAGCGGGTATCTATCGGCGCGGA...  \n",
       "100801  TTGACGCGATCGAGGCGTAGAGTTACGCGGCGTATACGATACGGGT...  \n",
       "100802  CGTCGACGATACTGGCGAACCGTAAACGGGACGCGCGATAGTTGGT...  \n",
       "100803  TATGATACCGCGCGGCGTATAGTCGGACGGACACGCGTAACGTGGC...  \n",
       "100804  AAAGTTAACGCGCGGCATATTCGACCGCGGCTCGACACGTATCGGA...  "
      ]
     },
     "execution_count": 32,
     "metadata": {},
     "output_type": "execute_result"
    }
   ],
   "source": [
    "test.head()"
   ]
  },
  {
   "cell_type": "markdown",
   "id": "1aa0914b",
   "metadata": {},
   "source": [
    "## endogenous sequence .fa"
   ]
  },
  {
   "cell_type": "code",
   "execution_count": 49,
   "id": "f8b9d532",
   "metadata": {},
   "outputs": [
    {
     "data": {
      "text/plain": [
       "'/Users/sarahfong/Desktop/local_data/MPRA/nullomers/library/results/endog.fa'"
      ]
     },
     "execution_count": 49,
     "metadata": {},
     "output_type": "execute_result"
    }
   ],
   "source": [
    "ID = \"endog\"\n",
    "cols = [\"id\", \"coor\", \"200bp_insert\", \"seq_frag\"]\n",
    "\n",
    "# subset data\n",
    "test = df.loc[df[\"id\"]==ID, cols].copy().drop_duplicates()\n",
    "\n",
    "# write fa\n",
    "out = writeFa(ID, test, cols, RE)\n",
    "out"
   ]
  },
  {
   "cell_type": "code",
   "execution_count": 50,
   "id": "f53ed579",
   "metadata": {},
   "outputs": [
    {
     "data": {
      "text/html": [
       "<div>\n",
       "<style scoped>\n",
       "    .dataframe tbody tr th:only-of-type {\n",
       "        vertical-align: middle;\n",
       "    }\n",
       "\n",
       "    .dataframe tbody tr th {\n",
       "        vertical-align: top;\n",
       "    }\n",
       "\n",
       "    .dataframe thead th {\n",
       "        text-align: right;\n",
       "    }\n",
       "</style>\n",
       "<table border=\"1\" class=\"dataframe\">\n",
       "  <thead>\n",
       "    <tr style=\"text-align: right;\">\n",
       "      <th></th>\n",
       "      <th>id</th>\n",
       "      <th>coor</th>\n",
       "      <th>200bp_insert</th>\n",
       "      <th>seq_frag</th>\n",
       "    </tr>\n",
       "  </thead>\n",
       "  <tbody>\n",
       "    <tr>\n",
       "      <th>700</th>\n",
       "      <td>endog</td>\n",
       "      <td>chr22:42533418-42533618</td>\n",
       "      <td>TTCTGAAAAGAGCATAGAAGAAATAATGACGTAAGCTGTCCTCTCT...</td>\n",
       "      <td>NaN</td>\n",
       "    </tr>\n",
       "    <tr>\n",
       "      <th>702</th>\n",
       "      <td>endog</td>\n",
       "      <td>chr17:81472134-81472334</td>\n",
       "      <td>GATCCGAGGACAGCCATGCCACTCTCCGGTCACATGACCCACGCCA...</td>\n",
       "      <td>NaN</td>\n",
       "    </tr>\n",
       "    <tr>\n",
       "      <th>704</th>\n",
       "      <td>endog</td>\n",
       "      <td>chr1:23562395-23562595</td>\n",
       "      <td>TGCCCAGCTGTGGGTCCCGGTCCCACAGCTGTGTTGATCTAAGACT...</td>\n",
       "      <td>NaN</td>\n",
       "    </tr>\n",
       "    <tr>\n",
       "      <th>706</th>\n",
       "      <td>endog</td>\n",
       "      <td>chr10:68901084-68901284</td>\n",
       "      <td>TAATCAGTGCATGCTTCCTTTATGGAGATTGGCCAGGGTTTTACTC...</td>\n",
       "      <td>NaN</td>\n",
       "    </tr>\n",
       "    <tr>\n",
       "      <th>708</th>\n",
       "      <td>endog</td>\n",
       "      <td>chr1:150977355-150977555</td>\n",
       "      <td>GATGATGCGACCAGCTTTGTCAGCACGCTTGGGGAGCATACACACC...</td>\n",
       "      <td>NaN</td>\n",
       "    </tr>\n",
       "    <tr>\n",
       "      <th>...</th>\n",
       "      <td>...</td>\n",
       "      <td>...</td>\n",
       "      <td>...</td>\n",
       "      <td>...</td>\n",
       "    </tr>\n",
       "    <tr>\n",
       "      <th>890</th>\n",
       "      <td>endog</td>\n",
       "      <td>chr22:45553841-45554041</td>\n",
       "      <td>GCTTCCCTCTGGCAAAACAAATTCCATCCCTGGTTAGTACCCGCCA...</td>\n",
       "      <td>NaN</td>\n",
       "    </tr>\n",
       "    <tr>\n",
       "      <th>892</th>\n",
       "      <td>endog</td>\n",
       "      <td>chr17:40909375-40909575</td>\n",
       "      <td>CAGGACTTGTATGGTTGATCTTTGTCCAACCCGAGCCTTGGATCAG...</td>\n",
       "      <td>NaN</td>\n",
       "    </tr>\n",
       "    <tr>\n",
       "      <th>894</th>\n",
       "      <td>endog</td>\n",
       "      <td>chr10:100111785-100111985</td>\n",
       "      <td>TGAGCCACCACGCCCGGCCAATCCCCTGTGTTTTTCCTTAAAGAAT...</td>\n",
       "      <td>NaN</td>\n",
       "    </tr>\n",
       "    <tr>\n",
       "      <th>896</th>\n",
       "      <td>endog</td>\n",
       "      <td>chr6:127642085-127642285</td>\n",
       "      <td>AGCCTTCCTACACTGCCAGGATGCCAGGGTATTCTCTTTGGGACCT...</td>\n",
       "      <td>NaN</td>\n",
       "    </tr>\n",
       "    <tr>\n",
       "      <th>898</th>\n",
       "      <td>endog</td>\n",
       "      <td>chr20:32790124-32790324</td>\n",
       "      <td>TGAGCTAATTGAAGTTTCCCAAGGGCTACAATAATATATTGGGTGT...</td>\n",
       "      <td>NaN</td>\n",
       "    </tr>\n",
       "  </tbody>\n",
       "</table>\n",
       "<p>100 rows × 4 columns</p>\n",
       "</div>"
      ],
      "text/plain": [
       "        id                       coor   \n",
       "700  endog    chr22:42533418-42533618  \\\n",
       "702  endog    chr17:81472134-81472334   \n",
       "704  endog     chr1:23562395-23562595   \n",
       "706  endog    chr10:68901084-68901284   \n",
       "708  endog   chr1:150977355-150977555   \n",
       "..     ...                        ...   \n",
       "890  endog    chr22:45553841-45554041   \n",
       "892  endog    chr17:40909375-40909575   \n",
       "894  endog  chr10:100111785-100111985   \n",
       "896  endog   chr6:127642085-127642285   \n",
       "898  endog    chr20:32790124-32790324   \n",
       "\n",
       "                                          200bp_insert seq_frag  \n",
       "700  TTCTGAAAAGAGCATAGAAGAAATAATGACGTAAGCTGTCCTCTCT...      NaN  \n",
       "702  GATCCGAGGACAGCCATGCCACTCTCCGGTCACATGACCCACGCCA...      NaN  \n",
       "704  TGCCCAGCTGTGGGTCCCGGTCCCACAGCTGTGTTGATCTAAGACT...      NaN  \n",
       "706  TAATCAGTGCATGCTTCCTTTATGGAGATTGGCCAGGGTTTTACTC...      NaN  \n",
       "708  GATGATGCGACCAGCTTTGTCAGCACGCTTGGGGAGCATACACACC...      NaN  \n",
       "..                                                 ...      ...  \n",
       "890  GCTTCCCTCTGGCAAAACAAATTCCATCCCTGGTTAGTACCCGCCA...      NaN  \n",
       "892  CAGGACTTGTATGGTTGATCTTTGTCCAACCCGAGCCTTGGATCAG...      NaN  \n",
       "894  TGAGCCACCACGCCCGGCCAATCCCCTGTGTTTTTCCTTAAAGAAT...      NaN  \n",
       "896  AGCCTTCCTACACTGCCAGGATGCCAGGGTATTCTCTTTGGGACCT...      NaN  \n",
       "898  TGAGCTAATTGAAGTTTCCCAAGGGCTACAATAATATATTGGGTGT...      NaN  \n",
       "\n",
       "[100 rows x 4 columns]"
      ]
     },
     "execution_count": 50,
     "metadata": {},
     "output_type": "execute_result"
    }
   ],
   "source": [
    "test"
   ]
  },
  {
   "cell_type": "code",
   "execution_count": null,
   "id": "3038e8e2",
   "metadata": {},
   "outputs": [],
   "source": []
  }
 ],
 "metadata": {
  "kernelspec": {
   "display_name": "Python (base_venv)",
   "language": "python",
   "name": "base_venv"
  },
  "language_info": {
   "codemirror_mode": {
    "name": "ipython",
    "version": 3
   },
   "file_extension": ".py",
   "mimetype": "text/x-python",
   "name": "python",
   "nbconvert_exporter": "python",
   "pygments_lexer": "ipython3",
   "version": "3.6.10"
  }
 },
 "nbformat": 4,
 "nbformat_minor": 5
}
