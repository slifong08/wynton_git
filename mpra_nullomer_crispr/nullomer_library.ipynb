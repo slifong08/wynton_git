{
 "cells": [
  {
   "cell_type": "code",
   "execution_count": 1,
   "id": "e013a3e6",
   "metadata": {},
   "outputs": [],
   "source": [
    "import matplotlib.pyplot as plt\n",
    "import os, sys\n",
    "import pandas as pd\n",
    "import seaborn as sns\n",
    "\n",
    "sys.path.append(\"/Users/sarahfong/tools/py_\")\n",
    "import config_readwrite as crw\n",
    "import plot_params as pp\n",
    "pp.fonts()\n",
    "\n",
    "name = \"local_config.ini\"\n",
    "config, cfn = crw.read_config(name)\n",
    "\n",
    "section=\"LIBRARY\"\n",
    "MPRA_LIBRARY = config[section][\"15mer_constructs\"]\n",
    "RE = config[section][\"results\"]\n",
    "\n",
    "if os.path.exists(RE) is False:\n",
    "    os.mkdir(RE)"
   ]
  },
  {
   "cell_type": "markdown",
   "id": "80660861",
   "metadata": {},
   "source": [
    "# load library"
   ]
  },
  {
   "cell_type": "code",
   "execution_count": 4,
   "id": "6406f497",
   "metadata": {},
   "outputs": [],
   "source": [
    "df = pd.read_csv(MPRA_LIBRARY, sep='\\t')"
   ]
  },
  {
   "cell_type": "markdown",
   "id": "04c3d02f",
   "metadata": {},
   "source": [
    "## single-nullomer inserts only"
   ]
  },
  {
   "cell_type": "code",
   "execution_count": 9,
   "id": "3e528b83",
   "metadata": {},
   "outputs": [
    {
     "data": {
      "text/html": [
       "<div>\n",
       "<style scoped>\n",
       "    .dataframe tbody tr th:only-of-type {\n",
       "        vertical-align: middle;\n",
       "    }\n",
       "\n",
       "    .dataframe tbody tr th {\n",
       "        vertical-align: top;\n",
       "    }\n",
       "\n",
       "    .dataframe thead th {\n",
       "        text-align: right;\n",
       "    }\n",
       "</style>\n",
       "<table border=\"1\" class=\"dataframe\">\n",
       "  <thead>\n",
       "    <tr style=\"text-align: right;\">\n",
       "      <th></th>\n",
       "      <th>id</th>\n",
       "      <th>exp.id</th>\n",
       "      <th>exp.seq.id</th>\n",
       "      <th>exp.coor.id</th>\n",
       "      <th>coor</th>\n",
       "      <th>str</th>\n",
       "      <th>seq_frag</th>\n",
       "      <th>200bp_insert</th>\n",
       "      <th>200bp_insert+adaptors</th>\n",
       "      <th>gc_frac</th>\n",
       "      <th>len</th>\n",
       "    </tr>\n",
       "  </thead>\n",
       "  <tbody>\n",
       "    <tr>\n",
       "      <th>701</th>\n",
       "      <td>single-null-0</td>\n",
       "      <td>single-null</td>\n",
       "      <td>0.0</td>\n",
       "      <td>0.0</td>\n",
       "      <td>chr22:42533418-42533618</td>\n",
       "      <td>+</td>\n",
       "      <td>TCGATCGCGAAGTGG</td>\n",
       "      <td>TTCTGAAAAGAGCATAGAAGAAATAATGACGTAAGCTGTCCTCTCT...</td>\n",
       "      <td>AGGACCGGATCAACTTTCTGAAAAGAGCATAGAAGAAATAATGACG...</td>\n",
       "      <td>0.495</td>\n",
       "      <td>230</td>\n",
       "    </tr>\n",
       "    <tr>\n",
       "      <th>703</th>\n",
       "      <td>single-null-0</td>\n",
       "      <td>single-null</td>\n",
       "      <td>0.0</td>\n",
       "      <td>1.0</td>\n",
       "      <td>chr17:81472134-81472334</td>\n",
       "      <td>+</td>\n",
       "      <td>TCGATCGCGAAGTGG</td>\n",
       "      <td>GATCCGAGGACAGCCATGCCACTCTCCGGTCACATGACCCACGCCA...</td>\n",
       "      <td>AGGACCGGATCAACTGATCCGAGGACAGCCATGCCACTCTCCGGTC...</td>\n",
       "      <td>0.580</td>\n",
       "      <td>230</td>\n",
       "    </tr>\n",
       "    <tr>\n",
       "      <th>705</th>\n",
       "      <td>single-null-0</td>\n",
       "      <td>single-null</td>\n",
       "      <td>0.0</td>\n",
       "      <td>2.0</td>\n",
       "      <td>chr1:23562395-23562595</td>\n",
       "      <td>+</td>\n",
       "      <td>TCGATCGCGAAGTGG</td>\n",
       "      <td>TGCCCAGCTGTGGGTCCCGGTCCCACAGCTGTGTTGATCTAAGACT...</td>\n",
       "      <td>AGGACCGGATCAACTTGCCCAGCTGTGGGTCCCGGTCCCACAGCTG...</td>\n",
       "      <td>0.660</td>\n",
       "      <td>230</td>\n",
       "    </tr>\n",
       "    <tr>\n",
       "      <th>707</th>\n",
       "      <td>single-null-0</td>\n",
       "      <td>single-null</td>\n",
       "      <td>0.0</td>\n",
       "      <td>3.0</td>\n",
       "      <td>chr10:68901084-68901284</td>\n",
       "      <td>+</td>\n",
       "      <td>TCGATCGCGAAGTGG</td>\n",
       "      <td>TAATCAGTGCATGCTTCCTTTATGGAGATTGGCCAGGGTTTTACTC...</td>\n",
       "      <td>AGGACCGGATCAACTTAATCAGTGCATGCTTCCTTTATGGAGATTG...</td>\n",
       "      <td>0.525</td>\n",
       "      <td>230</td>\n",
       "    </tr>\n",
       "    <tr>\n",
       "      <th>709</th>\n",
       "      <td>single-null-0</td>\n",
       "      <td>single-null</td>\n",
       "      <td>0.0</td>\n",
       "      <td>4.0</td>\n",
       "      <td>chr1:150977355-150977555</td>\n",
       "      <td>+</td>\n",
       "      <td>TCGATCGCGAAGTGG</td>\n",
       "      <td>GATGATGCGACCAGCTTTGTCAGCACGCTTGGGGAGCATACACACC...</td>\n",
       "      <td>AGGACCGGATCAACTGATGATGCGACCAGCTTTGTCAGCACGCTTG...</td>\n",
       "      <td>0.600</td>\n",
       "      <td>230</td>\n",
       "    </tr>\n",
       "  </tbody>\n",
       "</table>\n",
       "</div>"
      ],
      "text/plain": [
       "                id       exp.id  exp.seq.id  exp.coor.id   \n",
       "701  single-null-0  single-null         0.0          0.0  \\\n",
       "703  single-null-0  single-null         0.0          1.0   \n",
       "705  single-null-0  single-null         0.0          2.0   \n",
       "707  single-null-0  single-null         0.0          3.0   \n",
       "709  single-null-0  single-null         0.0          4.0   \n",
       "\n",
       "                         coor str         seq_frag   \n",
       "701   chr22:42533418-42533618   +  TCGATCGCGAAGTGG  \\\n",
       "703   chr17:81472134-81472334   +  TCGATCGCGAAGTGG   \n",
       "705    chr1:23562395-23562595   +  TCGATCGCGAAGTGG   \n",
       "707   chr10:68901084-68901284   +  TCGATCGCGAAGTGG   \n",
       "709  chr1:150977355-150977555   +  TCGATCGCGAAGTGG   \n",
       "\n",
       "                                          200bp_insert   \n",
       "701  TTCTGAAAAGAGCATAGAAGAAATAATGACGTAAGCTGTCCTCTCT...  \\\n",
       "703  GATCCGAGGACAGCCATGCCACTCTCCGGTCACATGACCCACGCCA...   \n",
       "705  TGCCCAGCTGTGGGTCCCGGTCCCACAGCTGTGTTGATCTAAGACT...   \n",
       "707  TAATCAGTGCATGCTTCCTTTATGGAGATTGGCCAGGGTTTTACTC...   \n",
       "709  GATGATGCGACCAGCTTTGTCAGCACGCTTGGGGAGCATACACACC...   \n",
       "\n",
       "                                 200bp_insert+adaptors  gc_frac  len  \n",
       "701  AGGACCGGATCAACTTTCTGAAAAGAGCATAGAAGAAATAATGACG...    0.495  230  \n",
       "703  AGGACCGGATCAACTGATCCGAGGACAGCCATGCCACTCTCCGGTC...    0.580  230  \n",
       "705  AGGACCGGATCAACTTGCCCAGCTGTGGGTCCCGGTCCCACAGCTG...    0.660  230  \n",
       "707  AGGACCGGATCAACTTAATCAGTGCATGCTTCCTTTATGGAGATTG...    0.525  230  \n",
       "709  AGGACCGGATCAACTGATGATGCGACCAGCTTTGTCAGCACGCTTG...    0.600  230  "
      ]
     },
     "execution_count": 9,
     "metadata": {},
     "output_type": "execute_result"
    }
   ],
   "source": [
    "one_null = df.loc[df[\"exp.id\"]==\"single-null\"].copy()\n",
    "\n",
    "one_null.head()"
   ]
  },
  {
   "cell_type": "markdown",
   "id": "04cd558d",
   "metadata": {},
   "source": [
    "## write fa"
   ]
  },
  {
   "cell_type": "code",
   "execution_count": 24,
   "id": "096ac266",
   "metadata": {},
   "outputs": [],
   "source": [
    "def writeFa(ID, df, cols, RE):\n",
    "    \n",
    "    # make fa file\n",
    "    out = os.path.join(RE, f\"{ID}.fa\")\n",
    "\n",
    "    with open(out, \"w\") as writer:\n",
    "        for row in df.iterrows():\n",
    "            \n",
    "            # first line in fa entry\n",
    "            tag = \">\"+ row[1][\"id\"] + \"|\" + row[1][\"coor\"] + \"|\" + row[1][\"seq_frag\"]\n",
    "            \n",
    "            # second line in fa entry\n",
    "            seq = row[1][\"200bp_insert\"] \n",
    "            \n",
    "            # write\n",
    "            writer.write(f\"{tag}\\n{seq}\\n\")\n",
    "\n",
    "    writer.close()\n",
    "    \n",
    "    return out"
   ]
  },
  {
   "cell_type": "markdown",
   "id": "e5672073",
   "metadata": {},
   "source": [
    "## get one nullomer inserted into 100 scaffolds"
   ]
  },
  {
   "cell_type": "code",
   "execution_count": 10,
   "id": "ae98f330",
   "metadata": {},
   "outputs": [],
   "source": [
    "ID = \"single-null-0\"\n",
    "cols = [\"id\", \"coor\", \"200bp_insert\", \"seq_frag\"]\n",
    "\n",
    "# subset data\n",
    "test = df.loc[df[\"id\"]==ID, cols].copy().drop_duplicates()\n",
    "\n",
    "# write fa\n",
    "single_null_out = writeFa(ID, test, cols, RE)\n",
    "single_null_out"
   ]
  },
  {
   "cell_type": "markdown",
   "id": "951ce80d",
   "metadata": {},
   "source": [
    "# get all the concatemer-nullomers "
   ]
  },
  {
   "cell_type": "code",
   "execution_count": 29,
   "id": "8ae551c4",
   "metadata": {},
   "outputs": [
    {
     "data": {
      "text/plain": [
       "'/Users/sarahfong/Desktop/local_data/MPRA/nullomers/library/results/concat-null.fa'"
      ]
     },
     "execution_count": 29,
     "metadata": {},
     "output_type": "execute_result"
    }
   ],
   "source": [
    "ID = \"concat-null\"\n",
    "cols = [\"id\", \"coor\", \"200bp_insert\", \"seq_frag\"]\n",
    "\n",
    "# subset data\n",
    "test = df.loc[df[\"exp.id\"]==ID, cols].copy().drop_duplicates()\n",
    "\n",
    "# write fa\n",
    "concat_out = writeFa(ID, test, cols, RE)\n",
    "concat_out"
   ]
  },
  {
   "cell_type": "code",
   "execution_count": null,
   "id": "4b42bbd2",
   "metadata": {},
   "outputs": [],
   "source": []
  }
 ],
 "metadata": {
  "kernelspec": {
   "display_name": "Python (base_venv)",
   "language": "python",
   "name": "base_venv"
  },
  "language_info": {
   "codemirror_mode": {
    "name": "ipython",
    "version": 3
   },
   "file_extension": ".py",
   "mimetype": "text/x-python",
   "name": "python",
   "nbconvert_exporter": "python",
   "pygments_lexer": "ipython3",
   "version": "3.11.3"
  }
 },
 "nbformat": 4,
 "nbformat_minor": 5
}
