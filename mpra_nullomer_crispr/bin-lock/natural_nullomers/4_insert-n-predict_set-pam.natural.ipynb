{
 "cells": [
  {
   "cell_type": "code",
   "execution_count": 2,
   "id": "653566d6",
   "metadata": {
    "ExecuteTime": {
     "end_time": "2023-04-25T19:30:46.738322Z",
     "start_time": "2023-04-25T19:30:37.887131Z"
    }
   },
   "outputs": [],
   "source": [
    "from Bio.SeqIO.FastaIO import SimpleFastaParser\n",
    "import config_readwrite as crw\n",
    "\n",
    "import glob\n",
    "import gzip\n",
    "import numpy as np\n",
    "import os, sys\n",
    "import pandas as pd\n",
    "import subprocess as sp\n",
    "import time"
   ]
  },
  {
   "cell_type": "markdown",
   "id": "1d0e632a",
   "metadata": {},
   "source": [
    "# find coordinates of kmers"
   ]
  },
  {
   "cell_type": "code",
   "execution_count": 43,
   "id": "49205095",
   "metadata": {
    "ExecuteTime": {
     "end_time": "2023-04-25T23:43:10.667362Z",
     "start_time": "2023-04-25T23:43:10.659272Z"
    }
   },
   "outputs": [],
   "source": [
    "CL, MER, NMUTS, BUILD, FO_ONLY = \"common\", \"15\", \"2\", \"hs1\", True\n",
    "config, cfn = crw.read(os.path.join(os.getcwd(), \"config.ini\"))"
   ]
  },
  {
   "cell_type": "code",
   "execution_count": 44,
   "id": "887073dc",
   "metadata": {
    "ExecuteTime": {
     "end_time": "2023-04-25T23:43:11.088224Z",
     "start_time": "2023-04-25T23:43:11.058980Z"
    }
   },
   "outputs": [
    {
     "ename": "KeyError",
     "evalue": "'fasta'",
     "output_type": "error",
     "traceback": [
      "\u001b[0;31m---------------------------------------------------------------------------\u001b[0m",
      "\u001b[0;31mKeyError\u001b[0m                                  Traceback (most recent call last)",
      "Cell \u001b[0;32mIn [44], line 10\u001b[0m\n\u001b[1;32m      8\u001b[0m FA_EXT_BED \u001b[38;5;241m=\u001b[39m config[CL][\u001b[38;5;124m\"\u001b[39m\u001b[38;5;124mfa_extended_hg38\u001b[39m\u001b[38;5;124m\"\u001b[39m]\n\u001b[1;32m      9\u001b[0m EXTENDED \u001b[38;5;241m=\u001b[39m config[CL][\u001b[38;5;124m\"\u001b[39m\u001b[38;5;124mbed_extended_hg38\u001b[39m\u001b[38;5;124m\"\u001b[39m]\n\u001b[0;32m---> 10\u001b[0m FA \u001b[38;5;241m=\u001b[39m \u001b[43mconfig\u001b[49m\u001b[43m[\u001b[49m\u001b[43mCL\u001b[49m\u001b[43m]\u001b[49m\u001b[43m[\u001b[49m\u001b[38;5;124;43m\"\u001b[39;49m\u001b[38;5;124;43mfasta\u001b[39;49m\u001b[38;5;124;43m\"\u001b[39;49m\u001b[43m]\u001b[49m\n",
      "File \u001b[0;32m~/.conda/envs/wynenv/lib/python3.10/configparser.py:1258\u001b[0m, in \u001b[0;36mSectionProxy.__getitem__\u001b[0;34m(self, key)\u001b[0m\n\u001b[1;32m   1256\u001b[0m \u001b[38;5;28;01mdef\u001b[39;00m \u001b[38;5;21m__getitem__\u001b[39m(\u001b[38;5;28mself\u001b[39m, key):\n\u001b[1;32m   1257\u001b[0m     \u001b[38;5;28;01mif\u001b[39;00m \u001b[38;5;129;01mnot\u001b[39;00m \u001b[38;5;28mself\u001b[39m\u001b[38;5;241m.\u001b[39m_parser\u001b[38;5;241m.\u001b[39mhas_option(\u001b[38;5;28mself\u001b[39m\u001b[38;5;241m.\u001b[39m_name, key):\n\u001b[0;32m-> 1258\u001b[0m         \u001b[38;5;28;01mraise\u001b[39;00m \u001b[38;5;167;01mKeyError\u001b[39;00m(key)\n\u001b[1;32m   1259\u001b[0m     \u001b[38;5;28;01mreturn\u001b[39;00m \u001b[38;5;28mself\u001b[39m\u001b[38;5;241m.\u001b[39m_parser\u001b[38;5;241m.\u001b[39mget(\u001b[38;5;28mself\u001b[39m\u001b[38;5;241m.\u001b[39m_name, key)\n",
      "\u001b[0;31mKeyError\u001b[0m: 'fasta'"
     ]
    }
   ],
   "source": [
    "#FA_MUT =  config[f\"common.{MER}mer.{NMUTS}mut\"][\"fa_fo-true\"]\n",
    "#TSV_MUT =  config[f\"common.{MER}mer.{NMUTS}mut\"][\"tsv_fo-true\"]\n",
    "TSV_MUT= f'/wynton/home/ahituv/fongsl/nullomers/data/lock/common/common.{MER}mers.2mut.nulls.fo.pam.tsv'\n",
    "#FA_MUT = '/wynton/home/ahituv/fongsl/nullomers/data/lock/common/_common.14mers.2mut.nulls.fo.fa'\n",
    "\n",
    "BED_HS1 = config[CL][\"lifted_hs1\"]\n",
    "BED_HG38 = config[CL][\"bed\"]\n",
    "FA_EXT_BED = config[CL][\"fa_extended_hg38\"]\n",
    "EXTENDED = config[CL][\"bed_extended_hg38\"]\n",
    "FA = config[CL][\"fasta_hg38\"]"
   ]
  },
  {
   "cell_type": "code",
   "execution_count": 12,
   "id": "963b6b42",
   "metadata": {
    "ExecuteTime": {
     "end_time": "2023-04-25T19:50:21.096761Z",
     "start_time": "2023-04-25T19:50:21.089534Z"
    }
   },
   "outputs": [],
   "source": [
    "def faToDict(fa_file):\n",
    "    \"\"\"\n",
    "    turn all the fa coordinates into a dictionary. \n",
    "    \"\"\"\n",
    "\n",
    "    fa_dict = {}\n",
    "    with open(fa_file, \"r\") as fasta_reader:\n",
    "        for values in SimpleFastaParser(fasta_reader):\n",
    "            \n",
    "            name, seq = values\n",
    "            fa_dict[name] = seq\n",
    "            \n",
    "    return fa_dict"
   ]
  },
  {
   "cell_type": "code",
   "execution_count": 13,
   "id": "a0234399",
   "metadata": {
    "ExecuteTime": {
     "end_time": "2023-04-25T19:50:21.561324Z",
     "start_time": "2023-04-25T19:50:21.553200Z"
    }
   },
   "outputs": [],
   "source": [
    "def dissectFaId(line):\n",
    "    \"\"\"\n",
    "    dissect mutated fa id line for kmer, nullomer information, and get the coordinate file\n",
    "    \"\"\"\n",
    "    # process the line\n",
    "    kmer, chr_, coor, strand, id_ = line.strip('\\n').strip(\">\").split(\".\")\n",
    "            \n",
    "    # get key and value sequence to look up\n",
    "    key, value_seq = kmer[:5], kmer[5:]\n",
    "\n",
    "    bed_coor = chr_ + \":\" + coor\n",
    "    \n",
    "    region_str = \".\".join([kmer, bed_coor, strand, id_]) #TACCCATTCGAGTC.chr1.100333924-100334124.fwd\n",
    "    \n",
    "    \n",
    "    return kmer, key, value_seq, bed_coor, region_str"
   ]
  },
  {
   "cell_type": "code",
   "execution_count": 14,
   "id": "89d0a8d5",
   "metadata": {
    "ExecuteTime": {
     "end_time": "2023-04-25T19:50:22.247740Z",
     "start_time": "2023-04-25T19:50:22.240783Z"
    },
    "code_folding": [
     0
    ]
   },
   "outputs": [],
   "source": [
    "def seqInsert(seq, insert_start, insert_seq):\n",
    "    \"\"\"\n",
    "    insert sequence fragment (insert_seq) at position (insert_start) within full sequence (seq)\n",
    "    \n",
    "    return inserted sequence. \n",
    "    \"\"\"\n",
    "\n",
    "    insert_size = len(insert_seq)\n",
    "    \n",
    "    insert_end = insert_start + insert_size  # find center end\n",
    "\n",
    "    return seq[:int(insert_start)] + insert_seq + seq[int(insert_end):]"
   ]
  },
  {
   "cell_type": "code",
   "execution_count": 15,
   "id": "e6f68526",
   "metadata": {
    "ExecuteTime": {
     "end_time": "2023-04-25T19:50:22.905425Z",
     "start_time": "2023-04-25T19:50:22.896720Z"
    },
    "code_folding": []
   },
   "outputs": [],
   "source": [
    "def findKmerInsertNull(kmer, null, fa_sequence, region_id):\n",
    "    \n",
    "    \"\"\"\n",
    "    return positions where the nullomer is in fa sequence\n",
    "    \"\"\"\n",
    "    pos = {}\n",
    "    kmerlen = len(kmer)\n",
    "        \n",
    "    nwindows = len(fa_sequence) - kmerlen + 1\n",
    "\n",
    "    for n in np.arange(nwindows):\n",
    "\n",
    "        start, stop = n, n+kmerlen\n",
    "        snippet = fa_sequence[start:stop]\n",
    "        if kmer.upper() == snippet.upper():\n",
    "            null_insert = seqInsert(fa_sequence.lower(), start, null.upper())  # insert the nullomer sequence into the sequence\n",
    "\n",
    "            pos[f\"{region_id}.{start}\"] = null_insert\n",
    "    return pos"
   ]
  },
  {
   "cell_type": "code",
   "execution_count": 16,
   "id": "a3078156",
   "metadata": {
    "ExecuteTime": {
     "end_time": "2023-04-25T19:50:23.586425Z",
     "start_time": "2023-04-25T19:50:23.576733Z"
    },
    "code_folding": [
     0
    ]
   },
   "outputs": [],
   "source": [
    "def mapBed(bedfile, expandedfile):\n",
    "\n",
    "    bed = pd.read_csv(bedfile, sep='\\t', header=None, names =[\"#chr\", \"start\", \"end\", \"strand\", \"id\"])  \n",
    "    bed[\"coor\"] = bed[\"#chr\"] +\":\"+bed[\"start\"].map(str) + \"-\" + bed[\"end\"].map(str)\n",
    "\n",
    "    ext = pd.read_csv(expandedfile, sep='\\t', header=None, names =[\"#chr_e\", \"start_e\", \"end_e\", \"id\"])\n",
    "    ext[\"coor_e\"] = ext[\"#chr_e\"] +\":\"+ext[\"start_e\"].map(str) + \"-\" + ext[\"end_e\"].map(str)\n",
    "\n",
    "    joint = pd.merge(ext[[\"id\", \"coor_e\"]], bed[[\"id\", \"coor\"]])\n",
    "    \n",
    "    return joint"
   ]
  },
  {
   "cell_type": "code",
   "execution_count": 17,
   "id": "658b4eeb",
   "metadata": {
    "ExecuteTime": {
     "end_time": "2023-04-25T19:50:24.156371Z",
     "start_time": "2023-04-25T19:50:24.148585Z"
    },
    "code_folding": []
   },
   "outputs": [],
   "source": [
    "def insert4096(nulls_dict, joint_bedex, fa_ex_dict, coor):\n",
    "    \n",
    "    extended_nullseqs = {}\n",
    "    \n",
    "    for key, null_seq in nulls_dict.items():\n",
    "        \n",
    "        extended_coor = joint_bedex.loc[joint_bedex[\"coor\"]==coor, \"coor_e\"].iloc[0] # extend the coordinates to 4096\n",
    "        \n",
    "        extended_seq = fa_ex_dict[extended_coor]  # get the fasta file linked to the extended coordinates\n",
    "        \n",
    "        insert_start = len(extended_seq)/2 - 100 # get the start to insert  # figure out where to insert the sequence\n",
    "        \n",
    "        null4096 = seqInsert(extended_seq.lower(), insert_start, null_seq.upper())  # insert the 200bp MPRA tile w/ nullomer variants into sequence\n",
    "        \n",
    "        extended_nullseqs[key]=null4096  # add to the collection dictionary along with original key\n",
    "        \n",
    "    \n",
    "    return extended_nullseqs, extended_seq"
   ]
  },
  {
   "cell_type": "code",
   "execution_count": 18,
   "id": "8eab174b",
   "metadata": {
    "ExecuteTime": {
     "end_time": "2023-04-25T19:50:24.949795Z",
     "start_time": "2023-04-25T19:50:24.942878Z"
    },
    "code_folding": [
     0
    ]
   },
   "outputs": [],
   "source": [
    "def prettifySeq(original, mut):\n",
    "    \"\"\"\n",
    "    prettify sequence. \n",
    "        All matching bases will be written as \".\"\n",
    "        All non matching bases will be written w mutated base identity. \n",
    "    \"\"\"\n",
    "    prettyseq = \"\"\n",
    "    for o, m in zip(original, mut):\n",
    "        if o != m:\n",
    "            prettyseq += m\n",
    "        else:\n",
    "            prettyseq += \".\"\n",
    "\n",
    "    return prettyseq"
   ]
  },
  {
   "cell_type": "markdown",
   "id": "19a05b86",
   "metadata": {},
   "source": [
    "# need to cross over from hs1 to hg38\n",
    "find coordinates in hs1, map back to hg38, and perform sequence scan/ insertion on hg38 build"
   ]
  },
  {
   "cell_type": "code",
   "execution_count": 19,
   "id": "a16e3a3e",
   "metadata": {
    "ExecuteTime": {
     "end_time": "2023-04-25T19:50:25.811365Z",
     "start_time": "2023-04-25T19:50:25.806091Z"
    }
   },
   "outputs": [],
   "source": [
    "hs1 = \"/wynton/home/ahituv/fongsl/MPRA/agarwal_2023/joint_library.liftOver.to.hs1.bed\"\n",
    "hg38 = \"/wynton/home/ahituv/fongsl/MPRA/agarwal_2023/joint_library.bed\""
   ]
  },
  {
   "cell_type": "code",
   "execution_count": 32,
   "id": "514e690c",
   "metadata": {
    "ExecuteTime": {
     "end_time": "2023-04-25T21:17:19.914523Z",
     "start_time": "2023-04-25T19:59:02.304896Z"
    }
   },
   "outputs": [
    {
     "name": "stdout",
     "output_type": "stream",
     "text": [
      "\n",
      "kmer\n",
      " AAAAATACGACCCGG\n",
      "\n",
      "the nullomer sequence\n",
      " AACGATACGACCCGG \n",
      "\n",
      "inserted\n",
      " {'chr11:92075083-92075283_null-0.5': 'agtagAACGATACGACCCGGcattggtccaagctgggacctgaagactttatcgctcaagcaccatggagctcccgtaataactactgtggtgtgccaccagatggcctcacttcaggactgcagcaccgatggcaggctgctcaatgtgttggcaactgcattagtttcccaggactaccctaacgaaataccacatat'}\n",
      "\n",
      "4096 w/ null sequence\n",
      " {'chr11:92075083-92075283_null-0.5': 'taaatacacaatggaattggggaacagaatgggacaagaagcagctcagcaaaggtgagatccctggcaaaatcctgctaagagtagctagctccagactgaagccttaaggaaagttactaccagatttcccttaccttaaacagtgagatctggactctcacaatcctgcctcctcccgacttaggaaataaattccaggcacttctggacttctgagaggacatgagaaatgaagtatagtaaaaggaaacatggggtatctgagtcaaacaccatctaagagattgatctactttcctgaaagagaaattttagtagagacttgacatatttctttcgggacacttgtttttattttgcagcatagattttccttcagaagatctttactgagcacctactatgtgcttgtactgaatctgtgctgctgtgttatgtggtttgcagcaagggatggaatttgggcctttctacactaagttgtatggttcctttaatgggtgtgagtgtatatacaatccaaagatgaaaatgtgcaaataatgaaggtctttaatcatgccttcaatatccatttaacaattacctatttcaaactcaaagcctgagtatttacctgaagtgcagtttataaaaacaagtggttttcatcctgcctctgaccagaaataaaaattttgcaattcaaattctgatgacaatttagtgttaacatgagtgagataacagattcctcctctcccactgttctgttaatggaagaagaatgtagctaatacccacaagttgcatgaaaaagacaagagtgtcatgtaatctgatttcatataccccctggctctaagttttgtgggtgacaacaaaaaaaagcttcttcaatctccagtgtagttcatcctgttagtgttgagacgacagaaataagtcacagagacacatcacctgcttttgtaaagctatgcaaaatccaaagataatacagaagatgcatgtagtcctagcaaacatcgacctgaaatgatttgaatttatccccatttctcttctatcctgaaggaattgctcattaaaaatttactctgggccgggcacggtggctcatgcctgtaatcccagcactttgggaggccgaggcgggtggatcactttgaggtcaggagtttgagaccagcctggccaacatgataaaaccccgtgcctactaaaaatacgaaaattagctgggcatggtggcgcaggcctgtagtcccagctattcgcgaagctgaggcaggagaatcgcttgaacccaggaggcagaggtggttgcagtgagccaaggttgtgctgctgcactccagcctgggcgacagagtgtgaccctgtttcaaaaaaaaaaaaaaaaaagaaagaaaaacaaatttactctgaacaagattgtgacacaatttctttcttttcttttatttcttttttcttttctttctttctttctctctctctttctttcttctttagagacagggtcttgccatgttgcctaggctggtctcaaactcctgagttcaagtaatcctactttctcagcctcctgagtagctggagctataggcacatgccattgcacccgacttaaagattttttattctttatttttggtacctccttccttcttcatagccaggactactgatttgttcaaaatctcatttccttgaacaagctgttcaatagaacagtggtagtaagccccaaaacagtcctagcctgacttgaaacccttctctataaatattcctcttttctagggcacttcagagtaagtatgtttcctgagcatgtgcagatcttctcccttggtcagtttctaaagacaggctcaagacaaccatatatggctgagtgtttcgttgcaaggaggtgtgtggacatcagtaggtgaaagaatgtgtcaatttcctaggtAGTAGAACGATACGACCCGGCATTGGTCCAAGCTGGGACCTGAAGACTTTATCGCTCAAGCACCATGGAGCTCCCGTAATAACTACTGTGGTGTGCCACCAGATGGCCTCACTTCAGGACTGCAGCACCGATGGCAGGCTGCTCAATGTGTTGGCAACTGCATTAGTTTCCCAGGACTACCCTAACGAAATACCACATATtgagtgacttaaataacaaaaatgtgttgtctcacagctctggaggatagaagttcaaaatcagggtgtcagcagggttggctccttctgagggatgggagggccgaaaatctgtcacatgcttttctccttggcttgtaggtggcattctcccttgtcttcacatcatcctccctctacagatgtatgtctctgtgtccattctccccttttttattggattaggggacatcctaatgacatctttatttgatcacctgcaaaagccttatttccaagtaaagtcacattcacaagtttcaggggttaggatttcaatatctttttagggaacacaatgtagcccacaatggcaactaagagctcacagataaatctcctcccaagcttgccctcagctgaagagagccacctctcccaagtcattccttttccctgtgttaacccacatcctaaaactggtcactgagtgtgatatcaaggcctgaacactctaccctggttcgggacaattctgcagggatatcccagctccaaaatttcatataagctggtacagacatctgtctggtccttcttctttcaccttccccatagacattactggaaaacataccccaataaagtttctgcaggcaactatccaaatcagaatctgcttcctgagtcacaccacttgtagtagcacttctctgagcttgctctgtgccagatactgaagaccaaaaacaacaagacatatcctaacctctgaagccttccacaatatcagaagacattattaagtacagaaagaaaggttttcgtcacacataatctgcctttgaaacctttatttcctattgtatgacttgtttatcttactccctcctctcccaaatcttaaccaataatcatatcctccatcttttttttgcaaaatctgcttcttgaatgaaaaaataaagaggacaaactattgtcaattaagcataactatgagctagacatttgtatatgtgatctcatttaattctctcaacagctctattgccttcacattacaaatggagaaacggagattctatgaggatcaataaggactcagctcatctggcttataacagacccagcaaggatgaaaaccccagggcttttgattccagagcgtgggctctttctatcacaccagtggttcccagacacatatgccacaggccaatcaattaaaagcaaacaaaaaattggcaaacagaagtagagctaacaactttggattttgccaggaatataaaaaagtaaaagcttcagtcttctaccaccaccatttcataataaaatgaacacttcaacccagaaaactttgcaaatatcaaatctcaaaacagaagattagcacttacaattgaattaattcagcttcgtgaaaaatataccacattgcacttcattttactcattttgcaacagacttgtgaaatttttttcaagaactggtagagctcttggaaaggaaaaaaaaaaaaaatttggacatccctaaaaggtctgggttttattcacactaaagtgtaaatgacctcttcaggttagttagcaaaatatgttgaatatctaagaagatgtatctaagtcagtgttgatatgatccaacataactaaagactacatgggaatgccattatacttttcaagaaacaaagcaaaagttaaaaaaaaaatcgtatttttaacttggctattttttccccagatttcagatctctcttagaagtcaaaagctggcaagggtccaatttccaatgagaaggtttttctttggccatatccattctcattcaaattccctataaaagttacagtcaacaatttttattttaccatcagttacctttggtagggaaatagttagaattcacatgctaataactgaaatcttgtaaaatgccagctccgtgtttgaaatgtac'}\n",
      "\n",
      " pretty 4096 ...................................................................................................................................................................................................................................................................................................................................................................................................................................................................................................................................................................................................................................................................................................................................................................................................................................................................................................................................................................................................................................................................................................................................................................................................................................................................................................................................................................................................................................................................................................................................................................................................................................................................................................................................................................................................................................................................................................................................................................................................................................CG............................................................................................................................................................................................................................................................................................................................................................................................................................................................................................................................................................................................................................................................................................................................................................................................................................................................................................................................................................................................................................................................................................................................................................................................................................................................................................................................................................................................................................................................................................................................................................................................................................................................................................................................................................................................................................................................................................................................................................................................................................................................................................................................................................................................................................\n"
     ]
    }
   ],
   "source": [
    "fa_dict = faToDict(FA)\n",
    "fa_ex_dict = faToDict(FA_EXT_BED)\n",
    "joint_bedex=mapBed(BED_HS1, EXTENDED)\n",
    "\n",
    "\n",
    "v, partial = 0, 0\n",
    "issues = []\n",
    "F = TSV_MUT\n",
    "with open(F, \"r\") as reader:\n",
    "    out = F.strip(\".tsv\") + \".ext4096.fa\"\n",
    "    \n",
    "    for line in reader:\n",
    "        if \"matched_seq\" not in line:\n",
    "            kmer, n, gc, null, nnull, gcnull, pretty, seq_id, coor = line.strip(\"\\n\").split('\\t')\n",
    "            #print(kmer, n, gc, null, nnull, gcnull, pretty, seq_id, coor)\n",
    "\n",
    "            # fa linked to regions (linked to kmer)\n",
    "            region_fa = fa_dict[coor]\n",
    "            region_id = coor + \"_\" + seq_id\n",
    "            \n",
    "            # get sequences w/ nulls inserted.  \n",
    "            nulls = findKmerInsertNull(kmer, null, region_fa, region_id)\n",
    "\n",
    "            # insert 200bp null sequence into the 4096 sequence\n",
    "            null_inserts, original_seq = insert4096(nulls, joint_bedex, fa_ex_dict, coor)\n",
    "\n",
    "            if v == 1:\n",
    "                print(\"\\nkmer\\n\", kmer)\n",
    "                print(\"\\nthe nullomer sequence\\n\", null, \"\\n\\ninserted\\n\", nulls)\n",
    "                print(\"\\n4096 w/ null sequence\\n\", null_inserts)\n",
    "                print(\"\\n pretty 4096\", prettifySeq(original_seq.upper(), list(null_inserts.values())[0].upper()))\n",
    "\n",
    "            if v==0:\n",
    "                # open writer\n",
    "                writer = open(F.strip(\".tsv\") + f\".ext4096.{partial}.fa\", \"w\")\n",
    "                \n",
    "            # write original row\n",
    "            if len(original_seq)>=4095:\n",
    "            \n",
    "                #writer.write(f\">{region_id}\\n{original_seq.upper()}\\n\")\n",
    "\n",
    "                # write nullomers\n",
    "                for null_seqname, null_seq in null_inserts.items():\n",
    "                    writer.write(f\">{null_seqname}\\n{null_seq.upper()}\\n\")\n",
    "                v+=1\n",
    "\n",
    "            else:\n",
    "                #print(\"ISSUES\", name, region_str, len(original_seq))\n",
    "                issues.append(region_id)\n",
    "                continue\n",
    "\n",
    "            if v%999==0:\n",
    "                # finish writing the 100th sequence, close the file, then write a new file for the next 100 lines\n",
    "                writer.close()\n",
    "                partial +=1\n",
    "                writer = open(F.strip(\".tsv\") + f\".ext4096.{partial}.fa\", \"w\")\n",
    "\n",
    "\n",
    "writer.close()"
   ]
  },
  {
   "cell_type": "code",
   "execution_count": 36,
   "id": "cab4632b",
   "metadata": {
    "ExecuteTime": {
     "end_time": "2023-04-25T21:32:46.605929Z",
     "start_time": "2023-04-25T21:32:46.598723Z"
    }
   },
   "outputs": [
    {
     "data": {
      "text/plain": [
       "1232.1875"
      ]
     },
     "execution_count": 36,
     "metadata": {},
     "output_type": "execute_result"
    }
   ],
   "source": [
    "len(issues)/32"
   ]
  },
  {
   "cell_type": "code",
   "execution_count": 37,
   "id": "12a22bbe",
   "metadata": {
    "ExecuteTime": {
     "end_time": "2023-04-25T21:32:50.884119Z",
     "start_time": "2023-04-25T21:32:50.877998Z"
    }
   },
   "outputs": [
    {
     "data": {
      "text/plain": [
       "1212"
      ]
     },
     "execution_count": 37,
     "metadata": {},
     "output_type": "execute_result"
    }
   ],
   "source": [
    "partial"
   ]
  },
  {
   "cell_type": "markdown",
   "id": "500b2244",
   "metadata": {},
   "source": [
    "# predict w sei"
   ]
  },
  {
   "cell_type": "code",
   "execution_count": 38,
   "id": "8221ffe2",
   "metadata": {
    "ExecuteTime": {
     "end_time": "2023-04-25T21:32:53.397021Z",
     "start_time": "2023-04-25T21:32:53.387648Z"
    }
   },
   "outputs": [],
   "source": [
    "def launchSei(file, build, qsub):\n",
    "    \n",
    "    SEIDIR = os.path.join(os.path.split(file)[0], \"sei_predictions\")\n",
    "    \n",
    "    if os.path.exists(SEIDIR) is False:\n",
    "        os.mkdir(SEIDIR)\n",
    "    print(SEIDIR)\n",
    "    \n",
    "    if qsub is True:\n",
    "        SCRIPT = \"/wynton/home/ahituv/fongsl/nullomers/bin-lock/interpret_sei_array.sh\"\n",
    "        cmd = ['qsub',\n",
    "           SCRIPT, \n",
    "           build, \n",
    "           SEIDIR\n",
    "          ]\n",
    "        \n",
    "    else:\n",
    "        SCRIPT = \"/wynton/home/ahituv/fongsl/bin/sei-framework/sarah_scripts/launch_qsub.py\"\n",
    "\n",
    "        cmd = ['python',\n",
    "           SCRIPT, \n",
    "           file, \n",
    "           build, \n",
    "           SEIDIR\n",
    "          ]\n",
    "    \n",
    "    sp.call(\" \".join(cmd), shell=True)"
   ]
  },
  {
   "cell_type": "markdown",
   "id": "2609e882",
   "metadata": {},
   "source": [
    "## launch sei"
   ]
  },
  {
   "cell_type": "code",
   "execution_count": 39,
   "id": "204968a7",
   "metadata": {
    "ExecuteTime": {
     "end_time": "2023-04-25T21:32:56.616502Z",
     "start_time": "2023-04-25T21:32:56.594038Z"
    }
   },
   "outputs": [
    {
     "name": "stdout",
     "output_type": "stream",
     "text": [
      "1213\n"
     ]
    }
   ],
   "source": [
    "fs = glob.glob(f\"/wynton/home/ahituv/fongsl/nullomers/data/lock/common/common.{MER}mers.2mut.nulls.fo.pam.ext4096.*.fa\")\n",
    "print(len(fs))"
   ]
  },
  {
   "cell_type": "code",
   "execution_count": 40,
   "id": "3fa06ad6",
   "metadata": {
    "ExecuteTime": {
     "end_time": "2023-04-25T21:33:26.133094Z",
     "start_time": "2023-04-25T21:33:11.459511Z"
    }
   },
   "outputs": [
    {
     "name": "stdout",
     "output_type": "stream",
     "text": [
      "/wynton/home/ahituv/fongsl/nullomers/data/lock/common/sei_predictions\n",
      "Your job 2825756 (\"interpret_sei.sh\") has been submitted\n",
      "/wynton/home/ahituv/fongsl/nullomers/data/lock/common/sei_predictions\n",
      "Your job 2825757 (\"interpret_sei.sh\") has been submitted\n",
      "/wynton/home/ahituv/fongsl/nullomers/data/lock/common/sei_predictions\n",
      "Your job 2825758 (\"interpret_sei.sh\") has been submitted\n",
      "/wynton/home/ahituv/fongsl/nullomers/data/lock/common/sei_predictions\n",
      "Your job 2825760 (\"interpret_sei.sh\") has been submitted\n",
      "/wynton/home/ahituv/fongsl/nullomers/data/lock/common/sei_predictions\n",
      "Your job 2825762 (\"interpret_sei.sh\") has been submitted\n",
      "/wynton/home/ahituv/fongsl/nullomers/data/lock/common/sei_predictions\n",
      "Your job 2825764 (\"interpret_sei.sh\") has been submitted\n",
      "/wynton/home/ahituv/fongsl/nullomers/data/lock/common/sei_predictions\n",
      "Your job 2825766 (\"interpret_sei.sh\") has been submitted\n",
      "/wynton/home/ahituv/fongsl/nullomers/data/lock/common/sei_predictions\n",
      "Your job 2825768 (\"interpret_sei.sh\") has been submitted\n",
      "/wynton/home/ahituv/fongsl/nullomers/data/lock/common/sei_predictions\n",
      "Your job 2825770 (\"interpret_sei.sh\") has been submitted\n",
      "/wynton/home/ahituv/fongsl/nullomers/data/lock/common/sei_predictions\n",
      "Your job 2825772 (\"interpret_sei.sh\") has been submitted\n",
      "/wynton/home/ahituv/fongsl/nullomers/data/lock/common/sei_predictions\n",
      "Your job 2825774 (\"interpret_sei.sh\") has been submitted\n"
     ]
    }
   ],
   "source": [
    "qsub = False\n",
    "for n, out in enumerate(fs):\n",
    "    launchSei(out, \"hs1\", qsub)\n",
    "    if n %10 == 0 and n>0:\n",
    "        break\n",
    "        #time.sleep(60*60)"
   ]
  },
  {
   "cell_type": "code",
   "execution_count": 29,
   "id": "6ec93165",
   "metadata": {
    "ExecuteTime": {
     "end_time": "2023-04-24T19:10:59.376627Z",
     "start_time": "2023-04-24T19:10:59.139669Z"
    }
   },
   "outputs": [
    {
     "name": "stdout",
     "output_type": "stream",
     "text": [
      "/wynton/home/ahituv/fongsl/nullomers/data/lock/common/sei_predictions\n",
      "Your job 2728544 (\"interpret_sei.sh\") has been submitted\n"
     ]
    }
   ],
   "source": [
    "launchSei(out, \"hs1\", qsub)"
   ]
  },
  {
   "cell_type": "code",
   "execution_count": 18,
   "id": "3b095671",
   "metadata": {
    "ExecuteTime": {
     "end_time": "2023-04-24T18:38:55.719584Z",
     "start_time": "2023-04-24T18:38:55.696601Z"
    }
   },
   "outputs": [
    {
     "data": {
      "text/plain": [
       "1252.1081081081081"
      ]
     },
     "execution_count": 18,
     "metadata": {},
     "output_type": "execute_result"
    }
   ],
   "source": [
    "1250856/999"
   ]
  },
  {
   "cell_type": "code",
   "execution_count": 5,
   "id": "eb47ea49",
   "metadata": {
    "ExecuteTime": {
     "end_time": "2023-04-25T19:31:32.405885Z",
     "start_time": "2023-04-25T19:31:32.397424Z"
    }
   },
   "outputs": [
    {
     "data": {
      "text/plain": [
       "6.065"
      ]
     },
     "execution_count": 5,
     "metadata": {},
     "output_type": "execute_result"
    }
   ],
   "source": [
    "1213/200"
   ]
  },
  {
   "cell_type": "code",
   "execution_count": null,
   "id": "4f2788f4",
   "metadata": {},
   "outputs": [],
   "source": []
  }
 ],
 "metadata": {
  "kernelspec": {
   "display_name": "Python (wynenv)",
   "language": "python",
   "name": "wynenv"
  },
  "language_info": {
   "codemirror_mode": {
    "name": "ipython",
    "version": 3
   },
   "file_extension": ".py",
   "mimetype": "text/x-python",
   "name": "python",
   "nbconvert_exporter": "python",
   "pygments_lexer": "ipython3",
   "version": "3.10.8"
  },
  "toc": {
   "base_numbering": 1,
   "nav_menu": {},
   "number_sections": true,
   "sideBar": true,
   "skip_h1_title": false,
   "title_cell": "Table of Contents",
   "title_sidebar": "Contents",
   "toc_cell": false,
   "toc_position": {},
   "toc_section_display": true,
   "toc_window_display": false
  },
  "varInspector": {
   "cols": {
    "lenName": 16,
    "lenType": 16,
    "lenVar": 40
   },
   "kernels_config": {
    "python": {
     "delete_cmd_postfix": "",
     "delete_cmd_prefix": "del ",
     "library": "var_list.py",
     "varRefreshCmd": "print(var_dic_list())"
    },
    "r": {
     "delete_cmd_postfix": ") ",
     "delete_cmd_prefix": "rm(",
     "library": "var_list.r",
     "varRefreshCmd": "cat(var_dic_list()) "
    }
   },
   "types_to_exclude": [
    "module",
    "function",
    "builtin_function_or_method",
    "instance",
    "_Feature"
   ],
   "window_display": false
  }
 },
 "nbformat": 4,
 "nbformat_minor": 5
}
