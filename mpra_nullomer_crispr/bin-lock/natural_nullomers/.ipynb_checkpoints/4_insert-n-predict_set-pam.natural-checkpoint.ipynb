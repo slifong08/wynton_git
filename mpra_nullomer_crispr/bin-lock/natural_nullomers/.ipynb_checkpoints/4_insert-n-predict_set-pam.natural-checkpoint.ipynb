{
 "cells": [
  {
   "cell_type": "code",
   "execution_count": 2,
   "id": "c329dc00",
   "metadata": {
    "ExecuteTime": {
     "end_time": "2023-04-25T19:30:46.738322Z",
     "start_time": "2023-04-25T19:30:37.887131Z"
    }
   },
   "outputs": [],
   "source": [
    "from Bio.SeqIO.FastaIO import SimpleFastaParser\n",
    "import config_readwrite as crw\n",
    "\n",
    "import glob\n",
    "import gzip\n",
    "import numpy as np\n",
    "import os, sys\n",
    "import pandas as pd\n",
    "import subprocess as sp\n",
    "import time"
   ]
  },
  {
   "cell_type": "markdown",
   "id": "cc693a10",
   "metadata": {},
   "source": [
    "# find coordinates of kmers"
   ]
  },
  {
   "cell_type": "code",
   "execution_count": 3,
   "id": "10fd26fd",
   "metadata": {
    "ExecuteTime": {
     "end_time": "2023-04-25T19:30:46.777788Z",
     "start_time": "2023-04-25T19:30:46.752160Z"
    }
   },
   "outputs": [],
   "source": [
    "CL, MER, NMUTS, BUILD, FO_ONLY = \"common\", \"15\", \"2\", \"hs1\", True\n",
    "config, cfn = crw.read(os.path.join(os.getcwd(), \"config.ini\"))"
   ]
  },
  {
   "cell_type": "code",
   "execution_count": 11,
   "id": "88619b22",
   "metadata": {
    "ExecuteTime": {
     "end_time": "2023-04-25T19:50:20.640050Z",
     "start_time": "2023-04-25T19:50:20.632970Z"
    }
   },
   "outputs": [],
   "source": [
    "#FA_MUT =  config[f\"common.{MER}mer.{NMUTS}mut\"][\"fa_fo-true\"]\n",
    "#TSV_MUT =  config[f\"common.{MER}mer.{NMUTS}mut\"][\"tsv_fo-true\"]\n",
    "TSV_MUT= f'/wynton/home/ahituv/fongsl/nullomers/data/lock/common/common.{MER}mers.2mut.nulls.fo.pam.tsv'\n",
    "#FA_MUT = '/wynton/home/ahituv/fongsl/nullomers/data/lock/common/_common.14mers.2mut.nulls.fo.fa'\n",
    "\n",
    "BED_HS1 = config[CL][\"lifted_hs1\"]\n",
    "BED_HG38 = config[CL][\"bed\"]\n",
    "FA_EXT_BED = config[CL][\"fa_extended_hhg38\"]\n",
    "EXTENDED = config[CL][\"bed_extended_hg38\"]\n",
    "FA = config[CL][\"fasta\"]"
   ]
  },
  {
   "cell_type": "code",
   "execution_count": 12,
   "id": "5cf119fc",
   "metadata": {
    "ExecuteTime": {
     "end_time": "2023-04-25T19:50:21.096761Z",
     "start_time": "2023-04-25T19:50:21.089534Z"
    }
   },
   "outputs": [],
   "source": [
    "def faToDict(fa_file):\n",
    "    \"\"\"\n",
    "    turn all the fa coordinates into a dictionary. \n",
    "    \"\"\"\n",
    "\n",
    "    fa_dict = {}\n",
    "    with open(fa_file, \"r\") as fasta_reader:\n",
    "        for values in SimpleFastaParser(fasta_reader):\n",
    "            \n",
    "            name, seq = values\n",
    "            fa_dict[name] = seq\n",
    "            \n",
    "    return fa_dict"
   ]
  },
  {
   "cell_type": "code",
   "execution_count": 13,
   "id": "70aee91d",
   "metadata": {
    "ExecuteTime": {
     "end_time": "2023-04-25T19:50:21.561324Z",
     "start_time": "2023-04-25T19:50:21.553200Z"
    }
   },
   "outputs": [],
   "source": [
    "def dissectFaId(line):\n",
    "    \"\"\"\n",
    "    dissect mutated fa id line for kmer, nullomer information, and get the coordinate file\n",
    "    \"\"\"\n",
    "    # process the line\n",
    "    kmer, chr_, coor, strand, id_ = line.strip('\\n').strip(\">\").split(\".\")\n",
    "            \n",
    "    # get key and value sequence to look up\n",
    "    key, value_seq = kmer[:5], kmer[5:]\n",
    "\n",
    "    bed_coor = chr_ + \":\" + coor\n",
    "    \n",
    "    region_str = \".\".join([kmer, bed_coor, strand, id_]) #TACCCATTCGAGTC.chr1.100333924-100334124.fwd\n",
    "    \n",
    "    \n",
    "    return kmer, key, value_seq, bed_coor, region_str"
   ]
  },
  {
   "cell_type": "code",
   "execution_count": 14,
   "id": "09d9bad8",
   "metadata": {
    "ExecuteTime": {
     "end_time": "2023-04-25T19:50:22.247740Z",
     "start_time": "2023-04-25T19:50:22.240783Z"
    },
    "code_folding": [
     0
    ]
   },
   "outputs": [],
   "source": [
    "def seqInsert(seq, insert_start, insert_seq):\n",
    "    \"\"\"\n",
    "    insert sequence fragment (insert_seq) at position (insert_start) within full sequence (seq)\n",
    "    \n",
    "    return inserted sequence. \n",
    "    \"\"\"\n",
    "\n",
    "    insert_size = len(insert_seq)\n",
    "    \n",
    "    insert_end = insert_start + insert_size  # find center end\n",
    "\n",
    "    return seq[:int(insert_start)] + insert_seq + seq[int(insert_end):]"
   ]
  },
  {
   "cell_type": "code",
   "execution_count": 15,
   "id": "389fa034",
   "metadata": {
    "ExecuteTime": {
     "end_time": "2023-04-25T19:50:22.905425Z",
     "start_time": "2023-04-25T19:50:22.896720Z"
    },
    "code_folding": []
   },
   "outputs": [],
   "source": [
    "def findKmerInsertNull(kmer, null, fa_sequence, region_id):\n",
    "    \n",
    "    \"\"\"\n",
    "    return positions where the nullomer is in fa sequence\n",
    "    \"\"\"\n",
    "    pos = {}\n",
    "    kmerlen = len(kmer)\n",
    "        \n",
    "    nwindows = len(fa_sequence) - kmerlen + 1\n",
    "\n",
    "    for n in np.arange(nwindows):\n",
    "\n",
    "        start, stop = n, n+kmerlen\n",
    "        snippet = fa_sequence[start:stop]\n",
    "        if kmer.upper() == snippet.upper():\n",
    "            null_insert = seqInsert(fa_sequence.lower(), start, null.upper())  # insert the nullomer sequence into the sequence\n",
    "\n",
    "            pos[f\"{region_id}.{start}\"] = null_insert\n",
    "    return pos"
   ]
  },
  {
   "cell_type": "code",
   "execution_count": 16,
   "id": "48fbf5ba",
   "metadata": {
    "ExecuteTime": {
     "end_time": "2023-04-25T19:50:23.586425Z",
     "start_time": "2023-04-25T19:50:23.576733Z"
    },
    "code_folding": [
     0
    ]
   },
   "outputs": [],
   "source": [
    "def mapBed(bedfile, expandedfile):\n",
    "\n",
    "    bed = pd.read_csv(bedfile, sep='\\t', header=None, names =[\"#chr\", \"start\", \"end\", \"strand\", \"id\"])  \n",
    "    bed[\"coor\"] = bed[\"#chr\"] +\":\"+bed[\"start\"].map(str) + \"-\" + bed[\"end\"].map(str)\n",
    "\n",
    "    ext = pd.read_csv(expandedfile, sep='\\t', header=None, names =[\"#chr_e\", \"start_e\", \"end_e\", \"id\"])\n",
    "    ext[\"coor_e\"] = ext[\"#chr_e\"] +\":\"+ext[\"start_e\"].map(str) + \"-\" + ext[\"end_e\"].map(str)\n",
    "\n",
    "    joint = pd.merge(ext[[\"id\", \"coor_e\"]], bed[[\"id\", \"coor\"]])\n",
    "    \n",
    "    return joint"
   ]
  },
  {
   "cell_type": "code",
   "execution_count": 17,
   "id": "66339083",
   "metadata": {
    "ExecuteTime": {
     "end_time": "2023-04-25T19:50:24.156371Z",
     "start_time": "2023-04-25T19:50:24.148585Z"
    },
    "code_folding": []
   },
   "outputs": [],
   "source": [
    "def insert4096(nulls_dict, joint_bedex, fa_ex_dict, coor):\n",
    "    \n",
    "    extended_nullseqs = {}\n",
    "    \n",
    "    for key, null_seq in nulls_dict.items():\n",
    "        \n",
    "        extended_coor = joint_bedex.loc[joint_bedex[\"coor\"]==coor, \"coor_e\"].iloc[0] # extend the coordinates to 4096\n",
    "        \n",
    "        extended_seq = fa_ex_dict[extended_coor]  # get the fasta file linked to the extended coordinates\n",
    "        \n",
    "        insert_start = len(extended_seq)/2 - 100 # get the start to insert  # figure out where to insert the sequence\n",
    "        \n",
    "        null4096 = seqInsert(extended_seq.lower(), insert_start, null_seq.upper())  # insert the 200bp MPRA tile w/ nullomer variants into sequence\n",
    "        \n",
    "        extended_nullseqs[key]=null4096  # add to the collection dictionary along with original key\n",
    "        \n",
    "    \n",
    "    return extended_nullseqs, extended_seq"
   ]
  },
  {
   "cell_type": "code",
   "execution_count": 18,
   "id": "6569e5b3",
   "metadata": {
    "ExecuteTime": {
     "end_time": "2023-04-25T19:50:24.949795Z",
     "start_time": "2023-04-25T19:50:24.942878Z"
    },
    "code_folding": [
     0
    ]
   },
   "outputs": [],
   "source": [
    "def prettifySeq(original, mut):\n",
    "    \"\"\"\n",
    "    prettify sequence. \n",
    "        All matching bases will be written as \".\"\n",
    "        All non matching bases will be written w mutated base identity. \n",
    "    \"\"\"\n",
    "    prettyseq = \"\"\n",
    "    for o, m in zip(original, mut):\n",
    "        if o != m:\n",
    "            prettyseq += m\n",
    "        else:\n",
    "            prettyseq += \".\"\n",
    "\n",
    "    return prettyseq"
   ]
  },
  {
   "cell_type": "markdown",
   "id": "4da5397b",
   "metadata": {},
   "source": [
    "# need to cross over from hs1 to hg38\n",
    "find coordinates in hs1, map back to hg38, and perform sequence scan/ insertion on hg38 build"
   ]
  },
  {
   "cell_type": "code",
   "execution_count": 19,
   "id": "f2fbabc3",
   "metadata": {
    "ExecuteTime": {
     "end_time": "2023-04-25T19:50:25.811365Z",
     "start_time": "2023-04-25T19:50:25.806091Z"
    }
   },
   "outputs": [],
   "source": [
    "hs1 = \"/wynton/home/ahituv/fongsl/MPRA/agarwal_2023/joint_library.liftOver.to.hs1.bed\"\n",
    "hg38 = \"/wynton/home/ahituv/fongsl/MPRA/agarwal_2023/joint_library.bed\""
   ]
  },
  {
   "cell_type": "code",
   "execution_count": 32,
   "id": "4da139a6",
   "metadata": {
    "ExecuteTime": {
     "end_time": "2023-04-25T21:17:19.914523Z",
     "start_time": "2023-04-25T19:59:02.304896Z"
    }
   },
   "outputs": [
    {
     "name": "stdout",
     "output_type": "stream",
     "text": [
      "\n",
      "kmer\n",
      " AAAAATACGACCCGG\n",
      "\n",
      "the nullomer sequence\n",
      " AACGATACGACCCGG \n",
      "\n",
      "inserted\n",
      " {'chr11:92075083-92075283_null-0.5': 'agtagAACGATACGACCCGGcattggtccaagctgggacctgaagactttatcgctcaagcaccatggagctcccgtaataactactgtggtgtgccaccagatggcctcacttcaggactgcagcaccgatggcaggctgctcaatgtgttggcaactgcattagtttcccaggactaccctaacgaaataccacatat'}\n",
      "\n",
      "4096 w/ null sequence\n",
      " {'chr11:92075083-92075283_null-0.5': 'taaatacacaatggaattggggaacagaatgggacaagaagcagctcagcaaaggtgagatccctggcaaaatcctgctaagagtagctagctccagactgaagccttaaggaaagttactaccagatttcccttaccttaaacagtgagatctggactctcacaatcctgcctcctcccgacttaggaaataaattccaggcacttctggacttctgagaggacatgagaaatgaagtatagtaaaaggaaacatggggtatctgagtcaaacaccatctaagagattgatctactttcctgaaagagaaattttagtagagacttgacatatttctttcgggacacttgtttttattttgcagcatagattttccttcagaagatctttactgagcacctactatgtgcttgtactgaatctgtgctgctgtgttatgtggtttgcagcaagggatggaatttgggcctttctacactaagttgtatggttcctttaatgggtgtgagtgtatatacaatccaaagatgaaaatgtgcaaataatgaaggtctttaatcatgccttcaatatccatttaacaattacctatttcaaactcaaagcctgagtatttacctgaagtgcagtttataaaaacaagtggttttcatcctgcctctgaccagaaataaaaattttgcaattcaaattctgatgacaatttagtgttaacatgagtgagataacagattcctcctctcccactgttctgttaatggaagaagaatgtagctaatacccacaagttgcatgaaaaagacaagagtgtcatgtaatctgatttcatataccccctggctctaagttttgtgggtgacaacaaaaaaaagcttcttcaatctccagtgtagttcatcctgttagtgttgagacgacagaaataagtcacagagacacatcacctgcttttgtaaagctatgcaaaatccaaagataatacagaagatgcatgtagtcctagcaaacatcgacctgaaatgatttgaatttatccccatttctcttctatcctgaaggaattgctcattaaaaatttactctgggccgggcacggtggctcatgcctgtaatcccagcactttgggaggccgaggcgggtggatcactttgaggtcaggagtttgagaccagcctggccaacatgataaaaccccgtgcctactaaaaatacgaaaattagctgggcatggtggcgcaggcctgtagtcccagctattcgcgaagctgaggcaggagaatcgcttgaacccaggaggcagaggtggttgcagtgagccaaggttgtgctgctgcactccagcctgggcgacagagtgtgaccctgtttcaaaaaaaaaaaaaaaaaagaaagaaaaacaaatttactctgaacaagattgtgacacaatttctttcttttcttttatttcttttttcttttctttctttctttctctctctctttctttcttctttagagacagggtcttgccatgttgcctaggctggtctcaaactcctgagttcaagtaatcctactttctcagcctcctgagtagctggagctataggcacatgccattgcacccgacttaaagattttttattctttatttttggtacctccttccttcttcatagccaggactactgatttgttcaaaatctcatttccttgaacaagctgttcaatagaacagtggtagtaagccccaaaacagtcctagcctgacttgaaacccttctctataaatattcctcttttctagggcacttcagagtaagtatgtttcctgagcatgtgcagatcttctcccttggtcagtttctaaagacaggctcaagacaaccatatatggctgagtgtttcgttgcaaggaggtgtgtggacatcagtaggtgaaagaatgtgtcaatttcctaggtAGTAGAACGATACGACCCGGCATTGGTCCAAGCTGGGACCTGAAGACTTTATCGCTCAAGCACCATGGAGCTCCCGTAATAACTACTGTGGTGTGCCACCAGATGGCCTCACTTCAGGACTGCAGCACCGATGGCAGGCTGCTCAATGTGTTGGCAACTGCATTAGTTTCCCAGGACTACCCTAACGAAATACCACATATtgagtgacttaaataacaaaaatgtgttgtctcacagctctggaggatagaagttcaaaatcagggtgtcagcagggttggctccttctgagggatgggagggccgaaaatctgtcacatgcttttctccttggcttgtaggtggcattctcccttgtcttcacatcatcctccctctacagatgtatgtctctgtgtccattctccccttttttattggattaggggacatcctaatgacatctttatttgatcacctgcaaaagccttatttccaagtaaagtcacattcacaagtttcaggggttaggatttcaatatctttttagggaacacaatgtagcccacaatggcaactaagagctcacagataaatctcctcccaagcttgccctcagctgaagagagccacctctcccaagtcattccttttccctgtgttaacccacatcctaaaactggtcactgagtgtgatatcaaggcctgaacactctaccctggttcgggacaattctgcagggatatcccagctccaaaatttcatataagctggtacagacatctgtctggtccttcttctttcaccttccccatagacattactggaaaacataccccaataaagtttctgcaggcaactatccaaatcagaatctgcttcctgagtcacaccacttgtagtagcacttctctgagcttgctctgtgccagatactgaagaccaaaaacaacaagacatatcctaacctctgaagccttccacaatatcagaagacattattaagtacagaaagaaaggttttcgtcacacataatctgcctttgaaacctttatttcctattgtatgacttgtttatcttactccctcctctcccaaatcttaaccaataatcatatcctccatcttttttttgcaaaatctgcttcttgaatgaaaaaataaagaggacaaactattgtcaattaagcataactatgagctagacatttgtatatgtgatctcatttaattctctcaacagctctattgccttcacattacaaatggagaaacggagattctatgaggatcaataaggactcagctcatctggcttataacagacccagcaaggatgaaaaccccagggcttttgattccagagcgtgggctctttctatcacaccagtggttcccagacacatatgccacaggccaatcaattaaaagcaaacaaaaaattggcaaacagaagtagagctaacaactttggattttgccaggaatataaaaaagtaaaagcttcagtcttctaccaccaccatttcataataaaatgaacacttcaacccagaaaactttgcaaatatcaaatctcaaaacagaagattagcacttacaattgaattaattcagcttcgtgaaaaatataccacattgcacttcattttactcattttgcaacagacttgtgaaatttttttcaagaactggtagagctcttggaaaggaaaaaaaaaaaaaatttggacatccctaaaaggtctgggttttattcacactaaagtgtaaatgacctcttcaggttagttagcaaaatatgttgaatatctaagaagatgtatctaagtcagtgttgatatgatccaacataactaaagactacatgggaatgccattatacttttcaagaaacaaagcaaaagttaaaaaaaaaatcgtatttttaacttggctattttttccccagatttcagatctctcttagaagtcaaaagctggcaagggtccaatttccaatgagaaggtttttctttggccatatccattctcattcaaattccctataaaagttacagtcaacaatttttattttaccatcagttacctttggtagggaaatagttagaattcacatgctaataactgaaatcttgtaaaatgccagctccgtgtttgaaatgtac'}\n",
      "\n",
      " pretty 4096 ...................................................................................................................................................................................................................................................................................................................................................................................................................................................................................................................................................................................................................................................................................................................................................................................................................................................................................................................................................................................................................................................................................................................................................................................................................................................................................................................................................................................................................................................................................................................................................................................................................................................................................................................................................................................................................................................................................................................................................................................................................................CG............................................................................................................................................................................................................................................................................................................................................................................................................................................................................................................................................................................................................................................................................................................................................................................................................................................................................................................................................................................................................................................................................................................................................................................................................................................................................................................................................................................................................................................................................................................................................................................................................................................................................................................................................................................................................................................................................................................................................................................................................................................................................................................................................................................................................................\n"
     ]
    }
   ],
   "source": [
    "fa_dict = faToDict(FA)\n",
    "fa_ex_dict = faToDict(FA_EXT_BED)\n",
    "joint_bedex=mapBed(BED_HS1, EXTENDED)\n",
    "\n",
    "\n",
    "v, partial = 0, 0\n",
    "issues = []\n",
    "F = TSV_MUT\n",
    "with open(F, \"r\") as reader:\n",
    "    out = F.strip(\".tsv\") + \".ext4096.fa\"\n",
    "    \n",
    "    for line in reader:\n",
    "        if \"matched_seq\" not in line:\n",
    "            kmer, n, gc, null, nnull, gcnull, pretty, seq_id, coor = line.strip(\"\\n\").split('\\t')\n",
    "            #print(kmer, n, gc, null, nnull, gcnull, pretty, seq_id, coor)\n",
    "\n",
    "            # fa linked to regions (linked to kmer)\n",
    "            region_fa = fa_dict[coor]\n",
    "            region_id = coor + \"_\" + seq_id\n",
    "            \n",
    "            # get sequences w/ nulls inserted.  \n",
    "            nulls = findKmerInsertNull(kmer, null, region_fa, region_id)\n",
    "\n",
    "            # insert 200bp null sequence into the 4096 sequence\n",
    "            null_inserts, original_seq = insert4096(nulls, joint_bedex, fa_ex_dict, coor)\n",
    "\n",
    "            if v == 1:\n",
    "                print(\"\\nkmer\\n\", kmer)\n",
    "                print(\"\\nthe nullomer sequence\\n\", null, \"\\n\\ninserted\\n\", nulls)\n",
    "                print(\"\\n4096 w/ null sequence\\n\", null_inserts)\n",
    "                print(\"\\n pretty 4096\", prettifySeq(original_seq.upper(), list(null_inserts.values())[0].upper()))\n",
    "\n",
    "            if v==0:\n",
    "                # open writer\n",
    "                writer = open(F.strip(\".tsv\") + f\".ext4096.{partial}.fa\", \"w\")\n",
    "                \n",
    "            # write original row\n",
    "            if len(original_seq)>=4095:\n",
    "            \n",
    "                #writer.write(f\">{region_id}\\n{original_seq.upper()}\\n\")\n",
    "\n",
    "                # write nullomers\n",
    "                for null_seqname, null_seq in null_inserts.items():\n",
    "                    writer.write(f\">{null_seqname}\\n{null_seq.upper()}\\n\")\n",
    "                v+=1\n",
    "\n",
    "            else:\n",
    "                #print(\"ISSUES\", name, region_str, len(original_seq))\n",
    "                issues.append(region_id)\n",
    "                continue\n",
    "\n",
    "            if v%999==0:\n",
    "                # finish writing the 100th sequence, close the file, then write a new file for the next 100 lines\n",
    "                writer.close()\n",
    "                partial +=1\n",
    "                writer = open(F.strip(\".tsv\") + f\".ext4096.{partial}.fa\", \"w\")\n",
    "\n",
    "\n",
    "writer.close()"
   ]
  },
  {
   "cell_type": "code",
   "execution_count": 36,
   "id": "ee08c8d5",
   "metadata": {
    "ExecuteTime": {
     "end_time": "2023-04-25T21:32:46.605929Z",
     "start_time": "2023-04-25T21:32:46.598723Z"
    }
   },
   "outputs": [
    {
     "data": {
      "text/plain": [
       "1232.1875"
      ]
     },
     "execution_count": 36,
     "metadata": {},
     "output_type": "execute_result"
    }
   ],
   "source": [
    "len(issues)/32"
   ]
  },
  {
   "cell_type": "code",
   "execution_count": 37,
   "id": "c7278659",
   "metadata": {
    "ExecuteTime": {
     "end_time": "2023-04-25T21:32:50.884119Z",
     "start_time": "2023-04-25T21:32:50.877998Z"
    }
   },
   "outputs": [
    {
     "data": {
      "text/plain": [
       "1212"
      ]
     },
     "execution_count": 37,
     "metadata": {},
     "output_type": "execute_result"
    }
   ],
   "source": [
    "partial"
   ]
  },
  {
   "cell_type": "markdown",
   "id": "5f80ed72",
   "metadata": {},
   "source": [
    "# predict w sei"
   ]
  },
  {
   "cell_type": "code",
   "execution_count": 38,
   "id": "8dd792ad",
   "metadata": {
    "ExecuteTime": {
     "end_time": "2023-04-25T21:32:53.397021Z",
     "start_time": "2023-04-25T21:32:53.387648Z"
    }
   },
   "outputs": [],
   "source": [
    "def launchSei(file, build, qsub):\n",
    "    \n",
    "    SEIDIR = os.path.join(os.path.split(file)[0], \"sei_predictions\")\n",
    "    \n",
    "    if os.path.exists(SEIDIR) is False:\n",
    "        os.mkdir(SEIDIR)\n",
    "    print(SEIDIR)\n",
    "    \n",
    "    if qsub is True:\n",
    "        SCRIPT = \"/wynton/home/ahituv/fongsl/nullomers/bin-lock/interpret_sei_array.sh\"\n",
    "        cmd = ['qsub',\n",
    "           SCRIPT, \n",
    "           build, \n",
    "           SEIDIR\n",
    "          ]\n",
    "        \n",
    "    else:\n",
    "        SCRIPT = \"/wynton/home/ahituv/fongsl/bin/sei-framework/sarah_scripts/launch_qsub.py\"\n",
    "\n",
    "        cmd = ['python',\n",
    "           SCRIPT, \n",
    "           file, \n",
    "           build, \n",
    "           SEIDIR\n",
    "          ]\n",
    "    \n",
    "    sp.call(\" \".join(cmd), shell=True)"
   ]
  },
  {
   "cell_type": "markdown",
   "id": "bdab6c1b",
   "metadata": {},
   "source": [
    "## launch sei"
   ]
  },
  {
   "cell_type": "code",
   "execution_count": 39,
   "id": "379285fa",
   "metadata": {
    "ExecuteTime": {
     "end_time": "2023-04-25T21:32:56.616502Z",
     "start_time": "2023-04-25T21:32:56.594038Z"
    }
   },
   "outputs": [
    {
     "name": "stdout",
     "output_type": "stream",
     "text": [
      "1213\n"
     ]
    }
   ],
   "source": [
    "fs = glob.glob(f\"/wynton/home/ahituv/fongsl/nullomers/data/lock/common/common.{MER}mers.2mut.nulls.fo.pam.ext4096.*.fa\")\n",
    "print(len(fs))"
   ]
  },
  {
   "cell_type": "code",
   "execution_count": 40,
   "id": "33080392",
   "metadata": {
    "ExecuteTime": {
     "end_time": "2023-04-25T21:33:26.133094Z",
     "start_time": "2023-04-25T21:33:11.459511Z"
    }
   },
   "outputs": [
    {
     "name": "stdout",
     "output_type": "stream",
     "text": [
      "/wynton/home/ahituv/fongsl/nullomers/data/lock/common/sei_predictions\n",
      "Your job 2825756 (\"interpret_sei.sh\") has been submitted\n",
      "/wynton/home/ahituv/fongsl/nullomers/data/lock/common/sei_predictions\n",
      "Your job 2825757 (\"interpret_sei.sh\") has been submitted\n",
      "/wynton/home/ahituv/fongsl/nullomers/data/lock/common/sei_predictions\n",
      "Your job 2825758 (\"interpret_sei.sh\") has been submitted\n",
      "/wynton/home/ahituv/fongsl/nullomers/data/lock/common/sei_predictions\n",
      "Your job 2825760 (\"interpret_sei.sh\") has been submitted\n",
      "/wynton/home/ahituv/fongsl/nullomers/data/lock/common/sei_predictions\n",
      "Your job 2825762 (\"interpret_sei.sh\") has been submitted\n",
      "/wynton/home/ahituv/fongsl/nullomers/data/lock/common/sei_predictions\n",
      "Your job 2825764 (\"interpret_sei.sh\") has been submitted\n",
      "/wynton/home/ahituv/fongsl/nullomers/data/lock/common/sei_predictions\n",
      "Your job 2825766 (\"interpret_sei.sh\") has been submitted\n",
      "/wynton/home/ahituv/fongsl/nullomers/data/lock/common/sei_predictions\n",
      "Your job 2825768 (\"interpret_sei.sh\") has been submitted\n",
      "/wynton/home/ahituv/fongsl/nullomers/data/lock/common/sei_predictions\n",
      "Your job 2825770 (\"interpret_sei.sh\") has been submitted\n",
      "/wynton/home/ahituv/fongsl/nullomers/data/lock/common/sei_predictions\n",
      "Your job 2825772 (\"interpret_sei.sh\") has been submitted\n",
      "/wynton/home/ahituv/fongsl/nullomers/data/lock/common/sei_predictions\n",
      "Your job 2825774 (\"interpret_sei.sh\") has been submitted\n"
     ]
    }
   ],
   "source": [
    "qsub = False\n",
    "for n, out in enumerate(fs):\n",
    "    launchSei(out, \"hs1\", qsub)\n",
    "    if n %10 == 0 and n>0:\n",
    "        break\n",
    "        #time.sleep(60*60)"
   ]
  },
  {
   "cell_type": "code",
   "execution_count": 29,
   "id": "6bc9cac3",
   "metadata": {
    "ExecuteTime": {
     "end_time": "2023-04-24T19:10:59.376627Z",
     "start_time": "2023-04-24T19:10:59.139669Z"
    }
   },
   "outputs": [
    {
     "name": "stdout",
     "output_type": "stream",
     "text": [
      "/wynton/home/ahituv/fongsl/nullomers/data/lock/common/sei_predictions\n",
      "Your job 2728544 (\"interpret_sei.sh\") has been submitted\n"
     ]
    }
   ],
   "source": [
    "launchSei(out, \"hs1\", qsub)"
   ]
  },
  {
   "cell_type": "code",
   "execution_count": 18,
   "id": "a1bbd096",
   "metadata": {
    "ExecuteTime": {
     "end_time": "2023-04-24T18:38:55.719584Z",
     "start_time": "2023-04-24T18:38:55.696601Z"
    }
   },
   "outputs": [
    {
     "data": {
      "text/plain": [
       "1252.1081081081081"
      ]
     },
     "execution_count": 18,
     "metadata": {},
     "output_type": "execute_result"
    }
   ],
   "source": [
    "1250856/999"
   ]
  },
  {
   "cell_type": "code",
   "execution_count": 5,
   "id": "249007d3",
   "metadata": {
    "ExecuteTime": {
     "end_time": "2023-04-25T19:31:32.405885Z",
     "start_time": "2023-04-25T19:31:32.397424Z"
    }
   },
   "outputs": [
    {
     "data": {
      "text/plain": [
       "6.065"
      ]
     },
     "execution_count": 5,
     "metadata": {},
     "output_type": "execute_result"
    }
   ],
   "source": [
    "1213/200"
   ]
  },
  {
   "cell_type": "code",
   "execution_count": null,
   "id": "9e406cca",
   "metadata": {},
   "outputs": [],
   "source": []
  }
 ],
 "metadata": {
  "kernelspec": {
   "display_name": "Python (wynenv)",
   "language": "python",
   "name": "wynenv"
  },
  "language_info": {
   "codemirror_mode": {
    "name": "ipython",
    "version": 3
   },
   "file_extension": ".py",
   "mimetype": "text/x-python",
   "name": "python",
   "nbconvert_exporter": "python",
   "pygments_lexer": "ipython3",
   "version": "3.10.8"
  },
  "toc": {
   "base_numbering": 1,
   "nav_menu": {},
   "number_sections": true,
   "sideBar": true,
   "skip_h1_title": false,
   "title_cell": "Table of Contents",
   "title_sidebar": "Contents",
   "toc_cell": false,
   "toc_position": {},
   "toc_section_display": true,
   "toc_window_display": false
  },
  "varInspector": {
   "cols": {
    "lenName": 16,
    "lenType": 16,
    "lenVar": 40
   },
   "kernels_config": {
    "python": {
     "delete_cmd_postfix": "",
     "delete_cmd_prefix": "del ",
     "library": "var_list.py",
     "varRefreshCmd": "print(var_dic_list())"
    },
    "r": {
     "delete_cmd_postfix": ") ",
     "delete_cmd_prefix": "rm(",
     "library": "var_list.r",
     "varRefreshCmd": "cat(var_dic_list()) "
    }
   },
   "types_to_exclude": [
    "module",
    "function",
    "builtin_function_or_method",
    "instance",
    "_Feature"
   ],
   "window_display": false
  }
 },
 "nbformat": 4,
 "nbformat_minor": 5
}
