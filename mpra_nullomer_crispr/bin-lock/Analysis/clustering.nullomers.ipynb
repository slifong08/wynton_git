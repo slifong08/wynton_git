{
 "cells": [
  {
   "cell_type": "code",
   "execution_count": 1,
   "id": "6f2b29b5",
   "metadata": {
    "ExecuteTime": {
     "end_time": "2023-05-04T15:55:55.390641Z",
     "start_time": "2023-05-04T15:55:48.338497Z"
    }
   },
   "outputs": [],
   "source": [
    "from Bio.Align.Applications import ClustalOmegaCommandline \n",
    "from Bio.Cluster import kcluster \n",
    "\n",
    "import os, sys\n",
    "\n",
    "import numpy as np \n",
    "import pandas as pd\n",
    "from sklearn.cluster import KMeans\n",
    "from sklearn.pipeline import Pipeline\n",
    "from sklearn.model_selection import train_test_split\n",
    "from sklearn.preprocessing import LabelEncoder \n",
    "\n",
    "from sklearn.decomposition import PCA\n",
    "from sklearn.cluster import AgglomerativeClustering\n",
    "\n",
    "from matplotlib import pyplot as plt\n",
    "from scipy.cluster.hierarchy import dendrogram"
   ]
  },
  {
   "cell_type": "code",
   "execution_count": 2,
   "id": "142b754a",
   "metadata": {
    "ExecuteTime": {
     "end_time": "2023-05-04T15:56:18.233406Z",
     "start_time": "2023-05-04T15:56:18.222031Z"
    }
   },
   "outputs": [],
   "source": [
    "def makeFa(txt):\n",
    "    \n",
    "    # fa file to write. \n",
    "    out = os.path.splitext(txt)[0] + \".fa\"\n",
    "\n",
    "    # open write file\n",
    "    writer = open(out, \"w\")\n",
    "    \n",
    "    # read txt file\n",
    "    with open(txt, \"r\") as reader:\n",
    "        for i, line in enumerate(reader):\n",
    "            row = f\">{i}\\n{line}\"\n",
    "            writer.write(row)\n",
    "    \n",
    "    # close files\n",
    "    writer.close(), reader.close()\n",
    "    \n",
    "    print('wrote', out)\n",
    "    \n",
    "    return out\n",
    "\n",
    "\n",
    "def seqArray(sequence_list):\n",
    "    \"\"\"\n",
    "    Return char array for str of sequences in list\n",
    "    \n",
    "    \"\"\"\n",
    "    seq_arrays = []\n",
    "    for seq in sequence_list:\n",
    "        seq_arrays.append([i for i in seq])\n",
    "        \n",
    "    return seq_arrays\n",
    "\n",
    "\n",
    "def one_hot_encode(seq):\n",
    "    mapping = dict(zip(\"ACGT\", range(4)))    \n",
    "    seq2 = [mapping[i] for i in seq]\n",
    "    return np.eye(4)[seq2]"
   ]
  },
  {
   "cell_type": "code",
   "execution_count": 3,
   "id": "9509217a",
   "metadata": {
    "ExecuteTime": {
     "end_time": "2023-05-04T15:56:19.385684Z",
     "start_time": "2023-05-04T15:56:19.270165Z"
    }
   },
   "outputs": [
    {
     "name": "stdout",
     "output_type": "stream",
     "text": [
      "wrote /wynton/home/ahituv/fongsl/dna/hs1/kmers/15mers/SEED_15mer.firstorder.pam.purine.nohomopoly.GC.fa\n"
     ]
    }
   ],
   "source": [
    "prefile = \"/wynton/home/ahituv/fongsl/dna/hs1/kmers/15mers/SEED_15mer.firstorder.pam.purine.nohomopoly.GC.txt\"  # fasta\n",
    "\n",
    "in_file = makeFa(prefile)\n",
    "out_file = \"/wynton/home/ahituv/fongsl/dna/hs1/kmers/15mers/SEED_15mer.firstorder.pam.purine.nohomopoly.GC.CLUSTAL.fa\""
   ]
  },
  {
   "cell_type": "code",
   "execution_count": 5,
   "id": "fa9c5837",
   "metadata": {
    "ExecuteTime": {
     "end_time": "2023-05-04T15:56:43.475841Z",
     "start_time": "2023-05-04T15:56:43.414184Z"
    }
   },
   "outputs": [
    {
     "data": {
      "text/plain": [
       "57784"
      ]
     },
     "execution_count": 5,
     "metadata": {},
     "output_type": "execute_result"
    }
   ],
   "source": [
    "sequence_nulls= []\n",
    "\n",
    "# open the file\n",
    "with open(prefile, \"r\") as reader:\n",
    "    for line in reader:\n",
    "        sequence_nulls.append(line.strip(\"\\n\"))\n",
    "        \n",
    "\n",
    "sequence_nulls=list(set(sequence_nulls))\n",
    "len(sequence_nulls)"
   ]
  },
  {
   "cell_type": "markdown",
   "id": "65f869d7",
   "metadata": {},
   "source": [
    "# label encoder"
   ]
  },
  {
   "cell_type": "code",
   "execution_count": 6,
   "id": "be87ec4a",
   "metadata": {
    "ExecuteTime": {
     "end_time": "2023-05-04T15:57:17.401621Z",
     "start_time": "2023-05-04T15:57:15.451681Z"
    }
   },
   "outputs": [],
   "source": [
    "encoded = []\n",
    "le = LabelEncoder()\n",
    "le.fit([\"A\", \"C\", \"T\", \"G\"])\n",
    "\n",
    "for n, seq in enumerate(sequence_nulls):\n",
    "    encoded.append(le.transform([i for i in seq]))\n",
    "\n",
    "\n",
    "X = np.array(encoded)"
   ]
  },
  {
   "cell_type": "markdown",
   "id": "7af3ae33",
   "metadata": {},
   "source": [
    "# clustalomega\n",
    "- need to download and configure clustal o + argtable\n",
    "- something about the argtable path"
   ]
  },
  {
   "cell_type": "code",
   "execution_count": 8,
   "id": "b0ddf307",
   "metadata": {
    "ExecuteTime": {
     "end_time": "2023-05-04T15:57:38.466147Z",
     "start_time": "2023-05-04T15:57:38.457746Z"
    }
   },
   "outputs": [
    {
     "name": "stdout",
     "output_type": "stream",
     "text": [
      "clustalo -i /wynton/home/ahituv/fongsl/dna/hs1/kmers/15mers/SEED_15mer.firstorder.pam.purine.nohomopoly.GC.fa -o /wynton/home/ahituv/fongsl/dna/hs1/kmers/15mers/SEED_15mer.firstorder.pam.purine.nohomopoly.GC.CLUSTAL.fa --outfmt phylip -v\n"
     ]
    }
   ],
   "source": [
    "def runClustalO(in_file, out_file):\n",
    "    \n",
    "    clustalomega_cline = ClustalOmegaCommandline(\n",
    "        infile=in_file, outfile=out_file, outfmt='phylip', verbose=True, auto=False)\n",
    "    \n",
    "    print(clustalomega_cline)\n",
    "    \n",
    "runClustalO(in_file, out_file)"
   ]
  },
  {
   "cell_type": "markdown",
   "id": "e940bcae",
   "metadata": {
    "heading_collapsed": true
   },
   "source": [
    "# Biopython - kmeans"
   ]
  },
  {
   "cell_type": "markdown",
   "id": "197fad5d",
   "metadata": {
    "hidden": true
   },
   "source": [
    "https://www.tutorialspoint.com/biopython/biopython_cluster_analysis.htm"
   ]
  },
  {
   "cell_type": "markdown",
   "id": "43455ac7",
   "metadata": {
    "hidden": true
   },
   "source": [
    "## function"
   ]
  },
  {
   "cell_type": "code",
   "execution_count": 9,
   "id": "f4209f32",
   "metadata": {
    "ExecuteTime": {
     "end_time": "2023-05-04T15:59:40.081821Z",
     "start_time": "2023-05-04T15:59:40.074264Z"
    },
    "hidden": true
   },
   "outputs": [],
   "source": [
    "def kmeansBioPy(sequence_list, nclusters):\n",
    "    \n",
    "    matrix = np.asarray([np.fromstring(s, dtype=np.uint8) for s in sequence_list]) \n",
    "    \n",
    "    clusterid,error,found = kcluster(matrix, nclusters=nclusters) \n",
    "    \n",
    "    print(clusterid)\n",
    "    \n",
    "    return clusterid,error,found "
   ]
  },
  {
   "cell_type": "markdown",
   "id": "c18e114c",
   "metadata": {
    "hidden": true
   },
   "source": [
    "### example"
   ]
  },
  {
   "cell_type": "code",
   "execution_count": 10,
   "id": "5caf7747",
   "metadata": {
    "ExecuteTime": {
     "end_time": "2023-05-04T15:59:40.909880Z",
     "start_time": "2023-05-04T15:59:40.895692Z"
    },
    "hidden": true
   },
   "outputs": [
    {
     "name": "stdout",
     "output_type": "stream",
     "text": [
      "[1 0 1 0]\n"
     ]
    },
    {
     "name": "stderr",
     "output_type": "stream",
     "text": [
      "/scratch/fongsl/ipykernel_27193/3167861502.py:3: DeprecationWarning: The binary mode of fromstring is deprecated, as it behaves surprisingly on unicode inputs. Use frombuffer instead\n",
      "  matrix = np.asarray([np.fromstring(s, dtype=np.uint8) for s in sequence_list])\n"
     ]
    },
    {
     "data": {
      "text/plain": [
       "(array([1, 0, 1, 0], dtype=int32), 85.25, 1)"
      ]
     },
     "execution_count": 10,
     "metadata": {},
     "output_type": "execute_result"
    }
   ],
   "source": [
    "sequence = [ 'AGCT','CGTA','AAGT','TCCG'] \n",
    "nclusters=2\n",
    "kmeansBioPy(sequence, nclusters)"
   ]
  },
  {
   "cell_type": "markdown",
   "id": "47237554",
   "metadata": {
    "hidden": true
   },
   "source": [
    "### Nullomers"
   ]
  },
  {
   "cell_type": "code",
   "execution_count": 14,
   "id": "f60c9f8d",
   "metadata": {
    "ExecuteTime": {
     "end_time": "2023-05-04T16:00:44.638622Z",
     "start_time": "2023-05-04T16:00:42.988938Z"
    },
    "hidden": true
   },
   "outputs": [
    {
     "name": "stdout",
     "output_type": "stream",
     "text": [
      "['CGATATAGCGACCGG', 'ATACTCCGTACGCGG', 'GTATTACGAGCGCGG', 'ATCTAATCGCGACGG', 'CGTACGTATAGCCGG']\n",
      "[10  2  2 ...  2  5 11]\n"
     ]
    },
    {
     "name": "stderr",
     "output_type": "stream",
     "text": [
      "/scratch/fongsl/ipykernel_27193/3167861502.py:3: DeprecationWarning: The binary mode of fromstring is deprecated, as it behaves surprisingly on unicode inputs. Use frombuffer instead\n",
      "  matrix = np.asarray([np.fromstring(s, dtype=np.uint8) for s in sequence_list])\n"
     ]
    },
    {
     "data": {
      "text/plain": [
       "(array([10,  2,  2, ...,  2,  5, 11], dtype=int32), 1657894.7199409339, 1)"
      ]
     },
     "execution_count": 14,
     "metadata": {},
     "output_type": "execute_result"
    }
   ],
   "source": [
    "print(sequence_nulls[:5])\n",
    "nclusters=13\n",
    "kmeansBioPy(sequence_nulls, nclusters)"
   ]
  },
  {
   "cell_type": "markdown",
   "id": "ea626e8e",
   "metadata": {
    "hidden": true
   },
   "source": [
    "- N = 10 (array([6, 8, 3, ..., 8, 2, 1], dtype=int32), 2845010.003768245, 1)\n",
    "- N = 100 (array([63, 99,  8, ..., 68, 12,  6], dtype=int32), 1388967.7502666402, 1)"
   ]
  },
  {
   "cell_type": "markdown",
   "id": "87da6a9f",
   "metadata": {},
   "source": [
    "# sklearn kmeans w randomsearch CV"
   ]
  },
  {
   "cell_type": "markdown",
   "id": "6379e177",
   "metadata": {
    "heading_collapsed": true
   },
   "source": [
    "## one hot encode"
   ]
  },
  {
   "cell_type": "code",
   "execution_count": 8,
   "id": "64f4d8fd",
   "metadata": {
    "ExecuteTime": {
     "end_time": "2023-05-03T22:04:38.609147Z",
     "start_time": "2023-05-03T22:04:38.602612Z"
    },
    "hidden": true
   },
   "outputs": [],
   "source": [
    "def oneHot(sequence_nulls):\n",
    "\n",
    "    arrays = []\n",
    "\n",
    "    for n, seq in enumerate(sequence_nulls):\n",
    "        onehot = one_hot_encode(seq)\n",
    "        arrays.append(onehot.ravel().astype(float))\n",
    "\n",
    "    X = np.array(arrays) \n",
    "    \n",
    "    return X"
   ]
  },
  {
   "cell_type": "markdown",
   "id": "7acb0442",
   "metadata": {
    "heading_collapsed": true
   },
   "source": [
    "## train test split"
   ]
  },
  {
   "cell_type": "code",
   "execution_count": 9,
   "id": "36e67638",
   "metadata": {
    "ExecuteTime": {
     "end_time": "2023-05-03T22:04:39.965967Z",
     "start_time": "2023-05-03T22:04:39.925214Z"
    },
    "hidden": true
   },
   "outputs": [],
   "source": [
    "X_train, X_test= train_test_split(X)"
   ]
  },
  {
   "cell_type": "markdown",
   "id": "60a0787b",
   "metadata": {},
   "source": [
    "## PCA\n",
    "\n",
    "first 30 components explain 95% of data"
   ]
  },
  {
   "cell_type": "code",
   "execution_count": 92,
   "id": "a063dc0e",
   "metadata": {
    "ExecuteTime": {
     "end_time": "2023-05-04T17:24:10.461262Z",
     "start_time": "2023-05-04T17:24:10.259780Z"
    }
   },
   "outputs": [
    {
     "name": "stdout",
     "output_type": "stream",
     "text": [
      "0.9778456735081964\n"
     ]
    }
   ],
   "source": [
    "pca = PCA(n_components=0.95)\n",
    "\n",
    "Xt = pca.fit_transform(X)\n",
    "\n",
    "print(pca.explained_variance_ratio_.sum())"
   ]
  },
  {
   "cell_type": "code",
   "execution_count": 93,
   "id": "47d9405b",
   "metadata": {
    "ExecuteTime": {
     "end_time": "2023-05-04T17:24:12.340467Z",
     "start_time": "2023-05-04T17:24:12.332305Z"
    }
   },
   "outputs": [
    {
     "data": {
      "text/plain": [
       "(array([0.12057695, 0.11515515, 0.10642741, 0.10300914, 0.09465025,\n",
       "        0.08448381, 0.07508745, 0.06618516, 0.06201617, 0.05574888,\n",
       "        0.05059654, 0.04390877]),\n",
       " 12)"
      ]
     },
     "execution_count": 93,
     "metadata": {},
     "output_type": "execute_result"
    }
   ],
   "source": [
    "pca.explained_variance_ratio_, len(pca.explained_variance_ratio_)"
   ]
  },
  {
   "cell_type": "code",
   "execution_count": 15,
   "id": "7c66805b",
   "metadata": {
    "ExecuteTime": {
     "end_time": "2023-05-04T16:02:57.767023Z",
     "start_time": "2023-05-04T16:02:57.730862Z"
    }
   },
   "outputs": [
    {
     "data": {
      "text/html": [
       "<div>\n",
       "<style scoped>\n",
       "    .dataframe tbody tr th:only-of-type {\n",
       "        vertical-align: middle;\n",
       "    }\n",
       "\n",
       "    .dataframe tbody tr th {\n",
       "        vertical-align: top;\n",
       "    }\n",
       "\n",
       "    .dataframe thead th {\n",
       "        text-align: right;\n",
       "    }\n",
       "</style>\n",
       "<table border=\"1\" class=\"dataframe\">\n",
       "  <thead>\n",
       "    <tr style=\"text-align: right;\">\n",
       "      <th></th>\n",
       "      <th>0</th>\n",
       "      <th>1</th>\n",
       "      <th>2</th>\n",
       "      <th>3</th>\n",
       "      <th>4</th>\n",
       "      <th>5</th>\n",
       "      <th>6</th>\n",
       "      <th>7</th>\n",
       "      <th>8</th>\n",
       "      <th>9</th>\n",
       "      <th>10</th>\n",
       "      <th>11</th>\n",
       "    </tr>\n",
       "  </thead>\n",
       "  <tbody>\n",
       "    <tr>\n",
       "      <th>0</th>\n",
       "      <td>-0.431087</td>\n",
       "      <td>-1.949134</td>\n",
       "      <td>2.896425</td>\n",
       "      <td>-0.023914</td>\n",
       "      <td>-0.044486</td>\n",
       "      <td>-0.305274</td>\n",
       "      <td>-0.869369</td>\n",
       "      <td>-0.285086</td>\n",
       "      <td>-0.248974</td>\n",
       "      <td>-0.362537</td>\n",
       "      <td>-0.514614</td>\n",
       "      <td>-0.743422</td>\n",
       "    </tr>\n",
       "    <tr>\n",
       "      <th>1</th>\n",
       "      <td>0.507187</td>\n",
       "      <td>-2.130434</td>\n",
       "      <td>-1.559830</td>\n",
       "      <td>-0.522384</td>\n",
       "      <td>1.466672</td>\n",
       "      <td>2.161129</td>\n",
       "      <td>-0.505609</td>\n",
       "      <td>-0.071906</td>\n",
       "      <td>-0.324694</td>\n",
       "      <td>-0.543148</td>\n",
       "      <td>-0.142430</td>\n",
       "      <td>-0.259074</td>\n",
       "    </tr>\n",
       "    <tr>\n",
       "      <th>2</th>\n",
       "      <td>-0.564244</td>\n",
       "      <td>-1.389816</td>\n",
       "      <td>-0.070737</td>\n",
       "      <td>-1.545493</td>\n",
       "      <td>-2.024717</td>\n",
       "      <td>1.785043</td>\n",
       "      <td>-0.726843</td>\n",
       "      <td>-0.352777</td>\n",
       "      <td>0.465730</td>\n",
       "      <td>1.344728</td>\n",
       "      <td>-0.629659</td>\n",
       "      <td>0.133331</td>\n",
       "    </tr>\n",
       "    <tr>\n",
       "      <th>3</th>\n",
       "      <td>1.931105</td>\n",
       "      <td>-2.455269</td>\n",
       "      <td>-0.643107</td>\n",
       "      <td>0.864223</td>\n",
       "      <td>-1.383332</td>\n",
       "      <td>-0.648598</td>\n",
       "      <td>1.666881</td>\n",
       "      <td>-0.123050</td>\n",
       "      <td>-0.965112</td>\n",
       "      <td>0.423738</td>\n",
       "      <td>-0.109332</td>\n",
       "      <td>-0.317789</td>\n",
       "    </tr>\n",
       "    <tr>\n",
       "      <th>4</th>\n",
       "      <td>1.331104</td>\n",
       "      <td>0.390302</td>\n",
       "      <td>-1.966364</td>\n",
       "      <td>1.696138</td>\n",
       "      <td>1.680782</td>\n",
       "      <td>-1.141279</td>\n",
       "      <td>0.878221</td>\n",
       "      <td>1.211298</td>\n",
       "      <td>-0.278422</td>\n",
       "      <td>-0.138486</td>\n",
       "      <td>-0.371784</td>\n",
       "      <td>0.125637</td>\n",
       "    </tr>\n",
       "    <tr>\n",
       "      <th>...</th>\n",
       "      <td>...</td>\n",
       "      <td>...</td>\n",
       "      <td>...</td>\n",
       "      <td>...</td>\n",
       "      <td>...</td>\n",
       "      <td>...</td>\n",
       "      <td>...</td>\n",
       "      <td>...</td>\n",
       "      <td>...</td>\n",
       "      <td>...</td>\n",
       "      <td>...</td>\n",
       "      <td>...</td>\n",
       "    </tr>\n",
       "    <tr>\n",
       "      <th>57779</th>\n",
       "      <td>0.823335</td>\n",
       "      <td>-0.154068</td>\n",
       "      <td>-0.018849</td>\n",
       "      <td>0.143138</td>\n",
       "      <td>1.283821</td>\n",
       "      <td>0.231913</td>\n",
       "      <td>-0.292541</td>\n",
       "      <td>-2.158742</td>\n",
       "      <td>0.288424</td>\n",
       "      <td>0.281722</td>\n",
       "      <td>-2.953803</td>\n",
       "      <td>-0.390173</td>\n",
       "    </tr>\n",
       "    <tr>\n",
       "      <th>57780</th>\n",
       "      <td>-0.751613</td>\n",
       "      <td>0.568348</td>\n",
       "      <td>1.289386</td>\n",
       "      <td>0.718963</td>\n",
       "      <td>0.534531</td>\n",
       "      <td>-0.927855</td>\n",
       "      <td>0.789485</td>\n",
       "      <td>-1.425782</td>\n",
       "      <td>2.193094</td>\n",
       "      <td>1.199602</td>\n",
       "      <td>-0.675881</td>\n",
       "      <td>-1.201301</td>\n",
       "    </tr>\n",
       "    <tr>\n",
       "      <th>57781</th>\n",
       "      <td>-1.334887</td>\n",
       "      <td>-1.081519</td>\n",
       "      <td>-1.697566</td>\n",
       "      <td>0.600138</td>\n",
       "      <td>-0.180819</td>\n",
       "      <td>1.435307</td>\n",
       "      <td>-0.406201</td>\n",
       "      <td>0.770166</td>\n",
       "      <td>0.995284</td>\n",
       "      <td>1.035167</td>\n",
       "      <td>-1.881999</td>\n",
       "      <td>-0.346205</td>\n",
       "    </tr>\n",
       "    <tr>\n",
       "      <th>57782</th>\n",
       "      <td>-0.400853</td>\n",
       "      <td>0.404236</td>\n",
       "      <td>2.037373</td>\n",
       "      <td>1.293743</td>\n",
       "      <td>-0.786052</td>\n",
       "      <td>2.139942</td>\n",
       "      <td>0.133024</td>\n",
       "      <td>0.230787</td>\n",
       "      <td>0.912920</td>\n",
       "      <td>-0.452277</td>\n",
       "      <td>-0.301389</td>\n",
       "      <td>-0.802038</td>\n",
       "    </tr>\n",
       "    <tr>\n",
       "      <th>57783</th>\n",
       "      <td>-0.177573</td>\n",
       "      <td>-0.546504</td>\n",
       "      <td>-1.252196</td>\n",
       "      <td>-2.021522</td>\n",
       "      <td>-2.771225</td>\n",
       "      <td>-0.580892</td>\n",
       "      <td>-0.190218</td>\n",
       "      <td>-0.639121</td>\n",
       "      <td>-0.259954</td>\n",
       "      <td>-0.707242</td>\n",
       "      <td>-0.982679</td>\n",
       "      <td>-0.168859</td>\n",
       "    </tr>\n",
       "  </tbody>\n",
       "</table>\n",
       "<p>57784 rows × 12 columns</p>\n",
       "</div>"
      ],
      "text/plain": [
       "             0         1         2         3         4         5         6   \\\n",
       "0     -0.431087 -1.949134  2.896425 -0.023914 -0.044486 -0.305274 -0.869369   \n",
       "1      0.507187 -2.130434 -1.559830 -0.522384  1.466672  2.161129 -0.505609   \n",
       "2     -0.564244 -1.389816 -0.070737 -1.545493 -2.024717  1.785043 -0.726843   \n",
       "3      1.931105 -2.455269 -0.643107  0.864223 -1.383332 -0.648598  1.666881   \n",
       "4      1.331104  0.390302 -1.966364  1.696138  1.680782 -1.141279  0.878221   \n",
       "...         ...       ...       ...       ...       ...       ...       ...   \n",
       "57779  0.823335 -0.154068 -0.018849  0.143138  1.283821  0.231913 -0.292541   \n",
       "57780 -0.751613  0.568348  1.289386  0.718963  0.534531 -0.927855  0.789485   \n",
       "57781 -1.334887 -1.081519 -1.697566  0.600138 -0.180819  1.435307 -0.406201   \n",
       "57782 -0.400853  0.404236  2.037373  1.293743 -0.786052  2.139942  0.133024   \n",
       "57783 -0.177573 -0.546504 -1.252196 -2.021522 -2.771225 -0.580892 -0.190218   \n",
       "\n",
       "             7         8         9         10        11  \n",
       "0     -0.285086 -0.248974 -0.362537 -0.514614 -0.743422  \n",
       "1     -0.071906 -0.324694 -0.543148 -0.142430 -0.259074  \n",
       "2     -0.352777  0.465730  1.344728 -0.629659  0.133331  \n",
       "3     -0.123050 -0.965112  0.423738 -0.109332 -0.317789  \n",
       "4      1.211298 -0.278422 -0.138486 -0.371784  0.125637  \n",
       "...         ...       ...       ...       ...       ...  \n",
       "57779 -2.158742  0.288424  0.281722 -2.953803 -0.390173  \n",
       "57780 -1.425782  2.193094  1.199602 -0.675881 -1.201301  \n",
       "57781  0.770166  0.995284  1.035167 -1.881999 -0.346205  \n",
       "57782  0.230787  0.912920 -0.452277 -0.301389 -0.802038  \n",
       "57783 -0.639121 -0.259954 -0.707242 -0.982679 -0.168859  \n",
       "\n",
       "[57784 rows x 12 columns]"
      ]
     },
     "execution_count": 15,
     "metadata": {},
     "output_type": "execute_result"
    }
   ],
   "source": [
    "test=pd.DataFrame(Xt)"
   ]
  },
  {
   "cell_type": "code",
   "execution_count": 87,
   "id": "c438e28d",
   "metadata": {
    "ExecuteTime": {
     "end_time": "2023-05-03T22:26:45.767412Z",
     "start_time": "2023-05-03T22:26:44.756681Z"
    }
   },
   "outputs": [
    {
     "name": "stderr",
     "output_type": "stream",
     "text": [
      "/scratch/fongsl/ipykernel_29128/2858432436.py:2: UserWarning: No data for colormapping provided via 'c'. Parameters 'cmap' will be ignored\n",
      "  plt.scatter(np.array(Xt)[:,0], np.array(Xt)[:,1],\n"
     ]
    },
    {
     "data": {
      "text/plain": [
       "[Text(0.5, 0, 'PC1-0.12'),\n",
       " Text(0, 0.5, 'PC1-0.11'),\n",
       " Text(0.5, 1.0, 'label encoded sequence PCA')]"
      ]
     },
     "execution_count": 87,
     "metadata": {},
     "output_type": "execute_result"
    },
    {
     "data": {
      "image/png": "[encoded data removed]",
      "text/plain": [
       "<Figure size 600x600 with 1 Axes>"
      ]
     },
     "metadata": {},
     "output_type": "display_data"
    }
   ],
   "source": [
    "fig, ax= plt.subplots(figsize=(6,6))\n",
    "plt.scatter(np.array(Xt)[:,0], np.array(Xt)[:,1],  \n",
    "            #c=(y[\"label\"]),\n",
    "            cmap=\"bwr\", alpha=0.2)\n",
    "ax.set(xlabel=f\"PC1-{round(pca.explained_variance_ratio_[0],2)}\",\n",
    "       ylabel=f\"PC1-{round(pca.explained_variance_ratio_[1],2)}\",\n",
    "       title=\"label encoded sequence PCA\"\n",
    ")"
   ]
  },
  {
   "cell_type": "markdown",
   "id": "8fc2126c",
   "metadata": {},
   "source": [
    "## cluster PCA"
   ]
  },
  {
   "cell_type": "code",
   "execution_count": 16,
   "id": "5bba090e",
   "metadata": {
    "ExecuteTime": {
     "end_time": "2023-05-04T16:03:02.456984Z",
     "start_time": "2023-05-04T16:03:02.449133Z"
    }
   },
   "outputs": [],
   "source": [
    "def plot_dendrogram(model, **kwargs):\n",
    "    # Create linkage matrix and then plot the dendrogram\n",
    "\n",
    "    # create the counts of samples under each node\n",
    "    counts = np.zeros(model.children_.shape[0])\n",
    "    n_samples = len(model.labels_)\n",
    "    for i, merge in enumerate(model.children_):\n",
    "        current_count = 0\n",
    "        for child_idx in merge:\n",
    "            if child_idx < n_samples:\n",
    "                current_count += 1  # leaf node\n",
    "            else:\n",
    "                current_count += counts[child_idx - n_samples]\n",
    "        counts[i] = current_count\n",
    "\n",
    "    linkage_matrix = np.column_stack(\n",
    "        [model.children_, model.distances_, counts]\n",
    "    ).astype(float)\n",
    "\n",
    "    # Plot the corresponding dendrogram\n",
    "    r = dendrogram(linkage_matrix, **kwargs)\n",
    "    \n",
    "    return r, linkage_matrix"
   ]
  },
  {
   "cell_type": "markdown",
   "id": "75a33f06",
   "metadata": {},
   "source": [
    "## dendrogram-PCA"
   ]
  },
  {
   "cell_type": "code",
   "execution_count": 94,
   "id": "f8760d9c",
   "metadata": {
    "ExecuteTime": {
     "end_time": "2023-05-04T17:24:46.057845Z",
     "start_time": "2023-05-04T17:24:41.475876Z"
    }
   },
   "outputs": [
    {
     "data": {
      "image/png": "[encoded data removed]",
      "text/plain": [
       "<Figure size 640x480 with 1 Axes>"
      ]
     },
     "metadata": {},
     "output_type": "display_data"
    }
   ],
   "source": [
    "# make PC dataframe\n",
    "df = pd.DataFrame(Xt)\n",
    "\n",
    "N=10000\n",
    "test = df.sample(n=N)\n",
    "\n",
    "\n",
    "model = AgglomerativeClustering(n_clusters=len(pca.explained_variance_ratio_), compute_distances=True)\n",
    "model.fit_predict(test.to_numpy())\n",
    "test[\"label\"] = model.labels_\n",
    "#\n",
    "\n",
    "results, lm = plot_dendrogram(model, truncate_mode=\"level\", p=3)"
   ]
  },
  {
   "cell_type": "code",
   "execution_count": 95,
   "id": "1e3df41d",
   "metadata": {
    "ExecuteTime": {
     "end_time": "2023-05-04T17:24:51.691704Z",
     "start_time": "2023-05-04T17:24:51.655201Z"
    }
   },
   "outputs": [
    {
     "data": {
      "text/html": [
       "<div>\n",
       "<style scoped>\n",
       "    .dataframe tbody tr th:only-of-type {\n",
       "        vertical-align: middle;\n",
       "    }\n",
       "\n",
       "    .dataframe tbody tr th {\n",
       "        vertical-align: top;\n",
       "    }\n",
       "\n",
       "    .dataframe thead th {\n",
       "        text-align: right;\n",
       "    }\n",
       "</style>\n",
       "<table border=\"1\" class=\"dataframe\">\n",
       "  <thead>\n",
       "    <tr style=\"text-align: right;\">\n",
       "      <th></th>\n",
       "      <th>0</th>\n",
       "      <th>1</th>\n",
       "      <th>2</th>\n",
       "      <th>3</th>\n",
       "      <th>4</th>\n",
       "      <th>5</th>\n",
       "      <th>6</th>\n",
       "      <th>7</th>\n",
       "      <th>8</th>\n",
       "      <th>9</th>\n",
       "      <th>10</th>\n",
       "      <th>11</th>\n",
       "      <th>label</th>\n",
       "    </tr>\n",
       "  </thead>\n",
       "  <tbody>\n",
       "    <tr>\n",
       "      <th>37196</th>\n",
       "      <td>-0.173967</td>\n",
       "      <td>2.124540</td>\n",
       "      <td>-0.760697</td>\n",
       "      <td>0.714924</td>\n",
       "      <td>-0.033518</td>\n",
       "      <td>-2.056160</td>\n",
       "      <td>0.132100</td>\n",
       "      <td>0.229679</td>\n",
       "      <td>-0.953725</td>\n",
       "      <td>-1.596949</td>\n",
       "      <td>-0.504828</td>\n",
       "      <td>-0.491974</td>\n",
       "      <td>2</td>\n",
       "    </tr>\n",
       "    <tr>\n",
       "      <th>1032</th>\n",
       "      <td>1.901341</td>\n",
       "      <td>-1.322460</td>\n",
       "      <td>-0.487648</td>\n",
       "      <td>-2.905399</td>\n",
       "      <td>-0.795935</td>\n",
       "      <td>0.998911</td>\n",
       "      <td>0.517661</td>\n",
       "      <td>-0.647935</td>\n",
       "      <td>0.241283</td>\n",
       "      <td>0.480846</td>\n",
       "      <td>-0.705699</td>\n",
       "      <td>-0.425785</td>\n",
       "      <td>3</td>\n",
       "    </tr>\n",
       "    <tr>\n",
       "      <th>24087</th>\n",
       "      <td>-1.084405</td>\n",
       "      <td>0.243807</td>\n",
       "      <td>1.297756</td>\n",
       "      <td>-1.020005</td>\n",
       "      <td>-2.336944</td>\n",
       "      <td>-0.486685</td>\n",
       "      <td>-0.136724</td>\n",
       "      <td>1.238124</td>\n",
       "      <td>-0.903962</td>\n",
       "      <td>-0.749197</td>\n",
       "      <td>-0.937625</td>\n",
       "      <td>0.775379</td>\n",
       "      <td>10</td>\n",
       "    </tr>\n",
       "    <tr>\n",
       "      <th>49438</th>\n",
       "      <td>0.059469</td>\n",
       "      <td>0.593333</td>\n",
       "      <td>-3.563641</td>\n",
       "      <td>0.297119</td>\n",
       "      <td>1.142019</td>\n",
       "      <td>0.651570</td>\n",
       "      <td>1.111156</td>\n",
       "      <td>0.148194</td>\n",
       "      <td>-0.574176</td>\n",
       "      <td>-0.089507</td>\n",
       "      <td>-0.599049</td>\n",
       "      <td>0.152780</td>\n",
       "      <td>0</td>\n",
       "    </tr>\n",
       "    <tr>\n",
       "      <th>33797</th>\n",
       "      <td>0.024497</td>\n",
       "      <td>-0.828685</td>\n",
       "      <td>1.240304</td>\n",
       "      <td>-1.460260</td>\n",
       "      <td>0.595239</td>\n",
       "      <td>1.773203</td>\n",
       "      <td>-0.617927</td>\n",
       "      <td>2.233685</td>\n",
       "      <td>0.606792</td>\n",
       "      <td>-0.263759</td>\n",
       "      <td>-1.219465</td>\n",
       "      <td>-0.169072</td>\n",
       "      <td>1</td>\n",
       "    </tr>\n",
       "    <tr>\n",
       "      <th>...</th>\n",
       "      <td>...</td>\n",
       "      <td>...</td>\n",
       "      <td>...</td>\n",
       "      <td>...</td>\n",
       "      <td>...</td>\n",
       "      <td>...</td>\n",
       "      <td>...</td>\n",
       "      <td>...</td>\n",
       "      <td>...</td>\n",
       "      <td>...</td>\n",
       "      <td>...</td>\n",
       "      <td>...</td>\n",
       "      <td>...</td>\n",
       "    </tr>\n",
       "    <tr>\n",
       "      <th>52014</th>\n",
       "      <td>-2.272673</td>\n",
       "      <td>0.477149</td>\n",
       "      <td>2.172251</td>\n",
       "      <td>0.536518</td>\n",
       "      <td>-0.404720</td>\n",
       "      <td>0.632289</td>\n",
       "      <td>0.465388</td>\n",
       "      <td>-0.743745</td>\n",
       "      <td>-0.608342</td>\n",
       "      <td>1.480671</td>\n",
       "      <td>-0.094629</td>\n",
       "      <td>-0.360430</td>\n",
       "      <td>2</td>\n",
       "    </tr>\n",
       "    <tr>\n",
       "      <th>44683</th>\n",
       "      <td>-1.921754</td>\n",
       "      <td>-0.916867</td>\n",
       "      <td>-1.162046</td>\n",
       "      <td>0.260918</td>\n",
       "      <td>-0.017712</td>\n",
       "      <td>0.408685</td>\n",
       "      <td>-0.181587</td>\n",
       "      <td>-0.501675</td>\n",
       "      <td>0.749266</td>\n",
       "      <td>-1.585020</td>\n",
       "      <td>1.452633</td>\n",
       "      <td>-0.968469</td>\n",
       "      <td>5</td>\n",
       "    </tr>\n",
       "    <tr>\n",
       "      <th>8785</th>\n",
       "      <td>0.093918</td>\n",
       "      <td>0.706198</td>\n",
       "      <td>1.358017</td>\n",
       "      <td>1.191567</td>\n",
       "      <td>-1.021370</td>\n",
       "      <td>0.114836</td>\n",
       "      <td>0.118795</td>\n",
       "      <td>-1.352749</td>\n",
       "      <td>-0.512054</td>\n",
       "      <td>2.633588</td>\n",
       "      <td>1.883064</td>\n",
       "      <td>0.565768</td>\n",
       "      <td>2</td>\n",
       "    </tr>\n",
       "    <tr>\n",
       "      <th>10486</th>\n",
       "      <td>1.726442</td>\n",
       "      <td>0.321443</td>\n",
       "      <td>-0.650643</td>\n",
       "      <td>-0.239926</td>\n",
       "      <td>-1.324575</td>\n",
       "      <td>-0.059710</td>\n",
       "      <td>-1.170706</td>\n",
       "      <td>-1.302457</td>\n",
       "      <td>0.195344</td>\n",
       "      <td>-0.307345</td>\n",
       "      <td>2.572518</td>\n",
       "      <td>-0.718777</td>\n",
       "      <td>7</td>\n",
       "    </tr>\n",
       "    <tr>\n",
       "      <th>49666</th>\n",
       "      <td>0.081321</td>\n",
       "      <td>0.388998</td>\n",
       "      <td>1.315359</td>\n",
       "      <td>-0.868191</td>\n",
       "      <td>-2.090783</td>\n",
       "      <td>0.057538</td>\n",
       "      <td>0.431052</td>\n",
       "      <td>1.809094</td>\n",
       "      <td>0.334247</td>\n",
       "      <td>0.313282</td>\n",
       "      <td>0.852246</td>\n",
       "      <td>2.064559</td>\n",
       "      <td>3</td>\n",
       "    </tr>\n",
       "  </tbody>\n",
       "</table>\n",
       "<p>10000 rows × 13 columns</p>\n",
       "</div>"
      ],
      "text/plain": [
       "              0         1         2         3         4         5         6  \\\n",
       "37196 -0.173967  2.124540 -0.760697  0.714924 -0.033518 -2.056160  0.132100   \n",
       "1032   1.901341 -1.322460 -0.487648 -2.905399 -0.795935  0.998911  0.517661   \n",
       "24087 -1.084405  0.243807  1.297756 -1.020005 -2.336944 -0.486685 -0.136724   \n",
       "49438  0.059469  0.593333 -3.563641  0.297119  1.142019  0.651570  1.111156   \n",
       "33797  0.024497 -0.828685  1.240304 -1.460260  0.595239  1.773203 -0.617927   \n",
       "...         ...       ...       ...       ...       ...       ...       ...   \n",
       "52014 -2.272673  0.477149  2.172251  0.536518 -0.404720  0.632289  0.465388   \n",
       "44683 -1.921754 -0.916867 -1.162046  0.260918 -0.017712  0.408685 -0.181587   \n",
       "8785   0.093918  0.706198  1.358017  1.191567 -1.021370  0.114836  0.118795   \n",
       "10486  1.726442  0.321443 -0.650643 -0.239926 -1.324575 -0.059710 -1.170706   \n",
       "49666  0.081321  0.388998  1.315359 -0.868191 -2.090783  0.057538  0.431052   \n",
       "\n",
       "              7         8         9        10        11  label  \n",
       "37196  0.229679 -0.953725 -1.596949 -0.504828 -0.491974      2  \n",
       "1032  -0.647935  0.241283  0.480846 -0.705699 -0.425785      3  \n",
       "24087  1.238124 -0.903962 -0.749197 -0.937625  0.775379     10  \n",
       "49438  0.148194 -0.574176 -0.089507 -0.599049  0.152780      0  \n",
       "33797  2.233685  0.606792 -0.263759 -1.219465 -0.169072      1  \n",
       "...         ...       ...       ...       ...       ...    ...  \n",
       "52014 -0.743745 -0.608342  1.480671 -0.094629 -0.360430      2  \n",
       "44683 -0.501675  0.749266 -1.585020  1.452633 -0.968469      5  \n",
       "8785  -1.352749 -0.512054  2.633588  1.883064  0.565768      2  \n",
       "10486 -1.302457  0.195344 -0.307345  2.572518 -0.718777      7  \n",
       "49666  1.809094  0.334247  0.313282  0.852246  2.064559      3  \n",
       "\n",
       "[10000 rows x 13 columns]"
      ]
     },
     "execution_count": 95,
     "metadata": {},
     "output_type": "execute_result"
    }
   ],
   "source": [
    "test"
   ]
  },
  {
   "cell_type": "markdown",
   "id": "9d06a972",
   "metadata": {},
   "source": [
    "##  encoded dendrogram"
   ]
  },
  {
   "cell_type": "code",
   "execution_count": 85,
   "id": "c9087aa3",
   "metadata": {
    "ExecuteTime": {
     "end_time": "2023-05-04T17:23:00.478601Z",
     "start_time": "2023-05-04T17:22:55.473749Z"
    }
   },
   "outputs": [
    {
     "data": {
      "image/png": "[encoded data removed]",
      "text/plain": [
       "<Figure size 640x480 with 1 Axes>"
      ]
     },
     "metadata": {},
     "output_type": "display_data"
    }
   ],
   "source": [
    "# make PC dataframe\n",
    "df = pd.DataFrame(X)\n",
    "\n",
    "N=10000\n",
    "test = df.sample(n=N)\n",
    "\n",
    "model = AgglomerativeClustering(n_clusters=len(pca.explained_variance_ratio_), compute_distances=True)\n",
    "model.fit_predict(test.to_numpy())\n",
    "test[\"label\"] = model.labels_\n",
    "\n",
    "#\n",
    "\n",
    "results, lm = plot_dendrogram(model, truncate_mode=\"level\", p=3)"
   ]
  },
  {
   "cell_type": "code",
   "execution_count": 86,
   "id": "7b0171bd",
   "metadata": {
    "ExecuteTime": {
     "end_time": "2023-05-04T17:23:08.117760Z",
     "start_time": "2023-05-04T17:23:08.099650Z"
    }
   },
   "outputs": [
    {
     "data": {
      "text/plain": [
       "label\n",
       "0     1002\n",
       "1     1184\n",
       "2      902\n",
       "3     1103\n",
       "4      901\n",
       "5      755\n",
       "6      644\n",
       "7      558\n",
       "8      869\n",
       "9      649\n",
       "10     666\n",
       "11     767\n",
       "Name: 0, dtype: int64"
      ]
     },
     "execution_count": 86,
     "metadata": {},
     "output_type": "execute_result"
    }
   ],
   "source": [
    "test.groupby(\"label\")[0].count()"
   ]
  },
  {
   "cell_type": "code",
   "execution_count": 88,
   "id": "d3513def",
   "metadata": {
    "ExecuteTime": {
     "end_time": "2023-05-04T17:23:12.336152Z",
     "start_time": "2023-05-04T17:23:12.330743Z"
    }
   },
   "outputs": [],
   "source": [
    "import seaborn as sns\n",
    "import matplotlib.pyplot as plt"
   ]
  },
  {
   "cell_type": "code",
   "execution_count": 91,
   "id": "39b22f7f",
   "metadata": {
    "ExecuteTime": {
     "end_time": "2023-05-04T17:23:46.658405Z",
     "start_time": "2023-05-04T17:23:46.649305Z"
    }
   },
   "outputs": [
    {
     "data": {
      "text/plain": [
       "array([[-0.43108676, -1.94913403,  2.89642517, ..., -0.36253668,\n",
       "        -0.51461448, -0.74342151],\n",
       "       [ 0.50718712, -2.13043362, -1.55983009, ..., -0.54314765,\n",
       "        -0.14243033, -0.25907439],\n",
       "       [-0.56424389, -1.38981622, -0.07073733, ...,  1.34472841,\n",
       "        -0.62965934,  0.13333085],\n",
       "       ...,\n",
       "       [-1.33488749, -1.08151864, -1.69756611, ...,  1.03516732,\n",
       "        -1.88199876, -0.3462047 ],\n",
       "       [-0.40085324,  0.40423588,  2.03737309, ..., -0.45227652,\n",
       "        -0.30138949, -0.80203801],\n",
       "       [-0.17757306, -0.54650373, -1.252196  , ..., -0.7072417 ,\n",
       "        -0.98267854, -0.16885888]])"
      ]
     },
     "execution_count": 91,
     "metadata": {},
     "output_type": "execute_result"
    }
   ],
   "source": [
    "Xt"
   ]
  },
  {
   "cell_type": "code",
   "execution_count": 96,
   "id": "9c14939f",
   "metadata": {
    "ExecuteTime": {
     "end_time": "2023-05-04T17:25:03.781533Z",
     "start_time": "2023-05-04T17:25:03.031669Z"
    }
   },
   "outputs": [
    {
     "data": {
      "text/plain": [
       "<Axes: >"
      ]
     },
     "execution_count": 96,
     "metadata": {},
     "output_type": "execute_result"
    },
    {
     "data": {
      "image/png": "[encoded data removed]",
      "text/plain": [
       "<Figure size 640x480 with 2 Axes>"
      ]
     },
     "metadata": {},
     "output_type": "display_data"
    }
   ],
   "source": [
    "sns.heatmap(test.sort_values(by=[\"label\"]))"
   ]
  },
  {
   "cell_type": "markdown",
   "id": "7626b383",
   "metadata": {},
   "source": [
    "# Kmeans w/ PCA"
   ]
  },
  {
   "cell_type": "code",
   "execution_count": 28,
   "id": "3714ecc0",
   "metadata": {
    "ExecuteTime": {
     "end_time": "2023-05-04T16:05:35.039652Z",
     "start_time": "2023-05-04T16:05:30.169251Z"
    }
   },
   "outputs": [
    {
     "data": {
      "text/html": [
       "<style>#sk-container-id-1 {color: black;background-color: white;}#sk-container-id-1 pre{padding: 0;}#sk-container-id-1 div.sk-toggleable {background-color: white;}#sk-container-id-1 label.sk-toggleable__label {cursor: pointer;display: block;width: 100%;margin-bottom: 0;padding: 0.3em;box-sizing: border-box;text-align: center;}#sk-container-id-1 label.sk-toggleable__label-arrow:before {content: \"▸\";float: left;margin-right: 0.25em;color: #696969;}#sk-container-id-1 label.sk-toggleable__label-arrow:hover:before {color: black;}#sk-container-id-1 div.sk-estimator:hover label.sk-toggleable__label-arrow:before {color: black;}#sk-container-id-1 div.sk-toggleable__content {max-height: 0;max-width: 0;overflow: hidden;text-align: left;background-color: #f0f8ff;}#sk-container-id-1 div.sk-toggleable__content pre {margin: 0.2em;color: black;border-radius: 0.25em;background-color: #f0f8ff;}#sk-container-id-1 input.sk-toggleable__control:checked~div.sk-toggleable__content {max-height: 200px;max-width: 100%;overflow: auto;}#sk-container-id-1 input.sk-toggleable__control:checked~label.sk-toggleable__label-arrow:before {content: \"▾\";}#sk-container-id-1 div.sk-estimator input.sk-toggleable__control:checked~label.sk-toggleable__label {background-color: #d4ebff;}#sk-container-id-1 div.sk-label input.sk-toggleable__control:checked~label.sk-toggleable__label {background-color: #d4ebff;}#sk-container-id-1 input.sk-hidden--visually {border: 0;clip: rect(1px 1px 1px 1px);clip: rect(1px, 1px, 1px, 1px);height: 1px;margin: -1px;overflow: hidden;padding: 0;position: absolute;width: 1px;}#sk-container-id-1 div.sk-estimator {font-family: monospace;background-color: #f0f8ff;border: 1px dotted black;border-radius: 0.25em;box-sizing: border-box;margin-bottom: 0.5em;}#sk-container-id-1 div.sk-estimator:hover {background-color: #d4ebff;}#sk-container-id-1 div.sk-parallel-item::after {content: \"\";width: 100%;border-bottom: 1px solid gray;flex-grow: 1;}#sk-container-id-1 div.sk-label:hover label.sk-toggleable__label {background-color: #d4ebff;}#sk-container-id-1 div.sk-serial::before {content: \"\";position: absolute;border-left: 1px solid gray;box-sizing: border-box;top: 0;bottom: 0;left: 50%;z-index: 0;}#sk-container-id-1 div.sk-serial {display: flex;flex-direction: column;align-items: center;background-color: white;padding-right: 0.2em;padding-left: 0.2em;position: relative;}#sk-container-id-1 div.sk-item {position: relative;z-index: 1;}#sk-container-id-1 div.sk-parallel {display: flex;align-items: stretch;justify-content: center;background-color: white;position: relative;}#sk-container-id-1 div.sk-item::before, #sk-container-id-1 div.sk-parallel-item::before {content: \"\";position: absolute;border-left: 1px solid gray;box-sizing: border-box;top: 0;bottom: 0;left: 50%;z-index: -1;}#sk-container-id-1 div.sk-parallel-item {display: flex;flex-direction: column;z-index: 1;position: relative;background-color: white;}#sk-container-id-1 div.sk-parallel-item:first-child::after {align-self: flex-end;width: 50%;}#sk-container-id-1 div.sk-parallel-item:last-child::after {align-self: flex-start;width: 50%;}#sk-container-id-1 div.sk-parallel-item:only-child::after {width: 0;}#sk-container-id-1 div.sk-dashed-wrapped {border: 1px dashed gray;margin: 0 0.4em 0.5em 0.4em;box-sizing: border-box;padding-bottom: 0.4em;background-color: white;}#sk-container-id-1 div.sk-label label {font-family: monospace;font-weight: bold;display: inline-block;line-height: 1.2em;}#sk-container-id-1 div.sk-label-container {text-align: center;}#sk-container-id-1 div.sk-container {/* jupyter's `normalize.less` sets `[hidden] { display: none; }` but bootstrap.min.css set `[hidden] { display: none !important; }` so we also need the `!important` here to be able to override the default hidden behavior on the sphinx rendered scikit-learn.org. See: https://github.com/scikit-learn/scikit-learn/issues/21755 */display: inline-block !important;position: relative;}#sk-container-id-1 div.sk-text-repr-fallback {display: none;}</style><div id=\"sk-container-id-1\" class=\"sk-top-container\"><div class=\"sk-text-repr-fallback\"><pre>KMeans(n_clusters=12)</pre><b>In a Jupyter environment, please rerun this cell to show the HTML representation or trust the notebook. <br />On GitHub, the HTML representation is unable to render, please try loading this page with nbviewer.org.</b></div><div class=\"sk-container\" hidden><div class=\"sk-item\"><div class=\"sk-estimator sk-toggleable\"><input class=\"sk-toggleable__control sk-hidden--visually\" id=\"sk-estimator-id-1\" type=\"checkbox\" checked><label for=\"sk-estimator-id-1\" class=\"sk-toggleable__label sk-toggleable__label-arrow\">KMeans</label><div class=\"sk-toggleable__content\"><pre>KMeans(n_clusters=12)</pre></div></div></div></div></div>"
      ],
      "text/plain": [
       "KMeans(n_clusters=12)"
      ]
     },
     "execution_count": 28,
     "metadata": {},
     "output_type": "execute_result"
    }
   ],
   "source": [
    "model = KMeans(n_clusters=len(pca.explained_variance_ratio_))\n",
    "\n",
    "# fit the model\n",
    "model.fit(X)"
   ]
  },
  {
   "cell_type": "code",
   "execution_count": 29,
   "id": "2c3e0006",
   "metadata": {
    "ExecuteTime": {
     "end_time": "2023-05-04T16:05:37.368063Z",
     "start_time": "2023-05-04T16:05:36.941019Z"
    }
   },
   "outputs": [
    {
     "data": {
      "text/html": [
       "<div>\n",
       "<style scoped>\n",
       "    .dataframe tbody tr th:only-of-type {\n",
       "        vertical-align: middle;\n",
       "    }\n",
       "\n",
       "    .dataframe tbody tr th {\n",
       "        vertical-align: top;\n",
       "    }\n",
       "\n",
       "    .dataframe thead th {\n",
       "        text-align: right;\n",
       "    }\n",
       "</style>\n",
       "<table border=\"1\" class=\"dataframe\">\n",
       "  <thead>\n",
       "    <tr style=\"text-align: right;\">\n",
       "      <th></th>\n",
       "      <th>null</th>\n",
       "      <th>label</th>\n",
       "    </tr>\n",
       "  </thead>\n",
       "  <tbody>\n",
       "    <tr>\n",
       "      <th>0</th>\n",
       "      <td>CGATATAGCGACCGG</td>\n",
       "      <td>8</td>\n",
       "    </tr>\n",
       "    <tr>\n",
       "      <th>1</th>\n",
       "      <td>ATACTCCGTACGCGG</td>\n",
       "      <td>7</td>\n",
       "    </tr>\n",
       "    <tr>\n",
       "      <th>2</th>\n",
       "      <td>GTATTACGAGCGCGG</td>\n",
       "      <td>11</td>\n",
       "    </tr>\n",
       "    <tr>\n",
       "      <th>3</th>\n",
       "      <td>ATCTAATCGCGACGG</td>\n",
       "      <td>4</td>\n",
       "    </tr>\n",
       "    <tr>\n",
       "      <th>4</th>\n",
       "      <td>CGTACGTATAGCCGG</td>\n",
       "      <td>6</td>\n",
       "    </tr>\n",
       "  </tbody>\n",
       "</table>\n",
       "</div>"
      ],
      "text/plain": [
       "              null  label\n",
       "0  CGATATAGCGACCGG      8\n",
       "1  ATACTCCGTACGCGG      7\n",
       "2  GTATTACGAGCGCGG     11\n",
       "3  ATCTAATCGCGACGG      4\n",
       "4  CGTACGTATAGCCGG      6"
      ]
     },
     "execution_count": 29,
     "metadata": {},
     "output_type": "execute_result"
    }
   ],
   "source": [
    "labeldf = pd.DataFrame(zip(sequence_nulls, model.labels_), columns = [\"null\", \"label\"])\n",
    "labeldf.head()"
   ]
  },
  {
   "cell_type": "code",
   "execution_count": 30,
   "id": "8ea8b0ab",
   "metadata": {
    "ExecuteTime": {
     "end_time": "2023-05-04T16:05:41.335980Z",
     "start_time": "2023-05-04T16:05:41.309862Z"
    }
   },
   "outputs": [
    {
     "data": {
      "text/plain": [
       "label\n",
       "0     4431\n",
       "1     5270\n",
       "2     4920\n",
       "3     4281\n",
       "4     5430\n",
       "5     4642\n",
       "6     4675\n",
       "7     4528\n",
       "8     4769\n",
       "9     5112\n",
       "10    5149\n",
       "11    4577\n",
       "Name: null, dtype: int64"
      ]
     },
     "execution_count": 30,
     "metadata": {},
     "output_type": "execute_result"
    }
   ],
   "source": [
    "labeldf.groupby(\"label\")[\"null\"].count()"
   ]
  },
  {
   "cell_type": "markdown",
   "id": "0936cb53",
   "metadata": {},
   "source": [
    "# hamming"
   ]
  },
  {
   "cell_type": "code",
   "execution_count": 49,
   "id": "b9b89cea",
   "metadata": {
    "ExecuteTime": {
     "end_time": "2023-05-04T16:11:05.588163Z",
     "start_time": "2023-05-04T16:11:05.583058Z"
    }
   },
   "outputs": [],
   "source": [
    "from scipy.spatial.distance import pdist\n",
    "from itertools import combinations"
   ]
  },
  {
   "cell_type": "code",
   "execution_count": 61,
   "id": "67424305",
   "metadata": {
    "ExecuteTime": {
     "end_time": "2023-05-04T16:12:43.132199Z",
     "start_time": "2023-05-04T16:12:43.121024Z"
    }
   },
   "outputs": [
    {
     "data": {
      "text/plain": [
       "array(['CGGTATCGTCTACGG', 'GTATACGCGATGCGG', 'CGTTAAATTCGCGGG',\n",
       "       'GAATCGCGTAATCGG', 'TTACCGATGCGTCGG'], dtype='<U15')"
      ]
     },
     "execution_count": 61,
     "metadata": {},
     "output_type": "execute_result"
    }
   ],
   "source": [
    "h = labeldf.sort_values(by=\"label\").head()\n",
    "hseq = list(h[\"null\"])\n",
    "\n",
    "hseq = np.array(hseq)\n",
    "hseq"
   ]
  },
  {
   "cell_type": "code",
   "execution_count": 66,
   "id": "e934ce28",
   "metadata": {
    "ExecuteTime": {
     "end_time": "2023-05-04T16:13:20.827945Z",
     "start_time": "2023-05-04T16:13:20.807097Z"
    }
   },
   "outputs": [
    {
     "name": "stdout",
     "output_type": "stream",
     "text": [
      "5\n"
     ]
    },
    {
     "data": {
      "text/plain": [
       "array(['ATCGCCGTGAAACGG', 'CGGTTAGTACATCGG', 'ATACGATTACGTCGG',\n",
       "       'TTACGATTCGGTCGG', 'CGCGTATGATAACGG'], dtype='<U15')"
      ]
     },
     "execution_count": 66,
     "metadata": {},
     "output_type": "execute_result"
    }
   ],
   "source": [
    "\n",
    "\n",
    "t = labeldf.sort_values(by=\"label\").tail()\n",
    "tseq = list(t[\"null\"])\n",
    "print(len(tseq))\n",
    "\n",
    "tseq=np.array(tseq)\n",
    "tseq"
   ]
  },
  {
   "cell_type": "code",
   "execution_count": 80,
   "id": "11de3364",
   "metadata": {
    "ExecuteTime": {
     "end_time": "2023-05-04T16:16:20.954045Z",
     "start_time": "2023-05-04T16:16:20.946556Z"
    }
   },
   "outputs": [
    {
     "data": {
      "text/plain": [
       "array([['CGGTATCGTCTACGG', 'ATCGCCGTGAAACGG'],\n",
       "       ['GTATACGCGATGCGG', 'CGGTTAGTACATCGG'],\n",
       "       ['CGTTAAATTCGCGGG', 'ATACGATTACGTCGG'],\n",
       "       ['GAATCGCGTAATCGG', 'TTACGATTCGGTCGG'],\n",
       "       ['TTACCGATGCGTCGG', 'CGCGTATGATAACGG']], dtype='<U15')"
      ]
     },
     "execution_count": 80,
     "metadata": {},
     "output_type": "execute_result"
    }
   ],
   "source": [
    "x = np.column_stack([hseq, tseq])\n",
    "x"
   ]
  },
  {
   "cell_type": "code",
   "execution_count": 81,
   "id": "106721d5",
   "metadata": {
    "ExecuteTime": {
     "end_time": "2023-05-04T16:16:24.295978Z",
     "start_time": "2023-05-04T16:16:24.251707Z"
    }
   },
   "outputs": [
    {
     "ename": "TypeError",
     "evalue": "pdist_euclidean(): incompatible function arguments. The following argument types are supported:\n    1. (x: object, w: object = None, out: object = None) -> numpy.ndarray\n\nInvoked with: array([['CGGTATCGTCTACGG', 'ATCGCCGTGAAACGG'],\n       ['GTATACGCGATGCGG', 'CGGTTAGTACATCGG'],\n       ['CGTTAAATTCGCGGG', 'ATACGATTACGTCGG'],\n       ['GAATCGCGTAATCGG', 'TTACGATTCGGTCGG'],\n       ['TTACCGATGCGTCGG', 'CGCGTATGATAACGG']], dtype='<U15'); kwargs: out=None, method='hamming'",
     "output_type": "error",
     "traceback": [
      "\u001b[0;31m---------------------------------------------------------------------------\u001b[0m",
      "\u001b[0;31mTypeError\u001b[0m                                 Traceback (most recent call last)",
      "Cell \u001b[0;32mIn [81], line 1\u001b[0m\n\u001b[0;32m----> 1\u001b[0m \u001b[43mpdist\u001b[49m\u001b[43m(\u001b[49m\u001b[43mx\u001b[49m\u001b[43m,\u001b[49m\u001b[43m \u001b[49m\u001b[43mmethod\u001b[49m\u001b[38;5;241;43m=\u001b[39;49m\u001b[38;5;124;43m\"\u001b[39;49m\u001b[38;5;124;43mhamming\u001b[39;49m\u001b[38;5;124;43m\"\u001b[39;49m\u001b[43m)\u001b[49m\n",
      "File \u001b[0;32m~/.conda/envs/wynenv/lib/python3.10/site-packages/scipy/spatial/distance.py:2233\u001b[0m, in \u001b[0;36mpdist\u001b[0;34m(X, metric, out, **kwargs)\u001b[0m\n\u001b[1;32m   2231\u001b[0m \u001b[38;5;28;01mif\u001b[39;00m metric_info \u001b[38;5;129;01mis\u001b[39;00m \u001b[38;5;129;01mnot\u001b[39;00m \u001b[38;5;28;01mNone\u001b[39;00m:\n\u001b[1;32m   2232\u001b[0m     pdist_fn \u001b[38;5;241m=\u001b[39m metric_info\u001b[38;5;241m.\u001b[39mpdist_func\n\u001b[0;32m-> 2233\u001b[0m     \u001b[38;5;28;01mreturn\u001b[39;00m \u001b[43mpdist_fn\u001b[49m\u001b[43m(\u001b[49m\u001b[43mX\u001b[49m\u001b[43m,\u001b[49m\u001b[43m \u001b[49m\u001b[43mout\u001b[49m\u001b[38;5;241;43m=\u001b[39;49m\u001b[43mout\u001b[49m\u001b[43m,\u001b[49m\u001b[43m \u001b[49m\u001b[38;5;241;43m*\u001b[39;49m\u001b[38;5;241;43m*\u001b[39;49m\u001b[43mkwargs\u001b[49m\u001b[43m)\u001b[49m\n\u001b[1;32m   2234\u001b[0m \u001b[38;5;28;01melif\u001b[39;00m mstr\u001b[38;5;241m.\u001b[39mstartswith(\u001b[38;5;124m\"\u001b[39m\u001b[38;5;124mtest_\u001b[39m\u001b[38;5;124m\"\u001b[39m):\n\u001b[1;32m   2235\u001b[0m     metric_info \u001b[38;5;241m=\u001b[39m _TEST_METRICS\u001b[38;5;241m.\u001b[39mget(mstr, \u001b[38;5;28;01mNone\u001b[39;00m)\n",
      "\u001b[0;31mTypeError\u001b[0m: pdist_euclidean(): incompatible function arguments. The following argument types are supported:\n    1. (x: object, w: object = None, out: object = None) -> numpy.ndarray\n\nInvoked with: array([['CGGTATCGTCTACGG', 'ATCGCCGTGAAACGG'],\n       ['GTATACGCGATGCGG', 'CGGTTAGTACATCGG'],\n       ['CGTTAAATTCGCGGG', 'ATACGATTACGTCGG'],\n       ['GAATCGCGTAATCGG', 'TTACGATTCGGTCGG'],\n       ['TTACCGATGCGTCGG', 'CGCGTATGATAACGG']], dtype='<U15'); kwargs: out=None, method='hamming'"
     ]
    }
   ],
   "source": [
    "pdist(x, method=\"hamming\")"
   ]
  },
  {
   "cell_type": "code",
   "execution_count": 84,
   "id": "92fe0882",
   "metadata": {
    "ExecuteTime": {
     "end_time": "2023-05-04T16:17:39.895911Z",
     "start_time": "2023-05-04T16:17:39.877669Z"
    }
   },
   "outputs": [
    {
     "data": {
      "text/html": [
       "<div>\n",
       "<style scoped>\n",
       "    .dataframe tbody tr th:only-of-type {\n",
       "        vertical-align: middle;\n",
       "    }\n",
       "\n",
       "    .dataframe tbody tr th {\n",
       "        vertical-align: top;\n",
       "    }\n",
       "\n",
       "    .dataframe thead th {\n",
       "        text-align: right;\n",
       "    }\n",
       "</style>\n",
       "<table border=\"1\" class=\"dataframe\">\n",
       "  <thead>\n",
       "    <tr style=\"text-align: right;\">\n",
       "      <th></th>\n",
       "      <th>null</th>\n",
       "      <th>label</th>\n",
       "    </tr>\n",
       "  </thead>\n",
       "  <tbody>\n",
       "    <tr>\n",
       "      <th>45174</th>\n",
       "      <td>ATATACGGCGAGCGG</td>\n",
       "      <td>3</td>\n",
       "    </tr>\n",
       "    <tr>\n",
       "      <th>24312</th>\n",
       "      <td>CGACACGATAATCGG</td>\n",
       "      <td>3</td>\n",
       "    </tr>\n",
       "    <tr>\n",
       "      <th>42766</th>\n",
       "      <td>CGAAACGACTATCGG</td>\n",
       "      <td>3</td>\n",
       "    </tr>\n",
       "    <tr>\n",
       "      <th>26826</th>\n",
       "      <td>CGAGATTATCGTCGG</td>\n",
       "      <td>3</td>\n",
       "    </tr>\n",
       "    <tr>\n",
       "      <th>14162</th>\n",
       "      <td>ATCGAATACTCGCGG</td>\n",
       "      <td>3</td>\n",
       "    </tr>\n",
       "    <tr>\n",
       "      <th>...</th>\n",
       "      <td>...</td>\n",
       "      <td>...</td>\n",
       "    </tr>\n",
       "    <tr>\n",
       "      <th>35845</th>\n",
       "      <td>CGCGACTATACACGG</td>\n",
       "      <td>3</td>\n",
       "    </tr>\n",
       "    <tr>\n",
       "      <th>37925</th>\n",
       "      <td>ATGTCGTCGCGTTGG</td>\n",
       "      <td>3</td>\n",
       "    </tr>\n",
       "    <tr>\n",
       "      <th>39607</th>\n",
       "      <td>GTCGAATCGTAGCGG</td>\n",
       "      <td>3</td>\n",
       "    </tr>\n",
       "    <tr>\n",
       "      <th>33893</th>\n",
       "      <td>GCTTATTCGTCGCGG</td>\n",
       "      <td>3</td>\n",
       "    </tr>\n",
       "    <tr>\n",
       "      <th>36264</th>\n",
       "      <td>AATTGGTACGCGCGG</td>\n",
       "      <td>3</td>\n",
       "    </tr>\n",
       "  </tbody>\n",
       "</table>\n",
       "<p>100 rows × 2 columns</p>\n",
       "</div>"
      ],
      "text/plain": [
       "                  null  label\n",
       "45174  ATATACGGCGAGCGG      3\n",
       "24312  CGACACGATAATCGG      3\n",
       "42766  CGAAACGACTATCGG      3\n",
       "26826  CGAGATTATCGTCGG      3\n",
       "14162  ATCGAATACTCGCGG      3\n",
       "...                ...    ...\n",
       "35845  CGCGACTATACACGG      3\n",
       "37925  ATGTCGTCGCGTTGG      3\n",
       "39607  GTCGAATCGTAGCGG      3\n",
       "33893  GCTTATTCGTCGCGG      3\n",
       "36264  AATTGGTACGCGCGG      3\n",
       "\n",
       "[100 rows x 2 columns]"
      ]
     },
     "execution_count": 84,
     "metadata": {},
     "output_type": "execute_result"
    }
   ],
   "source": [
    "labeldf.loc[labeldf[\"label\"]==3, \"\"].sample(n=100)"
   ]
  },
  {
   "cell_type": "code",
   "execution_count": 83,
   "id": "badbceaa",
   "metadata": {
    "ExecuteTime": {
     "end_time": "2023-05-04T16:17:34.146439Z",
     "start_time": "2023-05-04T16:17:34.083307Z"
    }
   },
   "outputs": [
    {
     "ename": "ValueError",
     "evalue": "The 1d arrays must have equal lengths.",
     "output_type": "error",
     "traceback": [
      "\u001b[0;31m---------------------------------------------------------------------------\u001b[0m",
      "\u001b[0;31mValueError\u001b[0m                                Traceback (most recent call last)",
      "Cell \u001b[0;32mIn [83], line 7\u001b[0m\n\u001b[1;32m      4\u001b[0m cat \u001b[38;5;241m=\u001b[39m labeldf\u001b[38;5;241m.\u001b[39mloc[labeldf[\u001b[38;5;124m\"\u001b[39m\u001b[38;5;124mlabel\u001b[39m\u001b[38;5;124m\"\u001b[39m]\u001b[38;5;241m==\u001b[39m\u001b[38;5;241m3\u001b[39m]\u001b[38;5;241m.\u001b[39msample(n\u001b[38;5;241m=\u001b[39m\u001b[38;5;241m100\u001b[39m)\n\u001b[1;32m      5\u001b[0m \u001b[38;5;28;01mfor\u001b[39;00m i,j \u001b[38;5;129;01min\u001b[39;00m combinations(cat, \u001b[38;5;241m2\u001b[39m):\n\u001b[0;32m----> 7\u001b[0m     hdist \u001b[38;5;241m=\u001b[39m \u001b[43mhamming\u001b[49m\u001b[43m(\u001b[49m\u001b[38;5;28;43mlist\u001b[39;49m\u001b[43m(\u001b[49m\u001b[43mi\u001b[49m\u001b[43m)\u001b[49m\u001b[43m,\u001b[49m\u001b[38;5;28;43mlist\u001b[39;49m\u001b[43m(\u001b[49m\u001b[43mj\u001b[49m\u001b[43m)\u001b[49m\u001b[43m)\u001b[49m\n\u001b[1;32m      8\u001b[0m     distances[v]\u001b[38;5;241m=\u001b[39mnp\u001b[38;5;241m.\u001b[39marray([i,j,hdist])\n\u001b[1;32m      9\u001b[0m     \u001b[38;5;28;01mif\u001b[39;00m hdist\u001b[38;5;241m<\u001b[39m\u001b[38;5;241m0.15\u001b[39m:\n",
      "File \u001b[0;32m~/.conda/envs/wynenv/lib/python3.10/site-packages/scipy/spatial/distance.py:718\u001b[0m, in \u001b[0;36mhamming\u001b[0;34m(u, v, w)\u001b[0m\n\u001b[1;32m    716\u001b[0m v \u001b[38;5;241m=\u001b[39m _validate_vector(v)\n\u001b[1;32m    717\u001b[0m \u001b[38;5;28;01mif\u001b[39;00m u\u001b[38;5;241m.\u001b[39mshape \u001b[38;5;241m!=\u001b[39m v\u001b[38;5;241m.\u001b[39mshape:\n\u001b[0;32m--> 718\u001b[0m     \u001b[38;5;28;01mraise\u001b[39;00m \u001b[38;5;167;01mValueError\u001b[39;00m(\u001b[38;5;124m'\u001b[39m\u001b[38;5;124mThe 1d arrays must have equal lengths.\u001b[39m\u001b[38;5;124m'\u001b[39m)\n\u001b[1;32m    719\u001b[0m u_ne_v \u001b[38;5;241m=\u001b[39m u \u001b[38;5;241m!=\u001b[39m v\n\u001b[1;32m    720\u001b[0m \u001b[38;5;28;01mif\u001b[39;00m w \u001b[38;5;129;01mis\u001b[39;00m \u001b[38;5;129;01mnot\u001b[39;00m \u001b[38;5;28;01mNone\u001b[39;00m:\n",
      "\u001b[0;31mValueError\u001b[0m: The 1d arrays must have equal lengths."
     ]
    }
   ],
   "source": [
    "t = labeldf.loc[labeldf[\"label\"]==3]\n",
    "distances = {}\n",
    "v=0\n",
    "cat = labeldf.loc[labeldf[\"label\"]==3].sample(n=100)\n",
    "for i,j in combinations(cat, 2):\n",
    "\n",
    "    hdist = hamming(list(i),list(j))\n",
    "    distances[v]=np.array([i,j,hdist])\n",
    "    if hdist<0.15:\n",
    "        print(np.array([i,j,hdist]))\n"
   ]
  },
  {
   "cell_type": "code",
   "execution_count": 39,
   "id": "2ad27b72",
   "metadata": {
    "ExecuteTime": {
     "end_time": "2023-05-04T16:06:55.791974Z",
     "start_time": "2023-05-04T16:06:55.782446Z"
    }
   },
   "outputs": [
    {
     "name": "stdout",
     "output_type": "stream",
     "text": [
      "['ATCGCCGTGAAACGG' 'CGGTTAGTACATCGG' '0.6']\n",
      "['ATCGCCGTGAAACGG' 'ATACGATTACGTCGG' '0.6']\n",
      "['ATCGCCGTGAAACGG' 'TTACGATTCGGTCGG' '0.6666666666666666']\n",
      "['ATCGCCGTGAAACGG' 'CGCGTATGATAACGG' '0.5333333333333333']\n",
      "['CGGTTAGTACATCGG' 'ATACGATTACGTCGG' '0.4666666666666667']\n",
      "['CGGTTAGTACATCGG' 'TTACGATTCGGTCGG' '0.6']\n",
      "['CGGTTAGTACATCGG' 'CGCGTATGATAACGG' '0.4']\n",
      "['ATACGATTACGTCGG' 'TTACGATTCGGTCGG' '0.2']\n",
      "['ATACGATTACGTCGG' 'CGCGTATGATAACGG' '0.6']\n",
      "['TTACGATTCGGTCGG' 'CGCGTATGATAACGG' '0.6666666666666666']\n"
     ]
    }
   ],
   "source": [
    "distances = {}\n",
    "v=0\n",
    "cat = tseq\n",
    "for i,j in combinations(cat, 2):\n",
    "\n",
    "    hdist = hamming(list(i),list(j))\n",
    "    distances[v]=np.array([i,j,hdist])\n",
    "    print(np.array([i,j,hdist]))\n"
   ]
  },
  {
   "cell_type": "code",
   "execution_count": 40,
   "id": "efc94cd7",
   "metadata": {
    "ExecuteTime": {
     "end_time": "2023-05-04T16:07:27.439134Z",
     "start_time": "2023-05-04T16:07:27.429855Z"
    }
   },
   "outputs": [
    {
     "name": "stdout",
     "output_type": "stream",
     "text": [
      "['CGGTATCGTCTACGG' 'ATCGCCGTGAAACGG' '0.7333333333333333']\n",
      "['GTATACGCGATGCGG' 'CGGTTAGTACATCGG' '0.6666666666666666']\n",
      "['CGTTAAATTCGCGGG' 'ATACGATTACGTCGG' '0.6']\n",
      "['GAATCGCGTAATCGG' 'TTACGATTCGGTCGG' '0.6666666666666666']\n",
      "['TTACCGATGCGTCGG' 'CGCGTATGATAACGG' '0.8']\n"
     ]
    }
   ],
   "source": [
    "distances = {}\n",
    "v=0\n",
    "cat = hseq+tseq\n",
    "#for i,j in combinations(cat, 2):\n",
    "for i, j in zip(hseq, tseq):\n",
    "\n",
    "    hdist = hamming(list(i),list(j))\n",
    "    distances[v]=np.array([i,j,hdist])\n",
    "    print(np.array([i,j,hdist]))\n"
   ]
  },
  {
   "cell_type": "code",
   "execution_count": 36,
   "id": "70f6065a",
   "metadata": {
    "ExecuteTime": {
     "end_time": "2023-05-04T16:06:10.350493Z",
     "start_time": "2023-05-04T16:06:10.342944Z"
    }
   },
   "outputs": [
    {
     "data": {
      "text/plain": [
       "0.0"
      ]
     },
     "execution_count": 36,
     "metadata": {},
     "output_type": "execute_result"
    }
   ],
   "source": [
    "hamming([\"s\", \"f\", \"o\"],[\"s\", \"f\", \"o\"] )\n"
   ]
  }
 ],
 "metadata": {
  "kernelspec": {
   "display_name": "Python (wynenv)",
   "language": "python",
   "name": "wynenv"
  },
  "language_info": {
   "codemirror_mode": {
    "name": "ipython",
    "version": 3
   },
   "file_extension": ".py",
   "mimetype": "text/x-python",
   "name": "python",
   "nbconvert_exporter": "python",
   "pygments_lexer": "ipython3",
   "version": "3.10.8"
  },
  "toc": {
   "base_numbering": 1,
   "nav_menu": {},
   "number_sections": true,
   "sideBar": true,
   "skip_h1_title": false,
   "title_cell": "Table of Contents",
   "title_sidebar": "Contents",
   "toc_cell": false,
   "toc_position": {},
   "toc_section_display": true,
   "toc_window_display": false
  },
  "varInspector": {
   "cols": {
    "lenName": 16,
    "lenType": 16,
    "lenVar": 40
   },
   "kernels_config": {
    "python": {
     "delete_cmd_postfix": "",
     "delete_cmd_prefix": "del ",
     "library": "var_list.py",
     "varRefreshCmd": "print(var_dic_list())"
    },
    "r": {
     "delete_cmd_postfix": ") ",
     "delete_cmd_prefix": "rm(",
     "library": "var_list.r",
     "varRefreshCmd": "cat(var_dic_list()) "
    }
   },
   "types_to_exclude": [
    "module",
    "function",
    "builtin_function_or_method",
    "instance",
    "_Feature"
   ],
   "window_display": false
  }
 },
 "nbformat": 4,
 "nbformat_minor": 5
}
