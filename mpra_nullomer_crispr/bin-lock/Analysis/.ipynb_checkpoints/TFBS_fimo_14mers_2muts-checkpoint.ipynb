{
 "cells": [
  {
   "cell_type": "code",
   "execution_count": 2,
   "id": "5fcf28e3",
   "metadata": {
    "ExecuteTime": {
     "end_time": "2023-04-12T22:09:44.228118Z",
     "start_time": "2023-04-12T22:09:44.219426Z"
    }
   },
   "outputs": [
    {
     "data": {
      "text/plain": [
       "('sans-serif', 'Arial', 18)"
      ]
     },
     "execution_count": 2,
     "metadata": {},
     "output_type": "execute_result"
    }
   ],
   "source": [
    "from Bio.SeqIO.FastaIO import SimpleFastaParser\n",
    "import os, sys\n",
    "import pandas as pd\n",
    "import config_readwrite as crw\n",
    "import matplotlib.pyplot as plt\n",
    "import seaborn as sns\n",
    "import plot_params as pp\n",
    "pp.fonts()"
   ]
  },
  {
   "cell_type": "code",
   "execution_count": 3,
   "id": "a5bf9ed2",
   "metadata": {
    "ExecuteTime": {
     "end_time": "2023-04-12T22:09:44.833632Z",
     "start_time": "2023-04-12T22:09:44.826863Z"
    }
   },
   "outputs": [],
   "source": [
    "config, cfn = crw.read(os.path.join(os.path.dirname(os.getcwd()), \"config.ini\"))\n",
    "\n",
    "tsv = config[\"common.14mer.2mut\"]['fimo']\n",
    "fa = config[\"common.14mer.2mut\"]['fa_fo-true']"
   ]
  },
  {
   "cell_type": "markdown",
   "id": "44261d20",
   "metadata": {},
   "source": [
    "# read fa"
   ]
  },
  {
   "cell_type": "code",
   "execution_count": 4,
   "id": "43167838",
   "metadata": {
    "ExecuteTime": {
     "end_time": "2023-04-12T22:09:46.127725Z",
     "start_time": "2023-04-12T22:09:46.037229Z"
    }
   },
   "outputs": [
    {
     "data": {
      "text/html": [
       "<div>\n",
       "<style scoped>\n",
       "    .dataframe tbody tr th:only-of-type {\n",
       "        vertical-align: middle;\n",
       "    }\n",
       "\n",
       "    .dataframe tbody tr th {\n",
       "        vertical-align: top;\n",
       "    }\n",
       "\n",
       "    .dataframe thead th {\n",
       "        text-align: right;\n",
       "    }\n",
       "</style>\n",
       "<table border=\"1\" class=\"dataframe\">\n",
       "  <thead>\n",
       "    <tr style=\"text-align: right;\">\n",
       "      <th></th>\n",
       "      <th>sequence_name</th>\n",
       "      <th>firstorder</th>\n",
       "    </tr>\n",
       "  </thead>\n",
       "  <tbody>\n",
       "    <tr>\n",
       "      <th>0</th>\n",
       "      <td>GACTATCGTGCGCG.null-0</td>\n",
       "      <td>GAGTATCGTACGCG</td>\n",
       "    </tr>\n",
       "    <tr>\n",
       "      <th>1</th>\n",
       "      <td>GACTACGGTCTACG.null-0</td>\n",
       "      <td>GACTACGATCGACG</td>\n",
       "    </tr>\n",
       "    <tr>\n",
       "      <th>2</th>\n",
       "      <td>GACTACCATCGACC.null-0</td>\n",
       "      <td>GACTACGATCGACG</td>\n",
       "    </tr>\n",
       "    <tr>\n",
       "      <th>3</th>\n",
       "      <td>GACTAGCGAGCGTA.null-0</td>\n",
       "      <td>GACTATCGCGCGTA</td>\n",
       "    </tr>\n",
       "    <tr>\n",
       "      <th>4</th>\n",
       "      <td>GACTATCGCCCGGA.null-0</td>\n",
       "      <td>GACTATCGCGCGTA</td>\n",
       "    </tr>\n",
       "  </tbody>\n",
       "</table>\n",
       "</div>"
      ],
      "text/plain": [
       "           sequence_name      firstorder\n",
       "0  GACTATCGTGCGCG.null-0  GAGTATCGTACGCG\n",
       "1  GACTACGGTCTACG.null-0  GACTACGATCGACG\n",
       "2  GACTACCATCGACC.null-0  GACTACGATCGACG\n",
       "3  GACTAGCGAGCGTA.null-0  GACTATCGCGCGTA\n",
       "4  GACTATCGCCCGGA.null-0  GACTATCGCGCGTA"
      ]
     },
     "execution_count": 4,
     "metadata": {},
     "output_type": "execute_result"
    }
   ],
   "source": [
    "# open the fasta file and make dictionary\n",
    "with open(fa, \"r\") as reader:\n",
    "    fa_dict = {}\n",
    "    for value in SimpleFastaParser(reader):\n",
    "        name, seq = value\n",
    "        fa_dict[name] = seq\n",
    "\n",
    "fadf = pd.DataFrame(fa_dict.items(), columns = [\"sequence_name\", \"firstorder\"])\n",
    "fadf.head()"
   ]
  },
  {
   "cell_type": "code",
   "execution_count": 47,
   "id": "fe76cbbf",
   "metadata": {
    "ExecuteTime": {
     "end_time": "2023-04-13T00:02:40.689385Z",
     "start_time": "2023-04-13T00:02:40.627263Z"
    }
   },
   "outputs": [
    {
     "name": "stdout",
     "output_type": "stream",
     "text": [
      "(12426, 10)\n",
      "(6428, 11)\n"
     ]
    },
    {
     "data": {
      "text/html": [
       "<div>\n",
       "<style scoped>\n",
       "    .dataframe tbody tr th:only-of-type {\n",
       "        vertical-align: middle;\n",
       "    }\n",
       "\n",
       "    .dataframe tbody tr th {\n",
       "        vertical-align: top;\n",
       "    }\n",
       "\n",
       "    .dataframe thead th {\n",
       "        text-align: right;\n",
       "    }\n",
       "</style>\n",
       "<table border=\"1\" class=\"dataframe\">\n",
       "  <thead>\n",
       "    <tr style=\"text-align: right;\">\n",
       "      <th></th>\n",
       "      <th>motif_id</th>\n",
       "      <th>motif_alt_id</th>\n",
       "      <th>sequence_name</th>\n",
       "      <th>start</th>\n",
       "      <th>stop</th>\n",
       "      <th>strand</th>\n",
       "      <th>score</th>\n",
       "      <th>p-value</th>\n",
       "      <th>q-value</th>\n",
       "      <th>matched_sequence</th>\n",
       "      <th>firstorder</th>\n",
       "      <th>kmer</th>\n",
       "    </tr>\n",
       "  </thead>\n",
       "  <tbody>\n",
       "    <tr>\n",
       "      <th>0</th>\n",
       "      <td>MA1835.1</td>\n",
       "      <td>TFLG2-Zm00001d042777</td>\n",
       "      <td>TGACGTACGTAGGG.null-0</td>\n",
       "      <td>2.0</td>\n",
       "      <td>14.0</td>\n",
       "      <td>+</td>\n",
       "      <td>17.3415</td>\n",
       "      <td>1.600000e-07</td>\n",
       "      <td>0.00702</td>\n",
       "      <td>GACGTACGTACGG</td>\n",
       "      <td>CGACGTACGTACGG</td>\n",
       "      <td>TGACGTACGTAGGG</td>\n",
       "    </tr>\n",
       "    <tr>\n",
       "      <th>1</th>\n",
       "      <td>MA1822.1</td>\n",
       "      <td>Zm00001d018571</td>\n",
       "      <td>TGACGTACGTAGGG.null-0</td>\n",
       "      <td>2.0</td>\n",
       "      <td>14.0</td>\n",
       "      <td>+</td>\n",
       "      <td>16.3636</td>\n",
       "      <td>3.170000e-07</td>\n",
       "      <td>0.00319</td>\n",
       "      <td>GACGTACGTACGG</td>\n",
       "      <td>CGACGTACGTACGG</td>\n",
       "      <td>TGACGTACGTAGGG</td>\n",
       "    </tr>\n",
       "    <tr>\n",
       "      <th>2</th>\n",
       "      <td>MA1822.1</td>\n",
       "      <td>Zm00001d018571</td>\n",
       "      <td>CGTGTACGTCCCGG.null-0</td>\n",
       "      <td>1.0</td>\n",
       "      <td>13.0</td>\n",
       "      <td>+</td>\n",
       "      <td>16.0210</td>\n",
       "      <td>6.370000e-07</td>\n",
       "      <td>0.00319</td>\n",
       "      <td>CGCGTACGTACCG</td>\n",
       "      <td>CGCGTACGTACCGG</td>\n",
       "      <td>CGTGTACGTCCCGG</td>\n",
       "    </tr>\n",
       "    <tr>\n",
       "      <th>3</th>\n",
       "      <td>MA1822.1</td>\n",
       "      <td>Zm00001d018571</td>\n",
       "      <td>CGTGTACGTACTGG.null-0</td>\n",
       "      <td>1.0</td>\n",
       "      <td>13.0</td>\n",
       "      <td>+</td>\n",
       "      <td>16.0210</td>\n",
       "      <td>6.370000e-07</td>\n",
       "      <td>0.00319</td>\n",
       "      <td>CGCGTACGTACCG</td>\n",
       "      <td>CGCGTACGTACCGG</td>\n",
       "      <td>CGTGTACGTACTGG</td>\n",
       "    </tr>\n",
       "    <tr>\n",
       "      <th>4</th>\n",
       "      <td>MA1822.1</td>\n",
       "      <td>Zm00001d018571</td>\n",
       "      <td>CGCGTAGGCACCGG.null-0</td>\n",
       "      <td>1.0</td>\n",
       "      <td>13.0</td>\n",
       "      <td>+</td>\n",
       "      <td>16.0210</td>\n",
       "      <td>6.370000e-07</td>\n",
       "      <td>0.00319</td>\n",
       "      <td>CGCGTACGTACCG</td>\n",
       "      <td>CGCGTACGTACCGG</td>\n",
       "      <td>CGCGTAGGCACCGG</td>\n",
       "    </tr>\n",
       "  </tbody>\n",
       "</table>\n",
       "</div>"
      ],
      "text/plain": [
       "   motif_id          motif_alt_id          sequence_name  start  stop strand  \\\n",
       "0  MA1835.1  TFLG2-Zm00001d042777  TGACGTACGTAGGG.null-0    2.0  14.0      +   \n",
       "1  MA1822.1        Zm00001d018571  TGACGTACGTAGGG.null-0    2.0  14.0      +   \n",
       "2  MA1822.1        Zm00001d018571  CGTGTACGTCCCGG.null-0    1.0  13.0      +   \n",
       "3  MA1822.1        Zm00001d018571  CGTGTACGTACTGG.null-0    1.0  13.0      +   \n",
       "4  MA1822.1        Zm00001d018571  CGCGTAGGCACCGG.null-0    1.0  13.0      +   \n",
       "\n",
       "     score       p-value  q-value matched_sequence      firstorder  \\\n",
       "0  17.3415  1.600000e-07  0.00702    GACGTACGTACGG  CGACGTACGTACGG   \n",
       "1  16.3636  3.170000e-07  0.00319    GACGTACGTACGG  CGACGTACGTACGG   \n",
       "2  16.0210  6.370000e-07  0.00319    CGCGTACGTACCG  CGCGTACGTACCGG   \n",
       "3  16.0210  6.370000e-07  0.00319    CGCGTACGTACCG  CGCGTACGTACCGG   \n",
       "4  16.0210  6.370000e-07  0.00319    CGCGTACGTACCG  CGCGTACGTACCGG   \n",
       "\n",
       "             kmer  \n",
       "0  TGACGTACGTAGGG  \n",
       "1  TGACGTACGTAGGG  \n",
       "2  CGTGTACGTCCCGG  \n",
       "3  CGTGTACGTACTGG  \n",
       "4  CGCGTAGGCACCGG  "
      ]
     },
     "execution_count": 47,
     "metadata": {},
     "output_type": "execute_result"
    }
   ],
   "source": [
    "# read dataframe\n",
    "df = pd.read_csv(tsv, sep ='\\t')\n",
    "print(df.shape)\n",
    "\n",
    "# remove nas\n",
    "df = df.loc[~df[\"sequence_name\"].isna()]\n",
    "df = df.loc[df[\"score\"]>=10]\n",
    "df = df.loc[df[\"q-value\"]<=0.05]\n",
    "# add nullomer sequences\n",
    "df = pd.merge(df, fadf, how=\"left\")\n",
    "print(df.shape)\n",
    "\n",
    "df[\"kmer\"] = df[\"sequence_name\"].apply(lambda x: str(x).split(\".\")[0])\n",
    "\n",
    "\n",
    "df.head()"
   ]
  },
  {
   "cell_type": "code",
   "execution_count": 48,
   "id": "05f29064",
   "metadata": {
    "ExecuteTime": {
     "end_time": "2023-04-13T00:02:42.952143Z",
     "start_time": "2023-04-13T00:02:42.915727Z"
    }
   },
   "outputs": [
    {
     "data": {
      "text/html": [
       "<div>\n",
       "<style scoped>\n",
       "    .dataframe tbody tr th:only-of-type {\n",
       "        vertical-align: middle;\n",
       "    }\n",
       "\n",
       "    .dataframe tbody tr th {\n",
       "        vertical-align: top;\n",
       "    }\n",
       "\n",
       "    .dataframe thead th {\n",
       "        text-align: right;\n",
       "    }\n",
       "</style>\n",
       "<table border=\"1\" class=\"dataframe\">\n",
       "  <thead>\n",
       "    <tr style=\"text-align: right;\">\n",
       "      <th></th>\n",
       "      <th>start</th>\n",
       "      <th>stop</th>\n",
       "      <th>score</th>\n",
       "      <th>p-value</th>\n",
       "      <th>q-value</th>\n",
       "    </tr>\n",
       "  </thead>\n",
       "  <tbody>\n",
       "    <tr>\n",
       "      <th>count</th>\n",
       "      <td>6428.00000</td>\n",
       "      <td>6428.000000</td>\n",
       "      <td>6428.000000</td>\n",
       "      <td>6.428000e+03</td>\n",
       "      <td>6428.000000</td>\n",
       "    </tr>\n",
       "    <tr>\n",
       "      <th>mean</th>\n",
       "      <td>3.97682</td>\n",
       "      <td>11.077474</td>\n",
       "      <td>11.816115</td>\n",
       "      <td>5.256002e-05</td>\n",
       "      <td>0.021968</td>\n",
       "    </tr>\n",
       "    <tr>\n",
       "      <th>std</th>\n",
       "      <td>2.05652</td>\n",
       "      <td>2.044602</td>\n",
       "      <td>1.098556</td>\n",
       "      <td>2.804036e-05</td>\n",
       "      <td>0.013443</td>\n",
       "    </tr>\n",
       "    <tr>\n",
       "      <th>min</th>\n",
       "      <td>1.00000</td>\n",
       "      <td>7.000000</td>\n",
       "      <td>10.000000</td>\n",
       "      <td>1.600000e-07</td>\n",
       "      <td>0.003190</td>\n",
       "    </tr>\n",
       "    <tr>\n",
       "      <th>25%</th>\n",
       "      <td>2.00000</td>\n",
       "      <td>9.000000</td>\n",
       "      <td>11.000000</td>\n",
       "      <td>2.960000e-05</td>\n",
       "      <td>0.011725</td>\n",
       "    </tr>\n",
       "    <tr>\n",
       "      <th>50%</th>\n",
       "      <td>4.00000</td>\n",
       "      <td>11.000000</td>\n",
       "      <td>11.918000</td>\n",
       "      <td>4.870000e-05</td>\n",
       "      <td>0.016200</td>\n",
       "    </tr>\n",
       "    <tr>\n",
       "      <th>75%</th>\n",
       "      <td>6.00000</td>\n",
       "      <td>13.000000</td>\n",
       "      <td>12.485900</td>\n",
       "      <td>7.470000e-05</td>\n",
       "      <td>0.033600</td>\n",
       "    </tr>\n",
       "    <tr>\n",
       "      <th>max</th>\n",
       "      <td>8.00000</td>\n",
       "      <td>14.000000</td>\n",
       "      <td>17.341500</td>\n",
       "      <td>9.880000e-05</td>\n",
       "      <td>0.050000</td>\n",
       "    </tr>\n",
       "  </tbody>\n",
       "</table>\n",
       "</div>"
      ],
      "text/plain": [
       "            start         stop        score       p-value      q-value\n",
       "count  6428.00000  6428.000000  6428.000000  6.428000e+03  6428.000000\n",
       "mean      3.97682    11.077474    11.816115  5.256002e-05     0.021968\n",
       "std       2.05652     2.044602     1.098556  2.804036e-05     0.013443\n",
       "min       1.00000     7.000000    10.000000  1.600000e-07     0.003190\n",
       "25%       2.00000     9.000000    11.000000  2.960000e-05     0.011725\n",
       "50%       4.00000    11.000000    11.918000  4.870000e-05     0.016200\n",
       "75%       6.00000    13.000000    12.485900  7.470000e-05     0.033600\n",
       "max       8.00000    14.000000    17.341500  9.880000e-05     0.050000"
      ]
     },
     "execution_count": 48,
     "metadata": {},
     "output_type": "execute_result"
    }
   ],
   "source": [
    "df.describe()"
   ]
  },
  {
   "cell_type": "code",
   "execution_count": 49,
   "id": "5b191154",
   "metadata": {
    "ExecuteTime": {
     "end_time": "2023-04-13T00:02:45.945383Z",
     "start_time": "2023-04-13T00:02:45.929899Z"
    }
   },
   "outputs": [],
   "source": [
    "t = df[[\"firstorder\",\"motif_id\"]].drop_duplicates()\n",
    "fo = t.groupby(\"firstorder\")[\"motif_id\"].count().reset_index()"
   ]
  },
  {
   "cell_type": "code",
   "execution_count": 50,
   "id": "adc8535b",
   "metadata": {
    "ExecuteTime": {
     "end_time": "2023-04-13T00:02:46.776334Z",
     "start_time": "2023-04-13T00:02:46.491227Z"
    }
   },
   "outputs": [
    {
     "data": {
      "text/plain": [
       "[Text(0.5, 0, 'n motif ids\\nper firstorder')]"
      ]
     },
     "execution_count": 50,
     "metadata": {},
     "output_type": "execute_result"
    },
    {
     "data": {
      "image/png": "[encoded data removed]",
      "text/plain": [
       "<Figure size 640x480 with 1 Axes>"
      ]
     },
     "metadata": {},
     "output_type": "display_data"
    }
   ],
   "source": [
    "fig, ax = plt.subplots()\n",
    "sns.histplot(fo['motif_id'])\n",
    "ax.set(xlabel = \"n motif ids\\nper firstorder\")"
   ]
  },
  {
   "cell_type": "code",
   "execution_count": 51,
   "id": "bb8e76d6",
   "metadata": {
    "ExecuteTime": {
     "end_time": "2023-04-13T00:02:47.096191Z",
     "start_time": "2023-04-13T00:02:47.091732Z"
    }
   },
   "outputs": [
    {
     "data": {
      "text/plain": [
       "(0.4765392991486834, 0.4584289496910856)"
      ]
     },
     "execution_count": 51,
     "metadata": {},
     "output_type": "execute_result"
    }
   ],
   "source": [
    "# n kmers, nullomers w/ motif predictions, \n",
    "4814/10102, 2597/5665"
   ]
  },
  {
   "cell_type": "code",
   "execution_count": 52,
   "id": "980a7abe",
   "metadata": {
    "ExecuteTime": {
     "end_time": "2023-04-13T00:02:48.432520Z",
     "start_time": "2023-04-13T00:02:48.423642Z"
    }
   },
   "outputs": [
    {
     "data": {
      "text/plain": [
       "motif_alt_id\n",
       "CAMTA3                     9\n",
       "E2F4                      64\n",
       "E2F8                     121\n",
       "MBP1                     485\n",
       "MBP1::SWI6               718\n",
       "MYB119                    50\n",
       "MYB124                    59\n",
       "MYB77                      4\n",
       "ONECUT2                   33\n",
       "OPI1                     257\n",
       "OVOL2                     10\n",
       "Os05g0497200              32\n",
       "POPTR_0002s00440g        371\n",
       "RSC3                     863\n",
       "RSC30                    639\n",
       "SMZ                      154\n",
       "SPL11                    127\n",
       "SPL5                       4\n",
       "SPL7                    1014\n",
       "STP1                      21\n",
       "STP4                      57\n",
       "SWI4                     133\n",
       "TCFL5                    203\n",
       "TFLG2-Zm00001d042777      88\n",
       "YPR013C                  299\n",
       "ZBED1                     16\n",
       "Zm00001d018571            43\n",
       "bHLH145                   12\n",
       "wc-1                     542\n",
       "Name: sequence_name, dtype: int64"
      ]
     },
     "execution_count": 52,
     "metadata": {},
     "output_type": "execute_result"
    }
   ],
   "source": [
    "df.groupby([\"motif_alt_id\"])[\"sequence_name\"].count()"
   ]
  },
  {
   "cell_type": "markdown",
   "id": "2fe474c1",
   "metadata": {},
   "source": [
    "## how many first orders match a motif_id?"
   ]
  },
  {
   "cell_type": "code",
   "execution_count": 53,
   "id": "fcd4b1ef",
   "metadata": {
    "ExecuteTime": {
     "end_time": "2023-04-13T00:02:58.546223Z",
     "start_time": "2023-04-13T00:02:58.507629Z"
    }
   },
   "outputs": [
    {
     "data": {
      "text/html": [
       "<div>\n",
       "<style scoped>\n",
       "    .dataframe tbody tr th:only-of-type {\n",
       "        vertical-align: middle;\n",
       "    }\n",
       "\n",
       "    .dataframe tbody tr th {\n",
       "        vertical-align: top;\n",
       "    }\n",
       "\n",
       "    .dataframe thead th {\n",
       "        text-align: right;\n",
       "    }\n",
       "</style>\n",
       "<table border=\"1\" class=\"dataframe\">\n",
       "  <thead>\n",
       "    <tr style=\"text-align: right;\">\n",
       "      <th></th>\n",
       "      <th>motif_id</th>\n",
       "      <th>motif_alt_id</th>\n",
       "      <th>firstorder</th>\n",
       "      <th>sequence_name</th>\n",
       "    </tr>\n",
       "  </thead>\n",
       "  <tbody>\n",
       "    <tr>\n",
       "      <th>972</th>\n",
       "      <td>MA0375.1</td>\n",
       "      <td>RSC30</td>\n",
       "      <td>CTACGCGCGCGTAG</td>\n",
       "      <td>16</td>\n",
       "    </tr>\n",
       "    <tr>\n",
       "      <th>732</th>\n",
       "      <td>MA0374.1</td>\n",
       "      <td>RSC3</td>\n",
       "      <td>CTACGCGCGCGTAG</td>\n",
       "      <td>16</td>\n",
       "    </tr>\n",
       "    <tr>\n",
       "      <th>875</th>\n",
       "      <td>MA0374.1</td>\n",
       "      <td>RSC3</td>\n",
       "      <td>TTCGCGCGCCGTAC</td>\n",
       "      <td>14</td>\n",
       "    </tr>\n",
       "    <tr>\n",
       "      <th>1077</th>\n",
       "      <td>MA0375.1</td>\n",
       "      <td>RSC30</td>\n",
       "      <td>TTCGCGCGCCGTAC</td>\n",
       "      <td>14</td>\n",
       "    </tr>\n",
       "    <tr>\n",
       "      <th>2270</th>\n",
       "      <td>MA1060.1</td>\n",
       "      <td>SPL7</td>\n",
       "      <td>TGATCGTACGCCGC</td>\n",
       "      <td>12</td>\n",
       "    </tr>\n",
       "    <tr>\n",
       "      <th>...</th>\n",
       "      <td>...</td>\n",
       "      <td>...</td>\n",
       "      <td>...</td>\n",
       "      <td>...</td>\n",
       "    </tr>\n",
       "    <tr>\n",
       "      <th>1842</th>\n",
       "      <td>MA1060.1</td>\n",
       "      <td>SPL7</td>\n",
       "      <td>ACCGCGACGTACGA</td>\n",
       "      <td>1</td>\n",
       "    </tr>\n",
       "    <tr>\n",
       "      <th>1841</th>\n",
       "      <td>MA1060.1</td>\n",
       "      <td>SPL7</td>\n",
       "      <td>ACCGATCGTACGCG</td>\n",
       "      <td>1</td>\n",
       "    </tr>\n",
       "    <tr>\n",
       "      <th>783</th>\n",
       "      <td>MA0374.1</td>\n",
       "      <td>RSC3</td>\n",
       "      <td>TACGCGCCGAACGA</td>\n",
       "      <td>1</td>\n",
       "    </tr>\n",
       "    <tr>\n",
       "      <th>1837</th>\n",
       "      <td>MA1060.1</td>\n",
       "      <td>SPL7</td>\n",
       "      <td>AACGTACGACCGCG</td>\n",
       "      <td>1</td>\n",
       "    </tr>\n",
       "    <tr>\n",
       "      <th>1989</th>\n",
       "      <td>MA1060.1</td>\n",
       "      <td>SPL7</td>\n",
       "      <td>CGGCGTACGAATCG</td>\n",
       "      <td>1</td>\n",
       "    </tr>\n",
       "  </tbody>\n",
       "</table>\n",
       "<p>2677 rows × 4 columns</p>\n",
       "</div>"
      ],
      "text/plain": [
       "      motif_id motif_alt_id      firstorder  sequence_name\n",
       "972   MA0375.1        RSC30  CTACGCGCGCGTAG             16\n",
       "732   MA0374.1         RSC3  CTACGCGCGCGTAG             16\n",
       "875   MA0374.1         RSC3  TTCGCGCGCCGTAC             14\n",
       "1077  MA0375.1        RSC30  TTCGCGCGCCGTAC             14\n",
       "2270  MA1060.1         SPL7  TGATCGTACGCCGC             12\n",
       "...        ...          ...             ...            ...\n",
       "1842  MA1060.1         SPL7  ACCGCGACGTACGA              1\n",
       "1841  MA1060.1         SPL7  ACCGATCGTACGCG              1\n",
       "783   MA0374.1         RSC3  TACGCGCCGAACGA              1\n",
       "1837  MA1060.1         SPL7  AACGTACGACCGCG              1\n",
       "1989  MA1060.1         SPL7  CGGCGTACGAATCG              1\n",
       "\n",
       "[2677 rows x 4 columns]"
      ]
     },
     "execution_count": 53,
     "metadata": {},
     "output_type": "execute_result"
    }
   ],
   "source": [
    "cols =[\"motif_id\", \"motif_alt_id\", \"firstorder\"]\n",
    "\n",
    "df.groupby(cols)[\"sequence_name\"].count(\n",
    ").reset_index().sort_values(by=\"sequence_name\", ascending=False)"
   ]
  },
  {
   "cell_type": "code",
   "execution_count": 54,
   "id": "300d6749",
   "metadata": {
    "ExecuteTime": {
     "end_time": "2023-04-13T00:02:58.984918Z",
     "start_time": "2023-04-13T00:02:58.956397Z"
    }
   },
   "outputs": [
    {
     "data": {
      "text/html": [
       "<div>\n",
       "<style scoped>\n",
       "    .dataframe tbody tr th:only-of-type {\n",
       "        vertical-align: middle;\n",
       "    }\n",
       "\n",
       "    .dataframe tbody tr th {\n",
       "        vertical-align: top;\n",
       "    }\n",
       "\n",
       "    .dataframe thead th {\n",
       "        text-align: right;\n",
       "    }\n",
       "</style>\n",
       "<table border=\"1\" class=\"dataframe\">\n",
       "  <thead>\n",
       "    <tr style=\"text-align: right;\">\n",
       "      <th></th>\n",
       "      <th>motif_id</th>\n",
       "      <th>motif_alt_id</th>\n",
       "      <th>kmer</th>\n",
       "      <th>firstorder</th>\n",
       "      <th>sequence_name</th>\n",
       "    </tr>\n",
       "  </thead>\n",
       "  <tbody>\n",
       "    <tr>\n",
       "      <th>1709</th>\n",
       "      <td>MA0374.1</td>\n",
       "      <td>RSC3</td>\n",
       "      <td>TAAGGCACGCGAAT</td>\n",
       "      <td>TACGGCGCGCGAAT</td>\n",
       "      <td>4</td>\n",
       "    </tr>\n",
       "    <tr>\n",
       "      <th>1876</th>\n",
       "      <td>MA0374.1</td>\n",
       "      <td>RSC3</td>\n",
       "      <td>TTAACGCTCGCTGA</td>\n",
       "      <td>TTAACGCGCGCCGA</td>\n",
       "      <td>4</td>\n",
       "    </tr>\n",
       "    <tr>\n",
       "      <th>2011</th>\n",
       "      <td>MA0375.1</td>\n",
       "      <td>RSC30</td>\n",
       "      <td>ATCTGCTCGCCATA</td>\n",
       "      <td>ATCGGCGCGCCATA</td>\n",
       "      <td>4</td>\n",
       "    </tr>\n",
       "    <tr>\n",
       "      <th>2012</th>\n",
       "      <td>MA0375.1</td>\n",
       "      <td>RSC30</td>\n",
       "      <td>ATCTGGGCGCCATA</td>\n",
       "      <td>ATCGGCGCGCCATA</td>\n",
       "      <td>4</td>\n",
       "    </tr>\n",
       "    <tr>\n",
       "      <th>4255</th>\n",
       "      <td>MA1060.1</td>\n",
       "      <td>SPL7</td>\n",
       "      <td>CGTCGTCCGCTAGG</td>\n",
       "      <td>CGTCGTACGCTACG</td>\n",
       "      <td>4</td>\n",
       "    </tr>\n",
       "    <tr>\n",
       "      <th>...</th>\n",
       "      <td>...</td>\n",
       "      <td>...</td>\n",
       "      <td>...</td>\n",
       "      <td>...</td>\n",
       "      <td>...</td>\n",
       "    </tr>\n",
       "    <tr>\n",
       "      <th>2000</th>\n",
       "      <td>MA0375.1</td>\n",
       "      <td>RSC30</td>\n",
       "      <td>ATCCGCGAGGTCCG</td>\n",
       "      <td>ATACGCGCGGTCCG</td>\n",
       "      <td>1</td>\n",
       "    </tr>\n",
       "    <tr>\n",
       "      <th>1999</th>\n",
       "      <td>MA0375.1</td>\n",
       "      <td>RSC30</td>\n",
       "      <td>ATATCGGCCGGGCG</td>\n",
       "      <td>ATATCGTCCGCGCG</td>\n",
       "      <td>1</td>\n",
       "    </tr>\n",
       "    <tr>\n",
       "      <th>1997</th>\n",
       "      <td>MA0375.1</td>\n",
       "      <td>RSC30</td>\n",
       "      <td>ATATCCGCCGCGCG</td>\n",
       "      <td>ATATCGTCCGCGCG</td>\n",
       "      <td>1</td>\n",
       "    </tr>\n",
       "    <tr>\n",
       "      <th>1993</th>\n",
       "      <td>MA0375.1</td>\n",
       "      <td>RSC30</td>\n",
       "      <td>ATATAGTGCGCCAC</td>\n",
       "      <td>ATATAGCGCGCGAC</td>\n",
       "      <td>1</td>\n",
       "    </tr>\n",
       "    <tr>\n",
       "      <th>2697</th>\n",
       "      <td>MA0434.1</td>\n",
       "      <td>YPR013C</td>\n",
       "      <td>CGATCTCCGTCTCG</td>\n",
       "      <td>CGATCTACGTCGCG</td>\n",
       "      <td>1</td>\n",
       "    </tr>\n",
       "  </tbody>\n",
       "</table>\n",
       "<p>5394 rows × 5 columns</p>\n",
       "</div>"
      ],
      "text/plain": [
       "      motif_id motif_alt_id            kmer      firstorder  sequence_name\n",
       "1709  MA0374.1         RSC3  TAAGGCACGCGAAT  TACGGCGCGCGAAT              4\n",
       "1876  MA0374.1         RSC3  TTAACGCTCGCTGA  TTAACGCGCGCCGA              4\n",
       "2011  MA0375.1        RSC30  ATCTGCTCGCCATA  ATCGGCGCGCCATA              4\n",
       "2012  MA0375.1        RSC30  ATCTGGGCGCCATA  ATCGGCGCGCCATA              4\n",
       "4255  MA1060.1         SPL7  CGTCGTCCGCTAGG  CGTCGTACGCTACG              4\n",
       "...        ...          ...             ...             ...            ...\n",
       "2000  MA0375.1        RSC30  ATCCGCGAGGTCCG  ATACGCGCGGTCCG              1\n",
       "1999  MA0375.1        RSC30  ATATCGGCCGGGCG  ATATCGTCCGCGCG              1\n",
       "1997  MA0375.1        RSC30  ATATCCGCCGCGCG  ATATCGTCCGCGCG              1\n",
       "1993  MA0375.1        RSC30  ATATAGTGCGCCAC  ATATAGCGCGCGAC              1\n",
       "2697  MA0434.1      YPR013C  CGATCTCCGTCTCG  CGATCTACGTCGCG              1\n",
       "\n",
       "[5394 rows x 5 columns]"
      ]
     },
     "execution_count": 54,
     "metadata": {},
     "output_type": "execute_result"
    }
   ],
   "source": [
    "cols =[\"motif_id\", \"motif_alt_id\", \"kmer\", \"firstorder\"]\n",
    "\n",
    "df.groupby(cols)[\"sequence_name\"].count(\n",
    ").reset_index().sort_values(by=\"sequence_name\", ascending=False)"
   ]
  },
  {
   "cell_type": "code",
   "execution_count": 55,
   "id": "99f9d791",
   "metadata": {
    "ExecuteTime": {
     "end_time": "2023-04-13T00:03:00.310482Z",
     "start_time": "2023-04-13T00:03:00.304751Z"
    }
   },
   "outputs": [
    {
     "data": {
      "text/plain": [
       "<function pandas.core.reshape.pivot.pivot(data: 'DataFrame', *, index: 'IndexLabel | None' = None, columns: 'IndexLabel | None' = None, values: 'IndexLabel | None' = None) -> 'DataFrame'>"
      ]
     },
     "execution_count": 55,
     "metadata": {},
     "output_type": "execute_result"
    }
   ],
   "source": [
    "pd.pivot"
   ]
  },
  {
   "cell_type": "code",
   "execution_count": 56,
   "id": "9d1ef885",
   "metadata": {
    "ExecuteTime": {
     "end_time": "2023-04-13T00:03:00.974845Z",
     "start_time": "2023-04-13T00:03:00.959022Z"
    }
   },
   "outputs": [
    {
     "data": {
      "text/html": [
       "<div>\n",
       "<style scoped>\n",
       "    .dataframe tbody tr th:only-of-type {\n",
       "        vertical-align: middle;\n",
       "    }\n",
       "\n",
       "    .dataframe tbody tr th {\n",
       "        vertical-align: top;\n",
       "    }\n",
       "\n",
       "    .dataframe thead th {\n",
       "        text-align: right;\n",
       "    }\n",
       "</style>\n",
       "<table border=\"1\" class=\"dataframe\">\n",
       "  <thead>\n",
       "    <tr style=\"text-align: right;\">\n",
       "      <th></th>\n",
       "      <th>motif_id</th>\n",
       "      <th>motif_alt_id</th>\n",
       "      <th>sequence_name</th>\n",
       "      <th>start</th>\n",
       "      <th>stop</th>\n",
       "      <th>strand</th>\n",
       "      <th>score</th>\n",
       "      <th>p-value</th>\n",
       "      <th>q-value</th>\n",
       "      <th>matched_sequence</th>\n",
       "      <th>firstorder</th>\n",
       "      <th>kmer</th>\n",
       "    </tr>\n",
       "  </thead>\n",
       "  <tbody>\n",
       "    <tr>\n",
       "      <th>0</th>\n",
       "      <td>MA1835.1</td>\n",
       "      <td>TFLG2-Zm00001d042777</td>\n",
       "      <td>TGACGTACGTAGGG.null-0</td>\n",
       "      <td>2.0</td>\n",
       "      <td>14.0</td>\n",
       "      <td>+</td>\n",
       "      <td>17.3415</td>\n",
       "      <td>1.600000e-07</td>\n",
       "      <td>0.00702</td>\n",
       "      <td>GACGTACGTACGG</td>\n",
       "      <td>CGACGTACGTACGG</td>\n",
       "      <td>TGACGTACGTAGGG</td>\n",
       "    </tr>\n",
       "    <tr>\n",
       "      <th>1</th>\n",
       "      <td>MA1822.1</td>\n",
       "      <td>Zm00001d018571</td>\n",
       "      <td>TGACGTACGTAGGG.null-0</td>\n",
       "      <td>2.0</td>\n",
       "      <td>14.0</td>\n",
       "      <td>+</td>\n",
       "      <td>16.3636</td>\n",
       "      <td>3.170000e-07</td>\n",
       "      <td>0.00319</td>\n",
       "      <td>GACGTACGTACGG</td>\n",
       "      <td>CGACGTACGTACGG</td>\n",
       "      <td>TGACGTACGTAGGG</td>\n",
       "    </tr>\n",
       "    <tr>\n",
       "      <th>2</th>\n",
       "      <td>MA1822.1</td>\n",
       "      <td>Zm00001d018571</td>\n",
       "      <td>CGTGTACGTCCCGG.null-0</td>\n",
       "      <td>1.0</td>\n",
       "      <td>13.0</td>\n",
       "      <td>+</td>\n",
       "      <td>16.0210</td>\n",
       "      <td>6.370000e-07</td>\n",
       "      <td>0.00319</td>\n",
       "      <td>CGCGTACGTACCG</td>\n",
       "      <td>CGCGTACGTACCGG</td>\n",
       "      <td>CGTGTACGTCCCGG</td>\n",
       "    </tr>\n",
       "    <tr>\n",
       "      <th>3</th>\n",
       "      <td>MA1822.1</td>\n",
       "      <td>Zm00001d018571</td>\n",
       "      <td>CGTGTACGTACTGG.null-0</td>\n",
       "      <td>1.0</td>\n",
       "      <td>13.0</td>\n",
       "      <td>+</td>\n",
       "      <td>16.0210</td>\n",
       "      <td>6.370000e-07</td>\n",
       "      <td>0.00319</td>\n",
       "      <td>CGCGTACGTACCG</td>\n",
       "      <td>CGCGTACGTACCGG</td>\n",
       "      <td>CGTGTACGTACTGG</td>\n",
       "    </tr>\n",
       "    <tr>\n",
       "      <th>4</th>\n",
       "      <td>MA1822.1</td>\n",
       "      <td>Zm00001d018571</td>\n",
       "      <td>CGCGTAGGCACCGG.null-0</td>\n",
       "      <td>1.0</td>\n",
       "      <td>13.0</td>\n",
       "      <td>+</td>\n",
       "      <td>16.0210</td>\n",
       "      <td>6.370000e-07</td>\n",
       "      <td>0.00319</td>\n",
       "      <td>CGCGTACGTACCG</td>\n",
       "      <td>CGCGTACGTACCGG</td>\n",
       "      <td>CGCGTAGGCACCGG</td>\n",
       "    </tr>\n",
       "  </tbody>\n",
       "</table>\n",
       "</div>"
      ],
      "text/plain": [
       "   motif_id          motif_alt_id          sequence_name  start  stop strand  \\\n",
       "0  MA1835.1  TFLG2-Zm00001d042777  TGACGTACGTAGGG.null-0    2.0  14.0      +   \n",
       "1  MA1822.1        Zm00001d018571  TGACGTACGTAGGG.null-0    2.0  14.0      +   \n",
       "2  MA1822.1        Zm00001d018571  CGTGTACGTCCCGG.null-0    1.0  13.0      +   \n",
       "3  MA1822.1        Zm00001d018571  CGTGTACGTACTGG.null-0    1.0  13.0      +   \n",
       "4  MA1822.1        Zm00001d018571  CGCGTAGGCACCGG.null-0    1.0  13.0      +   \n",
       "\n",
       "     score       p-value  q-value matched_sequence      firstorder  \\\n",
       "0  17.3415  1.600000e-07  0.00702    GACGTACGTACGG  CGACGTACGTACGG   \n",
       "1  16.3636  3.170000e-07  0.00319    GACGTACGTACGG  CGACGTACGTACGG   \n",
       "2  16.0210  6.370000e-07  0.00319    CGCGTACGTACCG  CGCGTACGTACCGG   \n",
       "3  16.0210  6.370000e-07  0.00319    CGCGTACGTACCG  CGCGTACGTACCGG   \n",
       "4  16.0210  6.370000e-07  0.00319    CGCGTACGTACCG  CGCGTACGTACCGG   \n",
       "\n",
       "             kmer  \n",
       "0  TGACGTACGTAGGG  \n",
       "1  TGACGTACGTAGGG  \n",
       "2  CGTGTACGTCCCGG  \n",
       "3  CGTGTACGTACTGG  \n",
       "4  CGCGTAGGCACCGG  "
      ]
     },
     "execution_count": 56,
     "metadata": {},
     "output_type": "execute_result"
    }
   ],
   "source": [
    "df.head()"
   ]
  },
  {
   "cell_type": "code",
   "execution_count": 57,
   "id": "4191d218",
   "metadata": {
    "ExecuteTime": {
     "end_time": "2023-04-13T00:03:01.649586Z",
     "start_time": "2023-04-13T00:03:01.499637Z"
    }
   },
   "outputs": [
    {
     "ename": "TypeError",
     "evalue": "pivot() missing 1 required argument: 'columns'",
     "output_type": "error",
     "traceback": [
      "\u001b[0;31m---------------------------------------------------------------------------\u001b[0m",
      "\u001b[0;31mTypeError\u001b[0m                                 Traceback (most recent call last)",
      "Cell \u001b[0;32mIn [57], line 1\u001b[0m\n\u001b[0;32m----> 1\u001b[0m \u001b[43mpd\u001b[49m\u001b[38;5;241;43m.\u001b[39;49m\u001b[43mpivot\u001b[49m\u001b[43m(\u001b[49m\u001b[43mdf\u001b[49m\u001b[43m)\u001b[49m\n",
      "File \u001b[0;32m~/.conda/envs/wynenv/lib/python3.10/site-packages/pandas/util/_decorators.py:331\u001b[0m, in \u001b[0;36mdeprecate_nonkeyword_arguments.<locals>.decorate.<locals>.wrapper\u001b[0;34m(*args, **kwargs)\u001b[0m\n\u001b[1;32m    325\u001b[0m \u001b[38;5;28;01mif\u001b[39;00m \u001b[38;5;28mlen\u001b[39m(args) \u001b[38;5;241m>\u001b[39m num_allow_args:\n\u001b[1;32m    326\u001b[0m     warnings\u001b[38;5;241m.\u001b[39mwarn(\n\u001b[1;32m    327\u001b[0m         msg\u001b[38;5;241m.\u001b[39mformat(arguments\u001b[38;5;241m=\u001b[39m_format_argument_list(allow_args)),\n\u001b[1;32m    328\u001b[0m         \u001b[38;5;167;01mFutureWarning\u001b[39;00m,\n\u001b[1;32m    329\u001b[0m         stacklevel\u001b[38;5;241m=\u001b[39mfind_stack_level(),\n\u001b[1;32m    330\u001b[0m     )\n\u001b[0;32m--> 331\u001b[0m \u001b[38;5;28;01mreturn\u001b[39;00m \u001b[43mfunc\u001b[49m\u001b[43m(\u001b[49m\u001b[38;5;241;43m*\u001b[39;49m\u001b[43margs\u001b[49m\u001b[43m,\u001b[49m\u001b[43m \u001b[49m\u001b[38;5;241;43m*\u001b[39;49m\u001b[38;5;241;43m*\u001b[39;49m\u001b[43mkwargs\u001b[49m\u001b[43m)\u001b[49m\n",
      "File \u001b[0;32m~/.conda/envs/wynenv/lib/python3.10/site-packages/pandas/core/reshape/pivot.py:496\u001b[0m, in \u001b[0;36mpivot\u001b[0;34m(data, index, columns, values)\u001b[0m\n\u001b[1;32m    486\u001b[0m \u001b[38;5;129m@Substitution\u001b[39m(\u001b[38;5;124m\"\u001b[39m\u001b[38;5;130;01m\\n\u001b[39;00m\u001b[38;5;124mdata : DataFrame\u001b[39m\u001b[38;5;124m\"\u001b[39m)\n\u001b[1;32m    487\u001b[0m \u001b[38;5;129m@Appender\u001b[39m(_shared_docs[\u001b[38;5;124m\"\u001b[39m\u001b[38;5;124mpivot\u001b[39m\u001b[38;5;124m\"\u001b[39m], indents\u001b[38;5;241m=\u001b[39m\u001b[38;5;241m1\u001b[39m)\n\u001b[1;32m    488\u001b[0m \u001b[38;5;129m@deprecate_nonkeyword_arguments\u001b[39m(version\u001b[38;5;241m=\u001b[39m\u001b[38;5;28;01mNone\u001b[39;00m, allowed_args\u001b[38;5;241m=\u001b[39m[\u001b[38;5;124m\"\u001b[39m\u001b[38;5;124mdata\u001b[39m\u001b[38;5;124m\"\u001b[39m])\n\u001b[0;32m   (...)\u001b[0m\n\u001b[1;32m    493\u001b[0m     values: IndexLabel \u001b[38;5;241m|\u001b[39m \u001b[38;5;28;01mNone\u001b[39;00m \u001b[38;5;241m=\u001b[39m \u001b[38;5;28;01mNone\u001b[39;00m,\n\u001b[1;32m    494\u001b[0m ) \u001b[38;5;241m-\u001b[39m\u001b[38;5;241m>\u001b[39m DataFrame:\n\u001b[1;32m    495\u001b[0m     \u001b[38;5;28;01mif\u001b[39;00m columns \u001b[38;5;129;01mis\u001b[39;00m \u001b[38;5;28;01mNone\u001b[39;00m:\n\u001b[0;32m--> 496\u001b[0m         \u001b[38;5;28;01mraise\u001b[39;00m \u001b[38;5;167;01mTypeError\u001b[39;00m(\u001b[38;5;124m\"\u001b[39m\u001b[38;5;124mpivot() missing 1 required argument: \u001b[39m\u001b[38;5;124m'\u001b[39m\u001b[38;5;124mcolumns\u001b[39m\u001b[38;5;124m'\u001b[39m\u001b[38;5;124m\"\u001b[39m)\n\u001b[1;32m    498\u001b[0m     columns_listlike \u001b[38;5;241m=\u001b[39m com\u001b[38;5;241m.\u001b[39mconvert_to_list_like(columns)\n\u001b[1;32m    500\u001b[0m     indexed: DataFrame \u001b[38;5;241m|\u001b[39m Series\n",
      "\u001b[0;31mTypeError\u001b[0m: pivot() missing 1 required argument: 'columns'"
     ]
    }
   ],
   "source": [
    "pd.pivot(df)"
   ]
  },
  {
   "cell_type": "code",
   "execution_count": 1,
   "id": "1de15ef3",
   "metadata": {
    "ExecuteTime": {
     "end_time": "2023-04-13T17:22:07.802412Z",
     "start_time": "2023-04-13T17:22:06.295539Z"
    }
   },
   "outputs": [],
   "source": [
    "import h5py"
   ]
  },
  {
   "cell_type": "code",
   "execution_count": null,
   "id": "418808fc",
   "metadata": {},
   "outputs": [],
   "source": []
  }
 ],
 "metadata": {
  "kernelspec": {
   "display_name": "Python (wynenv)",
   "language": "python",
   "name": "wynenv"
  },
  "language_info": {
   "codemirror_mode": {
    "name": "ipython",
    "version": 3
   },
   "file_extension": ".py",
   "mimetype": "text/x-python",
   "name": "python",
   "nbconvert_exporter": "python",
   "pygments_lexer": "ipython3",
   "version": "3.10.8"
  },
  "toc": {
   "base_numbering": 1,
   "nav_menu": {},
   "number_sections": true,
   "sideBar": true,
   "skip_h1_title": false,
   "title_cell": "Table of Contents",
   "title_sidebar": "Contents",
   "toc_cell": false,
   "toc_position": {},
   "toc_section_display": true,
   "toc_window_display": false
  },
  "varInspector": {
   "cols": {
    "lenName": 16,
    "lenType": 16,
    "lenVar": 40
   },
   "kernels_config": {
    "python": {
     "delete_cmd_postfix": "",
     "delete_cmd_prefix": "del ",
     "library": "var_list.py",
     "varRefreshCmd": "print(var_dic_list())"
    },
    "r": {
     "delete_cmd_postfix": ") ",
     "delete_cmd_prefix": "rm(",
     "library": "var_list.r",
     "varRefreshCmd": "cat(var_dic_list()) "
    }
   },
   "types_to_exclude": [
    "module",
    "function",
    "builtin_function_or_method",
    "instance",
    "_Feature"
   ],
   "window_display": false
  }
 },
 "nbformat": 4,
 "nbformat_minor": 5
}
