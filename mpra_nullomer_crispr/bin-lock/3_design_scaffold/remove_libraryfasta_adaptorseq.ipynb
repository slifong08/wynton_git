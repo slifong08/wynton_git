{
 "cells": [
  {
   "cell_type": "markdown",
   "id": "f0f6171c",
   "metadata": {},
   "source": [
    "# 20240501\n",
    "# sarah fong\n",
    "\n",
    "- Remove adaptors from nullomer MPRA library. \n",
    "- Write .noAdaptors.fa"
   ]
  },
  {
   "cell_type": "code",
   "execution_count": 53,
   "id": "f40e3547",
   "metadata": {
    "ExecuteTime": {
     "end_time": "2024-05-01T19:03:49.825111Z",
     "start_time": "2024-05-01T19:03:49.822328Z"
    }
   },
   "outputs": [],
   "source": [
    "from Bio.SeqIO.FastaIO import SimpleFastaParser\n",
    "import os, sys\n",
    "import pandas as pd"
   ]
  },
  {
   "cell_type": "code",
   "execution_count": 54,
   "id": "d488de38",
   "metadata": {
    "ExecuteTime": {
     "end_time": "2024-05-01T19:03:50.204804Z",
     "start_time": "2024-05-01T19:03:50.144941Z"
    }
   },
   "outputs": [],
   "source": [
    "PATH = \"/wynton/group/ahituv/fongsl/projects/CRISPR_nullomer_MPRA/data/20230815_nullomer_MPRA_assoc/\"\n",
    "BUILD = \"hs1\"\n",
    "# read\n",
    "LIB_FA =os.path.join(PATH, \"15mer.fo.pam.scaffold.ext200.library.TWIST.fa\")\n",
    "if BUILD ==\"hs1\":\n",
    "    JOINT_LIB = \"/wynton/home/ahituv/fongsl/MPRA/agarwal_2023/hs1/joint_library.liftOver.to.hs1.bed\" # hs1 liftover coordinates \n",
    "else:\n",
    "    JOINT_LIB = \"/wynton/home/ahituv/fongsl/MPRA/agarwal_2023/joint_library.bed\" # hs1 liftover coordinates \n",
    "\n",
    "# write\n",
    "LIB_FA_NO_ADAPTORS = LIB_FA.strip(\".fa\") + \".noAdaptors.fa\" # no adaptor.fa fil\n",
    "LIB_BED = LIB_FA.strip(\".fa\") + f\"{BUILD}.bed\"  # hs1.bed file for all "
   ]
  },
  {
   "cell_type": "code",
   "execution_count": 37,
   "id": "857bac70",
   "metadata": {
    "ExecuteTime": {
     "end_time": "2024-05-01T18:58:54.732948Z",
     "start_time": "2024-05-01T18:58:54.729561Z"
    }
   },
   "outputs": [],
   "source": [
    "PATH = \"/wynton/group/ahituv/fongsl/projects/CRISPR_nullomer_MPRA/data/20230815_nullomer_MPRA_assoc/\"\n",
    "\n",
    "# read\n",
    "LIB_FA =os.path.join(PATH, \"15mer.fo.pam.scaffold.ext200.library.TWIST.fa\")\n",
    "JOINT_LIB = \"/wynton/home/ahituv/fongsl/MPRA/agarwal_2023/hs1/joint_library.liftOver.to.hs1.bed\" # hs1 liftover coordinates \n",
    "\n",
    "# write\n",
    "LIB_FA_NO_ADAPTORS = LIB_FA.strip(\".fa\") + \".noAdaptors.fa\" # no adaptor.fa fil\n",
    "LIB_BED = LIB_FA.strip(\".fa\") + \".bed\"  # hs1.bed "
   ]
  },
  {
   "cell_type": "markdown",
   "id": "db7095bd",
   "metadata": {},
   "source": [
    "## write fa w/ remove adaptors"
   ]
  },
  {
   "cell_type": "code",
   "execution_count": 10,
   "id": "9cb5d75a",
   "metadata": {
    "ExecuteTime": {
     "end_time": "2024-05-01T17:55:24.061238Z",
     "start_time": "2024-05-01T17:55:23.740394Z"
    }
   },
   "outputs": [],
   "source": [
    "writer = open(LIB_FA_NO_ADAPTORS, \"w\")\n",
    "\n",
    "with open(LIB_FA, \"r\") as fa:  # read fasta file\n",
    "    for value in SimpleFastaParser(fa):\n",
    "        seq_id, seq = value\n",
    "        \n",
    "        no_adaptor = seq[15:-15]  # trim adaptors \n",
    "        \n",
    "        if len(no_adaptor) == 200:\n",
    "            writer.write(f\">{seq_id}\\n{no_adaptor}\\n\")\n",
    "        else:\n",
    "            print(\"something wrong\", seq_id)\n",
    "writer.close()"
   ]
  },
  {
   "cell_type": "markdown",
   "id": "711eea4f",
   "metadata": {
    "ExecuteTime": {
     "end_time": "2024-05-01T17:56:21.670083Z",
     "start_time": "2024-05-01T17:56:21.666872Z"
    }
   },
   "source": [
    "#without adaptors leng"
   ]
  },
  {
   "cell_type": "code",
   "execution_count": 18,
   "id": "1562645c",
   "metadata": {
    "ExecuteTime": {
     "end_time": "2024-05-01T17:56:26.752150Z",
     "start_time": "2024-05-01T17:56:26.674032Z"
    }
   },
   "outputs": [
    {
     "name": "stdout",
     "output_type": "stream",
     "text": [
      "219050 /wynton/group/ahituv/fongsl/projects/CRISPR_nullomer_MPRA/data/20230815_nullomer_MPRA_assoc/15mer.fo.pam.scaffold.ext200.library.TWIST.noAdaptors.fa\n"
     ]
    }
   ],
   "source": [
    "%%bash \n",
    "wc -l /wynton/group/ahituv/fongsl/projects/CRISPR_nullomer_MPRA/data/20230815_nullomer_MPRA_assoc/15mer.fo.pam.scaffold.ext200.library.TWIST.noAdaptors.fa"
   ]
  },
  {
   "cell_type": "markdown",
   "id": "0e363be7",
   "metadata": {
    "ExecuteTime": {
     "end_time": "2024-05-01T17:56:03.797645Z",
     "start_time": "2024-05-01T17:56:03.792962Z"
    }
   },
   "source": [
    " with adaptors length"
   ]
  },
  {
   "cell_type": "code",
   "execution_count": 20,
   "id": "77fdc3f2",
   "metadata": {
    "ExecuteTime": {
     "end_time": "2024-05-01T17:56:34.917958Z",
     "start_time": "2024-05-01T17:56:34.843291Z"
    }
   },
   "outputs": [
    {
     "name": "stdout",
     "output_type": "stream",
     "text": [
      "219050 /wynton/group/ahituv/fongsl/projects/CRISPR_nullomer_MPRA/data/20230815_nullomer_MPRA_assoc/15mer.fo.pam.scaffold.ext200.library.TWIST.fa\n"
     ]
    }
   ],
   "source": [
    "%%bash \n",
    "wc -l /wynton/group/ahituv/fongsl/projects/CRISPR_nullomer_MPRA/data/20230815_nullomer_MPRA_assoc/15mer.fo.pam.scaffold.ext200.library.TWIST.fa"
   ]
  },
  {
   "cell_type": "markdown",
   "id": "28a20d0d",
   "metadata": {},
   "source": [
    "# make mapping bed "
   ]
  },
  {
   "cell_type": "code",
   "execution_count": 13,
   "id": "1a490325",
   "metadata": {
    "ExecuteTime": {
     "end_time": "2024-05-01T18:16:10.850229Z",
     "start_time": "2024-05-01T18:16:10.438875Z"
    }
   },
   "outputs": [],
   "source": [
    "seq_ids, seqs = [], []\n",
    "with open(LIB_FA, \"r\") as fa:  # read fasta file\n",
    "    for value in SimpleFastaParser(fa):\n",
    "        seq_id, seq = value\n",
    "        seq_ids.append(seq_id), seqs.append(seq)"
   ]
  },
  {
   "cell_type": "code",
   "execution_count": 19,
   "id": "574d2015",
   "metadata": {
    "ExecuteTime": {
     "end_time": "2024-05-01T18:21:08.004034Z",
     "start_time": "2024-05-01T18:21:07.847051Z"
    }
   },
   "outputs": [
    {
     "data": {
      "text/html": [
       "<div>\n",
       "<style scoped>\n",
       "    .dataframe tbody tr th:only-of-type {\n",
       "        vertical-align: middle;\n",
       "    }\n",
       "\n",
       "    .dataframe tbody tr th {\n",
       "        vertical-align: top;\n",
       "    }\n",
       "\n",
       "    .dataframe thead th {\n",
       "        text-align: right;\n",
       "    }\n",
       "</style>\n",
       "<table border=\"1\" class=\"dataframe\">\n",
       "  <thead>\n",
       "    <tr style=\"text-align: right;\">\n",
       "      <th></th>\n",
       "      <th>seq.id</th>\n",
       "      <th>seq</th>\n",
       "      <th>type</th>\n",
       "      <th>name</th>\n",
       "      <th>activity</th>\n",
       "    </tr>\n",
       "  </thead>\n",
       "  <tbody>\n",
       "    <tr>\n",
       "      <th>0</th>\n",
       "      <td>endog|HepG2_DNasePeakNoPromoter10535|active</td>\n",
       "      <td>AGGACCGGATCAACTGGAGAAGAGGAGGGCCCAGGATCCAGCAGAG...</td>\n",
       "      <td>endog</td>\n",
       "      <td>HepG2_DNasePeakNoPromoter10535</td>\n",
       "      <td>active</td>\n",
       "    </tr>\n",
       "    <tr>\n",
       "      <th>1</th>\n",
       "      <td>endog|HepG2_DNasePeakNoPromoter10586|active</td>\n",
       "      <td>AGGACCGGATCAACTCTAGAACCTATTTTTAACCGAAGAACTACTT...</td>\n",
       "      <td>endog</td>\n",
       "      <td>HepG2_DNasePeakNoPromoter10586</td>\n",
       "      <td>active</td>\n",
       "    </tr>\n",
       "    <tr>\n",
       "      <th>2</th>\n",
       "      <td>endog|HepG2_DNasePeakNoPromoter10714|inactive</td>\n",
       "      <td>AGGACCGGATCAACTTCCCTGTGACACAAGAGTCTTCCCAGTCTTT...</td>\n",
       "      <td>endog</td>\n",
       "      <td>HepG2_DNasePeakNoPromoter10714</td>\n",
       "      <td>inactive</td>\n",
       "    </tr>\n",
       "    <tr>\n",
       "      <th>3</th>\n",
       "      <td>endog|HepG2_DNasePeakNoPromoter10849|inactive</td>\n",
       "      <td>AGGACCGGATCAACTCTCTTTTTCTCTCTCTCTCTCCCCCCCACAA...</td>\n",
       "      <td>endog</td>\n",
       "      <td>HepG2_DNasePeakNoPromoter10849</td>\n",
       "      <td>inactive</td>\n",
       "    </tr>\n",
       "    <tr>\n",
       "      <th>4</th>\n",
       "      <td>endog|HepG2_DNasePeakNoPromoter11263|active</td>\n",
       "      <td>AGGACCGGATCAACTTCTGGAATTATAATTACCACGTGTTGGGGGA...</td>\n",
       "      <td>endog</td>\n",
       "      <td>HepG2_DNasePeakNoPromoter11263</td>\n",
       "      <td>active</td>\n",
       "    </tr>\n",
       "  </tbody>\n",
       "</table>\n",
       "</div>"
      ],
      "text/plain": [
       "                                          seq.id  \\\n",
       "0    endog|HepG2_DNasePeakNoPromoter10535|active   \n",
       "1    endog|HepG2_DNasePeakNoPromoter10586|active   \n",
       "2  endog|HepG2_DNasePeakNoPromoter10714|inactive   \n",
       "3  endog|HepG2_DNasePeakNoPromoter10849|inactive   \n",
       "4    endog|HepG2_DNasePeakNoPromoter11263|active   \n",
       "\n",
       "                                                 seq   type  \\\n",
       "0  AGGACCGGATCAACTGGAGAAGAGGAGGGCCCAGGATCCAGCAGAG...  endog   \n",
       "1  AGGACCGGATCAACTCTAGAACCTATTTTTAACCGAAGAACTACTT...  endog   \n",
       "2  AGGACCGGATCAACTTCCCTGTGACACAAGAGTCTTCCCAGTCTTT...  endog   \n",
       "3  AGGACCGGATCAACTCTCTTTTTCTCTCTCTCTCTCCCCCCCACAA...  endog   \n",
       "4  AGGACCGGATCAACTTCTGGAATTATAATTACCACGTGTTGGGGGA...  endog   \n",
       "\n",
       "                             name  activity  \n",
       "0  HepG2_DNasePeakNoPromoter10535    active  \n",
       "1  HepG2_DNasePeakNoPromoter10586    active  \n",
       "2  HepG2_DNasePeakNoPromoter10714  inactive  \n",
       "3  HepG2_DNasePeakNoPromoter10849  inactive  \n",
       "4  HepG2_DNasePeakNoPromoter11263    active  "
      ]
     },
     "execution_count": 19,
     "metadata": {},
     "output_type": "execute_result"
    }
   ],
   "source": [
    "fa_df = pd.DataFrame(seqs, seq_ids).reset_index()\n",
    "fa_df.columns=[\"seq.id\", \"seq\"]\n",
    "fa_df[\"type\"] = fa_df[\"seq.id\"].apply(lambda x: x.split(\"|\")[0])\n",
    "fa_df[\"name\"] = fa_df[\"seq.id\"].apply(lambda x: x.split(\"|\")[1])\n",
    "fa_df[\"activity\"] = fa_df[\"seq.id\"].apply(lambda x: x.split(\"|\")[-1])\n",
    "fa_df.head()"
   ]
  },
  {
   "cell_type": "markdown",
   "id": "237448d6",
   "metadata": {
    "ExecuteTime": {
     "end_time": "2024-05-01T18:59:01.751200Z",
     "start_time": "2024-05-01T18:59:01.613692Z"
    }
   },
   "source": [
    "## open Agarwal library bed file in hg38"
   ]
  },
  {
   "cell_type": "code",
   "execution_count": 55,
   "id": "b8f10ece",
   "metadata": {
    "ExecuteTime": {
     "end_time": "2024-05-01T19:03:58.030233Z",
     "start_time": "2024-05-01T19:03:57.958524Z"
    }
   },
   "outputs": [],
   "source": [
    "joint = pd.read_csv(JOINT_LIB, sep='\\t', header=None, names=[\"#chr\", \"start\", \"end\", \"name\", \"strand\"])"
   ]
  },
  {
   "cell_type": "markdown",
   "id": "ee882dbf",
   "metadata": {},
   "source": [
    "## merge 60k MPRA library w/ scaffold library"
   ]
  },
  {
   "cell_type": "code",
   "execution_count": 56,
   "id": "7b7f6162",
   "metadata": {
    "ExecuteTime": {
     "end_time": "2024-05-01T19:03:59.563915Z",
     "start_time": "2024-05-01T19:03:59.287317Z"
    }
   },
   "outputs": [],
   "source": [
    "fa_joint = pd.merge(joint, fa_df[[\"name\", \"seq.id\", \"seq\"]], how=\"right\", right_on = \"name\", left_on=\"name\").drop_duplicates()\n",
    "fa_joint = fa_joint.loc[~fa_joint['start'].isna()] # remove controls\n",
    "fa_joint[[\"start\", \"end\"]] = fa_joint[[\"start\", \"end\"]].astype(int)"
   ]
  },
  {
   "cell_type": "code",
   "execution_count": 57,
   "id": "698c1131",
   "metadata": {
    "ExecuteTime": {
     "end_time": "2024-05-01T19:04:06.621724Z",
     "start_time": "2024-05-01T19:04:06.617539Z"
    }
   },
   "outputs": [
    {
     "data": {
      "text/plain": [
       "(108359, 7)"
      ]
     },
     "execution_count": 57,
     "metadata": {},
     "output_type": "execute_result"
    }
   ],
   "source": [
    "fa_joint.shape"
   ]
  },
  {
   "cell_type": "markdown",
   "id": "64188189",
   "metadata": {},
   "source": [
    "## write library bed"
   ]
  },
  {
   "cell_type": "code",
   "execution_count": 58,
   "id": "7180d990",
   "metadata": {
    "ExecuteTime": {
     "end_time": "2024-05-01T19:04:09.680470Z",
     "start_time": "2024-05-01T19:04:08.894257Z"
    }
   },
   "outputs": [],
   "source": [
    "fa_joint.to_csv(LIB_BED,sep='\\t', index=False)"
   ]
  },
  {
   "cell_type": "code",
   "execution_count": 59,
   "id": "48a0bac8",
   "metadata": {
    "ExecuteTime": {
     "end_time": "2024-05-01T19:04:12.298582Z",
     "start_time": "2024-05-01T19:04:12.270469Z"
    }
   },
   "outputs": [
    {
     "data": {
      "text/html": [
       "<div>\n",
       "<style scoped>\n",
       "    .dataframe tbody tr th:only-of-type {\n",
       "        vertical-align: middle;\n",
       "    }\n",
       "\n",
       "    .dataframe tbody tr th {\n",
       "        vertical-align: top;\n",
       "    }\n",
       "\n",
       "    .dataframe thead th {\n",
       "        text-align: right;\n",
       "    }\n",
       "</style>\n",
       "<table border=\"1\" class=\"dataframe\">\n",
       "  <thead>\n",
       "    <tr style=\"text-align: right;\">\n",
       "      <th></th>\n",
       "      <th>#chr</th>\n",
       "      <th>start</th>\n",
       "      <th>end</th>\n",
       "      <th>name</th>\n",
       "      <th>strand</th>\n",
       "    </tr>\n",
       "  </thead>\n",
       "  <tbody>\n",
       "  </tbody>\n",
       "</table>\n",
       "</div>"
      ],
      "text/plain": [
       "Empty DataFrame\n",
       "Columns: [#chr, start, end, name, strand]\n",
       "Index: []"
      ]
     },
     "execution_count": 59,
     "metadata": {},
     "output_type": "execute_result"
    }
   ],
   "source": [
    "joint.loc[joint['name'].str.contains(\"WTC11_seq22409\")]"
   ]
  },
  {
   "cell_type": "code",
   "execution_count": 60,
   "id": "77842153",
   "metadata": {
    "ExecuteTime": {
     "end_time": "2024-05-01T19:04:14.391231Z",
     "start_time": "2024-05-01T19:04:14.387456Z"
    }
   },
   "outputs": [
    {
     "data": {
      "text/plain": [
       "'/wynton/group/ahituv/fongsl/projects/CRISPR_nullomer_MPRA/data/20230815_nullomer_MPRA_assoc/15mer.fo.pam.scaffold.ext200.library.TWISThs1.bed'"
      ]
     },
     "execution_count": 60,
     "metadata": {},
     "output_type": "execute_result"
    }
   ],
   "source": [
    "LIB_BED"
   ]
  },
  {
   "cell_type": "code",
   "execution_count": null,
   "id": "868dedc3",
   "metadata": {},
   "outputs": [],
   "source": []
  }
 ],
 "metadata": {
  "kernelspec": {
   "display_name": "Python (mamba)",
   "language": "python",
   "name": "mamba"
  },
  "language_info": {
   "codemirror_mode": {
    "name": "ipython",
    "version": 3
   },
   "file_extension": ".py",
   "mimetype": "text/x-python",
   "name": "python",
   "nbconvert_exporter": "python",
   "pygments_lexer": "ipython3",
   "version": "3.9.16"
  },
  "toc": {
   "base_numbering": 1,
   "nav_menu": {},
   "number_sections": true,
   "sideBar": true,
   "skip_h1_title": false,
   "title_cell": "Table of Contents",
   "title_sidebar": "Contents",
   "toc_cell": false,
   "toc_position": {},
   "toc_section_display": true,
   "toc_window_display": false
  },
  "varInspector": {
   "cols": {
    "lenName": 16,
    "lenType": 16,
    "lenVar": 40
   },
   "kernels_config": {
    "python": {
     "delete_cmd_postfix": "",
     "delete_cmd_prefix": "del ",
     "library": "var_list.py",
     "varRefreshCmd": "print(var_dic_list())"
    },
    "r": {
     "delete_cmd_postfix": ") ",
     "delete_cmd_prefix": "rm(",
     "library": "var_list.r",
     "varRefreshCmd": "cat(var_dic_list()) "
    }
   },
   "types_to_exclude": [
    "module",
    "function",
    "builtin_function_or_method",
    "instance",
    "_Feature"
   ],
   "window_display": false
  }
 },
 "nbformat": 4,
 "nbformat_minor": 5
}
