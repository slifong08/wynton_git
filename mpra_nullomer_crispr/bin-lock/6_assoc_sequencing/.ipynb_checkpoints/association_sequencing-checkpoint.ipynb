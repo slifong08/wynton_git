{
 "cells": [
  {
   "cell_type": "code",
   "execution_count": 1,
   "id": "e6df9ed7",
   "metadata": {},
   "outputs": [],
   "source": [
    "from Bio import SeqIO\n",
    "from Bio.Align import PairwiseAligner\n",
    "import config_readwrite as crw\n",
    "import glob\n",
    "import os\n",
    "import sys\n",
    "import pandas as pd"
   ]
  },
  {
   "cell_type": "code",
   "execution_count": 2,
   "id": "4817a736",
   "metadata": {},
   "outputs": [],
   "source": [
    "config_tag = \"config\"\n",
    "config, cfn = crw.read_config(os.path.join(os.path.dirname(os.getcwd()), config_tag))"
   ]
  },
  {
   "cell_type": "markdown",
   "id": "9bd6dde5",
   "metadata": {},
   "source": [
    "# config"
   ]
  },
  {
   "cell_type": "code",
   "execution_count": 3,
   "id": "f2ac9d7c",
   "metadata": {},
   "outputs": [],
   "source": [
    "# write novogene info\n",
    "section = \"novogene\"\n",
    "crw.check(config, section)\n",
    "\n",
    "write_dict = {\n",
    "        \"Host\":\"sftp://38.122.175.98\",\n",
    "        \"Username\":\"1735-2193\",\n",
    "        \"Password\":\"BRdCV2\",\n",
    "        \"Port\":\"2222\",\n",
    "        }\n",
    "for key, value in write_dict.items():\n",
    "    config[section][key]=value"
   ]
  },
  {
   "cell_type": "code",
   "execution_count": 5,
   "id": "2619c600",
   "metadata": {},
   "outputs": [],
   "source": [
    "# write association seq data, paths\n",
    "\n",
    "section = \"assoc_seq\"\n",
    "\n",
    "PATH = \"/wynton/group/ahituv/fongsl/projects/nullomers/data/20230815_nullomer_MPRA\"\n",
    "NAME = \"null_mpra\"\n",
    "FASTQ_PREFIX = \"SF_asso_S1\"\n",
    "SRC = \"/wynton/group/ahituv/fongsl/src/MPRAflow\"\n",
    "\n",
    "R1= os.path.join(PATH, f\"{FASTQ_PREFIX}_R1_001.fastq.gz\")\n",
    "R2= os.path.join(PATH, f\"{FASTQ_PREFIX}_R4_001.fastq.gz\")\n",
    "BC= os.path.join(PATH, f\"{FASTQ_PREFIX}_R2_001.fastq.gz\") # note: SF_asso_S1_R3_001.fastq.gz is common i5 GCCAGCGCCG\n",
    "DESIGN = os.path.join(os.environ[\"HOME\"],\n",
    "                      \"/nullomers/results/lock/library_design\", \n",
    "                     \"15mer.fo.pam.scaffold.ext200.library.TWIST.fa\")\n",
    "\n",
    "NEXTFLOW_SCRIPT = \"/wynton/group/ahituv/fongsl/src/MPRAflow/association.nf\"\n",
    "\n",
    "write_dict = {\n",
    "    \"path\":PATH,\n",
    "    \"name\":NAME,\n",
    "    \"fastq_prefix\":FASTQ_PREFIX, \n",
    "    \"r1\": R1, \n",
    "    \"r2\": R2, \n",
    "    \"design_fa\": DESIGN, \n",
    "    \"src\": SRC\n",
    "\n",
    "}\n",
    "\n",
    "for key, value in write_dict.items():\n",
    "    config[section][key]=value\n",
    "crw.write(config, cfn)"
   ]
  },
  {
   "cell_type": "markdown",
   "id": "f040084c",
   "metadata": {},
   "source": [
    "# nextflow"
   ]
  },
  {
   "cell_type": "code",
   "execution_count": 4,
   "id": "2644806d",
   "metadata": {},
   "outputs": [
    {
     "name": "stdout",
     "output_type": "stream",
     "text": [
      "cd /wynton/group/ahituv/fongsl/projects/nullomers/data/20230815_nullomer_MPRA | nextflow run /wynton/group/ahituv/fongsl/src/MPRAflow/association.nf --w /wynton/group/ahituv/fongsl/projects/nullomers/data/20230815_nullomer_MPRA --name null_mpra --fastq-insert SF_asso_S1_R1_001.fastq.gz --fastq-insertPE SF_asso_S1_R4_001.fastq.gz --design /nullomers/results/lock/library_design/15mer.fo.pam.scaffold.ext200.library.TWIST.fa --fastq-bc SF_asso_S1_R2_001.fastq.gz\n"
     ]
    }
   ],
   "source": [
    "CMD = \" \".join([\n",
    "    \"cd\", SRC, \n",
    "    \"|\",\n",
    "    \"nextflow run\",\n",
    "    NEXTFLOW_SCRIPT,\n",
    "    \"--w\",\n",
    "    PATH,\n",
    "    \"--name\", \n",
    "    NAME,\n",
    "    \"--fastq-insert\", \n",
    "    R1, \n",
    "    \"--fastq-insertPE\", \n",
    "    R2, \n",
    "    \"--design\", \n",
    "    DESIGN, \n",
    "    \"--fastq-bc\", \n",
    "    BC\n",
    "    ])\n",
    "print(CMD)"
   ]
  },
  {
   "cell_type": "markdown",
   "id": "fd03f0d0",
   "metadata": {},
   "source": [
    "    # example from gordon 2020\n",
    "    \n",
    "    nextflow run --w <path/to/Basic>/Assoc_Basic/work association.nf \n",
    "             --name SRR10800986 \n",
    "        --fastq-insert \"<path/to/Basic>/Assoc_Basic/data/ SRR10800986_1.fastq.gz\" \n",
    "        --fastq-insertPE \"<path/to/Basic>/Assoc_Basic/ data/SRR10800986_3.fastq.gz\" \n",
    "        --fastq-bc \"<path/to/Basic>/Assoc_ Basic/data/SRR10800986_2.fastq.gz\" \n",
    "        --design \"<path/to/Basic>/Assoc_ Basic/data/design.fa\""
   ]
  }
 ],
 "metadata": {
  "kernelspec": {
   "display_name": "Python (mamba)",
   "language": "python",
   "name": "mamba"
  },
  "language_info": {
   "codemirror_mode": {
    "name": "ipython",
    "version": 3
   },
   "file_extension": ".py",
   "mimetype": "text/x-python",
   "name": "python",
   "nbconvert_exporter": "python",
   "pygments_lexer": "ipython3",
   "version": "3.9.16"
  }
 },
 "nbformat": 4,
 "nbformat_minor": 5
}
