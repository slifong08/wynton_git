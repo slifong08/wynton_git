{
 "cells": [
  {
   "cell_type": "code",
   "execution_count": 8,
   "id": "47cf7f61",
   "metadata": {
    "ExecuteTime": {
     "end_time": "2023-09-22T18:38:57.515195Z",
     "start_time": "2023-09-22T18:38:57.508357Z"
    }
   },
   "outputs": [
    {
     "data": {
      "text/plain": [
       "('sans-serif', 'Arial', 18)"
      ]
     },
     "execution_count": 8,
     "metadata": {},
     "output_type": "execute_result"
    }
   ],
   "source": [
    "import config_readwrite as crw\n",
    "import matplotlib.pyplot as plt\n",
    "import os, sys\n",
    "\n",
    "import pandas as pd\n",
    "import pyarrow\n",
    "import seaborn as sns\n",
    "import plot_params as pp\n",
    "pp.fonts()"
   ]
  },
  {
   "cell_type": "code",
   "execution_count": 68,
   "id": "eb6b37de",
   "metadata": {
    "ExecuteTime": {
     "end_time": "2023-09-22T18:57:31.940286Z",
     "start_time": "2023-09-22T18:57:31.931759Z"
    }
   },
   "outputs": [],
   "source": [
    "PREFIX = \"null_mpra\"\n",
    "PATH = os.path.join(\"cd\",\n",
    "                    PREFIX)\n",
    "\n",
    "BARCODE_COUNT = os.path.join(PATH, f\"{PREFIX}_barcodes_per_candidate-no_repeats-no_jackpots.feather\")\n",
    "PICKLE_COOR = os.path.join(PATH, \"null_mpra_filtered_coords_to_barcodes.pickle\")\n",
    "\n",
    "tag = \"config.ini\"\n",
    "config, cfn = crw.read(os.path.join(os.path.dirname(os.getcwd()), tag))\n",
    "RE = config['local_path'][\"results\"]"
   ]
  },
  {
   "cell_type": "code",
   "execution_count": 3,
   "id": "95c9a7df",
   "metadata": {
    "ExecuteTime": {
     "end_time": "2023-09-22T18:38:34.102035Z",
     "start_time": "2023-09-22T18:38:33.828757Z"
    }
   },
   "outputs": [],
   "source": [
    "section = \"assoc_seq\"\n",
    "crw.check(config, section)\n",
    "\n",
    "config[section][\"path\"] = PATH\n",
    "config[section][\"BARCODE_COUNT\"] = BARCODE_COUNT\n",
    "config[section][\"PICKLE_COOR\"] = PICKLE_COOR\n"
   ]
  },
  {
   "cell_type": "markdown",
   "id": "a1b074ad",
   "metadata": {},
   "source": [
    "# read feather"
   ]
  },
  {
   "cell_type": "code",
   "execution_count": null,
   "id": "2fcc6f21",
   "metadata": {
    "ExecuteTime": {
     "end_time": "2023-09-22T18:38:34.316495Z",
     "start_time": "2023-09-22T18:38:34.105906Z"
    }
   },
   "outputs": [],
   "source": [
    "df = pd.read_feather(BARCODE_COUNT)"
   ]
  },
  {
   "cell_type": "markdown",
   "id": "22e33c42",
   "metadata": {
    "ExecuteTime": {
     "end_time": "2023-09-22T18:38:34.316495Z",
     "start_time": "2023-09-22T18:38:34.105906Z"
    }
   },
   "source": [
    "## filter sequences with fewer than 10 barcodes"
   ]
  },
  {
   "cell_type": "code",
   "execution_count": 23,
   "id": "d207594c",
   "metadata": {
    "ExecuteTime": {
     "end_time": "2023-09-22T18:44:11.165014Z",
     "start_time": "2023-09-22T18:44:11.134636Z"
    }
   },
   "outputs": [
    {
     "data": {
      "text/html": [
       "<div>\n",
       "<style scoped>\n",
       "    .dataframe tbody tr th:only-of-type {\n",
       "        vertical-align: middle;\n",
       "    }\n",
       "\n",
       "    .dataframe tbody tr th {\n",
       "        vertical-align: top;\n",
       "    }\n",
       "\n",
       "    .dataframe thead th {\n",
       "        text-align: right;\n",
       "    }\n",
       "</style>\n",
       "<table border=\"1\" class=\"dataframe\">\n",
       "  <thead>\n",
       "    <tr style=\"text-align: right;\">\n",
       "      <th></th>\n",
       "      <th>coord</th>\n",
       "      <th>n_barcodes</th>\n",
       "      <th>null_id</th>\n",
       "      <th>seq_id</th>\n",
       "      <th>activity</th>\n",
       "    </tr>\n",
       "  </thead>\n",
       "  <tbody>\n",
       "    <tr>\n",
       "      <th>0</th>\n",
       "      <td>15-firstorder.63414|WTC11_seq51996_F|inactive</td>\n",
       "      <td>198</td>\n",
       "      <td>15-firstorder.63414</td>\n",
       "      <td>WTC11_seq51996_F</td>\n",
       "      <td>inactive</td>\n",
       "    </tr>\n",
       "    <tr>\n",
       "      <th>1</th>\n",
       "      <td>15-firstorder.1307144|HepG2_DNasePeakNoPromote...</td>\n",
       "      <td>664</td>\n",
       "      <td>15-firstorder.1307144</td>\n",
       "      <td>HepG2_DNasePeakNoPromoter58688</td>\n",
       "      <td>active</td>\n",
       "    </tr>\n",
       "    <tr>\n",
       "      <th>2</th>\n",
       "      <td>15-firstorder.2355935|HepG2_DNasePeakNoPromote...</td>\n",
       "      <td>151</td>\n",
       "      <td>15-firstorder.2355935</td>\n",
       "      <td>HepG2_DNasePeakNoPromoter50640</td>\n",
       "      <td>inactive</td>\n",
       "    </tr>\n",
       "    <tr>\n",
       "      <th>3</th>\n",
       "      <td>15-firstorder.1412646|K562_peak57048|inactive</td>\n",
       "      <td>342</td>\n",
       "      <td>15-firstorder.1412646</td>\n",
       "      <td>K562_peak57048</td>\n",
       "      <td>inactive</td>\n",
       "    </tr>\n",
       "    <tr>\n",
       "      <th>4</th>\n",
       "      <td>15-firstorder.192228|WTC11_seq41747_F|inactive</td>\n",
       "      <td>260</td>\n",
       "      <td>15-firstorder.192228</td>\n",
       "      <td>WTC11_seq41747_F</td>\n",
       "      <td>inactive</td>\n",
       "    </tr>\n",
       "  </tbody>\n",
       "</table>\n",
       "</div>"
      ],
      "text/plain": [
       "                                               coord  n_barcodes  \\\n",
       "0      15-firstorder.63414|WTC11_seq51996_F|inactive         198   \n",
       "1  15-firstorder.1307144|HepG2_DNasePeakNoPromote...         664   \n",
       "2  15-firstorder.2355935|HepG2_DNasePeakNoPromote...         151   \n",
       "3      15-firstorder.1412646|K562_peak57048|inactive         342   \n",
       "4     15-firstorder.192228|WTC11_seq41747_F|inactive         260   \n",
       "\n",
       "                 null_id                          seq_id  activity  \n",
       "0    15-firstorder.63414                WTC11_seq51996_F  inactive  \n",
       "1  15-firstorder.1307144  HepG2_DNasePeakNoPromoter58688    active  \n",
       "2  15-firstorder.2355935  HepG2_DNasePeakNoPromoter50640  inactive  \n",
       "3  15-firstorder.1412646                  K562_peak57048  inactive  \n",
       "4   15-firstorder.192228                WTC11_seq41747_F  inactive  "
      ]
     },
     "execution_count": 23,
     "metadata": {},
     "output_type": "execute_result"
    }
   ],
   "source": [
    "df = df.loc[df[\"n_barcodes\"]>=20]\n",
    "df.head()"
   ]
  },
  {
   "cell_type": "code",
   "execution_count": 24,
   "id": "495d00b1",
   "metadata": {
    "ExecuteTime": {
     "end_time": "2023-09-22T18:44:14.128726Z",
     "start_time": "2023-09-22T18:44:14.114740Z"
    }
   },
   "outputs": [
    {
     "data": {
      "text/plain": [
       "count    109057.000000\n",
       "mean        188.367982\n",
       "std         115.595707\n",
       "min          20.000000\n",
       "25%         108.000000\n",
       "50%         163.000000\n",
       "75%         239.000000\n",
       "max        1308.000000\n",
       "Name: n_barcodes, dtype: float64"
      ]
     },
     "execution_count": 24,
     "metadata": {},
     "output_type": "execute_result"
    }
   ],
   "source": [
    "df[\"n_barcodes\"].describe()"
   ]
  },
  {
   "cell_type": "code",
   "execution_count": 72,
   "id": "1d139481",
   "metadata": {
    "ExecuteTime": {
     "end_time": "2023-09-22T19:08:24.930767Z",
     "start_time": "2023-09-22T19:08:24.364472Z"
    }
   },
   "outputs": [
    {
     "data": {
      "image/png": "[encoded data removed]",
      "text/plain": [
       "<Figure size 400x400 with 1 Axes>"
      ]
     },
     "metadata": {},
     "output_type": "display_data"
    }
   ],
   "source": [
    "fig, ax = plt.subplots(figsize = (4,4))\n",
    "\n",
    "sns.histplot(x='n_barcodes', data=df, binwidth=25)\n",
    "ax.set(title=\"all sequences\")\n",
    "out= os.path.join(RE, \"association_sequencings.all_barcodes.pdf\")\n",
    "plt.savefig(out, bbox_inches=\"tight\")"
   ]
  },
  {
   "cell_type": "markdown",
   "id": "f8bf69a6",
   "metadata": {},
   "source": [
    "# clean up activity column"
   ]
  },
  {
   "cell_type": "code",
   "execution_count": 47,
   "id": "0c22254c",
   "metadata": {
    "ExecuteTime": {
     "end_time": "2023-09-22T18:48:17.756651Z",
     "start_time": "2023-09-22T18:48:17.317321Z"
    }
   },
   "outputs": [
    {
     "data": {
      "text/plain": [
       "{0, 'active', 'inactive', 'scramble', 'syn'}"
      ]
     },
     "execution_count": 47,
     "metadata": {},
     "output_type": "execute_result"
    }
   ],
   "source": [
    "df[[\"null_id\", \"seq_id\", \"enhancer_activity\"]] = df[\"coord\"].str.split(\"|\", expand=True)\n",
    "\n",
    "\n",
    "# annotate scramble\n",
    "df.loc[(df[\"enhancer_activity\"].isna()) &\n",
    "      df[\"null_id\"].str.contains(\"scramble\"), \"enhancer_activity\"] = 'scramble'\n",
    "\n",
    "\n",
    "# annotate control high\n",
    "df.loc[(df[\"enhancer_activity\"].isna()) &\n",
    "      df[\"null_id\"].astype(str).str.contains(\"control\"), \"enhancer_activity\"] = 'ctrl_high'\n",
    "\n",
    "# annotate synthetic sequences\n",
    "df.loc[df[\"enhancer_activity\"].astype(str).str.contains(\":\"), \"enhancer_activity\"] = \"syn\"\n",
    "\n",
    "df = df.fillna(0)\n",
    "\n",
    "set(df['enhancer_activity'])"
   ]
  },
  {
   "cell_type": "code",
   "execution_count": 48,
   "id": "25afb2c8",
   "metadata": {
    "ExecuteTime": {
     "end_time": "2023-09-22T18:48:21.731871Z",
     "start_time": "2023-09-22T18:48:21.676876Z"
    }
   },
   "outputs": [
    {
     "data": {
      "text/html": [
       "<div>\n",
       "<style scoped>\n",
       "    .dataframe tbody tr th:only-of-type {\n",
       "        vertical-align: middle;\n",
       "    }\n",
       "\n",
       "    .dataframe tbody tr th {\n",
       "        vertical-align: top;\n",
       "    }\n",
       "\n",
       "    .dataframe thead th {\n",
       "        text-align: right;\n",
       "    }\n",
       "</style>\n",
       "<table border=\"1\" class=\"dataframe\">\n",
       "  <thead>\n",
       "    <tr style=\"text-align: right;\">\n",
       "      <th></th>\n",
       "      <th>count</th>\n",
       "      <th>mean</th>\n",
       "      <th>std</th>\n",
       "      <th>min</th>\n",
       "      <th>25%</th>\n",
       "      <th>50%</th>\n",
       "      <th>75%</th>\n",
       "      <th>max</th>\n",
       "    </tr>\n",
       "    <tr>\n",
       "      <th>enhancer_activity</th>\n",
       "      <th></th>\n",
       "      <th></th>\n",
       "      <th></th>\n",
       "      <th></th>\n",
       "      <th></th>\n",
       "      <th></th>\n",
       "      <th></th>\n",
       "      <th></th>\n",
       "    </tr>\n",
       "  </thead>\n",
       "  <tbody>\n",
       "    <tr>\n",
       "      <th>0</th>\n",
       "      <td>51.0</td>\n",
       "      <td>226.803922</td>\n",
       "      <td>117.494173</td>\n",
       "      <td>28.0</td>\n",
       "      <td>149.5</td>\n",
       "      <td>202.0</td>\n",
       "      <td>325.5</td>\n",
       "      <td>514.0</td>\n",
       "    </tr>\n",
       "    <tr>\n",
       "      <th>active</th>\n",
       "      <td>53451.0</td>\n",
       "      <td>169.666891</td>\n",
       "      <td>108.022678</td>\n",
       "      <td>20.0</td>\n",
       "      <td>97.0</td>\n",
       "      <td>147.0</td>\n",
       "      <td>214.0</td>\n",
       "      <td>1308.0</td>\n",
       "    </tr>\n",
       "    <tr>\n",
       "      <th>inactive</th>\n",
       "      <td>54051.0</td>\n",
       "      <td>205.808699</td>\n",
       "      <td>118.900167</td>\n",
       "      <td>20.0</td>\n",
       "      <td>122.0</td>\n",
       "      <td>181.0</td>\n",
       "      <td>259.0</td>\n",
       "      <td>1146.0</td>\n",
       "    </tr>\n",
       "    <tr>\n",
       "      <th>scramble</th>\n",
       "      <td>1185.0</td>\n",
       "      <td>195.448945</td>\n",
       "      <td>120.924002</td>\n",
       "      <td>25.0</td>\n",
       "      <td>107.0</td>\n",
       "      <td>167.0</td>\n",
       "      <td>252.0</td>\n",
       "      <td>884.0</td>\n",
       "    </tr>\n",
       "    <tr>\n",
       "      <th>syn</th>\n",
       "      <td>319.0</td>\n",
       "      <td>334.300940</td>\n",
       "      <td>171.554025</td>\n",
       "      <td>20.0</td>\n",
       "      <td>212.0</td>\n",
       "      <td>330.0</td>\n",
       "      <td>438.5</td>\n",
       "      <td>943.0</td>\n",
       "    </tr>\n",
       "  </tbody>\n",
       "</table>\n",
       "</div>"
      ],
      "text/plain": [
       "                     count        mean         std   min    25%    50%    75%  \\\n",
       "enhancer_activity                                                               \n",
       "0                     51.0  226.803922  117.494173  28.0  149.5  202.0  325.5   \n",
       "active             53451.0  169.666891  108.022678  20.0   97.0  147.0  214.0   \n",
       "inactive           54051.0  205.808699  118.900167  20.0  122.0  181.0  259.0   \n",
       "scramble            1185.0  195.448945  120.924002  25.0  107.0  167.0  252.0   \n",
       "syn                  319.0  334.300940  171.554025  20.0  212.0  330.0  438.5   \n",
       "\n",
       "                      max  \n",
       "enhancer_activity          \n",
       "0                   514.0  \n",
       "active             1308.0  \n",
       "inactive           1146.0  \n",
       "scramble            884.0  \n",
       "syn                 943.0  "
      ]
     },
     "execution_count": 48,
     "metadata": {},
     "output_type": "execute_result"
    }
   ],
   "source": [
    "df.groupby(\"enhancer_activity\")['n_barcodes'].describe()"
   ]
  },
  {
   "cell_type": "markdown",
   "id": "9b5c6317",
   "metadata": {},
   "source": [
    "# inactive > active barcodes"
   ]
  },
  {
   "cell_type": "code",
   "execution_count": 71,
   "id": "e7e639de",
   "metadata": {
    "ExecuteTime": {
     "end_time": "2023-09-22T18:58:36.364283Z",
     "start_time": "2023-09-22T18:58:33.830084Z"
    }
   },
   "outputs": [
    {
     "data": {
      "image/png": "[encoded data removed]",
      "text/plain": [
       "<Figure size 600x600 with 1 Axes>"
      ]
     },
     "metadata": {},
     "output_type": "display_data"
    }
   ],
   "source": [
    "categories = [\"active\", 'inactive',  \"syn\",  \"scramble\", ]\n",
    "\n",
    "fig, ax = plt.subplots(figsize = (6,6))\n",
    "sns.histplot(x=\"n_barcodes\", \n",
    "            data=df.loc[df[\"enhancer_activity\"].isin(categories)], \n",
    "            hue=\"enhancer_activity\", \n",
    "            hue_order = categories,\n",
    "            kde=True,\n",
    "            stat=\"percent\",\n",
    "            #fill=True,\n",
    "#            alpha = 0.2, \n",
    "            common_norm=False,\n",
    "            line_kws={\"lw\":3},\n",
    "             binwidth=25, \n",
    "             palette=\"Dark2\"\n",
    "           )\n",
    "out= os.path.join(RE, \"association_sequencings.enh_activity.pdf\")\n",
    "plt.savefig(out, bbox_inches=\"tight\")"
   ]
  },
  {
   "cell_type": "markdown",
   "id": "bb7ded65",
   "metadata": {},
   "source": [
    "# read pickle"
   ]
  },
  {
   "cell_type": "code",
   "execution_count": null,
   "id": "bf442354",
   "metadata": {
    "ExecuteTime": {
     "end_time": "2023-09-22T18:07:24.315957Z",
     "start_time": "2023-09-22T18:07:15.480644Z"
    }
   },
   "outputs": [],
   "source": [
    "df = pd.read_pickle(PICKLE)\n",
    "\n",
    "d = pd.DataFrame(df.items())"
   ]
  },
  {
   "cell_type": "code",
   "execution_count": null,
   "id": "ddeff600",
   "metadata": {
    "ExecuteTime": {
     "end_time": "2023-09-22T18:07:26.974854Z",
     "start_time": "2023-09-22T18:07:26.965110Z"
    }
   },
   "outputs": [],
   "source": [
    "d.shape"
   ]
  },
  {
   "cell_type": "code",
   "execution_count": null,
   "id": "9eb15d5e",
   "metadata": {
    "ExecuteTime": {
     "start_time": "2023-09-22T17:51:39.754Z"
    }
   },
   "outputs": [],
   "source": [
    "d[1].describe().apply(lambda x: format(x, 'f'))"
   ]
  },
  {
   "cell_type": "code",
   "execution_count": null,
   "id": "b65642ca",
   "metadata": {
    "ExecuteTime": {
     "end_time": "2023-09-22T18:08:02.633353Z",
     "start_time": "2023-09-22T18:08:02.607768Z"
    }
   },
   "outputs": [],
   "source": [
    "d.head()"
   ]
  },
  {
   "cell_type": "code",
   "execution_count": null,
   "id": "294c4a95",
   "metadata": {},
   "outputs": [],
   "source": []
  }
 ],
 "metadata": {
  "kernelspec": {
   "display_name": "Python (mamba)",
   "language": "python",
   "name": "mamba"
  },
  "language_info": {
   "codemirror_mode": {
    "name": "ipython",
    "version": 3
   },
   "file_extension": ".py",
   "mimetype": "text/x-python",
   "name": "python",
   "nbconvert_exporter": "python",
   "pygments_lexer": "ipython3",
   "version": "3.9.16"
  },
  "toc": {
   "base_numbering": 1,
   "nav_menu": {},
   "number_sections": true,
   "sideBar": true,
   "skip_h1_title": false,
   "title_cell": "Table of Contents",
   "title_sidebar": "Contents",
   "toc_cell": false,
   "toc_position": {},
   "toc_section_display": true,
   "toc_window_display": false
  },
  "varInspector": {
   "cols": {
    "lenName": 16,
    "lenType": 16,
    "lenVar": 40
   },
   "kernels_config": {
    "python": {
     "delete_cmd_postfix": "",
     "delete_cmd_prefix": "del ",
     "library": "var_list.py",
     "varRefreshCmd": "print(var_dic_list())"
    },
    "r": {
     "delete_cmd_postfix": ") ",
     "delete_cmd_prefix": "rm(",
     "library": "var_list.r",
     "varRefreshCmd": "cat(var_dic_list()) "
    }
   },
   "types_to_exclude": [
    "module",
    "function",
    "builtin_function_or_method",
    "instance",
    "_Feature"
   ],
   "window_display": false
  }
 },
 "nbformat": 4,
 "nbformat_minor": 5
}
