{
 "cells": [
  {
   "cell_type": "code",
   "execution_count": 1,
   "id": "5b6ceb5b",
   "metadata": {
    "ExecuteTime": {
     "end_time": "2023-05-08T05:32:07.156306Z",
     "start_time": "2023-05-08T05:32:05.152889Z"
    }
   },
   "outputs": [],
   "source": [
    "from Bio.SeqIO.FastaIO import SimpleFastaParser\n",
    "import config_readwrite as crw\n",
    "\n",
    "import glob\n",
    "import gzip\n",
    "import numpy as np\n",
    "import os, sys\n",
    "import pandas as pd\n",
    "import subprocess as sp"
   ]
  },
  {
   "cell_type": "markdown",
   "id": "b5ed0cec",
   "metadata": {},
   "source": [
    "# find coordinates of kmers"
   ]
  },
  {
   "cell_type": "code",
   "execution_count": 2,
   "id": "ab15a881",
   "metadata": {
    "ExecuteTime": {
     "end_time": "2023-05-08T05:32:12.207970Z",
     "start_time": "2023-05-08T05:32:12.182490Z"
    }
   },
   "outputs": [],
   "source": [
    "CL, MER, NMUTS, BUILD, FO_ONLY = \"common\", \"15\", \"2\", \"hs1\", True\n",
    "config, cfn = crw.read(os.path.join(os.getcwd(), \"config.ini\"))"
   ]
  },
  {
   "cell_type": "code",
   "execution_count": 7,
   "id": "6c41b8a6",
   "metadata": {
    "ExecuteTime": {
     "end_time": "2023-05-08T05:34:01.728194Z",
     "start_time": "2023-05-08T05:34:01.720515Z"
    }
   },
   "outputs": [],
   "source": [
    "FA_MUT =  config[f\"common.{MER}mer.{NMUTS}mut\"][\"fa\"]\n",
    "TSV_MUT =  config[f\"common.{MER}mer.{NMUTS}mut\"][\"tsv\"]\n",
    "#TSV_MUT= '/wynton/home/ahituv/fongsl/nullomers/data/lock/common/_common.14mers.2mut.nulls.fo.tsv'\n",
    "#FA_MUT = '/wynton/home/ahituv/fongsl/nullomers/data/lock/common/_common.14mers.2mut.nulls.fo.fa'\n",
    "\n",
    "BED = config[CL][\"bed_hs1\"]\n",
    "FA_EXT_BED = config[CL][\"fa_extended_hs1\"]\n",
    "EXTENDED = config[CL][\"bed_extended_hs1\"]\n",
    "FA = config[CL][\"fasta_hs1\"]"
   ]
  },
  {
   "cell_type": "code",
   "execution_count": 8,
   "id": "00c73c9a",
   "metadata": {
    "ExecuteTime": {
     "end_time": "2023-05-08T05:34:04.473673Z",
     "start_time": "2023-05-08T05:34:04.468942Z"
    }
   },
   "outputs": [],
   "source": [
    "def faToDict(fa_file):\n",
    "    \"\"\"\n",
    "    turn all the fa coordinates into a dictionary. \n",
    "    \"\"\"\n",
    "\n",
    "    fa_dict = {}\n",
    "    with open(fa_file, \"r\") as fasta_reader:\n",
    "        for values in SimpleFastaParser(fasta_reader):\n",
    "            \n",
    "            name, seq = values\n",
    "            fa_dict[name] = seq\n",
    "            \n",
    "    return fa_dict"
   ]
  },
  {
   "cell_type": "code",
   "execution_count": 9,
   "id": "a48f18a5",
   "metadata": {
    "ExecuteTime": {
     "end_time": "2023-05-08T05:34:04.926908Z",
     "start_time": "2023-05-08T05:34:04.918750Z"
    }
   },
   "outputs": [],
   "source": [
    "def dissectFaId(line):\n",
    "    \"\"\"\n",
    "    dissect mutated fa id line for kmer, nullomer information, and get the coordinate file\n",
    "    \"\"\"\n",
    "    # process the line\n",
    "    kmer, chr_, coor, strand, id_ = line.strip('\\n').strip(\">\").split(\".\")\n",
    "            \n",
    "    # get key and value sequence to look up\n",
    "    key, value_seq = kmer[:5], kmer[5:]\n",
    "\n",
    "    bed_coor = chr_ + \":\" + coor\n",
    "    \n",
    "    region_str = \".\".join([kmer, bed_coor, strand, id_]) #TACCCATTCGAGTC.chr1.100333924-100334124.fwd\n",
    "    \n",
    "    \n",
    "    return kmer, key, value_seq, bed_coor, region_str"
   ]
  },
  {
   "cell_type": "code",
   "execution_count": 10,
   "id": "16230e5c",
   "metadata": {
    "ExecuteTime": {
     "end_time": "2023-05-08T05:34:05.342316Z",
     "start_time": "2023-05-08T05:34:05.322026Z"
    },
    "code_folding": [
     0
    ]
   },
   "outputs": [],
   "source": [
    "def seqInsert(seq, insert_start, insert_seq):\n",
    "    \"\"\"\n",
    "    insert sequence fragment (insert_seq) at position (insert_start) within full sequence (seq)\n",
    "    \n",
    "    return inserted sequence. \n",
    "    \"\"\"\n",
    "\n",
    "    insert_size = len(insert_seq)\n",
    "    \n",
    "    insert_end = insert_start + insert_size  # find center end\n",
    "\n",
    "    return seq[:int(insert_start)] + insert_seq + seq[int(insert_end):]"
   ]
  },
  {
   "cell_type": "code",
   "execution_count": 11,
   "id": "4b777fa1",
   "metadata": {
    "ExecuteTime": {
     "end_time": "2023-05-08T05:34:05.822312Z",
     "start_time": "2023-05-08T05:34:05.813263Z"
    },
    "code_folding": []
   },
   "outputs": [],
   "source": [
    "def findKmerInsertNull(kmer, null, fa_sequence, region_id):\n",
    "    \n",
    "    \"\"\"\n",
    "    return positions where the nullomer is in fa sequence\n",
    "    \"\"\"\n",
    "    pos = {}\n",
    "    kmerlen = len(kmer)\n",
    "        \n",
    "    nwindows = len(fa_sequence) - kmerlen + 1\n",
    "\n",
    "    for n in np.arange(nwindows):\n",
    "\n",
    "        start, stop = n, n+kmerlen\n",
    "        snippet = fa_sequence[start:stop]\n",
    "        if kmer.upper() == snippet.upper():\n",
    "            null_insert = seqInsert(fa_sequence.lower(), start, null.upper())  # insert the nullomer sequence into the sequence\n",
    "\n",
    "            pos[f\"{region_id}.{start}\"] = null_insert\n",
    "    return pos"
   ]
  },
  {
   "cell_type": "code",
   "execution_count": 12,
   "id": "e72fde9e",
   "metadata": {
    "ExecuteTime": {
     "end_time": "2023-05-08T05:34:06.430298Z",
     "start_time": "2023-05-08T05:34:06.420452Z"
    },
    "code_folding": [
     0
    ]
   },
   "outputs": [],
   "source": [
    "def mapBed(bedfile, expandedfile):\n",
    "\n",
    "    bed = pd.read_csv(bedfile, sep='\\t', header=None, names =[\"#chr\", \"start\", \"end\", \"strand\", \"id\"])  \n",
    "    bed[\"coor\"] = bed[\"#chr\"] +\":\"+bed[\"start\"].map(str) + \"-\" + bed[\"end\"].map(str)\n",
    "\n",
    "    ext = pd.read_csv(expandedfile, sep='\\t', header=None, names =[\"#chr_e\", \"start_e\", \"end_e\", \"id\"])\n",
    "    ext[\"coor_e\"] = ext[\"#chr_e\"] +\":\"+ext[\"start_e\"].map(str) + \"-\" + ext[\"end_e\"].map(str)\n",
    "\n",
    "    joint = pd.merge(ext[[\"id\", \"coor_e\"]], bed[[\"id\", \"coor\"]])\n",
    "    \n",
    "    return joint"
   ]
  },
  {
   "cell_type": "code",
   "execution_count": 13,
   "id": "a96efa38",
   "metadata": {
    "ExecuteTime": {
     "end_time": "2023-05-08T05:34:07.021161Z",
     "start_time": "2023-05-08T05:34:07.012308Z"
    },
    "code_folding": []
   },
   "outputs": [],
   "source": [
    "def insert4096(nulls_dict, joint_bedex, fa_ex_dict, coor):\n",
    "    \n",
    "    extended_nullseqs = {}\n",
    "    \n",
    "    for key, null_seq in nulls_dict.items():\n",
    "        \n",
    "        extended_coor = joint_bedex.loc[joint_bedex[\"coor\"]==coor, \"coor_e\"].iloc[0] # extend the coordinates to 4096\n",
    "        \n",
    "        extended_seq = fa_ex_dict[extended_coor]  # get the fasta file linked to the extended coordinates\n",
    "        \n",
    "        insert_start = len(extended_seq)/2 - 100 # get the start to insert  # figure out where to insert the sequence\n",
    "        \n",
    "        null4096 = seqInsert(extended_seq.lower(), insert_start, null_seq.upper())  # insert the 200bp MPRA tile w/ nullomer variants into sequence\n",
    "        \n",
    "        extended_nullseqs[key]=null4096  # add to the collection dictionary along with original key\n",
    "        \n",
    "    \n",
    "    return extended_nullseqs, extended_seq"
   ]
  },
  {
   "cell_type": "code",
   "execution_count": 14,
   "id": "df462a2e",
   "metadata": {
    "ExecuteTime": {
     "end_time": "2023-05-08T05:34:07.464402Z",
     "start_time": "2023-05-08T05:34:07.457380Z"
    },
    "code_folding": [
     0
    ]
   },
   "outputs": [],
   "source": [
    "def prettifySeq(original, mut):\n",
    "    \"\"\"\n",
    "    prettify sequence. \n",
    "        All matching bases will be written as \".\"\n",
    "        All non matching bases will be written w mutated base identity. \n",
    "    \"\"\"\n",
    "    prettyseq = \"\"\n",
    "    for o, m in zip(original, mut):\n",
    "        if o != m:\n",
    "            prettyseq += m\n",
    "        else:\n",
    "            prettyseq += \".\"\n",
    "\n",
    "    return prettyseq"
   ]
  },
  {
   "cell_type": "code",
   "execution_count": 16,
   "id": "8d5062a5",
   "metadata": {
    "ExecuteTime": {
     "end_time": "2023-05-08T05:35:21.646952Z",
     "start_time": "2023-05-08T05:35:21.626773Z"
    }
   },
   "outputs": [
    {
     "data": {
      "text/plain": [
       "'/wynton/home/ahituv/fongsl/nullomers/data/lock/common/common.15mers.2mut.nulls.fo.pam.fa'"
      ]
     },
     "execution_count": 16,
     "metadata": {},
     "output_type": "execute_result"
    }
   ],
   "source": [
    "FA_MUT"
   ]
  },
  {
   "cell_type": "code",
   "execution_count": 15,
   "id": "1f0d8bd0",
   "metadata": {
    "ExecuteTime": {
     "end_time": "2023-05-08T05:34:11.691530Z",
     "start_time": "2023-05-08T05:34:08.119392Z"
    },
    "scrolled": true
   },
   "outputs": [
    {
     "ename": "FileNotFoundError",
     "evalue": "[Errno 2] No such file or directory: '/wynton/home/ahituv/fongsl/nullomers/data/lock/common/common.15mers.2mut.nulls.fo.pam.fa'",
     "output_type": "error",
     "traceback": [
      "\u001b[0;31m---------------------------------------------------------------------------\u001b[0m",
      "\u001b[0;31mFileNotFoundError\u001b[0m                         Traceback (most recent call last)",
      "Cell \u001b[0;32mIn [15], line 8\u001b[0m\n\u001b[1;32m      6\u001b[0m v, partial \u001b[38;5;241m=\u001b[39m \u001b[38;5;241m0\u001b[39m, \u001b[38;5;241m0\u001b[39m\n\u001b[1;32m      7\u001b[0m issues \u001b[38;5;241m=\u001b[39m []\n\u001b[0;32m----> 8\u001b[0m \u001b[38;5;28;01mwith\u001b[39;00m \u001b[38;5;28;43mopen\u001b[39;49m\u001b[43m(\u001b[49m\u001b[43mFA_MUT\u001b[49m\u001b[43m,\u001b[49m\u001b[43m \u001b[49m\u001b[38;5;124;43m\"\u001b[39;49m\u001b[38;5;124;43mr\u001b[39;49m\u001b[38;5;124;43m\"\u001b[39;49m\u001b[43m)\u001b[49m \u001b[38;5;28;01mas\u001b[39;00m fasta_reader:\n\u001b[1;32m      9\u001b[0m     out \u001b[38;5;241m=\u001b[39m FA_MUT\u001b[38;5;241m.\u001b[39mstrip(\u001b[38;5;124m\"\u001b[39m\u001b[38;5;124m.fa\u001b[39m\u001b[38;5;124m\"\u001b[39m) \u001b[38;5;241m+\u001b[39m \u001b[38;5;124m\"\u001b[39m\u001b[38;5;124m.ext4096.fa\u001b[39m\u001b[38;5;124m\"\u001b[39m\n\u001b[1;32m     11\u001b[0m     \u001b[38;5;28;01mfor\u001b[39;00m values \u001b[38;5;129;01min\u001b[39;00m SimpleFastaParser(fasta_reader):\n\u001b[1;32m     12\u001b[0m         \n\u001b[1;32m     13\u001b[0m         \u001b[38;5;66;03m# parse fasta\u001b[39;00m\n",
      "File \u001b[0;32m~/.conda/envs/wynenv/lib/python3.10/site-packages/IPython/core/interactiveshell.py:282\u001b[0m, in \u001b[0;36m_modified_open\u001b[0;34m(file, *args, **kwargs)\u001b[0m\n\u001b[1;32m    275\u001b[0m \u001b[38;5;28;01mif\u001b[39;00m file \u001b[38;5;129;01min\u001b[39;00m {\u001b[38;5;241m0\u001b[39m, \u001b[38;5;241m1\u001b[39m, \u001b[38;5;241m2\u001b[39m}:\n\u001b[1;32m    276\u001b[0m     \u001b[38;5;28;01mraise\u001b[39;00m \u001b[38;5;167;01mValueError\u001b[39;00m(\n\u001b[1;32m    277\u001b[0m         \u001b[38;5;124mf\u001b[39m\u001b[38;5;124m\"\u001b[39m\u001b[38;5;124mIPython won\u001b[39m\u001b[38;5;124m'\u001b[39m\u001b[38;5;124mt let you open fd=\u001b[39m\u001b[38;5;132;01m{\u001b[39;00mfile\u001b[38;5;132;01m}\u001b[39;00m\u001b[38;5;124m by default \u001b[39m\u001b[38;5;124m\"\u001b[39m\n\u001b[1;32m    278\u001b[0m         \u001b[38;5;124m\"\u001b[39m\u001b[38;5;124mas it is likely to crash IPython. If you know what you are doing, \u001b[39m\u001b[38;5;124m\"\u001b[39m\n\u001b[1;32m    279\u001b[0m         \u001b[38;5;124m\"\u001b[39m\u001b[38;5;124myou can use builtins\u001b[39m\u001b[38;5;124m'\u001b[39m\u001b[38;5;124m open.\u001b[39m\u001b[38;5;124m\"\u001b[39m\n\u001b[1;32m    280\u001b[0m     )\n\u001b[0;32m--> 282\u001b[0m \u001b[38;5;28;01mreturn\u001b[39;00m \u001b[43mio_open\u001b[49m\u001b[43m(\u001b[49m\u001b[43mfile\u001b[49m\u001b[43m,\u001b[49m\u001b[43m \u001b[49m\u001b[38;5;241;43m*\u001b[39;49m\u001b[43margs\u001b[49m\u001b[43m,\u001b[49m\u001b[43m \u001b[49m\u001b[38;5;241;43m*\u001b[39;49m\u001b[38;5;241;43m*\u001b[39;49m\u001b[43mkwargs\u001b[49m\u001b[43m)\u001b[49m\n",
      "\u001b[0;31mFileNotFoundError\u001b[0m: [Errno 2] No such file or directory: '/wynton/home/ahituv/fongsl/nullomers/data/lock/common/common.15mers.2mut.nulls.fo.pam.fa'"
     ]
    }
   ],
   "source": [
    "fa_dict = faToDict(FA)\n",
    "fa_ex_dict = faToDict(FA_EXT_BED)\n",
    "joint_bedex=mapBed(BED, EXTENDED)\n",
    "\n",
    "\n",
    "v, partial = 0, 0\n",
    "issues = []\n",
    "with open(FA_MUT, \"r\") as fasta_reader:\n",
    "    out = FA_MUT.strip(\".fa\") + \".ext4096.fa\"\n",
    "    \n",
    "    for values in SimpleFastaParser(fasta_reader):\n",
    "        \n",
    "        # parse fasta\n",
    "        name, null = values\n",
    "        \n",
    "        # get kmer information\n",
    "        kmer, key, value_seq, coor, region_id = dissectFaId(name)\n",
    "        \n",
    "        if 'rev' in region_id:  # skip reverse elements for now. \n",
    "            continue\n",
    "        else:\n",
    "\n",
    "            # fa linked to regions (linked to kmer)\n",
    "            region_fa = fa_dict[coor]\n",
    "\n",
    "            # get sequences w/ nulls inserted.  \n",
    "            nulls = findKmerInsertNull(kmer, null, region_fa, region_id)\n",
    "\n",
    "            # insert 200bp null sequence into the 4096 sequence\n",
    "            null_inserts, original_seq = insert4096(nulls, joint_bedex, fa_ex_dict, coor)\n",
    "\n",
    "            if v < 5:\n",
    "                print(\"\\nkmer\\n\", kmer, \"\\nkey\\n\", key, \"\\nvalue\\n\", value_seq)\n",
    "                print(\"\\nthe nullomer sequence\\n\", null, \"\\n\\ninserted\\n\", nulls)\n",
    "                print(\"\\n4096 w/ null sequence\\n\", null_inserts)\n",
    "                print(\"\\n pretty 4096\", prettifySeq(original_seq.upper(), list(null_inserts.values())[0].upper()))\n",
    "\n",
    "                # open writer\n",
    "                writer = open(FA_MUT.strip(\".fa\") + f\".ext4096.{partial}.fa\", \"w\")\n",
    "\n",
    "            # write original row\n",
    "            if len(original_seq)>=4095:\n",
    "\n",
    "                writer.write(f\">{region_id}\\n{original_seq.upper()}\\n\")\n",
    "\n",
    "                # write nullomers\n",
    "                for null_seqname, null_seq in null_inserts.items():\n",
    "                    writer.write(f\">{null_seqname}\\n{null_seq.upper()}\\n\")\n",
    "                v+=1\n",
    "            else:\n",
    "                #print(\"ISSUES\", name, region_str, len(original_seq))\n",
    "                issues.append(region_id)\n",
    "                continue\n",
    "\n",
    "            if v%999==0:\n",
    "                # finish writing the 100th sequence, close the file, then write a new file for the next 100 lines\n",
    "                writer.close()\n",
    "                partial +=1\n",
    "                writer = open(FA_MUT.strip(\".fa\") + f\".ext4096.{partial}.fa\", \"w\")\n",
    "\n",
    "writer.close()\n"
   ]
  },
  {
   "cell_type": "code",
   "execution_count": null,
   "id": "3e209cac",
   "metadata": {
    "ExecuteTime": {
     "end_time": "2023-05-08T05:34:11.695174Z",
     "start_time": "2023-05-08T05:34:11.695154Z"
    }
   },
   "outputs": [],
   "source": [
    "partial"
   ]
  },
  {
   "cell_type": "markdown",
   "id": "ce84a724",
   "metadata": {},
   "source": [
    "# write config"
   ]
  },
  {
   "cell_type": "code",
   "execution_count": 28,
   "id": "2d83f3f8",
   "metadata": {
    "ExecuteTime": {
     "end_time": "2023-04-18T22:02:53.597737Z",
     "start_time": "2023-04-18T22:02:53.589253Z"
    }
   },
   "outputs": [],
   "source": [
    "crw.check(config, f\"common.{MER}mer\")\n",
    "config[f\"common.{MER}mer\"][\"coor\"] = COOR\n",
    "config[f\"common.{MER}mer.{NMUTS}mut\"][\"ext_fa\"]=out\n",
    "\n",
    "crw.write(config, cfn)"
   ]
  },
  {
   "cell_type": "markdown",
   "id": "64a23313",
   "metadata": {},
   "source": [
    "# predict w sei"
   ]
  },
  {
   "cell_type": "code",
   "execution_count": 29,
   "id": "9fe5169b",
   "metadata": {
    "ExecuteTime": {
     "end_time": "2023-04-18T22:02:59.308200Z",
     "start_time": "2023-04-18T22:02:59.300631Z"
    }
   },
   "outputs": [],
   "source": [
    "def launchSei(file, build, qsub):\n",
    "    \n",
    "    SEIDIR = os.path.join(os.path.split(file)[0], \"sei_predictions\")\n",
    "    \n",
    "    if os.path.exists(SEIDIR) is False:\n",
    "        os.mkdir(SEIDIR)\n",
    "    print(SEIDIR)\n",
    "    \n",
    "    if qsub is True:\n",
    "        SCRIPT = \"/wynton/home/ahituv/fongsl/nullomers/bin-lock/interpret_sei_array.sh\"\n",
    "        cmd = ['qsub',\n",
    "           SCRIPT, \n",
    "           build, \n",
    "           SEIDIR\n",
    "          ]\n",
    "        \n",
    "    else:\n",
    "        SCRIPT = \"/wynton/home/ahituv/fongsl/bin/sei-framework/sarah_scripts/launch_qsub.py\"\n",
    "\n",
    "        cmd = ['python',\n",
    "           SCRIPT, \n",
    "           file, \n",
    "           build, \n",
    "           SEIDIR\n",
    "          ]\n",
    "    \n",
    "    sp.call(\" \".join(cmd), shell=True)"
   ]
  },
  {
   "cell_type": "markdown",
   "id": "1a625169",
   "metadata": {},
   "source": [
    "## launch sei"
   ]
  },
  {
   "cell_type": "code",
   "execution_count": 33,
   "id": "5aa06982",
   "metadata": {
    "ExecuteTime": {
     "end_time": "2023-04-18T22:03:55.795153Z",
     "start_time": "2023-04-18T22:03:55.785923Z"
    }
   },
   "outputs": [
    {
     "name": "stdout",
     "output_type": "stream",
     "text": [
      "115\n"
     ]
    }
   ],
   "source": [
    "fs = glob.glob(\"/wynton/home/ahituv/fongsl/nullomers/data/lock/common/common.14mers.2mut.nulls.fo.ext4096.*.fa\")\n",
    "print(len(fs))"
   ]
  },
  {
   "cell_type": "code",
   "execution_count": 34,
   "id": "a8e49cdb",
   "metadata": {
    "ExecuteTime": {
     "end_time": "2023-04-18T22:08:59.355872Z",
     "start_time": "2023-04-18T22:08:44.254971Z"
    }
   },
   "outputs": [
    {
     "name": "stdout",
     "output_type": "stream",
     "text": [
      "/wynton/home/ahituv/fongsl/nullomers/data/lock/common/sei_predictions\n",
      "Your job 2596392 (\"interpret_sei.sh\") has been submitted\n",
      "/wynton/home/ahituv/fongsl/nullomers/data/lock/common/sei_predictions\n",
      "Your job 2596393 (\"interpret_sei.sh\") has been submitted\n",
      "/wynton/home/ahituv/fongsl/nullomers/data/lock/common/sei_predictions\n",
      "Your job 2596394 (\"interpret_sei.sh\") has been submitted\n",
      "/wynton/home/ahituv/fongsl/nullomers/data/lock/common/sei_predictions\n",
      "Your job 2596395 (\"interpret_sei.sh\") has been submitted\n",
      "/wynton/home/ahituv/fongsl/nullomers/data/lock/common/sei_predictions\n",
      "Your job 2596396 (\"interpret_sei.sh\") has been submitted\n",
      "/wynton/home/ahituv/fongsl/nullomers/data/lock/common/sei_predictions\n",
      "Your job 2596397 (\"interpret_sei.sh\") has been submitted\n",
      "/wynton/home/ahituv/fongsl/nullomers/data/lock/common/sei_predictions\n",
      "Your job 2596398 (\"interpret_sei.sh\") has been submitted\n",
      "/wynton/home/ahituv/fongsl/nullomers/data/lock/common/sei_predictions\n",
      "Your job 2596399 (\"interpret_sei.sh\") has been submitted\n",
      "/wynton/home/ahituv/fongsl/nullomers/data/lock/common/sei_predictions\n",
      "Your job 2596400 (\"interpret_sei.sh\") has been submitted\n",
      "/wynton/home/ahituv/fongsl/nullomers/data/lock/common/sei_predictions\n",
      "Your job 2596401 (\"interpret_sei.sh\") has been submitted\n",
      "/wynton/home/ahituv/fongsl/nullomers/data/lock/common/sei_predictions\n",
      "Your job 2596402 (\"interpret_sei.sh\") has been submitted\n",
      "/wynton/home/ahituv/fongsl/nullomers/data/lock/common/sei_predictions\n",
      "Your job 2596403 (\"interpret_sei.sh\") has been submitted\n",
      "/wynton/home/ahituv/fongsl/nullomers/data/lock/common/sei_predictions\n",
      "Your job 2596404 (\"interpret_sei.sh\") has been submitted\n",
      "/wynton/home/ahituv/fongsl/nullomers/data/lock/common/sei_predictions\n",
      "Your job 2596405 (\"interpret_sei.sh\") has been submitted\n",
      "/wynton/home/ahituv/fongsl/nullomers/data/lock/common/sei_predictions\n",
      "Your job 2596406 (\"interpret_sei.sh\") has been submitted\n",
      "/wynton/home/ahituv/fongsl/nullomers/data/lock/common/sei_predictions\n",
      "Your job 2596407 (\"interpret_sei.sh\") has been submitted\n",
      "/wynton/home/ahituv/fongsl/nullomers/data/lock/common/sei_predictions\n",
      "Your job 2596408 (\"interpret_sei.sh\") has been submitted\n",
      "/wynton/home/ahituv/fongsl/nullomers/data/lock/common/sei_predictions\n",
      "Your job 2596409 (\"interpret_sei.sh\") has been submitted\n",
      "/wynton/home/ahituv/fongsl/nullomers/data/lock/common/sei_predictions\n",
      "Your job 2596410 (\"interpret_sei.sh\") has been submitted\n",
      "/wynton/home/ahituv/fongsl/nullomers/data/lock/common/sei_predictions\n",
      "Your job 2596411 (\"interpret_sei.sh\") has been submitted\n",
      "/wynton/home/ahituv/fongsl/nullomers/data/lock/common/sei_predictions\n",
      "Your job 2596412 (\"interpret_sei.sh\") has been submitted\n",
      "/wynton/home/ahituv/fongsl/nullomers/data/lock/common/sei_predictions\n",
      "Your job 2596413 (\"interpret_sei.sh\") has been submitted\n",
      "/wynton/home/ahituv/fongsl/nullomers/data/lock/common/sei_predictions\n",
      "Your job 2596414 (\"interpret_sei.sh\") has been submitted\n",
      "/wynton/home/ahituv/fongsl/nullomers/data/lock/common/sei_predictions\n",
      "Your job 2596415 (\"interpret_sei.sh\") has been submitted\n",
      "/wynton/home/ahituv/fongsl/nullomers/data/lock/common/sei_predictions\n",
      "Your job 2596416 (\"interpret_sei.sh\") has been submitted\n",
      "/wynton/home/ahituv/fongsl/nullomers/data/lock/common/sei_predictions\n",
      "Your job 2596417 (\"interpret_sei.sh\") has been submitted\n",
      "/wynton/home/ahituv/fongsl/nullomers/data/lock/common/sei_predictions\n",
      "Your job 2596418 (\"interpret_sei.sh\") has been submitted\n",
      "/wynton/home/ahituv/fongsl/nullomers/data/lock/common/sei_predictions\n",
      "Your job 2596419 (\"interpret_sei.sh\") has been submitted\n",
      "/wynton/home/ahituv/fongsl/nullomers/data/lock/common/sei_predictions\n",
      "Your job 2596420 (\"interpret_sei.sh\") has been submitted\n",
      "/wynton/home/ahituv/fongsl/nullomers/data/lock/common/sei_predictions\n",
      "Your job 2596421 (\"interpret_sei.sh\") has been submitted\n",
      "/wynton/home/ahituv/fongsl/nullomers/data/lock/common/sei_predictions\n",
      "Your job 2596422 (\"interpret_sei.sh\") has been submitted\n",
      "/wynton/home/ahituv/fongsl/nullomers/data/lock/common/sei_predictions\n",
      "Your job 2596423 (\"interpret_sei.sh\") has been submitted\n",
      "/wynton/home/ahituv/fongsl/nullomers/data/lock/common/sei_predictions\n",
      "Your job 2596424 (\"interpret_sei.sh\") has been submitted\n",
      "/wynton/home/ahituv/fongsl/nullomers/data/lock/common/sei_predictions\n",
      "Your job 2596425 (\"interpret_sei.sh\") has been submitted\n",
      "/wynton/home/ahituv/fongsl/nullomers/data/lock/common/sei_predictions\n",
      "Your job 2596426 (\"interpret_sei.sh\") has been submitted\n",
      "/wynton/home/ahituv/fongsl/nullomers/data/lock/common/sei_predictions\n",
      "Your job 2596427 (\"interpret_sei.sh\") has been submitted\n",
      "/wynton/home/ahituv/fongsl/nullomers/data/lock/common/sei_predictions\n",
      "Your job 2596428 (\"interpret_sei.sh\") has been submitted\n",
      "/wynton/home/ahituv/fongsl/nullomers/data/lock/common/sei_predictions\n",
      "Your job 2596429 (\"interpret_sei.sh\") has been submitted\n",
      "/wynton/home/ahituv/fongsl/nullomers/data/lock/common/sei_predictions\n",
      "Your job 2596430 (\"interpret_sei.sh\") has been submitted\n",
      "/wynton/home/ahituv/fongsl/nullomers/data/lock/common/sei_predictions\n",
      "Your job 2596431 (\"interpret_sei.sh\") has been submitted\n",
      "/wynton/home/ahituv/fongsl/nullomers/data/lock/common/sei_predictions\n",
      "Your job 2596432 (\"interpret_sei.sh\") has been submitted\n",
      "/wynton/home/ahituv/fongsl/nullomers/data/lock/common/sei_predictions\n",
      "Your job 2596433 (\"interpret_sei.sh\") has been submitted\n",
      "/wynton/home/ahituv/fongsl/nullomers/data/lock/common/sei_predictions\n",
      "Your job 2596434 (\"interpret_sei.sh\") has been submitted\n",
      "/wynton/home/ahituv/fongsl/nullomers/data/lock/common/sei_predictions\n",
      "Your job 2596435 (\"interpret_sei.sh\") has been submitted\n",
      "/wynton/home/ahituv/fongsl/nullomers/data/lock/common/sei_predictions\n",
      "Your job 2596436 (\"interpret_sei.sh\") has been submitted\n",
      "/wynton/home/ahituv/fongsl/nullomers/data/lock/common/sei_predictions\n",
      "Your job 2596437 (\"interpret_sei.sh\") has been submitted\n",
      "/wynton/home/ahituv/fongsl/nullomers/data/lock/common/sei_predictions\n",
      "Your job 2596438 (\"interpret_sei.sh\") has been submitted\n",
      "/wynton/home/ahituv/fongsl/nullomers/data/lock/common/sei_predictions\n",
      "Your job 2596439 (\"interpret_sei.sh\") has been submitted\n",
      "/wynton/home/ahituv/fongsl/nullomers/data/lock/common/sei_predictions\n",
      "Your job 2596440 (\"interpret_sei.sh\") has been submitted\n",
      "/wynton/home/ahituv/fongsl/nullomers/data/lock/common/sei_predictions\n",
      "Your job 2596441 (\"interpret_sei.sh\") has been submitted\n",
      "/wynton/home/ahituv/fongsl/nullomers/data/lock/common/sei_predictions\n",
      "Your job 2596442 (\"interpret_sei.sh\") has been submitted\n",
      "/wynton/home/ahituv/fongsl/nullomers/data/lock/common/sei_predictions\n",
      "Your job 2596443 (\"interpret_sei.sh\") has been submitted\n",
      "/wynton/home/ahituv/fongsl/nullomers/data/lock/common/sei_predictions\n",
      "Your job 2596444 (\"interpret_sei.sh\") has been submitted\n",
      "/wynton/home/ahituv/fongsl/nullomers/data/lock/common/sei_predictions\n",
      "Your job 2596445 (\"interpret_sei.sh\") has been submitted\n",
      "/wynton/home/ahituv/fongsl/nullomers/data/lock/common/sei_predictions\n",
      "Your job 2596446 (\"interpret_sei.sh\") has been submitted\n",
      "/wynton/home/ahituv/fongsl/nullomers/data/lock/common/sei_predictions\n",
      "Your job 2596447 (\"interpret_sei.sh\") has been submitted\n",
      "/wynton/home/ahituv/fongsl/nullomers/data/lock/common/sei_predictions\n",
      "Your job 2596448 (\"interpret_sei.sh\") has been submitted\n",
      "/wynton/home/ahituv/fongsl/nullomers/data/lock/common/sei_predictions\n",
      "Your job 2596449 (\"interpret_sei.sh\") has been submitted\n",
      "/wynton/home/ahituv/fongsl/nullomers/data/lock/common/sei_predictions\n",
      "Your job 2596450 (\"interpret_sei.sh\") has been submitted\n",
      "/wynton/home/ahituv/fongsl/nullomers/data/lock/common/sei_predictions\n",
      "Your job 2596451 (\"interpret_sei.sh\") has been submitted\n",
      "/wynton/home/ahituv/fongsl/nullomers/data/lock/common/sei_predictions\n",
      "Your job 2596452 (\"interpret_sei.sh\") has been submitted\n",
      "/wynton/home/ahituv/fongsl/nullomers/data/lock/common/sei_predictions\n",
      "Your job 2596453 (\"interpret_sei.sh\") has been submitted\n",
      "/wynton/home/ahituv/fongsl/nullomers/data/lock/common/sei_predictions\n",
      "Your job 2596454 (\"interpret_sei.sh\") has been submitted\n",
      "/wynton/home/ahituv/fongsl/nullomers/data/lock/common/sei_predictions\n",
      "Your job 2596455 (\"interpret_sei.sh\") has been submitted\n",
      "/wynton/home/ahituv/fongsl/nullomers/data/lock/common/sei_predictions\n"
     ]
    },
    {
     "name": "stdout",
     "output_type": "stream",
     "text": [
      "Your job 2596456 (\"interpret_sei.sh\") has been submitted\n",
      "/wynton/home/ahituv/fongsl/nullomers/data/lock/common/sei_predictions\n",
      "Your job 2596457 (\"interpret_sei.sh\") has been submitted\n",
      "/wynton/home/ahituv/fongsl/nullomers/data/lock/common/sei_predictions\n",
      "Your job 2596458 (\"interpret_sei.sh\") has been submitted\n",
      "/wynton/home/ahituv/fongsl/nullomers/data/lock/common/sei_predictions\n",
      "Your job 2596459 (\"interpret_sei.sh\") has been submitted\n",
      "/wynton/home/ahituv/fongsl/nullomers/data/lock/common/sei_predictions\n",
      "Your job 2596460 (\"interpret_sei.sh\") has been submitted\n",
      "/wynton/home/ahituv/fongsl/nullomers/data/lock/common/sei_predictions\n",
      "Your job 2596461 (\"interpret_sei.sh\") has been submitted\n",
      "/wynton/home/ahituv/fongsl/nullomers/data/lock/common/sei_predictions\n",
      "Your job 2596462 (\"interpret_sei.sh\") has been submitted\n",
      "/wynton/home/ahituv/fongsl/nullomers/data/lock/common/sei_predictions\n",
      "Your job 2596463 (\"interpret_sei.sh\") has been submitted\n",
      "/wynton/home/ahituv/fongsl/nullomers/data/lock/common/sei_predictions\n",
      "Your job 2596464 (\"interpret_sei.sh\") has been submitted\n",
      "/wynton/home/ahituv/fongsl/nullomers/data/lock/common/sei_predictions\n",
      "Your job 2596465 (\"interpret_sei.sh\") has been submitted\n",
      "/wynton/home/ahituv/fongsl/nullomers/data/lock/common/sei_predictions\n",
      "Your job 2596466 (\"interpret_sei.sh\") has been submitted\n",
      "/wynton/home/ahituv/fongsl/nullomers/data/lock/common/sei_predictions\n",
      "Your job 2596467 (\"interpret_sei.sh\") has been submitted\n",
      "/wynton/home/ahituv/fongsl/nullomers/data/lock/common/sei_predictions\n",
      "Your job 2596468 (\"interpret_sei.sh\") has been submitted\n",
      "/wynton/home/ahituv/fongsl/nullomers/data/lock/common/sei_predictions\n",
      "Your job 2596469 (\"interpret_sei.sh\") has been submitted\n",
      "/wynton/home/ahituv/fongsl/nullomers/data/lock/common/sei_predictions\n",
      "Your job 2596470 (\"interpret_sei.sh\") has been submitted\n",
      "/wynton/home/ahituv/fongsl/nullomers/data/lock/common/sei_predictions\n",
      "Your job 2596471 (\"interpret_sei.sh\") has been submitted\n",
      "/wynton/home/ahituv/fongsl/nullomers/data/lock/common/sei_predictions\n",
      "Your job 2596472 (\"interpret_sei.sh\") has been submitted\n",
      "/wynton/home/ahituv/fongsl/nullomers/data/lock/common/sei_predictions\n",
      "Your job 2596473 (\"interpret_sei.sh\") has been submitted\n",
      "/wynton/home/ahituv/fongsl/nullomers/data/lock/common/sei_predictions\n",
      "Your job 2596474 (\"interpret_sei.sh\") has been submitted\n",
      "/wynton/home/ahituv/fongsl/nullomers/data/lock/common/sei_predictions\n",
      "Your job 2596475 (\"interpret_sei.sh\") has been submitted\n",
      "/wynton/home/ahituv/fongsl/nullomers/data/lock/common/sei_predictions\n",
      "Your job 2596476 (\"interpret_sei.sh\") has been submitted\n",
      "/wynton/home/ahituv/fongsl/nullomers/data/lock/common/sei_predictions\n",
      "Your job 2596477 (\"interpret_sei.sh\") has been submitted\n",
      "/wynton/home/ahituv/fongsl/nullomers/data/lock/common/sei_predictions\n",
      "Your job 2596478 (\"interpret_sei.sh\") has been submitted\n",
      "/wynton/home/ahituv/fongsl/nullomers/data/lock/common/sei_predictions\n",
      "Your job 2596479 (\"interpret_sei.sh\") has been submitted\n",
      "/wynton/home/ahituv/fongsl/nullomers/data/lock/common/sei_predictions\n",
      "Your job 2596480 (\"interpret_sei.sh\") has been submitted\n",
      "/wynton/home/ahituv/fongsl/nullomers/data/lock/common/sei_predictions\n",
      "Your job 2596481 (\"interpret_sei.sh\") has been submitted\n",
      "/wynton/home/ahituv/fongsl/nullomers/data/lock/common/sei_predictions\n",
      "Your job 2596482 (\"interpret_sei.sh\") has been submitted\n",
      "/wynton/home/ahituv/fongsl/nullomers/data/lock/common/sei_predictions\n",
      "Your job 2596483 (\"interpret_sei.sh\") has been submitted\n",
      "/wynton/home/ahituv/fongsl/nullomers/data/lock/common/sei_predictions\n",
      "Your job 2596484 (\"interpret_sei.sh\") has been submitted\n",
      "/wynton/home/ahituv/fongsl/nullomers/data/lock/common/sei_predictions\n",
      "Your job 2596485 (\"interpret_sei.sh\") has been submitted\n",
      "/wynton/home/ahituv/fongsl/nullomers/data/lock/common/sei_predictions\n",
      "Your job 2596486 (\"interpret_sei.sh\") has been submitted\n",
      "/wynton/home/ahituv/fongsl/nullomers/data/lock/common/sei_predictions\n",
      "Your job 2596487 (\"interpret_sei.sh\") has been submitted\n",
      "/wynton/home/ahituv/fongsl/nullomers/data/lock/common/sei_predictions\n",
      "Your job 2596488 (\"interpret_sei.sh\") has been submitted\n",
      "/wynton/home/ahituv/fongsl/nullomers/data/lock/common/sei_predictions\n",
      "Your job 2596489 (\"interpret_sei.sh\") has been submitted\n",
      "/wynton/home/ahituv/fongsl/nullomers/data/lock/common/sei_predictions\n",
      "Your job 2596490 (\"interpret_sei.sh\") has been submitted\n",
      "/wynton/home/ahituv/fongsl/nullomers/data/lock/common/sei_predictions\n",
      "Your job 2596491 (\"interpret_sei.sh\") has been submitted\n",
      "/wynton/home/ahituv/fongsl/nullomers/data/lock/common/sei_predictions\n",
      "Your job 2596492 (\"interpret_sei.sh\") has been submitted\n",
      "/wynton/home/ahituv/fongsl/nullomers/data/lock/common/sei_predictions\n",
      "Your job 2596493 (\"interpret_sei.sh\") has been submitted\n",
      "/wynton/home/ahituv/fongsl/nullomers/data/lock/common/sei_predictions\n",
      "Your job 2596494 (\"interpret_sei.sh\") has been submitted\n",
      "/wynton/home/ahituv/fongsl/nullomers/data/lock/common/sei_predictions\n",
      "Your job 2596495 (\"interpret_sei.sh\") has been submitted\n",
      "/wynton/home/ahituv/fongsl/nullomers/data/lock/common/sei_predictions\n",
      "Your job 2596496 (\"interpret_sei.sh\") has been submitted\n",
      "/wynton/home/ahituv/fongsl/nullomers/data/lock/common/sei_predictions\n",
      "Your job 2596497 (\"interpret_sei.sh\") has been submitted\n",
      "/wynton/home/ahituv/fongsl/nullomers/data/lock/common/sei_predictions\n",
      "Your job 2596498 (\"interpret_sei.sh\") has been submitted\n",
      "/wynton/home/ahituv/fongsl/nullomers/data/lock/common/sei_predictions\n",
      "Your job 2596499 (\"interpret_sei.sh\") has been submitted\n",
      "/wynton/home/ahituv/fongsl/nullomers/data/lock/common/sei_predictions\n",
      "Your job 2596500 (\"interpret_sei.sh\") has been submitted\n",
      "/wynton/home/ahituv/fongsl/nullomers/data/lock/common/sei_predictions\n",
      "Your job 2596501 (\"interpret_sei.sh\") has been submitted\n",
      "/wynton/home/ahituv/fongsl/nullomers/data/lock/common/sei_predictions\n",
      "Your job 2596502 (\"interpret_sei.sh\") has been submitted\n",
      "/wynton/home/ahituv/fongsl/nullomers/data/lock/common/sei_predictions\n",
      "Your job 2596503 (\"interpret_sei.sh\") has been submitted\n",
      "/wynton/home/ahituv/fongsl/nullomers/data/lock/common/sei_predictions\n",
      "Your job 2596504 (\"interpret_sei.sh\") has been submitted\n",
      "/wynton/home/ahituv/fongsl/nullomers/data/lock/common/sei_predictions\n",
      "Your job 2596505 (\"interpret_sei.sh\") has been submitted\n",
      "/wynton/home/ahituv/fongsl/nullomers/data/lock/common/sei_predictions\n",
      "Your job 2596506 (\"interpret_sei.sh\") has been submitted\n"
     ]
    }
   ],
   "source": [
    "qsub = False\n",
    "for out in fs:\n",
    "    launchSei(out, \"hs1\", qsub)"
   ]
  },
  {
   "cell_type": "code",
   "execution_count": null,
   "id": "3986ee1b",
   "metadata": {
    "ExecuteTime": {
     "end_time": "2023-04-12T23:55:21.370664Z",
     "start_time": "2023-04-12T23:55:21.365499Z"
    }
   },
   "outputs": [],
   "source": [
    "len(fs)"
   ]
  },
  {
   "cell_type": "code",
   "execution_count": null,
   "id": "795b113d",
   "metadata": {},
   "outputs": [],
   "source": []
  }
 ],
 "metadata": {
  "kernelspec": {
   "display_name": "Python (wynenv)",
   "language": "python",
   "name": "wynenv"
  },
  "language_info": {
   "codemirror_mode": {
    "name": "ipython",
    "version": 3
   },
   "file_extension": ".py",
   "mimetype": "text/x-python",
   "name": "python",
   "nbconvert_exporter": "python",
   "pygments_lexer": "ipython3",
   "version": "3.10.8"
  },
  "toc": {
   "base_numbering": 1,
   "nav_menu": {},
   "number_sections": true,
   "sideBar": true,
   "skip_h1_title": false,
   "title_cell": "Table of Contents",
   "title_sidebar": "Contents",
   "toc_cell": false,
   "toc_position": {},
   "toc_section_display": true,
   "toc_window_display": false
  },
  "varInspector": {
   "cols": {
    "lenName": 16,
    "lenType": 16,
    "lenVar": 40
   },
   "kernels_config": {
    "python": {
     "delete_cmd_postfix": "",
     "delete_cmd_prefix": "del ",
     "library": "var_list.py",
     "varRefreshCmd": "print(var_dic_list())"
    },
    "r": {
     "delete_cmd_postfix": ") ",
     "delete_cmd_prefix": "rm(",
     "library": "var_list.r",
     "varRefreshCmd": "cat(var_dic_list()) "
    }
   },
   "types_to_exclude": [
    "module",
    "function",
    "builtin_function_or_method",
    "instance",
    "_Feature"
   ],
   "window_display": false
  }
 },
 "nbformat": 4,
 "nbformat_minor": 5
}
