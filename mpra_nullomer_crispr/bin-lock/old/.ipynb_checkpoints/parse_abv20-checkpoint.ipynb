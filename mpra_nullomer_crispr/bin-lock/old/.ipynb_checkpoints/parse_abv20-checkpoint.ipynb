{
 "cells": [
  {
   "cell_type": "code",
   "execution_count": null,
   "id": "b5c3549c",
   "metadata": {
    "ExecuteTime": {
     "end_time": "2023-01-10T05:05:33.497808Z",
     "start_time": "2023-01-10T05:05:28.716665Z"
    }
   },
   "outputs": [],
   "source": [
    "from Bio.SeqUtils import gc_fraction\n",
    "from itertools import product\n",
    "import os, sys\n",
    "import pandas as pd\n",
    "\n",
    "import matplotlib.pyplot as plt\n",
    "import seaborn as sns"
   ]
  },
  {
   "cell_type": "markdown",
   "id": "4d49c982",
   "metadata": {},
   "source": [
    "# load data\n",
    "\n",
    "#### INCORRECT COLUMN NAME note\n",
    "\n",
    "Columns DNA_1, DNA_2, DNA_3, and RNA_1, RNA_2, RNA_3 columns were named incorrectly. \n",
    "\n",
    "    DNA_1, DNA_2, DNA_3 = RNA_1, RNA_2, RNA_3\n",
    "\n",
    "    RNA_1, RNA_2, RNA_3 = DNA_1, DNA_2, DNA_3\n",
    "    \n",
    "RATIO_1, RATIO_2, and RATIO_3 are correct"
   ]
  },
  {
   "cell_type": "code",
   "execution_count": 2,
   "id": "9fd462f9",
   "metadata": {
    "ExecuteTime": {
     "end_time": "2023-01-10T05:05:33.664459Z",
     "start_time": "2023-01-10T05:05:33.512454Z"
    }
   },
   "outputs": [
    {
     "data": {
      "text/html": [
       "<div>\n",
       "<style scoped>\n",
       "    .dataframe tbody tr th:only-of-type {\n",
       "        vertical-align: middle;\n",
       "    }\n",
       "\n",
       "    .dataframe tbody tr th {\n",
       "        vertical-align: top;\n",
       "    }\n",
       "\n",
       "    .dataframe thead th {\n",
       "        text-align: right;\n",
       "    }\n",
       "</style>\n",
       "<table border=\"1\" class=\"dataframe\">\n",
       "  <thead>\n",
       "    <tr style=\"text-align: right;\">\n",
       "      <th></th>\n",
       "      <th>Unnamed: 0</th>\n",
       "      <th>ID</th>\n",
       "      <th>ID_ORIG</th>\n",
       "      <th>Unnamed: 3</th>\n",
       "      <th>CATEGORY</th>\n",
       "      <th>LOCATION</th>\n",
       "      <th>INSERT</th>\n",
       "      <th>Padded.Insert</th>\n",
       "      <th>DNA_1</th>\n",
       "      <th>RNA_1</th>\n",
       "      <th>...</th>\n",
       "      <th>BARCODES_3</th>\n",
       "      <th>Rep_count</th>\n",
       "      <th>avg</th>\n",
       "      <th>pv_scrm</th>\n",
       "      <th>expression</th>\n",
       "      <th>scrm_expression</th>\n",
       "      <th>scrm_Expression</th>\n",
       "      <th>pv_sv40</th>\n",
       "      <th>expression_sv40</th>\n",
       "      <th>Expression_sv40</th>\n",
       "    </tr>\n",
       "  </thead>\n",
       "  <tbody>\n",
       "    <tr>\n",
       "      <th>0</th>\n",
       "      <td>1</td>\n",
       "      <td>&gt;128412</td>\n",
       "      <td>128412</td>\n",
       "      <td>NaN</td>\n",
       "      <td>NULLOER</td>\n",
       "      <td>DISTAL</td>\n",
       "      <td>AACGCGTCGATAG</td>\n",
       "      <td>GGAGAACGCGTCGATAGGCCT</td>\n",
       "      <td>0.746318</td>\n",
       "      <td>0.758651</td>\n",
       "      <td>...</td>\n",
       "      <td>28.0</td>\n",
       "      <td>3</td>\n",
       "      <td>1.016011</td>\n",
       "      <td>5.930000e-39</td>\n",
       "      <td>Unchanged</td>\n",
       "      <td>Unchanged</td>\n",
       "      <td>DISTAL_Unchanged</td>\n",
       "      <td>0.739710</td>\n",
       "      <td>Unchanged</td>\n",
       "      <td>DISTAL_Unchanged</td>\n",
       "    </tr>\n",
       "    <tr>\n",
       "      <th>1</th>\n",
       "      <td>2</td>\n",
       "      <td>&gt;128418</td>\n",
       "      <td>128418</td>\n",
       "      <td>6.0</td>\n",
       "      <td>NULLOER</td>\n",
       "      <td>DISTAL</td>\n",
       "      <td>ACGATTACGCGCG</td>\n",
       "      <td>GGAGACGATTACGCGCGGCCT</td>\n",
       "      <td>5.160221</td>\n",
       "      <td>3.230870</td>\n",
       "      <td>...</td>\n",
       "      <td>33.0</td>\n",
       "      <td>3</td>\n",
       "      <td>1.398864</td>\n",
       "      <td>1.100000e-63</td>\n",
       "      <td>Unchanged</td>\n",
       "      <td>Unchanged</td>\n",
       "      <td>DISTAL_Unchanged</td>\n",
       "      <td>0.063350</td>\n",
       "      <td>Unchanged</td>\n",
       "      <td>DISTAL_Unchanged</td>\n",
       "    </tr>\n",
       "    <tr>\n",
       "      <th>2</th>\n",
       "      <td>3</td>\n",
       "      <td>&gt;128419</td>\n",
       "      <td>128419</td>\n",
       "      <td>1.0</td>\n",
       "      <td>NULLOER</td>\n",
       "      <td>MID</td>\n",
       "      <td>ACGATTACGCGCG</td>\n",
       "      <td>GCAGACGATTACGCGCGAGGC</td>\n",
       "      <td>2.265344</td>\n",
       "      <td>1.900710</td>\n",
       "      <td>...</td>\n",
       "      <td>35.0</td>\n",
       "      <td>3</td>\n",
       "      <td>1.272478</td>\n",
       "      <td>7.460000e-56</td>\n",
       "      <td>Unchanged</td>\n",
       "      <td>Unchanged</td>\n",
       "      <td>MID_Unchanged</td>\n",
       "      <td>0.090174</td>\n",
       "      <td>Unchanged</td>\n",
       "      <td>MID_Unchanged</td>\n",
       "    </tr>\n",
       "    <tr>\n",
       "      <th>3</th>\n",
       "      <td>4</td>\n",
       "      <td>&gt;128421</td>\n",
       "      <td>128421</td>\n",
       "      <td>2.0</td>\n",
       "      <td>NULLOER</td>\n",
       "      <td>DISTAL</td>\n",
       "      <td>ACGCGTCGATAGG</td>\n",
       "      <td>GGAGACGCGTCGATAGGGCCT</td>\n",
       "      <td>0.782786</td>\n",
       "      <td>0.827351</td>\n",
       "      <td>...</td>\n",
       "      <td>27.0</td>\n",
       "      <td>3</td>\n",
       "      <td>0.895732</td>\n",
       "      <td>1.240000e-30</td>\n",
       "      <td>Unchanged</td>\n",
       "      <td>Unchanged</td>\n",
       "      <td>DISTAL_Unchanged</td>\n",
       "      <td>0.161035</td>\n",
       "      <td>Unchanged</td>\n",
       "      <td>DISTAL_Unchanged</td>\n",
       "    </tr>\n",
       "    <tr>\n",
       "      <th>4</th>\n",
       "      <td>5</td>\n",
       "      <td>&gt;128424</td>\n",
       "      <td>128424</td>\n",
       "      <td>3.0</td>\n",
       "      <td>NULLOER</td>\n",
       "      <td>DISTAL</td>\n",
       "      <td>ACGCGTCGTACGG</td>\n",
       "      <td>GGAGACGCGTCGTACGGGCCT</td>\n",
       "      <td>0.888767</td>\n",
       "      <td>1.069103</td>\n",
       "      <td>...</td>\n",
       "      <td>27.0</td>\n",
       "      <td>3</td>\n",
       "      <td>0.976620</td>\n",
       "      <td>4.340000e-35</td>\n",
       "      <td>Unchanged</td>\n",
       "      <td>Unchanged</td>\n",
       "      <td>DISTAL_Unchanged</td>\n",
       "      <td>0.876263</td>\n",
       "      <td>Unchanged</td>\n",
       "      <td>DISTAL_Unchanged</td>\n",
       "    </tr>\n",
       "  </tbody>\n",
       "</table>\n",
       "<p>5 rows × 29 columns</p>\n",
       "</div>"
      ],
      "text/plain": [
       "   Unnamed: 0       ID  ID_ORIG  Unnamed: 3 CATEGORY LOCATION         INSERT  \\\n",
       "0           1  >128412   128412         NaN  NULLOER   DISTAL  AACGCGTCGATAG   \n",
       "1           2  >128418   128418         6.0  NULLOER   DISTAL  ACGATTACGCGCG   \n",
       "2           3  >128419   128419         1.0  NULLOER      MID  ACGATTACGCGCG   \n",
       "3           4  >128421   128421         2.0  NULLOER   DISTAL  ACGCGTCGATAGG   \n",
       "4           5  >128424   128424         3.0  NULLOER   DISTAL  ACGCGTCGTACGG   \n",
       "\n",
       "           Padded.Insert     DNA_1     RNA_1  ...  BARCODES_3  Rep_count  \\\n",
       "0  GGAGAACGCGTCGATAGGCCT  0.746318  0.758651  ...        28.0          3   \n",
       "1  GGAGACGATTACGCGCGGCCT  5.160221  3.230870  ...        33.0          3   \n",
       "2  GCAGACGATTACGCGCGAGGC  2.265344  1.900710  ...        35.0          3   \n",
       "3  GGAGACGCGTCGATAGGGCCT  0.782786  0.827351  ...        27.0          3   \n",
       "4  GGAGACGCGTCGTACGGGCCT  0.888767  1.069103  ...        27.0          3   \n",
       "\n",
       "        avg       pv_scrm  expression  scrm_expression   scrm_Expression  \\\n",
       "0  1.016011  5.930000e-39   Unchanged        Unchanged  DISTAL_Unchanged   \n",
       "1  1.398864  1.100000e-63   Unchanged        Unchanged  DISTAL_Unchanged   \n",
       "2  1.272478  7.460000e-56   Unchanged        Unchanged     MID_Unchanged   \n",
       "3  0.895732  1.240000e-30   Unchanged        Unchanged  DISTAL_Unchanged   \n",
       "4  0.976620  4.340000e-35   Unchanged        Unchanged  DISTAL_Unchanged   \n",
       "\n",
       "    pv_sv40  expression_sv40   Expression_sv40  \n",
       "0  0.739710        Unchanged  DISTAL_Unchanged  \n",
       "1  0.063350        Unchanged  DISTAL_Unchanged  \n",
       "2  0.090174        Unchanged     MID_Unchanged  \n",
       "3  0.161035        Unchanged  DISTAL_Unchanged  \n",
       "4  0.876263        Unchanged  DISTAL_Unchanged  \n",
       "\n",
       "[5 rows x 29 columns]"
      ]
     },
     "execution_count": 2,
     "metadata": {},
     "output_type": "execute_result"
    }
   ],
   "source": [
    "CSV = \"/wynton/home/ahituv/fongsl/nullomers/data/mpra/PromoterNullomer_ABV20.csv\"\n",
    "\n",
    "df = pd.read_csv(CSV)\n",
    "\n",
    "df.head()"
   ]
  },
  {
   "cell_type": "markdown",
   "id": "8e666a9e",
   "metadata": {},
   "source": [
    "## dropping columns"
   ]
  },
  {
   "cell_type": "code",
   "execution_count": 3,
   "id": "5e18a63b",
   "metadata": {
    "ExecuteTime": {
     "end_time": "2023-01-10T05:05:33.674723Z",
     "start_time": "2023-01-10T05:05:33.669454Z"
    }
   },
   "outputs": [
    {
     "data": {
      "text/plain": [
       "['Unnamed: 0',\n",
       " 'ID',\n",
       " 'ID_ORIG',\n",
       " 'Unnamed: 3',\n",
       " 'CATEGORY',\n",
       " 'LOCATION',\n",
       " 'INSERT',\n",
       " 'Padded.Insert',\n",
       " 'DNA_1',\n",
       " 'RNA_1',\n",
       " 'RATIO_1',\n",
       " 'BARCODES_1',\n",
       " 'DNA_2',\n",
       " 'RNA_2',\n",
       " 'RATIO_2',\n",
       " 'BARCODES_2',\n",
       " 'DNA_3',\n",
       " 'RNA_3',\n",
       " 'RATIO_3',\n",
       " 'BARCODES_3',\n",
       " 'Rep_count',\n",
       " 'avg',\n",
       " 'pv_scrm',\n",
       " 'expression',\n",
       " 'scrm_expression',\n",
       " 'scrm_Expression',\n",
       " 'pv_sv40',\n",
       " 'expression_sv40',\n",
       " 'Expression_sv40']"
      ]
     },
     "execution_count": 3,
     "metadata": {},
     "output_type": "execute_result"
    }
   ],
   "source": [
    "list(df)"
   ]
  },
  {
   "cell_type": "code",
   "execution_count": 4,
   "id": "563778c4",
   "metadata": {
    "ExecuteTime": {
     "end_time": "2023-01-10T05:05:33.798976Z",
     "start_time": "2023-01-10T05:05:33.680529Z"
    }
   },
   "outputs": [
    {
     "data": {
      "text/html": [
       "<div>\n",
       "<style scoped>\n",
       "    .dataframe tbody tr th:only-of-type {\n",
       "        vertical-align: middle;\n",
       "    }\n",
       "\n",
       "    .dataframe tbody tr th {\n",
       "        vertical-align: top;\n",
       "    }\n",
       "\n",
       "    .dataframe thead th {\n",
       "        text-align: right;\n",
       "    }\n",
       "</style>\n",
       "<table border=\"1\" class=\"dataframe\">\n",
       "  <thead>\n",
       "    <tr style=\"text-align: right;\">\n",
       "      <th></th>\n",
       "      <th>ID_ORIG</th>\n",
       "      <th>Unnamed: 3</th>\n",
       "      <th>CATEGORY</th>\n",
       "      <th>LOCATION</th>\n",
       "      <th>INSERT</th>\n",
       "      <th>Padded.Insert</th>\n",
       "      <th>DNA_1</th>\n",
       "      <th>RNA_1</th>\n",
       "      <th>RATIO_1</th>\n",
       "      <th>BARCODES_1</th>\n",
       "      <th>...</th>\n",
       "      <th>BARCODES_3</th>\n",
       "      <th>Rep_count</th>\n",
       "      <th>avg</th>\n",
       "      <th>pv_scrm</th>\n",
       "      <th>expression</th>\n",
       "      <th>scrm_expression</th>\n",
       "      <th>scrm_Expression</th>\n",
       "      <th>pv_sv40</th>\n",
       "      <th>expression_sv40</th>\n",
       "      <th>Expression_sv40</th>\n",
       "    </tr>\n",
       "  </thead>\n",
       "  <tbody>\n",
       "    <tr>\n",
       "      <th>0</th>\n",
       "      <td>128412</td>\n",
       "      <td>NaN</td>\n",
       "      <td>NULLOER</td>\n",
       "      <td>DISTAL</td>\n",
       "      <td>AACGCGTCGATAG</td>\n",
       "      <td>GGAGAACGCGTCGATAGGCCT</td>\n",
       "      <td>0.746318</td>\n",
       "      <td>0.758651</td>\n",
       "      <td>0.983743</td>\n",
       "      <td>28.0</td>\n",
       "      <td>...</td>\n",
       "      <td>28.0</td>\n",
       "      <td>3</td>\n",
       "      <td>1.016011</td>\n",
       "      <td>5.930000e-39</td>\n",
       "      <td>Unchanged</td>\n",
       "      <td>Unchanged</td>\n",
       "      <td>DISTAL_Unchanged</td>\n",
       "      <td>0.739710</td>\n",
       "      <td>Unchanged</td>\n",
       "      <td>DISTAL_Unchanged</td>\n",
       "    </tr>\n",
       "    <tr>\n",
       "      <th>1</th>\n",
       "      <td>128418</td>\n",
       "      <td>6.0</td>\n",
       "      <td>NULLOER</td>\n",
       "      <td>DISTAL</td>\n",
       "      <td>ACGATTACGCGCG</td>\n",
       "      <td>GGAGACGATTACGCGCGGCCT</td>\n",
       "      <td>5.160221</td>\n",
       "      <td>3.230870</td>\n",
       "      <td>1.597161</td>\n",
       "      <td>32.0</td>\n",
       "      <td>...</td>\n",
       "      <td>33.0</td>\n",
       "      <td>3</td>\n",
       "      <td>1.398864</td>\n",
       "      <td>1.100000e-63</td>\n",
       "      <td>Unchanged</td>\n",
       "      <td>Unchanged</td>\n",
       "      <td>DISTAL_Unchanged</td>\n",
       "      <td>0.063350</td>\n",
       "      <td>Unchanged</td>\n",
       "      <td>DISTAL_Unchanged</td>\n",
       "    </tr>\n",
       "    <tr>\n",
       "      <th>2</th>\n",
       "      <td>128419</td>\n",
       "      <td>1.0</td>\n",
       "      <td>NULLOER</td>\n",
       "      <td>MID</td>\n",
       "      <td>ACGATTACGCGCG</td>\n",
       "      <td>GCAGACGATTACGCGCGAGGC</td>\n",
       "      <td>2.265344</td>\n",
       "      <td>1.900710</td>\n",
       "      <td>1.191841</td>\n",
       "      <td>32.0</td>\n",
       "      <td>...</td>\n",
       "      <td>35.0</td>\n",
       "      <td>3</td>\n",
       "      <td>1.272478</td>\n",
       "      <td>7.460000e-56</td>\n",
       "      <td>Unchanged</td>\n",
       "      <td>Unchanged</td>\n",
       "      <td>MID_Unchanged</td>\n",
       "      <td>0.090174</td>\n",
       "      <td>Unchanged</td>\n",
       "      <td>MID_Unchanged</td>\n",
       "    </tr>\n",
       "    <tr>\n",
       "      <th>3</th>\n",
       "      <td>128421</td>\n",
       "      <td>2.0</td>\n",
       "      <td>NULLOER</td>\n",
       "      <td>DISTAL</td>\n",
       "      <td>ACGCGTCGATAGG</td>\n",
       "      <td>GGAGACGCGTCGATAGGGCCT</td>\n",
       "      <td>0.782786</td>\n",
       "      <td>0.827351</td>\n",
       "      <td>0.946136</td>\n",
       "      <td>26.0</td>\n",
       "      <td>...</td>\n",
       "      <td>27.0</td>\n",
       "      <td>3</td>\n",
       "      <td>0.895732</td>\n",
       "      <td>1.240000e-30</td>\n",
       "      <td>Unchanged</td>\n",
       "      <td>Unchanged</td>\n",
       "      <td>DISTAL_Unchanged</td>\n",
       "      <td>0.161035</td>\n",
       "      <td>Unchanged</td>\n",
       "      <td>DISTAL_Unchanged</td>\n",
       "    </tr>\n",
       "    <tr>\n",
       "      <th>4</th>\n",
       "      <td>128424</td>\n",
       "      <td>3.0</td>\n",
       "      <td>NULLOER</td>\n",
       "      <td>DISTAL</td>\n",
       "      <td>ACGCGTCGTACGG</td>\n",
       "      <td>GGAGACGCGTCGTACGGGCCT</td>\n",
       "      <td>0.888767</td>\n",
       "      <td>1.069103</td>\n",
       "      <td>0.831320</td>\n",
       "      <td>25.0</td>\n",
       "      <td>...</td>\n",
       "      <td>27.0</td>\n",
       "      <td>3</td>\n",
       "      <td>0.976620</td>\n",
       "      <td>4.340000e-35</td>\n",
       "      <td>Unchanged</td>\n",
       "      <td>Unchanged</td>\n",
       "      <td>DISTAL_Unchanged</td>\n",
       "      <td>0.876263</td>\n",
       "      <td>Unchanged</td>\n",
       "      <td>DISTAL_Unchanged</td>\n",
       "    </tr>\n",
       "  </tbody>\n",
       "</table>\n",
       "<p>5 rows × 27 columns</p>\n",
       "</div>"
      ],
      "text/plain": [
       "   ID_ORIG  Unnamed: 3 CATEGORY LOCATION         INSERT  \\\n",
       "0   128412         NaN  NULLOER   DISTAL  AACGCGTCGATAG   \n",
       "1   128418         6.0  NULLOER   DISTAL  ACGATTACGCGCG   \n",
       "2   128419         1.0  NULLOER      MID  ACGATTACGCGCG   \n",
       "3   128421         2.0  NULLOER   DISTAL  ACGCGTCGATAGG   \n",
       "4   128424         3.0  NULLOER   DISTAL  ACGCGTCGTACGG   \n",
       "\n",
       "           Padded.Insert     DNA_1     RNA_1   RATIO_1  BARCODES_1  ...  \\\n",
       "0  GGAGAACGCGTCGATAGGCCT  0.746318  0.758651  0.983743        28.0  ...   \n",
       "1  GGAGACGATTACGCGCGGCCT  5.160221  3.230870  1.597161        32.0  ...   \n",
       "2  GCAGACGATTACGCGCGAGGC  2.265344  1.900710  1.191841        32.0  ...   \n",
       "3  GGAGACGCGTCGATAGGGCCT  0.782786  0.827351  0.946136        26.0  ...   \n",
       "4  GGAGACGCGTCGTACGGGCCT  0.888767  1.069103  0.831320        25.0  ...   \n",
       "\n",
       "   BARCODES_3  Rep_count       avg       pv_scrm  expression  scrm_expression  \\\n",
       "0        28.0          3  1.016011  5.930000e-39   Unchanged        Unchanged   \n",
       "1        33.0          3  1.398864  1.100000e-63   Unchanged        Unchanged   \n",
       "2        35.0          3  1.272478  7.460000e-56   Unchanged        Unchanged   \n",
       "3        27.0          3  0.895732  1.240000e-30   Unchanged        Unchanged   \n",
       "4        27.0          3  0.976620  4.340000e-35   Unchanged        Unchanged   \n",
       "\n",
       "    scrm_Expression   pv_sv40  expression_sv40   Expression_sv40  \n",
       "0  DISTAL_Unchanged  0.739710        Unchanged  DISTAL_Unchanged  \n",
       "1  DISTAL_Unchanged  0.063350        Unchanged  DISTAL_Unchanged  \n",
       "2     MID_Unchanged  0.090174        Unchanged     MID_Unchanged  \n",
       "3  DISTAL_Unchanged  0.161035        Unchanged  DISTAL_Unchanged  \n",
       "4  DISTAL_Unchanged  0.876263        Unchanged  DISTAL_Unchanged  \n",
       "\n",
       "[5 rows x 27 columns]"
      ]
     },
     "execution_count": 4,
     "metadata": {},
     "output_type": "execute_result"
    }
   ],
   "source": [
    "drop_cols = ['Unnamed: 0', \"ID\"]\n",
    "df = df.drop(columns=drop_cols)\n",
    "#df = df.loc[df[\"CATEGORY\"]!= \"CONTROL_SCRM\"] # no insert information\n",
    "\n",
    "df.head()"
   ]
  },
  {
   "cell_type": "markdown",
   "id": "d9a639bb",
   "metadata": {},
   "source": [
    "## GC content\n",
    "sum of g's and c's. Does not consider GC dinucleotides. "
   ]
  },
  {
   "cell_type": "code",
   "execution_count": 13,
   "id": "8b7835aa",
   "metadata": {
    "ExecuteTime": {
     "end_time": "2023-01-10T05:12:26.503910Z",
     "start_time": "2023-01-10T05:12:26.488224Z"
    }
   },
   "outputs": [],
   "source": [
    "def count_dinucleotide(sequence):\n",
    "    \n",
    "    \"\"\"\n",
    "    input \n",
    "        sequence (str)\n",
    "    method\n",
    "        1. instantiate GC count variable, last_dinucleotide variable. Upper() sequence\n",
    "        2. iterate, step-size=1, through sequence, counting GC/CG\n",
    "        3. if last dinucleotide pair was not in the previous step, count this dinucleotide. \n",
    "            Set the last_dinuc step at this index. \n",
    "        4. if the last dinucleotide pair WAS adjacent to this step, do not count, continue. \n",
    "    \n",
    "    return count of GC dinucleotide \n",
    "        \n",
    "    \"\"\"\n",
    "    #1\n",
    "    gc_dinuc_count, last_dinuc = 0, 0\n",
    "    sequence = sequence.upper()\n",
    "    \n",
    "    #2\n",
    "    for n in range(len(sequence)+1):  \n",
    "\n",
    "        seq=sequence[n:n+2]  #get index of sequence and next nucleotide\n",
    "        \n",
    "        if seq==\"GC\" or seq==\"CG\":\n",
    "            \n",
    "            # 3\n",
    "            if last_dinuc!=n-1:  # if last dinucleotide was not the previous step\n",
    "                gc_dinuc_count +=1\n",
    "                last_dinuc = n\n",
    "                #print(\"Count sequence dinucleotide\")\n",
    "\n",
    "            # 4  handle cases where gc isn't dinucleotide, but trinucleotide\n",
    "            elif last_dinuc ==n-1: \n",
    "                #print(\"last sequence was dinucleotide\")\n",
    "                continue\n",
    "                \n",
    "    return gc_dinuc_count\n",
    "\n",
    "def countDinuc(df, seq_col):\n",
    "    \"\"\"\n",
    "    count the frequency of G's and C's, the dinucleotide frequency\n",
    "    \n",
    "    input\n",
    "        df (pd dataframe obj) - dataframe w/ nullomer data, sequences\n",
    "        seq_col (str) - name of the dataframe column w/ the sequence str\n",
    "    \n",
    "    method\n",
    "        1. remove any rows w/ no sequence info\n",
    "        2. quantify %GC with SeqUtils.gc_fraction function\n",
    "        3. calculate dinucleotide content using a custom script\n",
    "        \n",
    "    return \n",
    "        test (pd dataframe) - copy of the input dataframe w/ %gc and dinucleotide count\n",
    "        \n",
    "    \"\"\"\n",
    "    #1\n",
    "    test = df.loc[df[seq_col].astype(str) != \"nan\"].copy()\n",
    "    \n",
    "    #2\n",
    "    test[\"%GC\"] = test[seq_col].apply(lambda x: gc_fraction(x))  # SeqUtils\n",
    "    \n",
    "    #3\n",
    "    test[\"GC_dinuc\"] = test[seq_col].apply(lambda x: count_dinucleotide(x))  # custom function\n",
    "    \n",
    "    return test"
   ]
  },
  {
   "cell_type": "code",
   "execution_count": 7,
   "id": "4c772c9c",
   "metadata": {
    "ExecuteTime": {
     "end_time": "2023-01-10T05:08:27.281443Z",
     "start_time": "2023-01-10T05:08:27.274529Z"
    }
   },
   "outputs": [
    {
     "data": {
      "text/plain": [
       "3"
      ]
     },
     "execution_count": 7,
     "metadata": {},
     "output_type": "execute_result"
    }
   ],
   "source": [
    "# test dinucleotide counting\n",
    "\n",
    "x, n= \"AACGCGTCGATAG\", 2\n",
    "count_dinucleotide(x)"
   ]
  },
  {
   "cell_type": "code",
   "execution_count": 14,
   "id": "4a85ec26",
   "metadata": {
    "ExecuteTime": {
     "end_time": "2023-01-10T05:12:47.925822Z",
     "start_time": "2023-01-10T05:12:47.772563Z"
    }
   },
   "outputs": [
    {
     "data": {
      "text/html": [
       "<div>\n",
       "<style scoped>\n",
       "    .dataframe tbody tr th:only-of-type {\n",
       "        vertical-align: middle;\n",
       "    }\n",
       "\n",
       "    .dataframe tbody tr th {\n",
       "        vertical-align: top;\n",
       "    }\n",
       "\n",
       "    .dataframe thead th {\n",
       "        text-align: right;\n",
       "    }\n",
       "</style>\n",
       "<table border=\"1\" class=\"dataframe\">\n",
       "  <thead>\n",
       "    <tr style=\"text-align: right;\">\n",
       "      <th></th>\n",
       "      <th>ID_ORIG</th>\n",
       "      <th>Unnamed: 3</th>\n",
       "      <th>CATEGORY</th>\n",
       "      <th>LOCATION</th>\n",
       "      <th>INSERT</th>\n",
       "      <th>Padded.Insert</th>\n",
       "      <th>DNA_1</th>\n",
       "      <th>RNA_1</th>\n",
       "      <th>RATIO_1</th>\n",
       "      <th>BARCODES_1</th>\n",
       "      <th>...</th>\n",
       "      <th>avg</th>\n",
       "      <th>pv_scrm</th>\n",
       "      <th>expression</th>\n",
       "      <th>scrm_expression</th>\n",
       "      <th>scrm_Expression</th>\n",
       "      <th>pv_sv40</th>\n",
       "      <th>expression_sv40</th>\n",
       "      <th>Expression_sv40</th>\n",
       "      <th>%GC</th>\n",
       "      <th>GC_dinuc</th>\n",
       "    </tr>\n",
       "  </thead>\n",
       "  <tbody>\n",
       "    <tr>\n",
       "      <th>0</th>\n",
       "      <td>128412</td>\n",
       "      <td>NaN</td>\n",
       "      <td>NULLOER</td>\n",
       "      <td>DISTAL</td>\n",
       "      <td>AACGCGTCGATAG</td>\n",
       "      <td>GGAGAACGCGTCGATAGGCCT</td>\n",
       "      <td>0.746318</td>\n",
       "      <td>0.758651</td>\n",
       "      <td>0.983743</td>\n",
       "      <td>28.0</td>\n",
       "      <td>...</td>\n",
       "      <td>1.016011</td>\n",
       "      <td>5.930000e-39</td>\n",
       "      <td>Unchanged</td>\n",
       "      <td>Unchanged</td>\n",
       "      <td>DISTAL_Unchanged</td>\n",
       "      <td>0.739710</td>\n",
       "      <td>Unchanged</td>\n",
       "      <td>DISTAL_Unchanged</td>\n",
       "      <td>0.538462</td>\n",
       "      <td>3</td>\n",
       "    </tr>\n",
       "    <tr>\n",
       "      <th>1</th>\n",
       "      <td>128418</td>\n",
       "      <td>6.0</td>\n",
       "      <td>NULLOER</td>\n",
       "      <td>DISTAL</td>\n",
       "      <td>ACGATTACGCGCG</td>\n",
       "      <td>GGAGACGATTACGCGCGGCCT</td>\n",
       "      <td>5.160221</td>\n",
       "      <td>3.230870</td>\n",
       "      <td>1.597161</td>\n",
       "      <td>32.0</td>\n",
       "      <td>...</td>\n",
       "      <td>1.398864</td>\n",
       "      <td>1.100000e-63</td>\n",
       "      <td>Unchanged</td>\n",
       "      <td>Unchanged</td>\n",
       "      <td>DISTAL_Unchanged</td>\n",
       "      <td>0.063350</td>\n",
       "      <td>Unchanged</td>\n",
       "      <td>DISTAL_Unchanged</td>\n",
       "      <td>0.615385</td>\n",
       "      <td>3</td>\n",
       "    </tr>\n",
       "    <tr>\n",
       "      <th>2</th>\n",
       "      <td>128419</td>\n",
       "      <td>1.0</td>\n",
       "      <td>NULLOER</td>\n",
       "      <td>MID</td>\n",
       "      <td>ACGATTACGCGCG</td>\n",
       "      <td>GCAGACGATTACGCGCGAGGC</td>\n",
       "      <td>2.265344</td>\n",
       "      <td>1.900710</td>\n",
       "      <td>1.191841</td>\n",
       "      <td>32.0</td>\n",
       "      <td>...</td>\n",
       "      <td>1.272478</td>\n",
       "      <td>7.460000e-56</td>\n",
       "      <td>Unchanged</td>\n",
       "      <td>Unchanged</td>\n",
       "      <td>MID_Unchanged</td>\n",
       "      <td>0.090174</td>\n",
       "      <td>Unchanged</td>\n",
       "      <td>MID_Unchanged</td>\n",
       "      <td>0.615385</td>\n",
       "      <td>3</td>\n",
       "    </tr>\n",
       "    <tr>\n",
       "      <th>3</th>\n",
       "      <td>128421</td>\n",
       "      <td>2.0</td>\n",
       "      <td>NULLOER</td>\n",
       "      <td>DISTAL</td>\n",
       "      <td>ACGCGTCGATAGG</td>\n",
       "      <td>GGAGACGCGTCGATAGGGCCT</td>\n",
       "      <td>0.782786</td>\n",
       "      <td>0.827351</td>\n",
       "      <td>0.946136</td>\n",
       "      <td>26.0</td>\n",
       "      <td>...</td>\n",
       "      <td>0.895732</td>\n",
       "      <td>1.240000e-30</td>\n",
       "      <td>Unchanged</td>\n",
       "      <td>Unchanged</td>\n",
       "      <td>DISTAL_Unchanged</td>\n",
       "      <td>0.161035</td>\n",
       "      <td>Unchanged</td>\n",
       "      <td>DISTAL_Unchanged</td>\n",
       "      <td>0.615385</td>\n",
       "      <td>2</td>\n",
       "    </tr>\n",
       "    <tr>\n",
       "      <th>4</th>\n",
       "      <td>128424</td>\n",
       "      <td>3.0</td>\n",
       "      <td>NULLOER</td>\n",
       "      <td>DISTAL</td>\n",
       "      <td>ACGCGTCGTACGG</td>\n",
       "      <td>GGAGACGCGTCGTACGGGCCT</td>\n",
       "      <td>0.888767</td>\n",
       "      <td>1.069103</td>\n",
       "      <td>0.831320</td>\n",
       "      <td>25.0</td>\n",
       "      <td>...</td>\n",
       "      <td>0.976620</td>\n",
       "      <td>4.340000e-35</td>\n",
       "      <td>Unchanged</td>\n",
       "      <td>Unchanged</td>\n",
       "      <td>DISTAL_Unchanged</td>\n",
       "      <td>0.876263</td>\n",
       "      <td>Unchanged</td>\n",
       "      <td>DISTAL_Unchanged</td>\n",
       "      <td>0.692308</td>\n",
       "      <td>3</td>\n",
       "    </tr>\n",
       "  </tbody>\n",
       "</table>\n",
       "<p>5 rows × 29 columns</p>\n",
       "</div>"
      ],
      "text/plain": [
       "   ID_ORIG  Unnamed: 3 CATEGORY LOCATION         INSERT  \\\n",
       "0   128412         NaN  NULLOER   DISTAL  AACGCGTCGATAG   \n",
       "1   128418         6.0  NULLOER   DISTAL  ACGATTACGCGCG   \n",
       "2   128419         1.0  NULLOER      MID  ACGATTACGCGCG   \n",
       "3   128421         2.0  NULLOER   DISTAL  ACGCGTCGATAGG   \n",
       "4   128424         3.0  NULLOER   DISTAL  ACGCGTCGTACGG   \n",
       "\n",
       "           Padded.Insert     DNA_1     RNA_1   RATIO_1  BARCODES_1  ...  \\\n",
       "0  GGAGAACGCGTCGATAGGCCT  0.746318  0.758651  0.983743        28.0  ...   \n",
       "1  GGAGACGATTACGCGCGGCCT  5.160221  3.230870  1.597161        32.0  ...   \n",
       "2  GCAGACGATTACGCGCGAGGC  2.265344  1.900710  1.191841        32.0  ...   \n",
       "3  GGAGACGCGTCGATAGGGCCT  0.782786  0.827351  0.946136        26.0  ...   \n",
       "4  GGAGACGCGTCGTACGGGCCT  0.888767  1.069103  0.831320        25.0  ...   \n",
       "\n",
       "        avg       pv_scrm  expression  scrm_expression   scrm_Expression  \\\n",
       "0  1.016011  5.930000e-39   Unchanged        Unchanged  DISTAL_Unchanged   \n",
       "1  1.398864  1.100000e-63   Unchanged        Unchanged  DISTAL_Unchanged   \n",
       "2  1.272478  7.460000e-56   Unchanged        Unchanged     MID_Unchanged   \n",
       "3  0.895732  1.240000e-30   Unchanged        Unchanged  DISTAL_Unchanged   \n",
       "4  0.976620  4.340000e-35   Unchanged        Unchanged  DISTAL_Unchanged   \n",
       "\n",
       "    pv_sv40  expression_sv40   Expression_sv40       %GC  GC_dinuc  \n",
       "0  0.739710        Unchanged  DISTAL_Unchanged  0.538462         3  \n",
       "1  0.063350        Unchanged  DISTAL_Unchanged  0.615385         3  \n",
       "2  0.090174        Unchanged     MID_Unchanged  0.615385         3  \n",
       "3  0.161035        Unchanged  DISTAL_Unchanged  0.615385         2  \n",
       "4  0.876263        Unchanged  DISTAL_Unchanged  0.692308         3  \n",
       "\n",
       "[5 rows x 29 columns]"
      ]
     },
     "execution_count": 14,
     "metadata": {},
     "output_type": "execute_result"
    }
   ],
   "source": [
    "# remove rows w/ no inserts\n",
    "\n",
    "test = countDinuc(df,\"INSERT\")\n",
    "\n",
    "test.head()"
   ]
  },
  {
   "cell_type": "code",
   "execution_count": 15,
   "id": "46ea5f60",
   "metadata": {
    "ExecuteTime": {
     "end_time": "2023-01-10T05:12:48.451025Z",
     "start_time": "2023-01-10T05:12:48.446384Z"
    }
   },
   "outputs": [
    {
     "data": {
      "text/plain": [
       "((12961, 27), (12711, 29))"
      ]
     },
     "execution_count": 15,
     "metadata": {},
     "output_type": "execute_result"
    }
   ],
   "source": [
    "df.shape, test.shape"
   ]
  },
  {
   "cell_type": "markdown",
   "id": "b8389384",
   "metadata": {},
   "source": [
    "# plot GC dinucleotide, GC frequency"
   ]
  },
  {
   "cell_type": "code",
   "execution_count": 12,
   "id": "7e9e4f53",
   "metadata": {
    "ExecuteTime": {
     "end_time": "2023-01-10T05:09:07.495644Z",
     "start_time": "2023-01-10T05:09:05.187391Z"
    }
   },
   "outputs": [
    {
     "data": {
      "image/png": "[encoded data removed]",
      "text/plain": [
       "<Figure size 600x600 with 1 Axes>"
      ]
     },
     "metadata": {},
     "output_type": "display_data"
    },
    {
     "data": {
      "image/png": "[encoded data removed]",
      "text/plain": [
       "<Figure size 600x600 with 1 Axes>"
      ]
     },
     "metadata": {},
     "output_type": "display_data"
    }
   ],
   "source": [
    "ys = [\"GC_dinuc\", \"%GC\",]\n",
    "for y in ys:\n",
    "    fig, ax = plt.subplots(figsize=(6,6))\n",
    "    sns.boxplot(x='CATEGORY', y=y, data=test, \n",
    "               hue=\"expression\",\n",
    "                notch=True\n",
    "              )\n",
    "    ax.set(title=\"G, C nucleotide distribution\")"
   ]
  },
  {
   "cell_type": "markdown",
   "id": "55b0f5cb",
   "metadata": {
    "ExecuteTime": {
     "end_time": "2023-01-04T01:40:29.486099Z",
     "start_time": "2023-01-04T01:40:29.478492Z"
    }
   },
   "source": [
    "# evaluating features. "
   ]
  },
  {
   "cell_type": "code",
   "execution_count": 16,
   "id": "7875c4cd",
   "metadata": {
    "ExecuteTime": {
     "end_time": "2023-01-10T05:13:00.165864Z",
     "start_time": "2023-01-10T05:13:00.125278Z"
    }
   },
   "outputs": [
    {
     "name": "stdout",
     "output_type": "stream",
     "text": [
      "(12961, 27)\n"
     ]
    },
    {
     "data": {
      "text/html": [
       "<div>\n",
       "<style scoped>\n",
       "    .dataframe tbody tr th:only-of-type {\n",
       "        vertical-align: middle;\n",
       "    }\n",
       "\n",
       "    .dataframe tbody tr th {\n",
       "        vertical-align: top;\n",
       "    }\n",
       "\n",
       "    .dataframe thead th {\n",
       "        text-align: right;\n",
       "    }\n",
       "</style>\n",
       "<table border=\"1\" class=\"dataframe\">\n",
       "  <thead>\n",
       "    <tr style=\"text-align: right;\">\n",
       "      <th></th>\n",
       "      <th>ID_ORIG</th>\n",
       "      <th>Unnamed: 3</th>\n",
       "      <th>CATEGORY</th>\n",
       "      <th>LOCATION</th>\n",
       "      <th>INSERT</th>\n",
       "      <th>Padded.Insert</th>\n",
       "      <th>DNA_1</th>\n",
       "      <th>RNA_1</th>\n",
       "      <th>RATIO_1</th>\n",
       "      <th>BARCODES_1</th>\n",
       "      <th>...</th>\n",
       "      <th>BARCODES_3</th>\n",
       "      <th>Rep_count</th>\n",
       "      <th>avg</th>\n",
       "      <th>pv_scrm</th>\n",
       "      <th>expression</th>\n",
       "      <th>scrm_expression</th>\n",
       "      <th>scrm_Expression</th>\n",
       "      <th>pv_sv40</th>\n",
       "      <th>expression_sv40</th>\n",
       "      <th>Expression_sv40</th>\n",
       "    </tr>\n",
       "  </thead>\n",
       "  <tbody>\n",
       "    <tr>\n",
       "      <th>12655</th>\n",
       "      <td>46077</td>\n",
       "      <td>-139992.0</td>\n",
       "      <td>CONTROL_FREQ</td>\n",
       "      <td>DISTAL</td>\n",
       "      <td>AAAATCTAGACAGAA</td>\n",
       "      <td>GGAGAAAATCTAGACAGAAGCCT</td>\n",
       "      <td>0.813061</td>\n",
       "      <td>0.957245</td>\n",
       "      <td>0.849376</td>\n",
       "      <td>25.0</td>\n",
       "      <td>...</td>\n",
       "      <td>27.0</td>\n",
       "      <td>3</td>\n",
       "      <td>0.983124</td>\n",
       "      <td>1.910000e-36</td>\n",
       "      <td>Unchanged</td>\n",
       "      <td>Unchanged</td>\n",
       "      <td>DISTAL_Unchanged</td>\n",
       "      <td>0.839988</td>\n",
       "      <td>Unchanged</td>\n",
       "      <td>DISTAL_Unchanged</td>\n",
       "    </tr>\n",
       "  </tbody>\n",
       "</table>\n",
       "<p>1 rows × 27 columns</p>\n",
       "</div>"
      ],
      "text/plain": [
       "       ID_ORIG  Unnamed: 3      CATEGORY LOCATION           INSERT  \\\n",
       "12655    46077   -139992.0  CONTROL_FREQ   DISTAL  AAAATCTAGACAGAA   \n",
       "\n",
       "                 Padded.Insert     DNA_1     RNA_1   RATIO_1  BARCODES_1  ...  \\\n",
       "12655  GGAGAAAATCTAGACAGAAGCCT  0.813061  0.957245  0.849376        25.0  ...   \n",
       "\n",
       "       BARCODES_3  Rep_count       avg       pv_scrm  expression  \\\n",
       "12655        27.0          3  0.983124  1.910000e-36   Unchanged   \n",
       "\n",
       "       scrm_expression   scrm_Expression   pv_sv40  expression_sv40  \\\n",
       "12655        Unchanged  DISTAL_Unchanged  0.839988        Unchanged   \n",
       "\n",
       "        Expression_sv40  \n",
       "12655  DISTAL_Unchanged  \n",
       "\n",
       "[1 rows x 27 columns]"
      ]
     },
     "execution_count": 16,
     "metadata": {},
     "output_type": "execute_result"
    }
   ],
   "source": [
    "df.sort_values(by=\"ID_ORIG\")\n",
    "print(df.shape)\n",
    "\n",
    "df.loc[df[\"ID_ORIG\"]== 46077]"
   ]
  },
  {
   "cell_type": "markdown",
   "id": "846ddfdd",
   "metadata": {},
   "source": [
    "# category x average expression, location"
   ]
  },
  {
   "cell_type": "code",
   "execution_count": 17,
   "id": "7612a366",
   "metadata": {
    "ExecuteTime": {
     "end_time": "2023-01-10T05:13:05.321646Z",
     "start_time": "2023-01-10T05:13:04.210193Z"
    }
   },
   "outputs": [
    {
     "data": {
      "text/plain": [
       "<AxesSubplot:xlabel='CATEGORY', ylabel='avg'>"
      ]
     },
     "execution_count": 17,
     "metadata": {},
     "output_type": "execute_result"
    },
    {
     "data": {
      "image/png": "[encoded data removed]",
      "text/plain": [
       "<Figure size 640x480 with 1 Axes>"
      ]
     },
     "metadata": {},
     "output_type": "display_data"
    }
   ],
   "source": [
    "# plot three replicates only\n",
    "threerep = df.loc[df['Rep_count']==3]\n",
    "sns.boxplot(x = \"CATEGORY\", y = \"avg\", data=threerep, hue=\"LOCATION\")"
   ]
  },
  {
   "cell_type": "markdown",
   "id": "8b545941",
   "metadata": {},
   "source": [
    "## category x average expression, stratified by upregulated, downregulated. "
   ]
  },
  {
   "cell_type": "code",
   "execution_count": 18,
   "id": "b63de8ef",
   "metadata": {
    "ExecuteTime": {
     "end_time": "2023-01-10T05:13:09.797511Z",
     "start_time": "2023-01-10T05:13:06.548579Z"
    }
   },
   "outputs": [
    {
     "data": {
      "image/png": "[encoded data removed]",
      "text/plain": [
       "<Figure size 640x480 with 1 Axes>"
      ]
     },
     "metadata": {},
     "output_type": "display_data"
    },
    {
     "data": {
      "image/png": "[encoded data removed]",
      "text/plain": [
       "<Figure size 640x480 with 1 Axes>"
      ]
     },
     "metadata": {},
     "output_type": "display_data"
    },
    {
     "data": {
      "image/png": "[encoded data removed]",
      "text/plain": [
       "<Figure size 640x480 with 1 Axes>"
      ]
     },
     "metadata": {},
     "output_type": "display_data"
    }
   ],
   "source": [
    "for e in [\"expression\", \"expression_sv40\", \"scrm_expression\"]:\n",
    "    fig, ax = plt.subplots()\n",
    "    sns.boxplot(x = \"CATEGORY\", y = \"avg\", data=threerep, hue=e)"
   ]
  },
  {
   "cell_type": "markdown",
   "id": "21c6516d",
   "metadata": {},
   "source": [
    "## categorical expression calls and barcode counts"
   ]
  },
  {
   "cell_type": "markdown",
   "id": "ebbcb086",
   "metadata": {},
   "source": [
    "### sv40 expression"
   ]
  },
  {
   "cell_type": "code",
   "execution_count": 19,
   "id": "472f9f1a",
   "metadata": {
    "ExecuteTime": {
     "end_time": "2023-01-10T05:13:09.818841Z",
     "start_time": "2023-01-10T05:13:09.801496Z"
    }
   },
   "outputs": [
    {
     "data": {
      "text/plain": [
       "CATEGORY      expression_sv40  scrm_expression\n",
       "CONTROL_FREQ  Unchanged        Unchanged           243\n",
       "CONTROL_SCRM  Down-regulated   Down-regulated       25\n",
       "                               Unchanged           224\n",
       "              Unchanged        Unchanged             1\n",
       "NULLOER       Down-regulated   Down-regulated       12\n",
       "              Unchanged        Down-regulated        1\n",
       "                               Unchanged          9908\n",
       "                               Up-regulated         15\n",
       "              Up-regulated     Up-regulated         31\n",
       "Name: ID_ORIG, dtype: int64"
      ]
     },
     "execution_count": 19,
     "metadata": {},
     "output_type": "execute_result"
    }
   ],
   "source": [
    "groupby_cols = [\"CATEGORY\", \"expression_sv40\", \"scrm_expression\"]\n",
    "df.loc[df[\"Rep_count\"]==3].groupby(groupby_cols)[\"ID_ORIG\"].count()"
   ]
  },
  {
   "cell_type": "markdown",
   "id": "009d70be",
   "metadata": {},
   "source": [
    "###  scrm expression"
   ]
  },
  {
   "cell_type": "code",
   "execution_count": 20,
   "id": "6e59d1c9",
   "metadata": {
    "ExecuteTime": {
     "end_time": "2023-01-10T05:13:11.929837Z",
     "start_time": "2023-01-10T05:13:11.915328Z"
    }
   },
   "outputs": [
    {
     "data": {
      "text/plain": [
       "CATEGORY      scrm_expression\n",
       "CONTROL_FREQ  Unchanged           243\n",
       "CONTROL_SCRM  Down-regulated       25\n",
       "              Unchanged           225\n",
       "NULLOER       Down-regulated       13\n",
       "              Unchanged          9908\n",
       "              Up-regulated         46\n",
       "Name: ID_ORIG, dtype: int64"
      ]
     },
     "execution_count": 20,
     "metadata": {},
     "output_type": "execute_result"
    }
   ],
   "source": [
    "groupby_cols = [\"CATEGORY\", \"scrm_expression\"]\n",
    "df.loc[df[\"Rep_count\"]==3].groupby(groupby_cols)[\"ID_ORIG\"].count()"
   ]
  },
  {
   "cell_type": "markdown",
   "id": "ae1b18f0",
   "metadata": {},
   "source": [
    "# get upregulated and down regulated nullomers"
   ]
  },
  {
   "cell_type": "code",
   "execution_count": 21,
   "id": "f5c5ed25",
   "metadata": {
    "ExecuteTime": {
     "end_time": "2023-01-10T05:13:13.301581Z",
     "start_time": "2023-01-10T05:13:13.298259Z"
    }
   },
   "outputs": [],
   "source": [
    "def makeDict(df):\n",
    " \n",
    "    return df[[\"ID_ORIG\",\"INSERT\"]].drop_duplicates().set_index(\"ID_ORIG\").to_dict()"
   ]
  },
  {
   "cell_type": "code",
   "execution_count": 22,
   "id": "83c204fd",
   "metadata": {
    "ExecuteTime": {
     "end_time": "2023-01-10T05:13:14.474388Z",
     "start_time": "2023-01-10T05:13:14.468844Z"
    }
   },
   "outputs": [],
   "source": [
    "def writeDict(dict_, outfile):\n",
    "    with open(out, \"w\") as outfile:\n",
    "        for _, seq_info in dict_.items():\n",
    "            for i,sequence in seq_info.items():\n",
    "\n",
    "                fa_line= f\">{i}\\n{sequence}\\n\"\n",
    "                print(fa_line)\n",
    "                outfile.write(fa_line)\n",
    "\n",
    "    outfile.close()"
   ]
  },
  {
   "cell_type": "markdown",
   "id": "e481f27a",
   "metadata": {},
   "source": [
    "# write .fasta file for blasting "
   ]
  },
  {
   "cell_type": "code",
   "execution_count": 23,
   "id": "3338f33f",
   "metadata": {
    "ExecuteTime": {
     "end_time": "2023-01-10T05:13:16.870815Z",
     "start_time": "2023-01-10T05:13:16.863567Z"
    }
   },
   "outputs": [
    {
     "name": "stdout",
     "output_type": "stream",
     "text": [
      "(59, 27)\n"
     ]
    }
   ],
   "source": [
    "changed = df.loc[\n",
    "                (df[\"CATEGORY\"]==\"NULLOER\")\n",
    "                & (df[\"expression\"]!=\"Unchanged\")\n",
    "                & (df[\"Rep_count\"]==3)\n",
    "                ]\n",
    "\n",
    "print(changed.shape)"
   ]
  },
  {
   "cell_type": "code",
   "execution_count": 24,
   "id": "1ab63958",
   "metadata": {
    "ExecuteTime": {
     "end_time": "2023-01-10T05:13:18.179548Z",
     "start_time": "2023-01-10T05:13:18.157254Z"
    }
   },
   "outputs": [
    {
     "name": "stdout",
     "output_type": "stream",
     "text": [
      ">154195\n",
      "CGTAAGCGTAACG\n",
      "\n",
      ">140388\n",
      "CGTCGATAGGCGCTG\n",
      "\n",
      ">129951\n",
      "ATCGGCGCGTACGAA\n",
      "\n",
      ">130899\n",
      "TACCGATCGACGCAG\n",
      "\n",
      ">131124\n",
      "TCGCGATACGCTAAG\n",
      "\n",
      ">131869\n",
      "CTATCGTTCGCGAAT\n",
      "\n",
      ">133890\n",
      "CCGATCGTACGACGA\n",
      "\n",
      ">134970\n",
      "GTTCGCGCGTCTAGA\n",
      "\n",
      ">163440\n",
      "ATACGCTAGTCCG\n",
      "\n",
      ">145896\n",
      "TCGCGCGATACTACG\n",
      "\n",
      ">136059\n",
      "GGTCGCGCGATACTA\n",
      "\n",
      ">136353\n",
      "GTCCGATCGTACGAC\n",
      "\n",
      ">129393\n",
      "CTATCGACGCGTTAA\n",
      "\n",
      ">137050\n",
      "TAATCCGACGCGCGT\n",
      "\n",
      ">140658\n",
      "GTCGATCGACCCGTG\n",
      "\n",
      ">138792\n",
      "TAATCGTACGAAGCG\n",
      "\n",
      ">138894\n",
      "TCGACCTATCGCGCA\n",
      "\n",
      ">151908\n",
      "TCGCGTGACGGTA\n",
      "\n",
      ">162330\n",
      "CGTTACGATCGCT\n",
      "\n",
      ">152514\n",
      "ACGCGATACGATC\n",
      "\n",
      ">163560\n",
      "ACGTACCGTCGTC\n",
      "\n",
      ">141840\n",
      "TTGCTACCGGTCGTA\n",
      "\n",
      ">136503\n",
      "CGATTACGCGCGAGT\n",
      "\n",
      ">142815\n",
      "CGTACCGGAACGATC\n",
      "\n",
      ">144954\n",
      "CCGATCGTACGACCG\n",
      "\n",
      ">142500\n",
      "CCGATCGTACGACTC\n",
      "\n",
      ">144207\n",
      "GCGATATTACGCGCA\n",
      "\n",
      ">143439\n",
      "TCGCGCGATACTATC\n",
      "\n",
      ">135370\n",
      "GCGGACGCGTACTAG\n",
      "\n",
      ">146695\n",
      "GCGCGATAGGTCGCT\n",
      "\n",
      ">158600\n",
      "TGCGTTACGATCG\n",
      "\n",
      ">144123\n",
      "CACTAGACGCGCGAA\n",
      "\n",
      ">146769\n",
      "CTGTATGCGCGACGG\n",
      "\n",
      ">147731\n",
      "CCGTACGTTCGCGAC\n",
      "\n",
      ">148029\n",
      "CGTCGCGACGTAGTC\n",
      "\n",
      ">148719\n",
      "ATCGTACGACCG\n",
      "\n",
      ">147684\n",
      "CCGGTCGACGCAATC\n",
      "\n",
      ">133680\n",
      "ACTCGTCCCGTACGA\n",
      "\n",
      ">161529\n",
      "TCGCACGCGATAA\n",
      "\n",
      ">136845\n",
      "GCGATATTACGCGGT\n",
      "\n",
      ">152650\n",
      "CGATATTCGACGG\n",
      "\n",
      ">147699\n",
      "CCCGGTCGCGTTATA\n",
      "\n",
      ">155962\n",
      "CCGTCGAATATCG\n",
      "\n",
      ">157284\n",
      "CGACGATACGTAT\n",
      "\n",
      ">157423\n",
      "GCGTATTCGACGG\n",
      "\n",
      ">157567\n",
      "CGATACGTATACG\n",
      "\n",
      ">158347\n",
      "CGCATATACGTCG\n",
      "\n",
      ">155133\n",
      "ATTCGACGAATCG\n",
      "\n",
      ">159058\n",
      "CGTTGTTCGACGG\n",
      "\n",
      ">151233\n",
      "CGCTACGGTATAG\n",
      "\n",
      ">159792\n",
      "CGCGCTAATTCGT\n",
      "\n",
      ">160548\n",
      "ACGCCGTCGATTA\n",
      "\n",
      ">138186\n",
      "GTCGACCGTACGCGC\n",
      "\n",
      ">161920\n",
      "TTACGTACGTCGA\n",
      "\n",
      ">137292\n",
      "TCGCGCGACATCGGT\n",
      "\n",
      ">150844\n",
      "CGATCGTACATCG\n",
      "\n",
      ">159600\n",
      "ATAACGTCGCGTA\n",
      "\n",
      ">128582\n",
      "CGTCGCGCGTTAG\n",
      "\n",
      ">164080\n",
      "CGTCGAATATCGA\n",
      "\n"
     ]
    }
   ],
   "source": [
    "out = \"/wynton/home/ahituv/fongsl/nullomers/data/mpra/change.fa\"\n",
    "\n",
    "nulloseq =  makeDict(changed)\n",
    "writeDict(nulloseq, out)"
   ]
  },
  {
   "cell_type": "markdown",
   "id": "49626c5e",
   "metadata": {},
   "source": [
    "# knownmers"
   ]
  },
  {
   "cell_type": "code",
   "execution_count": null,
   "id": "562dc580",
   "metadata": {
    "ExecuteTime": {
     "end_time": "2023-01-04T02:35:16.459291Z",
     "start_time": "2023-01-04T02:35:16.407837Z"
    }
   },
   "outputs": [],
   "source": [
    "knownmer = df.loc[\n",
    "                (df[\"CATEGORY\"]==\"CONTROL_FREQ\")\n",
    "                #& (df[\"expression\"]!=\"Unchanged\")\n",
    "                & (df[\"Rep_count\"]==3)\n",
    "                ]\n",
    "\n",
    "knownmer"
   ]
  },
  {
   "cell_type": "code",
   "execution_count": null,
   "id": "9b6447ca",
   "metadata": {
    "ExecuteTime": {
     "end_time": "2023-01-04T02:38:15.228925Z",
     "start_time": "2023-01-04T02:38:15.213860Z"
    }
   },
   "outputs": [],
   "source": [
    "out = \"/wynton/home/ahituv/fongsl/nullomers/data/mpra/knownmer.fa\"\n",
    "\n",
    "knownmer_dict =  makeDict(knownmer)\n",
    "writeDict(knownmer_dict, out)"
   ]
  },
  {
   "cell_type": "code",
   "execution_count": null,
   "id": "6999d9be",
   "metadata": {},
   "outputs": [],
   "source": []
  }
 ],
 "metadata": {
  "kernelspec": {
   "display_name": "Python (wynenv)",
   "language": "python",
   "name": "wynenv"
  },
  "language_info": {
   "codemirror_mode": {
    "name": "ipython",
    "version": 3
   },
   "file_extension": ".py",
   "mimetype": "text/x-python",
   "name": "python",
   "nbconvert_exporter": "python",
   "pygments_lexer": "ipython3",
   "version": "3.10.8"
  },
  "toc": {
   "base_numbering": 1,
   "nav_menu": {},
   "number_sections": true,
   "sideBar": true,
   "skip_h1_title": false,
   "title_cell": "Table of Contents",
   "title_sidebar": "Contents",
   "toc_cell": false,
   "toc_position": {},
   "toc_section_display": true,
   "toc_window_display": false
  }
 },
 "nbformat": 4,
 "nbformat_minor": 5
}
