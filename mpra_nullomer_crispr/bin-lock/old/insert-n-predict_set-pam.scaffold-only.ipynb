{
 "cells": [
  {
   "cell_type": "code",
   "execution_count": 2,
   "id": "c6aa43d2",
   "metadata": {
    "ExecuteTime": {
     "end_time": "2023-05-10T17:41:10.370345Z",
     "start_time": "2023-05-10T17:41:01.196383Z"
    }
   },
   "outputs": [],
   "source": [
    "from Bio.SeqIO.FastaIO import SimpleFastaParser\n",
    "import config_readwrite as crw\n",
    "\n",
    "import glob\n",
    "import gzip\n",
    "import numpy as np\n",
    "import os, sys\n",
    "import pandas as pd\n",
    "import subprocess as sp\n",
    "import time"
   ]
  },
  {
   "cell_type": "markdown",
   "id": "b909a1a0",
   "metadata": {},
   "source": [
    "# find coordinates of kmers"
   ]
  },
  {
   "cell_type": "code",
   "execution_count": 3,
   "id": "aba0af97",
   "metadata": {
    "ExecuteTime": {
     "end_time": "2023-05-10T17:41:13.594424Z",
     "start_time": "2023-05-10T17:41:13.535767Z"
    }
   },
   "outputs": [],
   "source": [
    "CL, MER, NMUTS, BUILD, FO_ONLY = \"common\", \"15\", \"2\", \"hg38\", True\n",
    "config, cfn = crw.read(os.path.join(os.getcwd(), \"config.ini\"))"
   ]
  },
  {
   "cell_type": "code",
   "execution_count": 4,
   "id": "5a74b850",
   "metadata": {
    "ExecuteTime": {
     "end_time": "2023-05-10T17:41:14.092330Z",
     "start_time": "2023-05-10T17:41:14.086146Z"
    }
   },
   "outputs": [],
   "source": [
    "TSV_MUT= config[f\"common.{MER}mer.{NMUTS}mut\"][\"tsv\"]\n",
    "\n",
    "BED = config[CL][f\"bed_{BUILD}\"]\n",
    "FA_EXT_BED = config[CL][f\"fa_extended_{BUILD}\"]\n",
    "EXTENDED = config[CL][f\"bed_extended_{BUILD}\"]\n",
    "FA = config[CL][f\"fasta_{BUILD}\"]\n"
   ]
  },
  {
   "cell_type": "code",
   "execution_count": 5,
   "id": "a2c14dcb",
   "metadata": {
    "ExecuteTime": {
     "end_time": "2023-05-10T17:41:15.047690Z",
     "start_time": "2023-05-10T17:41:15.042145Z"
    }
   },
   "outputs": [],
   "source": [
    "SCAFFOLDS=\"/wynton/home/ahituv/fongsl/MPRA/agarwal_2023/scaffold-deciles.n150.tsv\"\n",
    "SCAFFOLDS=\"/wynton/home/ahituv/fongsl/MPRA/agarwal_2023/scaffold-max_min.n150.tsv\"\n",
    "SAMPLE_ROOT = os.path.splitext(SCAFFOLDS)[0]"
   ]
  },
  {
   "cell_type": "code",
   "execution_count": 6,
   "id": "c7b3420c",
   "metadata": {
    "ExecuteTime": {
     "end_time": "2023-05-10T17:41:17.006661Z",
     "start_time": "2023-05-10T17:41:17.000219Z"
    }
   },
   "outputs": [],
   "source": [
    "def faToDict(fa_file):\n",
    "    \"\"\"\n",
    "    turn all the fa coordinates into a dictionary. \n",
    "    \"\"\"\n",
    "\n",
    "    fa_dict = {}\n",
    "    with open(fa_file, \"r\") as fasta_reader:\n",
    "        for values in SimpleFastaParser(fasta_reader):\n",
    "            \n",
    "            name, seq = values\n",
    "            fa_dict[name] = seq\n",
    "            \n",
    "    return fa_dict"
   ]
  },
  {
   "cell_type": "code",
   "execution_count": 7,
   "id": "6433e53f",
   "metadata": {
    "ExecuteTime": {
     "end_time": "2023-05-10T17:41:17.661069Z",
     "start_time": "2023-05-10T17:41:17.652943Z"
    }
   },
   "outputs": [],
   "source": [
    "def dissectFaId(line):\n",
    "    \"\"\"\n",
    "    dissect mutated fa id line for kmer, nullomer information, and get the coordinate file\n",
    "    \"\"\"\n",
    "    # process the line\n",
    "    kmer, chr_, coor, strand, id_ = line.strip('\\n').strip(\">\").split(\".\")\n",
    "            \n",
    "    # get key and value sequence to look up\n",
    "    key, value_seq = kmer[:5], kmer[5:]\n",
    "\n",
    "    bed_coor = chr_ + \":\" + coor\n",
    "    \n",
    "    region_str = \".\".join([kmer, bed_coor, strand, id_]) #TACCCATTCGAGTC.chr1.100333924-100334124.fwd\n",
    "    \n",
    "    \n",
    "    return kmer, key, value_seq, bed_coor, region_str"
   ]
  },
  {
   "cell_type": "code",
   "execution_count": 8,
   "id": "520dfd74",
   "metadata": {
    "ExecuteTime": {
     "end_time": "2023-05-10T17:41:18.221302Z",
     "start_time": "2023-05-10T17:41:18.214203Z"
    },
    "code_folding": [
     0
    ]
   },
   "outputs": [],
   "source": [
    "def seqInsert(seq, insert_start, insert_seq):\n",
    "    \"\"\"\n",
    "    insert sequence fragment (insert_seq) at position (insert_start) within full sequence (seq)\n",
    "    \n",
    "    return inserted sequence. \n",
    "    \"\"\"\n",
    "\n",
    "    insert_size = len(insert_seq)\n",
    "    \n",
    "    insert_end = insert_start + insert_size  # find center end\n",
    "\n",
    "    return seq[:int(insert_start)] + insert_seq + seq[int(insert_end):]"
   ]
  },
  {
   "cell_type": "code",
   "execution_count": 9,
   "id": "7297813e",
   "metadata": {
    "ExecuteTime": {
     "end_time": "2023-05-10T17:41:18.842910Z",
     "start_time": "2023-05-10T17:41:18.836338Z"
    },
    "code_folding": []
   },
   "outputs": [],
   "source": [
    "def MPRAInsertNull(null, fa_sequence):\n",
    "    \n",
    "    \"\"\"\n",
    "    return positions where the nullomer is in fa sequence\n",
    "    \"\"\"\n",
    "    insert_start = (len(fa_sequence)- len(null))/2\n",
    "        \n",
    "\n",
    "    null_insert = seqInsert(fa_sequence.lower(), insert_start, null.upper())  # insert the nullomer sequence into the sequence\n",
    "    \n",
    "    return null_insert"
   ]
  },
  {
   "cell_type": "code",
   "execution_count": 10,
   "id": "cb6275fb",
   "metadata": {
    "ExecuteTime": {
     "end_time": "2023-05-10T17:41:19.415560Z",
     "start_time": "2023-05-10T17:41:19.405971Z"
    },
    "code_folding": []
   },
   "outputs": [],
   "source": [
    "def mapBed(bedfile, expandedfile):\n",
    "\n",
    "   \n",
    "    bed = pd.read_csv(bedfile, sep='\\t')\n",
    "    bed.columns = names =[\"#chr\", \"start\", \"end\", \"strand\", \"id\"]\n",
    "    bed[\"coor\"] = bed[\"#chr\"] +\":\"+bed[\"start\"].map(str) + \"-\" + bed[\"end\"].map(str)\n",
    "\n",
    "\n",
    "    ext = pd.read_csv(expandedfile, sep='\\t', header=None, names =[\"#chr_e\", \"start_e\", \"end_e\", \"id\"])\n",
    "    ext[\"coor_e\"] = ext[\"#chr_e\"] +\":\"+ext[\"start_e\"].map(str) + \"-\" + ext[\"end_e\"].map(str)\n",
    "\n",
    "    joint = pd.merge(ext[[\"id\", \"coor_e\"]], bed[[\"id\", \"coor\"]])\n",
    "    \n",
    "    return joint"
   ]
  },
  {
   "cell_type": "code",
   "execution_count": 11,
   "id": "0af09fb3",
   "metadata": {
    "ExecuteTime": {
     "end_time": "2023-05-10T17:41:19.921477Z",
     "start_time": "2023-05-10T17:41:19.912643Z"
    },
    "code_folding": []
   },
   "outputs": [],
   "source": [
    "def insert4096(nulls_dict, joint_bedex, fa_ex_dict, coor):\n",
    "    \n",
    "    extended_nullseqs = {}\n",
    "    \n",
    "    for key, null_seq in nulls_dict.items():\n",
    "        \n",
    "        extended_coor = joint_bedex.loc[joint_bedex[\"coor\"]==coor, \"coor_e\"].iloc[0] # extend the coordinates to 4096\n",
    "        \n",
    "        extended_seq = fa_ex_dict[extended_coor]  # get the fasta file linked to the extended coordinates\n",
    "        \n",
    "        insert_start = len(extended_seq)/2 - 100 # get the start to insert  # figure out where to insert the sequence\n",
    "        \n",
    "        null4096 = seqInsert(extended_seq.lower(), insert_start, null_seq.upper())  # insert the 200bp MPRA tile w/ nullomer variants into sequence\n",
    "        \n",
    "        extended_nullseqs[key]=null4096  # add to the collection dictionary along with original key\n",
    "        \n",
    "    \n",
    "    return extended_nullseqs, extended_seq"
   ]
  },
  {
   "cell_type": "code",
   "execution_count": 12,
   "id": "b8b6e92c",
   "metadata": {
    "ExecuteTime": {
     "end_time": "2023-05-10T17:41:20.728328Z",
     "start_time": "2023-05-10T17:41:20.722524Z"
    },
    "code_folding": [
     0
    ]
   },
   "outputs": [],
   "source": [
    "def prettifySeq(original, mut):\n",
    "    \"\"\"\n",
    "    prettify sequence. \n",
    "        All matching bases will be written as \".\"\n",
    "        All non matching bases will be written w mutated base identity. \n",
    "    \"\"\"\n",
    "    prettyseq = \"\"\n",
    "    for o, m in zip(original, mut):\n",
    "        if o != m:\n",
    "            prettyseq += m\n",
    "        else:\n",
    "            prettyseq += \".\"\n",
    "\n",
    "    return prettyseq"
   ]
  },
  {
   "cell_type": "markdown",
   "id": "320dd43a",
   "metadata": {},
   "source": [
    "# need to cross over from hs1 to hg38\n",
    "find coordinates in hs1, map back to hg38, and perform sequence scan/ insertion on hg38 build"
   ]
  },
  {
   "cell_type": "markdown",
   "id": "153d2f46",
   "metadata": {},
   "source": [
    "# scaffold selection"
   ]
  },
  {
   "cell_type": "markdown",
   "id": "a8ee0c46",
   "metadata": {},
   "source": [
    "Scaffold selection? \n",
    "\n",
    "See: ./nullomers/bin-lock/Analysis/mpra_corr_scaffold.ipynb\n",
    "\n",
    "Basically, 60K sequences commonly active|inactive \n",
    "across 3 cell lines from Agarwal 2023 were evaluated \n",
    "for MPRA activity (log(rna/dna)). I quantified the mean \n",
    "activity across these three cell lines, then selected \n",
    "the top 3 active and inactive sequences based on the \n",
    "ranked mean. "
   ]
  },
  {
   "cell_type": "markdown",
   "id": "5423e491",
   "metadata": {},
   "source": [
    "## pick active coordinates"
   ]
  },
  {
   "cell_type": "code",
   "execution_count": 22,
   "id": "74d70028",
   "metadata": {
    "ExecuteTime": {
     "end_time": "2023-05-10T17:43:06.730028Z",
     "start_time": "2023-05-10T17:43:06.722024Z"
    }
   },
   "outputs": [],
   "source": [
    "ACTIVE_COOR=[]\n",
    "with open(SCAFFOLDS, \"r\") as reader:\n",
    "    for line in reader.readlines():\n",
    "        if \"log2\" not in line:\n",
    "            PCT, COOR = line.split(\"\\t\")[8], line.split(\"\\t\")[12]\n",
    "            ACTIVE_COOR.append((PCT, COOR))\n",
    "        "
   ]
  },
  {
   "cell_type": "code",
   "execution_count": 23,
   "id": "4667954e",
   "metadata": {
    "ExecuteTime": {
     "end_time": "2023-05-10T17:43:10.784953Z",
     "start_time": "2023-05-10T17:43:08.808066Z"
    }
   },
   "outputs": [],
   "source": [
    "fa_dict = faToDict(FA)\n",
    "fa_ex_dict = faToDict(FA_EXT_BED)\n",
    "joint_bedex=mapBed(BED, EXTENDED)"
   ]
  },
  {
   "cell_type": "markdown",
   "id": "bf367eb1",
   "metadata": {},
   "source": [
    "# extract 4096 bp sequences "
   ]
  },
  {
   "cell_type": "code",
   "execution_count": 24,
   "id": "c71caee1",
   "metadata": {
    "ExecuteTime": {
     "end_time": "2023-05-10T17:43:13.584845Z",
     "start_time": "2023-05-10T17:43:12.948500Z"
    }
   },
   "outputs": [
    {
     "data": {
      "text/plain": [
       "(None, None)"
      ]
     },
     "execution_count": 24,
     "metadata": {},
     "output_type": "execute_result"
    }
   ],
   "source": [
    "# open writer files\n",
    "writer200 = open(SAMPLE_ROOT+\n",
    "              f\".ext200.fa\", \"w\")\n",
    "writer4096 = open(SAMPLE_ROOT +\n",
    "              f\".ext4096.fa\", \"w\")\n",
    "                    \n",
    "\n",
    "# write files per coor\n",
    "for pct, coor in ACTIVE_COOR:\n",
    "\n",
    "    # get the fa sequence for the coordinate\n",
    "    region_fa = fa_dict[coor]\n",
    "\n",
    "    \n",
    "    # dictionary for inserting 200bp into 4096bp sequence\n",
    "    ext_region = joint_bedex.loc[joint_bedex[\"coor\"]==coor, \"coor_e\"].iloc[0]\n",
    "\n",
    "    # get 4096 FA sequence\n",
    "    region_fa_ext = fa_ex_dict[ext_region]\n",
    "\n",
    "    # write the original sequences\n",
    "\n",
    "    writer200.write(f\">{coor}_{pct}\\n{region_fa}\\n\")\n",
    "    writer4096.write(f\">{coor}_{pct}\\n{region_fa_ext}\\n\")   \n",
    "writer200.close(), writer4096.close()"
   ]
  },
  {
   "cell_type": "markdown",
   "id": "05c33d41",
   "metadata": {},
   "source": [
    "# predict w sei"
   ]
  },
  {
   "cell_type": "code",
   "execution_count": 25,
   "id": "ea329631",
   "metadata": {
    "ExecuteTime": {
     "end_time": "2023-05-10T17:43:20.477346Z",
     "start_time": "2023-05-10T17:43:20.469525Z"
    }
   },
   "outputs": [],
   "source": [
    "def launchSei(file, build, gpu):\n",
    "    \n",
    "    SEIDIR = os.path.join(os.path.split(file)[0], \"sei_predictions\")\n",
    "    print(SEIDIR)\n",
    "    if os.path.exists(SEIDIR) is False:\n",
    "        os.mkdir(SEIDIR)\n",
    "    print(SEIDIR)\n",
    "    \n",
    "\n",
    "    SCRIPT = \"/wynton/home/ahituv/fongsl/bin/sei-framework/sarah_scripts/launch_qsub.py\"\n",
    "\n",
    "    cmd = ['python',\n",
    "           SCRIPT, \n",
    "           file, \n",
    "           build, \n",
    "           SEIDIR,\n",
    "           str(gpu)\n",
    "          ]\n",
    "    print(\" \".join(cmd))\n",
    "    sp.call(\" \".join(cmd), shell=True)"
   ]
  },
  {
   "cell_type": "markdown",
   "id": "55bdb724",
   "metadata": {},
   "source": [
    "## launch sei"
   ]
  },
  {
   "cell_type": "code",
   "execution_count": 26,
   "id": "1e5c21f2",
   "metadata": {
    "ExecuteTime": {
     "end_time": "2023-05-10T17:43:22.976276Z",
     "start_time": "2023-05-10T17:43:22.968922Z"
    }
   },
   "outputs": [
    {
     "data": {
      "text/plain": [
       "['/wynton/home/ahituv/fongsl/MPRA/agarwal_2023/scaffold-max_min.n50.ext4096.fa']"
      ]
     },
     "execution_count": 26,
     "metadata": {},
     "output_type": "execute_result"
    }
   ],
   "source": [
    "fs= [SAMPLE_ROOT +\n",
    "              f\".ext4096.fa\"]\n",
    "fs"
   ]
  },
  {
   "cell_type": "code",
   "execution_count": 27,
   "id": "de77265e",
   "metadata": {
    "ExecuteTime": {
     "end_time": "2023-05-10T17:43:25.270978Z",
     "start_time": "2023-05-10T17:43:24.980827Z"
    }
   },
   "outputs": [
    {
     "name": "stdout",
     "output_type": "stream",
     "text": [
      "/wynton/home/ahituv/fongsl/MPRA/agarwal_2023/sei_predictions\n",
      "/wynton/home/ahituv/fongsl/MPRA/agarwal_2023/sei_predictions\n",
      "python /wynton/home/ahituv/fongsl/bin/sei-framework/sarah_scripts/launch_qsub.py /wynton/home/ahituv/fongsl/MPRA/agarwal_2023/scaffold-max_min.n50.ext4096.fa hg38 /wynton/home/ahituv/fongsl/MPRA/agarwal_2023/sei_predictions False\n",
      "Your job 3579367 (\"interpret_sei.sh\") has been submitted\n"
     ]
    }
   ],
   "source": [
    "gpu = False\n",
    "for n, out in enumerate(fs):\n",
    "    launchSei(out, \"hg38\", gpu)"
   ]
  },
  {
   "cell_type": "code",
   "execution_count": null,
   "id": "58ee68e8",
   "metadata": {},
   "outputs": [],
   "source": []
  }
 ],
 "metadata": {
  "kernelspec": {
   "display_name": "Python (wynenv)",
   "language": "python",
   "name": "wynenv"
  },
  "language_info": {
   "codemirror_mode": {
    "name": "ipython",
    "version": 3
   },
   "file_extension": ".py",
   "mimetype": "text/x-python",
   "name": "python",
   "nbconvert_exporter": "python",
   "pygments_lexer": "ipython3",
   "version": "3.10.8"
  },
  "toc": {
   "base_numbering": 1,
   "nav_menu": {},
   "number_sections": true,
   "sideBar": true,
   "skip_h1_title": false,
   "title_cell": "Table of Contents",
   "title_sidebar": "Contents",
   "toc_cell": false,
   "toc_position": {},
   "toc_section_display": true,
   "toc_window_display": false
  },
  "varInspector": {
   "cols": {
    "lenName": 16,
    "lenType": 16,
    "lenVar": 40
   },
   "kernels_config": {
    "python": {
     "delete_cmd_postfix": "",
     "delete_cmd_prefix": "del ",
     "library": "var_list.py",
     "varRefreshCmd": "print(var_dic_list())"
    },
    "r": {
     "delete_cmd_postfix": ") ",
     "delete_cmd_prefix": "rm(",
     "library": "var_list.r",
     "varRefreshCmd": "cat(var_dic_list()) "
    }
   },
   "types_to_exclude": [
    "module",
    "function",
    "builtin_function_or_method",
    "instance",
    "_Feature"
   ],
   "window_display": false
  }
 },
 "nbformat": 4,
 "nbformat_minor": 5
}
