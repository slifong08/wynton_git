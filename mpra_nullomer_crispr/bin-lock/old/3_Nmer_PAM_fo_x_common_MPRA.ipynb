{
 "cells": [
  {
   "cell_type": "code",
   "execution_count": 1,
   "id": "6a4d64c2",
   "metadata": {
    "ExecuteTime": {
     "end_time": "2023-05-08T05:27:34.130904Z",
     "start_time": "2023-05-08T05:27:22.202452Z"
    }
   },
   "outputs": [],
   "source": [
    "\"\"\"\n",
    "find PAM sites in nullomer sequences\n",
    "    \n",
    "\"\"\"\n",
    "from Bio.SeqUtils import gc_fraction\n",
    "import configparser\n",
    "import config_readwrite as crw\n",
    "import gzip\n",
    "from itertools import product, combinations\n",
    "import matplotlib.pyplot as plt\n",
    "import numpy as np\n",
    "import os\n",
    "import pandas as pd\n",
    "import seaborn as sns\n",
    "import sys\n",
    "import subprocess as sp\n",
    "\n",
    "# MER = sys.argv[1]  #str - 11, 12, 13 14mer etc\n",
    "# NMUTS= int(sys.argv[2])  # number of mutations to test for each nullomer.\n",
    "# config_tag = sys.argv[3]  #\n",
    "\n",
    "MER, NMUTS, config_tag = \"15\", \"1\", \"config.hs1\""
   ]
  },
  {
   "cell_type": "code",
   "execution_count": 2,
   "id": "4f59fc4d",
   "metadata": {
    "ExecuteTime": {
     "end_time": "2023-05-08T05:27:56.085400Z",
     "start_time": "2023-05-08T05:27:56.070476Z"
    }
   },
   "outputs": [],
   "source": [
    "config, cfn = crw.read_config(os.path.join(\n",
    "    \"/wynton/home/ahituv/fongsl/nullomers/bin-generate\", config_tag))\n",
    "\n",
    "# read config\n",
    "section = f\"{MER}mer\"\n",
    "\n",
    "crw.check(config, section)\n",
    "#NULLS = \n",
    "\n",
    "# NULLS_PAM = config[f\"{int(MER)+3}mer\"][\"nullomers\"]\n",
    "KMERS = config[section][\"kmers\"]\n",
    "RE = config[section][\"results\"]\n",
    "PATH = config[section][\"path\"]\n",
    "MER, NMUTS, = int(MER), int(NMUTS)\n",
    "\n",
    "NULLS = f'/wynton/home/ahituv/fongsl/dna/hs1/kmers/{MER}mers/nullomers.{MER}mers.order1.tsv'\n",
    "SEED_PAM = os.path.join(PATH, f\"SEED_{MER}mer.firstorder.pam.purine.nohomopoly.GC.txt\")\n",
    "config[section][f\"order{NMUTS}\"] = NULLS"
   ]
  },
  {
   "cell_type": "markdown",
   "id": "036580f4",
   "metadata": {},
   "source": [
    "# load endogenous seed sequences\n",
    "- 14mer fo, PAM site, no homopolymer"
   ]
  },
  {
   "cell_type": "code",
   "execution_count": 3,
   "id": "4219ae81",
   "metadata": {
    "ExecuteTime": {
     "end_time": "2023-05-08T05:27:57.131563Z",
     "start_time": "2023-05-08T05:27:57.078538Z"
    }
   },
   "outputs": [],
   "source": [
    "endog_pams = set()\n",
    "with open(SEED_PAM, \"r\") as reader:\n",
    "    for line in reader:\n",
    "        endog_pams.add(line.strip(\"\\n\"))"
   ]
  },
  {
   "cell_type": "code",
   "execution_count": 11,
   "id": "7dd753e9",
   "metadata": {
    "ExecuteTime": {
     "end_time": "2023-05-08T05:30:31.244455Z",
     "start_time": "2023-05-08T05:30:31.236313Z"
    }
   },
   "outputs": [
    {
     "data": {
      "text/plain": [
       "57784"
      ]
     },
     "execution_count": 11,
     "metadata": {},
     "output_type": "execute_result"
    }
   ],
   "source": [
    "len(endog_pams)"
   ]
  },
  {
   "cell_type": "markdown",
   "id": "a8e15dc3",
   "metadata": {},
   "source": [
    "# compare w/ MPRA"
   ]
  },
  {
   "cell_type": "code",
   "execution_count": 4,
   "id": "fe6e2e2d",
   "metadata": {
    "ExecuteTime": {
     "end_time": "2023-05-08T05:27:58.066955Z",
     "start_time": "2023-05-08T05:27:58.061628Z"
    }
   },
   "outputs": [],
   "source": [
    "common=f\"/wynton/home/ahituv/fongsl/nullomers/data/lock/common/common.{MER}mers.2mut.nulls.fo.tsv\""
   ]
  },
  {
   "cell_type": "code",
   "execution_count": 5,
   "id": "ed77da93",
   "metadata": {
    "ExecuteTime": {
     "end_time": "2023-05-08T05:28:48.795966Z",
     "start_time": "2023-05-08T05:27:58.710546Z"
    }
   },
   "outputs": [
    {
     "name": "stdout",
     "output_type": "stream",
     "text": [
      "n kmers 19786 matching n nullomers 25147\n"
     ]
    },
    {
     "data": {
      "text/html": [
       "<div>\n",
       "<style scoped>\n",
       "    .dataframe tbody tr th:only-of-type {\n",
       "        vertical-align: middle;\n",
       "    }\n",
       "\n",
       "    .dataframe tbody tr th {\n",
       "        vertical-align: top;\n",
       "    }\n",
       "\n",
       "    .dataframe thead th {\n",
       "        text-align: right;\n",
       "    }\n",
       "</style>\n",
       "<table border=\"1\" class=\"dataframe\">\n",
       "  <thead>\n",
       "    <tr style=\"text-align: right;\">\n",
       "      <th></th>\n",
       "      <th>kmer</th>\n",
       "      <th>kmercount</th>\n",
       "      <th>gc</th>\n",
       "      <th>matched_seq</th>\n",
       "      <th>matchedcount</th>\n",
       "      <th>gc_match</th>\n",
       "      <th>pretty</th>\n",
       "      <th>id</th>\n",
       "      <th>loci</th>\n",
       "    </tr>\n",
       "  </thead>\n",
       "  <tbody>\n",
       "    <tr>\n",
       "      <th>543</th>\n",
       "      <td>AAAAATACGACCCGG</td>\n",
       "      <td>2</td>\n",
       "      <td>0.47</td>\n",
       "      <td>AACAATACGACGCGG</td>\n",
       "      <td>2</td>\n",
       "      <td>0.53</td>\n",
       "      <td>..C........G...</td>\n",
       "      <td>null-1</td>\n",
       "      <td>chr11:92075083-92075283</td>\n",
       "    </tr>\n",
       "    <tr>\n",
       "      <th>1431</th>\n",
       "      <td>AAAAACGTCCGACGA</td>\n",
       "      <td>4</td>\n",
       "      <td>0.47</td>\n",
       "      <td>ATAAACGTCCGACGG</td>\n",
       "      <td>18</td>\n",
       "      <td>0.53</td>\n",
       "      <td>.T............G</td>\n",
       "      <td>null-0</td>\n",
       "      <td>chr21:43805240-43805440,chr21:43805229-43805429</td>\n",
       "    </tr>\n",
       "    <tr>\n",
       "      <th>1512</th>\n",
       "      <td>AAAAAGCGGTCGCGG</td>\n",
       "      <td>4</td>\n",
       "      <td>0.60</td>\n",
       "      <td>TATAAGCGGTCGCGG</td>\n",
       "      <td>4</td>\n",
       "      <td>0.60</td>\n",
       "      <td>T.T............</td>\n",
       "      <td>null-0</td>\n",
       "      <td>chr3:187358933-187359133,chr3:187358925-187359125</td>\n",
       "    </tr>\n",
       "    <tr>\n",
       "      <th>1514</th>\n",
       "      <td>AAAAAGCGGTCGCGG</td>\n",
       "      <td>4</td>\n",
       "      <td>0.60</td>\n",
       "      <td>AAACATCGGTCGCGG</td>\n",
       "      <td>4</td>\n",
       "      <td>0.60</td>\n",
       "      <td>...C.T.........</td>\n",
       "      <td>null-2</td>\n",
       "      <td>chr3:187358933-187359133,chr3:187358925-187359125</td>\n",
       "    </tr>\n",
       "    <tr>\n",
       "      <th>1515</th>\n",
       "      <td>AAAAAGCGGTCGCGG</td>\n",
       "      <td>4</td>\n",
       "      <td>0.60</td>\n",
       "      <td>AATATGCGGTCGCGG</td>\n",
       "      <td>4</td>\n",
       "      <td>0.60</td>\n",
       "      <td>..T.T..........</td>\n",
       "      <td>null-3</td>\n",
       "      <td>chr3:187358933-187359133,chr3:187358925-187359125</td>\n",
       "    </tr>\n",
       "    <tr>\n",
       "      <th>...</th>\n",
       "      <td>...</td>\n",
       "      <td>...</td>\n",
       "      <td>...</td>\n",
       "      <td>...</td>\n",
       "      <td>...</td>\n",
       "      <td>...</td>\n",
       "      <td>...</td>\n",
       "      <td>...</td>\n",
       "      <td>...</td>\n",
       "    </tr>\n",
       "    <tr>\n",
       "      <th>19055999</th>\n",
       "      <td>TTTTGACGTGCGCGG</td>\n",
       "      <td>2</td>\n",
       "      <td>0.60</td>\n",
       "      <td>TTTAGACGTCCGCGG</td>\n",
       "      <td>18</td>\n",
       "      <td>0.60</td>\n",
       "      <td>...A.....C.....</td>\n",
       "      <td>null-11</td>\n",
       "      <td>chr8:142536955-142537155</td>\n",
       "    </tr>\n",
       "    <tr>\n",
       "      <th>19056001</th>\n",
       "      <td>TTTTGACGTGCGCGG</td>\n",
       "      <td>2</td>\n",
       "      <td>0.60</td>\n",
       "      <td>ATTTGACGTACGCGG</td>\n",
       "      <td>18</td>\n",
       "      <td>0.53</td>\n",
       "      <td>A........A.....</td>\n",
       "      <td>null-13</td>\n",
       "      <td>chr8:142536955-142537155</td>\n",
       "    </tr>\n",
       "    <tr>\n",
       "      <th>19056712</th>\n",
       "      <td>TTTTGCTATACGTGG</td>\n",
       "      <td>6</td>\n",
       "      <td>0.40</td>\n",
       "      <td>TTTCGCTATACGCGG</td>\n",
       "      <td>1</td>\n",
       "      <td>0.53</td>\n",
       "      <td>...C........C..</td>\n",
       "      <td>null-0</td>\n",
       "      <td>chr9:19187106-19187306,chr9:19187107-19187307,...</td>\n",
       "    </tr>\n",
       "    <tr>\n",
       "      <th>19056872</th>\n",
       "      <td>TTTTGACCGCAACTG</td>\n",
       "      <td>2</td>\n",
       "      <td>0.47</td>\n",
       "      <td>TTTCGACCGCAACGG</td>\n",
       "      <td>1</td>\n",
       "      <td>0.60</td>\n",
       "      <td>...C.........G.</td>\n",
       "      <td>null-0</td>\n",
       "      <td>chr9:96766040-96766240</td>\n",
       "    </tr>\n",
       "    <tr>\n",
       "      <th>19061452</th>\n",
       "      <td>TTTTTTCGAGACCGG</td>\n",
       "      <td>2</td>\n",
       "      <td>0.47</td>\n",
       "      <td>TTTATTCGCGACCGG</td>\n",
       "      <td>3</td>\n",
       "      <td>0.53</td>\n",
       "      <td>...A....C......</td>\n",
       "      <td>null-0</td>\n",
       "      <td>chr7:75782435-75782635</td>\n",
       "    </tr>\n",
       "  </tbody>\n",
       "</table>\n",
       "<p>35008 rows × 9 columns</p>\n",
       "</div>"
      ],
      "text/plain": [
       "                     kmer  kmercount    gc      matched_seq  matchedcount  \\\n",
       "543       AAAAATACGACCCGG          2  0.47  AACAATACGACGCGG             2   \n",
       "1431      AAAAACGTCCGACGA          4  0.47  ATAAACGTCCGACGG            18   \n",
       "1512      AAAAAGCGGTCGCGG          4  0.60  TATAAGCGGTCGCGG             4   \n",
       "1514      AAAAAGCGGTCGCGG          4  0.60  AAACATCGGTCGCGG             4   \n",
       "1515      AAAAAGCGGTCGCGG          4  0.60  AATATGCGGTCGCGG             4   \n",
       "...                   ...        ...   ...              ...           ...   \n",
       "19055999  TTTTGACGTGCGCGG          2  0.60  TTTAGACGTCCGCGG            18   \n",
       "19056001  TTTTGACGTGCGCGG          2  0.60  ATTTGACGTACGCGG            18   \n",
       "19056712  TTTTGCTATACGTGG          6  0.40  TTTCGCTATACGCGG             1   \n",
       "19056872  TTTTGACCGCAACTG          2  0.47  TTTCGACCGCAACGG             1   \n",
       "19061452  TTTTTTCGAGACCGG          2  0.47  TTTATTCGCGACCGG             3   \n",
       "\n",
       "          gc_match           pretty       id  \\\n",
       "543           0.53  ..C........G...   null-1   \n",
       "1431          0.53  .T............G   null-0   \n",
       "1512          0.60  T.T............   null-0   \n",
       "1514          0.60  ...C.T.........   null-2   \n",
       "1515          0.60  ..T.T..........   null-3   \n",
       "...            ...              ...      ...   \n",
       "19055999      0.60  ...A.....C.....  null-11   \n",
       "19056001      0.53  A........A.....  null-13   \n",
       "19056712      0.53  ...C........C..   null-0   \n",
       "19056872      0.60  ...C.........G.   null-0   \n",
       "19061452      0.53  ...A....C......   null-0   \n",
       "\n",
       "                                                       loci  \n",
       "543                                 chr11:92075083-92075283  \n",
       "1431        chr21:43805240-43805440,chr21:43805229-43805429  \n",
       "1512      chr3:187358933-187359133,chr3:187358925-187359125  \n",
       "1514      chr3:187358933-187359133,chr3:187358925-187359125  \n",
       "1515      chr3:187358933-187359133,chr3:187358925-187359125  \n",
       "...                                                     ...  \n",
       "19055999                           chr8:142536955-142537155  \n",
       "19056001                           chr8:142536955-142537155  \n",
       "19056712  chr9:19187106-19187306,chr9:19187107-19187307,...  \n",
       "19056872                             chr9:96766040-96766240  \n",
       "19061452                             chr7:75782435-75782635  \n",
       "\n",
       "[35008 rows x 9 columns]"
      ]
     },
     "execution_count": 5,
     "metadata": {},
     "output_type": "execute_result"
    }
   ],
   "source": [
    "# column names\n",
    "names = [\"kmer\", \"kmercount\", \"gc\", \"matched_seq\", \"matchedcount\", \"gc_match\", \"pretty\", \"id\", \"loci\"]\n",
    "\n",
    "# open dataframe\n",
    "df = pd.read_csv(common, sep='\\t',header=None, names=names)\n",
    "\n",
    "# how many nullomers resruface, have endogenous pam?\n",
    "test_kmers = set(df.loc[df[\"matched_seq\"].isin(endog_pams), \"kmer\"])\n",
    "test_seeds = set(df.loc[df[\"matched_seq\"].isin(endog_pams), \"matched_seq\"])\n",
    "print(\"n kmers\", len(test_kmers), \"matching n nullomers\", len(test_seeds))\n",
    "\n",
    "# show us\n",
    "df.loc[df[\"matched_seq\"].isin(endog_pams)]"
   ]
  },
  {
   "cell_type": "code",
   "execution_count": 6,
   "id": "5ad6baa7",
   "metadata": {
    "ExecuteTime": {
     "end_time": "2023-05-08T05:29:44.365174Z",
     "start_time": "2023-05-08T05:29:44.359097Z"
    }
   },
   "outputs": [],
   "source": [
    "MATCHING=f\"/wynton/home/ahituv/fongsl/nullomers/data/lock/common/common.{MER}mers.2mut.nulls.fo.pam.tsv\""
   ]
  },
  {
   "cell_type": "code",
   "execution_count": 7,
   "id": "ef3ebb04",
   "metadata": {
    "ExecuteTime": {
     "end_time": "2023-05-08T05:29:51.268227Z",
     "start_time": "2023-05-08T05:29:47.413017Z"
    }
   },
   "outputs": [
    {
     "data": {
      "text/plain": [
       "(803592, 9)"
      ]
     },
     "execution_count": 7,
     "metadata": {},
     "output_type": "execute_result"
    }
   ],
   "source": [
    "matching_set = df.loc[df[\"kmer\"].isin(test_kmers)].drop_duplicates()\n",
    "\n",
    "# explode the loci str -> list -> separate rows\n",
    "matching_set[\"loci\"] = matching_set[\"loci\"].apply(lambda x: x.split(\",\"))\n",
    "matching_set = matching_set.explode([\"loci\"])\n",
    "matching_set.shape"
   ]
  },
  {
   "cell_type": "code",
   "execution_count": 8,
   "id": "c0bd0f0f",
   "metadata": {
    "ExecuteTime": {
     "end_time": "2023-05-08T05:29:54.782686Z",
     "start_time": "2023-05-08T05:29:54.658487Z"
    }
   },
   "outputs": [
    {
     "data": {
      "text/html": [
       "<div>\n",
       "<style scoped>\n",
       "    .dataframe tbody tr th:only-of-type {\n",
       "        vertical-align: middle;\n",
       "    }\n",
       "\n",
       "    .dataframe tbody tr th {\n",
       "        vertical-align: top;\n",
       "    }\n",
       "\n",
       "    .dataframe thead th {\n",
       "        text-align: right;\n",
       "    }\n",
       "</style>\n",
       "<table border=\"1\" class=\"dataframe\">\n",
       "  <thead>\n",
       "    <tr style=\"text-align: right;\">\n",
       "      <th></th>\n",
       "      <th>kmer</th>\n",
       "      <th>kmercount</th>\n",
       "      <th>gc</th>\n",
       "      <th>matched_seq</th>\n",
       "      <th>matchedcount</th>\n",
       "      <th>gc_match</th>\n",
       "      <th>pretty</th>\n",
       "      <th>id</th>\n",
       "      <th>loci</th>\n",
       "    </tr>\n",
       "  </thead>\n",
       "  <tbody>\n",
       "    <tr>\n",
       "      <th>424998</th>\n",
       "      <td>AAGACAGATCGCCGG</td>\n",
       "      <td>2</td>\n",
       "      <td>0.6</td>\n",
       "      <td>AAGACAGATCGCCGG</td>\n",
       "      <td>1</td>\n",
       "      <td>0.60</td>\n",
       "      <td>...............</td>\n",
       "      <td>kmer-0</td>\n",
       "      <td>chr9:103359914-103360114</td>\n",
       "    </tr>\n",
       "    <tr>\n",
       "      <th>424999</th>\n",
       "      <td>AAGACAGATCGCCGG</td>\n",
       "      <td>2</td>\n",
       "      <td>0.6</td>\n",
       "      <td>ATGACCGATCGCCGG</td>\n",
       "      <td>6</td>\n",
       "      <td>0.67</td>\n",
       "      <td>.T...C.........</td>\n",
       "      <td>null-0</td>\n",
       "      <td>chr9:103359914-103360114</td>\n",
       "    </tr>\n",
       "    <tr>\n",
       "      <th>425000</th>\n",
       "      <td>AAGACAGATCGCCGG</td>\n",
       "      <td>2</td>\n",
       "      <td>0.6</td>\n",
       "      <td>AAGACGGATCGCCGT</td>\n",
       "      <td>6</td>\n",
       "      <td>0.60</td>\n",
       "      <td>.....G........T</td>\n",
       "      <td>null-1</td>\n",
       "      <td>chr9:103359914-103360114</td>\n",
       "    </tr>\n",
       "    <tr>\n",
       "      <th>425001</th>\n",
       "      <td>AAGACAGATCGCCGG</td>\n",
       "      <td>2</td>\n",
       "      <td>0.6</td>\n",
       "      <td>ACGACAGATCGTCGG</td>\n",
       "      <td>6</td>\n",
       "      <td>0.60</td>\n",
       "      <td>.C.........T...</td>\n",
       "      <td>null-2</td>\n",
       "      <td>chr9:103359914-103360114</td>\n",
       "    </tr>\n",
       "    <tr>\n",
       "      <th>425002</th>\n",
       "      <td>AAGACAGATCGCCGG</td>\n",
       "      <td>2</td>\n",
       "      <td>0.6</td>\n",
       "      <td>AATACGGATCGCCGG</td>\n",
       "      <td>6</td>\n",
       "      <td>0.60</td>\n",
       "      <td>..T..G.........</td>\n",
       "      <td>null-3</td>\n",
       "      <td>chr9:103359914-103360114</td>\n",
       "    </tr>\n",
       "  </tbody>\n",
       "</table>\n",
       "</div>"
      ],
      "text/plain": [
       "                   kmer  kmercount   gc      matched_seq  matchedcount  \\\n",
       "424998  AAGACAGATCGCCGG          2  0.6  AAGACAGATCGCCGG             1   \n",
       "424999  AAGACAGATCGCCGG          2  0.6  ATGACCGATCGCCGG             6   \n",
       "425000  AAGACAGATCGCCGG          2  0.6  AAGACGGATCGCCGT             6   \n",
       "425001  AAGACAGATCGCCGG          2  0.6  ACGACAGATCGTCGG             6   \n",
       "425002  AAGACAGATCGCCGG          2  0.6  AATACGGATCGCCGG             6   \n",
       "\n",
       "        gc_match           pretty      id                      loci  \n",
       "424998      0.60  ...............  kmer-0  chr9:103359914-103360114  \n",
       "424999      0.67  .T...C.........  null-0  chr9:103359914-103360114  \n",
       "425000      0.60  .....G........T  null-1  chr9:103359914-103360114  \n",
       "425001      0.60  .C.........T...  null-2  chr9:103359914-103360114  \n",
       "425002      0.60  ..T..G.........  null-3  chr9:103359914-103360114  "
      ]
     },
     "execution_count": 8,
     "metadata": {},
     "output_type": "execute_result"
    }
   ],
   "source": [
    "# kmer w/ 2 loci\n",
    "test = matching_set.loc[matching_set[\"kmer\"]==\"AAGACAGATCGCCGG\"]\n",
    "test.head()"
   ]
  },
  {
   "cell_type": "code",
   "execution_count": 9,
   "id": "f2da5203",
   "metadata": {
    "ExecuteTime": {
     "end_time": "2023-05-08T05:29:58.208391Z",
     "start_time": "2023-05-08T05:29:57.783128Z"
    }
   },
   "outputs": [
    {
     "data": {
      "text/plain": [
       "<Axes: xlabel='kmer', ylabel='gc_match'>"
      ]
     },
     "execution_count": 9,
     "metadata": {},
     "output_type": "execute_result"
    },
    {
     "data": {
      "image/png": "[encoded data removed]",
      "text/plain": [
       "<Figure size 640x480 with 1 Axes>"
      ]
     },
     "metadata": {},
     "output_type": "display_data"
    }
   ],
   "source": [
    "x =\"kmer\"\n",
    "y=\"gc_match\"\n",
    "data = test\n",
    "sns.boxplot(x=x, y=y, data=data)"
   ]
  },
  {
   "cell_type": "code",
   "execution_count": 12,
   "id": "d9c12126",
   "metadata": {
    "ExecuteTime": {
     "end_time": "2023-05-08T05:30:45.996940Z",
     "start_time": "2023-05-08T05:30:41.534289Z"
    }
   },
   "outputs": [],
   "source": [
    "matching_set.drop_duplicates().to_csv(MATCHING, sep='\\t', index=False)"
   ]
  },
  {
   "cell_type": "code",
   "execution_count": 13,
   "id": "5a577115",
   "metadata": {
    "ExecuteTime": {
     "end_time": "2023-05-08T05:31:07.070638Z",
     "start_time": "2023-05-08T05:31:07.064629Z"
    }
   },
   "outputs": [
    {
     "data": {
      "text/plain": [
       "804.3963963963964"
      ]
     },
     "execution_count": 13,
     "metadata": {},
     "output_type": "execute_result"
    }
   ],
   "source": [
    "matching_set.shape[0]/999"
   ]
  },
  {
   "cell_type": "code",
   "execution_count": null,
   "id": "0266537d",
   "metadata": {},
   "outputs": [],
   "source": []
  }
 ],
 "metadata": {
  "gist": {
   "data": {
    "description": "nullomers/bin-generate/dev_PAM_SEARCH.ipynb",
    "public": false
   },
   "id": ""
  },
  "kernelspec": {
   "display_name": "Python (wynenv)",
   "language": "python",
   "name": "wynenv"
  },
  "language_info": {
   "codemirror_mode": {
    "name": "ipython",
    "version": 3
   },
   "file_extension": ".py",
   "mimetype": "text/x-python",
   "name": "python",
   "nbconvert_exporter": "python",
   "pygments_lexer": "ipython3",
   "version": "3.10.8"
  },
  "toc": {
   "base_numbering": 1,
   "nav_menu": {},
   "number_sections": true,
   "sideBar": true,
   "skip_h1_title": false,
   "title_cell": "Table of Contents",
   "title_sidebar": "Contents",
   "toc_cell": false,
   "toc_position": {},
   "toc_section_display": true,
   "toc_window_display": false
  },
  "varInspector": {
   "cols": {
    "lenName": 16,
    "lenType": 16,
    "lenVar": 40
   },
   "kernels_config": {
    "python": {
     "delete_cmd_postfix": "",
     "delete_cmd_prefix": "del ",
     "library": "var_list.py",
     "varRefreshCmd": "print(var_dic_list())"
    },
    "r": {
     "delete_cmd_postfix": ") ",
     "delete_cmd_prefix": "rm(",
     "library": "var_list.r",
     "varRefreshCmd": "cat(var_dic_list()) "
    }
   },
   "types_to_exclude": [
    "module",
    "function",
    "builtin_function_or_method",
    "instance",
    "_Feature"
   ],
   "window_display": false
  }
 },
 "nbformat": 4,
 "nbformat_minor": 5
}
