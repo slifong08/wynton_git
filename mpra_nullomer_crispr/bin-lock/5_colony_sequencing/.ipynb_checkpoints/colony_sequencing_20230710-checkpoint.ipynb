{
 "cells": [
  {
   "cell_type": "markdown",
   "id": "b54ef967",
   "metadata": {},
   "source": [
    "# align plasmid sequencing with target library. \n",
    "20230703\n",
    "sarahfong\n",
    "\n",
    "input \n",
    "\n",
    "    - plasmid.fa file from yelena\n",
    "    - library .fa file\n",
    "    \n",
    "my plan\n",
    "\n",
    "    - make a bowtie index file for library\n",
    "    - get plasmid sequencing genbank files "
   ]
  },
  {
   "cell_type": "code",
   "execution_count": 1,
   "id": "97453935",
   "metadata": {
    "ExecuteTime": {
     "end_time": "2023-07-10T19:45:25.379721Z",
     "start_time": "2023-07-10T19:45:23.784483Z"
    }
   },
   "outputs": [],
   "source": [
    "from Bio import SeqIO\n",
    "from Bio.Align import PairwiseAligner\n",
    "import config_readwrite as crw\n",
    "import glob\n",
    "import os\n",
    "import sys\n",
    "import pandas as pd"
   ]
  },
  {
   "cell_type": "code",
   "execution_count": 2,
   "id": "9de31952",
   "metadata": {
    "ExecuteTime": {
     "end_time": "2023-07-10T19:45:25.389997Z",
     "start_time": "2023-07-10T19:45:25.382862Z"
    }
   },
   "outputs": [],
   "source": [
    "config_tag = \"config\"\n",
    "config, cfn = crw.read_config(os.path.join(os.path.dirname(os.getcwd()), config_tag))"
   ]
  },
  {
   "cell_type": "markdown",
   "id": "1ec0e7ad",
   "metadata": {},
   "source": [
    "# write config"
   ]
  },
  {
   "cell_type": "markdown",
   "id": "ec515ca7",
   "metadata": {},
   "source": [
    "## colony sequencing data"
   ]
  },
  {
   "cell_type": "code",
   "execution_count": 5,
   "id": "c87c4b2e",
   "metadata": {
    "ExecuteTime": {
     "end_time": "2023-07-10T19:45:51.352708Z",
     "start_time": "2023-07-10T19:45:51.347989Z"
    }
   },
   "outputs": [],
   "source": [
    "section = \"col_seq\"\n",
    "crw.check(config, section)\n",
    "\n",
    "PATH = \"/wynton/home/ahituv/fongsl/nullomers/data/lock/colony_seq_16_20230710/\"\n",
    "FILE_FA = os.path.join(PATH, \"QC_071023.fa\")\n",
    "BOWTIE_OUT = os.path.join(PATH, \"library_bowtie_alignments.txt\")\n",
    "\n",
    "config[section][\"path\"] = PATH\n",
    "config[section][\"path_fa\"] = FILE_FA\n",
    "config[section][\"lib_alignment\"] = BOWTIE_OUT"
   ]
  },
  {
   "cell_type": "markdown",
   "id": "c8266efb",
   "metadata": {},
   "source": [
    "## bowtie paths"
   ]
  },
  {
   "cell_type": "code",
   "execution_count": 6,
   "id": "c417d9b0",
   "metadata": {
    "ExecuteTime": {
     "end_time": "2023-07-10T19:45:53.431183Z",
     "start_time": "2023-07-10T19:45:53.427171Z"
    }
   },
   "outputs": [],
   "source": [
    "section = \"bowtie\"\n",
    "crw.check(config, section)\n",
    "\n",
    "PATH_BOWTIE = \"/wynton/home/ahituv/fongsl/bin/bowtie\"\n",
    "BIN_BOWTIE = os.path.join(PATH_BOWTIE, \"bowtie\")\n",
    "\n",
    "config[section][\"path\"] = PATH_BOWTIE\n",
    "config[section][\"bin\"] = BIN_BOWTIE"
   ]
  },
  {
   "cell_type": "markdown",
   "id": "ae4208d5",
   "metadata": {},
   "source": [
    "## target library"
   ]
  },
  {
   "cell_type": "code",
   "execution_count": 7,
   "id": "a5f1fd0c",
   "metadata": {
    "ExecuteTime": {
     "end_time": "2023-07-10T19:45:55.485462Z",
     "start_time": "2023-07-10T19:45:55.481371Z"
    }
   },
   "outputs": [],
   "source": [
    "section = \"common.15mer.2mut\"\n",
    "\n",
    "#read\n",
    "TARGET = config[section][\"library_twist\"]\n",
    "\n",
    "#write\n",
    "TARGET_FA = os.path.splitext(TARGET)[0]+\".fa\"\n",
    "\n",
    "config[section][\"library_twist_FA\"] = TARGET_FA"
   ]
  },
  {
   "cell_type": "markdown",
   "id": "3a770ca0",
   "metadata": {},
   "source": [
    "# target file .fa"
   ]
  },
  {
   "cell_type": "code",
   "execution_count": 8,
   "id": "45e33d1c",
   "metadata": {
    "ExecuteTime": {
     "end_time": "2023-07-10T19:45:56.432452Z",
     "start_time": "2023-07-10T19:45:56.426412Z"
    }
   },
   "outputs": [],
   "source": [
    "def fastaWriter(outfile, df):\n",
    "    \"\"\"\n",
    "    input\n",
    "        outfile (str) - path to outfile\n",
    "        df (pd dataframe) - dataframe with one col w/ seq_id name, another col sequence. \n",
    "        \n",
    "    method\n",
    "    \n",
    "        1. open outfile, if it is not already written\n",
    "        2. iterate through the rows of the dataframe\n",
    "        3. write seq_id, seq as a fasta file\n",
    "    \"\"\"\n",
    "    \n",
    "    #1 write fa\n",
    "    if os.path.exists(outfile) is False:\n",
    "        with open(outfile, \"w\") as writer:\n",
    "\n",
    "            #2 iterrate through rows\n",
    "            for row in df.iterrows():\n",
    "                seq_id, seq = row[1][0], row[1][1]\n",
    "                \n",
    "                #3\n",
    "                writer.write(f\">{seq_id}\\n{seq}\\n\")\n",
    "\n",
    "        writer.close()\n",
    "        print(\"wrote fasta\", outfile)\n",
    "    else:\n",
    "        print(\"already wrote fasta\", outfile)"
   ]
  },
  {
   "cell_type": "markdown",
   "id": "29905a29",
   "metadata": {},
   "source": [
    "## turn target TSV into fa"
   ]
  },
  {
   "cell_type": "code",
   "execution_count": 9,
   "id": "83bca6e4",
   "metadata": {
    "ExecuteTime": {
     "end_time": "2023-07-10T19:46:01.656565Z",
     "start_time": "2023-07-10T19:45:57.481829Z"
    }
   },
   "outputs": [
    {
     "name": "stdout",
     "output_type": "stream",
     "text": [
      "already wrote fasta /wynton/home/ahituv/fongsl/nullomers/results/lock/library_design/15mer.fo.pam.scaffold.ext200.library.TWIST.fa\n"
     ]
    }
   ],
   "source": [
    "# read tsv\n",
    "df = pd.read_csv(TARGET, sep='\\t')\n",
    "fastaWriter(TARGET_FA, df)"
   ]
  },
  {
   "cell_type": "markdown",
   "id": "56be0d97",
   "metadata": {},
   "source": [
    "## index fa w/ bowtie"
   ]
  },
  {
   "cell_type": "code",
   "execution_count": 18,
   "id": "ce58db04",
   "metadata": {
    "ExecuteTime": {
     "end_time": "2023-07-10T19:58:10.442447Z",
     "start_time": "2023-07-10T19:58:10.420599Z"
    }
   },
   "outputs": [
    {
     "name": "stdout",
     "output_type": "stream",
     "text": [
      "already indexed target file for bowtie\n"
     ]
    }
   ],
   "source": [
    "TARGET_INDEX = os.path.splitext(TARGET_FA)[0] + \".index\"\n",
    "\n",
    "cmd = [BIN_BOWTIE + \"-build\", \n",
    "      TARGET_FA, \n",
    "      TARGET_INDEX\n",
    "      ]\n",
    "\n",
    "\n",
    "if len(glob.glob(TARGET_INDEX + \"*\")) == 0:\n",
    "    print('make index\\n',\" \".join(cmd))\n",
    "    os.system(\" \".join(cmd))\n",
    "else:\n",
    "    print(\"already indexed target file for bowtie\")\n",
    "\n"
   ]
  },
  {
   "cell_type": "code",
   "execution_count": 11,
   "id": "b256b30e",
   "metadata": {
    "ExecuteTime": {
     "end_time": "2023-07-10T19:52:43.702574Z",
     "start_time": "2023-07-10T19:52:43.696734Z"
    }
   },
   "outputs": [],
   "source": [
    "def runBowtie(bin_bowtie, target_index, input_fa, outfile):\n",
    "\n",
    "    # command to run bowtie with the target_index\n",
    "    cmd = [\n",
    "        bin_bowtie,\n",
    "        \"-x\",\n",
    "        target_index,\n",
    "        \"-f\",\n",
    "        input_fa,\n",
    "        \"-n 3\", \n",
    "        \">>\",\n",
    "        outfile\n",
    "    ]\n",
    "\n",
    "    # run the command\n",
    "    os.system(\" \".join(cmd))\n",
    "    \n",
    "    print(\" \".join(cmd))"
   ]
  },
  {
   "cell_type": "markdown",
   "id": "31885ef4",
   "metadata": {},
   "source": [
    "## run bowtie alignment"
   ]
  },
  {
   "cell_type": "code",
   "execution_count": 12,
   "id": "21c90b2f",
   "metadata": {
    "ExecuteTime": {
     "end_time": "2023-07-10T19:52:53.339029Z",
     "start_time": "2023-07-10T19:52:45.183649Z"
    }
   },
   "outputs": [
    {
     "name": "stdout",
     "output_type": "stream",
     "text": [
      "/wynton/home/ahituv/fongsl/bin/bowtie/bowtie -x /wynton/home/ahituv/fongsl/nullomers/results/lock/library_design/15mer.fo.pam.scaffold.ext200.library.TWIST.index -f /wynton/home/ahituv/fongsl/nullomers/data/lock/colony_seq_16_20230710/QC_071023.fa -n 3 >> /wynton/home/ahituv/fongsl/nullomers/data/lock/colony_seq_16_20230710/library_bowtie_alignments.txt\n"
     ]
    },
    {
     "name": "stderr",
     "output_type": "stream",
     "text": [
      "# reads processed: 16\n",
      "# reads with at least one alignment: 16 (100.00%)\n",
      "# reads that failed to align: 0 (0.00%)\n",
      "Reported 16 alignments\n"
     ]
    }
   ],
   "source": [
    "# run bowtie alignment\n",
    "runBowtie(BIN_BOWTIE, TARGET_INDEX, FILE_FA, BOWTIE_OUT)"
   ]
  },
  {
   "cell_type": "code",
   "execution_count": 13,
   "id": "5c90670e",
   "metadata": {
    "ExecuteTime": {
     "end_time": "2023-07-10T19:53:11.872426Z",
     "start_time": "2023-07-10T19:53:11.829774Z"
    }
   },
   "outputs": [
    {
     "name": "stdout",
     "output_type": "stream",
     "text": [
      "16 /wynton/home/ahituv/fongsl/nullomers/data/lock/colony_seq_16_20230710/library_bowtie_alignments.txt\n"
     ]
    }
   ],
   "source": [
    "%%bash\n",
    "wc -l /wynton/home/ahituv/fongsl/nullomers/data/lock/colony_seq_16_20230710/library_bowtie_alignments.txt"
   ]
  },
  {
   "cell_type": "code",
   "execution_count": 15,
   "id": "b107c682",
   "metadata": {
    "ExecuteTime": {
     "end_time": "2023-07-10T19:53:26.898390Z",
     "start_time": "2023-07-10T19:53:26.840179Z"
    }
   },
   "outputs": [
    {
     "name": "stdout",
     "output_type": "stream",
     "text": [
      "SF_1\t+\t15-firstorder.1628184|K562_peak26939|active\t15\tAGCGCCCTGACAAAACAGGCCACTCGGCTCTACCAATCAGCAAGATGTGGGTGGGGCCAGATAAGAGAATAAAAGCAGGCTGCCCGAGCTTGCATTAGTAACTCGCTCGGGTCCCCTTCCGGATTGTGGAAACTTTGTTCTTTCGCTGTATGTAATAACTCTTGCTACTGTAGCTCGCTTTTTGGGCTCGCGATTTACGG\tIIIIIIIIIIIIIIIIIIIIIIIIIIIIIIIIIIIIIIIIIIIIIIIIIIIIIIIIIIIIIIIIIIIIIIIIIIIIIIIIIIIIIIIIIIIIIIIIIIIIIIIIIIIIIIIIIIIIIIIIIIIIIIIIIIIIIIIIIIIIIIIIIIIIIIIIIIIIIIIIIIIIIIIIIIIIIIIIIIIIIIIIIIIIIIIIIIIIIIII\t0\t\n",
      "SF_2\t+\t15-firstorder.312772|WTC11_seq8098_F|inactive\t15\tCAGGCCAATAATTTTCCAAGTATTCAAACAAACCCATTAACCCACAATCTTTTGTTTTCCCTGGAAACCTCCTGCTGTGGGCCTCTCCCCATAGCTCGTTTGATCGGCTTGCTCCTGATGTTGCTGCACAGCTATTGTTCTGGGACTTCCCACTCTCTAGCCCCAGTGTTCGAAATCCTTGGACTTAAATCCCAGGGTGT\tIIIIIIIIIIIIIIIIIIIIIIIIIIIIIIIIIIIIIIIIIIIIIIIIIIIIIIIIIIIIIIIIIIIIIIIIIIIIIIIIIIIIIIIIIIIIIIIIIIIIIIIIIIIIIIIIIIIIIIIIIIIIIIIIIIIIIIIIIIIIIIIIIIIIIIIIIIIIIIIIIIIIIIIIIIIIIIIIIIIIIIIIIIIIIIIIIIIIIIII\t0\t\n",
      "SF_3\t+\t15-firstorder.394438|K562_peak18899|active\t15\tTCAGGAGTGAAGCTGCAGACCTTCGTGGTGAGTGTTACTGCTCATAAAAGCAGTGCAGACCCAAAGCGTGAAAGAACAAAGCTTCCACCACGTGAAAGGAGACCCGAGCGGGTTGCTACTGCTGGCTCACGCAGCCTGCTTTTATTCTCTTATCTGGCCCCACCCACGTCCTGCTGATTGGTAGAATCCGTCGAGAACGG\tIIIIIIIIIIIIIIIIIIIIIIIIIIIIIIIIIIIIIIIIIIIIIIIIIIIIIIIIIIIIIIIIIIIIIIIIIIIIIIIIIIIIIIIIIIIIIIIIIIIIIIIIIIIIIIIIIIIIIIIIIIIIIIIIIIIIIIIIIIIIIIIIIIIIIIIIIIIIIIIIIIIIIIIIIIIIIIIIIIIIIIIIIIIIIIIIIIIIIIII\t0\t\n",
      "SF_4\t+\t15-firstorder.1851354|K562_peak24289|inactive\t15\tAGGTTGTGGAGACCAGGGCTTTATCACGCAGATGATGTCTTATTGGTGTCTTATTGCCACAGAGTTCCCCACCTCCCCCCGCCCTCTTGTCATAAAGTTCGCCGCGGAGTGGCGCGATCTCGGCTCACTGCACCCTCCGCCTGCCGGGTTCAGGCTATTCTCCTGCTTCAGCCTCTTGAGTAGCTGGGATTACAGGCACA\tIIIIIIIIIIIIIIIIIIIIIIIIIIIIIIIIIIIIIIIIIIIIIIIIIIIIIIIIIIIIIIIIIIIIIIIIIIIIIIIIIIIIIIIIIIIIIIIIIIIIIIIIIIIIIIIIIIIIIIIIIIIIIIIIIIIIIIIIIIIIIIIIIIIIIIIIIIIIIIIIIIIIIIIIIIIIIIIIIIIIIIIIIIIIIIIIIIIIIIII\t0\t\n",
      "SF_5\t+\t15-firstorder.1163973|WTC11_seq82616_F|active\t15\tTGCTACCACAAAGGTCCTAGGCCCCAGAGCCTGAAGGCACCACGTGTCAGCCTTTCCCAGACTCTCAGGGGCGGGGAGAGAGACGAATACCCACAGGCCCAGTACTTCGTTGGTTGGTGGCTTCCTCCAGTCCCGCCCATACTGGGAGAATACCAAGACCCCACCCTACAACTTCCTGGGCCTGGCGTAAAGGACGTCGG\tIIIIIIIIIIIIIIIIIIIIIIIIIIIIIIIIIIIIIIIIIIIIIIIIIIIIIIIIIIIIIIIIIIIIIIIIIIIIIIIIIIIIIIIIIIIIIIIIIIIIIIIIIIIIIIIIIIIIIIIIIIIIIIIIIIIIIIIIIIIIIIIIIIIIIIIIIIIIIIIIIIIIIIIIIIIIIIIIIIIIIIIIIIIIIIIIIIIIIIII\t0\t\n",
      "SF_6\t+\t15-firstorder.1380746|K562_peak66004|inactive\t15\tCTTCATGGCTGCTAATGACCTTATCACTAAAACGTCAACAATCCAGATCTGTGTGCAGCACATGGGTGGGGAGAGTGCTTGTGGTTTGCTTTCTTGTCGCGGATAGGTCTTACCAGCAGGGGGAGCAGCAACCTTGGCATTTGGAAATAATCCCCAGCTTAAACTTTTCTATGGGAAAGATTTGTGTCTTGCATATTGGG\tIIIIIIIIIIIIIIIIIIIIIIIIIIIIIIIIIIIIIIIIIIIIIIIIIIIIIIIIIIIIIIIIIIIIIIIIIIIIIIIIIIIIIIIIIIIIIIIIIIIIIIIIIIIIIIIIIIIIIIIIIIIIIIIIIIIIIIIIIIIIIIIIIIIIIIIIIIIIIIIIIIIIIIIIIIIIIIIIIIIIIIIIIIIIIIIIIIIIIIII\t0\t\n",
      "SF_7\t+\t15-firstorder.1976771|K562_peak68724|active\t15\tTGGCCCCGCCCTCAAGGCACGCCTGGCCAATCAGGAATCGCTGATTCACCAAGCCTCTCCTCCTGCGCTCGCCCTCTTCTGCACTTCGGTCTCAGGCGCAAACACGTTCAAAGTCGCTAGGCCAAAGCGCTGAGATACGGTTTCCCAAGCCAATTAGAGAGCGGCTCTCGGATATGGGGCGGAACTAGAATTTCGCGCGG\tIIIIIIIIIIIIIIIIIIIIIIIIIIIIIIIIIIIIIIIIIIIIIIIIIIIIIIIIIIIIIIIIIIIIIIIIIIIIIIIIIIIIIIIIIIIIIIIIIIIIIIIIIIIIIIIIIIIIIIIIIIIIIIIIIIIIIIIIIIIIIIIIIIIIIIIIIIIIIIIIIIIIIIIIIIIIIIIIIIIIIIIIIIIIIIIIIIIIIIII\t0\t\n",
      "SF_8\t+\tNone|C:SLEA_hg18:chr2:210861483-210861650|59:V_HNF4_Q6:AAGGTCCAG;71:V_COUPTF_Q6:CCCCCTGACCTTTGCCCCCTGCC;97:V_HNF3ALPHA_Q6:TGTTTGCTTTG\t15\tATTAGGCACCTGTCATTTTTGCCAGCTGGTGTAGATGTTAAAAATTACTGTCACTCTTCCGCCTGCTACTTTATAAGGTCCAGGCTCCCCCTGACCTTTGCCCCCTGCCACATGTTTGCTTTGAATAAGGTTAGTTCCCATGACAATGTACTAGATATTATCCCATTGAGGGTTAAAGTGGTTTTATAAGGTCTTGAGGG\tIIIIIIIIIIIIIIIIIIIIIIIIIIIIIIIIIIIIIIIIIIIIIIIIIIIIIIIIIIIIIIIIIIIIIIIIIIIIIIIIIIIIIIIIIIIIIIIIIIIIIIIIIIIIIIIIIIIIIIIIIIIIIIIIIIIIIIIIIIIIIIIIIIIIIIIIIIIIIIIIIIIIIIIIIIIIIIIIIIIIIIIIIIIIIIIIIIIIIIII\t0\t\n",
      "SF_9\t+\t15-firstorder.2002611|WTC11_seq57317_F|active\t15\tAGCCCTTTGAAGACGTCACCTCACATACATAATGTTACAGCAGTCAGCACAGGCCTCCTGCTTTCCTATTGGTGGGCACCGTGTCAGCCGACATCAGAAGATAATCATCATTGGCTAGACAATTACAACTGGAGCAACTAGCATCCACTGCTGTTAGCACAAACCTGGCAGGCTGCTGAAAGAGATAGTAAACCTCGCGG\tIIIIIIIIIIIIIIIIIIIIIIIIIIIIIIIIIIIIIIIIIIIIIIIIIIIIIIIIIIIIIIIIIIIIIIIIIIIIIIIIIIIIIIIIIIIIIIIIIIIIIIIIIIIIIIIIIIIIIIIIIIIIIIIIIIIIIIIIIIIIIIIIIIIIIIIIIIIIIIIIIIIIIIIIIIIIIIIIIIIIIIIIIIIIIIIIIIIIIIII\t0\t\n",
      "SF_10\t+\t15-firstorder.2465984|K562_peak71084|active\t15\tGACATCACAGAACACAGCAGCAAAGGTAAGTTTTGTTTTTTTTTTTTGAGGCGGAGTCTCGCGGTAGCCCAGGCTGGAATGCAGTGGCGCGATCTCGGCTCACTGCAGGCTCCGCCCCTCTGGGGTTCACGCCATTCTCCTGCCTCAGCCTCGCGAGTAGCTGGGACTACAGGCGCCCGCCACCTTTTATCGACCCGCGG\tIIIIIIIIIIIIIIIIIIIIIIIIIIIIIIIIIIIIIIIIIIIIIIIIIIIIIIIIIIIIIIIIIIIIIIIIIIIIIIIIIIIIIIIIIIIIIIIIIIIIIIIIIIIIIIIIIIIIIIIIIIIIIIIIIIIIIIIIIIIIIIIIIIIIIIIIIIIIIIIIIIIIIIIIIIIIIIIIIIIIIIIIIIIIIIIIIIIIIIII\t0\t\n",
      "SF_11\t+\t15-firstorder.1482341|WTC11_seq23532_F|inactive\t15\tACAGTCATACAACTGGAGCCTCTGATGATGGCCCCTTCTGCTGGGAACGCTTAGATAGGCCTCTGAGGGAGCTCTGACTGCTGTTTCCCCCTGCATAACCGTACGGGTCCGCAGGAAGCAGTTAAGATCGGTCTTCGTTCTTAATCCTTAATCTAAGGGCAGTTAGATACACTTCTTTAGAGGGGGGAATGAGACAGCTA\tIIIIIIIIIIIIIIIIIIIIIIIIIIIIIIIIIIIIIIIIIIIIIIIIIIIIIIIIIIIIIIIIIIIIIIIIIIIIIIIIIIIIIIIIIIIIIIIIIIIIIIIIIIIIIIIIIIIIIIIIIIIIIIIIIIIIIIIIIIIIIIIIIIIIIIIIIIIIIIIIIIIIIIIIIIIIIIIIIIIIIIIIIIIIIIIIIIIIIIII\t0\t\n",
      "SF_12\t+\t15-firstorder.1656362|HepG2_DNasePeakNoPromoter15346|inactive\t15\tCAACCTCTGTCCAGTTGACCAAGATCCCTCTGGATAGCAAGGACCTAGCTCCGGAAAAGTGCTCTGAACGCAGCCACGCTGTTGAGTCAGGAGGCGAACTACGTTGGTGGTCACGGCTTTGTTCATTGTGCAAGTCAAGGACAGGGCACAGGATGAGTCCCCTCCTCCTCTGGTCATGGAATCTTCACTTGTACTCTGCA\tIIIIIIIIIIIIIIIIIIIIIIIIIIIIIIIIIIIIIIIIIIIIIIIIIIIIIIIIIIIIIIIIIIIIIIIIIIIIIIIIIIIIIIIIIIIIIIIIIIIIIIIIIIIIIIIIIIIIIIIIIIIIIIIIIIIIIIIIIIIIIIIIIIIIIIIIIIIIIIIIIIIIIIIIIIIIIIIIIIIIIIIIIIIIIIIIIIIIIIII\t0\t\n",
      "SF_13\t+\t15-firstorder.1426742|WTC11_seq8625_F|inactive\t15\tGACCCTTTTCAGGTCTTGAAAGCTCACAGGGGAAACCTGGATCTGGGTCCACGTTGGGTGCCCCTTTCTCCAGAGCTGTAGTTGTCATTCTAGACGCACTACTACGGAGCAGAACAGTGACACTGCTGTGCCCTCTAGTGCCCACTGCAGGTTATGTATCAAGGGGAGAACTTGTAGGAACTCAGCTCTCAAGCTGTCTA\tIIIIIIIIIIIIIIIIIIIIIIIIIIIIIIIIIIIIIIIIIIIIIIIIIIIIIIIIIIIIIIIIIIIIIIIIIIIIIIIIIIIIIIIIIIIIIIIIIIIIIIIIIIIIIIIIIIIIIIIIIIIIIIIIIIIIIIIIIIIIIIIIIIIIIIIIIIIIIIIIIIIIIIIIIIIIIIIIIIIIIIIIIIIIIIIIIIIIIIII\t0\t\n",
      "SF_14\t+\t15-firstorder.387040|K562_peak37658|inactive\t15\tTTACTACTGAGTGCTTCCTCTCTTTGTTTGTTCTTCTGAGCCAACCTTTGTCCTCTCTGCCTAGACACTCATTTTCCTGGTAGGACACTCTGATCCGAAGCGTACGGACAAGATGAATAACTAAGGCTCAGGGAGAGATAAATACTGCCCCGTCTGCAAAACCACAATGCCTGGCAACCACCTAGAGCCCCACACTTGGA\tIIIIIIIIIIIIIIIIIIIIIIIIIIIIIIIIIIIIIIIIIIIIIIIIIIIIIIIIIIIIIIIIIIIIIIIIIIIIIIIIIIIIIIIIIIIIIIIIIIIIIIIIIIIIIIIIIIIIIIIIIIIIIIIIIIIIIIIIIIIIIIIIIIIIIIIIIIIIIIIIIIIIIIIIIIIIIIIIIIIIIIIIIIIIIIIIIIIIIIII\t0\t\n",
      "SF_15\t+\t15-firstorder.2238650|HepG2_DNasePeakNoPromoter64381|active\t15\tCCCCAGATCGCTAGTCCTTCTTCCTCCATGGCTCCGTTTTAAGCGGGCACATTTCACAGATTAAAGACTACATTTCCCAGCCTCCCTTGCAGTGAGGTGGGTCGTATGACTACGTTCTAGCCAATGGGATGTGAGCAGCTGTGGCAACACAACTTTTGGGAGGCATCCTTGAAGAAGAGGGCCCTTCGGTAACGAGACGG\tIIIIIIIIIIIIIIIIIIIIIIIIIIIIIIIIIIIIIIIIIIIIIIIIIIIIIIIIIIIIIIIIIIIIIIIIIIIIIIIIIIIIIIIIIIIIIIIIIIIIIIIIIIIIIIIIIIIIIIIIIIIIIIIIIIIIIIIIIIIIIIIIIIIIIIIIIIIIIIIIIIIIIIIIIIIIIIIIIIIIIIIIIIIIIIIIIIIIIIII\t0\t\n",
      "SF_16\t+\t15-firstorder.2355935|WTC11_seq16664_F|active\t15\tGTGGCTCCATCTTTTCTTTTCTTTGTCAACCACAGGTACAATAAGGAGCAGGCAACCTGGCGCCTGCCAGATAGAGATTCCATCTGCATAATAAGAGTAGGGTGGGATGGTCAGCTTCTTCCTGCGCTATGTAAATGGCACACCTAGTCTAGCCAATCTCTGGGCCCTATGTAAATCAGACACCGTGTCGCACAATGCG\tIIIIIIIIIIIIIIIIIIIIIIIIIIIIIIIIIIIIIIIIIIIIIIIIIIIIIIIIIIIIIIIIIIIIIIIIIIIIIIIIIIIIIIIIIIIIIIIIIIIIIIIIIIIIIIIIIIIIIIIIIIIIIIIIIIIIIIIIIIIIIIIIIIIIIIIIIIIIIIIIIIIIIIIIIIIIIIIIIIIIIIIIIIIIIIIIIIIIIII\t0\t\n"
     ]
    }
   ],
   "source": [
    "%%bash\n",
    "cat /wynton/home/ahituv/fongsl/nullomers/data/lock/colony_seq_16_20230710/library_bowtie_alignments.txt"
   ]
  },
  {
   "cell_type": "code",
   "execution_count": 14,
   "id": "bdfdf1e1",
   "metadata": {
    "ExecuteTime": {
     "end_time": "2023-07-10T19:53:19.795730Z",
     "start_time": "2023-07-10T19:53:19.703511Z"
    }
   },
   "outputs": [],
   "source": [
    "crw.write(config, cfn)"
   ]
  },
  {
   "cell_type": "code",
   "execution_count": null,
   "id": "e2ac4242",
   "metadata": {},
   "outputs": [],
   "source": []
  }
 ],
 "metadata": {
  "kernelspec": {
   "display_name": "Python (mamba)",
   "language": "python",
   "name": "mamba"
  },
  "language_info": {
   "codemirror_mode": {
    "name": "ipython",
    "version": 3
   },
   "file_extension": ".py",
   "mimetype": "text/x-python",
   "name": "python",
   "nbconvert_exporter": "python",
   "pygments_lexer": "ipython3",
   "version": "3.9.16"
  },
  "toc": {
   "base_numbering": 1,
   "nav_menu": {},
   "number_sections": true,
   "sideBar": true,
   "skip_h1_title": false,
   "title_cell": "Table of Contents",
   "title_sidebar": "Contents",
   "toc_cell": false,
   "toc_position": {},
   "toc_section_display": true,
   "toc_window_display": false
  },
  "varInspector": {
   "cols": {
    "lenName": 16,
    "lenType": 16,
    "lenVar": 40
   },
   "kernels_config": {
    "python": {
     "delete_cmd_postfix": "",
     "delete_cmd_prefix": "del ",
     "library": "var_list.py",
     "varRefreshCmd": "print(var_dic_list())"
    },
    "r": {
     "delete_cmd_postfix": ") ",
     "delete_cmd_prefix": "rm(",
     "library": "var_list.r",
     "varRefreshCmd": "cat(var_dic_list()) "
    }
   },
   "types_to_exclude": [
    "module",
    "function",
    "builtin_function_or_method",
    "instance",
    "_Feature"
   ],
   "window_display": false
  }
 },
 "nbformat": 4,
 "nbformat_minor": 5
}
