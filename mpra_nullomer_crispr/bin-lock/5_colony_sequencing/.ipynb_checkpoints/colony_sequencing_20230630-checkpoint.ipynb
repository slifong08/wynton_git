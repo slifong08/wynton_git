{
 "cells": [
  {
   "cell_type": "markdown",
   "id": "fa523025",
   "metadata": {},
   "source": [
    "# align plasmid sequencing with target library. \n",
    "20230703\n",
    "sarahfong\n",
    "\n",
    "input \n",
    "\n",
    "    - plasmid sequencing genbank files for primoridum. \n",
    "    - library .fa file\n",
    "    \n",
    "my plan\n",
    "\n",
    "    - make a bowtie index file for library\n",
    "    - get plasmid sequencing genbank files "
   ]
  },
  {
   "cell_type": "code",
   "execution_count": 1,
   "id": "70fabcec",
   "metadata": {
    "ExecuteTime": {
     "end_time": "2023-07-04T01:58:54.862944Z",
     "start_time": "2023-07-04T01:58:51.491648Z"
    }
   },
   "outputs": [],
   "source": [
    "from Bio import SeqIO\n",
    "from Bio.Align import PairwiseAligner\n",
    "import config_readwrite as crw\n",
    "import glob\n",
    "import os\n",
    "import sys\n",
    "import pandas as pd"
   ]
  },
  {
   "cell_type": "code",
   "execution_count": 2,
   "id": "71c625db",
   "metadata": {
    "ExecuteTime": {
     "end_time": "2023-07-04T01:58:54.876791Z",
     "start_time": "2023-07-04T01:58:54.867385Z"
    }
   },
   "outputs": [],
   "source": [
    "config_tag = \"config\"\n",
    "config, cfn = crw.read_config(os.path.join(os.path.dirname(os.getcwd()), config_tag))"
   ]
  },
  {
   "cell_type": "markdown",
   "id": "f9bc26b2",
   "metadata": {},
   "source": [
    "# write config"
   ]
  },
  {
   "cell_type": "markdown",
   "id": "b8cef501",
   "metadata": {},
   "source": [
    "## colony sequencing data"
   ]
  },
  {
   "cell_type": "code",
   "execution_count": 22,
   "id": "8ef738d2",
   "metadata": {
    "ExecuteTime": {
     "end_time": "2023-07-04T02:11:00.101780Z",
     "start_time": "2023-07-04T02:11:00.094136Z"
    }
   },
   "outputs": [],
   "source": [
    "section = \"col_seq\"\n",
    "crw.check(config, section)\n",
    "\n",
    "PATH = \"/wynton/home/ahituv/fongsl/nullomers/data/lock/colony_seq_16_20230630/\"\n",
    "GB_PATH = os.path.join(PATH, \"99L8BQ_genbank_files\")\n",
    "BOWTIE_OUT = os.path.join(GB_PATH, \"library_bowtie_alignments.txt\")\n",
    "\n",
    "config[section][\"path\"] = PATH\n",
    "config[section][\"path_gb\"] = GB_PATH\n",
    "config[section][\"lib_alignment\"] = BOWTIE_OUT"
   ]
  },
  {
   "cell_type": "markdown",
   "id": "f65de96b",
   "metadata": {},
   "source": [
    "## bowtie paths"
   ]
  },
  {
   "cell_type": "code",
   "execution_count": 5,
   "id": "39a08431",
   "metadata": {
    "ExecuteTime": {
     "end_time": "2023-07-04T01:58:55.505535Z",
     "start_time": "2023-07-04T01:58:55.430088Z"
    }
   },
   "outputs": [],
   "source": [
    "section = \"bowtie\"\n",
    "crw.check(config, section)\n",
    "\n",
    "PATH_BOWTIE = \"/wynton/home/ahituv/fongsl/bin/bowtie\"\n",
    "BIN_BOWTIE = os.path.join(PATH_BOWTIE, \"bowtie\")\n",
    "\n",
    "config[section][\"path\"] = PATH_BOWTIE\n",
    "config[section][\"bin\"] = BIN_BOWTIE"
   ]
  },
  {
   "cell_type": "markdown",
   "id": "41649b39",
   "metadata": {},
   "source": [
    "## target library"
   ]
  },
  {
   "cell_type": "code",
   "execution_count": 6,
   "id": "8d93c38d",
   "metadata": {
    "ExecuteTime": {
     "end_time": "2023-07-04T01:58:56.016440Z",
     "start_time": "2023-07-04T01:58:55.509673Z"
    }
   },
   "outputs": [],
   "source": [
    "section = \"common.15mer.2mut\"\n",
    "\n",
    "#read\n",
    "TARGET = config[section][\"library_twist\"]\n",
    "\n",
    "#write\n",
    "TARGET_FA = os.path.splitext(TARGET)[0]+\".fa\"\n",
    "\n",
    "config[section][\"library_twist_FA\"] = TARGET_FA"
   ]
  },
  {
   "cell_type": "markdown",
   "id": "10f58603",
   "metadata": {},
   "source": [
    "# target file .fa"
   ]
  },
  {
   "cell_type": "code",
   "execution_count": 7,
   "id": "5398e9ea",
   "metadata": {
    "ExecuteTime": {
     "end_time": "2023-07-04T01:58:56.133349Z",
     "start_time": "2023-07-04T01:58:56.020059Z"
    }
   },
   "outputs": [],
   "source": [
    "def fastaWriter(outfile, df):\n",
    "    \"\"\"\n",
    "    input\n",
    "        outfile (str) - path to outfile\n",
    "        df (pd dataframe) - dataframe with one col w/ seq_id name, another col sequence. \n",
    "        \n",
    "    method\n",
    "    \n",
    "        1. open outfile, if it is not already written\n",
    "        2. iterate through the rows of the dataframe\n",
    "        3. write seq_id, seq as a fasta file\n",
    "    \"\"\"\n",
    "    \n",
    "    #1 write fa\n",
    "    if os.path.exists(outfile) is False:\n",
    "        with open(outfile, \"w\") as writer:\n",
    "\n",
    "            #2 iterrate through rows\n",
    "            for row in df.iterrows():\n",
    "                seq_id, seq = row[1][0], row[1][1]\n",
    "                \n",
    "                #3\n",
    "                writer.write(f\">{seq_id}\\n{seq}\\n\")\n",
    "\n",
    "        writer.close()\n",
    "        print(\"wrote fasta\", outfile)\n",
    "    else:\n",
    "        print(\"already wrote fasta\", outfile)"
   ]
  },
  {
   "cell_type": "markdown",
   "id": "ed7459f9",
   "metadata": {},
   "source": [
    "## turn TSV into fa"
   ]
  },
  {
   "cell_type": "code",
   "execution_count": 8,
   "id": "a5c50c67",
   "metadata": {
    "ExecuteTime": {
     "end_time": "2023-07-04T01:59:03.645165Z",
     "start_time": "2023-07-04T01:58:56.136972Z"
    }
   },
   "outputs": [
    {
     "name": "stdout",
     "output_type": "stream",
     "text": [
      "wrote fasta /wynton/home/ahituv/fongsl/nullomers/results/lock/library_design/15mer.fo.pam.scaffold.ext200.library.TWIST.fa\n"
     ]
    }
   ],
   "source": [
    "# read tsv\n",
    "df = pd.read_csv(TARGET, sep='\\t')\n",
    "fastaWriter(TARGET_FA, df)"
   ]
  },
  {
   "cell_type": "markdown",
   "id": "4d55654f",
   "metadata": {},
   "source": [
    "## index fa w/ bowtie"
   ]
  },
  {
   "cell_type": "code",
   "execution_count": 9,
   "id": "5ecf145e",
   "metadata": {
    "ExecuteTime": {
     "end_time": "2023-07-04T01:59:33.853056Z",
     "start_time": "2023-07-04T01:59:03.654177Z"
    }
   },
   "outputs": [
    {
     "name": "stdout",
     "output_type": "stream",
     "text": [
      "/wynton/home/ahituv/fongsl/bin/bowtie/bowtie-build /wynton/home/ahituv/fongsl/nullomers/results/lock/library_design/15mer.fo.pam.scaffold.ext200.library.TWIST.fa /wynton/home/ahituv/fongsl/nullomers/results/lock/library_design/15mer.fo.pam.scaffold.ext200.library.TWIST.index\n",
      "Settings:\n",
      "  Output files: \"/wynton/home/ahituv/fongsl/nullomers/results/lock/library_design/15mer.fo.pam.scaffold.ext200.library.TWIST.index.*.ebwt\"\n",
      "  Line rate: 6 (line is 64 bytes)\n",
      "  Lines per side: 1 (side is 64 bytes)\n",
      "  Offset rate: 5 (one in 32)\n",
      "  FTable chars: 10\n",
      "  Strings: unpacked\n",
      "  Max bucket size: default\n",
      "  Max bucket size, sqrt multiplier: default\n",
      "  Max bucket size, len divisor: 4\n",
      "  Difference-cover sample period: 1024\n",
      "  Endianness: little\n",
      "  Actual local endianness: little\n",
      "  Sanity checking: disabled\n",
      "  Assertions: disabled\n",
      "  Random seed: 0\n",
      "  Sizeofs: void*:8, int:4, long:8, size_t:8\n",
      "Input files DNA, FASTA:\n",
      "  /wynton/home/ahituv/fongsl/nullomers/results/lock/library_design/15mer.fo.pam.scaffold.ext200.library.TWIST.fa\n",
      "Reading reference sizes\n",
      "  Time reading reference sizes: 00:00:01\n",
      "Calculating joined length\n",
      "Writing header\n",
      "Reserving space for joined string\n",
      "Joining reference sequences\n",
      "  Time to join reference sequences: 00:00:00\n",
      "bmax according to bmaxDivN setting: 6297686\n",
      "Using parameters --bmax 4723265 --dcv 1024\n",
      "  Doing ahead-of-time memory usage test\n",
      "  Passed!  Constructing with these parameters: --bmax 4723265 --dcv 1024\n",
      "Constructing suffix-array element generator\n",
      "Building DifferenceCoverSample\n",
      "  Building sPrime\n",
      "  Building sPrimeOrder\n",
      "  V-Sorting samples\n",
      "  V-Sorting samples time: 00:00:01\n",
      "  Allocating rank array\n",
      "  Ranking v-sort output\n",
      "  Ranking v-sort output time: 00:00:00\n",
      "  Invoking Larsson-Sadakane on ranks\n",
      "  Invoking Larsson-Sadakane on ranks time: 00:00:01\n",
      "  Sanity-checking and returning\n",
      "Building samples\n",
      "Reserving space for 12 sample suffixes\n",
      "Generating random suffixes\n",
      "QSorting 12 sample offsets, eliminating duplicates\n",
      "Multikey QSorting 12 samples\n",
      "  (Using difference cover)\n",
      "  Multikey QSorting samples time: 00:00:00\n",
      "QSorting sample offsets, eliminating duplicates time: 00:00:00\n",
      "Calculating bucket sizes\n",
      "Splitting and merging\n",
      "  Splitting and merging time: 00:00:00\n",
      "Split 1, merged 6; iterating...\n",
      "Splitting and merging\n",
      "  Splitting and merging time: 00:00:00\n",
      "Avg bucket size: 3.59868e+06 (target: 4723264)\n",
      "Converting suffix-array elements to index image\n",
      "Allocating ftab, absorbFtab\n",
      "Entering Ebwt loop\n",
      "Getting block 1 of 7\n",
      "  Reserving size (4723265) for bucket 1\n",
      "  Calculating Z arrays for bucket 1\n",
      "  Entering block accumulator loop for bucket 1:\n",
      "  bucket 1: 10%\n",
      "  bucket 1: 20%\n",
      "  bucket 1: 30%\n",
      "  bucket 1: 40%\n",
      "  bucket 1: 50%\n",
      "  bucket 1: 60%\n",
      "  bucket 1: 70%\n",
      "  bucket 1: 80%\n",
      "  bucket 1: 90%\n",
      "  bucket 1: 100%\n",
      "  Sorting block of length 4547727 for bucket 1\n",
      "  (Using difference cover)\n",
      "  Sorting block time: 00:00:01\n",
      "Returning block of 4547728 for bucket 1\n",
      "Getting block 2 of 7\n",
      "  Reserving size (4723265) for bucket 2\n",
      "  Calculating Z arrays for bucket 2\n",
      "  Entering block accumulator loop for bucket 2:\n",
      "  bucket 2: 10%\n",
      "  bucket 2: 20%\n",
      "  bucket 2: 30%\n",
      "  bucket 2: 40%\n",
      "  bucket 2: 50%\n",
      "  bucket 2: 60%\n",
      "  bucket 2: 70%\n",
      "  bucket 2: 80%\n",
      "  bucket 2: 90%\n",
      "  bucket 2: 100%\n",
      "  Sorting block of length 3618926 for bucket 2\n",
      "  (Using difference cover)\n",
      "  Sorting block time: 00:00:01\n",
      "Returning block of 3618927 for bucket 2\n",
      "Getting block 3 of 7\n",
      "  Reserving size (4723265) for bucket 3\n",
      "  Calculating Z arrays for bucket 3\n",
      "  Entering block accumulator loop for bucket 3:\n",
      "  bucket 3: 10%\n",
      "  bucket 3: 20%\n",
      "  bucket 3: 30%\n",
      "  bucket 3: 40%\n",
      "  bucket 3: 50%\n",
      "  bucket 3: 60%\n",
      "  bucket 3: 70%\n",
      "  bucket 3: 80%\n",
      "  bucket 3: 90%\n",
      "  bucket 3: 100%\n",
      "  Sorting block of length 2208138 for bucket 3\n",
      "  (Using difference cover)\n",
      "  Sorting block time: 00:00:01\n",
      "Returning block of 2208139 for bucket 3\n",
      "Getting block 4 of 7\n",
      "  Reserving size (4723265) for bucket 4\n",
      "  Calculating Z arrays for bucket 4\n",
      "  Entering block accumulator loop for bucket 4:\n",
      "  bucket 4: 10%\n",
      "  bucket 4: 20%\n",
      "  bucket 4: 30%\n",
      "  bucket 4: 40%\n",
      "  bucket 4: 50%\n",
      "  bucket 4: 60%\n",
      "  bucket 4: 70%\n",
      "  bucket 4: 80%\n",
      "  bucket 4: 90%\n",
      "  bucket 4: 100%\n",
      "  Sorting block of length 4587049 for bucket 4\n",
      "  (Using difference cover)\n",
      "  Sorting block time: 00:00:02\n",
      "Returning block of 4587050 for bucket 4\n",
      "Getting block 5 of 7\n",
      "  Reserving size (4723265) for bucket 5\n",
      "  Calculating Z arrays for bucket 5\n",
      "  Entering block accumulator loop for bucket 5:\n",
      "  bucket 5: 10%\n",
      "  bucket 5: 20%\n",
      "  bucket 5: 30%\n",
      "  bucket 5: 40%\n",
      "  bucket 5: 50%\n",
      "  bucket 5: 60%\n",
      "  bucket 5: 70%\n",
      "  bucket 5: 80%\n",
      "  bucket 5: 90%\n",
      "  bucket 5: 100%\n",
      "  Sorting block of length 4239404 for bucket 5\n",
      "  (Using difference cover)\n",
      "  Sorting block time: 00:00:02\n",
      "Returning block of 4239405 for bucket 5\n",
      "Getting block 6 of 7\n",
      "  Reserving size (4723265) for bucket 6\n",
      "  Calculating Z arrays for bucket 6\n",
      "  Entering block accumulator loop for bucket 6:\n",
      "  bucket 6: 10%\n",
      "  bucket 6: 20%\n",
      "  bucket 6: 30%\n",
      "  bucket 6: 40%\n",
      "  bucket 6: 50%\n",
      "  bucket 6: 60%\n",
      "  bucket 6: 70%\n",
      "  bucket 6: 80%\n",
      "  bucket 6: 90%\n",
      "  bucket 6: 100%\n",
      "  Sorting block of length 4216729 for bucket 6\n",
      "  (Using difference cover)\n",
      "  Sorting block time: 00:00:02\n",
      "Returning block of 4216730 for bucket 6\n",
      "Getting block 7 of 7\n",
      "  Reserving size (4723265) for bucket 7\n",
      "  Calculating Z arrays for bucket 7\n",
      "  Entering block accumulator loop for bucket 7:\n",
      "  bucket 7: 10%\n",
      "  bucket 7: 20%\n",
      "  bucket 7: 30%\n",
      "  bucket 7: 40%\n",
      "  bucket 7: 50%\n",
      "  bucket 7: 60%\n",
      "  bucket 7: 70%\n",
      "  bucket 7: 80%\n",
      "  bucket 7: 90%\n",
      "  bucket 7: 100%\n",
      "  Sorting block of length 1772768 for bucket 7\n",
      "  (Using difference cover)\n",
      "  Sorting block time: 00:00:01\n",
      "Returning block of 1772769 for bucket 7\n",
      "Exited Ebwt loop\n",
      "fchr[A]: 0\n",
      "fchr[C]: 6127876\n",
      "fchr[G]: 12677524\n",
      "fchr[T]: 19325290\n",
      "fchr[$]: 25190747\n",
      "Exiting Ebwt::buildToDisk()\n",
      "Returning from initFromVector\n",
      "Wrote 18640391 bytes to primary EBWT file: /wynton/home/ahituv/fongsl/nullomers/results/lock/library_design/15mer.fo.pam.scaffold.ext200.library.TWIST.index.1.ebwt\n",
      "Wrote 3148848 bytes to secondary EBWT file: /wynton/home/ahituv/fongsl/nullomers/results/lock/library_design/15mer.fo.pam.scaffold.ext200.library.TWIST.index.2.ebwt\n",
      "Re-opening _in1 and _in2 as input streams\n",
      "Returning from Ebwt constructor\n",
      "Headers:\n",
      "    len: 25190747\n",
      "    bwtLen: 25190748\n",
      "    sz: 6297687\n",
      "    bwtSz: 6297687\n",
      "    lineRate: 6\n",
      "    linesPerSide: 1\n",
      "    offRate: 5\n",
      "    offMask: 0xffffffe0\n",
      "    isaRate: -1\n",
      "    isaMask: 0xffffffff\n",
      "    ftabChars: 10\n",
      "    eftabLen: 20\n",
      "    eftabSz: 80\n",
      "    ftabLen: 1048577\n",
      "    ftabSz: 4194308\n",
      "    offsLen: 787211\n",
      "    offsSz: 3148844\n",
      "    isaLen: 0\n",
      "    isaSz: 0\n",
      "    lineSz: 64\n",
      "    sideSz: 64\n",
      "    sideBwtSz: 56\n",
      "    sideBwtLen: 224\n",
      "    numSidePairs: 56230\n",
      "    numSides: 112460\n",
      "    numLines: 112460\n",
      "    ebwtTotLen: 7197440\n",
      "    ebwtTotSz: 7197440\n",
      "    reverse: 0\n",
      "Total time for call to driver() for forward index: 00:00:15\n",
      "Reading reference sizes\n",
      "  Time reading reference sizes: 00:00:00\n",
      "Calculating joined length\n",
      "Writing header\n",
      "Reserving space for joined string\n",
      "Joining reference sequences\n",
      "  Time to join reference sequences: 00:00:01\n",
      "bmax according to bmaxDivN setting: 6297686\n",
      "Using parameters --bmax 4723265 --dcv 1024\n",
      "  Doing ahead-of-time memory usage test\n",
      "  Passed!  Constructing with these parameters: --bmax 4723265 --dcv 1024\n",
      "Constructing suffix-array element generator\n",
      "Building DifferenceCoverSample\n",
      "  Building sPrime\n",
      "  Building sPrimeOrder\n",
      "  V-Sorting samples\n",
      "  V-Sorting samples time: 00:00:01\n",
      "  Allocating rank array\n",
      "  Ranking v-sort output\n",
      "  Ranking v-sort output time: 00:00:00\n",
      "  Invoking Larsson-Sadakane on ranks\n",
      "  Invoking Larsson-Sadakane on ranks time: 00:00:00\n",
      "  Sanity-checking and returning\n",
      "Building samples\n",
      "Reserving space for 12 sample suffixes\n",
      "Generating random suffixes\n",
      "QSorting 12 sample offsets, eliminating duplicates\n",
      "Multikey QSorting 12 samples\n",
      "  (Using difference cover)\n",
      "  Multikey QSorting samples time: 00:00:00\n",
      "QSorting sample offsets, eliminating duplicates time: 00:00:00\n",
      "Calculating bucket sizes\n",
      "Splitting and merging\n",
      "  Splitting and merging time: 00:00:00\n",
      "Split 1, merged 7; iterating...\n",
      "Splitting and merging\n",
      "  Splitting and merging time: 00:00:00\n",
      "Split 1, merged 0; iterating...\n",
      "Splitting and merging\n",
      "  Splitting and merging time: 00:00:00\n",
      "Avg bucket size: 3.59868e+06 (target: 4723264)\n",
      "Converting suffix-array elements to index image\n",
      "Allocating ftab, absorbFtab\n",
      "Entering Ebwt loop\n",
      "Getting block 1 of 7\n",
      "  Reserving size (4723265) for bucket 1\n",
      "  Calculating Z arrays for bucket 1\n",
      "  Entering block accumulator loop for bucket 1:\n",
      "  bucket 1: 10%\n",
      "  bucket 1: 20%\n",
      "  bucket 1: 30%\n",
      "  bucket 1: 40%\n",
      "  bucket 1: 50%\n",
      "  bucket 1: 60%\n",
      "  bucket 1: 70%\n",
      "  bucket 1: 80%\n",
      "  bucket 1: 90%\n",
      "  bucket 1: 100%\n",
      "  Sorting block of length 4257906 for bucket 1\n",
      "  (Using difference cover)\n"
     ]
    },
    {
     "name": "stdout",
     "output_type": "stream",
     "text": [
      "  Sorting block time: 00:00:01\n",
      "Returning block of 4257907 for bucket 1\n",
      "Getting block 2 of 7\n",
      "  Reserving size (4723265) for bucket 2\n",
      "  Calculating Z arrays for bucket 2\n",
      "  Entering block accumulator loop for bucket 2:\n",
      "  bucket 2: 10%\n",
      "  bucket 2: 20%\n",
      "  bucket 2: 30%\n",
      "  bucket 2: 40%\n",
      "  bucket 2: 50%\n",
      "  bucket 2: 60%\n",
      "  bucket 2: 70%\n",
      "  bucket 2: 80%\n",
      "  bucket 2: 90%\n",
      "  bucket 2: 100%\n",
      "  Sorting block of length 4332955 for bucket 2\n",
      "  (Using difference cover)\n",
      "  Sorting block time: 00:00:01\n",
      "Returning block of 4332956 for bucket 2\n",
      "Getting block 3 of 7\n",
      "  Reserving size (4723265) for bucket 3\n",
      "  Calculating Z arrays for bucket 3\n",
      "  Entering block accumulator loop for bucket 3:\n",
      "  bucket 3: 10%\n",
      "  bucket 3: 20%\n",
      "  bucket 3: 30%\n",
      "  bucket 3: 40%\n",
      "  bucket 3: 50%\n",
      "  bucket 3: 60%\n",
      "  bucket 3: 70%\n",
      "  bucket 3: 80%\n",
      "  bucket 3: 90%\n",
      "  bucket 3: 100%\n",
      "  Sorting block of length 2631949 for bucket 3\n",
      "  (Using difference cover)\n",
      "  Sorting block time: 00:00:01\n",
      "Returning block of 2631950 for bucket 3\n",
      "Getting block 4 of 7\n",
      "  Reserving size (4723265) for bucket 4\n",
      "  Calculating Z arrays for bucket 4\n",
      "  Entering block accumulator loop for bucket 4:\n",
      "  bucket 4: 10%\n",
      "  bucket 4: 20%\n",
      "  bucket 4: 30%\n",
      "  bucket 4: 40%\n",
      "  bucket 4: 50%\n",
      "  bucket 4: 60%\n",
      "  bucket 4: 70%\n",
      "  bucket 4: 80%\n",
      "  bucket 4: 90%\n",
      "  bucket 4: 100%\n",
      "  Sorting block of length 3193213 for bucket 4\n",
      "  (Using difference cover)\n",
      "  Sorting block time: 00:00:01\n",
      "Returning block of 3193214 for bucket 4\n",
      "Getting block 5 of 7\n",
      "  Reserving size (4723265) for bucket 5\n",
      "  Calculating Z arrays for bucket 5\n",
      "  Entering block accumulator loop for bucket 5:\n",
      "  bucket 5: 10%\n",
      "  bucket 5: 20%\n",
      "  bucket 5: 30%\n",
      "  bucket 5: 40%\n",
      "  bucket 5: 50%\n",
      "  bucket 5: 60%\n",
      "  bucket 5: 70%\n",
      "  bucket 5: 80%\n",
      "  bucket 5: 90%\n",
      "  bucket 5: 100%\n",
      "  Sorting block of length 4266828 for bucket 5\n",
      "  (Using difference cover)\n",
      "  Sorting block time: 00:00:02\n",
      "Returning block of 4266829 for bucket 5\n",
      "Getting block 6 of 7\n",
      "  Reserving size (4723265) for bucket 6\n",
      "  Calculating Z arrays for bucket 6\n",
      "  Entering block accumulator loop for bucket 6:\n",
      "  bucket 6: 10%\n",
      "  bucket 6: 20%\n",
      "  bucket 6: 30%\n",
      "  bucket 6: 40%\n",
      "  bucket 6: 50%\n",
      "  bucket 6: 60%\n",
      "  bucket 6: 70%\n",
      "  bucket 6: 80%\n",
      "  bucket 6: 90%\n",
      "  bucket 6: 100%\n",
      "  Sorting block of length 3857556 for bucket 6\n",
      "  (Using difference cover)\n",
      "  Sorting block time: 00:00:02\n",
      "Returning block of 3857557 for bucket 6\n",
      "Getting block 7 of 7\n",
      "  Reserving size (4723265) for bucket 7\n",
      "  Calculating Z arrays for bucket 7\n",
      "  Entering block accumulator loop for bucket 7:\n",
      "  bucket 7: 10%\n",
      "  bucket 7: 20%\n",
      "  bucket 7: 30%\n",
      "  bucket 7: 40%\n",
      "  bucket 7: 50%\n",
      "  bucket 7: 60%\n",
      "  bucket 7: 70%\n",
      "  bucket 7: 80%\n",
      "  bucket 7: 90%\n",
      "  bucket 7: 100%\n",
      "  Sorting block of length 2650334 for bucket 7\n",
      "  (Using difference cover)\n",
      "  Sorting block time: 00:00:01\n",
      "Returning block of 2650335 for bucket 7\n",
      "Exited Ebwt loop\n",
      "fchr[A]: 0\n",
      "fchr[C]: 6127876\n",
      "fchr[G]: 12677524\n",
      "fchr[T]: 19325290\n",
      "fchr[$]: 25190747\n",
      "Exiting Ebwt::buildToDisk()\n",
      "Returning from initFromVector\n",
      "Wrote 18640391 bytes to primary EBWT file: /wynton/home/ahituv/fongsl/nullomers/results/lock/library_design/15mer.fo.pam.scaffold.ext200.library.TWIST.index.rev.1.ebwt\n",
      "Wrote 3148848 bytes to secondary EBWT file: /wynton/home/ahituv/fongsl/nullomers/results/lock/library_design/15mer.fo.pam.scaffold.ext200.library.TWIST.index.rev.2.ebwt\n",
      "Re-opening _in1 and _in2 as input streams\n",
      "Returning from Ebwt constructor\n",
      "Headers:\n",
      "    len: 25190747\n",
      "    bwtLen: 25190748\n",
      "    sz: 6297687\n",
      "    bwtSz: 6297687\n",
      "    lineRate: 6\n",
      "    linesPerSide: 1\n",
      "    offRate: 5\n",
      "    offMask: 0xffffffe0\n",
      "    isaRate: -1\n",
      "    isaMask: 0xffffffff\n",
      "    ftabChars: 10\n",
      "    eftabLen: 20\n",
      "    eftabSz: 80\n",
      "    ftabLen: 1048577\n",
      "    ftabSz: 4194308\n",
      "    offsLen: 787211\n",
      "    offsSz: 3148844\n",
      "    isaLen: 0\n",
      "    isaSz: 0\n",
      "    lineSz: 64\n",
      "    sideSz: 64\n",
      "    sideBwtSz: 56\n",
      "    sideBwtLen: 224\n",
      "    numSidePairs: 56230\n",
      "    numSides: 112460\n",
      "    numLines: 112460\n",
      "    ebwtTotLen: 7197440\n",
      "    ebwtTotSz: 7197440\n",
      "    reverse: 0\n",
      "Total time for backward call to driver() for mirror index: 00:00:15\n"
     ]
    },
    {
     "data": {
      "text/plain": [
       "0"
      ]
     },
     "execution_count": 9,
     "metadata": {},
     "output_type": "execute_result"
    }
   ],
   "source": [
    "TARGET_INDEX = os.path.splitext(TARGET_FA)[0] + \".index\"\n",
    "\n",
    "cmd = [BIN_BOWTIE + \"-build\", \n",
    "      TARGET_FA, \n",
    "      TARGET_INDEX\n",
    "      ]\n",
    "\n",
    "print(\" \".join(cmd))\n",
    "os.system(\" \".join(cmd))"
   ]
  },
  {
   "cell_type": "markdown",
   "id": "51f5664b",
   "metadata": {},
   "source": [
    "# get genbank files"
   ]
  },
  {
   "cell_type": "code",
   "execution_count": 13,
   "id": "f55fa6ee",
   "metadata": {
    "ExecuteTime": {
     "end_time": "2023-07-04T01:59:41.720539Z",
     "start_time": "2023-07-04T01:59:41.712938Z"
    }
   },
   "outputs": [],
   "source": [
    "def makeWindows(sequence, windowsize):\n",
    "    \"\"\"\n",
    "    input\n",
    "        sequence (str) - sequence to slide along\n",
    "        windowsize (int) - size of sequence windows\n",
    "        \n",
    "    method \n",
    "        1. make empty dictionary to collect\n",
    "        2. compute n kmers using the sequence length and the number of windows.\n",
    "        3. iterate through sequence, sliding one bp over. \n",
    "        4. add each window to collection dictionary\n",
    "        \n",
    "    return\n",
    "        collection (dict) - keys are window numbers, values are sequences. \n",
    "    \"\"\"\n",
    "    \n",
    "    \n",
    "    #1\n",
    "    collection = {}\n",
    "    \n",
    "    #2\n",
    "    n_kmers, start = (len(sequence) - windowsize + 1), 0\n",
    "\n",
    "    #3\n",
    "    for start in np.arange(n_kmers):\n",
    "\n",
    "        # get kmer from sequence\n",
    "        kmer = sequence[start:start+windowsize].upper()\n",
    "        \n",
    "        #4\n",
    "        collection[f\"window.{start}\"] = kmer\n",
    "\n",
    "    return collection"
   ]
  },
  {
   "cell_type": "code",
   "execution_count": 27,
   "id": "2912fa57",
   "metadata": {
    "ExecuteTime": {
     "end_time": "2023-07-04T02:18:39.014028Z",
     "start_time": "2023-07-04T02:18:39.006853Z"
    }
   },
   "outputs": [],
   "source": [
    "def runBowtie(bin_bowtie, target_index, input_fa, outfile):\n",
    "\n",
    "    # command to run bowtie with the target_index\n",
    "    cmd = [\n",
    "        bin_bowtie,\n",
    "        \"-x\",\n",
    "        target_index,\n",
    "        \"-f\",\n",
    "        input_fa,\n",
    "        \"-n 3\", \n",
    "        \">>\",\n",
    "        outfile\n",
    "    ]\n",
    "\n",
    "    # run the command\n",
    "    os.system(\" \".join(cmd))\n",
    "    \n",
    "    print(\" \".join(cmd))"
   ]
  },
  {
   "cell_type": "markdown",
   "id": "158cc7aa",
   "metadata": {},
   "source": [
    "## parse genbank files"
   ]
  },
  {
   "cell_type": "code",
   "execution_count": 31,
   "id": "ffa3eed0",
   "metadata": {
    "ExecuteTime": {
     "end_time": "2023-07-04T02:22:52.150761Z",
     "start_time": "2023-07-04T02:22:24.153631Z"
    }
   },
   "outputs": [
    {
     "name": "stdout",
     "output_type": "stream",
     "text": [
      "wrote fasta /wynton/home/ahituv/fongsl/nullomers/data/lock/colony_seq_16_20230630/99L8BQ_genbank_files/15_15.fa\n"
     ]
    },
    {
     "name": "stderr",
     "output_type": "stream",
     "text": [
      "# reads processed: 7865\n",
      "# reads with at least one alignment: 1 (0.01%)\n",
      "# reads that failed to align: 7864 (99.99%)\n",
      "Reported 1 alignments\n"
     ]
    },
    {
     "name": "stdout",
     "output_type": "stream",
     "text": [
      "/wynton/home/ahituv/fongsl/bin/bowtie/bowtie -x /wynton/home/ahituv/fongsl/nullomers/results/lock/library_design/15mer.fo.pam.scaffold.ext200.library.TWIST.index -f /wynton/home/ahituv/fongsl/nullomers/data/lock/colony_seq_16_20230630/99L8BQ_genbank_files/15_15.fa -n 3 >> /wynton/home/ahituv/fongsl/nullomers/data/lock/colony_seq_16_20230630/99L8BQ_genbank_files/library_bowtie_alignments.txt\n",
      "already wrote fasta /wynton/home/ahituv/fongsl/nullomers/data/lock/colony_seq_16_20230630/99L8BQ_genbank_files/2_02.fa\n"
     ]
    },
    {
     "name": "stderr",
     "output_type": "stream",
     "text": [
      "# reads processed: 7865\n",
      "# reads with at least one alignment: 1 (0.01%)\n",
      "# reads that failed to align: 7864 (99.99%)\n",
      "Reported 1 alignments\n"
     ]
    },
    {
     "name": "stdout",
     "output_type": "stream",
     "text": [
      "/wynton/home/ahituv/fongsl/bin/bowtie/bowtie -x /wynton/home/ahituv/fongsl/nullomers/results/lock/library_design/15mer.fo.pam.scaffold.ext200.library.TWIST.index -f /wynton/home/ahituv/fongsl/nullomers/data/lock/colony_seq_16_20230630/99L8BQ_genbank_files/2_02.fa -n 3 >> /wynton/home/ahituv/fongsl/nullomers/data/lock/colony_seq_16_20230630/99L8BQ_genbank_files/library_bowtie_alignments.txt\n",
      "already wrote fasta /wynton/home/ahituv/fongsl/nullomers/data/lock/colony_seq_16_20230630/99L8BQ_genbank_files/9_09.fa\n"
     ]
    },
    {
     "name": "stderr",
     "output_type": "stream",
     "text": [
      "# reads processed: 7864\n",
      "# reads with at least one alignment: 1 (0.01%)\n",
      "# reads that failed to align: 7863 (99.99%)\n",
      "Reported 1 alignments\n"
     ]
    },
    {
     "name": "stdout",
     "output_type": "stream",
     "text": [
      "/wynton/home/ahituv/fongsl/bin/bowtie/bowtie -x /wynton/home/ahituv/fongsl/nullomers/results/lock/library_design/15mer.fo.pam.scaffold.ext200.library.TWIST.index -f /wynton/home/ahituv/fongsl/nullomers/data/lock/colony_seq_16_20230630/99L8BQ_genbank_files/9_09.fa -n 3 >> /wynton/home/ahituv/fongsl/nullomers/data/lock/colony_seq_16_20230630/99L8BQ_genbank_files/library_bowtie_alignments.txt\n",
      "already wrote fasta /wynton/home/ahituv/fongsl/nullomers/data/lock/colony_seq_16_20230630/99L8BQ_genbank_files/11_11.fa\n"
     ]
    },
    {
     "name": "stderr",
     "output_type": "stream",
     "text": [
      "# reads processed: 7882\n",
      "# reads with at least one alignment: 0 (0.00%)\n",
      "# reads that failed to align: 7882 (100.00%)\n",
      "No alignments\n"
     ]
    },
    {
     "name": "stdout",
     "output_type": "stream",
     "text": [
      "/wynton/home/ahituv/fongsl/bin/bowtie/bowtie -x /wynton/home/ahituv/fongsl/nullomers/results/lock/library_design/15mer.fo.pam.scaffold.ext200.library.TWIST.index -f /wynton/home/ahituv/fongsl/nullomers/data/lock/colony_seq_16_20230630/99L8BQ_genbank_files/11_11.fa -n 3 >> /wynton/home/ahituv/fongsl/nullomers/data/lock/colony_seq_16_20230630/99L8BQ_genbank_files/library_bowtie_alignments.txt\n",
      "already wrote fasta /wynton/home/ahituv/fongsl/nullomers/data/lock/colony_seq_16_20230630/99L8BQ_genbank_files/4_04.fa\n"
     ]
    },
    {
     "name": "stderr",
     "output_type": "stream",
     "text": [
      "# reads processed: 7865\n",
      "# reads with at least one alignment: 1 (0.01%)\n",
      "# reads that failed to align: 7864 (99.99%)\n",
      "Reported 1 alignments\n"
     ]
    },
    {
     "name": "stdout",
     "output_type": "stream",
     "text": [
      "/wynton/home/ahituv/fongsl/bin/bowtie/bowtie -x /wynton/home/ahituv/fongsl/nullomers/results/lock/library_design/15mer.fo.pam.scaffold.ext200.library.TWIST.index -f /wynton/home/ahituv/fongsl/nullomers/data/lock/colony_seq_16_20230630/99L8BQ_genbank_files/4_04.fa -n 3 >> /wynton/home/ahituv/fongsl/nullomers/data/lock/colony_seq_16_20230630/99L8BQ_genbank_files/library_bowtie_alignments.txt\n",
      "already wrote fasta /wynton/home/ahituv/fongsl/nullomers/data/lock/colony_seq_16_20230630/99L8BQ_genbank_files/13_13.fa\n"
     ]
    },
    {
     "name": "stderr",
     "output_type": "stream",
     "text": [
      "# reads processed: 7865\n",
      "# reads with at least one alignment: 1 (0.01%)\n",
      "# reads that failed to align: 7864 (99.99%)\n",
      "Reported 1 alignments\n"
     ]
    },
    {
     "name": "stdout",
     "output_type": "stream",
     "text": [
      "/wynton/home/ahituv/fongsl/bin/bowtie/bowtie -x /wynton/home/ahituv/fongsl/nullomers/results/lock/library_design/15mer.fo.pam.scaffold.ext200.library.TWIST.index -f /wynton/home/ahituv/fongsl/nullomers/data/lock/colony_seq_16_20230630/99L8BQ_genbank_files/13_13.fa -n 3 >> /wynton/home/ahituv/fongsl/nullomers/data/lock/colony_seq_16_20230630/99L8BQ_genbank_files/library_bowtie_alignments.txt\n",
      "already wrote fasta /wynton/home/ahituv/fongsl/nullomers/data/lock/colony_seq_16_20230630/99L8BQ_genbank_files/6_06.fa\n"
     ]
    },
    {
     "name": "stderr",
     "output_type": "stream",
     "text": [
      "# reads processed: 7863\n",
      "# reads with at least one alignment: 0 (0.00%)\n",
      "# reads that failed to align: 7863 (100.00%)\n",
      "No alignments\n"
     ]
    },
    {
     "name": "stdout",
     "output_type": "stream",
     "text": [
      "/wynton/home/ahituv/fongsl/bin/bowtie/bowtie -x /wynton/home/ahituv/fongsl/nullomers/results/lock/library_design/15mer.fo.pam.scaffold.ext200.library.TWIST.index -f /wynton/home/ahituv/fongsl/nullomers/data/lock/colony_seq_16_20230630/99L8BQ_genbank_files/6_06.fa -n 3 >> /wynton/home/ahituv/fongsl/nullomers/data/lock/colony_seq_16_20230630/99L8BQ_genbank_files/library_bowtie_alignments.txt\n",
      "already wrote fasta /wynton/home/ahituv/fongsl/nullomers/data/lock/colony_seq_16_20230630/99L8BQ_genbank_files/14_14.fa\n"
     ]
    },
    {
     "name": "stderr",
     "output_type": "stream",
     "text": [
      "# reads processed: 7865\n",
      "# reads with at least one alignment: 1 (0.01%)\n",
      "# reads that failed to align: 7864 (99.99%)\n",
      "Reported 1 alignments\n"
     ]
    },
    {
     "name": "stdout",
     "output_type": "stream",
     "text": [
      "/wynton/home/ahituv/fongsl/bin/bowtie/bowtie -x /wynton/home/ahituv/fongsl/nullomers/results/lock/library_design/15mer.fo.pam.scaffold.ext200.library.TWIST.index -f /wynton/home/ahituv/fongsl/nullomers/data/lock/colony_seq_16_20230630/99L8BQ_genbank_files/14_14.fa -n 3 >> /wynton/home/ahituv/fongsl/nullomers/data/lock/colony_seq_16_20230630/99L8BQ_genbank_files/library_bowtie_alignments.txt\n",
      "already wrote fasta /wynton/home/ahituv/fongsl/nullomers/data/lock/colony_seq_16_20230630/99L8BQ_genbank_files/1_01.fa\n"
     ]
    },
    {
     "name": "stderr",
     "output_type": "stream",
     "text": [
      "# reads processed: 7865\n",
      "# reads with at least one alignment: 1 (0.01%)\n",
      "# reads that failed to align: 7864 (99.99%)\n",
      "Reported 1 alignments\n"
     ]
    },
    {
     "name": "stdout",
     "output_type": "stream",
     "text": [
      "/wynton/home/ahituv/fongsl/bin/bowtie/bowtie -x /wynton/home/ahituv/fongsl/nullomers/results/lock/library_design/15mer.fo.pam.scaffold.ext200.library.TWIST.index -f /wynton/home/ahituv/fongsl/nullomers/data/lock/colony_seq_16_20230630/99L8BQ_genbank_files/1_01.fa -n 3 >> /wynton/home/ahituv/fongsl/nullomers/data/lock/colony_seq_16_20230630/99L8BQ_genbank_files/library_bowtie_alignments.txt\n",
      "already wrote fasta /wynton/home/ahituv/fongsl/nullomers/data/lock/colony_seq_16_20230630/99L8BQ_genbank_files/8_08.fa\n"
     ]
    },
    {
     "name": "stderr",
     "output_type": "stream",
     "text": [
      "# reads processed: 7865\n",
      "# reads with at least one alignment: 1 (0.01%)\n",
      "# reads that failed to align: 7864 (99.99%)\n",
      "Reported 1 alignments\n"
     ]
    },
    {
     "name": "stdout",
     "output_type": "stream",
     "text": [
      "/wynton/home/ahituv/fongsl/bin/bowtie/bowtie -x /wynton/home/ahituv/fongsl/nullomers/results/lock/library_design/15mer.fo.pam.scaffold.ext200.library.TWIST.index -f /wynton/home/ahituv/fongsl/nullomers/data/lock/colony_seq_16_20230630/99L8BQ_genbank_files/8_08.fa -n 3 >> /wynton/home/ahituv/fongsl/nullomers/data/lock/colony_seq_16_20230630/99L8BQ_genbank_files/library_bowtie_alignments.txt\n",
      "already wrote fasta /wynton/home/ahituv/fongsl/nullomers/data/lock/colony_seq_16_20230630/99L8BQ_genbank_files/16_16.fa\n"
     ]
    },
    {
     "name": "stderr",
     "output_type": "stream",
     "text": [
      "# reads processed: 7865\n",
      "# reads with at least one alignment: 1 (0.01%)\n",
      "# reads that failed to align: 7864 (99.99%)\n",
      "Reported 1 alignments\n"
     ]
    },
    {
     "name": "stdout",
     "output_type": "stream",
     "text": [
      "/wynton/home/ahituv/fongsl/bin/bowtie/bowtie -x /wynton/home/ahituv/fongsl/nullomers/results/lock/library_design/15mer.fo.pam.scaffold.ext200.library.TWIST.index -f /wynton/home/ahituv/fongsl/nullomers/data/lock/colony_seq_16_20230630/99L8BQ_genbank_files/16_16.fa -n 3 >> /wynton/home/ahituv/fongsl/nullomers/data/lock/colony_seq_16_20230630/99L8BQ_genbank_files/library_bowtie_alignments.txt\n",
      "already wrote fasta /wynton/home/ahituv/fongsl/nullomers/data/lock/colony_seq_16_20230630/99L8BQ_genbank_files/3_03.fa\n"
     ]
    },
    {
     "name": "stderr",
     "output_type": "stream",
     "text": [
      "# reads processed: 7865\n",
      "# reads with at least one alignment: 1 (0.01%)\n",
      "# reads that failed to align: 7864 (99.99%)\n",
      "Reported 1 alignments\n"
     ]
    },
    {
     "name": "stdout",
     "output_type": "stream",
     "text": [
      "/wynton/home/ahituv/fongsl/bin/bowtie/bowtie -x /wynton/home/ahituv/fongsl/nullomers/results/lock/library_design/15mer.fo.pam.scaffold.ext200.library.TWIST.index -f /wynton/home/ahituv/fongsl/nullomers/data/lock/colony_seq_16_20230630/99L8BQ_genbank_files/3_03.fa -n 3 >> /wynton/home/ahituv/fongsl/nullomers/data/lock/colony_seq_16_20230630/99L8BQ_genbank_files/library_bowtie_alignments.txt\n",
      "already wrote fasta /wynton/home/ahituv/fongsl/nullomers/data/lock/colony_seq_16_20230630/99L8BQ_genbank_files/5_05.fa\n"
     ]
    },
    {
     "name": "stderr",
     "output_type": "stream",
     "text": [
      "# reads processed: 7865\n",
      "# reads with at least one alignment: 1 (0.01%)\n",
      "# reads that failed to align: 7864 (99.99%)\n",
      "Reported 1 alignments\n"
     ]
    },
    {
     "name": "stdout",
     "output_type": "stream",
     "text": [
      "/wynton/home/ahituv/fongsl/bin/bowtie/bowtie -x /wynton/home/ahituv/fongsl/nullomers/results/lock/library_design/15mer.fo.pam.scaffold.ext200.library.TWIST.index -f /wynton/home/ahituv/fongsl/nullomers/data/lock/colony_seq_16_20230630/99L8BQ_genbank_files/5_05.fa -n 3 >> /wynton/home/ahituv/fongsl/nullomers/data/lock/colony_seq_16_20230630/99L8BQ_genbank_files/library_bowtie_alignments.txt\n",
      "already wrote fasta /wynton/home/ahituv/fongsl/nullomers/data/lock/colony_seq_16_20230630/99L8BQ_genbank_files/10_10.fa\n"
     ]
    },
    {
     "name": "stderr",
     "output_type": "stream",
     "text": [
      "# reads processed: 7863\n",
      "# reads with at least one alignment: 0 (0.00%)\n",
      "# reads that failed to align: 7863 (100.00%)\n",
      "No alignments\n"
     ]
    },
    {
     "name": "stdout",
     "output_type": "stream",
     "text": [
      "/wynton/home/ahituv/fongsl/bin/bowtie/bowtie -x /wynton/home/ahituv/fongsl/nullomers/results/lock/library_design/15mer.fo.pam.scaffold.ext200.library.TWIST.index -f /wynton/home/ahituv/fongsl/nullomers/data/lock/colony_seq_16_20230630/99L8BQ_genbank_files/10_10.fa -n 3 >> /wynton/home/ahituv/fongsl/nullomers/data/lock/colony_seq_16_20230630/99L8BQ_genbank_files/library_bowtie_alignments.txt\n",
      "already wrote fasta /wynton/home/ahituv/fongsl/nullomers/data/lock/colony_seq_16_20230630/99L8BQ_genbank_files/7_07.fa\n"
     ]
    },
    {
     "name": "stderr",
     "output_type": "stream",
     "text": [
      "# reads processed: 7865\n",
      "# reads with at least one alignment: 1 (0.01%)\n",
      "# reads that failed to align: 7864 (99.99%)\n",
      "Reported 1 alignments\n"
     ]
    },
    {
     "name": "stdout",
     "output_type": "stream",
     "text": [
      "/wynton/home/ahituv/fongsl/bin/bowtie/bowtie -x /wynton/home/ahituv/fongsl/nullomers/results/lock/library_design/15mer.fo.pam.scaffold.ext200.library.TWIST.index -f /wynton/home/ahituv/fongsl/nullomers/data/lock/colony_seq_16_20230630/99L8BQ_genbank_files/7_07.fa -n 3 >> /wynton/home/ahituv/fongsl/nullomers/data/lock/colony_seq_16_20230630/99L8BQ_genbank_files/library_bowtie_alignments.txt\n",
      "already wrote fasta /wynton/home/ahituv/fongsl/nullomers/data/lock/colony_seq_16_20230630/99L8BQ_genbank_files/12_12.fa\n",
      "/wynton/home/ahituv/fongsl/bin/bowtie/bowtie -x /wynton/home/ahituv/fongsl/nullomers/results/lock/library_design/15mer.fo.pam.scaffold.ext200.library.TWIST.index -f /wynton/home/ahituv/fongsl/nullomers/data/lock/colony_seq_16_20230630/99L8BQ_genbank_files/12_12.fa -n 3 >> /wynton/home/ahituv/fongsl/nullomers/data/lock/colony_seq_16_20230630/99L8BQ_genbank_files/library_bowtie_alignments.txt\n"
     ]
    },
    {
     "name": "stderr",
     "output_type": "stream",
     "text": [
      "# reads processed: 7858\n",
      "# reads with at least one alignment: 0 (0.00%)\n",
      "# reads that failed to align: 7858 (100.00%)\n",
      "No alignments\n"
     ]
    }
   ],
   "source": [
    "WINDOWSIZE = 230\n",
    "\n",
    "GB_FILE_QUERY = os.path.join(GB_PATH, \"*.gbk\")\n",
    "GB_FILES = glob.glob(GB_FILE_QUERY)\n",
    "\n",
    "for input_handle in GB_FILES:\n",
    "    \n",
    "    for record in SeqIO.parse(input_handle, \"genbank\"):\n",
    "        sequence = record.seq  # get the sequence record. \n",
    "        sequence_id = os.path.split(input_handle)[1]\n",
    "        \n",
    "        # break up sequence into sliding window, 230bp long\n",
    "        windows_dict = makeWindows(\"\".join(sequence), WINDOWSIZE)\n",
    "\n",
    "        # make a dataframe from dictionary\n",
    "        windows_df = pd.DataFrame(windows_dict.items())\n",
    "        windows_df[0] = windows_df[0]+\"|\"+sequence_id\n",
    "\n",
    "        # add handle id to the window id\n",
    "        file_fa = os.path.splitext(input_handle)[0]+\".fa\" \n",
    "\n",
    "        # write fa\n",
    "        fastaWriter(file_fa, windows_df)\n",
    "        \n",
    "        # run bowtie alignment\n",
    "        runBowtie(BIN_BOWTIE, TARGET_INDEX, file_fa, BOWTIE_OUT)\n"
   ]
  },
  {
   "cell_type": "code",
   "execution_count": 29,
   "id": "e21c41b3",
   "metadata": {
    "ExecuteTime": {
     "end_time": "2023-07-04T02:20:13.322755Z",
     "start_time": "2023-07-04T02:20:13.261672Z"
    }
   },
   "outputs": [
    {
     "name": "stdout",
     "output_type": "stream",
     "text": [
      "12 /wynton/home/ahituv/fongsl/nullomers/data/lock/colony_seq_16_20230630/99L8BQ_genbank_files/library_bowtie_alignments.txt\n"
     ]
    }
   ],
   "source": [
    "%%bash\n",
    "wc -l /wynton/home/ahituv/fongsl/nullomers/data/lock/colony_seq_16_20230630/99L8BQ_genbank_files/library_bowtie_alignments.txt"
   ]
  },
  {
   "cell_type": "code",
   "execution_count": 32,
   "id": "d9f5e50a",
   "metadata": {
    "ExecuteTime": {
     "end_time": "2023-07-04T02:27:59.777518Z",
     "start_time": "2023-07-04T02:27:59.769119Z"
    }
   },
   "outputs": [],
   "source": [
    "crw.write(config, cfn)"
   ]
  },
  {
   "cell_type": "code",
   "execution_count": null,
   "id": "ded34a2b",
   "metadata": {},
   "outputs": [],
   "source": []
  }
 ],
 "metadata": {
  "kernelspec": {
   "display_name": "Python (mamba)",
   "language": "python",
   "name": "mamba"
  },
  "language_info": {
   "codemirror_mode": {
    "name": "ipython",
    "version": 3
   },
   "file_extension": ".py",
   "mimetype": "text/x-python",
   "name": "python",
   "nbconvert_exporter": "python",
   "pygments_lexer": "ipython3",
   "version": "3.9.16"
  },
  "toc": {
   "base_numbering": 1,
   "nav_menu": {},
   "number_sections": true,
   "sideBar": true,
   "skip_h1_title": false,
   "title_cell": "Table of Contents",
   "title_sidebar": "Contents",
   "toc_cell": false,
   "toc_position": {},
   "toc_section_display": true,
   "toc_window_display": false
  },
  "varInspector": {
   "cols": {
    "lenName": 16,
    "lenType": 16,
    "lenVar": 40
   },
   "kernels_config": {
    "python": {
     "delete_cmd_postfix": "",
     "delete_cmd_prefix": "del ",
     "library": "var_list.py",
     "varRefreshCmd": "print(var_dic_list())"
    },
    "r": {
     "delete_cmd_postfix": ") ",
     "delete_cmd_prefix": "rm(",
     "library": "var_list.r",
     "varRefreshCmd": "cat(var_dic_list()) "
    }
   },
   "types_to_exclude": [
    "module",
    "function",
    "builtin_function_or_method",
    "instance",
    "_Feature"
   ],
   "window_display": false
  }
 },
 "nbformat": 4,
 "nbformat_minor": 5
}
