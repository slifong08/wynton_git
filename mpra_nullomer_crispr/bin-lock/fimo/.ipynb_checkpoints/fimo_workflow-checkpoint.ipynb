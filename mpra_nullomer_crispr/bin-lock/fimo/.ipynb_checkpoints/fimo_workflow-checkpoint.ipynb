{
 "cells": [
  {
   "cell_type": "code",
   "execution_count": 8,
   "id": "3bf29ee9",
   "metadata": {
    "ExecuteTime": {
     "end_time": "2023-08-09T16:58:42.043570Z",
     "start_time": "2023-08-09T16:58:42.039702Z"
    }
   },
   "outputs": [],
   "source": [
    "import os, sys"
   ]
  },
  {
   "cell_type": "code",
   "execution_count": 9,
   "id": "c4850b02",
   "metadata": {
    "ExecuteTime": {
     "end_time": "2023-08-09T18:02:44.826189Z",
     "start_time": "2023-08-09T18:02:44.823612Z"
    }
   },
   "outputs": [],
   "source": [
    "BED = \"/wynton/group/ahituv/biomarin/library_1/Design/unq_tiles.lib1.bed\"\n",
    "BUILD = \"hg38\""
   ]
  },
  {
   "cell_type": "code",
   "execution_count": 10,
   "id": "ba033937",
   "metadata": {},
   "outputs": [
    {
     "data": {
      "text/plain": [
       "'/wynton/home/ahituv/fongsl'"
      ]
     },
     "execution_count": 10,
     "metadata": {},
     "output_type": "execute_result"
    }
   ],
   "source": [
    "print(\"$HOME:\", os.environ[\"HOME\"]"
   ]
  },
  {
   "cell_type": "code",
   "execution_count": 11,
   "id": "b34ed8b5",
   "metadata": {
    "ExecuteTime": {
     "end_time": "2023-08-09T18:49:54.875526Z",
     "start_time": "2023-08-09T18:49:54.871620Z"
    }
   },
   "outputs": [],
   "source": [
    "def runFimo(input_file, build):\n",
    "    FIMO = os.path.join(os.environ[\"HOME\"], \"tools\", \"genome\", \"fimo.sh\") # .py if you want to run in cmd line\n",
    "    CONFIG = os.path.join(os.getcwd(), \"config.ini\")\n",
    "    \n",
    "    if os.path.exists(CONFIG) is False:\n",
    "        os.system(f\"touch {CONFIG}\")\n",
    "    \n",
    "    cmd = \" \".join([\n",
    "        \"qsub\", \n",
    "        FIMO,\n",
    "        input_file,\n",
    "        f\"-c {CONFIG}\",\n",
    "        f\"-g {build}\"\n",
    "    ])\n",
    "    print(\"running fimo\", cmd)\n",
    "    os.system(cmd)"
   ]
  },
  {
   "cell_type": "code",
   "execution_count": 12,
   "id": "6e31216c",
   "metadata": {
    "ExecuteTime": {
     "end_time": "2023-08-09T19:30:31.931929Z",
     "start_time": "2023-08-09T18:52:48.720123Z"
    }
   },
   "outputs": [
    {
     "name": "stdout",
     "output_type": "stream",
     "text": [
      "running fimo qsub /wynton/home/ahituv/fongsl/tools/genome/fimo.sh /wynton/group/ahituv/biomarin/library_1/Design/unq_tiles.lib1.bed -c /wynton/home/ahituv/fongsl/nullomers/bin-lock/fimo/config.ini -g hg38\n",
      "Your job 1017403 (\"fimo.sh\") has been submitted\n"
     ]
    }
   ],
   "source": [
    "runFimo(BED, BUILD)"
   ]
  }
 ],
 "metadata": {
  "kernelspec": {
   "display_name": "Python (mamba)",
   "language": "python",
   "name": "mamba"
  },
  "language_info": {
   "codemirror_mode": {
    "name": "ipython",
    "version": 3
   },
   "file_extension": ".py",
   "mimetype": "text/x-python",
   "name": "python",
   "nbconvert_exporter": "python",
   "pygments_lexer": "ipython3",
   "version": "3.9.16"
  },
  "toc": {
   "base_numbering": 1,
   "nav_menu": {},
   "number_sections": true,
   "sideBar": true,
   "skip_h1_title": false,
   "title_cell": "Table of Contents",
   "title_sidebar": "Contents",
   "toc_cell": false,
   "toc_position": {},
   "toc_section_display": true,
   "toc_window_display": false
  },
  "varInspector": {
   "cols": {
    "lenName": 16,
    "lenType": 16,
    "lenVar": 40
   },
   "kernels_config": {
    "python": {
     "delete_cmd_postfix": "",
     "delete_cmd_prefix": "del ",
     "library": "var_list.py",
     "varRefreshCmd": "print(var_dic_list())"
    },
    "r": {
     "delete_cmd_postfix": ") ",
     "delete_cmd_prefix": "rm(",
     "library": "var_list.r",
     "varRefreshCmd": "cat(var_dic_list()) "
    }
   },
   "types_to_exclude": [
    "module",
    "function",
    "builtin_function_or_method",
    "instance",
    "_Feature"
   ],
   "window_display": false
  }
 },
 "nbformat": 4,
 "nbformat_minor": 5
}
