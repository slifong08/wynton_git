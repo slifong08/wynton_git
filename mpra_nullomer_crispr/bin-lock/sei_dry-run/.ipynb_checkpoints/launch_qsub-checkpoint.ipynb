{
 "cells": [
  {
   "cell_type": "code",
   "execution_count": 1,
   "id": "31f9ccf8",
   "metadata": {
    "ExecuteTime": {
     "end_time": "2023-03-29T15:26:01.147912Z",
     "start_time": "2023-03-29T15:26:01.142644Z"
    }
   },
   "outputs": [],
   "source": [
    "import os, sys"
   ]
  },
  {
   "cell_type": "code",
   "execution_count": 3,
   "id": "228757e3",
   "metadata": {
    "ExecuteTime": {
     "end_time": "2023-03-29T15:27:06.174476Z",
     "start_time": "2023-03-29T15:27:06.167136Z"
    }
   },
   "outputs": [
    {
     "name": "stdout",
     "output_type": "stream",
     "text": [
      "/wynton/home/ahituv/fongsl/nullomers/bin-lock/gapdh.2048.100.14mers.fa\n"
     ]
    }
   ],
   "source": [
    "FILENAME = \"gapdh.2048.100.14mers.fa\"\n",
    "FILE = os.path.join(os.path.dirname(os.getcwd()), FILENAME)"
   ]
  },
  {
   "cell_type": "code",
   "execution_count": 22,
   "id": "2b0ce0e0",
   "metadata": {
    "ExecuteTime": {
     "end_time": "2023-03-29T15:34:28.161443Z",
     "start_time": "2023-03-29T15:34:28.154827Z"
    }
   },
   "outputs": [],
   "source": [
    "BUILD = \"hg38\"\n",
    "OUTDIR =  os.path.join(os.path.dirname(os.getcwd()),\"gapdh_pred\")\n",
    "QSUB =  os.path.join(os.getcwd(),\"interpret_sei.sh\")"
   ]
  },
  {
   "cell_type": "code",
   "execution_count": 23,
   "id": "f0869715",
   "metadata": {
    "ExecuteTime": {
     "end_time": "2023-03-29T15:34:28.707169Z",
     "start_time": "2023-03-29T15:34:28.659835Z"
    }
   },
   "outputs": [
    {
     "name": "stderr",
     "output_type": "stream",
     "text": [
      "qsub: Unknown option \n",
      "\n"
     ]
    },
    {
     "data": {
      "text/plain": [
       "1280"
      ]
     },
     "execution_count": 23,
     "metadata": {},
     "output_type": "execute_result"
    }
   ],
   "source": [
    "cmd = [\"qsub\", QSUB, FILE, BUILD, OUTDIR]\n",
    "os.system(\" \".join(cmd))"
   ]
  },
  {
   "cell_type": "code",
   "execution_count": 18,
   "id": "5632d38f",
   "metadata": {
    "ExecuteTime": {
     "end_time": "2023-03-29T15:31:22.522056Z",
     "start_time": "2023-03-29T15:31:22.514760Z"
    }
   },
   "outputs": [
    {
     "name": "stdout",
     "output_type": "stream",
     "text": [
      "qsub /wynton/home/ahituv/fongsl/nullomers/bin-lock/sei/interpret_sei.sh /wynton/home/ahituv/fongsl/nullomers/bin-lock/gapdh.2048.100.14mers.fa hg38 /wynton/home/ahituv/fongsl/nullomers/bin-lock/gapdh_pred\n"
     ]
    }
   ],
   "source": [
    "print(\" \".join(cmd))"
   ]
  },
  {
   "cell_type": "code",
   "execution_count": null,
   "id": "b7fb5d49",
   "metadata": {},
   "outputs": [],
   "source": []
  }
 ],
 "metadata": {
  "kernelspec": {
   "display_name": "Python (sei)",
   "language": "python",
   "name": "sei"
  },
  "language_info": {
   "codemirror_mode": {
    "name": "ipython",
    "version": 3
   },
   "file_extension": ".py",
   "mimetype": "text/x-python",
   "name": "python",
   "nbconvert_exporter": "python",
   "pygments_lexer": "ipython3",
   "version": "3.9.16"
  },
  "toc": {
   "base_numbering": 1,
   "nav_menu": {},
   "number_sections": true,
   "sideBar": true,
   "skip_h1_title": false,
   "title_cell": "Table of Contents",
   "title_sidebar": "Contents",
   "toc_cell": false,
   "toc_position": {},
   "toc_section_display": true,
   "toc_window_display": false
  },
  "varInspector": {
   "cols": {
    "lenName": 16,
    "lenType": 16,
    "lenVar": 40
   },
   "kernels_config": {
    "python": {
     "delete_cmd_postfix": "",
     "delete_cmd_prefix": "del ",
     "library": "var_list.py",
     "varRefreshCmd": "print(var_dic_list())"
    },
    "r": {
     "delete_cmd_postfix": ") ",
     "delete_cmd_prefix": "rm(",
     "library": "var_list.r",
     "varRefreshCmd": "cat(var_dic_list()) "
    }
   },
   "types_to_exclude": [
    "module",
    "function",
    "builtin_function_or_method",
    "instance",
    "_Feature"
   ],
   "window_display": false
  }
 },
 "nbformat": 4,
 "nbformat_minor": 5
}
