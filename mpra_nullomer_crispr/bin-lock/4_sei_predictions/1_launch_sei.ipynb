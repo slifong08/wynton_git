{
 "cells": [
  {
   "cell_type": "code",
   "execution_count": 1,
   "id": "7e992607",
   "metadata": {
    "ExecuteTime": {
     "end_time": "2023-08-22T17:35:57.850492Z",
     "start_time": "2023-08-22T17:35:57.847199Z"
    }
   },
   "outputs": [],
   "source": [
    "import os, sys\n",
    "import subprocess as sp"
   ]
  },
  {
   "cell_type": "markdown",
   "id": "8eacdd28",
   "metadata": {},
   "source": [
    "# function "
   ]
  },
  {
   "cell_type": "code",
   "execution_count": 9,
   "id": "64c59f69",
   "metadata": {
    "ExecuteTime": {
     "end_time": "2023-06-02T00:10:49.585016Z",
     "start_time": "2023-06-02T00:10:49.577154Z"
    }
   },
   "outputs": [],
   "source": [
    "def launchSei(fasta, build):\n",
    "\n",
    "    SEIDIR = os.path.join(os.path.split(fasta)[0], \"sei_predictions\")\n",
    "\n",
    "    if os.path.exists(SEIDIR) is False:\n",
    "        os.mkdir(SEIDIR)\n",
    "        \n",
    "    print(SEIDIR)\n",
    "\n",
    "    SCRIPT = \"/wynton/home/ahituv/fongsl/bin/sei-framework/sarah_scripts/launch_qsub.py\"\n",
    "\n",
    "    cmd = ['python',\n",
    "           SCRIPT,\n",
    "           file,\n",
    "           build,\n",
    "           SEIDIR,\n",
    "           \"True\"\n",
    "           ]\n",
    "    print(\" \".join(cmd))\n",
    "    #sp.call(\" \".join(cmd), shell=True)"
   ]
  },
  {
   "cell_type": "markdown",
   "id": "518436cc",
   "metadata": {},
   "source": [
    "# run part 1"
   ]
  },
  {
   "cell_type": "code",
   "execution_count": 6,
   "id": "a5f7e69d",
   "metadata": {
    "ExecuteTime": {
     "end_time": "2023-06-02T00:10:32.480629Z",
     "start_time": "2023-06-02T00:10:32.476088Z"
    }
   },
   "outputs": [],
   "source": [
    "# 215850\n",
    "out = \"/wynton/home/ahituv/fongsl/nullomers/results/lock/library_design/15mer.fo.pam.scaffold.ext4096.fa\""
   ]
  },
  {
   "cell_type": "code",
   "execution_count": 10,
   "id": "0db70091",
   "metadata": {
    "ExecuteTime": {
     "end_time": "2023-06-02T00:10:52.002286Z",
     "start_time": "2023-06-02T00:10:51.854345Z"
    }
   },
   "outputs": [
    {
     "name": "stdout",
     "output_type": "stream",
     "text": [
      "/wynton/home/ahituv/fongsl/nullomers/results/lock/library_design/sei_predictions\n",
      "python /wynton/home/ahituv/fongsl/bin/sei-framework/sarah_scripts/launch_qsub.py /wynton/home/ahituv/fongsl/nullomers/results/lock/library_design/15mer.fo.pam.scaffold.ext4096.fa hg38 /wynton/home/ahituv/fongsl/nullomers/results/lock/library_design/sei_predictions True\n",
      "Your job 9247269 (\"interpret_sei-gpu.sh\") has been submitted\n"
     ]
    }
   ],
   "source": [
    "launchSei(out, \"hg38\")"
   ]
  },
  {
   "cell_type": "markdown",
   "id": "141253d9",
   "metadata": {},
   "source": [
    "#  run part 2 - predict 40 sequence classes from the 22K feature predictions in part 1"
   ]
  },
  {
   "cell_type": "code",
   "execution_count": 3,
   "id": "bb17c51e",
   "metadata": {
    "ExecuteTime": {
     "end_time": "2023-06-05T21:04:50.990899Z",
     "start_time": "2023-06-05T21:04:50.976914Z"
    }
   },
   "outputs": [
    {
     "data": {
      "text/plain": [
       "'/wynton/home/ahituv/fongsl/nullomers/results/lock/library_design/sei-gpu/chromatin-profiles-hdf5/15mer.fo.pam.scaffold.ext4096_predictions.h5'"
      ]
     },
     "execution_count": 3,
     "metadata": {},
     "output_type": "execute_result"
    }
   ],
   "source": [
    "PATH= \"/wynton/home/ahituv/fongsl/nullomers/results/lock/library_design/sei-gpu/chromatin-profiles-hdf5\"\n",
    "HANDLE = \"15mer.fo.pam.scaffold.ext4096\"\n",
    "\n",
    "#15mer.fo.pam.scaffold.ext4096_predictions.h5\n",
    "F = os.path.join(PATH, HANDLE + \"_predictions.h5\")\n",
    "F"
   ]
  },
  {
   "cell_type": "code",
   "execution_count": 4,
   "id": "69ae08a0",
   "metadata": {
    "ExecuteTime": {
     "end_time": "2023-06-05T21:06:20.294081Z",
     "start_time": "2023-06-05T21:06:20.282188Z"
    }
   },
   "outputs": [
    {
     "name": "stdout",
     "output_type": "stream",
     "text": [
      "bash /wynton/home/ahituv/fongsl/bin/sei-framework/2_raw_sc_score.sh /wynton/home/ahituv/fongsl/nullomers/results/lock/library_design/sei-gpu/chromatin-profiles-hdf5/15mer.fo.pam.scaffold.ext4096_predictions.h5 /wynton/home/ahituv/fongsl/nullomers/results/lock/library_design/sei-gpu/chromatin-profiles-hdf5\n"
     ]
    }
   ],
   "source": [
    "os.chdir(\"/wynton/home/ahituv/fongsl/bin/sei-framework\")\n",
    "\n",
    "# results file\n",
    "OUT =  os.path.join(PATH,\n",
    "             f\"{HANDLE}.raw_sequence_class_scores.npy\")\n",
    "\n",
    "# infile\n",
    "F = os.path.join(\n",
    "    PATH, f\"{HANDLE}_predictions.h5\")\n",
    "\n",
    "# sei part 2 command\n",
    "cmd = [\n",
    "        \"bash /wynton/home/ahituv/fongsl/bin/sei-framework/2_raw_sc_score.sh\",\n",
    "        F, \n",
    "        PATH\n",
    "        ]\n",
    "\n",
    "# if not already run\n",
    "if os.path.exists(OUT) is False:\n",
    "    print(\" \".join(cmd))\n",
    "    #os.system(\" \".join(cmd))  # rn run in command line because of environment problem that you need to solve. "
   ]
  },
  {
   "cell_type": "code",
   "execution_count": null,
   "id": "3b2e145a",
   "metadata": {},
   "outputs": [],
   "source": []
  }
 ],
 "metadata": {
  "kernelspec": {
   "display_name": "Python (mamba)",
   "language": "python",
   "name": "mamba"
  },
  "language_info": {
   "codemirror_mode": {
    "name": "ipython",
    "version": 3
   },
   "file_extension": ".py",
   "mimetype": "text/x-python",
   "name": "python",
   "nbconvert_exporter": "python",
   "pygments_lexer": "ipython3",
   "version": "3.9.16"
  },
  "toc": {
   "base_numbering": 1,
   "nav_menu": {},
   "number_sections": true,
   "sideBar": true,
   "skip_h1_title": false,
   "title_cell": "Table of Contents",
   "title_sidebar": "Contents",
   "toc_cell": false,
   "toc_position": {},
   "toc_section_display": true,
   "toc_window_display": false
  },
  "varInspector": {
   "cols": {
    "lenName": 16,
    "lenType": 16,
    "lenVar": 40
   },
   "kernels_config": {
    "python": {
     "delete_cmd_postfix": "",
     "delete_cmd_prefix": "del ",
     "library": "var_list.py",
     "varRefreshCmd": "print(var_dic_list())"
    },
    "r": {
     "delete_cmd_postfix": ") ",
     "delete_cmd_prefix": "rm(",
     "library": "var_list.r",
     "varRefreshCmd": "cat(var_dic_list()) "
    }
   },
   "types_to_exclude": [
    "module",
    "function",
    "builtin_function_or_method",
    "instance",
    "_Feature"
   ],
   "window_display": false
  }
 },
 "nbformat": 4,
 "nbformat_minor": 5
}
