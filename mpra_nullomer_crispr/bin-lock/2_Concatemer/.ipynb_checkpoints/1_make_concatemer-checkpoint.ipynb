{
 "cells": [
  {
   "cell_type": "markdown",
   "id": "b13b5837",
   "metadata": {},
   "source": [
    "# concatenate nullomers into concatemers. \n",
    "- make matching kmer concatemers using bowtie. "
   ]
  },
  {
   "cell_type": "code",
   "execution_count": 1,
   "id": "e9e64da2",
   "metadata": {
    "ExecuteTime": {
     "end_time": "2023-05-31T21:09:04.284858Z",
     "start_time": "2023-05-31T21:09:02.559727Z"
    }
   },
   "outputs": [],
   "source": [
    "from Bio.SeqIO.FastaIO import SimpleFastaParser\n",
    "from Bio.Seq import Seq\n",
    "from Bio.SeqUtils import gc_fraction\n",
    "import config_readwrite as crw\n",
    "\n",
    "import glob\n",
    "import gzip\n",
    "import numpy as np\n",
    "import os, sys\n",
    "import pandas as pd\n",
    "import subprocess as sp"
   ]
  },
  {
   "cell_type": "code",
   "execution_count": 2,
   "id": "d2cce306",
   "metadata": {
    "ExecuteTime": {
     "end_time": "2023-05-31T21:09:04.909506Z",
     "start_time": "2023-05-31T21:09:04.899364Z"
    }
   },
   "outputs": [],
   "source": [
    "CL, MER, NMUTS, BUILD, FO_ONLY = \"common\", \"15\", \"2\", \"hs1\", True\n",
    "config, cfn = crw.read(os.path.join(os.path.dirname(os.getcwd()), \"config.ini\"))"
   ]
  },
  {
   "cell_type": "code",
   "execution_count": 3,
   "id": "20a98be6",
   "metadata": {
    "ExecuteTime": {
     "end_time": "2023-05-31T21:09:09.816518Z",
     "start_time": "2023-05-31T21:09:09.806795Z"
    }
   },
   "outputs": [],
   "source": [
    "# number of sequences per construct\n",
    "NSEQS = 13\n",
    "\n",
    "TSV_MUT= f'/wynton/home/ahituv/fongsl/nullomers/data/lock/common/common.{MER}mers.2mut.nulls.fo.pam.tsv'\n",
    "TSV_MUTCONCAT= f'/wynton/home/ahituv/fongsl/nullomers/data/lock/common/common.{MER}mers.2mut.nulls.fo.pam.CONCAT-{NSEQS}.tsv'\n",
    "seed = config[\"seed\"][f'{MER}mer_morethan1bprelated']\n",
    "\n",
    "section = f\"{MER}.firstorder.pam\"\n",
    "crw.check(config,section)\n",
    "\n",
    "config[section][\"tsv\"] = TSV_MUT\n",
    "config[section][f\"concat-{NSEQS}\"] = TSV_MUTCONCAT\n",
    "\n",
    "crw.write(config, cfn)"
   ]
  },
  {
   "cell_type": "markdown",
   "id": "e8f26791",
   "metadata": {},
   "source": [
    "# load data"
   ]
  },
  {
   "cell_type": "code",
   "execution_count": 23,
   "id": "46cf2c52",
   "metadata": {
    "ExecuteTime": {
     "end_time": "2023-05-31T21:16:38.419691Z",
     "start_time": "2023-05-31T21:16:38.399328Z"
    }
   },
   "outputs": [
    {
     "data": {
      "text/plain": [
       "(4224, 1)"
      ]
     },
     "execution_count": 23,
     "metadata": {},
     "output_type": "execute_result"
    }
   ],
   "source": [
    "df = pd.read_csv(seed, sep='\\t',  header=None,  names=[f\"{MER}_pam_fo\"])\n",
    "\n",
    "df.shape"
   ]
  },
  {
   "cell_type": "markdown",
   "id": "6b1afaf0",
   "metadata": {},
   "source": [
    "## shuffle nullomers"
   ]
  },
  {
   "cell_type": "code",
   "execution_count": 24,
   "id": "08dec73b",
   "metadata": {
    "ExecuteTime": {
     "end_time": "2023-05-31T21:16:39.707482Z",
     "start_time": "2023-05-31T21:16:39.698884Z"
    }
   },
   "outputs": [],
   "source": [
    "# shuffle the dataframe\n",
    "df_shuffled = df.sample(frac=1).to_numpy()"
   ]
  },
  {
   "cell_type": "code",
   "execution_count": 25,
   "id": "4173c61e",
   "metadata": {
    "ExecuteTime": {
     "end_time": "2023-05-31T21:16:40.205407Z",
     "start_time": "2023-05-31T21:16:40.199353Z"
    }
   },
   "outputs": [
    {
     "data": {
      "text/plain": [
       "array([['TATTCGCTCAACCGG'],\n",
       "       ['AACGAATGTCGACGG'],\n",
       "       ['TAACGTCGAGTGCGG'],\n",
       "       ...,\n",
       "       ['CGCGACATACAACGG'],\n",
       "       ['CCTTCGCGTAAACGG'],\n",
       "       ['TCGGTACGAAGTCGG']], dtype=object)"
      ]
     },
     "execution_count": 25,
     "metadata": {},
     "output_type": "execute_result"
    }
   ],
   "source": [
    "df_shuffled"
   ]
  },
  {
   "cell_type": "markdown",
   "id": "e9f3e3c0",
   "metadata": {},
   "source": [
    "## split shuffled nullomers, NSEQS per array"
   ]
  },
  {
   "cell_type": "code",
   "execution_count": 26,
   "id": "2e4e7c15",
   "metadata": {
    "ExecuteTime": {
     "end_time": "2023-05-31T21:16:45.717695Z",
     "start_time": "2023-05-31T21:16:45.713471Z"
    }
   },
   "outputs": [],
   "source": [
    "# split the array into equally sized parts w/ nseqs per part\n",
    "df_splits = np.array_split(df_shuffled, int(len(df_shuffled)/NSEQS)+1)"
   ]
  },
  {
   "cell_type": "code",
   "execution_count": 27,
   "id": "432add09",
   "metadata": {
    "ExecuteTime": {
     "end_time": "2023-05-31T21:16:46.187233Z",
     "start_time": "2023-05-31T21:16:46.181117Z"
    }
   },
   "outputs": [
    {
     "data": {
      "text/plain": [
       "325"
      ]
     },
     "execution_count": 27,
     "metadata": {},
     "output_type": "execute_result"
    }
   ],
   "source": [
    "len(df_splits)"
   ]
  },
  {
   "cell_type": "markdown",
   "id": "e866b50b",
   "metadata": {},
   "source": [
    "# make sequences from shuffled, split arrays "
   ]
  },
  {
   "cell_type": "code",
   "execution_count": 28,
   "id": "834d8e08",
   "metadata": {
    "ExecuteTime": {
     "end_time": "2023-05-31T21:16:49.270110Z",
     "start_time": "2023-05-31T21:16:49.263879Z"
    }
   },
   "outputs": [],
   "source": [
    "def makeSeq(splits):\n",
    "    \n",
    "    collection = {}\n",
    "    for i, sampled_set in enumerate(splits):\n",
    "    \n",
    "        seq = \"\".join(sampled_set.ravel())\n",
    "    \n",
    "        # gc fraction\n",
    "        gc = gc_fraction(seq)\n",
    "        collection[i]=[seq, sampled_set.ravel(), gc]\n",
    "    return collection"
   ]
  },
  {
   "cell_type": "code",
   "execution_count": 29,
   "id": "d9ba46af",
   "metadata": {
    "ExecuteTime": {
     "end_time": "2023-05-31T21:16:49.747322Z",
     "start_time": "2023-05-31T21:16:49.733643Z"
    }
   },
   "outputs": [
    {
     "data": {
      "text/plain": [
       "['TATTCGCTCAACCGGAACGAATGTCGACGGTAACGTCGAGTGCGGTAAATGACGACGCGGGGCGATAACCTACGGTCTTCGACGCGTAGGGTTAATAGTCGCGGGCGAGCGAACAATCGGACTATCGTGAACCGGCGTTGTGCACAACGGAGCGTATACCGTCGGCGCAAATTCGACCGGCGACGAATGGTACGG',\n",
       " array(['TATTCGCTCAACCGG', 'AACGAATGTCGACGG', 'TAACGTCGAGTGCGG',\n",
       "        'TAAATGACGACGCGG', 'GGCGATAACCTACGG', 'TCTTCGACGCGTAGG',\n",
       "        'GTTAATAGTCGCGGG', 'CGAGCGAACAATCGG', 'ACTATCGTGAACCGG',\n",
       "        'CGTTGTGCACAACGG', 'AGCGTATACCGTCGG', 'CGCAAATTCGACCGG',\n",
       "        'CGACGAATGGTACGG'], dtype=object),\n",
       " 0.5743589743589743]"
      ]
     },
     "execution_count": 29,
     "metadata": {},
     "output_type": "execute_result"
    }
   ],
   "source": [
    "collection = makeSeq(df_splits)\n",
    "collection[0]"
   ]
  },
  {
   "cell_type": "markdown",
   "id": "5553211d",
   "metadata": {},
   "source": [
    "# check if GC content is greater than 70%:"
   ]
  },
  {
   "cell_type": "code",
   "execution_count": 30,
   "id": "4cfcadf1",
   "metadata": {
    "ExecuteTime": {
     "end_time": "2023-05-31T21:16:53.314481Z",
     "start_time": "2023-05-31T21:16:53.310742Z"
    }
   },
   "outputs": [],
   "source": [
    "for i in collection.values():\n",
    "    if i[2]>=0.70:\n",
    "        print(\"whoa\")\n",
    "        print(i[0], i[2])\n",
    "        "
   ]
  },
  {
   "cell_type": "markdown",
   "id": "882a43d1",
   "metadata": {},
   "source": [
    "# make kmer - concatemer dataframe"
   ]
  },
  {
   "cell_type": "code",
   "execution_count": 31,
   "id": "24c06466",
   "metadata": {
    "ExecuteTime": {
     "end_time": "2023-05-31T21:16:57.417248Z",
     "start_time": "2023-05-31T21:16:57.261162Z"
    }
   },
   "outputs": [],
   "source": [
    "results = {}\n",
    "for n, i in enumerate(collection.values()):\n",
    "    \n",
    "    concate_null, array, gc_null = i[0], i[1], i[2]\n",
    "\n",
    "    \n",
    "    for null in array.tolist():\n",
    "        \n",
    "        # consider both the forward and reverse complement. \n",
    "        rev = Seq(null).reverse_complement()\n",
    "\n",
    "    # add dataframe of results to results dictionary. \n",
    "    results[n] = pd.DataFrame([concate_null, gc_null, \",\".join(array.tolist())]).T\n",
    "\n"
   ]
  },
  {
   "cell_type": "code",
   "execution_count": 32,
   "id": "2b2204dd",
   "metadata": {
    "ExecuteTime": {
     "end_time": "2023-05-31T21:16:58.782978Z",
     "start_time": "2023-05-31T21:16:58.759811Z"
    }
   },
   "outputs": [],
   "source": [
    "# combine all the dataframes\n",
    "matched = pd.concat(results.values())"
   ]
  },
  {
   "cell_type": "code",
   "execution_count": 33,
   "id": "84f76304",
   "metadata": {
    "ExecuteTime": {
     "end_time": "2023-05-31T21:17:04.834100Z",
     "start_time": "2023-05-31T21:17:04.829248Z"
    }
   },
   "outputs": [],
   "source": [
    "# name columns\n",
    "matched.columns = [\"nullConcat\",\"nullGC\", \"null_array\"]"
   ]
  },
  {
   "cell_type": "code",
   "execution_count": 34,
   "id": "5b707a89",
   "metadata": {
    "ExecuteTime": {
     "end_time": "2023-05-31T21:17:05.221122Z",
     "start_time": "2023-05-31T21:17:05.197518Z"
    }
   },
   "outputs": [
    {
     "data": {
      "text/html": [
       "<div>\n",
       "<style scoped>\n",
       "    .dataframe tbody tr th:only-of-type {\n",
       "        vertical-align: middle;\n",
       "    }\n",
       "\n",
       "    .dataframe tbody tr th {\n",
       "        vertical-align: top;\n",
       "    }\n",
       "\n",
       "    .dataframe thead th {\n",
       "        text-align: right;\n",
       "    }\n",
       "</style>\n",
       "<table border=\"1\" class=\"dataframe\">\n",
       "  <thead>\n",
       "    <tr style=\"text-align: right;\">\n",
       "      <th></th>\n",
       "      <th>nullConcat</th>\n",
       "      <th>nullGC</th>\n",
       "      <th>null_array</th>\n",
       "    </tr>\n",
       "  </thead>\n",
       "  <tbody>\n",
       "    <tr>\n",
       "      <th>0</th>\n",
       "      <td>TATTCGCTCAACCGGAACGAATGTCGACGGTAACGTCGAGTGCGGT...</td>\n",
       "      <td>0.574359</td>\n",
       "      <td>TATTCGCTCAACCGG,AACGAATGTCGACGG,TAACGTCGAGTGCG...</td>\n",
       "    </tr>\n",
       "    <tr>\n",
       "      <th>0</th>\n",
       "      <td>TTCGAACGCAAGCGGTAATTACGTCGACGGGTTGCGAGTAGTCGGC...</td>\n",
       "      <td>0.564103</td>\n",
       "      <td>TTCGAACGCAAGCGG,TAATTACGTCGACGG,GTTGCGAGTAGTCG...</td>\n",
       "    </tr>\n",
       "    <tr>\n",
       "      <th>0</th>\n",
       "      <td>CCATCGATCGAACGGCCGGTATTGGATCGGCTAGATCGACGGAGGC...</td>\n",
       "      <td>0.584615</td>\n",
       "      <td>CCATCGATCGAACGG,CCGGTATTGGATCGG,CTAGATCGACGGAG...</td>\n",
       "    </tr>\n",
       "    <tr>\n",
       "      <th>0</th>\n",
       "      <td>ACCGCTATATTGCGGTTATTGCGCGAGCGGTATCGACGAAGGCGGG...</td>\n",
       "      <td>0.589744</td>\n",
       "      <td>ACCGCTATATTGCGG,TTATTGCGCGAGCGG,TATCGACGAAGGCG...</td>\n",
       "    </tr>\n",
       "    <tr>\n",
       "      <th>0</th>\n",
       "      <td>AAGCGCGTCTATCGGCCTTAGTTCGGACGGTTCGATACGGGTCGGC...</td>\n",
       "      <td>0.584615</td>\n",
       "      <td>AAGCGCGTCTATCGG,CCTTAGTTCGGACGG,TTCGATACGGGTCG...</td>\n",
       "    </tr>\n",
       "  </tbody>\n",
       "</table>\n",
       "</div>"
      ],
      "text/plain": [
       "                                          nullConcat    nullGC  \\\n",
       "0  TATTCGCTCAACCGGAACGAATGTCGACGGTAACGTCGAGTGCGGT...  0.574359   \n",
       "0  TTCGAACGCAAGCGGTAATTACGTCGACGGGTTGCGAGTAGTCGGC...  0.564103   \n",
       "0  CCATCGATCGAACGGCCGGTATTGGATCGGCTAGATCGACGGAGGC...  0.584615   \n",
       "0  ACCGCTATATTGCGGTTATTGCGCGAGCGGTATCGACGAAGGCGGG...  0.589744   \n",
       "0  AAGCGCGTCTATCGGCCTTAGTTCGGACGGTTCGATACGGGTCGGC...  0.584615   \n",
       "\n",
       "                                          null_array  \n",
       "0  TATTCGCTCAACCGG,AACGAATGTCGACGG,TAACGTCGAGTGCG...  \n",
       "0  TTCGAACGCAAGCGG,TAATTACGTCGACGG,GTTGCGAGTAGTCG...  \n",
       "0  CCATCGATCGAACGG,CCGGTATTGGATCGG,CTAGATCGACGGAG...  \n",
       "0  ACCGCTATATTGCGG,TTATTGCGCGAGCGG,TATCGACGAAGGCG...  \n",
       "0  AAGCGCGTCTATCGG,CCTTAGTTCGGACGG,TTCGATACGGGTCG...  "
      ]
     },
     "execution_count": 34,
     "metadata": {},
     "output_type": "execute_result"
    }
   ],
   "source": [
    "matched.head()"
   ]
  },
  {
   "cell_type": "code",
   "execution_count": 35,
   "id": "dc06ffad",
   "metadata": {
    "ExecuteTime": {
     "end_time": "2023-05-31T21:17:13.775599Z",
     "start_time": "2023-05-31T21:17:13.769876Z"
    }
   },
   "outputs": [
    {
     "data": {
      "text/plain": [
       "(325, 3)"
      ]
     },
     "execution_count": 35,
     "metadata": {},
     "output_type": "execute_result"
    }
   ],
   "source": [
    "matched.shape"
   ]
  },
  {
   "cell_type": "markdown",
   "id": "49e64db5",
   "metadata": {},
   "source": [
    "## write matched to csv"
   ]
  },
  {
   "cell_type": "code",
   "execution_count": 36,
   "id": "44937118",
   "metadata": {
    "ExecuteTime": {
     "end_time": "2023-05-31T21:17:17.691131Z",
     "start_time": "2023-05-31T21:17:17.667848Z"
    }
   },
   "outputs": [
    {
     "data": {
      "text/plain": [
       "'/wynton/home/ahituv/fongsl/nullomers/data/lock/common/common.15mers.2mut.nulls.fo.pam.CONCAT-13.tsv'"
      ]
     },
     "execution_count": 36,
     "metadata": {},
     "output_type": "execute_result"
    }
   ],
   "source": [
    "matched.to_csv(TSV_MUTCONCAT, sep='\\t', index=False)\n",
    "\n",
    "TSV_MUTCONCAT"
   ]
  }
 ],
 "metadata": {
  "kernelspec": {
   "display_name": "Python (wynenv)",
   "language": "python",
   "name": "wynenv"
  },
  "language_info": {
   "codemirror_mode": {
    "name": "ipython",
    "version": 3
   },
   "file_extension": ".py",
   "mimetype": "text/x-python",
   "name": "python",
   "nbconvert_exporter": "python",
   "pygments_lexer": "ipython3",
   "version": "3.10.8"
  },
  "toc": {
   "base_numbering": 1,
   "nav_menu": {},
   "number_sections": true,
   "sideBar": true,
   "skip_h1_title": false,
   "title_cell": "Table of Contents",
   "title_sidebar": "Contents",
   "toc_cell": false,
   "toc_position": {},
   "toc_section_display": true,
   "toc_window_display": true
  },
  "varInspector": {
   "cols": {
    "lenName": 16,
    "lenType": 16,
    "lenVar": 40
   },
   "kernels_config": {
    "python": {
     "delete_cmd_postfix": "",
     "delete_cmd_prefix": "del ",
     "library": "var_list.py",
     "varRefreshCmd": "print(var_dic_list())"
    },
    "r": {
     "delete_cmd_postfix": ") ",
     "delete_cmd_prefix": "rm(",
     "library": "var_list.r",
     "varRefreshCmd": "cat(var_dic_list()) "
    }
   },
   "types_to_exclude": [
    "module",
    "function",
    "builtin_function_or_method",
    "instance",
    "_Feature"
   ],
   "window_display": false
  }
 },
 "nbformat": 4,
 "nbformat_minor": 5
}
