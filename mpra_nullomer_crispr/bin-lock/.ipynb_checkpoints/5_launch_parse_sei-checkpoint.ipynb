{
 "cells": [
  {
   "cell_type": "code",
   "execution_count": 2,
   "id": "244a5ae5",
   "metadata": {
    "ExecuteTime": {
     "end_time": "2023-04-28T22:42:53.905069Z",
     "start_time": "2023-04-28T22:42:53.901649Z"
    }
   },
   "outputs": [],
   "source": [
    "import os\n",
    "import sys"
   ]
  },
  {
   "cell_type": "code",
   "execution_count": 3,
   "id": "74152868",
   "metadata": {
    "ExecuteTime": {
     "end_time": "2023-04-28T22:42:54.231999Z",
     "start_time": "2023-04-28T22:42:54.228764Z"
    }
   },
   "outputs": [],
   "source": [
    "COORS = [\n",
    "    \"chr10:133080140-133080340\",  # inactive\n",
    "    'chr1:206663895-206664095',  # inactive\n",
    "    \"chr15:45387502-45387702\",  # inactive\n",
    "    \n",
    "    \"chr12:50933777-50933977\",  # active\n",
    "    \"chr16:22922244-22922444\",   # active\n",
    "    \"chr6:73520947-73521147\",   # active\n",
    "    \"chr8:41156753-41156953\"   # active\n",
    "]"
   ]
  },
  {
   "cell_type": "code",
   "execution_count": 10,
   "id": "fb686be3",
   "metadata": {
    "ExecuteTime": {
     "end_time": "2023-04-28T22:49:16.351521Z",
     "start_time": "2023-04-28T22:49:16.342770Z"
    }
   },
   "outputs": [
    {
     "name": "stdout",
     "output_type": "stream",
     "text": [
      "qsub /wynton/home/ahituv/fongsl/nullomers/bin-lock/parse_sei_predictions_one_locus.sh /wynton/home/ahituv/fongsl/nullomers/data/lock/common/concatmers/sei_predictions/chromatin-profiles-hdf5/common.15mers.2mut.nulls.fo.pam.CONCAT-10.ext4096.chr10:133080140-133080340_predictions.h5 common 15 2\n",
      "qsub /wynton/home/ahituv/fongsl/nullomers/bin-lock/parse_sei_predictions_one_locus.sh /wynton/home/ahituv/fongsl/nullomers/data/lock/common/concatmers/sei_predictions/chromatin-profiles-hdf5/common.15mers.2mut.nulls.fo.pam.CONCAT-10.ext4096.chr1:206663895-206664095_predictions.h5 common 15 2\n",
      "qsub /wynton/home/ahituv/fongsl/nullomers/bin-lock/parse_sei_predictions_one_locus.sh /wynton/home/ahituv/fongsl/nullomers/data/lock/common/concatmers/sei_predictions/chromatin-profiles-hdf5/common.15mers.2mut.nulls.fo.pam.CONCAT-10.ext4096.chr15:45387502-45387702_predictions.h5 common 15 2\n",
      "qsub /wynton/home/ahituv/fongsl/nullomers/bin-lock/parse_sei_predictions_one_locus.sh /wynton/home/ahituv/fongsl/nullomers/data/lock/common/concatmers/sei_predictions/chromatin-profiles-hdf5/common.15mers.2mut.nulls.fo.pam.CONCAT-10.ext4096.chr12:50933777-50933977_predictions.h5 common 15 2\n",
      "qsub /wynton/home/ahituv/fongsl/nullomers/bin-lock/parse_sei_predictions_one_locus.sh /wynton/home/ahituv/fongsl/nullomers/data/lock/common/concatmers/sei_predictions/chromatin-profiles-hdf5/common.15mers.2mut.nulls.fo.pam.CONCAT-10.ext4096.chr16:22922244-22922444_predictions.h5 common 15 2\n",
      "qsub /wynton/home/ahituv/fongsl/nullomers/bin-lock/parse_sei_predictions_one_locus.sh /wynton/home/ahituv/fongsl/nullomers/data/lock/common/concatmers/sei_predictions/chromatin-profiles-hdf5/common.15mers.2mut.nulls.fo.pam.CONCAT-10.ext4096.chr6:73520947-73521147_predictions.h5 common 15 2\n",
      "qsub /wynton/home/ahituv/fongsl/nullomers/bin-lock/parse_sei_predictions_one_locus.sh /wynton/home/ahituv/fongsl/nullomers/data/lock/common/concatmers/sei_predictions/chromatin-profiles-hdf5/common.15mers.2mut.nulls.fo.pam.CONCAT-10.ext4096.chr8:41156753-41156953_predictions.h5 common 15 2\n"
     ]
    }
   ],
   "source": [
    "CL, MER, NMUTS = \"common\", 15, 2\n",
    "\n",
    "QSUB = os.path.join(\"/wynton/home/ahituv/fongsl/nullomers/bin-lock/parse_sei_predictions_one_locus.sh\")\n",
    "\n",
    "for COOR in COORS:\n",
    "    FILE = f\"/wynton/home/ahituv/fongsl/nullomers/data/lock/common/concatmers/sei_predictions/chromatin-profiles-hdf5/common.15mers.2mut.nulls.fo.pam.CONCAT-10.ext4096.{COOR}_predictions.h5\"\n",
    "    cmd = [\"qsub\", \n",
    "           QSUB,\n",
    "           FILE,\n",
    "           CL, \n",
    "           str(MER),\n",
    "           str(NMUTS)\n",
    "          ]\n",
    "    print(\" \".join(cmd))"
   ]
  },
  {
   "cell_type": "code",
   "execution_count": null,
   "id": "27fc2ca4",
   "metadata": {},
   "outputs": [],
   "source": []
  }
 ],
 "metadata": {
  "kernelspec": {
   "display_name": "Python (wynenv)",
   "language": "python",
   "name": "wynenv"
  },
  "language_info": {
   "codemirror_mode": {
    "name": "ipython",
    "version": 3
   },
   "file_extension": ".py",
   "mimetype": "text/x-python",
   "name": "python",
   "nbconvert_exporter": "python",
   "pygments_lexer": "ipython3",
   "version": "3.10.8"
  },
  "toc": {
   "base_numbering": 1,
   "nav_menu": {},
   "number_sections": true,
   "sideBar": true,
   "skip_h1_title": false,
   "title_cell": "Table of Contents",
   "title_sidebar": "Contents",
   "toc_cell": false,
   "toc_position": {},
   "toc_section_display": true,
   "toc_window_display": false
  },
  "varInspector": {
   "cols": {
    "lenName": 16,
    "lenType": 16,
    "lenVar": 40
   },
   "kernels_config": {
    "python": {
     "delete_cmd_postfix": "",
     "delete_cmd_prefix": "del ",
     "library": "var_list.py",
     "varRefreshCmd": "print(var_dic_list())"
    },
    "r": {
     "delete_cmd_postfix": ") ",
     "delete_cmd_prefix": "rm(",
     "library": "var_list.r",
     "varRefreshCmd": "cat(var_dic_list()) "
    }
   },
   "types_to_exclude": [
    "module",
    "function",
    "builtin_function_or_method",
    "instance",
    "_Feature"
   ],
   "window_display": false
  }
 },
 "nbformat": 4,
 "nbformat_minor": 5
}
