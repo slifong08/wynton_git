{
 "cells": [
  {
   "cell_type": "code",
   "execution_count": 1,
   "id": "784cc2e5",
   "metadata": {
    "ExecuteTime": {
     "end_time": "2023-04-20T00:29:20.159653Z",
     "start_time": "2023-04-20T00:29:17.634728Z"
    }
   },
   "outputs": [],
   "source": [
    "import argparse\n",
    "import config_readwrite as crw\n",
    "import glob\n",
    "import os, sys\n",
    "import pandas as pd"
   ]
  },
  {
   "cell_type": "code",
   "execution_count": 2,
   "id": "f6841981",
   "metadata": {
    "ExecuteTime": {
     "end_time": "2023-04-20T00:29:20.731907Z",
     "start_time": "2023-04-20T00:29:20.175305Z"
    }
   },
   "outputs": [
    {
     "name": "stderr",
     "output_type": "stream",
     "text": [
      "usage: ipykernel_launcher.py [-h] cellline kmer_length n_mut config\n",
      "ipykernel_launcher.py: error: the following arguments are required: kmer_length, n_mut, config\n"
     ]
    },
    {
     "ename": "SystemExit",
     "evalue": "2",
     "output_type": "error",
     "traceback": [
      "An exception has occurred, use %tb to see the full traceback.\n",
      "\u001b[0;31mSystemExit\u001b[0m\u001b[0;31m:\u001b[0m 2\n"
     ]
    },
    {
     "name": "stderr",
     "output_type": "stream",
     "text": [
      "/wynton/home/ahituv/fongsl/.conda/envs/meme/lib/python3.7/site-packages/IPython/core/interactiveshell.py:3560: UserWarning: To exit: use 'exit', 'quit', or Ctrl-D.\n",
      "  warn(\"To exit: use 'exit', 'quit', or Ctrl-D.\", stacklevel=1)\n"
     ]
    }
   ],
   "source": [
    "parser = argparse.ArgumentParser()\n",
    "parser.add_argument(\"cellline\", type=str, help = \"cellline\")\n",
    "parser.add_argument(\"kmer_length\", type=int, help = \"length of kmer\")\n",
    "parser.add_argument(\"n_mut\", type=int, help = \"number of mutations to make\")\n",
    "parser.add_argument(\"config\", type=str, help = \"path to config\")\n",
    "\n",
    "\n",
    "args = parser.parse_args()\n",
    "CL, KMER_LEN, NMUTS,= args.cellline, args.kmer_length, args.n_mut,\n",
    "\n",
    "\"\"\"\n",
    "CL, KMER_LEN, NMUTS = \"common\", 14, 2\n",
    "config, cfn = crw.read(os.path.join(os.getcwd(), \"config.ini\"))\n",
    "\"\"\"\n",
    "mutsection = f\"{CL}.{KMER_LEN}mer.{NMUTS}mut\"\n",
    "\n",
    "#read\n",
    "OUTDIR = config[CL][\"path\"] \n",
    "FA = config[mutsection][\"fa_fo-true\"] \n",
    "\n",
    "# write to config\n",
    "section = f\"{CL}.FIMO\"\n",
    "crw.check(config, section)\n",
    "\n",
    "JASPAR=\"/wynton/group/ahituv/tfbs_motif/jaspar/JASPAR2022_CORE_non-redundant_pfms_meme.txt\"\n",
    "config[section][\"jaspar\"] = JASPAR\n",
    "\n",
    "FIMO_RESULT = os.path.join(OUTDIR, f\"fimo-common.{KMER_LEN}mers.{NMUTS}mut.null\", \"fimo.tsv\")\n",
    "config[section][f\"{KMER_LEN}mer.{NMUTS}mut\"] = FIMO_RESULT_DIR\n",
    "\n",
    "crw.write(config, cfn)\n",
    "#FA = os.path.join(OUTDIR, f\"{CL}.{KMER_LEN}mers.{NMUTS}mut.nulls.fo.fa\")"
   ]
  },
  {
   "cell_type": "markdown",
   "id": "ba448ea6",
   "metadata": {},
   "source": [
    "# turn pam to pam.fa"
   ]
  },
  {
   "cell_type": "code",
   "execution_count": 3,
   "id": "91a2c254",
   "metadata": {
    "ExecuteTime": {
     "end_time": "2023-04-20T00:29:27.253887Z",
     "start_time": "2023-04-20T00:29:27.246311Z"
    }
   },
   "outputs": [],
   "source": [
    "PAM=\"/wynton/home/ahituv/fongsl/dna/hs1/kmers/14mers/14mer.firstorder.pam.purine.nohomopoly.GC.txt\"\n",
    "\n",
    "PAM_FA =\"/wynton/home/ahituv/fongsl/dna/hs1/kmers/14mers/14mer.firstorder.pam.purine.nohomopoly.GC.fa\"\n",
    "\n",
    "if os.path.exists(PAM_FA) is False:\n",
    "    writer = open(PAM_FA, \"w\")\n",
    "    with open(PAM, \"r\") as reader:\n",
    "        for i, line in enumerate(reader):\n",
    "            line=line.strip(\"\\n\")\n",
    "            row=f\">{i}\\n{line}\\n\"\n",
    "\n",
    "            writer.write(row)\n",
    "    writer.close(), reader.close()"
   ]
  },
  {
   "cell_type": "markdown",
   "id": "c9c5d063",
   "metadata": {},
   "source": [
    "## write to config"
   ]
  },
  {
   "cell_type": "code",
   "execution_count": 4,
   "id": "bc9db2a7",
   "metadata": {
    "ExecuteTime": {
     "end_time": "2023-04-20T00:29:28.259644Z",
     "start_time": "2023-04-20T00:29:28.231139Z"
    }
   },
   "outputs": [],
   "source": [
    "# write to config\n",
    "CL = \"14mer.firstorder.pam\"\n",
    "config, cfn = crw.read(os.path.join(os.getcwd(), \"config.ini\"))\n",
    "section = f\"{CL}.FIMO\"\n",
    "crw.check(config, section)\n",
    "crw.check(config, CL)\n",
    "\n",
    "JASPAR=\"/wynton/group/ahituv/tfbs_motif/jaspar/JASPAR2022_CORE_non-redundant_pfms_meme.txt\"\n",
    "OUTDIR = \"/wynton/home/ahituv/fongsl/nullomers/data/lock/14.fo.pam\"\n",
    "config[section][\"jaspar\"] = JASPAR\n",
    "config[CL][\"fa\"] = PAM_FA\n",
    "config[CL][\"txt\"] = PAM\n",
    "config[CL][\"path\"]=OUTDIR\n",
    "\n",
    "FIMO_RESULT_DIR = os.path.join(OUTDIR, f\"fimo-{CL}\")\n",
    "FIMO_RESULT = os.path.join(OUTDIR, f\"fimo-{CL}\", \"fimo.tsv\")\n",
    "config[section][f\"fimo_dir\"] = FIMO_RESULT_DIR\n",
    "config[section][f\"fimo_results\"] = FIMO_RESULT\n",
    "\n",
    "crw.write(config, cfn)\n",
    "#FA = os.path.join(OUTDIR, f\"{CL}.{KMER_LEN}mers.{NMUTS}mut.nulls.fo.fa\")"
   ]
  },
  {
   "cell_type": "code",
   "execution_count": 5,
   "id": "f3be82b6",
   "metadata": {
    "ExecuteTime": {
     "end_time": "2023-04-20T00:29:29.161975Z",
     "start_time": "2023-04-20T00:29:29.154629Z"
    }
   },
   "outputs": [],
   "source": [
    "def runFimo(fa, jaspar, results_dir):\n",
    "    # run fimo\n",
    "\n",
    "    outdir=os.path.dirname(results_dir)\n",
    "    print(outdir)\n",
    "\n",
    "    os.chdir(outdir)\n",
    "\n",
    "    cmd = [\n",
    "        \"fimo\",\n",
    "        jaspar,\n",
    "        fa, \"&& mv\" ,\n",
    "        os.path.join(outdir, \"fimo_out\"),\n",
    "        results_dir\n",
    "\n",
    "    ]\n",
    "    print(\" \".join(cmd))\n",
    "    os.system(\" \".join(cmd))"
   ]
  },
  {
   "cell_type": "code",
   "execution_count": 6,
   "id": "1c2c8c7c",
   "metadata": {
    "ExecuteTime": {
     "end_time": "2023-04-20T00:29:29.659337Z",
     "start_time": "2023-04-20T00:29:29.628557Z"
    }
   },
   "outputs": [
    {
     "name": "stdout",
     "output_type": "stream",
     "text": [
      "/wynton/home/ahituv/fongsl/nullomers/data/lock/14.fo.pam\n",
      "fimo /wynton/group/ahituv/tfbs_motif/jaspar/JASPAR2022_CORE_non-redundant_pfms_meme.txt /wynton/home/ahituv/fongsl/dna/hs1/kmers/14mers/14mer.firstorder.pam.purine.nohomopoly.GC.fa && mv /wynton/home/ahituv/fongsl/nullomers/data/lock/14.fo.pam/fimo_out /wynton/home/ahituv/fongsl/nullomers/data/lock/14.fo.pam/fimo-14mer.firstorder.pam\n"
     ]
    },
    {
     "name": "stderr",
     "output_type": "stream",
     "text": [
      "sh: fimo: command not found\n"
     ]
    }
   ],
   "source": [
    "runFimo(PAM_FA, JASPAR, FIMO_RESULT_DIR)"
   ]
  },
  {
   "cell_type": "code",
   "execution_count": null,
   "id": "9d2abd9e",
   "metadata": {},
   "outputs": [],
   "source": []
  }
 ],
 "metadata": {
  "kernelspec": {
   "display_name": "Python (meme)",
   "language": "python",
   "name": "meme"
  },
  "language_info": {
   "codemirror_mode": {
    "name": "ipython",
    "version": 3
   },
   "file_extension": ".py",
   "mimetype": "text/x-python",
   "name": "python",
   "nbconvert_exporter": "python",
   "pygments_lexer": "ipython3",
   "version": "3.7.12"
  },
  "toc": {
   "base_numbering": 1,
   "nav_menu": {},
   "number_sections": true,
   "sideBar": true,
   "skip_h1_title": false,
   "title_cell": "Table of Contents",
   "title_sidebar": "Contents",
   "toc_cell": false,
   "toc_position": {},
   "toc_section_display": true,
   "toc_window_display": false
  },
  "varInspector": {
   "cols": {
    "lenName": 16,
    "lenType": 16,
    "lenVar": 40
   },
   "kernels_config": {
    "python": {
     "delete_cmd_postfix": "",
     "delete_cmd_prefix": "del ",
     "library": "var_list.py",
     "varRefreshCmd": "print(var_dic_list())"
    },
    "r": {
     "delete_cmd_postfix": ") ",
     "delete_cmd_prefix": "rm(",
     "library": "var_list.r",
     "varRefreshCmd": "cat(var_dic_list()) "
    }
   },
   "types_to_exclude": [
    "module",
    "function",
    "builtin_function_or_method",
    "instance",
    "_Feature"
   ],
   "window_display": false
  }
 },
 "nbformat": 4,
 "nbformat_minor": 5
}
