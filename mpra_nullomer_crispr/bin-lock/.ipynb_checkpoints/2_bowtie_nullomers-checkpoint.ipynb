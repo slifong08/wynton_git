{
 "cells": [
  {
   "cell_type": "code",
   "execution_count": null,
   "id": "b11fe363",
   "metadata": {
    "ExecuteTime": {
     "end_time": "2023-04-21T21:56:54.708433Z",
     "start_time": "2023-04-21T21:56:54.505361Z"
    },
    "code_folding": []
   },
   "outputs": [],
   "source": [
    "\"\"\"\n",
    "Take kmer spectra, nullomer spectra, mutagenize sequences to get kmer spectra of the mutants. \n",
    "\n",
    "input\n",
    "    mer (str) - identity of the kmer length\n",
    "    nmuts (str) - number of positions to mutagenize simultaneously. \n",
    "    cell line (str) - cell ine\n",
    "    build (str) - genome build\n",
    "    \n",
    "\"\"\"\n",
    "\n",
    "import argparse\n",
    "from Bio.SeqUtils import gc_fraction\n",
    "\n",
    "from collections import Counter\n",
    "import glob\n",
    "import gzip\n",
    "from itertools import product, combinations\n",
    "import numpy as np\n",
    "import os\n",
    "import sys\n",
    "import subprocess as sp\n",
    "\n",
    "sys.path.append(\"/wynton/home/ahituv/fongsl/tools/py_\")\n",
    "import config_readwrite as crw\n",
    "\"\"\"\n",
    "parser = argparse.ArgumentParser()\n",
    "parser.add_argument(\"cellline\", type=str, help = \"cellline\")\n",
    "parser.add_argument(\"kmer_length\", type=int, help = \"length of kmer\")\n",
    "parser.add_argument(\"n_mut\", type=int, help = \"number of mutations to make\")\n",
    "parser.add_argument(\"build\", type=str, help = \"genome build\")\n",
    "parser.add_argument(\"fo_only\", type=bool, default=True, help = \"keep first order nullomers only?\")\n",
    "parser.add_argument(\"config\", type=str, help = \"path to config file\")\n",
    "\n",
    "args = parser.parse_args()\n",
    "CL, MER, NMUTS, BUILD, FO_ONLY, CONFIG = args.cellline, args.kmer_length, args.n_mut, args.build, args.fo_only, args.config\n",
    "\n",
    "\"\"\"\n",
    "# dev\n",
    "CL, MER, NMUTS, BUILD, FO_ONLY = \"common\", \"15\", \"2\", \"hs1\", True\n",
    "CONFIG = os.path.join(os.getcwd(), \"config.ini\")\n",
    "\n",
    "# functions"
   ]
  },
  {
   "cell_type": "code",
   "execution_count": 1,
   "id": "98778287",
   "metadata": {
    "ExecuteTime": {
     "end_time": "2023-04-21T21:56:54.708433Z",
     "start_time": "2023-04-21T21:56:54.505361Z"
    },
    "code_folding": [
     115,
     175,
     296
    ]
   },
   "outputs": [],
   "source": [
    "def bowTieOneFile(file, index, nsubs):\n",
    "    \"\"\"\n",
    "    run bowtie on 1 file w/ index file, write to out file\n",
    "    \n",
    "    input\n",
    "        file (str) - path to file with sequences to evaluate w/ bowtie (just a text file)\n",
    "        index (str) - path to index fa file (run before!)\n",
    "        nsubs (int) - number of substitutions to tolerate in alignment. \n",
    "    \n",
    "    method\n",
    "        1. make variable to bowtie bin, outfile to write\n",
    "        2. compile command w/ \n",
    "            index file, \n",
    "            file to run, \n",
    "            -v (number of substitutions to look for), \n",
    "            and where to write results\n",
    "        3. launch the command \n",
    "    return \n",
    "        out (str) - path to written file\n",
    "    \"\"\"\n",
    "    \n",
    "    #1\n",
    "    BOWTIE = os.path.join(\"/wynton/home/ahituv/fongsl/bin/bowtie\", \"bowtie\")\n",
    "    OUT = os.path.split(file)[0] + f\".bowtie.v{nsubs}.tsv\"\n",
    "    \n",
    "    #2\n",
    "    cmd = [BOWTIE,\n",
    "       \"-x\", index,\n",
    "       \"-r\", file, \n",
    "       \"-v\", str(nsubs),  \n",
    "       \">\", OUT,\n",
    "      ]\n",
    "    \n",
    "    #3\n",
    "    print(\" \".join(cmd))\n",
    "\n",
    "    sp.call(\" \".join(cmd), shell=True)\n",
    "    \n",
    "    return OUT"
   ]
  },
  {
   "cell_type": "code",
   "execution_count": null,
   "id": "3c599209",
   "metadata": {
    "ExecuteTime": {
     "end_time": "2023-04-19T21:32:48.694446Z",
     "start_time": "2023-04-19T21:32:48.643642Z"
    },
    "code_folding": []
   },
   "outputs": [],
   "source": [
    "# main\n",
    "\n",
    "\n",
    "def main(argv):\n",
    "    file = FILE\n",
    "    index = \"/wynton/home/ahituv/fongsl/dna/hs1/hs1\"\n",
    "    nsubs = 3  #0-3\n",
    "    \n",
    "    bowTieOneFile(file, index, nsubs)\n"
   ]
  }
 ],
 "metadata": {
  "kernelspec": {
   "display_name": "Python (wynenv)",
   "language": "python",
   "name": "wynenv"
  },
  "language_info": {
   "codemirror_mode": {
    "name": "ipython",
    "version": 3
   },
   "file_extension": ".py",
   "mimetype": "text/x-python",
   "name": "python",
   "nbconvert_exporter": "python",
   "pygments_lexer": "ipython3",
   "version": "3.10.8"
  },
  "toc": {
   "base_numbering": 1,
   "nav_menu": {},
   "number_sections": true,
   "sideBar": true,
   "skip_h1_title": false,
   "title_cell": "Table of Contents",
   "title_sidebar": "Contents",
   "toc_cell": false,
   "toc_position": {},
   "toc_section_display": true,
   "toc_window_display": false
  },
  "varInspector": {
   "cols": {
    "lenName": 16,
    "lenType": 16,
    "lenVar": 40
   },
   "kernels_config": {
    "python": {
     "delete_cmd_postfix": "",
     "delete_cmd_prefix": "del ",
     "library": "var_list.py",
     "varRefreshCmd": "print(var_dic_list())"
    },
    "r": {
     "delete_cmd_postfix": ") ",
     "delete_cmd_prefix": "rm(",
     "library": "var_list.r",
     "varRefreshCmd": "cat(var_dic_list()) "
    }
   },
   "types_to_exclude": [
    "module",
    "function",
    "builtin_function_or_method",
    "instance",
    "_Feature"
   ],
   "window_display": false
  }
 },
 "nbformat": 4,
 "nbformat_minor": 5
}
