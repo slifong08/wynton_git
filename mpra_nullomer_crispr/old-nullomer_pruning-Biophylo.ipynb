{
 "cells": [
  {
   "cell_type": "code",
   "execution_count": 13,
   "id": "0f424900",
   "metadata": {},
   "outputs": [],
   "source": [
    "from Bio import Phylo\n",
    "\n",
    "import matplotlib.pyplot as plt\n",
    "import numpy as np\n",
    "import os, sys\n",
    "import pandas as pd\n",
    "import seaborn as sns\n",
    "\n",
    "sys.path.append(\"/Users/sarahfong/tools/py_\")\n",
    "import config_readwrite as crw\n",
    "import plot_params as pp\n",
    "pp.fonts()\n",
    "os.chdir(\"/Users/sarahfong/wynton_git/mpra_nullomer_crispr/\")\n",
    "name = \"local_config.ini\"\n",
    "config, cfn = crw.read_config(name)\n",
    "\n",
    "section=\"PHYLO\"\n",
    "NEWICK = config[section][\"newick\"]\n",
    "RE = config[section][\"results\"]\n",
    "\n",
    "if os.path.exists(RE) is False:\n",
    "    os.mkdir(RE)"
   ]
  },
  {
   "cell_type": "markdown",
   "metadata": {},
   "source": [
    "# phylotrees"
   ]
  },
  {
   "cell_type": "code",
   "execution_count": null,
   "metadata": {},
   "outputs": [],
   "source": [
    " trees = Phylo.read(NEWICK,\"newick\")"
   ]
  },
  {
   "cell_type": "code",
   "execution_count": null,
   "metadata": {},
   "outputs": [],
   "source": [
    "last_length=0\n",
    "keep = []\n",
    "for i in trees.get_terminals():\n",
    "    \n",
    "    # if branches are the same length\n",
    "    if i.branch_length == last_length:\n",
    "        continue\n",
    "    #. if branches are not the same length, keep \n",
    "    else:\n",
    "        keep.append((i.branch_length, i.name))\n",
    "        print(i.branch_length, i.name)\n",
    "        last_length = i.branch_length"
   ]
  },
  {
   "cell_type": "markdown",
   "id": "a6f8d738",
   "metadata": {},
   "source": [
    "# view tree as text"
   ]
  },
  {
   "cell_type": "code",
   "execution_count": null,
   "id": "76a40970",
   "metadata": {},
   "outputs": [],
   "source": [
    "cmd = ['ete3', \n",
    "      \"view --text -t\",\n",
    "       NEWICK\n",
    "      ]\n",
    "print(\" \".join(cmd))"
   ]
  },
  {
   "cell_type": "markdown",
   "id": "ebf7c762",
   "metadata": {},
   "source": [
    "# view tree as svg"
   ]
  },
  {
   "cell_type": "code",
   "execution_count": null,
   "id": "bd07ba00",
   "metadata": {},
   "outputs": [],
   "source": [
    "from IPython.display import SVG"
   ]
  },
  {
   "cell_type": "code",
   "execution_count": null,
   "id": "dc0516b2",
   "metadata": {},
   "outputs": [],
   "source": [
    "tree = \"/Users/sarahfong/tree.svg\"\n",
    "#SVG(filename=tree)  "
   ]
  },
  {
   "cell_type": "markdown",
   "id": "6591be58",
   "metadata": {},
   "source": [
    "# load tree"
   ]
  },
  {
   "cell_type": "code",
   "execution_count": 1,
   "id": "bc647a03",
   "metadata": {},
   "outputs": [
    {
     "ename": "ModuleNotFoundError",
     "evalue": "No module named 'ete3'",
     "output_type": "error",
     "traceback": [
      "\u001b[0;31m---------------------------------------------------------------------------\u001b[0m",
      "\u001b[0;31mModuleNotFoundError\u001b[0m                       Traceback (most recent call last)",
      "\u001b[0;32m<ipython-input-1-8cdb6918e3c1>\u001b[0m in \u001b[0;36m<module>\u001b[0;34m\u001b[0m\n\u001b[0;32m----> 1\u001b[0;31m \u001b[0;32mfrom\u001b[0m \u001b[0mete3\u001b[0m \u001b[0;32mimport\u001b[0m \u001b[0mPhyloTree\u001b[0m\u001b[0;34m\u001b[0m\u001b[0;34m\u001b[0m\u001b[0m\n\u001b[0m\u001b[1;32m      2\u001b[0m \u001b[0mtree\u001b[0m \u001b[0;34m=\u001b[0m \u001b[0mPhyloTree\u001b[0m\u001b[0;34m(\u001b[0m\u001b[0mNEWICK\u001b[0m\u001b[0;34m)\u001b[0m\u001b[0;34m\u001b[0m\u001b[0;34m\u001b[0m\u001b[0m\n",
      "\u001b[0;31mModuleNotFoundError\u001b[0m: No module named 'ete3'"
     ]
    }
   ],
   "source": [
    "from ete3 import PhyloTree\n",
    "tree = PhyloTree(NEWICK)"
   ]
  },
  {
   "cell_type": "code",
   "execution_count": null,
   "id": "b104683f",
   "metadata": {},
   "outputs": [],
   "source": [
    "%%bash\n",
    "conda list"
   ]
  },
  {
   "cell_type": "code",
   "execution_count": null,
   "id": "815ccf14",
   "metadata": {},
   "outputs": [],
   "source": []
  }
 ],
 "metadata": {
  "kernelspec": {
   "display_name": "Python (phylo)",
   "language": "python",
   "name": "phylo"
  },
  "language_info": {
   "codemirror_mode": {
    "name": "ipython",
    "version": 3
   },
   "file_extension": ".py",
   "mimetype": "text/x-python",
   "name": "python",
   "nbconvert_exporter": "python",
   "pygments_lexer": "ipython3",
   "version": "3.6.10"
  }
 },
 "nbformat": 4,
 "nbformat_minor": 5
}
