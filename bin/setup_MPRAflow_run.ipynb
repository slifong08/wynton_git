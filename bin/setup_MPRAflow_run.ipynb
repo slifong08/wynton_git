{
 "cells": [
  {
   "cell_type": "markdown",
   "id": "618e052c",
   "metadata": {},
   "source": [
    "# Launch Association sequencing on Wynton"
   ]
  },
  {
   "cell_type": "code",
   "execution_count": 1,
   "id": "49c8dc61",
   "metadata": {
    "ExecuteTime": {
     "end_time": "2024-05-03T17:18:20.957642Z",
     "start_time": "2024-05-03T17:18:20.373775Z"
    }
   },
   "outputs": [],
   "source": [
    "import argparse\n",
    "import json\n",
    "import os\n",
    "import sys"
   ]
  },
  {
   "attachments": {},
   "cell_type": "markdown",
   "id": "47f1497a-aae8-4011-ba69-2f5269c17d02",
   "metadata": {},
   "source": [
    "# MPRAflow user inputs\n",
    "\n",
    "## global, association, and count parameters"
   ]
  },
  {
   "cell_type": "code",
   "execution_count": 11,
   "id": "0b9b3325-e0c4-44db-84c3-c7421c90d559",
   "metadata": {
    "ExecuteTime": {
     "end_time": "2024-05-04T00:06:49.968113Z",
     "start_time": "2024-05-04T00:06:49.959707Z"
    }
   },
   "outputs": [
    {
     "ename": "NameError",
     "evalue": "name 'argparse' is not defined",
     "output_type": "error",
     "traceback": [
      "\u001b[0;31m---------------------------------------------------------------------------\u001b[0m",
      "\u001b[0;31mNameError\u001b[0m                                 Traceback (most recent call last)",
      "Cell \u001b[0;32mIn[11], line 6\u001b[0m\n\u001b[1;32m      1\u001b[0m \u001b[38;5;66;03m###\u001b[39;00m\n\u001b[1;32m      2\u001b[0m \u001b[38;5;66;03m# global values\u001b[39;00m\n\u001b[1;32m      3\u001b[0m \u001b[38;5;66;03m###\u001b[39;00m\n\u001b[1;32m      4\u001b[0m \n\u001b[1;32m      5\u001b[0m \u001b[38;5;66;03m# parse arguments\u001b[39;00m\n\u001b[0;32m----> 6\u001b[0m parser\u001b[38;5;241m=\u001b[39m\u001b[43margparse\u001b[49m\u001b[38;5;241m.\u001b[39mArgumentParser()\n\u001b[1;32m      8\u001b[0m parser\u001b[38;5;241m.\u001b[39madd_argument(\u001b[38;5;124m'\u001b[39m\u001b[38;5;124m--experiment_name\u001b[39m\u001b[38;5;124m'\u001b[39m, \u001b[38;5;28mtype\u001b[39m\u001b[38;5;241m=\u001b[39m\u001b[38;5;28mstr\u001b[39m, help\u001b[38;5;241m=\u001b[39m\u001b[38;5;124m\"\u001b[39m\u001b[38;5;124mname of MPRA experiment\u001b[39m\u001b[38;5;124m\"\u001b[39m)\n\u001b[1;32m      9\u001b[0m parser\u001b[38;5;241m.\u001b[39madd_argument(\u001b[38;5;124m'\u001b[39m\u001b[38;5;124m--data_path\u001b[39m\u001b[38;5;124m'\u001b[39m, \u001b[38;5;28mtype\u001b[39m\u001b[38;5;241m=\u001b[39m\u001b[38;5;28mstr\u001b[39m, help\u001b[38;5;241m=\u001b[39m\u001b[38;5;124m\"\u001b[39m\u001b[38;5;124mbase path where fastq files will be stored\u001b[39m\u001b[38;5;124m\"\u001b[39m)\n",
      "\u001b[0;31mNameError\u001b[0m: name 'argparse' is not defined"
     ]
    }
   ],
   "source": [
    "###\n",
    "# global values\n",
    "###\n",
    "\n",
    "# parse arguments\n",
    "parser=argparse.ArgumentParser()\n",
    "\n",
    "parser.add_argument('--experiment_name', type=str, help=\"name of MPRA experiment\")\n",
    "parser.add_argument('--data_path', type=str, help=\"base path where fastq files will be stored\")\n",
    "parser.add_argument('--design_fasta', type=str, help=\"name of design.fasta file\")\n",
    "parser.add_argument('--fastq_prefix', type=str, help=\"prefix for fastq files\")  \n",
    "parser.add_argument('-f', '--min_frac', type=str, default=\"0.7\", \n",
    "                    help=\"min fraction of overlap with library during bwa alignment in association sequencing\")\n",
    "parser.add_argument('-mq', '--mapq', type=str, default=\"0\", \n",
    "                    help=\"min mapq quality during association sequencing\")\n",
    "parser.add_argument('-bc', '--bc_threshold', type=str, default=\"10\", \n",
    "                    help=\"min barcode threshold during count sequencing\")\n",
    "parser.add_argument('-bcl', '--bc_length', type=str, default=\"15\", \n",
    "                    help=\"barcode length\")\n",
    "\n",
    "args = parser.parse_args()\n",
    "EXP_NAME = args.experiment_name\n",
    "DATAPATH = args.data_path\n",
    "DESIGN_FILENAME = args.design_fasta\n",
    "FASTQ_PREFIX = args.fastq_prefix \n",
    "\n",
    "# optional arguments\n",
    "MIN_FRAC = args.min_frac\n",
    "MAPQ = args.mapq\n",
    "MIN_BC_THRESH = args.bc_threshold\n",
    "BC_LEN = args.bc_length\n",
    "\n",
    "TEST=False\n",
    "\n",
    "\n",
    "\"\"\"\n",
    "EXP_NAME = \"null_mpra\"  # change me\n",
    "DATAPATH = \"/wynton/group/ahituv/fongsl/projects/CRISPR_nullomer_MPRA/data/\"  # change me\n",
    "DESIGN_FILENAME = \"15mer.fo.pam.scaffold.ext200.library.TWIST.fa\"  # change me\n",
    "FASTQ_PREFIX = \"SF_asso_S1\"  # change me\n",
    "\n",
    "TEST = False # run a test? \n",
    "\n",
    "###\n",
    "# Association parameters\n",
    "###\n",
    "\n",
    "MIN_FRAC = \"0.7\"  # change me\n",
    "MAPQ = \"0\" #3  # change me\n",
    "\n",
    "###\n",
    "# Count parameters\n",
    "###\n",
    "\n",
    "BC_LEN=15\n",
    "MIN_BC_THRESH=10  # min 10 barcodes \n",
    "\"\"\""
   ]
  },
  {
   "cell_type": "markdown",
   "id": "e9fd2f42-9ed7-4f63-a6a8-c91cee6167b7",
   "metadata": {},
   "source": [
    "## paths"
   ]
  },
  {
   "cell_type": "code",
   "execution_count": null,
   "id": "7b8c78c3-9e35-4c9b-912f-0713047c5761",
   "metadata": {
    "ExecuteTime": {
     "end_time": "2024-05-04T00:06:49.968113Z",
     "start_time": "2024-05-04T00:06:49.959707Z"
    }
   },
   "outputs": [],
   "source": [
    "###\n",
    "# paths\n",
    "###\n",
    "\n",
    "LIBRARY_DIR = os.path.join(DATAPATH, \"library\")\n",
    "ASSOC_DIR = os.path.join(DATAPATH, \"assoc\") #\"20230815_nullomer_MPRA_assoc\" \n",
    "COUNT_DIR = os.path.join(DATAPATH, \"count\") # change me \"20240430_MPRA_sequencing\"\n",
    "SRC = \"/wynton/group/ahituv/MPRAflow/\" # change me from \"/wynton/group/ahituv/fongsl/src/MPRAflow/\" # DELETE me, replace w/ SRC below\n",
    "\n",
    "###\n",
    "# design file\n",
    "###\n",
    "DESIGN = os.path.join(LIBRARY_DIR, DESIGN_FILENAME)  # change me\n",
    "\n",
    "###\n",
    "# json config\n",
    "###\n",
    "JSON = os.path.join(DATAPATH, 'config.json')"
   ]
  },
  {
   "cell_type": "code",
   "execution_count": null,
   "id": "a17d4e31-9494-4630-9fa6-affc7eab1b20",
   "metadata": {
    "ExecuteTime": {
     "end_time": "2024-05-04T00:06:49.968113Z",
     "start_time": "2024-05-04T00:06:49.959707Z"
    }
   },
   "outputs": [],
   "source": [
    "###\n",
    "# Association sequencing fastq files\n",
    "###\n",
    "\n",
    "if TEST is True:\n",
    "    ASSOC_DIR = os.path.join(ASSOC_DIR, \"test\")\n",
    "    FASTQ_PREFIX=\"test\"\n",
    "    \n",
    "R1 = os.path.join(ASSOC_DIR, f\"{FASTQ_PREFIX}_R1_001.fastq.gz\")\n",
    "R2 = os.path.join(ASSOC_DIR, f\"{FASTQ_PREFIX}_R4_001.fastq.gz\")\n",
    "# note: SF_asso_S1_R3_001.fastq.gz is common i5 GCCAGCGCCG\n",
    "BC = os.path.join(ASSOC_DIR, f\"{FASTQ_PREFIX}_R2_001.fastq.gz\")\n",
    "\n",
    "\n",
    "###\n",
    "# Count function\n",
    "###\n",
    "\n",
    "if TEST is True:\n",
    "    COUNT_DIR = os.path.join(COUNT_DIR, \"test\")  # path to DNA, RNA fastq files\n",
    "    BARCODE_PATH = ASSOC_DIR.strip(\"test\")\n",
    "\n",
    "EXP_CSV = os.path.join(COUNT_DIR, \"experiment.csv\")  # experiment file\n",
    "\n",
    "BARCODE_PATH = ASSOC_DIR.strip(\"test\")\n",
    "BARCODE_DICT = os.path.join(BARCODE_PATH,\n",
    "                            'MPRAflow_results', \n",
    "                            f\"{EXP_NAME}_filtered_coords_to_barcodes.pickle\") # sequence-barcode dictionary"
   ]
  },
  {
   "cell_type": "markdown",
   "id": "5c141db9",
   "metadata": {},
   "source": [
    "# json config "
   ]
  },
  {
   "cell_type": "code",
   "execution_count": 5,
   "id": "42e17775-149f-4311-9ba3-8efcb7d56eaf",
   "metadata": {
    "ExecuteTime": {
     "end_time": "2024-05-04T00:06:54.145553Z",
     "start_time": "2024-05-04T00:06:54.135659Z"
    }
   },
   "outputs": [],
   "source": [
    "# json config\n",
    "jsondata = {}\n",
    "\n",
    "# global dictionary\n",
    "global_dict = {\n",
    "    'exp_name':EXP_NAME, \n",
    "    'path':DATAPATH, \n",
    "    'library_path': LIBRARY_DIR,\n",
    "    'design_fa': DESIGN,\n",
    "    'src_scripts':SRC,\n",
    "    'test': TEST\n",
    "}\n",
    "\n",
    "# association dictionary\n",
    "assoc_dict = {\n",
    "    \"path\": ASSOC_DIR,\n",
    "    \"fastq_prefix\": FASTQ_PREFIX,\n",
    "    \"ins\": R1,\n",
    "    \"inspe\": R2,\n",
    "    \"design_fa\": DESIGN,\n",
    "    \"src\": SRC,\n",
    "    \"min_frac\": str(MIN_FRAC),\n",
    "    \"mapq\": str(MAPQ),\n",
    "\n",
    "}\n",
    "# write count dictionary\n",
    "count_dict = {\n",
    "    \"path\": COUNT_DIR,\n",
    "    \"exp_csv\": EXP_CSV,\n",
    "    \"barcode_path\": BARCODE_PATH,\n",
    "    \"barcode_dict\": BARCODE_DICT,\n",
    "    \"barcode_len\": str(BC_LEN),\n",
    "    \"design_fa\": DESIGN,\n",
    "    \"src\": SRC,\n",
    "    \"threshold\":MIN_BC_THRESH\n",
    "\n",
    "}\n",
    "\n",
    "# add to json dict\n",
    "jsondata[\"global\"] = global_dict\n",
    "if TEST is True:\n",
    "    jsondata[\"assoc_seq_test\"] = assoc_dict\n",
    "    jsondata[\"count_seq_test\"] = count_dict\n",
    "else:\n",
    "    jsondata[\"assoc_seq\"] = assoc_dict\n",
    "    jsondata[\"count_seq\"] = count_dict\n"
   ]
  },
  {
   "cell_type": "markdown",
   "id": "1f3a0b29",
   "metadata": {},
   "source": [
    "# main"
   ]
  },
  {
   "cell_type": "markdown",
   "id": "0e5c0c82-aa8a-4bef-ab2e-069d5669536a",
   "metadata": {},
   "source": [
    "# Command line functions - nextflow "
   ]
  },
  {
   "cell_type": "code",
   "execution_count": 9,
   "id": "d227aba5-88f5-4190-9f9e-7fa864f81de3",
   "metadata": {},
   "outputs": [],
   "source": [
    "def assocCmd(src, ASSOC_DIR, name, insert_fq, insert_pe_fq, design_fa, bc_fq, min_frac=0.7, mapq=0, qsub=False):\n",
    "    \"\"\"association nextflow cmd\n",
    "    \n",
    "    ./nextflow association.nf\n",
    "            --w $1 \\\n",
    "            --name $2 \\\n",
    "            --fastq-insert $3 \\\n",
    "            --fastq-insertPE $4 \\\n",
    "            --design $5 \\\n",
    "            --fastq-bc $6 \\\n",
    "            --min-frac $7 \\\n",
    "            --mapq $8\n",
    "    \"\"\"\n",
    "\n",
    "    if qsub is True:\n",
    "        cmd = \" \".join([\n",
    "            \"qsub -pe smp 6 -l mem_free=12G /wynton/home/ahituv/fongsl/nullomers/bin-lock/assoc.sh\",  # CHANGE ME\n",
    "            ASSOC_DIR, \n",
    "            name, \n",
    "            insert_fq,\n",
    "            insert_pe_fq, \n",
    "            design_fa, \n",
    "            bc_fq, \n",
    "            str(min_frac), \n",
    "            str(mapq)\n",
    "            \n",
    "            ])\n",
    "        \n",
    "    else:\n",
    "        cmd = \" \".join([\n",
    "                \"cd\", src,\n",
    "                \"\\n\",\n",
    "                \"nextflow run association.nf\",\n",
    "                \"--w\",\n",
    "                ASSOC_DIR,\n",
    "                \"--name\",\n",
    "                name,\n",
    "                \"--fastq-insert\",\n",
    "                insert_fq,\n",
    "                \"--fastq-insertPE\",\n",
    "                insert_pe_fq,\n",
    "                \"--design\",\n",
    "                design_fa,\n",
    "                \"--fastq-bc\",\n",
    "                bc_fq,\n",
    "                \" --min-frac\",\n",
    "                str(min_frac),\n",
    "                \"--mapq\",\n",
    "                str(mapq)\n",
    "            ])\n",
    "    print(\"REMEMBER TO ACTIVATE YOUR MPRAflow CONDA ENVIRONMENT!\\n\\n\", cmd)\n",
    "    return cmd    \n",
    "\n",
    "\n",
    "def countCmd(src, count_dir, exp_csv, design_fa, barcode_dict, bc_len, name, bc_thresh=10, qsub=False):\n",
    "    \"\"\"generate cmdline count argument, require bc threshold of 10\n",
    "    \n",
    "        ./nextflow run count.nf \\\n",
    "            --dir $1 \\\n",
    "            --e  $2 \\\n",
    "            --design $3 \\\n",
    "            --association $4 \\\n",
    "            --bc-length $5 \\\n",
    "            --thresh $6 \\\n",
    "            --name $7 \n",
    "    \"\"\"\n",
    "    \n",
    "    if qsub is True:\n",
    "        cmd = \" \".join([\n",
    "            \"qsub -pe smp 6 -l mem_free=10G /wynton/home/ahituv/fongsl/nullomers/bin-lock/count.sh\",  # CHANGE ME\n",
    "            count_dir, \n",
    "            exp_csv, \n",
    "            design_fa,\n",
    "            barcode_dict,\n",
    "            str(bc_len), \n",
    "            str(bc_thresh), \n",
    "            name\n",
    "            ])\n",
    "\n",
    "    \n",
    "    else:\n",
    "        cmd = \" \".join([\n",
    "            \"cd\", src,\n",
    "            \"\\n\",\n",
    "            \"nextflow run count.nf\",\n",
    "            \"--dir\",\n",
    "            count_dir,\n",
    "            \"--e\",\n",
    "            exp_csv,\n",
    "            \"--design\",\n",
    "            design_fa,\n",
    "            \"--association\",\n",
    "            barcode_dict,\n",
    "            \"--bc-length\",\n",
    "            str(bc_len),\n",
    "            #\"--umi-length\",\n",
    "            #umi_length\n",
    "            \"--thresh\", \n",
    "            str(bc_thresh), \n",
    "            \"--name\", name\n",
    "        \n",
    "        ])\n",
    "    print(\"REMEMBER TO ACTIVATE YOUR MPRAflow CONDA ENVIRONMENT!\\n\\n\", cmd)\n",
    "    return cmd"
   ]
  },
  {
   "cell_type": "markdown",
   "id": "8f23d858-3fe5-4875-8abd-a14dae55e7b2",
   "metadata": {},
   "source": [
    "## check that paths exists"
   ]
  },
  {
   "cell_type": "code",
   "execution_count": null,
   "id": "334df055-f641-414c-9fde-8fe83da4ddc7",
   "metadata": {},
   "outputs": [],
   "source": [
    "for path in [DATAPATH, ASSOC_DIR, COUNT_DIR]:\n",
    "    try:\n",
    "        os.mkdir(path)\n",
    "    except:\n",
    "        print(\"path already exists\", path)"
   ]
  },
  {
   "cell_type": "markdown",
   "id": "ae5d16ee-2fbe-457e-999e-ca0d63f202be",
   "metadata": {},
   "source": [
    "## association sequencing command"
   ]
  },
  {
   "cell_type": "code",
   "execution_count": 10,
   "id": "6552110b-1e5e-4929-9caf-61e574233c77",
   "metadata": {},
   "outputs": [
    {
     "name": "stdout",
     "output_type": "stream",
     "text": [
      "REMEMBER TO ACTIVATE YOUR MPRAflow CONDA ENVIRONMENT!\n",
      "\n",
      " qsub /wynton/home/ahituv/fongsl/nullomers/bin-lock/assoc.sh /wynton/group/ahituv/fongsl/projects/CRISPR_nullomer_MPRA/data/20230815_nullomer_MPRA_assoc null_mpra /wynton/group/ahituv/fongsl/projects/CRISPR_nullomer_MPRA/data/20230815_nullomer_MPRA_assoc/SF_asso_S1_R1_001.fastq.gz /wynton/group/ahituv/fongsl/projects/CRISPR_nullomer_MPRA/data/20230815_nullomer_MPRA_assoc/SF_asso_S1_R4_001.fastq.gz /wynton/group/ahituv/fongsl/projects/CRISPR_nullomer_MPRA/data/library/15mer.fo.pam.scaffold.ext200.library.TWIST.fa /wynton/group/ahituv/fongsl/projects/CRISPR_nullomer_MPRA/data/20230815_nullomer_MPRA_assoc/SF_asso_S1_R2_001.fastq.gz 0.7 0\n",
      "REMEMBER TO ACTIVATE YOUR MPRAflow CONDA ENVIRONMENT!\n",
      "\n",
      " qsub -pe smp 6 -l mem_free=10G /wynton/home/ahituv/fongsl/nullomers/bin-lock/count.sh /wynton/group/ahituv/fongsl/projects/CRISPR_nullomer_MPRA/data/20240430_MPRA_sequencing /wynton/group/ahituv/fongsl/projects/CRISPR_nullomer_MPRA/data/20240430_MPRA_sequencing/experiment.csv /wynton/group/ahituv/fongsl/projects/CRISPR_nullomer_MPRA/data/library/15mer.fo.pam.scaffold.ext200.library.TWIST.fa /wynton/group/ahituv/fongsl/projects/CRISPR_nullomer_MPRA/data/20230815_nullomer_MPRA_assoc/MPRAflow_results/null_mpra_filtered_coords_to_barcodes.pickle 15 10 null_mpra\n"
     ]
    }
   ],
   "source": [
    "cmds = {}\n",
    "\n",
    "cmds[\"assoc_cmd\"] = assocCmd(SRC, ASSOC_DIR, EXP_NAME, R1, R2, DESIGN, BC, MIN_FRAC, MAPQ, qsub=True) \n",
    "\n",
    "cmds[\"count_cmd\"] = countCmd(SRC, COUNT_DIR, EXP_CSV, DESIGN, BARCODE_DICT, BC_LEN, EXP_NAME, qsub=True)\n",
    "\n",
    "jsondata[\"runs\"] = cmds"
   ]
  },
  {
   "cell_type": "markdown",
   "id": "e0430ad6-c18d-4457-9a0f-33c220076fc9",
   "metadata": {},
   "source": [
    "## write json"
   ]
  },
  {
   "cell_type": "code",
   "execution_count": 8,
   "id": "b4c4b73c-0116-431d-b061-05da298f0e71",
   "metadata": {},
   "outputs": [
    {
     "name": "stdout",
     "output_type": "stream",
     "text": [
      "wrote json /wynton/group/ahituv/fongsl/projects/CRISPR_nullomer_MPRA/data/config.json\n"
     ]
    }
   ],
   "source": [
    "with open(JSON, 'w') as f:\n",
    "    json.dump(jsondata, f)\n",
    "print(\"wrote json\", JSON)"
   ]
  },
  {
   "cell_type": "code",
   "execution_count": null,
   "id": "dac3345c-e75a-410f-8956-792527b06903",
   "metadata": {},
   "outputs": [],
   "source": []
  }
 ],
 "metadata": {
  "kernelspec": {
   "display_name": "Python (mamba)",
   "language": "python",
   "name": "mamba"
  },
  "language_info": {
   "codemirror_mode": {
    "name": "ipython",
    "version": 3
   },
   "file_extension": ".py",
   "mimetype": "text/x-python",
   "name": "python",
   "nbconvert_exporter": "python",
   "pygments_lexer": "ipython3",
   "version": "3.9.16"
  },
  "toc": {
   "base_numbering": 1,
   "nav_menu": {},
   "number_sections": true,
   "sideBar": true,
   "skip_h1_title": false,
   "title_cell": "Table of Contents",
   "title_sidebar": "Contents",
   "toc_cell": false,
   "toc_position": {},
   "toc_section_display": true,
   "toc_window_display": false
  },
  "varInspector": {
   "cols": {
    "lenName": 16,
    "lenType": 16,
    "lenVar": 40
   },
   "kernels_config": {
    "python": {
     "delete_cmd_postfix": "",
     "delete_cmd_prefix": "del ",
     "library": "var_list.py",
     "varRefreshCmd": "print(var_dic_list())"
    },
    "r": {
     "delete_cmd_postfix": ") ",
     "delete_cmd_prefix": "rm(",
     "library": "var_list.r",
     "varRefreshCmd": "cat(var_dic_list()) "
    }
   },
   "types_to_exclude": [
    "module",
    "function",
    "builtin_function_or_method",
    "instance",
    "_Feature"
   ],
   "window_display": false
  }
 },
 "nbformat": 4,
 "nbformat_minor": 5
}
