{
 "cells": [
  {
   "cell_type": "code",
   "execution_count": 14,
   "id": "49c8dc61",
   "metadata": {
    "ExecuteTime": {
     "end_time": "2023-09-28T16:02:11.992768Z",
     "start_time": "2023-09-28T16:02:11.989386Z"
    }
   },
   "outputs": [],
   "source": [
    "from Bio import SeqIO\n",
    "import config_readwrite as crw\n",
    "import glob\n",
    "import os\n",
    "import sys"
   ]
  },
  {
   "cell_type": "code",
   "execution_count": 3,
   "id": "ddf9590f",
   "metadata": {
    "ExecuteTime": {
     "end_time": "2023-09-28T15:26:34.995771Z",
     "start_time": "2023-09-28T15:26:34.930039Z"
    }
   },
   "outputs": [],
   "source": [
    "config_tag = \"config\"\n",
    "config, cfn = crw.read_config(os.path.join(os.path.dirname(os.getcwd()), config_tag))"
   ]
  },
  {
   "cell_type": "code",
   "execution_count": 4,
   "id": "15357df0",
   "metadata": {
    "ExecuteTime": {
     "end_time": "2023-09-28T15:26:35.505966Z",
     "start_time": "2023-09-28T15:26:35.420810Z"
    }
   },
   "outputs": [],
   "source": [
    "PATH = \"/wynton/group/ahituv/fongsl/projects/nullomers/data/20230815_nullomer_MPRA/assoc\"\n",
    "config_tag= \"null_mpra.config\"\n",
    "cfn = os.path.join(PATH, config_tag)\n",
    "\n",
    "if os.path.exists(cfn) is False:\n",
    "    os.system(\"touch\", cfn)\n",
    "    \n",
    "config, cfn = crw.read_config()"
   ]
  },
  {
   "cell_type": "markdown",
   "id": "559f6713",
   "metadata": {
    "ExecuteTime": {
     "end_time": "2023-09-07T20:55:52.202706Z",
     "start_time": "2023-09-07T20:47:20.952088Z"
    }
   },
   "source": [
    "%%bash # 649968020\n",
    "zcat /wynton/group/ahituv/fongsl/projects/nullomers/data/20230815_nullomer_MPRA/SF_asso_S1_R1_001.fastq.gz | wc -l \n",
    "\n",
    "%%bash # 649968020\n",
    "zcat /wynton/group/ahituv/fongsl/projects/nullomers/data/20230815_nullomer_MPRA/SF_asso_S1_R2_001.fastq.gz | wc -l \n",
    "\n",
    "%%bash # 649968020\n",
    "zcat /wynton/group/ahituv/fongsl/projects/nullomers/data/20230815_nullomer_MPRA/SF_asso_S1_R4_001.fastq.gz | wc -l "
   ]
  },
  {
   "cell_type": "markdown",
   "id": "38e768a1",
   "metadata": {},
   "source": [
    "# config"
   ]
  },
  {
   "cell_type": "code",
   "execution_count": 5,
   "id": "dd1885b3",
   "metadata": {
    "ExecuteTime": {
     "end_time": "2023-09-28T15:26:36.821665Z",
     "start_time": "2023-09-28T15:26:36.815145Z"
    }
   },
   "outputs": [],
   "source": [
    "# write novogene info\n",
    "section = \"novogene\"\n",
    "crw.check(config, section)\n",
    "\n",
    "write_dict = {\n",
    "        \"Host\":\"sftp://38.122.175.98\",\n",
    "        \"Username\":\"1735-2193\",\n",
    "        \"Password\":\"BRdCV2\",\n",
    "        \"Port\":\"2222\",\n",
    "        }\n",
    "for key, value in write_dict.items():\n",
    "    config[section][key]=value"
   ]
  },
  {
   "cell_type": "code",
   "execution_count": 12,
   "id": "ba5805e2",
   "metadata": {
    "ExecuteTime": {
     "end_time": "2023-09-28T15:34:10.207789Z",
     "start_time": "2023-09-28T15:34:10.201734Z"
    }
   },
   "outputs": [],
   "source": [
    "# write association seq data, paths\n",
    "\n",
    "section = \"assoc_seq\"\n",
    "crw.check(config, section)\n",
    "PATH = \"/wynton/group/ahituv/fongsl/projects/nullomers/data/20230815_nullomer_MPRA\"\n",
    "\n",
    "\"\"\"\n",
    "NAME = \"null_mpra\"\n",
    "FASTQ_PREFIX = \"SF_asso_S1\"\n",
    "R1= os.path.join(PATH, f\"{FASTQ_PREFIX}_R1_001.fastq.gz\")\n",
    "R2= os.path.join(PATH, f\"{FASTQ_PREFIX}_R4_001.fastq.gz\")\n",
    "BC= os.path.join(PATH, f\"{FASTQ_PREFIX}_R2_001.fastq.gz\") # note: SF_asso_S1_R3_001.fastq.gz is common i5 GCCAGCGCCG\n",
    "\n",
    "\"\"\"\n",
    "#TEST\n",
    "\n",
    "NAME = \"test\"\n",
    "FASTQ_PREFIX = \"test\"\n",
    "R1= os.path.join(PATH, f\"{FASTQ_PREFIX}.R1.fastq\")\n",
    "R2= os.path.join(PATH, f\"{FASTQ_PREFIX}.R4.fastq\")\n",
    "BC= os.path.join(PATH, f\"{FASTQ_PREFIX}.R2.fastq\") # note: SF_asso_S1_R3_001.fastq.gz is common i5 GCCAGCGCCG\n",
    "\n",
    "SRC_GROUP = \"/wynton/group/ahituv/fongsl/src/MPRAflow/association/\"\n",
    "SRC_HOME = \"/wynton/home/ahituv/fongsl/MPRA/mpraflow/bin\"\n",
    "SRC_QSUB = os.path.join(SRC_HOME, \"association.sh\")\n",
    "\n",
    "DESIGN = os.path.join(os.path.join(PATH ,\"15mer.fo.pam.scaffold.ext200.library.TWIST.fa\"))\n",
    "SRC = \"/wynton/group/ahituv/fongsl/src/MPRAflow/\"\n",
    "NEXTFLOW_SCRIPT = \"/wynton/group/ahituv/fongsl/src/MPRAflow/association.nf\"\n",
    "\n",
    "MIN_FRAC = \"0.7\"\n",
    "MAPQ = 5"
   ]
  },
  {
   "cell_type": "code",
   "execution_count": 6,
   "id": "d8e0b467",
   "metadata": {
    "ExecuteTime": {
     "end_time": "2023-09-28T15:26:37.240414Z",
     "start_time": "2023-09-28T15:26:37.153983Z"
    }
   },
   "outputs": [
    {
     "ename": "FileNotFoundError",
     "evalue": "[Errno 2] No such file or directory: '/wynton/group/ahituv/fongsl/projects/nullomers/data/20230815_nullomer_MPRA/assoc/null_mpra.config.ini'",
     "output_type": "error",
     "traceback": [
      "\u001b[0;31m---------------------------------------------------------------------------\u001b[0m",
      "\u001b[0;31mFileNotFoundError\u001b[0m                         Traceback (most recent call last)",
      "Cell \u001b[0;32mIn[6], line 49\u001b[0m\n\u001b[1;32m     47\u001b[0m \u001b[38;5;28;01mfor\u001b[39;00m key, value \u001b[38;5;129;01min\u001b[39;00m write_dict\u001b[38;5;241m.\u001b[39mitems():\n\u001b[1;32m     48\u001b[0m     config[section][key]\u001b[38;5;241m=\u001b[39mvalue\n\u001b[0;32m---> 49\u001b[0m \u001b[43mcrw\u001b[49m\u001b[38;5;241;43m.\u001b[39;49m\u001b[43mwrite\u001b[49m\u001b[43m(\u001b[49m\u001b[43mconfig\u001b[49m\u001b[43m,\u001b[49m\u001b[43m \u001b[49m\u001b[43mcfn\u001b[49m\u001b[43m)\u001b[49m\n",
      "File \u001b[0;32m~/tools/py_/config_readwrite.py:38\u001b[0m, in \u001b[0;36mwrite\u001b[0;34m(config, configfile_name)\u001b[0m\n\u001b[1;32m     36\u001b[0m \u001b[38;5;28;01mdef\u001b[39;00m \u001b[38;5;21mwrite\u001b[39m(config, configfile_name):  \n\u001b[1;32m     37\u001b[0m     \u001b[38;5;66;03m# shortcut for write the config file\u001b[39;00m\n\u001b[0;32m---> 38\u001b[0m     \u001b[43mwrite_config\u001b[49m\u001b[43m(\u001b[49m\u001b[43mconfig\u001b[49m\u001b[43m,\u001b[49m\u001b[43m \u001b[49m\u001b[43mconfigfile_name\u001b[49m\u001b[43m)\u001b[49m\n",
      "File \u001b[0;32m~/tools/py_/config_readwrite.py:18\u001b[0m, in \u001b[0;36mwrite_config\u001b[0;34m(config, configfile_name)\u001b[0m\n\u001b[1;32m     16\u001b[0m \u001b[38;5;28;01mdef\u001b[39;00m \u001b[38;5;21mwrite_config\u001b[39m(config, configfile_name):  \u001b[38;5;66;03m# write the config file\u001b[39;00m\n\u001b[0;32m---> 18\u001b[0m     \u001b[38;5;28;01mwith\u001b[39;00m \u001b[38;5;28;43mopen\u001b[39;49m\u001b[43m(\u001b[49m\u001b[43mconfigfile_name\u001b[49m\u001b[43m,\u001b[49m\u001b[43m \u001b[49m\u001b[38;5;124;43m'\u001b[39;49m\u001b[38;5;124;43mw\u001b[39;49m\u001b[38;5;124;43m'\u001b[39;49m\u001b[43m)\u001b[49m \u001b[38;5;28;01mas\u001b[39;00m configfile:  \u001b[38;5;66;03m# open the configfile in write mode\u001b[39;00m\n\u001b[1;32m     20\u001b[0m         config\u001b[38;5;241m.\u001b[39mwrite(configfile)  \u001b[38;5;66;03m# write the config object to a configfile\u001b[39;00m\n\u001b[1;32m     22\u001b[0m     configfile\u001b[38;5;241m.\u001b[39mclose()\n",
      "\u001b[0;31mFileNotFoundError\u001b[0m: [Errno 2] No such file or directory: '/wynton/group/ahituv/fongsl/projects/nullomers/data/20230815_nullomer_MPRA/assoc/null_mpra.config.ini'"
     ]
    }
   ],
   "source": [
    "write_dict = {\n",
    "    \"path\":PATH,\n",
    "    \"name\":NAME,\n",
    "    \"fastq_prefix\":FASTQ_PREFIX, \n",
    "    \"ins\": R1, \n",
    "    \"inspe\": R2, \n",
    "    \"design_fa\": DESIGN, \n",
    "    \"src\": SRC,\n",
    "    \"src_qsub\":SRC_QSUB,\n",
    "    \n",
    "\n",
    "}\n",
    "\n",
    "for key, value in write_dict.items():\n",
    "    config[section][key]=value\n",
    "crw.write(config, cfn)"
   ]
  },
  {
   "cell_type": "markdown",
   "id": "990fd4bb",
   "metadata": {},
   "source": [
    "# Python"
   ]
  },
  {
   "cell_type": "code",
   "execution_count": 8,
   "id": "7bd190ba",
   "metadata": {
    "ExecuteTime": {
     "end_time": "2023-09-28T15:26:53.381781Z",
     "start_time": "2023-09-28T15:26:53.376011Z"
    }
   },
   "outputs": [
    {
     "name": "stdout",
     "output_type": "stream",
     "text": [
      "qsub /wynton/home/ahituv/fongsl/MPRA/mpraflow/bin/association.sh /wynton/group/ahituv/fongsl/projects/nullomers/data/20230815_nullomer_MPRA null_mpra_head /wynton/group/ahituv/fongsl/projects/nullomers/data/20230815_nullomer_MPRA/test.R1.fastq /wynton/group/ahituv/fongsl/projects/nullomers/data/20230815_nullomer_MPRA/test.R4.fastq /wynton/group/ahituv/fongsl/projects/nullomers/data/20230815_nullomer_MPRA/test.R2.fastq /wynton/group/ahituv/fongsl/projects/nullomers/data/20230815_nullomer_MPRA/15mer.fo.pam.scaffold.ext200.library.TWIST.fa None\n"
     ]
    }
   ],
   "source": [
    "cmd  = [\"qsub\",\n",
    "        SRC_QSUB,\n",
    "        PATH,\n",
    "        NAME,\n",
    "        R1,\n",
    "        R2,\n",
    "        BC,\n",
    "        DESIGN,\n",
    "        \"None\"\n",
    "       ]\n",
    "print(\" \".join(cmd))\n",
    "#os.system(\" \".join(cmd))"
   ]
  },
  {
   "cell_type": "markdown",
   "id": "1f3a0b29",
   "metadata": {},
   "source": [
    "# nextflow"
   ]
  },
  {
   "cell_type": "code",
   "execution_count": 13,
   "id": "8030964a",
   "metadata": {
    "ExecuteTime": {
     "end_time": "2023-09-28T15:34:19.883852Z",
     "start_time": "2023-09-28T15:34:19.877527Z"
    }
   },
   "outputs": [
    {
     "name": "stdout",
     "output_type": "stream",
     "text": [
      "cd /wynton/group/ahituv/fongsl/src/MPRAflow/ | nextflow run /wynton/group/ahituv/fongsl/src/MPRAflow/association.nf --w /wynton/group/ahituv/fongsl/projects/nullomers/data/20230815_nullomer_MPRA --name test --fastq-insert /wynton/group/ahituv/fongsl/projects/nullomers/data/20230815_nullomer_MPRA/test.R1.fastq --fastq-insertPE /wynton/group/ahituv/fongsl/projects/nullomers/data/20230815_nullomer_MPRA/test.R4.fastq --design /wynton/group/ahituv/fongsl/projects/nullomers/data/20230815_nullomer_MPRA/15mer.fo.pam.scaffold.ext200.library.TWIST.fa --fastq-bc /wynton/group/ahituv/fongsl/projects/nullomers/data/20230815_nullomer_MPRA/test.R2.fastq  --min-frac 0.7 --mapq 5\n"
     ]
    }
   ],
   "source": [
    "CMD = \" \".join([\n",
    "    \"cd\", SRC, \n",
    "    \"|\",\n",
    "    \"nextflow run\",\n",
    "    NEXTFLOW_SCRIPT,\n",
    "    \"--w\",\n",
    "    PATH,\n",
    "    \"--name\", \n",
    "    NAME,\n",
    "    \"--fastq-insert\", \n",
    "    R1, \n",
    "    \"--fastq-insertPE\", \n",
    "    R2, \n",
    "    \"--design\", \n",
    "    DESIGN, \n",
    "    \"--fastq-bc\", \n",
    "    BC, \n",
    "    \" --min-frac\", \n",
    "    MIN_FRAC, \n",
    "    \"--mapq\", \n",
    "    str(MAPQ)\n",
    "    ])\n",
    "print(CMD)"
   ]
  },
  {
   "cell_type": "markdown",
   "id": "61b1509e",
   "metadata": {},
   "source": [
    "# SCRATCH nextflow"
   ]
  },
  {
   "cell_type": "code",
   "execution_count": 5,
   "id": "a265551f",
   "metadata": {
    "ExecuteTime": {
     "end_time": "2023-09-07T15:53:35.386513Z",
     "start_time": "2023-09-07T15:53:35.378978Z"
    }
   },
   "outputs": [],
   "source": [
    "# write association seq data, paths\n",
    "\n",
    "section = \"assoc_seq\"\n",
    "crw.check(config, section)\n",
    "PATH = \"/scratch/fongsl/nullmpra\"\n",
    "NAME = \"null_mpra\"\n",
    "FASTQ_PREFIX = \"SF_asso_S1\"\n",
    "SRC= \"/scratch/fongsl/MPRAflow/\"\n",
    "\n",
    "R1= os.path.join(PATH, f\"{FASTQ_PREFIX}_R1_001.fastq.gz\")\n",
    "R2= os.path.join(PATH, f\"{FASTQ_PREFIX}_R4_001.fastq.gz\")\n",
    "BC= os.path.join(PATH, f\"{FASTQ_PREFIX}_R2_001.fastq.gz\") # note: SF_asso_S1_R3_001.fastq.gz is common i5 GCCAGCGCCG\n",
    "DESIGN = os.path.join(os.path.join(PATH ,\"15mer.fo.pam.scaffold.ext200.library.TWIST.fa\"))\n",
    "NEXTFLOW_SCRIPT = \"/scratch/fongsl/MPRAflow/association.nf\"\n"
   ]
  },
  {
   "cell_type": "code",
   "execution_count": 6,
   "id": "e2cf3376",
   "metadata": {
    "ExecuteTime": {
     "end_time": "2023-09-07T15:53:39.928273Z",
     "start_time": "2023-09-07T15:53:39.922999Z"
    }
   },
   "outputs": [
    {
     "name": "stdout",
     "output_type": "stream",
     "text": [
      "cd /scratch/fongsl/MPRAflow/ | nextflow run /scratch/fongsl/MPRAflow/association.nf --w /scratch/fongsl/nullmpra --name null_mpra --fastq-insert /scratch/fongsl/nullmpra/SF_asso_S1_R1_001.fastq.gz --fastq-insertPE /scratch/fongsl/nullmpra/SF_asso_S1_R4_001.fastq.gz --design /scratch/fongsl/nullmpra/15mer.fo.pam.scaffold.ext200.library.TWIST.fa --fastq-bc /scratch/fongsl/nullmpra/SF_asso_S1_R2_001.fastq.gz\n"
     ]
    }
   ],
   "source": [
    "CMD = \" \".join([\n",
    "    \"cd\", SRC, \n",
    "    \"|\",\n",
    "    \"nextflow run\",\n",
    "    NEXTFLOW_SCRIPT,\n",
    "    \"--w\",\n",
    "    PATH,\n",
    "    \"--name\", \n",
    "    NAME,\n",
    "    \"--fastq-insert\", \n",
    "    R1, \n",
    "    \"--fastq-insertPE\", \n",
    "    R2, \n",
    "    \"--design\", \n",
    "    DESIGN, \n",
    "    \"--fastq-bc\", \n",
    "    BC\n",
    "    ])\n",
    "print(CMD)"
   ]
  },
  {
   "cell_type": "markdown",
   "id": "449dce6d",
   "metadata": {},
   "source": [
    "# Nextflow local"
   ]
  },
  {
   "cell_type": "code",
   "execution_count": 7,
   "id": "fd1ed466",
   "metadata": {
    "ExecuteTime": {
     "end_time": "2023-09-04T23:40:41.655435Z",
     "start_time": "2023-09-04T23:40:41.646285Z"
    }
   },
   "outputs": [
    {
     "data": {
      "text/plain": [
       "'\\nfor key, value in write_dict.items():\\n    config[section][key]=value\\ncrw.write(config, cfn)\\n'"
      ]
     },
     "execution_count": 7,
     "metadata": {},
     "output_type": "execute_result"
    }
   ],
   "source": [
    "# write association seq data, paths\n",
    "\n",
    "section = \"assoc_seq\"\n",
    "#crw.check(config, section)\n",
    "PATH = '/Users/sarahfong/Desktop/Mirror/'\n",
    "NAME = \"null_mpra\"\n",
    "FASTQ_PREFIX = \"SF_asso_S1\"\n",
    "R1= os.path.join(PATH, f\"{FASTQ_PREFIX}_R1_001.fastq.gz\")\n",
    "R2= os.path.join(PATH, f\"{FASTQ_PREFIX}_R4_001.fastq.gz\")\n",
    "BC= os.path.join(PATH, f\"{FASTQ_PREFIX}_R2_001.fastq.gz\") # note: SF_asso_S1_R3_001.fastq.gz is common i5 GCCAGCGCCG\n",
    "DESIGN = os.path.join(os.path.join(PATH ,\"15mer.fo.pam.scaffold.ext200.library.TWIST.fa\"))\n",
    "SRC =\"/Users/sarahfong/MPRAflow/\"\n",
    "NEXTFLOW_SCRIPT = \"/Users/sarahfong/MPRAflow/association.nf\"\n",
    "\n",
    "write_dict = {\n",
    "    \"path\":PATH,\n",
    "    \"name\":NAME,\n",
    "    \"fastq_prefix\":FASTQ_PREFIX, \n",
    "    \"ins\": R1, \n",
    "    \"inspe\": R2, \n",
    "    \"design_fa\": DESIGN, \n",
    "    \"src\": NEXTFLOW_SCRIPT,\n",
    "#    \"src_qsub\":SRC_QSUB\n",
    "\n",
    "}\n",
    "\"\"\"\n",
    "for key, value in write_dict.items():\n",
    "    config[section][key]=value\n",
    "crw.write(config, cfn)\n",
    "\"\"\""
   ]
  },
  {
   "cell_type": "code",
   "execution_count": 8,
   "id": "81bcdcb1",
   "metadata": {
    "ExecuteTime": {
     "end_time": "2023-09-04T23:40:50.812455Z",
     "start_time": "2023-09-04T23:40:50.807550Z"
    }
   },
   "outputs": [
    {
     "name": "stdout",
     "output_type": "stream",
     "text": [
      "cd /Users/sarahfong/Desktop/Mirror/ | nextflow run /Users/sarahfong/MPRAflow/association.nf --w /Users/sarahfong/Desktop/Mirror/ --name null_mpra --fastq-insert /Users/sarahfong/Desktop/Mirror/SF_asso_S1_R1_001.fastq.gz --fastq-insertPE /Users/sarahfong/Desktop/Mirror/SF_asso_S1_R4_001.fastq.gz --design /Users/sarahfong/Desktop/Mirror/15mer.fo.pam.scaffold.ext200.library.TWIST.fa --fastq-bc /Users/sarahfong/Desktop/Mirror/SF_asso_S1_R2_001.fastq.gz\n"
     ]
    }
   ],
   "source": [
    "CMD = \" \".join([\n",
    "    \"cd\", PATH, \n",
    "    \"|\",\n",
    "    \"nextflow run\",\n",
    "    NEXTFLOW_SCRIPT,\n",
    "    \"--w\",\n",
    "    PATH,\n",
    "    \"--name\", \n",
    "    NAME,\n",
    "    \"--fastq-insert\", \n",
    "    R1, \n",
    "    \"--fastq-insertPE\", \n",
    "    R2, \n",
    "    \"--design\", \n",
    "    DESIGN, \n",
    "    \"--fastq-bc\", \n",
    "    BC\n",
    "    ])\n",
    "print(CMD)"
   ]
  },
  {
   "cell_type": "code",
   "execution_count": 4,
   "id": "ad0b8ae8",
   "metadata": {
    "ExecuteTime": {
     "end_time": "2023-09-07T05:20:52.119654Z",
     "start_time": "2023-09-07T05:20:52.113211Z"
    }
   },
   "outputs": [
    {
     "name": "stdout",
     "output_type": "stream",
     "text": [
      "python /wynton/group/ahituv/fongsl/src/MPRAflow//src/nf_ori_map_barcodes.py /wynton/group/ahituv/fongsl/src/MPRAflow/ /wynton/group/ahituv/fongsl/src/MPRAflow/work/83/f452e79db124a7de3785d9cb94238/SF_asso_S1_R2_001.fastq.gz /wynton/group/ahituv/fongsl/src/MPRAflow/work/4a/19e939611235a054f035c1cf868bd2/count_fastq.txt /wynton/group/ahituv/fongsl/src/MPRAflow/work/83/f452e79db124a7de3785d9cb94238/s_merged.bam /wynton/group/ahituv/fongsl/src/MPRAflow/work/77/e507913bf01c5bfb5a3a44d7bb486a/count_merged.txt null_mpra 30 30 n\n"
     ]
    }
   ],
   "source": [
    "BASEDIR = \"/wynton/group/ahituv/fongsl/src/MPRAflow/\"\n",
    "NAME = \"null_mpra\"\n",
    "DATA_DIR =\"/wynton/group/ahituv/fongsl/src/MPRAflow/work/83/f452e79db124a7de3785d9cb94238\"\n",
    "SCRIPT = \"/wynton/group/ahituv/fongsl/src/MPRAflow/src/nf_ori_map_barcodes.py\"\n",
    "COUNT_FASTQ = \"/wynton/group/ahituv/fongsl/src/MPRAflow/work/4a/19e939611235a054f035c1cf868bd2/count_fastq.txt\"\n",
    "FASTQ_BC = os.path.join(DATA_DIR, \"SF_asso_S1_R2_001.fastq.gz\")\n",
    "BAM=  os.path.join(DATA_DIR,\"s_merged.bam\")\n",
    "COUNT_BAM =\"/wynton/group/ahituv/fongsl/src/MPRAflow/work/77/e507913bf01c5bfb5a3a44d7bb486a/count_merged.txt\"\n",
    "MAPQ, BASEQ, CIGAR = \"30\", \"30\",  \"n\"\n",
    "cmd = [\n",
    "            f\"python {BASEDIR}/src/nf_ori_map_barcodes.py\" , \n",
    "            BASEDIR, FASTQ_BC, COUNT_FASTQ, \n",
    "            BAM, COUNT_BAM, NAME, MAPQ, BASEQ, CIGAR\n",
    "            ]\n",
    "\n",
    "print(\" \".join(cmd))"
   ]
  },
  {
   "cell_type": "code",
   "execution_count": null,
   "id": "a5f50abb",
   "metadata": {},
   "outputs": [],
   "source": [
    "    cmd =  [f\"python {BASEDIR}/src/nf_filter_barcodes.py\", \n",
    "            OUT, MAP, TABLE, \n",
    "            MIN_COV, MIN_FRAC, LABEL]"
   ]
  },
  {
   "cell_type": "code",
   "execution_count": 5,
   "id": "37d7c7ab",
   "metadata": {
    "ExecuteTime": {
     "end_time": "2023-09-07T05:23:27.328342Z",
     "start_time": "2023-09-07T05:23:27.322443Z"
    }
   },
   "outputs": [
    {
     "name": "stdout",
     "output_type": "stream",
     "text": [
      "python /wynton/group/ahituv/fongsl/src/MPRAflow/src/nf_filter_barcodes.py null_mpra_res /wynton/group/ahituv/fongsl/src/MPRAflow/null_mpra_coords_to_barcodes.pickle /wynton/group/ahituv/fongsl/src/MPRAflow/null_mpra_barcodes_per_candidate-no_repeats-no_jackpots.feather 3 0.5 /wynton/group/ahituv/fongsl/src/MPRAflow/work/4a/19e939611235a054f035c1cf868bd2/labels.txt\n"
     ]
    }
   ],
   "source": [
    "BASEDIR = \"/wynton/group/ahituv/fongsl/src/MPRAflow/\"\n",
    "\n",
    "NAME = \"null_mpra\"\n",
    "OUT = f\"{NAME}_res\"\n",
    "MAP = os.path.join(BASEDIR, f\"{NAME}_coords_to_barcodes.pickle\")\n",
    "TABLE = os.path.join(BASEDIR, f\"{NAME}_barcodes_per_candidate-no_repeats-no_jackpots.feather\")\n",
    "MIN_COV = str(3)\n",
    "MIN_FRAC = str(0.5)\n",
    "LABEL = \"/wynton/group/ahituv/fongsl/src/MPRAflow/work/4a/19e939611235a054f035c1cf868bd2/labels.txt\"\n",
    "SCRIPT= \"/wynton/group/ahituv/fongsl/src/MPRAflow/src/nf_filter_barcodes.py \"\n",
    "cmd =  [f\"python {BASEDIR}src/nf_filter_barcodes.py\", \n",
    "            OUT, MAP, TABLE, \n",
    "            MIN_COV, MIN_FRAC, LABEL]\n",
    "\n",
    "print(\" \".join(cmd))"
   ]
  },
  {
   "cell_type": "markdown",
   "id": "6e7c8311",
   "metadata": {},
   "source": [
    "    # example from gordon 2020\n",
    "    \n",
    "    nextflow run --w <path/to/Basic>/Assoc_Basic/work association.nf \n",
    "             --name SRR10800986 \n",
    "        --fastq-insert \"<path/to/Basic>/Assoc_Basic/data/ SRR10800986_1.fastq.gz\" \n",
    "        --fastq-insertPE \"<path/to/Basic>/Assoc_Basic/ data/SRR10800986_3.fastq.gz\" \n",
    "        --fastq-bc \"<path/to/Basic>/Assoc_ Basic/data/SRR10800986_2.fastq.gz\" \n",
    "        --design \"<path/to/Basic>/Assoc_ Basic/data/design.fa\""
   ]
  }
 ],
 "metadata": {
  "kernelspec": {
   "display_name": "Python (mamba)",
   "language": "python",
   "name": "mamba"
  },
  "language_info": {
   "codemirror_mode": {
    "name": "ipython",
    "version": 3
   },
   "file_extension": ".py",
   "mimetype": "text/x-python",
   "name": "python",
   "nbconvert_exporter": "python",
   "pygments_lexer": "ipython3",
   "version": "3.9.16"
  },
  "toc": {
   "base_numbering": 1,
   "nav_menu": {},
   "number_sections": true,
   "sideBar": true,
   "skip_h1_title": false,
   "title_cell": "Table of Contents",
   "title_sidebar": "Contents",
   "toc_cell": false,
   "toc_position": {},
   "toc_section_display": true,
   "toc_window_display": false
  },
  "varInspector": {
   "cols": {
    "lenName": 16,
    "lenType": 16,
    "lenVar": 40
   },
   "kernels_config": {
    "python": {
     "delete_cmd_postfix": "",
     "delete_cmd_prefix": "del ",
     "library": "var_list.py",
     "varRefreshCmd": "print(var_dic_list())"
    },
    "r": {
     "delete_cmd_postfix": ") ",
     "delete_cmd_prefix": "rm(",
     "library": "var_list.r",
     "varRefreshCmd": "cat(var_dic_list()) "
    }
   },
   "types_to_exclude": [
    "module",
    "function",
    "builtin_function_or_method",
    "instance",
    "_Feature"
   ],
   "window_display": false
  }
 },
 "nbformat": 4,
 "nbformat_minor": 5
}
