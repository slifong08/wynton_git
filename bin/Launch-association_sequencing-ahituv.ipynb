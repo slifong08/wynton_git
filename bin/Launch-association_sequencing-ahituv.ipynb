{
 "cells": [
  {
   "cell_type": "markdown",
   "id": "618e052c",
   "metadata": {},
   "source": [
    "# Launch Association sequencing on Wynton"
   ]
  },
  {
   "cell_type": "code",
   "execution_count": 1,
   "id": "49c8dc61",
   "metadata": {
    "ExecuteTime": {
     "end_time": "2023-09-28T17:01:19.639312Z",
     "start_time": "2023-09-28T17:01:19.227708Z"
    }
   },
   "outputs": [],
   "source": [
    "from Bio import SeqIO\n",
    "import config_readwrite as crw\n",
    "import glob\n",
    "import os\n",
    "import sys"
   ]
  },
  {
   "cell_type": "code",
   "execution_count": 2,
   "id": "ddf9590f",
   "metadata": {
    "ExecuteTime": {
     "end_time": "2023-09-28T17:01:19.647364Z",
     "start_time": "2023-09-28T17:01:19.642117Z"
    }
   },
   "outputs": [],
   "source": [
    "config_tag = \"config\"\n",
    "config, cfn = crw.read_config(os.path.join(os.path.dirname(os.getcwd()), config_tag))"
   ]
  },
  {
   "cell_type": "code",
   "execution_count": 3,
   "id": "15357df0",
   "metadata": {
    "ExecuteTime": {
     "end_time": "2023-09-28T17:01:19.760918Z",
     "start_time": "2023-09-28T17:01:19.650761Z"
    }
   },
   "outputs": [],
   "source": [
    "PATH = \"/wynton/group/ahituv/fongsl/projects/nullomers/data/20230815_nullomer_MPRA/assoc\"\n",
    "config_tag= \"null_mpra.config\"\n",
    "cfn = os.path.join(PATH, config_tag)\n",
    "\n",
    "if os.path.exists(cfn) is False:\n",
    "    if os.path.exists(PATH) is False:\n",
    "         os.system(f\"mkdir {PATH}\")\n",
    "    os.system(f\"touch {cfn}\")\n",
    "    \n",
    "config, cfn = crw.read_config(cfn)"
   ]
  },
  {
   "cell_type": "markdown",
   "id": "38e768a1",
   "metadata": {},
   "source": [
    "# config"
   ]
  },
  {
   "cell_type": "markdown",
   "id": "895c6cc1",
   "metadata": {},
   "source": [
    "## Novogene download"
   ]
  },
  {
   "cell_type": "code",
   "execution_count": 4,
   "id": "dd1885b3",
   "metadata": {
    "ExecuteTime": {
     "end_time": "2023-09-28T17:01:19.817732Z",
     "start_time": "2023-09-28T17:01:19.763699Z"
    }
   },
   "outputs": [],
   "source": [
    "# write novogene info\n",
    "section = \"novogene\"\n",
    "crw.check(config, section)\n",
    "\n",
    "write_dict = {\n",
    "        \"Host\":\"sftp://38.122.175.98\",\n",
    "        \"Username\":\"1735-2193\",\n",
    "        \"Password\":\"BRdCV2\",\n",
    "        \"Port\":\"2222\",\n",
    "        }\n",
    "for key, value in write_dict.items():\n",
    "    config[section][key]=value"
   ]
  },
  {
   "cell_type": "markdown",
   "id": "7fd037b3",
   "metadata": {},
   "source": [
    "## Parameters"
   ]
  },
  {
   "cell_type": "code",
   "execution_count": 5,
   "id": "01bafaa8",
   "metadata": {
    "ExecuteTime": {
     "end_time": "2023-09-28T17:01:19.888697Z",
     "start_time": "2023-09-28T17:01:19.820234Z"
    }
   },
   "outputs": [],
   "source": [
    "PATH = \"/wynton/group/ahituv/fongsl/projects/nullomers/data/20230815_nullomer_MPRA\"  # change me\n",
    "\n",
    "NAME = \"null_mpra\"  # change me\n",
    "FASTQ_PREFIX = \"SF_asso_S1\"  # change me\n",
    "DESIGN_FILENAME = \"15mer.fo.pam.scaffold.ext200.library.TWIST.fa\"  #change me\n",
    "\n",
    "SRC = \"/wynton/group/ahituv/fongsl/src/MPRAflow/\"\n",
    "NEXTFLOW_SCRIPT = os.path.join(SRC, \"association.nf\")\n",
    "DESIGN = os.path.join(PATH, DESIGN_FILENAME)\n",
    "\n",
    "MIN_FRAC = \"0.7\"  # change me\n",
    "MAPQ = 5  #change me"
   ]
  },
  {
   "cell_type": "markdown",
   "id": "1ded8d0d",
   "metadata": {},
   "source": [
    "## add to configuration file"
   ]
  },
  {
   "cell_type": "code",
   "execution_count": 7,
   "id": "ba5805e2",
   "metadata": {
    "ExecuteTime": {
     "end_time": "2023-09-28T17:06:26.186534Z",
     "start_time": "2023-09-28T17:06:26.176903Z"
    }
   },
   "outputs": [],
   "source": [
    "section = \"assoc_seq\"\n",
    "crw.check(config, section)\n",
    "\n",
    "R1= os.path.join(PATH, f\"{FASTQ_PREFIX}_R1_001.fastq.gz\")\n",
    "R2= os.path.join(PATH, f\"{FASTQ_PREFIX}_R4_001.fastq.gz\")\n",
    "BC= os.path.join(PATH, f\"{FASTQ_PREFIX}_R2_001.fastq.gz\") # note: SF_asso_S1_R3_001.fastq.gz is common i5 GCCAGCGCCG\n",
    "\n",
    "\n",
    "# write to config\n",
    "write_dict = {\n",
    "    \"path\":PATH,\n",
    "    \"name\":NAME,\n",
    "    \"fastq_prefix\":FASTQ_PREFIX, \n",
    "    \"ins\": R1, \n",
    "    \"inspe\": R2, \n",
    "    \"design_fa\": DESIGN, \n",
    "    \"src\": SRC,\n",
    "\n",
    "    \"min_frac\": str(MIN_FRAC), \n",
    "    \"mapq\": str(MAPQ), \n",
    "    \"nextflow_script\":NEXTFLOW_SCRIPT,  \n",
    "\n",
    "}\n",
    "\n",
    "for key, value in write_dict.items():\n",
    "    config[section][key]=value\n",
    "crw.write(config, cfn)"
   ]
  },
  {
   "cell_type": "markdown",
   "id": "1f3a0b29",
   "metadata": {},
   "source": [
    "# Command line command - nextflow "
   ]
  },
  {
   "cell_type": "code",
   "execution_count": 8,
   "id": "8030964a",
   "metadata": {
    "ExecuteTime": {
     "end_time": "2023-09-28T17:06:28.621158Z",
     "start_time": "2023-09-28T17:06:28.615936Z"
    }
   },
   "outputs": [
    {
     "name": "stdout",
     "output_type": "stream",
     "text": [
      "REMEMBER TO ACTIVATE YOUR MPRAflow CONDA ENVIRONMENT!\n",
      "\n",
      " cd /wynton/group/ahituv/fongsl/src/MPRAflow/ | nextflow run /wynton/group/ahituv/fongsl/src/MPRAflow/association.nf --w /wynton/group/ahituv/fongsl/projects/nullomers/data/20230815_nullomer_MPRA --name null_mpra --fastq-insert /wynton/group/ahituv/fongsl/projects/nullomers/data/20230815_nullomer_MPRA/SF_asso_S1_R1_001.fastq.gz --fastq-insertPE /wynton/group/ahituv/fongsl/projects/nullomers/data/20230815_nullomer_MPRA/SF_asso_S1_R4_001.fastq.gz --design /wynton/group/ahituv/fongsl/projects/nullomers/data/20230815_nullomer_MPRA/15mer.fo.pam.scaffold.ext200.library.TWIST.fa --fastq-bc /wynton/group/ahituv/fongsl/projects/nullomers/data/20230815_nullomer_MPRA/SF_asso_S1_R2_001.fastq.gz  --min-frac 0.7 --mapq 5\n"
     ]
    }
   ],
   "source": [
    "CMD = \" \".join([\n",
    "    \"cd\", SRC, \n",
    "    \"|\",\n",
    "    \"nextflow run\",\n",
    "    NEXTFLOW_SCRIPT,\n",
    "    \"--w\",\n",
    "    PATH,\n",
    "    \"--name\", \n",
    "    NAME,\n",
    "    \"--fastq-insert\", \n",
    "    R1, \n",
    "    \"--fastq-insertPE\", \n",
    "    R2, \n",
    "    \"--design\", \n",
    "    DESIGN, \n",
    "    \"--fastq-bc\", \n",
    "    BC, \n",
    "    \" --min-frac\", \n",
    "    MIN_FRAC, \n",
    "    \"--mapq\", \n",
    "    str(MAPQ)\n",
    "    ])\n",
    "print(\"REMEMBER TO ACTIVATE YOUR MPRAflow CONDA ENVIRONMENT!\\n\\n\", CMD)"
   ]
  },
  {
   "cell_type": "code",
   "execution_count": null,
   "id": "06124b7e",
   "metadata": {
    "ExecuteTime": {
     "end_time": "2023-09-28T17:01:20.805817Z",
     "start_time": "2023-09-28T17:01:20.805800Z"
    }
   },
   "outputs": [],
   "source": [
    "CMD"
   ]
  },
  {
   "cell_type": "markdown",
   "id": "6e7c8311",
   "metadata": {},
   "source": [
    "    # example from gordon 2020\n",
    "    \n",
    "    nextflow run --w <path/to/Basic>/Assoc_Basic/work association.nf \n",
    "             --name SRR10800986 \n",
    "        --fastq-insert \"<path/to/Basic>/Assoc_Basic/data/ SRR10800986_1.fastq.gz\" \n",
    "        --fastq-insertPE \"<path/to/Basic>/Assoc_Basic/ data/SRR10800986_3.fastq.gz\" \n",
    "        --fastq-bc \"<path/to/Basic>/Assoc_ Basic/data/SRR10800986_2.fastq.gz\" \n",
    "        --design \"<path/to/Basic>/Assoc_ Basic/data/design.fa\""
   ]
  }
 ],
 "metadata": {
  "kernelspec": {
   "display_name": "Python (mamba)",
   "language": "python",
   "name": "mamba"
  },
  "language_info": {
   "codemirror_mode": {
    "name": "ipython",
    "version": 3
   },
   "file_extension": ".py",
   "mimetype": "text/x-python",
   "name": "python",
   "nbconvert_exporter": "python",
   "pygments_lexer": "ipython3",
   "version": "3.9.16"
  },
  "toc": {
   "base_numbering": 1,
   "nav_menu": {},
   "number_sections": true,
   "sideBar": true,
   "skip_h1_title": false,
   "title_cell": "Table of Contents",
   "title_sidebar": "Contents",
   "toc_cell": false,
   "toc_position": {},
   "toc_section_display": true,
   "toc_window_display": false
  },
  "varInspector": {
   "cols": {
    "lenName": 16,
    "lenType": 16,
    "lenVar": 40
   },
   "kernels_config": {
    "python": {
     "delete_cmd_postfix": "",
     "delete_cmd_prefix": "del ",
     "library": "var_list.py",
     "varRefreshCmd": "print(var_dic_list())"
    },
    "r": {
     "delete_cmd_postfix": ") ",
     "delete_cmd_prefix": "rm(",
     "library": "var_list.r",
     "varRefreshCmd": "cat(var_dic_list()) "
    }
   },
   "types_to_exclude": [
    "module",
    "function",
    "builtin_function_or_method",
    "instance",
    "_Feature"
   ],
   "window_display": false
  }
 },
 "nbformat": 4,
 "nbformat_minor": 5
}
