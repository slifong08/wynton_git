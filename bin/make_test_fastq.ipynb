{
 "cells": [
  {
   "cell_type": "markdown",
   "id": "82e5e489",
   "metadata": {},
   "source": [
    "# 20240503 \n",
    "## sarah fong\n",
    "\n",
    "for writing short fastq files that are easier to develop mpraflow wynton pipeline with"
   ]
  },
  {
   "cell_type": "code",
   "execution_count": 3,
   "id": "08859437",
   "metadata": {
    "ExecuteTime": {
     "end_time": "2024-05-03T19:28:43.246381Z",
     "start_time": "2024-05-03T19:28:43.243336Z"
    }
   },
   "outputs": [],
   "source": [
    "import glob\n",
    "import os, sys"
   ]
  },
  {
   "cell_type": "markdown",
   "id": "a6ecd863",
   "metadata": {},
   "source": [
    "## functions"
   ]
  },
  {
   "cell_type": "code",
   "execution_count": 4,
   "id": "228e9e63",
   "metadata": {
    "ExecuteTime": {
     "end_time": "2024-05-03T19:28:43.852600Z",
     "start_time": "2024-05-03T19:28:43.846909Z"
    }
   },
   "outputs": [],
   "source": [
    "def makeTestDir(path):\n",
    "    \"\"\"make dir for test files\"\"\"\n",
    "    \n",
    "    path_test = os.path.join(path, \"test\")\n",
    "    try:\n",
    "        os.mkdir(path_test)\n",
    "    except:\n",
    "        print(\"made path\", path_test)\n",
    "    return path_test\n",
    "\n",
    "\n",
    "def makeShortFastq(file, path, nlines=1000):\n",
    "    \"\"\" print fastq, first 1000 lines to a new fastq for development\"\"\"\n",
    "\n",
    "    outfile = os.path.join(path, \"test.\" + file.strip(\".gz\")) # write test files\n",
    "    \n",
    "    cmd = ' '.join([\n",
    "                    'zmore',\n",
    "                    file,\n",
    "                    \"|\",\n",
    "                    \"head -n\", \n",
    "                    str(nlines),\n",
    "                    \">\",\n",
    "                    outfile\n",
    "                ])\n",
    "\n",
    "    if os.path.exists(outfile) is False:\n",
    "        print(cmd)\n",
    "        os.system(cmd)\n",
    "    else:\n",
    "        print(\"already made test file\", outfile)"
   ]
  },
  {
   "cell_type": "markdown",
   "id": "28fe9313",
   "metadata": {},
   "source": [
    "## main "
   ]
  },
  {
   "cell_type": "markdown",
   "id": "a5f7cfaa",
   "metadata": {},
   "source": [
    "### make test directory"
   ]
  },
  {
   "cell_type": "code",
   "execution_count": 15,
   "id": "d53e64a0",
   "metadata": {
    "ExecuteTime": {
     "end_time": "2024-05-03T19:29:37.710901Z",
     "start_time": "2024-05-03T19:29:37.678711Z"
    }
   },
   "outputs": [
    {
     "name": "stdout",
     "output_type": "stream",
     "text": [
      "1735-2193-QC-summary.csv\n",
      "assoc\n",
      "make_test.sh\n",
      "md5_old.txt\n",
      "md5.txt\n",
      "MPRAflow_results\n",
      "SF_asso_S1_R1_001.fastq.gz\n",
      "SF_asso_S1_R2_001.fastq.gz\n",
      "SF_asso_S1_R3_001.fastq.gz\n",
      "SF_asso_S1_R4_001.fastq.gz\n",
      "test\n",
      "test_R1_001.fastq.gz\n",
      "test_R2_001.fastq.gz\n",
      "test_R4_001.fastq.gz\n"
     ]
    }
   ],
   "source": [
    "%%bash\n",
    "ls /wynton/group/ahituv/fongsl/projects/CRISPR_nullomer_MPRA/data/20230815_nullomer_MPRA_assoc/"
   ]
  },
  {
   "cell_type": "code",
   "execution_count": 11,
   "id": "5a5baae1",
   "metadata": {
    "ExecuteTime": {
     "end_time": "2024-05-03T19:29:24.643303Z",
     "start_time": "2024-05-03T19:29:24.638816Z"
    }
   },
   "outputs": [
    {
     "name": "stdout",
     "output_type": "stream",
     "text": [
      "made path /wynton/group/ahituv/fongsl/projects/CRISPR_nullomer_MPRA/data/20230815_nullomer_MPRA_assoc/test\n"
     ]
    }
   ],
   "source": [
    "PATH = os.getcwd()  # from current working directory\n",
    "\n",
    "PATH = \"/wynton/group/ahituv/fongsl/projects/CRISPR_nullomer_MPRA/data/20230815_nullomer_MPRA_assoc\"\n",
    "\n",
    "OUTPATH = makeTestDir(PATH)  # make dir"
   ]
  },
  {
   "cell_type": "code",
   "execution_count": 12,
   "id": "86f7060a",
   "metadata": {
    "ExecuteTime": {
     "end_time": "2024-05-03T19:29:26.246639Z",
     "start_time": "2024-05-03T19:29:26.243057Z"
    }
   },
   "outputs": [],
   "source": [
    "files = glob.glob(\"*fastq.gz\")  # get fastq files\n",
    "\n",
    "for file in files:\n",
    "    if \"RNA\" in file or \"DNA\" in file:  # don't make undetermined file\n",
    "\n",
    "        makeShortFastq(file, OUTPATH, nlines=1000)\n"
   ]
  },
  {
   "cell_type": "code",
   "execution_count": null,
   "id": "40498731",
   "metadata": {},
   "outputs": [],
   "source": []
  }
 ],
 "metadata": {
  "kernelspec": {
   "display_name": "Python (mamba)",
   "language": "python",
   "name": "mamba"
  },
  "language_info": {
   "codemirror_mode": {
    "name": "ipython",
    "version": 3
   },
   "file_extension": ".py",
   "mimetype": "text/x-python",
   "name": "python",
   "nbconvert_exporter": "python",
   "pygments_lexer": "ipython3",
   "version": "3.9.16"
  },
  "toc": {
   "base_numbering": 1,
   "nav_menu": {},
   "number_sections": true,
   "sideBar": true,
   "skip_h1_title": false,
   "title_cell": "Table of Contents",
   "title_sidebar": "Contents",
   "toc_cell": false,
   "toc_position": {},
   "toc_section_display": true,
   "toc_window_display": false
  },
  "varInspector": {
   "cols": {
    "lenName": 16,
    "lenType": 16,
    "lenVar": 40
   },
   "kernels_config": {
    "python": {
     "delete_cmd_postfix": "",
     "delete_cmd_prefix": "del ",
     "library": "var_list.py",
     "varRefreshCmd": "print(var_dic_list())"
    },
    "r": {
     "delete_cmd_postfix": ") ",
     "delete_cmd_prefix": "rm(",
     "library": "var_list.r",
     "varRefreshCmd": "cat(var_dic_list()) "
    }
   },
   "types_to_exclude": [
    "module",
    "function",
    "builtin_function_or_method",
    "instance",
    "_Feature"
   ],
   "window_display": false
  }
 },
 "nbformat": 4,
 "nbformat_minor": 5
}
