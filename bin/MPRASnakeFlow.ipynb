{
 "cells": [
  {
   "cell_type": "markdown",
   "id": "0c286872-0d02-49bc-a2d2-1a9397c0c423",
   "metadata": {},
   "source": [
    "# 20240502 \n",
    "# sarah fong\n",
    "\n",
    "MPRA snakeflow on wynton\n",
    "# goal \n",
    "- MPRA flow is very old, not well maintained, straddles python2 and python3 functions. Wynton is typically not compatible. \n",
    "- MPRAsnakeflow is more recent, more maintained and may be easier to use w/ wynton. I will attempt to use snakeflow with wynton\n",
    "\n",
    "\n",
    "# instructions"
   ]
  },
  {
   "cell_type": "markdown",
   "id": "dc672003-e1c2-4d97-a9e6-736f0dc36883",
   "metadata": {},
   "source": [
    "## download conda\n",
    "    ml spider miniconda\n",
    "    ml load CBI miniconda/"
   ]
  },
  {
   "cell_type": "markdown",
   "id": "1cc663d9-0912-4b53-a5b8-f62678ab4d4e",
   "metadata": {},
   "source": [
    "## download snakemake"
   ]
  },
  {
   "cell_type": "markdown",
   "id": "69eeaaff-154e-49d4-987f-7009b1997597",
   "metadata": {},
   "source": [
    "https://snakemake.readthedocs.io/en/stable/getting_started/installation.html"
   ]
  },
  {
   "cell_type": "markdown",
   "id": "d5b5857a-0a40-4df8-99dd-7c3a9f9dcf18",
   "metadata": {},
   "source": [
    "    conda create -c conda-forge -c bioconda -n snakemake snakemake=8.11  # make snakemake environment\n",
    "    \n",
    "    conda activate snakemake  # activate the environment"
   ]
  },
  {
   "cell_type": "markdown",
   "id": "c19318d0-d802-4d48-a759-aa1b95cd68ff",
   "metadata": {},
   "source": [
    "## download MPRAsnakeflow\n",
    "\n",
    "https://mprasnakeflow.readthedocs.io/en/"
   ]
  },
  {
   "cell_type": "markdown",
   "id": "94f9fba9-ce83-40ee-b410-b4e07ff1eb5b",
   "metadata": {},
   "source": [
    "    git clone https://github.com/kircherlab/MPRAsnakeflow.git"
   ]
  },
  {
   "cell_type": "code",
   "execution_count": null,
   "id": "b5499b58-ee32-4a76-a3bc-d0700034876c",
   "metadata": {},
   "outputs": [],
   "source": []
  }
 ],
 "metadata": {
  "kernelspec": {
   "display_name": "Python (mamba)",
   "language": "python",
   "name": "mamba"
  },
  "language_info": {
   "codemirror_mode": {
    "name": "ipython",
    "version": 3
   },
   "file_extension": ".py",
   "mimetype": "text/x-python",
   "name": "python",
   "nbconvert_exporter": "python",
   "pygments_lexer": "ipython3",
   "version": "3.9.16"
  }
 },
 "nbformat": 4,
 "nbformat_minor": 5
}
