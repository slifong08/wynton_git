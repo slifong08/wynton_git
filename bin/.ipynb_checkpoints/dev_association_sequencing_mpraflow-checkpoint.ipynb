{
 "cells": [
  {
   "cell_type": "markdown",
   "id": "71cb52bd",
   "metadata": {},
   "source": [
    "# MPRA flow\n",
    "20230829 \n",
    "sarahfong\n",
    "\n",
    "\n",
    "    adapted for python + qsub on wynton\n",
    "    because nextflow does not play well with wynton\n",
    "    \n",
    "    Requires environment modules from wynton\n",
    "        Loading samtools, bwa, picard\n",
    "        \n",
    "        ml load CBI picard/2.27.5  samtools/1.18  bwa/0.7.17"
   ]
  },
  {
   "cell_type": "code",
   "execution_count": 3,
   "id": "b90e3858",
   "metadata": {
    "ExecuteTime": {
     "end_time": "2023-09-02T18:55:24.638319Z",
     "start_time": "2023-09-02T18:55:24.632349Z"
    }
   },
   "outputs": [],
   "source": [
    "import argparse\n",
    "from Bio.SeqIO.QualityIO import FastqGeneralIterator\n",
    "from Bio.SeqIO.FastaIO import SimpleFastaParser\n",
    "import glob\n",
    "import gzip\n",
    "import os, sys\n",
    "import subprocess as sp\n",
    "\n",
    "sys.path.append(\"/wynton/group/ahituv/fongsl/tools/py_\")\n",
    "import config_readwrite as crw"
   ]
  },
  {
   "cell_type": "markdown",
   "id": "89288f47",
   "metadata": {},
   "source": [
    "# Args"
   ]
  },
  {
   "cell_type": "code",
   "execution_count": 4,
   "id": "b0c4488c",
   "metadata": {
    "ExecuteTime": {
     "end_time": "2023-09-02T18:55:24.798115Z",
     "start_time": "2023-09-02T18:55:24.645260Z"
    }
   },
   "outputs": [
    {
     "data": {
      "text/plain": [
       "'arg_parser = argparse.ArgumentParser(description=\"run MPRA flow with python\")\\n\\narg_parser.add_argument(\"path\", type=str, help=\\'full path to fastq read directory\\')\\narg_parser.add_argument(\"name\", type=str, help=\\'name of experiment\\')\\narg_parser.add_argument(\"INS\", type=str, help=\\'Fastq insert reads\\')\\narg_parser.add_argument(\"PE\",  type=str, help=\\'Fastq Paired end reads\\')\\narg_parser.add_argument(\"barcode\", type=str, help=\\'barcodes as demultiplexed i7 fastq reads\\')\\narg_parser.add_argument(\"design\", type=str, help=\\'fasta file of library design\\')\\n\\nargs = arg_parser.parse_args()\\n\\n# parse args into variables\\nPATH = args.path\\nNAME = args.name\\nDESIGN = args.design\\nINS, INSPE = args.INS, args.PE\\nLABELS = None\\nFASTQ_BC = args.barcode\\n'"
      ]
     },
     "execution_count": 4,
     "metadata": {},
     "output_type": "execute_result"
    }
   ],
   "source": [
    "\"\"\"arg_parser = argparse.ArgumentParser(description=\"run MPRA flow with python\")\n",
    "\n",
    "arg_parser.add_argument(\"path\", type=str, help='full path to fastq read directory')\n",
    "arg_parser.add_argument(\"name\", type=str, help='name of experiment')\n",
    "arg_parser.add_argument(\"INS\", type=str, help='Fastq insert reads')\n",
    "arg_parser.add_argument(\"PE\",  type=str, help='Fastq Paired end reads')\n",
    "arg_parser.add_argument(\"barcode\", type=str, help='barcodes as demultiplexed i7 fastq reads')\n",
    "arg_parser.add_argument(\"design\", type=str, help='fasta file of library design')\n",
    "\n",
    "args = arg_parser.parse_args()\n",
    "\n",
    "# parse args into variables\n",
    "PATH = args.path\n",
    "NAME = args.name\n",
    "DESIGN = args.design\n",
    "INS, INSPE = args.INS, args.PE\n",
    "LABELS = None\n",
    "FASTQ_BC = args.barcode\n",
    "\"\"\""
   ]
  },
  {
   "cell_type": "markdown",
   "id": "f39b6a9c",
   "metadata": {},
   "source": [
    "# DEV PARAMS"
   ]
  },
  {
   "cell_type": "code",
   "execution_count": 5,
   "id": "497290a9",
   "metadata": {
    "ExecuteTime": {
     "end_time": "2023-09-02T18:55:24.889670Z",
     "start_time": "2023-09-02T18:55:24.802117Z"
    }
   },
   "outputs": [
    {
     "data": {
      "text/plain": [
       "'\\nPATH = \"/wynton/group/ahituv/fongsl/projects/nullomers/data/20230815_nullomer_MPRA/test\"\\nNAME = \"TEST\"\\nDESIGN = os.path.join(os.path.dirname(PATH), \"15mer.fo.pam.scaffold.ext200.library.TWIST.fa\")\\nINS = \"SF_asso_S1_R1_001.fastq.TEST.gz\"\\nINSPE =\"SF_asso_S1_R4_001.fastq.TEST.gz\"\\nFASTQ_BC = \"SF_asso_S1_R2_001.fastq.TEST.gz\"\\nLABELS = None\\n\\n\\nos.chdir(PATH)\\n'"
      ]
     },
     "execution_count": 5,
     "metadata": {},
     "output_type": "execute_result"
    }
   ],
   "source": [
    "\"\"\"\n",
    "PATH = \"/wynton/group/ahituv/fongsl/projects/nullomers/data/20230815_nullomer_MPRA/test\"\n",
    "NAME = \"TEST\"\n",
    "DESIGN = os.path.join(os.path.dirname(PATH), \"15mer.fo.pam.scaffold.ext200.library.TWIST.fa\")\n",
    "INS = \"SF_asso_S1_R1_001.fastq.TEST.gz\"\n",
    "INSPE =\"SF_asso_S1_R4_001.fastq.TEST.gz\"\n",
    "FASTQ_BC = \"SF_asso_S1_R2_001.fastq.TEST.gz\"\n",
    "LABELS = None\n",
    "\n",
    "\n",
    "os.chdir(PATH)\n",
    "\"\"\""
   ]
  },
  {
   "cell_type": "code",
   "execution_count": 6,
   "id": "038ed546",
   "metadata": {
    "ExecuteTime": {
     "end_time": "2023-09-02T18:55:24.962783Z",
     "start_time": "2023-09-02T18:55:24.892671Z"
    }
   },
   "outputs": [
    {
     "data": {
      "text/plain": [
       "'\\nPATH = \"/wynton/group/ahituv/fongsl/projects/nullomers/data/20230815_nullomer_MPRA/\"\\nNAME = \"nullomer_mpra\"\\nDESIGN = os.path.join(os.path.dirname(PATH), \"15mer.fo.pam.scaffold.ext200.library.TWIST.fa\")\\nDESIGN = os.path.join(PATH, \"15mer.fo.pam.scaffold.ext200.library.TWIST.fa\")\\nINS = \"SF_asso_S1_R1_001.fastq.gz\"\\nINSPE =\"SF_asso_S1_R4_001.fastq.gz\"\\nFASTQ_BC = \"SF_asso_S1_R2_001.fastq.gz\"\\nLABELS = None\\n\\n\\nos.chdir(PATH)\\n'"
      ]
     },
     "execution_count": 6,
     "metadata": {},
     "output_type": "execute_result"
    }
   ],
   "source": [
    "\"\"\"\n",
    "PATH = \"/wynton/group/ahituv/fongsl/projects/nullomers/data/20230815_nullomer_MPRA/\"\n",
    "NAME = \"nullomer_mpra\"\n",
    "DESIGN = os.path.join(os.path.dirname(PATH), \"15mer.fo.pam.scaffold.ext200.library.TWIST.fa\")\n",
    "DESIGN = os.path.join(PATH, \"15mer.fo.pam.scaffold.ext200.library.TWIST.fa\")\n",
    "INS = \"SF_asso_S1_R1_001.fastq.gz\"\n",
    "INSPE =\"SF_asso_S1_R4_001.fastq.gz\"\n",
    "FASTQ_BC = \"SF_asso_S1_R2_001.fastq.gz\"\n",
    "LABELS = None\n",
    "\n",
    "\n",
    "os.chdir(PATH)\n",
    "\"\"\""
   ]
  },
  {
   "cell_type": "code",
   "execution_count": 7,
   "id": "f1e3f87f",
   "metadata": {
    "ExecuteTime": {
     "end_time": "2023-09-02T18:55:25.024596Z",
     "start_time": "2023-09-02T18:55:24.969378Z"
    }
   },
   "outputs": [],
   "source": [
    "PATH, NAME = '/wynton/group/ahituv/fongsl/projects/nullomers/data/20230815_nullomer_MPRA', 'null_mpra'"
   ]
  },
  {
   "cell_type": "code",
   "execution_count": 8,
   "id": "687b3172",
   "metadata": {
    "ExecuteTime": {
     "end_time": "2023-09-02T18:55:25.133397Z",
     "start_time": "2023-09-02T18:55:25.027822Z"
    }
   },
   "outputs": [
    {
     "name": "stdout",
     "output_type": "stream",
     "text": [
      "/wynton/group/ahituv/fongsl/projects/nullomers/data/20230815_nullomer_MPRA/15mer.fo.pam.scaffold.ext200.library.TWIST.fa None\n"
     ]
    }
   ],
   "source": [
    "# read config\n",
    "CONFIG_NAME = os.path.join(PATH, \"assoc\", NAME + \".config.ini\")\n",
    "\n",
    "# read \n",
    "config, cfn = crw.read(CONFIG_NAME) \n",
    "\n",
    "# new section - params\n",
    "section = \"params\"\n",
    "\n",
    "PATH = config[section][\"assoc_path\"]\n",
    "NAME = config[section][\"name\"]\n",
    "BASEDIR = config[section][\"basedir\"] \n",
    "DESIGN = config[section][\"design\"]\n",
    "LABELS = config[section][\"labels\"] \n",
    "\n",
    "\n",
    "# new section - fastq\n",
    "section = \"fastq\"\n",
    "\n",
    "INS = config[section][\"FASTQ_INSERT\"]\n",
    "INSPE = config[section][\"FASTQ_INSERTPE\"]\n",
    "FASTQ_BC = config[section][\"barcodes\"]\n",
    "\n",
    "print(DESIGN, LABELS)"
   ]
  },
  {
   "cell_type": "markdown",
   "id": "cfe4eab1",
   "metadata": {},
   "source": [
    "# launchCmd"
   ]
  },
  {
   "cell_type": "code",
   "execution_count": null,
   "id": "f9858d33",
   "metadata": {
    "ExecuteTime": {
     "end_time": "2023-09-02T20:00:26.924631Z",
     "start_time": "2023-09-02T20:00:26.924616Z"
    },
    "code_folding": []
   },
   "outputs": [],
   "source": [
    "def launchCmd(cmd, **kwargs):\n",
    "\n",
    "    out = kwargs.get('out', None)\n",
    "    \n",
    "    # if cmd is a list and not a string. \n",
    "    if type(cmd) is list:\n",
    "        cmd = \" \".join(cmd)\n",
    "\n",
    "    print(\"\\nRUNNING\\n\\t\", cmd, \"\\nOUT\\n\\t\", out)\n",
    "    \n",
    "    os.system(cmd)"
   ]
  },
  {
   "cell_type": "markdown",
   "id": "6f13ff66",
   "metadata": {
    "ExecuteTime": {
     "end_time": "2023-09-02T20:00:26.924631Z",
     "start_time": "2023-09-02T20:00:26.924616Z"
    },
    "code_folding": []
   },
   "source": [
    "# functions\n",
    "\n",
    "## count_bc"
   ]
  },
  {
   "cell_type": "code",
   "execution_count": 42,
   "id": "eabafa6e",
   "metadata": {
    "ExecuteTime": {
     "end_time": "2023-09-02T19:14:33.538313Z",
     "start_time": "2023-09-02T19:14:33.522372Z"
    },
    "code_folding": []
   },
   "outputs": [],
   "source": [
    "def countBC(fastq_bc, design, labels):\n",
    "    \n",
    "    if labels != \"None\":\n",
    "        \"\"\"\n",
    "        * count fastq and bam length remove the illegal regex characters\n",
    "        * and make design file\n",
    "        * contributions: Gracie Gordon & Max Schubach\n",
    "        */\n",
    "\n",
    "        \"\"\"\n",
    "        cmd = \"\"\"awk '{gsub(/\\\\[/,\"_\")}1' %s > t_new_label.txt\"\"\" % labels\n",
    "        launchCmd(cmd)\n",
    "\n",
    "        cmd = \"\"\"awk '{gsub(/\\\\]/,\"_\")}1' t_new_label.txt > label_rmIllegalChars.txt\"\"\"  #fixed_label\n",
    "        launchCmd(cmd)\n",
    "\n",
    "        cmd = \"\"\"awk '{gsub(/\\\\[/,\"_\")}1' %s > t_new_design.txt\"\"\" % design\n",
    "        launchCmd(cmd)\n",
    "\n",
    "        cmd = \"\"\"awk '{gsub(/\\\\]/,\"_\")}1' t_new_design.txt > design_rmIllegalChars.fa\"\"\"  #fixed_design\n",
    "        launchCmd(cmd)\n",
    "\n",
    "        cmd = f\"zcat {fastq_bc} | wc -l  > count_fastq.txt\"  # bc_ch\n",
    "        launchCmd(cmd)\n",
    "        \n",
    "    elif labels == \"None\":\n",
    "        \"\"\"\n",
    "            if (params.label_file == null) {\n",
    "            process 'count_bc_nolab' {\n",
    "                tag 'count'\n",
    "                label 'shorttime'\n",
    "                publishDir \"${params.outdir}/${params.name}\", mode:'copy'\n",
    "\n",
    "                input:\n",
    "                    file(fastq_bc) from params.fastq_bc_file\n",
    "                    file(design) from params.design_file\n",
    "                output:\n",
    "                    file 'count_fastq.txt' into bc_ch\n",
    "                    file \"label_rmIllegalChars.txt\" into fixed_label\n",
    "                    file \"design_rmIllegalChars.fa\" into fixed_design\n",
    "                shell:\n",
    "\n",
    "                    #!/bin/bash\n",
    "                    #CREATE LABEL FILE and remove illegal regex characters\n",
    "                    awk -F'\\t' 'BEGIN {OFS = FS} NR%2==1 {print substr(\\$1,2,length(\\$1)),\"na\"}' $design > labels.txt\n",
    "                    awk '{gsub(/\\\\[/,\"_\")}1' labels.txt > t_new_label.txt\n",
    "                    awk '{gsub(/\\\\]/,\"_\")}1' t_new_label.txt > label_rmIllegalChars.txt\n",
    "\n",
    "\n",
    "                    awk '{gsub(/\\\\[/,\"_\")}1' $design | \\\\\n",
    "                    awk '{gsub(/\\\\]/,\"_\")}1' | \\\\\n",
    "                    sed 's/\\\\r//g' > design_rmIllegalChars.fa\n",
    "\n",
    "                    zcat $fastq_bc | wc -l  > count_fastq.txt\n",
    "\n",
    "        \"\"\"\n",
    "        new_design_writer = open(\"design_rmIllegalChars.fa\", 'w')\n",
    "        new_label_writer = open(\"label_rmIllegalChars.txt\", \"w\")\n",
    "        \n",
    "        # use python to open and parse file\n",
    "        with open(design, \"r\") as reader:\n",
    "            for value in SimpleFastaParser(reader):\n",
    "                label, seq = value\n",
    "                \n",
    "                # replace any slashes with underscores... because? \n",
    "                # remove open brackets forward slashes close brackets\n",
    "                new_label = ((label.replace(\"[\", \"_\")).replace(\"/\", \"_\")).replace(\"]\", \"_\")  \n",
    "\n",
    "                # write\n",
    "                new_label_writer.write(f\"{new_label}\\tna\\n\")\n",
    "                new_design_writer.write(f\">{new_label}\\n{seq}\")\n",
    "                \n",
    "        new_design_writer.close()\n",
    "        new_label_writer.close()\n",
    "\n",
    "        cmd = [\" sed 's/\\\\r//g'\", \"design_rmIllegalChars.fa\"]\n",
    "        if os.path.exists(\"design_rmIllegalChars.fa\") is False:\n",
    "            launchCmd(cmd, out=\"design_rmIllegalChars.fa\")\n",
    "\n",
    "        # count fastq lines\n",
    "        cmd = [\"zcat\", \n",
    "               fastq_bc, \n",
    "               \"| wc -l  > count_fastq.txt\"\n",
    "              ]\n",
    "        if os.path.exists(\"count_fastq.txt\") is False:\n",
    "            launchCmd(cmd, out=\"count_fastq.txt\")\n"
   ]
  },
  {
   "cell_type": "markdown",
   "id": "de190873",
   "metadata": {},
   "source": [
    "## create BWA"
   ]
  },
  {
   "cell_type": "code",
   "execution_count": 43,
   "id": "5c2def3b",
   "metadata": {
    "ExecuteTime": {
     "end_time": "2023-09-02T19:14:35.111212Z",
     "start_time": "2023-09-02T19:14:35.100321Z"
    },
    "code_folding": []
   },
   "outputs": [],
   "source": [
    "def create_BWA_ref():\n",
    "    \"\"\"\n",
    "    /*\n",
    "    * STEP 1: Align\n",
    "    * Process 1A: create BWA reference\n",
    "    * contributions: Gracie Gordon\n",
    "    */\n",
    "\n",
    "\n",
    "    process 'create_BWA_ref' {\n",
    "        tag \"make ref\"\n",
    "        label 'shorttime'\n",
    "\n",
    "        conda 'conf/mpraflow_py36.yml'\n",
    "\n",
    "        input:\n",
    "            file(design) from fixed_design\n",
    "            file(label) from fixed_label\n",
    "        output:\n",
    "            file \"${design}.fai\" into reference_fai\n",
    "            file \"${design}.bwt\" into reference_bwt\n",
    "            file \"${design}.sa\" into reference_sa\n",
    "            file \"${design}.pac\" into reference_pac\n",
    "            file \"${design}.ann\" into reference_ann\n",
    "            file \"${design}.amb\" into reference_amb\n",
    "            file \"${design}.dict\" into reference_dict\n",
    "        shell:\n",
    "\n",
    "            #!/bin/bash\n",
    "            bwa index -a bwtsw $design\n",
    "            samtools faidx $design\n",
    "            picard CreateSequenceDictionary REFERENCE=$design OUTPUT=$design\".dict\"\n",
    "            \"\"\"\n",
    "    section = \"countBC\"\n",
    "    DESIGN = config[section][\"new_design_noillegal\"]\n",
    "    LABEL = config[section][\"new_label_noillegal\"]\n",
    "    cmd = [\n",
    "        \"bwa index -a bwtsw\",\n",
    "        DESIGN,\n",
    "    ]\n",
    "\n",
    "    if os.path.exists(DESIGN +\".bwt\") is False:\n",
    "        launchCmd(cmd)\n",
    "\n",
    "    cmd = [\n",
    "        \"samtools faidx\",\n",
    "        DESIGN,\n",
    "    ]\n",
    "    if os.path.exists(DESIGN + \".ann\") is False:\n",
    "        launchCmd(cmd)\n",
    "\n",
    "    cmd = [\n",
    "        \"picard CreateSequenceDictionary REFERENCE=\",\n",
    "        DESIGN,\n",
    "        \"OUTPUT=\",\n",
    "        f\"{DESIGN}.dict\"\n",
    "    ]\n",
    "    if os.path.exists(DESIGN + '.dict') is False:\n",
    "        launchCmd(cmd, out=(DESIGN + '.dict'))"
   ]
  },
  {
   "cell_type": "markdown",
   "id": "7dbabfaf",
   "metadata": {},
   "source": [
    "## chunking fastq - what to do here."
   ]
  },
  {
   "cell_type": "code",
   "execution_count": 48,
   "id": "12b68bb9",
   "metadata": {
    "ExecuteTime": {
     "end_time": "2023-09-02T19:15:14.991941Z",
     "start_time": "2023-09-02T19:15:14.986454Z"
    },
    "code_folding": []
   },
   "outputs": [],
   "source": [
    "def chunkingFastQ():\n",
    "    \"\"\"/*\n",
    "    *CHUNKING FASTQ\n",
    "    */\n",
    "\n",
    "    Channel\n",
    "        .fromPath(params.fastq_insert_file)\n",
    "        .splitFastq( by: params.split, file: true )\n",
    "        .set{ R1_ch }\n",
    "\n",
    "    if (params.fastq_insertPE_file != null) {\n",
    "        Channel\n",
    "            .fromPath(params.fastq_insertPE_file)\n",
    "            .splitFastq( by: params.split, file: true )\n",
    "            .set{ R3_ch }\n",
    "    }\n",
    "\n",
    "    /*\n",
    "    \"\"\"\n",
    "    NLINES = config[\"params\"][\"split\"]\n",
    "    INS = config[\"fastq\"][\"FASTQ_INSERT\"]\n",
    "    INSPE = config[\"fastq\"][\"FASTQ_INSERTPE\"]\n",
    "    \n",
    "   \n",
    "    FASTP = \"/wynton/group/ahituv/bin/fastp\"\n",
    "\n",
    "    cmd = [FASTP,  \n",
    "            \"-i\",\n",
    "            INS,\n",
    "            \"-I\", \n",
    "            INSPE, \n",
    "            \"--out1=group_INS.fq\", \n",
    "            \"--out2=group_INSPE.fq\",\n",
    "            f\"--split_by_lines={NLINES}\",\n",
    "            \"-z 1\", \n",
    "           \"--disable_quality_filtering\", \n",
    "           \"--disable_length_filtering\", \n",
    "            ]\n",
    "    if len(glob.glob(\"*.group_INS.fq\")) ==0:\n",
    "        launchCmd(cmd, out=\"*.group_INS|INSPE.fq\")\n"
   ]
  },
  {
   "cell_type": "markdown",
   "id": "fba3417a",
   "metadata": {},
   "source": [
    "## mergePairedEndReads"
   ]
  },
  {
   "cell_type": "code",
   "execution_count": null,
   "id": "2b439a2f",
   "metadata": {
    "ExecuteTime": {
     "end_time": "2023-09-02T19:23:19.656361Z",
     "start_time": "2023-09-02T19:23:19.656341Z"
    },
    "code_folding": []
   },
   "outputs": [],
   "source": [
    " ## mergePairedEndReads\n",
    "\n",
    "def mergePairedEndReads(fastq_insert, fastq_insertPE):\n",
    "    \"\"\"/*\n",
    "    *Process 1B: merge Paired end reads\n",
    "    * contributions: Gracie Gordon\n",
    "    */\n",
    "    if (params.fastq_insertPE_file != null) {\n",
    "        process 'PE_merge' {\n",
    "            tag 'merge'\n",
    "            label 'shorttime'\n",
    "\n",
    "            conda 'conf/mpraflow_py36.yml'\n",
    "\n",
    "            input:\n",
    "             file(fastq_insert) from R1_ch\n",
    "            file(fastq_insertPE) from R3_ch\n",
    "        output:\n",
    "            file \"*merged.fastqjoin\" into mergedPE\n",
    "        shell:\n",
    "         fastq-join $fastq_insert $fastq_insertPE -o ${fastq_insert}_merged.fastq\n",
    "    \n",
    "\n",
    "    had to clone and make fastq-join from ea.utils\n",
    "    cd /wynton/group/ahituv/fongsl/src/MPRAflow/src\n",
    "    git clone https://github.com/ExpressionAnalysis/ea-utils.git\n",
    "    cd  ./ea-utils/clipper\n",
    "    make install\n",
    "    \"\"\"\n",
    "\n",
    "    print(\"mergePairedEndReads\")\n",
    "    \n",
    "    name=fastq_insert.strip(\"_INS.fastq\")\n",
    "\n",
    "    cmd = [\n",
    "            #\"/wynton/group/ahituv/fongsl/src/MPRAflow/src/ea-utils/clipper/fastq-join\",\n",
    "            \"/wynton/group/ahituv/bin/fastq-join\",\n",
    "            fastq_insert,\n",
    "            fastq_insertPE, \n",
    "            \"-o\" ,\n",
    "            f\"{name}_merged.fastq\"\n",
    "            ]\n",
    "    if os.path.exists(f\"{name}_merged.fastqjoin\") is False:\n",
    "        launchCmd(cmd, out=f\"{name}_merged.fastqjoin\")\n",
    "\n",
    "    if os.path.getsize(f\"{name}_merged.fastqjoin\") > 0:\n",
    "        cmd = [\"rm\",\n",
    "               fastq_insert,\n",
    "               fastq_insertPE,\n",
    "              ]\n",
    "        print(\" \".join(cmd))\n",
    "        \n",
    "    return f\"{name}_merged.fastqjoin\"\n"
   ]
  },
  {
   "cell_type": "markdown",
   "id": "44c949da",
   "metadata": {},
   "source": [
    "## align W BWA  "
   ]
  },
  {
   "cell_type": "code",
   "execution_count": null,
   "id": "3601e801",
   "metadata": {
    "ExecuteTime": {
     "end_time": "2023-09-02T19:23:19.664708Z",
     "start_time": "2023-09-02T19:23:19.664689Z"
    },
    "code_folding": []
   },
   "outputs": [],
   "source": [
    "def alignWithBWA(chunk):\n",
    "    \"\"\"\n",
    "    /*\n",
    "    * Process 1C: align with BWA\n",
    "    * contributions: Gracie Gordon\n",
    "    */\n",
    "\n",
    "    //paired ends\n",
    "    if (params.fastq_insertPE_file != null) {\n",
    "    process 'align_BWA_PE' {\n",
    "        tag \"align\"\n",
    "        label 'longtime'\n",
    "\n",
    "        conda 'conf/mpraflow_py36.yml'\n",
    "\n",
    "        input:\n",
    "            file(design) from fixed_design\n",
    "            file(chunk) from mergedPE\n",
    "            val(name) from params.name\n",
    "            file(reference_fai) from reference_fai\n",
    "            file reference_bwt from reference_bwt\n",
    "            file reference_sa from reference_sa\n",
    "            file reference_pac from reference_pac\n",
    "            file reference_ann from reference_ann\n",
    "            file reference_amb from reference_amb\n",
    "            file reference_dict from reference_dict\n",
    "        output:\n",
    "            file \"${name}.${chunk}.sorted.bam\" into s_bam\n",
    "            file '*count_bam.txt' into bam_ch\n",
    "        shell:\n",
    "    \"\"\"\n",
    "    section = \"countBC\"\n",
    "    DESIGN = config[section][\"new_design_noillegal\"]\n",
    "    \n",
    "    section = \"params\"\n",
    "    NAME = config[section]['name']\n",
    "\n",
    "    section = \"alignWithBWA\"\n",
    "    SBAM = f\"{NAME}.{chunk}.sorted.bam\"\n",
    "    CBAM = f'{chunk}.count_bam.txt'\n",
    "    \n",
    "    if config[\"fastq\"][\"FASTQ_INSERTPE\"] != None:\n",
    "        \n",
    "        # align chunk to design fasta\n",
    "        cmd = [\n",
    "                \"bwa mem\",\n",
    "                DESIGN, chunk,\n",
    "                \"| samtools sort -o\",\n",
    "                SBAM,\n",
    "                ]\n",
    "        if os.path.exists(SBAM) is False:\n",
    "            launchCmd(cmd, out=SBAM)\n",
    "\n",
    "        print('bam made')\n",
    "\n",
    "        # visual inspection of alignment\n",
    "        cmd = [\n",
    "                \"samtools view\",\n",
    "                SBAM, \"| head\"\n",
    "                ]\n",
    "        \n",
    "        #launchCmd(cmd)\n",
    "\n",
    "        cmd = [\n",
    "                \"samtools view\", \n",
    "                SBAM, \n",
    "                \"|\",\n",
    "                f\"wc -l >\", \n",
    "                CBAM\n",
    "                ]\n",
    "        if os.path.exists(CBAM) is False:\n",
    "            \n",
    "            launchCmd(cmd, out=CBAM)\n",
    "        \n",
    "        \"\"\"\n",
    "        I DID NOT WRITE THIS IN PYTHON YET\n",
    "        \n",
    "        else {\n",
    "            //single end\n",
    "            process 'align_BWA_S' {\n",
    "                tag \"align\"\n",
    "                label 'longtime'\n",
    "\n",
    "            conda 'conf/mpraflow_py36.yml'\n",
    "\n",
    "            input:\n",
    "                file(design) from fixed_design\n",
    "                file(chunk) from R1_ch\n",
    "                val(name) from params.name\n",
    "                file(reference_fai) from reference_fai\n",
    "                file reference_bwt from reference_bwt\n",
    "                file reference_sa from reference_sa\n",
    "                file reference_pac from reference_pac\n",
    "                file reference_ann from reference_ann\n",
    "                file reference_amb from reference_amb\n",
    "                file reference_dict from reference_dict\n",
    "            output:\n",
    "                file \"${name}.${chunk}.sorted.bam\" into s_bam\n",
    "                file '*count_bam.txt' into bam_ch\n",
    "            shell:\n",
    "\n",
    "                bwa mem $design $chunk | samtools sort - -o ${name}.${chunk}.sorted.bam\n",
    "                echo 'bam made'\n",
    "                samtools view ${name}.${chunk}.sorted.bam | head\n",
    "                samtools view ${name}.${chunk}.sorted.bam | wc -l > ${chunk}_count_bam.txt\n",
    "\n",
    "\n",
    "        \"\"\""
   ]
  },
  {
   "cell_type": "markdown",
   "id": "58ac8adc",
   "metadata": {},
   "source": [
    "##### single insert script is unfinished"
   ]
  },
  {
   "cell_type": "markdown",
   "id": "5c261983",
   "metadata": {},
   "source": [
    "## collect Fastq chunks"
   ]
  },
  {
   "cell_type": "code",
   "execution_count": null,
   "id": "1a86c2fe",
   "metadata": {
    "ExecuteTime": {
     "end_time": "2023-09-02T19:23:19.671424Z",
     "start_time": "2023-09-02T19:23:19.671396Z"
    }
   },
   "outputs": [],
   "source": [
    "def collectFastqChunks():\n",
    "    \"\"\"\n",
    "    /*\n",
    "    *COLLCT FASTQ CHUNCKS\n",
    "    */\n",
    "\n",
    "    process 'collect_chunks'{\n",
    "        label 'shorttime'\n",
    "\n",
    "        conda 'conf/mpraflow_py36.yml'\n",
    "\n",
    "    input:\n",
    "        file sbam_listFiles from s_bam.collect()\n",
    "        file count_bamFiles from bam_ch.collect()\n",
    "    output:\n",
    "        file 's_merged.bam' into s_merge\n",
    "        file 'count_merged.txt' into ch_merge\n",
    "    script:\n",
    "        count_bam = count_bamFiles.join(' ')\n",
    "        sbam_list = sbam_listFiles.join(' ')\n",
    "    shell:\n",
    "\n",
    "        #collect sorted bams into one file\n",
    "        samtools merge all.bam $sbam_list\n",
    "        samtools sort all.bam -o s_merged.bam\n",
    "\n",
    "        #collect bam counts into one file\n",
    "\n",
    "        samtools view s_merged.bam | wc -l > count_merged.txt\n",
    "    \"\"\"\n",
    "    \n",
    "    section = \"alignWithBWA\"\n",
    "    SBAM = config[section][\"s_bam\"]\n",
    "    CBAM = config[section][\"c_bam\"]  # aka bam.ch\n",
    "    SBAM_MERGE = config[section][\"s_bam_merged\"]\n",
    "    CBAM_MERGE = config[section][\"c_bam_merged\"]\n",
    "    \n",
    "    # collect all sbam and cbam files as a string from a list. \n",
    "    sbam_listFiles = \" \".join(glob.glob(SBAM))\n",
    "    cbam_listFiles = \" \".join(glob.glob(CBAM))\n",
    "    \n",
    "    #collect sorted bams into one file\n",
    "    cmd = [\n",
    "            \"samtools merge all.bam\",\n",
    "            sbam_listFiles\n",
    "            ]\n",
    "    if os.path.exists(\"all.bam\") is False:\n",
    "    \n",
    "        launchCmd(cmd, out=\"all.bam\")\n",
    "     \n",
    "    cmd = [\n",
    "            \"samtools sort all.bam -o\",\n",
    "            SBAM_MERGE\n",
    "            ]\n",
    "    if os.path.exists(SBAM_MERGE) is False:\n",
    "        launchCmd(cmd, out=SBAM_MERGE)\n",
    "        \n",
    "    #collect bam counts into one file\n",
    "\n",
    "    cmd = [\n",
    "           \"samtools view\",\n",
    "           SBAM_MERGE,\n",
    "           \"| wc -l >\",\n",
    "           CBAM_MERGE\n",
    "          ]\n",
    "    if os.path.exists(CBAM_MERGE) is False:\n",
    "        launchCmd(cmd, out=CBAM_MERGE)"
   ]
  },
  {
   "cell_type": "markdown",
   "id": "a72e08ab",
   "metadata": {},
   "source": [
    "## assign barcodes"
   ]
  },
  {
   "cell_type": "code",
   "execution_count": 55,
   "id": "fba95bb8",
   "metadata": {
    "ExecuteTime": {
     "end_time": "2023-09-02T19:52:32.750453Z",
     "start_time": "2023-09-02T19:52:32.741046Z"
    },
    "code_folding": []
   },
   "outputs": [],
   "source": [
    "def assignBarcodes():\n",
    "    \"\"\"\n",
    "    /*\n",
    "    * Assign barcodes to element sequences\n",
    "    * contributions: Sean Whalen\n",
    "    */\n",
    "\n",
    "    process 'map_element_barcodes' {\n",
    "        tag \"assign\"\n",
    "        label \"shorttime\"\n",
    "        publishDir \"${params.outdir}/${params.name}\", mode:'copy'\n",
    "\n",
    "        conda 'conf/mpraflow_py36.yml'\n",
    "\n",
    "        input:\n",
    "            val(name) from params.name\n",
    "            val(mapq) from params.mapq\n",
    "            val(baseq) from params.baseq\n",
    "            val(cigar) from params.cigar\n",
    "            file(fastq_bc) from params.fastq_bc_file\n",
    "            file count_fastq from bc_ch\n",
    "            file count_bam from ch_merge\n",
    "            file bam from s_merge\n",
    "        output:\n",
    "            file \"${name}_coords_to_barcodes.pickle\" into map_ch\n",
    "            file \"${name}_barcodes_per_candidate-no_repeats-no_jackpots.feather\" into count_table_ch\n",
    "            file \"${name}_barcode_counts.pickle\"\n",
    "        shell:\n",
    "\n",
    "            echo \"test assign inputs\"\n",
    "            echo ${mapq}\n",
    "            echo ${baseq}\n",
    "            echo $fastq_bc\n",
    "            zcat $fastq_bc | head\n",
    "\n",
    "            echo ${count_fastq}\n",
    "            echo ${count_bam}\n",
    "            cat ${count_fastq}\n",
    "            cat ${count_bam}\n",
    "\n",
    "            python ${\"$baseDir\"}/src/nf_ori_map_barcodes.py ${\"$baseDir\"} ${fastq_bc} ${count_fastq} \\\n",
    "            $bam ${count_bam} ${name} ${mapq} ${baseq} ${cigar}\n",
    "    \"\"\"\n",
    "\n",
    "    print(\"echo test assign inputs\")\n",
    "    \n",
    "    section = \"params\"\n",
    "    NAME =config[section][\"name\"] \n",
    "    BASEQ=config[section][\"baseq\"]\n",
    "    MAPQ=config[section][\"mapq\"]\n",
    "    CIGAR = config[section][\"cigar\"] \n",
    "    BASEDIR = config[section][\"basedir\"]\n",
    "    \n",
    "    section=\"fastq\"\n",
    "    FASTQ_BC = config[section][\"barcodes\"]\n",
    "    \n",
    "    section = \"countBC\"\n",
    "    COUNT_FASTQ = config[section][\"count_fastq\"]\n",
    "    \n",
    "    section = \"alignWithBWA\"\n",
    "    SBAM_MERGE = config[section][\"s_bam_merged\"]\n",
    "    CBAM_MERGE = config[section][\"c_bam_merged\"]\n",
    "    \n",
    "    COUNT_BAM = CBAM_MERGE\n",
    "    BAM = SBAM_MERGE\n",
    "    \n",
    "    print(\"\\nbaseq\", BASEQ)\n",
    "    print(\"\\nmapq\", MAPQ)\n",
    "\n",
    "    print(\"\\nfastq_bc\", FASTQ_BC)\n",
    "    \n",
    "    cmd = [\n",
    "           \"\\nzcat\", \n",
    "           FASTQ_BC,\n",
    "           \"| head\"\n",
    "          ]\n",
    "    #launchCmd(cmd)\n",
    "    \n",
    "    print(\"Count fastq\", COUNT_FASTQ)\n",
    "    cmd = [\"cat\", COUNT_FASTQ]\n",
    "    launchCmd(cmd)\n",
    "    \n",
    "    print(\"count_bam\", COUNT_BAM)\n",
    "    cmd = [\"cat\", COUNT_BAM]\n",
    "    launchCmd(cmd)\n",
    "\n",
    "\n",
    "    cmd = [\n",
    "            f\"python {BASEDIR}/src/nf_ori_map_barcodes.py\" , \n",
    "            BASEDIR, FASTQ_BC, COUNT_FASTQ, \n",
    "            BAM, COUNT_BAM, NAME, MAPQ, BASEQ, CIGAR\n",
    "            ]\n",
    "    launchCmd(cmd)"
   ]
  },
  {
   "cell_type": "markdown",
   "id": "156ae75d",
   "metadata": {},
   "source": [
    "## filter barcodes"
   ]
  },
  {
   "cell_type": "code",
   "execution_count": 18,
   "id": "758db994",
   "metadata": {
    "ExecuteTime": {
     "end_time": "2023-09-02T18:55:27.062070Z",
     "start_time": "2023-09-02T18:55:26.889023Z"
    },
    "code_folding": []
   },
   "outputs": [],
   "source": [
    "def filterBarcodes():\n",
    "    \"\"\"\n",
    "    /*\n",
    "    * Filter barcodes for minimum coverage and unique mapping\n",
    "    * contributions: Gracie Gordon\n",
    "    */\n",
    "\n",
    "    process 'filter_barcodes' {\n",
    "        tag \"$filter\"\n",
    "        label \"shorttime\"\n",
    "        publishDir \"${params.outdir}/${params.name}\", mode:'copy'\n",
    "\n",
    "        conda 'conf/mpraflow_py36.yml'\n",
    "\n",
    "        input:\n",
    "            val(min_cov) from params.min_cov\n",
    "            val(min_frac) from params.min_frac\n",
    "            val(out) from params.name\n",
    "            file(map) from map_ch\n",
    "            file(table) from count_table_ch\n",
    "            file(label) from fixed_label\n",
    "        output:\n",
    "            file \"${out}_filtered_coords_to_barcodes.pickle\"\n",
    "            file \"${out}_original_counts.png\"\n",
    "            file \"original_count_summary.txt\"\n",
    "            file \"${out}_filtered_counts.png\"\n",
    "            file \"filtered_count_summary.txt\"\n",
    "\n",
    "        shell:\n",
    "\n",
    "            python ${\"$baseDir\"}/src/nf_filter_barcodes.py ${out} ${map} ${table} \\\n",
    "            ${min_cov} ${min_frac} $label\n",
    "    \"\"\"\n",
    "    \n",
    "\n",
    "    # section - params\n",
    "    section = \"params\"\n",
    "    BASEDIR = config[section][\"basedir\"]\n",
    "    NAME = config[section][\"name\"] \n",
    "    MIN_COV = config[section][\"min_cov\"]\n",
    "    MIN_FRAC = config[section][\"min_frac\"]\n",
    "    \n",
    "    # relabel\n",
    "    OUT = NAME\n",
    "    \n",
    "    # section - assignBarcodes\n",
    "    section = \"assignBarcodes\"\n",
    "    MAP = config[section]['bc_pickle_coor'] \n",
    "    TABLE = config[section]['bc_clean'] \n",
    "    config[section]['bc_pickle_count'] = f\"{NAME}_barcode_counts.pickle\"\n",
    "\n",
    "    # section - countBC\n",
    "    section = \"countBC\"\n",
    "    LABEL = config[section][\"new_label_noillegal\"]\n",
    "    \n",
    "    cmd =  [f\"python {BASEDIR}/src/nf_filter_barcodes.py\", \n",
    "            OUT, MAP, TABLE, \n",
    "            MIN_COV, MIN_FRAC, LABEL\n",
    "           ]\n",
    "    launchCmd(cmd)"
   ]
  },
  {
   "cell_type": "markdown",
   "id": "b7484e3c",
   "metadata": {},
   "source": [
    "# Main"
   ]
  },
  {
   "cell_type": "code",
   "execution_count": null,
   "id": "d22209db",
   "metadata": {
    "ExecuteTime": {
     "end_time": "2023-09-02T18:51:00.820515Z",
     "start_time": "2023-09-02T18:51:00.814170Z"
    }
   },
   "outputs": [],
   "source": [
    "def main(argv):\n",
    "\n",
    "    os.chdir(PATH)\n",
    "\n",
    "    countBC(FASTQ_BC, DESIGN, LABELS)\n",
    "\n",
    "    create_BWA_ref()\n",
    "\n",
    "    chunkingFastQ()\n",
    "\n",
    "    for n in (glob.glob(\"*.group_INS.fq\")):\n",
    "        num = (os.path.split(n)[1]).split(\".group\")[0]\n",
    "        chunk_ins_n, chunk_inspe_n = f\"{num}.group_INS.fq\", f\"{num}.group_INSPE.fq\"\n",
    "\n",
    "        print(num, chunk_ins_n, chunk_inspe_n)\n",
    "\n",
    "        merged_chunk = mergePairedEndReads(chunk_ins_n, chunk_inspe_n)\n",
    "\n",
    "        alignWithBWA(merged_chunk)\n",
    "\n",
    "\n",
    "    # glob for chunks? \n",
    "    collectFastqChunks()\n",
    "\n",
    "    assignBarcodes()\n",
    "    # could take a long time. \n",
    "\n",
    "    filterBarcodes()  #also takes a long time"
   ]
  },
  {
   "cell_type": "code",
   "execution_count": 60,
   "id": "6c2a646c",
   "metadata": {
    "ExecuteTime": {
     "end_time": "2023-09-02T20:31:32.301818Z",
     "start_time": "2023-09-02T20:31:31.910809Z"
    }
   },
   "outputs": [],
   "source": [
    "import pyarrow.feather as pa"
   ]
  },
  {
   "cell_type": "code",
   "execution_count": 62,
   "id": "04438ba2",
   "metadata": {
    "ExecuteTime": {
     "end_time": "2023-09-02T20:31:40.864280Z",
     "start_time": "2023-09-02T20:31:40.860380Z"
    }
   },
   "outputs": [],
   "source": [
    "section = \"assignBarcodes\"\n",
    "#config[section]['bc_pickle_coor'] = f\"{NAME}_coords_to_barcodes.pickle\"\n",
    "F = config[section]['bc_clean'] = f\"{NAME}_barcodes_per_candidate-no_repeats-no_jackpots.feather\"\n",
    "#config[section]['bc_pickle_count'] = f\"{NAME}_barcode_counts.pickle\""
   ]
  },
  {
   "cell_type": "code",
   "execution_count": 63,
   "id": "2292d22b",
   "metadata": {
    "ExecuteTime": {
     "end_time": "2023-09-02T20:31:42.813222Z",
     "start_time": "2023-09-02T20:31:41.417554Z"
    }
   },
   "outputs": [
    {
     "data": {
      "text/html": [
       "<div>\n",
       "<style scoped>\n",
       "    .dataframe tbody tr th:only-of-type {\n",
       "        vertical-align: middle;\n",
       "    }\n",
       "\n",
       "    .dataframe tbody tr th {\n",
       "        vertical-align: top;\n",
       "    }\n",
       "\n",
       "    .dataframe thead th {\n",
       "        text-align: right;\n",
       "    }\n",
       "</style>\n",
       "<table border=\"1\" class=\"dataframe\">\n",
       "  <thead>\n",
       "    <tr style=\"text-align: right;\">\n",
       "      <th></th>\n",
       "      <th>coord</th>\n",
       "      <th>n_barcodes</th>\n",
       "    </tr>\n",
       "  </thead>\n",
       "  <tbody>\n",
       "    <tr>\n",
       "      <th>0</th>\n",
       "      <td>endog|HepG2_DNasePeakNoPromoter10535|active</td>\n",
       "      <td>1977206</td>\n",
       "    </tr>\n",
       "  </tbody>\n",
       "</table>\n",
       "</div>"
      ],
      "text/plain": [
       "                                         coord  n_barcodes\n",
       "0  endog|HepG2_DNasePeakNoPromoter10535|active     1977206"
      ]
     },
     "execution_count": 63,
     "metadata": {},
     "output_type": "execute_result"
    }
   ],
   "source": [
    "pa.read_feather(F)"
   ]
  },
  {
   "cell_type": "code",
   "execution_count": 67,
   "id": "d5404ef7",
   "metadata": {
    "ExecuteTime": {
     "end_time": "2023-09-02T20:32:11.902937Z",
     "start_time": "2023-09-02T20:32:11.899558Z"
    }
   },
   "outputs": [],
   "source": [
    "a=f\"{NAME}_barcodes_per_candidate.feather\" \n",
    "b=f\"{NAME}_barcodes_per_candidate-no_jackpots.feather\"\n",
    "c=f\"{NAME}_barcodes_per_candidate-no_repeats.feather\"\n",
    "d=f\"{NAME}_barcodes_per_candidate-no_repeats-no_jackpots.feather\"\n"
   ]
  },
  {
   "cell_type": "code",
   "execution_count": 68,
   "id": "9c8f3002",
   "metadata": {
    "ExecuteTime": {
     "end_time": "2023-09-02T20:32:12.576821Z",
     "start_time": "2023-09-02T20:32:12.545912Z"
    }
   },
   "outputs": [
    {
     "data": {
      "text/html": [
       "<div>\n",
       "<style scoped>\n",
       "    .dataframe tbody tr th:only-of-type {\n",
       "        vertical-align: middle;\n",
       "    }\n",
       "\n",
       "    .dataframe tbody tr th {\n",
       "        vertical-align: top;\n",
       "    }\n",
       "\n",
       "    .dataframe thead th {\n",
       "        text-align: right;\n",
       "    }\n",
       "</style>\n",
       "<table border=\"1\" class=\"dataframe\">\n",
       "  <thead>\n",
       "    <tr style=\"text-align: right;\">\n",
       "      <th></th>\n",
       "      <th>coord</th>\n",
       "      <th>n_barcodes</th>\n",
       "    </tr>\n",
       "  </thead>\n",
       "  <tbody>\n",
       "    <tr>\n",
       "      <th>0</th>\n",
       "      <td>endog|HepG2_DNasePeakNoPromoter10535|active</td>\n",
       "      <td>2446165</td>\n",
       "    </tr>\n",
       "  </tbody>\n",
       "</table>\n",
       "</div>"
      ],
      "text/plain": [
       "                                         coord  n_barcodes\n",
       "0  endog|HepG2_DNasePeakNoPromoter10535|active     2446165"
      ]
     },
     "execution_count": 68,
     "metadata": {},
     "output_type": "execute_result"
    }
   ],
   "source": [
    "pa.read_feather(a)"
   ]
  },
  {
   "cell_type": "code",
   "execution_count": 69,
   "id": "7219ad17",
   "metadata": {
    "ExecuteTime": {
     "end_time": "2023-09-02T20:32:13.390629Z",
     "start_time": "2023-09-02T20:32:13.378939Z"
    }
   },
   "outputs": [
    {
     "data": {
      "text/html": [
       "<div>\n",
       "<style scoped>\n",
       "    .dataframe tbody tr th:only-of-type {\n",
       "        vertical-align: middle;\n",
       "    }\n",
       "\n",
       "    .dataframe tbody tr th {\n",
       "        vertical-align: top;\n",
       "    }\n",
       "\n",
       "    .dataframe thead th {\n",
       "        text-align: right;\n",
       "    }\n",
       "</style>\n",
       "<table border=\"1\" class=\"dataframe\">\n",
       "  <thead>\n",
       "    <tr style=\"text-align: right;\">\n",
       "      <th></th>\n",
       "      <th>coord</th>\n",
       "      <th>n_barcodes</th>\n",
       "    </tr>\n",
       "  </thead>\n",
       "  <tbody>\n",
       "    <tr>\n",
       "      <th>0</th>\n",
       "      <td>endog|HepG2_DNasePeakNoPromoter10535|active</td>\n",
       "      <td>2436681</td>\n",
       "    </tr>\n",
       "  </tbody>\n",
       "</table>\n",
       "</div>"
      ],
      "text/plain": [
       "                                         coord  n_barcodes\n",
       "0  endog|HepG2_DNasePeakNoPromoter10535|active     2436681"
      ]
     },
     "execution_count": 69,
     "metadata": {},
     "output_type": "execute_result"
    }
   ],
   "source": [
    "pa.read_feather(b)"
   ]
  },
  {
   "cell_type": "code",
   "execution_count": 70,
   "id": "d0694442",
   "metadata": {
    "ExecuteTime": {
     "end_time": "2023-09-02T20:32:16.286318Z",
     "start_time": "2023-09-02T20:32:16.275915Z"
    }
   },
   "outputs": [
    {
     "data": {
      "text/html": [
       "<div>\n",
       "<style scoped>\n",
       "    .dataframe tbody tr th:only-of-type {\n",
       "        vertical-align: middle;\n",
       "    }\n",
       "\n",
       "    .dataframe tbody tr th {\n",
       "        vertical-align: top;\n",
       "    }\n",
       "\n",
       "    .dataframe thead th {\n",
       "        text-align: right;\n",
       "    }\n",
       "</style>\n",
       "<table border=\"1\" class=\"dataframe\">\n",
       "  <thead>\n",
       "    <tr style=\"text-align: right;\">\n",
       "      <th></th>\n",
       "      <th>coord</th>\n",
       "      <th>n_barcodes</th>\n",
       "    </tr>\n",
       "  </thead>\n",
       "  <tbody>\n",
       "    <tr>\n",
       "      <th>0</th>\n",
       "      <td>endog|HepG2_DNasePeakNoPromoter10535|active</td>\n",
       "      <td>1977256</td>\n",
       "    </tr>\n",
       "  </tbody>\n",
       "</table>\n",
       "</div>"
      ],
      "text/plain": [
       "                                         coord  n_barcodes\n",
       "0  endog|HepG2_DNasePeakNoPromoter10535|active     1977256"
      ]
     },
     "execution_count": 70,
     "metadata": {},
     "output_type": "execute_result"
    }
   ],
   "source": [
    "pa.read_feather(c)"
   ]
  },
  {
   "cell_type": "code",
   "execution_count": 71,
   "id": "65235905",
   "metadata": {
    "ExecuteTime": {
     "end_time": "2023-09-02T20:32:19.041306Z",
     "start_time": "2023-09-02T20:32:19.032447Z"
    }
   },
   "outputs": [
    {
     "data": {
      "text/html": [
       "<div>\n",
       "<style scoped>\n",
       "    .dataframe tbody tr th:only-of-type {\n",
       "        vertical-align: middle;\n",
       "    }\n",
       "\n",
       "    .dataframe tbody tr th {\n",
       "        vertical-align: top;\n",
       "    }\n",
       "\n",
       "    .dataframe thead th {\n",
       "        text-align: right;\n",
       "    }\n",
       "</style>\n",
       "<table border=\"1\" class=\"dataframe\">\n",
       "  <thead>\n",
       "    <tr style=\"text-align: right;\">\n",
       "      <th></th>\n",
       "      <th>coord</th>\n",
       "      <th>n_barcodes</th>\n",
       "    </tr>\n",
       "  </thead>\n",
       "  <tbody>\n",
       "    <tr>\n",
       "      <th>0</th>\n",
       "      <td>endog|HepG2_DNasePeakNoPromoter10535|active</td>\n",
       "      <td>1977206</td>\n",
       "    </tr>\n",
       "  </tbody>\n",
       "</table>\n",
       "</div>"
      ],
      "text/plain": [
       "                                         coord  n_barcodes\n",
       "0  endog|HepG2_DNasePeakNoPromoter10535|active     1977206"
      ]
     },
     "execution_count": 71,
     "metadata": {},
     "output_type": "execute_result"
    }
   ],
   "source": [
    "pa.read_feather(d)"
   ]
  },
  {
   "cell_type": "code",
   "execution_count": null,
   "id": "d9461cb6",
   "metadata": {
    "ExecuteTime": {
     "end_time": "2023-08-31T21:11:50.786485Z",
     "start_time": "2023-08-31T21:11:50.786470Z"
    }
   },
   "outputs": [],
   "source": [
    "if __name__ == \"__main__\":\n",
    "     main(sys.argv[1:])"
   ]
  },
  {
   "cell_type": "code",
   "execution_count": null,
   "id": "d5583c8b",
   "metadata": {
    "ExecuteTime": {
     "end_time": "2023-08-31T21:11:50.787504Z",
     "start_time": "2023-08-31T21:11:50.787490Z"
    }
   },
   "outputs": [],
   "source": [
    "%%bash\n",
    "conda list"
   ]
  },
  {
   "cell_type": "code",
   "execution_count": null,
   "id": "147f2515",
   "metadata": {
    "ExecuteTime": {
     "end_time": "2023-08-31T21:11:50.788918Z",
     "start_time": "2023-08-31T21:11:50.788904Z"
    }
   },
   "outputs": [],
   "source": [
    "%%bash\n",
    "conda env list"
   ]
  },
  {
   "cell_type": "code",
   "execution_count": null,
   "id": "e148347f",
   "metadata": {},
   "outputs": [],
   "source": []
  }
 ],
 "metadata": {
  "kernelspec": {
   "display_name": "Python (mpraflow_wynton)",
   "language": "python",
   "name": "mpraflow_wynton"
  },
  "language_info": {
   "codemirror_mode": {
    "name": "ipython",
    "version": 3
   },
   "file_extension": ".py",
   "mimetype": "text/x-python",
   "name": "python",
   "nbconvert_exporter": "python",
   "pygments_lexer": "ipython3",
   "version": "3.9.16"
  },
  "toc": {
   "base_numbering": 1,
   "nav_menu": {},
   "number_sections": true,
   "sideBar": true,
   "skip_h1_title": false,
   "title_cell": "Table of Contents",
   "title_sidebar": "Contents",
   "toc_cell": false,
   "toc_position": {},
   "toc_section_display": true,
   "toc_window_display": false
  },
  "varInspector": {
   "cols": {
    "lenName": 16,
    "lenType": 16,
    "lenVar": 40
   },
   "kernels_config": {
    "python": {
     "delete_cmd_postfix": "",
     "delete_cmd_prefix": "del ",
     "library": "var_list.py",
     "varRefreshCmd": "print(var_dic_list())"
    },
    "r": {
     "delete_cmd_postfix": ") ",
     "delete_cmd_prefix": "rm(",
     "library": "var_list.r",
     "varRefreshCmd": "cat(var_dic_list()) "
    }
   },
   "types_to_exclude": [
    "module",
    "function",
    "builtin_function_or_method",
    "instance",
    "_Feature"
   ],
   "window_display": false
  }
 },
 "nbformat": 4,
 "nbformat_minor": 5
}
