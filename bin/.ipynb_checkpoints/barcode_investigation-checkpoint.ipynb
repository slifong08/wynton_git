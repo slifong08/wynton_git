{
 "cells": [
  {
   "cell_type": "code",
   "execution_count": 3,
   "id": "572b5f71",
   "metadata": {
    "ExecuteTime": {
     "end_time": "2023-09-06T03:39:16.937734Z",
     "start_time": "2023-09-06T03:39:12.933466Z"
    }
   },
   "outputs": [],
   "source": [
    "from Bio.SeqIO.FastaIO import SimpleFastaParser\n",
    "import os, sys\n",
    "import pandas as pd\n",
    "import pyarrow"
   ]
  },
  {
   "cell_type": "code",
   "execution_count": 3,
   "id": "98279e96",
   "metadata": {
    "ExecuteTime": {
     "end_time": "2023-09-05T23:56:23.733175Z",
     "start_time": "2023-09-05T23:56:23.729467Z"
    }
   },
   "outputs": [],
   "source": [
    "PATH = \"/wynton/group/ahituv/fongsl/src/MPRAflow\"\n",
    "FILE = os.path.join(PATH, \"null_mpra_barcodes_per_candidate-no_repeats-no_jackpots.feather\")"
   ]
  },
  {
   "cell_type": "code",
   "execution_count": 26,
   "id": "9f65f761",
   "metadata": {
    "ExecuteTime": {
     "end_time": "2023-09-05T23:59:55.899515Z",
     "start_time": "2023-09-05T23:59:55.843231Z"
    }
   },
   "outputs": [
    {
     "data": {
      "text/html": [
       "<div>\n",
       "<style scoped>\n",
       "    .dataframe tbody tr th:only-of-type {\n",
       "        vertical-align: middle;\n",
       "    }\n",
       "\n",
       "    .dataframe tbody tr th {\n",
       "        vertical-align: top;\n",
       "    }\n",
       "\n",
       "    .dataframe thead th {\n",
       "        text-align: right;\n",
       "    }\n",
       "</style>\n",
       "<table border=\"1\" class=\"dataframe\">\n",
       "  <thead>\n",
       "    <tr style=\"text-align: right;\">\n",
       "      <th></th>\n",
       "      <th>coord</th>\n",
       "      <th>n_barcodes</th>\n",
       "    </tr>\n",
       "  </thead>\n",
       "  <tbody>\n",
       "    <tr>\n",
       "      <th>0</th>\n",
       "      <td>15-firstorder.63414|WTC11_seq51996_F|inactive</td>\n",
       "      <td>193</td>\n",
       "    </tr>\n",
       "    <tr>\n",
       "      <th>1</th>\n",
       "      <td>15-firstorder.2355935|HepG2_DNasePeakNoPromote...</td>\n",
       "      <td>149</td>\n",
       "    </tr>\n",
       "    <tr>\n",
       "      <th>2</th>\n",
       "      <td>15-firstorder.1412646|K562_peak57048|inactive</td>\n",
       "      <td>300</td>\n",
       "    </tr>\n",
       "    <tr>\n",
       "      <th>3</th>\n",
       "      <td>15-firstorder.192228|WTC11_seq41747_F|inactive</td>\n",
       "      <td>256</td>\n",
       "    </tr>\n",
       "    <tr>\n",
       "      <th>4</th>\n",
       "      <td>15-firstorder.1426742|HepG2_DNasePeakNoPromote...</td>\n",
       "      <td>305</td>\n",
       "    </tr>\n",
       "  </tbody>\n",
       "</table>\n",
       "</div>"
      ],
      "text/plain": [
       "                                               coord  n_barcodes\n",
       "0      15-firstorder.63414|WTC11_seq51996_F|inactive         193\n",
       "1  15-firstorder.2355935|HepG2_DNasePeakNoPromote...         149\n",
       "2      15-firstorder.1412646|K562_peak57048|inactive         300\n",
       "3     15-firstorder.192228|WTC11_seq41747_F|inactive         256\n",
       "4  15-firstorder.1426742|HepG2_DNasePeakNoPromote...         305"
      ]
     },
     "execution_count": 26,
     "metadata": {},
     "output_type": "execute_result"
    }
   ],
   "source": [
    "df = pd.read_feather(FILE)\n",
    "\n",
    "df.head()"
   ]
  },
  {
   "cell_type": "code",
   "execution_count": 27,
   "id": "65bfe35b",
   "metadata": {
    "ExecuteTime": {
     "end_time": "2023-09-05T23:59:56.252703Z",
     "start_time": "2023-09-05T23:59:56.246194Z"
    }
   },
   "outputs": [
    {
     "data": {
      "text/plain": [
       "10563139"
      ]
     },
     "execution_count": 27,
     "metadata": {},
     "output_type": "execute_result"
    }
   ],
   "source": [
    "df[\"n_barcodes\"].sum()"
   ]
  },
  {
   "cell_type": "code",
   "execution_count": 28,
   "id": "b5dd495f",
   "metadata": {
    "ExecuteTime": {
     "end_time": "2023-09-05T23:59:56.630248Z",
     "start_time": "2023-09-05T23:59:56.609033Z"
    }
   },
   "outputs": [
    {
     "data": {
      "text/html": [
       "<div>\n",
       "<style scoped>\n",
       "    .dataframe tbody tr th:only-of-type {\n",
       "        vertical-align: middle;\n",
       "    }\n",
       "\n",
       "    .dataframe tbody tr th {\n",
       "        vertical-align: top;\n",
       "    }\n",
       "\n",
       "    .dataframe thead th {\n",
       "        text-align: right;\n",
       "    }\n",
       "</style>\n",
       "<table border=\"1\" class=\"dataframe\">\n",
       "  <thead>\n",
       "    <tr style=\"text-align: right;\">\n",
       "      <th></th>\n",
       "      <th>n_barcodes</th>\n",
       "    </tr>\n",
       "  </thead>\n",
       "  <tbody>\n",
       "    <tr>\n",
       "      <th>count</th>\n",
       "      <td>56504.000000</td>\n",
       "    </tr>\n",
       "    <tr>\n",
       "      <th>mean</th>\n",
       "      <td>186.944977</td>\n",
       "    </tr>\n",
       "    <tr>\n",
       "      <th>std</th>\n",
       "      <td>120.585530</td>\n",
       "    </tr>\n",
       "    <tr>\n",
       "      <th>min</th>\n",
       "      <td>0.000000</td>\n",
       "    </tr>\n",
       "    <tr>\n",
       "      <th>25%</th>\n",
       "      <td>105.000000</td>\n",
       "    </tr>\n",
       "    <tr>\n",
       "      <th>50%</th>\n",
       "      <td>165.000000</td>\n",
       "    </tr>\n",
       "    <tr>\n",
       "      <th>75%</th>\n",
       "      <td>244.000000</td>\n",
       "    </tr>\n",
       "    <tr>\n",
       "      <th>max</th>\n",
       "      <td>1124.000000</td>\n",
       "    </tr>\n",
       "  </tbody>\n",
       "</table>\n",
       "</div>"
      ],
      "text/plain": [
       "         n_barcodes\n",
       "count  56504.000000\n",
       "mean     186.944977\n",
       "std      120.585530\n",
       "min        0.000000\n",
       "25%      105.000000\n",
       "50%      165.000000\n",
       "75%      244.000000\n",
       "max     1124.000000"
      ]
     },
     "execution_count": 28,
     "metadata": {},
     "output_type": "execute_result"
    }
   ],
   "source": [
    "df.describe()"
   ]
  },
  {
   "cell_type": "code",
   "execution_count": 29,
   "id": "8fda737c",
   "metadata": {
    "ExecuteTime": {
     "end_time": "2023-09-05T23:59:57.024754Z",
     "start_time": "2023-09-05T23:59:56.942100Z"
    }
   },
   "outputs": [
    {
     "data": {
      "text/plain": [
       "56504"
      ]
     },
     "execution_count": 29,
     "metadata": {},
     "output_type": "execute_result"
    }
   ],
   "source": [
    "len(df['coord'].unique())"
   ]
  },
  {
   "cell_type": "code",
   "execution_count": 30,
   "id": "53066d2c",
   "metadata": {
    "ExecuteTime": {
     "end_time": "2023-09-05T23:59:57.406304Z",
     "start_time": "2023-09-05T23:59:57.303013Z"
    }
   },
   "outputs": [],
   "source": [
    "df[[\"null_id\", \"peak_id\", \"activity\"]] = df[\"coord\"].str.split('|', expand=True)"
   ]
  },
  {
   "cell_type": "code",
   "execution_count": 31,
   "id": "b54117d5",
   "metadata": {
    "ExecuteTime": {
     "end_time": "2023-09-05T23:59:57.681600Z",
     "start_time": "2023-09-05T23:59:57.671523Z"
    }
   },
   "outputs": [
    {
     "data": {
      "text/html": [
       "<div>\n",
       "<style scoped>\n",
       "    .dataframe tbody tr th:only-of-type {\n",
       "        vertical-align: middle;\n",
       "    }\n",
       "\n",
       "    .dataframe tbody tr th {\n",
       "        vertical-align: top;\n",
       "    }\n",
       "\n",
       "    .dataframe thead th {\n",
       "        text-align: right;\n",
       "    }\n",
       "</style>\n",
       "<table border=\"1\" class=\"dataframe\">\n",
       "  <thead>\n",
       "    <tr style=\"text-align: right;\">\n",
       "      <th></th>\n",
       "      <th>coord</th>\n",
       "      <th>n_barcodes</th>\n",
       "      <th>null_id</th>\n",
       "      <th>peak_id</th>\n",
       "      <th>activity</th>\n",
       "    </tr>\n",
       "  </thead>\n",
       "  <tbody>\n",
       "    <tr>\n",
       "      <th>0</th>\n",
       "      <td>15-firstorder.63414|WTC11_seq51996_F|inactive</td>\n",
       "      <td>193</td>\n",
       "      <td>15-firstorder.63414</td>\n",
       "      <td>WTC11_seq51996_F</td>\n",
       "      <td>inactive</td>\n",
       "    </tr>\n",
       "    <tr>\n",
       "      <th>1</th>\n",
       "      <td>15-firstorder.2355935|HepG2_DNasePeakNoPromote...</td>\n",
       "      <td>149</td>\n",
       "      <td>15-firstorder.2355935</td>\n",
       "      <td>HepG2_DNasePeakNoPromoter50640</td>\n",
       "      <td>inactive</td>\n",
       "    </tr>\n",
       "    <tr>\n",
       "      <th>2</th>\n",
       "      <td>15-firstorder.1412646|K562_peak57048|inactive</td>\n",
       "      <td>300</td>\n",
       "      <td>15-firstorder.1412646</td>\n",
       "      <td>K562_peak57048</td>\n",
       "      <td>inactive</td>\n",
       "    </tr>\n",
       "    <tr>\n",
       "      <th>3</th>\n",
       "      <td>15-firstorder.192228|WTC11_seq41747_F|inactive</td>\n",
       "      <td>256</td>\n",
       "      <td>15-firstorder.192228</td>\n",
       "      <td>WTC11_seq41747_F</td>\n",
       "      <td>inactive</td>\n",
       "    </tr>\n",
       "    <tr>\n",
       "      <th>4</th>\n",
       "      <td>15-firstorder.1426742|HepG2_DNasePeakNoPromote...</td>\n",
       "      <td>305</td>\n",
       "      <td>15-firstorder.1426742</td>\n",
       "      <td>HepG2_DNasePeakNoPromoter11362</td>\n",
       "      <td>inactive</td>\n",
       "    </tr>\n",
       "  </tbody>\n",
       "</table>\n",
       "</div>"
      ],
      "text/plain": [
       "                                               coord  n_barcodes  \\\n",
       "0      15-firstorder.63414|WTC11_seq51996_F|inactive         193   \n",
       "1  15-firstorder.2355935|HepG2_DNasePeakNoPromote...         149   \n",
       "2      15-firstorder.1412646|K562_peak57048|inactive         300   \n",
       "3     15-firstorder.192228|WTC11_seq41747_F|inactive         256   \n",
       "4  15-firstorder.1426742|HepG2_DNasePeakNoPromote...         305   \n",
       "\n",
       "                 null_id                         peak_id  activity  \n",
       "0    15-firstorder.63414                WTC11_seq51996_F  inactive  \n",
       "1  15-firstorder.2355935  HepG2_DNasePeakNoPromoter50640  inactive  \n",
       "2  15-firstorder.1412646                  K562_peak57048  inactive  \n",
       "3   15-firstorder.192228                WTC11_seq41747_F  inactive  \n",
       "4  15-firstorder.1426742  HepG2_DNasePeakNoPromoter11362  inactive  "
      ]
     },
     "execution_count": 31,
     "metadata": {},
     "output_type": "execute_result"
    }
   ],
   "source": [
    "df.head()"
   ]
  },
  {
   "cell_type": "code",
   "execution_count": 32,
   "id": "fe93c34c",
   "metadata": {
    "ExecuteTime": {
     "end_time": "2023-09-05T23:59:58.108483Z",
     "start_time": "2023-09-05T23:59:58.088130Z"
    }
   },
   "outputs": [
    {
     "data": {
      "text/plain": [
       "['coord', 'n_barcodes', 'null_id', 'peak_id', 'activity']"
      ]
     },
     "execution_count": 32,
     "metadata": {},
     "output_type": "execute_result"
    }
   ],
   "source": [
    "list(df)"
   ]
  },
  {
   "cell_type": "code",
   "execution_count": 33,
   "id": "f3033b03",
   "metadata": {
    "ExecuteTime": {
     "end_time": "2023-09-05T23:59:58.795285Z",
     "start_time": "2023-09-05T23:59:58.788101Z"
    }
   },
   "outputs": [
    {
     "data": {
      "text/plain": [
       "coord         object\n",
       "n_barcodes     int64\n",
       "null_id       object\n",
       "peak_id       object\n",
       "activity      object\n",
       "dtype: object"
      ]
     },
     "execution_count": 33,
     "metadata": {},
     "output_type": "execute_result"
    }
   ],
   "source": [
    "df[\"n_barcodes\"].astype(int)\n",
    "df.dtypes"
   ]
  },
  {
   "cell_type": "code",
   "execution_count": 34,
   "id": "d7abfbf2",
   "metadata": {
    "ExecuteTime": {
     "end_time": "2023-09-06T00:00:00.393021Z",
     "start_time": "2023-09-06T00:00:00.364264Z"
    }
   },
   "outputs": [],
   "source": [
    "df.loc[df[\"coord\"].str.contains(\"C:SLEA\"), \"activity\"] = \"ctrl\""
   ]
  },
  {
   "cell_type": "code",
   "execution_count": 35,
   "id": "5dac635c",
   "metadata": {
    "ExecuteTime": {
     "end_time": "2023-09-06T00:00:02.213991Z",
     "start_time": "2023-09-06T00:00:02.208349Z"
    }
   },
   "outputs": [
    {
     "data": {
      "text/plain": [
       "(56504, 5)"
      ]
     },
     "execution_count": 35,
     "metadata": {},
     "output_type": "execute_result"
    }
   ],
   "source": [
    "df.shape"
   ]
  },
  {
   "cell_type": "code",
   "execution_count": 36,
   "id": "9c40be94",
   "metadata": {
    "ExecuteTime": {
     "end_time": "2023-09-06T00:00:10.000508Z",
     "start_time": "2023-09-06T00:00:09.959780Z"
    }
   },
   "outputs": [
    {
     "data": {
      "text/html": [
       "<div>\n",
       "<style scoped>\n",
       "    .dataframe tbody tr th:only-of-type {\n",
       "        vertical-align: middle;\n",
       "    }\n",
       "\n",
       "    .dataframe tbody tr th {\n",
       "        vertical-align: top;\n",
       "    }\n",
       "\n",
       "    .dataframe thead th {\n",
       "        text-align: right;\n",
       "    }\n",
       "</style>\n",
       "<table border=\"1\" class=\"dataframe\">\n",
       "  <thead>\n",
       "    <tr style=\"text-align: right;\">\n",
       "      <th></th>\n",
       "      <th>count</th>\n",
       "      <th>mean</th>\n",
       "      <th>std</th>\n",
       "      <th>min</th>\n",
       "      <th>25%</th>\n",
       "      <th>50%</th>\n",
       "      <th>75%</th>\n",
       "      <th>max</th>\n",
       "    </tr>\n",
       "    <tr>\n",
       "      <th>activity</th>\n",
       "      <th></th>\n",
       "      <th></th>\n",
       "      <th></th>\n",
       "      <th></th>\n",
       "      <th></th>\n",
       "      <th></th>\n",
       "      <th></th>\n",
       "      <th></th>\n",
       "    </tr>\n",
       "  </thead>\n",
       "  <tbody>\n",
       "    <tr>\n",
       "      <th>active</th>\n",
       "      <td>1188.0</td>\n",
       "      <td>1.439394</td>\n",
       "      <td>3.130769</td>\n",
       "      <td>0.0</td>\n",
       "      <td>1.0</td>\n",
       "      <td>1.0</td>\n",
       "      <td>1.0</td>\n",
       "      <td>73.0</td>\n",
       "    </tr>\n",
       "    <tr>\n",
       "      <th>ctrl</th>\n",
       "      <td>51.0</td>\n",
       "      <td>207.274510</td>\n",
       "      <td>145.698604</td>\n",
       "      <td>3.0</td>\n",
       "      <td>137.0</td>\n",
       "      <td>175.0</td>\n",
       "      <td>244.5</td>\n",
       "      <td>944.0</td>\n",
       "    </tr>\n",
       "    <tr>\n",
       "      <th>inactive</th>\n",
       "      <td>54013.0</td>\n",
       "      <td>190.834781</td>\n",
       "      <td>118.630436</td>\n",
       "      <td>0.0</td>\n",
       "      <td>109.0</td>\n",
       "      <td>168.0</td>\n",
       "      <td>246.0</td>\n",
       "      <td>1124.0</td>\n",
       "    </tr>\n",
       "  </tbody>\n",
       "</table>\n",
       "</div>"
      ],
      "text/plain": [
       "            count        mean         std  min    25%    50%    75%     max\n",
       "activity                                                                   \n",
       "active     1188.0    1.439394    3.130769  0.0    1.0    1.0    1.0    73.0\n",
       "ctrl         51.0  207.274510  145.698604  3.0  137.0  175.0  244.5   944.0\n",
       "inactive  54013.0  190.834781  118.630436  0.0  109.0  168.0  246.0  1124.0"
      ]
     },
     "execution_count": 36,
     "metadata": {},
     "output_type": "execute_result"
    }
   ],
   "source": [
    "df.groupby('activity')[\"n_barcodes\"].describe()"
   ]
  },
  {
   "cell_type": "code",
   "execution_count": 24,
   "id": "a2507f88",
   "metadata": {
    "ExecuteTime": {
     "end_time": "2023-09-05T23:59:22.382282Z",
     "start_time": "2023-09-05T23:59:22.328954Z"
    }
   },
   "outputs": [
    {
     "data": {
      "text/html": [
       "<div>\n",
       "<style scoped>\n",
       "    .dataframe tbody tr th:only-of-type {\n",
       "        vertical-align: middle;\n",
       "    }\n",
       "\n",
       "    .dataframe tbody tr th {\n",
       "        vertical-align: top;\n",
       "    }\n",
       "\n",
       "    .dataframe thead th {\n",
       "        text-align: right;\n",
       "    }\n",
       "</style>\n",
       "<table border=\"1\" class=\"dataframe\">\n",
       "  <thead>\n",
       "    <tr style=\"text-align: right;\">\n",
       "      <th></th>\n",
       "      <th>coord</th>\n",
       "      <th>n_barcodes</th>\n",
       "      <th>null_id</th>\n",
       "      <th>peak_id</th>\n",
       "      <th>activity</th>\n",
       "    </tr>\n",
       "  </thead>\n",
       "  <tbody>\n",
       "  </tbody>\n",
       "</table>\n",
       "</div>"
      ],
      "text/plain": [
       "Empty DataFrame\n",
       "Columns: [coord, n_barcodes, null_id, peak_id, activity]\n",
       "Index: []"
      ]
     },
     "execution_count": 24,
     "metadata": {},
     "output_type": "execute_result"
    }
   ],
   "source": [
    "df.loc[df[\"activity\"].astype(str).str.contains(\"V_COUPTF_Q6\")]"
   ]
  },
  {
   "cell_type": "markdown",
   "id": "14ec9b75",
   "metadata": {},
   "source": [
    "# investigate design"
   ]
  },
  {
   "cell_type": "code",
   "execution_count": 40,
   "id": "61796e30",
   "metadata": {
    "ExecuteTime": {
     "end_time": "2023-09-06T00:05:36.950389Z",
     "start_time": "2023-09-06T00:05:36.946757Z"
    }
   },
   "outputs": [],
   "source": [
    "DESIGN = \"/wynton/group/ahituv/fongsl/src/MPRAflow/work/e8/06701317043d44bccc7e92326b2e79/design_rmIllegalChars.fa\""
   ]
  },
  {
   "cell_type": "code",
   "execution_count": 41,
   "id": "082eef51",
   "metadata": {
    "ExecuteTime": {
     "end_time": "2023-09-06T00:05:37.698729Z",
     "start_time": "2023-09-06T00:05:37.690184Z"
    }
   },
   "outputs": [
    {
     "name": "stdout",
     "output_type": "stream",
     "text": [
      "AGGACCGGATCAACT CATTGCGTGAACCGA endog|HepG2_DNasePeakNoPromoter10535|active\n",
      "AGGACCGGATCAACT CATTGCGTGAACCGA endog|HepG2_DNasePeakNoPromoter10586|active\n",
      "AGGACCGGATCAACT CATTGCGTGAACCGA endog|HepG2_DNasePeakNoPromoter10714|inactive\n",
      "AGGACCGGATCAACT CATTGCGTGAACCGA endog|HepG2_DNasePeakNoPromoter10849|inactive\n",
      "AGGACCGGATCAACT CATTGCGTGAACCGA endog|HepG2_DNasePeakNoPromoter11263|active\n",
      "AGGACCGGATCAACT CATTGCGTGAACCGA endog|HepG2_DNasePeakNoPromoter11270|active\n",
      "AGGACCGGATCAACT CATTGCGTGAACCGA endog|HepG2_DNasePeakNoPromoter11362|inactive\n",
      "AGGACCGGATCAACT CATTGCGTGAACCGA endog|HepG2_DNasePeakNoPromoter12111|inactive\n",
      "AGGACCGGATCAACT CATTGCGTGAACCGA endog|HepG2_DNasePeakNoPromoter1269|active\n",
      "AGGACCGGATCAACT CATTGCGTGAACCGA endog|HepG2_DNasePeakNoPromoter13177|active\n",
      "AGGACCGGATCAACT CATTGCGTGAACCGA endog|HepG2_DNasePeakNoPromoter14822|active\n",
      "AGGACCGGATCAACT CATTGCGTGAACCGA endog|HepG2_DNasePeakNoPromoter15346|inactive\n",
      "AGGACCGGATCAACT CATTGCGTGAACCGA endog|HepG2_DNasePeakNoPromoter16515|inactive\n",
      "AGGACCGGATCAACT CATTGCGTGAACCGA endog|HepG2_DNasePeakNoPromoter18426|inactive\n",
      "AGGACCGGATCAACT CATTGCGTGAACCGA endog|HepG2_DNasePeakNoPromoter19087|inactive\n",
      "AGGACCGGATCAACT CATTGCGTGAACCGA endog|HepG2_DNasePeakNoPromoter19344|active\n",
      "AGGACCGGATCAACT CATTGCGTGAACCGA endog|HepG2_DNasePeakNoPromoter202|inactive\n",
      "AGGACCGGATCAACT CATTGCGTGAACCGA endog|HepG2_DNasePeakNoPromoter20370|active\n",
      "AGGACCGGATCAACT CATTGCGTGAACCGA endog|HepG2_DNasePeakNoPromoter20605|inactive\n",
      "AGGACCGGATCAACT CATTGCGTGAACCGA endog|HepG2_DNasePeakNoPromoter21364|inactive\n",
      "AGGACCGGATCAACT CATTGCGTGAACCGA endog|HepG2_DNasePeakNoPromoter22808|inactive\n",
      "AGGACCGGATCAACT CATTGCGTGAACCGA endog|HepG2_DNasePeakNoPromoter23895|active\n",
      "AGGACCGGATCAACT CATTGCGTGAACCGA endog|HepG2_DNasePeakNoPromoter23953|inactive\n",
      "AGGACCGGATCAACT CATTGCGTGAACCGA endog|HepG2_DNasePeakNoPromoter24031|inactive\n",
      "AGGACCGGATCAACT CATTGCGTGAACCGA endog|HepG2_DNasePeakNoPromoter24275|inactive\n",
      "AGGACCGGATCAACT CATTGCGTGAACCGA endog|HepG2_DNasePeakNoPromoter24301|inactive\n",
      "AGGACCGGATCAACT CATTGCGTGAACCGA endog|HepG2_DNasePeakNoPromoter24682|active\n",
      "AGGACCGGATCAACT CATTGCGTGAACCGA endog|HepG2_DNasePeakNoPromoter24858|inactive\n",
      "AGGACCGGATCAACT CATTGCGTGAACCGA endog|HepG2_DNasePeakNoPromoter25226|active\n",
      "AGGACCGGATCAACT CATTGCGTGAACCGA endog|HepG2_DNasePeakNoPromoter25317|inactive\n",
      "AGGACCGGATCAACT CATTGCGTGAACCGA endog|HepG2_DNasePeakNoPromoter2575|inactive\n",
      "AGGACCGGATCAACT CATTGCGTGAACCGA endog|HepG2_DNasePeakNoPromoter26204|active\n",
      "AGGACCGGATCAACT CATTGCGTGAACCGA endog|HepG2_DNasePeakNoPromoter26559|inactive\n",
      "AGGACCGGATCAACT CATTGCGTGAACCGA endog|HepG2_DNasePeakNoPromoter27404|active\n",
      "AGGACCGGATCAACT CATTGCGTGAACCGA endog|HepG2_DNasePeakNoPromoter28451|active\n",
      "AGGACCGGATCAACT CATTGCGTGAACCGA endog|HepG2_DNasePeakNoPromoter28484|active\n",
      "AGGACCGGATCAACT CATTGCGTGAACCGA endog|HepG2_DNasePeakNoPromoter28606|active\n",
      "AGGACCGGATCAACT CATTGCGTGAACCGA endog|HepG2_DNasePeakNoPromoter28663|active\n",
      "AGGACCGGATCAACT CATTGCGTGAACCGA endog|HepG2_DNasePeakNoPromoter28813|active\n",
      "AGGACCGGATCAACT CATTGCGTGAACCGA endog|HepG2_DNasePeakNoPromoter28881|inactive\n",
      "AGGACCGGATCAACT CATTGCGTGAACCGA endog|HepG2_DNasePeakNoPromoter29008|active\n",
      "AGGACCGGATCAACT CATTGCGTGAACCGA endog|HepG2_DNasePeakNoPromoter29682|active\n",
      "AGGACCGGATCAACT CATTGCGTGAACCGA endog|HepG2_DNasePeakNoPromoter29923|active\n",
      "AGGACCGGATCAACT CATTGCGTGAACCGA endog|HepG2_DNasePeakNoPromoter30527|inactive\n",
      "AGGACCGGATCAACT CATTGCGTGAACCGA endog|HepG2_DNasePeakNoPromoter31378|active\n",
      "AGGACCGGATCAACT CATTGCGTGAACCGA endog|HepG2_DNasePeakNoPromoter32252|inactive\n",
      "AGGACCGGATCAACT CATTGCGTGAACCGA endog|HepG2_DNasePeakNoPromoter32351|inactive\n",
      "AGGACCGGATCAACT CATTGCGTGAACCGA endog|HepG2_DNasePeakNoPromoter33310|inactive\n",
      "AGGACCGGATCAACT CATTGCGTGAACCGA endog|HepG2_DNasePeakNoPromoter33567|inactive\n",
      "AGGACCGGATCAACT CATTGCGTGAACCGA endog|HepG2_DNasePeakNoPromoter33625|active\n",
      "AGGACCGGATCAACT CATTGCGTGAACCGA endog|HepG2_DNasePeakNoPromoter36677|inactive\n",
      "AGGACCGGATCAACT CATTGCGTGAACCGA endog|HepG2_DNasePeakNoPromoter36861|inactive\n",
      "AGGACCGGATCAACT CATTGCGTGAACCGA endog|HepG2_DNasePeakNoPromoter3695|inactive\n",
      "AGGACCGGATCAACT CATTGCGTGAACCGA endog|HepG2_DNasePeakNoPromoter37131|active\n",
      "AGGACCGGATCAACT CATTGCGTGAACCGA endog|HepG2_DNasePeakNoPromoter37241|inactive\n",
      "AGGACCGGATCAACT CATTGCGTGAACCGA endog|HepG2_DNasePeakNoPromoter37871|active\n",
      "AGGACCGGATCAACT CATTGCGTGAACCGA endog|HepG2_DNasePeakNoPromoter38147|active\n",
      "AGGACCGGATCAACT CATTGCGTGAACCGA endog|HepG2_DNasePeakNoPromoter38209|active\n",
      "AGGACCGGATCAACT CATTGCGTGAACCGA endog|HepG2_DNasePeakNoPromoter38693|active\n",
      "AGGACCGGATCAACT CATTGCGTGAACCGA endog|HepG2_DNasePeakNoPromoter38861|inactive\n",
      "AGGACCGGATCAACT CATTGCGTGAACCGA endog|HepG2_DNasePeakNoPromoter39646|inactive\n",
      "AGGACCGGATCAACT CATTGCGTGAACCGA endog|HepG2_DNasePeakNoPromoter40161|active\n",
      "AGGACCGGATCAACT CATTGCGTGAACCGA endog|HepG2_DNasePeakNoPromoter40177|active\n",
      "AGGACCGGATCAACT CATTGCGTGAACCGA endog|HepG2_DNasePeakNoPromoter40230|active\n",
      "AGGACCGGATCAACT CATTGCGTGAACCGA endog|HepG2_DNasePeakNoPromoter40683|active\n",
      "AGGACCGGATCAACT CATTGCGTGAACCGA endog|HepG2_DNasePeakNoPromoter40804|inactive\n",
      "AGGACCGGATCAACT CATTGCGTGAACCGA endog|HepG2_DNasePeakNoPromoter41238|inactive\n",
      "AGGACCGGATCAACT CATTGCGTGAACCGA endog|HepG2_DNasePeakNoPromoter41988|active\n",
      "AGGACCGGATCAACT CATTGCGTGAACCGA endog|HepG2_DNasePeakNoPromoter42196|active\n",
      "AGGACCGGATCAACT CATTGCGTGAACCGA endog|HepG2_DNasePeakNoPromoter42909|inactive\n",
      "AGGACCGGATCAACT CATTGCGTGAACCGA endog|HepG2_DNasePeakNoPromoter42966|active\n",
      "AGGACCGGATCAACT CATTGCGTGAACCGA endog|HepG2_DNasePeakNoPromoter44101|inactive\n",
      "AGGACCGGATCAACT CATTGCGTGAACCGA endog|HepG2_DNasePeakNoPromoter44233|inactive\n",
      "AGGACCGGATCAACT CATTGCGTGAACCGA endog|HepG2_DNasePeakNoPromoter44820|inactive\n",
      "AGGACCGGATCAACT CATTGCGTGAACCGA endog|HepG2_DNasePeakNoPromoter45290|inactive\n",
      "AGGACCGGATCAACT CATTGCGTGAACCGA endog|HepG2_DNasePeakNoPromoter46465|active\n",
      "AGGACCGGATCAACT CATTGCGTGAACCGA endog|HepG2_DNasePeakNoPromoter46899|inactive\n",
      "AGGACCGGATCAACT CATTGCGTGAACCGA endog|HepG2_DNasePeakNoPromoter47704|inactive\n",
      "AGGACCGGATCAACT CATTGCGTGAACCGA endog|HepG2_DNasePeakNoPromoter48222|active\n",
      "AGGACCGGATCAACT CATTGCGTGAACCGA endog|HepG2_DNasePeakNoPromoter48324|inactive\n",
      "AGGACCGGATCAACT CATTGCGTGAACCGA endog|HepG2_DNasePeakNoPromoter4841|inactive\n",
      "AGGACCGGATCAACT CATTGCGTGAACCGA endog|HepG2_DNasePeakNoPromoter48735|inactive\n",
      "AGGACCGGATCAACT CATTGCGTGAACCGA endog|HepG2_DNasePeakNoPromoter500|active\n",
      "AGGACCGGATCAACT CATTGCGTGAACCGA endog|HepG2_DNasePeakNoPromoter50040|inactive\n",
      "AGGACCGGATCAACT CATTGCGTGAACCGA endog|HepG2_DNasePeakNoPromoter50594|inactive\n",
      "AGGACCGGATCAACT CATTGCGTGAACCGA endog|HepG2_DNasePeakNoPromoter50640|inactive\n",
      "AGGACCGGATCAACT CATTGCGTGAACCGA endog|HepG2_DNasePeakNoPromoter50676|inactive\n",
      "AGGACCGGATCAACT CATTGCGTGAACCGA endog|HepG2_DNasePeakNoPromoter5137|inactive\n",
      "AGGACCGGATCAACT CATTGCGTGAACCGA endog|HepG2_DNasePeakNoPromoter51974|active\n",
      "AGGACCGGATCAACT CATTGCGTGAACCGA endog|HepG2_DNasePeakNoPromoter5201|inactive\n",
      "AGGACCGGATCAACT CATTGCGTGAACCGA endog|HepG2_DNasePeakNoPromoter52195|inactive\n",
      "AGGACCGGATCAACT CATTGCGTGAACCGA endog|HepG2_DNasePeakNoPromoter53344|inactive\n",
      "AGGACCGGATCAACT CATTGCGTGAACCGA endog|HepG2_DNasePeakNoPromoter53479|inactive\n",
      "AGGACCGGATCAACT CATTGCGTGAACCGA endog|HepG2_DNasePeakNoPromoter53861|inactive\n",
      "AGGACCGGATCAACT CATTGCGTGAACCGA endog|HepG2_DNasePeakNoPromoter53900|inactive\n",
      "AGGACCGGATCAACT CATTGCGTGAACCGA endog|HepG2_DNasePeakNoPromoter54925|inactive\n",
      "AGGACCGGATCAACT CATTGCGTGAACCGA endog|HepG2_DNasePeakNoPromoter56777|inactive\n",
      "AGGACCGGATCAACT CATTGCGTGAACCGA endog|HepG2_DNasePeakNoPromoter58258|active\n",
      "AGGACCGGATCAACT CATTGCGTGAACCGA endog|HepG2_DNasePeakNoPromoter58580|inactive\n",
      "AGGACCGGATCAACT CATTGCGTGAACCGA endog|HepG2_DNasePeakNoPromoter58688|active\n",
      "AGGACCGGATCAACT CATTGCGTGAACCGA endog|HepG2_DNasePeakNoPromoter58867|inactive\n"
     ]
    }
   ],
   "source": [
    "v = 0\n",
    "with open(DESIGN, \"r\") as reader:\n",
    "    for value in SimpleFastaParser(reader):\n",
    "        name, seq = value\n",
    "        print(seq[:15], seq[-15:], name)\n",
    "        v +=1\n",
    "        if v> 100:\n",
    "            break"
   ]
  },
  {
   "cell_type": "markdown",
   "id": "108db555",
   "metadata": {},
   "source": [
    "# no jackpots or repeats"
   ]
  },
  {
   "cell_type": "code",
   "execution_count": 19,
   "id": "7205d26d",
   "metadata": {
    "ExecuteTime": {
     "end_time": "2023-09-05T23:26:44.513362Z",
     "start_time": "2023-09-05T23:26:44.509865Z"
    }
   },
   "outputs": [],
   "source": [
    "NO_JACKPOTS = os.path.join(PATH, \"null_mpra_barcodes_per_candidate-no_repeats.feather\")"
   ]
  },
  {
   "cell_type": "code",
   "execution_count": 20,
   "id": "7cf47efb",
   "metadata": {
    "ExecuteTime": {
     "end_time": "2023-09-05T23:26:44.779747Z",
     "start_time": "2023-09-05T23:26:44.722187Z"
    }
   },
   "outputs": [
    {
     "data": {
      "text/html": [
       "<div>\n",
       "<style scoped>\n",
       "    .dataframe tbody tr th:only-of-type {\n",
       "        vertical-align: middle;\n",
       "    }\n",
       "\n",
       "    .dataframe tbody tr th {\n",
       "        vertical-align: top;\n",
       "    }\n",
       "\n",
       "    .dataframe thead th {\n",
       "        text-align: right;\n",
       "    }\n",
       "</style>\n",
       "<table border=\"1\" class=\"dataframe\">\n",
       "  <thead>\n",
       "    <tr style=\"text-align: right;\">\n",
       "      <th></th>\n",
       "      <th>n_barcodes</th>\n",
       "    </tr>\n",
       "  </thead>\n",
       "  <tbody>\n",
       "    <tr>\n",
       "      <th>count</th>\n",
       "      <td>56504.000000</td>\n",
       "    </tr>\n",
       "    <tr>\n",
       "      <th>mean</th>\n",
       "      <td>188.933686</td>\n",
       "    </tr>\n",
       "    <tr>\n",
       "      <th>std</th>\n",
       "      <td>121.437834</td>\n",
       "    </tr>\n",
       "    <tr>\n",
       "      <th>min</th>\n",
       "      <td>1.000000</td>\n",
       "    </tr>\n",
       "    <tr>\n",
       "      <th>25%</th>\n",
       "      <td>106.000000</td>\n",
       "    </tr>\n",
       "    <tr>\n",
       "      <th>50%</th>\n",
       "      <td>167.000000</td>\n",
       "    </tr>\n",
       "    <tr>\n",
       "      <th>75%</th>\n",
       "      <td>246.000000</td>\n",
       "    </tr>\n",
       "    <tr>\n",
       "      <th>max</th>\n",
       "      <td>1130.000000</td>\n",
       "    </tr>\n",
       "  </tbody>\n",
       "</table>\n",
       "</div>"
      ],
      "text/plain": [
       "         n_barcodes\n",
       "count  56504.000000\n",
       "mean     188.933686\n",
       "std      121.437834\n",
       "min        1.000000\n",
       "25%      106.000000\n",
       "50%      167.000000\n",
       "75%      246.000000\n",
       "max     1130.000000"
      ]
     },
     "execution_count": 20,
     "metadata": {},
     "output_type": "execute_result"
    }
   ],
   "source": [
    "nj = pd.read_feather(NO_JACKPOTS)\n",
    "nj.describe()"
   ]
  },
  {
   "cell_type": "code",
   "execution_count": 21,
   "id": "e29ea609",
   "metadata": {
    "ExecuteTime": {
     "end_time": "2023-09-05T23:26:47.228705Z",
     "start_time": "2023-09-05T23:26:47.209950Z"
    }
   },
   "outputs": [
    {
     "data": {
      "text/plain": [
       "56504"
      ]
     },
     "execution_count": 21,
     "metadata": {},
     "output_type": "execute_result"
    }
   ],
   "source": [
    "len(nj['coord'].unique())"
   ]
  },
  {
   "cell_type": "markdown",
   "id": "7c5f0e0b",
   "metadata": {},
   "source": [
    "# pickle"
   ]
  },
  {
   "cell_type": "code",
   "execution_count": 30,
   "id": "259beb43",
   "metadata": {
    "ExecuteTime": {
     "end_time": "2023-09-05T23:29:07.889563Z",
     "start_time": "2023-09-05T23:28:51.803049Z"
    }
   },
   "outputs": [],
   "source": [
    "PICKLE = pd.read_pickle(os.path.join(PATH, \"null_mpra_coords_to_barcodes.pickle\"))"
   ]
  },
  {
   "cell_type": "code",
   "execution_count": 31,
   "id": "3e3ad8ff",
   "metadata": {
    "ExecuteTime": {
     "end_time": "2023-09-05T23:29:12.696104Z",
     "start_time": "2023-09-05T23:29:11.349030Z"
    }
   },
   "outputs": [],
   "source": [
    "p = pd.DataFrame(PICKLE.items())"
   ]
  },
  {
   "cell_type": "code",
   "execution_count": 32,
   "id": "fba85459",
   "metadata": {
    "ExecuteTime": {
     "end_time": "2023-09-05T23:29:13.355237Z",
     "start_time": "2023-09-05T23:29:13.350435Z"
    }
   },
   "outputs": [],
   "source": [
    "p.columns =[\"bc\", \"n\"]"
   ]
  },
  {
   "cell_type": "code",
   "execution_count": 33,
   "id": "6f8ee10d",
   "metadata": {
    "ExecuteTime": {
     "end_time": "2023-09-05T23:29:14.243768Z",
     "start_time": "2023-09-05T23:29:14.229071Z"
    }
   },
   "outputs": [
    {
     "data": {
      "text/html": [
       "<div>\n",
       "<style scoped>\n",
       "    .dataframe tbody tr th:only-of-type {\n",
       "        vertical-align: middle;\n",
       "    }\n",
       "\n",
       "    .dataframe tbody tr th {\n",
       "        vertical-align: top;\n",
       "    }\n",
       "\n",
       "    .dataframe thead th {\n",
       "        text-align: right;\n",
       "    }\n",
       "</style>\n",
       "<table border=\"1\" class=\"dataframe\">\n",
       "  <thead>\n",
       "    <tr style=\"text-align: right;\">\n",
       "      <th></th>\n",
       "      <th>bc</th>\n",
       "      <th>n</th>\n",
       "    </tr>\n",
       "  </thead>\n",
       "  <tbody>\n",
       "    <tr>\n",
       "      <th>0</th>\n",
       "      <td>15-firstorder.63414|WTC11_seq51996_F|inactive</td>\n",
       "      <td>[AAACATTAGTTTCTT, GAAGAGGGCCAAACC, GCAGTTGTGTA...</td>\n",
       "    </tr>\n",
       "    <tr>\n",
       "      <th>1</th>\n",
       "      <td>15-firstorder.2355935|HepG2_DNasePeakNoPromote...</td>\n",
       "      <td>[TTGGAATGACCAACA, TGACTGAGAAGGCTA, TACTTGGACAT...</td>\n",
       "    </tr>\n",
       "    <tr>\n",
       "      <th>2</th>\n",
       "      <td>15-firstorder.1412646|K562_peak57048|inactive</td>\n",
       "      <td>[TTTCTTTGGGATTAA, ATATTGCTCCCTGCG, TTAAGGAGATG...</td>\n",
       "    </tr>\n",
       "    <tr>\n",
       "      <th>3</th>\n",
       "      <td>15-firstorder.192228|WTC11_seq41747_F|inactive</td>\n",
       "      <td>[CTATGTTATTACAAA, GATCCTACATAGAGT, TACATTACGTG...</td>\n",
       "    </tr>\n",
       "    <tr>\n",
       "      <th>4</th>\n",
       "      <td>15-firstorder.1426742|HepG2_DNasePeakNoPromote...</td>\n",
       "      <td>[GAACTTGTCTGGCTA, CTATGAAAGAGATCC, CAAAACATAGT...</td>\n",
       "    </tr>\n",
       "  </tbody>\n",
       "</table>\n",
       "</div>"
      ],
      "text/plain": [
       "                                                  bc  \\\n",
       "0      15-firstorder.63414|WTC11_seq51996_F|inactive   \n",
       "1  15-firstorder.2355935|HepG2_DNasePeakNoPromote...   \n",
       "2      15-firstorder.1412646|K562_peak57048|inactive   \n",
       "3     15-firstorder.192228|WTC11_seq41747_F|inactive   \n",
       "4  15-firstorder.1426742|HepG2_DNasePeakNoPromote...   \n",
       "\n",
       "                                                   n  \n",
       "0  [AAACATTAGTTTCTT, GAAGAGGGCCAAACC, GCAGTTGTGTA...  \n",
       "1  [TTGGAATGACCAACA, TGACTGAGAAGGCTA, TACTTGGACAT...  \n",
       "2  [TTTCTTTGGGATTAA, ATATTGCTCCCTGCG, TTAAGGAGATG...  \n",
       "3  [CTATGTTATTACAAA, GATCCTACATAGAGT, TACATTACGTG...  \n",
       "4  [GAACTTGTCTGGCTA, CTATGAAAGAGATCC, CAAAACATAGT...  "
      ]
     },
     "execution_count": 33,
     "metadata": {},
     "output_type": "execute_result"
    }
   ],
   "source": [
    "p.head()"
   ]
  },
  {
   "cell_type": "code",
   "execution_count": 34,
   "id": "32d6c0fe",
   "metadata": {
    "ExecuteTime": {
     "end_time": "2023-09-05T23:29:19.082190Z",
     "start_time": "2023-09-05T23:29:19.065636Z"
    }
   },
   "outputs": [
    {
     "data": {
      "text/plain": [
       "56504"
      ]
     },
     "execution_count": 34,
     "metadata": {},
     "output_type": "execute_result"
    }
   ],
   "source": [
    "len(set(p[\"bc\"]))"
   ]
  },
  {
   "cell_type": "code",
   "execution_count": null,
   "id": "1d516cc4",
   "metadata": {},
   "outputs": [],
   "source": [
    "# there are 10358215 bc"
   ]
  },
  {
   "cell_type": "markdown",
   "id": "e7253dcf",
   "metadata": {},
   "source": [
    "# FASTP run "
   ]
  },
  {
   "cell_type": "code",
   "execution_count": 2,
   "id": "aad74e8e",
   "metadata": {
    "ExecuteTime": {
     "end_time": "2023-09-06T03:39:08.363852Z",
     "start_time": "2023-09-06T03:39:08.359632Z"
    }
   },
   "outputs": [],
   "source": [
    "FP=\"/wynton/group/ahituv/fongsl/projects/nullomers/data/20230815_nullomer_MPRA/assoc_fastp/null_mpra_coords_to_barcodes.pickle\""
   ]
  },
  {
   "cell_type": "code",
   "execution_count": 4,
   "id": "a59e8adb",
   "metadata": {
    "ExecuteTime": {
     "end_time": "2023-09-06T03:40:28.552003Z",
     "start_time": "2023-09-06T03:40:15.237309Z"
    }
   },
   "outputs": [],
   "source": [
    "pickle = pd.read_pickle(FP)\n",
    "p = pd.DataFrame(pickle.items())"
   ]
  },
  {
   "cell_type": "code",
   "execution_count": 5,
   "id": "cc93edf1",
   "metadata": {
    "ExecuteTime": {
     "end_time": "2023-09-06T03:40:31.242063Z",
     "start_time": "2023-09-06T03:40:31.232551Z"
    }
   },
   "outputs": [
    {
     "data": {
      "text/plain": [
       "(1, 2)"
      ]
     },
     "execution_count": 5,
     "metadata": {},
     "output_type": "execute_result"
    }
   ],
   "source": [
    "p.shape"
   ]
  },
  {
   "cell_type": "code",
   "execution_count": 6,
   "id": "15469142",
   "metadata": {
    "ExecuteTime": {
     "end_time": "2023-09-06T03:40:33.963344Z",
     "start_time": "2023-09-06T03:40:33.938755Z"
    }
   },
   "outputs": [
    {
     "data": {
      "text/html": [
       "<div>\n",
       "<style scoped>\n",
       "    .dataframe tbody tr th:only-of-type {\n",
       "        vertical-align: middle;\n",
       "    }\n",
       "\n",
       "    .dataframe tbody tr th {\n",
       "        vertical-align: top;\n",
       "    }\n",
       "\n",
       "    .dataframe thead th {\n",
       "        text-align: right;\n",
       "    }\n",
       "</style>\n",
       "<table border=\"1\" class=\"dataframe\">\n",
       "  <thead>\n",
       "    <tr style=\"text-align: right;\">\n",
       "      <th></th>\n",
       "      <th>0</th>\n",
       "      <th>1</th>\n",
       "    </tr>\n",
       "  </thead>\n",
       "  <tbody>\n",
       "    <tr>\n",
       "      <th>0</th>\n",
       "      <td>endog|HepG2_DNasePeakNoPromoter10535|active</td>\n",
       "      <td>[AAACATTAGTTTCTT, TTGGAATGACCAACA, TTTCTTTGGGA...</td>\n",
       "    </tr>\n",
       "  </tbody>\n",
       "</table>\n",
       "</div>"
      ],
      "text/plain": [
       "                                             0  \\\n",
       "0  endog|HepG2_DNasePeakNoPromoter10535|active   \n",
       "\n",
       "                                                   1  \n",
       "0  [AAACATTAGTTTCTT, TTGGAATGACCAACA, TTTCTTTGGGA...  "
      ]
     },
     "execution_count": 6,
     "metadata": {},
     "output_type": "execute_result"
    }
   ],
   "source": [
    "p.head()"
   ]
  },
  {
   "cell_type": "code",
   "execution_count": 3,
   "id": "29e8d519",
   "metadata": {
    "ExecuteTime": {
     "end_time": "2023-09-07T20:30:28.386167Z",
     "start_time": "2023-09-07T20:30:28.381043Z"
    }
   },
   "outputs": [
    {
     "data": {
      "text/plain": [
       "200"
      ]
     },
     "execution_count": 3,
     "metadata": {},
     "output_type": "execute_result"
    }
   ],
   "source": [
    "a='TGATTCTTACTTCGTGCTCCAAGACGTCTGTTCTTTCCTGCTTTGTGACGCAGGCCTCCGTGCTGGCATTTGTGAAATGCAGATAACCTGTCAAACGTTGTCGACGGCCAGTACTCTGGTTGTAATCTCCTGAGGCCAGGAGCTGGGTCTTCAGGTCTTCACTTTCTCTCTATGTCCCCAACACAGCTCTGGGGGCGGGG'\n",
    "len(a)"
   ]
  },
  {
   "cell_type": "code",
   "execution_count": null,
   "id": "849b4c8c",
   "metadata": {},
   "outputs": [],
   "source": []
  }
 ],
 "metadata": {
  "kernelspec": {
   "display_name": "Python (mamba)",
   "language": "python",
   "name": "mamba"
  },
  "language_info": {
   "codemirror_mode": {
    "name": "ipython",
    "version": 3
   },
   "file_extension": ".py",
   "mimetype": "text/x-python",
   "name": "python",
   "nbconvert_exporter": "python",
   "pygments_lexer": "ipython3",
   "version": "3.9.16"
  },
  "toc": {
   "base_numbering": 1,
   "nav_menu": {},
   "number_sections": true,
   "sideBar": true,
   "skip_h1_title": false,
   "title_cell": "Table of Contents",
   "title_sidebar": "Contents",
   "toc_cell": false,
   "toc_position": {},
   "toc_section_display": true,
   "toc_window_display": false
  },
  "varInspector": {
   "cols": {
    "lenName": 16,
    "lenType": 16,
    "lenVar": 40
   },
   "kernels_config": {
    "python": {
     "delete_cmd_postfix": "",
     "delete_cmd_prefix": "del ",
     "library": "var_list.py",
     "varRefreshCmd": "print(var_dic_list())"
    },
    "r": {
     "delete_cmd_postfix": ") ",
     "delete_cmd_prefix": "rm(",
     "library": "var_list.r",
     "varRefreshCmd": "cat(var_dic_list()) "
    }
   },
   "types_to_exclude": [
    "module",
    "function",
    "builtin_function_or_method",
    "instance",
    "_Feature"
   ],
   "window_display": false
  }
 },
 "nbformat": 4,
 "nbformat_minor": 5
}
