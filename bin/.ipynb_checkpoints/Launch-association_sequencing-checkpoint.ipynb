{
 "cells": [
  {
   "cell_type": "code",
   "execution_count": 2,
   "id": "9247e129",
   "metadata": {
    "ExecuteTime": {
     "end_time": "2023-09-05T18:37:25.688962Z",
     "start_time": "2023-09-05T18:37:25.499055Z"
    }
   },
   "outputs": [],
   "source": [
    "from Bio import SeqIO\n",
    "import config_readwrite as crw\n",
    "import glob\n",
    "import os\n",
    "import sys"
   ]
  },
  {
   "cell_type": "code",
   "execution_count": 3,
   "id": "c94b4ccf",
   "metadata": {
    "ExecuteTime": {
     "end_time": "2023-09-05T18:37:26.228498Z",
     "start_time": "2023-09-05T18:37:26.147080Z"
    }
   },
   "outputs": [],
   "source": [
    "config_tag = \"config\"\n",
    "config, cfn = crw.read_config(os.path.join(os.path.dirname(os.getcwd()), config_tag))"
   ]
  },
  {
   "cell_type": "code",
   "execution_count": 4,
   "id": "ce4669cd",
   "metadata": {
    "ExecuteTime": {
     "end_time": "2023-09-05T18:37:26.683096Z",
     "start_time": "2023-09-05T18:37:26.459464Z"
    }
   },
   "outputs": [],
   "source": [
    "PATH = \"/wynton/group/ahituv/fongsl/projects/nullomers/data/20230815_nullomer_MPRA/assoc\"\n",
    "config_tag= \"null_mpra.config\"\n",
    "config, cfn = crw.read_config(os.path.join(PATH, config_tag))"
   ]
  },
  {
   "cell_type": "markdown",
   "id": "05104b55",
   "metadata": {},
   "source": [
    "# config"
   ]
  },
  {
   "cell_type": "code",
   "execution_count": 5,
   "id": "71b3fe52",
   "metadata": {
    "ExecuteTime": {
     "end_time": "2023-09-05T18:37:27.350586Z",
     "start_time": "2023-09-05T18:37:27.345343Z"
    }
   },
   "outputs": [],
   "source": [
    "# write novogene info\n",
    "section = \"novogene\"\n",
    "crw.check(config, section)\n",
    "\n",
    "write_dict = {\n",
    "        \"Host\":\"sftp://38.122.175.98\",\n",
    "        \"Username\":\"1735-2193\",\n",
    "        \"Password\":\"BRdCV2\",\n",
    "        \"Port\":\"2222\",\n",
    "        }\n",
    "for key, value in write_dict.items():\n",
    "    config[section][key]=value"
   ]
  },
  {
   "cell_type": "code",
   "execution_count": 6,
   "id": "66763ca8",
   "metadata": {
    "ExecuteTime": {
     "end_time": "2023-09-05T18:37:27.717220Z",
     "start_time": "2023-09-05T18:37:27.699236Z"
    }
   },
   "outputs": [],
   "source": [
    "# write association seq data, paths\n",
    "\n",
    "section = \"assoc_seq\"\n",
    "crw.check(config, section)\n",
    "PATH = \"/wynton/group/ahituv/fongsl/projects/nullomers/data/20230815_nullomer_MPRA\"\n",
    "NAME = \"null_mpra\"\n",
    "FASTQ_PREFIX = \"SF_asso_S1\"\n",
    "SRC_GROUP = \"/wynton/group/ahituv/fongsl/src/MPRAflow/association/\"\n",
    "SRC_HOME = \"/wynton/home/ahituv/fongsl/MPRA/mpraflow/bin\"\n",
    "SRC_QSUB = os.path.join(SRC_HOME, \"association.sh\")\n",
    "\n",
    "R1= os.path.join(PATH, f\"{FASTQ_PREFIX}_R1_001.fastq.gz\")\n",
    "R2= os.path.join(PATH, f\"{FASTQ_PREFIX}_R4_001.fastq.gz\")\n",
    "BC= os.path.join(PATH, f\"{FASTQ_PREFIX}_R2_001.fastq.gz\") # note: SF_asso_S1_R3_001.fastq.gz is common i5 GCCAGCGCCG\n",
    "DESIGN = os.path.join(os.path.join(PATH ,\"15mer.fo.pam.scaffold.ext200.library.TWIST.fa\"))\n",
    "SRC = \"/wynton/group/ahituv/fongsl/src/MPRAflow/\"\n",
    "NEXTFLOW_SCRIPT = \"/wynton/group/ahituv/fongsl/src/MPRAflow/association.nf\"\n",
    "\n",
    "write_dict = {\n",
    "    \"path\":PATH,\n",
    "    \"name\":NAME,\n",
    "    \"fastq_prefix\":FASTQ_PREFIX, \n",
    "    \"ins\": R1, \n",
    "    \"inspe\": R2, \n",
    "    \"design_fa\": DESIGN, \n",
    "    \"src\": SRC,\n",
    "    \"src_qsub\":SRC_QSUB\n",
    "\n",
    "}\n",
    "\n",
    "for key, value in write_dict.items():\n",
    "    config[section][key]=value\n",
    "crw.write(config, cfn)"
   ]
  },
  {
   "cell_type": "markdown",
   "id": "47f72428",
   "metadata": {},
   "source": [
    "# Python"
   ]
  },
  {
   "cell_type": "code",
   "execution_count": 8,
   "id": "14b41e23",
   "metadata": {
    "ExecuteTime": {
     "end_time": "2023-09-05T19:03:20.177723Z",
     "start_time": "2023-09-05T19:03:20.120797Z"
    }
   },
   "outputs": [
    {
     "name": "stdout",
     "output_type": "stream",
     "text": [
      "qsub /wynton/home/ahituv/fongsl/MPRA/mpraflow/bin/association.sh /wynton/group/ahituv/fongsl/projects/nullomers/data/20230815_nullomer_MPRA null_mpra /wynton/group/ahituv/fongsl/projects/nullomers/data/20230815_nullomer_MPRA/SF_asso_S1_R1_001.fastq.gz /wynton/group/ahituv/fongsl/projects/nullomers/data/20230815_nullomer_MPRA/SF_asso_S1_R4_001.fastq.gz /wynton/group/ahituv/fongsl/projects/nullomers/data/20230815_nullomer_MPRA/SF_asso_S1_R2_001.fastq.gz /wynton/group/ahituv/fongsl/projects/nullomers/data/20230815_nullomer_MPRA/15mer.fo.pam.scaffold.ext200.library.TWIST.fa None\n",
      "Your job 314798 (\"association.sh\") has been submitted\n"
     ]
    },
    {
     "data": {
      "text/plain": [
       "0"
      ]
     },
     "execution_count": 8,
     "metadata": {},
     "output_type": "execute_result"
    }
   ],
   "source": [
    "cmd  = [\"qsub\",\n",
    "        SRC_QSUB,\n",
    "        PATH,\n",
    "        NAME,\n",
    "        R1,\n",
    "        R2,\n",
    "        BC,\n",
    "        DESIGN,\n",
    "        \"None\"\n",
    "       ]\n",
    "print(\" \".join(cmd))\n",
    "os.system(\" \".join(cmd))"
   ]
  },
  {
   "cell_type": "code",
   "execution_count": 9,
   "id": "11446c5b",
   "metadata": {
    "ExecuteTime": {
     "end_time": "2023-09-05T22:33:03.134608Z",
     "start_time": "2023-09-05T22:33:03.129365Z"
    }
   },
   "outputs": [
    {
     "data": {
      "text/plain": [
       "'/wynton/group/ahituv/fongsl/projects/nullomers/data/20230815_nullomer_MPRA/SF_asso_S1_R2_001.fastq.gz'"
      ]
     },
     "execution_count": 9,
     "metadata": {},
     "output_type": "execute_result"
    }
   ],
   "source": [
    "BC"
   ]
  },
  {
   "cell_type": "markdown",
   "id": "96259d67",
   "metadata": {},
   "source": [
    "# nextflow"
   ]
  },
  {
   "cell_type": "code",
   "execution_count": 16,
   "id": "b8ab5f6a",
   "metadata": {
    "ExecuteTime": {
     "end_time": "2023-09-05T00:03:43.057292Z",
     "start_time": "2023-09-05T00:03:43.052970Z"
    }
   },
   "outputs": [
    {
     "name": "stdout",
     "output_type": "stream",
     "text": [
      "cd /wynton/group/ahituv/fongsl/src/MPRAflow/ | nextflow run /wynton/group/ahituv/fongsl/src/MPRAflow/association.nf --w /wynton/group/ahituv/fongsl/projects/nullomers/data/20230815_nullomer_MPRA --name null_mpra --fastq-insert /wynton/group/ahituv/fongsl/projects/nullomers/data/20230815_nullomer_MPRA/SF_asso_S1_R1_001.fastq.gz --fastq-insertPE /wynton/group/ahituv/fongsl/projects/nullomers/data/20230815_nullomer_MPRA/SF_asso_S1_R4_001.fastq.gz --design /wynton/group/ahituv/fongsl/projects/nullomers/data/20230815_nullomer_MPRA/15mer.fo.pam.scaffold.ext200.library.TWIST.fa --fastq-bc /wynton/group/ahituv/fongsl/projects/nullomers/data/20230815_nullomer_MPRA/SF_asso_S1_R2_001.fastq.gz\n"
     ]
    }
   ],
   "source": [
    "CMD = \" \".join([\n",
    "    \"cd\", SRC, \n",
    "    \"|\",\n",
    "    \"nextflow run\",\n",
    "    NEXTFLOW_SCRIPT,\n",
    "    \"--w\",\n",
    "    PATH,\n",
    "    \"--name\", \n",
    "    NAME,\n",
    "    \"--fastq-insert\", \n",
    "    R1, \n",
    "    \"--fastq-insertPE\", \n",
    "    R2, \n",
    "    \"--design\", \n",
    "    DESIGN, \n",
    "    \"--fastq-bc\", \n",
    "    BC\n",
    "    ])\n",
    "print(CMD)"
   ]
  },
  {
   "cell_type": "markdown",
   "id": "1c1ef4a1",
   "metadata": {},
   "source": [
    "# Nextflow local"
   ]
  },
  {
   "cell_type": "code",
   "execution_count": 7,
   "id": "2dce8c81",
   "metadata": {
    "ExecuteTime": {
     "end_time": "2023-09-04T23:40:41.655435Z",
     "start_time": "2023-09-04T23:40:41.646285Z"
    }
   },
   "outputs": [
    {
     "data": {
      "text/plain": [
       "'\\nfor key, value in write_dict.items():\\n    config[section][key]=value\\ncrw.write(config, cfn)\\n'"
      ]
     },
     "execution_count": 7,
     "metadata": {},
     "output_type": "execute_result"
    }
   ],
   "source": [
    "# write association seq data, paths\n",
    "\n",
    "section = \"assoc_seq\"\n",
    "#crw.check(config, section)\n",
    "PATH = '/Users/sarahfong/Desktop/Mirror/'\n",
    "NAME = \"null_mpra\"\n",
    "FASTQ_PREFIX = \"SF_asso_S1\"\n",
    "R1= os.path.join(PATH, f\"{FASTQ_PREFIX}_R1_001.fastq.gz\")\n",
    "R2= os.path.join(PATH, f\"{FASTQ_PREFIX}_R4_001.fastq.gz\")\n",
    "BC= os.path.join(PATH, f\"{FASTQ_PREFIX}_R2_001.fastq.gz\") # note: SF_asso_S1_R3_001.fastq.gz is common i5 GCCAGCGCCG\n",
    "DESIGN = os.path.join(os.path.join(PATH ,\"15mer.fo.pam.scaffold.ext200.library.TWIST.fa\"))\n",
    "SRC =\"/Users/sarahfong/MPRAflow/\"\n",
    "NEXTFLOW_SCRIPT = \"/Users/sarahfong/MPRAflow/association.nf\"\n",
    "\n",
    "write_dict = {\n",
    "    \"path\":PATH,\n",
    "    \"name\":NAME,\n",
    "    \"fastq_prefix\":FASTQ_PREFIX, \n",
    "    \"ins\": R1, \n",
    "    \"inspe\": R2, \n",
    "    \"design_fa\": DESIGN, \n",
    "    \"src\": NEXTFLOW_SCRIPT,\n",
    "#    \"src_qsub\":SRC_QSUB\n",
    "\n",
    "}\n",
    "\"\"\"\n",
    "for key, value in write_dict.items():\n",
    "    config[section][key]=value\n",
    "crw.write(config, cfn)\n",
    "\"\"\""
   ]
  },
  {
   "cell_type": "code",
   "execution_count": 8,
   "id": "070495d3",
   "metadata": {
    "ExecuteTime": {
     "end_time": "2023-09-04T23:40:50.812455Z",
     "start_time": "2023-09-04T23:40:50.807550Z"
    }
   },
   "outputs": [
    {
     "name": "stdout",
     "output_type": "stream",
     "text": [
      "cd /Users/sarahfong/Desktop/Mirror/ | nextflow run /Users/sarahfong/MPRAflow/association.nf --w /Users/sarahfong/Desktop/Mirror/ --name null_mpra --fastq-insert /Users/sarahfong/Desktop/Mirror/SF_asso_S1_R1_001.fastq.gz --fastq-insertPE /Users/sarahfong/Desktop/Mirror/SF_asso_S1_R4_001.fastq.gz --design /Users/sarahfong/Desktop/Mirror/15mer.fo.pam.scaffold.ext200.library.TWIST.fa --fastq-bc /Users/sarahfong/Desktop/Mirror/SF_asso_S1_R2_001.fastq.gz\n"
     ]
    }
   ],
   "source": [
    "CMD = \" \".join([\n",
    "    \"cd\", PATH, \n",
    "    \"|\",\n",
    "    \"nextflow run\",\n",
    "    NEXTFLOW_SCRIPT,\n",
    "    \"--w\",\n",
    "    PATH,\n",
    "    \"--name\", \n",
    "    NAME,\n",
    "    \"--fastq-insert\", \n",
    "    R1, \n",
    "    \"--fastq-insertPE\", \n",
    "    R2, \n",
    "    \"--design\", \n",
    "    DESIGN, \n",
    "    \"--fastq-bc\", \n",
    "    BC\n",
    "    ])\n",
    "print(CMD)"
   ]
  },
  {
   "cell_type": "code",
   "execution_count": null,
   "id": "38f0a0b2",
   "metadata": {},
   "outputs": [],
   "source": [
    "BASEDIR = \"/wynton/group/ahituv/fongsl/src/MPRAflow/\"\n",
    "NAME = \"null_mpra\"\n",
    "SCRIPT = \"/wynton/group/ahituv/fongsl/src/MPRAflow/src/nf_ori_map_barcodes.py\"\n",
    "COUNT_FASTQ = \"/wynton/group/ahituv/fongsl/projects/nullomers/data/20230815_nullomer_MPRA/SF_asso_S1_R2_001.fastq.gz\"\n",
    "BAM= \"/wynton/group/ahituv/fongsl/src/MPRAflow/work/cf/13bb49d384dcf72b8699dd20f9813d/s_merged.bam\"\n",
    "COUNT_BAM = \"/wynton/group/ahituv/fongsl/src/MPRAflow/work/cf/13bb49d384dcf72b8699dd20f9813d/count_merged.txt\"\n",
    "MAPQ, BASEQ, CIGAR = \"30\", \"30\",  n\n",
    "cmd = [\n",
    "            f\"python {BASEDIR}/src/nf_ori_map_barcodes.py\" , \n",
    "            BASEDIR, FASTQ_BC, COUNT_FASTQ, \n",
    "            BAM, COUNT_BAM, NAME, MAPQ, BASEQ, CIGAR\n",
    "            ]\n",
    "\n",
    "print(\" \".join(cmd))"
   ]
  },
  {
   "cell_type": "code",
   "execution_count": null,
   "id": "e10e94ee",
   "metadata": {},
   "outputs": [],
   "source": [
    "python /wynton/group/ahituv/fongsl/src/MPRAflow/src/nf_ori_map_barcodes.py /wynton/group/ahituv/fongsl/src/MPRAflow/  /wynton/group/ahituv/fongsl/src/MPRAflow/work/bc/d26228d4306a70d197dcdbd712ff15/count_fastq.txt \n",
    "/wynton/group/ahituv/fongsl/src/MPRAflow/work/cf/13bb49d384dcf72b8699dd20f9813d/s_merged.bam \n",
    "/wynton/group/ahituv/fongsl/src/MPRAflow/work/cf/13bb49d384dcf72b8699dd20f9813d/count_merged.txt null_mpra "
   ]
  },
  {
   "cell_type": "code",
   "execution_count": null,
   "id": "50099143",
   "metadata": {},
   "outputs": [],
   "source": [
    "    cmd =  [f\"python {BASEDIR}/src/nf_filter_barcodes.py\", \n",
    "            OUT, MAP, TABLE, \n",
    "            MIN_COV, MIN_FRAC, LABEL]"
   ]
  },
  {
   "cell_type": "code",
   "execution_count": 16,
   "id": "f181e299",
   "metadata": {
    "ExecuteTime": {
     "end_time": "2023-09-05T23:15:31.873573Z",
     "start_time": "2023-09-05T23:15:31.867244Z"
    }
   },
   "outputs": [
    {
     "name": "stdout",
     "output_type": "stream",
     "text": [
      "python /wynton/group/ahituv/fongsl/src/MPRAflow/src/nf_filter_barcodes.py null_mpra_res /wynton/group/ahituv/fongsl/src/MPRAflow/null_mpra_coords_to_barcodes.pickle /wynton/group/ahituv/fongsl/src/MPRAflow/null_mpra_barcodes_per_candidate-no_repeats-no_jackpots.feather 3 0.5 /wynton/group/ahituv/fongsl/src/MPRAflow/work/bc/d26228d4306a70d197dcdbd712ff15/label_rmIllegalChars.txt\n"
     ]
    }
   ],
   "source": [
    "BASEDIR = \"/wynton/group/ahituv/fongsl/src/MPRAflow/\"\n",
    "NAME = \"null_mpra\"\n",
    "OUT = f\"{NAME}_res\"\n",
    "MAP = os.path.join(BASEDIR, f\"{NAME}_coords_to_barcodes.pickle\")\n",
    "TABLE = os.path.join(BASEDIR, f\"{NAME}_barcodes_per_candidate-no_repeats-no_jackpots.feather\")\n",
    "MIN_COV = str(3)\n",
    "MIN_FRAC = str(0.5)\n",
    "LABEL = os.path.join(BASEDIR, \"work/bc/d26228d4306a70d197dcdbd712ff15/label_rmIllegalChars.txt\")\n",
    "SCRIPT= \"/wynton/group/ahituv/fongsl/src/MPRAflow/src/nf_filter_barcodes.py \"\n",
    "cmd =  [f\"python {BASEDIR}src/nf_filter_barcodes.py\", \n",
    "            OUT, MAP, TABLE, \n",
    "            MIN_COV, MIN_FRAC, LABEL]\n",
    "\n",
    "print(\" \".join(cmd))"
   ]
  },
  {
   "cell_type": "markdown",
   "id": "9dc6e8e5",
   "metadata": {},
   "source": [
    "    # example from gordon 2020\n",
    "    \n",
    "    nextflow run --w <path/to/Basic>/Assoc_Basic/work association.nf \n",
    "             --name SRR10800986 \n",
    "        --fastq-insert \"<path/to/Basic>/Assoc_Basic/data/ SRR10800986_1.fastq.gz\" \n",
    "        --fastq-insertPE \"<path/to/Basic>/Assoc_Basic/ data/SRR10800986_3.fastq.gz\" \n",
    "        --fastq-bc \"<path/to/Basic>/Assoc_ Basic/data/SRR10800986_2.fastq.gz\" \n",
    "        --design \"<path/to/Basic>/Assoc_ Basic/data/design.fa\""
   ]
  }
 ],
 "metadata": {
  "kernelspec": {
   "display_name": "Python (mamba)",
   "language": "python",
   "name": "mamba"
  },
  "language_info": {
   "codemirror_mode": {
    "name": "ipython",
    "version": 3
   },
   "file_extension": ".py",
   "mimetype": "text/x-python",
   "name": "python",
   "nbconvert_exporter": "python",
   "pygments_lexer": "ipython3",
   "version": "3.9.16"
  },
  "toc": {
   "base_numbering": 1,
   "nav_menu": {},
   "number_sections": true,
   "sideBar": true,
   "skip_h1_title": false,
   "title_cell": "Table of Contents",
   "title_sidebar": "Contents",
   "toc_cell": false,
   "toc_position": {},
   "toc_section_display": true,
   "toc_window_display": false
  },
  "varInspector": {
   "cols": {
    "lenName": 16,
    "lenType": 16,
    "lenVar": 40
   },
   "kernels_config": {
    "python": {
     "delete_cmd_postfix": "",
     "delete_cmd_prefix": "del ",
     "library": "var_list.py",
     "varRefreshCmd": "print(var_dic_list())"
    },
    "r": {
     "delete_cmd_postfix": ") ",
     "delete_cmd_prefix": "rm(",
     "library": "var_list.r",
     "varRefreshCmd": "cat(var_dic_list()) "
    }
   },
   "types_to_exclude": [
    "module",
    "function",
    "builtin_function_or_method",
    "instance",
    "_Feature"
   ],
   "window_display": false
  }
 },
 "nbformat": 4,
 "nbformat_minor": 5
}
