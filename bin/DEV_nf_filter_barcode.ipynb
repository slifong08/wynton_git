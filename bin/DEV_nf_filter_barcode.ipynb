{
 "cells": [
  {
   "cell_type": "code",
   "execution_count": 1,
   "id": "1e9761e4",
   "metadata": {
    "ExecuteTime": {
     "end_time": "2023-09-02T20:16:49.703256Z",
     "start_time": "2023-09-02T20:16:46.236678Z"
    }
   },
   "outputs": [],
   "source": [
    "import sys\n",
    "import pickle\n",
    "import pandas as pd\n",
    "from collections import Counter\n",
    "from collections import defaultdict\n",
    "import pyarrow\n",
    "from matplotlib import pyplot as plt\n",
    "import seaborn\n",
    "import re"
   ]
  },
  {
   "cell_type": "code",
   "execution_count": null,
   "id": "e57dbc1a",
   "metadata": {},
   "outputs": [],
   "source": [
    "#/wynton/group/ahituv/MPRAflow/src/nf_filter_barcodes.py"
   ]
  },
  {
   "cell_type": "code",
   "execution_count": 25,
   "id": "fbce9b04",
   "metadata": {
    "ExecuteTime": {
     "end_time": "2023-09-02T20:30:20.535001Z",
     "start_time": "2023-09-02T20:30:20.396123Z"
    }
   },
   "outputs": [
    {
     "data": {
      "text/html": [
       "<div>\n",
       "<style scoped>\n",
       "    .dataframe tbody tr th:only-of-type {\n",
       "        vertical-align: middle;\n",
       "    }\n",
       "\n",
       "    .dataframe tbody tr th {\n",
       "        vertical-align: top;\n",
       "    }\n",
       "\n",
       "    .dataframe thead th {\n",
       "        text-align: right;\n",
       "    }\n",
       "</style>\n",
       "<table border=\"1\" class=\"dataframe\">\n",
       "  <thead>\n",
       "    <tr style=\"text-align: right;\">\n",
       "      <th></th>\n",
       "      <th>endog|HepG2_DNasePeakNoPromoter10535|active</th>\n",
       "      <th>na</th>\n",
       "    </tr>\n",
       "  </thead>\n",
       "  <tbody>\n",
       "    <tr>\n",
       "      <th>0</th>\n",
       "      <td>endog|HepG2_DNasePeakNoPromoter10586|active</td>\n",
       "      <td>na</td>\n",
       "    </tr>\n",
       "    <tr>\n",
       "      <th>1</th>\n",
       "      <td>endog|HepG2_DNasePeakNoPromoter10714|inactive</td>\n",
       "      <td>na</td>\n",
       "    </tr>\n",
       "    <tr>\n",
       "      <th>2</th>\n",
       "      <td>endog|HepG2_DNasePeakNoPromoter10849|inactive</td>\n",
       "      <td>na</td>\n",
       "    </tr>\n",
       "    <tr>\n",
       "      <th>3</th>\n",
       "      <td>endog|HepG2_DNasePeakNoPromoter11263|active</td>\n",
       "      <td>na</td>\n",
       "    </tr>\n",
       "    <tr>\n",
       "      <th>4</th>\n",
       "      <td>endog|HepG2_DNasePeakNoPromoter11270|active</td>\n",
       "      <td>na</td>\n",
       "    </tr>\n",
       "  </tbody>\n",
       "</table>\n",
       "</div>"
      ],
      "text/plain": [
       "     endog|HepG2_DNasePeakNoPromoter10535|active  na\n",
       "0    endog|HepG2_DNasePeakNoPromoter10586|active  na\n",
       "1  endog|HepG2_DNasePeakNoPromoter10714|inactive  na\n",
       "2  endog|HepG2_DNasePeakNoPromoter10849|inactive  na\n",
       "3    endog|HepG2_DNasePeakNoPromoter11263|active  na\n",
       "4    endog|HepG2_DNasePeakNoPromoter11270|active  na"
      ]
     },
     "execution_count": 25,
     "metadata": {},
     "output_type": "execute_result"
    }
   ],
   "source": [
    "PREF = \"null_mpra\" \n",
    "ENH_BC = \"/wynton/group/ahituv/fongsl/projects/nullomers/data/20230815_nullomer_MPRA/assoc/null_mpra_coords_to_barcodes.pickle\"\n",
    "COUNT_TABLE = \"/wynton/group/ahituv/fongsl/projects/nullomers/data/20230815_nullomer_MPRA/assoc/null_mpra_barcodes_per_candidate-no_repeats-no_jackpots.feather\" \n",
    "COV_THRESH = 3 \n",
    "COV_FRAC= 0.5 \n",
    "LABEL_FILE = \"/wynton/group/ahituv/fongsl/projects/nullomers/data/20230815_nullomer_MPRA/assoc/label_rmIllegalChars.txt\"\n",
    "label=pd.read_csv(LABEL_FILE,header='infer',sep='\\t')\n",
    "label.head()"
   ]
  },
  {
   "cell_type": "code",
   "execution_count": null,
   "id": "4fe88279",
   "metadata": {},
   "outputs": [],
   "source": [
    "PREF=sys.argv[1]\n",
    "ENH_BC=sys.argv[2]\n",
    "COUNT_TABLE=sys.argv[3]"
   ]
  },
  {
   "cell_type": "code",
   "execution_count": null,
   "id": "184dd4be",
   "metadata": {},
   "outputs": [],
   "source": [
    "PREF=sys.argv[1]\n",
    "ENH_BC=sys.argv[2]\n",
    "COUNT_TABLE=sys.argv[3]\n",
    "\n",
    "\n",
    "lab_opt=\"TRUE\"\n",
    "\n",
    "#ENH_BC=PREF+'_coords_to_barcodes.pickle'\n",
    "#COUNT_TABLE=PREF+'_barcodes_per_candidate-no_repeats-no_jackpots.feather'\n",
    "\n",
    "COV_THRESH=sys.argv[4]\n",
    "COV_FRAC=sys.argv[5]\n",
    "LABEL_FILE=pd.read_csv(sys.argv[6],header='infer',sep='\\t')"
   ]
  },
  {
   "cell_type": "code",
   "execution_count": 5,
   "id": "0ddaffc9",
   "metadata": {
    "ExecuteTime": {
     "end_time": "2023-09-02T20:21:47.863999Z",
     "start_time": "2023-09-02T20:21:47.852180Z"
    }
   },
   "outputs": [],
   "source": [
    "label.columns=['coord','label']\n",
    "#print(LABEL_FILE.head())\n",
    "#print(ENH_BC)\n",
    "#print(COUNT_TABLE)\n",
    "\n",
    "#function to get rid of lowly covered BCs and get rid of BCs that map to multiple other enhancers\n",
    "def covered_no_perm(min_threshold,min_frac, mydict):\n",
    "    out_dict={}\n",
    "    #count coverage of all bcs\n",
    "    all_bcs=(mydict.values())\n",
    "    flat_BC = [item for sublist in all_bcs for item in sublist]\n",
    "    counts=Counter(flat_BC)\n",
    "    \n",
    "    #filter bcs that are not mapping in the majority to the insert and do not meet the minimum coverage in that insert\n",
    "    for k,v in mydict.items():\n",
    "        bc_counts=(Counter((v)))\n",
    "        new_v=[]\n",
    "        for i in v:\n",
    "            #print(i)\n",
    "            if(bc_counts[i]>=int(min_threshold)):\n",
    "                #print(bc_counts[i])\n",
    "                per=float((bc_counts[i]/counts[i]))\n",
    "                if(per>=float(min_frac)):\n",
    "                    #print(per)\n",
    "                    new_v.append(i)\n",
    "        out_dict[k]=set(new_v) \n",
    "\n",
    "    return(out_dict)\n",
    "\n",
    "\n",
    "    # for k,v in mydict.items():\n",
    "    #     bc_counts=(Counter(v))\n",
    "    #     filtered=({x : bc_counts[x] for x in bc_counts if bc_counts[x] >= int(min_threshold) and bc_counts[x]<= int(50)})\n",
    "    #     new_BCs=(list(filtered.keys()))\n",
    "    #     mydict[k]=new_BCs\n",
    "\n",
    "    ##get rid of BCs that are premiscuous \n",
    "    #all_bcs=(mydict.values())\n",
    "    #flat_BC = [item for sublist in all_bcs for item in sublist]\n",
    "    #counts=Counter(flat_BC)\n",
    "    #permis=({x : counts[x] for x in counts if counts[x] > 1})\n",
    "    #dups=(list(permis.keys()))\n",
    "    #print(dups)\n",
    "\n",
    "    ##remove duplicates and get rid of poly A/G/T/C (7 in a row maybe change to more)\n",
    "    #for k,v in mydict.items():\n",
    "    #    new_v=[]\n",
    "    #    #print(k,v)\n",
    "    #    for i in v:\n",
    "    #        #print(i)\n",
    "    #        if i not in dups:\n",
    "    #            m=0\n",
    "    #            for match in re.finditer(r\"(\\w)\\1\\1\\1\\1\\1\\1\", i):   \n",
    "    #                #print('loop')\n",
    "    #                m=i[match.start():match.end()]\n",
    "    #                #print(m)\n",
    "    #            if(m==0):\n",
    "    #                new_v.append(i)\n",
    "    #    out_dict[k]=new_v\n",
    "    #return(out_dict)\n",
    "\n",
    "\n",
    "\n",
    "#takes in a pandas series count dataframe and plots the coverage coloring by type of control sequence\n",
    "def create_lib_plots(c_obj, plot_name, sum_name,lab_opt=\"FALSE\", label_frame):\n",
    "    #change counter to dataframe\n",
    "    df=c_obj\n",
    "    #df = pd.DataFrame.from_dict(c_obj,orient='index').reset_index()\n",
    "    #print(df)\n",
    "    lab_opt=\"TRUE\"\n",
    "    #add label column for 'class'\n",
    "    if lab_opt ==\"TRUE\":\n",
    "        \n",
    "        #label=[]\n",
    "        #for i in df.coord:\n",
    "        #    tmp=(str.split(str(i),'_C:')[0])\n",
    "        #    label.append(str(str.split(str(tmp),'_r')[0]))\n",
    "        labels=label_frame\n",
    "        df=pd.merge(df,labels,on='coord')\n",
    "        #df['label']=label\n",
    "        df=df.sort_values(['label','n_barcodes'])\n",
    "        print('sorted df')\n",
    "        print(df.head())\n",
    "        #plot\n",
    "        #a4_dims = (11.7, 8.27)\n",
    "        plt.figure(figsize=(16, 6))\n",
    "        p=seaborn.violinplot(data=df,x=\"label\", y=\"n_barcodes\",dodge=False)\n",
    "        #p=seaborn.barplot(data=df,x=\"coord\", y=\"n_barcodes\",hue=\"label\",dodge=False)\n",
    "        print('name')\n",
    "        print(plot_name)\n",
    "        #p.set(xticklabels=[])\n",
    "        fig=p.get_figure()\n",
    "        fig.savefig(plot_name)\n",
    "    else:\n",
    "        plt.figure(figsize=(16, 6))\n",
    "        violinplot\n",
    "        p=seaborn.violinplot(data=df,x=\"label\", y=\"n_barcodes\",dodge=False)\n",
    "        #p=seaborn.barplot(data=df,x=\"coord\", y=\"n_barcodes\",dodge=False)\n",
    "        #p.set(xticklabels=[])\n",
    "        fig=p.get_figure()\n",
    "        fig.savefig(plot_name)\n",
    "\n",
    "    print('desc')\n",
    "    print(df.describe)\n",
    "    #summary=pd.DataFrame(df.describe)\n",
    "    #summary.to_csv(sum_name, index=False,)\n",
    "    df.describe().to_csv(sum_name)"
   ]
  },
  {
   "cell_type": "code",
   "execution_count": 7,
   "id": "e1c87644",
   "metadata": {
    "ExecuteTime": {
     "end_time": "2023-09-02T20:22:10.239987Z",
     "start_time": "2023-09-02T20:22:10.150198Z"
    },
    "collapsed": true
   },
   "outputs": [
    {
     "ename": "TypeError",
     "evalue": "Can only merge Series or DataFrame objects, a <class 'str'> was passed",
     "output_type": "error",
     "traceback": [
      "\u001b[0;31m---------------------------------------------------------------------------\u001b[0m",
      "\u001b[0;31mTypeError\u001b[0m                                 Traceback (most recent call last)",
      "Cell \u001b[0;32mIn[7], line 2\u001b[0m\n\u001b[1;32m      1\u001b[0m \u001b[38;5;66;03m#plot original data\u001b[39;00m\n\u001b[0;32m----> 2\u001b[0m \u001b[43mcreate_lib_plots\u001b[49m\u001b[43m(\u001b[49m\u001b[43mpd\u001b[49m\u001b[38;5;241;43m.\u001b[39;49m\u001b[43mread_feather\u001b[49m\u001b[43m(\u001b[49m\u001b[43mCOUNT_TABLE\u001b[49m\u001b[43m)\u001b[49m\u001b[43m,\u001b[49m\u001b[43mPREF\u001b[49m\u001b[38;5;241;43m+\u001b[39;49m\u001b[38;5;124;43m\"\u001b[39;49m\u001b[38;5;124;43m_original_counts.png\u001b[39;49m\u001b[38;5;124;43m\"\u001b[39;49m\u001b[43m,\u001b[49m\u001b[38;5;124;43m\"\u001b[39;49m\u001b[38;5;124;43moriginal_count_summary.txt\u001b[39;49m\u001b[38;5;124;43m\"\u001b[39;49m\u001b[43m,\u001b[49m\u001b[38;5;124;43m\"\u001b[39;49m\u001b[38;5;124;43mTRUE\u001b[39;49m\u001b[38;5;124;43m\"\u001b[39;49m\u001b[43m)\u001b[49m\n",
      "Cell \u001b[0;32mIn[5], line 79\u001b[0m, in \u001b[0;36mcreate_lib_plots\u001b[0;34m(c_obj, plot_name, sum_name, lab_opt)\u001b[0m\n\u001b[1;32m     72\u001b[0m \u001b[38;5;28;01mif\u001b[39;00m lab_opt \u001b[38;5;241m==\u001b[39m\u001b[38;5;124m\"\u001b[39m\u001b[38;5;124mTRUE\u001b[39m\u001b[38;5;124m\"\u001b[39m:\n\u001b[1;32m     73\u001b[0m     \n\u001b[1;32m     74\u001b[0m     \u001b[38;5;66;03m#label=[]\u001b[39;00m\n\u001b[1;32m     75\u001b[0m     \u001b[38;5;66;03m#for i in df.coord:\u001b[39;00m\n\u001b[1;32m     76\u001b[0m     \u001b[38;5;66;03m#    tmp=(str.split(str(i),'_C:')[0])\u001b[39;00m\n\u001b[1;32m     77\u001b[0m     \u001b[38;5;66;03m#    label.append(str(str.split(str(tmp),'_r')[0]))\u001b[39;00m\n\u001b[1;32m     78\u001b[0m     labels\u001b[38;5;241m=\u001b[39mLABEL_FILE\n\u001b[0;32m---> 79\u001b[0m     df\u001b[38;5;241m=\u001b[39m\u001b[43mpd\u001b[49m\u001b[38;5;241;43m.\u001b[39;49m\u001b[43mmerge\u001b[49m\u001b[43m(\u001b[49m\u001b[43mdf\u001b[49m\u001b[43m,\u001b[49m\u001b[43mlabels\u001b[49m\u001b[43m,\u001b[49m\u001b[43mon\u001b[49m\u001b[38;5;241;43m=\u001b[39;49m\u001b[38;5;124;43m'\u001b[39;49m\u001b[38;5;124;43mcoord\u001b[39;49m\u001b[38;5;124;43m'\u001b[39;49m\u001b[43m)\u001b[49m\n\u001b[1;32m     80\u001b[0m     \u001b[38;5;66;03m#df['label']=label\u001b[39;00m\n\u001b[1;32m     81\u001b[0m     df\u001b[38;5;241m=\u001b[39mdf\u001b[38;5;241m.\u001b[39msort_values([\u001b[38;5;124m'\u001b[39m\u001b[38;5;124mlabel\u001b[39m\u001b[38;5;124m'\u001b[39m,\u001b[38;5;124m'\u001b[39m\u001b[38;5;124mn_barcodes\u001b[39m\u001b[38;5;124m'\u001b[39m])\n",
      "File \u001b[0;32m~/.conda/envs/mamba/lib/python3.9/site-packages/pandas/core/reshape/merge.py:148\u001b[0m, in \u001b[0;36mmerge\u001b[0;34m(left, right, how, on, left_on, right_on, left_index, right_index, sort, suffixes, copy, indicator, validate)\u001b[0m\n\u001b[1;32m    131\u001b[0m \u001b[38;5;129m@Substitution\u001b[39m(\u001b[38;5;124m\"\u001b[39m\u001b[38;5;130;01m\\n\u001b[39;00m\u001b[38;5;124mleft : DataFrame or named Series\u001b[39m\u001b[38;5;124m\"\u001b[39m)\n\u001b[1;32m    132\u001b[0m \u001b[38;5;129m@Appender\u001b[39m(_merge_doc, indents\u001b[38;5;241m=\u001b[39m\u001b[38;5;241m0\u001b[39m)\n\u001b[1;32m    133\u001b[0m \u001b[38;5;28;01mdef\u001b[39;00m \u001b[38;5;21mmerge\u001b[39m(\n\u001b[0;32m   (...)\u001b[0m\n\u001b[1;32m    146\u001b[0m     validate: \u001b[38;5;28mstr\u001b[39m \u001b[38;5;241m|\u001b[39m \u001b[38;5;28;01mNone\u001b[39;00m \u001b[38;5;241m=\u001b[39m \u001b[38;5;28;01mNone\u001b[39;00m,\n\u001b[1;32m    147\u001b[0m ) \u001b[38;5;241m-\u001b[39m\u001b[38;5;241m>\u001b[39m DataFrame:\n\u001b[0;32m--> 148\u001b[0m     op \u001b[38;5;241m=\u001b[39m \u001b[43m_MergeOperation\u001b[49m\u001b[43m(\u001b[49m\n\u001b[1;32m    149\u001b[0m \u001b[43m        \u001b[49m\u001b[43mleft\u001b[49m\u001b[43m,\u001b[49m\n\u001b[1;32m    150\u001b[0m \u001b[43m        \u001b[49m\u001b[43mright\u001b[49m\u001b[43m,\u001b[49m\n\u001b[1;32m    151\u001b[0m \u001b[43m        \u001b[49m\u001b[43mhow\u001b[49m\u001b[38;5;241;43m=\u001b[39;49m\u001b[43mhow\u001b[49m\u001b[43m,\u001b[49m\n\u001b[1;32m    152\u001b[0m \u001b[43m        \u001b[49m\u001b[43mon\u001b[49m\u001b[38;5;241;43m=\u001b[39;49m\u001b[43mon\u001b[49m\u001b[43m,\u001b[49m\n\u001b[1;32m    153\u001b[0m \u001b[43m        \u001b[49m\u001b[43mleft_on\u001b[49m\u001b[38;5;241;43m=\u001b[39;49m\u001b[43mleft_on\u001b[49m\u001b[43m,\u001b[49m\n\u001b[1;32m    154\u001b[0m \u001b[43m        \u001b[49m\u001b[43mright_on\u001b[49m\u001b[38;5;241;43m=\u001b[39;49m\u001b[43mright_on\u001b[49m\u001b[43m,\u001b[49m\n\u001b[1;32m    155\u001b[0m \u001b[43m        \u001b[49m\u001b[43mleft_index\u001b[49m\u001b[38;5;241;43m=\u001b[39;49m\u001b[43mleft_index\u001b[49m\u001b[43m,\u001b[49m\n\u001b[1;32m    156\u001b[0m \u001b[43m        \u001b[49m\u001b[43mright_index\u001b[49m\u001b[38;5;241;43m=\u001b[39;49m\u001b[43mright_index\u001b[49m\u001b[43m,\u001b[49m\n\u001b[1;32m    157\u001b[0m \u001b[43m        \u001b[49m\u001b[43msort\u001b[49m\u001b[38;5;241;43m=\u001b[39;49m\u001b[43msort\u001b[49m\u001b[43m,\u001b[49m\n\u001b[1;32m    158\u001b[0m \u001b[43m        \u001b[49m\u001b[43msuffixes\u001b[49m\u001b[38;5;241;43m=\u001b[39;49m\u001b[43msuffixes\u001b[49m\u001b[43m,\u001b[49m\n\u001b[1;32m    159\u001b[0m \u001b[43m        \u001b[49m\u001b[43mindicator\u001b[49m\u001b[38;5;241;43m=\u001b[39;49m\u001b[43mindicator\u001b[49m\u001b[43m,\u001b[49m\n\u001b[1;32m    160\u001b[0m \u001b[43m        \u001b[49m\u001b[43mvalidate\u001b[49m\u001b[38;5;241;43m=\u001b[39;49m\u001b[43mvalidate\u001b[49m\u001b[43m,\u001b[49m\n\u001b[1;32m    161\u001b[0m \u001b[43m    \u001b[49m\u001b[43m)\u001b[49m\n\u001b[1;32m    162\u001b[0m     \u001b[38;5;28;01mreturn\u001b[39;00m op\u001b[38;5;241m.\u001b[39mget_result(copy\u001b[38;5;241m=\u001b[39mcopy)\n",
      "File \u001b[0;32m~/.conda/envs/mamba/lib/python3.9/site-packages/pandas/core/reshape/merge.py:681\u001b[0m, in \u001b[0;36m_MergeOperation.__init__\u001b[0;34m(self, left, right, how, on, left_on, right_on, axis, left_index, right_index, sort, suffixes, indicator, validate)\u001b[0m\n\u001b[1;32m    664\u001b[0m \u001b[38;5;28;01mdef\u001b[39;00m \u001b[38;5;21m__init__\u001b[39m(\n\u001b[1;32m    665\u001b[0m     \u001b[38;5;28mself\u001b[39m,\n\u001b[1;32m    666\u001b[0m     left: DataFrame \u001b[38;5;241m|\u001b[39m Series,\n\u001b[0;32m   (...)\u001b[0m\n\u001b[1;32m    678\u001b[0m     validate: \u001b[38;5;28mstr\u001b[39m \u001b[38;5;241m|\u001b[39m \u001b[38;5;28;01mNone\u001b[39;00m \u001b[38;5;241m=\u001b[39m \u001b[38;5;28;01mNone\u001b[39;00m,\n\u001b[1;32m    679\u001b[0m ) \u001b[38;5;241m-\u001b[39m\u001b[38;5;241m>\u001b[39m \u001b[38;5;28;01mNone\u001b[39;00m:\n\u001b[1;32m    680\u001b[0m     _left \u001b[38;5;241m=\u001b[39m _validate_operand(left)\n\u001b[0;32m--> 681\u001b[0m     _right \u001b[38;5;241m=\u001b[39m \u001b[43m_validate_operand\u001b[49m\u001b[43m(\u001b[49m\u001b[43mright\u001b[49m\u001b[43m)\u001b[49m\n\u001b[1;32m    682\u001b[0m     \u001b[38;5;28mself\u001b[39m\u001b[38;5;241m.\u001b[39mleft \u001b[38;5;241m=\u001b[39m \u001b[38;5;28mself\u001b[39m\u001b[38;5;241m.\u001b[39morig_left \u001b[38;5;241m=\u001b[39m _left\n\u001b[1;32m    683\u001b[0m     \u001b[38;5;28mself\u001b[39m\u001b[38;5;241m.\u001b[39mright \u001b[38;5;241m=\u001b[39m \u001b[38;5;28mself\u001b[39m\u001b[38;5;241m.\u001b[39morig_right \u001b[38;5;241m=\u001b[39m _right\n",
      "File \u001b[0;32m~/.conda/envs/mamba/lib/python3.9/site-packages/pandas/core/reshape/merge.py:2561\u001b[0m, in \u001b[0;36m_validate_operand\u001b[0;34m(obj)\u001b[0m\n\u001b[1;32m   2559\u001b[0m     \u001b[38;5;28;01mreturn\u001b[39;00m obj\u001b[38;5;241m.\u001b[39mto_frame()\n\u001b[1;32m   2560\u001b[0m \u001b[38;5;28;01melse\u001b[39;00m:\n\u001b[0;32m-> 2561\u001b[0m     \u001b[38;5;28;01mraise\u001b[39;00m \u001b[38;5;167;01mTypeError\u001b[39;00m(\n\u001b[1;32m   2562\u001b[0m         \u001b[38;5;124mf\u001b[39m\u001b[38;5;124m\"\u001b[39m\u001b[38;5;124mCan only merge Series or DataFrame objects, a \u001b[39m\u001b[38;5;132;01m{\u001b[39;00m\u001b[38;5;28mtype\u001b[39m(obj)\u001b[38;5;132;01m}\u001b[39;00m\u001b[38;5;124m was passed\u001b[39m\u001b[38;5;124m\"\u001b[39m\n\u001b[1;32m   2563\u001b[0m     )\n",
      "\u001b[0;31mTypeError\u001b[0m: Can only merge Series or DataFrame objects, a <class 'str'> was passed"
     ]
    }
   ],
   "source": [
    "#plot original data\n",
    "create_lib_plots(pd.read_feather(COUNT_TABLE),PREF+\"_original_counts.png\",\"original_count_summary.txt\",\"TRUE\")"
   ]
  },
  {
   "cell_type": "markdown",
   "id": "c9088028",
   "metadata": {},
   "source": [
    "# create label fram"
   ]
  },
  {
   "cell_type": "code",
   "execution_count": 14,
   "id": "b28a6bae",
   "metadata": {
    "ExecuteTime": {
     "end_time": "2023-09-02T20:24:42.519325Z",
     "start_time": "2023-09-02T20:24:42.509232Z"
    }
   },
   "outputs": [],
   "source": [
    "c_obj = pd.read_feather(COUNT_TABLE)\n",
    "plot_name= PREF+\"_original_counts.png\"\n",
    "sum_name=\"original_count_summary.txt\"\n",
    "lab_opt=\"FALSE\"\n",
    "#change counter to dataframe\n",
    "df=c_obj\n",
    "#df = pd.DataFrame.from_dict(c_obj,orient='index').reset_index()\n",
    "#print(df)\n",
    "lab_opt=\"TRUE\"\n",
    "#add label column for 'class'\n",
    "## #if lab_opt ==\"TRUE\":"
   ]
  },
  {
   "cell_type": "code",
   "execution_count": 15,
   "id": "cf4104a2",
   "metadata": {
    "ExecuteTime": {
     "end_time": "2023-09-02T20:24:45.747672Z",
     "start_time": "2023-09-02T20:24:45.727330Z"
    }
   },
   "outputs": [
    {
     "data": {
      "text/html": [
       "<div>\n",
       "<style scoped>\n",
       "    .dataframe tbody tr th:only-of-type {\n",
       "        vertical-align: middle;\n",
       "    }\n",
       "\n",
       "    .dataframe tbody tr th {\n",
       "        vertical-align: top;\n",
       "    }\n",
       "\n",
       "    .dataframe thead th {\n",
       "        text-align: right;\n",
       "    }\n",
       "</style>\n",
       "<table border=\"1\" class=\"dataframe\">\n",
       "  <thead>\n",
       "    <tr style=\"text-align: right;\">\n",
       "      <th></th>\n",
       "      <th>coord</th>\n",
       "      <th>n_barcodes</th>\n",
       "    </tr>\n",
       "  </thead>\n",
       "  <tbody>\n",
       "    <tr>\n",
       "      <th>0</th>\n",
       "      <td>endog|HepG2_DNasePeakNoPromoter10535|active</td>\n",
       "      <td>1977206</td>\n",
       "    </tr>\n",
       "  </tbody>\n",
       "</table>\n",
       "</div>"
      ],
      "text/plain": [
       "                                         coord  n_barcodes\n",
       "0  endog|HepG2_DNasePeakNoPromoter10535|active     1977206"
      ]
     },
     "execution_count": 15,
     "metadata": {},
     "output_type": "execute_result"
    }
   ],
   "source": [
    "df.head()"
   ]
  },
  {
   "cell_type": "code",
   "execution_count": 16,
   "id": "81f2be47",
   "metadata": {
    "ExecuteTime": {
     "end_time": "2023-09-02T20:25:00.814353Z",
     "start_time": "2023-09-02T20:25:00.811192Z"
    }
   },
   "outputs": [],
   "source": [
    "    #label=[]\n",
    "    #for i in df.coord:\n",
    "    #    tmp=(str.split(str(i),'_C:')[0])\n",
    "    #    label.append(str(str.split(str(tmp),'_r')[0]))\n",
    "    labels=label\n",
    "    "
   ]
  },
  {
   "cell_type": "code",
   "execution_count": 19,
   "id": "96e12209",
   "metadata": {
    "ExecuteTime": {
     "end_time": "2023-09-02T20:25:25.887137Z",
     "start_time": "2023-09-02T20:25:25.881878Z"
    }
   },
   "outputs": [
    {
     "name": "stdout",
     "output_type": "stream",
     "text": [
      "(109524, 2)\n"
     ]
    }
   ],
   "source": [
    "print(label.shape)"
   ]
  },
  {
   "cell_type": "code",
   "execution_count": 21,
   "id": "20ada66b",
   "metadata": {
    "ExecuteTime": {
     "end_time": "2023-09-02T20:25:31.837747Z",
     "start_time": "2023-09-02T20:25:31.827867Z"
    }
   },
   "outputs": [
    {
     "data": {
      "text/html": [
       "<div>\n",
       "<style scoped>\n",
       "    .dataframe tbody tr th:only-of-type {\n",
       "        vertical-align: middle;\n",
       "    }\n",
       "\n",
       "    .dataframe tbody tr th {\n",
       "        vertical-align: top;\n",
       "    }\n",
       "\n",
       "    .dataframe thead th {\n",
       "        text-align: right;\n",
       "    }\n",
       "</style>\n",
       "<table border=\"1\" class=\"dataframe\">\n",
       "  <thead>\n",
       "    <tr style=\"text-align: right;\">\n",
       "      <th></th>\n",
       "      <th>coord</th>\n",
       "      <th>label</th>\n",
       "    </tr>\n",
       "  </thead>\n",
       "  <tbody>\n",
       "    <tr>\n",
       "      <th>0</th>\n",
       "      <td>endog|HepG2_DNasePeakNoPromoter10586|active</td>\n",
       "      <td>na</td>\n",
       "    </tr>\n",
       "    <tr>\n",
       "      <th>1</th>\n",
       "      <td>endog|HepG2_DNasePeakNoPromoter10714|inactive</td>\n",
       "      <td>na</td>\n",
       "    </tr>\n",
       "    <tr>\n",
       "      <th>2</th>\n",
       "      <td>endog|HepG2_DNasePeakNoPromoter10849|inactive</td>\n",
       "      <td>na</td>\n",
       "    </tr>\n",
       "    <tr>\n",
       "      <th>3</th>\n",
       "      <td>endog|HepG2_DNasePeakNoPromoter11263|active</td>\n",
       "      <td>na</td>\n",
       "    </tr>\n",
       "    <tr>\n",
       "      <th>4</th>\n",
       "      <td>endog|HepG2_DNasePeakNoPromoter11270|active</td>\n",
       "      <td>na</td>\n",
       "    </tr>\n",
       "  </tbody>\n",
       "</table>\n",
       "</div>"
      ],
      "text/plain": [
       "                                           coord label\n",
       "0    endog|HepG2_DNasePeakNoPromoter10586|active    na\n",
       "1  endog|HepG2_DNasePeakNoPromoter10714|inactive    na\n",
       "2  endog|HepG2_DNasePeakNoPromoter10849|inactive    na\n",
       "3    endog|HepG2_DNasePeakNoPromoter11263|active    na\n",
       "4    endog|HepG2_DNasePeakNoPromoter11270|active    na"
      ]
     },
     "execution_count": 21,
     "metadata": {},
     "output_type": "execute_result"
    }
   ],
   "source": [
    "label.head()"
   ]
  },
  {
   "cell_type": "code",
   "execution_count": 22,
   "id": "e76763c9",
   "metadata": {
    "ExecuteTime": {
     "end_time": "2023-09-02T20:26:44.894135Z",
     "start_time": "2023-09-02T20:26:44.870148Z"
    }
   },
   "outputs": [
    {
     "data": {
      "text/html": [
       "<div>\n",
       "<style scoped>\n",
       "    .dataframe tbody tr th:only-of-type {\n",
       "        vertical-align: middle;\n",
       "    }\n",
       "\n",
       "    .dataframe tbody tr th {\n",
       "        vertical-align: top;\n",
       "    }\n",
       "\n",
       "    .dataframe thead th {\n",
       "        text-align: right;\n",
       "    }\n",
       "</style>\n",
       "<table border=\"1\" class=\"dataframe\">\n",
       "  <thead>\n",
       "    <tr style=\"text-align: right;\">\n",
       "      <th></th>\n",
       "      <th>coord</th>\n",
       "      <th>label</th>\n",
       "    </tr>\n",
       "  </thead>\n",
       "  <tbody>\n",
       "  </tbody>\n",
       "</table>\n",
       "</div>"
      ],
      "text/plain": [
       "Empty DataFrame\n",
       "Columns: [coord, label]\n",
       "Index: []"
      ]
     },
     "execution_count": 22,
     "metadata": {},
     "output_type": "execute_result"
    }
   ],
   "source": [
    "label.loc[label[\"label\"]!=\"na\"]"
   ]
  },
  {
   "cell_type": "code",
   "execution_count": 11,
   "id": "ee1f94ad",
   "metadata": {
    "ExecuteTime": {
     "end_time": "2023-09-02T20:24:30.866523Z",
     "start_time": "2023-09-02T20:24:30.786718Z"
    }
   },
   "outputs": [
    {
     "name": "stdout",
     "output_type": "stream",
     "text": [
      "sorted df\n",
      "Empty DataFrame\n",
      "Columns: [coord, n_barcodes, label]\n",
      "Index: []\n"
     ]
    }
   ],
   "source": [
    "    df=pd.merge(df,labels,on='coord')\n",
    "    #df['label']=label\n",
    "    df=df.sort_values(['label','n_barcodes'])\n",
    "    print('sorted df')\n",
    "    print(df.head())"
   ]
  },
  {
   "cell_type": "code",
   "execution_count": 9,
   "id": "d5fa25be",
   "metadata": {
    "ExecuteTime": {
     "end_time": "2023-09-02T20:23:33.884881Z",
     "start_time": "2023-09-02T20:23:33.773228Z"
    }
   },
   "outputs": [
    {
     "ename": "TypeError",
     "evalue": "Can only merge Series or DataFrame objects, a <class 'str'> was passed",
     "output_type": "error",
     "traceback": [
      "\u001b[0;31m---------------------------------------------------------------------------\u001b[0m",
      "\u001b[0;31mTypeError\u001b[0m                                 Traceback (most recent call last)",
      "Cell \u001b[0;32mIn[9], line 18\u001b[0m\n\u001b[1;32m     11\u001b[0m \u001b[38;5;28;01mif\u001b[39;00m lab_opt \u001b[38;5;241m==\u001b[39m\u001b[38;5;124m\"\u001b[39m\u001b[38;5;124mTRUE\u001b[39m\u001b[38;5;124m\"\u001b[39m:\n\u001b[1;32m     12\u001b[0m \n\u001b[1;32m     13\u001b[0m     \u001b[38;5;66;03m#label=[]\u001b[39;00m\n\u001b[1;32m     14\u001b[0m     \u001b[38;5;66;03m#for i in df.coord:\u001b[39;00m\n\u001b[1;32m     15\u001b[0m     \u001b[38;5;66;03m#    tmp=(str.split(str(i),'_C:')[0])\u001b[39;00m\n\u001b[1;32m     16\u001b[0m     \u001b[38;5;66;03m#    label.append(str(str.split(str(tmp),'_r')[0]))\u001b[39;00m\n\u001b[1;32m     17\u001b[0m     labels\u001b[38;5;241m=\u001b[39mLABEL_FILE\n\u001b[0;32m---> 18\u001b[0m     df\u001b[38;5;241m=\u001b[39m\u001b[43mpd\u001b[49m\u001b[38;5;241;43m.\u001b[39;49m\u001b[43mmerge\u001b[49m\u001b[43m(\u001b[49m\u001b[43mdf\u001b[49m\u001b[43m,\u001b[49m\u001b[43mlabels\u001b[49m\u001b[43m,\u001b[49m\u001b[43mon\u001b[49m\u001b[38;5;241;43m=\u001b[39;49m\u001b[38;5;124;43m'\u001b[39;49m\u001b[38;5;124;43mcoord\u001b[39;49m\u001b[38;5;124;43m'\u001b[39;49m\u001b[43m)\u001b[49m\n\u001b[1;32m     19\u001b[0m     \u001b[38;5;66;03m#df['label']=label\u001b[39;00m\n\u001b[1;32m     20\u001b[0m     df\u001b[38;5;241m=\u001b[39mdf\u001b[38;5;241m.\u001b[39msort_values([\u001b[38;5;124m'\u001b[39m\u001b[38;5;124mlabel\u001b[39m\u001b[38;5;124m'\u001b[39m,\u001b[38;5;124m'\u001b[39m\u001b[38;5;124mn_barcodes\u001b[39m\u001b[38;5;124m'\u001b[39m])\n",
      "File \u001b[0;32m~/.conda/envs/mamba/lib/python3.9/site-packages/pandas/core/reshape/merge.py:148\u001b[0m, in \u001b[0;36mmerge\u001b[0;34m(left, right, how, on, left_on, right_on, left_index, right_index, sort, suffixes, copy, indicator, validate)\u001b[0m\n\u001b[1;32m    131\u001b[0m \u001b[38;5;129m@Substitution\u001b[39m(\u001b[38;5;124m\"\u001b[39m\u001b[38;5;130;01m\\n\u001b[39;00m\u001b[38;5;124mleft : DataFrame or named Series\u001b[39m\u001b[38;5;124m\"\u001b[39m)\n\u001b[1;32m    132\u001b[0m \u001b[38;5;129m@Appender\u001b[39m(_merge_doc, indents\u001b[38;5;241m=\u001b[39m\u001b[38;5;241m0\u001b[39m)\n\u001b[1;32m    133\u001b[0m \u001b[38;5;28;01mdef\u001b[39;00m \u001b[38;5;21mmerge\u001b[39m(\n\u001b[0;32m   (...)\u001b[0m\n\u001b[1;32m    146\u001b[0m     validate: \u001b[38;5;28mstr\u001b[39m \u001b[38;5;241m|\u001b[39m \u001b[38;5;28;01mNone\u001b[39;00m \u001b[38;5;241m=\u001b[39m \u001b[38;5;28;01mNone\u001b[39;00m,\n\u001b[1;32m    147\u001b[0m ) \u001b[38;5;241m-\u001b[39m\u001b[38;5;241m>\u001b[39m DataFrame:\n\u001b[0;32m--> 148\u001b[0m     op \u001b[38;5;241m=\u001b[39m \u001b[43m_MergeOperation\u001b[49m\u001b[43m(\u001b[49m\n\u001b[1;32m    149\u001b[0m \u001b[43m        \u001b[49m\u001b[43mleft\u001b[49m\u001b[43m,\u001b[49m\n\u001b[1;32m    150\u001b[0m \u001b[43m        \u001b[49m\u001b[43mright\u001b[49m\u001b[43m,\u001b[49m\n\u001b[1;32m    151\u001b[0m \u001b[43m        \u001b[49m\u001b[43mhow\u001b[49m\u001b[38;5;241;43m=\u001b[39;49m\u001b[43mhow\u001b[49m\u001b[43m,\u001b[49m\n\u001b[1;32m    152\u001b[0m \u001b[43m        \u001b[49m\u001b[43mon\u001b[49m\u001b[38;5;241;43m=\u001b[39;49m\u001b[43mon\u001b[49m\u001b[43m,\u001b[49m\n\u001b[1;32m    153\u001b[0m \u001b[43m        \u001b[49m\u001b[43mleft_on\u001b[49m\u001b[38;5;241;43m=\u001b[39;49m\u001b[43mleft_on\u001b[49m\u001b[43m,\u001b[49m\n\u001b[1;32m    154\u001b[0m \u001b[43m        \u001b[49m\u001b[43mright_on\u001b[49m\u001b[38;5;241;43m=\u001b[39;49m\u001b[43mright_on\u001b[49m\u001b[43m,\u001b[49m\n\u001b[1;32m    155\u001b[0m \u001b[43m        \u001b[49m\u001b[43mleft_index\u001b[49m\u001b[38;5;241;43m=\u001b[39;49m\u001b[43mleft_index\u001b[49m\u001b[43m,\u001b[49m\n\u001b[1;32m    156\u001b[0m \u001b[43m        \u001b[49m\u001b[43mright_index\u001b[49m\u001b[38;5;241;43m=\u001b[39;49m\u001b[43mright_index\u001b[49m\u001b[43m,\u001b[49m\n\u001b[1;32m    157\u001b[0m \u001b[43m        \u001b[49m\u001b[43msort\u001b[49m\u001b[38;5;241;43m=\u001b[39;49m\u001b[43msort\u001b[49m\u001b[43m,\u001b[49m\n\u001b[1;32m    158\u001b[0m \u001b[43m        \u001b[49m\u001b[43msuffixes\u001b[49m\u001b[38;5;241;43m=\u001b[39;49m\u001b[43msuffixes\u001b[49m\u001b[43m,\u001b[49m\n\u001b[1;32m    159\u001b[0m \u001b[43m        \u001b[49m\u001b[43mindicator\u001b[49m\u001b[38;5;241;43m=\u001b[39;49m\u001b[43mindicator\u001b[49m\u001b[43m,\u001b[49m\n\u001b[1;32m    160\u001b[0m \u001b[43m        \u001b[49m\u001b[43mvalidate\u001b[49m\u001b[38;5;241;43m=\u001b[39;49m\u001b[43mvalidate\u001b[49m\u001b[43m,\u001b[49m\n\u001b[1;32m    161\u001b[0m \u001b[43m    \u001b[49m\u001b[43m)\u001b[49m\n\u001b[1;32m    162\u001b[0m     \u001b[38;5;28;01mreturn\u001b[39;00m op\u001b[38;5;241m.\u001b[39mget_result(copy\u001b[38;5;241m=\u001b[39mcopy)\n",
      "File \u001b[0;32m~/.conda/envs/mamba/lib/python3.9/site-packages/pandas/core/reshape/merge.py:681\u001b[0m, in \u001b[0;36m_MergeOperation.__init__\u001b[0;34m(self, left, right, how, on, left_on, right_on, axis, left_index, right_index, sort, suffixes, indicator, validate)\u001b[0m\n\u001b[1;32m    664\u001b[0m \u001b[38;5;28;01mdef\u001b[39;00m \u001b[38;5;21m__init__\u001b[39m(\n\u001b[1;32m    665\u001b[0m     \u001b[38;5;28mself\u001b[39m,\n\u001b[1;32m    666\u001b[0m     left: DataFrame \u001b[38;5;241m|\u001b[39m Series,\n\u001b[0;32m   (...)\u001b[0m\n\u001b[1;32m    678\u001b[0m     validate: \u001b[38;5;28mstr\u001b[39m \u001b[38;5;241m|\u001b[39m \u001b[38;5;28;01mNone\u001b[39;00m \u001b[38;5;241m=\u001b[39m \u001b[38;5;28;01mNone\u001b[39;00m,\n\u001b[1;32m    679\u001b[0m ) \u001b[38;5;241m-\u001b[39m\u001b[38;5;241m>\u001b[39m \u001b[38;5;28;01mNone\u001b[39;00m:\n\u001b[1;32m    680\u001b[0m     _left \u001b[38;5;241m=\u001b[39m _validate_operand(left)\n\u001b[0;32m--> 681\u001b[0m     _right \u001b[38;5;241m=\u001b[39m \u001b[43m_validate_operand\u001b[49m\u001b[43m(\u001b[49m\u001b[43mright\u001b[49m\u001b[43m)\u001b[49m\n\u001b[1;32m    682\u001b[0m     \u001b[38;5;28mself\u001b[39m\u001b[38;5;241m.\u001b[39mleft \u001b[38;5;241m=\u001b[39m \u001b[38;5;28mself\u001b[39m\u001b[38;5;241m.\u001b[39morig_left \u001b[38;5;241m=\u001b[39m _left\n\u001b[1;32m    683\u001b[0m     \u001b[38;5;28mself\u001b[39m\u001b[38;5;241m.\u001b[39mright \u001b[38;5;241m=\u001b[39m \u001b[38;5;28mself\u001b[39m\u001b[38;5;241m.\u001b[39morig_right \u001b[38;5;241m=\u001b[39m _right\n",
      "File \u001b[0;32m~/.conda/envs/mamba/lib/python3.9/site-packages/pandas/core/reshape/merge.py:2561\u001b[0m, in \u001b[0;36m_validate_operand\u001b[0;34m(obj)\u001b[0m\n\u001b[1;32m   2559\u001b[0m     \u001b[38;5;28;01mreturn\u001b[39;00m obj\u001b[38;5;241m.\u001b[39mto_frame()\n\u001b[1;32m   2560\u001b[0m \u001b[38;5;28;01melse\u001b[39;00m:\n\u001b[0;32m-> 2561\u001b[0m     \u001b[38;5;28;01mraise\u001b[39;00m \u001b[38;5;167;01mTypeError\u001b[39;00m(\n\u001b[1;32m   2562\u001b[0m         \u001b[38;5;124mf\u001b[39m\u001b[38;5;124m\"\u001b[39m\u001b[38;5;124mCan only merge Series or DataFrame objects, a \u001b[39m\u001b[38;5;132;01m{\u001b[39;00m\u001b[38;5;28mtype\u001b[39m(obj)\u001b[38;5;132;01m}\u001b[39;00m\u001b[38;5;124m was passed\u001b[39m\u001b[38;5;124m\"\u001b[39m\n\u001b[1;32m   2563\u001b[0m     )\n",
      "\u001b[0;31mTypeError\u001b[0m: Can only merge Series or DataFrame objects, a <class 'str'> was passed"
     ]
    }
   ],
   "source": [
    "    #plot\n",
    "    #a4_dims = (11.7, 8.27)\n",
    "    plt.figure(figsize=(16, 6))\n",
    "    p=seaborn.violinplot(data=df,x=\"label\", y=\"n_barcodes\",dodge=False)\n",
    "    #p=seaborn.barplot(data=df,x=\"coord\", y=\"n_barcodes\",hue=\"label\",dodge=False)\n",
    "    print('name')\n",
    "    print(plot_name)\n",
    "    #p.set(xticklabels=[])\n",
    "    fig=p.get_figure()\n",
    "    fig.savefig(plot_name)\n",
    "else:\n",
    "    plt.figure(figsize=(16, 6))\n",
    "    violinplot\n",
    "    p=seaborn.violinplot(data=df,x=\"label\", y=\"n_barcodes\",dodge=False)\n",
    "    #p=seaborn.barplot(data=df,x=\"coord\", y=\"n_barcodes\",dodge=False)\n",
    "    #p.set(xticklabels=[])\n",
    "    fig=p.get_figure()\n",
    "    fig.savefig(plot_name)\n",
    "\n",
    "print('desc')\n",
    "print(df.describe)\n",
    "#summary=pd.DataFrame(df.describe)\n",
    "#summary.to_csv(sum_name, index=False,)\n",
    "df.describe().to_csv(sum_name)"
   ]
  },
  {
   "cell_type": "code",
   "execution_count": 23,
   "id": "aaaccd4c",
   "metadata": {
    "ExecuteTime": {
     "end_time": "2023-09-02T20:29:12.733462Z",
     "start_time": "2023-09-02T20:29:12.725278Z"
    }
   },
   "outputs": [
    {
     "data": {
      "text/plain": [
       "'original_count_summary.txt'"
      ]
     },
     "execution_count": 23,
     "metadata": {},
     "output_type": "execute_result"
    }
   ],
   "source": [
    "sum_name"
   ]
  },
  {
   "cell_type": "code",
   "execution_count": 24,
   "id": "2a9753fb",
   "metadata": {
    "ExecuteTime": {
     "end_time": "2023-09-02T20:29:20.353973Z",
     "start_time": "2023-09-02T20:29:17.280981Z"
    }
   },
   "outputs": [
    {
     "name": "stdout",
     "output_type": "stream",
     "text": [
      "filter\n",
      "                                         coord  n_barcodes\n",
      "0  endog|HepG2_DNasePeakNoPromoter10535|active       70793\n"
     ]
    },
    {
     "ename": "TypeError",
     "evalue": "Can only merge Series or DataFrame objects, a <class 'str'> was passed",
     "output_type": "error",
     "traceback": [
      "\u001b[0;31m---------------------------------------------------------------------------\u001b[0m",
      "\u001b[0;31mTypeError\u001b[0m                                 Traceback (most recent call last)",
      "Cell \u001b[0;32mIn[24], line 9\u001b[0m\n\u001b[1;32m      7\u001b[0m \u001b[38;5;28mprint\u001b[39m(\u001b[38;5;124m'\u001b[39m\u001b[38;5;124mfilter\u001b[39m\u001b[38;5;124m'\u001b[39m)\n\u001b[1;32m      8\u001b[0m \u001b[38;5;28mprint\u001b[39m(filtered_counts)\n\u001b[0;32m----> 9\u001b[0m \u001b[43mcreate_lib_plots\u001b[49m\u001b[43m(\u001b[49m\u001b[43mfiltered_counts\u001b[49m\u001b[43m,\u001b[49m\u001b[43m \u001b[49m\u001b[43mPREF\u001b[49m\u001b[38;5;241;43m+\u001b[39;49m\u001b[38;5;124;43m\"\u001b[39;49m\u001b[38;5;124;43m_filtered_counts.png\u001b[39;49m\u001b[38;5;124;43m\"\u001b[39;49m\u001b[43m,\u001b[49m\u001b[38;5;124;43m\"\u001b[39;49m\u001b[38;5;124;43mfiltered_count_summary.txt\u001b[39;49m\u001b[38;5;124;43m\"\u001b[39;49m\u001b[43m,\u001b[49m\u001b[38;5;124;43m\"\u001b[39;49m\u001b[38;5;124;43mFALSE\u001b[39;49m\u001b[38;5;124;43m\"\u001b[39;49m\u001b[43m)\u001b[49m\n\u001b[1;32m     10\u001b[0m pickle\u001b[38;5;241m.\u001b[39mdump(filtered_dict,\u001b[38;5;28mopen\u001b[39m(PREF\u001b[38;5;241m+\u001b[39m\u001b[38;5;124m\"\u001b[39m\u001b[38;5;124m_filtered_coords_to_barcodes.pickle\u001b[39m\u001b[38;5;124m\"\u001b[39m,\u001b[38;5;124m\"\u001b[39m\u001b[38;5;124mwb\u001b[39m\u001b[38;5;124m\"\u001b[39m))\n",
      "Cell \u001b[0;32mIn[5], line 79\u001b[0m, in \u001b[0;36mcreate_lib_plots\u001b[0;34m(c_obj, plot_name, sum_name, lab_opt)\u001b[0m\n\u001b[1;32m     72\u001b[0m \u001b[38;5;28;01mif\u001b[39;00m lab_opt \u001b[38;5;241m==\u001b[39m\u001b[38;5;124m\"\u001b[39m\u001b[38;5;124mTRUE\u001b[39m\u001b[38;5;124m\"\u001b[39m:\n\u001b[1;32m     73\u001b[0m     \n\u001b[1;32m     74\u001b[0m     \u001b[38;5;66;03m#label=[]\u001b[39;00m\n\u001b[1;32m     75\u001b[0m     \u001b[38;5;66;03m#for i in df.coord:\u001b[39;00m\n\u001b[1;32m     76\u001b[0m     \u001b[38;5;66;03m#    tmp=(str.split(str(i),'_C:')[0])\u001b[39;00m\n\u001b[1;32m     77\u001b[0m     \u001b[38;5;66;03m#    label.append(str(str.split(str(tmp),'_r')[0]))\u001b[39;00m\n\u001b[1;32m     78\u001b[0m     labels\u001b[38;5;241m=\u001b[39mLABEL_FILE\n\u001b[0;32m---> 79\u001b[0m     df\u001b[38;5;241m=\u001b[39m\u001b[43mpd\u001b[49m\u001b[38;5;241;43m.\u001b[39;49m\u001b[43mmerge\u001b[49m\u001b[43m(\u001b[49m\u001b[43mdf\u001b[49m\u001b[43m,\u001b[49m\u001b[43mlabels\u001b[49m\u001b[43m,\u001b[49m\u001b[43mon\u001b[49m\u001b[38;5;241;43m=\u001b[39;49m\u001b[38;5;124;43m'\u001b[39;49m\u001b[38;5;124;43mcoord\u001b[39;49m\u001b[38;5;124;43m'\u001b[39;49m\u001b[43m)\u001b[49m\n\u001b[1;32m     80\u001b[0m     \u001b[38;5;66;03m#df['label']=label\u001b[39;00m\n\u001b[1;32m     81\u001b[0m     df\u001b[38;5;241m=\u001b[39mdf\u001b[38;5;241m.\u001b[39msort_values([\u001b[38;5;124m'\u001b[39m\u001b[38;5;124mlabel\u001b[39m\u001b[38;5;124m'\u001b[39m,\u001b[38;5;124m'\u001b[39m\u001b[38;5;124mn_barcodes\u001b[39m\u001b[38;5;124m'\u001b[39m])\n",
      "File \u001b[0;32m~/.conda/envs/mamba/lib/python3.9/site-packages/pandas/core/reshape/merge.py:148\u001b[0m, in \u001b[0;36mmerge\u001b[0;34m(left, right, how, on, left_on, right_on, left_index, right_index, sort, suffixes, copy, indicator, validate)\u001b[0m\n\u001b[1;32m    131\u001b[0m \u001b[38;5;129m@Substitution\u001b[39m(\u001b[38;5;124m\"\u001b[39m\u001b[38;5;130;01m\\n\u001b[39;00m\u001b[38;5;124mleft : DataFrame or named Series\u001b[39m\u001b[38;5;124m\"\u001b[39m)\n\u001b[1;32m    132\u001b[0m \u001b[38;5;129m@Appender\u001b[39m(_merge_doc, indents\u001b[38;5;241m=\u001b[39m\u001b[38;5;241m0\u001b[39m)\n\u001b[1;32m    133\u001b[0m \u001b[38;5;28;01mdef\u001b[39;00m \u001b[38;5;21mmerge\u001b[39m(\n\u001b[0;32m   (...)\u001b[0m\n\u001b[1;32m    146\u001b[0m     validate: \u001b[38;5;28mstr\u001b[39m \u001b[38;5;241m|\u001b[39m \u001b[38;5;28;01mNone\u001b[39;00m \u001b[38;5;241m=\u001b[39m \u001b[38;5;28;01mNone\u001b[39;00m,\n\u001b[1;32m    147\u001b[0m ) \u001b[38;5;241m-\u001b[39m\u001b[38;5;241m>\u001b[39m DataFrame:\n\u001b[0;32m--> 148\u001b[0m     op \u001b[38;5;241m=\u001b[39m \u001b[43m_MergeOperation\u001b[49m\u001b[43m(\u001b[49m\n\u001b[1;32m    149\u001b[0m \u001b[43m        \u001b[49m\u001b[43mleft\u001b[49m\u001b[43m,\u001b[49m\n\u001b[1;32m    150\u001b[0m \u001b[43m        \u001b[49m\u001b[43mright\u001b[49m\u001b[43m,\u001b[49m\n\u001b[1;32m    151\u001b[0m \u001b[43m        \u001b[49m\u001b[43mhow\u001b[49m\u001b[38;5;241;43m=\u001b[39;49m\u001b[43mhow\u001b[49m\u001b[43m,\u001b[49m\n\u001b[1;32m    152\u001b[0m \u001b[43m        \u001b[49m\u001b[43mon\u001b[49m\u001b[38;5;241;43m=\u001b[39;49m\u001b[43mon\u001b[49m\u001b[43m,\u001b[49m\n\u001b[1;32m    153\u001b[0m \u001b[43m        \u001b[49m\u001b[43mleft_on\u001b[49m\u001b[38;5;241;43m=\u001b[39;49m\u001b[43mleft_on\u001b[49m\u001b[43m,\u001b[49m\n\u001b[1;32m    154\u001b[0m \u001b[43m        \u001b[49m\u001b[43mright_on\u001b[49m\u001b[38;5;241;43m=\u001b[39;49m\u001b[43mright_on\u001b[49m\u001b[43m,\u001b[49m\n\u001b[1;32m    155\u001b[0m \u001b[43m        \u001b[49m\u001b[43mleft_index\u001b[49m\u001b[38;5;241;43m=\u001b[39;49m\u001b[43mleft_index\u001b[49m\u001b[43m,\u001b[49m\n\u001b[1;32m    156\u001b[0m \u001b[43m        \u001b[49m\u001b[43mright_index\u001b[49m\u001b[38;5;241;43m=\u001b[39;49m\u001b[43mright_index\u001b[49m\u001b[43m,\u001b[49m\n\u001b[1;32m    157\u001b[0m \u001b[43m        \u001b[49m\u001b[43msort\u001b[49m\u001b[38;5;241;43m=\u001b[39;49m\u001b[43msort\u001b[49m\u001b[43m,\u001b[49m\n\u001b[1;32m    158\u001b[0m \u001b[43m        \u001b[49m\u001b[43msuffixes\u001b[49m\u001b[38;5;241;43m=\u001b[39;49m\u001b[43msuffixes\u001b[49m\u001b[43m,\u001b[49m\n\u001b[1;32m    159\u001b[0m \u001b[43m        \u001b[49m\u001b[43mindicator\u001b[49m\u001b[38;5;241;43m=\u001b[39;49m\u001b[43mindicator\u001b[49m\u001b[43m,\u001b[49m\n\u001b[1;32m    160\u001b[0m \u001b[43m        \u001b[49m\u001b[43mvalidate\u001b[49m\u001b[38;5;241;43m=\u001b[39;49m\u001b[43mvalidate\u001b[49m\u001b[43m,\u001b[49m\n\u001b[1;32m    161\u001b[0m \u001b[43m    \u001b[49m\u001b[43m)\u001b[49m\n\u001b[1;32m    162\u001b[0m     \u001b[38;5;28;01mreturn\u001b[39;00m op\u001b[38;5;241m.\u001b[39mget_result(copy\u001b[38;5;241m=\u001b[39mcopy)\n",
      "File \u001b[0;32m~/.conda/envs/mamba/lib/python3.9/site-packages/pandas/core/reshape/merge.py:681\u001b[0m, in \u001b[0;36m_MergeOperation.__init__\u001b[0;34m(self, left, right, how, on, left_on, right_on, axis, left_index, right_index, sort, suffixes, indicator, validate)\u001b[0m\n\u001b[1;32m    664\u001b[0m \u001b[38;5;28;01mdef\u001b[39;00m \u001b[38;5;21m__init__\u001b[39m(\n\u001b[1;32m    665\u001b[0m     \u001b[38;5;28mself\u001b[39m,\n\u001b[1;32m    666\u001b[0m     left: DataFrame \u001b[38;5;241m|\u001b[39m Series,\n\u001b[0;32m   (...)\u001b[0m\n\u001b[1;32m    678\u001b[0m     validate: \u001b[38;5;28mstr\u001b[39m \u001b[38;5;241m|\u001b[39m \u001b[38;5;28;01mNone\u001b[39;00m \u001b[38;5;241m=\u001b[39m \u001b[38;5;28;01mNone\u001b[39;00m,\n\u001b[1;32m    679\u001b[0m ) \u001b[38;5;241m-\u001b[39m\u001b[38;5;241m>\u001b[39m \u001b[38;5;28;01mNone\u001b[39;00m:\n\u001b[1;32m    680\u001b[0m     _left \u001b[38;5;241m=\u001b[39m _validate_operand(left)\n\u001b[0;32m--> 681\u001b[0m     _right \u001b[38;5;241m=\u001b[39m \u001b[43m_validate_operand\u001b[49m\u001b[43m(\u001b[49m\u001b[43mright\u001b[49m\u001b[43m)\u001b[49m\n\u001b[1;32m    682\u001b[0m     \u001b[38;5;28mself\u001b[39m\u001b[38;5;241m.\u001b[39mleft \u001b[38;5;241m=\u001b[39m \u001b[38;5;28mself\u001b[39m\u001b[38;5;241m.\u001b[39morig_left \u001b[38;5;241m=\u001b[39m _left\n\u001b[1;32m    683\u001b[0m     \u001b[38;5;28mself\u001b[39m\u001b[38;5;241m.\u001b[39mright \u001b[38;5;241m=\u001b[39m \u001b[38;5;28mself\u001b[39m\u001b[38;5;241m.\u001b[39morig_right \u001b[38;5;241m=\u001b[39m _right\n",
      "File \u001b[0;32m~/.conda/envs/mamba/lib/python3.9/site-packages/pandas/core/reshape/merge.py:2561\u001b[0m, in \u001b[0;36m_validate_operand\u001b[0;34m(obj)\u001b[0m\n\u001b[1;32m   2559\u001b[0m     \u001b[38;5;28;01mreturn\u001b[39;00m obj\u001b[38;5;241m.\u001b[39mto_frame()\n\u001b[1;32m   2560\u001b[0m \u001b[38;5;28;01melse\u001b[39;00m:\n\u001b[0;32m-> 2561\u001b[0m     \u001b[38;5;28;01mraise\u001b[39;00m \u001b[38;5;167;01mTypeError\u001b[39;00m(\n\u001b[1;32m   2562\u001b[0m         \u001b[38;5;124mf\u001b[39m\u001b[38;5;124m\"\u001b[39m\u001b[38;5;124mCan only merge Series or DataFrame objects, a \u001b[39m\u001b[38;5;132;01m{\u001b[39;00m\u001b[38;5;28mtype\u001b[39m(obj)\u001b[38;5;132;01m}\u001b[39;00m\u001b[38;5;124m was passed\u001b[39m\u001b[38;5;124m\"\u001b[39m\n\u001b[1;32m   2563\u001b[0m     )\n",
      "\u001b[0;31mTypeError\u001b[0m: Can only merge Series or DataFrame objects, a <class 'str'> was passed"
     ]
    }
   ],
   "source": [
    "#filter and plot new data\n",
    "dic=pickle.load(open(ENH_BC,'rb'))\n",
    "filtered_dict=covered_no_perm(COV_THRESH,COV_FRAC, dic)\n",
    "\n",
    "#new counts\n",
    "filtered_counts=(pd.Series(filtered_dict, name = 'n_barcodes').str.len().rename_axis('coord').reset_index())\n",
    "print('filter')\n",
    "print(filtered_counts)\n",
    "create_lib_plots(filtered_counts, PREF+\"_filtered_counts.png\",\"filtered_count_summary.txt\",\"FALSE\")\n",
    "pickle.dump(filtered_dict,open(PREF+\"_filtered_coords_to_barcodes.pickle\",\"wb\"))"
   ]
  },
  {
   "cell_type": "code",
   "execution_count": null,
   "id": "f6d4d357",
   "metadata": {},
   "outputs": [],
   "source": []
  }
 ],
 "metadata": {
  "kernelspec": {
   "display_name": "Python (mamba)",
   "language": "python",
   "name": "mamba"
  },
  "language_info": {
   "codemirror_mode": {
    "name": "ipython",
    "version": 3
   },
   "file_extension": ".py",
   "mimetype": "text/x-python",
   "name": "python",
   "nbconvert_exporter": "python",
   "pygments_lexer": "ipython3",
   "version": "3.9.16"
  },
  "toc": {
   "base_numbering": 1,
   "nav_menu": {},
   "number_sections": true,
   "sideBar": true,
   "skip_h1_title": false,
   "title_cell": "Table of Contents",
   "title_sidebar": "Contents",
   "toc_cell": false,
   "toc_position": {},
   "toc_section_display": true,
   "toc_window_display": false
  },
  "varInspector": {
   "cols": {
    "lenName": 16,
    "lenType": 16,
    "lenVar": 40
   },
   "kernels_config": {
    "python": {
     "delete_cmd_postfix": "",
     "delete_cmd_prefix": "del ",
     "library": "var_list.py",
     "varRefreshCmd": "print(var_dic_list())"
    },
    "r": {
     "delete_cmd_postfix": ") ",
     "delete_cmd_prefix": "rm(",
     "library": "var_list.r",
     "varRefreshCmd": "cat(var_dic_list()) "
    }
   },
   "types_to_exclude": [
    "module",
    "function",
    "builtin_function_or_method",
    "instance",
    "_Feature"
   ],
   "window_display": false
  }
 },
 "nbformat": 4,
 "nbformat_minor": 5
}
