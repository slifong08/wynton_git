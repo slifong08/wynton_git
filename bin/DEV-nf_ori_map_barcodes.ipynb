{
 "cells": [
  {
   "cell_type": "code",
   "execution_count": 9,
   "id": "6c066e5a",
   "metadata": {
    "ExecuteTime": {
     "end_time": "2023-09-07T20:46:57.210197Z",
     "start_time": "2023-09-07T20:46:50.779148Z"
    }
   },
   "outputs": [],
   "source": [
    "\n",
    "import itertools\n",
    "import os\n",
    "import pandas as pd\n",
    "import pickle\n",
    "import pysam\n",
    "import sys\n",
    "\n",
    "from collections import Counter, defaultdict\n",
    "from tqdm import tqdm"
   ]
  },
  {
   "cell_type": "code",
   "execution_count": 1,
   "id": "03e86e68",
   "metadata": {
    "ExecuteTime": {
     "end_time": "2023-09-07T20:40:09.872028Z",
     "start_time": "2023-09-07T20:38:10.888723Z"
    }
   },
   "outputs": [
    {
     "name": "stdout",
     "output_type": "stream",
     "text": [
      "649968020\n"
     ]
    }
   ],
   "source": [
    "%%bash\n",
    "zcat /wynton/group/ahituv/fongsl/projects/nullomers/data/20230815_nullomer_MPRA/SF_asso_S1_R2_001.fastq.gz | wc -l "
   ]
  },
  {
   "cell_type": "code",
   "execution_count": 2,
   "id": "dfd8a2cf",
   "metadata": {
    "ExecuteTime": {
     "end_time": "2023-09-07T20:45:31.789087Z",
     "start_time": "2023-09-07T20:45:31.783849Z"
    }
   },
   "outputs": [],
   "source": [
    "PROJECT_DIR = \"/wynton/group/ahituv/MPRAflow\"\n",
    "FASTQ_IN = \"/wynton/group/ahituv/fongsl/projects/nullomers/data/20230815_nullomer_MPRA/SF_asso_S1_R2_001.fastq.gz\"\n",
    "N_FASTQ_F = \"/wynton/group/ahituv/fongsl/projects/nullomers/data/20230815_nullomer_MPRA/assoc/count_fastq.txt\"\n",
    "BAMFILE = \"/wynton/group/ahituv/fongsl/projects/nullomers/data/20230815_nullomer_MPRA/assoc/s_merged.bam\" \n",
    "N_BAMFILE = \"/wynton/group/ahituv/fongsl/projects/nullomers/data/20230815_nullomer_MPRA/assoc/count_merged.txt\"\n",
    "PREFIX = \"null_mpra\" \n",
    "MPAQ = 30 \n",
    "BASEQ = 30 \n",
    "cigar= \"n\" "
   ]
  },
  {
   "cell_type": "code",
   "execution_count": null,
   "id": "bcbfc679",
   "metadata": {
    "ExecuteTime": {
     "end_time": "2023-09-07T20:45:32.946270Z",
     "start_time": "2023-09-07T20:45:32.946253Z"
    }
   },
   "outputs": [],
   "source": [
    "# CMD python ori_map_barcodes.py data_assoc/\n",
    "\n",
    "# verify trailing arguments\n",
    "PROJECT_DIR = sys.argv[1]\n",
    "FASTQ_IN = sys.argv[2]\n",
    "N_FASTQ_F = sys.argv[3]\n",
    "BAMFILE = sys.argv[4]\n",
    "N_BAMFILE = sys.argv[5]\n",
    "prefix = sys.argv[6]\n",
    " = sys.argv[7]\n",
    "baseq = sys.argv[8]\n",
    "cigar = sys.argv[9]"
   ]
  },
  {
   "cell_type": "code",
   "execution_count": 3,
   "id": "d8bdacbd",
   "metadata": {
    "ExecuteTime": {
     "end_time": "2023-09-07T20:45:34.848987Z",
     "start_time": "2023-09-07T20:45:34.843594Z"
    }
   },
   "outputs": [
    {
     "name": "stdout",
     "output_type": "stream",
     "text": [
      "/wynton/group/ahituv/MPRAflow\n",
      "/wynton/group/ahituv/fongsl/projects/nullomers/data/20230815_nullomer_MPRA/SF_asso_S1_R2_001.fastq.gz\n",
      "/wynton/group/ahituv/fongsl/projects/nullomers/data/20230815_nullomer_MPRA/assoc/s_merged.bam\n",
      "/wynton/group/ahituv/fongsl/projects/nullomers/data/20230815_nullomer_MPRA/assoc/count_fastq.txt\n",
      "/wynton/group/ahituv/fongsl/projects/nullomers/data/20230815_nullomer_MPRA/assoc/count_merged.txt\n"
     ]
    }
   ],
   "source": [
    "print(PROJECT_DIR)\n",
    "print(FASTQ_IN)\n",
    "#print(n_fastq)\n",
    "print(BAMFILE)\n",
    "#print(n_bam)\n",
    "\n",
    "if cigar=='n':\n",
    "    cigar=''\n",
    "\n",
    "\n",
    "print(N_FASTQ_F)\n",
    "print(N_BAMFILE)\n"
   ]
  },
  {
   "cell_type": "code",
   "execution_count": 4,
   "id": "ecea3be3",
   "metadata": {
    "ExecuteTime": {
     "end_time": "2023-09-07T20:45:37.466085Z",
     "start_time": "2023-09-07T20:45:37.454321Z"
    }
   },
   "outputs": [],
   "source": [
    "\n",
    "def get_coords_to_barcodes(fastq_in, n_fastq,bamfile,n_bam,mapq=30,baseq=30,cigar=''):\n",
    "    \"\"\"#map coords to BCs \n",
    "        filter based on given read/map quality \n",
    "        and an exact cigar string if provided\n",
    "    \"\"\"\n",
    "    coords_to_barcodes_fn = f'{PREFIX}_coords_to_barcodes.pickle'\n",
    "\n",
    "    if not os.path.exists(coords_to_barcodes_fn):\n",
    "\n",
    "        # load fastq\n",
    "        fastq = pysam.FastxFile(fastq_in)\n",
    "        print(\"n fastq\", n_fastq)\n",
    "        n_fastq_records = float(n_fastq)/4 # (wc -l) / 4\n",
    "        \n",
    "        #bam = pysam.AlignmentFile(f'{PROJECT_DIR}/library.bam', 'rb')\n",
    "\n",
    "        # load bam\n",
    "        bam = pysam.AlignmentFile(bamfile, 'rb')\n",
    "        n_bam_records = float(n_bam)\n",
    "        #print((bam))   \n",
    " \n",
    "        query_to_coords = {}\n",
    "        bad_pairs, poor_quality = 0, 0\n",
    "        print('start')\n",
    "        \n",
    "        #get names of the aligned reads that havae a high enough quality and match sequence\n",
    "        for i, read in tqdm(enumerate(bam), 'paired-end reads', total = n_bam_records):\n",
    "            #print(read, read.cigarstring, read.reference_name, isinstance(read.reference_name, str))\n",
    "            \n",
    "            #if not read.is_read1:\n",
    "            #    continue\n",
    "            \n",
    "            #if not read.is_proper_pair:\n",
    "            #    bad_pairs += 1\n",
    "            #    continue\n",
    "            \n",
    "            if read.mapping_quality < int(MPAQ):\n",
    "                poor_quality += 1\n",
    "                continue\n",
    "            #only save exact matches and high read quality \t\t\n",
    "            #if read.cigarstring == '146M':\n",
    "            #if read.cigarstring == '179M' or read.cigarstring == '178M':\n",
    "            \n",
    "            ## filter reads with too low of map quality and exact cigar match if provided\n",
    "            if read.mapping_quality > int(MPAQ):\n",
    "                if cigar == \"\":\n",
    "                    if isinstance(read.reference_name, str):\n",
    "                        query_to_coords[read.query_name] = read.reference_name\n",
    "                else:\n",
    "                    if read.cigarstring==cigar:\n",
    "                        if isinstance(read.reference_name, str):\n",
    "                            query_to_coords[read.query_name] = read.reference_name           \n",
    "\n",
    "        print(f'bad pairs: {bad_pairs} poor quality: {poor_quality}')\n",
    "  \n",
    "        print(\"\\nstart\")\n",
    "        coords_to_barcodes = defaultdict(list)\n",
    "        ###get get barcodes for the aligned reads that passed QC\n",
    "        for i, barcode in tqdm(enumerate(fastq), 'barcodes', total = n_fastq_records):\n",
    "            #print(i)\n",
    "            #print(barcode.quality)\n",
    "            #print(barcode.name)\n",
    "            min_base_quality = min(map(ord, barcode.quality))\n",
    "            \n",
    "            #filter BCs with poor base quality\n",
    "            if barcode.name in query_to_coords and min_base_quality >= int(baseq):\n",
    "                coord = query_to_coords[barcode.name]\n",
    "                coords_to_barcodes[coord].append(barcode.sequence)\n",
    "                #print(coord)\n",
    "        #get unique set of BCs\n",
    "        #for k, v in coords_to_barcodes.items():   \n",
    "            #print('set')\n",
    "            #print(len(set(v)))\n",
    "            #print(len(v))\n",
    "        pickle.dump(coords_to_barcodes, open(coords_to_barcodes_fn, 'wb'))\n",
    "    return pickle.load(open(coords_to_barcodes_fn, 'rb'))\n",
    "\n",
    "def save_barcodes_per_candidate(d, fn):\n",
    "    (\n",
    "        pd.Series(d, name = 'n_barcodes')\n",
    "        .str.len()\n",
    "        .rename_axis('coord')\n",
    "        .reset_index()\n",
    "        .to_feather(fn)\n",
    "    )\n",
    "\n",
    "\n",
    "def save_non_repeated_barcodes_per_candidate(d, fn):\n",
    "    save_barcodes_per_candidate(\n",
    "        pd.Series(d, name = 'n_barcodes').apply(set),\n",
    "        fn\n",
    "    )"
   ]
  },
  {
   "cell_type": "code",
   "execution_count": 5,
   "id": "0d423c6e",
   "metadata": {
    "ExecuteTime": {
     "end_time": "2023-09-07T20:45:38.448965Z",
     "start_time": "2023-09-07T20:45:38.443895Z"
    }
   },
   "outputs": [],
   "source": [
    "def readFile(infile):\n",
    "    with open(infile, 'r') as file:\n",
    "        read_file = file.read().replace('\\n','')\n",
    "    return read_file"
   ]
  },
  {
   "cell_type": "code",
   "execution_count": 6,
   "id": "cd0241f3",
   "metadata": {
    "ExecuteTime": {
     "end_time": "2023-09-07T20:45:38.805044Z",
     "start_time": "2023-09-07T20:45:38.800882Z"
    }
   },
   "outputs": [
    {
     "ename": "IndentationError",
     "evalue": "expected an indented block (2213363817.py, line 2)",
     "output_type": "error",
     "traceback": [
      "\u001b[0;36m  Cell \u001b[0;32mIn[6], line 2\u001b[0;36m\u001b[0m\n\u001b[0;31m    def main(argv):\u001b[0m\n\u001b[0m                   ^\u001b[0m\n\u001b[0;31mIndentationError\u001b[0m\u001b[0;31m:\u001b[0m expected an indented block\n"
     ]
    }
   ],
   "source": [
    "#PROJECT_DIR = '/ye/yelabstore3/gracieg/scMPRA/pilot_mixing/slimsdata.genomecenter.ucdavis.edu/Data/96qdysy9rg/Unaligned/Project_NAFI_FI48'\n",
    "def main(argv):"
   ]
  },
  {
   "cell_type": "code",
   "execution_count": 12,
   "id": "3dbecf1f",
   "metadata": {
    "ExecuteTime": {
     "end_time": "2023-09-07T21:04:06.172152Z",
     "start_time": "2023-09-07T21:04:06.163509Z"
    }
   },
   "outputs": [
    {
     "name": "stdout",
     "output_type": "stream",
     "text": [
      "counts\n",
      "147730701\n",
      "649968020\n"
     ]
    }
   ],
   "source": [
    "    n_fastq = readFile(N_FASTQ_F)\n",
    "    n_bam = readFile(N_BAMFILE)\n",
    "    #f=open(n_fastq_f, 'r')\n",
    "    #n_fastq=f.read().replace('\\n','')\n",
    "    print('counts')\n",
    "    print(n_bam)\n",
    "    print(n_fastq)"
   ]
  },
  {
   "cell_type": "code",
   "execution_count": 13,
   "id": "f31617f5",
   "metadata": {
    "ExecuteTime": {
     "end_time": "2023-09-07T21:04:08.543660Z",
     "start_time": "2023-09-07T21:04:07.717470Z"
    }
   },
   "outputs": [],
   "source": [
    "    coords_to_barcodes = get_coords_to_barcodes(FASTQ_IN, n_fastq,BAMFILE,n_bam, PREFIX)"
   ]
  },
  {
   "cell_type": "code",
   "execution_count": 11,
   "id": "fd1b1749",
   "metadata": {
    "ExecuteTime": {
     "end_time": "2023-09-07T20:47:39.335974Z",
     "start_time": "2023-09-07T20:47:39.315409Z"
    }
   },
   "outputs": [
    {
     "ename": "NameError",
     "evalue": "name 'prefix' is not defined",
     "output_type": "error",
     "traceback": [
      "\u001b[0;31m---------------------------------------------------------------------------\u001b[0m",
      "\u001b[0;31mNameError\u001b[0m                                 Traceback (most recent call last)",
      "Cell \u001b[0;32mIn[11], line 1\u001b[0m\n\u001b[0;32m----> 1\u001b[0m save_barcodes_per_candidate(coords_to_barcodes, \u001b[38;5;124mf\u001b[39m\u001b[38;5;124m'\u001b[39m\u001b[38;5;132;01m{\u001b[39;00m\u001b[43mprefix\u001b[49m\u001b[38;5;132;01m}\u001b[39;00m\u001b[38;5;124m_barcodes_per_candidate.feather\u001b[39m\u001b[38;5;124m'\u001b[39m)\n\u001b[1;32m      2\u001b[0m save_non_repeated_barcodes_per_candidate(coords_to_barcodes, \u001b[38;5;124mf\u001b[39m\u001b[38;5;124m'\u001b[39m\u001b[38;5;132;01m{\u001b[39;00mprefix\u001b[38;5;132;01m}\u001b[39;00m\u001b[38;5;124m_barcodes_per_candidate-no_repeats.feather\u001b[39m\u001b[38;5;124m'\u001b[39m)\n",
      "\u001b[0;31mNameError\u001b[0m: name 'prefix' is not defined"
     ]
    }
   ],
   "source": [
    "    save_barcodes_per_candidate(coords_to_barcodes, f'{prefix}_barcodes_per_candidate.feather')\n",
    "    save_non_repeated_barcodes_per_candidate(coords_to_barcodes, f'{prefix}_barcodes_per_candidate-no_repeats.feather')"
   ]
  },
  {
   "cell_type": "code",
   "execution_count": null,
   "id": "9353b8e8",
   "metadata": {},
   "outputs": [],
   "source": [
    "counter = Counter(itertools.chain.from_iterable(coords_to_barcodes.values()))\n",
    "pickle.dump(counter, open(f'{prefix}_barcode_counts.pickle', 'wb'))\n",
    "\n",
    "jackpotted_barcodes = {barcode for barcode, count in counter.most_common(50)}\n",
    "filtered_coords_to_barcodes = {}\n",
    "for coord, barcodes in tqdm(coords_to_barcodes.items(), 'filtered barcodes'):\n",
    "    filtered_coords_to_barcodes[coord] = list(filter(lambda x: x not in jackpotted_barcodes, barcodes))\n",
    "\n",
    "save_barcodes_per_candidate(filtered_coords_to_barcodes, f'{prefix}_barcodes_per_candidate-no_jackpots.feather')\n",
    "save_non_repeated_barcodes_per_candidate(filtered_coords_to_barcodes, f'{prefix}_barcodes_per_candidate-no_repeats-no_jackpots.feather')"
   ]
  }
 ],
 "metadata": {
  "kernelspec": {
   "display_name": "Python (mamba)",
   "language": "python",
   "name": "mamba"
  },
  "language_info": {
   "codemirror_mode": {
    "name": "ipython",
    "version": 3
   },
   "file_extension": ".py",
   "mimetype": "text/x-python",
   "name": "python",
   "nbconvert_exporter": "python",
   "pygments_lexer": "ipython3",
   "version": "3.9.16"
  },
  "toc": {
   "base_numbering": 1,
   "nav_menu": {},
   "number_sections": true,
   "sideBar": true,
   "skip_h1_title": false,
   "title_cell": "Table of Contents",
   "title_sidebar": "Contents",
   "toc_cell": false,
   "toc_position": {},
   "toc_section_display": true,
   "toc_window_display": false
  },
  "varInspector": {
   "cols": {
    "lenName": 16,
    "lenType": 16,
    "lenVar": 40
   },
   "kernels_config": {
    "python": {
     "delete_cmd_postfix": "",
     "delete_cmd_prefix": "del ",
     "library": "var_list.py",
     "varRefreshCmd": "print(var_dic_list())"
    },
    "r": {
     "delete_cmd_postfix": ") ",
     "delete_cmd_prefix": "rm(",
     "library": "var_list.r",
     "varRefreshCmd": "cat(var_dic_list()) "
    }
   },
   "types_to_exclude": [
    "module",
    "function",
    "builtin_function_or_method",
    "instance",
    "_Feature"
   ],
   "window_display": false
  }
 },
 "nbformat": 4,
 "nbformat_minor": 5
}
