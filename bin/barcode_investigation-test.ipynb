{
 "cells": [
  {
   "cell_type": "code",
   "execution_count": 1,
   "id": "85a38889",
   "metadata": {
    "ExecuteTime": {
     "end_time": "2023-09-11T20:10:11.359759Z",
     "start_time": "2023-09-11T20:10:01.091480Z"
    }
   },
   "outputs": [],
   "source": [
    "from Bio.SeqIO.FastaIO import SimpleFastaParser\n",
    "import os, sys\n",
    "import pandas as pd\n",
    "import pyarrow"
   ]
  },
  {
   "cell_type": "markdown",
   "id": "f66ef0be",
   "metadata": {},
   "source": [
    "# MPRAFlow"
   ]
  },
  {
   "cell_type": "code",
   "execution_count": 30,
   "id": "77d85b52",
   "metadata": {
    "ExecuteTime": {
     "end_time": "2023-09-11T23:06:48.342738Z",
     "start_time": "2023-09-11T23:06:48.338343Z"
    }
   },
   "outputs": [],
   "source": [
    "PREFIX = \"null_mpra_head\"\n",
    "PATH = os.path.join(\"/wynton/home/ahituv/fongsl/nullomers/data/lock/20230815_association_sequencing\",\n",
    "                    PREFIX)\n",
    "\n",
    "FILE = os.path.join(PATH, f\"{PREFIX}_barcodes_per_candidate-no_repeats-no_jackpots.feather\")\n",
    "\n",
    "\n",
    "df = pd.read_feather(FILE)\n",
    "\n",
    "df.head()"
   ]
  },
  {
   "cell_type": "code",
   "execution_count": 32,
   "id": "4d9c136a",
   "metadata": {
    "ExecuteTime": {
     "end_time": "2023-09-11T23:06:58.898737Z",
     "start_time": "2023-09-11T23:06:58.892448Z"
    }
   },
   "outputs": [
    {
     "data": {
      "text/plain": [
       "36403"
      ]
     },
     "execution_count": 32,
     "metadata": {},
     "output_type": "execute_result"
    }
   ],
   "source": [
    "df[\"n_barcodes\"].sum()  # mapq=30 23646  # mapq = 20 36403"
   ]
  },
  {
   "cell_type": "code",
   "execution_count": 33,
   "id": "23c59a2e",
   "metadata": {
    "ExecuteTime": {
     "end_time": "2023-09-11T23:07:08.944202Z",
     "start_time": "2023-09-11T23:07:08.923863Z"
    }
   },
   "outputs": [
    {
     "data": {
      "text/html": [
       "<div>\n",
       "<style scoped>\n",
       "    .dataframe tbody tr th:only-of-type {\n",
       "        vertical-align: middle;\n",
       "    }\n",
       "\n",
       "    .dataframe tbody tr th {\n",
       "        vertical-align: top;\n",
       "    }\n",
       "\n",
       "    .dataframe thead th {\n",
       "        text-align: right;\n",
       "    }\n",
       "</style>\n",
       "<table border=\"1\" class=\"dataframe\">\n",
       "  <thead>\n",
       "    <tr style=\"text-align: right;\">\n",
       "      <th></th>\n",
       "      <th>n_barcodes</th>\n",
       "    </tr>\n",
       "  </thead>\n",
       "  <tbody>\n",
       "    <tr>\n",
       "      <th>count</th>\n",
       "      <td>28200.000000</td>\n",
       "    </tr>\n",
       "    <tr>\n",
       "      <th>mean</th>\n",
       "      <td>1.290887</td>\n",
       "    </tr>\n",
       "    <tr>\n",
       "      <th>std</th>\n",
       "      <td>0.598497</td>\n",
       "    </tr>\n",
       "    <tr>\n",
       "      <th>min</th>\n",
       "      <td>0.000000</td>\n",
       "    </tr>\n",
       "    <tr>\n",
       "      <th>25%</th>\n",
       "      <td>1.000000</td>\n",
       "    </tr>\n",
       "    <tr>\n",
       "      <th>50%</th>\n",
       "      <td>1.000000</td>\n",
       "    </tr>\n",
       "    <tr>\n",
       "      <th>75%</th>\n",
       "      <td>1.000000</td>\n",
       "    </tr>\n",
       "    <tr>\n",
       "      <th>max</th>\n",
       "      <td>8.000000</td>\n",
       "    </tr>\n",
       "  </tbody>\n",
       "</table>\n",
       "</div>"
      ],
      "text/plain": [
       "         n_barcodes\n",
       "count  28200.000000\n",
       "mean       1.290887\n",
       "std        0.598497\n",
       "min        0.000000\n",
       "25%        1.000000\n",
       "50%        1.000000\n",
       "75%        1.000000\n",
       "max        8.000000"
      ]
     },
     "execution_count": 33,
     "metadata": {},
     "output_type": "execute_result"
    }
   ],
   "source": [
    "df.describe()"
   ]
  },
  {
   "cell_type": "code",
   "execution_count": 34,
   "id": "7f379cd4",
   "metadata": {
    "ExecuteTime": {
     "end_time": "2023-09-11T23:07:11.744509Z",
     "start_time": "2023-09-11T23:07:11.732930Z"
    }
   },
   "outputs": [
    {
     "data": {
      "text/plain": [
       "28200"
      ]
     },
     "execution_count": 34,
     "metadata": {},
     "output_type": "execute_result"
    }
   ],
   "source": [
    "len(df['coord'].unique())"
   ]
  },
  {
   "cell_type": "code",
   "execution_count": 35,
   "id": "ed257c0f",
   "metadata": {
    "ExecuteTime": {
     "end_time": "2023-09-11T23:07:15.435045Z",
     "start_time": "2023-09-11T23:07:14.638992Z"
    }
   },
   "outputs": [
    {
     "data": {
      "text/html": [
       "<div>\n",
       "<style scoped>\n",
       "    .dataframe tbody tr th:only-of-type {\n",
       "        vertical-align: middle;\n",
       "    }\n",
       "\n",
       "    .dataframe tbody tr th {\n",
       "        vertical-align: top;\n",
       "    }\n",
       "\n",
       "    .dataframe thead th {\n",
       "        text-align: right;\n",
       "    }\n",
       "</style>\n",
       "<table border=\"1\" class=\"dataframe\">\n",
       "  <thead>\n",
       "    <tr style=\"text-align: right;\">\n",
       "      <th></th>\n",
       "      <th>coord</th>\n",
       "      <th>n_barcodes</th>\n",
       "      <th>null_id</th>\n",
       "      <th>peak_id</th>\n",
       "      <th>activity</th>\n",
       "    </tr>\n",
       "  </thead>\n",
       "  <tbody>\n",
       "    <tr>\n",
       "      <th>0</th>\n",
       "      <td>15-firstorder.63414|WTC11_seq51996_F|inactive</td>\n",
       "      <td>1</td>\n",
       "      <td>15-firstorder.63414</td>\n",
       "      <td>WTC11_seq51996_F</td>\n",
       "      <td>inactive</td>\n",
       "    </tr>\n",
       "    <tr>\n",
       "      <th>1</th>\n",
       "      <td>15-firstorder.1307144|HepG2_DNasePeakNoPromote...</td>\n",
       "      <td>4</td>\n",
       "      <td>15-firstorder.1307144</td>\n",
       "      <td>HepG2_DNasePeakNoPromoter58688</td>\n",
       "      <td>active</td>\n",
       "    </tr>\n",
       "    <tr>\n",
       "      <th>2</th>\n",
       "      <td>15-firstorder.2355935|HepG2_DNasePeakNoPromote...</td>\n",
       "      <td>1</td>\n",
       "      <td>15-firstorder.2355935</td>\n",
       "      <td>HepG2_DNasePeakNoPromoter50640</td>\n",
       "      <td>inactive</td>\n",
       "    </tr>\n",
       "    <tr>\n",
       "      <th>3</th>\n",
       "      <td>15-firstorder.1412646|K562_peak57048|inactive</td>\n",
       "      <td>1</td>\n",
       "      <td>15-firstorder.1412646</td>\n",
       "      <td>K562_peak57048</td>\n",
       "      <td>inactive</td>\n",
       "    </tr>\n",
       "    <tr>\n",
       "      <th>4</th>\n",
       "      <td>15-firstorder.192228|WTC11_seq41747_F|inactive</td>\n",
       "      <td>3</td>\n",
       "      <td>15-firstorder.192228</td>\n",
       "      <td>WTC11_seq41747_F</td>\n",
       "      <td>inactive</td>\n",
       "    </tr>\n",
       "  </tbody>\n",
       "</table>\n",
       "</div>"
      ],
      "text/plain": [
       "                                               coord  n_barcodes  \\\n",
       "0      15-firstorder.63414|WTC11_seq51996_F|inactive           1   \n",
       "1  15-firstorder.1307144|HepG2_DNasePeakNoPromote...           4   \n",
       "2  15-firstorder.2355935|HepG2_DNasePeakNoPromote...           1   \n",
       "3      15-firstorder.1412646|K562_peak57048|inactive           1   \n",
       "4     15-firstorder.192228|WTC11_seq41747_F|inactive           3   \n",
       "\n",
       "                 null_id                         peak_id  activity  \n",
       "0    15-firstorder.63414                WTC11_seq51996_F  inactive  \n",
       "1  15-firstorder.1307144  HepG2_DNasePeakNoPromoter58688    active  \n",
       "2  15-firstorder.2355935  HepG2_DNasePeakNoPromoter50640  inactive  \n",
       "3  15-firstorder.1412646                  K562_peak57048  inactive  \n",
       "4   15-firstorder.192228                WTC11_seq41747_F  inactive  "
      ]
     },
     "execution_count": 35,
     "metadata": {},
     "output_type": "execute_result"
    }
   ],
   "source": [
    "df[[\"null_id\", \"peak_id\", \"activity\"]] = df[\"coord\"].str.split('|', expand=True)\n",
    "\n",
    "df.head()"
   ]
  },
  {
   "cell_type": "code",
   "execution_count": 36,
   "id": "54a62d76",
   "metadata": {
    "ExecuteTime": {
     "end_time": "2023-09-11T23:07:18.954250Z",
     "start_time": "2023-09-11T23:07:18.925901Z"
    }
   },
   "outputs": [],
   "source": [
    "df.loc[df[\"coord\"].str.contains(\"C:SLEA\"), \"activity\"] = \"ctrl\""
   ]
  },
  {
   "cell_type": "code",
   "execution_count": 37,
   "id": "d02d7651",
   "metadata": {
    "ExecuteTime": {
     "end_time": "2023-09-11T23:07:19.714015Z",
     "start_time": "2023-09-11T23:07:19.472315Z"
    }
   },
   "outputs": [
    {
     "data": {
      "text/html": [
       "<div>\n",
       "<style scoped>\n",
       "    .dataframe tbody tr th:only-of-type {\n",
       "        vertical-align: middle;\n",
       "    }\n",
       "\n",
       "    .dataframe tbody tr th {\n",
       "        vertical-align: top;\n",
       "    }\n",
       "\n",
       "    .dataframe thead th {\n",
       "        text-align: right;\n",
       "    }\n",
       "</style>\n",
       "<table border=\"1\" class=\"dataframe\">\n",
       "  <thead>\n",
       "    <tr style=\"text-align: right;\">\n",
       "      <th></th>\n",
       "      <th>count</th>\n",
       "      <th>mean</th>\n",
       "      <th>std</th>\n",
       "      <th>min</th>\n",
       "      <th>25%</th>\n",
       "      <th>50%</th>\n",
       "      <th>75%</th>\n",
       "      <th>max</th>\n",
       "    </tr>\n",
       "    <tr>\n",
       "      <th>activity</th>\n",
       "      <th></th>\n",
       "      <th></th>\n",
       "      <th></th>\n",
       "      <th></th>\n",
       "      <th></th>\n",
       "      <th></th>\n",
       "      <th></th>\n",
       "      <th></th>\n",
       "    </tr>\n",
       "  </thead>\n",
       "  <tbody>\n",
       "    <tr>\n",
       "      <th>active</th>\n",
       "      <td>9192.0</td>\n",
       "      <td>1.249130</td>\n",
       "      <td>0.547344</td>\n",
       "      <td>0.0</td>\n",
       "      <td>1.0</td>\n",
       "      <td>1.0</td>\n",
       "      <td>1.0</td>\n",
       "      <td>7.0</td>\n",
       "    </tr>\n",
       "    <tr>\n",
       "      <th>ctrl</th>\n",
       "      <td>18.0</td>\n",
       "      <td>1.055556</td>\n",
       "      <td>0.416176</td>\n",
       "      <td>0.0</td>\n",
       "      <td>1.0</td>\n",
       "      <td>1.0</td>\n",
       "      <td>1.0</td>\n",
       "      <td>2.0</td>\n",
       "    </tr>\n",
       "    <tr>\n",
       "      <th>inactive</th>\n",
       "      <td>18534.0</td>\n",
       "      <td>1.311482</td>\n",
       "      <td>0.621509</td>\n",
       "      <td>0.0</td>\n",
       "      <td>1.0</td>\n",
       "      <td>1.0</td>\n",
       "      <td>1.0</td>\n",
       "      <td>8.0</td>\n",
       "    </tr>\n",
       "  </tbody>\n",
       "</table>\n",
       "</div>"
      ],
      "text/plain": [
       "            count      mean       std  min  25%  50%  75%  max\n",
       "activity                                                      \n",
       "active     9192.0  1.249130  0.547344  0.0  1.0  1.0  1.0  7.0\n",
       "ctrl         18.0  1.055556  0.416176  0.0  1.0  1.0  1.0  2.0\n",
       "inactive  18534.0  1.311482  0.621509  0.0  1.0  1.0  1.0  8.0"
      ]
     },
     "execution_count": 37,
     "metadata": {},
     "output_type": "execute_result"
    }
   ],
   "source": [
    "df.groupby('activity')[\"n_barcodes\"].describe()"
   ]
  },
  {
   "cell_type": "markdown",
   "id": "0239b9d7",
   "metadata": {},
   "source": [
    "# mapq=20\n",
    "\tcount \tmean \tstd \tmin \t25% \t50% \t75% \tmax\n",
    "    activity \t\t\t\t\t\t\t\t\n",
    "    active \t9192.0 \t1.249130 \t0.547344 \t0.0 \t1.0 \t1.0 \t1.0 \t7.0\n",
    "    ctrl \t18.0 \t1.055556 \t0.416176 \t0.0 \t1.0 \t1.0 \t1.0 \t2.0\n",
    "    inactive \t18534.0 \t1.311482 \t0.621509 \t0.0 \t1.0 \t1.0 \t1.0 \t8.0"
   ]
  },
  {
   "cell_type": "markdown",
   "id": "bc9e22cf",
   "metadata": {},
   "source": [
    "# mpaq = 30\n",
    "    count \tmean \tstd \tmin \t25% \t50% \t75% \tmax\n",
    "    activity \t\t\t\t\t\t\t\t\n",
    "    active \t6.0 \t1.000000 \t0.000000 \t1.0 \t1.0 \t1.0 \t1.0 \t1.0\n",
    "    ctrl \t18.0 \t1.055556 \t0.416176 \t0.0 \t1.0 \t1.0 \t1.0 \t2.0\n",
    "    inactive \t17631.0 \t1.306052 \t0.615297 \t0.0 \t1.0 \t1.0 \t1.0 \t8.0\n"
   ]
  },
  {
   "cell_type": "markdown",
   "id": "f1d6b78e",
   "metadata": {
    "ExecuteTime": {
     "end_time": "2023-09-11T22:32:54.728392Z",
     "start_time": "2023-09-11T22:32:54.723105Z"
    }
   },
   "source": [
    "# trouble shooting\n",
    "active elements - \n",
    "- decrease mapq\n",
    "- make active-speific .fasta\n",
    "\n",
    "Fastq PE split-\n",
    "- increase number of lines to test split. "
   ]
  },
  {
   "cell_type": "markdown",
   "id": "21fea96a",
   "metadata": {},
   "source": [
    "# Sarah's python "
   ]
  },
  {
   "cell_type": "code",
   "execution_count": 16,
   "id": "c8cdcab1",
   "metadata": {
    "ExecuteTime": {
     "end_time": "2023-09-07T23:31:05.464077Z",
     "start_time": "2023-09-07T23:31:05.450248Z"
    }
   },
   "outputs": [
    {
     "data": {
      "text/html": [
       "<div>\n",
       "<style scoped>\n",
       "    .dataframe tbody tr th:only-of-type {\n",
       "        vertical-align: middle;\n",
       "    }\n",
       "\n",
       "    .dataframe tbody tr th {\n",
       "        vertical-align: top;\n",
       "    }\n",
       "\n",
       "    .dataframe thead th {\n",
       "        text-align: right;\n",
       "    }\n",
       "</style>\n",
       "<table border=\"1\" class=\"dataframe\">\n",
       "  <thead>\n",
       "    <tr style=\"text-align: right;\">\n",
       "      <th></th>\n",
       "      <th>coord</th>\n",
       "      <th>n_barcodes</th>\n",
       "    </tr>\n",
       "  </thead>\n",
       "  <tbody>\n",
       "    <tr>\n",
       "      <th>0</th>\n",
       "      <td>endog|HepG2_DNasePeakNoPromoter10535|active</td>\n",
       "      <td>10342951</td>\n",
       "    </tr>\n",
       "  </tbody>\n",
       "</table>\n",
       "</div>"
      ],
      "text/plain": [
       "                                         coord  n_barcodes\n",
       "0  endog|HepG2_DNasePeakNoPromoter10535|active    10342951"
      ]
     },
     "execution_count": 16,
     "metadata": {},
     "output_type": "execute_result"
    }
   ],
   "source": [
    "PATH = \"/wynton/group/ahituv/fongsl/projects/nullomers/data/20230815_nullomer_MPRA/assoc\"\n",
    "FILE = os.path.join(PATH, \"null_mpra_barcodes_per_candidate-no_repeats-no_jackpots.feather\")\n",
    "\n",
    "df = pd.read_feather(FILE)\n",
    "\n",
    "df.head()"
   ]
  },
  {
   "cell_type": "markdown",
   "id": "9b4850ab",
   "metadata": {},
   "source": [
    "# pickle"
   ]
  },
  {
   "cell_type": "code",
   "execution_count": null,
   "id": "7c8523af",
   "metadata": {
    "ExecuteTime": {
     "start_time": "2023-09-07T23:31:07.919Z"
    }
   },
   "outputs": [],
   "source": [
    "PICKLE = pd.read_pickle(os.path.join(PATH, \"null_mpra_coords_to_barcodes.pickle\"))"
   ]
  },
  {
   "cell_type": "code",
   "execution_count": 17,
   "id": "474d313c",
   "metadata": {
    "ExecuteTime": {
     "end_time": "2023-09-07T23:31:23.338849Z",
     "start_time": "2023-09-07T23:31:07.941480Z"
    }
   },
   "outputs": [],
   "source": [
    "p = pd.DataFrame(PICKLE.items())"
   ]
  },
  {
   "cell_type": "code",
   "execution_count": 32,
   "id": "e2b3f69a",
   "metadata": {
    "ExecuteTime": {
     "end_time": "2023-09-05T23:29:13.355237Z",
     "start_time": "2023-09-05T23:29:13.350435Z"
    }
   },
   "outputs": [],
   "source": [
    "p.columns =[\"bc\", \"n\"]"
   ]
  },
  {
   "cell_type": "code",
   "execution_count": 33,
   "id": "752af2f9",
   "metadata": {
    "ExecuteTime": {
     "end_time": "2023-09-05T23:29:14.243768Z",
     "start_time": "2023-09-05T23:29:14.229071Z"
    }
   },
   "outputs": [
    {
     "data": {
      "text/html": [
       "<div>\n",
       "<style scoped>\n",
       "    .dataframe tbody tr th:only-of-type {\n",
       "        vertical-align: middle;\n",
       "    }\n",
       "\n",
       "    .dataframe tbody tr th {\n",
       "        vertical-align: top;\n",
       "    }\n",
       "\n",
       "    .dataframe thead th {\n",
       "        text-align: right;\n",
       "    }\n",
       "</style>\n",
       "<table border=\"1\" class=\"dataframe\">\n",
       "  <thead>\n",
       "    <tr style=\"text-align: right;\">\n",
       "      <th></th>\n",
       "      <th>bc</th>\n",
       "      <th>n</th>\n",
       "    </tr>\n",
       "  </thead>\n",
       "  <tbody>\n",
       "    <tr>\n",
       "      <th>0</th>\n",
       "      <td>15-firstorder.63414|WTC11_seq51996_F|inactive</td>\n",
       "      <td>[AAACATTAGTTTCTT, GAAGAGGGCCAAACC, GCAGTTGTGTA...</td>\n",
       "    </tr>\n",
       "    <tr>\n",
       "      <th>1</th>\n",
       "      <td>15-firstorder.2355935|HepG2_DNasePeakNoPromote...</td>\n",
       "      <td>[TTGGAATGACCAACA, TGACTGAGAAGGCTA, TACTTGGACAT...</td>\n",
       "    </tr>\n",
       "    <tr>\n",
       "      <th>2</th>\n",
       "      <td>15-firstorder.1412646|K562_peak57048|inactive</td>\n",
       "      <td>[TTTCTTTGGGATTAA, ATATTGCTCCCTGCG, TTAAGGAGATG...</td>\n",
       "    </tr>\n",
       "    <tr>\n",
       "      <th>3</th>\n",
       "      <td>15-firstorder.192228|WTC11_seq41747_F|inactive</td>\n",
       "      <td>[CTATGTTATTACAAA, GATCCTACATAGAGT, TACATTACGTG...</td>\n",
       "    </tr>\n",
       "    <tr>\n",
       "      <th>4</th>\n",
       "      <td>15-firstorder.1426742|HepG2_DNasePeakNoPromote...</td>\n",
       "      <td>[GAACTTGTCTGGCTA, CTATGAAAGAGATCC, CAAAACATAGT...</td>\n",
       "    </tr>\n",
       "  </tbody>\n",
       "</table>\n",
       "</div>"
      ],
      "text/plain": [
       "                                                  bc  \\\n",
       "0      15-firstorder.63414|WTC11_seq51996_F|inactive   \n",
       "1  15-firstorder.2355935|HepG2_DNasePeakNoPromote...   \n",
       "2      15-firstorder.1412646|K562_peak57048|inactive   \n",
       "3     15-firstorder.192228|WTC11_seq41747_F|inactive   \n",
       "4  15-firstorder.1426742|HepG2_DNasePeakNoPromote...   \n",
       "\n",
       "                                                   n  \n",
       "0  [AAACATTAGTTTCTT, GAAGAGGGCCAAACC, GCAGTTGTGTA...  \n",
       "1  [TTGGAATGACCAACA, TGACTGAGAAGGCTA, TACTTGGACAT...  \n",
       "2  [TTTCTTTGGGATTAA, ATATTGCTCCCTGCG, TTAAGGAGATG...  \n",
       "3  [CTATGTTATTACAAA, GATCCTACATAGAGT, TACATTACGTG...  \n",
       "4  [GAACTTGTCTGGCTA, CTATGAAAGAGATCC, CAAAACATAGT...  "
      ]
     },
     "execution_count": 33,
     "metadata": {},
     "output_type": "execute_result"
    }
   ],
   "source": [
    "p.head()"
   ]
  },
  {
   "cell_type": "code",
   "execution_count": 34,
   "id": "5ed94718",
   "metadata": {
    "ExecuteTime": {
     "end_time": "2023-09-05T23:29:19.082190Z",
     "start_time": "2023-09-05T23:29:19.065636Z"
    }
   },
   "outputs": [
    {
     "data": {
      "text/plain": [
       "56504"
      ]
     },
     "execution_count": 34,
     "metadata": {},
     "output_type": "execute_result"
    }
   ],
   "source": [
    "len(set(p[\"bc\"]))"
   ]
  },
  {
   "cell_type": "code",
   "execution_count": null,
   "id": "1a337d68",
   "metadata": {},
   "outputs": [],
   "source": [
    "# there are 10358215 bc"
   ]
  },
  {
   "cell_type": "markdown",
   "id": "47de75a8",
   "metadata": {},
   "source": [
    "# FASTP run "
   ]
  },
  {
   "cell_type": "code",
   "execution_count": 2,
   "id": "f54d1325",
   "metadata": {
    "ExecuteTime": {
     "end_time": "2023-09-06T03:39:08.363852Z",
     "start_time": "2023-09-06T03:39:08.359632Z"
    }
   },
   "outputs": [],
   "source": [
    "FP=\"/wynton/group/ahituv/fongsl/projects/nullomers/data/20230815_nullomer_MPRA/assoc_fastp/null_mpra_coords_to_barcodes.pickle\""
   ]
  },
  {
   "cell_type": "code",
   "execution_count": 4,
   "id": "0c3d6213",
   "metadata": {
    "ExecuteTime": {
     "end_time": "2023-09-06T03:40:28.552003Z",
     "start_time": "2023-09-06T03:40:15.237309Z"
    }
   },
   "outputs": [],
   "source": [
    "pickle = pd.read_pickle(FP)\n",
    "p = pd.DataFrame(pickle.items())"
   ]
  },
  {
   "cell_type": "code",
   "execution_count": 5,
   "id": "db29fc2f",
   "metadata": {
    "ExecuteTime": {
     "end_time": "2023-09-06T03:40:31.242063Z",
     "start_time": "2023-09-06T03:40:31.232551Z"
    }
   },
   "outputs": [
    {
     "data": {
      "text/plain": [
       "(1, 2)"
      ]
     },
     "execution_count": 5,
     "metadata": {},
     "output_type": "execute_result"
    }
   ],
   "source": [
    "p.shape"
   ]
  },
  {
   "cell_type": "code",
   "execution_count": 6,
   "id": "b1486071",
   "metadata": {
    "ExecuteTime": {
     "end_time": "2023-09-06T03:40:33.963344Z",
     "start_time": "2023-09-06T03:40:33.938755Z"
    }
   },
   "outputs": [
    {
     "data": {
      "text/html": [
       "<div>\n",
       "<style scoped>\n",
       "    .dataframe tbody tr th:only-of-type {\n",
       "        vertical-align: middle;\n",
       "    }\n",
       "\n",
       "    .dataframe tbody tr th {\n",
       "        vertical-align: top;\n",
       "    }\n",
       "\n",
       "    .dataframe thead th {\n",
       "        text-align: right;\n",
       "    }\n",
       "</style>\n",
       "<table border=\"1\" class=\"dataframe\">\n",
       "  <thead>\n",
       "    <tr style=\"text-align: right;\">\n",
       "      <th></th>\n",
       "      <th>0</th>\n",
       "      <th>1</th>\n",
       "    </tr>\n",
       "  </thead>\n",
       "  <tbody>\n",
       "    <tr>\n",
       "      <th>0</th>\n",
       "      <td>endog|HepG2_DNasePeakNoPromoter10535|active</td>\n",
       "      <td>[AAACATTAGTTTCTT, TTGGAATGACCAACA, TTTCTTTGGGA...</td>\n",
       "    </tr>\n",
       "  </tbody>\n",
       "</table>\n",
       "</div>"
      ],
      "text/plain": [
       "                                             0  \\\n",
       "0  endog|HepG2_DNasePeakNoPromoter10535|active   \n",
       "\n",
       "                                                   1  \n",
       "0  [AAACATTAGTTTCTT, TTGGAATGACCAACA, TTTCTTTGGGA...  "
      ]
     },
     "execution_count": 6,
     "metadata": {},
     "output_type": "execute_result"
    }
   ],
   "source": [
    "p.head()"
   ]
  },
  {
   "cell_type": "code",
   "execution_count": 3,
   "id": "b8ecc26a",
   "metadata": {
    "ExecuteTime": {
     "end_time": "2023-09-07T20:30:28.386167Z",
     "start_time": "2023-09-07T20:30:28.381043Z"
    }
   },
   "outputs": [
    {
     "data": {
      "text/plain": [
       "200"
      ]
     },
     "execution_count": 3,
     "metadata": {},
     "output_type": "execute_result"
    }
   ],
   "source": [
    "a='TGATTCTTACTTCGTGCTCCAAGACGTCTGTTCTTTCCTGCTTTGTGACGCAGGCCTCCGTGCTGGCATTTGTGAAATGCAGATAACCTGTCAAACGTTGTCGACGGCCAGTACTCTGGTTGTAATCTCCTGAGGCCAGGAGCTGGGTCTTCAGGTCTTCACTTTCTCTCTATGTCCCCAACACAGCTCTGGGGGCGGGG'\n",
    "len(a)"
   ]
  },
  {
   "cell_type": "code",
   "execution_count": null,
   "id": "e0754197",
   "metadata": {},
   "outputs": [],
   "source": []
  }
 ],
 "metadata": {
  "kernelspec": {
   "display_name": "Python (mamba)",
   "language": "python",
   "name": "mamba"
  },
  "language_info": {
   "codemirror_mode": {
    "name": "ipython",
    "version": 3
   },
   "file_extension": ".py",
   "mimetype": "text/x-python",
   "name": "python",
   "nbconvert_exporter": "python",
   "pygments_lexer": "ipython3",
   "version": "3.9.16"
  },
  "toc": {
   "base_numbering": 1,
   "nav_menu": {},
   "number_sections": true,
   "sideBar": true,
   "skip_h1_title": false,
   "title_cell": "Table of Contents",
   "title_sidebar": "Contents",
   "toc_cell": false,
   "toc_position": {},
   "toc_section_display": true,
   "toc_window_display": false
  },
  "varInspector": {
   "cols": {
    "lenName": 16,
    "lenType": 16,
    "lenVar": 40
   },
   "kernels_config": {
    "python": {
     "delete_cmd_postfix": "",
     "delete_cmd_prefix": "del ",
     "library": "var_list.py",
     "varRefreshCmd": "print(var_dic_list())"
    },
    "r": {
     "delete_cmd_postfix": ") ",
     "delete_cmd_prefix": "rm(",
     "library": "var_list.r",
     "varRefreshCmd": "cat(var_dic_list()) "
    }
   },
   "types_to_exclude": [
    "module",
    "function",
    "builtin_function_or_method",
    "instance",
    "_Feature"
   ],
   "window_display": false
  }
 },
 "nbformat": 4,
 "nbformat_minor": 5
}
