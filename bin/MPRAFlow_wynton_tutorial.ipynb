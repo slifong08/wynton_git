{
 "cells": [
  {
   "cell_type": "markdown",
   "id": "104d0210-46f1-41c1-b2e9-999346b93afe",
   "metadata": {},
   "source": [
    "# MPRAflow for Wynton tutorial\n",
    "\n",
    "##### Sarah Fong\n",
    "##### 20240501"
   ]
  },
  {
   "cell_type": "markdown",
   "id": "c7ece5d7-c9ab-4cd1-9e0b-7229bb2d14ca",
   "metadata": {},
   "source": [
    "# 1. Setup"
   ]
  },
  {
   "cell_type": "markdown",
   "id": "00488d53-c77f-4f16-bf22-0f7cf5b368ed",
   "metadata": {
    "jp-MarkdownHeadingCollapsed": true
   },
   "source": [
    "## MPRAflow \n",
    "Do this only once!\n",
    "##### Ahituv group members - Go to next step. MPRAflow is already downloaded to /wynton/group/ahituv/MPRAflow."
   ]
  },
  {
   "cell_type": "markdown",
   "id": "183bc44d-3d8a-41a3-baed-df34731a3549",
   "metadata": {},
   "source": [
    "- clone MPRAflow from github (https://github.com/shendurelab/MPRAflow)\n",
    "        \n",
    "        git clone https://github.com/shendurelab/MPRAflow.git"
   ]
  },
  {
   "cell_type": "markdown",
   "id": "b445ae29-b9b4-4483-ac6c-87f5a58736a1",
   "metadata": {
    "jp-MarkdownHeadingCollapsed": true
   },
   "source": [
    "## Miniconda\n",
    "Do this only once! \n",
    "##### Ahituv group members - Go to next step. Miniconda is already downloaded to  /wynton/group/ahituv/bin/miniconda3. "
   ]
  },
  {
   "cell_type": "markdown",
   "id": "7cff28b2-5c26-446d-bea1-0de66b201423",
   "metadata": {},
   "source": [
    "### For tutorial, I will download miniconda3 to /wynton/group/ahituv/bin"
   ]
  },
  {
   "cell_type": "markdown",
   "id": "7d8e7d30-f903-4973-bc00-19f2922e7f27",
   "metadata": {},
   "source": [
    "- download here https://docs.anaconda.com/free/miniconda/index.html\n",
    "    - go to \"Quick command line install\"\n",
    "    - use commands for \"LINUX\" (code below)\n",
    " "
   ]
  },
  {
   "cell_type": "markdown",
   "id": "d8a0f1f5-e2fe-4af0-91dd-e3df4a79c8ee",
   "metadata": {},
   "source": [
    "        cd /wynton/group/ahituv/bin/  \n",
    "        mkdir -p ./miniconda3\n",
    "        wget https://repo.anaconda.com/miniconda/Miniconda3-latest-Linux-x86_64.sh -O ./miniconda3/miniconda.sh\n",
    "        bash ./miniconda3/miniconda.sh -b -u -p ~/miniconda3\n",
    "        rm -rf ./miniconda3/miniconda.sh"
   ]
  },
  {
   "cell_type": "markdown",
   "id": "fb159c7d-0e3c-446a-8478-1f76f9bf5e7f",
   "metadata": {},
   "source": [
    "- add conda to ~./bashrc (run below in command line)\n",
    "     \n",
    "          /wynton/group/ahituv/bin/miniconda3/bin/conda init bash  "
   ]
  },
  {
   "cell_type": "markdown",
   "id": "aa015646-9043-4f44-980a-e104dea6de13",
   "metadata": {},
   "source": [
    "- source the new bashrc\n",
    "\n",
    "          source ~/.bashrc "
   ]
  },
  {
   "cell_type": "markdown",
   "id": "2a2a8d55-8a1f-4582-87ec-cf4073611b7d",
   "metadata": {},
   "source": [
    "## Create MPRAflow environment\n",
    "Do this only once!\n",
    "\n",
    "    conda create -n MPRAflow -f /wynton/group/ahituv/MPRAflow/environment.yml"
   ]
  },
  {
   "cell_type": "markdown",
   "id": "55a24972",
   "metadata": {},
   "source": [
    "# 2. MPRAflow virtual environment \n",
    "##### Do this everytime you run MPRAFLOW"
   ]
  },
  {
   "attachments": {},
   "cell_type": "markdown",
   "id": "178a1a9f-a5ef-4211-939c-a93e2706f3dd",
   "metadata": {
    "jp-MarkdownHeadingCollapsed": true
   },
   "source": [
    "Activate the environment\n",
    "    \n",
    "    conda activate MPRAflow"
   ]
  },
  {
   "cell_type": "markdown",
   "id": "32103e09-0fde-4a84-b041-908f420f7cd0",
   "metadata": {},
   "source": [
    "# 3. Configure MPRAflow run\n",
    "Run for every MPRA experiment (assoc + count)"
   ]
  },
  {
   "attachments": {},
   "cell_type": "markdown",
   "id": "0ae53ac9-5a3a-4301-93bd-c6cb4de8e4f2",
   "metadata": {},
   "source": [
    "##### Required inputs:\n",
    "\n",
    "1. EXPERIMENT_NAME (str) - name of your experiment\n",
    "  2. WYNTON_DATAPATH (str) - path to dir where you will store data\n",
    "        \n",
    "  4. DESIGN.FASTA (str) -  name of design.fasta file\n",
    "  5. FASTQ_PREFIX (str) - fastq prefix (for association sequencing)"
   ]
  },
  {
   "cell_type": "markdown",
   "id": "55e99eb0-92da-478e-9c59-3cdc34d61dfa",
   "metadata": {},
   "source": [
    "## Run setup script in command line"
   ]
  },
  {
   "cell_type": "markdown",
   "id": "5023e48e-d7b2-4ab6-86cb-ea8afa9295a6",
   "metadata": {},
   "source": [
    "    python3 /wynton/group/ahituv/MPRAflow/wynton/1_setup_MPRAflow_run.py \\\n",
    "    --experiment_name EXPERIMENT_NAME \\\n",
    "    --data_path DATAPATH \\\n",
    "    --design_fasta DESIGN.FASTA \\\n",
    "    --fastq_prefix FASTQ_PREFIX\n",
    "\n",
    "##### Replace the CAPS with your inputs"
   ]
  },
  {
   "cell_type": "markdown",
   "id": "f0d74a88-8803-4b27-89b3-e736d0907779",
   "metadata": {
    "jp-MarkdownHeadingCollapsed": true
   },
   "source": [
    "### An example"
   ]
  },
  {
   "cell_type": "markdown",
   "id": "2e20071d-3327-4e1a-83af-426c0fad6dc5",
   "metadata": {},
   "source": [
    "- experiment_name:  null_mpra\n",
    "- data_path:  /wynton/group/ahituv/fongsl/projects/CRISPR_nullomer_MPRA/data/\n",
    "- design_fasta:  15mer.fo.pam.scaffold.ext200.library.TWIST.fa\n",
    "- fastq_prefix:  SF_assoc_S1"
   ]
  },
  {
   "cell_type": "markdown",
   "id": "074d171e-25e7-4d49-88b5-c52c2b89081b",
   "metadata": {},
   "source": [
    "    python3 /wynton/group/ahituv/MPRAflow/wynton/1_setup_MPRAflow_run.py \\\n",
    "    --experiment_name null_mpra \\\n",
    "    --data_path /wynton/group/ahituv/fongsl/projects/CRISPR_nullomer_MPRA/data/ \\\n",
    "    --design_fasta 15mer.fo.pam.scaffold.ext200.library.TWIST.fa \\\n",
    "    --fastq_prefix SF_asso_S1"
   ]
  },
  {
   "cell_type": "markdown",
   "id": "569f2abc-9255-43c4-af68-5c88024b04f9",
   "metadata": {},
   "source": [
    "# 4. Manually copy fastq, design.fasta files to wynton directories\n",
    "\n",
    "FileZilla works for transfering files"
   ]
  },
  {
   "cell_type": "markdown",
   "id": "4ed4b7d8-eeb6-416f-ad89-46aa8e872109",
   "metadata": {},
   "source": [
    "It is critical that files are in correct directories!\n",
    "##### NOTE: in this example, my << DATAPATH >> is /wynton/group/ahituv/fongsl/projects/CRISPR_nullomer_MPRA/data/\n",
    "\n",
    "- design.fasta in << DATAPATH >>/library\n",
    "- association.fastqs in << DATAPATH >>/assoc\n",
    "- count.fastqs in  << DATAPATH >>/count\n",
    "\n"
   ]
  },
  {
   "cell_type": "markdown",
   "id": "18afcd68-5ab3-4874-9610-78a12f132123",
   "metadata": {},
   "source": [
    "- Step 2 - read second line with nucleotide sequence,\n",
    "    - paired-end read: sequence is  ~150 bp long\n",
    "    - barcode: sequence is ~15 bp long\n",
    "    - common i5: sequence is 'GCCAGCGCCG'\n",
    "    "
   ]
  },
  {
   "cell_type": "markdown",
   "id": "fb0b8c05-480d-466b-a223-220f2257b0e6",
   "metadata": {},
   "source": [
    "# 5. Association sequencing\n",
    "Run when you have association fastqs"
   ]
  },
  {
   "cell_type": "markdown",
   "id": "ea7fc92e-d6dc-41d3-8748-e4d26b7c9e35",
   "metadata": {},
   "source": [
    "## Submit job to wynton"
   ]
  },
  {
   "cell_type": "markdown",
   "id": "a02e4e43-8a21-4731-8939-38f7141e3a34",
   "metadata": {},
   "source": [
    "##### Required inputs:\n",
    "- json file\n",
    "- run_cmd type"
   ]
  },
  {
   "cell_type": "markdown",
   "id": "c16f2be3-3778-4887-b9f9-bf0446bc95b3",
   "metadata": {},
   "source": [
    "      cd <<DATAPATH>>\n",
    "      python3 /wynton/group/ahituv/MPRAflow/2_run_cmd.py --json ./config.json  --run_cmd assoc_cmd"
   ]
  },
  {
   "cell_type": "markdown",
   "id": "bd911cbb-2746-4e89-92e8-e42dde3c67a3",
   "metadata": {
    "jp-MarkdownHeadingCollapsed": true
   },
   "source": [
    "### How long does this take? \n",
    "For library w/ 109525 sequences and 14G of fastq data, association sequencing step took me ~2.5h"
   ]
  },
  {
   "cell_type": "markdown",
   "id": "c4956594-b70f-4e0a-a455-dcc29221eba5",
   "metadata": {},
   "source": [
    "# 6. Count sequencing\n",
    "Run when you have DNA/RNA fastqs"
   ]
  },
  {
   "cell_type": "markdown",
   "id": "d4208cb0-7f8b-441e-a988-9770cc5009ec",
   "metadata": {},
   "source": [
    "## Create experiment file"
   ]
  },
  {
   "cell_type": "markdown",
   "id": "85614666-7dc6-44d7-aa35-557478a32d6b",
   "metadata": {},
   "source": [
    "##### Write experiment.csv\n",
    "- Needs to be done manually. Do this on your local computer. "
   ]
  },
  {
   "cell_type": "markdown",
   "id": "4d3cb02f-40f8-434e-aa55-1bede04ef862",
   "metadata": {},
   "source": [
    "Required annotations for experiment.csv \n",
    "\n",
    "\n",
    "1. Condition (str) - cell line, treatment, etc.\n",
    "2. Replicate (int) - replicate number\n",
    "3. DNA_BC_F (str) - fastq filename for DNA_reads (first of pair; novogene typically annotates this as DNA*_S*_R1.fastq)\n",
    "4. DNA_UMI (str) - fastq filename for DNA UMI reads (novogene typically annotates this as DNA*_S*_R2.fastq)\n",
    "5. DNA_BC_R (str) - fastq filename for DNA_reads (second of pair, or reverse; novogene typically annotates this as DNA*_S*_R1.fastq)\n",
    "3. RNA_BC_F (str) - fastq filename for RNA_reads (first of pair; novogene typically annotates this as RNA*_S*_R1.fastq)\n",
    "4. RNA_UMI (str) - fastq filename for RNA UMI reads (novogene typically annotates this as RNA*_S*_R2)\n",
    "5. RNA_BC_R (str) - fastq filename for RNA_reads (second of pair, or reverse; novogene typically annotates this as RNA*_S*_R3.fastq)"
   ]
  },
  {
   "cell_type": "markdown",
   "id": "3beca855-664f-4946-950d-03bcf479a355",
   "metadata": {
    "jp-MarkdownHeadingCollapsed": true
   },
   "source": [
    "##### experiment file looks like this: \n",
    "       Condition,Replicate,DNA_BC_F,DNA_UMI,DNA_BC_R,RNA_BC_F,RNA_UMI,RNA_BC_R\n",
    "        condition1,1,cond1_rep1_DNA_FWD_reads.fastq.gz,cond1_rep1_DNA_IDX_reads.fastq.gz,cond1_rep1_DNA_REV_reads.fastq.gz,cond1_rep1_RNA_FWD_reads.fastq.gz,cond1_rep1_RNA_IDX_reads.fastq.gz,cond1_rep1_RNA_REV_reads.fastq.gz\n",
    "        condition1,2,cond1_rep2_DNA_FWD_reads.fastq.gz,cond1_rep2_DNA_IDX_reads.fastq.gz,cond1_rep2_DNA_REV_reads.fastq.gz,cond1_rep2_RNA_FWD_reads.fastq.gz,cond1_rep2_RNA_IDX_reads.fastq.gz,cond1_rep2_RNA_REV_reads.fastq.gz\n",
    "        condition2,1,cond2_rep1_DNA_FWD_reads.fastq.gz,cond2_rep1_DNA_IDX_reads.fastq.gz,cond2_rep1_DNA_REV_reads.fastq.gz,cond2_rep1_RNA_FWD_reads.fastq.gz,cond2_rep1_RNA_IDX_reads.fastq.gz,cond2_rep1_RNA_REV_reads.fastq.gz\n",
    "        condition2,2,cond2_rep2_DNA_FWD_reads.fastq.gz,cond2_rep2_DNA_IDX_reads.fastq.gz,cond2_rep2_DNA_REV_reads.fastq.gz,cond2_rep2_RNA_FWD_reads.fastq.gz,cond2_rep2_RNA_IDX_reads.fastq.gz,cond2_rep2_RNA_REV_reads.fastq.gz"
   ]
  },
  {
   "cell_type": "markdown",
   "id": "01a55301-c3ed-4ebe-b2fd-0bf5e4d5c42f",
   "metadata": {},
   "source": [
    "## Transfer experiment.csv to wynton"
   ]
  },
  {
   "cell_type": "markdown",
   "id": "088b565e-498a-4aab-b1f6-9a9cbb43bd57",
   "metadata": {},
   "source": [
    "- place in ./DATAPATH/count (see Step 4 in this notebook)"
   ]
  },
  {
   "cell_type": "markdown",
   "id": "d76f849d-fafd-443b-83d5-b24b50ee7b75",
   "metadata": {},
   "source": [
    "## Submit job to wynton"
   ]
  },
  {
   "cell_type": "markdown",
   "id": "d1efebe0-9243-4885-9959-36465bed34cb",
   "metadata": {},
   "source": [
    "Required inputs:\n",
    "- json file\n",
    "- run_cmd type"
   ]
  },
  {
   "cell_type": "markdown",
   "id": "431c30c7-512e-4504-9e2d-c6ad3e4c9dc0",
   "metadata": {},
   "source": [
    "      cd <<DATAPATH>>\n",
    "      python3 /wynton/group/ahituv/MPRAflow/2_run_cmd.py --json ./config.json  --run_cmd count_cmd"
   ]
  },
  {
   "cell_type": "markdown",
   "id": "facbcb4e-3eae-4b17-b621-90e101185300",
   "metadata": {},
   "source": [
    "# 7.  Troubleshooting "
   ]
  },
  {
   "attachments": {},
   "cell_type": "markdown",
   "id": "5e40dc94-3de7-4462-bdae-b6d2a089dd3f",
   "metadata": {},
   "source": [
    "##### If you do need to troubleshoot, come talk to me. \n",
    "\n",
    "Really, I have spent a lot of time trying to understand and adapt these scripts to wynton. "
   ]
  },
  {
   "cell_type": "markdown",
   "id": "29ffd465-8d00-4e11-804d-6d562173edbf",
   "metadata": {
    "jp-MarkdownHeadingCollapsed": true
   },
   "source": [
    "## Check list"
   ]
  },
  {
   "cell_type": "markdown",
   "id": "dca18134-96b2-4773-8076-bc7e4c90a6ea",
   "metadata": {},
   "source": [
    "1. Fastq files specified appropriately?\n",
    "    2. R1 = forward read\n",
    "    3. R2 = barcode/UMI read\n",
    "    4. R3 = common I5 read (association sequencing only) | reverse read (count sequencing only)\n",
    "    5. R4 = reverse read (association sequencing only)\n",
    "6. Correct directory?\n",
    "    7. design library fasta in /DATA_PATH/library\n",
    "    8. association fastqs in /DATA_PATH/assoc\n",
    "    9. count fastqs in /DATA_PATH/count\n",
    "10. Inspect ./qsub/log/JOBNUMBER.output.txt\n",
    "    8. MemoryError - Enough memory?\n",
    "        9. find step from output.txt with memorry error\n",
    "        10. query assoc.nf, count.nf file to find when that step is run\n",
    "        11. under process, change label from \"shorttime\"|\"longtime\" to \"shorthighmem\" or \"highmem\" (see MPRAflow/conf/cluster.config for more info)\n",
    "\n",
    "                e.g.\n",
    "                process 'dna_rna_merge'{\n",
    "                    label 'longtime'  # CHANGE HERE\n",
    "                    publishDir \"$params.outdir/$cond/$rep\", mode:'copy'\n",
    "                   ...\n",
    "      \n",
    " "
   ]
  },
  {
   "cell_type": "markdown",
   "id": "cacc4727-89e0-4739-8ecf-024c9c6572dc",
   "metadata": {
    "jp-MarkdownHeadingCollapsed": true
   },
   "source": [
    "## Help! Novogene sequencing files"
   ]
  },
  {
   "cell_type": "markdown",
   "id": "a187d3a3-5494-47b5-809d-80fda710bb4f",
   "metadata": {},
   "source": [
    "### Association sequencing files from Novogene??\n",
    "\n",
    "These are typical naming conventions for Novogene, but check the fastq files to be sure! \n",
    "- R1.fastq.gz - forward sequence read\n",
    "- R2.fastq.gz - barcode sequence read\n",
    "- R3.fastq.gz is common i5 GCCAGCGCCG\n",
    "- R4.fastq.gz - reverse or paired-end sequence read\n",
    "\n",
    "##### NOTE: Don't break the code! If your fastq files don't follow this convention, I would rename them to match the R1, R2, R3, R4 order above. \n",
    "\n",
    "- Step 1 - run in command line, one-by-one:\n",
    "    \n",
    "        zmore *R1.fastq.gz | head -n 2\n",
    "        zmore *R2.fastq.gz | head -n 2\n",
    "        zmore *R3.fastq.gz | head -n 2\n",
    "        zmore *R4.fastq.gz | head -n 2\n",
    "        \n",
    "    \n",
    "\n",
    "- Step 2 - read second line with nucleotide sequence,\n",
    "    - paired-end read: sequence is  ~15 bp long\n",
    "    - barcode: sequence is ~15 bp long\n",
    "    - i5 common sequence: 'GCCAGCGCCG'\n",
    "\n",
    "#### How do I check which fastq file is which sequencing read?\n",
    "\n",
    "- Step 1 - run in command line, one-by-one:\n",
    "    \n",
    "        zmore R1.fastq.gz | head -n 2\n",
    "        zmore R2.fastq.gz | head -n 2\n",
    "        zmore R3.fastq.gz | head -n 2\n",
    "        zmore R4.fastq.gz | head -n 2\n",
    "  \n",
    "- Step 2 - read second line with nucleotide sequence,\n",
    "\n",
    "    paired-end read: sequence is ~150 bp long\n",
    "    barcode: sequence is ~15 bp long\n",
    "    common i5: sequence is 'GCCAGCGCCG'\n",
    "\n",
    "    "
   ]
  },
  {
   "cell_type": "markdown",
   "id": "79b77f25-cdc0-4f63-8b6d-c9f8b7b89444",
   "metadata": {},
   "source": [
    "### Count sequencing files from Novogene??\n",
    "\n",
    "- One demultiplexed experiment = nreps*2 fastq files \n",
    "    - e.g. one experiment w 3 replicates: DNA fastq N=3, RNA fastq N=3\n",
    "\n",
    "For each DNA|RNA rep sequencing: (1) forward barcode fastq, (1) UMI fastq, (1) reverse barcode fastq\n",
    "\n",
    "These are typical naming conventions for Novogene, but check the fastq files to be sure! \n",
    "- R1.fastq.gz - forward barcode reads\n",
    "- R2.fastq.gz - UMI read\n",
    "- R3.fastq.gz - reverse or paired-end barcode read\n",
    "\n",
    "##### NOTE: Don't break the code! If your fastq files don't follow this convention, I would rename them to match the R1, R2, R3, R4 order above. \n",
    "\n",
    "#### How do I check which fastq file is which sequencing read?\n",
    "\n",
    "- Step 1 - run in command line, one-by-one:\n",
    "    \n",
    "        zmore R1.fastq.gz | head -n 2\n",
    "        zmore R2.fastq.gz | head -n 2\n",
    "        zmore R3.fastq.gz | head -n 2\n",
    "        \n",
    "    \n",
    "\n",
    "- Step 2 - read second line with nucleotide sequence,\n",
    "    - paired-end read: sequence is  ~15 bp long\n",
    "    - UMI: sequence is ~15 bp long"
   ]
  },
  {
   "cell_type": "code",
   "execution_count": null,
   "id": "85e2ba49-3c49-463d-8a1c-4d8cd5c31499",
   "metadata": {},
   "outputs": [],
   "source": []
  }
 ],
 "metadata": {
  "kernelspec": {
   "display_name": "Python (mamba)",
   "language": "python",
   "name": "mamba"
  },
  "language_info": {
   "codemirror_mode": {
    "name": "ipython",
    "version": 3
   },
   "file_extension": ".py",
   "mimetype": "text/x-python",
   "name": "python",
   "nbconvert_exporter": "python",
   "pygments_lexer": "ipython3",
   "version": "3.9.16"
  },
  "toc": {
   "base_numbering": 1,
   "nav_menu": {},
   "number_sections": true,
   "sideBar": true,
   "skip_h1_title": false,
   "title_cell": "Table of Contents",
   "title_sidebar": "Contents",
   "toc_cell": false,
   "toc_position": {},
   "toc_section_display": true,
   "toc_window_display": false
  },
  "varInspector": {
   "cols": {
    "lenName": 16,
    "lenType": 16,
    "lenVar": 40
   },
   "kernels_config": {
    "python": {
     "delete_cmd_postfix": "",
     "delete_cmd_prefix": "del ",
     "library": "var_list.py",
     "varRefreshCmd": "print(var_dic_list())"
    },
    "r": {
     "delete_cmd_postfix": ") ",
     "delete_cmd_prefix": "rm(",
     "library": "var_list.r",
     "varRefreshCmd": "cat(var_dic_list()) "
    }
   },
   "types_to_exclude": [
    "module",
    "function",
    "builtin_function_or_method",
    "instance",
    "_Feature"
   ],
   "window_display": false
  }
 },
 "nbformat": 4,
 "nbformat_minor": 5
}
