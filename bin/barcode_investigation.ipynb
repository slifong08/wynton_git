{
 "cells": [
  {
   "cell_type": "code",
   "execution_count": 1,
   "id": "f32f10a6",
   "metadata": {
    "ExecuteTime": {
     "end_time": "2023-09-07T23:29:03.467722Z",
     "start_time": "2023-09-07T23:29:00.591969Z"
    }
   },
   "outputs": [],
   "source": [
    "from Bio.SeqIO.FastaIO import SimpleFastaParser\n",
    "import os, sys\n",
    "import pandas as pd\n",
    "import pyarrow"
   ]
  },
  {
   "cell_type": "markdown",
   "id": "97535429",
   "metadata": {},
   "source": [
    "# MPRAFlow"
   ]
  },
  {
   "cell_type": "code",
   "execution_count": null,
   "id": "5ee3ae6a",
   "metadata": {
    "ExecuteTime": {
     "end_time": "2023-09-07T23:29:05.309851Z",
     "start_time": "2023-09-07T23:29:05.309825Z"
    }
   },
   "outputs": [],
   "source": [
    "PATH = \"/wynton/group/ahituv/fongsl/src/MPRAflow\"\n",
    "FILE = os.path.join(PATH, \"null_mpra_barcodes_per_candidate-no_repeats-no_jackpots.feather\")"
   ]
  },
  {
   "cell_type": "code",
   "execution_count": 3,
   "id": "af5ab7eb",
   "metadata": {
    "ExecuteTime": {
     "end_time": "2023-09-07T23:29:05.830250Z",
     "start_time": "2023-09-07T23:29:05.623265Z"
    }
   },
   "outputs": [
    {
     "data": {
      "text/html": [
       "<div>\n",
       "<style scoped>\n",
       "    .dataframe tbody tr th:only-of-type {\n",
       "        vertical-align: middle;\n",
       "    }\n",
       "\n",
       "    .dataframe tbody tr th {\n",
       "        vertical-align: top;\n",
       "    }\n",
       "\n",
       "    .dataframe thead th {\n",
       "        text-align: right;\n",
       "    }\n",
       "</style>\n",
       "<table border=\"1\" class=\"dataframe\">\n",
       "  <thead>\n",
       "    <tr style=\"text-align: right;\">\n",
       "      <th></th>\n",
       "      <th>coord</th>\n",
       "      <th>n_barcodes</th>\n",
       "    </tr>\n",
       "  </thead>\n",
       "  <tbody>\n",
       "    <tr>\n",
       "      <th>0</th>\n",
       "      <td>15-firstorder.63414|WTC11_seq51996_F|inactive</td>\n",
       "      <td>193</td>\n",
       "    </tr>\n",
       "    <tr>\n",
       "      <th>1</th>\n",
       "      <td>15-firstorder.2355935|HepG2_DNasePeakNoPromote...</td>\n",
       "      <td>149</td>\n",
       "    </tr>\n",
       "    <tr>\n",
       "      <th>2</th>\n",
       "      <td>15-firstorder.1412646|K562_peak57048|inactive</td>\n",
       "      <td>300</td>\n",
       "    </tr>\n",
       "    <tr>\n",
       "      <th>3</th>\n",
       "      <td>15-firstorder.192228|WTC11_seq41747_F|inactive</td>\n",
       "      <td>256</td>\n",
       "    </tr>\n",
       "    <tr>\n",
       "      <th>4</th>\n",
       "      <td>15-firstorder.1426742|HepG2_DNasePeakNoPromote...</td>\n",
       "      <td>305</td>\n",
       "    </tr>\n",
       "  </tbody>\n",
       "</table>\n",
       "</div>"
      ],
      "text/plain": [
       "                                               coord  n_barcodes\n",
       "0      15-firstorder.63414|WTC11_seq51996_F|inactive         193\n",
       "1  15-firstorder.2355935|HepG2_DNasePeakNoPromote...         149\n",
       "2      15-firstorder.1412646|K562_peak57048|inactive         300\n",
       "3     15-firstorder.192228|WTC11_seq41747_F|inactive         256\n",
       "4  15-firstorder.1426742|HepG2_DNasePeakNoPromote...         305"
      ]
     },
     "execution_count": 3,
     "metadata": {},
     "output_type": "execute_result"
    }
   ],
   "source": [
    "df = pd.read_feather(FILE)\n",
    "\n",
    "df.head()"
   ]
  },
  {
   "cell_type": "code",
   "execution_count": 4,
   "id": "cf975c0d",
   "metadata": {
    "ExecuteTime": {
     "end_time": "2023-09-07T23:29:08.249912Z",
     "start_time": "2023-09-07T23:29:08.244485Z"
    }
   },
   "outputs": [
    {
     "data": {
      "text/plain": [
       "10563139"
      ]
     },
     "execution_count": 4,
     "metadata": {},
     "output_type": "execute_result"
    }
   ],
   "source": [
    "df[\"n_barcodes\"].sum()"
   ]
  },
  {
   "cell_type": "code",
   "execution_count": 5,
   "id": "5732112b",
   "metadata": {
    "ExecuteTime": {
     "end_time": "2023-09-07T23:29:09.536924Z",
     "start_time": "2023-09-07T23:29:09.521539Z"
    }
   },
   "outputs": [
    {
     "data": {
      "text/html": [
       "<div>\n",
       "<style scoped>\n",
       "    .dataframe tbody tr th:only-of-type {\n",
       "        vertical-align: middle;\n",
       "    }\n",
       "\n",
       "    .dataframe tbody tr th {\n",
       "        vertical-align: top;\n",
       "    }\n",
       "\n",
       "    .dataframe thead th {\n",
       "        text-align: right;\n",
       "    }\n",
       "</style>\n",
       "<table border=\"1\" class=\"dataframe\">\n",
       "  <thead>\n",
       "    <tr style=\"text-align: right;\">\n",
       "      <th></th>\n",
       "      <th>n_barcodes</th>\n",
       "    </tr>\n",
       "  </thead>\n",
       "  <tbody>\n",
       "    <tr>\n",
       "      <th>count</th>\n",
       "      <td>56504.000000</td>\n",
       "    </tr>\n",
       "    <tr>\n",
       "      <th>mean</th>\n",
       "      <td>186.944977</td>\n",
       "    </tr>\n",
       "    <tr>\n",
       "      <th>std</th>\n",
       "      <td>120.585530</td>\n",
       "    </tr>\n",
       "    <tr>\n",
       "      <th>min</th>\n",
       "      <td>0.000000</td>\n",
       "    </tr>\n",
       "    <tr>\n",
       "      <th>25%</th>\n",
       "      <td>105.000000</td>\n",
       "    </tr>\n",
       "    <tr>\n",
       "      <th>50%</th>\n",
       "      <td>165.000000</td>\n",
       "    </tr>\n",
       "    <tr>\n",
       "      <th>75%</th>\n",
       "      <td>244.000000</td>\n",
       "    </tr>\n",
       "    <tr>\n",
       "      <th>max</th>\n",
       "      <td>1124.000000</td>\n",
       "    </tr>\n",
       "  </tbody>\n",
       "</table>\n",
       "</div>"
      ],
      "text/plain": [
       "         n_barcodes\n",
       "count  56504.000000\n",
       "mean     186.944977\n",
       "std      120.585530\n",
       "min        0.000000\n",
       "25%      105.000000\n",
       "50%      165.000000\n",
       "75%      244.000000\n",
       "max     1124.000000"
      ]
     },
     "execution_count": 5,
     "metadata": {},
     "output_type": "execute_result"
    }
   ],
   "source": [
    "df.describe()"
   ]
  },
  {
   "cell_type": "code",
   "execution_count": 6,
   "id": "9acbe8fe",
   "metadata": {
    "ExecuteTime": {
     "end_time": "2023-09-07T23:29:12.937281Z",
     "start_time": "2023-09-07T23:29:12.918376Z"
    }
   },
   "outputs": [
    {
     "data": {
      "text/plain": [
       "56504"
      ]
     },
     "execution_count": 6,
     "metadata": {},
     "output_type": "execute_result"
    }
   ],
   "source": [
    "len(df['coord'].unique())"
   ]
  },
  {
   "cell_type": "code",
   "execution_count": 7,
   "id": "c7b80782",
   "metadata": {
    "ExecuteTime": {
     "end_time": "2023-09-07T23:29:16.954143Z",
     "start_time": "2023-09-07T23:29:16.850834Z"
    }
   },
   "outputs": [
    {
     "data": {
      "text/html": [
       "<div>\n",
       "<style scoped>\n",
       "    .dataframe tbody tr th:only-of-type {\n",
       "        vertical-align: middle;\n",
       "    }\n",
       "\n",
       "    .dataframe tbody tr th {\n",
       "        vertical-align: top;\n",
       "    }\n",
       "\n",
       "    .dataframe thead th {\n",
       "        text-align: right;\n",
       "    }\n",
       "</style>\n",
       "<table border=\"1\" class=\"dataframe\">\n",
       "  <thead>\n",
       "    <tr style=\"text-align: right;\">\n",
       "      <th></th>\n",
       "      <th>coord</th>\n",
       "      <th>n_barcodes</th>\n",
       "      <th>null_id</th>\n",
       "      <th>peak_id</th>\n",
       "      <th>activity</th>\n",
       "    </tr>\n",
       "  </thead>\n",
       "  <tbody>\n",
       "    <tr>\n",
       "      <th>0</th>\n",
       "      <td>15-firstorder.63414|WTC11_seq51996_F|inactive</td>\n",
       "      <td>193</td>\n",
       "      <td>15-firstorder.63414</td>\n",
       "      <td>WTC11_seq51996_F</td>\n",
       "      <td>inactive</td>\n",
       "    </tr>\n",
       "    <tr>\n",
       "      <th>1</th>\n",
       "      <td>15-firstorder.2355935|HepG2_DNasePeakNoPromote...</td>\n",
       "      <td>149</td>\n",
       "      <td>15-firstorder.2355935</td>\n",
       "      <td>HepG2_DNasePeakNoPromoter50640</td>\n",
       "      <td>inactive</td>\n",
       "    </tr>\n",
       "    <tr>\n",
       "      <th>2</th>\n",
       "      <td>15-firstorder.1412646|K562_peak57048|inactive</td>\n",
       "      <td>300</td>\n",
       "      <td>15-firstorder.1412646</td>\n",
       "      <td>K562_peak57048</td>\n",
       "      <td>inactive</td>\n",
       "    </tr>\n",
       "    <tr>\n",
       "      <th>3</th>\n",
       "      <td>15-firstorder.192228|WTC11_seq41747_F|inactive</td>\n",
       "      <td>256</td>\n",
       "      <td>15-firstorder.192228</td>\n",
       "      <td>WTC11_seq41747_F</td>\n",
       "      <td>inactive</td>\n",
       "    </tr>\n",
       "    <tr>\n",
       "      <th>4</th>\n",
       "      <td>15-firstorder.1426742|HepG2_DNasePeakNoPromote...</td>\n",
       "      <td>305</td>\n",
       "      <td>15-firstorder.1426742</td>\n",
       "      <td>HepG2_DNasePeakNoPromoter11362</td>\n",
       "      <td>inactive</td>\n",
       "    </tr>\n",
       "  </tbody>\n",
       "</table>\n",
       "</div>"
      ],
      "text/plain": [
       "                                               coord  n_barcodes  \\\n",
       "0      15-firstorder.63414|WTC11_seq51996_F|inactive         193   \n",
       "1  15-firstorder.2355935|HepG2_DNasePeakNoPromote...         149   \n",
       "2      15-firstorder.1412646|K562_peak57048|inactive         300   \n",
       "3     15-firstorder.192228|WTC11_seq41747_F|inactive         256   \n",
       "4  15-firstorder.1426742|HepG2_DNasePeakNoPromote...         305   \n",
       "\n",
       "                 null_id                         peak_id  activity  \n",
       "0    15-firstorder.63414                WTC11_seq51996_F  inactive  \n",
       "1  15-firstorder.2355935  HepG2_DNasePeakNoPromoter50640  inactive  \n",
       "2  15-firstorder.1412646                  K562_peak57048  inactive  \n",
       "3   15-firstorder.192228                WTC11_seq41747_F  inactive  \n",
       "4  15-firstorder.1426742  HepG2_DNasePeakNoPromoter11362  inactive  "
      ]
     },
     "execution_count": 7,
     "metadata": {},
     "output_type": "execute_result"
    }
   ],
   "source": [
    "df[[\"null_id\", \"peak_id\", \"activity\"]] = df[\"coord\"].str.split('|', expand=True)\n",
    "\n",
    "df.head()"
   ]
  },
  {
   "cell_type": "code",
   "execution_count": 9,
   "id": "c67d9edb",
   "metadata": {
    "ExecuteTime": {
     "end_time": "2023-09-07T23:29:30.700995Z",
     "start_time": "2023-09-07T23:29:30.672641Z"
    }
   },
   "outputs": [],
   "source": [
    "df.loc[df[\"coord\"].str.contains(\"C:SLEA\"), \"activity\"] = \"ctrl\""
   ]
  },
  {
   "cell_type": "code",
   "execution_count": 10,
   "id": "e94278da",
   "metadata": {
    "ExecuteTime": {
     "end_time": "2023-09-07T23:29:33.266953Z",
     "start_time": "2023-09-07T23:29:33.199597Z"
    }
   },
   "outputs": [
    {
     "data": {
      "text/html": [
       "<div>\n",
       "<style scoped>\n",
       "    .dataframe tbody tr th:only-of-type {\n",
       "        vertical-align: middle;\n",
       "    }\n",
       "\n",
       "    .dataframe tbody tr th {\n",
       "        vertical-align: top;\n",
       "    }\n",
       "\n",
       "    .dataframe thead th {\n",
       "        text-align: right;\n",
       "    }\n",
       "</style>\n",
       "<table border=\"1\" class=\"dataframe\">\n",
       "  <thead>\n",
       "    <tr style=\"text-align: right;\">\n",
       "      <th></th>\n",
       "      <th>count</th>\n",
       "      <th>mean</th>\n",
       "      <th>std</th>\n",
       "      <th>min</th>\n",
       "      <th>25%</th>\n",
       "      <th>50%</th>\n",
       "      <th>75%</th>\n",
       "      <th>max</th>\n",
       "    </tr>\n",
       "    <tr>\n",
       "      <th>activity</th>\n",
       "      <th></th>\n",
       "      <th></th>\n",
       "      <th></th>\n",
       "      <th></th>\n",
       "      <th></th>\n",
       "      <th></th>\n",
       "      <th></th>\n",
       "      <th></th>\n",
       "    </tr>\n",
       "  </thead>\n",
       "  <tbody>\n",
       "    <tr>\n",
       "      <th>active</th>\n",
       "      <td>1188.0</td>\n",
       "      <td>1.439394</td>\n",
       "      <td>3.130769</td>\n",
       "      <td>0.0</td>\n",
       "      <td>1.0</td>\n",
       "      <td>1.0</td>\n",
       "      <td>1.0</td>\n",
       "      <td>73.0</td>\n",
       "    </tr>\n",
       "    <tr>\n",
       "      <th>ctrl</th>\n",
       "      <td>51.0</td>\n",
       "      <td>207.274510</td>\n",
       "      <td>145.698604</td>\n",
       "      <td>3.0</td>\n",
       "      <td>137.0</td>\n",
       "      <td>175.0</td>\n",
       "      <td>244.5</td>\n",
       "      <td>944.0</td>\n",
       "    </tr>\n",
       "    <tr>\n",
       "      <th>inactive</th>\n",
       "      <td>54013.0</td>\n",
       "      <td>190.834781</td>\n",
       "      <td>118.630436</td>\n",
       "      <td>0.0</td>\n",
       "      <td>109.0</td>\n",
       "      <td>168.0</td>\n",
       "      <td>246.0</td>\n",
       "      <td>1124.0</td>\n",
       "    </tr>\n",
       "  </tbody>\n",
       "</table>\n",
       "</div>"
      ],
      "text/plain": [
       "            count        mean         std  min    25%    50%    75%     max\n",
       "activity                                                                   \n",
       "active     1188.0    1.439394    3.130769  0.0    1.0    1.0    1.0    73.0\n",
       "ctrl         51.0  207.274510  145.698604  3.0  137.0  175.0  244.5   944.0\n",
       "inactive  54013.0  190.834781  118.630436  0.0  109.0  168.0  246.0  1124.0"
      ]
     },
     "execution_count": 10,
     "metadata": {},
     "output_type": "execute_result"
    }
   ],
   "source": [
    "df.groupby('activity')[\"n_barcodes\"].describe()"
   ]
  },
  {
   "cell_type": "markdown",
   "id": "688922af",
   "metadata": {},
   "source": [
    "# investigate design"
   ]
  },
  {
   "cell_type": "code",
   "execution_count": 40,
   "id": "f21bce42",
   "metadata": {
    "ExecuteTime": {
     "end_time": "2023-09-06T00:05:36.950389Z",
     "start_time": "2023-09-06T00:05:36.946757Z"
    }
   },
   "outputs": [],
   "source": [
    "DESIGN = \"/wynton/group/ahituv/fongsl/src/MPRAflow/work/e8/06701317043d44bccc7e92326b2e79/design_rmIllegalChars.fa\""
   ]
  },
  {
   "cell_type": "code",
   "execution_count": 41,
   "id": "53d916ff",
   "metadata": {
    "ExecuteTime": {
     "end_time": "2023-09-06T00:05:37.698729Z",
     "start_time": "2023-09-06T00:05:37.690184Z"
    }
   },
   "outputs": [
    {
     "name": "stdout",
     "output_type": "stream",
     "text": [
      "AGGACCGGATCAACT CATTGCGTGAACCGA endog|HepG2_DNasePeakNoPromoter10535|active\n",
      "AGGACCGGATCAACT CATTGCGTGAACCGA endog|HepG2_DNasePeakNoPromoter10586|active\n",
      "AGGACCGGATCAACT CATTGCGTGAACCGA endog|HepG2_DNasePeakNoPromoter10714|inactive\n",
      "AGGACCGGATCAACT CATTGCGTGAACCGA endog|HepG2_DNasePeakNoPromoter10849|inactive\n",
      "AGGACCGGATCAACT CATTGCGTGAACCGA endog|HepG2_DNasePeakNoPromoter11263|active\n",
      "AGGACCGGATCAACT CATTGCGTGAACCGA endog|HepG2_DNasePeakNoPromoter11270|active\n",
      "AGGACCGGATCAACT CATTGCGTGAACCGA endog|HepG2_DNasePeakNoPromoter11362|inactive\n",
      "AGGACCGGATCAACT CATTGCGTGAACCGA endog|HepG2_DNasePeakNoPromoter12111|inactive\n",
      "AGGACCGGATCAACT CATTGCGTGAACCGA endog|HepG2_DNasePeakNoPromoter1269|active\n",
      "AGGACCGGATCAACT CATTGCGTGAACCGA endog|HepG2_DNasePeakNoPromoter13177|active\n",
      "AGGACCGGATCAACT CATTGCGTGAACCGA endog|HepG2_DNasePeakNoPromoter14822|active\n",
      "AGGACCGGATCAACT CATTGCGTGAACCGA endog|HepG2_DNasePeakNoPromoter15346|inactive\n",
      "AGGACCGGATCAACT CATTGCGTGAACCGA endog|HepG2_DNasePeakNoPromoter16515|inactive\n",
      "AGGACCGGATCAACT CATTGCGTGAACCGA endog|HepG2_DNasePeakNoPromoter18426|inactive\n",
      "AGGACCGGATCAACT CATTGCGTGAACCGA endog|HepG2_DNasePeakNoPromoter19087|inactive\n",
      "AGGACCGGATCAACT CATTGCGTGAACCGA endog|HepG2_DNasePeakNoPromoter19344|active\n",
      "AGGACCGGATCAACT CATTGCGTGAACCGA endog|HepG2_DNasePeakNoPromoter202|inactive\n",
      "AGGACCGGATCAACT CATTGCGTGAACCGA endog|HepG2_DNasePeakNoPromoter20370|active\n",
      "AGGACCGGATCAACT CATTGCGTGAACCGA endog|HepG2_DNasePeakNoPromoter20605|inactive\n",
      "AGGACCGGATCAACT CATTGCGTGAACCGA endog|HepG2_DNasePeakNoPromoter21364|inactive\n",
      "AGGACCGGATCAACT CATTGCGTGAACCGA endog|HepG2_DNasePeakNoPromoter22808|inactive\n",
      "AGGACCGGATCAACT CATTGCGTGAACCGA endog|HepG2_DNasePeakNoPromoter23895|active\n",
      "AGGACCGGATCAACT CATTGCGTGAACCGA endog|HepG2_DNasePeakNoPromoter23953|inactive\n",
      "AGGACCGGATCAACT CATTGCGTGAACCGA endog|HepG2_DNasePeakNoPromoter24031|inactive\n",
      "AGGACCGGATCAACT CATTGCGTGAACCGA endog|HepG2_DNasePeakNoPromoter24275|inactive\n",
      "AGGACCGGATCAACT CATTGCGTGAACCGA endog|HepG2_DNasePeakNoPromoter24301|inactive\n",
      "AGGACCGGATCAACT CATTGCGTGAACCGA endog|HepG2_DNasePeakNoPromoter24682|active\n",
      "AGGACCGGATCAACT CATTGCGTGAACCGA endog|HepG2_DNasePeakNoPromoter24858|inactive\n",
      "AGGACCGGATCAACT CATTGCGTGAACCGA endog|HepG2_DNasePeakNoPromoter25226|active\n",
      "AGGACCGGATCAACT CATTGCGTGAACCGA endog|HepG2_DNasePeakNoPromoter25317|inactive\n",
      "AGGACCGGATCAACT CATTGCGTGAACCGA endog|HepG2_DNasePeakNoPromoter2575|inactive\n",
      "AGGACCGGATCAACT CATTGCGTGAACCGA endog|HepG2_DNasePeakNoPromoter26204|active\n",
      "AGGACCGGATCAACT CATTGCGTGAACCGA endog|HepG2_DNasePeakNoPromoter26559|inactive\n",
      "AGGACCGGATCAACT CATTGCGTGAACCGA endog|HepG2_DNasePeakNoPromoter27404|active\n",
      "AGGACCGGATCAACT CATTGCGTGAACCGA endog|HepG2_DNasePeakNoPromoter28451|active\n",
      "AGGACCGGATCAACT CATTGCGTGAACCGA endog|HepG2_DNasePeakNoPromoter28484|active\n",
      "AGGACCGGATCAACT CATTGCGTGAACCGA endog|HepG2_DNasePeakNoPromoter28606|active\n",
      "AGGACCGGATCAACT CATTGCGTGAACCGA endog|HepG2_DNasePeakNoPromoter28663|active\n",
      "AGGACCGGATCAACT CATTGCGTGAACCGA endog|HepG2_DNasePeakNoPromoter28813|active\n",
      "AGGACCGGATCAACT CATTGCGTGAACCGA endog|HepG2_DNasePeakNoPromoter28881|inactive\n",
      "AGGACCGGATCAACT CATTGCGTGAACCGA endog|HepG2_DNasePeakNoPromoter29008|active\n",
      "AGGACCGGATCAACT CATTGCGTGAACCGA endog|HepG2_DNasePeakNoPromoter29682|active\n",
      "AGGACCGGATCAACT CATTGCGTGAACCGA endog|HepG2_DNasePeakNoPromoter29923|active\n",
      "AGGACCGGATCAACT CATTGCGTGAACCGA endog|HepG2_DNasePeakNoPromoter30527|inactive\n",
      "AGGACCGGATCAACT CATTGCGTGAACCGA endog|HepG2_DNasePeakNoPromoter31378|active\n",
      "AGGACCGGATCAACT CATTGCGTGAACCGA endog|HepG2_DNasePeakNoPromoter32252|inactive\n",
      "AGGACCGGATCAACT CATTGCGTGAACCGA endog|HepG2_DNasePeakNoPromoter32351|inactive\n",
      "AGGACCGGATCAACT CATTGCGTGAACCGA endog|HepG2_DNasePeakNoPromoter33310|inactive\n",
      "AGGACCGGATCAACT CATTGCGTGAACCGA endog|HepG2_DNasePeakNoPromoter33567|inactive\n",
      "AGGACCGGATCAACT CATTGCGTGAACCGA endog|HepG2_DNasePeakNoPromoter33625|active\n",
      "AGGACCGGATCAACT CATTGCGTGAACCGA endog|HepG2_DNasePeakNoPromoter36677|inactive\n",
      "AGGACCGGATCAACT CATTGCGTGAACCGA endog|HepG2_DNasePeakNoPromoter36861|inactive\n",
      "AGGACCGGATCAACT CATTGCGTGAACCGA endog|HepG2_DNasePeakNoPromoter3695|inactive\n",
      "AGGACCGGATCAACT CATTGCGTGAACCGA endog|HepG2_DNasePeakNoPromoter37131|active\n",
      "AGGACCGGATCAACT CATTGCGTGAACCGA endog|HepG2_DNasePeakNoPromoter37241|inactive\n",
      "AGGACCGGATCAACT CATTGCGTGAACCGA endog|HepG2_DNasePeakNoPromoter37871|active\n",
      "AGGACCGGATCAACT CATTGCGTGAACCGA endog|HepG2_DNasePeakNoPromoter38147|active\n",
      "AGGACCGGATCAACT CATTGCGTGAACCGA endog|HepG2_DNasePeakNoPromoter38209|active\n",
      "AGGACCGGATCAACT CATTGCGTGAACCGA endog|HepG2_DNasePeakNoPromoter38693|active\n",
      "AGGACCGGATCAACT CATTGCGTGAACCGA endog|HepG2_DNasePeakNoPromoter38861|inactive\n",
      "AGGACCGGATCAACT CATTGCGTGAACCGA endog|HepG2_DNasePeakNoPromoter39646|inactive\n",
      "AGGACCGGATCAACT CATTGCGTGAACCGA endog|HepG2_DNasePeakNoPromoter40161|active\n",
      "AGGACCGGATCAACT CATTGCGTGAACCGA endog|HepG2_DNasePeakNoPromoter40177|active\n",
      "AGGACCGGATCAACT CATTGCGTGAACCGA endog|HepG2_DNasePeakNoPromoter40230|active\n",
      "AGGACCGGATCAACT CATTGCGTGAACCGA endog|HepG2_DNasePeakNoPromoter40683|active\n",
      "AGGACCGGATCAACT CATTGCGTGAACCGA endog|HepG2_DNasePeakNoPromoter40804|inactive\n",
      "AGGACCGGATCAACT CATTGCGTGAACCGA endog|HepG2_DNasePeakNoPromoter41238|inactive\n",
      "AGGACCGGATCAACT CATTGCGTGAACCGA endog|HepG2_DNasePeakNoPromoter41988|active\n",
      "AGGACCGGATCAACT CATTGCGTGAACCGA endog|HepG2_DNasePeakNoPromoter42196|active\n",
      "AGGACCGGATCAACT CATTGCGTGAACCGA endog|HepG2_DNasePeakNoPromoter42909|inactive\n",
      "AGGACCGGATCAACT CATTGCGTGAACCGA endog|HepG2_DNasePeakNoPromoter42966|active\n",
      "AGGACCGGATCAACT CATTGCGTGAACCGA endog|HepG2_DNasePeakNoPromoter44101|inactive\n",
      "AGGACCGGATCAACT CATTGCGTGAACCGA endog|HepG2_DNasePeakNoPromoter44233|inactive\n",
      "AGGACCGGATCAACT CATTGCGTGAACCGA endog|HepG2_DNasePeakNoPromoter44820|inactive\n",
      "AGGACCGGATCAACT CATTGCGTGAACCGA endog|HepG2_DNasePeakNoPromoter45290|inactive\n",
      "AGGACCGGATCAACT CATTGCGTGAACCGA endog|HepG2_DNasePeakNoPromoter46465|active\n",
      "AGGACCGGATCAACT CATTGCGTGAACCGA endog|HepG2_DNasePeakNoPromoter46899|inactive\n",
      "AGGACCGGATCAACT CATTGCGTGAACCGA endog|HepG2_DNasePeakNoPromoter47704|inactive\n",
      "AGGACCGGATCAACT CATTGCGTGAACCGA endog|HepG2_DNasePeakNoPromoter48222|active\n",
      "AGGACCGGATCAACT CATTGCGTGAACCGA endog|HepG2_DNasePeakNoPromoter48324|inactive\n",
      "AGGACCGGATCAACT CATTGCGTGAACCGA endog|HepG2_DNasePeakNoPromoter4841|inactive\n",
      "AGGACCGGATCAACT CATTGCGTGAACCGA endog|HepG2_DNasePeakNoPromoter48735|inactive\n",
      "AGGACCGGATCAACT CATTGCGTGAACCGA endog|HepG2_DNasePeakNoPromoter500|active\n",
      "AGGACCGGATCAACT CATTGCGTGAACCGA endog|HepG2_DNasePeakNoPromoter50040|inactive\n",
      "AGGACCGGATCAACT CATTGCGTGAACCGA endog|HepG2_DNasePeakNoPromoter50594|inactive\n",
      "AGGACCGGATCAACT CATTGCGTGAACCGA endog|HepG2_DNasePeakNoPromoter50640|inactive\n",
      "AGGACCGGATCAACT CATTGCGTGAACCGA endog|HepG2_DNasePeakNoPromoter50676|inactive\n",
      "AGGACCGGATCAACT CATTGCGTGAACCGA endog|HepG2_DNasePeakNoPromoter5137|inactive\n",
      "AGGACCGGATCAACT CATTGCGTGAACCGA endog|HepG2_DNasePeakNoPromoter51974|active\n",
      "AGGACCGGATCAACT CATTGCGTGAACCGA endog|HepG2_DNasePeakNoPromoter5201|inactive\n",
      "AGGACCGGATCAACT CATTGCGTGAACCGA endog|HepG2_DNasePeakNoPromoter52195|inactive\n",
      "AGGACCGGATCAACT CATTGCGTGAACCGA endog|HepG2_DNasePeakNoPromoter53344|inactive\n",
      "AGGACCGGATCAACT CATTGCGTGAACCGA endog|HepG2_DNasePeakNoPromoter53479|inactive\n",
      "AGGACCGGATCAACT CATTGCGTGAACCGA endog|HepG2_DNasePeakNoPromoter53861|inactive\n",
      "AGGACCGGATCAACT CATTGCGTGAACCGA endog|HepG2_DNasePeakNoPromoter53900|inactive\n",
      "AGGACCGGATCAACT CATTGCGTGAACCGA endog|HepG2_DNasePeakNoPromoter54925|inactive\n",
      "AGGACCGGATCAACT CATTGCGTGAACCGA endog|HepG2_DNasePeakNoPromoter56777|inactive\n",
      "AGGACCGGATCAACT CATTGCGTGAACCGA endog|HepG2_DNasePeakNoPromoter58258|active\n",
      "AGGACCGGATCAACT CATTGCGTGAACCGA endog|HepG2_DNasePeakNoPromoter58580|inactive\n",
      "AGGACCGGATCAACT CATTGCGTGAACCGA endog|HepG2_DNasePeakNoPromoter58688|active\n",
      "AGGACCGGATCAACT CATTGCGTGAACCGA endog|HepG2_DNasePeakNoPromoter58867|inactive\n"
     ]
    }
   ],
   "source": [
    "v = 0\n",
    "with open(DESIGN, \"r\") as reader:\n",
    "    for value in SimpleFastaParser(reader):\n",
    "        name, seq = value\n",
    "        print(seq[:15], seq[-15:], name)\n",
    "        v +=1\n",
    "        if v> 100:\n",
    "            break"
   ]
  },
  {
   "cell_type": "markdown",
   "id": "6d28e5ce",
   "metadata": {},
   "source": [
    "# Sarah's python "
   ]
  },
  {
   "cell_type": "code",
   "execution_count": 16,
   "id": "0f463fa9",
   "metadata": {
    "ExecuteTime": {
     "end_time": "2023-09-07T23:31:05.464077Z",
     "start_time": "2023-09-07T23:31:05.450248Z"
    }
   },
   "outputs": [
    {
     "data": {
      "text/html": [
       "<div>\n",
       "<style scoped>\n",
       "    .dataframe tbody tr th:only-of-type {\n",
       "        vertical-align: middle;\n",
       "    }\n",
       "\n",
       "    .dataframe tbody tr th {\n",
       "        vertical-align: top;\n",
       "    }\n",
       "\n",
       "    .dataframe thead th {\n",
       "        text-align: right;\n",
       "    }\n",
       "</style>\n",
       "<table border=\"1\" class=\"dataframe\">\n",
       "  <thead>\n",
       "    <tr style=\"text-align: right;\">\n",
       "      <th></th>\n",
       "      <th>coord</th>\n",
       "      <th>n_barcodes</th>\n",
       "    </tr>\n",
       "  </thead>\n",
       "  <tbody>\n",
       "    <tr>\n",
       "      <th>0</th>\n",
       "      <td>endog|HepG2_DNasePeakNoPromoter10535|active</td>\n",
       "      <td>10342951</td>\n",
       "    </tr>\n",
       "  </tbody>\n",
       "</table>\n",
       "</div>"
      ],
      "text/plain": [
       "                                         coord  n_barcodes\n",
       "0  endog|HepG2_DNasePeakNoPromoter10535|active    10342951"
      ]
     },
     "execution_count": 16,
     "metadata": {},
     "output_type": "execute_result"
    }
   ],
   "source": [
    "PATH = \"/wynton/group/ahituv/fongsl/projects/nullomers/data/20230815_nullomer_MPRA/assoc\"\n",
    "FILE = os.path.join(PATH, \"null_mpra_barcodes_per_candidate-no_repeats-no_jackpots.feather\")\n",
    "\n",
    "df = pd.read_feather(FILE)\n",
    "\n",
    "df.head()"
   ]
  },
  {
   "cell_type": "markdown",
   "id": "f43a7272",
   "metadata": {},
   "source": [
    "# pickle"
   ]
  },
  {
   "cell_type": "code",
   "execution_count": null,
   "id": "668a9e66",
   "metadata": {
    "ExecuteTime": {
     "start_time": "2023-09-07T23:31:07.919Z"
    }
   },
   "outputs": [],
   "source": [
    "PICKLE = pd.read_pickle(os.path.join(PATH, \"null_mpra_coords_to_barcodes.pickle\"))"
   ]
  },
  {
   "cell_type": "code",
   "execution_count": 17,
   "id": "e990b66c",
   "metadata": {
    "ExecuteTime": {
     "end_time": "2023-09-07T23:31:23.338849Z",
     "start_time": "2023-09-07T23:31:07.941480Z"
    }
   },
   "outputs": [],
   "source": [
    "p = pd.DataFrame(PICKLE.items())"
   ]
  },
  {
   "cell_type": "code",
   "execution_count": 32,
   "id": "9ea00cdf",
   "metadata": {
    "ExecuteTime": {
     "end_time": "2023-09-05T23:29:13.355237Z",
     "start_time": "2023-09-05T23:29:13.350435Z"
    }
   },
   "outputs": [],
   "source": [
    "p.columns =[\"bc\", \"n\"]"
   ]
  },
  {
   "cell_type": "code",
   "execution_count": 33,
   "id": "d03fa3e4",
   "metadata": {
    "ExecuteTime": {
     "end_time": "2023-09-05T23:29:14.243768Z",
     "start_time": "2023-09-05T23:29:14.229071Z"
    }
   },
   "outputs": [
    {
     "data": {
      "text/html": [
       "<div>\n",
       "<style scoped>\n",
       "    .dataframe tbody tr th:only-of-type {\n",
       "        vertical-align: middle;\n",
       "    }\n",
       "\n",
       "    .dataframe tbody tr th {\n",
       "        vertical-align: top;\n",
       "    }\n",
       "\n",
       "    .dataframe thead th {\n",
       "        text-align: right;\n",
       "    }\n",
       "</style>\n",
       "<table border=\"1\" class=\"dataframe\">\n",
       "  <thead>\n",
       "    <tr style=\"text-align: right;\">\n",
       "      <th></th>\n",
       "      <th>bc</th>\n",
       "      <th>n</th>\n",
       "    </tr>\n",
       "  </thead>\n",
       "  <tbody>\n",
       "    <tr>\n",
       "      <th>0</th>\n",
       "      <td>15-firstorder.63414|WTC11_seq51996_F|inactive</td>\n",
       "      <td>[AAACATTAGTTTCTT, GAAGAGGGCCAAACC, GCAGTTGTGTA...</td>\n",
       "    </tr>\n",
       "    <tr>\n",
       "      <th>1</th>\n",
       "      <td>15-firstorder.2355935|HepG2_DNasePeakNoPromote...</td>\n",
       "      <td>[TTGGAATGACCAACA, TGACTGAGAAGGCTA, TACTTGGACAT...</td>\n",
       "    </tr>\n",
       "    <tr>\n",
       "      <th>2</th>\n",
       "      <td>15-firstorder.1412646|K562_peak57048|inactive</td>\n",
       "      <td>[TTTCTTTGGGATTAA, ATATTGCTCCCTGCG, TTAAGGAGATG...</td>\n",
       "    </tr>\n",
       "    <tr>\n",
       "      <th>3</th>\n",
       "      <td>15-firstorder.192228|WTC11_seq41747_F|inactive</td>\n",
       "      <td>[CTATGTTATTACAAA, GATCCTACATAGAGT, TACATTACGTG...</td>\n",
       "    </tr>\n",
       "    <tr>\n",
       "      <th>4</th>\n",
       "      <td>15-firstorder.1426742|HepG2_DNasePeakNoPromote...</td>\n",
       "      <td>[GAACTTGTCTGGCTA, CTATGAAAGAGATCC, CAAAACATAGT...</td>\n",
       "    </tr>\n",
       "  </tbody>\n",
       "</table>\n",
       "</div>"
      ],
      "text/plain": [
       "                                                  bc  \\\n",
       "0      15-firstorder.63414|WTC11_seq51996_F|inactive   \n",
       "1  15-firstorder.2355935|HepG2_DNasePeakNoPromote...   \n",
       "2      15-firstorder.1412646|K562_peak57048|inactive   \n",
       "3     15-firstorder.192228|WTC11_seq41747_F|inactive   \n",
       "4  15-firstorder.1426742|HepG2_DNasePeakNoPromote...   \n",
       "\n",
       "                                                   n  \n",
       "0  [AAACATTAGTTTCTT, GAAGAGGGCCAAACC, GCAGTTGTGTA...  \n",
       "1  [TTGGAATGACCAACA, TGACTGAGAAGGCTA, TACTTGGACAT...  \n",
       "2  [TTTCTTTGGGATTAA, ATATTGCTCCCTGCG, TTAAGGAGATG...  \n",
       "3  [CTATGTTATTACAAA, GATCCTACATAGAGT, TACATTACGTG...  \n",
       "4  [GAACTTGTCTGGCTA, CTATGAAAGAGATCC, CAAAACATAGT...  "
      ]
     },
     "execution_count": 33,
     "metadata": {},
     "output_type": "execute_result"
    }
   ],
   "source": [
    "p.head()"
   ]
  },
  {
   "cell_type": "code",
   "execution_count": 34,
   "id": "d57ade80",
   "metadata": {
    "ExecuteTime": {
     "end_time": "2023-09-05T23:29:19.082190Z",
     "start_time": "2023-09-05T23:29:19.065636Z"
    }
   },
   "outputs": [
    {
     "data": {
      "text/plain": [
       "56504"
      ]
     },
     "execution_count": 34,
     "metadata": {},
     "output_type": "execute_result"
    }
   ],
   "source": [
    "len(set(p[\"bc\"]))"
   ]
  },
  {
   "cell_type": "code",
   "execution_count": null,
   "id": "d5e4f007",
   "metadata": {},
   "outputs": [],
   "source": [
    "# there are 10358215 bc"
   ]
  },
  {
   "cell_type": "markdown",
   "id": "886aeca5",
   "metadata": {},
   "source": [
    "# FASTP run "
   ]
  },
  {
   "cell_type": "code",
   "execution_count": 2,
   "id": "c27ea3b6",
   "metadata": {
    "ExecuteTime": {
     "end_time": "2023-09-06T03:39:08.363852Z",
     "start_time": "2023-09-06T03:39:08.359632Z"
    }
   },
   "outputs": [],
   "source": [
    "FP=\"/wynton/group/ahituv/fongsl/projects/nullomers/data/20230815_nullomer_MPRA/assoc_fastp/null_mpra_coords_to_barcodes.pickle\""
   ]
  },
  {
   "cell_type": "code",
   "execution_count": 4,
   "id": "b0cf54f1",
   "metadata": {
    "ExecuteTime": {
     "end_time": "2023-09-06T03:40:28.552003Z",
     "start_time": "2023-09-06T03:40:15.237309Z"
    }
   },
   "outputs": [],
   "source": [
    "pickle = pd.read_pickle(FP)\n",
    "p = pd.DataFrame(pickle.items())"
   ]
  },
  {
   "cell_type": "code",
   "execution_count": 5,
   "id": "902e83eb",
   "metadata": {
    "ExecuteTime": {
     "end_time": "2023-09-06T03:40:31.242063Z",
     "start_time": "2023-09-06T03:40:31.232551Z"
    }
   },
   "outputs": [
    {
     "data": {
      "text/plain": [
       "(1, 2)"
      ]
     },
     "execution_count": 5,
     "metadata": {},
     "output_type": "execute_result"
    }
   ],
   "source": [
    "p.shape"
   ]
  },
  {
   "cell_type": "code",
   "execution_count": 6,
   "id": "93eadffa",
   "metadata": {
    "ExecuteTime": {
     "end_time": "2023-09-06T03:40:33.963344Z",
     "start_time": "2023-09-06T03:40:33.938755Z"
    }
   },
   "outputs": [
    {
     "data": {
      "text/html": [
       "<div>\n",
       "<style scoped>\n",
       "    .dataframe tbody tr th:only-of-type {\n",
       "        vertical-align: middle;\n",
       "    }\n",
       "\n",
       "    .dataframe tbody tr th {\n",
       "        vertical-align: top;\n",
       "    }\n",
       "\n",
       "    .dataframe thead th {\n",
       "        text-align: right;\n",
       "    }\n",
       "</style>\n",
       "<table border=\"1\" class=\"dataframe\">\n",
       "  <thead>\n",
       "    <tr style=\"text-align: right;\">\n",
       "      <th></th>\n",
       "      <th>0</th>\n",
       "      <th>1</th>\n",
       "    </tr>\n",
       "  </thead>\n",
       "  <tbody>\n",
       "    <tr>\n",
       "      <th>0</th>\n",
       "      <td>endog|HepG2_DNasePeakNoPromoter10535|active</td>\n",
       "      <td>[AAACATTAGTTTCTT, TTGGAATGACCAACA, TTTCTTTGGGA...</td>\n",
       "    </tr>\n",
       "  </tbody>\n",
       "</table>\n",
       "</div>"
      ],
      "text/plain": [
       "                                             0  \\\n",
       "0  endog|HepG2_DNasePeakNoPromoter10535|active   \n",
       "\n",
       "                                                   1  \n",
       "0  [AAACATTAGTTTCTT, TTGGAATGACCAACA, TTTCTTTGGGA...  "
      ]
     },
     "execution_count": 6,
     "metadata": {},
     "output_type": "execute_result"
    }
   ],
   "source": [
    "p.head()"
   ]
  },
  {
   "cell_type": "code",
   "execution_count": 3,
   "id": "7ac1279d",
   "metadata": {
    "ExecuteTime": {
     "end_time": "2023-09-07T20:30:28.386167Z",
     "start_time": "2023-09-07T20:30:28.381043Z"
    }
   },
   "outputs": [
    {
     "data": {
      "text/plain": [
       "200"
      ]
     },
     "execution_count": 3,
     "metadata": {},
     "output_type": "execute_result"
    }
   ],
   "source": [
    "a='TGATTCTTACTTCGTGCTCCAAGACGTCTGTTCTTTCCTGCTTTGTGACGCAGGCCTCCGTGCTGGCATTTGTGAAATGCAGATAACCTGTCAAACGTTGTCGACGGCCAGTACTCTGGTTGTAATCTCCTGAGGCCAGGAGCTGGGTCTTCAGGTCTTCACTTTCTCTCTATGTCCCCAACACAGCTCTGGGGGCGGGG'\n",
    "len(a)"
   ]
  },
  {
   "cell_type": "code",
   "execution_count": null,
   "id": "acfad252",
   "metadata": {},
   "outputs": [],
   "source": []
  }
 ],
 "metadata": {
  "kernelspec": {
   "display_name": "Python (mamba)",
   "language": "python",
   "name": "mamba"
  },
  "language_info": {
   "codemirror_mode": {
    "name": "ipython",
    "version": 3
   },
   "file_extension": ".py",
   "mimetype": "text/x-python",
   "name": "python",
   "nbconvert_exporter": "python",
   "pygments_lexer": "ipython3",
   "version": "3.9.16"
  },
  "toc": {
   "base_numbering": 1,
   "nav_menu": {},
   "number_sections": true,
   "sideBar": true,
   "skip_h1_title": false,
   "title_cell": "Table of Contents",
   "title_sidebar": "Contents",
   "toc_cell": false,
   "toc_position": {},
   "toc_section_display": true,
   "toc_window_display": false
  },
  "varInspector": {
   "cols": {
    "lenName": 16,
    "lenType": 16,
    "lenVar": 40
   },
   "kernels_config": {
    "python": {
     "delete_cmd_postfix": "",
     "delete_cmd_prefix": "del ",
     "library": "var_list.py",
     "varRefreshCmd": "print(var_dic_list())"
    },
    "r": {
     "delete_cmd_postfix": ") ",
     "delete_cmd_prefix": "rm(",
     "library": "var_list.r",
     "varRefreshCmd": "cat(var_dic_list()) "
    }
   },
   "types_to_exclude": [
    "module",
    "function",
    "builtin_function_or_method",
    "instance",
    "_Feature"
   ],
   "window_display": false
  }
 },
 "nbformat": 4,
 "nbformat_minor": 5
}
