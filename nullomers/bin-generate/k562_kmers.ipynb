{
 "cells": [
  {
   "cell_type": "code",
   "execution_count": 1,
   "id": "4ccd9434",
   "metadata": {
    "ExecuteTime": {
     "end_time": "2023-03-13T20:18:24.868069Z",
     "start_time": "2023-03-13T20:18:24.853817Z"
    }
   },
   "outputs": [],
   "source": [
    "import os, sys\n",
    "import subprocess as sp"
   ]
  },
  {
   "cell_type": "code",
   "execution_count": 2,
   "id": "81a98be9",
   "metadata": {
    "ExecuteTime": {
     "end_time": "2023-03-13T20:19:33.978315Z",
     "start_time": "2023-03-13T20:19:33.959917Z"
    }
   },
   "outputs": [
    {
     "data": {
      "text/plain": [
       "'/wynton/home/ahituv/fongsl/nullomers/bin-generate'"
      ]
     },
     "execution_count": 2,
     "metadata": {},
     "output_type": "execute_result"
    }
   ],
   "source": [
    "os.getcwd()"
   ]
  },
  {
   "cell_type": "code",
   "execution_count": null,
   "id": "5a35a52f",
   "metadata": {},
   "outputs": [],
   "source": [
    "PATH = \"/wynton/home/ahituv/fongsl/encode/k562/\"\n",
    "\n",
    "K562_BAM =\"https://www.encodeproject.org/files/ENCFF462TFC/@@download/ENCFF462TFC.bam\"\n",
    "\n",
    "os.chdir(PATH)\n",
    "cmd = [\"wget\" K562_BAM]\n",
    "\n",
    "sp.call(\" \".join(cmd), shell=True)\n"
   ]
  }
 ],
 "metadata": {
  "kernelspec": {
   "display_name": "Python (wynenv)",
   "language": "python",
   "name": "wynenv"
  },
  "language_info": {
   "codemirror_mode": {
    "name": "ipython",
    "version": 3
   },
   "file_extension": ".py",
   "mimetype": "text/x-python",
   "name": "python",
   "nbconvert_exporter": "python",
   "pygments_lexer": "ipython3",
   "version": "3.10.8"
  },
  "toc": {
   "base_numbering": 1,
   "nav_menu": {},
   "number_sections": true,
   "sideBar": true,
   "skip_h1_title": false,
   "title_cell": "Table of Contents",
   "title_sidebar": "Contents",
   "toc_cell": false,
   "toc_position": {},
   "toc_section_display": true,
   "toc_window_display": false
  }
 },
 "nbformat": 4,
 "nbformat_minor": 5
}
