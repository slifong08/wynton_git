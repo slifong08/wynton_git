{
 "cells": [
  {
   "cell_type": "code",
   "execution_count": 2,
   "id": "2bf479cf",
   "metadata": {
    "ExecuteTime": {
     "end_time": "2023-04-01T00:18:26.497321Z",
     "start_time": "2023-04-01T00:18:26.492520Z"
    }
   },
   "outputs": [],
   "source": [
    "\n",
    "import dask\n",
    "import dask.dataframe as dd\n",
    "import config_readwrite as crw\n",
    "import gzip\n",
    "from itertools import product, combinations\n",
    "import numpy as np\n",
    "\n",
    "import os, sys"
   ]
  },
  {
   "cell_type": "code",
   "execution_count": 3,
   "id": "f3924436",
   "metadata": {
    "ExecuteTime": {
     "end_time": "2023-04-01T00:18:26.875302Z",
     "start_time": "2023-04-01T00:18:26.863721Z"
    }
   },
   "outputs": [],
   "source": [
    "NULLOMER, MER, NMUTS, config_tag = \"AACGATACGCGC\",\"11\", \"2\", \"config.hs1\"\n",
    "\n",
    "config, cfn = crw.read_config(os.path.join(os.getcwd(), config_tag))\n",
    "NULLS = config[f\"{MER}mer\"][\"nullomers\"]\n",
    "KMERS = config[f\"{MER}mer\"][\"kmers\"]\n",
    "RE= config[f\"{MER}mer\"][\"results\"]\n",
    "PATH=config[f\"{MER}mer\"][\"path\"]\n",
    "MER, NMUTS, = int(MER), int(NMUTS)"
   ]
  },
  {
   "cell_type": "code",
   "execution_count": 4,
   "id": "4455c22b",
   "metadata": {
    "ExecuteTime": {
     "end_time": "2023-04-01T00:18:29.863899Z",
     "start_time": "2023-04-01T00:18:27.264905Z"
    }
   },
   "outputs": [
    {
     "data": {
      "text/html": [
       "<div>\n",
       "<style scoped>\n",
       "    .dataframe tbody tr th:only-of-type {\n",
       "        vertical-align: middle;\n",
       "    }\n",
       "\n",
       "    .dataframe tbody tr th {\n",
       "        vertical-align: top;\n",
       "    }\n",
       "\n",
       "    .dataframe thead th {\n",
       "        text-align: right;\n",
       "    }\n",
       "</style>\n",
       "<table border=\"1\" class=\"dataframe\">\n",
       "  <thead>\n",
       "    <tr style=\"text-align: right;\">\n",
       "      <th></th>\n",
       "      <th>kmers</th>\n",
       "      <th>counts</th>\n",
       "    </tr>\n",
       "  </thead>\n",
       "  <tbody>\n",
       "    <tr>\n",
       "      <th>0</th>\n",
       "      <td>AAAAGTAGTTT</td>\n",
       "      <td>6616</td>\n",
       "    </tr>\n",
       "    <tr>\n",
       "      <th>1</th>\n",
       "      <td>AAAAGTACGCA</td>\n",
       "      <td>351</td>\n",
       "    </tr>\n",
       "    <tr>\n",
       "      <th>2</th>\n",
       "      <td>AAAAGGGTAAG</td>\n",
       "      <td>2659</td>\n",
       "    </tr>\n",
       "    <tr>\n",
       "      <th>3</th>\n",
       "      <td>AAAATGTATGA</td>\n",
       "      <td>7354</td>\n",
       "    </tr>\n",
       "    <tr>\n",
       "      <th>4</th>\n",
       "      <td>AAAAAAATATC</td>\n",
       "      <td>7234</td>\n",
       "    </tr>\n",
       "  </tbody>\n",
       "</table>\n",
       "</div>"
      ],
      "text/plain": [
       "         kmers  counts\n",
       "0  AAAAGTAGTTT    6616\n",
       "1  AAAAGTACGCA     351\n",
       "2  AAAAGGGTAAG    2659\n",
       "3  AAAATGTATGA    7354\n",
       "4  AAAAAAATATC    7234"
      ]
     },
     "execution_count": 4,
     "metadata": {},
     "output_type": "execute_result"
    }
   ],
   "source": [
    "#df  = dd.read_csv(os.path.join(PATH, \"ALL.*.11mers.csv\"), header=None)\n",
    "name = (os.path.join(PATH, \"11mer.parquet\"))\n",
    "df = dd.read_parquet(name)\n",
    "df.head()"
   ]
  },
  {
   "cell_type": "markdown",
   "id": "d5023ac3",
   "metadata": {},
   "source": [
    "# functions "
   ]
  },
  {
   "cell_type": "code",
   "execution_count": 5,
   "id": "858bc8f4",
   "metadata": {
    "ExecuteTime": {
     "end_time": "2023-04-01T00:18:30.654050Z",
     "start_time": "2023-04-01T00:18:30.643235Z"
    }
   },
   "outputs": [],
   "source": [
    "@dask.delayed\n",
    "def genKmers(length):\n",
    "    \"\"\"\n",
    "    return all sequence permutations, including repeats (AAAAA, GGGGG, CCCCC etc.)\n",
    "    \n",
    "    require\n",
    "        itertools.product\n",
    "    \n",
    "    input\n",
    "        length (int)\n",
    "    \n",
    "    return\n",
    "        mers_list (list) - list of all nucleotide permutations \n",
    "    \"\"\"\n",
    "    print(\"generating kmer space length\", length)\n",
    "    \n",
    "    mers = product(\"ACTG\", repeat=length)\n",
    "    \n",
    "    mers_list = list(\"\".join(i) for i in mers)\n",
    "    \n",
    "    return mers_list\n",
    "\n",
    "@dask.delayed\n",
    "def getPosLetterCombos(nmuts, sequence):\n",
    "    \"\"\"\n",
    "    return combinations of (1) indices (2) mutated bases for mutating a sequence\n",
    "    \n",
    "    require \n",
    "        itertools\n",
    "        \n",
    "    inputs \n",
    "        nmuts (int) - number mutations to make\n",
    "        sequence (str) - sequence to be mutated\n",
    "        \n",
    "    method\n",
    "        1. get index combinations based on sequence length and number of mutations to make. This makes a map of all possible combinations of sequences to mutate\n",
    "            1.1 combinations requires that each index is unique and non-redundant. \n",
    "                Order does not matter - \n",
    "                    e.g. (2,4,5) is the same as (5,2,4) because indexes 2, 4, and 5, will all be mutated.\n",
    "                    \n",
    "        2. get sequence product to mutate at indexes\n",
    "            2.1 - product allows for repeats of the same base in different positions\n",
    "        \n",
    "    return\n",
    "        mut_pos (list) - list of positional combinations to mutate\n",
    "        mut_bases (list) - list of letter combinations to mutate\n",
    "        \n",
    "    \n",
    "    \"\"\"\n",
    "    #print(\"making index combinations, nucletide permutations of length\", nmuts)\n",
    "    \n",
    "    #1 index combinations\n",
    "    mut_pos = list(combinations(np.arange(len(sequence)), nmuts))\n",
    "    \n",
    "    #2 nucleotide permutations per index combo. \n",
    "    mut_bases = list(product(\"ACGT\", repeat=nmuts))\n",
    "    \n",
    "    return mut_pos, mut_bases\n",
    "\n",
    "@dask.delayed\n",
    "def buildSeqMut(sequence, mut_pos, mut_bases):\n",
    "    \n",
    "    \"\"\"\n",
    "    mutate sequence at position with letter\n",
    "    multiple positions and letters can be inserted into the sequence simultaneously. \n",
    "\n",
    "    input\n",
    "        sequence (str) - original sequence\n",
    "        mut_pos (set) - Sets of single, tuple, threeple positional index(es) to mutate\n",
    "        mut_bases (tuple) - Sets of single, tuple, threeple nucleotide combinations to mutate sequence to\n",
    "\n",
    "    method\n",
    "        1. instantiate seqs set to collect mutated sequences, add identity to seq set\n",
    "        2. per positions to mutate in set\n",
    "            2.1 per base combinations to mutate at these positions\n",
    "        3. zip and iterate through positions and bases, mutating input sequence\n",
    "        4. IF mut_seq != input sequence, then return. Else, skip\n",
    "\n",
    "            \n",
    "    return \n",
    "        seqs (set) - set of sequences with mutations \n",
    "    \n",
    "    \"\"\"\n",
    "\n",
    "    \n",
    "    #1\n",
    "    seqs, mut_seq = set(), \"\"\n",
    "    \n",
    "    \n",
    "    #2\n",
    "    for pos in mut_pos:\n",
    "        \n",
    "        #2.1\n",
    "        for letters in mut_bases:\n",
    "            \n",
    "            #3\n",
    "            for p, l in zip(pos, letters):\n",
    "\n",
    "                if mut_seq ==\"\":\n",
    "                    mut_seq = sequence[:p] + l + sequence[p + 1:]\n",
    "                    \n",
    "                else:\n",
    "                    mut_seq = mut_seq[:p] + l + mut_seq[p + 1:]\n",
    "        \n",
    "            #4\n",
    "            if mut_seq != sequence:  \n",
    "                seqs.add(mut_seq)\n",
    "                mut_seq = \"\"\n",
    "\n",
    "\n",
    "            else:\n",
    "                #print('no mut', sequence, mut_seq\n",
    "                mut_seq = \"\"\n",
    "                pass\n",
    "            \n",
    "    seqs.add(sequence)\n",
    "    return seqs"
   ]
  },
  {
   "cell_type": "code",
   "execution_count": 6,
   "id": "6ea54633",
   "metadata": {
    "ExecuteTime": {
     "end_time": "2023-04-01T00:18:31.431318Z",
     "start_time": "2023-04-01T00:18:31.422388Z"
    }
   },
   "outputs": [],
   "source": [
    "def generateMismatchSpectra(seq, nmuts, kmer_spectra):\n",
    "    \n",
    "    \"\"\"\n",
    "    input \n",
    "        seq (str) - sequence to mutate and match with kmer-spectra\n",
    "        nmuts (int) - max number of mismatches to mutate each kmer sequence by\n",
    "        kmer_spectra (dict) - dictionary of kmer keys and their frequency count (value)\n",
    "\n",
    "    require\n",
    "        getPosLetterCombos function\n",
    "        buildSeqMut function\n",
    "        prettifySeq function\n",
    "        \n",
    "    method\n",
    "        1. instantiate kmer_match, null_match list.\n",
    "        \n",
    "        2. per nullomer seq in dictionary\n",
    "\n",
    "        3. get all combinations of indexes and mutated bases to try. \n",
    "            mutate bases will be a single, tuple, or threeple depending on the number of mutations desired.\n",
    "            \n",
    "        4. mutate all positions of the nullomer with that base. \n",
    "\n",
    "            4.1 - get mutated sequences using buildSeqMut function\n",
    "                NOTE - mutBase function will remove identity sequence. See function method step 4.3.\n",
    "        5. Collect kmer distribution for each base mismatch. \n",
    "        6. per mutated sequence \n",
    "            6.1 look up kmer count of the mutated sequence. Test whether it is a prime. \n",
    "            6.2 add any resurfaced nullomer sequences to the resurface dict \n",
    "                - that is, resurfaced nullomers are sequences where mutations create nullomers\n",
    "                - return this dictionary\n",
    "            6.3 add kmer count to the dictionary as pretty key\n",
    "        7. Add seq kmer dictionary back into the collection dictionary. \n",
    "\n",
    "    \n",
    "    return\n",
    "        kmer_match (list) - all mis-match sequences w/ n muts that are kmers \n",
    "        null_match (list) - all mis-match sequences w/ n muts that are NOT kmers (therefor nullomers) \n",
    "            every mismatch combination for each sequence \n",
    "            and per mismatch combo, the kmer counts for each mismatch\n",
    "\n",
    "    \"\"\"\n",
    "    print(\"making kmer mismatch spectra w/ N mutatiosn =\", nmuts)\n",
    "    #1\n",
    "    kmer_match, null_match = set(), set()\n",
    "\n",
    "\n",
    "    #3\n",
    "    mut_pos, mut_bases = getPosLetterCombos(nmuts, seq)\n",
    "\n",
    "    #4\n",
    "    seqs = buildSeqMut(seq, mut_pos, mut_bases)\n",
    "\n",
    "    #5\n",
    "\n",
    "    #6\n",
    "    for mut_seq in seqs:\n",
    "\n",
    "        # 6.1 - kmer frequency\n",
    "        if (kmer_spectra.kmers == mut_seq).any():\n",
    "            kmer_match.add(mut_seq)\n",
    "\n",
    "        # 6.2 - nullomer after mutations, not in kmer-verse\n",
    "        else:  \n",
    "            null_match.add(mut_seq)  # append to list\n",
    "            \n",
    "    len(kmer_match), len(null_match), len(seqs)\n",
    "\n",
    "    return  kmer_match, null_match, seqs"
   ]
  },
  {
   "cell_type": "markdown",
   "id": "d274d9da",
   "metadata": {},
   "source": [
    "# main "
   ]
  },
  {
   "cell_type": "code",
   "execution_count": 7,
   "id": "35f587be",
   "metadata": {
    "ExecuteTime": {
     "end_time": "2023-04-01T00:18:32.780581Z",
     "start_time": "2023-04-01T00:18:32.772263Z"
    }
   },
   "outputs": [],
   "source": [
    "null = []\n",
    "with gzip.open(NULLS, \"rt\") as reader:\n",
    "    for l in reader:\n",
    "        null.append(l.strip(\"\\n\").split(\",\")[0])"
   ]
  },
  {
   "cell_type": "code",
   "execution_count": 8,
   "id": "425c6e59",
   "metadata": {
    "ExecuteTime": {
     "end_time": "2023-04-01T00:18:34.400363Z",
     "start_time": "2023-04-01T00:18:34.392197Z"
    }
   },
   "outputs": [],
   "source": [
    "def match_nullomers(nullomer_list, nmuts):\n",
    "    for seq in nullomer_list:\n",
    "        kmer_match, null_match = set(), set()\n",
    "\n",
    "        print(nmuts, seq)\n",
    "        #3\n",
    "        mut_pos, mut_bases = getPosLetterCombos(nmuts, seq)\n",
    "\n",
    "        \n",
    "        #4\n",
    "        seqs = buildSeqMut(seq, mut_pos, mut_bases)\n",
    "\n",
    "\n",
    "        #6\n",
    "        for mut_seq in seqs:\n",
    "\n",
    "            # 6.1 - kmer frequency\n",
    "            if (kmer_spectra.kmers == mut_seq).any():\n",
    "                kmer_match.add(mut_seq)\n",
    "\n",
    "            # 6.2 - nullomer after mutations, not in kmer-verse\n",
    "            else:  \n",
    "                null_match.add(mut_seq)  # append to list\n",
    "\n",
    "        print(len(kmer_match), len(null_match), len(seqs))\n",
    "        \n",
    "    return kmer_match\n"
   ]
  },
  {
   "cell_type": "code",
   "execution_count": 9,
   "id": "1b0a3222",
   "metadata": {
    "ExecuteTime": {
     "end_time": "2023-04-01T00:18:34.973295Z",
     "start_time": "2023-04-01T00:18:34.887027Z"
    }
   },
   "outputs": [
    {
     "name": "stdout",
     "output_type": "stream",
     "text": [
      "2 ACCGATACGCG\n"
     ]
    },
    {
     "ename": "TypeError",
     "evalue": "Delayed objects of unspecified length are not iterable",
     "output_type": "error",
     "traceback": [
      "\u001b[0;31m---------------------------------------------------------------------------\u001b[0m",
      "\u001b[0;31mTypeError\u001b[0m                                 Traceback (most recent call last)",
      "Cell \u001b[0;32mIn[9], line 1\u001b[0m\n\u001b[0;32m----> 1\u001b[0m dask\u001b[38;5;241m.\u001b[39mcompute(\u001b[43mmatch_nullomers\u001b[49m\u001b[43m(\u001b[49m\u001b[43mnull\u001b[49m\u001b[43m,\u001b[49m\u001b[43m \u001b[49m\u001b[43mNMUTS\u001b[49m\u001b[43m)\u001b[49m)\n",
      "Cell \u001b[0;32mIn[8], line 7\u001b[0m, in \u001b[0;36mmatch_nullomers\u001b[0;34m(nullomer_list, nmuts)\u001b[0m\n\u001b[1;32m      5\u001b[0m \u001b[38;5;28mprint\u001b[39m(nmuts, seq)\n\u001b[1;32m      6\u001b[0m \u001b[38;5;66;03m#3\u001b[39;00m\n\u001b[0;32m----> 7\u001b[0m mut_pos, mut_bases \u001b[38;5;241m=\u001b[39m getPosLetterCombos(nmuts, seq)\n\u001b[1;32m     10\u001b[0m \u001b[38;5;66;03m#4\u001b[39;00m\n\u001b[1;32m     11\u001b[0m seqs \u001b[38;5;241m=\u001b[39m buildSeqMut(seq, mut_pos, mut_bases)\n",
      "File \u001b[0;32m~/.conda/envs/ndask/lib/python3.11/site-packages/dask/delayed.py:618\u001b[0m, in \u001b[0;36mDelayed.__iter__\u001b[0;34m(self)\u001b[0m\n\u001b[1;32m    616\u001b[0m \u001b[38;5;28;01mdef\u001b[39;00m \u001b[38;5;21m__iter__\u001b[39m(\u001b[38;5;28mself\u001b[39m):\n\u001b[1;32m    617\u001b[0m     \u001b[38;5;28;01mif\u001b[39;00m \u001b[38;5;28mself\u001b[39m\u001b[38;5;241m.\u001b[39m_length \u001b[38;5;129;01mis\u001b[39;00m \u001b[38;5;28;01mNone\u001b[39;00m:\n\u001b[0;32m--> 618\u001b[0m         \u001b[38;5;28;01mraise\u001b[39;00m \u001b[38;5;167;01mTypeError\u001b[39;00m(\u001b[38;5;124m\"\u001b[39m\u001b[38;5;124mDelayed objects of unspecified length are not iterable\u001b[39m\u001b[38;5;124m\"\u001b[39m)\n\u001b[1;32m    619\u001b[0m     \u001b[38;5;28;01mfor\u001b[39;00m i \u001b[38;5;129;01min\u001b[39;00m \u001b[38;5;28mrange\u001b[39m(\u001b[38;5;28mself\u001b[39m\u001b[38;5;241m.\u001b[39m_length):\n\u001b[1;32m    620\u001b[0m         \u001b[38;5;28;01myield\u001b[39;00m \u001b[38;5;28mself\u001b[39m[i]\n",
      "\u001b[0;31mTypeError\u001b[0m: Delayed objects of unspecified length are not iterable"
     ]
    }
   ],
   "source": [
    "dask.compute(match_nullomers(null, NMUTS))"
   ]
  },
  {
   "cell_type": "code",
   "execution_count": null,
   "id": "4fad5b7e",
   "metadata": {
    "ExecuteTime": {
     "end_time": "2023-04-01T00:17:52.514377Z",
     "start_time": "2023-04-01T00:17:52.511011Z"
    }
   },
   "outputs": [],
   "source": [
    "generateMismatchSpectra = dask.delayed(generateMismatchSpectra)"
   ]
  },
  {
   "cell_type": "code",
   "execution_count": null,
   "id": "0491b8a6",
   "metadata": {
    "ExecuteTime": {
     "end_time": "2023-04-01T00:17:55.714033Z",
     "start_time": "2023-04-01T00:17:55.692465Z"
    }
   },
   "outputs": [],
   "source": [
    "for n in null:\n",
    "    out = generateMismatchSpectra(n, int(NMUTS), df)"
   ]
  },
  {
   "cell_type": "code",
   "execution_count": null,
   "id": "5586d45f",
   "metadata": {
    "ExecuteTime": {
     "end_time": "2023-04-01T00:17:58.965862Z",
     "start_time": "2023-04-01T00:17:58.962431Z"
    }
   },
   "outputs": [],
   "source": [
    "print(out)"
   ]
  },
  {
   "cell_type": "code",
   "execution_count": null,
   "id": "c39e63e5",
   "metadata": {
    "ExecuteTime": {
     "end_time": "2023-03-31T23:57:29.517880Z",
     "start_time": "2023-03-31T23:57:29.440842Z"
    }
   },
   "outputs": [],
   "source": [
    "z.visualize()"
   ]
  },
  {
   "cell_type": "code",
   "execution_count": null,
   "id": "413cb014",
   "metadata": {
    "ExecuteTime": {
     "end_time": "2023-03-31T23:28:45.903535Z",
     "start_time": "2023-03-31T23:28:45.863576Z"
    }
   },
   "outputs": [],
   "source": [
    "f.head()"
   ]
  },
  {
   "cell_type": "code",
   "execution_count": null,
   "id": "cec23b53",
   "metadata": {
    "ExecuteTime": {
     "end_time": "2023-03-31T23:48:44.014463Z",
     "start_time": "2023-03-31T23:48:44.009122Z"
    }
   },
   "outputs": [],
   "source": [
    "## import dependencies\n",
    "from time import sleep\n",
    "## calculate square of a number\n",
    "\n",
    "def calculate_square(x):\n",
    "    sleep(1)\n",
    "    x= x**2\n",
    "    return x\n",
    "\n",
    "## calculate sum of two numbers\n",
    "def get_sum(a,b):\n",
    "    sleep(1)\n",
    "    return a+b"
   ]
  },
  {
   "cell_type": "code",
   "execution_count": null,
   "id": "d0d4c9fd",
   "metadata": {
    "ExecuteTime": {
     "end_time": "2023-03-31T23:48:56.589544Z",
     "start_time": "2023-03-31T23:48:53.584497Z"
    }
   },
   "outputs": [],
   "source": [
    "%%time\n",
    "## call functions sequentially, one after the other\n",
    "\n",
    "## calculate square of first number\n",
    "x = calculate_square(10)\n",
    "\n",
    "## calculate square of second number\n",
    "y = calculate_square(20)\n",
    "\n",
    "## calculate sum of two numbers\n",
    "z = get_sum(x,y)\n",
    "print(z)"
   ]
  },
  {
   "cell_type": "code",
   "execution_count": null,
   "id": "414a1fe1",
   "metadata": {
    "ExecuteTime": {
     "end_time": "2023-03-31T23:49:06.354893Z",
     "start_time": "2023-03-31T23:49:06.351622Z"
    }
   },
   "outputs": [],
   "source": [
    "## import dask dependencies\n",
    "import dask\n",
    "from dask import delayed"
   ]
  },
  {
   "cell_type": "code",
   "execution_count": null,
   "id": "fad26031",
   "metadata": {
    "ExecuteTime": {
     "end_time": "2023-03-31T23:49:16.957435Z",
     "start_time": "2023-03-31T23:49:16.950591Z"
    }
   },
   "outputs": [],
   "source": [
    "%%time\n",
    "## Wrapping the function calls using dask.delayed\n",
    "x = delayed(calculate_square)(10)\n",
    "y = delayed(calculate_square)(20)\n",
    "z = delayed(get_sum)(x, y)\n",
    "print(z)"
   ]
  },
  {
   "cell_type": "code",
   "execution_count": null,
   "id": "d6dee204",
   "metadata": {},
   "outputs": [],
   "source": []
  }
 ],
 "metadata": {
  "kernelspec": {
   "display_name": "Python (ndask2)",
   "language": "python",
   "name": "ndask"
  },
  "language_info": {
   "codemirror_mode": {
    "name": "ipython",
    "version": 3
   },
   "file_extension": ".py",
   "mimetype": "text/x-python",
   "name": "python",
   "nbconvert_exporter": "python",
   "pygments_lexer": "ipython3",
   "version": "3.11.0"
  },
  "toc": {
   "base_numbering": 1,
   "nav_menu": {},
   "number_sections": true,
   "sideBar": true,
   "skip_h1_title": false,
   "title_cell": "Table of Contents",
   "title_sidebar": "Contents",
   "toc_cell": false,
   "toc_position": {},
   "toc_section_display": true,
   "toc_window_display": false
  },
  "varInspector": {
   "cols": {
    "lenName": 16,
    "lenType": 16,
    "lenVar": 40
   },
   "kernels_config": {
    "python": {
     "delete_cmd_postfix": "",
     "delete_cmd_prefix": "del ",
     "library": "var_list.py",
     "varRefreshCmd": "print(var_dic_list())"
    },
    "r": {
     "delete_cmd_postfix": ") ",
     "delete_cmd_prefix": "rm(",
     "library": "var_list.r",
     "varRefreshCmd": "cat(var_dic_list()) "
    }
   },
   "types_to_exclude": [
    "module",
    "function",
    "builtin_function_or_method",
    "instance",
    "_Feature"
   ],
   "window_display": false
  }
 },
 "nbformat": 4,
 "nbformat_minor": 5
}
