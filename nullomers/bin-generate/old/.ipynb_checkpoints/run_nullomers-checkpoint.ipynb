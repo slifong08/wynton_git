{
 "cells": [
  {
   "cell_type": "code",
   "execution_count": 2,
   "id": "e747be65",
   "metadata": {
    "ExecuteTime": {
     "end_time": "2023-04-05T01:46:23.313011Z",
     "start_time": "2023-04-05T01:46:23.302971Z"
    }
   },
   "outputs": [],
   "source": [
    "import config_readwrite as crw\n",
    "import glob\n",
    "import numpy as np\n",
    "import os, sys\n",
    "import subprocess as sp\n",
    "from time import sleep\n",
    "\n",
    "BUILD= \"hs1\" #\"rhemac10\"# \"hs1\" #\"hg38\"\n",
    "\n",
    "\n",
    "PATH = f\"/wynton/home/ahituv/fongsl/dna/{BUILD}/\"\n",
    "LEN = \"11\"\n",
    "KEYSIZE=\"4\"\n",
    "N_ORDER_MUTS =\"1\"\n",
    "\n",
    "section = LEN + \"mer\"\n",
    "config_tag = f\"config.{BUILD}.ini\"\n",
    "config, cfn = crw.read(config_tag)"
   ]
  },
  {
   "cell_type": "code",
   "execution_count": 3,
   "id": "e4fb4785",
   "metadata": {
    "ExecuteTime": {
     "end_time": "2023-04-05T01:46:23.735670Z",
     "start_time": "2023-04-05T01:46:23.730410Z"
    }
   },
   "outputs": [
    {
     "name": "stdout",
     "output_type": "stream",
     "text": [
      "256 274877906944\n"
     ]
    }
   ],
   "source": [
    "size = int(KEYSIZE)\n",
    "print(4**size, 4**(23-size))"
   ]
  },
  {
   "cell_type": "markdown",
   "id": "003d4bad",
   "metadata": {},
   "source": [
    "# functiona"
   ]
  },
  {
   "cell_type": "code",
   "execution_count": 4,
   "id": "d922227a",
   "metadata": {
    "ExecuteTime": {
     "end_time": "2023-04-05T01:46:26.003202Z",
     "start_time": "2023-04-05T01:46:25.995612Z"
    }
   },
   "outputs": [],
   "source": [
    "def nFilesNBatches(array):\n",
    "    \"\"\"\n",
    "    return count of N files in array, lowest number of batches to run. \n",
    "    \n",
    "    input \n",
    "        array (str) - full path to array from config\n",
    "        \n",
    "    require \n",
    "        numpy as np. \n",
    "    \n",
    "    method\n",
    "        1. count number of files in array\n",
    "        2. if NFILES > 4, determine batch size\n",
    "        3. determine number of batches (between 5 and 23) as lowest common denominator to run.\n",
    "            # 23 = arbitrary prime number. For np.arange, must add one. \n",
    "        4. else, NFILES <=4, so run all the jobs at once (i.e. NBATCHES =1) \n",
    "        \n",
    "    return \n",
    "        NFILES (int) - count of array files\n",
    "        NBATCHES(int) - lowest number of batches to run\n",
    "    \"\"\"\n",
    "    \n",
    "    #1\n",
    "    NFILES = sum(1 for i in open(array, \"r\"))\n",
    "    \n",
    "    #2\n",
    "    if NFILES > 4:\n",
    "    \n",
    "        NBATCHES = 0\n",
    "        \n",
    "        #3\n",
    "        for n in np.arange(5,23+1):\n",
    "            if NFILES%n ==0:\n",
    "                NBATCHES = n\n",
    "    #4                        \n",
    "    else:\n",
    "        NBATCHES = 1\n",
    "        \n",
    "    return NFILES, NBATCHES"
   ]
  },
  {
   "cell_type": "markdown",
   "id": "71189ff2",
   "metadata": {},
   "source": [
    "# set up\n",
    "## config"
   ]
  },
  {
   "cell_type": "code",
   "execution_count": 5,
   "id": "24a11e31",
   "metadata": {
    "ExecuteTime": {
     "end_time": "2023-04-05T01:46:26.892064Z",
     "start_time": "2023-04-05T01:46:26.768886Z"
    }
   },
   "outputs": [
    {
     "name": "stdout",
     "output_type": "stream",
     "text": [
      "/wynton/home/ahituv/fongsl/dna/hs1/kmers/11mers/\n",
      "python /wynton/home/ahituv/fongsl/nullomers/bin-generate/write_config.py hs1 11 4\n"
     ]
    }
   ],
   "source": [
    "cmd = [\n",
    "        \"python\", \n",
    "        \"/wynton/home/ahituv/fongsl/nullomers/bin-generate/write_config.py\",\n",
    "        BUILD,\n",
    "        LEN, \n",
    "        KEYSIZE,\n",
    "      ]\n",
    "sp.call(\" \".join(cmd), shell=True)\n",
    "print(\" \".join(cmd))"
   ]
  },
  {
   "cell_type": "markdown",
   "id": "08332384",
   "metadata": {},
   "source": [
    "## chromosome array"
   ]
  },
  {
   "cell_type": "code",
   "execution_count": 6,
   "id": "ffd5d3cc",
   "metadata": {
    "ExecuteTime": {
     "end_time": "2023-04-05T01:46:28.687000Z",
     "start_time": "2023-04-05T01:46:28.558797Z"
    }
   },
   "outputs": [
    {
     "name": "stdout",
     "output_type": "stream",
     "text": [
      "python /wynton/home/ahituv/fongsl/nullomers/bin-generate/make_chr_array.py /wynton/home/ahituv/fongsl/dna/hs1/ hs1 config.hs1.ini\n"
     ]
    }
   ],
   "source": [
    "cmd = [\n",
    "        \"python\", \n",
    "        \"/wynton/home/ahituv/fongsl/nullomers/bin-generate/make_chr_array.py\",\n",
    "        PATH,\n",
    "        BUILD,\n",
    "        config_tag\n",
    "      ]\n",
    "sp.call(\" \".join(cmd), shell=True)\n",
    "print(\" \".join(cmd))"
   ]
  },
  {
   "cell_type": "markdown",
   "id": "f9a881df",
   "metadata": {},
   "source": [
    "## nullomer array"
   ]
  },
  {
   "cell_type": "code",
   "execution_count": 7,
   "id": "ee71c893",
   "metadata": {
    "ExecuteTime": {
     "end_time": "2023-04-05T01:46:30.088012Z",
     "start_time": "2023-04-05T01:46:29.841147Z"
    }
   },
   "outputs": [
    {
     "name": "stdout",
     "output_type": "stream",
     "text": [
      "256\n"
     ]
    },
    {
     "data": {
      "text/plain": [
       "'python /wynton/home/ahituv/fongsl/nullomers/bin-generate/make_null_array.py config.hs1.ini hs1 11 4'"
      ]
     },
     "execution_count": 7,
     "metadata": {},
     "output_type": "execute_result"
    }
   ],
   "source": [
    "cmd = [\"python\", \n",
    "      \"/wynton/home/ahituv/fongsl/nullomers/bin-generate/make_null_array.py\", \n",
    "        config_tag,\n",
    "        PATH\n",
    "        BUILD,\n",
    "        LEN,\n",
    "        KEYSIZE\n",
    "      ]\n",
    "sp.call(\" \".join(cmd), shell=True)\n",
    "\" \".join(cmd)"
   ]
  },
  {
   "cell_type": "markdown",
   "id": "d8f8085f",
   "metadata": {},
   "source": [
    "# kmer maker"
   ]
  },
  {
   "cell_type": "markdown",
   "id": "be77e609",
   "metadata": {},
   "source": [
    "## batch size"
   ]
  },
  {
   "cell_type": "code",
   "execution_count": 7,
   "id": "5e4add87",
   "metadata": {
    "ExecuteTime": {
     "end_time": "2023-03-31T22:20:24.321257Z",
     "start_time": "2023-03-31T22:20:24.303475Z"
    }
   },
   "outputs": [
    {
     "data": {
      "text/plain": [
       "(25, 5)"
      ]
     },
     "execution_count": 7,
     "metadata": {},
     "output_type": "execute_result"
    }
   ],
   "source": [
    "# read config to get array\n",
    "config, cfn = crw.read(config_tag)\n",
    "\n",
    "ARRAY = config[\"ARRAY\"][\"FA_CHR\"]\n",
    "NFILES, NBATCHES = nFilesNBatches(ARRAY)\n",
    "NFILES, NBATCHES "
   ]
  },
  {
   "cell_type": "markdown",
   "id": "800f9c7e",
   "metadata": {},
   "source": [
    "## run"
   ]
  },
  {
   "cell_type": "code",
   "execution_count": 9,
   "id": "368ccf01",
   "metadata": {
    "ExecuteTime": {
     "end_time": "2023-03-31T22:20:28.958764Z",
     "start_time": "2023-03-31T22:20:28.904109Z"
    }
   },
   "outputs": [
    {
     "name": "stdout",
     "output_type": "stream",
     "text": [
      "Your job-array 2306437.1-25:1 (\"get_kmer-keys-array.sh\") has been submitted\n",
      "qsub -t 1-25:1 /wynton/home/ahituv/fongsl/nullomers/bin-generate/get_kmer-keys-array.sh /wynton/home/ahituv/fongsl/nullomers/bin-generate/arrays/chr_fa_array-hs1.tsv /wynton/home/ahituv/fongsl/dna/hs1/ 23 7\n"
     ]
    }
   ],
   "source": [
    "cmd = [\n",
    "        f\"qsub -t 1-{NFILES}:1\",\n",
    "        #f\"-tc {NBATCHES}\", \n",
    "        \"/wynton/home/ahituv/fongsl/nullomers/bin-generate/get_kmer-keys-array.sh\",\n",
    "        ARRAY,\n",
    "        PATH,\n",
    "        LEN, \n",
    "        KEYSIZE,\n",
    "      ]\n",
    "sp.call(\" \".join(cmd), shell=True)\n",
    "print(\" \".join(cmd))"
   ]
  },
  {
   "cell_type": "markdown",
   "id": "40f0aa65",
   "metadata": {},
   "source": [
    "## rerun any job number in array"
   ]
  },
  {
   "cell_type": "code",
   "execution_count": null,
   "id": "45ae44c0",
   "metadata": {
    "ExecuteTime": {
     "end_time": "2023-03-22T21:55:39.358782Z",
     "start_time": "2023-03-22T21:55:39.356063Z"
    }
   },
   "outputs": [],
   "source": [
    "#DONE =[\"21\", \"25\", \"22\", \"20\", \"19\", \"23\", \"16\", \"12\", \"14\", \"13\", \"10\", \"8\", \"6\", \"9\", \"7\", \"3\", \"2\", \"1\", \"4\", \"5\"] #\"1\"\n",
    "RERUNS = [\"11\", \"15\"]#np.arange(1,25)"
   ]
  },
  {
   "cell_type": "code",
   "execution_count": null,
   "id": "5f1907c3",
   "metadata": {
    "ExecuteTime": {
     "end_time": "2023-03-22T22:45:38.544648Z",
     "start_time": "2023-03-22T22:45:38.540990Z"
    }
   },
   "outputs": [],
   "source": [
    "for RUN in RERUNS:\n",
    "    cmd = [\n",
    "        \"qsub\", \n",
    "        \"/wynton/home/ahituv/fongsl/nullomers/bin-generate/rerun-get_kmer-keys-array.sh\",\n",
    "        RUN,\n",
    "        ARRAY,\n",
    "        PATH,\n",
    "        LEN, \n",
    "        KEYSIZE\n",
    "      ]\n",
    "    #sp.call(\" \".join(cmd), shell=True)\n",
    "\" \".join(cmd)\n",
    "print(\" \".join(cmd))"
   ]
  },
  {
   "cell_type": "markdown",
   "id": "54fb9353",
   "metadata": {},
   "source": [
    "# nullomer maker"
   ]
  },
  {
   "cell_type": "markdown",
   "id": "9ca35ee9",
   "metadata": {},
   "source": [
    "## batch size"
   ]
  },
  {
   "cell_type": "code",
   "execution_count": 9,
   "id": "48838a1f",
   "metadata": {
    "ExecuteTime": {
     "end_time": "2023-04-04T21:38:00.465038Z",
     "start_time": "2023-04-04T21:38:00.454932Z"
    }
   },
   "outputs": [
    {
     "data": {
      "text/plain": [
       "(1024, 16)"
      ]
     },
     "execution_count": 9,
     "metadata": {},
     "output_type": "execute_result"
    }
   ],
   "source": [
    "MUT_ARRAY = config[f\"{LEN}mer\"][\"array\"]\n",
    "NFILES, NBATCHES = nFilesNBatches(MUT_ARRAY)\n",
    "NFILES, NBATCHES"
   ]
  },
  {
   "cell_type": "markdown",
   "id": "9641f1c4",
   "metadata": {},
   "source": [
    "## run"
   ]
  },
  {
   "cell_type": "code",
   "execution_count": 11,
   "id": "f733b1cd",
   "metadata": {
    "ExecuteTime": {
     "end_time": "2023-04-04T21:38:09.805192Z",
     "start_time": "2023-04-04T21:38:09.590530Z"
    }
   },
   "outputs": [
    {
     "name": "stdout",
     "output_type": "stream",
     "text": [
      "Your job-array 2385330.1-1024:1 (\"get_nullomer-keys-array.sh\") has been submitted\n",
      "qsub -t 1-1024:1 /wynton/home/ahituv/fongsl/nullomers/bin-generate/get_nullomer-keys-array.sh /wynton/home/ahituv/fongsl/nullomers/bin-generate/arrays/array-hs1.12mer.tsv /wynton/home/ahituv/fongsl/dna/hs1/ 12 5\n"
     ]
    }
   ],
   "source": [
    "## sleep(60*60)\n",
    "\n",
    "cmd = [\n",
    "    \n",
    "       f\"qsub -t 1-{NFILES}:1\",\n",
    "       #f\"-tc {NBATCHES}\", \n",
    "      \"/wynton/home/ahituv/fongsl/nullomers/bin-generate/get_nullomer-keys-array.sh\", \n",
    "        MUT_ARRAY,\n",
    "        PATH,\n",
    "        LEN,\n",
    "        KEYSIZE\n",
    "      ]\n",
    "sp.call(\" \".join(cmd), shell=True)\n",
    "print(\" \".join(cmd))"
   ]
  },
  {
   "cell_type": "markdown",
   "id": "5ce6259d",
   "metadata": {},
   "source": [
    "## rerun"
   ]
  },
  {
   "cell_type": "code",
   "execution_count": null,
   "id": "58cc88bf",
   "metadata": {
    "ExecuteTime": {
     "end_time": "2023-03-21T21:56:03.255391Z",
     "start_time": "2023-03-21T21:56:03.234207Z"
    }
   },
   "outputs": [],
   "source": [
    "RERUNS =[\"1\"] #\"1\"\n",
    "for RUN in RERUNS:\n",
    "    cmd = [\n",
    "        \"qsub\", \n",
    "        \"/wynton/home/ahituv/fongsl/nullomers/bin-generate/rerun-get_nullomer-keys-array.sh\",\n",
    "        RUN,\n",
    "        MUT_ARRAY,\n",
    "        PATH,\n",
    "        LEN, \n",
    "        KEYSIZE\n",
    "      ]\n",
    "    sp.call(\" \".join(cmd), shell=True)\n",
    "\" \".join(cmd)\n",
    "print(\" \".join(cmd))"
   ]
  },
  {
   "cell_type": "markdown",
   "id": "6ee11f0e",
   "metadata": {},
   "source": [
    "# combine kmer spectra. \n",
    "    No need to combine nullomer spectra. Can keep in sections (ALL.AAA.3mers-nullomers.csv.gz)"
   ]
  },
  {
   "cell_type": "markdown",
   "id": "0348b6e3",
   "metadata": {},
   "source": [
    "# mutagenesis"
   ]
  },
  {
   "cell_type": "code",
   "execution_count": null,
   "id": "d9cf027c",
   "metadata": {},
   "outputs": [],
   "source": [
    "    os.chdir(OUTDIR)\n",
    "\n",
    "    # concat KMERS\n",
    "    os.system(f\"cat ALL.*.{WINDOW_SIZE}mers.csv > ALL.{WINDOW_SIZE}mers-kmers.csv && gzip ALL.{WINDOW_SIZE}mers-kmers.csv\")\n",
    "\n",
    "    # concat nullomers\n",
    "    #os.system(f\"cat ALL.*.{WINDOW_SIZE}mers-nullomers.csv > ALL.{WINDOW_SIZE}mers-nullomers.csv && gzip ALL.{WINDOW_SIZE}mers-nullomers.csv\")\n",
    "    \n",
    "    # zip supporting files. \n",
    "    os.system(f\"gzip ALL.*.{WINDOW_SIZE}mers.csv\")\n",
    "    os.system(f\"gzip ALL.*.{WINDOW_SIZE}mers-nullomers.csv\")"
   ]
  },
  {
   "cell_type": "markdown",
   "id": "19e5d312",
   "metadata": {},
   "source": [
    "## run"
   ]
  },
  {
   "cell_type": "code",
   "execution_count": null,
   "id": "885f2576",
   "metadata": {
    "ExecuteTime": {
     "end_time": "2023-03-10T18:35:17.673141Z",
     "start_time": "2023-03-10T18:35:17.596756Z"
    }
   },
   "outputs": [],
   "source": [
    "N_ORDER_MUTS =\"1\"\n",
    "\n",
    "cmd = [f\"qsub -t 1-{NFILES}:1 -tc {NBATCHES}\", \n",
    "      \"/wynton/home/ahituv/fongsl/nullomers/bin-generate/mutagenize-array.sh\", \n",
    "        LEN,\n",
    "        N_ORDER_MUTS,\n",
    "        config_tag\n",
    "       \n",
    "      ]\n",
    "sp.call(\" \".join(cmd), shell=True)"
   ]
  },
  {
   "cell_type": "markdown",
   "id": "1eb1a4d4",
   "metadata": {},
   "source": [
    "## rerun \n",
    " \n",
    " 1 run per SGE job\n"
   ]
  },
  {
   "cell_type": "code",
   "execution_count": null,
   "id": "554d25be",
   "metadata": {
    "ExecuteTime": {
     "end_time": "2023-03-10T18:34:16.882981Z",
     "start_time": "2023-03-10T18:34:16.608347Z"
    }
   },
   "outputs": [],
   "source": [
    "rerun = [] #\"1\"\n",
    "for run in rerun:\n",
    "    cmd = [\"qsub\", \n",
    "      \"/wynton/home/ahituv/fongsl/nullomers/bin-generate/rerun-mutagenize-array.sh\", \n",
    "        run,\n",
    "        LEN,\n",
    "        N_ORDER_MUTS,\n",
    "        config_tag\n",
    "      ]\n",
    "    print(\" \".join(cmd))\n",
    "    sp.call(\" \".join(cmd), shell=True)\n"
   ]
  },
  {
   "cell_type": "markdown",
   "id": "aec98eca",
   "metadata": {
    "ExecuteTime": {
     "end_time": "2023-03-07T04:41:48.650474Z",
     "start_time": "2023-03-07T04:41:48.645204Z"
    }
   },
   "source": [
    "# concatenate all the n-order files for different keys"
   ]
  },
  {
   "cell_type": "code",
   "execution_count": null,
   "id": "63f5c4d9",
   "metadata": {
    "ExecuteTime": {
     "end_time": "2023-03-10T21:52:05.912811Z",
     "start_time": "2023-03-10T21:52:05.638582Z"
    }
   },
   "outputs": [],
   "source": [
    "ORDER_OUT = os.path.join(PATH, f\"nullomers.{LEN}mers.order{N_ORDER_MUTS}.tsv\")\n",
    "cmd = [\"cat\", os.path.join(PATH,\"kmers\", f\"{LEN}mers\", \"order.*.tsv\"), \">\", ORDER_OUT]\n",
    "print(\" \".join(cmd))\n",
    "sp.call(\" \".join(cmd), shell=True)\n",
    "\n",
    "config[section][f\"order{N_ORDER_MUTS}\"] = ORDER_OUT\n",
    "crw.write(config, cfn)"
   ]
  },
  {
   "cell_type": "code",
   "execution_count": 12,
   "id": "7f192cce",
   "metadata": {
    "ExecuteTime": {
     "end_time": "2023-04-04T23:46:40.515902Z",
     "start_time": "2023-04-04T23:46:40.511717Z"
    }
   },
   "outputs": [],
   "source": [
    "l = [1,4,6]"
   ]
  },
  {
   "cell_type": "code",
   "execution_count": 13,
   "id": "1945b642",
   "metadata": {
    "ExecuteTime": {
     "end_time": "2023-04-04T23:46:44.023863Z",
     "start_time": "2023-04-04T23:46:44.004981Z"
    }
   },
   "outputs": [
    {
     "ename": "ValueError",
     "evalue": "list.remove(x): x not in list",
     "output_type": "error",
     "traceback": [
      "\u001b[0;31m---------------------------------------------------------------------------\u001b[0m",
      "\u001b[0;31mValueError\u001b[0m                                Traceback (most recent call last)",
      "Cell \u001b[0;32mIn [13], line 1\u001b[0m\n\u001b[0;32m----> 1\u001b[0m \u001b[43ml\u001b[49m\u001b[38;5;241;43m.\u001b[39;49m\u001b[43mremove\u001b[49m\u001b[43m(\u001b[49m\u001b[38;5;241;43m3\u001b[39;49m\u001b[43m)\u001b[49m\n",
      "\u001b[0;31mValueError\u001b[0m: list.remove(x): x not in list"
     ]
    }
   ],
   "source": [
    "l.remove(3)"
   ]
  },
  {
   "cell_type": "code",
   "execution_count": null,
   "id": "b0167fd9",
   "metadata": {},
   "outputs": [],
   "source": []
  }
 ],
 "metadata": {
  "kernelspec": {
   "display_name": "Python (wynenv)",
   "language": "python",
   "name": "wynenv"
  },
  "language_info": {
   "codemirror_mode": {
    "name": "ipython",
    "version": 3
   },
   "file_extension": ".py",
   "mimetype": "text/x-python",
   "name": "python",
   "nbconvert_exporter": "python",
   "pygments_lexer": "ipython3",
   "version": "3.10.8"
  },
  "toc": {
   "base_numbering": 1,
   "nav_menu": {},
   "number_sections": true,
   "sideBar": true,
   "skip_h1_title": false,
   "title_cell": "Table of Contents",
   "title_sidebar": "Contents",
   "toc_cell": false,
   "toc_position": {},
   "toc_section_display": true,
   "toc_window_display": false
  },
  "varInspector": {
   "cols": {
    "lenName": 16,
    "lenType": 16,
    "lenVar": 40
   },
   "kernels_config": {
    "python": {
     "delete_cmd_postfix": "",
     "delete_cmd_prefix": "del ",
     "library": "var_list.py",
     "varRefreshCmd": "print(var_dic_list())"
    },
    "r": {
     "delete_cmd_postfix": ") ",
     "delete_cmd_prefix": "rm(",
     "library": "var_list.r",
     "varRefreshCmd": "cat(var_dic_list()) "
    }
   },
   "types_to_exclude": [
    "module",
    "function",
    "builtin_function_or_method",
    "instance",
    "_Feature"
   ],
   "window_display": false
  }
 },
 "nbformat": 4,
 "nbformat_minor": 5
}
