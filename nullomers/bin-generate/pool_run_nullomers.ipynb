{
 "cells": [
  {
   "cell_type": "code",
   "execution_count": 15,
   "id": "c8662aa5",
   "metadata": {
    "ExecuteTime": {
     "end_time": "2023-04-29T21:17:53.540619Z",
     "start_time": "2023-04-29T21:17:53.520855Z"
    }
   },
   "outputs": [],
   "source": [
    "import config_readwrite as crw\n",
    "import glob\n",
    "import numpy as np\n",
    "import os, sys\n",
    "import subprocess as sp\n",
    "from time import sleep\n",
    "\n",
    "BUILD= \"hs1\" #\"rhemac10\"# \"hs1\" #\"hg38\"\n",
    "\n",
    "PATH = f\"/wynton/home/ahituv/fongsl/dna/{BUILD}/\"\n",
    "LEN = \"16\"\n",
    "N_ORDER_MUTS =\"1\"\n",
    "\n",
    "section = LEN + \"mers\"\n",
    "config_tag = f\"config.{BUILD}.pool.ini\"\n",
    "cfn_full = os.path.join(\"/wynton/home/ahituv/fongsl/nullomers/bin-generate\", config_tag)\n",
    "config, cfn = crw.read(config_tag)\n"
   ]
  },
  {
   "cell_type": "markdown",
   "id": "97f1a4b8",
   "metadata": {},
   "source": [
    "# functiona"
   ]
  },
  {
   "cell_type": "code",
   "execution_count": 16,
   "id": "0958d47f",
   "metadata": {
    "ExecuteTime": {
     "end_time": "2023-04-29T21:17:54.623350Z",
     "start_time": "2023-04-29T21:17:54.614648Z"
    }
   },
   "outputs": [],
   "source": [
    "def nFilesNBatches(array):\n",
    "    \"\"\"\n",
    "    return count of N files in array, lowest number of batches to run. \n",
    "    \n",
    "    input \n",
    "        array (str) - full path to array from config\n",
    "        \n",
    "    require \n",
    "        numpy as np. \n",
    "    \n",
    "    method\n",
    "        1. count number of files in array\n",
    "        2. if NFILES > 4, determine batch size\n",
    "        3. determine number of batches (between 5 and 23) as lowest common denominator to run.\n",
    "            # 23 = arbitrary prime number. For np.arange, must add one. \n",
    "        4. else, NFILES <=4, so run all the jobs at once (i.e. NBATCHES =1) \n",
    "        \n",
    "    return \n",
    "        NFILES (int) - count of array files\n",
    "        NBATCHES(int) - lowest number of batches to run\n",
    "    \"\"\"\n",
    "    \n",
    "    #1\n",
    "    NFILES = sum(1 for i in open(array, \"r\"))\n",
    "    \n",
    "    #2\n",
    "    if NFILES > 4:\n",
    "    \n",
    "        NBATCHES = 0\n",
    "        \n",
    "        #3\n",
    "        for n in np.arange(5,23+1):\n",
    "            if NFILES%n ==0:\n",
    "                NBATCHES = n\n",
    "    #4                        \n",
    "    else:\n",
    "        NBATCHES = 1\n",
    "        \n",
    "    return NFILES, NBATCHES"
   ]
  },
  {
   "cell_type": "markdown",
   "id": "4444f16d",
   "metadata": {},
   "source": [
    "# set up\n",
    "## config"
   ]
  },
  {
   "cell_type": "code",
   "execution_count": 17,
   "id": "0a5a5721",
   "metadata": {
    "ExecuteTime": {
     "end_time": "2023-04-29T21:17:55.760119Z",
     "start_time": "2023-04-29T21:17:55.633047Z"
    }
   },
   "outputs": [
    {
     "name": "stdout",
     "output_type": "stream",
     "text": [
      "/wynton/home/ahituv/fongsl/dna/hs1/kmers/16mers/\n",
      "made config -  /wynton/home/ahituv/fongsl/nullomers/bin-generate/config.hs1.pool.ini\n",
      "python /wynton/home/ahituv/fongsl/nullomers/bin-generate/write_config-pool.py hs1 16\n"
     ]
    }
   ],
   "source": [
    "cmd = [\n",
    "    \"python\",\n",
    "    \"/wynton/home/ahituv/fongsl/nullomers/bin-generate/write_config-pool.py\",\n",
    "    BUILD,\n",
    "    LEN\n",
    "]\n",
    "sp.call(\" \".join(cmd), shell=True)\n",
    "print(\" \".join(cmd))"
   ]
  },
  {
   "cell_type": "markdown",
   "id": "28a05dbd",
   "metadata": {},
   "source": [
    "## pool kmer array"
   ]
  },
  {
   "cell_type": "code",
   "execution_count": 18,
   "id": "2bce885e",
   "metadata": {
    "ExecuteTime": {
     "end_time": "2023-04-29T21:17:56.922240Z",
     "start_time": "2023-04-29T21:17:56.807675Z"
    }
   },
   "outputs": [
    {
     "name": "stdout",
     "output_type": "stream",
     "text": [
      "wrote pool array /wynton/home/ahituv/fongsl/nullomers/bin-generate/arrays/array-hs1.16mers.5mer.1.tsv\n"
     ]
    },
    {
     "data": {
      "text/plain": [
       "'python /wynton/home/ahituv/fongsl/nullomers/bin-generate/pool_array.py config.hs1.pool.ini /wynton/home/ahituv/fongsl/dna/hs1/ hs1 16 1'"
      ]
     },
     "execution_count": 18,
     "metadata": {},
     "output_type": "execute_result"
    }
   ],
   "source": [
    "cmd = [\"python\",\n",
    "       \"/wynton/home/ahituv/fongsl/nullomers/bin-generate/pool_array.py\",\n",
    "       cfn,\n",
    "       PATH,\n",
    "       BUILD,\n",
    "       LEN,\n",
    "       N_ORDER_MUTS\n",
    "       ]\n",
    "sp.call(\" \".join(cmd), shell=True)\n",
    "\" \".join(cmd)"
   ]
  },
  {
   "cell_type": "markdown",
   "id": "8978e31a",
   "metadata": {},
   "source": [
    "## batch size"
   ]
  },
  {
   "cell_type": "code",
   "execution_count": 19,
   "id": "4257f95f",
   "metadata": {
    "ExecuteTime": {
     "end_time": "2023-04-29T21:17:58.600829Z",
     "start_time": "2023-04-29T21:17:58.585301Z"
    }
   },
   "outputs": [
    {
     "data": {
      "text/plain": [
       "(103, 0)"
      ]
     },
     "execution_count": 19,
     "metadata": {},
     "output_type": "execute_result"
    }
   ],
   "source": [
    "# read config to get array\n",
    "config, cfn = crw.read(config_tag)\n",
    "\n",
    "ARRAY = config[section][\"array\"]\n",
    "NFILES, NBATCHES = nFilesNBatches(ARRAY)\n",
    "NFILES, NBATCHES"
   ]
  },
  {
   "cell_type": "markdown",
   "id": "f2b1a91c",
   "metadata": {},
   "source": [
    "# kmer/nullomer maker"
   ]
  },
  {
   "cell_type": "markdown",
   "id": "2e59303b",
   "metadata": {},
   "source": [
    "## run"
   ]
  },
  {
   "cell_type": "code",
   "execution_count": 17,
   "id": "75265cef",
   "metadata": {
    "ExecuteTime": {
     "end_time": "2023-04-10T20:47:56.463483Z",
     "start_time": "2023-04-10T20:47:56.248028Z"
    }
   },
   "outputs": [
    {
     "name": "stdout",
     "output_type": "stream",
     "text": [
      "Your job-array 2485511.1-26:1 (\"kmers.sh\") has been submitted\n",
      "qsub -t 1-26:1 -tc 13 /wynton/home/ahituv/fongsl/nullomers/bin-generate/kmers.sh /wynton/home/ahituv/fongsl/nullomers/bin-generate/arrays/array-hg38.11mers.4.tsv\n"
     ]
    }
   ],
   "source": [
    "cmd = [\n",
    "    f\"qsub -t 1-{NFILES}:1\",\n",
    "    f\"-tc {NBATCHES}\",\n",
    "    \"/wynton/home/ahituv/fongsl/nullomers/bin-generate/kmers.sh\",\n",
    "    ARRAY\n",
    "]\n",
    "sp.call(\" \".join(cmd), shell=True)\n",
    "print(\" \".join(cmd))"
   ]
  },
  {
   "cell_type": "markdown",
   "id": "a67f57f6",
   "metadata": {},
   "source": [
    "## rerun any job number in array"
   ]
  },
  {
   "cell_type": "code",
   "execution_count": null,
   "id": "eed86da8",
   "metadata": {
    "ExecuteTime": {
     "end_time": "2023-04-06T17:20:33.513912Z",
     "start_time": "2023-04-06T17:20:33.507896Z"
    }
   },
   "outputs": [],
   "source": [
    "\"\"\"\n",
    "RE RUN JOB NUMBERS ONLY. NOT CHROMOSOME NUMBERS.  \n",
    "\"\"\"\n",
    "\n",
    "RERUNS = [\"13\"]\n",
    "\n",
    "for RUN in RERUNS:\n",
    "    cmd = [\n",
    "        \"qsub\",\n",
    "        \"/wynton/home/ahituv/fongsl/nullomers/bin-generate/kmers-rerun.sh\",\n",
    "        RUN,\n",
    "        ARRAY,\n",
    "\n",
    "    ]\n",
    "    sp.call(\" \".join(cmd), shell=True)\n",
    "\" \".join(cmd)\n",
    "print(\" \".join(cmd))"
   ]
  },
  {
   "cell_type": "markdown",
   "id": "cb4055b4",
   "metadata": {},
   "source": [
    "# mutagenesis"
   ]
  },
  {
   "cell_type": "markdown",
   "id": "1208a93d",
   "metadata": {},
   "source": [
    "## run"
   ]
  },
  {
   "cell_type": "code",
   "execution_count": 20,
   "id": "f1224803",
   "metadata": {
    "ExecuteTime": {
     "end_time": "2023-04-29T21:18:09.815133Z",
     "start_time": "2023-04-29T21:18:09.742422Z"
    }
   },
   "outputs": [
    {
     "name": "stdout",
     "output_type": "stream",
     "text": [
      "qsub -t 1-103:1 -tc 0 /wynton/home/ahituv/fongsl/nullomers/bin-generate/mutagenize-array-pool.sh /wynton/home/ahituv/fongsl/nullomers/bin-generate/arrays/array-hs1.16mers.5mer.1.tsv\n",
      "Your job-array 3447428.1-103:1 (\"mutagenize-array-pool.sh\") has been submitted\n"
     ]
    },
    {
     "data": {
      "text/plain": [
       "0"
      ]
     },
     "execution_count": 20,
     "metadata": {},
     "output_type": "execute_result"
    }
   ],
   "source": [
    "cmd = [f\"qsub -t 1-{NFILES}:1 -tc {NBATCHES}\",\n",
    "       \"/wynton/home/ahituv/fongsl/nullomers/bin-generate/mutagenize-array-pool.sh\",\n",
    "       ARRAY,\n",
    "       ]\n",
    "print(\" \".join(cmd))\n",
    "sp.call(\" \".join(cmd), shell=True)"
   ]
  },
  {
   "cell_type": "markdown",
   "id": "3858932f",
   "metadata": {},
   "source": [
    "## rerun \n",
    " \n",
    " 1 run per SGE job\n"
   ]
  },
  {
   "cell_type": "code",
   "execution_count": null,
   "id": "0c77a1eb",
   "metadata": {
    "ExecuteTime": {
     "end_time": "2023-04-07T17:31:46.024534Z",
     "start_time": "2023-04-07T17:31:46.020485Z"
    }
   },
   "outputs": [],
   "source": [
    "\"\"\"\n",
    "RERUN MUTAGENESIS ONLY\n",
    "\"\"\"\n",
    "\n",
    "rerun = [] #\"1\"\n",
    "for run in rerun:\n",
    "    cmd = [\"qsub\", \n",
    "      \"/wynton/home/ahituv/fongsl/nullomers/bin-generate/rerun-mutagenize-array.sh\", \n",
    "        run,\n",
    "        LEN,\n",
    "        N_ORDER_MUTS,\n",
    "\n",
    "      ]\n",
    "    print(\" \".join(cmd))\n",
    "    sp.call(\" \".join(cmd), shell=True)\n"
   ]
  },
  {
   "cell_type": "markdown",
   "id": "c0a2a5a9",
   "metadata": {
    "ExecuteTime": {
     "end_time": "2023-03-07T04:41:48.650474Z",
     "start_time": "2023-03-07T04:41:48.645204Z"
    }
   },
   "source": [
    "# concatenate all the n-order files for different keys"
   ]
  },
  {
   "cell_type": "code",
   "execution_count": null,
   "id": "79a49cb1",
   "metadata": {
    "ExecuteTime": {
     "end_time": "2023-03-10T21:52:05.912811Z",
     "start_time": "2023-03-10T21:52:05.638582Z"
    }
   },
   "outputs": [],
   "source": [
    "ORDER_OUT = os.path.join(PATH, f\"nullomers.{LEN}mers.order{N_ORDER_MUTS}.tsv\")\n",
    "cmd = [\"cat\", os.path.join(PATH,\"kmers\", f\"{LEN}mers\", \"order.*.tsv\"), \">\", ORDER_OUT]\n",
    "print(\" \".join(cmd))\n",
    "sp.call(\" \".join(cmd), shell=True)\n",
    "\n",
    "config[section][f\"order{N_ORDER_MUTS}\"] = ORDER_OUT\n",
    "crw.write(config, cfn)"
   ]
  }
 ],
 "metadata": {
  "kernelspec": {
   "display_name": "Python (wynenv)",
   "language": "python",
   "name": "wynenv"
  },
  "language_info": {
   "codemirror_mode": {
    "name": "ipython",
    "version": 3
   },
   "file_extension": ".py",
   "mimetype": "text/x-python",
   "name": "python",
   "nbconvert_exporter": "python",
   "pygments_lexer": "ipython3",
   "version": "3.10.8"
  },
  "toc": {
   "base_numbering": 1,
   "nav_menu": {},
   "number_sections": true,
   "sideBar": true,
   "skip_h1_title": false,
   "title_cell": "Table of Contents",
   "title_sidebar": "Contents",
   "toc_cell": false,
   "toc_position": {},
   "toc_section_display": true,
   "toc_window_display": false
  },
  "varInspector": {
   "cols": {
    "lenName": 16,
    "lenType": 16,
    "lenVar": 40
   },
   "kernels_config": {
    "python": {
     "delete_cmd_postfix": "",
     "delete_cmd_prefix": "del ",
     "library": "var_list.py",
     "varRefreshCmd": "print(var_dic_list())"
    },
    "r": {
     "delete_cmd_postfix": ") ",
     "delete_cmd_prefix": "rm(",
     "library": "var_list.r",
     "varRefreshCmd": "cat(var_dic_list()) "
    }
   },
   "types_to_exclude": [
    "module",
    "function",
    "builtin_function_or_method",
    "instance",
    "_Feature"
   ],
   "window_display": false
  }
 },
 "nbformat": 4,
 "nbformat_minor": 5
}
