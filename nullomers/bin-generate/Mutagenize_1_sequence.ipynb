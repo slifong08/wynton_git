{
 "cells": [
  {
   "cell_type": "code",
   "execution_count": 1,
   "id": "de258157",
   "metadata": {
    "ExecuteTime": {
     "end_time": "2023-03-31T22:29:50.693528Z",
     "start_time": "2023-03-31T22:29:48.918217Z"
    }
   },
   "outputs": [],
   "source": [
    "\"\"\"\n",
    "Take kmer spectra, nullomer spectra, mutagenize sequences to get kmer spectra of the mutants. \n",
    "\n",
    "input\n",
    "    mer (str) - identity of the kmer length\n",
    "    nmuts (str) - number of positions to mutagenize simultaneously. \n",
    "    config (str) - path to config.ini file (must be in current working directory)\n",
    "    \n",
    "\"\"\"\n",
    "import argparse\n",
    "from Bio.SeqUtils import gc_fraction\n",
    "import configparser\n",
    "import config_readwrite as crw\n",
    "import gzip\n",
    "from itertools import product, combinations\n",
    "import numpy as np\n",
    "import os, sys\n",
    "import subprocess as sp\n",
    "\n",
    "parser = argparse.ArgumentParser()\n",
    "parser.add_argument(\"sequence\", type=str, help = \"sequence\")\n",
    "parser.add_argument(\"kmer_length\", type=int, help = \"length of kmer\")\n",
    "parser.add_argument(\"n_mut\", type=int, help = \"number of mutations to make\")\n",
    "\n",
    "#MER = sys.argv[1]  #str - 11, 12, 13 14mer etc \n",
    "#NMUTS= int(sys.argv[2])  # number of mutations to test for each nullomer. \n",
    "#config_tag = sys.argv[3]  #\n",
    "NULLOMER, MER, NMUTS, kmer = \"AACGATACGCGCGG\",\"14\", \"2\", "
   ]
  },
  {
   "cell_type": "code",
   "execution_count": 2,
   "id": "974a9fa8",
   "metadata": {
    "ExecuteTime": {
     "end_time": "2023-03-31T22:29:51.309139Z",
     "start_time": "2023-03-31T22:29:51.301434Z"
    }
   },
   "outputs": [],
   "source": [
    "config, cfn = crw.read_config(os.path.join(os.getcwd(), config_tag))\n",
    "#NULLS = config[f\"{MER}mer\"][\"nullomers\"]\n",
    "KMERS = config[f\"{MER}mer\"][\"kmers\"]\n",
    "RE= config[f\"{MER}mer\"][\"results\"]\n",
    "PATH=config[f\"{MER}mer\"][\"path\"]\n",
    "MER, NMUTS, = int(MER), int(NMUTS)"
   ]
  },
  {
   "cell_type": "markdown",
   "id": "c74de71d",
   "metadata": {},
   "source": [
    "# functions"
   ]
  },
  {
   "cell_type": "code",
   "execution_count": 3,
   "id": "f43c3298",
   "metadata": {
    "ExecuteTime": {
     "end_time": "2023-03-31T22:29:51.803294Z",
     "start_time": "2023-03-31T22:29:51.774175Z"
    },
    "code_folding": []
   },
   "outputs": [],
   "source": [
    "def getSeqDict(file):\n",
    "    \"\"\"\n",
    "    get dictionary of kmer sequences and counts, guides\n",
    "    \n",
    "    input\n",
    "        file (str) - file w/ full path\n",
    "    \n",
    "    method \n",
    "        1. instantiate collection dict\n",
    "        2. read file, extract sequence and kmer counts\n",
    "    return\n",
    "        seq_dict (dict) - dictionary of kmers and counts\n",
    "\n",
    "    \"\"\"\n",
    "    print(\"getting sequence file\", file)\n",
    "    \n",
    "    #1\n",
    "    seq_dict = {}\n",
    "    \n",
    "    #2\n",
    "    with gzip.open(file, \"rt\") as reader:\n",
    "        for line in reader.readlines():\n",
    "            seq, count = line.strip(\"\\n\").split(\",\")\n",
    "            seq_dict[seq]=count\n",
    "            \n",
    "    return seq_dict\n",
    "\n",
    "def genKmers(length):\n",
    "    \"\"\"\n",
    "    return all sequence permutations, including repeats (AAAAA, GGGGG, CCCCC etc.)\n",
    "    \n",
    "    require\n",
    "        itertools.product\n",
    "    \n",
    "    input\n",
    "        length (int)\n",
    "    \n",
    "    return\n",
    "        mers_list (list) - list of all nucleotide permutations \n",
    "    \"\"\"\n",
    "    print(\"generating kmer space length\", length)\n",
    "    \n",
    "    mers = product(\"ACTG\", repeat=length)\n",
    "    \n",
    "    mers_list = list(\"\".join(i) for i in mers)\n",
    "    \n",
    "    return mers_list\n",
    "\n",
    "\n",
    "def getPosLetterCombos(nmuts, sequence):\n",
    "    \"\"\"\n",
    "    return combinations of (1) indices (2) mutated bases for mutating a sequence\n",
    "    \n",
    "    require \n",
    "        itertools\n",
    "        \n",
    "    inputs \n",
    "        nmuts (int) - number mutations to make\n",
    "        sequence (str) - sequence to be mutated\n",
    "        \n",
    "    method\n",
    "        1. get index combinations based on sequence length and number of mutations to make. This makes a map of all possible combinations of sequences to mutate\n",
    "            1.1 combinations requires that each index is unique and non-redundant. \n",
    "                Order does not matter - \n",
    "                    e.g. (2,4,5) is the same as (5,2,4) because indexes 2, 4, and 5, will all be mutated.\n",
    "                    \n",
    "        2. get sequence product to mutate at indexes\n",
    "            2.1 - product allows for repeats of the same base in different positions\n",
    "        \n",
    "    return\n",
    "        mut_pos (list) - list of positional combinations to mutate\n",
    "        mut_bases (list) - list of letter combinations to mutate\n",
    "        \n",
    "    \n",
    "    \"\"\"\n",
    "    #print(\"making index combinations, nucletide permutations of length\", nmuts)\n",
    "    \n",
    "    #1 index combinations\n",
    "    mut_pos = list(combinations(np.arange(len(sequence)), nmuts))\n",
    "    \n",
    "    #2 nucleotide permutations per index combo. \n",
    "    mut_bases = list(product(\"ACGT\", repeat=nmuts))\n",
    "    \n",
    "    return mut_pos, mut_bases\n",
    "\n",
    "def buildSeqMut(sequence, mut_pos, mut_bases):\n",
    "    \n",
    "    \"\"\"\n",
    "    mutate sequence at position with letter\n",
    "    multiple positions and letters can be inserted into the sequence simultaneously. \n",
    "\n",
    "    input\n",
    "        sequence (str) - original sequence\n",
    "        mut_pos (set) - Sets of single, tuple, threeple positional index(es) to mutate\n",
    "        mut_bases (tuple) - Sets of single, tuple, threeple nucleotide combinations to mutate sequence to\n",
    "\n",
    "    method\n",
    "        1. instantiate seqs set to collect mutated sequences, add identity to seq set\n",
    "        2. per positions to mutate in set\n",
    "            2.1 per base combinations to mutate at these positions\n",
    "        3. zip and iterate through positions and bases, mutating input sequence\n",
    "        4. IF mut_seq != input sequence, then return. Else, skip\n",
    "\n",
    "            \n",
    "    return \n",
    "        seqs (set) - set of sequences with mutations \n",
    "    \n",
    "    \"\"\"\n",
    "\n",
    "    \n",
    "    #1\n",
    "    seqs, mut_seq = set(), \"\"\n",
    "    \n",
    "    \n",
    "    #2\n",
    "    for pos in mut_pos:\n",
    "        \n",
    "        #2.1\n",
    "        for letters in mut_bases:\n",
    "            \n",
    "            #3\n",
    "            for p, l in zip(pos, letters):\n",
    "\n",
    "                if mut_seq ==\"\":\n",
    "                    mut_seq = sequence[:p] + l + sequence[p + 1:]\n",
    "                    \n",
    "                else:\n",
    "                    mut_seq = mut_seq[:p] + l + mut_seq[p + 1:]\n",
    "        \n",
    "            #4\n",
    "            if mut_seq != sequence:  \n",
    "                seqs.add(mut_seq)\n",
    "                mut_seq = \"\"\n",
    "\n",
    "\n",
    "            else:\n",
    "                #print('no mut', sequence, mut_seq\n",
    "                mut_seq = \"\"\n",
    "                pass\n",
    "            \n",
    "    seqs.add(sequence)\n",
    "    return seqs\n",
    "\n",
    "def prettifySeq(original, mut):\n",
    "    \n",
    "    \"\"\"\n",
    "    prettify sequence. \n",
    "        All matching bases will be written as \".\"\n",
    "        All non matching bases will be written w mutated base identity. \n",
    "    \"\"\"\n",
    "    prettyseq=\"\"\n",
    "    for o, m in zip(original, mut):\n",
    "        if o!=m: \n",
    "            prettyseq+=m\n",
    "        else:\n",
    "            prettyseq += \".\"\n",
    "            \n",
    "    return prettyseq\n",
    "\n",
    "def generateMismatchSpectra(seq, nmuts, kmer_spectra):\n",
    "    \n",
    "    \"\"\"\n",
    "    input \n",
    "        seq (str) - sequence to mutate and match with kmer-spectra\n",
    "        nmuts (int) - max number of mismatches to mutate each kmer sequence by\n",
    "        kmer_spectra (dict) - dictionary of kmer keys and their frequency count (value)\n",
    "\n",
    "    require\n",
    "        getPosLetterCombos function\n",
    "        buildSeqMut function\n",
    "        prettifySeq function\n",
    "        \n",
    "    method\n",
    "        1. instantiate kmer_match, null_match list.\n",
    "        \n",
    "        2. per nullomer seq in dictionary\n",
    "\n",
    "        3. get all combinations of indexes and mutated bases to try. \n",
    "            mutate bases will be a single, tuple, or threeple depending on the number of mutations desired.\n",
    "            \n",
    "        4. mutate all positions of the nullomer with that base. \n",
    "\n",
    "            4.1 - get mutated sequences using buildSeqMut function\n",
    "                NOTE - mutBase function will remove identity sequence. See function method step 4.3.\n",
    "        5. Collect kmer distribution for each base mismatch. \n",
    "        6. per mutated sequence \n",
    "            6.1 look up kmer count of the mutated sequence. Test whether it is a prime. \n",
    "            6.2 add any resurfaced nullomer sequences to the resurface dict \n",
    "                - that is, resurfaced nullomers are sequences where mutations create nullomers\n",
    "                - return this dictionary\n",
    "            6.3 add kmer count to the dictionary as pretty key\n",
    "        7. Add seq kmer dictionary back into the collection dictionary. \n",
    "\n",
    "    \n",
    "    return\n",
    "        kmer_match (list) - all mis-match sequences w/ n muts that are kmers \n",
    "        null_match (list) - all mis-match sequences w/ n muts that are NOT kmers (therefor nullomers) \n",
    "            every mismatch combination for each sequence \n",
    "            and per mismatch combo, the kmer counts for each mismatch\n",
    "\n",
    "    \"\"\"\n",
    "    print(\"making kmer mismatch spectra w/ N mutatiosn =\", nmuts)\n",
    "    #1\n",
    "    kmer_match, null_match = set(), set()\n",
    "\n",
    "    #2\n",
    "    \n",
    "    gc_seq = gc_fraction(seq)\n",
    "\n",
    "    #3\n",
    "    mut_pos, mut_bases = getPosLetterCombos(nmuts, seq)\n",
    "\n",
    "    #4\n",
    "    seqs = buildSeqMut(seq, mut_pos, mut_bases)\n",
    "\n",
    "    #5\n",
    "\n",
    "    #6\n",
    "    for mut_seq in seqs:\n",
    "\n",
    "        # 6.1 - kmer frequency\n",
    "        if mut_seq in kmer_spectra.keys():\n",
    "            kmer_match.add(mut_seq)\n",
    "\n",
    "        # 6.2 - nullomer after mutations, not in kmer-verse\n",
    "        else:  \n",
    "            null_match.add(mut_seq)  # append to list\n",
    "            \n",
    "    len(kmer_match), len(null_match), len(seqs)\n",
    "\n",
    "    return  kmer_match, null_match, seqs\n",
    "\n",
    "####STOPPPED HERE####\n",
    "\n",
    "def writeDict(dict_, out):\n",
    "    \"\"\"\n",
    "    write dictionary as gzip file\n",
    "    \n",
    "    input\n",
    "        dict_ (dict) - dictionary of nullomer sequence keys + list of associated nullomers\n",
    "        out (str) - path to file to write (gzipepd)\n",
    "    \n",
    "    method\n",
    "        1. open out file\n",
    "        2. unpack dictionary\n",
    "        3. count number of mismatch nullomers corresponding to this nullomer\n",
    "            3.1 if count is equal to the number of nullomers required to make a prime, set prime variable to True\n",
    "            \n",
    "        4. write all values\n",
    "        5. close writer\n",
    "\n",
    "    \"\"\"\n",
    "    #1\n",
    "    with gzip.open(out, \"wt\") as writer:\n",
    "        #2\n",
    "        for key, value in dict_.items():\n",
    "            \n",
    "            #3\n",
    "            n_nullomers = len(value)\n",
    "            \n",
    "            #3.1\n",
    "            prime=False\n",
    "            if n_nullomers == len(key)*3:\n",
    "                prime =True\n",
    "                \n",
    "            #4\n",
    "            writer.write(f\"{key}\\t{','.join(value)}\\t{n_nullomers}\\t{prime}\\n\")\n",
    "        #5\n",
    "        writer.close()\n",
    "        \n",
    "    print(\"wrote results\", out)"
   ]
  },
  {
   "cell_type": "markdown",
   "id": "597a45c8",
   "metadata": {},
   "source": [
    "# main"
   ]
  },
  {
   "cell_type": "code",
   "execution_count": 4,
   "id": "f855819a",
   "metadata": {
    "ExecuteTime": {
     "end_time": "2023-03-31T22:29:52.543748Z",
     "start_time": "2023-03-31T22:29:52.538025Z"
    }
   },
   "outputs": [
    {
     "ename": "SyntaxError",
     "evalue": "incomplete input (1841575900.py, line 2)",
     "output_type": "error",
     "traceback": [
      "\u001b[0;36m  Cell \u001b[0;32mIn [4], line 2\u001b[0;36m\u001b[0m\n\u001b[0;31m    \u001b[0m\n\u001b[0m    ^\u001b[0m\n\u001b[0;31mSyntaxError\u001b[0m\u001b[0;31m:\u001b[0m incomplete input\n"
     ]
    }
   ],
   "source": [
    "        \n",
    "def main(argv):\n",
    "    "
   ]
  },
  {
   "cell_type": "code",
   "execution_count": 5,
   "id": "d7146329",
   "metadata": {
    "ExecuteTime": {
     "end_time": "2023-03-31T22:34:46.834038Z",
     "start_time": "2023-03-31T22:29:52.967640Z"
    }
   },
   "outputs": [
    {
     "name": "stdout",
     "output_type": "stream",
     "text": [
      "getting sequence file /wynton/home/ahituv/fongsl/dna/hs1/kmers/14mers/ALL.14mers-kmers.csv.gz\n"
     ]
    }
   ],
   "source": [
    "# open up and get kmer sequence dictionaries. \n",
    "kmer_seqs = getSeqDict(KMERS)"
   ]
  },
  {
   "cell_type": "code",
   "execution_count": null,
   "id": "a953f147",
   "metadata": {},
   "outputs": [],
   "source": [
    "#1.1G"
   ]
  },
  {
   "cell_type": "code",
   "execution_count": 41,
   "id": "9189d225",
   "metadata": {
    "ExecuteTime": {
     "end_time": "2023-03-31T21:48:53.390470Z",
     "start_time": "2023-03-31T21:48:53.380085Z"
    }
   },
   "outputs": [
    {
     "name": "stdout",
     "output_type": "stream",
     "text": [
      "making kmer mismatch spectra w/ N mutatiosn = 2\n"
     ]
    }
   ],
   "source": [
    "# generate mismatch spectra of related kmers, nullomers, \n",
    "related_kmers, related_nullomers, seqs = generateMismatchSpectra(NULLOMER, int(NMUTS), kmer_seqs)"
   ]
  },
  {
   "cell_type": "code",
   "execution_count": 44,
   "id": "7ab6021f",
   "metadata": {
    "ExecuteTime": {
     "end_time": "2023-03-31T21:49:15.516469Z",
     "start_time": "2023-03-31T21:49:15.509096Z"
    }
   },
   "outputs": [
    {
     "data": {
      "text/plain": [
       "(149, 713, 862)"
      ]
     },
     "execution_count": 44,
     "metadata": {},
     "output_type": "execute_result"
    }
   ],
   "source": [
    "len(related_kmers), len(related_nullomers), len(seqs)"
   ]
  },
  {
   "cell_type": "code",
   "execution_count": null,
   "id": "4a5c7566",
   "metadata": {},
   "outputs": [],
   "source": [
    "    \n",
    "if __name__ ==\"__main__\":\n",
    "    main(sys.argv[1:])"
   ]
  }
 ],
 "metadata": {
  "kernelspec": {
   "display_name": "Python (wynenv)",
   "language": "python",
   "name": "wynenv"
  },
  "language_info": {
   "codemirror_mode": {
    "name": "ipython",
    "version": 3
   },
   "file_extension": ".py",
   "mimetype": "text/x-python",
   "name": "python",
   "nbconvert_exporter": "python",
   "pygments_lexer": "ipython3",
   "version": "3.10.8"
  },
  "toc": {
   "base_numbering": 1,
   "nav_menu": {},
   "number_sections": true,
   "sideBar": true,
   "skip_h1_title": false,
   "title_cell": "Table of Contents",
   "title_sidebar": "Contents",
   "toc_cell": false,
   "toc_position": {},
   "toc_section_display": true,
   "toc_window_display": false
  },
  "varInspector": {
   "cols": {
    "lenName": 16,
    "lenType": 16,
    "lenVar": 40
   },
   "kernels_config": {
    "python": {
     "delete_cmd_postfix": "",
     "delete_cmd_prefix": "del ",
     "library": "var_list.py",
     "varRefreshCmd": "print(var_dic_list())"
    },
    "r": {
     "delete_cmd_postfix": ") ",
     "delete_cmd_prefix": "rm(",
     "library": "var_list.r",
     "varRefreshCmd": "cat(var_dic_list()) "
    }
   },
   "types_to_exclude": [
    "module",
    "function",
    "builtin_function_or_method",
    "instance",
    "_Feature"
   ],
   "window_display": false
  }
 },
 "nbformat": 4,
 "nbformat_minor": 5
}
