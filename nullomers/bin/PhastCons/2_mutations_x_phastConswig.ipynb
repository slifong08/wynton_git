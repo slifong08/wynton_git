{
 "cells": [
  {
   "cell_type": "markdown",
   "id": "e95fb9e1",
   "metadata": {},
   "source": [
    "20221123\n",
    "\n",
    "sarahfong\n",
    "\n",
    "### intersect nullomers with phastCons\n",
    "\n",
    "phastCons100way hg38 .bed file was downloaded from the UCSC genome table browser\n",
    "\n",
    "\n",
    "1. count the number of overlapping nullomers. \n",
    "    Remove duplicate nullomers (i.e. where one position can have two nullomers)\n",
    "2. calculate expectation and intersect w/ phastCons\n",
    "\n",
    "### preprocessing\n",
    "    /wynton/home/ahituv/fongsl/nullomers/bin/GENCODE/0_download_format_gencode.ipynb\n",
    "\n",
    "    /wynton/home/ahituv/fongsl/nullomers/bin/GENCODE/0_format_mutation_file.ipynb\n",
    "\n",
    "    /wynton/home/ahituv/fongsl/nullomers/bin/GENCODE/1_separate_coding_non-coding.ipynb"
   ]
  },
  {
   "cell_type": "code",
   "execution_count": 1,
   "id": "71981aeb",
   "metadata": {},
   "outputs": [],
   "source": [
    "import glob\n",
    "import os\n",
    "import pybedtools as pbt\n",
    "import subprocess\n",
    "import sys"
   ]
  },
  {
   "cell_type": "code",
   "execution_count": 2,
   "id": "9a2a1d7a",
   "metadata": {},
   "outputs": [],
   "source": [
    "# append path\n",
    "sys.path.append(\"/wynton/home/ahituv/fongsl/tools/py_/\")\n",
    "\n",
    "# import config reader\n",
    "import config_readwrite as crw\n",
    "import count_lines as cl\n",
    "\n",
    "config_name = os.path.join(os.path.dirname(os.getcwd()), \"config\")\n",
    "\n",
    "config, configname = crw.read_config(config_name)"
   ]
  },
  {
   "cell_type": "code",
   "execution_count": 3,
   "id": "9f1f1abf",
   "metadata": {},
   "outputs": [],
   "source": [
    "# select config variables\n",
    "\n",
    "GENCODE = config[\"GENCODE\"][\"BED\"]\n",
    "FLAT_GENCODE = config[\"GENCODE\"][\"MERGED\"]  # write\n",
    "\n",
    "# nullomer intersections\n",
    "GENCODE_OVERLAP = config[\"DATA\"][\"GENCODE_OVERLAP\"]  \n",
    "GENCODE_NOOVERLAP_REF = config[\"DATA\"][\"GENCODE_NOOVERLAP_REF\"]\n",
    "\n",
    "\n",
    "PHASTCONS = config[\"PHASTCONS\"][\"100WAY\"]"
   ]
  },
  {
   "cell_type": "code",
   "execution_count": 4,
   "id": "7d1610b7",
   "metadata": {},
   "outputs": [],
   "source": [
    "def phastcons_intersection(phastcons_bed, test_bed):\n",
    "    \"\"\"\n",
    "    intersect test bed w/ phastcons elements\n",
    "    \n",
    "    input\n",
    "        phastcons_bed (str) - path to phastcons.bed file\n",
    "        test_bed (str) - path to test.bed file\n",
    "        \n",
    "    method\n",
    "        1. turn bed files into pybedtool objects\n",
    "        2. intersect bed and phastcons files\n",
    "        3. count number of overlaps w phastcons\n",
    "        \n",
    "    return\n",
    "        test_int (pybedtool object) - intersected pybedtools object. \n",
    "        count (int) - count of lines in intersection\n",
    "        \n",
    "    \"\"\"\n",
    "    \n",
    "    #1\n",
    "    phast = pbt.BedTool(phastcons_bed)\n",
    "    test = pbt.BedTool(test_bed)\n",
    "    \n",
    "    #2\n",
    "    test_int = test.intersect(phast)\n",
    "    \n",
    "    count = sum(1 for line in test_int) \n",
    "    print(count)\n",
    "    \n",
    "    #3\n",
    "    return test_int, count   # return pbt.object, count"
   ]
  },
  {
   "cell_type": "code",
   "execution_count": 5,
   "id": "eecaf0d1",
   "metadata": {},
   "outputs": [],
   "source": [
    "def shuffle_cmd(bed_file, incl):\n",
    "    \n",
    "    script = \"/wynton/home/ahituv/fongsl/tools/genome/shuf_wynton.py\"\n",
    "    bed_file = bed_file\n",
    "    iters = 30\n",
    "    genome_build='hg38'\n",
    "\n",
    "    outdir = os.path.join(os.path.dirname(bed_file),  \"shuffle\")\n",
    "    \n",
    "    if incl is not None:\n",
    "        incl = incl\n",
    "        cmd = f\"python {script} -b {bed_file} -i {iters} -g {genome_build} -incl {incl} -o {outdir}\"\n",
    "    else:\n",
    "        cmd = f\"python {script} -b {bed_file} -i {iters} -g {genome_build} -o {outdir}\"\n",
    "        \n",
    "    print(cmd)\n",
    "    #subprocess.call(cmd, shell=True)"
   ]
  },
  {
   "cell_type": "markdown",
   "id": "650a377d",
   "metadata": {},
   "source": [
    "# Main"
   ]
  },
  {
   "cell_type": "markdown",
   "id": "814f73c2",
   "metadata": {},
   "source": [
    "## non-coding x phastcons"
   ]
  },
  {
   "cell_type": "code",
   "execution_count": null,
   "id": "136e0b59",
   "metadata": {},
   "outputs": [],
   "source": [
    "# non-coding x phastcons intersection    \n",
    "test_int_noncoding = phastcons_intersection(PHASTCONS, GENCODE_NOOVERLAP_REF)"
   ]
  },
  {
   "cell_type": "code",
   "execution_count": null,
   "id": "f87b67a4",
   "metadata": {},
   "outputs": [],
   "source": [
    "getUniqueBedIntervals(test_int_noncoding)"
   ]
  },
  {
   "cell_type": "markdown",
   "id": "9322c12c",
   "metadata": {},
   "source": [
    "439/9423 non-coding loci are conserved (5%)"
   ]
  },
  {
   "cell_type": "code",
   "execution_count": null,
   "id": "9f4b5e4a",
   "metadata": {},
   "outputs": [],
   "source": [
    "439/9423 "
   ]
  },
  {
   "cell_type": "markdown",
   "id": "9e36f636",
   "metadata": {},
   "source": [
    "## coding x phastcons"
   ]
  },
  {
   "cell_type": "code",
   "execution_count": null,
   "id": "1aea5c4a",
   "metadata": {},
   "outputs": [],
   "source": [
    "# coding x phastcons intersection    \n",
    "test_int_coding = phastcons_intersection(PHASTCONS, GENCODE_OVERLAP)\n",
    "\n",
    "getUniqueBedIntervals(test_int_coding)"
   ]
  },
  {
   "cell_type": "markdown",
   "id": "b32295e2",
   "metadata": {},
   "source": [
    "2891/19807 coding loci are conserved in phastCons (15%)"
   ]
  },
  {
   "cell_type": "code",
   "execution_count": null,
   "id": "2d3962e7",
   "metadata": {},
   "outputs": [],
   "source": [
    "2891/19807"
   ]
  },
  {
   "cell_type": "markdown",
   "id": "d13acc3a",
   "metadata": {},
   "source": [
    "# expectation"
   ]
  },
  {
   "cell_type": "markdown",
   "id": "1f4d4728",
   "metadata": {},
   "source": [
    "## coding\n",
    "- shuffle in coding background (GENCODE)\n",
    "- FIRST, need to flatten GENCODE coordinates. "
   ]
  },
  {
   "cell_type": "markdown",
   "id": "b25bd4ee",
   "metadata": {},
   "source": [
    "### flatten genocode coordinates\n",
    "- want to shuffle into non-redundant background. Reduces bias from genes with many exons (therefore many lines in the bed file)"
   ]
  },
  {
   "cell_type": "code",
   "execution_count": null,
   "id": "5efa9e44",
   "metadata": {},
   "outputs": [],
   "source": [
    "if os.path.exists(FLAT_GENCODE) is False:\n",
    "    gencode = pbt.BedTool(GENCODE)\n",
    "\n",
    "    # merge all elements that overlap 1bp\n",
    "    merged = gencode.merge(output=FLAT_GENCODE)\n",
    "    \n",
    "else:\n",
    "    print(\"you flattened this already\")\n"
   ]
  },
  {
   "cell_type": "markdown",
   "id": "49d172d8",
   "metadata": {},
   "source": [
    "### shuffle coding nullomers into GENCODE background"
   ]
  },
  {
   "cell_type": "markdown",
   "id": "fc928db1",
   "metadata": {},
   "source": [
    "# expectation "
   ]
  },
  {
   "cell_type": "code",
   "execution_count": 7,
   "id": "92bf8a6f",
   "metadata": {},
   "outputs": [],
   "source": [
    "def exp(bed, incl):\n",
    "    \n",
    "    shuffle_cmd(bed, incl)\n",
    "    \n",
    "    if incl is None:\n",
    "        shufs = glob.glob(\"/wynton/home/ahituv/fongsl/nullomers/data/shuffle/shuf-mutationsGENCODE_no-overlap_ref-*.bed\")\n",
    "    else:\n",
    "        shufs = glob.glob(\"/wynton/home/ahituv/fongsl/nullomers/data/shuffle/shuf-mutationsGENCODE_overlap-*.bed\")\n",
    "        \n",
    "        \n",
    "    exp = []\n",
    "    \n",
    "    for c in shufs:\n",
    "        test_int_coding, count = phastcons_intersection(PHASTCONS, c)\n",
    "        exp.append(c)\n",
    "        \n",
    "    return exp"
   ]
  },
  {
   "cell_type": "code",
   "execution_count": 10,
   "id": "5c6fe931",
   "metadata": {},
   "outputs": [
    {
     "name": "stdout",
     "output_type": "stream",
     "text": [
      "python /wynton/home/ahituv/fongsl/tools/genome/shuf_wynton.py -b /wynton/home/ahituv/fongsl/nullomers/data/mutationsGENCODE_overlap.bed -i 30 -g hg38 -incl /wynton/home/ahituv/fongsl/nullomers/data/Gencode/gencode.v42.basic.annotation_merged.bed -o /wynton/home/ahituv/fongsl/nullomers/data/shuffle\n",
      "1304\n",
      "1348\n",
      "1302\n",
      "1285\n",
      "1261\n",
      "1304\n",
      "1286\n",
      "1324\n",
      "1255\n",
      "1326\n",
      "1273\n",
      "1268\n",
      "1252\n",
      "1293\n",
      "1257\n",
      "1307\n",
      "1331\n",
      "1334\n",
      "1322\n",
      "1292\n",
      "1312\n",
      "1264\n",
      "1276\n",
      "1311\n",
      "1356\n",
      "1273\n",
      "1248\n",
      "1316\n",
      "1330\n",
      "1263\n",
      "1322\n"
     ]
    }
   ],
   "source": [
    "exp_overlap = exp(GENCODE_OVERLAP, FLAT_GENCODE)"
   ]
  },
  {
   "cell_type": "code",
   "execution_count": 13,
   "id": "66125334",
   "metadata": {},
   "outputs": [
    {
     "name": "stdout",
     "output_type": "stream",
     "text": [
      "python /wynton/home/ahituv/fongsl/tools/genome/shuf_wynton.py -b /wynton/home/ahituv/fongsl/nullomers/data/mutationsGENCODE_no-overlap_ref.bed -i 30 -g hg38 -o /wynton/home/ahituv/fongsl/nullomers/data/shuffle\n",
      "349\n",
      "333\n",
      "352\n",
      "334\n",
      "366\n",
      "348\n",
      "323\n",
      "372\n",
      "333\n",
      "334\n",
      "360\n",
      "346\n",
      "362\n",
      "341\n",
      "334\n",
      "311\n",
      "356\n",
      "366\n",
      "320\n",
      "359\n",
      "343\n",
      "349\n",
      "324\n",
      "358\n",
      "332\n",
      "311\n",
      "338\n",
      "349\n",
      "339\n",
      "328\n",
      "349\n"
     ]
    }
   ],
   "source": [
    "exp_noOverlap = exp(GENCODE_NOOVERLAP_REF, None)"
   ]
  },
  {
   "cell_type": "code",
   "execution_count": null,
   "id": "15a29e3d",
   "metadata": {},
   "outputs": [],
   "source": []
  }
 ],
 "metadata": {
  "kernelspec": {
   "display_name": "Python (wynenv)",
   "language": "python",
   "name": "wynenv"
  },
  "language_info": {
   "codemirror_mode": {
    "name": "ipython",
    "version": 3
   },
   "file_extension": ".py",
   "mimetype": "text/x-python",
   "name": "python",
   "nbconvert_exporter": "python",
   "pygments_lexer": "ipython3",
   "version": "3.10.8"
  }
 },
 "nbformat": 4,
 "nbformat_minor": 5
}
