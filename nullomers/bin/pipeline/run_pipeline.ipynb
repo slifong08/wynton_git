{
 "cells": [
  {
   "cell_type": "code",
   "execution_count": 1,
   "id": "ed505471",
   "metadata": {},
   "outputs": [
    {
     "name": "stdout",
     "output_type": "stream",
     "text": [
      "config-exon.ini\n"
     ]
    }
   ],
   "source": [
    "import os\n",
    "import subprocess\n",
    "import sys\n",
    "\n",
    "# append path\n",
    "sys.path.append(\"/wynton/home/ahituv/fongsl/tools/py_/\")\n",
    "\n",
    "# import config reader\n",
    "import config_readwrite as crw\n",
    "\n",
    "\n",
    "\n",
    "\"\"\"\n",
    "\n",
    "SET PARAMETERS \n",
    "\n",
    "    - DATAPATH (STR) - path to store data\n",
    "    \n",
    "    - ANNOTATION (STR) - GENCODE annotation to split nullomers on. \n",
    "        - possible GENCODE annotations:\n",
    "\n",
    "            'exon', \n",
    "            'gene', \n",
    "            'transcript', \n",
    "            'UTR', \n",
    "            'start_codon', \n",
    "            'CDS', \n",
    "            'stop_codon', \n",
    "            'Selenocysteine'\n",
    "\n",
    "    - MUTATION (STR) - input nullomer file (.txt)\n",
    "    - BUILD (STR) - genome build for these experiments\n",
    "    \n",
    "\"\"\"\n",
    "\n",
    "\n",
    "DATA_PATH = \"/wynton/home/ahituv/fongsl/nullomers/data/\"\n",
    "ANNOTATION = \"exon\" \n",
    "MUTATION = os.path.join(DATA_PATH, \"mutations.txt\")\n",
    "BUILD = \"hg38\"\n",
    "\n",
    "\"\"\"\n",
    "# step 0 - make config\n",
    "\"\"\"\n",
    "\n",
    "MAKE_CONFIG = \"0_make_config.py\"\n",
    "\n",
    "# pipe function to command line using subprocess\n",
    "\n",
    "result = subprocess.run(['python', MAKE_CONFIG, ANNOTATION, DATA_PATH, MUTATION, BUILD], stdout=subprocess.PIPE)\n",
    "\n",
    "# get config name w str split\n",
    "config =(str(result.stdout).strip(\"\\\\n'\")).strip(\"b'\")# result.stdout\n",
    "print(config)"
   ]
  },
  {
   "cell_type": "code",
   "execution_count": null,
   "id": "d48c5987",
   "metadata": {},
   "outputs": [],
   "source": [
    "\"\"\"\n",
    "# step 1 - split gencode up by annotation \n",
    "\"\"\"\n",
    "\n",
    "SPLIT_GENCODE = \"1_extract_gencode.py\"\n",
    "\n",
    "subprocess.run(['python', SPLIT_GENCODE, config], stdout=subprocess.PIPE)\n",
    "\"\"\"\n",
    "# step 2 - format mutation file into .bed (uniq loci only), .vcf \n",
    "\"\"\"\n",
    "\n",
    "FORMAT_MUTATION = \"2_format_mutation_file.py\"\n",
    "\n",
    "subprocess.run(['python', FORMAT_MUTATION, config], stdout=subprocess.PIPE)\n",
    "\n",
    "\"\"\"\n",
    "# step 3 - remove repeatmasker elements\n",
    "#- 19k mutations after removing repeatmasker\n",
    "\"\"\"\n",
    "\n",
    "REMOVE_REPEAT_MASKER = \"3_remove_repeatmasker.py\"\n",
    "\n",
    "subprocess.run(['python', REMOVE_REPEAT_MASKER, config], stdout=subprocess.PIPE)\n",
    "\n",
    "\"\"\"\n",
    "# step 4 - separate mutations into coding, non-coding\n",
    "\"\"\"\n",
    "\n",
    "SEPARATE = \"4_separate_annot_mutations.py\"\n",
    "\n",
    "subprocess.run(['python', SEPARATE, config], stdout=subprocess.PIPE)"
   ]
  },
  {
   "cell_type": "code",
   "execution_count": null,
   "id": "222a4b1a",
   "metadata": {},
   "outputs": [],
   "source": [
    "\"\"\"\n",
    "# step 5 - shuffle\n",
    "\n",
    "#- create non-coding bkgd exclusion file\n",
    "\"\"\"\n",
    "\n",
    "SEPARATE = \"5_shuffle_annots.py\"\n",
    "ITERS = \"500\"\n",
    "subprocess.run(['python', SEPARATE, config, ITERS], stdout=subprocess.PIPE)"
   ]
  },
  {
   "cell_type": "code",
   "execution_count": 39,
   "id": "00fdfc28",
   "metadata": {},
   "outputs": [
    {
     "data": {
      "text/plain": [
       "CompletedProcess(args=['python', '5.1_write_qsub_array.py', 'config-exon.ini'], returncode=0, stdout=b'')"
      ]
     },
     "execution_count": 39,
     "metadata": {},
     "output_type": "execute_result"
    }
   ],
   "source": [
    "ARRAY = \"5.1_write_qsub_array.py\"\n",
    "subprocess.run(['python', ARRAY, config], stdout=subprocess.PIPE)"
   ]
  },
  {
   "cell_type": "markdown",
   "id": "e1fce025",
   "metadata": {},
   "source": [
    "# step 6 - phastCons element overlap"
   ]
  },
  {
   "cell_type": "code",
   "execution_count": null,
   "id": "c8eaf87d",
   "metadata": {},
   "outputs": [],
   "source": [
    "\"\"\"\n",
    "# step 6 - phastCons element overlap\n",
    "\"\"\"\n",
    "\n",
    "PHASTCONS = \"6_phastCons.py\"\n",
    "\n",
    "subprocess.run(['python', PHASTCONS, config], stdout=subprocess.PIPE)"
   ]
  },
  {
   "cell_type": "markdown",
   "id": "7b6d6599",
   "metadata": {},
   "source": [
    "# step 7 - Phylop"
   ]
  },
  {
   "cell_type": "code",
   "execution_count": 6,
   "id": "2ccd6492",
   "metadata": {},
   "outputs": [],
   "source": [
    "\"\"\"\n",
    "# step 7 - Phylop\n",
    "\"\"\"\n",
    "PHYLOP_EXP = \"7-phylop_expand-array.py\"\n",
    "NBASES_EXP = \"500\"\n",
    "\n",
    "PHYLOP_QSUB = \"./phylop-array.sh\"\n",
    "\n",
    "QSUB = True\n",
    "\n",
    "if QSUB is True:\n",
    "\n",
    "    subprocess.run(['qsub', PHYLOP_QSUB, config, NBASES_EXP], stdout=subprocess.PIPE)\n",
    "    \n",
    "else:\n",
    "    for i in range(1002):\n",
    "        \n",
    "        j = i+1\n",
    "        print(j, \"python\")\n",
    "        subprocess.run(['python', PHYLOP_EXP, config, NBASES_EXP, str(j)], stdout=subprocess.PIPE)\n",
    "        break"
   ]
  },
  {
   "cell_type": "code",
   "execution_count": null,
   "id": "4ae4b9ab",
   "metadata": {},
   "outputs": [],
   "source": []
  }
 ],
 "metadata": {
  "kernelspec": {
   "display_name": "Python 3 (ipykernel)",
   "language": "python",
   "name": "python3"
  },
  "language_info": {
   "codemirror_mode": {
    "name": "ipython",
    "version": 3
   },
   "file_extension": ".py",
   "mimetype": "text/x-python",
   "name": "python",
   "nbconvert_exporter": "python",
   "pygments_lexer": "ipython3",
   "version": "3.10.8"
  }
 },
 "nbformat": 4,
 "nbformat_minor": 5
}
