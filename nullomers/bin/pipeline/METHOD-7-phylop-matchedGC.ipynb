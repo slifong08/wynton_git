{
 "cells": [
  {
   "cell_type": "code",
   "execution_count": null,
   "id": "06063260",
   "metadata": {},
   "outputs": [],
   "source": [
    "#!/usr/bin/env python\n",
    "# coding: utf-8\n",
    "\n",
    "# 20221129\n",
    "# \n",
    "# sarahfong\n",
    "# \n",
    "# ### intersect nullomers, empirical shuffle with phylop 100way bigWig\n",
    "# \n",
    "# split by exonic/non-exonic\n",
    "# \n",
    "# \n",
    "# use bigWigSummary executable from UCSC to get phylop \n",
    "# \n",
    "# \n",
    "# compare nullomers v. empirical background\n",
    "\n",
    "# In[ ]:\n",
    "—"
   ]
  },
  {
   "cell_type": "code",
   "execution_count": 1,
   "id": "73d48f81",
   "metadata": {
    "ExecuteTime": {
     "end_time": "2023-01-17T23:24:53.759943Z",
     "start_time": "2023-01-17T23:24:51.574570Z"
    }
   },
   "outputs": [],
   "source": [
    "import glob\n",
    "from joblib import Parallel, delayed\n",
    "import os\n",
    "import pybedtools as pbt\n",
    "import subprocess\n",
    "import sys\n",
    "\n",
    "\n",
    "import matplotlib.pyplot as plt\n",
    "import numpy as np\n",
    "import pandas as pd\n",
    "from scipy import stats\n",
    "import seaborn as sns\n",
    "import statsmodels as sm\n",
    "\n",
    "# append path\n",
    "sys.path.append(\"/wynton/home/ahituv/fongsl/tools/py_/\")\n",
    "\n",
    "# import config reader\n",
    "import config_readwrite as crw\n",
    "import zippery\n",
    "\n",
    "\n",
    "\n",
    "config_tag = \"config-exon.ini\"\n",
    "\n",
    "# append path\n",
    "sys.path.append(\"/wynton/home/ahituv/fongsl/tools/py_/\")\n",
    "\n",
    "# import config reader\n",
    "import config_readwrite as crw\n",
    "import count_lines as cl\n",
    "import plot_params as pp\n",
    "\n",
    "config_name = os.path.join(os.getcwd(), config_tag)\n",
    "\n",
    "config, configname = crw.read_config(config_name)\n"
   ]
  },
  {
   "cell_type": "markdown",
   "id": "50c72435",
   "metadata": {},
   "source": [
    "# Analysis"
   ]
  },
  {
   "cell_type": "code",
   "execution_count": 2,
   "id": "fce9800b",
   "metadata": {
    "ExecuteTime": {
     "end_time": "2023-01-17T23:24:53.772455Z",
     "start_time": "2023-01-17T23:24:53.764669Z"
    }
   },
   "outputs": [],
   "source": [
    "DATASET = \"PHYLOP\"\n",
    "\n",
    "DATA_PATH = config[DATASET][\"PATH\"]\n",
    "RE_PATH = config[\"RESULTS\"][\"PATH\"] \n",
    "\n",
    "ANNOT = config[\"GENCODE\"][\"ANNOT\"] \n",
    "\n",
    "RE = os.path.join(RE_PATH, DATASET)\n",
    "\n",
    "if os.path.exists(RE) is False:\n",
    "    os.mkdir(RE)\n",
    "    config[\"RESULTS\"][DATASET] = RE "
   ]
  },
  {
   "cell_type": "markdown",
   "id": "d5b76873",
   "metadata": {},
   "source": [
    "# new code for raw data"
   ]
  },
  {
   "cell_type": "code",
   "execution_count": 7,
   "id": "fec4120b",
   "metadata": {
    "ExecuteTime": {
     "end_time": "2023-01-17T23:25:00.187811Z",
     "start_time": "2023-01-17T23:25:00.141185Z"
    }
   },
   "outputs": [],
   "source": [
    "# get summary stats for phylop scores\n",
    "\n",
    "def q025(x):\n",
    "    return x.quantile(0.025)\n",
    "\n",
    "def q975(x):\n",
    "    return x.quantile(0.975)\n",
    "\n",
    "def getSummaryStats(file, value_col, matched_df):\n",
    "    \"\"\"\n",
    "    return summary stats for each position in a bed element\n",
    "    \n",
    "    input\n",
    "        file (str) - path to extracted bw vector file from above run\n",
    "        value_col (str) - name of column to calculate values on. \n",
    "        matched_df(pd dataframe) - GC matched element ids to keep. \n",
    "        \n",
    "    method\n",
    "        1. make a pandas dataframe out of the dictionary\n",
    "            \n",
    "            col 0-3 = CHR, START, STOP, Nullomer ID\n",
    "            col 4-1003 = each bp position score flanking nullomer\n",
    "            \n",
    "            col 503 = pre-nullomer locus.\n",
    "            \n",
    "            1.1 Formatting\n",
    "                - drop_duplicates() \n",
    "                - dropna()\n",
    "                \n",
    "            1.2 make id col for matching gc\n",
    "            1.3 filter for GC matching ids\n",
    "            1.4 drop id col\n",
    "\n",
    "    \n",
    "        2. turn dataframe into long form data, where 1 column is the position, and another column is the value\n",
    "            index on CHR, START, STOP, Nullomer ID\n",
    "            \n",
    "            - DROP NAN values. \n",
    "            \n",
    "        3. per position, bootstrap confidence intervals. \n",
    "        \n",
    "        4. compute summary stats per position across nullomer sequence for linsight scores.\n",
    "            4.1 also correct for\n",
    "        \n",
    "        5. write summary stats to outfile\n",
    "    \n",
    "    return \n",
    "    \n",
    "        summary stats outfile (str) - write summary stats as file, \n",
    "            ## so that stats can be done on empirical summary statistics. \n",
    "            \n",
    "        \n",
    "    \"\"\"\n",
    "    out = file.strip(\".txt\") + \"-SUMMARY_STATS_GC.txt\"\n",
    "    zipped = file + \".gz\" \n",
    "\n",
    "    if os.path.exists(out) is False:\n",
    "        \n",
    "        # if re-running stats\n",
    "        if os.path.exists(zipped) is True:\n",
    "            zippery.unzip_file(zipped)\n",
    "            \n",
    "        \n",
    "        #1 make a pandas dataframe\n",
    "        df = pd.read_csv(file, sep = '\\t', header = None, low_memory = False).drop_duplicates().dropna() #1.1\n",
    "\n",
    "        #1.2 \n",
    "        df[\"id\"] = df[0] + \":\" + df[1].map(str) + '-' +df[2].map(str)\n",
    "        \n",
    "        #1.3 GC match filter\n",
    "        if \"shuf\" in file:\n",
    "            keep = df.loc[df[\"id\"].isin(set(matched_df[\"id\"]))].copy() # keep only GC content matched elements\n",
    "        else:\n",
    "            keep = df\n",
    "            \n",
    "        print(df.shape, keep.shape)\n",
    "        \n",
    "        #1.4 drop id col\n",
    "        keep = keep.drop(columns =[\"id\"])\n",
    "        \n",
    "\n",
    "        #2\n",
    "        melted = pd.melt(keep, id_vars= keep.columns[:4], var_name=\"pos\", value_name=value_col)\n",
    "\n",
    "        #print(melted.shape, melted.head())\n",
    "\n",
    "        melted[value_col] = melted[value_col].astype(float)  # change data type\n",
    "        \n",
    "\n",
    "        f = {value_col: [q025, q975]}\n",
    "        ci = melted.groupby('pos').agg(f).reset_index()\n",
    "\n",
    "        #4\n",
    "        summary_stats = melted.groupby(\"pos\")[value_col].describe().reset_index()\n",
    "        summary_stats= summary_stats.join(ci)\n",
    "\n",
    "        #print(list(summary_stats))\n",
    "        \n",
    "\n",
    "        summary_stats[\"pos\"] = summary_stats[\"pos\"] - 4 # correct bp position \n",
    "                            \n",
    "\n",
    "        #5 \n",
    "        summary_stats.to_csv(out, sep ='\\t', index=False)\n",
    "\n",
    "        zippery.rezip_file(file)\n",
    "    \n",
    "    return out"
   ]
  },
  {
   "cell_type": "markdown",
   "id": "06baf585",
   "metadata": {},
   "source": [
    "# MATCH ON GC"
   ]
  },
  {
   "cell_type": "code",
   "execution_count": 8,
   "id": "a15ed9c6",
   "metadata": {
    "ExecuteTime": {
     "end_time": "2023-01-17T23:25:05.738411Z",
     "start_time": "2023-01-17T23:25:02.754203Z"
    }
   },
   "outputs": [
    {
     "data": {
      "text/html": [
       "<div>\n",
       "<style scoped>\n",
       "    .dataframe tbody tr th:only-of-type {\n",
       "        vertical-align: middle;\n",
       "    }\n",
       "\n",
       "    .dataframe tbody tr th {\n",
       "        vertical-align: top;\n",
       "    }\n",
       "\n",
       "    .dataframe thead th {\n",
       "        text-align: right;\n",
       "    }\n",
       "</style>\n",
       "<table border=\"1\" class=\"dataframe\">\n",
       "  <thead>\n",
       "    <tr style=\"text-align: right;\">\n",
       "      <th></th>\n",
       "      <th>id</th>\n",
       "      <th>gc_frac</th>\n",
       "      <th>gc_dinuc_frac</th>\n",
       "      <th>datatype</th>\n",
       "      <th>dist1bin</th>\n",
       "    </tr>\n",
       "  </thead>\n",
       "  <tbody>\n",
       "    <tr>\n",
       "      <th>0</th>\n",
       "      <td>chr22:37658728-37659729</td>\n",
       "      <td>0.728272</td>\n",
       "      <td>0.197802</td>\n",
       "      <td>SHUF-EXON</td>\n",
       "      <td>0.0</td>\n",
       "    </tr>\n",
       "    <tr>\n",
       "      <th>1</th>\n",
       "      <td>chr8:123273764-123274765</td>\n",
       "      <td>0.720280</td>\n",
       "      <td>0.152847</td>\n",
       "      <td>SHUF-EXON</td>\n",
       "      <td>0.0</td>\n",
       "    </tr>\n",
       "    <tr>\n",
       "      <th>2</th>\n",
       "      <td>chr15:40282038-40283039</td>\n",
       "      <td>0.749251</td>\n",
       "      <td>0.201798</td>\n",
       "      <td>SHUF-EXON</td>\n",
       "      <td>0.0</td>\n",
       "    </tr>\n",
       "    <tr>\n",
       "      <th>3</th>\n",
       "      <td>chr16:67666023-67667024</td>\n",
       "      <td>0.729271</td>\n",
       "      <td>0.166833</td>\n",
       "      <td>SHUF-EXON</td>\n",
       "      <td>0.0</td>\n",
       "    </tr>\n",
       "    <tr>\n",
       "      <th>4</th>\n",
       "      <td>chr5:132825384-132826385</td>\n",
       "      <td>0.725275</td>\n",
       "      <td>0.172827</td>\n",
       "      <td>SHUF-EXON</td>\n",
       "      <td>0.0</td>\n",
       "    </tr>\n",
       "  </tbody>\n",
       "</table>\n",
       "</div>"
      ],
      "text/plain": [
       "                         id   gc_frac  gc_dinuc_frac   datatype  dist1bin\n",
       "0   chr22:37658728-37659729  0.728272       0.197802  SHUF-EXON       0.0\n",
       "1  chr8:123273764-123274765  0.720280       0.152847  SHUF-EXON       0.0\n",
       "2   chr15:40282038-40283039  0.749251       0.201798  SHUF-EXON       0.0\n",
       "3   chr16:67666023-67667024  0.729271       0.166833  SHUF-EXON       0.0\n",
       "4  chr5:132825384-132826385  0.725275       0.172827  SHUF-EXON       0.0"
      ]
     },
     "execution_count": 8,
     "metadata": {},
     "output_type": "execute_result"
    }
   ],
   "source": [
    "MATCHED_GC = \"/wynton/home/ahituv/fongsl/nullomers/data/MATCHED_gc_frac_nbins-25.tsv\"\n",
    "matched = pd.read_csv(MATCHED_GC, sep='\\t')\n",
    "\n",
    "matched.head()"
   ]
  },
  {
   "cell_type": "code",
   "execution_count": 9,
   "id": "3f222aaf",
   "metadata": {
    "ExecuteTime": {
     "end_time": "2023-01-18T00:35:51.588261Z",
     "start_time": "2023-01-17T23:25:08.287096Z"
    }
   },
   "outputs": [
    {
     "name": "stdout",
     "output_type": "stream",
     "text": [
      "501\n",
      "(4255, 1005) (662, 1005)\n"
     ]
    },
    {
     "name": "stderr",
     "output_type": "stream",
     "text": [
      "/scratch/fongsl/ipykernel_12815/2031676860.py:95: FutureWarning: merging between different levels is deprecated and will be removed in a future version. (1 levels on the left, 2 on the right)\n",
      "  summary_stats= summary_stats.join(ci)\n",
      "gzip: /wynton/home/ahituv/fongsl/nullomers/data/phylop/shuf-mutations-uniq-woRMSK.GENCODE-exon_overlap-366-phylop.txt.gz already has .gz suffix -- unchanged\n"
     ]
    },
    {
     "name": "stdout",
     "output_type": "stream",
     "text": [
      "(4260, 1005) (606, 1005)\n"
     ]
    },
    {
     "name": "stderr",
     "output_type": "stream",
     "text": [
      "/scratch/fongsl/ipykernel_12815/2031676860.py:95: FutureWarning: merging between different levels is deprecated and will be removed in a future version. (1 levels on the left, 2 on the right)\n",
      "  summary_stats= summary_stats.join(ci)\n",
      "gzip: /wynton/home/ahituv/fongsl/nullomers/data/phylop/shuf-mutations-uniq-woRMSK.GENCODE-exon_overlap-370-phylop.txt.gz already has .gz suffix -- unchanged\n"
     ]
    },
    {
     "name": "stdout",
     "output_type": "stream",
     "text": [
      "(4248, 1005) (601, 1005)\n"
     ]
    },
    {
     "name": "stderr",
     "output_type": "stream",
     "text": [
      "/scratch/fongsl/ipykernel_12815/2031676860.py:95: FutureWarning: merging between different levels is deprecated and will be removed in a future version. (1 levels on the left, 2 on the right)\n",
      "  summary_stats= summary_stats.join(ci)\n",
      "gzip: /wynton/home/ahituv/fongsl/nullomers/data/phylop/shuf-mutations-uniq-woRMSK.GENCODE-exon_overlap-407-phylop.txt.gz already has .gz suffix -- unchanged\n"
     ]
    },
    {
     "name": "stdout",
     "output_type": "stream",
     "text": [
      "(4263, 1005) (567, 1005)\n"
     ]
    },
    {
     "name": "stderr",
     "output_type": "stream",
     "text": [
      "/scratch/fongsl/ipykernel_12815/2031676860.py:95: FutureWarning: merging between different levels is deprecated and will be removed in a future version. (1 levels on the left, 2 on the right)\n",
      "  summary_stats= summary_stats.join(ci)\n",
      "gzip: /wynton/home/ahituv/fongsl/nullomers/data/phylop/shuf-mutations-uniq-woRMSK.GENCODE-exon_overlap-419-phylop.txt.gz already has .gz suffix -- unchanged\n"
     ]
    },
    {
     "name": "stdout",
     "output_type": "stream",
     "text": [
      "(4254, 1005) (625, 1005)\n"
     ]
    },
    {
     "name": "stderr",
     "output_type": "stream",
     "text": [
      "/scratch/fongsl/ipykernel_12815/2031676860.py:95: FutureWarning: merging between different levels is deprecated and will be removed in a future version. (1 levels on the left, 2 on the right)\n",
      "  summary_stats= summary_stats.join(ci)\n",
      "gzip: /wynton/home/ahituv/fongsl/nullomers/data/phylop/shuf-mutations-uniq-woRMSK.GENCODE-exon_overlap-397-phylop.txt.gz already has .gz suffix -- unchanged\n"
     ]
    },
    {
     "name": "stdout",
     "output_type": "stream",
     "text": [
      "(4266, 1005) (641, 1005)\n"
     ]
    },
    {
     "name": "stderr",
     "output_type": "stream",
     "text": [
      "/scratch/fongsl/ipykernel_12815/2031676860.py:95: FutureWarning: merging between different levels is deprecated and will be removed in a future version. (1 levels on the left, 2 on the right)\n",
      "  summary_stats= summary_stats.join(ci)\n",
      "gzip: /wynton/home/ahituv/fongsl/nullomers/data/phylop/shuf-mutations-uniq-woRMSK.GENCODE-exon_overlap-400-phylop.txt.gz already has .gz suffix -- unchanged\n"
     ]
    },
    {
     "name": "stdout",
     "output_type": "stream",
     "text": [
      "(4252, 1005) (615, 1005)\n"
     ]
    },
    {
     "name": "stderr",
     "output_type": "stream",
     "text": [
      "/scratch/fongsl/ipykernel_12815/2031676860.py:95: FutureWarning: merging between different levels is deprecated and will be removed in a future version. (1 levels on the left, 2 on the right)\n",
      "  summary_stats= summary_stats.join(ci)\n",
      "gzip: /wynton/home/ahituv/fongsl/nullomers/data/phylop/shuf-mutations-uniq-woRMSK.GENCODE-exon_overlap-395-phylop.txt.gz already has .gz suffix -- unchanged\n"
     ]
    },
    {
     "name": "stdout",
     "output_type": "stream",
     "text": [
      "(4245, 1005) (589, 1005)\n"
     ]
    },
    {
     "name": "stderr",
     "output_type": "stream",
     "text": [
      "/scratch/fongsl/ipykernel_12815/2031676860.py:95: FutureWarning: merging between different levels is deprecated and will be removed in a future version. (1 levels on the left, 2 on the right)\n",
      "  summary_stats= summary_stats.join(ci)\n",
      "gzip: /wynton/home/ahituv/fongsl/nullomers/data/phylop/shuf-mutations-uniq-woRMSK.GENCODE-exon_overlap-426-phylop.txt.gz already has .gz suffix -- unchanged\n"
     ]
    },
    {
     "name": "stdout",
     "output_type": "stream",
     "text": [
      "(4250, 1005) (611, 1005)\n"
     ]
    },
    {
     "name": "stderr",
     "output_type": "stream",
     "text": [
      "/scratch/fongsl/ipykernel_12815/2031676860.py:95: FutureWarning: merging between different levels is deprecated and will be removed in a future version. (1 levels on the left, 2 on the right)\n",
      "  summary_stats= summary_stats.join(ci)\n",
      "gzip: /wynton/home/ahituv/fongsl/nullomers/data/phylop/shuf-mutations-uniq-woRMSK.GENCODE-exon_overlap-423-phylop.txt.gz already has .gz suffix -- unchanged\n"
     ]
    },
    {
     "name": "stdout",
     "output_type": "stream",
     "text": [
      "(4250, 1005) (658, 1005)\n"
     ]
    },
    {
     "name": "stderr",
     "output_type": "stream",
     "text": [
      "/scratch/fongsl/ipykernel_12815/2031676860.py:95: FutureWarning: merging between different levels is deprecated and will be removed in a future version. (1 levels on the left, 2 on the right)\n",
      "  summary_stats= summary_stats.join(ci)\n",
      "gzip: /wynton/home/ahituv/fongsl/nullomers/data/phylop/shuf-mutations-uniq-woRMSK.GENCODE-exon_overlap-387-phylop.txt.gz already has .gz suffix -- unchanged\n"
     ]
    },
    {
     "name": "stdout",
     "output_type": "stream",
     "text": [
      "(4255, 1005) (666, 1005)\n"
     ]
    },
    {
     "name": "stderr",
     "output_type": "stream",
     "text": [
      "/scratch/fongsl/ipykernel_12815/2031676860.py:95: FutureWarning: merging between different levels is deprecated and will be removed in a future version. (1 levels on the left, 2 on the right)\n",
      "  summary_stats= summary_stats.join(ci)\n",
      "gzip: /wynton/home/ahituv/fongsl/nullomers/data/phylop/shuf-mutations-uniq-woRMSK.GENCODE-exon_overlap-412-phylop.txt.gz already has .gz suffix -- unchanged\n"
     ]
    },
    {
     "name": "stdout",
     "output_type": "stream",
     "text": [
      "(4248, 1005) (639, 1005)\n"
     ]
    },
    {
     "name": "stderr",
     "output_type": "stream",
     "text": [
      "/scratch/fongsl/ipykernel_12815/2031676860.py:95: FutureWarning: merging between different levels is deprecated and will be removed in a future version. (1 levels on the left, 2 on the right)\n",
      "  summary_stats= summary_stats.join(ci)\n",
      "gzip: /wynton/home/ahituv/fongsl/nullomers/data/phylop/shuf-mutations-uniq-woRMSK.GENCODE-exon_overlap-411-phylop.txt.gz already has .gz suffix -- unchanged\n"
     ]
    },
    {
     "name": "stdout",
     "output_type": "stream",
     "text": [
      "(4255, 1005) (634, 1005)\n"
     ]
    },
    {
     "name": "stderr",
     "output_type": "stream",
     "text": [
      "/scratch/fongsl/ipykernel_12815/2031676860.py:95: FutureWarning: merging between different levels is deprecated and will be removed in a future version. (1 levels on the left, 2 on the right)\n",
      "  summary_stats= summary_stats.join(ci)\n",
      "gzip: /wynton/home/ahituv/fongsl/nullomers/data/phylop/shuf-mutations-uniq-woRMSK.GENCODE-exon_overlap-396-phylop.txt.gz already has .gz suffix -- unchanged\n"
     ]
    },
    {
     "name": "stdout",
     "output_type": "stream",
     "text": [
      "(4257, 1005) (601, 1005)\n"
     ]
    },
    {
     "name": "stderr",
     "output_type": "stream",
     "text": [
      "/scratch/fongsl/ipykernel_12815/2031676860.py:95: FutureWarning: merging between different levels is deprecated and will be removed in a future version. (1 levels on the left, 2 on the right)\n",
      "  summary_stats= summary_stats.join(ci)\n",
      "gzip: /wynton/home/ahituv/fongsl/nullomers/data/phylop/shuf-mutations-uniq-woRMSK.GENCODE-exon_overlap-414-phylop.txt.gz already has .gz suffix -- unchanged\n"
     ]
    },
    {
     "name": "stdout",
     "output_type": "stream",
     "text": [
      "(4257, 1005) (660, 1005)\n"
     ]
    },
    {
     "name": "stderr",
     "output_type": "stream",
     "text": [
      "/scratch/fongsl/ipykernel_12815/2031676860.py:95: FutureWarning: merging between different levels is deprecated and will be removed in a future version. (1 levels on the left, 2 on the right)\n",
      "  summary_stats= summary_stats.join(ci)\n",
      "gzip: /wynton/home/ahituv/fongsl/nullomers/data/phylop/shuf-mutations-uniq-woRMSK.GENCODE-exon_overlap-381-phylop.txt.gz already has .gz suffix -- unchanged\n"
     ]
    },
    {
     "name": "stdout",
     "output_type": "stream",
     "text": [
      "(4255, 1005) (646, 1005)\n"
     ]
    },
    {
     "name": "stderr",
     "output_type": "stream",
     "text": [
      "/scratch/fongsl/ipykernel_12815/2031676860.py:95: FutureWarning: merging between different levels is deprecated and will be removed in a future version. (1 levels on the left, 2 on the right)\n",
      "  summary_stats= summary_stats.join(ci)\n",
      "gzip: /wynton/home/ahituv/fongsl/nullomers/data/phylop/shuf-mutations-uniq-woRMSK.GENCODE-exon_overlap-398-phylop.txt.gz already has .gz suffix -- unchanged\n"
     ]
    },
    {
     "name": "stdout",
     "output_type": "stream",
     "text": [
      "(4263, 1005) (645, 1005)\n"
     ]
    },
    {
     "name": "stderr",
     "output_type": "stream",
     "text": [
      "/scratch/fongsl/ipykernel_12815/2031676860.py:95: FutureWarning: merging between different levels is deprecated and will be removed in a future version. (1 levels on the left, 2 on the right)\n",
      "  summary_stats= summary_stats.join(ci)\n",
      "gzip: /wynton/home/ahituv/fongsl/nullomers/data/phylop/shuf-mutations-uniq-woRMSK.GENCODE-exon_overlap-385-phylop.txt.gz already has .gz suffix -- unchanged\n"
     ]
    },
    {
     "name": "stdout",
     "output_type": "stream",
     "text": [
      "(4261, 1005) (650, 1005)\n"
     ]
    },
    {
     "name": "stderr",
     "output_type": "stream",
     "text": [
      "/scratch/fongsl/ipykernel_12815/2031676860.py:95: FutureWarning: merging between different levels is deprecated and will be removed in a future version. (1 levels on the left, 2 on the right)\n",
      "  summary_stats= summary_stats.join(ci)\n",
      "gzip: /wynton/home/ahituv/fongsl/nullomers/data/phylop/shuf-mutations-uniq-woRMSK.GENCODE-exon_overlap-391-phylop.txt.gz already has .gz suffix -- unchanged\n"
     ]
    },
    {
     "name": "stdout",
     "output_type": "stream",
     "text": [
      "(4263, 1005) (589, 1005)\n"
     ]
    },
    {
     "name": "stderr",
     "output_type": "stream",
     "text": [
      "/scratch/fongsl/ipykernel_12815/2031676860.py:95: FutureWarning: merging between different levels is deprecated and will be removed in a future version. (1 levels on the left, 2 on the right)\n",
      "  summary_stats= summary_stats.join(ci)\n",
      "gzip: /wynton/home/ahituv/fongsl/nullomers/data/phylop/shuf-mutations-uniq-woRMSK.GENCODE-exon_overlap-386-phylop.txt.gz already has .gz suffix -- unchanged\n"
     ]
    },
    {
     "name": "stdout",
     "output_type": "stream",
     "text": [
      "(4262, 1005) (624, 1005)\n"
     ]
    },
    {
     "name": "stderr",
     "output_type": "stream",
     "text": [
      "/scratch/fongsl/ipykernel_12815/2031676860.py:95: FutureWarning: merging between different levels is deprecated and will be removed in a future version. (1 levels on the left, 2 on the right)\n",
      "  summary_stats= summary_stats.join(ci)\n",
      "gzip: /wynton/home/ahituv/fongsl/nullomers/data/phylop/shuf-mutations-uniq-woRMSK.GENCODE-exon_overlap-392-phylop.txt.gz already has .gz suffix -- unchanged\n"
     ]
    },
    {
     "name": "stdout",
     "output_type": "stream",
     "text": [
      "(4253, 1005) (610, 1005)\n"
     ]
    },
    {
     "name": "stderr",
     "output_type": "stream",
     "text": [
      "/scratch/fongsl/ipykernel_12815/2031676860.py:95: FutureWarning: merging between different levels is deprecated and will be removed in a future version. (1 levels on the left, 2 on the right)\n",
      "  summary_stats= summary_stats.join(ci)\n",
      "gzip: /wynton/home/ahituv/fongsl/nullomers/data/phylop/shuf-mutations-uniq-woRMSK.GENCODE-exon_overlap-388-phylop.txt.gz already has .gz suffix -- unchanged\n"
     ]
    },
    {
     "name": "stdout",
     "output_type": "stream",
     "text": [
      "(4255, 1005) (672, 1005)\n"
     ]
    },
    {
     "name": "stderr",
     "output_type": "stream",
     "text": [
      "/scratch/fongsl/ipykernel_12815/2031676860.py:95: FutureWarning: merging between different levels is deprecated and will be removed in a future version. (1 levels on the left, 2 on the right)\n",
      "  summary_stats= summary_stats.join(ci)\n",
      "gzip: /wynton/home/ahituv/fongsl/nullomers/data/phylop/shuf-mutations-uniq-woRMSK.GENCODE-exon_overlap-390-phylop.txt.gz already has .gz suffix -- unchanged\n"
     ]
    },
    {
     "name": "stdout",
     "output_type": "stream",
     "text": [
      "(4259, 1005) (634, 1005)\n"
     ]
    },
    {
     "name": "stderr",
     "output_type": "stream",
     "text": [
      "/scratch/fongsl/ipykernel_12815/2031676860.py:95: FutureWarning: merging between different levels is deprecated and will be removed in a future version. (1 levels on the left, 2 on the right)\n",
      "  summary_stats= summary_stats.join(ci)\n",
      "gzip: /wynton/home/ahituv/fongsl/nullomers/data/phylop/shuf-mutations-uniq-woRMSK.GENCODE-exon_overlap-389-phylop.txt.gz already has .gz suffix -- unchanged\n"
     ]
    },
    {
     "name": "stdout",
     "output_type": "stream",
     "text": [
      "(4262, 1005) (673, 1005)\n"
     ]
    },
    {
     "name": "stderr",
     "output_type": "stream",
     "text": [
      "/scratch/fongsl/ipykernel_12815/2031676860.py:95: FutureWarning: merging between different levels is deprecated and will be removed in a future version. (1 levels on the left, 2 on the right)\n",
      "  summary_stats= summary_stats.join(ci)\n",
      "gzip: /wynton/home/ahituv/fongsl/nullomers/data/phylop/shuf-mutations-uniq-woRMSK.GENCODE-exon_overlap-399-phylop.txt.gz already has .gz suffix -- unchanged\n"
     ]
    },
    {
     "name": "stdout",
     "output_type": "stream",
     "text": [
      "(4254, 1005) (634, 1005)\n"
     ]
    },
    {
     "name": "stderr",
     "output_type": "stream",
     "text": [
      "/scratch/fongsl/ipykernel_12815/2031676860.py:95: FutureWarning: merging between different levels is deprecated and will be removed in a future version. (1 levels on the left, 2 on the right)\n",
      "  summary_stats= summary_stats.join(ci)\n",
      "gzip: /wynton/home/ahituv/fongsl/nullomers/data/phylop/shuf-mutations-uniq-woRMSK.GENCODE-exon_overlap-382-phylop.txt.gz already has .gz suffix -- unchanged\n"
     ]
    },
    {
     "name": "stdout",
     "output_type": "stream",
     "text": [
      "(4249, 1005) (606, 1005)\n"
     ]
    },
    {
     "name": "stderr",
     "output_type": "stream",
     "text": [
      "/scratch/fongsl/ipykernel_12815/2031676860.py:95: FutureWarning: merging between different levels is deprecated and will be removed in a future version. (1 levels on the left, 2 on the right)\n",
      "  summary_stats= summary_stats.join(ci)\n",
      "gzip: /wynton/home/ahituv/fongsl/nullomers/data/phylop/shuf-mutations-uniq-woRMSK.GENCODE-exon_overlap-403-phylop.txt.gz already has .gz suffix -- unchanged\n"
     ]
    },
    {
     "name": "stdout",
     "output_type": "stream",
     "text": [
      "(4249, 1005) (602, 1005)\n"
     ]
    },
    {
     "name": "stderr",
     "output_type": "stream",
     "text": [
      "/scratch/fongsl/ipykernel_12815/2031676860.py:95: FutureWarning: merging between different levels is deprecated and will be removed in a future version. (1 levels on the left, 2 on the right)\n",
      "  summary_stats= summary_stats.join(ci)\n",
      "gzip: /wynton/home/ahituv/fongsl/nullomers/data/phylop/shuf-mutations-uniq-woRMSK.GENCODE-exon_overlap-401-phylop.txt.gz already has .gz suffix -- unchanged\n"
     ]
    },
    {
     "name": "stdout",
     "output_type": "stream",
     "text": [
      "(4253, 1005) (607, 1005)\n"
     ]
    },
    {
     "name": "stderr",
     "output_type": "stream",
     "text": [
      "/scratch/fongsl/ipykernel_12815/2031676860.py:95: FutureWarning: merging between different levels is deprecated and will be removed in a future version. (1 levels on the left, 2 on the right)\n",
      "  summary_stats= summary_stats.join(ci)\n",
      "gzip: /wynton/home/ahituv/fongsl/nullomers/data/phylop/shuf-mutations-uniq-woRMSK.GENCODE-exon_overlap-408-phylop.txt.gz already has .gz suffix -- unchanged\n"
     ]
    },
    {
     "name": "stdout",
     "output_type": "stream",
     "text": [
      "(4257, 1005) (634, 1005)\n"
     ]
    },
    {
     "name": "stderr",
     "output_type": "stream",
     "text": [
      "/scratch/fongsl/ipykernel_12815/2031676860.py:95: FutureWarning: merging between different levels is deprecated and will be removed in a future version. (1 levels on the left, 2 on the right)\n",
      "  summary_stats= summary_stats.join(ci)\n",
      "gzip: /wynton/home/ahituv/fongsl/nullomers/data/phylop/shuf-mutations-uniq-woRMSK.GENCODE-exon_overlap-424-phylop.txt.gz already has .gz suffix -- unchanged\n"
     ]
    },
    {
     "name": "stdout",
     "output_type": "stream",
     "text": [
      "(4257, 1005) (630, 1005)\n"
     ]
    },
    {
     "name": "stderr",
     "output_type": "stream",
     "text": [
      "/scratch/fongsl/ipykernel_12815/2031676860.py:95: FutureWarning: merging between different levels is deprecated and will be removed in a future version. (1 levels on the left, 2 on the right)\n",
      "  summary_stats= summary_stats.join(ci)\n",
      "gzip: /wynton/home/ahituv/fongsl/nullomers/data/phylop/shuf-mutations-uniq-woRMSK.GENCODE-exon_overlap-410-phylop.txt.gz already has .gz suffix -- unchanged\n"
     ]
    },
    {
     "name": "stdout",
     "output_type": "stream",
     "text": [
      "(4256, 1005) (640, 1005)\n"
     ]
    },
    {
     "name": "stderr",
     "output_type": "stream",
     "text": [
      "/scratch/fongsl/ipykernel_12815/2031676860.py:95: FutureWarning: merging between different levels is deprecated and will be removed in a future version. (1 levels on the left, 2 on the right)\n",
      "  summary_stats= summary_stats.join(ci)\n",
      "gzip: /wynton/home/ahituv/fongsl/nullomers/data/phylop/shuf-mutations-uniq-woRMSK.GENCODE-exon_overlap-405-phylop.txt.gz already has .gz suffix -- unchanged\n"
     ]
    },
    {
     "name": "stdout",
     "output_type": "stream",
     "text": [
      "(4258, 1005) (620, 1005)\n"
     ]
    },
    {
     "name": "stderr",
     "output_type": "stream",
     "text": [
      "/scratch/fongsl/ipykernel_12815/2031676860.py:95: FutureWarning: merging between different levels is deprecated and will be removed in a future version. (1 levels on the left, 2 on the right)\n",
      "  summary_stats= summary_stats.join(ci)\n",
      "gzip: /wynton/home/ahituv/fongsl/nullomers/data/phylop/shuf-mutations-uniq-woRMSK.GENCODE-exon_overlap-422-phylop.txt.gz already has .gz suffix -- unchanged\n"
     ]
    },
    {
     "name": "stdout",
     "output_type": "stream",
     "text": [
      "(4250, 1005) (678, 1005)\n"
     ]
    },
    {
     "name": "stderr",
     "output_type": "stream",
     "text": [
      "/scratch/fongsl/ipykernel_12815/2031676860.py:95: FutureWarning: merging between different levels is deprecated and will be removed in a future version. (1 levels on the left, 2 on the right)\n",
      "  summary_stats= summary_stats.join(ci)\n",
      "gzip: /wynton/home/ahituv/fongsl/nullomers/data/phylop/shuf-mutations-uniq-woRMSK.GENCODE-exon_overlap-437-phylop.txt.gz already has .gz suffix -- unchanged\n"
     ]
    },
    {
     "name": "stdout",
     "output_type": "stream",
     "text": [
      "(4254, 1005) (633, 1005)\n"
     ]
    },
    {
     "name": "stderr",
     "output_type": "stream",
     "text": [
      "/scratch/fongsl/ipykernel_12815/2031676860.py:95: FutureWarning: merging between different levels is deprecated and will be removed in a future version. (1 levels on the left, 2 on the right)\n",
      "  summary_stats= summary_stats.join(ci)\n",
      "gzip: /wynton/home/ahituv/fongsl/nullomers/data/phylop/shuf-mutations-uniq-woRMSK.GENCODE-exon_overlap-406-phylop.txt.gz already has .gz suffix -- unchanged\n"
     ]
    },
    {
     "name": "stdout",
     "output_type": "stream",
     "text": [
      "(4261, 1005) (608, 1005)\n"
     ]
    },
    {
     "name": "stderr",
     "output_type": "stream",
     "text": [
      "/scratch/fongsl/ipykernel_12815/2031676860.py:95: FutureWarning: merging between different levels is deprecated and will be removed in a future version. (1 levels on the left, 2 on the right)\n",
      "  summary_stats= summary_stats.join(ci)\n",
      "gzip: /wynton/home/ahituv/fongsl/nullomers/data/phylop/shuf-mutations-uniq-woRMSK.GENCODE-exon_overlap-418-phylop.txt.gz already has .gz suffix -- unchanged\n"
     ]
    },
    {
     "name": "stdout",
     "output_type": "stream",
     "text": [
      "(4250, 1005) (617, 1005)\n"
     ]
    },
    {
     "name": "stderr",
     "output_type": "stream",
     "text": [
      "/scratch/fongsl/ipykernel_12815/2031676860.py:95: FutureWarning: merging between different levels is deprecated and will be removed in a future version. (1 levels on the left, 2 on the right)\n",
      "  summary_stats= summary_stats.join(ci)\n",
      "gzip: /wynton/home/ahituv/fongsl/nullomers/data/phylop/shuf-mutations-uniq-woRMSK.GENCODE-exon_overlap-421-phylop.txt.gz already has .gz suffix -- unchanged\n"
     ]
    },
    {
     "name": "stdout",
     "output_type": "stream",
     "text": [
      "(4261, 1005) (618, 1005)\n"
     ]
    },
    {
     "name": "stderr",
     "output_type": "stream",
     "text": [
      "/scratch/fongsl/ipykernel_12815/2031676860.py:95: FutureWarning: merging between different levels is deprecated and will be removed in a future version. (1 levels on the left, 2 on the right)\n",
      "  summary_stats= summary_stats.join(ci)\n",
      "gzip: /wynton/home/ahituv/fongsl/nullomers/data/phylop/shuf-mutations-uniq-woRMSK.GENCODE-exon_overlap-415-phylop.txt.gz already has .gz suffix -- unchanged\n"
     ]
    },
    {
     "name": "stdout",
     "output_type": "stream",
     "text": [
      "(4244, 1005) (660, 1005)\n"
     ]
    },
    {
     "name": "stderr",
     "output_type": "stream",
     "text": [
      "/scratch/fongsl/ipykernel_12815/2031676860.py:95: FutureWarning: merging between different levels is deprecated and will be removed in a future version. (1 levels on the left, 2 on the right)\n",
      "  summary_stats= summary_stats.join(ci)\n",
      "gzip: /wynton/home/ahituv/fongsl/nullomers/data/phylop/shuf-mutations-uniq-woRMSK.GENCODE-exon_overlap-420-phylop.txt.gz already has .gz suffix -- unchanged\n"
     ]
    },
    {
     "name": "stdout",
     "output_type": "stream",
     "text": [
      "(4244, 1005) (650, 1005)\n"
     ]
    },
    {
     "name": "stderr",
     "output_type": "stream",
     "text": [
      "/scratch/fongsl/ipykernel_12815/2031676860.py:95: FutureWarning: merging between different levels is deprecated and will be removed in a future version. (1 levels on the left, 2 on the right)\n",
      "  summary_stats= summary_stats.join(ci)\n",
      "gzip: /wynton/home/ahituv/fongsl/nullomers/data/phylop/shuf-mutations-uniq-woRMSK.GENCODE-exon_overlap-413-phylop.txt.gz already has .gz suffix -- unchanged\n"
     ]
    },
    {
     "name": "stdout",
     "output_type": "stream",
     "text": [
      "(4250, 1005) (616, 1005)\n"
     ]
    },
    {
     "name": "stderr",
     "output_type": "stream",
     "text": [
      "/scratch/fongsl/ipykernel_12815/2031676860.py:95: FutureWarning: merging between different levels is deprecated and will be removed in a future version. (1 levels on the left, 2 on the right)\n",
      "  summary_stats= summary_stats.join(ci)\n",
      "gzip: /wynton/home/ahituv/fongsl/nullomers/data/phylop/shuf-mutations-uniq-woRMSK.GENCODE-exon_overlap-417-phylop.txt.gz already has .gz suffix -- unchanged\n"
     ]
    },
    {
     "name": "stdout",
     "output_type": "stream",
     "text": [
      "(4255, 1005) (610, 1005)\n"
     ]
    },
    {
     "name": "stderr",
     "output_type": "stream",
     "text": [
      "/scratch/fongsl/ipykernel_12815/2031676860.py:95: FutureWarning: merging between different levels is deprecated and will be removed in a future version. (1 levels on the left, 2 on the right)\n",
      "  summary_stats= summary_stats.join(ci)\n",
      "gzip: /wynton/home/ahituv/fongsl/nullomers/data/phylop/shuf-mutations-uniq-woRMSK.GENCODE-exon_overlap-416-phylop.txt.gz already has .gz suffix -- unchanged\n"
     ]
    },
    {
     "name": "stdout",
     "output_type": "stream",
     "text": [
      "(4256, 1005) (611, 1005)\n"
     ]
    },
    {
     "name": "stderr",
     "output_type": "stream",
     "text": [
      "/scratch/fongsl/ipykernel_12815/2031676860.py:95: FutureWarning: merging between different levels is deprecated and will be removed in a future version. (1 levels on the left, 2 on the right)\n",
      "  summary_stats= summary_stats.join(ci)\n",
      "gzip: /wynton/home/ahituv/fongsl/nullomers/data/phylop/shuf-mutations-uniq-woRMSK.GENCODE-exon_overlap-432-phylop.txt.gz already has .gz suffix -- unchanged\n"
     ]
    },
    {
     "name": "stdout",
     "output_type": "stream",
     "text": [
      "(4263, 1005) (595, 1005)\n"
     ]
    },
    {
     "name": "stderr",
     "output_type": "stream",
     "text": [
      "/scratch/fongsl/ipykernel_12815/2031676860.py:95: FutureWarning: merging between different levels is deprecated and will be removed in a future version. (1 levels on the left, 2 on the right)\n",
      "  summary_stats= summary_stats.join(ci)\n",
      "gzip: /wynton/home/ahituv/fongsl/nullomers/data/phylop/shuf-mutations-uniq-woRMSK.GENCODE-exon_overlap-409-phylop.txt.gz already has .gz suffix -- unchanged\n"
     ]
    },
    {
     "name": "stdout",
     "output_type": "stream",
     "text": [
      "(4255, 1005) (650, 1005)\n"
     ]
    },
    {
     "name": "stderr",
     "output_type": "stream",
     "text": [
      "/scratch/fongsl/ipykernel_12815/2031676860.py:95: FutureWarning: merging between different levels is deprecated and will be removed in a future version. (1 levels on the left, 2 on the right)\n",
      "  summary_stats= summary_stats.join(ci)\n",
      "gzip: /wynton/home/ahituv/fongsl/nullomers/data/phylop/shuf-mutations-uniq-woRMSK.GENCODE-exon_overlap-427-phylop.txt.gz already has .gz suffix -- unchanged\n"
     ]
    },
    {
     "name": "stdout",
     "output_type": "stream",
     "text": [
      "(4260, 1005) (649, 1005)\n"
     ]
    },
    {
     "name": "stderr",
     "output_type": "stream",
     "text": [
      "/scratch/fongsl/ipykernel_12815/2031676860.py:95: FutureWarning: merging between different levels is deprecated and will be removed in a future version. (1 levels on the left, 2 on the right)\n",
      "  summary_stats= summary_stats.join(ci)\n",
      "gzip: /wynton/home/ahituv/fongsl/nullomers/data/phylop/shuf-mutations-uniq-woRMSK.GENCODE-exon_overlap-425-phylop.txt.gz already has .gz suffix -- unchanged\n"
     ]
    },
    {
     "name": "stdout",
     "output_type": "stream",
     "text": [
      "(4256, 1005) (612, 1005)\n"
     ]
    },
    {
     "name": "stderr",
     "output_type": "stream",
     "text": [
      "/scratch/fongsl/ipykernel_12815/2031676860.py:95: FutureWarning: merging between different levels is deprecated and will be removed in a future version. (1 levels on the left, 2 on the right)\n",
      "  summary_stats= summary_stats.join(ci)\n",
      "gzip: /wynton/home/ahituv/fongsl/nullomers/data/phylop/shuf-mutations-uniq-woRMSK.GENCODE-exon_overlap-431-phylop.txt.gz already has .gz suffix -- unchanged\n"
     ]
    },
    {
     "name": "stdout",
     "output_type": "stream",
     "text": [
      "(4256, 1005) (629, 1005)\n"
     ]
    },
    {
     "name": "stderr",
     "output_type": "stream",
     "text": [
      "/scratch/fongsl/ipykernel_12815/2031676860.py:95: FutureWarning: merging between different levels is deprecated and will be removed in a future version. (1 levels on the left, 2 on the right)\n",
      "  summary_stats= summary_stats.join(ci)\n",
      "gzip: /wynton/home/ahituv/fongsl/nullomers/data/phylop/shuf-mutations-uniq-woRMSK.GENCODE-exon_overlap-428-phylop.txt.gz already has .gz suffix -- unchanged\n"
     ]
    },
    {
     "name": "stdout",
     "output_type": "stream",
     "text": [
      "(4261, 1005) (605, 1005)\n"
     ]
    },
    {
     "name": "stderr",
     "output_type": "stream",
     "text": [
      "/scratch/fongsl/ipykernel_12815/2031676860.py:95: FutureWarning: merging between different levels is deprecated and will be removed in a future version. (1 levels on the left, 2 on the right)\n",
      "  summary_stats= summary_stats.join(ci)\n",
      "gzip: /wynton/home/ahituv/fongsl/nullomers/data/phylop/shuf-mutations-uniq-woRMSK.GENCODE-exon_overlap-462-phylop.txt.gz already has .gz suffix -- unchanged\n"
     ]
    },
    {
     "name": "stdout",
     "output_type": "stream",
     "text": [
      "(4257, 1005) (612, 1005)\n"
     ]
    },
    {
     "name": "stderr",
     "output_type": "stream",
     "text": [
      "/scratch/fongsl/ipykernel_12815/2031676860.py:95: FutureWarning: merging between different levels is deprecated and will be removed in a future version. (1 levels on the left, 2 on the right)\n",
      "  summary_stats= summary_stats.join(ci)\n",
      "gzip: /wynton/home/ahituv/fongsl/nullomers/data/phylop/shuf-mutations-uniq-woRMSK.GENCODE-exon_overlap-430-phylop.txt.gz already has .gz suffix -- unchanged\n"
     ]
    },
    {
     "name": "stdout",
     "output_type": "stream",
     "text": [
      "(4258, 1005) (604, 1005)\n"
     ]
    },
    {
     "name": "stderr",
     "output_type": "stream",
     "text": [
      "/scratch/fongsl/ipykernel_12815/2031676860.py:95: FutureWarning: merging between different levels is deprecated and will be removed in a future version. (1 levels on the left, 2 on the right)\n",
      "  summary_stats= summary_stats.join(ci)\n",
      "gzip: /wynton/home/ahituv/fongsl/nullomers/data/phylop/shuf-mutations-uniq-woRMSK.GENCODE-exon_overlap-435-phylop.txt.gz already has .gz suffix -- unchanged\n"
     ]
    },
    {
     "name": "stdout",
     "output_type": "stream",
     "text": [
      "(4258, 1005) (637, 1005)\n"
     ]
    },
    {
     "name": "stderr",
     "output_type": "stream",
     "text": [
      "/scratch/fongsl/ipykernel_12815/2031676860.py:95: FutureWarning: merging between different levels is deprecated and will be removed in a future version. (1 levels on the left, 2 on the right)\n",
      "  summary_stats= summary_stats.join(ci)\n",
      "gzip: /wynton/home/ahituv/fongsl/nullomers/data/phylop/shuf-mutations-uniq-woRMSK.GENCODE-exon_overlap-436-phylop.txt.gz already has .gz suffix -- unchanged\n"
     ]
    },
    {
     "name": "stdout",
     "output_type": "stream",
     "text": [
      "(4254, 1005) (622, 1005)\n"
     ]
    },
    {
     "name": "stderr",
     "output_type": "stream",
     "text": [
      "/scratch/fongsl/ipykernel_12815/2031676860.py:95: FutureWarning: merging between different levels is deprecated and will be removed in a future version. (1 levels on the left, 2 on the right)\n",
      "  summary_stats= summary_stats.join(ci)\n",
      "gzip: /wynton/home/ahituv/fongsl/nullomers/data/phylop/shuf-mutations-uniq-woRMSK.GENCODE-exon_overlap-429-phylop.txt.gz already has .gz suffix -- unchanged\n"
     ]
    },
    {
     "name": "stdout",
     "output_type": "stream",
     "text": [
      "(4253, 1005) (665, 1005)\n"
     ]
    },
    {
     "name": "stderr",
     "output_type": "stream",
     "text": [
      "/scratch/fongsl/ipykernel_12815/2031676860.py:95: FutureWarning: merging between different levels is deprecated and will be removed in a future version. (1 levels on the left, 2 on the right)\n",
      "  summary_stats= summary_stats.join(ci)\n",
      "gzip: /wynton/home/ahituv/fongsl/nullomers/data/phylop/shuf-mutations-uniq-woRMSK.GENCODE-exon_overlap-434-phylop.txt.gz already has .gz suffix -- unchanged\n"
     ]
    },
    {
     "name": "stdout",
     "output_type": "stream",
     "text": [
      "(4243, 1005) (654, 1005)\n"
     ]
    },
    {
     "name": "stderr",
     "output_type": "stream",
     "text": [
      "/scratch/fongsl/ipykernel_12815/2031676860.py:95: FutureWarning: merging between different levels is deprecated and will be removed in a future version. (1 levels on the left, 2 on the right)\n",
      "  summary_stats= summary_stats.join(ci)\n",
      "gzip: /wynton/home/ahituv/fongsl/nullomers/data/phylop/shuf-mutations-uniq-woRMSK.GENCODE-exon_overlap-455-phylop.txt.gz already has .gz suffix -- unchanged\n"
     ]
    },
    {
     "name": "stdout",
     "output_type": "stream",
     "text": [
      "(4250, 1005) (623, 1005)\n"
     ]
    },
    {
     "name": "stderr",
     "output_type": "stream",
     "text": [
      "/scratch/fongsl/ipykernel_12815/2031676860.py:95: FutureWarning: merging between different levels is deprecated and will be removed in a future version. (1 levels on the left, 2 on the right)\n",
      "  summary_stats= summary_stats.join(ci)\n",
      "gzip: /wynton/home/ahituv/fongsl/nullomers/data/phylop/shuf-mutations-uniq-woRMSK.GENCODE-exon_overlap-449-phylop.txt.gz already has .gz suffix -- unchanged\n"
     ]
    },
    {
     "name": "stdout",
     "output_type": "stream",
     "text": [
      "(4259, 1005) (656, 1005)\n"
     ]
    },
    {
     "name": "stderr",
     "output_type": "stream",
     "text": [
      "/scratch/fongsl/ipykernel_12815/2031676860.py:95: FutureWarning: merging between different levels is deprecated and will be removed in a future version. (1 levels on the left, 2 on the right)\n",
      "  summary_stats= summary_stats.join(ci)\n",
      "gzip: /wynton/home/ahituv/fongsl/nullomers/data/phylop/shuf-mutations-uniq-woRMSK.GENCODE-exon_overlap-478-phylop.txt.gz already has .gz suffix -- unchanged\n"
     ]
    },
    {
     "name": "stdout",
     "output_type": "stream",
     "text": [
      "(4248, 1005) (610, 1005)\n"
     ]
    },
    {
     "name": "stderr",
     "output_type": "stream",
     "text": [
      "/scratch/fongsl/ipykernel_12815/2031676860.py:95: FutureWarning: merging between different levels is deprecated and will be removed in a future version. (1 levels on the left, 2 on the right)\n",
      "  summary_stats= summary_stats.join(ci)\n",
      "gzip: /wynton/home/ahituv/fongsl/nullomers/data/phylop/shuf-mutations-uniq-woRMSK.GENCODE-exon_overlap-446-phylop.txt.gz already has .gz suffix -- unchanged\n"
     ]
    },
    {
     "name": "stdout",
     "output_type": "stream",
     "text": [
      "(4262, 1005) (629, 1005)\n"
     ]
    },
    {
     "name": "stderr",
     "output_type": "stream",
     "text": [
      "/scratch/fongsl/ipykernel_12815/2031676860.py:95: FutureWarning: merging between different levels is deprecated and will be removed in a future version. (1 levels on the left, 2 on the right)\n",
      "  summary_stats= summary_stats.join(ci)\n",
      "gzip: /wynton/home/ahituv/fongsl/nullomers/data/phylop/shuf-mutations-uniq-woRMSK.GENCODE-exon_overlap-441-phylop.txt.gz already has .gz suffix -- unchanged\n"
     ]
    },
    {
     "name": "stdout",
     "output_type": "stream",
     "text": [
      "(4258, 1005) (591, 1005)\n"
     ]
    },
    {
     "name": "stderr",
     "output_type": "stream",
     "text": [
      "/scratch/fongsl/ipykernel_12815/2031676860.py:95: FutureWarning: merging between different levels is deprecated and will be removed in a future version. (1 levels on the left, 2 on the right)\n",
      "  summary_stats= summary_stats.join(ci)\n",
      "gzip: /wynton/home/ahituv/fongsl/nullomers/data/phylop/shuf-mutations-uniq-woRMSK.GENCODE-exon_overlap-440-phylop.txt.gz already has .gz suffix -- unchanged\n"
     ]
    },
    {
     "name": "stdout",
     "output_type": "stream",
     "text": [
      "(4254, 1005) (641, 1005)\n"
     ]
    },
    {
     "name": "stderr",
     "output_type": "stream",
     "text": [
      "/scratch/fongsl/ipykernel_12815/2031676860.py:95: FutureWarning: merging between different levels is deprecated and will be removed in a future version. (1 levels on the left, 2 on the right)\n",
      "  summary_stats= summary_stats.join(ci)\n",
      "gzip: /wynton/home/ahituv/fongsl/nullomers/data/phylop/shuf-mutations-uniq-woRMSK.GENCODE-exon_overlap-439-phylop.txt.gz already has .gz suffix -- unchanged\n"
     ]
    },
    {
     "name": "stdout",
     "output_type": "stream",
     "text": [
      "(4252, 1005) (638, 1005)\n"
     ]
    },
    {
     "name": "stderr",
     "output_type": "stream",
     "text": [
      "/scratch/fongsl/ipykernel_12815/2031676860.py:95: FutureWarning: merging between different levels is deprecated and will be removed in a future version. (1 levels on the left, 2 on the right)\n",
      "  summary_stats= summary_stats.join(ci)\n",
      "gzip: /wynton/home/ahituv/fongsl/nullomers/data/phylop/shuf-mutations-uniq-woRMSK.GENCODE-exon_overlap-442-phylop.txt.gz already has .gz suffix -- unchanged\n"
     ]
    },
    {
     "name": "stdout",
     "output_type": "stream",
     "text": [
      "(4248, 1005) (643, 1005)\n"
     ]
    },
    {
     "name": "stderr",
     "output_type": "stream",
     "text": [
      "/scratch/fongsl/ipykernel_12815/2031676860.py:95: FutureWarning: merging between different levels is deprecated and will be removed in a future version. (1 levels on the left, 2 on the right)\n",
      "  summary_stats= summary_stats.join(ci)\n",
      "gzip: /wynton/home/ahituv/fongsl/nullomers/data/phylop/shuf-mutations-uniq-woRMSK.GENCODE-exon_overlap-445-phylop.txt.gz already has .gz suffix -- unchanged\n"
     ]
    },
    {
     "name": "stdout",
     "output_type": "stream",
     "text": [
      "(4265, 1005) (655, 1005)\n"
     ]
    },
    {
     "name": "stderr",
     "output_type": "stream",
     "text": [
      "/scratch/fongsl/ipykernel_12815/2031676860.py:95: FutureWarning: merging between different levels is deprecated and will be removed in a future version. (1 levels on the left, 2 on the right)\n",
      "  summary_stats= summary_stats.join(ci)\n",
      "gzip: /wynton/home/ahituv/fongsl/nullomers/data/phylop/shuf-mutations-uniq-woRMSK.GENCODE-exon_overlap-443-phylop.txt.gz already has .gz suffix -- unchanged\n"
     ]
    },
    {
     "name": "stdout",
     "output_type": "stream",
     "text": [
      "(4260, 1005) (650, 1005)\n"
     ]
    },
    {
     "name": "stderr",
     "output_type": "stream",
     "text": [
      "/scratch/fongsl/ipykernel_12815/2031676860.py:95: FutureWarning: merging between different levels is deprecated and will be removed in a future version. (1 levels on the left, 2 on the right)\n",
      "  summary_stats= summary_stats.join(ci)\n",
      "gzip: /wynton/home/ahituv/fongsl/nullomers/data/phylop/shuf-mutations-uniq-woRMSK.GENCODE-exon_overlap-447-phylop.txt.gz already has .gz suffix -- unchanged\n"
     ]
    },
    {
     "name": "stdout",
     "output_type": "stream",
     "text": [
      "(4260, 1005) (643, 1005)\n"
     ]
    },
    {
     "name": "stderr",
     "output_type": "stream",
     "text": [
      "/scratch/fongsl/ipykernel_12815/2031676860.py:95: FutureWarning: merging between different levels is deprecated and will be removed in a future version. (1 levels on the left, 2 on the right)\n",
      "  summary_stats= summary_stats.join(ci)\n",
      "gzip: /wynton/home/ahituv/fongsl/nullomers/data/phylop/shuf-mutations-uniq-woRMSK.GENCODE-exon_overlap-452-phylop.txt.gz already has .gz suffix -- unchanged\n"
     ]
    },
    {
     "name": "stdout",
     "output_type": "stream",
     "text": [
      "(4251, 1005) (632, 1005)\n"
     ]
    },
    {
     "name": "stderr",
     "output_type": "stream",
     "text": [
      "/scratch/fongsl/ipykernel_12815/2031676860.py:95: FutureWarning: merging between different levels is deprecated and will be removed in a future version. (1 levels on the left, 2 on the right)\n",
      "  summary_stats= summary_stats.join(ci)\n",
      "gzip: /wynton/home/ahituv/fongsl/nullomers/data/phylop/shuf-mutations-uniq-woRMSK.GENCODE-exon_overlap-438-phylop.txt.gz already has .gz suffix -- unchanged\n"
     ]
    },
    {
     "name": "stdout",
     "output_type": "stream",
     "text": [
      "(4257, 1005) (663, 1005)\n"
     ]
    },
    {
     "name": "stderr",
     "output_type": "stream",
     "text": [
      "/scratch/fongsl/ipykernel_12815/2031676860.py:95: FutureWarning: merging between different levels is deprecated and will be removed in a future version. (1 levels on the left, 2 on the right)\n",
      "  summary_stats= summary_stats.join(ci)\n",
      "gzip: /wynton/home/ahituv/fongsl/nullomers/data/phylop/shuf-mutations-uniq-woRMSK.GENCODE-exon_overlap-444-phylop.txt.gz already has .gz suffix -- unchanged\n"
     ]
    },
    {
     "name": "stdout",
     "output_type": "stream",
     "text": [
      "(4249, 1005) (646, 1005)\n"
     ]
    },
    {
     "name": "stderr",
     "output_type": "stream",
     "text": [
      "/scratch/fongsl/ipykernel_12815/2031676860.py:95: FutureWarning: merging between different levels is deprecated and will be removed in a future version. (1 levels on the left, 2 on the right)\n",
      "  summary_stats= summary_stats.join(ci)\n",
      "gzip: /wynton/home/ahituv/fongsl/nullomers/data/phylop/shuf-mutations-uniq-woRMSK.GENCODE-exon_overlap-448-phylop.txt.gz already has .gz suffix -- unchanged\n"
     ]
    },
    {
     "name": "stdout",
     "output_type": "stream",
     "text": [
      "(4249, 1005) (633, 1005)\n"
     ]
    },
    {
     "name": "stderr",
     "output_type": "stream",
     "text": [
      "/scratch/fongsl/ipykernel_12815/2031676860.py:95: FutureWarning: merging between different levels is deprecated and will be removed in a future version. (1 levels on the left, 2 on the right)\n",
      "  summary_stats= summary_stats.join(ci)\n",
      "gzip: /wynton/home/ahituv/fongsl/nullomers/data/phylop/shuf-mutations-uniq-woRMSK.GENCODE-exon_overlap-457-phylop.txt.gz already has .gz suffix -- unchanged\n"
     ]
    },
    {
     "name": "stdout",
     "output_type": "stream",
     "text": [
      "(4255, 1005) (633, 1005)\n"
     ]
    },
    {
     "name": "stderr",
     "output_type": "stream",
     "text": [
      "/scratch/fongsl/ipykernel_12815/2031676860.py:95: FutureWarning: merging between different levels is deprecated and will be removed in a future version. (1 levels on the left, 2 on the right)\n",
      "  summary_stats= summary_stats.join(ci)\n",
      "gzip: /wynton/home/ahituv/fongsl/nullomers/data/phylop/shuf-mutations-uniq-woRMSK.GENCODE-exon_overlap-463-phylop.txt.gz already has .gz suffix -- unchanged\n"
     ]
    },
    {
     "name": "stdout",
     "output_type": "stream",
     "text": [
      "(4266, 1005) (638, 1005)\n"
     ]
    },
    {
     "name": "stderr",
     "output_type": "stream",
     "text": [
      "/scratch/fongsl/ipykernel_12815/2031676860.py:95: FutureWarning: merging between different levels is deprecated and will be removed in a future version. (1 levels on the left, 2 on the right)\n",
      "  summary_stats= summary_stats.join(ci)\n",
      "gzip: /wynton/home/ahituv/fongsl/nullomers/data/phylop/shuf-mutations-uniq-woRMSK.GENCODE-exon_overlap-459-phylop.txt.gz already has .gz suffix -- unchanged\n"
     ]
    },
    {
     "name": "stdout",
     "output_type": "stream",
     "text": [
      "(4263, 1005) (628, 1005)\n"
     ]
    },
    {
     "name": "stderr",
     "output_type": "stream",
     "text": [
      "/scratch/fongsl/ipykernel_12815/2031676860.py:95: FutureWarning: merging between different levels is deprecated and will be removed in a future version. (1 levels on the left, 2 on the right)\n",
      "  summary_stats= summary_stats.join(ci)\n",
      "gzip: /wynton/home/ahituv/fongsl/nullomers/data/phylop/shuf-mutations-uniq-woRMSK.GENCODE-exon_overlap-450-phylop.txt.gz already has .gz suffix -- unchanged\n"
     ]
    },
    {
     "name": "stdout",
     "output_type": "stream",
     "text": [
      "(4254, 1005) (624, 1005)\n"
     ]
    },
    {
     "name": "stderr",
     "output_type": "stream",
     "text": [
      "/scratch/fongsl/ipykernel_12815/2031676860.py:95: FutureWarning: merging between different levels is deprecated and will be removed in a future version. (1 levels on the left, 2 on the right)\n",
      "  summary_stats= summary_stats.join(ci)\n",
      "gzip: /wynton/home/ahituv/fongsl/nullomers/data/phylop/shuf-mutations-uniq-woRMSK.GENCODE-exon_overlap-465-phylop.txt.gz already has .gz suffix -- unchanged\n"
     ]
    },
    {
     "name": "stdout",
     "output_type": "stream",
     "text": [
      "(4262, 1005) (647, 1005)\n"
     ]
    },
    {
     "name": "stderr",
     "output_type": "stream",
     "text": [
      "/scratch/fongsl/ipykernel_12815/2031676860.py:95: FutureWarning: merging between different levels is deprecated and will be removed in a future version. (1 levels on the left, 2 on the right)\n",
      "  summary_stats= summary_stats.join(ci)\n",
      "gzip: /wynton/home/ahituv/fongsl/nullomers/data/phylop/shuf-mutations-uniq-woRMSK.GENCODE-exon_overlap-451-phylop.txt.gz already has .gz suffix -- unchanged\n"
     ]
    },
    {
     "name": "stdout",
     "output_type": "stream",
     "text": [
      "(4263, 1005) (625, 1005)\n"
     ]
    },
    {
     "name": "stderr",
     "output_type": "stream",
     "text": [
      "/scratch/fongsl/ipykernel_12815/2031676860.py:95: FutureWarning: merging between different levels is deprecated and will be removed in a future version. (1 levels on the left, 2 on the right)\n",
      "  summary_stats= summary_stats.join(ci)\n",
      "gzip: /wynton/home/ahituv/fongsl/nullomers/data/phylop/shuf-mutations-uniq-woRMSK.GENCODE-exon_overlap-458-phylop.txt.gz already has .gz suffix -- unchanged\n"
     ]
    },
    {
     "name": "stdout",
     "output_type": "stream",
     "text": [
      "(4257, 1005) (632, 1005)\n"
     ]
    },
    {
     "name": "stderr",
     "output_type": "stream",
     "text": [
      "/scratch/fongsl/ipykernel_12815/2031676860.py:95: FutureWarning: merging between different levels is deprecated and will be removed in a future version. (1 levels on the left, 2 on the right)\n",
      "  summary_stats= summary_stats.join(ci)\n",
      "gzip: /wynton/home/ahituv/fongsl/nullomers/data/phylop/shuf-mutations-uniq-woRMSK.GENCODE-exon_overlap-454-phylop.txt.gz already has .gz suffix -- unchanged\n"
     ]
    },
    {
     "name": "stdout",
     "output_type": "stream",
     "text": [
      "(4264, 1005) (619, 1005)\n"
     ]
    },
    {
     "name": "stderr",
     "output_type": "stream",
     "text": [
      "/scratch/fongsl/ipykernel_12815/2031676860.py:95: FutureWarning: merging between different levels is deprecated and will be removed in a future version. (1 levels on the left, 2 on the right)\n",
      "  summary_stats= summary_stats.join(ci)\n",
      "gzip: /wynton/home/ahituv/fongsl/nullomers/data/phylop/shuf-mutations-uniq-woRMSK.GENCODE-exon_overlap-476-phylop.txt.gz already has .gz suffix -- unchanged\n"
     ]
    },
    {
     "name": "stdout",
     "output_type": "stream",
     "text": [
      "(4266, 1005) (667, 1005)\n"
     ]
    },
    {
     "name": "stderr",
     "output_type": "stream",
     "text": [
      "/scratch/fongsl/ipykernel_12815/2031676860.py:95: FutureWarning: merging between different levels is deprecated and will be removed in a future version. (1 levels on the left, 2 on the right)\n",
      "  summary_stats= summary_stats.join(ci)\n",
      "gzip: /wynton/home/ahituv/fongsl/nullomers/data/phylop/shuf-mutations-uniq-woRMSK.GENCODE-exon_overlap-433-phylop.txt.gz already has .gz suffix -- unchanged\n"
     ]
    },
    {
     "name": "stdout",
     "output_type": "stream",
     "text": [
      "(4261, 1005) (623, 1005)\n"
     ]
    },
    {
     "name": "stderr",
     "output_type": "stream",
     "text": [
      "/scratch/fongsl/ipykernel_12815/2031676860.py:95: FutureWarning: merging between different levels is deprecated and will be removed in a future version. (1 levels on the left, 2 on the right)\n",
      "  summary_stats= summary_stats.join(ci)\n",
      "gzip: /wynton/home/ahituv/fongsl/nullomers/data/phylop/shuf-mutations-uniq-woRMSK.GENCODE-exon_overlap-460-phylop.txt.gz already has .gz suffix -- unchanged\n"
     ]
    },
    {
     "name": "stdout",
     "output_type": "stream",
     "text": [
      "(4266, 1005) (651, 1005)\n"
     ]
    },
    {
     "name": "stderr",
     "output_type": "stream",
     "text": [
      "/scratch/fongsl/ipykernel_12815/2031676860.py:95: FutureWarning: merging between different levels is deprecated and will be removed in a future version. (1 levels on the left, 2 on the right)\n",
      "  summary_stats= summary_stats.join(ci)\n",
      "gzip: /wynton/home/ahituv/fongsl/nullomers/data/phylop/shuf-mutations-uniq-woRMSK.GENCODE-exon_overlap-453-phylop.txt.gz already has .gz suffix -- unchanged\n"
     ]
    },
    {
     "name": "stdout",
     "output_type": "stream",
     "text": [
      "(4258, 1005) (624, 1005)\n"
     ]
    },
    {
     "name": "stderr",
     "output_type": "stream",
     "text": [
      "/scratch/fongsl/ipykernel_12815/2031676860.py:95: FutureWarning: merging between different levels is deprecated and will be removed in a future version. (1 levels on the left, 2 on the right)\n",
      "  summary_stats= summary_stats.join(ci)\n",
      "gzip: /wynton/home/ahituv/fongsl/nullomers/data/phylop/shuf-mutations-uniq-woRMSK.GENCODE-exon_overlap-491-phylop.txt.gz already has .gz suffix -- unchanged\n"
     ]
    },
    {
     "name": "stdout",
     "output_type": "stream",
     "text": [
      "(4245, 1005) (629, 1005)\n"
     ]
    },
    {
     "name": "stderr",
     "output_type": "stream",
     "text": [
      "/scratch/fongsl/ipykernel_12815/2031676860.py:95: FutureWarning: merging between different levels is deprecated and will be removed in a future version. (1 levels on the left, 2 on the right)\n",
      "  summary_stats= summary_stats.join(ci)\n",
      "gzip: /wynton/home/ahituv/fongsl/nullomers/data/phylop/shuf-mutations-uniq-woRMSK.GENCODE-exon_overlap-456-phylop.txt.gz already has .gz suffix -- unchanged\n"
     ]
    },
    {
     "name": "stdout",
     "output_type": "stream",
     "text": [
      "(4259, 1005) (632, 1005)\n"
     ]
    },
    {
     "name": "stderr",
     "output_type": "stream",
     "text": [
      "/scratch/fongsl/ipykernel_12815/2031676860.py:95: FutureWarning: merging between different levels is deprecated and will be removed in a future version. (1 levels on the left, 2 on the right)\n",
      "  summary_stats= summary_stats.join(ci)\n",
      "gzip: /wynton/home/ahituv/fongsl/nullomers/data/phylop/shuf-mutations-uniq-woRMSK.GENCODE-exon_overlap-479-phylop.txt.gz already has .gz suffix -- unchanged\n"
     ]
    },
    {
     "name": "stdout",
     "output_type": "stream",
     "text": [
      "(4255, 1005) (642, 1005)\n"
     ]
    },
    {
     "name": "stderr",
     "output_type": "stream",
     "text": [
      "/scratch/fongsl/ipykernel_12815/2031676860.py:95: FutureWarning: merging between different levels is deprecated and will be removed in a future version. (1 levels on the left, 2 on the right)\n",
      "  summary_stats= summary_stats.join(ci)\n",
      "gzip: /wynton/home/ahituv/fongsl/nullomers/data/phylop/shuf-mutations-uniq-woRMSK.GENCODE-exon_overlap-468-phylop.txt.gz already has .gz suffix -- unchanged\n"
     ]
    },
    {
     "name": "stdout",
     "output_type": "stream",
     "text": [
      "(4260, 1005) (633, 1005)\n"
     ]
    },
    {
     "name": "stderr",
     "output_type": "stream",
     "text": [
      "/scratch/fongsl/ipykernel_12815/2031676860.py:95: FutureWarning: merging between different levels is deprecated and will be removed in a future version. (1 levels on the left, 2 on the right)\n",
      "  summary_stats= summary_stats.join(ci)\n",
      "gzip: /wynton/home/ahituv/fongsl/nullomers/data/phylop/shuf-mutations-uniq-woRMSK.GENCODE-exon_overlap-482-phylop.txt.gz already has .gz suffix -- unchanged\n"
     ]
    },
    {
     "name": "stdout",
     "output_type": "stream",
     "text": [
      "(4263, 1005) (610, 1005)\n"
     ]
    },
    {
     "name": "stderr",
     "output_type": "stream",
     "text": [
      "/scratch/fongsl/ipykernel_12815/2031676860.py:95: FutureWarning: merging between different levels is deprecated and will be removed in a future version. (1 levels on the left, 2 on the right)\n",
      "  summary_stats= summary_stats.join(ci)\n",
      "gzip: /wynton/home/ahituv/fongsl/nullomers/data/phylop/shuf-mutations-uniq-woRMSK.GENCODE-exon_overlap-464-phylop.txt.gz already has .gz suffix -- unchanged\n"
     ]
    },
    {
     "name": "stdout",
     "output_type": "stream",
     "text": [
      "(4249, 1005) (579, 1005)\n"
     ]
    },
    {
     "name": "stderr",
     "output_type": "stream",
     "text": [
      "/scratch/fongsl/ipykernel_12815/2031676860.py:95: FutureWarning: merging between different levels is deprecated and will be removed in a future version. (1 levels on the left, 2 on the right)\n",
      "  summary_stats= summary_stats.join(ci)\n",
      "gzip: /wynton/home/ahituv/fongsl/nullomers/data/phylop/shuf-mutations-uniq-woRMSK.GENCODE-exon_overlap-474-phylop.txt.gz already has .gz suffix -- unchanged\n"
     ]
    },
    {
     "name": "stdout",
     "output_type": "stream",
     "text": [
      "(4256, 1005) (634, 1005)\n"
     ]
    },
    {
     "name": "stderr",
     "output_type": "stream",
     "text": [
      "/scratch/fongsl/ipykernel_12815/2031676860.py:95: FutureWarning: merging between different levels is deprecated and will be removed in a future version. (1 levels on the left, 2 on the right)\n",
      "  summary_stats= summary_stats.join(ci)\n",
      "gzip: /wynton/home/ahituv/fongsl/nullomers/data/phylop/shuf-mutations-uniq-woRMSK.GENCODE-exon_overlap-470-phylop.txt.gz already has .gz suffix -- unchanged\n"
     ]
    },
    {
     "name": "stdout",
     "output_type": "stream",
     "text": [
      "(4256, 1005) (654, 1005)\n"
     ]
    },
    {
     "name": "stderr",
     "output_type": "stream",
     "text": [
      "/scratch/fongsl/ipykernel_12815/2031676860.py:95: FutureWarning: merging between different levels is deprecated and will be removed in a future version. (1 levels on the left, 2 on the right)\n",
      "  summary_stats= summary_stats.join(ci)\n",
      "gzip: /wynton/home/ahituv/fongsl/nullomers/data/phylop/shuf-mutations-uniq-woRMSK.GENCODE-exon_overlap-461-phylop.txt.gz already has .gz suffix -- unchanged\n"
     ]
    },
    {
     "name": "stdout",
     "output_type": "stream",
     "text": [
      "(4248, 1005) (586, 1005)\n"
     ]
    },
    {
     "name": "stderr",
     "output_type": "stream",
     "text": [
      "/scratch/fongsl/ipykernel_12815/2031676860.py:95: FutureWarning: merging between different levels is deprecated and will be removed in a future version. (1 levels on the left, 2 on the right)\n",
      "  summary_stats= summary_stats.join(ci)\n",
      "gzip: /wynton/home/ahituv/fongsl/nullomers/data/phylop/shuf-mutations-uniq-woRMSK.GENCODE-exon_overlap-472-phylop.txt.gz already has .gz suffix -- unchanged\n"
     ]
    },
    {
     "name": "stdout",
     "output_type": "stream",
     "text": [
      "(4259, 1005) (644, 1005)\n"
     ]
    },
    {
     "name": "stderr",
     "output_type": "stream",
     "text": [
      "/scratch/fongsl/ipykernel_12815/2031676860.py:95: FutureWarning: merging between different levels is deprecated and will be removed in a future version. (1 levels on the left, 2 on the right)\n",
      "  summary_stats= summary_stats.join(ci)\n",
      "gzip: /wynton/home/ahituv/fongsl/nullomers/data/phylop/shuf-mutations-uniq-woRMSK.GENCODE-exon_overlap-469-phylop.txt.gz already has .gz suffix -- unchanged\n"
     ]
    },
    {
     "name": "stdout",
     "output_type": "stream",
     "text": [
      "(4255, 1005) (580, 1005)\n"
     ]
    },
    {
     "name": "stderr",
     "output_type": "stream",
     "text": [
      "/scratch/fongsl/ipykernel_12815/2031676860.py:95: FutureWarning: merging between different levels is deprecated and will be removed in a future version. (1 levels on the left, 2 on the right)\n",
      "  summary_stats= summary_stats.join(ci)\n",
      "gzip: /wynton/home/ahituv/fongsl/nullomers/data/phylop/shuf-mutations-uniq-woRMSK.GENCODE-exon_overlap-471-phylop.txt.gz already has .gz suffix -- unchanged\n"
     ]
    },
    {
     "name": "stdout",
     "output_type": "stream",
     "text": [
      "(4265, 1005) (596, 1005)\n"
     ]
    },
    {
     "name": "stderr",
     "output_type": "stream",
     "text": [
      "/scratch/fongsl/ipykernel_12815/2031676860.py:95: FutureWarning: merging between different levels is deprecated and will be removed in a future version. (1 levels on the left, 2 on the right)\n",
      "  summary_stats= summary_stats.join(ci)\n",
      "gzip: /wynton/home/ahituv/fongsl/nullomers/data/phylop/shuf-mutations-uniq-woRMSK.GENCODE-exon_overlap-473-phylop.txt.gz already has .gz suffix -- unchanged\n"
     ]
    },
    {
     "name": "stdout",
     "output_type": "stream",
     "text": [
      "(4258, 1005) (660, 1005)\n"
     ]
    },
    {
     "name": "stderr",
     "output_type": "stream",
     "text": [
      "/scratch/fongsl/ipykernel_12815/2031676860.py:95: FutureWarning: merging between different levels is deprecated and will be removed in a future version. (1 levels on the left, 2 on the right)\n",
      "  summary_stats= summary_stats.join(ci)\n",
      "gzip: /wynton/home/ahituv/fongsl/nullomers/data/phylop/shuf-mutations-uniq-woRMSK.GENCODE-exon_overlap-466-phylop.txt.gz already has .gz suffix -- unchanged\n"
     ]
    },
    {
     "name": "stdout",
     "output_type": "stream",
     "text": [
      "(4253, 1005) (611, 1005)\n"
     ]
    },
    {
     "name": "stderr",
     "output_type": "stream",
     "text": [
      "/scratch/fongsl/ipykernel_12815/2031676860.py:95: FutureWarning: merging between different levels is deprecated and will be removed in a future version. (1 levels on the left, 2 on the right)\n",
      "  summary_stats= summary_stats.join(ci)\n",
      "gzip: /wynton/home/ahituv/fongsl/nullomers/data/phylop/shuf-mutations-uniq-woRMSK.GENCODE-exon_overlap-489-phylop.txt.gz already has .gz suffix -- unchanged\n"
     ]
    },
    {
     "name": "stdout",
     "output_type": "stream",
     "text": [
      "(4250, 1005) (627, 1005)\n"
     ]
    },
    {
     "name": "stderr",
     "output_type": "stream",
     "text": [
      "/scratch/fongsl/ipykernel_12815/2031676860.py:95: FutureWarning: merging between different levels is deprecated and will be removed in a future version. (1 levels on the left, 2 on the right)\n",
      "  summary_stats= summary_stats.join(ci)\n",
      "gzip: /wynton/home/ahituv/fongsl/nullomers/data/phylop/shuf-mutations-uniq-woRMSK.GENCODE-exon_overlap-487-phylop.txt.gz already has .gz suffix -- unchanged\n"
     ]
    },
    {
     "name": "stdout",
     "output_type": "stream",
     "text": [
      "(4263, 1005) (648, 1005)\n"
     ]
    },
    {
     "name": "stderr",
     "output_type": "stream",
     "text": [
      "/scratch/fongsl/ipykernel_12815/2031676860.py:95: FutureWarning: merging between different levels is deprecated and will be removed in a future version. (1 levels on the left, 2 on the right)\n",
      "  summary_stats= summary_stats.join(ci)\n",
      "gzip: /wynton/home/ahituv/fongsl/nullomers/data/phylop/shuf-mutations-uniq-woRMSK.GENCODE-exon_overlap-483-phylop.txt.gz already has .gz suffix -- unchanged\n"
     ]
    },
    {
     "name": "stdout",
     "output_type": "stream",
     "text": [
      "(4259, 1005) (638, 1005)\n"
     ]
    },
    {
     "name": "stderr",
     "output_type": "stream",
     "text": [
      "/scratch/fongsl/ipykernel_12815/2031676860.py:95: FutureWarning: merging between different levels is deprecated and will be removed in a future version. (1 levels on the left, 2 on the right)\n",
      "  summary_stats= summary_stats.join(ci)\n",
      "gzip: /wynton/home/ahituv/fongsl/nullomers/data/phylop/shuf-mutations-uniq-woRMSK.GENCODE-exon_overlap-481-phylop.txt.gz already has .gz suffix -- unchanged\n"
     ]
    },
    {
     "name": "stdout",
     "output_type": "stream",
     "text": [
      "(4260, 1005) (615, 1005)\n"
     ]
    },
    {
     "name": "stderr",
     "output_type": "stream",
     "text": [
      "/scratch/fongsl/ipykernel_12815/2031676860.py:95: FutureWarning: merging between different levels is deprecated and will be removed in a future version. (1 levels on the left, 2 on the right)\n",
      "  summary_stats= summary_stats.join(ci)\n",
      "gzip: /wynton/home/ahituv/fongsl/nullomers/data/phylop/shuf-mutations-uniq-woRMSK.GENCODE-exon_overlap-475-phylop.txt.gz already has .gz suffix -- unchanged\n"
     ]
    },
    {
     "name": "stdout",
     "output_type": "stream",
     "text": [
      "(4250, 1005) (629, 1005)\n"
     ]
    },
    {
     "name": "stderr",
     "output_type": "stream",
     "text": [
      "/scratch/fongsl/ipykernel_12815/2031676860.py:95: FutureWarning: merging between different levels is deprecated and will be removed in a future version. (1 levels on the left, 2 on the right)\n",
      "  summary_stats= summary_stats.join(ci)\n",
      "gzip: /wynton/home/ahituv/fongsl/nullomers/data/phylop/shuf-mutations-uniq-woRMSK.GENCODE-exon_overlap-477-phylop.txt.gz already has .gz suffix -- unchanged\n"
     ]
    },
    {
     "name": "stdout",
     "output_type": "stream",
     "text": [
      "(4259, 1005) (621, 1005)\n"
     ]
    },
    {
     "name": "stderr",
     "output_type": "stream",
     "text": [
      "/scratch/fongsl/ipykernel_12815/2031676860.py:95: FutureWarning: merging between different levels is deprecated and will be removed in a future version. (1 levels on the left, 2 on the right)\n",
      "  summary_stats= summary_stats.join(ci)\n",
      "gzip: /wynton/home/ahituv/fongsl/nullomers/data/phylop/shuf-mutations-uniq-woRMSK.GENCODE-exon_overlap-467-phylop.txt.gz already has .gz suffix -- unchanged\n"
     ]
    },
    {
     "name": "stdout",
     "output_type": "stream",
     "text": [
      "(4259, 1005) (630, 1005)\n"
     ]
    },
    {
     "name": "stderr",
     "output_type": "stream",
     "text": [
      "/scratch/fongsl/ipykernel_12815/2031676860.py:95: FutureWarning: merging between different levels is deprecated and will be removed in a future version. (1 levels on the left, 2 on the right)\n",
      "  summary_stats= summary_stats.join(ci)\n",
      "gzip: /wynton/home/ahituv/fongsl/nullomers/data/phylop/shuf-mutations-uniq-woRMSK.GENCODE-exon_overlap-486-phylop.txt.gz already has .gz suffix -- unchanged\n"
     ]
    },
    {
     "name": "stdout",
     "output_type": "stream",
     "text": [
      "(4258, 1005) (602, 1005)\n"
     ]
    },
    {
     "name": "stderr",
     "output_type": "stream",
     "text": [
      "/scratch/fongsl/ipykernel_12815/2031676860.py:95: FutureWarning: merging between different levels is deprecated and will be removed in a future version. (1 levels on the left, 2 on the right)\n",
      "  summary_stats= summary_stats.join(ci)\n",
      "gzip: /wynton/home/ahituv/fongsl/nullomers/data/phylop/shuf-mutations-uniq-woRMSK.GENCODE-exon_overlap-488-phylop.txt.gz already has .gz suffix -- unchanged\n"
     ]
    },
    {
     "name": "stdout",
     "output_type": "stream",
     "text": [
      "(4252, 1005) (604, 1005)\n"
     ]
    },
    {
     "name": "stderr",
     "output_type": "stream",
     "text": [
      "/scratch/fongsl/ipykernel_12815/2031676860.py:95: FutureWarning: merging between different levels is deprecated and will be removed in a future version. (1 levels on the left, 2 on the right)\n",
      "  summary_stats= summary_stats.join(ci)\n",
      "gzip: /wynton/home/ahituv/fongsl/nullomers/data/phylop/shuf-mutations-uniq-woRMSK.GENCODE-exon_overlap-484-phylop.txt.gz already has .gz suffix -- unchanged\n"
     ]
    },
    {
     "name": "stdout",
     "output_type": "stream",
     "text": [
      "(4257, 1005) (618, 1005)\n"
     ]
    },
    {
     "name": "stderr",
     "output_type": "stream",
     "text": [
      "/scratch/fongsl/ipykernel_12815/2031676860.py:95: FutureWarning: merging between different levels is deprecated and will be removed in a future version. (1 levels on the left, 2 on the right)\n",
      "  summary_stats= summary_stats.join(ci)\n",
      "gzip: /wynton/home/ahituv/fongsl/nullomers/data/phylop/shuf-mutations-uniq-woRMSK.GENCODE-exon_overlap-485-phylop.txt.gz already has .gz suffix -- unchanged\n"
     ]
    },
    {
     "name": "stdout",
     "output_type": "stream",
     "text": [
      "(4248, 1005) (639, 1005)\n"
     ]
    },
    {
     "name": "stderr",
     "output_type": "stream",
     "text": [
      "/scratch/fongsl/ipykernel_12815/2031676860.py:95: FutureWarning: merging between different levels is deprecated and will be removed in a future version. (1 levels on the left, 2 on the right)\n",
      "  summary_stats= summary_stats.join(ci)\n",
      "gzip: /wynton/home/ahituv/fongsl/nullomers/data/phylop/shuf-mutations-uniq-woRMSK.GENCODE-exon_overlap-480-phylop.txt.gz already has .gz suffix -- unchanged\n"
     ]
    },
    {
     "name": "stdout",
     "output_type": "stream",
     "text": [
      "(4257, 1005) (614, 1005)\n"
     ]
    },
    {
     "name": "stderr",
     "output_type": "stream",
     "text": [
      "/scratch/fongsl/ipykernel_12815/2031676860.py:95: FutureWarning: merging between different levels is deprecated and will be removed in a future version. (1 levels on the left, 2 on the right)\n",
      "  summary_stats= summary_stats.join(ci)\n",
      "gzip: /wynton/home/ahituv/fongsl/nullomers/data/phylop/shuf-mutations-uniq-woRMSK.GENCODE-exon_overlap-494-phylop.txt.gz already has .gz suffix -- unchanged\n"
     ]
    },
    {
     "name": "stdout",
     "output_type": "stream",
     "text": [
      "(4249, 1005) (638, 1005)\n"
     ]
    },
    {
     "name": "stderr",
     "output_type": "stream",
     "text": [
      "/scratch/fongsl/ipykernel_12815/2031676860.py:95: FutureWarning: merging between different levels is deprecated and will be removed in a future version. (1 levels on the left, 2 on the right)\n",
      "  summary_stats= summary_stats.join(ci)\n",
      "gzip: /wynton/home/ahituv/fongsl/nullomers/data/phylop/shuf-mutations-uniq-woRMSK.GENCODE-exon_overlap-492-phylop.txt.gz already has .gz suffix -- unchanged\n"
     ]
    },
    {
     "name": "stdout",
     "output_type": "stream",
     "text": [
      "(4260, 1005) (624, 1005)\n"
     ]
    },
    {
     "name": "stderr",
     "output_type": "stream",
     "text": [
      "/scratch/fongsl/ipykernel_12815/2031676860.py:95: FutureWarning: merging between different levels is deprecated and will be removed in a future version. (1 levels on the left, 2 on the right)\n",
      "  summary_stats= summary_stats.join(ci)\n",
      "gzip: /wynton/home/ahituv/fongsl/nullomers/data/phylop/shuf-mutations-uniq-woRMSK.GENCODE-exon_overlap-490-phylop.txt.gz already has .gz suffix -- unchanged\n"
     ]
    },
    {
     "name": "stdout",
     "output_type": "stream",
     "text": [
      "(4256, 1005) (615, 1005)\n"
     ]
    },
    {
     "name": "stderr",
     "output_type": "stream",
     "text": [
      "/scratch/fongsl/ipykernel_12815/2031676860.py:95: FutureWarning: merging between different levels is deprecated and will be removed in a future version. (1 levels on the left, 2 on the right)\n",
      "  summary_stats= summary_stats.join(ci)\n",
      "gzip: /wynton/home/ahituv/fongsl/nullomers/data/phylop/shuf-mutations-uniq-woRMSK.GENCODE-exon_overlap-498-phylop.txt.gz already has .gz suffix -- unchanged\n"
     ]
    },
    {
     "name": "stdout",
     "output_type": "stream",
     "text": [
      "(4256, 1005) (607, 1005)\n"
     ]
    },
    {
     "name": "stderr",
     "output_type": "stream",
     "text": [
      "/scratch/fongsl/ipykernel_12815/2031676860.py:95: FutureWarning: merging between different levels is deprecated and will be removed in a future version. (1 levels on the left, 2 on the right)\n",
      "  summary_stats= summary_stats.join(ci)\n",
      "gzip: /wynton/home/ahituv/fongsl/nullomers/data/phylop/shuf-mutations-uniq-woRMSK.GENCODE-exon_overlap-499-phylop.txt.gz already has .gz suffix -- unchanged\n"
     ]
    },
    {
     "name": "stdout",
     "output_type": "stream",
     "text": [
      "(4268, 1005) (626, 1005)\n"
     ]
    },
    {
     "name": "stderr",
     "output_type": "stream",
     "text": [
      "/scratch/fongsl/ipykernel_12815/2031676860.py:95: FutureWarning: merging between different levels is deprecated and will be removed in a future version. (1 levels on the left, 2 on the right)\n",
      "  summary_stats= summary_stats.join(ci)\n",
      "gzip: /wynton/home/ahituv/fongsl/nullomers/data/phylop/shuf-mutations-uniq-woRMSK.GENCODE-exon_overlap-496-phylop.txt.gz already has .gz suffix -- unchanged\n"
     ]
    },
    {
     "name": "stdout",
     "output_type": "stream",
     "text": [
      "(4254, 1005) (629, 1005)\n"
     ]
    },
    {
     "name": "stderr",
     "output_type": "stream",
     "text": [
      "/scratch/fongsl/ipykernel_12815/2031676860.py:95: FutureWarning: merging between different levels is deprecated and will be removed in a future version. (1 levels on the left, 2 on the right)\n",
      "  summary_stats= summary_stats.join(ci)\n",
      "gzip: /wynton/home/ahituv/fongsl/nullomers/data/phylop/shuf-mutations-uniq-woRMSK.GENCODE-exon_overlap-497-phylop.txt.gz already has .gz suffix -- unchanged\n"
     ]
    },
    {
     "name": "stdout",
     "output_type": "stream",
     "text": [
      "(4251, 1005) (617, 1005)\n"
     ]
    },
    {
     "name": "stderr",
     "output_type": "stream",
     "text": [
      "/scratch/fongsl/ipykernel_12815/2031676860.py:95: FutureWarning: merging between different levels is deprecated and will be removed in a future version. (1 levels on the left, 2 on the right)\n",
      "  summary_stats= summary_stats.join(ci)\n",
      "gzip: /wynton/home/ahituv/fongsl/nullomers/data/phylop/shuf-mutations-uniq-woRMSK.GENCODE-exon_overlap-495-phylop.txt.gz already has .gz suffix -- unchanged\n"
     ]
    },
    {
     "name": "stdout",
     "output_type": "stream",
     "text": [
      "(4262, 1005) (628, 1005)\n"
     ]
    },
    {
     "name": "stderr",
     "output_type": "stream",
     "text": [
      "/scratch/fongsl/ipykernel_12815/2031676860.py:95: FutureWarning: merging between different levels is deprecated and will be removed in a future version. (1 levels on the left, 2 on the right)\n",
      "  summary_stats= summary_stats.join(ci)\n",
      "gzip: /wynton/home/ahituv/fongsl/nullomers/data/phylop/shuf-mutations-uniq-woRMSK.GENCODE-exon_overlap-493-phylop.txt.gz already has .gz suffix -- unchanged\n"
     ]
    },
    {
     "name": "stdout",
     "output_type": "stream",
     "text": [
      "497\n",
      "(13595, 1005) (2110, 1005)\n"
     ]
    },
    {
     "name": "stderr",
     "output_type": "stream",
     "text": [
      "/scratch/fongsl/ipykernel_12815/2031676860.py:95: FutureWarning: merging between different levels is deprecated and will be removed in a future version. (1 levels on the left, 2 on the right)\n",
      "  summary_stats= summary_stats.join(ci)\n",
      "gzip: /wynton/home/ahituv/fongsl/nullomers/data/phylop/shuf-mutations-uniq-woRMSK.GENCODE-exon_no-overlap-ref.only-176-phylop.txt.gz already has .gz suffix -- unchanged\n"
     ]
    },
    {
     "name": "stdout",
     "output_type": "stream",
     "text": [
      "(14045, 1005) (14045, 1005)\n"
     ]
    },
    {
     "name": "stderr",
     "output_type": "stream",
     "text": [
      "/scratch/fongsl/ipykernel_12815/2031676860.py:95: FutureWarning: merging between different levels is deprecated and will be removed in a future version. (1 levels on the left, 2 on the right)\n",
      "  summary_stats= summary_stats.join(ci)\n",
      "gzip: /wynton/home/ahituv/fongsl/nullomers/data/phylop/mutations-uniq-woRMSK.GENCODE-exon_no-overlap-ref.only-phylop.txt.gz already has .gz suffix -- unchanged\n"
     ]
    },
    {
     "name": "stdout",
     "output_type": "stream",
     "text": [
      "(13580, 1005) (1982, 1005)\n"
     ]
    },
    {
     "name": "stderr",
     "output_type": "stream",
     "text": [
      "/scratch/fongsl/ipykernel_12815/2031676860.py:95: FutureWarning: merging between different levels is deprecated and will be removed in a future version. (1 levels on the left, 2 on the right)\n",
      "  summary_stats= summary_stats.join(ci)\n",
      "gzip: /wynton/home/ahituv/fongsl/nullomers/data/phylop/shuf-mutations-uniq-woRMSK.GENCODE-exon_no-overlap-ref.only-5-phylop.txt.gz already has .gz suffix -- unchanged\n"
     ]
    },
    {
     "name": "stdout",
     "output_type": "stream",
     "text": [
      "(13542, 1005) (2019, 1005)\n"
     ]
    },
    {
     "name": "stderr",
     "output_type": "stream",
     "text": [
      "/scratch/fongsl/ipykernel_12815/2031676860.py:95: FutureWarning: merging between different levels is deprecated and will be removed in a future version. (1 levels on the left, 2 on the right)\n",
      "  summary_stats= summary_stats.join(ci)\n",
      "gzip: /wynton/home/ahituv/fongsl/nullomers/data/phylop/shuf-mutations-uniq-woRMSK.GENCODE-exon_no-overlap-ref.only-0-phylop.txt.gz already has .gz suffix -- unchanged\n"
     ]
    },
    {
     "name": "stdout",
     "output_type": "stream",
     "text": [
      "(13580, 1005) (2009, 1005)\n"
     ]
    },
    {
     "name": "stderr",
     "output_type": "stream",
     "text": [
      "/scratch/fongsl/ipykernel_12815/2031676860.py:95: FutureWarning: merging between different levels is deprecated and will be removed in a future version. (1 levels on the left, 2 on the right)\n",
      "  summary_stats= summary_stats.join(ci)\n",
      "gzip: /wynton/home/ahituv/fongsl/nullomers/data/phylop/shuf-mutations-uniq-woRMSK.GENCODE-exon_no-overlap-ref.only-13-phylop.txt.gz already has .gz suffix -- unchanged\n"
     ]
    },
    {
     "name": "stdout",
     "output_type": "stream",
     "text": [
      "(13583, 1005) (1986, 1005)\n"
     ]
    },
    {
     "name": "stderr",
     "output_type": "stream",
     "text": [
      "/scratch/fongsl/ipykernel_12815/2031676860.py:95: FutureWarning: merging between different levels is deprecated and will be removed in a future version. (1 levels on the left, 2 on the right)\n",
      "  summary_stats= summary_stats.join(ci)\n",
      "gzip: /wynton/home/ahituv/fongsl/nullomers/data/phylop/shuf-mutations-uniq-woRMSK.GENCODE-exon_no-overlap-ref.only-32-phylop.txt.gz already has .gz suffix -- unchanged\n"
     ]
    },
    {
     "name": "stdout",
     "output_type": "stream",
     "text": [
      "(13593, 1005) (2145, 1005)\n"
     ]
    },
    {
     "name": "stderr",
     "output_type": "stream",
     "text": [
      "/scratch/fongsl/ipykernel_12815/2031676860.py:95: FutureWarning: merging between different levels is deprecated and will be removed in a future version. (1 levels on the left, 2 on the right)\n",
      "  summary_stats= summary_stats.join(ci)\n",
      "gzip: /wynton/home/ahituv/fongsl/nullomers/data/phylop/shuf-mutations-uniq-woRMSK.GENCODE-exon_no-overlap-ref.only-22-phylop.txt.gz already has .gz suffix -- unchanged\n"
     ]
    },
    {
     "name": "stdout",
     "output_type": "stream",
     "text": [
      "(13596, 1005) (2071, 1005)\n"
     ]
    },
    {
     "name": "stderr",
     "output_type": "stream",
     "text": [
      "/scratch/fongsl/ipykernel_12815/2031676860.py:95: FutureWarning: merging between different levels is deprecated and will be removed in a future version. (1 levels on the left, 2 on the right)\n",
      "  summary_stats= summary_stats.join(ci)\n",
      "gzip: /wynton/home/ahituv/fongsl/nullomers/data/phylop/shuf-mutations-uniq-woRMSK.GENCODE-exon_no-overlap-ref.only-14-phylop.txt.gz already has .gz suffix -- unchanged\n"
     ]
    },
    {
     "name": "stdout",
     "output_type": "stream",
     "text": [
      "(13575, 1005) (2002, 1005)\n"
     ]
    },
    {
     "name": "stderr",
     "output_type": "stream",
     "text": [
      "/scratch/fongsl/ipykernel_12815/2031676860.py:95: FutureWarning: merging between different levels is deprecated and will be removed in a future version. (1 levels on the left, 2 on the right)\n",
      "  summary_stats= summary_stats.join(ci)\n",
      "gzip: /wynton/home/ahituv/fongsl/nullomers/data/phylop/shuf-mutations-uniq-woRMSK.GENCODE-exon_no-overlap-ref.only-24-phylop.txt.gz already has .gz suffix -- unchanged\n"
     ]
    },
    {
     "name": "stdout",
     "output_type": "stream",
     "text": [
      "(13584, 1005) (2099, 1005)\n"
     ]
    },
    {
     "name": "stderr",
     "output_type": "stream",
     "text": [
      "/scratch/fongsl/ipykernel_12815/2031676860.py:95: FutureWarning: merging between different levels is deprecated and will be removed in a future version. (1 levels on the left, 2 on the right)\n",
      "  summary_stats= summary_stats.join(ci)\n",
      "gzip: /wynton/home/ahituv/fongsl/nullomers/data/phylop/shuf-mutations-uniq-woRMSK.GENCODE-exon_no-overlap-ref.only-37-phylop.txt.gz already has .gz suffix -- unchanged\n"
     ]
    },
    {
     "name": "stdout",
     "output_type": "stream",
     "text": [
      "(13541, 1005) (2015, 1005)\n"
     ]
    },
    {
     "name": "stderr",
     "output_type": "stream",
     "text": [
      "/scratch/fongsl/ipykernel_12815/2031676860.py:95: FutureWarning: merging between different levels is deprecated and will be removed in a future version. (1 levels on the left, 2 on the right)\n",
      "  summary_stats= summary_stats.join(ci)\n",
      "gzip: /wynton/home/ahituv/fongsl/nullomers/data/phylop/shuf-mutations-uniq-woRMSK.GENCODE-exon_no-overlap-ref.only-28-phylop.txt.gz already has .gz suffix -- unchanged\n"
     ]
    },
    {
     "name": "stdout",
     "output_type": "stream",
     "text": [
      "(13543, 1005) (1996, 1005)\n"
     ]
    },
    {
     "name": "stderr",
     "output_type": "stream",
     "text": [
      "/scratch/fongsl/ipykernel_12815/2031676860.py:95: FutureWarning: merging between different levels is deprecated and will be removed in a future version. (1 levels on the left, 2 on the right)\n",
      "  summary_stats= summary_stats.join(ci)\n",
      "gzip: /wynton/home/ahituv/fongsl/nullomers/data/phylop/shuf-mutations-uniq-woRMSK.GENCODE-exon_no-overlap-ref.only-18-phylop.txt.gz already has .gz suffix -- unchanged\n"
     ]
    },
    {
     "name": "stdout",
     "output_type": "stream",
     "text": [
      "(13562, 1005) (1992, 1005)\n"
     ]
    },
    {
     "name": "stderr",
     "output_type": "stream",
     "text": [
      "/scratch/fongsl/ipykernel_12815/2031676860.py:95: FutureWarning: merging between different levels is deprecated and will be removed in a future version. (1 levels on the left, 2 on the right)\n",
      "  summary_stats= summary_stats.join(ci)\n",
      "gzip: /wynton/home/ahituv/fongsl/nullomers/data/phylop/shuf-mutations-uniq-woRMSK.GENCODE-exon_no-overlap-ref.only-17-phylop.txt.gz already has .gz suffix -- unchanged\n"
     ]
    },
    {
     "name": "stdout",
     "output_type": "stream",
     "text": [
      "(13529, 1005) (2088, 1005)\n"
     ]
    },
    {
     "name": "stderr",
     "output_type": "stream",
     "text": [
      "/scratch/fongsl/ipykernel_12815/2031676860.py:95: FutureWarning: merging between different levels is deprecated and will be removed in a future version. (1 levels on the left, 2 on the right)\n",
      "  summary_stats= summary_stats.join(ci)\n",
      "gzip: /wynton/home/ahituv/fongsl/nullomers/data/phylop/shuf-mutations-uniq-woRMSK.GENCODE-exon_no-overlap-ref.only-8-phylop.txt.gz already has .gz suffix -- unchanged\n"
     ]
    },
    {
     "name": "stdout",
     "output_type": "stream",
     "text": [
      "(13566, 1005) (1990, 1005)\n"
     ]
    },
    {
     "name": "stderr",
     "output_type": "stream",
     "text": [
      "/scratch/fongsl/ipykernel_12815/2031676860.py:95: FutureWarning: merging between different levels is deprecated and will be removed in a future version. (1 levels on the left, 2 on the right)\n",
      "  summary_stats= summary_stats.join(ci)\n",
      "gzip: /wynton/home/ahituv/fongsl/nullomers/data/phylop/shuf-mutations-uniq-woRMSK.GENCODE-exon_no-overlap-ref.only-10-phylop.txt.gz already has .gz suffix -- unchanged\n"
     ]
    },
    {
     "name": "stdout",
     "output_type": "stream",
     "text": [
      "(13569, 1005) (2034, 1005)\n"
     ]
    },
    {
     "name": "stderr",
     "output_type": "stream",
     "text": [
      "/scratch/fongsl/ipykernel_12815/2031676860.py:95: FutureWarning: merging between different levels is deprecated and will be removed in a future version. (1 levels on the left, 2 on the right)\n",
      "  summary_stats= summary_stats.join(ci)\n",
      "gzip: /wynton/home/ahituv/fongsl/nullomers/data/phylop/shuf-mutations-uniq-woRMSK.GENCODE-exon_no-overlap-ref.only-4-phylop.txt.gz already has .gz suffix -- unchanged\n"
     ]
    },
    {
     "name": "stdout",
     "output_type": "stream",
     "text": [
      "(13540, 1005) (2074, 1005)\n"
     ]
    },
    {
     "name": "stderr",
     "output_type": "stream",
     "text": [
      "/scratch/fongsl/ipykernel_12815/2031676860.py:95: FutureWarning: merging between different levels is deprecated and will be removed in a future version. (1 levels on the left, 2 on the right)\n",
      "  summary_stats= summary_stats.join(ci)\n",
      "gzip: /wynton/home/ahituv/fongsl/nullomers/data/phylop/shuf-mutations-uniq-woRMSK.GENCODE-exon_no-overlap-ref.only-9-phylop.txt.gz already has .gz suffix -- unchanged\n"
     ]
    },
    {
     "name": "stdout",
     "output_type": "stream",
     "text": [
      "(13591, 1005) (2004, 1005)\n"
     ]
    },
    {
     "name": "stderr",
     "output_type": "stream",
     "text": [
      "/scratch/fongsl/ipykernel_12815/2031676860.py:95: FutureWarning: merging between different levels is deprecated and will be removed in a future version. (1 levels on the left, 2 on the right)\n",
      "  summary_stats= summary_stats.join(ci)\n",
      "gzip: /wynton/home/ahituv/fongsl/nullomers/data/phylop/shuf-mutations-uniq-woRMSK.GENCODE-exon_no-overlap-ref.only-31-phylop.txt.gz already has .gz suffix -- unchanged\n"
     ]
    },
    {
     "name": "stdout",
     "output_type": "stream",
     "text": [
      "(13581, 1005) (1979, 1005)\n"
     ]
    },
    {
     "name": "stderr",
     "output_type": "stream",
     "text": [
      "/scratch/fongsl/ipykernel_12815/2031676860.py:95: FutureWarning: merging between different levels is deprecated and will be removed in a future version. (1 levels on the left, 2 on the right)\n",
      "  summary_stats= summary_stats.join(ci)\n",
      "gzip: /wynton/home/ahituv/fongsl/nullomers/data/phylop/shuf-mutations-uniq-woRMSK.GENCODE-exon_no-overlap-ref.only-1-phylop.txt.gz already has .gz suffix -- unchanged\n"
     ]
    },
    {
     "name": "stdout",
     "output_type": "stream",
     "text": [
      "(13591, 1005) (2034, 1005)\n"
     ]
    },
    {
     "name": "stderr",
     "output_type": "stream",
     "text": [
      "/scratch/fongsl/ipykernel_12815/2031676860.py:95: FutureWarning: merging between different levels is deprecated and will be removed in a future version. (1 levels on the left, 2 on the right)\n",
      "  summary_stats= summary_stats.join(ci)\n",
      "gzip: /wynton/home/ahituv/fongsl/nullomers/data/phylop/shuf-mutations-uniq-woRMSK.GENCODE-exon_no-overlap-ref.only-6-phylop.txt.gz already has .gz suffix -- unchanged\n"
     ]
    },
    {
     "name": "stdout",
     "output_type": "stream",
     "text": [
      "(13578, 1005) (1997, 1005)\n"
     ]
    },
    {
     "name": "stderr",
     "output_type": "stream",
     "text": [
      "/scratch/fongsl/ipykernel_12815/2031676860.py:95: FutureWarning: merging between different levels is deprecated and will be removed in a future version. (1 levels on the left, 2 on the right)\n",
      "  summary_stats= summary_stats.join(ci)\n",
      "gzip: /wynton/home/ahituv/fongsl/nullomers/data/phylop/shuf-mutations-uniq-woRMSK.GENCODE-exon_no-overlap-ref.only-2-phylop.txt.gz already has .gz suffix -- unchanged\n"
     ]
    },
    {
     "name": "stdout",
     "output_type": "stream",
     "text": [
      "(13554, 1005) (1986, 1005)\n"
     ]
    },
    {
     "name": "stderr",
     "output_type": "stream",
     "text": [
      "/scratch/fongsl/ipykernel_12815/2031676860.py:95: FutureWarning: merging between different levels is deprecated and will be removed in a future version. (1 levels on the left, 2 on the right)\n",
      "  summary_stats= summary_stats.join(ci)\n",
      "gzip: /wynton/home/ahituv/fongsl/nullomers/data/phylop/shuf-mutations-uniq-woRMSK.GENCODE-exon_no-overlap-ref.only-15-phylop.txt.gz already has .gz suffix -- unchanged\n"
     ]
    },
    {
     "name": "stdout",
     "output_type": "stream",
     "text": [
      "(13566, 1005) (1977, 1005)\n"
     ]
    },
    {
     "name": "stderr",
     "output_type": "stream",
     "text": [
      "/scratch/fongsl/ipykernel_12815/2031676860.py:95: FutureWarning: merging between different levels is deprecated and will be removed in a future version. (1 levels on the left, 2 on the right)\n",
      "  summary_stats= summary_stats.join(ci)\n",
      "gzip: /wynton/home/ahituv/fongsl/nullomers/data/phylop/shuf-mutations-uniq-woRMSK.GENCODE-exon_no-overlap-ref.only-50-phylop.txt.gz already has .gz suffix -- unchanged\n"
     ]
    },
    {
     "name": "stdout",
     "output_type": "stream",
     "text": [
      "(13576, 1005) (1928, 1005)\n"
     ]
    },
    {
     "name": "stderr",
     "output_type": "stream",
     "text": [
      "/scratch/fongsl/ipykernel_12815/2031676860.py:95: FutureWarning: merging between different levels is deprecated and will be removed in a future version. (1 levels on the left, 2 on the right)\n",
      "  summary_stats= summary_stats.join(ci)\n",
      "gzip: /wynton/home/ahituv/fongsl/nullomers/data/phylop/shuf-mutations-uniq-woRMSK.GENCODE-exon_no-overlap-ref.only-21-phylop.txt.gz already has .gz suffix -- unchanged\n"
     ]
    },
    {
     "name": "stdout",
     "output_type": "stream",
     "text": [
      "(13560, 1005) (1928, 1005)\n"
     ]
    },
    {
     "name": "stderr",
     "output_type": "stream",
     "text": [
      "/scratch/fongsl/ipykernel_12815/2031676860.py:95: FutureWarning: merging between different levels is deprecated and will be removed in a future version. (1 levels on the left, 2 on the right)\n",
      "  summary_stats= summary_stats.join(ci)\n",
      "gzip: /wynton/home/ahituv/fongsl/nullomers/data/phylop/shuf-mutations-uniq-woRMSK.GENCODE-exon_no-overlap-ref.only-33-phylop.txt.gz already has .gz suffix -- unchanged\n"
     ]
    },
    {
     "name": "stdout",
     "output_type": "stream",
     "text": [
      "(13587, 1005) (2051, 1005)\n"
     ]
    },
    {
     "name": "stderr",
     "output_type": "stream",
     "text": [
      "/scratch/fongsl/ipykernel_12815/2031676860.py:95: FutureWarning: merging between different levels is deprecated and will be removed in a future version. (1 levels on the left, 2 on the right)\n",
      "  summary_stats= summary_stats.join(ci)\n",
      "gzip: /wynton/home/ahituv/fongsl/nullomers/data/phylop/shuf-mutations-uniq-woRMSK.GENCODE-exon_no-overlap-ref.only-11-phylop.txt.gz already has .gz suffix -- unchanged\n"
     ]
    },
    {
     "name": "stdout",
     "output_type": "stream",
     "text": [
      "(13568, 1005) (2009, 1005)\n"
     ]
    },
    {
     "name": "stderr",
     "output_type": "stream",
     "text": [
      "/scratch/fongsl/ipykernel_12815/2031676860.py:95: FutureWarning: merging between different levels is deprecated and will be removed in a future version. (1 levels on the left, 2 on the right)\n",
      "  summary_stats= summary_stats.join(ci)\n",
      "gzip: /wynton/home/ahituv/fongsl/nullomers/data/phylop/shuf-mutations-uniq-woRMSK.GENCODE-exon_no-overlap-ref.only-12-phylop.txt.gz already has .gz suffix -- unchanged\n"
     ]
    },
    {
     "name": "stdout",
     "output_type": "stream",
     "text": [
      "(13560, 1005) (2047, 1005)\n"
     ]
    },
    {
     "name": "stderr",
     "output_type": "stream",
     "text": [
      "/scratch/fongsl/ipykernel_12815/2031676860.py:95: FutureWarning: merging between different levels is deprecated and will be removed in a future version. (1 levels on the left, 2 on the right)\n",
      "  summary_stats= summary_stats.join(ci)\n",
      "gzip: /wynton/home/ahituv/fongsl/nullomers/data/phylop/shuf-mutations-uniq-woRMSK.GENCODE-exon_no-overlap-ref.only-20-phylop.txt.gz already has .gz suffix -- unchanged\n"
     ]
    },
    {
     "name": "stdout",
     "output_type": "stream",
     "text": [
      "(13614, 1005) (2050, 1005)\n"
     ]
    },
    {
     "name": "stderr",
     "output_type": "stream",
     "text": [
      "/scratch/fongsl/ipykernel_12815/2031676860.py:95: FutureWarning: merging between different levels is deprecated and will be removed in a future version. (1 levels on the left, 2 on the right)\n",
      "  summary_stats= summary_stats.join(ci)\n",
      "gzip: /wynton/home/ahituv/fongsl/nullomers/data/phylop/shuf-mutations-uniq-woRMSK.GENCODE-exon_no-overlap-ref.only-16-phylop.txt.gz already has .gz suffix -- unchanged\n"
     ]
    },
    {
     "name": "stdout",
     "output_type": "stream",
     "text": [
      "(13594, 1005) (2016, 1005)\n"
     ]
    },
    {
     "name": "stderr",
     "output_type": "stream",
     "text": [
      "/scratch/fongsl/ipykernel_12815/2031676860.py:95: FutureWarning: merging between different levels is deprecated and will be removed in a future version. (1 levels on the left, 2 on the right)\n",
      "  summary_stats= summary_stats.join(ci)\n",
      "gzip: /wynton/home/ahituv/fongsl/nullomers/data/phylop/shuf-mutations-uniq-woRMSK.GENCODE-exon_no-overlap-ref.only-19-phylop.txt.gz already has .gz suffix -- unchanged\n"
     ]
    },
    {
     "name": "stdout",
     "output_type": "stream",
     "text": [
      "(13566, 1005) (2003, 1005)\n"
     ]
    },
    {
     "name": "stderr",
     "output_type": "stream",
     "text": [
      "/scratch/fongsl/ipykernel_12815/2031676860.py:95: FutureWarning: merging between different levels is deprecated and will be removed in a future version. (1 levels on the left, 2 on the right)\n",
      "  summary_stats= summary_stats.join(ci)\n",
      "gzip: /wynton/home/ahituv/fongsl/nullomers/data/phylop/shuf-mutations-uniq-woRMSK.GENCODE-exon_no-overlap-ref.only-38-phylop.txt.gz already has .gz suffix -- unchanged\n"
     ]
    },
    {
     "name": "stdout",
     "output_type": "stream",
     "text": [
      "(13547, 1005) (1979, 1005)\n"
     ]
    },
    {
     "name": "stderr",
     "output_type": "stream",
     "text": [
      "/scratch/fongsl/ipykernel_12815/2031676860.py:95: FutureWarning: merging between different levels is deprecated and will be removed in a future version. (1 levels on the left, 2 on the right)\n",
      "  summary_stats= summary_stats.join(ci)\n",
      "gzip: /wynton/home/ahituv/fongsl/nullomers/data/phylop/shuf-mutations-uniq-woRMSK.GENCODE-exon_no-overlap-ref.only-36-phylop.txt.gz already has .gz suffix -- unchanged\n"
     ]
    },
    {
     "name": "stdout",
     "output_type": "stream",
     "text": [
      "(13566, 1005) (2086, 1005)\n"
     ]
    },
    {
     "name": "stderr",
     "output_type": "stream",
     "text": [
      "/scratch/fongsl/ipykernel_12815/2031676860.py:95: FutureWarning: merging between different levels is deprecated and will be removed in a future version. (1 levels on the left, 2 on the right)\n",
      "  summary_stats= summary_stats.join(ci)\n",
      "gzip: /wynton/home/ahituv/fongsl/nullomers/data/phylop/shuf-mutations-uniq-woRMSK.GENCODE-exon_no-overlap-ref.only-30-phylop.txt.gz already has .gz suffix -- unchanged\n"
     ]
    },
    {
     "name": "stdout",
     "output_type": "stream",
     "text": [
      "(13542, 1005) (1997, 1005)\n"
     ]
    },
    {
     "name": "stderr",
     "output_type": "stream",
     "text": [
      "/scratch/fongsl/ipykernel_12815/2031676860.py:95: FutureWarning: merging between different levels is deprecated and will be removed in a future version. (1 levels on the left, 2 on the right)\n",
      "  summary_stats= summary_stats.join(ci)\n",
      "gzip: /wynton/home/ahituv/fongsl/nullomers/data/phylop/shuf-mutations-uniq-woRMSK.GENCODE-exon_no-overlap-ref.only-29-phylop.txt.gz already has .gz suffix -- unchanged\n"
     ]
    },
    {
     "name": "stdout",
     "output_type": "stream",
     "text": [
      "(13544, 1005) (2019, 1005)\n"
     ]
    },
    {
     "name": "stderr",
     "output_type": "stream",
     "text": [
      "/scratch/fongsl/ipykernel_12815/2031676860.py:95: FutureWarning: merging between different levels is deprecated and will be removed in a future version. (1 levels on the left, 2 on the right)\n",
      "  summary_stats= summary_stats.join(ci)\n",
      "gzip: /wynton/home/ahituv/fongsl/nullomers/data/phylop/shuf-mutations-uniq-woRMSK.GENCODE-exon_no-overlap-ref.only-7-phylop.txt.gz already has .gz suffix -- unchanged\n"
     ]
    },
    {
     "name": "stdout",
     "output_type": "stream",
     "text": [
      "(13588, 1005) (1930, 1005)\n"
     ]
    },
    {
     "name": "stderr",
     "output_type": "stream",
     "text": [
      "/scratch/fongsl/ipykernel_12815/2031676860.py:95: FutureWarning: merging between different levels is deprecated and will be removed in a future version. (1 levels on the left, 2 on the right)\n",
      "  summary_stats= summary_stats.join(ci)\n",
      "gzip: /wynton/home/ahituv/fongsl/nullomers/data/phylop/shuf-mutations-uniq-woRMSK.GENCODE-exon_no-overlap-ref.only-3-phylop.txt.gz already has .gz suffix -- unchanged\n"
     ]
    },
    {
     "name": "stdout",
     "output_type": "stream",
     "text": [
      "(13558, 1005) (2035, 1005)\n"
     ]
    },
    {
     "name": "stderr",
     "output_type": "stream",
     "text": [
      "/scratch/fongsl/ipykernel_12815/2031676860.py:95: FutureWarning: merging between different levels is deprecated and will be removed in a future version. (1 levels on the left, 2 on the right)\n",
      "  summary_stats= summary_stats.join(ci)\n",
      "gzip: /wynton/home/ahituv/fongsl/nullomers/data/phylop/shuf-mutations-uniq-woRMSK.GENCODE-exon_no-overlap-ref.only-39-phylop.txt.gz already has .gz suffix -- unchanged\n"
     ]
    },
    {
     "name": "stdout",
     "output_type": "stream",
     "text": [
      "(13549, 1005) (1950, 1005)\n"
     ]
    },
    {
     "name": "stderr",
     "output_type": "stream",
     "text": [
      "/scratch/fongsl/ipykernel_12815/2031676860.py:95: FutureWarning: merging between different levels is deprecated and will be removed in a future version. (1 levels on the left, 2 on the right)\n",
      "  summary_stats= summary_stats.join(ci)\n",
      "gzip: /wynton/home/ahituv/fongsl/nullomers/data/phylop/shuf-mutations-uniq-woRMSK.GENCODE-exon_no-overlap-ref.only-25-phylop.txt.gz already has .gz suffix -- unchanged\n"
     ]
    },
    {
     "name": "stdout",
     "output_type": "stream",
     "text": [
      "(13606, 1005) (2069, 1005)\n"
     ]
    },
    {
     "name": "stderr",
     "output_type": "stream",
     "text": [
      "/scratch/fongsl/ipykernel_12815/2031676860.py:95: FutureWarning: merging between different levels is deprecated and will be removed in a future version. (1 levels on the left, 2 on the right)\n",
      "  summary_stats= summary_stats.join(ci)\n",
      "gzip: /wynton/home/ahituv/fongsl/nullomers/data/phylop/shuf-mutations-uniq-woRMSK.GENCODE-exon_no-overlap-ref.only-27-phylop.txt.gz already has .gz suffix -- unchanged\n"
     ]
    },
    {
     "name": "stdout",
     "output_type": "stream",
     "text": [
      "(13559, 1005) (2109, 1005)\n"
     ]
    },
    {
     "name": "stderr",
     "output_type": "stream",
     "text": [
      "/scratch/fongsl/ipykernel_12815/2031676860.py:95: FutureWarning: merging between different levels is deprecated and will be removed in a future version. (1 levels on the left, 2 on the right)\n",
      "  summary_stats= summary_stats.join(ci)\n",
      "gzip: /wynton/home/ahituv/fongsl/nullomers/data/phylop/shuf-mutations-uniq-woRMSK.GENCODE-exon_no-overlap-ref.only-26-phylop.txt.gz already has .gz suffix -- unchanged\n"
     ]
    },
    {
     "name": "stdout",
     "output_type": "stream",
     "text": [
      "(13552, 1005) (1949, 1005)\n"
     ]
    },
    {
     "name": "stderr",
     "output_type": "stream",
     "text": [
      "/scratch/fongsl/ipykernel_12815/2031676860.py:95: FutureWarning: merging between different levels is deprecated and will be removed in a future version. (1 levels on the left, 2 on the right)\n",
      "  summary_stats= summary_stats.join(ci)\n",
      "gzip: /wynton/home/ahituv/fongsl/nullomers/data/phylop/shuf-mutations-uniq-woRMSK.GENCODE-exon_no-overlap-ref.only-23-phylop.txt.gz already has .gz suffix -- unchanged\n"
     ]
    },
    {
     "name": "stdout",
     "output_type": "stream",
     "text": [
      "(13536, 1005) (2088, 1005)\n"
     ]
    },
    {
     "name": "stderr",
     "output_type": "stream",
     "text": [
      "/scratch/fongsl/ipykernel_12815/2031676860.py:95: FutureWarning: merging between different levels is deprecated and will be removed in a future version. (1 levels on the left, 2 on the right)\n",
      "  summary_stats= summary_stats.join(ci)\n",
      "gzip: /wynton/home/ahituv/fongsl/nullomers/data/phylop/shuf-mutations-uniq-woRMSK.GENCODE-exon_no-overlap-ref.only-55-phylop.txt.gz already has .gz suffix -- unchanged\n"
     ]
    },
    {
     "name": "stdout",
     "output_type": "stream",
     "text": [
      "(13558, 1005) (1993, 1005)\n"
     ]
    },
    {
     "name": "stderr",
     "output_type": "stream",
     "text": [
      "/scratch/fongsl/ipykernel_12815/2031676860.py:95: FutureWarning: merging between different levels is deprecated and will be removed in a future version. (1 levels on the left, 2 on the right)\n",
      "  summary_stats= summary_stats.join(ci)\n",
      "gzip: /wynton/home/ahituv/fongsl/nullomers/data/phylop/shuf-mutations-uniq-woRMSK.GENCODE-exon_no-overlap-ref.only-34-phylop.txt.gz already has .gz suffix -- unchanged\n"
     ]
    },
    {
     "name": "stdout",
     "output_type": "stream",
     "text": [
      "(13576, 1005) (2020, 1005)\n"
     ]
    },
    {
     "name": "stderr",
     "output_type": "stream",
     "text": [
      "/scratch/fongsl/ipykernel_12815/2031676860.py:95: FutureWarning: merging between different levels is deprecated and will be removed in a future version. (1 levels on the left, 2 on the right)\n",
      "  summary_stats= summary_stats.join(ci)\n",
      "gzip: /wynton/home/ahituv/fongsl/nullomers/data/phylop/shuf-mutations-uniq-woRMSK.GENCODE-exon_no-overlap-ref.only-75-phylop.txt.gz already has .gz suffix -- unchanged\n"
     ]
    },
    {
     "name": "stdout",
     "output_type": "stream",
     "text": [
      "(13572, 1005) (2046, 1005)\n"
     ]
    },
    {
     "name": "stderr",
     "output_type": "stream",
     "text": [
      "/scratch/fongsl/ipykernel_12815/2031676860.py:95: FutureWarning: merging between different levels is deprecated and will be removed in a future version. (1 levels on the left, 2 on the right)\n",
      "  summary_stats= summary_stats.join(ci)\n",
      "gzip: /wynton/home/ahituv/fongsl/nullomers/data/phylop/shuf-mutations-uniq-woRMSK.GENCODE-exon_no-overlap-ref.only-61-phylop.txt.gz already has .gz suffix -- unchanged\n"
     ]
    },
    {
     "name": "stdout",
     "output_type": "stream",
     "text": [
      "(13550, 1005) (1987, 1005)\n"
     ]
    },
    {
     "name": "stderr",
     "output_type": "stream",
     "text": [
      "/scratch/fongsl/ipykernel_12815/2031676860.py:95: FutureWarning: merging between different levels is deprecated and will be removed in a future version. (1 levels on the left, 2 on the right)\n",
      "  summary_stats= summary_stats.join(ci)\n",
      "gzip: /wynton/home/ahituv/fongsl/nullomers/data/phylop/shuf-mutations-uniq-woRMSK.GENCODE-exon_no-overlap-ref.only-42-phylop.txt.gz already has .gz suffix -- unchanged\n"
     ]
    },
    {
     "name": "stdout",
     "output_type": "stream",
     "text": [
      "(13570, 1005) (2065, 1005)\n"
     ]
    },
    {
     "name": "stderr",
     "output_type": "stream",
     "text": [
      "/scratch/fongsl/ipykernel_12815/2031676860.py:95: FutureWarning: merging between different levels is deprecated and will be removed in a future version. (1 levels on the left, 2 on the right)\n",
      "  summary_stats= summary_stats.join(ci)\n",
      "gzip: /wynton/home/ahituv/fongsl/nullomers/data/phylop/shuf-mutations-uniq-woRMSK.GENCODE-exon_no-overlap-ref.only-51-phylop.txt.gz already has .gz suffix -- unchanged\n"
     ]
    },
    {
     "name": "stdout",
     "output_type": "stream",
     "text": [
      "(13571, 1005) (2022, 1005)\n"
     ]
    },
    {
     "name": "stderr",
     "output_type": "stream",
     "text": [
      "/scratch/fongsl/ipykernel_12815/2031676860.py:95: FutureWarning: merging between different levels is deprecated and will be removed in a future version. (1 levels on the left, 2 on the right)\n",
      "  summary_stats= summary_stats.join(ci)\n",
      "gzip: /wynton/home/ahituv/fongsl/nullomers/data/phylop/shuf-mutations-uniq-woRMSK.GENCODE-exon_no-overlap-ref.only-49-phylop.txt.gz already has .gz suffix -- unchanged\n"
     ]
    },
    {
     "name": "stdout",
     "output_type": "stream",
     "text": [
      "(13574, 1005) (1977, 1005)\n"
     ]
    },
    {
     "name": "stderr",
     "output_type": "stream",
     "text": [
      "/scratch/fongsl/ipykernel_12815/2031676860.py:95: FutureWarning: merging between different levels is deprecated and will be removed in a future version. (1 levels on the left, 2 on the right)\n",
      "  summary_stats= summary_stats.join(ci)\n",
      "gzip: /wynton/home/ahituv/fongsl/nullomers/data/phylop/shuf-mutations-uniq-woRMSK.GENCODE-exon_no-overlap-ref.only-35-phylop.txt.gz already has .gz suffix -- unchanged\n"
     ]
    },
    {
     "name": "stdout",
     "output_type": "stream",
     "text": [
      "(13555, 1005) (2041, 1005)\n"
     ]
    },
    {
     "name": "stderr",
     "output_type": "stream",
     "text": [
      "/scratch/fongsl/ipykernel_12815/2031676860.py:95: FutureWarning: merging between different levels is deprecated and will be removed in a future version. (1 levels on the left, 2 on the right)\n",
      "  summary_stats= summary_stats.join(ci)\n",
      "gzip: /wynton/home/ahituv/fongsl/nullomers/data/phylop/shuf-mutations-uniq-woRMSK.GENCODE-exon_no-overlap-ref.only-60-phylop.txt.gz already has .gz suffix -- unchanged\n"
     ]
    },
    {
     "name": "stdout",
     "output_type": "stream",
     "text": [
      "(13578, 1005) (2027, 1005)\n"
     ]
    },
    {
     "name": "stderr",
     "output_type": "stream",
     "text": [
      "/scratch/fongsl/ipykernel_12815/2031676860.py:95: FutureWarning: merging between different levels is deprecated and will be removed in a future version. (1 levels on the left, 2 on the right)\n",
      "  summary_stats= summary_stats.join(ci)\n",
      "gzip: /wynton/home/ahituv/fongsl/nullomers/data/phylop/shuf-mutations-uniq-woRMSK.GENCODE-exon_no-overlap-ref.only-56-phylop.txt.gz already has .gz suffix -- unchanged\n"
     ]
    },
    {
     "name": "stdout",
     "output_type": "stream",
     "text": [
      "(13576, 1005) (2012, 1005)\n"
     ]
    },
    {
     "name": "stderr",
     "output_type": "stream",
     "text": [
      "/scratch/fongsl/ipykernel_12815/2031676860.py:95: FutureWarning: merging between different levels is deprecated and will be removed in a future version. (1 levels on the left, 2 on the right)\n",
      "  summary_stats= summary_stats.join(ci)\n",
      "gzip: /wynton/home/ahituv/fongsl/nullomers/data/phylop/shuf-mutations-uniq-woRMSK.GENCODE-exon_no-overlap-ref.only-44-phylop.txt.gz already has .gz suffix -- unchanged\n"
     ]
    },
    {
     "name": "stdout",
     "output_type": "stream",
     "text": [
      "(13578, 1005) (2059, 1005)\n"
     ]
    },
    {
     "name": "stderr",
     "output_type": "stream",
     "text": [
      "/scratch/fongsl/ipykernel_12815/2031676860.py:95: FutureWarning: merging between different levels is deprecated and will be removed in a future version. (1 levels on the left, 2 on the right)\n",
      "  summary_stats= summary_stats.join(ci)\n",
      "gzip: /wynton/home/ahituv/fongsl/nullomers/data/phylop/shuf-mutations-uniq-woRMSK.GENCODE-exon_no-overlap-ref.only-59-phylop.txt.gz already has .gz suffix -- unchanged\n"
     ]
    },
    {
     "name": "stdout",
     "output_type": "stream",
     "text": [
      "(13565, 1005) (2025, 1005)\n"
     ]
    },
    {
     "name": "stderr",
     "output_type": "stream",
     "text": [
      "/scratch/fongsl/ipykernel_12815/2031676860.py:95: FutureWarning: merging between different levels is deprecated and will be removed in a future version. (1 levels on the left, 2 on the right)\n",
      "  summary_stats= summary_stats.join(ci)\n",
      "gzip: /wynton/home/ahituv/fongsl/nullomers/data/phylop/shuf-mutations-uniq-woRMSK.GENCODE-exon_no-overlap-ref.only-85-phylop.txt.gz already has .gz suffix -- unchanged\n"
     ]
    },
    {
     "name": "stdout",
     "output_type": "stream",
     "text": [
      "(13564, 1005) (1978, 1005)\n"
     ]
    },
    {
     "name": "stderr",
     "output_type": "stream",
     "text": [
      "/scratch/fongsl/ipykernel_12815/2031676860.py:95: FutureWarning: merging between different levels is deprecated and will be removed in a future version. (1 levels on the left, 2 on the right)\n",
      "  summary_stats= summary_stats.join(ci)\n",
      "gzip: /wynton/home/ahituv/fongsl/nullomers/data/phylop/shuf-mutations-uniq-woRMSK.GENCODE-exon_no-overlap-ref.only-46-phylop.txt.gz already has .gz suffix -- unchanged\n"
     ]
    },
    {
     "name": "stdout",
     "output_type": "stream",
     "text": [
      "(13575, 1005) (1997, 1005)\n"
     ]
    },
    {
     "name": "stderr",
     "output_type": "stream",
     "text": [
      "/scratch/fongsl/ipykernel_12815/2031676860.py:95: FutureWarning: merging between different levels is deprecated and will be removed in a future version. (1 levels on the left, 2 on the right)\n",
      "  summary_stats= summary_stats.join(ci)\n",
      "gzip: /wynton/home/ahituv/fongsl/nullomers/data/phylop/shuf-mutations-uniq-woRMSK.GENCODE-exon_no-overlap-ref.only-77-phylop.txt.gz already has .gz suffix -- unchanged\n"
     ]
    },
    {
     "name": "stdout",
     "output_type": "stream",
     "text": [
      "(13556, 1005) (2036, 1005)\n"
     ]
    },
    {
     "name": "stderr",
     "output_type": "stream",
     "text": [
      "/scratch/fongsl/ipykernel_12815/2031676860.py:95: FutureWarning: merging between different levels is deprecated and will be removed in a future version. (1 levels on the left, 2 on the right)\n",
      "  summary_stats= summary_stats.join(ci)\n",
      "gzip: /wynton/home/ahituv/fongsl/nullomers/data/phylop/shuf-mutations-uniq-woRMSK.GENCODE-exon_no-overlap-ref.only-43-phylop.txt.gz already has .gz suffix -- unchanged\n"
     ]
    },
    {
     "name": "stdout",
     "output_type": "stream",
     "text": [
      "(13567, 1005) (1976, 1005)\n"
     ]
    },
    {
     "name": "stderr",
     "output_type": "stream",
     "text": [
      "/scratch/fongsl/ipykernel_12815/2031676860.py:95: FutureWarning: merging between different levels is deprecated and will be removed in a future version. (1 levels on the left, 2 on the right)\n",
      "  summary_stats= summary_stats.join(ci)\n",
      "gzip: /wynton/home/ahituv/fongsl/nullomers/data/phylop/shuf-mutations-uniq-woRMSK.GENCODE-exon_no-overlap-ref.only-45-phylop.txt.gz already has .gz suffix -- unchanged\n"
     ]
    },
    {
     "name": "stdout",
     "output_type": "stream",
     "text": [
      "(13570, 1005) (2019, 1005)\n"
     ]
    },
    {
     "name": "stderr",
     "output_type": "stream",
     "text": [
      "/scratch/fongsl/ipykernel_12815/2031676860.py:95: FutureWarning: merging between different levels is deprecated and will be removed in a future version. (1 levels on the left, 2 on the right)\n",
      "  summary_stats= summary_stats.join(ci)\n",
      "gzip: /wynton/home/ahituv/fongsl/nullomers/data/phylop/shuf-mutations-uniq-woRMSK.GENCODE-exon_no-overlap-ref.only-47-phylop.txt.gz already has .gz suffix -- unchanged\n"
     ]
    },
    {
     "name": "stdout",
     "output_type": "stream",
     "text": [
      "(13557, 1005) (2037, 1005)\n"
     ]
    },
    {
     "name": "stderr",
     "output_type": "stream",
     "text": [
      "/scratch/fongsl/ipykernel_12815/2031676860.py:95: FutureWarning: merging between different levels is deprecated and will be removed in a future version. (1 levels on the left, 2 on the right)\n",
      "  summary_stats= summary_stats.join(ci)\n",
      "gzip: /wynton/home/ahituv/fongsl/nullomers/data/phylop/shuf-mutations-uniq-woRMSK.GENCODE-exon_no-overlap-ref.only-70-phylop.txt.gz already has .gz suffix -- unchanged\n"
     ]
    },
    {
     "name": "stdout",
     "output_type": "stream",
     "text": [
      "(13504, 1005) (2058, 1005)\n"
     ]
    },
    {
     "name": "stderr",
     "output_type": "stream",
     "text": [
      "/scratch/fongsl/ipykernel_12815/2031676860.py:95: FutureWarning: merging between different levels is deprecated and will be removed in a future version. (1 levels on the left, 2 on the right)\n",
      "  summary_stats= summary_stats.join(ci)\n",
      "gzip: /wynton/home/ahituv/fongsl/nullomers/data/phylop/shuf-mutations-uniq-woRMSK.GENCODE-exon_no-overlap-ref.only-91-phylop.txt.gz already has .gz suffix -- unchanged\n"
     ]
    },
    {
     "name": "stdout",
     "output_type": "stream",
     "text": [
      "(13570, 1005) (2073, 1005)\n"
     ]
    },
    {
     "name": "stderr",
     "output_type": "stream",
     "text": [
      "/scratch/fongsl/ipykernel_12815/2031676860.py:95: FutureWarning: merging between different levels is deprecated and will be removed in a future version. (1 levels on the left, 2 on the right)\n",
      "  summary_stats= summary_stats.join(ci)\n",
      "gzip: /wynton/home/ahituv/fongsl/nullomers/data/phylop/shuf-mutations-uniq-woRMSK.GENCODE-exon_no-overlap-ref.only-54-phylop.txt.gz already has .gz suffix -- unchanged\n"
     ]
    },
    {
     "name": "stdout",
     "output_type": "stream",
     "text": [
      "(13560, 1005) (1974, 1005)\n"
     ]
    },
    {
     "name": "stderr",
     "output_type": "stream",
     "text": [
      "/scratch/fongsl/ipykernel_12815/2031676860.py:95: FutureWarning: merging between different levels is deprecated and will be removed in a future version. (1 levels on the left, 2 on the right)\n",
      "  summary_stats= summary_stats.join(ci)\n",
      "gzip: /wynton/home/ahituv/fongsl/nullomers/data/phylop/shuf-mutations-uniq-woRMSK.GENCODE-exon_no-overlap-ref.only-53-phylop.txt.gz already has .gz suffix -- unchanged\n"
     ]
    },
    {
     "name": "stdout",
     "output_type": "stream",
     "text": [
      "(13573, 1005) (2055, 1005)\n"
     ]
    },
    {
     "name": "stderr",
     "output_type": "stream",
     "text": [
      "/scratch/fongsl/ipykernel_12815/2031676860.py:95: FutureWarning: merging between different levels is deprecated and will be removed in a future version. (1 levels on the left, 2 on the right)\n",
      "  summary_stats= summary_stats.join(ci)\n",
      "gzip: /wynton/home/ahituv/fongsl/nullomers/data/phylop/shuf-mutations-uniq-woRMSK.GENCODE-exon_no-overlap-ref.only-52-phylop.txt.gz already has .gz suffix -- unchanged\n"
     ]
    },
    {
     "name": "stdout",
     "output_type": "stream",
     "text": [
      "(13559, 1005) (2026, 1005)\n"
     ]
    },
    {
     "name": "stderr",
     "output_type": "stream",
     "text": [
      "/scratch/fongsl/ipykernel_12815/2031676860.py:95: FutureWarning: merging between different levels is deprecated and will be removed in a future version. (1 levels on the left, 2 on the right)\n",
      "  summary_stats= summary_stats.join(ci)\n",
      "gzip: /wynton/home/ahituv/fongsl/nullomers/data/phylop/shuf-mutations-uniq-woRMSK.GENCODE-exon_no-overlap-ref.only-41-phylop.txt.gz already has .gz suffix -- unchanged\n"
     ]
    },
    {
     "name": "stdout",
     "output_type": "stream",
     "text": [
      "(13565, 1005) (1952, 1005)\n"
     ]
    },
    {
     "name": "stderr",
     "output_type": "stream",
     "text": [
      "/scratch/fongsl/ipykernel_12815/2031676860.py:95: FutureWarning: merging between different levels is deprecated and will be removed in a future version. (1 levels on the left, 2 on the right)\n",
      "  summary_stats= summary_stats.join(ci)\n",
      "gzip: /wynton/home/ahituv/fongsl/nullomers/data/phylop/shuf-mutations-uniq-woRMSK.GENCODE-exon_no-overlap-ref.only-48-phylop.txt.gz already has .gz suffix -- unchanged\n"
     ]
    },
    {
     "name": "stdout",
     "output_type": "stream",
     "text": [
      "(13559, 1005) (1986, 1005)\n"
     ]
    },
    {
     "name": "stderr",
     "output_type": "stream",
     "text": [
      "/scratch/fongsl/ipykernel_12815/2031676860.py:95: FutureWarning: merging between different levels is deprecated and will be removed in a future version. (1 levels on the left, 2 on the right)\n",
      "  summary_stats= summary_stats.join(ci)\n",
      "gzip: /wynton/home/ahituv/fongsl/nullomers/data/phylop/shuf-mutations-uniq-woRMSK.GENCODE-exon_no-overlap-ref.only-58-phylop.txt.gz already has .gz suffix -- unchanged\n"
     ]
    },
    {
     "name": "stdout",
     "output_type": "stream",
     "text": [
      "(13586, 1005) (2087, 1005)\n"
     ]
    },
    {
     "name": "stderr",
     "output_type": "stream",
     "text": [
      "/scratch/fongsl/ipykernel_12815/2031676860.py:95: FutureWarning: merging between different levels is deprecated and will be removed in a future version. (1 levels on the left, 2 on the right)\n",
      "  summary_stats= summary_stats.join(ci)\n",
      "gzip: /wynton/home/ahituv/fongsl/nullomers/data/phylop/shuf-mutations-uniq-woRMSK.GENCODE-exon_no-overlap-ref.only-57-phylop.txt.gz already has .gz suffix -- unchanged\n"
     ]
    },
    {
     "name": "stdout",
     "output_type": "stream",
     "text": [
      "(13594, 1005) (2092, 1005)\n"
     ]
    },
    {
     "name": "stderr",
     "output_type": "stream",
     "text": [
      "/scratch/fongsl/ipykernel_12815/2031676860.py:95: FutureWarning: merging between different levels is deprecated and will be removed in a future version. (1 levels on the left, 2 on the right)\n",
      "  summary_stats= summary_stats.join(ci)\n",
      "gzip: /wynton/home/ahituv/fongsl/nullomers/data/phylop/shuf-mutations-uniq-woRMSK.GENCODE-exon_no-overlap-ref.only-73-phylop.txt.gz already has .gz suffix -- unchanged\n"
     ]
    },
    {
     "name": "stdout",
     "output_type": "stream",
     "text": [
      "(13542, 1005) (1984, 1005)\n"
     ]
    },
    {
     "name": "stderr",
     "output_type": "stream",
     "text": [
      "/scratch/fongsl/ipykernel_12815/2031676860.py:95: FutureWarning: merging between different levels is deprecated and will be removed in a future version. (1 levels on the left, 2 on the right)\n",
      "  summary_stats= summary_stats.join(ci)\n",
      "gzip: /wynton/home/ahituv/fongsl/nullomers/data/phylop/shuf-mutations-uniq-woRMSK.GENCODE-exon_no-overlap-ref.only-62-phylop.txt.gz already has .gz suffix -- unchanged\n"
     ]
    },
    {
     "name": "stdout",
     "output_type": "stream",
     "text": [
      "(13593, 1005) (2029, 1005)\n"
     ]
    },
    {
     "name": "stderr",
     "output_type": "stream",
     "text": [
      "/scratch/fongsl/ipykernel_12815/2031676860.py:95: FutureWarning: merging between different levels is deprecated and will be removed in a future version. (1 levels on the left, 2 on the right)\n",
      "  summary_stats= summary_stats.join(ci)\n",
      "gzip: /wynton/home/ahituv/fongsl/nullomers/data/phylop/shuf-mutations-uniq-woRMSK.GENCODE-exon_no-overlap-ref.only-63-phylop.txt.gz already has .gz suffix -- unchanged\n"
     ]
    },
    {
     "name": "stdout",
     "output_type": "stream",
     "text": [
      "(13547, 1005) (1951, 1005)\n"
     ]
    },
    {
     "name": "stderr",
     "output_type": "stream",
     "text": [
      "/scratch/fongsl/ipykernel_12815/2031676860.py:95: FutureWarning: merging between different levels is deprecated and will be removed in a future version. (1 levels on the left, 2 on the right)\n",
      "  summary_stats= summary_stats.join(ci)\n",
      "gzip: /wynton/home/ahituv/fongsl/nullomers/data/phylop/shuf-mutations-uniq-woRMSK.GENCODE-exon_no-overlap-ref.only-83-phylop.txt.gz already has .gz suffix -- unchanged\n"
     ]
    },
    {
     "name": "stdout",
     "output_type": "stream",
     "text": [
      "(13546, 1005) (1991, 1005)\n"
     ]
    },
    {
     "name": "stderr",
     "output_type": "stream",
     "text": [
      "/scratch/fongsl/ipykernel_12815/2031676860.py:95: FutureWarning: merging between different levels is deprecated and will be removed in a future version. (1 levels on the left, 2 on the right)\n",
      "  summary_stats= summary_stats.join(ci)\n",
      "gzip: /wynton/home/ahituv/fongsl/nullomers/data/phylop/shuf-mutations-uniq-woRMSK.GENCODE-exon_no-overlap-ref.only-76-phylop.txt.gz already has .gz suffix -- unchanged\n"
     ]
    },
    {
     "name": "stdout",
     "output_type": "stream",
     "text": [
      "(13588, 1005) (2025, 1005)\n"
     ]
    },
    {
     "name": "stderr",
     "output_type": "stream",
     "text": [
      "/scratch/fongsl/ipykernel_12815/2031676860.py:95: FutureWarning: merging between different levels is deprecated and will be removed in a future version. (1 levels on the left, 2 on the right)\n",
      "  summary_stats= summary_stats.join(ci)\n",
      "gzip: /wynton/home/ahituv/fongsl/nullomers/data/phylop/shuf-mutations-uniq-woRMSK.GENCODE-exon_no-overlap-ref.only-78-phylop.txt.gz already has .gz suffix -- unchanged\n"
     ]
    },
    {
     "name": "stdout",
     "output_type": "stream",
     "text": [
      "(13561, 1005) (1998, 1005)\n"
     ]
    },
    {
     "name": "stderr",
     "output_type": "stream",
     "text": [
      "/scratch/fongsl/ipykernel_12815/2031676860.py:95: FutureWarning: merging between different levels is deprecated and will be removed in a future version. (1 levels on the left, 2 on the right)\n",
      "  summary_stats= summary_stats.join(ci)\n",
      "gzip: /wynton/home/ahituv/fongsl/nullomers/data/phylop/shuf-mutations-uniq-woRMSK.GENCODE-exon_no-overlap-ref.only-82-phylop.txt.gz already has .gz suffix -- unchanged\n"
     ]
    },
    {
     "name": "stdout",
     "output_type": "stream",
     "text": [
      "(13562, 1005) (1993, 1005)\n"
     ]
    },
    {
     "name": "stderr",
     "output_type": "stream",
     "text": [
      "/scratch/fongsl/ipykernel_12815/2031676860.py:95: FutureWarning: merging between different levels is deprecated and will be removed in a future version. (1 levels on the left, 2 on the right)\n",
      "  summary_stats= summary_stats.join(ci)\n",
      "gzip: /wynton/home/ahituv/fongsl/nullomers/data/phylop/shuf-mutations-uniq-woRMSK.GENCODE-exon_no-overlap-ref.only-68-phylop.txt.gz already has .gz suffix -- unchanged\n"
     ]
    },
    {
     "name": "stdout",
     "output_type": "stream",
     "text": [
      "(13542, 1005) (1984, 1005)\n"
     ]
    },
    {
     "name": "stderr",
     "output_type": "stream",
     "text": [
      "/scratch/fongsl/ipykernel_12815/2031676860.py:95: FutureWarning: merging between different levels is deprecated and will be removed in a future version. (1 levels on the left, 2 on the right)\n",
      "  summary_stats= summary_stats.join(ci)\n",
      "gzip: /wynton/home/ahituv/fongsl/nullomers/data/phylop/shuf-mutations-uniq-woRMSK.GENCODE-exon_no-overlap-ref.only-71-phylop.txt.gz already has .gz suffix -- unchanged\n"
     ]
    },
    {
     "name": "stdout",
     "output_type": "stream",
     "text": [
      "(13525, 1005) (1994, 1005)\n"
     ]
    },
    {
     "name": "stderr",
     "output_type": "stream",
     "text": [
      "/scratch/fongsl/ipykernel_12815/2031676860.py:95: FutureWarning: merging between different levels is deprecated and will be removed in a future version. (1 levels on the left, 2 on the right)\n",
      "  summary_stats= summary_stats.join(ci)\n",
      "gzip: /wynton/home/ahituv/fongsl/nullomers/data/phylop/shuf-mutations-uniq-woRMSK.GENCODE-exon_no-overlap-ref.only-64-phylop.txt.gz already has .gz suffix -- unchanged\n"
     ]
    },
    {
     "name": "stdout",
     "output_type": "stream",
     "text": [
      "(13571, 1005) (2017, 1005)\n"
     ]
    },
    {
     "name": "stderr",
     "output_type": "stream",
     "text": [
      "/scratch/fongsl/ipykernel_12815/2031676860.py:95: FutureWarning: merging between different levels is deprecated and will be removed in a future version. (1 levels on the left, 2 on the right)\n",
      "  summary_stats= summary_stats.join(ci)\n",
      "gzip: /wynton/home/ahituv/fongsl/nullomers/data/phylop/shuf-mutations-uniq-woRMSK.GENCODE-exon_no-overlap-ref.only-65-phylop.txt.gz already has .gz suffix -- unchanged\n"
     ]
    },
    {
     "name": "stdout",
     "output_type": "stream",
     "text": [
      "(13577, 1005) (2024, 1005)\n"
     ]
    },
    {
     "name": "stderr",
     "output_type": "stream",
     "text": [
      "/scratch/fongsl/ipykernel_12815/2031676860.py:95: FutureWarning: merging between different levels is deprecated and will be removed in a future version. (1 levels on the left, 2 on the right)\n",
      "  summary_stats= summary_stats.join(ci)\n",
      "gzip: /wynton/home/ahituv/fongsl/nullomers/data/phylop/shuf-mutations-uniq-woRMSK.GENCODE-exon_no-overlap-ref.only-69-phylop.txt.gz already has .gz suffix -- unchanged\n"
     ]
    },
    {
     "name": "stdout",
     "output_type": "stream",
     "text": [
      "(13570, 1005) (2019, 1005)\n"
     ]
    },
    {
     "name": "stderr",
     "output_type": "stream",
     "text": [
      "/scratch/fongsl/ipykernel_12815/2031676860.py:95: FutureWarning: merging between different levels is deprecated and will be removed in a future version. (1 levels on the left, 2 on the right)\n",
      "  summary_stats= summary_stats.join(ci)\n",
      "gzip: /wynton/home/ahituv/fongsl/nullomers/data/phylop/shuf-mutations-uniq-woRMSK.GENCODE-exon_no-overlap-ref.only-67-phylop.txt.gz already has .gz suffix -- unchanged\n"
     ]
    },
    {
     "name": "stdout",
     "output_type": "stream",
     "text": [
      "(13537, 1005) (2081, 1005)\n"
     ]
    },
    {
     "name": "stderr",
     "output_type": "stream",
     "text": [
      "/scratch/fongsl/ipykernel_12815/2031676860.py:95: FutureWarning: merging between different levels is deprecated and will be removed in a future version. (1 levels on the left, 2 on the right)\n",
      "  summary_stats= summary_stats.join(ci)\n",
      "gzip: /wynton/home/ahituv/fongsl/nullomers/data/phylop/shuf-mutations-uniq-woRMSK.GENCODE-exon_no-overlap-ref.only-84-phylop.txt.gz already has .gz suffix -- unchanged\n"
     ]
    },
    {
     "name": "stdout",
     "output_type": "stream",
     "text": [
      "(13550, 1005) (2036, 1005)\n"
     ]
    },
    {
     "name": "stderr",
     "output_type": "stream",
     "text": [
      "/scratch/fongsl/ipykernel_12815/2031676860.py:95: FutureWarning: merging between different levels is deprecated and will be removed in a future version. (1 levels on the left, 2 on the right)\n",
      "  summary_stats= summary_stats.join(ci)\n",
      "gzip: /wynton/home/ahituv/fongsl/nullomers/data/phylop/shuf-mutations-uniq-woRMSK.GENCODE-exon_no-overlap-ref.only-79-phylop.txt.gz already has .gz suffix -- unchanged\n"
     ]
    },
    {
     "name": "stdout",
     "output_type": "stream",
     "text": [
      "(13554, 1005) (2075, 1005)\n"
     ]
    },
    {
     "name": "stderr",
     "output_type": "stream",
     "text": [
      "/scratch/fongsl/ipykernel_12815/2031676860.py:95: FutureWarning: merging between different levels is deprecated and will be removed in a future version. (1 levels on the left, 2 on the right)\n",
      "  summary_stats= summary_stats.join(ci)\n",
      "gzip: /wynton/home/ahituv/fongsl/nullomers/data/phylop/shuf-mutations-uniq-woRMSK.GENCODE-exon_no-overlap-ref.only-40-phylop.txt.gz already has .gz suffix -- unchanged\n"
     ]
    },
    {
     "name": "stdout",
     "output_type": "stream",
     "text": [
      "(13561, 1005) (2023, 1005)\n"
     ]
    },
    {
     "name": "stderr",
     "output_type": "stream",
     "text": [
      "/scratch/fongsl/ipykernel_12815/2031676860.py:95: FutureWarning: merging between different levels is deprecated and will be removed in a future version. (1 levels on the left, 2 on the right)\n",
      "  summary_stats= summary_stats.join(ci)\n",
      "gzip: /wynton/home/ahituv/fongsl/nullomers/data/phylop/shuf-mutations-uniq-woRMSK.GENCODE-exon_no-overlap-ref.only-74-phylop.txt.gz already has .gz suffix -- unchanged\n"
     ]
    },
    {
     "name": "stdout",
     "output_type": "stream",
     "text": [
      "(13560, 1005) (1988, 1005)\n"
     ]
    },
    {
     "name": "stderr",
     "output_type": "stream",
     "text": [
      "/scratch/fongsl/ipykernel_12815/2031676860.py:95: FutureWarning: merging between different levels is deprecated and will be removed in a future version. (1 levels on the left, 2 on the right)\n",
      "  summary_stats= summary_stats.join(ci)\n",
      "gzip: /wynton/home/ahituv/fongsl/nullomers/data/phylop/shuf-mutations-uniq-woRMSK.GENCODE-exon_no-overlap-ref.only-80-phylop.txt.gz already has .gz suffix -- unchanged\n"
     ]
    },
    {
     "name": "stdout",
     "output_type": "stream",
     "text": [
      "(13556, 1005) (1899, 1005)\n"
     ]
    },
    {
     "name": "stderr",
     "output_type": "stream",
     "text": [
      "/scratch/fongsl/ipykernel_12815/2031676860.py:95: FutureWarning: merging between different levels is deprecated and will be removed in a future version. (1 levels on the left, 2 on the right)\n",
      "  summary_stats= summary_stats.join(ci)\n",
      "gzip: /wynton/home/ahituv/fongsl/nullomers/data/phylop/shuf-mutations-uniq-woRMSK.GENCODE-exon_no-overlap-ref.only-96-phylop.txt.gz already has .gz suffix -- unchanged\n"
     ]
    },
    {
     "name": "stdout",
     "output_type": "stream",
     "text": [
      "(13613, 1005) (2016, 1005)\n"
     ]
    },
    {
     "name": "stderr",
     "output_type": "stream",
     "text": [
      "/scratch/fongsl/ipykernel_12815/2031676860.py:95: FutureWarning: merging between different levels is deprecated and will be removed in a future version. (1 levels on the left, 2 on the right)\n",
      "  summary_stats= summary_stats.join(ci)\n",
      "gzip: /wynton/home/ahituv/fongsl/nullomers/data/phylop/shuf-mutations-uniq-woRMSK.GENCODE-exon_no-overlap-ref.only-81-phylop.txt.gz already has .gz suffix -- unchanged\n"
     ]
    },
    {
     "name": "stdout",
     "output_type": "stream",
     "text": [
      "(13549, 1005) (2009, 1005)\n"
     ]
    },
    {
     "name": "stderr",
     "output_type": "stream",
     "text": [
      "/scratch/fongsl/ipykernel_12815/2031676860.py:95: FutureWarning: merging between different levels is deprecated and will be removed in a future version. (1 levels on the left, 2 on the right)\n",
      "  summary_stats= summary_stats.join(ci)\n",
      "gzip: /wynton/home/ahituv/fongsl/nullomers/data/phylop/shuf-mutations-uniq-woRMSK.GENCODE-exon_no-overlap-ref.only-86-phylop.txt.gz already has .gz suffix -- unchanged\n"
     ]
    },
    {
     "name": "stdout",
     "output_type": "stream",
     "text": [
      "(13571, 1005) (2042, 1005)\n"
     ]
    },
    {
     "name": "stderr",
     "output_type": "stream",
     "text": [
      "/scratch/fongsl/ipykernel_12815/2031676860.py:95: FutureWarning: merging between different levels is deprecated and will be removed in a future version. (1 levels on the left, 2 on the right)\n",
      "  summary_stats= summary_stats.join(ci)\n",
      "gzip: /wynton/home/ahituv/fongsl/nullomers/data/phylop/shuf-mutations-uniq-woRMSK.GENCODE-exon_no-overlap-ref.only-72-phylop.txt.gz already has .gz suffix -- unchanged\n"
     ]
    },
    {
     "name": "stdout",
     "output_type": "stream",
     "text": [
      "(13542, 1005) (2003, 1005)\n"
     ]
    },
    {
     "name": "stderr",
     "output_type": "stream",
     "text": [
      "/scratch/fongsl/ipykernel_12815/2031676860.py:95: FutureWarning: merging between different levels is deprecated and will be removed in a future version. (1 levels on the left, 2 on the right)\n",
      "  summary_stats= summary_stats.join(ci)\n",
      "gzip: /wynton/home/ahituv/fongsl/nullomers/data/phylop/shuf-mutations-uniq-woRMSK.GENCODE-exon_no-overlap-ref.only-87-phylop.txt.gz already has .gz suffix -- unchanged\n"
     ]
    },
    {
     "name": "stdout",
     "output_type": "stream",
     "text": [
      "(13565, 1005) (1994, 1005)\n"
     ]
    },
    {
     "name": "stderr",
     "output_type": "stream",
     "text": [
      "/scratch/fongsl/ipykernel_12815/2031676860.py:95: FutureWarning: merging between different levels is deprecated and will be removed in a future version. (1 levels on the left, 2 on the right)\n",
      "  summary_stats= summary_stats.join(ci)\n",
      "gzip: /wynton/home/ahituv/fongsl/nullomers/data/phylop/shuf-mutations-uniq-woRMSK.GENCODE-exon_no-overlap-ref.only-66-phylop.txt.gz already has .gz suffix -- unchanged\n"
     ]
    },
    {
     "name": "stdout",
     "output_type": "stream",
     "text": [
      "(13570, 1005) (2109, 1005)\n"
     ]
    },
    {
     "name": "stderr",
     "output_type": "stream",
     "text": [
      "/scratch/fongsl/ipykernel_12815/2031676860.py:95: FutureWarning: merging between different levels is deprecated and will be removed in a future version. (1 levels on the left, 2 on the right)\n",
      "  summary_stats= summary_stats.join(ci)\n",
      "gzip: /wynton/home/ahituv/fongsl/nullomers/data/phylop/shuf-mutations-uniq-woRMSK.GENCODE-exon_no-overlap-ref.only-94-phylop.txt.gz already has .gz suffix -- unchanged\n"
     ]
    },
    {
     "name": "stdout",
     "output_type": "stream",
     "text": [
      "(13558, 1005) (2087, 1005)\n"
     ]
    },
    {
     "name": "stderr",
     "output_type": "stream",
     "text": [
      "/scratch/fongsl/ipykernel_12815/2031676860.py:95: FutureWarning: merging between different levels is deprecated and will be removed in a future version. (1 levels on the left, 2 on the right)\n",
      "  summary_stats= summary_stats.join(ci)\n",
      "gzip: /wynton/home/ahituv/fongsl/nullomers/data/phylop/shuf-mutations-uniq-woRMSK.GENCODE-exon_no-overlap-ref.only-100-phylop.txt.gz already has .gz suffix -- unchanged\n"
     ]
    },
    {
     "name": "stdout",
     "output_type": "stream",
     "text": [
      "(13585, 1005) (2029, 1005)\n"
     ]
    },
    {
     "name": "stderr",
     "output_type": "stream",
     "text": [
      "/scratch/fongsl/ipykernel_12815/2031676860.py:95: FutureWarning: merging between different levels is deprecated and will be removed in a future version. (1 levels on the left, 2 on the right)\n",
      "  summary_stats= summary_stats.join(ci)\n",
      "gzip: /wynton/home/ahituv/fongsl/nullomers/data/phylop/shuf-mutations-uniq-woRMSK.GENCODE-exon_no-overlap-ref.only-89-phylop.txt.gz already has .gz suffix -- unchanged\n"
     ]
    },
    {
     "name": "stdout",
     "output_type": "stream",
     "text": [
      "(13525, 1005) (1967, 1005)\n"
     ]
    },
    {
     "name": "stderr",
     "output_type": "stream",
     "text": [
      "/scratch/fongsl/ipykernel_12815/2031676860.py:95: FutureWarning: merging between different levels is deprecated and will be removed in a future version. (1 levels on the left, 2 on the right)\n",
      "  summary_stats= summary_stats.join(ci)\n",
      "gzip: /wynton/home/ahituv/fongsl/nullomers/data/phylop/shuf-mutations-uniq-woRMSK.GENCODE-exon_no-overlap-ref.only-90-phylop.txt.gz already has .gz suffix -- unchanged\n"
     ]
    },
    {
     "name": "stdout",
     "output_type": "stream",
     "text": [
      "(13551, 1005) (2100, 1005)\n"
     ]
    },
    {
     "name": "stderr",
     "output_type": "stream",
     "text": [
      "/scratch/fongsl/ipykernel_12815/2031676860.py:95: FutureWarning: merging between different levels is deprecated and will be removed in a future version. (1 levels on the left, 2 on the right)\n",
      "  summary_stats= summary_stats.join(ci)\n",
      "gzip: /wynton/home/ahituv/fongsl/nullomers/data/phylop/shuf-mutations-uniq-woRMSK.GENCODE-exon_no-overlap-ref.only-88-phylop.txt.gz already has .gz suffix -- unchanged\n"
     ]
    },
    {
     "name": "stdout",
     "output_type": "stream",
     "text": [
      "(13574, 1005) (1991, 1005)\n"
     ]
    },
    {
     "name": "stderr",
     "output_type": "stream",
     "text": [
      "/scratch/fongsl/ipykernel_12815/2031676860.py:95: FutureWarning: merging between different levels is deprecated and will be removed in a future version. (1 levels on the left, 2 on the right)\n",
      "  summary_stats= summary_stats.join(ci)\n",
      "gzip: /wynton/home/ahituv/fongsl/nullomers/data/phylop/shuf-mutations-uniq-woRMSK.GENCODE-exon_no-overlap-ref.only-92-phylop.txt.gz already has .gz suffix -- unchanged\n"
     ]
    },
    {
     "name": "stdout",
     "output_type": "stream",
     "text": [
      "(13542, 1005) (1951, 1005)\n"
     ]
    },
    {
     "name": "stderr",
     "output_type": "stream",
     "text": [
      "/scratch/fongsl/ipykernel_12815/2031676860.py:95: FutureWarning: merging between different levels is deprecated and will be removed in a future version. (1 levels on the left, 2 on the right)\n",
      "  summary_stats= summary_stats.join(ci)\n",
      "gzip: /wynton/home/ahituv/fongsl/nullomers/data/phylop/shuf-mutations-uniq-woRMSK.GENCODE-exon_no-overlap-ref.only-97-phylop.txt.gz already has .gz suffix -- unchanged\n"
     ]
    },
    {
     "name": "stdout",
     "output_type": "stream",
     "text": [
      "(13548, 1005) (1998, 1005)\n"
     ]
    },
    {
     "name": "stderr",
     "output_type": "stream",
     "text": [
      "/scratch/fongsl/ipykernel_12815/2031676860.py:95: FutureWarning: merging between different levels is deprecated and will be removed in a future version. (1 levels on the left, 2 on the right)\n",
      "  summary_stats= summary_stats.join(ci)\n",
      "gzip: /wynton/home/ahituv/fongsl/nullomers/data/phylop/shuf-mutations-uniq-woRMSK.GENCODE-exon_no-overlap-ref.only-101-phylop.txt.gz already has .gz suffix -- unchanged\n"
     ]
    },
    {
     "name": "stdout",
     "output_type": "stream",
     "text": [
      "(13590, 1005) (1953, 1005)\n"
     ]
    },
    {
     "name": "stderr",
     "output_type": "stream",
     "text": [
      "/scratch/fongsl/ipykernel_12815/2031676860.py:95: FutureWarning: merging between different levels is deprecated and will be removed in a future version. (1 levels on the left, 2 on the right)\n",
      "  summary_stats= summary_stats.join(ci)\n",
      "gzip: /wynton/home/ahituv/fongsl/nullomers/data/phylop/shuf-mutations-uniq-woRMSK.GENCODE-exon_no-overlap-ref.only-93-phylop.txt.gz already has .gz suffix -- unchanged\n"
     ]
    },
    {
     "name": "stdout",
     "output_type": "stream",
     "text": [
      "(13575, 1005) (2050, 1005)\n"
     ]
    },
    {
     "name": "stderr",
     "output_type": "stream",
     "text": [
      "/scratch/fongsl/ipykernel_12815/2031676860.py:95: FutureWarning: merging between different levels is deprecated and will be removed in a future version. (1 levels on the left, 2 on the right)\n",
      "  summary_stats= summary_stats.join(ci)\n",
      "gzip: /wynton/home/ahituv/fongsl/nullomers/data/phylop/shuf-mutations-uniq-woRMSK.GENCODE-exon_no-overlap-ref.only-99-phylop.txt.gz already has .gz suffix -- unchanged\n"
     ]
    },
    {
     "name": "stdout",
     "output_type": "stream",
     "text": [
      "(13558, 1005) (2017, 1005)\n"
     ]
    },
    {
     "name": "stderr",
     "output_type": "stream",
     "text": [
      "/scratch/fongsl/ipykernel_12815/2031676860.py:95: FutureWarning: merging between different levels is deprecated and will be removed in a future version. (1 levels on the left, 2 on the right)\n",
      "  summary_stats= summary_stats.join(ci)\n",
      "gzip: /wynton/home/ahituv/fongsl/nullomers/data/phylop/shuf-mutations-uniq-woRMSK.GENCODE-exon_no-overlap-ref.only-103-phylop.txt.gz already has .gz suffix -- unchanged\n"
     ]
    },
    {
     "name": "stdout",
     "output_type": "stream",
     "text": [
      "(13543, 1005) (2020, 1005)\n"
     ]
    },
    {
     "name": "stderr",
     "output_type": "stream",
     "text": [
      "/scratch/fongsl/ipykernel_12815/2031676860.py:95: FutureWarning: merging between different levels is deprecated and will be removed in a future version. (1 levels on the left, 2 on the right)\n",
      "  summary_stats= summary_stats.join(ci)\n",
      "gzip: /wynton/home/ahituv/fongsl/nullomers/data/phylop/shuf-mutations-uniq-woRMSK.GENCODE-exon_no-overlap-ref.only-105-phylop.txt.gz already has .gz suffix -- unchanged\n"
     ]
    },
    {
     "name": "stdout",
     "output_type": "stream",
     "text": [
      "(13573, 1005) (1980, 1005)\n"
     ]
    },
    {
     "name": "stderr",
     "output_type": "stream",
     "text": [
      "/scratch/fongsl/ipykernel_12815/2031676860.py:95: FutureWarning: merging between different levels is deprecated and will be removed in a future version. (1 levels on the left, 2 on the right)\n",
      "  summary_stats= summary_stats.join(ci)\n",
      "gzip: /wynton/home/ahituv/fongsl/nullomers/data/phylop/shuf-mutations-uniq-woRMSK.GENCODE-exon_no-overlap-ref.only-104-phylop.txt.gz already has .gz suffix -- unchanged\n"
     ]
    },
    {
     "name": "stdout",
     "output_type": "stream",
     "text": [
      "(13573, 1005) (2080, 1005)\n"
     ]
    },
    {
     "name": "stderr",
     "output_type": "stream",
     "text": [
      "/scratch/fongsl/ipykernel_12815/2031676860.py:95: FutureWarning: merging between different levels is deprecated and will be removed in a future version. (1 levels on the left, 2 on the right)\n",
      "  summary_stats= summary_stats.join(ci)\n",
      "gzip: /wynton/home/ahituv/fongsl/nullomers/data/phylop/shuf-mutations-uniq-woRMSK.GENCODE-exon_no-overlap-ref.only-109-phylop.txt.gz already has .gz suffix -- unchanged\n"
     ]
    },
    {
     "name": "stdout",
     "output_type": "stream",
     "text": [
      "(13552, 1005) (2006, 1005)\n"
     ]
    },
    {
     "name": "stderr",
     "output_type": "stream",
     "text": [
      "/scratch/fongsl/ipykernel_12815/2031676860.py:95: FutureWarning: merging between different levels is deprecated and will be removed in a future version. (1 levels on the left, 2 on the right)\n",
      "  summary_stats= summary_stats.join(ci)\n",
      "gzip: /wynton/home/ahituv/fongsl/nullomers/data/phylop/shuf-mutations-uniq-woRMSK.GENCODE-exon_no-overlap-ref.only-111-phylop.txt.gz already has .gz suffix -- unchanged\n"
     ]
    },
    {
     "name": "stdout",
     "output_type": "stream",
     "text": [
      "(13560, 1005) (2007, 1005)\n"
     ]
    },
    {
     "name": "stderr",
     "output_type": "stream",
     "text": [
      "/scratch/fongsl/ipykernel_12815/2031676860.py:95: FutureWarning: merging between different levels is deprecated and will be removed in a future version. (1 levels on the left, 2 on the right)\n",
      "  summary_stats= summary_stats.join(ci)\n",
      "gzip: /wynton/home/ahituv/fongsl/nullomers/data/phylop/shuf-mutations-uniq-woRMSK.GENCODE-exon_no-overlap-ref.only-102-phylop.txt.gz already has .gz suffix -- unchanged\n"
     ]
    },
    {
     "name": "stdout",
     "output_type": "stream",
     "text": [
      "(13567, 1005) (2022, 1005)\n"
     ]
    },
    {
     "name": "stderr",
     "output_type": "stream",
     "text": [
      "/scratch/fongsl/ipykernel_12815/2031676860.py:95: FutureWarning: merging between different levels is deprecated and will be removed in a future version. (1 levels on the left, 2 on the right)\n",
      "  summary_stats= summary_stats.join(ci)\n",
      "gzip: /wynton/home/ahituv/fongsl/nullomers/data/phylop/shuf-mutations-uniq-woRMSK.GENCODE-exon_no-overlap-ref.only-115-phylop.txt.gz already has .gz suffix -- unchanged\n"
     ]
    },
    {
     "name": "stdout",
     "output_type": "stream",
     "text": [
      "(13568, 1005) (2013, 1005)\n"
     ]
    },
    {
     "name": "stderr",
     "output_type": "stream",
     "text": [
      "/scratch/fongsl/ipykernel_12815/2031676860.py:95: FutureWarning: merging between different levels is deprecated and will be removed in a future version. (1 levels on the left, 2 on the right)\n",
      "  summary_stats= summary_stats.join(ci)\n",
      "gzip: /wynton/home/ahituv/fongsl/nullomers/data/phylop/shuf-mutations-uniq-woRMSK.GENCODE-exon_no-overlap-ref.only-108-phylop.txt.gz already has .gz suffix -- unchanged\n"
     ]
    },
    {
     "name": "stdout",
     "output_type": "stream",
     "text": [
      "(13593, 1005) (2136, 1005)\n"
     ]
    },
    {
     "name": "stderr",
     "output_type": "stream",
     "text": [
      "/scratch/fongsl/ipykernel_12815/2031676860.py:95: FutureWarning: merging between different levels is deprecated and will be removed in a future version. (1 levels on the left, 2 on the right)\n",
      "  summary_stats= summary_stats.join(ci)\n",
      "gzip: /wynton/home/ahituv/fongsl/nullomers/data/phylop/shuf-mutations-uniq-woRMSK.GENCODE-exon_no-overlap-ref.only-107-phylop.txt.gz already has .gz suffix -- unchanged\n"
     ]
    },
    {
     "name": "stdout",
     "output_type": "stream",
     "text": [
      "(13551, 1005) (2053, 1005)\n"
     ]
    },
    {
     "name": "stderr",
     "output_type": "stream",
     "text": [
      "/scratch/fongsl/ipykernel_12815/2031676860.py:95: FutureWarning: merging between different levels is deprecated and will be removed in a future version. (1 levels on the left, 2 on the right)\n",
      "  summary_stats= summary_stats.join(ci)\n",
      "gzip: /wynton/home/ahituv/fongsl/nullomers/data/phylop/shuf-mutations-uniq-woRMSK.GENCODE-exon_no-overlap-ref.only-124-phylop.txt.gz already has .gz suffix -- unchanged\n"
     ]
    },
    {
     "name": "stdout",
     "output_type": "stream",
     "text": [
      "(13567, 1005) (2047, 1005)\n"
     ]
    },
    {
     "name": "stderr",
     "output_type": "stream",
     "text": [
      "/scratch/fongsl/ipykernel_12815/2031676860.py:95: FutureWarning: merging between different levels is deprecated and will be removed in a future version. (1 levels on the left, 2 on the right)\n",
      "  summary_stats= summary_stats.join(ci)\n",
      "gzip: /wynton/home/ahituv/fongsl/nullomers/data/phylop/shuf-mutations-uniq-woRMSK.GENCODE-exon_no-overlap-ref.only-106-phylop.txt.gz already has .gz suffix -- unchanged\n"
     ]
    },
    {
     "name": "stdout",
     "output_type": "stream",
     "text": [
      "(13548, 1005) (2066, 1005)\n"
     ]
    },
    {
     "name": "stderr",
     "output_type": "stream",
     "text": [
      "/scratch/fongsl/ipykernel_12815/2031676860.py:95: FutureWarning: merging between different levels is deprecated and will be removed in a future version. (1 levels on the left, 2 on the right)\n",
      "  summary_stats= summary_stats.join(ci)\n",
      "gzip: /wynton/home/ahituv/fongsl/nullomers/data/phylop/shuf-mutations-uniq-woRMSK.GENCODE-exon_no-overlap-ref.only-116-phylop.txt.gz already has .gz suffix -- unchanged\n"
     ]
    },
    {
     "name": "stdout",
     "output_type": "stream",
     "text": [
      "(13604, 1005) (1985, 1005)\n"
     ]
    },
    {
     "name": "stderr",
     "output_type": "stream",
     "text": [
      "/scratch/fongsl/ipykernel_12815/2031676860.py:95: FutureWarning: merging between different levels is deprecated and will be removed in a future version. (1 levels on the left, 2 on the right)\n",
      "  summary_stats= summary_stats.join(ci)\n",
      "gzip: /wynton/home/ahituv/fongsl/nullomers/data/phylop/shuf-mutations-uniq-woRMSK.GENCODE-exon_no-overlap-ref.only-110-phylop.txt.gz already has .gz suffix -- unchanged\n"
     ]
    },
    {
     "name": "stdout",
     "output_type": "stream",
     "text": [
      "(13585, 1005) (2040, 1005)\n"
     ]
    },
    {
     "name": "stderr",
     "output_type": "stream",
     "text": [
      "/scratch/fongsl/ipykernel_12815/2031676860.py:95: FutureWarning: merging between different levels is deprecated and will be removed in a future version. (1 levels on the left, 2 on the right)\n",
      "  summary_stats= summary_stats.join(ci)\n",
      "gzip: /wynton/home/ahituv/fongsl/nullomers/data/phylop/shuf-mutations-uniq-woRMSK.GENCODE-exon_no-overlap-ref.only-117-phylop.txt.gz already has .gz suffix -- unchanged\n"
     ]
    },
    {
     "name": "stdout",
     "output_type": "stream",
     "text": [
      "(13558, 1005) (2038, 1005)\n"
     ]
    },
    {
     "name": "stderr",
     "output_type": "stream",
     "text": [
      "/scratch/fongsl/ipykernel_12815/2031676860.py:95: FutureWarning: merging between different levels is deprecated and will be removed in a future version. (1 levels on the left, 2 on the right)\n",
      "  summary_stats= summary_stats.join(ci)\n",
      "gzip: /wynton/home/ahituv/fongsl/nullomers/data/phylop/shuf-mutations-uniq-woRMSK.GENCODE-exon_no-overlap-ref.only-118-phylop.txt.gz already has .gz suffix -- unchanged\n"
     ]
    },
    {
     "name": "stdout",
     "output_type": "stream",
     "text": [
      "(13561, 1005) (2028, 1005)\n"
     ]
    },
    {
     "name": "stderr",
     "output_type": "stream",
     "text": [
      "/scratch/fongsl/ipykernel_12815/2031676860.py:95: FutureWarning: merging between different levels is deprecated and will be removed in a future version. (1 levels on the left, 2 on the right)\n",
      "  summary_stats= summary_stats.join(ci)\n",
      "gzip: /wynton/home/ahituv/fongsl/nullomers/data/phylop/shuf-mutations-uniq-woRMSK.GENCODE-exon_no-overlap-ref.only-112-phylop.txt.gz already has .gz suffix -- unchanged\n"
     ]
    },
    {
     "name": "stdout",
     "output_type": "stream",
     "text": [
      "(13597, 1005) (1934, 1005)\n"
     ]
    },
    {
     "name": "stderr",
     "output_type": "stream",
     "text": [
      "/scratch/fongsl/ipykernel_12815/2031676860.py:95: FutureWarning: merging between different levels is deprecated and will be removed in a future version. (1 levels on the left, 2 on the right)\n",
      "  summary_stats= summary_stats.join(ci)\n",
      "gzip: /wynton/home/ahituv/fongsl/nullomers/data/phylop/shuf-mutations-uniq-woRMSK.GENCODE-exon_no-overlap-ref.only-113-phylop.txt.gz already has .gz suffix -- unchanged\n"
     ]
    },
    {
     "name": "stdout",
     "output_type": "stream",
     "text": [
      "(13571, 1005) (1999, 1005)\n"
     ]
    },
    {
     "name": "stderr",
     "output_type": "stream",
     "text": [
      "/scratch/fongsl/ipykernel_12815/2031676860.py:95: FutureWarning: merging between different levels is deprecated and will be removed in a future version. (1 levels on the left, 2 on the right)\n",
      "  summary_stats= summary_stats.join(ci)\n",
      "gzip: /wynton/home/ahituv/fongsl/nullomers/data/phylop/shuf-mutations-uniq-woRMSK.GENCODE-exon_no-overlap-ref.only-114-phylop.txt.gz already has .gz suffix -- unchanged\n"
     ]
    },
    {
     "name": "stdout",
     "output_type": "stream",
     "text": [
      "(13571, 1005) (1966, 1005)\n"
     ]
    },
    {
     "name": "stderr",
     "output_type": "stream",
     "text": [
      "/scratch/fongsl/ipykernel_12815/2031676860.py:95: FutureWarning: merging between different levels is deprecated and will be removed in a future version. (1 levels on the left, 2 on the right)\n",
      "  summary_stats= summary_stats.join(ci)\n",
      "gzip: /wynton/home/ahituv/fongsl/nullomers/data/phylop/shuf-mutations-uniq-woRMSK.GENCODE-exon_no-overlap-ref.only-127-phylop.txt.gz already has .gz suffix -- unchanged\n"
     ]
    },
    {
     "name": "stdout",
     "output_type": "stream",
     "text": [
      "(13591, 1005) (1996, 1005)\n"
     ]
    },
    {
     "name": "stderr",
     "output_type": "stream",
     "text": [
      "/scratch/fongsl/ipykernel_12815/2031676860.py:95: FutureWarning: merging between different levels is deprecated and will be removed in a future version. (1 levels on the left, 2 on the right)\n",
      "  summary_stats= summary_stats.join(ci)\n",
      "gzip: /wynton/home/ahituv/fongsl/nullomers/data/phylop/shuf-mutations-uniq-woRMSK.GENCODE-exon_no-overlap-ref.only-126-phylop.txt.gz already has .gz suffix -- unchanged\n"
     ]
    },
    {
     "name": "stdout",
     "output_type": "stream",
     "text": [
      "(13585, 1005) (1992, 1005)\n"
     ]
    },
    {
     "name": "stderr",
     "output_type": "stream",
     "text": [
      "/scratch/fongsl/ipykernel_12815/2031676860.py:95: FutureWarning: merging between different levels is deprecated and will be removed in a future version. (1 levels on the left, 2 on the right)\n",
      "  summary_stats= summary_stats.join(ci)\n",
      "gzip: /wynton/home/ahituv/fongsl/nullomers/data/phylop/shuf-mutations-uniq-woRMSK.GENCODE-exon_no-overlap-ref.only-119-phylop.txt.gz already has .gz suffix -- unchanged\n"
     ]
    },
    {
     "name": "stdout",
     "output_type": "stream",
     "text": [
      "(13555, 1005) (2008, 1005)\n"
     ]
    },
    {
     "name": "stderr",
     "output_type": "stream",
     "text": [
      "/scratch/fongsl/ipykernel_12815/2031676860.py:95: FutureWarning: merging between different levels is deprecated and will be removed in a future version. (1 levels on the left, 2 on the right)\n",
      "  summary_stats= summary_stats.join(ci)\n",
      "gzip: /wynton/home/ahituv/fongsl/nullomers/data/phylop/shuf-mutations-uniq-woRMSK.GENCODE-exon_no-overlap-ref.only-122-phylop.txt.gz already has .gz suffix -- unchanged\n"
     ]
    },
    {
     "name": "stdout",
     "output_type": "stream",
     "text": [
      "(13546, 1005) (2000, 1005)\n"
     ]
    },
    {
     "name": "stderr",
     "output_type": "stream",
     "text": [
      "/scratch/fongsl/ipykernel_12815/2031676860.py:95: FutureWarning: merging between different levels is deprecated and will be removed in a future version. (1 levels on the left, 2 on the right)\n",
      "  summary_stats= summary_stats.join(ci)\n",
      "gzip: /wynton/home/ahituv/fongsl/nullomers/data/phylop/shuf-mutations-uniq-woRMSK.GENCODE-exon_no-overlap-ref.only-121-phylop.txt.gz already has .gz suffix -- unchanged\n"
     ]
    },
    {
     "name": "stdout",
     "output_type": "stream",
     "text": [
      "(13559, 1005) (1982, 1005)\n"
     ]
    },
    {
     "name": "stderr",
     "output_type": "stream",
     "text": [
      "/scratch/fongsl/ipykernel_12815/2031676860.py:95: FutureWarning: merging between different levels is deprecated and will be removed in a future version. (1 levels on the left, 2 on the right)\n",
      "  summary_stats= summary_stats.join(ci)\n",
      "gzip: /wynton/home/ahituv/fongsl/nullomers/data/phylop/shuf-mutations-uniq-woRMSK.GENCODE-exon_no-overlap-ref.only-98-phylop.txt.gz already has .gz suffix -- unchanged\n"
     ]
    },
    {
     "name": "stdout",
     "output_type": "stream",
     "text": [
      "(13590, 1005) (2031, 1005)\n"
     ]
    },
    {
     "name": "stderr",
     "output_type": "stream",
     "text": [
      "/scratch/fongsl/ipykernel_12815/2031676860.py:95: FutureWarning: merging between different levels is deprecated and will be removed in a future version. (1 levels on the left, 2 on the right)\n",
      "  summary_stats= summary_stats.join(ci)\n",
      "gzip: /wynton/home/ahituv/fongsl/nullomers/data/phylop/shuf-mutations-uniq-woRMSK.GENCODE-exon_no-overlap-ref.only-120-phylop.txt.gz already has .gz suffix -- unchanged\n"
     ]
    },
    {
     "name": "stdout",
     "output_type": "stream",
     "text": [
      "(13598, 1005) (2055, 1005)\n"
     ]
    },
    {
     "name": "stderr",
     "output_type": "stream",
     "text": [
      "/scratch/fongsl/ipykernel_12815/2031676860.py:95: FutureWarning: merging between different levels is deprecated and will be removed in a future version. (1 levels on the left, 2 on the right)\n",
      "  summary_stats= summary_stats.join(ci)\n",
      "gzip: /wynton/home/ahituv/fongsl/nullomers/data/phylop/shuf-mutations-uniq-woRMSK.GENCODE-exon_no-overlap-ref.only-123-phylop.txt.gz already has .gz suffix -- unchanged\n"
     ]
    },
    {
     "name": "stdout",
     "output_type": "stream",
     "text": [
      "(13564, 1005) (2011, 1005)\n"
     ]
    },
    {
     "name": "stderr",
     "output_type": "stream",
     "text": [
      "/scratch/fongsl/ipykernel_12815/2031676860.py:95: FutureWarning: merging between different levels is deprecated and will be removed in a future version. (1 levels on the left, 2 on the right)\n",
      "  summary_stats= summary_stats.join(ci)\n",
      "gzip: /wynton/home/ahituv/fongsl/nullomers/data/phylop/shuf-mutations-uniq-woRMSK.GENCODE-exon_no-overlap-ref.only-129-phylop.txt.gz already has .gz suffix -- unchanged\n"
     ]
    },
    {
     "name": "stdout",
     "output_type": "stream",
     "text": [
      "(13557, 1005) (2028, 1005)\n"
     ]
    },
    {
     "name": "stderr",
     "output_type": "stream",
     "text": [
      "/scratch/fongsl/ipykernel_12815/2031676860.py:95: FutureWarning: merging between different levels is deprecated and will be removed in a future version. (1 levels on the left, 2 on the right)\n",
      "  summary_stats= summary_stats.join(ci)\n",
      "gzip: /wynton/home/ahituv/fongsl/nullomers/data/phylop/shuf-mutations-uniq-woRMSK.GENCODE-exon_no-overlap-ref.only-133-phylop.txt.gz already has .gz suffix -- unchanged\n"
     ]
    },
    {
     "name": "stdout",
     "output_type": "stream",
     "text": [
      "(13544, 1005) (2014, 1005)\n"
     ]
    },
    {
     "name": "stderr",
     "output_type": "stream",
     "text": [
      "/scratch/fongsl/ipykernel_12815/2031676860.py:95: FutureWarning: merging between different levels is deprecated and will be removed in a future version. (1 levels on the left, 2 on the right)\n",
      "  summary_stats= summary_stats.join(ci)\n",
      "gzip: /wynton/home/ahituv/fongsl/nullomers/data/phylop/shuf-mutations-uniq-woRMSK.GENCODE-exon_no-overlap-ref.only-135-phylop.txt.gz already has .gz suffix -- unchanged\n"
     ]
    },
    {
     "name": "stdout",
     "output_type": "stream",
     "text": [
      "(13568, 1005) (2000, 1005)\n"
     ]
    },
    {
     "name": "stderr",
     "output_type": "stream",
     "text": [
      "/scratch/fongsl/ipykernel_12815/2031676860.py:95: FutureWarning: merging between different levels is deprecated and will be removed in a future version. (1 levels on the left, 2 on the right)\n",
      "  summary_stats= summary_stats.join(ci)\n",
      "gzip: /wynton/home/ahituv/fongsl/nullomers/data/phylop/shuf-mutations-uniq-woRMSK.GENCODE-exon_no-overlap-ref.only-134-phylop.txt.gz already has .gz suffix -- unchanged\n"
     ]
    },
    {
     "name": "stdout",
     "output_type": "stream",
     "text": [
      "(13569, 1005) (2058, 1005)\n"
     ]
    },
    {
     "name": "stderr",
     "output_type": "stream",
     "text": [
      "/scratch/fongsl/ipykernel_12815/2031676860.py:95: FutureWarning: merging between different levels is deprecated and will be removed in a future version. (1 levels on the left, 2 on the right)\n",
      "  summary_stats= summary_stats.join(ci)\n",
      "gzip: /wynton/home/ahituv/fongsl/nullomers/data/phylop/shuf-mutations-uniq-woRMSK.GENCODE-exon_no-overlap-ref.only-128-phylop.txt.gz already has .gz suffix -- unchanged\n"
     ]
    },
    {
     "name": "stdout",
     "output_type": "stream",
     "text": [
      "(13562, 1005) (2005, 1005)\n"
     ]
    },
    {
     "name": "stderr",
     "output_type": "stream",
     "text": [
      "/scratch/fongsl/ipykernel_12815/2031676860.py:95: FutureWarning: merging between different levels is deprecated and will be removed in a future version. (1 levels on the left, 2 on the right)\n",
      "  summary_stats= summary_stats.join(ci)\n",
      "gzip: /wynton/home/ahituv/fongsl/nullomers/data/phylop/shuf-mutations-uniq-woRMSK.GENCODE-exon_no-overlap-ref.only-132-phylop.txt.gz already has .gz suffix -- unchanged\n"
     ]
    },
    {
     "name": "stdout",
     "output_type": "stream",
     "text": [
      "(13570, 1005) (2033, 1005)\n"
     ]
    },
    {
     "name": "stderr",
     "output_type": "stream",
     "text": [
      "/scratch/fongsl/ipykernel_12815/2031676860.py:95: FutureWarning: merging between different levels is deprecated and will be removed in a future version. (1 levels on the left, 2 on the right)\n",
      "  summary_stats= summary_stats.join(ci)\n",
      "gzip: /wynton/home/ahituv/fongsl/nullomers/data/phylop/shuf-mutations-uniq-woRMSK.GENCODE-exon_no-overlap-ref.only-130-phylop.txt.gz already has .gz suffix -- unchanged\n"
     ]
    },
    {
     "name": "stdout",
     "output_type": "stream",
     "text": [
      "(13578, 1005) (2008, 1005)\n"
     ]
    },
    {
     "name": "stderr",
     "output_type": "stream",
     "text": [
      "/scratch/fongsl/ipykernel_12815/2031676860.py:95: FutureWarning: merging between different levels is deprecated and will be removed in a future version. (1 levels on the left, 2 on the right)\n",
      "  summary_stats= summary_stats.join(ci)\n",
      "gzip: /wynton/home/ahituv/fongsl/nullomers/data/phylop/shuf-mutations-uniq-woRMSK.GENCODE-exon_no-overlap-ref.only-131-phylop.txt.gz already has .gz suffix -- unchanged\n"
     ]
    },
    {
     "name": "stdout",
     "output_type": "stream",
     "text": [
      "(13570, 1005) (2048, 1005)\n"
     ]
    },
    {
     "name": "stderr",
     "output_type": "stream",
     "text": [
      "/scratch/fongsl/ipykernel_12815/2031676860.py:95: FutureWarning: merging between different levels is deprecated and will be removed in a future version. (1 levels on the left, 2 on the right)\n",
      "  summary_stats= summary_stats.join(ci)\n",
      "gzip: /wynton/home/ahituv/fongsl/nullomers/data/phylop/shuf-mutations-uniq-woRMSK.GENCODE-exon_no-overlap-ref.only-137-phylop.txt.gz already has .gz suffix -- unchanged\n"
     ]
    },
    {
     "name": "stdout",
     "output_type": "stream",
     "text": [
      "(13589, 1005) (1981, 1005)\n"
     ]
    },
    {
     "name": "stderr",
     "output_type": "stream",
     "text": [
      "/scratch/fongsl/ipykernel_12815/2031676860.py:95: FutureWarning: merging between different levels is deprecated and will be removed in a future version. (1 levels on the left, 2 on the right)\n",
      "  summary_stats= summary_stats.join(ci)\n",
      "gzip: /wynton/home/ahituv/fongsl/nullomers/data/phylop/shuf-mutations-uniq-woRMSK.GENCODE-exon_no-overlap-ref.only-138-phylop.txt.gz already has .gz suffix -- unchanged\n"
     ]
    },
    {
     "name": "stdout",
     "output_type": "stream",
     "text": [
      "(13567, 1005) (2012, 1005)\n"
     ]
    },
    {
     "name": "stderr",
     "output_type": "stream",
     "text": [
      "/scratch/fongsl/ipykernel_12815/2031676860.py:95: FutureWarning: merging between different levels is deprecated and will be removed in a future version. (1 levels on the left, 2 on the right)\n",
      "  summary_stats= summary_stats.join(ci)\n",
      "gzip: /wynton/home/ahituv/fongsl/nullomers/data/phylop/shuf-mutations-uniq-woRMSK.GENCODE-exon_no-overlap-ref.only-139-phylop.txt.gz already has .gz suffix -- unchanged\n"
     ]
    },
    {
     "name": "stdout",
     "output_type": "stream",
     "text": [
      "(13563, 1005) (1978, 1005)\n"
     ]
    },
    {
     "name": "stderr",
     "output_type": "stream",
     "text": [
      "/scratch/fongsl/ipykernel_12815/2031676860.py:95: FutureWarning: merging between different levels is deprecated and will be removed in a future version. (1 levels on the left, 2 on the right)\n",
      "  summary_stats= summary_stats.join(ci)\n",
      "gzip: /wynton/home/ahituv/fongsl/nullomers/data/phylop/shuf-mutations-uniq-woRMSK.GENCODE-exon_no-overlap-ref.only-136-phylop.txt.gz already has .gz suffix -- unchanged\n"
     ]
    },
    {
     "name": "stdout",
     "output_type": "stream",
     "text": [
      "(13561, 1005) (2028, 1005)\n"
     ]
    },
    {
     "name": "stderr",
     "output_type": "stream",
     "text": [
      "/scratch/fongsl/ipykernel_12815/2031676860.py:95: FutureWarning: merging between different levels is deprecated and will be removed in a future version. (1 levels on the left, 2 on the right)\n",
      "  summary_stats= summary_stats.join(ci)\n",
      "gzip: /wynton/home/ahituv/fongsl/nullomers/data/phylop/shuf-mutations-uniq-woRMSK.GENCODE-exon_no-overlap-ref.only-140-phylop.txt.gz already has .gz suffix -- unchanged\n"
     ]
    },
    {
     "name": "stdout",
     "output_type": "stream",
     "text": [
      "(13589, 1005) (1966, 1005)\n"
     ]
    },
    {
     "name": "stderr",
     "output_type": "stream",
     "text": [
      "/scratch/fongsl/ipykernel_12815/2031676860.py:95: FutureWarning: merging between different levels is deprecated and will be removed in a future version. (1 levels on the left, 2 on the right)\n",
      "  summary_stats= summary_stats.join(ci)\n",
      "gzip: /wynton/home/ahituv/fongsl/nullomers/data/phylop/shuf-mutations-uniq-woRMSK.GENCODE-exon_no-overlap-ref.only-141-phylop.txt.gz already has .gz suffix -- unchanged\n"
     ]
    },
    {
     "name": "stdout",
     "output_type": "stream",
     "text": [
      "(13584, 1005) (2079, 1005)\n"
     ]
    },
    {
     "name": "stderr",
     "output_type": "stream",
     "text": [
      "/scratch/fongsl/ipykernel_12815/2031676860.py:95: FutureWarning: merging between different levels is deprecated and will be removed in a future version. (1 levels on the left, 2 on the right)\n",
      "  summary_stats= summary_stats.join(ci)\n",
      "gzip: /wynton/home/ahituv/fongsl/nullomers/data/phylop/shuf-mutations-uniq-woRMSK.GENCODE-exon_no-overlap-ref.only-148-phylop.txt.gz already has .gz suffix -- unchanged\n"
     ]
    },
    {
     "name": "stdout",
     "output_type": "stream",
     "text": [
      "(13522, 1005) (2018, 1005)\n"
     ]
    },
    {
     "name": "stderr",
     "output_type": "stream",
     "text": [
      "/scratch/fongsl/ipykernel_12815/2031676860.py:95: FutureWarning: merging between different levels is deprecated and will be removed in a future version. (1 levels on the left, 2 on the right)\n",
      "  summary_stats= summary_stats.join(ci)\n",
      "gzip: /wynton/home/ahituv/fongsl/nullomers/data/phylop/shuf-mutations-uniq-woRMSK.GENCODE-exon_no-overlap-ref.only-146-phylop.txt.gz already has .gz suffix -- unchanged\n"
     ]
    },
    {
     "name": "stdout",
     "output_type": "stream",
     "text": [
      "(13561, 1005) (2046, 1005)\n"
     ]
    },
    {
     "name": "stderr",
     "output_type": "stream",
     "text": [
      "/scratch/fongsl/ipykernel_12815/2031676860.py:95: FutureWarning: merging between different levels is deprecated and will be removed in a future version. (1 levels on the left, 2 on the right)\n",
      "  summary_stats= summary_stats.join(ci)\n",
      "gzip: /wynton/home/ahituv/fongsl/nullomers/data/phylop/shuf-mutations-uniq-woRMSK.GENCODE-exon_no-overlap-ref.only-144-phylop.txt.gz already has .gz suffix -- unchanged\n"
     ]
    },
    {
     "name": "stdout",
     "output_type": "stream",
     "text": [
      "(13523, 1005) (1988, 1005)\n"
     ]
    },
    {
     "name": "stderr",
     "output_type": "stream",
     "text": [
      "/scratch/fongsl/ipykernel_12815/2031676860.py:95: FutureWarning: merging between different levels is deprecated and will be removed in a future version. (1 levels on the left, 2 on the right)\n",
      "  summary_stats= summary_stats.join(ci)\n",
      "gzip: /wynton/home/ahituv/fongsl/nullomers/data/phylop/shuf-mutations-uniq-woRMSK.GENCODE-exon_no-overlap-ref.only-145-phylop.txt.gz already has .gz suffix -- unchanged\n"
     ]
    },
    {
     "name": "stdout",
     "output_type": "stream",
     "text": [
      "(13534, 1005) (1971, 1005)\n"
     ]
    },
    {
     "name": "stderr",
     "output_type": "stream",
     "text": [
      "/scratch/fongsl/ipykernel_12815/2031676860.py:95: FutureWarning: merging between different levels is deprecated and will be removed in a future version. (1 levels on the left, 2 on the right)\n",
      "  summary_stats= summary_stats.join(ci)\n",
      "gzip: /wynton/home/ahituv/fongsl/nullomers/data/phylop/shuf-mutations-uniq-woRMSK.GENCODE-exon_no-overlap-ref.only-143-phylop.txt.gz already has .gz suffix -- unchanged\n"
     ]
    },
    {
     "name": "stdout",
     "output_type": "stream",
     "text": [
      "(13585, 1005) (2106, 1005)\n"
     ]
    },
    {
     "name": "stderr",
     "output_type": "stream",
     "text": [
      "/scratch/fongsl/ipykernel_12815/2031676860.py:95: FutureWarning: merging between different levels is deprecated and will be removed in a future version. (1 levels on the left, 2 on the right)\n",
      "  summary_stats= summary_stats.join(ci)\n",
      "gzip: /wynton/home/ahituv/fongsl/nullomers/data/phylop/shuf-mutations-uniq-woRMSK.GENCODE-exon_no-overlap-ref.only-147-phylop.txt.gz already has .gz suffix -- unchanged\n"
     ]
    },
    {
     "name": "stdout",
     "output_type": "stream",
     "text": [
      "(13577, 1005) (2036, 1005)\n"
     ]
    },
    {
     "name": "stderr",
     "output_type": "stream",
     "text": [
      "/scratch/fongsl/ipykernel_12815/2031676860.py:95: FutureWarning: merging between different levels is deprecated and will be removed in a future version. (1 levels on the left, 2 on the right)\n",
      "  summary_stats= summary_stats.join(ci)\n",
      "gzip: /wynton/home/ahituv/fongsl/nullomers/data/phylop/shuf-mutations-uniq-woRMSK.GENCODE-exon_no-overlap-ref.only-165-phylop.txt.gz already has .gz suffix -- unchanged\n"
     ]
    },
    {
     "name": "stdout",
     "output_type": "stream",
     "text": [
      "(13580, 1005) (1959, 1005)\n"
     ]
    },
    {
     "name": "stderr",
     "output_type": "stream",
     "text": [
      "/scratch/fongsl/ipykernel_12815/2031676860.py:95: FutureWarning: merging between different levels is deprecated and will be removed in a future version. (1 levels on the left, 2 on the right)\n",
      "  summary_stats= summary_stats.join(ci)\n",
      "gzip: /wynton/home/ahituv/fongsl/nullomers/data/phylop/shuf-mutations-uniq-woRMSK.GENCODE-exon_no-overlap-ref.only-150-phylop.txt.gz already has .gz suffix -- unchanged\n"
     ]
    },
    {
     "name": "stdout",
     "output_type": "stream",
     "text": [
      "(13555, 1005) (1993, 1005)\n"
     ]
    },
    {
     "name": "stderr",
     "output_type": "stream",
     "text": [
      "/scratch/fongsl/ipykernel_12815/2031676860.py:95: FutureWarning: merging between different levels is deprecated and will be removed in a future version. (1 levels on the left, 2 on the right)\n",
      "  summary_stats= summary_stats.join(ci)\n",
      "gzip: /wynton/home/ahituv/fongsl/nullomers/data/phylop/shuf-mutations-uniq-woRMSK.GENCODE-exon_no-overlap-ref.only-125-phylop.txt.gz already has .gz suffix -- unchanged\n"
     ]
    },
    {
     "name": "stdout",
     "output_type": "stream",
     "text": [
      "(13570, 1005) (2053, 1005)\n"
     ]
    },
    {
     "name": "stderr",
     "output_type": "stream",
     "text": [
      "/scratch/fongsl/ipykernel_12815/2031676860.py:95: FutureWarning: merging between different levels is deprecated and will be removed in a future version. (1 levels on the left, 2 on the right)\n",
      "  summary_stats= summary_stats.join(ci)\n",
      "gzip: /wynton/home/ahituv/fongsl/nullomers/data/phylop/shuf-mutations-uniq-woRMSK.GENCODE-exon_no-overlap-ref.only-156-phylop.txt.gz already has .gz suffix -- unchanged\n"
     ]
    },
    {
     "name": "stdout",
     "output_type": "stream",
     "text": [
      "(13575, 1005) (2037, 1005)\n"
     ]
    },
    {
     "name": "stderr",
     "output_type": "stream",
     "text": [
      "/scratch/fongsl/ipykernel_12815/2031676860.py:95: FutureWarning: merging between different levels is deprecated and will be removed in a future version. (1 levels on the left, 2 on the right)\n",
      "  summary_stats= summary_stats.join(ci)\n",
      "gzip: /wynton/home/ahituv/fongsl/nullomers/data/phylop/shuf-mutations-uniq-woRMSK.GENCODE-exon_no-overlap-ref.only-149-phylop.txt.gz already has .gz suffix -- unchanged\n"
     ]
    },
    {
     "name": "stdout",
     "output_type": "stream",
     "text": [
      "(13531, 1005) (2072, 1005)\n"
     ]
    },
    {
     "name": "stderr",
     "output_type": "stream",
     "text": [
      "/scratch/fongsl/ipykernel_12815/2031676860.py:95: FutureWarning: merging between different levels is deprecated and will be removed in a future version. (1 levels on the left, 2 on the right)\n",
      "  summary_stats= summary_stats.join(ci)\n",
      "gzip: /wynton/home/ahituv/fongsl/nullomers/data/phylop/shuf-mutations-uniq-woRMSK.GENCODE-exon_no-overlap-ref.only-151-phylop.txt.gz already has .gz suffix -- unchanged\n"
     ]
    },
    {
     "name": "stdout",
     "output_type": "stream",
     "text": [
      "(13560, 1005) (1979, 1005)\n"
     ]
    },
    {
     "name": "stderr",
     "output_type": "stream",
     "text": [
      "/scratch/fongsl/ipykernel_12815/2031676860.py:95: FutureWarning: merging between different levels is deprecated and will be removed in a future version. (1 levels on the left, 2 on the right)\n",
      "  summary_stats= summary_stats.join(ci)\n",
      "gzip: /wynton/home/ahituv/fongsl/nullomers/data/phylop/shuf-mutations-uniq-woRMSK.GENCODE-exon_no-overlap-ref.only-157-phylop.txt.gz already has .gz suffix -- unchanged\n"
     ]
    },
    {
     "name": "stdout",
     "output_type": "stream",
     "text": [
      "(13569, 1005) (2021, 1005)\n"
     ]
    },
    {
     "name": "stderr",
     "output_type": "stream",
     "text": [
      "/scratch/fongsl/ipykernel_12815/2031676860.py:95: FutureWarning: merging between different levels is deprecated and will be removed in a future version. (1 levels on the left, 2 on the right)\n",
      "  summary_stats= summary_stats.join(ci)\n",
      "gzip: /wynton/home/ahituv/fongsl/nullomers/data/phylop/shuf-mutations-uniq-woRMSK.GENCODE-exon_no-overlap-ref.only-158-phylop.txt.gz already has .gz suffix -- unchanged\n"
     ]
    },
    {
     "name": "stdout",
     "output_type": "stream",
     "text": [
      "(13566, 1005) (1999, 1005)\n"
     ]
    },
    {
     "name": "stderr",
     "output_type": "stream",
     "text": [
      "/scratch/fongsl/ipykernel_12815/2031676860.py:95: FutureWarning: merging between different levels is deprecated and will be removed in a future version. (1 levels on the left, 2 on the right)\n",
      "  summary_stats= summary_stats.join(ci)\n",
      "gzip: /wynton/home/ahituv/fongsl/nullomers/data/phylop/shuf-mutations-uniq-woRMSK.GENCODE-exon_no-overlap-ref.only-164-phylop.txt.gz already has .gz suffix -- unchanged\n"
     ]
    },
    {
     "name": "stdout",
     "output_type": "stream",
     "text": [
      "(13581, 1005) (1946, 1005)\n"
     ]
    },
    {
     "name": "stderr",
     "output_type": "stream",
     "text": [
      "/scratch/fongsl/ipykernel_12815/2031676860.py:95: FutureWarning: merging between different levels is deprecated and will be removed in a future version. (1 levels on the left, 2 on the right)\n",
      "  summary_stats= summary_stats.join(ci)\n",
      "gzip: /wynton/home/ahituv/fongsl/nullomers/data/phylop/shuf-mutations-uniq-woRMSK.GENCODE-exon_no-overlap-ref.only-160-phylop.txt.gz already has .gz suffix -- unchanged\n"
     ]
    },
    {
     "name": "stdout",
     "output_type": "stream",
     "text": [
      "(13581, 1005) (2050, 1005)\n"
     ]
    },
    {
     "name": "stderr",
     "output_type": "stream",
     "text": [
      "/scratch/fongsl/ipykernel_12815/2031676860.py:95: FutureWarning: merging between different levels is deprecated and will be removed in a future version. (1 levels on the left, 2 on the right)\n",
      "  summary_stats= summary_stats.join(ci)\n",
      "gzip: /wynton/home/ahituv/fongsl/nullomers/data/phylop/shuf-mutations-uniq-woRMSK.GENCODE-exon_no-overlap-ref.only-162-phylop.txt.gz already has .gz suffix -- unchanged\n"
     ]
    },
    {
     "name": "stdout",
     "output_type": "stream",
     "text": [
      "(13531, 1005) (2004, 1005)\n"
     ]
    },
    {
     "name": "stderr",
     "output_type": "stream",
     "text": [
      "/scratch/fongsl/ipykernel_12815/2031676860.py:95: FutureWarning: merging between different levels is deprecated and will be removed in a future version. (1 levels on the left, 2 on the right)\n",
      "  summary_stats= summary_stats.join(ci)\n",
      "gzip: /wynton/home/ahituv/fongsl/nullomers/data/phylop/shuf-mutations-uniq-woRMSK.GENCODE-exon_no-overlap-ref.only-155-phylop.txt.gz already has .gz suffix -- unchanged\n"
     ]
    },
    {
     "name": "stdout",
     "output_type": "stream",
     "text": [
      "(13564, 1005) (1988, 1005)\n"
     ]
    },
    {
     "name": "stderr",
     "output_type": "stream",
     "text": [
      "/scratch/fongsl/ipykernel_12815/2031676860.py:95: FutureWarning: merging between different levels is deprecated and will be removed in a future version. (1 levels on the left, 2 on the right)\n",
      "  summary_stats= summary_stats.join(ci)\n",
      "gzip: /wynton/home/ahituv/fongsl/nullomers/data/phylop/shuf-mutations-uniq-woRMSK.GENCODE-exon_no-overlap-ref.only-153-phylop.txt.gz already has .gz suffix -- unchanged\n"
     ]
    },
    {
     "name": "stdout",
     "output_type": "stream",
     "text": [
      "(13585, 1005) (2063, 1005)\n"
     ]
    },
    {
     "name": "stderr",
     "output_type": "stream",
     "text": [
      "/scratch/fongsl/ipykernel_12815/2031676860.py:95: FutureWarning: merging between different levels is deprecated and will be removed in a future version. (1 levels on the left, 2 on the right)\n",
      "  summary_stats= summary_stats.join(ci)\n",
      "gzip: /wynton/home/ahituv/fongsl/nullomers/data/phylop/shuf-mutations-uniq-woRMSK.GENCODE-exon_no-overlap-ref.only-159-phylop.txt.gz already has .gz suffix -- unchanged\n"
     ]
    },
    {
     "name": "stdout",
     "output_type": "stream",
     "text": [
      "(13576, 1005) (2013, 1005)\n"
     ]
    },
    {
     "name": "stderr",
     "output_type": "stream",
     "text": [
      "/scratch/fongsl/ipykernel_12815/2031676860.py:95: FutureWarning: merging between different levels is deprecated and will be removed in a future version. (1 levels on the left, 2 on the right)\n",
      "  summary_stats= summary_stats.join(ci)\n",
      "gzip: /wynton/home/ahituv/fongsl/nullomers/data/phylop/shuf-mutations-uniq-woRMSK.GENCODE-exon_no-overlap-ref.only-152-phylop.txt.gz already has .gz suffix -- unchanged\n"
     ]
    },
    {
     "name": "stdout",
     "output_type": "stream",
     "text": [
      "(13583, 1005) (2036, 1005)\n"
     ]
    },
    {
     "name": "stderr",
     "output_type": "stream",
     "text": [
      "/scratch/fongsl/ipykernel_12815/2031676860.py:95: FutureWarning: merging between different levels is deprecated and will be removed in a future version. (1 levels on the left, 2 on the right)\n",
      "  summary_stats= summary_stats.join(ci)\n",
      "gzip: /wynton/home/ahituv/fongsl/nullomers/data/phylop/shuf-mutations-uniq-woRMSK.GENCODE-exon_no-overlap-ref.only-154-phylop.txt.gz already has .gz suffix -- unchanged\n"
     ]
    },
    {
     "name": "stdout",
     "output_type": "stream",
     "text": [
      "(13579, 1005) (2082, 1005)\n"
     ]
    },
    {
     "name": "stderr",
     "output_type": "stream",
     "text": [
      "/scratch/fongsl/ipykernel_12815/2031676860.py:95: FutureWarning: merging between different levels is deprecated and will be removed in a future version. (1 levels on the left, 2 on the right)\n",
      "  summary_stats= summary_stats.join(ci)\n",
      "gzip: /wynton/home/ahituv/fongsl/nullomers/data/phylop/shuf-mutations-uniq-woRMSK.GENCODE-exon_no-overlap-ref.only-167-phylop.txt.gz already has .gz suffix -- unchanged\n"
     ]
    },
    {
     "name": "stdout",
     "output_type": "stream",
     "text": [
      "(13551, 1005) (2091, 1005)\n"
     ]
    },
    {
     "name": "stderr",
     "output_type": "stream",
     "text": [
      "/scratch/fongsl/ipykernel_12815/2031676860.py:95: FutureWarning: merging between different levels is deprecated and will be removed in a future version. (1 levels on the left, 2 on the right)\n",
      "  summary_stats= summary_stats.join(ci)\n",
      "gzip: /wynton/home/ahituv/fongsl/nullomers/data/phylop/shuf-mutations-uniq-woRMSK.GENCODE-exon_no-overlap-ref.only-163-phylop.txt.gz already has .gz suffix -- unchanged\n"
     ]
    },
    {
     "name": "stdout",
     "output_type": "stream",
     "text": [
      "(13568, 1005) (1987, 1005)\n"
     ]
    },
    {
     "name": "stderr",
     "output_type": "stream",
     "text": [
      "/scratch/fongsl/ipykernel_12815/2031676860.py:95: FutureWarning: merging between different levels is deprecated and will be removed in a future version. (1 levels on the left, 2 on the right)\n",
      "  summary_stats= summary_stats.join(ci)\n",
      "gzip: /wynton/home/ahituv/fongsl/nullomers/data/phylop/shuf-mutations-uniq-woRMSK.GENCODE-exon_no-overlap-ref.only-166-phylop.txt.gz already has .gz suffix -- unchanged\n"
     ]
    },
    {
     "name": "stdout",
     "output_type": "stream",
     "text": [
      "(13554, 1005) (2051, 1005)\n"
     ]
    },
    {
     "name": "stderr",
     "output_type": "stream",
     "text": [
      "/scratch/fongsl/ipykernel_12815/2031676860.py:95: FutureWarning: merging between different levels is deprecated and will be removed in a future version. (1 levels on the left, 2 on the right)\n",
      "  summary_stats= summary_stats.join(ci)\n",
      "gzip: /wynton/home/ahituv/fongsl/nullomers/data/phylop/shuf-mutations-uniq-woRMSK.GENCODE-exon_no-overlap-ref.only-168-phylop.txt.gz already has .gz suffix -- unchanged\n"
     ]
    },
    {
     "name": "stdout",
     "output_type": "stream",
     "text": [
      "(13547, 1005) (1948, 1005)\n"
     ]
    },
    {
     "name": "stderr",
     "output_type": "stream",
     "text": [
      "/scratch/fongsl/ipykernel_12815/2031676860.py:95: FutureWarning: merging between different levels is deprecated and will be removed in a future version. (1 levels on the left, 2 on the right)\n",
      "  summary_stats= summary_stats.join(ci)\n",
      "gzip: /wynton/home/ahituv/fongsl/nullomers/data/phylop/shuf-mutations-uniq-woRMSK.GENCODE-exon_no-overlap-ref.only-173-phylop.txt.gz already has .gz suffix -- unchanged\n"
     ]
    },
    {
     "name": "stdout",
     "output_type": "stream",
     "text": [
      "(13558, 1005) (2018, 1005)\n"
     ]
    },
    {
     "name": "stderr",
     "output_type": "stream",
     "text": [
      "/scratch/fongsl/ipykernel_12815/2031676860.py:95: FutureWarning: merging between different levels is deprecated and will be removed in a future version. (1 levels on the left, 2 on the right)\n",
      "  summary_stats= summary_stats.join(ci)\n",
      "gzip: /wynton/home/ahituv/fongsl/nullomers/data/phylop/shuf-mutations-uniq-woRMSK.GENCODE-exon_no-overlap-ref.only-172-phylop.txt.gz already has .gz suffix -- unchanged\n"
     ]
    },
    {
     "name": "stdout",
     "output_type": "stream",
     "text": [
      "(13546, 1005) (1995, 1005)\n"
     ]
    },
    {
     "name": "stderr",
     "output_type": "stream",
     "text": [
      "/scratch/fongsl/ipykernel_12815/2031676860.py:95: FutureWarning: merging between different levels is deprecated and will be removed in a future version. (1 levels on the left, 2 on the right)\n",
      "  summary_stats= summary_stats.join(ci)\n",
      "gzip: /wynton/home/ahituv/fongsl/nullomers/data/phylop/shuf-mutations-uniq-woRMSK.GENCODE-exon_no-overlap-ref.only-191-phylop.txt.gz already has .gz suffix -- unchanged\n"
     ]
    },
    {
     "name": "stdout",
     "output_type": "stream",
     "text": [
      "(13563, 1005) (1944, 1005)\n"
     ]
    },
    {
     "name": "stderr",
     "output_type": "stream",
     "text": [
      "/scratch/fongsl/ipykernel_12815/2031676860.py:95: FutureWarning: merging between different levels is deprecated and will be removed in a future version. (1 levels on the left, 2 on the right)\n",
      "  summary_stats= summary_stats.join(ci)\n",
      "gzip: /wynton/home/ahituv/fongsl/nullomers/data/phylop/shuf-mutations-uniq-woRMSK.GENCODE-exon_no-overlap-ref.only-182-phylop.txt.gz already has .gz suffix -- unchanged\n"
     ]
    },
    {
     "name": "stdout",
     "output_type": "stream",
     "text": [
      "(13565, 1005) (2033, 1005)\n"
     ]
    },
    {
     "name": "stderr",
     "output_type": "stream",
     "text": [
      "/scratch/fongsl/ipykernel_12815/2031676860.py:95: FutureWarning: merging between different levels is deprecated and will be removed in a future version. (1 levels on the left, 2 on the right)\n",
      "  summary_stats= summary_stats.join(ci)\n",
      "gzip: /wynton/home/ahituv/fongsl/nullomers/data/phylop/shuf-mutations-uniq-woRMSK.GENCODE-exon_no-overlap-ref.only-181-phylop.txt.gz already has .gz suffix -- unchanged\n"
     ]
    },
    {
     "name": "stdout",
     "output_type": "stream",
     "text": [
      "(13575, 1005) (2090, 1005)\n"
     ]
    },
    {
     "name": "stderr",
     "output_type": "stream",
     "text": [
      "/scratch/fongsl/ipykernel_12815/2031676860.py:95: FutureWarning: merging between different levels is deprecated and will be removed in a future version. (1 levels on the left, 2 on the right)\n",
      "  summary_stats= summary_stats.join(ci)\n",
      "gzip: /wynton/home/ahituv/fongsl/nullomers/data/phylop/shuf-mutations-uniq-woRMSK.GENCODE-exon_no-overlap-ref.only-175-phylop.txt.gz already has .gz suffix -- unchanged\n"
     ]
    },
    {
     "name": "stdout",
     "output_type": "stream",
     "text": [
      "(13572, 1005) (2067, 1005)\n"
     ]
    },
    {
     "name": "stderr",
     "output_type": "stream",
     "text": [
      "/scratch/fongsl/ipykernel_12815/2031676860.py:95: FutureWarning: merging between different levels is deprecated and will be removed in a future version. (1 levels on the left, 2 on the right)\n",
      "  summary_stats= summary_stats.join(ci)\n",
      "gzip: /wynton/home/ahituv/fongsl/nullomers/data/phylop/shuf-mutations-uniq-woRMSK.GENCODE-exon_no-overlap-ref.only-188-phylop.txt.gz already has .gz suffix -- unchanged\n"
     ]
    },
    {
     "name": "stdout",
     "output_type": "stream",
     "text": [
      "(13552, 1005) (2027, 1005)\n"
     ]
    },
    {
     "name": "stderr",
     "output_type": "stream",
     "text": [
      "/scratch/fongsl/ipykernel_12815/2031676860.py:95: FutureWarning: merging between different levels is deprecated and will be removed in a future version. (1 levels on the left, 2 on the right)\n",
      "  summary_stats= summary_stats.join(ci)\n",
      "gzip: /wynton/home/ahituv/fongsl/nullomers/data/phylop/shuf-mutations-uniq-woRMSK.GENCODE-exon_no-overlap-ref.only-185-phylop.txt.gz already has .gz suffix -- unchanged\n"
     ]
    },
    {
     "name": "stdout",
     "output_type": "stream",
     "text": [
      "(13545, 1005) (2048, 1005)\n"
     ]
    },
    {
     "name": "stderr",
     "output_type": "stream",
     "text": [
      "/scratch/fongsl/ipykernel_12815/2031676860.py:95: FutureWarning: merging between different levels is deprecated and will be removed in a future version. (1 levels on the left, 2 on the right)\n",
      "  summary_stats= summary_stats.join(ci)\n",
      "gzip: /wynton/home/ahituv/fongsl/nullomers/data/phylop/shuf-mutations-uniq-woRMSK.GENCODE-exon_no-overlap-ref.only-187-phylop.txt.gz already has .gz suffix -- unchanged\n"
     ]
    },
    {
     "name": "stdout",
     "output_type": "stream",
     "text": [
      "(13581, 1005) (2019, 1005)\n"
     ]
    },
    {
     "name": "stderr",
     "output_type": "stream",
     "text": [
      "/scratch/fongsl/ipykernel_12815/2031676860.py:95: FutureWarning: merging between different levels is deprecated and will be removed in a future version. (1 levels on the left, 2 on the right)\n",
      "  summary_stats= summary_stats.join(ci)\n",
      "gzip: /wynton/home/ahituv/fongsl/nullomers/data/phylop/shuf-mutations-uniq-woRMSK.GENCODE-exon_no-overlap-ref.only-186-phylop.txt.gz already has .gz suffix -- unchanged\n"
     ]
    },
    {
     "name": "stdout",
     "output_type": "stream",
     "text": [
      "(13489, 1005) (2032, 1005)\n"
     ]
    },
    {
     "name": "stderr",
     "output_type": "stream",
     "text": [
      "/scratch/fongsl/ipykernel_12815/2031676860.py:95: FutureWarning: merging between different levels is deprecated and will be removed in a future version. (1 levels on the left, 2 on the right)\n",
      "  summary_stats= summary_stats.join(ci)\n",
      "gzip: /wynton/home/ahituv/fongsl/nullomers/data/phylop/shuf-mutations-uniq-woRMSK.GENCODE-exon_no-overlap-ref.only-142-phylop.txt.gz already has .gz suffix -- unchanged\n"
     ]
    },
    {
     "name": "stdout",
     "output_type": "stream",
     "text": [
      "(13578, 1005) (2027, 1005)\n"
     ]
    },
    {
     "name": "stderr",
     "output_type": "stream",
     "text": [
      "/scratch/fongsl/ipykernel_12815/2031676860.py:95: FutureWarning: merging between different levels is deprecated and will be removed in a future version. (1 levels on the left, 2 on the right)\n",
      "  summary_stats= summary_stats.join(ci)\n",
      "gzip: /wynton/home/ahituv/fongsl/nullomers/data/phylop/shuf-mutations-uniq-woRMSK.GENCODE-exon_no-overlap-ref.only-174-phylop.txt.gz already has .gz suffix -- unchanged\n"
     ]
    },
    {
     "name": "stdout",
     "output_type": "stream",
     "text": [
      "(13590, 1005) (2050, 1005)\n"
     ]
    },
    {
     "name": "stderr",
     "output_type": "stream",
     "text": [
      "/scratch/fongsl/ipykernel_12815/2031676860.py:95: FutureWarning: merging between different levels is deprecated and will be removed in a future version. (1 levels on the left, 2 on the right)\n",
      "  summary_stats= summary_stats.join(ci)\n",
      "gzip: /wynton/home/ahituv/fongsl/nullomers/data/phylop/shuf-mutations-uniq-woRMSK.GENCODE-exon_no-overlap-ref.only-192-phylop.txt.gz already has .gz suffix -- unchanged\n"
     ]
    },
    {
     "name": "stdout",
     "output_type": "stream",
     "text": [
      "(13548, 1005) (2049, 1005)\n"
     ]
    },
    {
     "name": "stderr",
     "output_type": "stream",
     "text": [
      "/scratch/fongsl/ipykernel_12815/2031676860.py:95: FutureWarning: merging between different levels is deprecated and will be removed in a future version. (1 levels on the left, 2 on the right)\n",
      "  summary_stats= summary_stats.join(ci)\n",
      "gzip: /wynton/home/ahituv/fongsl/nullomers/data/phylop/shuf-mutations-uniq-woRMSK.GENCODE-exon_no-overlap-ref.only-179-phylop.txt.gz already has .gz suffix -- unchanged\n"
     ]
    },
    {
     "name": "stdout",
     "output_type": "stream",
     "text": [
      "(13591, 1005) (2076, 1005)\n"
     ]
    },
    {
     "name": "stderr",
     "output_type": "stream",
     "text": [
      "/scratch/fongsl/ipykernel_12815/2031676860.py:95: FutureWarning: merging between different levels is deprecated and will be removed in a future version. (1 levels on the left, 2 on the right)\n",
      "  summary_stats= summary_stats.join(ci)\n",
      "gzip: /wynton/home/ahituv/fongsl/nullomers/data/phylop/shuf-mutations-uniq-woRMSK.GENCODE-exon_no-overlap-ref.only-180-phylop.txt.gz already has .gz suffix -- unchanged\n"
     ]
    },
    {
     "name": "stdout",
     "output_type": "stream",
     "text": [
      "(13537, 1005) (1983, 1005)\n"
     ]
    },
    {
     "name": "stderr",
     "output_type": "stream",
     "text": [
      "/scratch/fongsl/ipykernel_12815/2031676860.py:95: FutureWarning: merging between different levels is deprecated and will be removed in a future version. (1 levels on the left, 2 on the right)\n",
      "  summary_stats= summary_stats.join(ci)\n",
      "gzip: /wynton/home/ahituv/fongsl/nullomers/data/phylop/shuf-mutations-uniq-woRMSK.GENCODE-exon_no-overlap-ref.only-177-phylop.txt.gz already has .gz suffix -- unchanged\n"
     ]
    },
    {
     "name": "stdout",
     "output_type": "stream",
     "text": [
      "(13569, 1005) (2039, 1005)\n"
     ]
    },
    {
     "name": "stderr",
     "output_type": "stream",
     "text": [
      "/scratch/fongsl/ipykernel_12815/2031676860.py:95: FutureWarning: merging between different levels is deprecated and will be removed in a future version. (1 levels on the left, 2 on the right)\n",
      "  summary_stats= summary_stats.join(ci)\n",
      "gzip: /wynton/home/ahituv/fongsl/nullomers/data/phylop/shuf-mutations-uniq-woRMSK.GENCODE-exon_no-overlap-ref.only-178-phylop.txt.gz already has .gz suffix -- unchanged\n"
     ]
    },
    {
     "name": "stdout",
     "output_type": "stream",
     "text": [
      "(13584, 1005) (2040, 1005)\n"
     ]
    },
    {
     "name": "stderr",
     "output_type": "stream",
     "text": [
      "/scratch/fongsl/ipykernel_12815/2031676860.py:95: FutureWarning: merging between different levels is deprecated and will be removed in a future version. (1 levels on the left, 2 on the right)\n",
      "  summary_stats= summary_stats.join(ci)\n",
      "gzip: /wynton/home/ahituv/fongsl/nullomers/data/phylop/shuf-mutations-uniq-woRMSK.GENCODE-exon_no-overlap-ref.only-189-phylop.txt.gz already has .gz suffix -- unchanged\n"
     ]
    },
    {
     "name": "stdout",
     "output_type": "stream",
     "text": [
      "(13577, 1005) (2056, 1005)\n"
     ]
    },
    {
     "name": "stderr",
     "output_type": "stream",
     "text": [
      "/scratch/fongsl/ipykernel_12815/2031676860.py:95: FutureWarning: merging between different levels is deprecated and will be removed in a future version. (1 levels on the left, 2 on the right)\n",
      "  summary_stats= summary_stats.join(ci)\n",
      "gzip: /wynton/home/ahituv/fongsl/nullomers/data/phylop/shuf-mutations-uniq-woRMSK.GENCODE-exon_no-overlap-ref.only-184-phylop.txt.gz already has .gz suffix -- unchanged\n"
     ]
    },
    {
     "name": "stdout",
     "output_type": "stream",
     "text": [
      "(13580, 1005) (2052, 1005)\n"
     ]
    },
    {
     "name": "stderr",
     "output_type": "stream",
     "text": [
      "/scratch/fongsl/ipykernel_12815/2031676860.py:95: FutureWarning: merging between different levels is deprecated and will be removed in a future version. (1 levels on the left, 2 on the right)\n",
      "  summary_stats= summary_stats.join(ci)\n",
      "gzip: /wynton/home/ahituv/fongsl/nullomers/data/phylop/shuf-mutations-uniq-woRMSK.GENCODE-exon_no-overlap-ref.only-183-phylop.txt.gz already has .gz suffix -- unchanged\n"
     ]
    },
    {
     "name": "stdout",
     "output_type": "stream",
     "text": [
      "(13526, 1005) (2034, 1005)\n"
     ]
    },
    {
     "name": "stderr",
     "output_type": "stream",
     "text": [
      "/scratch/fongsl/ipykernel_12815/2031676860.py:95: FutureWarning: merging between different levels is deprecated and will be removed in a future version. (1 levels on the left, 2 on the right)\n",
      "  summary_stats= summary_stats.join(ci)\n",
      "gzip: /wynton/home/ahituv/fongsl/nullomers/data/phylop/shuf-mutations-uniq-woRMSK.GENCODE-exon_no-overlap-ref.only-194-phylop.txt.gz already has .gz suffix -- unchanged\n"
     ]
    },
    {
     "name": "stdout",
     "output_type": "stream",
     "text": [
      "(13578, 1005) (2078, 1005)\n"
     ]
    },
    {
     "name": "stderr",
     "output_type": "stream",
     "text": [
      "/scratch/fongsl/ipykernel_12815/2031676860.py:95: FutureWarning: merging between different levels is deprecated and will be removed in a future version. (1 levels on the left, 2 on the right)\n",
      "  summary_stats= summary_stats.join(ci)\n",
      "gzip: /wynton/home/ahituv/fongsl/nullomers/data/phylop/shuf-mutations-uniq-woRMSK.GENCODE-exon_no-overlap-ref.only-190-phylop.txt.gz already has .gz suffix -- unchanged\n"
     ]
    },
    {
     "name": "stdout",
     "output_type": "stream",
     "text": [
      "(13567, 1005) (2096, 1005)\n"
     ]
    },
    {
     "name": "stderr",
     "output_type": "stream",
     "text": [
      "/scratch/fongsl/ipykernel_12815/2031676860.py:95: FutureWarning: merging between different levels is deprecated and will be removed in a future version. (1 levels on the left, 2 on the right)\n",
      "  summary_stats= summary_stats.join(ci)\n",
      "gzip: /wynton/home/ahituv/fongsl/nullomers/data/phylop/shuf-mutations-uniq-woRMSK.GENCODE-exon_no-overlap-ref.only-193-phylop.txt.gz already has .gz suffix -- unchanged\n"
     ]
    },
    {
     "name": "stdout",
     "output_type": "stream",
     "text": [
      "(13558, 1005) (2011, 1005)\n"
     ]
    },
    {
     "name": "stderr",
     "output_type": "stream",
     "text": [
      "/scratch/fongsl/ipykernel_12815/2031676860.py:95: FutureWarning: merging between different levels is deprecated and will be removed in a future version. (1 levels on the left, 2 on the right)\n",
      "  summary_stats= summary_stats.join(ci)\n",
      "gzip: /wynton/home/ahituv/fongsl/nullomers/data/phylop/shuf-mutations-uniq-woRMSK.GENCODE-exon_no-overlap-ref.only-169-phylop.txt.gz already has .gz suffix -- unchanged\n"
     ]
    },
    {
     "name": "stdout",
     "output_type": "stream",
     "text": [
      "(13594, 1005) (2042, 1005)\n"
     ]
    },
    {
     "name": "stderr",
     "output_type": "stream",
     "text": [
      "/scratch/fongsl/ipykernel_12815/2031676860.py:95: FutureWarning: merging between different levels is deprecated and will be removed in a future version. (1 levels on the left, 2 on the right)\n",
      "  summary_stats= summary_stats.join(ci)\n",
      "gzip: /wynton/home/ahituv/fongsl/nullomers/data/phylop/shuf-mutations-uniq-woRMSK.GENCODE-exon_no-overlap-ref.only-210-phylop.txt.gz already has .gz suffix -- unchanged\n"
     ]
    },
    {
     "name": "stdout",
     "output_type": "stream",
     "text": [
      "(13575, 1005) (1999, 1005)\n"
     ]
    },
    {
     "name": "stderr",
     "output_type": "stream",
     "text": [
      "/scratch/fongsl/ipykernel_12815/2031676860.py:95: FutureWarning: merging between different levels is deprecated and will be removed in a future version. (1 levels on the left, 2 on the right)\n",
      "  summary_stats= summary_stats.join(ci)\n",
      "gzip: /wynton/home/ahituv/fongsl/nullomers/data/phylop/shuf-mutations-uniq-woRMSK.GENCODE-exon_no-overlap-ref.only-208-phylop.txt.gz already has .gz suffix -- unchanged\n"
     ]
    },
    {
     "name": "stdout",
     "output_type": "stream",
     "text": [
      "(13553, 1005) (2006, 1005)\n"
     ]
    },
    {
     "name": "stderr",
     "output_type": "stream",
     "text": [
      "/scratch/fongsl/ipykernel_12815/2031676860.py:95: FutureWarning: merging between different levels is deprecated and will be removed in a future version. (1 levels on the left, 2 on the right)\n",
      "  summary_stats= summary_stats.join(ci)\n",
      "gzip: /wynton/home/ahituv/fongsl/nullomers/data/phylop/shuf-mutations-uniq-woRMSK.GENCODE-exon_no-overlap-ref.only-206-phylop.txt.gz already has .gz suffix -- unchanged\n"
     ]
    },
    {
     "name": "stdout",
     "output_type": "stream",
     "text": [
      "(13569, 1005) (2010, 1005)\n"
     ]
    },
    {
     "name": "stderr",
     "output_type": "stream",
     "text": [
      "/scratch/fongsl/ipykernel_12815/2031676860.py:95: FutureWarning: merging between different levels is deprecated and will be removed in a future version. (1 levels on the left, 2 on the right)\n",
      "  summary_stats= summary_stats.join(ci)\n",
      "gzip: /wynton/home/ahituv/fongsl/nullomers/data/phylop/shuf-mutations-uniq-woRMSK.GENCODE-exon_no-overlap-ref.only-203-phylop.txt.gz already has .gz suffix -- unchanged\n"
     ]
    },
    {
     "name": "stdout",
     "output_type": "stream",
     "text": [
      "(13582, 1005) (1979, 1005)\n"
     ]
    },
    {
     "name": "stderr",
     "output_type": "stream",
     "text": [
      "/scratch/fongsl/ipykernel_12815/2031676860.py:95: FutureWarning: merging between different levels is deprecated and will be removed in a future version. (1 levels on the left, 2 on the right)\n",
      "  summary_stats= summary_stats.join(ci)\n",
      "gzip: /wynton/home/ahituv/fongsl/nullomers/data/phylop/shuf-mutations-uniq-woRMSK.GENCODE-exon_no-overlap-ref.only-196-phylop.txt.gz already has .gz suffix -- unchanged\n"
     ]
    },
    {
     "name": "stdout",
     "output_type": "stream",
     "text": [
      "(13575, 1005) (2013, 1005)\n"
     ]
    },
    {
     "name": "stderr",
     "output_type": "stream",
     "text": [
      "/scratch/fongsl/ipykernel_12815/2031676860.py:95: FutureWarning: merging between different levels is deprecated and will be removed in a future version. (1 levels on the left, 2 on the right)\n",
      "  summary_stats= summary_stats.join(ci)\n",
      "gzip: /wynton/home/ahituv/fongsl/nullomers/data/phylop/shuf-mutations-uniq-woRMSK.GENCODE-exon_no-overlap-ref.only-202-phylop.txt.gz already has .gz suffix -- unchanged\n"
     ]
    },
    {
     "name": "stdout",
     "output_type": "stream",
     "text": [
      "(13582, 1005) (1983, 1005)\n"
     ]
    },
    {
     "name": "stderr",
     "output_type": "stream",
     "text": [
      "/scratch/fongsl/ipykernel_12815/2031676860.py:95: FutureWarning: merging between different levels is deprecated and will be removed in a future version. (1 levels on the left, 2 on the right)\n",
      "  summary_stats= summary_stats.join(ci)\n",
      "gzip: /wynton/home/ahituv/fongsl/nullomers/data/phylop/shuf-mutations-uniq-woRMSK.GENCODE-exon_no-overlap-ref.only-214-phylop.txt.gz already has .gz suffix -- unchanged\n"
     ]
    },
    {
     "name": "stdout",
     "output_type": "stream",
     "text": [
      "(13551, 1005) (2039, 1005)\n"
     ]
    },
    {
     "name": "stderr",
     "output_type": "stream",
     "text": [
      "/scratch/fongsl/ipykernel_12815/2031676860.py:95: FutureWarning: merging between different levels is deprecated and will be removed in a future version. (1 levels on the left, 2 on the right)\n",
      "  summary_stats= summary_stats.join(ci)\n",
      "gzip: /wynton/home/ahituv/fongsl/nullomers/data/phylop/shuf-mutations-uniq-woRMSK.GENCODE-exon_no-overlap-ref.only-195-phylop.txt.gz already has .gz suffix -- unchanged\n"
     ]
    },
    {
     "name": "stdout",
     "output_type": "stream",
     "text": [
      "(13570, 1005) (2024, 1005)\n"
     ]
    },
    {
     "name": "stderr",
     "output_type": "stream",
     "text": [
      "/scratch/fongsl/ipykernel_12815/2031676860.py:95: FutureWarning: merging between different levels is deprecated and will be removed in a future version. (1 levels on the left, 2 on the right)\n",
      "  summary_stats= summary_stats.join(ci)\n",
      "gzip: /wynton/home/ahituv/fongsl/nullomers/data/phylop/shuf-mutations-uniq-woRMSK.GENCODE-exon_no-overlap-ref.only-200-phylop.txt.gz already has .gz suffix -- unchanged\n"
     ]
    },
    {
     "name": "stdout",
     "output_type": "stream",
     "text": [
      "(13578, 1005) (1991, 1005)\n"
     ]
    },
    {
     "name": "stderr",
     "output_type": "stream",
     "text": [
      "/scratch/fongsl/ipykernel_12815/2031676860.py:95: FutureWarning: merging between different levels is deprecated and will be removed in a future version. (1 levels on the left, 2 on the right)\n",
      "  summary_stats= summary_stats.join(ci)\n",
      "gzip: /wynton/home/ahituv/fongsl/nullomers/data/phylop/shuf-mutations-uniq-woRMSK.GENCODE-exon_no-overlap-ref.only-198-phylop.txt.gz already has .gz suffix -- unchanged\n"
     ]
    },
    {
     "name": "stdout",
     "output_type": "stream",
     "text": [
      "(13536, 1005) (1985, 1005)\n"
     ]
    },
    {
     "name": "stderr",
     "output_type": "stream",
     "text": [
      "/scratch/fongsl/ipykernel_12815/2031676860.py:95: FutureWarning: merging between different levels is deprecated and will be removed in a future version. (1 levels on the left, 2 on the right)\n",
      "  summary_stats= summary_stats.join(ci)\n",
      "gzip: /wynton/home/ahituv/fongsl/nullomers/data/phylop/shuf-mutations-uniq-woRMSK.GENCODE-exon_no-overlap-ref.only-199-phylop.txt.gz already has .gz suffix -- unchanged\n"
     ]
    },
    {
     "name": "stdout",
     "output_type": "stream",
     "text": [
      "(13544, 1005) (2002, 1005)\n"
     ]
    },
    {
     "name": "stderr",
     "output_type": "stream",
     "text": [
      "/scratch/fongsl/ipykernel_12815/2031676860.py:95: FutureWarning: merging between different levels is deprecated and will be removed in a future version. (1 levels on the left, 2 on the right)\n",
      "  summary_stats= summary_stats.join(ci)\n",
      "gzip: /wynton/home/ahituv/fongsl/nullomers/data/phylop/shuf-mutations-uniq-woRMSK.GENCODE-exon_no-overlap-ref.only-213-phylop.txt.gz already has .gz suffix -- unchanged\n"
     ]
    },
    {
     "name": "stdout",
     "output_type": "stream",
     "text": [
      "(13553, 1005) (2011, 1005)\n"
     ]
    },
    {
     "name": "stderr",
     "output_type": "stream",
     "text": [
      "/scratch/fongsl/ipykernel_12815/2031676860.py:95: FutureWarning: merging between different levels is deprecated and will be removed in a future version. (1 levels on the left, 2 on the right)\n",
      "  summary_stats= summary_stats.join(ci)\n",
      "gzip: /wynton/home/ahituv/fongsl/nullomers/data/phylop/shuf-mutations-uniq-woRMSK.GENCODE-exon_no-overlap-ref.only-197-phylop.txt.gz already has .gz suffix -- unchanged\n"
     ]
    },
    {
     "name": "stdout",
     "output_type": "stream",
     "text": [
      "(13595, 1005) (1962, 1005)\n"
     ]
    },
    {
     "name": "stderr",
     "output_type": "stream",
     "text": [
      "/scratch/fongsl/ipykernel_12815/2031676860.py:95: FutureWarning: merging between different levels is deprecated and will be removed in a future version. (1 levels on the left, 2 on the right)\n",
      "  summary_stats= summary_stats.join(ci)\n",
      "gzip: /wynton/home/ahituv/fongsl/nullomers/data/phylop/shuf-mutations-uniq-woRMSK.GENCODE-exon_no-overlap-ref.only-207-phylop.txt.gz already has .gz suffix -- unchanged\n"
     ]
    },
    {
     "name": "stdout",
     "output_type": "stream",
     "text": [
      "(13584, 1005) (2029, 1005)\n"
     ]
    },
    {
     "name": "stderr",
     "output_type": "stream",
     "text": [
      "/scratch/fongsl/ipykernel_12815/2031676860.py:95: FutureWarning: merging between different levels is deprecated and will be removed in a future version. (1 levels on the left, 2 on the right)\n",
      "  summary_stats= summary_stats.join(ci)\n",
      "gzip: /wynton/home/ahituv/fongsl/nullomers/data/phylop/shuf-mutations-uniq-woRMSK.GENCODE-exon_no-overlap-ref.only-170-phylop.txt.gz already has .gz suffix -- unchanged\n"
     ]
    },
    {
     "name": "stdout",
     "output_type": "stream",
     "text": [
      "(13564, 1005) (2041, 1005)\n"
     ]
    },
    {
     "name": "stderr",
     "output_type": "stream",
     "text": [
      "/scratch/fongsl/ipykernel_12815/2031676860.py:95: FutureWarning: merging between different levels is deprecated and will be removed in a future version. (1 levels on the left, 2 on the right)\n",
      "  summary_stats= summary_stats.join(ci)\n",
      "gzip: /wynton/home/ahituv/fongsl/nullomers/data/phylop/shuf-mutations-uniq-woRMSK.GENCODE-exon_no-overlap-ref.only-216-phylop.txt.gz already has .gz suffix -- unchanged\n"
     ]
    },
    {
     "name": "stdout",
     "output_type": "stream",
     "text": [
      "(13558, 1005) (2074, 1005)\n"
     ]
    },
    {
     "name": "stderr",
     "output_type": "stream",
     "text": [
      "/scratch/fongsl/ipykernel_12815/2031676860.py:95: FutureWarning: merging between different levels is deprecated and will be removed in a future version. (1 levels on the left, 2 on the right)\n",
      "  summary_stats= summary_stats.join(ci)\n",
      "gzip: /wynton/home/ahituv/fongsl/nullomers/data/phylop/shuf-mutations-uniq-woRMSK.GENCODE-exon_no-overlap-ref.only-201-phylop.txt.gz already has .gz suffix -- unchanged\n"
     ]
    },
    {
     "name": "stdout",
     "output_type": "stream",
     "text": [
      "(13577, 1005) (2031, 1005)\n"
     ]
    },
    {
     "name": "stderr",
     "output_type": "stream",
     "text": [
      "/scratch/fongsl/ipykernel_12815/2031676860.py:95: FutureWarning: merging between different levels is deprecated and will be removed in a future version. (1 levels on the left, 2 on the right)\n",
      "  summary_stats= summary_stats.join(ci)\n",
      "gzip: /wynton/home/ahituv/fongsl/nullomers/data/phylop/shuf-mutations-uniq-woRMSK.GENCODE-exon_no-overlap-ref.only-211-phylop.txt.gz already has .gz suffix -- unchanged\n"
     ]
    },
    {
     "name": "stdout",
     "output_type": "stream",
     "text": [
      "(13588, 1005) (1971, 1005)\n"
     ]
    },
    {
     "name": "stderr",
     "output_type": "stream",
     "text": [
      "/scratch/fongsl/ipykernel_12815/2031676860.py:95: FutureWarning: merging between different levels is deprecated and will be removed in a future version. (1 levels on the left, 2 on the right)\n",
      "  summary_stats= summary_stats.join(ci)\n",
      "gzip: /wynton/home/ahituv/fongsl/nullomers/data/phylop/shuf-mutations-uniq-woRMSK.GENCODE-exon_no-overlap-ref.only-212-phylop.txt.gz already has .gz suffix -- unchanged\n"
     ]
    },
    {
     "name": "stdout",
     "output_type": "stream",
     "text": [
      "(13588, 1005) (2059, 1005)\n"
     ]
    },
    {
     "name": "stderr",
     "output_type": "stream",
     "text": [
      "/scratch/fongsl/ipykernel_12815/2031676860.py:95: FutureWarning: merging between different levels is deprecated and will be removed in a future version. (1 levels on the left, 2 on the right)\n",
      "  summary_stats= summary_stats.join(ci)\n",
      "gzip: /wynton/home/ahituv/fongsl/nullomers/data/phylop/shuf-mutations-uniq-woRMSK.GENCODE-exon_no-overlap-ref.only-204-phylop.txt.gz already has .gz suffix -- unchanged\n"
     ]
    },
    {
     "name": "stdout",
     "output_type": "stream",
     "text": [
      "(13563, 1005) (2063, 1005)\n"
     ]
    },
    {
     "name": "stderr",
     "output_type": "stream",
     "text": [
      "/scratch/fongsl/ipykernel_12815/2031676860.py:95: FutureWarning: merging between different levels is deprecated and will be removed in a future version. (1 levels on the left, 2 on the right)\n",
      "  summary_stats= summary_stats.join(ci)\n",
      "gzip: /wynton/home/ahituv/fongsl/nullomers/data/phylop/shuf-mutations-uniq-woRMSK.GENCODE-exon_no-overlap-ref.only-218-phylop.txt.gz already has .gz suffix -- unchanged\n"
     ]
    },
    {
     "name": "stdout",
     "output_type": "stream",
     "text": [
      "(13579, 1005) (2075, 1005)\n"
     ]
    },
    {
     "name": "stderr",
     "output_type": "stream",
     "text": [
      "/scratch/fongsl/ipykernel_12815/2031676860.py:95: FutureWarning: merging between different levels is deprecated and will be removed in a future version. (1 levels on the left, 2 on the right)\n",
      "  summary_stats= summary_stats.join(ci)\n",
      "gzip: /wynton/home/ahituv/fongsl/nullomers/data/phylop/shuf-mutations-uniq-woRMSK.GENCODE-exon_no-overlap-ref.only-220-phylop.txt.gz already has .gz suffix -- unchanged\n"
     ]
    },
    {
     "name": "stdout",
     "output_type": "stream",
     "text": [
      "(13549, 1005) (2034, 1005)\n"
     ]
    },
    {
     "name": "stderr",
     "output_type": "stream",
     "text": [
      "/scratch/fongsl/ipykernel_12815/2031676860.py:95: FutureWarning: merging between different levels is deprecated and will be removed in a future version. (1 levels on the left, 2 on the right)\n",
      "  summary_stats= summary_stats.join(ci)\n",
      "gzip: /wynton/home/ahituv/fongsl/nullomers/data/phylop/shuf-mutations-uniq-woRMSK.GENCODE-exon_no-overlap-ref.only-223-phylop.txt.gz already has .gz suffix -- unchanged\n"
     ]
    },
    {
     "name": "stdout",
     "output_type": "stream",
     "text": [
      "(13537, 1005) (2025, 1005)\n"
     ]
    },
    {
     "name": "stderr",
     "output_type": "stream",
     "text": [
      "/scratch/fongsl/ipykernel_12815/2031676860.py:95: FutureWarning: merging between different levels is deprecated and will be removed in a future version. (1 levels on the left, 2 on the right)\n",
      "  summary_stats= summary_stats.join(ci)\n",
      "gzip: /wynton/home/ahituv/fongsl/nullomers/data/phylop/shuf-mutations-uniq-woRMSK.GENCODE-exon_no-overlap-ref.only-209-phylop.txt.gz already has .gz suffix -- unchanged\n"
     ]
    },
    {
     "name": "stdout",
     "output_type": "stream",
     "text": [
      "(13585, 1005) (2093, 1005)\n"
     ]
    },
    {
     "name": "stderr",
     "output_type": "stream",
     "text": [
      "/scratch/fongsl/ipykernel_12815/2031676860.py:95: FutureWarning: merging between different levels is deprecated and will be removed in a future version. (1 levels on the left, 2 on the right)\n",
      "  summary_stats= summary_stats.join(ci)\n",
      "gzip: /wynton/home/ahituv/fongsl/nullomers/data/phylop/shuf-mutations-uniq-woRMSK.GENCODE-exon_no-overlap-ref.only-221-phylop.txt.gz already has .gz suffix -- unchanged\n"
     ]
    },
    {
     "name": "stdout",
     "output_type": "stream",
     "text": [
      "(13564, 1005) (2012, 1005)\n"
     ]
    },
    {
     "name": "stderr",
     "output_type": "stream",
     "text": [
      "/scratch/fongsl/ipykernel_12815/2031676860.py:95: FutureWarning: merging between different levels is deprecated and will be removed in a future version. (1 levels on the left, 2 on the right)\n",
      "  summary_stats= summary_stats.join(ci)\n",
      "gzip: /wynton/home/ahituv/fongsl/nullomers/data/phylop/shuf-mutations-uniq-woRMSK.GENCODE-exon_no-overlap-ref.only-217-phylop.txt.gz already has .gz suffix -- unchanged\n"
     ]
    },
    {
     "name": "stdout",
     "output_type": "stream",
     "text": [
      "(13531, 1005) (1992, 1005)\n"
     ]
    },
    {
     "name": "stderr",
     "output_type": "stream",
     "text": [
      "/scratch/fongsl/ipykernel_12815/2031676860.py:95: FutureWarning: merging between different levels is deprecated and will be removed in a future version. (1 levels on the left, 2 on the right)\n",
      "  summary_stats= summary_stats.join(ci)\n",
      "gzip: /wynton/home/ahituv/fongsl/nullomers/data/phylop/shuf-mutations-uniq-woRMSK.GENCODE-exon_no-overlap-ref.only-222-phylop.txt.gz already has .gz suffix -- unchanged\n"
     ]
    },
    {
     "name": "stdout",
     "output_type": "stream",
     "text": [
      "(13563, 1005) (2033, 1005)\n"
     ]
    },
    {
     "name": "stderr",
     "output_type": "stream",
     "text": [
      "/scratch/fongsl/ipykernel_12815/2031676860.py:95: FutureWarning: merging between different levels is deprecated and will be removed in a future version. (1 levels on the left, 2 on the right)\n",
      "  summary_stats= summary_stats.join(ci)\n",
      "gzip: /wynton/home/ahituv/fongsl/nullomers/data/phylop/shuf-mutations-uniq-woRMSK.GENCODE-exon_no-overlap-ref.only-228-phylop.txt.gz already has .gz suffix -- unchanged\n"
     ]
    },
    {
     "name": "stdout",
     "output_type": "stream",
     "text": [
      "(13586, 1005) (2023, 1005)\n"
     ]
    },
    {
     "name": "stderr",
     "output_type": "stream",
     "text": [
      "/scratch/fongsl/ipykernel_12815/2031676860.py:95: FutureWarning: merging between different levels is deprecated and will be removed in a future version. (1 levels on the left, 2 on the right)\n",
      "  summary_stats= summary_stats.join(ci)\n",
      "gzip: /wynton/home/ahituv/fongsl/nullomers/data/phylop/shuf-mutations-uniq-woRMSK.GENCODE-exon_no-overlap-ref.only-205-phylop.txt.gz already has .gz suffix -- unchanged\n"
     ]
    },
    {
     "name": "stdout",
     "output_type": "stream",
     "text": [
      "(13544, 1005) (2045, 1005)\n"
     ]
    },
    {
     "name": "stderr",
     "output_type": "stream",
     "text": [
      "/scratch/fongsl/ipykernel_12815/2031676860.py:95: FutureWarning: merging between different levels is deprecated and will be removed in a future version. (1 levels on the left, 2 on the right)\n",
      "  summary_stats= summary_stats.join(ci)\n",
      "gzip: /wynton/home/ahituv/fongsl/nullomers/data/phylop/shuf-mutations-uniq-woRMSK.GENCODE-exon_no-overlap-ref.only-227-phylop.txt.gz already has .gz suffix -- unchanged\n"
     ]
    },
    {
     "name": "stdout",
     "output_type": "stream",
     "text": [
      "(13605, 1005) (2045, 1005)\n"
     ]
    },
    {
     "name": "stderr",
     "output_type": "stream",
     "text": [
      "/scratch/fongsl/ipykernel_12815/2031676860.py:95: FutureWarning: merging between different levels is deprecated and will be removed in a future version. (1 levels on the left, 2 on the right)\n",
      "  summary_stats= summary_stats.join(ci)\n",
      "gzip: /wynton/home/ahituv/fongsl/nullomers/data/phylop/shuf-mutations-uniq-woRMSK.GENCODE-exon_no-overlap-ref.only-219-phylop.txt.gz already has .gz suffix -- unchanged\n"
     ]
    },
    {
     "name": "stdout",
     "output_type": "stream",
     "text": [
      "(13551, 1005) (2061, 1005)\n"
     ]
    },
    {
     "name": "stderr",
     "output_type": "stream",
     "text": [
      "/scratch/fongsl/ipykernel_12815/2031676860.py:95: FutureWarning: merging between different levels is deprecated and will be removed in a future version. (1 levels on the left, 2 on the right)\n",
      "  summary_stats= summary_stats.join(ci)\n",
      "gzip: /wynton/home/ahituv/fongsl/nullomers/data/phylop/shuf-mutations-uniq-woRMSK.GENCODE-exon_no-overlap-ref.only-234-phylop.txt.gz already has .gz suffix -- unchanged\n"
     ]
    },
    {
     "name": "stdout",
     "output_type": "stream",
     "text": [
      "(13556, 1005) (2029, 1005)\n"
     ]
    },
    {
     "name": "stderr",
     "output_type": "stream",
     "text": [
      "/scratch/fongsl/ipykernel_12815/2031676860.py:95: FutureWarning: merging between different levels is deprecated and will be removed in a future version. (1 levels on the left, 2 on the right)\n",
      "  summary_stats= summary_stats.join(ci)\n",
      "gzip: /wynton/home/ahituv/fongsl/nullomers/data/phylop/shuf-mutations-uniq-woRMSK.GENCODE-exon_no-overlap-ref.only-226-phylop.txt.gz already has .gz suffix -- unchanged\n"
     ]
    },
    {
     "name": "stdout",
     "output_type": "stream",
     "text": [
      "(13560, 1005) (2059, 1005)\n"
     ]
    },
    {
     "name": "stderr",
     "output_type": "stream",
     "text": [
      "/scratch/fongsl/ipykernel_12815/2031676860.py:95: FutureWarning: merging between different levels is deprecated and will be removed in a future version. (1 levels on the left, 2 on the right)\n",
      "  summary_stats= summary_stats.join(ci)\n",
      "gzip: /wynton/home/ahituv/fongsl/nullomers/data/phylop/shuf-mutations-uniq-woRMSK.GENCODE-exon_no-overlap-ref.only-225-phylop.txt.gz already has .gz suffix -- unchanged\n"
     ]
    },
    {
     "name": "stdout",
     "output_type": "stream",
     "text": [
      "(13555, 1005) (1953, 1005)\n"
     ]
    },
    {
     "name": "stderr",
     "output_type": "stream",
     "text": [
      "/scratch/fongsl/ipykernel_12815/2031676860.py:95: FutureWarning: merging between different levels is deprecated and will be removed in a future version. (1 levels on the left, 2 on the right)\n",
      "  summary_stats= summary_stats.join(ci)\n",
      "gzip: /wynton/home/ahituv/fongsl/nullomers/data/phylop/shuf-mutations-uniq-woRMSK.GENCODE-exon_no-overlap-ref.only-231-phylop.txt.gz already has .gz suffix -- unchanged\n"
     ]
    },
    {
     "name": "stdout",
     "output_type": "stream",
     "text": [
      "(13592, 1005) (2034, 1005)\n"
     ]
    },
    {
     "name": "stderr",
     "output_type": "stream",
     "text": [
      "/scratch/fongsl/ipykernel_12815/2031676860.py:95: FutureWarning: merging between different levels is deprecated and will be removed in a future version. (1 levels on the left, 2 on the right)\n",
      "  summary_stats= summary_stats.join(ci)\n",
      "gzip: /wynton/home/ahituv/fongsl/nullomers/data/phylop/shuf-mutations-uniq-woRMSK.GENCODE-exon_no-overlap-ref.only-224-phylop.txt.gz already has .gz suffix -- unchanged\n"
     ]
    },
    {
     "name": "stdout",
     "output_type": "stream",
     "text": [
      "(13602, 1005) (2003, 1005)\n"
     ]
    },
    {
     "name": "stderr",
     "output_type": "stream",
     "text": [
      "/scratch/fongsl/ipykernel_12815/2031676860.py:95: FutureWarning: merging between different levels is deprecated and will be removed in a future version. (1 levels on the left, 2 on the right)\n",
      "  summary_stats= summary_stats.join(ci)\n",
      "gzip: /wynton/home/ahituv/fongsl/nullomers/data/phylop/shuf-mutations-uniq-woRMSK.GENCODE-exon_no-overlap-ref.only-229-phylop.txt.gz already has .gz suffix -- unchanged\n"
     ]
    },
    {
     "name": "stdout",
     "output_type": "stream",
     "text": [
      "(13566, 1005) (2034, 1005)\n"
     ]
    },
    {
     "name": "stderr",
     "output_type": "stream",
     "text": [
      "/scratch/fongsl/ipykernel_12815/2031676860.py:95: FutureWarning: merging between different levels is deprecated and will be removed in a future version. (1 levels on the left, 2 on the right)\n",
      "  summary_stats= summary_stats.join(ci)\n",
      "gzip: /wynton/home/ahituv/fongsl/nullomers/data/phylop/shuf-mutations-uniq-woRMSK.GENCODE-exon_no-overlap-ref.only-235-phylop.txt.gz already has .gz suffix -- unchanged\n"
     ]
    },
    {
     "name": "stdout",
     "output_type": "stream",
     "text": [
      "(13542, 1005) (1956, 1005)\n"
     ]
    },
    {
     "name": "stderr",
     "output_type": "stream",
     "text": [
      "/scratch/fongsl/ipykernel_12815/2031676860.py:95: FutureWarning: merging between different levels is deprecated and will be removed in a future version. (1 levels on the left, 2 on the right)\n",
      "  summary_stats= summary_stats.join(ci)\n",
      "gzip: /wynton/home/ahituv/fongsl/nullomers/data/phylop/shuf-mutations-uniq-woRMSK.GENCODE-exon_no-overlap-ref.only-233-phylop.txt.gz already has .gz suffix -- unchanged\n"
     ]
    },
    {
     "name": "stdout",
     "output_type": "stream",
     "text": [
      "(13570, 1005) (2021, 1005)\n"
     ]
    },
    {
     "name": "stderr",
     "output_type": "stream",
     "text": [
      "/scratch/fongsl/ipykernel_12815/2031676860.py:95: FutureWarning: merging between different levels is deprecated and will be removed in a future version. (1 levels on the left, 2 on the right)\n",
      "  summary_stats= summary_stats.join(ci)\n",
      "gzip: /wynton/home/ahituv/fongsl/nullomers/data/phylop/shuf-mutations-uniq-woRMSK.GENCODE-exon_no-overlap-ref.only-232-phylop.txt.gz already has .gz suffix -- unchanged\n"
     ]
    },
    {
     "name": "stdout",
     "output_type": "stream",
     "text": [
      "(13580, 1005) (1996, 1005)\n"
     ]
    },
    {
     "name": "stderr",
     "output_type": "stream",
     "text": [
      "/scratch/fongsl/ipykernel_12815/2031676860.py:95: FutureWarning: merging between different levels is deprecated and will be removed in a future version. (1 levels on the left, 2 on the right)\n",
      "  summary_stats= summary_stats.join(ci)\n",
      "gzip: /wynton/home/ahituv/fongsl/nullomers/data/phylop/shuf-mutations-uniq-woRMSK.GENCODE-exon_no-overlap-ref.only-241-phylop.txt.gz already has .gz suffix -- unchanged\n"
     ]
    },
    {
     "name": "stdout",
     "output_type": "stream",
     "text": [
      "(13572, 1005) (2026, 1005)\n"
     ]
    },
    {
     "name": "stderr",
     "output_type": "stream",
     "text": [
      "/scratch/fongsl/ipykernel_12815/2031676860.py:95: FutureWarning: merging between different levels is deprecated and will be removed in a future version. (1 levels on the left, 2 on the right)\n",
      "  summary_stats= summary_stats.join(ci)\n",
      "gzip: /wynton/home/ahituv/fongsl/nullomers/data/phylop/shuf-mutations-uniq-woRMSK.GENCODE-exon_no-overlap-ref.only-230-phylop.txt.gz already has .gz suffix -- unchanged\n"
     ]
    },
    {
     "name": "stdout",
     "output_type": "stream",
     "text": [
      "(13551, 1005) (1982, 1005)\n"
     ]
    },
    {
     "name": "stderr",
     "output_type": "stream",
     "text": [
      "/scratch/fongsl/ipykernel_12815/2031676860.py:95: FutureWarning: merging between different levels is deprecated and will be removed in a future version. (1 levels on the left, 2 on the right)\n",
      "  summary_stats= summary_stats.join(ci)\n",
      "gzip: /wynton/home/ahituv/fongsl/nullomers/data/phylop/shuf-mutations-uniq-woRMSK.GENCODE-exon_no-overlap-ref.only-242-phylop.txt.gz already has .gz suffix -- unchanged\n"
     ]
    },
    {
     "name": "stdout",
     "output_type": "stream",
     "text": [
      "(13538, 1005) (1936, 1005)\n"
     ]
    },
    {
     "name": "stderr",
     "output_type": "stream",
     "text": [
      "/scratch/fongsl/ipykernel_12815/2031676860.py:95: FutureWarning: merging between different levels is deprecated and will be removed in a future version. (1 levels on the left, 2 on the right)\n",
      "  summary_stats= summary_stats.join(ci)\n",
      "gzip: /wynton/home/ahituv/fongsl/nullomers/data/phylop/shuf-mutations-uniq-woRMSK.GENCODE-exon_no-overlap-ref.only-237-phylop.txt.gz already has .gz suffix -- unchanged\n"
     ]
    },
    {
     "name": "stdout",
     "output_type": "stream",
     "text": [
      "(13575, 1005) (1966, 1005)\n"
     ]
    },
    {
     "name": "stderr",
     "output_type": "stream",
     "text": [
      "/scratch/fongsl/ipykernel_12815/2031676860.py:95: FutureWarning: merging between different levels is deprecated and will be removed in a future version. (1 levels on the left, 2 on the right)\n",
      "  summary_stats= summary_stats.join(ci)\n",
      "gzip: /wynton/home/ahituv/fongsl/nullomers/data/phylop/shuf-mutations-uniq-woRMSK.GENCODE-exon_no-overlap-ref.only-239-phylop.txt.gz already has .gz suffix -- unchanged\n"
     ]
    },
    {
     "name": "stdout",
     "output_type": "stream",
     "text": [
      "(13578, 1005) (1973, 1005)\n"
     ]
    },
    {
     "name": "stderr",
     "output_type": "stream",
     "text": [
      "/scratch/fongsl/ipykernel_12815/2031676860.py:95: FutureWarning: merging between different levels is deprecated and will be removed in a future version. (1 levels on the left, 2 on the right)\n",
      "  summary_stats= summary_stats.join(ci)\n",
      "gzip: /wynton/home/ahituv/fongsl/nullomers/data/phylop/shuf-mutations-uniq-woRMSK.GENCODE-exon_no-overlap-ref.only-171-phylop.txt.gz already has .gz suffix -- unchanged\n"
     ]
    },
    {
     "name": "stdout",
     "output_type": "stream",
     "text": [
      "(13563, 1005) (2145, 1005)\n"
     ]
    },
    {
     "name": "stderr",
     "output_type": "stream",
     "text": [
      "/scratch/fongsl/ipykernel_12815/2031676860.py:95: FutureWarning: merging between different levels is deprecated and will be removed in a future version. (1 levels on the left, 2 on the right)\n",
      "  summary_stats= summary_stats.join(ci)\n",
      "gzip: /wynton/home/ahituv/fongsl/nullomers/data/phylop/shuf-mutations-uniq-woRMSK.GENCODE-exon_no-overlap-ref.only-244-phylop.txt.gz already has .gz suffix -- unchanged\n"
     ]
    },
    {
     "name": "stdout",
     "output_type": "stream",
     "text": [
      "(13560, 1005) (1988, 1005)\n"
     ]
    },
    {
     "name": "stderr",
     "output_type": "stream",
     "text": [
      "/scratch/fongsl/ipykernel_12815/2031676860.py:95: FutureWarning: merging between different levels is deprecated and will be removed in a future version. (1 levels on the left, 2 on the right)\n",
      "  summary_stats= summary_stats.join(ci)\n",
      "gzip: /wynton/home/ahituv/fongsl/nullomers/data/phylop/shuf-mutations-uniq-woRMSK.GENCODE-exon_no-overlap-ref.only-238-phylop.txt.gz already has .gz suffix -- unchanged\n"
     ]
    },
    {
     "name": "stdout",
     "output_type": "stream",
     "text": [
      "(13548, 1005) (2035, 1005)\n"
     ]
    },
    {
     "name": "stderr",
     "output_type": "stream",
     "text": [
      "/scratch/fongsl/ipykernel_12815/2031676860.py:95: FutureWarning: merging between different levels is deprecated and will be removed in a future version. (1 levels on the left, 2 on the right)\n",
      "  summary_stats= summary_stats.join(ci)\n",
      "gzip: /wynton/home/ahituv/fongsl/nullomers/data/phylop/shuf-mutations-uniq-woRMSK.GENCODE-exon_no-overlap-ref.only-236-phylop.txt.gz already has .gz suffix -- unchanged\n"
     ]
    },
    {
     "name": "stdout",
     "output_type": "stream",
     "text": [
      "(13577, 1005) (2049, 1005)\n"
     ]
    },
    {
     "name": "stderr",
     "output_type": "stream",
     "text": [
      "/scratch/fongsl/ipykernel_12815/2031676860.py:95: FutureWarning: merging between different levels is deprecated and will be removed in a future version. (1 levels on the left, 2 on the right)\n",
      "  summary_stats= summary_stats.join(ci)\n",
      "gzip: /wynton/home/ahituv/fongsl/nullomers/data/phylop/shuf-mutations-uniq-woRMSK.GENCODE-exon_no-overlap-ref.only-255-phylop.txt.gz already has .gz suffix -- unchanged\n"
     ]
    },
    {
     "name": "stdout",
     "output_type": "stream",
     "text": [
      "(13577, 1005) (2013, 1005)\n"
     ]
    },
    {
     "name": "stderr",
     "output_type": "stream",
     "text": [
      "/scratch/fongsl/ipykernel_12815/2031676860.py:95: FutureWarning: merging between different levels is deprecated and will be removed in a future version. (1 levels on the left, 2 on the right)\n",
      "  summary_stats= summary_stats.join(ci)\n",
      "gzip: /wynton/home/ahituv/fongsl/nullomers/data/phylop/shuf-mutations-uniq-woRMSK.GENCODE-exon_no-overlap-ref.only-249-phylop.txt.gz already has .gz suffix -- unchanged\n"
     ]
    },
    {
     "name": "stdout",
     "output_type": "stream",
     "text": [
      "(13540, 1005) (1996, 1005)\n"
     ]
    },
    {
     "name": "stderr",
     "output_type": "stream",
     "text": [
      "/scratch/fongsl/ipykernel_12815/2031676860.py:95: FutureWarning: merging between different levels is deprecated and will be removed in a future version. (1 levels on the left, 2 on the right)\n",
      "  summary_stats= summary_stats.join(ci)\n",
      "gzip: /wynton/home/ahituv/fongsl/nullomers/data/phylop/shuf-mutations-uniq-woRMSK.GENCODE-exon_no-overlap-ref.only-254-phylop.txt.gz already has .gz suffix -- unchanged\n"
     ]
    },
    {
     "name": "stdout",
     "output_type": "stream",
     "text": [
      "(13567, 1005) (2013, 1005)\n"
     ]
    },
    {
     "name": "stderr",
     "output_type": "stream",
     "text": [
      "/scratch/fongsl/ipykernel_12815/2031676860.py:95: FutureWarning: merging between different levels is deprecated and will be removed in a future version. (1 levels on the left, 2 on the right)\n",
      "  summary_stats= summary_stats.join(ci)\n",
      "gzip: /wynton/home/ahituv/fongsl/nullomers/data/phylop/shuf-mutations-uniq-woRMSK.GENCODE-exon_no-overlap-ref.only-250-phylop.txt.gz already has .gz suffix -- unchanged\n"
     ]
    },
    {
     "name": "stdout",
     "output_type": "stream",
     "text": [
      "(13567, 1005) (2040, 1005)\n"
     ]
    },
    {
     "name": "stderr",
     "output_type": "stream",
     "text": [
      "/scratch/fongsl/ipykernel_12815/2031676860.py:95: FutureWarning: merging between different levels is deprecated and will be removed in a future version. (1 levels on the left, 2 on the right)\n",
      "  summary_stats= summary_stats.join(ci)\n",
      "gzip: /wynton/home/ahituv/fongsl/nullomers/data/phylop/shuf-mutations-uniq-woRMSK.GENCODE-exon_no-overlap-ref.only-245-phylop.txt.gz already has .gz suffix -- unchanged\n"
     ]
    },
    {
     "name": "stdout",
     "output_type": "stream",
     "text": [
      "(13562, 1005) (2072, 1005)\n"
     ]
    },
    {
     "name": "stderr",
     "output_type": "stream",
     "text": [
      "/scratch/fongsl/ipykernel_12815/2031676860.py:95: FutureWarning: merging between different levels is deprecated and will be removed in a future version. (1 levels on the left, 2 on the right)\n",
      "  summary_stats= summary_stats.join(ci)\n",
      "gzip: /wynton/home/ahituv/fongsl/nullomers/data/phylop/shuf-mutations-uniq-woRMSK.GENCODE-exon_no-overlap-ref.only-251-phylop.txt.gz already has .gz suffix -- unchanged\n"
     ]
    },
    {
     "name": "stdout",
     "output_type": "stream",
     "text": [
      "(13546, 1005) (2062, 1005)\n"
     ]
    },
    {
     "name": "stderr",
     "output_type": "stream",
     "text": [
      "/scratch/fongsl/ipykernel_12815/2031676860.py:95: FutureWarning: merging between different levels is deprecated and will be removed in a future version. (1 levels on the left, 2 on the right)\n",
      "  summary_stats= summary_stats.join(ci)\n",
      "gzip: /wynton/home/ahituv/fongsl/nullomers/data/phylop/shuf-mutations-uniq-woRMSK.GENCODE-exon_no-overlap-ref.only-246-phylop.txt.gz already has .gz suffix -- unchanged\n"
     ]
    },
    {
     "name": "stdout",
     "output_type": "stream",
     "text": [
      "(13552, 1005) (2022, 1005)\n"
     ]
    },
    {
     "name": "stderr",
     "output_type": "stream",
     "text": [
      "/scratch/fongsl/ipykernel_12815/2031676860.py:95: FutureWarning: merging between different levels is deprecated and will be removed in a future version. (1 levels on the left, 2 on the right)\n",
      "  summary_stats= summary_stats.join(ci)\n",
      "gzip: /wynton/home/ahituv/fongsl/nullomers/data/phylop/shuf-mutations-uniq-woRMSK.GENCODE-exon_no-overlap-ref.only-247-phylop.txt.gz already has .gz suffix -- unchanged\n"
     ]
    },
    {
     "name": "stdout",
     "output_type": "stream",
     "text": [
      "(13551, 1005) (1997, 1005)\n"
     ]
    },
    {
     "name": "stderr",
     "output_type": "stream",
     "text": [
      "/scratch/fongsl/ipykernel_12815/2031676860.py:95: FutureWarning: merging between different levels is deprecated and will be removed in a future version. (1 levels on the left, 2 on the right)\n",
      "  summary_stats= summary_stats.join(ci)\n",
      "gzip: /wynton/home/ahituv/fongsl/nullomers/data/phylop/shuf-mutations-uniq-woRMSK.GENCODE-exon_no-overlap-ref.only-243-phylop.txt.gz already has .gz suffix -- unchanged\n"
     ]
    },
    {
     "name": "stdout",
     "output_type": "stream",
     "text": [
      "(13564, 1005) (2027, 1005)\n"
     ]
    },
    {
     "name": "stderr",
     "output_type": "stream",
     "text": [
      "/scratch/fongsl/ipykernel_12815/2031676860.py:95: FutureWarning: merging between different levels is deprecated and will be removed in a future version. (1 levels on the left, 2 on the right)\n",
      "  summary_stats= summary_stats.join(ci)\n",
      "gzip: /wynton/home/ahituv/fongsl/nullomers/data/phylop/shuf-mutations-uniq-woRMSK.GENCODE-exon_no-overlap-ref.only-248-phylop.txt.gz already has .gz suffix -- unchanged\n"
     ]
    },
    {
     "name": "stdout",
     "output_type": "stream",
     "text": [
      "(13537, 1005) (2105, 1005)\n"
     ]
    },
    {
     "name": "stderr",
     "output_type": "stream",
     "text": [
      "/scratch/fongsl/ipykernel_12815/2031676860.py:95: FutureWarning: merging between different levels is deprecated and will be removed in a future version. (1 levels on the left, 2 on the right)\n",
      "  summary_stats= summary_stats.join(ci)\n",
      "gzip: /wynton/home/ahituv/fongsl/nullomers/data/phylop/shuf-mutations-uniq-woRMSK.GENCODE-exon_no-overlap-ref.only-261-phylop.txt.gz already has .gz suffix -- unchanged\n"
     ]
    },
    {
     "name": "stdout",
     "output_type": "stream",
     "text": [
      "(13573, 1005) (1994, 1005)\n"
     ]
    },
    {
     "name": "stderr",
     "output_type": "stream",
     "text": [
      "/scratch/fongsl/ipykernel_12815/2031676860.py:95: FutureWarning: merging between different levels is deprecated and will be removed in a future version. (1 levels on the left, 2 on the right)\n",
      "  summary_stats= summary_stats.join(ci)\n",
      "gzip: /wynton/home/ahituv/fongsl/nullomers/data/phylop/shuf-mutations-uniq-woRMSK.GENCODE-exon_no-overlap-ref.only-258-phylop.txt.gz already has .gz suffix -- unchanged\n"
     ]
    },
    {
     "name": "stdout",
     "output_type": "stream",
     "text": [
      "(13545, 1005) (1985, 1005)\n"
     ]
    },
    {
     "name": "stderr",
     "output_type": "stream",
     "text": [
      "/scratch/fongsl/ipykernel_12815/2031676860.py:95: FutureWarning: merging between different levels is deprecated and will be removed in a future version. (1 levels on the left, 2 on the right)\n",
      "  summary_stats= summary_stats.join(ci)\n",
      "gzip: /wynton/home/ahituv/fongsl/nullomers/data/phylop/shuf-mutations-uniq-woRMSK.GENCODE-exon_no-overlap-ref.only-259-phylop.txt.gz already has .gz suffix -- unchanged\n"
     ]
    },
    {
     "name": "stdout",
     "output_type": "stream",
     "text": [
      "(13555, 1005) (1994, 1005)\n"
     ]
    },
    {
     "name": "stderr",
     "output_type": "stream",
     "text": [
      "/scratch/fongsl/ipykernel_12815/2031676860.py:95: FutureWarning: merging between different levels is deprecated and will be removed in a future version. (1 levels on the left, 2 on the right)\n",
      "  summary_stats= summary_stats.join(ci)\n",
      "gzip: /wynton/home/ahituv/fongsl/nullomers/data/phylop/shuf-mutations-uniq-woRMSK.GENCODE-exon_no-overlap-ref.only-257-phylop.txt.gz already has .gz suffix -- unchanged\n"
     ]
    },
    {
     "name": "stdout",
     "output_type": "stream",
     "text": [
      "(13540, 1005) (2001, 1005)\n"
     ]
    },
    {
     "name": "stderr",
     "output_type": "stream",
     "text": [
      "/scratch/fongsl/ipykernel_12815/2031676860.py:95: FutureWarning: merging between different levels is deprecated and will be removed in a future version. (1 levels on the left, 2 on the right)\n",
      "  summary_stats= summary_stats.join(ci)\n",
      "gzip: /wynton/home/ahituv/fongsl/nullomers/data/phylop/shuf-mutations-uniq-woRMSK.GENCODE-exon_no-overlap-ref.only-252-phylop.txt.gz already has .gz suffix -- unchanged\n"
     ]
    },
    {
     "name": "stdout",
     "output_type": "stream",
     "text": [
      "(13561, 1005) (2037, 1005)\n"
     ]
    },
    {
     "name": "stderr",
     "output_type": "stream",
     "text": [
      "/scratch/fongsl/ipykernel_12815/2031676860.py:95: FutureWarning: merging between different levels is deprecated and will be removed in a future version. (1 levels on the left, 2 on the right)\n",
      "  summary_stats= summary_stats.join(ci)\n",
      "gzip: /wynton/home/ahituv/fongsl/nullomers/data/phylop/shuf-mutations-uniq-woRMSK.GENCODE-exon_no-overlap-ref.only-262-phylop.txt.gz already has .gz suffix -- unchanged\n"
     ]
    },
    {
     "name": "stdout",
     "output_type": "stream",
     "text": [
      "(13568, 1005) (2028, 1005)\n"
     ]
    },
    {
     "name": "stderr",
     "output_type": "stream",
     "text": [
      "/scratch/fongsl/ipykernel_12815/2031676860.py:95: FutureWarning: merging between different levels is deprecated and will be removed in a future version. (1 levels on the left, 2 on the right)\n",
      "  summary_stats= summary_stats.join(ci)\n",
      "gzip: /wynton/home/ahituv/fongsl/nullomers/data/phylop/shuf-mutations-uniq-woRMSK.GENCODE-exon_no-overlap-ref.only-260-phylop.txt.gz already has .gz suffix -- unchanged\n"
     ]
    },
    {
     "name": "stdout",
     "output_type": "stream",
     "text": [
      "(13557, 1005) (2050, 1005)\n"
     ]
    },
    {
     "name": "stderr",
     "output_type": "stream",
     "text": [
      "/scratch/fongsl/ipykernel_12815/2031676860.py:95: FutureWarning: merging between different levels is deprecated and will be removed in a future version. (1 levels on the left, 2 on the right)\n",
      "  summary_stats= summary_stats.join(ci)\n",
      "gzip: /wynton/home/ahituv/fongsl/nullomers/data/phylop/shuf-mutations-uniq-woRMSK.GENCODE-exon_no-overlap-ref.only-256-phylop.txt.gz already has .gz suffix -- unchanged\n"
     ]
    },
    {
     "name": "stdout",
     "output_type": "stream",
     "text": [
      "(13590, 1005) (2030, 1005)\n"
     ]
    },
    {
     "name": "stderr",
     "output_type": "stream",
     "text": [
      "/scratch/fongsl/ipykernel_12815/2031676860.py:95: FutureWarning: merging between different levels is deprecated and will be removed in a future version. (1 levels on the left, 2 on the right)\n",
      "  summary_stats= summary_stats.join(ci)\n",
      "gzip: /wynton/home/ahituv/fongsl/nullomers/data/phylop/shuf-mutations-uniq-woRMSK.GENCODE-exon_no-overlap-ref.only-265-phylop.txt.gz already has .gz suffix -- unchanged\n"
     ]
    },
    {
     "name": "stdout",
     "output_type": "stream",
     "text": [
      "(13533, 1005) (1987, 1005)\n"
     ]
    },
    {
     "name": "stderr",
     "output_type": "stream",
     "text": [
      "/scratch/fongsl/ipykernel_12815/2031676860.py:95: FutureWarning: merging between different levels is deprecated and will be removed in a future version. (1 levels on the left, 2 on the right)\n",
      "  summary_stats= summary_stats.join(ci)\n",
      "gzip: /wynton/home/ahituv/fongsl/nullomers/data/phylop/shuf-mutations-uniq-woRMSK.GENCODE-exon_no-overlap-ref.only-264-phylop.txt.gz already has .gz suffix -- unchanged\n"
     ]
    },
    {
     "name": "stdout",
     "output_type": "stream",
     "text": [
      "(13582, 1005) (2028, 1005)\n"
     ]
    },
    {
     "name": "stderr",
     "output_type": "stream",
     "text": [
      "/scratch/fongsl/ipykernel_12815/2031676860.py:95: FutureWarning: merging between different levels is deprecated and will be removed in a future version. (1 levels on the left, 2 on the right)\n",
      "  summary_stats= summary_stats.join(ci)\n",
      "gzip: /wynton/home/ahituv/fongsl/nullomers/data/phylop/shuf-mutations-uniq-woRMSK.GENCODE-exon_no-overlap-ref.only-240-phylop.txt.gz already has .gz suffix -- unchanged\n"
     ]
    },
    {
     "name": "stdout",
     "output_type": "stream",
     "text": [
      "(13546, 1005) (1964, 1005)\n"
     ]
    },
    {
     "name": "stderr",
     "output_type": "stream",
     "text": [
      "/scratch/fongsl/ipykernel_12815/2031676860.py:95: FutureWarning: merging between different levels is deprecated and will be removed in a future version. (1 levels on the left, 2 on the right)\n",
      "  summary_stats= summary_stats.join(ci)\n",
      "gzip: /wynton/home/ahituv/fongsl/nullomers/data/phylop/shuf-mutations-uniq-woRMSK.GENCODE-exon_no-overlap-ref.only-263-phylop.txt.gz already has .gz suffix -- unchanged\n"
     ]
    },
    {
     "name": "stdout",
     "output_type": "stream",
     "text": [
      "(13544, 1005) (1988, 1005)\n"
     ]
    },
    {
     "name": "stderr",
     "output_type": "stream",
     "text": [
      "/scratch/fongsl/ipykernel_12815/2031676860.py:95: FutureWarning: merging between different levels is deprecated and will be removed in a future version. (1 levels on the left, 2 on the right)\n",
      "  summary_stats= summary_stats.join(ci)\n",
      "gzip: /wynton/home/ahituv/fongsl/nullomers/data/phylop/shuf-mutations-uniq-woRMSK.GENCODE-exon_no-overlap-ref.only-266-phylop.txt.gz already has .gz suffix -- unchanged\n"
     ]
    },
    {
     "name": "stdout",
     "output_type": "stream",
     "text": [
      "(13559, 1005) (2019, 1005)\n"
     ]
    },
    {
     "name": "stderr",
     "output_type": "stream",
     "text": [
      "/scratch/fongsl/ipykernel_12815/2031676860.py:95: FutureWarning: merging between different levels is deprecated and will be removed in a future version. (1 levels on the left, 2 on the right)\n",
      "  summary_stats= summary_stats.join(ci)\n",
      "gzip: /wynton/home/ahituv/fongsl/nullomers/data/phylop/shuf-mutations-uniq-woRMSK.GENCODE-exon_no-overlap-ref.only-271-phylop.txt.gz already has .gz suffix -- unchanged\n"
     ]
    },
    {
     "name": "stdout",
     "output_type": "stream",
     "text": [
      "(13604, 1005) (2010, 1005)\n"
     ]
    },
    {
     "name": "stderr",
     "output_type": "stream",
     "text": [
      "/scratch/fongsl/ipykernel_12815/2031676860.py:95: FutureWarning: merging between different levels is deprecated and will be removed in a future version. (1 levels on the left, 2 on the right)\n",
      "  summary_stats= summary_stats.join(ci)\n",
      "gzip: /wynton/home/ahituv/fongsl/nullomers/data/phylop/shuf-mutations-uniq-woRMSK.GENCODE-exon_no-overlap-ref.only-272-phylop.txt.gz already has .gz suffix -- unchanged\n"
     ]
    },
    {
     "name": "stdout",
     "output_type": "stream",
     "text": [
      "(13543, 1005) (1961, 1005)\n"
     ]
    },
    {
     "name": "stderr",
     "output_type": "stream",
     "text": [
      "/scratch/fongsl/ipykernel_12815/2031676860.py:95: FutureWarning: merging between different levels is deprecated and will be removed in a future version. (1 levels on the left, 2 on the right)\n",
      "  summary_stats= summary_stats.join(ci)\n",
      "gzip: /wynton/home/ahituv/fongsl/nullomers/data/phylop/shuf-mutations-uniq-woRMSK.GENCODE-exon_no-overlap-ref.only-267-phylop.txt.gz already has .gz suffix -- unchanged\n"
     ]
    },
    {
     "name": "stdout",
     "output_type": "stream",
     "text": [
      "(13606, 1005) (2115, 1005)\n"
     ]
    },
    {
     "name": "stderr",
     "output_type": "stream",
     "text": [
      "/scratch/fongsl/ipykernel_12815/2031676860.py:95: FutureWarning: merging between different levels is deprecated and will be removed in a future version. (1 levels on the left, 2 on the right)\n",
      "  summary_stats= summary_stats.join(ci)\n",
      "gzip: /wynton/home/ahituv/fongsl/nullomers/data/phylop/shuf-mutations-uniq-woRMSK.GENCODE-exon_no-overlap-ref.only-276-phylop.txt.gz already has .gz suffix -- unchanged\n"
     ]
    },
    {
     "name": "stdout",
     "output_type": "stream",
     "text": [
      "(13568, 1005) (1975, 1005)\n"
     ]
    },
    {
     "name": "stderr",
     "output_type": "stream",
     "text": [
      "/scratch/fongsl/ipykernel_12815/2031676860.py:95: FutureWarning: merging between different levels is deprecated and will be removed in a future version. (1 levels on the left, 2 on the right)\n",
      "  summary_stats= summary_stats.join(ci)\n",
      "gzip: /wynton/home/ahituv/fongsl/nullomers/data/phylop/shuf-mutations-uniq-woRMSK.GENCODE-exon_no-overlap-ref.only-270-phylop.txt.gz already has .gz suffix -- unchanged\n"
     ]
    },
    {
     "name": "stdout",
     "output_type": "stream",
     "text": [
      "(13551, 1005) (1991, 1005)\n"
     ]
    },
    {
     "name": "stderr",
     "output_type": "stream",
     "text": [
      "/scratch/fongsl/ipykernel_12815/2031676860.py:95: FutureWarning: merging between different levels is deprecated and will be removed in a future version. (1 levels on the left, 2 on the right)\n",
      "  summary_stats= summary_stats.join(ci)\n",
      "gzip: /wynton/home/ahituv/fongsl/nullomers/data/phylop/shuf-mutations-uniq-woRMSK.GENCODE-exon_no-overlap-ref.only-275-phylop.txt.gz already has .gz suffix -- unchanged\n"
     ]
    },
    {
     "name": "stdout",
     "output_type": "stream",
     "text": [
      "(13618, 1005) (2076, 1005)\n"
     ]
    },
    {
     "name": "stderr",
     "output_type": "stream",
     "text": [
      "/scratch/fongsl/ipykernel_12815/2031676860.py:95: FutureWarning: merging between different levels is deprecated and will be removed in a future version. (1 levels on the left, 2 on the right)\n",
      "  summary_stats= summary_stats.join(ci)\n",
      "gzip: /wynton/home/ahituv/fongsl/nullomers/data/phylop/shuf-mutations-uniq-woRMSK.GENCODE-exon_no-overlap-ref.only-269-phylop.txt.gz already has .gz suffix -- unchanged\n"
     ]
    },
    {
     "name": "stdout",
     "output_type": "stream",
     "text": [
      "(13550, 1005) (2033, 1005)\n"
     ]
    },
    {
     "name": "stderr",
     "output_type": "stream",
     "text": [
      "/scratch/fongsl/ipykernel_12815/2031676860.py:95: FutureWarning: merging between different levels is deprecated and will be removed in a future version. (1 levels on the left, 2 on the right)\n",
      "  summary_stats= summary_stats.join(ci)\n",
      "gzip: /wynton/home/ahituv/fongsl/nullomers/data/phylop/shuf-mutations-uniq-woRMSK.GENCODE-exon_no-overlap-ref.only-268-phylop.txt.gz already has .gz suffix -- unchanged\n"
     ]
    },
    {
     "name": "stdout",
     "output_type": "stream",
     "text": [
      "(13557, 1005) (2035, 1005)\n"
     ]
    },
    {
     "name": "stderr",
     "output_type": "stream",
     "text": [
      "/scratch/fongsl/ipykernel_12815/2031676860.py:95: FutureWarning: merging between different levels is deprecated and will be removed in a future version. (1 levels on the left, 2 on the right)\n",
      "  summary_stats= summary_stats.join(ci)\n",
      "gzip: /wynton/home/ahituv/fongsl/nullomers/data/phylop/shuf-mutations-uniq-woRMSK.GENCODE-exon_no-overlap-ref.only-283-phylop.txt.gz already has .gz suffix -- unchanged\n"
     ]
    },
    {
     "name": "stdout",
     "output_type": "stream",
     "text": [
      "(13609, 1005) (2031, 1005)\n"
     ]
    },
    {
     "name": "stderr",
     "output_type": "stream",
     "text": [
      "/scratch/fongsl/ipykernel_12815/2031676860.py:95: FutureWarning: merging between different levels is deprecated and will be removed in a future version. (1 levels on the left, 2 on the right)\n",
      "  summary_stats= summary_stats.join(ci)\n",
      "gzip: /wynton/home/ahituv/fongsl/nullomers/data/phylop/shuf-mutations-uniq-woRMSK.GENCODE-exon_no-overlap-ref.only-273-phylop.txt.gz already has .gz suffix -- unchanged\n"
     ]
    },
    {
     "name": "stdout",
     "output_type": "stream",
     "text": [
      "(13549, 1005) (2003, 1005)\n"
     ]
    },
    {
     "name": "stderr",
     "output_type": "stream",
     "text": [
      "/scratch/fongsl/ipykernel_12815/2031676860.py:95: FutureWarning: merging between different levels is deprecated and will be removed in a future version. (1 levels on the left, 2 on the right)\n",
      "  summary_stats= summary_stats.join(ci)\n",
      "gzip: /wynton/home/ahituv/fongsl/nullomers/data/phylop/shuf-mutations-uniq-woRMSK.GENCODE-exon_no-overlap-ref.only-277-phylop.txt.gz already has .gz suffix -- unchanged\n"
     ]
    },
    {
     "name": "stdout",
     "output_type": "stream",
     "text": [
      "(13555, 1005) (1992, 1005)\n"
     ]
    },
    {
     "name": "stderr",
     "output_type": "stream",
     "text": [
      "/scratch/fongsl/ipykernel_12815/2031676860.py:95: FutureWarning: merging between different levels is deprecated and will be removed in a future version. (1 levels on the left, 2 on the right)\n",
      "  summary_stats= summary_stats.join(ci)\n",
      "gzip: /wynton/home/ahituv/fongsl/nullomers/data/phylop/shuf-mutations-uniq-woRMSK.GENCODE-exon_no-overlap-ref.only-280-phylop.txt.gz already has .gz suffix -- unchanged\n"
     ]
    },
    {
     "name": "stdout",
     "output_type": "stream",
     "text": [
      "(13552, 1005) (1972, 1005)\n"
     ]
    },
    {
     "name": "stderr",
     "output_type": "stream",
     "text": [
      "/scratch/fongsl/ipykernel_12815/2031676860.py:95: FutureWarning: merging between different levels is deprecated and will be removed in a future version. (1 levels on the left, 2 on the right)\n",
      "  summary_stats= summary_stats.join(ci)\n",
      "gzip: /wynton/home/ahituv/fongsl/nullomers/data/phylop/shuf-mutations-uniq-woRMSK.GENCODE-exon_no-overlap-ref.only-286-phylop.txt.gz already has .gz suffix -- unchanged\n"
     ]
    },
    {
     "name": "stdout",
     "output_type": "stream",
     "text": [
      "(13571, 1005) (2077, 1005)\n"
     ]
    },
    {
     "name": "stderr",
     "output_type": "stream",
     "text": [
      "/scratch/fongsl/ipykernel_12815/2031676860.py:95: FutureWarning: merging between different levels is deprecated and will be removed in a future version. (1 levels on the left, 2 on the right)\n",
      "  summary_stats= summary_stats.join(ci)\n",
      "gzip: /wynton/home/ahituv/fongsl/nullomers/data/phylop/shuf-mutations-uniq-woRMSK.GENCODE-exon_no-overlap-ref.only-278-phylop.txt.gz already has .gz suffix -- unchanged\n"
     ]
    },
    {
     "name": "stdout",
     "output_type": "stream",
     "text": [
      "(13602, 1005) (1966, 1005)\n"
     ]
    },
    {
     "name": "stderr",
     "output_type": "stream",
     "text": [
      "/scratch/fongsl/ipykernel_12815/2031676860.py:95: FutureWarning: merging between different levels is deprecated and will be removed in a future version. (1 levels on the left, 2 on the right)\n",
      "  summary_stats= summary_stats.join(ci)\n",
      "gzip: /wynton/home/ahituv/fongsl/nullomers/data/phylop/shuf-mutations-uniq-woRMSK.GENCODE-exon_no-overlap-ref.only-282-phylop.txt.gz already has .gz suffix -- unchanged\n"
     ]
    },
    {
     "name": "stdout",
     "output_type": "stream",
     "text": [
      "(13579, 1005) (1999, 1005)\n"
     ]
    },
    {
     "name": "stderr",
     "output_type": "stream",
     "text": [
      "/scratch/fongsl/ipykernel_12815/2031676860.py:95: FutureWarning: merging between different levels is deprecated and will be removed in a future version. (1 levels on the left, 2 on the right)\n",
      "  summary_stats= summary_stats.join(ci)\n",
      "gzip: /wynton/home/ahituv/fongsl/nullomers/data/phylop/shuf-mutations-uniq-woRMSK.GENCODE-exon_no-overlap-ref.only-288-phylop.txt.gz already has .gz suffix -- unchanged\n"
     ]
    },
    {
     "name": "stdout",
     "output_type": "stream",
     "text": [
      "(13567, 1005) (1932, 1005)\n"
     ]
    },
    {
     "name": "stderr",
     "output_type": "stream",
     "text": [
      "/scratch/fongsl/ipykernel_12815/2031676860.py:95: FutureWarning: merging between different levels is deprecated and will be removed in a future version. (1 levels on the left, 2 on the right)\n",
      "  summary_stats= summary_stats.join(ci)\n",
      "gzip: /wynton/home/ahituv/fongsl/nullomers/data/phylop/shuf-mutations-uniq-woRMSK.GENCODE-exon_no-overlap-ref.only-291-phylop.txt.gz already has .gz suffix -- unchanged\n"
     ]
    },
    {
     "name": "stdout",
     "output_type": "stream",
     "text": [
      "(13593, 1005) (1993, 1005)\n"
     ]
    },
    {
     "name": "stderr",
     "output_type": "stream",
     "text": [
      "/scratch/fongsl/ipykernel_12815/2031676860.py:95: FutureWarning: merging between different levels is deprecated and will be removed in a future version. (1 levels on the left, 2 on the right)\n",
      "  summary_stats= summary_stats.join(ci)\n",
      "gzip: /wynton/home/ahituv/fongsl/nullomers/data/phylop/shuf-mutations-uniq-woRMSK.GENCODE-exon_no-overlap-ref.only-274-phylop.txt.gz already has .gz suffix -- unchanged\n"
     ]
    },
    {
     "name": "stdout",
     "output_type": "stream",
     "text": [
      "(13604, 1005) (2040, 1005)\n"
     ]
    },
    {
     "name": "stderr",
     "output_type": "stream",
     "text": [
      "/scratch/fongsl/ipykernel_12815/2031676860.py:95: FutureWarning: merging between different levels is deprecated and will be removed in a future version. (1 levels on the left, 2 on the right)\n",
      "  summary_stats= summary_stats.join(ci)\n",
      "gzip: /wynton/home/ahituv/fongsl/nullomers/data/phylop/shuf-mutations-uniq-woRMSK.GENCODE-exon_no-overlap-ref.only-287-phylop.txt.gz already has .gz suffix -- unchanged\n"
     ]
    },
    {
     "name": "stdout",
     "output_type": "stream",
     "text": [
      "(13560, 1005) (1988, 1005)\n"
     ]
    },
    {
     "name": "stderr",
     "output_type": "stream",
     "text": [
      "/scratch/fongsl/ipykernel_12815/2031676860.py:95: FutureWarning: merging between different levels is deprecated and will be removed in a future version. (1 levels on the left, 2 on the right)\n",
      "  summary_stats= summary_stats.join(ci)\n",
      "gzip: /wynton/home/ahituv/fongsl/nullomers/data/phylop/shuf-mutations-uniq-woRMSK.GENCODE-exon_no-overlap-ref.only-279-phylop.txt.gz already has .gz suffix -- unchanged\n"
     ]
    },
    {
     "ename": "EOFError",
     "evalue": "Compressed file ended before the end-of-stream marker was reached",
     "output_type": "error",
     "traceback": [
      "\u001b[0;31m---------------------------------------------------------------------------\u001b[0m",
      "\u001b[0;31mEOFError\u001b[0m                                  Traceback (most recent call last)",
      "Cell \u001b[0;32mIn [9], line 13\u001b[0m\n\u001b[1;32m     11\u001b[0m value_col \u001b[38;5;241m=\u001b[39m\u001b[38;5;124m\"\u001b[39m\u001b[38;5;124mphylop\u001b[39m\u001b[38;5;124m\"\u001b[39m\n\u001b[1;32m     12\u001b[0m \u001b[38;5;28;01mfor\u001b[39;00m f \u001b[38;5;129;01min\u001b[39;00m file_list:\n\u001b[0;32m---> 13\u001b[0m     out \u001b[38;5;241m=\u001b[39m \u001b[43mgetSummaryStats\u001b[49m\u001b[43m(\u001b[49m\u001b[43mf\u001b[49m\u001b[43m,\u001b[49m\u001b[43m \u001b[49m\u001b[43mvalue_col\u001b[49m\u001b[43m,\u001b[49m\u001b[43m \u001b[49m\u001b[43mmatched\u001b[49m\u001b[43m)\u001b[49m\n",
      "Cell \u001b[0;32mIn [7], line 65\u001b[0m, in \u001b[0;36mgetSummaryStats\u001b[0;34m(file, value_col, matched_df)\u001b[0m\n\u001b[1;32m     61\u001b[0m     zippery\u001b[38;5;241m.\u001b[39munzip_file(zipped)\n\u001b[1;32m     64\u001b[0m \u001b[38;5;66;03m#1 make a pandas dataframe\u001b[39;00m\n\u001b[0;32m---> 65\u001b[0m df \u001b[38;5;241m=\u001b[39m \u001b[43mpd\u001b[49m\u001b[38;5;241;43m.\u001b[39;49m\u001b[43mread_csv\u001b[49m\u001b[43m(\u001b[49m\u001b[43mfile\u001b[49m\u001b[43m,\u001b[49m\u001b[43m \u001b[49m\u001b[43msep\u001b[49m\u001b[43m \u001b[49m\u001b[38;5;241;43m=\u001b[39;49m\u001b[43m \u001b[49m\u001b[38;5;124;43m'\u001b[39;49m\u001b[38;5;130;43;01m\\t\u001b[39;49;00m\u001b[38;5;124;43m'\u001b[39;49m\u001b[43m,\u001b[49m\u001b[43m \u001b[49m\u001b[43mheader\u001b[49m\u001b[43m \u001b[49m\u001b[38;5;241;43m=\u001b[39;49m\u001b[43m \u001b[49m\u001b[38;5;28;43;01mNone\u001b[39;49;00m\u001b[43m,\u001b[49m\u001b[43m \u001b[49m\u001b[43mlow_memory\u001b[49m\u001b[43m \u001b[49m\u001b[38;5;241;43m=\u001b[39;49m\u001b[43m \u001b[49m\u001b[38;5;28;43;01mFalse\u001b[39;49;00m\u001b[43m)\u001b[49m\u001b[38;5;241m.\u001b[39mdrop_duplicates()\u001b[38;5;241m.\u001b[39mdropna() \u001b[38;5;66;03m#1.1\u001b[39;00m\n\u001b[1;32m     67\u001b[0m \u001b[38;5;66;03m#1.2 \u001b[39;00m\n\u001b[1;32m     68\u001b[0m df[\u001b[38;5;124m\"\u001b[39m\u001b[38;5;124mid\u001b[39m\u001b[38;5;124m\"\u001b[39m] \u001b[38;5;241m=\u001b[39m df[\u001b[38;5;241m0\u001b[39m] \u001b[38;5;241m+\u001b[39m \u001b[38;5;124m\"\u001b[39m\u001b[38;5;124m:\u001b[39m\u001b[38;5;124m\"\u001b[39m \u001b[38;5;241m+\u001b[39m df[\u001b[38;5;241m1\u001b[39m]\u001b[38;5;241m.\u001b[39mmap(\u001b[38;5;28mstr\u001b[39m) \u001b[38;5;241m+\u001b[39m \u001b[38;5;124m'\u001b[39m\u001b[38;5;124m-\u001b[39m\u001b[38;5;124m'\u001b[39m \u001b[38;5;241m+\u001b[39mdf[\u001b[38;5;241m2\u001b[39m]\u001b[38;5;241m.\u001b[39mmap(\u001b[38;5;28mstr\u001b[39m)\n",
      "File \u001b[0;32m/scratch/fongsl/conda-stage-qOwu/wynenv/lib/python3.10/site-packages/pandas/util/_decorators.py:211\u001b[0m, in \u001b[0;36mdeprecate_kwarg.<locals>._deprecate_kwarg.<locals>.wrapper\u001b[0;34m(*args, **kwargs)\u001b[0m\n\u001b[1;32m    209\u001b[0m     \u001b[38;5;28;01melse\u001b[39;00m:\n\u001b[1;32m    210\u001b[0m         kwargs[new_arg_name] \u001b[38;5;241m=\u001b[39m new_arg_value\n\u001b[0;32m--> 211\u001b[0m \u001b[38;5;28;01mreturn\u001b[39;00m \u001b[43mfunc\u001b[49m\u001b[43m(\u001b[49m\u001b[38;5;241;43m*\u001b[39;49m\u001b[43margs\u001b[49m\u001b[43m,\u001b[49m\u001b[43m \u001b[49m\u001b[38;5;241;43m*\u001b[39;49m\u001b[38;5;241;43m*\u001b[39;49m\u001b[43mkwargs\u001b[49m\u001b[43m)\u001b[49m\n",
      "File \u001b[0;32m/scratch/fongsl/conda-stage-qOwu/wynenv/lib/python3.10/site-packages/pandas/util/_decorators.py:331\u001b[0m, in \u001b[0;36mdeprecate_nonkeyword_arguments.<locals>.decorate.<locals>.wrapper\u001b[0;34m(*args, **kwargs)\u001b[0m\n\u001b[1;32m    325\u001b[0m \u001b[38;5;28;01mif\u001b[39;00m \u001b[38;5;28mlen\u001b[39m(args) \u001b[38;5;241m>\u001b[39m num_allow_args:\n\u001b[1;32m    326\u001b[0m     warnings\u001b[38;5;241m.\u001b[39mwarn(\n\u001b[1;32m    327\u001b[0m         msg\u001b[38;5;241m.\u001b[39mformat(arguments\u001b[38;5;241m=\u001b[39m_format_argument_list(allow_args)),\n\u001b[1;32m    328\u001b[0m         \u001b[38;5;167;01mFutureWarning\u001b[39;00m,\n\u001b[1;32m    329\u001b[0m         stacklevel\u001b[38;5;241m=\u001b[39mfind_stack_level(),\n\u001b[1;32m    330\u001b[0m     )\n\u001b[0;32m--> 331\u001b[0m \u001b[38;5;28;01mreturn\u001b[39;00m \u001b[43mfunc\u001b[49m\u001b[43m(\u001b[49m\u001b[38;5;241;43m*\u001b[39;49m\u001b[43margs\u001b[49m\u001b[43m,\u001b[49m\u001b[43m \u001b[49m\u001b[38;5;241;43m*\u001b[39;49m\u001b[38;5;241;43m*\u001b[39;49m\u001b[43mkwargs\u001b[49m\u001b[43m)\u001b[49m\n",
      "File \u001b[0;32m/scratch/fongsl/conda-stage-qOwu/wynenv/lib/python3.10/site-packages/pandas/io/parsers/readers.py:950\u001b[0m, in \u001b[0;36mread_csv\u001b[0;34m(filepath_or_buffer, sep, delimiter, header, names, index_col, usecols, squeeze, prefix, mangle_dupe_cols, dtype, engine, converters, true_values, false_values, skipinitialspace, skiprows, skipfooter, nrows, na_values, keep_default_na, na_filter, verbose, skip_blank_lines, parse_dates, infer_datetime_format, keep_date_col, date_parser, dayfirst, cache_dates, iterator, chunksize, compression, thousands, decimal, lineterminator, quotechar, quoting, doublequote, escapechar, comment, encoding, encoding_errors, dialect, error_bad_lines, warn_bad_lines, on_bad_lines, delim_whitespace, low_memory, memory_map, float_precision, storage_options)\u001b[0m\n\u001b[1;32m    935\u001b[0m kwds_defaults \u001b[38;5;241m=\u001b[39m _refine_defaults_read(\n\u001b[1;32m    936\u001b[0m     dialect,\n\u001b[1;32m    937\u001b[0m     delimiter,\n\u001b[0;32m   (...)\u001b[0m\n\u001b[1;32m    946\u001b[0m     defaults\u001b[38;5;241m=\u001b[39m{\u001b[38;5;124m\"\u001b[39m\u001b[38;5;124mdelimiter\u001b[39m\u001b[38;5;124m\"\u001b[39m: \u001b[38;5;124m\"\u001b[39m\u001b[38;5;124m,\u001b[39m\u001b[38;5;124m\"\u001b[39m},\n\u001b[1;32m    947\u001b[0m )\n\u001b[1;32m    948\u001b[0m kwds\u001b[38;5;241m.\u001b[39mupdate(kwds_defaults)\n\u001b[0;32m--> 950\u001b[0m \u001b[38;5;28;01mreturn\u001b[39;00m \u001b[43m_read\u001b[49m\u001b[43m(\u001b[49m\u001b[43mfilepath_or_buffer\u001b[49m\u001b[43m,\u001b[49m\u001b[43m \u001b[49m\u001b[43mkwds\u001b[49m\u001b[43m)\u001b[49m\n",
      "File \u001b[0;32m/scratch/fongsl/conda-stage-qOwu/wynenv/lib/python3.10/site-packages/pandas/io/parsers/readers.py:611\u001b[0m, in \u001b[0;36m_read\u001b[0;34m(filepath_or_buffer, kwds)\u001b[0m\n\u001b[1;32m    608\u001b[0m     \u001b[38;5;28;01mreturn\u001b[39;00m parser\n\u001b[1;32m    610\u001b[0m \u001b[38;5;28;01mwith\u001b[39;00m parser:\n\u001b[0;32m--> 611\u001b[0m     \u001b[38;5;28;01mreturn\u001b[39;00m \u001b[43mparser\u001b[49m\u001b[38;5;241;43m.\u001b[39;49m\u001b[43mread\u001b[49m\u001b[43m(\u001b[49m\u001b[43mnrows\u001b[49m\u001b[43m)\u001b[49m\n",
      "File \u001b[0;32m/scratch/fongsl/conda-stage-qOwu/wynenv/lib/python3.10/site-packages/pandas/io/parsers/readers.py:1778\u001b[0m, in \u001b[0;36mTextFileReader.read\u001b[0;34m(self, nrows)\u001b[0m\n\u001b[1;32m   1771\u001b[0m nrows \u001b[38;5;241m=\u001b[39m validate_integer(\u001b[38;5;124m\"\u001b[39m\u001b[38;5;124mnrows\u001b[39m\u001b[38;5;124m\"\u001b[39m, nrows)\n\u001b[1;32m   1772\u001b[0m \u001b[38;5;28;01mtry\u001b[39;00m:\n\u001b[1;32m   1773\u001b[0m     \u001b[38;5;66;03m# error: \"ParserBase\" has no attribute \"read\"\u001b[39;00m\n\u001b[1;32m   1774\u001b[0m     (\n\u001b[1;32m   1775\u001b[0m         index,\n\u001b[1;32m   1776\u001b[0m         columns,\n\u001b[1;32m   1777\u001b[0m         col_dict,\n\u001b[0;32m-> 1778\u001b[0m     ) \u001b[38;5;241m=\u001b[39m \u001b[38;5;28;43mself\u001b[39;49m\u001b[38;5;241;43m.\u001b[39;49m\u001b[43m_engine\u001b[49m\u001b[38;5;241;43m.\u001b[39;49m\u001b[43mread\u001b[49m\u001b[43m(\u001b[49m\u001b[43m  \u001b[49m\u001b[38;5;66;43;03m# type: ignore[attr-defined]\u001b[39;49;00m\n\u001b[1;32m   1779\u001b[0m \u001b[43m        \u001b[49m\u001b[43mnrows\u001b[49m\n\u001b[1;32m   1780\u001b[0m \u001b[43m    \u001b[49m\u001b[43m)\u001b[49m\n\u001b[1;32m   1781\u001b[0m \u001b[38;5;28;01mexcept\u001b[39;00m \u001b[38;5;167;01mException\u001b[39;00m:\n\u001b[1;32m   1782\u001b[0m     \u001b[38;5;28mself\u001b[39m\u001b[38;5;241m.\u001b[39mclose()\n",
      "File \u001b[0;32m/scratch/fongsl/conda-stage-qOwu/wynenv/lib/python3.10/site-packages/pandas/io/parsers/c_parser_wrapper.py:235\u001b[0m, in \u001b[0;36mCParserWrapper.read\u001b[0;34m(self, nrows)\u001b[0m\n\u001b[1;32m    232\u001b[0m         data \u001b[38;5;241m=\u001b[39m _concatenate_chunks(chunks)\n\u001b[1;32m    234\u001b[0m     \u001b[38;5;28;01melse\u001b[39;00m:\n\u001b[0;32m--> 235\u001b[0m         data \u001b[38;5;241m=\u001b[39m \u001b[38;5;28;43mself\u001b[39;49m\u001b[38;5;241;43m.\u001b[39;49m\u001b[43m_reader\u001b[49m\u001b[38;5;241;43m.\u001b[39;49m\u001b[43mread\u001b[49m\u001b[43m(\u001b[49m\u001b[43mnrows\u001b[49m\u001b[43m)\u001b[49m\n\u001b[1;32m    236\u001b[0m \u001b[38;5;28;01mexcept\u001b[39;00m \u001b[38;5;167;01mStopIteration\u001b[39;00m:\n\u001b[1;32m    237\u001b[0m     \u001b[38;5;28;01mif\u001b[39;00m \u001b[38;5;28mself\u001b[39m\u001b[38;5;241m.\u001b[39m_first_chunk:\n",
      "File \u001b[0;32m/scratch/fongsl/conda-stage-qOwu/wynenv/lib/python3.10/site-packages/pandas/_libs/parsers.pyx:790\u001b[0m, in \u001b[0;36mpandas._libs.parsers.TextReader.read\u001b[0;34m()\u001b[0m\n",
      "File \u001b[0;32m/scratch/fongsl/conda-stage-qOwu/wynenv/lib/python3.10/site-packages/pandas/_libs/parsers.pyx:883\u001b[0m, in \u001b[0;36mpandas._libs.parsers.TextReader._read_rows\u001b[0;34m()\u001b[0m\n",
      "File \u001b[0;32m/scratch/fongsl/conda-stage-qOwu/wynenv/lib/python3.10/site-packages/pandas/_libs/parsers.pyx:1965\u001b[0m, in \u001b[0;36mpandas._libs.parsers.raise_parser_error\u001b[0;34m()\u001b[0m\n",
      "File \u001b[0;32m/scratch/fongsl/conda-stage-qOwu/wynenv/lib/python3.10/_compression.py:68\u001b[0m, in \u001b[0;36mDecompressReader.readinto\u001b[0;34m(self, b)\u001b[0m\n\u001b[1;32m     66\u001b[0m \u001b[38;5;28;01mdef\u001b[39;00m \u001b[38;5;21mreadinto\u001b[39m(\u001b[38;5;28mself\u001b[39m, b):\n\u001b[1;32m     67\u001b[0m     \u001b[38;5;28;01mwith\u001b[39;00m \u001b[38;5;28mmemoryview\u001b[39m(b) \u001b[38;5;28;01mas\u001b[39;00m view, view\u001b[38;5;241m.\u001b[39mcast(\u001b[38;5;124m\"\u001b[39m\u001b[38;5;124mB\u001b[39m\u001b[38;5;124m\"\u001b[39m) \u001b[38;5;28;01mas\u001b[39;00m byte_view:\n\u001b[0;32m---> 68\u001b[0m         data \u001b[38;5;241m=\u001b[39m \u001b[38;5;28;43mself\u001b[39;49m\u001b[38;5;241;43m.\u001b[39;49m\u001b[43mread\u001b[49m\u001b[43m(\u001b[49m\u001b[38;5;28;43mlen\u001b[39;49m\u001b[43m(\u001b[49m\u001b[43mbyte_view\u001b[49m\u001b[43m)\u001b[49m\u001b[43m)\u001b[49m\n\u001b[1;32m     69\u001b[0m         byte_view[:\u001b[38;5;28mlen\u001b[39m(data)] \u001b[38;5;241m=\u001b[39m data\n\u001b[1;32m     70\u001b[0m     \u001b[38;5;28;01mreturn\u001b[39;00m \u001b[38;5;28mlen\u001b[39m(data)\n",
      "File \u001b[0;32m/scratch/fongsl/conda-stage-qOwu/wynenv/lib/python3.10/gzip.py:507\u001b[0m, in \u001b[0;36m_GzipReader.read\u001b[0;34m(self, size)\u001b[0m\n\u001b[1;32m    505\u001b[0m         \u001b[38;5;28;01mbreak\u001b[39;00m\n\u001b[1;32m    506\u001b[0m     \u001b[38;5;28;01mif\u001b[39;00m buf \u001b[38;5;241m==\u001b[39m \u001b[38;5;124mb\u001b[39m\u001b[38;5;124m\"\u001b[39m\u001b[38;5;124m\"\u001b[39m:\n\u001b[0;32m--> 507\u001b[0m         \u001b[38;5;28;01mraise\u001b[39;00m \u001b[38;5;167;01mEOFError\u001b[39;00m(\u001b[38;5;124m\"\u001b[39m\u001b[38;5;124mCompressed file ended before the \u001b[39m\u001b[38;5;124m\"\u001b[39m\n\u001b[1;32m    508\u001b[0m                        \u001b[38;5;124m\"\u001b[39m\u001b[38;5;124mend-of-stream marker was reached\u001b[39m\u001b[38;5;124m\"\u001b[39m)\n\u001b[1;32m    510\u001b[0m \u001b[38;5;28mself\u001b[39m\u001b[38;5;241m.\u001b[39m_add_read_data( uncompress )\n\u001b[1;32m    511\u001b[0m \u001b[38;5;28mself\u001b[39m\u001b[38;5;241m.\u001b[39m_pos \u001b[38;5;241m+\u001b[39m\u001b[38;5;241m=\u001b[39m \u001b[38;5;28mlen\u001b[39m(uncompress)\n",
      "\u001b[0;31mEOFError\u001b[0m: Compressed file ended before the end-of-stream marker was reached"
     ]
    }
   ],
   "source": [
    "SETS = [('EXON-OVERLAP', \"*-exon_overlap*.txt.gz\"), \n",
    "       (\"EXON-NO-OVERLAP\", \"*-exon_no-overlap*.txt.gz\")]\n",
    "\n",
    "for datatype, query in SETS:\n",
    "\n",
    "    #1\n",
    "    file_list = glob.glob(os.path.join(DATA_PATH, query))\n",
    "    print(len(file_list))\n",
    "\n",
    "\n",
    "    value_col =\"phylop\"\n",
    "    for f in file_list:\n",
    "        out = getSummaryStats(f, value_col, matched)"
   ]
  }
 ],
 "metadata": {
  "kernelspec": {
   "display_name": "Python 3 (ipykernel)",
   "language": "python",
   "name": "python3"
  },
  "language_info": {
   "codemirror_mode": {
    "name": "ipython",
    "version": 3
   },
   "file_extension": ".py",
   "mimetype": "text/x-python",
   "name": "python",
   "nbconvert_exporter": "python",
   "pygments_lexer": "ipython3",
   "version": "3.10.8"
  },
  "toc": {
   "base_numbering": 1,
   "nav_menu": {},
   "number_sections": true,
   "sideBar": true,
   "skip_h1_title": false,
   "title_cell": "Table of Contents",
   "title_sidebar": "Contents",
   "toc_cell": false,
   "toc_position": {},
   "toc_section_display": true,
   "toc_window_display": false
  }
 },
 "nbformat": 4,
 "nbformat_minor": 5
}
