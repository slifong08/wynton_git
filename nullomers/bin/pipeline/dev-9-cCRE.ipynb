{
 "cells": [
  {
   "cell_type": "code",
   "execution_count": 1,
   "id": "492022a8",
   "metadata": {
    "ExecuteTime": {
     "end_time": "2023-01-05T00:30:22.013980Z",
     "start_time": "2023-01-05T00:30:03.584699Z"
    }
   },
   "outputs": [],
   "source": [
    "import glob\n",
    "import os\n",
    "import pandas as pd\n",
    "import pybedtools as pbt\n",
    "import sys\n",
    "\n",
    "import matplotlib.pyplot as plt\n",
    "import numpy as np\n",
    "import seaborn as sns\n",
    "from scipy import stats\n",
    "\n",
    "# append path\n",
    "sys.path.append(\"/wynton/home/ahituv/fongsl/tools/py_/\")\n",
    "\n",
    "# import config reader\n",
    "\n",
    "import config_readwrite as crw\n",
    "\n",
    "config_tag = \"config-exon.ini\"\n",
    "config_name = os.path.join(os.getcwd(), config_tag)\n",
    "\n",
    "config, configname = crw.read_config(config_name)"
   ]
  },
  {
   "cell_type": "markdown",
   "id": "224ded1a",
   "metadata": {},
   "source": [
    "# Config "
   ]
  },
  {
   "cell_type": "code",
   "execution_count": 2,
   "id": "47ba9808",
   "metadata": {
    "ExecuteTime": {
     "end_time": "2023-01-05T00:31:05.749233Z",
     "start_time": "2023-01-05T00:31:05.740904Z"
    }
   },
   "outputs": [],
   "source": [
    "SECTION = \"cCRE\"\n",
    "PATH = \"/wynton/home/ahituv/fongsl/encode/encode3\"\n",
    "SRC = os.path.join(PATH, \"GRCh38-cCREs.bed\")\n",
    "\n",
    "BASE_DATA_PATH = config[\"DATA\"][\"PATH\"]\n",
    "BASE_RESULTS_PATH = config[\"RESULTS\"][\"PATH\"]\n",
    "\n",
    "# make cCRE datapath\n",
    "DATA_PATH = os.path.join(BASE_DATA_PATH, SECTION)\n",
    "RE = os.path.join(BASE_RESULTS_PATH, SECTION)\n",
    "\n",
    "\n",
    "for p in [DATA_PATH, RE]:\n",
    "    if os.path.exists(p) is False:\n",
    "        os.mkdir(p)\n",
    "        \n",
    "# make a handle for counts\n",
    "COUNT_STATS = os.path.join(RE, \"cCRE_overlap_counts.tsv\") # write\n",
    "\n",
    "# write info to config\n",
    "crw.check_section(config, SECTION)\n",
    "config[SECTION][\"SRC_PATH\"] = PATH\n",
    "config[SECTION][\"PATH\"] = DATA_PATH\n",
    "config[SECTION][\"SRC\"] = SRC\n",
    "config[SECTION][\"COUNT_STATS\"] = COUNT_STATS"
   ]
  },
  {
   "cell_type": "markdown",
   "id": "3ad5e505",
   "metadata": {},
   "source": [
    "# functions "
   ]
  },
  {
   "cell_type": "code",
   "execution_count": 3,
   "id": "f042399f",
   "metadata": {
    "ExecuteTime": {
     "end_time": "2023-01-05T00:31:07.213663Z",
     "start_time": "2023-01-05T00:31:07.206693Z"
    }
   },
   "outputs": [],
   "source": [
    "def writeCountData(out, name, stats_file, nlines):\n",
    "    \"\"\"\n",
    "    write cCRE count stats to file. \n",
    "        \n",
    "        count the number, percent of pre-nullomer elements that overlap a cCRE annotation (in any tissue)\n",
    "\n",
    "    input \n",
    "        out (str) - full path + pre-nullomer x intersection file\n",
    "    \n",
    "    method\n",
    "        1. open out file as pandas dataframe\n",
    "        2. count n pre-nullomers w/ cCRE  intersection df\n",
    "        3. count number pre-nullomer sites overlapping annotations using groupby function\n",
    "        4. quantify percentage of overlaps in annotation\n",
    "        5. add ID (filename), name (i.e. exon, non-exon), and ntotal (overlaps) column \n",
    "        6. write to stats file\n",
    "\n",
    "    return \n",
    "        None\n",
    "        \n",
    "    \"\"\"\n",
    "    #1\n",
    "    df = pd.read_csv(out, sep = \"\\t\", header = None)\n",
    "    \n",
    "    #2\n",
    "    noverlaps = len(df[3].unique())\n",
    "\n",
    "    #3\n",
    "    c = df.groupby(9)[3].count().reset_index()\n",
    "   \n",
    "    #4\n",
    "    c[10]=(c[3] / c[3].sum()).round(3)\n",
    "    \n",
    "    #5\n",
    "    c.columns = [\"annot\", \"n\", \"percent\"]\n",
    "    c[\"id\"], c[\"label\"], c[\"ntotal\"], c[\"percentTotal\"]=outfilename.strip(\".bed\"), name, noverlaps, (noverlaps/nlines)\n",
    "    \n",
    "    c.to_csv(stats_file, sep='\\t', mode='a', index=False)"
   ]
  },
  {
   "cell_type": "code",
   "execution_count": 5,
   "id": "41b3111f",
   "metadata": {
    "ExecuteTime": {
     "end_time": "2023-01-05T00:31:18.184684Z",
     "start_time": "2023-01-05T00:31:18.173697Z"
    }
   },
   "outputs": [],
   "source": [
    "def intersectCCRES(file, data_path, src_ccre, count_stats, section):\n",
    "    \"\"\"\n",
    "    intersect pre-nullomers, shuffles w/ cCRE data and collect count stats on how many overlap\n",
    "\n",
    "    input\n",
    "        file (str) - .bed file to intersectw/ cCRE\n",
    "        data_path (str) - path to write data files to\n",
    "        src_ccre (str) - full path to .bed cCRE hg38 file\n",
    "        count_stats (str) - full path to count_stats file\n",
    "        section (str) - name of config section\n",
    "        \n",
    "    method\n",
    "        1. make outfile from input file\n",
    "        2. if outfile does not already exist\n",
    "        3. count number of lines in file. \n",
    "        4. instantiate pybedtool objects\n",
    "        5. do intersection of pre-nullomer.bed w/ cCRE\n",
    "        6. call function to write the count data. \n",
    "        7. write the output file to the config (pre-nullomer files only. No shuffle)\n",
    "        \n",
    "    return\n",
    "        None\n",
    "    \n",
    "    \"\"\"\n",
    "    #1 make output file name + abs path. \n",
    "    outfilename = (os.path.split(file)[1]).strip(\".bed\") + \"x_cCRE.bed\"\n",
    "    out = os.path.join(data_path, outfilename)\n",
    "\n",
    "    #2\n",
    "    if os.path.exists(out) is False:\n",
    "\n",
    "        #3 count number of lines in file\n",
    "        with open(file, \"r\") as reader:\n",
    "            linecount = sum(1 for i in reader.readlines())\n",
    "\n",
    "         #4 make bedtool obects from pre-nullomer file, cCRE source file\n",
    "        null, ccre = pbt.BedTool(file), pbt.BedTool(src_ccre)\n",
    "\n",
    "        #5 do intersection\n",
    "        intr = null.intersect(ccre, wa=True, wb=True, output = out)\n",
    "\n",
    "        #6\n",
    "        writeCountData(out, name, count_stats, linecount)\n",
    "\n",
    "        #7\n",
    "        if \"SHUF\" not in name:\n",
    "            # write out file to config\n",
    "            config[section][f\"x_{name}\"] = out"
   ]
  },
  {
   "cell_type": "code",
   "execution_count": 6,
   "id": "3125bca5",
   "metadata": {
    "ExecuteTime": {
     "end_time": "2023-01-05T00:31:19.118992Z",
     "start_time": "2023-01-05T00:31:19.109085Z"
    }
   },
   "outputs": [],
   "source": [
    "def calculateEmpiricalP(obs, exp_sum_list):\n",
    "    \"\"\"\n",
    "    return two lists\n",
    "        (1) info - vector w/  \n",
    "                n_obs, \n",
    "                median_exp, \n",
    "                std, \n",
    "                fold-change  # calculated from the median of expected shuffle \n",
    "                p_val\n",
    "                \n",
    "        (2) fold_changes- vector expected fold changes (to calculate confidence interval)\n",
    "        \n",
    "    input\n",
    "        observed overlap count (int)\n",
    "        list of expected overlap counts (list of ints)\n",
    "    \n",
    "    method\n",
    "        1. get median of expected overlap counts\n",
    "        2. get standard deviation of expected overlap counts\n",
    "        3. center expected overlap counts at median\n",
    "        4. Sum the number of centered expected counts greater than observed centered count\n",
    "            This is two tailed because it evaluates both sides of the distribution (w/ abs value). \n",
    "        5. calculate fold change as observed/ median expected w/ pseudo count\n",
    "        6. calculate fold change of each \"obs\"/ expected w/ pseudo count\n",
    "        7. calculate the p-value as count of equal or more extreme values than observed value\n",
    "        8. return list of empirical info + fold changes\n",
    "        \n",
    "        \n",
    "    \n",
    "    \"\"\"\n",
    "    #1\n",
    "    mu = np.median(exp_sum_list)  # median of exp.dist\n",
    "    \n",
    "    #2\n",
    "    sigma = np.std(exp_sum_list)  # std\n",
    "    \n",
    "    #3\n",
    "    dist_from_mu = [exp - mu for exp in exp_sum_list] # center the distribution \n",
    "    \n",
    "    #4\n",
    "    p_sum = sum(1 for exp_dist in dist_from_mu if abs(exp_dist) >= abs(obs - mu)) # count values >= centered obs\n",
    "\n",
    "    #5\n",
    "    fold_change = (obs + 1.0) / (mu + 1.0) # fold change obs from median expected w pseudo count\n",
    "    \n",
    "    #6\n",
    "    fold_changes = list((obs + 1.0) / (m + 1.0) for m in exp_sum_list) # fold change obs from /each exp w pseudo count\n",
    "    \n",
    "    #7\n",
    "    p_val = (p_sum + 1.0) / (len(exp_sum_list) + 1.0)  # probability of observing obs-like value equal or more extreme in expected distribution\n",
    "    \n",
    "    #8\n",
    "    info = [\n",
    "            obs, \n",
    "            mu, \n",
    "            sigma, \n",
    "            fold_change, \n",
    "            p_val, \n",
    "            str(datetime.datetime.now())\n",
    "            ]\n",
    "    \n",
    "    return info, fold_changes"
   ]
  },
  {
   "cell_type": "markdown",
   "id": "2834ea44",
   "metadata": {},
   "source": [
    "# Main"
   ]
  },
  {
   "cell_type": "code",
   "execution_count": 7,
   "id": "71aa45ab",
   "metadata": {
    "ExecuteTime": {
     "end_time": "2023-01-05T00:31:21.167797Z",
     "start_time": "2023-01-05T00:31:21.163629Z"
    }
   },
   "outputs": [],
   "source": [
    "EXON = config[\"DATAxGENCODE\"][\"overlap\"]\n",
    "NOEXON = config[\"DATAxGENCODE\"][\"nooverlap_ref\"]\n",
    "\n",
    "FILES = [\n",
    "        (\"EXON\", EXON),\n",
    "        (\"NO_EXON\", NOEXON),\n",
    "        (\"SHUF-EXON\", config[\"SHUFFLE\"][\"ex_exp_star\"]), \n",
    "        (\"SHUF-NO_EXON\", config[\"SHUFFLE\"][\"noex_exp_star\"]), \n",
    "        ]"
   ]
  },
  {
   "cell_type": "code",
   "execution_count": 8,
   "id": "0c083cbe",
   "metadata": {
    "ExecuteTime": {
     "end_time": "2023-01-05T00:31:31.315431Z",
     "start_time": "2023-01-05T00:31:30.659317Z"
    }
   },
   "outputs": [],
   "source": [
    "# intersect pre-nullomer .bed x CCRE\n",
    "\n",
    "for name, f in FILES:\n",
    "\n",
    "    # gather all the shuffled files as a list. \n",
    "    if \"SHUF\" in name:\n",
    "        fs = glob.glob(f)\n",
    "\n",
    "    # or make test file as a list of one. \n",
    "    else:\n",
    "        fs = [f] \n",
    "        \n",
    "    for file in fs:\n",
    "        intersectCCRES(file, DATA_PATH, SRC, COUNT_STATS, SECTION)"
   ]
  },
  {
   "cell_type": "code",
   "execution_count": 9,
   "id": "61c589f1",
   "metadata": {
    "ExecuteTime": {
     "end_time": "2023-01-05T00:31:32.480800Z",
     "start_time": "2023-01-05T00:31:32.444826Z"
    }
   },
   "outputs": [],
   "source": [
    "# write new sections to config\n",
    "crw.write_config(config, configname)"
   ]
  },
  {
   "cell_type": "markdown",
   "id": "787a88ca",
   "metadata": {},
   "source": [
    "# Analyze count results"
   ]
  },
  {
   "cell_type": "code",
   "execution_count": 10,
   "id": "6ccc312a",
   "metadata": {
    "ExecuteTime": {
     "end_time": "2023-01-05T00:31:35.208940Z",
     "start_time": "2023-01-05T00:31:35.036161Z"
    }
   },
   "outputs": [
    {
     "name": "stdout",
     "output_type": "stream",
     "text": [
      "(18016, 7)\n",
      "(9016, 7)\n"
     ]
    }
   ],
   "source": [
    "df = pd.read_csv(COUNT_STATS, sep ='\\t')\n",
    "df = df.loc[df[\"label\"]!=\"label\"]\n",
    "print(df.shape)\n",
    "df = df.loc[~df[\"id\"].str.contains(\"EXPANDED\")] # get rid of 500 bp expanded elements\n",
    "print(df.shape)\n",
    "df[[\"n\", \"percent\", \"ntotal\"]] =df[[\"n\", \"percent\", \"ntotal\"]].astype(float) # change datatype\n",
    "\n",
    "df['overlap%'] =df[\"ntotal\"].divide(df[\"linesTotal\"])  # identify % total of dataset overlapping any cCRE"
   ]
  },
  {
   "cell_type": "code",
   "execution_count": 11,
   "id": "d7f0169d",
   "metadata": {
    "ExecuteTime": {
     "end_time": "2023-01-05T00:31:45.762443Z",
     "start_time": "2023-01-05T00:31:45.724040Z"
    }
   },
   "outputs": [
    {
     "data": {
      "text/html": [
       "<div>\n",
       "<style scoped>\n",
       "    .dataframe tbody tr th:only-of-type {\n",
       "        vertical-align: middle;\n",
       "    }\n",
       "\n",
       "    .dataframe tbody tr th {\n",
       "        vertical-align: top;\n",
       "    }\n",
       "\n",
       "    .dataframe thead th {\n",
       "        text-align: right;\n",
       "    }\n",
       "</style>\n",
       "<table border=\"1\" class=\"dataframe\">\n",
       "  <thead>\n",
       "    <tr style=\"text-align: right;\">\n",
       "      <th></th>\n",
       "      <th>annot</th>\n",
       "      <th>n</th>\n",
       "      <th>percent</th>\n",
       "      <th>id</th>\n",
       "      <th>label</th>\n",
       "      <th>ntotal</th>\n",
       "      <th>linesTotal</th>\n",
       "      <th>overlap%</th>\n",
       "    </tr>\n",
       "  </thead>\n",
       "  <tbody>\n",
       "    <tr>\n",
       "      <th>0</th>\n",
       "      <td>CTCF-only,CTCF-bound</td>\n",
       "      <td>10.0</td>\n",
       "      <td>0.005</td>\n",
       "      <td>mutations-uniq-woRMSK.GENCODE-exon_overlapx_cCRE</td>\n",
       "      <td>EXON</td>\n",
       "      <td>1907.0</td>\n",
       "      <td>4281</td>\n",
       "      <td>0.445457</td>\n",
       "    </tr>\n",
       "    <tr>\n",
       "      <th>1</th>\n",
       "      <td>DNase-H3K4me3</td>\n",
       "      <td>21.0</td>\n",
       "      <td>0.011</td>\n",
       "      <td>mutations-uniq-woRMSK.GENCODE-exon_overlapx_cCRE</td>\n",
       "      <td>EXON</td>\n",
       "      <td>1907.0</td>\n",
       "      <td>4281</td>\n",
       "      <td>0.445457</td>\n",
       "    </tr>\n",
       "    <tr>\n",
       "      <th>2</th>\n",
       "      <td>DNase-H3K4me3,CTCF-bound</td>\n",
       "      <td>25.0</td>\n",
       "      <td>0.013</td>\n",
       "      <td>mutations-uniq-woRMSK.GENCODE-exon_overlapx_cCRE</td>\n",
       "      <td>EXON</td>\n",
       "      <td>1907.0</td>\n",
       "      <td>4281</td>\n",
       "      <td>0.445457</td>\n",
       "    </tr>\n",
       "    <tr>\n",
       "      <th>3</th>\n",
       "      <td>PLS</td>\n",
       "      <td>55.0</td>\n",
       "      <td>0.029</td>\n",
       "      <td>mutations-uniq-woRMSK.GENCODE-exon_overlapx_cCRE</td>\n",
       "      <td>EXON</td>\n",
       "      <td>1907.0</td>\n",
       "      <td>4281</td>\n",
       "      <td>0.445457</td>\n",
       "    </tr>\n",
       "    <tr>\n",
       "      <th>4</th>\n",
       "      <td>PLS,CTCF-bound</td>\n",
       "      <td>765.0</td>\n",
       "      <td>0.401</td>\n",
       "      <td>mutations-uniq-woRMSK.GENCODE-exon_overlapx_cCRE</td>\n",
       "      <td>EXON</td>\n",
       "      <td>1907.0</td>\n",
       "      <td>4281</td>\n",
       "      <td>0.445457</td>\n",
       "    </tr>\n",
       "  </tbody>\n",
       "</table>\n",
       "</div>"
      ],
      "text/plain": [
       "                      annot      n  percent  \\\n",
       "0      CTCF-only,CTCF-bound   10.0    0.005   \n",
       "1             DNase-H3K4me3   21.0    0.011   \n",
       "2  DNase-H3K4me3,CTCF-bound   25.0    0.013   \n",
       "3                       PLS   55.0    0.029   \n",
       "4            PLS,CTCF-bound  765.0    0.401   \n",
       "\n",
       "                                                 id label  ntotal  linesTotal  \\\n",
       "0  mutations-uniq-woRMSK.GENCODE-exon_overlapx_cCRE  EXON  1907.0        4281   \n",
       "1  mutations-uniq-woRMSK.GENCODE-exon_overlapx_cCRE  EXON  1907.0        4281   \n",
       "2  mutations-uniq-woRMSK.GENCODE-exon_overlapx_cCRE  EXON  1907.0        4281   \n",
       "3  mutations-uniq-woRMSK.GENCODE-exon_overlapx_cCRE  EXON  1907.0        4281   \n",
       "4  mutations-uniq-woRMSK.GENCODE-exon_overlapx_cCRE  EXON  1907.0        4281   \n",
       "\n",
       "   overlap%  \n",
       "0  0.445457  \n",
       "1  0.445457  \n",
       "2  0.445457  \n",
       "3  0.445457  \n",
       "4  0.445457  "
      ]
     },
     "execution_count": 11,
     "metadata": {},
     "output_type": "execute_result"
    }
   ],
   "source": [
    "df.head()"
   ]
  },
  {
   "cell_type": "markdown",
   "id": "c2858b89",
   "metadata": {},
   "source": [
    "## counts of cCRE overlaps \n",
    "\n",
    "pre-nullomers overlap cCREs more often than shuffled "
   ]
  },
  {
   "cell_type": "code",
   "execution_count": 93,
   "id": "956e3a12",
   "metadata": {
    "ExecuteTime": {
     "end_time": "2022-12-24T00:13:39.261510Z",
     "start_time": "2022-12-24T00:13:37.898406Z"
    }
   },
   "outputs": [
    {
     "data": {
      "text/plain": [
       "<AxesSubplot:xlabel='label', ylabel='overlap%'>"
      ]
     },
     "execution_count": 93,
     "metadata": {},
     "output_type": "execute_result"
    },
    {
     "data": {
      "image/png": "[encoded data removed]",
      "text/plain": [
       "<Figure size 1200x600 with 2 Axes>"
      ]
     },
     "metadata": {},
     "output_type": "display_data"
    }
   ],
   "source": [
    "order = [\"EXON\", \"SHUF-EXON\", \"NO_EXON\", 'SHUF-NO_EXON']\n",
    "fig, (ax1, ax2) = plt.subplots(ncols = 2, figsize=(12,6))\n",
    "sns.barplot(x=\"label\", y=\"ntotal\", data=df, order=order, ax=ax1)\n",
    "sns.barplot(x=\"label\", y='overlap%', data=df, order=order, ax=ax2)"
   ]
  },
  {
   "cell_type": "code",
   "execution_count": 94,
   "id": "2d9a0c60",
   "metadata": {
    "ExecuteTime": {
     "end_time": "2022-12-24T00:13:44.015339Z",
     "start_time": "2022-12-24T00:13:44.001562Z"
    }
   },
   "outputs": [],
   "source": [
    "df = df.drop_duplicates()"
   ]
  },
  {
   "cell_type": "code",
   "execution_count": 95,
   "id": "3fb97bb9",
   "metadata": {
    "ExecuteTime": {
     "end_time": "2022-12-24T00:13:45.205278Z",
     "start_time": "2022-12-24T00:13:45.181400Z"
    }
   },
   "outputs": [
    {
     "name": "stdout",
     "output_type": "stream",
     "text": [
      "500\n",
      "[1907.0, 870.0, 24.880608995762138, 2.190585533869116, 0.001996007984031936, '2022-12-23 16:13:45.195583']\n",
      "500\n",
      "[4383.0, 1691.0, 39.53770858307294, 2.591016548463357, 0.001996007984031936, '2022-12-23 16:13:45.202962']\n"
     ]
    }
   ],
   "source": [
    "tests = [(\"EXON\", \"SHUF-EXON\"), (\"NO_EXON\", 'SHUF-NO_EXON')]\n",
    "import datetime\n",
    "for target, shuf in tests:\n",
    "\n",
    "    obs = df.loc[df[\"label\"]==target, \"ntotal\"].iloc[0]\n",
    "    exp =  df.loc[df[\"label\"]==shuf, [\"id\", \"ntotal\"]].drop_duplicates()  # need to remove duplicate count valuesw/ different cCRE annotations\n",
    "    exp_sum_list =  exp[\"ntotal\"]\n",
    "    print(len(exp_sum_list))\n",
    "    f, i = calculateEmpiricalP(obs, exp_sum_list)\n",
    "    print(f)"
   ]
  },
  {
   "cell_type": "markdown",
   "id": "9e5c0e93",
   "metadata": {},
   "source": [
    "## non-coding percent overlapping each category\n",
    "proportionally, comparing % of elements with annotation among all that overlap cCRE "
   ]
  },
  {
   "cell_type": "code",
   "execution_count": 97,
   "id": "62d9d65d",
   "metadata": {
    "ExecuteTime": {
     "end_time": "2022-12-24T00:14:08.852602Z",
     "start_time": "2022-12-24T00:14:07.177298Z"
    }
   },
   "outputs": [
    {
     "data": {
      "text/plain": [
       "<AxesSubplot:xlabel='percent', ylabel='annot'>"
      ]
     },
     "execution_count": 97,
     "metadata": {},
     "output_type": "execute_result"
    },
    {
     "data": {
      "image/png": "[encoded data removed]",
      "text/plain": [
       "<Figure size 640x480 with 1 Axes>"
      ]
     },
     "metadata": {},
     "output_type": "display_data"
    }
   ],
   "source": [
    "sns.barplot(x=\"percent\", y=\"annot\",hue=\"label\", data=df.loc[df[\"label\"].str.contains(\"NO_EXON\")],\n",
    "           #showfliers = False\n",
    "           )"
   ]
  },
  {
   "cell_type": "markdown",
   "id": "8c609b2a",
   "metadata": {},
   "source": [
    "## exon percent overlapping each category"
   ]
  },
  {
   "cell_type": "code",
   "execution_count": 98,
   "id": "9a457aee",
   "metadata": {
    "ExecuteTime": {
     "end_time": "2022-12-24T00:14:13.385307Z",
     "start_time": "2022-12-24T00:14:11.599033Z"
    }
   },
   "outputs": [
    {
     "data": {
      "text/plain": [
       "<AxesSubplot:xlabel='percent', ylabel='annot'>"
      ]
     },
     "execution_count": 98,
     "metadata": {},
     "output_type": "execute_result"
    },
    {
     "data": {
      "image/png": "[encoded data removed]",
      "text/plain": [
       "<Figure size 640x480 with 1 Axes>"
      ]
     },
     "metadata": {},
     "output_type": "display_data"
    }
   ],
   "source": [
    "sns.barplot(x=\"percent\", y=\"annot\",hue=\"label\", data=df.loc[~df[\"label\"].str.contains(\"NO_EXON\")],\n",
    "           #showfliers = False\n",
    "           )"
   ]
  },
  {
   "cell_type": "markdown",
   "id": "14ba4a8d",
   "metadata": {},
   "source": [
    "# counts per annotation"
   ]
  },
  {
   "cell_type": "code",
   "execution_count": 99,
   "id": "7eb1efc8",
   "metadata": {
    "ExecuteTime": {
     "end_time": "2022-12-24T00:14:17.633669Z",
     "start_time": "2022-12-24T00:14:15.401172Z"
    }
   },
   "outputs": [
    {
     "data": {
      "text/plain": [
       "<AxesSubplot:xlabel='n', ylabel='annot'>"
      ]
     },
     "execution_count": 99,
     "metadata": {},
     "output_type": "execute_result"
    },
    {
     "data": {
      "image/png": "[encoded data removed]",
      "text/plain": [
       "<Figure size 640x480 with 1 Axes>"
      ]
     },
     "metadata": {},
     "output_type": "display_data"
    }
   ],
   "source": [
    "sns.barplot(x=\"n\", y=\"annot\",hue=\"label\", data=df, hue_order=order\n",
    "           #showfliers = False\n",
    "           )"
   ]
  },
  {
   "cell_type": "markdown",
   "id": "3b3b6d13",
   "metadata": {},
   "source": [
    "# what is the fold-change of frequency in overlap"
   ]
  }
 ],
 "metadata": {
  "kernelspec": {
   "display_name": "Python (wynenv)",
   "language": "python",
   "name": "wynenv"
  },
  "language_info": {
   "codemirror_mode": {
    "name": "ipython",
    "version": 3
   },
   "file_extension": ".py",
   "mimetype": "text/x-python",
   "name": "python",
   "nbconvert_exporter": "python",
   "pygments_lexer": "ipython3",
   "version": "3.10.8"
  },
  "toc": {
   "base_numbering": 1,
   "nav_menu": {},
   "number_sections": true,
   "sideBar": true,
   "skip_h1_title": false,
   "title_cell": "Table of Contents",
   "title_sidebar": "Contents",
   "toc_cell": false,
   "toc_position": {},
   "toc_section_display": true,
   "toc_window_display": false
  }
 },
 "nbformat": 4,
 "nbformat_minor": 5
}
