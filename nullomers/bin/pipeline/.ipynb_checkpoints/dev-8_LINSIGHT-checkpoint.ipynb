{
 "cells": [
  {
   "cell_type": "markdown",
   "id": "e5385072",
   "metadata": {},
   "source": [
    "# linsight estimates\n",
    "20221208\n",
    "\n",
    "    download bw linsight from here. \n",
    "\n",
    "    input\n",
    "        nullomers - no duplicates, no RMSK, split on exon/non-exon\n",
    "        matched shuffles (500x) \n",
    "    \n",
    "    method\n",
    "        1. get linsight score for each mutation using bigwigSummary\n",
    "        2. plot distributions\n",
    "        3. use MWU to assess whether mutation linsight scores are statistically significantly different from background. \n",
    "        "
   ]
  },
  {
   "cell_type": "code",
   "execution_count": null,
   "id": "d3cf95a5",
   "metadata": {},
   "outputs": [],
   "source": [
    "import os\n",
    "import subprocess\n",
    "import sys\n",
    "\n",
    "# append path\n",
    "sys.path.append(\"/wynton/home/ahituv/fongsl/tools/py_/\")\n",
    "\n",
    "# import config reader\n",
    "import config_readwrite as crw\n",
    "import zippery\n",
    "\n",
    "config_name = os.path.join(os.getcwd(), \"config-exon.ini\")\n",
    "\n",
    "config, configname = crw.read_config(config_name)"
   ]
  }
 ],
 "metadata": {
  "kernelspec": {
   "display_name": "Python (wynenv)",
   "language": "python",
   "name": "wynenv"
  },
  "language_info": {
   "codemirror_mode": {
    "name": "ipython",
    "version": 3
   },
   "file_extension": ".py",
   "mimetype": "text/x-python",
   "name": "python",
   "nbconvert_exporter": "python",
   "pygments_lexer": "ipython3",
   "version": "3.10.8"
  }
 },
 "nbformat": 4,
 "nbformat_minor": 5
}
