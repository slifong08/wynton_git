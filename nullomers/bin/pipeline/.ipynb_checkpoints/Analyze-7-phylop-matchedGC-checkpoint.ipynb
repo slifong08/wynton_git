{
 "cells": [
  {
   "cell_type": "code",
   "execution_count": null,
   "id": "06063260",
   "metadata": {},
   "outputs": [],
   "source": [
    "#!/usr/bin/env python\n",
    "# coding: utf-8\n",
    "\n",
    "# 20221129\n",
    "# \n",
    "# sarahfong\n",
    "# \n",
    "# ### intersect nullomers, empirical shuffle with phylop 100way bigWig\n",
    "# \n",
    "# split by exonic/non-exonic\n",
    "# \n",
    "# \n",
    "# use bigWigSummary executable from UCSC to get phylop \n",
    "# \n",
    "# \n",
    "# compare nullomers v. empirical background\n",
    "\n",
    "# In[ ]:\n",
    "—"
   ]
  },
  {
   "cell_type": "code",
   "execution_count": 1,
   "id": "73d48f81",
   "metadata": {
    "ExecuteTime": {
     "end_time": "2023-01-17T23:24:53.759943Z",
     "start_time": "2023-01-17T23:24:51.574570Z"
    }
   },
   "outputs": [],
   "source": [
    "import glob\n",
    "from joblib import Parallel, delayed\n",
    "import os\n",
    "import pybedtools as pbt\n",
    "import subprocess\n",
    "import sys\n",
    "\n",
    "\n",
    "import matplotlib.pyplot as plt\n",
    "import numpy as np\n",
    "import pandas as pd\n",
    "from scipy import stats\n",
    "import seaborn as sns\n",
    "import statsmodels as sm\n",
    "\n",
    "# append path\n",
    "sys.path.append(\"/wynton/home/ahituv/fongsl/tools/py_/\")\n",
    "\n",
    "# import config reader\n",
    "import config_readwrite as crw\n",
    "import zippery\n",
    "\n",
    "\n",
    "\n",
    "config_tag = \"config-exon.ini\"\n",
    "\n",
    "# append path\n",
    "sys.path.append(\"/wynton/home/ahituv/fongsl/tools/py_/\")\n",
    "\n",
    "# import config reader\n",
    "import config_readwrite as crw\n",
    "import count_lines as cl\n",
    "import plot_params as pp\n",
    "\n",
    "config_name = os.path.join(os.getcwd(), config_tag)\n",
    "\n",
    "config, configname = crw.read_config(config_name)\n"
   ]
  },
  {
   "cell_type": "markdown",
   "id": "50c72435",
   "metadata": {},
   "source": [
    "# Analysis"
   ]
  },
  {
   "cell_type": "code",
   "execution_count": 2,
   "id": "fce9800b",
   "metadata": {
    "ExecuteTime": {
     "end_time": "2023-01-17T23:24:53.772455Z",
     "start_time": "2023-01-17T23:24:53.764669Z"
    }
   },
   "outputs": [],
   "source": [
    "DATASET = \"PHYLOP\"\n",
    "\n",
    "DATA_PATH = config[DATASET][\"PATH\"]\n",
    "RE_PATH = config[\"RESULTS\"][\"PATH\"] \n",
    "\n",
    "ANNOT = config[\"GENCODE\"][\"ANNOT\"] \n",
    "\n",
    "RE = os.path.join(RE_PATH, DATASET)\n",
    "\n",
    "if os.path.exists(RE) is False:\n",
    "    os.mkdir(RE)\n",
    "    config[\"RESULTS\"][DATASET] = RE "
   ]
  },
  {
   "cell_type": "markdown",
   "id": "00011877",
   "metadata": {},
   "source": [
    "## functions"
   ]
  },
  {
   "cell_type": "code",
   "execution_count": 3,
   "id": "8027e220",
   "metadata": {
    "ExecuteTime": {
     "end_time": "2023-01-17T23:24:53.854140Z",
     "start_time": "2023-01-17T23:24:53.776118Z"
    }
   },
   "outputs": [],
   "source": [
    "def plot_lines(df, out_pdf,datatype, xrange):\n",
    "    fig, ax = plt.subplots(figsize=(6,6))\n",
    "    sns.lineplot(df, x=\"pos\", y= '50%', hue = \"label\" )\n",
    "    sns.lineplot(df, x=\"pos\", y= '25%', hue = \"label\")\n",
    "    sns.lineplot(df, x=\"pos\", y= '75%', hue = \"label\")\n",
    "\n",
    "    ax.axvline(499, color=\"grey\", ls = \"--\") # center line\n",
    "    \n",
    "    ax.set(xlim = (xrange[0], xrange[1]),\n",
    "           ylabel = \"phylop score - 100way\",\n",
    "            title = f\"{datatype}:{xrange[0]}-{xrange[1]}\")\n",
    "    \n",
    "    ax.legend(loc=\"upper right\")\n",
    "    \n",
    "    plt.savefig(out_pdf, bbox_inches=\"tight\")\n",
    "    plt.show()\n",
    "\n",
    "    \n",
    "def plot_line(y, df, out_pdf,datatype, xrange):\n",
    "    fig, ax = plt.subplots(figsize=(6,6))\n",
    "    sns.lineplot(df, x=\"pos\", y=y, hue=\"label\")\n",
    "    \n",
    "    ax.axvline(499, color=\"grey\", ls = \"--\") # center line\n",
    "    \n",
    "    ax.set(xlim = (xrange[0], xrange[1]),\n",
    "           ylabel = f\"phylop score - 100way-{y}\",\n",
    "            title = f\"{datatype}:{xrange[0]}-{xrange[1]}\")\n",
    "    \n",
    "    ax.legend(loc=\"upper right\")\n",
    "    \n",
    "    plt.savefig(out_pdf, bbox_inches=\"tight\")\n",
    "    plt.show()\n",
    "    \n",
    "    \n",
    "def calculateEmpiricalP(obs, exp_sum_list):\n",
    "    \n",
    "    import datetime\n",
    "    \"\"\"\n",
    "    return two lists\n",
    "        (1) info - vector w/  \n",
    "                n_obs, \n",
    "                median_exp, \n",
    "                std, \n",
    "                fold-change  # calculated from the median of expected shuffle \n",
    "                p_val\n",
    "                \n",
    "        (2) fold_changes- vector expected fold changes (to calculate confidence interval)\n",
    "        \n",
    "    input\n",
    "        observed overlap count (int)\n",
    "        list of expected overlap counts (list of ints)\n",
    "    \n",
    "    method\n",
    "        1. get median of expected overlap counts\n",
    "        2. get standard deviation of expected overlap counts\n",
    "        3. center expected overlap counts at median\n",
    "        4. Sum the number of centered expected counts greater than observed centered count\n",
    "            This is two tailed because it evaluates both sides of the distribution (w/ abs value). \n",
    "        5. calculate fold change as observed/ median expected w/ pseudo count\n",
    "        6. calculate fold change of each \"obs\"/ expected w/ pseudo count\n",
    "        7. calculate the p-value as count of equal or more extreme values than observed value\n",
    "        8. return list of empirical info + fold changes\n",
    "        \n",
    "        \n",
    "    \n",
    "    \"\"\"\n",
    "    #1\n",
    "    mu = np.median(exp_sum_list)  # median of exp.dist\n",
    "    \n",
    "    #2\n",
    "    sigma = np.std(exp_sum_list)  # std\n",
    "    \n",
    "    #3\n",
    "    dist_from_mu = [exp - mu for exp in exp_sum_list] # center the distribution \n",
    "    \n",
    "    #4\n",
    "    p_sum = sum(1 for exp_dist in dist_from_mu if abs(exp_dist) >= abs(obs - mu)) # count values >= centered obs\n",
    "\n",
    "    #5\n",
    "    fold_change = (obs + 1.0) / (mu + 1.0) # fold change obs from median expected w pseudo count\n",
    "    \n",
    "    #6\n",
    "    fold_changes = list((obs + 1.0) / (m + 1.0) for m in exp_sum_list) # fold change obs from /each exp w pseudo count\n",
    "    \n",
    "    #7\n",
    "    p_val = (p_sum + 1.0) / (len(exp_sum_list) + 1.0)  # probability of observing obs-like value equal or more extreme in expected distribution\n",
    "    \n",
    "    #8\n",
    "    info = [\n",
    "            obs, \n",
    "            mu, \n",
    "            sigma, \n",
    "            fold_change, \n",
    "            p_val, \n",
    "            str(datetime.datetime.now())\n",
    "            ]\n",
    "    \n",
    "    return info, fold_changes\n",
    "\n",
    "def exp(nullo, shuf, summary_stat_name, pos):\n",
    "    \"\"\"\n",
    "    return PER POSITION foldchange, empirical P between observed and expected (shuffled) data\n",
    "    \n",
    "    input\n",
    "        nullo (df) - pandas dataframe of nullomer summary stats in long form (each row is one base in dist)\n",
    "        shuf (df) - pandas dataframe of N shuffled summary stats in long form (each row is one base in dist)\n",
    "        summary_stat_name (str) - summary_stat measurement name (this should be a column in the dataframes)\n",
    "        pos (int) - relative position of the base to estimate fold change between. \n",
    "        \n",
    "    method\n",
    "        1. prepare position phylop vectors for obs, exp\n",
    "        2. calculate empirical P\n",
    "    \n",
    "    \n",
    "    \"\"\"\n",
    "    obs = nullo.loc[nullo[\"pos\"]== pos, summary_stat_name].iloc[0]\n",
    "    exp_list =  shuf.loc[shuf[\"pos\"]== pos, summary_stat_name].to_list()\n",
    "    \n",
    "    info, fold_changes = calculateEmpiricalP(obs, exp_list)\n",
    "    \n",
    "    print(info)\n",
    "    \n",
    "    return info, fold_changes"
   ]
  },
  {
   "cell_type": "code",
   "execution_count": 4,
   "id": "435dbcd7",
   "metadata": {
    "ExecuteTime": {
     "end_time": "2023-01-17T23:24:54.170588Z",
     "start_time": "2023-01-17T23:24:54.163816Z"
    }
   },
   "outputs": [],
   "source": [
    "def formatDf(datatype, query):\n",
    "    \"\"\"\n",
    "    glob all query files for datatype and turn these data into a single dataframe\n",
    "    split dataframe based on nullomer v shuffle\n",
    "    \n",
    "    input \n",
    "        datatype (str) - label for dataset (e.g. exon-overlpa, no exon-overlap)\n",
    "        query (str) - fragment of str to glob files on. \n",
    "        \n",
    "    method\n",
    "        1. glob all files\n",
    "        2. make a list to collect pandas dataframes\n",
    "        3. assign LABEL - NULLOMER/SHUF  for each dataset. \n",
    "        4. assign ID - str of the file name\n",
    "        5. open the file as a pandas dataframe, add label, id columns, append to collection list\n",
    "        6. concatenate all dataframes together\n",
    "        7. split dataframes on NULLOMER/SHUF label\n",
    "        \n",
    "    return \n",
    "        df (pd dataframe) - all data\n",
    "        nullo (pd dataframe) - data for just nullomers\n",
    "        shuf (pd dataframe) - data for just matched shuffles\n",
    "        \n",
    "    \"\"\"\n",
    "    #1\n",
    "    file_list = glob.glob(os.path.join(DATA_PATH, query))\n",
    "    print(len(file_list))\n",
    "    \n",
    "    #2\n",
    "    df_list = []\n",
    "    \n",
    "    #3\n",
    "    for f in file_list:\n",
    "    \n",
    "        # assign static label\n",
    "        if \"shuf\" in f:\n",
    "            LABEL = f\"SHUF-{datatype}\"\n",
    "        else:\n",
    "            LABEL = datatype\n",
    "        #4\n",
    "        ID = f.split(\"/\")[-1]\n",
    "        \n",
    "        #5\n",
    "        df = pd.read_csv(f, sep='\\t')\n",
    "        \n",
    "        df[\"label\"], df[\"id\"] = LABEL, ID\n",
    "\n",
    "        df_list.append(df)    \n",
    "    #6\n",
    "    df = pd.concat(df_list)\n",
    "    \n",
    "    #7\n",
    "    nullo = df.loc[df[\"label\"] == datatype]\n",
    "    shuf = df.loc[df[\"label\"] != datatype]\n",
    "\n",
    "    return df, nullo, shuf"
   ]
  },
  {
   "cell_type": "code",
   "execution_count": 5,
   "id": "020a6fc5",
   "metadata": {
    "ExecuteTime": {
     "end_time": "2023-01-17T23:24:54.914017Z",
     "start_time": "2023-01-17T23:24:54.908356Z"
    }
   },
   "outputs": [],
   "source": [
    "def center_stats(nullo, shuf):\n",
    "    \"\"\"\n",
    "    print obs v. exp at center position stats w/ median values\n",
    "    \"\"\"\n",
    "    \n",
    "    # MIDPOINT - median summary stats \n",
    "    i, f = exp(nullo, shuf, \"50%\", 500)\n",
    "\n",
    "    # MIDPOINT-100 - median summary stats \n",
    "    i, f = exp(nullo, shuf, \"50%\", 400)\n",
    "\n",
    "    # MIDPOINT+100 - median summary stats \n",
    "    i, f = exp(nullo, shuf, \"50%\", 600)"
   ]
  },
  {
   "cell_type": "markdown",
   "id": "2baa941d",
   "metadata": {},
   "source": [
    "# old code for summary stats"
   ]
  },
  {
   "cell_type": "code",
   "execution_count": 6,
   "id": "d4278178",
   "metadata": {
    "ExecuteTime": {
     "end_time": "2023-01-17T23:24:57.347574Z",
     "start_time": "2023-01-17T23:24:57.113832Z"
    },
    "scrolled": true
   },
   "outputs": [
    {
     "ename": "NameError",
     "evalue": "name 'SETS' is not defined",
     "output_type": "error",
     "traceback": [
      "\u001b[0;31m---------------------------------------------------------------------------\u001b[0m",
      "\u001b[0;31mNameError\u001b[0m                                 Traceback (most recent call last)",
      "Cell \u001b[0;32mIn [6], line 2\u001b[0m\n\u001b[1;32m      1\u001b[0m lines \u001b[38;5;241m=\u001b[39m []  \u001b[38;5;66;03m# for collecting stats\u001b[39;00m\n\u001b[0;32m----> 2\u001b[0m \u001b[38;5;28;01mfor\u001b[39;00m DATATYPE, QUERY \u001b[38;5;129;01min\u001b[39;00m \u001b[43mSETS\u001b[49m:\n\u001b[1;32m      3\u001b[0m     \u001b[38;5;28mprint\u001b[39m(DATATYPE)\n\u001b[1;32m      4\u001b[0m     df, nullo, shuf \u001b[38;5;241m=\u001b[39m formatDf(DATATYPE, QUERY)\n",
      "\u001b[0;31mNameError\u001b[0m: name 'SETS' is not defined"
     ]
    }
   ],
   "source": [
    "lines = []  # for collecting stats\n",
    "for DATATYPE, QUERY in SETS:\n",
    "    print(DATATYPE)\n",
    "    df, nullo, shuf = formatDf(DATATYPE, QUERY)\n",
    "    break\n",
    "    ## plot each percentile + xranges \n",
    "\n",
    "    ys = [\"25%\", \"50%\", \"75%\"]\n",
    "    ranges = [(\"1kb\", [0,1000]), (\"0.2kb\", [400, 600]),  (\"0.1kb\", [450,550])]\n",
    "    \n",
    "    for y in ys:\n",
    "        for name, xrange in ranges:\n",
    "            out = os.path.join(RE, f\"phylop-{name}_{ANNOT}_{DATATYPE}-{y}.pdf\")\n",
    "            plot_line(y, df, out, DATATYPE, xrange)\n",
    "\n",
    "    ## plot counts of phylop values\n",
    "\n",
    "    fig, ax = plt.subplots(figsize=(6,6))\n",
    "    sns.lineplot(df, x=\"pos\", y= 'count', hue = \"label\")\n",
    "    ax.set(title = DATATYPE)\n",
    "    out = os.path.join(RE, f\"{DATATYPE}-count.pdf\")\n",
    "    plt.savefig(out)\n",
    "\n",
    "    ## plot everything together\n",
    "\n",
    "    for name, xrange in ranges:\n",
    "        out = os.path.join(RE, f\"phylop-{name}_{ANNOT}_{DATATYPE}.pdf\")\n",
    "\n",
    "        plot_lines(df, out, DATATYPE, xrange)\n",
    "        \n",
    "    ### empirical P for median phylop\n",
    "    # MIDPOINT - median summary stats \n",
    "\n",
    "    center_stats(nullo, shuf)\n",
    "    for pos in np.arange(0,1000):\n",
    "        \"\"\"\n",
    "        collect obs v exp stats\n",
    "        \"\"\"\n",
    "        i, f = exp(nullo, shuf, \"50%\", pos)\n",
    "\n",
    "        i.extend([pos,f\"{ANNOT}-{DATATYPE}\", \"50%\\n\"])\n",
    "        i = [str(item) for item in i]\n",
    "        line = \"\\t\".join(i)\n",
    "        lines.append(line)"
   ]
  },
  {
   "cell_type": "markdown",
   "id": "d5b76873",
   "metadata": {},
   "source": [
    "# new code for raw data"
   ]
  },
  {
   "cell_type": "code",
   "execution_count": 7,
   "id": "fec4120b",
   "metadata": {
    "ExecuteTime": {
     "end_time": "2023-01-17T23:25:00.187811Z",
     "start_time": "2023-01-17T23:25:00.141185Z"
    }
   },
   "outputs": [],
   "source": [
    "# get summary stats for phylop scores\n",
    "\n",
    "def q025(x):\n",
    "    return x.quantile(0.025)\n",
    "\n",
    "def q975(x):\n",
    "    return x.quantile(0.975)\n",
    "\n",
    "def getSummaryStats(file, value_col, matched_df):\n",
    "    \"\"\"\n",
    "    return summary stats for each position in a bed element\n",
    "    \n",
    "    input\n",
    "        file (str) - path to extracted bw vector file from above run\n",
    "        value_col (str) - name of column to calculate values on. \n",
    "        matched_df(pd dataframe) - GC matched element ids to keep. \n",
    "        \n",
    "    method\n",
    "        1. make a pandas dataframe out of the dictionary\n",
    "            \n",
    "            col 0-3 = CHR, START, STOP, Nullomer ID\n",
    "            col 4-1003 = each bp position score flanking nullomer\n",
    "            \n",
    "            col 503 = pre-nullomer locus.\n",
    "            \n",
    "            1.1 Formatting\n",
    "                - drop_duplicates() \n",
    "                - dropna()\n",
    "                \n",
    "            1.2 make id col for matching gc\n",
    "            1.3 filter for GC matching ids\n",
    "            1.4 drop id col\n",
    "\n",
    "    \n",
    "        2. turn dataframe into long form data, where 1 column is the position, and another column is the value\n",
    "            index on CHR, START, STOP, Nullomer ID\n",
    "            \n",
    "            - DROP NAN values. \n",
    "            \n",
    "        3. per position, bootstrap confidence intervals. \n",
    "        \n",
    "        4. compute summary stats per position across nullomer sequence for linsight scores.\n",
    "            4.1 also correct for\n",
    "        \n",
    "        5. write summary stats to outfile\n",
    "    \n",
    "    return \n",
    "    \n",
    "        summary stats outfile (str) - write summary stats as file, \n",
    "            ## so that stats can be done on empirical summary statistics. \n",
    "            \n",
    "        \n",
    "    \"\"\"\n",
    "    out = file.strip(\".txt\") + \"-SUMMARY_STATS_GC.txt\"\n",
    "    zipped = file + \".gz\" \n",
    "\n",
    "    if os.path.exists(out) is False:\n",
    "        \n",
    "        # if re-running stats\n",
    "        if os.path.exists(zipped) is True:\n",
    "            zippery.unzip_file(zipped)\n",
    "            \n",
    "        \n",
    "        #1 make a pandas dataframe\n",
    "        df = pd.read_csv(file, sep = '\\t', header = None, low_memory = False).drop_duplicates().dropna() #1.1\n",
    "\n",
    "        #1.2 \n",
    "        df[\"id\"] = df[0] + \":\" + df[1].map(str) + '-' +df[2].map(str)\n",
    "        \n",
    "        #1.3 GC match filter\n",
    "        if \"shuf\" in file:\n",
    "            keep = df.loc[df[\"id\"].isin(set(matched_df[\"id\"]))].copy() # keep only GC content matched elements\n",
    "        else:\n",
    "            keep = df\n",
    "            \n",
    "        print(df.shape, keep.shape)\n",
    "        \n",
    "        #1.4 drop id col\n",
    "        keep = keep.drop(columns =[\"id\"])\n",
    "        \n",
    "\n",
    "        #2\n",
    "        melted = pd.melt(keep, id_vars= keep.columns[:4], var_name=\"pos\", value_name=value_col)\n",
    "\n",
    "        #print(melted.shape, melted.head())\n",
    "\n",
    "        melted[value_col] = melted[value_col].astype(float)  # change data type\n",
    "        \n",
    "\n",
    "        f = {value_col: [q025, q975]}\n",
    "        ci = melted.groupby('pos').agg(f).reset_index()\n",
    "\n",
    "        #4\n",
    "        summary_stats = melted.groupby(\"pos\")[value_col].describe().reset_index()\n",
    "        summary_stats= summary_stats.join(ci)\n",
    "\n",
    "        #print(list(summary_stats))\n",
    "        \n",
    "\n",
    "        summary_stats[\"pos\"] = summary_stats[\"pos\"] - 4 # correct bp position \n",
    "                            \n",
    "\n",
    "        #5 \n",
    "        summary_stats.to_csv(out, sep ='\\t', index=False)\n",
    "\n",
    "        zippery.rezip_file(file)\n",
    "    \n",
    "    return out"
   ]
  },
  {
   "cell_type": "markdown",
   "id": "06baf585",
   "metadata": {},
   "source": [
    "# MATCH ON GC"
   ]
  },
  {
   "cell_type": "code",
   "execution_count": 8,
   "id": "a15ed9c6",
   "metadata": {
    "ExecuteTime": {
     "end_time": "2023-01-17T23:25:05.738411Z",
     "start_time": "2023-01-17T23:25:02.754203Z"
    }
   },
   "outputs": [
    {
     "data": {
      "text/html": [
       "<div>\n",
       "<style scoped>\n",
       "    .dataframe tbody tr th:only-of-type {\n",
       "        vertical-align: middle;\n",
       "    }\n",
       "\n",
       "    .dataframe tbody tr th {\n",
       "        vertical-align: top;\n",
       "    }\n",
       "\n",
       "    .dataframe thead th {\n",
       "        text-align: right;\n",
       "    }\n",
       "</style>\n",
       "<table border=\"1\" class=\"dataframe\">\n",
       "  <thead>\n",
       "    <tr style=\"text-align: right;\">\n",
       "      <th></th>\n",
       "      <th>id</th>\n",
       "      <th>gc_frac</th>\n",
       "      <th>gc_dinuc_frac</th>\n",
       "      <th>datatype</th>\n",
       "      <th>dist1bin</th>\n",
       "    </tr>\n",
       "  </thead>\n",
       "  <tbody>\n",
       "    <tr>\n",
       "      <th>0</th>\n",
       "      <td>chr22:37658728-37659729</td>\n",
       "      <td>0.728272</td>\n",
       "      <td>0.197802</td>\n",
       "      <td>SHUF-EXON</td>\n",
       "      <td>0.0</td>\n",
       "    </tr>\n",
       "    <tr>\n",
       "      <th>1</th>\n",
       "      <td>chr8:123273764-123274765</td>\n",
       "      <td>0.720280</td>\n",
       "      <td>0.152847</td>\n",
       "      <td>SHUF-EXON</td>\n",
       "      <td>0.0</td>\n",
       "    </tr>\n",
       "    <tr>\n",
       "      <th>2</th>\n",
       "      <td>chr15:40282038-40283039</td>\n",
       "      <td>0.749251</td>\n",
       "      <td>0.201798</td>\n",
       "      <td>SHUF-EXON</td>\n",
       "      <td>0.0</td>\n",
       "    </tr>\n",
       "    <tr>\n",
       "      <th>3</th>\n",
       "      <td>chr16:67666023-67667024</td>\n",
       "      <td>0.729271</td>\n",
       "      <td>0.166833</td>\n",
       "      <td>SHUF-EXON</td>\n",
       "      <td>0.0</td>\n",
       "    </tr>\n",
       "    <tr>\n",
       "      <th>4</th>\n",
       "      <td>chr5:132825384-132826385</td>\n",
       "      <td>0.725275</td>\n",
       "      <td>0.172827</td>\n",
       "      <td>SHUF-EXON</td>\n",
       "      <td>0.0</td>\n",
       "    </tr>\n",
       "  </tbody>\n",
       "</table>\n",
       "</div>"
      ],
      "text/plain": [
       "                         id   gc_frac  gc_dinuc_frac   datatype  dist1bin\n",
       "0   chr22:37658728-37659729  0.728272       0.197802  SHUF-EXON       0.0\n",
       "1  chr8:123273764-123274765  0.720280       0.152847  SHUF-EXON       0.0\n",
       "2   chr15:40282038-40283039  0.749251       0.201798  SHUF-EXON       0.0\n",
       "3   chr16:67666023-67667024  0.729271       0.166833  SHUF-EXON       0.0\n",
       "4  chr5:132825384-132826385  0.725275       0.172827  SHUF-EXON       0.0"
      ]
     },
     "execution_count": 8,
     "metadata": {},
     "output_type": "execute_result"
    }
   ],
   "source": [
    "MATCHED_GC = \"/wynton/home/ahituv/fongsl/nullomers/data/MATCHED_gc_frac_nbins-25.tsv\"\n",
    "matched = pd.read_csv(MATCHED_GC, sep='\\t')\n",
    "\n",
    "matched.head()"
   ]
  },
  {
   "cell_type": "code",
   "execution_count": null,
   "id": "3f222aaf",
   "metadata": {
    "ExecuteTime": {
     "start_time": "2023-01-17T23:25:08.275Z"
    }
   },
   "outputs": [
    {
     "name": "stdout",
     "output_type": "stream",
     "text": [
      "501\n",
      "(4255, 1005) (662, 1005)\n"
     ]
    },
    {
     "name": "stderr",
     "output_type": "stream",
     "text": [
      "/scratch/fongsl/ipykernel_12815/2031676860.py:95: FutureWarning: merging between different levels is deprecated and will be removed in a future version. (1 levels on the left, 2 on the right)\n",
      "  summary_stats= summary_stats.join(ci)\n",
      "gzip: /wynton/home/ahituv/fongsl/nullomers/data/phylop/shuf-mutations-uniq-woRMSK.GENCODE-exon_overlap-366-phylop.txt.gz already has .gz suffix -- unchanged\n"
     ]
    },
    {
     "name": "stdout",
     "output_type": "stream",
     "text": [
      "(4260, 1005) (606, 1005)\n"
     ]
    },
    {
     "name": "stderr",
     "output_type": "stream",
     "text": [
      "/scratch/fongsl/ipykernel_12815/2031676860.py:95: FutureWarning: merging between different levels is deprecated and will be removed in a future version. (1 levels on the left, 2 on the right)\n",
      "  summary_stats= summary_stats.join(ci)\n",
      "gzip: /wynton/home/ahituv/fongsl/nullomers/data/phylop/shuf-mutations-uniq-woRMSK.GENCODE-exon_overlap-370-phylop.txt.gz already has .gz suffix -- unchanged\n"
     ]
    },
    {
     "name": "stdout",
     "output_type": "stream",
     "text": [
      "(4248, 1005) (601, 1005)\n"
     ]
    },
    {
     "name": "stderr",
     "output_type": "stream",
     "text": [
      "/scratch/fongsl/ipykernel_12815/2031676860.py:95: FutureWarning: merging between different levels is deprecated and will be removed in a future version. (1 levels on the left, 2 on the right)\n",
      "  summary_stats= summary_stats.join(ci)\n",
      "gzip: /wynton/home/ahituv/fongsl/nullomers/data/phylop/shuf-mutations-uniq-woRMSK.GENCODE-exon_overlap-407-phylop.txt.gz already has .gz suffix -- unchanged\n"
     ]
    },
    {
     "name": "stdout",
     "output_type": "stream",
     "text": [
      "(4263, 1005) (567, 1005)\n"
     ]
    },
    {
     "name": "stderr",
     "output_type": "stream",
     "text": [
      "/scratch/fongsl/ipykernel_12815/2031676860.py:95: FutureWarning: merging between different levels is deprecated and will be removed in a future version. (1 levels on the left, 2 on the right)\n",
      "  summary_stats= summary_stats.join(ci)\n",
      "gzip: /wynton/home/ahituv/fongsl/nullomers/data/phylop/shuf-mutations-uniq-woRMSK.GENCODE-exon_overlap-419-phylop.txt.gz already has .gz suffix -- unchanged\n"
     ]
    },
    {
     "name": "stdout",
     "output_type": "stream",
     "text": [
      "(4254, 1005) (625, 1005)\n"
     ]
    },
    {
     "name": "stderr",
     "output_type": "stream",
     "text": [
      "/scratch/fongsl/ipykernel_12815/2031676860.py:95: FutureWarning: merging between different levels is deprecated and will be removed in a future version. (1 levels on the left, 2 on the right)\n",
      "  summary_stats= summary_stats.join(ci)\n",
      "gzip: /wynton/home/ahituv/fongsl/nullomers/data/phylop/shuf-mutations-uniq-woRMSK.GENCODE-exon_overlap-397-phylop.txt.gz already has .gz suffix -- unchanged\n"
     ]
    },
    {
     "name": "stdout",
     "output_type": "stream",
     "text": [
      "(4266, 1005) (641, 1005)\n"
     ]
    },
    {
     "name": "stderr",
     "output_type": "stream",
     "text": [
      "/scratch/fongsl/ipykernel_12815/2031676860.py:95: FutureWarning: merging between different levels is deprecated and will be removed in a future version. (1 levels on the left, 2 on the right)\n",
      "  summary_stats= summary_stats.join(ci)\n",
      "gzip: /wynton/home/ahituv/fongsl/nullomers/data/phylop/shuf-mutations-uniq-woRMSK.GENCODE-exon_overlap-400-phylop.txt.gz already has .gz suffix -- unchanged\n"
     ]
    },
    {
     "name": "stdout",
     "output_type": "stream",
     "text": [
      "(4252, 1005) (615, 1005)\n"
     ]
    },
    {
     "name": "stderr",
     "output_type": "stream",
     "text": [
      "/scratch/fongsl/ipykernel_12815/2031676860.py:95: FutureWarning: merging between different levels is deprecated and will be removed in a future version. (1 levels on the left, 2 on the right)\n",
      "  summary_stats= summary_stats.join(ci)\n",
      "gzip: /wynton/home/ahituv/fongsl/nullomers/data/phylop/shuf-mutations-uniq-woRMSK.GENCODE-exon_overlap-395-phylop.txt.gz already has .gz suffix -- unchanged\n"
     ]
    },
    {
     "name": "stdout",
     "output_type": "stream",
     "text": [
      "(4245, 1005) (589, 1005)\n"
     ]
    },
    {
     "name": "stderr",
     "output_type": "stream",
     "text": [
      "/scratch/fongsl/ipykernel_12815/2031676860.py:95: FutureWarning: merging between different levels is deprecated and will be removed in a future version. (1 levels on the left, 2 on the right)\n",
      "  summary_stats= summary_stats.join(ci)\n",
      "gzip: /wynton/home/ahituv/fongsl/nullomers/data/phylop/shuf-mutations-uniq-woRMSK.GENCODE-exon_overlap-426-phylop.txt.gz already has .gz suffix -- unchanged\n"
     ]
    },
    {
     "name": "stdout",
     "output_type": "stream",
     "text": [
      "(4250, 1005) (611, 1005)\n"
     ]
    },
    {
     "name": "stderr",
     "output_type": "stream",
     "text": [
      "/scratch/fongsl/ipykernel_12815/2031676860.py:95: FutureWarning: merging between different levels is deprecated and will be removed in a future version. (1 levels on the left, 2 on the right)\n",
      "  summary_stats= summary_stats.join(ci)\n",
      "gzip: /wynton/home/ahituv/fongsl/nullomers/data/phylop/shuf-mutations-uniq-woRMSK.GENCODE-exon_overlap-423-phylop.txt.gz already has .gz suffix -- unchanged\n"
     ]
    },
    {
     "name": "stdout",
     "output_type": "stream",
     "text": [
      "(4250, 1005) (658, 1005)\n"
     ]
    },
    {
     "name": "stderr",
     "output_type": "stream",
     "text": [
      "/scratch/fongsl/ipykernel_12815/2031676860.py:95: FutureWarning: merging between different levels is deprecated and will be removed in a future version. (1 levels on the left, 2 on the right)\n",
      "  summary_stats= summary_stats.join(ci)\n",
      "gzip: /wynton/home/ahituv/fongsl/nullomers/data/phylop/shuf-mutations-uniq-woRMSK.GENCODE-exon_overlap-387-phylop.txt.gz already has .gz suffix -- unchanged\n"
     ]
    },
    {
     "name": "stdout",
     "output_type": "stream",
     "text": [
      "(4255, 1005) (666, 1005)\n"
     ]
    },
    {
     "name": "stderr",
     "output_type": "stream",
     "text": [
      "/scratch/fongsl/ipykernel_12815/2031676860.py:95: FutureWarning: merging between different levels is deprecated and will be removed in a future version. (1 levels on the left, 2 on the right)\n",
      "  summary_stats= summary_stats.join(ci)\n",
      "gzip: /wynton/home/ahituv/fongsl/nullomers/data/phylop/shuf-mutations-uniq-woRMSK.GENCODE-exon_overlap-412-phylop.txt.gz already has .gz suffix -- unchanged\n"
     ]
    },
    {
     "name": "stdout",
     "output_type": "stream",
     "text": [
      "(4248, 1005) (639, 1005)\n"
     ]
    },
    {
     "name": "stderr",
     "output_type": "stream",
     "text": [
      "/scratch/fongsl/ipykernel_12815/2031676860.py:95: FutureWarning: merging between different levels is deprecated and will be removed in a future version. (1 levels on the left, 2 on the right)\n",
      "  summary_stats= summary_stats.join(ci)\n",
      "gzip: /wynton/home/ahituv/fongsl/nullomers/data/phylop/shuf-mutations-uniq-woRMSK.GENCODE-exon_overlap-411-phylop.txt.gz already has .gz suffix -- unchanged\n"
     ]
    },
    {
     "name": "stdout",
     "output_type": "stream",
     "text": [
      "(4255, 1005) (634, 1005)\n"
     ]
    },
    {
     "name": "stderr",
     "output_type": "stream",
     "text": [
      "/scratch/fongsl/ipykernel_12815/2031676860.py:95: FutureWarning: merging between different levels is deprecated and will be removed in a future version. (1 levels on the left, 2 on the right)\n",
      "  summary_stats= summary_stats.join(ci)\n",
      "gzip: /wynton/home/ahituv/fongsl/nullomers/data/phylop/shuf-mutations-uniq-woRMSK.GENCODE-exon_overlap-396-phylop.txt.gz already has .gz suffix -- unchanged\n"
     ]
    },
    {
     "name": "stdout",
     "output_type": "stream",
     "text": [
      "(4257, 1005) (601, 1005)\n"
     ]
    },
    {
     "name": "stderr",
     "output_type": "stream",
     "text": [
      "/scratch/fongsl/ipykernel_12815/2031676860.py:95: FutureWarning: merging between different levels is deprecated and will be removed in a future version. (1 levels on the left, 2 on the right)\n",
      "  summary_stats= summary_stats.join(ci)\n",
      "gzip: /wynton/home/ahituv/fongsl/nullomers/data/phylop/shuf-mutations-uniq-woRMSK.GENCODE-exon_overlap-414-phylop.txt.gz already has .gz suffix -- unchanged\n"
     ]
    },
    {
     "name": "stdout",
     "output_type": "stream",
     "text": [
      "(4257, 1005) (660, 1005)\n"
     ]
    },
    {
     "name": "stderr",
     "output_type": "stream",
     "text": [
      "/scratch/fongsl/ipykernel_12815/2031676860.py:95: FutureWarning: merging between different levels is deprecated and will be removed in a future version. (1 levels on the left, 2 on the right)\n",
      "  summary_stats= summary_stats.join(ci)\n",
      "gzip: /wynton/home/ahituv/fongsl/nullomers/data/phylop/shuf-mutations-uniq-woRMSK.GENCODE-exon_overlap-381-phylop.txt.gz already has .gz suffix -- unchanged\n"
     ]
    },
    {
     "name": "stdout",
     "output_type": "stream",
     "text": [
      "(4255, 1005) (646, 1005)\n"
     ]
    },
    {
     "name": "stderr",
     "output_type": "stream",
     "text": [
      "/scratch/fongsl/ipykernel_12815/2031676860.py:95: FutureWarning: merging between different levels is deprecated and will be removed in a future version. (1 levels on the left, 2 on the right)\n",
      "  summary_stats= summary_stats.join(ci)\n",
      "gzip: /wynton/home/ahituv/fongsl/nullomers/data/phylop/shuf-mutations-uniq-woRMSK.GENCODE-exon_overlap-398-phylop.txt.gz already has .gz suffix -- unchanged\n"
     ]
    },
    {
     "name": "stdout",
     "output_type": "stream",
     "text": [
      "(4263, 1005) (645, 1005)\n"
     ]
    },
    {
     "name": "stderr",
     "output_type": "stream",
     "text": [
      "/scratch/fongsl/ipykernel_12815/2031676860.py:95: FutureWarning: merging between different levels is deprecated and will be removed in a future version. (1 levels on the left, 2 on the right)\n",
      "  summary_stats= summary_stats.join(ci)\n",
      "gzip: /wynton/home/ahituv/fongsl/nullomers/data/phylop/shuf-mutations-uniq-woRMSK.GENCODE-exon_overlap-385-phylop.txt.gz already has .gz suffix -- unchanged\n"
     ]
    },
    {
     "name": "stdout",
     "output_type": "stream",
     "text": [
      "(4261, 1005) (650, 1005)\n"
     ]
    },
    {
     "name": "stderr",
     "output_type": "stream",
     "text": [
      "/scratch/fongsl/ipykernel_12815/2031676860.py:95: FutureWarning: merging between different levels is deprecated and will be removed in a future version. (1 levels on the left, 2 on the right)\n",
      "  summary_stats= summary_stats.join(ci)\n",
      "gzip: /wynton/home/ahituv/fongsl/nullomers/data/phylop/shuf-mutations-uniq-woRMSK.GENCODE-exon_overlap-391-phylop.txt.gz already has .gz suffix -- unchanged\n"
     ]
    },
    {
     "name": "stdout",
     "output_type": "stream",
     "text": [
      "(4263, 1005) (589, 1005)\n"
     ]
    },
    {
     "name": "stderr",
     "output_type": "stream",
     "text": [
      "/scratch/fongsl/ipykernel_12815/2031676860.py:95: FutureWarning: merging between different levels is deprecated and will be removed in a future version. (1 levels on the left, 2 on the right)\n",
      "  summary_stats= summary_stats.join(ci)\n",
      "gzip: /wynton/home/ahituv/fongsl/nullomers/data/phylop/shuf-mutations-uniq-woRMSK.GENCODE-exon_overlap-386-phylop.txt.gz already has .gz suffix -- unchanged\n"
     ]
    },
    {
     "name": "stdout",
     "output_type": "stream",
     "text": [
      "(4262, 1005) (624, 1005)\n"
     ]
    },
    {
     "name": "stderr",
     "output_type": "stream",
     "text": [
      "/scratch/fongsl/ipykernel_12815/2031676860.py:95: FutureWarning: merging between different levels is deprecated and will be removed in a future version. (1 levels on the left, 2 on the right)\n",
      "  summary_stats= summary_stats.join(ci)\n",
      "gzip: /wynton/home/ahituv/fongsl/nullomers/data/phylop/shuf-mutations-uniq-woRMSK.GENCODE-exon_overlap-392-phylop.txt.gz already has .gz suffix -- unchanged\n"
     ]
    },
    {
     "name": "stdout",
     "output_type": "stream",
     "text": [
      "(4253, 1005) (610, 1005)\n"
     ]
    },
    {
     "name": "stderr",
     "output_type": "stream",
     "text": [
      "/scratch/fongsl/ipykernel_12815/2031676860.py:95: FutureWarning: merging between different levels is deprecated and will be removed in a future version. (1 levels on the left, 2 on the right)\n",
      "  summary_stats= summary_stats.join(ci)\n",
      "gzip: /wynton/home/ahituv/fongsl/nullomers/data/phylop/shuf-mutations-uniq-woRMSK.GENCODE-exon_overlap-388-phylop.txt.gz already has .gz suffix -- unchanged\n"
     ]
    },
    {
     "name": "stdout",
     "output_type": "stream",
     "text": [
      "(4255, 1005) (672, 1005)\n"
     ]
    },
    {
     "name": "stderr",
     "output_type": "stream",
     "text": [
      "/scratch/fongsl/ipykernel_12815/2031676860.py:95: FutureWarning: merging between different levels is deprecated and will be removed in a future version. (1 levels on the left, 2 on the right)\n",
      "  summary_stats= summary_stats.join(ci)\n",
      "gzip: /wynton/home/ahituv/fongsl/nullomers/data/phylop/shuf-mutations-uniq-woRMSK.GENCODE-exon_overlap-390-phylop.txt.gz already has .gz suffix -- unchanged\n"
     ]
    },
    {
     "name": "stdout",
     "output_type": "stream",
     "text": [
      "(4259, 1005) (634, 1005)\n"
     ]
    },
    {
     "name": "stderr",
     "output_type": "stream",
     "text": [
      "/scratch/fongsl/ipykernel_12815/2031676860.py:95: FutureWarning: merging between different levels is deprecated and will be removed in a future version. (1 levels on the left, 2 on the right)\n",
      "  summary_stats= summary_stats.join(ci)\n",
      "gzip: /wynton/home/ahituv/fongsl/nullomers/data/phylop/shuf-mutations-uniq-woRMSK.GENCODE-exon_overlap-389-phylop.txt.gz already has .gz suffix -- unchanged\n"
     ]
    },
    {
     "name": "stdout",
     "output_type": "stream",
     "text": [
      "(4262, 1005) (673, 1005)\n"
     ]
    },
    {
     "name": "stderr",
     "output_type": "stream",
     "text": [
      "/scratch/fongsl/ipykernel_12815/2031676860.py:95: FutureWarning: merging between different levels is deprecated and will be removed in a future version. (1 levels on the left, 2 on the right)\n",
      "  summary_stats= summary_stats.join(ci)\n",
      "gzip: /wynton/home/ahituv/fongsl/nullomers/data/phylop/shuf-mutations-uniq-woRMSK.GENCODE-exon_overlap-399-phylop.txt.gz already has .gz suffix -- unchanged\n"
     ]
    },
    {
     "name": "stdout",
     "output_type": "stream",
     "text": [
      "(4254, 1005) (634, 1005)\n"
     ]
    },
    {
     "name": "stderr",
     "output_type": "stream",
     "text": [
      "/scratch/fongsl/ipykernel_12815/2031676860.py:95: FutureWarning: merging between different levels is deprecated and will be removed in a future version. (1 levels on the left, 2 on the right)\n",
      "  summary_stats= summary_stats.join(ci)\n",
      "gzip: /wynton/home/ahituv/fongsl/nullomers/data/phylop/shuf-mutations-uniq-woRMSK.GENCODE-exon_overlap-382-phylop.txt.gz already has .gz suffix -- unchanged\n"
     ]
    },
    {
     "name": "stdout",
     "output_type": "stream",
     "text": [
      "(4249, 1005) (606, 1005)\n"
     ]
    },
    {
     "name": "stderr",
     "output_type": "stream",
     "text": [
      "/scratch/fongsl/ipykernel_12815/2031676860.py:95: FutureWarning: merging between different levels is deprecated and will be removed in a future version. (1 levels on the left, 2 on the right)\n",
      "  summary_stats= summary_stats.join(ci)\n",
      "gzip: /wynton/home/ahituv/fongsl/nullomers/data/phylop/shuf-mutations-uniq-woRMSK.GENCODE-exon_overlap-403-phylop.txt.gz already has .gz suffix -- unchanged\n"
     ]
    },
    {
     "name": "stdout",
     "output_type": "stream",
     "text": [
      "(4249, 1005) (602, 1005)\n"
     ]
    },
    {
     "name": "stderr",
     "output_type": "stream",
     "text": [
      "/scratch/fongsl/ipykernel_12815/2031676860.py:95: FutureWarning: merging between different levels is deprecated and will be removed in a future version. (1 levels on the left, 2 on the right)\n",
      "  summary_stats= summary_stats.join(ci)\n",
      "gzip: /wynton/home/ahituv/fongsl/nullomers/data/phylop/shuf-mutations-uniq-woRMSK.GENCODE-exon_overlap-401-phylop.txt.gz already has .gz suffix -- unchanged\n"
     ]
    },
    {
     "name": "stdout",
     "output_type": "stream",
     "text": [
      "(4253, 1005) (607, 1005)\n"
     ]
    },
    {
     "name": "stderr",
     "output_type": "stream",
     "text": [
      "/scratch/fongsl/ipykernel_12815/2031676860.py:95: FutureWarning: merging between different levels is deprecated and will be removed in a future version. (1 levels on the left, 2 on the right)\n",
      "  summary_stats= summary_stats.join(ci)\n",
      "gzip: /wynton/home/ahituv/fongsl/nullomers/data/phylop/shuf-mutations-uniq-woRMSK.GENCODE-exon_overlap-408-phylop.txt.gz already has .gz suffix -- unchanged\n"
     ]
    },
    {
     "name": "stdout",
     "output_type": "stream",
     "text": [
      "(4257, 1005) (634, 1005)\n"
     ]
    },
    {
     "name": "stderr",
     "output_type": "stream",
     "text": [
      "/scratch/fongsl/ipykernel_12815/2031676860.py:95: FutureWarning: merging between different levels is deprecated and will be removed in a future version. (1 levels on the left, 2 on the right)\n",
      "  summary_stats= summary_stats.join(ci)\n",
      "gzip: /wynton/home/ahituv/fongsl/nullomers/data/phylop/shuf-mutations-uniq-woRMSK.GENCODE-exon_overlap-424-phylop.txt.gz already has .gz suffix -- unchanged\n"
     ]
    },
    {
     "name": "stdout",
     "output_type": "stream",
     "text": [
      "(4257, 1005) (630, 1005)\n"
     ]
    },
    {
     "name": "stderr",
     "output_type": "stream",
     "text": [
      "/scratch/fongsl/ipykernel_12815/2031676860.py:95: FutureWarning: merging between different levels is deprecated and will be removed in a future version. (1 levels on the left, 2 on the right)\n",
      "  summary_stats= summary_stats.join(ci)\n",
      "gzip: /wynton/home/ahituv/fongsl/nullomers/data/phylop/shuf-mutations-uniq-woRMSK.GENCODE-exon_overlap-410-phylop.txt.gz already has .gz suffix -- unchanged\n"
     ]
    },
    {
     "name": "stdout",
     "output_type": "stream",
     "text": [
      "(4256, 1005) (640, 1005)\n"
     ]
    },
    {
     "name": "stderr",
     "output_type": "stream",
     "text": [
      "/scratch/fongsl/ipykernel_12815/2031676860.py:95: FutureWarning: merging between different levels is deprecated and will be removed in a future version. (1 levels on the left, 2 on the right)\n",
      "  summary_stats= summary_stats.join(ci)\n",
      "gzip: /wynton/home/ahituv/fongsl/nullomers/data/phylop/shuf-mutations-uniq-woRMSK.GENCODE-exon_overlap-405-phylop.txt.gz already has .gz suffix -- unchanged\n"
     ]
    },
    {
     "name": "stdout",
     "output_type": "stream",
     "text": [
      "(4258, 1005) (620, 1005)\n"
     ]
    },
    {
     "name": "stderr",
     "output_type": "stream",
     "text": [
      "/scratch/fongsl/ipykernel_12815/2031676860.py:95: FutureWarning: merging between different levels is deprecated and will be removed in a future version. (1 levels on the left, 2 on the right)\n",
      "  summary_stats= summary_stats.join(ci)\n",
      "gzip: /wynton/home/ahituv/fongsl/nullomers/data/phylop/shuf-mutations-uniq-woRMSK.GENCODE-exon_overlap-422-phylop.txt.gz already has .gz suffix -- unchanged\n"
     ]
    },
    {
     "name": "stdout",
     "output_type": "stream",
     "text": [
      "(4250, 1005) (678, 1005)\n"
     ]
    },
    {
     "name": "stderr",
     "output_type": "stream",
     "text": [
      "/scratch/fongsl/ipykernel_12815/2031676860.py:95: FutureWarning: merging between different levels is deprecated and will be removed in a future version. (1 levels on the left, 2 on the right)\n",
      "  summary_stats= summary_stats.join(ci)\n",
      "gzip: /wynton/home/ahituv/fongsl/nullomers/data/phylop/shuf-mutations-uniq-woRMSK.GENCODE-exon_overlap-437-phylop.txt.gz already has .gz suffix -- unchanged\n"
     ]
    },
    {
     "name": "stdout",
     "output_type": "stream",
     "text": [
      "(4254, 1005) (633, 1005)\n"
     ]
    },
    {
     "name": "stderr",
     "output_type": "stream",
     "text": [
      "/scratch/fongsl/ipykernel_12815/2031676860.py:95: FutureWarning: merging between different levels is deprecated and will be removed in a future version. (1 levels on the left, 2 on the right)\n",
      "  summary_stats= summary_stats.join(ci)\n",
      "gzip: /wynton/home/ahituv/fongsl/nullomers/data/phylop/shuf-mutations-uniq-woRMSK.GENCODE-exon_overlap-406-phylop.txt.gz already has .gz suffix -- unchanged\n"
     ]
    },
    {
     "name": "stdout",
     "output_type": "stream",
     "text": [
      "(4261, 1005) (608, 1005)\n"
     ]
    },
    {
     "name": "stderr",
     "output_type": "stream",
     "text": [
      "/scratch/fongsl/ipykernel_12815/2031676860.py:95: FutureWarning: merging between different levels is deprecated and will be removed in a future version. (1 levels on the left, 2 on the right)\n",
      "  summary_stats= summary_stats.join(ci)\n",
      "gzip: /wynton/home/ahituv/fongsl/nullomers/data/phylop/shuf-mutations-uniq-woRMSK.GENCODE-exon_overlap-418-phylop.txt.gz already has .gz suffix -- unchanged\n"
     ]
    },
    {
     "name": "stdout",
     "output_type": "stream",
     "text": [
      "(4250, 1005) (617, 1005)\n"
     ]
    },
    {
     "name": "stderr",
     "output_type": "stream",
     "text": [
      "/scratch/fongsl/ipykernel_12815/2031676860.py:95: FutureWarning: merging between different levels is deprecated and will be removed in a future version. (1 levels on the left, 2 on the right)\n",
      "  summary_stats= summary_stats.join(ci)\n",
      "gzip: /wynton/home/ahituv/fongsl/nullomers/data/phylop/shuf-mutations-uniq-woRMSK.GENCODE-exon_overlap-421-phylop.txt.gz already has .gz suffix -- unchanged\n"
     ]
    },
    {
     "name": "stdout",
     "output_type": "stream",
     "text": [
      "(4261, 1005) (618, 1005)\n"
     ]
    },
    {
     "name": "stderr",
     "output_type": "stream",
     "text": [
      "/scratch/fongsl/ipykernel_12815/2031676860.py:95: FutureWarning: merging between different levels is deprecated and will be removed in a future version. (1 levels on the left, 2 on the right)\n",
      "  summary_stats= summary_stats.join(ci)\n",
      "gzip: /wynton/home/ahituv/fongsl/nullomers/data/phylop/shuf-mutations-uniq-woRMSK.GENCODE-exon_overlap-415-phylop.txt.gz already has .gz suffix -- unchanged\n"
     ]
    },
    {
     "name": "stdout",
     "output_type": "stream",
     "text": [
      "(4244, 1005) (660, 1005)\n"
     ]
    },
    {
     "name": "stderr",
     "output_type": "stream",
     "text": [
      "/scratch/fongsl/ipykernel_12815/2031676860.py:95: FutureWarning: merging between different levels is deprecated and will be removed in a future version. (1 levels on the left, 2 on the right)\n",
      "  summary_stats= summary_stats.join(ci)\n",
      "gzip: /wynton/home/ahituv/fongsl/nullomers/data/phylop/shuf-mutations-uniq-woRMSK.GENCODE-exon_overlap-420-phylop.txt.gz already has .gz suffix -- unchanged\n"
     ]
    },
    {
     "name": "stdout",
     "output_type": "stream",
     "text": [
      "(4244, 1005) (650, 1005)\n"
     ]
    },
    {
     "name": "stderr",
     "output_type": "stream",
     "text": [
      "/scratch/fongsl/ipykernel_12815/2031676860.py:95: FutureWarning: merging between different levels is deprecated and will be removed in a future version. (1 levels on the left, 2 on the right)\n",
      "  summary_stats= summary_stats.join(ci)\n",
      "gzip: /wynton/home/ahituv/fongsl/nullomers/data/phylop/shuf-mutations-uniq-woRMSK.GENCODE-exon_overlap-413-phylop.txt.gz already has .gz suffix -- unchanged\n"
     ]
    },
    {
     "name": "stdout",
     "output_type": "stream",
     "text": [
      "(4250, 1005) (616, 1005)\n"
     ]
    },
    {
     "name": "stderr",
     "output_type": "stream",
     "text": [
      "/scratch/fongsl/ipykernel_12815/2031676860.py:95: FutureWarning: merging between different levels is deprecated and will be removed in a future version. (1 levels on the left, 2 on the right)\n",
      "  summary_stats= summary_stats.join(ci)\n",
      "gzip: /wynton/home/ahituv/fongsl/nullomers/data/phylop/shuf-mutations-uniq-woRMSK.GENCODE-exon_overlap-417-phylop.txt.gz already has .gz suffix -- unchanged\n"
     ]
    },
    {
     "name": "stdout",
     "output_type": "stream",
     "text": [
      "(4255, 1005) (610, 1005)\n"
     ]
    },
    {
     "name": "stderr",
     "output_type": "stream",
     "text": [
      "/scratch/fongsl/ipykernel_12815/2031676860.py:95: FutureWarning: merging between different levels is deprecated and will be removed in a future version. (1 levels on the left, 2 on the right)\n",
      "  summary_stats= summary_stats.join(ci)\n",
      "gzip: /wynton/home/ahituv/fongsl/nullomers/data/phylop/shuf-mutations-uniq-woRMSK.GENCODE-exon_overlap-416-phylop.txt.gz already has .gz suffix -- unchanged\n"
     ]
    },
    {
     "name": "stdout",
     "output_type": "stream",
     "text": [
      "(4256, 1005) (611, 1005)\n"
     ]
    },
    {
     "name": "stderr",
     "output_type": "stream",
     "text": [
      "/scratch/fongsl/ipykernel_12815/2031676860.py:95: FutureWarning: merging between different levels is deprecated and will be removed in a future version. (1 levels on the left, 2 on the right)\n",
      "  summary_stats= summary_stats.join(ci)\n",
      "gzip: /wynton/home/ahituv/fongsl/nullomers/data/phylop/shuf-mutations-uniq-woRMSK.GENCODE-exon_overlap-432-phylop.txt.gz already has .gz suffix -- unchanged\n"
     ]
    },
    {
     "name": "stdout",
     "output_type": "stream",
     "text": [
      "(4263, 1005) (595, 1005)\n"
     ]
    },
    {
     "name": "stderr",
     "output_type": "stream",
     "text": [
      "/scratch/fongsl/ipykernel_12815/2031676860.py:95: FutureWarning: merging between different levels is deprecated and will be removed in a future version. (1 levels on the left, 2 on the right)\n",
      "  summary_stats= summary_stats.join(ci)\n",
      "gzip: /wynton/home/ahituv/fongsl/nullomers/data/phylop/shuf-mutations-uniq-woRMSK.GENCODE-exon_overlap-409-phylop.txt.gz already has .gz suffix -- unchanged\n"
     ]
    },
    {
     "name": "stdout",
     "output_type": "stream",
     "text": [
      "(4255, 1005) (650, 1005)\n"
     ]
    },
    {
     "name": "stderr",
     "output_type": "stream",
     "text": [
      "/scratch/fongsl/ipykernel_12815/2031676860.py:95: FutureWarning: merging between different levels is deprecated and will be removed in a future version. (1 levels on the left, 2 on the right)\n",
      "  summary_stats= summary_stats.join(ci)\n",
      "gzip: /wynton/home/ahituv/fongsl/nullomers/data/phylop/shuf-mutations-uniq-woRMSK.GENCODE-exon_overlap-427-phylop.txt.gz already has .gz suffix -- unchanged\n"
     ]
    },
    {
     "name": "stdout",
     "output_type": "stream",
     "text": [
      "(4260, 1005) (649, 1005)\n"
     ]
    },
    {
     "name": "stderr",
     "output_type": "stream",
     "text": [
      "/scratch/fongsl/ipykernel_12815/2031676860.py:95: FutureWarning: merging between different levels is deprecated and will be removed in a future version. (1 levels on the left, 2 on the right)\n",
      "  summary_stats= summary_stats.join(ci)\n",
      "gzip: /wynton/home/ahituv/fongsl/nullomers/data/phylop/shuf-mutations-uniq-woRMSK.GENCODE-exon_overlap-425-phylop.txt.gz already has .gz suffix -- unchanged\n"
     ]
    },
    {
     "name": "stdout",
     "output_type": "stream",
     "text": [
      "(4256, 1005) (612, 1005)\n"
     ]
    },
    {
     "name": "stderr",
     "output_type": "stream",
     "text": [
      "/scratch/fongsl/ipykernel_12815/2031676860.py:95: FutureWarning: merging between different levels is deprecated and will be removed in a future version. (1 levels on the left, 2 on the right)\n",
      "  summary_stats= summary_stats.join(ci)\n",
      "gzip: /wynton/home/ahituv/fongsl/nullomers/data/phylop/shuf-mutations-uniq-woRMSK.GENCODE-exon_overlap-431-phylop.txt.gz already has .gz suffix -- unchanged\n"
     ]
    },
    {
     "name": "stdout",
     "output_type": "stream",
     "text": [
      "(4256, 1005) (629, 1005)\n"
     ]
    },
    {
     "name": "stderr",
     "output_type": "stream",
     "text": [
      "/scratch/fongsl/ipykernel_12815/2031676860.py:95: FutureWarning: merging between different levels is deprecated and will be removed in a future version. (1 levels on the left, 2 on the right)\n",
      "  summary_stats= summary_stats.join(ci)\n",
      "gzip: /wynton/home/ahituv/fongsl/nullomers/data/phylop/shuf-mutations-uniq-woRMSK.GENCODE-exon_overlap-428-phylop.txt.gz already has .gz suffix -- unchanged\n"
     ]
    },
    {
     "name": "stdout",
     "output_type": "stream",
     "text": [
      "(4261, 1005) (605, 1005)\n"
     ]
    },
    {
     "name": "stderr",
     "output_type": "stream",
     "text": [
      "/scratch/fongsl/ipykernel_12815/2031676860.py:95: FutureWarning: merging between different levels is deprecated and will be removed in a future version. (1 levels on the left, 2 on the right)\n",
      "  summary_stats= summary_stats.join(ci)\n",
      "gzip: /wynton/home/ahituv/fongsl/nullomers/data/phylop/shuf-mutations-uniq-woRMSK.GENCODE-exon_overlap-462-phylop.txt.gz already has .gz suffix -- unchanged\n"
     ]
    },
    {
     "name": "stdout",
     "output_type": "stream",
     "text": [
      "(4257, 1005) (612, 1005)\n"
     ]
    },
    {
     "name": "stderr",
     "output_type": "stream",
     "text": [
      "/scratch/fongsl/ipykernel_12815/2031676860.py:95: FutureWarning: merging between different levels is deprecated and will be removed in a future version. (1 levels on the left, 2 on the right)\n",
      "  summary_stats= summary_stats.join(ci)\n",
      "gzip: /wynton/home/ahituv/fongsl/nullomers/data/phylop/shuf-mutations-uniq-woRMSK.GENCODE-exon_overlap-430-phylop.txt.gz already has .gz suffix -- unchanged\n"
     ]
    },
    {
     "name": "stdout",
     "output_type": "stream",
     "text": [
      "(4258, 1005) (604, 1005)\n"
     ]
    },
    {
     "name": "stderr",
     "output_type": "stream",
     "text": [
      "/scratch/fongsl/ipykernel_12815/2031676860.py:95: FutureWarning: merging between different levels is deprecated and will be removed in a future version. (1 levels on the left, 2 on the right)\n",
      "  summary_stats= summary_stats.join(ci)\n",
      "gzip: /wynton/home/ahituv/fongsl/nullomers/data/phylop/shuf-mutations-uniq-woRMSK.GENCODE-exon_overlap-435-phylop.txt.gz already has .gz suffix -- unchanged\n"
     ]
    },
    {
     "name": "stdout",
     "output_type": "stream",
     "text": [
      "(4258, 1005) (637, 1005)\n"
     ]
    },
    {
     "name": "stderr",
     "output_type": "stream",
     "text": [
      "/scratch/fongsl/ipykernel_12815/2031676860.py:95: FutureWarning: merging between different levels is deprecated and will be removed in a future version. (1 levels on the left, 2 on the right)\n",
      "  summary_stats= summary_stats.join(ci)\n",
      "gzip: /wynton/home/ahituv/fongsl/nullomers/data/phylop/shuf-mutations-uniq-woRMSK.GENCODE-exon_overlap-436-phylop.txt.gz already has .gz suffix -- unchanged\n"
     ]
    },
    {
     "name": "stdout",
     "output_type": "stream",
     "text": [
      "(4254, 1005) (622, 1005)\n"
     ]
    },
    {
     "name": "stderr",
     "output_type": "stream",
     "text": [
      "/scratch/fongsl/ipykernel_12815/2031676860.py:95: FutureWarning: merging between different levels is deprecated and will be removed in a future version. (1 levels on the left, 2 on the right)\n",
      "  summary_stats= summary_stats.join(ci)\n",
      "gzip: /wynton/home/ahituv/fongsl/nullomers/data/phylop/shuf-mutations-uniq-woRMSK.GENCODE-exon_overlap-429-phylop.txt.gz already has .gz suffix -- unchanged\n"
     ]
    },
    {
     "name": "stdout",
     "output_type": "stream",
     "text": [
      "(4253, 1005) (665, 1005)\n"
     ]
    },
    {
     "name": "stderr",
     "output_type": "stream",
     "text": [
      "/scratch/fongsl/ipykernel_12815/2031676860.py:95: FutureWarning: merging between different levels is deprecated and will be removed in a future version. (1 levels on the left, 2 on the right)\n",
      "  summary_stats= summary_stats.join(ci)\n",
      "gzip: /wynton/home/ahituv/fongsl/nullomers/data/phylop/shuf-mutations-uniq-woRMSK.GENCODE-exon_overlap-434-phylop.txt.gz already has .gz suffix -- unchanged\n"
     ]
    },
    {
     "name": "stdout",
     "output_type": "stream",
     "text": [
      "(4243, 1005) (654, 1005)\n"
     ]
    },
    {
     "name": "stderr",
     "output_type": "stream",
     "text": [
      "/scratch/fongsl/ipykernel_12815/2031676860.py:95: FutureWarning: merging between different levels is deprecated and will be removed in a future version. (1 levels on the left, 2 on the right)\n",
      "  summary_stats= summary_stats.join(ci)\n",
      "gzip: /wynton/home/ahituv/fongsl/nullomers/data/phylop/shuf-mutations-uniq-woRMSK.GENCODE-exon_overlap-455-phylop.txt.gz already has .gz suffix -- unchanged\n"
     ]
    },
    {
     "name": "stdout",
     "output_type": "stream",
     "text": [
      "(4250, 1005) (623, 1005)\n"
     ]
    },
    {
     "name": "stderr",
     "output_type": "stream",
     "text": [
      "/scratch/fongsl/ipykernel_12815/2031676860.py:95: FutureWarning: merging between different levels is deprecated and will be removed in a future version. (1 levels on the left, 2 on the right)\n",
      "  summary_stats= summary_stats.join(ci)\n",
      "gzip: /wynton/home/ahituv/fongsl/nullomers/data/phylop/shuf-mutations-uniq-woRMSK.GENCODE-exon_overlap-449-phylop.txt.gz already has .gz suffix -- unchanged\n"
     ]
    },
    {
     "name": "stdout",
     "output_type": "stream",
     "text": [
      "(4259, 1005) (656, 1005)\n"
     ]
    },
    {
     "name": "stderr",
     "output_type": "stream",
     "text": [
      "/scratch/fongsl/ipykernel_12815/2031676860.py:95: FutureWarning: merging between different levels is deprecated and will be removed in a future version. (1 levels on the left, 2 on the right)\n",
      "  summary_stats= summary_stats.join(ci)\n",
      "gzip: /wynton/home/ahituv/fongsl/nullomers/data/phylop/shuf-mutations-uniq-woRMSK.GENCODE-exon_overlap-478-phylop.txt.gz already has .gz suffix -- unchanged\n"
     ]
    },
    {
     "name": "stdout",
     "output_type": "stream",
     "text": [
      "(4248, 1005) (610, 1005)\n"
     ]
    },
    {
     "name": "stderr",
     "output_type": "stream",
     "text": [
      "/scratch/fongsl/ipykernel_12815/2031676860.py:95: FutureWarning: merging between different levels is deprecated and will be removed in a future version. (1 levels on the left, 2 on the right)\n",
      "  summary_stats= summary_stats.join(ci)\n",
      "gzip: /wynton/home/ahituv/fongsl/nullomers/data/phylop/shuf-mutations-uniq-woRMSK.GENCODE-exon_overlap-446-phylop.txt.gz already has .gz suffix -- unchanged\n"
     ]
    },
    {
     "name": "stdout",
     "output_type": "stream",
     "text": [
      "(4262, 1005) (629, 1005)\n"
     ]
    },
    {
     "name": "stderr",
     "output_type": "stream",
     "text": [
      "/scratch/fongsl/ipykernel_12815/2031676860.py:95: FutureWarning: merging between different levels is deprecated and will be removed in a future version. (1 levels on the left, 2 on the right)\n",
      "  summary_stats= summary_stats.join(ci)\n",
      "gzip: /wynton/home/ahituv/fongsl/nullomers/data/phylop/shuf-mutations-uniq-woRMSK.GENCODE-exon_overlap-441-phylop.txt.gz already has .gz suffix -- unchanged\n"
     ]
    },
    {
     "name": "stdout",
     "output_type": "stream",
     "text": [
      "(4258, 1005) (591, 1005)\n"
     ]
    },
    {
     "name": "stderr",
     "output_type": "stream",
     "text": [
      "/scratch/fongsl/ipykernel_12815/2031676860.py:95: FutureWarning: merging between different levels is deprecated and will be removed in a future version. (1 levels on the left, 2 on the right)\n",
      "  summary_stats= summary_stats.join(ci)\n",
      "gzip: /wynton/home/ahituv/fongsl/nullomers/data/phylop/shuf-mutations-uniq-woRMSK.GENCODE-exon_overlap-440-phylop.txt.gz already has .gz suffix -- unchanged\n"
     ]
    },
    {
     "name": "stdout",
     "output_type": "stream",
     "text": [
      "(4254, 1005) (641, 1005)\n"
     ]
    },
    {
     "name": "stderr",
     "output_type": "stream",
     "text": [
      "/scratch/fongsl/ipykernel_12815/2031676860.py:95: FutureWarning: merging between different levels is deprecated and will be removed in a future version. (1 levels on the left, 2 on the right)\n",
      "  summary_stats= summary_stats.join(ci)\n",
      "gzip: /wynton/home/ahituv/fongsl/nullomers/data/phylop/shuf-mutations-uniq-woRMSK.GENCODE-exon_overlap-439-phylop.txt.gz already has .gz suffix -- unchanged\n"
     ]
    },
    {
     "name": "stdout",
     "output_type": "stream",
     "text": [
      "(4252, 1005) (638, 1005)\n"
     ]
    },
    {
     "name": "stderr",
     "output_type": "stream",
     "text": [
      "/scratch/fongsl/ipykernel_12815/2031676860.py:95: FutureWarning: merging between different levels is deprecated and will be removed in a future version. (1 levels on the left, 2 on the right)\n",
      "  summary_stats= summary_stats.join(ci)\n",
      "gzip: /wynton/home/ahituv/fongsl/nullomers/data/phylop/shuf-mutations-uniq-woRMSK.GENCODE-exon_overlap-442-phylop.txt.gz already has .gz suffix -- unchanged\n"
     ]
    },
    {
     "name": "stdout",
     "output_type": "stream",
     "text": [
      "(4248, 1005) (643, 1005)\n"
     ]
    },
    {
     "name": "stderr",
     "output_type": "stream",
     "text": [
      "/scratch/fongsl/ipykernel_12815/2031676860.py:95: FutureWarning: merging between different levels is deprecated and will be removed in a future version. (1 levels on the left, 2 on the right)\n",
      "  summary_stats= summary_stats.join(ci)\n",
      "gzip: /wynton/home/ahituv/fongsl/nullomers/data/phylop/shuf-mutations-uniq-woRMSK.GENCODE-exon_overlap-445-phylop.txt.gz already has .gz suffix -- unchanged\n"
     ]
    },
    {
     "name": "stdout",
     "output_type": "stream",
     "text": [
      "(4265, 1005) (655, 1005)\n"
     ]
    },
    {
     "name": "stderr",
     "output_type": "stream",
     "text": [
      "/scratch/fongsl/ipykernel_12815/2031676860.py:95: FutureWarning: merging between different levels is deprecated and will be removed in a future version. (1 levels on the left, 2 on the right)\n",
      "  summary_stats= summary_stats.join(ci)\n",
      "gzip: /wynton/home/ahituv/fongsl/nullomers/data/phylop/shuf-mutations-uniq-woRMSK.GENCODE-exon_overlap-443-phylop.txt.gz already has .gz suffix -- unchanged\n"
     ]
    },
    {
     "name": "stdout",
     "output_type": "stream",
     "text": [
      "(4260, 1005) (650, 1005)\n"
     ]
    },
    {
     "name": "stderr",
     "output_type": "stream",
     "text": [
      "/scratch/fongsl/ipykernel_12815/2031676860.py:95: FutureWarning: merging between different levels is deprecated and will be removed in a future version. (1 levels on the left, 2 on the right)\n",
      "  summary_stats= summary_stats.join(ci)\n",
      "gzip: /wynton/home/ahituv/fongsl/nullomers/data/phylop/shuf-mutations-uniq-woRMSK.GENCODE-exon_overlap-447-phylop.txt.gz already has .gz suffix -- unchanged\n"
     ]
    },
    {
     "name": "stdout",
     "output_type": "stream",
     "text": [
      "(4260, 1005) (643, 1005)\n"
     ]
    },
    {
     "name": "stderr",
     "output_type": "stream",
     "text": [
      "/scratch/fongsl/ipykernel_12815/2031676860.py:95: FutureWarning: merging between different levels is deprecated and will be removed in a future version. (1 levels on the left, 2 on the right)\n",
      "  summary_stats= summary_stats.join(ci)\n",
      "gzip: /wynton/home/ahituv/fongsl/nullomers/data/phylop/shuf-mutations-uniq-woRMSK.GENCODE-exon_overlap-452-phylop.txt.gz already has .gz suffix -- unchanged\n"
     ]
    },
    {
     "name": "stdout",
     "output_type": "stream",
     "text": [
      "(4251, 1005) (632, 1005)\n"
     ]
    },
    {
     "name": "stderr",
     "output_type": "stream",
     "text": [
      "/scratch/fongsl/ipykernel_12815/2031676860.py:95: FutureWarning: merging between different levels is deprecated and will be removed in a future version. (1 levels on the left, 2 on the right)\n",
      "  summary_stats= summary_stats.join(ci)\n",
      "gzip: /wynton/home/ahituv/fongsl/nullomers/data/phylop/shuf-mutations-uniq-woRMSK.GENCODE-exon_overlap-438-phylop.txt.gz already has .gz suffix -- unchanged\n"
     ]
    },
    {
     "name": "stdout",
     "output_type": "stream",
     "text": [
      "(4257, 1005) (663, 1005)\n"
     ]
    },
    {
     "name": "stderr",
     "output_type": "stream",
     "text": [
      "/scratch/fongsl/ipykernel_12815/2031676860.py:95: FutureWarning: merging between different levels is deprecated and will be removed in a future version. (1 levels on the left, 2 on the right)\n",
      "  summary_stats= summary_stats.join(ci)\n",
      "gzip: /wynton/home/ahituv/fongsl/nullomers/data/phylop/shuf-mutations-uniq-woRMSK.GENCODE-exon_overlap-444-phylop.txt.gz already has .gz suffix -- unchanged\n"
     ]
    },
    {
     "name": "stdout",
     "output_type": "stream",
     "text": [
      "(4249, 1005) (646, 1005)\n"
     ]
    },
    {
     "name": "stderr",
     "output_type": "stream",
     "text": [
      "/scratch/fongsl/ipykernel_12815/2031676860.py:95: FutureWarning: merging between different levels is deprecated and will be removed in a future version. (1 levels on the left, 2 on the right)\n",
      "  summary_stats= summary_stats.join(ci)\n",
      "gzip: /wynton/home/ahituv/fongsl/nullomers/data/phylop/shuf-mutations-uniq-woRMSK.GENCODE-exon_overlap-448-phylop.txt.gz already has .gz suffix -- unchanged\n"
     ]
    },
    {
     "name": "stdout",
     "output_type": "stream",
     "text": [
      "(4249, 1005) (633, 1005)\n"
     ]
    },
    {
     "name": "stderr",
     "output_type": "stream",
     "text": [
      "/scratch/fongsl/ipykernel_12815/2031676860.py:95: FutureWarning: merging between different levels is deprecated and will be removed in a future version. (1 levels on the left, 2 on the right)\n",
      "  summary_stats= summary_stats.join(ci)\n",
      "gzip: /wynton/home/ahituv/fongsl/nullomers/data/phylop/shuf-mutations-uniq-woRMSK.GENCODE-exon_overlap-457-phylop.txt.gz already has .gz suffix -- unchanged\n"
     ]
    },
    {
     "name": "stdout",
     "output_type": "stream",
     "text": [
      "(4255, 1005) (633, 1005)\n"
     ]
    },
    {
     "name": "stderr",
     "output_type": "stream",
     "text": [
      "/scratch/fongsl/ipykernel_12815/2031676860.py:95: FutureWarning: merging between different levels is deprecated and will be removed in a future version. (1 levels on the left, 2 on the right)\n",
      "  summary_stats= summary_stats.join(ci)\n",
      "gzip: /wynton/home/ahituv/fongsl/nullomers/data/phylop/shuf-mutations-uniq-woRMSK.GENCODE-exon_overlap-463-phylop.txt.gz already has .gz suffix -- unchanged\n"
     ]
    },
    {
     "name": "stdout",
     "output_type": "stream",
     "text": [
      "(4266, 1005) (638, 1005)\n"
     ]
    },
    {
     "name": "stderr",
     "output_type": "stream",
     "text": [
      "/scratch/fongsl/ipykernel_12815/2031676860.py:95: FutureWarning: merging between different levels is deprecated and will be removed in a future version. (1 levels on the left, 2 on the right)\n",
      "  summary_stats= summary_stats.join(ci)\n",
      "gzip: /wynton/home/ahituv/fongsl/nullomers/data/phylop/shuf-mutations-uniq-woRMSK.GENCODE-exon_overlap-459-phylop.txt.gz already has .gz suffix -- unchanged\n"
     ]
    },
    {
     "name": "stdout",
     "output_type": "stream",
     "text": [
      "(4263, 1005) (628, 1005)\n"
     ]
    },
    {
     "name": "stderr",
     "output_type": "stream",
     "text": [
      "/scratch/fongsl/ipykernel_12815/2031676860.py:95: FutureWarning: merging between different levels is deprecated and will be removed in a future version. (1 levels on the left, 2 on the right)\n",
      "  summary_stats= summary_stats.join(ci)\n",
      "gzip: /wynton/home/ahituv/fongsl/nullomers/data/phylop/shuf-mutations-uniq-woRMSK.GENCODE-exon_overlap-450-phylop.txt.gz already has .gz suffix -- unchanged\n"
     ]
    },
    {
     "name": "stdout",
     "output_type": "stream",
     "text": [
      "(4254, 1005) (624, 1005)\n"
     ]
    },
    {
     "name": "stderr",
     "output_type": "stream",
     "text": [
      "/scratch/fongsl/ipykernel_12815/2031676860.py:95: FutureWarning: merging between different levels is deprecated and will be removed in a future version. (1 levels on the left, 2 on the right)\n",
      "  summary_stats= summary_stats.join(ci)\n",
      "gzip: /wynton/home/ahituv/fongsl/nullomers/data/phylop/shuf-mutations-uniq-woRMSK.GENCODE-exon_overlap-465-phylop.txt.gz already has .gz suffix -- unchanged\n"
     ]
    },
    {
     "name": "stdout",
     "output_type": "stream",
     "text": [
      "(4262, 1005) (647, 1005)\n"
     ]
    },
    {
     "name": "stderr",
     "output_type": "stream",
     "text": [
      "/scratch/fongsl/ipykernel_12815/2031676860.py:95: FutureWarning: merging between different levels is deprecated and will be removed in a future version. (1 levels on the left, 2 on the right)\n",
      "  summary_stats= summary_stats.join(ci)\n",
      "gzip: /wynton/home/ahituv/fongsl/nullomers/data/phylop/shuf-mutations-uniq-woRMSK.GENCODE-exon_overlap-451-phylop.txt.gz already has .gz suffix -- unchanged\n"
     ]
    },
    {
     "name": "stdout",
     "output_type": "stream",
     "text": [
      "(4263, 1005) (625, 1005)\n"
     ]
    },
    {
     "name": "stderr",
     "output_type": "stream",
     "text": [
      "/scratch/fongsl/ipykernel_12815/2031676860.py:95: FutureWarning: merging between different levels is deprecated and will be removed in a future version. (1 levels on the left, 2 on the right)\n",
      "  summary_stats= summary_stats.join(ci)\n",
      "gzip: /wynton/home/ahituv/fongsl/nullomers/data/phylop/shuf-mutations-uniq-woRMSK.GENCODE-exon_overlap-458-phylop.txt.gz already has .gz suffix -- unchanged\n"
     ]
    },
    {
     "name": "stdout",
     "output_type": "stream",
     "text": [
      "(4257, 1005) (632, 1005)\n"
     ]
    },
    {
     "name": "stderr",
     "output_type": "stream",
     "text": [
      "/scratch/fongsl/ipykernel_12815/2031676860.py:95: FutureWarning: merging between different levels is deprecated and will be removed in a future version. (1 levels on the left, 2 on the right)\n",
      "  summary_stats= summary_stats.join(ci)\n",
      "gzip: /wynton/home/ahituv/fongsl/nullomers/data/phylop/shuf-mutations-uniq-woRMSK.GENCODE-exon_overlap-454-phylop.txt.gz already has .gz suffix -- unchanged\n"
     ]
    },
    {
     "name": "stdout",
     "output_type": "stream",
     "text": [
      "(4264, 1005) (619, 1005)\n"
     ]
    },
    {
     "name": "stderr",
     "output_type": "stream",
     "text": [
      "/scratch/fongsl/ipykernel_12815/2031676860.py:95: FutureWarning: merging between different levels is deprecated and will be removed in a future version. (1 levels on the left, 2 on the right)\n",
      "  summary_stats= summary_stats.join(ci)\n",
      "gzip: /wynton/home/ahituv/fongsl/nullomers/data/phylop/shuf-mutations-uniq-woRMSK.GENCODE-exon_overlap-476-phylop.txt.gz already has .gz suffix -- unchanged\n"
     ]
    },
    {
     "name": "stdout",
     "output_type": "stream",
     "text": [
      "(4266, 1005) (667, 1005)\n"
     ]
    },
    {
     "name": "stderr",
     "output_type": "stream",
     "text": [
      "/scratch/fongsl/ipykernel_12815/2031676860.py:95: FutureWarning: merging between different levels is deprecated and will be removed in a future version. (1 levels on the left, 2 on the right)\n",
      "  summary_stats= summary_stats.join(ci)\n",
      "gzip: /wynton/home/ahituv/fongsl/nullomers/data/phylop/shuf-mutations-uniq-woRMSK.GENCODE-exon_overlap-433-phylop.txt.gz already has .gz suffix -- unchanged\n"
     ]
    },
    {
     "name": "stdout",
     "output_type": "stream",
     "text": [
      "(4261, 1005) (623, 1005)\n"
     ]
    },
    {
     "name": "stderr",
     "output_type": "stream",
     "text": [
      "/scratch/fongsl/ipykernel_12815/2031676860.py:95: FutureWarning: merging between different levels is deprecated and will be removed in a future version. (1 levels on the left, 2 on the right)\n",
      "  summary_stats= summary_stats.join(ci)\n",
      "gzip: /wynton/home/ahituv/fongsl/nullomers/data/phylop/shuf-mutations-uniq-woRMSK.GENCODE-exon_overlap-460-phylop.txt.gz already has .gz suffix -- unchanged\n"
     ]
    },
    {
     "name": "stdout",
     "output_type": "stream",
     "text": [
      "(4266, 1005) (651, 1005)\n"
     ]
    },
    {
     "name": "stderr",
     "output_type": "stream",
     "text": [
      "/scratch/fongsl/ipykernel_12815/2031676860.py:95: FutureWarning: merging between different levels is deprecated and will be removed in a future version. (1 levels on the left, 2 on the right)\n",
      "  summary_stats= summary_stats.join(ci)\n",
      "gzip: /wynton/home/ahituv/fongsl/nullomers/data/phylop/shuf-mutations-uniq-woRMSK.GENCODE-exon_overlap-453-phylop.txt.gz already has .gz suffix -- unchanged\n"
     ]
    },
    {
     "name": "stdout",
     "output_type": "stream",
     "text": [
      "(4258, 1005) (624, 1005)\n"
     ]
    },
    {
     "name": "stderr",
     "output_type": "stream",
     "text": [
      "/scratch/fongsl/ipykernel_12815/2031676860.py:95: FutureWarning: merging between different levels is deprecated and will be removed in a future version. (1 levels on the left, 2 on the right)\n",
      "  summary_stats= summary_stats.join(ci)\n",
      "gzip: /wynton/home/ahituv/fongsl/nullomers/data/phylop/shuf-mutations-uniq-woRMSK.GENCODE-exon_overlap-491-phylop.txt.gz already has .gz suffix -- unchanged\n"
     ]
    },
    {
     "name": "stdout",
     "output_type": "stream",
     "text": [
      "(4245, 1005) (629, 1005)\n"
     ]
    },
    {
     "name": "stderr",
     "output_type": "stream",
     "text": [
      "/scratch/fongsl/ipykernel_12815/2031676860.py:95: FutureWarning: merging between different levels is deprecated and will be removed in a future version. (1 levels on the left, 2 on the right)\n",
      "  summary_stats= summary_stats.join(ci)\n",
      "gzip: /wynton/home/ahituv/fongsl/nullomers/data/phylop/shuf-mutations-uniq-woRMSK.GENCODE-exon_overlap-456-phylop.txt.gz already has .gz suffix -- unchanged\n"
     ]
    },
    {
     "name": "stdout",
     "output_type": "stream",
     "text": [
      "(4259, 1005) (632, 1005)\n"
     ]
    },
    {
     "name": "stderr",
     "output_type": "stream",
     "text": [
      "/scratch/fongsl/ipykernel_12815/2031676860.py:95: FutureWarning: merging between different levels is deprecated and will be removed in a future version. (1 levels on the left, 2 on the right)\n",
      "  summary_stats= summary_stats.join(ci)\n",
      "gzip: /wynton/home/ahituv/fongsl/nullomers/data/phylop/shuf-mutations-uniq-woRMSK.GENCODE-exon_overlap-479-phylop.txt.gz already has .gz suffix -- unchanged\n"
     ]
    },
    {
     "name": "stdout",
     "output_type": "stream",
     "text": [
      "(4255, 1005) (642, 1005)\n"
     ]
    },
    {
     "name": "stderr",
     "output_type": "stream",
     "text": [
      "/scratch/fongsl/ipykernel_12815/2031676860.py:95: FutureWarning: merging between different levels is deprecated and will be removed in a future version. (1 levels on the left, 2 on the right)\n",
      "  summary_stats= summary_stats.join(ci)\n",
      "gzip: /wynton/home/ahituv/fongsl/nullomers/data/phylop/shuf-mutations-uniq-woRMSK.GENCODE-exon_overlap-468-phylop.txt.gz already has .gz suffix -- unchanged\n"
     ]
    },
    {
     "name": "stdout",
     "output_type": "stream",
     "text": [
      "(4260, 1005) (633, 1005)\n"
     ]
    },
    {
     "name": "stderr",
     "output_type": "stream",
     "text": [
      "/scratch/fongsl/ipykernel_12815/2031676860.py:95: FutureWarning: merging between different levels is deprecated and will be removed in a future version. (1 levels on the left, 2 on the right)\n",
      "  summary_stats= summary_stats.join(ci)\n",
      "gzip: /wynton/home/ahituv/fongsl/nullomers/data/phylop/shuf-mutations-uniq-woRMSK.GENCODE-exon_overlap-482-phylop.txt.gz already has .gz suffix -- unchanged\n"
     ]
    },
    {
     "name": "stdout",
     "output_type": "stream",
     "text": [
      "(4263, 1005) (610, 1005)\n"
     ]
    },
    {
     "name": "stderr",
     "output_type": "stream",
     "text": [
      "/scratch/fongsl/ipykernel_12815/2031676860.py:95: FutureWarning: merging between different levels is deprecated and will be removed in a future version. (1 levels on the left, 2 on the right)\n",
      "  summary_stats= summary_stats.join(ci)\n",
      "gzip: /wynton/home/ahituv/fongsl/nullomers/data/phylop/shuf-mutations-uniq-woRMSK.GENCODE-exon_overlap-464-phylop.txt.gz already has .gz suffix -- unchanged\n"
     ]
    },
    {
     "name": "stdout",
     "output_type": "stream",
     "text": [
      "(4249, 1005) (579, 1005)\n"
     ]
    },
    {
     "name": "stderr",
     "output_type": "stream",
     "text": [
      "/scratch/fongsl/ipykernel_12815/2031676860.py:95: FutureWarning: merging between different levels is deprecated and will be removed in a future version. (1 levels on the left, 2 on the right)\n",
      "  summary_stats= summary_stats.join(ci)\n",
      "gzip: /wynton/home/ahituv/fongsl/nullomers/data/phylop/shuf-mutations-uniq-woRMSK.GENCODE-exon_overlap-474-phylop.txt.gz already has .gz suffix -- unchanged\n"
     ]
    },
    {
     "name": "stdout",
     "output_type": "stream",
     "text": [
      "(4256, 1005) (634, 1005)\n"
     ]
    },
    {
     "name": "stderr",
     "output_type": "stream",
     "text": [
      "/scratch/fongsl/ipykernel_12815/2031676860.py:95: FutureWarning: merging between different levels is deprecated and will be removed in a future version. (1 levels on the left, 2 on the right)\n",
      "  summary_stats= summary_stats.join(ci)\n",
      "gzip: /wynton/home/ahituv/fongsl/nullomers/data/phylop/shuf-mutations-uniq-woRMSK.GENCODE-exon_overlap-470-phylop.txt.gz already has .gz suffix -- unchanged\n"
     ]
    },
    {
     "name": "stdout",
     "output_type": "stream",
     "text": [
      "(4256, 1005) (654, 1005)\n"
     ]
    },
    {
     "name": "stderr",
     "output_type": "stream",
     "text": [
      "/scratch/fongsl/ipykernel_12815/2031676860.py:95: FutureWarning: merging between different levels is deprecated and will be removed in a future version. (1 levels on the left, 2 on the right)\n",
      "  summary_stats= summary_stats.join(ci)\n",
      "gzip: /wynton/home/ahituv/fongsl/nullomers/data/phylop/shuf-mutations-uniq-woRMSK.GENCODE-exon_overlap-461-phylop.txt.gz already has .gz suffix -- unchanged\n"
     ]
    },
    {
     "name": "stdout",
     "output_type": "stream",
     "text": [
      "(4248, 1005) (586, 1005)\n"
     ]
    },
    {
     "name": "stderr",
     "output_type": "stream",
     "text": [
      "/scratch/fongsl/ipykernel_12815/2031676860.py:95: FutureWarning: merging between different levels is deprecated and will be removed in a future version. (1 levels on the left, 2 on the right)\n",
      "  summary_stats= summary_stats.join(ci)\n",
      "gzip: /wynton/home/ahituv/fongsl/nullomers/data/phylop/shuf-mutations-uniq-woRMSK.GENCODE-exon_overlap-472-phylop.txt.gz already has .gz suffix -- unchanged\n"
     ]
    },
    {
     "name": "stdout",
     "output_type": "stream",
     "text": [
      "(4259, 1005) (644, 1005)\n"
     ]
    },
    {
     "name": "stderr",
     "output_type": "stream",
     "text": [
      "/scratch/fongsl/ipykernel_12815/2031676860.py:95: FutureWarning: merging between different levels is deprecated and will be removed in a future version. (1 levels on the left, 2 on the right)\n",
      "  summary_stats= summary_stats.join(ci)\n",
      "gzip: /wynton/home/ahituv/fongsl/nullomers/data/phylop/shuf-mutations-uniq-woRMSK.GENCODE-exon_overlap-469-phylop.txt.gz already has .gz suffix -- unchanged\n"
     ]
    },
    {
     "name": "stdout",
     "output_type": "stream",
     "text": [
      "(4255, 1005) (580, 1005)\n"
     ]
    },
    {
     "name": "stderr",
     "output_type": "stream",
     "text": [
      "/scratch/fongsl/ipykernel_12815/2031676860.py:95: FutureWarning: merging between different levels is deprecated and will be removed in a future version. (1 levels on the left, 2 on the right)\n",
      "  summary_stats= summary_stats.join(ci)\n",
      "gzip: /wynton/home/ahituv/fongsl/nullomers/data/phylop/shuf-mutations-uniq-woRMSK.GENCODE-exon_overlap-471-phylop.txt.gz already has .gz suffix -- unchanged\n"
     ]
    },
    {
     "name": "stdout",
     "output_type": "stream",
     "text": [
      "(4265, 1005) (596, 1005)\n"
     ]
    },
    {
     "name": "stderr",
     "output_type": "stream",
     "text": [
      "/scratch/fongsl/ipykernel_12815/2031676860.py:95: FutureWarning: merging between different levels is deprecated and will be removed in a future version. (1 levels on the left, 2 on the right)\n",
      "  summary_stats= summary_stats.join(ci)\n",
      "gzip: /wynton/home/ahituv/fongsl/nullomers/data/phylop/shuf-mutations-uniq-woRMSK.GENCODE-exon_overlap-473-phylop.txt.gz already has .gz suffix -- unchanged\n"
     ]
    },
    {
     "name": "stdout",
     "output_type": "stream",
     "text": [
      "(4258, 1005) (660, 1005)\n"
     ]
    },
    {
     "name": "stderr",
     "output_type": "stream",
     "text": [
      "/scratch/fongsl/ipykernel_12815/2031676860.py:95: FutureWarning: merging between different levels is deprecated and will be removed in a future version. (1 levels on the left, 2 on the right)\n",
      "  summary_stats= summary_stats.join(ci)\n",
      "gzip: /wynton/home/ahituv/fongsl/nullomers/data/phylop/shuf-mutations-uniq-woRMSK.GENCODE-exon_overlap-466-phylop.txt.gz already has .gz suffix -- unchanged\n"
     ]
    },
    {
     "name": "stdout",
     "output_type": "stream",
     "text": [
      "(4253, 1005) (611, 1005)\n"
     ]
    },
    {
     "name": "stderr",
     "output_type": "stream",
     "text": [
      "/scratch/fongsl/ipykernel_12815/2031676860.py:95: FutureWarning: merging between different levels is deprecated and will be removed in a future version. (1 levels on the left, 2 on the right)\n",
      "  summary_stats= summary_stats.join(ci)\n",
      "gzip: /wynton/home/ahituv/fongsl/nullomers/data/phylop/shuf-mutations-uniq-woRMSK.GENCODE-exon_overlap-489-phylop.txt.gz already has .gz suffix -- unchanged\n"
     ]
    },
    {
     "name": "stdout",
     "output_type": "stream",
     "text": [
      "(4250, 1005) (627, 1005)\n"
     ]
    },
    {
     "name": "stderr",
     "output_type": "stream",
     "text": [
      "/scratch/fongsl/ipykernel_12815/2031676860.py:95: FutureWarning: merging between different levels is deprecated and will be removed in a future version. (1 levels on the left, 2 on the right)\n",
      "  summary_stats= summary_stats.join(ci)\n",
      "gzip: /wynton/home/ahituv/fongsl/nullomers/data/phylop/shuf-mutations-uniq-woRMSK.GENCODE-exon_overlap-487-phylop.txt.gz already has .gz suffix -- unchanged\n"
     ]
    },
    {
     "name": "stdout",
     "output_type": "stream",
     "text": [
      "(4263, 1005) (648, 1005)\n"
     ]
    },
    {
     "name": "stderr",
     "output_type": "stream",
     "text": [
      "/scratch/fongsl/ipykernel_12815/2031676860.py:95: FutureWarning: merging between different levels is deprecated and will be removed in a future version. (1 levels on the left, 2 on the right)\n",
      "  summary_stats= summary_stats.join(ci)\n",
      "gzip: /wynton/home/ahituv/fongsl/nullomers/data/phylop/shuf-mutations-uniq-woRMSK.GENCODE-exon_overlap-483-phylop.txt.gz already has .gz suffix -- unchanged\n"
     ]
    },
    {
     "name": "stdout",
     "output_type": "stream",
     "text": [
      "(4259, 1005) (638, 1005)\n"
     ]
    },
    {
     "name": "stderr",
     "output_type": "stream",
     "text": [
      "/scratch/fongsl/ipykernel_12815/2031676860.py:95: FutureWarning: merging between different levels is deprecated and will be removed in a future version. (1 levels on the left, 2 on the right)\n",
      "  summary_stats= summary_stats.join(ci)\n",
      "gzip: /wynton/home/ahituv/fongsl/nullomers/data/phylop/shuf-mutations-uniq-woRMSK.GENCODE-exon_overlap-481-phylop.txt.gz already has .gz suffix -- unchanged\n"
     ]
    },
    {
     "name": "stdout",
     "output_type": "stream",
     "text": [
      "(4260, 1005) (615, 1005)\n"
     ]
    },
    {
     "name": "stderr",
     "output_type": "stream",
     "text": [
      "/scratch/fongsl/ipykernel_12815/2031676860.py:95: FutureWarning: merging between different levels is deprecated and will be removed in a future version. (1 levels on the left, 2 on the right)\n",
      "  summary_stats= summary_stats.join(ci)\n",
      "gzip: /wynton/home/ahituv/fongsl/nullomers/data/phylop/shuf-mutations-uniq-woRMSK.GENCODE-exon_overlap-475-phylop.txt.gz already has .gz suffix -- unchanged\n"
     ]
    },
    {
     "name": "stdout",
     "output_type": "stream",
     "text": [
      "(4250, 1005) (629, 1005)\n"
     ]
    },
    {
     "name": "stderr",
     "output_type": "stream",
     "text": [
      "/scratch/fongsl/ipykernel_12815/2031676860.py:95: FutureWarning: merging between different levels is deprecated and will be removed in a future version. (1 levels on the left, 2 on the right)\n",
      "  summary_stats= summary_stats.join(ci)\n",
      "gzip: /wynton/home/ahituv/fongsl/nullomers/data/phylop/shuf-mutations-uniq-woRMSK.GENCODE-exon_overlap-477-phylop.txt.gz already has .gz suffix -- unchanged\n"
     ]
    },
    {
     "name": "stdout",
     "output_type": "stream",
     "text": [
      "(4259, 1005) (621, 1005)\n"
     ]
    },
    {
     "name": "stderr",
     "output_type": "stream",
     "text": [
      "/scratch/fongsl/ipykernel_12815/2031676860.py:95: FutureWarning: merging between different levels is deprecated and will be removed in a future version. (1 levels on the left, 2 on the right)\n",
      "  summary_stats= summary_stats.join(ci)\n",
      "gzip: /wynton/home/ahituv/fongsl/nullomers/data/phylop/shuf-mutations-uniq-woRMSK.GENCODE-exon_overlap-467-phylop.txt.gz already has .gz suffix -- unchanged\n"
     ]
    },
    {
     "name": "stdout",
     "output_type": "stream",
     "text": [
      "(4259, 1005) (630, 1005)\n"
     ]
    },
    {
     "name": "stderr",
     "output_type": "stream",
     "text": [
      "/scratch/fongsl/ipykernel_12815/2031676860.py:95: FutureWarning: merging between different levels is deprecated and will be removed in a future version. (1 levels on the left, 2 on the right)\n",
      "  summary_stats= summary_stats.join(ci)\n",
      "gzip: /wynton/home/ahituv/fongsl/nullomers/data/phylop/shuf-mutations-uniq-woRMSK.GENCODE-exon_overlap-486-phylop.txt.gz already has .gz suffix -- unchanged\n"
     ]
    },
    {
     "name": "stdout",
     "output_type": "stream",
     "text": [
      "(4258, 1005) (602, 1005)\n"
     ]
    },
    {
     "name": "stderr",
     "output_type": "stream",
     "text": [
      "/scratch/fongsl/ipykernel_12815/2031676860.py:95: FutureWarning: merging between different levels is deprecated and will be removed in a future version. (1 levels on the left, 2 on the right)\n",
      "  summary_stats= summary_stats.join(ci)\n",
      "gzip: /wynton/home/ahituv/fongsl/nullomers/data/phylop/shuf-mutations-uniq-woRMSK.GENCODE-exon_overlap-488-phylop.txt.gz already has .gz suffix -- unchanged\n"
     ]
    },
    {
     "name": "stdout",
     "output_type": "stream",
     "text": [
      "(4252, 1005) (604, 1005)\n"
     ]
    },
    {
     "name": "stderr",
     "output_type": "stream",
     "text": [
      "/scratch/fongsl/ipykernel_12815/2031676860.py:95: FutureWarning: merging between different levels is deprecated and will be removed in a future version. (1 levels on the left, 2 on the right)\n",
      "  summary_stats= summary_stats.join(ci)\n",
      "gzip: /wynton/home/ahituv/fongsl/nullomers/data/phylop/shuf-mutations-uniq-woRMSK.GENCODE-exon_overlap-484-phylop.txt.gz already has .gz suffix -- unchanged\n"
     ]
    },
    {
     "name": "stdout",
     "output_type": "stream",
     "text": [
      "(4257, 1005) (618, 1005)\n"
     ]
    },
    {
     "name": "stderr",
     "output_type": "stream",
     "text": [
      "/scratch/fongsl/ipykernel_12815/2031676860.py:95: FutureWarning: merging between different levels is deprecated and will be removed in a future version. (1 levels on the left, 2 on the right)\n",
      "  summary_stats= summary_stats.join(ci)\n",
      "gzip: /wynton/home/ahituv/fongsl/nullomers/data/phylop/shuf-mutations-uniq-woRMSK.GENCODE-exon_overlap-485-phylop.txt.gz already has .gz suffix -- unchanged\n"
     ]
    },
    {
     "name": "stdout",
     "output_type": "stream",
     "text": [
      "(4248, 1005) (639, 1005)\n"
     ]
    },
    {
     "name": "stderr",
     "output_type": "stream",
     "text": [
      "/scratch/fongsl/ipykernel_12815/2031676860.py:95: FutureWarning: merging between different levels is deprecated and will be removed in a future version. (1 levels on the left, 2 on the right)\n",
      "  summary_stats= summary_stats.join(ci)\n",
      "gzip: /wynton/home/ahituv/fongsl/nullomers/data/phylop/shuf-mutations-uniq-woRMSK.GENCODE-exon_overlap-480-phylop.txt.gz already has .gz suffix -- unchanged\n"
     ]
    },
    {
     "name": "stdout",
     "output_type": "stream",
     "text": [
      "(4257, 1005) (614, 1005)\n"
     ]
    },
    {
     "name": "stderr",
     "output_type": "stream",
     "text": [
      "/scratch/fongsl/ipykernel_12815/2031676860.py:95: FutureWarning: merging between different levels is deprecated and will be removed in a future version. (1 levels on the left, 2 on the right)\n",
      "  summary_stats= summary_stats.join(ci)\n",
      "gzip: /wynton/home/ahituv/fongsl/nullomers/data/phylop/shuf-mutations-uniq-woRMSK.GENCODE-exon_overlap-494-phylop.txt.gz already has .gz suffix -- unchanged\n"
     ]
    },
    {
     "name": "stdout",
     "output_type": "stream",
     "text": [
      "(4249, 1005) (638, 1005)\n"
     ]
    },
    {
     "name": "stderr",
     "output_type": "stream",
     "text": [
      "/scratch/fongsl/ipykernel_12815/2031676860.py:95: FutureWarning: merging between different levels is deprecated and will be removed in a future version. (1 levels on the left, 2 on the right)\n",
      "  summary_stats= summary_stats.join(ci)\n",
      "gzip: /wynton/home/ahituv/fongsl/nullomers/data/phylop/shuf-mutations-uniq-woRMSK.GENCODE-exon_overlap-492-phylop.txt.gz already has .gz suffix -- unchanged\n"
     ]
    },
    {
     "name": "stdout",
     "output_type": "stream",
     "text": [
      "(4260, 1005) (624, 1005)\n"
     ]
    },
    {
     "name": "stderr",
     "output_type": "stream",
     "text": [
      "/scratch/fongsl/ipykernel_12815/2031676860.py:95: FutureWarning: merging between different levels is deprecated and will be removed in a future version. (1 levels on the left, 2 on the right)\n",
      "  summary_stats= summary_stats.join(ci)\n",
      "gzip: /wynton/home/ahituv/fongsl/nullomers/data/phylop/shuf-mutations-uniq-woRMSK.GENCODE-exon_overlap-490-phylop.txt.gz already has .gz suffix -- unchanged\n"
     ]
    },
    {
     "name": "stdout",
     "output_type": "stream",
     "text": [
      "(4256, 1005) (615, 1005)\n"
     ]
    },
    {
     "name": "stderr",
     "output_type": "stream",
     "text": [
      "/scratch/fongsl/ipykernel_12815/2031676860.py:95: FutureWarning: merging between different levels is deprecated and will be removed in a future version. (1 levels on the left, 2 on the right)\n",
      "  summary_stats= summary_stats.join(ci)\n",
      "gzip: /wynton/home/ahituv/fongsl/nullomers/data/phylop/shuf-mutations-uniq-woRMSK.GENCODE-exon_overlap-498-phylop.txt.gz already has .gz suffix -- unchanged\n"
     ]
    },
    {
     "name": "stdout",
     "output_type": "stream",
     "text": [
      "(4256, 1005) (607, 1005)\n"
     ]
    },
    {
     "name": "stderr",
     "output_type": "stream",
     "text": [
      "/scratch/fongsl/ipykernel_12815/2031676860.py:95: FutureWarning: merging between different levels is deprecated and will be removed in a future version. (1 levels on the left, 2 on the right)\n",
      "  summary_stats= summary_stats.join(ci)\n",
      "gzip: /wynton/home/ahituv/fongsl/nullomers/data/phylop/shuf-mutations-uniq-woRMSK.GENCODE-exon_overlap-499-phylop.txt.gz already has .gz suffix -- unchanged\n"
     ]
    },
    {
     "name": "stdout",
     "output_type": "stream",
     "text": [
      "(4268, 1005) (626, 1005)\n"
     ]
    },
    {
     "name": "stderr",
     "output_type": "stream",
     "text": [
      "/scratch/fongsl/ipykernel_12815/2031676860.py:95: FutureWarning: merging between different levels is deprecated and will be removed in a future version. (1 levels on the left, 2 on the right)\n",
      "  summary_stats= summary_stats.join(ci)\n",
      "gzip: /wynton/home/ahituv/fongsl/nullomers/data/phylop/shuf-mutations-uniq-woRMSK.GENCODE-exon_overlap-496-phylop.txt.gz already has .gz suffix -- unchanged\n"
     ]
    },
    {
     "name": "stdout",
     "output_type": "stream",
     "text": [
      "(4254, 1005) (629, 1005)\n"
     ]
    },
    {
     "name": "stderr",
     "output_type": "stream",
     "text": [
      "/scratch/fongsl/ipykernel_12815/2031676860.py:95: FutureWarning: merging between different levels is deprecated and will be removed in a future version. (1 levels on the left, 2 on the right)\n",
      "  summary_stats= summary_stats.join(ci)\n",
      "gzip: /wynton/home/ahituv/fongsl/nullomers/data/phylop/shuf-mutations-uniq-woRMSK.GENCODE-exon_overlap-497-phylop.txt.gz already has .gz suffix -- unchanged\n"
     ]
    },
    {
     "name": "stdout",
     "output_type": "stream",
     "text": [
      "(4251, 1005) (617, 1005)\n"
     ]
    },
    {
     "name": "stderr",
     "output_type": "stream",
     "text": [
      "/scratch/fongsl/ipykernel_12815/2031676860.py:95: FutureWarning: merging between different levels is deprecated and will be removed in a future version. (1 levels on the left, 2 on the right)\n",
      "  summary_stats= summary_stats.join(ci)\n",
      "gzip: /wynton/home/ahituv/fongsl/nullomers/data/phylop/shuf-mutations-uniq-woRMSK.GENCODE-exon_overlap-495-phylop.txt.gz already has .gz suffix -- unchanged\n"
     ]
    },
    {
     "name": "stdout",
     "output_type": "stream",
     "text": [
      "(4262, 1005) (628, 1005)\n"
     ]
    },
    {
     "name": "stderr",
     "output_type": "stream",
     "text": [
      "/scratch/fongsl/ipykernel_12815/2031676860.py:95: FutureWarning: merging between different levels is deprecated and will be removed in a future version. (1 levels on the left, 2 on the right)\n",
      "  summary_stats= summary_stats.join(ci)\n",
      "gzip: /wynton/home/ahituv/fongsl/nullomers/data/phylop/shuf-mutations-uniq-woRMSK.GENCODE-exon_overlap-493-phylop.txt.gz already has .gz suffix -- unchanged\n"
     ]
    },
    {
     "name": "stdout",
     "output_type": "stream",
     "text": [
      "497\n",
      "(13595, 1005) (2110, 1005)\n"
     ]
    },
    {
     "name": "stderr",
     "output_type": "stream",
     "text": [
      "/scratch/fongsl/ipykernel_12815/2031676860.py:95: FutureWarning: merging between different levels is deprecated and will be removed in a future version. (1 levels on the left, 2 on the right)\n",
      "  summary_stats= summary_stats.join(ci)\n",
      "gzip: /wynton/home/ahituv/fongsl/nullomers/data/phylop/shuf-mutations-uniq-woRMSK.GENCODE-exon_no-overlap-ref.only-176-phylop.txt.gz already has .gz suffix -- unchanged\n"
     ]
    },
    {
     "name": "stdout",
     "output_type": "stream",
     "text": [
      "(14045, 1005) (14045, 1005)\n"
     ]
    },
    {
     "name": "stderr",
     "output_type": "stream",
     "text": [
      "/scratch/fongsl/ipykernel_12815/2031676860.py:95: FutureWarning: merging between different levels is deprecated and will be removed in a future version. (1 levels on the left, 2 on the right)\n",
      "  summary_stats= summary_stats.join(ci)\n",
      "gzip: /wynton/home/ahituv/fongsl/nullomers/data/phylop/mutations-uniq-woRMSK.GENCODE-exon_no-overlap-ref.only-phylop.txt.gz already has .gz suffix -- unchanged\n"
     ]
    },
    {
     "name": "stdout",
     "output_type": "stream",
     "text": [
      "(13580, 1005) (1982, 1005)\n"
     ]
    },
    {
     "name": "stderr",
     "output_type": "stream",
     "text": [
      "/scratch/fongsl/ipykernel_12815/2031676860.py:95: FutureWarning: merging between different levels is deprecated and will be removed in a future version. (1 levels on the left, 2 on the right)\n",
      "  summary_stats= summary_stats.join(ci)\n",
      "gzip: /wynton/home/ahituv/fongsl/nullomers/data/phylop/shuf-mutations-uniq-woRMSK.GENCODE-exon_no-overlap-ref.only-5-phylop.txt.gz already has .gz suffix -- unchanged\n"
     ]
    },
    {
     "name": "stdout",
     "output_type": "stream",
     "text": [
      "(13542, 1005) (2019, 1005)\n"
     ]
    },
    {
     "name": "stderr",
     "output_type": "stream",
     "text": [
      "/scratch/fongsl/ipykernel_12815/2031676860.py:95: FutureWarning: merging between different levels is deprecated and will be removed in a future version. (1 levels on the left, 2 on the right)\n",
      "  summary_stats= summary_stats.join(ci)\n",
      "gzip: /wynton/home/ahituv/fongsl/nullomers/data/phylop/shuf-mutations-uniq-woRMSK.GENCODE-exon_no-overlap-ref.only-0-phylop.txt.gz already has .gz suffix -- unchanged\n"
     ]
    },
    {
     "name": "stdout",
     "output_type": "stream",
     "text": [
      "(13580, 1005) (2009, 1005)\n"
     ]
    },
    {
     "name": "stderr",
     "output_type": "stream",
     "text": [
      "/scratch/fongsl/ipykernel_12815/2031676860.py:95: FutureWarning: merging between different levels is deprecated and will be removed in a future version. (1 levels on the left, 2 on the right)\n",
      "  summary_stats= summary_stats.join(ci)\n",
      "gzip: /wynton/home/ahituv/fongsl/nullomers/data/phylop/shuf-mutations-uniq-woRMSK.GENCODE-exon_no-overlap-ref.only-13-phylop.txt.gz already has .gz suffix -- unchanged\n"
     ]
    },
    {
     "name": "stdout",
     "output_type": "stream",
     "text": [
      "(13583, 1005) (1986, 1005)\n"
     ]
    },
    {
     "name": "stderr",
     "output_type": "stream",
     "text": [
      "/scratch/fongsl/ipykernel_12815/2031676860.py:95: FutureWarning: merging between different levels is deprecated and will be removed in a future version. (1 levels on the left, 2 on the right)\n",
      "  summary_stats= summary_stats.join(ci)\n",
      "gzip: /wynton/home/ahituv/fongsl/nullomers/data/phylop/shuf-mutations-uniq-woRMSK.GENCODE-exon_no-overlap-ref.only-32-phylop.txt.gz already has .gz suffix -- unchanged\n"
     ]
    },
    {
     "name": "stdout",
     "output_type": "stream",
     "text": [
      "(13593, 1005) (2145, 1005)\n"
     ]
    },
    {
     "name": "stderr",
     "output_type": "stream",
     "text": [
      "/scratch/fongsl/ipykernel_12815/2031676860.py:95: FutureWarning: merging between different levels is deprecated and will be removed in a future version. (1 levels on the left, 2 on the right)\n",
      "  summary_stats= summary_stats.join(ci)\n",
      "gzip: /wynton/home/ahituv/fongsl/nullomers/data/phylop/shuf-mutations-uniq-woRMSK.GENCODE-exon_no-overlap-ref.only-22-phylop.txt.gz already has .gz suffix -- unchanged\n"
     ]
    },
    {
     "name": "stdout",
     "output_type": "stream",
     "text": [
      "(13596, 1005) (2071, 1005)\n"
     ]
    },
    {
     "name": "stderr",
     "output_type": "stream",
     "text": [
      "/scratch/fongsl/ipykernel_12815/2031676860.py:95: FutureWarning: merging between different levels is deprecated and will be removed in a future version. (1 levels on the left, 2 on the right)\n",
      "  summary_stats= summary_stats.join(ci)\n",
      "gzip: /wynton/home/ahituv/fongsl/nullomers/data/phylop/shuf-mutations-uniq-woRMSK.GENCODE-exon_no-overlap-ref.only-14-phylop.txt.gz already has .gz suffix -- unchanged\n"
     ]
    },
    {
     "name": "stdout",
     "output_type": "stream",
     "text": [
      "(13575, 1005) (2002, 1005)\n"
     ]
    },
    {
     "name": "stderr",
     "output_type": "stream",
     "text": [
      "/scratch/fongsl/ipykernel_12815/2031676860.py:95: FutureWarning: merging between different levels is deprecated and will be removed in a future version. (1 levels on the left, 2 on the right)\n",
      "  summary_stats= summary_stats.join(ci)\n",
      "gzip: /wynton/home/ahituv/fongsl/nullomers/data/phylop/shuf-mutations-uniq-woRMSK.GENCODE-exon_no-overlap-ref.only-24-phylop.txt.gz already has .gz suffix -- unchanged\n"
     ]
    },
    {
     "name": "stdout",
     "output_type": "stream",
     "text": [
      "(13584, 1005) (2099, 1005)\n"
     ]
    },
    {
     "name": "stderr",
     "output_type": "stream",
     "text": [
      "/scratch/fongsl/ipykernel_12815/2031676860.py:95: FutureWarning: merging between different levels is deprecated and will be removed in a future version. (1 levels on the left, 2 on the right)\n",
      "  summary_stats= summary_stats.join(ci)\n",
      "gzip: /wynton/home/ahituv/fongsl/nullomers/data/phylop/shuf-mutations-uniq-woRMSK.GENCODE-exon_no-overlap-ref.only-37-phylop.txt.gz already has .gz suffix -- unchanged\n"
     ]
    },
    {
     "name": "stdout",
     "output_type": "stream",
     "text": [
      "(13541, 1005) (2015, 1005)\n"
     ]
    },
    {
     "name": "stderr",
     "output_type": "stream",
     "text": [
      "/scratch/fongsl/ipykernel_12815/2031676860.py:95: FutureWarning: merging between different levels is deprecated and will be removed in a future version. (1 levels on the left, 2 on the right)\n",
      "  summary_stats= summary_stats.join(ci)\n",
      "gzip: /wynton/home/ahituv/fongsl/nullomers/data/phylop/shuf-mutations-uniq-woRMSK.GENCODE-exon_no-overlap-ref.only-28-phylop.txt.gz already has .gz suffix -- unchanged\n"
     ]
    },
    {
     "name": "stdout",
     "output_type": "stream",
     "text": [
      "(13543, 1005) (1996, 1005)\n"
     ]
    },
    {
     "name": "stderr",
     "output_type": "stream",
     "text": [
      "/scratch/fongsl/ipykernel_12815/2031676860.py:95: FutureWarning: merging between different levels is deprecated and will be removed in a future version. (1 levels on the left, 2 on the right)\n",
      "  summary_stats= summary_stats.join(ci)\n",
      "gzip: /wynton/home/ahituv/fongsl/nullomers/data/phylop/shuf-mutations-uniq-woRMSK.GENCODE-exon_no-overlap-ref.only-18-phylop.txt.gz already has .gz suffix -- unchanged\n"
     ]
    },
    {
     "name": "stdout",
     "output_type": "stream",
     "text": [
      "(13562, 1005) (1992, 1005)\n"
     ]
    },
    {
     "name": "stderr",
     "output_type": "stream",
     "text": [
      "/scratch/fongsl/ipykernel_12815/2031676860.py:95: FutureWarning: merging between different levels is deprecated and will be removed in a future version. (1 levels on the left, 2 on the right)\n",
      "  summary_stats= summary_stats.join(ci)\n",
      "gzip: /wynton/home/ahituv/fongsl/nullomers/data/phylop/shuf-mutations-uniq-woRMSK.GENCODE-exon_no-overlap-ref.only-17-phylop.txt.gz already has .gz suffix -- unchanged\n"
     ]
    },
    {
     "name": "stdout",
     "output_type": "stream",
     "text": [
      "(13529, 1005) (2088, 1005)\n"
     ]
    },
    {
     "name": "stderr",
     "output_type": "stream",
     "text": [
      "/scratch/fongsl/ipykernel_12815/2031676860.py:95: FutureWarning: merging between different levels is deprecated and will be removed in a future version. (1 levels on the left, 2 on the right)\n",
      "  summary_stats= summary_stats.join(ci)\n",
      "gzip: /wynton/home/ahituv/fongsl/nullomers/data/phylop/shuf-mutations-uniq-woRMSK.GENCODE-exon_no-overlap-ref.only-8-phylop.txt.gz already has .gz suffix -- unchanged\n"
     ]
    },
    {
     "name": "stdout",
     "output_type": "stream",
     "text": [
      "(13566, 1005) (1990, 1005)\n"
     ]
    },
    {
     "name": "stderr",
     "output_type": "stream",
     "text": [
      "/scratch/fongsl/ipykernel_12815/2031676860.py:95: FutureWarning: merging between different levels is deprecated and will be removed in a future version. (1 levels on the left, 2 on the right)\n",
      "  summary_stats= summary_stats.join(ci)\n",
      "gzip: /wynton/home/ahituv/fongsl/nullomers/data/phylop/shuf-mutations-uniq-woRMSK.GENCODE-exon_no-overlap-ref.only-10-phylop.txt.gz already has .gz suffix -- unchanged\n"
     ]
    },
    {
     "name": "stdout",
     "output_type": "stream",
     "text": [
      "(13569, 1005) (2034, 1005)\n"
     ]
    },
    {
     "name": "stderr",
     "output_type": "stream",
     "text": [
      "/scratch/fongsl/ipykernel_12815/2031676860.py:95: FutureWarning: merging between different levels is deprecated and will be removed in a future version. (1 levels on the left, 2 on the right)\n",
      "  summary_stats= summary_stats.join(ci)\n",
      "gzip: /wynton/home/ahituv/fongsl/nullomers/data/phylop/shuf-mutations-uniq-woRMSK.GENCODE-exon_no-overlap-ref.only-4-phylop.txt.gz already has .gz suffix -- unchanged\n"
     ]
    },
    {
     "name": "stdout",
     "output_type": "stream",
     "text": [
      "(13540, 1005) (2074, 1005)\n"
     ]
    },
    {
     "name": "stderr",
     "output_type": "stream",
     "text": [
      "/scratch/fongsl/ipykernel_12815/2031676860.py:95: FutureWarning: merging between different levels is deprecated and will be removed in a future version. (1 levels on the left, 2 on the right)\n",
      "  summary_stats= summary_stats.join(ci)\n",
      "gzip: /wynton/home/ahituv/fongsl/nullomers/data/phylop/shuf-mutations-uniq-woRMSK.GENCODE-exon_no-overlap-ref.only-9-phylop.txt.gz already has .gz suffix -- unchanged\n"
     ]
    },
    {
     "name": "stdout",
     "output_type": "stream",
     "text": [
      "(13591, 1005) (2004, 1005)\n"
     ]
    },
    {
     "name": "stderr",
     "output_type": "stream",
     "text": [
      "/scratch/fongsl/ipykernel_12815/2031676860.py:95: FutureWarning: merging between different levels is deprecated and will be removed in a future version. (1 levels on the left, 2 on the right)\n",
      "  summary_stats= summary_stats.join(ci)\n",
      "gzip: /wynton/home/ahituv/fongsl/nullomers/data/phylop/shuf-mutations-uniq-woRMSK.GENCODE-exon_no-overlap-ref.only-31-phylop.txt.gz already has .gz suffix -- unchanged\n"
     ]
    },
    {
     "name": "stdout",
     "output_type": "stream",
     "text": [
      "(13581, 1005) (1979, 1005)\n"
     ]
    },
    {
     "name": "stderr",
     "output_type": "stream",
     "text": [
      "/scratch/fongsl/ipykernel_12815/2031676860.py:95: FutureWarning: merging between different levels is deprecated and will be removed in a future version. (1 levels on the left, 2 on the right)\n",
      "  summary_stats= summary_stats.join(ci)\n",
      "gzip: /wynton/home/ahituv/fongsl/nullomers/data/phylop/shuf-mutations-uniq-woRMSK.GENCODE-exon_no-overlap-ref.only-1-phylop.txt.gz already has .gz suffix -- unchanged\n"
     ]
    },
    {
     "name": "stdout",
     "output_type": "stream",
     "text": [
      "(13591, 1005) (2034, 1005)\n"
     ]
    },
    {
     "name": "stderr",
     "output_type": "stream",
     "text": [
      "/scratch/fongsl/ipykernel_12815/2031676860.py:95: FutureWarning: merging between different levels is deprecated and will be removed in a future version. (1 levels on the left, 2 on the right)\n",
      "  summary_stats= summary_stats.join(ci)\n",
      "gzip: /wynton/home/ahituv/fongsl/nullomers/data/phylop/shuf-mutations-uniq-woRMSK.GENCODE-exon_no-overlap-ref.only-6-phylop.txt.gz already has .gz suffix -- unchanged\n"
     ]
    },
    {
     "name": "stdout",
     "output_type": "stream",
     "text": [
      "(13578, 1005) (1997, 1005)\n"
     ]
    },
    {
     "name": "stderr",
     "output_type": "stream",
     "text": [
      "/scratch/fongsl/ipykernel_12815/2031676860.py:95: FutureWarning: merging between different levels is deprecated and will be removed in a future version. (1 levels on the left, 2 on the right)\n",
      "  summary_stats= summary_stats.join(ci)\n",
      "gzip: /wynton/home/ahituv/fongsl/nullomers/data/phylop/shuf-mutations-uniq-woRMSK.GENCODE-exon_no-overlap-ref.only-2-phylop.txt.gz already has .gz suffix -- unchanged\n"
     ]
    },
    {
     "name": "stdout",
     "output_type": "stream",
     "text": [
      "(13554, 1005) (1986, 1005)\n"
     ]
    },
    {
     "name": "stderr",
     "output_type": "stream",
     "text": [
      "/scratch/fongsl/ipykernel_12815/2031676860.py:95: FutureWarning: merging between different levels is deprecated and will be removed in a future version. (1 levels on the left, 2 on the right)\n",
      "  summary_stats= summary_stats.join(ci)\n",
      "gzip: /wynton/home/ahituv/fongsl/nullomers/data/phylop/shuf-mutations-uniq-woRMSK.GENCODE-exon_no-overlap-ref.only-15-phylop.txt.gz already has .gz suffix -- unchanged\n"
     ]
    },
    {
     "name": "stdout",
     "output_type": "stream",
     "text": [
      "(13566, 1005) (1977, 1005)\n"
     ]
    },
    {
     "name": "stderr",
     "output_type": "stream",
     "text": [
      "/scratch/fongsl/ipykernel_12815/2031676860.py:95: FutureWarning: merging between different levels is deprecated and will be removed in a future version. (1 levels on the left, 2 on the right)\n",
      "  summary_stats= summary_stats.join(ci)\n",
      "gzip: /wynton/home/ahituv/fongsl/nullomers/data/phylop/shuf-mutations-uniq-woRMSK.GENCODE-exon_no-overlap-ref.only-50-phylop.txt.gz already has .gz suffix -- unchanged\n"
     ]
    },
    {
     "name": "stdout",
     "output_type": "stream",
     "text": [
      "(13576, 1005) (1928, 1005)\n"
     ]
    },
    {
     "name": "stderr",
     "output_type": "stream",
     "text": [
      "/scratch/fongsl/ipykernel_12815/2031676860.py:95: FutureWarning: merging between different levels is deprecated and will be removed in a future version. (1 levels on the left, 2 on the right)\n",
      "  summary_stats= summary_stats.join(ci)\n",
      "gzip: /wynton/home/ahituv/fongsl/nullomers/data/phylop/shuf-mutations-uniq-woRMSK.GENCODE-exon_no-overlap-ref.only-21-phylop.txt.gz already has .gz suffix -- unchanged\n"
     ]
    },
    {
     "name": "stdout",
     "output_type": "stream",
     "text": [
      "(13560, 1005) (1928, 1005)\n"
     ]
    },
    {
     "name": "stderr",
     "output_type": "stream",
     "text": [
      "/scratch/fongsl/ipykernel_12815/2031676860.py:95: FutureWarning: merging between different levels is deprecated and will be removed in a future version. (1 levels on the left, 2 on the right)\n",
      "  summary_stats= summary_stats.join(ci)\n",
      "gzip: /wynton/home/ahituv/fongsl/nullomers/data/phylop/shuf-mutations-uniq-woRMSK.GENCODE-exon_no-overlap-ref.only-33-phylop.txt.gz already has .gz suffix -- unchanged\n"
     ]
    },
    {
     "name": "stdout",
     "output_type": "stream",
     "text": [
      "(13587, 1005) (2051, 1005)\n"
     ]
    },
    {
     "name": "stderr",
     "output_type": "stream",
     "text": [
      "/scratch/fongsl/ipykernel_12815/2031676860.py:95: FutureWarning: merging between different levels is deprecated and will be removed in a future version. (1 levels on the left, 2 on the right)\n",
      "  summary_stats= summary_stats.join(ci)\n",
      "gzip: /wynton/home/ahituv/fongsl/nullomers/data/phylop/shuf-mutations-uniq-woRMSK.GENCODE-exon_no-overlap-ref.only-11-phylop.txt.gz already has .gz suffix -- unchanged\n"
     ]
    },
    {
     "name": "stdout",
     "output_type": "stream",
     "text": [
      "(13568, 1005) (2009, 1005)\n"
     ]
    },
    {
     "name": "stderr",
     "output_type": "stream",
     "text": [
      "/scratch/fongsl/ipykernel_12815/2031676860.py:95: FutureWarning: merging between different levels is deprecated and will be removed in a future version. (1 levels on the left, 2 on the right)\n",
      "  summary_stats= summary_stats.join(ci)\n",
      "gzip: /wynton/home/ahituv/fongsl/nullomers/data/phylop/shuf-mutations-uniq-woRMSK.GENCODE-exon_no-overlap-ref.only-12-phylop.txt.gz already has .gz suffix -- unchanged\n"
     ]
    },
    {
     "name": "stdout",
     "output_type": "stream",
     "text": [
      "(13560, 1005) (2047, 1005)\n"
     ]
    },
    {
     "name": "stderr",
     "output_type": "stream",
     "text": [
      "/scratch/fongsl/ipykernel_12815/2031676860.py:95: FutureWarning: merging between different levels is deprecated and will be removed in a future version. (1 levels on the left, 2 on the right)\n",
      "  summary_stats= summary_stats.join(ci)\n",
      "gzip: /wynton/home/ahituv/fongsl/nullomers/data/phylop/shuf-mutations-uniq-woRMSK.GENCODE-exon_no-overlap-ref.only-20-phylop.txt.gz already has .gz suffix -- unchanged\n"
     ]
    },
    {
     "name": "stdout",
     "output_type": "stream",
     "text": [
      "(13614, 1005) (2050, 1005)\n"
     ]
    },
    {
     "name": "stderr",
     "output_type": "stream",
     "text": [
      "/scratch/fongsl/ipykernel_12815/2031676860.py:95: FutureWarning: merging between different levels is deprecated and will be removed in a future version. (1 levels on the left, 2 on the right)\n",
      "  summary_stats= summary_stats.join(ci)\n",
      "gzip: /wynton/home/ahituv/fongsl/nullomers/data/phylop/shuf-mutations-uniq-woRMSK.GENCODE-exon_no-overlap-ref.only-16-phylop.txt.gz already has .gz suffix -- unchanged\n"
     ]
    },
    {
     "name": "stdout",
     "output_type": "stream",
     "text": [
      "(13594, 1005) (2016, 1005)\n"
     ]
    },
    {
     "name": "stderr",
     "output_type": "stream",
     "text": [
      "/scratch/fongsl/ipykernel_12815/2031676860.py:95: FutureWarning: merging between different levels is deprecated and will be removed in a future version. (1 levels on the left, 2 on the right)\n",
      "  summary_stats= summary_stats.join(ci)\n",
      "gzip: /wynton/home/ahituv/fongsl/nullomers/data/phylop/shuf-mutations-uniq-woRMSK.GENCODE-exon_no-overlap-ref.only-19-phylop.txt.gz already has .gz suffix -- unchanged\n"
     ]
    },
    {
     "name": "stdout",
     "output_type": "stream",
     "text": [
      "(13566, 1005) (2003, 1005)\n"
     ]
    },
    {
     "name": "stderr",
     "output_type": "stream",
     "text": [
      "/scratch/fongsl/ipykernel_12815/2031676860.py:95: FutureWarning: merging between different levels is deprecated and will be removed in a future version. (1 levels on the left, 2 on the right)\n",
      "  summary_stats= summary_stats.join(ci)\n",
      "gzip: /wynton/home/ahituv/fongsl/nullomers/data/phylop/shuf-mutations-uniq-woRMSK.GENCODE-exon_no-overlap-ref.only-38-phylop.txt.gz already has .gz suffix -- unchanged\n"
     ]
    },
    {
     "name": "stdout",
     "output_type": "stream",
     "text": [
      "(13547, 1005) (1979, 1005)\n"
     ]
    },
    {
     "name": "stderr",
     "output_type": "stream",
     "text": [
      "/scratch/fongsl/ipykernel_12815/2031676860.py:95: FutureWarning: merging between different levels is deprecated and will be removed in a future version. (1 levels on the left, 2 on the right)\n",
      "  summary_stats= summary_stats.join(ci)\n",
      "gzip: /wynton/home/ahituv/fongsl/nullomers/data/phylop/shuf-mutations-uniq-woRMSK.GENCODE-exon_no-overlap-ref.only-36-phylop.txt.gz already has .gz suffix -- unchanged\n"
     ]
    },
    {
     "name": "stdout",
     "output_type": "stream",
     "text": [
      "(13566, 1005) (2086, 1005)\n"
     ]
    },
    {
     "name": "stderr",
     "output_type": "stream",
     "text": [
      "/scratch/fongsl/ipykernel_12815/2031676860.py:95: FutureWarning: merging between different levels is deprecated and will be removed in a future version. (1 levels on the left, 2 on the right)\n",
      "  summary_stats= summary_stats.join(ci)\n",
      "gzip: /wynton/home/ahituv/fongsl/nullomers/data/phylop/shuf-mutations-uniq-woRMSK.GENCODE-exon_no-overlap-ref.only-30-phylop.txt.gz already has .gz suffix -- unchanged\n"
     ]
    },
    {
     "name": "stdout",
     "output_type": "stream",
     "text": [
      "(13542, 1005) (1997, 1005)\n"
     ]
    },
    {
     "name": "stderr",
     "output_type": "stream",
     "text": [
      "/scratch/fongsl/ipykernel_12815/2031676860.py:95: FutureWarning: merging between different levels is deprecated and will be removed in a future version. (1 levels on the left, 2 on the right)\n",
      "  summary_stats= summary_stats.join(ci)\n",
      "gzip: /wynton/home/ahituv/fongsl/nullomers/data/phylop/shuf-mutations-uniq-woRMSK.GENCODE-exon_no-overlap-ref.only-29-phylop.txt.gz already has .gz suffix -- unchanged\n"
     ]
    },
    {
     "name": "stdout",
     "output_type": "stream",
     "text": [
      "(13544, 1005) (2019, 1005)\n"
     ]
    },
    {
     "name": "stderr",
     "output_type": "stream",
     "text": [
      "/scratch/fongsl/ipykernel_12815/2031676860.py:95: FutureWarning: merging between different levels is deprecated and will be removed in a future version. (1 levels on the left, 2 on the right)\n",
      "  summary_stats= summary_stats.join(ci)\n",
      "gzip: /wynton/home/ahituv/fongsl/nullomers/data/phylop/shuf-mutations-uniq-woRMSK.GENCODE-exon_no-overlap-ref.only-7-phylop.txt.gz already has .gz suffix -- unchanged\n"
     ]
    },
    {
     "name": "stdout",
     "output_type": "stream",
     "text": [
      "(13588, 1005) (1930, 1005)\n"
     ]
    },
    {
     "name": "stderr",
     "output_type": "stream",
     "text": [
      "/scratch/fongsl/ipykernel_12815/2031676860.py:95: FutureWarning: merging between different levels is deprecated and will be removed in a future version. (1 levels on the left, 2 on the right)\n",
      "  summary_stats= summary_stats.join(ci)\n",
      "gzip: /wynton/home/ahituv/fongsl/nullomers/data/phylop/shuf-mutations-uniq-woRMSK.GENCODE-exon_no-overlap-ref.only-3-phylop.txt.gz already has .gz suffix -- unchanged\n"
     ]
    },
    {
     "name": "stdout",
     "output_type": "stream",
     "text": [
      "(13558, 1005) (2035, 1005)\n"
     ]
    },
    {
     "name": "stderr",
     "output_type": "stream",
     "text": [
      "/scratch/fongsl/ipykernel_12815/2031676860.py:95: FutureWarning: merging between different levels is deprecated and will be removed in a future version. (1 levels on the left, 2 on the right)\n",
      "  summary_stats= summary_stats.join(ci)\n",
      "gzip: /wynton/home/ahituv/fongsl/nullomers/data/phylop/shuf-mutations-uniq-woRMSK.GENCODE-exon_no-overlap-ref.only-39-phylop.txt.gz already has .gz suffix -- unchanged\n"
     ]
    },
    {
     "name": "stdout",
     "output_type": "stream",
     "text": [
      "(13549, 1005) (1950, 1005)\n"
     ]
    },
    {
     "name": "stderr",
     "output_type": "stream",
     "text": [
      "/scratch/fongsl/ipykernel_12815/2031676860.py:95: FutureWarning: merging between different levels is deprecated and will be removed in a future version. (1 levels on the left, 2 on the right)\n",
      "  summary_stats= summary_stats.join(ci)\n",
      "gzip: /wynton/home/ahituv/fongsl/nullomers/data/phylop/shuf-mutations-uniq-woRMSK.GENCODE-exon_no-overlap-ref.only-25-phylop.txt.gz already has .gz suffix -- unchanged\n"
     ]
    },
    {
     "name": "stdout",
     "output_type": "stream",
     "text": [
      "(13606, 1005) (2069, 1005)\n"
     ]
    },
    {
     "name": "stderr",
     "output_type": "stream",
     "text": [
      "/scratch/fongsl/ipykernel_12815/2031676860.py:95: FutureWarning: merging between different levels is deprecated and will be removed in a future version. (1 levels on the left, 2 on the right)\n",
      "  summary_stats= summary_stats.join(ci)\n",
      "gzip: /wynton/home/ahituv/fongsl/nullomers/data/phylop/shuf-mutations-uniq-woRMSK.GENCODE-exon_no-overlap-ref.only-27-phylop.txt.gz already has .gz suffix -- unchanged\n"
     ]
    },
    {
     "name": "stdout",
     "output_type": "stream",
     "text": [
      "(13559, 1005) (2109, 1005)\n"
     ]
    },
    {
     "name": "stderr",
     "output_type": "stream",
     "text": [
      "/scratch/fongsl/ipykernel_12815/2031676860.py:95: FutureWarning: merging between different levels is deprecated and will be removed in a future version. (1 levels on the left, 2 on the right)\n",
      "  summary_stats= summary_stats.join(ci)\n",
      "gzip: /wynton/home/ahituv/fongsl/nullomers/data/phylop/shuf-mutations-uniq-woRMSK.GENCODE-exon_no-overlap-ref.only-26-phylop.txt.gz already has .gz suffix -- unchanged\n"
     ]
    },
    {
     "name": "stdout",
     "output_type": "stream",
     "text": [
      "(13552, 1005) (1949, 1005)\n"
     ]
    },
    {
     "name": "stderr",
     "output_type": "stream",
     "text": [
      "/scratch/fongsl/ipykernel_12815/2031676860.py:95: FutureWarning: merging between different levels is deprecated and will be removed in a future version. (1 levels on the left, 2 on the right)\n",
      "  summary_stats= summary_stats.join(ci)\n",
      "gzip: /wynton/home/ahituv/fongsl/nullomers/data/phylop/shuf-mutations-uniq-woRMSK.GENCODE-exon_no-overlap-ref.only-23-phylop.txt.gz already has .gz suffix -- unchanged\n"
     ]
    },
    {
     "name": "stdout",
     "output_type": "stream",
     "text": [
      "(13536, 1005) (2088, 1005)\n"
     ]
    },
    {
     "name": "stderr",
     "output_type": "stream",
     "text": [
      "/scratch/fongsl/ipykernel_12815/2031676860.py:95: FutureWarning: merging between different levels is deprecated and will be removed in a future version. (1 levels on the left, 2 on the right)\n",
      "  summary_stats= summary_stats.join(ci)\n",
      "gzip: /wynton/home/ahituv/fongsl/nullomers/data/phylop/shuf-mutations-uniq-woRMSK.GENCODE-exon_no-overlap-ref.only-55-phylop.txt.gz already has .gz suffix -- unchanged\n"
     ]
    },
    {
     "name": "stdout",
     "output_type": "stream",
     "text": [
      "(13558, 1005) (1993, 1005)\n"
     ]
    },
    {
     "name": "stderr",
     "output_type": "stream",
     "text": [
      "/scratch/fongsl/ipykernel_12815/2031676860.py:95: FutureWarning: merging between different levels is deprecated and will be removed in a future version. (1 levels on the left, 2 on the right)\n",
      "  summary_stats= summary_stats.join(ci)\n",
      "gzip: /wynton/home/ahituv/fongsl/nullomers/data/phylop/shuf-mutations-uniq-woRMSK.GENCODE-exon_no-overlap-ref.only-34-phylop.txt.gz already has .gz suffix -- unchanged\n"
     ]
    },
    {
     "name": "stdout",
     "output_type": "stream",
     "text": [
      "(13576, 1005) (2020, 1005)\n"
     ]
    },
    {
     "name": "stderr",
     "output_type": "stream",
     "text": [
      "/scratch/fongsl/ipykernel_12815/2031676860.py:95: FutureWarning: merging between different levels is deprecated and will be removed in a future version. (1 levels on the left, 2 on the right)\n",
      "  summary_stats= summary_stats.join(ci)\n",
      "gzip: /wynton/home/ahituv/fongsl/nullomers/data/phylop/shuf-mutations-uniq-woRMSK.GENCODE-exon_no-overlap-ref.only-75-phylop.txt.gz already has .gz suffix -- unchanged\n"
     ]
    },
    {
     "name": "stdout",
     "output_type": "stream",
     "text": [
      "(13572, 1005) (2046, 1005)\n"
     ]
    },
    {
     "name": "stderr",
     "output_type": "stream",
     "text": [
      "/scratch/fongsl/ipykernel_12815/2031676860.py:95: FutureWarning: merging between different levels is deprecated and will be removed in a future version. (1 levels on the left, 2 on the right)\n",
      "  summary_stats= summary_stats.join(ci)\n",
      "gzip: /wynton/home/ahituv/fongsl/nullomers/data/phylop/shuf-mutations-uniq-woRMSK.GENCODE-exon_no-overlap-ref.only-61-phylop.txt.gz already has .gz suffix -- unchanged\n"
     ]
    },
    {
     "name": "stdout",
     "output_type": "stream",
     "text": [
      "(13550, 1005) (1987, 1005)\n"
     ]
    },
    {
     "name": "stderr",
     "output_type": "stream",
     "text": [
      "/scratch/fongsl/ipykernel_12815/2031676860.py:95: FutureWarning: merging between different levels is deprecated and will be removed in a future version. (1 levels on the left, 2 on the right)\n",
      "  summary_stats= summary_stats.join(ci)\n",
      "gzip: /wynton/home/ahituv/fongsl/nullomers/data/phylop/shuf-mutations-uniq-woRMSK.GENCODE-exon_no-overlap-ref.only-42-phylop.txt.gz already has .gz suffix -- unchanged\n"
     ]
    },
    {
     "name": "stdout",
     "output_type": "stream",
     "text": [
      "(13570, 1005) (2065, 1005)\n"
     ]
    },
    {
     "name": "stderr",
     "output_type": "stream",
     "text": [
      "/scratch/fongsl/ipykernel_12815/2031676860.py:95: FutureWarning: merging between different levels is deprecated and will be removed in a future version. (1 levels on the left, 2 on the right)\n",
      "  summary_stats= summary_stats.join(ci)\n",
      "gzip: /wynton/home/ahituv/fongsl/nullomers/data/phylop/shuf-mutations-uniq-woRMSK.GENCODE-exon_no-overlap-ref.only-51-phylop.txt.gz already has .gz suffix -- unchanged\n"
     ]
    },
    {
     "name": "stdout",
     "output_type": "stream",
     "text": [
      "(13571, 1005) (2022, 1005)\n"
     ]
    },
    {
     "name": "stderr",
     "output_type": "stream",
     "text": [
      "/scratch/fongsl/ipykernel_12815/2031676860.py:95: FutureWarning: merging between different levels is deprecated and will be removed in a future version. (1 levels on the left, 2 on the right)\n",
      "  summary_stats= summary_stats.join(ci)\n",
      "gzip: /wynton/home/ahituv/fongsl/nullomers/data/phylop/shuf-mutations-uniq-woRMSK.GENCODE-exon_no-overlap-ref.only-49-phylop.txt.gz already has .gz suffix -- unchanged\n"
     ]
    },
    {
     "name": "stdout",
     "output_type": "stream",
     "text": [
      "(13574, 1005) (1977, 1005)\n"
     ]
    },
    {
     "name": "stderr",
     "output_type": "stream",
     "text": [
      "/scratch/fongsl/ipykernel_12815/2031676860.py:95: FutureWarning: merging between different levels is deprecated and will be removed in a future version. (1 levels on the left, 2 on the right)\n",
      "  summary_stats= summary_stats.join(ci)\n",
      "gzip: /wynton/home/ahituv/fongsl/nullomers/data/phylop/shuf-mutations-uniq-woRMSK.GENCODE-exon_no-overlap-ref.only-35-phylop.txt.gz already has .gz suffix -- unchanged\n"
     ]
    },
    {
     "name": "stdout",
     "output_type": "stream",
     "text": [
      "(13555, 1005) (2041, 1005)\n"
     ]
    },
    {
     "name": "stderr",
     "output_type": "stream",
     "text": [
      "/scratch/fongsl/ipykernel_12815/2031676860.py:95: FutureWarning: merging between different levels is deprecated and will be removed in a future version. (1 levels on the left, 2 on the right)\n",
      "  summary_stats= summary_stats.join(ci)\n",
      "gzip: /wynton/home/ahituv/fongsl/nullomers/data/phylop/shuf-mutations-uniq-woRMSK.GENCODE-exon_no-overlap-ref.only-60-phylop.txt.gz already has .gz suffix -- unchanged\n"
     ]
    },
    {
     "name": "stdout",
     "output_type": "stream",
     "text": [
      "(13578, 1005) (2027, 1005)\n"
     ]
    },
    {
     "name": "stderr",
     "output_type": "stream",
     "text": [
      "/scratch/fongsl/ipykernel_12815/2031676860.py:95: FutureWarning: merging between different levels is deprecated and will be removed in a future version. (1 levels on the left, 2 on the right)\n",
      "  summary_stats= summary_stats.join(ci)\n",
      "gzip: /wynton/home/ahituv/fongsl/nullomers/data/phylop/shuf-mutations-uniq-woRMSK.GENCODE-exon_no-overlap-ref.only-56-phylop.txt.gz already has .gz suffix -- unchanged\n"
     ]
    },
    {
     "name": "stdout",
     "output_type": "stream",
     "text": [
      "(13576, 1005) (2012, 1005)\n"
     ]
    },
    {
     "name": "stderr",
     "output_type": "stream",
     "text": [
      "/scratch/fongsl/ipykernel_12815/2031676860.py:95: FutureWarning: merging between different levels is deprecated and will be removed in a future version. (1 levels on the left, 2 on the right)\n",
      "  summary_stats= summary_stats.join(ci)\n",
      "gzip: /wynton/home/ahituv/fongsl/nullomers/data/phylop/shuf-mutations-uniq-woRMSK.GENCODE-exon_no-overlap-ref.only-44-phylop.txt.gz already has .gz suffix -- unchanged\n"
     ]
    },
    {
     "name": "stdout",
     "output_type": "stream",
     "text": [
      "(13578, 1005) (2059, 1005)\n"
     ]
    },
    {
     "name": "stderr",
     "output_type": "stream",
     "text": [
      "/scratch/fongsl/ipykernel_12815/2031676860.py:95: FutureWarning: merging between different levels is deprecated and will be removed in a future version. (1 levels on the left, 2 on the right)\n",
      "  summary_stats= summary_stats.join(ci)\n",
      "gzip: /wynton/home/ahituv/fongsl/nullomers/data/phylop/shuf-mutations-uniq-woRMSK.GENCODE-exon_no-overlap-ref.only-59-phylop.txt.gz already has .gz suffix -- unchanged\n"
     ]
    },
    {
     "name": "stdout",
     "output_type": "stream",
     "text": [
      "(13565, 1005) (2025, 1005)\n"
     ]
    },
    {
     "name": "stderr",
     "output_type": "stream",
     "text": [
      "/scratch/fongsl/ipykernel_12815/2031676860.py:95: FutureWarning: merging between different levels is deprecated and will be removed in a future version. (1 levels on the left, 2 on the right)\n",
      "  summary_stats= summary_stats.join(ci)\n",
      "gzip: /wynton/home/ahituv/fongsl/nullomers/data/phylop/shuf-mutations-uniq-woRMSK.GENCODE-exon_no-overlap-ref.only-85-phylop.txt.gz already has .gz suffix -- unchanged\n"
     ]
    },
    {
     "name": "stdout",
     "output_type": "stream",
     "text": [
      "(13564, 1005) (1978, 1005)\n"
     ]
    },
    {
     "name": "stderr",
     "output_type": "stream",
     "text": [
      "/scratch/fongsl/ipykernel_12815/2031676860.py:95: FutureWarning: merging between different levels is deprecated and will be removed in a future version. (1 levels on the left, 2 on the right)\n",
      "  summary_stats= summary_stats.join(ci)\n",
      "gzip: /wynton/home/ahituv/fongsl/nullomers/data/phylop/shuf-mutations-uniq-woRMSK.GENCODE-exon_no-overlap-ref.only-46-phylop.txt.gz already has .gz suffix -- unchanged\n"
     ]
    },
    {
     "name": "stdout",
     "output_type": "stream",
     "text": [
      "(13575, 1005) (1997, 1005)\n"
     ]
    },
    {
     "name": "stderr",
     "output_type": "stream",
     "text": [
      "/scratch/fongsl/ipykernel_12815/2031676860.py:95: FutureWarning: merging between different levels is deprecated and will be removed in a future version. (1 levels on the left, 2 on the right)\n",
      "  summary_stats= summary_stats.join(ci)\n",
      "gzip: /wynton/home/ahituv/fongsl/nullomers/data/phylop/shuf-mutations-uniq-woRMSK.GENCODE-exon_no-overlap-ref.only-77-phylop.txt.gz already has .gz suffix -- unchanged\n"
     ]
    },
    {
     "name": "stdout",
     "output_type": "stream",
     "text": [
      "(13556, 1005) (2036, 1005)\n"
     ]
    },
    {
     "name": "stderr",
     "output_type": "stream",
     "text": [
      "/scratch/fongsl/ipykernel_12815/2031676860.py:95: FutureWarning: merging between different levels is deprecated and will be removed in a future version. (1 levels on the left, 2 on the right)\n",
      "  summary_stats= summary_stats.join(ci)\n",
      "gzip: /wynton/home/ahituv/fongsl/nullomers/data/phylop/shuf-mutations-uniq-woRMSK.GENCODE-exon_no-overlap-ref.only-43-phylop.txt.gz already has .gz suffix -- unchanged\n"
     ]
    }
   ],
   "source": [
    "SETS = [('EXON-OVERLAP', \"*-exon_overlap*.txt.gz\"), \n",
    "       (\"EXON-NO-OVERLAP\", \"*-exon_no-overlap*.txt.gz\")]\n",
    "\n",
    "for datatype, query in SETS:\n",
    "\n",
    "    #1\n",
    "    file_list = glob.glob(os.path.join(DATA_PATH, query))\n",
    "    print(len(file_list))\n",
    "\n",
    "\n",
    "    value_col =\"phylop\"\n",
    "    for f in file_list:\n",
    "        out = getSummaryStats(f, value_col, matched)"
   ]
  },
  {
   "cell_type": "markdown",
   "id": "2f7fc06c",
   "metadata": {},
   "source": [
    "# get GC results"
   ]
  },
  {
   "cell_type": "code",
   "execution_count": 27,
   "id": "3c9b9fef",
   "metadata": {
    "ExecuteTime": {
     "end_time": "2023-01-16T02:17:09.505976Z",
     "start_time": "2023-01-16T02:17:00.634109Z"
    }
   },
   "outputs": [
    {
     "name": "stderr",
     "output_type": "stream",
     "text": [
      "/scratch/fongsl/ipykernel_38449/1702824403.py:17: DtypeWarning: Columns (4,5,6,7,8,9,10) have mixed types. Specify dtype option on import or set low_memory=False.\n",
      "  df = pd.read_csv(f, sep='\\t', header = None)\n"
     ]
    },
    {
     "ename": "KeyboardInterrupt",
     "evalue": "",
     "output_type": "error",
     "traceback": [
      "\u001b[0;31m---------------------------------------------------------------------------\u001b[0m",
      "\u001b[0;31mKeyboardInterrupt\u001b[0m                         Traceback (most recent call last)",
      "Cell \u001b[0;32mIn [27], line 21\u001b[0m\n\u001b[1;32m     18\u001b[0m df[\u001b[38;5;124m\"\u001b[39m\u001b[38;5;124mid\u001b[39m\u001b[38;5;124m\"\u001b[39m] \u001b[38;5;241m=\u001b[39m df[\u001b[38;5;241m0\u001b[39m] \u001b[38;5;241m+\u001b[39m \u001b[38;5;124m\"\u001b[39m\u001b[38;5;124m:\u001b[39m\u001b[38;5;124m\"\u001b[39m \u001b[38;5;241m+\u001b[39m df[\u001b[38;5;241m1\u001b[39m]\u001b[38;5;241m.\u001b[39mmap(\u001b[38;5;28mstr\u001b[39m) \u001b[38;5;241m+\u001b[39m \u001b[38;5;124m'\u001b[39m\u001b[38;5;124m-\u001b[39m\u001b[38;5;124m'\u001b[39m \u001b[38;5;241m+\u001b[39mdf[\u001b[38;5;241m2\u001b[39m]\u001b[38;5;241m.\u001b[39mmap(\u001b[38;5;28mstr\u001b[39m)\n\u001b[1;32m     19\u001b[0m df[\u001b[38;5;124m\"\u001b[39m\u001b[38;5;124mlabel\u001b[39m\u001b[38;5;124m\"\u001b[39m] \u001b[38;5;241m=\u001b[39m LABEL\n\u001b[0;32m---> 21\u001b[0m keep \u001b[38;5;241m=\u001b[39m df\u001b[38;5;241m.\u001b[39mloc[\u001b[43mdf\u001b[49m\u001b[43m[\u001b[49m\u001b[38;5;124;43m\"\u001b[39;49m\u001b[38;5;124;43mid\u001b[39;49m\u001b[38;5;124;43m\"\u001b[39;49m\u001b[43m]\u001b[49m\u001b[38;5;241;43m.\u001b[39;49m\u001b[43misin\u001b[49m\u001b[43m(\u001b[49m\u001b[38;5;28;43mset\u001b[39;49m\u001b[43m(\u001b[49m\u001b[43mmatched\u001b[49m\u001b[43m[\u001b[49m\u001b[38;5;124;43m\"\u001b[39;49m\u001b[38;5;124;43mid\u001b[39;49m\u001b[38;5;124;43m\"\u001b[39;49m\u001b[43m]\u001b[49m\u001b[43m)\u001b[49m\u001b[43m)\u001b[49m]\u001b[38;5;241m.\u001b[39mcopy() \u001b[38;5;66;03m# keep only GC content matched elements\u001b[39;00m\n\u001b[1;32m     24\u001b[0m df_list\u001b[38;5;241m.\u001b[39mappend(df)  \n",
      "File \u001b[0;32m/scratch/fongsl/conda-stage-8YlC/wynenv/lib/python3.10/site-packages/pandas/core/series.py:5563\u001b[0m, in \u001b[0;36mSeries.isin\u001b[0;34m(self, values)\u001b[0m\n\u001b[1;32m   5490\u001b[0m \u001b[38;5;28;01mdef\u001b[39;00m \u001b[38;5;21misin\u001b[39m(\u001b[38;5;28mself\u001b[39m, values) \u001b[38;5;241m-\u001b[39m\u001b[38;5;241m>\u001b[39m Series:\n\u001b[1;32m   5491\u001b[0m     \u001b[38;5;124;03m\"\"\"\u001b[39;00m\n\u001b[1;32m   5492\u001b[0m \u001b[38;5;124;03m    Whether elements in Series are contained in `values`.\u001b[39;00m\n\u001b[1;32m   5493\u001b[0m \n\u001b[0;32m   (...)\u001b[0m\n\u001b[1;32m   5561\u001b[0m \u001b[38;5;124;03m    dtype: bool\u001b[39;00m\n\u001b[1;32m   5562\u001b[0m \u001b[38;5;124;03m    \"\"\"\u001b[39;00m\n\u001b[0;32m-> 5563\u001b[0m     result \u001b[38;5;241m=\u001b[39m \u001b[43malgorithms\u001b[49m\u001b[38;5;241;43m.\u001b[39;49m\u001b[43misin\u001b[49m\u001b[43m(\u001b[49m\u001b[38;5;28;43mself\u001b[39;49m\u001b[38;5;241;43m.\u001b[39;49m\u001b[43m_values\u001b[49m\u001b[43m,\u001b[49m\u001b[43m \u001b[49m\u001b[43mvalues\u001b[49m\u001b[43m)\u001b[49m\n\u001b[1;32m   5564\u001b[0m     \u001b[38;5;28;01mreturn\u001b[39;00m \u001b[38;5;28mself\u001b[39m\u001b[38;5;241m.\u001b[39m_constructor(result, index\u001b[38;5;241m=\u001b[39m\u001b[38;5;28mself\u001b[39m\u001b[38;5;241m.\u001b[39mindex)\u001b[38;5;241m.\u001b[39m__finalize__(\n\u001b[1;32m   5565\u001b[0m         \u001b[38;5;28mself\u001b[39m, method\u001b[38;5;241m=\u001b[39m\u001b[38;5;124m\"\u001b[39m\u001b[38;5;124misin\u001b[39m\u001b[38;5;124m\"\u001b[39m\n\u001b[1;32m   5566\u001b[0m     )\n",
      "File \u001b[0;32m/scratch/fongsl/conda-stage-8YlC/wynenv/lib/python3.10/site-packages/pandas/core/algorithms.py:523\u001b[0m, in \u001b[0;36misin\u001b[0;34m(comps, values)\u001b[0m\n\u001b[1;32m    520\u001b[0m     comps_array \u001b[38;5;241m=\u001b[39m comps_array\u001b[38;5;241m.\u001b[39mastype(common, copy\u001b[38;5;241m=\u001b[39m\u001b[38;5;28;01mFalse\u001b[39;00m)\n\u001b[1;32m    521\u001b[0m     f \u001b[38;5;241m=\u001b[39m htable\u001b[38;5;241m.\u001b[39mismember\n\u001b[0;32m--> 523\u001b[0m \u001b[38;5;28;01mreturn\u001b[39;00m \u001b[43mf\u001b[49m\u001b[43m(\u001b[49m\u001b[43mcomps_array\u001b[49m\u001b[43m,\u001b[49m\u001b[43m \u001b[49m\u001b[43mvalues\u001b[49m\u001b[43m)\u001b[49m\n",
      "\u001b[0;31mKeyboardInterrupt\u001b[0m: "
     ]
    }
   ],
   "source": [
    "GC_SETS = [('EXON-OVERLAP', \"*-exon_overlap*SUMMARY_STATS_GC.txt\"), \n",
    "       (\"EXON-NO-OVERLAP\", \"*-exon_no-overlap*SUMMARY_STATS_GC.txt\")]\n",
    "\n",
    "for datatype, query in SETS:\n",
    "    file_list = glob.glob(os.path.join(DATA_PATH, query))\n",
    "#2\n",
    "df_list = []\n",
    "\n",
    "#3\n",
    "for f in file_list:\n",
    "\n",
    "    # assign static label\n",
    "    if \"shuf\" in f:\n",
    "        LABEL = f\"SHUF-{datatype}\"\n",
    "    else:\n",
    "        LABEL = datatype\n",
    "    #4\n",
    "    ID = f.split(\"/\")[-1]\n",
    "\n",
    "\n",
    "    #5\n",
    "    df = pd.read_csv(f, sep='\\t', header = None)\n",
    "    df[\"label\"] = LABEL\n",
    "\n",
    "\n",
    "\n",
    "    df_list.append(df)  "
   ]
  },
  {
   "cell_type": "code",
   "execution_count": null,
   "id": "7c53b6cb",
   "metadata": {
    "ExecuteTime": {
     "start_time": "2023-01-16T02:53:01.982Z"
    }
   },
   "outputs": [],
   "source": [
    "out"
   ]
  },
  {
   "cell_type": "code",
   "execution_count": 26,
   "id": "cd1a1178",
   "metadata": {
    "ExecuteTime": {
     "end_time": "2023-01-16T02:15:15.537780Z",
     "start_time": "2023-01-16T02:15:14.148564Z"
    }
   },
   "outputs": [
    {
     "data": {
      "text/plain": [
       "(620, 1005)"
      ]
     },
     "execution_count": 26,
     "metadata": {},
     "output_type": "execute_result"
    }
   ],
   "source": [
    "df.loc[df[\"id\"].isin(set(matched[\"id\"]))]"
   ]
  },
  {
   "cell_type": "code",
   "execution_count": 11,
   "id": "6a6de333",
   "metadata": {
    "ExecuteTime": {
     "end_time": "2023-01-16T02:10:21.941852Z",
     "start_time": "2023-01-16T02:10:21.936401Z"
    }
   },
   "outputs": [],
   "source": [
    "#6\n",
    "df = pd.concat(df_list)\n",
    "\n",
    "#7\n",
    "nullo = df.loc[df[\"label\"] == datatype]\n",
    "shuf = df.loc[df[\"label\"] != datatype]"
   ]
  },
  {
   "cell_type": "markdown",
   "id": "40f24912",
   "metadata": {},
   "source": [
    "# write all the stats to a file"
   ]
  },
  {
   "cell_type": "code",
   "execution_count": 33,
   "id": "54c7c5ec",
   "metadata": {
    "ExecuteTime": {
     "end_time": "2022-12-21T23:23:55.741188Z",
     "start_time": "2022-12-21T23:23:55.628329Z"
    }
   },
   "outputs": [],
   "source": [
    " out_stat=os.path.join(RE, f\"{DATASET}_{ANNOT}_empirical-stats.txt\")\n",
    "\n",
    "with open(out_stat, \"w\") as writer:\n",
    "    for line in lines:\n",
    "        writer.write(line)\n",
    "    writer.close()"
   ]
  },
  {
   "cell_type": "code",
   "execution_count": null,
   "id": "4958f16c",
   "metadata": {},
   "outputs": [],
   "source": []
  }
 ],
 "metadata": {
  "kernelspec": {
   "display_name": "Python 3 (ipykernel)",
   "language": "python",
   "name": "python3"
  },
  "language_info": {
   "codemirror_mode": {
    "name": "ipython",
    "version": 3
   },
   "file_extension": ".py",
   "mimetype": "text/x-python",
   "name": "python",
   "nbconvert_exporter": "python",
   "pygments_lexer": "ipython3",
   "version": "3.10.8"
  },
  "toc": {
   "base_numbering": 1,
   "nav_menu": {},
   "number_sections": true,
   "sideBar": true,
   "skip_h1_title": false,
   "title_cell": "Table of Contents",
   "title_sidebar": "Contents",
   "toc_cell": false,
   "toc_position": {},
   "toc_section_display": true,
   "toc_window_display": false
  }
 },
 "nbformat": 4,
 "nbformat_minor": 5
}
