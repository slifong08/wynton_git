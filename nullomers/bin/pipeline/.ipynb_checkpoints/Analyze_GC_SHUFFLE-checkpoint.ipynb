{
 "cells": [
  {
   "cell_type": "markdown",
   "id": "36b6056e",
   "metadata": {},
   "source": [
    "# Analyze GC SHUFFLE"
   ]
  },
  {
   "cell_type": "code",
   "execution_count": 1,
   "id": "db25ca76",
   "metadata": {
    "ExecuteTime": {
     "end_time": "2023-01-16T01:08:05.143085Z",
     "start_time": "2023-01-16T01:07:00.280134Z"
    }
   },
   "outputs": [],
   "source": [
    "import glob\n",
    "from itertools import product\n",
    "import numpy as np\n",
    "import os, sys\n",
    "import pandas as pd\n",
    "import subprocess as sp\n",
    "\n",
    "import matplotlib.pyplot as plt\n",
    "import seaborn as sns\n",
    "\n",
    "\n",
    "sys.path.append(\"/wynton/home/ahituv/fongsl/tools/py_\")\n",
    "import config_readwrite as crw\n",
    "\n",
    "sys.path.append(\"/wynton/home/ahituv/fongsl/tools/genome\")\n",
    "import gc_content\n",
    "import chr_functions as chr_"
   ]
  },
  {
   "cell_type": "code",
   "execution_count": 2,
   "id": "1e64fefd",
   "metadata": {
    "ExecuteTime": {
     "end_time": "2023-01-16T01:08:14.054971Z",
     "start_time": "2023-01-16T01:08:13.832105Z"
    }
   },
   "outputs": [],
   "source": [
    "# load config\n",
    "config_tag = \"config-exon.ini\"\n",
    "config, configfile_name = crw.read_config(os.path.join(os.getcwd(), config_tag))"
   ]
  },
  {
   "cell_type": "code",
   "execution_count": 3,
   "id": "51789445",
   "metadata": {
    "ExecuteTime": {
     "end_time": "2023-01-16T01:08:14.607795Z",
     "start_time": "2023-01-16T01:08:14.602878Z"
    }
   },
   "outputs": [],
   "source": [
    "GC_PATH = config[\"GC\"][\"PATH\"]"
   ]
  },
  {
   "cell_type": "markdown",
   "id": "f9a1837e",
   "metadata": {},
   "source": [
    "# compile df from GC results\n",
    "#### 1 min 40 seconds"
   ]
  },
  {
   "cell_type": "code",
   "execution_count": 6,
   "id": "2c510aa9",
   "metadata": {
    "ExecuteTime": {
     "end_time": "2023-01-16T01:11:56.002332Z",
     "start_time": "2023-01-16T01:10:37.102991Z"
    }
   },
   "outputs": [
    {
     "data": {
      "text/plain": [
       "1002"
      ]
     },
     "execution_count": 6,
     "metadata": {},
     "output_type": "execute_result"
    }
   ],
   "source": [
    "files = glob.glob(os.path.join(GC_PATH,  \"*.tsv\"))\n",
    "\n",
    "collection = {}\n",
    "for f in files:\n",
    "    if \"exon_overlap\" in f:\n",
    "        identity = 'EXON'\n",
    "    else:\n",
    "        identity = \"NO-EXON\"\n",
    "        \n",
    "    if \"shuf\" in f:\n",
    "        dtype = \"SHUF-\" + identity\n",
    "    else:\n",
    "        dtype = identity\n",
    "    id_=os.path.basename(f)\n",
    "    df = pd.read_csv(f, sep='\\t', header=None, names=[\"id\", \"gc_frac\", \"gc_dinuc_frac\"])\n",
    "    df['datatype'] = dtype\n",
    "    collection[id_]=df\n",
    "\n",
    "\n",
    "len(collection.keys())"
   ]
  },
  {
   "cell_type": "code",
   "execution_count": 7,
   "id": "75fe5ced",
   "metadata": {
    "ExecuteTime": {
     "end_time": "2023-01-16T01:11:58.119001Z",
     "start_time": "2023-01-16T01:11:56.005554Z"
    }
   },
   "outputs": [
    {
     "name": "stdout",
     "output_type": "stream",
     "text": [
      "(8992978, 4)\n"
     ]
    }
   ],
   "source": [
    "df = pd.concat(collection.values())\n",
    "df = df.loc[df[\"gc_frac\"]!=0]  # 232436 are zero, all ids are in the SHUF-NO-EXON category\n",
    "\n",
    "print(df.shape)"
   ]
  },
  {
   "cell_type": "code",
   "execution_count": 8,
   "id": "9752bfe3",
   "metadata": {
    "ExecuteTime": {
     "end_time": "2023-01-16T01:12:01.433782Z",
     "start_time": "2023-01-16T01:11:58.121299Z"
    }
   },
   "outputs": [
    {
     "data": {
      "text/html": [
       "<div>\n",
       "<style scoped>\n",
       "    .dataframe tbody tr th:only-of-type {\n",
       "        vertical-align: middle;\n",
       "    }\n",
       "\n",
       "    .dataframe tbody tr th {\n",
       "        vertical-align: top;\n",
       "    }\n",
       "\n",
       "    .dataframe thead tr th {\n",
       "        text-align: left;\n",
       "    }\n",
       "\n",
       "    .dataframe thead tr:last-of-type th {\n",
       "        text-align: right;\n",
       "    }\n",
       "</style>\n",
       "<table border=\"1\" class=\"dataframe\">\n",
       "  <thead>\n",
       "    <tr>\n",
       "      <th></th>\n",
       "      <th colspan=\"8\" halign=\"left\">gc_frac</th>\n",
       "      <th colspan=\"8\" halign=\"left\">gc_dinuc_frac</th>\n",
       "    </tr>\n",
       "    <tr>\n",
       "      <th></th>\n",
       "      <th>count</th>\n",
       "      <th>mean</th>\n",
       "      <th>std</th>\n",
       "      <th>min</th>\n",
       "      <th>25%</th>\n",
       "      <th>50%</th>\n",
       "      <th>75%</th>\n",
       "      <th>max</th>\n",
       "      <th>count</th>\n",
       "      <th>mean</th>\n",
       "      <th>std</th>\n",
       "      <th>min</th>\n",
       "      <th>25%</th>\n",
       "      <th>50%</th>\n",
       "      <th>75%</th>\n",
       "      <th>max</th>\n",
       "    </tr>\n",
       "    <tr>\n",
       "      <th>datatype</th>\n",
       "      <th></th>\n",
       "      <th></th>\n",
       "      <th></th>\n",
       "      <th></th>\n",
       "      <th></th>\n",
       "      <th></th>\n",
       "      <th></th>\n",
       "      <th></th>\n",
       "      <th></th>\n",
       "      <th></th>\n",
       "      <th></th>\n",
       "      <th></th>\n",
       "      <th></th>\n",
       "      <th></th>\n",
       "      <th></th>\n",
       "      <th></th>\n",
       "    </tr>\n",
       "  </thead>\n",
       "  <tbody>\n",
       "    <tr>\n",
       "      <th>EXON</th>\n",
       "      <td>4281.0</td>\n",
       "      <td>0.558964</td>\n",
       "      <td>0.114209</td>\n",
       "      <td>0.266733</td>\n",
       "      <td>0.473526</td>\n",
       "      <td>0.571429</td>\n",
       "      <td>0.645355</td>\n",
       "      <td>0.837163</td>\n",
       "      <td>4281.0</td>\n",
       "      <td>0.104055</td>\n",
       "      <td>0.046458</td>\n",
       "      <td>0.018981</td>\n",
       "      <td>0.065934</td>\n",
       "      <td>0.099900</td>\n",
       "      <td>0.136863</td>\n",
       "      <td>0.247752</td>\n",
       "    </tr>\n",
       "    <tr>\n",
       "      <th>NO-EXON</th>\n",
       "      <td>14133.0</td>\n",
       "      <td>0.476893</td>\n",
       "      <td>0.107882</td>\n",
       "      <td>0.209790</td>\n",
       "      <td>0.391608</td>\n",
       "      <td>0.460539</td>\n",
       "      <td>0.555445</td>\n",
       "      <td>0.844156</td>\n",
       "      <td>14133.0</td>\n",
       "      <td>0.072690</td>\n",
       "      <td>0.037287</td>\n",
       "      <td>0.013986</td>\n",
       "      <td>0.044955</td>\n",
       "      <td>0.062937</td>\n",
       "      <td>0.091908</td>\n",
       "      <td>0.250749</td>\n",
       "    </tr>\n",
       "    <tr>\n",
       "      <th>SHUF-EXON</th>\n",
       "      <td>2140500.0</td>\n",
       "      <td>0.458369</td>\n",
       "      <td>0.102410</td>\n",
       "      <td>0.095904</td>\n",
       "      <td>0.379620</td>\n",
       "      <td>0.440559</td>\n",
       "      <td>0.526474</td>\n",
       "      <td>0.869131</td>\n",
       "      <td>2140500.0</td>\n",
       "      <td>0.063416</td>\n",
       "      <td>0.032718</td>\n",
       "      <td>0.001998</td>\n",
       "      <td>0.040959</td>\n",
       "      <td>0.054945</td>\n",
       "      <td>0.076923</td>\n",
       "      <td>0.270729</td>\n",
       "    </tr>\n",
       "    <tr>\n",
       "      <th>SHUF-NO-EXON</th>\n",
       "      <td>6834064.0</td>\n",
       "      <td>0.408005</td>\n",
       "      <td>0.079753</td>\n",
       "      <td>0.000999</td>\n",
       "      <td>0.349650</td>\n",
       "      <td>0.396603</td>\n",
       "      <td>0.454545</td>\n",
       "      <td>1.000000</td>\n",
       "      <td>6834064.0</td>\n",
       "      <td>0.048050</td>\n",
       "      <td>0.020198</td>\n",
       "      <td>0.000000</td>\n",
       "      <td>0.033966</td>\n",
       "      <td>0.043956</td>\n",
       "      <td>0.056943</td>\n",
       "      <td>0.263736</td>\n",
       "    </tr>\n",
       "  </tbody>\n",
       "</table>\n",
       "</div>"
      ],
      "text/plain": [
       "                gc_frac                                                    \\\n",
       "                  count      mean       std       min       25%       50%   \n",
       "datatype                                                                    \n",
       "EXON             4281.0  0.558964  0.114209  0.266733  0.473526  0.571429   \n",
       "NO-EXON         14133.0  0.476893  0.107882  0.209790  0.391608  0.460539   \n",
       "SHUF-EXON     2140500.0  0.458369  0.102410  0.095904  0.379620  0.440559   \n",
       "SHUF-NO-EXON  6834064.0  0.408005  0.079753  0.000999  0.349650  0.396603   \n",
       "\n",
       "                                 gc_dinuc_frac                                \\\n",
       "                   75%       max         count      mean       std       min   \n",
       "datatype                                                                       \n",
       "EXON          0.645355  0.837163        4281.0  0.104055  0.046458  0.018981   \n",
       "NO-EXON       0.555445  0.844156       14133.0  0.072690  0.037287  0.013986   \n",
       "SHUF-EXON     0.526474  0.869131     2140500.0  0.063416  0.032718  0.001998   \n",
       "SHUF-NO-EXON  0.454545  1.000000     6834064.0  0.048050  0.020198  0.000000   \n",
       "\n",
       "                                                      \n",
       "                   25%       50%       75%       max  \n",
       "datatype                                              \n",
       "EXON          0.065934  0.099900  0.136863  0.247752  \n",
       "NO-EXON       0.044955  0.062937  0.091908  0.250749  \n",
       "SHUF-EXON     0.040959  0.054945  0.076923  0.270729  \n",
       "SHUF-NO-EXON  0.033966  0.043956  0.056943  0.263736  "
      ]
     },
     "execution_count": 8,
     "metadata": {},
     "output_type": "execute_result"
    }
   ],
   "source": [
    "df.groupby(\"datatype\").describe()"
   ]
  },
  {
   "cell_type": "code",
   "execution_count": null,
   "id": "06ce8150",
   "metadata": {
    "ExecuteTime": {
     "end_time": "2023-01-12T16:45:15.844653Z",
     "start_time": "2023-01-12T16:44:52.151548Z"
    }
   },
   "outputs": [],
   "source": [
    "# plot GC fraction\n",
    "\n",
    "# HIST plot of % of %GC\n",
    "sns.histplot(x=\"gc_frac\", data=df, hue= \"datatype\", stat=\"percent\", common_norm=False)\n",
    "\n",
    "# KDE plot of % of %GC\n",
    "sns.kdeplot(x=\"gc_frac\", data=df, hue= \"datatype\",\n",
    "            #stat=\"percent\", \n",
    "            common_norm=False)\n",
    "\n",
    "# N of % GC\n",
    "sns.histplot(x=\"gc_frac\", data=df, hue= \"datatype\")\n",
    "\n",
    "# HIST plot of % of %GC_DINUCLEOTIDE\n",
    "sns.histplot(x=\"gc_dinuc_frac\", data=df, hue= \"datatype\", stat=\"percent\", common_norm=False)\n",
    "\n",
    "# KDE plot of % of %GC_DINUCLEOTIDE\n",
    "sns.kdeplot(x=\"gc_dinuc_frac\", data=df, hue= \"datatype\", \n",
    "            #stat=\"percent\", \n",
    "            common_norm=False)"
   ]
  },
  {
   "cell_type": "markdown",
   "id": "94441554",
   "metadata": {},
   "source": [
    "# functions to match GC distribution on "
   ]
  },
  {
   "cell_type": "code",
   "execution_count": 10,
   "id": "a2b19771",
   "metadata": {
    "ExecuteTime": {
     "end_time": "2023-01-16T01:15:34.131875Z",
     "start_time": "2023-01-16T01:15:34.126893Z"
    },
    "code_folding": [
     0
    ]
   },
   "outputs": [],
   "source": [
    "def assignBin(val, bins_list, nbins):\n",
    "    \n",
    "    \"\"\"\n",
    "    input \n",
    "        val(float) - value to be binned.\n",
    "        bins_list (list) - ascending sorted list of bin values (floats).\n",
    "        nbins (int) - number of bins considered\n",
    "    \n",
    "    method\n",
    "        1. iterate through bin values (which are in ascending order). \n",
    "        2. Find the bin value is greater than or equal to the val-to-be-binned. \n",
    "        3. return that value\n",
    "\n",
    "    return \n",
    "        bin label (int) - bin number that the value belongs in. \n",
    "        \n",
    "    \"\"\"\n",
    "    #1\n",
    "    for b, label in zip(bins_list, np.arange(nbins)):\n",
    "        \n",
    "        #2\n",
    "        if b>=val:\n",
    "            #print(b, val, label)\n",
    "            \n",
    "            # \n",
    "            return label"
   ]
  },
  {
   "cell_type": "code",
   "execution_count": 11,
   "id": "752618e5",
   "metadata": {
    "ExecuteTime": {
     "end_time": "2023-01-16T01:15:34.689966Z",
     "start_time": "2023-01-16T01:15:34.685371Z"
    },
    "code_folding": [
     0
    ]
   },
   "outputs": [],
   "source": [
    "def get_95(df, var):\n",
    "    \"\"\"\n",
    "    return top 97.5% and bottom 2.5% values for the column variable in df1\n",
    "    \n",
    "    input\n",
    "        df(pd.DataFrame) - dataframe w/ var \n",
    "        var (str) - name of column to get quantiles from. \n",
    "    \n",
    "    method\n",
    "        pandas quantile function - performed on df[var] series. \n",
    "        \n",
    "    \"\"\"\n",
    "    \n",
    "    return df[var].quantile(0.975), df[var].quantile(0.025)"
   ]
  },
  {
   "cell_type": "code",
   "execution_count": 47,
   "id": "bad12fd3",
   "metadata": {
    "ExecuteTime": {
     "end_time": "2023-01-16T01:54:42.061359Z",
     "start_time": "2023-01-16T01:54:42.056534Z"
    }
   },
   "outputs": [],
   "source": [
    "def matchDf95(df, var, top_975, bottom_025):\n",
    "    \"\"\"\n",
    "    return df subsetted to 95% of data cutoffs (greater than/less than or equal to)\n",
    "    \n",
    "    input\n",
    "        df (pd.Dataframe) - data\n",
    "        var (str) - name of column to use for cutoff\n",
    "        top_975 (float) - upper value for var cutoff\n",
    "        bottom_025 (float) - lower value for var cutoff. \n",
    "        \n",
    "    method\n",
    "        subset dataframe by var column where:\n",
    "            df[var] >= bottom025\n",
    "            and\n",
    "            df[var] <= top975\n",
    "    return \n",
    "        df_subset (pd dataframe) - subset of dataframe\n",
    "    \"\"\"\n",
    "    df_subset = df.loc[\n",
    "                (df[var] >= bottom_025)\n",
    "                & (df[var] <= top_975)\n",
    "                ]\n",
    "    return df_subset"
   ]
  },
  {
   "cell_type": "code",
   "execution_count": 55,
   "id": "f6392a43",
   "metadata": {
    "ExecuteTime": {
     "end_time": "2023-01-16T01:58:07.879061Z",
     "start_time": "2023-01-16T01:58:07.864683Z"
    },
    "code_folding": [
     0
    ]
   },
   "outputs": [],
   "source": [
    "def matchDist(df, col_name, dist1, dist2, var, nbins):\n",
    "    \"\"\"\n",
    "    match distribution of dist2 to dist1 on variable\n",
    "\n",
    "    input\n",
    "        df (pd dataframe) - dataframe w data on dist1, dist2, var, col_name\n",
    "        col_name (str) - name of column w categorical EXON, SHUF-EXON, NO-EXON, SHUF-NO-EXON labels\n",
    "        dist1 (str) - name of the reference distribution to match on\n",
    "        dist2 (str) - name of the variable distribution that needs to be matched to reference dist. \n",
    "        var (str) - name of the variable to match on (column). E.g. gc_content\n",
    "        nbins (int) - number of equally sized bins to split d1 into. This script tries to match the distribution \n",
    "            by separating d2 into equal number of replicate w/ var values similar to d1 bin var values. \n",
    "    \n",
    "    require\n",
    "        pandas.DataFrame, quantile, qcut, sample\n",
    "        numpy.unique, arange\n",
    "        \n",
    "    method\n",
    "        1. separate dist1, dist2 into dataframes\n",
    "        2. match d1, d2 on 95% of dist1 data, removing 5% edges (i.e. top 2.5% and bottom 2.5%). \n",
    "            2.1. First get d1 95% of data\n",
    "            2.2. Second, reduce d1, d2 to 95% data range of d1\n",
    "            \n",
    "        3. separate distribution into N bins (int) w pd.qcut\n",
    "            labels - label w/ bin rank (ordinal) using np.arange\n",
    "            retbins - return bin values\n",
    "\n",
    "            makes:\n",
    "                out (pd.Series) - index and label assignments for input df \n",
    "                bins (np.array) - array of bin cut off values, half-open start, fully-closed stop\n",
    "\n",
    "        4. get counts in each bin, grouping by bin_labels\n",
    "\n",
    "        5. assign bin labels to df2 using assignBin function (custom) and values of var column\n",
    "        6. Find out how many instances are in each bin in d2\n",
    "        7. Select the min value of replicates to select from each bin\n",
    "        8. Sample the replicate value randomly from each bin. \n",
    "\n",
    "\n",
    "    return \n",
    "        matched (pd.DataFrame) - dataframe of randomly sampled d2 elements matched on bin size and 95% d1 value dist. \n",
    "       \n",
    "    \"\"\"\n",
    "\n",
    "    #1\n",
    "    df1, df2 = df.loc[df[col_name]==dist1].copy(), df.loc[df[col_name]==dist2].copy()\n",
    "\n",
    "    #2.1\n",
    "    d1_top, d1_bottom = get_95(df1, var)\n",
    "    \n",
    "    #2.2\n",
    "    df1 = matchDf95(df1, var, d1_top, d1_bottom)\n",
    "    df2 = matchDf95(df2, var, d1_top, d1_bottom)\n",
    "\n",
    "    #3\n",
    "    out, bins = pd.qcut(df1[var], q=nbins, retbins=True, labels = np.arange(nbins))  # bins are sorted ascending\n",
    "\n",
    "    #4\n",
    "    d1_bincounts = out.reset_index().groupby(var).count()\n",
    "\n",
    "    counts = list(d1_bincounts[d1_bincounts.columns[0]]) # counts are relatively the same in each bin\n",
    "\n",
    "    #5\n",
    "    df2[\"dist1bin\"] = df2[\"gc_frac\"].apply(lambda x: assignBin(x, bins, nbins))\n",
    "    df2[\"dist1bin\"] = df2[\"dist1bin\"].fillna(0) # fill in na when bin is assigned zero. \n",
    "\n",
    "    matched, replicates, count_dict = {}, [], {}\n",
    "\n",
    "    #6 find number of dist2 elements that match dist1 per bin\n",
    "    for label, c in zip(np.arange(nbins), counts):\n",
    "\n",
    "        test = df2.loc[df2[\"dist1bin\"]==label]\n",
    "        n, reps = test.shape[0], test.shape[0]/c # number of dist2 replicates per bin\n",
    "        replicates.append(reps)  # add replicate number to list to figure out how many elements to sample for each bin. \n",
    "        count_dict[label] = [test, n, reps] # save everything to the countdict\n",
    "\n",
    "    print(sorted(replicates))\n",
    "\n",
    "    #7 match bin distributions - pick least n replicates to match on for each bin\n",
    "    n_reps = sorted(replicates)[0]\n",
    "\n",
    "    #8\n",
    "    for label, c in zip(np.arange(nbins), counts):\n",
    "        test, n, reps = count_dict[label]\n",
    "\n",
    "        # set the number of elements to sample\n",
    "        if reps < n_reps:\n",
    "            nsample = int(n)\n",
    "\n",
    "        else:\n",
    "            nsample = int(c*n_reps)\n",
    "\n",
    "        print(c, n, n_reps, nsample)\n",
    "\n",
    "        random_sampling = test.sample(n=nsample)\n",
    "        matched[label]=random_sampling\n",
    "\n",
    "    return pd.concat(matched.values())"
   ]
  },
  {
   "cell_type": "code",
   "execution_count": 56,
   "id": "0c302ec9",
   "metadata": {
    "ExecuteTime": {
     "end_time": "2023-01-16T01:58:43.761564Z",
     "start_time": "2023-01-16T01:58:12.403953Z"
    }
   },
   "outputs": [
    {
     "name": "stdout",
     "output_type": "stream",
     "text": [
      "EXON SHUF-EXON\n",
      "[76.42857142857143, 82.78048780487805, 104.72881355932203, 125.39411764705882, 129.5472972972973, 130.87272727272727, 161.91358024691357, 184.83333333333334, 192.77710843373495, 225.61146496815286, 250.33536585365854, 262.8471337579618, 274.3544303797468, 278.812865497076, 347.46783625730995, 370.7245508982036, 448.2207792207792, 650.2341772151899, 753.2682926829268, 910.0759493670886, 935.3170731707318, 959.239263803681, 1260.3609467455622, 1265.6172839506173, 1485.5987261146497]\n",
      "170 21317 76.42857142857143 12992\n",
      "157 233239 76.42857142857143 11999\n",
      "169 213001 76.42857142857143 12916\n",
      "162 205030 76.42857142857143 12381\n",
      "158 143792 76.42857142857143 12075\n",
      "163 156356 76.42857142857143 12457\n",
      "164 153392 76.42857142857143 12534\n",
      "164 123536 76.42857142857143 12534\n",
      "158 102737 76.42857142857143 12075\n",
      "171 59417 76.42857142857143 13069\n",
      "154 69026 76.42857142857143 11770\n",
      "171 47677 76.42857142857143 13069\n",
      "167 61911 76.42857142857143 12763\n",
      "158 43348 76.42857142857143 12075\n",
      "164 41055 76.42857142857143 12534\n",
      "157 41267 76.42857142857143 11999\n",
      "166 32001 76.42857142857143 12687\n",
      "157 35421 76.42857142857143 11999\n",
      "162 29943 76.42857142857143 12381\n",
      "165 21594 76.42857142857143 12610\n",
      "162 26230 76.42857142857143 12381\n",
      "177 18537 76.42857142857143 13527\n",
      "148 19173 76.42857142857143 11311\n",
      "164 13576 76.42857142857143 12534\n",
      "161 12305 76.42857142857143 12305\n",
      "NO-EXON SHUF-NO-EXON\n",
      "[74.75514018691588, 88.01851851851852, 103.12873134328358, 114.51509433962264, 154.41074856046066, 169.61325966850828, 223.60443622920516, 259.83666061705986, 293.3168880455408, 348.62172284644197, 387.69714285714286, 461.89068100358423, 477.57274401473296, 512.5894160583941, 518.8310412573674, 552.875236294896, 569.190053285968, 612.4623467600701, 675.632911392405, 689.79375, 711.15953307393, 838.4216417910447, 887.1102803738318, 889.4191829484902, 1097.8697247706423]\n",
      "540 47530 74.75514018691588 40367\n",
      "545 598339 74.75514018691588 40741\n",
      "563 500743 74.75514018691588 42087\n",
      "535 474604 74.75514018691588 39993\n",
      "536 449394 74.75514018691588 40068\n",
      "553 373625 74.75514018691588 41339\n",
      "514 365536 74.75514018691588 38424\n",
      "571 349716 74.75514018691588 42685\n",
      "480 331101 74.75514018691588 35882\n",
      "548 280899 74.75514018691588 40965\n",
      "563 320454 74.75514018691588 42087\n",
      "529 292471 74.75514018691588 39545\n",
      "509 264085 74.75514018691588 38050\n",
      "558 257735 74.75514018691588 41713\n",
      "543 259322 74.75514018691588 40592\n",
      "525 203541 74.75514018691588 39246\n",
      "534 186164 74.75514018691588 39919\n",
      "527 154578 74.75514018691588 39395\n",
      "551 143170 74.75514018691588 41190\n",
      "541 120970 74.75514018691588 40442\n",
      "543 92100 74.75514018691588 40592\n",
      "521 80448 74.75514018691588 38947\n",
      "530 60693 74.75514018691588 39620\n",
      "536 55277 74.75514018691588 40068\n",
      "535 39994 74.75514018691588 39993\n"
     ]
    }
   ],
   "source": [
    "var = \"gc_frac\"\n",
    "col_name = \"datatype\"\n",
    "nbins = 25\n",
    "\n",
    "dists = [('EXON', \"SHUF-EXON\"), (\"NO-EXON\", \"SHUF-NO-EXON\")]\n",
    "\n",
    "results = {}\n",
    "for dist1, dist2 in dists:\n",
    "    print(dist1, dist2)\n",
    "    matched = matchDist(df, col_name, dist1, dist2, var, nbins)\n",
    "    results[dist1] = matched"
   ]
  },
  {
   "cell_type": "code",
   "execution_count": 57,
   "id": "0e851547",
   "metadata": {
    "ExecuteTime": {
     "end_time": "2023-01-16T01:58:47.256407Z",
     "start_time": "2023-01-16T01:58:46.521969Z"
    }
   },
   "outputs": [
    {
     "data": {
      "text/plain": [
       "(             gc_frac  gc_dinuc_frac       dist1bin\n",
       " count  310977.000000  310977.000000  310977.000000\n",
       " mean        0.555224       0.094371      11.972998\n",
       " std         0.105774       0.041399       7.213204\n",
       " min         0.337662       0.001998       0.000000\n",
       " 25%         0.474525       0.060939       6.000000\n",
       " 50%         0.568432       0.087912      12.000000\n",
       " 75%         0.639361       0.121878      18.000000\n",
       " max         0.752248       0.242757      24.000000,\n",
       "            gc_frac  gc_dinuc_frac\n",
       " count  4281.000000    4281.000000\n",
       " mean      0.558964       0.104055\n",
       " std       0.114209       0.046458\n",
       " min       0.266733       0.018981\n",
       " 25%       0.473526       0.065934\n",
       " 50%       0.571429       0.099900\n",
       " 75%       0.645355       0.136863\n",
       " max       0.837163       0.247752)"
      ]
     },
     "execution_count": 57,
     "metadata": {},
     "output_type": "execute_result"
    }
   ],
   "source": [
    "m = results[\"EXON\"]\n",
    "e = df.loc[df[\"datatype\"]==\"EXON\"]\n",
    "me = pd.concat([m,e]) # concat\n",
    "m.describe(), e.describe()"
   ]
  },
  {
   "cell_type": "code",
   "execution_count": 51,
   "id": "1207f285",
   "metadata": {
    "ExecuteTime": {
     "end_time": "2023-01-16T01:56:31.676257Z",
     "start_time": "2023-01-16T01:56:28.602631Z"
    }
   },
   "outputs": [
    {
     "data": {
      "text/plain": [
       "<AxesSubplot:xlabel='gc_frac', ylabel='Density'>"
      ]
     },
     "execution_count": 51,
     "metadata": {},
     "output_type": "execute_result"
    },
    {
     "data": {
      "image/png": "[encoded data removed]",
      "text/plain": [
       "<Figure size 600x600 with 1 Axes>"
      ]
     },
     "metadata": {},
     "output_type": "display_data"
    }
   ],
   "source": [
    "fig, ax = plt.subplots(figsize=(6,6))\n",
    "sns.kdeplot(x=\"gc_frac\", data=me, hue= \"datatype\",\n",
    "            #stat=\"percent\", \n",
    "            common_norm=False, ax = ax)\n"
   ]
  },
  {
   "cell_type": "code",
   "execution_count": 52,
   "id": "9c21ef02",
   "metadata": {
    "ExecuteTime": {
     "end_time": "2023-01-16T01:56:37.088433Z",
     "start_time": "2023-01-16T01:56:35.258887Z"
    }
   },
   "outputs": [
    {
     "data": {
      "text/plain": [
       "<AxesSubplot:xlabel='gc_frac', ylabel='Percent'>"
      ]
     },
     "execution_count": 52,
     "metadata": {},
     "output_type": "execute_result"
    },
    {
     "data": {
      "image/png": "[encoded data removed]",
      "text/plain": [
       "<Figure size 640x480 with 1 Axes>"
      ]
     },
     "metadata": {},
     "output_type": "display_data"
    }
   ],
   "source": [
    "sns.histplot(x=\"gc_frac\", data=me, hue= \"datatype\",\n",
    "            stat=\"percent\", \n",
    "            common_norm=False)"
   ]
  },
  {
   "cell_type": "code",
   "execution_count": 60,
   "id": "fe7caa20",
   "metadata": {
    "ExecuteTime": {
     "end_time": "2023-01-16T02:01:05.407091Z",
     "start_time": "2023-01-16T02:00:58.027137Z"
    }
   },
   "outputs": [],
   "source": [
    "matched = pd.concat(results.values())\n",
    "out = f\"/wynton/home/ahituv/fongsl/nullomers/data/MATCHED_{var}_nbins-{nbins}.tsv\"\n",
    "matched.to_csv(out, sep='\\t', index=False)"
   ]
  },
  {
   "cell_type": "code",
   "execution_count": 61,
   "id": "3ab40278",
   "metadata": {
    "ExecuteTime": {
     "end_time": "2023-01-16T02:01:05.415900Z",
     "start_time": "2023-01-16T02:01:05.410683Z"
    }
   },
   "outputs": [
    {
     "data": {
      "text/plain": [
       "'/wynton/home/ahituv/fongsl/nullomers/data/MATCHED_gc_frac_nbins-25.tsv'"
      ]
     },
     "execution_count": 61,
     "metadata": {},
     "output_type": "execute_result"
    }
   ],
   "source": [
    "out"
   ]
  },
  {
   "cell_type": "code",
   "execution_count": null,
   "id": "8c95e33d",
   "metadata": {},
   "outputs": [],
   "source": []
  }
 ],
 "metadata": {
  "kernelspec": {
   "display_name": "Python (wynenv)",
   "language": "python",
   "name": "wynenv"
  },
  "language_info": {
   "codemirror_mode": {
    "name": "ipython",
    "version": 3
   },
   "file_extension": ".py",
   "mimetype": "text/x-python",
   "name": "python",
   "nbconvert_exporter": "python",
   "pygments_lexer": "ipython3",
   "version": "3.10.8"
  },
  "toc": {
   "base_numbering": 1,
   "nav_menu": {},
   "number_sections": true,
   "sideBar": true,
   "skip_h1_title": false,
   "title_cell": "Table of Contents",
   "title_sidebar": "Contents",
   "toc_cell": false,
   "toc_position": {},
   "toc_section_display": true,
   "toc_window_display": false
  }
 },
 "nbformat": 4,
 "nbformat_minor": 5
}
