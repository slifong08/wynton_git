{
 "cells": [
  {
   "cell_type": "code",
   "execution_count": 6,
   "id": "e8ecf434",
   "metadata": {},
   "outputs": [],
   "source": [
    "import os\n",
    "import subprocess\n",
    "import sys\n",
    "\n",
    "# append path\n",
    "sys.path.append(\"/wynton/home/ahituv/fongsl/tools/py_/\")\n",
    "\n",
    "# import config reader\n",
    "import config_readwrite as crw\n",
    "\n",
    "config_tag = sys.argv[1]\n",
    "config_tag = \"config-exon.ini\"\n",
    "config, configfile_name = crw.read_config(os.path.join(os.getcwd(), config_tag))"
   ]
  },
  {
   "cell_type": "code",
   "execution_count": 7,
   "id": "1818b137",
   "metadata": {},
   "outputs": [
    {
     "data": {
      "text/plain": [
       "'/wynton/home/ahituv/fongsl/nullomers/bin/pipeline/config-exon.ini'"
      ]
     },
     "execution_count": 7,
     "metadata": {},
     "output_type": "execute_result"
    }
   ],
   "source": [
    "configfile_name"
   ]
  },
  {
   "cell_type": "code",
   "execution_count": 38,
   "id": "b2d008ad",
   "metadata": {},
   "outputs": [],
   "source": [
    "DATAPATH = config[\"DATA\"][\"PATH\"]\n",
    "\n",
    "# LINSIGHT resources\n",
    "LINSIGHT_BW_URL = \"http://compgen.cshl.edu/LINSIGHT/LINSIGHT.bw\"  # precomputed scores. In hg19. \n",
    "LINSIGHT_PATH = os.path.join(DATAPATH, \"linsight\")\n",
    "LINSIGHT_BW = os.path.join(LINSIGHT_PATH, \"LINSIGHT.bw\")\n",
    "LINSIGHT_BED = os.path.join(LINSIGHT_PATH, \"LINSIGHT.hg19.bed\")\n",
    "LINSIGHT_BED_HG38 = os.path.join(LINSIGHT_PATH, \"LINSIGHT.liftOver.to.Hg38.bed\")\n",
    "\n",
    "# bigwig to bedgraph executable\n",
    "BIGWIGTOBEDGRAPH_EXE = \"/wynton/home/ahituv/fongsl/nullomers/src/bigWigToBedGraph\"\n",
    "\n",
    "\n",
    "# LIFTOVER \n",
    "# local liftover executable + files. \n",
    "LIFTOVER_EXE = \"/wynton/home/ahituv/fongsl/nullomers/src/liftOver\"\n",
    "LIFTOVER_PY = \"/wynton/home/ahituv/fongsl/tools/evo/liftover_bed-wynton.py\"\n",
    "LOCAL_CHAIN_PATH = \"/wynton/home/ahituv/fongsl/dna\"\n",
    "\n",
    "\n",
    "FROM = \"hg19\"\n",
    "TO = \"Hg38\"\n",
    "CHAIN_URL = f\"https://hgdownload.soe.ucsc.edu/goldenPath/hg19/liftOver/{FROM}To{TO}.over.chain.gz\"\n",
    "LOCAL_CHAIN = os.path.join(LOCAL_CHAIN_PATH,f'{FROM}To{TO}.over.chain.gz')\n",
    "\n",
    "# nullomers\n",
    "NOOVERLAP = config[\"DATAxGENCODE\"][\"nooverlap_ref\"]\n",
    "SHUF_STAR = config[\"SHUFFLE\"][\"noex_exp_star\"]"
   ]
  },
  {
   "cell_type": "code",
   "execution_count": 9,
   "id": "a0ec8891",
   "metadata": {},
   "outputs": [
    {
     "name": "stdout",
     "output_type": "stream",
     "text": [
      "downloading chain file(from hg19, to Hg38) from internet\n"
     ]
    },
    {
     "name": "stderr",
     "output_type": "stream",
     "text": [
      "--2022-12-09 12:59:09--  https://hgdownload.soe.ucsc.edu/goldenPath/hg19/liftOver/hg19ToHg38.over.chain.gz\n",
      "Resolving prox1 (prox1)... 172.26.1.6\n",
      "Connecting to prox1 (prox1)|172.26.1.6|:3128... connected.\n",
      "Proxy request sent, awaiting response... 200 OK\n",
      "Length: 227698 (222K) [application/x-gzip]\n",
      "Saving to: ‘/wynton/home/ahituv/fongsl/dna/hg19ToHg38.over.chain.gz’\n",
      "\n",
      "     0K .......... .......... .......... .......... .......... 22% 8.80M 0s\n",
      "    50K .......... .......... .......... .......... .......... 44% 18.3M 0s\n",
      "   100K .......... .......... .......... .......... .......... 67%  181M 0s\n",
      "   150K .......... .......... .......... .......... .......... 89%  272M 0s\n",
      "   200K .......... .......... ..                              100% 10.7M=0.01s\n",
      "\n",
      "2022-12-09 12:59:09 (20.3 MB/s) - ‘/wynton/home/ahituv/fongsl/dna/hg19ToHg38.over.chain.gz’ saved [227698/227698]\n",
      "\n"
     ]
    },
    {
     "name": "stdout",
     "output_type": "stream",
     "text": [
      "lifting over /scratch/fongsl/nullomers/data/linsight/LINSIGHT.hg19.bed from, to hg19 Hg38 in /scratch/fongsl/nullomers/data/linsight\n",
      "Sorting .bed /scratch/fongsl/nullomers/data/linsight/temp_LINSIGHT.bed\n",
      "liftingOver LINSIGHT \n",
      "\n",
      " liftOver /scratch/fongsl/nullomers/data/linsight/temp_LINSIGHT.bed /wynton/home/ahituv/fongsl/dna/hg19ToHg38.over.chain.gz /scratch/fongsl/nullomers/data/linsight/LINSIGHT.liftOver.to.Hg38.bed /scratch/fongsl/nullomers/data/linsight/LINSIGHT.notlifted.to.Hg38.bed \n",
      "\n",
      "\n",
      "done lifting\n"
     ]
    },
    {
     "name": "stderr",
     "output_type": "stream",
     "text": [
      "/bin/sh: liftOver: command not found\n",
      "Traceback (most recent call last):\n",
      "  File \"/wynton/home/ahituv/fongsl/tools/evo/liftover_bed-wynton.py\", line 137, in <module>\n",
      "    main(sys.argv[1:])\n",
      "  File \"/wynton/home/ahituv/fongsl/tools/evo/liftover_bed-wynton.py\", line 133, in main\n",
      "    liftover(F, path, from_build, to_build)\n",
      "  File \"/wynton/home/ahituv/fongsl/tools/evo/liftover_bed-wynton.py\", line 125, in liftover\n",
      "    if os.path.getsize(lifted) >0:\n",
      "  File \"/scratch/fongsl/conda-stage-150f/wynenv/lib/python3.10/genericpath.py\", line 50, in getsize\n",
      "    return os.stat(filename).st_size\n",
      "FileNotFoundError: [Errno 2] No such file or directory: '/scratch/fongsl/nullomers/data/linsight/LINSIGHT.liftOver.to.Hg38.bed'\n"
     ]
    }
   ],
   "source": [
    "###\n",
    "# LINSIGHT configuration\n",
    "###\n",
    "\n",
    "# if the datafolder does not exist, make it\n",
    "\n",
    "if os.path.exists(LINSIGHT_PATH) is False:\n",
    "    os.mkdir(LINSIGHT_PATH)\n",
    "    print(\"made LINSIGHT data folder\")\n",
    "\n",
    "    \n",
    "# make a section in config file for LINSIGHT, liftover. \n",
    "sections = [\"LIFTOVER\", \"LINSIGHT\"]\n",
    "for section in sections:\n",
    "    crw.check_section(config, section)\n",
    "\n",
    "# download linsight file\n",
    "if os.path.exists(LINSIGHT_BW) is False:\n",
    "    print(\"downloading LINSIGHT.bw (hg19!) from internet\")\n",
    "    os.system(f\"wget -O {LINSIGHT_BW} {LINSIGHT_BW_URL}\")\n",
    "\n",
    "# turn linsight BW -> BED\n",
    "if os.path.exists(LINSIGHT_BED) is False:\n",
    "    print(\"converting BW -> BED\")\n",
    "    os.system(f\"{BIGWIGTOBEDGRAPH_EXE} {LINSIGHT_BW} {LINSIGHT_BED}\")\n",
    "\n",
    "    \n",
    "###\n",
    "# Liftover configuration\n",
    "###\n",
    "\n",
    "# download chain file. \n",
    "if os.path.exists(LOCAL_CHAIN) is False:\n",
    "    \n",
    "    print(f\"downloading chain file(from {FROM}, to {TO}) from internet\")\n",
    "    os.system(f\"wget -O {LOCAL_CHAIN} {CHAIN_URL}\")\n",
    "\n",
    "# do liftover hg19 --> hg38\n",
    "if os.path.exists(LINSIGHT_BED_HG38) is False:\n",
    "    run_liftover = f\"python {LIFTOVER_PY} -b {LINSIGHT_BED} -f {FROM} -t {TO}\"\n",
    "    print(run_liftover)\n",
    "    os.system(run_liftover)"
   ]
  },
  {
   "cell_type": "markdown",
   "id": "728dfc7c",
   "metadata": {},
   "source": [
    "## intersect nullomers x linsght "
   ]
  },
  {
   "cell_type": "code",
   "execution_count": 19,
   "id": "e717ef41",
   "metadata": {},
   "outputs": [],
   "source": [
    "# intersection of non-coding w/ linsight\n",
    "def intersectBedxLINSIGHT(bed, linsight_path, linsight_bed):\n",
    "    \n",
    "    filename = bed.split(\"/\")[-1].strip(\".bed\") + \"xLINSIGHT.bed\"\n",
    "    out = os.path.join(linsight_path, filename)\n",
    "    \n",
    "    if os.path.exists(out) is False:\n",
    "        cmd = f'bedtools intersect -a {bed} -b {linsight_bed} -wa -wb > {out}'\n",
    "        print(\"intersecting bed w/ linsight\")\n",
    "        os.system(cmd)\n",
    "    else:\n",
    "        print(intersected)\n",
    "    \n",
    "    return out"
   ]
  },
  {
   "cell_type": "markdown",
   "id": "03769a33",
   "metadata": {},
   "source": [
    "## intersect non-exonic "
   ]
  },
  {
   "cell_type": "code",
   "execution_count": 22,
   "id": "c3370d2f",
   "metadata": {},
   "outputs": [
    {
     "name": "stdout",
     "output_type": "stream",
     "text": [
      "intersecting bed w/ linsight\n"
     ]
    }
   ],
   "source": [
    "NOOVERLAPxLINSIGHT = intersectBedxLINSIGHT(NOOVERLAP, LINSIGHT_PATH, LINSIGHT_BED_HG38)"
   ]
  },
  {
   "cell_type": "markdown",
   "id": "5649a4fb",
   "metadata": {},
   "source": [
    "## intersec w/ one shuf "
   ]
  },
  {
   "cell_type": "code",
   "execution_count": 41,
   "id": "a53ca685",
   "metadata": {},
   "outputs": [
    {
     "name": "stdout",
     "output_type": "stream",
     "text": [
      "intersecting bed w/ linsight\n"
     ]
    }
   ],
   "source": [
    "import glob\n",
    "shuf = glob.glob(SHUF_STAR)[0]\n",
    "SHUF_X_LINSIGHT = intersectBedxLINSIGHT(shuf, LINSIGHT_PATH, LINSIGHT_BED_HG38)"
   ]
  },
  {
   "cell_type": "code",
   "execution_count": 23,
   "id": "d1e24416",
   "metadata": {},
   "outputs": [],
   "source": [
    "# add to linsight\n",
    "config[\"LINSIGHT\"][\"LINSIGHT_BW_URL\"]=LINSIGHT_BW_URL\n",
    "config[\"LINSIGHT\"][\"LINSIGHT_PATH\"]=LINSIGHT_PATH\n",
    "config[\"LINSIGHT\"][\"LINSIGHT_BW\"]=LINSIGHT_BW\n",
    "config[\"LINSIGHT\"][\"LINSIGHT_BED_HG19\"]=LINSIGHT_BED\n",
    "config[\"LINSIGHT\"][\"LINSIGHT_BED_HG38\"]=LINSIGHT_BED_HG38\n",
    "config[\"LINSIGHT\"][\"NOOVERLAP_REFxLINSIGHT\"] = NOOVERLAPxLINSIGHT\n",
    "\n",
    "\n",
    "# add to liftover config\n",
    "\n",
    "config[\"LIFTOVER\"][\"LIFTOVER_PY\"]=LIFTOVER_PY\n",
    "config[\"LIFTOVER\"][\"LOCAL_CHAIN_PATH\"]=LOCAL_CHAIN_PATH\n",
    "config[\"LIFTOVER\"][\"FROM\"]=FROM\n",
    "config[\"LIFTOVER\"][\"TO\"]=TO\n",
    "config[\"LIFTOVER\"][\"CHAIN_URL\"]=CHAIN_URL\n",
    "config[\"LIFTOVER\"][\"LOCAL_CHAIN\"]=LOCAL_CHAIN\n",
    "\n",
    "# add to src\n",
    "config[\"SRC\"][\"LIFTOVER_EXE\"]=LIFTOVER_EXE\n",
    "config[\"SRC\"][\"BIGWIGTOBEDGRAPH_EXE\"]=BIGWIGTOBEDGRAPH_EXE\n",
    "\n",
    "crw.write_config(config, configfile_name)"
   ]
  },
  {
   "cell_type": "code",
   "execution_count": null,
   "id": "3b9d54d1",
   "metadata": {},
   "outputs": [],
   "source": [
    "import pandas as pd\n",
    "from scipy import stats\n",
    "import matplotlib.pyplot as plt\n",
    "import seaborn as sns"
   ]
  },
  {
   "cell_type": "code",
   "execution_count": 42,
   "id": "132b74c4",
   "metadata": {},
   "outputs": [],
   "source": [
    "df  = pd.read_csv(NOOVERLAPxLINSIGHT, sep='\\t', header =None)\n",
    "df['id'] = \"non-exonic nullomer\"\n",
    "shufdf = pd.read_csv(SHUF_X_LINSIGHT, sep='\\t', header =None)\n",
    "shufdf['id'] = \"one shuf non-exonic nullomer\""
   ]
  },
  {
   "cell_type": "code",
   "execution_count": 43,
   "id": "0e6ab88b",
   "metadata": {},
   "outputs": [],
   "source": [
    "concat = pd.concat([df, shufdf])"
   ]
  },
  {
   "cell_type": "code",
   "execution_count": 37,
   "id": "bc8a7ac0",
   "metadata": {},
   "outputs": [],
   "source": [
    "# 45 loci have more than 1 linsight value. "
   ]
  },
  {
   "cell_type": "code",
   "execution_count": 34,
   "id": "43d519f2",
   "metadata": {},
   "outputs": [],
   "source": [
    "count = df.groupby([3])[0].count().reset_index()\n",
    "\n",
    "len(count.loc[count[0]>1])"
   ]
  },
  {
   "cell_type": "code",
   "execution_count": 44,
   "id": "8a592ede",
   "metadata": {},
   "outputs": [],
   "source": [
    "m, p = stats.mannwhitneyu(df[7], shufdf[7])"
   ]
  },
  {
   "cell_type": "code",
   "execution_count": 53,
   "id": "f914224a",
   "metadata": {},
   "outputs": [
    {
     "name": "stdout",
     "output_type": "stream",
     "text": [
      "120667758.0 0.0 13889 13555\n"
     ]
    }
   ],
   "source": [
    "print(m,p, df.shape[0], shufdf.shape[0])"
   ]
  },
  {
   "cell_type": "code",
   "execution_count": 56,
   "id": "1b9081e8",
   "metadata": {},
   "outputs": [
    {
     "data": {
      "text/plain": [
       "[Text(0, 0.5, 'linsight score'),\n",
       " Text(0.5, 1.0, 'non-exonic'),\n",
       " Text(0.5, 0, '')]"
      ]
     },
     "execution_count": 56,
     "metadata": {},
     "output_type": "execute_result"
    },
    {
     "data": {
      "image/png": "[encoded data removed]",
      "text/plain": [
       "<Figure size 600x600 with 1 Axes>"
      ]
     },
     "metadata": {},
     "output_type": "display_data"
    }
   ],
   "source": [
    "fig, ax = plt.subplots(figsize=(6,6))\n",
    "sns.boxplot(data=concat, x='id', y =7, showfliers = False, notch=True)\n",
    "ax.set(ylabel = \"linsight score\",\n",
    "      title = \"non-exonic\",\n",
    "      xlabel = \"\")"
   ]
  },
  {
   "cell_type": "code",
   "execution_count": null,
   "id": "01b09367",
   "metadata": {},
   "outputs": [],
   "source": []
  }
 ],
 "metadata": {
  "kernelspec": {
   "display_name": "Python (wynenv)",
   "language": "python",
   "name": "wynenv"
  },
  "language_info": {
   "codemirror_mode": {
    "name": "ipython",
    "version": 3
   },
   "file_extension": ".py",
   "mimetype": "text/x-python",
   "name": "python",
   "nbconvert_exporter": "python",
   "pygments_lexer": "ipython3",
   "version": "3.10.8"
  }
 },
 "nbformat": 4,
 "nbformat_minor": 5
}
