{
 "cells": [
  {
   "cell_type": "code",
   "execution_count": 1,
   "id": "225beda8",
   "metadata": {},
   "outputs": [],
   "source": [
    "import os\n",
    "import subprocess\n",
    "import sys\n",
    "\n",
    "# append path\n",
    "sys.path.append(\"/wynton/home/ahituv/fongsl/tools/py_/\")\n",
    "\n",
    "# import config reader\n",
    "import config_readwrite as crw\n",
    "\n",
    "config_tag = sys.argv[1]\n",
    "\n",
    "config, configfile_name = crw.read_config(os.path.join(os.getcwd(), config_tag))"
   ]
  },
  {
   "cell_type": "code",
   "execution_count": null,
   "id": "96d34c5a",
   "metadata": {},
   "outputs": [],
   "source": [
    "DATAPATH = config[\"DATA\"][\"PATH\"]\n",
    "\n",
    "# Generate LINSIGHT resources\n",
    "LINSIGHT_BW_URL = \"http://compgen.cshl.edu/LINSIGHT/LINSIGHT.bw\"  # precomputed scores. In hg19. \n",
    "LINSIGHT_PATH = os.path.join(DATAPATH, \"linsight\")\n",
    "LINSIGHT_BW = os.path.join(LINSIGHT_PATH, \"LINSIGHT.bw\")\n",
    "\n",
    "# if the datafolder does not exist, make it\n",
    "if os.path.exists(LINSIGHT_PATH) is False:\n",
    "    os.mkdir(LINSIGHT_PATH)\n",
    "    print(\"made LINSIGHT data folder\")\n",
    "\n",
    "# make a section in config file for LINSIGHT. \n",
    "crw.check_section(config, \"LINSIGHT\")\n",
    "\n",
    "\n",
    "# download linsight file\n",
    "if os.pathexists(LINSIGHT_BW) is False:\n",
    "    print(\"downloading LINSIGHT.bw (hg19!) from internet\")\n",
    "    os.system(f\"wget -O {LINSIGHT_BW} {LINSIGHT_BW_URL}\")\n",
    "\n",
    "# do liftover hg19 --> hg38"
   ]
  }
 ],
 "metadata": {
  "kernelspec": {
   "display_name": "Python (wynenv)",
   "language": "python",
   "name": "wynenv"
  },
  "language_info": {
   "codemirror_mode": {
    "name": "ipython",
    "version": 3
   },
   "file_extension": ".py",
   "mimetype": "text/x-python",
   "name": "python",
   "nbconvert_exporter": "python",
   "pygments_lexer": "ipython3",
   "version": "3.10.8"
  }
 },
 "nbformat": 4,
 "nbformat_minor": 5
}
