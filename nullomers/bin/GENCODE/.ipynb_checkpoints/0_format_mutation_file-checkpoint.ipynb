{
 "cells": [
  {
   "cell_type": "markdown",
   "id": "aea4f6ea",
   "metadata": {},
   "source": [
    "20221122\n",
    "sarahfong\n",
    "\n",
    "### Format mutation file\n",
    "\n",
    "add \n",
    "- nullomer_iD\n",
    "\n",
    "\n",
    "write:\n",
    "- vcf-like file (#chrom, pos, id, ref, alt\n",
    "- bed-like file (#chr, pos-1, pos, ref, alt)"
   ]
  },
  {
   "cell_type": "code",
   "execution_count": 1,
   "id": "5bdc756b",
   "metadata": {},
   "outputs": [],
   "source": [
    "import os\n",
    "import pandas as pd\n",
    "import subprocess\n",
    "import sys"
   ]
  },
  {
   "cell_type": "markdown",
   "id": "ce632272",
   "metadata": {},
   "source": [
    "# config "
   ]
  },
  {
   "cell_type": "code",
   "execution_count": 2,
   "id": "43610616",
   "metadata": {},
   "outputs": [],
   "source": [
    "# append path\n",
    "sys.path.append(\"/wynton/home/ahituv/fongsl/tools/py_/\")\n",
    "\n",
    "# import config reader\n",
    "import config_readwrite as crw\n",
    "import zippery\n",
    "\n",
    "config_name = os.path.join(os.path.dirname(os.getcwd()), \"config\")\n",
    "\n",
    "config, configname = crw.read_config(config_name)"
   ]
  },
  {
   "cell_type": "code",
   "execution_count": 3,
   "id": "37b55a41",
   "metadata": {},
   "outputs": [],
   "source": [
    "# select config variables\n",
    "\n",
    "MUTATION = config[\"DATA\"][\"MUTATIONS\"]\n",
    "VCF = config[\"DATA\"][\"VCF\"]  # write\n",
    "BED = config[\"DATA\"][\"BED\"]  # write\n",
    "BED_UNQ = config[\"DATA\"][\"BED_UNQ\"]  # write"
   ]
  },
  {
   "cell_type": "markdown",
   "id": "3dfd9d59",
   "metadata": {},
   "source": [
    "# functions "
   ]
  },
  {
   "cell_type": "code",
   "execution_count": 4,
   "id": "0d22fd6b",
   "metadata": {},
   "outputs": [],
   "source": [
    "def makeNulloID(df):\n",
    "    \n",
    "    \"\"\"\n",
    "    add unique nullomer id tag to each uniq nullomer locus\n",
    "    \n",
    "    input\n",
    "        df (pd.DataFrame object) of nullomer mutation list\n",
    "    \n",
    "    output \n",
    "        nullo_df (od.DataFrame object) of uniq nullomer loci w/ \n",
    "    \"\"\"\n",
    "    \n",
    "    nullo_df = df[[0,1]].drop_duplicates().sort_values(by=[0,1]) # get unique loci [CHR, POS], sort \n",
    "\n",
    "    print(df.shape[0], nullo_df.shape[0])\n",
    "    \n",
    "    nullo_df[\"NID\"] = \"N_\" +nullo_df.index.map(str) # add NULLOMER ID\n",
    "    \n",
    "    return nullo_df"
   ]
  },
  {
   "cell_type": "markdown",
   "id": "3a51d441",
   "metadata": {},
   "source": [
    "# Main"
   ]
  },
  {
   "cell_type": "markdown",
   "id": "ebaf64c9",
   "metadata": {},
   "source": [
    "# mutations to vcf, bed "
   ]
  },
  {
   "cell_type": "code",
   "execution_count": 5,
   "id": "82db2817",
   "metadata": {},
   "outputs": [
    {
     "name": "stdout",
     "output_type": "stream",
     "text": [
      "(31124, 4)\n",
      "31124 31000\n"
     ]
    },
    {
     "data": {
      "text/html": [
       "<div>\n",
       "<style scoped>\n",
       "    .dataframe tbody tr th:only-of-type {\n",
       "        vertical-align: middle;\n",
       "    }\n",
       "\n",
       "    .dataframe tbody tr th {\n",
       "        vertical-align: top;\n",
       "    }\n",
       "\n",
       "    .dataframe thead th {\n",
       "        text-align: right;\n",
       "    }\n",
       "</style>\n",
       "<table border=\"1\" class=\"dataframe\">\n",
       "  <thead>\n",
       "    <tr style=\"text-align: right;\">\n",
       "      <th></th>\n",
       "      <th>0</th>\n",
       "      <th>1</th>\n",
       "      <th>2</th>\n",
       "      <th>3</th>\n",
       "      <th>NID</th>\n",
       "      <th>5</th>\n",
       "      <th>6</th>\n",
       "    </tr>\n",
       "  </thead>\n",
       "  <tbody>\n",
       "    <tr>\n",
       "      <th>0</th>\n",
       "      <td>17_KI270861v1_alt</td>\n",
       "      <td>8328</td>\n",
       "      <td>T</td>\n",
       "      <td>C</td>\n",
       "      <td>N_0</td>\n",
       "      <td>8327</td>\n",
       "      <td>chr17_KI270861v1_alt</td>\n",
       "    </tr>\n",
       "    <tr>\n",
       "      <th>1</th>\n",
       "      <td>17_KI270861v1_alt</td>\n",
       "      <td>50271</td>\n",
       "      <td>C</td>\n",
       "      <td>G</td>\n",
       "      <td>N_1</td>\n",
       "      <td>50270</td>\n",
       "      <td>chr17_KI270861v1_alt</td>\n",
       "    </tr>\n",
       "    <tr>\n",
       "      <th>2</th>\n",
       "      <td>17_KI270861v1_alt</td>\n",
       "      <td>59439</td>\n",
       "      <td>G</td>\n",
       "      <td>C</td>\n",
       "      <td>N_2</td>\n",
       "      <td>59438</td>\n",
       "      <td>chr17_KI270861v1_alt</td>\n",
       "    </tr>\n",
       "    <tr>\n",
       "      <th>3</th>\n",
       "      <td>17_KI270861v1_alt</td>\n",
       "      <td>94531</td>\n",
       "      <td>A</td>\n",
       "      <td>C</td>\n",
       "      <td>N_3</td>\n",
       "      <td>94530</td>\n",
       "      <td>chr17_KI270861v1_alt</td>\n",
       "    </tr>\n",
       "    <tr>\n",
       "      <th>4</th>\n",
       "      <td>17_KI270861v1_alt</td>\n",
       "      <td>176081</td>\n",
       "      <td>T</td>\n",
       "      <td>A</td>\n",
       "      <td>N_4</td>\n",
       "      <td>176080</td>\n",
       "      <td>chr17_KI270861v1_alt</td>\n",
       "    </tr>\n",
       "  </tbody>\n",
       "</table>\n",
       "</div>"
      ],
      "text/plain": [
       "                   0       1  2  3  NID       5                     6\n",
       "0  17_KI270861v1_alt    8328  T  C  N_0    8327  chr17_KI270861v1_alt\n",
       "1  17_KI270861v1_alt   50271  C  G  N_1   50270  chr17_KI270861v1_alt\n",
       "2  17_KI270861v1_alt   59439  G  C  N_2   59438  chr17_KI270861v1_alt\n",
       "3  17_KI270861v1_alt   94531  A  C  N_3   94530  chr17_KI270861v1_alt\n",
       "4  17_KI270861v1_alt  176081  T  A  N_4  176080  chr17_KI270861v1_alt"
      ]
     },
     "execution_count": 5,
     "metadata": {},
     "output_type": "execute_result"
    }
   ],
   "source": [
    "df = pd.read_csv(MUTATION, sep='\\t', header=None)\n",
    "\n",
    "# how big is the dataframe? \n",
    "print(df.shape)\n",
    "\n",
    "nullo_id_df = makeNulloID(df)  # add nullomer ids based on uniq chrom/pos\n",
    "df = pd.merge(df, nullo_id_df, how = \"left\")\n",
    "\n",
    "df[5] = df[1]-1 # POS-1, or START position\n",
    "df[6] = \"chr\"+df[0]\n",
    "df.head()"
   ]
  },
  {
   "cell_type": "markdown",
   "id": "ff251261",
   "metadata": {},
   "source": [
    "### make the VCF"
   ]
  },
  {
   "cell_type": "code",
   "execution_count": 6,
   "id": "a071b2fa",
   "metadata": {},
   "outputs": [
    {
     "data": {
      "text/html": [
       "<div>\n",
       "<style scoped>\n",
       "    .dataframe tbody tr th:only-of-type {\n",
       "        vertical-align: middle;\n",
       "    }\n",
       "\n",
       "    .dataframe tbody tr th {\n",
       "        vertical-align: top;\n",
       "    }\n",
       "\n",
       "    .dataframe thead th {\n",
       "        text-align: right;\n",
       "    }\n",
       "</style>\n",
       "<table border=\"1\" class=\"dataframe\">\n",
       "  <thead>\n",
       "    <tr style=\"text-align: right;\">\n",
       "      <th></th>\n",
       "      <th>0</th>\n",
       "      <th>1</th>\n",
       "      <th>NID</th>\n",
       "      <th>2</th>\n",
       "      <th>3</th>\n",
       "    </tr>\n",
       "  </thead>\n",
       "  <tbody>\n",
       "    <tr>\n",
       "      <th>12346</th>\n",
       "      <td>1</td>\n",
       "      <td>455770</td>\n",
       "      <td>N_12346</td>\n",
       "      <td>A</td>\n",
       "      <td>C</td>\n",
       "    </tr>\n",
       "    <tr>\n",
       "      <th>12347</th>\n",
       "      <td>1</td>\n",
       "      <td>634788</td>\n",
       "      <td>N_12347</td>\n",
       "      <td>T</td>\n",
       "      <td>G</td>\n",
       "    </tr>\n",
       "    <tr>\n",
       "      <th>12348</th>\n",
       "      <td>1</td>\n",
       "      <td>690743</td>\n",
       "      <td>N_12348</td>\n",
       "      <td>A</td>\n",
       "      <td>C</td>\n",
       "    </tr>\n",
       "    <tr>\n",
       "      <th>12349</th>\n",
       "      <td>1</td>\n",
       "      <td>780677</td>\n",
       "      <td>N_12349</td>\n",
       "      <td>T</td>\n",
       "      <td>G</td>\n",
       "    </tr>\n",
       "    <tr>\n",
       "      <th>12350</th>\n",
       "      <td>1</td>\n",
       "      <td>827223</td>\n",
       "      <td>N_12350</td>\n",
       "      <td>G</td>\n",
       "      <td>T</td>\n",
       "    </tr>\n",
       "  </tbody>\n",
       "</table>\n",
       "</div>"
      ],
      "text/plain": [
       "       0       1      NID  2  3\n",
       "12346  1  455770  N_12346  A  C\n",
       "12347  1  634788  N_12347  T  G\n",
       "12348  1  690743  N_12348  A  C\n",
       "12349  1  780677  N_12349  T  G\n",
       "12350  1  827223  N_12350  G  T"
      ]
     },
     "execution_count": 6,
     "metadata": {},
     "output_type": "execute_result"
    }
   ],
   "source": [
    "vcf = df[[0,1,\"NID\",2,3]].sort_values(by=[0,1])\n",
    "\n",
    "# save vcf-like file\n",
    "vcf.to_csv(VCF, sep='\\t', index=False, header=False)\n",
    "vcf.head()"
   ]
  },
  {
   "cell_type": "markdown",
   "id": "a5f2e9bd",
   "metadata": {},
   "source": [
    "### make bed"
   ]
  },
  {
   "cell_type": "code",
   "execution_count": 7,
   "id": "5a919848",
   "metadata": {},
   "outputs": [
    {
     "name": "stdout",
     "output_type": "stream",
     "text": [
      "(31124, 6)\n"
     ]
    },
    {
     "data": {
      "text/html": [
       "<div>\n",
       "<style scoped>\n",
       "    .dataframe tbody tr th:only-of-type {\n",
       "        vertical-align: middle;\n",
       "    }\n",
       "\n",
       "    .dataframe tbody tr th {\n",
       "        vertical-align: top;\n",
       "    }\n",
       "\n",
       "    .dataframe thead th {\n",
       "        text-align: right;\n",
       "    }\n",
       "</style>\n",
       "<table border=\"1\" class=\"dataframe\">\n",
       "  <thead>\n",
       "    <tr style=\"text-align: right;\">\n",
       "      <th></th>\n",
       "      <th>6</th>\n",
       "      <th>5</th>\n",
       "      <th>1</th>\n",
       "      <th>NID</th>\n",
       "      <th>2</th>\n",
       "      <th>3</th>\n",
       "    </tr>\n",
       "  </thead>\n",
       "  <tbody>\n",
       "    <tr>\n",
       "      <th>12346</th>\n",
       "      <td>chr1</td>\n",
       "      <td>455769</td>\n",
       "      <td>455770</td>\n",
       "      <td>N_12346</td>\n",
       "      <td>A</td>\n",
       "      <td>C</td>\n",
       "    </tr>\n",
       "    <tr>\n",
       "      <th>12347</th>\n",
       "      <td>chr1</td>\n",
       "      <td>634787</td>\n",
       "      <td>634788</td>\n",
       "      <td>N_12347</td>\n",
       "      <td>T</td>\n",
       "      <td>G</td>\n",
       "    </tr>\n",
       "    <tr>\n",
       "      <th>12348</th>\n",
       "      <td>chr1</td>\n",
       "      <td>690742</td>\n",
       "      <td>690743</td>\n",
       "      <td>N_12348</td>\n",
       "      <td>A</td>\n",
       "      <td>C</td>\n",
       "    </tr>\n",
       "    <tr>\n",
       "      <th>12349</th>\n",
       "      <td>chr1</td>\n",
       "      <td>780676</td>\n",
       "      <td>780677</td>\n",
       "      <td>N_12349</td>\n",
       "      <td>T</td>\n",
       "      <td>G</td>\n",
       "    </tr>\n",
       "    <tr>\n",
       "      <th>12350</th>\n",
       "      <td>chr1</td>\n",
       "      <td>827222</td>\n",
       "      <td>827223</td>\n",
       "      <td>N_12350</td>\n",
       "      <td>G</td>\n",
       "      <td>T</td>\n",
       "    </tr>\n",
       "  </tbody>\n",
       "</table>\n",
       "</div>"
      ],
      "text/plain": [
       "          6       5       1      NID  2  3\n",
       "12346  chr1  455769  455770  N_12346  A  C\n",
       "12347  chr1  634787  634788  N_12347  T  G\n",
       "12348  chr1  690742  690743  N_12348  A  C\n",
       "12349  chr1  780676  780677  N_12349  T  G\n",
       "12350  chr1  827222  827223  N_12350  G  T"
      ]
     },
     "execution_count": 7,
     "metadata": {},
     "output_type": "execute_result"
    }
   ],
   "source": [
    "bed = df[[6,5,1,\"NID\",2,3]].sort_values(by=[6,1])\n",
    "\n",
    "# save bed-file\n",
    "bed.to_csv(BED, sep='\\t', index=False, header=False)\n",
    "print(bed.shape)\n",
    "bed.head()"
   ]
  },
  {
   "cell_type": "markdown",
   "id": "6a09cf6b",
   "metadata": {},
   "source": [
    "## uniq loci"
   ]
  },
  {
   "cell_type": "code",
   "execution_count": 8,
   "id": "cc17c408",
   "metadata": {},
   "outputs": [
    {
     "name": "stdout",
     "output_type": "stream",
     "text": [
      "(31000, 4)\n"
     ]
    },
    {
     "data": {
      "text/html": [
       "<div>\n",
       "<style scoped>\n",
       "    .dataframe tbody tr th:only-of-type {\n",
       "        vertical-align: middle;\n",
       "    }\n",
       "\n",
       "    .dataframe tbody tr th {\n",
       "        vertical-align: top;\n",
       "    }\n",
       "\n",
       "    .dataframe thead th {\n",
       "        text-align: right;\n",
       "    }\n",
       "</style>\n",
       "<table border=\"1\" class=\"dataframe\">\n",
       "  <thead>\n",
       "    <tr style=\"text-align: right;\">\n",
       "      <th></th>\n",
       "      <th>6</th>\n",
       "      <th>5</th>\n",
       "      <th>1</th>\n",
       "      <th>NID</th>\n",
       "    </tr>\n",
       "  </thead>\n",
       "  <tbody>\n",
       "    <tr>\n",
       "      <th>12346</th>\n",
       "      <td>chr1</td>\n",
       "      <td>455769</td>\n",
       "      <td>455770</td>\n",
       "      <td>N_12346</td>\n",
       "    </tr>\n",
       "    <tr>\n",
       "      <th>12347</th>\n",
       "      <td>chr1</td>\n",
       "      <td>634787</td>\n",
       "      <td>634788</td>\n",
       "      <td>N_12347</td>\n",
       "    </tr>\n",
       "    <tr>\n",
       "      <th>12348</th>\n",
       "      <td>chr1</td>\n",
       "      <td>690742</td>\n",
       "      <td>690743</td>\n",
       "      <td>N_12348</td>\n",
       "    </tr>\n",
       "    <tr>\n",
       "      <th>12349</th>\n",
       "      <td>chr1</td>\n",
       "      <td>780676</td>\n",
       "      <td>780677</td>\n",
       "      <td>N_12349</td>\n",
       "    </tr>\n",
       "    <tr>\n",
       "      <th>12350</th>\n",
       "      <td>chr1</td>\n",
       "      <td>827222</td>\n",
       "      <td>827223</td>\n",
       "      <td>N_12350</td>\n",
       "    </tr>\n",
       "  </tbody>\n",
       "</table>\n",
       "</div>"
      ],
      "text/plain": [
       "          6       5       1      NID\n",
       "12346  chr1  455769  455770  N_12346\n",
       "12347  chr1  634787  634788  N_12347\n",
       "12348  chr1  690742  690743  N_12348\n",
       "12349  chr1  780676  780677  N_12349\n",
       "12350  chr1  827222  827223  N_12350"
      ]
     },
     "execution_count": 8,
     "metadata": {},
     "output_type": "execute_result"
    }
   ],
   "source": [
    "bed_uniq = df[[6,5,1,\"NID\"]].sort_values(by=[6,1]).drop_duplicates()\n",
    "\n",
    "# save bed-file\n",
    "bed_uniq.to_csv(BED_UNQ, sep='\\t', index=False, header=False)\n",
    "print(bed_uniq.shape)\n",
    "bed_uniq.head()"
   ]
  },
  {
   "cell_type": "code",
   "execution_count": null,
   "id": "25919929",
   "metadata": {},
   "outputs": [],
   "source": []
  }
 ],
 "metadata": {
  "kernelspec": {
   "display_name": "Python (wynenv)",
   "language": "python",
   "name": "wynenv"
  },
  "language_info": {
   "codemirror_mode": {
    "name": "ipython",
    "version": 3
   },
   "file_extension": ".py",
   "mimetype": "text/x-python",
   "name": "python",
   "nbconvert_exporter": "python",
   "pygments_lexer": "ipython3",
   "version": "3.10.8"
  }
 },
 "nbformat": 4,
 "nbformat_minor": 5
}
