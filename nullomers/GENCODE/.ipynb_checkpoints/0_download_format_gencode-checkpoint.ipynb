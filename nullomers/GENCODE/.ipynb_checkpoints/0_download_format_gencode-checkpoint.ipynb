{
 "cells": [
  {
   "cell_type": "markdown",
   "id": "aea4f6ea",
   "metadata": {},
   "source": [
    "20221122\n",
    "sarahfong\n",
    "\n",
    "### downloads GENCODE basic gene annotations\n",
    "    https://www.gencodegenes.org/human/\n",
    "    \n",
    "    \"\"\"\n",
    "    It = \"basic gene annotations, CHR\"\n",
    "    \n",
    "    It contains the basic gene annotation on the reference chromosomes only\n",
    "    This is a subset of the corresponding comprehensive annotation, including only those transcripts tagged as 'basic' in every gene\n",
    "    This is the main annotation file for most users\n",
    "    \"\"\"\n",
    "    \n",
    "### Use BEDOps to convert GTF -> bed\n",
    "### filter for CDS only \n",
    "http://mblab.wustl.edu/GTF22.html\n",
    "- CDS represents the coding sequence starting with the first translated codon and proceeding to the last translated codon. \n",
    "- Unlike Genbank annotation, the stop codon is not included in the CDS for the terminal exon. \n",
    "- The optional feature \"5UTR\" represents regions from the transcription start site or beginning of the known 5' UTR to the base before the start codon of the transcript. \n",
    "- If this region is interrupted by introns then each exon or partial exon is annotated as a separate 5UTR feature. - Similarly, \"3UTR\" represents regions after the stop codon and before the polyadenylation site or end of the known 3' untranslated region. \n",
    "- Note that the UTR features can only be used to annotate portions of mRNA genes, not non-coding RNA genes."
   ]
  },
  {
   "cell_type": "code",
   "execution_count": 2,
   "id": "b7f5f927",
   "metadata": {},
   "outputs": [],
   "source": [
    "import os\n",
    "import pandas as pd\n",
    "import subprocess\n",
    "import sys"
   ]
  },
  {
   "cell_type": "markdown",
   "id": "9216cad4",
   "metadata": {},
   "source": [
    "# config "
   ]
  },
  {
   "cell_type": "code",
   "execution_count": 3,
   "id": "43610616",
   "metadata": {},
   "outputs": [],
   "source": [
    "# append path\n",
    "sys.path.append(\"/wynton/home/ahituv/fongsl/tools/py_/\")\n",
    "\n",
    "# import config reader\n",
    "import config_readwrite as crw\n",
    "import zippery\n",
    "\n",
    "config_name = os.path.join(os.path.dirname(os.getcwd()), \"config\")\n",
    "\n",
    "config, configname = crw.read_config(config_name)"
   ]
  },
  {
   "cell_type": "code",
   "execution_count": 4,
   "id": "37b55a41",
   "metadata": {},
   "outputs": [],
   "source": [
    "# select config variables\n",
    "VERSION = config[\"GENCODE\"][\"VERSION\"]\n",
    "GENCODE_PATH = config[\"GENCODE\"][\"PATH\"]\n",
    "\n",
    "BED = config[\"GENCODE\"][\"BED\"]  # write\n",
    "\n",
    "VERSION = int(VERSION) # turn into int type"
   ]
  },
  {
   "cell_type": "markdown",
   "id": "1cb284c6",
   "metadata": {},
   "source": [
    "# functions "
   ]
  },
  {
   "cell_type": "code",
   "execution_count": 4,
   "id": "25d69a15",
   "metadata": {},
   "outputs": [],
   "source": [
    "def download_gencode(path, version):\n",
    "    \"\"\"\n",
    "    \n",
    "    Returns local gencode files \n",
    "        if not local - downloads metagene, basic.annotation.gtf files from gencode FTP\n",
    "    \n",
    "    inputs \n",
    "        path (str) - name to local gencode datapath\n",
    "        version (int) - gencode version to download\n",
    "        \n",
    "        \n",
    "    method\n",
    "        1. make FTP version path for gencode\n",
    "        2. make local gencode file names\n",
    "        3. check if basic annotation version file exists locally\n",
    "            3a - if not, download \n",
    "        4. check if metagene version file exists locally\n",
    "            4a - if not, download\n",
    "        \n",
    "        return local copies of the download files\n",
    "    \"\"\"\n",
    "    \n",
    "    #1 FTP path\n",
    "    FTP_PATH = f\"https://ftp.ebi.ac.uk/pub/databases/gencode/Gencode_human/release_{version}\"    \n",
    "    \n",
    "    \n",
    "    #2 Local file names\n",
    "    basic_gene_file=os.path.join(path, f\"gencode.v{version}.basic.annotation.gtf.gz\")\n",
    "    meta_gene_file=os.path.join(path, f\"gencode.v{version}.metadata.HGNC.gz\")\n",
    "\n",
    "    #3 BASIC GENE ANNOTATION .GTF file\n",
    "    if os.path.exists(basic_gene_file) is False and os.path.exists(basic_gene_file.strip(\".gz\")) is False:\n",
    "        cmd = f\"wget {FTP_PATH}/gencode.v{version}.basic.annotation.gtf.gz\"\n",
    "        \n",
    "        print(\"downloading basic gene annotations (ref chromosome only)\", version)\n",
    "        os.system(cmd)\n",
    "    else:\n",
    "        print(\"already downloaded basic gene annotation (ref chromosome only)\", version)\n",
    "        \n",
    "    #4 METAGENE FILE - gene names\n",
    "    if os.path.exists(meta_gene_file) is False:\n",
    "        cmd = f\"wget {FTP_PATH}/gencode.v{version}.metadata.HGNC.gz\"\n",
    "        \n",
    "        print(\"downloading meta data\", version)\n",
    "        os.system(cmd)\n",
    "    else:\n",
    "        print(\"already downloaded metadata\", version)\n",
    "        \n",
    "    return basic_gene_file, meta_gene_file"
   ]
  },
  {
   "cell_type": "code",
   "execution_count": 5,
   "id": "c78f589e",
   "metadata": {},
   "outputs": [],
   "source": [
    "def gtf2bed(gtf_file):\n",
    "    \"\"\"\n",
    "    convert gtf2bed using bedops tool\n",
    "    \n",
    "    input\n",
    "        gtf_file (str) with full path to the .gtf file\n",
    "    \n",
    "    method\n",
    "        1. create an output .bed file\n",
    "        2. compile the commandline command. \n",
    "        3. run through the command line\n",
    "    \n",
    "    return\n",
    "        output .bed file (str)\n",
    "    \"\"\"\n",
    "    \n",
    "    #1\n",
    "    out_bed = gtf_file.strip(\".gtf\") + \".bed\"\n",
    "    \n",
    "    #2\n",
    "    cmd = f\"gtf2bed < {gtf_file} > {out_bed}\"\n",
    "    \n",
    "    #3\n",
    "    if os.path.exists(out_bed) is False:\n",
    "\n",
    "        print(\"converting to bed\\n\\n\", cmd)\n",
    "        subprocess.call(cmd, shell=True)\n",
    "        \n",
    "    elif os.path.getsize(out_bed)==0:\n",
    "        print(\"converting to bed\\n\\n\", cmd)\n",
    "        subprocess.call(cmd, shell=True)\n",
    "\n",
    "    else:\n",
    "        print(\"already made .bed\")\n",
    "    \n",
    "    return out_bed"
   ]
  },
  {
   "cell_type": "code",
   "execution_count": 28,
   "id": "c8b6a334",
   "metadata": {},
   "outputs": [],
   "source": [
    "def filterGencodeBed(bed_file, annotation):\n",
    "    \"\"\"\n",
    "    filters gencodebed.bed file on annotations\n",
    "    removes chrM annotations\n",
    "    \n",
    "    input \n",
    "        bed_file (str) - full path to the gencode bed file\n",
    "        annotation (str) - annotation value to filter on\n",
    "        \n",
    "    method\n",
    "        1. open the dataframe in pandas\n",
    "        2. remove chrM annotations\n",
    "        3. keep only annotation matches\n",
    "\n",
    "\n",
    "\n",
    "    annotation possibilities:\n",
    "        'exon', \n",
    "        'gene', \n",
    "        'transcript', \n",
    "        'UTR', \n",
    "        'start_codon', \n",
    "        'CDS', \n",
    "        'stop_codon', \n",
    "        'Selenocysteine'\n",
    "        \n",
    "        CDS = first translated codon + last translated codon. No terminal codon.\n",
    "        5'UTR = TSS to transcript-1 position\n",
    "        3'UTR = stop codon+1 to poly-a, or end of 3'UTR transcript\n",
    "    \"\"\"\n",
    "    \n",
    "    #1\n",
    "    df = pd.read_csv(bed_file, sep ='\\t', header=None)\n",
    "    \n",
    "    beforesize = df.shape[0]\n",
    "    \n",
    "    #2 remove chrM\n",
    "    df = df.loc[df[0]!= \"chrM\"]\n",
    "    \n",
    "    aftersize = df.shape[0]\n",
    "\n",
    "    print(\"removing chrM annotations, n=\", beforesize-aftersize)\n",
    "\n",
    "    #3 keep only gene annotations\n",
    "    filtered_df = df.loc[df[7]==annotation]\n",
    "    print(\"keeping only annotations\", annotation, filtered_df.shape)\n",
    "    \n",
    "    \n",
    "    return filtered_df"
   ]
  },
  {
   "cell_type": "markdown",
   "id": "99582055",
   "metadata": {},
   "source": [
    "# Main"
   ]
  },
  {
   "cell_type": "markdown",
   "id": "8f0ac8a2",
   "metadata": {},
   "source": [
    "## download gencode annotations"
   ]
  },
  {
   "cell_type": "code",
   "execution_count": 6,
   "id": "a6022cc5",
   "metadata": {},
   "outputs": [
    {
     "name": "stdout",
     "output_type": "stream",
     "text": [
      "already downloaded basic gene annotation (ref chromosome only) 42\n",
      "already downloaded metadata 42\n"
     ]
    }
   ],
   "source": [
    "basic_gtf, meta_gtf = download_gencode(GENCODE_PATH, VERSION)\n",
    "\n",
    "# unzip the gtf file\n",
    "unzipped_gtf = zippery.unzip_file(basic_gtf) "
   ]
  },
  {
   "cell_type": "markdown",
   "id": "b06c3ecc",
   "metadata": {},
   "source": [
    "## gtf2bed \n",
    "https://bedops.readthedocs.io/en/latest/content/reference/file-management/conversion/gtf2bed.html"
   ]
  },
  {
   "cell_type": "code",
   "execution_count": 7,
   "id": "10086d19",
   "metadata": {},
   "outputs": [
    {
     "name": "stdout",
     "output_type": "stream",
     "text": [
      "already made .bed\n"
     ]
    }
   ],
   "source": [
    "# convert gtf 2 bed w/ BEDOps - \n",
    "\n",
    "gtf_bed = gtf2bed(unzipped_gtf)"
   ]
  },
  {
   "cell_type": "code",
   "execution_count": 8,
   "id": "cc45dd02",
   "metadata": {},
   "outputs": [
    {
     "data": {
      "text/plain": [
       "'/wynton/home/ahituv/fongsl/nullomers/data/Gencode/gencode.v42.basic.annotation.gtf.gz'"
      ]
     },
     "execution_count": 8,
     "metadata": {},
     "output_type": "execute_result"
    }
   ],
   "source": [
    "# rezip the gtf file\n",
    "zippery.rezip_file(unzipped_gtf) "
   ]
  },
  {
   "cell_type": "markdown",
   "id": "1d011edd",
   "metadata": {},
   "source": [
    "## filter for genes"
   ]
  },
  {
   "cell_type": "code",
   "execution_count": 29,
   "id": "cb4a7fa6",
   "metadata": {},
   "outputs": [
    {
     "name": "stdout",
     "output_type": "stream",
     "text": [
      "removing chrM annotations, n= 143\n",
      "keeping only annotations gene (62659, 10)\n"
     ]
    }
   ],
   "source": [
    "filtered_gene = filterGencodeBed(BED, \"gene\")"
   ]
  }
 ],
 "metadata": {
  "kernelspec": {
   "display_name": "Python (wynenv)",
   "language": "python",
   "name": "wynenv"
  },
  "language_info": {
   "codemirror_mode": {
    "name": "ipython",
    "version": 3
   },
   "file_extension": ".py",
   "mimetype": "text/x-python",
   "name": "python",
   "nbconvert_exporter": "python",
   "pygments_lexer": "ipython3",
   "version": "3.10.8"
  }
 },
 "nbformat": 4,
 "nbformat_minor": 5
}
