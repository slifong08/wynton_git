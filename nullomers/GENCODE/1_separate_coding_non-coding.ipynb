{
 "cells": [
  {
   "cell_type": "markdown",
   "id": "aea4f6ea",
   "metadata": {},
   "source": [
    "20221122\n",
    "sarahfong\n",
    "\n",
    "\n",
    "### separates nullomers into coding and non-coding files\n",
    "\n",
    "using GENCODE gene annotation bed \n",
    "\n",
    "use pybedtools to intersect nullomers w/ GENCODE\n",
    "\n",
    "### separate non-coding into ref chromosomes and alternative haplotype chromosomes\n",
    "- drop redundant non-codingn coordinates (i.e. one locus, multiple nullomer options)\n",
    "\n",
    "\n",
    "### preprocessing:\n",
    "    /wynton/home/ahituv/fongsl/nullomers/bin/GENCODE/0_download_format_gencode.ipynb\n",
    "\n",
    "    /wynton/home/ahituv/fongsl/nullomers/bin/GENCODE/0_format_mutation_file.ipynb"
   ]
  },
  {
   "cell_type": "code",
   "execution_count": 1,
   "id": "5bdc756b",
   "metadata": {},
   "outputs": [],
   "source": [
    "import os\n",
    "import pandas as pd\n",
    "import pybedtools as pbt\n",
    "import subprocess\n",
    "import sys"
   ]
  },
  {
   "cell_type": "markdown",
   "id": "ce632272",
   "metadata": {},
   "source": [
    "# config "
   ]
  },
  {
   "cell_type": "code",
   "execution_count": 2,
   "id": "43610616",
   "metadata": {},
   "outputs": [],
   "source": [
    "# append path\n",
    "sys.path.append(\"/wynton/home/ahituv/fongsl/tools/py_/\")\n",
    "\n",
    "# import config reader\n",
    "import config_readwrite as crw\n",
    "import count_lines as cl\n",
    "\n",
    "config_name = os.path.join(os.path.dirname(os.getcwd()), \"config\")\n",
    "\n",
    "config, configname = crw.read_config(config_name)"
   ]
  },
  {
   "cell_type": "code",
   "execution_count": 3,
   "id": "37b55a41",
   "metadata": {},
   "outputs": [],
   "source": [
    "# select config variables\n",
    "\n",
    "GENCODE_BED = config[\"GENCODE\"][\"BED\"]\n",
    "\n",
    "NULLOMER_BED = config[\"DATA\"][\"BED\"]\n",
    "\n",
    "GENCODE_OVERLAP = config[\"DATA\"][\"GENCODE_OVERLAP\"]  # write\n",
    "GENCODE_NOOVERLAP = config[\"DATA\"][\"GENCODE_NOOVERLAP\"]  # write\n",
    "GENCODE_NOOVERLAP_REF = config[\"DATA\"][\"GENCODE_NOOVERLAP_REF\"]  # write"
   ]
  },
  {
   "cell_type": "markdown",
   "id": "3dfd9d59",
   "metadata": {},
   "source": [
    "# functions "
   ]
  },
  {
   "cell_type": "code",
   "execution_count": 4,
   "id": "00d71c22",
   "metadata": {},
   "outputs": [],
   "source": [
    "def pbtIntersection(gencode_bed, test_bed):\n",
    "    \n",
    "    out = test_bed.strip(\".bed\") + \"GENCODE_overlap.bed\"\n",
    "    \n",
    "    # make pybedtool objects\n",
    "    gencode = pbt.BedTool(gencode_bed)\n",
    "    test = pbt.BedTool(test_bed)\n",
    "    \n",
    "    # intersect -u to keep only unique loci from A\n",
    "    \n",
    "    test.intersect(gencode, u=True, output=out)\n",
    "    \n",
    "\n",
    "    print(cl.count_lines(out))\n",
    "    print(\"\\n\\n\", out)"
   ]
  },
  {
   "cell_type": "code",
   "execution_count": 8,
   "id": "4eeaed94",
   "metadata": {},
   "outputs": [],
   "source": [
    "def pbtSubtraction(gencode_bed, test_bed):\n",
    "    \n",
    "    out = test_bed.strip(\".bed\") + \"GENCODE_no-overlap.bed\"\n",
    "    \n",
    "    # make pybedtool objects\n",
    "    gencode = pbt.BedTool(gencode_bed)\n",
    "    test = pbt.BedTool(test_bed)\n",
    "    \n",
    "    # intersect -v to keep only the variants that DO NOT overlap (this is a subtraction. )\n",
    "    # no -u for subtract. Need to assess unique values later\n",
    "    \n",
    "    test.intersect(gencode, v=True, output=out)\n",
    "    \n",
    "    print(cl.count_lines(out))\n",
    "    print(\"\\n\\n\", out)"
   ]
  },
  {
   "cell_type": "markdown",
   "id": "3a51d441",
   "metadata": {},
   "source": [
    "# Main"
   ]
  },
  {
   "cell_type": "markdown",
   "id": "69f15da6",
   "metadata": {},
   "source": [
    "# intersect mutations w/ GENCODE "
   ]
  },
  {
   "cell_type": "markdown",
   "id": "e5fe5a3b",
   "metadata": {},
   "source": [
    "### write GENCODE_OVERLAP"
   ]
  },
  {
   "cell_type": "code",
   "execution_count": 6,
   "id": "b98b343b",
   "metadata": {},
   "outputs": [
    {
     "name": "stdout",
     "output_type": "stream",
     "text": [
      "19807\n",
      "\n",
      "\n",
      " /wynton/home/ahituv/fongsl/nullomers/data/mutationsGENCODE_overlap.bed\n"
     ]
    }
   ],
   "source": [
    "# intersection\n",
    "pbtIntersection(GENCODE_BED, NULLOMER_BED) # remove duplicates"
   ]
  },
  {
   "cell_type": "markdown",
   "id": "8f072095",
   "metadata": {},
   "source": [
    "### write GENCODE_NOOVERLAP"
   ]
  },
  {
   "cell_type": "code",
   "execution_count": 9,
   "id": "65386a72",
   "metadata": {},
   "outputs": [
    {
     "name": "stdout",
     "output_type": "stream",
     "text": [
      "11317\n",
      "\n",
      "\n",
      " /wynton/home/ahituv/fongsl/nullomers/data/mutationsGENCODE_no-overlap.bed\n"
     ]
    }
   ],
   "source": [
    "# subtraction\n",
    "pbtSubtraction(GENCODE_BED, NULLOMER_BED)"
   ]
  },
  {
   "cell_type": "markdown",
   "id": "666214fa",
   "metadata": {},
   "source": [
    "## invesrtigate alternative haplotypes in the non-coding\n",
    "- open non-coding file\n",
    "- make list of reference chromosome names\n",
    "- subset non-coding dataframe for reference chromosomes. \n",
    "- write GENCODE_NOOVERLAP_REF"
   ]
  },
  {
   "cell_type": "code",
   "execution_count": 10,
   "id": "a8609263",
   "metadata": {},
   "outputs": [
    {
     "name": "stdout",
     "output_type": "stream",
     "text": [
      "11317\n"
     ]
    },
    {
     "data": {
      "text/html": [
       "<div>\n",
       "<style scoped>\n",
       "    .dataframe tbody tr th:only-of-type {\n",
       "        vertical-align: middle;\n",
       "    }\n",
       "\n",
       "    .dataframe tbody tr th {\n",
       "        vertical-align: top;\n",
       "    }\n",
       "\n",
       "    .dataframe thead th {\n",
       "        text-align: right;\n",
       "    }\n",
       "</style>\n",
       "<table border=\"1\" class=\"dataframe\">\n",
       "  <thead>\n",
       "    <tr style=\"text-align: right;\">\n",
       "      <th></th>\n",
       "      <th>0</th>\n",
       "      <th>1</th>\n",
       "      <th>2</th>\n",
       "      <th>3</th>\n",
       "      <th>4</th>\n",
       "    </tr>\n",
       "  </thead>\n",
       "  <tbody>\n",
       "    <tr>\n",
       "      <th>0</th>\n",
       "      <td>chr1</td>\n",
       "      <td>897961</td>\n",
       "      <td>897962</td>\n",
       "      <td>T</td>\n",
       "      <td>C</td>\n",
       "    </tr>\n",
       "    <tr>\n",
       "      <th>1</th>\n",
       "      <td>chr1</td>\n",
       "      <td>897972</td>\n",
       "      <td>897973</td>\n",
       "      <td>T</td>\n",
       "      <td>G</td>\n",
       "    </tr>\n",
       "    <tr>\n",
       "      <th>2</th>\n",
       "      <td>chr1</td>\n",
       "      <td>1000857</td>\n",
       "      <td>1000858</td>\n",
       "      <td>G</td>\n",
       "      <td>A</td>\n",
       "    </tr>\n",
       "    <tr>\n",
       "      <th>3</th>\n",
       "      <td>chr1</td>\n",
       "      <td>1000857</td>\n",
       "      <td>1000858</td>\n",
       "      <td>G</td>\n",
       "      <td>T</td>\n",
       "    </tr>\n",
       "    <tr>\n",
       "      <th>4</th>\n",
       "      <td>chr1</td>\n",
       "      <td>1018481</td>\n",
       "      <td>1018482</td>\n",
       "      <td>A</td>\n",
       "      <td>C</td>\n",
       "    </tr>\n",
       "  </tbody>\n",
       "</table>\n",
       "</div>"
      ],
      "text/plain": [
       "      0        1        2  3  4\n",
       "0  chr1   897961   897962  T  C\n",
       "1  chr1   897972   897973  T  G\n",
       "2  chr1  1000857  1000858  G  A\n",
       "3  chr1  1000857  1000858  G  T\n",
       "4  chr1  1018481  1018482  A  C"
      ]
     },
     "execution_count": 10,
     "metadata": {},
     "output_type": "execute_result"
    }
   ],
   "source": [
    "# open the non-coding file (gencode overlap subtracted mutations)\n",
    "\n",
    "noncoding=\"/wynton/home/ahituv/fongsl/nullomers/data/mutationsGENCODE_no-overlap.bed\"\n",
    "df = pd.read_csv(noncoding, sep='\\t', header =None)\n",
    "print(df.shape[0])\n",
    "df.head()"
   ]
  },
  {
   "cell_type": "code",
   "execution_count": 11,
   "id": "7ad213ab",
   "metadata": {},
   "outputs": [],
   "source": [
    "# make a list of the reference chromosomes\n",
    "from chr_functions import make_chr_list\n",
    "\n",
    "ref_chr_list = make_chr_list()\n",
    "ref_chr_list.extend([\"chrX\", \"chrY\"])"
   ]
  },
  {
   "cell_type": "markdown",
   "id": "1eee9467",
   "metadata": {},
   "source": [
    "## subset non-coding reference chromosomes"
   ]
  },
  {
   "cell_type": "code",
   "execution_count": 12,
   "id": "2435815f",
   "metadata": {},
   "outputs": [
    {
     "name": "stdout",
     "output_type": "stream",
     "text": [
      "9451\n"
     ]
    }
   ],
   "source": [
    "# subset reference chromosome dataframe\n",
    "\n",
    "ref = df.loc[df[0].isin(ref_chr_list)]\n",
    "print(ref.shape[0])"
   ]
  },
  {
   "cell_type": "code",
   "execution_count": 13,
   "id": "41ede505",
   "metadata": {},
   "outputs": [
    {
     "data": {
      "text/plain": [
       "1866"
      ]
     },
     "execution_count": 13,
     "metadata": {},
     "output_type": "execute_result"
    }
   ],
   "source": [
    "# how many mutations are on alternative haplotypes? \n",
    "\n",
    "df.shape[0]-ref.shape[0]"
   ]
  },
  {
   "cell_type": "markdown",
   "id": "e22c3278",
   "metadata": {},
   "source": [
    "1866/11317 mutations are in alternative haplotypes (17%)"
   ]
  },
  {
   "cell_type": "code",
   "execution_count": 14,
   "id": "ac99a969",
   "metadata": {},
   "outputs": [
    {
     "data": {
      "text/html": [
       "<div>\n",
       "<style scoped>\n",
       "    .dataframe tbody tr th:only-of-type {\n",
       "        vertical-align: middle;\n",
       "    }\n",
       "\n",
       "    .dataframe tbody tr th {\n",
       "        vertical-align: top;\n",
       "    }\n",
       "\n",
       "    .dataframe thead th {\n",
       "        text-align: right;\n",
       "    }\n",
       "</style>\n",
       "<table border=\"1\" class=\"dataframe\">\n",
       "  <thead>\n",
       "    <tr style=\"text-align: right;\">\n",
       "      <th></th>\n",
       "      <th>0</th>\n",
       "      <th>1</th>\n",
       "      <th>2</th>\n",
       "      <th>3</th>\n",
       "      <th>4</th>\n",
       "    </tr>\n",
       "  </thead>\n",
       "  <tbody>\n",
       "    <tr>\n",
       "      <th>0</th>\n",
       "      <td>chr1</td>\n",
       "      <td>897961</td>\n",
       "      <td>897962</td>\n",
       "      <td>T</td>\n",
       "      <td>C</td>\n",
       "    </tr>\n",
       "    <tr>\n",
       "      <th>1</th>\n",
       "      <td>chr1</td>\n",
       "      <td>897972</td>\n",
       "      <td>897973</td>\n",
       "      <td>T</td>\n",
       "      <td>G</td>\n",
       "    </tr>\n",
       "    <tr>\n",
       "      <th>2</th>\n",
       "      <td>chr1</td>\n",
       "      <td>1000857</td>\n",
       "      <td>1000858</td>\n",
       "      <td>G</td>\n",
       "      <td>A</td>\n",
       "    </tr>\n",
       "    <tr>\n",
       "      <th>3</th>\n",
       "      <td>chr1</td>\n",
       "      <td>1000857</td>\n",
       "      <td>1000858</td>\n",
       "      <td>G</td>\n",
       "      <td>T</td>\n",
       "    </tr>\n",
       "    <tr>\n",
       "      <th>4</th>\n",
       "      <td>chr1</td>\n",
       "      <td>1018481</td>\n",
       "      <td>1018482</td>\n",
       "      <td>A</td>\n",
       "      <td>C</td>\n",
       "    </tr>\n",
       "  </tbody>\n",
       "</table>\n",
       "</div>"
      ],
      "text/plain": [
       "      0        1        2  3  4\n",
       "0  chr1   897961   897962  T  C\n",
       "1  chr1   897972   897973  T  G\n",
       "2  chr1  1000857  1000858  G  A\n",
       "3  chr1  1000857  1000858  G  T\n",
       "4  chr1  1018481  1018482  A  C"
      ]
     },
     "execution_count": 14,
     "metadata": {},
     "output_type": "execute_result"
    }
   ],
   "source": [
    "ref.head()"
   ]
  },
  {
   "cell_type": "markdown",
   "id": "4d42358a",
   "metadata": {},
   "source": [
    "### write GENCODE_NOOVERLAP_REF"
   ]
  },
  {
   "cell_type": "code",
   "execution_count": 15,
   "id": "0686edf4",
   "metadata": {},
   "outputs": [
    {
     "name": "stdout",
     "output_type": "stream",
     "text": [
      "(9423, 3)\n"
     ]
    }
   ],
   "source": [
    "# save reference chromosome non-coding dataframe\n",
    "ref_uniq=ref[[0,1,2]].drop_duplicates()\n",
    "print(ref_uniq.shape)\n",
    "ref_uniq.to_csv(GENCODE_NOOVERLAP_REF, sep='\\t', header=False, index=False)"
   ]
  },
  {
   "cell_type": "code",
   "execution_count": null,
   "id": "d11cd7cb",
   "metadata": {},
   "outputs": [],
   "source": []
  }
 ],
 "metadata": {
  "kernelspec": {
   "display_name": "Python (wynenv)",
   "language": "python",
   "name": "wynenv"
  },
  "language_info": {
   "codemirror_mode": {
    "name": "ipython",
    "version": 3
   },
   "file_extension": ".py",
   "mimetype": "text/x-python",
   "name": "python",
   "nbconvert_exporter": "python",
   "pygments_lexer": "ipython3",
   "version": "3.10.8"
  }
 },
 "nbformat": 4,
 "nbformat_minor": 5
}
