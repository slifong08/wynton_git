{
 "cells": [
  {
   "cell_type": "code",
   "execution_count": 1,
   "id": "13d4ac73",
   "metadata": {
    "ExecuteTime": {
     "end_time": "2023-06-05T16:04:09.940994Z",
     "start_time": "2023-06-05T16:03:58.298158Z"
    }
   },
   "outputs": [],
   "source": [
    "from Bio.SeqIO.FastaIO import SimpleFastaParser\n",
    "from Bio.Seq import reverse_complement, Seq\n",
    "from Bio.SeqUtils import gc_fraction\n",
    "import config_readwrite as crw\n",
    "\n",
    "import glob\n",
    "import gzip\n",
    "import numpy as np\n",
    "import os, sys\n",
    "import pandas as pd\n",
    "from random import shuffle\n",
    "import subprocess as sp\n",
    "import time"
   ]
  },
  {
   "cell_type": "markdown",
   "id": "3682616c",
   "metadata": {},
   "source": [
    "# find coordinates of kmers"
   ]
  },
  {
   "cell_type": "code",
   "execution_count": 2,
   "id": "e889df9d",
   "metadata": {
    "ExecuteTime": {
     "end_time": "2023-06-05T16:04:10.123611Z",
     "start_time": "2023-06-05T16:04:09.947824Z"
    }
   },
   "outputs": [],
   "source": [
    "CL, MER, NMUTS, BUILD, FO_ONLY = \"common\", \"15\", \"2\", \"hg38\", True\n",
    "config, cfn = crw.read(os.path.join(os.path.dirname(os.getcwd()), \"config.ini\"))"
   ]
  },
  {
   "cell_type": "code",
   "execution_count": 28,
   "id": "f5b23b8c",
   "metadata": {
    "ExecuteTime": {
     "end_time": "2023-06-05T16:04:17.779591Z",
     "start_time": "2023-06-05T16:04:17.761726Z"
    }
   },
   "outputs": [],
   "source": [
    "# read\n",
    "\n",
    "# concatenated nullomers\n",
    "CONCAT= config[f\"{CL}.{MER}mer.{NMUTS}mut\"][\"concat-13\"]\n",
    "\n",
    "# randomly sampled nullomers for single inserts\n",
    "NULLS = config[f\"seed\"]['pruned_tsv']\n",
    "\n",
    "# bed file of common MPRA coordinates\n",
    "BED = config[CL][f\"bed_{BUILD}\"]\n",
    "\n",
    "# extended 4096bp fasta file for common MPRA coordinates\n",
    "FA_EXT_BED = config[CL][f\"fa_extended_{BUILD}\"]\n",
    "\n",
    "# extended 4096 bed file for common MPRA coordinates\n",
    "EXTENDED = config[CL][f\"bed_extended_{BUILD}\"]\n",
    "\n",
    "# fast file for common MPRA coordinates\n",
    "FA = config[CL][f\"fasta_{BUILD}\"]\n",
    "\n",
    "# scaffolds for inserting single nullomers. \n",
    "# Chosen because active (top 97.5% Agarwal) | inactive (IQR Agarwal) across 3 cell lines.\n",
    "# Randomly sample 150 elements from these two categories. \n",
    "# Predict scaffold activity with Sei\n",
    "# Pick scaffolds w/ predicted activity in Sei. (Are these sequences more active than not predicted?)\n",
    "JOINT_LIBRARY=config[\"MPRA_AGARWAL\"][\"joint_library\"]\n",
    "SCAFFOLDS = config[\"scaffold\"][\"sampled\"]\n",
    "\n",
    "ROOT = \"/wynton/home/ahituv/fongsl/nullomers/results/lock/library_design\"\n",
    "\n",
    "#write\n",
    "\n",
    "LIBRARY_FILE = os.path.join(ROOT, f'{MER}mer.fo.pam.scaffold'+\n",
    "              f\".ext200.library.tsv\")\n",
    "\n",
    "LIBRARY_CTRL = os.path.splitext(LIBRARY_FILE)[0] + \".ctrl.tsv\"\n",
    "\n",
    "LIBRARY_TWIST = os.path.splitext(LIBRARY_FILE)[0] + \".TWIST.tsv\"\n",
    "\n",
    "out200 = os.path.join(ROOT, f'{MER}mer.fo.pam.scaffold'+\n",
    "              f\".ext200.fa\")\n",
    "out4096 = os.path.join(ROOT, f'{MER}mer.fo.pam.scaffold'+\n",
    "              f\".ext4096.fa\")\n",
    "\n",
    "# write library file to config\n",
    "config[f\"{CL}.{MER}mer.{NMUTS}mut\"][\"200mers\"] = out200\n",
    "config[f\"{CL}.{MER}mer.{NMUTS}mut\"][\"4096mers\"] = out4096\n",
    "config[f\"{CL}.{MER}mer.{NMUTS}mut\"][\"library\"] = LIBRARY_FILE\n",
    "config[f\"{CL}.{MER}mer.{NMUTS}mut\"][\"library_ctrl\"] = LIBRARY_CTRL\n",
    "config[f\"{CL}.{MER}mer.{NMUTS}mut\"][\"library_twist\"] = LIBRARY_TWIST\n",
    "crw.write(config, cfn)"
   ]
  },
  {
   "cell_type": "markdown",
   "id": "32574b56",
   "metadata": {},
   "source": [
    "# functions"
   ]
  },
  {
   "cell_type": "code",
   "execution_count": 4,
   "id": "34f1b8c0",
   "metadata": {
    "ExecuteTime": {
     "end_time": "2023-06-05T16:04:21.004435Z",
     "start_time": "2023-06-05T16:04:20.966789Z"
    },
    "code_folding": []
   },
   "outputs": [],
   "source": [
    "def getNullSeqs(file):\n",
    "    \"\"\"\n",
    "    read nullomer/concat sequence .tsv\n",
    "\n",
    "    input\n",
    "        file(str) - .txt or .tsv file to nullomer sequences\n",
    "\n",
    "    method\n",
    "        1. make empty nulls, kmers list to collect data\n",
    "        2. iterate through file lines\n",
    "        3. concatmer - append null, kmer sequences\n",
    "        4. single nullomers - append just null sequences. \n",
    "    return list of nullomers, matching kmers (for concatemers only)\n",
    "    \"\"\"\n",
    "\n",
    "    # read file\n",
    "    df = pd.read_csv(file, sep='\\t')\n",
    "\n",
    "    # reformat the concat library\n",
    "    if \"nullConcat\" in list(df):\n",
    "        if \"id\" not in list(df):\n",
    "            # add id number to concats\n",
    "            df['id'] = \"concat-\" + df.index.map(str)\n",
    "\n",
    "            # save the id in the file\n",
    "            df.to_csv(file, sep='\\t', index=False)\n",
    "\n",
    "        df = df.rename(columns={\"nullConcat\": \"seq\"})\n",
    "\n",
    "    return df[[\"id\", \"seq\"]]\n",
    "\n",
    "\n",
    "def getScaffolds(scaffold_file):\n",
    "\n",
    "    df = pd.read_csv(scaffold_file, sep='\\t')\n",
    "\n",
    "    return df\n",
    "\n",
    "\n",
    "def getStrand(scaffold_df):\n",
    "    \"\"\"\n",
    "    return strand of the scaffold sequences\n",
    "\n",
    "    input\n",
    "        scaffold_seq_list (list)- list of scaffold coordinates\n",
    "        lib (pd dataframe) - vikram's 60k common library as pandas dataframe\n",
    "\n",
    "    method\n",
    "        1. iterate through seq coordinate list\n",
    "        1.1 get sequence from coordinate. \n",
    "            Because library was in hg38, but scaffolds are in hs1 (i lifted), need to harmonize on sequence using 150 bases\n",
    "\n",
    "        2. get strand for sequence\n",
    "            2.1 check for strand conflicts (where sequence matches both to a + and - strand)\n",
    "        3. if strand is negative, get reverse complement (fwd), else return coor and fwd seq\n",
    "\n",
    "    return\n",
    "        scaffold_coor_fa (list) - tuple of coordinates and forward strand sequences\n",
    "\n",
    "    \"\"\"\n",
    "    plus = scaffold_df.loc[scaffold_df.strand == \"+\"].copy()\n",
    "    minus = scaffold_df.loc[scaffold_df.strand == \"-\"].copy()\n",
    "\n",
    "    plus[\"fwd.nt\"] = plus[\"200nt\"]\n",
    "    plus[\"rev.nt\"] = plus[\"200nt\"].apply(\n",
    "        lambda x: \"\".join(reverse_complement(Seq(x))))\n",
    "\n",
    "    minus[\"rev.nt\"] = minus[\"200nt\"]\n",
    "    minus[\"fwd.nt\"] = minus[\"200nt\"].apply(\n",
    "        lambda x: \"\".join(reverse_complement(Seq(x))))\n",
    "\n",
    "    return pd.concat([plus, minus])\n",
    "\n",
    "\n",
    "def faToDict(fa_file):\n",
    "    \"\"\"\n",
    "    turn all the fa coordinates into a dictionary. \n",
    "    \"\"\"\n",
    "\n",
    "    fa_dict = {}\n",
    "    with open(fa_file, \"r\") as fasta_reader:\n",
    "        for values in SimpleFastaParser(fasta_reader):\n",
    "\n",
    "            name, seq = values\n",
    "            fa_dict[name] = seq\n",
    "\n",
    "    return fa_dict\n",
    "\n",
    "\n",
    "def dissectFaId(line):\n",
    "    \"\"\"\n",
    "    dissect mutated fa id line for kmer, nullomer information, and get the coordinate file\n",
    "    \"\"\"\n",
    "    # process the line\n",
    "    kmer, chr_, coor, strand, id_ = line.strip('\\n').strip(\">\").split(\".\")\n",
    "\n",
    "    # get key and value sequence to look up\n",
    "    key, value_seq = kmer[:5], kmer[5:]\n",
    "\n",
    "    bed_coor = chr_ + \":\" + coor\n",
    "\n",
    "    # TACCCATTCGAGTC.chr1.100333924-100334124.fwd\n",
    "    region_str = \".\".join([kmer, bed_coor, strand, id_])\n",
    "\n",
    "    return kmer, key, value_seq, bed_coor, region_str\n",
    "\n",
    "\n",
    "def seqInsert(seq, insert_start, insert_seq):\n",
    "    \"\"\"\n",
    "    insert sequence fragment (insert_seq) at position (insert_start) within full sequence (seq)\n",
    "\n",
    "    return inserted sequence. \n",
    "    \"\"\"\n",
    "\n",
    "    insert_size = len(insert_seq)\n",
    "\n",
    "    insert_end = insert_start + insert_size  # find center end\n",
    "\n",
    "    return seq[:int(insert_start)] + insert_seq + seq[int(insert_end):]\n",
    "\n",
    "\n",
    "def MPRAInsertNull(null_sequence, scaffold_sequence, scaffold_activity):\n",
    "    \"\"\"\n",
    "    return positions where the nullomer is in fa sequence\n",
    "    \"\"\"\n",
    "    if scaffold_activity == \"active\":\n",
    "        insert_start = 200 - len(null_sequence)  # place nullomer at the 3' end\n",
    "    else:\n",
    "        insert_start = (len(scaffold_sequence) - len(null_sequence))/2\n",
    "\n",
    "    # insert the nullomer sequence into the sequence\n",
    "    null_insert = seqInsert(scaffold_sequence.lower(),\n",
    "                            insert_start, null_sequence.upper())\n",
    "\n",
    "    return null_insert\n",
    "\n",
    "\n",
    "def mapBed(bedfile, expandedfile):\n",
    "\n",
    "    bed = pd.read_csv(bedfile, sep='\\t')\n",
    "    bed.columns = names = [\"#chr\", \"start\", \"end\", \"id\",  \"strand\"]\n",
    "    bed[\"coor\"] = bed[\"#chr\"] + \":\" + \\\n",
    "        bed[\"start\"].map(str) + \"-\" + bed[\"end\"].map(str)\n",
    "\n",
    "    ext = pd.read_csv(expandedfile, sep='\\t', header=None,\n",
    "                      names=[\"#chr_e\", \"start_e\", \"end_e\", \"id\"])\n",
    "    ext[\"coor_e\"] = ext[\"#chr_e\"] + \":\" + \\\n",
    "        ext[\"start_e\"].map(str) + \"-\" + ext[\"end_e\"].map(str)\n",
    "\n",
    "    joint = pd.merge(ext[[\"id\", \"coor_e\"]], bed[[\"id\", \"coor\"]])\n",
    "\n",
    "    return joint\n",
    "\n",
    "\n",
    "def insert4096(null_seq, joint_bedex, fa_ex_dict, coor):\n",
    "\n",
    "    # extend the coordinates to 4096\n",
    "    extended_coor = joint_bedex.loc[joint_bedex[\"coor\"]\n",
    "                                    == coor, \"coor_e\"].iloc[0]\n",
    "\n",
    "    # get the fasta file linked to the extended coordinates\n",
    "    extended_seq = fa_ex_dict[extended_coor]\n",
    "\n",
    "    # get the start to insert  # figure out where to insert the sequence\n",
    "    insert_start = len(extended_seq)/2 - 100\n",
    "\n",
    "    # insert the 200bp MPRA tile w/ nullomer variants into sequence\n",
    "    null4096 = seqInsert(extended_seq.lower(), insert_start, null_seq.upper())\n",
    "\n",
    "    return null4096, extended_seq\n",
    "\n",
    "\n",
    "def prettifySeq(original, mut):\n",
    "    \"\"\"\n",
    "    prettify sequence. \n",
    "        All matching bases will be written as \".\"\n",
    "        All non matching bases will be written w mutated base identity. \n",
    "    \"\"\"\n",
    "    prettyseq = \"\"\n",
    "    for o, m in zip(original, mut):\n",
    "        if o != m:\n",
    "            prettyseq += m\n",
    "        else:\n",
    "            prettyseq += \".\"\n",
    "\n",
    "    return prettyseq\n",
    "\n",
    "\n",
    "def visualInspection(kmer, null, null_ins200, inserts4096, original_seq):\n",
    "    \"\"\"\n",
    "    print a bunch of information related to how this script is \n",
    "    inserting kmers into 200bp regions, \n",
    "    inserting those 200bp regions into 4096mers\n",
    "    \"\"\"\n",
    "\n",
    "    print(\"\\nkmer\\n\", kmer)\n",
    "\n",
    "    print(\"\\nthe nullomer sequence\\n\",\n",
    "          null, \"\\n\\ninserted\\n\", null_ins200)\n",
    "\n",
    "    print(\"\\n4096 w/ null sequence\\n\", inserts4096)\n",
    "\n",
    "    print(\"\\n pretty 4096\", prettifySeq(\n",
    "        original_seq.upper(), list(inserts4096.values())[0].upper()))\n",
    "\n",
    "\n",
    "def addAdaptor(seq):\n",
    "    adaptor5, adaptor3 = \"AGGACCGGATCAACT\", \"CATTGCGTGAACCGA\"\n",
    "    adapted = adaptor5 + seq + adaptor3\n",
    "    return adapted.upper()\n",
    "\n",
    "\n",
    "def writeRow(file, row):\n",
    "    \"\"\"\n",
    "    append line to file\n",
    "\n",
    "    input\n",
    "        file (str) - file to write to\n",
    "        row (str) - row to write\n",
    "    method\n",
    "        1. open file\n",
    "        2. write\n",
    "        3. close\n",
    "    \"\"\"\n",
    "    # 1\n",
    "    with open(file, \"a\") as writer:\n",
    "        # 2\n",
    "        writer.write(row)\n",
    "    # 3\n",
    "    writer.close()"
   ]
  },
  {
   "cell_type": "markdown",
   "id": "7b346b4b",
   "metadata": {},
   "source": [
    "# scaffold selection"
   ]
  },
  {
   "cell_type": "markdown",
   "id": "a0ee7f1e",
   "metadata": {},
   "source": [
    "Scaffold selection? \n",
    "\n",
    "See: ./nullomers/bin-lock/Analysis/mpra_corr_scaffold.ipynb\n",
    "    ./nullomers/bin-lock/Sei_seqeunce_class-scaffold-minmax-selection.ipynb\n",
    "\n",
    "    Basically, 60K sequences commonly active|inactive \n",
    "    across 3 cell lines from Agarwal 2023 were evaluated \n",
    "    for MPRA activity (log(rna/dna)). I quantified the mean \n",
    "    activity across these three cell lines, then randomly sampled from  \n",
    "    the top 97.5%, IQR, and bottom 2.5% active sequences \n",
    "    \n",
    "    Then, I predicted the sequence class from each of those \n",
    "    common sequences. Of the sequences with interpretable predictions in Sei\n",
    "    (i.e. sei predicted active sequences as promoter/ enhancer)\n",
    "    I sampled 50 of the active and 50 of the IQR (marginal activity)\n",
    "    to use as scaffolds"
   ]
  },
  {
   "cell_type": "markdown",
   "id": "4fd5277c",
   "metadata": {},
   "source": [
    "# Main"
   ]
  },
  {
   "cell_type": "code",
   "execution_count": 5,
   "id": "7c00ed40",
   "metadata": {
    "ExecuteTime": {
     "end_time": "2023-06-05T16:04:24.182596Z",
     "start_time": "2023-06-05T16:04:23.252815Z"
    }
   },
   "outputs": [],
   "source": [
    "def mapBedGenomeBuild(from_, to_, config, cl):\n",
    "    \n",
    "    \n",
    "    for i, build in enumerate([from_, to_]):\n",
    "        BED = config[cl][f\"bed_{build}\"]\n",
    "        cols =[f\"chr.{build}\", f\"start.{build}\", f\"end.{build}\", \"id\", f\"str.{build}\"]\n",
    "    \n",
    "        bed = pd.read_csv(BED, sep='\\t', header=None)\n",
    "        bed.columns = cols\n",
    "        bed[f\"{build}.coor\"] = bed[f\"chr.{build}\"]+\":\"+ bed[f\"start.{build}\"].map(str) +\"-\"+ bed[f\"end.{build}\"].map(str)\n",
    "        \n",
    "        if i ==0:\n",
    "            df = bed.copy()\n",
    "        else:\n",
    "            merged = pd.merge(df, bed, how='left')\n",
    "            \n",
    "    return merged.iloc[1:]\n",
    "    \n",
    "\n",
    "build_map = mapBedGenomeBuild(\"hg38\", 'hs1', config, CL)"
   ]
  },
  {
   "cell_type": "markdown",
   "id": "afc8f7db",
   "metadata": {},
   "source": [
    "## set up scaffold FA resources"
   ]
  },
  {
   "cell_type": "code",
   "execution_count": 6,
   "id": "33e57a43",
   "metadata": {
    "ExecuteTime": {
     "end_time": "2023-06-05T16:04:30.238583Z",
     "start_time": "2023-06-05T16:04:26.106212Z"
    }
   },
   "outputs": [],
   "source": [
    "fa_dict = faToDict(FA) # in hs1\n",
    "fa_ex_dict = faToDict(FA_EXT_BED) # in hs1\n",
    "\n",
    "joint_bedex = mapBed(BED, EXTENDED) # in hg38\n",
    "\n",
    "lib = pd.read_csv(JOINT_LIBRARY, header=1) # in hg38"
   ]
  },
  {
   "cell_type": "markdown",
   "id": "d97e5045",
   "metadata": {},
   "source": [
    "## get scaffolds"
   ]
  },
  {
   "cell_type": "code",
   "execution_count": 7,
   "id": "7d66eeb6",
   "metadata": {
    "ExecuteTime": {
     "end_time": "2023-06-05T16:04:49.547455Z",
     "start_time": "2023-06-05T16:04:49.518600Z"
    }
   },
   "outputs": [
    {
     "name": "stdout",
     "output_type": "stream",
     "text": [
      "strand\n",
      "+    399\n",
      "-      1\n",
      "Name: name, dtype: int64\n"
     ]
    }
   ],
   "source": [
    "scaffolds_ = getScaffolds(SCAFFOLDS)\n",
    "\n",
    "print(scaffolds_.groupby(\"strand\")[\"name\"].count())"
   ]
  },
  {
   "cell_type": "code",
   "execution_count": 8,
   "id": "12fe3a2e",
   "metadata": {
    "ExecuteTime": {
     "end_time": "2023-06-05T16:04:50.482073Z",
     "start_time": "2023-06-05T16:04:50.464175Z"
    }
   },
   "outputs": [],
   "source": [
    "# make sure all the scaffold sequences are in the forward direction\n",
    "scaffolds = getStrand(scaffolds_)"
   ]
  },
  {
   "cell_type": "markdown",
   "id": "abf7cabd",
   "metadata": {},
   "source": [
    "## insert nulls into scaffold and write\n",
    "    - takes 12 minutes\n"
   ]
  },
  {
   "cell_type": "code",
   "execution_count": 9,
   "id": "41e6eb9a",
   "metadata": {
    "ExecuteTime": {
     "end_time": "2023-06-05T16:04:53.972972Z",
     "start_time": "2023-06-05T16:04:52.655802Z"
    }
   },
   "outputs": [],
   "source": [
    "if os.path.exists(LIBRARY_FILE) is False:\n",
    "\n",
    "    out_tsv_dict = {}  # collect data for tsv\n",
    "\n",
    "    # do single nullomers first\n",
    "    nulls = getNullSeqs(NULLS)\n",
    "    concatnulls = getNullSeqs(CONCAT)\n",
    "    i = 0\n",
    "\n",
    "    datas = [\n",
    "             (\"single-null\", nulls, scaffolds),\n",
    "             (\"concat-null\", concatnulls, \n",
    "              scaffolds.loc[scaffolds[\"name\"] ==\"WTC11_seq8625_F\"].copy()),\n",
    "             ]\n",
    "\n",
    "    # per dataset\n",
    "    for datatype, seq_list, scaffold_list in datas:\n",
    "        print(datatype, len(seq_list), len(scaffold_list))\n",
    "\n",
    "        # per nullomer\n",
    "        for null_row in seq_list.iterrows():\n",
    "            null_id, null_seq = null_row[1]\n",
    "            print(i)\n",
    "            # per scaffold\n",
    "            for scaf_row in scaffold_list[[\"name\", \"fwd.nt\", \"scaffold_activity\", \"hg38.coor\"]].iterrows():\n",
    "                scaf_id, scaf_seq, scaf_act, scaf_coor = scaf_row[1]\n",
    "\n",
    "                # get hg38, hs1 coordinates (in case)\n",
    "                coor_hg38, coor_hs1 = list(build_map.loc[build_map[\"id\"] == scaf_id, \n",
    "                                                         [\"hg38.coor\", \"hs1.coor\"]].iloc[0])\n",
    "\n",
    "\n",
    "                # get fa sequence for the coordinate, make id from coordinate and the sequence index\n",
    "                region_id  = null_id + \"|\" + scaf_id + \"|\" + scaf_act\n",
    "                region_fa_id = scaf_coor + \"|\" + region_id\n",
    "                #print(region_fa_id)\n",
    "\n",
    "                # insert nulls, kmers into center of 200bp MPRA sequences.\n",
    "                seq_ins200 = MPRAInsertNull(\n",
    "                    null_seq, scaf_seq, scaf_act)  # insert null into scaffold seq\n",
    "\n",
    "                # insert 200bp null sequence into the 4096 sequence\n",
    "                seq_ins4096, scaf_seq_ext = insert4096(seq_ins200, joint_bedex, fa_ex_dict, scaf_coor)\n",
    "\n",
    "                if i == 0:  # if this is the first sequence\n",
    "\n",
    "                    # write the original sequences\n",
    "                    writeRow(out200, f\">{scaf_coor}_endog_\\n{scaf_seq}\\n\")\n",
    "                    writeRow(out4096, f\">{scaf_coor}_endog_\\n{scaf_seq_ext}\\n\")\n",
    "\n",
    "                    out_tsv_dict[f\"endog-{scaf_id}\"] = [f\"endog|{scaf_id}|{scaf_act}\", \"endog\", \n",
    "                                                  None, scaf_id, scaf_coor, \"+\", scaf_act,\n",
    "                                                  None, scaf_seq, \n",
    "                                                  addAdaptor(scaf_seq)\n",
    "                                                 ]\n",
    "\n",
    "                # write 200mers\n",
    "                writeRow(out200, f\">{region_fa_id}\\n{seq_ins200.upper()}\\n\")\n",
    "\n",
    "                # write 4096 nullomers\n",
    "                writeRow(out4096, f\">{region_fa_id}\\n{seq_ins4096.upper()}\\n\")\n",
    "\n",
    "                out_tsv_dict[region_fa_id] = [region_id, f\"{datatype}\", \n",
    "                                              null_id, scaf_id, scaf_coor, \"+\", scaf_act, \n",
    "                                              null_seq.upper(), seq_ins200.upper(), \n",
    "                                              addAdaptor(seq_ins200)\n",
    "                                             ]\n",
    "            i +=1\n",
    "\n",
    "\n",
    "    a = [np.array(i) for i in out_tsv_dict.values()]\n",
    "\n",
    "    df = pd.DataFrame(a)\n",
    "    before = df.shape[0]\n",
    "    df= df.drop_duplicates()\n",
    "    print(before - df.shape[0])\n",
    "\n",
    "    df.columns=[\"null_id|scaffold_id|activity\",\"exp.id\", \"null.id\",\"scaffold.id\", \"hg38.scaffold.coor\", \n",
    "                \"hg38.str\", \"scaffold.activity\", \"seq_frag\", \"200bp_insert\", \"200bp_insert+adaptors\"]\n",
    "    df[\"gc_frac\"] = df[\"200bp_insert\"].apply(lambda x:gc_fraction(x))\n",
    "    df.to_csv(LIBRARY_FILE, sep='\\t', index=False)\n",
    "\n",
    "else:\n",
    "    df = pd.read_csv(LIBRARY_FILE, sep='\\t')"
   ]
  },
  {
   "cell_type": "markdown",
   "id": "b889c63a",
   "metadata": {},
   "source": [
    "# add control sequences. "
   ]
  },
  {
   "cell_type": "markdown",
   "id": "f0d791d2",
   "metadata": {},
   "source": [
    "## functions"
   ]
  },
  {
   "cell_type": "code",
   "execution_count": 10,
   "id": "80eccdca",
   "metadata": {
    "ExecuteTime": {
     "end_time": "2023-06-05T16:09:46.976423Z",
     "start_time": "2023-06-05T16:09:46.954052Z"
    }
   },
   "outputs": [],
   "source": [
    "def dinucScramble(seq, verbose):\n",
    "\n",
    "    n=2 # pick size 2\n",
    "    \n",
    "    splits = [seq[i:i+n] for i in range(0, len(seq), n)]\n",
    "    shuf_splits = splits[::]\n",
    "    \n",
    "    shuffle(shuf_splits)\n",
    "    \n",
    "    if verbose is True:\n",
    "        print(np.unique(splits, return_counts=True))\n",
    "        print(np.unique(shuf_splits, return_counts=True))\n",
    "    \n",
    "\n",
    "    return \"\".join(shuf_splits)\n",
    "\n",
    "def checkLength(ctrl):\n",
    "    ctrl[\"len\"]= ctrl[\"200bp_insert+adaptors\"].apply(lambda x: len(x))\n",
    "\n",
    "    keep = ctrl.loc[ctrl[\"len\"]==230].copy()\n",
    "    trim = ctrl.loc[ctrl[\"len\"]==260].copy() # double adaptor!\n",
    "    \n",
    "    # trim double adaptor to single adaptor\n",
    "    trim[\"200bp_insert+adaptors\"] = trim[\"200bp_insert+adaptors\"].apply(lambda x: x[15:-15])\n",
    "    trim[\"len\"]= trim[\"200bp_insert+adaptors\"].apply(lambda x: len(x))\n",
    "\n",
    "    ctrl = pd.concat([keep, trim])\n",
    " \n",
    "    return ctrl\n",
    "\n",
    "def getAgarwalCtrls(lib):\n",
    "\n",
    "# get control\n",
    "    ctrl = lib.loc[\n",
    "                    (lib[\"category\"].str.contains(\"negative\")) |\n",
    "                    (lib[\"category\"].str.contains(\"positive\"))\n",
    "                     ].drop_duplicates()\n",
    "\n",
    "    ctrl = ctrl.loc[ctrl[\"category\"]!=\"negative, shuffled\"]\n",
    "    ctrl = ctrl[['name',\n",
    "                 'category',\n",
    "                 'chr.hg38',\n",
    "                 'start.hg38',\n",
    "                 'stop.hg38',\n",
    "                 'str.hg38',\n",
    "                 \"230nt sequence (15nt 5' adaptor - 200nt element - 15nt 3' adaptor)\"]]\n",
    "\n",
    "    # fillna\n",
    "    ctrl = ctrl.fillna(-1)\n",
    "\n",
    "    # build the coordinate field\n",
    "    ctrl[\"hg38.scaffold.coor\"] = \"chr\" + ctrl[\"chr.hg38\"].map(str) +\\\n",
    "                                \":\" + ctrl[\"start.hg38\"].map(int).map(str) +\\\n",
    "                                \"-\" + ctrl[\"stop.hg38\"].map(int).map(str)\n",
    "\n",
    "    # rename columns\n",
    "    ctrl = ctrl.rename(columns={\"name\":\"scaffold.id\", \n",
    "                                \"category\":\"exp.id\",\n",
    "                                \"str.hg38\": \"hg38.str\", \n",
    "                                \"230nt sequence (15nt 5' adaptor - 200nt element - 15nt 3' adaptor)\":'200bp_insert+adaptors'\n",
    "                        })\n",
    "\n",
    "    # trim adaptors\n",
    "    ctrl[\"200bp_insert\"]  = ctrl[\"200bp_insert+adaptors\"].apply(lambda x: x[15:-15])\n",
    "    ctrl[\"gc_frac\"]= ctrl[\"200bp_insert\"].apply(lambda x: gc_fraction(x))\n",
    "\n",
    "    # add in empty fields. \n",
    "    ctrl['null.id'] = None\n",
    "    ctrl[\"null_id|scaffold_id|activity\"] = ctrl['null.id'].map(str) + \"|\" + ctrl['scaffold.id'] + \"|\" + ctrl['scaffold.activity']\n",
    "    ctrl['scaffold.activity'] = ctrl[\"exp.id\"].apply(lambda x: \"inactive\" if \"negative\" in x else \"active\")\n",
    "    ctrl[\"seq_frag\"]=None\n",
    "\n",
    "    return ctrl\n",
    "\n",
    "def getEndogSeqNScramble(df, n_scramble):\n",
    "\n",
    "    endog_dict = {}\n",
    "\n",
    "    # per scramble\n",
    "    for i in np.arange(n_scramble):\n",
    "\n",
    "        # make copy of endog dataframe rows\n",
    "        endog_seqs = df.loc[df[\"exp.id\"] == \"endog\"].copy()\n",
    "\n",
    "        # change a bunch of vals\n",
    "        # id - update w/ scramble iter\n",
    "        endog_seqs['exp.id']=\"endog-scramble\"\n",
    "        endog_seqs['null.id'] = f\"endog-scramble-{i}\"\n",
    "        endog_seqs[\"null_id|scaffold_id|activity\"] = f\"endog-scramble-{i}\" + \\\n",
    "            \"|\" + endog_seqs[\"scaffold.id\"]\n",
    "\n",
    "        # scramble!\n",
    "        endog_seqs[\"200bp_insert\"] = endog_seqs[\"200bp_insert\"].apply(\n",
    "            lambda x: dinucScramble(x, False))\n",
    "\n",
    "        # add adaptors to scramble!\n",
    "        endog_seqs[\"200bp_insert+adaptors\"] = endog_seqs[\"200bp_insert\"].apply(\n",
    "            lambda x: addAdaptor(x))\n",
    "\n",
    "        # quantify GC fraction of scramble! (Should be the same!)\n",
    "        endog_seqs[\"gc_frac\"] = endog_seqs[\"200bp_insert\"].apply(\n",
    "            lambda x: gc_fraction(x))\n",
    "\n",
    "        # add scramble to dictionary\n",
    "        endog_dict[i] = endog_seqs.copy()\n",
    "\n",
    "    endog_seqs = pd.concat(endog_dict.values())\n",
    "\n",
    "    return endog_seqs"
   ]
  },
  {
   "cell_type": "markdown",
   "id": "71408f4a",
   "metadata": {},
   "source": [
    "## get positive controls from Agarwal MPRA\n",
    "## scramble scaffold sequences"
   ]
  },
  {
   "cell_type": "code",
   "execution_count": 11,
   "id": "0deb4a86",
   "metadata": {
    "ExecuteTime": {
     "end_time": "2023-06-05T19:09:29.185971Z",
     "start_time": "2023-06-05T19:09:27.066147Z"
    }
   },
   "outputs": [
    {
     "data": {
      "text/html": [
       "<div>\n",
       "<style scoped>\n",
       "    .dataframe tbody tr th:only-of-type {\n",
       "        vertical-align: middle;\n",
       "    }\n",
       "\n",
       "    .dataframe tbody tr th {\n",
       "        vertical-align: top;\n",
       "    }\n",
       "\n",
       "    .dataframe thead th {\n",
       "        text-align: right;\n",
       "    }\n",
       "</style>\n",
       "<table border=\"1\" class=\"dataframe\">\n",
       "  <thead>\n",
       "    <tr style=\"text-align: right;\">\n",
       "      <th></th>\n",
       "      <th>exp.id</th>\n",
       "      <th>null.id</th>\n",
       "      <th>scaffold.id</th>\n",
       "      <th>null_id+scaffold_id</th>\n",
       "      <th>hg38.scaffold.coor</th>\n",
       "      <th>hg38.str</th>\n",
       "      <th>gc_frac</th>\n",
       "      <th>len</th>\n",
       "      <th>scaffold.activity</th>\n",
       "      <th>200bp_insert+adaptors</th>\n",
       "      <th>insert_seq</th>\n",
       "    </tr>\n",
       "  </thead>\n",
       "  <tbody>\n",
       "    <tr>\n",
       "      <th>0</th>\n",
       "      <td>concat-null</td>\n",
       "      <td>concat-0</td>\n",
       "      <td>WTC11_seq8625_F</td>\n",
       "      <td>concat-0|WTC11_seq8625_F|inactive</td>\n",
       "      <td>chr10:37754790-37754990</td>\n",
       "      <td>+</td>\n",
       "      <td>0.570</td>\n",
       "      <td>230</td>\n",
       "      <td>inactive</td>\n",
       "      <td>AGGACCGGATCAACTGATATTCGCTCAACCGGAACGAATGTCGACG...</td>\n",
       "      <td>TATTCGCTCAACCGGAACGAATGTCGACGGTAACGTCGAGTGCGGT...</td>\n",
       "    </tr>\n",
       "    <tr>\n",
       "      <th>1</th>\n",
       "      <td>concat-null</td>\n",
       "      <td>concat-1</td>\n",
       "      <td>WTC11_seq8625_F</td>\n",
       "      <td>concat-1|WTC11_seq8625_F|inactive</td>\n",
       "      <td>chr10:37754790-37754990</td>\n",
       "      <td>+</td>\n",
       "      <td>0.560</td>\n",
       "      <td>230</td>\n",
       "      <td>inactive</td>\n",
       "      <td>AGGACCGGATCAACTGATTCGAACGCAAGCGGTAATTACGTCGACG...</td>\n",
       "      <td>TTCGAACGCAAGCGGTAATTACGTCGACGGGTTGCGAGTAGTCGGC...</td>\n",
       "    </tr>\n",
       "    <tr>\n",
       "      <th>2</th>\n",
       "      <td>concat-null</td>\n",
       "      <td>concat-2</td>\n",
       "      <td>WTC11_seq8625_F</td>\n",
       "      <td>concat-2|WTC11_seq8625_F|inactive</td>\n",
       "      <td>chr10:37754790-37754990</td>\n",
       "      <td>+</td>\n",
       "      <td>0.580</td>\n",
       "      <td>230</td>\n",
       "      <td>inactive</td>\n",
       "      <td>AGGACCGGATCAACTGACCATCGATCGAACGGCCGGTATTGGATCG...</td>\n",
       "      <td>CCATCGATCGAACGGCCGGTATTGGATCGGCTAGATCGACGGAGGC...</td>\n",
       "    </tr>\n",
       "    <tr>\n",
       "      <th>3</th>\n",
       "      <td>concat-null</td>\n",
       "      <td>concat-3</td>\n",
       "      <td>WTC11_seq8625_F</td>\n",
       "      <td>concat-3|WTC11_seq8625_F|inactive</td>\n",
       "      <td>chr10:37754790-37754990</td>\n",
       "      <td>+</td>\n",
       "      <td>0.585</td>\n",
       "      <td>230</td>\n",
       "      <td>inactive</td>\n",
       "      <td>AGGACCGGATCAACTGAACCGCTATATTGCGGTTATTGCGCGAGCG...</td>\n",
       "      <td>ACCGCTATATTGCGGTTATTGCGCGAGCGGTATCGACGAAGGCGGG...</td>\n",
       "    </tr>\n",
       "    <tr>\n",
       "      <th>4</th>\n",
       "      <td>concat-null</td>\n",
       "      <td>concat-4</td>\n",
       "      <td>WTC11_seq8625_F</td>\n",
       "      <td>concat-4|WTC11_seq8625_F|inactive</td>\n",
       "      <td>chr10:37754790-37754990</td>\n",
       "      <td>+</td>\n",
       "      <td>0.580</td>\n",
       "      <td>230</td>\n",
       "      <td>inactive</td>\n",
       "      <td>AGGACCGGATCAACTGAAAGCGCGTCTATCGGCCTTAGTTCGGACG...</td>\n",
       "      <td>AAGCGCGTCTATCGGCCTTAGTTCGGACGGTTCGATACGGGTCGGC...</td>\n",
       "    </tr>\n",
       "  </tbody>\n",
       "</table>\n",
       "</div>"
      ],
      "text/plain": [
       "        exp.id   null.id      scaffold.id                null_id+scaffold_id  \\\n",
       "0  concat-null  concat-0  WTC11_seq8625_F  concat-0|WTC11_seq8625_F|inactive   \n",
       "1  concat-null  concat-1  WTC11_seq8625_F  concat-1|WTC11_seq8625_F|inactive   \n",
       "2  concat-null  concat-2  WTC11_seq8625_F  concat-2|WTC11_seq8625_F|inactive   \n",
       "3  concat-null  concat-3  WTC11_seq8625_F  concat-3|WTC11_seq8625_F|inactive   \n",
       "4  concat-null  concat-4  WTC11_seq8625_F  concat-4|WTC11_seq8625_F|inactive   \n",
       "\n",
       "        hg38.scaffold.coor hg38.str  gc_frac  len scaffold.activity  \\\n",
       "0  chr10:37754790-37754990        +    0.570  230          inactive   \n",
       "1  chr10:37754790-37754990        +    0.560  230          inactive   \n",
       "2  chr10:37754790-37754990        +    0.580  230          inactive   \n",
       "3  chr10:37754790-37754990        +    0.585  230          inactive   \n",
       "4  chr10:37754790-37754990        +    0.580  230          inactive   \n",
       "\n",
       "                               200bp_insert+adaptors  \\\n",
       "0  AGGACCGGATCAACTGATATTCGCTCAACCGGAACGAATGTCGACG...   \n",
       "1  AGGACCGGATCAACTGATTCGAACGCAAGCGGTAATTACGTCGACG...   \n",
       "2  AGGACCGGATCAACTGACCATCGATCGAACGGCCGGTATTGGATCG...   \n",
       "3  AGGACCGGATCAACTGAACCGCTATATTGCGGTTATTGCGCGAGCG...   \n",
       "4  AGGACCGGATCAACTGAAAGCGCGTCTATCGGCCTTAGTTCGGACG...   \n",
       "\n",
       "                                          insert_seq  \n",
       "0  TATTCGCTCAACCGGAACGAATGTCGACGGTAACGTCGAGTGCGGT...  \n",
       "1  TTCGAACGCAAGCGGTAATTACGTCGACGGGTTGCGAGTAGTCGGC...  \n",
       "2  CCATCGATCGAACGGCCGGTATTGGATCGGCTAGATCGACGGAGGC...  \n",
       "3  ACCGCTATATTGCGGTTATTGCGCGAGCGGTATCGACGAAGGCGGG...  \n",
       "4  AAGCGCGTCTATCGGCCTTAGTTCGGACGGTTCGATACGGGTCGGC...  "
      ]
     },
     "execution_count": 11,
     "metadata": {},
     "output_type": "execute_result"
    }
   ],
   "source": [
    "if os.path.exists(LIBRARY_CTRL) is False:\n",
    "    # get controls from library\n",
    "    ctrl = getAgarwalCtrls(lib)\n",
    "    print(ctrl.shape)\n",
    "\n",
    "    # rearrange columns to be like df\n",
    "    ctrl = ctrl[list(df)]\n",
    "\n",
    "    N_SCRAMBLE = 3\n",
    "    endog_scram = getEndogSeqNScramble(df, N_SCRAMBLE)\n",
    "\n",
    "    # add positive controls, scaffold scrambles\n",
    "    ctrl = pd.concat([ctrl, endog_scram])\n",
    "    print(ctrl.shape)\n",
    "\n",
    "    # add the nullomer inserts\n",
    "    ctrl = pd.concat([ctrl, df])\n",
    "\n",
    "    # quantify length\n",
    "    ctrl = checkLength(ctrl)\n",
    "    print(ctrl.shape)\n",
    "\n",
    "    ctrl = ctrl.rename(columns={\"seg_frag\": \"seq_insert\"})\n",
    "\n",
    "    # reorganize columns\n",
    "    ctrl = ctrl[[\n",
    "        'exp.id', 'null.id', 'scaffold.id',\n",
    "        'null_id|scaffold_id|activity', 'hg38.scaffold.coor', 'hg38.str',\n",
    "        'gc_frac', 'len',\n",
    "        'scaffold.activity', \n",
    "         '200bp_insert+adaptors',\n",
    "        'seq_frag',\n",
    "        #'200bp_insert',\n",
    "\n",
    "    ]].sort_values(by=[\"exp.id\", \"scaffold.id\"])\n",
    "\n",
    "    # rename column \"seq_frag\" to \"insert_seq\" \n",
    "    ctrl=ctrl.rename(columns = {\"seq_frag\":\"insert_seq\"})\n",
    "\n",
    "    # SAVE\n",
    "    ctrl.to_csv(LIBRARY_CTRL, sep='\\t', index=False)\n",
    "\n",
    "else:\n",
    "    ctrl = pd.read_csv(LIBRARY_CTRL, sep='\\t')\n",
    "\n",
    "ctrl.head()"
   ]
  },
  {
   "cell_type": "markdown",
   "id": "4b1d0ecb",
   "metadata": {},
   "source": [
    "## double check \n",
    "### adaptors"
   ]
  },
  {
   "cell_type": "code",
   "execution_count": 23,
   "id": "b500db0c",
   "metadata": {
    "ExecuteTime": {
     "end_time": "2023-06-05T16:09:33.329532Z",
     "start_time": "2023-06-05T16:09:33.160414Z"
    }
   },
   "outputs": [
    {
     "data": {
      "text/plain": [
       "({'AGGACCGGATCAACT'}, {'CATTGCGTGAACCGA'})"
      ]
     },
     "execution_count": 23,
     "metadata": {},
     "output_type": "execute_result"
    }
   ],
   "source": [
    "set(ctrl[\"200bp_insert+adaptors\"].apply(lambda x: x[:15])),set(ctrl[\"200bp_insert+adaptors\"].apply(lambda x: x[-15:]))"
   ]
  },
  {
   "cell_type": "code",
   "execution_count": 25,
   "id": "2d566ee2",
   "metadata": {},
   "outputs": [],
   "source": [
    "for_twist = ctrl[['null_id|scaffold_id|activity', '200bp_insert+adaptors']].drop_duplicates().copy()"
   ]
  },
  {
   "cell_type": "code",
   "execution_count": 29,
   "id": "f648108c",
   "metadata": {},
   "outputs": [],
   "source": [
    "for_twist.to_csv(LIBRARY_TWIST, sep='\\t', index=False)"
   ]
  },
  {
   "cell_type": "markdown",
   "id": "89a9b876",
   "metadata": {},
   "source": [
    "### check scrambles"
   ]
  },
  {
   "cell_type": "code",
   "execution_count": 24,
   "id": "ae2a819f",
   "metadata": {
    "ExecuteTime": {
     "end_time": "2023-06-05T16:12:26.378085Z",
     "start_time": "2023-06-05T16:12:26.308128Z"
    }
   },
   "outputs": [
    {
     "data": {
      "text/html": [
       "<div>\n",
       "<style scoped>\n",
       "    .dataframe tbody tr th:only-of-type {\n",
       "        vertical-align: middle;\n",
       "    }\n",
       "\n",
       "    .dataframe tbody tr th {\n",
       "        vertical-align: top;\n",
       "    }\n",
       "\n",
       "    .dataframe thead th {\n",
       "        text-align: right;\n",
       "    }\n",
       "</style>\n",
       "<table border=\"1\" class=\"dataframe\">\n",
       "  <thead>\n",
       "    <tr style=\"text-align: right;\">\n",
       "      <th></th>\n",
       "      <th>exp.id</th>\n",
       "      <th>null.id</th>\n",
       "      <th>scaffold.id</th>\n",
       "      <th>null_id+scaffold_id</th>\n",
       "      <th>hg38.scaffold.coor</th>\n",
       "      <th>hg38.str</th>\n",
       "      <th>gc_frac</th>\n",
       "      <th>len</th>\n",
       "      <th>scaffold.activity</th>\n",
       "      <th>200bp_insert+adaptors</th>\n",
       "    </tr>\n",
       "  </thead>\n",
       "  <tbody>\n",
       "    <tr>\n",
       "      <th>764</th>\n",
       "      <td>endog</td>\n",
       "      <td>NaN</td>\n",
       "      <td>HepG2_DNasePeakNoPromoter20370</td>\n",
       "      <td>endog</td>\n",
       "      <td>chr15:72237529-72237729</td>\n",
       "      <td>+</td>\n",
       "      <td>0.525</td>\n",
       "      <td>230</td>\n",
       "      <td>active</td>\n",
       "      <td>AGGACCGGATCAACTAGCTGGTAAGAAACCCAGTAATGACTCAGCA...</td>\n",
       "    </tr>\n",
       "    <tr>\n",
       "      <th>764</th>\n",
       "      <td>endog-scramble</td>\n",
       "      <td>endog-scramble-0</td>\n",
       "      <td>HepG2_DNasePeakNoPromoter20370</td>\n",
       "      <td>endog-scramble-0|HepG2_DNasePeakNoPromoter20370</td>\n",
       "      <td>chr15:72237529-72237729</td>\n",
       "      <td>+</td>\n",
       "      <td>0.525</td>\n",
       "      <td>230</td>\n",
       "      <td>active</td>\n",
       "      <td>AGGACCGGATCAACTGGGGCCTGCCCGGACTAGGGGACCATAAACA...</td>\n",
       "    </tr>\n",
       "    <tr>\n",
       "      <th>764</th>\n",
       "      <td>endog-scramble</td>\n",
       "      <td>endog-scramble-1</td>\n",
       "      <td>HepG2_DNasePeakNoPromoter20370</td>\n",
       "      <td>endog-scramble-1|HepG2_DNasePeakNoPromoter20370</td>\n",
       "      <td>chr15:72237529-72237729</td>\n",
       "      <td>+</td>\n",
       "      <td>0.525</td>\n",
       "      <td>230</td>\n",
       "      <td>active</td>\n",
       "      <td>AGGACCGGATCAACTTAAAAACACATCCAGAAAGTACATCACTGGC...</td>\n",
       "    </tr>\n",
       "    <tr>\n",
       "      <th>764</th>\n",
       "      <td>endog-scramble</td>\n",
       "      <td>endog-scramble-2</td>\n",
       "      <td>HepG2_DNasePeakNoPromoter20370</td>\n",
       "      <td>endog-scramble-2|HepG2_DNasePeakNoPromoter20370</td>\n",
       "      <td>chr15:72237529-72237729</td>\n",
       "      <td>+</td>\n",
       "      <td>0.525</td>\n",
       "      <td>230</td>\n",
       "      <td>active</td>\n",
       "      <td>AGGACCGGATCAACTGACTCCGGCCTCAGTCCACTGGACTCCAGAG...</td>\n",
       "    </tr>\n",
       "  </tbody>\n",
       "</table>\n",
       "</div>"
      ],
      "text/plain": [
       "             exp.id           null.id                     scaffold.id  \\\n",
       "764           endog               NaN  HepG2_DNasePeakNoPromoter20370   \n",
       "764  endog-scramble  endog-scramble-0  HepG2_DNasePeakNoPromoter20370   \n",
       "764  endog-scramble  endog-scramble-1  HepG2_DNasePeakNoPromoter20370   \n",
       "764  endog-scramble  endog-scramble-2  HepG2_DNasePeakNoPromoter20370   \n",
       "\n",
       "                                 null_id+scaffold_id       hg38.scaffold.coor  \\\n",
       "764                                            endog  chr15:72237529-72237729   \n",
       "764  endog-scramble-0|HepG2_DNasePeakNoPromoter20370  chr15:72237529-72237729   \n",
       "764  endog-scramble-1|HepG2_DNasePeakNoPromoter20370  chr15:72237529-72237729   \n",
       "764  endog-scramble-2|HepG2_DNasePeakNoPromoter20370  chr15:72237529-72237729   \n",
       "\n",
       "    hg38.str  gc_frac  len scaffold.activity  \\\n",
       "764        +    0.525  230            active   \n",
       "764        +    0.525  230            active   \n",
       "764        +    0.525  230            active   \n",
       "764        +    0.525  230            active   \n",
       "\n",
       "                                 200bp_insert+adaptors  \n",
       "764  AGGACCGGATCAACTAGCTGGTAAGAAACCCAGTAATGACTCAGCA...  \n",
       "764  AGGACCGGATCAACTGGGGCCTGCCCGGACTAGGGGACCATAAACA...  \n",
       "764  AGGACCGGATCAACTTAAAAACACATCCAGAAAGTACATCACTGGC...  \n",
       "764  AGGACCGGATCAACTGACTCCGGCCTCAGTCCACTGGACTCCAGAG...  "
      ]
     },
     "execution_count": 24,
     "metadata": {},
     "output_type": "execute_result"
    }
   ],
   "source": [
    "ctrl.loc[(ctrl['scaffold.id'] == \"HepG2_DNasePeakNoPromoter20370\")\n",
    "         & (ctrl[\"exp.id\"].str.contains(\"endog\")), ['exp.id',\n",
    "                                                    'null.id',\n",
    "                                                    'scaffold.id',\n",
    "                                                    'null_id|scaffold_id|activity',\n",
    "                                                    'hg38.scaffold.coor',\n",
    "                                                    'hg38.str',\n",
    "                                                    'gc_frac',\n",
    "                                                    'len',\n",
    "                                                    'scaffold.activity',\n",
    "                                                    # 'seq_frag',\n",
    "                                                    # '200bp_insert',\n",
    "                                                    '200bp_insert+adaptors']]"
   ]
  },
  {
   "cell_type": "markdown",
   "id": "434aba0c",
   "metadata": {},
   "source": [
    "### test for k562 alignment"
   ]
  },
  {
   "cell_type": "code",
   "execution_count": 54,
   "id": "9556424e",
   "metadata": {
    "ExecuteTime": {
     "end_time": "2023-06-05T19:05:40.772195Z",
     "start_time": "2023-06-05T19:05:40.690240Z"
    }
   },
   "outputs": [
    {
     "data": {
      "text/plain": [
       "scaffold.id                                              K562_peak26939\n",
       "200bp_insert          TCAAAGTCAACCAGGCAGCTGCCTTACTTAAATTCATTTCCCTCAG...\n",
       "hg38.scaffold.coor                              chr15:40962392-40962592\n",
       "Name: 480, dtype: object"
      ]
     },
     "execution_count": 54,
     "metadata": {},
     "output_type": "execute_result"
    }
   ],
   "source": [
    "check_cols = [\"scaffold.id\", \"200bp_insert\", \"hg38.scaffold.coor\"]\n",
    "ctrl.loc[ctrl[\"scaffold.id\"].str.contains(\"K562\"), check_cols].iloc[271]"
   ]
  },
  {
   "cell_type": "markdown",
   "id": "fe7e40c2",
   "metadata": {},
   "source": [
    "### check one sequence"
   ]
  },
  {
   "cell_type": "markdown",
   "id": "90b978d6",
   "metadata": {},
   "source": [
    "### align ucsc v. our seq"
   ]
  },
  {
   "cell_type": "code",
   "execution_count": 50,
   "id": "7f6d88a1",
   "metadata": {
    "ExecuteTime": {
     "end_time": "2023-06-05T19:04:32.741436Z",
     "start_time": "2023-06-05T19:04:32.736287Z"
    }
   },
   "outputs": [],
   "source": [
    "# ids we tested\n",
    "\n",
    "IDS = {\n",
    "    \"K562_peak10458\":\"CCCAGATCAATAAACTTGCTCATCTGCTCTTATGGCCCCCACCCAGTAACTGACTCAGTGCAAGAAGACAGCTGACTCACGGCCATTTCATCTCTGACCAATCAGCACCCTTGGCTCACTGGCTTACCGATTTCATCTCTGACCAATCAGCACTCCTGGCTCACTGGCTTACCAATTTCATCTCTGACCAATCAGCACTC\",\n",
    "    \"K562_peak49867\":\"GCGGGGGAGGTGAGATTGGAAGGATGCCAGGAATCTTGGGCCCAGCTGCTGCTTTATGACTTAGGGATATAACTGCTTCTGACTCATGCGTGCTTGGCTCTTTGTGATTATGTGCTGAGACACGTCAGCGGGAGGCTGCCCCGGAATGTCTCCCCATGCGAATCGAGGGTGGGGCCTCTGCTGAGTCACCTCTGGCTCCT\", \n",
    "    \"K562_peak26939\":\"AGCGCCCTGACAAAACAGGCCACTCGGCTCTACCAATCAGCAAGATGTGGGTGGGGCCAGATAAGAGAATAAAAGCAGGCTGCCCGAGCTTGCATTAGTAACTCGCTCGGGTCCCCTTCCGGATTGTGGAAACTTTGTTCTTTCGCTGTATGTAATAACTCTTGCTACTGTAGCTCGCTTTTTGGGTCTACGCTGCTTCT\"\n",
    "}\n",
    "\n",
    "# align our sequence to UCSC sequence\n",
    "\n",
    "for name, ucsc_seq in IDS.items():\n",
    "    \n",
    "\n",
    "    # check MPRA sequence\n",
    "    mpra_seq=ctrl.loc[ctrl[\"scaffold.id\"]==name, \"200bp_insert\"].iloc[0]\n",
    "    v=0\n",
    "\tfor i, j in zip(ucsc_seq, mpra_seq):\n",
    "\t    if i==j:  # if nucleotide aligns\n",
    "\t        continue\n",
    "\t    else:   # if nucleotide does not aligns\n",
    "\t        print(v, i, j)\n",
    "\t    v+=1  # count the index\n",
    "\t\n",
    "## all results returned were negative\n"
   ]
  },
  {
   "cell_type": "markdown",
   "id": "e84070b6",
   "metadata": {},
   "source": [
    "## counts of all the experimental categories"
   ]
  },
  {
   "cell_type": "code",
   "execution_count": 54,
   "id": "8694e2fc",
   "metadata": {
    "ExecuteTime": {
     "end_time": "2023-06-01T21:05:53.573640Z",
     "start_time": "2023-06-01T21:05:53.544654Z"
    }
   },
   "outputs": [
    {
     "data": {
      "text/plain": [
       "(exp.id\n",
       " concat-null                 325\n",
       " endog                       400\n",
       " endog-scramble             1200\n",
       " negative HepG2, Smith       169\n",
       " positive HepG2, Smith       181\n",
       " positive K562, Kellis        50\n",
       " single-null              107200\n",
       " Name: hg38.scaffold.coor, dtype: int64,\n",
       " 109525)"
      ]
     },
     "execution_count": 54,
     "metadata": {},
     "output_type": "execute_result"
    }
   ],
   "source": [
    "ctrl.groupby(\"exp.id\")[\"hg38.scaffold.coor\"].count(), ctrl.groupby(\"exp.id\")[\"hg38.scaffold.coor\"].count().sum()"
   ]
  },
  {
   "cell_type": "code",
   "execution_count": 60,
   "id": "8ea81cb3",
   "metadata": {
    "ExecuteTime": {
     "end_time": "2023-06-01T21:08:42.861912Z",
     "start_time": "2023-06-01T21:08:42.812968Z"
    }
   },
   "outputs": [],
   "source": [
    "frag, insert = ctrl.loc[(ctrl[\"scaffold.activity\"]==\"active\") \n",
    "         & (ctrl[\"exp.id\"]==\"single-null\"), \n",
    "         [\"seq_frag\", \"200bp_insert\"]].iloc[0]"
   ]
  },
  {
   "cell_type": "markdown",
   "id": "ea37e162",
   "metadata": {},
   "source": [
    "# GC content"
   ]
  },
  {
   "cell_type": "code",
   "execution_count": 65,
   "id": "e62c7141",
   "metadata": {
    "ExecuteTime": {
     "end_time": "2023-06-01T22:20:21.822037Z",
     "start_time": "2023-06-01T22:20:21.805012Z"
    }
   },
   "outputs": [
    {
     "data": {
      "text/plain": [
       "count    107925.000000\n",
       "mean          0.522703\n",
       "std           0.047965\n",
       "min           0.395000\n",
       "25%           0.490000\n",
       "50%           0.525000\n",
       "75%           0.565000\n",
       "max           0.615000\n",
       "Name: gc_frac, dtype: float64"
      ]
     },
     "execution_count": 65,
     "metadata": {},
     "output_type": "execute_result"
    }
   ],
   "source": [
    "df[\"gc_frac\"].describe()"
   ]
  },
  {
   "cell_type": "code",
   "execution_count": 66,
   "id": "b95ea43d",
   "metadata": {
    "ExecuteTime": {
     "end_time": "2023-06-01T22:20:27.577255Z",
     "start_time": "2023-06-01T22:20:22.316171Z"
    }
   },
   "outputs": [],
   "source": [
    "import seaborn as sns"
   ]
  },
  {
   "cell_type": "code",
   "execution_count": 67,
   "id": "3435b718",
   "metadata": {
    "ExecuteTime": {
     "end_time": "2023-06-01T22:20:38.441198Z",
     "start_time": "2023-06-01T22:20:38.424047Z"
    }
   },
   "outputs": [
    {
     "data": {
      "text/plain": [
       "{'concat-null', 'endog', 'single-null'}"
      ]
     },
     "execution_count": 67,
     "metadata": {},
     "output_type": "execute_result"
    }
   ],
   "source": [
    "set(df[\"exp.id\"])"
   ]
  },
  {
   "cell_type": "code",
   "execution_count": 68,
   "id": "6d3992be",
   "metadata": {
    "ExecuteTime": {
     "end_time": "2023-06-01T22:20:39.424104Z",
     "start_time": "2023-06-01T22:20:38.880602Z"
    }
   },
   "outputs": [
    {
     "data": {
      "text/plain": [
       "<Axes: xlabel='gc_frac', ylabel='Count'>"
      ]
     },
     "execution_count": 68,
     "metadata": {},
     "output_type": "execute_result"
    },
    {
     "data": {
      "image/png": "[encoded data removed]",
      "text/plain": [
       "<Figure size 640x480 with 1 Axes>"
      ]
     },
     "metadata": {},
     "output_type": "display_data"
    }
   ],
   "source": [
    "sns.histplot(df[\"gc_frac\"])"
   ]
  },
  {
   "cell_type": "code",
   "execution_count": 69,
   "id": "af2fbb8d",
   "metadata": {
    "ExecuteTime": {
     "end_time": "2023-06-01T22:20:40.028026Z",
     "start_time": "2023-06-01T22:20:40.004933Z"
    }
   },
   "outputs": [
    {
     "data": {
      "text/html": [
       "<div>\n",
       "<style scoped>\n",
       "    .dataframe tbody tr th:only-of-type {\n",
       "        vertical-align: middle;\n",
       "    }\n",
       "\n",
       "    .dataframe tbody tr th {\n",
       "        vertical-align: top;\n",
       "    }\n",
       "\n",
       "    .dataframe thead th {\n",
       "        text-align: right;\n",
       "    }\n",
       "</style>\n",
       "<table border=\"1\" class=\"dataframe\">\n",
       "  <thead>\n",
       "    <tr style=\"text-align: right;\">\n",
       "      <th></th>\n",
       "      <th>null_id+scaffold_id</th>\n",
       "      <th>null.id</th>\n",
       "      <th>scaffold.id</th>\n",
       "      <th>hg38.scaffold.coor</th>\n",
       "      <th>hg38.str</th>\n",
       "      <th>scaffold.activity</th>\n",
       "      <th>seq_frag</th>\n",
       "      <th>200bp_insert</th>\n",
       "      <th>200bp_insert+adaptors</th>\n",
       "      <th>gc_frac</th>\n",
       "    </tr>\n",
       "    <tr>\n",
       "      <th>exp.id</th>\n",
       "      <th></th>\n",
       "      <th></th>\n",
       "      <th></th>\n",
       "      <th></th>\n",
       "      <th></th>\n",
       "      <th></th>\n",
       "      <th></th>\n",
       "      <th></th>\n",
       "      <th></th>\n",
       "      <th></th>\n",
       "    </tr>\n",
       "  </thead>\n",
       "  <tbody>\n",
       "    <tr>\n",
       "      <th>single-null</th>\n",
       "      <td>1830</td>\n",
       "      <td>1830</td>\n",
       "      <td>1830</td>\n",
       "      <td>1830</td>\n",
       "      <td>1830</td>\n",
       "      <td>1830</td>\n",
       "      <td>1830</td>\n",
       "      <td>1830</td>\n",
       "      <td>1830</td>\n",
       "      <td>1830</td>\n",
       "    </tr>\n",
       "  </tbody>\n",
       "</table>\n",
       "</div>"
      ],
      "text/plain": [
       "             null_id+scaffold_id  null.id  scaffold.id  hg38.scaffold.coor  \\\n",
       "exp.id                                                                       \n",
       "single-null                 1830     1830         1830                1830   \n",
       "\n",
       "             hg38.str  scaffold.activity  seq_frag  200bp_insert  \\\n",
       "exp.id                                                             \n",
       "single-null      1830               1830      1830          1830   \n",
       "\n",
       "             200bp_insert+adaptors  gc_frac  \n",
       "exp.id                                       \n",
       "single-null                   1830     1830  "
      ]
     },
     "execution_count": 69,
     "metadata": {},
     "output_type": "execute_result"
    }
   ],
   "source": [
    "hi_gc = df.loc[df[\"gc_frac\"]>0.60]\n",
    "hi_gc.groupby(\"exp.id\").count()"
   ]
  }
 ],
 "metadata": {
  "gist": {
   "data": {
    "description": "nullomers/bin-lock/design_scaffold/4_library-insert-n-make-controls.ipynb",
    "public": false
   },
   "id": ""
  },
  "kernelspec": {
   "display_name": "Python (mamba)”\n",
   "language": "python",
   "name": "mamba"
  },
  "language_info": {
   "codemirror_mode": {
    "name": "ipython",
    "version": 3
   },
   "file_extension": ".py",
   "mimetype": "text/x-python",
   "name": "python",
   "nbconvert_exporter": "python",
   "pygments_lexer": "ipython3",
   "version": "3.10.8"
  },
  "toc": {
   "base_numbering": 1,
   "nav_menu": {},
   "number_sections": true,
   "sideBar": true,
   "skip_h1_title": false,
   "title_cell": "Table of Contents",
   "title_sidebar": "Contents",
   "toc_cell": false,
   "toc_position": {},
   "toc_section_display": true,
   "toc_window_display": false
  },
  "varInspector": {
   "cols": {
    "lenName": 16,
    "lenType": 16,
    "lenVar": 40
   },
   "kernels_config": {
    "python": {
     "delete_cmd_postfix": "",
     "delete_cmd_prefix": "del ",
     "library": "var_list.py",
     "varRefreshCmd": "print(var_dic_list())"
    },
    "r": {
     "delete_cmd_postfix": ") ",
     "delete_cmd_prefix": "rm(",
     "library": "var_list.r",
     "varRefreshCmd": "cat(var_dic_list()) "
    }
   },
   "types_to_exclude": [
    "module",
    "function",
    "builtin_function_or_method",
    "instance",
    "_Feature"
   ],
   "window_display": false
  }
 },
 "nbformat": 4,
 "nbformat_minor": 5
}
