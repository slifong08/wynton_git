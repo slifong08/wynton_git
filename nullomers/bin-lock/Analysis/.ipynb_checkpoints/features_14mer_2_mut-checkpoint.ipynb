{
 "cells": [
  {
   "cell_type": "code",
   "execution_count": 3,
   "id": "958b7ea5",
   "metadata": {
    "ExecuteTime": {
     "end_time": "2023-04-12T21:26:27.650038Z",
     "start_time": "2023-04-12T21:26:27.635974Z"
    }
   },
   "outputs": [
    {
     "data": {
      "text/plain": [
       "('sans-serif', 'Arial', 18)"
      ]
     },
     "execution_count": 3,
     "metadata": {},
     "output_type": "execute_result"
    }
   ],
   "source": [
    "import os, sys\n",
    "import pandas as pd\n",
    "import config_readwrite as crw\n",
    "import matplotlib.pyplot as plt\n",
    "import seaborn as sns\n",
    "import plot_params as pp\n",
    "pp.fonts()"
   ]
  },
  {
   "cell_type": "code",
   "execution_count": 5,
   "id": "8fcdec36",
   "metadata": {
    "ExecuteTime": {
     "end_time": "2023-04-12T21:27:09.883926Z",
     "start_time": "2023-04-12T21:27:09.846928Z"
    }
   },
   "outputs": [],
   "source": [
    "config, cfn = crw.read(os.path.join(os.path.dirname(os.getcwd()), \"config.ini\"))\n",
    "\n",
    "tsv = config[\"common.14mer.2mut\"]['tsv_fo-true']"
   ]
  },
  {
   "cell_type": "markdown",
   "id": "a59c8d8e",
   "metadata": {},
   "source": [
    "# read the data frame"
   ]
  },
  {
   "cell_type": "code",
   "execution_count": 21,
   "id": "b6ad463b",
   "metadata": {
    "ExecuteTime": {
     "end_time": "2023-04-12T21:33:37.528911Z",
     "start_time": "2023-04-12T21:33:37.478258Z"
    }
   },
   "outputs": [
    {
     "data": {
      "text/html": [
       "<div>\n",
       "<style scoped>\n",
       "    .dataframe tbody tr th:only-of-type {\n",
       "        vertical-align: middle;\n",
       "    }\n",
       "\n",
       "    .dataframe tbody tr th {\n",
       "        vertical-align: top;\n",
       "    }\n",
       "\n",
       "    .dataframe thead th {\n",
       "        text-align: right;\n",
       "    }\n",
       "</style>\n",
       "<table border=\"1\" class=\"dataframe\">\n",
       "  <thead>\n",
       "    <tr style=\"text-align: right;\">\n",
       "      <th></th>\n",
       "      <th>kmer</th>\n",
       "      <th>nKmer</th>\n",
       "      <th>gc_kmer</th>\n",
       "      <th>firstorder_nullomer</th>\n",
       "      <th>nfirstorder</th>\n",
       "      <th>gc_firstorder</th>\n",
       "      <th>prettify</th>\n",
       "    </tr>\n",
       "  </thead>\n",
       "  <tbody>\n",
       "    <tr>\n",
       "      <th>0</th>\n",
       "      <td>CTTGGCGTAGTCCG</td>\n",
       "      <td>2</td>\n",
       "      <td>0.64</td>\n",
       "      <td>CGTAGCGTAGTCCG</td>\n",
       "      <td>1</td>\n",
       "      <td>0.64</td>\n",
       "      <td>.G.A..........</td>\n",
       "    </tr>\n",
       "    <tr>\n",
       "      <th>1</th>\n",
       "      <td>CTTGGCGAATATAG</td>\n",
       "      <td>2</td>\n",
       "      <td>0.43</td>\n",
       "      <td>CGTCGCGAATATAG</td>\n",
       "      <td>1</td>\n",
       "      <td>0.5</td>\n",
       "      <td>.G.C..........</td>\n",
       "    </tr>\n",
       "    <tr>\n",
       "      <th>2</th>\n",
       "      <td>AAATTGCGCGTAAC</td>\n",
       "      <td>4</td>\n",
       "      <td>0.43</td>\n",
       "      <td>GAATCGCGCGTAAC</td>\n",
       "      <td>1</td>\n",
       "      <td>0.57</td>\n",
       "      <td>G...C.........</td>\n",
       "    </tr>\n",
       "    <tr>\n",
       "      <th>3</th>\n",
       "      <td>TTGGGCGCCGCAAT</td>\n",
       "      <td>2</td>\n",
       "      <td>0.64</td>\n",
       "      <td>TTGCGCGCCGTAAT</td>\n",
       "      <td>1</td>\n",
       "      <td>0.57</td>\n",
       "      <td>...C......T...</td>\n",
       "    </tr>\n",
       "    <tr>\n",
       "      <th>4</th>\n",
       "      <td>TTGGGTTCGGCGAC</td>\n",
       "      <td>2</td>\n",
       "      <td>0.64</td>\n",
       "      <td>ATGCGTTCGGCGAC</td>\n",
       "      <td>1</td>\n",
       "      <td>0.64</td>\n",
       "      <td>A..C..........</td>\n",
       "    </tr>\n",
       "  </tbody>\n",
       "</table>\n",
       "</div>"
      ],
      "text/plain": [
       "             kmer  nKmer  gc_kmer firstorder_nullomer  nfirstorder  \\\n",
       "0  CTTGGCGTAGTCCG      2     0.64      CGTAGCGTAGTCCG            1   \n",
       "1  CTTGGCGAATATAG      2     0.43      CGTCGCGAATATAG            1   \n",
       "2  AAATTGCGCGTAAC      4     0.43      GAATCGCGCGTAAC            1   \n",
       "3  TTGGGCGCCGCAAT      2     0.64      TTGCGCGCCGTAAT            1   \n",
       "4  TTGGGTTCGGCGAC      2     0.64      ATGCGTTCGGCGAC            1   \n",
       "\n",
       "  gc_firstorder        prettify  \n",
       "0          0.64  .G.A..........  \n",
       "1           0.5  .G.C..........  \n",
       "2          0.57  G...C.........  \n",
       "3          0.57  ...C......T...  \n",
       "4          0.64  A..C..........  "
      ]
     },
     "execution_count": 21,
     "metadata": {},
     "output_type": "execute_result"
    }
   ],
   "source": [
    "df = pd.read_csv(tsv, sep = '\\t', header=None, names = ['kmer', 'nKmer', \"gc_kmer\", \n",
    "                                                   \"firstorder_nullomer\", \"nfirstorder\",\n",
    "                                                  \"gc_firstorder\",  \"prettify\"])\n",
    "\n",
    "df.head()"
   ]
  },
  {
   "cell_type": "code",
   "execution_count": 22,
   "id": "34491a78",
   "metadata": {
    "ExecuteTime": {
     "end_time": "2023-04-12T21:33:39.771041Z",
     "start_time": "2023-04-12T21:33:39.753596Z"
    }
   },
   "outputs": [
    {
     "data": {
      "text/html": [
       "<div>\n",
       "<style scoped>\n",
       "    .dataframe tbody tr th:only-of-type {\n",
       "        vertical-align: middle;\n",
       "    }\n",
       "\n",
       "    .dataframe tbody tr th {\n",
       "        vertical-align: top;\n",
       "    }\n",
       "\n",
       "    .dataframe thead th {\n",
       "        text-align: right;\n",
       "    }\n",
       "</style>\n",
       "<table border=\"1\" class=\"dataframe\">\n",
       "  <thead>\n",
       "    <tr style=\"text-align: right;\">\n",
       "      <th></th>\n",
       "      <th>kmer</th>\n",
       "      <th>nKmer</th>\n",
       "      <th>gc_kmer</th>\n",
       "      <th>firstorder_nullomer</th>\n",
       "      <th>nfirstorder</th>\n",
       "      <th>gc_firstorder</th>\n",
       "      <th>prettify</th>\n",
       "    </tr>\n",
       "  </thead>\n",
       "  <tbody>\n",
       "    <tr>\n",
       "      <th>0</th>\n",
       "      <td>CTTGGCGTAGTCCG</td>\n",
       "      <td>2</td>\n",
       "      <td>0.64</td>\n",
       "      <td>CGTAGCGTAGTCCG</td>\n",
       "      <td>1</td>\n",
       "      <td>0.64</td>\n",
       "      <td>.G.A..........</td>\n",
       "    </tr>\n",
       "    <tr>\n",
       "      <th>1</th>\n",
       "      <td>CTTGGCGAATATAG</td>\n",
       "      <td>2</td>\n",
       "      <td>0.43</td>\n",
       "      <td>CGTCGCGAATATAG</td>\n",
       "      <td>1</td>\n",
       "      <td>0.5</td>\n",
       "      <td>.G.C..........</td>\n",
       "    </tr>\n",
       "    <tr>\n",
       "      <th>2</th>\n",
       "      <td>AAATTGCGCGTAAC</td>\n",
       "      <td>4</td>\n",
       "      <td>0.43</td>\n",
       "      <td>GAATCGCGCGTAAC</td>\n",
       "      <td>1</td>\n",
       "      <td>0.57</td>\n",
       "      <td>G...C.........</td>\n",
       "    </tr>\n",
       "    <tr>\n",
       "      <th>3</th>\n",
       "      <td>TTGGGCGCCGCAAT</td>\n",
       "      <td>2</td>\n",
       "      <td>0.64</td>\n",
       "      <td>TTGCGCGCCGTAAT</td>\n",
       "      <td>1</td>\n",
       "      <td>0.57</td>\n",
       "      <td>...C......T...</td>\n",
       "    </tr>\n",
       "    <tr>\n",
       "      <th>4</th>\n",
       "      <td>TTGGGTTCGGCGAC</td>\n",
       "      <td>2</td>\n",
       "      <td>0.64</td>\n",
       "      <td>ATGCGTTCGGCGAC</td>\n",
       "      <td>1</td>\n",
       "      <td>0.64</td>\n",
       "      <td>A..C..........</td>\n",
       "    </tr>\n",
       "  </tbody>\n",
       "</table>\n",
       "</div>"
      ],
      "text/plain": [
       "             kmer  nKmer  gc_kmer firstorder_nullomer  nfirstorder  \\\n",
       "0  CTTGGCGTAGTCCG      2     0.64      CGTAGCGTAGTCCG            1   \n",
       "1  CTTGGCGAATATAG      2     0.43      CGTCGCGAATATAG            1   \n",
       "2  AAATTGCGCGTAAC      4     0.43      GAATCGCGCGTAAC            1   \n",
       "3  TTGGGCGCCGCAAT      2     0.64      TTGCGCGCCGTAAT            1   \n",
       "4  TTGGGTTCGGCGAC      2     0.64      ATGCGTTCGGCGAC            1   \n",
       "\n",
       "  gc_firstorder        prettify  \n",
       "0          0.64  .G.A..........  \n",
       "1           0.5  .G.C..........  \n",
       "2          0.57  G...C.........  \n",
       "3          0.57  ...C......T...  \n",
       "4          0.64  A..C..........  "
      ]
     },
     "execution_count": 22,
     "metadata": {},
     "output_type": "execute_result"
    }
   ],
   "source": [
    "df = df.loc[~df[\"prettify\"].isna()]\n",
    "\n",
    "df.head()"
   ]
  },
  {
   "cell_type": "markdown",
   "id": "4f69f17d",
   "metadata": {},
   "source": [
    "## how many kmers are 2 bp away from first order nullomers? "
   ]
  },
  {
   "cell_type": "code",
   "execution_count": 38,
   "id": "56438a71",
   "metadata": {
    "ExecuteTime": {
     "end_time": "2023-04-12T21:41:54.680200Z",
     "start_time": "2023-04-12T21:41:54.670503Z"
    }
   },
   "outputs": [
    {
     "data": {
      "text/plain": [
       "10102"
      ]
     },
     "execution_count": 38,
     "metadata": {},
     "output_type": "execute_result"
    }
   ],
   "source": [
    "len(set(df[\"kmer\"]))"
   ]
  },
  {
   "cell_type": "markdown",
   "id": "51d63e6e",
   "metadata": {},
   "source": [
    "## how many first order nullomers resurface?"
   ]
  },
  {
   "cell_type": "code",
   "execution_count": 55,
   "id": "ee2cbf9f",
   "metadata": {
    "ExecuteTime": {
     "end_time": "2023-04-12T21:47:34.636294Z",
     "start_time": "2023-04-12T21:47:32.785237Z"
    }
   },
   "outputs": [
    {
     "data": {
      "text/plain": [
       "5665"
      ]
     },
     "execution_count": 55,
     "metadata": {},
     "output_type": "execute_result"
    }
   ],
   "source": [
    "null_set = set()\n",
    "for row in df.iterrows():\n",
    "    nulls = row[1][3].split(\",\")\n",
    "    for n in nulls:\n",
    "        null_set.add(n)\n",
    "\n",
    "len(null_set)"
   ]
  },
  {
   "cell_type": "markdown",
   "id": "57d8129a",
   "metadata": {},
   "source": [
    "## frequency of kmer in genome"
   ]
  },
  {
   "cell_type": "code",
   "execution_count": 17,
   "id": "01c8b8ce",
   "metadata": {
    "ExecuteTime": {
     "end_time": "2023-04-12T21:32:01.822632Z",
     "start_time": "2023-04-12T21:32:00.368036Z"
    }
   },
   "outputs": [
    {
     "data": {
      "text/plain": [
       "<Axes: xlabel='nKmer', ylabel='Count'>"
      ]
     },
     "execution_count": 17,
     "metadata": {},
     "output_type": "execute_result"
    },
    {
     "data": {
      "image/png": "[encoded data removed]",
      "text/plain": [
       "<Figure size 640x480 with 1 Axes>"
      ]
     },
     "metadata": {},
     "output_type": "display_data"
    }
   ],
   "source": [
    "sns.histplot(df[\"nKmer\"])"
   ]
  },
  {
   "cell_type": "markdown",
   "id": "b8b4462a",
   "metadata": {
    "ExecuteTime": {
     "end_time": "2023-04-12T21:32:29.930260Z",
     "start_time": "2023-04-12T21:32:26.255711Z"
    }
   },
   "source": [
    "# n nullomers per kmer"
   ]
  },
  {
   "cell_type": "code",
   "execution_count": 29,
   "id": "5ae41543",
   "metadata": {
    "ExecuteTime": {
     "end_time": "2023-04-12T21:37:29.603538Z",
     "start_time": "2023-04-12T21:37:29.592111Z"
    }
   },
   "outputs": [],
   "source": [
    "df['firstorder_count'] = df[\"firstorder_nullomer\"].apply(lambda x: len(set(x.split(\",\"))))"
   ]
  },
  {
   "cell_type": "markdown",
   "id": "80387925",
   "metadata": {},
   "source": [
    "## 9 elements have >6 nullomer matches"
   ]
  },
  {
   "cell_type": "code",
   "execution_count": 32,
   "id": "d4dfd067",
   "metadata": {
    "ExecuteTime": {
     "end_time": "2023-04-12T21:38:23.757129Z",
     "start_time": "2023-04-12T21:38:23.751477Z"
    }
   },
   "outputs": [
    {
     "data": {
      "text/plain": [
       "(9, 8)"
      ]
     },
     "execution_count": 32,
     "metadata": {},
     "output_type": "execute_result"
    }
   ],
   "source": [
    "df.loc[df[\"firstorder_count\"]>6].shape"
   ]
  },
  {
   "cell_type": "code",
   "execution_count": 33,
   "id": "30f10874",
   "metadata": {
    "ExecuteTime": {
     "end_time": "2023-04-12T21:38:50.458611Z",
     "start_time": "2023-04-12T21:38:50.441848Z"
    }
   },
   "outputs": [
    {
     "data": {
      "text/html": [
       "<div>\n",
       "<style scoped>\n",
       "    .dataframe tbody tr th:only-of-type {\n",
       "        vertical-align: middle;\n",
       "    }\n",
       "\n",
       "    .dataframe tbody tr th {\n",
       "        vertical-align: top;\n",
       "    }\n",
       "\n",
       "    .dataframe thead th {\n",
       "        text-align: right;\n",
       "    }\n",
       "</style>\n",
       "<table border=\"1\" class=\"dataframe\">\n",
       "  <thead>\n",
       "    <tr style=\"text-align: right;\">\n",
       "      <th></th>\n",
       "      <th>kmer</th>\n",
       "      <th>nKmer</th>\n",
       "      <th>gc_kmer</th>\n",
       "      <th>firstorder_nullomer</th>\n",
       "      <th>nfirstorder</th>\n",
       "      <th>gc_firstorder</th>\n",
       "      <th>prettify</th>\n",
       "      <th>firstorder_count</th>\n",
       "    </tr>\n",
       "  </thead>\n",
       "  <tbody>\n",
       "    <tr>\n",
       "      <th>1774</th>\n",
       "      <td>CCGCGTCGAGCGAC</td>\n",
       "      <td>2</td>\n",
       "      <td>0.79</td>\n",
       "      <td>CCGCGTCGTACGAC,TCGCGTCGAACGAC,GCGCGTCGAACGAC,T...</td>\n",
       "      <td>7</td>\n",
       "      <td>0.71,0.64,0.71,0.64,0.64,0.71,0.64</td>\n",
       "      <td>A........T....,........TA....,G........A....,T...</td>\n",
       "      <td>7</td>\n",
       "    </tr>\n",
       "    <tr>\n",
       "      <th>3644</th>\n",
       "      <td>CGTCGCGCGGTATG</td>\n",
       "      <td>2</td>\n",
       "      <td>0.71</td>\n",
       "      <td>CGTCGCGCGCTATA,CGTCGCGCGGAATT,CGTCGCGCGTTAAG,C...</td>\n",
       "      <td>9</td>\n",
       "      <td>0.64,0.64,0.64,0.71,0.57,0.71,0.57,0.71,0.64</td>\n",
       "      <td>.........T...A,A...........C.,AT............,....</td>\n",
       "      <td>9</td>\n",
       "    </tr>\n",
       "    <tr>\n",
       "      <th>3647</th>\n",
       "      <td>CGTCGCGCGTAGAT</td>\n",
       "      <td>2</td>\n",
       "      <td>0.64</td>\n",
       "      <td>CGTCGCGCGTATAA,CGTCGCGCGTATAG,CGGCGCGCGTATAT,C...</td>\n",
       "      <td>7</td>\n",
       "      <td>0.57,0.64,0.64,0.5,0.57,0.64,0.5</td>\n",
       "      <td>.......GT.....,..G........T..,...........T.G,....</td>\n",
       "      <td>7</td>\n",
       "    </tr>\n",
       "    <tr>\n",
       "      <th>3687</th>\n",
       "      <td>CGTCGTACGTCGTT</td>\n",
       "      <td>2</td>\n",
       "      <td>0.57</td>\n",
       "      <td>CGTCGTACGCCGAT,CGGCGTACGACGTT,CGTCGAACGTCGGT,C...</td>\n",
       "      <td>9</td>\n",
       "      <td>0.64,0.64,0.64,0.64,0.57,0.57,0.64,0.57,0.64</td>\n",
       "      <td>..G..........A,.........C..A.,.....A...G....,....</td>\n",
       "      <td>9</td>\n",
       "    </tr>\n",
       "    <tr>\n",
       "      <th>6664</th>\n",
       "      <td>CGATCGCGTAGCGA</td>\n",
       "      <td>2</td>\n",
       "      <td>0.64</td>\n",
       "      <td>CGAACGCGTATCGA,CGTTCGGGTAGCGA,CGATAGCGTACCGA,C...</td>\n",
       "      <td>8</td>\n",
       "      <td>0.57,0.64,0.57,0.64,0.64,0.64,0.57,0.64</td>\n",
       "      <td>..........A..C,..T.......A...,........A.C...,....</td>\n",
       "      <td>8</td>\n",
       "    </tr>\n",
       "    <tr>\n",
       "      <th>8597</th>\n",
       "      <td>CGACGCGCGTCGAA</td>\n",
       "      <td>2</td>\n",
       "      <td>0.71</td>\n",
       "      <td>CGACGTTCGTCGAA,CGACGTACGTCGAA,AGTCGCGCGTCGAA,C...</td>\n",
       "      <td>11</td>\n",
       "      <td>0.57,0.57,0.64,0.64,0.64,0.64,0.64,0.64,0.64,0...</td>\n",
       "      <td>.A..........T.,.....A......T.,..........GT..,....</td>\n",
       "      <td>11</td>\n",
       "    </tr>\n",
       "    <tr>\n",
       "      <th>8899</th>\n",
       "      <td>CGCGACGCATTACG</td>\n",
       "      <td>2</td>\n",
       "      <td>0.64</td>\n",
       "      <td>CGCGCCGTATTACG,CGCTACGCGTTACG,CGCGACGTGTTACG,C...</td>\n",
       "      <td>10</td>\n",
       "      <td>0.64,0.64,0.64,0.64,0.64,0.57,0.64,0.64,0.71,0.57</td>\n",
       "      <td>.......T..A...,....T..A......,.......T.C....,....</td>\n",
       "      <td>10</td>\n",
       "    </tr>\n",
       "    <tr>\n",
       "      <th>9088</th>\n",
       "      <td>CGCGTCGTATAGCG</td>\n",
       "      <td>2</td>\n",
       "      <td>0.64</td>\n",
       "      <td>CGGTTCGTATAGCG,CGCGTCGAATAACG,GCCGTCGTATAGCG,C...</td>\n",
       "      <td>11</td>\n",
       "      <td>0.57,0.57,0.64,0.64,0.64,0.64,0.64,0.57,0.64,0...</td>\n",
       "      <td>..TC..........,.......G...A..,GC............,....</td>\n",
       "      <td>11</td>\n",
       "    </tr>\n",
       "    <tr>\n",
       "      <th>9754</th>\n",
       "      <td>CGATAGGCGACGCG</td>\n",
       "      <td>2</td>\n",
       "      <td>0.71</td>\n",
       "      <td>CGATACGCTACGCG,CGATACGCGATGCG,CGATACTCGACGCG,C...</td>\n",
       "      <td>9</td>\n",
       "      <td>0.64,0.64,0.64,0.64,0.71,0.64,0.64,0.57,0.64</td>\n",
       "      <td>.....C..T.....,......T.....A.,.....CT.......,....</td>\n",
       "      <td>9</td>\n",
       "    </tr>\n",
       "  </tbody>\n",
       "</table>\n",
       "</div>"
      ],
      "text/plain": [
       "                kmer  nKmer  gc_kmer  \\\n",
       "1774  CCGCGTCGAGCGAC      2     0.79   \n",
       "3644  CGTCGCGCGGTATG      2     0.71   \n",
       "3647  CGTCGCGCGTAGAT      2     0.64   \n",
       "3687  CGTCGTACGTCGTT      2     0.57   \n",
       "6664  CGATCGCGTAGCGA      2     0.64   \n",
       "8597  CGACGCGCGTCGAA      2     0.71   \n",
       "8899  CGCGACGCATTACG      2     0.64   \n",
       "9088  CGCGTCGTATAGCG      2     0.64   \n",
       "9754  CGATAGGCGACGCG      2     0.71   \n",
       "\n",
       "                                    firstorder_nullomer  nfirstorder  \\\n",
       "1774  CCGCGTCGTACGAC,TCGCGTCGAACGAC,GCGCGTCGAACGAC,T...            7   \n",
       "3644  CGTCGCGCGCTATA,CGTCGCGCGGAATT,CGTCGCGCGTTAAG,C...            9   \n",
       "3647  CGTCGCGCGTATAA,CGTCGCGCGTATAG,CGGCGCGCGTATAT,C...            7   \n",
       "3687  CGTCGTACGCCGAT,CGGCGTACGACGTT,CGTCGAACGTCGGT,C...            9   \n",
       "6664  CGAACGCGTATCGA,CGTTCGGGTAGCGA,CGATAGCGTACCGA,C...            8   \n",
       "8597  CGACGTTCGTCGAA,CGACGTACGTCGAA,AGTCGCGCGTCGAA,C...           11   \n",
       "8899  CGCGCCGTATTACG,CGCTACGCGTTACG,CGCGACGTGTTACG,C...           10   \n",
       "9088  CGGTTCGTATAGCG,CGCGTCGAATAACG,GCCGTCGTATAGCG,C...           11   \n",
       "9754  CGATACGCTACGCG,CGATACGCGATGCG,CGATACTCGACGCG,C...            9   \n",
       "\n",
       "                                          gc_firstorder  \\\n",
       "1774                 0.71,0.64,0.71,0.64,0.64,0.71,0.64   \n",
       "3644       0.64,0.64,0.64,0.71,0.57,0.71,0.57,0.71,0.64   \n",
       "3647                   0.57,0.64,0.64,0.5,0.57,0.64,0.5   \n",
       "3687       0.64,0.64,0.64,0.64,0.57,0.57,0.64,0.57,0.64   \n",
       "6664            0.57,0.64,0.57,0.64,0.64,0.64,0.57,0.64   \n",
       "8597  0.57,0.57,0.64,0.64,0.64,0.64,0.64,0.64,0.64,0...   \n",
       "8899  0.64,0.64,0.64,0.64,0.64,0.57,0.64,0.64,0.71,0.57   \n",
       "9088  0.57,0.57,0.64,0.64,0.64,0.64,0.64,0.57,0.64,0...   \n",
       "9754       0.64,0.64,0.64,0.64,0.71,0.64,0.64,0.57,0.64   \n",
       "\n",
       "                                               prettify  firstorder_count  \n",
       "1774  A........T....,........TA....,G........A....,T...                 7  \n",
       "3644  .........T...A,A...........C.,AT............,....                 9  \n",
       "3647  .......GT.....,..G........T..,...........T.G,....                 7  \n",
       "3687  ..G..........A,.........C..A.,.....A...G....,....                 9  \n",
       "6664  ..........A..C,..T.......A...,........A.C...,....                 8  \n",
       "8597  .A..........T.,.....A......T.,..........GT..,....                11  \n",
       "8899  .......T..A...,....T..A......,.......T.C....,....                10  \n",
       "9088  ..TC..........,.......G...A..,GC............,....                11  \n",
       "9754  .....C..T.....,......T.....A.,.....CT.......,....                 9  "
      ]
     },
     "execution_count": 33,
     "metadata": {},
     "output_type": "execute_result"
    }
   ],
   "source": [
    "df.loc[df[\"firstorder_count\"]>6]"
   ]
  },
  {
   "cell_type": "code",
   "execution_count": 37,
   "id": "6bf049f9",
   "metadata": {
    "ExecuteTime": {
     "end_time": "2023-04-12T21:40:24.950599Z",
     "start_time": "2023-04-12T21:40:24.152660Z"
    }
   },
   "outputs": [
    {
     "data": {
      "image/png": "[encoded data removed]",
      "text/plain": [
       "<Figure size 640x480 with 1 Axes>"
      ]
     },
     "metadata": {},
     "output_type": "display_data"
    },
    {
     "data": {
      "image/png": "[encoded data removed]",
      "text/plain": [
       "<Figure size 640x480 with 1 Axes>"
      ]
     },
     "metadata": {},
     "output_type": "display_data"
    },
    {
     "data": {
      "image/png": "[encoded data removed]",
      "text/plain": [
       "<Figure size 640x480 with 1 Axes>"
      ]
     },
     "metadata": {},
     "output_type": "display_data"
    }
   ],
   "source": [
    "xs = [\"firstorder_count\", \"nKmer\", \"gc_kmer\"]\n",
    "for x in xs:\n",
    "    fig, ax=plt.subplots()\n",
    "    sns.histplot(df[x])"
   ]
  },
  {
   "cell_type": "code",
   "execution_count": 56,
   "id": "7549dd3d",
   "metadata": {
    "ExecuteTime": {
     "end_time": "2023-04-12T21:47:59.803120Z",
     "start_time": "2023-04-12T21:47:59.740600Z"
    }
   },
   "outputs": [
    {
     "data": {
      "text/html": [
       "<div>\n",
       "<style scoped>\n",
       "    .dataframe tbody tr th:only-of-type {\n",
       "        vertical-align: middle;\n",
       "    }\n",
       "\n",
       "    .dataframe tbody tr th {\n",
       "        vertical-align: top;\n",
       "    }\n",
       "\n",
       "    .dataframe thead th {\n",
       "        text-align: right;\n",
       "    }\n",
       "</style>\n",
       "<table border=\"1\" class=\"dataframe\">\n",
       "  <thead>\n",
       "    <tr style=\"text-align: right;\">\n",
       "      <th></th>\n",
       "      <th>nKmer</th>\n",
       "      <th>gc_kmer</th>\n",
       "      <th>nfirstorder</th>\n",
       "      <th>firstorder_count</th>\n",
       "    </tr>\n",
       "  </thead>\n",
       "  <tbody>\n",
       "    <tr>\n",
       "      <th>count</th>\n",
       "      <td>10102.000000</td>\n",
       "      <td>10102.000000</td>\n",
       "      <td>10102.000000</td>\n",
       "      <td>10102.000000</td>\n",
       "    </tr>\n",
       "    <tr>\n",
       "      <th>mean</th>\n",
       "      <td>2.196397</td>\n",
       "      <td>0.615106</td>\n",
       "      <td>1.167294</td>\n",
       "      <td>1.167294</td>\n",
       "    </tr>\n",
       "    <tr>\n",
       "      <th>std</th>\n",
       "      <td>0.715447</td>\n",
       "      <td>0.107107</td>\n",
       "      <td>0.560495</td>\n",
       "      <td>0.560495</td>\n",
       "    </tr>\n",
       "    <tr>\n",
       "      <th>min</th>\n",
       "      <td>2.000000</td>\n",
       "      <td>0.290000</td>\n",
       "      <td>1.000000</td>\n",
       "      <td>1.000000</td>\n",
       "    </tr>\n",
       "    <tr>\n",
       "      <th>25%</th>\n",
       "      <td>2.000000</td>\n",
       "      <td>0.570000</td>\n",
       "      <td>1.000000</td>\n",
       "      <td>1.000000</td>\n",
       "    </tr>\n",
       "    <tr>\n",
       "      <th>50%</th>\n",
       "      <td>2.000000</td>\n",
       "      <td>0.640000</td>\n",
       "      <td>1.000000</td>\n",
       "      <td>1.000000</td>\n",
       "    </tr>\n",
       "    <tr>\n",
       "      <th>75%</th>\n",
       "      <td>2.000000</td>\n",
       "      <td>0.710000</td>\n",
       "      <td>1.000000</td>\n",
       "      <td>1.000000</td>\n",
       "    </tr>\n",
       "    <tr>\n",
       "      <th>max</th>\n",
       "      <td>18.000000</td>\n",
       "      <td>0.860000</td>\n",
       "      <td>11.000000</td>\n",
       "      <td>11.000000</td>\n",
       "    </tr>\n",
       "  </tbody>\n",
       "</table>\n",
       "</div>"
      ],
      "text/plain": [
       "              nKmer       gc_kmer   nfirstorder  firstorder_count\n",
       "count  10102.000000  10102.000000  10102.000000      10102.000000\n",
       "mean       2.196397      0.615106      1.167294          1.167294\n",
       "std        0.715447      0.107107      0.560495          0.560495\n",
       "min        2.000000      0.290000      1.000000          1.000000\n",
       "25%        2.000000      0.570000      1.000000          1.000000\n",
       "50%        2.000000      0.640000      1.000000          1.000000\n",
       "75%        2.000000      0.710000      1.000000          1.000000\n",
       "max       18.000000      0.860000     11.000000         11.000000"
      ]
     },
     "execution_count": 56,
     "metadata": {},
     "output_type": "execute_result"
    }
   ],
   "source": [
    "df.describe()"
   ]
  },
  {
   "cell_type": "code",
   "execution_count": null,
   "id": "09441819",
   "metadata": {},
   "outputs": [],
   "source": []
  }
 ],
 "metadata": {
  "kernelspec": {
   "display_name": "Python (wynenv)",
   "language": "python",
   "name": "wynenv"
  },
  "language_info": {
   "codemirror_mode": {
    "name": "ipython",
    "version": 3
   },
   "file_extension": ".py",
   "mimetype": "text/x-python",
   "name": "python",
   "nbconvert_exporter": "python",
   "pygments_lexer": "ipython3",
   "version": "3.10.8"
  },
  "toc": {
   "base_numbering": 1,
   "nav_menu": {},
   "number_sections": true,
   "sideBar": true,
   "skip_h1_title": false,
   "title_cell": "Table of Contents",
   "title_sidebar": "Contents",
   "toc_cell": false,
   "toc_position": {},
   "toc_section_display": true,
   "toc_window_display": false
  },
  "varInspector": {
   "cols": {
    "lenName": 16,
    "lenType": 16,
    "lenVar": 40
   },
   "kernels_config": {
    "python": {
     "delete_cmd_postfix": "",
     "delete_cmd_prefix": "del ",
     "library": "var_list.py",
     "varRefreshCmd": "print(var_dic_list())"
    },
    "r": {
     "delete_cmd_postfix": ") ",
     "delete_cmd_prefix": "rm(",
     "library": "var_list.r",
     "varRefreshCmd": "cat(var_dic_list()) "
    }
   },
   "types_to_exclude": [
    "module",
    "function",
    "builtin_function_or_method",
    "instance",
    "_Feature"
   ],
   "window_display": false
  }
 },
 "nbformat": 4,
 "nbformat_minor": 5
}
