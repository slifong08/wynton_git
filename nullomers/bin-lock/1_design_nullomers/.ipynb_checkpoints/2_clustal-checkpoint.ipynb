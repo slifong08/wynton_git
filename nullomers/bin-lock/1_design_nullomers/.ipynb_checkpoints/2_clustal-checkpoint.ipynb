{
 "cells": [
  {
   "cell_type": "code",
   "execution_count": 1,
   "id": "19a4f5eb",
   "metadata": {
    "ExecuteTime": {
     "end_time": "2023-05-30T23:23:59.213108Z",
     "start_time": "2023-05-30T23:23:59.201273Z"
    }
   },
   "outputs": [],
   "source": [
    "import config_readwrite as crw\n",
    "import os, sys\n",
    "import subprocess as sp\n",
    "\n",
    "NMER, MIN_HOMOPOLYMER_LEN = 15, 4"
   ]
  },
  {
   "cell_type": "code",
   "execution_count": 22,
   "id": "9335989c",
   "metadata": {
    "ExecuteTime": {
     "end_time": "2023-05-31T01:15:16.932784Z",
     "start_time": "2023-05-31T01:15:16.923083Z"
    }
   },
   "outputs": [],
   "source": [
    "config_tag = \"config\"\n",
    "config, cfn = crw.read_config(os.path.join(os.getcwd(), config_tag))\n",
    "\n",
    "section = \"seed\"\n",
    "SEED_morethan1bp_fa = config[section][f\"{NMER}mer_morethan1bprelated_fa\"]\n",
    "RANDOM = config[section][\"15mer_random268\"]\n",
    "PRUNED_FA = \"/wynton/home/ahituv/fongsl/nullomers/results/lock/clustalo/designed.15mer.4223/pruned_ids.fa\"\n",
    "RE = config[section][\"results\"]"
   ]
  },
  {
   "cell_type": "markdown",
   "id": "0e9bf6e2",
   "metadata": {},
   "source": [
    "# function for writing clustal command"
   ]
  },
  {
   "cell_type": "code",
   "execution_count": 17,
   "id": "70f9b262",
   "metadata": {
    "ExecuteTime": {
     "end_time": "2023-05-31T00:50:12.780934Z",
     "start_time": "2023-05-31T00:50:12.769599Z"
    }
   },
   "outputs": [],
   "source": [
    "def clustaloCmd(fa_in, dir_out):\n",
    "    \"\"\"\n",
    "    build clustalo command to run using ete3 build\n",
    "    \n",
    "    requires running command in command line w/ ete3 environment. \n",
    "    \"\"\"\n",
    "    \n",
    "    clustalo_cmd = [\"xvfb-run ete3 build\",\n",
    "                    \"-w standard_fasttree\",\n",
    "                    \"-a\",\n",
    "                    fa_in,\n",
    "                    \"-o\",\n",
    "                    dir_out\n",
    "                    ]\n",
    "    cmd = \" \".join(clustalo_cmd)\n",
    "\n",
    "    return cmd"
   ]
  },
  {
   "cell_type": "markdown",
   "id": "4a7ebc6e",
   "metadata": {},
   "source": [
    "## copy and paste command into command line w/ ete3 conda environment"
   ]
  },
  {
   "cell_type": "markdown",
   "id": "18399817",
   "metadata": {},
   "source": [
    "### 4223 sequences"
   ]
  },
  {
   "cell_type": "code",
   "execution_count": 18,
   "id": "35f850e7",
   "metadata": {
    "ExecuteTime": {
     "end_time": "2023-05-31T00:50:13.488898Z",
     "start_time": "2023-05-31T00:50:13.480935Z"
    }
   },
   "outputs": [
    {
     "data": {
      "text/plain": [
       "'xvfb-run ete3 build -w standard_fasttree -a /wynton/home/ahituv/fongsl/dna/hs1/kmers/15mers/SEED_15mer.firstorder.pam.purine.nohomopoly.GC.morethan.1bp_related.fa -o /wynton/home/ahituv/fongsl/nullomers/results/lock/clustalo/designed.15mer.4223'"
      ]
     },
     "execution_count": 18,
     "metadata": {},
     "output_type": "execute_result"
    }
   ],
   "source": [
    "fa_in = SEED_morethan1bp_fa\n",
    "dir_out = os.path.join(RE, \"designed.15mer.4223\")\n",
    "clustaloCmd(fa_in, dir_out)"
   ]
  },
  {
   "cell_type": "markdown",
   "id": "dd1d92e6",
   "metadata": {},
   "source": [
    "### 268 pruned sequences"
   ]
  },
  {
   "cell_type": "code",
   "execution_count": 23,
   "id": "24cfde67",
   "metadata": {
    "ExecuteTime": {
     "end_time": "2023-05-31T01:15:44.675761Z",
     "start_time": "2023-05-31T01:15:44.665677Z"
    }
   },
   "outputs": [
    {
     "data": {
      "text/plain": [
       "'xvfb-run ete3 build -w standard_fasttree -a /wynton/home/ahituv/fongsl/nullomers/results/lock/clustalo/designed.15mer.4223/pruned_ids.fa -o /wynton/home/ahituv/fongsl/nullomers/results/lock/clustalo/designed.15mer.268pruned'"
      ]
     },
     "execution_count": 23,
     "metadata": {},
     "output_type": "execute_result"
    }
   ],
   "source": [
    "fa_in = PRUNED_FA\n",
    "dir_out = os.path.join(RE, \"designed.15mer.268pruned\")\n",
    "clustaloCmd(fa_in, dir_out)"
   ]
  },
  {
   "cell_type": "markdown",
   "id": "b58dae5a",
   "metadata": {},
   "source": [
    "### 268 random nullomer sequences w/ pam"
   ]
  },
  {
   "cell_type": "code",
   "execution_count": 21,
   "id": "1c142164",
   "metadata": {
    "ExecuteTime": {
     "end_time": "2023-05-31T00:50:37.637661Z",
     "start_time": "2023-05-31T00:50:37.629276Z"
    }
   },
   "outputs": [
    {
     "data": {
      "text/plain": [
       "'xvfb-run ete3 build -w standard_fasttree -a /wynton/home/ahituv/fongsl/nullomers/results/lock/clustalo/random.268.fa -o /wynton/home/ahituv/fongsl/nullomers/results/lock/clustalo/designed.15mer.random268'"
      ]
     },
     "execution_count": 21,
     "metadata": {},
     "output_type": "execute_result"
    }
   ],
   "source": [
    "fa_in = RANDOM\n",
    "dir_out = os.path.join(RE, \"designed.15mer.random268\")\n",
    "clustaloCmd(fa_in, dir_out)"
   ]
  },
  {
   "cell_type": "code",
   "execution_count": null,
   "id": "33875c8f",
   "metadata": {},
   "outputs": [],
   "source": []
  }
 ],
 "metadata": {
  "_draft": {
   "nbviewer_url": "https://gist.github.com/slifong08/6b691a4c0c2ca24d9a5ab794d5ee60b5"
  },
  "gist": {
   "data": {
    "description": "nullomers/bin-lock/1_design_nullomers/2_clustal.ipynb",
    "public": false
   },
   "id": "6b691a4c0c2ca24d9a5ab794d5ee60b5"
  },
  "kernelspec": {
   "display_name": "Python (ete3)”\n\n",
   "language": "python",
   "name": "ete3"
  },
  "language_info": {
   "codemirror_mode": {
    "name": "ipython",
    "version": 3
   },
   "file_extension": ".py",
   "mimetype": "text/x-python",
   "name": "python",
   "nbconvert_exporter": "python",
   "pygments_lexer": "ipython3",
   "version": "3.9.12"
  },
  "toc": {
   "base_numbering": 1,
   "nav_menu": {},
   "number_sections": true,
   "sideBar": true,
   "skip_h1_title": false,
   "title_cell": "Table of Contents",
   "title_sidebar": "Contents",
   "toc_cell": false,
   "toc_position": {},
   "toc_section_display": true,
   "toc_window_display": false
  },
  "varInspector": {
   "cols": {
    "lenName": 16,
    "lenType": 16,
    "lenVar": 40
   },
   "kernels_config": {
    "python": {
     "delete_cmd_postfix": "",
     "delete_cmd_prefix": "del ",
     "library": "var_list.py",
     "varRefreshCmd": "print(var_dic_list())"
    },
    "r": {
     "delete_cmd_postfix": ") ",
     "delete_cmd_prefix": "rm(",
     "library": "var_list.r",
     "varRefreshCmd": "cat(var_dic_list()) "
    }
   },
   "types_to_exclude": [
    "module",
    "function",
    "builtin_function_or_method",
    "instance",
    "_Feature"
   ],
   "window_display": false
  }
 },
 "nbformat": 4,
 "nbformat_minor": 5
}
