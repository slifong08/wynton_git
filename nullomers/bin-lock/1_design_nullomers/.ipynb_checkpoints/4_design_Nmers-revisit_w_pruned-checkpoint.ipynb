{
 "cells": [
  {
   "cell_type": "code",
   "execution_count": 79,
   "id": "421b2457",
   "metadata": {
    "ExecuteTime": {
     "end_time": "2023-05-31T01:26:13.718450Z",
     "start_time": "2023-05-31T01:26:11.201066Z"
    }
   },
   "outputs": [],
   "source": [
    "import subprocess as sp\n",
    "from Bio.Align import PairwiseAligner\n",
    "from Bio.SeqIO.FastaIO import SimpleFastaParser\n",
    "from Bio.SeqUtils import gc_fraction\n",
    "import config_readwrite as crw\n",
    "from collections import Counter\n",
    "import gzip\n",
    "from itertools import product, combinations\n",
    "\n",
    "import numpy as np\n",
    "import pandas as pd\n",
    "import os\n",
    "import sys\n",
    "import matplotlib.pyplot as plt\n",
    "import seaborn as sns\n",
    "import plot_params as pp\n",
    "pp.fonts()\n",
    "\n",
    "\n",
    "NMER, MIN_HOMOPOLYMER_LEN = 15, 4"
   ]
  },
  {
   "cell_type": "markdown",
   "id": "db066509",
   "metadata": {},
   "source": [
    "# config"
   ]
  },
  {
   "cell_type": "markdown",
   "id": "cf45d4a6",
   "metadata": {},
   "source": [
    "    PAM = \"NGG\"\n",
    "    A|G in pos 19 or 20 (position 11,12 of nullomer)\n",
    "    no homoploymer\n",
    "    gc content between 40-60%\n"
   ]
  },
  {
   "cell_type": "code",
   "execution_count": 20,
   "id": "2be1f036",
   "metadata": {
    "ExecuteTime": {
     "end_time": "2023-05-31T00:44:39.938462Z",
     "start_time": "2023-05-31T00:44:39.925747Z"
    }
   },
   "outputs": [],
   "source": [
    "config_tag = \"config\"\n",
    "config, cfn = crw.read_config(os.path.join(os.getcwd(), config_tag))\n",
    "\n",
    "SEED_TSV = config[\"seed\"][f\"{NMER}mer_tsv\"]\n",
    "\n",
    "PRUNED_IDS = config[section][\"pruned_ids\"]\n",
    "\n",
    "RE = config[f\"seed\"][\"results\"]\n",
    "SEED_RANDOM = os.path.join(RE, 'random.268.fa')\n",
    "\n",
    "# write in 1_design_Nmers\n",
    "PRUNED_TSV = \"/wynton/home/ahituv/fongsl/nullomers/results/lock/clustalo/designed.15mer.4223/pruned_ids.tsv\"\n",
    "# write in 1_design_Nmers\n",
    "PRUNED_FA = \"/wynton/home/ahituv/fongsl/nullomers/results/lock/clustalo/designed.15mer.4223/pruned_ids.fa\"\n",
    "\n",
    "config[section][\"pruned_tsv\"] = PRUNED_TSV\n",
    "config[section][\"pruned_fa\"] = PRUNED_FA\n",
    "crw.write(config, cfn)"
   ]
  },
  {
   "cell_type": "markdown",
   "id": "b39948ad",
   "metadata": {},
   "source": [
    "# functions"
   ]
  },
  {
   "cell_type": "code",
   "execution_count": 63,
   "id": "e23bc33f",
   "metadata": {
    "ExecuteTime": {
     "end_time": "2023-05-31T01:22:27.251937Z",
     "start_time": "2023-05-31T01:22:27.246819Z"
    }
   },
   "outputs": [],
   "source": [
    "def PairwiseAlign(seq1, seq2):\n",
    "\n",
    "    aligner = PairwiseAligner()\n",
    "\n",
    "    # [:-3] ignores the pam site\n",
    "    alignment = aligner.align(seq1[:-3], seq2[:-3])\n",
    "\n",
    "    return alignment.score\n",
    "\n",
    "# save results\n",
    "\n",
    "\n",
    "def writeTsvFa(df, out_tsv, out_fa):\n",
    "    print(df.shape)\n",
    "    # rename columns\n",
    "    if \"seq\" not in df.columns:\n",
    "        df.columns = [\"idx\", \"id\", \"seq\"]\n",
    "\n",
    "    # sort by seq\n",
    "    df = df.sort_values(by=\"seq\")\n",
    "\n",
    "    # save id, seq to tsv\n",
    "    df[[\"id\", \"seq\"]].to_csv(out_tsv, sep='\\t', index=False)\n",
    "\n",
    "    # make dictionary of candidates\n",
    "    sorted_candidates = dict(zip(df[\"id\"], df['seq']))\n",
    "\n",
    "    # write dictionary to fa\n",
    "    writeDictToFa(sorted_candidates, out_fa)"
   ]
  },
  {
   "cell_type": "markdown",
   "id": "bedc9aad",
   "metadata": {},
   "source": [
    "# main"
   ]
  },
  {
   "cell_type": "code",
   "execution_count": 23,
   "id": "1a5c06fc",
   "metadata": {
    "ExecuteTime": {
     "end_time": "2023-05-31T00:45:54.250668Z",
     "start_time": "2023-05-31T00:45:54.235502Z"
    }
   },
   "outputs": [
    {
     "data": {
      "text/html": [
       "<div>\n",
       "<style scoped>\n",
       "    .dataframe tbody tr th:only-of-type {\n",
       "        vertical-align: middle;\n",
       "    }\n",
       "\n",
       "    .dataframe tbody tr th {\n",
       "        vertical-align: top;\n",
       "    }\n",
       "\n",
       "    .dataframe thead th {\n",
       "        text-align: right;\n",
       "    }\n",
       "</style>\n",
       "<table border=\"1\" class=\"dataframe\">\n",
       "  <thead>\n",
       "    <tr style=\"text-align: right;\">\n",
       "      <th></th>\n",
       "      <th>id</th>\n",
       "      <th>seq</th>\n",
       "    </tr>\n",
       "  </thead>\n",
       "  <tbody>\n",
       "    <tr>\n",
       "      <th>0</th>\n",
       "      <td>15-firstorder.2100</td>\n",
       "      <td>AAACAACGATCGCGG</td>\n",
       "    </tr>\n",
       "    <tr>\n",
       "      <th>1</th>\n",
       "      <td>15-firstorder.3154</td>\n",
       "      <td>AAACATCGGTCGCGG</td>\n",
       "    </tr>\n",
       "    <tr>\n",
       "      <th>2</th>\n",
       "      <td>15-firstorder.1087</td>\n",
       "      <td>AAACATCGTACGCGG</td>\n",
       "    </tr>\n",
       "    <tr>\n",
       "      <th>3</th>\n",
       "      <td>15-firstorder.2992</td>\n",
       "      <td>AAACCATACGCGCGG</td>\n",
       "    </tr>\n",
       "    <tr>\n",
       "      <th>4</th>\n",
       "      <td>15-firstorder.3439</td>\n",
       "      <td>AAACCCGACGTACGG</td>\n",
       "    </tr>\n",
       "  </tbody>\n",
       "</table>\n",
       "</div>"
      ],
      "text/plain": [
       "                   id              seq\n",
       "0  15-firstorder.2100  AAACAACGATCGCGG\n",
       "1  15-firstorder.3154  AAACATCGGTCGCGG\n",
       "2  15-firstorder.1087  AAACATCGTACGCGG\n",
       "3  15-firstorder.2992  AAACCATACGCGCGG\n",
       "4  15-firstorder.3439  AAACCCGACGTACGG"
      ]
     },
     "execution_count": 23,
     "metadata": {},
     "output_type": "execute_result"
    }
   ],
   "source": [
    "df = pd.read_csv(SEED_TSV, sep='\\t')\n",
    "df = df[[\"id\", \"seq\"]]\n",
    "df.head()"
   ]
  },
  {
   "cell_type": "markdown",
   "id": "e890c6bd",
   "metadata": {},
   "source": [
    "# randomly sample 268 and make clustalo tree "
   ]
  },
  {
   "cell_type": "code",
   "execution_count": 24,
   "id": "5be5cd8a",
   "metadata": {
    "ExecuteTime": {
     "end_time": "2023-05-31T00:46:23.272534Z",
     "start_time": "2023-05-31T00:46:23.263371Z"
    }
   },
   "outputs": [],
   "source": [
    "random = df.sample(n=268)\n",
    "\n",
    "writeDictToFa(dict(zip(random[\"id\"], random[\"seq\"])), SEED_RANDOM)"
   ]
  },
  {
   "cell_type": "markdown",
   "id": "2c4f1a49",
   "metadata": {},
   "source": [
    "## pruned"
   ]
  },
  {
   "cell_type": "code",
   "execution_count": 59,
   "id": "908fb9dd",
   "metadata": {
    "ExecuteTime": {
     "end_time": "2023-05-31T01:14:59.909046Z",
     "start_time": "2023-05-31T01:14:59.867420Z"
    }
   },
   "outputs": [
    {
     "name": "stdout",
     "output_type": "stream",
     "text": [
      "(268, 2)\n"
     ]
    }
   ],
   "source": [
    "if os.path.exists(PRUNED_IDS) is True:\n",
    "\n",
    "    pruned_id = []  # collect the pruned ids\n",
    "\n",
    "    # read from file\n",
    "    with open(PRUNED_IDS, \"r\") as reader:\n",
    "        for line in reader:\n",
    "            pruned_id.append(line.strip('\\n').strip(\"''\"))\n",
    "    reader.close()\n",
    "\n",
    "    # i'm concerned about this step.\n",
    "    pruned = less_related.loc[less_related[\"id\"].isin(pruned_id)]\n",
    "\n",
    "    writeTsvFa(pruned, PRUNED_TSV, PRUNED_FA)"
   ]
  },
  {
   "cell_type": "markdown",
   "id": "4204b4bc",
   "metadata": {},
   "source": [
    "# pairwise alignments within pruned"
   ]
  },
  {
   "cell_type": "code",
   "execution_count": 64,
   "id": "061e9529",
   "metadata": {
    "ExecuteTime": {
     "end_time": "2023-05-31T01:22:36.445360Z",
     "start_time": "2023-05-31T01:22:35.851008Z"
    }
   },
   "outputs": [
    {
     "data": {
      "text/plain": [
       "0"
      ]
     },
     "execution_count": 64,
     "metadata": {},
     "output_type": "execute_result"
    }
   ],
   "source": [
    "# make 2 lists for within pairwise sequence alignments\n",
    "l1, l2 = list(pruned[\"seq\"]), list(pruned[\"seq\"])\n",
    "\n",
    "np.random.shuffle(l1)  # shuffle one of the lists\n",
    "\n",
    "# count how many times two sequences have a match score.\n",
    "counter = Counter()\n",
    "\n",
    "# iterate through sequence pairs.\n",
    "for s1 in l1:\n",
    "    for s2 in l2:\n",
    "        if s2 != s1:  # ignore self identity\n",
    "\n",
    "            # score number of matching bases, ignorning pam\n",
    "            score = PairwiseAlign(s1, s2)\n",
    "\n",
    "            # count the number of matching bases.\n",
    "            counter[score] += 1\n",
    "\n",
    "# make a dataframe of the pruned pairwise results\n",
    "c = pd.DataFrame(counter.items())\n",
    "\n",
    "# annotate the dataset as pruned\n",
    "c[\"dataset\"] = \"pruned\""
   ]
  },
  {
   "cell_type": "markdown",
   "id": "06a33cb0",
   "metadata": {},
   "source": [
    "## evaluate random sequences "
   ]
  },
  {
   "cell_type": "code",
   "execution_count": null,
   "id": "10b14d24",
   "metadata": {
    "ExecuteTime": {
     "end_time": "2023-06-21T23:18:13.514416Z",
     "start_time": "2023-06-21T23:18:13.218837Z"
    }
   },
   "outputs": [],
   "source": [
    "collection = {}\n",
    "\n",
    "# take 100 random samples of 268 sequences\n",
    "for n in np.arange(100):\n",
    "\n",
    "    # randomly sample 268 sequences\n",
    "    random = df.sample(n=268)\n",
    "\n",
    "    # make 2 lists for within pairwise sequence alignments\n",
    "    l1, l2 = list(random[\"seq\"]), list(random[\"seq\"])\n",
    "\n",
    "    np.random.shuffle(l1)  # shuffle one of the lists\n",
    "\n",
    "    # count how many times two sequences have a match score.\n",
    "    counter_r = Counter()\n",
    "\n",
    "    # iterate through sequence pairs.\n",
    "    for s1 in l1:\n",
    "        for s2 in l2:\n",
    "            if s2 != s1:  # ignore self sequences\n",
    "\n",
    "                # score number of matching bases, ignorning pam\n",
    "                score = PairwiseAlign(s1, s2)\n",
    "\n",
    "                # count the number of matching bases.\n",
    "                counter_r[score] += 1\n",
    "\n",
    "    # make a dataframe of results\n",
    "    r = pd.DataFrame(counter_r.items())\n",
    "    r[\"dataset\"] = \"random\"  # annotate the dataset as random\n",
    "\n",
    "    # annotate which sampling iteration this is\n",
    "    r[\"iter\"] = n\n",
    "\n",
    "    # add sampling iteration to collection dictionary.\n",
    "    collection[n] = r\n",
    "\n",
    "# concatenate all the random samples together into one dataframe.\n",
    "r = pd.concat(collection.values())"
   ]
  },
  {
   "cell_type": "code",
   "execution_count": 89,
   "id": "4632a7b9",
   "metadata": {
    "ExecuteTime": {
     "end_time": "2023-05-31T01:33:27.258046Z",
     "start_time": "2023-05-31T01:33:27.237929Z"
    }
   },
   "outputs": [
    {
     "data": {
      "text/html": [
       "<div>\n",
       "<style scoped>\n",
       "    .dataframe tbody tr th:only-of-type {\n",
       "        vertical-align: middle;\n",
       "    }\n",
       "\n",
       "    .dataframe tbody tr th {\n",
       "        vertical-align: top;\n",
       "    }\n",
       "\n",
       "    .dataframe thead th {\n",
       "        text-align: right;\n",
       "    }\n",
       "</style>\n",
       "<table border=\"1\" class=\"dataframe\">\n",
       "  <thead>\n",
       "    <tr style=\"text-align: right;\">\n",
       "      <th></th>\n",
       "      <th>0</th>\n",
       "      <th>1</th>\n",
       "      <th>dataset</th>\n",
       "      <th>iter</th>\n",
       "    </tr>\n",
       "  </thead>\n",
       "  <tbody>\n",
       "    <tr>\n",
       "      <th>0</th>\n",
       "      <td>9.0</td>\n",
       "      <td>8498</td>\n",
       "      <td>random</td>\n",
       "      <td>0</td>\n",
       "    </tr>\n",
       "    <tr>\n",
       "      <th>1</th>\n",
       "      <td>6.0</td>\n",
       "      <td>7009</td>\n",
       "      <td>random</td>\n",
       "      <td>0</td>\n",
       "    </tr>\n",
       "    <tr>\n",
       "      <th>2</th>\n",
       "      <td>8.0</td>\n",
       "      <td>24364</td>\n",
       "      <td>random</td>\n",
       "      <td>0</td>\n",
       "    </tr>\n",
       "    <tr>\n",
       "      <th>3</th>\n",
       "      <td>7.0</td>\n",
       "      <td>23625</td>\n",
       "      <td>random</td>\n",
       "      <td>0</td>\n",
       "    </tr>\n",
       "    <tr>\n",
       "      <th>4</th>\n",
       "      <td>10.0</td>\n",
       "      <td>1133</td>\n",
       "      <td>random</td>\n",
       "      <td>0</td>\n",
       "    </tr>\n",
       "    <tr>\n",
       "      <th>...</th>\n",
       "      <td>...</td>\n",
       "      <td>...</td>\n",
       "      <td>...</td>\n",
       "      <td>...</td>\n",
       "    </tr>\n",
       "    <tr>\n",
       "      <th>3</th>\n",
       "      <td>9.0</td>\n",
       "      <td>7347</td>\n",
       "      <td>random</td>\n",
       "      <td>99</td>\n",
       "    </tr>\n",
       "    <tr>\n",
       "      <th>4</th>\n",
       "      <td>5.0</td>\n",
       "      <td>840</td>\n",
       "      <td>random</td>\n",
       "      <td>99</td>\n",
       "    </tr>\n",
       "    <tr>\n",
       "      <th>5</th>\n",
       "      <td>10.0</td>\n",
       "      <td>788</td>\n",
       "      <td>random</td>\n",
       "      <td>99</td>\n",
       "    </tr>\n",
       "    <tr>\n",
       "      <th>6</th>\n",
       "      <td>11.0</td>\n",
       "      <td>15</td>\n",
       "      <td>random</td>\n",
       "      <td>99</td>\n",
       "    </tr>\n",
       "    <tr>\n",
       "      <th>7</th>\n",
       "      <td>4.0</td>\n",
       "      <td>29</td>\n",
       "      <td>random</td>\n",
       "      <td>99</td>\n",
       "    </tr>\n",
       "  </tbody>\n",
       "</table>\n",
       "<p>803 rows × 4 columns</p>\n",
       "</div>"
      ],
      "text/plain": [
       "       0      1 dataset  iter\n",
       "0    9.0   8498  random     0\n",
       "1    6.0   7009  random     0\n",
       "2    8.0  24364  random     0\n",
       "3    7.0  23625  random     0\n",
       "4   10.0   1133  random     0\n",
       "..   ...    ...     ...   ...\n",
       "3    9.0   7347  random    99\n",
       "4    5.0    840  random    99\n",
       "5   10.0    788  random    99\n",
       "6   11.0     15  random    99\n",
       "7    4.0     29  random    99\n",
       "\n",
       "[803 rows x 4 columns]"
      ]
     },
     "execution_count": 89,
     "metadata": {},
     "output_type": "execute_result"
    }
   ],
   "source": [
    "r"
   ]
  },
  {
   "cell_type": "code",
   "execution_count": 92,
   "id": "f15c3b0e",
   "metadata": {
    "ExecuteTime": {
     "end_time": "2023-05-31T01:33:41.819462Z",
     "start_time": "2023-05-31T01:33:41.788601Z"
    }
   },
   "outputs": [
    {
     "data": {
      "text/html": [
       "<div>\n",
       "<style scoped>\n",
       "    .dataframe tbody tr th:only-of-type {\n",
       "        vertical-align: middle;\n",
       "    }\n",
       "\n",
       "    .dataframe tbody tr th {\n",
       "        vertical-align: top;\n",
       "    }\n",
       "\n",
       "    .dataframe thead th {\n",
       "        text-align: right;\n",
       "    }\n",
       "</style>\n",
       "<table border=\"1\" class=\"dataframe\">\n",
       "  <thead>\n",
       "    <tr style=\"text-align: right;\">\n",
       "      <th></th>\n",
       "      <th>0</th>\n",
       "      <th>1</th>\n",
       "      <th>dataset</th>\n",
       "      <th>iter</th>\n",
       "    </tr>\n",
       "  </thead>\n",
       "  <tbody>\n",
       "    <tr>\n",
       "      <th>0</th>\n",
       "      <td>6.0</td>\n",
       "      <td>14064</td>\n",
       "      <td>pruned</td>\n",
       "      <td>NaN</td>\n",
       "    </tr>\n",
       "    <tr>\n",
       "      <th>1</th>\n",
       "      <td>8.0</td>\n",
       "      <td>20120</td>\n",
       "      <td>pruned</td>\n",
       "      <td>NaN</td>\n",
       "    </tr>\n",
       "    <tr>\n",
       "      <th>2</th>\n",
       "      <td>7.0</td>\n",
       "      <td>29910</td>\n",
       "      <td>pruned</td>\n",
       "      <td>NaN</td>\n",
       "    </tr>\n",
       "    <tr>\n",
       "      <th>3</th>\n",
       "      <td>9.0</td>\n",
       "      <td>5002</td>\n",
       "      <td>pruned</td>\n",
       "      <td>NaN</td>\n",
       "    </tr>\n",
       "    <tr>\n",
       "      <th>4</th>\n",
       "      <td>5.0</td>\n",
       "      <td>1976</td>\n",
       "      <td>pruned</td>\n",
       "      <td>NaN</td>\n",
       "    </tr>\n",
       "    <tr>\n",
       "      <th>...</th>\n",
       "      <td>...</td>\n",
       "      <td>...</td>\n",
       "      <td>...</td>\n",
       "      <td>...</td>\n",
       "    </tr>\n",
       "    <tr>\n",
       "      <th>3</th>\n",
       "      <td>9.0</td>\n",
       "      <td>7347</td>\n",
       "      <td>random</td>\n",
       "      <td>99.0</td>\n",
       "    </tr>\n",
       "    <tr>\n",
       "      <th>4</th>\n",
       "      <td>5.0</td>\n",
       "      <td>840</td>\n",
       "      <td>random</td>\n",
       "      <td>99.0</td>\n",
       "    </tr>\n",
       "    <tr>\n",
       "      <th>5</th>\n",
       "      <td>10.0</td>\n",
       "      <td>788</td>\n",
       "      <td>random</td>\n",
       "      <td>99.0</td>\n",
       "    </tr>\n",
       "    <tr>\n",
       "      <th>6</th>\n",
       "      <td>11.0</td>\n",
       "      <td>15</td>\n",
       "      <td>random</td>\n",
       "      <td>99.0</td>\n",
       "    </tr>\n",
       "    <tr>\n",
       "      <th>7</th>\n",
       "      <td>4.0</td>\n",
       "      <td>29</td>\n",
       "      <td>random</td>\n",
       "      <td>99.0</td>\n",
       "    </tr>\n",
       "  </tbody>\n",
       "</table>\n",
       "<p>810 rows × 4 columns</p>\n",
       "</div>"
      ],
      "text/plain": [
       "       0      1 dataset  iter\n",
       "0    6.0  14064  pruned   NaN\n",
       "1    8.0  20120  pruned   NaN\n",
       "2    7.0  29910  pruned   NaN\n",
       "3    9.0   5002  pruned   NaN\n",
       "4    5.0   1976  pruned   NaN\n",
       "..   ...    ...     ...   ...\n",
       "3    9.0   7347  random  99.0\n",
       "4    5.0    840  random  99.0\n",
       "5   10.0    788  random  99.0\n",
       "6   11.0     15  random  99.0\n",
       "7    4.0     29  random  99.0\n",
       "\n",
       "[810 rows x 4 columns]"
      ]
     },
     "execution_count": 92,
     "metadata": {},
     "output_type": "execute_result"
    }
   ],
   "source": [
    "# concatenate the two dataframes together\n",
    "res = pd.concat([c, r])\n",
    "res"
   ]
  },
  {
   "cell_type": "code",
   "execution_count": 103,
   "id": "e0a322d8",
   "metadata": {
    "ExecuteTime": {
     "end_time": "2023-05-31T01:44:29.509528Z",
     "start_time": "2023-05-31T01:44:28.350007Z"
    }
   },
   "outputs": [
    {
     "data": {
      "image/png": "[encoded data removed]",
      "text/plain": [
       "<Figure size 600x600 with 1 Axes>"
      ]
     },
     "metadata": {},
     "output_type": "display_data"
    }
   ],
   "source": [
    "fig, ax = plt.subplots(figsize=(6, 6))\n",
    "sns.barplot(x=0, y=1, data=res, hue=\"dataset\")\n",
    "ax.set(ylabel=\"N pairwise alignments\",\n",
    "       xlabel=\"matching bases\",\n",
    "       title=\"nullomer selection\\n within-set pairwise identity\"\n",
    "       )\n",
    "ax.legend(bbox_to_anchor=(1, 1))\n",
    "out = os.path.join(RE, \"pairwise_alignments.pruned.v.100xrandom.pdf\")\n",
    "plt.savefig(out, bbox_inches=\"tight\")"
   ]
  },
  {
   "cell_type": "code",
   "execution_count": 104,
   "id": "8c86568f",
   "metadata": {
    "ExecuteTime": {
     "end_time": "2023-05-31T01:46:17.533444Z",
     "start_time": "2023-05-31T01:46:17.526524Z"
    }
   },
   "outputs": [
    {
     "data": {
      "text/plain": [
       "'/wynton/home/ahituv/fongsl/nullomers/results/lock/clustalo/pairwise_alignments.pruned.v.100xrandom.pdf'"
      ]
     },
     "execution_count": 104,
     "metadata": {},
     "output_type": "execute_result"
    }
   ],
   "source": [
    "out"
   ]
  },
  {
   "cell_type": "code",
   "execution_count": null,
   "id": "17932939",
   "metadata": {},
   "outputs": [],
   "source": []
  }
 ],
 "metadata": {
  "_draft": {
   "nbviewer_url": "https://gist.github.com/slifong08/9873ee2a2d43abf517b6c849d241e497"
  },
  "gist": {
   "data": {
    "description": "nullomers/bin-lock/1_design_nullomers/4_design_Nmers-revisit_w_pruned.ipynb",
    "public": false
   },
   "id": "9873ee2a2d43abf517b6c849d241e497"
  },
  "kernelspec": {
   "display_name": "Python (wynenv)",
   "language": "python",
   "name": "wynenv"
  },
  "language_info": {
   "codemirror_mode": {
    "name": "ipython",
    "version": 3
   },
   "file_extension": ".py",
   "mimetype": "text/x-python",
   "name": "python",
   "nbconvert_exporter": "python",
   "pygments_lexer": "ipython3",
   "version": "3.10.8"
  },
  "toc": {
   "base_numbering": 1,
   "nav_menu": {},
   "number_sections": true,
   "sideBar": true,
   "skip_h1_title": false,
   "title_cell": "Table of Contents",
   "title_sidebar": "Contents",
   "toc_cell": false,
   "toc_position": {},
   "toc_section_display": true,
   "toc_window_display": false
  },
  "varInspector": {
   "cols": {
    "lenName": 16,
    "lenType": 16,
    "lenVar": 40
   },
   "kernels_config": {
    "python": {
     "delete_cmd_postfix": "",
     "delete_cmd_prefix": "del ",
     "library": "var_list.py",
     "varRefreshCmd": "print(var_dic_list())"
    },
    "r": {
     "delete_cmd_postfix": ") ",
     "delete_cmd_prefix": "rm(",
     "library": "var_list.r",
     "varRefreshCmd": "cat(var_dic_list()) "
    }
   },
   "types_to_exclude": [
    "module",
    "function",
    "builtin_function_or_method",
    "instance",
    "_Feature"
   ],
   "window_display": false
  }
 },
 "nbformat": 4,
 "nbformat_minor": 5
}
