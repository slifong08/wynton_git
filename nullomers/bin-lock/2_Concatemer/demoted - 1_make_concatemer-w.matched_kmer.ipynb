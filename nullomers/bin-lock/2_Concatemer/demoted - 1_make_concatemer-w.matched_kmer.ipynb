{
 "cells": [
  {
   "cell_type": "markdown",
   "id": "7854b550",
   "metadata": {},
   "source": [
    "# concatenate nullomers into concatemers. \n",
    "- make matching kmer concatemers using bowtie. "
   ]
  },
  {
   "cell_type": "code",
   "execution_count": 1,
   "id": "0cf2c00e",
   "metadata": {
    "ExecuteTime": {
     "end_time": "2023-05-31T21:09:04.284858Z",
     "start_time": "2023-05-31T21:09:02.559727Z"
    }
   },
   "outputs": [],
   "source": [
    "from Bio.SeqIO.FastaIO import SimpleFastaParser\n",
    "from Bio.Seq import Seq\n",
    "from Bio.SeqUtils import gc_fraction\n",
    "import config_readwrite as crw\n",
    "\n",
    "import glob\n",
    "import gzip\n",
    "import numpy as np\n",
    "import os, sys\n",
    "import pandas as pd\n",
    "import subprocess as sp"
   ]
  },
  {
   "cell_type": "code",
   "execution_count": 2,
   "id": "ef516d52",
   "metadata": {
    "ExecuteTime": {
     "end_time": "2023-05-31T21:09:04.909506Z",
     "start_time": "2023-05-31T21:09:04.899364Z"
    }
   },
   "outputs": [],
   "source": [
    "CL, MER, NMUTS, BUILD, FO_ONLY = \"common\", \"15\", \"2\", \"hs1\", True\n",
    "config, cfn = crw.read(os.path.join(os.path.dirname(os.getcwd()), \"config.ini\"))"
   ]
  },
  {
   "cell_type": "code",
   "execution_count": 3,
   "id": "dc96c440",
   "metadata": {
    "ExecuteTime": {
     "end_time": "2023-05-31T21:09:09.816518Z",
     "start_time": "2023-05-31T21:09:09.806795Z"
    }
   },
   "outputs": [],
   "source": [
    "# number of sequences per construct\n",
    "NSEQS = 13\n",
    "\n",
    "TSV_MUT= f'/wynton/home/ahituv/fongsl/nullomers/data/lock/common/common.{MER}mers.2mut.nulls.fo.pam.tsv'\n",
    "TSV_MUTCONCAT= f'/wynton/home/ahituv/fongsl/nullomers/data/lock/common/common.{MER}mers.2mut.nulls.fo.pam.CONCAT-{NSEQS}.tsv'\n",
    "seed = config[\"seed\"][f'{MER}mer_morethan1bprelated']\n",
    "\n",
    "section = f\"{MER}.firstorder.pam\"\n",
    "crw.check(config,section)\n",
    "\n",
    "config[section][\"tsv\"] = TSV_MUT\n",
    "config[section][f\"concat-{NSEQS}\"] = TSV_MUTCONCAT\n",
    "\n",
    "crw.write(config, cfn)"
   ]
  },
  {
   "cell_type": "markdown",
   "id": "99529284",
   "metadata": {},
   "source": [
    "# load data"
   ]
  },
  {
   "cell_type": "code",
   "execution_count": 4,
   "id": "b44e568e",
   "metadata": {
    "ExecuteTime": {
     "end_time": "2023-05-31T21:09:14.043429Z",
     "start_time": "2023-05-31T21:09:13.923893Z"
    }
   },
   "outputs": [
    {
     "data": {
      "text/plain": [
       "(4224, 1)"
      ]
     },
     "execution_count": 4,
     "metadata": {},
     "output_type": "execute_result"
    }
   ],
   "source": [
    "df = pd.read_csv(seed, header=None,  names=[f\"{MER}_pam_fo\"])\n",
    "\n",
    "df.shape"
   ]
  },
  {
   "cell_type": "markdown",
   "id": "10e80846",
   "metadata": {},
   "source": [
    "## shuffle nullomers"
   ]
  },
  {
   "cell_type": "code",
   "execution_count": 5,
   "id": "17f7b6de",
   "metadata": {
    "ExecuteTime": {
     "end_time": "2023-05-31T21:09:19.556059Z",
     "start_time": "2023-05-31T21:09:19.549740Z"
    }
   },
   "outputs": [],
   "source": [
    "# shuffle the dataframe\n",
    "df_shuffled = df.sample(frac=1).to_numpy()"
   ]
  },
  {
   "cell_type": "markdown",
   "id": "9ca2ec1f",
   "metadata": {},
   "source": [
    "## split shuffled nullomers, NSEQS per array"
   ]
  },
  {
   "cell_type": "code",
   "execution_count": 6,
   "id": "eae17093",
   "metadata": {
    "ExecuteTime": {
     "end_time": "2023-05-31T21:09:22.932450Z",
     "start_time": "2023-05-31T21:09:22.927931Z"
    }
   },
   "outputs": [],
   "source": [
    "# split the array into equally sized parts w/ nseqs per part\n",
    "df_splits = np.array_split(df_shuffled, int(len(df_shuffled)/NSEQS)+1)"
   ]
  },
  {
   "cell_type": "code",
   "execution_count": 7,
   "id": "4d54b76c",
   "metadata": {
    "ExecuteTime": {
     "end_time": "2023-05-31T21:09:23.833895Z",
     "start_time": "2023-05-31T21:09:23.826713Z"
    }
   },
   "outputs": [
    {
     "data": {
      "text/plain": [
       "325"
      ]
     },
     "execution_count": 7,
     "metadata": {},
     "output_type": "execute_result"
    }
   ],
   "source": [
    "len(df_splits)"
   ]
  },
  {
   "cell_type": "markdown",
   "id": "057581c0",
   "metadata": {},
   "source": [
    "# make sequences from shuffled, split arrays "
   ]
  },
  {
   "cell_type": "code",
   "execution_count": 8,
   "id": "7b80fdf3",
   "metadata": {
    "ExecuteTime": {
     "end_time": "2023-05-31T21:09:27.272729Z",
     "start_time": "2023-05-31T21:09:27.268074Z"
    }
   },
   "outputs": [],
   "source": [
    "def makeSeq(splits):\n",
    "    \n",
    "    collection = {}\n",
    "    for i, sampled_set in enumerate(splits):\n",
    "    \n",
    "        seq = \"\".join(sampled_set.ravel())\n",
    "    \n",
    "        # gc fraction\n",
    "        gc = gc_fraction(seq)\n",
    "        collection[i]=[seq, sampled_set.ravel(), gc]\n",
    "    return collection"
   ]
  },
  {
   "cell_type": "code",
   "execution_count": 9,
   "id": "62e4f82b",
   "metadata": {
    "ExecuteTime": {
     "end_time": "2023-05-31T21:09:29.830739Z",
     "start_time": "2023-05-31T21:09:29.815627Z"
    }
   },
   "outputs": [
    {
     "data": {
      "text/plain": [
       "['15-firstorder.1743585\\tGTCACCGGTTATCGG15-firstorder.1852869\\tTAACTGTTCGGCGGG15-firstorder.1492625\\tGCCGATTACAACCGG15-firstorder.1856763\\tTAACGCTCCTATCGG15-firstorder.1411224\\tGACGATCCGTTACGG15-firstorder.1489232\\tGCCGGAATATTGCGG15-firstorder.2280317\\tTCGTACTAATGTCGG15-firstorder.398570\\tATCGCACATCGTCGG15-firstorder.1033072\\tCGCTCATTCGATCGG15-firstorder.300895\\tAGCGGTAATTCGCGG15-firstorder.860359\\tCGCATAGGTAATCGG15-firstorder.1670136\\tGGGTCGATTAACGGG15-firstorder.437421\\tATCGTCGACTCGAGG',\n",
       " array(['15-firstorder.1743585\\tGTCACCGGTTATCGG',\n",
       "        '15-firstorder.1852869\\tTAACTGTTCGGCGGG',\n",
       "        '15-firstorder.1492625\\tGCCGATTACAACCGG',\n",
       "        '15-firstorder.1856763\\tTAACGCTCCTATCGG',\n",
       "        '15-firstorder.1411224\\tGACGATCCGTTACGG',\n",
       "        '15-firstorder.1489232\\tGCCGGAATATTGCGG',\n",
       "        '15-firstorder.2280317\\tTCGTACTAATGTCGG',\n",
       "        '15-firstorder.398570\\tATCGCACATCGTCGG',\n",
       "        '15-firstorder.1033072\\tCGCTCATTCGATCGG',\n",
       "        '15-firstorder.300895\\tAGCGGTAATTCGCGG',\n",
       "        '15-firstorder.860359\\tCGCATAGGTAATCGG',\n",
       "        '15-firstorder.1670136\\tGGGTCGATTAACGGG',\n",
       "        '15-firstorder.437421\\tATCGTCGACTCGAGG'], dtype=object),\n",
       " 0.5701357466063348]"
      ]
     },
     "execution_count": 9,
     "metadata": {},
     "output_type": "execute_result"
    }
   ],
   "source": [
    "collection = makeSeq(df_splits)\n",
    "collection[0]"
   ]
  },
  {
   "cell_type": "markdown",
   "id": "66f4bf5b",
   "metadata": {},
   "source": [
    "# check if GC content is greater than 70%:"
   ]
  },
  {
   "cell_type": "code",
   "execution_count": 10,
   "id": "d5b598fc",
   "metadata": {
    "ExecuteTime": {
     "end_time": "2023-05-31T21:10:26.785774Z",
     "start_time": "2023-05-31T21:10:26.782129Z"
    }
   },
   "outputs": [],
   "source": [
    "for i in collection.values():\n",
    "    if i[2]>=0.70:\n",
    "        print(\"whoa\")\n",
    "        print(i[0], i[2])\n",
    "        "
   ]
  },
  {
   "cell_type": "markdown",
   "id": "74759ffb",
   "metadata": {
    "ExecuteTime": {
     "end_time": "2023-04-24T17:36:22.887899Z",
     "start_time": "2023-04-24T17:36:22.881865Z"
    }
   },
   "source": [
    "# Bowtie align to common MPRA tiles, make natural kmers"
   ]
  },
  {
   "cell_type": "code",
   "execution_count": 11,
   "id": "34885160",
   "metadata": {
    "ExecuteTime": {
     "end_time": "2023-05-31T21:11:01.480665Z",
     "start_time": "2023-05-31T21:11:01.477315Z"
    }
   },
   "outputs": [],
   "source": [
    "BOWTIE_PATH = \"/wynton/home/ahituv/fongsl/bin/bowtie\"\n",
    "FA = config[CL][\"fasta_hs1\"]"
   ]
  },
  {
   "cell_type": "markdown",
   "id": "f4a334f7",
   "metadata": {},
   "source": [
    "## build index for common MPRA\n",
    "- MPRA lifted over to HS1"
   ]
  },
  {
   "cell_type": "code",
   "execution_count": 12,
   "id": "592a616e",
   "metadata": {
    "ExecuteTime": {
     "end_time": "2023-05-31T21:11:17.268452Z",
     "start_time": "2023-05-31T21:11:05.502166Z"
    }
   },
   "outputs": [
    {
     "name": "stdout",
     "output_type": "stream",
     "text": [
      "Settings:\n",
      "  Output files: \"/wynton/home/ahituv/fongsl/MPRA/agarwal_2023/joint_library.liftOver.to.hs1.ebwt.*.ebwt\"\n",
      "  Line rate: 6 (line is 64 bytes)\n",
      "  Lines per side: 1 (side is 64 bytes)\n",
      "  Offset rate: 5 (one in 32)\n",
      "  FTable chars: 10\n",
      "  Strings: unpacked\n",
      "  Max bucket size: default\n",
      "  Max bucket size, sqrt multiplier: default\n",
      "  Max bucket size, len divisor: 4\n",
      "  Difference-cover sample period: 1024\n",
      "  Endianness: little\n",
      "  Actual local endianness: little\n",
      "  Sanity checking: disabled\n",
      "  Assertions: disabled\n",
      "  Random seed: 0\n",
      "  Sizeofs: void*:8, int:4, long:8, size_t:8\n",
      "Input files DNA, FASTA:\n",
      "  /wynton/home/ahituv/fongsl/MPRA/agarwal_2023/joint_library.liftOver.to.hs1.fa\n",
      "Reading reference sizes\n",
      "  Time reading reference sizes: 00:00:00\n",
      "Calculating joined length\n",
      "Writing header\n",
      "Reserving space for joined string\n",
      "Joining reference sequences\n",
      "  Time to join reference sequences: 00:00:00\n",
      "bmax according to bmaxDivN setting: 2960267\n",
      "Using parameters --bmax 2220201 --dcv 1024\n",
      "  Doing ahead-of-time memory usage test\n",
      "  Passed!  Constructing with these parameters: --bmax 2220201 --dcv 1024\n",
      "Constructing suffix-array element generator\n",
      "Building DifferenceCoverSample\n",
      "  Building sPrime\n",
      "  Building sPrimeOrder\n",
      "  V-Sorting samples\n",
      "  V-Sorting samples time: 00:00:00\n",
      "  Allocating rank array\n",
      "  Ranking v-sort output\n",
      "  Ranking v-sort output time: 00:00:00\n",
      "  Invoking Larsson-Sadakane on ranks\n",
      "  Invoking Larsson-Sadakane on ranks time: 00:00:00\n",
      "  Sanity-checking and returning\n",
      "Building samples\n",
      "Reserving space for 12 sample suffixes\n",
      "Generating random suffixes\n",
      "QSorting 12 sample offsets, eliminating duplicates\n",
      "Multikey QSorting 12 samples\n",
      "  (Using difference cover)\n",
      "  Multikey QSorting samples time: 00:00:00\n",
      "QSorting sample offsets, eliminating duplicates time: 00:00:00\n",
      "Calculating bucket sizes\n",
      "Splitting and merging\n",
      "  Splitting and merging time: 00:00:00\n",
      "Split 1, merged 7; iterating...\n",
      "Splitting and merging\n",
      "  Splitting and merging time: 00:00:00\n",
      "Avg bucket size: 1.69158e+06 (target: 2220200)\n",
      "Converting suffix-array elements to index image\n",
      "Allocating ftab, absorbFtab\n",
      "Entering Ebwt loop\n",
      "Getting block 1 of 7\n",
      "  Reserving size (2220201) for bucket 1\n",
      "  Calculating Z arrays for bucket 1\n",
      "  Entering block accumulator loop for bucket 1:\n",
      "  bucket 1: 10%\n",
      "  bucket 1: 20%\n",
      "  bucket 1: 30%\n",
      "  bucket 1: 40%\n",
      "  bucket 1: 50%\n",
      "  bucket 1: 60%\n",
      "  bucket 1: 70%\n",
      "  bucket 1: 80%\n",
      "  bucket 1: 90%\n",
      "  bucket 1: 100%\n",
      "  Sorting block of length 1437858 for bucket 1\n",
      "  (Using difference cover)\n",
      "  Sorting block time: 00:00:00\n",
      "Returning block of 1437859 for bucket 1\n",
      "Getting block 2 of 7\n",
      "  Reserving size (2220201) for bucket 2\n",
      "  Calculating Z arrays for bucket 2\n",
      "  Entering block accumulator loop for bucket 2:\n",
      "  bucket 2: 10%\n",
      "  bucket 2: 20%\n",
      "  bucket 2: 30%\n",
      "  bucket 2: 40%\n",
      "  bucket 2: 50%\n",
      "  bucket 2: 60%\n",
      "  bucket 2: 70%\n",
      "  bucket 2: 80%\n",
      "  bucket 2: 90%\n",
      "  bucket 2: 100%\n",
      "  Sorting block of length 1596137 for bucket 2\n",
      "  (Using difference cover)\n",
      "  Sorting block time: 00:00:00\n",
      "Returning block of 1596138 for bucket 2\n",
      "Getting block 3 of 7\n",
      "  Reserving size (2220201) for bucket 3\n",
      "  Calculating Z arrays for bucket 3\n",
      "  Entering block accumulator loop for bucket 3:\n",
      "  bucket 3: 10%\n",
      "  bucket 3: 20%\n",
      "  bucket 3: 30%\n",
      "  bucket 3: 40%\n",
      "  bucket 3: 50%\n",
      "  bucket 3: 60%\n",
      "  bucket 3: 70%\n",
      "  bucket 3: 80%\n",
      "  bucket 3: 90%\n",
      "  bucket 3: 100%\n",
      "  Sorting block of length 1439502 for bucket 3\n",
      "  (Using difference cover)\n",
      "  Sorting block time: 00:00:00\n",
      "Returning block of 1439503 for bucket 3\n",
      "Getting block 4 of 7\n",
      "  Reserving size (2220201) for bucket 4\n",
      "  Calculating Z arrays for bucket 4\n",
      "  Entering block accumulator loop for bucket 4:\n",
      "  bucket 4: 10%\n",
      "  bucket 4: 20%\n",
      "  bucket 4: 30%\n",
      "  bucket 4: 40%\n",
      "  bucket 4: 50%\n",
      "  bucket 4: 60%\n",
      "  bucket 4: 70%\n",
      "  bucket 4: 80%\n",
      "  bucket 4: 90%\n",
      "  bucket 4: 100%\n",
      "  Sorting block of length 1504617 for bucket 4\n",
      "  (Using difference cover)\n",
      "  Sorting block time: 00:00:00\n",
      "Returning block of 1504618 for bucket 4\n",
      "Getting block 5 of 7\n",
      "  Reserving size (2220201) for bucket 5\n",
      "  Calculating Z arrays for bucket 5\n",
      "  Entering block accumulator loop for bucket 5:\n",
      "  bucket 5: 10%\n",
      "  bucket 5: 20%\n",
      "  bucket 5: 30%\n",
      "  bucket 5: 40%\n",
      "  bucket 5: 50%\n",
      "  bucket 5: 60%\n",
      "  bucket 5: 70%\n",
      "  bucket 5: 80%\n",
      "  bucket 5: 90%\n",
      "  bucket 5: 100%\n",
      "  Sorting block of length 1934155 for bucket 5\n",
      "  (Using difference cover)\n",
      "  Sorting block time: 00:00:00\n",
      "Returning block of 1934156 for bucket 5\n",
      "Getting block 6 of 7\n",
      "  Reserving size (2220201) for bucket 6\n",
      "  Calculating Z arrays for bucket 6\n",
      "  Entering block accumulator loop for bucket 6:\n",
      "  bucket 6: 10%\n",
      "  bucket 6: 20%\n",
      "  bucket 6: 30%\n",
      "  bucket 6: 40%\n",
      "  bucket 6: 50%\n",
      "  bucket 6: 60%\n",
      "  bucket 6: 70%\n",
      "  bucket 6: 80%\n",
      "  bucket 6: 90%\n",
      "  bucket 6: 100%\n",
      "  Sorting block of length 2100324 for bucket 6\n",
      "  (Using difference cover)\n",
      "  Sorting block time: 00:00:01\n",
      "Returning block of 2100325 for bucket 6\n",
      "Getting block 7 of 7\n",
      "  Reserving size (2220201) for bucket 7\n",
      "  Calculating Z arrays for bucket 7\n",
      "  Entering block accumulator loop for bucket 7:\n",
      "  bucket 7: 10%\n",
      "  bucket 7: 20%\n",
      "  bucket 7: 30%\n",
      "  bucket 7: 40%\n",
      "  bucket 7: 50%\n",
      "  bucket 7: 60%\n",
      "  bucket 7: 70%\n",
      "  bucket 7: 80%\n",
      "  bucket 7: 90%\n",
      "  bucket 7: 100%\n",
      "  Sorting block of length 1828469 for bucket 7\n",
      "  (Using difference cover)\n",
      "  Sorting block time: 00:00:00\n",
      "Returning block of 1828470 for bucket 7\n",
      "Exited Ebwt loop\n",
      "fchr[A]: 0\n",
      "fchr[C]: 2801652\n",
      "fchr[G]: 5895217\n",
      "fchr[T]: 8974329\n",
      "fchr[$]: 11841068\n",
      "Exiting Ebwt::buildToDisk()\n",
      "Returning from initFromVector\n",
      "Wrote 9938163 bytes to primary EBWT file: /wynton/home/ahituv/fongsl/MPRA/agarwal_2023/joint_library.liftOver.to.hs1.ebwt.1.ebwt\n",
      "Wrote 1480140 bytes to secondary EBWT file: /wynton/home/ahituv/fongsl/MPRA/agarwal_2023/joint_library.liftOver.to.hs1.ebwt.2.ebwt\n",
      "Re-opening _in1 and _in2 as input streams\n",
      "Returning from Ebwt constructor\n",
      "Headers:\n",
      "    len: 11841068\n",
      "    bwtLen: 11841069\n",
      "    sz: 2960267\n",
      "    bwtSz: 2960268\n",
      "    lineRate: 6\n",
      "    linesPerSide: 1\n",
      "    offRate: 5\n",
      "    offMask: 0xffffffe0\n",
      "    isaRate: -1\n",
      "    isaMask: 0xffffffff\n",
      "    ftabChars: 10\n",
      "    eftabLen: 20\n",
      "    eftabSz: 80\n",
      "    ftabLen: 1048577\n",
      "    ftabSz: 4194308\n",
      "    offsLen: 370034\n",
      "    offsSz: 1480136\n",
      "    isaLen: 0\n",
      "    isaSz: 0\n",
      "    lineSz: 64\n",
      "    sideSz: 64\n",
      "    sideBwtSz: 56\n",
      "    sideBwtLen: 224\n",
      "    numSidePairs: 26431\n",
      "    numSides: 52862\n",
      "    numLines: 52862\n",
      "    ebwtTotLen: 3383168\n",
      "    ebwtTotSz: 3383168\n",
      "    reverse: 0\n",
      "Total time for call to driver() for forward index: 00:00:05\n",
      "Reading reference sizes\n",
      "  Time reading reference sizes: 00:00:01\n",
      "Calculating joined length\n",
      "Writing header\n",
      "Reserving space for joined string\n",
      "Joining reference sequences\n",
      "  Time to join reference sequences: 00:00:00\n",
      "bmax according to bmaxDivN setting: 2960267\n",
      "Using parameters --bmax 2220201 --dcv 1024\n",
      "  Doing ahead-of-time memory usage test\n",
      "  Passed!  Constructing with these parameters: --bmax 2220201 --dcv 1024\n",
      "Constructing suffix-array element generator\n",
      "Building DifferenceCoverSample\n",
      "  Building sPrime\n",
      "  Building sPrimeOrder\n",
      "  V-Sorting samples\n",
      "  V-Sorting samples time: 00:00:00\n",
      "  Allocating rank array\n",
      "  Ranking v-sort output\n",
      "  Ranking v-sort output time: 00:00:00\n",
      "  Invoking Larsson-Sadakane on ranks\n",
      "  Invoking Larsson-Sadakane on ranks time: 00:00:00\n",
      "  Sanity-checking and returning\n",
      "Building samples\n",
      "Reserving space for 12 sample suffixes\n",
      "Generating random suffixes\n",
      "QSorting 12 sample offsets, eliminating duplicates\n",
      "Multikey QSorting 12 samples\n",
      "  (Using difference cover)\n",
      "  Multikey QSorting samples time: 00:00:00\n",
      "QSorting sample offsets, eliminating duplicates time: 00:00:00\n",
      "Calculating bucket sizes\n",
      "Splitting and merging\n",
      "  Splitting and merging time: 00:00:00\n",
      "Split 1, merged 7; iterating...\n",
      "Splitting and merging\n",
      "  Splitting and merging time: 00:00:00\n",
      "Avg bucket size: 1.69158e+06 (target: 2220200)\n",
      "Converting suffix-array elements to index image\n",
      "Allocating ftab, absorbFtab\n",
      "Entering Ebwt loop\n",
      "Getting block 1 of 7\n",
      "  Reserving size (2220201) for bucket 1\n",
      "  Calculating Z arrays for bucket 1\n",
      "  Entering block accumulator loop for bucket 1:\n",
      "  bucket 1: 10%\n",
      "  bucket 1: 20%\n",
      "  bucket 1: 30%\n",
      "  bucket 1: 40%\n",
      "  bucket 1: 50%\n",
      "  bucket 1: 60%\n",
      "  bucket 1: 70%\n",
      "  bucket 1: 80%\n",
      "  bucket 1: 90%\n",
      "  bucket 1: 100%\n",
      "  Sorting block of length 2042187 for bucket 1\n",
      "  (Using difference cover)\n",
      "  Sorting block time: 00:00:00\n",
      "Returning block of 2042188 for bucket 1\n",
      "Getting block 2 of 7\n",
      "  Reserving size (2220201) for bucket 2\n",
      "  Calculating Z arrays for bucket 2\n",
      "  Entering block accumulator loop for bucket 2:\n",
      "  bucket 2: 10%\n",
      "  bucket 2: 20%\n",
      "  bucket 2: 30%\n",
      "  bucket 2: 40%\n"
     ]
    },
    {
     "name": "stdout",
     "output_type": "stream",
     "text": [
      "  bucket 2: 50%\n",
      "  bucket 2: 60%\n",
      "  bucket 2: 70%\n",
      "  bucket 2: 80%\n",
      "  bucket 2: 90%\n",
      "  bucket 2: 100%\n",
      "  Sorting block of length 735701 for bucket 2\n",
      "  (Using difference cover)\n",
      "  Sorting block time: 00:00:00\n",
      "Returning block of 735702 for bucket 2\n",
      "Getting block 3 of 7\n",
      "  Reserving size (2220201) for bucket 3\n",
      "  Calculating Z arrays for bucket 3\n",
      "  Entering block accumulator loop for bucket 3:\n",
      "  bucket 3: 10%\n",
      "  bucket 3: 20%\n",
      "  bucket 3: 30%\n",
      "  bucket 3: 40%\n",
      "  bucket 3: 50%\n",
      "  bucket 3: 60%\n",
      "  bucket 3: 70%\n",
      "  bucket 3: 80%\n",
      "  bucket 3: 90%\n",
      "  bucket 3: 100%\n",
      "  Sorting block of length 1663033 for bucket 3\n",
      "  (Using difference cover)\n",
      "  Sorting block time: 00:00:00\n",
      "Returning block of 1663034 for bucket 3\n",
      "Getting block 4 of 7\n",
      "  Reserving size (2220201) for bucket 4\n",
      "  Calculating Z arrays for bucket 4\n",
      "  Entering block accumulator loop for bucket 4:\n",
      "  bucket 4: 10%\n",
      "  bucket 4: 20%\n",
      "  bucket 4: 30%\n",
      "  bucket 4: 40%\n",
      "  bucket 4: 50%\n",
      "  bucket 4: 60%\n",
      "  bucket 4: 70%\n",
      "  bucket 4: 80%\n",
      "  bucket 4: 90%\n",
      "  bucket 4: 100%\n",
      "  Sorting block of length 2009880 for bucket 4\n",
      "  (Using difference cover)\n",
      "  Sorting block time: 00:00:00\n",
      "Returning block of 2009881 for bucket 4\n",
      "Getting block 5 of 7\n",
      "  Reserving size (2220201) for bucket 5\n",
      "  Calculating Z arrays for bucket 5\n",
      "  Entering block accumulator loop for bucket 5:\n",
      "  bucket 5: 10%\n",
      "  bucket 5: 20%\n",
      "  bucket 5: 30%\n",
      "  bucket 5: 40%\n",
      "  bucket 5: 50%\n",
      "  bucket 5: 60%\n",
      "  bucket 5: 70%\n",
      "  bucket 5: 80%\n",
      "  bucket 5: 90%\n",
      "  bucket 5: 100%\n",
      "  Sorting block of length 2096789 for bucket 5\n",
      "  (Using difference cover)\n",
      "  Sorting block time: 00:00:00\n",
      "Returning block of 2096790 for bucket 5\n",
      "Getting block 6 of 7\n",
      "  Reserving size (2220201) for bucket 6\n",
      "  Calculating Z arrays for bucket 6\n",
      "  Entering block accumulator loop for bucket 6:\n",
      "  bucket 6: 10%\n",
      "  bucket 6: 20%\n",
      "  bucket 6: 30%\n",
      "  bucket 6: 40%\n",
      "  bucket 6: 50%\n",
      "  bucket 6: 60%\n",
      "  bucket 6: 70%\n",
      "  bucket 6: 80%\n",
      "  bucket 6: 90%\n",
      "  bucket 6: 100%\n",
      "  Sorting block of length 1696390 for bucket 6\n",
      "  (Using difference cover)\n",
      "  Sorting block time: 00:00:00\n",
      "Returning block of 1696391 for bucket 6\n",
      "Getting block 7 of 7\n",
      "  Reserving size (2220201) for bucket 7\n",
      "  Calculating Z arrays for bucket 7\n",
      "  Entering block accumulator loop for bucket 7:\n",
      "  bucket 7: 10%\n",
      "  bucket 7: 20%\n",
      "  bucket 7: 30%\n",
      "  bucket 7: 40%\n",
      "  bucket 7: 50%\n",
      "  bucket 7: 60%\n",
      "  bucket 7: 70%\n",
      "  bucket 7: 80%\n",
      "  bucket 7: 90%\n",
      "  bucket 7: 100%\n",
      "  Sorting block of length 1597082 for bucket 7\n",
      "  (Using difference cover)\n",
      "  Sorting block time: 00:00:01\n",
      "Returning block of 1597083 for bucket 7\n",
      "Exited Ebwt loop\n",
      "fchr[A]: 0\n",
      "fchr[C]: 2801652\n",
      "fchr[G]: 5895217\n",
      "fchr[T]: 8974329\n",
      "fchr[$]: 11841068\n",
      "Exiting Ebwt::buildToDisk()\n",
      "Returning from initFromVector\n",
      "Wrote 9938163 bytes to primary EBWT file: /wynton/home/ahituv/fongsl/MPRA/agarwal_2023/joint_library.liftOver.to.hs1.ebwt.rev.1.ebwt\n",
      "Wrote 1480140 bytes to secondary EBWT file: /wynton/home/ahituv/fongsl/MPRA/agarwal_2023/joint_library.liftOver.to.hs1.ebwt.rev.2.ebwt\n",
      "Re-opening _in1 and _in2 as input streams\n",
      "Returning from Ebwt constructor\n",
      "Headers:\n",
      "    len: 11841068\n",
      "    bwtLen: 11841069\n",
      "    sz: 2960267\n",
      "    bwtSz: 2960268\n",
      "    lineRate: 6\n",
      "    linesPerSide: 1\n",
      "    offRate: 5\n",
      "    offMask: 0xffffffe0\n",
      "    isaRate: -1\n",
      "    isaMask: 0xffffffff\n",
      "    ftabChars: 10\n",
      "    eftabLen: 20\n",
      "    eftabSz: 80\n",
      "    ftabLen: 1048577\n",
      "    ftabSz: 4194308\n",
      "    offsLen: 370034\n",
      "    offsSz: 1480136\n",
      "    isaLen: 0\n",
      "    isaSz: 0\n",
      "    lineSz: 64\n",
      "    sideSz: 64\n",
      "    sideBwtSz: 56\n",
      "    sideBwtLen: 224\n",
      "    numSidePairs: 26431\n",
      "    numSides: 52862\n",
      "    numLines: 52862\n",
      "    ebwtTotLen: 3383168\n",
      "    ebwtTotSz: 3383168\n",
      "    reverse: 0\n",
      "Total time for backward call to driver() for mirror index: 00:00:07\n"
     ]
    }
   ],
   "source": [
    "FA_INDEX = FA.strip(\".fa\") + \".ebwt\"\n",
    "\n",
    "cmd = [os.path.join(BOWTIE_PATH, \"bowtie-build\"),\n",
    "       \n",
    "       FA,\n",
    "       FA_INDEX\n",
    "       \n",
    "      ]\n",
    "if os.path.exists(FA_INDEX) is False:\n",
    "    sp.call(\" \".join(cmd), shell=True)"
   ]
  },
  {
   "cell_type": "markdown",
   "id": "d0120a55",
   "metadata": {},
   "source": [
    "## align seed to common mpra\n",
    "-- allow for 3 gaps"
   ]
  },
  {
   "cell_type": "code",
   "execution_count": 13,
   "id": "5c0ec8b7",
   "metadata": {
    "ExecuteTime": {
     "end_time": "2023-05-31T21:11:42.050319Z",
     "start_time": "2023-05-31T21:11:42.044352Z"
    }
   },
   "outputs": [],
   "source": [
    "def bowTieOneFile(file, index, nsubs):\n",
    "    \"\"\"\n",
    "    run bowtie on 1 file w/ index file, write to out file\n",
    "    \n",
    "    input\n",
    "        file (str) - path to file with sequences to evaluate w/ bowtie (just a text file)\n",
    "        index (str) - path to index fa file (run before!)\n",
    "        nsubs (int) - number of substitutions to tolerate in alignment. \n",
    "    \n",
    "    method\n",
    "        1. make variable to bowtie bin, outfile to write\n",
    "        2. compile command w/ \n",
    "            index file, \n",
    "            file to run, \n",
    "            -v (number of substitutions to look for), \n",
    "            and where to write results\n",
    "        3. launch the command \n",
    "    return \n",
    "        out (str) - path to written file\n",
    "    \"\"\"\n",
    "    \n",
    "    #1\n",
    "    BOWTIE = os.path.join(\"/wynton/home/ahituv/fongsl/bin/bowtie\", \"bowtie\")\n",
    "    OUT = os.path.split(file)[0] + f\".bowtie.v{nsubs}.tsv\"\n",
    "    \n",
    "    #2\n",
    "    cmd = [BOWTIE,\n",
    "       \"-x\", index,\n",
    "       \"-r\", file, \n",
    "       \"-v\", str(nsubs),  \n",
    "       \">\", OUT,\n",
    "      ]\n",
    "    \n",
    "    #3\n",
    "    print(\" \".join(cmd))\n",
    "\n",
    "    sp.call(\" \".join(cmd), shell=True)\n",
    "    \n",
    "    return OUT"
   ]
  },
  {
   "cell_type": "markdown",
   "id": "91871531",
   "metadata": {},
   "source": [
    "## tolerate 3 substitutions"
   ]
  },
  {
   "cell_type": "code",
   "execution_count": 14,
   "id": "024319e1",
   "metadata": {
    "ExecuteTime": {
     "end_time": "2023-05-31T21:11:45.546743Z",
     "start_time": "2023-05-31T21:11:44.649089Z"
    }
   },
   "outputs": [
    {
     "name": "stdout",
     "output_type": "stream",
     "text": [
      "/wynton/home/ahituv/fongsl/bin/bowtie/bowtie -x /wynton/home/ahituv/fongsl/MPRA/agarwal_2023/joint_library.liftOver.to.hs1.ebwt -r /wynton/home/ahituv/fongsl/dna/hs1/kmers/15mers/SEED_15mer.firstorder.pam.purine.nohomopoly.GC.morethan.1bp_related.tsv -v 3 > /wynton/home/ahituv/fongsl/dna/hs1/kmers/15mers.bowtie.v3.tsv\n"
     ]
    },
    {
     "name": "stderr",
     "output_type": "stream",
     "text": [
      "# reads processed: 4224\n",
      "# reads with at least one alignment: 0 (0.00%)\n",
      "# reads that failed to align: 4224 (100.00%)\n",
      "No alignments\n"
     ]
    }
   ],
   "source": [
    "nsubs = 3\n",
    "out = bowTieOneFile(seed, FA_INDEX, nsubs)"
   ]
  },
  {
   "cell_type": "markdown",
   "id": "80362411",
   "metadata": {},
   "source": [
    "##### results \n",
    "\n",
    "- v 3\n",
    "    -  reads processed: 4224\n",
    "    -  reads with at least one alignment: 57784 (100.00%)\n",
    "    -  reads that failed to align: 0 (0.00%)\n",
    "Reported 57784 alignments"
   ]
  },
  {
   "cell_type": "markdown",
   "id": "74e149d2",
   "metadata": {},
   "source": [
    "# find matched kmers"
   ]
  },
  {
   "cell_type": "code",
   "execution_count": 15,
   "id": "fd87d944",
   "metadata": {
    "ExecuteTime": {
     "end_time": "2023-05-31T21:12:06.177136Z",
     "start_time": "2023-05-31T21:12:06.144300Z"
    }
   },
   "outputs": [
    {
     "data": {
      "text/html": [
       "<div>\n",
       "<style scoped>\n",
       "    .dataframe tbody tr th:only-of-type {\n",
       "        vertical-align: middle;\n",
       "    }\n",
       "\n",
       "    .dataframe tbody tr th {\n",
       "        vertical-align: top;\n",
       "    }\n",
       "\n",
       "    .dataframe thead th {\n",
       "        text-align: right;\n",
       "    }\n",
       "</style>\n",
       "<table border=\"1\" class=\"dataframe\">\n",
       "  <thead>\n",
       "    <tr style=\"text-align: right;\">\n",
       "      <th></th>\n",
       "      <th>id</th>\n",
       "      <th>strand</th>\n",
       "      <th>coor</th>\n",
       "      <th>alignPos</th>\n",
       "      <th>seq</th>\n",
       "      <th>ascii</th>\n",
       "      <th>m</th>\n",
       "      <th>ref&gt;alt</th>\n",
       "      <th>kmer</th>\n",
       "    </tr>\n",
       "  </thead>\n",
       "  <tbody>\n",
       "  </tbody>\n",
       "</table>\n",
       "</div>"
      ],
      "text/plain": [
       "Empty DataFrame\n",
       "Columns: [id, strand, coor, alignPos, seq, ascii, m, ref>alt, kmer]\n",
       "Index: []"
      ]
     },
     "execution_count": 15,
     "metadata": {},
     "output_type": "execute_result"
    }
   ],
   "source": [
    "bowtie = pd.read_csv(out, sep='\\t', header=None, \n",
    "                     names=['id', \"strand\", \"coor\", \"alignPos\", \"seq\", \n",
    "                           \"ascii\", \"m\",\"ref>alt\" ]\n",
    "                    )\n",
    "bowtie[\"kmer\"]= \"\"\n",
    "bowtie.head()"
   ]
  },
  {
   "cell_type": "markdown",
   "id": "f85460c1",
   "metadata": {},
   "source": [
    "## make kmers by inserting ref sequence into nullomers"
   ]
  },
  {
   "cell_type": "code",
   "execution_count": 21,
   "id": "8585c8d3",
   "metadata": {
    "ExecuteTime": {
     "end_time": "2023-05-11T20:19:15.897375Z",
     "start_time": "2023-05-11T20:19:12.063157Z"
    }
   },
   "outputs": [
    {
     "data": {
      "text/plain": [
       "57270"
      ]
     },
     "execution_count": 21,
     "metadata": {},
     "output_type": "execute_result"
    }
   ],
   "source": [
    "# dictionary to collect kmer match\n",
    "kmer_dict = {}\n",
    "\n",
    "for row in bowtie.iterrows():\n",
    "    seq = row[1][\"seq\"] \n",
    "    muts = row[1][\"ref>alt\"].split(\",\")\n",
    "    \n",
    "    # copy the nullomer sequence\n",
    "    null = seq[:]\n",
    "\n",
    "    # mutate the nullomer sequence back to ref\n",
    "    for m in muts:\n",
    "        alt = m.split(\">\")[1]\n",
    "        ref = (m.split(\">\")[0]).split(\":\")[1]\n",
    "        pos = int(m.split(\":\")[0])\n",
    "        \n",
    "        # make ref seq, one base at a time. \n",
    "        seq = seq[:pos] + ref + seq[pos+1:]\n",
    "\n",
    "    # add to dictionary\n",
    "    kmer_dict[null]=seq\n",
    "\n",
    "len(kmer_dict.keys())"
   ]
  },
  {
   "cell_type": "markdown",
   "id": "8081d1c6",
   "metadata": {},
   "source": [
    "# make kmer - concatemer dataframe"
   ]
  },
  {
   "cell_type": "code",
   "execution_count": 23,
   "id": "fcf3b408",
   "metadata": {
    "ExecuteTime": {
     "end_time": "2023-05-11T20:19:44.782570Z",
     "start_time": "2023-05-11T20:19:44.767094Z"
    }
   },
   "outputs": [],
   "source": [
    "def prettifySeq(original, mut):\n",
    "    \"\"\"\n",
    "    prettify sequence. \n",
    "        All matching bases will be written as \".\"\n",
    "        All non matching bases will be written w mutated base identity. \n",
    "    \"\"\"\n",
    "    prettyseq = \"\"\n",
    "    for o, m in zip(original, mut):\n",
    "        if o != m:\n",
    "            prettyseq += m\n",
    "        else:\n",
    "            prettyseq += \".\"\n",
    "\n",
    "    return prettyseq"
   ]
  },
  {
   "cell_type": "code",
   "execution_count": 24,
   "id": "2aec8bcf",
   "metadata": {
    "ExecuteTime": {
     "end_time": "2023-05-11T20:19:56.646592Z",
     "start_time": "2023-05-11T20:19:54.535236Z"
    }
   },
   "outputs": [
    {
     "name": "stdout",
     "output_type": "stream",
     "text": [
      "..........G..G.........T............T..G...........C.......G.A......C.......G..G.C........A...........C....G.......T.....T........T...........A......GA..............C.......G......G....G....G....\n"
     ]
    }
   ],
   "source": [
    "results = {}\n",
    "for n, i in enumerate(collection.values()):\n",
    "    \n",
    "    concate_null, array, gc_null = i[0], i[1], i[2]\n",
    "    \n",
    "    # build kmer sequence given nullomer sequence order. \n",
    "    seq = \"\"\n",
    "    \n",
    "    for null in array.tolist():\n",
    "        \n",
    "        # consider both the forward and reverse complement. \n",
    "        rev = Seq(null).reverse_complement()\n",
    "        \n",
    "        if null in kmer_dict:\n",
    "            seq+=kmer_dict[null]\n",
    "\n",
    "        elif rev in kmer_dict:  # if the reverse complement is in the dictionary\n",
    "            seq += Seq(kmer_dict[rev]).reverse_complement() # reverse the reverse complement. \n",
    "            \n",
    "        else:\n",
    "            print(\"no kmer\", null)\n",
    "    \n",
    "    # get kmer GC fraction\n",
    "    gc_kmer = gc_fraction(seq)\n",
    "    \n",
    "    # add dataframe of results to results dictionary. \n",
    "    results[n] = pd.DataFrame([concate_null, str(seq), gc_null, gc_kmer, \",\".join(array.tolist())]).T\n",
    "    \n",
    "    # print example of the kmer and nullomer sequence differences\n",
    "    if n ==0:\n",
    "        print(prettifySeq(seq, concate_null))\n"
   ]
  },
  {
   "cell_type": "code",
   "execution_count": 25,
   "id": "beb6689e",
   "metadata": {
    "ExecuteTime": {
     "end_time": "2023-05-11T20:20:02.963162Z",
     "start_time": "2023-05-11T20:20:02.691180Z"
    }
   },
   "outputs": [
    {
     "data": {
      "text/html": [
       "<div>\n",
       "<style scoped>\n",
       "    .dataframe tbody tr th:only-of-type {\n",
       "        vertical-align: middle;\n",
       "    }\n",
       "\n",
       "    .dataframe tbody tr th {\n",
       "        vertical-align: top;\n",
       "    }\n",
       "\n",
       "    .dataframe thead th {\n",
       "        text-align: right;\n",
       "    }\n",
       "</style>\n",
       "<table border=\"1\" class=\"dataframe\">\n",
       "  <thead>\n",
       "    <tr style=\"text-align: right;\">\n",
       "      <th></th>\n",
       "      <th>nullConcat</th>\n",
       "      <th>kmerConcat</th>\n",
       "      <th>nullGC</th>\n",
       "      <th>kmerGC</th>\n",
       "      <th>null_array</th>\n",
       "    </tr>\n",
       "  </thead>\n",
       "  <tbody>\n",
       "    <tr>\n",
       "      <th>0</th>\n",
       "      <td>TATTACGGTCGCGGGGTATTCGCTAGCGGGTATCTATCGGCGCGGA...</td>\n",
       "      <td>TATTACGGTCCCGCGGTATTCGCAAGCGGGTATCTAACGCCGCGGA...</td>\n",
       "      <td>0.589744</td>\n",
       "      <td>0.579487</td>\n",
       "      <td>TATTACGGTCGCGGG,GTATTCGCTAGCGGG,TATCTATCGGCGCG...</td>\n",
       "    </tr>\n",
       "    <tr>\n",
       "      <th>0</th>\n",
       "      <td>TTGACGCGATCGAGGCGTAGAGTTACGCGGCGTATACGATACGGGT...</td>\n",
       "      <td>CTGAGGTGATCGAGGCGGAGAGTTACGAGGCGTATACCAAACGGGT...</td>\n",
       "      <td>0.579487</td>\n",
       "      <td>0.564103</td>\n",
       "      <td>TTGACGCGATCGAGG,CGTAGAGTTACGCGG,CGTATACGATACGG...</td>\n",
       "    </tr>\n",
       "    <tr>\n",
       "      <th>0</th>\n",
       "      <td>CGTCGACGATACTGGCGAACCGTAAACGGGACGCGCGATAGTTGGT...</td>\n",
       "      <td>CGTCGATGATACGGGAGAACCGGAAACGGGACGCGCGATAGTTGGT...</td>\n",
       "      <td>0.589744</td>\n",
       "      <td>0.589744</td>\n",
       "      <td>CGTCGACGATACTGG,CGAACCGTAAACGGG,ACGCGCGATAGTTG...</td>\n",
       "    </tr>\n",
       "    <tr>\n",
       "      <th>0</th>\n",
       "      <td>TATGATACCGCGCGGCGTATAGTCGGACGGACACGCGTAACGTGGC...</td>\n",
       "      <td>TATCATACCGCGCGGCATATTGTCGGACGGACACGCCTAACGGGGC...</td>\n",
       "      <td>0.6</td>\n",
       "      <td>0.584615</td>\n",
       "      <td>TATGATACCGCGCGG,CGTATAGTCGGACGG,ACACGCGTAACGTG...</td>\n",
       "    </tr>\n",
       "    <tr>\n",
       "      <th>0</th>\n",
       "      <td>AAAGTTAACGCGCGGCATATTCGACCGCGGCTCGACACGTATCGGA...</td>\n",
       "      <td>AAAGTGAAGGCGCGGCATATTCGACCCCGGCTCGCCACGGATGGGA...</td>\n",
       "      <td>0.594872</td>\n",
       "      <td>0.620513</td>\n",
       "      <td>AAAGTTAACGCGCGG,CATATTCGACCGCGG,CTCGACACGTATCG...</td>\n",
       "    </tr>\n",
       "  </tbody>\n",
       "</table>\n",
       "</div>"
      ],
      "text/plain": [
       "                                          nullConcat  \\\n",
       "0  TATTACGGTCGCGGGGTATTCGCTAGCGGGTATCTATCGGCGCGGA...   \n",
       "0  TTGACGCGATCGAGGCGTAGAGTTACGCGGCGTATACGATACGGGT...   \n",
       "0  CGTCGACGATACTGGCGAACCGTAAACGGGACGCGCGATAGTTGGT...   \n",
       "0  TATGATACCGCGCGGCGTATAGTCGGACGGACACGCGTAACGTGGC...   \n",
       "0  AAAGTTAACGCGCGGCATATTCGACCGCGGCTCGACACGTATCGGA...   \n",
       "\n",
       "                                          kmerConcat    nullGC    kmerGC  \\\n",
       "0  TATTACGGTCCCGCGGTATTCGCAAGCGGGTATCTAACGCCGCGGA...  0.589744  0.579487   \n",
       "0  CTGAGGTGATCGAGGCGGAGAGTTACGAGGCGTATACCAAACGGGT...  0.579487  0.564103   \n",
       "0  CGTCGATGATACGGGAGAACCGGAAACGGGACGCGCGATAGTTGGT...  0.589744  0.589744   \n",
       "0  TATCATACCGCGCGGCATATTGTCGGACGGACACGCCTAACGGGGC...       0.6  0.584615   \n",
       "0  AAAGTGAAGGCGCGGCATATTCGACCCCGGCTCGCCACGGATGGGA...  0.594872  0.620513   \n",
       "\n",
       "                                          null_array  \n",
       "0  TATTACGGTCGCGGG,GTATTCGCTAGCGGG,TATCTATCGGCGCG...  \n",
       "0  TTGACGCGATCGAGG,CGTAGAGTTACGCGG,CGTATACGATACGG...  \n",
       "0  CGTCGACGATACTGG,CGAACCGTAAACGGG,ACGCGCGATAGTTG...  \n",
       "0  TATGATACCGCGCGG,CGTATAGTCGGACGG,ACACGCGTAACGTG...  \n",
       "0  AAAGTTAACGCGCGG,CATATTCGACCGCGG,CTCGACACGTATCG...  "
      ]
     },
     "execution_count": 25,
     "metadata": {},
     "output_type": "execute_result"
    }
   ],
   "source": [
    "# combine all the dataframes\n",
    "matched = pd.concat(results.values())\n",
    "\n",
    "# name columns\n",
    "matched.columns = [\"nullConcat\", \"kmerConcat\", \"nullGC\", \"kmerGC\", \"null_array\"]\n",
    "\n",
    "matched.head()"
   ]
  },
  {
   "cell_type": "code",
   "execution_count": 26,
   "id": "e9eba602",
   "metadata": {
    "ExecuteTime": {
     "end_time": "2023-05-11T20:20:11.926468Z",
     "start_time": "2023-05-11T20:20:11.919778Z"
    }
   },
   "outputs": [
    {
     "data": {
      "text/plain": [
       "(4445, 5)"
      ]
     },
     "execution_count": 26,
     "metadata": {},
     "output_type": "execute_result"
    }
   ],
   "source": [
    "matched.shape"
   ]
  },
  {
   "cell_type": "markdown",
   "id": "ed81fc10",
   "metadata": {},
   "source": [
    "## write matched to csv"
   ]
  },
  {
   "cell_type": "code",
   "execution_count": 27,
   "id": "d6f89c1c",
   "metadata": {
    "ExecuteTime": {
     "end_time": "2023-05-11T20:20:14.195627Z",
     "start_time": "2023-05-11T20:20:13.933863Z"
    }
   },
   "outputs": [],
   "source": [
    "matched.to_csv(TSV_MUTCONCAT, sep='\\t', index=False)"
   ]
  },
  {
   "cell_type": "code",
   "execution_count": 28,
   "id": "77e98dbc",
   "metadata": {
    "ExecuteTime": {
     "end_time": "2023-05-11T20:20:57.978829Z",
     "start_time": "2023-05-11T20:20:57.973691Z"
    }
   },
   "outputs": [
    {
     "data": {
      "text/plain": [
       "'/wynton/home/ahituv/fongsl/nullomers/data/lock/common/common.15mers.2mut.nulls.fo.pam.CONCAT-13.tsv'"
      ]
     },
     "execution_count": 28,
     "metadata": {},
     "output_type": "execute_result"
    }
   ],
   "source": [
    "TSV_MUTCONCAT"
   ]
  },
  {
   "cell_type": "markdown",
   "id": "053c5926",
   "metadata": {},
   "source": [
    "# other tools, analyses"
   ]
  },
  {
   "cell_type": "code",
   "execution_count": 132,
   "id": "cb77f4e6",
   "metadata": {
    "ExecuteTime": {
     "end_time": "2023-04-25T21:02:54.768737Z",
     "start_time": "2023-04-25T21:02:54.763571Z"
    }
   },
   "outputs": [],
   "source": [
    "def bowTieOneSeq(seq):\n",
    "    \n",
    "    cmd = [os.path.join(BOWTIE_PATH, \"bowtie\"),\n",
    "       \"-x\", FA_INDEX,\n",
    "       \"-c\", seq, \n",
    "       \"-v 2\", \n",
    "       \">\", out,\n",
    "      ]\n",
    "    print(\" \".join(cmd))\n",
    "    \n",
    "    if os.path.exists(FA_INDEX) is False:\n",
    "        sp.call(\" \".join(cmd), shell=True)"
   ]
  },
  {
   "cell_type": "code",
   "execution_count": 224,
   "id": "08754bb9",
   "metadata": {
    "ExecuteTime": {
     "end_time": "2023-04-25T22:17:08.995733Z",
     "start_time": "2023-04-25T22:17:08.987900Z"
    }
   },
   "outputs": [
    {
     "data": {
      "text/plain": [
       "'.........C.....'"
      ]
     },
     "execution_count": 224,
     "metadata": {},
     "output_type": "execute_result"
    }
   ],
   "source": [
    "i = 'TCGCTAGTCGCGTGG'\n",
    "o = \"CCACGCGACCAGCGA\"\n",
    "prettifySeq(i, o)\n",
    "\n",
    "prettifySeq(Seq(i).reverse_complement(), o)"
   ]
  },
  {
   "cell_type": "code",
   "execution_count": null,
   "id": "31b74f90",
   "metadata": {},
   "outputs": [],
   "source": []
  }
 ],
 "metadata": {
  "kernelspec": {
   "display_name": "Python (wynenv)",
   "language": "python",
   "name": "wynenv"
  },
  "language_info": {
   "codemirror_mode": {
    "name": "ipython",
    "version": 3
   },
   "file_extension": ".py",
   "mimetype": "text/x-python",
   "name": "python",
   "nbconvert_exporter": "python",
   "pygments_lexer": "ipython3",
   "version": "3.10.8"
  },
  "toc": {
   "base_numbering": 1,
   "nav_menu": {},
   "number_sections": true,
   "sideBar": true,
   "skip_h1_title": false,
   "title_cell": "Table of Contents",
   "title_sidebar": "Contents",
   "toc_cell": false,
   "toc_position": {},
   "toc_section_display": true,
   "toc_window_display": true
  },
  "varInspector": {
   "cols": {
    "lenName": 16,
    "lenType": 16,
    "lenVar": 40
   },
   "kernels_config": {
    "python": {
     "delete_cmd_postfix": "",
     "delete_cmd_prefix": "del ",
     "library": "var_list.py",
     "varRefreshCmd": "print(var_dic_list())"
    },
    "r": {
     "delete_cmd_postfix": ") ",
     "delete_cmd_prefix": "rm(",
     "library": "var_list.r",
     "varRefreshCmd": "cat(var_dic_list()) "
    }
   },
   "types_to_exclude": [
    "module",
    "function",
    "builtin_function_or_method",
    "instance",
    "_Feature"
   ],
   "window_display": false
  }
 },
 "nbformat": 4,
 "nbformat_minor": 5
}
