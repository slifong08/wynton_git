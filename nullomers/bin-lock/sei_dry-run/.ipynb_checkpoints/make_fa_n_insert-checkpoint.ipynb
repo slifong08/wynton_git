{
 "cells": [
  {
   "cell_type": "code",
   "execution_count": 1,
   "id": "e071c404",
   "metadata": {
    "ExecuteTime": {
     "end_time": "2023-03-30T20:27:11.538684Z",
     "start_time": "2023-03-30T20:27:06.793850Z"
    }
   },
   "outputs": [],
   "source": [
    "from Bio.SeqIO.FastaIO import SimpleFastaParser\n",
    "import os, sys\n",
    "import pandas as pd"
   ]
  },
  {
   "cell_type": "code",
   "execution_count": 2,
   "id": "0f14dedc",
   "metadata": {
    "ExecuteTime": {
     "end_time": "2023-03-30T20:27:12.550503Z",
     "start_time": "2023-03-30T20:27:12.531687Z"
    }
   },
   "outputs": [
    {
     "data": {
      "text/plain": [
       "'/wynton/home/ahituv/fongsl/nullomers/bin-lock/sei'"
      ]
     },
     "execution_count": 2,
     "metadata": {},
     "output_type": "execute_result"
    }
   ],
   "source": [
    "os.getcwd()"
   ]
  },
  {
   "cell_type": "code",
   "execution_count": 3,
   "id": "e87ae3e7",
   "metadata": {
    "ExecuteTime": {
     "end_time": "2023-03-30T20:27:13.334044Z",
     "start_time": "2023-03-30T20:27:13.329206Z"
    }
   },
   "outputs": [],
   "source": [
    "BED2FA=\"/wynton/home/ahituv/fongsl/tools/genome/fasta_from_bed.py\"\n",
    "BED = './gapdh.bed'"
   ]
  },
  {
   "cell_type": "code",
   "execution_count": 7,
   "id": "c4fcdb3e",
   "metadata": {
    "ExecuteTime": {
     "end_time": "2023-03-30T22:08:04.806732Z",
     "start_time": "2023-03-30T22:08:04.798485Z"
    }
   },
   "outputs": [],
   "source": [
    "def extendBed(bed, flanksize):\n",
    "    \"\"\"\n",
    "    expand bed\n",
    "    \n",
    "    require\n",
    "        bedtools slop\n",
    "        wynton\n",
    "    \n",
    "    input\n",
    "        bed (str) - path to bed file\n",
    "        flanksize (int) - length to extend bed coordinates by\n",
    "    \n",
    "    method \n",
    "        1. get genome size. \n",
    "        2. make outfile name\n",
    "        3. bedtools slop command\n",
    "        \n",
    "    return\n",
    "        out (str) - path to results.bed\n",
    "    \"\"\"\n",
    "    genome = \"/wynton/home/ahituv/fongsl/dna/hg38/hg38.chrom.sizes\"\n",
    "    \n",
    "    path, file= os.path.split(bed)\n",
    "    out = os.path.join(path, file.strip(\".bed\") + f\".{flanksize}.bed\")\n",
    "    cmd = f\"bedtools slop -i {bed} -g {genome} -b {flanksize} > {out}\"\n",
    "    os.system(cmd)\n",
    "    \n",
    "    return out"
   ]
  },
  {
   "cell_type": "code",
   "execution_count": 8,
   "id": "bd804f22",
   "metadata": {
    "ExecuteTime": {
     "end_time": "2023-03-30T22:08:10.539172Z",
     "start_time": "2023-03-30T22:08:06.690428Z"
    }
   },
   "outputs": [
    {
     "name": "stderr",
     "output_type": "stream",
     "text": [
      "Error: The requested file (./gapdh.bed) could not be opened. Error message: (No such file or directory). Exiting!\n"
     ]
    }
   ],
   "source": [
    "# Assumes the bed file annotates 1 single nucleotide\n",
    "flanksize = 2048\n",
    "out = extendBed(BED, flanksize)"
   ]
  },
  {
   "cell_type": "markdown",
   "id": "aa47ad15",
   "metadata": {
    "ExecuteTime": {
     "end_time": "2023-03-28T22:49:11.748472Z",
     "start_time": "2023-03-28T22:49:11.740943Z"
    }
   },
   "source": [
    "# bed -> FA"
   ]
  },
  {
   "cell_type": "code",
   "execution_count": 21,
   "id": "74eab5a6",
   "metadata": {
    "ExecuteTime": {
     "end_time": "2023-03-28T22:54:27.026118Z",
     "start_time": "2023-03-28T22:54:26.894832Z"
    }
   },
   "outputs": [
    {
     "name": "stdout",
     "output_type": "stream",
     "text": [
      "wrote /wynton/home/ahituv/fongsl/nullomers/bin-lock/./gapdh.2048.fa\n",
      "/wynton/home/ahituv/fongsl/nullomers/bin-lock/./gapdh.2048.fa\n"
     ]
    }
   ],
   "source": [
    "cmd = f\"python {BED2FA} {os.path.join(os.getcwd(),out)} -b hg38\"\n",
    "os.system(cmd)\n",
    "\n",
    "fa = os.path.join(os.getcwd(),out).strip(\".bed\") + \".fa\"\n",
    "print(fa)"
   ]
  },
  {
   "cell_type": "markdown",
   "id": "41c0fba2",
   "metadata": {},
   "source": [
    "# inserts"
   ]
  },
  {
   "cell_type": "code",
   "execution_count": 52,
   "id": "cd4065cd",
   "metadata": {
    "ExecuteTime": {
     "end_time": "2023-03-28T23:26:14.118523Z",
     "start_time": "2023-03-28T23:26:14.110940Z"
    }
   },
   "outputs": [],
   "source": [
    "def makeInsertDict(file):\n",
    "    \n",
    "    insert_dict = {}\n",
    "    val=0\n",
    "    with open(file, \"r\") as reader:\n",
    "        for line in reader:\n",
    "            insert_dict[val] = line.strip(\"\\n\")\n",
    "            val+=1\n",
    "        reader.close()\n",
    "    return insert_dict"
   ]
  },
  {
   "cell_type": "code",
   "execution_count": 53,
   "id": "7108f1e6",
   "metadata": {
    "ExecuteTime": {
     "end_time": "2023-03-28T23:26:40.189185Z",
     "start_time": "2023-03-28T23:26:28.239188Z"
    }
   },
   "outputs": [],
   "source": [
    "ENDOG_14mers=\"/wynton/home/ahituv/fongsl/dna/hs1/kmers/14mers/14mer.firstorder.pam.purine.nohomopoly.GC.txt\"\n",
    "\n",
    "insert_dict = makeInsertDict(ENDOG_14mers)"
   ]
  },
  {
   "cell_type": "code",
   "execution_count": 57,
   "id": "ee55a837",
   "metadata": {
    "ExecuteTime": {
     "end_time": "2023-03-28T23:27:43.868937Z",
     "start_time": "2023-03-28T23:27:43.863834Z"
    }
   },
   "outputs": [],
   "source": [
    "insert_seq = insert_dict[0]"
   ]
  },
  {
   "cell_type": "markdown",
   "id": "48b18363",
   "metadata": {},
   "source": [
    "# insert nullomer into 4096 window\n",
    "\n",
    "- rn, only test first 100"
   ]
  },
  {
   "cell_type": "code",
   "execution_count": 60,
   "id": "03d98aef",
   "metadata": {
    "ExecuteTime": {
     "end_time": "2023-03-28T23:28:48.434945Z",
     "start_time": "2023-03-28T23:28:48.428097Z"
    }
   },
   "outputs": [],
   "source": [
    "def seqInsert(seq, insert_seq):\n",
    "\n",
    "    insert_size = len(insert_seq)\n",
    "    \n",
    "    # find center of sequence, subtract 1/2 of insert length, get center start\n",
    "    insert_start = len(seq)/2 - (insert_size/2)\n",
    "    insert_end = insert_start + insert_size  # find center end\n",
    "    \n",
    "\n",
    "    return seq[:int(insert_start)] + insert_seq + seq[int(insert_end):]"
   ]
  },
  {
   "cell_type": "code",
   "execution_count": 85,
   "id": "60606ed7",
   "metadata": {
    "ExecuteTime": {
     "end_time": "2023-03-29T00:08:00.534489Z",
     "start_time": "2023-03-29T00:08:00.520012Z"
    }
   },
   "outputs": [],
   "source": [
    "INSERT_SIZE = 23\n",
    "\n",
    "outfasta = fa.strip('.fa') + \".100.14mers.fa\"\n",
    "fasta_writer = open(outfasta, \"w\")\n",
    "\n",
    "# parse the fasta\n",
    "with open(fa, \"r\") as fasta_reader:\n",
    "    \n",
    "    for values in SimpleFastaParser(fasta_reader):\n",
    "\n",
    "        name, seq = values\n",
    "        \n",
    "        # only write the first 100 sequences\n",
    "        for n in np.arange(100):\n",
    "            \n",
    "            insert_seq = insert_dict[n] # get insert\n",
    "\n",
    "            new_seq = seqInsert(seq, insert_seq)  # get new seq w insert at center \n",
    "\n",
    "            newname = f\">{insert_seq}\"  # write new name\n",
    "            \n",
    "            #print(newname, \"\\n\", new_seq, len(new_seq), len(seq))\n",
    "            \n",
    "            # write to fasta\n",
    "            row=f\"{newname}\\n{new_seq}\\n\"\n",
    "            fasta_writer.write(row)\n",
    "\n",
    "    fasta_writer.close()"
   ]
  },
  {
   "cell_type": "code",
   "execution_count": 86,
   "id": "0253bce8",
   "metadata": {
    "ExecuteTime": {
     "end_time": "2023-03-29T00:08:01.406974Z",
     "start_time": "2023-03-29T00:08:01.400175Z"
    }
   },
   "outputs": [
    {
     "data": {
      "text/plain": [
       "'>ATGTGTTGCTACGCGATCGACGG\\nTAGGAAGTCTGTTCCTGTCCTCCCTGTGCAGGGTATCCTGTAGGGTGACCTGGAATTCGAATTCTGTTTCCCTTGTAAAATATTTGTCTGTCTCTTTTTTTTAAAAAAAAAAAAggccgggcactgtggctcacgcctgtaatcccagcactttgcgataccaaggcgggtggataacctgaggtagggagttcgagaccagcctgaccaacatggagaaaccccatctctactaaaaataaaaaattagccgggcgtattggcgtgcgcctgtaatcccagctactcaagaggctgaggcaggagaatcgcctgaacccagaggcggaggttgtagtgagccgaaatcacaccattgcactccagcttgggcaacaatagcgaacctccatctcaaattaaaaaaaaaaTGCCTACACGCTCTTTAAAATGCAAGGCTTTCTCTTAAATTAGCCTAACTGAACTGCGTTGAGCTGCTTCAACTTTGGAATATATGTTTGCCAATCTCCTTGTTTTCTAATGAATAAATGTTTTTATATACTTTTAGACATTTTTTCCTAAGCTTGTCTTTGTTTCATCTTTCACATTAGCCCAGTTTCATGCAGCAGAGAGAGGGTTATCAGTGCAGAGAGAGATGAGTGAGCCCAGAGTCCTAGGGCCTGTCCCGGGATGGCAGATGAGCTTCCTGCCCCGTCACTGCCACCTTTCCCCTCTCAACCTCTGGACCCTGCACAGTGACCAGACAGCCTCTCTGGGGAGAATTATGCAGTGCCTAGGCTCCAGATcagtgcttctgaaccgggggcaattttgtctgccagaggacatctgacaacacctggggcctgttttgttgtcatagcctataggggaagaatgctaccagcatttgtgggaagaggccagggatgtggctcaacatcctgcagtgcacaggatggcccctcaacaaagaatcacacggcccacaatgtcaatagcgtcacagttgagaaaacctgCTCTAGACCAAGGGTTGCTTTCTGCCGTGTGCCTCACCCCACCCCCACTCGTGTTCCCTAATCCCATCTCCAAAGGTTGGCAGCAGACCGGCCCAGGCTCGTGGAAGTTCAGATCATGATCCCCTCCAGCTCTGCAGGAGACAAGACCTGTCTCCCAGCATTCCTCATTGTTCCCGGGTCTGCAGAGGGCGTGAGCTATGCTGCAGGCGGGCTGCCCCCTGAAGCCTGCGCACCCCTCTCCAGCTCCTCAAGTCTTCTCTGCTGAGTCACCTTCGAACCGGAGGCTGTGAGCTGGCTGTCGTGACCACACTGGTGCCTCTGCTGTCATGACAACAGCACACTACGTCAGTAGTGCTCCCTGGGCACTGAGCTCCCTCTTTGCGGGGAGAAGACAGTAATGAAAAATGACAAGCATGAGGCAGAGGGGAAGATCACGCTTGGGTGGTGCAGGAGCATGGAGGTGCTCTTAATGCTCTCAATGAGAAAGGGTTAACGGTCCTGGTTGCAGGAATAGCTGAGTCAGAGGTGGGGCTTCCTCCACTCCCCCACCCCACCCCTTTCACCATTAGGGACCTTCTTGCCTTGCTCTTGCTACTCTGCTCTGGGTGGTCATTGTGAAAAGCCCGCACCAACCATGCCAGTGGCAGCCAGACGAGGACACAGCCTGGCTCTGGGTCCCAGCAGGAAAGGCAATCCCAGAAAGGCAGGGTCAGGGACTGGAGTCCTGTGGGTGCTTTTTAAGCAAAGATTATCACCAGGCAGGCTAAACTTAGCAACCGGCTTTTAGCTAGAAGGGCAGGGGGCTGGTGTCAGGTTATGCTGGGCCAGCAAAGAGGCCCGGGATCCCCCTCCCATGCACCTGCTGATGGGCCAAGGCCACCCCACCCCACCCCCTTCCTTACAAGTGTTCAGCACCCTCCCATCCCACACTCACAAACCTGGCCCTCTGCCCTCCTACCAGAAGAATGGATCCCCTGTGGGAGGGGGCAGGGGACCTGTTCCCACCGTGTGCCCAAGACCTCTTTTCCCACTTTTTATGTGTTGCTACGCGATCGACGGCTCAATATCCCCCGGCGCAGCCAGTGAAAGGGAGTCCCTGGCTCCTGGCTCGCCTGCACGTCCCAGGGCGGGGAGGGACTTCCGCCCTCACGTCCCGCTCTTCGCCCCAGGCTGGATGGAATGAAAGGCACACTGTCTCTCTCCCTAGGCAGCACAGCCCACAGGTTTCCAGGAGTGCCTTTGTGGGAGGCCTCTGGGCCCCCACCAGCCATCCTGTCCTCCGCCTGGGGCCCCAGCCCGGAGAGAGCCGCTGGTGCACACAGGGCCGGGATTGTCTGCCCTAATTATCAGGTCCAGGCTACAGGGCTGCAGGACATCGTGACCTTCCGTGCAGAAACCTCCCCCTCCCCCTCAAGCCGCCTCCCGAGCCTCCTTCCTCTCCAGGCCcccagtgcccagtgcccagtgcccagcccaggcctcggtcccagAGATGCCAGGAGCCAGGAGATGGGGAGGGGGAAGTGGGGGCTGGGAAGGAACCACGGGCCCCCGCCCGAGGCCCATGGGCCCCTCCTAGGCCTTTGCCTGAGCAGTCCGGTGTCACTACCGCAGAGCCTCGAGGAGAAGTTCCCCAACTTTCCCGCCTCTCAGCCTTTGAAAGAAAGAAAGGGGAGGGGGCAGGCCGCGTGCAGCCGCGAGCGGTGCTGGGCTCCGGCTCCAATTCCCCATCTCAGTCGTTCCCAAAGTCCTCCTGTTTCATCCAAGCGTGTAAGGGTCCCCGTCCTTGACTCCCTAGTGTCCTGCTGCCCACAGTCCAGTCCTGGGAACCAGCACCGATCACCTCCCATCGGGCCAATCTCAGTCCCTTCCCCCCTACGTCGGGGCCCACACGCTCGGTGCGTGCCCAGTTGAACCAGGCGGCTGCGGAAAAAAAAAAGCGGGGAGAAAGTAGGGCCCGGCTACTAGCGGTTTTACGGGCGCACGTAGCTCAGGCCTCAAGACCTTGGGCTGGGACTGGCTGAGCCTGGCGGGAGGCGGGGTCCGAGTCACCGCCTGCCGCCGCGCCCCCGGTTTCTATAAATTGAGCCCGCAGCCTCCCGCTTCGCTCTCTGCTCCTCCTGTTCGACAGTCAGCCGCATCTTCTTTTGCGTCGCCAGGTGAAGACGGGCGGAGAGAAACCCGGGAGGCTAGGGACGGCCTGAAGGCGGCAGGGGCGGGCGCAGGCCGGATGTGTTCGCGCCGCTGCGGGGTGGGCCCGGGCGGCCTCCGCATTGCAGGGGCGGGCGGAGGACGTGATGCGGCGCGGGCTGGGCATGGAGGCCTGGTGGGGGAGGGGAGGGGAGGCGTGTGTGTCGGCCGGGGCCACTAGGCGCTCACTGTTCTCTCCCTCCGCGCAGCCGAGCCACATCGCTCAGACACCATGGGGAAGGTGAAGGTCGGAGTCAACGGGTGAGTTCGCGGGTGGCTGGGGGGCCCTGGGCTGCGACCGCCCCCGAACCGCGTCTACGAGCCTTGCGGGCTCCGGGTCTTTGCAGTCGTATGGGGGCAGGGTAGCTGTTCCCCGCAAGGAGAGCTCAAGGTCAGCGCTCGGACCTGGCGGAGCCCCGCACCCAGGCTGTGGCGCCCTGTGCAGCTCCGCCCTTGCGGCGCCATCTGCCCGGAGCCTCCTTCCCCTAGTCCCCAGAAACAGGAGGTCCCTACTCCCGCCCGAGATCCCGACCCGGACCCCTAGGTGGGGGACGCTTTCTTTCCTTTCGCGCTCTGCGGGGTCACGTGTCGCAGAGGAGCCCCTCCCCCACGGCCTCCGGCACCGCAGGCCCCGGGATGCTAGTGCGCAGCGGGTGCATCCCTGTCCGGATGCTGCGCCTGCGGTAGAGCGGCCGCCATGTTGCAACCGGGAAGGAAATGAATGGGCAGCCGTTAGGAAAGCCTGCCGGTGACTAACCCTGCGCTCCTGCCTCGATGGGTGGAGTCGCGTGTGGCGGGGAAGTCAGGTGGAGCGAGGCTAGCTGGCCCGATTTCTCCTCCGGGTGATGCTTTTCCTAGATTATTCTCTGGTAAATCAAAGAAGTGGGTTTATGGAGGTCCTCTTGT\\n'"
      ]
     },
     "execution_count": 86,
     "metadata": {},
     "output_type": "execute_result"
    }
   ],
   "source": [
    "row"
   ]
  },
  {
   "cell_type": "markdown",
   "id": "56226404",
   "metadata": {},
   "source": [
    "# launch sei"
   ]
  },
  {
   "cell_type": "code",
   "execution_count": 82,
   "id": "7d2de815",
   "metadata": {
    "ExecuteTime": {
     "end_time": "2023-03-28T23:48:29.780601Z",
     "start_time": "2023-03-28T23:48:29.510579Z"
    }
   },
   "outputs": [
    {
     "name": "stdout",
     "output_type": "stream",
     "text": [
      "sh /wynton/home/ahituv/fongsl/bin/sei-framework/1_sequence_prediction.sh /wynton/home/ahituv/fongsl/nullomers/bin-lock/./gapdh.2048.100.14mers.fa hg38 /wynton/home/ahituv/fongsl/nullomers/bin-lock/gapdh_pred\n",
      "Input argments: /wynton/home/ahituv/fongsl/nullomers/bin-lock/./gapdh.2048.100.14mers.fa /wynton/home/ahituv/fongsl/nullomers/bin-lock/gapdh_pred hg38 \n",
      "use_cuda: False\n",
      "0.2600111961364746\n"
     ]
    },
    {
     "name": "stderr",
     "output_type": "stream",
     "text": [
      "Traceback (most recent call last):\n",
      "  File \"/wynton/home/ahituv/fongsl/bin/sei-framework/1_sequence_prediction.py\", line 23, in <module>\n",
      "    from docopt import docopt\n",
      "ModuleNotFoundError: No module named 'docopt'\n"
     ]
    }
   ],
   "source": [
    "BUILD = \"hg38\"\n",
    "OUTDIR = os.getcwd()\n",
    "SCRIPT = \"/wynton/home/ahituv/fongsl/bin/sei-framework/sarah_scripts/launch_qsub.py\"\n",
    "cmd = [\"python\",\n",
    "       SCRIPT,\n",
    "      outfasta,\n",
    "      BUILD, \n",
    "      OUTDIR\n",
    "      ]\n",
    "print(\" \".join(cmd))\n",
    "#os.system(\" \".join(cmd))"
   ]
  },
  {
   "cell_type": "code",
   "execution_count": null,
   "id": "6fc71628",
   "metadata": {},
   "outputs": [],
   "source": []
  }
 ],
 "metadata": {
  "kernelspec": {
   "display_name": "Python (wynenv)",
   "language": "python",
   "name": "wynenv"
  },
  "language_info": {
   "codemirror_mode": {
    "name": "ipython",
    "version": 3
   },
   "file_extension": ".py",
   "mimetype": "text/x-python",
   "name": "python",
   "nbconvert_exporter": "python",
   "pygments_lexer": "ipython3",
   "version": "3.10.8"
  },
  "toc": {
   "base_numbering": 1,
   "nav_menu": {},
   "number_sections": true,
   "sideBar": true,
   "skip_h1_title": false,
   "title_cell": "Table of Contents",
   "title_sidebar": "Contents",
   "toc_cell": false,
   "toc_position": {},
   "toc_section_display": true,
   "toc_window_display": false
  },
  "varInspector": {
   "cols": {
    "lenName": 16,
    "lenType": 16,
    "lenVar": 40
   },
   "kernels_config": {
    "python": {
     "delete_cmd_postfix": "",
     "delete_cmd_prefix": "del ",
     "library": "var_list.py",
     "varRefreshCmd": "print(var_dic_list())"
    },
    "r": {
     "delete_cmd_postfix": ") ",
     "delete_cmd_prefix": "rm(",
     "library": "var_list.r",
     "varRefreshCmd": "cat(var_dic_list()) "
    }
   },
   "types_to_exclude": [
    "module",
    "function",
    "builtin_function_or_method",
    "instance",
    "_Feature"
   ],
   "window_display": false
  }
 },
 "nbformat": 4,
 "nbformat_minor": 5
}
