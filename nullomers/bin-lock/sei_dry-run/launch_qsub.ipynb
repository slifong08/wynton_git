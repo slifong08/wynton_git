{
 "cells": [
  {
   "cell_type": "code",
   "execution_count": 1,
   "id": "1e8f8547",
   "metadata": {
    "ExecuteTime": {
     "end_time": "2023-03-29T17:15:07.524188Z",
     "start_time": "2023-03-29T17:15:07.518767Z"
    }
   },
   "outputs": [],
   "source": [
    "import os, sys"
   ]
  },
  {
   "cell_type": "code",
   "execution_count": 2,
   "id": "0f5efc36",
   "metadata": {
    "ExecuteTime": {
     "end_time": "2023-03-29T17:15:08.203341Z",
     "start_time": "2023-03-29T17:15:08.197530Z"
    }
   },
   "outputs": [],
   "source": [
    "FILENAME = \"gapdh.2048.100.14mers.fa\"\n",
    "FILE = os.path.join(os.path.dirname(os.getcwd()), FILENAME)"
   ]
  },
  {
   "cell_type": "code",
   "execution_count": 3,
   "id": "5fe005b9",
   "metadata": {
    "ExecuteTime": {
     "end_time": "2023-03-29T17:15:08.927549Z",
     "start_time": "2023-03-29T17:15:08.921255Z"
    }
   },
   "outputs": [],
   "source": [
    "BUILD = \"hg38\"\n",
    "OUTDIR =  os.path.join(os.path.dirname(os.getcwd()),\"gapdh_pred\")\n",
    "QSUB =  os.path.join(os.getcwd(),\"interpret_sei.sh\")"
   ]
  },
  {
   "cell_type": "code",
   "execution_count": 8,
   "id": "ac0bb0c7",
   "metadata": {
    "ExecuteTime": {
     "end_time": "2023-03-29T17:28:25.578829Z",
     "start_time": "2023-03-29T17:28:25.511125Z"
    }
   },
   "outputs": [
    {
     "name": "stdout",
     "output_type": "stream",
     "text": [
      "Your job 2272912 (\"interpret_sei.sh\") has been submitted\n"
     ]
    },
    {
     "data": {
      "text/plain": [
       "0"
      ]
     },
     "execution_count": 8,
     "metadata": {},
     "output_type": "execute_result"
    }
   ],
   "source": [
    "cmd = [\"qsub\", QSUB, FILE, BUILD, OUTDIR]\n",
    "os.system(\" \".join(cmd))"
   ]
  },
  {
   "cell_type": "code",
   "execution_count": 9,
   "id": "c8efd1a5",
   "metadata": {
    "ExecuteTime": {
     "end_time": "2023-03-29T17:56:49.235487Z",
     "start_time": "2023-03-29T17:56:49.230530Z"
    }
   },
   "outputs": [
    {
     "name": "stdout",
     "output_type": "stream",
     "text": [
      "qsub /wynton/home/ahituv/fongsl/nullomers/bin-lock/sei/interpret_sei.sh /wynton/home/ahituv/fongsl/nullomers/bin-lock/gapdh.2048.100.14mers.fa hg38 /wynton/home/ahituv/fongsl/nullomers/bin-lock/gapdh_pred\n"
     ]
    }
   ],
   "source": [
    "print(\" \".join(cmd))"
   ]
  },
  {
   "cell_type": "code",
   "execution_count": null,
   "id": "49337269",
   "metadata": {},
   "outputs": [],
   "source": []
  }
 ],
 "metadata": {
  "kernelspec": {
   "display_name": "Python (sei)",
   "language": "python",
   "name": "sei"
  },
  "language_info": {
   "codemirror_mode": {
    "name": "ipython",
    "version": 3
   },
   "file_extension": ".py",
   "mimetype": "text/x-python",
   "name": "python",
   "nbconvert_exporter": "python",
   "pygments_lexer": "ipython3",
   "version": "3.9.16"
  },
  "toc": {
   "base_numbering": 1,
   "nav_menu": {},
   "number_sections": true,
   "sideBar": true,
   "skip_h1_title": false,
   "title_cell": "Table of Contents",
   "title_sidebar": "Contents",
   "toc_cell": false,
   "toc_position": {},
   "toc_section_display": true,
   "toc_window_display": false
  },
  "varInspector": {
   "cols": {
    "lenName": 16,
    "lenType": 16,
    "lenVar": 40
   },
   "kernels_config": {
    "python": {
     "delete_cmd_postfix": "",
     "delete_cmd_prefix": "del ",
     "library": "var_list.py",
     "varRefreshCmd": "print(var_dic_list())"
    },
    "r": {
     "delete_cmd_postfix": ") ",
     "delete_cmd_prefix": "rm(",
     "library": "var_list.r",
     "varRefreshCmd": "cat(var_dic_list()) "
    }
   },
   "types_to_exclude": [
    "module",
    "function",
    "builtin_function_or_method",
    "instance",
    "_Feature"
   ],
   "window_display": false
  }
 },
 "nbformat": 4,
 "nbformat_minor": 5
}
