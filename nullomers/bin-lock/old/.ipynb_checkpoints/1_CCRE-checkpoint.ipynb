{
 "cells": [
  {
   "cell_type": "code",
   "execution_count": 42,
   "id": "2c284cb9",
   "metadata": {
    "ExecuteTime": {
     "end_time": "2023-04-06T17:54:01.777549Z",
     "start_time": "2023-04-06T17:54:01.771333Z"
    }
   },
   "outputs": [],
   "source": [
    "\"\"\"\n",
    "Filter ENCODE cCREs from HepG2, K562, 293T for pELS, dELS, PLS +/- CTCF elements\n",
    "\n",
    "Label.\n",
    "\n",
    "Get cell-type-specific + shared elements \n",
    "    - Bedtools intersect elements together.\n",
    "\n",
    "Intersect w/ FANTOM\n",
    "\n",
    "Turn into .fa\n",
    "\n",
    "Quantify GC dinucleotide content. \n",
    "\n",
    "Find cCRE centers -> run through sei\n",
    "    \n",
    "\"\"\"\n",
    "from Bio.SeqUtils import gc_fraction\n",
    "\n",
    "import config_readwrite as crw\n",
    "import glob\n",
    "import gzip\n",
    "\n",
    "import numpy as np\n",
    "import os\n",
    "import pandas as pd\n",
    "import pybedtools as pbt\n",
    "import sys\n",
    "import subprocess as sp\n",
    "import time"
   ]
  },
  {
   "cell_type": "markdown",
   "id": "c9263ddf",
   "metadata": {},
   "source": [
    "# config"
   ]
  },
  {
   "cell_type": "markdown",
   "id": "c1b7157a",
   "metadata": {},
   "source": [
    "## load"
   ]
  },
  {
   "cell_type": "code",
   "execution_count": 2,
   "id": "32dc267d",
   "metadata": {
    "ExecuteTime": {
     "end_time": "2023-04-06T16:00:45.342402Z",
     "start_time": "2023-04-06T16:00:45.269245Z"
    }
   },
   "outputs": [],
   "source": [
    "config_tag = \"config.ini\"\n",
    "config, cfn = crw.read(os.path.join(os.getcwd(), config_tag))"
   ]
  },
  {
   "cell_type": "markdown",
   "id": "f249a11e",
   "metadata": {},
   "source": [
    "## add ccre section"
   ]
  },
  {
   "cell_type": "code",
   "execution_count": 3,
   "id": "480501c8",
   "metadata": {
    "ExecuteTime": {
     "end_time": "2023-04-06T16:00:48.528457Z",
     "start_time": "2023-04-06T16:00:48.521342Z"
    }
   },
   "outputs": [],
   "source": [
    "SECTION = \"CCRE\"\n",
    "\n",
    "crw.check(config, SECTION)\n",
    "\n",
    "# write\n",
    "\n",
    "# source datapath\n",
    "SRC = \"/wynton/home/ahituv/fongsl/encode\"\n",
    "\n",
    "# cell lines\n",
    "CLS = [  # \"293t\",\n",
    "    \"k562\", \"hepg2\"]\n",
    "\n",
    "# add cell lines string\n",
    "config[SECTION][\"cls\"] = \",\".join(CLS)\n",
    "\n",
    "# add source path\n",
    "config[SECTION][\"src\"] = SRC\n",
    "\n",
    "# add output datapath\n",
    "PATH = \"/wynton/home/ahituv/fongsl/nullomers/data/lock\"\n",
    "config[SECTION][\"path\"] = PATH"
   ]
  },
  {
   "cell_type": "markdown",
   "id": "fcbaac38",
   "metadata": {},
   "source": [
    "# functions"
   ]
  },
  {
   "cell_type": "markdown",
   "id": "9dce7503",
   "metadata": {},
   "source": [
    "## filtering cCREs"
   ]
  },
  {
   "cell_type": "code",
   "execution_count": 4,
   "id": "969335b9",
   "metadata": {
    "ExecuteTime": {
     "end_time": "2023-04-06T16:01:32.455436Z",
     "start_time": "2023-04-06T16:01:32.443670Z"
    }
   },
   "outputs": [],
   "source": [
    "def filterCcre(bedfile, CL, outdir):\n",
    "    \"\"\"\n",
    "    filter cCRE file for proximal/distal enhancer elements, promoters +/- CTCF\n",
    "\n",
    "    input\n",
    "        bedfile (str) - cCRE .bed file for one cell line\n",
    "        CL (str) - name of cell line\n",
    "        outdir (str) - path to output directory\n",
    "        \n",
    "    require\n",
    "        pandas\n",
    "\n",
    "    method\n",
    "        1. Open bed file\n",
    "        2. filter bed coordinates based on annotations\n",
    "        \n",
    "            - \"dELS\" - distal enhancer like signature, \n",
    "                determined from z-scoring of DHS plus\n",
    "                high DNase and H3K27ac signals, \n",
    "                more than 2 kb from the nearest TSS\n",
    "                \n",
    "            - \"pELS\" - proximal enhancer like signature,\n",
    "                determined from z-scoring of DHS plus\n",
    "                within 2 kb of a TSS, \n",
    "                high DNase and H3K27ac signals, \n",
    "                low relative H3K4me3 signal\n",
    "                \n",
    "            - \"PLS\" - promoter enhancer like signature, \n",
    "                determined from z-scoring of DHS plus\n",
    "                falls within 200 bp (centre-to-centre) \n",
    "                of an annotated GENCODE TSS that has high DNase and H3K4me3 signals.\n",
    "                \n",
    "            - more info? All of this was taken from Box 1. See - https://doi.org/10.1038/s41586-020-2493-4\n",
    "            \n",
    "        3. annotate w CL\n",
    "        4. make the outdir if not already made. \n",
    "\n",
    "    return \n",
    "        (str) - path to filtered, indexed cl-specific cCRE coordinates\n",
    "\n",
    "    \"\"\"\n",
    "    print(\"filtering cCREs for dels, pels, pls\")\n",
    "    \n",
    "    # 1 open bed file, keep only bed coordinate columns, encodeId, and feature label\n",
    "    df = pd.read_csv(bedfile, sep='\\t',\n",
    "                     header=None, usecols=[0, 1, 2, 3, 9],\n",
    "                     names=[\"#chr\", \"start\", \"end\", \"encodeId\", \"label\"]\n",
    "                     )\n",
    "    print(\"source df\", df.shape)\n",
    "\n",
    "\n",
    "    #2 filter dataframe for labels\n",
    "    filtered = df.loc[df[\"label\"].isin([\n",
    "        'PLS',\n",
    "        'PLS,CTCF-bound',\n",
    "        'dELS',\n",
    "        'dELS,CTCF-bound',\n",
    "        'pELS',\n",
    "        'pELS,CTCF-bound'\n",
    "    ]\n",
    "    )]\n",
    "\n",
    "    print(\"filtered\", filtered.shape)\n",
    "\n",
    "    # 3 annotate CL-id\n",
    "    filtered[\"CL-id\"] = CL + \"-\" + filtered[\"encodeId\"]\n",
    "\n",
    "    # 4\n",
    "    if os.path.exists(outdir) is False:\n",
    "        os.mkdir(outdir)\n",
    "\n",
    "    # 5 write file\n",
    "    outfile = os.path.join(outdir, f\"filtered.{CL}.cCRE.bed\")\n",
    "    \n",
    "    filtered.to_csv(outfile, sep='\\t', index=False)\n",
    "    \n",
    "    # return filtered file\n",
    "    \n",
    "    return outfile"
   ]
  },
  {
   "cell_type": "markdown",
   "id": "503e0ea0",
   "metadata": {},
   "source": [
    "## FANTOM CAGE-seq intersection"
   ]
  },
  {
   "cell_type": "code",
   "execution_count": 5,
   "id": "9ad0e87a",
   "metadata": {
    "ExecuteTime": {
     "end_time": "2023-04-06T16:01:33.624257Z",
     "start_time": "2023-04-06T16:01:33.616644Z"
    }
   },
   "outputs": [],
   "source": [
    "# intersect w/ CAGE enhancers \n",
    "\n",
    "def fantomIntersection(bedfile, CL, outdir):\n",
    "    \n",
    "    print(\"intersecting bedfile x FANTOM5\", bedfile)\n",
    "    \n",
    "    CAGE = \"/wynton/home/ahituv/fongsl/FANTOM5/F5.hg38.enhancers.bed.gz\"\n",
    "\n",
    "    # make the outfile \n",
    "    outfile = os.path.join(outdir, bedfile.strip(\".bed\") + \"_x_FANTOM5.bed\")\n",
    "    \n",
    "    # make bed objects\n",
    "    A = pbt.BedTool(bedfile)\n",
    "    B = pbt.BedTool(CAGE)\n",
    "    \n",
    "    # do intersection\n",
    "    A.intersect(B, wa=True, output=outfile)\n",
    "    \n",
    "    return outfile"
   ]
  },
  {
   "cell_type": "markdown",
   "id": "3d2ba16d",
   "metadata": {},
   "source": [
    "## liftOver"
   ]
  },
  {
   "cell_type": "code",
   "execution_count": 6,
   "id": "535a1406",
   "metadata": {
    "ExecuteTime": {
     "end_time": "2023-04-06T16:01:34.360675Z",
     "start_time": "2023-04-06T16:01:34.353654Z"
    }
   },
   "outputs": [],
   "source": [
    "def liftOver(bedfile, from_build, to_build):\n",
    "    \n",
    "    print(\"liftover from\", from_build, \"to\", \"to_build\", bedfile)\n",
    "    \n",
    "    #1\n",
    "    SCRIPT = \"/wynton/home/ahituv/fongsl/tools/evo/liftover_bed-wynton.py\"\n",
    "    \n",
    "    #2\n",
    "    cmd = [\"python\", \n",
    "           SCRIPT, \n",
    "           bedfile, \n",
    "           \"-f\", from_build, \n",
    "           \"-t\", to_build\n",
    "          ]\n",
    "    \n",
    "    #3\n",
    "    print(\" \".join(cmd))\n",
    "    #sp.call(\" \".join(cmd), shell=True)\n",
    "    \n",
    "    #4\n",
    "    outfile = bedfile.strip(\".bed\") + f\".liftOver.to.{to_build}.bed\"\n",
    "    \n",
    "    return outfile"
   ]
  },
  {
   "cell_type": "markdown",
   "id": "6fd18e4a",
   "metadata": {},
   "source": [
    "## .bed -> .fa"
   ]
  },
  {
   "cell_type": "code",
   "execution_count": 7,
   "id": "8fab9947",
   "metadata": {
    "ExecuteTime": {
     "end_time": "2023-04-06T16:01:35.123065Z",
     "start_time": "2023-04-06T16:01:35.116010Z"
    }
   },
   "outputs": [],
   "source": [
    "def bed2fa(bedfile, build):\n",
    "    \"\"\"\n",
    "    convert .bed -> .fa using custom script (which uses bedtools' getfasta command)\n",
    "    \n",
    "    input\n",
    "        bedfile (str) - path to filtered bed file\n",
    "        build (str) - genome build\n",
    "        \n",
    "    method\n",
    "        1. make script variable\n",
    "        2. construct command list\n",
    "        3. call command with subprocess\n",
    "        \n",
    "    return\n",
    "        out (str) - resultant .fa file. \n",
    "    \"\"\"\n",
    "    print(\".bed -> .fa\", bedfile)\n",
    "    #1\n",
    "    SCRIPT = \"/wynton/home/ahituv/fongsl/tools/genome/fasta_from_bed.py\"\n",
    "    \n",
    "    #2\n",
    "    cmd = [\"python\", \n",
    "           SCRIPT, \n",
    "           bedfile, \n",
    "           '-b', build,\n",
    "          ]\n",
    "    \n",
    "    #3\n",
    "    print(\" \".join(cmd))\n",
    "    #sp.call(\" \".join(cmd), shell=True)\n",
    "    \n",
    "    #4\n",
    "    out = bedfile.strip(\".bed\") + \".fa\"\n",
    "    \n",
    "    return out"
   ]
  },
  {
   "cell_type": "markdown",
   "id": "e574fd58",
   "metadata": {},
   "source": [
    "## centering bed file and extending from midpoint\n",
    "- for sei analysis"
   ]
  },
  {
   "cell_type": "code",
   "execution_count": 8,
   "id": "e05133f5",
   "metadata": {
    "ExecuteTime": {
     "end_time": "2023-04-06T16:01:36.354875Z",
     "start_time": "2023-04-06T16:01:36.340741Z"
    }
   },
   "outputs": [],
   "source": [
    "def centerBed(bedfile):\n",
    "\n",
    "    # check for header\n",
    "    is_header = [True if \"#chr\" in list(\n",
    "        pd.read_csv(bedfile, sep='\\t', nrows=1)) else False]\n",
    "\n",
    "    if is_header == True:\n",
    "        df = pd.read_csv(bedfile, sep='\\t')\n",
    "\n",
    "    else:\n",
    "        df = pd.read_csv(bedfile, sep='\\t', header=None)\n",
    "        df.columns = [\"#chr\", \"start\", \"end\", 'encodeId', \"label\", \"CI_label\"]\n",
    "\n",
    "    df[\"len\"] = df[\"end\"]-df[\"start\"]  # calculate the length\n",
    "    df[\"center_start\"] = df[\"len\"].divide(2).astype(\n",
    "        int) + df[\"start\"]  # find center, int to round,\n",
    "    \n",
    "    # plus 1 so that end is zero coordinate (kind of like SNP)\n",
    "    df[\"center_end\"] = df[\"center_start\"] + 1\n",
    "\n",
    "    outfile = bedfile.strip(\".bed\") + \".centered.bed\"\n",
    "\n",
    "    df[[\"#chr\", \"center_start\", \"center_end\", \"encodeId\"]\n",
    "       ].drop_duplicates().to_csv(outfile, sep='\\t', index=False)\n",
    "\n",
    "    return outfile\n",
    "\n",
    "\n",
    "def extendBed(bedfile, flanksize):\n",
    "    \"\"\"\n",
    "    expand bed\n",
    "\n",
    "    require\n",
    "        bedtools slop\n",
    "        wynton\n",
    "\n",
    "    input\n",
    "        bed (str) - path to bed file\n",
    "        flanksize (int) - length to extend bed coordinates by\n",
    "\n",
    "    method \n",
    "        1. get genome size. \n",
    "        2. make outfile name\n",
    "        3. bedtools slop command\n",
    "\n",
    "    return\n",
    "        out (str) - path to results.bed\n",
    "    \"\"\"\n",
    "    genome = \"/wynton/home/ahituv/fongsl/dna/hg38/hg38.chrom.sizes\"\n",
    "\n",
    "    path, file = os.path.split(bedfile)\n",
    "\n",
    "    outfile = os.path.join(path, file.strip(\".bed\") +\n",
    "                           f\".ext.{flanksize*2}bp.bed\")\n",
    "    cmd = f\"bedtools slop -i {bed} -g {genome} -b {flanksize} > {outfile}\"\n",
    "    os.system(cmd)\n",
    "\n",
    "    return outfile"
   ]
  },
  {
   "cell_type": "markdown",
   "id": "175c5a9d",
   "metadata": {},
   "source": [
    "## sei"
   ]
  },
  {
   "cell_type": "code",
   "execution_count": 9,
   "id": "3695fa2e",
   "metadata": {
    "ExecuteTime": {
     "end_time": "2023-04-06T16:01:37.398782Z",
     "start_time": "2023-04-06T16:01:37.391301Z"
    }
   },
   "outputs": [],
   "source": [
    "def launchSei(bedfile, build):\n",
    "\n",
    "    SCRIPT = \"/wynton/home/ahituv/fongsl/bin/sei-framework/sarah_scripts/launch_qsub.py\"\n",
    "    \n",
    "    SEIDIR = os.path.join(os.path.split(bedfile)[0], \"sei_predictions\")\n",
    "    \n",
    "    if os.path.exists(SEIDIR) is False:\n",
    "        os.mkdir(SEIDIR)\n",
    "        \n",
    "    cmd = ['python',\n",
    "           SCRIPT, \n",
    "           bedfile, \n",
    "           build, \n",
    "           SEIDIR\n",
    "          ]\n",
    "    \n",
    "    sp.call(\" \".join(cmd), shell=True)"
   ]
  },
  {
   "cell_type": "markdown",
   "id": "7736c2e5",
   "metadata": {},
   "source": [
    "## make kmer space"
   ]
  },
  {
   "cell_type": "code",
   "execution_count": 36,
   "id": "38db47a2",
   "metadata": {
    "ExecuteTime": {
     "end_time": "2023-04-06T16:20:32.194424Z",
     "start_time": "2023-04-06T16:20:32.187667Z"
    }
   },
   "outputs": [],
   "source": [
    "def makeKmerSpace(fasta, kmer_len):\n",
    "    SCRIPT = \"/wynton/home/ahituv/fongsl/nullomers/bin-lock/make_kmer_space.py\"\n",
    "\n",
    "    cmd = [\"python\",\n",
    "           SCRIPT,\n",
    "           fasta,\n",
    "           str(kmer_len),\n",
    "           \"5\",\n",
    "           ]\n",
    "\n",
    "    print(\" \".join(cmd))\n",
    "    sp.call(\" \".join(cmd), shell=True)"
   ]
  },
  {
   "cell_type": "markdown",
   "id": "818077e9",
   "metadata": {},
   "source": [
    "## mutagenize kmers"
   ]
  },
  {
   "cell_type": "code",
   "execution_count": 49,
   "id": "255dfca5",
   "metadata": {
    "ExecuteTime": {
     "end_time": "2023-04-06T18:02:29.217375Z",
     "start_time": "2023-04-06T18:02:29.211969Z"
    }
   },
   "outputs": [],
   "source": [
    "def mutagenizeKmers(cl, kmer_len, nmuts, build):\n",
    "    SCRIPT = \"/wynton/home/ahituv/fongsl/nullomers/bin-lock/mutagenize_kmers.sh\"\n",
    "\n",
    "    cmd = [\"qsub\",\n",
    "           SCRIPT,\n",
    "           cl,\n",
    "           str(kmer_len),\n",
    "           str(nmuts),\n",
    "           build,\n",
    "           ]\n",
    "\n",
    "    print(\" \".join(cmd))\n",
    "    sp.call(\" \".join(cmd), shell=True)"
   ]
  },
  {
   "cell_type": "markdown",
   "id": "e9fff76d",
   "metadata": {},
   "source": [
    "# build datasets for each cell type"
   ]
  },
  {
   "cell_type": "code",
   "execution_count": null,
   "id": "2b32a99d",
   "metadata": {
    "ExecuteTime": {
     "end_time": "2023-04-03T21:28:25.619642Z",
     "start_time": "2023-04-03T21:28:20.122575Z"
    },
    "scrolled": false
   },
   "outputs": [],
   "source": [
    "# add cell line specific paths, bedfiles.\n",
    "filtered_files = []\n",
    "\n",
    "for CL in CLS:\n",
    "\n",
    "    # add section\n",
    "    SECTIONCL = SECTION + \"_\" + CL\n",
    "\n",
    "    crw.check(config, SECTIONCL)\n",
    "\n",
    "    # add path\n",
    "    SRC_PATH_CL = os.path.join(SRC, CL)\n",
    "    config[SECTIONCL][\"src_path\"] = SRC_PATH_CL\n",
    "\n",
    "    # add data output path\n",
    "    PATH_CL = os.path.join(PATH, CL)\n",
    "    config[SECTIONCL][\"path\"] = PATH_CL\n",
    "\n",
    "    # add bed\n",
    "    BED = glob.glob(os.path.join(SRC_PATH_CL, CL + \"*ENCFF*.bed\"))[0]\n",
    "    config[SECTIONCL][\"bed\"] = BED\n",
    "    \n",
    "    # add filtered bed\n",
    "    FILTEREDBED = filterCcre(BED, CL, PATH_CL)\n",
    "    config[SECTIONCL][\"bed_filtered\"] = FILTEREDBED\n",
    "    \n",
    "    filtered_files.append((CL, FILTEREDBED))\n",
    "    \n",
    "    # FANTOM overlap\n",
    "    BED_X_FANTOM = fantomIntersection(FILTEREDBED, CL, PATH_CL)\n",
    "    config[SECTIONCL][\"xFANTOM\"] = BED_X_FANTOM\n",
    "    \n",
    "    # LiftOver - to make kmer space. \n",
    "    from_build, to_build = \"hg38\", 'hs1'\n",
    "    LIFTED = liftOver(FILTEREDBED, from_build, to_build)\n",
    "    config[SECTIONCL][\"lifted_hs1\"] = LIFTED\n",
    "    \n",
    "    # .bed -> .fa for kmer space\n",
    "    FASTA = bed2fa(LIFTED, to_build)\n",
    "    config[SECTIONCL][\"hs1_fasta\"] = FASTA\n",
    "    \n",
    "    # center and extend filtered.hg38.bed for sei\n",
    "    CENTERED = centerBed(bedfile)\n",
    "    config[SECTIONCL][\"bed_centered\"] = CENTERED\n",
    "    \n",
    "    EXTENDED = extendBed(CENTERED, 2048)  # extend 2048 bases in each direction for sei\n",
    "    config[SECTIONCL][\"bed_centered\"] = EXTENDED\n",
    "    \n",
    "    # launch Sei predictions - runs one at a time. Might be best to parallelize in the future. \n",
    "    # launchSei(EXTENDED, from_build)\n",
    "    \n",
    "    # make kmer spaces\n",
    "    for len_k in np.arange(11, 24):\n",
    "        makeKmerSpace(FASTA, len_k)\n",
    "    \n",
    "    # mutagenize to create nullomers.  \n",
    "    \n",
    "    # conservation\n",
    "    \n",
    "    # TFBS motif/ binding prediction\n",
    "    \n",
    "    "
   ]
  },
  {
   "cell_type": "markdown",
   "id": "edaca4f0",
   "metadata": {},
   "source": [
    "# find overlap between these sequences"
   ]
  },
  {
   "cell_type": "code",
   "execution_count": null,
   "id": "6828d580",
   "metadata": {
    "ExecuteTime": {
     "end_time": "2023-04-06T21:16:14.768221Z",
     "start_time": "2023-04-06T21:15:39.289415Z"
    }
   },
   "outputs": [],
   "source": [
    "FASTA=\"/wynton/home/ahituv/fongsl/nullomers/data/lock/hepg2/filtered.hepg2.cCRE.liftOver.to.hs1.fa\"\n",
    "for len_k in np.arange(11, 24):\n",
    "    makeKmerSpace(FASTA, len_k)\n",
    "    break"
   ]
  },
  {
   "cell_type": "code",
   "execution_count": null,
   "id": "09b26ca0",
   "metadata": {
    "ExecuteTime": {
     "end_time": "2023-04-06T17:54:05.432188Z",
     "start_time": "2023-04-06T17:54:05.407447Z"
    }
   },
   "outputs": [],
   "source": [
    "#crw.checkOpt(config, \"11mer\", \"results\")"
   ]
  },
  {
   "cell_type": "markdown",
   "id": "12f24ec3",
   "metadata": {},
   "source": [
    "# mutagenize kmers"
   ]
  },
  {
   "cell_type": "code",
   "execution_count": 56,
   "id": "af905711",
   "metadata": {
    "ExecuteTime": {
     "end_time": "2023-04-06T20:44:23.815254Z",
     "start_time": "2023-04-06T20:44:23.754949Z"
    }
   },
   "outputs": [
    {
     "name": "stdout",
     "output_type": "stream",
     "text": [
      "qsub /wynton/home/ahituv/fongsl/nullomers/bin-lock/mutagenize_kmers.sh hepg2 14 2 hs1\n",
      "Your job 2423269 (\"mutagenize_kmers.sh\") has been submitted\n"
     ]
    }
   ],
   "source": [
    "CL = \"hepg2\"\n",
    "KMER_LEN = 14\n",
    "NMUTS = 2\n",
    "BUILD = \"hs1\"\n",
    "\n",
    "mutagenizeKmers(CL, KMER_LEN, NMUTS, BUILD)"
   ]
  },
  {
   "cell_type": "code",
   "execution_count": null,
   "id": "b63c1b89",
   "metadata": {},
   "outputs": [],
   "source": []
  }
 ],
 "metadata": {
  "kernelspec": {
   "display_name": "Python (wynenv)",
   "language": "python",
   "name": "wynenv"
  },
  "language_info": {
   "codemirror_mode": {
    "name": "ipython",
    "version": 3
   },
   "file_extension": ".py",
   "mimetype": "text/x-python",
   "name": "python",
   "nbconvert_exporter": "python",
   "pygments_lexer": "ipython3",
   "version": "3.10.8"
  },
  "toc": {
   "base_numbering": 1,
   "nav_menu": {},
   "number_sections": true,
   "sideBar": true,
   "skip_h1_title": false,
   "title_cell": "Table of Contents",
   "title_sidebar": "Contents",
   "toc_cell": false,
   "toc_position": {},
   "toc_section_display": true,
   "toc_window_display": false
  },
  "varInspector": {
   "cols": {
    "lenName": 16,
    "lenType": 16,
    "lenVar": 40
   },
   "kernels_config": {
    "python": {
     "delete_cmd_postfix": "",
     "delete_cmd_prefix": "del ",
     "library": "var_list.py",
     "varRefreshCmd": "print(var_dic_list())"
    },
    "r": {
     "delete_cmd_postfix": ") ",
     "delete_cmd_prefix": "rm(",
     "library": "var_list.r",
     "varRefreshCmd": "cat(var_dic_list()) "
    }
   },
   "types_to_exclude": [
    "module",
    "function",
    "builtin_function_or_method",
    "instance",
    "_Feature"
   ],
   "window_display": false
  }
 },
 "nbformat": 4,
 "nbformat_minor": 5
}
