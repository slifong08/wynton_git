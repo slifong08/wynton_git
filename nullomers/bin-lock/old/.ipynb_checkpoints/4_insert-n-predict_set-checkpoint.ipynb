{
 "cells": [
  {
   "cell_type": "code",
   "execution_count": 15,
   "id": "3166dbec",
   "metadata": {
    "ExecuteTime": {
     "end_time": "2023-04-19T19:51:27.359880Z",
     "start_time": "2023-04-19T19:51:27.354569Z"
    }
   },
   "outputs": [],
   "source": [
    "from Bio.SeqIO.FastaIO import SimpleFastaParser\n",
    "import config_readwrite as crw\n",
    "\n",
    "import glob\n",
    "import gzip\n",
    "import numpy as np\n",
    "import os, sys\n",
    "import pandas as pd\n",
    "import subprocess as sp"
   ]
  },
  {
   "cell_type": "markdown",
   "id": "d313162e",
   "metadata": {},
   "source": [
    "# find coordinates of kmers"
   ]
  },
  {
   "cell_type": "code",
   "execution_count": 16,
   "id": "a74c1ba1",
   "metadata": {
    "ExecuteTime": {
     "end_time": "2023-04-19T19:51:28.920409Z",
     "start_time": "2023-04-19T19:51:28.882335Z"
    }
   },
   "outputs": [],
   "source": [
    "CL, MER, NMUTS, BUILD, FO_ONLY = \"common\", \"14\", \"2\", \"hs1\", True\n",
    "config, cfn = crw.read(os.path.join(os.getcwd(), \"config.ini\"))"
   ]
  },
  {
   "cell_type": "code",
   "execution_count": 17,
   "id": "5100685f",
   "metadata": {
    "ExecuteTime": {
     "end_time": "2023-04-19T19:51:36.484613Z",
     "start_time": "2023-04-19T19:51:29.350258Z"
    }
   },
   "outputs": [],
   "source": [
    "FA_MUT =  config[f\"common.{MER}mer.{NMUTS}mut\"][\"fa_fo-true\"]\n",
    "TSV_MUT =  config[f\"common.{MER}mer.{NMUTS}mut\"][\"tsv_fo-true\"]\n",
    "#TSV_MUT= '/wynton/home/ahituv/fongsl/nullomers/data/lock/common/_common.14mers.2mut.nulls.fo.tsv'\n",
    "#FA_MUT = '/wynton/home/ahituv/fongsl/nullomers/data/lock/common/_common.14mers.2mut.nulls.fo.fa'\n",
    "\n",
    "BED = config[CL][\"lifted_hs1\"]\n",
    "FA_EXT_BED = config[CL][\"fa_extended\"]\n",
    "EXTENDED = config[CL][\"bed_extended\"]\n",
    "FA = config[CL][\"hs1_fasta\"]"
   ]
  },
  {
   "cell_type": "code",
   "execution_count": 18,
   "id": "b41c5b08",
   "metadata": {
    "ExecuteTime": {
     "end_time": "2023-04-19T20:05:13.774752Z",
     "start_time": "2023-04-19T20:05:13.768236Z"
    }
   },
   "outputs": [],
   "source": [
    "def faToDict(fa_file):\n",
    "    \"\"\"\n",
    "    turn all the fa coordinates into a dictionary. \n",
    "    \"\"\"\n",
    "\n",
    "    fa_dict = {}\n",
    "    with open(fa_file, \"r\") as fasta_reader:\n",
    "        for values in SimpleFastaParser(fasta_reader):\n",
    "            \n",
    "            name, seq = values\n",
    "            fa_dict[name] = seq\n",
    "            \n",
    "    return fa_dict"
   ]
  },
  {
   "cell_type": "code",
   "execution_count": 19,
   "id": "8ed41b9b",
   "metadata": {
    "ExecuteTime": {
     "end_time": "2023-04-19T20:05:14.380479Z",
     "start_time": "2023-04-19T20:05:14.132182Z"
    }
   },
   "outputs": [],
   "source": [
    "def dissectFaId(line):\n",
    "    \"\"\"\n",
    "    dissect mutated fa id line for kmer, nullomer information, and get the coordinate file\n",
    "    \"\"\"\n",
    "    # process the line\n",
    "    kmer, chr_, coor, strand, id_ = line.strip('\\n').strip(\">\").split(\".\")\n",
    "            \n",
    "    # get key and value sequence to look up\n",
    "    key, value_seq = kmer[:5], kmer[5:]\n",
    "\n",
    "    bed_coor = chr_ + \":\" + coor\n",
    "    \n",
    "    region_str = \".\".join([kmer, bed_coor, strand, id_]) #TACCCATTCGAGTC.chr1.100333924-100334124.fwd\n",
    "    \n",
    "    \n",
    "    return kmer, key, value_seq, bed_coor, region_str"
   ]
  },
  {
   "cell_type": "code",
   "execution_count": 20,
   "id": "c66a4441",
   "metadata": {
    "ExecuteTime": {
     "end_time": "2023-04-19T20:05:14.509842Z",
     "start_time": "2023-04-19T20:05:14.504203Z"
    },
    "code_folding": [
     0
    ]
   },
   "outputs": [],
   "source": [
    "def seqInsert(seq, insert_start, insert_seq):\n",
    "    \"\"\"\n",
    "    insert sequence fragment (insert_seq) at position (insert_start) within full sequence (seq)\n",
    "    \n",
    "    return inserted sequence. \n",
    "    \"\"\"\n",
    "\n",
    "    insert_size = len(insert_seq)\n",
    "    \n",
    "    insert_end = insert_start + insert_size  # find center end\n",
    "\n",
    "    return seq[:int(insert_start)] + insert_seq + seq[int(insert_end):]"
   ]
  },
  {
   "cell_type": "code",
   "execution_count": 21,
   "id": "5371dc9f",
   "metadata": {
    "ExecuteTime": {
     "end_time": "2023-04-19T20:05:14.966272Z",
     "start_time": "2023-04-19T20:05:14.958076Z"
    },
    "code_folding": []
   },
   "outputs": [],
   "source": [
    "def findKmerInsertNull(kmer, null, fa_sequence, region_id):\n",
    "    \n",
    "    \"\"\"\n",
    "    return positions where the nullomer is in fa sequence\n",
    "    \"\"\"\n",
    "    pos = {}\n",
    "    kmerlen = len(kmer)\n",
    "        \n",
    "    nwindows = len(fa_sequence) - kmerlen + 1\n",
    "\n",
    "    for n in np.arange(nwindows):\n",
    "\n",
    "        start, stop = n, n+kmerlen\n",
    "        snippet = fa_sequence[start:stop]\n",
    "        if kmer.upper() == snippet.upper():\n",
    "            null_insert = seqInsert(fa_sequence.lower(), start, null.upper())  # insert the nullomer sequence into the sequence\n",
    "\n",
    "            pos[f\"{region_id}.{start}\"] = null_insert\n",
    "    return pos"
   ]
  },
  {
   "cell_type": "code",
   "execution_count": 22,
   "id": "a153c981",
   "metadata": {
    "ExecuteTime": {
     "end_time": "2023-04-19T20:05:15.370220Z",
     "start_time": "2023-04-19T20:05:15.360510Z"
    },
    "code_folding": [
     0
    ]
   },
   "outputs": [],
   "source": [
    "def mapBed(bedfile, expandedfile):\n",
    "\n",
    "    bed = pd.read_csv(bedfile, sep='\\t', header=None, names =[\"#chr\", \"start\", \"end\", \"strand\", \"id\"])  \n",
    "    bed[\"coor\"] = bed[\"#chr\"] +\":\"+bed[\"start\"].map(str) + \"-\" + bed[\"end\"].map(str)\n",
    "\n",
    "    ext = pd.read_csv(expandedfile, sep='\\t', header=None, names =[\"#chr_e\", \"start_e\", \"end_e\", \"id\"])\n",
    "    ext[\"coor_e\"] = ext[\"#chr_e\"] +\":\"+ext[\"start_e\"].map(str) + \"-\" + ext[\"end_e\"].map(str)\n",
    "\n",
    "    joint = pd.merge(ext[[\"id\", \"coor_e\"]], bed[[\"id\", \"coor\"]])\n",
    "    \n",
    "    return joint"
   ]
  },
  {
   "cell_type": "code",
   "execution_count": 23,
   "id": "1b7ed74a",
   "metadata": {
    "ExecuteTime": {
     "end_time": "2023-04-19T20:05:15.796330Z",
     "start_time": "2023-04-19T20:05:15.787978Z"
    },
    "code_folding": []
   },
   "outputs": [],
   "source": [
    "def insert4096(nulls_dict, joint_bedex, fa_ex_dict, coor):\n",
    "    \n",
    "    extended_nullseqs = {}\n",
    "    \n",
    "    for key, null_seq in nulls_dict.items():\n",
    "        \n",
    "        extended_coor = joint_bedex.loc[joint_bedex[\"coor\"]==coor, \"coor_e\"].iloc[0] # extend the coordinates to 4096\n",
    "        \n",
    "        extended_seq = fa_ex_dict[extended_coor]  # get the fasta file linked to the extended coordinates\n",
    "        \n",
    "        insert_start = len(extended_seq)/2 - 100 # get the start to insert  # figure out where to insert the sequence\n",
    "        \n",
    "        null4096 = seqInsert(extended_seq.lower(), insert_start, null_seq.upper())  # insert the 200bp MPRA tile w/ nullomer variants into sequence\n",
    "        \n",
    "        extended_nullseqs[key]=null4096  # add to the collection dictionary along with original key\n",
    "        \n",
    "    \n",
    "    return extended_nullseqs, extended_seq"
   ]
  },
  {
   "cell_type": "code",
   "execution_count": 24,
   "id": "fb9b3d27",
   "metadata": {
    "ExecuteTime": {
     "end_time": "2023-04-19T20:05:16.176040Z",
     "start_time": "2023-04-19T20:05:16.169558Z"
    },
    "code_folding": [
     0
    ]
   },
   "outputs": [],
   "source": [
    "def prettifySeq(original, mut):\n",
    "    \"\"\"\n",
    "    prettify sequence. \n",
    "        All matching bases will be written as \".\"\n",
    "        All non matching bases will be written w mutated base identity. \n",
    "    \"\"\"\n",
    "    prettyseq = \"\"\n",
    "    for o, m in zip(original, mut):\n",
    "        if o != m:\n",
    "            prettyseq += m\n",
    "        else:\n",
    "            prettyseq += \".\"\n",
    "\n",
    "    return prettyseq"
   ]
  },
  {
   "cell_type": "code",
   "execution_count": 25,
   "id": "e7a7a307",
   "metadata": {
    "ExecuteTime": {
     "end_time": "2023-04-19T20:07:03.385141Z",
     "start_time": "2023-04-19T20:05:41.107626Z"
    },
    "scrolled": true
   },
   "outputs": [
    {
     "name": "stdout",
     "output_type": "stream",
     "text": [
      "\n",
      "kmer\n",
      " TACCCATTCGAGTC \n",
      "key\n",
      " TACCC \n",
      "value\n",
      " ATTCGAGTC\n",
      "\n",
      "the nullomer sequence\n",
      " TACCCATTCGAGTC \n",
      "\n",
      "inserted\n",
      " {'TACCCATTCGAGTC.chr1:100333924-100334124.fwd.kmer-0.18': 'tgatgaggtgactaagttTACCCATTCGAGTCatctgtcctgatgaaatgtacaccttatccaaggtcatgttgatgttagagcctttgttgacttttctttgtctctgtgttccagtttcacctattaagagcaaataaaaagaaagggtctgaactaagattttaacatgataatatagctaagcaagaatacctttt'}\n",
      "\n",
      "4096 w/ null sequence\n",
      " {'TACCCATTCGAGTC.chr1:100333924-100334124.fwd.kmer-0.18': 'gctatttgagaaattgaaggtttcaaatttatatttaaaagacaaatgggctcataatctttattgctgtggaatttgttctaagcatctgaggacttcagcagtcaactatatagacaaatattggaggatgacatttgtgtttaatatagaatcttattttggctttttgaaagtgacttcattgttctttattctaagatatcataatctttctagtctgatttgtaaatgcttatttgctaaatcttttcctttataagacatcatacctttgagatgagagtagattgttttaaagataactttttcttgtcgttttgttttgttttgttttttatacagaaaacaagcatcgttgtgggtccaaggagacattttccgatccaaactgaaaaatcgaccatccagtgaaggaagtattaataaaattctttctggcctagatgatatgtctattggtggaaatctttcaaaaacacaaaacatggaacgatttggagaggtaagttttccctaggagattctatcttcttaaaactgatgttctgcatttgtttctcagttggacctatataacatagcagtgtcttttctctggatgccacgagtaccaagtttttagaagtagagccatccgtctatatagcaagaagcagaggaaagaaaccaattgcccttaaaaaaaaaaaagctataatttaaggagtaaattataaaggaggctactctggtaaggggtaatatttatagaaaggaaacagaaaagcaaactttctatttgaaaattaaaataaatatcaagaagaaaaattttaatgtgacaattgaggaaataatacataccacaagtggtgctttgaaagcctcaaattcatgctgatttctaaagtaagtgccaacttgaaaacatgattagggcacttttttaaaaaaaaattaaggctctactgtaaacaaaccactgtaaatagttgatatatattgtctgattaatattcataactacctggtgagttaggtaatactatctctattttataggaaggaaattgcatatcagagatgttctaacctcagtgtcaaacatggttcaatccatgtctgtctgagtccaagcttgtgtttttttatatcacaccctgttacctctgaataaaaatagaagtgatttactaagaattaggattatgagcatttttggaactagaaacaacgttgaaacaccatttgtttggttccactattgtagagacaagaaactggggtcccagaaaatttgtgatttgtgtaaagttccagggttgtttagtagtggggccactttgacaactgggcattcaattcctagtttaggtctttctaccacgttatacctgaggtgaagctaagtatctggtttatacttttatatctttaaaggagaaaaaaagaaaagaaaaaaaggacctgttcaaaatagtggaacaagctaggcagcgtgatgtgtgcctgtgtggtcccagttacttgggagactgaggtgggaggatgtttgagcccagtggtcgaagctgtagtgagctatgatggcgtcactgcactctatcctgggcgacagagcaagcacccgtctaaaaaagtaaaaaagaaaaaaagagaaagaaagaatatagaagcaacaagtgtagatttacattctattagacagtgacccattagacccggacaagggccttaaaccaaatactgtggctcaagcttagcccacaaggagcccagaatggaaggaacacatcatagctctcttaggttaatgactggcatcccaaacagatttctttttagcaagaaagatagccagagtgcttggagattgggagcatgaattttctttcagggacaaaggatggagaccgttggaagaaatgatttttaagcccagtgctctgttctccaggatggctgcTGATGAGGTGACTAAGTTTACCCATTCGAGTCATCTGTCCTGATGAAATGTACACCTTATCCAAGGTCATGTTGATGTTAGAGCCTTTGTTGACTTTTCTTTGTCTCTGTGTTCCAGTTTCACCTATTAAGAGCAAATAAAAAGAAAGGGTCTGAACTAAGATTTTAACATGATAATATAGCTAAGCAAGAATACCTTTTtcttgctctagtcagcatttcctccccaggttgagtacaagtaaatagggctttgagttatgaactctgaaaagacaaacataaagttaatcccgttatctgagaaacatatttaccttgcaggaacatagtactttctatatcataatcttgattaagttaacatctggtagttagaacgttttattctcatactcttttaatccccaatttgttgaatttaagaaacttaacatttatgtatcactgtgagggtaaggaatgcaatatgattggaattttaaataagacagttttaaatataagtgtatataagtctactcccccgtcttagtccatttgggctgctgtaacaaaacactacaggctaggcagcttataaacaacagaaatttatttctcacagttctgcaggttgggaaattcaagatcaaggcatcaacagatttggtgtctggtgagggcctgcctagtggttcatagacagcaccttctgcatcttcacatggcaaaaagggcaaacaaactcttaatgccatcaccttgtggggttgggatttcaacatatgaattttgggggctacaaatattcagaccatagcatcccccgtcattattttagttttagccattgaaatgctattgtttctgaaattcaagagcagaaatgaaagaattcagagatgccagagaatgatggtatggtgaatattttacacagcatcatgtatgggccctaggactactttattagctagttaatggctttgtgcaagtaactcttacaagcacttttctttccatgcttatctggtgccagctctggaatatcacatgaatatggaaaattcgcttactcaaaattggtcttaacagagttaatgatgtctttattattcttataaattgcacatgggaaaatagattgagaatgctgtaagaatttaatgtgtttcaagttgcatgtgggtaaaagtctatggaatttctggatttacttagtttgtatatatagaaagtgcaaaaaggcagtattcctcttgagattgacttttaaaaaaaagattaaaagcagagattctaaattattattttctttctaggcctacagtaattttcttgtgattagttactaggaagctctgtattaccagatttggagaattcgaatagagttttttaggccgggcatggtggcttacgcctgtaatcctggcactctgggaggctgaggcagatggatcacttgaggtcaggagtttgagaccaggctggccagcataacgaaaccccatctctactaaaaatagagaaaaaattagccaggtgtgatggcacatgcctgtagtcccagcttcttgggaggctgaggcatgagaatcacttgaacccgagaggcggaggttgcagagctgagatcatgccactgcactccagcctgggcaacagagtgagactcggtctcaaaaacaaaacaaaacgaaacaaaacaaaacaaaacaaaacaaaacaaaaaacaaaaatacagttttttagtgcttaggatgtaggtgaaaggaaaacaaccagaatgttgcaggtcatagtgatggactaagttgtggttttactgaatgttctttgccaacttagagttatgagaaataaaatagaggcttcacctttattgagcctggacttcagtgctgggctgggcactatgaaatatacacagcccatcctgtgggtctaggttaggctccctgctccctgctcctgccttgcactatacttttcccccacagtcctcatgcctccttccctgctcggtgatactctctaggaaggcagagacttttatttgtcttcatcatgattctgtttttggcaaaaggccttaataagtattatgtgaatggatgaagaaggcttatagtttcagagaaaaaaaaaggacagagacatgaaat'}\n",
      "\n",
      " pretty 4096 .................................................................................................................................................................................................................................................................................................................................................................................................................................................................................................................................................................................................................................................................................................................................................................................................................................................................................................................................................................................................................................................................................................................................................................................................................................................................................................................................................................................................................................................................................................................................................................................................................................................................................................................................................................................................................................................................................................................................................................................................................................................................................................................................................................................................................................................................................................................................................................................................................................................................................................................................................................................................................................................................................................................................................................................................................................................................................................................................................................................................................................................................................................................................................................................................................................................................................................................................................................................................................................................................................................................................................................................................................................................................................................................................................................................................................................................................................................................................................................................................................................................................................................................................................................................................................................................................\n",
      "\n",
      "kmer\n",
      " TACCCATTCGAGTC \n",
      "key\n",
      " TACCC \n",
      "value\n",
      " ATTCGAGTC\n",
      "\n",
      "the nullomer sequence\n",
      " TACCGATTCGCGTC \n",
      "\n",
      "inserted\n",
      " {'TACCCATTCGAGTC.chr1:100333924-100334124.fwd.null-0.18': 'tgatgaggtgactaagttTACCGATTCGCGTCatctgtcctgatgaaatgtacaccttatccaaggtcatgttgatgttagagcctttgttgacttttctttgtctctgtgttccagtttcacctattaagagcaaataaaaagaaagggtctgaactaagattttaacatgataatatagctaagcaagaatacctttt'}\n",
      "\n",
      "4096 w/ null sequence\n",
      " {'TACCCATTCGAGTC.chr1:100333924-100334124.fwd.null-0.18': 'gctatttgagaaattgaaggtttcaaatttatatttaaaagacaaatgggctcataatctttattgctgtggaatttgttctaagcatctgaggacttcagcagtcaactatatagacaaatattggaggatgacatttgtgtttaatatagaatcttattttggctttttgaaagtgacttcattgttctttattctaagatatcataatctttctagtctgatttgtaaatgcttatttgctaaatcttttcctttataagacatcatacctttgagatgagagtagattgttttaaagataactttttcttgtcgttttgttttgttttgttttttatacagaaaacaagcatcgttgtgggtccaaggagacattttccgatccaaactgaaaaatcgaccatccagtgaaggaagtattaataaaattctttctggcctagatgatatgtctattggtggaaatctttcaaaaacacaaaacatggaacgatttggagaggtaagttttccctaggagattctatcttcttaaaactgatgttctgcatttgtttctcagttggacctatataacatagcagtgtcttttctctggatgccacgagtaccaagtttttagaagtagagccatccgtctatatagcaagaagcagaggaaagaaaccaattgcccttaaaaaaaaaaaagctataatttaaggagtaaattataaaggaggctactctggtaaggggtaatatttatagaaaggaaacagaaaagcaaactttctatttgaaaattaaaataaatatcaagaagaaaaattttaatgtgacaattgaggaaataatacataccacaagtggtgctttgaaagcctcaaattcatgctgatttctaaagtaagtgccaacttgaaaacatgattagggcacttttttaaaaaaaaattaaggctctactgtaaacaaaccactgtaaatagttgatatatattgtctgattaatattcataactacctggtgagttaggtaatactatctctattttataggaaggaaattgcatatcagagatgttctaacctcagtgtcaaacatggttcaatccatgtctgtctgagtccaagcttgtgtttttttatatcacaccctgttacctctgaataaaaatagaagtgatttactaagaattaggattatgagcatttttggaactagaaacaacgttgaaacaccatttgtttggttccactattgtagagacaagaaactggggtcccagaaaatttgtgatttgtgtaaagttccagggttgtttagtagtggggccactttgacaactgggcattcaattcctagtttaggtctttctaccacgttatacctgaggtgaagctaagtatctggtttatacttttatatctttaaaggagaaaaaaagaaaagaaaaaaaggacctgttcaaaatagtggaacaagctaggcagcgtgatgtgtgcctgtgtggtcccagttacttgggagactgaggtgggaggatgtttgagcccagtggtcgaagctgtagtgagctatgatggcgtcactgcactctatcctgggcgacagagcaagcacccgtctaaaaaagtaaaaaagaaaaaaagagaaagaaagaatatagaagcaacaagtgtagatttacattctattagacagtgacccattagacccggacaagggccttaaaccaaatactgtggctcaagcttagcccacaaggagcccagaatggaaggaacacatcatagctctcttaggttaatgactggcatcccaaacagatttctttttagcaagaaagatagccagagtgcttggagattgggagcatgaattttctttcagggacaaaggatggagaccgttggaagaaatgatttttaagcccagtgctctgttctccaggatggctgcTGATGAGGTGACTAAGTTTACCGATTCGCGTCATCTGTCCTGATGAAATGTACACCTTATCCAAGGTCATGTTGATGTTAGAGCCTTTGTTGACTTTTCTTTGTCTCTGTGTTCCAGTTTCACCTATTAAGAGCAAATAAAAAGAAAGGGTCTGAACTAAGATTTTAACATGATAATATAGCTAAGCAAGAATACCTTTTtcttgctctagtcagcatttcctccccaggttgagtacaagtaaatagggctttgagttatgaactctgaaaagacaaacataaagttaatcccgttatctgagaaacatatttaccttgcaggaacatagtactttctatatcataatcttgattaagttaacatctggtagttagaacgttttattctcatactcttttaatccccaatttgttgaatttaagaaacttaacatttatgtatcactgtgagggtaaggaatgcaatatgattggaattttaaataagacagttttaaatataagtgtatataagtctactcccccgtcttagtccatttgggctgctgtaacaaaacactacaggctaggcagcttataaacaacagaaatttatttctcacagttctgcaggttgggaaattcaagatcaaggcatcaacagatttggtgtctggtgagggcctgcctagtggttcatagacagcaccttctgcatcttcacatggcaaaaagggcaaacaaactcttaatgccatcaccttgtggggttgggatttcaacatatgaattttgggggctacaaatattcagaccatagcatcccccgtcattattttagttttagccattgaaatgctattgtttctgaaattcaagagcagaaatgaaagaattcagagatgccagagaatgatggtatggtgaatattttacacagcatcatgtatgggccctaggactactttattagctagttaatggctttgtgcaagtaactcttacaagcacttttctttccatgcttatctggtgccagctctggaatatcacatgaatatggaaaattcgcttactcaaaattggtcttaacagagttaatgatgtctttattattcttataaattgcacatgggaaaatagattgagaatgctgtaagaatttaatgtgtttcaagttgcatgtgggtaaaagtctatggaatttctggatttacttagtttgtatatatagaaagtgcaaaaaggcagtattcctcttgagattgacttttaaaaaaaagattaaaagcagagattctaaattattattttctttctaggcctacagtaattttcttgtgattagttactaggaagctctgtattaccagatttggagaattcgaatagagttttttaggccgggcatggtggcttacgcctgtaatcctggcactctgggaggctgaggcagatggatcacttgaggtcaggagtttgagaccaggctggccagcataacgaaaccccatctctactaaaaatagagaaaaaattagccaggtgtgatggcacatgcctgtagtcccagcttcttgggaggctgaggcatgagaatcacttgaacccgagaggcggaggttgcagagctgagatcatgccactgcactccagcctgggcaacagagtgagactcggtctcaaaaacaaaacaaaacgaaacaaaacaaaacaaaacaaaacaaaacaaaaaacaaaaatacagttttttagtgcttaggatgtaggtgaaaggaaaacaaccagaatgttgcaggtcatagtgatggactaagttgtggttttactgaatgttctttgccaacttagagttatgagaaataaaatagaggcttcacctttattgagcctggacttcagtgctgggctgggcactatgaaatatacacagcccatcctgtgggtctaggttaggctccctgctccctgctcctgccttgcactatacttttcccccacagtcctcatgcctccttccctgctcggtgatactctctaggaaggcagagacttttatttgtcttcatcatgattctgtttttggcaaaaggccttaataagtattatgtgaatggatgaagaaggcttatagtttcagagaaaaaaaaaggacagagacatgaaat'}\n",
      "\n",
      " pretty 4096 ..................................................................................................................................................................................................................................................................................................................................................................................................................................................................................................................................................................................................................................................................................................................................................................................................................................................................................................................................................................................................................................................................................................................................................................................................................................................................................................................................................................................................................................................................................................................................................................................................................................................................................................................................................................................................................................................................................................................................................................................................................................................G.....C........................................................................................................................................................................................................................................................................................................................................................................................................................................................................................................................................................................................................................................................................................................................................................................................................................................................................................................................................................................................................................................................................................................................................................................................................................................................................................................................................................................................................................................................................................................................................................................................................................................................................................................................................................................................................................................................................................................................................................................................................................................................................................................................................................................................................\n",
      "\n",
      "kmer\n",
      " TACCCATTCGAGTC \n",
      "key\n",
      " TACCC \n",
      "value\n",
      " ATTCGAGTC\n",
      "\n",
      "the nullomer sequence\n",
      " TACCCATTCTAATC \n",
      "\n",
      "inserted\n",
      " {'TACCCATTCGAGTC.chr1:100333924-100334124.fwd.ctrl-0.18': 'tgatgaggtgactaagttTACCCATTCTAATCatctgtcctgatgaaatgtacaccttatccaaggtcatgttgatgttagagcctttgttgacttttctttgtctctgtgttccagtttcacctattaagagcaaataaaaagaaagggtctgaactaagattttaacatgataatatagctaagcaagaatacctttt'}\n",
      "\n",
      "4096 w/ null sequence\n",
      " {'TACCCATTCGAGTC.chr1:100333924-100334124.fwd.ctrl-0.18': 'gctatttgagaaattgaaggtttcaaatttatatttaaaagacaaatgggctcataatctttattgctgtggaatttgttctaagcatctgaggacttcagcagtcaactatatagacaaatattggaggatgacatttgtgtttaatatagaatcttattttggctttttgaaagtgacttcattgttctttattctaagatatcataatctttctagtctgatttgtaaatgcttatttgctaaatcttttcctttataagacatcatacctttgagatgagagtagattgttttaaagataactttttcttgtcgttttgttttgttttgttttttatacagaaaacaagcatcgttgtgggtccaaggagacattttccgatccaaactgaaaaatcgaccatccagtgaaggaagtattaataaaattctttctggcctagatgatatgtctattggtggaaatctttcaaaaacacaaaacatggaacgatttggagaggtaagttttccctaggagattctatcttcttaaaactgatgttctgcatttgtttctcagttggacctatataacatagcagtgtcttttctctggatgccacgagtaccaagtttttagaagtagagccatccgtctatatagcaagaagcagaggaaagaaaccaattgcccttaaaaaaaaaaaagctataatttaaggagtaaattataaaggaggctactctggtaaggggtaatatttatagaaaggaaacagaaaagcaaactttctatttgaaaattaaaataaatatcaagaagaaaaattttaatgtgacaattgaggaaataatacataccacaagtggtgctttgaaagcctcaaattcatgctgatttctaaagtaagtgccaacttgaaaacatgattagggcacttttttaaaaaaaaattaaggctctactgtaaacaaaccactgtaaatagttgatatatattgtctgattaatattcataactacctggtgagttaggtaatactatctctattttataggaaggaaattgcatatcagagatgttctaacctcagtgtcaaacatggttcaatccatgtctgtctgagtccaagcttgtgtttttttatatcacaccctgttacctctgaataaaaatagaagtgatttactaagaattaggattatgagcatttttggaactagaaacaacgttgaaacaccatttgtttggttccactattgtagagacaagaaactggggtcccagaaaatttgtgatttgtgtaaagttccagggttgtttagtagtggggccactttgacaactgggcattcaattcctagtttaggtctttctaccacgttatacctgaggtgaagctaagtatctggtttatacttttatatctttaaaggagaaaaaaagaaaagaaaaaaaggacctgttcaaaatagtggaacaagctaggcagcgtgatgtgtgcctgtgtggtcccagttacttgggagactgaggtgggaggatgtttgagcccagtggtcgaagctgtagtgagctatgatggcgtcactgcactctatcctgggcgacagagcaagcacccgtctaaaaaagtaaaaaagaaaaaaagagaaagaaagaatatagaagcaacaagtgtagatttacattctattagacagtgacccattagacccggacaagggccttaaaccaaatactgtggctcaagcttagcccacaaggagcccagaatggaaggaacacatcatagctctcttaggttaatgactggcatcccaaacagatttctttttagcaagaaagatagccagagtgcttggagattgggagcatgaattttctttcagggacaaaggatggagaccgttggaagaaatgatttttaagcccagtgctctgttctccaggatggctgcTGATGAGGTGACTAAGTTTACCCATTCTAATCATCTGTCCTGATGAAATGTACACCTTATCCAAGGTCATGTTGATGTTAGAGCCTTTGTTGACTTTTCTTTGTCTCTGTGTTCCAGTTTCACCTATTAAGAGCAAATAAAAAGAAAGGGTCTGAACTAAGATTTTAACATGATAATATAGCTAAGCAAGAATACCTTTTtcttgctctagtcagcatttcctccccaggttgagtacaagtaaatagggctttgagttatgaactctgaaaagacaaacataaagttaatcccgttatctgagaaacatatttaccttgcaggaacatagtactttctatatcataatcttgattaagttaacatctggtagttagaacgttttattctcatactcttttaatccccaatttgttgaatttaagaaacttaacatttatgtatcactgtgagggtaaggaatgcaatatgattggaattttaaataagacagttttaaatataagtgtatataagtctactcccccgtcttagtccatttgggctgctgtaacaaaacactacaggctaggcagcttataaacaacagaaatttatttctcacagttctgcaggttgggaaattcaagatcaaggcatcaacagatttggtgtctggtgagggcctgcctagtggttcatagacagcaccttctgcatcttcacatggcaaaaagggcaaacaaactcttaatgccatcaccttgtggggttgggatttcaacatatgaattttgggggctacaaatattcagaccatagcatcccccgtcattattttagttttagccattgaaatgctattgtttctgaaattcaagagcagaaatgaaagaattcagagatgccagagaatgatggtatggtgaatattttacacagcatcatgtatgggccctaggactactttattagctagttaatggctttgtgcaagtaactcttacaagcacttttctttccatgcttatctggtgccagctctggaatatcacatgaatatggaaaattcgcttactcaaaattggtcttaacagagttaatgatgtctttattattcttataaattgcacatgggaaaatagattgagaatgctgtaagaatttaatgtgtttcaagttgcatgtgggtaaaagtctatggaatttctggatttacttagtttgtatatatagaaagtgcaaaaaggcagtattcctcttgagattgacttttaaaaaaaagattaaaagcagagattctaaattattattttctttctaggcctacagtaattttcttgtgattagttactaggaagctctgtattaccagatttggagaattcgaatagagttttttaggccgggcatggtggcttacgcctgtaatcctggcactctgggaggctgaggcagatggatcacttgaggtcaggagtttgagaccaggctggccagcataacgaaaccccatctctactaaaaatagagaaaaaattagccaggtgtgatggcacatgcctgtagtcccagcttcttgggaggctgaggcatgagaatcacttgaacccgagaggcggaggttgcagagctgagatcatgccactgcactccagcctgggcaacagagtgagactcggtctcaaaaacaaaacaaaacgaaacaaaacaaaacaaaacaaaacaaaacaaaaaacaaaaatacagttttttagtgcttaggatgtaggtgaaaggaaaacaaccagaatgttgcaggtcatagtgatggactaagttgtggttttactgaatgttctttgccaacttagagttatgagaaataaaatagaggcttcacctttattgagcctggacttcagtgctgggctgggcactatgaaatatacacagcccatcctgtgggtctaggttaggctccctgctccctgctcctgccttgcactatacttttcccccacagtcctcatgcctccttccctgctcggtgatactctctaggaaggcagagacttttatttgtcttcatcatgattctgtttttggcaaaaggccttaataagtattatgtgaatggatgaagaaggcttatagtttcagagaaaaaaaaaggacagagacatgaaat'}\n",
      "\n",
      " pretty 4096 .......................................................................................................................................................................................................................................................................................................................................................................................................................................................................................................................................................................................................................................................................................................................................................................................................................................................................................................................................................................................................................................................................................................................................................................................................................................................................................................................................................................................................................................................................................................................................................................................................................................................................................................................................................................................................................................................................................................................................................................................................................................................T.A.......................................................................................................................................................................................................................................................................................................................................................................................................................................................................................................................................................................................................................................................................................................................................................................................................................................................................................................................................................................................................................................................................................................................................................................................................................................................................................................................................................................................................................................................................................................................................................................................................................................................................................................................................................................................................................................................................................................................................................................................................................................................................................................................................................................................................\n",
      "\n",
      "kmer\n",
      " TACCCATTCGAGTC \n",
      "key\n",
      " TACCC \n",
      "value\n",
      " ATTCGAGTC\n",
      "\n",
      "the nullomer sequence\n",
      " TACCCATTCGCGTG \n",
      "\n",
      "inserted\n",
      " {'TACCCATTCGAGTC.chr1:100333924-100334124.fwd.ctrl-1.18': 'tgatgaggtgactaagttTACCCATTCGCGTGatctgtcctgatgaaatgtacaccttatccaaggtcatgttgatgttagagcctttgttgacttttctttgtctctgtgttccagtttcacctattaagagcaaataaaaagaaagggtctgaactaagattttaacatgataatatagctaagcaagaatacctttt'}\n",
      "\n",
      "4096 w/ null sequence\n",
      " {'TACCCATTCGAGTC.chr1:100333924-100334124.fwd.ctrl-1.18': 'gctatttgagaaattgaaggtttcaaatttatatttaaaagacaaatgggctcataatctttattgctgtggaatttgttctaagcatctgaggacttcagcagtcaactatatagacaaatattggaggatgacatttgtgtttaatatagaatcttattttggctttttgaaagtgacttcattgttctttattctaagatatcataatctttctagtctgatttgtaaatgcttatttgctaaatcttttcctttataagacatcatacctttgagatgagagtagattgttttaaagataactttttcttgtcgttttgttttgttttgttttttatacagaaaacaagcatcgttgtgggtccaaggagacattttccgatccaaactgaaaaatcgaccatccagtgaaggaagtattaataaaattctttctggcctagatgatatgtctattggtggaaatctttcaaaaacacaaaacatggaacgatttggagaggtaagttttccctaggagattctatcttcttaaaactgatgttctgcatttgtttctcagttggacctatataacatagcagtgtcttttctctggatgccacgagtaccaagtttttagaagtagagccatccgtctatatagcaagaagcagaggaaagaaaccaattgcccttaaaaaaaaaaaagctataatttaaggagtaaattataaaggaggctactctggtaaggggtaatatttatagaaaggaaacagaaaagcaaactttctatttgaaaattaaaataaatatcaagaagaaaaattttaatgtgacaattgaggaaataatacataccacaagtggtgctttgaaagcctcaaattcatgctgatttctaaagtaagtgccaacttgaaaacatgattagggcacttttttaaaaaaaaattaaggctctactgtaaacaaaccactgtaaatagttgatatatattgtctgattaatattcataactacctggtgagttaggtaatactatctctattttataggaaggaaattgcatatcagagatgttctaacctcagtgtcaaacatggttcaatccatgtctgtctgagtccaagcttgtgtttttttatatcacaccctgttacctctgaataaaaatagaagtgatttactaagaattaggattatgagcatttttggaactagaaacaacgttgaaacaccatttgtttggttccactattgtagagacaagaaactggggtcccagaaaatttgtgatttgtgtaaagttccagggttgtttagtagtggggccactttgacaactgggcattcaattcctagtttaggtctttctaccacgttatacctgaggtgaagctaagtatctggtttatacttttatatctttaaaggagaaaaaaagaaaagaaaaaaaggacctgttcaaaatagtggaacaagctaggcagcgtgatgtgtgcctgtgtggtcccagttacttgggagactgaggtgggaggatgtttgagcccagtggtcgaagctgtagtgagctatgatggcgtcactgcactctatcctgggcgacagagcaagcacccgtctaaaaaagtaaaaaagaaaaaaagagaaagaaagaatatagaagcaacaagtgtagatttacattctattagacagtgacccattagacccggacaagggccttaaaccaaatactgtggctcaagcttagcccacaaggagcccagaatggaaggaacacatcatagctctcttaggttaatgactggcatcccaaacagatttctttttagcaagaaagatagccagagtgcttggagattgggagcatgaattttctttcagggacaaaggatggagaccgttggaagaaatgatttttaagcccagtgctctgttctccaggatggctgcTGATGAGGTGACTAAGTTTACCCATTCGCGTGATCTGTCCTGATGAAATGTACACCTTATCCAAGGTCATGTTGATGTTAGAGCCTTTGTTGACTTTTCTTTGTCTCTGTGTTCCAGTTTCACCTATTAAGAGCAAATAAAAAGAAAGGGTCTGAACTAAGATTTTAACATGATAATATAGCTAAGCAAGAATACCTTTTtcttgctctagtcagcatttcctccccaggttgagtacaagtaaatagggctttgagttatgaactctgaaaagacaaacataaagttaatcccgttatctgagaaacatatttaccttgcaggaacatagtactttctatatcataatcttgattaagttaacatctggtagttagaacgttttattctcatactcttttaatccccaatttgttgaatttaagaaacttaacatttatgtatcactgtgagggtaaggaatgcaatatgattggaattttaaataagacagttttaaatataagtgtatataagtctactcccccgtcttagtccatttgggctgctgtaacaaaacactacaggctaggcagcttataaacaacagaaatttatttctcacagttctgcaggttgggaaattcaagatcaaggcatcaacagatttggtgtctggtgagggcctgcctagtggttcatagacagcaccttctgcatcttcacatggcaaaaagggcaaacaaactcttaatgccatcaccttgtggggttgggatttcaacatatgaattttgggggctacaaatattcagaccatagcatcccccgtcattattttagttttagccattgaaatgctattgtttctgaaattcaagagcagaaatgaaagaattcagagatgccagagaatgatggtatggtgaatattttacacagcatcatgtatgggccctaggactactttattagctagttaatggctttgtgcaagtaactcttacaagcacttttctttccatgcttatctggtgccagctctggaatatcacatgaatatggaaaattcgcttactcaaaattggtcttaacagagttaatgatgtctttattattcttataaattgcacatgggaaaatagattgagaatgctgtaagaatttaatgtgtttcaagttgcatgtgggtaaaagtctatggaatttctggatttacttagtttgtatatatagaaagtgcaaaaaggcagtattcctcttgagattgacttttaaaaaaaagattaaaagcagagattctaaattattattttctttctaggcctacagtaattttcttgtgattagttactaggaagctctgtattaccagatttggagaattcgaatagagttttttaggccgggcatggtggcttacgcctgtaatcctggcactctgggaggctgaggcagatggatcacttgaggtcaggagtttgagaccaggctggccagcataacgaaaccccatctctactaaaaatagagaaaaaattagccaggtgtgatggcacatgcctgtagtcccagcttcttgggaggctgaggcatgagaatcacttgaacccgagaggcggaggttgcagagctgagatcatgccactgcactccagcctgggcaacagagtgagactcggtctcaaaaacaaaacaaaacgaaacaaaacaaaacaaaacaaaacaaaacaaaaaacaaaaatacagttttttagtgcttaggatgtaggtgaaaggaaaacaaccagaatgttgcaggtcatagtgatggactaagttgtggttttactgaatgttctttgccaacttagagttatgagaaataaaatagaggcttcacctttattgagcctggacttcagtgctgggctgggcactatgaaatatacacagcccatcctgtgggtctaggttaggctccctgctccctgctcctgccttgcactatacttttcccccacagtcctcatgcctccttccctgctcggtgatactctctaggaaggcagagacttttatttgtcttcatcatgattctgtttttggcaaaaggccttaataagtattatgtgaatggatgaagaaggcttatagtttcagagaaaaaaaaaggacagagacatgaaat'}\n",
      "\n",
      " pretty 4096 ........................................................................................................................................................................................................................................................................................................................................................................................................................................................................................................................................................................................................................................................................................................................................................................................................................................................................................................................................................................................................................................................................................................................................................................................................................................................................................................................................................................................................................................................................................................................................................................................................................................................................................................................................................................................................................................................................................................................................................................................................................................................C..G.....................................................................................................................................................................................................................................................................................................................................................................................................................................................................................................................................................................................................................................................................................................................................................................................................................................................................................................................................................................................................................................................................................................................................................................................................................................................................................................................................................................................................................................................................................................................................................................................................................................................................................................................................................................................................................................................................................................................................................................................................................................................................................................................................................................................................\n",
      "\n",
      "kmer\n",
      " TACCCATTCGAGTC \n",
      "key\n",
      " TACCC \n",
      "value\n",
      " ATTCGAGTC\n",
      "\n",
      "the nullomer sequence\n",
      " CACCCATTCGATTC \n",
      "\n",
      "inserted\n",
      " {'TACCCATTCGAGTC.chr1:100333924-100334124.fwd.ctrl-2.18': 'tgatgaggtgactaagttCACCCATTCGATTCatctgtcctgatgaaatgtacaccttatccaaggtcatgttgatgttagagcctttgttgacttttctttgtctctgtgttccagtttcacctattaagagcaaataaaaagaaagggtctgaactaagattttaacatgataatatagctaagcaagaatacctttt'}\n",
      "\n",
      "4096 w/ null sequence\n",
      " {'TACCCATTCGAGTC.chr1:100333924-100334124.fwd.ctrl-2.18': 'gctatttgagaaattgaaggtttcaaatttatatttaaaagacaaatgggctcataatctttattgctgtggaatttgttctaagcatctgaggacttcagcagtcaactatatagacaaatattggaggatgacatttgtgtttaatatagaatcttattttggctttttgaaagtgacttcattgttctttattctaagatatcataatctttctagtctgatttgtaaatgcttatttgctaaatcttttcctttataagacatcatacctttgagatgagagtagattgttttaaagataactttttcttgtcgttttgttttgttttgttttttatacagaaaacaagcatcgttgtgggtccaaggagacattttccgatccaaactgaaaaatcgaccatccagtgaaggaagtattaataaaattctttctggcctagatgatatgtctattggtggaaatctttcaaaaacacaaaacatggaacgatttggagaggtaagttttccctaggagattctatcttcttaaaactgatgttctgcatttgtttctcagttggacctatataacatagcagtgtcttttctctggatgccacgagtaccaagtttttagaagtagagccatccgtctatatagcaagaagcagaggaaagaaaccaattgcccttaaaaaaaaaaaagctataatttaaggagtaaattataaaggaggctactctggtaaggggtaatatttatagaaaggaaacagaaaagcaaactttctatttgaaaattaaaataaatatcaagaagaaaaattttaatgtgacaattgaggaaataatacataccacaagtggtgctttgaaagcctcaaattcatgctgatttctaaagtaagtgccaacttgaaaacatgattagggcacttttttaaaaaaaaattaaggctctactgtaaacaaaccactgtaaatagttgatatatattgtctgattaatattcataactacctggtgagttaggtaatactatctctattttataggaaggaaattgcatatcagagatgttctaacctcagtgtcaaacatggttcaatccatgtctgtctgagtccaagcttgtgtttttttatatcacaccctgttacctctgaataaaaatagaagtgatttactaagaattaggattatgagcatttttggaactagaaacaacgttgaaacaccatttgtttggttccactattgtagagacaagaaactggggtcccagaaaatttgtgatttgtgtaaagttccagggttgtttagtagtggggccactttgacaactgggcattcaattcctagtttaggtctttctaccacgttatacctgaggtgaagctaagtatctggtttatacttttatatctttaaaggagaaaaaaagaaaagaaaaaaaggacctgttcaaaatagtggaacaagctaggcagcgtgatgtgtgcctgtgtggtcccagttacttgggagactgaggtgggaggatgtttgagcccagtggtcgaagctgtagtgagctatgatggcgtcactgcactctatcctgggcgacagagcaagcacccgtctaaaaaagtaaaaaagaaaaaaagagaaagaaagaatatagaagcaacaagtgtagatttacattctattagacagtgacccattagacccggacaagggccttaaaccaaatactgtggctcaagcttagcccacaaggagcccagaatggaaggaacacatcatagctctcttaggttaatgactggcatcccaaacagatttctttttagcaagaaagatagccagagtgcttggagattgggagcatgaattttctttcagggacaaaggatggagaccgttggaagaaatgatttttaagcccagtgctctgttctccaggatggctgcTGATGAGGTGACTAAGTTCACCCATTCGATTCATCTGTCCTGATGAAATGTACACCTTATCCAAGGTCATGTTGATGTTAGAGCCTTTGTTGACTTTTCTTTGTCTCTGTGTTCCAGTTTCACCTATTAAGAGCAAATAAAAAGAAAGGGTCTGAACTAAGATTTTAACATGATAATATAGCTAAGCAAGAATACCTTTTtcttgctctagtcagcatttcctccccaggttgagtacaagtaaatagggctttgagttatgaactctgaaaagacaaacataaagttaatcccgttatctgagaaacatatttaccttgcaggaacatagtactttctatatcataatcttgattaagttaacatctggtagttagaacgttttattctcatactcttttaatccccaatttgttgaatttaagaaacttaacatttatgtatcactgtgagggtaaggaatgcaatatgattggaattttaaataagacagttttaaatataagtgtatataagtctactcccccgtcttagtccatttgggctgctgtaacaaaacactacaggctaggcagcttataaacaacagaaatttatttctcacagttctgcaggttgggaaattcaagatcaaggcatcaacagatttggtgtctggtgagggcctgcctagtggttcatagacagcaccttctgcatcttcacatggcaaaaagggcaaacaaactcttaatgccatcaccttgtggggttgggatttcaacatatgaattttgggggctacaaatattcagaccatagcatcccccgtcattattttagttttagccattgaaatgctattgtttctgaaattcaagagcagaaatgaaagaattcagagatgccagagaatgatggtatggtgaatattttacacagcatcatgtatgggccctaggactactttattagctagttaatggctttgtgcaagtaactcttacaagcacttttctttccatgcttatctggtgccagctctggaatatcacatgaatatggaaaattcgcttactcaaaattggtcttaacagagttaatgatgtctttattattcttataaattgcacatgggaaaatagattgagaatgctgtaagaatttaatgtgtttcaagttgcatgtgggtaaaagtctatggaatttctggatttacttagtttgtatatatagaaagtgcaaaaaggcagtattcctcttgagattgacttttaaaaaaaagattaaaagcagagattctaaattattattttctttctaggcctacagtaattttcttgtgattagttactaggaagctctgtattaccagatttggagaattcgaatagagttttttaggccgggcatggtggcttacgcctgtaatcctggcactctgggaggctgaggcagatggatcacttgaggtcaggagtttgagaccaggctggccagcataacgaaaccccatctctactaaaaatagagaaaaaattagccaggtgtgatggcacatgcctgtagtcccagcttcttgggaggctgaggcatgagaatcacttgaacccgagaggcggaggttgcagagctgagatcatgccactgcactccagcctgggcaacagagtgagactcggtctcaaaaacaaaacaaaacgaaacaaaacaaaacaaaacaaaacaaaacaaaaaacaaaaatacagttttttagtgcttaggatgtaggtgaaaggaaaacaaccagaatgttgcaggtcatagtgatggactaagttgtggttttactgaatgttctttgccaacttagagttatgagaaataaaatagaggcttcacctttattgagcctggacttcagtgctgggctgggcactatgaaatatacacagcccatcctgtgggtctaggttaggctccctgctccctgctcctgccttgcactatacttttcccccacagtcctcatgcctccttccctgctcggtgatactctctaggaaggcagagacttttatttgtcttcatcatgattctgtttttggcaaaaggccttaataagtattatgtgaatggatgaagaaggcttatagtttcagagaaaaaaaaaggacagagacatgaaat'}\n",
      "\n",
      " pretty 4096 ..............................................................................................................................................................................................................................................................................................................................................................................................................................................................................................................................................................................................................................................................................................................................................................................................................................................................................................................................................................................................................................................................................................................................................................................................................................................................................................................................................................................................................................................................................................................................................................................................................................................................................................................................................................................................................................................................................................................................................................................................................................................C..........T.......................................................................................................................................................................................................................................................................................................................................................................................................................................................................................................................................................................................................................................................................................................................................................................................................................................................................................................................................................................................................................................................................................................................................................................................................................................................................................................................................................................................................................................................................................................................................................................................................................................................................................................................................................................................................................................................................................................................................................................................................................................................................................................................................................................................................\n"
     ]
    }
   ],
   "source": [
    "fa_dict = faToDict(FA)\n",
    "fa_ex_dict = faToDict(FA_EXT_BED)\n",
    "joint_bedex=mapBed(BED, EXTENDED)\n",
    "\n",
    "\n",
    "v, partial = 0, 0\n",
    "issues = []\n",
    "with open(FA_MUT, \"r\") as fasta_reader:\n",
    "    out = FA_MUT.strip(\".fa\") + \".ext4096.fa\"\n",
    "    \n",
    "    for values in SimpleFastaParser(fasta_reader):\n",
    "        \n",
    "        # parse fasta\n",
    "        name, null = values\n",
    "        \n",
    "        # get kmer information\n",
    "        kmer, key, value_seq, coor, region_id = dissectFaId(name)\n",
    "        \n",
    "        if 'rev' in region_id:  # skip reverse elements for now. \n",
    "            continue\n",
    "        else:\n",
    "\n",
    "            # fa linked to regions (linked to kmer)\n",
    "            region_fa = fa_dict[coor]\n",
    "\n",
    "            # get sequences w/ nulls inserted.  \n",
    "            nulls = findKmerInsertNull(kmer, null, region_fa, region_id)\n",
    "\n",
    "            # insert 200bp null sequence into the 4096 sequence\n",
    "            null_inserts, original_seq = insert4096(nulls, joint_bedex, fa_ex_dict, coor)\n",
    "\n",
    "            if v < 5:\n",
    "                print(\"\\nkmer\\n\", kmer, \"\\nkey\\n\", key, \"\\nvalue\\n\", value_seq)\n",
    "                print(\"\\nthe nullomer sequence\\n\", null, \"\\n\\ninserted\\n\", nulls)\n",
    "                print(\"\\n4096 w/ null sequence\\n\", null_inserts)\n",
    "                print(\"\\n pretty 4096\", prettifySeq(original_seq.upper(), list(null_inserts.values())[0].upper()))\n",
    "\n",
    "                # open writer\n",
    "                writer = open(FA_MUT.strip(\".fa\") + f\".ext4096.{partial}.fa\", \"w\")\n",
    "\n",
    "            # write original row\n",
    "            if len(original_seq)>=4095:\n",
    "\n",
    "                writer.write(f\">{region_id}\\n{original_seq.upper()}\\n\")\n",
    "\n",
    "                # write nullomers\n",
    "                for null_seqname, null_seq in null_inserts.items():\n",
    "                    writer.write(f\">{null_seqname}\\n{null_seq.upper()}\\n\")\n",
    "                v+=1\n",
    "            else:\n",
    "                #print(\"ISSUES\", name, region_str, len(original_seq))\n",
    "                issues.append(region_id)\n",
    "                continue\n",
    "\n",
    "            if v%999==0:\n",
    "                # finish writing the 100th sequence, close the file, then write a new file for the next 100 lines\n",
    "                writer.close()\n",
    "                partial +=1\n",
    "                writer = open(FA_MUT.strip(\".fa\") + f\".ext4096.{partial}.fa\", \"w\")\n",
    "\n",
    "writer.close()\n"
   ]
  },
  {
   "cell_type": "code",
   "execution_count": 26,
   "id": "8498ef89",
   "metadata": {
    "ExecuteTime": {
     "end_time": "2023-04-19T20:16:28.023323Z",
     "start_time": "2023-04-19T20:16:28.015990Z"
    }
   },
   "outputs": [
    {
     "data": {
      "text/plain": [
       "19"
      ]
     },
     "execution_count": 26,
     "metadata": {},
     "output_type": "execute_result"
    }
   ],
   "source": [
    "partial"
   ]
  },
  {
   "cell_type": "markdown",
   "id": "aeda137a",
   "metadata": {},
   "source": [
    "# write config"
   ]
  },
  {
   "cell_type": "code",
   "execution_count": 28,
   "id": "d9300789",
   "metadata": {
    "ExecuteTime": {
     "end_time": "2023-04-18T22:02:53.597737Z",
     "start_time": "2023-04-18T22:02:53.589253Z"
    }
   },
   "outputs": [],
   "source": [
    "crw.check(config, f\"common.{MER}mer\")\n",
    "config[f\"common.{MER}mer\"][\"coor\"] = COOR\n",
    "config[f\"common.{MER}mer.{NMUTS}mut\"][\"ext_fa\"]=out\n",
    "\n",
    "crw.write(config, cfn)"
   ]
  },
  {
   "cell_type": "markdown",
   "id": "c50f1a16",
   "metadata": {},
   "source": [
    "# predict w sei"
   ]
  },
  {
   "cell_type": "code",
   "execution_count": 29,
   "id": "07ebe6b8",
   "metadata": {
    "ExecuteTime": {
     "end_time": "2023-04-18T22:02:59.308200Z",
     "start_time": "2023-04-18T22:02:59.300631Z"
    }
   },
   "outputs": [],
   "source": [
    "def launchSei(file, build, qsub):\n",
    "    \n",
    "    SEIDIR = os.path.join(os.path.split(file)[0], \"sei_predictions\")\n",
    "    \n",
    "    if os.path.exists(SEIDIR) is False:\n",
    "        os.mkdir(SEIDIR)\n",
    "    print(SEIDIR)\n",
    "    \n",
    "    if qsub is True:\n",
    "        SCRIPT = \"/wynton/home/ahituv/fongsl/nullomers/bin-lock/interpret_sei_array.sh\"\n",
    "        cmd = ['qsub',\n",
    "           SCRIPT, \n",
    "           build, \n",
    "           SEIDIR\n",
    "          ]\n",
    "        \n",
    "    else:\n",
    "        SCRIPT = \"/wynton/home/ahituv/fongsl/bin/sei-framework/sarah_scripts/launch_qsub.py\"\n",
    "\n",
    "        cmd = ['python',\n",
    "           SCRIPT, \n",
    "           file, \n",
    "           build, \n",
    "           SEIDIR\n",
    "          ]\n",
    "    \n",
    "    sp.call(\" \".join(cmd), shell=True)"
   ]
  },
  {
   "cell_type": "markdown",
   "id": "95ce0fc8",
   "metadata": {},
   "source": [
    "## launch sei"
   ]
  },
  {
   "cell_type": "code",
   "execution_count": 33,
   "id": "e8a6a60f",
   "metadata": {
    "ExecuteTime": {
     "end_time": "2023-04-18T22:03:55.795153Z",
     "start_time": "2023-04-18T22:03:55.785923Z"
    }
   },
   "outputs": [
    {
     "name": "stdout",
     "output_type": "stream",
     "text": [
      "115\n"
     ]
    }
   ],
   "source": [
    "fs = glob.glob(\"/wynton/home/ahituv/fongsl/nullomers/data/lock/common/common.14mers.2mut.nulls.fo.ext4096.*.fa\")\n",
    "print(len(fs))"
   ]
  },
  {
   "cell_type": "code",
   "execution_count": 34,
   "id": "470353ea",
   "metadata": {
    "ExecuteTime": {
     "end_time": "2023-04-18T22:08:59.355872Z",
     "start_time": "2023-04-18T22:08:44.254971Z"
    }
   },
   "outputs": [
    {
     "name": "stdout",
     "output_type": "stream",
     "text": [
      "/wynton/home/ahituv/fongsl/nullomers/data/lock/common/sei_predictions\n",
      "Your job 2596392 (\"interpret_sei.sh\") has been submitted\n",
      "/wynton/home/ahituv/fongsl/nullomers/data/lock/common/sei_predictions\n",
      "Your job 2596393 (\"interpret_sei.sh\") has been submitted\n",
      "/wynton/home/ahituv/fongsl/nullomers/data/lock/common/sei_predictions\n",
      "Your job 2596394 (\"interpret_sei.sh\") has been submitted\n",
      "/wynton/home/ahituv/fongsl/nullomers/data/lock/common/sei_predictions\n",
      "Your job 2596395 (\"interpret_sei.sh\") has been submitted\n",
      "/wynton/home/ahituv/fongsl/nullomers/data/lock/common/sei_predictions\n",
      "Your job 2596396 (\"interpret_sei.sh\") has been submitted\n",
      "/wynton/home/ahituv/fongsl/nullomers/data/lock/common/sei_predictions\n",
      "Your job 2596397 (\"interpret_sei.sh\") has been submitted\n",
      "/wynton/home/ahituv/fongsl/nullomers/data/lock/common/sei_predictions\n",
      "Your job 2596398 (\"interpret_sei.sh\") has been submitted\n",
      "/wynton/home/ahituv/fongsl/nullomers/data/lock/common/sei_predictions\n",
      "Your job 2596399 (\"interpret_sei.sh\") has been submitted\n",
      "/wynton/home/ahituv/fongsl/nullomers/data/lock/common/sei_predictions\n",
      "Your job 2596400 (\"interpret_sei.sh\") has been submitted\n",
      "/wynton/home/ahituv/fongsl/nullomers/data/lock/common/sei_predictions\n",
      "Your job 2596401 (\"interpret_sei.sh\") has been submitted\n",
      "/wynton/home/ahituv/fongsl/nullomers/data/lock/common/sei_predictions\n",
      "Your job 2596402 (\"interpret_sei.sh\") has been submitted\n",
      "/wynton/home/ahituv/fongsl/nullomers/data/lock/common/sei_predictions\n",
      "Your job 2596403 (\"interpret_sei.sh\") has been submitted\n",
      "/wynton/home/ahituv/fongsl/nullomers/data/lock/common/sei_predictions\n",
      "Your job 2596404 (\"interpret_sei.sh\") has been submitted\n",
      "/wynton/home/ahituv/fongsl/nullomers/data/lock/common/sei_predictions\n",
      "Your job 2596405 (\"interpret_sei.sh\") has been submitted\n",
      "/wynton/home/ahituv/fongsl/nullomers/data/lock/common/sei_predictions\n",
      "Your job 2596406 (\"interpret_sei.sh\") has been submitted\n",
      "/wynton/home/ahituv/fongsl/nullomers/data/lock/common/sei_predictions\n",
      "Your job 2596407 (\"interpret_sei.sh\") has been submitted\n",
      "/wynton/home/ahituv/fongsl/nullomers/data/lock/common/sei_predictions\n",
      "Your job 2596408 (\"interpret_sei.sh\") has been submitted\n",
      "/wynton/home/ahituv/fongsl/nullomers/data/lock/common/sei_predictions\n",
      "Your job 2596409 (\"interpret_sei.sh\") has been submitted\n",
      "/wynton/home/ahituv/fongsl/nullomers/data/lock/common/sei_predictions\n",
      "Your job 2596410 (\"interpret_sei.sh\") has been submitted\n",
      "/wynton/home/ahituv/fongsl/nullomers/data/lock/common/sei_predictions\n",
      "Your job 2596411 (\"interpret_sei.sh\") has been submitted\n",
      "/wynton/home/ahituv/fongsl/nullomers/data/lock/common/sei_predictions\n",
      "Your job 2596412 (\"interpret_sei.sh\") has been submitted\n",
      "/wynton/home/ahituv/fongsl/nullomers/data/lock/common/sei_predictions\n",
      "Your job 2596413 (\"interpret_sei.sh\") has been submitted\n",
      "/wynton/home/ahituv/fongsl/nullomers/data/lock/common/sei_predictions\n",
      "Your job 2596414 (\"interpret_sei.sh\") has been submitted\n",
      "/wynton/home/ahituv/fongsl/nullomers/data/lock/common/sei_predictions\n",
      "Your job 2596415 (\"interpret_sei.sh\") has been submitted\n",
      "/wynton/home/ahituv/fongsl/nullomers/data/lock/common/sei_predictions\n",
      "Your job 2596416 (\"interpret_sei.sh\") has been submitted\n",
      "/wynton/home/ahituv/fongsl/nullomers/data/lock/common/sei_predictions\n",
      "Your job 2596417 (\"interpret_sei.sh\") has been submitted\n",
      "/wynton/home/ahituv/fongsl/nullomers/data/lock/common/sei_predictions\n",
      "Your job 2596418 (\"interpret_sei.sh\") has been submitted\n",
      "/wynton/home/ahituv/fongsl/nullomers/data/lock/common/sei_predictions\n",
      "Your job 2596419 (\"interpret_sei.sh\") has been submitted\n",
      "/wynton/home/ahituv/fongsl/nullomers/data/lock/common/sei_predictions\n",
      "Your job 2596420 (\"interpret_sei.sh\") has been submitted\n",
      "/wynton/home/ahituv/fongsl/nullomers/data/lock/common/sei_predictions\n",
      "Your job 2596421 (\"interpret_sei.sh\") has been submitted\n",
      "/wynton/home/ahituv/fongsl/nullomers/data/lock/common/sei_predictions\n",
      "Your job 2596422 (\"interpret_sei.sh\") has been submitted\n",
      "/wynton/home/ahituv/fongsl/nullomers/data/lock/common/sei_predictions\n",
      "Your job 2596423 (\"interpret_sei.sh\") has been submitted\n",
      "/wynton/home/ahituv/fongsl/nullomers/data/lock/common/sei_predictions\n",
      "Your job 2596424 (\"interpret_sei.sh\") has been submitted\n",
      "/wynton/home/ahituv/fongsl/nullomers/data/lock/common/sei_predictions\n",
      "Your job 2596425 (\"interpret_sei.sh\") has been submitted\n",
      "/wynton/home/ahituv/fongsl/nullomers/data/lock/common/sei_predictions\n",
      "Your job 2596426 (\"interpret_sei.sh\") has been submitted\n",
      "/wynton/home/ahituv/fongsl/nullomers/data/lock/common/sei_predictions\n",
      "Your job 2596427 (\"interpret_sei.sh\") has been submitted\n",
      "/wynton/home/ahituv/fongsl/nullomers/data/lock/common/sei_predictions\n",
      "Your job 2596428 (\"interpret_sei.sh\") has been submitted\n",
      "/wynton/home/ahituv/fongsl/nullomers/data/lock/common/sei_predictions\n",
      "Your job 2596429 (\"interpret_sei.sh\") has been submitted\n",
      "/wynton/home/ahituv/fongsl/nullomers/data/lock/common/sei_predictions\n",
      "Your job 2596430 (\"interpret_sei.sh\") has been submitted\n",
      "/wynton/home/ahituv/fongsl/nullomers/data/lock/common/sei_predictions\n",
      "Your job 2596431 (\"interpret_sei.sh\") has been submitted\n",
      "/wynton/home/ahituv/fongsl/nullomers/data/lock/common/sei_predictions\n",
      "Your job 2596432 (\"interpret_sei.sh\") has been submitted\n",
      "/wynton/home/ahituv/fongsl/nullomers/data/lock/common/sei_predictions\n",
      "Your job 2596433 (\"interpret_sei.sh\") has been submitted\n",
      "/wynton/home/ahituv/fongsl/nullomers/data/lock/common/sei_predictions\n",
      "Your job 2596434 (\"interpret_sei.sh\") has been submitted\n",
      "/wynton/home/ahituv/fongsl/nullomers/data/lock/common/sei_predictions\n",
      "Your job 2596435 (\"interpret_sei.sh\") has been submitted\n",
      "/wynton/home/ahituv/fongsl/nullomers/data/lock/common/sei_predictions\n",
      "Your job 2596436 (\"interpret_sei.sh\") has been submitted\n",
      "/wynton/home/ahituv/fongsl/nullomers/data/lock/common/sei_predictions\n",
      "Your job 2596437 (\"interpret_sei.sh\") has been submitted\n",
      "/wynton/home/ahituv/fongsl/nullomers/data/lock/common/sei_predictions\n",
      "Your job 2596438 (\"interpret_sei.sh\") has been submitted\n",
      "/wynton/home/ahituv/fongsl/nullomers/data/lock/common/sei_predictions\n",
      "Your job 2596439 (\"interpret_sei.sh\") has been submitted\n",
      "/wynton/home/ahituv/fongsl/nullomers/data/lock/common/sei_predictions\n",
      "Your job 2596440 (\"interpret_sei.sh\") has been submitted\n",
      "/wynton/home/ahituv/fongsl/nullomers/data/lock/common/sei_predictions\n",
      "Your job 2596441 (\"interpret_sei.sh\") has been submitted\n",
      "/wynton/home/ahituv/fongsl/nullomers/data/lock/common/sei_predictions\n",
      "Your job 2596442 (\"interpret_sei.sh\") has been submitted\n",
      "/wynton/home/ahituv/fongsl/nullomers/data/lock/common/sei_predictions\n",
      "Your job 2596443 (\"interpret_sei.sh\") has been submitted\n",
      "/wynton/home/ahituv/fongsl/nullomers/data/lock/common/sei_predictions\n",
      "Your job 2596444 (\"interpret_sei.sh\") has been submitted\n",
      "/wynton/home/ahituv/fongsl/nullomers/data/lock/common/sei_predictions\n",
      "Your job 2596445 (\"interpret_sei.sh\") has been submitted\n",
      "/wynton/home/ahituv/fongsl/nullomers/data/lock/common/sei_predictions\n",
      "Your job 2596446 (\"interpret_sei.sh\") has been submitted\n",
      "/wynton/home/ahituv/fongsl/nullomers/data/lock/common/sei_predictions\n",
      "Your job 2596447 (\"interpret_sei.sh\") has been submitted\n",
      "/wynton/home/ahituv/fongsl/nullomers/data/lock/common/sei_predictions\n",
      "Your job 2596448 (\"interpret_sei.sh\") has been submitted\n",
      "/wynton/home/ahituv/fongsl/nullomers/data/lock/common/sei_predictions\n",
      "Your job 2596449 (\"interpret_sei.sh\") has been submitted\n",
      "/wynton/home/ahituv/fongsl/nullomers/data/lock/common/sei_predictions\n",
      "Your job 2596450 (\"interpret_sei.sh\") has been submitted\n",
      "/wynton/home/ahituv/fongsl/nullomers/data/lock/common/sei_predictions\n",
      "Your job 2596451 (\"interpret_sei.sh\") has been submitted\n",
      "/wynton/home/ahituv/fongsl/nullomers/data/lock/common/sei_predictions\n",
      "Your job 2596452 (\"interpret_sei.sh\") has been submitted\n",
      "/wynton/home/ahituv/fongsl/nullomers/data/lock/common/sei_predictions\n",
      "Your job 2596453 (\"interpret_sei.sh\") has been submitted\n",
      "/wynton/home/ahituv/fongsl/nullomers/data/lock/common/sei_predictions\n",
      "Your job 2596454 (\"interpret_sei.sh\") has been submitted\n",
      "/wynton/home/ahituv/fongsl/nullomers/data/lock/common/sei_predictions\n",
      "Your job 2596455 (\"interpret_sei.sh\") has been submitted\n",
      "/wynton/home/ahituv/fongsl/nullomers/data/lock/common/sei_predictions\n"
     ]
    },
    {
     "name": "stdout",
     "output_type": "stream",
     "text": [
      "Your job 2596456 (\"interpret_sei.sh\") has been submitted\n",
      "/wynton/home/ahituv/fongsl/nullomers/data/lock/common/sei_predictions\n",
      "Your job 2596457 (\"interpret_sei.sh\") has been submitted\n",
      "/wynton/home/ahituv/fongsl/nullomers/data/lock/common/sei_predictions\n",
      "Your job 2596458 (\"interpret_sei.sh\") has been submitted\n",
      "/wynton/home/ahituv/fongsl/nullomers/data/lock/common/sei_predictions\n",
      "Your job 2596459 (\"interpret_sei.sh\") has been submitted\n",
      "/wynton/home/ahituv/fongsl/nullomers/data/lock/common/sei_predictions\n",
      "Your job 2596460 (\"interpret_sei.sh\") has been submitted\n",
      "/wynton/home/ahituv/fongsl/nullomers/data/lock/common/sei_predictions\n",
      "Your job 2596461 (\"interpret_sei.sh\") has been submitted\n",
      "/wynton/home/ahituv/fongsl/nullomers/data/lock/common/sei_predictions\n",
      "Your job 2596462 (\"interpret_sei.sh\") has been submitted\n",
      "/wynton/home/ahituv/fongsl/nullomers/data/lock/common/sei_predictions\n",
      "Your job 2596463 (\"interpret_sei.sh\") has been submitted\n",
      "/wynton/home/ahituv/fongsl/nullomers/data/lock/common/sei_predictions\n",
      "Your job 2596464 (\"interpret_sei.sh\") has been submitted\n",
      "/wynton/home/ahituv/fongsl/nullomers/data/lock/common/sei_predictions\n",
      "Your job 2596465 (\"interpret_sei.sh\") has been submitted\n",
      "/wynton/home/ahituv/fongsl/nullomers/data/lock/common/sei_predictions\n",
      "Your job 2596466 (\"interpret_sei.sh\") has been submitted\n",
      "/wynton/home/ahituv/fongsl/nullomers/data/lock/common/sei_predictions\n",
      "Your job 2596467 (\"interpret_sei.sh\") has been submitted\n",
      "/wynton/home/ahituv/fongsl/nullomers/data/lock/common/sei_predictions\n",
      "Your job 2596468 (\"interpret_sei.sh\") has been submitted\n",
      "/wynton/home/ahituv/fongsl/nullomers/data/lock/common/sei_predictions\n",
      "Your job 2596469 (\"interpret_sei.sh\") has been submitted\n",
      "/wynton/home/ahituv/fongsl/nullomers/data/lock/common/sei_predictions\n",
      "Your job 2596470 (\"interpret_sei.sh\") has been submitted\n",
      "/wynton/home/ahituv/fongsl/nullomers/data/lock/common/sei_predictions\n",
      "Your job 2596471 (\"interpret_sei.sh\") has been submitted\n",
      "/wynton/home/ahituv/fongsl/nullomers/data/lock/common/sei_predictions\n",
      "Your job 2596472 (\"interpret_sei.sh\") has been submitted\n",
      "/wynton/home/ahituv/fongsl/nullomers/data/lock/common/sei_predictions\n",
      "Your job 2596473 (\"interpret_sei.sh\") has been submitted\n",
      "/wynton/home/ahituv/fongsl/nullomers/data/lock/common/sei_predictions\n",
      "Your job 2596474 (\"interpret_sei.sh\") has been submitted\n",
      "/wynton/home/ahituv/fongsl/nullomers/data/lock/common/sei_predictions\n",
      "Your job 2596475 (\"interpret_sei.sh\") has been submitted\n",
      "/wynton/home/ahituv/fongsl/nullomers/data/lock/common/sei_predictions\n",
      "Your job 2596476 (\"interpret_sei.sh\") has been submitted\n",
      "/wynton/home/ahituv/fongsl/nullomers/data/lock/common/sei_predictions\n",
      "Your job 2596477 (\"interpret_sei.sh\") has been submitted\n",
      "/wynton/home/ahituv/fongsl/nullomers/data/lock/common/sei_predictions\n",
      "Your job 2596478 (\"interpret_sei.sh\") has been submitted\n",
      "/wynton/home/ahituv/fongsl/nullomers/data/lock/common/sei_predictions\n",
      "Your job 2596479 (\"interpret_sei.sh\") has been submitted\n",
      "/wynton/home/ahituv/fongsl/nullomers/data/lock/common/sei_predictions\n",
      "Your job 2596480 (\"interpret_sei.sh\") has been submitted\n",
      "/wynton/home/ahituv/fongsl/nullomers/data/lock/common/sei_predictions\n",
      "Your job 2596481 (\"interpret_sei.sh\") has been submitted\n",
      "/wynton/home/ahituv/fongsl/nullomers/data/lock/common/sei_predictions\n",
      "Your job 2596482 (\"interpret_sei.sh\") has been submitted\n",
      "/wynton/home/ahituv/fongsl/nullomers/data/lock/common/sei_predictions\n",
      "Your job 2596483 (\"interpret_sei.sh\") has been submitted\n",
      "/wynton/home/ahituv/fongsl/nullomers/data/lock/common/sei_predictions\n",
      "Your job 2596484 (\"interpret_sei.sh\") has been submitted\n",
      "/wynton/home/ahituv/fongsl/nullomers/data/lock/common/sei_predictions\n",
      "Your job 2596485 (\"interpret_sei.sh\") has been submitted\n",
      "/wynton/home/ahituv/fongsl/nullomers/data/lock/common/sei_predictions\n",
      "Your job 2596486 (\"interpret_sei.sh\") has been submitted\n",
      "/wynton/home/ahituv/fongsl/nullomers/data/lock/common/sei_predictions\n",
      "Your job 2596487 (\"interpret_sei.sh\") has been submitted\n",
      "/wynton/home/ahituv/fongsl/nullomers/data/lock/common/sei_predictions\n",
      "Your job 2596488 (\"interpret_sei.sh\") has been submitted\n",
      "/wynton/home/ahituv/fongsl/nullomers/data/lock/common/sei_predictions\n",
      "Your job 2596489 (\"interpret_sei.sh\") has been submitted\n",
      "/wynton/home/ahituv/fongsl/nullomers/data/lock/common/sei_predictions\n",
      "Your job 2596490 (\"interpret_sei.sh\") has been submitted\n",
      "/wynton/home/ahituv/fongsl/nullomers/data/lock/common/sei_predictions\n",
      "Your job 2596491 (\"interpret_sei.sh\") has been submitted\n",
      "/wynton/home/ahituv/fongsl/nullomers/data/lock/common/sei_predictions\n",
      "Your job 2596492 (\"interpret_sei.sh\") has been submitted\n",
      "/wynton/home/ahituv/fongsl/nullomers/data/lock/common/sei_predictions\n",
      "Your job 2596493 (\"interpret_sei.sh\") has been submitted\n",
      "/wynton/home/ahituv/fongsl/nullomers/data/lock/common/sei_predictions\n",
      "Your job 2596494 (\"interpret_sei.sh\") has been submitted\n",
      "/wynton/home/ahituv/fongsl/nullomers/data/lock/common/sei_predictions\n",
      "Your job 2596495 (\"interpret_sei.sh\") has been submitted\n",
      "/wynton/home/ahituv/fongsl/nullomers/data/lock/common/sei_predictions\n",
      "Your job 2596496 (\"interpret_sei.sh\") has been submitted\n",
      "/wynton/home/ahituv/fongsl/nullomers/data/lock/common/sei_predictions\n",
      "Your job 2596497 (\"interpret_sei.sh\") has been submitted\n",
      "/wynton/home/ahituv/fongsl/nullomers/data/lock/common/sei_predictions\n",
      "Your job 2596498 (\"interpret_sei.sh\") has been submitted\n",
      "/wynton/home/ahituv/fongsl/nullomers/data/lock/common/sei_predictions\n",
      "Your job 2596499 (\"interpret_sei.sh\") has been submitted\n",
      "/wynton/home/ahituv/fongsl/nullomers/data/lock/common/sei_predictions\n",
      "Your job 2596500 (\"interpret_sei.sh\") has been submitted\n",
      "/wynton/home/ahituv/fongsl/nullomers/data/lock/common/sei_predictions\n",
      "Your job 2596501 (\"interpret_sei.sh\") has been submitted\n",
      "/wynton/home/ahituv/fongsl/nullomers/data/lock/common/sei_predictions\n",
      "Your job 2596502 (\"interpret_sei.sh\") has been submitted\n",
      "/wynton/home/ahituv/fongsl/nullomers/data/lock/common/sei_predictions\n",
      "Your job 2596503 (\"interpret_sei.sh\") has been submitted\n",
      "/wynton/home/ahituv/fongsl/nullomers/data/lock/common/sei_predictions\n",
      "Your job 2596504 (\"interpret_sei.sh\") has been submitted\n",
      "/wynton/home/ahituv/fongsl/nullomers/data/lock/common/sei_predictions\n",
      "Your job 2596505 (\"interpret_sei.sh\") has been submitted\n",
      "/wynton/home/ahituv/fongsl/nullomers/data/lock/common/sei_predictions\n",
      "Your job 2596506 (\"interpret_sei.sh\") has been submitted\n"
     ]
    }
   ],
   "source": [
    "qsub = False\n",
    "for out in fs:\n",
    "    launchSei(out, \"hs1\", qsub)"
   ]
  },
  {
   "cell_type": "code",
   "execution_count": null,
   "id": "370e98f0",
   "metadata": {
    "ExecuteTime": {
     "end_time": "2023-04-12T23:55:21.370664Z",
     "start_time": "2023-04-12T23:55:21.365499Z"
    }
   },
   "outputs": [],
   "source": [
    "len(fs)"
   ]
  },
  {
   "cell_type": "code",
   "execution_count": null,
   "id": "e5febfc7",
   "metadata": {},
   "outputs": [],
   "source": []
  }
 ],
 "metadata": {
  "kernelspec": {
   "display_name": "Python (wynenv)",
   "language": "python",
   "name": "wynenv"
  },
  "language_info": {
   "codemirror_mode": {
    "name": "ipython",
    "version": 3
   },
   "file_extension": ".py",
   "mimetype": "text/x-python",
   "name": "python",
   "nbconvert_exporter": "python",
   "pygments_lexer": "ipython3",
   "version": "3.10.8"
  },
  "toc": {
   "base_numbering": 1,
   "nav_menu": {},
   "number_sections": true,
   "sideBar": true,
   "skip_h1_title": false,
   "title_cell": "Table of Contents",
   "title_sidebar": "Contents",
   "toc_cell": false,
   "toc_position": {},
   "toc_section_display": true,
   "toc_window_display": false
  },
  "varInspector": {
   "cols": {
    "lenName": 16,
    "lenType": 16,
    "lenVar": 40
   },
   "kernels_config": {
    "python": {
     "delete_cmd_postfix": "",
     "delete_cmd_prefix": "del ",
     "library": "var_list.py",
     "varRefreshCmd": "print(var_dic_list())"
    },
    "r": {
     "delete_cmd_postfix": ") ",
     "delete_cmd_prefix": "rm(",
     "library": "var_list.r",
     "varRefreshCmd": "cat(var_dic_list()) "
    }
   },
   "types_to_exclude": [
    "module",
    "function",
    "builtin_function_or_method",
    "instance",
    "_Feature"
   ],
   "window_display": false
  }
 },
 "nbformat": 4,
 "nbformat_minor": 5
}
