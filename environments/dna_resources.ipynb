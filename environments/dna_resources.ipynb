{
 "cells": [
  {
   "cell_type": "markdown",
   "id": "1463b798",
   "metadata": {},
   "source": [
    "20221123\n",
    "\n",
    "sarahfong\n",
    "\n",
    "recreate the ./dna resources folder w/ publically available data sources. "
   ]
  },
  {
   "cell_type": "code",
   "execution_count": 4,
   "id": "32be57e2",
   "metadata": {},
   "outputs": [],
   "source": [
    "import os, sys"
   ]
  },
  {
   "cell_type": "code",
   "execution_count": 3,
   "id": "6fdb43af",
   "metadata": {},
   "outputs": [
    {
     "name": "stderr",
     "output_type": "stream",
     "text": [
      "UsageError: Line magic function `%%bash` not found.\n"
     ]
    }
   ],
   "source": [
    "# make the dna directory in scratch\n",
    "\n",
    "os.chdir(\"/scratch/fongsl/dna\")"
   ]
  },
  {
   "cell_type": "code",
   "execution_count": null,
   "id": "be0bab3f",
   "metadata": {},
   "outputs": [],
   "source": [
    "# downloaded hg38 chromosome sizes from goldenpath\n",
    "\n",
    "os.system(\"wget https://hgdownload.soe.ucsc.edu/goldenPath/hg38/bigZips/hg38.chrom.sizes\")"
   ]
  },
  {
   "cell_type": "code",
   "execution_count": null,
   "id": "6520b0da",
   "metadata": {},
   "outputs": [],
   "source": [
    "# downloaded blacklisted regions from Anshul Kundaje's group\n",
    "bl_files = [\n",
    "    \"https://github.com/Boyle-Lab/Blacklist/raw/master/lists/hg19-blacklist.v2.bed.gz\"\n",
    "    \"https://github.com/Boyle-Lab/Blacklist/raw/master/lists/hg38-blacklist.v2.bed.gz\"\n",
    "]\n",
    "\n",
    "for bl_file in bl_files:\n",
    "    cmd = f\"wget {bl_file}\"\n",
    "    os.system(cmd)\n"
   ]
  }
 ],
 "metadata": {
  "kernelspec": {
   "display_name": "Python (wynenv)",
   "language": "python",
   "name": "wynenv"
  },
  "language_info": {
   "codemirror_mode": {
    "name": "ipython",
    "version": 3
   },
   "file_extension": ".py",
   "mimetype": "text/x-python",
   "name": "python",
   "nbconvert_exporter": "python",
   "pygments_lexer": "ipython3",
   "version": "3.10.8"
  }
 },
 "nbformat": 4,
 "nbformat_minor": 5
}
