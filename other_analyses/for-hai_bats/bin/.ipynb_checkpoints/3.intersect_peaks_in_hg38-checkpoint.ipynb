{
 "cells": [
  {
   "cell_type": "code",
   "execution_count": 1,
   "id": "33112d35",
   "metadata": {
    "ExecuteTime": {
     "end_time": "2023-11-17T19:31:00.205411Z",
     "start_time": "2023-11-17T19:30:55.534290Z"
    }
   },
   "outputs": [],
   "source": [
    "import os, sys\n",
    "import pybedtools as pbt\n",
    "\n",
    "import config_readwrite as crw"
   ]
  },
  {
   "cell_type": "code",
   "execution_count": 2,
   "id": "873766d3",
   "metadata": {
    "ExecuteTime": {
     "end_time": "2023-11-17T19:31:00.227997Z",
     "start_time": "2023-11-17T19:31:00.207597Z"
    }
   },
   "outputs": [],
   "source": [
    "cfn_file = os.path.join(os.getcwd(), \"config.bat2.ini\")\n",
    "\n",
    "config, cfn = crw.read(cfn_file)"
   ]
  },
  {
   "cell_type": "code",
   "execution_count": 3,
   "id": "ebb7a80f",
   "metadata": {
    "ExecuteTime": {
     "end_time": "2023-11-17T19:31:00.299051Z",
     "start_time": "2023-11-17T19:31:00.230394Z"
    }
   },
   "outputs": [],
   "source": [
    "tissues=[\n",
    "    'liver', 'pectr', 'smint',\n",
    "        ]\n",
    "\n",
    "BUILD = \"hg38\""
   ]
  },
  {
   "cell_type": "code",
   "execution_count": 4,
   "id": "0d613f16",
   "metadata": {
    "ExecuteTime": {
     "end_time": "2023-11-17T19:31:00.378426Z",
     "start_time": "2023-11-17T19:31:00.300734Z"
    }
   },
   "outputs": [],
   "source": [
    "def speciesSpecific(afile, bfile, out):\n",
    "    \n",
    "    a = pbt.BedTool(afile)\n",
    "    b = pbt.BedTool(bfile)\n",
    "    \n",
    "    #if os.path.exists(out) is False:\n",
    "        \n",
    "    c = a.intersect(b, v=True, f=0.1, r=True, output=out)\n",
    "    print('made', out)\n",
    "    print(sum(1 for i in open(out,'r')))"
   ]
  },
  {
   "cell_type": "code",
   "execution_count": 5,
   "id": "9e247365",
   "metadata": {
    "ExecuteTime": {
     "end_time": "2023-11-17T19:31:00.461935Z",
     "start_time": "2023-11-17T19:31:00.380106Z"
    }
   },
   "outputs": [],
   "source": [
    "def speciesShared(afile, bfile, out):\n",
    "    \n",
    "    a = pbt.BedTool(afile)\n",
    "    b = pbt.BedTool(bfile)\n",
    "    \n",
    "    #if os.path.exists(out) is False:\n",
    "        \n",
    "    c = a.intersect(b, f=0.5, r=True, wao=True, output=out)\n",
    "    print('made', out)\n",
    "    \n",
    "    print(sum(1 for i in open(out,'r')))"
   ]
  },
  {
   "cell_type": "code",
   "execution_count": 6,
   "id": "68261a14",
   "metadata": {
    "ExecuteTime": {
     "end_time": "2023-11-17T19:31:02.756900Z",
     "start_time": "2023-11-17T19:31:00.463644Z"
    }
   },
   "outputs": [
    {
     "name": "stderr",
     "output_type": "stream",
     "text": [
      "***** WARNING: File /wynton/home/ahituv/fongsl/other_analyses/for-hai_bats/data/CallPeaks_results_for_Sarah/Eptesicus_fuscus/liver.clean.bed has inconsistent naming convention for record:\n",
      "chr1\t910089\t910595\tpeak_53217\tNW_007370721.1\n",
      "\n",
      "***** WARNING: File /wynton/home/ahituv/fongsl/other_analyses/for-hai_bats/data/CallPeaks_results_for_Sarah/Eptesicus_fuscus/liver.clean.bed has inconsistent naming convention for record:\n",
      "chr1\t910089\t910595\tpeak_53217\tNW_007370721.1\n",
      "\n"
     ]
    },
    {
     "name": "stdout",
     "output_type": "stream",
     "text": [
      "made /wynton/home/ahituv/fongsl/other_analyses/for-hai_bats/data/CallPeaks_results_for_Sarah/Artibeus_jamaicensis/liver.ajam.specific.bed\n",
      "2218\n"
     ]
    },
    {
     "name": "stderr",
     "output_type": "stream",
     "text": [
      "***** WARNING: File /wynton/home/ahituv/fongsl/other_analyses/for-hai_bats/data/CallPeaks_results_for_Sarah/Artibeus_jamaicensis/liver.clean.bed has inconsistent naming convention for record:\n",
      "chr1\t1115835\t1116334\tpeak_3720\n",
      "\n",
      "***** WARNING: File /wynton/home/ahituv/fongsl/other_analyses/for-hai_bats/data/CallPeaks_results_for_Sarah/Artibeus_jamaicensis/liver.clean.bed has inconsistent naming convention for record:\n",
      "chr1\t1115835\t1116334\tpeak_3720\n",
      "\n"
     ]
    },
    {
     "name": "stdout",
     "output_type": "stream",
     "text": [
      "made /wynton/home/ahituv/fongsl/other_analyses/for-hai_bats/data/CallPeaks_results_for_Sarah/Eptesicus_fuscus/liver.efus.specific.bed\n",
      "55902\n"
     ]
    },
    {
     "name": "stderr",
     "output_type": "stream",
     "text": [
      "***** WARNING: File /wynton/home/ahituv/fongsl/other_analyses/for-hai_bats/data/CallPeaks_results_for_Sarah/Eptesicus_fuscus/liver.clean.bed has inconsistent naming convention for record:\n",
      "chr1\t910089\t910595\tpeak_53217\tNW_007370721.1\n",
      "\n",
      "***** WARNING: File /wynton/home/ahituv/fongsl/other_analyses/for-hai_bats/data/CallPeaks_results_for_Sarah/Eptesicus_fuscus/liver.clean.bed has inconsistent naming convention for record:\n",
      "chr1\t910089\t910595\tpeak_53217\tNW_007370721.1\n",
      "\n"
     ]
    },
    {
     "name": "stdout",
     "output_type": "stream",
     "text": [
      "made /wynton/home/ahituv/fongsl/other_analyses/for-hai_bats/data/CallPeaks_results_for_Sarah/Eptesicus_fuscus/liver.shared.bed\n",
      "7674\n"
     ]
    },
    {
     "name": "stderr",
     "output_type": "stream",
     "text": [
      "***** WARNING: File /wynton/home/ahituv/fongsl/other_analyses/for-hai_bats/data/CallPeaks_results_for_Sarah/Eptesicus_fuscus/pectoralmuscle.clean.bed has inconsistent naming convention for record:\n",
      "chr1\t938036\t941387\tpeak_27109\tNW_007370721.1\n",
      "\n",
      "***** WARNING: File /wynton/home/ahituv/fongsl/other_analyses/for-hai_bats/data/CallPeaks_results_for_Sarah/Eptesicus_fuscus/pectoralmuscle.clean.bed has inconsistent naming convention for record:\n",
      "chr1\t938036\t941387\tpeak_27109\tNW_007370721.1\n",
      "\n",
      "***** WARNING: File /wynton/home/ahituv/fongsl/other_analyses/for-hai_bats/data/CallPeaks_results_for_Sarah/Artibeus_jamaicensis/pectoralmuscle.clean.bed has inconsistent naming convention for record:\n",
      "chr1\t177644488\t177644610\tpeak_114\n",
      "\n",
      "***** WARNING: File /wynton/home/ahituv/fongsl/other_analyses/for-hai_bats/data/CallPeaks_results_for_Sarah/Artibeus_jamaicensis/pectoralmuscle.clean.bed has inconsistent naming convention for record:\n",
      "chr1\t177644488\t177644610\tpeak_114\n",
      "\n"
     ]
    },
    {
     "name": "stdout",
     "output_type": "stream",
     "text": [
      "made /wynton/home/ahituv/fongsl/other_analyses/for-hai_bats/data/CallPeaks_results_for_Sarah/Artibeus_jamaicensis/pectr.ajam.specific.bed\n",
      "8\n",
      "made /wynton/home/ahituv/fongsl/other_analyses/for-hai_bats/data/CallPeaks_results_for_Sarah/Eptesicus_fuscus/pectr.efus.specific.bed\n",
      "31697\n"
     ]
    },
    {
     "name": "stderr",
     "output_type": "stream",
     "text": [
      "***** WARNING: File /wynton/home/ahituv/fongsl/other_analyses/for-hai_bats/data/CallPeaks_results_for_Sarah/Eptesicus_fuscus/pectoralmuscle.clean.bed has inconsistent naming convention for record:\n",
      "chr1\t938036\t941387\tpeak_27109\tNW_007370721.1\n",
      "\n",
      "***** WARNING: File /wynton/home/ahituv/fongsl/other_analyses/for-hai_bats/data/CallPeaks_results_for_Sarah/Eptesicus_fuscus/pectoralmuscle.clean.bed has inconsistent naming convention for record:\n",
      "chr1\t938036\t941387\tpeak_27109\tNW_007370721.1\n",
      "\n"
     ]
    },
    {
     "name": "stdout",
     "output_type": "stream",
     "text": [
      "made /wynton/home/ahituv/fongsl/other_analyses/for-hai_bats/data/CallPeaks_results_for_Sarah/Eptesicus_fuscus/pectr.shared.bed\n",
      "9\n"
     ]
    },
    {
     "name": "stderr",
     "output_type": "stream",
     "text": [
      "***** WARNING: File /wynton/home/ahituv/fongsl/other_analyses/for-hai_bats/data/CallPeaks_results_for_Sarah/Eptesicus_fuscus/smallintestine.clean.bed has inconsistent naming convention for record:\n",
      "chr1\t937141\t937836\tpeak_31201\tNW_007370721.1\n",
      "\n",
      "***** WARNING: File /wynton/home/ahituv/fongsl/other_analyses/for-hai_bats/data/CallPeaks_results_for_Sarah/Eptesicus_fuscus/smallintestine.clean.bed has inconsistent naming convention for record:\n",
      "chr1\t937141\t937836\tpeak_31201\tNW_007370721.1\n",
      "\n",
      "***** WARNING: File /wynton/home/ahituv/fongsl/other_analyses/for-hai_bats/data/CallPeaks_results_for_Sarah/Artibeus_jamaicensis/smallintestine.clean.bed has inconsistent naming convention for record:\n",
      "chr1\t909993\t910706\tpeak_10271\n",
      "\n",
      "***** WARNING: File /wynton/home/ahituv/fongsl/other_analyses/for-hai_bats/data/CallPeaks_results_for_Sarah/Artibeus_jamaicensis/smallintestine.clean.bed has inconsistent naming convention for record:\n",
      "chr1\t909993\t910706\tpeak_10271\n",
      "\n"
     ]
    },
    {
     "name": "stdout",
     "output_type": "stream",
     "text": [
      "made /wynton/home/ahituv/fongsl/other_analyses/for-hai_bats/data/CallPeaks_results_for_Sarah/Artibeus_jamaicensis/smint.ajam.specific.bed\n",
      "9765\n",
      "made /wynton/home/ahituv/fongsl/other_analyses/for-hai_bats/data/CallPeaks_results_for_Sarah/Eptesicus_fuscus/smint.efus.specific.bed\n",
      "23195\n",
      "made /wynton/home/ahituv/fongsl/other_analyses/for-hai_bats/data/CallPeaks_results_for_Sarah/Eptesicus_fuscus/smint.shared.bed\n",
      "21965\n"
     ]
    },
    {
     "name": "stderr",
     "output_type": "stream",
     "text": [
      "***** WARNING: File /wynton/home/ahituv/fongsl/other_analyses/for-hai_bats/data/CallPeaks_results_for_Sarah/Eptesicus_fuscus/smallintestine.clean.bed has inconsistent naming convention for record:\n",
      "chr1\t937141\t937836\tpeak_31201\tNW_007370721.1\n",
      "\n",
      "***** WARNING: File /wynton/home/ahituv/fongsl/other_analyses/for-hai_bats/data/CallPeaks_results_for_Sarah/Eptesicus_fuscus/smallintestine.clean.bed has inconsistent naming convention for record:\n",
      "chr1\t937141\t937836\tpeak_31201\tNW_007370721.1\n",
      "\n"
     ]
    }
   ],
   "source": [
    "for tissue in tissues:\n",
    "    \n",
    "    CLEAN_FILE_A = config[\"ajam\"][f\"{tissue}.to.{BUILD}.reciprocal\"]\n",
    "    CLEAN_FILE_E = config[\"efus\"][f\"{tissue}.to.{BUILD}.reciprocal\"]\n",
    "    \n",
    "    A_SUB_E = os.path.join(os.path.dirname(CLEAN_FILE_A), f\"{tissue}.ajam.specific.bed\")\n",
    "    E_SUB_A = os.path.join(os.path.dirname(CLEAN_FILE_E), f\"{tissue}.efus.specific.bed\")\n",
    "    A_INT_E = os.path.join(os.path.dirname(CLEAN_FILE_E), f\"{tissue}.shared.bed\")\n",
    "    \n",
    "    # write intersections to config\n",
    "    crw.check(config, tissue)\n",
    "    config[tissue]['ajam_specific'] = A_SUB_E\n",
    "    config[tissue]['efus_specific'] = E_SUB_A\n",
    "    config[tissue]['shared'] = A_INT_E\n",
    "    \n",
    "    # ajam specific\n",
    "    speciesSpecific(CLEAN_FILE_A, CLEAN_FILE_E, A_SUB_E)\n",
    "    \n",
    "    #efus specific\n",
    "    speciesSpecific(CLEAN_FILE_E, CLEAN_FILE_A, E_SUB_A)\n",
    "    \n",
    "    # s[pecies shared]\n",
    "    speciesShared(CLEAN_FILE_A, CLEAN_FILE_E, A_INT_E)"
   ]
  },
  {
   "cell_type": "code",
   "execution_count": 7,
   "id": "8750daa3",
   "metadata": {
    "ExecuteTime": {
     "end_time": "2023-11-17T19:31:02.764813Z",
     "start_time": "2023-11-17T19:31:02.759700Z"
    }
   },
   "outputs": [],
   "source": [
    "# write intersections to config!\n",
    "crw.write(config, cfn)"
   ]
  }
 ],
 "metadata": {
  "kernelspec": {
   "display_name": "Python (mamba)",
   "language": "python",
   "name": "mamba"
  },
  "language_info": {
   "codemirror_mode": {
    "name": "ipython",
    "version": 3
   },
   "file_extension": ".py",
   "mimetype": "text/x-python",
   "name": "python",
   "nbconvert_exporter": "python",
   "pygments_lexer": "ipython3",
   "version": "3.9.16"
  },
  "toc": {
   "base_numbering": 1,
   "nav_menu": {},
   "number_sections": true,
   "sideBar": true,
   "skip_h1_title": false,
   "title_cell": "Table of Contents",
   "title_sidebar": "Contents",
   "toc_cell": false,
   "toc_position": {},
   "toc_section_display": true,
   "toc_window_display": false
  },
  "varInspector": {
   "cols": {
    "lenName": 16,
    "lenType": 16,
    "lenVar": 40
   },
   "kernels_config": {
    "python": {
     "delete_cmd_postfix": "",
     "delete_cmd_prefix": "del ",
     "library": "var_list.py",
     "varRefreshCmd": "print(var_dic_list())"
    },
    "r": {
     "delete_cmd_postfix": ") ",
     "delete_cmd_prefix": "rm(",
     "library": "var_list.r",
     "varRefreshCmd": "cat(var_dic_list()) "
    }
   },
   "types_to_exclude": [
    "module",
    "function",
    "builtin_function_or_method",
    "instance",
    "_Feature"
   ],
   "window_display": false
  }
 },
 "nbformat": 4,
 "nbformat_minor": 5
}
