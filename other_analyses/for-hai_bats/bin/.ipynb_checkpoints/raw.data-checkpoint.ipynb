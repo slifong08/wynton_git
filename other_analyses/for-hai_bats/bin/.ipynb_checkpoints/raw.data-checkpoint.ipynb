{
 "cells": [
  {
   "cell_type": "code",
   "execution_count": 1,
   "id": "f329a8c5",
   "metadata": {
    "ExecuteTime": {
     "end_time": "2023-07-18T21:52:52.781753Z",
     "start_time": "2023-07-18T21:52:45.006186Z"
    }
   },
   "outputs": [],
   "source": [
    "from Bio.SeqIO import parse\n",
    "import glob\n",
    "import os, sys\n",
    "import config_readwrite as crw\n",
    "import matplotlib.pyplot as plt\n",
    "import pandas as pd\n",
    "from scipy import stats\n",
    "\n",
    "config, cfn = crw.read(os.path.join(os.getcwd(), \"config.bat2.ini\"))"
   ]
  },
  {
   "cell_type": "code",
   "execution_count": 3,
   "id": "bf5aec48",
   "metadata": {
    "ExecuteTime": {
     "end_time": "2023-07-18T21:52:58.218703Z",
     "start_time": "2023-07-18T21:52:58.177004Z"
    }
   },
   "outputs": [],
   "source": [
    "section='AJAM'\n",
    "LIVERS = glob.glob(config[section][\"liver\"])\n",
    "\n",
    "FQ_FILE = \"/wynton/home/ahituv/fongsl/Artibeus_jamaicensis/liver/ATAC-seq/01.RawData/AJ_L_F_1/AJ_L_F_1_CKDL230012742-1A_H5TGHDSX7_L2_1.fq.gz\""
   ]
  },
  {
   "cell_type": "markdown",
   "id": "78d99feb",
   "metadata": {},
   "source": [
    "# functions"
   ]
  },
  {
   "cell_type": "markdown",
   "id": "e292ba06",
   "metadata": {},
   "source": [
    "## fastq -> fa "
   ]
  },
  {
   "cell_type": "code",
   "execution_count": 8,
   "id": "c912ea66",
   "metadata": {
    "ExecuteTime": {
     "end_time": "2023-07-18T21:54:25.657109Z",
     "start_time": "2023-07-18T21:54:25.649905Z"
    }
   },
   "outputs": [],
   "source": [
    "def fastqToFa(FQ_FILE):\n",
    "    \"\"\"\n",
    "    convert fastq -> fa\n",
    "    \n",
    "    require UCSC executable fastqToFa\n",
    "    \n",
    "    method\n",
    "        1. make an fa file to write to\n",
    "        2. run fastqToFa\n",
    "        \n",
    "    return\n",
    "        FA_FILE (str) - resulting fasta file\n",
    "    \"\"\"\n",
    "    \n",
    "    # ucsc executable\n",
    "    SRC = \"/wynton/home/ahituv/fongsl/bin/ucsc_exe/fastqToFa\"\n",
    "    \n",
    "    #1\n",
    "    FA_FILE = FQ_FILE.strip(\".fq.gz\") + \".fa\"\n",
    "    \n",
    "    #2\n",
    "    cmd = \" \".join([\n",
    "                    SRC, \n",
    "                    FQ_FILE, \n",
    "                    FA_FILE\n",
    "                    ])\n",
    "    \n",
    "    print(cmd)\n",
    "    \n",
    "    if os.path.exists(FA_FILE) is False:\n",
    "        os.system(cmd)\n",
    "        \n",
    "    return FA_FILE"
   ]
  },
  {
   "cell_type": "markdown",
   "id": "8a23bb23",
   "metadata": {},
   "source": [
    "## fa -> bed"
   ]
  },
  {
   "cell_type": "code",
   "execution_count": 6,
   "id": "c9f0f45a",
   "metadata": {
    "ExecuteTime": {
     "end_time": "2023-07-18T21:54:03.188801Z",
     "start_time": "2023-07-18T21:54:03.182178Z"
    }
   },
   "outputs": [],
   "source": [
    "def faToBed(FA_FILE):\n",
    "    \"\"\"\n",
    "    convert fa -> bed\n",
    "    \n",
    "    require Bio.SeqIO.parse\n",
    "    \n",
    "    method\n",
    "        1. make an bed file to write to\n",
    "        2. open bed file, fa_file\n",
    "        3. print id, sequence to bed file\n",
    "        \n",
    "    return\n",
    "        FA_FILE (str) - resulting fasta file\n",
    "    \"\"\"\n",
    "    \n",
    "    #1\n",
    "    BED_FILE = FA_FILE.strip(\".fa\") + \".bed\"\n",
    "    \n",
    "    #2\n",
    "    if os.path.exists(BED_FILE) is False:\n",
    "        \n",
    "        print(\"making bed file\", BED_FILE)\n",
    "        \n",
    "        with open(BED_FILE, \"w\") as bed:\n",
    "            for record in parse(FA_FILE, \"fasta\"):\n",
    "\n",
    "                #3\n",
    "                print(record.id, 0, len(record.seq), sep=\"\\t\", file=bed)\n",
    "\n",
    "    else:\n",
    "        print(\"MADE bed file?\", BED_FILE)\n",
    "            \n",
    "    return BED_FILE"
   ]
  },
  {
   "cell_type": "markdown",
   "id": "3b864fbc",
   "metadata": {},
   "source": [
    "# main"
   ]
  },
  {
   "cell_type": "code",
   "execution_count": 9,
   "id": "c392cfeb",
   "metadata": {
    "ExecuteTime": {
     "end_time": "2023-07-18T21:54:28.745637Z",
     "start_time": "2023-07-18T21:54:28.710206Z"
    }
   },
   "outputs": [
    {
     "name": "stdout",
     "output_type": "stream",
     "text": [
      "/wynton/home/ahituv/fongsl/bin/ucsc_exe/fastqToFa /wynton/home/ahituv/fongsl/Artibeus_jamaicensis/liver/ATAC-seq/01.RawData/AJ_L_F_1/AJ_L_F_1_CKDL230012742-1A_H5TGHDSX7_L2_1.fq.gz /wynton/home/ahituv/fongsl/Artibeus_jamaicensis/liver/ATAC-seq/01.RawData/AJ_L_F_1/AJ_L_F_1_CKDL230012742-1A_H5TGHDSX7_L2_1.fa\n",
      "MADE bed file? /wynton/home/ahituv/fongsl/Artibeus_jamaicensis/liver/ATAC-seq/01.RawData/AJ_L_F_1/AJ_L_F_1_CKDL230012742-1A_H5TGHDSX7_L2_1.bed\n"
     ]
    }
   ],
   "source": [
    "FA_FILE = fastqToFa(FQ_FILE)\n",
    "BED_FILE = faToBed(FA_FILE)"
   ]
  },
  {
   "cell_type": "markdown",
   "id": "906aaaf3",
   "metadata": {},
   "source": [
    "## liftover function"
   ]
  },
  {
   "cell_type": "code",
   "execution_count": null,
   "id": "23ef4597",
   "metadata": {},
   "outputs": [],
   "source": [
    "def liftOver(bed_file, to_build, from_build, minmatch, chainfile):\n",
    "\n",
    "    src = \"/wynton/home/ahituv/fongsl/tools/evo/liftover_bed-wynton.py\"\n",
    "    cmd = \" \".join([\n",
    "        \"python\", \n",
    "           src, \n",
    "           bed_file,\n",
    "           from_build, \n",
    "           to_build,\n",
    "           \"-m\", \n",
    "            minmatch,\n",
    "        \"-c\",\n",
    "        chainfile\n",
    "                    \n",
    "          ])\n",
    "\n",
    "    print(cmd)\n",
    "    \n",
    "    # run command in command line\n",
    "    os.system(cmd)"
   ]
  },
  {
   "cell_type": "code",
   "execution_count": null,
   "id": "092c780b",
   "metadata": {},
   "outputs": [],
   "source": []
  }
 ],
 "metadata": {
  "kernelspec": {
   "display_name": "Python (mamba)",
   "language": "python",
   "name": "mamba"
  },
  "language_info": {
   "codemirror_mode": {
    "name": "ipython",
    "version": 3
   },
   "file_extension": ".py",
   "mimetype": "text/x-python",
   "name": "python",
   "nbconvert_exporter": "python",
   "pygments_lexer": "ipython3",
   "version": "3.9.16"
  },
  "toc": {
   "base_numbering": 1,
   "nav_menu": {},
   "number_sections": true,
   "sideBar": true,
   "skip_h1_title": false,
   "title_cell": "Table of Contents",
   "title_sidebar": "Contents",
   "toc_cell": false,
   "toc_position": {},
   "toc_section_display": true,
   "toc_window_display": false
  },
  "varInspector": {
   "cols": {
    "lenName": 16,
    "lenType": 16,
    "lenVar": 40
   },
   "kernels_config": {
    "python": {
     "delete_cmd_postfix": "",
     "delete_cmd_prefix": "del ",
     "library": "var_list.py",
     "varRefreshCmd": "print(var_dic_list())"
    },
    "r": {
     "delete_cmd_postfix": ") ",
     "delete_cmd_prefix": "rm(",
     "library": "var_list.r",
     "varRefreshCmd": "cat(var_dic_list()) "
    }
   },
   "types_to_exclude": [
    "module",
    "function",
    "builtin_function_or_method",
    "instance",
    "_Feature"
   ],
   "window_display": false
  }
 },
 "nbformat": 4,
 "nbformat_minor": 5
}
