{
 "cells": [
  {
   "cell_type": "code",
   "execution_count": 1,
   "id": "2965feae",
   "metadata": {},
   "outputs": [],
   "source": [
    "import os, sys\n",
    "import pybedtools as pbt\n",
    "\n",
    "import config_readwrite as crw"
   ]
  },
  {
   "cell_type": "code",
   "execution_count": 8,
   "id": "d1b21b51",
   "metadata": {},
   "outputs": [],
   "source": [
    "cfn_file = os.path.join(os.getcwd(), \"config.bat2.ini\")\n",
    "\n",
    "config, cfn = crw.read(cfn_file)"
   ]
  },
  {
   "cell_type": "code",
   "execution_count": 9,
   "id": "39640c82",
   "metadata": {},
   "outputs": [],
   "source": [
    "tissues=[\n",
    "    'liver', 'pectr', 'smint',\n",
    "        ]\n",
    "\n",
    "BUILD = \"hg38\""
   ]
  },
  {
   "cell_type": "code",
   "execution_count": 26,
   "id": "14d84792",
   "metadata": {},
   "outputs": [],
   "source": [
    "def speciesSpecific(afile, bfile, out):\n",
    "    \n",
    "    a = pbt.BedTool(afile)\n",
    "    b = pbt.BedTool(bfile)\n",
    "    \n",
    "    #if os.path.exists(out) is False:\n",
    "        \n",
    "    c = a.intersect(b, v=True, f=0.1, r=True, output=out)\n",
    "    print('made', out)\n",
    "    print(sum(1 for i in open(out,'r')))"
   ]
  },
  {
   "cell_type": "code",
   "execution_count": 27,
   "id": "ce640d89",
   "metadata": {},
   "outputs": [],
   "source": [
    "def speciesShared(afile, bfile, out):\n",
    "    \n",
    "    a = pbt.BedTool(afile)\n",
    "    b = pbt.BedTool(bfile)\n",
    "    \n",
    "    #if os.path.exists(out) is False:\n",
    "        \n",
    "    c = a.intersect(b, f=0.5, r=True, wao=True, output=out)\n",
    "    print('made', out)\n",
    "    \n",
    "    print(sum(1 for i in open(out,'r')))"
   ]
  },
  {
   "cell_type": "code",
   "execution_count": null,
   "id": "242b85ff",
   "metadata": {},
   "outputs": [],
   "source": [
    "for tissue in tissues:\n",
    "    \n",
    "    CLEAN_FILE_A = config[\"ajam\"][f\"{tissue}.to.{BUILD}.reciprocal\"]\n",
    "    CLEAN_FILE_E = config[\"efus\"][f\"{tissue}.to.{BUILD}.reciprocal\"]\n",
    "    \n",
    "    A_SUB_E = os.path.join(os.path.dirname(CLEAN_FILE_A), f\"{tissue}.ajam.specific.bed\")\n",
    "    E_SUB_A = os.path.join(os.path.dirname(CLEAN_FILE_E), f\"{tissue}.efus.specific.bed\")\n",
    "    A_INT_E = os.path.join(os.path.dirname(CLEAN_FILE_E), f\"{tissue}.shared.bed\")\n",
    "    \n",
    "    # write intersections to config\n",
    "    crw.check(config, tissue)\n",
    "    config[tissue]['ajam_specific'] = A_SUB_E\n",
    "    config[tissue]['efus_specific'] = E_SUB_A\n",
    "    config[tissue]['shared'] = A_INT_E\n",
    "    \n",
    "    # ajam specific\n",
    "    speciesSpecific(CLEAN_FILE_A, CLEAN_FILE_E, A_SUB_E)\n",
    "    \n",
    "    #efus specific\n",
    "    speciesSpecific(CLEAN_FILE_E, CLEAN_FILE_A, E_SUB_A)\n",
    "    \n",
    "    # s[pecies shared]\n",
    "    speciesShared(CLEAN_FILE_A, CLEAN_FILE_E, A_INT_E)"
   ]
  },
  {
   "cell_type": "code",
   "execution_count": null,
   "id": "c9dc514a",
   "metadata": {},
   "outputs": [],
   "source": []
  }
 ],
 "metadata": {
  "kernelspec": {
   "display_name": "Python (mamba)",
   "language": "python",
   "name": "mamba"
  },
  "language_info": {
   "codemirror_mode": {
    "name": "ipython",
    "version": 3
   },
   "file_extension": ".py",
   "mimetype": "text/x-python",
   "name": "python",
   "nbconvert_exporter": "python",
   "pygments_lexer": "ipython3",
   "version": "3.9.16"
  }
 },
 "nbformat": 4,
 "nbformat_minor": 5
}
