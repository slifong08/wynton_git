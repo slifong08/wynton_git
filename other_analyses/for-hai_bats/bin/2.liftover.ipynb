{
 "cells": [
  {
   "cell_type": "code",
   "execution_count": 9,
   "id": "15e958b9",
   "metadata": {
    "ExecuteTime": {
     "end_time": "2023-07-27T22:08:26.109154Z",
     "start_time": "2023-07-27T22:08:26.102007Z"
    }
   },
   "outputs": [
    {
     "data": {
      "text/plain": [
       "('sans-serif', 'Arial', 18)"
      ]
     },
     "execution_count": 9,
     "metadata": {},
     "output_type": "execute_result"
    }
   ],
   "source": [
    "import plot_params as pp\n",
    "from chr_functions import makeCoorAnnot\n",
    "import config_readwrite as crw\n",
    "\n",
    "import matplotlib.pyplot as plt\n",
    "import os\n",
    "import sys\n",
    "import pandas as pd\n",
    "import seaborn as sns\n",
    "import warnings\n",
    "warnings.filterwarnings('ignore')\n",
    "\n",
    "pp.fonts()"
   ]
  },
  {
   "cell_type": "code",
   "execution_count": 10,
   "id": "5f57dcf5",
   "metadata": {
    "ExecuteTime": {
     "end_time": "2023-07-27T22:08:26.929435Z",
     "start_time": "2023-07-27T22:08:26.112095Z"
    }
   },
   "outputs": [],
   "source": [
    "cfn_file = os.path.join(os.getcwd(), \"config.bat2.ini\")\n",
    "\n",
    "config, cfn = crw.read(cfn_file)"
   ]
  },
  {
   "cell_type": "markdown",
   "id": "2df5a0b3",
   "metadata": {},
   "source": [
    "# FUNCTIONS"
   ]
  },
  {
   "cell_type": "code",
   "execution_count": 11,
   "id": "7acdf823",
   "metadata": {
    "ExecuteTime": {
     "end_time": "2023-07-27T22:08:26.939530Z",
     "start_time": "2023-07-27T22:08:26.933241Z"
    }
   },
   "outputs": [],
   "source": [
    "def makeBed(file):\n",
    "    BED = os.path.splitext(file)[0] + \".bed\"\n",
    "\n",
    "    df = pd.read_csv(file, sep='\\t',\n",
    "                     usecols=[0, 1, 2, 3],\n",
    "                     names=['#chr', \"start\", \"end\", \"peak_id\"])\n",
    "    df.to_csv(BED, sep='\\t', index=False)\n",
    "\n",
    "    return BED"
   ]
  },
  {
   "cell_type": "code",
   "execution_count": 4,
   "id": "3f20459b",
   "metadata": {
    "ExecuteTime": {
     "end_time": "2023-07-27T22:08:27.285439Z",
     "start_time": "2023-07-27T22:08:26.942456Z"
    }
   },
   "outputs": [],
   "source": [
    "def chainSwap(file):\n",
    "    \"\"\"swap hg38->eptFus1 chaing to eptFus1->hg38 chain\"\"\"\n",
    "    cmd = \"/wynton/home/ahituv/fongsl/bin/ucsc_exe/chainSwap /wynton/home/ahituv/fongsl/other_analyses/for-wei_bats/data/chain/hg38.eptFus1.all.chain.gz /wynton/home/ahituv/fongsl/other_analyses/for-wei_bats/data/chain/eptFus1ToHg38.chain.gz\"\n",
    "    os.system(cmd)"
   ]
  },
  {
   "cell_type": "code",
   "execution_count": 5,
   "id": "6c0cfc85",
   "metadata": {
    "ExecuteTime": {
     "end_time": "2023-07-27T22:08:27.629248Z",
     "start_time": "2023-07-27T22:08:27.289962Z"
    }
   },
   "outputs": [],
   "source": [
    "def liftOver(bed_file, to_build, from_build, minmatch, chainfile):\n",
    "\n",
    "    src = \"/wynton/home/ahituv/fongsl/tools/evo/liftover_bed-wynton.py\"\n",
    "    cmd = \" \".join([\n",
    "        \"python\",\n",
    "        src,\n",
    "        bed_file,\n",
    "        from_build,\n",
    "        to_build,\n",
    "        \"-m\",\n",
    "        minmatch,\n",
    "        \"-c\",\n",
    "        chainfile\n",
    "\n",
    "    ])\n",
    "\n",
    "    print(cmd)\n",
    "\n",
    "    # run command in command line\n",
    "    os.system(cmd)"
   ]
  },
  {
   "cell_type": "code",
   "execution_count": 6,
   "id": "f2a8dd8d",
   "metadata": {
    "ExecuteTime": {
     "end_time": "2023-07-27T22:11:06.375332Z",
     "start_time": "2023-07-27T22:11:06.366635Z"
    }
   },
   "outputs": [],
   "source": [
    "def eptFusMapChainScaf(efus_regions, efus_mapping_file):\n",
    "    \"\"\"\n",
    "    problem - UCSC liftover chains use alignment chain, not scaffold name. \n",
    "            Efus regions are in scaffold coordinates, but need to be put into chain coordinates\n",
    "            or else, regions cannot be liftedOver\n",
    "    solution\n",
    "        Translate efus scaffold annotations to chain annotations. \n",
    "    \n",
    "    input \n",
    "        efus_regions (str) - file with efus peaks\n",
    "        mapping (str) - file with mapping between efus scaffold and chain\n",
    "        \n",
    "    method\n",
    "        1. open data as pd dataframes\n",
    "        2. merge on scaffold column\n",
    "        3. rearrange column order to make file bed-like with chains in the #chr position\n",
    "        4. re-save data with the chain in the chromosome position\n",
    "\n",
    "    return\n",
    "        region_chains (pd.dataframe) - dataframe with chains annotated in chromosome position of bed file. \n",
    "    \"\"\"\n",
    "    #1\n",
    "    df=pd.read_csv(efus_regions, sep='\\t')\n",
    "\n",
    "    if \"#chain\" not in list(df):\n",
    "        scaf = pd.read_csv(efus_mapping_file,sep='\\t', names=[\"#chain\", \"#chr\"])\n",
    "    \n",
    "        #2\n",
    "        region_chains = pd.merge(df, scaf, how=\"left\")\n",
    "\n",
    "        #3\n",
    "        region_chains = region_chains[['#chain', 'start', \"end\", \"peak_id\", \"#chr\"]]\n",
    "        \n",
    "        #4\n",
    "        region_chains.to_csv(efus_regions, sep='\\t', index=False)\n",
    "    else:\n",
    "        print('already swapped scaffold for chain for liftOver purposes')\n",
    "        region_chains=df\n",
    "\n",
    "    return region_chains\n",
    "    "
   ]
  },
  {
   "cell_type": "code",
   "execution_count": 35,
   "id": "084dee79",
   "metadata": {},
   "outputs": [],
   "source": [
    "def keepReciprocalPeaks(hg38_file, reciprocal_file):\n",
    "    \"\"\"keep only the peaks that are found in both hg38 and bat genomes after reciprocal liftover\"\"\"\n",
    "\n",
    "    rec_df = pd.read_csv(reciprocal_file, sep='\\t', header=None, usecols=[\n",
    "                         3])  # set of reciprocal identifiers\n",
    "    rec = set(rec_df[3])\n",
    "    print(len(rec))\n",
    "\n",
    "    hg38 = pd.read_csv(hg38_file, sep='\\t', header=None)\n",
    "    print(hg38.shape)\n",
    "\n",
    "    hg38_clean = hg38.loc[hg38[3].isin(rec)].copy()\n",
    "\n",
    "    CLEAN_FILE = os.path.split(hg38_file)[0] + \".clean.bed\"\n",
    "\n",
    "    # sort and write file to clean file\n",
    "    hg38_clean.sort_values(by=[0, 1, 2]).to_csv(\n",
    "        CLEAN_FILE, sep='\\t', index=False)\n",
    "\n",
    "    return CLEAN_FILE"
   ]
  },
  {
   "cell_type": "markdown",
   "id": "b86a27ab",
   "metadata": {},
   "source": [
    "## PARAMS"
   ]
  },
  {
   "cell_type": "code",
   "execution_count": 36,
   "id": "792ba53c",
   "metadata": {
    "ExecuteTime": {
     "start_time": "2023-07-27T22:40:08.710Z"
    }
   },
   "outputs": [],
   "source": [
    "sections = [\n",
    "    ('efus', 'eptfus_hg38', 'hg38_eptfus'),\n",
    "    ('ajam', 'artjam_hg38', 'hg38_artjam'),         \n",
    "           ]\n",
    "\n",
    "tissues=['liver', 'pectr', 'smint',\n",
    "        #'liver_promoter', 'pectr_promoter', 'smint_promoter'\n",
    "        ]\n",
    "\n",
    "liftover_runs = {\n",
    "    \"ajam\":(\"artJam2\", 'hg38'), \n",
    "    \"efus\":(\"eptFus1\", 'hg38'),   \n",
    "}\n",
    "\n",
    "formal_names ={\n",
    "    \"ajam\":(\"Artibeus_jamaicensis\",\"fruit_a500\"), \n",
    "    \"efus\":('Eptesicus_fuscus', \"insect_a500\")\n",
    "}\n",
    "\n",
    "BUILD = \"hg38\"\n",
    "MINMATCH = \"0.1\"\n",
    "section = \"hg38_peaks\""
   ]
  },
  {
   "cell_type": "code",
   "execution_count": 37,
   "id": "6a7c808e",
   "metadata": {
    "ExecuteTime": {
     "end_time": "2023-07-27T22:47:08.671796Z",
     "start_time": "2023-07-27T22:40:08.773384Z"
    }
   },
   "outputs": [
    {
     "name": "stdout",
     "output_type": "stream",
     "text": [
      "python /wynton/home/ahituv/fongsl/tools/evo/liftover_bed-wynton.py /wynton/home/ahituv/fongsl/other_analyses/for-hai_bats/data/CallPeaks_results_for_Sarah/Eptesicus_fuscus/liver/insect_a500.bed eptFus1 hg38 -m 0.1 -c /wynton/home/ahituv/fongsl/other_analyses/for-wei_bats/data/chain//eptFus1ToHg38.chain.gz\n",
      "/wynton/home/ahituv/fongsl/other_analyses/for-hai_bats/data/CallPeaks_results_for_Sarah/Eptesicus_fuscus/liver 0.1 <class 'str'>\n",
      "\n",
      "\n",
      "lifting over /wynton/home/ahituv/fongsl/other_analyses/for-hai_bats/data/CallPeaks_results_for_Sarah/Eptesicus_fuscus/liver/insect_a500.bed from eptFus1 to hg38 in /wynton/home/ahituv/fongsl/other_analyses/for-hai_bats/data/CallPeaks_results_for_Sarah/Eptesicus_fuscus/liver \n",
      "\n",
      "\n",
      "Sorting .bed /wynton/home/ahituv/fongsl/other_analyses/for-hai_bats/data/CallPeaks_results_for_Sarah/Eptesicus_fuscus/liver/temp_insect_a500.bed\n",
      "lifted this already?\n",
      "\n",
      " /wynton/home/ahituv/fongsl/other_analyses/for-hai_bats/data/CallPeaks_results_for_Sarah/Eptesicus_fuscus/liver/insect_a500.liftOver.to.hg38.bed\n",
      "cleaned up temp file\n",
      "/wynton/home/ahituv/fongsl/other_analyses/for-hai_bats/data/CallPeaks_results_for_Sarah/Eptesicus_fuscus/liver/insect_a500.liftOver.to.hg38.bed\n",
      "python /wynton/home/ahituv/fongsl/tools/evo/liftover_bed-wynton.py /wynton/home/ahituv/fongsl/other_analyses/for-hai_bats/data/CallPeaks_results_for_Sarah/Eptesicus_fuscus/liver/insect_a500.liftOver.to.hg38.bed hg38 eptFus1 -m 0.1 -c /wynton/home/ahituv/fongsl/other_analyses/for-wei_bats/data/chain//hg38ToEptFus1.over.chain.gz\n",
      "/wynton/home/ahituv/fongsl/other_analyses/for-hai_bats/data/CallPeaks_results_for_Sarah/Eptesicus_fuscus/liver 0.1 <class 'str'>\n",
      "\n",
      "\n",
      "lifting over /wynton/home/ahituv/fongsl/other_analyses/for-hai_bats/data/CallPeaks_results_for_Sarah/Eptesicus_fuscus/liver/insect_a500.liftOver.to.hg38.bed from hg38 to eptFus1 in /wynton/home/ahituv/fongsl/other_analyses/for-hai_bats/data/CallPeaks_results_for_Sarah/Eptesicus_fuscus/liver \n",
      "\n",
      "\n",
      "Sorting .bed /wynton/home/ahituv/fongsl/other_analyses/for-hai_bats/data/CallPeaks_results_for_Sarah/Eptesicus_fuscus/liver/temp_insect_a500.liftOver.to.hg38.bed\n",
      "lifted this already?\n",
      "\n",
      " /wynton/home/ahituv/fongsl/other_analyses/for-hai_bats/data/CallPeaks_results_for_Sarah/Eptesicus_fuscus/liver/insect_a500.liftOver.to.hg38.liftOver.to.eptFus1.bed\n",
      "cleaned up temp file\n",
      "61389\n",
      "(62084, 5)\n",
      "python /wynton/home/ahituv/fongsl/tools/evo/liftover_bed-wynton.py /wynton/home/ahituv/fongsl/other_analyses/for-hai_bats/data/CallPeaks_results_for_Sarah/Eptesicus_fuscus/pectoralmuscle/insect_a500.bed eptFus1 hg38 -m 0.1 -c /wynton/home/ahituv/fongsl/other_analyses/for-wei_bats/data/chain//eptFus1ToHg38.chain.gz\n",
      "/wynton/home/ahituv/fongsl/other_analyses/for-hai_bats/data/CallPeaks_results_for_Sarah/Eptesicus_fuscus/pectoralmuscle 0.1 <class 'str'>\n",
      "\n",
      "\n",
      "lifting over /wynton/home/ahituv/fongsl/other_analyses/for-hai_bats/data/CallPeaks_results_for_Sarah/Eptesicus_fuscus/pectoralmuscle/insect_a500.bed from eptFus1 to hg38 in /wynton/home/ahituv/fongsl/other_analyses/for-hai_bats/data/CallPeaks_results_for_Sarah/Eptesicus_fuscus/pectoralmuscle \n",
      "\n",
      "\n",
      "Sorting .bed /wynton/home/ahituv/fongsl/other_analyses/for-hai_bats/data/CallPeaks_results_for_Sarah/Eptesicus_fuscus/pectoralmuscle/temp_insect_a500.bed\n",
      "lifted this already?\n",
      "\n",
      " /wynton/home/ahituv/fongsl/other_analyses/for-hai_bats/data/CallPeaks_results_for_Sarah/Eptesicus_fuscus/pectoralmuscle/insect_a500.liftOver.to.hg38.bed\n",
      "cleaned up temp file\n",
      "/wynton/home/ahituv/fongsl/other_analyses/for-hai_bats/data/CallPeaks_results_for_Sarah/Eptesicus_fuscus/pectoralmuscle/insect_a500.liftOver.to.hg38.bed\n",
      "python /wynton/home/ahituv/fongsl/tools/evo/liftover_bed-wynton.py /wynton/home/ahituv/fongsl/other_analyses/for-hai_bats/data/CallPeaks_results_for_Sarah/Eptesicus_fuscus/pectoralmuscle/insect_a500.liftOver.to.hg38.bed hg38 eptFus1 -m 0.1 -c /wynton/home/ahituv/fongsl/other_analyses/for-wei_bats/data/chain//hg38ToEptFus1.over.chain.gz\n",
      "/wynton/home/ahituv/fongsl/other_analyses/for-hai_bats/data/CallPeaks_results_for_Sarah/Eptesicus_fuscus/pectoralmuscle 0.1 <class 'str'>\n",
      "\n",
      "\n",
      "lifting over /wynton/home/ahituv/fongsl/other_analyses/for-hai_bats/data/CallPeaks_results_for_Sarah/Eptesicus_fuscus/pectoralmuscle/insect_a500.liftOver.to.hg38.bed from hg38 to eptFus1 in /wynton/home/ahituv/fongsl/other_analyses/for-hai_bats/data/CallPeaks_results_for_Sarah/Eptesicus_fuscus/pectoralmuscle \n",
      "\n",
      "\n",
      "Sorting .bed /wynton/home/ahituv/fongsl/other_analyses/for-hai_bats/data/CallPeaks_results_for_Sarah/Eptesicus_fuscus/pectoralmuscle/temp_insect_a500.liftOver.to.hg38.bed\n",
      "lifted this already?\n",
      "\n",
      " /wynton/home/ahituv/fongsl/other_analyses/for-hai_bats/data/CallPeaks_results_for_Sarah/Eptesicus_fuscus/pectoralmuscle/insect_a500.liftOver.to.hg38.liftOver.to.eptFus1.bed\n",
      "cleaned up temp file\n",
      "31697\n",
      "(32167, 5)\n",
      "python /wynton/home/ahituv/fongsl/tools/evo/liftover_bed-wynton.py /wynton/home/ahituv/fongsl/other_analyses/for-hai_bats/data/CallPeaks_results_for_Sarah/Eptesicus_fuscus/smallintestine/insect_a500.bed eptFus1 hg38 -m 0.1 -c /wynton/home/ahituv/fongsl/other_analyses/for-wei_bats/data/chain//eptFus1ToHg38.chain.gz\n",
      "/wynton/home/ahituv/fongsl/other_analyses/for-hai_bats/data/CallPeaks_results_for_Sarah/Eptesicus_fuscus/smallintestine 0.1 <class 'str'>\n",
      "\n",
      "\n",
      "lifting over /wynton/home/ahituv/fongsl/other_analyses/for-hai_bats/data/CallPeaks_results_for_Sarah/Eptesicus_fuscus/smallintestine/insect_a500.bed from eptFus1 to hg38 in /wynton/home/ahituv/fongsl/other_analyses/for-hai_bats/data/CallPeaks_results_for_Sarah/Eptesicus_fuscus/smallintestine \n",
      "\n",
      "\n",
      "Sorting .bed /wynton/home/ahituv/fongsl/other_analyses/for-hai_bats/data/CallPeaks_results_for_Sarah/Eptesicus_fuscus/smallintestine/temp_insect_a500.bed\n",
      "lifted this already?\n",
      "\n",
      " /wynton/home/ahituv/fongsl/other_analyses/for-hai_bats/data/CallPeaks_results_for_Sarah/Eptesicus_fuscus/smallintestine/insect_a500.liftOver.to.hg38.bed\n",
      "cleaned up temp file\n",
      "/wynton/home/ahituv/fongsl/other_analyses/for-hai_bats/data/CallPeaks_results_for_Sarah/Eptesicus_fuscus/smallintestine/insect_a500.liftOver.to.hg38.bed\n",
      "python /wynton/home/ahituv/fongsl/tools/evo/liftover_bed-wynton.py /wynton/home/ahituv/fongsl/other_analyses/for-hai_bats/data/CallPeaks_results_for_Sarah/Eptesicus_fuscus/smallintestine/insect_a500.liftOver.to.hg38.bed hg38 eptFus1 -m 0.1 -c /wynton/home/ahituv/fongsl/other_analyses/for-wei_bats/data/chain//hg38ToEptFus1.over.chain.gz\n",
      "/wynton/home/ahituv/fongsl/other_analyses/for-hai_bats/data/CallPeaks_results_for_Sarah/Eptesicus_fuscus/smallintestine 0.1 <class 'str'>\n",
      "\n",
      "\n",
      "lifting over /wynton/home/ahituv/fongsl/other_analyses/for-hai_bats/data/CallPeaks_results_for_Sarah/Eptesicus_fuscus/smallintestine/insect_a500.liftOver.to.hg38.bed from hg38 to eptFus1 in /wynton/home/ahituv/fongsl/other_analyses/for-hai_bats/data/CallPeaks_results_for_Sarah/Eptesicus_fuscus/smallintestine \n",
      "\n",
      "\n",
      "Sorting .bed /wynton/home/ahituv/fongsl/other_analyses/for-hai_bats/data/CallPeaks_results_for_Sarah/Eptesicus_fuscus/smallintestine/temp_insect_a500.liftOver.to.hg38.bed\n",
      "lifted this already?\n",
      "\n",
      " /wynton/home/ahituv/fongsl/other_analyses/for-hai_bats/data/CallPeaks_results_for_Sarah/Eptesicus_fuscus/smallintestine/insect_a500.liftOver.to.hg38.liftOver.to.eptFus1.bed\n",
      "cleaned up temp file\n",
      "35815\n",
      "(36357, 5)\n",
      "python /wynton/home/ahituv/fongsl/tools/evo/liftover_bed-wynton.py /wynton/home/ahituv/fongsl/other_analyses/for-hai_bats/data/CallPeaks_results_for_Sarah/Artibeus_jamaicensis/liver/fruit_a500.bed artJam2 hg38 -m 0.1 -c /wynton/home/ahituv/fongsl/other_analyses/for-wei_bats/data/chain//ArtJamW.chr1_22.hg38.chain.final.gz\n",
      "/wynton/home/ahituv/fongsl/other_analyses/for-hai_bats/data/CallPeaks_results_for_Sarah/Artibeus_jamaicensis/liver 0.1 <class 'str'>\n",
      "\n",
      "\n",
      "lifting over /wynton/home/ahituv/fongsl/other_analyses/for-hai_bats/data/CallPeaks_results_for_Sarah/Artibeus_jamaicensis/liver/fruit_a500.bed from artJam2 to hg38 in /wynton/home/ahituv/fongsl/other_analyses/for-hai_bats/data/CallPeaks_results_for_Sarah/Artibeus_jamaicensis/liver \n",
      "\n",
      "\n",
      "Sorting .bed /wynton/home/ahituv/fongsl/other_analyses/for-hai_bats/data/CallPeaks_results_for_Sarah/Artibeus_jamaicensis/liver/temp_fruit_a500.bed\n",
      "lifted this already?\n",
      "\n",
      " /wynton/home/ahituv/fongsl/other_analyses/for-hai_bats/data/CallPeaks_results_for_Sarah/Artibeus_jamaicensis/liver/fruit_a500.liftOver.to.hg38.bed\n",
      "cleaned up temp file\n",
      "/wynton/home/ahituv/fongsl/other_analyses/for-hai_bats/data/CallPeaks_results_for_Sarah/Artibeus_jamaicensis/liver/fruit_a500.liftOver.to.hg38.bed\n",
      "python /wynton/home/ahituv/fongsl/tools/evo/liftover_bed-wynton.py /wynton/home/ahituv/fongsl/other_analyses/for-hai_bats/data/CallPeaks_results_for_Sarah/Artibeus_jamaicensis/liver/fruit_a500.liftOver.to.hg38.bed hg38 artJam2 -m 0.1 -c /wynton/home/ahituv/fongsl/other_analyses/for-wei_bats/data/chain//hg38.chr1_22.ArtJamW.chain.final.gz\n"
     ]
    },
    {
     "name": "stdout",
     "output_type": "stream",
     "text": [
      "/wynton/home/ahituv/fongsl/other_analyses/for-hai_bats/data/CallPeaks_results_for_Sarah/Artibeus_jamaicensis/liver 0.1 <class 'str'>\n",
      "\n",
      "\n",
      "lifting over /wynton/home/ahituv/fongsl/other_analyses/for-hai_bats/data/CallPeaks_results_for_Sarah/Artibeus_jamaicensis/liver/fruit_a500.liftOver.to.hg38.bed from hg38 to artJam2 in /wynton/home/ahituv/fongsl/other_analyses/for-hai_bats/data/CallPeaks_results_for_Sarah/Artibeus_jamaicensis/liver \n",
      "\n",
      "\n",
      "Sorting .bed /wynton/home/ahituv/fongsl/other_analyses/for-hai_bats/data/CallPeaks_results_for_Sarah/Artibeus_jamaicensis/liver/temp_fruit_a500.liftOver.to.hg38.bed\n",
      "lifted this already?\n",
      "\n",
      " /wynton/home/ahituv/fongsl/other_analyses/for-hai_bats/data/CallPeaks_results_for_Sarah/Artibeus_jamaicensis/liver/fruit_a500.liftOver.to.hg38.liftOver.to.artJam2.bed\n",
      "cleaned up temp file\n",
      "7664\n",
      "(8644, 4)\n",
      "python /wynton/home/ahituv/fongsl/tools/evo/liftover_bed-wynton.py /wynton/home/ahituv/fongsl/other_analyses/for-hai_bats/data/CallPeaks_results_for_Sarah/Artibeus_jamaicensis/pectoralmuscle/fruit_a500.bed artJam2 hg38 -m 0.1 -c /wynton/home/ahituv/fongsl/other_analyses/for-wei_bats/data/chain//ArtJamW.chr1_22.hg38.chain.final.gz\n",
      "/wynton/home/ahituv/fongsl/other_analyses/for-hai_bats/data/CallPeaks_results_for_Sarah/Artibeus_jamaicensis/pectoralmuscle 0.1 <class 'str'>\n",
      "\n",
      "\n",
      "lifting over /wynton/home/ahituv/fongsl/other_analyses/for-hai_bats/data/CallPeaks_results_for_Sarah/Artibeus_jamaicensis/pectoralmuscle/fruit_a500.bed from artJam2 to hg38 in /wynton/home/ahituv/fongsl/other_analyses/for-hai_bats/data/CallPeaks_results_for_Sarah/Artibeus_jamaicensis/pectoralmuscle \n",
      "\n",
      "\n",
      "Sorting .bed /wynton/home/ahituv/fongsl/other_analyses/for-hai_bats/data/CallPeaks_results_for_Sarah/Artibeus_jamaicensis/pectoralmuscle/temp_fruit_a500.bed\n",
      "lifted this already?\n",
      "\n",
      " /wynton/home/ahituv/fongsl/other_analyses/for-hai_bats/data/CallPeaks_results_for_Sarah/Artibeus_jamaicensis/pectoralmuscle/fruit_a500.liftOver.to.hg38.bed\n",
      "cleaned up temp file\n",
      "/wynton/home/ahituv/fongsl/other_analyses/for-hai_bats/data/CallPeaks_results_for_Sarah/Artibeus_jamaicensis/pectoralmuscle/fruit_a500.liftOver.to.hg38.bed\n",
      "python /wynton/home/ahituv/fongsl/tools/evo/liftover_bed-wynton.py /wynton/home/ahituv/fongsl/other_analyses/for-hai_bats/data/CallPeaks_results_for_Sarah/Artibeus_jamaicensis/pectoralmuscle/fruit_a500.liftOver.to.hg38.bed hg38 artJam2 -m 0.1 -c /wynton/home/ahituv/fongsl/other_analyses/for-wei_bats/data/chain//hg38.chr1_22.ArtJamW.chain.final.gz\n",
      "/wynton/home/ahituv/fongsl/other_analyses/for-hai_bats/data/CallPeaks_results_for_Sarah/Artibeus_jamaicensis/pectoralmuscle 0.1 <class 'str'>\n",
      "\n",
      "\n",
      "lifting over /wynton/home/ahituv/fongsl/other_analyses/for-hai_bats/data/CallPeaks_results_for_Sarah/Artibeus_jamaicensis/pectoralmuscle/fruit_a500.liftOver.to.hg38.bed from hg38 to artJam2 in /wynton/home/ahituv/fongsl/other_analyses/for-hai_bats/data/CallPeaks_results_for_Sarah/Artibeus_jamaicensis/pectoralmuscle \n",
      "\n",
      "\n",
      "Sorting .bed /wynton/home/ahituv/fongsl/other_analyses/for-hai_bats/data/CallPeaks_results_for_Sarah/Artibeus_jamaicensis/pectoralmuscle/temp_fruit_a500.liftOver.to.hg38.bed\n",
      "lifted this already?\n",
      "\n",
      " /wynton/home/ahituv/fongsl/other_analyses/for-hai_bats/data/CallPeaks_results_for_Sarah/Artibeus_jamaicensis/pectoralmuscle/fruit_a500.liftOver.to.hg38.liftOver.to.artJam2.bed\n",
      "cleaned up temp file\n",
      "8\n",
      "(33, 4)\n",
      "python /wynton/home/ahituv/fongsl/tools/evo/liftover_bed-wynton.py /wynton/home/ahituv/fongsl/other_analyses/for-hai_bats/data/CallPeaks_results_for_Sarah/Artibeus_jamaicensis/smallintestine/fruit_a500.bed artJam2 hg38 -m 0.1 -c /wynton/home/ahituv/fongsl/other_analyses/for-wei_bats/data/chain//ArtJamW.chr1_22.hg38.chain.final.gz\n",
      "/wynton/home/ahituv/fongsl/other_analyses/for-hai_bats/data/CallPeaks_results_for_Sarah/Artibeus_jamaicensis/smallintestine 0.1 <class 'str'>\n",
      "\n",
      "\n",
      "lifting over /wynton/home/ahituv/fongsl/other_analyses/for-hai_bats/data/CallPeaks_results_for_Sarah/Artibeus_jamaicensis/smallintestine/fruit_a500.bed from artJam2 to hg38 in /wynton/home/ahituv/fongsl/other_analyses/for-hai_bats/data/CallPeaks_results_for_Sarah/Artibeus_jamaicensis/smallintestine \n",
      "\n",
      "\n",
      "Sorting .bed /wynton/home/ahituv/fongsl/other_analyses/for-hai_bats/data/CallPeaks_results_for_Sarah/Artibeus_jamaicensis/smallintestine/temp_fruit_a500.bed\n",
      "lifted this already?\n",
      "\n",
      " /wynton/home/ahituv/fongsl/other_analyses/for-hai_bats/data/CallPeaks_results_for_Sarah/Artibeus_jamaicensis/smallintestine/fruit_a500.liftOver.to.hg38.bed\n",
      "cleaned up temp file\n",
      "/wynton/home/ahituv/fongsl/other_analyses/for-hai_bats/data/CallPeaks_results_for_Sarah/Artibeus_jamaicensis/smallintestine/fruit_a500.liftOver.to.hg38.bed\n",
      "python /wynton/home/ahituv/fongsl/tools/evo/liftover_bed-wynton.py /wynton/home/ahituv/fongsl/other_analyses/for-hai_bats/data/CallPeaks_results_for_Sarah/Artibeus_jamaicensis/smallintestine/fruit_a500.liftOver.to.hg38.bed hg38 artJam2 -m 0.1 -c /wynton/home/ahituv/fongsl/other_analyses/for-wei_bats/data/chain//hg38.chr1_22.ArtJamW.chain.final.gz\n",
      "/wynton/home/ahituv/fongsl/other_analyses/for-hai_bats/data/CallPeaks_results_for_Sarah/Artibeus_jamaicensis/smallintestine 0.1 <class 'str'>\n",
      "\n",
      "\n",
      "lifting over /wynton/home/ahituv/fongsl/other_analyses/for-hai_bats/data/CallPeaks_results_for_Sarah/Artibeus_jamaicensis/smallintestine/fruit_a500.liftOver.to.hg38.bed from hg38 to artJam2 in /wynton/home/ahituv/fongsl/other_analyses/for-hai_bats/data/CallPeaks_results_for_Sarah/Artibeus_jamaicensis/smallintestine \n",
      "\n",
      "\n",
      "Sorting .bed /wynton/home/ahituv/fongsl/other_analyses/for-hai_bats/data/CallPeaks_results_for_Sarah/Artibeus_jamaicensis/smallintestine/temp_fruit_a500.liftOver.to.hg38.bed\n",
      "lifted this already?\n",
      "\n",
      " /wynton/home/ahituv/fongsl/other_analyses/for-hai_bats/data/CallPeaks_results_for_Sarah/Artibeus_jamaicensis/smallintestine/fruit_a500.liftOver.to.hg38.liftOver.to.artJam2.bed\n",
      "cleaned up temp file\n",
      "21936\n",
      "(24419, 4)\n"
     ]
    }
   ],
   "source": [
    "for section, chain1, chain2 in sections:\n",
    "    for tissue in tissues:\n",
    "        \n",
    "        FILE = config[section][tissue]\n",
    "        CHAIN1 = config[\"chain\"][chain1]  # bat -> hu\n",
    "        CHAIN2 = config[\"chain\"][chain2]  # hu -> bat\n",
    "        \n",
    "        # get naming conventions\n",
    "        formal_name, conv_name = formal_names[section]\n",
    "        PATH = os.path.dirname(FILE)\n",
    "        \n",
    "        # make a bed file (only 4 columns for liftover)\n",
    "        BED = makeBed(FILE)\n",
    "\n",
    "        if section == \"efus\" and \"promoter\" not in tissue:\n",
    "            \"\"\"change efus scaffolds to chains\"\"\"\n",
    "            \n",
    "            # file that maps scaffold to chains\n",
    "            EFUS_SCAFFOLD=config[\"scaffolds\"][\"ept_scaf_clean\"]\n",
    "            \n",
    "            eptFusMapChainScaf(BED, EFUS_SCAFFOLD)\n",
    "            \n",
    "         # write to config\n",
    "        config[section][f\"{tissue}.bed\"]= BED\n",
    "        \n",
    "         # get the to and from builds, \n",
    "        from_build, to_build = liftover_runs[section]\n",
    "        \n",
    "        # do liftover\n",
    "        liftOver(BED, to_build, from_build, MINMATCH, CHAIN1)\n",
    "        \n",
    "        # get liftover filename\n",
    "        LIFTOVER_FILE = os.path.join(PATH, f\"{conv_name}.liftOver.to.{to_build}.bed\")\n",
    "        print(LIFTOVER_FILE)\n",
    "        \n",
    "        # write liftover to config\n",
    "        config[section][f\"{tissue}.to.hg38\"] = LIFTOVER_FILE\n",
    "        \n",
    "        # do reciprocal liftover\n",
    "        liftOver(LIFTOVER_FILE, from_build, to_build, MINMATCH, CHAIN2)\n",
    "        \n",
    "        # write reciprocal liftOver to config\n",
    "        LIFTOVER_FILE2 = os.path.join(PATH, f\"{conv_name}.liftOver.to.hg38.liftOver.to.{from_build}.bed\")\n",
    "\n",
    "        config[section][f\"{tissue}.to.{to_build}.to.{from_build}\"] = LIFTOVER_FILE2\n",
    "        \n",
    "        RECIP_FILE = keepReciprocalPeaks(LIFTOVER_FILE, LIFTOVER_FILE2)\n",
    "        \n",
    "        config[section][f\"{tissue}.to.{to_build}.reciprocal\"] = RECIP_FILE\n",
    "\n",
    "# write new beds to config\n",
    "crw.write(config, cfn)"
   ]
  },
  {
   "cell_type": "code",
   "execution_count": null,
   "id": "42c41f6b",
   "metadata": {},
   "outputs": [],
   "source": []
  }
 ],
 "metadata": {
  "kernelspec": {
   "display_name": "Python (mamba)",
   "language": "python",
   "name": "mamba"
  },
  "language_info": {
   "codemirror_mode": {
    "name": "ipython",
    "version": 3
   },
   "file_extension": ".py",
   "mimetype": "text/x-python",
   "name": "python",
   "nbconvert_exporter": "python",
   "pygments_lexer": "ipython3",
   "version": "3.9.16"
  },
  "toc": {
   "base_numbering": 1,
   "nav_menu": {},
   "number_sections": true,
   "sideBar": true,
   "skip_h1_title": false,
   "title_cell": "Table of Contents",
   "title_sidebar": "Contents",
   "toc_cell": false,
   "toc_position": {},
   "toc_section_display": true,
   "toc_window_display": false
  },
  "varInspector": {
   "cols": {
    "lenName": 16,
    "lenType": 16,
    "lenVar": 40
   },
   "kernels_config": {
    "python": {
     "delete_cmd_postfix": "",
     "delete_cmd_prefix": "del ",
     "library": "var_list.py",
     "varRefreshCmd": "print(var_dic_list())"
    },
    "r": {
     "delete_cmd_postfix": ") ",
     "delete_cmd_prefix": "rm(",
     "library": "var_list.r",
     "varRefreshCmd": "cat(var_dic_list()) "
    }
   },
   "types_to_exclude": [
    "module",
    "function",
    "builtin_function_or_method",
    "instance",
    "_Feature"
   ],
   "window_display": false
  }
 },
 "nbformat": 4,
 "nbformat_minor": 5
}
