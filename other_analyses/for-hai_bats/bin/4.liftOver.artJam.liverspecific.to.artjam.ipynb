{
 "cells": [
  {
   "cell_type": "code",
   "execution_count": 1,
   "id": "33112d35",
   "metadata": {
    "ExecuteTime": {
     "end_time": "2023-11-17T23:57:25.622362Z",
     "start_time": "2023-11-17T23:57:24.232933Z"
    }
   },
   "outputs": [],
   "source": [
    "import os, sys\n",
    "import pybedtools as pbt\n",
    "\n",
    "import config_readwrite as crw"
   ]
  },
  {
   "cell_type": "code",
   "execution_count": 2,
   "id": "873766d3",
   "metadata": {
    "ExecuteTime": {
     "end_time": "2023-11-17T23:57:27.985139Z",
     "start_time": "2023-11-17T23:57:27.980091Z"
    }
   },
   "outputs": [],
   "source": [
    "cfn_file = os.path.join(os.getcwd(), \"config.bat2.ini\")\n",
    "\n",
    "config, cfn = crw.read(cfn_file)"
   ]
  },
  {
   "cell_type": "markdown",
   "id": "73734460",
   "metadata": {},
   "source": [
    "## functions"
   ]
  },
  {
   "cell_type": "code",
   "execution_count": 4,
   "id": "0d613f16",
   "metadata": {
    "ExecuteTime": {
     "end_time": "2023-11-17T23:57:28.852665Z",
     "start_time": "2023-11-17T23:57:28.848722Z"
    }
   },
   "outputs": [],
   "source": [
    "def liftOver(bed_file, to_build, from_build, minmatch, chainfile):\n",
    "\n",
    "    src = \"/wynton/group/ahituv/fongsl/tools/evo/liftover_bed-wynton.py\"\n",
    "    cmd = \" \".join([\n",
    "        \"python\",\n",
    "        src,\n",
    "        bed_file,\n",
    "        from_build,\n",
    "        to_build,\n",
    "        \"-m\",\n",
    "        minmatch,\n",
    "        \"-c\",\n",
    "        chainfile\n",
    "\n",
    "    ])\n",
    "\n",
    "    print(cmd)\n",
    "\n",
    "    # run command in command line\n",
    "    os.system(cmd)"
   ]
  },
  {
   "cell_type": "markdown",
   "id": "c4382ab2",
   "metadata": {},
   "source": [
    "## params"
   ]
  },
  {
   "cell_type": "code",
   "execution_count": 6,
   "id": "dcbde25d",
   "metadata": {
    "ExecuteTime": {
     "end_time": "2023-11-17T23:57:32.071837Z",
     "start_time": "2023-11-17T23:57:32.067539Z"
    }
   },
   "outputs": [],
   "source": [
    "tissue='liver'\n",
    "species = \"ajam\"\n",
    "\n",
    "sections = [\n",
    "    #('efus', 'eptfus_hg38', 'hg38_eptfus'),\n",
    "    (tissue, 'artjam_hg38', 'hg38_artjam'),         \n",
    "           ]\n",
    "\n",
    "species_specific=['ajam_specific']\n",
    "\n",
    "liftover_runs = {\n",
    "    \"ajam\":('hg38', \"artJam2\"), \n",
    "    \"efus\":('hg38', \"eptFus1\"),   \n",
    "}\n",
    "\n",
    "formal_names ={\n",
    "    \"ajam\":(\"Artibeus_jamaicensis\",\"fruit_a500\"), \n",
    "    \"efus\":('Eptesicus_fuscus', \"insect_a500\")\n",
    "}\n",
    "\n",
    "BUILD = \"hg38\"\n",
    "MINMATCH = \"0.1\""
   ]
  },
  {
   "cell_type": "markdown",
   "id": "027ec970",
   "metadata": {},
   "source": [
    "## liftover hg38 bed -> ArtJam2 bed"
   ]
  },
  {
   "cell_type": "code",
   "execution_count": 8,
   "id": "e54dae8b",
   "metadata": {
    "ExecuteTime": {
     "end_time": "2023-11-17T23:58:16.654463Z",
     "start_time": "2023-11-17T23:58:02.869014Z"
    }
   },
   "outputs": [
    {
     "name": "stdout",
     "output_type": "stream",
     "text": [
      "/wynton/home/ahituv/fongsl/other_analyses/for-hai_bats/data/CallPeaks_results_for_Sarah/Artibeus_jamaicensis/liver/liver.ajam.specific.bed /wynton/home/ahituv/fongsl/other_analyses/for-wei_bats/data/chain/hg38.chr1_22.ArtJamW.chain.final.gz Artibeus_jamaicensis fruit_a500 /wynton/home/ahituv/fongsl/other_analyses/for-hai_bats/data/CallPeaks_results_for_Sarah/Artibeus_jamaicensis/liver\n",
      "hg38 artJam2\n",
      "python /wynton/group/ahituv/fongsl/tools/evo/liftover_bed-wynton.py /wynton/home/ahituv/fongsl/other_analyses/for-hai_bats/data/CallPeaks_results_for_Sarah/Artibeus_jamaicensis/liver/liver.ajam.specific.bed hg38 artJam2 -m 0.1 -c /wynton/home/ahituv/fongsl/other_analyses/for-wei_bats/data/chain/hg38.chr1_22.ArtJamW.chain.final.gz\n"
     ]
    },
    {
     "name": "stderr",
     "output_type": "stream",
     "text": [
      "Reading liftover chains\n",
      "Mapping coordinates\n"
     ]
    },
    {
     "name": "stdout",
     "output_type": "stream",
     "text": [
      "/wynton/home/ahituv/fongsl/other_analyses/for-hai_bats/data/CallPeaks_results_for_Sarah/Artibeus_jamaicensis/liver 0.1 <class 'str'>\n",
      "\n",
      "\n",
      "lifting over /wynton/home/ahituv/fongsl/other_analyses/for-hai_bats/data/CallPeaks_results_for_Sarah/Artibeus_jamaicensis/liver/liver.ajam.specific.bed from hg38 to artJam2 in /wynton/home/ahituv/fongsl/other_analyses/for-hai_bats/data/CallPeaks_results_for_Sarah/Artibeus_jamaicensis/liver \n",
      "\n",
      "\n",
      "Sorting .bed /wynton/home/ahituv/fongsl/other_analyses/for-hai_bats/data/CallPeaks_results_for_Sarah/Artibeus_jamaicensis/liver/temp_liver.ajam.specific.bed\n",
      "found empty file\n",
      "\n",
      "liftingOver liver.ajam.specific \n",
      "\n",
      " /wynton/group/ahituv/bin/liftOver /wynton/home/ahituv/fongsl/other_analyses/for-hai_bats/data/CallPeaks_results_for_Sarah/Artibeus_jamaicensis/liver/temp_liver.ajam.specific.bed /wynton/home/ahituv/fongsl/other_analyses/for-wei_bats/data/chain/hg38.chr1_22.ArtJamW.chain.final.gz /wynton/home/ahituv/fongsl/other_analyses/for-hai_bats/data/CallPeaks_results_for_Sarah/Artibeus_jamaicensis/liver/liver.ajam.specific.liftOver.to.artJam2.bed /wynton/home/ahituv/fongsl/other_analyses/for-hai_bats/data/CallPeaks_results_for_Sarah/Artibeus_jamaicensis/liver/liver.ajam.specific.notlifted.to.artJam2.bed -minMatch=0.1 \n",
      "\n",
      "\n",
      "done lifting\n",
      "cleaned up temp file\n",
      "/wynton/home/ahituv/fongsl/other_analyses/for-hai_bats/data/CallPeaks_results_for_Sarah/Artibeus_jamaicensis/liver/liver.ajam.specific.liftOver.to.artJam2.bed\n"
     ]
    }
   ],
   "source": [
    "for tissue, chain1, chain2 in sections:\n",
    "    for sp in species_specific:\n",
    "        \n",
    "        BED = config[tissue][sp]\n",
    "        CHAIN = config[\"chain\"][chain2]  # hu -> bat\n",
    "        \n",
    "        # get naming conventions\n",
    "        formal_name, conv_name = formal_names[species]\n",
    "        PATH = os.path.dirname(BED)\n",
    "        print(BED, CHAIN, formal_name, conv_name, PATH)\n",
    "        \n",
    "\n",
    "         # write to config\n",
    "        config[tissue][f\"{tissue}.{species}_specific.{chain2}.bed\"]= BED\n",
    "        \n",
    "         # get the to and from builds, \n",
    "        from_build, to_build = liftover_runs[species]\n",
    "        print(from_build, to_build)\n",
    "\n",
    "        # do liftover\n",
    "        liftOver(BED, to_build, from_build, MINMATCH, CHAIN)\n",
    "        \n",
    "        # get liftover filename\n",
    "        LIFTOVER_FILE = os.path.join(PATH, f\"{tissue}.{species}.specific.liftOver.to.{to_build}.bed\")\n",
    "        print(LIFTOVER_FILE)\n",
    "        \n",
    "        # write liftover to config\n",
    "        config[tissue][f\"{sp}.{from_build}.to.{to_build}\"] = LIFTOVER_FILE\n",
    "        \n",
    "\n",
    "# write new beds to config\n",
    "crw.write(config, cfn)"
   ]
  },
  {
   "cell_type": "markdown",
   "id": "344f2e54",
   "metadata": {},
   "source": [
    "## ArtJam2 Bed -> ArtJam2 FASTA sequences. "
   ]
  },
  {
   "cell_type": "code",
   "execution_count": 11,
   "id": "17376985",
   "metadata": {
    "ExecuteTime": {
     "end_time": "2023-11-18T00:02:01.940861Z",
     "start_time": "2023-11-18T00:02:01.936303Z"
    }
   },
   "outputs": [
    {
     "name": "stdout",
     "output_type": "stream",
     "text": [
      "bedtools getfasta -fi /wynton/group/ahituv/data/dna/artjam2/ArtJam2_scaffolds_largerthan_50kb.fa -bed /wynton/home/ahituv/fongsl/other_analyses/for-hai_bats/data/CallPeaks_results_for_Sarah/Artibeus_jamaicensis/liver/liver.ajam.specific.liftOver.to.artJam2.bed > /wynton/home/ahituv/fongsl/other_analyses/for-hai_bats/data/CallPeaks_results_for_Sarah/Artibeus_jamaicensis/liver/liver.ajam.specific.liftOver.to.artJam2.fa\n"
     ]
    }
   ],
   "source": [
    "LIFTED_BED = \"/wynton/home/ahituv/fongsl/other_analyses/for-hai_bats/data/CallPeaks_results_for_Sarah/Artibeus_jamaicensis/liver/liver.ajam.specific.liftOver.to.artJam2.bed\"\n",
    "FASTA=\"/wynton/group/ahituv/data/dna/artjam2/ArtJam2_scaffolds_largerthan_50kb.fa\"\n",
    "OUT = LIFTED_BED.strip(\".bed\") + \".fa\"\n",
    "cmd = [\"bedtools getfasta\", \n",
    "      \"-fi\", \n",
    "      FASTA, \n",
    "      \"-bed\", \n",
    "      LIFTED_BED,\n",
    "      \">\", \n",
    "       OUT\n",
    "      ]\n",
    "\n",
    "print(\" \".join(cmd))"
   ]
  },
  {
   "cell_type": "markdown",
   "id": "c2977351",
   "metadata": {},
   "source": [
    "## write fasta file to config"
   ]
  },
  {
   "cell_type": "code",
   "execution_count": 15,
   "id": "17dd8ec5",
   "metadata": {
    "ExecuteTime": {
     "end_time": "2023-11-18T00:33:36.483249Z",
     "start_time": "2023-11-18T00:33:36.477623Z"
    }
   },
   "outputs": [],
   "source": [
    "config[tissue][f\"{tissue}.{species}_specific.{chain2}.fa\"] = OUT\n",
    "# write new beds to config\n",
    "crw.write(config, cfn)"
   ]
  },
  {
   "cell_type": "code",
   "execution_count": 13,
   "id": "1f239c50",
   "metadata": {
    "ExecuteTime": {
     "end_time": "2023-11-18T00:05:56.185884Z",
     "start_time": "2023-11-18T00:05:56.123150Z"
    }
   },
   "outputs": [
    {
     "data": {
      "text/plain": [
       "'/wynton/home/ahituv/fongsl/other_analyses/for-hai_bats/data/CallPeaks_results_for_Sarah/Artibeus_jamaicensis/liver/liver.ajam.specific.liftOver.to.artJam2.fa'"
      ]
     },
     "execution_count": 13,
     "metadata": {},
     "output_type": "execute_result"
    }
   ],
   "source": [
    "OUT"
   ]
  }
 ],
 "metadata": {
  "kernelspec": {
   "display_name": "Python (mamba)",
   "language": "python",
   "name": "mamba"
  },
  "language_info": {
   "codemirror_mode": {
    "name": "ipython",
    "version": 3
   },
   "file_extension": ".py",
   "mimetype": "text/x-python",
   "name": "python",
   "nbconvert_exporter": "python",
   "pygments_lexer": "ipython3",
   "version": "3.9.16"
  },
  "toc": {
   "base_numbering": 1,
   "nav_menu": {},
   "number_sections": true,
   "sideBar": true,
   "skip_h1_title": false,
   "title_cell": "Table of Contents",
   "title_sidebar": "Contents",
   "toc_cell": false,
   "toc_position": {},
   "toc_section_display": true,
   "toc_window_display": false
  },
  "varInspector": {
   "cols": {
    "lenName": 16,
    "lenType": 16,
    "lenVar": 40
   },
   "kernels_config": {
    "python": {
     "delete_cmd_postfix": "",
     "delete_cmd_prefix": "del ",
     "library": "var_list.py",
     "varRefreshCmd": "print(var_dic_list())"
    },
    "r": {
     "delete_cmd_postfix": ") ",
     "delete_cmd_prefix": "rm(",
     "library": "var_list.r",
     "varRefreshCmd": "cat(var_dic_list()) "
    }
   },
   "types_to_exclude": [
    "module",
    "function",
    "builtin_function_or_method",
    "instance",
    "_Feature"
   ],
   "window_display": false
  }
 },
 "nbformat": 4,
 "nbformat_minor": 5
}
