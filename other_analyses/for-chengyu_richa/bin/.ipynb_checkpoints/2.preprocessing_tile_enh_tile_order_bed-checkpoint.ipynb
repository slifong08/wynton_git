{
 "cells": [
  {
   "cell_type": "code",
   "execution_count": 1,
   "metadata": {},
   "outputs": [
    {
     "data": {
      "text/plain": [
       "('sans-serif', 'Arial', 18)"
      ]
     },
     "execution_count": 1,
     "metadata": {},
     "output_type": "execute_result"
    }
   ],
   "source": [
    "from Bio.SeqIO.FastaIO import SimpleFastaParser\n",
    "import numpy as np\n",
    "import os, sys\n",
    "import pandas as pd\n",
    "import pybedtools as pb\n",
    "import matplotlib.pyplot as plt\n",
    "import seaborn as sns\n",
    "\n",
    "LOCAL = True\n",
    "if LOCAL is True:\n",
    "    sys.path.append(\"/Users/sarahfong/tools/py_\")\n",
    "    PATH = \"/Users/sarahfong/Desktop/local_data/Biomarin_Jun_2023/\"\n",
    "    META_DATA= os.path.join(PATH, \"lib2.meta_data.tsv\")\n",
    "    TILE_BED = os.path.join(PATH, \"lib2.processed.bed\")\n",
    "    ENH_BED = os.path.join(PATH,'lib2.processed.merged.bed')\n",
    "                         \n",
    "import config_readwrite as crw\n",
    "import plot_params as pp\n",
    "pp.fonts()"
   ]
  },
  {
   "cell_type": "markdown",
   "metadata": {},
   "source": [
    "# make tile bed"
   ]
  },
  {
   "cell_type": "code",
   "execution_count": null,
   "metadata": {},
   "outputs": [],
   "source": [
    "df = pd.read_csv(META_DATA, sep='\\t')"
   ]
  },
  {
   "cell_type": "code",
   "execution_count": 11,
   "metadata": {},
   "outputs": [
    {
     "name": "stdout",
     "output_type": "stream",
     "text": [
      "(43370, 12)\n"
     ]
    }
   ],
   "source": [
    "bed = df.loc[df[\"#chr\"].str.contains(\"chr\")]\n",
    "print(bed.shape)\n",
    "bedcols=[\"#chr\", \"start\", \"end\", \"name\"]\n",
    "bed[bedcols].drop_duplicates().sort_values(by=bedcols).to_csv(TILE_BED, sep='\\t', index=False)"
   ]
  },
  {
   "cell_type": "markdown",
   "metadata": {},
   "source": [
    "# merge tiles w/ loci "
   ]
  },
  {
   "cell_type": "code",
   "execution_count": 12,
   "metadata": {},
   "outputs": [
    {
     "name": "stderr",
     "output_type": "stream",
     "text": [
      "***** WARNING: File /var/folders/py/l9twpqw15t1gsthcfk_tk2c80000gn/T/pybedtools.q_tjppih.tmp has inconsistent naming convention for record:\n",
      "chr1\t10057\t10563\n",
      "\n",
      "***** WARNING: File /var/folders/py/l9twpqw15t1gsthcfk_tk2c80000gn/T/pybedtools.q_tjppih.tmp has inconsistent naming convention for record:\n",
      "chr1\t10057\t10563\n",
      "\n"
     ]
    },
    {
     "data": {
      "text/plain": [
       "<BedTool(/Users/sarahfong/Desktop/local_data/Biomarin_Jun_2023/lib2.processed.merged.bed)>"
      ]
     },
     "execution_count": 12,
     "metadata": {},
     "output_type": "execute_result"
    }
   ],
   "source": [
    "m = pb.BedTool(TILE_BED)\n",
    "merged = m.sort().merge()\n",
    "m.intersect(merged, wa=True, wb=True, output=ENH_BED)"
   ]
  },
  {
   "cell_type": "markdown",
   "metadata": {},
   "source": [
    "# add enhancer id and tile order"
   ]
  },
  {
   "cell_type": "code",
   "execution_count": 13,
   "metadata": {},
   "outputs": [],
   "source": [
    "def assignTileOrder(df):\n",
    "    \n",
    "    \"\"\" assign tile order within each peak, return dataframe\"\"\"\n",
    "    dfs = {}\n",
    "    for enh_id in df[\"enh.id\"].unique():\n",
    "        # enh dataframe\n",
    "        test = df.loc[df[\"enh.id\"] ==enh_id].copy()\n",
    "        \n",
    "        # sort by smallest start coordinate\n",
    "        test = test.sort_values(by= [\"#chr\", \"start.tile\", \"end.tile\"]).reset_index()\n",
    "        \n",
    "        # drop index column\n",
    "        test = test.drop(columns = [\"index\"])\n",
    "        \n",
    "        # add tile.order\n",
    "        test[\"tile.order\"] = test.index.map(str)\n",
    "    \n",
    "        # add to dictionary\n",
    "        dfs[enh_id] = test\n",
    "        \n",
    "    return pd.concat(dfs.values())"
   ]
  },
  {
   "cell_type": "code",
   "execution_count": 14,
   "metadata": {},
   "outputs": [
    {
     "data": {
      "text/html": [
       "<div>\n",
       "<style scoped>\n",
       "    .dataframe tbody tr th:only-of-type {\n",
       "        vertical-align: middle;\n",
       "    }\n",
       "\n",
       "    .dataframe tbody tr th {\n",
       "        vertical-align: top;\n",
       "    }\n",
       "\n",
       "    .dataframe thead th {\n",
       "        text-align: right;\n",
       "    }\n",
       "</style>\n",
       "<table border=\"1\" class=\"dataframe\">\n",
       "  <thead>\n",
       "    <tr style=\"text-align: right;\">\n",
       "      <th></th>\n",
       "      <th>#chr</th>\n",
       "      <th>start.tile</th>\n",
       "      <th>end.tile</th>\n",
       "      <th>coor</th>\n",
       "      <th>#chr.enh</th>\n",
       "      <th>start.enh</th>\n",
       "      <th>end.enh</th>\n",
       "      <th>enh.id</th>\n",
       "      <th>enh.name</th>\n",
       "      <th>tile.order</th>\n",
       "    </tr>\n",
       "  </thead>\n",
       "  <tbody>\n",
       "    <tr>\n",
       "      <th>0</th>\n",
       "      <td>Background seq2 chr1</td>\n",
       "      <td>244100624</td>\n",
       "      <td>244100893</td>\n",
       "      <td>Background seq2 chr1:244100624-244100893:+|Pos...</td>\n",
       "      <td>Background seq2 chr1</td>\n",
       "      <td>244100624</td>\n",
       "      <td>244100893</td>\n",
       "      <td>Background seq2 chr1:244100624-244100893</td>\n",
       "      <td>enh.0</td>\n",
       "      <td>0</td>\n",
       "    </tr>\n",
       "    <tr>\n",
       "      <th>1</th>\n",
       "      <td>Background seq2 chr1</td>\n",
       "      <td>244100624</td>\n",
       "      <td>244100893</td>\n",
       "      <td>Background seq2 chr1:244100624-244100893:+|Pos...</td>\n",
       "      <td>Background seq2 chr1</td>\n",
       "      <td>244100624</td>\n",
       "      <td>244100893</td>\n",
       "      <td>Background seq2 chr1:244100624-244100893</td>\n",
       "      <td>enh.0</td>\n",
       "      <td>1</td>\n",
       "    </tr>\n",
       "    <tr>\n",
       "      <th>2</th>\n",
       "      <td>Background seq2 chr1</td>\n",
       "      <td>244100624</td>\n",
       "      <td>244100893</td>\n",
       "      <td>Background seq2 chr1:244100624-244100893:+|Pos...</td>\n",
       "      <td>Background seq2 chr1</td>\n",
       "      <td>244100624</td>\n",
       "      <td>244100893</td>\n",
       "      <td>Background seq2 chr1:244100624-244100893</td>\n",
       "      <td>enh.0</td>\n",
       "      <td>2</td>\n",
       "    </tr>\n",
       "    <tr>\n",
       "      <th>3</th>\n",
       "      <td>Background seq2 chr1</td>\n",
       "      <td>244100624</td>\n",
       "      <td>244100893</td>\n",
       "      <td>Background seq2 chr1:244100624-244100893:+|Pos...</td>\n",
       "      <td>Background seq2 chr1</td>\n",
       "      <td>244100624</td>\n",
       "      <td>244100893</td>\n",
       "      <td>Background seq2 chr1:244100624-244100893</td>\n",
       "      <td>enh.0</td>\n",
       "      <td>3</td>\n",
       "    </tr>\n",
       "    <tr>\n",
       "      <th>4</th>\n",
       "      <td>Background seq2 chr1</td>\n",
       "      <td>244100624</td>\n",
       "      <td>244100893</td>\n",
       "      <td>Background seq2 chr1:244100624-244100893:+|Pos...</td>\n",
       "      <td>Background seq2 chr1</td>\n",
       "      <td>244100624</td>\n",
       "      <td>244100893</td>\n",
       "      <td>Background seq2 chr1:244100624-244100893</td>\n",
       "      <td>enh.0</td>\n",
       "      <td>4</td>\n",
       "    </tr>\n",
       "  </tbody>\n",
       "</table>\n",
       "</div>"
      ],
      "text/plain": [
       "                   #chr  start.tile   end.tile  \\\n",
       "0  Background seq2 chr1   244100624  244100893   \n",
       "1  Background seq2 chr1   244100624  244100893   \n",
       "2  Background seq2 chr1   244100624  244100893   \n",
       "3  Background seq2 chr1   244100624  244100893   \n",
       "4  Background seq2 chr1   244100624  244100893   \n",
       "\n",
       "                                                coor              #chr.enh  \\\n",
       "0  Background seq2 chr1:244100624-244100893:+|Pos...  Background seq2 chr1   \n",
       "1  Background seq2 chr1:244100624-244100893:+|Pos...  Background seq2 chr1   \n",
       "2  Background seq2 chr1:244100624-244100893:+|Pos...  Background seq2 chr1   \n",
       "3  Background seq2 chr1:244100624-244100893:+|Pos...  Background seq2 chr1   \n",
       "4  Background seq2 chr1:244100624-244100893:+|Pos...  Background seq2 chr1   \n",
       "\n",
       "   start.enh    end.enh                                    enh.id enh.name  \\\n",
       "0  244100624  244100893  Background seq2 chr1:244100624-244100893    enh.0   \n",
       "1  244100624  244100893  Background seq2 chr1:244100624-244100893    enh.0   \n",
       "2  244100624  244100893  Background seq2 chr1:244100624-244100893    enh.0   \n",
       "3  244100624  244100893  Background seq2 chr1:244100624-244100893    enh.0   \n",
       "4  244100624  244100893  Background seq2 chr1:244100624-244100893    enh.0   \n",
       "\n",
       "  tile.order  \n",
       "0          0  \n",
       "1          1  \n",
       "2          2  \n",
       "3          3  \n",
       "4          4  "
      ]
     },
     "execution_count": 14,
     "metadata": {},
     "output_type": "execute_result"
    }
   ],
   "source": [
    "if \"#chr\" not in list(pd.read_csv(ENH_BED, sep='\\t', nrows=1)):\n",
    "    \n",
    "    merge = pd.read_csv(ENH_BED, sep='\\t', header=None)\n",
    "    merge.columns=[\"#chr\", \"start.tile\", \"end.tile\", \"coor\", \"#chr.enh\", \"start.enh\", \"end.enh\"]\n",
    "    \n",
    "    # enhancer only dataframe\n",
    "    enh = merge[[ \"#chr.enh\", \"start.enh\", \"end.enh\"]].drop_duplicates().copy().reset_index()\n",
    "    \n",
    "    # make enhancer coordinate id\n",
    "    enh['enh.id'] = enh['#chr.enh'] + \":\" + enh[\"start.enh\"].map(str) + \"-\" + enh[\"end.enh\"].map(str)\n",
    "    \n",
    "    # make enhancer name id\n",
    "    enh['enh.name'] = \"enh.\" + enh.index.map(str)\n",
    "    \n",
    "    # drop the index colunm\n",
    "    enh = enh.drop(columns = [\"index\"])\n",
    "    \n",
    "    # add enhancer info back to tile info\n",
    "    merge = pd.merge( merge, enh, how=\"left\")\n",
    "    \n",
    "    # add tile order\n",
    "    merge = assignTileOrder(merge)\n",
    "    \n",
    "    # save\n",
    "    merge.to_csv(ENH_BED, sep='\\t', index=False)\n",
    "else:\n",
    "     merge = pd.read_csv(ENH_BED, sep='\\t')\n",
    "\n",
    "merge.head()"
   ]
  },
  {
   "cell_type": "code",
   "execution_count": 15,
   "metadata": {},
   "outputs": [
    {
     "data": {
      "text/plain": [
       "1827"
      ]
     },
     "execution_count": 15,
     "metadata": {},
     "output_type": "execute_result"
    }
   ],
   "source": [
    "len(set(merge[\"enh.id\"]))"
   ]
  }
 ],
 "metadata": {
  "kernelspec": {
   "display_name": "Python 3",
   "language": "python",
   "name": "python3"
  },
  "language_info": {
   "codemirror_mode": {
    "name": "ipython",
    "version": 3
   },
   "file_extension": ".py",
   "mimetype": "text/x-python",
   "name": "python",
   "nbconvert_exporter": "python",
   "pygments_lexer": "ipython3",
   "version": "3.6.10"
  },
  "toc": {
   "base_numbering": 1,
   "nav_menu": {},
   "number_sections": true,
   "sideBar": true,
   "skip_h1_title": false,
   "title_cell": "Table of Contents",
   "title_sidebar": "Contents",
   "toc_cell": false,
   "toc_position": {},
   "toc_section_display": true,
   "toc_window_display": false
  }
 },
 "nbformat": 4,
 "nbformat_minor": 2
}
