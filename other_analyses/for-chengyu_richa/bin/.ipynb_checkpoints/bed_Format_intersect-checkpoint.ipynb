{
 "cells": [
  {
   "cell_type": "markdown",
   "id": "943d1016",
   "metadata": {},
   "source": [
    "format the enhancer + gene coordinate files for richa.\n",
    "\n",
    "\n",
    "These files are from chengyu's library design xls file \n",
    "    \n",
    "    /wynton/group/ahituv//wynton/group/ahituv/biomarin/library_1/Design/20210205_selected_regions.xlsx"
   ]
  },
  {
   "cell_type": "code",
   "execution_count": 2,
   "id": "740d8a43",
   "metadata": {
    "ExecuteTime": {
     "end_time": "2023-08-15T19:57:52.853483Z",
     "start_time": "2023-08-15T19:57:05.651339Z"
    }
   },
   "outputs": [],
   "source": [
    "import os, sys\n",
    "\n",
    "sys.path.append(os.getcwd()) # append current working directory\n",
    "\n",
    "import config_readwrite as crw  # custom script for reading config\n",
    "import pandas as pd\n",
    "import pybedtools as pbt"
   ]
  },
  {
   "cell_type": "markdown",
   "id": "603879fd",
   "metadata": {},
   "source": [
    "# config"
   ]
  },
  {
   "cell_type": "code",
   "execution_count": 3,
   "id": "3a5f2c87",
   "metadata": {
    "ExecuteTime": {
     "end_time": "2023-08-15T19:58:24.014774Z",
     "start_time": "2023-08-15T19:58:23.975015Z"
    }
   },
   "outputs": [],
   "source": [
    "config, cfn = crw.read(os.path.join(os.getcwd(), \"config.neuron.mpra.ini\"))\n",
    "\n",
    "section = \"design\"\n",
    "TILES =config[section][\"tiles\"]  # read the tiles\n",
    "TILES_BED =config[section][\"tiles_bed\"]  # write the tiles\n",
    "\n",
    "REGIONS = config[section][\"regions\"]  # read the regions\n",
    "REGIONS_BED =config[section][\"regions_bed\"]  # write the regions\n",
    "\n",
    "FULL_BED = config[section][\"full_bed\"]  # write the labels"
   ]
  },
  {
   "cell_type": "markdown",
   "id": "d9e8d88f",
   "metadata": {},
   "source": [
    "# tiles "
   ]
  },
  {
   "cell_type": "code",
   "execution_count": 5,
   "id": "dac74397",
   "metadata": {
    "ExecuteTime": {
     "end_time": "2023-08-15T19:58:32.122553Z",
     "start_time": "2023-08-15T19:58:31.827520Z"
    }
   },
   "outputs": [
    {
     "data": {
      "text/html": [
       "<div>\n",
       "<style scoped>\n",
       "    .dataframe tbody tr th:only-of-type {\n",
       "        vertical-align: middle;\n",
       "    }\n",
       "\n",
       "    .dataframe tbody tr th {\n",
       "        vertical-align: top;\n",
       "    }\n",
       "\n",
       "    .dataframe thead th {\n",
       "        text-align: right;\n",
       "    }\n",
       "</style>\n",
       "<table border=\"1\" class=\"dataframe\">\n",
       "  <thead>\n",
       "    <tr style=\"text-align: right;\">\n",
       "      <th></th>\n",
       "      <th>name</th>\n",
       "      <th>group</th>\n",
       "    </tr>\n",
       "  </thead>\n",
       "  <tbody>\n",
       "    <tr>\n",
       "      <th>0</th>\n",
       "      <td>chr3:35642077-35642346:+</td>\n",
       "      <td>Excitatory</td>\n",
       "    </tr>\n",
       "    <tr>\n",
       "      <th>1</th>\n",
       "      <td>chr3:35642077-35642346:-</td>\n",
       "      <td>Excitatory</td>\n",
       "    </tr>\n",
       "    <tr>\n",
       "      <th>2</th>\n",
       "      <td>chr3:35648147-35648416:+</td>\n",
       "      <td>Excitatory</td>\n",
       "    </tr>\n",
       "    <tr>\n",
       "      <th>3</th>\n",
       "      <td>chr3:35648162-35648431:+</td>\n",
       "      <td>Excitatory</td>\n",
       "    </tr>\n",
       "    <tr>\n",
       "      <th>4</th>\n",
       "      <td>chr3:35648177-35648446:+</td>\n",
       "      <td>Excitatory</td>\n",
       "    </tr>\n",
       "  </tbody>\n",
       "</table>\n",
       "</div>"
      ],
      "text/plain": [
       "                       name       group\n",
       "0  chr3:35642077-35642346:+  Excitatory\n",
       "1  chr3:35642077-35642346:-  Excitatory\n",
       "2  chr3:35648147-35648416:+  Excitatory\n",
       "3  chr3:35648162-35648431:+  Excitatory\n",
       "4  chr3:35648177-35648446:+  Excitatory"
      ]
     },
     "execution_count": 5,
     "metadata": {},
     "output_type": "execute_result"
    }
   ],
   "source": [
    "df = pd.read_csv(TILES, sep='\\t', header=None, names=[\"name\", \"group\"])\n",
    "df.head()"
   ]
  },
  {
   "cell_type": "markdown",
   "id": "e270d510",
   "metadata": {},
   "source": [
    "# make tiles into bed"
   ]
  },
  {
   "cell_type": "code",
   "execution_count": 6,
   "id": "1d25a9e4",
   "metadata": {
    "ExecuteTime": {
     "end_time": "2023-08-15T19:58:36.703916Z",
     "start_time": "2023-08-15T19:58:36.599259Z"
    }
   },
   "outputs": [],
   "source": [
    "# bed coordinates from str split\n",
    "df[\"#chr\"] = df[\"name\"].apply(lambda x: x.split(\":\")[0])\n",
    "df[\"start\"] = df[\"name\"].apply(lambda x: (x.split(\":\")[1]).split(\"-\")[0] if ':' in x else x)\n",
    "df[\"end\"] = df[\"name\"].apply(lambda x: (x.split(\":\")[1]).split(\"-\")[1] if ':' in x else x)\n",
    "\n",
    "# strand from str.contains function\n",
    "df[\"strand\"] = None\n",
    "df.loc[df[\"name\"].str.contains(\":+\"), \"strand\"] = \"+\"\n",
    "df.loc[df[\"name\"].str.contains(\":-\"), \"strand\"] = \"-\""
   ]
  },
  {
   "cell_type": "markdown",
   "id": "9f2bb6dc",
   "metadata": {},
   "source": [
    "## formatting\n",
    "- sort coordinates\n",
    "- remove synthetic sequences\n",
    "- remove shuffled sequences"
   ]
  },
  {
   "cell_type": "code",
   "execution_count": 7,
   "id": "531c01c6",
   "metadata": {
    "ExecuteTime": {
     "end_time": "2023-08-15T19:59:03.952064Z",
     "start_time": "2023-08-15T19:59:03.711277Z"
    }
   },
   "outputs": [
    {
     "name": "stdout",
     "output_type": "stream",
     "text": [
      "(5220, 6)\n",
      "(4820, 6)\n",
      "(4620, 6)\n"
     ]
    }
   ],
   "source": [
    "# rearrange as bed, sort\n",
    "df = df[['#chr', 'start', 'end', 'name','strand', 'group']].sort_values(by=['#chr', 'start', 'end'])\n",
    "\n",
    "# remove any of the synthetic sequences that do not have genome coordinates\n",
    "print(df.shape)\n",
    "df = df.loc[df[\"#chr\"].str.contains(\"chr\")]\n",
    "print(df.shape)\n",
    "\n",
    "# remove any shuffled sequences\n",
    "df = df.loc[~df[\"#chr\"].str.contains(\"shuf\")]\n",
    "print(df.shape)\n",
    "\n",
    "df.to_csv(TILES_BED, sep='\\t', index=False)"
   ]
  },
  {
   "cell_type": "code",
   "execution_count": 8,
   "id": "01c5d12e",
   "metadata": {
    "ExecuteTime": {
     "end_time": "2023-08-15T19:59:15.431948Z",
     "start_time": "2023-08-15T19:59:15.411048Z"
    }
   },
   "outputs": [
    {
     "name": "stdout",
     "output_type": "stream",
     "text": [
      "(4620, 6)\n"
     ]
    },
    {
     "data": {
      "text/html": [
       "<div>\n",
       "<style scoped>\n",
       "    .dataframe tbody tr th:only-of-type {\n",
       "        vertical-align: middle;\n",
       "    }\n",
       "\n",
       "    .dataframe tbody tr th {\n",
       "        vertical-align: top;\n",
       "    }\n",
       "\n",
       "    .dataframe thead th {\n",
       "        text-align: right;\n",
       "    }\n",
       "</style>\n",
       "<table border=\"1\" class=\"dataframe\">\n",
       "  <thead>\n",
       "    <tr style=\"text-align: right;\">\n",
       "      <th></th>\n",
       "      <th>#chr</th>\n",
       "      <th>start</th>\n",
       "      <th>end</th>\n",
       "      <th>name</th>\n",
       "      <th>strand</th>\n",
       "      <th>group</th>\n",
       "    </tr>\n",
       "  </thead>\n",
       "  <tbody>\n",
       "    <tr>\n",
       "      <th>4508</th>\n",
       "      <td>chr1</td>\n",
       "      <td>107545094</td>\n",
       "      <td>107545363</td>\n",
       "      <td>chr1:107545094-107545363:+</td>\n",
       "      <td>+</td>\n",
       "      <td>Positive_control:Boaz</td>\n",
       "    </tr>\n",
       "    <tr>\n",
       "      <th>4520</th>\n",
       "      <td>chr1</td>\n",
       "      <td>107545094</td>\n",
       "      <td>107545363</td>\n",
       "      <td>chr1:107545094-107545363:-</td>\n",
       "      <td>-</td>\n",
       "      <td>Positive_control:Boaz</td>\n",
       "    </tr>\n",
       "    <tr>\n",
       "      <th>4509</th>\n",
       "      <td>chr1</td>\n",
       "      <td>107545109</td>\n",
       "      <td>107545378</td>\n",
       "      <td>chr1:107545109-107545378:+</td>\n",
       "      <td>+</td>\n",
       "      <td>Positive_control:Boaz</td>\n",
       "    </tr>\n",
       "    <tr>\n",
       "      <th>4521</th>\n",
       "      <td>chr1</td>\n",
       "      <td>107545109</td>\n",
       "      <td>107545378</td>\n",
       "      <td>chr1:107545109-107545378:-</td>\n",
       "      <td>-</td>\n",
       "      <td>Positive_control:Boaz</td>\n",
       "    </tr>\n",
       "    <tr>\n",
       "      <th>4510</th>\n",
       "      <td>chr1</td>\n",
       "      <td>107545124</td>\n",
       "      <td>107545393</td>\n",
       "      <td>chr1:107545124-107545393:+</td>\n",
       "      <td>+</td>\n",
       "      <td>Positive_control:Boaz</td>\n",
       "    </tr>\n",
       "  </tbody>\n",
       "</table>\n",
       "</div>"
      ],
      "text/plain": [
       "      #chr      start        end                        name strand  \\\n",
       "4508  chr1  107545094  107545363  chr1:107545094-107545363:+      +   \n",
       "4520  chr1  107545094  107545363  chr1:107545094-107545363:-      -   \n",
       "4509  chr1  107545109  107545378  chr1:107545109-107545378:+      +   \n",
       "4521  chr1  107545109  107545378  chr1:107545109-107545378:-      -   \n",
       "4510  chr1  107545124  107545393  chr1:107545124-107545393:+      +   \n",
       "\n",
       "                      group  \n",
       "4508  Positive_control:Boaz  \n",
       "4520  Positive_control:Boaz  \n",
       "4509  Positive_control:Boaz  \n",
       "4521  Positive_control:Boaz  \n",
       "4510  Positive_control:Boaz  "
      ]
     },
     "execution_count": 8,
     "metadata": {},
     "output_type": "execute_result"
    }
   ],
   "source": [
    "print(df.shape)\n",
    "df.head()"
   ]
  },
  {
   "cell_type": "markdown",
   "id": "17fb10d2",
   "metadata": {},
   "source": [
    "# enhancer, gene information "
   ]
  },
  {
   "cell_type": "code",
   "execution_count": 34,
   "id": "0642099d",
   "metadata": {
    "ExecuteTime": {
     "end_time": "2023-08-15T20:14:31.602489Z",
     "start_time": "2023-08-15T20:14:31.574155Z"
    }
   },
   "outputs": [],
   "source": [
    "name_cols = [\"#chr\", \"enh_start\", \"enh_end\", \n",
    "             \"gene\", \"group\", \"gene_start\", \"gene_end\", \n",
    "            \"strand\", \"dist\", \"enh_len\", \"comment\"]\n",
    "\n",
    "#read file\n",
    "regions = pd.read_csv(REGIONS,\n",
    "                      names=name_cols,\n",
    "                      skiprows=1\n",
    "                     )"
   ]
  },
  {
   "cell_type": "markdown",
   "id": "17ac9623",
   "metadata": {},
   "source": [
    "## SPECIAL CASE - DLX 1 and DLX2 enhancers are the same coordinates. \n",
    "- rename DLX1 + DLX2 gene name as DLX1/DLX2"
   ]
  },
  {
   "cell_type": "code",
   "execution_count": 36,
   "id": "4daefc78",
   "metadata": {
    "ExecuteTime": {
     "end_time": "2023-08-15T20:14:45.524621Z",
     "start_time": "2023-08-15T20:14:45.505323Z"
    }
   },
   "outputs": [],
   "source": [
    "###\n",
    "regions.loc[regions[\"gene\"].str.contains(\"DLX\"), \"gene\"]=\"DLX1/DLX2\"\n",
    "\n",
    "# sort by coordinate\n",
    "regions.sort_values(by=['#chr', 'enh_start', 'enh_end'])\n",
    "\n",
    "# remove any of the synthetic sequences that do not have genome coordinates\n",
    "# regions = regions.loc[regions[\"#chr\"].str.contains(\"chr\")]\n",
    "\n",
    "# keep only enhancer coord + gene name for enh.id naming\n",
    "keep_cols = [\"#chr\", \"enh_start\", \"enh_end\", \n",
    "             \"gene\", \n",
    "             #\"gene_start\", \"gene_end\",\n",
    "            # \"enh_id\"\n",
    "            ]\n",
    "\n",
    "# keep only uniq enh + gene pairs\n",
    "regions = regions[keep_cols].drop_duplicates()\n",
    "\n",
    "# add enhancer id column\n",
    "regions[\"enh_id\"] = \"enh.\" + regions.index.map(str) + \".\" + regions[\"gene\"] "
   ]
  },
  {
   "cell_type": "code",
   "execution_count": 37,
   "id": "013c6fed",
   "metadata": {
    "ExecuteTime": {
     "end_time": "2023-08-15T20:14:46.822446Z",
     "start_time": "2023-08-15T20:14:46.813855Z"
    }
   },
   "outputs": [
    {
     "data": {
      "text/plain": [
       "(119, 5)"
      ]
     },
     "execution_count": 37,
     "metadata": {},
     "output_type": "execute_result"
    }
   ],
   "source": [
    "regions.drop_duplicates().shape"
   ]
  },
  {
   "cell_type": "code",
   "execution_count": 38,
   "id": "4654db69",
   "metadata": {
    "ExecuteTime": {
     "end_time": "2023-08-15T20:14:55.747082Z",
     "start_time": "2023-08-15T20:14:55.736770Z"
    }
   },
   "outputs": [],
   "source": [
    "# save sorted file\n",
    "regions.drop_duplicates().to_csv(REGIONS_BED, sep='\\t', index=False)"
   ]
  },
  {
   "cell_type": "markdown",
   "id": "5f9d305c",
   "metadata": {
    "ExecuteTime": {
     "end_time": "2023-07-24T21:00:37.418277Z",
     "start_time": "2023-07-24T21:00:37.414310Z"
    }
   },
   "source": [
    "## there are 125 enhancer regions"
   ]
  },
  {
   "cell_type": "markdown",
   "id": "69a81be7",
   "metadata": {},
   "source": [
    "# BEDTOOLS intersect tiles x enh, gene"
   ]
  },
  {
   "cell_type": "code",
   "execution_count": 40,
   "id": "57afc4ba",
   "metadata": {
    "ExecuteTime": {
     "end_time": "2023-08-15T20:15:05.922243Z",
     "start_time": "2023-08-15T20:15:04.623199Z"
    }
   },
   "outputs": [],
   "source": [
    "tiles = pbt.BedTool(TILES_BED)  #tiles as pybedtool object\n",
    "region = pbt.BedTool(REGIONS_BED)  # enhancers, gene coordinates as pybedtool object\n",
    "\n",
    "# intersect tiles x regions, write information from both files\n",
    "intersection = tiles.intersect(region, wa=True, wb=True, output=FULL_BED)"
   ]
  },
  {
   "cell_type": "markdown",
   "id": "6de8e7ff",
   "metadata": {},
   "source": [
    "# review tiles x enh, gene bed"
   ]
  },
  {
   "cell_type": "code",
   "execution_count": 43,
   "id": "2d76b01b",
   "metadata": {
    "ExecuteTime": {
     "end_time": "2023-08-15T20:15:46.558473Z",
     "start_time": "2023-08-15T20:15:46.498216Z"
    }
   },
   "outputs": [
    {
     "data": {
      "text/html": [
       "<div>\n",
       "<style scoped>\n",
       "    .dataframe tbody tr th:only-of-type {\n",
       "        vertical-align: middle;\n",
       "    }\n",
       "\n",
       "    .dataframe tbody tr th {\n",
       "        vertical-align: top;\n",
       "    }\n",
       "\n",
       "    .dataframe thead th {\n",
       "        text-align: right;\n",
       "    }\n",
       "</style>\n",
       "<table border=\"1\" class=\"dataframe\">\n",
       "  <thead>\n",
       "    <tr style=\"text-align: right;\">\n",
       "      <th></th>\n",
       "      <th>#chr</th>\n",
       "      <th>tile_start</th>\n",
       "      <th>tile_end</th>\n",
       "      <th>name</th>\n",
       "      <th>strand</th>\n",
       "      <th>group</th>\n",
       "      <th>enh_chr</th>\n",
       "      <th>enh_start</th>\n",
       "      <th>enh_end</th>\n",
       "      <th>gene</th>\n",
       "      <th>enh_id</th>\n",
       "    </tr>\n",
       "  </thead>\n",
       "  <tbody>\n",
       "    <tr>\n",
       "      <th>0</th>\n",
       "      <td>chr1</td>\n",
       "      <td>243557633</td>\n",
       "      <td>243557902</td>\n",
       "      <td>chr1:243557633-243557902:+</td>\n",
       "      <td>+</td>\n",
       "      <td>Excitatory</td>\n",
       "      <td>chr1</td>\n",
       "      <td>243557633</td>\n",
       "      <td>243558105</td>\n",
       "      <td>ZBTB18</td>\n",
       "      <td>enh.71.ZBTB18</td>\n",
       "    </tr>\n",
       "    <tr>\n",
       "      <th>1</th>\n",
       "      <td>chr1</td>\n",
       "      <td>243557633</td>\n",
       "      <td>243557902</td>\n",
       "      <td>chr1:243557633-243557902:-</td>\n",
       "      <td>-</td>\n",
       "      <td>Excitatory</td>\n",
       "      <td>chr1</td>\n",
       "      <td>243557633</td>\n",
       "      <td>243558105</td>\n",
       "      <td>ZBTB18</td>\n",
       "      <td>enh.71.ZBTB18</td>\n",
       "    </tr>\n",
       "    <tr>\n",
       "      <th>2</th>\n",
       "      <td>chr1</td>\n",
       "      <td>243557648</td>\n",
       "      <td>243557917</td>\n",
       "      <td>chr1:243557648-243557917:+</td>\n",
       "      <td>+</td>\n",
       "      <td>Excitatory</td>\n",
       "      <td>chr1</td>\n",
       "      <td>243557633</td>\n",
       "      <td>243558105</td>\n",
       "      <td>ZBTB18</td>\n",
       "      <td>enh.71.ZBTB18</td>\n",
       "    </tr>\n",
       "    <tr>\n",
       "      <th>3</th>\n",
       "      <td>chr1</td>\n",
       "      <td>243557648</td>\n",
       "      <td>243557917</td>\n",
       "      <td>chr1:243557648-243557917:-</td>\n",
       "      <td>-</td>\n",
       "      <td>Excitatory</td>\n",
       "      <td>chr1</td>\n",
       "      <td>243557633</td>\n",
       "      <td>243558105</td>\n",
       "      <td>ZBTB18</td>\n",
       "      <td>enh.71.ZBTB18</td>\n",
       "    </tr>\n",
       "    <tr>\n",
       "      <th>4</th>\n",
       "      <td>chr1</td>\n",
       "      <td>243557663</td>\n",
       "      <td>243557932</td>\n",
       "      <td>chr1:243557663-243557932:+</td>\n",
       "      <td>+</td>\n",
       "      <td>Excitatory</td>\n",
       "      <td>chr1</td>\n",
       "      <td>243557633</td>\n",
       "      <td>243558105</td>\n",
       "      <td>ZBTB18</td>\n",
       "      <td>enh.71.ZBTB18</td>\n",
       "    </tr>\n",
       "  </tbody>\n",
       "</table>\n",
       "</div>"
      ],
      "text/plain": [
       "   #chr  tile_start   tile_end                        name strand       group  \\\n",
       "0  chr1   243557633  243557902  chr1:243557633-243557902:+      +  Excitatory   \n",
       "1  chr1   243557633  243557902  chr1:243557633-243557902:-      -  Excitatory   \n",
       "2  chr1   243557648  243557917  chr1:243557648-243557917:+      +  Excitatory   \n",
       "3  chr1   243557648  243557917  chr1:243557648-243557917:-      -  Excitatory   \n",
       "4  chr1   243557663  243557932  chr1:243557663-243557932:+      +  Excitatory   \n",
       "\n",
       "  enh_chr  enh_start    enh_end    gene         enh_id  \n",
       "0    chr1  243557633  243558105  ZBTB18  enh.71.ZBTB18  \n",
       "1    chr1  243557633  243558105  ZBTB18  enh.71.ZBTB18  \n",
       "2    chr1  243557633  243558105  ZBTB18  enh.71.ZBTB18  \n",
       "3    chr1  243557633  243558105  ZBTB18  enh.71.ZBTB18  \n",
       "4    chr1  243557633  243558105  ZBTB18  enh.71.ZBTB18  "
      ]
     },
     "execution_count": 43,
     "metadata": {},
     "output_type": "execute_result"
    }
   ],
   "source": [
    "# column names for intersection\n",
    "cols = [\"#chr\", \"tile_start\", \"tile_end\", \n",
    "        \"name\", \"strand\", \"group\",\n",
    "        \"enh_chr\", \"enh_start\", \"enh_end\",\n",
    "        \"gene\", \n",
    "        \"enh_id\",\n",
    "       ]\n",
    "\n",
    "# read the \n",
    "full = pd.read_csv(FULL_BED, sep='\\t', header=None, names=cols)\n",
    "\n",
    "full.head()"
   ]
  },
  {
   "cell_type": "code",
   "execution_count": 46,
   "id": "cb2e7d45",
   "metadata": {
    "ExecuteTime": {
     "end_time": "2023-08-15T20:16:34.868231Z",
     "start_time": "2023-08-15T20:16:34.810908Z"
    }
   },
   "outputs": [
    {
     "data": {
      "text/html": [
       "<div>\n",
       "<style scoped>\n",
       "    .dataframe tbody tr th:only-of-type {\n",
       "        vertical-align: middle;\n",
       "    }\n",
       "\n",
       "    .dataframe tbody tr th {\n",
       "        vertical-align: top;\n",
       "    }\n",
       "\n",
       "    .dataframe thead th {\n",
       "        text-align: right;\n",
       "    }\n",
       "</style>\n",
       "<table border=\"1\" class=\"dataframe\">\n",
       "  <thead>\n",
       "    <tr style=\"text-align: right;\">\n",
       "      <th></th>\n",
       "      <th>#chr</th>\n",
       "      <th>tile_start</th>\n",
       "      <th>tile_end</th>\n",
       "      <th>name</th>\n",
       "      <th>strand</th>\n",
       "      <th>group</th>\n",
       "      <th>enh_chr</th>\n",
       "      <th>enh_start</th>\n",
       "      <th>enh_end</th>\n",
       "      <th>gene</th>\n",
       "      <th>enh_id</th>\n",
       "    </tr>\n",
       "  </thead>\n",
       "  <tbody>\n",
       "    <tr>\n",
       "      <th>2094</th>\n",
       "      <td>chr2</td>\n",
       "      <td>171661308</td>\n",
       "      <td>171661577</td>\n",
       "      <td>chr2:171661308-171661577:+</td>\n",
       "      <td>+</td>\n",
       "      <td>Inhibitory</td>\n",
       "      <td>chr2</td>\n",
       "      <td>171661308</td>\n",
       "      <td>171662116</td>\n",
       "      <td>DLX1/DLX2</td>\n",
       "      <td>enh.7.DLX1/DLX2</td>\n",
       "    </tr>\n",
       "    <tr>\n",
       "      <th>2095</th>\n",
       "      <td>chr2</td>\n",
       "      <td>171661308</td>\n",
       "      <td>171661577</td>\n",
       "      <td>chr2:171661308-171661577:-</td>\n",
       "      <td>-</td>\n",
       "      <td>Inhibitory</td>\n",
       "      <td>chr2</td>\n",
       "      <td>171661308</td>\n",
       "      <td>171662116</td>\n",
       "      <td>DLX1/DLX2</td>\n",
       "      <td>enh.7.DLX1/DLX2</td>\n",
       "    </tr>\n",
       "    <tr>\n",
       "      <th>2096</th>\n",
       "      <td>chr2</td>\n",
       "      <td>171661323</td>\n",
       "      <td>171661592</td>\n",
       "      <td>chr2:171661323-171661592:+</td>\n",
       "      <td>+</td>\n",
       "      <td>Inhibitory</td>\n",
       "      <td>chr2</td>\n",
       "      <td>171661308</td>\n",
       "      <td>171662116</td>\n",
       "      <td>DLX1/DLX2</td>\n",
       "      <td>enh.7.DLX1/DLX2</td>\n",
       "    </tr>\n",
       "    <tr>\n",
       "      <th>2097</th>\n",
       "      <td>chr2</td>\n",
       "      <td>171661323</td>\n",
       "      <td>171661592</td>\n",
       "      <td>chr2:171661323-171661592:-</td>\n",
       "      <td>-</td>\n",
       "      <td>Inhibitory</td>\n",
       "      <td>chr2</td>\n",
       "      <td>171661308</td>\n",
       "      <td>171662116</td>\n",
       "      <td>DLX1/DLX2</td>\n",
       "      <td>enh.7.DLX1/DLX2</td>\n",
       "    </tr>\n",
       "    <tr>\n",
       "      <th>2098</th>\n",
       "      <td>chr2</td>\n",
       "      <td>171661338</td>\n",
       "      <td>171661607</td>\n",
       "      <td>chr2:171661338-171661607:+</td>\n",
       "      <td>+</td>\n",
       "      <td>Inhibitory</td>\n",
       "      <td>chr2</td>\n",
       "      <td>171661308</td>\n",
       "      <td>171662116</td>\n",
       "      <td>DLX1/DLX2</td>\n",
       "      <td>enh.7.DLX1/DLX2</td>\n",
       "    </tr>\n",
       "    <tr>\n",
       "      <th>...</th>\n",
       "      <td>...</td>\n",
       "      <td>...</td>\n",
       "      <td>...</td>\n",
       "      <td>...</td>\n",
       "      <td>...</td>\n",
       "      <td>...</td>\n",
       "      <td>...</td>\n",
       "      <td>...</td>\n",
       "      <td>...</td>\n",
       "      <td>...</td>\n",
       "      <td>...</td>\n",
       "    </tr>\n",
       "    <tr>\n",
       "      <th>2507</th>\n",
       "      <td>chr2</td>\n",
       "      <td>172235323</td>\n",
       "      <td>172235592</td>\n",
       "      <td>chr2:172235323-172235592:-</td>\n",
       "      <td>-</td>\n",
       "      <td>Inhibitory</td>\n",
       "      <td>chr2</td>\n",
       "      <td>172233973</td>\n",
       "      <td>172235618</td>\n",
       "      <td>DLX1/DLX2</td>\n",
       "      <td>enh.6.DLX1/DLX2</td>\n",
       "    </tr>\n",
       "    <tr>\n",
       "      <th>2508</th>\n",
       "      <td>chr2</td>\n",
       "      <td>172235338</td>\n",
       "      <td>172235607</td>\n",
       "      <td>chr2:172235338-172235607:+</td>\n",
       "      <td>+</td>\n",
       "      <td>Inhibitory</td>\n",
       "      <td>chr2</td>\n",
       "      <td>172233973</td>\n",
       "      <td>172235618</td>\n",
       "      <td>DLX1/DLX2</td>\n",
       "      <td>enh.6.DLX1/DLX2</td>\n",
       "    </tr>\n",
       "    <tr>\n",
       "      <th>2509</th>\n",
       "      <td>chr2</td>\n",
       "      <td>172235338</td>\n",
       "      <td>172235607</td>\n",
       "      <td>chr2:172235338-172235607:-</td>\n",
       "      <td>-</td>\n",
       "      <td>Inhibitory</td>\n",
       "      <td>chr2</td>\n",
       "      <td>172233973</td>\n",
       "      <td>172235618</td>\n",
       "      <td>DLX1/DLX2</td>\n",
       "      <td>enh.6.DLX1/DLX2</td>\n",
       "    </tr>\n",
       "    <tr>\n",
       "      <th>2510</th>\n",
       "      <td>chr2</td>\n",
       "      <td>172235353</td>\n",
       "      <td>172235622</td>\n",
       "      <td>chr2:172235353-172235622:+</td>\n",
       "      <td>+</td>\n",
       "      <td>Inhibitory</td>\n",
       "      <td>chr2</td>\n",
       "      <td>172233973</td>\n",
       "      <td>172235618</td>\n",
       "      <td>DLX1/DLX2</td>\n",
       "      <td>enh.6.DLX1/DLX2</td>\n",
       "    </tr>\n",
       "    <tr>\n",
       "      <th>2511</th>\n",
       "      <td>chr2</td>\n",
       "      <td>172235353</td>\n",
       "      <td>172235622</td>\n",
       "      <td>chr2:172235353-172235622:-</td>\n",
       "      <td>-</td>\n",
       "      <td>Inhibitory</td>\n",
       "      <td>chr2</td>\n",
       "      <td>172233973</td>\n",
       "      <td>172235618</td>\n",
       "      <td>DLX1/DLX2</td>\n",
       "      <td>enh.6.DLX1/DLX2</td>\n",
       "    </tr>\n",
       "  </tbody>\n",
       "</table>\n",
       "<p>418 rows × 11 columns</p>\n",
       "</div>"
      ],
      "text/plain": [
       "      #chr  tile_start   tile_end                        name strand  \\\n",
       "2094  chr2   171661308  171661577  chr2:171661308-171661577:+      +   \n",
       "2095  chr2   171661308  171661577  chr2:171661308-171661577:-      -   \n",
       "2096  chr2   171661323  171661592  chr2:171661323-171661592:+      +   \n",
       "2097  chr2   171661323  171661592  chr2:171661323-171661592:-      -   \n",
       "2098  chr2   171661338  171661607  chr2:171661338-171661607:+      +   \n",
       "...    ...         ...        ...                         ...    ...   \n",
       "2507  chr2   172235323  172235592  chr2:172235323-172235592:-      -   \n",
       "2508  chr2   172235338  172235607  chr2:172235338-172235607:+      +   \n",
       "2509  chr2   172235338  172235607  chr2:172235338-172235607:-      -   \n",
       "2510  chr2   172235353  172235622  chr2:172235353-172235622:+      +   \n",
       "2511  chr2   172235353  172235622  chr2:172235353-172235622:-      -   \n",
       "\n",
       "           group enh_chr  enh_start    enh_end       gene           enh_id  \n",
       "2094  Inhibitory    chr2  171661308  171662116  DLX1/DLX2  enh.7.DLX1/DLX2  \n",
       "2095  Inhibitory    chr2  171661308  171662116  DLX1/DLX2  enh.7.DLX1/DLX2  \n",
       "2096  Inhibitory    chr2  171661308  171662116  DLX1/DLX2  enh.7.DLX1/DLX2  \n",
       "2097  Inhibitory    chr2  171661308  171662116  DLX1/DLX2  enh.7.DLX1/DLX2  \n",
       "2098  Inhibitory    chr2  171661308  171662116  DLX1/DLX2  enh.7.DLX1/DLX2  \n",
       "...          ...     ...        ...        ...        ...              ...  \n",
       "2507  Inhibitory    chr2  172233973  172235618  DLX1/DLX2  enh.6.DLX1/DLX2  \n",
       "2508  Inhibitory    chr2  172233973  172235618  DLX1/DLX2  enh.6.DLX1/DLX2  \n",
       "2509  Inhibitory    chr2  172233973  172235618  DLX1/DLX2  enh.6.DLX1/DLX2  \n",
       "2510  Inhibitory    chr2  172233973  172235618  DLX1/DLX2  enh.6.DLX1/DLX2  \n",
       "2511  Inhibitory    chr2  172233973  172235618  DLX1/DLX2  enh.6.DLX1/DLX2  \n",
       "\n",
       "[418 rows x 11 columns]"
      ]
     },
     "execution_count": 46,
     "metadata": {},
     "output_type": "execute_result"
    }
   ],
   "source": [
    "full.loc[full['gene'].str.contains('DLX')].sort_values(by=[\"#chr\", \"tile_start\", \"tile_end\", \"strand\"])"
   ]
  },
  {
   "cell_type": "code",
   "execution_count": 49,
   "id": "acb23488",
   "metadata": {
    "ExecuteTime": {
     "end_time": "2023-08-15T20:16:57.862031Z",
     "start_time": "2023-08-15T20:16:57.851764Z"
    }
   },
   "outputs": [
    {
     "data": {
      "text/plain": [
       "{'enh.2.DLX1/DLX2',\n",
       " 'enh.3.DLX1/DLX2',\n",
       " 'enh.4.DLX1/DLX2',\n",
       " 'enh.5.DLX1/DLX2',\n",
       " 'enh.6.DLX1/DLX2',\n",
       " 'enh.7.DLX1/DLX2'}"
      ]
     },
     "execution_count": 49,
     "metadata": {},
     "output_type": "execute_result"
    }
   ],
   "source": [
    "set(full.loc[full['gene'].str.contains('DLX'), \"enh_id\"])"
   ]
  },
  {
   "cell_type": "code",
   "execution_count": null,
   "id": "cd043476",
   "metadata": {},
   "outputs": [],
   "source": []
  }
 ],
 "metadata": {
  "kernelspec": {
   "display_name": "Python (mamba)",
   "language": "python",
   "name": "mamba"
  },
  "language_info": {
   "codemirror_mode": {
    "name": "ipython",
    "version": 3
   },
   "file_extension": ".py",
   "mimetype": "text/x-python",
   "name": "python",
   "nbconvert_exporter": "python",
   "pygments_lexer": "ipython3",
   "version": "3.9.16"
  },
  "toc": {
   "base_numbering": 1,
   "nav_menu": {},
   "number_sections": true,
   "sideBar": true,
   "skip_h1_title": false,
   "title_cell": "Table of Contents",
   "title_sidebar": "Contents",
   "toc_cell": false,
   "toc_position": {},
   "toc_section_display": true,
   "toc_window_display": false
  },
  "varInspector": {
   "cols": {
    "lenName": 16,
    "lenType": 16,
    "lenVar": 40
   },
   "kernels_config": {
    "python": {
     "delete_cmd_postfix": "",
     "delete_cmd_prefix": "del ",
     "library": "var_list.py",
     "varRefreshCmd": "print(var_dic_list())"
    },
    "r": {
     "delete_cmd_postfix": ") ",
     "delete_cmd_prefix": "rm(",
     "library": "var_list.r",
     "varRefreshCmd": "cat(var_dic_list()) "
    }
   },
   "types_to_exclude": [
    "module",
    "function",
    "builtin_function_or_method",
    "instance",
    "_Feature"
   ],
   "window_display": false
  }
 },
 "nbformat": 4,
 "nbformat_minor": 5
}
