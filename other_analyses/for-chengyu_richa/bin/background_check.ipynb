{
 "cells": [
  {
   "cell_type": "code",
   "execution_count": 1,
   "id": "10c98890",
   "metadata": {
    "ExecuteTime": {
     "end_time": "2023-07-25T18:03:02.370230Z",
     "start_time": "2023-07-25T18:03:02.364247Z"
    }
   },
   "outputs": [],
   "source": [
    "import glob\n",
    "import os, sys\n",
    "import config_readwrite as crw\n",
    "import matplotlib.pyplot as plt\n",
    "import numpy as np\n",
    "import pandas as pd\n",
    "from scipy import stats\n",
    "import seaborn as sns"
   ]
  },
  {
   "cell_type": "markdown",
   "id": "c1664dc3",
   "metadata": {},
   "source": [
    "# config"
   ]
  },
  {
   "cell_type": "code",
   "execution_count": 2,
   "id": "7c0b4d9f",
   "metadata": {
    "ExecuteTime": {
     "end_time": "2023-07-25T18:03:03.321075Z",
     "start_time": "2023-07-25T18:03:02.379038Z"
    }
   },
   "outputs": [],
   "source": [
    "config, cfn = crw.read(os.path.join(os.getcwd(), \"config.neuron.mpra.ini\"))\n",
    "\n",
    "section='lib1'\n",
    "GABAS = glob.glob(config[section][\"gaba\"])\n",
    "GLUTS = glob.glob(config[section][\"glut\"])"
   ]
  },
  {
   "cell_type": "markdown",
   "id": "66eac5b7",
   "metadata": {},
   "source": [
    "# functions"
   ]
  },
  {
   "cell_type": "markdown",
   "id": "41bc0152",
   "metadata": {},
   "source": [
    "## open df"
   ]
  },
  {
   "cell_type": "code",
   "execution_count": 3,
   "id": "07b4916a",
   "metadata": {
    "ExecuteTime": {
     "end_time": "2023-07-25T18:03:03.508693Z",
     "start_time": "2023-07-25T18:03:03.323407Z"
    }
   },
   "outputs": [],
   "source": [
    "def listToDf(file_list, section):\n",
    "    \"\"\"\n",
    "    return concatenated dataframe of files from file_list\n",
    "\n",
    "    input \n",
    "        file_list (list) - list of file names as strings\n",
    "        section (str) - variable should equal the string \"lib2\" or \"lib1\"\n",
    "\n",
    "    method\n",
    "        1. dictionary to collect dataframes\n",
    "        2. iterate through files\n",
    "        3. sample id str operations\n",
    "        4. open file as pd dataframe\n",
    "        5. formatting columns\n",
    "            5.1. sample_id\n",
    "            5.2. coordinates\n",
    "            5.3. strand information. If control, no strand, mark 'ctrl'\n",
    "            5.4 log2 activity\n",
    "        6. add df to dictionary\n",
    "    return \n",
    "        df of concatenated dictionary values\n",
    "    \"\"\"\n",
    "\n",
    "    # 1\n",
    "    dfs = {}\n",
    "\n",
    "    # 2\n",
    "    for f in file_list:\n",
    "\n",
    "        # 3\n",
    "        sample_id = (os.path.split(f)[1]).strip(\"-byInsert.tsv\")  # get sample id label\n",
    "\n",
    "        # 4\n",
    "        df = pd.read_csv(f, sep='\\t')  # open dataframe\n",
    "\n",
    "        # 5 formatting columns\n",
    "\n",
    "        # 5.1\n",
    "        df[\"sample_id\"] = sample_id  # add sample id\n",
    "        df[\"celltype\"] = sample_id.split(\"_\")[0]\n",
    "        \n",
    "        if section==\"lib2\":\n",
    "            df[\"name2\"] = df[\"name\"].apply(lambda x: x.split(\"_\")[-1])\n",
    "            df[\"coor\"] = df[\"name2\"].apply(lambda x: \"chr\"+\":\".join(((x.split(\"chr\")[-1]).split(\"|\")[0]).split(\":\")[:2]))\n",
    "            df[\"coor\"] = df[\"coor\"].apply(lambda x: x.split(\"Backgroundseq2\")[1] if \"Background\" in x else x)\n",
    "            df[\"backgroundseq\"] = df[\"name2\"].apply(lambda x: True if \"Background\" in x else False)\n",
    "        else:\n",
    "            # 5.2 get coordinates\n",
    "            df[\"coor\"] = df[\"name\"].apply(lambda x: \":\".join(x.split(\":\")[:2]))\n",
    "\n",
    "        # 5.3 get strand. For controls, no strand. return controls\n",
    "        df[\"strand\"] = None\n",
    "        df.loc[df[\"name\"].str.contains(\":+\"), \"strand\"] = \"+\"\n",
    "        df.loc[df[\"name\"].str.contains(\":-\"), \"strand\"] = \"-\"\n",
    "        \n",
    "        df[\"ctrl\"] = \"test\"\n",
    "        df.loc[df[\"name\"].str.contains(\"Boaz\"), \"ctrl\"] = None\n",
    "        df.loc[df[\"name\"].str.contains(\"72hr_top\"), \"ctrl\"] = None\n",
    "        df.loc[df[\"name\"].str.contains(\"72hr_bottom\"), \"ctrl\"] = None\n",
    "        df.loc[df[\"name\"].str.contains(\"shuf\"), \"ctrl\"] = \"shuf\"\n",
    "\n",
    "        #5.4\n",
    "        df[\"log2ratio\"] = np.log2(df[\"ratio\"])\n",
    "        # 6\n",
    "        dfs[sample_id] = df  # add to dictionary\n",
    "\n",
    "    return pd.concat(dfs.values())"
   ]
  },
  {
   "cell_type": "markdown",
   "id": "a1d2acf2",
   "metadata": {},
   "source": [
    "## remove barcodes"
   ]
  },
  {
   "cell_type": "code",
   "execution_count": 4,
   "id": "2759d24b",
   "metadata": {
    "ExecuteTime": {
     "end_time": "2023-07-25T18:03:03.602331Z",
     "start_time": "2023-07-25T18:03:03.510639Z"
    }
   },
   "outputs": [],
   "source": [
    "def removeTags(df, min_tags):\n",
    "\n",
    "    clean = df.loc[df[\"tags\"] >= min_tags].copy()\n",
    "    \n",
    "    print(df.shape, clean.shape, \n",
    "          \"removed tags w/ <50 barcodes N=\",\n",
    "          df.shape[0]-clean.shape[0])\n",
    "    return clean"
   ]
  },
  {
   "cell_type": "markdown",
   "id": "3544e63f",
   "metadata": {},
   "source": [
    "## kde plot"
   ]
  },
  {
   "cell_type": "code",
   "execution_count": 5,
   "id": "d64ccf8f",
   "metadata": {
    "ExecuteTime": {
     "end_time": "2023-07-25T18:03:03.694508Z",
     "start_time": "2023-07-25T18:03:03.605095Z"
    }
   },
   "outputs": [],
   "source": [
    "def kdeplot(x, data, hue, title):\n",
    "    fig, ax = plt.subplots(figsize=(4, 4))\n",
    "    sns.kdeplot(x=x,\n",
    "                data=data,\n",
    "                hue=hue,\n",
    "                common_norm=False,\n",
    "                fill=True,\n",
    "                alpha=0.3\n",
    "                )\n",
    "    ax.set(title=title)\n",
    "    \n",
    "\n",
    "\n",
    "def violinplot(x, y, data, hue, title):\n",
    "    fig, ax = plt.subplots(figsize=(6, 6))\n",
    "    sns.violinplot(x=x, y=y,\n",
    "                   data=data,\n",
    "                   hue=hue,\n",
    "                   alpha=0.3\n",
    "                   )\n",
    "    ax.set(title=title)\n",
    "    "
   ]
  },
  {
   "cell_type": "markdown",
   "id": "7c64d0a9",
   "metadata": {},
   "source": [
    "## compute median activitye per trial"
   ]
  },
  {
   "cell_type": "code",
   "execution_count": 6,
   "id": "2440a7fc",
   "metadata": {
    "ExecuteTime": {
     "end_time": "2023-07-25T18:03:03.872611Z",
     "start_time": "2023-07-25T18:03:03.696517Z"
    }
   },
   "outputs": [],
   "source": [
    "def ctrlMedians(df, activity_col):\n",
    "    \n",
    "    describe_activity=df.groupby([\"ctrl\", \"sample_id\"])[activity_col].describe().reset_index()\n",
    "    describe_tags=df.groupby([\"ctrl\", \"sample_id\"])[\"tags\"].describe().reset_index()\n",
    "    medians = df.groupby([\"ctrl\", \"sample_id\"])[activity_col].median().reset_index()\n",
    "    \n",
    "    return describe_activity, describe_tags, medians\n"
   ]
  },
  {
   "cell_type": "markdown",
   "id": "edcf676f",
   "metadata": {},
   "source": [
    "## center activity of shuffled median per trial"
   ]
  },
  {
   "cell_type": "code",
   "execution_count": 7,
   "id": "95a06554",
   "metadata": {
    "ExecuteTime": {
     "end_time": "2023-07-25T18:03:04.063101Z",
     "start_time": "2023-07-25T18:03:03.874376Z"
    }
   },
   "outputs": [],
   "source": [
    "def centerOnShufMed(df, mediandf):\n",
    "    \n",
    "    # get median of shuffles per trial\n",
    "    shuf_med = mediandf.loc[mediandf[\"ctrl\"]==\"shuf\", [\"sample_id\",\"log2ratio\"]].copy()\n",
    "    \n",
    "    # rename median shuf col\n",
    "    shuf_med = shuf_med.rename(columns={\"log2ratio\":\"log2ratio_shufmedian\"})\n",
    "    \n",
    "    # merge df w/ shuf_med\n",
    "    df = pd.merge(df, shuf_med, how=\"left\")\n",
    "    \n",
    "    # compute centered log2 ratio per median shuffle in trial\n",
    "    df[\"log2ratio_centered\"] = df[\"log2ratio\"] - df[\"log2ratio_shufmedian\"]\n",
    "    \n",
    "    return df"
   ]
  },
  {
   "cell_type": "markdown",
   "id": "67e80878",
   "metadata": {},
   "source": [
    "## compute mean activity across trials (after centering)"
   ]
  },
  {
   "cell_type": "code",
   "execution_count": 8,
   "id": "c5488c30",
   "metadata": {
    "ExecuteTime": {
     "end_time": "2023-07-25T18:03:04.573964Z",
     "start_time": "2023-07-25T18:03:04.064932Z"
    }
   },
   "outputs": [],
   "source": [
    "def meanRatio(df):\n",
    "\n",
    "    # pivot data\n",
    "    table = pd.pivot(df, \n",
    "         index=[\"name\", \"coor\", \"strand\", \"ctrl\", \"celltype\"], \n",
    "         columns = \"sample_id\",\n",
    "         values = \"log2ratio_centered\")\n",
    "    \n",
    "    # compute mean activity across the rows\n",
    "    table['mean_centered_log2ratio'] = table[list(table)].mean(axis=1)  \n",
    "\n",
    "    return table.reset_index()"
   ]
  },
  {
   "cell_type": "markdown",
   "id": "24777145",
   "metadata": {},
   "source": [
    "## label active as > 95% of shuffle"
   ]
  },
  {
   "cell_type": "markdown",
   "id": "c6b69aed",
   "metadata": {},
   "source": [
    "# main - normalize activity (log2 ratios) to shuffle median per trial"
   ]
  },
  {
   "cell_type": "markdown",
   "id": "69e3c0e9",
   "metadata": {},
   "source": [
    "## params"
   ]
  },
  {
   "cell_type": "code",
   "execution_count": 9,
   "id": "0e1e5894",
   "metadata": {
    "ExecuteTime": {
     "end_time": "2023-07-25T18:03:04.943062Z",
     "start_time": "2023-07-25T18:03:04.575943Z"
    }
   },
   "outputs": [],
   "source": [
    "RUNS = {\"glut\": GLUTS, \n",
    "       \"gaba\": GABAS}\n",
    "MIN_TAGS = 10"
   ]
  },
  {
   "cell_type": "code",
   "execution_count": 10,
   "id": "4ee3692a",
   "metadata": {
    "ExecuteTime": {
     "end_time": "2023-07-25T18:03:05.279484Z",
     "start_time": "2023-07-25T18:03:04.945208Z"
    }
   },
   "outputs": [
    {
     "data": {
      "text/html": [
       "<div>\n",
       "<style scoped>\n",
       "    .dataframe tbody tr th:only-of-type {\n",
       "        vertical-align: middle;\n",
       "    }\n",
       "\n",
       "    .dataframe tbody tr th {\n",
       "        vertical-align: top;\n",
       "    }\n",
       "\n",
       "    .dataframe thead th {\n",
       "        text-align: right;\n",
       "    }\n",
       "</style>\n",
       "<table border=\"1\" class=\"dataframe\">\n",
       "  <thead>\n",
       "    <tr style=\"text-align: right;\">\n",
       "      <th></th>\n",
       "      <th>name</th>\n",
       "      <th>RNA</th>\n",
       "      <th>DNA</th>\n",
       "      <th>ratio</th>\n",
       "      <th>tags</th>\n",
       "    </tr>\n",
       "  </thead>\n",
       "  <tbody>\n",
       "    <tr>\n",
       "      <th>17</th>\n",
       "      <td>shuffle126</td>\n",
       "      <td>0.904306</td>\n",
       "      <td>1.052096</td>\n",
       "      <td>0.859528</td>\n",
       "      <td>152</td>\n",
       "    </tr>\n",
       "    <tr>\n",
       "      <th>29</th>\n",
       "      <td>shuffle3</td>\n",
       "      <td>1.388279</td>\n",
       "      <td>0.869700</td>\n",
       "      <td>1.596273</td>\n",
       "      <td>110</td>\n",
       "    </tr>\n",
       "    <tr>\n",
       "      <th>57</th>\n",
       "      <td>shuffle124</td>\n",
       "      <td>1.159536</td>\n",
       "      <td>0.891757</td>\n",
       "      <td>1.300282</td>\n",
       "      <td>252</td>\n",
       "    </tr>\n",
       "    <tr>\n",
       "      <th>93</th>\n",
       "      <td>shuffle186</td>\n",
       "      <td>1.260532</td>\n",
       "      <td>1.077438</td>\n",
       "      <td>1.169935</td>\n",
       "      <td>80</td>\n",
       "    </tr>\n",
       "    <tr>\n",
       "      <th>105</th>\n",
       "      <td>shuffle64</td>\n",
       "      <td>1.171289</td>\n",
       "      <td>0.826843</td>\n",
       "      <td>1.416580</td>\n",
       "      <td>545</td>\n",
       "    </tr>\n",
       "    <tr>\n",
       "      <th>...</th>\n",
       "      <td>...</td>\n",
       "      <td>...</td>\n",
       "      <td>...</td>\n",
       "      <td>...</td>\n",
       "      <td>...</td>\n",
       "    </tr>\n",
       "    <tr>\n",
       "      <th>5022</th>\n",
       "      <td>shuffle103</td>\n",
       "      <td>1.069900</td>\n",
       "      <td>0.728118</td>\n",
       "      <td>1.469404</td>\n",
       "      <td>49</td>\n",
       "    </tr>\n",
       "    <tr>\n",
       "      <th>5041</th>\n",
       "      <td>shuffle138</td>\n",
       "      <td>1.331043</td>\n",
       "      <td>0.984910</td>\n",
       "      <td>1.351435</td>\n",
       "      <td>90</td>\n",
       "    </tr>\n",
       "    <tr>\n",
       "      <th>5057</th>\n",
       "      <td>shuffle14</td>\n",
       "      <td>1.011892</td>\n",
       "      <td>1.051921</td>\n",
       "      <td>0.961947</td>\n",
       "      <td>101</td>\n",
       "    </tr>\n",
       "    <tr>\n",
       "      <th>5066</th>\n",
       "      <td>shuffle189</td>\n",
       "      <td>1.069110</td>\n",
       "      <td>0.968725</td>\n",
       "      <td>1.103626</td>\n",
       "      <td>33</td>\n",
       "    </tr>\n",
       "    <tr>\n",
       "      <th>5110</th>\n",
       "      <td>shuffle148</td>\n",
       "      <td>1.272646</td>\n",
       "      <td>1.058896</td>\n",
       "      <td>1.201862</td>\n",
       "      <td>53</td>\n",
       "    </tr>\n",
       "  </tbody>\n",
       "</table>\n",
       "<p>199 rows × 5 columns</p>\n",
       "</div>"
      ],
      "text/plain": [
       "            name       RNA       DNA     ratio  tags\n",
       "17    shuffle126  0.904306  1.052096  0.859528   152\n",
       "29      shuffle3  1.388279  0.869700  1.596273   110\n",
       "57    shuffle124  1.159536  0.891757  1.300282   252\n",
       "93    shuffle186  1.260532  1.077438  1.169935    80\n",
       "105    shuffle64  1.171289  0.826843  1.416580   545\n",
       "...          ...       ...       ...       ...   ...\n",
       "5022  shuffle103  1.069900  0.728118  1.469404    49\n",
       "5041  shuffle138  1.331043  0.984910  1.351435    90\n",
       "5057   shuffle14  1.011892  1.051921  0.961947   101\n",
       "5066  shuffle189  1.069110  0.968725  1.103626    33\n",
       "5110  shuffle148  1.272646  1.058896  1.201862    53\n",
       "\n",
       "[199 rows x 5 columns]"
      ]
     },
     "execution_count": 10,
     "metadata": {},
     "output_type": "execute_result"
    }
   ],
   "source": [
    "df = pd.read_csv(GLUTS[0], sep='\\t')\n",
    "df.loc[df[\"name\"].str.contains('shuf')]"
   ]
  },
  {
   "cell_type": "markdown",
   "id": "41b7094b",
   "metadata": {
    "ExecuteTime": {
     "end_time": "2023-07-19T19:47:10.584756Z",
     "start_time": "2023-07-19T19:47:10.420090Z"
    }
   },
   "source": [
    "## run "
   ]
  },
  {
   "cell_type": "code",
   "execution_count": 32,
   "id": "00b4508f",
   "metadata": {
    "ExecuteTime": {
     "end_time": "2023-07-25T18:03:06.363661Z",
     "start_time": "2023-07-25T18:03:05.285651Z"
    }
   },
   "outputs": [
    {
     "name": "stdout",
     "output_type": "stream",
     "text": [
      "(15497, 11) (15309, 11) removed tags w/ <50 barcodes N= 188\n",
      "glut \n",
      "\n",
      " before centering \n",
      "\n",
      "    ctrl sample_id   count       50%\n",
      "0  shuf    glut_1   199.0  0.008356\n",
      "1  shuf    glut_2   199.0 -0.016267\n",
      "2  shuf    glut_3   199.0 -0.002094\n",
      "3  test    glut_1  4535.0  0.083986\n",
      "4  test    glut_2  4535.0  0.084476\n",
      "5  test    glut_3  4535.0  0.084796\n",
      "\n",
      "\n",
      " after centering \n",
      "\n",
      "    ctrl sample_id   count       50%\n",
      "0  shuf    glut_1   199.0  0.000000\n",
      "1  shuf    glut_2   199.0  0.000000\n",
      "2  shuf    glut_3   199.0  0.000000\n",
      "3  test    glut_1  4535.0  0.075631\n",
      "4  test    glut_2  4535.0  0.100743\n",
      "5  test    glut_3  4535.0  0.086890\n",
      "(15492, 11) (15304, 11) removed tags w/ <50 barcodes N= 188\n",
      "gaba \n",
      "\n",
      " before centering \n",
      "\n",
      "    ctrl sample_id   count       50%\n",
      "0  shuf    gaba_1   199.0 -0.051720\n",
      "1  shuf    gaba_2   199.0 -0.039856\n",
      "2  shuf    gaba_3   199.0 -0.028685\n",
      "3  test    gaba_1  4534.0  0.018121\n",
      "4  test    gaba_2  4532.0  0.015251\n",
      "5  test    gaba_3  4534.0  0.024123\n",
      "\n",
      "\n",
      " after centering \n",
      "\n",
      "    ctrl sample_id   count       50%\n",
      "0  shuf    gaba_1   199.0  0.000000\n",
      "1  shuf    gaba_2   199.0  0.000000\n",
      "2  shuf    gaba_3   199.0  0.000000\n",
      "3  test    gaba_1  4534.0  0.069840\n",
      "4  test    gaba_2  4532.0  0.055107\n",
      "5  test    gaba_3  4534.0  0.052808\n"
     ]
    }
   ],
   "source": [
    "cleaned_reps,summ_act = {}, {}\n",
    "PLOT = False\n",
    "for cell_type, files in RUNS.items():\n",
    "\n",
    "    df = listToDf(files, section)  # make df\n",
    "    clean_df = removeTags(df, MIN_TAGS)  # clean df for min tags\n",
    "\n",
    "    desc_act, desc_tag, medians = ctrlMedians(\n",
    "        clean_df, \"log2ratio\")  # compute medians\n",
    "\n",
    "    print(cell_type,\n",
    "          \"\\n\\n before centering \\n\\n\",\n",
    "          desc_act[['ctrl',\n",
    "                    'sample_id',\n",
    "                    'count', \"50%\"]])  # describe activity across replicates\n",
    "    clean_df = centerOnShufMed(clean_df, medians)\n",
    "\n",
    "    desc_act, desc_tag, medians = ctrlMedians(\n",
    "        clean_df, \"log2ratio_centered\")  # compute medians\n",
    "   \n",
    "    print(\"\\n\\n after centering \\n\\n\",\n",
    "          desc_act[['ctrl',\n",
    "                    'sample_id',\n",
    "                    'count', \"50%\"]])  # describe activity across replicates\n",
    "    \n",
    "    # add replicate data to dictionary\n",
    "    cleaned_reps[cell_type] = clean_df\n",
    "    \n",
    "    ### summarize activity across replicates ###\n",
    "\n",
    "    sum_df = meanRatio(clean_df)\n",
    "\n",
    "    # add summarized data to dictionary\n",
    "    summ_act[cell_type] = sum_df\n",
    "    \n",
    "    if PLOT is True:\n",
    "        ### plot replicate data ###\n",
    "        x = \"log2ratio_centered\"\n",
    "        data = clean_df\n",
    "        hue = \"ctrl\"\n",
    "        title = f\"{cell_type} activity x controls\"\n",
    "        kdeplot(x, data, hue, title)\n",
    "\n",
    "        hue = \"sample_id\"\n",
    "        title = f\"{cell_type} activity x sample\"\n",
    "        kdeplot(x, data, hue, title)\n",
    "\n",
    "        x = 'ctrl'\n",
    "        y = \"log2ratio_centered\"\n",
    "        hue = \"sample_id\"\n",
    "        violinplot(x, y, data, hue, title)\n",
    "\n",
    "       \n",
    "\n",
    "         ### plot summarized data ###\n",
    "        x = \"mean_centered_log2ratio\"\n",
    "        data = sum_df\n",
    "        hue = \"ctrl\"\n",
    "        title = f\"{cell_type} activity x controls - summarized\"\n",
    "        kdeplot(x, data, hue, title)\n",
    "\n",
    "        x = 'ctrl'\n",
    "        y = \"mean_centered_log2ratio\"\n",
    "        hue = None\n",
    "        violinplot(x, y, data, hue, title)\n"
   ]
  },
  {
   "cell_type": "code",
   "execution_count": 33,
   "id": "c4f8c198",
   "metadata": {
    "ExecuteTime": {
     "end_time": "2023-07-25T18:03:06.417581Z",
     "start_time": "2023-07-25T18:03:06.365860Z"
    }
   },
   "outputs": [
    {
     "data": {
      "text/html": [
       "<div>\n",
       "<style scoped>\n",
       "    .dataframe tbody tr th:only-of-type {\n",
       "        vertical-align: middle;\n",
       "    }\n",
       "\n",
       "    .dataframe tbody tr th {\n",
       "        vertical-align: top;\n",
       "    }\n",
       "\n",
       "    .dataframe thead th {\n",
       "        text-align: right;\n",
       "    }\n",
       "</style>\n",
       "<table border=\"1\" class=\"dataframe\">\n",
       "  <thead>\n",
       "    <tr style=\"text-align: right;\">\n",
       "      <th>sample_id</th>\n",
       "      <th>name</th>\n",
       "      <th>coor</th>\n",
       "      <th>strand</th>\n",
       "      <th>ctrl</th>\n",
       "      <th>celltype</th>\n",
       "      <th>gaba_1</th>\n",
       "      <th>gaba_2</th>\n",
       "      <th>gaba_3</th>\n",
       "      <th>mean_centered_log2ratio</th>\n",
       "    </tr>\n",
       "  </thead>\n",
       "  <tbody>\n",
       "    <tr>\n",
       "      <th>369</th>\n",
       "      <td>chr10:25854968-25855237:+</td>\n",
       "      <td>chr10:25854968-25855237</td>\n",
       "      <td>+</td>\n",
       "      <td>test</td>\n",
       "      <td>gaba</td>\n",
       "      <td>0.176748</td>\n",
       "      <td>0.054352</td>\n",
       "      <td>0.162353</td>\n",
       "      <td>0.131151</td>\n",
       "    </tr>\n",
       "    <tr>\n",
       "      <th>370</th>\n",
       "      <td>chr10:25854968-25855237:-</td>\n",
       "      <td>chr10:25854968-25855237</td>\n",
       "      <td>-</td>\n",
       "      <td>test</td>\n",
       "      <td>gaba</td>\n",
       "      <td>-0.050784</td>\n",
       "      <td>0.034032</td>\n",
       "      <td>0.043295</td>\n",
       "      <td>0.008848</td>\n",
       "    </tr>\n",
       "    <tr>\n",
       "      <th>371</th>\n",
       "      <td>chr10:25854983-25855252:+</td>\n",
       "      <td>chr10:25854983-25855252</td>\n",
       "      <td>+</td>\n",
       "      <td>test</td>\n",
       "      <td>gaba</td>\n",
       "      <td>0.250371</td>\n",
       "      <td>0.385716</td>\n",
       "      <td>0.295039</td>\n",
       "      <td>0.310375</td>\n",
       "    </tr>\n",
       "    <tr>\n",
       "      <th>372</th>\n",
       "      <td>chr10:25854983-25855252:-</td>\n",
       "      <td>chr10:25854983-25855252</td>\n",
       "      <td>-</td>\n",
       "      <td>test</td>\n",
       "      <td>gaba</td>\n",
       "      <td>0.508079</td>\n",
       "      <td>0.154003</td>\n",
       "      <td>0.419933</td>\n",
       "      <td>0.360672</td>\n",
       "    </tr>\n",
       "    <tr>\n",
       "      <th>373</th>\n",
       "      <td>chr10:25854998-25855267:+</td>\n",
       "      <td>chr10:25854998-25855267</td>\n",
       "      <td>+</td>\n",
       "      <td>test</td>\n",
       "      <td>gaba</td>\n",
       "      <td>0.606155</td>\n",
       "      <td>0.750656</td>\n",
       "      <td>0.520727</td>\n",
       "      <td>0.625846</td>\n",
       "    </tr>\n",
       "  </tbody>\n",
       "</table>\n",
       "</div>"
      ],
      "text/plain": [
       "sample_id                       name                     coor strand  ctrl  \\\n",
       "369        chr10:25854968-25855237:+  chr10:25854968-25855237      +  test   \n",
       "370        chr10:25854968-25855237:-  chr10:25854968-25855237      -  test   \n",
       "371        chr10:25854983-25855252:+  chr10:25854983-25855252      +  test   \n",
       "372        chr10:25854983-25855252:-  chr10:25854983-25855252      -  test   \n",
       "373        chr10:25854998-25855267:+  chr10:25854998-25855267      +  test   \n",
       "\n",
       "sample_id celltype    gaba_1    gaba_2    gaba_3  mean_centered_log2ratio  \n",
       "369           gaba  0.176748  0.054352  0.162353                 0.131151  \n",
       "370           gaba -0.050784  0.034032  0.043295                 0.008848  \n",
       "371           gaba  0.250371  0.385716  0.295039                 0.310375  \n",
       "372           gaba  0.508079  0.154003  0.419933                 0.360672  \n",
       "373           gaba  0.606155  0.750656  0.520727                 0.625846  "
      ]
     },
     "execution_count": 33,
     "metadata": {},
     "output_type": "execute_result"
    }
   ],
   "source": [
    "sum_df.loc[sum_df[\"name\"].str.contains(\"chr\")].head()"
   ]
  },
  {
   "cell_type": "markdown",
   "id": "c18f3af2",
   "metadata": {},
   "source": [
    "# compare cell type specific activity"
   ]
  },
  {
   "cell_type": "code",
   "execution_count": 34,
   "id": "53b45a3e",
   "metadata": {
    "ExecuteTime": {
     "end_time": "2023-07-25T18:03:06.509834Z",
     "start_time": "2023-07-25T18:03:06.419881Z"
    }
   },
   "outputs": [],
   "source": [
    "def labelActive(df, act_col, celltype):\n",
    "    \n",
    "    # compute median of the positive control activity values (mean across centered activity scores) \n",
    "    pos_median = df.loc[df[\"ctrl\"] == \"shuf\", act_col].quantile(0.95)\n",
    "    print(act_col, \"median of positive control\", round(pos_median, 2))\n",
    "\n",
    "    df[\"active\"] = False\n",
    "    df.loc[df[act_col]>=pos_median, \"active\"] = True\n",
    "    \n",
    "    df = pd.pivot(df, index=[\"name\", \"coor\", 'strand'], \n",
    "                  columns=\"celltype\", \n",
    "                  values =[\"mean_centered_log2ratio\",\"active\"]).reset_index()\n",
    "\n",
    "    \n",
    "    return df"
   ]
  },
  {
   "cell_type": "code",
   "execution_count": 74,
   "id": "21205a41",
   "metadata": {
    "ExecuteTime": {
     "end_time": "2023-07-25T18:26:28.245651Z",
     "start_time": "2023-07-25T18:26:28.240516Z"
    }
   },
   "outputs": [],
   "source": [
    "def labelStrand(df_, celltype):\n",
    "    df = df_.loc[df_[\"name\"].str.contains(\"chr\")]\n",
    "    print(df.shape)\n",
    "    df = pd.pivot(df, index=\"coor\", columns=\"strand\", values = ('active', celltype)).reset_index()\n",
    "    df[f\"n.active.strands.{celltype}\"] = df[\"+\"] + df[\"-\"]\n",
    "    \n",
    "    return df"
   ]
  },
  {
   "cell_type": "code",
   "execution_count": 75,
   "id": "26ec61ad",
   "metadata": {
    "ExecuteTime": {
     "end_time": "2023-07-25T18:26:29.571924Z",
     "start_time": "2023-07-25T18:26:29.486989Z"
    }
   },
   "outputs": [
    {
     "name": "stdout",
     "output_type": "stream",
     "text": [
      "mean_centered_log2ratio median of positive control 0.52\n",
      "(4535, 5)\n",
      "mean_centered_log2ratio median of positive control 0.41\n",
      "(4534, 5)\n"
     ]
    }
   ],
   "source": [
    "# make joint df\n",
    "celltypes={\"glut\":None, \"gaba\":None}\n",
    "strands = {}\n",
    "for celltype in celltypes.keys():\n",
    "\n",
    "    cell_df = summ_act[celltype] # get summary dataframe\n",
    "    \n",
    "    # label categorical activity\n",
    "    cell_df=labelActive(cell_df, \"mean_centered_log2ratio\", celltype)\n",
    "    \n",
    "    # label strand-specific activity\n",
    "    strand_df=labelStrand(cell_df,celltype)\n",
    "    \n",
    "    # add to dictionaries\n",
    "    celltypes[celltype], strands[celltype] = cell_df, strand_df  # update the dataframe\n"
   ]
  },
  {
   "cell_type": "markdown",
   "id": "021a0837",
   "metadata": {},
   "source": [
    "## joint strand "
   ]
  },
  {
   "cell_type": "code",
   "execution_count": 105,
   "id": "9a92f4fc",
   "metadata": {
    "ExecuteTime": {
     "end_time": "2023-07-25T19:05:32.827904Z",
     "start_time": "2023-07-25T19:05:32.794395Z"
    }
   },
   "outputs": [
    {
     "name": "stdout",
     "output_type": "stream",
     "text": [
      "n.active.strands.glut (252,)\n",
      "n.active.strands.gaba (397,)\n",
      "total strand-specific coordinates N= 463\n"
     ]
    },
    {
     "data": {
      "text/html": [
       "<div>\n",
       "<style scoped>\n",
       "    .dataframe tbody tr th:only-of-type {\n",
       "        vertical-align: middle;\n",
       "    }\n",
       "\n",
       "    .dataframe tbody tr th {\n",
       "        vertical-align: top;\n",
       "    }\n",
       "\n",
       "    .dataframe thead th {\n",
       "        text-align: right;\n",
       "    }\n",
       "</style>\n",
       "<table border=\"1\" class=\"dataframe\">\n",
       "  <thead>\n",
       "    <tr style=\"text-align: right;\">\n",
       "      <th>strand</th>\n",
       "      <th>coor</th>\n",
       "      <th>+_x</th>\n",
       "      <th>-_x</th>\n",
       "      <th>n.active.strands.glut</th>\n",
       "      <th>+_y</th>\n",
       "      <th>-_y</th>\n",
       "      <th>n.active.strands.gaba</th>\n",
       "    </tr>\n",
       "  </thead>\n",
       "  <tbody>\n",
       "    <tr>\n",
       "      <th>0</th>\n",
       "      <td>chr10:25854968-25855237</td>\n",
       "      <td>False</td>\n",
       "      <td>False</td>\n",
       "      <td>0</td>\n",
       "      <td>False</td>\n",
       "      <td>False</td>\n",
       "      <td>0</td>\n",
       "    </tr>\n",
       "    <tr>\n",
       "      <th>1</th>\n",
       "      <td>chr10:25854983-25855252</td>\n",
       "      <td>False</td>\n",
       "      <td>False</td>\n",
       "      <td>0</td>\n",
       "      <td>False</td>\n",
       "      <td>False</td>\n",
       "      <td>0</td>\n",
       "    </tr>\n",
       "    <tr>\n",
       "      <th>2</th>\n",
       "      <td>chr10:25854998-25855267</td>\n",
       "      <td>False</td>\n",
       "      <td>False</td>\n",
       "      <td>0</td>\n",
       "      <td>True</td>\n",
       "      <td>False</td>\n",
       "      <td>1</td>\n",
       "    </tr>\n",
       "    <tr>\n",
       "      <th>3</th>\n",
       "      <td>chr10:26004717-26004986</td>\n",
       "      <td>True</td>\n",
       "      <td>True</td>\n",
       "      <td>2</td>\n",
       "      <td>True</td>\n",
       "      <td>True</td>\n",
       "      <td>2</td>\n",
       "    </tr>\n",
       "    <tr>\n",
       "      <th>4</th>\n",
       "      <td>chr10:26004732-26005001</td>\n",
       "      <td>True</td>\n",
       "      <td>True</td>\n",
       "      <td>2</td>\n",
       "      <td>True</td>\n",
       "      <td>True</td>\n",
       "      <td>2</td>\n",
       "    </tr>\n",
       "  </tbody>\n",
       "</table>\n",
       "</div>"
      ],
      "text/plain": [
       "strand                     coor    +_x    -_x n.active.strands.glut    +_y  \\\n",
       "0       chr10:25854968-25855237  False  False                     0  False   \n",
       "1       chr10:25854983-25855252  False  False                     0  False   \n",
       "2       chr10:25854998-25855267  False  False                     0   True   \n",
       "3       chr10:26004717-26004986   True   True                     2   True   \n",
       "4       chr10:26004732-26005001   True   True                     2   True   \n",
       "\n",
       "strand    -_y n.active.strands.gaba  \n",
       "0       False                     0  \n",
       "1       False                     0  \n",
       "2       False                     1  \n",
       "3        True                     2  \n",
       "4        True                     2  "
      ]
     },
     "execution_count": 105,
     "metadata": {},
     "output_type": "execute_result"
    }
   ],
   "source": [
    "# collect strand-specific activity as set of coordinates that show ss activity in either gaba or glut\n",
    "ss_coor = set()\n",
    "\"\"\"\n",
    "# ss columns to collect info from.\n",
    "0 = both strands are inactive\n",
    "1 = one strand is active in that cell type\n",
    "2 = both strands are active in that cell type\n",
    "\"\"\"\n",
    "ss_cols = [\"n.active.strands.glut\", \"n.active.strands.gaba\"]\n",
    "\n",
    "# join the glut and the gaba\n",
    "joint_strand = pd.merge(strands[\"glut\"], strands[\"gaba\"], how = \"left\", on=\"coor\")\n",
    "\n",
    "# add ss coordinates to the set\n",
    "for col in ss_cols:\n",
    "    print(col, joint_strand.loc[joint_strand[col]==1, \"coor\"].unique().shape)\n",
    "    ss_coor.update(joint_strand.loc[joint_strand[col]==1, \"coor\"])\n",
    "print(\"total strand-specific coordinates N=\", len(ss_coor))\n",
    "joint_strand.head()"
   ]
  },
  {
   "cell_type": "markdown",
   "id": "3f40a675",
   "metadata": {},
   "source": [
    "## joint activity"
   ]
  },
  {
   "cell_type": "code",
   "execution_count": 106,
   "id": "4f9f91b4",
   "metadata": {
    "ExecuteTime": {
     "end_time": "2023-07-25T19:05:34.830962Z",
     "start_time": "2023-07-25T19:05:34.797227Z"
    }
   },
   "outputs": [
    {
     "name": "stdout",
     "output_type": "stream",
     "text": [
      "total cell-specific coordinates N= 342\n"
     ]
    },
    {
     "data": {
      "text/html": [
       "<div>\n",
       "<style scoped>\n",
       "    .dataframe tbody tr th:only-of-type {\n",
       "        vertical-align: middle;\n",
       "    }\n",
       "\n",
       "    .dataframe tbody tr th {\n",
       "        vertical-align: top;\n",
       "    }\n",
       "\n",
       "    .dataframe thead tr th {\n",
       "        text-align: left;\n",
       "    }\n",
       "</style>\n",
       "<table border=\"1\" class=\"dataframe\">\n",
       "  <thead>\n",
       "    <tr>\n",
       "      <th></th>\n",
       "      <th>name</th>\n",
       "      <th>coor</th>\n",
       "      <th>strand</th>\n",
       "      <th>mean_centered_log2ratio</th>\n",
       "      <th>active</th>\n",
       "      <th>mean_centered_log2ratio</th>\n",
       "      <th>active</th>\n",
       "      <th>n.active.cell</th>\n",
       "    </tr>\n",
       "    <tr>\n",
       "      <th>celltype</th>\n",
       "      <th></th>\n",
       "      <th></th>\n",
       "      <th></th>\n",
       "      <th>glut</th>\n",
       "      <th>glut</th>\n",
       "      <th>gaba</th>\n",
       "      <th>gaba</th>\n",
       "      <th></th>\n",
       "    </tr>\n",
       "  </thead>\n",
       "  <tbody>\n",
       "    <tr>\n",
       "      <th>0</th>\n",
       "      <td>72hr_bottom_1</td>\n",
       "      <td>72hr_bottom_1</td>\n",
       "      <td>NaN</td>\n",
       "      <td>0.041943</td>\n",
       "      <td>False</td>\n",
       "      <td>0.241895</td>\n",
       "      <td>False</td>\n",
       "      <td>0</td>\n",
       "    </tr>\n",
       "    <tr>\n",
       "      <th>1</th>\n",
       "      <td>72hr_bottom_10</td>\n",
       "      <td>72hr_bottom_10</td>\n",
       "      <td>NaN</td>\n",
       "      <td>0.515664</td>\n",
       "      <td>True</td>\n",
       "      <td>0.596021</td>\n",
       "      <td>True</td>\n",
       "      <td>2</td>\n",
       "    </tr>\n",
       "    <tr>\n",
       "      <th>2</th>\n",
       "      <td>72hr_bottom_100</td>\n",
       "      <td>72hr_bottom_100</td>\n",
       "      <td>NaN</td>\n",
       "      <td>0.283729</td>\n",
       "      <td>False</td>\n",
       "      <td>0.251375</td>\n",
       "      <td>False</td>\n",
       "      <td>0</td>\n",
       "    </tr>\n",
       "    <tr>\n",
       "      <th>3</th>\n",
       "      <td>72hr_bottom_101</td>\n",
       "      <td>72hr_bottom_101</td>\n",
       "      <td>NaN</td>\n",
       "      <td>-0.11318</td>\n",
       "      <td>False</td>\n",
       "      <td>-0.131253</td>\n",
       "      <td>False</td>\n",
       "      <td>0</td>\n",
       "    </tr>\n",
       "    <tr>\n",
       "      <th>4</th>\n",
       "      <td>72hr_bottom_102</td>\n",
       "      <td>72hr_bottom_102</td>\n",
       "      <td>NaN</td>\n",
       "      <td>0.141929</td>\n",
       "      <td>False</td>\n",
       "      <td>0.146006</td>\n",
       "      <td>False</td>\n",
       "      <td>0</td>\n",
       "    </tr>\n",
       "  </tbody>\n",
       "</table>\n",
       "</div>"
      ],
      "text/plain": [
       "                     name             coor strand mean_centered_log2ratio  \\\n",
       "celltype                                                             glut   \n",
       "0           72hr_bottom_1    72hr_bottom_1    NaN                0.041943   \n",
       "1          72hr_bottom_10   72hr_bottom_10    NaN                0.515664   \n",
       "2         72hr_bottom_100  72hr_bottom_100    NaN                0.283729   \n",
       "3         72hr_bottom_101  72hr_bottom_101    NaN                -0.11318   \n",
       "4         72hr_bottom_102  72hr_bottom_102    NaN                0.141929   \n",
       "\n",
       "         active mean_centered_log2ratio active n.active.cell  \n",
       "celltype   glut                    gaba   gaba                \n",
       "0         False                0.241895  False             0  \n",
       "1          True                0.596021   True             2  \n",
       "2         False                0.251375  False             0  \n",
       "3         False               -0.131253  False             0  \n",
       "4         False                0.146006  False             0  "
      ]
     },
     "execution_count": 106,
     "metadata": {},
     "output_type": "execute_result"
    }
   ],
   "source": [
    "\n",
    "joint_activity = pd.merge(celltypes[\"glut\"], celltypes[\"gaba\"])\n",
    "\n",
    "\"\"\"\n",
    "# compute cell-specific activity column\n",
    "0 = coor in both celltypes are inactive\n",
    "1 = coor in one celltypes is active  ** cell type specific activity **\n",
    "2 = coor in both celltypes are active\n",
    "\"\"\"\n",
    "joint_activity[\"n.active.cell\"] = joint_activity[('active', 'glut')] + joint_activity[('active', 'gaba')]\n",
    "\n",
    "cell_coor = set(joint_activity.loc[joint_activity[\"n.active.cell\"]==1, \"coor\"])\n",
    "\n",
    "print(\"total cell-specific coordinates N=\",len(cell_coor))\n",
    "joint_activity.head()"
   ]
  },
  {
   "cell_type": "markdown",
   "id": "d5d39490",
   "metadata": {},
   "source": [
    "## joint plot - glut v. gaba"
   ]
  },
  {
   "cell_type": "code",
   "execution_count": 119,
   "id": "baa17eea",
   "metadata": {
    "ExecuteTime": {
     "end_time": "2023-07-25T21:37:14.872462Z",
     "start_time": "2023-07-25T21:37:10.174073Z"
    }
   },
   "outputs": [
    {
     "data": {
      "text/plain": [
       "<seaborn.axisgrid.JointGrid at 0x7f5ee9b48c70>"
      ]
     },
     "execution_count": 119,
     "metadata": {},
     "output_type": "execute_result"
    },
    {
     "data": {
      "image/png": "[encoded data removed]",
      "text/plain": [
       "<Figure size 600x600 with 3 Axes>"
      ]
     },
     "metadata": {},
     "output_type": "display_data"
    }
   ],
   "source": [
    "x = ('mean_centered_log2ratio', 'glut')\n",
    "y = ('mean_centered_log2ratio', 'gaba')\n",
    "hue =\"n.active.cell\"\n",
    "data = joint_activity.loc[joint_activity['strand'] != None]\n",
    "sns.jointplot(x=x, y=y, data=data, marginal_ticks=True, hue=hue)"
   ]
  },
  {
   "cell_type": "markdown",
   "id": "c3a4223a",
   "metadata": {},
   "source": [
    "## pearson correlation between cell types"
   ]
  },
  {
   "cell_type": "code",
   "execution_count": 41,
   "id": "1c09b91e",
   "metadata": {
    "ExecuteTime": {
     "end_time": "2023-07-25T18:03:12.058904Z",
     "start_time": "2023-07-25T18:03:12.050651Z"
    }
   },
   "outputs": [
    {
     "data": {
      "text/plain": [
       "PearsonRResult(statistic=0.5920451469027369, pvalue=0.0)"
      ]
     },
     "execution_count": 41,
     "metadata": {},
     "output_type": "execute_result"
    }
   ],
   "source": [
    "stats.pearsonr(data[x], data[y])"
   ]
  },
  {
   "cell_type": "markdown",
   "id": "e5107464",
   "metadata": {},
   "source": [
    "## how many celltype-specific active?"
   ]
  },
  {
   "cell_type": "code",
   "execution_count": 54,
   "id": "187e623c",
   "metadata": {
    "ExecuteTime": {
     "end_time": "2023-07-25T18:22:15.282007Z",
     "start_time": "2023-07-25T18:22:15.251385Z"
    }
   },
   "outputs": [
    {
     "data": {
      "text/plain": [
       "n.active.cell\n",
       "0    4468\n",
       "1     357\n",
       "2     277\n",
       "Name: name, dtype: int64"
      ]
     },
     "execution_count": 54,
     "metadata": {},
     "output_type": "execute_result"
    }
   ],
   "source": [
    "joint_activity.loc[joint_activity['strand'] != None].groupby(\"n.active.cell\")[\"name\"].count()"
   ]
  },
  {
   "cell_type": "markdown",
   "id": "fd924c26",
   "metadata": {},
   "source": [
    "# cell type specific x strand specific "
   ]
  },
  {
   "cell_type": "markdown",
   "id": "6ed69656",
   "metadata": {},
   "source": [
    " 2x2 celltype specific coors enriched for strand-specific effects?\n",
    " \n",
    "     - a = n coordinates with cell type AND strand-specific\n",
    "     - b = n coordinates with cell type NOT strand-specific\n",
    "     - c = n coordinates NOT cell type specific AND strand-specific\n",
    "     - d = n coordinates NOT cell type NOT strand-specific\n",
    "     \n",
    "        ss +     ss-\n",
    "    cs +   A.       B\n",
    "    cs -   C.       D"
   ]
  },
  {
   "cell_type": "code",
   "execution_count": 117,
   "id": "32073ac8",
   "metadata": {
    "ExecuteTime": {
     "end_time": "2023-07-25T21:34:57.924613Z",
     "start_time": "2023-07-25T21:34:57.752622Z"
    }
   },
   "outputs": [
    {
     "data": {
      "text/plain": [
       "(283, 59, 180, 1813)"
      ]
     },
     "execution_count": 117,
     "metadata": {},
     "output_type": "execute_result"
    }
   ],
   "source": [
    "total_coor = set(joint_strand[\"coor\"])  # get all coordinates\n",
    "different_coor = {*ss_coor, *cell_coor}  # get set of different coordinates\n",
    "a = len(cell_coor.intersection(ss_coor))\n",
    "b = len(cell_coor.difference(ss_coor))\n",
    "c = len(ss_coor.difference(cell_coor))\n",
    "d = len(total_coor.difference(different_coor))\n",
    "\n",
    "a,b,c,d"
   ]
  },
  {
   "cell_type": "markdown",
   "id": "483caecd",
   "metadata": {},
   "source": [
    "## Do FET"
   ]
  },
  {
   "cell_type": "code",
   "execution_count": 115,
   "id": "5f3da2e6",
   "metadata": {
    "ExecuteTime": {
     "end_time": "2023-07-25T19:07:32.486290Z",
     "start_time": "2023-07-25T19:07:32.482388Z"
    }
   },
   "outputs": [],
   "source": [
    "from scipy.stats import fisher_exact\n",
    "\n",
    "fisher_exact([[a,b],[c,d]])"
   ]
  },
  {
   "cell_type": "code",
   "execution_count": null,
   "id": "7965d2d4",
   "metadata": {
    "ExecuteTime": {
     "end_time": "2023-07-25T18:03:12.550772Z",
     "start_time": "2023-07-25T18:03:12.550758Z"
    }
   },
   "outputs": [],
   "source": [
    "strand.loc[strand[\"name\"].str.contains(\"chr\")]"
   ]
  },
  {
   "cell_type": "code",
   "execution_count": null,
   "id": "8489bd89",
   "metadata": {},
   "outputs": [],
   "source": []
  }
 ],
 "metadata": {
  "kernelspec": {
   "display_name": "Python (mamba)",
   "language": "python",
   "name": "mamba"
  },
  "language_info": {
   "codemirror_mode": {
    "name": "ipython",
    "version": 3
   },
   "file_extension": ".py",
   "mimetype": "text/x-python",
   "name": "python",
   "nbconvert_exporter": "python",
   "pygments_lexer": "ipython3",
   "version": "3.9.16"
  },
  "toc": {
   "base_numbering": 1,
   "nav_menu": {},
   "number_sections": true,
   "sideBar": true,
   "skip_h1_title": false,
   "title_cell": "Table of Contents",
   "title_sidebar": "Contents",
   "toc_cell": false,
   "toc_position": {},
   "toc_section_display": true,
   "toc_window_display": true
  },
  "varInspector": {
   "cols": {
    "lenName": 16,
    "lenType": 16,
    "lenVar": 40
   },
   "kernels_config": {
    "python": {
     "delete_cmd_postfix": "",
     "delete_cmd_prefix": "del ",
     "library": "var_list.py",
     "varRefreshCmd": "print(var_dic_list())"
    },
    "r": {
     "delete_cmd_postfix": ") ",
     "delete_cmd_prefix": "rm(",
     "library": "var_list.r",
     "varRefreshCmd": "cat(var_dic_list()) "
    }
   },
   "types_to_exclude": [
    "module",
    "function",
    "builtin_function_or_method",
    "instance",
    "_Feature"
   ],
   "window_display": false
  }
 },
 "nbformat": 4,
 "nbformat_minor": 5
}
