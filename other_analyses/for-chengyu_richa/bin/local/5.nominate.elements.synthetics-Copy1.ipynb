{
 "cells": [
  {
   "cell_type": "code",
   "execution_count": 4,
   "metadata": {
    "ExecuteTime": {
     "end_time": "2023-12-18T06:20:47.106050Z",
     "start_time": "2023-12-18T06:20:47.098952Z"
    }
   },
   "outputs": [
    {
     "data": {
      "text/plain": [
       "('sans-serif', 'Arial', 18)"
      ]
     },
     "execution_count": 4,
     "metadata": {},
     "output_type": "execute_result"
    }
   ],
   "source": [
    "from Bio.SeqIO.FastaIO import SimpleFastaParser\n",
    "import numpy as np\n",
    "import os, sys\n",
    "import pandas as pd\n",
    "import pybedtools as pb\n",
    "import matplotlib.pyplot as plt\n",
    "import seaborn as sns\n",
    "from scipy import stats\n",
    "import warnings\n",
    "warnings.filterwarnings(\"ignore\")\n",
    "\n",
    "LOCAL = False\n",
    "if LOCAL is True:\n",
    "    sys.path.append(\"/Users/sarahfong/tools/py_\")\n",
    "    PATH = \"/Users/sarahfong/Desktop/local_data/Biomarin_Jun_2023/\"\n",
    "    RE = os.path.join(PATH, \"results\")\n",
    "    CONFIG_NAME=\"config.local.neuron.mpra.ini\"\n",
    "else:\n",
    "    PATH=\"/wynton/group/ahituv/biomarin/data\"\n",
    "    RE = \"/wynton/group/ahituv/biomarin/results\"\n",
    "    RE_MAPS = os.path.join(RE, \"enh_maps\")\n",
    "    CONFIG_NAME=\"config.neuron.mpra.orig.ini\"\n",
    "import config_readwrite as crw\n",
    "import plot_params as pp\n",
    "pp.fonts()"
   ]
  },
  {
   "cell_type": "code",
   "execution_count": 5,
   "metadata": {
    "ExecuteTime": {
     "end_time": "2023-12-18T06:20:47.636508Z",
     "start_time": "2023-12-18T06:20:47.631971Z"
    }
   },
   "outputs": [],
   "source": [
    "config, cfn = crw.read(CONFIG_NAME)\n",
    "\n",
    "section = 'lib2'\n",
    "crw.check(config, section)"
   ]
  },
  {
   "cell_type": "code",
   "execution_count": 8,
   "metadata": {
    "ExecuteTime": {
     "end_time": "2023-12-18T06:21:07.163314Z",
     "start_time": "2023-12-18T06:21:07.151785Z"
    }
   },
   "outputs": [],
   "source": [
    "if \"fasta\" not in list(config[section]):  # write files to config\n",
    "\n",
    "    MPRA = os.path.join(PATH, \"delta_rank.csv\")\n",
    "\n",
    "    FASTA = os.path.join(PATH, \"library_2\", \"Design\",\n",
    "                         \"biomarin-lib2-hg38-final.fasta\")\n",
    "    META_DATA = os.path.join(PATH, \"lib2.meta_data.tsv\")\n",
    "\n",
    "\n",
    "    DELTA_ACTIVITY = os.path.join(PATH, \"deltaMPRA.gaba.minus.glut.tsv\")\n",
    "    DELTA_ACTIVITY_Z = os.path.join(PATH, \"deltaMPRA.gaba.minus.glut.zscore.tsv\")\n",
    "    SIG_ACTIVITY_Z = os.path.join(PATH, \"WilcoxonSig.gaba.glut.zscore.tsv\")\n",
    "    VISTA = os.path.join(PATH, \"vista.lib2.tiles.bed\")\n",
    "\n",
    "    # delta MPRA activity\n",
    "    config[section][\"delta.mpra_richa\"] = MPRA\n",
    "    config[section][\"delta.mpra_centered\"] = DELTA_ACTIVITY\n",
    "    config[section][\"delta.mpra_centeredz\"] = DELTA_ACTIVITY_Z\n",
    "\n",
    "    config[section][\"fasta\"] = FASTA\n",
    "\n",
    "    # genome coordinates\n",
    "    config[section][\"tile_bed\"] = TILE_BED\n",
    "    config[section][\"enh_bed\"] = ENH_BED\n",
    "\n",
    "    # GREAT\n",
    "    config[section][\"great_nearest\"] = GREAT_GENE_TSV\n",
    "\n",
    "    # meta_data\n",
    "    config[section][\"metadata\"] = META_DATA\n",
    "\n",
    "    # significance GABA v. GLUT\n",
    "    config[section][\"sig-wilcoxon\"] = SIG_ACTIVITY_Z\n",
    "\n",
    "    # vista\n",
    "    config[section][\"vista\"] = VISTA\n",
    "    crw.write(config, cfn)\n",
    "\n",
    "else:\n",
    "    MPRA = config[section][\"delta.mpra_richa\"]\n",
    "    DELTA_ACTIVITY = config[section][\"delta.mpra_centered\"]\n",
    "    DELTA_ACTIVITY_Z = config[section][\"delta.mpra_centeredz\"]\n",
    "\n",
    "    FASTA = config[section][\"fasta\"]\n",
    "\n",
    "    TILE_BED = config[section][\"tile_bed\"]\n",
    "    ENH_BED = config[section][\"enh_bed\"]\n",
    "\n",
    "    GREAT_GENE_TSV = config[section][\"great_nearest\"]\n",
    "    META_DATA = config[section][\"metadata\"]\n",
    "\n",
    "    SIG_ACTIVITY_Z = config[section][\"sig-wilcoxon\"]\n",
    "    VISTA = config[section][\"vista\"]"
   ]
  },
  {
   "cell_type": "code",
   "execution_count": 9,
   "metadata": {
    "ExecuteTime": {
     "end_time": "2023-12-18T06:21:08.590051Z",
     "start_time": "2023-12-18T06:21:08.014084Z"
    }
   },
   "outputs": [
    {
     "data": {
      "text/plain": [
       "1828"
      ]
     },
     "execution_count": 9,
     "metadata": {},
     "output_type": "execute_result"
    }
   ],
   "source": [
    "meta = pd.read_csv(META_DATA, sep='\\t')\n",
    "delta = pd.read_csv(DELTA_ACTIVITY_Z, sep='\\t')\n",
    "\n",
    "len(set(meta[\"enh.id\"]))"
   ]
  },
  {
   "cell_type": "code",
   "execution_count": 10,
   "metadata": {
    "ExecuteTime": {
     "end_time": "2023-12-18T06:21:09.248653Z",
     "start_time": "2023-12-18T06:21:09.244674Z"
    }
   },
   "outputs": [
    {
     "data": {
      "text/plain": [
       "(35371, 10)"
      ]
     },
     "execution_count": 10,
     "metadata": {},
     "output_type": "execute_result"
    }
   ],
   "source": [
    "delta.shape"
   ]
  },
  {
   "cell_type": "markdown",
   "metadata": {},
   "source": [
    "# load MPRA data"
   ]
  },
  {
   "cell_type": "code",
   "execution_count": 11,
   "metadata": {
    "ExecuteTime": {
     "end_time": "2023-12-18T06:21:10.486262Z",
     "start_time": "2023-12-18T06:21:10.414244Z"
    }
   },
   "outputs": [
    {
     "data": {
      "text/html": [
       "<div>\n",
       "<style scoped>\n",
       "    .dataframe tbody tr th:only-of-type {\n",
       "        vertical-align: middle;\n",
       "    }\n",
       "\n",
       "    .dataframe tbody tr th {\n",
       "        vertical-align: top;\n",
       "    }\n",
       "\n",
       "    .dataframe thead th {\n",
       "        text-align: right;\n",
       "    }\n",
       "</style>\n",
       "<table border=\"1\" class=\"dataframe\">\n",
       "  <thead>\n",
       "    <tr style=\"text-align: right;\">\n",
       "      <th></th>\n",
       "      <th>name</th>\n",
       "      <th>gaba_log2_mean</th>\n",
       "      <th>glut_log2_mean</th>\n",
       "      <th>delta</th>\n",
       "      <th>delta_rank</th>\n",
       "    </tr>\n",
       "  </thead>\n",
       "  <tbody>\n",
       "    <tr>\n",
       "      <th>0</th>\n",
       "      <td>chr1:10339772-10340042</td>\n",
       "      <td>-1.602773</td>\n",
       "      <td>0.466691</td>\n",
       "      <td>-2.069465</td>\n",
       "      <td>1.0</td>\n",
       "    </tr>\n",
       "    <tr>\n",
       "      <th>1</th>\n",
       "      <td>chr6:154127563-154127833</td>\n",
       "      <td>-0.460660</td>\n",
       "      <td>1.393760</td>\n",
       "      <td>-1.854420</td>\n",
       "      <td>2.0</td>\n",
       "    </tr>\n",
       "    <tr>\n",
       "      <th>2</th>\n",
       "      <td>chr4:93216597-93216867</td>\n",
       "      <td>-1.373226</td>\n",
       "      <td>0.426283</td>\n",
       "      <td>-1.799509</td>\n",
       "      <td>3.0</td>\n",
       "    </tr>\n",
       "    <tr>\n",
       "      <th>3</th>\n",
       "      <td>chr9:127735295-127735565</td>\n",
       "      <td>-0.784093</td>\n",
       "      <td>1.010851</td>\n",
       "      <td>-1.794944</td>\n",
       "      <td>4.0</td>\n",
       "    </tr>\n",
       "    <tr>\n",
       "      <th>4</th>\n",
       "      <td>chr1:31376876-31377146</td>\n",
       "      <td>-0.500106</td>\n",
       "      <td>1.291683</td>\n",
       "      <td>-1.791789</td>\n",
       "      <td>5.0</td>\n",
       "    </tr>\n",
       "    <tr>\n",
       "      <th>...</th>\n",
       "      <td>...</td>\n",
       "      <td>...</td>\n",
       "      <td>...</td>\n",
       "      <td>...</td>\n",
       "      <td>...</td>\n",
       "    </tr>\n",
       "    <tr>\n",
       "      <th>35366</th>\n",
       "      <td>chr9:127613026-127613296</td>\n",
       "      <td>0.758066</td>\n",
       "      <td>-0.412615</td>\n",
       "      <td>1.170681</td>\n",
       "      <td>35367.0</td>\n",
       "    </tr>\n",
       "    <tr>\n",
       "      <th>35367</th>\n",
       "      <td>chr10:97633041-97633311</td>\n",
       "      <td>0.727817</td>\n",
       "      <td>-0.488544</td>\n",
       "      <td>1.216361</td>\n",
       "      <td>35368.0</td>\n",
       "    </tr>\n",
       "    <tr>\n",
       "      <th>35368</th>\n",
       "      <td>chr10:32056179-32056449</td>\n",
       "      <td>0.861082</td>\n",
       "      <td>-0.358334</td>\n",
       "      <td>1.219416</td>\n",
       "      <td>35369.0</td>\n",
       "    </tr>\n",
       "    <tr>\n",
       "      <th>35369</th>\n",
       "      <td>chr10:97633021-97633291</td>\n",
       "      <td>0.614040</td>\n",
       "      <td>-0.609305</td>\n",
       "      <td>1.223346</td>\n",
       "      <td>35370.0</td>\n",
       "    </tr>\n",
       "    <tr>\n",
       "      <th>35370</th>\n",
       "      <td>chr6:166342151-166342421</td>\n",
       "      <td>0.371675</td>\n",
       "      <td>-0.948190</td>\n",
       "      <td>1.319865</td>\n",
       "      <td>35371.0</td>\n",
       "    </tr>\n",
       "  </tbody>\n",
       "</table>\n",
       "<p>35371 rows × 5 columns</p>\n",
       "</div>"
      ],
      "text/plain": [
       "                           name  gaba_log2_mean  glut_log2_mean     delta  \\\n",
       "0        chr1:10339772-10340042       -1.602773        0.466691 -2.069465   \n",
       "1      chr6:154127563-154127833       -0.460660        1.393760 -1.854420   \n",
       "2        chr4:93216597-93216867       -1.373226        0.426283 -1.799509   \n",
       "3      chr9:127735295-127735565       -0.784093        1.010851 -1.794944   \n",
       "4        chr1:31376876-31377146       -0.500106        1.291683 -1.791789   \n",
       "...                         ...             ...             ...       ...   \n",
       "35366  chr9:127613026-127613296        0.758066       -0.412615  1.170681   \n",
       "35367   chr10:97633041-97633311        0.727817       -0.488544  1.216361   \n",
       "35368   chr10:32056179-32056449        0.861082       -0.358334  1.219416   \n",
       "35369   chr10:97633021-97633291        0.614040       -0.609305  1.223346   \n",
       "35370  chr6:166342151-166342421        0.371675       -0.948190  1.319865   \n",
       "\n",
       "       delta_rank  \n",
       "0             1.0  \n",
       "1             2.0  \n",
       "2             3.0  \n",
       "3             4.0  \n",
       "4             5.0  \n",
       "...           ...  \n",
       "35366     35367.0  \n",
       "35367     35368.0  \n",
       "35368     35369.0  \n",
       "35369     35370.0  \n",
       "35370     35371.0  \n",
       "\n",
       "[35371 rows x 5 columns]"
      ]
     },
     "execution_count": 11,
     "metadata": {},
     "output_type": "execute_result"
    }
   ],
   "source": [
    "mpra = pd.read_csv(MPRA)\n",
    "\n",
    "mpra"
   ]
  },
  {
   "cell_type": "markdown",
   "metadata": {},
   "source": [
    "## filter to keep only synthetics"
   ]
  },
  {
   "cell_type": "code",
   "execution_count": 16,
   "metadata": {
    "ExecuteTime": {
     "end_time": "2023-12-18T06:21:48.875366Z",
     "start_time": "2023-12-18T06:21:48.851188Z"
    }
   },
   "outputs": [],
   "source": [
    "mpra=mpra.loc[mpra[\"name\"].str.contains(\"seq\")]"
   ]
  },
  {
   "cell_type": "code",
   "execution_count": 17,
   "metadata": {
    "ExecuteTime": {
     "end_time": "2023-12-18T06:21:49.470900Z",
     "start_time": "2023-12-18T06:21:49.460538Z"
    }
   },
   "outputs": [
    {
     "name": "stdout",
     "output_type": "stream",
     "text": [
      "(968, 5)\n"
     ]
    },
    {
     "data": {
      "text/html": [
       "<div>\n",
       "<style scoped>\n",
       "    .dataframe tbody tr th:only-of-type {\n",
       "        vertical-align: middle;\n",
       "    }\n",
       "\n",
       "    .dataframe tbody tr th {\n",
       "        vertical-align: top;\n",
       "    }\n",
       "\n",
       "    .dataframe thead th {\n",
       "        text-align: right;\n",
       "    }\n",
       "</style>\n",
       "<table border=\"1\" class=\"dataframe\">\n",
       "  <thead>\n",
       "    <tr style=\"text-align: right;\">\n",
       "      <th></th>\n",
       "      <th>name</th>\n",
       "      <th>gaba_log2_mean</th>\n",
       "      <th>glut_log2_mean</th>\n",
       "      <th>delta</th>\n",
       "      <th>delta_rank</th>\n",
       "    </tr>\n",
       "  </thead>\n",
       "  <tbody>\n",
       "    <tr>\n",
       "      <th>7</th>\n",
       "      <td>Backgroundseq172hr_top_98|Pos1:115,Pos2:155|Mo...</td>\n",
       "      <td>-1.754227</td>\n",
       "      <td>-0.005828</td>\n",
       "      <td>-1.748399</td>\n",
       "      <td>8.0</td>\n",
       "    </tr>\n",
       "    <tr>\n",
       "      <th>8</th>\n",
       "      <td>Backgroundseq172hr_top_98|Pos1:115,Pos2:155|Mo...</td>\n",
       "      <td>-1.581979</td>\n",
       "      <td>0.136294</td>\n",
       "      <td>-1.718273</td>\n",
       "      <td>9.0</td>\n",
       "    </tr>\n",
       "    <tr>\n",
       "      <th>12</th>\n",
       "      <td>Backgroundseq172hr_top_98|Pos1:115,Pos2:155|Mo...</td>\n",
       "      <td>-1.807870</td>\n",
       "      <td>-0.113684</td>\n",
       "      <td>-1.694187</td>\n",
       "      <td>13.0</td>\n",
       "    </tr>\n",
       "    <tr>\n",
       "      <th>16</th>\n",
       "      <td>Backgroundseq172hr_top_98|Pos1:115,Pos2:155|Mo...</td>\n",
       "      <td>-1.809980</td>\n",
       "      <td>-0.147642</td>\n",
       "      <td>-1.662338</td>\n",
       "      <td>17.0</td>\n",
       "    </tr>\n",
       "    <tr>\n",
       "      <th>17</th>\n",
       "      <td>Backgroundseq172hr_top_98|Pos1:115,Pos2:155|Mo...</td>\n",
       "      <td>-1.470171</td>\n",
       "      <td>0.191895</td>\n",
       "      <td>-1.662066</td>\n",
       "      <td>18.0</td>\n",
       "    </tr>\n",
       "  </tbody>\n",
       "</table>\n",
       "</div>"
      ],
      "text/plain": [
       "                                                 name  gaba_log2_mean  \\\n",
       "7   Backgroundseq172hr_top_98|Pos1:115,Pos2:155|Mo...       -1.754227   \n",
       "8   Backgroundseq172hr_top_98|Pos1:115,Pos2:155|Mo...       -1.581979   \n",
       "12  Backgroundseq172hr_top_98|Pos1:115,Pos2:155|Mo...       -1.807870   \n",
       "16  Backgroundseq172hr_top_98|Pos1:115,Pos2:155|Mo...       -1.809980   \n",
       "17  Backgroundseq172hr_top_98|Pos1:115,Pos2:155|Mo...       -1.470171   \n",
       "\n",
       "    glut_log2_mean     delta  delta_rank  \n",
       "7        -0.005828 -1.748399         8.0  \n",
       "8         0.136294 -1.718273         9.0  \n",
       "12       -0.113684 -1.694187        13.0  \n",
       "16       -0.147642 -1.662338        17.0  \n",
       "17        0.191895 -1.662066        18.0  "
      ]
     },
     "execution_count": 17,
     "metadata": {},
     "output_type": "execute_result"
    }
   ],
   "source": [
    "print(mpra.shape)\n",
    "mpra.head()"
   ]
  },
  {
   "cell_type": "code",
   "execution_count": 19,
   "metadata": {
    "ExecuteTime": {
     "end_time": "2023-12-18T06:21:57.446934Z",
     "start_time": "2023-12-18T06:21:57.047996Z"
    }
   },
   "outputs": [
    {
     "data": {
      "image/png": "[encoded data removed]",
      "text/plain": [
       "<Figure size 400x400 with 1 Axes>"
      ]
     },
     "metadata": {},
     "output_type": "display_data"
    }
   ],
   "source": [
    "fig, ax = plt.subplots(figsize=(4,4))\n",
    "sns.histplot(mpra[\"delta\"])\n",
    "ax.set(title=\"delta MPRA\",\n",
    "      xlabel=\"delta\\nmean log2(gaba) - mean log2(glut)\")\n",
    "plt.savefig(os.path.join(RE, \"deltas.syn.pdf\"), bbox_inches=\"tight\")"
   ]
  },
  {
   "cell_type": "code",
   "execution_count": 20,
   "metadata": {
    "ExecuteTime": {
     "end_time": "2023-12-18T06:21:58.165951Z",
     "start_time": "2023-12-18T06:21:58.159033Z"
    }
   },
   "outputs": [
    {
     "data": {
      "text/plain": [
       "count    968.000000\n",
       "mean      -0.694709\n",
       "std        0.331497\n",
       "min       -1.748399\n",
       "25%       -0.877441\n",
       "50%       -0.617139\n",
       "75%       -0.488991\n",
       "max        0.576515\n",
       "Name: delta, dtype: float64"
      ]
     },
     "execution_count": 20,
     "metadata": {},
     "output_type": "execute_result"
    }
   ],
   "source": [
    "mpra[\"delta\"].describe()"
   ]
  },
  {
   "cell_type": "code",
   "execution_count": 21,
   "metadata": {
    "ExecuteTime": {
     "end_time": "2023-12-18T06:22:03.865286Z",
     "start_time": "2023-12-18T06:22:03.858131Z"
    }
   },
   "outputs": [
    {
     "data": {
      "text/plain": [
       "{False, True}"
      ]
     },
     "execution_count": 21,
     "metadata": {},
     "output_type": "execute_result"
    }
   ],
   "source": [
    "set(meta[\"bkgd\"])"
   ]
  },
  {
   "cell_type": "code",
   "execution_count": 22,
   "metadata": {
    "ExecuteTime": {
     "end_time": "2023-12-18T06:22:05.903545Z",
     "start_time": "2023-12-18T06:22:05.898802Z"
    }
   },
   "outputs": [
    {
     "data": {
      "text/plain": [
       "(44044, 15)"
      ]
     },
     "execution_count": 22,
     "metadata": {},
     "output_type": "execute_result"
    }
   ],
   "source": [
    "meta.shape"
   ]
  },
  {
   "cell_type": "markdown",
   "metadata": {},
   "source": [
    "# add GREAT annotations to fasta meta data"
   ]
  },
  {
   "cell_type": "code",
   "execution_count": 24,
   "metadata": {
    "ExecuteTime": {
     "end_time": "2023-12-18T06:22:16.296628Z",
     "start_time": "2023-12-18T06:22:16.277576Z"
    }
   },
   "outputs": [
    {
     "name": "stdout",
     "output_type": "stream",
     "text": [
      "(1296, 15)\n"
     ]
    },
    {
     "data": {
      "text/html": [
       "<div>\n",
       "<style scoped>\n",
       "    .dataframe tbody tr th:only-of-type {\n",
       "        vertical-align: middle;\n",
       "    }\n",
       "\n",
       "    .dataframe tbody tr th {\n",
       "        vertical-align: top;\n",
       "    }\n",
       "\n",
       "    .dataframe thead th {\n",
       "        text-align: right;\n",
       "    }\n",
       "</style>\n",
       "<table border=\"1\" class=\"dataframe\">\n",
       "  <thead>\n",
       "    <tr style=\"text-align: right;\">\n",
       "      <th></th>\n",
       "      <th>name</th>\n",
       "      <th>sequence</th>\n",
       "      <th>bkgd</th>\n",
       "      <th>72h</th>\n",
       "      <th>ctrl</th>\n",
       "      <th>cl</th>\n",
       "      <th>coor</th>\n",
       "      <th>top_bottom</th>\n",
       "      <th>strand</th>\n",
       "      <th>#chr</th>\n",
       "      <th>start.tile</th>\n",
       "      <th>end.tile</th>\n",
       "      <th>enh.id</th>\n",
       "      <th>enh.name</th>\n",
       "      <th>tile.order</th>\n",
       "    </tr>\n",
       "  </thead>\n",
       "  <tbody>\n",
       "    <tr>\n",
       "      <th>3791</th>\n",
       "      <td>Backgroundseq2chr1:244100624-244100893:+|Pos:1...</td>\n",
       "      <td>AGGACCGGATCAACTGGGAAGCGTTTTTATTCAATCTGATACCCTC...</td>\n",
       "      <td>True</td>\n",
       "      <td>NaN</td>\n",
       "      <td>NaN</td>\n",
       "      <td>NaN</td>\n",
       "      <td>chr1:244100624-244100893</td>\n",
       "      <td>NaN</td>\n",
       "      <td>+</td>\n",
       "      <td>chr1</td>\n",
       "      <td>244100624</td>\n",
       "      <td>244100893</td>\n",
       "      <td>Background seq2 chr1:244100624-244100893</td>\n",
       "      <td>enh.0</td>\n",
       "      <td>627.0</td>\n",
       "    </tr>\n",
       "    <tr>\n",
       "      <th>3792</th>\n",
       "      <td>Backgroundseq2chr1:244100624-244100893:+|Pos:1...</td>\n",
       "      <td>AGGACCGGATCAACTGGGAAGCGTTTTTATTCAATCTGATACCCTC...</td>\n",
       "      <td>True</td>\n",
       "      <td>NaN</td>\n",
       "      <td>NaN</td>\n",
       "      <td>NaN</td>\n",
       "      <td>chr1:244100624-244100893</td>\n",
       "      <td>NaN</td>\n",
       "      <td>+</td>\n",
       "      <td>chr1</td>\n",
       "      <td>244100624</td>\n",
       "      <td>244100893</td>\n",
       "      <td>Background seq2 chr1:244100624-244100893</td>\n",
       "      <td>enh.0</td>\n",
       "      <td>603.0</td>\n",
       "    </tr>\n",
       "    <tr>\n",
       "      <th>3793</th>\n",
       "      <td>Backgroundseq2chr1:244100624-244100893:+|Pos:1...</td>\n",
       "      <td>AGGACCGGATCAACTGGGAAGCGTTTTTATTCAATCTGATACCCTC...</td>\n",
       "      <td>True</td>\n",
       "      <td>NaN</td>\n",
       "      <td>NaN</td>\n",
       "      <td>NaN</td>\n",
       "      <td>chr1:244100624-244100893</td>\n",
       "      <td>NaN</td>\n",
       "      <td>+</td>\n",
       "      <td>chr1</td>\n",
       "      <td>244100624</td>\n",
       "      <td>244100893</td>\n",
       "      <td>Background seq2 chr1:244100624-244100893</td>\n",
       "      <td>enh.0</td>\n",
       "      <td>579.0</td>\n",
       "    </tr>\n",
       "    <tr>\n",
       "      <th>3794</th>\n",
       "      <td>Backgroundseq2chr1:244100624-244100893:+|Pos:1...</td>\n",
       "      <td>AGGACCGGATCAACTGGGAAGCGTTTTTATTCAATCTGATACCCTC...</td>\n",
       "      <td>True</td>\n",
       "      <td>NaN</td>\n",
       "      <td>NaN</td>\n",
       "      <td>NaN</td>\n",
       "      <td>chr1:244100624-244100893</td>\n",
       "      <td>NaN</td>\n",
       "      <td>+</td>\n",
       "      <td>chr1</td>\n",
       "      <td>244100624</td>\n",
       "      <td>244100893</td>\n",
       "      <td>Background seq2 chr1:244100624-244100893</td>\n",
       "      <td>enh.0</td>\n",
       "      <td>555.0</td>\n",
       "    </tr>\n",
       "    <tr>\n",
       "      <th>3795</th>\n",
       "      <td>Backgroundseq2chr1:244100624-244100893:+|Pos:1...</td>\n",
       "      <td>AGGACCGGATCAACTGGGAAGCGTTTTTATTCAATCTGATACCCTC...</td>\n",
       "      <td>True</td>\n",
       "      <td>NaN</td>\n",
       "      <td>NaN</td>\n",
       "      <td>NaN</td>\n",
       "      <td>chr1:244100624-244100893</td>\n",
       "      <td>NaN</td>\n",
       "      <td>+</td>\n",
       "      <td>chr1</td>\n",
       "      <td>244100624</td>\n",
       "      <td>244100893</td>\n",
       "      <td>Background seq2 chr1:244100624-244100893</td>\n",
       "      <td>enh.0</td>\n",
       "      <td>629.0</td>\n",
       "    </tr>\n",
       "  </tbody>\n",
       "</table>\n",
       "</div>"
      ],
      "text/plain": [
       "                                                   name  \\\n",
       "3791  Backgroundseq2chr1:244100624-244100893:+|Pos:1...   \n",
       "3792  Backgroundseq2chr1:244100624-244100893:+|Pos:1...   \n",
       "3793  Backgroundseq2chr1:244100624-244100893:+|Pos:1...   \n",
       "3794  Backgroundseq2chr1:244100624-244100893:+|Pos:1...   \n",
       "3795  Backgroundseq2chr1:244100624-244100893:+|Pos:1...   \n",
       "\n",
       "                                               sequence  bkgd  72h ctrl   cl  \\\n",
       "3791  AGGACCGGATCAACTGGGAAGCGTTTTTATTCAATCTGATACCCTC...  True  NaN  NaN  NaN   \n",
       "3792  AGGACCGGATCAACTGGGAAGCGTTTTTATTCAATCTGATACCCTC...  True  NaN  NaN  NaN   \n",
       "3793  AGGACCGGATCAACTGGGAAGCGTTTTTATTCAATCTGATACCCTC...  True  NaN  NaN  NaN   \n",
       "3794  AGGACCGGATCAACTGGGAAGCGTTTTTATTCAATCTGATACCCTC...  True  NaN  NaN  NaN   \n",
       "3795  AGGACCGGATCAACTGGGAAGCGTTTTTATTCAATCTGATACCCTC...  True  NaN  NaN  NaN   \n",
       "\n",
       "                          coor top_bottom strand  #chr  start.tile   end.tile  \\\n",
       "3791  chr1:244100624-244100893        NaN      +  chr1   244100624  244100893   \n",
       "3792  chr1:244100624-244100893        NaN      +  chr1   244100624  244100893   \n",
       "3793  chr1:244100624-244100893        NaN      +  chr1   244100624  244100893   \n",
       "3794  chr1:244100624-244100893        NaN      +  chr1   244100624  244100893   \n",
       "3795  chr1:244100624-244100893        NaN      +  chr1   244100624  244100893   \n",
       "\n",
       "                                        enh.id enh.name  tile.order  \n",
       "3791  Background seq2 chr1:244100624-244100893    enh.0       627.0  \n",
       "3792  Background seq2 chr1:244100624-244100893    enh.0       603.0  \n",
       "3793  Background seq2 chr1:244100624-244100893    enh.0       579.0  \n",
       "3794  Background seq2 chr1:244100624-244100893    enh.0       555.0  \n",
       "3795  Background seq2 chr1:244100624-244100893    enh.0       629.0  "
      ]
     },
     "execution_count": 24,
     "metadata": {},
     "output_type": "execute_result"
    }
   ],
   "source": [
    "enh = meta.loc[meta[\"bkgd\"]==True]\n",
    "\n",
    "# rename columns for merging with MPRA data\n",
    "enh = enh.rename(columns ={\"start\":\"start.tile\",\n",
    "                           \"end\":\"end.tile\"})\n",
    "\n",
    "print(enh.shape)\n",
    "enh.head()"
   ]
  },
  {
   "cell_type": "markdown",
   "metadata": {},
   "source": [
    "# add MPRA"
   ]
  },
  {
   "cell_type": "code",
   "execution_count": 25,
   "metadata": {
    "ExecuteTime": {
     "end_time": "2023-12-18T06:22:18.097063Z",
     "start_time": "2023-12-18T06:22:18.057910Z"
    }
   },
   "outputs": [
    {
     "name": "stdout",
     "output_type": "stream",
     "text": [
      "(1296, 19)\n"
     ]
    },
    {
     "data": {
      "text/html": [
       "<div>\n",
       "<style scoped>\n",
       "    .dataframe tbody tr th:only-of-type {\n",
       "        vertical-align: middle;\n",
       "    }\n",
       "\n",
       "    .dataframe tbody tr th {\n",
       "        vertical-align: top;\n",
       "    }\n",
       "\n",
       "    .dataframe thead th {\n",
       "        text-align: right;\n",
       "    }\n",
       "</style>\n",
       "<table border=\"1\" class=\"dataframe\">\n",
       "  <thead>\n",
       "    <tr style=\"text-align: right;\">\n",
       "      <th></th>\n",
       "      <th>name</th>\n",
       "      <th>sequence</th>\n",
       "      <th>bkgd</th>\n",
       "      <th>72h</th>\n",
       "      <th>ctrl</th>\n",
       "      <th>cl</th>\n",
       "      <th>coor</th>\n",
       "      <th>top_bottom</th>\n",
       "      <th>strand</th>\n",
       "      <th>#chr</th>\n",
       "      <th>start.tile</th>\n",
       "      <th>end.tile</th>\n",
       "      <th>enh.id</th>\n",
       "      <th>enh.name</th>\n",
       "      <th>tile.order</th>\n",
       "      <th>gaba_log2_mean</th>\n",
       "      <th>glut_log2_mean</th>\n",
       "      <th>delta</th>\n",
       "      <th>delta_rank</th>\n",
       "    </tr>\n",
       "  </thead>\n",
       "  <tbody>\n",
       "    <tr>\n",
       "      <th>0</th>\n",
       "      <td>Backgroundseq2chr1:244100624-244100893:+|Pos:1...</td>\n",
       "      <td>AGGACCGGATCAACTGGGAAGCGTTTTTATTCAATCTGATACCCTC...</td>\n",
       "      <td>True</td>\n",
       "      <td>NaN</td>\n",
       "      <td>NaN</td>\n",
       "      <td>NaN</td>\n",
       "      <td>chr1:244100624-244100893</td>\n",
       "      <td>NaN</td>\n",
       "      <td>+</td>\n",
       "      <td>chr1</td>\n",
       "      <td>244100624</td>\n",
       "      <td>244100893</td>\n",
       "      <td>Background seq2 chr1:244100624-244100893</td>\n",
       "      <td>enh.0</td>\n",
       "      <td>627.0</td>\n",
       "      <td>-1.527215</td>\n",
       "      <td>-0.690321</td>\n",
       "      <td>-0.836894</td>\n",
       "      <td>1646.0</td>\n",
       "    </tr>\n",
       "    <tr>\n",
       "      <th>1</th>\n",
       "      <td>Backgroundseq2chr1:244100624-244100893:+|Pos:1...</td>\n",
       "      <td>AGGACCGGATCAACTGGGAAGCGTTTTTATTCAATCTGATACCCTC...</td>\n",
       "      <td>True</td>\n",
       "      <td>NaN</td>\n",
       "      <td>NaN</td>\n",
       "      <td>NaN</td>\n",
       "      <td>chr1:244100624-244100893</td>\n",
       "      <td>NaN</td>\n",
       "      <td>+</td>\n",
       "      <td>chr1</td>\n",
       "      <td>244100624</td>\n",
       "      <td>244100893</td>\n",
       "      <td>Background seq2 chr1:244100624-244100893</td>\n",
       "      <td>enh.0</td>\n",
       "      <td>603.0</td>\n",
       "      <td>-1.283744</td>\n",
       "      <td>-0.738124</td>\n",
       "      <td>-0.545619</td>\n",
       "      <td>4857.0</td>\n",
       "    </tr>\n",
       "    <tr>\n",
       "      <th>2</th>\n",
       "      <td>Backgroundseq2chr1:244100624-244100893:+|Pos:1...</td>\n",
       "      <td>AGGACCGGATCAACTGGGAAGCGTTTTTATTCAATCTGATACCCTC...</td>\n",
       "      <td>True</td>\n",
       "      <td>NaN</td>\n",
       "      <td>NaN</td>\n",
       "      <td>NaN</td>\n",
       "      <td>chr1:244100624-244100893</td>\n",
       "      <td>NaN</td>\n",
       "      <td>+</td>\n",
       "      <td>chr1</td>\n",
       "      <td>244100624</td>\n",
       "      <td>244100893</td>\n",
       "      <td>Background seq2 chr1:244100624-244100893</td>\n",
       "      <td>enh.0</td>\n",
       "      <td>579.0</td>\n",
       "      <td>-1.591621</td>\n",
       "      <td>-0.832101</td>\n",
       "      <td>-0.759520</td>\n",
       "      <td>2236.0</td>\n",
       "    </tr>\n",
       "    <tr>\n",
       "      <th>3</th>\n",
       "      <td>Backgroundseq2chr1:244100624-244100893:+|Pos:1...</td>\n",
       "      <td>AGGACCGGATCAACTGGGAAGCGTTTTTATTCAATCTGATACCCTC...</td>\n",
       "      <td>True</td>\n",
       "      <td>NaN</td>\n",
       "      <td>NaN</td>\n",
       "      <td>NaN</td>\n",
       "      <td>chr1:244100624-244100893</td>\n",
       "      <td>NaN</td>\n",
       "      <td>+</td>\n",
       "      <td>chr1</td>\n",
       "      <td>244100624</td>\n",
       "      <td>244100893</td>\n",
       "      <td>Background seq2 chr1:244100624-244100893</td>\n",
       "      <td>enh.0</td>\n",
       "      <td>555.0</td>\n",
       "      <td>NaN</td>\n",
       "      <td>NaN</td>\n",
       "      <td>NaN</td>\n",
       "      <td>NaN</td>\n",
       "    </tr>\n",
       "    <tr>\n",
       "      <th>4</th>\n",
       "      <td>Backgroundseq2chr1:244100624-244100893:+|Pos:1...</td>\n",
       "      <td>AGGACCGGATCAACTGGGAAGCGTTTTTATTCAATCTGATACCCTC...</td>\n",
       "      <td>True</td>\n",
       "      <td>NaN</td>\n",
       "      <td>NaN</td>\n",
       "      <td>NaN</td>\n",
       "      <td>chr1:244100624-244100893</td>\n",
       "      <td>NaN</td>\n",
       "      <td>+</td>\n",
       "      <td>chr1</td>\n",
       "      <td>244100624</td>\n",
       "      <td>244100893</td>\n",
       "      <td>Background seq2 chr1:244100624-244100893</td>\n",
       "      <td>enh.0</td>\n",
       "      <td>629.0</td>\n",
       "      <td>-1.456528</td>\n",
       "      <td>-0.845583</td>\n",
       "      <td>-0.610945</td>\n",
       "      <td>3856.0</td>\n",
       "    </tr>\n",
       "  </tbody>\n",
       "</table>\n",
       "</div>"
      ],
      "text/plain": [
       "                                                name  \\\n",
       "0  Backgroundseq2chr1:244100624-244100893:+|Pos:1...   \n",
       "1  Backgroundseq2chr1:244100624-244100893:+|Pos:1...   \n",
       "2  Backgroundseq2chr1:244100624-244100893:+|Pos:1...   \n",
       "3  Backgroundseq2chr1:244100624-244100893:+|Pos:1...   \n",
       "4  Backgroundseq2chr1:244100624-244100893:+|Pos:1...   \n",
       "\n",
       "                                            sequence  bkgd  72h ctrl   cl  \\\n",
       "0  AGGACCGGATCAACTGGGAAGCGTTTTTATTCAATCTGATACCCTC...  True  NaN  NaN  NaN   \n",
       "1  AGGACCGGATCAACTGGGAAGCGTTTTTATTCAATCTGATACCCTC...  True  NaN  NaN  NaN   \n",
       "2  AGGACCGGATCAACTGGGAAGCGTTTTTATTCAATCTGATACCCTC...  True  NaN  NaN  NaN   \n",
       "3  AGGACCGGATCAACTGGGAAGCGTTTTTATTCAATCTGATACCCTC...  True  NaN  NaN  NaN   \n",
       "4  AGGACCGGATCAACTGGGAAGCGTTTTTATTCAATCTGATACCCTC...  True  NaN  NaN  NaN   \n",
       "\n",
       "                       coor top_bottom strand  #chr  start.tile   end.tile  \\\n",
       "0  chr1:244100624-244100893        NaN      +  chr1   244100624  244100893   \n",
       "1  chr1:244100624-244100893        NaN      +  chr1   244100624  244100893   \n",
       "2  chr1:244100624-244100893        NaN      +  chr1   244100624  244100893   \n",
       "3  chr1:244100624-244100893        NaN      +  chr1   244100624  244100893   \n",
       "4  chr1:244100624-244100893        NaN      +  chr1   244100624  244100893   \n",
       "\n",
       "                                     enh.id enh.name  tile.order  \\\n",
       "0  Background seq2 chr1:244100624-244100893    enh.0       627.0   \n",
       "1  Background seq2 chr1:244100624-244100893    enh.0       603.0   \n",
       "2  Background seq2 chr1:244100624-244100893    enh.0       579.0   \n",
       "3  Background seq2 chr1:244100624-244100893    enh.0       555.0   \n",
       "4  Background seq2 chr1:244100624-244100893    enh.0       629.0   \n",
       "\n",
       "   gaba_log2_mean  glut_log2_mean     delta  delta_rank  \n",
       "0       -1.527215       -0.690321 -0.836894      1646.0  \n",
       "1       -1.283744       -0.738124 -0.545619      4857.0  \n",
       "2       -1.591621       -0.832101 -0.759520      2236.0  \n",
       "3             NaN             NaN       NaN         NaN  \n",
       "4       -1.456528       -0.845583 -0.610945      3856.0  "
      ]
     },
     "execution_count": 25,
     "metadata": {},
     "output_type": "execute_result"
    }
   ],
   "source": [
    "enh = pd.merge(enh, mpra, how=\"left\", left_on=\"name\",\n",
    "               right_on=\"name\").drop_duplicates()\n",
    "print(enh.shape)\n",
    "enh.head()"
   ]
  },
  {
   "cell_type": "code",
   "execution_count": 26,
   "metadata": {
    "ExecuteTime": {
     "end_time": "2023-12-18T06:22:22.762128Z",
     "start_time": "2023-12-18T06:22:22.724428Z"
    }
   },
   "outputs": [
    {
     "data": {
      "text/plain": [
       "(1296, 28)"
      ]
     },
     "execution_count": 26,
     "metadata": {},
     "output_type": "execute_result"
    }
   ],
   "source": [
    "enh = pd.merge(enh, delta, how=\"left\", left_on =\"name\", right_on=\"name\").drop_duplicates()\n",
    "\n",
    "enh.shape"
   ]
  },
  {
   "cell_type": "markdown",
   "metadata": {},
   "source": [
    "# add significance data"
   ]
  },
  {
   "cell_type": "code",
   "execution_count": 28,
   "metadata": {
    "ExecuteTime": {
     "end_time": "2023-12-18T06:22:33.040701Z",
     "start_time": "2023-12-18T06:22:32.921179Z"
    }
   },
   "outputs": [
    {
     "name": "stdout",
     "output_type": "stream",
     "text": [
      "(35371, 11)\n"
     ]
    },
    {
     "data": {
      "text/html": [
       "<div>\n",
       "<style scoped>\n",
       "    .dataframe tbody tr th:only-of-type {\n",
       "        vertical-align: middle;\n",
       "    }\n",
       "\n",
       "    .dataframe tbody tr th {\n",
       "        vertical-align: top;\n",
       "    }\n",
       "\n",
       "    .dataframe thead th {\n",
       "        text-align: right;\n",
       "    }\n",
       "</style>\n",
       "<table border=\"1\" class=\"dataframe\">\n",
       "  <thead>\n",
       "    <tr style=\"text-align: right;\">\n",
       "      <th></th>\n",
       "      <th>name</th>\n",
       "      <th>gaba_1</th>\n",
       "      <th>gaba_2</th>\n",
       "      <th>gaba_3</th>\n",
       "      <th>glut_1</th>\n",
       "      <th>glut_2</th>\n",
       "      <th>glut_3</th>\n",
       "      <th>pval</th>\n",
       "      <th>fdr_bool</th>\n",
       "      <th>fdr</th>\n",
       "      <th>-log10p_fdr</th>\n",
       "    </tr>\n",
       "  </thead>\n",
       "  <tbody>\n",
       "    <tr>\n",
       "      <th>0</th>\n",
       "      <td>Backgroundseq172hr_top_98|Pos1:115,Pos2:155|Mo...</td>\n",
       "      <td>-2.794103</td>\n",
       "      <td>-2.970164</td>\n",
       "      <td>-2.334829</td>\n",
       "      <td>-1.249982</td>\n",
       "      <td>-1.717908</td>\n",
       "      <td>-2.121743</td>\n",
       "      <td>0.037107</td>\n",
       "      <td>False</td>\n",
       "      <td>0.119390</td>\n",
       "      <td>0.923032</td>\n",
       "    </tr>\n",
       "    <tr>\n",
       "      <th>1</th>\n",
       "      <td>Backgroundseq172hr_top_98|Pos1:115,Pos2:155|Mo...</td>\n",
       "      <td>-2.671559</td>\n",
       "      <td>-2.830269</td>\n",
       "      <td>-2.548998</td>\n",
       "      <td>-1.803647</td>\n",
       "      <td>-3.098993</td>\n",
       "      <td>-0.318147</td>\n",
       "      <td>0.361064</td>\n",
       "      <td>False</td>\n",
       "      <td>0.493535</td>\n",
       "      <td>0.306682</td>\n",
       "    </tr>\n",
       "    <tr>\n",
       "      <th>2</th>\n",
       "      <td>Backgroundseq172hr_top_98|Pos1:115,Pos2:155|Mo...</td>\n",
       "      <td>-2.273753</td>\n",
       "      <td>-2.155235</td>\n",
       "      <td>-2.255196</td>\n",
       "      <td>-2.009413</td>\n",
       "      <td>-2.922402</td>\n",
       "      <td>-0.596232</td>\n",
       "      <td>0.626615</td>\n",
       "      <td>False</td>\n",
       "      <td>0.728743</td>\n",
       "      <td>0.137425</td>\n",
       "    </tr>\n",
       "    <tr>\n",
       "      <th>3</th>\n",
       "      <td>Backgroundseq172hr_top_98|Pos1:115,Pos2:155|Mo...</td>\n",
       "      <td>-2.705924</td>\n",
       "      <td>-2.665966</td>\n",
       "      <td>-2.627832</td>\n",
       "      <td>-0.626111</td>\n",
       "      <td>-2.827502</td>\n",
       "      <td>-1.210420</td>\n",
       "      <td>0.233208</td>\n",
       "      <td>False</td>\n",
       "      <td>0.364764</td>\n",
       "      <td>0.437989</td>\n",
       "    </tr>\n",
       "    <tr>\n",
       "      <th>4</th>\n",
       "      <td>Backgroundseq172hr_top_98|Pos1:115,Pos2:155|Mo...</td>\n",
       "      <td>-2.645673</td>\n",
       "      <td>-2.565910</td>\n",
       "      <td>-3.058675</td>\n",
       "      <td>-2.246619</td>\n",
       "      <td>-1.618896</td>\n",
       "      <td>-3.649946</td>\n",
       "      <td>0.719958</td>\n",
       "      <td>False</td>\n",
       "      <td>0.801537</td>\n",
       "      <td>0.096076</td>\n",
       "    </tr>\n",
       "  </tbody>\n",
       "</table>\n",
       "</div>"
      ],
      "text/plain": [
       "                                                name    gaba_1    gaba_2  \\\n",
       "0  Backgroundseq172hr_top_98|Pos1:115,Pos2:155|Mo... -2.794103 -2.970164   \n",
       "1  Backgroundseq172hr_top_98|Pos1:115,Pos2:155|Mo... -2.671559 -2.830269   \n",
       "2  Backgroundseq172hr_top_98|Pos1:115,Pos2:155|Mo... -2.273753 -2.155235   \n",
       "3  Backgroundseq172hr_top_98|Pos1:115,Pos2:155|Mo... -2.705924 -2.665966   \n",
       "4  Backgroundseq172hr_top_98|Pos1:115,Pos2:155|Mo... -2.645673 -2.565910   \n",
       "\n",
       "     gaba_3    glut_1    glut_2    glut_3      pval  fdr_bool       fdr  \\\n",
       "0 -2.334829 -1.249982 -1.717908 -2.121743  0.037107     False  0.119390   \n",
       "1 -2.548998 -1.803647 -3.098993 -0.318147  0.361064     False  0.493535   \n",
       "2 -2.255196 -2.009413 -2.922402 -0.596232  0.626615     False  0.728743   \n",
       "3 -2.627832 -0.626111 -2.827502 -1.210420  0.233208     False  0.364764   \n",
       "4 -3.058675 -2.246619 -1.618896 -3.649946  0.719958     False  0.801537   \n",
       "\n",
       "   -log10p_fdr  \n",
       "0     0.923032  \n",
       "1     0.306682  \n",
       "2     0.137425  \n",
       "3     0.437989  \n",
       "4     0.096076  "
      ]
     },
     "execution_count": 28,
     "metadata": {},
     "output_type": "execute_result"
    }
   ],
   "source": [
    "sig_reps= pd.read_csv(SIG_ACTIVITY_Z, sep='\\t')\n",
    "print(sig_reps.shape)\n",
    "sig_reps.head()"
   ]
  },
  {
   "cell_type": "code",
   "execution_count": 41,
   "metadata": {
    "ExecuteTime": {
     "end_time": "2023-12-18T06:25:46.775606Z",
     "start_time": "2023-12-18T06:25:46.758368Z"
    }
   },
   "outputs": [
    {
     "data": {
      "text/plain": [
       "fdr_bool\n",
       "False    945\n",
       "True      23\n",
       "Name: name, dtype: int64"
      ]
     },
     "execution_count": 41,
     "metadata": {},
     "output_type": "execute_result"
    }
   ],
   "source": [
    "sig_reps.loc[sig_reps[\"name\"].isin(enh['name'])].groupby([\"fdr_bool\"])[\"name\"].count()"
   ]
  },
  {
   "cell_type": "markdown",
   "metadata": {},
   "source": [
    "## example of significant, non-significant reps"
   ]
  },
  {
   "cell_type": "code",
   "execution_count": 31,
   "metadata": {
    "ExecuteTime": {
     "end_time": "2023-12-15T20:11:49.281632Z",
     "start_time": "2023-12-15T20:11:49.268707Z"
    }
   },
   "outputs": [
    {
     "data": {
      "text/html": [
       "<div>\n",
       "<style scoped>\n",
       "    .dataframe tbody tr th:only-of-type {\n",
       "        vertical-align: middle;\n",
       "    }\n",
       "\n",
       "    .dataframe tbody tr th {\n",
       "        vertical-align: top;\n",
       "    }\n",
       "\n",
       "    .dataframe thead th {\n",
       "        text-align: right;\n",
       "    }\n",
       "</style>\n",
       "<table border=\"1\" class=\"dataframe\">\n",
       "  <thead>\n",
       "    <tr style=\"text-align: right;\">\n",
       "      <th></th>\n",
       "      <th>name</th>\n",
       "      <th>gaba_1</th>\n",
       "      <th>gaba_2</th>\n",
       "      <th>gaba_3</th>\n",
       "      <th>glut_1</th>\n",
       "      <th>glut_2</th>\n",
       "      <th>glut_3</th>\n",
       "      <th>pval</th>\n",
       "      <th>fdr_bool</th>\n",
       "      <th>fdr</th>\n",
       "      <th>-log10p_fdr</th>\n",
       "    </tr>\n",
       "  </thead>\n",
       "  <tbody>\n",
       "    <tr>\n",
       "      <th>12595</th>\n",
       "      <td>chr19:38683388-38683658</td>\n",
       "      <td>-0.331170</td>\n",
       "      <td>-0.318816</td>\n",
       "      <td>-0.526820</td>\n",
       "      <td>0.206726</td>\n",
       "      <td>-0.166254</td>\n",
       "      <td>-0.353077</td>\n",
       "      <td>0.215353</td>\n",
       "      <td>False</td>\n",
       "      <td>0.338666</td>\n",
       "      <td>0.470228</td>\n",
       "    </tr>\n",
       "    <tr>\n",
       "      <th>13122</th>\n",
       "      <td>chr19:57614522-57614792</td>\n",
       "      <td>0.793339</td>\n",
       "      <td>0.222935</td>\n",
       "      <td>0.188583</td>\n",
       "      <td>-0.543947</td>\n",
       "      <td>0.602737</td>\n",
       "      <td>0.390731</td>\n",
       "      <td>0.574851</td>\n",
       "      <td>False</td>\n",
       "      <td>0.679865</td>\n",
       "      <td>0.167577</td>\n",
       "    </tr>\n",
       "    <tr>\n",
       "      <th>26139</th>\n",
       "      <td>chr5:132865985-132866255</td>\n",
       "      <td>-0.090345</td>\n",
       "      <td>0.201754</td>\n",
       "      <td>0.096167</td>\n",
       "      <td>-0.364075</td>\n",
       "      <td>-0.711829</td>\n",
       "      <td>-0.110003</td>\n",
       "      <td>0.099372</td>\n",
       "      <td>False</td>\n",
       "      <td>0.203918</td>\n",
       "      <td>0.690545</td>\n",
       "    </tr>\n",
       "  </tbody>\n",
       "</table>\n",
       "</div>"
      ],
      "text/plain": [
       "                           name    gaba_1    gaba_2    gaba_3    glut_1  \\\n",
       "12595   chr19:38683388-38683658 -0.331170 -0.318816 -0.526820  0.206726   \n",
       "13122   chr19:57614522-57614792  0.793339  0.222935  0.188583 -0.543947   \n",
       "26139  chr5:132865985-132866255 -0.090345  0.201754  0.096167 -0.364075   \n",
       "\n",
       "         glut_2    glut_3      pval  fdr_bool       fdr  -log10p_fdr  \n",
       "12595 -0.166254 -0.353077  0.215353     False  0.338666     0.470228  \n",
       "13122  0.602737  0.390731  0.574851     False  0.679865     0.167577  \n",
       "26139 -0.711829 -0.110003  0.099372     False  0.203918     0.690545  "
      ]
     },
     "execution_count": 31,
     "metadata": {},
     "output_type": "execute_result"
    }
   ],
   "source": [
    "sig_reps.sample(n=3)"
   ]
  },
  {
   "cell_type": "code",
   "execution_count": 30,
   "metadata": {
    "ExecuteTime": {
     "end_time": "2023-12-18T06:22:43.547024Z",
     "start_time": "2023-12-18T06:22:43.485585Z"
    }
   },
   "outputs": [
    {
     "data": {
      "text/html": [
       "<div>\n",
       "<style scoped>\n",
       "    .dataframe tbody tr th:only-of-type {\n",
       "        vertical-align: middle;\n",
       "    }\n",
       "\n",
       "    .dataframe tbody tr th {\n",
       "        vertical-align: top;\n",
       "    }\n",
       "\n",
       "    .dataframe thead th {\n",
       "        text-align: right;\n",
       "    }\n",
       "</style>\n",
       "<table border=\"1\" class=\"dataframe\">\n",
       "  <thead>\n",
       "    <tr style=\"text-align: right;\">\n",
       "      <th></th>\n",
       "      <th>name</th>\n",
       "      <th>sequence</th>\n",
       "      <th>bkgd</th>\n",
       "      <th>72h</th>\n",
       "      <th>ctrl</th>\n",
       "      <th>cl</th>\n",
       "      <th>coor</th>\n",
       "      <th>top_bottom</th>\n",
       "      <th>strand</th>\n",
       "      <th>#chr</th>\n",
       "      <th>...</th>\n",
       "      <th>fdr</th>\n",
       "      <th>-log10p_fdr</th>\n",
       "      <th>gaba_1</th>\n",
       "      <th>gaba_2</th>\n",
       "      <th>gaba_3</th>\n",
       "      <th>glut_1</th>\n",
       "      <th>glut_2</th>\n",
       "      <th>glut_3</th>\n",
       "      <th>pval</th>\n",
       "      <th>fdr_bool</th>\n",
       "    </tr>\n",
       "  </thead>\n",
       "  <tbody>\n",
       "    <tr>\n",
       "      <th>0</th>\n",
       "      <td>Backgroundseq2chr1:244100624-244100893:+|Pos:1...</td>\n",
       "      <td>AGGACCGGATCAACTGGGAAGCGTTTTTATTCAATCTGATACCCTC...</td>\n",
       "      <td>True</td>\n",
       "      <td>NaN</td>\n",
       "      <td>NaN</td>\n",
       "      <td>NaN</td>\n",
       "      <td>chr1:244100624-244100893</td>\n",
       "      <td>NaN</td>\n",
       "      <td>+</td>\n",
       "      <td>chr1</td>\n",
       "      <td>...</td>\n",
       "      <td>0.173911</td>\n",
       "      <td>0.759672</td>\n",
       "      <td>-2.421393</td>\n",
       "      <td>-2.184369</td>\n",
       "      <td>-2.227760</td>\n",
       "      <td>-1.956195</td>\n",
       "      <td>-1.840061</td>\n",
       "      <td>-1.376951</td>\n",
       "      <td>0.072685</td>\n",
       "      <td>False</td>\n",
       "    </tr>\n",
       "    <tr>\n",
       "      <th>1</th>\n",
       "      <td>Backgroundseq2chr1:244100624-244100893:+|Pos:1...</td>\n",
       "      <td>AGGACCGGATCAACTGGGAAGCGTTTTTATTCAATCTGATACCCTC...</td>\n",
       "      <td>True</td>\n",
       "      <td>NaN</td>\n",
       "      <td>NaN</td>\n",
       "      <td>NaN</td>\n",
       "      <td>chr1:244100624-244100893</td>\n",
       "      <td>NaN</td>\n",
       "      <td>+</td>\n",
       "      <td>chr1</td>\n",
       "      <td>...</td>\n",
       "      <td>0.817770</td>\n",
       "      <td>0.087369</td>\n",
       "      <td>-2.019538</td>\n",
       "      <td>-1.677746</td>\n",
       "      <td>-2.074945</td>\n",
       "      <td>-2.181752</td>\n",
       "      <td>-1.903716</td>\n",
       "      <td>-1.406938</td>\n",
       "      <td>0.741336</td>\n",
       "      <td>False</td>\n",
       "    </tr>\n",
       "    <tr>\n",
       "      <th>2</th>\n",
       "      <td>Backgroundseq2chr1:244100624-244100893:+|Pos:1...</td>\n",
       "      <td>AGGACCGGATCAACTGGGAAGCGTTTTTATTCAATCTGATACCCTC...</td>\n",
       "      <td>True</td>\n",
       "      <td>NaN</td>\n",
       "      <td>NaN</td>\n",
       "      <td>NaN</td>\n",
       "      <td>chr1:244100624-244100893</td>\n",
       "      <td>NaN</td>\n",
       "      <td>+</td>\n",
       "      <td>chr1</td>\n",
       "      <td>...</td>\n",
       "      <td>0.061749</td>\n",
       "      <td>1.209370</td>\n",
       "      <td>-2.352699</td>\n",
       "      <td>-2.466286</td>\n",
       "      <td>-2.295281</td>\n",
       "      <td>-2.131924</td>\n",
       "      <td>-1.977559</td>\n",
       "      <td>-2.010440</td>\n",
       "      <td>0.008621</td>\n",
       "      <td>False</td>\n",
       "    </tr>\n",
       "    <tr>\n",
       "      <th>3</th>\n",
       "      <td>Backgroundseq2chr1:244100624-244100893:+|Pos:1...</td>\n",
       "      <td>AGGACCGGATCAACTGGGAAGCGTTTTTATTCAATCTGATACCCTC...</td>\n",
       "      <td>True</td>\n",
       "      <td>NaN</td>\n",
       "      <td>NaN</td>\n",
       "      <td>NaN</td>\n",
       "      <td>chr1:244100624-244100893</td>\n",
       "      <td>NaN</td>\n",
       "      <td>+</td>\n",
       "      <td>chr1</td>\n",
       "      <td>...</td>\n",
       "      <td>NaN</td>\n",
       "      <td>NaN</td>\n",
       "      <td>NaN</td>\n",
       "      <td>NaN</td>\n",
       "      <td>NaN</td>\n",
       "      <td>NaN</td>\n",
       "      <td>NaN</td>\n",
       "      <td>NaN</td>\n",
       "      <td>NaN</td>\n",
       "      <td>NaN</td>\n",
       "    </tr>\n",
       "    <tr>\n",
       "      <th>4</th>\n",
       "      <td>Backgroundseq2chr1:244100624-244100893:+|Pos:1...</td>\n",
       "      <td>AGGACCGGATCAACTGGGAAGCGTTTTTATTCAATCTGATACCCTC...</td>\n",
       "      <td>True</td>\n",
       "      <td>NaN</td>\n",
       "      <td>NaN</td>\n",
       "      <td>NaN</td>\n",
       "      <td>chr1:244100624-244100893</td>\n",
       "      <td>NaN</td>\n",
       "      <td>+</td>\n",
       "      <td>chr1</td>\n",
       "      <td>...</td>\n",
       "      <td>0.591141</td>\n",
       "      <td>0.228309</td>\n",
       "      <td>-2.211512</td>\n",
       "      <td>-1.975496</td>\n",
       "      <td>-2.338388</td>\n",
       "      <td>-2.062864</td>\n",
       "      <td>-1.947051</td>\n",
       "      <td>-2.200030</td>\n",
       "      <td>0.466315</td>\n",
       "      <td>False</td>\n",
       "    </tr>\n",
       "  </tbody>\n",
       "</table>\n",
       "<p>5 rows × 36 columns</p>\n",
       "</div>"
      ],
      "text/plain": [
       "                                                name  \\\n",
       "0  Backgroundseq2chr1:244100624-244100893:+|Pos:1...   \n",
       "1  Backgroundseq2chr1:244100624-244100893:+|Pos:1...   \n",
       "2  Backgroundseq2chr1:244100624-244100893:+|Pos:1...   \n",
       "3  Backgroundseq2chr1:244100624-244100893:+|Pos:1...   \n",
       "4  Backgroundseq2chr1:244100624-244100893:+|Pos:1...   \n",
       "\n",
       "                                            sequence  bkgd  72h ctrl   cl  \\\n",
       "0  AGGACCGGATCAACTGGGAAGCGTTTTTATTCAATCTGATACCCTC...  True  NaN  NaN  NaN   \n",
       "1  AGGACCGGATCAACTGGGAAGCGTTTTTATTCAATCTGATACCCTC...  True  NaN  NaN  NaN   \n",
       "2  AGGACCGGATCAACTGGGAAGCGTTTTTATTCAATCTGATACCCTC...  True  NaN  NaN  NaN   \n",
       "3  AGGACCGGATCAACTGGGAAGCGTTTTTATTCAATCTGATACCCTC...  True  NaN  NaN  NaN   \n",
       "4  AGGACCGGATCAACTGGGAAGCGTTTTTATTCAATCTGATACCCTC...  True  NaN  NaN  NaN   \n",
       "\n",
       "                       coor top_bottom strand  #chr  ...       fdr  \\\n",
       "0  chr1:244100624-244100893        NaN      +  chr1  ...  0.173911   \n",
       "1  chr1:244100624-244100893        NaN      +  chr1  ...  0.817770   \n",
       "2  chr1:244100624-244100893        NaN      +  chr1  ...  0.061749   \n",
       "3  chr1:244100624-244100893        NaN      +  chr1  ...       NaN   \n",
       "4  chr1:244100624-244100893        NaN      +  chr1  ...  0.591141   \n",
       "\n",
       "   -log10p_fdr    gaba_1    gaba_2    gaba_3    glut_1    glut_2    glut_3  \\\n",
       "0     0.759672 -2.421393 -2.184369 -2.227760 -1.956195 -1.840061 -1.376951   \n",
       "1     0.087369 -2.019538 -1.677746 -2.074945 -2.181752 -1.903716 -1.406938   \n",
       "2     1.209370 -2.352699 -2.466286 -2.295281 -2.131924 -1.977559 -2.010440   \n",
       "3          NaN       NaN       NaN       NaN       NaN       NaN       NaN   \n",
       "4     0.228309 -2.211512 -1.975496 -2.338388 -2.062864 -1.947051 -2.200030   \n",
       "\n",
       "       pval fdr_bool  \n",
       "0  0.072685    False  \n",
       "1  0.741336    False  \n",
       "2  0.008621    False  \n",
       "3       NaN      NaN  \n",
       "4  0.466315    False  \n",
       "\n",
       "[5 rows x 36 columns]"
      ]
     },
     "execution_count": 30,
     "metadata": {},
     "output_type": "execute_result"
    }
   ],
   "source": [
    "enh= pd.merge(enh, sig_reps, how=\"left\").drop_duplicates()\n",
    "enh[\"sig\"] = enh[\"fdr\"].apply(lambda x: True if x<0.05 else False)\n",
    "\n",
    "enh[\"gaba\"] = enh[[\"gaba_1\", \"gaba_2\", \"gaba_3\"]].mean(axis=1)\n",
    "\n",
    "enh[\"glut\"] = enh[[\"glut_1\", \"glut_2\", \"glut_3\"]].mean(axis=1)\n",
    "enh[\"delta.gaba-glut\"] = enh[\"gaba\"]-enh[\"glut\"]\n",
    "\n",
    "enh.head()"
   ]
  },
  {
   "cell_type": "markdown",
   "metadata": {},
   "source": [
    "## plot sig deltas"
   ]
  },
  {
   "cell_type": "code",
   "execution_count": 31,
   "metadata": {
    "ExecuteTime": {
     "end_time": "2023-12-18T06:22:59.205671Z",
     "start_time": "2023-12-18T06:22:58.498988Z"
    }
   },
   "outputs": [
    {
     "data": {
      "image/png": "[encoded data removed]",
      "text/plain": [
       "<Figure size 640x480 with 1 Axes>"
      ]
     },
     "metadata": {},
     "output_type": "display_data"
    }
   ],
   "source": [
    "sns.histplot(x=\"delta.gaba-glut\", data=enh, hue=\"sig\", stat=\"percent\", common_norm=False)\n",
    "out = os.path.join(RE, \"delta.dist.syn.sig.only.pdf\")\n",
    "plt.savefig(out, bbox_inches='tight')"
   ]
  },
  {
   "cell_type": "markdown",
   "metadata": {},
   "source": [
    "## combine significant ttest and celltype_dif (categorical) labels"
   ]
  },
  {
   "cell_type": "code",
   "execution_count": 34,
   "metadata": {
    "ExecuteTime": {
     "end_time": "2023-12-18T06:24:14.845924Z",
     "start_time": "2023-12-18T06:24:14.841462Z"
    }
   },
   "outputs": [],
   "source": [
    "enh = enh.loc[~enh[\"fdr\"].isna()]"
   ]
  },
  {
   "cell_type": "code",
   "execution_count": 35,
   "metadata": {
    "ExecuteTime": {
     "end_time": "2023-12-18T06:24:15.376577Z",
     "start_time": "2023-12-18T06:24:15.363658Z"
    }
   },
   "outputs": [
    {
     "name": "stdout",
     "output_type": "stream",
     "text": [
      "sig\n",
      "False    945\n",
      "True      23\n",
      "Name: name, dtype: int64\n",
      "celltype_dif\n",
      "False    835\n",
      "True     133\n",
      "Name: name, dtype: int64\n",
      "sig_n_dif\n",
      "False    964\n",
      "True       4\n",
      "Name: name, dtype: int64\n"
     ]
    }
   ],
   "source": [
    "enh[\"sig_n_dif\"] = False\n",
    "#enh.loc[(enh[\"sig\"]==True) & (enh[\"celltype_dif\"]==True), \"sig_n_dif\"]=True\n",
    "enh.loc[(enh[\"fdr_bool\"]==True) & (enh[\"celltype_dif\"]==True), \"sig_n_dif\"]=True\n",
    "\n",
    "# print counts\n",
    "print(enh[[\"name\", \"sig\"]].drop_duplicates().groupby(\"sig\")['name'].count())\n",
    "print(enh[[\"name\", \"celltype_dif\"]].drop_duplicates().groupby(\"celltype_dif\")['name'].count())\n",
    "print(enh[[\"name\", \"sig_n_dif\"]].drop_duplicates().groupby(\"sig_n_dif\")['name'].count())"
   ]
  },
  {
   "cell_type": "code",
   "execution_count": 36,
   "metadata": {
    "ExecuteTime": {
     "end_time": "2023-12-18T06:24:19.851469Z",
     "start_time": "2023-12-18T06:24:19.184246Z"
    }
   },
   "outputs": [
    {
     "data": {
      "image/png": "[encoded data removed]",
      "text/plain": [
       "<Figure size 640x480 with 1 Axes>"
      ]
     },
     "metadata": {},
     "output_type": "display_data"
    }
   ],
   "source": [
    "# histogram sig_n_dif\n",
    "sns.histplot(x=\"delta.gaba-glut\", data=enh, hue=\"sig_n_dif\", kde=True, stat=\"percent\", common_norm=False)\n",
    "out = os.path.join(RE,\"delta.distribution.sig_n_dif.syn.pdf\")\n",
    "plt.savefig(out, bbox_inches='tight')"
   ]
  },
  {
   "cell_type": "code",
   "execution_count": 37,
   "metadata": {
    "ExecuteTime": {
     "end_time": "2023-12-18T06:24:28.506365Z",
     "start_time": "2023-12-18T06:24:28.501208Z"
    }
   },
   "outputs": [
    {
     "data": {
      "text/plain": [
       "0.004149377593360996"
      ]
     },
     "execution_count": 37,
     "metadata": {},
     "output_type": "execute_result"
    }
   ],
   "source": [
    "4/964"
   ]
  },
  {
   "cell_type": "code",
   "execution_count": 42,
   "metadata": {
    "ExecuteTime": {
     "end_time": "2023-12-18T06:26:29.960591Z",
     "start_time": "2023-12-18T06:26:29.032173Z"
    }
   },
   "outputs": [
    {
     "data": {
      "image/png": "[encoded data removed]",
      "text/plain": [
       "<Figure size 600x600 with 1 Axes>"
      ]
     },
     "metadata": {},
     "output_type": "display_data"
    }
   ],
   "source": [
    "# effect sizes of sig and dif\n",
    "fig, ax= plt.subplots(figsize=(6,6))\n",
    "y=\"gaba\" \n",
    "x=\"glut\" \n",
    "data=enh \n",
    "hue=\"sig_n_dif\"\n",
    "sns.scatterplot(x=x, y=y, data=data, hue=hue)\n",
    "out = os.path.join(RE, \"cell-type-dif.scatter.syn.pdf\")\n",
    "ax.set(xlabel=\"mean GLUT\", \n",
    "      ylabel=\"mean GABA\")\n",
    "plt.savefig(out, bbox_inches='tight')"
   ]
  },
  {
   "cell_type": "markdown",
   "metadata": {},
   "source": [
    "## bootstrap effect size from full distribution\n",
    "- generate if not written to config already"
   ]
  },
  {
   "cell_type": "code",
   "execution_count": 43,
   "metadata": {
    "ExecuteTime": {
     "end_time": "2023-12-18T06:27:20.119178Z",
     "start_time": "2023-12-18T06:27:20.112608Z"
    }
   },
   "outputs": [
    {
     "name": "stdout",
     "output_type": "stream",
     "text": [
      "bootstrapped median 97.5% and 2.5% ci's 1.160405260558053 -1.6148481368655734 1000\n"
     ]
    }
   ],
   "source": [
    "if \"bsdelta.n\" not in list(config[section]):\n",
    "\n",
    "    # set up and bootstrap delta effect sizes\n",
    "    BS = 1000\n",
    "    bs_results975, bs_results025 = [], []\n",
    "    \n",
    "    for i in np.arange(BS):\n",
    "\n",
    "        # bootstrap from entire MPRA distribution\n",
    "        bsdf = enh[[\"coor\", \"gaba\", \"glut\", \"delta.gaba-glut\"]\n",
    "                   ].drop_duplicates().copy()\n",
    "        \n",
    "        # sample delta scores with replacement\n",
    "        sample = bsdf[\"delta.gaba-glut\"].sample(n=bsdf.shape[0], replace=True)\n",
    "\n",
    "        # bootstrap 95% confidence intervals\n",
    "        bs_results975.append(sample.quantile(0.975))\n",
    "        bs_results025.append(sample.quantile(0.025))\n",
    "\n",
    "    BS975_MED, BS025_MED= np.median(bs_results975), np.median(bs_results025)\n",
    "\n",
    "    # write results to config\n",
    "    config[section][\"bsdelta.n\"]= str(BS)\n",
    "    config[section][\"bs975.delta.1000.median\"] = str(BS975_MED)\n",
    "    config[section][\"bs025.delta.1000.median\"] = str(BS025_MED)\n",
    "    crw.write(config, cfn)\n",
    "\n",
    "else: # pull from config\n",
    "    BS975_MED =  float(config[section][\"bs975.delta.1000.median\"])\n",
    "    BS025_MED =  float(config[section][\"bs025.delta.1000.median\"])\n",
    "    BS = int(config[section][\"bsdelta.n\"])\n",
    "\n",
    "# print boostrated confidence intervals    \n",
    "print(\"bootstrapped median 97.5% and 2.5% ci's\",\n",
    "      BS975_MED, BS025_MED, BS)"
   ]
  },
  {
   "cell_type": "markdown",
   "metadata": {},
   "source": [
    "### write bootstrap to config "
   ]
  },
  {
   "cell_type": "markdown",
   "metadata": {},
   "source": [
    "### keep only delta values more extreme than bootstrapped delta distribution"
   ]
  },
  {
   "cell_type": "code",
   "execution_count": 44,
   "metadata": {
    "ExecuteTime": {
     "end_time": "2023-12-18T06:27:21.697862Z",
     "start_time": "2023-12-18T06:27:21.693714Z"
    }
   },
   "outputs": [],
   "source": [
    "# annotate enhancer tiles that surpass the CI\n",
    "enh[\"bs\"] = enh['delta.gaba-glut'].apply(lambda x: True if x >  BS975_MED or x < BS025_MED else False)"
   ]
  },
  {
   "cell_type": "markdown",
   "metadata": {},
   "source": [
    "### plot bs values w full effectsize distribution"
   ]
  },
  {
   "cell_type": "code",
   "execution_count": 46,
   "metadata": {
    "ExecuteTime": {
     "end_time": "2023-12-18T06:27:27.776115Z",
     "start_time": "2023-12-18T06:27:27.233697Z"
    }
   },
   "outputs": [
    {
     "data": {
      "image/png": "[encoded data removed]",
      "text/plain": [
       "<Figure size 400x400 with 1 Axes>"
      ]
     },
     "metadata": {},
     "output_type": "display_data"
    }
   ],
   "source": [
    "fig, ax = plt.subplots(figsize=(4, 4))\n",
    "\n",
    "# plot delta distribution\n",
    "sns.histplot(enh[\"delta.gaba-glut\"], label=f\"full\", kde=True)\n",
    "\n",
    "\n",
    "# plot BS CIs\n",
    "ax.axvline(BS975_MED,\n",
    "           label=f\"97.5%, median bs delta\", color=\"green\", lw=2)\n",
    "ax.axvline(BS025_MED,\n",
    "           label=f\"2.5%, median bs delta\", color=\"red\", lw=2)\n",
    "\n",
    "# get rid of legend\n",
    "ax.legend(bbox_to_anchor=(1,1))\n",
    "\n",
    "# set labels\n",
    "ax.set(xlabel=\"delta.gaba-glut\", title=f\"bootstrapped CI's\\nN={BS}\")\n",
    "\n",
    "# save\n",
    "out = os.path.join(RE, \"bs-deltas.syn.pdf\")\n",
    "plt.savefig(out, bbox_inches='tight')"
   ]
  },
  {
   "cell_type": "markdown",
   "metadata": {},
   "source": [
    "### plot bs values with only significant and difference elements"
   ]
  },
  {
   "cell_type": "code",
   "execution_count": 47,
   "metadata": {
    "ExecuteTime": {
     "end_time": "2023-12-18T06:27:35.746392Z",
     "start_time": "2023-12-18T06:27:35.175774Z"
    }
   },
   "outputs": [
    {
     "data": {
      "image/png": "[encoded data removed]",
      "text/plain": [
       "<Figure size 400x400 with 1 Axes>"
      ]
     },
     "metadata": {},
     "output_type": "display_data"
    }
   ],
   "source": [
    "fig, ax = plt.subplots(figsize=(4, 4))\n",
    "\n",
    "# plot delta distribution\n",
    "sns.histplot(enh[\"delta.gaba-glut\"], label=f\"full\", stat=\"percent\", kde=True)\n",
    "sns.histplot(enh.loc[(enh[\"sig_n_dif\"] == True) &\n",
    "                     (enh[\"bs\"] == True),\n",
    "                     \"delta.gaba-glut\"],\n",
    "             label=f\"bs_n_sig_n_dif\",\n",
    "             stat=\"percent\", kde=False\n",
    "             )\n",
    "\n",
    "# plot BS CIs\n",
    "ax.axvline(BS975_MED,\n",
    "           label=f\"97.5%, median bs delta\", color=\"green\", lw=2)\n",
    "ax.axvline(BS025_MED,\n",
    "           label=f\"2.5%, median bs delta\", color=\"red\", lw=2)\n",
    "\n",
    "# get rid of legend\n",
    "ax.legend(bbox_to_anchor=(1,1))\n",
    "\n",
    "# set labels\n",
    "ax.set(xlabel=\"delta.gaba-glut\", title=f\"bootstrapped CI's\\nN={BS}\")\n",
    "\n",
    "# save\n",
    "out = os.path.join(RE, \"bs-deltas.bs_n_sig_n_dif.syn.pdf\")\n",
    "plt.savefig(out, bbox_inches='tight')"
   ]
  },
  {
   "cell_type": "markdown",
   "metadata": {},
   "source": [
    "## add direction to  delta values"
   ]
  },
  {
   "cell_type": "code",
   "execution_count": 48,
   "metadata": {
    "ExecuteTime": {
     "end_time": "2023-12-18T06:27:39.742175Z",
     "start_time": "2023-12-18T06:27:39.733965Z"
    },
    "code_folding": []
   },
   "outputs": [],
   "source": [
    "def responseDirection(df):\n",
    "    col = \"direction\"\n",
    "    df[col] = None\n",
    "    inspection_cols = [col,\n",
    "                       'delta.gaba-glut',\n",
    "                       \"gaba\",\n",
    "                       \"glut\",\n",
    "                       'gaba_1',\n",
    "                       'gaba_2',\n",
    "                       'gaba_3',\n",
    "                       'glut_1',\n",
    "                       'glut_2',\n",
    "                       'glut_3']\n",
    "\n",
    "    df.loc[(df['gaba'] < 0)\n",
    "           & (df['glut'] < 0)\n",
    "           & (df[\"delta.gaba-glut\"] < 0),\n",
    "           col] = \"both negative, GABA<GLUT\"  # GABA is more silencing than glut\n",
    "\n",
    "    df.loc[(df['gaba'] < 0)\n",
    "           & (df['glut'] < 0)\n",
    "           & (df[\"delta.gaba-glut\"] > 0),\n",
    "           col] = \"both negative, GLUT<GABA\"  # GLUT is more silencing than GABA\n",
    "\n",
    "    df.loc[(df['gaba'] > 0)\n",
    "           & (df['glut'] > 0)\n",
    "           & (df[\"delta.gaba-glut\"] < 0),\n",
    "           col] = \"both positive GLUT>GABA\"  # GLUT is more active than GABA\n",
    "\n",
    "    df.loc[(df['gaba'] > 0)\n",
    "           & (df['glut'] > 0)\n",
    "           & (df[\"delta.gaba-glut\"] > 0),\n",
    "           col] = \"both positive GABA>GLUT\"  # GABA is more active than GLUT\n",
    "\n",
    "    df.loc[(df['gaba'] < 0)\n",
    "           & (df['glut'] > 0)\n",
    "           & (df[\"delta.gaba-glut\"] < 0),\n",
    "           col] = \"positive GLUT>negative GABA\"  # GLUT is active, GABA is not\n",
    "\n",
    "    df.loc[(df['gaba'] > 0)\n",
    "           & (df['glut'] < 0)\n",
    "           & (df[\"delta.gaba-glut\"] > 0),\n",
    "           col] = \"positive GABA>negative GLUT\"  # GABA is active, glut is not.\n",
    "\n",
    "    print(\"unlabeled\", df.loc[df[col].isna(), inspection_cols].shape[0])\n",
    "\n",
    "    return df.drop_duplicates()"
   ]
  },
  {
   "cell_type": "code",
   "execution_count": 49,
   "metadata": {
    "ExecuteTime": {
     "end_time": "2023-12-18T06:27:40.272435Z",
     "start_time": "2023-12-18T06:27:40.252799Z"
    }
   },
   "outputs": [
    {
     "name": "stdout",
     "output_type": "stream",
     "text": [
      "unlabeled 0\n"
     ]
    }
   ],
   "source": [
    "# add direction annotations based on sign of mean GABA, GLUT activity value\n",
    "enh = responseDirection(enh)"
   ]
  },
  {
   "cell_type": "code",
   "execution_count": 50,
   "metadata": {
    "ExecuteTime": {
     "end_time": "2023-12-18T06:27:42.176264Z",
     "start_time": "2023-12-18T06:27:42.145470Z"
    }
   },
   "outputs": [
    {
     "data": {
      "text/html": [
       "<div>\n",
       "<style scoped>\n",
       "    .dataframe tbody tr th:only-of-type {\n",
       "        vertical-align: middle;\n",
       "    }\n",
       "\n",
       "    .dataframe tbody tr th {\n",
       "        vertical-align: top;\n",
       "    }\n",
       "\n",
       "    .dataframe thead th {\n",
       "        text-align: right;\n",
       "    }\n",
       "</style>\n",
       "<table border=\"1\" class=\"dataframe\">\n",
       "  <thead>\n",
       "    <tr style=\"text-align: right;\">\n",
       "      <th></th>\n",
       "      <th>name</th>\n",
       "      <th>sequence</th>\n",
       "      <th>bkgd</th>\n",
       "      <th>72h</th>\n",
       "      <th>ctrl</th>\n",
       "      <th>cl</th>\n",
       "      <th>coor</th>\n",
       "      <th>top_bottom</th>\n",
       "      <th>strand</th>\n",
       "      <th>#chr</th>\n",
       "      <th>...</th>\n",
       "      <th>gaba_2</th>\n",
       "      <th>gaba_3</th>\n",
       "      <th>glut_1</th>\n",
       "      <th>glut_2</th>\n",
       "      <th>glut_3</th>\n",
       "      <th>pval</th>\n",
       "      <th>fdr_bool</th>\n",
       "      <th>sig_n_dif</th>\n",
       "      <th>bs</th>\n",
       "      <th>direction</th>\n",
       "    </tr>\n",
       "  </thead>\n",
       "  <tbody>\n",
       "    <tr>\n",
       "      <th>0</th>\n",
       "      <td>Backgroundseq2chr1:244100624-244100893:+|Pos:1...</td>\n",
       "      <td>AGGACCGGATCAACTGGGAAGCGTTTTTATTCAATCTGATACCCTC...</td>\n",
       "      <td>True</td>\n",
       "      <td>NaN</td>\n",
       "      <td>NaN</td>\n",
       "      <td>NaN</td>\n",
       "      <td>chr1:244100624-244100893</td>\n",
       "      <td>NaN</td>\n",
       "      <td>+</td>\n",
       "      <td>chr1</td>\n",
       "      <td>...</td>\n",
       "      <td>-2.184369</td>\n",
       "      <td>-2.227760</td>\n",
       "      <td>-1.956195</td>\n",
       "      <td>-1.840061</td>\n",
       "      <td>-1.376951</td>\n",
       "      <td>0.072685</td>\n",
       "      <td>False</td>\n",
       "      <td>False</td>\n",
       "      <td>False</td>\n",
       "      <td>both negative, GABA&lt;GLUT</td>\n",
       "    </tr>\n",
       "    <tr>\n",
       "      <th>1</th>\n",
       "      <td>Backgroundseq2chr1:244100624-244100893:+|Pos:1...</td>\n",
       "      <td>AGGACCGGATCAACTGGGAAGCGTTTTTATTCAATCTGATACCCTC...</td>\n",
       "      <td>True</td>\n",
       "      <td>NaN</td>\n",
       "      <td>NaN</td>\n",
       "      <td>NaN</td>\n",
       "      <td>chr1:244100624-244100893</td>\n",
       "      <td>NaN</td>\n",
       "      <td>+</td>\n",
       "      <td>chr1</td>\n",
       "      <td>...</td>\n",
       "      <td>-1.677746</td>\n",
       "      <td>-2.074945</td>\n",
       "      <td>-2.181752</td>\n",
       "      <td>-1.903716</td>\n",
       "      <td>-1.406938</td>\n",
       "      <td>0.741336</td>\n",
       "      <td>False</td>\n",
       "      <td>False</td>\n",
       "      <td>False</td>\n",
       "      <td>both negative, GABA&lt;GLUT</td>\n",
       "    </tr>\n",
       "    <tr>\n",
       "      <th>2</th>\n",
       "      <td>Backgroundseq2chr1:244100624-244100893:+|Pos:1...</td>\n",
       "      <td>AGGACCGGATCAACTGGGAAGCGTTTTTATTCAATCTGATACCCTC...</td>\n",
       "      <td>True</td>\n",
       "      <td>NaN</td>\n",
       "      <td>NaN</td>\n",
       "      <td>NaN</td>\n",
       "      <td>chr1:244100624-244100893</td>\n",
       "      <td>NaN</td>\n",
       "      <td>+</td>\n",
       "      <td>chr1</td>\n",
       "      <td>...</td>\n",
       "      <td>-2.466286</td>\n",
       "      <td>-2.295281</td>\n",
       "      <td>-2.131924</td>\n",
       "      <td>-1.977559</td>\n",
       "      <td>-2.010440</td>\n",
       "      <td>0.008621</td>\n",
       "      <td>False</td>\n",
       "      <td>False</td>\n",
       "      <td>False</td>\n",
       "      <td>both negative, GABA&lt;GLUT</td>\n",
       "    </tr>\n",
       "    <tr>\n",
       "      <th>4</th>\n",
       "      <td>Backgroundseq2chr1:244100624-244100893:+|Pos:1...</td>\n",
       "      <td>AGGACCGGATCAACTGGGAAGCGTTTTTATTCAATCTGATACCCTC...</td>\n",
       "      <td>True</td>\n",
       "      <td>NaN</td>\n",
       "      <td>NaN</td>\n",
       "      <td>NaN</td>\n",
       "      <td>chr1:244100624-244100893</td>\n",
       "      <td>NaN</td>\n",
       "      <td>+</td>\n",
       "      <td>chr1</td>\n",
       "      <td>...</td>\n",
       "      <td>-1.975496</td>\n",
       "      <td>-2.338388</td>\n",
       "      <td>-2.062864</td>\n",
       "      <td>-1.947051</td>\n",
       "      <td>-2.200030</td>\n",
       "      <td>0.466315</td>\n",
       "      <td>False</td>\n",
       "      <td>False</td>\n",
       "      <td>False</td>\n",
       "      <td>both negative, GABA&lt;GLUT</td>\n",
       "    </tr>\n",
       "    <tr>\n",
       "      <th>5</th>\n",
       "      <td>Backgroundseq2chr1:244100624-244100893:+|Pos:1...</td>\n",
       "      <td>AGGACCGGATCAACTGGGAAGCGTTTTTATTCAATCTGATACCCTC...</td>\n",
       "      <td>True</td>\n",
       "      <td>NaN</td>\n",
       "      <td>NaN</td>\n",
       "      <td>NaN</td>\n",
       "      <td>chr1:244100624-244100893</td>\n",
       "      <td>NaN</td>\n",
       "      <td>+</td>\n",
       "      <td>chr1</td>\n",
       "      <td>...</td>\n",
       "      <td>-2.025084</td>\n",
       "      <td>-1.661753</td>\n",
       "      <td>-1.494240</td>\n",
       "      <td>-1.735514</td>\n",
       "      <td>-1.415115</td>\n",
       "      <td>0.086300</td>\n",
       "      <td>False</td>\n",
       "      <td>False</td>\n",
       "      <td>False</td>\n",
       "      <td>both negative, GABA&lt;GLUT</td>\n",
       "    </tr>\n",
       "    <tr>\n",
       "      <th>...</th>\n",
       "      <td>...</td>\n",
       "      <td>...</td>\n",
       "      <td>...</td>\n",
       "      <td>...</td>\n",
       "      <td>...</td>\n",
       "      <td>...</td>\n",
       "      <td>...</td>\n",
       "      <td>...</td>\n",
       "      <td>...</td>\n",
       "      <td>...</td>\n",
       "      <td>...</td>\n",
       "      <td>...</td>\n",
       "      <td>...</td>\n",
       "      <td>...</td>\n",
       "      <td>...</td>\n",
       "      <td>...</td>\n",
       "      <td>...</td>\n",
       "      <td>...</td>\n",
       "      <td>...</td>\n",
       "      <td>...</td>\n",
       "      <td>...</td>\n",
       "    </tr>\n",
       "    <tr>\n",
       "      <th>1289</th>\n",
       "      <td>Backgroundseq172hr_top_98|Pos1:115,Pos2:155|Mo...</td>\n",
       "      <td>AGGACCGGATCAACTCTACTCCTGTGCGGGGTTAAGACCTAAGGAA...</td>\n",
       "      <td>True</td>\n",
       "      <td>NaN</td>\n",
       "      <td>NaN</td>\n",
       "      <td>NaN</td>\n",
       "      <td>chr::-1--1</td>\n",
       "      <td>top</td>\n",
       "      <td>+</td>\n",
       "      <td>chr:</td>\n",
       "      <td>...</td>\n",
       "      <td>-2.427646</td>\n",
       "      <td>-2.435104</td>\n",
       "      <td>-1.109326</td>\n",
       "      <td>-1.546149</td>\n",
       "      <td>-2.269267</td>\n",
       "      <td>0.166434</td>\n",
       "      <td>False</td>\n",
       "      <td>False</td>\n",
       "      <td>False</td>\n",
       "      <td>both negative, GABA&lt;GLUT</td>\n",
       "    </tr>\n",
       "    <tr>\n",
       "      <th>1291</th>\n",
       "      <td>Backgroundseq172hr_top_98|Pos1:115,Pos2:155|Mo...</td>\n",
       "      <td>AGGACCGGATCAACTCTACTCCTGTGCGGGGTTAAGACCTAAGGAA...</td>\n",
       "      <td>True</td>\n",
       "      <td>NaN</td>\n",
       "      <td>NaN</td>\n",
       "      <td>NaN</td>\n",
       "      <td>chr::-1--1</td>\n",
       "      <td>top</td>\n",
       "      <td>+</td>\n",
       "      <td>chr:</td>\n",
       "      <td>...</td>\n",
       "      <td>-2.815486</td>\n",
       "      <td>-2.082078</td>\n",
       "      <td>-0.701322</td>\n",
       "      <td>-1.375914</td>\n",
       "      <td>-2.150103</td>\n",
       "      <td>0.074981</td>\n",
       "      <td>False</td>\n",
       "      <td>False</td>\n",
       "      <td>False</td>\n",
       "      <td>both negative, GABA&lt;GLUT</td>\n",
       "    </tr>\n",
       "    <tr>\n",
       "      <th>1292</th>\n",
       "      <td>Backgroundseq172hr_top_98|Pos1:115,Pos2:155|Mo...</td>\n",
       "      <td>AGGACCGGATCAACTCTACTCCTGTGCGGGGTTAAGACCTAAGGAA...</td>\n",
       "      <td>True</td>\n",
       "      <td>NaN</td>\n",
       "      <td>NaN</td>\n",
       "      <td>NaN</td>\n",
       "      <td>chr::-1--1</td>\n",
       "      <td>top</td>\n",
       "      <td>+</td>\n",
       "      <td>chr:</td>\n",
       "      <td>...</td>\n",
       "      <td>-3.315267</td>\n",
       "      <td>-1.975987</td>\n",
       "      <td>-1.770023</td>\n",
       "      <td>-1.867901</td>\n",
       "      <td>-1.843902</td>\n",
       "      <td>0.148265</td>\n",
       "      <td>False</td>\n",
       "      <td>False</td>\n",
       "      <td>False</td>\n",
       "      <td>both negative, GABA&lt;GLUT</td>\n",
       "    </tr>\n",
       "    <tr>\n",
       "      <th>1294</th>\n",
       "      <td>Backgroundseq172hr_top_98|Pos1:115,Pos2:155|Mo...</td>\n",
       "      <td>AGGACCGGATCAACTCTACTCCTGTGCGGGGTTAAGACCTAAGGAA...</td>\n",
       "      <td>True</td>\n",
       "      <td>NaN</td>\n",
       "      <td>NaN</td>\n",
       "      <td>NaN</td>\n",
       "      <td>chr::-1--1</td>\n",
       "      <td>top</td>\n",
       "      <td>+</td>\n",
       "      <td>chr:</td>\n",
       "      <td>...</td>\n",
       "      <td>-2.658716</td>\n",
       "      <td>-2.248103</td>\n",
       "      <td>-2.620825</td>\n",
       "      <td>-1.618896</td>\n",
       "      <td>-2.191807</td>\n",
       "      <td>0.491651</td>\n",
       "      <td>False</td>\n",
       "      <td>False</td>\n",
       "      <td>False</td>\n",
       "      <td>both negative, GABA&lt;GLUT</td>\n",
       "    </tr>\n",
       "    <tr>\n",
       "      <th>1295</th>\n",
       "      <td>Backgroundseq172hr_top_98|Pos1:115,Pos2:155|Mo...</td>\n",
       "      <td>AGGACCGGATCAACTCTACTCCTGTGCGGGGTTAAGACCTAAGGAA...</td>\n",
       "      <td>True</td>\n",
       "      <td>NaN</td>\n",
       "      <td>NaN</td>\n",
       "      <td>NaN</td>\n",
       "      <td>chr::-1--1</td>\n",
       "      <td>top</td>\n",
       "      <td>+</td>\n",
       "      <td>chr:</td>\n",
       "      <td>...</td>\n",
       "      <td>-2.970164</td>\n",
       "      <td>-2.334829</td>\n",
       "      <td>-1.249982</td>\n",
       "      <td>-1.717908</td>\n",
       "      <td>-2.121743</td>\n",
       "      <td>0.037107</td>\n",
       "      <td>False</td>\n",
       "      <td>False</td>\n",
       "      <td>False</td>\n",
       "      <td>both negative, GABA&lt;GLUT</td>\n",
       "    </tr>\n",
       "  </tbody>\n",
       "</table>\n",
       "<p>968 rows × 39 columns</p>\n",
       "</div>"
      ],
      "text/plain": [
       "                                                   name  \\\n",
       "0     Backgroundseq2chr1:244100624-244100893:+|Pos:1...   \n",
       "1     Backgroundseq2chr1:244100624-244100893:+|Pos:1...   \n",
       "2     Backgroundseq2chr1:244100624-244100893:+|Pos:1...   \n",
       "4     Backgroundseq2chr1:244100624-244100893:+|Pos:1...   \n",
       "5     Backgroundseq2chr1:244100624-244100893:+|Pos:1...   \n",
       "...                                                 ...   \n",
       "1289  Backgroundseq172hr_top_98|Pos1:115,Pos2:155|Mo...   \n",
       "1291  Backgroundseq172hr_top_98|Pos1:115,Pos2:155|Mo...   \n",
       "1292  Backgroundseq172hr_top_98|Pos1:115,Pos2:155|Mo...   \n",
       "1294  Backgroundseq172hr_top_98|Pos1:115,Pos2:155|Mo...   \n",
       "1295  Backgroundseq172hr_top_98|Pos1:115,Pos2:155|Mo...   \n",
       "\n",
       "                                               sequence  bkgd  72h ctrl   cl  \\\n",
       "0     AGGACCGGATCAACTGGGAAGCGTTTTTATTCAATCTGATACCCTC...  True  NaN  NaN  NaN   \n",
       "1     AGGACCGGATCAACTGGGAAGCGTTTTTATTCAATCTGATACCCTC...  True  NaN  NaN  NaN   \n",
       "2     AGGACCGGATCAACTGGGAAGCGTTTTTATTCAATCTGATACCCTC...  True  NaN  NaN  NaN   \n",
       "4     AGGACCGGATCAACTGGGAAGCGTTTTTATTCAATCTGATACCCTC...  True  NaN  NaN  NaN   \n",
       "5     AGGACCGGATCAACTGGGAAGCGTTTTTATTCAATCTGATACCCTC...  True  NaN  NaN  NaN   \n",
       "...                                                 ...   ...  ...  ...  ...   \n",
       "1289  AGGACCGGATCAACTCTACTCCTGTGCGGGGTTAAGACCTAAGGAA...  True  NaN  NaN  NaN   \n",
       "1291  AGGACCGGATCAACTCTACTCCTGTGCGGGGTTAAGACCTAAGGAA...  True  NaN  NaN  NaN   \n",
       "1292  AGGACCGGATCAACTCTACTCCTGTGCGGGGTTAAGACCTAAGGAA...  True  NaN  NaN  NaN   \n",
       "1294  AGGACCGGATCAACTCTACTCCTGTGCGGGGTTAAGACCTAAGGAA...  True  NaN  NaN  NaN   \n",
       "1295  AGGACCGGATCAACTCTACTCCTGTGCGGGGTTAAGACCTAAGGAA...  True  NaN  NaN  NaN   \n",
       "\n",
       "                          coor top_bottom strand  #chr  ...    gaba_2  \\\n",
       "0     chr1:244100624-244100893        NaN      +  chr1  ... -2.184369   \n",
       "1     chr1:244100624-244100893        NaN      +  chr1  ... -1.677746   \n",
       "2     chr1:244100624-244100893        NaN      +  chr1  ... -2.466286   \n",
       "4     chr1:244100624-244100893        NaN      +  chr1  ... -1.975496   \n",
       "5     chr1:244100624-244100893        NaN      +  chr1  ... -2.025084   \n",
       "...                        ...        ...    ...   ...  ...       ...   \n",
       "1289                chr::-1--1        top      +  chr:  ... -2.427646   \n",
       "1291                chr::-1--1        top      +  chr:  ... -2.815486   \n",
       "1292                chr::-1--1        top      +  chr:  ... -3.315267   \n",
       "1294                chr::-1--1        top      +  chr:  ... -2.658716   \n",
       "1295                chr::-1--1        top      +  chr:  ... -2.970164   \n",
       "\n",
       "        gaba_3    glut_1    glut_2    glut_3      pval  fdr_bool  sig_n_dif  \\\n",
       "0    -2.227760 -1.956195 -1.840061 -1.376951  0.072685     False      False   \n",
       "1    -2.074945 -2.181752 -1.903716 -1.406938  0.741336     False      False   \n",
       "2    -2.295281 -2.131924 -1.977559 -2.010440  0.008621     False      False   \n",
       "4    -2.338388 -2.062864 -1.947051 -2.200030  0.466315     False      False   \n",
       "5    -1.661753 -1.494240 -1.735514 -1.415115  0.086300     False      False   \n",
       "...        ...       ...       ...       ...       ...       ...        ...   \n",
       "1289 -2.435104 -1.109326 -1.546149 -2.269267  0.166434     False      False   \n",
       "1291 -2.082078 -0.701322 -1.375914 -2.150103  0.074981     False      False   \n",
       "1292 -1.975987 -1.770023 -1.867901 -1.843902  0.148265     False      False   \n",
       "1294 -2.248103 -2.620825 -1.618896 -2.191807  0.491651     False      False   \n",
       "1295 -2.334829 -1.249982 -1.717908 -2.121743  0.037107     False      False   \n",
       "\n",
       "         bs                 direction  \n",
       "0     False  both negative, GABA<GLUT  \n",
       "1     False  both negative, GABA<GLUT  \n",
       "2     False  both negative, GABA<GLUT  \n",
       "4     False  both negative, GABA<GLUT  \n",
       "5     False  both negative, GABA<GLUT  \n",
       "...     ...                       ...  \n",
       "1289  False  both negative, GABA<GLUT  \n",
       "1291  False  both negative, GABA<GLUT  \n",
       "1292  False  both negative, GABA<GLUT  \n",
       "1294  False  both negative, GABA<GLUT  \n",
       "1295  False  both negative, GABA<GLUT  \n",
       "\n",
       "[968 rows x 39 columns]"
      ]
     },
     "execution_count": 50,
     "metadata": {},
     "output_type": "execute_result"
    }
   ],
   "source": [
    "#set(enh.loc[enh[\"direction\"].isna()==True, \"name\"])\n",
    "\n",
    "enh.loc[enh[\"name\"] == \"chr17:43530167-43530437\"]\n",
    "\n",
    "enh.loc[enh[\"name\"].str.contains(\"Background\")]"
   ]
  },
  {
   "cell_type": "code",
   "execution_count": 51,
   "metadata": {
    "ExecuteTime": {
     "end_time": "2023-12-18T06:27:45.794810Z",
     "start_time": "2023-12-18T06:27:45.781558Z"
    }
   },
   "outputs": [
    {
     "data": {
      "text/plain": [
       "bs     sig_n_dif_n_bs  direction                  \n",
       "False  False           both negative, GABA<GLUT       713\n",
       "                       both negative, GLUT<GABA       201\n",
       "                       both positive GABA>GLUT          2\n",
       "                       both positive GLUT>GABA          2\n",
       "                       positive GABA>negative GLUT      4\n",
       "                       positive GLUT>negative GABA      2\n",
       "True   False           both negative, GABA<GLUT        32\n",
       "                       both negative, GLUT<GABA         1\n",
       "                       positive GLUT>negative GABA      8\n",
       "       True            both negative, GABA<GLUT         3\n",
       "Name: name, dtype: int64"
      ]
     },
     "execution_count": 51,
     "metadata": {},
     "output_type": "execute_result"
    }
   ],
   "source": [
    "enh[\"sig_n_dif_n_bs\"] = False\n",
    "enh.loc[(enh[\"sig_n_dif\"]==True) & (enh[\"bs\"]==True), \"sig_n_dif_n_bs\"] = True\n",
    "\n",
    "cols = [\"bs\", 'sig',\n",
    "        'direction',\n",
    "        'sig_n_dif', \"sig_n_dif_n_bs\",\"name\"]\n",
    "\n",
    "# look at counts\n",
    "enh[cols].drop_duplicates().groupby([\"bs\", 'sig_n_dif_n_bs',\n",
    "                                     'direction'\n",
    "                                     ])[\"name\"].count()"
   ]
  },
  {
   "cell_type": "code",
   "execution_count": 52,
   "metadata": {
    "ExecuteTime": {
     "end_time": "2023-12-18T06:28:14.538056Z",
     "start_time": "2023-12-18T06:28:14.527803Z"
    }
   },
   "outputs": [
    {
     "data": {
      "text/plain": [
       "bs     sig_n_dif_n_bs\n",
       "False  False             924\n",
       "True   False              41\n",
       "       True                3\n",
       "Name: name, dtype: int64"
      ]
     },
     "execution_count": 52,
     "metadata": {},
     "output_type": "execute_result"
    }
   ],
   "source": [
    "enh[cols].drop_duplicates().groupby([\"bs\", 'sig_n_dif_n_bs',\n",
    "                                     ])[\"name\"].count()"
   ]
  },
  {
   "cell_type": "markdown",
   "metadata": {},
   "source": [
    "### inspect each of the delta calls visually. \n",
    "- note there is no case where Glut is positive and GABA is negative. "
   ]
  },
  {
   "cell_type": "code",
   "execution_count": 53,
   "metadata": {
    "ExecuteTime": {
     "end_time": "2023-12-18T06:29:15.735854Z",
     "start_time": "2023-12-18T06:29:15.108511Z"
    }
   },
   "outputs": [
    {
     "data": {
      "image/png": "[encoded data removed]",
      "text/plain": [
       "<Figure size 600x600 with 1 Axes>"
      ]
     },
     "metadata": {},
     "output_type": "display_data"
    }
   ],
   "source": [
    "# order\n",
    "order = ['positive GABA>negative GLUT',\n",
    "         'positive GLUT>negative GABA',\n",
    "         'both negative, GABA<GLUT',\n",
    "         'both negative, GLUT<GABA',\n",
    "         'both positive GABA>GLUT',\n",
    "         'both positive GLUT>GABA',\n",
    "         ]\n",
    "# plot dataframe\n",
    "plot_data = enh.loc[\n",
    "    (enh[\"sig_n_dif_n_bs\"] == True) &\n",
    "    (enh[\"bs\"] == True), [\"direction\", \"delta.gaba-glut\"]].drop_duplicates()\n",
    "\n",
    "fig, ax = plt.subplots(figsize=(6, 6))\n",
    "\n",
    "sns.stripplot(x=\"direction\", y=\"delta.gaba-glut\",\n",
    "              order=order, \n",
    "              hue=\"direction\", \n",
    "              hue_order=order,\n",
    "              data=plot_data, \n",
    "              palette='tab20'\n",
    "              )\n",
    "\n",
    "ax.set(title=\"Direction of effect\\nsig, categorical, and bs tiles\", \n",
    "      xlabel=\"\")\n",
    "\n",
    "ax.legend().remove()\n",
    "\n",
    "ax.set_xticklabels(ax.get_xticklabels(), rotation=45,\n",
    "                   horizontalalignment=\"right\")\n",
    "# save\n",
    "out = os.path.join(RE, f\"delta.distribution.direction.syn.pdf\")\n",
    "plt.savefig(out, bbox_inches='tight')"
   ]
  },
  {
   "cell_type": "code",
   "execution_count": 74,
   "metadata": {
    "ExecuteTime": {
     "end_time": "2023-12-18T06:34:46.740712Z",
     "start_time": "2023-12-18T06:34:46.110320Z"
    }
   },
   "outputs": [
    {
     "data": {
      "image/png": "[encoded data removed]",
      "text/plain": [
       "<Figure size 600x600 with 1 Axes>"
      ]
     },
     "metadata": {},
     "output_type": "display_data"
    }
   ],
   "source": [
    "# order\n",
    "order = ['positive GABA>negative GLUT',\n",
    "         'positive GLUT>negative GABA',\n",
    "         'both negative, GABA<GLUT',\n",
    "         'both negative, GLUT<GABA',\n",
    "         'both positive GABA>GLUT',\n",
    "         'both positive GLUT>GABA',\n",
    "         ]\n",
    "# plot dataframe\n",
    "plot_data = enh.loc[\n",
    "    (enh[\"sig_n_dif\"] == True) &\n",
    "    (enh[\"bs\"] == True), [\"direction\", \"delta.gaba-glut\"]].drop_duplicates()\n",
    "\n",
    "fig, ax = plt.subplots(figsize=(6, 6))\n",
    "\n",
    "sns.stripplot(x=\"direction\", y=\"delta.gaba-glut\",\n",
    "              order=order, \n",
    "              hue=\"direction\", \n",
    "              hue_order=order,\n",
    "              data=plot_data, \n",
    "              palette='tab20'\n",
    "              )\n",
    "\n",
    "ax.set(title=\"Direction of effect\\nsig, categorical, and bs tiles\", \n",
    "      xlabel=\"\")\n",
    "\n",
    "ax.legend().remove()\n",
    "\n",
    "ax.set_xticklabels(ax.get_xticklabels(), rotation=45,\n",
    "                   horizontalalignment=\"right\")\n",
    "# save\n",
    "out = os.path.join(RE, f\"delta.distribution.direction.syn.pdf\")\n",
    "plt.savefig(out, bbox_inches='tight')"
   ]
  },
  {
   "cell_type": "markdown",
   "metadata": {},
   "source": [
    "# data visualization functions"
   ]
  },
  {
   "cell_type": "code",
   "execution_count": 54,
   "metadata": {
    "ExecuteTime": {
     "end_time": "2023-12-18T06:29:25.782155Z",
     "start_time": "2023-12-18T06:29:25.772943Z"
    }
   },
   "outputs": [],
   "source": [
    "def getMinDist(df):\n",
    "    \"\"\"return str of gene, min distance tuples to gene TSSs per enhancer. \n",
    "        Gene TSS annotations from GREAT. \n",
    "        note - most enhancers map to two genes, which means two TSSs\n",
    "    \"\"\"\n",
    "\n",
    "    genes = []\n",
    "\n",
    "    # per gene\n",
    "    for gene in df[\"gene\"].unique():\n",
    "        genes.append(gene)\n",
    "        print(gene)\n",
    "\n",
    "        # get the gene dataframe\n",
    "        g = df.loc[(df[\"gene\"] == gene)].copy()\n",
    "\n",
    "        # if upstream TSS, return min value\n",
    "        g = g.loc[g[\"dist\"] != \"NONE\"]\n",
    "        if len(g) > 0:\n",
    "            if int(g.dist.min()) > 1:\n",
    "                genes.append(g.dist.min())\n",
    "\n",
    "            # elif downstream TSS, return max negative value (min)\n",
    "            elif int(g.dist.min()) < 1:\n",
    "                genes.append(g.dist.max())\n",
    "                \n",
    "            elif list(set(g.dist)) == \"na\":\n",
    "                print(gene,  \"TO REMOVE\")\n",
    "                genes = genes[:-1]  # remove gene from list, no distance\n",
    "\n",
    "    if len(genes) == 0:  # handle cases where no gene is mapped to element.\n",
    "        genes = [\"None\"]\n",
    "\n",
    "    new_genes = []\n",
    "\n",
    "    for gene in genes:\n",
    "        new_genes.append(str(gene))\n",
    "\n",
    "    return \"_\".join(new_genes)"
   ]
  },
  {
   "cell_type": "markdown",
   "metadata": {},
   "source": [
    "# nominate candidates"
   ]
  },
  {
   "cell_type": "markdown",
   "metadata": {},
   "source": [
    "## functions!"
   ]
  },
  {
   "cell_type": "code",
   "execution_count": 55,
   "metadata": {
    "ExecuteTime": {
     "end_time": "2023-12-18T06:29:28.147800Z",
     "start_time": "2023-12-18T06:29:28.141952Z"
    }
   },
   "outputs": [],
   "source": [
    "def getSupport(enh_id, df):\n",
    "    \"\"\"count how many supports there is for differential activity\"\"\"\n",
    "    \n",
    "    # columns to keep\n",
    "    t_cols = [\"name\", 'tile.order', \"enh.id\", \"sig\", \"celltype_dif\", \"bs\"]\n",
    "    \n",
    "    # subset df to enh_id w cols, drop duplicates, copy, and fill na w False\n",
    "    t = df.loc[df[\"enh.id\"] == enh_id, t_cols].drop_duplicates().copy().fillna(False)\n",
    "    \n",
    "    # turn bool into int, into str\n",
    "    t[t_cols[-3:]]=t[t_cols[-3:]].astype(int)\n",
    "    \n",
    "    # str code the support col\n",
    "    t[\"support\"] =  t[\"sig\"] + t[\"celltype_dif\"] + t[\"bs\"]\n",
    "    \n",
    "    # turn int into str\n",
    "    t[t_cols[-3:]]=t[t_cols[-3:]].astype(str)\n",
    "\n",
    "    t[\"support_code\"] =  t[\"sig\"] + t[\"celltype_dif\"] + t[\"bs\"]    \n",
    "    \n",
    "    t[\"support_name\"] = None\n",
    "    \n",
    "    # name codes, so that they are legible\n",
    "    name_codes = {None:\"000\", \n",
    "                  \"cat-only\":\"010\", \n",
    "                  \"sig-only\":\"100\", \n",
    "                  \"bs-only\":'001',\n",
    "                  \"sig-n-cat\":\"110\", \n",
    "                  \"sig-n-bs\":\"101\", \n",
    "                  \"cat-n-bs\":\"011\", \n",
    "                  \"all\": \"111\"\n",
    "                 }\n",
    "    \n",
    "    for name, code in name_codes.items():\n",
    "        t.loc[t[\"support_code\"]==code, \"support_name\"] = name\n",
    "\n",
    "\n",
    "    return t[[\"name\", \"tile.order\", \"support\", \"support_code\", \"support_name\"\n",
    "             ]]"
   ]
  },
  {
   "cell_type": "code",
   "execution_count": 56,
   "metadata": {
    "ExecuteTime": {
     "end_time": "2023-12-18T06:29:28.472038Z",
     "start_time": "2023-12-18T06:29:28.468307Z"
    },
    "code_folding": []
   },
   "outputs": [],
   "source": [
    "def getSigTileIdDirection(direction, df):\n",
    "    \"\"\"return tile ids in direction which \n",
    "    (1) have significant activity differences\n",
    "    (2) have categorical activity differences\n",
    "    (3) exceed the bootstrapped 95 CIs from delta distribution\n",
    "    \"\"\"\n",
    "\n",
    "    cols = [\"bs\", 'sig_n_dif_n_bs',\n",
    "            'direction',\n",
    "            \"name\"]\n",
    "\n",
    "    test = df.loc[(df[\"bs\"] == True) &\n",
    "                  (df[\"sig_n_dif_n_bs\"] == True),\n",
    "                  cols].drop_duplicates().copy()\n",
    "\n",
    "    candidate_set = set(test.loc[test[\"direction\"] == direction, \"name\"])\n",
    "\n",
    "    return candidate_set"
   ]
  },
  {
   "cell_type": "code",
   "execution_count": 57,
   "metadata": {
    "ExecuteTime": {
     "end_time": "2023-12-18T06:29:28.997633Z",
     "start_time": "2023-12-18T06:29:28.991596Z"
    },
    "code_folding": []
   },
   "outputs": [],
   "source": [
    "def getLongFormEnhInfo(df, mpra_celltype):\n",
    "    \"\"\" return dataframes for plotting gaba/glut longform tile activity and significance\n",
    "    \"\"\"\n",
    "    # do some data formatting, sorting`\n",
    "    df[\"tile.order\"] = df[\"tile.order\"].astype(int)\n",
    "    df = df.sort_values(by=\"tile.order\")\n",
    "\n",
    "    # get dataframe of tile.order x significant differences\n",
    "    sd = pd.melt(df, id_vars=\"tile.order\",\n",
    "                 value_vars=\"sig_n_dif_n_bs\",\n",
    "                 value_name=\"sig\"\n",
    "                 ).drop_duplicates().reset_index()\n",
    "    sd[\"y\"] = 3\n",
    "    sd[\"sig\"] = sd[\"sig\"].replace(False, None)\n",
    "    \n",
    "    # new variable\n",
    "    VAR_NAME = \"Mean z-score ratio\"\n",
    "\n",
    "    # get replicates of gaba, glut and melt into longform\n",
    "    if mpra_celltype == \"gaba\": \n",
    "        cols = [\"gaba_1\", \"gaba_2\", \"gaba_3\"]\n",
    "        \n",
    "    elif mpra_celltype ==\"glut\":\n",
    "        cols = [\"glut_1\", \"glut_2\", \"glut_3\"]\n",
    "\n",
    "    # longform GABA\n",
    "    longform = pd.melt(df, id_vars=\"tile.order\",\n",
    "                            value_vars=cols,\n",
    "                            value_name=VAR_NAME).drop_duplicates().reset_index()\n",
    "\n",
    "   \n",
    "    # add back significance column\n",
    "    longform = pd.merge(longform, sd, how=\"left\", left_on=\"tile.order\",\n",
    "                             right_on='tile.order').drop(columns=[\"index_x\", \"index_y\"])\n",
    "    \n",
    "\n",
    "    # add back missing tiles\n",
    "    longform = addMissingTiles(longform, VAR_NAME)\n",
    "    \n",
    "    # change tile.order datatype\n",
    "    longform[\"tile.order\"]= longform[\"tile.order\"].astype(int)\n",
    "    \n",
    "    # fill any missing data w zeros\n",
    "    longform[VAR_NAME]=longform[VAR_NAME].fillna(0)\n",
    "    \n",
    "    return longform, VAR_NAME"
   ]
  },
  {
   "cell_type": "code",
   "execution_count": 58,
   "metadata": {
    "ExecuteTime": {
     "end_time": "2023-12-18T06:29:29.388938Z",
     "start_time": "2023-12-18T06:29:29.385419Z"
    },
    "code_folding": []
   },
   "outputs": [],
   "source": [
    "def getEnhid(tile_coor, df):\n",
    "    \"\"\"return enhancer coordinate for tile_id\"\"\"\n",
    "    enh = set(df.loc[df[\"coor\"] == tile_coor, 'enh.id'])\n",
    "\n",
    "    if len(enh) > 1:\n",
    "        print(\"more than one enh_id\", enh)\n",
    "\n",
    "    # return the first (and hopefully only) enh\n",
    "    return list(enh)[0]"
   ]
  },
  {
   "cell_type": "code",
   "execution_count": 59,
   "metadata": {
    "ExecuteTime": {
     "end_time": "2023-12-18T06:29:29.915803Z",
     "start_time": "2023-12-18T06:29:29.912278Z"
    },
    "code_folding": []
   },
   "outputs": [],
   "source": [
    "def addMissingTiles(longform, var_name):\n",
    "    \"\"\"add back missing tile values for a dataframe\"\"\"\n",
    "\n",
    "    # make an empty dataframe\n",
    "    empty = pd.DataFrame(\n",
    "        np.arange(longform[\"tile.order\"].min(),\n",
    "                  longform[\"tile.order\"].max()+1),\n",
    "        columns=[\"tile.order\"]\n",
    "    )\n",
    "    # add back empty, drop old index\n",
    "    longform = pd.merge(empty, longform,\n",
    "                             how=\"left\")\n",
    "    # fill na\n",
    "    longform[var_name] = longform[var_name].fillna(0)\n",
    "\n",
    "    return longform"
   ]
  },
  {
   "cell_type": "code",
   "execution_count": 60,
   "metadata": {
    "ExecuteTime": {
     "end_time": "2023-12-18T06:29:30.467608Z",
     "start_time": "2023-12-18T06:29:30.462163Z"
    },
    "code_folding": []
   },
   "outputs": [],
   "source": [
    "def plotTile(tile_coor, df, direction, plot_support_annot):\n",
    "\n",
    "    # get enh_id for tile coordinate\n",
    "    enh_id = getEnhid(tile_coor, df)\n",
    "\n",
    "    cols = [\"sig_n_dif_n_bs\", \"glut_1\", \"glut_2\", \"glut_3\", \"gaba_1\",\n",
    "            \"gaba_2\", \"gaba_3\", \"coor\", \"enh.id\", \"enh.name\", \"tile.order\", \"gene\"]\n",
    "\n",
    "    t = df.loc[df[\"enh.id\"] == enh_id].drop_duplicates().copy()\n",
    "\n",
    "    # stratify by gene name, as one enhancer may be near two different genes\n",
    "    enh_name = list(set(t[\"enh.name\"]))[0]\n",
    "    gene = getMinDist(t)\n",
    "\n",
    "    # get support for tiles in enhancer\n",
    "    support = getSupport(enh_id, t)\n",
    "\n",
    "    t = t[cols[:-1]]  # subset the dataframe to just these columns\n",
    "\n",
    "    # make an output file name for tile plot.\n",
    "    out_line = os.path.join(RE_MAPS, direction,\n",
    "                            f\"{gene}.{enh_name}.line.{plot_support_annot}.pdf\")\n",
    "\n",
    "    # if the outpath does not exist, make it\n",
    "    if os.path.exists(os.path.join(RE_MAPS, direction)) is False:\n",
    "        os.mkdir(os.path.join(RE_MAPS, direction))\n",
    "\n",
    "    # plot line\n",
    "    longform_gaba, longform_glut, var_name = plot_lineplot(\n",
    "        t, out_line, enh_id,  enh_name, gene, support, plot_support_annot)\n",
    "\n",
    "    return t, support, longform_gaba, longform_glut, var_name"
   ]
  },
  {
   "cell_type": "markdown",
   "metadata": {},
   "source": [
    "## That one GABA silent, glut_act"
   ]
  },
  {
   "cell_type": "code",
   "execution_count": 72,
   "metadata": {
    "ExecuteTime": {
     "end_time": "2023-12-18T06:31:46.943198Z",
     "start_time": "2023-12-18T06:31:46.938612Z"
    }
   },
   "outputs": [
    {
     "data": {
      "text/plain": [
       "' both negative, GABA<GLUT'"
      ]
     },
     "execution_count": 72,
     "metadata": {},
     "output_type": "execute_result"
    }
   ],
   "source": [
    "direction"
   ]
  },
  {
   "cell_type": "code",
   "execution_count": 73,
   "metadata": {
    "ExecuteTime": {
     "end_time": "2023-12-18T06:31:50.806977Z",
     "start_time": "2023-12-18T06:31:50.791586Z"
    }
   },
   "outputs": [
    {
     "data": {
      "text/plain": [
       "['Backgroundseq172hr_top_98|Pos1:115,Pos2:155|Motiffamily:glutmotif2,Motiffamily:glutmotif2|Motif1:TTCATCATGTGT|Motif2:AAACACATAAGG',\n",
       " 'Backgroundseq172hr_top_98|Pos1:115,Pos2:155|Motiffamily:glutmotif2,Motiffamily:glutmotif2|Motif1:AAACACATAAGG|Motif2:TCAGTTCTTAAA',\n",
       " 'Backgroundseq172hr_top_98|Pos1:115,Pos2:155|Motiffamily:glutmotif1,Motiffamily:glutmotif2|Motif1:TGAACTGATACA|Motif2:TTCATTATGTGT']"
      ]
     },
     "execution_count": 73,
     "metadata": {},
     "output_type": "execute_result"
    }
   ],
   "source": [
    "ACTIVE_CL = \"GABA\"\n",
    "INACTIVE_CL = \"GLUT\"\n",
    "direction = f\"positive {ACTIVE_CL}>negative {INACTIVE_CL}\"\n",
    "direction = f\"both negative, {ACTIVE_CL}<{INACTIVE_CL}\"\n",
    "\n",
    "# get significant tiles that fall in direction\n",
    "SET = getSigTileIdDirection(direction, enh)\n",
    "\n",
    "# subset dataframe and sort\n",
    "candidate_cols = [\"name\", ACTIVE_CL.lower(), 'delta.gaba-glut']\n",
    "\n",
    "# order candidates by highest activity, greatest difference\n",
    "GABA_candidates = enh.loc[enh[\"name\"].isin(SET), candidate_cols].drop_duplicates().sort_values(\n",
    "    by=[ACTIVE_CL.lower(), 'delta.gaba-glut'], ascending=False)[\"name\"].to_list()\n",
    "GABA_candidates"
   ]
  },
  {
   "cell_type": "markdown",
   "metadata": {},
   "source": [
    "## Top 8 glutamatergic candidates"
   ]
  },
  {
   "cell_type": "code",
   "execution_count": 69,
   "metadata": {
    "ExecuteTime": {
     "end_time": "2023-12-18T06:31:10.699046Z",
     "start_time": "2023-12-18T06:31:10.674103Z"
    }
   },
   "outputs": [
    {
     "name": "stdout",
     "output_type": "stream",
     "text": [
      "0\n"
     ]
    },
    {
     "data": {
      "text/plain": [
       "[]"
      ]
     },
     "execution_count": 69,
     "metadata": {},
     "output_type": "execute_result"
    }
   ],
   "source": [
    "ACTIVE_CL = \"GLUT\"\n",
    "INACTIVE_CL = \"GABA\"\n",
    "direction = f\"positive {ACTIVE_CL}>negative {INACTIVE_CL}\"\n",
    "\n",
    "# get significant tiles that fall in direction\n",
    "SET = getSigTileIdDirection(direction, enh)\n",
    "\n",
    "# subset dataframe and sort\n",
    "candidate_cols = [\"name\", ACTIVE_CL.lower(), 'delta.gaba-glut', \"tile.order\"]\n",
    "\n",
    "# order candidates by highest activity, greatest difference\n",
    "GLUT_candidates = enh.loc[enh[\"name\"].isin(SET), candidate_cols].drop_duplicates().sort_values(\n",
    "    by=[ACTIVE_CL.lower(), 'delta.gaba-glut'], ascending=False)[\"name\"].to_list()\n",
    "\n",
    "print(len(GLUT_candidates))\n",
    "GLUT_candidates[:10]"
   ]
  },
  {
   "cell_type": "code",
   "execution_count": null,
   "metadata": {},
   "outputs": [],
   "source": []
  }
 ],
 "metadata": {
  "kernelspec": {
   "display_name": "Python 3 (ipykernel)",
   "language": "python",
   "name": "python3"
  },
  "language_info": {
   "codemirror_mode": {
    "name": "ipython",
    "version": 3
   },
   "file_extension": ".py",
   "mimetype": "text/x-python",
   "name": "python",
   "nbconvert_exporter": "python",
   "pygments_lexer": "ipython3",
   "version": "3.9.16"
  },
  "toc": {
   "base_numbering": 1,
   "nav_menu": {},
   "number_sections": true,
   "sideBar": true,
   "skip_h1_title": false,
   "title_cell": "Table of Contents",
   "title_sidebar": "Contents",
   "toc_cell": false,
   "toc_position": {
    "height": "calc(100% - 180px)",
    "left": "10px",
    "top": "150px",
    "width": "328.8px"
   },
   "toc_section_display": true,
   "toc_window_display": true
  },
  "varInspector": {
   "cols": {
    "lenName": 16,
    "lenType": 16,
    "lenVar": 40
   },
   "kernels_config": {
    "python": {
     "delete_cmd_postfix": "",
     "delete_cmd_prefix": "del ",
     "library": "var_list.py",
     "varRefreshCmd": "print(var_dic_list())"
    },
    "r": {
     "delete_cmd_postfix": ") ",
     "delete_cmd_prefix": "rm(",
     "library": "var_list.r",
     "varRefreshCmd": "cat(var_dic_list()) "
    }
   },
   "types_to_exclude": [
    "module",
    "function",
    "builtin_function_or_method",
    "instance",
    "_Feature"
   ],
   "window_display": false
  }
 },
 "nbformat": 4,
 "nbformat_minor": 2
}
