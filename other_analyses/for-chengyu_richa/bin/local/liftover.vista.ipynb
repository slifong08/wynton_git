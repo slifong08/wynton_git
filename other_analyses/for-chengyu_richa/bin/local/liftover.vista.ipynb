{
 "cells": [
  {
   "cell_type": "code",
   "execution_count": 5,
   "id": "f0e669db",
   "metadata": {
    "ExecuteTime": {
     "end_time": "2023-12-15T19:56:29.139602Z",
     "start_time": "2023-12-15T19:56:29.135180Z"
    }
   },
   "outputs": [],
   "source": [
    "from Bio.SeqIO.FastaIO import SimpleFastaParser as faparser\n",
    "import os\n",
    "import sys\n",
    "\n",
    "# make bed file from vista enhancer file\n",
    "PATH = \"/wynton/group/ahituv/data/vista\"\n",
    "VISTA_FASTA = os.path.join(PATH, \"vista_enhancers_hg19.fa\")\n",
    "VISTA_BED = os.path.splitext(VISTA_FASTA)[0] + \".bed\"\n",
    "VISTA_BED_hg19only = os.path.splitext(VISTA_FASTA)[0] + \".human-only.bed\""
   ]
  },
  {
   "cell_type": "markdown",
   "id": "44ad724e",
   "metadata": {},
   "source": [
    "## fasta -> bed"
   ]
  },
  {
   "cell_type": "code",
   "execution_count": 8,
   "id": "f6199717",
   "metadata": {
    "ExecuteTime": {
     "end_time": "2023-12-15T19:57:46.126775Z",
     "start_time": "2023-12-15T19:57:46.045530Z"
    }
   },
   "outputs": [
    {
     "data": {
      "text/plain": [
       "(None, None, None)"
      ]
     },
     "execution_count": 8,
     "metadata": {},
     "output_type": "execute_result"
    }
   ],
   "source": [
    "# look up genome build for species\n",
    "genome_build = {\"Human\": \"hg19\",\n",
    "                'Mouse': \"mm9\"}\n",
    "\n",
    "# open writer to write bed file\n",
    "writer = open(VISTA_BED, \"w\")\n",
    "\n",
    "human_only = open(VISTA_BED_hg19only, \"w\")\n",
    "\n",
    "with open(VISTA_FASTA, \"r\") as reader:\n",
    "    for value in faparser(reader):  # read fasta file\n",
    "        name, seq = value  # get name, sequence data\n",
    "\n",
    "        info = name.split('|')  #\n",
    "        species, coordinates, vista_id, finding = info[:4]\n",
    "\n",
    "        build = genome_build[species]\n",
    "        meta = \"|\".join(info[4:])\n",
    "\n",
    "        # bed coordinates\n",
    "        chr_ = coordinates.split(\":\")[0]\n",
    "        start = (coordinates.split(\":\")[1]).split(\"-\")[0]\n",
    "        end = (coordinates.split(\":\")[1]).split(\n",
    "            \"-\")[1].strip(\" \")  # strip white space\n",
    "        \n",
    "        # write row\n",
    "        new_row = \"\\t\".join([chr_, start, end, vista_id,\n",
    "                            species, build, finding, meta])+ \"\\n\"\n",
    "        writer.write(new_row)\n",
    "\n",
    "        # write human only\n",
    "        if species == 'Human':\n",
    "            human_row = \"\\t\".join([chr_, start, end, vista_id]) + \"\\n\"\n",
    "            human_only.write(human_row)\n",
    "writer.close(), reader.close(), human_only.close()"
   ]
  },
  {
   "cell_type": "markdown",
   "id": "dc42acad",
   "metadata": {},
   "source": [
    "## liftOver"
   ]
  },
  {
   "cell_type": "code",
   "execution_count": 9,
   "id": "81f99e43",
   "metadata": {
    "ExecuteTime": {
     "end_time": "2023-12-15T19:58:01.029499Z",
     "start_time": "2023-12-15T19:58:00.670632Z"
    }
   },
   "outputs": [
    {
     "name": "stdout",
     "output_type": "stream",
     "text": [
      "python3 /wynton/group/ahituv/fongsl/tools/evo/liftover_bed-wynton.py /wynton/group/ahituv/data/vista/vista_enhancers_hg19.human-only.bed hg19 Hg38\n",
      "/wynton/group/ahituv/data/vista 0.95 <class 'str'>\n",
      "\n",
      "\n",
      "lifting over /wynton/group/ahituv/data/vista/vista_enhancers_hg19.human-only.bed from hg19 to Hg38 in /wynton/group/ahituv/data/vista \n",
      "\n",
      "\n",
      "Sorting .bed /wynton/group/ahituv/data/vista/temp_vista_enhancers_hg19.human-only.bed\n",
      "liftingOver vista_enhancers_hg19.human-only \n",
      "\n",
      " /wynton/group/ahituv/bin/liftOver /wynton/group/ahituv/data/vista/temp_vista_enhancers_hg19.human-only.bed /wynton/group/databases/goldenPath/hg19/liftOver/hg19ToHg38.over.chain.gz /wynton/group/ahituv/data/vista/vista_enhancers_hg19.human-only.liftOver.to.Hg38.bed /wynton/group/ahituv/data/vista/vista_enhancers_hg19.human-only.notlifted.to.Hg38.bed -minMatch=0.95 \n",
      "\n",
      "\n",
      "done lifting\n",
      "cleaned up temp file\n"
     ]
    },
    {
     "name": "stderr",
     "output_type": "stream",
     "text": [
      "Reading liftover chains\n",
      "Mapping coordinates\n"
     ]
    },
    {
     "data": {
      "text/plain": [
       "0"
      ]
     },
     "execution_count": 9,
     "metadata": {},
     "output_type": "execute_result"
    }
   ],
   "source": [
    "LIFTOVER = \"/wynton/group/ahituv/fongsl/tools/evo/liftover_bed-wynton.py\"\n",
    "FROM, TO = \"hg19\", \"Hg38\"\n",
    "cmd = \" \".join([\n",
    "    \"python3\",\n",
    "    LIFTOVER, \n",
    "    VISTA_BED_hg19only, \n",
    "    FROM, \n",
    "    TO\n",
    "    \n",
    "])\n",
    "print(cmd)\n",
    "os.system(cmd)"
   ]
  },
  {
   "cell_type": "code",
   "execution_count": null,
   "id": "b6b4b166",
   "metadata": {},
   "outputs": [],
   "source": []
  }
 ],
 "metadata": {
  "kernelspec": {
   "display_name": "Python (mamba)",
   "language": "python",
   "name": "mamba"
  },
  "language_info": {
   "codemirror_mode": {
    "name": "ipython",
    "version": 3
   },
   "file_extension": ".py",
   "mimetype": "text/x-python",
   "name": "python",
   "nbconvert_exporter": "python",
   "pygments_lexer": "ipython3",
   "version": "3.9.16"
  },
  "toc": {
   "base_numbering": 1,
   "nav_menu": {},
   "number_sections": true,
   "sideBar": true,
   "skip_h1_title": false,
   "title_cell": "Table of Contents",
   "title_sidebar": "Contents",
   "toc_cell": false,
   "toc_position": {},
   "toc_section_display": true,
   "toc_window_display": false
  },
  "varInspector": {
   "cols": {
    "lenName": 16,
    "lenType": 16,
    "lenVar": 40
   },
   "kernels_config": {
    "python": {
     "delete_cmd_postfix": "",
     "delete_cmd_prefix": "del ",
     "library": "var_list.py",
     "varRefreshCmd": "print(var_dic_list())"
    },
    "r": {
     "delete_cmd_postfix": ") ",
     "delete_cmd_prefix": "rm(",
     "library": "var_list.r",
     "varRefreshCmd": "cat(var_dic_list()) "
    }
   },
   "types_to_exclude": [
    "module",
    "function",
    "builtin_function_or_method",
    "instance",
    "_Feature"
   ],
   "window_display": false
  }
 },
 "nbformat": 4,
 "nbformat_minor": 5
}
