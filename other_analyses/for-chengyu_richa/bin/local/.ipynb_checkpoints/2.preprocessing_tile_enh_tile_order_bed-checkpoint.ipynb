{
 "cells": [
  {
   "cell_type": "code",
   "execution_count": 2,
   "metadata": {
    "ExecuteTime": {
     "end_time": "2023-12-01T17:50:01.076871Z",
     "start_time": "2023-12-01T17:49:56.404229Z"
    }
   },
   "outputs": [
    {
     "data": {
      "text/plain": [
       "('sans-serif', 'Arial', 18)"
      ]
     },
     "execution_count": 2,
     "metadata": {},
     "output_type": "execute_result"
    }
   ],
   "source": [
    "from Bio.SeqIO.FastaIO import SimpleFastaParser\n",
    "import numpy as np\n",
    "import os, sys\n",
    "import pandas as pd\n",
    "import pybedtools as pb\n",
    "import matplotlib.pyplot as plt\n",
    "import seaborn as sns\n",
    "\n",
    "LOCAL = False\n",
    "if LOCAL is True:\n",
    "    sys.path.append(\"/Users/sarahfong/tools/py_\")\n",
    "    PATH = \"/Users/sarahfong/Desktop/local_data/Biomarin_Jun_2023/\"\n",
    "    RE = os.path.join(PATH, \"results\")\n",
    "    FASTA = os.path.join(PATH, \"library_2\", \"Design\", \"biomarin-lib2-hg38-final.fasta\")\n",
    "else:\n",
    "    PATH=\"/wynton/group/ahituv/biomarin/data\"\n",
    "    RE = \"/wynton/group/ahituv/biomarin/results\"\n",
    "    FASTA = os.path.join(PATH, \"biomarin-lib2-hg38-final.fa\")\n",
    "    \n",
    "    \n",
    "META_DATA= os.path.join(PATH, \"lib2.meta_data.tsv\")\n",
    "\n",
    "# write\n",
    "TILE_BED = os.path.join(PATH, \"lib2.processed.bed\")\n",
    "ENH_BED = os.path.join(PATH,'lib2.processed.merged.bed')\n",
    "                         \n",
    "import config_readwrite as crw\n",
    "import plot_params as pp\n",
    "pp.fonts()"
   ]
  },
  {
   "cell_type": "markdown",
   "metadata": {},
   "source": [
    "# make tile bed"
   ]
  },
  {
   "cell_type": "code",
   "execution_count": 16,
   "metadata": {
    "ExecuteTime": {
     "end_time": "2023-12-01T17:52:51.923456Z",
     "start_time": "2023-12-01T17:52:51.684272Z"
    }
   },
   "outputs": [
    {
     "data": {
      "text/plain": [
       "array(['Background seq2 chr1', nan, 'chr1', 'chr10', 'chr11', 'chr12',\n",
       "       'chr13', 'chr14', 'chr15', 'chr16', 'chr17', 'chr18', 'chr19',\n",
       "       'chr2', 'chr20', 'chr21', 'chr22', 'chr3', 'chr4', 'chr5', 'chr6',\n",
       "       'chr7', 'chr8', 'chr9', 'chrX', 'chrY'], dtype=object)"
      ]
     },
     "execution_count": 16,
     "metadata": {},
     "output_type": "execute_result"
    }
   ],
   "source": [
    "df = pd.read_csv(META_DATA, sep='\\t')\n",
    "\n",
    "df.head()\n",
    "\n",
    "df['#chr'].unique()"
   ]
  },
  {
   "cell_type": "code",
   "execution_count": 18,
   "metadata": {
    "ExecuteTime": {
     "end_time": "2023-12-01T17:53:03.020745Z",
     "start_time": "2023-12-01T17:53:02.995022Z"
    }
   },
   "outputs": [
    {
     "data": {
      "text/html": [
       "<div>\n",
       "<style scoped>\n",
       "    .dataframe tbody tr th:only-of-type {\n",
       "        vertical-align: middle;\n",
       "    }\n",
       "\n",
       "    .dataframe tbody tr th {\n",
       "        vertical-align: top;\n",
       "    }\n",
       "\n",
       "    .dataframe thead th {\n",
       "        text-align: right;\n",
       "    }\n",
       "</style>\n",
       "<table border=\"1\" class=\"dataframe\">\n",
       "  <thead>\n",
       "    <tr style=\"text-align: right;\">\n",
       "      <th></th>\n",
       "      <th>name</th>\n",
       "      <th>sequence</th>\n",
       "      <th>bkgd</th>\n",
       "      <th>h</th>\n",
       "      <th>ctrl</th>\n",
       "      <th>cl</th>\n",
       "      <th>coor</th>\n",
       "      <th>top_bottom</th>\n",
       "      <th>strand</th>\n",
       "      <th>#chr</th>\n",
       "      <th>start</th>\n",
       "      <th>end</th>\n",
       "    </tr>\n",
       "  </thead>\n",
       "  <tbody>\n",
       "    <tr>\n",
       "      <th>648</th>\n",
       "      <td>Background seq1 72hr_top_98|Pos:135|Motif fami...</td>\n",
       "      <td>AGGACCGGATCAACTCTACTCCTGTGCGGGGTTAAGACCTAAGGAA...</td>\n",
       "      <td>False</td>\n",
       "      <td>NaN</td>\n",
       "      <td>NaN</td>\n",
       "      <td>NaN</td>\n",
       "      <td>NaN</td>\n",
       "      <td>top</td>\n",
       "      <td>+</td>\n",
       "      <td>NaN</td>\n",
       "      <td>NaN</td>\n",
       "      <td>NaN</td>\n",
       "    </tr>\n",
       "    <tr>\n",
       "      <th>649</th>\n",
       "      <td>Background seq1 72hr_top_98|Pos:115,155|Motif ...</td>\n",
       "      <td>AGGACCGGATCAACTCTACTCCTGTGCGGGGTTAAGACCTAAGGAA...</td>\n",
       "      <td>False</td>\n",
       "      <td>NaN</td>\n",
       "      <td>NaN</td>\n",
       "      <td>NaN</td>\n",
       "      <td>NaN</td>\n",
       "      <td>top</td>\n",
       "      <td>+</td>\n",
       "      <td>NaN</td>\n",
       "      <td>NaN</td>\n",
       "      <td>NaN</td>\n",
       "    </tr>\n",
       "    <tr>\n",
       "      <th>650</th>\n",
       "      <td>Background seq1 72hr_top_98|Pos:105,135,165|Mo...</td>\n",
       "      <td>AGGACCGGATCAACTCTACTCCTGTGCGGGGTTAAGACCTAAGGAA...</td>\n",
       "      <td>False</td>\n",
       "      <td>NaN</td>\n",
       "      <td>NaN</td>\n",
       "      <td>NaN</td>\n",
       "      <td>NaN</td>\n",
       "      <td>top</td>\n",
       "      <td>+</td>\n",
       "      <td>NaN</td>\n",
       "      <td>NaN</td>\n",
       "      <td>NaN</td>\n",
       "    </tr>\n",
       "    <tr>\n",
       "      <th>651</th>\n",
       "      <td>Background seq1 72hr_top_98|Pos:105,125,145,16...</td>\n",
       "      <td>AGGACCGGATCAACTCTACTCCTGTGCGGGGTTAAGACCTAAGGAA...</td>\n",
       "      <td>False</td>\n",
       "      <td>NaN</td>\n",
       "      <td>NaN</td>\n",
       "      <td>NaN</td>\n",
       "      <td>NaN</td>\n",
       "      <td>top</td>\n",
       "      <td>+</td>\n",
       "      <td>NaN</td>\n",
       "      <td>NaN</td>\n",
       "      <td>NaN</td>\n",
       "    </tr>\n",
       "    <tr>\n",
       "      <th>652</th>\n",
       "      <td>Background seq1 72hr_top_98|Pos:135|Motif fami...</td>\n",
       "      <td>AGGACCGGATCAACTCTACTCCTGTGCGGGGTTAAGACCTAAGGAA...</td>\n",
       "      <td>False</td>\n",
       "      <td>NaN</td>\n",
       "      <td>NaN</td>\n",
       "      <td>NaN</td>\n",
       "      <td>NaN</td>\n",
       "      <td>top</td>\n",
       "      <td>+</td>\n",
       "      <td>NaN</td>\n",
       "      <td>NaN</td>\n",
       "      <td>NaN</td>\n",
       "    </tr>\n",
       "    <tr>\n",
       "      <th>...</th>\n",
       "      <td>...</td>\n",
       "      <td>...</td>\n",
       "      <td>...</td>\n",
       "      <td>...</td>\n",
       "      <td>...</td>\n",
       "      <td>...</td>\n",
       "      <td>...</td>\n",
       "      <td>...</td>\n",
       "      <td>...</td>\n",
       "      <td>...</td>\n",
       "      <td>...</td>\n",
       "      <td>...</td>\n",
       "    </tr>\n",
       "    <tr>\n",
       "      <th>1317</th>\n",
       "      <td>Negative-GLUT_72hr_top_102</td>\n",
       "      <td>AGGACCGGATCAACTCCCCCCAGGCAAGGGCCTCTAACCCTGGGGC...</td>\n",
       "      <td>False</td>\n",
       "      <td>72h</td>\n",
       "      <td>negative</td>\n",
       "      <td>GLUT</td>\n",
       "      <td>NaN</td>\n",
       "      <td>top</td>\n",
       "      <td>NaN</td>\n",
       "      <td>NaN</td>\n",
       "      <td>NaN</td>\n",
       "      <td>NaN</td>\n",
       "    </tr>\n",
       "    <tr>\n",
       "      <th>1318</th>\n",
       "      <td>Negative-GLUT_72hr_bottom_113</td>\n",
       "      <td>AGGACCGGATCAACTTGCTGGCTGCCTGGGTCGGAGTCGACGCCAC...</td>\n",
       "      <td>False</td>\n",
       "      <td>72h</td>\n",
       "      <td>negative</td>\n",
       "      <td>GLUT</td>\n",
       "      <td>NaN</td>\n",
       "      <td>bottom</td>\n",
       "      <td>NaN</td>\n",
       "      <td>NaN</td>\n",
       "      <td>NaN</td>\n",
       "      <td>NaN</td>\n",
       "    </tr>\n",
       "    <tr>\n",
       "      <th>1319</th>\n",
       "      <td>Negative-GLUT_72hr_top_53</td>\n",
       "      <td>AGGACCGGATCAACTGGCAGTCAGGTTCGGGTCGCGGTCAGAGTAC...</td>\n",
       "      <td>False</td>\n",
       "      <td>72h</td>\n",
       "      <td>negative</td>\n",
       "      <td>GLUT</td>\n",
       "      <td>NaN</td>\n",
       "      <td>top</td>\n",
       "      <td>NaN</td>\n",
       "      <td>NaN</td>\n",
       "      <td>NaN</td>\n",
       "      <td>NaN</td>\n",
       "    </tr>\n",
       "    <tr>\n",
       "      <th>1320</th>\n",
       "      <td>Negative-GLUT_72hr_top_52</td>\n",
       "      <td>AGGACCGGATCAACTGAAGTCACGGTCACCAGGCTCCAAACCGAGG...</td>\n",
       "      <td>False</td>\n",
       "      <td>72h</td>\n",
       "      <td>negative</td>\n",
       "      <td>GLUT</td>\n",
       "      <td>NaN</td>\n",
       "      <td>top</td>\n",
       "      <td>NaN</td>\n",
       "      <td>NaN</td>\n",
       "      <td>NaN</td>\n",
       "      <td>NaN</td>\n",
       "    </tr>\n",
       "    <tr>\n",
       "      <th>1321</th>\n",
       "      <td>Negative-GABA_72hr_bottom_200</td>\n",
       "      <td>AGGACCGGATCAACTGTCACTAGGAGAAAGAAACAACTAAGAACCA...</td>\n",
       "      <td>False</td>\n",
       "      <td>72h</td>\n",
       "      <td>negative</td>\n",
       "      <td>GABA</td>\n",
       "      <td>NaN</td>\n",
       "      <td>bottom</td>\n",
       "      <td>NaN</td>\n",
       "      <td>NaN</td>\n",
       "      <td>NaN</td>\n",
       "      <td>NaN</td>\n",
       "    </tr>\n",
       "  </tbody>\n",
       "</table>\n",
       "<p>674 rows × 12 columns</p>\n",
       "</div>"
      ],
      "text/plain": [
       "                                                   name  \\\n",
       "648   Background seq1 72hr_top_98|Pos:135|Motif fami...   \n",
       "649   Background seq1 72hr_top_98|Pos:115,155|Motif ...   \n",
       "650   Background seq1 72hr_top_98|Pos:105,135,165|Mo...   \n",
       "651   Background seq1 72hr_top_98|Pos:105,125,145,16...   \n",
       "652   Background seq1 72hr_top_98|Pos:135|Motif fami...   \n",
       "...                                                 ...   \n",
       "1317                         Negative-GLUT_72hr_top_102   \n",
       "1318                      Negative-GLUT_72hr_bottom_113   \n",
       "1319                          Negative-GLUT_72hr_top_53   \n",
       "1320                          Negative-GLUT_72hr_top_52   \n",
       "1321                      Negative-GABA_72hr_bottom_200   \n",
       "\n",
       "                                               sequence   bkgd    h      ctrl  \\\n",
       "648   AGGACCGGATCAACTCTACTCCTGTGCGGGGTTAAGACCTAAGGAA...  False  NaN       NaN   \n",
       "649   AGGACCGGATCAACTCTACTCCTGTGCGGGGTTAAGACCTAAGGAA...  False  NaN       NaN   \n",
       "650   AGGACCGGATCAACTCTACTCCTGTGCGGGGTTAAGACCTAAGGAA...  False  NaN       NaN   \n",
       "651   AGGACCGGATCAACTCTACTCCTGTGCGGGGTTAAGACCTAAGGAA...  False  NaN       NaN   \n",
       "652   AGGACCGGATCAACTCTACTCCTGTGCGGGGTTAAGACCTAAGGAA...  False  NaN       NaN   \n",
       "...                                                 ...    ...  ...       ...   \n",
       "1317  AGGACCGGATCAACTCCCCCCAGGCAAGGGCCTCTAACCCTGGGGC...  False  72h  negative   \n",
       "1318  AGGACCGGATCAACTTGCTGGCTGCCTGGGTCGGAGTCGACGCCAC...  False  72h  negative   \n",
       "1319  AGGACCGGATCAACTGGCAGTCAGGTTCGGGTCGCGGTCAGAGTAC...  False  72h  negative   \n",
       "1320  AGGACCGGATCAACTGAAGTCACGGTCACCAGGCTCCAAACCGAGG...  False  72h  negative   \n",
       "1321  AGGACCGGATCAACTGTCACTAGGAGAAAGAAACAACTAAGAACCA...  False  72h  negative   \n",
       "\n",
       "        cl coor top_bottom strand #chr  start  end  \n",
       "648    NaN  NaN        top      +  NaN    NaN  NaN  \n",
       "649    NaN  NaN        top      +  NaN    NaN  NaN  \n",
       "650    NaN  NaN        top      +  NaN    NaN  NaN  \n",
       "651    NaN  NaN        top      +  NaN    NaN  NaN  \n",
       "652    NaN  NaN        top      +  NaN    NaN  NaN  \n",
       "...    ...  ...        ...    ...  ...    ...  ...  \n",
       "1317  GLUT  NaN        top    NaN  NaN    NaN  NaN  \n",
       "1318  GLUT  NaN     bottom    NaN  NaN    NaN  NaN  \n",
       "1319  GLUT  NaN        top    NaN  NaN    NaN  NaN  \n",
       "1320  GLUT  NaN        top    NaN  NaN    NaN  NaN  \n",
       "1321  GABA  NaN     bottom    NaN  NaN    NaN  NaN  \n",
       "\n",
       "[674 rows x 12 columns]"
      ]
     },
     "execution_count": 18,
     "metadata": {},
     "output_type": "execute_result"
    }
   ],
   "source": [
    "df.loc[df[\"#chr\"].map(str)==\"nan\"]"
   ]
  },
  {
   "cell_type": "code",
   "execution_count": 21,
   "metadata": {
    "ExecuteTime": {
     "end_time": "2023-12-01T17:54:08.226457Z",
     "start_time": "2023-12-01T17:54:07.982075Z"
    }
   },
   "outputs": [
    {
     "name": "stdout",
     "output_type": "stream",
     "text": [
      "(43370, 12)\n"
     ]
    }
   ],
   "source": [
    "# sequences that don't have a chr\n",
    "df[\"#chr\"] = df[\"#chr\"].fillna(\"0\")\n",
    "\n",
    "bed = df.loc[df[\"#chr\"].str.contains(\"chr\")]\n",
    "print(bed.shape)\n",
    "bedcols=[\"#chr\", \"start\", \"end\", \"name\"]\n",
    "bed[bedcols].drop_duplicates().sort_values(by=bedcols).to_csv(TILE_BED, sep='\\t', index=False)"
   ]
  },
  {
   "cell_type": "markdown",
   "metadata": {},
   "source": [
    "# merge tiles w/ loci "
   ]
  },
  {
   "cell_type": "code",
   "execution_count": 22,
   "metadata": {
    "ExecuteTime": {
     "end_time": "2023-12-01T17:54:10.925968Z",
     "start_time": "2023-12-01T17:54:10.812434Z"
    }
   },
   "outputs": [
    {
     "ename": "BEDToolsError",
     "evalue": "\nCommand was:\n\n\tbedtools sort -i /wynton/group/ahituv/biomarin/data/lib2.processed.bed\n\nError message was:\nUnexpected file format.  Please use tab-delimited BED, GFF, or VCF. Perhaps you have non-integer starts or ends at line 2?\n",
     "output_type": "error",
     "traceback": [
      "\u001b[0;31m---------------------------------------------------------------------------\u001b[0m",
      "\u001b[0;31mBEDToolsError\u001b[0m                             Traceback (most recent call last)",
      "Cell \u001b[0;32mIn[22], line 2\u001b[0m\n\u001b[1;32m      1\u001b[0m m \u001b[38;5;241m=\u001b[39m pb\u001b[38;5;241m.\u001b[39mBedTool(TILE_BED)\n\u001b[0;32m----> 2\u001b[0m merged \u001b[38;5;241m=\u001b[39m \u001b[43mm\u001b[49m\u001b[38;5;241;43m.\u001b[39;49m\u001b[43msort\u001b[49m\u001b[43m(\u001b[49m\u001b[43m)\u001b[49m\u001b[38;5;241m.\u001b[39mmerge()\n\u001b[1;32m      3\u001b[0m m\u001b[38;5;241m.\u001b[39mintersect(merged, wa\u001b[38;5;241m=\u001b[39m\u001b[38;5;28;01mTrue\u001b[39;00m, wb\u001b[38;5;241m=\u001b[39m\u001b[38;5;28;01mTrue\u001b[39;00m, output\u001b[38;5;241m=\u001b[39mENH_BED)\n",
      "File \u001b[0;32m~/.conda/envs/mamba/lib/python3.9/site-packages/pybedtools/bedtool.py:923\u001b[0m, in \u001b[0;36mBedTool._log_to_history.<locals>.decorated\u001b[0;34m(self, *args, **kwargs)\u001b[0m\n\u001b[1;32m    919\u001b[0m \u001b[38;5;28;01mdef\u001b[39;00m \u001b[38;5;21mdecorated\u001b[39m(\u001b[38;5;28mself\u001b[39m, \u001b[38;5;241m*\u001b[39margs, \u001b[38;5;241m*\u001b[39m\u001b[38;5;241m*\u001b[39mkwargs):\n\u001b[1;32m    920\u001b[0m \n\u001b[1;32m    921\u001b[0m     \u001b[38;5;66;03m# this calls the actual method in the first place; *result* is\u001b[39;00m\n\u001b[1;32m    922\u001b[0m     \u001b[38;5;66;03m# whatever you get back\u001b[39;00m\n\u001b[0;32m--> 923\u001b[0m     result \u001b[38;5;241m=\u001b[39m \u001b[43mmethod\u001b[49m\u001b[43m(\u001b[49m\u001b[38;5;28;43mself\u001b[39;49m\u001b[43m,\u001b[49m\u001b[43m \u001b[49m\u001b[38;5;241;43m*\u001b[39;49m\u001b[43margs\u001b[49m\u001b[43m,\u001b[49m\u001b[43m \u001b[49m\u001b[38;5;241;43m*\u001b[39;49m\u001b[38;5;241;43m*\u001b[39;49m\u001b[43mkwargs\u001b[49m\u001b[43m)\u001b[49m\n\u001b[1;32m    925\u001b[0m     \u001b[38;5;66;03m# add appropriate tags\u001b[39;00m\n\u001b[1;32m    926\u001b[0m     parent_tag \u001b[38;5;241m=\u001b[39m \u001b[38;5;28mself\u001b[39m\u001b[38;5;241m.\u001b[39m_tag\n",
      "File \u001b[0;32m~/.conda/envs/mamba/lib/python3.9/site-packages/pybedtools/bedtool.py:402\u001b[0m, in \u001b[0;36m_wraps.<locals>.decorator.<locals>.wrapped\u001b[0;34m(self, *args, **kwargs)\u001b[0m\n\u001b[1;32m    399\u001b[0m decode_output \u001b[38;5;241m=\u001b[39m \u001b[38;5;129;01mnot\u001b[39;00m result_is_bam\n\u001b[1;32m    401\u001b[0m \u001b[38;5;66;03m# Do the actual call\u001b[39;00m\n\u001b[0;32m--> 402\u001b[0m stream \u001b[38;5;241m=\u001b[39m \u001b[43mcall_bedtools\u001b[49m\u001b[43m(\u001b[49m\n\u001b[1;32m    403\u001b[0m \u001b[43m    \u001b[49m\u001b[43mcmds\u001b[49m\u001b[43m,\u001b[49m\n\u001b[1;32m    404\u001b[0m \u001b[43m    \u001b[49m\u001b[43mtmp\u001b[49m\u001b[43m,\u001b[49m\n\u001b[1;32m    405\u001b[0m \u001b[43m    \u001b[49m\u001b[43mstdin\u001b[49m\u001b[38;5;241;43m=\u001b[39;49m\u001b[43mstdin\u001b[49m\u001b[43m,\u001b[49m\n\u001b[1;32m    406\u001b[0m \u001b[43m    \u001b[49m\u001b[43mcheck_stderr\u001b[49m\u001b[38;5;241;43m=\u001b[39;49m\u001b[43mcheck_stderr\u001b[49m\u001b[43m,\u001b[49m\n\u001b[1;32m    407\u001b[0m \u001b[43m    \u001b[49m\u001b[43mdecode_output\u001b[49m\u001b[38;5;241;43m=\u001b[39;49m\u001b[43mdecode_output\u001b[49m\u001b[43m,\u001b[49m\n\u001b[1;32m    408\u001b[0m \u001b[43m\u001b[49m\u001b[43m)\u001b[49m\n\u001b[1;32m    410\u001b[0m \u001b[38;5;28;01mif\u001b[39;00m does_not_return_bedtool:\n\u001b[1;32m    411\u001b[0m     \u001b[38;5;28;01mreturn\u001b[39;00m does_not_return_bedtool(stream, \u001b[38;5;241m*\u001b[39m\u001b[38;5;241m*\u001b[39mkwargs)\n",
      "File \u001b[0;32m~/.conda/envs/mamba/lib/python3.9/site-packages/pybedtools/helpers.py:460\u001b[0m, in \u001b[0;36mcall_bedtools\u001b[0;34m(cmds, tmpfn, stdin, check_stderr, decode_output, encode_input)\u001b[0m\n\u001b[1;32m    458\u001b[0m             sys\u001b[38;5;241m.\u001b[39mstderr\u001b[38;5;241m.\u001b[39mwrite(stderr)\n\u001b[1;32m    459\u001b[0m         \u001b[38;5;28;01melse\u001b[39;00m:\n\u001b[0;32m--> 460\u001b[0m             \u001b[38;5;28;01mraise\u001b[39;00m BEDToolsError(subprocess\u001b[38;5;241m.\u001b[39mlist2cmdline(cmds), stderr)\n\u001b[1;32m    462\u001b[0m \u001b[38;5;28;01mexcept\u001b[39;00m (\u001b[38;5;167;01mOSError\u001b[39;00m, \u001b[38;5;167;01mIOError\u001b[39;00m) \u001b[38;5;28;01mas\u001b[39;00m err:\n\u001b[1;32m    463\u001b[0m     \u001b[38;5;28mprint\u001b[39m(\u001b[38;5;124m\"\u001b[39m\u001b[38;5;132;01m%s\u001b[39;00m\u001b[38;5;124m: \u001b[39m\u001b[38;5;132;01m%s\u001b[39;00m\u001b[38;5;124m\"\u001b[39m \u001b[38;5;241m%\u001b[39m (\u001b[38;5;28mtype\u001b[39m(err), os\u001b[38;5;241m.\u001b[39mstrerror(err\u001b[38;5;241m.\u001b[39merrno)))\n",
      "\u001b[0;31mBEDToolsError\u001b[0m: \nCommand was:\n\n\tbedtools sort -i /wynton/group/ahituv/biomarin/data/lib2.processed.bed\n\nError message was:\nUnexpected file format.  Please use tab-delimited BED, GFF, or VCF. Perhaps you have non-integer starts or ends at line 2?\n"
     ]
    }
   ],
   "source": [
    "m = pb.BedTool(TILE_BED)\n",
    "merged = m.sort().merge()\n",
    "m.intersect(merged, wa=True, wb=True, output=ENH_BED)"
   ]
  },
  {
   "cell_type": "markdown",
   "metadata": {},
   "source": [
    "# add enhancer id and tile order"
   ]
  },
  {
   "cell_type": "code",
   "execution_count": 23,
   "metadata": {
    "ExecuteTime": {
     "end_time": "2023-12-01T17:55:20.144796Z",
     "start_time": "2023-12-01T17:55:20.138738Z"
    }
   },
   "outputs": [],
   "source": [
    "def assignTileOrder(df):\n",
    "    \n",
    "    \"\"\" assign tile order within each peak, return dataframe\"\"\"\n",
    "    dfs = {}\n",
    "    for enh_id in df[\"enh.id\"].unique():\n",
    "        # enh dataframe\n",
    "        test = df.loc[df[\"enh.id\"] ==enh_id].copy()\n",
    "        \n",
    "        # sort by smallest start coordinate\n",
    "        test = test.sort_values(by= [\"#chr\", \"start.tile\", \"end.tile\"]).reset_index()\n",
    "        \n",
    "        # drop index column\n",
    "        test = test.drop(columns = [\"index\"])\n",
    "        \n",
    "        # add tile.order\n",
    "        test[\"tile.order\"] = test.index.map(str)\n",
    "    \n",
    "        # add to dictionary\n",
    "        dfs[enh_id] = test\n",
    "        \n",
    "    return pd.concat(dfs.values())"
   ]
  },
  {
   "cell_type": "code",
   "execution_count": 24,
   "metadata": {
    "ExecuteTime": {
     "end_time": "2023-12-01T17:55:37.108650Z",
     "start_time": "2023-12-01T17:55:36.946451Z"
    }
   },
   "outputs": [
    {
     "data": {
      "text/html": [
       "<div>\n",
       "<style scoped>\n",
       "    .dataframe tbody tr th:only-of-type {\n",
       "        vertical-align: middle;\n",
       "    }\n",
       "\n",
       "    .dataframe tbody tr th {\n",
       "        vertical-align: top;\n",
       "    }\n",
       "\n",
       "    .dataframe thead th {\n",
       "        text-align: right;\n",
       "    }\n",
       "</style>\n",
       "<table border=\"1\" class=\"dataframe\">\n",
       "  <thead>\n",
       "    <tr style=\"text-align: right;\">\n",
       "      <th></th>\n",
       "      <th>#chr</th>\n",
       "      <th>start.tile</th>\n",
       "      <th>end.tile</th>\n",
       "      <th>coor</th>\n",
       "      <th>#chr.enh</th>\n",
       "      <th>start.enh</th>\n",
       "      <th>end.enh</th>\n",
       "      <th>enh.id</th>\n",
       "      <th>enh.name</th>\n",
       "      <th>tile.order</th>\n",
       "    </tr>\n",
       "  </thead>\n",
       "  <tbody>\n",
       "    <tr>\n",
       "      <th>0</th>\n",
       "      <td>Background seq2 chr1</td>\n",
       "      <td>244100624</td>\n",
       "      <td>244100893</td>\n",
       "      <td>Background seq2 chr1:244100624-244100893:+|Pos...</td>\n",
       "      <td>Background seq2 chr1</td>\n",
       "      <td>244100624</td>\n",
       "      <td>244100893</td>\n",
       "      <td>Background seq2 chr1:244100624-244100893</td>\n",
       "      <td>enh.0</td>\n",
       "      <td>0</td>\n",
       "    </tr>\n",
       "    <tr>\n",
       "      <th>1</th>\n",
       "      <td>Background seq2 chr1</td>\n",
       "      <td>244100624</td>\n",
       "      <td>244100893</td>\n",
       "      <td>Background seq2 chr1:244100624-244100893:+|Pos...</td>\n",
       "      <td>Background seq2 chr1</td>\n",
       "      <td>244100624</td>\n",
       "      <td>244100893</td>\n",
       "      <td>Background seq2 chr1:244100624-244100893</td>\n",
       "      <td>enh.0</td>\n",
       "      <td>1</td>\n",
       "    </tr>\n",
       "    <tr>\n",
       "      <th>2</th>\n",
       "      <td>Background seq2 chr1</td>\n",
       "      <td>244100624</td>\n",
       "      <td>244100893</td>\n",
       "      <td>Background seq2 chr1:244100624-244100893:+|Pos...</td>\n",
       "      <td>Background seq2 chr1</td>\n",
       "      <td>244100624</td>\n",
       "      <td>244100893</td>\n",
       "      <td>Background seq2 chr1:244100624-244100893</td>\n",
       "      <td>enh.0</td>\n",
       "      <td>2</td>\n",
       "    </tr>\n",
       "    <tr>\n",
       "      <th>3</th>\n",
       "      <td>Background seq2 chr1</td>\n",
       "      <td>244100624</td>\n",
       "      <td>244100893</td>\n",
       "      <td>Background seq2 chr1:244100624-244100893:+|Pos...</td>\n",
       "      <td>Background seq2 chr1</td>\n",
       "      <td>244100624</td>\n",
       "      <td>244100893</td>\n",
       "      <td>Background seq2 chr1:244100624-244100893</td>\n",
       "      <td>enh.0</td>\n",
       "      <td>3</td>\n",
       "    </tr>\n",
       "    <tr>\n",
       "      <th>4</th>\n",
       "      <td>Background seq2 chr1</td>\n",
       "      <td>244100624</td>\n",
       "      <td>244100893</td>\n",
       "      <td>Background seq2 chr1:244100624-244100893:+|Pos...</td>\n",
       "      <td>Background seq2 chr1</td>\n",
       "      <td>244100624</td>\n",
       "      <td>244100893</td>\n",
       "      <td>Background seq2 chr1:244100624-244100893</td>\n",
       "      <td>enh.0</td>\n",
       "      <td>4</td>\n",
       "    </tr>\n",
       "  </tbody>\n",
       "</table>\n",
       "</div>"
      ],
      "text/plain": [
       "                   #chr  start.tile   end.tile  \\\n",
       "0  Background seq2 chr1   244100624  244100893   \n",
       "1  Background seq2 chr1   244100624  244100893   \n",
       "2  Background seq2 chr1   244100624  244100893   \n",
       "3  Background seq2 chr1   244100624  244100893   \n",
       "4  Background seq2 chr1   244100624  244100893   \n",
       "\n",
       "                                                coor              #chr.enh  \\\n",
       "0  Background seq2 chr1:244100624-244100893:+|Pos...  Background seq2 chr1   \n",
       "1  Background seq2 chr1:244100624-244100893:+|Pos...  Background seq2 chr1   \n",
       "2  Background seq2 chr1:244100624-244100893:+|Pos...  Background seq2 chr1   \n",
       "3  Background seq2 chr1:244100624-244100893:+|Pos...  Background seq2 chr1   \n",
       "4  Background seq2 chr1:244100624-244100893:+|Pos...  Background seq2 chr1   \n",
       "\n",
       "   start.enh    end.enh                                    enh.id enh.name  \\\n",
       "0  244100624  244100893  Background seq2 chr1:244100624-244100893    enh.0   \n",
       "1  244100624  244100893  Background seq2 chr1:244100624-244100893    enh.0   \n",
       "2  244100624  244100893  Background seq2 chr1:244100624-244100893    enh.0   \n",
       "3  244100624  244100893  Background seq2 chr1:244100624-244100893    enh.0   \n",
       "4  244100624  244100893  Background seq2 chr1:244100624-244100893    enh.0   \n",
       "\n",
       "   tile.order  \n",
       "0           0  \n",
       "1           1  \n",
       "2           2  \n",
       "3           3  \n",
       "4           4  "
      ]
     },
     "execution_count": 24,
     "metadata": {},
     "output_type": "execute_result"
    }
   ],
   "source": [
    "if \"#chr\" not in list(pd.read_csv(ENH_BED, sep='\\t', nrows=1)):\n",
    "    \n",
    "    merge = pd.read_csv(ENH_BED, sep='\\t', header=None)\n",
    "    merge.columns=[\"#chr\", \"start.tile\", \"end.tile\", \"coor\", \"#chr.enh\", \"start.enh\", \"end.enh\", \"name\"]\n",
    "    \n",
    "    # enhancer only dataframe\n",
    "    enh = merge[[ \"#chr.enh\", \"start.enh\", \"end.enh\"]].drop_duplicates().copy().reset_index()\n",
    "    \n",
    "    # make enhancer coordinate id\n",
    "    enh['enh.id'] = enh['#chr.enh'] + \":\" + enh[\"start.enh\"].map(str) + \"-\" + enh[\"end.enh\"].map(str)\n",
    "    \n",
    "    # make enhancer name id\n",
    "    enh['enh.name'] = \"enh.\" + enh.index.map(str)\n",
    "    \n",
    "    # drop the index colunm\n",
    "    enh = enh.drop(columns = [\"index\"])\n",
    "    \n",
    "    # add enhancer info back to tile info\n",
    "    merge = pd.merge( merge, enh, how=\"left\")\n",
    "    \n",
    "    # add tile order\n",
    "    merge = assignTileOrder(merge)\n",
    "    \n",
    "    # add name column back in, recover somem lost synthetic tiles\n",
    "    merge = pd.merge(df[[\"name\", \"coor\"]], merge, how='left')\n",
    "    \n",
    "    # save\n",
    "    merge.to_csv(ENH_BED, sep='\\t', index=False)\n",
    "else:\n",
    "     merge = pd.read_csv(ENH_BED, sep='\\t')\n",
    "\n",
    "merge.head()"
   ]
  },
  {
   "cell_type": "code",
   "execution_count": null,
   "metadata": {},
   "outputs": [],
   "source": []
  }
 ],
 "metadata": {
  "kernelspec": {
   "display_name": "Python 3 (ipykernel)",
   "language": "python",
   "name": "python3"
  },
  "language_info": {
   "codemirror_mode": {
    "name": "ipython",
    "version": 3
   },
   "file_extension": ".py",
   "mimetype": "text/x-python",
   "name": "python",
   "nbconvert_exporter": "python",
   "pygments_lexer": "ipython3",
   "version": "3.9.16"
  },
  "toc": {
   "base_numbering": 1,
   "nav_menu": {},
   "number_sections": true,
   "sideBar": true,
   "skip_h1_title": false,
   "title_cell": "Table of Contents",
   "title_sidebar": "Contents",
   "toc_cell": false,
   "toc_position": {},
   "toc_section_display": true,
   "toc_window_display": false
  },
  "varInspector": {
   "cols": {
    "lenName": 16,
    "lenType": 16,
    "lenVar": 40
   },
   "kernels_config": {
    "python": {
     "delete_cmd_postfix": "",
     "delete_cmd_prefix": "del ",
     "library": "var_list.py",
     "varRefreshCmd": "print(var_dic_list())"
    },
    "r": {
     "delete_cmd_postfix": ") ",
     "delete_cmd_prefix": "rm(",
     "library": "var_list.r",
     "varRefreshCmd": "cat(var_dic_list()) "
    }
   },
   "types_to_exclude": [
    "module",
    "function",
    "builtin_function_or_method",
    "instance",
    "_Feature"
   ],
   "window_display": false
  }
 },
 "nbformat": 4,
 "nbformat_minor": 2
}
