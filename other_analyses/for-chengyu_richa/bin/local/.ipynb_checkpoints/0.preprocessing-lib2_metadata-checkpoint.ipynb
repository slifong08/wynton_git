{
 "cells": [
  {
   "cell_type": "code",
   "execution_count": 2,
   "metadata": {
    "ExecuteTime": {
     "end_time": "2023-12-13T18:06:55.374272Z",
     "start_time": "2023-12-13T18:06:34.876400Z"
    }
   },
   "outputs": [
    {
     "data": {
      "text/plain": [
       "('sans-serif', 'Arial', 18)"
      ]
     },
     "execution_count": 2,
     "metadata": {},
     "output_type": "execute_result"
    }
   ],
   "source": [
    "from Bio.SeqIO.FastaIO import SimpleFastaParser\n",
    "import numpy as np\n",
    "import os, sys\n",
    "import pandas as pd\n",
    "import pybedtools as pb\n",
    "import matplotlib.pyplot as plt\n",
    "import seaborn as sns\n",
    "from statsmodels.stats import multitest\n",
    "\n",
    "LOCAL = False\n",
    "if LOCAL is True:\n",
    "    sys.path.append(\"/Users/sarahfong/tools/py_\")\n",
    "    PATH = \"/Users/sarahfong/Desktop/local_data/Biomarin_Jun_2023/\"\n",
    "    RE = os.path.join(PATH, \"results\")\n",
    "    FASTA = os.path.join(PATH, \"library_2\", \"Design\", \"biomarin-lib2-hg38-final.fasta\")\n",
    "else:\n",
    "    PATH=\"/wynton/group/ahituv/biomarin/data\"\n",
    "    RE = \"/wynton/group/ahituv/biomarin/results\"\n",
    "    FASTA = os.path.join(PATH, \"biomarin-lib2-hg38-final.fa\")\n",
    "MPRA = os.path.join(PATH, \"delta_rank.csv\")\n",
    "\n",
    "# write\n",
    "META_DATA= os.path.join(PATH, \"lib2.meta_data.tsv\") \n",
    "ENH_BED = os.path.join(PATH, 'lib2.processed.merged.bed')\n",
    "\n",
    "import config_readwrite as crw\n",
    "import plot_params as pp\n",
    "pp.fonts()"
   ]
  },
  {
   "cell_type": "markdown",
   "metadata": {},
   "source": [
    "# investigate fasta"
   ]
  },
  {
   "cell_type": "code",
   "execution_count": 3,
   "metadata": {
    "ExecuteTime": {
     "end_time": "2023-12-13T18:07:05.779298Z",
     "start_time": "2023-12-13T18:07:05.548852Z"
    }
   },
   "outputs": [
    {
     "data": {
      "text/plain": [
       "44044"
      ]
     },
     "execution_count": 3,
     "metadata": {},
     "output_type": "execute_result"
    }
   ],
   "source": [
    "fasta = {}\n",
    "with open(FASTA, \"r\") as fa:\n",
    "    for line in SimpleFastaParser(fa):\n",
    "        name, seq = line  # parse line\n",
    "        #print(name)  # print name\n",
    "        fasta[name]=seq  # print sequence\n",
    "\n",
    "len(fasta.keys())"
   ]
  },
  {
   "cell_type": "markdown",
   "metadata": {},
   "source": [
    "## count the different types of annotations"
   ]
  },
  {
   "cell_type": "code",
   "execution_count": 6,
   "metadata": {
    "ExecuteTime": {
     "end_time": "2023-12-13T18:14:11.110608Z",
     "start_time": "2023-12-13T18:14:10.986911Z"
    }
   },
   "outputs": [
    {
     "name": "stdout",
     "output_type": "stream",
     "text": [
      "shuffle 209\n",
      "Negative 237\n",
      "Negative-GLUT 37\n",
      "Negative-GABA 38\n",
      "Negative-chr 147\n",
      "Negative-shuf 6\n",
      "Negative-GLUT_shuf 2\n",
      "Positive 135\n",
      "Positive-GLUT 43\n",
      "Positive-GABA 46\n",
      "Positive-chr 45\n",
      "Positive-shuf 1\n",
      "Background 1296\n",
      "Background seq1 648\n",
      "Background seq2 648\n"
     ]
    }
   ],
   "source": [
    "# count natural genomic loci\n",
    "TERMS = [\"shuffle\", \"Negative\", \n",
    "         'Negative-GLUT', \"Negative-GABA\", \"Negative-chr\",\"Negative-shuf\",\"Negative-GLUT_shuf\", \n",
    "         \"Positive\",  \n",
    "         \"Positive-GLUT\", \"Positive-GABA\", \"Positive-chr\",\n",
    "         \"Positive-shuf\",\n",
    "         \"Background\", \"Background seq1\", 'Background seq2'\n",
    "        ]\n",
    "\n",
    "for SEARCH_TERM in TERMS:\n",
    "    val = 0\n",
    "    for key in fasta.keys():\n",
    "        if SEARCH_TERM in key:\n",
    "            val +=1\n",
    "            #print(key)\n",
    "    print(SEARCH_TERM, val)"
   ]
  },
  {
   "cell_type": "markdown",
   "metadata": {},
   "source": [
    "## shuffled positive and negative controls will be considered shuffles!"
   ]
  },
  {
   "cell_type": "code",
   "execution_count": 5,
   "metadata": {
    "ExecuteTime": {
     "end_time": "2023-12-13T18:10:41.728519Z",
     "start_time": "2023-12-13T18:10:41.719675Z"
    }
   },
   "outputs": [
    {
     "name": "stdout",
     "output_type": "stream",
     "text": [
      "Positive-shuffle35_chr12:44015386-44015655:+\n",
      "Negative-shuffle116_chr2:171661323-171661592:+\n",
      "Negative-shuffle137_chr12:44592567-44592836:+\n",
      "Negative-shuffle46_chr18:59505340-59505609:+\n",
      "Negative-shuffle157_chr18:59505385-59505654:-\n",
      "Negative-shuffle54_chr1:162285559-162285828:+\n",
      "Negative-shuffle39_chr2:170816640-170816909:+\n",
      "Negative-GLUT_shuffle30_chr2:199552111-199552380:-\n",
      "Negative-GLUT_shuffle163_chr2:172234903-172235172:-\n"
     ]
    }
   ],
   "source": [
    "for k in fasta.keys():\n",
    "    if \"shuffle\" in k:\n",
    "        if \"Positive\" in k:\n",
    "            print(k)\n",
    "        elif \"Negative\" in k:\n",
    "            print(k)"
   ]
  },
  {
   "cell_type": "markdown",
   "metadata": {},
   "source": [
    "## count natural loci"
   ]
  },
  {
   "cell_type": "code",
   "execution_count": 4,
   "metadata": {
    "ExecuteTime": {
     "end_time": "2023-12-02T19:42:48.436660Z",
     "start_time": "2023-12-02T19:42:48.415151Z"
    },
    "scrolled": true
   },
   "outputs": [
    {
     "name": "stdout",
     "output_type": "stream",
     "text": [
      "42176\n"
     ]
    }
   ],
   "source": [
    "# count natural genomic loci\n",
    "val = 0\n",
    "SEARCH_TERM = \"chr\"\n",
    "for key in fasta.keys():\n",
    "    if SEARCH_TERM in key and \"seq\" not in key and \"shuffle\" not in key:\n",
    "        if \"Negative\" not in key and \"Positive\" not in key and key != \" \":\n",
    "            val +=1\n",
    "            #print(key)\n",
    "print(val)"
   ]
  },
  {
   "cell_type": "markdown",
   "metadata": {},
   "source": [
    "## pieplots of library design"
   ]
  },
  {
   "cell_type": "code",
   "execution_count": 96,
   "metadata": {
    "ExecuteTime": {
     "end_time": "2023-12-13T18:50:15.217999Z",
     "start_time": "2023-12-13T18:50:12.511617Z"
    }
   },
   "outputs": [
    {
     "data": {
      "image/png": "[encoded data removed]",
      "text/plain": [
       "<Figure size 640x480 with 1 Axes>"
      ]
     },
     "metadata": {},
     "output_type": "display_data"
    }
   ],
   "source": [
    "labels = ['Genomic', 'Synthetic-1', 'Synthetic-2', 'Positive-GLUT', 'Positive-GABA', \"Positive Genomic\", \n",
    "\"Negative-GLUT\", 'Negative-GABA', \"Negative Genomic\", 'shuffle'\n",
    "]\n",
    "sizes = [42176, 648, 648, 43, 46, 45,35, 38, 147, 218]\n",
    "\n",
    "fig, ax = plt.subplots()\n",
    "ax.pie(sizes, colors=plt.cm.tab20.colors[1:])\n",
    "\n",
    "legend_list=[]\n",
    "for label, size in zip(labels, sizes):\n",
    "    legend_list.append(f\"{label}, {size}\")\n",
    "    \n",
    "ax.legend(legend_list, title=\"Group, N\", bbox_to_anchor=(1,1))\n",
    "\n",
    "plt.savefig(os.path.join(RE, \"library.pie.full.pdf\"), bbox_inches=\"tight\")"
   ]
  },
  {
   "cell_type": "code",
   "execution_count": 97,
   "metadata": {
    "ExecuteTime": {
     "end_time": "2023-12-13T18:50:19.313776Z",
     "start_time": "2023-12-13T18:50:18.510126Z"
    }
   },
   "outputs": [
    {
     "data": {
      "image/png": "[encoded data removed]",
      "text/plain": [
       "<Figure size 1200x600 with 2 Axes>"
      ]
     },
     "metadata": {},
     "output_type": "display_data"
    }
   ],
   "source": [
    "fig, (ax1, ax2) = plt.subplots(ncols=2, figsize=(12,6))\n",
    "\n",
    "# the big plot\n",
    "labels = ['Genomic', 'Synthetic-1', 'Synthetic-2', 'Positive-GLUT', 'Positive-GABA', \"Positive Genomic\", \n",
    "\"Negative-GLUT\", 'Negative-GABA', \"Negative Genomic\", 'shuffle'\n",
    "]\n",
    "sizes = [42176, 648, 648, 43, 46, 45,35, 38, 147, 218]\n",
    "\n",
    "ax1.pie(sizes, colors=plt.cm.tab20.colors[1:])\n",
    "\n",
    "legend_list=[\"Genomic, 42176\", \"Ctrl + syn, 1868\"]\n",
    "\n",
    "ax1.legend(legend_list)#, title=\"Group, N\", bbox_to_anchor=(1,1))\n",
    "\n",
    "    \n",
    "\n",
    "# the little plot\n",
    "labels2 = ['Synthetic-1', 'Synthetic-2',   \n",
    "          'Positive-GLUT', \"Negative-GLUT\", \n",
    "          'Positive-GABA', 'Negative-GABA', \n",
    "          \"Positive Genomic\", \"Negative Genomic\",\n",
    "          \"shuffle\",\n",
    "          ]\n",
    "sizes2 = [648, 648, 43, 35, 46, 38, 45, 147, 218]\n",
    "\n",
    "ax2.pie(sizes2, colors=plt.cm.tab20.colors[2:])\n",
    "\n",
    "legend_list2 = []\n",
    "for label, size in zip(labels2, sizes2):\n",
    "    legend_list2.append(f\"{label}, {size}\")\n",
    "\n",
    "ax2.legend(legend_list2, title=\"Ctrl + syn, N\", bbox_to_anchor=(1, 1))\n",
    "\n",
    "plt.savefig(os.path.join(RE, \"library.pie.partitioned.pdf\"), bbox_inches=\"tight\")"
   ]
  },
  {
   "cell_type": "code",
   "execution_count": 38,
   "metadata": {
    "ExecuteTime": {
     "end_time": "2023-12-02T19:50:26.639604Z",
     "start_time": "2023-12-02T19:50:26.618921Z"
    }
   },
   "outputs": [],
   "source": [
    "df = pd.DataFrame(fasta.items())\n",
    "df.columns = [\"name\", \"sequence\"]"
   ]
  },
  {
   "cell_type": "markdown",
   "metadata": {},
   "source": [
    "## name all the columns "
   ]
  },
  {
   "cell_type": "code",
   "execution_count": 59,
   "metadata": {
    "ExecuteTime": {
     "end_time": "2023-12-02T19:58:27.880946Z",
     "start_time": "2023-12-02T19:58:27.405204Z"
    }
   },
   "outputs": [
    {
     "name": "stdout",
     "output_type": "stream",
     "text": [
      "(44044, 12)\n"
     ]
    },
    {
     "data": {
      "text/html": [
       "<div>\n",
       "<style scoped>\n",
       "    .dataframe tbody tr th:only-of-type {\n",
       "        vertical-align: middle;\n",
       "    }\n",
       "\n",
       "    .dataframe tbody tr th {\n",
       "        vertical-align: top;\n",
       "    }\n",
       "\n",
       "    .dataframe thead th {\n",
       "        text-align: right;\n",
       "    }\n",
       "</style>\n",
       "<table border=\"1\" class=\"dataframe\">\n",
       "  <thead>\n",
       "    <tr style=\"text-align: right;\">\n",
       "      <th></th>\n",
       "      <th>name</th>\n",
       "      <th>sequence</th>\n",
       "      <th>bkgd</th>\n",
       "      <th>72h</th>\n",
       "      <th>ctrl</th>\n",
       "      <th>cl</th>\n",
       "      <th>coor</th>\n",
       "      <th>top_bottom</th>\n",
       "      <th>strand</th>\n",
       "      <th>#chr</th>\n",
       "      <th>start</th>\n",
       "      <th>end</th>\n",
       "    </tr>\n",
       "  </thead>\n",
       "  <tbody>\n",
       "    <tr>\n",
       "      <th>38284</th>\n",
       "      <td>chr1:10057-10327</td>\n",
       "      <td>AGGACCGGATCAACTCCCTAACCCTAACCCTAACCCTAACCCTAAC...</td>\n",
       "      <td>False</td>\n",
       "      <td>None</td>\n",
       "      <td>None</td>\n",
       "      <td>None</td>\n",
       "      <td>chr1:10057-10327</td>\n",
       "      <td>None</td>\n",
       "      <td>+</td>\n",
       "      <td>chr1</td>\n",
       "      <td>10057</td>\n",
       "      <td>10327</td>\n",
       "    </tr>\n",
       "    <tr>\n",
       "      <th>38285</th>\n",
       "      <td>chr1:10077-10347</td>\n",
       "      <td>AGGACCGGATCAACTCTAACCCTAACCCTAACCCTAACCCTAACCC...</td>\n",
       "      <td>False</td>\n",
       "      <td>None</td>\n",
       "      <td>None</td>\n",
       "      <td>None</td>\n",
       "      <td>chr1:10077-10347</td>\n",
       "      <td>None</td>\n",
       "      <td>+</td>\n",
       "      <td>chr1</td>\n",
       "      <td>10077</td>\n",
       "      <td>10347</td>\n",
       "    </tr>\n",
       "    <tr>\n",
       "      <th>38286</th>\n",
       "      <td>chr1:10097-10367</td>\n",
       "      <td>AGGACCGGATCAACTAACCCTAACCCAACCCTAACCCTAACCCTAA...</td>\n",
       "      <td>False</td>\n",
       "      <td>None</td>\n",
       "      <td>None</td>\n",
       "      <td>None</td>\n",
       "      <td>chr1:10097-10367</td>\n",
       "      <td>None</td>\n",
       "      <td>+</td>\n",
       "      <td>chr1</td>\n",
       "      <td>10097</td>\n",
       "      <td>10367</td>\n",
       "    </tr>\n",
       "    <tr>\n",
       "      <th>38287</th>\n",
       "      <td>chr1:10117-10387</td>\n",
       "      <td>AGGACCGGATCAACTCCTAACCCTAACCCTAACCCTAACCCTAACC...</td>\n",
       "      <td>False</td>\n",
       "      <td>None</td>\n",
       "      <td>None</td>\n",
       "      <td>None</td>\n",
       "      <td>chr1:10117-10387</td>\n",
       "      <td>None</td>\n",
       "      <td>+</td>\n",
       "      <td>chr1</td>\n",
       "      <td>10117</td>\n",
       "      <td>10387</td>\n",
       "    </tr>\n",
       "    <tr>\n",
       "      <th>38275</th>\n",
       "      <td>chr1:10133-10403</td>\n",
       "      <td>AGGACCGGATCAACTACCCTAACCCTAACCCCTAACCCTAACCCTA...</td>\n",
       "      <td>False</td>\n",
       "      <td>None</td>\n",
       "      <td>None</td>\n",
       "      <td>None</td>\n",
       "      <td>chr1:10133-10403</td>\n",
       "      <td>None</td>\n",
       "      <td>+</td>\n",
       "      <td>chr1</td>\n",
       "      <td>10133</td>\n",
       "      <td>10403</td>\n",
       "    </tr>\n",
       "  </tbody>\n",
       "</table>\n",
       "</div>"
      ],
      "text/plain": [
       "                   name                                           sequence  \\\n",
       "38284  chr1:10057-10327  AGGACCGGATCAACTCCCTAACCCTAACCCTAACCCTAACCCTAAC...   \n",
       "38285  chr1:10077-10347  AGGACCGGATCAACTCTAACCCTAACCCTAACCCTAACCCTAACCC...   \n",
       "38286  chr1:10097-10367  AGGACCGGATCAACTAACCCTAACCCAACCCTAACCCTAACCCTAA...   \n",
       "38287  chr1:10117-10387  AGGACCGGATCAACTCCTAACCCTAACCCTAACCCTAACCCTAACC...   \n",
       "38275  chr1:10133-10403  AGGACCGGATCAACTACCCTAACCCTAACCCCTAACCCTAACCCTA...   \n",
       "\n",
       "        bkgd   72h  ctrl    cl              coor top_bottom strand  #chr  \\\n",
       "38284  False  None  None  None  chr1:10057-10327       None      +  chr1   \n",
       "38285  False  None  None  None  chr1:10077-10347       None      +  chr1   \n",
       "38286  False  None  None  None  chr1:10097-10367       None      +  chr1   \n",
       "38287  False  None  None  None  chr1:10117-10387       None      +  chr1   \n",
       "38275  False  None  None  None  chr1:10133-10403       None      +  chr1   \n",
       "\n",
       "       start    end  \n",
       "38284  10057  10327  \n",
       "38285  10077  10347  \n",
       "38286  10097  10367  \n",
       "38287  10117  10387  \n",
       "38275  10133  10403  "
      ]
     },
     "execution_count": 59,
     "metadata": {},
     "output_type": "execute_result"
    }
   ],
   "source": [
    "# set colummns to fill information with\n",
    "df[\"bkgd\"] = False\n",
    "df[\"72h\"] = None\n",
    "df[\"ctrl\"] = None\n",
    "df[\"cl\"] = None\n",
    "df[\"coor\"] = None\n",
    "df[\"top_bottom\"] = None\n",
    "df[\"strand\"] = None\n",
    "\n",
    "# background\n",
    "df.loc[df[\"name\"].str.contains(\"seq\"), \"bkgd\"] = True\n",
    "\n",
    "# hour annotated\n",
    "df.loc[df[\"name\"].str.contains(\"_72hr_\"), \"72h\"] = True\n",
    "\n",
    "# controls - positive and negative control annotated\n",
    "df.loc[df[\"name\"].str.contains(\"Positive-c\"), \"ctrl\"] = \"positive\"\n",
    "df.loc[df[\"name\"].str.contains(\"Positive-G\"), \"ctrl\"] = \"positive\"\n",
    "\n",
    "df.loc[df[\"name\"].str.contains(\"Negative-c\"), \"ctrl\"] = \"negative\"\n",
    "df.loc[df[\"name\"].str.contains(\"Negative-G\"), \"ctrl\"] = \"negative\"\n",
    "\n",
    "df.loc[df[\"name\"].str.contains(\"shuffle\"), \"ctrl\"] = \"shuffle\"\n",
    "df.loc[df[\"name\"].str.contains(\"Boaz\"), \"ctrl\"] = \"Boaz\"\n",
    "df.loc[df[\"name\"].str.contains(\"Motiffamily\"), \"ctrl\"] = \"syn\"\n",
    "\n",
    "# controls\n",
    "\n",
    "# annotate cell line\n",
    "# GABA positive/negative controls\n",
    "df.loc[df[\"name\"].str.contains(\"Positive-GABA\"), \"cl\"] = \"GABA\"\n",
    "df.loc[df[\"name\"].str.contains(\"Negative-GABA\"), \"cl\"] = \"GABA\"\n",
    "\n",
    "# GLUT positive/negative controls\n",
    "df.loc[df[\"name\"].str.contains(\"Positive-GLUT\"), \"cl\"] = \"GLUT\"\n",
    "df.loc[df[\"name\"].str.contains(\"Negative-GLUT\"), \"cl\"] = \"GLUT\"\n",
    "\n",
    "# top, bottom\n",
    "df.loc[df[\"name\"].str.contains(\"top\"), \"top_bottom\"] = \"top\"\n",
    "df.loc[df[\"name\"].str.contains(\"bottom\"), \"top_bottom\"] = \"bottom\"\n",
    "\n",
    "# coordinate\n",
    "df[\"coor\"] = df[\"name\"].apply(lambda x: x.split(\"chr:\")[\n",
    "                              0] if \"chr\" in x else None)\n",
    "\n",
    "# handle all the negative and postitive controls separately\n",
    "df.loc[df[\"name\"].map(str).str.contains(\":+\"), \"strand\"] = \"+\"\n",
    "df.loc[df[\"name\"].map(str).str.contains(\":-\"), \"strand\"] = \"-\"\n",
    "\n",
    "###\n",
    "# clean up bed coordinates\n",
    "###\n",
    "\n",
    "# chr column\n",
    "df[\"#chr\"] = df[\"coor\"].map(str).apply(\n",
    "    lambda x: x.split(\":\")[0] if 'chr' in x else None)\n",
    "df[\"#chr\"] = df[\"#chr\"].map(str).apply(\n",
    "    lambda x: x.split(\"-\")[-1] if '-' in x else x)  # remove :-\n",
    "df[\"#chr\"] = df[\"#chr\"].map(str).apply(\n",
    "    lambda x: x.split(\"_\")[-1] if '_' in x else x)  # remove _\n",
    "\n",
    "# handle background chromosome annotations\n",
    "# background 2 chr is chr1, technically\n",
    "df.loc[df[\"name\"].str.contains(\"Background seq2\"), \"#chr\"] = \"chr1\"\n",
    "\n",
    "# any element wo chromosome information\n",
    "df.loc[df[\"#chr\"].str.contains(\"None\"), \"#chr\"] = \"chr:\"  # for no chr info\n",
    "\n",
    "\n",
    "# start\n",
    "df[\"start\"] = df[\"coor\"].map(str).apply(lambda x: (\n",
    "    x.split(\":\")[1]).split(\"-\")[0] if 'chr' in x else -1)\n",
    "df.loc[df[\"#chr\"].str.contains(\"None\"), \"start\"] = -1  # for no coor infor\n",
    "\n",
    "\n",
    "# end\n",
    "df[\"end\"] = df[\"coor\"].map(str).apply(lambda x: (\n",
    "    x.split(\":\")[1]).split(\"-\")[-1] if 'chr' in x else -1)\n",
    "df[\"end\"] = df[\"end\"].map(str).apply(\n",
    "    lambda x: x.split(\":\")[0] if \":\" in x else x)\n",
    "df.loc[df[\"#chr\"].str.contains(\"None\"), \"end\"] = -1  # for no coor infor\n",
    "\n",
    "df[\"coor\"] = df[\"#chr\"] + \":\" + df[\"start\"].map(str) + \"-\" + df[\"end\"].map(str)\n",
    "\n",
    "print(df.shape)\n",
    "df.head()"
   ]
  },
  {
   "cell_type": "markdown",
   "metadata": {},
   "source": [
    "## check background sequence annotation"
   ]
  },
  {
   "cell_type": "code",
   "execution_count": 60,
   "metadata": {
    "ExecuteTime": {
     "end_time": "2023-12-02T19:58:32.012596Z",
     "start_time": "2023-12-02T19:58:31.972369Z"
    }
   },
   "outputs": [
    {
     "data": {
      "text/html": [
       "<div>\n",
       "<style scoped>\n",
       "    .dataframe tbody tr th:only-of-type {\n",
       "        vertical-align: middle;\n",
       "    }\n",
       "\n",
       "    .dataframe tbody tr th {\n",
       "        vertical-align: top;\n",
       "    }\n",
       "\n",
       "    .dataframe thead th {\n",
       "        text-align: right;\n",
       "    }\n",
       "</style>\n",
       "<table border=\"1\" class=\"dataframe\">\n",
       "  <thead>\n",
       "    <tr style=\"text-align: right;\">\n",
       "      <th></th>\n",
       "      <th>name</th>\n",
       "      <th>sequence</th>\n",
       "      <th>bkgd</th>\n",
       "      <th>72h</th>\n",
       "      <th>ctrl</th>\n",
       "      <th>cl</th>\n",
       "      <th>coor</th>\n",
       "      <th>top_bottom</th>\n",
       "      <th>strand</th>\n",
       "      <th>#chr</th>\n",
       "      <th>start</th>\n",
       "      <th>end</th>\n",
       "    </tr>\n",
       "  </thead>\n",
       "  <tbody>\n",
       "    <tr>\n",
       "      <th>42177</th>\n",
       "      <td>Background seq2 chr1:244100624-244100893:+|Pos...</td>\n",
       "      <td>AGGACCGGATCAACTGGGAAGCGTTTTTATTCAATCTGATACCCTC...</td>\n",
       "      <td>True</td>\n",
       "      <td>None</td>\n",
       "      <td>None</td>\n",
       "      <td>None</td>\n",
       "      <td>chr1:244100624-244100893</td>\n",
       "      <td>None</td>\n",
       "      <td>+</td>\n",
       "      <td>chr1</td>\n",
       "      <td>244100624</td>\n",
       "      <td>244100893</td>\n",
       "    </tr>\n",
       "    <tr>\n",
       "      <th>42179</th>\n",
       "      <td>Background seq2 chr1:244100624-244100893:+|Pos...</td>\n",
       "      <td>AGGACCGGATCAACTGGGAAGCGTTTTTATTCAATCTGATACCCTC...</td>\n",
       "      <td>True</td>\n",
       "      <td>None</td>\n",
       "      <td>None</td>\n",
       "      <td>None</td>\n",
       "      <td>chr1:244100624-244100893</td>\n",
       "      <td>None</td>\n",
       "      <td>+</td>\n",
       "      <td>chr1</td>\n",
       "      <td>244100624</td>\n",
       "      <td>244100893</td>\n",
       "    </tr>\n",
       "    <tr>\n",
       "      <th>42181</th>\n",
       "      <td>Background seq2 chr1:244100624-244100893:+|Pos...</td>\n",
       "      <td>AGGACCGGATCAACTGGGAAGCGTTTTTATTCAATCTGATACCCTC...</td>\n",
       "      <td>True</td>\n",
       "      <td>None</td>\n",
       "      <td>None</td>\n",
       "      <td>None</td>\n",
       "      <td>chr1:244100624-244100893</td>\n",
       "      <td>None</td>\n",
       "      <td>+</td>\n",
       "      <td>chr1</td>\n",
       "      <td>244100624</td>\n",
       "      <td>244100893</td>\n",
       "    </tr>\n",
       "    <tr>\n",
       "      <th>42183</th>\n",
       "      <td>Background seq2 chr1:244100624-244100893:+|Pos...</td>\n",
       "      <td>AGGACCGGATCAACTGGGAAGCGTTTTTATTCAATCTGATACCCTC...</td>\n",
       "      <td>True</td>\n",
       "      <td>None</td>\n",
       "      <td>None</td>\n",
       "      <td>None</td>\n",
       "      <td>chr1:244100624-244100893</td>\n",
       "      <td>None</td>\n",
       "      <td>+</td>\n",
       "      <td>chr1</td>\n",
       "      <td>244100624</td>\n",
       "      <td>244100893</td>\n",
       "    </tr>\n",
       "    <tr>\n",
       "      <th>42185</th>\n",
       "      <td>Background seq2 chr1:244100624-244100893:+|Pos...</td>\n",
       "      <td>AGGACCGGATCAACTGGGAAGCGTTTTTATTCAATCTGATACCCTC...</td>\n",
       "      <td>True</td>\n",
       "      <td>None</td>\n",
       "      <td>None</td>\n",
       "      <td>None</td>\n",
       "      <td>chr1:244100624-244100893</td>\n",
       "      <td>None</td>\n",
       "      <td>+</td>\n",
       "      <td>chr1</td>\n",
       "      <td>244100624</td>\n",
       "      <td>244100893</td>\n",
       "    </tr>\n",
       "    <tr>\n",
       "      <th>...</th>\n",
       "      <td>...</td>\n",
       "      <td>...</td>\n",
       "      <td>...</td>\n",
       "      <td>...</td>\n",
       "      <td>...</td>\n",
       "      <td>...</td>\n",
       "      <td>...</td>\n",
       "      <td>...</td>\n",
       "      <td>...</td>\n",
       "      <td>...</td>\n",
       "      <td>...</td>\n",
       "      <td>...</td>\n",
       "    </tr>\n",
       "    <tr>\n",
       "      <th>43462</th>\n",
       "      <td>Background seq1 72hr_top_98|Pos1:115,Pos2:155|...</td>\n",
       "      <td>AGGACCGGATCAACTCTACTCCTGTGCGGGGTTAAGACCTAAGGAA...</td>\n",
       "      <td>True</td>\n",
       "      <td>None</td>\n",
       "      <td>None</td>\n",
       "      <td>None</td>\n",
       "      <td>chr::-1--1</td>\n",
       "      <td>top</td>\n",
       "      <td>+</td>\n",
       "      <td>chr:</td>\n",
       "      <td>-1</td>\n",
       "      <td>-1</td>\n",
       "    </tr>\n",
       "    <tr>\n",
       "      <th>43464</th>\n",
       "      <td>Background seq1 72hr_top_98|Pos1:115,Pos2:155|...</td>\n",
       "      <td>AGGACCGGATCAACTCTACTCCTGTGCGGGGTTAAGACCTAAGGAA...</td>\n",
       "      <td>True</td>\n",
       "      <td>None</td>\n",
       "      <td>None</td>\n",
       "      <td>None</td>\n",
       "      <td>chr::-1--1</td>\n",
       "      <td>top</td>\n",
       "      <td>+</td>\n",
       "      <td>chr:</td>\n",
       "      <td>-1</td>\n",
       "      <td>-1</td>\n",
       "    </tr>\n",
       "    <tr>\n",
       "      <th>43466</th>\n",
       "      <td>Background seq1 72hr_top_98|Pos1:115,Pos2:155|...</td>\n",
       "      <td>AGGACCGGATCAACTCTACTCCTGTGCGGGGTTAAGACCTAAGGAA...</td>\n",
       "      <td>True</td>\n",
       "      <td>None</td>\n",
       "      <td>None</td>\n",
       "      <td>None</td>\n",
       "      <td>chr::-1--1</td>\n",
       "      <td>top</td>\n",
       "      <td>+</td>\n",
       "      <td>chr:</td>\n",
       "      <td>-1</td>\n",
       "      <td>-1</td>\n",
       "    </tr>\n",
       "    <tr>\n",
       "      <th>43468</th>\n",
       "      <td>Background seq1 72hr_top_98|Pos1:115,Pos2:155|...</td>\n",
       "      <td>AGGACCGGATCAACTCTACTCCTGTGCGGGGTTAAGACCTAAGGAA...</td>\n",
       "      <td>True</td>\n",
       "      <td>None</td>\n",
       "      <td>None</td>\n",
       "      <td>None</td>\n",
       "      <td>chr::-1--1</td>\n",
       "      <td>top</td>\n",
       "      <td>+</td>\n",
       "      <td>chr:</td>\n",
       "      <td>-1</td>\n",
       "      <td>-1</td>\n",
       "    </tr>\n",
       "    <tr>\n",
       "      <th>43470</th>\n",
       "      <td>Background seq1 72hr_top_98|Pos1:115,Pos2:155|...</td>\n",
       "      <td>AGGACCGGATCAACTCTACTCCTGTGCGGGGTTAAGACCTAAGGAA...</td>\n",
       "      <td>True</td>\n",
       "      <td>None</td>\n",
       "      <td>None</td>\n",
       "      <td>None</td>\n",
       "      <td>chr::-1--1</td>\n",
       "      <td>top</td>\n",
       "      <td>+</td>\n",
       "      <td>chr:</td>\n",
       "      <td>-1</td>\n",
       "      <td>-1</td>\n",
       "    </tr>\n",
       "  </tbody>\n",
       "</table>\n",
       "<p>1296 rows × 12 columns</p>\n",
       "</div>"
      ],
      "text/plain": [
       "                                                    name  \\\n",
       "42177  Background seq2 chr1:244100624-244100893:+|Pos...   \n",
       "42179  Background seq2 chr1:244100624-244100893:+|Pos...   \n",
       "42181  Background seq2 chr1:244100624-244100893:+|Pos...   \n",
       "42183  Background seq2 chr1:244100624-244100893:+|Pos...   \n",
       "42185  Background seq2 chr1:244100624-244100893:+|Pos...   \n",
       "...                                                  ...   \n",
       "43462  Background seq1 72hr_top_98|Pos1:115,Pos2:155|...   \n",
       "43464  Background seq1 72hr_top_98|Pos1:115,Pos2:155|...   \n",
       "43466  Background seq1 72hr_top_98|Pos1:115,Pos2:155|...   \n",
       "43468  Background seq1 72hr_top_98|Pos1:115,Pos2:155|...   \n",
       "43470  Background seq1 72hr_top_98|Pos1:115,Pos2:155|...   \n",
       "\n",
       "                                                sequence  bkgd   72h  ctrl  \\\n",
       "42177  AGGACCGGATCAACTGGGAAGCGTTTTTATTCAATCTGATACCCTC...  True  None  None   \n",
       "42179  AGGACCGGATCAACTGGGAAGCGTTTTTATTCAATCTGATACCCTC...  True  None  None   \n",
       "42181  AGGACCGGATCAACTGGGAAGCGTTTTTATTCAATCTGATACCCTC...  True  None  None   \n",
       "42183  AGGACCGGATCAACTGGGAAGCGTTTTTATTCAATCTGATACCCTC...  True  None  None   \n",
       "42185  AGGACCGGATCAACTGGGAAGCGTTTTTATTCAATCTGATACCCTC...  True  None  None   \n",
       "...                                                  ...   ...   ...   ...   \n",
       "43462  AGGACCGGATCAACTCTACTCCTGTGCGGGGTTAAGACCTAAGGAA...  True  None  None   \n",
       "43464  AGGACCGGATCAACTCTACTCCTGTGCGGGGTTAAGACCTAAGGAA...  True  None  None   \n",
       "43466  AGGACCGGATCAACTCTACTCCTGTGCGGGGTTAAGACCTAAGGAA...  True  None  None   \n",
       "43468  AGGACCGGATCAACTCTACTCCTGTGCGGGGTTAAGACCTAAGGAA...  True  None  None   \n",
       "43470  AGGACCGGATCAACTCTACTCCTGTGCGGGGTTAAGACCTAAGGAA...  True  None  None   \n",
       "\n",
       "         cl                      coor top_bottom strand  #chr      start  \\\n",
       "42177  None  chr1:244100624-244100893       None      +  chr1  244100624   \n",
       "42179  None  chr1:244100624-244100893       None      +  chr1  244100624   \n",
       "42181  None  chr1:244100624-244100893       None      +  chr1  244100624   \n",
       "42183  None  chr1:244100624-244100893       None      +  chr1  244100624   \n",
       "42185  None  chr1:244100624-244100893       None      +  chr1  244100624   \n",
       "...     ...                       ...        ...    ...   ...        ...   \n",
       "43462  None                chr::-1--1        top      +  chr:         -1   \n",
       "43464  None                chr::-1--1        top      +  chr:         -1   \n",
       "43466  None                chr::-1--1        top      +  chr:         -1   \n",
       "43468  None                chr::-1--1        top      +  chr:         -1   \n",
       "43470  None                chr::-1--1        top      +  chr:         -1   \n",
       "\n",
       "             end  \n",
       "42177  244100893  \n",
       "42179  244100893  \n",
       "42181  244100893  \n",
       "42183  244100893  \n",
       "42185  244100893  \n",
       "...          ...  \n",
       "43462         -1  \n",
       "43464         -1  \n",
       "43466         -1  \n",
       "43468         -1  \n",
       "43470         -1  \n",
       "\n",
       "[1296 rows x 12 columns]"
      ]
     },
     "execution_count": 60,
     "metadata": {},
     "output_type": "execute_result"
    }
   ],
   "source": [
    "df.loc[df[\"name\"].str.contains(\"Background seq\")]"
   ]
  },
  {
   "cell_type": "code",
   "execution_count": 64,
   "metadata": {
    "ExecuteTime": {
     "end_time": "2023-12-02T20:57:04.938692Z",
     "start_time": "2023-12-02T20:57:04.731679Z"
    }
   },
   "outputs": [],
   "source": [
    "enh = pd.read_csv(ENH_BED, sep='\\t')"
   ]
  },
  {
   "cell_type": "code",
   "execution_count": 65,
   "metadata": {
    "ExecuteTime": {
     "end_time": "2023-12-02T20:57:09.252384Z",
     "start_time": "2023-12-02T20:57:09.237820Z"
    }
   },
   "outputs": [
    {
     "data": {
      "text/html": [
       "<div>\n",
       "<style scoped>\n",
       "    .dataframe tbody tr th:only-of-type {\n",
       "        vertical-align: middle;\n",
       "    }\n",
       "\n",
       "    .dataframe tbody tr th {\n",
       "        vertical-align: top;\n",
       "    }\n",
       "\n",
       "    .dataframe thead th {\n",
       "        text-align: right;\n",
       "    }\n",
       "</style>\n",
       "<table border=\"1\" class=\"dataframe\">\n",
       "  <thead>\n",
       "    <tr style=\"text-align: right;\">\n",
       "      <th></th>\n",
       "      <th>name</th>\n",
       "      <th>coor</th>\n",
       "      <th>#chr</th>\n",
       "      <th>start.tile</th>\n",
       "      <th>end.tile</th>\n",
       "      <th>#chr.enh</th>\n",
       "      <th>start.enh</th>\n",
       "      <th>end.enh</th>\n",
       "      <th>enh.id</th>\n",
       "      <th>enh.name</th>\n",
       "      <th>tile.order</th>\n",
       "    </tr>\n",
       "  </thead>\n",
       "  <tbody>\n",
       "    <tr>\n",
       "      <th>0</th>\n",
       "      <td>Background seq2 chr1:244100624-244100893:+|Pos...</td>\n",
       "      <td>Background seq2 chr1:244100624-244100893:+|Pos...</td>\n",
       "      <td>Background seq2 chr1</td>\n",
       "      <td>244100624.0</td>\n",
       "      <td>244100893.0</td>\n",
       "      <td>Background seq2 chr1</td>\n",
       "      <td>244100624.0</td>\n",
       "      <td>244100893.0</td>\n",
       "      <td>Background seq2 chr1:244100624-244100893</td>\n",
       "      <td>enh.0</td>\n",
       "      <td>627.0</td>\n",
       "    </tr>\n",
       "    <tr>\n",
       "      <th>1</th>\n",
       "      <td>Background seq2 chr1:244100624-244100893:+|Pos...</td>\n",
       "      <td>Background seq2 chr1:244100624-244100893:+|Pos...</td>\n",
       "      <td>Background seq2 chr1</td>\n",
       "      <td>244100624.0</td>\n",
       "      <td>244100893.0</td>\n",
       "      <td>Background seq2 chr1</td>\n",
       "      <td>244100624.0</td>\n",
       "      <td>244100893.0</td>\n",
       "      <td>Background seq2 chr1:244100624-244100893</td>\n",
       "      <td>enh.0</td>\n",
       "      <td>603.0</td>\n",
       "    </tr>\n",
       "    <tr>\n",
       "      <th>2</th>\n",
       "      <td>Background seq2 chr1:244100624-244100893:+|Pos...</td>\n",
       "      <td>Background seq2 chr1:244100624-244100893:+|Pos...</td>\n",
       "      <td>Background seq2 chr1</td>\n",
       "      <td>244100624.0</td>\n",
       "      <td>244100893.0</td>\n",
       "      <td>Background seq2 chr1</td>\n",
       "      <td>244100624.0</td>\n",
       "      <td>244100893.0</td>\n",
       "      <td>Background seq2 chr1:244100624-244100893</td>\n",
       "      <td>enh.0</td>\n",
       "      <td>579.0</td>\n",
       "    </tr>\n",
       "    <tr>\n",
       "      <th>3</th>\n",
       "      <td>Background seq2 chr1:244100624-244100893:+|Pos...</td>\n",
       "      <td>Background seq2 chr1:244100624-244100893:+|Pos...</td>\n",
       "      <td>Background seq2 chr1</td>\n",
       "      <td>244100624.0</td>\n",
       "      <td>244100893.0</td>\n",
       "      <td>Background seq2 chr1</td>\n",
       "      <td>244100624.0</td>\n",
       "      <td>244100893.0</td>\n",
       "      <td>Background seq2 chr1:244100624-244100893</td>\n",
       "      <td>enh.0</td>\n",
       "      <td>555.0</td>\n",
       "    </tr>\n",
       "    <tr>\n",
       "      <th>4</th>\n",
       "      <td>Background seq2 chr1:244100624-244100893:+|Pos...</td>\n",
       "      <td>Background seq2 chr1:244100624-244100893:+|Pos...</td>\n",
       "      <td>Background seq2 chr1</td>\n",
       "      <td>244100624.0</td>\n",
       "      <td>244100893.0</td>\n",
       "      <td>Background seq2 chr1</td>\n",
       "      <td>244100624.0</td>\n",
       "      <td>244100893.0</td>\n",
       "      <td>Background seq2 chr1:244100624-244100893</td>\n",
       "      <td>enh.0</td>\n",
       "      <td>629.0</td>\n",
       "    </tr>\n",
       "  </tbody>\n",
       "</table>\n",
       "</div>"
      ],
      "text/plain": [
       "                                                name  \\\n",
       "0  Background seq2 chr1:244100624-244100893:+|Pos...   \n",
       "1  Background seq2 chr1:244100624-244100893:+|Pos...   \n",
       "2  Background seq2 chr1:244100624-244100893:+|Pos...   \n",
       "3  Background seq2 chr1:244100624-244100893:+|Pos...   \n",
       "4  Background seq2 chr1:244100624-244100893:+|Pos...   \n",
       "\n",
       "                                                coor                  #chr  \\\n",
       "0  Background seq2 chr1:244100624-244100893:+|Pos...  Background seq2 chr1   \n",
       "1  Background seq2 chr1:244100624-244100893:+|Pos...  Background seq2 chr1   \n",
       "2  Background seq2 chr1:244100624-244100893:+|Pos...  Background seq2 chr1   \n",
       "3  Background seq2 chr1:244100624-244100893:+|Pos...  Background seq2 chr1   \n",
       "4  Background seq2 chr1:244100624-244100893:+|Pos...  Background seq2 chr1   \n",
       "\n",
       "    start.tile     end.tile              #chr.enh    start.enh      end.enh  \\\n",
       "0  244100624.0  244100893.0  Background seq2 chr1  244100624.0  244100893.0   \n",
       "1  244100624.0  244100893.0  Background seq2 chr1  244100624.0  244100893.0   \n",
       "2  244100624.0  244100893.0  Background seq2 chr1  244100624.0  244100893.0   \n",
       "3  244100624.0  244100893.0  Background seq2 chr1  244100624.0  244100893.0   \n",
       "4  244100624.0  244100893.0  Background seq2 chr1  244100624.0  244100893.0   \n",
       "\n",
       "                                     enh.id enh.name  tile.order  \n",
       "0  Background seq2 chr1:244100624-244100893    enh.0       627.0  \n",
       "1  Background seq2 chr1:244100624-244100893    enh.0       603.0  \n",
       "2  Background seq2 chr1:244100624-244100893    enh.0       579.0  \n",
       "3  Background seq2 chr1:244100624-244100893    enh.0       555.0  \n",
       "4  Background seq2 chr1:244100624-244100893    enh.0       629.0  "
      ]
     },
     "execution_count": 65,
     "metadata": {},
     "output_type": "execute_result"
    }
   ],
   "source": [
    "enh.head()"
   ]
  },
  {
   "cell_type": "code",
   "execution_count": 70,
   "metadata": {
    "ExecuteTime": {
     "end_time": "2023-12-02T20:58:36.186451Z",
     "start_time": "2023-12-02T20:58:36.147233Z"
    }
   },
   "outputs": [],
   "source": [
    "df = pd.merge(df, enh[[\"name\", \n",
    " 'enh.id',\n",
    " 'enh.name',\n",
    " 'tile.order']])"
   ]
  },
  {
   "cell_type": "markdown",
   "metadata": {},
   "source": [
    "## Metadata - write"
   ]
  },
  {
   "cell_type": "code",
   "execution_count": 71,
   "metadata": {
    "ExecuteTime": {
     "end_time": "2023-12-02T20:58:38.823226Z",
     "start_time": "2023-12-02T20:58:38.363834Z"
    }
   },
   "outputs": [],
   "source": [
    "# turn start, stop into int\n",
    "df[[ \"start\", \"end\"]] = df[[ \"start\", \"end\"]].astype(int)\n",
    "\n",
    "# sort\n",
    "df = df.sort_values(by=[\"#chr\", \"start\", \"end\"])\n",
    "\n",
    " # rescue meta_str. split issue. \n",
    "df[\"name\"] = df[\"name\"].apply(lambda x: x.replace(\" \", \"\"))\n",
    "\n",
    "\n",
    "# write\n",
    "df.to_csv(META_DATA, sep='\\t', index=False)"
   ]
  },
  {
   "cell_type": "code",
   "execution_count": null,
   "metadata": {},
   "outputs": [],
   "source": []
  }
 ],
 "metadata": {
  "kernelspec": {
   "display_name": "Python 3 (ipykernel)",
   "language": "python",
   "name": "python3"
  },
  "language_info": {
   "codemirror_mode": {
    "name": "ipython",
    "version": 3
   },
   "file_extension": ".py",
   "mimetype": "text/x-python",
   "name": "python",
   "nbconvert_exporter": "python",
   "pygments_lexer": "ipython3",
   "version": "3.9.16"
  },
  "toc": {
   "base_numbering": 1,
   "nav_menu": {},
   "number_sections": true,
   "sideBar": true,
   "skip_h1_title": false,
   "title_cell": "Table of Contents",
   "title_sidebar": "Contents",
   "toc_cell": false,
   "toc_position": {},
   "toc_section_display": true,
   "toc_window_display": true
  },
  "varInspector": {
   "cols": {
    "lenName": 16,
    "lenType": 16,
    "lenVar": 40
   },
   "kernels_config": {
    "python": {
     "delete_cmd_postfix": "",
     "delete_cmd_prefix": "del ",
     "library": "var_list.py",
     "varRefreshCmd": "print(var_dic_list())"
    },
    "r": {
     "delete_cmd_postfix": ") ",
     "delete_cmd_prefix": "rm(",
     "library": "var_list.r",
     "varRefreshCmd": "cat(var_dic_list()) "
    }
   },
   "types_to_exclude": [
    "module",
    "function",
    "builtin_function_or_method",
    "instance",
    "_Feature"
   ],
   "window_display": false
  }
 },
 "nbformat": 4,
 "nbformat_minor": 2
}
