{
 "cells": [
  {
   "cell_type": "code",
   "execution_count": 34,
   "id": "00735e05",
   "metadata": {
    "ExecuteTime": {
     "end_time": "2023-08-22T21:45:27.905840Z",
     "start_time": "2023-08-22T21:45:27.902670Z"
    }
   },
   "outputs": [],
   "source": [
    "from Bio import SeqIO\n",
    "from Bio.SeqIO.FastaIO import SimpleFastaParser\n",
    "import config_readwrite as crw\n",
    "import numpy as np\n",
    "import os, sys\n",
    "import pandas as pd"
   ]
  },
  {
   "cell_type": "code",
   "execution_count": 2,
   "id": "8fe5a457",
   "metadata": {
    "ExecuteTime": {
     "end_time": "2023-08-22T21:45:28.425369Z",
     "start_time": "2023-08-22T21:45:28.304201Z"
    }
   },
   "outputs": [],
   "source": [
    "config, cfn = crw.read(os.path.join(os.getcwd(), \"config.neuron.mpra.ini\"))"
   ]
  },
  {
   "cell_type": "code",
   "execution_count": 14,
   "id": "3c1ad473",
   "metadata": {
    "ExecuteTime": {
     "end_time": "2023-08-22T21:45:28.783516Z",
     "start_time": "2023-08-22T21:45:28.777046Z"
    }
   },
   "outputs": [],
   "source": [
    "FASTA=\"/wynton/group/ahituv/biomarin/library_2/Design/biomarin-lib2-hg38-final.fa\"\n",
    "\n",
    "\n",
    "write_config={\n",
    "    \"FASTA\":FASTA,\n",
    "    \"FASTA_SEI\": os.path.splitext(FASTA)[0] + \".clean.sei_padded.fa\", \n",
    "    \"FASTA_CLEAN\":os.path.splitext(FASTA)[0] + '.clean.fa',\n",
    "    \"FASTA_INDEX\":os.path.splitext(FASTA)[0] + '.clean.index.txt',\n",
    "}\n",
    "FASTA_CLEAN = write_config[\"FASTA_CLEAN\"]\n",
    "FASTA_INDEX = write_config[\"FASTA_INDEX\"]\n",
    "section = \"sei\"\n",
    "crw.check(config, section)\n",
    "\n",
    "for key, value in write_config.items():\n",
    "    config[section][key] = value\n",
    "\n",
    "crw.write(config, cfn)"
   ]
  },
  {
   "cell_type": "code",
   "execution_count": 15,
   "id": "5489ed47",
   "metadata": {},
   "outputs": [],
   "source": [
    "def cleanFasta(fasta):\n",
    "    \"\"\"\n",
    "    clean fasta files for sei run by indexing sequence ids\n",
    "    \n",
    "    goal \n",
    "        index sequence ids \n",
    "        remove sequence id duplicates\n",
    "    \n",
    "    requires\n",
    "        Bio.SeqIO.FastaIO import SimpleFastaParser\n",
    "        getHandles function\n",
    "        \n",
    "    input \n",
    "        fasta file (str) - path to fasta file\n",
    "        path_dict (dictionary) - dictionary with files\n",
    "\n",
    "    method    \n",
    "        1. get dictionary of file handles\n",
    "        2. instantiate fasta clean adn index handles to write\n",
    "        3. open files to write\n",
    "        4. make empty list to collect unique sequence ids\n",
    "        5. open fasta and iterate through rows, making uniform sequence ids\n",
    "            5.1. check to make sure id has not been processed, if not, append to id_list\n",
    "            5.2. write the index_id and the sequence\n",
    "            5.3. write the index_id and sequence_id to a separate file.  \n",
    "        \n",
    "    writes\n",
    "        FASTA_CLEAN - fasta file with sequence id indexes\n",
    "        FASTA_INDEX - .txt file with sequence id index + sequence id\n",
    "    \"\"\"\n",
    "    \n",
    "    #1\n",
    "    path_dict = getHandles(fasta)\n",
    "    \n",
    "    #2 get files (strs) to write\n",
    "    FASTA_CLEAN, FASTA_INDEX = path_dict[\"FASTA_CLEAN\"], path_dict[\"FASTA_INDEX\"]\n",
    "    \n",
    "    #3 open the write files\n",
    "    writer, indexer = open(FASTA_CLEAN, \"w\"), open(FASTA_INDEX, \"w\")\n",
    "\n",
    "    #4 list to collect sequence ids\n",
    "    id_list = []\n",
    "    \n",
    "    #5 open the fasta\n",
    "    with open(fasta, \"r\") as handle:\n",
    "        for i, value in enumerate(SimpleFastaParser(handle)):\n",
    "            \n",
    "            index_id = f\"seq.{i}\"  # uniform sequence id\n",
    "            id_, seq = value\n",
    "            \n",
    "            #5.1\n",
    "            if id_ not in id_list:\n",
    "            \n",
    "                id_list.append(id_)\n",
    "                \n",
    "                #5.2.\n",
    "                writer.write(f'>{index_id}\\n{seq}\\n')\n",
    "                \n",
    "                #5.3.\n",
    "                indexer.write(f'{index_id}\\t{id_}\\n')\n",
    "            else:\n",
    "                print(\"sequence_id duplicate!\", id_)\n",
    "                \n",
    "    writer.close(), indexer.close()"
   ]
  },
  {
   "cell_type": "markdown",
   "id": "4639acdb",
   "metadata": {},
   "source": [
    "# function"
   ]
  },
  {
   "cell_type": "markdown",
   "id": "90242bb8",
   "metadata": {},
   "source": [
    "## for inserting sequence"
   ]
  },
  {
   "cell_type": "code",
   "execution_count": 8,
   "id": "93a19e66",
   "metadata": {
    "ExecuteTime": {
     "end_time": "2023-08-22T21:45:29.668208Z",
     "start_time": "2023-08-22T21:45:29.661836Z"
    }
   },
   "outputs": [],
   "source": [
    "def seqInsert(seq, insert_start, insert_seq):\n",
    "    \"\"\"\n",
    "    insert sequence fragment (insert_seq) at position (insert_start) within full sequence (seq)\n",
    "    \n",
    "    Insert into center if insert_start is None \n",
    "\n",
    "    return inserted sequence. \n",
    "    \"\"\"\n",
    "\n",
    "    insert_size = len(insert_seq)\n",
    "    \n",
    "    if insert_start is None:\n",
    "        \n",
    "        insert_start = (len(seq)/2) - (insert_size/2)\n",
    "        #print(insert_start)\n",
    "\n",
    "    insert_end = insert_start + insert_size  # find center end\n",
    "\n",
    "    return seq[:int(insert_start)] + insert_seq + seq[int(insert_end):]"
   ]
  },
  {
   "cell_type": "markdown",
   "id": "9b214d21",
   "metadata": {},
   "source": [
    "## parse fasta"
   ]
  },
  {
   "cell_type": "code",
   "execution_count": 22,
   "id": "127044ec",
   "metadata": {
    "ExecuteTime": {
     "end_time": "2023-08-22T21:45:31.890439Z",
     "start_time": "2023-08-22T21:45:31.885114Z"
    }
   },
   "outputs": [],
   "source": [
    "def trimSeq(seq, size):\n",
    "    \"\"\" find center of sequence and trim down to size\"\"\"\n",
    "    \n",
    "    center = len(seq)/2\n",
    "    start = center - (size/2)\n",
    "    end = center + (size/2) + 1\n",
    "    \n",
    "    return seq[start:end]\n",
    "\n",
    "def padSeq(fasta):\n",
    "    \"\"\" if sequence is shorter than 4096, pad, else trim\"\"\"\n",
    "    \n",
    "    max_len, PAD = 4096, \"N\"\n",
    "    OUT = os.path.splitext(fasta)[0] + \".sei_padded.fa\"\n",
    "    \n",
    "    sequences = [s for s in SeqIO.parse(fasta, 'fasta')]\n",
    "\n",
    "    padded_sequences = []\n",
    "    \n",
    "    for n, seq in enumerate(sequences):\n",
    "        if len(seq.seq)<max_len:\n",
    "            padding = PAD*max_len # creating the padding string\n",
    "            padded_sequences.append(seqInsert(padding, None, seq)) # insert the sequence in the center, append to list\n",
    "        else:\n",
    "            padded_sequences.append(trimSeq(seq, max_len))\n",
    "    SeqIO.write(padded_sequences, OUT, 'fasta')  # write all the sequences\n",
    "\n",
    "    return OUT\n"
   ]
  },
  {
   "cell_type": "markdown",
   "id": "c5aa9794",
   "metadata": {},
   "source": [
    "## Sei commands"
   ]
  },
  {
   "cell_type": "code",
   "execution_count": 10,
   "id": "1e18ce2b",
   "metadata": {
    "ExecuteTime": {
     "end_time": "2023-08-22T21:45:34.371856Z",
     "start_time": "2023-08-22T21:45:34.360077Z"
    }
   },
   "outputs": [],
   "source": [
    "def getHandles(fasta):\n",
    "\n",
    "    SEI_SRC = \"/wynton/home/ahituv/fongsl/bin/sei-framework/\"\n",
    "    SEI_PATH = os.path.join(os.path.split(fasta)[0], \"sei_predictions\")\n",
    "\n",
    "    FASTA_CLEAN = os.path.splitext(fasta)[0] + '.clean.fa',\n",
    "    PADDED  = os.path.splitext(fasta)[0] + \".clean.sei_padded.fa\"\n",
    "    INDEX = os.path.splitext(fasta)[0] + '.clean.index.txt'\n",
    "    \n",
    "    PATH, HANDLE = os.path.split(PADDED)\n",
    "    HANDLE = HANDLE.strip(\".fa\")\n",
    "    \n",
    "    \n",
    "    CHROM_PATH= os.path.join(\n",
    "        SEI_PATH, \"chromatin-profiles-hdf5\")\n",
    "    \n",
    "    CHROM_OUT = os.path.join(CHROM_PATH, f\"{HANDLE}_predictions.h5\")\n",
    "    CLASS_OUT = os.path.join(CHROM_PATH, f\"{HANDLE}.raw_sequence_class_scores.npy\")\n",
    "    LABEL_OUT = os.path.join(CHROM_PATH, f\"{HANDLE}_row_labels.txt\")\n",
    "    \n",
    "    \n",
    "    path_dict = {\n",
    "        \"FASTA\": fasta,\n",
    "        \"FASTA_CLEAN\":FASTA_CLEAN, \n",
    "        \"PADDED\":PADDED,\n",
    "        'INDEX':INDEX, \n",
    "        \"PATH\": PATH,\n",
    "        \"HANDLE\":HANDLE, \n",
    "        \"SEI_PATH\":SEI_PATH, \n",
    "        \"SEI_SRC\":SEI_SRC,\n",
    "        \"CHROM_PATH\": CHROM_PATH, \n",
    "        \"CHROM_PRED\": CHROM_OUT,\n",
    "        \"CLASS_PRED\" : CLASS_OUT, \n",
    "        \"LABELS\" : LABEL_OUT\n",
    "    }\n",
    "    \n",
    "    return path_dict\n",
    "\n",
    "def launchSei(fasta, build, gpu):\n",
    "\n",
    "    \n",
    "    path_dict = getHandles(fasta)\n",
    "    \n",
    "    SEI_SRC = path_dict[\"SEI_SRC\"]\n",
    "    SEI_PATH = path_dict[\"SEI_PATH\"]\n",
    "    \n",
    "    CHROM_PRED = path_dict[\"CHROM_PRED\"]\n",
    "    CHROM_PATH = path_dict[\"CHROM_PATH\"]\n",
    "    CLASS_PRED = path_dict[\"CLASS_PRED\"]\n",
    "    \n",
    "    if os.path.exists(SEI_PATH) is False:\n",
    "        os.mkdir(SEI_PATH)\n",
    "        \n",
    "    print(SEI_PATH, \"\\n\", OUT)\n",
    "\n",
    "    GPU_BOOL = \"True\" if gpu is True else \"False\"\n",
    "\n",
    "    SCRIPT = os.path.join(SEI_SRC, \"sarah_scripts/launch_qsub.py\")\n",
    "\n",
    "    cmd = \" \".join(['python',\n",
    "           SCRIPT,\n",
    "           fasta,\n",
    "           build,\n",
    "           SEI_PATH,\n",
    "           GPU_BOOL,\n",
    "           CHROM_PRED, \n",
    "           CHROM_PATH\n",
    "           ])\n",
    "\n",
    "    if os.path.exists(CLASS_PRED) is False:\n",
    "        print(cmd)\n",
    "        #os.system(cmd)\n",
    "    else:\n",
    "        print('ran sei already', CLASS_PRED)\n"
   ]
  },
  {
   "cell_type": "code",
   "execution_count": 30,
   "id": "e888addd",
   "metadata": {},
   "outputs": [
    {
     "data": {
      "text/plain": [
       "'/wynton/group/ahituv/biomarin/library_2/Design/sei_predictions/chromatin-profiles-hdf5/biomarin-lib2-hg38-final.sei_padded_predictions.h5'"
      ]
     },
     "execution_count": 30,
     "metadata": {},
     "output_type": "execute_result"
    }
   ],
   "source": [
    "path_dict[\"CHROM_PRED\"]"
   ]
  },
  {
   "cell_type": "markdown",
   "id": "3458783a",
   "metadata": {},
   "source": [
    "# Params"
   ]
  },
  {
   "cell_type": "code",
   "execution_count": 11,
   "id": "b60424cc",
   "metadata": {
    "ExecuteTime": {
     "start_time": "2023-08-22T21:49:59.367Z"
    }
   },
   "outputs": [],
   "source": [
    "GPU = True # if running on GPU node, need to login to gpudev1.wynton.ucsf.edu"
   ]
  },
  {
   "cell_type": "markdown",
   "id": "754bab11",
   "metadata": {},
   "source": [
    "# Main "
   ]
  },
  {
   "cell_type": "code",
   "execution_count": 23,
   "id": "36a26204",
   "metadata": {
    "ExecuteTime": {
     "end_time": "2023-08-22T21:43:05.391652Z",
     "start_time": "2023-08-22T21:43:05.387269Z"
    }
   },
   "outputs": [],
   "source": [
    "# sequence padding w n\n",
    "FASTA_SEI = padSeq(FASTA_CLEAN)"
   ]
  },
  {
   "cell_type": "code",
   "execution_count": 26,
   "id": "6e49a7f6",
   "metadata": {
    "ExecuteTime": {
     "end_time": "2023-08-22T21:43:05.391652Z",
     "start_time": "2023-08-22T21:43:05.387269Z"
    }
   },
   "outputs": [
    {
     "name": "stdout",
     "output_type": "stream",
     "text": [
      "/wynton/group/ahituv/biomarin/library_2/Design/sei_predictions \n",
      " /wynton/group/ahituv/biomarin/library_2/Design/sei_predictions/chromatin-profiles-hdf5/biomarin-lib2-hg38-final.clean.sei_padded.sei_padded_predictions.h5\n",
      "python /wynton/home/ahituv/fongsl/bin/sei-framework/sarah_scripts/launch_qsub.py /wynton/group/ahituv/biomarin/library_2/Design/biomarin-lib2-hg38-final.clean.sei_padded.fa hg38 /wynton/group/ahituv/biomarin/library_2/Design/sei_predictions True\n",
      "bash /wynton/home/ahituv/fongsl/bin/sei-framework/2_raw_sc_score.sh /wynton/group/ahituv/biomarin/library_2/Design/sei_predictions/chromatin-profiles-hdf5/biomarin-lib2-hg38-final.clean.sei_padded.sei_padded_predictions.h5 /wynton/group/ahituv/biomarin/library_2/Design/sei_predictions/chromatin-profiles-hdf5\n"
     ]
    }
   ],
   "source": [
    "# part1\n",
    "launchSei(FASTA_SEI, \"hg38\", GPU)  "
   ]
  },
  {
   "cell_type": "markdown",
   "id": "b2e1369a",
   "metadata": {},
   "source": [
    "# write results to config"
   ]
  },
  {
   "cell_type": "code",
   "execution_count": 40,
   "id": "c3d9613e",
   "metadata": {
    "ExecuteTime": {
     "end_time": "2023-08-22T21:43:05.391652Z",
     "start_time": "2023-08-22T21:43:05.387269Z"
    }
   },
   "outputs": [],
   "source": [
    "# write to config\n",
    "path_dict = getHandles(FASTA_CLEAN)\n",
    "for key, value in path_dict.items():\n",
    "    config[section][key] = value\n",
    "    \n",
    "crw.write(config, cfn)"
   ]
  },
  {
   "cell_type": "markdown",
   "id": "f6063f51",
   "metadata": {},
   "source": [
    "# format table for ML"
   ]
  },
  {
   "cell_type": "code",
   "execution_count": 56,
   "id": "5db45c63",
   "metadata": {},
   "outputs": [],
   "source": [
    "def returnSequenceClassLabels():\n",
    "    file = \"/wynton/home/ahituv/fongsl/bin/sei-framework/sequence_class_labels.csv\"\n",
    "    lab = pd.read_csv(file)\n",
    "\n",
    "    return lab\n",
    "\n",
    "\n",
    "def processLabel(label_file, index):\n",
    "    \"\"\"\n",
    "    input \n",
    "        label_file  (str) - path with the labels for the sequences run through the DNN\n",
    "\n",
    "    Method\n",
    "        1. opens sequence label file as pd dataframe\n",
    "        2. drop the index column\n",
    "        3. make UCSC genome browswer coordinates\n",
    "        4. avg pct? \n",
    "        5. \"bin\"?\n",
    "    \"\"\"\n",
    "\n",
    "    # read label file as pd dataframe\n",
    "    lab = pd.read_csv(label_file, sep='\\t')\n",
    "    lab = lab.drop(columns=[\"index\"])  # redundant index column\n",
    "\n",
    "    ind = pd.read_csv(index, sep='\\t', header=None, names=[\"name\", 'tile.coor'])\n",
    "    lab = pd.merge(lab, ind)\n",
    "    return lab[[\"tile.coor\"]]\n",
    "\n",
    "\n",
    "def seqClassLookup(annot_list):\n",
    "    print(seqClass.loc[seqClass[seqClass.columns[0]].isin(annot_list)])\n",
    "\n"
   ]
  },
  {
   "cell_type": "markdown",
   "id": "56cf545d",
   "metadata": {},
   "source": [
    "## get sequence class labels"
   ]
  },
  {
   "cell_type": "code",
   "execution_count": 42,
   "id": "b058b2e1",
   "metadata": {},
   "outputs": [
    {
     "data": {
      "text/html": [
       "<div>\n",
       "<style scoped>\n",
       "    .dataframe tbody tr th:only-of-type {\n",
       "        vertical-align: middle;\n",
       "    }\n",
       "\n",
       "    .dataframe tbody tr th {\n",
       "        vertical-align: top;\n",
       "    }\n",
       "\n",
       "    .dataframe thead th {\n",
       "        text-align: right;\n",
       "    }\n",
       "</style>\n",
       "<table border=\"1\" class=\"dataframe\">\n",
       "  <thead>\n",
       "    <tr style=\"text-align: right;\">\n",
       "      <th></th>\n",
       "      <th>#Sequence class label</th>\n",
       "      <th>Sequence class name</th>\n",
       "      <th>Rank by size</th>\n",
       "      <th>Group</th>\n",
       "    </tr>\n",
       "  </thead>\n",
       "  <tbody>\n",
       "    <tr>\n",
       "      <th>0</th>\n",
       "      <td>PC1</td>\n",
       "      <td>Polycomb / Heterochromatin</td>\n",
       "      <td>0</td>\n",
       "      <td>PC</td>\n",
       "    </tr>\n",
       "    <tr>\n",
       "      <th>1</th>\n",
       "      <td>L1</td>\n",
       "      <td>Low signal</td>\n",
       "      <td>1</td>\n",
       "      <td>L</td>\n",
       "    </tr>\n",
       "    <tr>\n",
       "      <th>2</th>\n",
       "      <td>TN1</td>\n",
       "      <td>Transcription</td>\n",
       "      <td>2</td>\n",
       "      <td>TN</td>\n",
       "    </tr>\n",
       "    <tr>\n",
       "      <th>3</th>\n",
       "      <td>TN2</td>\n",
       "      <td>Transcription</td>\n",
       "      <td>3</td>\n",
       "      <td>TN</td>\n",
       "    </tr>\n",
       "    <tr>\n",
       "      <th>4</th>\n",
       "      <td>L2</td>\n",
       "      <td>Low signal</td>\n",
       "      <td>4</td>\n",
       "      <td>L</td>\n",
       "    </tr>\n",
       "    <tr>\n",
       "      <th>...</th>\n",
       "      <td>...</td>\n",
       "      <td>...</td>\n",
       "      <td>...</td>\n",
       "      <td>...</td>\n",
       "    </tr>\n",
       "    <tr>\n",
       "      <th>57</th>\n",
       "      <td>L/HET</td>\n",
       "      <td>L/HET</td>\n",
       "      <td>56</td>\n",
       "      <td>L/HET</td>\n",
       "    </tr>\n",
       "    <tr>\n",
       "      <th>58</th>\n",
       "      <td>L/HET</td>\n",
       "      <td>L/HET</td>\n",
       "      <td>57</td>\n",
       "      <td>L/HET</td>\n",
       "    </tr>\n",
       "    <tr>\n",
       "      <th>59</th>\n",
       "      <td>L/HET</td>\n",
       "      <td>L/HET</td>\n",
       "      <td>58</td>\n",
       "      <td>L/HET</td>\n",
       "    </tr>\n",
       "    <tr>\n",
       "      <th>60</th>\n",
       "      <td>L/HET</td>\n",
       "      <td>L/HET</td>\n",
       "      <td>59</td>\n",
       "      <td>L/HET</td>\n",
       "    </tr>\n",
       "    <tr>\n",
       "      <th>61</th>\n",
       "      <td>L/HET</td>\n",
       "      <td>L/HET</td>\n",
       "      <td>60</td>\n",
       "      <td>L/HET</td>\n",
       "    </tr>\n",
       "  </tbody>\n",
       "</table>\n",
       "<p>62 rows × 4 columns</p>\n",
       "</div>"
      ],
      "text/plain": [
       "   #Sequence class label         Sequence class name  Rank by size  Group\n",
       "0                    PC1  Polycomb / Heterochromatin             0     PC\n",
       "1                     L1                  Low signal             1      L\n",
       "2                    TN1               Transcription             2     TN\n",
       "3                    TN2               Transcription             3     TN\n",
       "4                     L2                  Low signal             4      L\n",
       "..                   ...                         ...           ...    ...\n",
       "57                 L/HET                       L/HET            56  L/HET\n",
       "58                 L/HET                       L/HET            57  L/HET\n",
       "59                 L/HET                       L/HET            58  L/HET\n",
       "60                 L/HET                       L/HET            59  L/HET\n",
       "61                 L/HET                       L/HET            60  L/HET\n",
       "\n",
       "[62 rows x 4 columns]"
      ]
     },
     "execution_count": 42,
     "metadata": {},
     "output_type": "execute_result"
    }
   ],
   "source": [
    "\"\"\"\n",
    "# get sequence class labels. See Methods section of Chen 2022 for interpretation of these PC labels.\n",
    "# apparently labels >40 are low active/heterochromatin. \n",
    "# Make up <2% of the genome. But 2% of the genome can still be significant.\n",
    "\"\"\"\n",
    "\n",
    "seqClass = returnSequenceClassLabels()\n",
    "\n",
    "seqClass"
   ]
  },
  {
   "cell_type": "markdown",
   "id": "8581c66f",
   "metadata": {},
   "source": [
    "## load and merge data w labels "
   ]
  },
  {
   "cell_type": "code",
   "execution_count": 57,
   "id": "13e2ac82",
   "metadata": {},
   "outputs": [
    {
     "data": {
      "text/html": [
       "<div>\n",
       "<style scoped>\n",
       "    .dataframe tbody tr th:only-of-type {\n",
       "        vertical-align: middle;\n",
       "    }\n",
       "\n",
       "    .dataframe tbody tr th {\n",
       "        vertical-align: top;\n",
       "    }\n",
       "\n",
       "    .dataframe thead th {\n",
       "        text-align: right;\n",
       "    }\n",
       "</style>\n",
       "<table border=\"1\" class=\"dataframe\">\n",
       "  <thead>\n",
       "    <tr style=\"text-align: right;\">\n",
       "      <th></th>\n",
       "      <th>tile.coor</th>\n",
       "      <th>PC1</th>\n",
       "      <th>L1</th>\n",
       "      <th>TN1</th>\n",
       "      <th>TN2</th>\n",
       "      <th>L2</th>\n",
       "      <th>E1</th>\n",
       "      <th>E2</th>\n",
       "      <th>E3</th>\n",
       "      <th>L3</th>\n",
       "      <th>...</th>\n",
       "      <th>L/HET</th>\n",
       "      <th>L/HET</th>\n",
       "      <th>L/HET</th>\n",
       "      <th>L/HET</th>\n",
       "      <th>L/HET</th>\n",
       "      <th>L/HET</th>\n",
       "      <th>L/HET</th>\n",
       "      <th>L/HET</th>\n",
       "      <th>L/HET</th>\n",
       "      <th>L/HET</th>\n",
       "    </tr>\n",
       "  </thead>\n",
       "  <tbody>\n",
       "    <tr>\n",
       "      <th>0</th>\n",
       "      <td>chr13:112073561-112073831</td>\n",
       "      <td>7.209285</td>\n",
       "      <td>4.055590</td>\n",
       "      <td>1.129364</td>\n",
       "      <td>1.672152</td>\n",
       "      <td>2.010914</td>\n",
       "      <td>6.306994</td>\n",
       "      <td>3.543542</td>\n",
       "      <td>4.151067</td>\n",
       "      <td>3.872594</td>\n",
       "      <td>...</td>\n",
       "      <td>0.136094</td>\n",
       "      <td>1.029508</td>\n",
       "      <td>2.706808</td>\n",
       "      <td>5.068393</td>\n",
       "      <td>2.676638</td>\n",
       "      <td>1.974579</td>\n",
       "      <td>2.257275</td>\n",
       "      <td>1.949697</td>\n",
       "      <td>3.996029</td>\n",
       "      <td>2.041928</td>\n",
       "    </tr>\n",
       "    <tr>\n",
       "      <th>1</th>\n",
       "      <td>chr13:112073581-112073851</td>\n",
       "      <td>6.763016</td>\n",
       "      <td>3.676920</td>\n",
       "      <td>1.057404</td>\n",
       "      <td>1.526739</td>\n",
       "      <td>1.768337</td>\n",
       "      <td>5.004991</td>\n",
       "      <td>3.244346</td>\n",
       "      <td>3.477757</td>\n",
       "      <td>3.827772</td>\n",
       "      <td>...</td>\n",
       "      <td>0.143304</td>\n",
       "      <td>0.983652</td>\n",
       "      <td>2.671671</td>\n",
       "      <td>4.851279</td>\n",
       "      <td>2.377328</td>\n",
       "      <td>1.874483</td>\n",
       "      <td>2.305020</td>\n",
       "      <td>1.756132</td>\n",
       "      <td>3.792520</td>\n",
       "      <td>1.924091</td>\n",
       "    </tr>\n",
       "    <tr>\n",
       "      <th>2</th>\n",
       "      <td>chr13:112073601-112073871</td>\n",
       "      <td>5.812169</td>\n",
       "      <td>3.321641</td>\n",
       "      <td>0.868044</td>\n",
       "      <td>1.329495</td>\n",
       "      <td>1.599547</td>\n",
       "      <td>4.477780</td>\n",
       "      <td>2.515773</td>\n",
       "      <td>2.977341</td>\n",
       "      <td>3.491707</td>\n",
       "      <td>...</td>\n",
       "      <td>0.098984</td>\n",
       "      <td>0.836275</td>\n",
       "      <td>2.267405</td>\n",
       "      <td>4.201287</td>\n",
       "      <td>2.078791</td>\n",
       "      <td>1.583026</td>\n",
       "      <td>2.048030</td>\n",
       "      <td>1.567999</td>\n",
       "      <td>3.405484</td>\n",
       "      <td>1.614445</td>\n",
       "    </tr>\n",
       "    <tr>\n",
       "      <th>3</th>\n",
       "      <td>chr13:112073621-112073891</td>\n",
       "      <td>5.819405</td>\n",
       "      <td>3.612925</td>\n",
       "      <td>1.029199</td>\n",
       "      <td>1.532729</td>\n",
       "      <td>1.780364</td>\n",
       "      <td>5.322221</td>\n",
       "      <td>3.231455</td>\n",
       "      <td>3.482349</td>\n",
       "      <td>3.605277</td>\n",
       "      <td>...</td>\n",
       "      <td>0.122046</td>\n",
       "      <td>1.111357</td>\n",
       "      <td>2.134765</td>\n",
       "      <td>4.067479</td>\n",
       "      <td>2.413321</td>\n",
       "      <td>1.473149</td>\n",
       "      <td>1.982637</td>\n",
       "      <td>1.517266</td>\n",
       "      <td>3.490395</td>\n",
       "      <td>1.563920</td>\n",
       "    </tr>\n",
       "    <tr>\n",
       "      <th>4</th>\n",
       "      <td>chr13:112073641-112073911</td>\n",
       "      <td>4.844888</td>\n",
       "      <td>2.973640</td>\n",
       "      <td>0.758278</td>\n",
       "      <td>1.205471</td>\n",
       "      <td>1.484950</td>\n",
       "      <td>4.356035</td>\n",
       "      <td>2.287500</td>\n",
       "      <td>2.760160</td>\n",
       "      <td>3.087883</td>\n",
       "      <td>...</td>\n",
       "      <td>0.090943</td>\n",
       "      <td>0.792066</td>\n",
       "      <td>1.787849</td>\n",
       "      <td>3.338714</td>\n",
       "      <td>1.787607</td>\n",
       "      <td>1.283991</td>\n",
       "      <td>1.699739</td>\n",
       "      <td>1.332905</td>\n",
       "      <td>2.913985</td>\n",
       "      <td>1.399110</td>\n",
       "    </tr>\n",
       "  </tbody>\n",
       "</table>\n",
       "<p>5 rows × 62 columns</p>\n",
       "</div>"
      ],
      "text/plain": [
       "                   tile.coor       PC1        L1       TN1       TN2  \\\n",
       "0  chr13:112073561-112073831  7.209285  4.055590  1.129364  1.672152   \n",
       "1  chr13:112073581-112073851  6.763016  3.676920  1.057404  1.526739   \n",
       "2  chr13:112073601-112073871  5.812169  3.321641  0.868044  1.329495   \n",
       "3  chr13:112073621-112073891  5.819405  3.612925  1.029199  1.532729   \n",
       "4  chr13:112073641-112073911  4.844888  2.973640  0.758278  1.205471   \n",
       "\n",
       "         L2        E1        E2        E3        L3  ...     L/HET     L/HET  \\\n",
       "0  2.010914  6.306994  3.543542  4.151067  3.872594  ...  0.136094  1.029508   \n",
       "1  1.768337  5.004991  3.244346  3.477757  3.827772  ...  0.143304  0.983652   \n",
       "2  1.599547  4.477780  2.515773  2.977341  3.491707  ...  0.098984  0.836275   \n",
       "3  1.780364  5.322221  3.231455  3.482349  3.605277  ...  0.122046  1.111357   \n",
       "4  1.484950  4.356035  2.287500  2.760160  3.087883  ...  0.090943  0.792066   \n",
       "\n",
       "      L/HET     L/HET     L/HET     L/HET     L/HET     L/HET     L/HET  \\\n",
       "0  2.706808  5.068393  2.676638  1.974579  2.257275  1.949697  3.996029   \n",
       "1  2.671671  4.851279  2.377328  1.874483  2.305020  1.756132  3.792520   \n",
       "2  2.267405  4.201287  2.078791  1.583026  2.048030  1.567999  3.405484   \n",
       "3  2.134765  4.067479  2.413321  1.473149  1.982637  1.517266  3.490395   \n",
       "4  1.787849  3.338714  1.787607  1.283991  1.699739  1.332905  2.913985   \n",
       "\n",
       "      L/HET  \n",
       "0  2.041928  \n",
       "1  1.924091  \n",
       "2  1.614445  \n",
       "3  1.563920  \n",
       "4  1.399110  \n",
       "\n",
       "[5 rows x 62 columns]"
      ]
     },
     "execution_count": 57,
     "metadata": {},
     "output_type": "execute_result"
    }
   ],
   "source": [
    "# open npy data\n",
    "data = np.load(path_dict[\"CLASS_PRED\"], allow_pickle=True)\n",
    "\n",
    "labels = path_dict[\"LABELS\"]\n",
    "index=FASTA_INDEX\n",
    "\n",
    "# turn into pd dataframe\n",
    "df = pd.DataFrame(data)\n",
    "\n",
    "# rename columns\n",
    "df.columns = list(seqClass[\"#Sequence class label\"])[:-1]\n",
    "\n",
    "# process labels file\n",
    "lab = processLabel(labels, index)\n",
    "\n",
    "#lab = pd.merge(lab, act[[\"avg_activity\", \"coor\"]], how=\"left\")\n",
    "\n",
    "# add labels and data together\n",
    "df = pd.merge(lab, df, left_index=True, right_index=True)\n",
    "\n",
    "df.head()"
   ]
  },
  {
   "cell_type": "markdown",
   "id": "565cabdb",
   "metadata": {},
   "source": [
    "## write the table"
   ]
  },
  {
   "cell_type": "code",
   "execution_count": 58,
   "id": "bdd553ec",
   "metadata": {},
   "outputs": [],
   "source": [
    "SEI_PRED = os.path.join(os.path.splitext(path_dict[\"CLASS_PRED\"])[0] + \".table.tsv.gz\")\n",
    "df.to_csv(SEI_PRED, sep='\\t', compression=\"gzip\", index=False)"
   ]
  },
  {
   "cell_type": "code",
   "execution_count": 59,
   "id": "3483f142",
   "metadata": {},
   "outputs": [
    {
     "data": {
      "text/plain": [
       "'/wynton/group/ahituv/biomarin/library_2/Design/sei_predictions/chromatin-profiles-hdf5/biomarin-lib2-hg38-final.clean.sei_padded.raw_sequence_class_scores.table.tsv.gz'"
      ]
     },
     "execution_count": 59,
     "metadata": {},
     "output_type": "execute_result"
    }
   ],
   "source": [
    "SEI_PRED"
   ]
  },
  {
   "cell_type": "code",
   "execution_count": null,
   "id": "75bb5ba2",
   "metadata": {},
   "outputs": [],
   "source": []
  }
 ],
 "metadata": {
  "kernelspec": {
   "display_name": "Python (mamba)",
   "language": "python",
   "name": "mamba"
  },
  "language_info": {
   "codemirror_mode": {
    "name": "ipython",
    "version": 3
   },
   "file_extension": ".py",
   "mimetype": "text/x-python",
   "name": "python",
   "nbconvert_exporter": "python",
   "pygments_lexer": "ipython3",
   "version": "3.9.16"
  },
  "toc": {
   "base_numbering": 1,
   "nav_menu": {},
   "number_sections": true,
   "sideBar": true,
   "skip_h1_title": false,
   "title_cell": "Table of Contents",
   "title_sidebar": "Contents",
   "toc_cell": false,
   "toc_position": {},
   "toc_section_display": true,
   "toc_window_display": false
  },
  "varInspector": {
   "cols": {
    "lenName": 16,
    "lenType": 16,
    "lenVar": 40
   },
   "kernels_config": {
    "python": {
     "delete_cmd_postfix": "",
     "delete_cmd_prefix": "del ",
     "library": "var_list.py",
     "varRefreshCmd": "print(var_dic_list())"
    },
    "r": {
     "delete_cmd_postfix": ") ",
     "delete_cmd_prefix": "rm(",
     "library": "var_list.r",
     "varRefreshCmd": "cat(var_dic_list()) "
    }
   },
   "types_to_exclude": [
    "module",
    "function",
    "builtin_function_or_method",
    "instance",
    "_Feature"
   ],
   "window_display": false
  }
 },
 "nbformat": 4,
 "nbformat_minor": 5
}
