{
 "cells": [
  {
   "cell_type": "code",
   "execution_count": 1,
   "metadata": {},
   "outputs": [
    {
     "data": {
      "text/plain": [
       "('sans-serif', 'Arial', 18)"
      ]
     },
     "execution_count": 1,
     "metadata": {},
     "output_type": "execute_result"
    }
   ],
   "source": [
    "from Bio.SeqIO.FastaIO import SimpleFastaParser\n",
    "import numpy as np\n",
    "import os, sys\n",
    "import pandas as pd\n",
    "import pybedtools as pb\n",
    "import matplotlib.pyplot as plt\n",
    "import seaborn as sns\n",
    "\n",
    "LOCAL = True\n",
    "if LOCAL is True:\n",
    "    sys.path.append(\"/Users/sarahfong/tools/py_\")\n",
    "    PATH = \"/Users/sarahfong/Desktop/local_data/Biomarin_Jun_2023/\"\n",
    "    MPRA = os.path.join(PATH, \"delta_rank.csv\")\n",
    "    FASTA = os.path.join(PATH, \"library_2\", \"Design\", \"biomarin-lib2-hg38-final.fasta\")\n",
    "    META_DATA= os.path.join(PATH, \"lib2.meta_data.tsv\")\n",
    "    TILE_BED = os.path.join(PATH, \"lib2.processed.bed\")\n",
    "    ENH_BED = os.path.join(PATH,'lib2.processed.merged.bed')\n",
    "    GREAT_GENE = os.path.join(PATH, \"GREAT\", f\"region2gene_lib2hg38.txt\")\n",
    "    GREAT_GENE_TSV = os.path.join(PATH, \"GREAT\", f\"region2gene_lib2hg38.tsv\")\n",
    "                         \n",
    "import config_readwrite as crw\n",
    "import plot_params as pp\n",
    "pp.fonts()"
   ]
  },
  {
   "cell_type": "markdown",
   "metadata": {},
   "source": [
    "# evaluate GREAT"
   ]
  },
  {
   "cell_type": "code",
   "execution_count": 2,
   "metadata": {},
   "outputs": [],
   "source": [
    "# get nearby coordinates using GREAT nearest 2 gene function"
   ]
  },
  {
   "cell_type": "markdown",
   "metadata": {},
   "source": [
    "## load great annotations"
   ]
  },
  {
   "cell_type": "code",
   "execution_count": 7,
   "metadata": {},
   "outputs": [
    {
     "name": "stderr",
     "output_type": "stream",
     "text": [
      "/Users/sarahfong/miniconda3/envs/base_venv/lib/python3.6/site-packages/ipykernel_launcher.py:21: FutureWarning: arrays to stack must be passed as a \"sequence\" type such as list or tuple. Support for non-sequence iterables such as generators is deprecated as of NumPy 1.16 and will raise an error in the future.\n"
     ]
    },
    {
     "data": {
      "text/html": [
       "<div>\n",
       "<style scoped>\n",
       "    .dataframe tbody tr th:only-of-type {\n",
       "        vertical-align: middle;\n",
       "    }\n",
       "\n",
       "    .dataframe tbody tr th {\n",
       "        vertical-align: top;\n",
       "    }\n",
       "\n",
       "    .dataframe thead th {\n",
       "        text-align: right;\n",
       "    }\n",
       "</style>\n",
       "<table border=\"1\" class=\"dataframe\">\n",
       "  <thead>\n",
       "    <tr style=\"text-align: right;\">\n",
       "      <th></th>\n",
       "      <th>coor</th>\n",
       "      <th>gene</th>\n",
       "      <th>dist</th>\n",
       "    </tr>\n",
       "  </thead>\n",
       "  <tbody>\n",
       "    <tr>\n",
       "      <th>0</th>\n",
       "      <td>chr1:101316025-101316295</td>\n",
       "      <td>S1PR1</td>\n",
       "      <td>79272</td>\n",
       "    </tr>\n",
       "    <tr>\n",
       "      <th>1</th>\n",
       "      <td>chr1:101316025-101316295</td>\n",
       "      <td>OLFM3</td>\n",
       "      <td>530813</td>\n",
       "    </tr>\n",
       "    <tr>\n",
       "      <th>2</th>\n",
       "      <td>chr1:101316045-101316315</td>\n",
       "      <td>S1PR1</td>\n",
       "      <td>79292</td>\n",
       "    </tr>\n",
       "    <tr>\n",
       "      <th>3</th>\n",
       "      <td>chr1:101316045-101316315</td>\n",
       "      <td>OLFM3</td>\n",
       "      <td>530793</td>\n",
       "    </tr>\n",
       "    <tr>\n",
       "      <th>4</th>\n",
       "      <td>chr1:101316065-101316335</td>\n",
       "      <td>S1PR1</td>\n",
       "      <td>79312</td>\n",
       "    </tr>\n",
       "  </tbody>\n",
       "</table>\n",
       "</div>"
      ],
      "text/plain": [
       "                       coor   gene    dist\n",
       "0  chr1:101316025-101316295  S1PR1   79272\n",
       "1  chr1:101316025-101316295  OLFM3  530813\n",
       "2  chr1:101316045-101316315  S1PR1   79292\n",
       "3  chr1:101316045-101316315  OLFM3  530793\n",
       "4  chr1:101316065-101316335  S1PR1   79312"
      ]
     },
     "execution_count": 7,
     "metadata": {},
     "output_type": "execute_result"
    }
   ],
   "source": [
    "locus_dict = {}\n",
    "with open(GREAT_GENE, \"r\") as reader:\n",
    "    for line in reader:\n",
    "        if \"#\" not in line and line !=\"\\n\":\n",
    "            \n",
    "            locus, genes = line.strip(\"\\n\").split(\"\\t\")  # split on tab to get gene name\n",
    "\n",
    "            info = [locus]\n",
    "            \n",
    "            for n, i in enumerate(genes.split(\",\")):\n",
    "                if i != \"NONE\":\n",
    "                    gene, dist = i.strip(\" \").split(\" \")\n",
    "                    dist = dist.strip(\"()\")\n",
    "                    dist = dist.strip(\"+\")\n",
    "                else:\n",
    "                    gene, dist = \"na\", 0\n",
    "                \n",
    "                locus_dict[f'{locus}-{n}'] = [locus, gene, int(dist)]\n",
    "\n",
    "\n",
    "vstack = np.vstack(locus_dict.values())\n",
    "\n",
    "great = pd.DataFrame(vstack)\n",
    "great.columns = [\"coor\", \"gene\", 'dist']\n",
    "great.head()"
   ]
  },
  {
   "cell_type": "code",
   "execution_count": 8,
   "metadata": {},
   "outputs": [],
   "source": [
    "great.to_csv(GREAT_GENE_TSV, sep='\\t', index=False)"
   ]
  },
  {
   "cell_type": "code",
   "execution_count": null,
   "metadata": {},
   "outputs": [],
   "source": []
  }
 ],
 "metadata": {
  "kernelspec": {
   "display_name": "Python 3",
   "language": "python",
   "name": "python3"
  },
  "language_info": {
   "codemirror_mode": {
    "name": "ipython",
    "version": 3
   },
   "file_extension": ".py",
   "mimetype": "text/x-python",
   "name": "python",
   "nbconvert_exporter": "python",
   "pygments_lexer": "ipython3",
   "version": "3.6.10"
  },
  "toc": {
   "base_numbering": 1,
   "nav_menu": {},
   "number_sections": true,
   "sideBar": true,
   "skip_h1_title": false,
   "title_cell": "Table of Contents",
   "title_sidebar": "Contents",
   "toc_cell": false,
   "toc_position": {},
   "toc_section_display": true,
   "toc_window_display": false
  }
 },
 "nbformat": 4,
 "nbformat_minor": 2
}
