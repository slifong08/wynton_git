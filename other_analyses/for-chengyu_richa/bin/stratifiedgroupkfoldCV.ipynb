{
 "cells": [
  {
   "cell_type": "code",
   "execution_count": 64,
   "id": "e12ce0e6",
   "metadata": {},
   "outputs": [],
   "source": [
    "import os, sys\n",
    "import pandas as pd\n",
    "from sklearn.model_selection import GroupShuffleSplit, cross_validate, GroupKFold, StratifiedGroupKFold"
   ]
  },
  {
   "cell_type": "code",
   "execution_count": 2,
   "id": "6f0c00de",
   "metadata": {},
   "outputs": [],
   "source": [
    "TILES = \"/wynton/group/ahituv/biomarin/library_2/Design/biomarin-lib2-hg38-final.bed\" # tiles\n",
    "ENH_ANNOT = \"/wynton/group/ahituv/biomarin/library_1/Design/design_tiles_regions.bed\" #design_regions.bed  #enhancers\""
   ]
  },
  {
   "cell_type": "code",
   "execution_count": 3,
   "id": "a8f76d5f",
   "metadata": {},
   "outputs": [],
   "source": [
    "tiles = pd.read_csv(TILES, sep='\\t', header=None, names=[\"#chr\", \"start\", \"end\"])\n",
    "\n",
    "tiles.head()"
   ]
  },
  {
   "cell_type": "code",
   "execution_count": 8,
   "id": "b9841164",
   "metadata": {},
   "outputs": [],
   "source": [
    "enh = pd.read_csv(ENH_ANNOT, sep='\\t', header=None, \n",
    "                  usecols=[0,1,2,10], \n",
    "                  names=[\"#chr\", \"start\", \"end\", \"enh_id\"]\n",
    "                 )"
   ]
  },
  {
   "cell_type": "code",
   "execution_count": 9,
   "id": "41f1b21e",
   "metadata": {},
   "outputs": [
    {
     "data": {
      "text/html": [
       "<div>\n",
       "<style scoped>\n",
       "    .dataframe tbody tr th:only-of-type {\n",
       "        vertical-align: middle;\n",
       "    }\n",
       "\n",
       "    .dataframe tbody tr th {\n",
       "        vertical-align: top;\n",
       "    }\n",
       "\n",
       "    .dataframe thead th {\n",
       "        text-align: right;\n",
       "    }\n",
       "</style>\n",
       "<table border=\"1\" class=\"dataframe\">\n",
       "  <thead>\n",
       "    <tr style=\"text-align: right;\">\n",
       "      <th></th>\n",
       "      <th>#chr</th>\n",
       "      <th>start</th>\n",
       "      <th>end</th>\n",
       "      <th>enh_id</th>\n",
       "    </tr>\n",
       "  </thead>\n",
       "  <tbody>\n",
       "    <tr>\n",
       "      <th>0</th>\n",
       "      <td>chr1</td>\n",
       "      <td>243557633</td>\n",
       "      <td>243557902</td>\n",
       "      <td>enh.71.ZBTB18</td>\n",
       "    </tr>\n",
       "    <tr>\n",
       "      <th>1</th>\n",
       "      <td>chr1</td>\n",
       "      <td>243557633</td>\n",
       "      <td>243557902</td>\n",
       "      <td>enh.71.ZBTB18</td>\n",
       "    </tr>\n",
       "    <tr>\n",
       "      <th>2</th>\n",
       "      <td>chr1</td>\n",
       "      <td>243557648</td>\n",
       "      <td>243557917</td>\n",
       "      <td>enh.71.ZBTB18</td>\n",
       "    </tr>\n",
       "    <tr>\n",
       "      <th>3</th>\n",
       "      <td>chr1</td>\n",
       "      <td>243557648</td>\n",
       "      <td>243557917</td>\n",
       "      <td>enh.71.ZBTB18</td>\n",
       "    </tr>\n",
       "    <tr>\n",
       "      <th>4</th>\n",
       "      <td>chr1</td>\n",
       "      <td>243557663</td>\n",
       "      <td>243557932</td>\n",
       "      <td>enh.71.ZBTB18</td>\n",
       "    </tr>\n",
       "  </tbody>\n",
       "</table>\n",
       "</div>"
      ],
      "text/plain": [
       "   #chr      start        end         enh_id\n",
       "0  chr1  243557633  243557902  enh.71.ZBTB18\n",
       "1  chr1  243557633  243557902  enh.71.ZBTB18\n",
       "2  chr1  243557648  243557917  enh.71.ZBTB18\n",
       "3  chr1  243557648  243557917  enh.71.ZBTB18\n",
       "4  chr1  243557663  243557932  enh.71.ZBTB18"
      ]
     },
     "execution_count": 9,
     "metadata": {},
     "output_type": "execute_result"
    }
   ],
   "source": [
    "enh.head()"
   ]
  },
  {
   "cell_type": "code",
   "execution_count": 25,
   "id": "c0ceca1f",
   "metadata": {},
   "outputs": [],
   "source": [
    "import numpy as np"
   ]
  },
  {
   "cell_type": "code",
   "execution_count": 26,
   "id": "926bbd7a",
   "metadata": {},
   "outputs": [],
   "source": [
    "X=np.array(enh[[\"start\"]])\n",
    "y=np.array(enh[[\"#chr\"]])\n",
    "groups = np.array(enh[[\"enh_id\"]])\n",
    "\n",
    "gss = GroupShuffleSplit(n_splits=1, train_size=.8, random_state=42)"
   ]
  },
  {
   "cell_type": "markdown",
   "id": "35f14065",
   "metadata": {},
   "source": [
    "# train test split 80:20 "
   ]
  },
  {
   "cell_type": "code",
   "execution_count": 70,
   "id": "944fa478",
   "metadata": {},
   "outputs": [
    {
     "data": {
      "text/plain": [
       "'    print(f\"Fold {i}:\")\\n    print(f\"  Train: index={train_index}, group={np.unique(groups[train_index])}\")\\n    print(f\"  Test:  index={test_index}, group={np.unique(groups[test_index])}\")\\n    \\n    '"
      ]
     },
     "execution_count": 70,
     "metadata": {},
     "output_type": "execute_result"
    }
   ],
   "source": [
    "for train_index, test_index in gss.split(X, y, groups):\n",
    "    trainx = X[train_index]\n",
    "    testx = X[test_index]\n",
    "    \n",
    "    trainy = y[train_index]\n",
    "    testy = y[test_index]\n",
    "\n",
    "\"\"\"    print(f\"Fold {i}:\")\n",
    "    print(f\"  Train: index={train_index}, group={np.unique(groups[train_index])}\")\n",
    "    print(f\"  Test:  index={test_index}, group={np.unique(groups[test_index])}\")\n",
    "    \n",
    "    \"\"\""
   ]
  },
  {
   "cell_type": "markdown",
   "id": "9767ee6c",
   "metadata": {},
   "source": [
    "# CV on training \n",
    "goal - make 5 folds "
   ]
  },
  {
   "cell_type": "code",
   "execution_count": 65,
   "id": "ff0d6226",
   "metadata": {},
   "outputs": [],
   "source": [
    "sgkf = StratifiedGroupKFold(n_splits=3)"
   ]
  },
  {
   "cell_type": "code",
   "execution_count": 69,
   "id": "14cb5ff6",
   "metadata": {},
   "outputs": [
    {
     "data": {
      "text/plain": [
       "360"
      ]
     },
     "execution_count": 69,
     "metadata": {},
     "output_type": "execute_result"
    }
   ],
   "source": [
    "len(train_index)"
   ]
  },
  {
   "cell_type": "code",
   "execution_count": 71,
   "id": "2d8cd9d5",
   "metadata": {},
   "outputs": [
    {
     "data": {
      "text/plain": [
       "30      enh.67.ZBTB18\n",
       "31      enh.67.ZBTB18\n",
       "32      enh.67.ZBTB18\n",
       "33      enh.67.ZBTB18\n",
       "34      enh.67.ZBTB18\n",
       "            ...      \n",
       "3919        enh.1.ARX\n",
       "3920        enh.1.ARX\n",
       "3921        enh.1.ARX\n",
       "3922        enh.1.ARX\n",
       "3923        enh.1.ARX\n",
       "Name: enh_id, Length: 3232, dtype: object"
      ]
     },
     "execution_count": 71,
     "metadata": {},
     "output_type": "execute_result"
    }
   ],
   "source": [
    "enh.iloc[train_index][\"enh_id\"]"
   ]
  },
  {
   "cell_type": "code",
   "execution_count": 72,
   "id": "1561e2c0",
   "metadata": {},
   "outputs": [
    {
     "name": "stdout",
     "output_type": "stream",
     "text": [
      "Fold 0:\n",
      "  Train: index=[   0    1    2 ... 3229 3230 3231], group=['enh.15.ERBB4' 'enh.17.ERBB4' 'enh.18.ERBB4' 'enh.19.ERBB4'\n",
      " 'enh.20.ERBB4' 'enh.21.ERBB4' 'enh.22.GAD1' 'enh.24.GAD1' 'enh.25.GAD2'\n",
      " 'enh.26.GAD2' 'enh.27.GAD2' 'enh.28.GAD2' 'enh.29.GAD2' 'enh.31.GAD2'\n",
      " 'enh.37.CCBE1' 'enh.38.CCBE1' 'enh.39.CCBE1' 'enh.41.CCBE1'\n",
      " 'enh.43.ICA1L' 'enh.44.ICA1L' 'enh.45.ICA1L' 'enh.46.MIAT' 'enh.47.NELL2'\n",
      " 'enh.48.NELL2' 'enh.49.NELL2' 'enh.50.NELL2' 'enh.51.NELL2'\n",
      " 'enh.52.NELL2' 'enh.53.NELL2' 'enh.54.NELL2' 'enh.55.NELL2'\n",
      " 'enh.56.NELL2' 'enh.57.NELL2' 'enh.58.NELL2' 'enh.59.NELL2'\n",
      " 'enh.6.DLX1/DLX2' 'enh.60.NELL2' 'enh.65.SATB2' 'enh.66.SATB2'\n",
      " 'enh.67.ZBTB18' 'enh.68.ZBTB18' 'enh.7.DLX1/DLX2' 'enh.71.ZBTB18']\n",
      "  Test:  index=[  36   37   44 ... 2991 2992 2993], group=['enh.14.ERBB4' 'enh.16.ERBB4' 'enh.19.ERBB4' 'enh.2.DLX1/DLX2'\n",
      " 'enh.22.GAD1' 'enh.23.GAD1' 'enh.24.GAD1' 'enh.29.GAD2' 'enh.3.DLX1/DLX2'\n",
      " 'enh.30.GAD2' 'enh.31.GAD2' 'enh.37.CCBE1' 'enh.4.DLX1/DLX2'\n",
      " 'enh.40.CCBE1' 'enh.44.ICA1L' 'enh.45.ICA1L' 'enh.47.NELL2'\n",
      " 'enh.48.NELL2' 'enh.5.DLX1/DLX2' 'enh.50.NELL2' 'enh.56.NELL2'\n",
      " 'enh.57.NELL2' 'enh.6.DLX1/DLX2' 'enh.68.ZBTB18' 'enh.69.ZBTB18'\n",
      " 'enh.7.DLX1/DLX2' 'enh.70.ZBTB18']\n",
      "Fold 1:\n",
      "  Train: index=[   6    7    8 ... 3105 3106 3107], group=['enh.14.ERBB4' 'enh.16.ERBB4' 'enh.19.ERBB4' 'enh.2.DLX1/DLX2'\n",
      " 'enh.20.ERBB4' 'enh.22.GAD1' 'enh.23.GAD1' 'enh.24.GAD1' 'enh.25.GAD2'\n",
      " 'enh.28.GAD2' 'enh.29.GAD2' 'enh.3.DLX1/DLX2' 'enh.30.GAD2' 'enh.31.GAD2'\n",
      " 'enh.37.CCBE1' 'enh.38.CCBE1' 'enh.39.CCBE1' 'enh.4.DLX1/DLX2'\n",
      " 'enh.40.CCBE1' 'enh.41.CCBE1' 'enh.43.ICA1L' 'enh.44.ICA1L'\n",
      " 'enh.45.ICA1L' 'enh.47.NELL2' 'enh.48.NELL2' 'enh.49.NELL2'\n",
      " 'enh.5.DLX1/DLX2' 'enh.50.NELL2' 'enh.51.NELL2' 'enh.53.NELL2'\n",
      " 'enh.54.NELL2' 'enh.56.NELL2' 'enh.57.NELL2' 'enh.6.DLX1/DLX2'\n",
      " 'enh.67.ZBTB18' 'enh.68.ZBTB18' 'enh.69.ZBTB18' 'enh.7.DLX1/DLX2'\n",
      " 'enh.70.ZBTB18' 'enh.71.ZBTB18']\n",
      "  Test:  index=[   0    1    2 ... 3229 3230 3231], group=['enh.15.ERBB4' 'enh.17.ERBB4' 'enh.18.ERBB4' 'enh.20.ERBB4'\n",
      " 'enh.21.ERBB4' 'enh.25.GAD2' 'enh.26.GAD2' 'enh.27.GAD2' 'enh.29.GAD2'\n",
      " 'enh.31.GAD2' 'enh.41.CCBE1' 'enh.43.ICA1L' 'enh.44.ICA1L' 'enh.45.ICA1L'\n",
      " 'enh.46.MIAT' 'enh.47.NELL2' 'enh.49.NELL2' 'enh.51.NELL2' 'enh.52.NELL2'\n",
      " 'enh.55.NELL2' 'enh.57.NELL2' 'enh.58.NELL2' 'enh.59.NELL2'\n",
      " 'enh.6.DLX1/DLX2' 'enh.60.NELL2' 'enh.65.SATB2' 'enh.66.SATB2'\n",
      " 'enh.71.ZBTB18']\n",
      "Fold 2:\n",
      "  Train: index=[   0    1    2 ... 3229 3230 3231], group=['enh.14.ERBB4' 'enh.15.ERBB4' 'enh.16.ERBB4' 'enh.17.ERBB4'\n",
      " 'enh.18.ERBB4' 'enh.19.ERBB4' 'enh.2.DLX1/DLX2' 'enh.20.ERBB4'\n",
      " 'enh.21.ERBB4' 'enh.22.GAD1' 'enh.23.GAD1' 'enh.24.GAD1' 'enh.25.GAD2'\n",
      " 'enh.26.GAD2' 'enh.27.GAD2' 'enh.29.GAD2' 'enh.3.DLX1/DLX2' 'enh.30.GAD2'\n",
      " 'enh.31.GAD2' 'enh.37.CCBE1' 'enh.4.DLX1/DLX2' 'enh.40.CCBE1'\n",
      " 'enh.41.CCBE1' 'enh.43.ICA1L' 'enh.44.ICA1L' 'enh.45.ICA1L' 'enh.46.MIAT'\n",
      " 'enh.47.NELL2' 'enh.48.NELL2' 'enh.49.NELL2' 'enh.5.DLX1/DLX2'\n",
      " 'enh.50.NELL2' 'enh.51.NELL2' 'enh.52.NELL2' 'enh.55.NELL2'\n",
      " 'enh.56.NELL2' 'enh.57.NELL2' 'enh.58.NELL2' 'enh.59.NELL2'\n",
      " 'enh.6.DLX1/DLX2' 'enh.60.NELL2' 'enh.65.SATB2' 'enh.66.SATB2'\n",
      " 'enh.68.ZBTB18' 'enh.69.ZBTB18' 'enh.7.DLX1/DLX2' 'enh.70.ZBTB18'\n",
      " 'enh.71.ZBTB18']\n",
      "  Test:  index=[   6    7    8 ... 3105 3106 3107], group=['enh.19.ERBB4' 'enh.20.ERBB4' 'enh.22.GAD1' 'enh.24.GAD1' 'enh.25.GAD2'\n",
      " 'enh.28.GAD2' 'enh.31.GAD2' 'enh.37.CCBE1' 'enh.38.CCBE1' 'enh.39.CCBE1'\n",
      " 'enh.41.CCBE1' 'enh.43.ICA1L' 'enh.45.ICA1L' 'enh.48.NELL2'\n",
      " 'enh.49.NELL2' 'enh.50.NELL2' 'enh.51.NELL2' 'enh.53.NELL2'\n",
      " 'enh.54.NELL2' 'enh.56.NELL2' 'enh.6.DLX1/DLX2' 'enh.67.ZBTB18'\n",
      " 'enh.68.ZBTB18' 'enh.7.DLX1/DLX2' 'enh.71.ZBTB18']\n"
     ]
    }
   ],
   "source": [
    "cv = GroupShuffleSplit(n_splits=10, train_size=.9, random_state=42)\n",
    "\n",
    "for i, (train_index, test_index) in enumerate(sgkf.split(trainx, trainy, enh.iloc[train_index][\"enh_id\"])):\n",
    "    print(f\"Fold {i}:\")\n",
    "    print(f\"  Train: index={train_index}, group={np.unique(groups[train_index])}\")\n",
    "    print(f\"  Test:  index={test_index}, group={np.unique(groups[test_index])}\")\n",
    "    \"\"\"\n",
    "    ### PSEUDOCODE ###\n",
    "    trainx_cv = X[train_index]\n",
    "    testx_cv = X[test_index]\n",
    "    \n",
    "    trainy_cv = y[train_index]\n",
    "    testy_cv = y[test_index]\n",
    "    \n",
    "    model.fit(trainx_cv, trainy_cv)\n",
    "    model.predict(testx_cv, testy_cv)\n",
    "    \n",
    "    # compute performance as auPR\n",
    "    \n",
    "    # check scores from the folds. \n",
    "    \"\"\""
   ]
  },
  {
   "cell_type": "markdown",
   "id": "cb32e8f4",
   "metadata": {},
   "source": [
    "## for logisticregressionCV - use from sklearn.model_selection import StratifiedGroupKFold as CV argument!!"
   ]
  },
  {
   "cell_type": "code",
   "execution_count": null,
   "id": "008396c1",
   "metadata": {},
   "outputs": [],
   "source": []
  }
 ],
 "metadata": {
  "kernelspec": {
   "display_name": "Python (mamba)",
   "language": "python",
   "name": "mamba"
  },
  "language_info": {
   "codemirror_mode": {
    "name": "ipython",
    "version": 3
   },
   "file_extension": ".py",
   "mimetype": "text/x-python",
   "name": "python",
   "nbconvert_exporter": "python",
   "pygments_lexer": "ipython3",
   "version": "3.9.16"
  },
  "toc": {
   "base_numbering": 1,
   "nav_menu": {},
   "number_sections": true,
   "sideBar": true,
   "skip_h1_title": false,
   "title_cell": "Table of Contents",
   "title_sidebar": "Contents",
   "toc_cell": false,
   "toc_position": {},
   "toc_section_display": true,
   "toc_window_display": false
  },
  "varInspector": {
   "cols": {
    "lenName": 16,
    "lenType": 16,
    "lenVar": 40
   },
   "kernels_config": {
    "python": {
     "delete_cmd_postfix": "",
     "delete_cmd_prefix": "del ",
     "library": "var_list.py",
     "varRefreshCmd": "print(var_dic_list())"
    },
    "r": {
     "delete_cmd_postfix": ") ",
     "delete_cmd_prefix": "rm(",
     "library": "var_list.r",
     "varRefreshCmd": "cat(var_dic_list()) "
    }
   },
   "types_to_exclude": [
    "module",
    "function",
    "builtin_function_or_method",
    "instance",
    "_Feature"
   ],
   "window_display": false
  }
 },
 "nbformat": 4,
 "nbformat_minor": 5
}
