{
 "cells": [
  {
   "cell_type": "code",
   "execution_count": 1,
   "id": "18de3644",
   "metadata": {
    "ExecuteTime": {
     "end_time": "2023-03-30T17:13:43.414388Z",
     "start_time": "2023-03-30T17:13:39.395912Z"
    }
   },
   "outputs": [],
   "source": [
    "import argparse\n",
    "from Bio.SeqIO.FastaIO import SimpleFastaParser\n",
    "import os, sys\n",
    "import pandas as pd"
   ]
  },
  {
   "cell_type": "code",
   "execution_count": 2,
   "id": "e4354ff2",
   "metadata": {
    "ExecuteTime": {
     "end_time": "2023-03-30T17:13:43.471609Z",
     "start_time": "2023-03-30T17:13:43.457927Z"
    }
   },
   "outputs": [
    {
     "name": "stderr",
     "output_type": "stream",
     "text": [
      "usage: ipykernel_launcher.py [-h] inputfile\n",
      "ipykernel_launcher.py: error: unrecognized arguments: -f\n"
     ]
    },
    {
     "ename": "SystemExit",
     "evalue": "2",
     "output_type": "error",
     "traceback": [
      "An exception has occurred, use %tb to see the full traceback.\n",
      "\u001b[0;31mSystemExit\u001b[0m\u001b[0;31m:\u001b[0m 2\n"
     ]
    },
    {
     "name": "stderr",
     "output_type": "stream",
     "text": [
      "/wynton/home/ahituv/fongsl/.conda/envs/wynenv/lib/python3.10/site-packages/IPython/core/interactiveshell.py:3441: UserWarning: To exit: use 'exit', 'quit', or Ctrl-D.\n",
      "  warn(\"To exit: use 'exit', 'quit', or Ctrl-D.\", stacklevel=1)\n"
     ]
    }
   ],
   "source": [
    "BED2FA=\"/wynton/home/ahituv/fongsl/tools/genome/fasta_from_bed.py\"\n",
    "\n",
    "parser = argparse.ArgumentParser()\n",
    "\n",
    "parser.add_argument('inputfile', type=str, help=\".fa, .vcf, .bed file\") \n",
    "\n",
    "args = parser.parse_args()\n",
    "\n",
    "INFILE = args.inputfile"
   ]
  },
  {
   "cell_type": "code",
   "execution_count": 3,
   "id": "256e3587",
   "metadata": {
    "ExecuteTime": {
     "end_time": "2023-03-30T17:13:46.534056Z",
     "start_time": "2023-03-30T17:13:46.529242Z"
    }
   },
   "outputs": [],
   "source": [
    "INFILE = os.path.join(os.getcwd(), \"asthma.fa\")"
   ]
  },
  {
   "cell_type": "markdown",
   "id": "34a3eb30",
   "metadata": {},
   "source": [
    "# turn fa into bed"
   ]
  },
  {
   "cell_type": "code",
   "execution_count": 9,
   "id": "6482ac5e",
   "metadata": {
    "ExecuteTime": {
     "end_time": "2023-03-30T17:17:02.377005Z",
     "start_time": "2023-03-30T17:17:02.271990Z"
    }
   },
   "outputs": [
    {
     "name": "stdout",
     "output_type": "stream",
     "text": [
      "chr12 102478537 102478807 UP_CTRL 270\n",
      "chr11 112425261 112425531 UP_CTRL 270\n",
      "chr3 170276045 170276315 UP_CTRL 270\n",
      "chr4 83361979 83362249 UP_CTRL 270\n",
      "chr4 183750925 183751195 UP_CTRL 270\n",
      "chr3 3015422 3015692 UP_CTRL 270\n",
      "chr2 43759449 43759719 UP_CTRL 270\n",
      "chr7 117572711 117572981 UP_CTRL 270\n",
      "chr16 53043314 53043584 UP_CTRL 270\n",
      "chr7 17276566 17276836 UP_CTRL 270\n",
      "chr12 497668 497938 UP_CTRL 270\n",
      "chr8 120048370 120048640 UP_CTRL 270\n",
      "chr14 85178861 85179131 UP_CTRL 270\n",
      "chr2 220660772 220661042 UP_CTRL 270\n",
      "chr5 71860683 71860953 UP_CTRL 270\n",
      "chr9 76793697 76793967 UP_CTRL 270\n",
      "chr11 46276500 46276770 UP_CTRL 270\n",
      "chr1 219171704 219171974 UP_CTRL 270\n",
      "chr12 3463850 3464120 UP_CTRL 270\n",
      "chr16 71781762 71782032 UP_CTRL 270\n",
      "chr22 24076349 24076619 UP_CTRL 270\n",
      "chr5 31916590 31916860 UP_CTRL 270\n",
      "chr2 109698882 109699152 UP_CTRL 270\n",
      "chr19 17800320 17800590 UP_CTRL 270\n",
      "chr5 6349446 6349716 UP_CTRL 270\n",
      "chr16 85073064 85073334 UP_CTRL 270\n",
      "chr13 36848372 36848642 UP_CTRL 270\n",
      "chr4 25632342 25632612 UP_CTRL 270\n",
      "chr5 17227557 17227827 UP_CTRL 270\n",
      "chrX 124171961 124172231 UP_CTRL 270\n",
      "chr3 136093683 136093953 UP_CTRL 270\n",
      "chr6 134436121 134436391 UP_CTRL 270\n",
      "chr2 195319020 195319290 UP_CTRL 270\n",
      "chr5 6349676 6349946 UP_CTRL 270\n",
      "chr7 101877353 101877623 UP_CTRL 270\n",
      "chr7 134317879 134318149 UP_CTRL 270\n",
      "chr20 50652867 50653137 UP_CTRL 270\n",
      "chr9 68776998 68777268 UP_CTRL 270\n",
      "chr2 109261595 109261865 UP_CTRL 270\n",
      "chr10 67815687 67815957 UP_CTRL 270\n",
      "chr12 122890728 122890998 UP_CTRL 270\n",
      "chr14 51430530 51430800 UP_CTRL 270\n",
      "chr2 74925344 74925614 UP_CTRL 270\n",
      "chr6 34586165 34586435 DOWN_CTRL 270\n",
      "chr15 86426238 86426508 DOWN_CTRL 270\n",
      "chr17 65220931 65221201 DOWN_CTRL 270\n",
      "chr2 234686622 234686892 DOWN_CTRL 270\n",
      "chr7 79828312 79828582 DOWN_CTRL 270\n",
      "chr2 223123695 223123965 DOWN_CTRL 270\n",
      "chr12 109575928 109576198 DOWN_CTRL 270\n",
      "chr13 94706645 94706915 DOWN_CTRL 270\n",
      "chr4 78591913 78592183 DOWN_CTRL 270\n",
      "chr20 15516223 15516493 DOWN_CTRL 270\n",
      "chr1 6325647 6325917 DOWN_CTRL 270\n",
      "chr7 116782329 116782599 DOWN_CTRL 270\n",
      "chr19 43768414 43768684 DOWN_CTRL 270\n",
      "chr4 146367517 146367787 DOWN_CTRL 270\n",
      "chr13 39329050 39329320 DOWN_CTRL 270\n",
      "chr18 58287523 58287793 DOWN_CTRL 270\n",
      "chr1 46516913 46517183 DOWN_CTRL 270\n",
      "chr21 33679258 33679528 DOWN_CTRL 270\n",
      "chr1 152932101 152932371 DOWN_CTRL 270\n",
      "chr1 219555751 219556021 DOWN_CTRL 270\n",
      "chr7 111930933 111931203 DOWN_CTRL 270\n",
      "chr7 21603096 21603366 DOWN_CTRL 270\n",
      "chr1 24364746 24365016 DOWN_CTRL 270\n",
      "chr1 161311463 161311733 DOWN_CTRL 270\n",
      "chr18 79569930 79570200 DOWN_CTRL 270\n",
      "chr9 34063063 34063333 DOWN_CTRL 270\n",
      "chr3 102299283 102299553 DOWN_CTRL 270\n",
      "chr11 126403456 126403726 DOWN_CTRL 270\n",
      "chr3 127075209 127075479 DOWN_CTRL 270\n",
      "chr7 3242974 3243244 DOWN_CTRL 270\n",
      "chr14 89298034 89298304 DOWN_CTRL 270\n",
      "chr15 80768417 80768687 DOWN_CTRL 270\n",
      "chr2 199973398 199973668 DOWN_CTRL 270\n",
      "chr12 16934905 16935175 DOWN_CTRL 270\n",
      "chr6 34630321 34630591 DOWN_CTRL 270\n",
      "chr15 91558997 91559267 DOWN_CTRL 270\n",
      "chr4 87461153 87461423 DOWN_CTRL 270\n",
      "chr5 145983742 145984012 DOWN_CTRL 270\n",
      "chr2 70498710 70498980 DOWN_CTRL 270\n",
      "chr3 71072959 71073229 DOWN_CTRL 270\n",
      "chr17 30344374 30344644 DOWN_CTRL 270\n",
      "chr3 78992684 78992954 DOWN_CTRL 270\n",
      "chr2 112634407 112634677 DOWN_CTRL 270\n",
      "chr3 177212334 177212604 DOWN_CTRL 270\n",
      "chr6 34595681 34595951 DOWN_CTRL 270\n",
      "chr7 66825670 66825940 UP 270\n",
      "chr7 131365750 131366020 UP 270\n",
      "chr7 140260968 140261238 UP 270\n",
      "chr7 147279826 147280096 UP 270\n",
      "chr7 150478923 150479193 UP 270\n",
      "chr17 74754340 74754610 UP 270\n",
      "chr9 84684595 84684865 UP 270\n",
      "chr9 128862470 128862740 UP 270\n",
      "chr1 160769042 160769312 UP 270\n",
      "chrX 9770545 9770815 UP 270\n",
      "chr11 109709750 109710020 UP 270\n",
      "chr12 51383493 51383763 UP 270\n",
      "chr12 76384012 76384282 UP 270\n",
      "chr12 108640092 108640362 UP 270\n",
      "chr12 122001742 122002012 UP 270\n",
      "chr12 122890987 122891257 UP 270\n",
      "chr13 110159440 110159710 UP 270\n",
      "chr14 70048041 70048311 UP 270\n",
      "chr15 95520441 95520711 UP 270\n",
      "chr15 98545496 98545766 UP 270\n",
      "chr2 205273132 205273402 UP 270\n",
      "chr2 205273362 205273632 UP 270\n",
      "chr17 2417398 2417668 UP 270\n",
      "chr17 4641418 4641688 UP 270\n",
      "chr19 54467869 54468139 UP 270\n",
      "chr22 44532547 44532817 UP 270\n",
      "chr1 183568459 183568729 UP 270\n",
      "chr2 73863182 73863452 UP 270\n",
      "chr2 170218327 170218597 UP 270\n",
      "chr3 42254360 42254630 UP 270\n",
      "chr3 122501023 122501293 UP 270\n",
      "chr3 142624747 142625017 UP 270\n",
      "chr3 197494687 197494957 UP 270\n",
      "chr4 26859432 26859702 UP 270\n",
      "chr4 163955479 163955749 UP 270\n",
      "chr4 184980746 184981016 UP 270\n",
      "chr5 628833 629103 UP 270\n",
      "chr5 164118680 164118950 UP 270\n",
      "chr5 180829158 180829428 UP 270\n",
      "chr13 32072707 32072977 UP 270\n",
      "chr6 93237408 93237678 UP 270\n",
      "chr6 106098505 106098775 UP 270\n",
      "chr6 134436360 134436630 UP 270\n",
      "chr14 65928115 65928385 DOWN 270\n",
      "chr8 121921700 121921970 DOWN 270\n",
      "chr9 34063335 34063605 DOWN 270\n",
      "chr9 112658240 112658510 DOWN 270\n",
      "chr10 13663467 13663737 DOWN 270\n",
      "chr10 15119160 15119430 DOWN 270\n",
      "chr10 103736927 103737197 DOWN 270\n",
      "chr12 14913395 14913665 DOWN 270\n",
      "chr1 9172150 9172420 DOWN 270\n",
      "chr13 36869980 36870250 DOWN 270\n",
      "chr14 31336905 31337175 DOWN 270\n",
      "chr14 61102636 61102906 DOWN 270\n",
      "chr14 89280525 89280795 DOWN 270\n",
      "chr15 35059960 35060230 DOWN 270\n",
      "chr2 199955757 199956027 DOWN 270\n",
      "chr18 49082897 49083167 DOWN 270\n",
      "chr19 45548390 45548660 DOWN 270\n",
      "chr19 45874433 45874703 DOWN 270\n",
      "chr19 57283130 57283400 DOWN 270\n",
      "chr20 3242336 3242606 DOWN 270\n",
      "chr1 218529621 218529891 DOWN 270\n",
      "chr20 9075869 9076139 DOWN 270\n",
      "chr1 18440556 18440826 DOWN 270\n",
      "chr1 43295390 43295660 DOWN 270\n",
      "chr1 112637384 112637654 DOWN 270\n",
      "chr1 234751361 234751631 DOWN 270\n",
      "chr2 28301080 28301350 DOWN 270\n",
      "chr2 29990274 29990544 DOWN 270\n",
      "chr2 32945491 32945761 DOWN 270\n",
      "chr2 59691747 59692017 DOWN 270\n",
      "chr2 182890968 182891238 DOWN 270\n",
      "chr2 230097720 230097990 DOWN 270\n",
      "chr3 12300981 12301251 DOWN 270\n",
      "chr3 166180859 166181129 DOWN 270\n",
      "chr3 168024370 168024640 DOWN 270\n",
      "chr3 180296009 180296279 DOWN 270\n",
      "chr4 24659679 24659949 DOWN 270\n",
      "chr4 119353573 119353843 DOWN 270\n",
      "chr4 126157977 126158247 DOWN 270\n",
      "chr5 147512628 147512898 DOWN 270\n",
      "chr13 44218651 44218921 DOWN 270\n",
      "chr6 131717961 131718231 DOWN 270\n",
      "chr6 149177400 149177670 DOWN 270\n",
      "chr6 150710269 150710539 DOWN 270\n",
      "chr6 170497929 170498199 DOWN 270\n"
     ]
    },
    {
     "data": {
      "text/plain": [
       "176"
      ]
     },
     "execution_count": 9,
     "metadata": {},
     "output_type": "execute_result"
    }
   ],
   "source": [
    "collection={}\n",
    "\n",
    "with open(INFILE, \"r\") as reader:\n",
    "    for line in reader:\n",
    "        line = line.strip(\"\\n\")\n",
    "        if \"chr\" in line:\n",
    "            \n",
    "            # do string splitting. \n",
    "            chr_num = line.split(\":\")[0].strip(\">\")\n",
    "            start = (line.split(\":\")[1]).split(\"-\")[0]\n",
    "            end = ((line.split(\":\")[1]).split(\"-\")[1]).split(\"_\")[0]\n",
    "            id_ = \"_\".join(((line.split(\":\")[1]).split(\"-\")[1]).split(\"_\")[1:]).strip(\"\\t\")\n",
    "            length = int(end)-int(start)\n",
    "            \n",
    "            # get the full region id. \n",
    "            region_id = line.split(\"_\")[0]\n",
    "            \n",
    "            print(chr_num, start, end, id_, length)\n",
    "            \n",
    "            # add to dictionary \n",
    "            collection[region_id] = pd.DataFrame([chr_num, start, end, id_, length]).T\n",
    "            \n",
    "len(collection.keys())"
   ]
  },
  {
   "cell_type": "code",
   "execution_count": 10,
   "id": "21484137",
   "metadata": {
    "ExecuteTime": {
     "end_time": "2023-03-30T17:17:08.620617Z",
     "start_time": "2023-03-30T17:17:08.597543Z"
    }
   },
   "outputs": [],
   "source": [
    "# save bed\n",
    "INBED = os.path.join(os.getcwd(), \"asthma.bed\")\n",
    "pd.concat(collection.values()).to_csv(INBED, sep='\\t', header=False, index=False)"
   ]
  },
  {
   "cell_type": "code",
   "execution_count": 12,
   "id": "d1d058a8",
   "metadata": {
    "ExecuteTime": {
     "end_time": "2023-03-30T17:17:12.909823Z",
     "start_time": "2023-03-30T17:17:12.899870Z"
    }
   },
   "outputs": [],
   "source": [
    "def centerBed(bedfile):\n",
    "    \n",
    "    # check for header\n",
    "    is_header = [True if \"#chr\" in list(pd.read_csv(bedfile, sep='\\t', nrows=1)) else False]\n",
    "    if is_header == True:\n",
    "        df = pd.read_csv(bedfile, sep='\\t')\n",
    "        df.columns = [\"#chr\", \"start\", \"end\", 'id', \"len\"]\n",
    "    else:\n",
    "        df = pd.read_csv(bedfile, sep='\\t', header=None)\n",
    "        df.columns = [\"#chr\", \"start\", \"end\", 'id', \"len\"]\n",
    "        \n",
    "    df[\"len\"] = df[\"end\"]-df[\"start\"] # calculate the length\n",
    "    df[\"center_start\"] = df[\"len\"].divide(2).astype(int) + df[\"start\"] # find center, int to round, \n",
    "    df[\"center_end\"] = df[\"center_start\"] + 1 # plus 1 so that end is zero coordinate (kind of like SNP)\n",
    "\n",
    "    return df[[\"#chr\", \"center_start\", \"center_end\", \"id\"]].drop_duplicates()"
   ]
  },
  {
   "cell_type": "code",
   "execution_count": 13,
   "id": "bde72330",
   "metadata": {
    "ExecuteTime": {
     "end_time": "2023-03-30T17:17:13.907972Z",
     "start_time": "2023-03-30T17:17:13.899712Z"
    }
   },
   "outputs": [],
   "source": [
    "def extendBed(bed, flanksize):\n",
    "    \"\"\"\n",
    "    expand bed\n",
    "    \n",
    "    require\n",
    "        bedtools slop\n",
    "        wynton\n",
    "    \n",
    "    input\n",
    "        bed (str) - path to bed file\n",
    "        flanksize (int) - length to extend bed coordinates by\n",
    "    \n",
    "    method \n",
    "        1. get genome size. \n",
    "        2. make outfile name\n",
    "        3. bedtools slop command\n",
    "        \n",
    "    return\n",
    "        out (str) - path to results.bed\n",
    "    \"\"\"\n",
    "    genome = \"/wynton/home/ahituv/fongsl/dna/hg38/hg38.chrom.sizes\"\n",
    "    \n",
    "    path, file= os.path.split(bed)\n",
    "    out = os.path.join(path, file.strip(\".bed\") + f\".ext.{flanksize*2}bp.bed\")\n",
    "    cmd = f\"bedtools slop -i {bed} -g {genome} -b {flanksize} > {out}\"\n",
    "    os.system(cmd)\n",
    "    \n",
    "    return out"
   ]
  },
  {
   "cell_type": "markdown",
   "id": "86c812ef",
   "metadata": {},
   "source": [
    "# center"
   ]
  },
  {
   "cell_type": "code",
   "execution_count": 14,
   "id": "60d36931",
   "metadata": {
    "ExecuteTime": {
     "end_time": "2023-03-30T17:17:18.520958Z",
     "start_time": "2023-03-30T17:17:18.480474Z"
    }
   },
   "outputs": [],
   "source": [
    "centered = centerBed(INBED)\n",
    "\n",
    "BED = os.path.join(os.getcwd(), \"asthma.centered.bed\")\n",
    "centered.to_csv(BED, sep='\\t', index=False)"
   ]
  },
  {
   "cell_type": "markdown",
   "id": "4fa6cbaf",
   "metadata": {},
   "source": [
    "# extend"
   ]
  },
  {
   "cell_type": "code",
   "execution_count": 15,
   "id": "2548c589",
   "metadata": {
    "ExecuteTime": {
     "end_time": "2023-03-30T17:17:25.028617Z",
     "start_time": "2023-03-30T17:17:24.991435Z"
    }
   },
   "outputs": [],
   "source": [
    "# single nucleotide\n",
    "flanksize = 2048\n",
    "out = extendBed(BED, flanksize)"
   ]
  },
  {
   "cell_type": "markdown",
   "id": "e6020a3d",
   "metadata": {
    "ExecuteTime": {
     "end_time": "2023-03-28T22:49:11.748472Z",
     "start_time": "2023-03-28T22:49:11.740943Z"
    }
   },
   "source": [
    "# bed -> FA"
   ]
  },
  {
   "cell_type": "code",
   "execution_count": 17,
   "id": "7b4f2318",
   "metadata": {
    "ExecuteTime": {
     "end_time": "2023-03-30T17:32:20.972563Z",
     "start_time": "2023-03-30T17:32:18.307334Z"
    }
   },
   "outputs": [
    {
     "name": "stdout",
     "output_type": "stream",
     "text": [
      "wrote /wynton/home/ahituv/fongsl/other_analyses/sei-ofer-asthma/asthma.center.ext.4096bp.fa\n",
      "/wynton/home/ahituv/fongsl/other_analyses/sei-ofer-asthma/asthma.center.ext.4096bp.fa\n"
     ]
    }
   ],
   "source": [
    "cmd = f\"python {BED2FA} {os.path.join(os.getcwd(),out)} -b hg38\"\n",
    "os.system(cmd)\n",
    "\n",
    "fa = os.path.join(os.getcwd(),out).strip(\".bed\") + \".fa\""
   ]
  },
  {
   "cell_type": "markdown",
   "id": "fe6c5047",
   "metadata": {},
   "source": [
    "# launch"
   ]
  },
  {
   "cell_type": "code",
   "execution_count": 22,
   "id": "15d09e89",
   "metadata": {
    "ExecuteTime": {
     "end_time": "2023-03-30T17:52:18.041924Z",
     "start_time": "2023-03-30T17:52:17.916774Z"
    }
   },
   "outputs": [
    {
     "name": "stdout",
     "output_type": "stream",
     "text": [
      "python /wynton/home/ahituv/fongsl/bin/sei-framework/sarah_scripts/launch_qsub.py /wynton/home/ahituv/fongsl/other_analyses/sei-ofer-asthma/asthma.center.ext.4096bp.fa hg38 /wynton/home/ahituv/fongsl/other_analyses/sei-ofer-asthma/prediction\n",
      "Your job 2290953 (\"interpret_sei.sh\") has been submitted\n"
     ]
    },
    {
     "data": {
      "text/plain": [
       "0"
      ]
     },
     "execution_count": 22,
     "metadata": {},
     "output_type": "execute_result"
    }
   ],
   "source": [
    "BUILD = \"hg38\"\n",
    "OUTDIR = os.path.join(os.getcwd(), \"prediction\")\n",
    "SCRIPT = \"/wynton/home/ahituv/fongsl/bin/sei-framework/sarah_scripts/launch_qsub.py\"\n",
    "cmd = [\"python\",\n",
    "       SCRIPT,\n",
    "      fa,\n",
    "      BUILD, \n",
    "      OUTDIR\n",
    "      ]\n",
    "print(\" \".join(cmd))\n",
    "os.system(\" \".join(cmd))"
   ]
  },
  {
   "cell_type": "code",
   "execution_count": null,
   "id": "b3b7244b",
   "metadata": {},
   "outputs": [],
   "source": []
  }
 ],
 "metadata": {
  "kernelspec": {
   "display_name": "Python (wynenv)",
   "language": "python",
   "name": "wynenv"
  },
  "language_info": {
   "codemirror_mode": {
    "name": "ipython",
    "version": 3
   },
   "file_extension": ".py",
   "mimetype": "text/x-python",
   "name": "python",
   "nbconvert_exporter": "python",
   "pygments_lexer": "ipython3",
   "version": "3.10.8"
  },
  "toc": {
   "base_numbering": 1,
   "nav_menu": {},
   "number_sections": true,
   "sideBar": true,
   "skip_h1_title": false,
   "title_cell": "Table of Contents",
   "title_sidebar": "Contents",
   "toc_cell": false,
   "toc_position": {},
   "toc_section_display": true,
   "toc_window_display": false
  },
  "varInspector": {
   "cols": {
    "lenName": 16,
    "lenType": 16,
    "lenVar": 40
   },
   "kernels_config": {
    "python": {
     "delete_cmd_postfix": "",
     "delete_cmd_prefix": "del ",
     "library": "var_list.py",
     "varRefreshCmd": "print(var_dic_list())"
    },
    "r": {
     "delete_cmd_postfix": ") ",
     "delete_cmd_prefix": "rm(",
     "library": "var_list.r",
     "varRefreshCmd": "cat(var_dic_list()) "
    }
   },
   "types_to_exclude": [
    "module",
    "function",
    "builtin_function_or_method",
    "instance",
    "_Feature"
   ],
   "window_display": false
  }
 },
 "nbformat": 4,
 "nbformat_minor": 5
}
