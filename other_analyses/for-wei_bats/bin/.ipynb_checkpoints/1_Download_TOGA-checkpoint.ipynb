{
 "cells": [
  {
   "cell_type": "markdown",
   "id": "bca05111",
   "metadata": {},
   "source": [
    "# overview\n",
    "20230609\n",
    "\n",
    "SarahFong\n",
    "\n",
    "R2.3 comment - The homology and functional consistency of cross-species genes need to be supported by sufficient data, especially the homology and functional consistency of protein-coding genes in the collinear regions of human and bat genomes needs to be proved.\n",
    "\n",
    "##### My plan - check for orthology of genes between humans and bats using pre-computed TOGA predictions from Hiller lab and Zoonomia consortium. \n",
    "\n",
    "    Inputs\n",
    "        - Wei's data: gene names from hg38. Not sure why there is not transcript information for the transcripts. \n",
    "        - TOGA predictions - see README for full info - https://genome.senckenberg.de//download/TOGA/README.txt\n",
    "            ./orthologsClassification.tsv  # classification of one:one, one:many, many:many orthologs predicted from TOGA using hg38 reference gene annotations and chain files between hg38 and Eptesicus_fuscus__big_brown_bat__eptFus1\n",
    "            ./loss_summ_data.tsv  # classification of Intact, Partially Intact, Uncertain loss, Missing, Partially missing. \n",
    "            ./geneAnnotation.bed.gz # annotation locations\n",
    "        \n",
    "        ## HUMAN AND MOUSE REFERENCE\n",
    "## Here, I'm going to set up my config with the local directories, the TOGA HTTP addresses and download TOGA classifications. \n",
    "        "
   ]
  },
  {
   "cell_type": "code",
   "execution_count": 1,
   "id": "92a168c8",
   "metadata": {
    "ExecuteTime": {
     "end_time": "2023-07-11T17:54:12.270821Z",
     "start_time": "2023-07-11T17:54:12.255719Z"
    }
   },
   "outputs": [],
   "source": [
    "import config_readwrite as crw\n",
    "import os, sys"
   ]
  },
  {
   "cell_type": "markdown",
   "id": "6adfb1c7",
   "metadata": {
    "ExecuteTime": {
     "end_time": "2023-06-09T20:07:03.043693Z",
     "start_time": "2023-06-09T20:07:03.038340Z"
    }
   },
   "source": [
    "# config"
   ]
  },
  {
   "cell_type": "code",
   "execution_count": 3,
   "id": "1081c3ec",
   "metadata": {
    "ExecuteTime": {
     "end_time": "2023-07-11T17:54:15.220655Z",
     "start_time": "2023-07-11T17:54:15.213446Z"
    }
   },
   "outputs": [],
   "source": [
    "cfn_file = os.path.join(os.getcwd(), \"config.bats.ini\")\n",
    "\n",
    "config, cfn = crw.read(cfn_file)"
   ]
  },
  {
   "cell_type": "code",
   "execution_count": 2,
   "id": "0d0509ba",
   "metadata": {
    "ExecuteTime": {
     "end_time": "2023-07-11T17:54:13.613257Z",
     "start_time": "2023-07-11T17:54:13.608443Z"
    }
   },
   "outputs": [],
   "source": [
    "def writeConfigDict(in_dict, config, section):\n",
    "    \"\"\"\n",
    "    write dictionary key and values to config section\n",
    "    \n",
    "    input \n",
    "        in_dict (dict) - dictionary of key value pairs to write\n",
    "        config (config file)\n",
    "        section (str) - name of section\n",
    "        \n",
    "    method\n",
    "        1. parse key value pairs, write to config\n",
    "    \n",
    "    return \n",
    "        config\n",
    "    \"\"\"\n",
    "    \n",
    "    for key, value in in_dict.items():\n",
    "        config[section][key]=value\n",
    "\n",
    "    return config"
   ]
  },
  {
   "cell_type": "markdown",
   "id": "c1e4f4bf",
   "metadata": {},
   "source": [
    "# set up local dir"
   ]
  },
  {
   "cell_type": "code",
   "execution_count": 4,
   "id": "8184a6ab",
   "metadata": {
    "ExecuteTime": {
     "end_time": "2023-07-11T17:54:16.887069Z",
     "start_time": "2023-07-11T17:54:16.879004Z"
    }
   },
   "outputs": [],
   "source": [
    "# set up config\n",
    "section = \"local\"\n",
    "crw.check(config, section)\n",
    "\n",
    "# instantiate paths\n",
    "PATH = os.path.join(os.getcwd(), \"data\")\n",
    "RE = os.path.join(os.getcwd(), \"results\")\n",
    "PATH_TOGA = os.path.join(os.getcwd(), \"data\", \"toga\")\n",
    "PATH_SUPP = os.path.join(os.getcwd(), \"data\", \"supp\")\n",
    "PATH_PEAK = os.path.join(os.getcwd(), \"data\", \"peaks\")\n",
    "PATH_CHAIN = os.path.join(os.getcwd(), \"data\", \"chain\")\n",
    "PATH_SCAF = os.path.join(os.getcwd(), \"data\", \"scaffold_annot\")\n",
    "\n",
    "# prepare paths for config\n",
    "write_config = {\"results\": RE, \n",
    "                \"PATH\":PATH,\n",
    "                \"PATH_TOGA\":PATH_TOGA, \n",
    "                 \"PATH_SUPP\":PATH_SUPP, \n",
    "                 \"PATH_PEAK\":PATH_PEAK, \n",
    "                 \"PATH_CHAIN\":PATH_CHAIN, \n",
    "                 \"PATH_SCAF\":PATH_SCAF, \n",
    "                \n",
    "               }\n",
    "\n",
    "# write paths to config\n",
    "config = crw.writeConfigDict(write_config, config, section)"
   ]
  },
  {
   "cell_type": "code",
   "execution_count": 5,
   "id": "b6a191b2",
   "metadata": {
    "ExecuteTime": {
     "end_time": "2023-07-11T17:54:18.550904Z",
     "start_time": "2023-07-11T17:54:18.544743Z"
    }
   },
   "outputs": [
    {
     "name": "stdout",
     "output_type": "stream",
     "text": [
      "already made /wynton/home/ahituv/fongsl/other_analyses/for-wei_bats/data\n",
      "already made /wynton/home/ahituv/fongsl/other_analyses/for-wei_bats/results\n"
     ]
    }
   ],
   "source": [
    "# make directories for results\n",
    "\n",
    "CREATE_LIST = [PATH, RE]\n",
    "for dir_ in CREATE_LIST:\n",
    "    \n",
    "    if os.path.exists(dir_) is False:\n",
    "        print(\"making dir\", dir_)\n",
    "        os.mkdir(dir_)\n",
    "        \n",
    "    else:\n",
    "        print(\"already made\", dir_)"
   ]
  },
  {
   "cell_type": "markdown",
   "id": "6b445683",
   "metadata": {},
   "source": [
    "# downloads"
   ]
  },
  {
   "cell_type": "markdown",
   "id": "883357cf",
   "metadata": {},
   "source": [
    "## function - wget dowload to local"
   ]
  },
  {
   "cell_type": "code",
   "execution_count": 6,
   "id": "e04ee2d0",
   "metadata": {
    "ExecuteTime": {
     "end_time": "2023-07-11T17:54:20.865581Z",
     "start_time": "2023-07-11T17:54:20.859431Z"
    }
   },
   "outputs": [],
   "source": [
    "def downloadHttp(http_address, species_ref, path):\n",
    "\n",
    "    species = (http_address.split(\"__\")[-1]).split(\"/\")[0]  # get the species.\n",
    "    address, handle = os.path.split(http_address)  # get the http file handle\n",
    "\n",
    "    # get the local file handle with ref species annotated\n",
    "    local_handle = species + \".\" + species_ref + \"-ref.\" + handle\n",
    "    \n",
    "    # file to write (in data file)\n",
    "    local_file = os.path.join(path, local_handle)\n",
    "\n",
    "    if os.path.exists(local_file) is False:\n",
    "        print(\"download\", local_handle)\n",
    "        os.system(f\"wget {http_address} \\\n",
    "        --no-check-certificate \\\n",
    "        && mv {handle} {local_file}\")  # download and rewrite filename w/ species\n",
    "        \n",
    "    else:\n",
    "        print('already downloaded', local_handle)\n",
    "\n",
    "    return local_file, species, handle"
   ]
  },
  {
   "cell_type": "markdown",
   "id": "d65ce9d6",
   "metadata": {},
   "source": [
    "## download per reference"
   ]
  },
  {
   "cell_type": "code",
   "execution_count": 7,
   "id": "12b7ac9c",
   "metadata": {
    "ExecuteTime": {
     "end_time": "2023-07-11T17:54:22.117658Z",
     "start_time": "2023-07-11T17:54:22.101875Z"
    }
   },
   "outputs": [
    {
     "name": "stdout",
     "output_type": "stream",
     "text": [
      "mouse_mm10_reference\n",
      "already downloaded eptFus1.mm10-ref.orthologsClassification.tsv.gz\n",
      "already downloaded eptFus1.mm10-ref.loss_summ_data.tsv.gz\n",
      "already downloaded eptFus1.mm10-ref.geneAnnotation.bed.gz\n",
      "already downloaded HLartJam2.mm10-ref.orthologsClassification.tsv.gz\n",
      "already downloaded HLartJam2.mm10-ref.loss_summ_data.tsv.gz\n",
      "already downloaded HLartJam2.mm10-ref.geneAnnotation.bed.gz\n",
      "human_hg38_reference\n",
      "already downloaded eptFus1.hg38-ref.orthologsClassification.tsv.gz\n",
      "already downloaded eptFus1.hg38-ref.loss_summ_data.tsv.gz\n",
      "already downloaded eptFus1.hg38-ref.geneAnnotation.bed.gz\n",
      "already downloaded HLartJam2.hg38-ref.orthologsClassification.tsv.gz\n",
      "already downloaded HLartJam2.hg38-ref.loss_summ_data.tsv.gz\n",
      "already downloaded HLartJam2.hg38-ref.geneAnnotation.bed.gz\n"
     ]
    }
   ],
   "source": [
    "REFS = {\"mm10\": \"mouse_mm10_reference\",\n",
    "        \"hg38\": \"human_hg38_reference\"}\n",
    "\n",
    "for SPECIES, REF in REFS.items():\n",
    "    print(REF)\n",
    "\n",
    "    # write references to config\n",
    "    section = f\"TOGA-{REF}\"\n",
    "    crw.check(config, section)\n",
    "\n",
    "    # eptFus1\n",
    "    HTTP = f\"https://genome.senckenberg.de//download/TOGA/{REF}/Chiroptera/\"\n",
    "    EPTFUS1_DIR = \"Eptesicus_fuscus__big_brown_bat__eptFus1\"\n",
    "    EPTFUS1_CLASS = os.path.join(\n",
    "        HTTP, EPTFUS1_DIR, 'orthologsClassification.tsv.gz')\n",
    "    EPTFUS1_PRED = os.path.join(HTTP, EPTFUS1_DIR, 'loss_summ_data.tsv.gz')\n",
    "    EPTFUS1_GENE_PRED = os.path.join(\n",
    "        HTTP, EPTFUS1_DIR, 'geneAnnotation.bed.gz')\n",
    "\n",
    "    # artJam1\n",
    "    ARTJAM1_DIR = \"Artibeus_jamaicensis__Jamaican_fruit-eating_bat__HLartJam1\"\n",
    "    ARTJAM1_CLASS = os.path.join(\n",
    "        HTTP, ARTJAM1_DIR, 'orthologsClassification.tsv.gz')\n",
    "    ARTJAM1_PRED = os.path.join(HTTP, ARTJAM1_DIR, 'loss_summ_data.tsv.gz')\n",
    "\n",
    "    # artJam2\n",
    "    ARTJAM2_DIR = \"Artibeus_jamaicensis__Jamaican_fruit-eating_bat__HLartJam2\"\n",
    "    ARTJAM2_CLASS = os.path.join(\n",
    "        HTTP, ARTJAM2_DIR, 'orthologsClassification.tsv.gz')\n",
    "    ARTJAM2_PRED = os.path.join(HTTP, ARTJAM2_DIR, 'loss_summ_data.tsv.gz')\n",
    "    ARTJAM2_GENE_PRED = os.path.join(\n",
    "        HTTP, ARTJAM2_DIR, 'geneAnnotation.bed.gz')\n",
    "\n",
    "    # addresses to download\n",
    "    http_addresses = {\"http\": HTTP,\n",
    "                      \"EPTFUS1_DIR\": EPTFUS1_DIR,\n",
    "                      \"EPTFUS1_CLASS\": EPTFUS1_CLASS,\n",
    "                      \"EPTFUS1_PRED\": EPTFUS1_PRED,\n",
    "                      \"EPTFUS1_GENE_PRED\": EPTFUS1_GENE_PRED,\n",
    "\n",
    "                      \"ARTJAM1_DIR\": ARTJAM1_DIR,\n",
    "                      \"ARTJAM1_CLASS\": ARTJAM1_CLASS,\n",
    "                      \"ARTJAM1_PRED\": ARTJAM1_PRED,\n",
    "\n",
    "                      \"ARTJAM2_DIR\": ARTJAM2_DIR,\n",
    "                      \"ARTJAM2_CLASS\": ARTJAM2_CLASS,\n",
    "                      \"ARTJAM2_PRED\": ARTJAM2_PRED,\n",
    "                      \"ARTJAM2_GENE_PRED\": ARTJAM2_GENE_PRED,\n",
    "                      }\n",
    "\n",
    "    # write these balues to the config\n",
    "    config = crw.writeConfigDict(http_addresses, config, section)\n",
    "\n",
    "    # make local toga section\n",
    "    section = f\"local_toga-{REF}\"\n",
    "    crw.check(config, section)\n",
    "    config[section][\"path\"] = PATH_TOGA\n",
    "\n",
    "    # download TOGA data\n",
    "\n",
    "    DL_LIST = [EPTFUS1_CLASS, EPTFUS1_PRED, EPTFUS1_GENE_PRED,\n",
    "               ARTJAM2_CLASS, ARTJAM2_PRED, ARTJAM2_GENE_PRED\n",
    "               ]\n",
    "\n",
    "    local_toga = {}\n",
    "    for http_address in DL_LIST:\n",
    "\n",
    "        # download http\n",
    "        local_file, species, handle = downloadHttp(http_address, SPECIES, PATH_TOGA)\n",
    "\n",
    "        # add to dictionary\n",
    "        local_toga[f\"{species}.{handle}\"] = local_file\n",
    "\n",
    "    # write to config\n",
    "    config = crw.writeConfigDict(local_toga, config, section)"
   ]
  },
  {
   "cell_type": "markdown",
   "id": "f5cb1210",
   "metadata": {},
   "source": [
    "# write wei supp"
   ]
  },
  {
   "cell_type": "code",
   "execution_count": 8,
   "id": "f24bc968",
   "metadata": {
    "ExecuteTime": {
     "end_time": "2023-07-11T17:54:24.856696Z",
     "start_time": "2023-07-11T17:54:24.845970Z"
    }
   },
   "outputs": [],
   "source": [
    "section = \"wei_supp\"\n",
    "\n",
    "crw.check(config, section)\n",
    "SUPP = os.path.join(PATH_SUPP, \"Gordon_supp.xlsx\")\n",
    "SUPP_TABLE2 = os.path.join(PATH_SUPP, \"supp.table2.csv\")\n",
    "SUPP_TABLE11 = os.path.join(PATH_SUPP, \"supp.table11.csv\")\n",
    "SUPP_TABLE5 = os.path.join(PATH_SUPP, \"supp.table5.csv\")\n",
    "\n",
    "config[section][\"path\"]=PATH_SUPP\n",
    "config[section][\"supp\"]=SUPP\n",
    "config[section][\"fast_fed_deg\"] = SUPP_TABLE2\n",
    "config[section][\"panc_deg\"] = SUPP_TABLE11\n",
    "config[section][\"kidn_deg\"] = SUPP_TABLE5\n",
    "\n",
    "# write to config\n",
    "\n",
    "crw.write(config, cfn)"
   ]
  },
  {
   "cell_type": "code",
   "execution_count": null,
   "id": "8ca78575",
   "metadata": {},
   "outputs": [],
   "source": []
  }
 ],
 "metadata": {
  "kernelspec": {
   "display_name": "Python (mamba)",
   "language": "python",
   "name": "mamba"
  },
  "language_info": {
   "codemirror_mode": {
    "name": "ipython",
    "version": 3
   },
   "file_extension": ".py",
   "mimetype": "text/x-python",
   "name": "python",
   "nbconvert_exporter": "python",
   "pygments_lexer": "ipython3",
   "version": "3.9.16"
  },
  "toc": {
   "base_numbering": 1,
   "nav_menu": {},
   "number_sections": true,
   "sideBar": true,
   "skip_h1_title": false,
   "title_cell": "Table of Contents",
   "title_sidebar": "Contents",
   "toc_cell": false,
   "toc_position": {},
   "toc_section_display": true,
   "toc_window_display": false
  },
  "varInspector": {
   "cols": {
    "lenName": 16,
    "lenType": 16,
    "lenVar": 40
   },
   "kernels_config": {
    "python": {
     "delete_cmd_postfix": "",
     "delete_cmd_prefix": "del ",
     "library": "var_list.py",
     "varRefreshCmd": "print(var_dic_list())"
    },
    "r": {
     "delete_cmd_postfix": ") ",
     "delete_cmd_prefix": "rm(",
     "library": "var_list.r",
     "varRefreshCmd": "cat(var_dic_list()) "
    }
   },
   "types_to_exclude": [
    "module",
    "function",
    "builtin_function_or_method",
    "instance",
    "_Feature"
   ],
   "window_display": false
  }
 },
 "nbformat": 4,
 "nbformat_minor": 5
}
