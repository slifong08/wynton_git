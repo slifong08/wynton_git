{
 "cells": [
  {
   "cell_type": "markdown",
   "id": "b9767cc4",
   "metadata": {},
   "source": [
    "# VastDB download\n",
    "20220119\n",
    "\n",
    "\n",
    "https://vastdb.crg.eu/wiki/Publications"
   ]
  },
  {
   "cell_type": "code",
   "execution_count": 1,
   "id": "049fc0b6",
   "metadata": {
    "ExecuteTime": {
     "end_time": "2023-01-19T16:36:36.081284Z",
     "start_time": "2023-01-19T16:36:30.560163Z"
    }
   },
   "outputs": [],
   "source": [
    "import config_readwrite as crw\n",
    "import pandas as pd\n",
    "import os, sys\n",
    "\n",
    "import matplotlib.pyplot as plt\n",
    "import seaborn as sns"
   ]
  },
  {
   "cell_type": "code",
   "execution_count": 2,
   "id": "1d11770f",
   "metadata": {
    "ExecuteTime": {
     "end_time": "2023-01-19T16:36:37.683643Z",
     "start_time": "2023-01-19T16:36:37.608254Z"
    }
   },
   "outputs": [],
   "source": [
    "tag = \"config.ini\"\n",
    "config, configfile_name = crw.read_config(os.path.join(os.getcwd(), tag))"
   ]
  },
  {
   "cell_type": "code",
   "execution_count": 33,
   "id": "10a48f8f",
   "metadata": {
    "ExecuteTime": {
     "end_time": "2023-01-19T18:23:48.729118Z",
     "start_time": "2023-01-19T18:23:48.721033Z"
    }
   },
   "outputs": [],
   "source": [
    "VASTDB = config[\"VASTDB\"][\"hg38\"]\n",
    "\n",
    "# write\n",
    "VASTME = \"/wynton/home/ahituv/fongsl/microexons/data/vastdb/filtered_microexons.bed\"\n",
    "\n",
    "config[\"VASTDB\"][\"microexon\"] = VASTME\n",
    "crw.write_config(config, configfile_name)"
   ]
  },
  {
   "cell_type": "code",
   "execution_count": 4,
   "id": "348cadca",
   "metadata": {
    "ExecuteTime": {
     "end_time": "2023-01-19T16:36:58.060312Z",
     "start_time": "2023-01-19T16:36:38.967918Z"
    }
   },
   "outputs": [],
   "source": [
    "colnames=list(pd.read_csv(VASTDB, sep='\\t', nrows=1))\n",
    "         \n",
    "df = pd.read_csv(VASTDB, sep='\\t', usecols=colnames[:4])\n",
    "\n",
    "df.head()"
   ]
  },
  {
   "cell_type": "markdown",
   "id": "5423bf5c",
   "metadata": {},
   "source": [
    "# define microexons \n",
    "- 3nt <= length <= 27nt\n",
    "- EVENT must be exon (not alternative donor, acceptor)"
   ]
  },
  {
   "cell_type": "code",
   "execution_count": 27,
   "id": "141dfde1",
   "metadata": {
    "ExecuteTime": {
     "end_time": "2023-01-19T18:18:52.959419Z",
     "start_time": "2023-01-19T18:18:52.619279Z"
    }
   },
   "outputs": [
    {
     "name": "stdout",
     "output_type": "stream",
     "text": [
      "(4071, 4) n unique genes with microexon 3171\n"
     ]
    }
   ],
   "source": [
    "# n = 4071 microexons\n",
    "me = df.loc[(\n",
    "            df[\"LE_o\"]<=27)\n",
    "            &(df[\"LE_o\"]>=3)\n",
    "            &(df[\"EVENT\"].str.contains(\"EX\"))\n",
    "            ]\n",
    "\n",
    "print(me.shape, \"n unique genes with microexon\", len(me[\"GENE\"].unique()))"
   ]
  },
  {
   "cell_type": "markdown",
   "id": "f7c5acad",
   "metadata": {},
   "source": [
    "# dataframe formatting "
   ]
  },
  {
   "cell_type": "code",
   "execution_count": 37,
   "id": "43905f74",
   "metadata": {
    "ExecuteTime": {
     "end_time": "2023-01-19T19:41:06.222675Z",
     "start_time": "2023-01-19T19:41:06.215060Z"
    }
   },
   "outputs": [],
   "source": [
    "def bedTransform(input_df, col):\n",
    "    \"\"\"\n",
    "    format dataframe as bed format, correct for 1-based indexing\n",
    "    \n",
    "    input \n",
    "        df (pd.DataFrame) - dataframe from vastDB info\n",
    "        col (str) - name of column w/ genome coordinate identifier. chr17:78005058-78005079\n",
    "        \n",
    "    method\n",
    "        1. str split id column to get bedtools coordinate\n",
    "             1.1 0-index start\n",
    "        2. label the dataframe\n",
    "        \n",
    "    return \n",
    "        bed_df (pd.DataFrame) - dataframe formatted as a bed\n",
    "\n",
    "    \"\"\"\n",
    "    df = input_df.copy()\n",
    "    df[\"end\"] = df[col].apply(lambda x: x.split(\"-\")[1])\n",
    "    df[\"start\"] = df[col].apply(lambda x: int((x.split(\":\")[1]).split(\"-\")[0])-1)\n",
    "    df[\"#chr\"] = df[col].apply(lambda x: (x.split(\":\")[0]))\n",
    "    \n",
    "    df[\"label\"] = \"microexon\"\n",
    "    \n",
    "    bed = df[[\"#chr\", \"start\", \"end\", \"GENE\", \"EVENT\", \"COORD_o\", \"LE_o\", \"label\"]]\n",
    "    \n",
    "    return bed"
   ]
  },
  {
   "cell_type": "code",
   "execution_count": 38,
   "id": "bd8e1df6",
   "metadata": {
    "ExecuteTime": {
     "end_time": "2023-01-19T19:41:07.085431Z",
     "start_time": "2023-01-19T19:41:07.044093Z"
    }
   },
   "outputs": [
    {
     "data": {
      "text/html": [
       "<div>\n",
       "<style scoped>\n",
       "    .dataframe tbody tr th:only-of-type {\n",
       "        vertical-align: middle;\n",
       "    }\n",
       "\n",
       "    .dataframe tbody tr th {\n",
       "        vertical-align: top;\n",
       "    }\n",
       "\n",
       "    .dataframe thead th {\n",
       "        text-align: right;\n",
       "    }\n",
       "</style>\n",
       "<table border=\"1\" class=\"dataframe\">\n",
       "  <thead>\n",
       "    <tr style=\"text-align: right;\">\n",
       "      <th></th>\n",
       "      <th>#chr</th>\n",
       "      <th>start</th>\n",
       "      <th>end</th>\n",
       "      <th>GENE</th>\n",
       "      <th>EVENT</th>\n",
       "      <th>COORD_o</th>\n",
       "      <th>LE_o</th>\n",
       "      <th>label</th>\n",
       "    </tr>\n",
       "  </thead>\n",
       "  <tbody>\n",
       "    <tr>\n",
       "      <th>43</th>\n",
       "      <td>chr17</td>\n",
       "      <td>78005057</td>\n",
       "      <td>78005079</td>\n",
       "      <td>TNRC6C</td>\n",
       "      <td>HsaEX0001162</td>\n",
       "      <td>chr17:78005058-78005079</td>\n",
       "      <td>22</td>\n",
       "      <td>microexon</td>\n",
       "    </tr>\n",
       "    <tr>\n",
       "      <th>86</th>\n",
       "      <td>chr2</td>\n",
       "      <td>61185838</td>\n",
       "      <td>61185865</td>\n",
       "      <td>AHSA2</td>\n",
       "      <td>HsaEX0003278</td>\n",
       "      <td>chr2:61185839-61185865</td>\n",
       "      <td>27</td>\n",
       "      <td>microexon</td>\n",
       "    </tr>\n",
       "    <tr>\n",
       "      <th>421</th>\n",
       "      <td>chr4</td>\n",
       "      <td>109757762</td>\n",
       "      <td>109757783</td>\n",
       "      <td>CFI</td>\n",
       "      <td>HsaEX0014929</td>\n",
       "      <td>chr4:109757763-109757783</td>\n",
       "      <td>21</td>\n",
       "      <td>microexon</td>\n",
       "    </tr>\n",
       "    <tr>\n",
       "      <th>492</th>\n",
       "      <td>chr12</td>\n",
       "      <td>108653037</td>\n",
       "      <td>108653060</td>\n",
       "      <td>CORO1C</td>\n",
       "      <td>HsaEX0016862</td>\n",
       "      <td>chr12:108653038-108653060</td>\n",
       "      <td>23</td>\n",
       "      <td>microexon</td>\n",
       "    </tr>\n",
       "    <tr>\n",
       "      <th>529</th>\n",
       "      <td>chr18</td>\n",
       "      <td>74256829</td>\n",
       "      <td>74256853</td>\n",
       "      <td>CYB5A</td>\n",
       "      <td>HsaEX0018165</td>\n",
       "      <td>chr18:74256830-74256853</td>\n",
       "      <td>24</td>\n",
       "      <td>microexon</td>\n",
       "    </tr>\n",
       "  </tbody>\n",
       "</table>\n",
       "</div>"
      ],
      "text/plain": [
       "      #chr      start        end    GENE         EVENT  \\\n",
       "43   chr17   78005057   78005079  TNRC6C  HsaEX0001162   \n",
       "86    chr2   61185838   61185865   AHSA2  HsaEX0003278   \n",
       "421   chr4  109757762  109757783     CFI  HsaEX0014929   \n",
       "492  chr12  108653037  108653060  CORO1C  HsaEX0016862   \n",
       "529  chr18   74256829   74256853   CYB5A  HsaEX0018165   \n",
       "\n",
       "                       COORD_o  LE_o      label  \n",
       "43     chr17:78005058-78005079    22  microexon  \n",
       "86      chr2:61185839-61185865    27  microexon  \n",
       "421   chr4:109757763-109757783    21  microexon  \n",
       "492  chr12:108653038-108653060    23  microexon  \n",
       "529    chr18:74256830-74256853    24  microexon  "
      ]
     },
     "execution_count": 38,
     "metadata": {},
     "output_type": "execute_result"
    }
   ],
   "source": [
    "# transform me into .bed format\n",
    "ME = bedTransform(me, \"COORD_o\")\n",
    "ME.head()"
   ]
  },
  {
   "cell_type": "code",
   "execution_count": 45,
   "id": "2b588758",
   "metadata": {
    "ExecuteTime": {
     "end_time": "2023-01-19T19:42:22.263725Z",
     "start_time": "2023-01-19T19:42:22.254580Z"
    }
   },
   "outputs": [],
   "source": [
    "def intronBoundaries(inputDF, flank_len, xstream):\n",
    "    \"\"\"\n",
    "    make intron dataframes based on exon start, end coordinates\n",
    "    \n",
    "    input\n",
    "        inputDF (pd.DataFrame) - dataframe w/ exon coordinates as start, end\n",
    "        flank_len (int) - len to extend exon coordinates by\n",
    "        xstream (str) - upINT or dsINT\n",
    "    \n",
    "    method\n",
    "        1. copy input dataframe\n",
    "        2. calculate start/end for upstream | downstream. \n",
    "        3. drop exon start/end columns, rename intron start/end columns\n",
    "        4. label column w/ upstream or downstream intron\n",
    "\n",
    "    return \n",
    "        df (pd.DataFrame) - dataframe w/ upstream | downstream intron coordinates\n",
    "        \n",
    "    \n",
    "    \"\"\"\n",
    "    df = inputDF.copy()\n",
    "    \n",
    "    if xstream == \"upINT\":    \n",
    "        df[\"intStart\"],df[\"intEnd\"] = df[\"start\"].map(int)-flank_len, df[\"start\"].map(int)-1\n",
    "        \n",
    "    elif xstream == \"dsINT\":\n",
    "        df[\"intStart\"],df[\"intEnd\"] = df[\"end\"].map(int), df[\"end\"].map(int)+flank_len\n",
    "        \n",
    "    else:\n",
    "        print(\"xstream should be 'upINT' or 'dsINT'\")\n",
    "        pass\n",
    "    \n",
    "    df = df.drop(columns = [\"start\", \"end\"])  # drop start, end columns of exon\n",
    "    df = df.rename(columns = {\"intStart\":\"start\", \"intEnd\":\"end\"}) # rename intron start and end columns for intron\n",
    "    df[\"label\"] = xstream  # add identifier label \n",
    "    df = df[[\"#chr\", \"start\", \"end\", \"GENE\", \"EVENT\", \"COORD_o\", \"LE_o\", \"label\"]]\n",
    "    \n",
    "    return df"
   ]
  },
  {
   "cell_type": "code",
   "execution_count": 46,
   "id": "7de3aa48",
   "metadata": {
    "ExecuteTime": {
     "end_time": "2023-01-19T19:42:22.768679Z",
     "start_time": "2023-01-19T19:42:22.736723Z"
    }
   },
   "outputs": [],
   "source": [
    "flank_len = 300\n",
    "upstream = intronBoundaries(ME, flank_len, \"upINT\")\n",
    "dnstream = intronBoundaries(ME, flank_len, \"dsINT\")"
   ]
  },
  {
   "cell_type": "code",
   "execution_count": 47,
   "id": "3da8abbe",
   "metadata": {
    "ExecuteTime": {
     "end_time": "2023-01-19T19:42:23.162262Z",
     "start_time": "2023-01-19T19:42:23.145570Z"
    }
   },
   "outputs": [
    {
     "data": {
      "text/html": [
       "<div>\n",
       "<style scoped>\n",
       "    .dataframe tbody tr th:only-of-type {\n",
       "        vertical-align: middle;\n",
       "    }\n",
       "\n",
       "    .dataframe tbody tr th {\n",
       "        vertical-align: top;\n",
       "    }\n",
       "\n",
       "    .dataframe thead th {\n",
       "        text-align: right;\n",
       "    }\n",
       "</style>\n",
       "<table border=\"1\" class=\"dataframe\">\n",
       "  <thead>\n",
       "    <tr style=\"text-align: right;\">\n",
       "      <th></th>\n",
       "      <th>#chr</th>\n",
       "      <th>start</th>\n",
       "      <th>end</th>\n",
       "      <th>GENE</th>\n",
       "      <th>EVENT</th>\n",
       "      <th>COORD_o</th>\n",
       "      <th>LE_o</th>\n",
       "      <th>label</th>\n",
       "    </tr>\n",
       "  </thead>\n",
       "  <tbody>\n",
       "    <tr>\n",
       "      <th>43</th>\n",
       "      <td>chr17</td>\n",
       "      <td>78004757</td>\n",
       "      <td>78005056</td>\n",
       "      <td>TNRC6C</td>\n",
       "      <td>HsaEX0001162</td>\n",
       "      <td>chr17:78005058-78005079</td>\n",
       "      <td>22</td>\n",
       "      <td>upINT</td>\n",
       "    </tr>\n",
       "    <tr>\n",
       "      <th>86</th>\n",
       "      <td>chr2</td>\n",
       "      <td>61185538</td>\n",
       "      <td>61185837</td>\n",
       "      <td>AHSA2</td>\n",
       "      <td>HsaEX0003278</td>\n",
       "      <td>chr2:61185839-61185865</td>\n",
       "      <td>27</td>\n",
       "      <td>upINT</td>\n",
       "    </tr>\n",
       "    <tr>\n",
       "      <th>421</th>\n",
       "      <td>chr4</td>\n",
       "      <td>109757462</td>\n",
       "      <td>109757761</td>\n",
       "      <td>CFI</td>\n",
       "      <td>HsaEX0014929</td>\n",
       "      <td>chr4:109757763-109757783</td>\n",
       "      <td>21</td>\n",
       "      <td>upINT</td>\n",
       "    </tr>\n",
       "    <tr>\n",
       "      <th>492</th>\n",
       "      <td>chr12</td>\n",
       "      <td>108652737</td>\n",
       "      <td>108653036</td>\n",
       "      <td>CORO1C</td>\n",
       "      <td>HsaEX0016862</td>\n",
       "      <td>chr12:108653038-108653060</td>\n",
       "      <td>23</td>\n",
       "      <td>upINT</td>\n",
       "    </tr>\n",
       "    <tr>\n",
       "      <th>529</th>\n",
       "      <td>chr18</td>\n",
       "      <td>74256529</td>\n",
       "      <td>74256828</td>\n",
       "      <td>CYB5A</td>\n",
       "      <td>HsaEX0018165</td>\n",
       "      <td>chr18:74256830-74256853</td>\n",
       "      <td>24</td>\n",
       "      <td>upINT</td>\n",
       "    </tr>\n",
       "  </tbody>\n",
       "</table>\n",
       "</div>"
      ],
      "text/plain": [
       "      #chr      start        end    GENE         EVENT  \\\n",
       "43   chr17   78004757   78005056  TNRC6C  HsaEX0001162   \n",
       "86    chr2   61185538   61185837   AHSA2  HsaEX0003278   \n",
       "421   chr4  109757462  109757761     CFI  HsaEX0014929   \n",
       "492  chr12  108652737  108653036  CORO1C  HsaEX0016862   \n",
       "529  chr18   74256529   74256828   CYB5A  HsaEX0018165   \n",
       "\n",
       "                       COORD_o  LE_o  label  \n",
       "43     chr17:78005058-78005079    22  upINT  \n",
       "86      chr2:61185839-61185865    27  upINT  \n",
       "421   chr4:109757763-109757783    21  upINT  \n",
       "492  chr12:108653038-108653060    23  upINT  \n",
       "529    chr18:74256830-74256853    24  upINT  "
      ]
     },
     "execution_count": 47,
     "metadata": {},
     "output_type": "execute_result"
    }
   ],
   "source": [
    "upstream.head()"
   ]
  },
  {
   "cell_type": "code",
   "execution_count": 48,
   "id": "dd74bd09",
   "metadata": {
    "ExecuteTime": {
     "end_time": "2023-01-19T19:42:25.358886Z",
     "start_time": "2023-01-19T19:42:25.210384Z"
    }
   },
   "outputs": [],
   "source": [
    "MEConcat = pd.concat([ME, upstream, dnstream])\n",
    "\n",
    "MEConcat.to_csv(VASTME, sep='\\t', index=False)\n",
    "\n",
    "MEConcat.head()"
   ]
  },
  {
   "cell_type": "code",
   "execution_count": 50,
   "id": "3aa70412",
   "metadata": {
    "ExecuteTime": {
     "end_time": "2023-01-19T19:42:35.061509Z",
     "start_time": "2023-01-19T19:42:35.056271Z"
    }
   },
   "outputs": [
    {
     "data": {
      "text/plain": [
       "array(['microexon', 'upINT', 'dsINT'], dtype=object)"
      ]
     },
     "execution_count": 50,
     "metadata": {},
     "output_type": "execute_result"
    }
   ],
   "source": [
    "MEConcat[\"label\"].unique()"
   ]
  },
  {
   "cell_type": "code",
   "execution_count": null,
   "id": "b2e82258",
   "metadata": {},
   "outputs": [],
   "source": []
  }
 ],
 "metadata": {
  "kernelspec": {
   "display_name": "Python (wynenv)",
   "language": "python",
   "name": "wynenv"
  },
  "language_info": {
   "codemirror_mode": {
    "name": "ipython",
    "version": 3
   },
   "file_extension": ".py",
   "mimetype": "text/x-python",
   "name": "python",
   "nbconvert_exporter": "python",
   "pygments_lexer": "ipython3",
   "version": "3.10.8"
  },
  "toc": {
   "base_numbering": 1,
   "nav_menu": {},
   "number_sections": true,
   "sideBar": true,
   "skip_h1_title": false,
   "title_cell": "Table of Contents",
   "title_sidebar": "Contents",
   "toc_cell": false,
   "toc_position": {},
   "toc_section_display": true,
   "toc_window_display": false
  }
 },
 "nbformat": 4,
 "nbformat_minor": 5
}
