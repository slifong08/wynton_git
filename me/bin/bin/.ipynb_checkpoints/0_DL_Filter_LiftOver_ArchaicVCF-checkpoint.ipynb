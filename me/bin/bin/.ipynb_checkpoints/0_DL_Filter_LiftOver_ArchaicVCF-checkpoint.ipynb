{
 "cells": [
  {
   "cell_type": "code",
   "execution_count": 16,
   "id": "2747f4a6",
   "metadata": {
    "ExecuteTime": {
     "end_time": "2023-01-17T22:55:51.127309Z",
     "start_time": "2023-01-17T22:55:49.799694Z"
    }
   },
   "outputs": [],
   "source": [
    "import numpy as np\n",
    "import os, sys\n",
    "import subprocess as sp"
   ]
  },
  {
   "cell_type": "code",
   "execution_count": 25,
   "id": "7c354765",
   "metadata": {
    "ExecuteTime": {
     "end_time": "2023-01-17T22:57:10.289530Z",
     "start_time": "2023-01-17T22:57:10.281302Z"
    }
   },
   "outputs": [
    {
     "data": {
      "text/plain": [
       "[1,\n",
       " 2,\n",
       " 3,\n",
       " 4,\n",
       " 5,\n",
       " 6,\n",
       " 7,\n",
       " 8,\n",
       " 9,\n",
       " 10,\n",
       " 11,\n",
       " 12,\n",
       " 13,\n",
       " 14,\n",
       " 15,\n",
       " 16,\n",
       " 17,\n",
       " 18,\n",
       " 19,\n",
       " 20,\n",
       " 21,\n",
       " 22,\n",
       " 'X',\n",
       " 'Y']"
      ]
     },
     "execution_count": 25,
     "metadata": {},
     "output_type": "execute_result"
    }
   ],
   "source": [
    "# make a list of chromosomes to run\n",
    "chr_list= (list(np.arange(1,23)))\n",
    "chr_list.extend([ \"X\", \"Y\"])"
   ]
  },
  {
   "cell_type": "code",
   "execution_count": 29,
   "id": "40571735",
   "metadata": {
    "ExecuteTime": {
     "end_time": "2023-01-17T23:02:51.647649Z",
     "start_time": "2023-01-17T23:02:51.635451Z"
    }
   },
   "outputs": [
    {
     "name": "stdout",
     "output_type": "stream",
     "text": [
      "wget http://cdna.eva.mpg.de/neandertal/altai/AltaiNeandertal/VCF/AltaiNea.hg19_1000g.1.mod.vcf.gz\n",
      "wget http://cdna.eva.mpg.de/neandertal/altai/AltaiNeandertal/VCF/AltaiNea.hg19_1000g.2.mod.vcf.gz\n",
      "wget http://cdna.eva.mpg.de/neandertal/altai/AltaiNeandertal/VCF/AltaiNea.hg19_1000g.3.mod.vcf.gz\n",
      "wget http://cdna.eva.mpg.de/neandertal/altai/AltaiNeandertal/VCF/AltaiNea.hg19_1000g.4.mod.vcf.gz\n",
      "wget http://cdna.eva.mpg.de/neandertal/altai/AltaiNeandertal/VCF/AltaiNea.hg19_1000g.5.mod.vcf.gz\n",
      "wget http://cdna.eva.mpg.de/neandertal/altai/AltaiNeandertal/VCF/AltaiNea.hg19_1000g.6.mod.vcf.gz\n",
      "wget http://cdna.eva.mpg.de/neandertal/altai/AltaiNeandertal/VCF/AltaiNea.hg19_1000g.7.mod.vcf.gz\n",
      "wget http://cdna.eva.mpg.de/neandertal/altai/AltaiNeandertal/VCF/AltaiNea.hg19_1000g.8.mod.vcf.gz\n",
      "wget http://cdna.eva.mpg.de/neandertal/altai/AltaiNeandertal/VCF/AltaiNea.hg19_1000g.9.mod.vcf.gz\n",
      "wget http://cdna.eva.mpg.de/neandertal/altai/AltaiNeandertal/VCF/AltaiNea.hg19_1000g.10.mod.vcf.gz\n",
      "wget http://cdna.eva.mpg.de/neandertal/altai/AltaiNeandertal/VCF/AltaiNea.hg19_1000g.11.mod.vcf.gz\n",
      "wget http://cdna.eva.mpg.de/neandertal/altai/AltaiNeandertal/VCF/AltaiNea.hg19_1000g.12.mod.vcf.gz\n",
      "wget http://cdna.eva.mpg.de/neandertal/altai/AltaiNeandertal/VCF/AltaiNea.hg19_1000g.13.mod.vcf.gz\n",
      "wget http://cdna.eva.mpg.de/neandertal/altai/AltaiNeandertal/VCF/AltaiNea.hg19_1000g.14.mod.vcf.gz\n",
      "wget http://cdna.eva.mpg.de/neandertal/altai/AltaiNeandertal/VCF/AltaiNea.hg19_1000g.15.mod.vcf.gz\n",
      "wget http://cdna.eva.mpg.de/neandertal/altai/AltaiNeandertal/VCF/AltaiNea.hg19_1000g.16.mod.vcf.gz\n",
      "wget http://cdna.eva.mpg.de/neandertal/altai/AltaiNeandertal/VCF/AltaiNea.hg19_1000g.17.mod.vcf.gz\n",
      "wget http://cdna.eva.mpg.de/neandertal/altai/AltaiNeandertal/VCF/AltaiNea.hg19_1000g.18.mod.vcf.gz\n",
      "wget http://cdna.eva.mpg.de/neandertal/altai/AltaiNeandertal/VCF/AltaiNea.hg19_1000g.19.mod.vcf.gz\n",
      "wget http://cdna.eva.mpg.de/neandertal/altai/AltaiNeandertal/VCF/AltaiNea.hg19_1000g.20.mod.vcf.gz\n",
      "wget http://cdna.eva.mpg.de/neandertal/altai/AltaiNeandertal/VCF/AltaiNea.hg19_1000g.21.mod.vcf.gz\n",
      "wget http://cdna.eva.mpg.de/neandertal/altai/AltaiNeandertal/VCF/AltaiNea.hg19_1000g.22.mod.vcf.gz\n",
      "wget http://cdna.eva.mpg.de/neandertal/altai/AltaiNeandertal/VCF/AltaiNea.hg19_1000g.X.mod.vcf.gz\n"
     ]
    }
   ],
   "source": [
    "# BCFTOOLS\n",
    "# Colin's recommended args\n",
    "chr_=\"Y\"\n",
    "MINQUAL= 30 # float, includes only sites with Quality value above this threshold.\n",
    "MINDP = 10 # float, Includes only genotypes greater than or equal to the \"--minDP\" value and less than or equal to the \"--maxDP\" value. This option requires that the \"DP\" FORMAT tag is specified for all sites.\n",
    "MINGQ = 30 # float, Exclude all genotypes with a quality below the threshold specified. This option requires that the \"GQ\" FORMAT tag is specified for all sites.\n",
    "OUTDIR = \"/wynton/home/ahituv/fongsl/dna/archaic/\"\n",
    "\n",
    "ME = \"/wynton/home/ahituv/fongsl/microexons/data/human.hg38.total_detected_truncated.bed\"\n",
    "\n",
    "for chr_ in chr_list:\n",
    "\n",
    "    # file names\n",
    "    OUT = os.path.join(OUTDIR, f\"{chr_}-filtered.vcf.gz\") # output file\n",
    "    FILENAME = f\"AltaiNea.hg19_1000g.{chr_}.mod.vcf.gz\"  # input file\n",
    "\n",
    "    # local vcf\n",
    "    LOCAL_VCF = os.path.join(OUTDIR, FILENAME) \n",
    "    \n",
    "    # download URL data if no local copy\n",
    "    if os.path.exists(LOCAL_VCF) is False: \n",
    "        URL = f\"http://cdna.eva.mpg.de/neandertal/altai/AltaiNeandertal/VCF/AltaiNea.hg19_1000g.{chr_}.mod.vcf.gz\"\n",
    "        cmd = \"wget \" + URL\n",
    "        sp.Popen(cmd, shell=True)\n",
    "    \n",
    "\n",
    "    # Filter vcf w/ bcftools\n",
    "    cmd =[\n",
    "            f\"./bcftools view -i \\\n",
    "            'INFO/DP>={MINDP} && GQ>={MINGQ} && QUAL>={MINQUAL}'\", \n",
    "            vcffile,\n",
    "            \"-Oz -o\",  \n",
    "            OUT\n",
    "        ]\n",
    "    \n",
    "    print(\" \".join(cmd))\n",
    "\n",
    "    sp.Popen(cmd, shell=True)\n",
    "\n",
    "    # liftOver variants from hg19 -> hg38\n",
    "    ### STOPPED HERE ###\n",
    "\n",
    "\n",
    "    # intersect hg38 microexon bed w/ hg38 variants\n",
    "    # using -r (--REGIONS) command. \n",
    "    cmd =[\n",
    "            f\"./bcftools view -r {ME}\",\n",
    "            OUT, \n",
    "            f\"&&  bcftools index {OUT}\"\n",
    "         ]\n",
    "    print(\" \".join(cmd))\n",
    "    sp.Popen(cmd, shell=True)"
   ]
  },
  {
   "cell_type": "code",
   "execution_count": null,
   "id": "053a1f98",
   "metadata": {},
   "outputs": [],
   "source": []
  }
 ],
 "metadata": {
  "kernelspec": {
   "display_name": "Python (wynenv)",
   "language": "python",
   "name": "wynenv"
  },
  "language_info": {
   "codemirror_mode": {
    "name": "ipython",
    "version": 3
   },
   "file_extension": ".py",
   "mimetype": "text/x-python",
   "name": "python",
   "nbconvert_exporter": "python",
   "pygments_lexer": "ipython3",
   "version": "3.10.8"
  },
  "toc": {
   "base_numbering": 1,
   "nav_menu": {},
   "number_sections": true,
   "sideBar": true,
   "skip_h1_title": false,
   "title_cell": "Table of Contents",
   "title_sidebar": "Contents",
   "toc_cell": false,
   "toc_position": {},
   "toc_section_display": true,
   "toc_window_display": false
  }
 },
 "nbformat": 4,
 "nbformat_minor": 5
}
