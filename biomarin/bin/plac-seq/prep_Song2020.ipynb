{
 "cells": [
  {
   "cell_type": "code",
   "execution_count": 1,
   "id": "d85c7df6-8d9a-41eb-8a9a-956e8f35eb96",
   "metadata": {},
   "outputs": [],
   "source": [
    "import glob\n",
    "import numpy as np\n",
    "import os, sys\n",
    "import pandas as pd\n",
    "import pybedtools as pbt"
   ]
  },
  {
   "cell_type": "code",
   "execution_count": 2,
   "id": "4a1cc1b2-4bc0-4fb1-9c87-823cc40896ce",
   "metadata": {},
   "outputs": [],
   "source": [
    "PATH = \"/wynton/group/ahituv/data/encode/shen_bdbag_2019/data/embargo/shen/interactions/bulk/processed/peaks/\"\n",
    "DATA_PATH = \"/wynton/group/ahituv/data/encode/shen_bdbag_2019/data/\"\n",
    "\n",
    "os.chdir(PATH)  # go to plac-seq path\n",
    "\n",
    "# write\n",
    "# combine all hic coordinates together\n",
    "combined = os.path.join(DATA_PATH, f\"iN.eN.IPC.RG.HiC.bed\")\n",
    "# collapse all hic annotation\n",
    "\n",
    "out_collapsed = os.path.join(DATA_PATH, f\"iN.eN.IPC.RG.HiC.collapsed.bed\")\n",
    "\n",
    "# collapse all hic annotation by cell type only\n",
    "out_collapsed_cl = os.path.join(\n",
    "    DATA_PATH, f\"iN.eN.IPC.RG.HiC.collapsed.celltype.only.bed\")"
   ]
  },
  {
   "cell_type": "code",
   "execution_count": 3,
   "id": "f80f8654-ef8c-4f93-a735-81159d3170f4",
   "metadata": {},
   "outputs": [
    {
     "name": "stdout",
     "output_type": "stream",
     "text": [
      "eN.MAPS.peaks.txt\n",
      "iN.MAPS.peaks.txt\n",
      "IPC.MAPS.peaks.txt\n",
      "RG.MAPS.peaks.txt\n"
     ]
    }
   ],
   "source": [
    "%%bash  \n",
    "ls"
   ]
  },
  {
   "cell_type": "code",
   "execution_count": 4,
   "id": "7eb79ba0-84c1-41bb-8c00-dc175153871c",
   "metadata": {},
   "outputs": [
    {
     "data": {
      "text/plain": [
       "['iN.MAPS.peaks.txt',\n",
       " 'IPC.MAPS.peaks.txt',\n",
       " 'eN.MAPS.peaks.txt',\n",
       " 'RG.MAPS.peaks.txt']"
      ]
     },
     "execution_count": 4,
     "metadata": {},
     "output_type": "execute_result"
    }
   ],
   "source": [
    "# gather data\n",
    "PLAC_TXTs = glob.glob(\"*.txt\")\n",
    "\n",
    "PLAC_TXTs"
   ]
  },
  {
   "cell_type": "markdown",
   "id": "d1ef15d2-4291-434f-ac62-0394325f49b1",
   "metadata": {},
   "source": [
    "# processing HiC data to bed functions"
   ]
  },
  {
   "cell_type": "code",
   "execution_count": 5,
   "id": "db81144a-91e5-4b3e-9606-f00d88bafad9",
   "metadata": {},
   "outputs": [],
   "source": [
    "def assignId(df):\n",
    "    \"\"\"annotate celltype id\"\"\"\n",
    "\n",
    "    df[\"id\"] = df[\"celltype\"] + \".\" + df.index.map(str)\n",
    "    return df\n",
    "\n",
    "\n",
    "def labeldfLink(df):\n",
    "    \"\"\"annotate links between coor1 and coor2 \"\"\"\n",
    "\n",
    "    df[\"link\"] = df[\"#chr1\"]+\":\"+df[\"start1\"].map(str)+\"-\"+df[\"end1\"].map(\n",
    "        str)+\"_\"+df[\"#chr2\"]+\":\"+df[\"start2\"].map(str)+\"-\"+df[\"end2\"].map(str)\n",
    "\n",
    "    return df\n",
    "\n",
    "\n",
    "def subsetHiC(df):\n",
    "    \"\"\"make reciprocal bed file for hic files with two coordinates.\"\"\"\n",
    "    hic_subsets = {}\n",
    "    for i in np.arange(1, 3):\n",
    "        print(i)\n",
    "        cols = [f'#chr{i}',\n",
    "                f'start{i}',\n",
    "                f'end{i}'] + list(df)[6:]  # add columns from original dataframe at the end.\n",
    "\n",
    "        subset = df[cols].drop_duplicates().copy()\n",
    "\n",
    "        # rename columns\n",
    "        subset.rename(columns={f'#chr{i}': \"#chr\",\n",
    "                               f'start{i}': \"start\",\n",
    "                               f\"end{i}\": \"end\"}, inplace=True)\n",
    "        # annotate which subset this is\n",
    "        subset[\"link_id\"] = i\n",
    "\n",
    "        hic_subsets[i] = subset\n",
    "\n",
    "    hic_revised = pd.concat(hic_subsets.values()).sort_values(\n",
    "        by=['#chr', 'start', 'end'])  # concatenate modified hic dataframe\n",
    "\n",
    "    return hic_revised"
   ]
  },
  {
   "cell_type": "markdown",
   "id": "6a9ca0fa-547f-4d92-8079-e79681ef0a4c",
   "metadata": {},
   "source": [
    "# Main"
   ]
  },
  {
   "cell_type": "markdown",
   "id": "7c51ea19-f052-4f07-af77-370c0d8db2d7",
   "metadata": {},
   "source": [
    "## read one file"
   ]
  },
  {
   "cell_type": "code",
   "execution_count": 6,
   "id": "0d5f42b4-83c9-44df-8f47-19f32ff2df58",
   "metadata": {},
   "outputs": [],
   "source": [
    "# t = PLAC_TXTs[0] # pick one file\n",
    "cell_types = {}\n",
    "for t in PLAC_TXTs:\n",
    "\n",
    "    celltype = t.split(\".\")[0]  # get cell type name\n",
    "\n",
    "    # write celltype specific bed file\n",
    "    out = os.path.join(DATA_PATH, f\"{celltype}.HiC.bed\")\n",
    "\n",
    "    if os.path.exists(out) is False:\n",
    "        df = pd.read_csv(t, sep='\\t')  # read hic domain file\n",
    "        print(celltype, df.shape)\n",
    "\n",
    "        df[\"celltype\"] = celltype  # annotate cell type\n",
    "\n",
    "        df = assignId(df)  # index cell-type elements\n",
    "        print(df.head())\n",
    "\n",
    "        df = labeldfLink(df)  # annotate links between elements\n",
    "        print(df.head())\n",
    "\n",
    "        df = subsetHiC(df)  # collapse coordinates\n",
    "        print(df.head())\n",
    "\n",
    "        # write\n",
    "        df.to_csv(out, sep='\\t', index=False)\n",
    "\n",
    "    cell_types[celltype] = out"
   ]
  },
  {
   "cell_type": "markdown",
   "id": "07d5c0b4-04b8-45d8-b2fc-1251b5675c9c",
   "metadata": {},
   "source": [
    "# make one master bed file"
   ]
  },
  {
   "cell_type": "markdown",
   "id": "99b8bb89-d227-4286-b7df-c5a106eed362",
   "metadata": {},
   "source": [
    "## concat all bed files"
   ]
  },
  {
   "cell_type": "code",
   "execution_count": 7,
   "id": "540a9a7b-1ff8-48b3-85a5-844cbac6bd48",
   "metadata": {},
   "outputs": [],
   "source": [
    "# concatenate all the coordinates together\n",
    "\n",
    "cmd = \"cat \" + \" \".join(list(cell_types.values())) + f\" > {combined}\"\n",
    "if os.path.exists(combined) is False:\n",
    "    os.system(cmd)"
   ]
  },
  {
   "cell_type": "markdown",
   "id": "2e10e24b-f19a-4980-a610-39705abe03ad",
   "metadata": {},
   "source": [
    "## Collapse all beds together to make single reference file - annotate by cell type and id"
   ]
  },
  {
   "cell_type": "code",
   "execution_count": 9,
   "id": "e137f548-e0c7-4204-8e14-deafee36e12f",
   "metadata": {},
   "outputs": [
    {
     "data": {
      "text/html": [
       "<div>\n",
       "<style scoped>\n",
       "    .dataframe tbody tr th:only-of-type {\n",
       "        vertical-align: middle;\n",
       "    }\n",
       "\n",
       "    .dataframe tbody tr th {\n",
       "        vertical-align: top;\n",
       "    }\n",
       "\n",
       "    .dataframe thead th {\n",
       "        text-align: right;\n",
       "    }\n",
       "</style>\n",
       "<table border=\"1\" class=\"dataframe\">\n",
       "  <thead>\n",
       "    <tr style=\"text-align: right;\">\n",
       "      <th></th>\n",
       "      <th>0</th>\n",
       "      <th>1</th>\n",
       "      <th>2</th>\n",
       "      <th>3</th>\n",
       "    </tr>\n",
       "  </thead>\n",
       "  <tbody>\n",
       "    <tr>\n",
       "      <th>0</th>\n",
       "      <td>chr1</td>\n",
       "      <td>890000</td>\n",
       "      <td>895000</td>\n",
       "      <td>eN.1090,eN.2264,IPC.1603,IPC.1602,iN.14,RG.220...</td>\n",
       "    </tr>\n",
       "    <tr>\n",
       "      <th>1</th>\n",
       "      <td>chr1</td>\n",
       "      <td>895000</td>\n",
       "      <td>900000</td>\n",
       "      <td>eN.3027,RG.2822</td>\n",
       "    </tr>\n",
       "    <tr>\n",
       "      <th>2</th>\n",
       "      <td>chr1</td>\n",
       "      <td>900000</td>\n",
       "      <td>905000</td>\n",
       "      <td>iN.14,eN.1090,IPC.1603,RG.275,RG.220</td>\n",
       "    </tr>\n",
       "    <tr>\n",
       "      <th>3</th>\n",
       "      <td>chr1</td>\n",
       "      <td>905000</td>\n",
       "      <td>910000</td>\n",
       "      <td>eN.2264</td>\n",
       "    </tr>\n",
       "    <tr>\n",
       "      <th>4</th>\n",
       "      <td>chr1</td>\n",
       "      <td>910000</td>\n",
       "      <td>915000</td>\n",
       "      <td>IPC.1602</td>\n",
       "    </tr>\n",
       "  </tbody>\n",
       "</table>\n",
       "</div>"
      ],
      "text/plain": [
       "      0       1       2                                                  3\n",
       "0  chr1  890000  895000  eN.1090,eN.2264,IPC.1603,IPC.1602,iN.14,RG.220...\n",
       "1  chr1  895000  900000                                    eN.3027,RG.2822\n",
       "2  chr1  900000  905000               iN.14,eN.1090,IPC.1603,RG.275,RG.220\n",
       "3  chr1  905000  910000                                            eN.2264\n",
       "4  chr1  910000  915000                                           IPC.1602"
      ]
     },
     "execution_count": 9,
     "metadata": {},
     "output_type": "execute_result"
    }
   ],
   "source": [
    "# collapse all coordinates together\n",
    "\n",
    "if os.path.exists(out_collapsed) is False:\n",
    "    all = pbt.BedTool(combined)\n",
    "    # collapse ids, require 1bp overlap (conserves windows)\n",
    "    u = all.sort().merge(c=8, o=\"collapse\", d=-1, output=out_collapsed)\n",
    "    dfu = pd.read_csv(u.fn, sep='\\t', header=None)\n",
    "\n",
    "else:\n",
    "    dfu = pd.read_csv(out_collapsed, sep='\\t', header=None)\n",
    "\n",
    "\n",
    "dfu.head()"
   ]
  },
  {
   "cell_type": "markdown",
   "id": "d99880cc-ce50-4f44-96df-d76f7121110a",
   "metadata": {},
   "source": [
    "## Collapse all beds together to make single reference file - annotate by cell type only"
   ]
  },
  {
   "cell_type": "code",
   "execution_count": 10,
   "id": "8a19bedd-4629-46ac-95c3-2fbd8c4595ef",
   "metadata": {},
   "outputs": [
    {
     "data": {
      "text/html": [
       "<div>\n",
       "<style scoped>\n",
       "    .dataframe tbody tr th:only-of-type {\n",
       "        vertical-align: middle;\n",
       "    }\n",
       "\n",
       "    .dataframe tbody tr th {\n",
       "        vertical-align: top;\n",
       "    }\n",
       "\n",
       "    .dataframe thead th {\n",
       "        text-align: right;\n",
       "    }\n",
       "</style>\n",
       "<table border=\"1\" class=\"dataframe\">\n",
       "  <thead>\n",
       "    <tr style=\"text-align: right;\">\n",
       "      <th></th>\n",
       "      <th>0</th>\n",
       "      <th>1</th>\n",
       "      <th>2</th>\n",
       "      <th>3</th>\n",
       "    </tr>\n",
       "  </thead>\n",
       "  <tbody>\n",
       "    <tr>\n",
       "      <th>0</th>\n",
       "      <td>chr1</td>\n",
       "      <td>890000</td>\n",
       "      <td>895000</td>\n",
       "      <td>IPC,RG,eN,iN</td>\n",
       "    </tr>\n",
       "    <tr>\n",
       "      <th>1</th>\n",
       "      <td>chr1</td>\n",
       "      <td>895000</td>\n",
       "      <td>900000</td>\n",
       "      <td>RG,eN</td>\n",
       "    </tr>\n",
       "    <tr>\n",
       "      <th>2</th>\n",
       "      <td>chr1</td>\n",
       "      <td>900000</td>\n",
       "      <td>905000</td>\n",
       "      <td>IPC,RG,eN,iN</td>\n",
       "    </tr>\n",
       "    <tr>\n",
       "      <th>3</th>\n",
       "      <td>chr1</td>\n",
       "      <td>905000</td>\n",
       "      <td>910000</td>\n",
       "      <td>eN</td>\n",
       "    </tr>\n",
       "    <tr>\n",
       "      <th>4</th>\n",
       "      <td>chr1</td>\n",
       "      <td>910000</td>\n",
       "      <td>915000</td>\n",
       "      <td>IPC</td>\n",
       "    </tr>\n",
       "  </tbody>\n",
       "</table>\n",
       "</div>"
      ],
      "text/plain": [
       "      0       1       2             3\n",
       "0  chr1  890000  895000  IPC,RG,eN,iN\n",
       "1  chr1  895000  900000         RG,eN\n",
       "2  chr1  900000  905000  IPC,RG,eN,iN\n",
       "3  chr1  905000  910000            eN\n",
       "4  chr1  910000  915000           IPC"
      ]
     },
     "execution_count": 10,
     "metadata": {},
     "output_type": "execute_result"
    }
   ],
   "source": [
    "# collapse all coordinates together, annotate by cell type only\n",
    "\n",
    "if os.path.exists(out_collapsed_cl) is False:\n",
    "    all = pbt.BedTool(combined)\n",
    "    # collapse ids, require 1bp overlap (conserves windows)\n",
    "    u = all.sort().merge(c=7, o=\"distinct\", d=-1, output=out_collapsed_cl)\n",
    "    dfucl = pd.read_csv(u.fn, sep='\\t', header=None)\n",
    "\n",
    "else:\n",
    "    dfucl = pd.read_csv(out_collapsed_cl, sep='\\t', header=None)\n",
    "\n",
    "\n",
    "dfucl.head()"
   ]
  },
  {
   "cell_type": "code",
   "execution_count": null,
   "id": "824b3db5-70d3-4ac8-8b5e-466f5344803a",
   "metadata": {},
   "outputs": [],
   "source": []
  }
 ],
 "metadata": {
  "kernelspec": {
   "display_name": "Python (mamba)",
   "language": "python",
   "name": "mamba"
  },
  "language_info": {
   "codemirror_mode": {
    "name": "ipython",
    "version": 3
   },
   "file_extension": ".py",
   "mimetype": "text/x-python",
   "name": "python",
   "nbconvert_exporter": "python",
   "pygments_lexer": "ipython3",
   "version": "3.9.16"
  }
 },
 "nbformat": 4,
 "nbformat_minor": 5
}
