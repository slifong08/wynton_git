{
 "cells": [
  {
   "cell_type": "code",
   "execution_count": 2,
   "id": "08e88254-b884-4352-a8b6-deaa097e4037",
   "metadata": {},
   "outputs": [],
   "source": [
    "# 20240428\n",
    "# make plaq-seq data into a harmonized bed file for intersection and quick querying. \n",
    "# will need to liftover from Hg19 to hg38\n",
    "\n",
    "\n",
    "\n",
    "import numpy as np\n",
    "import os, sys\n",
    "import pandas as pd\n",
    "\n",
    "LOCAL = False\n",
    "\n",
    "\n",
    "if LOCAL is True:\n",
    "    PATH = \"/Users/sarahfong/Desktop/local_data/Biomarin/results/plaq-seq_hg19/\"\n",
    "else: \n",
    "    PATH = \"/wynton/home/ahituv/fongsl/biomarin/data/plac-seq/\""
   ]
  },
  {
   "cell_type": "markdown",
   "id": "b3d72d7c-b833-4892-b467-dcc03c01098e",
   "metadata": {},
   "source": [
    "## load data"
   ]
  },
  {
   "cell_type": "code",
   "execution_count": 4,
   "id": "95a61296-ebf8-4cb4-8d10-89b7d4ae73f6",
   "metadata": {},
   "outputs": [],
   "source": [
    "# Plaq-seq data downloaded from table S5 Nott 2019, PMID: 31727856, all coordinates are in hg19. Need to be liftedover. \n",
    "#PATH = \"/Users/sarahfong/Desktop/local_data/Biomarin/results/plaq-seq_hg19/\"\n",
    "plac_xls = os.path.join(PATH, \"PLAC-seq_promoter_interactome map-nott-table-s5.xlsx\")\n",
    "OUT = os.path.join(PATH, \"Nott_2019_plac_seq_elements_hg19.bed\")"
   ]
  },
  {
   "cell_type": "markdown",
   "id": "9acddda4-def7-418c-9db7-36dfd118afd8",
   "metadata": {},
   "source": [
    "## load sup table 5 from Nott 2019"
   ]
  },
  {
   "cell_type": "code",
   "execution_count": 3,
   "id": "7c279d55-9be6-4be1-acc0-d7fa577e7c6b",
   "metadata": {},
   "outputs": [],
   "source": [
    "xl = pd.read_excel(plac_xls, None, \n",
    "                   #nrows=200, \n",
    "                   skiprows=1)\n",
    "sheets = list(xl.keys())"
   ]
  },
  {
   "cell_type": "markdown",
   "id": "f5c7665e-266d-43e0-a06f-5be5c544b1c4",
   "metadata": {},
   "source": [
    "### parse sheets, turn into dataframes"
   ]
  },
  {
   "cell_type": "code",
   "execution_count": 4,
   "id": "451e20fa-d017-4903-bc49-d01b979d4a86",
   "metadata": {},
   "outputs": [],
   "source": [
    "interactome, enh, prom ={}, {}, {}\n",
    "for sheet in sheets:\n",
    "    \n",
    "    test = xl[sheet]\n",
    "    test[\"celltype\"] = sheet.split(\" \")[0]\n",
    "    test[\"sheet\"] = sheet\n",
    "    \n",
    "    if \"interactome\" in sheet:\n",
    "        test[\"type\"] = \"hic\"\n",
    "        interactome[sheet] = test\n",
    "    elif \"promoters\" in sheet:\n",
    "        test[\"type\"] = \"promoter\"\n",
    "        prom[sheet] = test\n",
    "    elif \"enhancers\" in sheet:\n",
    "        test[\"type\"] = \"enhancer\"\n",
    "        enh[sheet] = test"
   ]
  },
  {
   "cell_type": "markdown",
   "id": "6dd80af8-9aeb-45e5-bbe2-b6913d76bcd0",
   "metadata": {},
   "source": [
    "## concat data sheets"
   ]
  },
  {
   "cell_type": "code",
   "execution_count": 21,
   "id": "c9ad2f5e-d1c1-4b8d-8b9c-1bb19c810578",
   "metadata": {},
   "outputs": [],
   "source": [
    "hic = pd.concat(interactome.values()).reset_index(drop=True)\n",
    "proms = pd.concat(prom.values()).reset_index(drop=True)\n",
    "enhs = pd.concat(enh.values()).reset_index(drop=True)"
   ]
  },
  {
   "cell_type": "markdown",
   "id": "91bc7ee7-0495-4ca5-a1c7-c28405377019",
   "metadata": {},
   "source": [
    "## rename hic columns"
   ]
  },
  {
   "cell_type": "code",
   "execution_count": 6,
   "id": "4720aeaa-f7c3-4b48-a5c8-95327ab135f3",
   "metadata": {},
   "outputs": [],
   "source": [
    "hic.columns = hic.iloc[0]\n",
    "hic=hic.loc[hic['end1']!='end1']\n",
    "hic.rename(columns = {\"Microglia\":\"cell_type\", \n",
    "                      \"Microglia interactome\":\"sheet\", \n",
    "                     \"hic\":\"type\"}, inplace=True)"
   ]
  },
  {
   "cell_type": "markdown",
   "id": "a5300cdb-474b-4e4d-86ea-e32607ad1e0e",
   "metadata": {},
   "source": [
    "## label hic links"
   ]
  },
  {
   "cell_type": "code",
   "execution_count": 7,
   "id": "bb236dfd-9007-4a06-8381-d8741f0462e2",
   "metadata": {},
   "outputs": [],
   "source": [
    "hic[\"link\"] = hic[\"chr1\"]+\":\"+hic[\"start1\"].map(str)+\"-\"+hic[\"end1\"].map(str)+\"_\"+hic[\"chr2\"]+\":\"+hic[\"start2\"].map(str)+\"-\"+hic[\"end2\"].map(str)"
   ]
  },
  {
   "cell_type": "markdown",
   "id": "f4a65a12-2168-4b73-9d92-fd81433fe3b1",
   "metadata": {},
   "source": [
    "## hic - make reciprocal of coor1 and coor2 annotataions \n",
    "- so that both coor1 and coor2 can be used in intersection"
   ]
  },
  {
   "cell_type": "code",
   "execution_count": 8,
   "id": "0d3c148b-8037-4fd5-8759-47d760311962",
   "metadata": {},
   "outputs": [
    {
     "name": "stdout",
     "output_type": "stream",
     "text": [
      "1\n",
      "2\n"
     ]
    },
    {
     "data": {
      "text/html": [
       "<div>\n",
       "<style scoped>\n",
       "    .dataframe tbody tr th:only-of-type {\n",
       "        vertical-align: middle;\n",
       "    }\n",
       "\n",
       "    .dataframe tbody tr th {\n",
       "        vertical-align: top;\n",
       "    }\n",
       "\n",
       "    .dataframe thead th {\n",
       "        text-align: right;\n",
       "    }\n",
       "</style>\n",
       "<table border=\"1\" class=\"dataframe\">\n",
       "  <thead>\n",
       "    <tr style=\"text-align: right;\">\n",
       "      <th></th>\n",
       "      <th>#chr</th>\n",
       "      <th>start</th>\n",
       "      <th>end</th>\n",
       "      <th>count</th>\n",
       "      <th>expected</th>\n",
       "      <th>fdr</th>\n",
       "      <th>ClusterLabel</th>\n",
       "      <th>ClusterSize</th>\n",
       "      <th>ClusterType</th>\n",
       "      <th>ClusterNegLog10P</th>\n",
       "      <th>ClusterSummit</th>\n",
       "      <th>cell_type</th>\n",
       "      <th>sheet</th>\n",
       "      <th>type</th>\n",
       "      <th>link</th>\n",
       "      <th>link_id</th>\n",
       "    </tr>\n",
       "  </thead>\n",
       "  <tbody>\n",
       "    <tr>\n",
       "      <th>1</th>\n",
       "      <td>chr1</td>\n",
       "      <td>710000</td>\n",
       "      <td>715000</td>\n",
       "      <td>6</td>\n",
       "      <td>1.114745</td>\n",
       "      <td>0.005893</td>\n",
       "      <td>chr1_1</td>\n",
       "      <td>3</td>\n",
       "      <td>SharpPeak</td>\n",
       "      <td>20.970599</td>\n",
       "      <td>0</td>\n",
       "      <td>Microglia</td>\n",
       "      <td>Microglia interactome</td>\n",
       "      <td>hic</td>\n",
       "      <td>chr1:710000-715000_chr1:750000-755000</td>\n",
       "      <td>1</td>\n",
       "    </tr>\n",
       "    <tr>\n",
       "      <th>2</th>\n",
       "      <td>chr1</td>\n",
       "      <td>710000</td>\n",
       "      <td>715000</td>\n",
       "      <td>25</td>\n",
       "      <td>3.941404</td>\n",
       "      <td>0.0</td>\n",
       "      <td>chr1_1</td>\n",
       "      <td>3</td>\n",
       "      <td>SharpPeak</td>\n",
       "      <td>20.970599</td>\n",
       "      <td>1</td>\n",
       "      <td>Microglia</td>\n",
       "      <td>Microglia interactome</td>\n",
       "      <td>hic</td>\n",
       "      <td>chr1:710000-715000_chr1:755000-760000</td>\n",
       "      <td>1</td>\n",
       "    </tr>\n",
       "    <tr>\n",
       "      <th>3</th>\n",
       "      <td>chr1</td>\n",
       "      <td>715000</td>\n",
       "      <td>720000</td>\n",
       "      <td>7</td>\n",
       "      <td>1.070538</td>\n",
       "      <td>0.000945</td>\n",
       "      <td>chr1_1</td>\n",
       "      <td>3</td>\n",
       "      <td>SharpPeak</td>\n",
       "      <td>20.970599</td>\n",
       "      <td>0</td>\n",
       "      <td>Microglia</td>\n",
       "      <td>Microglia interactome</td>\n",
       "      <td>hic</td>\n",
       "      <td>chr1:715000-720000_chr1:760000-765000</td>\n",
       "      <td>1</td>\n",
       "    </tr>\n",
       "    <tr>\n",
       "      <th>1</th>\n",
       "      <td>chr1</td>\n",
       "      <td>750000</td>\n",
       "      <td>755000</td>\n",
       "      <td>6</td>\n",
       "      <td>1.114745</td>\n",
       "      <td>0.005893</td>\n",
       "      <td>chr1_1</td>\n",
       "      <td>3</td>\n",
       "      <td>SharpPeak</td>\n",
       "      <td>20.970599</td>\n",
       "      <td>0</td>\n",
       "      <td>Microglia</td>\n",
       "      <td>Microglia interactome</td>\n",
       "      <td>hic</td>\n",
       "      <td>chr1:710000-715000_chr1:750000-755000</td>\n",
       "      <td>2</td>\n",
       "    </tr>\n",
       "    <tr>\n",
       "      <th>2</th>\n",
       "      <td>chr1</td>\n",
       "      <td>755000</td>\n",
       "      <td>760000</td>\n",
       "      <td>25</td>\n",
       "      <td>3.941404</td>\n",
       "      <td>0.0</td>\n",
       "      <td>chr1_1</td>\n",
       "      <td>3</td>\n",
       "      <td>SharpPeak</td>\n",
       "      <td>20.970599</td>\n",
       "      <td>1</td>\n",
       "      <td>Microglia</td>\n",
       "      <td>Microglia interactome</td>\n",
       "      <td>hic</td>\n",
       "      <td>chr1:710000-715000_chr1:755000-760000</td>\n",
       "      <td>2</td>\n",
       "    </tr>\n",
       "  </tbody>\n",
       "</table>\n",
       "</div>"
      ],
      "text/plain": [
       "0  #chr   start     end count  expected       fdr ClusterLabel ClusterSize  \\\n",
       "1  chr1  710000  715000     6  1.114745  0.005893       chr1_1           3   \n",
       "2  chr1  710000  715000    25  3.941404       0.0       chr1_1           3   \n",
       "3  chr1  715000  720000     7  1.070538  0.000945       chr1_1           3   \n",
       "1  chr1  750000  755000     6  1.114745  0.005893       chr1_1           3   \n",
       "2  chr1  755000  760000    25  3.941404       0.0       chr1_1           3   \n",
       "\n",
       "0 ClusterType ClusterNegLog10P ClusterSummit  cell_type  \\\n",
       "1   SharpPeak        20.970599             0  Microglia   \n",
       "2   SharpPeak        20.970599             1  Microglia   \n",
       "3   SharpPeak        20.970599             0  Microglia   \n",
       "1   SharpPeak        20.970599             0  Microglia   \n",
       "2   SharpPeak        20.970599             1  Microglia   \n",
       "\n",
       "0                  sheet type                                   link  link_id  \n",
       "1  Microglia interactome  hic  chr1:710000-715000_chr1:750000-755000        1  \n",
       "2  Microglia interactome  hic  chr1:710000-715000_chr1:755000-760000        1  \n",
       "3  Microglia interactome  hic  chr1:715000-720000_chr1:760000-765000        1  \n",
       "1  Microglia interactome  hic  chr1:710000-715000_chr1:750000-755000        2  \n",
       "2  Microglia interactome  hic  chr1:710000-715000_chr1:755000-760000        2  "
      ]
     },
     "execution_count": 8,
     "metadata": {},
     "output_type": "execute_result"
    }
   ],
   "source": [
    "# make reciprocal\n",
    "hic_subsets = {}\n",
    "for i in np.arange(1,3):\n",
    "    print(i)\n",
    "    cols = [f'chr{i}',\n",
    "             f'start{i}',\n",
    "             f'end{i}'] + list(hic)[6:]  # add columns from original dataframe at the end. \n",
    "             \n",
    "    subset = hic[cols].drop_duplicates().copy()\n",
    "\n",
    "    # rename columns\n",
    "    subset.rename(columns={f'chr{i}': \"#chr\", \n",
    "                     f'start{i}': \"start\", \n",
    "                     f\"end{i}\": \"end\"}, inplace=True)\n",
    "    # annotate which subset this is \n",
    "    subset[\"link_id\"] = i\n",
    "\n",
    "    hic_subsets[i] = subset\n",
    "    \n",
    "hic_revised = pd.concat(hic_subsets.values()).sort_values(by=['#chr', 'start', 'end']) # concatenate modified hic dataframe\n",
    "\n",
    "hic_revised.head()"
   ]
  },
  {
   "cell_type": "code",
   "execution_count": 17,
   "id": "33addbb1-8c74-4d44-85bf-a9a87b20cdf3",
   "metadata": {},
   "outputs": [
    {
     "data": {
      "text/html": [
       "<div>\n",
       "<style scoped>\n",
       "    .dataframe tbody tr th:only-of-type {\n",
       "        vertical-align: middle;\n",
       "    }\n",
       "\n",
       "    .dataframe tbody tr th {\n",
       "        vertical-align: top;\n",
       "    }\n",
       "\n",
       "    .dataframe thead th {\n",
       "        text-align: right;\n",
       "    }\n",
       "</style>\n",
       "<table border=\"1\" class=\"dataframe\">\n",
       "  <thead>\n",
       "    <tr style=\"text-align: right;\">\n",
       "      <th></th>\n",
       "      <th>#chr</th>\n",
       "      <th>start</th>\n",
       "      <th>end</th>\n",
       "      <th>cell_type</th>\n",
       "      <th>sheet</th>\n",
       "      <th>type</th>\n",
       "    </tr>\n",
       "  </thead>\n",
       "  <tbody>\n",
       "    <tr>\n",
       "      <th>1</th>\n",
       "      <td>chr1</td>\n",
       "      <td>710000</td>\n",
       "      <td>715000</td>\n",
       "      <td>Microglia</td>\n",
       "      <td>Microglia interactome</td>\n",
       "      <td>hic</td>\n",
       "    </tr>\n",
       "    <tr>\n",
       "      <th>3</th>\n",
       "      <td>chr1</td>\n",
       "      <td>715000</td>\n",
       "      <td>720000</td>\n",
       "      <td>Microglia</td>\n",
       "      <td>Microglia interactome</td>\n",
       "      <td>hic</td>\n",
       "    </tr>\n",
       "    <tr>\n",
       "      <th>1</th>\n",
       "      <td>chr1</td>\n",
       "      <td>750000</td>\n",
       "      <td>755000</td>\n",
       "      <td>Microglia</td>\n",
       "      <td>Microglia interactome</td>\n",
       "      <td>hic</td>\n",
       "    </tr>\n",
       "    <tr>\n",
       "      <th>2</th>\n",
       "      <td>chr1</td>\n",
       "      <td>755000</td>\n",
       "      <td>760000</td>\n",
       "      <td>Microglia</td>\n",
       "      <td>Microglia interactome</td>\n",
       "      <td>hic</td>\n",
       "    </tr>\n",
       "    <tr>\n",
       "      <th>3</th>\n",
       "      <td>chr1</td>\n",
       "      <td>760000</td>\n",
       "      <td>765000</td>\n",
       "      <td>Microglia</td>\n",
       "      <td>Microglia interactome</td>\n",
       "      <td>hic</td>\n",
       "    </tr>\n",
       "    <tr>\n",
       "      <th>...</th>\n",
       "      <td>...</td>\n",
       "      <td>...</td>\n",
       "      <td>...</td>\n",
       "      <td>...</td>\n",
       "      <td>...</td>\n",
       "      <td>...</td>\n",
       "    </tr>\n",
       "    <tr>\n",
       "      <th>104792</th>\n",
       "      <td>chr9</td>\n",
       "      <td>140430000</td>\n",
       "      <td>140435000</td>\n",
       "      <td>Microglia</td>\n",
       "      <td>Microglia interactome</td>\n",
       "      <td>hic</td>\n",
       "    </tr>\n",
       "    <tr>\n",
       "      <th>159394</th>\n",
       "      <td>chr9</td>\n",
       "      <td>140435000</td>\n",
       "      <td>140440000</td>\n",
       "      <td>Neuronal</td>\n",
       "      <td>Neuronal interactome</td>\n",
       "      <td>hic</td>\n",
       "    </tr>\n",
       "    <tr>\n",
       "      <th>104800</th>\n",
       "      <td>chr9</td>\n",
       "      <td>140435000</td>\n",
       "      <td>140440000</td>\n",
       "      <td>Microglia</td>\n",
       "      <td>Microglia interactome</td>\n",
       "      <td>hic</td>\n",
       "    </tr>\n",
       "    <tr>\n",
       "      <th>158087</th>\n",
       "      <td>chr9</td>\n",
       "      <td>140445000</td>\n",
       "      <td>140450000</td>\n",
       "      <td>Neuronal</td>\n",
       "      <td>Neuronal interactome</td>\n",
       "      <td>hic</td>\n",
       "    </tr>\n",
       "    <tr>\n",
       "      <th>158087</th>\n",
       "      <td>chr9</td>\n",
       "      <td>140455000</td>\n",
       "      <td>140460000</td>\n",
       "      <td>Neuronal</td>\n",
       "      <td>Neuronal interactome</td>\n",
       "      <td>hic</td>\n",
       "    </tr>\n",
       "  </tbody>\n",
       "</table>\n",
       "<p>195756 rows × 6 columns</p>\n",
       "</div>"
      ],
      "text/plain": [
       "0       #chr      start        end  cell_type                  sheet type\n",
       "1       chr1     710000     715000  Microglia  Microglia interactome  hic\n",
       "3       chr1     715000     720000  Microglia  Microglia interactome  hic\n",
       "1       chr1     750000     755000  Microglia  Microglia interactome  hic\n",
       "2       chr1     755000     760000  Microglia  Microglia interactome  hic\n",
       "3       chr1     760000     765000  Microglia  Microglia interactome  hic\n",
       "...      ...        ...        ...        ...                    ...  ...\n",
       "104792  chr9  140430000  140435000  Microglia  Microglia interactome  hic\n",
       "159394  chr9  140435000  140440000   Neuronal   Neuronal interactome  hic\n",
       "104800  chr9  140435000  140440000  Microglia  Microglia interactome  hic\n",
       "158087  chr9  140445000  140450000   Neuronal   Neuronal interactome  hic\n",
       "158087  chr9  140455000  140460000   Neuronal   Neuronal interactome  hic\n",
       "\n",
       "[195756 rows x 6 columns]"
      ]
     },
     "execution_count": 17,
     "metadata": {},
     "output_type": "execute_result"
    }
   ],
   "source": [
    "standard_cols =[\"#chr\", \"start\", \"end\", \"cell_type\", \"sheet\", \"type\"]\n",
    "hic_matched = hic_revised[standard_cols].drop_duplicates()\n",
    "hic_matched"
   ]
  },
  {
   "cell_type": "markdown",
   "id": "ba97bddb-3483-4483-b58e-87cf8daf9af0",
   "metadata": {},
   "source": [
    "# combine all information"
   ]
  },
  {
   "cell_type": "code",
   "execution_count": 18,
   "id": "810ff45f-9c68-4f7d-b7d6-aebd518bfe8d",
   "metadata": {},
   "outputs": [],
   "source": [
    "def assignId(df):\n",
    "    \"\"\"annotate id\"\"\"\n",
    "    df[\"id\"] = df[\"type\"] + \".\" + df.index.map(str)\n",
    "    return df"
   ]
  },
  {
   "cell_type": "code",
   "execution_count": 22,
   "id": "b757c0fd-a6a5-42c2-aaa3-802e0c8df250",
   "metadata": {},
   "outputs": [],
   "source": [
    "# assign ids\n",
    "\n",
    "# concatenate dataframes\n",
    "all = pd.concat([proms, enhs]) # combine promoters and enhancers \n",
    "all.columns=standard_cols\n",
    "\n",
    "all = pd.concat([all, hic_matched]).sort_values(by=['#chr', 'start', 'end']) # concatenate modified hic dataframe\n",
    "\n",
    "# groupby function to reduce information\n",
    "all_type = all.groupby([\"#chr\", \"start\", \"end\"])[\"type\"].unique().apply(lambda x: \"\".join(x)).reset_index().copy() # unique functional annotation type\n",
    "\n",
    "all_cells = all.groupby([\"#chr\", \"start\", \"end\"])[\"cell_type\"].unique().apply(lambda x: \",\".join(x)).reset_index().copy() # unique cell types"
   ]
  },
  {
   "cell_type": "code",
   "execution_count": null,
   "id": "888ac81e-5f53-48f3-8b8c-bceb18241a62",
   "metadata": {},
   "outputs": [],
   "source": [
    "# multiple merges to add grouped information back\n",
    "\n",
    "all_bed = pd.merge(all_cells, all_type).drop_duplicates().copy()\n",
    "all_bed = assignId(all_bed)"
   ]
  },
  {
   "cell_type": "code",
   "execution_count": 26,
   "id": "a7073a23-35ee-4086-bca5-0d3f32efcca3",
   "metadata": {},
   "outputs": [],
   "source": [
    "# rearrange columns\n",
    "all_bed=all_bed[['#chr', 'start', 'end', 'id','cell_type', 'type']]"
   ]
  },
  {
   "cell_type": "markdown",
   "id": "623a28b1-c76d-4db8-ba61-545a0736c509",
   "metadata": {},
   "source": [
    "## combine to make bed file"
   ]
  },
  {
   "cell_type": "code",
   "execution_count": null,
   "id": "358b6390-0aad-4857-b41f-290b5f84fab7",
   "metadata": {},
   "outputs": [],
   "source": [
    "#if os.path.exists(OUT) is False:\n",
    "all_bed.to_csv(OUT, sep='\\t', index=False)\n",
    "\n",
    "all_bed"
   ]
  },
  {
   "cell_type": "markdown",
   "id": "e8a2ae51-9957-48d2-8712-b4fa352a321a",
   "metadata": {},
   "source": [
    "# LiftOver to hg38"
   ]
  },
  {
   "cell_type": "code",
   "execution_count": 5,
   "id": "ec0f8607-3b8c-44ae-97d1-5f01f7e677c6",
   "metadata": {},
   "outputs": [
    {
     "name": "stdout",
     "output_type": "stream",
     "text": [
      "python ../tools/evo/liftover_bed-wynton.py /wynton/home/ahituv/fongsl/biomarin/data/plac-seq/Nott_2019_plac_seq_elements_hg19.bed hg19 Hg38\n"
     ]
    }
   ],
   "source": [
    "CMD = ' '.join([\n",
    "                \"python\", \n",
    "                \"../tools/evo/liftover_bed-wynton.py\", \n",
    "                OUT, \n",
    "                'hg19', \n",
    "                \"Hg38\"\n",
    "                ])\n",
    "print(CMD)"
   ]
  },
  {
   "cell_type": "code",
   "execution_count": null,
   "id": "f540666c-5e66-4296-8a59-33c2a747ca04",
   "metadata": {},
   "outputs": [],
   "source": []
  }
 ],
 "metadata": {
  "kernelspec": {
   "display_name": "Python (mamba)",
   "language": "python",
   "name": "mamba"
  },
  "language_info": {
   "codemirror_mode": {
    "name": "ipython",
    "version": 3
   },
   "file_extension": ".py",
   "mimetype": "text/x-python",
   "name": "python",
   "nbconvert_exporter": "python",
   "pygments_lexer": "ipython3",
   "version": "3.9.16"
  }
 },
 "nbformat": 4,
 "nbformat_minor": 5
}
