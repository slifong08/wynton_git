{
 "cells": [
  {
   "cell_type": "markdown",
   "metadata": {},
   "source": [
    "# sarahfong\n",
    "# 20240515\n",
    "\n",
    "- Goal: order the tiles for each enhancer element in library\n",
    "- (1) make enhancers by merging tile library (excluding synthetic elements) together\n",
    "- (2) number tile order for consecutive tiles. \n",
    "\n",
    "- note: MPRA will not test all of these tiles. "
   ]
  },
  {
   "cell_type": "code",
   "execution_count": 1,
   "metadata": {
    "ExecuteTime": {
     "end_time": "2023-12-01T17:50:01.076871Z",
     "start_time": "2023-12-01T17:49:56.404229Z"
    }
   },
   "outputs": [
    {
     "data": {
      "text/plain": [
       "('sans-serif', 'Arial', 18)"
      ]
     },
     "execution_count": 1,
     "metadata": {},
     "output_type": "execute_result"
    }
   ],
   "source": [
    "LOCAL = False\n",
    "\n",
    "from Bio.SeqIO.FastaIO import SimpleFastaParser\n",
    "import numpy as np\n",
    "import os, sys\n",
    "import pandas as pd\n",
    "import pybedtools as pb\n",
    "import matplotlib.pyplot as plt\n",
    "import seaborn as sns\n",
    "\n",
    "\n",
    "if LOCAL is True:\n",
    "    sys.path.append(\"/Users/sarahfong/tools/py_\")\n",
    "    PATH = \"/Users/sarahfong/Desktop/local_data/Biomarin/\"\n",
    "    RE = os.path.join(PATH, \"results\")\n",
    "    FASTA = os.path.join(PATH, \"library_2\", \"Design\", \"biomarin-lib2-hg38-final.fasta\")\n",
    "else:\n",
    "    PATH=\"/wynton/group/ahituv/fongsl/projects/biomarin/data\"\n",
    "    RE = \"/wynton/group/ahituv/fongsl/projects/biomarin/results\"\n",
    "    FASTA = os.path.join(PATH, \"biomarin-lib2-hg38-final.fa\")\n",
    "    \n",
    "    \n",
    "META_DATA= os.path.join(PATH, \"lib2.meta_data.tsv\")\n",
    "\n",
    "# write\n",
    "TILE_BED = os.path.join(PATH, \"lib2.processed.bed\")\n",
    "ENH_BED = os.path.join(PATH,'lib2.processed.merged.bed')\n",
    "                         \n",
    "import config_readwrite as crw\n",
    "import plot_params as pp\n",
    "pp.fonts()"
   ]
  },
  {
   "cell_type": "markdown",
   "metadata": {},
   "source": [
    "# make tile bed"
   ]
  },
  {
   "cell_type": "code",
   "execution_count": 2,
   "metadata": {
    "ExecuteTime": {
     "end_time": "2023-12-01T17:52:51.923456Z",
     "start_time": "2023-12-01T17:52:51.684272Z"
    }
   },
   "outputs": [
    {
     "data": {
      "text/plain": [
       "array(['chr1', 'chr10', 'chr11', 'chr12', 'chr13', 'chr14', 'chr15',\n",
       "       'chr16', 'chr17', 'chr18', 'chr19', 'chr2', 'chr20', 'chr21',\n",
       "       'chr22', 'chr3', 'chr4', 'chr5', 'chr6', 'chr7', 'chr8', 'chr9',\n",
       "       'chr:', 'chrX', 'chrY'], dtype=object)"
      ]
     },
     "execution_count": 2,
     "metadata": {},
     "output_type": "execute_result"
    }
   ],
   "source": [
    "df = pd.read_csv(META_DATA, sep='\\t')\n",
    "\n",
    "df['#chr'].unique()"
   ]
  },
  {
   "cell_type": "code",
   "execution_count": 3,
   "metadata": {
    "ExecuteTime": {
     "end_time": "2023-12-01T17:53:03.020745Z",
     "start_time": "2023-12-01T17:53:02.995022Z"
    }
   },
   "outputs": [
    {
     "data": {
      "text/html": [
       "<div>\n",
       "<style scoped>\n",
       "    .dataframe tbody tr th:only-of-type {\n",
       "        vertical-align: middle;\n",
       "    }\n",
       "\n",
       "    .dataframe tbody tr th {\n",
       "        vertical-align: top;\n",
       "    }\n",
       "\n",
       "    .dataframe thead th {\n",
       "        text-align: right;\n",
       "    }\n",
       "</style>\n",
       "<table border=\"1\" class=\"dataframe\">\n",
       "  <thead>\n",
       "    <tr style=\"text-align: right;\">\n",
       "      <th></th>\n",
       "      <th>name</th>\n",
       "      <th>sequence</th>\n",
       "      <th>bkgd</th>\n",
       "      <th>72h</th>\n",
       "      <th>ctrl</th>\n",
       "      <th>cl</th>\n",
       "      <th>coor</th>\n",
       "      <th>top_bottom</th>\n",
       "      <th>strand</th>\n",
       "      <th>#chr</th>\n",
       "      <th>start</th>\n",
       "      <th>end</th>\n",
       "      <th>enh.id</th>\n",
       "      <th>enh.name</th>\n",
       "      <th>tile.order</th>\n",
       "    </tr>\n",
       "  </thead>\n",
       "  <tbody>\n",
       "  </tbody>\n",
       "</table>\n",
       "</div>"
      ],
      "text/plain": [
       "Empty DataFrame\n",
       "Columns: [name, sequence, bkgd, 72h, ctrl, cl, coor, top_bottom, strand, #chr, start, end, enh.id, enh.name, tile.order]\n",
       "Index: []"
      ]
     },
     "execution_count": 3,
     "metadata": {},
     "output_type": "execute_result"
    }
   ],
   "source": [
    "df.loc[df[\"#chr\"].map(str)==\"nan\"]"
   ]
  },
  {
   "cell_type": "code",
   "execution_count": 4,
   "metadata": {
    "ExecuteTime": {
     "end_time": "2023-12-01T17:54:08.226457Z",
     "start_time": "2023-12-01T17:54:07.982075Z"
    }
   },
   "outputs": [
    {
     "name": "stdout",
     "output_type": "stream",
     "text": [
      "(44044, 15)\n",
      "43370\n"
     ]
    }
   ],
   "source": [
    "# sequences that don't have a chr\n",
    "df[\"#chr\"] = df[\"#chr\"].fillna(\"0\")\n",
    "\n",
    "bed = df.loc[df[\"#chr\"].str.contains(\"chr\")]\n",
    "print(bed.shape)\n",
    "bedcols=[\"#chr\", \"start\", \"end\", \"name\"]\n",
    "\n",
    "print(bed.loc[bed[\"start\"]>0].shape[0])\n",
    "\n",
    "# remove anu of the synthetic sequences (where start = -1)\n",
    "bed.loc[bed[\"start\"]>0, bedcols].drop_duplicates().sort_values(by=bedcols).to_csv(TILE_BED, sep='\\t', index=False)"
   ]
  },
  {
   "cell_type": "markdown",
   "metadata": {},
   "source": [
    "# merge tiles w/ loci "
   ]
  },
  {
   "cell_type": "markdown",
   "metadata": {},
   "source": [
    "## (1) merge tiles and enhancer loci\n",
    "-  enhancer loci = sort and merge tiles \n",
    "- merge = tiles.intersect(enh)"
   ]
  },
  {
   "cell_type": "code",
   "execution_count": 5,
   "metadata": {
    "ExecuteTime": {
     "end_time": "2023-12-01T17:54:10.925968Z",
     "start_time": "2023-12-01T17:54:10.812434Z"
    }
   },
   "outputs": [],
   "source": [
    "tile = pb.BedTool(TILE_BED) # tile loci\n",
    "enh_merge = tile.sort().merge() # enhancer loci - merge the tiles together\n",
    "tile_enh_merge = tile.intersect(enh_merge, wa=True, wb=True, output=ENH_BED) # intersect tiles with enhancers"
   ]
  },
  {
   "cell_type": "markdown",
   "metadata": {},
   "source": [
    "# add enhancer id and tile order"
   ]
  },
  {
   "cell_type": "code",
   "execution_count": 6,
   "metadata": {
    "ExecuteTime": {
     "end_time": "2023-12-01T17:55:20.144796Z",
     "start_time": "2023-12-01T17:55:20.138738Z"
    }
   },
   "outputs": [],
   "source": [
    "def assignTileOrder(df):\n",
    "    \n",
    "    \"\"\" assign tile order within each peak, return dataframe\"\"\"\n",
    "    dfs = {}\n",
    "    for enh_id in df[\"enh.id\"].unique():\n",
    "        # enh dataframe\n",
    "        test = df.loc[df[\"enh.id\"] ==enh_id].copy()\n",
    "        \n",
    "        # sort by smallest start coordinate\n",
    "        test = test.sort_values(by= [\"#chr\", \"start.tile\", \"end.tile\"]).reset_index()\n",
    "        \n",
    "        # drop index column\n",
    "        test = test.drop(columns = [\"index\"])\n",
    "        \n",
    "        # add tile.order\n",
    "        test[\"tile.order\"] = test.index.map(str)\n",
    "    \n",
    "        # add to dictionary\n",
    "        dfs[enh_id] = test\n",
    "        \n",
    "    return pd.concat(dfs.values())"
   ]
  },
  {
   "cell_type": "code",
   "execution_count": 7,
   "metadata": {},
   "outputs": [],
   "source": [
    "def labelEnhID(merge):\n",
    "    \"\"\"take only enhancer coordinates and label those coordinates, \n",
    "    return enh labels within original dataframe\n",
    "    \"\"\"\n",
    "\n",
    "    # enhancer only dataframe\n",
    "    enh = merge[[ \"#chr.enh\", \"start.enh\", \"end.enh\"]].drop_duplicates().copy().reset_index()\n",
    "    \n",
    "    # make enhancer coordinate id\n",
    "    enh['enh.id'] = enh['#chr.enh'] + \":\" + enh[\"start.enh\"].map(str) + \"-\" + enh[\"end.enh\"].map(str)\n",
    "    \n",
    "    # make enhancer name id\n",
    "    enh['enh.name'] = \"enh.\" + enh.index.map(str)\n",
    "    \n",
    "    # drop the index colunm\n",
    "    enh = enh.drop(columns = [\"index\"])\n",
    "    \n",
    "    # add enhancer info back to tile info\n",
    "    merge = pd.merge( merge, enh, how=\"left\")\n",
    "\n",
    "    return merge"
   ]
  },
  {
   "cell_type": "markdown",
   "metadata": {},
   "source": [
    "## (2) add tile order, write tile + enh + tile.order dataframe"
   ]
  },
  {
   "cell_type": "code",
   "execution_count": 8,
   "metadata": {
    "ExecuteTime": {
     "end_time": "2023-12-01T17:55:37.108650Z",
     "start_time": "2023-12-01T17:55:36.946451Z"
    }
   },
   "outputs": [
    {
     "data": {
      "text/html": [
       "<div>\n",
       "<style scoped>\n",
       "    .dataframe tbody tr th:only-of-type {\n",
       "        vertical-align: middle;\n",
       "    }\n",
       "\n",
       "    .dataframe tbody tr th {\n",
       "        vertical-align: top;\n",
       "    }\n",
       "\n",
       "    .dataframe thead th {\n",
       "        text-align: right;\n",
       "    }\n",
       "</style>\n",
       "<table border=\"1\" class=\"dataframe\">\n",
       "  <thead>\n",
       "    <tr style=\"text-align: right;\">\n",
       "      <th></th>\n",
       "      <th>#chr</th>\n",
       "      <th>start.tile</th>\n",
       "      <th>end.tile</th>\n",
       "      <th>coor</th>\n",
       "      <th>#chr.enh</th>\n",
       "      <th>start.enh</th>\n",
       "      <th>end.enh</th>\n",
       "      <th>enh.id</th>\n",
       "      <th>enh.name</th>\n",
       "      <th>tile.order</th>\n",
       "      <th>name</th>\n",
       "    </tr>\n",
       "  </thead>\n",
       "  <tbody>\n",
       "    <tr>\n",
       "      <th>0</th>\n",
       "      <td>chr1</td>\n",
       "      <td>10057.0</td>\n",
       "      <td>10327.0</td>\n",
       "      <td>chr1:10057-10327</td>\n",
       "      <td>chr1</td>\n",
       "      <td>10057.0</td>\n",
       "      <td>10563.0</td>\n",
       "      <td>chr1:10057-10563</td>\n",
       "      <td>enh.0</td>\n",
       "      <td>0</td>\n",
       "      <td>chr1:10057-10327</td>\n",
       "    </tr>\n",
       "    <tr>\n",
       "      <th>1</th>\n",
       "      <td>chr1</td>\n",
       "      <td>10077.0</td>\n",
       "      <td>10347.0</td>\n",
       "      <td>chr1:10077-10347</td>\n",
       "      <td>chr1</td>\n",
       "      <td>10057.0</td>\n",
       "      <td>10563.0</td>\n",
       "      <td>chr1:10057-10563</td>\n",
       "      <td>enh.0</td>\n",
       "      <td>1</td>\n",
       "      <td>chr1:10077-10347</td>\n",
       "    </tr>\n",
       "    <tr>\n",
       "      <th>2</th>\n",
       "      <td>chr1</td>\n",
       "      <td>10097.0</td>\n",
       "      <td>10367.0</td>\n",
       "      <td>chr1:10097-10367</td>\n",
       "      <td>chr1</td>\n",
       "      <td>10057.0</td>\n",
       "      <td>10563.0</td>\n",
       "      <td>chr1:10057-10563</td>\n",
       "      <td>enh.0</td>\n",
       "      <td>2</td>\n",
       "      <td>chr1:10097-10367</td>\n",
       "    </tr>\n",
       "    <tr>\n",
       "      <th>3</th>\n",
       "      <td>chr1</td>\n",
       "      <td>10117.0</td>\n",
       "      <td>10387.0</td>\n",
       "      <td>chr1:10117-10387</td>\n",
       "      <td>chr1</td>\n",
       "      <td>10057.0</td>\n",
       "      <td>10563.0</td>\n",
       "      <td>chr1:10057-10563</td>\n",
       "      <td>enh.0</td>\n",
       "      <td>3</td>\n",
       "      <td>chr1:10117-10387</td>\n",
       "    </tr>\n",
       "    <tr>\n",
       "      <th>4</th>\n",
       "      <td>chr1</td>\n",
       "      <td>10133.0</td>\n",
       "      <td>10403.0</td>\n",
       "      <td>chr1:10133-10403</td>\n",
       "      <td>chr1</td>\n",
       "      <td>10057.0</td>\n",
       "      <td>10563.0</td>\n",
       "      <td>chr1:10057-10563</td>\n",
       "      <td>enh.0</td>\n",
       "      <td>4</td>\n",
       "      <td>chr1:10133-10403</td>\n",
       "    </tr>\n",
       "  </tbody>\n",
       "</table>\n",
       "</div>"
      ],
      "text/plain": [
       "   #chr  start.tile  end.tile              coor #chr.enh  start.enh  end.enh  \\\n",
       "0  chr1     10057.0   10327.0  chr1:10057-10327     chr1    10057.0  10563.0   \n",
       "1  chr1     10077.0   10347.0  chr1:10077-10347     chr1    10057.0  10563.0   \n",
       "2  chr1     10097.0   10367.0  chr1:10097-10367     chr1    10057.0  10563.0   \n",
       "3  chr1     10117.0   10387.0  chr1:10117-10387     chr1    10057.0  10563.0   \n",
       "4  chr1     10133.0   10403.0  chr1:10133-10403     chr1    10057.0  10563.0   \n",
       "\n",
       "             enh.id enh.name tile.order              name  \n",
       "0  chr1:10057-10563    enh.0          0  chr1:10057-10327  \n",
       "1  chr1:10057-10563    enh.0          1  chr1:10077-10347  \n",
       "2  chr1:10057-10563    enh.0          2  chr1:10097-10367  \n",
       "3  chr1:10057-10563    enh.0          3  chr1:10117-10387  \n",
       "4  chr1:10057-10563    enh.0          4  chr1:10133-10403  "
      ]
     },
     "execution_count": 8,
     "metadata": {},
     "output_type": "execute_result"
    }
   ],
   "source": [
    "if \"#chr\" not in list(pd.read_csv(ENH_BED, sep='\\t', nrows=1)):\n",
    "    \n",
    "    merge = pd.read_csv(ENH_BED, sep='\\t', header=None)\n",
    "    merge.columns=[\"#chr\", \"start.tile\", \"end.tile\", \"coor\", \"#chr.enh\", \"start.enh\", \"end.enh\"]\n",
    "    \n",
    "    merge = labelEnhID(merge) # label enhancer ids\n",
    "    \n",
    "    # add tile order\n",
    "    merge = assignTileOrder(merge)\n",
    "    \n",
    "\n",
    "    # add original library back in, recover some lost synthetic tiles\n",
    "    merge =  pd.merge(merge, df[[\"name\", \"coor\"]], how='right')\n",
    "    \n",
    "    # save\n",
    "    merge.to_csv(ENH_BED, sep='\\t', index=False)\n",
    "else:\n",
    "     merge = pd.read_csv(ENH_BED, sep='\\t')\n",
    "\n",
    "merge.head()"
   ]
  },
  {
   "cell_type": "markdown",
   "metadata": {},
   "source": [
    "# make SHARPR file"
   ]
  },
  {
   "cell_type": "code",
   "execution_count": null,
   "metadata": {},
   "outputs": [],
   "source": [
    "merg"
   ]
  }
 ],
 "metadata": {
  "kernelspec": {
   "display_name": "Python (mamba)",
   "language": "python",
   "name": "mamba"
  },
  "language_info": {
   "codemirror_mode": {
    "name": "ipython",
    "version": 3
   },
   "file_extension": ".py",
   "mimetype": "text/x-python",
   "name": "python",
   "nbconvert_exporter": "python",
   "pygments_lexer": "ipython3",
   "version": "3.9.16"
  },
  "toc": {
   "base_numbering": 1,
   "nav_menu": {},
   "number_sections": true,
   "sideBar": true,
   "skip_h1_title": false,
   "title_cell": "Table of Contents",
   "title_sidebar": "Contents",
   "toc_cell": false,
   "toc_position": {},
   "toc_section_display": true,
   "toc_window_display": false
  },
  "varInspector": {
   "cols": {
    "lenName": 16,
    "lenType": 16,
    "lenVar": 40
   },
   "kernels_config": {
    "python": {
     "delete_cmd_postfix": "",
     "delete_cmd_prefix": "del ",
     "library": "var_list.py",
     "varRefreshCmd": "print(var_dic_list())"
    },
    "r": {
     "delete_cmd_postfix": ") ",
     "delete_cmd_prefix": "rm(",
     "library": "var_list.r",
     "varRefreshCmd": "cat(var_dic_list()) "
    }
   },
   "types_to_exclude": [
    "module",
    "function",
    "builtin_function_or_method",
    "instance",
    "_Feature"
   ],
   "window_display": false
  }
 },
 "nbformat": 4,
 "nbformat_minor": 4
}
