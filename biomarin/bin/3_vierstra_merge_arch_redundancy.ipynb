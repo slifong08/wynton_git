{
 "cells": [
  {
   "cell_type": "markdown",
   "id": "4b9deecb",
   "metadata": {},
   "source": [
    "Remove archetype prediction redundancies among archetypes that overlap MPRA library. \n",
    "\n",
    "Use sliding window and median archetype length to select archetype w best score. "
   ]
  },
  {
   "cell_type": "code",
   "execution_count": 1,
   "id": "532c9d28",
   "metadata": {
    "ExecuteTime": {
     "end_time": "2023-08-22T23:10:12.390847Z",
     "start_time": "2023-08-22T23:09:44.701959Z"
    }
   },
   "outputs": [],
   "source": [
    "import os, sys\n",
    "\n",
    "sys.path.append(os.getcwd()) # append current working directory\n",
    "\n",
    "import config_readwrite as crw  # custom script for reading config\n",
    "import pandas as pd\n",
    "import pybedtools as pbt\n",
    "\n",
    "import chr_functions"
   ]
  },
  {
   "cell_type": "markdown",
   "id": "950acdd7",
   "metadata": {},
   "source": [
    "# config"
   ]
  },
  {
   "cell_type": "code",
   "execution_count": 4,
   "id": "cb3bcf01",
   "metadata": {
    "ExecuteTime": {
     "end_time": "2023-08-22T23:45:03.261514Z",
     "start_time": "2023-08-22T23:45:03.074733Z"
    }
   },
   "outputs": [],
   "source": [
    "config, cfn = crw.read(\"/wynton/home/ahituv/fongsl/biomarin/bin/config.neuron.mpra.orig.ini\")\n",
    "\n",
    "# read\n",
    "section = \"design\"\n",
    "\n",
    "\n",
    "LIB = \"lib2\"\n",
    "\n",
    "if LIB == \"lib1\":\n",
    "    TILES = config[section][\"full_bed\"]\n",
    "    PATH = config[section][\"PATH\"]\n",
    "    PREFIX = f\"unq_tiles.{LIB}\"\n",
    "    VIERSTRA = os.path.join(PATH, f\"{PREFIX}.x.vierstra.archetypes.bed\")\n",
    "    CLEANED = os.path.join(PATH, f\"{PREFIX}.x.vierstra.archetypes.cleaned.bed\")\n",
    "    CLEANED_TABLE = os.path.join(PATH, f\"{PREFIX}.x.vierstra.archetypes.cleaned.table.bed\")\n",
    "\n",
    "\n",
    "    section = \"tfbs\"\n",
    "    crw.check(config, section)\n",
    "\n",
    "    config[section][\"vierstra\"] = VIERSTRA  # write the tiles\n",
    "    config[section][\"vierstra.cleaned\"] = CLEANED  # write the tiles\n",
    "    config[section][\"vierstra.cleaned.table\"] = CLEANED_TABLE # max TFBS motif score, no redundancies within 13 bp. Not strand specific\n",
    "\n",
    "else:\n",
    "    \n",
    "    TILES = \"/wynton/group/ahituv/fongsl/projects/biomarin/library_2/design/biomarin-lib2-hg38-final.bed.gz\"\n",
    "    PATH = config[section][\"path2\"]\n",
    "    PREFIX = \"biomarin-lib2-hg38-final\"\n",
    "    VIERSTRA = os.path.join(PATH, f\"{PREFIX}.x.vierstra.archetypes.bed.gz\")\n",
    "    CLEANED = os.path.join(PATH, f\"{PREFIX}.x.vierstra.archetypes.cleaned.bed\")\n",
    "    CLEANED_TABLE = os.path.join(PATH, f\"{PREFIX}.x.vierstra.archetypes.cleaned.table.bed\")\n",
    "\n",
    "\n",
    "\n",
    "    section = \"tfbs2\"\n",
    "    crw.check(config, section)\n",
    "\n",
    "    config[section][\"vierstra\"] = VIERSTRA  # write the tiles\n",
    "    config[section][\"vierstra.cleaned\"] = CLEANED  # write the tiles\n",
    "    config[section][\"vierstra.cleaned.table\"] = CLEANED_TABLE # max TFBS motif score, no redundancies within 13 bp. Not strand specific\n",
    "\n",
    "crw.write(config, cfn)"
   ]
  },
  {
   "cell_type": "markdown",
   "id": "266b479e-f252-4cc7-a510-57aca8b21a90",
   "metadata": {},
   "source": [
    "# run bedtools intersection"
   ]
  },
  {
   "cell_type": "code",
   "execution_count": 6,
   "id": "b7a2fd7e-f98c-440c-9ad5-84ab8ac3704d",
   "metadata": {},
   "outputs": [],
   "source": [
    "# intersect coordinates with bed tools using the -wao command. \n",
    "cmd = \" \".join([\"qsub\", \n",
    "                \"$HOME/vierstra_archetype.sh\", \n",
    "                TILES\n",
    "                ])\n",
    "if os.path.exists(VIERSTRA) is False:\n",
    "    \n",
    "    os.system(cmd)"
   ]
  },
  {
   "cell_type": "markdown",
   "id": "47a35937",
   "metadata": {},
   "source": [
    "# tiles "
   ]
  },
  {
   "cell_type": "code",
   "execution_count": 45,
   "id": "b5d5fe8d",
   "metadata": {
    "ExecuteTime": {
     "end_time": "2023-08-22T23:11:40.294822Z",
     "start_time": "2023-08-22T23:11:24.364831Z"
    }
   },
   "outputs": [],
   "source": [
    "if \"#chr\" not in (list(pd.read_csv(VIERSTRA, sep='\\t', nrows=3))):\n",
    "    \n",
    "    # column names\n",
    "    names = [\"#chr\", 'start_tile', \"end_tile\", \"#chr_arch\", \"start_arch\", \"end_arch\", \"group\",\n",
    "        'arch', \"strand\", \"model\", \"num_models\", \"overlap\"]\n",
    "\n",
    "    # load dataframe\n",
    "    df = pd.read_csv(VIERSTRA, sep='\\t', header=None, names=names, low_memory=False)\n",
    "\n",
    "    # sort and save\n",
    "    df.sort_values(by=list(df.columns[:3])).drop_duplicates().to_csv(VIERSTRA, sep='\\t', index=False)\n",
    "else:\n",
    "    print('already rearranged columns')\n",
    "    df = pd.read_csv(VIERSTRA, sep='\\t', low_memory=False)"
   ]
  },
  {
   "cell_type": "code",
   "execution_count": 53,
   "id": "10865bc2-b61b-41fc-8271-bc10fd0bc6e6",
   "metadata": {},
   "outputs": [
    {
     "data": {
      "text/plain": [
       "motif_overlap\n",
       "False     596803\n",
       "True     5864039\n",
       "Name: #chr, dtype: int64"
      ]
     },
     "execution_count": 53,
     "metadata": {},
     "output_type": "execute_result"
    }
   ],
   "source": [
    "tf = df.loc[df[\"overlap\"] > 0].copy()\n",
    "\n",
    "# compute motif length\n",
    "tf[\"motif_len\"] = tf[\"end_arch\"] - tf[\"start_arch\"]\n",
    "\n",
    "# annotate fully overlapping motifs\n",
    "tf[\"motif_overlap\"] = False\n",
    "\n",
    "# full overlap when tf motif len == overlap len\n",
    "tf.loc[tf['motif_len'] == tf[\"overlap\"],\n",
    "        \"motif_overlap\"] = True\n",
    "\n",
    "tf.groupby(\"motif_overlap\")[\"#chr\"].count()  #about 10% false overlaps"
   ]
  },
  {
   "cell_type": "markdown",
   "id": "59208806-7d1d-4913-8191-f73496ffc7f1",
   "metadata": {
    "jp-MarkdownHeadingCollapsed": true
   },
   "source": [
    "## sanity check - each group, model has one motif length \n",
    "(not multiple motif lengths for a model, group)"
   ]
  },
  {
   "cell_type": "markdown",
   "id": "d1d5e89d-2793-4816-8564-db13af9e702b",
   "metadata": {
    "jp-MarkdownHeadingCollapsed": true
   },
   "source": [
    "- check the length(s) of the motifs. If more than one motif length per motif, should print\n",
    "  \n",
    "              model [1, 2, etc.]\n",
    "- If one motif length, print\n",
    "\n",
    "              model [1]"
   ]
  },
  {
   "cell_type": "code",
   "execution_count": 44,
   "id": "33dcc726-5233-48e1-b2fd-6d0ceea0b405",
   "metadata": {},
   "outputs": [
    {
     "name": "stdout",
     "output_type": "stream",
     "text": [
      "model [1]\n",
      "1615\n",
      "group [1]\n",
      "282\n"
     ]
    }
   ],
   "source": [
    "for col in [\"model\", \"group\"]:\n",
    "    a = tf.groupby(col)[\"motif_len\"].unique().reset_index()\n",
    "    print(col,a[\"motif_len\"].apply(lambda x: len(str(x).split(\",\"))).unique()) # count the length of the unique motifs per model)\n",
    "    \n",
    "    print(len(set(tf[col])))"
   ]
  },
  {
   "cell_type": "markdown",
   "id": "58f010f7",
   "metadata": {},
   "source": [
    "## prepare dataframe for sliding window"
   ]
  },
  {
   "cell_type": "markdown",
   "id": "ca037123",
   "metadata": {},
   "source": [
    "## sliding window function"
   ]
  },
  {
   "cell_type": "code",
   "execution_count": 54,
   "id": "1d94a288",
   "metadata": {
    "ExecuteTime": {
     "end_time": "2023-08-22T23:12:09.170447Z",
     "start_time": "2023-08-22T23:12:09.162127Z"
    }
   },
   "outputs": [],
   "source": [
    "def slideWindowCollapseGroup(df):\n",
    "    print(df.shape)\n",
    "\n",
    "    collection = {}  # collect results\n",
    "\n",
    "    # cols to query\n",
    "    cols = [\"#chr_arch\", \"start_arch\", \"end_arch\", \"group\", \"strand\", \"arch\"]\n",
    "\n",
    "    # compute motif length\n",
    "    df[\"len\"] = df.end_arch-df.start_arch\n",
    "\n",
    "    # compute median length\n",
    "    median_len = df.len.describe()[\"50%\"]\n",
    "\n",
    "    # per chromosome, query starts\n",
    "    for chr_ in set(df['#chr_arch']):\n",
    "        print(chr_)\n",
    "        test = df.loc[df['#chr_arch'] == chr_].copy()\n",
    "\n",
    "        for start in test['start_arch'].unique():\n",
    "\n",
    "            # test windows + median tfbs len range\n",
    "            window = test.loc[test['start_arch'].between(\n",
    "                start, int(start+median_len)), cols]\n",
    "\n",
    "            # no group in window\n",
    "            if window.shape[0] == 0:\n",
    "                continue\n",
    "\n",
    "            # if unique groups in window only\n",
    "            elif len(set(window[\"group\"])) == window.shape[0]:\n",
    "\n",
    "                # add to collection\n",
    "                collection[f'{chr_}:{start}'] = window\n",
    "\n",
    "                continue\n",
    "\n",
    "            # possibly non-unique\n",
    "            else:\n",
    "                # get max score among tfs\n",
    "                # preserve strand information\n",
    "                max_scores = window.groupby([\"group\", \"strand\"])[\n",
    "                    'arch'].max().reset_index()\n",
    "\n",
    "                # right join to keep only max_scores\n",
    "                window = pd.merge(window, max_scores, how=\"right\")\n",
    "\n",
    "                collection[f'{chr_}:{start}'] = window[cols]\n",
    "\n",
    "    # combine results\n",
    "    cleaned = pd.concat(collection.values()).drop_duplicates()\n",
    "    print(\"got rid of N redundacies=\", df.shape[0]-cleaned.shape[0],\n",
    "          \"old:\", df.shape,\n",
    "          \"new\", cleaned.shape)\n",
    "\n",
    "    return cleaned"
   ]
  },
  {
   "cell_type": "markdown",
   "id": "3b30e664",
   "metadata": {},
   "source": [
    "## Sliding window to remove redundant TFBS archetype predictions"
   ]
  },
  {
   "cell_type": "code",
   "execution_count": 55,
   "id": "167d0ac3",
   "metadata": {
    "ExecuteTime": {
     "end_time": "2023-08-22T23:36:15.060564Z",
     "start_time": "2023-08-22T23:12:12.762000Z"
    }
   },
   "outputs": [
    {
     "name": "stdout",
     "output_type": "stream",
     "text": [
      "(7481106, 12)\n",
      "chrX\n",
      "chr15\n",
      "chr21\n",
      "chr4\n",
      "chr9\n",
      "chr22\n",
      "chr18\n",
      "chr20\n",
      "chrY\n",
      "chr19\n",
      "chr13\n",
      "chr14\n",
      "chr10\n",
      "chr7\n",
      "chr11\n",
      "chr8\n",
      "chr6\n",
      ".\n",
      "chr3\n",
      "chr5\n",
      "chr17\n",
      "chr12\n",
      "chr2\n",
      "chr1\n",
      "chr16\n",
      "got rid of N redundacies= 6971688 old: (7481106, 13) new (509418, 6)\n"
     ]
    }
   ],
   "source": [
    "cleaned = slideWindowCollapseGroup(df)"
   ]
  },
  {
   "cell_type": "markdown",
   "id": "72fcf4b1",
   "metadata": {},
   "source": [
    "## write cleaned file"
   ]
  },
  {
   "cell_type": "code",
   "execution_count": 14,
   "id": "076d4db7",
   "metadata": {
    "ExecuteTime": {
     "end_time": "2023-08-22T23:40:57.291454Z",
     "start_time": "2023-08-22T23:40:57.281079Z"
    }
   },
   "outputs": [
    {
     "data": {
      "text/html": [
       "<div>\n",
       "<style scoped>\n",
       "    .dataframe tbody tr th:only-of-type {\n",
       "        vertical-align: middle;\n",
       "    }\n",
       "\n",
       "    .dataframe tbody tr th {\n",
       "        vertical-align: top;\n",
       "    }\n",
       "\n",
       "    .dataframe thead th {\n",
       "        text-align: right;\n",
       "    }\n",
       "</style>\n",
       "<table border=\"1\" class=\"dataframe\">\n",
       "  <thead>\n",
       "    <tr style=\"text-align: right;\">\n",
       "      <th></th>\n",
       "      <th>#chr_arch</th>\n",
       "      <th>start_arch</th>\n",
       "      <th>end_arch</th>\n",
       "      <th>group</th>\n",
       "      <th>strand</th>\n",
       "      <th>arch</th>\n",
       "    </tr>\n",
       "  </thead>\n",
       "  <tbody>\n",
       "    <tr>\n",
       "      <th>0</th>\n",
       "      <td>chr13</td>\n",
       "      <td>19864629</td>\n",
       "      <td>19864643</td>\n",
       "      <td>CTCF</td>\n",
       "      <td>+</td>\n",
       "      <td>8.1280</td>\n",
       "    </tr>\n",
       "    <tr>\n",
       "      <th>1</th>\n",
       "      <td>chr13</td>\n",
       "      <td>19864627</td>\n",
       "      <td>19864647</td>\n",
       "      <td>GC-tract</td>\n",
       "      <td>+</td>\n",
       "      <td>6.1290</td>\n",
       "    </tr>\n",
       "    <tr>\n",
       "      <th>2</th>\n",
       "      <td>chr13</td>\n",
       "      <td>19864641</td>\n",
       "      <td>19864661</td>\n",
       "      <td>GC-tract</td>\n",
       "      <td>-</td>\n",
       "      <td>8.0062</td>\n",
       "    </tr>\n",
       "    <tr>\n",
       "      <th>3</th>\n",
       "      <td>chr13</td>\n",
       "      <td>19864637</td>\n",
       "      <td>19864653</td>\n",
       "      <td>HEN1</td>\n",
       "      <td>-</td>\n",
       "      <td>4.5627</td>\n",
       "    </tr>\n",
       "    <tr>\n",
       "      <th>4</th>\n",
       "      <td>chr13</td>\n",
       "      <td>19864633</td>\n",
       "      <td>19864650</td>\n",
       "      <td>KLF/SP/2</td>\n",
       "      <td>+</td>\n",
       "      <td>7.9062</td>\n",
       "    </tr>\n",
       "  </tbody>\n",
       "</table>\n",
       "</div>"
      ],
      "text/plain": [
       "  #chr_arch  start_arch  end_arch     group strand    arch\n",
       "0     chr13    19864629  19864643      CTCF      +  8.1280\n",
       "1     chr13    19864627  19864647  GC-tract      +  6.1290\n",
       "2     chr13    19864641  19864661  GC-tract      -  8.0062\n",
       "3     chr13    19864637  19864653      HEN1      -  4.5627\n",
       "4     chr13    19864633  19864650  KLF/SP/2      +  7.9062"
      ]
     },
     "execution_count": 14,
     "metadata": {},
     "output_type": "execute_result"
    }
   ],
   "source": [
    "cleaned.head()"
   ]
  },
  {
   "cell_type": "code",
   "execution_count": 16,
   "id": "f573d11e",
   "metadata": {
    "ExecuteTime": {
     "end_time": "2023-08-22T23:41:05.846357Z",
     "start_time": "2023-08-22T23:41:05.842131Z"
    }
   },
   "outputs": [
    {
     "data": {
      "text/plain": [
       "((421937, 6), (490268, 9))"
      ]
     },
     "execution_count": 16,
     "metadata": {},
     "output_type": "execute_result"
    }
   ],
   "source": [
    "cleaned.shape, df.shape"
   ]
  },
  {
   "cell_type": "code",
   "execution_count": 17,
   "id": "aee79033",
   "metadata": {
    "ExecuteTime": {
     "end_time": "2023-08-22T23:41:09.620471Z",
     "start_time": "2023-08-22T23:41:08.576877Z"
    }
   },
   "outputs": [],
   "source": [
    "cleaned.to_csv(CLEANED, sep='\\t', index=False)"
   ]
  },
  {
   "cell_type": "markdown",
   "id": "f5c9c7c2",
   "metadata": {},
   "source": [
    "# intersect tiles back into cleaned archetype dataset "
   ]
  },
  {
   "cell_type": "code",
   "execution_count": 21,
   "id": "e0ca5aff",
   "metadata": {
    "ExecuteTime": {
     "end_time": "2023-08-22T23:45:24.053543Z",
     "start_time": "2023-08-22T23:45:15.519256Z"
    }
   },
   "outputs": [
    {
     "data": {
      "text/plain": [
       "<BedTool(/wynton/group/ahituv/biomarin/library_2/Design/biomarin-lib2-hg38-final.x.vierstra.archetypes.cleaned.re-intersect.lib1.bed)>"
      ]
     },
     "execution_count": 21,
     "metadata": {},
     "output_type": "execute_result"
    }
   ],
   "source": [
    "A = pbt.BedTool(TILES)\n",
    "B = pbt.BedTool(CLEANED)\n",
    "\n",
    "C = os.path.join(PATH, f\"{PREFIX}.x.vierstra.archetypes.cleaned.re-intersect.lib1.bed\")\n",
    "\n",
    "A.intersect(B, wa=True, wb=True, output=C)"
   ]
  },
  {
   "cell_type": "markdown",
   "id": "4ef86477",
   "metadata": {},
   "source": [
    "# format and pivot table for archetype data"
   ]
  },
  {
   "cell_type": "code",
   "execution_count": 23,
   "id": "6fb8ef81",
   "metadata": {
    "ExecuteTime": {
     "end_time": "2023-08-22T23:48:07.921959Z",
     "start_time": "2023-08-22T23:47:59.460139Z"
    }
   },
   "outputs": [
    {
     "name": "stderr",
     "output_type": "stream",
     "text": [
      "/scratch/fongsl/ipykernel_47534/854304351.py:7: DtypeWarning: Columns (3) have mixed types. Specify dtype option on import or set low_memory=False.\n",
      "  df = pd.read_csv(C, sep='\\t', header=None,\n"
     ]
    },
    {
     "name": "stdout",
     "output_type": "stream",
     "text": [
      "(4471990, 7)\n"
     ]
    },
    {
     "data": {
      "text/html": [
       "<div>\n",
       "<style scoped>\n",
       "    .dataframe tbody tr th:only-of-type {\n",
       "        vertical-align: middle;\n",
       "    }\n",
       "\n",
       "    .dataframe tbody tr th {\n",
       "        vertical-align: top;\n",
       "    }\n",
       "\n",
       "    .dataframe thead th {\n",
       "        text-align: right;\n",
       "    }\n",
       "</style>\n",
       "<table border=\"1\" class=\"dataframe\">\n",
       "  <thead>\n",
       "    <tr style=\"text-align: right;\">\n",
       "      <th></th>\n",
       "      <th>#chr</th>\n",
       "      <th>start_tile</th>\n",
       "      <th>end_tile</th>\n",
       "      <th>id</th>\n",
       "      <th>TFArch</th>\n",
       "      <th>TFStrand</th>\n",
       "      <th>TFscore</th>\n",
       "    </tr>\n",
       "  </thead>\n",
       "  <tbody>\n",
       "    <tr>\n",
       "      <th>0</th>\n",
       "      <td>chr22</td>\n",
       "      <td>31898081</td>\n",
       "      <td>31898351</td>\n",
       "      <td>shuffle_64</td>\n",
       "      <td>GC-tract</td>\n",
       "      <td>+</td>\n",
       "      <td>9.8098</td>\n",
       "    </tr>\n",
       "    <tr>\n",
       "      <th>1</th>\n",
       "      <td>chr22</td>\n",
       "      <td>31898081</td>\n",
       "      <td>31898351</td>\n",
       "      <td>shuffle_64</td>\n",
       "      <td>ZNF354</td>\n",
       "      <td>-</td>\n",
       "      <td>7.3128</td>\n",
       "    </tr>\n",
       "    <tr>\n",
       "      <th>2</th>\n",
       "      <td>chr22</td>\n",
       "      <td>31898081</td>\n",
       "      <td>31898351</td>\n",
       "      <td>shuffle_64</td>\n",
       "      <td>PRDM4</td>\n",
       "      <td>-</td>\n",
       "      <td>2.1860</td>\n",
       "    </tr>\n",
       "    <tr>\n",
       "      <th>3</th>\n",
       "      <td>chr22</td>\n",
       "      <td>31898081</td>\n",
       "      <td>31898351</td>\n",
       "      <td>shuffle_64</td>\n",
       "      <td>LEF1</td>\n",
       "      <td>-</td>\n",
       "      <td>7.8040</td>\n",
       "    </tr>\n",
       "    <tr>\n",
       "      <th>4</th>\n",
       "      <td>chr22</td>\n",
       "      <td>31898081</td>\n",
       "      <td>31898351</td>\n",
       "      <td>shuffle_64</td>\n",
       "      <td>IRF/2</td>\n",
       "      <td>+</td>\n",
       "      <td>7.8743</td>\n",
       "    </tr>\n",
       "  </tbody>\n",
       "</table>\n",
       "</div>"
      ],
      "text/plain": [
       "    #chr  start_tile  end_tile          id    TFArch TFStrand  TFscore\n",
       "0  chr22    31898081  31898351  shuffle_64  GC-tract        +   9.8098\n",
       "1  chr22    31898081  31898351  shuffle_64    ZNF354        -   7.3128\n",
       "2  chr22    31898081  31898351  shuffle_64     PRDM4        -   2.1860\n",
       "3  chr22    31898081  31898351  shuffle_64      LEF1        -   7.8040\n",
       "4  chr22    31898081  31898351  shuffle_64     IRF/2        +   7.8743"
      ]
     },
     "execution_count": 23,
     "metadata": {},
     "output_type": "execute_result"
    }
   ],
   "source": [
    "if LIB == \"lib1\":\n",
    "    keepcols =[0,1,2,5,10,14,15,16]\n",
    "    names = [\"#chr\", 'start_tile', \"end_tile\",\"cell_origin\",\"enh_id\", \"TFArch\", \"TFStrand\", \"TFscore\"]\n",
    "else:\n",
    "    keepcols =[0,1,2,3,7,8,9]\n",
    "    names = [\"#chr\", 'start_tile', \"end_tile\",\"id\", \"TFArch\", \"TFStrand\", \"TFscore\"]\n",
    "df = pd.read_csv(C, sep='\\t', header=None, \n",
    "                usecols =keepcols, names=names\n",
    "                ).drop_duplicates()\n",
    "print(df.shape)\n",
    "\n",
    "df.head()"
   ]
  },
  {
   "cell_type": "markdown",
   "id": "52b34a03",
   "metadata": {},
   "source": [
    "## add tile coordinates back in"
   ]
  },
  {
   "cell_type": "code",
   "execution_count": 24,
   "id": "df839d12",
   "metadata": {
    "ExecuteTime": {
     "end_time": "2023-08-22T23:48:18.606103Z",
     "start_time": "2023-08-22T23:48:13.273364Z"
    }
   },
   "outputs": [
    {
     "data": {
      "text/html": [
       "<div>\n",
       "<style scoped>\n",
       "    .dataframe tbody tr th:only-of-type {\n",
       "        vertical-align: middle;\n",
       "    }\n",
       "\n",
       "    .dataframe tbody tr th {\n",
       "        vertical-align: top;\n",
       "    }\n",
       "\n",
       "    .dataframe thead th {\n",
       "        text-align: right;\n",
       "    }\n",
       "</style>\n",
       "<table border=\"1\" class=\"dataframe\">\n",
       "  <thead>\n",
       "    <tr style=\"text-align: right;\">\n",
       "      <th></th>\n",
       "      <th>#chr</th>\n",
       "      <th>start_tile</th>\n",
       "      <th>end_tile</th>\n",
       "      <th>id</th>\n",
       "      <th>TFArch</th>\n",
       "      <th>TFStrand</th>\n",
       "      <th>TFscore</th>\n",
       "      <th>tile.coor</th>\n",
       "    </tr>\n",
       "  </thead>\n",
       "  <tbody>\n",
       "    <tr>\n",
       "      <th>0</th>\n",
       "      <td>chr22</td>\n",
       "      <td>31898081</td>\n",
       "      <td>31898351</td>\n",
       "      <td>shuffle_64</td>\n",
       "      <td>GC-tract</td>\n",
       "      <td>+</td>\n",
       "      <td>9.8098</td>\n",
       "      <td>chr22:31898081-31898351</td>\n",
       "    </tr>\n",
       "    <tr>\n",
       "      <th>1</th>\n",
       "      <td>chr22</td>\n",
       "      <td>31898081</td>\n",
       "      <td>31898351</td>\n",
       "      <td>shuffle_64</td>\n",
       "      <td>ZNF354</td>\n",
       "      <td>-</td>\n",
       "      <td>7.3128</td>\n",
       "      <td>chr22:31898081-31898351</td>\n",
       "    </tr>\n",
       "    <tr>\n",
       "      <th>2</th>\n",
       "      <td>chr22</td>\n",
       "      <td>31898081</td>\n",
       "      <td>31898351</td>\n",
       "      <td>shuffle_64</td>\n",
       "      <td>PRDM4</td>\n",
       "      <td>-</td>\n",
       "      <td>2.1860</td>\n",
       "      <td>chr22:31898081-31898351</td>\n",
       "    </tr>\n",
       "    <tr>\n",
       "      <th>3</th>\n",
       "      <td>chr22</td>\n",
       "      <td>31898081</td>\n",
       "      <td>31898351</td>\n",
       "      <td>shuffle_64</td>\n",
       "      <td>LEF1</td>\n",
       "      <td>-</td>\n",
       "      <td>7.8040</td>\n",
       "      <td>chr22:31898081-31898351</td>\n",
       "    </tr>\n",
       "    <tr>\n",
       "      <th>4</th>\n",
       "      <td>chr22</td>\n",
       "      <td>31898081</td>\n",
       "      <td>31898351</td>\n",
       "      <td>shuffle_64</td>\n",
       "      <td>IRF/2</td>\n",
       "      <td>+</td>\n",
       "      <td>7.8743</td>\n",
       "      <td>chr22:31898081-31898351</td>\n",
       "    </tr>\n",
       "  </tbody>\n",
       "</table>\n",
       "</div>"
      ],
      "text/plain": [
       "    #chr  start_tile  end_tile          id    TFArch TFStrand  TFscore  \\\n",
       "0  chr22    31898081  31898351  shuffle_64  GC-tract        +   9.8098   \n",
       "1  chr22    31898081  31898351  shuffle_64    ZNF354        -   7.3128   \n",
       "2  chr22    31898081  31898351  shuffle_64     PRDM4        -   2.1860   \n",
       "3  chr22    31898081  31898351  shuffle_64      LEF1        -   7.8040   \n",
       "4  chr22    31898081  31898351  shuffle_64     IRF/2        +   7.8743   \n",
       "\n",
       "                 tile.coor  \n",
       "0  chr22:31898081-31898351  \n",
       "1  chr22:31898081-31898351  \n",
       "2  chr22:31898081-31898351  \n",
       "3  chr22:31898081-31898351  \n",
       "4  chr22:31898081-31898351  "
      ]
     },
     "execution_count": 24,
     "metadata": {},
     "output_type": "execute_result"
    }
   ],
   "source": [
    "df = chr_functions.makeCoorAnnot(df, \"#chr\", 'start_tile', \"end_tile\", \"tile\")\n",
    "df.head()"
   ]
  },
  {
   "cell_type": "markdown",
   "id": "c7f1824b",
   "metadata": {},
   "source": [
    "## groupby max score regardless of strand (creates redundancies. too hard.) and pivot"
   ]
  },
  {
   "cell_type": "code",
   "execution_count": 25,
   "id": "eec30cbe",
   "metadata": {
    "ExecuteTime": {
     "end_time": "2023-08-22T23:48:40.846763Z",
     "start_time": "2023-08-22T23:48:37.011269Z"
    }
   },
   "outputs": [
    {
     "data": {
      "text/html": [
       "<div>\n",
       "<style scoped>\n",
       "    .dataframe tbody tr th:only-of-type {\n",
       "        vertical-align: middle;\n",
       "    }\n",
       "\n",
       "    .dataframe tbody tr th {\n",
       "        vertical-align: top;\n",
       "    }\n",
       "\n",
       "    .dataframe thead th {\n",
       "        text-align: right;\n",
       "    }\n",
       "</style>\n",
       "<table border=\"1\" class=\"dataframe\">\n",
       "  <thead>\n",
       "    <tr style=\"text-align: right;\">\n",
       "      <th>TFArch</th>\n",
       "      <th>tile.coor</th>\n",
       "      <th>AHR</th>\n",
       "      <th>AIRE</th>\n",
       "      <th>AP1/1</th>\n",
       "      <th>AP1/2</th>\n",
       "      <th>ARI5A</th>\n",
       "      <th>ARI5B</th>\n",
       "      <th>BATF</th>\n",
       "      <th>BCL6/1</th>\n",
       "      <th>BCL6/2</th>\n",
       "      <th>...</th>\n",
       "      <th>ZNF652</th>\n",
       "      <th>ZNF667</th>\n",
       "      <th>ZNF680</th>\n",
       "      <th>ZNF708</th>\n",
       "      <th>ZNF713</th>\n",
       "      <th>ZNF768</th>\n",
       "      <th>ZNF784</th>\n",
       "      <th>ZNF85</th>\n",
       "      <th>ZSCAN3</th>\n",
       "      <th>ZSCAN4</th>\n",
       "    </tr>\n",
       "  </thead>\n",
       "  <tbody>\n",
       "    <tr>\n",
       "      <th>0</th>\n",
       "      <td>chr10:101031026-101031296</td>\n",
       "      <td>NaN</td>\n",
       "      <td>NaN</td>\n",
       "      <td>NaN</td>\n",
       "      <td>NaN</td>\n",
       "      <td>NaN</td>\n",
       "      <td>NaN</td>\n",
       "      <td>NaN</td>\n",
       "      <td>NaN</td>\n",
       "      <td>7.4566</td>\n",
       "      <td>...</td>\n",
       "      <td>NaN</td>\n",
       "      <td>8.4637</td>\n",
       "      <td>NaN</td>\n",
       "      <td>7.1276</td>\n",
       "      <td>NaN</td>\n",
       "      <td>8.8228</td>\n",
       "      <td>NaN</td>\n",
       "      <td>NaN</td>\n",
       "      <td>7.1462</td>\n",
       "      <td>NaN</td>\n",
       "    </tr>\n",
       "    <tr>\n",
       "      <th>1</th>\n",
       "      <td>chr10:101031046-101031316</td>\n",
       "      <td>NaN</td>\n",
       "      <td>NaN</td>\n",
       "      <td>NaN</td>\n",
       "      <td>NaN</td>\n",
       "      <td>NaN</td>\n",
       "      <td>NaN</td>\n",
       "      <td>NaN</td>\n",
       "      <td>NaN</td>\n",
       "      <td>NaN</td>\n",
       "      <td>...</td>\n",
       "      <td>NaN</td>\n",
       "      <td>8.4637</td>\n",
       "      <td>NaN</td>\n",
       "      <td>7.1276</td>\n",
       "      <td>NaN</td>\n",
       "      <td>8.8228</td>\n",
       "      <td>NaN</td>\n",
       "      <td>NaN</td>\n",
       "      <td>7.1462</td>\n",
       "      <td>NaN</td>\n",
       "    </tr>\n",
       "    <tr>\n",
       "      <th>2</th>\n",
       "      <td>chr10:101031066-101031336</td>\n",
       "      <td>NaN</td>\n",
       "      <td>NaN</td>\n",
       "      <td>NaN</td>\n",
       "      <td>NaN</td>\n",
       "      <td>NaN</td>\n",
       "      <td>NaN</td>\n",
       "      <td>NaN</td>\n",
       "      <td>NaN</td>\n",
       "      <td>NaN</td>\n",
       "      <td>...</td>\n",
       "      <td>NaN</td>\n",
       "      <td>8.4637</td>\n",
       "      <td>NaN</td>\n",
       "      <td>7.1276</td>\n",
       "      <td>NaN</td>\n",
       "      <td>4.3834</td>\n",
       "      <td>NaN</td>\n",
       "      <td>NaN</td>\n",
       "      <td>NaN</td>\n",
       "      <td>NaN</td>\n",
       "    </tr>\n",
       "    <tr>\n",
       "      <th>3</th>\n",
       "      <td>chr10:101031086-101031356</td>\n",
       "      <td>NaN</td>\n",
       "      <td>NaN</td>\n",
       "      <td>NaN</td>\n",
       "      <td>NaN</td>\n",
       "      <td>NaN</td>\n",
       "      <td>NaN</td>\n",
       "      <td>NaN</td>\n",
       "      <td>NaN</td>\n",
       "      <td>NaN</td>\n",
       "      <td>...</td>\n",
       "      <td>NaN</td>\n",
       "      <td>8.4637</td>\n",
       "      <td>NaN</td>\n",
       "      <td>7.1276</td>\n",
       "      <td>NaN</td>\n",
       "      <td>4.3834</td>\n",
       "      <td>NaN</td>\n",
       "      <td>NaN</td>\n",
       "      <td>NaN</td>\n",
       "      <td>NaN</td>\n",
       "    </tr>\n",
       "    <tr>\n",
       "      <th>4</th>\n",
       "      <td>chr10:101031106-101031376</td>\n",
       "      <td>NaN</td>\n",
       "      <td>NaN</td>\n",
       "      <td>NaN</td>\n",
       "      <td>NaN</td>\n",
       "      <td>NaN</td>\n",
       "      <td>NaN</td>\n",
       "      <td>NaN</td>\n",
       "      <td>NaN</td>\n",
       "      <td>NaN</td>\n",
       "      <td>...</td>\n",
       "      <td>NaN</td>\n",
       "      <td>8.4637</td>\n",
       "      <td>NaN</td>\n",
       "      <td>7.1276</td>\n",
       "      <td>NaN</td>\n",
       "      <td>4.3834</td>\n",
       "      <td>NaN</td>\n",
       "      <td>NaN</td>\n",
       "      <td>NaN</td>\n",
       "      <td>NaN</td>\n",
       "    </tr>\n",
       "  </tbody>\n",
       "</table>\n",
       "<p>5 rows × 283 columns</p>\n",
       "</div>"
      ],
      "text/plain": [
       "TFArch                  tile.coor  AHR  AIRE  AP1/1  AP1/2  ARI5A  ARI5B  \\\n",
       "0       chr10:101031026-101031296  NaN   NaN    NaN    NaN    NaN    NaN   \n",
       "1       chr10:101031046-101031316  NaN   NaN    NaN    NaN    NaN    NaN   \n",
       "2       chr10:101031066-101031336  NaN   NaN    NaN    NaN    NaN    NaN   \n",
       "3       chr10:101031086-101031356  NaN   NaN    NaN    NaN    NaN    NaN   \n",
       "4       chr10:101031106-101031376  NaN   NaN    NaN    NaN    NaN    NaN   \n",
       "\n",
       "TFArch  BATF  BCL6/1  BCL6/2  ...  ZNF652  ZNF667  ZNF680  ZNF708  ZNF713  \\\n",
       "0        NaN     NaN  7.4566  ...     NaN  8.4637     NaN  7.1276     NaN   \n",
       "1        NaN     NaN     NaN  ...     NaN  8.4637     NaN  7.1276     NaN   \n",
       "2        NaN     NaN     NaN  ...     NaN  8.4637     NaN  7.1276     NaN   \n",
       "3        NaN     NaN     NaN  ...     NaN  8.4637     NaN  7.1276     NaN   \n",
       "4        NaN     NaN     NaN  ...     NaN  8.4637     NaN  7.1276     NaN   \n",
       "\n",
       "TFArch  ZNF768  ZNF784  ZNF85  ZSCAN3  ZSCAN4  \n",
       "0       8.8228     NaN    NaN  7.1462     NaN  \n",
       "1       8.8228     NaN    NaN  7.1462     NaN  \n",
       "2       4.3834     NaN    NaN     NaN     NaN  \n",
       "3       4.3834     NaN    NaN     NaN     NaN  \n",
       "4       4.3834     NaN    NaN     NaN     NaN  \n",
       "\n",
       "[5 rows x 283 columns]"
      ]
     },
     "execution_count": 25,
     "metadata": {},
     "output_type": "execute_result"
    }
   ],
   "source": [
    "table = pd.pivot(df.groupby([\"tile.coor\", \"TFArch\"])[\"TFscore\"].max().reset_index(), \n",
    "        index=\"tile.coor\", \n",
    "         columns=\"TFArch\", \n",
    "         values=\"TFscore\"\n",
    "        ).reset_index()\n",
    "\n",
    "table.head()"
   ]
  },
  {
   "cell_type": "markdown",
   "id": "2bc77f6f",
   "metadata": {},
   "source": [
    "## write table"
   ]
  },
  {
   "cell_type": "code",
   "execution_count": 26,
   "id": "a3237e16",
   "metadata": {
    "ExecuteTime": {
     "end_time": "2023-08-22T23:48:55.980130Z",
     "start_time": "2023-08-22T23:48:51.663491Z"
    }
   },
   "outputs": [],
   "source": [
    "table.drop_duplicates().to_csv(CLEANED_TABLE, sep='\\t', index=False)"
   ]
  },
  {
   "cell_type": "code",
   "execution_count": 28,
   "id": "ad2b8e54",
   "metadata": {
    "ExecuteTime": {
     "end_time": "2023-08-22T23:50:21.489502Z",
     "start_time": "2023-08-22T23:50:21.149183Z"
    }
   },
   "outputs": [
    {
     "data": {
      "text/plain": [
       "(34913, 283)"
      ]
     },
     "execution_count": 28,
     "metadata": {},
     "output_type": "execute_result"
    }
   ],
   "source": [
    "table.drop_duplicates().shape"
   ]
  },
  {
   "cell_type": "code",
   "execution_count": 27,
   "id": "e7d02c2e",
   "metadata": {
    "ExecuteTime": {
     "end_time": "2023-08-22T23:48:59.949104Z",
     "start_time": "2023-08-22T23:48:59.944092Z"
    }
   },
   "outputs": [
    {
     "data": {
      "text/plain": [
       "'/wynton/group/ahituv/biomarin/library_2/Design/biomarin-lib2-hg38-final.x.vierstra.archetypes.cleaned.table.bed'"
      ]
     },
     "execution_count": 27,
     "metadata": {},
     "output_type": "execute_result"
    }
   ],
   "source": [
    "CLEANED_TABLE"
   ]
  },
  {
   "cell_type": "code",
   "execution_count": null,
   "id": "5b2e8132",
   "metadata": {},
   "outputs": [],
   "source": [
    "tabl"
   ]
  }
 ],
 "metadata": {
  "kernelspec": {
   "display_name": "Python (mamba)",
   "language": "python",
   "name": "mamba"
  },
  "language_info": {
   "codemirror_mode": {
    "name": "ipython",
    "version": 3
   },
   "file_extension": ".py",
   "mimetype": "text/x-python",
   "name": "python",
   "nbconvert_exporter": "python",
   "pygments_lexer": "ipython3",
   "version": "3.9.16"
  },
  "toc": {
   "base_numbering": 1,
   "nav_menu": {},
   "number_sections": true,
   "sideBar": true,
   "skip_h1_title": false,
   "title_cell": "Table of Contents",
   "title_sidebar": "Contents",
   "toc_cell": false,
   "toc_position": {},
   "toc_section_display": true,
   "toc_window_display": false
  },
  "varInspector": {
   "cols": {
    "lenName": 16,
    "lenType": 16,
    "lenVar": 40
   },
   "kernels_config": {
    "python": {
     "delete_cmd_postfix": "",
     "delete_cmd_prefix": "del ",
     "library": "var_list.py",
     "varRefreshCmd": "print(var_dic_list())"
    },
    "r": {
     "delete_cmd_postfix": ") ",
     "delete_cmd_prefix": "rm(",
     "library": "var_list.r",
     "varRefreshCmd": "cat(var_dic_list()) "
    }
   },
   "types_to_exclude": [
    "module",
    "function",
    "builtin_function_or_method",
    "instance",
    "_Feature"
   ],
   "window_display": false
  }
 },
 "nbformat": 4,
 "nbformat_minor": 5
}
