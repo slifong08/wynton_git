{
 "cells": [
  {
   "cell_type": "code",
   "execution_count": 12,
   "id": "aff6902e",
   "metadata": {
    "ExecuteTime": {
     "end_time": "2023-08-22T21:45:27.905840Z",
     "start_time": "2023-08-22T21:45:27.902670Z"
    }
   },
   "outputs": [],
   "source": [
    "from Bio import SeqIO\n",
    "import config_readwrite as crw\n",
    "import os, sys"
   ]
  },
  {
   "cell_type": "code",
   "execution_count": 13,
   "id": "be63fef4",
   "metadata": {
    "ExecuteTime": {
     "end_time": "2023-08-22T21:45:28.425369Z",
     "start_time": "2023-08-22T21:45:28.304201Z"
    }
   },
   "outputs": [],
   "source": [
    "config, cfn = crw.read(os.path.join(os.path.dirname(os.path.dirname(os.getcwd())), \"config.ini\"))"
   ]
  },
  {
   "cell_type": "code",
   "execution_count": 14,
   "id": "688b8329",
   "metadata": {
    "ExecuteTime": {
     "end_time": "2023-08-22T21:45:28.783516Z",
     "start_time": "2023-08-22T21:45:28.777046Z"
    }
   },
   "outputs": [],
   "source": [
    "section = \"local_path\"\n",
    "PATH=config[section][\"data\"]\n",
    "\n",
    "section = \"data\"\n",
    "FASTA=config[section][\"fasta\"]\n",
    "\n",
    "FASTA_SEI = os.path.splitext(FASTA)[0] + \".sei_padded.fa\"\n",
    "FASTA_SEI_TEST = os.path.splitext(FASTA)[0] + \".sei_padded.test.fa\"\n",
    "\n",
    "section = \"sei\"\n",
    "crw.check(config, section)\n",
    "\n",
    "config[section][\"fasta\"] = FASTA_SEI\n",
    "config[section][\"fasta_test\"] = FASTA_SEI_TEST\n",
    "crw.write(config, cfn)"
   ]
  },
  {
   "cell_type": "markdown",
   "id": "042d4e12",
   "metadata": {},
   "source": [
    "# function"
   ]
  },
  {
   "cell_type": "markdown",
   "id": "dd0cbbbb",
   "metadata": {},
   "source": [
    "## for inserting sequence"
   ]
  },
  {
   "cell_type": "code",
   "execution_count": 4,
   "id": "614759a8",
   "metadata": {
    "ExecuteTime": {
     "end_time": "2023-08-22T21:45:29.668208Z",
     "start_time": "2023-08-22T21:45:29.661836Z"
    }
   },
   "outputs": [],
   "source": [
    "def seqInsert(seq, insert_start, insert_seq):\n",
    "    \"\"\"\n",
    "    insert sequence fragment (insert_seq) at position (insert_start) within full sequence (seq)\n",
    "    \n",
    "    Insert into center if insert_start is None \n",
    "\n",
    "    return inserted sequence. \n",
    "    \"\"\"\n",
    "\n",
    "    insert_size = len(insert_seq)\n",
    "    \n",
    "    if insert_start is None:\n",
    "        \n",
    "        insert_start = (len(seq)/2) - (insert_size/2)\n",
    "        #print(insert_start)\n",
    "\n",
    "    insert_end = insert_start + insert_size  # find center end\n",
    "\n",
    "    return seq[:int(insert_start)] + insert_seq + seq[int(insert_end):]"
   ]
  },
  {
   "cell_type": "markdown",
   "id": "edf7a236",
   "metadata": {},
   "source": [
    "## parse fasta"
   ]
  },
  {
   "cell_type": "code",
   "execution_count": 16,
   "id": "c8f3fb31",
   "metadata": {
    "ExecuteTime": {
     "end_time": "2023-08-22T21:45:31.890439Z",
     "start_time": "2023-08-22T21:45:31.885114Z"
    }
   },
   "outputs": [],
   "source": [
    "def trimSeq(seq, size):\n",
    "    \"\"\" find center of sequence and trim down to size\"\"\"\n",
    "    \n",
    "    center = len(seq)/2\n",
    "    start = center - (size/2)\n",
    "    end = center + (size/2) + 1\n",
    "    \n",
    "    return seq[start:end]\n",
    "\n",
    "def padSeq(fasta):\n",
    "    \"\"\" if sequence is shorter than 4096, pad, else trim\"\"\"\n",
    "    \n",
    "    max_len, PAD = 4096, \"N\"\n",
    "    OUT = os.path.splitext(fasta)[0] + \".sei_padded.fa\"\n",
    "    \n",
    "    sequences = [s for s in SeqIO.parse(FASTA, 'fasta')]\n",
    "\n",
    "    padded_sequences = []\n",
    "    \n",
    "    for n, seq in enumerate(sequences):\n",
    "        if len(seq.seq)<max_len:\n",
    "            padding = PAD*max_len # creating the padding string\n",
    "            padded_sequences.append(seqInsert(padding, None, seq)) # insert the sequence in the center, append to list\n",
    "        else:\n",
    "            padded_sequences.append(trimSeq(seq, max_len))\n",
    "   # SeqIO.write(padded_sequences, OUT, 'fasta')  # write all the sequences\n",
    "\n",
    "    return OUT\n"
   ]
  },
  {
   "cell_type": "markdown",
   "id": "03e4edf7",
   "metadata": {},
   "source": [
    "## Sei commands"
   ]
  },
  {
   "cell_type": "code",
   "execution_count": 6,
   "id": "8109f3da",
   "metadata": {
    "ExecuteTime": {
     "end_time": "2023-08-22T21:45:34.371856Z",
     "start_time": "2023-08-22T21:45:34.360077Z"
    }
   },
   "outputs": [],
   "source": [
    "def getHandles(fasta):\n",
    "    \"\"\"make a dictionary of all the output handles for one fasta file sei run\"\"\"\n",
    "    \n",
    "    SEI_SRC = \"/wynton/home/ahituv/fongsl/bin/sei-framework/\"\n",
    "    SEI_PATH = os.path.join(os.path.split(fasta)[0], \"sei_predictions\")\n",
    "\n",
    "    FASTA_CLEAN = os.path.splitext(fasta)[0] + \".clean.fa\"\n",
    "    FASTA_INDEX =  os.path.splitext(FASTA_CLEAN)[0] + \".index.txt\"\n",
    "    \n",
    "    PADDED  = os.path.splitext(FASTA_CLEAN)[0] + \".sei_padded.fa\"\n",
    "    PATH, HANDLE = os.path.split(PADDED)\n",
    "    HANDLE = HANDLE.strip(\".fa\")\n",
    "    \n",
    "    \n",
    "    CHROM_PATH= os.path.join(\n",
    "        SEI_PATH, \"chromatin-profiles-hdf5\")\n",
    "    \n",
    "    CHROM_OUT = os.path.join(CHROM_PATH, f\"{HANDLE}_predictions.h5\")\n",
    "    CLASS_OUT = os.path.join(CHROM_PATH, f\"{HANDLE}.raw_sequence_class_scores.npy\")\n",
    "    LABEL_OUT = os.path.join(CHROM_PATH, f\"{HANDLE}_row_labels.txt\")\n",
    "    CLASS_TABLE = os.path.join(CHROM_PATH, f\"{HANDLE}.raw_sequence_class_scores.table.tsv.gz\")\n",
    "    \n",
    "    \n",
    "    path_dict = {\n",
    "        \"FASTA\": fasta,\n",
    "        \"FASTA_CLEAN\":FASTA_CLEAN, \n",
    "        \"FASTA_INDEX\":FASTA_INDEX,\n",
    "        \"PADDED\":PADDED, \n",
    "        \"PATH\": PATH,\n",
    "        \"HANDLE\":HANDLE, \n",
    "        \"SEI_PATH\":SEI_PATH, \n",
    "        \"SEI_SRC\":SEI_SRC,\n",
    "        \"CHROM_PATH\": CHROM_PATH, \n",
    "        \"CHROM_PRED\": CHROM_OUT,\n",
    "        \"CLASS_PRED\" : CLASS_OUT, \n",
    "        \"LABELS\" : LABEL_OUT, \n",
    "        \"CLASS_TABLE\":CLASS_TABLE\n",
    "    }\n",
    "    \n",
    "    return path_dict\n",
    "def launchSeiPart1(fasta, build, gpu):\n",
    "\n",
    "    path_dict = getHandles(fasta)\n",
    "    \n",
    "    SEI_SRC = path_dict[\"SEI_SRC\"]\n",
    "    SEI_PATH = path_dict[\"SEI_PATH\"]\n",
    "    \n",
    "    CHROM_PRED = path_dict[\"CHROM_PRED\"]\n",
    "    \n",
    "    if os.path.exists(SEI_PATH) is False:\n",
    "        os.mkdir(SEI_PATH)\n",
    "        \n",
    "    print(SEI_PATH, \"\\n\", OUT)\n",
    "\n",
    "    GPU_BOOL = \"True\" if gpu is True else \"False\"\n",
    "\n",
    "    SCRIPT = os.path.join(SEI_SRC, \"sarah_scripts/launch_qsub.py\")\n",
    "\n",
    "    cmd = \" \".join(['python',\n",
    "           SCRIPT,\n",
    "           fasta,\n",
    "           build,\n",
    "           SEI_PATH,\n",
    "           GPU_BOOL\n",
    "           ])\n",
    "\n",
    "    if os.path.exists(CHROM_PRED) is False:\n",
    "        print(cmd)\n",
    "        #os.system(cmd)\n",
    "    else:\n",
    "        print('ran part1 already', CHROM_PRED)\n",
    "\n",
    "\n",
    "\n",
    "def launchSeiPart2(fasta):\n",
    "\n",
    "    path_dict = getHandles(fasta)\n",
    "    \n",
    "    SEI_SRC =  path_dict[\"SEI_SRC\"]\n",
    "    os.chdir(SEI_SRC)\n",
    "\n",
    "\n",
    "    # results file\n",
    "    CLASS_PRED = path_dict[\"CLASS_PRED\"]\n",
    "\n",
    "    # infile\n",
    "    CHROM_PATH = path_dict[\"CHROM_PATH\"]\n",
    "    CHROM_PRED = path_dict[\"CHROM_PRED\"]\n",
    "    # sei part 2 command\n",
    "    cmd = [\n",
    "            \"bash /wynton/home/ahituv/fongsl/bin/sei-framework/2_raw_sc_score.sh\",\n",
    "            CHROM_PRED, \n",
    "            CHROM_PATH\n",
    "            ]\n",
    "\n",
    "    # if not already run\n",
    "    if os.path.exists(CLASS_PRED) is False:\n",
    "        print(\" \".join(cmd))\n",
    "        #os.system(\" \".join(cmd))  # rn run in command line because of environment problem that you need to solve. \n",
    "    else:\n",
    "        print(\"ran part 2\", CLASS_PRED)\n",
    "        \n"
   ]
  },
  {
   "cell_type": "markdown",
   "id": "0f5a3353",
   "metadata": {},
   "source": [
    "# Params"
   ]
  },
  {
   "cell_type": "code",
   "execution_count": 7,
   "id": "b4fc7f3d",
   "metadata": {
    "ExecuteTime": {
     "start_time": "2023-08-22T21:49:59.367Z"
    }
   },
   "outputs": [],
   "source": [
    "GPU = True # if running on GPU node, need to login to gpudev1.wynton.ucsf.edu"
   ]
  },
  {
   "cell_type": "markdown",
   "id": "d8cea6c4",
   "metadata": {},
   "source": [
    "# Main "
   ]
  },
  {
   "cell_type": "code",
   "execution_count": 17,
   "id": "85b41911",
   "metadata": {
    "ExecuteTime": {
     "end_time": "2023-08-22T21:43:05.391652Z",
     "start_time": "2023-08-22T21:43:05.387269Z"
    }
   },
   "outputs": [],
   "source": [
    "# sequence padding w n\n",
    "FASTA_SEI = padSeq(FASTA)"
   ]
  },
  {
   "cell_type": "code",
   "execution_count": null,
   "id": "c2793836",
   "metadata": {
    "ExecuteTime": {
     "end_time": "2023-08-22T21:43:05.391652Z",
     "start_time": "2023-08-22T21:43:05.387269Z"
    }
   },
   "outputs": [],
   "source": [
    "# part1\n",
    "CHROM_PRED = launchSeiPart1(FASTA_SEI, \"hg38\", GPU)  \n",
    "\n",
    "#part2\n",
    "CLASS_PRED = launchSeiPart2(FASTA_SEI)"
   ]
  },
  {
   "cell_type": "code",
   "execution_count": 19,
   "id": "136d08fe",
   "metadata": {
    "ExecuteTime": {
     "end_time": "2023-08-22T21:43:05.391652Z",
     "start_time": "2023-08-22T21:43:05.387269Z"
    }
   },
   "outputs": [],
   "source": [
    "# write to config\n",
    "path_dict = getHandles(FASTA)\n",
    "for key, value in path_dict.items():\n",
    "    config[section][key] = value\n",
    "    \n",
    "crw.write(config, cfn)"
   ]
  },
  {
   "cell_type": "code",
   "execution_count": null,
   "id": "3c64e341",
   "metadata": {},
   "outputs": [],
   "source": []
  }
 ],
 "metadata": {
  "kernelspec": {
   "display_name": "Python (mamba)",
   "language": "python",
   "name": "mamba"
  },
  "language_info": {
   "codemirror_mode": {
    "name": "ipython",
    "version": 3
   },
   "file_extension": ".py",
   "mimetype": "text/x-python",
   "name": "python",
   "nbconvert_exporter": "python",
   "pygments_lexer": "ipython3",
   "version": "3.9.16"
  },
  "toc": {
   "base_numbering": 1,
   "nav_menu": {},
   "number_sections": true,
   "sideBar": true,
   "skip_h1_title": false,
   "title_cell": "Table of Contents",
   "title_sidebar": "Contents",
   "toc_cell": false,
   "toc_position": {},
   "toc_section_display": true,
   "toc_window_display": false
  },
  "varInspector": {
   "cols": {
    "lenName": 16,
    "lenType": 16,
    "lenVar": 40
   },
   "kernels_config": {
    "python": {
     "delete_cmd_postfix": "",
     "delete_cmd_prefix": "del ",
     "library": "var_list.py",
     "varRefreshCmd": "print(var_dic_list())"
    },
    "r": {
     "delete_cmd_postfix": ") ",
     "delete_cmd_prefix": "rm(",
     "library": "var_list.r",
     "varRefreshCmd": "cat(var_dic_list()) "
    }
   },
   "types_to_exclude": [
    "module",
    "function",
    "builtin_function_or_method",
    "instance",
    "_Feature"
   ],
   "window_display": false
  }
 },
 "nbformat": 4,
 "nbformat_minor": 5
}
