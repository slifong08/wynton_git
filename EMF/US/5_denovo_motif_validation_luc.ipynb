{
 "cells": [
  {
   "cell_type": "code",
   "execution_count": 1,
   "id": "220c131f",
   "metadata": {
    "ExecuteTime": {
     "end_time": "2024-03-08T20:10:04.446137Z",
     "start_time": "2024-03-08T20:09:58.604717Z"
    }
   },
   "outputs": [
    {
     "data": {
      "text/plain": [
       "('sans-serif', 'Arial', 18)"
      ]
     },
     "execution_count": 1,
     "metadata": {},
     "output_type": "execute_result"
    }
   ],
   "source": [
    "from Bio.SeqIO.FastaIO import SimpleFastaParser as sfp\n",
    "import os, sys\n",
    "import numpy as np\n",
    "import pandas as pd\n",
    "\n",
    "import config_readwrite as crw\n",
    "\n",
    "import matplotlib.pyplot as plt\n",
    "import seaborn as sns\n",
    "\n",
    "from scipy import stats\n",
    "\n",
    "import warnings\n",
    "warnings.filterwarnings(\"ignore\")\n",
    "import plot_params as pp\n",
    "\n",
    "pp.fonts()"
   ]
  },
  {
   "cell_type": "markdown",
   "id": "0f08314d",
   "metadata": {},
   "source": [
    "# config"
   ]
  },
  {
   "cell_type": "code",
   "execution_count": 2,
   "id": "1a082fb7",
   "metadata": {
    "ExecuteTime": {
     "end_time": "2024-03-08T20:10:04.659475Z",
     "start_time": "2024-03-08T20:10:04.448048Z"
    }
   },
   "outputs": [],
   "source": [
    "# read\n",
    "config, cfn = crw.read(os.path.join(os.path.dirname(os.getcwd()), \"config.ini\"))"
   ]
  },
  {
   "cell_type": "code",
   "execution_count": 3,
   "id": "4e3a4802",
   "metadata": {
    "ExecuteTime": {
     "end_time": "2024-03-08T20:10:04.668920Z",
     "start_time": "2024-03-08T20:10:04.662429Z"
    }
   },
   "outputs": [],
   "source": [
    "CL = \"HEPG2\"\n",
    "DATAHEPG2 = config[\"mpra\"][f'{CL}.clean.transformed'] \n",
    "\n",
    "CL = \"BJ\"\n",
    "DATABJ = config[\"mpra\"][f'{CL}.clean.transformed'] \n",
    "\n",
    "FASTA = config[\"mpra\"][\"fasta\"]\n",
    "\n",
    "MEME = config[\"meme\"][\"src\"]\n",
    "FIMO = config[\"fimo\"][\"src\"]\n",
    "RESULTS = config[\"path\"][\"results\"]\n",
    "BED = config[\"mpra\"][\"tile.bed\"]\n",
    "\n",
    "RE_MEME = os.path.join(RESULTS, \"meme\")\n",
    "RE_MEME_CL = os.path.join(RE_MEME, CL)\n",
    "\n",
    "# make the results\n",
    "for dirname in [RE_MEME, RE_MEME_CL]:\n",
    "    if os.path.exists(dirname) is False:\n",
    "        os.mkdir(dirname)\n",
    "\n",
    "# append meme path\n",
    "sys.path.append(MEME)\n",
    "\n",
    "# change directory \n",
    "os.chdir(RE_MEME_CL)"
   ]
  },
  {
   "cell_type": "code",
   "execution_count": 4,
   "id": "5ed98f72",
   "metadata": {
    "ExecuteTime": {
     "end_time": "2024-03-08T20:10:04.778321Z",
     "start_time": "2024-03-08T20:10:04.670514Z"
    }
   },
   "outputs": [],
   "source": [
    "# write\n",
    "\n",
    "section = \"meme\"\n",
    "\n",
    "config[section][f'results'] = RE_MEME\n",
    "config[section][CL] = RE_MEME_CL\n",
    "\n",
    "crw.write(config, cfn)"
   ]
  },
  {
   "cell_type": "markdown",
   "id": "1e277242",
   "metadata": {},
   "source": [
    "# load data"
   ]
  },
  {
   "cell_type": "code",
   "execution_count": 5,
   "id": "7c36385b",
   "metadata": {
    "ExecuteTime": {
     "end_time": "2024-03-08T20:10:04.884987Z",
     "start_time": "2024-03-08T20:10:04.780192Z"
    }
   },
   "outputs": [],
   "source": [
    "def openAndFilter(file_name):\n",
    "    df = pd.read_csv(file_name, sep='\\t')  # (58333, 38)\n",
    "    print(\"before filtering\", file_name,  df.shape)\n",
    "    df = df.loc[~df[\"label\"].str.contains(\"Synthetic\")].reset_index(\n",
    "        drop=True)  # (26803, 38)\n",
    "    print(\"filter out synthetics\", df.shape)\n",
    "    df = df.loc[~df[\"label\"].str.contains(\"Pos\")].reset_index(\n",
    "        drop=True)  # (26659, 38)\n",
    "    print(\"filter out positive controls\", df.shape, '\\n\\n')\n",
    "\n",
    "    return df"
   ]
  },
  {
   "cell_type": "code",
   "execution_count": 6,
   "id": "17c18a68",
   "metadata": {
    "ExecuteTime": {
     "end_time": "2024-03-08T20:10:05.636295Z",
     "start_time": "2024-03-08T20:10:04.886888Z"
    }
   },
   "outputs": [
    {
     "name": "stdout",
     "output_type": "stream",
     "text": [
      "before filtering /wynton/group/ahituv/fongsl/projects/US/data/full_bj_MPRA.clean.transformed.csv (58333, 38)\n",
      "filter out synthetics (26803, 38)\n",
      "filter out positive controls (26659, 38) \n",
      "\n",
      "\n"
     ]
    }
   ],
   "source": [
    "#hepg2 = openAndFilter(DATAHEPG2)\n",
    "bj = openAndFilter(DATABJ)"
   ]
  },
  {
   "cell_type": "code",
   "execution_count": 7,
   "id": "c48f975a",
   "metadata": {
    "ExecuteTime": {
     "end_time": "2024-03-08T20:10:05.642289Z",
     "start_time": "2024-03-08T20:10:05.638193Z"
    }
   },
   "outputs": [
    {
     "data": {
      "text/plain": [
       "(26659, 38)"
      ]
     },
     "execution_count": 7,
     "metadata": {},
     "output_type": "execute_result"
    }
   ],
   "source": [
    "bj.shape"
   ]
  },
  {
   "cell_type": "code",
   "execution_count": 8,
   "id": "763431fd",
   "metadata": {
    "ExecuteTime": {
     "end_time": "2024-03-08T20:10:05.833896Z",
     "start_time": "2024-03-08T20:10:05.644293Z"
    }
   },
   "outputs": [
    {
     "data": {
      "text/html": [
       "<div>\n",
       "<style scoped>\n",
       "    .dataframe tbody tr th:only-of-type {\n",
       "        vertical-align: middle;\n",
       "    }\n",
       "\n",
       "    .dataframe tbody tr th {\n",
       "        vertical-align: top;\n",
       "    }\n",
       "\n",
       "    .dataframe thead th {\n",
       "        text-align: right;\n",
       "    }\n",
       "</style>\n",
       "<table border=\"1\" class=\"dataframe\">\n",
       "  <thead>\n",
       "    <tr style=\"text-align: right;\">\n",
       "      <th></th>\n",
       "      <th>name</th>\n",
       "      <th>enh.id</th>\n",
       "      <th>enh.name</th>\n",
       "    </tr>\n",
       "  </thead>\n",
       "  <tbody>\n",
       "    <tr>\n",
       "      <th>0</th>\n",
       "      <td>hob_k27ac_down_chr1:826978-827247</td>\n",
       "      <td>chr1:826978-827704</td>\n",
       "      <td>enh.0</td>\n",
       "    </tr>\n",
       "    <tr>\n",
       "      <th>1</th>\n",
       "      <td>hob_k27ac_down_chr1:827110-827379</td>\n",
       "      <td>chr1:826978-827704</td>\n",
       "      <td>enh.0</td>\n",
       "    </tr>\n",
       "    <tr>\n",
       "      <th>2</th>\n",
       "      <td>hob_k27ac_down_chr1:827377-827646</td>\n",
       "      <td>chr1:826978-827704</td>\n",
       "      <td>enh.0</td>\n",
       "    </tr>\n",
       "    <tr>\n",
       "      <th>3</th>\n",
       "      <td>hob_k27ac_down_chr1:827435-827704</td>\n",
       "      <td>chr1:826978-827704</td>\n",
       "      <td>enh.0</td>\n",
       "    </tr>\n",
       "    <tr>\n",
       "      <th>4</th>\n",
       "      <td>hob_k27ac_down_chr1:827891-828160</td>\n",
       "      <td>chr1:827891-828160</td>\n",
       "      <td>enh.1</td>\n",
       "    </tr>\n",
       "  </tbody>\n",
       "</table>\n",
       "</div>"
      ],
      "text/plain": [
       "                                name              enh.id enh.name\n",
       "0  hob_k27ac_down_chr1:826978-827247  chr1:826978-827704    enh.0\n",
       "1  hob_k27ac_down_chr1:827110-827379  chr1:826978-827704    enh.0\n",
       "2  hob_k27ac_down_chr1:827377-827646  chr1:826978-827704    enh.0\n",
       "3  hob_k27ac_down_chr1:827435-827704  chr1:826978-827704    enh.0\n",
       "4  hob_k27ac_down_chr1:827891-828160  chr1:827891-828160    enh.1"
      ]
     },
     "execution_count": 8,
     "metadata": {},
     "output_type": "execute_result"
    }
   ],
   "source": [
    "enh = pd.read_csv(BED, sep='\\t')\n",
    "enh.head()"
   ]
  },
  {
   "cell_type": "code",
   "execution_count": 9,
   "id": "5c03a6b7",
   "metadata": {
    "ExecuteTime": {
     "end_time": "2024-03-08T20:10:05.968802Z",
     "start_time": "2024-03-08T20:10:05.837942Z"
    }
   },
   "outputs": [],
   "source": [
    "bj = pd.merge(bj, enh, how=\"left\")"
   ]
  },
  {
   "cell_type": "markdown",
   "id": "785307f0",
   "metadata": {},
   "source": [
    "# add direction "
   ]
  },
  {
   "cell_type": "code",
   "execution_count": 10,
   "id": "2631e96d",
   "metadata": {
    "ExecuteTime": {
     "end_time": "2024-03-08T20:10:06.059187Z",
     "start_time": "2024-03-08T20:10:05.970900Z"
    }
   },
   "outputs": [],
   "source": [
    "def labelDirection(df):\n",
    "\n",
    "    \"\"\"label sequences with different directions of change between US and Control\n",
    "    note\n",
    "\n",
    "    neg.US_UP == US MPRA activity is negative, but less negative than CTRL MPRA activity, which is also negative\n",
    "    pos.US_UP  == US MPRA activity is positive and more positive than CTRL MPRA activity, which is also positive. \n",
    "    US_UP == US activity is positive and higher than CTRL MPRA activity, which is negative. \n",
    "    \"\"\"\n",
    "    df[\"direction\"] = None\n",
    "\n",
    "    # Pos values only\n",
    "    df.loc[(df[\"l2.ratio.mean.us\"] > 0) &\n",
    "           (df[\"l2.ratio.mean.ctrl\"] > 0) &\n",
    "           (df[\"delta.mean\"] > 0),\n",
    "           \"direction\"] = \"Pos.US_UP\"\n",
    "\n",
    "    df.loc[(df[\"l2.ratio.mean.us\"] > 0) &\n",
    "           (df[\"l2.ratio.mean.ctrl\"] > 0) &\n",
    "           (df[\"delta.mean\"] < 0),\n",
    "           \"direction\"] = \"Pos.CTRL_UP\"\n",
    "\n",
    "    # Negtaive values only\n",
    "    df.loc[(df[\"l2.ratio.mean.us\"] < 0) &\n",
    "           (df[\"l2.ratio.mean.ctrl\"] < 0) &\n",
    "           (df[\"delta.mean\"] > 0),\n",
    "           \"direction\"] = \"Neg.CTRL_DOWN\"\n",
    "\n",
    "    df.loc[(df[\"l2.ratio.mean.us\"] < 0) &\n",
    "           (df[\"l2.ratio.mean.ctrl\"] < 0) &\n",
    "           (df[\"delta.mean\"] < 0),\n",
    "           \"direction\"] = \"Neg.US_DOWN\"\n",
    "\n",
    "    # crossing zero values only\n",
    "    df.loc[(df[\"l2.ratio.mean.us\"] > 0) &\n",
    "           (df[\"l2.ratio.mean.ctrl\"] < 0) &\n",
    "           (df[\"delta.mean\"] > 0),\n",
    "           \"direction\"] = \"US_UP\"\n",
    "\n",
    "    df.loc[(df[\"l2.ratio.mean.us\"] < 0) &\n",
    "           (df[\"l2.ratio.mean.ctrl\"] > 0) &\n",
    "           (df[\"delta.mean\"] < 0),\n",
    "           \"direction\"] = \"CTRL_UP\"\n",
    "\n",
    "    print(df.loc[df[\"direction\"] != None, [\"l2.ratio.mean.ctrl\",\n",
    "          \"l2.ratio.mean.us\", 'delta.mean', \"direction\"]].sample(n=20))\n",
    "    return df\n"
   ]
  },
  {
   "cell_type": "code",
   "execution_count": 11,
   "id": "e58bfb94",
   "metadata": {
    "ExecuteTime": {
     "end_time": "2024-03-08T20:10:06.168787Z",
     "start_time": "2024-03-08T20:10:06.061238Z"
    }
   },
   "outputs": [
    {
     "name": "stdout",
     "output_type": "stream",
     "text": [
      "       l2.ratio.mean.ctrl  l2.ratio.mean.us  delta.mean      direction\n",
      "23470            0.203643          0.191454   -0.012190    Pos.CTRL_UP\n",
      "20211           -0.170510         -0.149817    0.020693  Neg.CTRL_DOWN\n",
      "12678            0.236548          0.277101    0.040552      Pos.US_UP\n",
      "3996             0.412465          0.447781    0.035316      Pos.US_UP\n",
      "23743            0.204772          0.196481   -0.008290    Pos.CTRL_UP\n",
      "6069            -0.053922          0.163263    0.217184          US_UP\n",
      "26422           -1.164594         -1.166965   -0.002371    Neg.US_DOWN\n",
      "21349           -0.036731         -0.054713   -0.017982    Neg.US_DOWN\n",
      "25584           -0.216808         -0.223542   -0.006734    Neg.US_DOWN\n",
      "5366             0.022547          0.069319    0.046772      Pos.US_UP\n",
      "23127           -0.198322         -0.204550   -0.006228    Neg.US_DOWN\n",
      "19132            0.126068          0.105181   -0.020887    Pos.CTRL_UP\n",
      "19503            0.321723          0.310368   -0.011354    Pos.CTRL_UP\n",
      "6353            -0.737410         -0.810707   -0.073297    Neg.US_DOWN\n",
      "4793            -1.919602         -1.497248    0.422354  Neg.CTRL_DOWN\n",
      "9675            -0.674925         -0.547342    0.127583  Neg.CTRL_DOWN\n",
      "22827            0.459604          0.454268   -0.005335    Pos.CTRL_UP\n",
      "24827            0.036030          0.029741   -0.006289    Pos.CTRL_UP\n",
      "12250           -0.322956         -0.272938    0.050018  Neg.CTRL_DOWN\n",
      "25635            0.320508          0.319377   -0.001131    Pos.CTRL_UP\n"
     ]
    }
   ],
   "source": [
    "bj = labelDirection(bj)"
   ]
  },
  {
   "cell_type": "markdown",
   "id": "0a517f34",
   "metadata": {},
   "source": [
    "# make fasta from luc"
   ]
  },
  {
   "cell_type": "code",
   "execution_count": 13,
   "id": "9137ceee",
   "metadata": {
    "ExecuteTime": {
     "end_time": "2024-03-08T20:10:07.140411Z",
     "start_time": "2024-03-08T20:10:06.277738Z"
    }
   },
   "outputs": [],
   "source": [
    "LUC=\"/wynton/group/ahituv/fongsl/projects/US/data/validation_luc/Candidate_ID_table_luc.txt\"\n",
    "\n",
    "luc = pd.read_csv(LUC, sep='\\t')\n",
    "\n",
    "luc.head()\n",
    "\n",
    "luc_names = luc[[\"Sample name\", \"insert\"]].copy()\n",
    "\n",
    "luc_in_bj = pd.merge(bj, luc_names, left_on=\"name\", right_on=\"insert\")\n",
    "\n",
    "luc_mpra_names=set(luc_in_bj[\"name\"])  # get set of names tested in luc"
   ]
  },
  {
   "cell_type": "markdown",
   "id": "d1102fd7",
   "metadata": {},
   "source": [
    "# US up - BJ"
   ]
  },
  {
   "cell_type": "code",
   "execution_count": 15,
   "id": "ee88ba0e",
   "metadata": {
    "ExecuteTime": {
     "end_time": "2024-03-08T20:10:08.637798Z",
     "start_time": "2024-03-08T20:10:08.003937Z"
    }
   },
   "outputs": [],
   "source": [
    "EXP_NAME =\"exp5.luc\"\n",
    "DIRECTION = \"US_UP\"\n",
    "df = bj"
   ]
  },
  {
   "cell_type": "code",
   "execution_count": 16,
   "id": "36706ca0",
   "metadata": {
    "ExecuteTime": {
     "end_time": "2024-03-08T20:10:09.072767Z",
     "start_time": "2024-03-08T20:10:08.639754Z"
    },
    "code_folding": [
     0
    ]
   },
   "outputs": [],
   "source": [
    "def getDfDirectionSub(df, direction):\n",
    "    \"\"\"subset dataframe by directino of effect\"\"\"\n",
    "    \n",
    "    cols = [\"name\", \"label\", \"l2.ratio.mean.ctrl\",\n",
    "        'l2.ratio.mean.us', \"delta.mean\", \"direction\"]\n",
    "\n",
    "    df = df.loc[df[\"direction\"] == direction, cols].sort_values(by='l2.ratio.mean.us', ascending=False).copy()\n",
    "\n",
    "    return df\n",
    "\n",
    "\n",
    "\n",
    "def makeFasta(names, direction, re, exp_name, fa):\n",
    "    \"\"\"write fastas for each quantile based on list of sequence names\"\"\"\n",
    "    \n",
    "    \n",
    "    # files to write\n",
    "    FA = os.path.join(re, f\"{exp_name}.{direction}.fa\")\n",
    "\n",
    "    \n",
    "    # write positive, negative names and sequences\n",
    "\n",
    "    fa_writer = open(FA, \"w\") # open fa file to write\n",
    "\n",
    "    with open(fa, \"r\") as reader:  # open the full fa file\n",
    "        for value in sfp(reader):\n",
    "            seq_id, seq = value  # get sequence id, sequence\n",
    "            if seq_id in names:  # filter for sequences in pos/neg name list\n",
    "                fa_writer.write(f'>{seq_id}\\n{seq}\\n')  # write those sequences to fa\n",
    "    fa_writer.close()\n",
    "        \n",
    "    return FA\n",
    "\n",
    "def runFimo(fimo, meme_txt, fa, direction, exp):\n",
    "\n",
    "    OUTDIR = f\"./fimo/{direction}.{exp}\"\n",
    "    cmd = \" \".join([fimo,\n",
    "                    \"--oc\",\n",
    "                    OUTDIR,\n",
    "                    meme_txt,\n",
    "                    fa,\n",
    "\n",
    "                    ])\n",
    "    os.system(cmd)\n",
    "\n",
    "    return OUTDIR"
   ]
  },
  {
   "cell_type": "code",
   "execution_count": 17,
   "id": "a0c03591",
   "metadata": {
    "ExecuteTime": {
     "end_time": "2024-03-08T20:10:10.257482Z",
     "start_time": "2024-03-08T20:10:09.074693Z"
    }
   },
   "outputs": [
    {
     "data": {
      "text/plain": [
       "<matplotlib.legend.Legend at 0x7f4044559070>"
      ]
     },
     "execution_count": 17,
     "metadata": {},
     "output_type": "execute_result"
    },
    {
     "data": {
      "image/png": "[encoded data removed]",
      "text/plain": [
       "<Figure size 600x600 with 3 Axes>"
      ]
     },
     "metadata": {},
     "output_type": "display_data"
    }
   ],
   "source": [
    "\n",
    "# make fa of luc names\n",
    "FA = makeFasta(luc_mpra_names,  DIRECTION, RE_MEME_CL, EXP_NAME, FASTA)\n",
    "\n",
    "plot = luc_in_bj\n",
    "# fig,ax = plt.subplots(figsize=(6,6))\n",
    "hue_order = ['US_UP',\n",
    "             'CTRL_UP',\n",
    "             'Neg.US_DOWN',\n",
    "             'Neg.CTRL_DOWN',\n",
    "             'Pos.US_UP',\n",
    "             'Pos.CTRL_UP',\n",
    "             ]\n",
    "\n",
    "g = sns.jointplot(x=\"l2.ratio.mean.ctrl\", y=\"l2.ratio.mean.us\",\n",
    "                  data=plot, hue=\"direction\", hue_order=hue_order,\n",
    "                  palette='tab20'\n",
    "                 )\n",
    "g.ax_joint.legend(frameon=False, bbox_to_anchor=(2, 1))"
   ]
  },
  {
   "cell_type": "markdown",
   "id": "ac9063e5",
   "metadata": {},
   "source": [
    "## functions"
   ]
  },
  {
   "cell_type": "markdown",
   "id": "57f52300",
   "metadata": {},
   "source": [
    "        bottom 0.1 US_UP bkgd discovered motifs\n",
    "        CAGRCTCTCS\n",
    "        CCTGKRTGWGW\n",
    "        GAGRAGVMAGCMK\n",
    "        \n",
    "        bottom0.1 US_UP and shuffle bkgd\n",
    "        AGGAGGMAGC\n",
    "        AGRSCCCAGC\n",
    "        CARRCTCTCCT"
   ]
  },
  {
   "cell_type": "code",
   "execution_count": 18,
   "id": "c7602a67",
   "metadata": {
    "ExecuteTime": {
     "end_time": "2024-03-08T20:10:10.263569Z",
     "start_time": "2024-03-08T20:10:10.260005Z"
    }
   },
   "outputs": [],
   "source": [
    "TOP_QUANTILE =0.9\n",
    "MEME_TXT = os.path.join(RE_MEME_CL, f\"{CL}.{DIRECTION}.{TOP_QUANTILE}.meme.txt\")"
   ]
  },
  {
   "cell_type": "code",
   "execution_count": 19,
   "id": "e5483b12",
   "metadata": {
    "ExecuteTime": {
     "end_time": "2024-03-08T20:10:10.936326Z",
     "start_time": "2024-03-08T20:10:10.265202Z"
    }
   },
   "outputs": [
    {
     "name": "stderr",
     "output_type": "stream",
     "text": [
      "Using motif +CCCWGGCYCCTGC of width 13.\n",
      "Using motif -CCCWGGCYCCTGC of width 13.\n",
      "Computing q-values.\n",
      "# Computing q-values.\n",
      "#   Estimating pi_0 from a uniformly sampled set of 10000 p-values.\n",
      "#   Estimating pi_0.\n",
      "# Minimal pi_zero = 0.873233\n",
      "#   Estimated pi_0=0.886667\n",
      "Using motif +ASHCWGGMCTGG of width 12.\n",
      "Using motif -ASHCWGGMCTGG of width 12.\n",
      "Computing q-values.\n",
      "# Computing q-values.\n",
      "#   Estimating pi_0 from a uniformly sampled set of 10000 p-values.\n",
      "#   Estimating pi_0.\n",
      "# Minimal pi_zero = 0.943673\n",
      "#   Estimated pi_0=0.955169\n",
      "Using motif +CAGCWKYYCC of width 10.\n",
      "Using motif -CAGCWKYYCC of width 10.\n",
      "Computing q-values.\n",
      "# Computing q-values.\n",
      "#   Estimating pi_0 from a uniformly sampled set of 10000 p-values.\n",
      "#   Estimating pi_0.\n",
      "# Minimal pi_zero = 0.956063\n",
      "#   Estimated pi_0=0.961379\n"
     ]
    }
   ],
   "source": [
    "OUTDIR_LUC=  runFimo(FIMO, MEME_TXT, FA, DIRECTION, EXP_NAME)"
   ]
  },
  {
   "cell_type": "code",
   "execution_count": 28,
   "id": "8752d943",
   "metadata": {
    "ExecuteTime": {
     "end_time": "2024-03-08T20:23:15.914979Z",
     "start_time": "2024-03-08T20:23:15.905215Z"
    }
   },
   "outputs": [
    {
     "name": "stdout",
     "output_type": "stream",
     "text": [
      "(35, 12)\n"
     ]
    }
   ],
   "source": [
    "bottom_pred = os.path.join(OUTDIR_LUC, \"fimo.tsv\")\n",
    "\n",
    "\n",
    "bdf = pd.read_csv(bottom_pred, sep='\\t')\n",
    "bdf[\"quantile\"] = 'luc'\n",
    "bdf[\"-log10q\"]  = -1*np.log10(bdf[\"q-value\"])\n",
    "print(bdf.shape)\n",
    "\n",
    "\n",
    "# concatenate the top and bottom values\n",
    "plot = bdf\n",
    "\n"
   ]
  },
  {
   "cell_type": "code",
   "execution_count": 26,
   "id": "38e54f78",
   "metadata": {
    "ExecuteTime": {
     "end_time": "2024-03-08T20:22:35.798830Z",
     "start_time": "2024-03-08T20:22:35.769243Z"
    }
   },
   "outputs": [
    {
     "data": {
      "text/html": [
       "<div>\n",
       "<style scoped>\n",
       "    .dataframe tbody tr th:only-of-type {\n",
       "        vertical-align: middle;\n",
       "    }\n",
       "\n",
       "    .dataframe tbody tr th {\n",
       "        vertical-align: top;\n",
       "    }\n",
       "\n",
       "    .dataframe thead th {\n",
       "        text-align: right;\n",
       "    }\n",
       "</style>\n",
       "<table border=\"1\" class=\"dataframe\">\n",
       "  <thead>\n",
       "    <tr style=\"text-align: right;\">\n",
       "      <th></th>\n",
       "      <th>motif_id</th>\n",
       "      <th>motif_alt_id</th>\n",
       "      <th>sequence_name</th>\n",
       "      <th>start</th>\n",
       "      <th>stop</th>\n",
       "      <th>strand</th>\n",
       "      <th>score</th>\n",
       "      <th>p-value</th>\n",
       "      <th>q-value</th>\n",
       "      <th>matched_sequence</th>\n",
       "      <th>...</th>\n",
       "      <th>l2.ratio.mean.us</th>\n",
       "      <th>l2.ratio.std.us</th>\n",
       "      <th>delta.med</th>\n",
       "      <th>delta.mean</th>\n",
       "      <th>direction</th>\n",
       "      <th>-log10p</th>\n",
       "      <th>enh.id</th>\n",
       "      <th>enh.name</th>\n",
       "      <th>Sample name</th>\n",
       "      <th>insert</th>\n",
       "    </tr>\n",
       "  </thead>\n",
       "  <tbody>\n",
       "    <tr>\n",
       "      <th>0</th>\n",
       "      <td>CAGCWKYYCC</td>\n",
       "      <td>MEME-3</td>\n",
       "      <td>bj_k27ac_up_chr4:53763341-53763610</td>\n",
       "      <td>66.0</td>\n",
       "      <td>75.0</td>\n",
       "      <td>+</td>\n",
       "      <td>15.83490</td>\n",
       "      <td>0.000007</td>\n",
       "      <td>0.0792</td>\n",
       "      <td>CAGCATCCCC</td>\n",
       "      <td>...</td>\n",
       "      <td>0.431428</td>\n",
       "      <td>0.041973</td>\n",
       "      <td>0.520849</td>\n",
       "      <td>0.495254</td>\n",
       "      <td>US_UP</td>\n",
       "      <td>2.015071</td>\n",
       "      <td>chr4:53763341-53764193</td>\n",
       "      <td>enh.8052</td>\n",
       "      <td>BJ_U8</td>\n",
       "      <td>bj_k27ac_up_chr4:53763341-53763610</td>\n",
       "    </tr>\n",
       "    <tr>\n",
       "      <th>1</th>\n",
       "      <td>CAGCWKYYCC</td>\n",
       "      <td>MEME-3</td>\n",
       "      <td>bj_k27ac_up_chr4:53763341-53763610</td>\n",
       "      <td>57.0</td>\n",
       "      <td>66.0</td>\n",
       "      <td>+</td>\n",
       "      <td>9.20183</td>\n",
       "      <td>0.000028</td>\n",
       "      <td>0.1160</td>\n",
       "      <td>CAGCAGTGCC</td>\n",
       "      <td>...</td>\n",
       "      <td>0.431428</td>\n",
       "      <td>0.041973</td>\n",
       "      <td>0.520849</td>\n",
       "      <td>0.495254</td>\n",
       "      <td>US_UP</td>\n",
       "      <td>2.015071</td>\n",
       "      <td>chr4:53763341-53764193</td>\n",
       "      <td>enh.8052</td>\n",
       "      <td>BJ_U8</td>\n",
       "      <td>bj_k27ac_up_chr4:53763341-53763610</td>\n",
       "    </tr>\n",
       "    <tr>\n",
       "      <th>2</th>\n",
       "      <td>CCCWGGCYCCTGC</td>\n",
       "      <td>MEME-1</td>\n",
       "      <td>bj_k27ac_up_chr4:53763341-53763610</td>\n",
       "      <td>114.0</td>\n",
       "      <td>126.0</td>\n",
       "      <td>+</td>\n",
       "      <td>8.93578</td>\n",
       "      <td>0.000039</td>\n",
       "      <td>0.0590</td>\n",
       "      <td>CCCTGGCTCTCTC</td>\n",
       "      <td>...</td>\n",
       "      <td>0.431428</td>\n",
       "      <td>0.041973</td>\n",
       "      <td>0.520849</td>\n",
       "      <td>0.495254</td>\n",
       "      <td>US_UP</td>\n",
       "      <td>2.015071</td>\n",
       "      <td>chr4:53763341-53764193</td>\n",
       "      <td>enh.8052</td>\n",
       "      <td>BJ_U8</td>\n",
       "      <td>bj_k27ac_up_chr4:53763341-53763610</td>\n",
       "    </tr>\n",
       "    <tr>\n",
       "      <th>3</th>\n",
       "      <td>CCCWGGCYCCTGC</td>\n",
       "      <td>MEME-1</td>\n",
       "      <td>bj_k27ac_up_chr4:53763341-53763610</td>\n",
       "      <td>108.0</td>\n",
       "      <td>120.0</td>\n",
       "      <td>+</td>\n",
       "      <td>8.74312</td>\n",
       "      <td>0.000042</td>\n",
       "      <td>0.0590</td>\n",
       "      <td>CTCAGGCCCTGGC</td>\n",
       "      <td>...</td>\n",
       "      <td>0.431428</td>\n",
       "      <td>0.041973</td>\n",
       "      <td>0.520849</td>\n",
       "      <td>0.495254</td>\n",
       "      <td>US_UP</td>\n",
       "      <td>2.015071</td>\n",
       "      <td>chr4:53763341-53764193</td>\n",
       "      <td>enh.8052</td>\n",
       "      <td>BJ_U8</td>\n",
       "      <td>bj_k27ac_up_chr4:53763341-53763610</td>\n",
       "    </tr>\n",
       "    <tr>\n",
       "      <th>4</th>\n",
       "      <td>CCCWGGCYCCTGC</td>\n",
       "      <td>MEME-1</td>\n",
       "      <td>bj_k27ac_up_chr4:53763341-53763610</td>\n",
       "      <td>254.0</td>\n",
       "      <td>266.0</td>\n",
       "      <td>-</td>\n",
       "      <td>7.84404</td>\n",
       "      <td>0.000059</td>\n",
       "      <td>0.0590</td>\n",
       "      <td>CCCACCCTCCACC</td>\n",
       "      <td>...</td>\n",
       "      <td>0.431428</td>\n",
       "      <td>0.041973</td>\n",
       "      <td>0.520849</td>\n",
       "      <td>0.495254</td>\n",
       "      <td>US_UP</td>\n",
       "      <td>2.015071</td>\n",
       "      <td>chr4:53763341-53764193</td>\n",
       "      <td>enh.8052</td>\n",
       "      <td>BJ_U8</td>\n",
       "      <td>bj_k27ac_up_chr4:53763341-53763610</td>\n",
       "    </tr>\n",
       "  </tbody>\n",
       "</table>\n",
       "<p>5 rows × 54 columns</p>\n",
       "</div>"
      ],
      "text/plain": [
       "        motif_id motif_alt_id                       sequence_name  start  \\\n",
       "0     CAGCWKYYCC       MEME-3  bj_k27ac_up_chr4:53763341-53763610   66.0   \n",
       "1     CAGCWKYYCC       MEME-3  bj_k27ac_up_chr4:53763341-53763610   57.0   \n",
       "2  CCCWGGCYCCTGC       MEME-1  bj_k27ac_up_chr4:53763341-53763610  114.0   \n",
       "3  CCCWGGCYCCTGC       MEME-1  bj_k27ac_up_chr4:53763341-53763610  108.0   \n",
       "4  CCCWGGCYCCTGC       MEME-1  bj_k27ac_up_chr4:53763341-53763610  254.0   \n",
       "\n",
       "    stop strand     score   p-value  q-value matched_sequence  ...  \\\n",
       "0   75.0      +  15.83490  0.000007   0.0792       CAGCATCCCC  ...   \n",
       "1   66.0      +   9.20183  0.000028   0.1160       CAGCAGTGCC  ...   \n",
       "2  126.0      +   8.93578  0.000039   0.0590    CCCTGGCTCTCTC  ...   \n",
       "3  120.0      +   8.74312  0.000042   0.0590    CTCAGGCCCTGGC  ...   \n",
       "4  266.0      -   7.84404  0.000059   0.0590    CCCACCCTCCACC  ...   \n",
       "\n",
       "  l2.ratio.mean.us  l2.ratio.std.us  delta.med delta.mean direction   -log10p  \\\n",
       "0         0.431428         0.041973   0.520849   0.495254     US_UP  2.015071   \n",
       "1         0.431428         0.041973   0.520849   0.495254     US_UP  2.015071   \n",
       "2         0.431428         0.041973   0.520849   0.495254     US_UP  2.015071   \n",
       "3         0.431428         0.041973   0.520849   0.495254     US_UP  2.015071   \n",
       "4         0.431428         0.041973   0.520849   0.495254     US_UP  2.015071   \n",
       "\n",
       "                   enh.id  enh.name  Sample name  \\\n",
       "0  chr4:53763341-53764193  enh.8052        BJ_U8   \n",
       "1  chr4:53763341-53764193  enh.8052        BJ_U8   \n",
       "2  chr4:53763341-53764193  enh.8052        BJ_U8   \n",
       "3  chr4:53763341-53764193  enh.8052        BJ_U8   \n",
       "4  chr4:53763341-53764193  enh.8052        BJ_U8   \n",
       "\n",
       "                               insert  \n",
       "0  bj_k27ac_up_chr4:53763341-53763610  \n",
       "1  bj_k27ac_up_chr4:53763341-53763610  \n",
       "2  bj_k27ac_up_chr4:53763341-53763610  \n",
       "3  bj_k27ac_up_chr4:53763341-53763610  \n",
       "4  bj_k27ac_up_chr4:53763341-53763610  \n",
       "\n",
       "[5 rows x 54 columns]"
      ]
     },
     "execution_count": 26,
     "metadata": {},
     "output_type": "execute_result"
    }
   ],
   "source": [
    "merged = pd.merge(bdf, luc_in_bj, right_on= \"name\", left_on=\"sequence_name\")\n",
    "merged.head()"
   ]
  },
  {
   "cell_type": "code",
   "execution_count": null,
   "id": "330c5111",
   "metadata": {
    "ExecuteTime": {
     "start_time": "2024-03-08T22:57:13.259Z"
    }
   },
   "outputs": [],
   "source": [
    "merged['correct'] = False\n",
    "correct = [\"BJ_U9\",\n",
    "           \"BJ_D2\",\n",
    "           \"BJ_D4\",\n",
    "           \"BJ_D7\",\n",
    "           \"BJ_D8\",\n",
    "           \"BJ_D9\",\n",
    "           #\"HEPG2_D1\",\n",
    "           #\"HEPG2_D2\",\n",
    "           #\"HEPG2_D3\",\n",
    "           #\"HEPG2_D4\",\n",
    "           #\"HEPG2_D8\",\n",
    "           #\"HEPG2_U1\",\n",
    "           ]\n",
    "\n",
    "merged.loc[merged[\"Sample name\"].isin(correct), \"correct\"] = True\n",
    "merged.head()"
   ]
  },
  {
   "cell_type": "code",
   "execution_count": 34,
   "id": "6dda51a9",
   "metadata": {
    "ExecuteTime": {
     "end_time": "2024-03-08T20:24:40.221114Z",
     "start_time": "2024-03-08T20:24:39.783704Z"
    }
   },
   "outputs": [
    {
     "data": {
      "text/plain": [
       "<matplotlib.legend.Legend at 0x7f4005974250>"
      ]
     },
     "execution_count": 34,
     "metadata": {},
     "output_type": "execute_result"
    },
    {
     "data": {
      "image/png": "[encoded data removed]",
      "text/plain": [
       "<Figure size 600x600 with 1 Axes>"
      ]
     },
     "metadata": {},
     "output_type": "display_data"
    }
   ],
   "source": [
    "fig, ax= plt.subplots( figsize = (6,6))\n",
    "sns.violinplot(x=\"motif_alt_id\", y='-log10q', data= merged, #hue=\"correct\", \n",
    "               order = [\"MEME-1\", \"MEME-2\", \"MEME-3\"])\n",
    "sns.swarmplot(x=\"motif_alt_id\", y='-log10q', data= merged, hue=\"correct\", \n",
    "               order = [\"MEME-1\", \"MEME-2\", \"MEME-3\"])\n",
    "\n",
    "ax.set(ylim=(-0.10,2.75))\n",
    "ax.legend(frameon=False, bbox_to_anchor = (1,1)) "
   ]
  },
  {
   "cell_type": "code",
   "execution_count": 35,
   "id": "50f08741",
   "metadata": {
    "ExecuteTime": {
     "end_time": "2024-03-08T20:24:55.642730Z",
     "start_time": "2024-03-08T20:24:55.616316Z"
    }
   },
   "outputs": [
    {
     "ename": "NameError",
     "evalue": "name 'tdf' is not defined",
     "output_type": "error",
     "traceback": [
      "\u001b[0;31m---------------------------------------------------------------------------\u001b[0m",
      "\u001b[0;31mNameError\u001b[0m                                 Traceback (most recent call last)",
      "Cell \u001b[0;32mIn[35], line 5\u001b[0m\n\u001b[1;32m      2\u001b[0m VAL \u001b[38;5;241m=\u001b[39m  \u001b[38;5;124m\"\u001b[39m\u001b[38;5;124m-log10q\u001b[39m\u001b[38;5;124m\"\u001b[39m \u001b[38;5;66;03m#\"score\"\u001b[39;00m\n\u001b[1;32m      3\u001b[0m \u001b[38;5;28;01mfor\u001b[39;00m ID \u001b[38;5;129;01min\u001b[39;00m IDS: \n\u001b[0;32m----> 5\u001b[0m     a \u001b[38;5;241m=\u001b[39m \u001b[43mtdf\u001b[49m\u001b[38;5;241m.\u001b[39mloc[tdf[\u001b[38;5;124m\"\u001b[39m\u001b[38;5;124mmotif_alt_id\u001b[39m\u001b[38;5;124m\"\u001b[39m]\u001b[38;5;241m==\u001b[39mID, VAL]\n\u001b[1;32m      6\u001b[0m     b \u001b[38;5;241m=\u001b[39m bdf\u001b[38;5;241m.\u001b[39mloc[bdf[\u001b[38;5;124m\"\u001b[39m\u001b[38;5;124mmotif_alt_id\u001b[39m\u001b[38;5;124m\"\u001b[39m]\u001b[38;5;241m==\u001b[39mID, VAL]\n\u001b[1;32m      7\u001b[0m     \u001b[38;5;28mprint\u001b[39m(ID, stats\u001b[38;5;241m.\u001b[39mmannwhitneyu(a,b))\n",
      "\u001b[0;31mNameError\u001b[0m: name 'tdf' is not defined"
     ]
    }
   ],
   "source": [
    "IDS = [\"MEME-1\", \"MEME-2\", \"MEME-3\"]\n",
    "VAL =  \"-log10q\" #\"score\"\n",
    "for ID in IDS: \n",
    "\n",
    "    a = tdf.loc[tdf[\"motif_alt_id\"]==ID, VAL]\n",
    "    b = bdf.loc[bdf[\"motif_alt_id\"]==ID, VAL]\n",
    "    print(ID, stats.mannwhitneyu(a,b))"
   ]
  },
  {
   "cell_type": "markdown",
   "id": "ebe9e62e",
   "metadata": {
    "ExecuteTime": {
     "end_time": "2024-02-29T23:26:46.313584Z",
     "start_time": "2024-02-29T23:26:46.309755Z"
    }
   },
   "source": [
    "## Experiment 2: are motifs discovered in US_UP also discovered in POS.US_UP?\n",
    "    - hypothesis: top motifs in us_up are also driving increased activity in pos.US_up. \n",
    "    - approach: use FIMO to discover US_UP motifs in other data. \n",
    "    - data universe: sequences with positive baseline activity that increase activity w/ US"
   ]
  },
  {
   "cell_type": "code",
   "execution_count": null,
   "id": "9729074c",
   "metadata": {
    "ExecuteTime": {
     "end_time": "2024-03-08T20:10:13.247940Z",
     "start_time": "2024-03-08T20:10:13.247923Z"
    }
   },
   "outputs": [],
   "source": [
    "EXP_NAME =\"exp2\"\n",
    "DIRECTION = \"Pos.US_UP\""
   ]
  },
  {
   "cell_type": "markdown",
   "id": "049471ae",
   "metadata": {},
   "source": [
    "### pos.us_up sequences only"
   ]
  },
  {
   "cell_type": "code",
   "execution_count": null,
   "id": "5e8c24c4",
   "metadata": {
    "ExecuteTime": {
     "end_time": "2024-03-08T20:10:13.249309Z",
     "start_time": "2024-03-08T20:10:13.249291Z"
    }
   },
   "outputs": [],
   "source": [
    "### subset df by direction. \n",
    "\n",
    "df_dir = getDfDirectionSub(df, DIRECTION)\n",
    "\n",
    "### top and bottom 10% of direction changes. \n",
    "\n",
    "# top quantile of delta.means, no shuffle data leakage\n",
    "pos, pos_names, neg, neg_names = getQuantileDelta(df_dir, TOP_QUANTILE, df, False)\n",
    "\n",
    "plot = pd.concat([pos, neg])\n",
    "# fig,ax = plt.subplots(figsize=(6,6))\n",
    "hue_order = ['US_UP',\n",
    "             'CTRL_UP',\n",
    "             'Neg.US_DOWN',\n",
    "             'Neg.CTRL_DOWN',\n",
    "             'Pos.US_UP',\n",
    "             'Pos.CTRL_UP',\n",
    "             ]\n",
    "\n",
    "g = sns.jointplot(x=\"l2.ratio.mean.ctrl\", y=\"l2.ratio.mean.us\",\n",
    "                  data=plot, hue=\"direction\", hue_order=hue_order,\n",
    "                  palette='tab20'\n",
    "                 )\n",
    "g.ax_joint.legend(frameon=False, bbox_to_anchor=(2, 1))"
   ]
  },
  {
   "cell_type": "markdown",
   "id": "6462a1a8",
   "metadata": {
    "ExecuteTime": {
     "end_time": "2024-03-01T21:32:06.746337Z",
     "start_time": "2024-03-01T21:32:06.741997Z"
    }
   },
   "source": [
    "### clean up data leakage\n",
    "- tiled enhancers which may have overlapping information"
   ]
  },
  {
   "cell_type": "code",
   "execution_count": null,
   "id": "94f58c42",
   "metadata": {
    "ExecuteTime": {
     "end_time": "2024-03-08T20:10:13.251270Z",
     "start_time": "2024-03-08T20:10:13.251253Z"
    }
   },
   "outputs": [],
   "source": [
    "def getEnhSet(df, name_set):\n",
    "    enh_names = df.loc[df[\"name\"].isin(name_set), \"enh.name\"].unique()\n",
    "    linkedtiles = df.loc[df[\"enh.name\"].isin(enh_names), \"name\"].unique()\n",
    "    \n",
    "    return enh_names, linkedtiles"
   ]
  },
  {
   "cell_type": "code",
   "execution_count": null,
   "id": "f04f5f20",
   "metadata": {
    "ExecuteTime": {
     "end_time": "2024-03-08T20:10:13.253088Z",
     "start_time": "2024-03-08T20:10:13.253069Z"
    }
   },
   "outputs": [],
   "source": [
    "# get enh ids, linked tiles from exp1 dataset\n",
    "exp1pos_enhnames, exp1pos_linkedtiles = getEnhSet(bj, exp1up)\n",
    "exp1neg_enhnames, exp1neg_linkedtiles = getEnhSet(bj, exp1down)"
   ]
  },
  {
   "cell_type": "code",
   "execution_count": null,
   "id": "99817ea1",
   "metadata": {
    "ExecuteTime": {
     "end_time": "2024-03-08T20:10:13.254746Z",
     "start_time": "2024-03-08T20:10:13.254727Z"
    }
   },
   "outputs": [],
   "source": [
    "# remove exp 1 linked tiles\n",
    "pos_names_clean = set(pos_names).difference(set(exp1pos_linkedtiles))\n",
    "neg_names_clean = set(neg_names).difference(set(exp1neg_linkedtiles))\n",
    "\n",
    "# make fasta files from quantiles. \n",
    "FA_POS, FA_NEG = makeQuantileFasta(pos_names_clean, neg_names_clean, DIRECTION, RE_MEME_CL, TOP_QUANTILE, EXP_NAME, FASTA)\n",
    "\n",
    "# add to config\n",
    "config[section][f'{CL}.{DIRECTION}.{TOP_QUANTILE}.fa'] = FA_POS\n",
    "config[section][f'{CL}.{DIRECTION}.{BOTTOM_QUANTILE}.fa'] = FA_NEG\n",
    "\n",
    "crw.write(config, cfn)"
   ]
  },
  {
   "cell_type": "markdown",
   "id": "6597d507",
   "metadata": {},
   "source": [
    "### sanity check"
   ]
  },
  {
   "cell_type": "code",
   "execution_count": null,
   "id": "437b3633",
   "metadata": {
    "ExecuteTime": {
     "end_time": "2024-03-08T20:10:13.256228Z",
     "start_time": "2024-03-08T20:10:13.256212Z"
    }
   },
   "outputs": [],
   "source": [
    "shuf = bj.loc[bj[\"label\"] == \"Shuffle\"]\n",
    "genome = bj.loc[bj[\"label\"] != \"Shuffle\"]\n",
    "\n",
    "fig, ax = plt.subplots()\n",
    "\n",
    "\"\"\"\n",
    "sns.histplot(x=\"delta.mean\", data=df_dir,\n",
    "             label=f\"{DIRECTION}\", stat=\"percent\", kde=True,\n",
    "             color=\"w\", common_norm=False\n",
    "            )\n",
    "            \n",
    "\"\"\"\n",
    "sns.histplot(x=\"delta.mean\", data=shuf, label=\"shuffle\", kde=True,\n",
    "             stat=\"percent\", color=\"grey\", common_norm=False)\n",
    "sns.histplot(x=\"delta.mean\", data=pos, label=f\"{DIRECTION} top {TOP_QUANTILE}\",\n",
    "             kde=True,common_norm=False,\n",
    "             stat=\"percent\")\n",
    "sns.histplot(x=\"delta.mean\", data=neg, label=f\"{DIRECTION} bottom {BOTTOM_QUANTILE}\",\n",
    "             kde=True,common_norm=False,\n",
    "             stat=\"percent\")\n",
    "plt.legend(frameon=False, loc=\"upper left\")\n",
    "\n",
    "\n",
    "\n",
    "shuf[\"delta.mean\"].quantile(0.975), pos[\"delta.mean\"].describe()"
   ]
  },
  {
   "cell_type": "markdown",
   "id": "978fc1c2",
   "metadata": {},
   "source": [
    "## Fimo"
   ]
  },
  {
   "cell_type": "markdown",
   "id": "00a76ddb",
   "metadata": {},
   "source": [
    "### top "
   ]
  },
  {
   "cell_type": "code",
   "execution_count": null,
   "id": "d949e4a2",
   "metadata": {
    "ExecuteTime": {
     "end_time": "2024-03-08T20:10:13.258046Z",
     "start_time": "2024-03-08T20:10:13.258028Z"
    }
   },
   "outputs": [],
   "source": [
    "OUTDIR_TOP =  runFimo(FIMO, MEME_TXT, FA_POS, DIRECTION, TOP_QUANTILE)\n",
    "OUTDIR_BOTTOM =  runFimo(FIMO, MEME_TXT, FA_NEG, DIRECTION, BOTTOM_QUANTILE)"
   ]
  },
  {
   "cell_type": "markdown",
   "id": "a1c0fd3a",
   "metadata": {},
   "source": [
    "### FET enrichment"
   ]
  },
  {
   "cell_type": "code",
   "execution_count": null,
   "id": "54db87c6",
   "metadata": {
    "ExecuteTime": {
     "end_time": "2024-03-08T20:10:13.259379Z",
     "start_time": "2024-03-08T20:10:13.259363Z"
    }
   },
   "outputs": [],
   "source": [
    "OUTDIR_BOTTOM"
   ]
  },
  {
   "cell_type": "code",
   "execution_count": null,
   "id": "cfb42f16",
   "metadata": {
    "ExecuteTime": {
     "end_time": "2024-03-08T20:10:13.263442Z",
     "start_time": "2024-03-08T20:10:13.263291Z"
    }
   },
   "outputs": [],
   "source": [
    "bottom_pred = os.path.join(OUTDIR_BOTTOM, \"fimo.tsv\")\n",
    "top_pred = os.path.join(OUTDIR_TOP, \"fimo.tsv\")\n",
    "\n",
    "tdf = pd.read_csv(top_pred, sep='\\t')\n",
    "tdf[\"quantile\"] = 'top0.9'\n",
    "tdf[\"-log10q\"]  = -1*np.log10(tdf[\"q-value\"])\n",
    "print(tdf.shape)\n",
    "tdf.head()\n",
    "\n",
    "bdf = pd.read_csv(bottom_pred, sep='\\t')\n",
    "bdf[\"quantile\"] = 'bottom0.1'\n",
    "bdf[\"-log10q\"]  = -1*np.log10(bdf[\"q-value\"])\n",
    "print(bdf.shape)\n",
    "bdf.head()\n",
    "\n",
    "# concatenate the top and bottom values\n",
    "plot = pd.concat([tdf, bdf])\n",
    "\n",
    "fig, ax= plt.subplots( figsize = (6,6))\n",
    "sns.violinplot(x=\"motif_alt_id\", y='-log10q', data= plot, hue=\"quantile\", \n",
    "               order = [\"MEME-1\", \"MEME-2\", \"MEME-3\"])\n",
    "ax.set(ylim=(-0.10,2.75))\n",
    "ax.legend(frameon=False, loc='upper left')"
   ]
  },
  {
   "cell_type": "code",
   "execution_count": null,
   "id": "ffc1c92f",
   "metadata": {
    "ExecuteTime": {
     "end_time": "2024-03-08T20:10:13.265778Z",
     "start_time": "2024-03-08T20:10:13.265759Z"
    }
   },
   "outputs": [],
   "source": [
    "IDS = [\"MEME-1\", \"MEME-2\", \"MEME-3\"]\n",
    "VAL =  \"-log10q\" #\"score\"\n",
    "for ID in IDS: \n",
    "\n",
    "    a = tdf.loc[tdf[\"motif_alt_id\"]==ID, VAL]\n",
    "    b = bdf.loc[bdf[\"motif_alt_id\"]==ID, VAL]\n",
    "    print(ID, stats.mannwhitneyu(a,b))"
   ]
  },
  {
   "cell_type": "markdown",
   "id": "42d4be6a",
   "metadata": {},
   "source": [
    "## experiment 3 - loss of enrichmetn in CTRL_UP"
   ]
  },
  {
   "cell_type": "code",
   "execution_count": null,
   "id": "385b1ea8",
   "metadata": {
    "ExecuteTime": {
     "end_time": "2024-03-08T20:10:13.267321Z",
     "start_time": "2024-03-08T20:10:13.267305Z"
    }
   },
   "outputs": [],
   "source": [
    "EXP_NAME =\"exp3\"\n",
    "DIRECTION = \"CTRL_UP\"\n",
    "\n",
    "### subset df by direction. \n",
    "\n",
    "df_dir = getDfDirectionSub(df, DIRECTION)\n",
    "\n",
    "### top and bottom 10% of direction changes. \n",
    "\n",
    "# top quantile of delta.means\n",
    "pos, pos_names, neg, neg_names = getQuantileDelta(df_dir, TOP_QUANTILE, df, False)\n",
    "\n",
    "plot = pd.concat([pos, neg])\n",
    "# fig,ax = plt.subplots(figsize=(6,6))\n",
    "hue_order = ['US_UP',\n",
    "             'CTRL_UP',\n",
    "             'Neg.US_DOWN',\n",
    "             'Neg.CTRL_DOWN',\n",
    "             'Pos.US_UP',\n",
    "             'Pos.CTRL_UP',\n",
    "             ]\n",
    "\n",
    "g = sns.jointplot(x=\"l2.ratio.mean.ctrl\", y=\"l2.ratio.mean.us\",\n",
    "                  data=plot, hue=\"direction\", hue_order=hue_order,\n",
    "                  palette='tab20'\n",
    "                 )\n",
    "g.ax_joint.legend(frameon=False, bbox_to_anchor=(2, 1))"
   ]
  },
  {
   "cell_type": "code",
   "execution_count": null,
   "id": "53badbaf",
   "metadata": {
    "ExecuteTime": {
     "end_time": "2024-03-08T20:10:13.268927Z",
     "start_time": "2024-03-08T20:10:13.268910Z"
    }
   },
   "outputs": [],
   "source": [
    "# get enh ids, linked tiles from exp1 dataset\n",
    "exp1pos_enhnames, exp1pos_linkedtiles = getEnhSet(bj, exp1up)\n",
    "exp1neg_enhnames, exp1neg_linkedtiles = getEnhSet(bj, exp1down)"
   ]
  },
  {
   "cell_type": "code",
   "execution_count": null,
   "id": "c19b8ba2",
   "metadata": {
    "ExecuteTime": {
     "end_time": "2024-03-08T20:10:13.270083Z",
     "start_time": "2024-03-08T20:10:13.270066Z"
    }
   },
   "outputs": [],
   "source": [
    "# remove exp 1 linked tiles\n",
    "pos_names_clean = set(pos_names).difference(set(exp1pos_linkedtiles))\n",
    "neg_names_clean = set(neg_names).difference(set(exp1neg_linkedtiles))\n",
    "\n",
    "# make fasta files from quantiles. \n",
    "FA_POS, FA_NEG = makeQuantileFasta(pos_names_clean, neg_names_clean, DIRECTION, RE_MEME_CL, TOP_QUANTILE, EXP_NAME, FASTA)\n",
    "\n",
    "\n",
    "# add to config\n",
    "config[section][f'{CL}.{DIRECTION}.{TOP_QUANTILE}.fa'] = FA_POS\n",
    "config[section][f'{CL}.{DIRECTION}.{BOTTOM_QUANTILE}.fa'] = FA_NEG\n",
    "\n",
    "crw.write(config, cfn)\n",
    "\n",
    "shuf = bj.loc[bj[\"label\"] == \"Shuffle\"]\n",
    "genome = bj.loc[bj[\"label\"] != \"Shuffle\"]\n",
    "\n",
    "fig, ax = plt.subplots()\n",
    "\n",
    "\"\"\"\n",
    "sns.histplot(x=\"delta.mean\", data=df_dir,\n",
    "             label=f\"{DIRECTION}\", stat=\"percent\", kde=True,\n",
    "             color=\"w\", common_norm=False\n",
    "            )\n",
    "            \n",
    "\"\"\"\n",
    "sns.histplot(x=\"delta.mean\", data=shuf, label=\"shuffle\", kde=True,\n",
    "             stat=\"percent\", color=\"grey\", common_norm=False)\n",
    "sns.histplot(x=\"delta.mean\", data=pos, label=f\"{DIRECTION} top {TOP_QUANTILE}\",\n",
    "             kde=True,common_norm=False, #color=\"orange\", \n",
    "             stat=\"percent\")\n",
    "sns.histplot(x=\"delta.mean\", data=neg, label=f\"{DIRECTION} bottom {BOTTOM_QUANTILE}\",\n",
    "             kde=True,common_norm=False, #color=\"blue\",\n",
    "             stat=\"percent\")\n",
    "plt.legend(frameon=False, loc=\"upper left\")\n",
    "\n",
    "shuf[\"delta.mean\"].quantile(0.975), pos[\"delta.mean\"].describe()\n",
    "\n",
    "pos.describe(), neg.describe()"
   ]
  },
  {
   "cell_type": "code",
   "execution_count": null,
   "id": "d58909a0",
   "metadata": {
    "ExecuteTime": {
     "end_time": "2024-03-08T20:10:13.271392Z",
     "start_time": "2024-03-08T20:10:13.271375Z"
    }
   },
   "outputs": [],
   "source": [
    "OUTDIR_TOP =  runFimo(FIMO, MEME_TXT, FA_POS, DIRECTION, TOP_QUANTILE)\n",
    "OUTDIR_BOTTOM =  runFimo(FIMO, MEME_TXT, FA_NEG, DIRECTION, BOTTOM_QUANTILE)"
   ]
  },
  {
   "cell_type": "code",
   "execution_count": null,
   "id": "c839e6d2",
   "metadata": {
    "ExecuteTime": {
     "end_time": "2024-03-08T20:10:13.272679Z",
     "start_time": "2024-03-08T20:10:13.272661Z"
    }
   },
   "outputs": [],
   "source": [
    "bottom_pred = os.path.join(OUTDIR_BOTTOM, \"fimo.tsv\")\n",
    "top_pred = os.path.join(OUTDIR_TOP, \"fimo.tsv\")\n",
    "\n",
    "tdf = pd.read_csv(top_pred, sep='\\t')\n",
    "tdf[\"quantile\"] = 'top0.9'\n",
    "tdf[\"-log10q\"] = -1*np.log10(tdf[\"q-value\"])\n",
    "print(tdf.shape)\n",
    "tdf.head()\n",
    "\n",
    "bdf = pd.read_csv(bottom_pred, sep='\\t')\n",
    "bdf[\"quantile\"] = 'bottom0.1'\n",
    "bdf[\"-log10q\"] = -1*np.log10(bdf[\"q-value\"])\n",
    "print(bdf.shape)\n",
    "bdf.head()\n",
    "\n",
    "# concatenate the top and bottom values\n",
    "plot = pd.concat([tdf, bdf])\n",
    "\n",
    "fig, ax = plt.subplots(figsize=(6, 6))\n",
    "sns.violinplot(x=\"motif_alt_id\", y='-log10q', data=plot, hue=\"quantile\",\n",
    "               #hue_order=[\"bottom0.1\", \"top0.1\"],\n",
    "               order=[\"MEME-1\", \"MEME-2\", \"MEME-3\"])\n",
    "ax.set(ylim=(-0.20,2.75))\n",
    "ax.legend(frameon=False, loc='upper left')"
   ]
  },
  {
   "cell_type": "code",
   "execution_count": null,
   "id": "0df5a15e",
   "metadata": {
    "ExecuteTime": {
     "end_time": "2024-03-08T20:10:13.273965Z",
     "start_time": "2024-03-08T20:10:13.273948Z"
    }
   },
   "outputs": [],
   "source": [
    "IDS = [\"MEME-1\", \"MEME-2\", \"MEME-3\"]\n",
    "VAL =  \"-log10q\" #\"score\"\n",
    "for ID in IDS: \n",
    "\n",
    "    a = tdf.loc[tdf[\"motif_alt_id\"]==ID, VAL]\n",
    "    b = bdf.loc[bdf[\"motif_alt_id\"]==ID, VAL]\n",
    "    print(ID, stats.mannwhitneyu(a,b))"
   ]
  },
  {
   "cell_type": "markdown",
   "id": "7cfc18b5",
   "metadata": {},
   "source": [
    "## experiment 4"
   ]
  },
  {
   "cell_type": "code",
   "execution_count": null,
   "id": "299587a2",
   "metadata": {
    "ExecuteTime": {
     "end_time": "2024-03-08T20:10:13.275259Z",
     "start_time": "2024-03-08T20:10:13.275243Z"
    }
   },
   "outputs": [],
   "source": [
    "EXP_NAME =\"exp4\"\n",
    "DIRECTION = \"Pos.CTRL_UP\"\n",
    "\n",
    "### subset df by direction. \n",
    "\n",
    "df_dir = getDfDirectionSub(df, DIRECTION)\n",
    "\n",
    "### top and bottom 10% of direction changes. \n",
    "\n",
    "# top quantile of delta.means\n",
    "pos, pos_names, neg, neg_names = getQuantileDelta(df_dir, TOP_QUANTILE, df, False)\n",
    "\n",
    "plot = pd.concat([pos, neg])\n",
    "# fig,ax = plt.subplots(figsize=(6,6))\n",
    "hue_order = ['US_UP',\n",
    "             'CTRL_UP',\n",
    "             'Neg.US_DOWN',\n",
    "             'Neg.CTRL_DOWN',\n",
    "             'Pos.US_UP',\n",
    "             'Pos.CTRL_UP',\n",
    "             ]\n",
    "\n",
    "g = sns.jointplot(x=\"l2.ratio.mean.ctrl\", y=\"l2.ratio.mean.us\",\n",
    "                  data=plot, hue=\"direction\", hue_order=hue_order,\n",
    "                  palette='tab20'\n",
    "                 )\n",
    "g.ax_joint.legend(frameon=False, bbox_to_anchor=(2, 1))"
   ]
  },
  {
   "cell_type": "code",
   "execution_count": null,
   "id": "2f278af5",
   "metadata": {
    "ExecuteTime": {
     "end_time": "2024-03-08T20:10:13.276605Z",
     "start_time": "2024-03-08T20:10:13.276589Z"
    }
   },
   "outputs": [],
   "source": [
    "# get enh ids, linked tiles from exp1 dataset\n",
    "exp1pos_enhnames, exp1pos_linkedtiles = getEnhSet(bj, exp1up)\n",
    "exp1neg_enhnames, exp1neg_linkedtiles = getEnhSet(bj, exp1down)"
   ]
  },
  {
   "cell_type": "code",
   "execution_count": null,
   "id": "ed64f5ad",
   "metadata": {
    "ExecuteTime": {
     "end_time": "2024-03-08T20:10:13.277913Z",
     "start_time": "2024-03-08T20:10:13.277895Z"
    }
   },
   "outputs": [],
   "source": [
    "# remove exp 1 linked tiles\n",
    "pos_names_clean = set(pos_names).difference(set(exp1pos_linkedtiles))\n",
    "neg_names_clean = set(neg_names).difference(set(exp1neg_linkedtiles))\n",
    "\n",
    "# make fasta files from quantiles. \n",
    "FA_POS, FA_NEG = makeQuantileFasta(pos_names_clean, neg_names_clean, DIRECTION, RE_MEME_CL, TOP_QUANTILE, EXP_NAME, FASTA)\n",
    "\n",
    "\n",
    "# add to config\n",
    "config[section][f'{CL}.{DIRECTION}.{TOP_QUANTILE}.fa'] = FA_POS\n",
    "config[section][f'{CL}.{DIRECTION}.{BOTTOM_QUANTILE}.fa'] = FA_NEG\n",
    "\n",
    "crw.write(config, cfn)\n",
    "\n",
    "shuf = bj.loc[bj[\"label\"] == \"Shuffle\"]\n",
    "genome = bj.loc[bj[\"label\"] != \"Shuffle\"]\n",
    "\n",
    "fig, ax = plt.subplots()\n",
    "\n",
    "\"\"\"\n",
    "sns.histplot(x=\"delta.mean\", data=df_dir,\n",
    "             label=f\"{DIRECTION}\", stat=\"percent\", kde=True,\n",
    "             color=\"w\", common_norm=False\n",
    "            )\n",
    "            \n",
    "\"\"\"\n",
    "sns.histplot(x=\"delta.mean\", data=shuf, label=\"shuffle\", kde=True,\n",
    "             stat=\"percent\", color=\"grey\", common_norm=False)\n",
    "sns.histplot(x=\"delta.mean\", data=pos, label=f\"{DIRECTION} top {TOP_QUANTILE}\",\n",
    "             kde=True,common_norm=False, #color=\"orange\", \n",
    "             stat=\"percent\")\n",
    "sns.histplot(x=\"delta.mean\", data=neg, label=f\"{DIRECTION} bottom {BOTTOM_QUANTILE}\",\n",
    "             kde=True,common_norm=False, #color=\"blue\",\n",
    "             stat=\"percent\")\n",
    "plt.legend(frameon=False, loc=\"upper left\")\n",
    "\n",
    "shuf[\"delta.mean\"].quantile(0.975), pos[\"delta.mean\"].describe()\n",
    "\n",
    "pos.describe(), neg.describe()"
   ]
  },
  {
   "cell_type": "code",
   "execution_count": null,
   "id": "067c9c25",
   "metadata": {
    "ExecuteTime": {
     "end_time": "2024-03-08T20:10:13.279162Z",
     "start_time": "2024-03-08T20:10:13.279146Z"
    }
   },
   "outputs": [],
   "source": [
    "OUTDIR_TOP =  runFimo(FIMO, MEME_TXT, FA_POS, DIRECTION, TOP_QUANTILE)\n",
    "OUTDIR_BOTTOM =  runFimo(FIMO, MEME_TXT, FA_NEG, DIRECTION, BOTTOM_QUANTILE)"
   ]
  },
  {
   "cell_type": "code",
   "execution_count": null,
   "id": "896d71a8",
   "metadata": {
    "ExecuteTime": {
     "end_time": "2024-03-08T20:10:13.280540Z",
     "start_time": "2024-03-08T20:10:13.280524Z"
    }
   },
   "outputs": [],
   "source": [
    "bottom_pred = os.path.join(OUTDIR_BOTTOM, \"fimo.tsv\")\n",
    "top_pred = os.path.join(OUTDIR_TOP, \"fimo.tsv\")\n",
    "\n",
    "tdf = pd.read_csv(top_pred, sep='\\t')\n",
    "tdf[\"quantile\"] = 'top0.9'\n",
    "tdf[\"-log10q\"] = -1*np.log10(tdf[\"q-value\"])\n",
    "print(tdf.shape)\n",
    "tdf.head()\n",
    "\n",
    "bdf = pd.read_csv(bottom_pred, sep='\\t')\n",
    "bdf[\"quantile\"] = 'bottom0.1'\n",
    "bdf[\"-log10q\"] = -1*np.log10(bdf[\"q-value\"])\n",
    "print(bdf.shape)\n",
    "bdf.head()\n",
    "\n",
    "# concatenate the top and bottom values\n",
    "plot = pd.concat([tdf, bdf])\n",
    "\n",
    "fig, ax = plt.subplots(figsize=(6, 6))\n",
    "sns.violinplot(x=\"motif_alt_id\", y='-log10q', data=plot, hue=\"quantile\",\n",
    "               #hue_order=[\"bottom0.1\", \"top0.1\"],\n",
    "               order=[\"MEME-1\", \"MEME-2\", \"MEME-3\"])\n",
    "ax.set(ylim=(-0.20,2.75))\n",
    "ax.legend(frameon=False, loc='upper left')"
   ]
  },
  {
   "cell_type": "code",
   "execution_count": null,
   "id": "3e573f8a",
   "metadata": {
    "ExecuteTime": {
     "end_time": "2024-03-08T20:10:13.281766Z",
     "start_time": "2024-03-08T20:10:13.281749Z"
    }
   },
   "outputs": [],
   "source": [
    "# make fa for luciferase tested elements. "
   ]
  },
  {
   "cell_type": "code",
   "execution_count": null,
   "id": "1f80f72d",
   "metadata": {
    "ExecuteTime": {
     "end_time": "2024-03-08T20:10:13.283354Z",
     "start_time": "2024-03-08T20:10:13.283337Z"
    }
   },
   "outputs": [],
   "source": [
    "LUC=\"/wynton/group/ahituv/fongsl/projects/US/data/validation_luc/Candidate_ID_table_luc.txt\""
   ]
  },
  {
   "cell_type": "code",
   "execution_count": null,
   "id": "52f95e1f",
   "metadata": {},
   "outputs": [],
   "source": []
  }
 ],
 "metadata": {
  "kernelspec": {
   "display_name": "Python 3 (ipykernel)",
   "language": "python",
   "name": "python3"
  },
  "language_info": {
   "codemirror_mode": {
    "name": "ipython",
    "version": 3
   },
   "file_extension": ".py",
   "mimetype": "text/x-python",
   "name": "python",
   "nbconvert_exporter": "python",
   "pygments_lexer": "ipython3",
   "version": "3.9.16"
  },
  "toc": {
   "base_numbering": 1,
   "nav_menu": {},
   "number_sections": true,
   "sideBar": true,
   "skip_h1_title": false,
   "title_cell": "Table of Contents",
   "title_sidebar": "Contents",
   "toc_cell": false,
   "toc_position": {},
   "toc_section_display": true,
   "toc_window_display": true
  },
  "varInspector": {
   "cols": {
    "lenName": 16,
    "lenType": 16,
    "lenVar": 40
   },
   "kernels_config": {
    "python": {
     "delete_cmd_postfix": "",
     "delete_cmd_prefix": "del ",
     "library": "var_list.py",
     "varRefreshCmd": "print(var_dic_list())"
    },
    "r": {
     "delete_cmd_postfix": ") ",
     "delete_cmd_prefix": "rm(",
     "library": "var_list.r",
     "varRefreshCmd": "cat(var_dic_list()) "
    }
   },
   "types_to_exclude": [
    "module",
    "function",
    "builtin_function_or_method",
    "instance",
    "_Feature"
   ],
   "window_display": false
  }
 },
 "nbformat": 4,
 "nbformat_minor": 5
}
