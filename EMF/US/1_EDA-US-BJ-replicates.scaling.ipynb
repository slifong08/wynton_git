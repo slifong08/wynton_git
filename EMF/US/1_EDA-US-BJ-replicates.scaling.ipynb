{
 "cells": [
  {
   "cell_type": "markdown",
   "id": "a6d77061",
   "metadata": {},
   "source": [
    "# objective \n",
    "20230816\n",
    "sarahfong\n",
    "\n",
    "learn the features of the US MPRA dataset\n",
    "\n",
    "do some basic transformations and comparisons \n",
    "\n",
    "## transformations\n",
    "- per replicate \n",
    "    \n",
    "    - log2 normalize activity values\n",
    "    - explore standard scaling log2 values (rep ctrl 2 has wider variance than other replicates) \n",
    "\n",
    "- across replicates\n",
    "    - compute median, mean, sd of log2 values, standard scaling values \n",
    "\n",
    "## questions\n",
    "- what is the variance between replicates? \n",
    "- How well do replicates correlate with one another?\n",
    "    - pearson between replicates? \n",
    "    - spearman between replicates? \n",
    "- what is the correlation across replicate means, medians within group?\n",
    "\n",
    "- is there are difference between log2 ratio and standard scaling activity? "
   ]
  },
  {
   "cell_type": "code",
   "execution_count": 1,
   "id": "10e7dc6f",
   "metadata": {
    "ExecuteTime": {
     "end_time": "2023-11-16T00:48:39.029247Z",
     "start_time": "2023-11-16T00:48:37.931537Z"
    }
   },
   "outputs": [],
   "source": [
    "import matplotlib.pyplot as plt\n",
    "import numpy as np\n",
    "import os, sys\n",
    "\n",
    "import pandas as pd\n",
    "\n",
    "import seaborn as sns\n",
    "from scipy import stats\n",
    "from sklearn.preprocessing import RobustScaler, StandardScaler\n",
    "\n",
    "import sys"
   ]
  },
  {
   "cell_type": "markdown",
   "id": "51677c2a",
   "metadata": {},
   "source": [
    "# Read, write to config"
   ]
  },
  {
   "cell_type": "code",
   "execution_count": 2,
   "id": "e17ef440",
   "metadata": {
    "ExecuteTime": {
     "end_time": "2023-11-16T00:48:39.035287Z",
     "start_time": "2023-11-16T00:48:39.030987Z"
    }
   },
   "outputs": [
    {
     "data": {
      "text/plain": [
       "('sans-serif', 'Arial', 18)"
      ]
     },
     "execution_count": 2,
     "metadata": {},
     "output_type": "execute_result"
    }
   ],
   "source": [
    "LOCAL = True\n",
    "if LOCAL is True:\n",
    "    sys.path.append(\"/Users/sarahfong/tools/py_\")\n",
    "    DATA_PATH = \"/Users/sarahfong/Desktop/local_data/EMF/US\"\n",
    "import config_readwrite as crw\n",
    "import plot_params as pp\n",
    "\n",
    "pp.fonts()"
   ]
  },
  {
   "cell_type": "code",
   "execution_count": 3,
   "id": "15a96c10",
   "metadata": {
    "ExecuteTime": {
     "end_time": "2023-11-16T00:48:39.040515Z",
     "start_time": "2023-11-16T00:48:39.036300Z"
    }
   },
   "outputs": [],
   "source": [
    "# read\n",
    "config, cfn = crw.read(os.path.join(os.path.dirname(os.getcwd()), \"config.ini\"))\n",
    "\n",
    "# path\n",
    "#DATA_PATH = config[\"local_path\"][\"data\"]\n",
    "\n",
    "# make dictionary of values to write to config\n",
    "config_dict = {\n",
    "    \"HEPG2\": os.path.join(DATA_PATH, \"full_hepg2_MPRA.csv\"),\n",
    "    \"HEPG2.clean\": os.path.join(DATA_PATH, \"full_hepg2_MPRA.clean.csv\"),\n",
    "    \"HEPG2.clean.transformed\": os.path.join(DATA_PATH, \"full_hepg2_MPRA.clean.transformed.csv\"),\n",
    "    \"HEPG2.clean.trans.scaled\": os.path.join(DATA_PATH, \"full_hepg2_MPRA.clean.transformed.standard.scaled.csv\"),\n",
    "    \"BJ\": os.path.join(DATA_PATH, \"full_bj_MPRA.csv\"),\n",
    "    \"BJ.clean\": os.path.join(DATA_PATH, \"full_bj_MPRA.clean.csv\"),\n",
    "    \"BJ.clean.transformed\": os.path.join(DATA_PATH, \"full_bj_MPRA.clean.transformed.csv\"),\n",
    "    \"BJ.clean.trans.scaled\": os.path.join(DATA_PATH, \"full_bj_MPRA.clean.transformed.standard.scaled.csv\"),\n",
    "    \"FASTA\":os.path.join(DATA_PATH, \"ultrasound_final_no_adapter.fasta\")\n",
    "}\n",
    "\n",
    "# make data section of config\n",
    "section = \"data\"\n",
    "crw.check(config, section)\n",
    "\n",
    "# add dictionary to config\n",
    "for key, value in config_dict.items():\n",
    "    config[section][key] = value\n",
    "    \n",
    "# write to config    \n",
    "crw.write(config, cfn)"
   ]
  },
  {
   "cell_type": "markdown",
   "id": "5149fa5d",
   "metadata": {},
   "source": [
    "# functions"
   ]
  },
  {
   "cell_type": "code",
   "execution_count": 4,
   "id": "8b017db2",
   "metadata": {
    "ExecuteTime": {
     "end_time": "2023-11-16T00:48:39.053853Z",
     "start_time": "2023-11-16T00:48:39.041447Z"
    }
   },
   "outputs": [],
   "source": [
    "# mean, median, std\n",
    "\n",
    "def computeStats(df, l2_ratios_list):\n",
    "    \"\"\" compute median, mean, std of ctrl and ultrasound replicates per sequence\"\"\"\n",
    "    print(l2_ratios_list[:3])\n",
    "    df[\"l2.ratio.med.ctrl\"] = df[l2_ratios_list[:3]].median(axis=1)\n",
    "    df[\"l2.ratio.mean.ctrl\"] = df[l2_ratios_list[:3]].mean(axis=1)\n",
    "    df[\"l2.ratio.std.ctrl\"] = df[l2_ratios_list[:3]].std(axis=1)\n",
    "\n",
    "    df[\"l2.ratio.med.us\"] = df[l2_ratios_list[3:]].median(axis=1)\n",
    "    df[\"l2.ratio.mean.us\"] = df[l2_ratios_list[3:]].mean(axis=1)\n",
    "    df[\"l2.ratio.std.us\"] = df[l2_ratios_list[3:]].std(axis=1)\n",
    "\n",
    "    return df\n",
    "\n",
    "# l2 transform (RNA/DNA)\n",
    "\n",
    "\n",
    "def log2Transform(df, ratios_list):\n",
    "    \"\"\" log2 transform each ratio column\"\"\"\n",
    "\n",
    "    for ratio in ratios_list:\n",
    "        df[f\"l2.{ratio}\"] = np.log2(df[ratio])\n",
    "\n",
    "    return df\n",
    "\n",
    "# get coordinates\n",
    "\n",
    "\n",
    "def getCoordinates(df):\n",
    "    \"\"\"str split name to get genomic coordinates for endogenous sequences\"\"\"\n",
    "\n",
    "    coordf = df.loc[df['name'].str.contains(\"chr\")].copy()\n",
    "\n",
    "    coordf[\"coor\"] = coordf[\"name\"].apply(\n",
    "        lambda x: \"chr\"+x.split(\"chr\")[1] if \"chr\" in x else None)\n",
    "\n",
    "    # merge- add coordinates back to dataframe\n",
    "    return pd.merge(df, coordf, how=\"left\")\n",
    "\n",
    " # compute fold change of medians\n",
    "\n",
    "\n",
    "def computeDelta(df):\n",
    "    \"\"\" compute delta of log2 median us - log2 median control\"\"\"\n",
    "\n",
    "    df[\"delta.med\"] = df[\"l2.ratio.med.us\"]-df[\"l2.ratio.med.ctrl\"]\n",
    "    df[\"delta.mean\"] = df[\"l2.ratio.mean.us\"]-df[\"l2.ratio.mean.ctrl\"]\n",
    "\n",
    "    return df\n",
    "\n",
    "\n",
    "def clOrigin(df, constants_list):\n",
    "    \"\"\"annotate which cl a sequence was designed from\"\"\"\n",
    "\n",
    "    df[\"cl.origin\"] = None\n",
    "\n",
    "    for cl in constants_list:\n",
    "        df.loc[df['name'].str.contains(cl), \"cl.origin\"] = cl\n",
    "\n",
    "    return df\n",
    "\n",
    "\n",
    "def ctrlAnnot(df, constants_list):\n",
    "    \"\"\" annotate control type (pos, neg, test)\"\"\"\n",
    "\n",
    "    df[\"type\"] = \"None\"\n",
    "    for ctrl in constants_list:\n",
    "        df.loc[df['label'].str.contains(ctrl), \"type\"] = ctrl\n",
    "\n",
    "    return df\n",
    "\n",
    "\n",
    "def computePval(df, constants_list):\n",
    "    \"\"\" compute per sequence ttest of ctrl v. ultrasound rep\n",
    "        assume equal_var is False \n",
    "    \"\"\"\n",
    "    df[\"pval\"] = None\n",
    "    for i, row in df.iterrows():\n",
    "\n",
    "        # get control replicates\n",
    "        ctrls = row[constants_list[:3]]\n",
    "\n",
    "        # get US replicates\n",
    "        uss = row[constants_list[3:]]\n",
    "        # t-test per sequence, no equal variance assumed.\n",
    "        t, p = stats.ttest_ind(list(ctrls), list(uss), equal_var=False)\n",
    "\n",
    "        # update dataframe\n",
    "        df.at[i, 'pval'] = p\n",
    "\n",
    "    return df\n",
    "\n",
    "\n",
    "def callActive(df):\n",
    "    \"\"\"call active elements from ctrl, us MPRA as values > 95 of shuffled regions\"\"\"\n",
    "\n",
    "    # get shuffles\n",
    "    shufs = df.loc[df.name.str.contains(\"shuf\")].copy()\n",
    "\n",
    "    # get 97.5% of shuffle median score for ctrl, US treatment\n",
    "    ctrl_975 = shufs['l2.ratio.med.ctrl'].quantile(0.975)\n",
    "    us_975 = shufs['l2.ratio.med.us'].quantile(0.975)\n",
    "\n",
    "    ctrl_025 = shufs['l2.ratio.med.ctrl'].quantile(0.025)\n",
    "    us_025 = shufs['l2.ratio.med.us'].quantile(0.025)\n",
    "    print(ctrl_975, ctrl_025, us_975, us_025)\n",
    "\n",
    "    # create column to label active\n",
    "    df['label.ctrl'], df['label.us'] = 0, 0\n",
    "\n",
    "    # label active elements - has more activity than 97.5% shuffles\n",
    "    df.loc[df['l2.ratio.med.ctrl'] > ctrl_975, 'label.ctrl'] = 1\n",
    "    df.loc[df['l2.ratio.med.us'] > us_975, 'label.us'] = 1\n",
    "\n",
    "    # label active elements - has less activity than 2.5% shuffles\n",
    "    df.loc[df['l2.ratio.med.ctrl'] < ctrl_025, 'label.ctrl'] = -1\n",
    "    df.loc[df['l2.ratio.med.us'] < us_025, 'label.us'] = -1\n",
    "\n",
    "    return df\n",
    "\n",
    "\n",
    "def callResponse(df):\n",
    "    df[\"response\"] = False\n",
    "\n",
    "    df.loc[(df[\"pval\"] < 0.05) &\n",
    "           (df['label.ctrl'] != df['label.us']),\n",
    "           \"response\"\n",
    "           ] = True\n",
    "\n",
    "    # describe direction of values\n",
    "    df[\"direction\"] = None\n",
    "\n",
    "    # direction when US is positive and ctrl is negative\n",
    "    df.loc[(df[\"l2.ratio.med.ctrl\"] < 0)\n",
    "           & (df[\"l2.ratio.med.us\"] >= 0), \"direction\"] = \"US_UP\"\n",
    "\n",
    "    # when US is negative and ctrl is positive\n",
    "    df.loc[(df[\"l2.ratio.med.ctrl\"] > 0)\n",
    "           & (df[\"l2.ratio.med.us\"] <= 0), \"direction\"] = \"US_DOWN\"\n",
    "\n",
    "    # Less silent when US is negative and ctrl is negative and US > CTRL\n",
    "    df.loc[(df[\"l2.ratio.med.ctrl\"] < 0)\n",
    "           & (df[\"l2.ratio.med.us\"] <= 0)\n",
    "           & (df[\"l2.ratio.med.us\"] > df[\"l2.ratio.med.ctrl\"]), \"direction\"] = \"LESS_SILENT\"\n",
    "\n",
    "    # More silent when US is negative and ctrl is negative and US < CTRL\n",
    "    df.loc[(df[\"l2.ratio.med.ctrl\"] < 0)\n",
    "           & (df[\"l2.ratio.med.us\"] <= 0)\n",
    "           & (df[\"l2.ratio.med.us\"] < df[\"l2.ratio.med.ctrl\"]), \"direction\"] = \"MORE_SILENT\"\n",
    "\n",
    "    # Less active when US is positive and ctrl is positive and CTRL > US\n",
    "    df.loc[(df[\"l2.ratio.med.ctrl\"] > 0)\n",
    "           & (df[\"l2.ratio.med.us\"] >= 0)\n",
    "           & (df[\"l2.ratio.med.us\"] < df[\"l2.ratio.med.ctrl\"]), \"direction\"] = \"LESS_ACTIVE\"\n",
    "    # more active when US is positive and ctrl is positive and CTRL < US\n",
    "    df.loc[(df[\"l2.ratio.med.ctrl\"] > 0)\n",
    "           & (df[\"l2.ratio.med.us\"] >= 0)\n",
    "           & (df[\"l2.ratio.med.us\"] > df[\"l2.ratio.med.ctrl\"]), \"direction\"] = \"MORE_ACTIVE\"\n",
    "\n",
    "    return df"
   ]
  },
  {
   "cell_type": "markdown",
   "id": "ad93d32f",
   "metadata": {},
   "source": [
    "# test CL \n",
    "\n",
    "## notes about this dataset\n",
    "- Activity score - median score was assigned per US|CTRL for each sequence\n",
    "- Active | inactive = test sequence score > 95% shuffled score. Both these scores are median score (above)\n",
    "- logFC\n",
    "- P-value"
   ]
  },
  {
   "cell_type": "markdown",
   "id": "5d68481a",
   "metadata": {},
   "source": [
    "### input data"
   ]
  },
  {
   "cell_type": "code",
   "execution_count": 5,
   "id": "02b23d27",
   "metadata": {
    "ExecuteTime": {
     "end_time": "2023-11-16T00:48:39.056459Z",
     "start_time": "2023-11-16T00:48:39.054862Z"
    }
   },
   "outputs": [],
   "source": [
    "CL= \"BJ\" #\"HEPG2\" #\n",
    "DATA = config_dict[CL]\n",
    "CLEAN = config_dict[f\"{CL}.clean.transformed\"]\n",
    "SCALED =config_dict[f'{CL}.clean.trans.scaled']"
   ]
  },
  {
   "cell_type": "markdown",
   "id": "e03b1d51",
   "metadata": {},
   "source": [
    "### constants dict"
   ]
  },
  {
   "cell_type": "code",
   "execution_count": 6,
   "id": "09040e15",
   "metadata": {
    "ExecuteTime": {
     "end_time": "2023-11-16T00:48:39.059620Z",
     "start_time": "2023-11-16T00:48:39.057273Z"
    }
   },
   "outputs": [],
   "source": [
    "constants = {\n",
    "    \"NAMES\" :['name',\n",
    "         'label',\n",
    "         'ratio.med.ctrl',\n",
    "         'label.ctrl',\n",
    "         'ratio.1.ctrl',\n",
    "         'ratio.2.ctrl',\n",
    "         'ratio.3.ctrl',\n",
    "         'ratio.med.us',\n",
    "         'label.us',\n",
    "         'ratio.1.us',\n",
    "         'ratio.2.us',\n",
    "         'ratio.3.us',\n",
    "         'pval',\n",
    "              \"p_adj\", \n",
    "         'logFC',\n",
    "         'response'],\n",
    "    \n",
    "    \"CTRL_LIST\" : [\"NegCt\", \"PosCt\", \"Shuffle\", \"Synthetic\", 'H3K27AC', \"ATAC\", \"DEG\", \"non-diff\"],\n",
    "    \n",
    "    \"RATIOS\": ['ratio.1.ctrl','ratio.2.ctrl', 'ratio.3.ctrl', \n",
    "          'ratio.1.us', 'ratio.2.us','ratio.3.us'],\n",
    "    \n",
    "    \"L2RATIOS\": ['l2.ratio.1.ctrl','l2.ratio.2.ctrl', 'l2.ratio.3.ctrl', \n",
    "          'l2.ratio.1.us', 'l2.ratio.2.us','l2.ratio.3.us'],\n",
    "    \"L2STD\": ['l2.ratio.std.ctrl', 'l2.ratio.std.us'],\n",
    "    \n",
    "    \"CL_LIST\" :[\"k562\", \"hob\", \"bj\", \"hepg2\"]\n",
    "}"
   ]
  },
  {
   "cell_type": "markdown",
   "id": "5f911528",
   "metadata": {},
   "source": [
    "### load data"
   ]
  },
  {
   "cell_type": "markdown",
   "id": "7b03e405",
   "metadata": {},
   "source": [
    "## without plus 1"
   ]
  },
  {
   "cell_type": "code",
   "execution_count": 7,
   "id": "08fb9d58",
   "metadata": {
    "ExecuteTime": {
     "end_time": "2023-11-16T00:48:39.186363Z",
     "start_time": "2023-11-16T00:48:39.061520Z"
    }
   },
   "outputs": [
    {
     "data": {
      "text/html": [
       "<div>\n",
       "<style scoped>\n",
       "    .dataframe tbody tr th:only-of-type {\n",
       "        vertical-align: middle;\n",
       "    }\n",
       "\n",
       "    .dataframe tbody tr th {\n",
       "        vertical-align: top;\n",
       "    }\n",
       "\n",
       "    .dataframe thead th {\n",
       "        text-align: right;\n",
       "    }\n",
       "</style>\n",
       "<table border=\"1\" class=\"dataframe\">\n",
       "  <thead>\n",
       "    <tr style=\"text-align: right;\">\n",
       "      <th></th>\n",
       "      <th>name</th>\n",
       "      <th>label</th>\n",
       "      <th>ratio.med.ctrl</th>\n",
       "      <th>label.ctrl</th>\n",
       "      <th>ratio.1.ctrl</th>\n",
       "      <th>ratio.2.ctrl</th>\n",
       "      <th>ratio.3.ctrl</th>\n",
       "      <th>ratio.med.us</th>\n",
       "      <th>label.us</th>\n",
       "      <th>ratio.1.us</th>\n",
       "      <th>ratio.2.us</th>\n",
       "      <th>ratio.3.us</th>\n",
       "      <th>pval</th>\n",
       "      <th>p_adj</th>\n",
       "      <th>logFC</th>\n",
       "      <th>response</th>\n",
       "    </tr>\n",
       "  </thead>\n",
       "  <tbody>\n",
       "    <tr>\n",
       "      <th>0</th>\n",
       "      <td>SYNTHETIC:_Added_GGGGCGGGG_CAGAGCTG_CTGATAAGGA...</td>\n",
       "      <td>Synthetic</td>\n",
       "      <td>0.730707</td>\n",
       "      <td>inactive</td>\n",
       "      <td>0.732625</td>\n",
       "      <td>0.742659</td>\n",
       "      <td>0.716835</td>\n",
       "      <td>0.451288</td>\n",
       "      <td>inactive</td>\n",
       "      <td>0.453103</td>\n",
       "      <td>0.429931</td>\n",
       "      <td>0.470829</td>\n",
       "      <td>0.000125</td>\n",
       "      <td>0.999331</td>\n",
       "      <td>-0.695245</td>\n",
       "      <td>unresponsive</td>\n",
       "    </tr>\n",
       "    <tr>\n",
       "      <th>1</th>\n",
       "      <td>SYNTHETIC:_Added_TATACATA_GCCCGGGGG_TATACATA_A...</td>\n",
       "      <td>Synthetic</td>\n",
       "      <td>0.996278</td>\n",
       "      <td>inactive</td>\n",
       "      <td>0.986795</td>\n",
       "      <td>1.001141</td>\n",
       "      <td>1.000897</td>\n",
       "      <td>0.875492</td>\n",
       "      <td>inactive</td>\n",
       "      <td>0.863311</td>\n",
       "      <td>0.883304</td>\n",
       "      <td>0.879863</td>\n",
       "      <td>0.000153</td>\n",
       "      <td>0.999331</td>\n",
       "      <td>-0.186453</td>\n",
       "      <td>unresponsive</td>\n",
       "    </tr>\n",
       "    <tr>\n",
       "      <th>2</th>\n",
       "      <td>SYNTHETIC:_The_motif_CAGAGCTG_was_added_in_Pos...</td>\n",
       "      <td>Synthetic</td>\n",
       "      <td>0.759033</td>\n",
       "      <td>inactive</td>\n",
       "      <td>0.758425</td>\n",
       "      <td>0.768487</td>\n",
       "      <td>0.750188</td>\n",
       "      <td>0.655631</td>\n",
       "      <td>inactive</td>\n",
       "      <td>0.667361</td>\n",
       "      <td>0.650806</td>\n",
       "      <td>0.648725</td>\n",
       "      <td>0.000213</td>\n",
       "      <td>0.999331</td>\n",
       "      <td>-0.211280</td>\n",
       "      <td>unresponsive</td>\n",
       "    </tr>\n",
       "    <tr>\n",
       "      <th>3</th>\n",
       "      <td>SYNTHETIC:_The_motif_GAGATAAGGA_was_added_in_P...</td>\n",
       "      <td>Synthetic</td>\n",
       "      <td>0.921166</td>\n",
       "      <td>inactive</td>\n",
       "      <td>0.898376</td>\n",
       "      <td>0.940726</td>\n",
       "      <td>0.924395</td>\n",
       "      <td>0.708869</td>\n",
       "      <td>inactive</td>\n",
       "      <td>0.707967</td>\n",
       "      <td>0.690220</td>\n",
       "      <td>0.728420</td>\n",
       "      <td>0.000229</td>\n",
       "      <td>0.999331</td>\n",
       "      <td>-0.377942</td>\n",
       "      <td>unresponsive</td>\n",
       "    </tr>\n",
       "    <tr>\n",
       "      <th>4</th>\n",
       "      <td>k562_atac_up_chr1:67191823-67192092</td>\n",
       "      <td>Differential_ATAC</td>\n",
       "      <td>1.195409</td>\n",
       "      <td>inactive</td>\n",
       "      <td>1.196577</td>\n",
       "      <td>1.187511</td>\n",
       "      <td>1.202138</td>\n",
       "      <td>1.281130</td>\n",
       "      <td>active</td>\n",
       "      <td>1.282186</td>\n",
       "      <td>1.271701</td>\n",
       "      <td>1.289503</td>\n",
       "      <td>0.000265</td>\n",
       "      <td>0.999331</td>\n",
       "      <td>0.099912</td>\n",
       "      <td>ultrasound-responsive</td>\n",
       "    </tr>\n",
       "  </tbody>\n",
       "</table>\n",
       "</div>"
      ],
      "text/plain": [
       "                                                name              label  \\\n",
       "0  SYNTHETIC:_Added_GGGGCGGGG_CAGAGCTG_CTGATAAGGA...          Synthetic   \n",
       "1  SYNTHETIC:_Added_TATACATA_GCCCGGGGG_TATACATA_A...          Synthetic   \n",
       "2  SYNTHETIC:_The_motif_CAGAGCTG_was_added_in_Pos...          Synthetic   \n",
       "3  SYNTHETIC:_The_motif_GAGATAAGGA_was_added_in_P...          Synthetic   \n",
       "4                k562_atac_up_chr1:67191823-67192092  Differential_ATAC   \n",
       "\n",
       "   ratio.med.ctrl label.ctrl  ratio.1.ctrl  ratio.2.ctrl  ratio.3.ctrl  \\\n",
       "0        0.730707   inactive      0.732625      0.742659      0.716835   \n",
       "1        0.996278   inactive      0.986795      1.001141      1.000897   \n",
       "2        0.759033   inactive      0.758425      0.768487      0.750188   \n",
       "3        0.921166   inactive      0.898376      0.940726      0.924395   \n",
       "4        1.195409   inactive      1.196577      1.187511      1.202138   \n",
       "\n",
       "   ratio.med.us  label.us  ratio.1.us  ratio.2.us  ratio.3.us      pval  \\\n",
       "0      0.451288  inactive    0.453103    0.429931    0.470829  0.000125   \n",
       "1      0.875492  inactive    0.863311    0.883304    0.879863  0.000153   \n",
       "2      0.655631  inactive    0.667361    0.650806    0.648725  0.000213   \n",
       "3      0.708869  inactive    0.707967    0.690220    0.728420  0.000229   \n",
       "4      1.281130    active    1.282186    1.271701    1.289503  0.000265   \n",
       "\n",
       "      p_adj     logFC               response  \n",
       "0  0.999331 -0.695245           unresponsive  \n",
       "1  0.999331 -0.186453           unresponsive  \n",
       "2  0.999331 -0.211280           unresponsive  \n",
       "3  0.999331 -0.377942           unresponsive  \n",
       "4  0.999331  0.099912  ultrasound-responsive  "
      ]
     },
     "execution_count": 7,
     "metadata": {},
     "output_type": "execute_result"
    }
   ],
   "source": [
    "df_ = pd.read_csv(DATA, skiprows=1, names=constants[\"NAMES\"], low_memory=False)\n",
    "df_.head()"
   ]
  },
  {
   "cell_type": "code",
   "execution_count": 8,
   "id": "c74106f3",
   "metadata": {
    "ExecuteTime": {
     "end_time": "2023-11-16T00:49:15.342688Z",
     "start_time": "2023-11-16T00:48:39.188100Z"
    }
   },
   "outputs": [
    {
     "name": "stdout",
     "output_type": "stream",
     "text": [
      "['l2.ratio.1.ctrl', 'l2.ratio.2.ctrl', 'l2.ratio.3.ctrl']\n",
      "0.31867295976786697 -1.2835806995120222 0.34282966330740616 -1.3112646154352863\n",
      "wrote clean\n"
     ]
    }
   ],
   "source": [
    "#if os.path.exists(CLEAN) is False:\n",
    "    # load .csv data, rename columns, skip row 1 (old column names)\n",
    "    df_ = pd.read_csv(DATA, skiprows=1, names=constants[\"NAMES\"], low_memory=False)\n",
    "\n",
    "    # annotate cell line origin\n",
    "    df = clOrigin(df_, constants[\"CL_LIST\"])\n",
    "\n",
    "    # annotate controls\n",
    "    df = ctrlAnnot(df,constants[\"CTRL_LIST\"])\n",
    "\n",
    "    # coordinates\n",
    "    df = getCoordinates(df)\n",
    "\n",
    "    # log2 transform ratios - increase sensitivity for ratios <1\n",
    "    df = log2Transform(df, constants[\"RATIOS\"])\n",
    "\n",
    "    # compute stats\n",
    "    df = computeStats(df, constants[\"L2RATIOS\"])\n",
    "\n",
    "    # compute difference between scaled\n",
    "    df = computeDelta(df)\n",
    "\n",
    "    # recall active\n",
    "    df = callActive(df)\n",
    "\n",
    "    # re compute pvalues \n",
    "    df = computePval(df, constants[\"L2RATIOS\"])\n",
    "\n",
    "    # recall response\n",
    "    df = callResponse(df)\n",
    "    # write the file\n",
    "    \n",
    "    df[\"pval\"] = df[\"pval\"].astype(float)\n",
    "    df[\"-log10p\"] = np.log10(df[\"pval\"])*-1\n",
    "\n",
    "    df.to_csv(CLEAN, sep='\\t', index=False)\n",
    "    print('wrote clean')"
   ]
  },
  {
   "cell_type": "code",
   "execution_count": 9,
   "id": "6a6ff962",
   "metadata": {
    "ExecuteTime": {
     "end_time": "2023-11-16T00:49:15.355592Z",
     "start_time": "2023-11-16T00:49:15.343666Z"
    }
   },
   "outputs": [
    {
     "data": {
      "text/html": [
       "<div>\n",
       "<style scoped>\n",
       "    .dataframe tbody tr th:only-of-type {\n",
       "        vertical-align: middle;\n",
       "    }\n",
       "\n",
       "    .dataframe tbody tr th {\n",
       "        vertical-align: top;\n",
       "    }\n",
       "\n",
       "    .dataframe thead th {\n",
       "        text-align: right;\n",
       "    }\n",
       "</style>\n",
       "<table border=\"1\" class=\"dataframe\">\n",
       "  <thead>\n",
       "    <tr style=\"text-align: right;\">\n",
       "      <th></th>\n",
       "      <th>name</th>\n",
       "      <th>label</th>\n",
       "      <th>ratio.med.ctrl</th>\n",
       "      <th>label.ctrl</th>\n",
       "      <th>ratio.1.ctrl</th>\n",
       "      <th>ratio.2.ctrl</th>\n",
       "      <th>ratio.3.ctrl</th>\n",
       "      <th>ratio.med.us</th>\n",
       "      <th>label.us</th>\n",
       "      <th>ratio.1.us</th>\n",
       "      <th>...</th>\n",
       "      <th>l2.ratio.med.ctrl</th>\n",
       "      <th>l2.ratio.mean.ctrl</th>\n",
       "      <th>l2.ratio.std.ctrl</th>\n",
       "      <th>l2.ratio.med.us</th>\n",
       "      <th>l2.ratio.mean.us</th>\n",
       "      <th>l2.ratio.std.us</th>\n",
       "      <th>delta.med</th>\n",
       "      <th>delta.mean</th>\n",
       "      <th>direction</th>\n",
       "      <th>-log10p</th>\n",
       "    </tr>\n",
       "  </thead>\n",
       "  <tbody>\n",
       "    <tr>\n",
       "      <th>0</th>\n",
       "      <td>SYNTHETIC:_Added_GGGGCGGGG_CAGAGCTG_CTGATAAGGA...</td>\n",
       "      <td>Synthetic</td>\n",
       "      <td>0.730707</td>\n",
       "      <td>0</td>\n",
       "      <td>0.732625</td>\n",
       "      <td>0.742659</td>\n",
       "      <td>0.716835</td>\n",
       "      <td>0.451288</td>\n",
       "      <td>0</td>\n",
       "      <td>0.453103</td>\n",
       "      <td>...</td>\n",
       "      <td>-0.448852</td>\n",
       "      <td>-0.452789</td>\n",
       "      <td>0.025756</td>\n",
       "      <td>-1.142089</td>\n",
       "      <td>-1.148879</td>\n",
       "      <td>0.065812</td>\n",
       "      <td>-0.693236</td>\n",
       "      <td>-0.696090</td>\n",
       "      <td>MORE_SILENT</td>\n",
       "      <td>3.012779</td>\n",
       "    </tr>\n",
       "    <tr>\n",
       "      <th>1</th>\n",
       "      <td>SYNTHETIC:_Added_TATACATA_GCCCGGGGG_TATACATA_A...</td>\n",
       "      <td>Synthetic</td>\n",
       "      <td>0.996278</td>\n",
       "      <td>0</td>\n",
       "      <td>0.986795</td>\n",
       "      <td>1.001141</td>\n",
       "      <td>1.000897</td>\n",
       "      <td>0.875492</td>\n",
       "      <td>0</td>\n",
       "      <td>0.863311</td>\n",
       "      <td>...</td>\n",
       "      <td>0.001294</td>\n",
       "      <td>-0.005413</td>\n",
       "      <td>0.011922</td>\n",
       "      <td>-0.184650</td>\n",
       "      <td>-0.191905</td>\n",
       "      <td>0.017670</td>\n",
       "      <td>-0.185943</td>\n",
       "      <td>-0.186492</td>\n",
       "      <td>US_DOWN</td>\n",
       "      <td>3.596080</td>\n",
       "    </tr>\n",
       "    <tr>\n",
       "      <th>2</th>\n",
       "      <td>SYNTHETIC:_The_motif_CAGAGCTG_was_added_in_Pos...</td>\n",
       "      <td>Synthetic</td>\n",
       "      <td>0.759033</td>\n",
       "      <td>0</td>\n",
       "      <td>0.758425</td>\n",
       "      <td>0.768487</td>\n",
       "      <td>0.750188</td>\n",
       "      <td>0.655631</td>\n",
       "      <td>0</td>\n",
       "      <td>0.667361</td>\n",
       "      <td>...</td>\n",
       "      <td>-0.398922</td>\n",
       "      <td>-0.397835</td>\n",
       "      <td>0.017409</td>\n",
       "      <td>-0.619700</td>\n",
       "      <td>-0.609161</td>\n",
       "      <td>0.022377</td>\n",
       "      <td>-0.220778</td>\n",
       "      <td>-0.211326</td>\n",
       "      <td>MORE_SILENT</td>\n",
       "      <td>3.532975</td>\n",
       "    </tr>\n",
       "    <tr>\n",
       "      <th>3</th>\n",
       "      <td>SYNTHETIC:_The_motif_GAGATAAGGA_was_added_in_P...</td>\n",
       "      <td>Synthetic</td>\n",
       "      <td>0.921166</td>\n",
       "      <td>0</td>\n",
       "      <td>0.898376</td>\n",
       "      <td>0.940726</td>\n",
       "      <td>0.924395</td>\n",
       "      <td>0.708869</td>\n",
       "      <td>0</td>\n",
       "      <td>0.707967</td>\n",
       "      <td>...</td>\n",
       "      <td>-0.113418</td>\n",
       "      <td>-0.118727</td>\n",
       "      <td>0.033544</td>\n",
       "      <td>-0.498247</td>\n",
       "      <td>-0.496759</td>\n",
       "      <td>0.038879</td>\n",
       "      <td>-0.384828</td>\n",
       "      <td>-0.378032</td>\n",
       "      <td>MORE_SILENT</td>\n",
       "      <td>3.607266</td>\n",
       "    </tr>\n",
       "    <tr>\n",
       "      <th>4</th>\n",
       "      <td>k562_atac_up_chr1:67191823-67192092</td>\n",
       "      <td>Differential_ATAC</td>\n",
       "      <td>1.195409</td>\n",
       "      <td>0</td>\n",
       "      <td>1.196577</td>\n",
       "      <td>1.187511</td>\n",
       "      <td>1.202138</td>\n",
       "      <td>1.281130</td>\n",
       "      <td>1</td>\n",
       "      <td>1.282186</td>\n",
       "      <td>...</td>\n",
       "      <td>0.258913</td>\n",
       "      <td>0.257486</td>\n",
       "      <td>0.008917</td>\n",
       "      <td>0.358605</td>\n",
       "      <td>0.357393</td>\n",
       "      <td>0.010083</td>\n",
       "      <td>0.099692</td>\n",
       "      <td>0.099907</td>\n",
       "      <td>MORE_ACTIVE</td>\n",
       "      <td>3.637373</td>\n",
       "    </tr>\n",
       "  </tbody>\n",
       "</table>\n",
       "<p>5 rows × 35 columns</p>\n",
       "</div>"
      ],
      "text/plain": [
       "                                                name              label  \\\n",
       "0  SYNTHETIC:_Added_GGGGCGGGG_CAGAGCTG_CTGATAAGGA...          Synthetic   \n",
       "1  SYNTHETIC:_Added_TATACATA_GCCCGGGGG_TATACATA_A...          Synthetic   \n",
       "2  SYNTHETIC:_The_motif_CAGAGCTG_was_added_in_Pos...          Synthetic   \n",
       "3  SYNTHETIC:_The_motif_GAGATAAGGA_was_added_in_P...          Synthetic   \n",
       "4                k562_atac_up_chr1:67191823-67192092  Differential_ATAC   \n",
       "\n",
       "   ratio.med.ctrl  label.ctrl  ratio.1.ctrl  ratio.2.ctrl  ratio.3.ctrl  \\\n",
       "0        0.730707           0      0.732625      0.742659      0.716835   \n",
       "1        0.996278           0      0.986795      1.001141      1.000897   \n",
       "2        0.759033           0      0.758425      0.768487      0.750188   \n",
       "3        0.921166           0      0.898376      0.940726      0.924395   \n",
       "4        1.195409           0      1.196577      1.187511      1.202138   \n",
       "\n",
       "   ratio.med.us  label.us  ratio.1.us  ...  l2.ratio.med.ctrl  \\\n",
       "0      0.451288         0    0.453103  ...          -0.448852   \n",
       "1      0.875492         0    0.863311  ...           0.001294   \n",
       "2      0.655631         0    0.667361  ...          -0.398922   \n",
       "3      0.708869         0    0.707967  ...          -0.113418   \n",
       "4      1.281130         1    1.282186  ...           0.258913   \n",
       "\n",
       "   l2.ratio.mean.ctrl  l2.ratio.std.ctrl  l2.ratio.med.us  l2.ratio.mean.us  \\\n",
       "0           -0.452789           0.025756        -1.142089         -1.148879   \n",
       "1           -0.005413           0.011922        -0.184650         -0.191905   \n",
       "2           -0.397835           0.017409        -0.619700         -0.609161   \n",
       "3           -0.118727           0.033544        -0.498247         -0.496759   \n",
       "4            0.257486           0.008917         0.358605          0.357393   \n",
       "\n",
       "   l2.ratio.std.us delta.med delta.mean    direction   -log10p  \n",
       "0         0.065812 -0.693236  -0.696090  MORE_SILENT  3.012779  \n",
       "1         0.017670 -0.185943  -0.186492      US_DOWN  3.596080  \n",
       "2         0.022377 -0.220778  -0.211326  MORE_SILENT  3.532975  \n",
       "3         0.038879 -0.384828  -0.378032  MORE_SILENT  3.607266  \n",
       "4         0.010083  0.099692   0.099907  MORE_ACTIVE  3.637373  \n",
       "\n",
       "[5 rows x 35 columns]"
      ]
     },
     "execution_count": 9,
     "metadata": {},
     "output_type": "execute_result"
    }
   ],
   "source": [
    "df.head()"
   ]
  },
  {
   "cell_type": "markdown",
   "id": "199d5056",
   "metadata": {},
   "source": [
    "## QC old df v. new df"
   ]
  },
  {
   "cell_type": "code",
   "execution_count": 10,
   "id": "2333d925",
   "metadata": {
    "ExecuteTime": {
     "end_time": "2023-11-16T00:49:15.358996Z",
     "start_time": "2023-11-16T00:49:15.356512Z"
    }
   },
   "outputs": [],
   "source": [
    "def harmonizeOldDf(df_):\n",
    "    df_.loc[df_[\"label.ctrl\"] == \"inactive\", \"label.ctrl\"] = False\n",
    "    df_.loc[df_[\"label.ctrl\"] == \"active\", \"label.ctrl\"] = True\n",
    "    df_.loc[df_[\"label.us\"] == \"inactive\", \"label.us\"] = False\n",
    "    df_.loc[df_[\"label.us\"] == \"active\", \"label.us\"] = True\n",
    "    \n",
    "    df_.loc[df_[\"response\"] ==\"ultrasound-responsive\", \"response\" ] = True\n",
    "    df_.loc[df_[\"response\"] ==\"unresponsive\", \"response\" ] = False\n",
    "    \n",
    "    return df_"
   ]
  },
  {
   "cell_type": "code",
   "execution_count": 11,
   "id": "e40eefc0",
   "metadata": {
    "ExecuteTime": {
     "end_time": "2023-11-16T00:49:15.362283Z",
     "start_time": "2023-11-16T00:49:15.359861Z"
    }
   },
   "outputs": [],
   "source": [
    "def checkCoor(old_df, new_df, col):\n",
    "    \"\"\"\n",
    "    check correlations before and after log transforming data\n",
    "    \"\"\"\n",
    "    old_col = 'old-'+col\n",
    "    \n",
    "    old = old_df[[\"name\", col]].drop_duplicates()\n",
    "    new = new_df[[\"name\", col]].drop_duplicates()\n",
    "    \n",
    "    old = old.rename(columns={col:old_col})\n",
    "\n",
    "    #print(list(old), list(new))\n",
    "    \n",
    "    m = pd.merge(old[[\"name\", old_col]], \n",
    "                 new \n",
    "                )\n",
    "    print(m[[old_col, col]].corr())\n",
    "    \n",
    "    return m"
   ]
  },
  {
   "cell_type": "markdown",
   "id": "96d70316",
   "metadata": {},
   "source": [
    "### harmonize old df with bool"
   ]
  },
  {
   "cell_type": "code",
   "execution_count": 12,
   "id": "7fac93fa",
   "metadata": {
    "ExecuteTime": {
     "end_time": "2023-11-16T00:49:15.495048Z",
     "start_time": "2023-11-16T00:49:15.363302Z"
    }
   },
   "outputs": [],
   "source": [
    "# load .csv data, rename columns, skip row 1 (old column names)\n",
    "df_ = pd.read_csv(DATA, skiprows=1, names=constants[\"NAMES\"], low_memory=False)\n",
    "\n",
    "df_ = harmonizeOldDf(df_)"
   ]
  },
  {
   "cell_type": "code",
   "execution_count": 13,
   "id": "68035454",
   "metadata": {
    "ExecuteTime": {
     "end_time": "2023-11-16T00:49:15.585455Z",
     "start_time": "2023-11-16T00:49:15.496032Z"
    }
   },
   "outputs": [
    {
     "name": "stdout",
     "output_type": "stream",
     "text": [
      "          old-pval      pval\n",
      "old-pval  1.000000  0.997204\n",
      "pval      0.997204  1.000000\n"
     ]
    },
    {
     "data": {
      "text/html": [
       "<div>\n",
       "<style scoped>\n",
       "    .dataframe tbody tr th:only-of-type {\n",
       "        vertical-align: middle;\n",
       "    }\n",
       "\n",
       "    .dataframe tbody tr th {\n",
       "        vertical-align: top;\n",
       "    }\n",
       "\n",
       "    .dataframe thead th {\n",
       "        text-align: right;\n",
       "    }\n",
       "</style>\n",
       "<table border=\"1\" class=\"dataframe\">\n",
       "  <thead>\n",
       "    <tr style=\"text-align: right;\">\n",
       "      <th></th>\n",
       "      <th>name</th>\n",
       "      <th>old-pval</th>\n",
       "      <th>pval</th>\n",
       "    </tr>\n",
       "  </thead>\n",
       "  <tbody>\n",
       "    <tr>\n",
       "      <th>0</th>\n",
       "      <td>SYNTHETIC:_Added_GGGGCGGGG_CAGAGCTG_CTGATAAGGA...</td>\n",
       "      <td>0.000125</td>\n",
       "      <td>0.000971</td>\n",
       "    </tr>\n",
       "    <tr>\n",
       "      <th>1</th>\n",
       "      <td>SYNTHETIC:_Added_TATACATA_GCCCGGGGG_TATACATA_A...</td>\n",
       "      <td>0.000153</td>\n",
       "      <td>0.000253</td>\n",
       "    </tr>\n",
       "    <tr>\n",
       "      <th>2</th>\n",
       "      <td>SYNTHETIC:_The_motif_CAGAGCTG_was_added_in_Pos...</td>\n",
       "      <td>0.000213</td>\n",
       "      <td>0.000293</td>\n",
       "    </tr>\n",
       "    <tr>\n",
       "      <th>3</th>\n",
       "      <td>SYNTHETIC:_The_motif_GAGATAAGGA_was_added_in_P...</td>\n",
       "      <td>0.000229</td>\n",
       "      <td>0.000247</td>\n",
       "    </tr>\n",
       "    <tr>\n",
       "      <th>4</th>\n",
       "      <td>k562_atac_up_chr1:67191823-67192092</td>\n",
       "      <td>0.000265</td>\n",
       "      <td>0.000230</td>\n",
       "    </tr>\n",
       "    <tr>\n",
       "      <th>...</th>\n",
       "      <td>...</td>\n",
       "      <td>...</td>\n",
       "      <td>...</td>\n",
       "    </tr>\n",
       "    <tr>\n",
       "      <th>58328</th>\n",
       "      <td>bj_k27ac_up_chr2:121502953-121503222</td>\n",
       "      <td>0.999909</td>\n",
       "      <td>0.989544</td>\n",
       "    </tr>\n",
       "    <tr>\n",
       "      <th>58329</th>\n",
       "      <td>bj_atac_up_chr16:24913178-24913447</td>\n",
       "      <td>0.999922</td>\n",
       "      <td>0.967447</td>\n",
       "    </tr>\n",
       "    <tr>\n",
       "      <th>58330</th>\n",
       "      <td>SYNTHETIC:_Added_GTATCAAAGT_ACAGGTCCCACACCAGAC...</td>\n",
       "      <td>0.999929</td>\n",
       "      <td>0.985351</td>\n",
       "    </tr>\n",
       "    <tr>\n",
       "      <th>58331</th>\n",
       "      <td>hob_k27ac_up_chr20:41072388-41072657</td>\n",
       "      <td>0.999942</td>\n",
       "      <td>0.964716</td>\n",
       "    </tr>\n",
       "    <tr>\n",
       "      <th>58332</th>\n",
       "      <td>hob_k27ac_up_chr1:214718511-214718780</td>\n",
       "      <td>0.999982</td>\n",
       "      <td>0.988246</td>\n",
       "    </tr>\n",
       "  </tbody>\n",
       "</table>\n",
       "<p>58333 rows × 3 columns</p>\n",
       "</div>"
      ],
      "text/plain": [
       "                                                    name  old-pval      pval\n",
       "0      SYNTHETIC:_Added_GGGGCGGGG_CAGAGCTG_CTGATAAGGA...  0.000125  0.000971\n",
       "1      SYNTHETIC:_Added_TATACATA_GCCCGGGGG_TATACATA_A...  0.000153  0.000253\n",
       "2      SYNTHETIC:_The_motif_CAGAGCTG_was_added_in_Pos...  0.000213  0.000293\n",
       "3      SYNTHETIC:_The_motif_GAGATAAGGA_was_added_in_P...  0.000229  0.000247\n",
       "4                    k562_atac_up_chr1:67191823-67192092  0.000265  0.000230\n",
       "...                                                  ...       ...       ...\n",
       "58328               bj_k27ac_up_chr2:121502953-121503222  0.999909  0.989544\n",
       "58329                 bj_atac_up_chr16:24913178-24913447  0.999922  0.967447\n",
       "58330  SYNTHETIC:_Added_GTATCAAAGT_ACAGGTCCCACACCAGAC...  0.999929  0.985351\n",
       "58331               hob_k27ac_up_chr20:41072388-41072657  0.999942  0.964716\n",
       "58332              hob_k27ac_up_chr1:214718511-214718780  0.999982  0.988246\n",
       "\n",
       "[58333 rows x 3 columns]"
      ]
     },
     "execution_count": 13,
     "metadata": {},
     "output_type": "execute_result"
    }
   ],
   "source": [
    "checkCoor(df_, df, \"pval\")  # calling activity in control"
   ]
  },
  {
   "cell_type": "markdown",
   "id": "37cf61a9",
   "metadata": {},
   "source": [
    "### check label correlation - ctrl"
   ]
  },
  {
   "cell_type": "code",
   "execution_count": 14,
   "id": "f6c8470c",
   "metadata": {
    "ExecuteTime": {
     "end_time": "2023-11-16T00:49:15.664778Z",
     "start_time": "2023-11-16T00:49:15.586507Z"
    }
   },
   "outputs": [
    {
     "name": "stdout",
     "output_type": "stream",
     "text": [
      "            label.ctrl\n",
      "label.ctrl         1.0\n"
     ]
    },
    {
     "data": {
      "text/html": [
       "<div>\n",
       "<style scoped>\n",
       "    .dataframe tbody tr th:only-of-type {\n",
       "        vertical-align: middle;\n",
       "    }\n",
       "\n",
       "    .dataframe tbody tr th {\n",
       "        vertical-align: top;\n",
       "    }\n",
       "\n",
       "    .dataframe thead th {\n",
       "        text-align: right;\n",
       "    }\n",
       "</style>\n",
       "<table border=\"1\" class=\"dataframe\">\n",
       "  <thead>\n",
       "    <tr style=\"text-align: right;\">\n",
       "      <th></th>\n",
       "      <th>name</th>\n",
       "      <th>old-label.ctrl</th>\n",
       "      <th>label.ctrl</th>\n",
       "    </tr>\n",
       "  </thead>\n",
       "  <tbody>\n",
       "    <tr>\n",
       "      <th>0</th>\n",
       "      <td>SYNTHETIC:_Added_GGGGCGGGG_CAGAGCTG_CTGATAAGGA...</td>\n",
       "      <td>False</td>\n",
       "      <td>0</td>\n",
       "    </tr>\n",
       "    <tr>\n",
       "      <th>1</th>\n",
       "      <td>SYNTHETIC:_Added_TATACATA_GCCCGGGGG_TATACATA_A...</td>\n",
       "      <td>False</td>\n",
       "      <td>0</td>\n",
       "    </tr>\n",
       "    <tr>\n",
       "      <th>2</th>\n",
       "      <td>SYNTHETIC:_The_motif_CAGAGCTG_was_added_in_Pos...</td>\n",
       "      <td>False</td>\n",
       "      <td>0</td>\n",
       "    </tr>\n",
       "    <tr>\n",
       "      <th>3</th>\n",
       "      <td>SYNTHETIC:_The_motif_GAGATAAGGA_was_added_in_P...</td>\n",
       "      <td>False</td>\n",
       "      <td>0</td>\n",
       "    </tr>\n",
       "    <tr>\n",
       "      <th>4</th>\n",
       "      <td>k562_atac_up_chr1:67191823-67192092</td>\n",
       "      <td>False</td>\n",
       "      <td>0</td>\n",
       "    </tr>\n",
       "    <tr>\n",
       "      <th>...</th>\n",
       "      <td>...</td>\n",
       "      <td>...</td>\n",
       "      <td>...</td>\n",
       "    </tr>\n",
       "    <tr>\n",
       "      <th>58328</th>\n",
       "      <td>bj_k27ac_up_chr2:121502953-121503222</td>\n",
       "      <td>False</td>\n",
       "      <td>0</td>\n",
       "    </tr>\n",
       "    <tr>\n",
       "      <th>58329</th>\n",
       "      <td>bj_atac_up_chr16:24913178-24913447</td>\n",
       "      <td>False</td>\n",
       "      <td>0</td>\n",
       "    </tr>\n",
       "    <tr>\n",
       "      <th>58330</th>\n",
       "      <td>SYNTHETIC:_Added_GTATCAAAGT_ACAGGTCCCACACCAGAC...</td>\n",
       "      <td>False</td>\n",
       "      <td>0</td>\n",
       "    </tr>\n",
       "    <tr>\n",
       "      <th>58331</th>\n",
       "      <td>hob_k27ac_up_chr20:41072388-41072657</td>\n",
       "      <td>False</td>\n",
       "      <td>0</td>\n",
       "    </tr>\n",
       "    <tr>\n",
       "      <th>58332</th>\n",
       "      <td>hob_k27ac_up_chr1:214718511-214718780</td>\n",
       "      <td>False</td>\n",
       "      <td>0</td>\n",
       "    </tr>\n",
       "  </tbody>\n",
       "</table>\n",
       "<p>58333 rows × 3 columns</p>\n",
       "</div>"
      ],
      "text/plain": [
       "                                                    name old-label.ctrl  \\\n",
       "0      SYNTHETIC:_Added_GGGGCGGGG_CAGAGCTG_CTGATAAGGA...          False   \n",
       "1      SYNTHETIC:_Added_TATACATA_GCCCGGGGG_TATACATA_A...          False   \n",
       "2      SYNTHETIC:_The_motif_CAGAGCTG_was_added_in_Pos...          False   \n",
       "3      SYNTHETIC:_The_motif_GAGATAAGGA_was_added_in_P...          False   \n",
       "4                    k562_atac_up_chr1:67191823-67192092          False   \n",
       "...                                                  ...            ...   \n",
       "58328               bj_k27ac_up_chr2:121502953-121503222          False   \n",
       "58329                 bj_atac_up_chr16:24913178-24913447          False   \n",
       "58330  SYNTHETIC:_Added_GTATCAAAGT_ACAGGTCCCACACCAGAC...          False   \n",
       "58331               hob_k27ac_up_chr20:41072388-41072657          False   \n",
       "58332              hob_k27ac_up_chr1:214718511-214718780          False   \n",
       "\n",
       "       label.ctrl  \n",
       "0               0  \n",
       "1               0  \n",
       "2               0  \n",
       "3               0  \n",
       "4               0  \n",
       "...           ...  \n",
       "58328           0  \n",
       "58329           0  \n",
       "58330           0  \n",
       "58331           0  \n",
       "58332           0  \n",
       "\n",
       "[58333 rows x 3 columns]"
      ]
     },
     "execution_count": 14,
     "metadata": {},
     "output_type": "execute_result"
    }
   ],
   "source": [
    "checkCoor(df_, df, \"label.ctrl\")  # calling activity in control"
   ]
  },
  {
   "cell_type": "markdown",
   "id": "21b5ec6b",
   "metadata": {},
   "source": [
    "### check label correlation - us"
   ]
  },
  {
   "cell_type": "code",
   "execution_count": 15,
   "id": "00445896",
   "metadata": {
    "ExecuteTime": {
     "end_time": "2023-11-16T00:49:15.746309Z",
     "start_time": "2023-11-16T00:49:15.665774Z"
    }
   },
   "outputs": [
    {
     "name": "stdout",
     "output_type": "stream",
     "text": [
      "          label.us\n",
      "label.us       1.0\n"
     ]
    },
    {
     "data": {
      "text/html": [
       "<div>\n",
       "<style scoped>\n",
       "    .dataframe tbody tr th:only-of-type {\n",
       "        vertical-align: middle;\n",
       "    }\n",
       "\n",
       "    .dataframe tbody tr th {\n",
       "        vertical-align: top;\n",
       "    }\n",
       "\n",
       "    .dataframe thead th {\n",
       "        text-align: right;\n",
       "    }\n",
       "</style>\n",
       "<table border=\"1\" class=\"dataframe\">\n",
       "  <thead>\n",
       "    <tr style=\"text-align: right;\">\n",
       "      <th></th>\n",
       "      <th>name</th>\n",
       "      <th>old-label.us</th>\n",
       "      <th>label.us</th>\n",
       "    </tr>\n",
       "  </thead>\n",
       "  <tbody>\n",
       "    <tr>\n",
       "      <th>0</th>\n",
       "      <td>SYNTHETIC:_Added_GGGGCGGGG_CAGAGCTG_CTGATAAGGA...</td>\n",
       "      <td>False</td>\n",
       "      <td>0</td>\n",
       "    </tr>\n",
       "    <tr>\n",
       "      <th>1</th>\n",
       "      <td>SYNTHETIC:_Added_TATACATA_GCCCGGGGG_TATACATA_A...</td>\n",
       "      <td>False</td>\n",
       "      <td>0</td>\n",
       "    </tr>\n",
       "    <tr>\n",
       "      <th>2</th>\n",
       "      <td>SYNTHETIC:_The_motif_CAGAGCTG_was_added_in_Pos...</td>\n",
       "      <td>False</td>\n",
       "      <td>0</td>\n",
       "    </tr>\n",
       "    <tr>\n",
       "      <th>3</th>\n",
       "      <td>SYNTHETIC:_The_motif_GAGATAAGGA_was_added_in_P...</td>\n",
       "      <td>False</td>\n",
       "      <td>0</td>\n",
       "    </tr>\n",
       "    <tr>\n",
       "      <th>4</th>\n",
       "      <td>k562_atac_up_chr1:67191823-67192092</td>\n",
       "      <td>True</td>\n",
       "      <td>1</td>\n",
       "    </tr>\n",
       "    <tr>\n",
       "      <th>...</th>\n",
       "      <td>...</td>\n",
       "      <td>...</td>\n",
       "      <td>...</td>\n",
       "    </tr>\n",
       "    <tr>\n",
       "      <th>58328</th>\n",
       "      <td>bj_k27ac_up_chr2:121502953-121503222</td>\n",
       "      <td>False</td>\n",
       "      <td>0</td>\n",
       "    </tr>\n",
       "    <tr>\n",
       "      <th>58329</th>\n",
       "      <td>bj_atac_up_chr16:24913178-24913447</td>\n",
       "      <td>False</td>\n",
       "      <td>0</td>\n",
       "    </tr>\n",
       "    <tr>\n",
       "      <th>58330</th>\n",
       "      <td>SYNTHETIC:_Added_GTATCAAAGT_ACAGGTCCCACACCAGAC...</td>\n",
       "      <td>False</td>\n",
       "      <td>0</td>\n",
       "    </tr>\n",
       "    <tr>\n",
       "      <th>58331</th>\n",
       "      <td>hob_k27ac_up_chr20:41072388-41072657</td>\n",
       "      <td>False</td>\n",
       "      <td>0</td>\n",
       "    </tr>\n",
       "    <tr>\n",
       "      <th>58332</th>\n",
       "      <td>hob_k27ac_up_chr1:214718511-214718780</td>\n",
       "      <td>False</td>\n",
       "      <td>0</td>\n",
       "    </tr>\n",
       "  </tbody>\n",
       "</table>\n",
       "<p>58333 rows × 3 columns</p>\n",
       "</div>"
      ],
      "text/plain": [
       "                                                    name old-label.us  \\\n",
       "0      SYNTHETIC:_Added_GGGGCGGGG_CAGAGCTG_CTGATAAGGA...        False   \n",
       "1      SYNTHETIC:_Added_TATACATA_GCCCGGGGG_TATACATA_A...        False   \n",
       "2      SYNTHETIC:_The_motif_CAGAGCTG_was_added_in_Pos...        False   \n",
       "3      SYNTHETIC:_The_motif_GAGATAAGGA_was_added_in_P...        False   \n",
       "4                    k562_atac_up_chr1:67191823-67192092         True   \n",
       "...                                                  ...          ...   \n",
       "58328               bj_k27ac_up_chr2:121502953-121503222        False   \n",
       "58329                 bj_atac_up_chr16:24913178-24913447        False   \n",
       "58330  SYNTHETIC:_Added_GTATCAAAGT_ACAGGTCCCACACCAGAC...        False   \n",
       "58331               hob_k27ac_up_chr20:41072388-41072657        False   \n",
       "58332              hob_k27ac_up_chr1:214718511-214718780        False   \n",
       "\n",
       "       label.us  \n",
       "0             0  \n",
       "1             0  \n",
       "2             0  \n",
       "3             0  \n",
       "4             1  \n",
       "...         ...  \n",
       "58328         0  \n",
       "58329         0  \n",
       "58330         0  \n",
       "58331         0  \n",
       "58332         0  \n",
       "\n",
       "[58333 rows x 3 columns]"
      ]
     },
     "execution_count": 15,
     "metadata": {},
     "output_type": "execute_result"
    }
   ],
   "source": [
    "checkCoor(df_, df, \"label.us\")  # calling activity in US"
   ]
  },
  {
   "cell_type": "code",
   "execution_count": 16,
   "id": "728b3487",
   "metadata": {
    "ExecuteTime": {
     "end_time": "2023-11-16T00:49:15.819923Z",
     "start_time": "2023-11-16T00:49:15.747221Z"
    }
   },
   "outputs": [
    {
     "name": "stdout",
     "output_type": "stream",
     "text": [
      "          response\n",
      "response       1.0\n"
     ]
    },
    {
     "data": {
      "text/html": [
       "<div>\n",
       "<style scoped>\n",
       "    .dataframe tbody tr th:only-of-type {\n",
       "        vertical-align: middle;\n",
       "    }\n",
       "\n",
       "    .dataframe tbody tr th {\n",
       "        vertical-align: top;\n",
       "    }\n",
       "\n",
       "    .dataframe thead th {\n",
       "        text-align: right;\n",
       "    }\n",
       "</style>\n",
       "<table border=\"1\" class=\"dataframe\">\n",
       "  <thead>\n",
       "    <tr style=\"text-align: right;\">\n",
       "      <th></th>\n",
       "      <th>name</th>\n",
       "      <th>old-response</th>\n",
       "      <th>response</th>\n",
       "    </tr>\n",
       "  </thead>\n",
       "  <tbody>\n",
       "    <tr>\n",
       "      <th>0</th>\n",
       "      <td>SYNTHETIC:_Added_GGGGCGGGG_CAGAGCTG_CTGATAAGGA...</td>\n",
       "      <td>False</td>\n",
       "      <td>False</td>\n",
       "    </tr>\n",
       "    <tr>\n",
       "      <th>1</th>\n",
       "      <td>SYNTHETIC:_Added_TATACATA_GCCCGGGGG_TATACATA_A...</td>\n",
       "      <td>False</td>\n",
       "      <td>False</td>\n",
       "    </tr>\n",
       "    <tr>\n",
       "      <th>2</th>\n",
       "      <td>SYNTHETIC:_The_motif_CAGAGCTG_was_added_in_Pos...</td>\n",
       "      <td>False</td>\n",
       "      <td>False</td>\n",
       "    </tr>\n",
       "    <tr>\n",
       "      <th>3</th>\n",
       "      <td>SYNTHETIC:_The_motif_GAGATAAGGA_was_added_in_P...</td>\n",
       "      <td>False</td>\n",
       "      <td>False</td>\n",
       "    </tr>\n",
       "    <tr>\n",
       "      <th>4</th>\n",
       "      <td>k562_atac_up_chr1:67191823-67192092</td>\n",
       "      <td>True</td>\n",
       "      <td>True</td>\n",
       "    </tr>\n",
       "    <tr>\n",
       "      <th>...</th>\n",
       "      <td>...</td>\n",
       "      <td>...</td>\n",
       "      <td>...</td>\n",
       "    </tr>\n",
       "    <tr>\n",
       "      <th>58328</th>\n",
       "      <td>bj_k27ac_up_chr2:121502953-121503222</td>\n",
       "      <td>False</td>\n",
       "      <td>False</td>\n",
       "    </tr>\n",
       "    <tr>\n",
       "      <th>58329</th>\n",
       "      <td>bj_atac_up_chr16:24913178-24913447</td>\n",
       "      <td>False</td>\n",
       "      <td>False</td>\n",
       "    </tr>\n",
       "    <tr>\n",
       "      <th>58330</th>\n",
       "      <td>SYNTHETIC:_Added_GTATCAAAGT_ACAGGTCCCACACCAGAC...</td>\n",
       "      <td>False</td>\n",
       "      <td>False</td>\n",
       "    </tr>\n",
       "    <tr>\n",
       "      <th>58331</th>\n",
       "      <td>hob_k27ac_up_chr20:41072388-41072657</td>\n",
       "      <td>False</td>\n",
       "      <td>False</td>\n",
       "    </tr>\n",
       "    <tr>\n",
       "      <th>58332</th>\n",
       "      <td>hob_k27ac_up_chr1:214718511-214718780</td>\n",
       "      <td>False</td>\n",
       "      <td>False</td>\n",
       "    </tr>\n",
       "  </tbody>\n",
       "</table>\n",
       "<p>58333 rows × 3 columns</p>\n",
       "</div>"
      ],
      "text/plain": [
       "                                                    name old-response  \\\n",
       "0      SYNTHETIC:_Added_GGGGCGGGG_CAGAGCTG_CTGATAAGGA...        False   \n",
       "1      SYNTHETIC:_Added_TATACATA_GCCCGGGGG_TATACATA_A...        False   \n",
       "2      SYNTHETIC:_The_motif_CAGAGCTG_was_added_in_Pos...        False   \n",
       "3      SYNTHETIC:_The_motif_GAGATAAGGA_was_added_in_P...        False   \n",
       "4                    k562_atac_up_chr1:67191823-67192092         True   \n",
       "...                                                  ...          ...   \n",
       "58328               bj_k27ac_up_chr2:121502953-121503222        False   \n",
       "58329                 bj_atac_up_chr16:24913178-24913447        False   \n",
       "58330  SYNTHETIC:_Added_GTATCAAAGT_ACAGGTCCCACACCAGAC...        False   \n",
       "58331               hob_k27ac_up_chr20:41072388-41072657        False   \n",
       "58332              hob_k27ac_up_chr1:214718511-214718780        False   \n",
       "\n",
       "       response  \n",
       "0         False  \n",
       "1         False  \n",
       "2         False  \n",
       "3         False  \n",
       "4          True  \n",
       "...         ...  \n",
       "58328     False  \n",
       "58329     False  \n",
       "58330     False  \n",
       "58331     False  \n",
       "58332     False  \n",
       "\n",
       "[58333 rows x 3 columns]"
      ]
     },
     "execution_count": 16,
     "metadata": {},
     "output_type": "execute_result"
    }
   ],
   "source": [
    "checkCoor(df_, df, \"response\")"
   ]
  },
  {
   "cell_type": "markdown",
   "id": "6af3a904",
   "metadata": {},
   "source": [
    "not sure if response column rules are correct. Correct according to methods. "
   ]
  },
  {
   "cell_type": "code",
   "execution_count": 41,
   "id": "c01d634e",
   "metadata": {
    "ExecuteTime": {
     "end_time": "2023-11-16T00:53:29.304224Z",
     "start_time": "2023-11-16T00:53:29.277787Z"
    }
   },
   "outputs": [
    {
     "data": {
      "text/plain": [
       "direction\n",
       "LESS_ACTIVE    10228\n",
       "LESS_SILENT    13361\n",
       "MORE_ACTIVE    13344\n",
       "MORE_SILENT    17857\n",
       "US_DOWN         1834\n",
       "US_UP           1709\n",
       "Name: name, dtype: int64"
      ]
     },
     "execution_count": 41,
     "metadata": {},
     "output_type": "execute_result"
    }
   ],
   "source": [
    "df.groupby(\"direction\")[\"name\"].count()"
   ]
  },
  {
   "cell_type": "markdown",
   "id": "5fb7eb12",
   "metadata": {},
   "source": [
    "## Within group replicate correlation? "
   ]
  },
  {
   "cell_type": "markdown",
   "id": "ef0b0ebf",
   "metadata": {},
   "source": [
    "### plot function"
   ]
  },
  {
   "cell_type": "code",
   "execution_count": 17,
   "id": "afd0a524",
   "metadata": {
    "ExecuteTime": {
     "end_time": "2023-11-16T00:49:15.823567Z",
     "start_time": "2023-11-16T00:49:15.820839Z"
    }
   },
   "outputs": [],
   "source": [
    "def plotCorrHeatMap(data,cols):\n",
    "    \"\"\" plot pearson and spearman correlation between columns in a dataframe\"\"\"\n",
    "    pearson = data[cols].corr()\n",
    "    spearman = data[cols].corr(method=\"spearman\")\n",
    "    \n",
    "    matrix_p = np.triu(pearson)\n",
    "    matrix_s = np.triu(spearman)\n",
    "    \n",
    "    # pearson\n",
    "    fig,ax=plt.subplots()\n",
    "    sns.heatmap(pearson, \n",
    "                annot=True, \n",
    "                mask=matrix_p,\n",
    "                center=0,\n",
    "                cbar_kws={\"label\":\"pearson\"}) \n",
    "\n",
    "    # spearman\n",
    "    fig,ax=plt.subplots()\n",
    "    sns.heatmap(spearman, \n",
    "                annot=True,\n",
    "                mask=matrix_s,\n",
    "                center=0,\n",
    "                cbar_kws={\"label\":\"spearman\"})"
   ]
  },
  {
   "cell_type": "markdown",
   "id": "89d8addf",
   "metadata": {},
   "source": [
    "### within replicates, Pearson, Spearman"
   ]
  },
  {
   "cell_type": "code",
   "execution_count": 18,
   "id": "f0311e07",
   "metadata": {
    "ExecuteTime": {
     "end_time": "2023-11-16T00:49:15.825641Z",
     "start_time": "2023-11-16T00:49:15.824341Z"
    }
   },
   "outputs": [],
   "source": [
    "ratios=constants[\"L2RATIOS\"]"
   ]
  },
  {
   "cell_type": "code",
   "execution_count": 19,
   "id": "6230d328",
   "metadata": {
    "ExecuteTime": {
     "end_time": "2023-11-16T00:49:16.105195Z",
     "start_time": "2023-11-16T00:49:15.826481Z"
    }
   },
   "outputs": [
    {
     "data": {
      "image/png": "[encoded data removed]",
      "text/plain": [
       "<Figure size 432x288 with 2 Axes>"
      ]
     },
     "metadata": {
      "needs_background": "light"
     },
     "output_type": "display_data"
    },
    {
     "data": {
      "image/png": "[encoded data removed]",
      "text/plain": [
       "<Figure size 432x288 with 2 Axes>"
      ]
     },
     "metadata": {
      "needs_background": "light"
     },
     "output_type": "display_data"
    }
   ],
   "source": [
    "data = df\n",
    "cols = ratios\n",
    "\n",
    "plotCorrHeatMap(data,cols)"
   ]
  },
  {
   "cell_type": "markdown",
   "id": "c48fc9aa",
   "metadata": {},
   "source": [
    "### distribution is very similar"
   ]
  },
  {
   "cell_type": "code",
   "execution_count": 20,
   "id": "6fc7b1f3",
   "metadata": {
    "ExecuteTime": {
     "end_time": "2023-11-16T00:49:17.023663Z",
     "start_time": "2023-11-16T00:49:16.106148Z"
    }
   },
   "outputs": [
    {
     "data": {
      "text/plain": [
       "[Text(0.5, 0, 'log2(RNA/DNA)')]"
      ]
     },
     "execution_count": 20,
     "metadata": {},
     "output_type": "execute_result"
    },
    {
     "data": {
      "image/png": "[encoded data removed]",
      "text/plain": [
       "<Figure size 432x288 with 1 Axes>"
      ]
     },
     "metadata": {
      "needs_background": "light"
     },
     "output_type": "display_data"
    }
   ],
   "source": [
    "fig,ax=plt.subplots()\n",
    "\n",
    "for col in ratios:\n",
    "    color=\"orange\"\n",
    "    if \"ctrl\" in col:\n",
    "        color=\"grey\"\n",
    "        \n",
    "    sns.histplot(data[col].sample(frac=0.2), label=col, color=color, kde=True)\n",
    "plt.legend()\n",
    "ax.set(xlabel = 'log2(RNA/DNA)')"
   ]
  },
  {
   "cell_type": "markdown",
   "id": "8a890d53",
   "metadata": {},
   "source": [
    "# Standard scaling per replicate"
   ]
  },
  {
   "cell_type": "code",
   "execution_count": 21,
   "id": "66ed66e9",
   "metadata": {
    "ExecuteTime": {
     "end_time": "2023-11-16T00:49:17.186548Z",
     "start_time": "2023-11-16T00:49:17.024636Z"
    }
   },
   "outputs": [
    {
     "data": {
      "text/html": [
       "<div>\n",
       "<style scoped>\n",
       "    .dataframe tbody tr th:only-of-type {\n",
       "        vertical-align: middle;\n",
       "    }\n",
       "\n",
       "    .dataframe tbody tr th {\n",
       "        vertical-align: top;\n",
       "    }\n",
       "\n",
       "    .dataframe thead th {\n",
       "        text-align: right;\n",
       "    }\n",
       "</style>\n",
       "<table border=\"1\" class=\"dataframe\">\n",
       "  <thead>\n",
       "    <tr style=\"text-align: right;\">\n",
       "      <th></th>\n",
       "      <th>name</th>\n",
       "      <th>l2.ratio.1.ctrl</th>\n",
       "      <th>l2.ratio.2.ctrl</th>\n",
       "      <th>l2.ratio.3.ctrl</th>\n",
       "      <th>l2.ratio.1.us</th>\n",
       "      <th>l2.ratio.2.us</th>\n",
       "      <th>l2.ratio.3.us</th>\n",
       "      <th>l2.ratio.med.ctrl</th>\n",
       "      <th>l2.ratio.mean.ctrl</th>\n",
       "      <th>l2.ratio.std.ctrl</th>\n",
       "      <th>l2.ratio.med.us</th>\n",
       "      <th>l2.ratio.mean.us</th>\n",
       "      <th>l2.ratio.std.us</th>\n",
       "      <th>delta.med</th>\n",
       "      <th>delta.mean</th>\n",
       "      <th>pval</th>\n",
       "      <th>label.ctrl</th>\n",
       "      <th>label.us</th>\n",
       "      <th>response</th>\n",
       "      <th>type</th>\n",
       "    </tr>\n",
       "  </thead>\n",
       "  <tbody>\n",
       "    <tr>\n",
       "      <th>0</th>\n",
       "      <td>SYNTHETIC:_Added_GGGGCGGGG_CAGAGCTG_CTGATAAGGA...</td>\n",
       "      <td>-0.620021</td>\n",
       "      <td>-0.585774</td>\n",
       "      <td>-0.697189</td>\n",
       "      <td>-1.883558</td>\n",
       "      <td>-2.133393</td>\n",
       "      <td>-1.973695</td>\n",
       "      <td>-0.620021</td>\n",
       "      <td>-0.634328</td>\n",
       "      <td>0.057069</td>\n",
       "      <td>-1.973695</td>\n",
       "      <td>-1.996882</td>\n",
       "      <td>0.126521</td>\n",
       "      <td>-1.353675</td>\n",
       "      <td>-1.362554</td>\n",
       "      <td>0.000679</td>\n",
       "      <td>False</td>\n",
       "      <td>False</td>\n",
       "      <td>False</td>\n",
       "      <td>Synthetic</td>\n",
       "    </tr>\n",
       "    <tr>\n",
       "      <th>1</th>\n",
       "      <td>SYNTHETIC:_Added_TATACATA_GCCCGGGGG_TATACATA_A...</td>\n",
       "      <td>0.259071</td>\n",
       "      <td>0.305156</td>\n",
       "      <td>0.315380</td>\n",
       "      <td>-0.106765</td>\n",
       "      <td>-0.055383</td>\n",
       "      <td>-0.078735</td>\n",
       "      <td>0.305156</td>\n",
       "      <td>0.293202</td>\n",
       "      <td>0.029997</td>\n",
       "      <td>-0.078735</td>\n",
       "      <td>-0.080295</td>\n",
       "      <td>0.025726</td>\n",
       "      <td>-0.383891</td>\n",
       "      <td>-0.373497</td>\n",
       "      <td>0.000095</td>\n",
       "      <td>False</td>\n",
       "      <td>False</td>\n",
       "      <td>False</td>\n",
       "      <td>Synthetic</td>\n",
       "    </tr>\n",
       "    <tr>\n",
       "      <th>2</th>\n",
       "      <td>SYNTHETIC:_The_motif_CAGAGCTG_was_added_in_Pos...</td>\n",
       "      <td>-0.517866</td>\n",
       "      <td>-0.483794</td>\n",
       "      <td>-0.559235</td>\n",
       "      <td>-0.816328</td>\n",
       "      <td>-0.936917</td>\n",
       "      <td>-1.002340</td>\n",
       "      <td>-0.517866</td>\n",
       "      <td>-0.520298</td>\n",
       "      <td>0.037780</td>\n",
       "      <td>-0.936917</td>\n",
       "      <td>-0.918528</td>\n",
       "      <td>0.094359</td>\n",
       "      <td>-0.419050</td>\n",
       "      <td>-0.398230</td>\n",
       "      <td>0.009865</td>\n",
       "      <td>False</td>\n",
       "      <td>False</td>\n",
       "      <td>False</td>\n",
       "      <td>Synthetic</td>\n",
       "    </tr>\n",
       "    <tr>\n",
       "      <th>3</th>\n",
       "      <td>SYNTHETIC:_The_motif_GAGATAAGGA_was_added_in_P...</td>\n",
       "      <td>-0.018014</td>\n",
       "      <td>0.119477</td>\n",
       "      <td>0.074187</td>\n",
       "      <td>-0.653532</td>\n",
       "      <td>-0.767229</td>\n",
       "      <td>-0.651184</td>\n",
       "      <td>0.074187</td>\n",
       "      <td>0.058550</td>\n",
       "      <td>0.070067</td>\n",
       "      <td>-0.653532</td>\n",
       "      <td>-0.690648</td>\n",
       "      <td>0.066331</td>\n",
       "      <td>-0.727719</td>\n",
       "      <td>-0.749198</td>\n",
       "      <td>0.000180</td>\n",
       "      <td>False</td>\n",
       "      <td>False</td>\n",
       "      <td>False</td>\n",
       "      <td>Synthetic</td>\n",
       "    </tr>\n",
       "    <tr>\n",
       "      <th>4</th>\n",
       "      <td>k562_atac_up_chr1:67191823-67192092</td>\n",
       "      <td>0.828031</td>\n",
       "      <td>0.814431</td>\n",
       "      <td>0.871116</td>\n",
       "      <td>0.983437</td>\n",
       "      <td>0.996373</td>\n",
       "      <td>1.079709</td>\n",
       "      <td>0.828031</td>\n",
       "      <td>0.837859</td>\n",
       "      <td>0.029593</td>\n",
       "      <td>0.996373</td>\n",
       "      <td>1.019840</td>\n",
       "      <td>0.052250</td>\n",
       "      <td>0.168342</td>\n",
       "      <td>0.181980</td>\n",
       "      <td>0.011772</td>\n",
       "      <td>False</td>\n",
       "      <td>True</td>\n",
       "      <td>False</td>\n",
       "      <td>ATAC</td>\n",
       "    </tr>\n",
       "  </tbody>\n",
       "</table>\n",
       "</div>"
      ],
      "text/plain": [
       "                                                name  l2.ratio.1.ctrl  \\\n",
       "0  SYNTHETIC:_Added_GGGGCGGGG_CAGAGCTG_CTGATAAGGA...        -0.620021   \n",
       "1  SYNTHETIC:_Added_TATACATA_GCCCGGGGG_TATACATA_A...         0.259071   \n",
       "2  SYNTHETIC:_The_motif_CAGAGCTG_was_added_in_Pos...        -0.517866   \n",
       "3  SYNTHETIC:_The_motif_GAGATAAGGA_was_added_in_P...        -0.018014   \n",
       "4                k562_atac_up_chr1:67191823-67192092         0.828031   \n",
       "\n",
       "   l2.ratio.2.ctrl  l2.ratio.3.ctrl  l2.ratio.1.us  l2.ratio.2.us  \\\n",
       "0        -0.585774        -0.697189      -1.883558      -2.133393   \n",
       "1         0.305156         0.315380      -0.106765      -0.055383   \n",
       "2        -0.483794        -0.559235      -0.816328      -0.936917   \n",
       "3         0.119477         0.074187      -0.653532      -0.767229   \n",
       "4         0.814431         0.871116       0.983437       0.996373   \n",
       "\n",
       "   l2.ratio.3.us  l2.ratio.med.ctrl  l2.ratio.mean.ctrl  l2.ratio.std.ctrl  \\\n",
       "0      -1.973695          -0.620021           -0.634328           0.057069   \n",
       "1      -0.078735           0.305156            0.293202           0.029997   \n",
       "2      -1.002340          -0.517866           -0.520298           0.037780   \n",
       "3      -0.651184           0.074187            0.058550           0.070067   \n",
       "4       1.079709           0.828031            0.837859           0.029593   \n",
       "\n",
       "   l2.ratio.med.us  l2.ratio.mean.us  l2.ratio.std.us  delta.med  delta.mean  \\\n",
       "0        -1.973695         -1.996882         0.126521  -1.353675   -1.362554   \n",
       "1        -0.078735         -0.080295         0.025726  -0.383891   -0.373497   \n",
       "2        -0.936917         -0.918528         0.094359  -0.419050   -0.398230   \n",
       "3        -0.653532         -0.690648         0.066331  -0.727719   -0.749198   \n",
       "4         0.996373          1.019840         0.052250   0.168342    0.181980   \n",
       "\n",
       "       pval  label.ctrl  label.us  response       type  \n",
       "0  0.000679       False     False     False  Synthetic  \n",
       "1  0.000095       False     False     False  Synthetic  \n",
       "2  0.009865       False     False     False  Synthetic  \n",
       "3  0.000180       False     False     False  Synthetic  \n",
       "4  0.011772       False      True     False       ATAC  "
      ]
     },
     "execution_count": 21,
     "metadata": {},
     "output_type": "execute_result"
    }
   ],
   "source": [
    "if os.path.exists(SCALED) is False:\n",
    "    X = df[ratios]\n",
    "\n",
    "    transformer = StandardScaler()\n",
    "\n",
    "    t = pd.DataFrame(transformer.fit_transform(X[ratios]))\n",
    "\n",
    "    t.columns = ratios # rename columns \n",
    "\n",
    "    ### mean, median of standardized values\n",
    "\n",
    "    t = computeStats(t, ratios)\n",
    "\n",
    "    # compute delta\n",
    "    t = computeDelta(t)\n",
    "\n",
    "    ### compute p value on standardized scale\n",
    "    t = computePval(t, ratios)\n",
    "\n",
    "    # add back names\n",
    "    t = pd.merge(df['name'], t, left_index=True,right_index=True)\n",
    "\n",
    "    # recall active\n",
    "    t = callActive(t)\n",
    "\n",
    "    # recall response\n",
    "    t = callResponse(t)\n",
    "\n",
    "    # add type information back into transformed dataframe\n",
    "    t = pd.merge(t, df[[\"name\", \n",
    "                    \"type\"]])\n",
    "    \n",
    " \n",
    "    t[\"pval\"] = t[\"pval\"].astype(float)\n",
    "    t[\"-log10p\"] = np.log10(t[\"pval\"])*-1\n",
    "    \n",
    "    # write\n",
    "    t.to_csv(SCALED, sep='\\t', index=False)\n",
    "    \n",
    "    \n",
    "\n",
    "else:\n",
    "    t= pd.read_csv(SCALED, sep='\\t')\n",
    "t.head()"
   ]
  },
  {
   "cell_type": "code",
   "execution_count": 22,
   "id": "e4e77d81",
   "metadata": {
    "ExecuteTime": {
     "end_time": "2023-11-16T00:49:17.446556Z",
     "start_time": "2023-11-16T00:49:17.187468Z"
    }
   },
   "outputs": [
    {
     "data": {
      "image/png": "[encoded data removed]",
      "text/plain": [
       "<Figure size 432x288 with 2 Axes>"
      ]
     },
     "metadata": {
      "needs_background": "light"
     },
     "output_type": "display_data"
    },
    {
     "data": {
      "image/png": "[encoded data removed]",
      "text/plain": [
       "<Figure size 432x288 with 2 Axes>"
      ]
     },
     "metadata": {
      "needs_background": "light"
     },
     "output_type": "display_data"
    }
   ],
   "source": [
    "data = t\n",
    "cols = ratios\n",
    "\n",
    "plotCorrHeatMap(data,cols)"
   ]
  },
  {
   "cell_type": "markdown",
   "id": "098ce5fb",
   "metadata": {},
   "source": [
    "##### After transform, the correlations between the sets are still the same\n",
    "##### but the values are scaled to account for variance between replicates"
   ]
  },
  {
   "cell_type": "code",
   "execution_count": 23,
   "id": "8c08a105",
   "metadata": {
    "ExecuteTime": {
     "end_time": "2023-11-16T00:49:18.406012Z",
     "start_time": "2023-11-16T00:49:17.447635Z"
    }
   },
   "outputs": [
    {
     "data": {
      "text/plain": [
       "[Text(0.5, 0, 'log2(RNA/DNA)')]"
      ]
     },
     "execution_count": 23,
     "metadata": {},
     "output_type": "execute_result"
    },
    {
     "data": {
      "image/png": "[encoded data removed]",
      "text/plain": [
       "<Figure size 432x288 with 1 Axes>"
      ]
     },
     "metadata": {
      "needs_background": "light"
     },
     "output_type": "display_data"
    }
   ],
   "source": [
    "fig,ax=plt.subplots()\n",
    "for col in ratios:\n",
    "    color=\"orange\"\n",
    "    if \"ctrl\" in col:\n",
    "        color=\"grey\"\n",
    "        \n",
    "    sns.histplot(data[col].sample(frac=0.2), label=col, color=color, kde=True)\n",
    "    \n",
    "plt.legend()\n",
    "ax.set(xlabel = 'log2(RNA/DNA)')"
   ]
  },
  {
   "cell_type": "markdown",
   "id": "61ad1714",
   "metadata": {},
   "source": [
    "## standard deviation distribution"
   ]
  },
  {
   "cell_type": "code",
   "execution_count": 24,
   "id": "6d57472b",
   "metadata": {
    "ExecuteTime": {
     "end_time": "2023-11-16T00:49:18.796778Z",
     "start_time": "2023-11-16T00:49:18.407002Z"
    }
   },
   "outputs": [
    {
     "data": {
      "text/plain": [
       "<matplotlib.legend.Legend at 0x7fab2895f710>"
      ]
     },
     "execution_count": 24,
     "metadata": {},
     "output_type": "execute_result"
    },
    {
     "data": {
      "image/png": "[encoded data removed]",
      "text/plain": [
       "<Figure size 432x288 with 1 Axes>"
      ]
     },
     "metadata": {
      "needs_background": "light"
     },
     "output_type": "display_data"
    }
   ],
   "source": [
    "sns.histplot(x='l2.ratio.std.ctrl', data=df, label = 'ctrl-std')\n",
    "sns.histplot(x='l2.ratio.std.us', data=df, label = 'us-std', color=\"orange\")\n",
    "plt.legend()"
   ]
  },
  {
   "cell_type": "code",
   "execution_count": 25,
   "id": "d804016e",
   "metadata": {
    "ExecuteTime": {
     "end_time": "2023-11-16T00:49:21.027013Z",
     "start_time": "2023-11-16T00:49:18.797660Z"
    }
   },
   "outputs": [
    {
     "data": {
      "text/html": [
       "<div>\n",
       "<style scoped>\n",
       "    .dataframe tbody tr th:only-of-type {\n",
       "        vertical-align: middle;\n",
       "    }\n",
       "\n",
       "    .dataframe tbody tr th {\n",
       "        vertical-align: top;\n",
       "    }\n",
       "\n",
       "    .dataframe thead th {\n",
       "        text-align: right;\n",
       "    }\n",
       "</style>\n",
       "<table border=\"1\" class=\"dataframe\">\n",
       "  <thead>\n",
       "    <tr style=\"text-align: right;\">\n",
       "      <th></th>\n",
       "      <th>l2.ratio.std.ctrl</th>\n",
       "      <th>l2.ratio.std.us</th>\n",
       "    </tr>\n",
       "  </thead>\n",
       "  <tbody>\n",
       "    <tr>\n",
       "      <th>l2.ratio.std.ctrl</th>\n",
       "      <td>1.000000</td>\n",
       "      <td>0.398448</td>\n",
       "    </tr>\n",
       "    <tr>\n",
       "      <th>l2.ratio.std.us</th>\n",
       "      <td>0.398448</td>\n",
       "      <td>1.000000</td>\n",
       "    </tr>\n",
       "  </tbody>\n",
       "</table>\n",
       "</div>"
      ],
      "text/plain": [
       "                   l2.ratio.std.ctrl  l2.ratio.std.us\n",
       "l2.ratio.std.ctrl           1.000000         0.398448\n",
       "l2.ratio.std.us             0.398448         1.000000"
      ]
     },
     "execution_count": 25,
     "metadata": {},
     "output_type": "execute_result"
    },
    {
     "data": {
      "image/png": "[encoded data removed]",
      "text/plain": [
       "<Figure size 432x432 with 3 Axes>"
      ]
     },
     "metadata": {
      "needs_background": "light"
     },
     "output_type": "display_data"
    }
   ],
   "source": [
    "x='l2.ratio.std.ctrl'\n",
    "y='l2.ratio.std.us'\n",
    "sns.jointplot(x=x,y=y,data=df, kind=\"reg\")\n",
    "df[[x,y]].corr()"
   ]
  },
  {
   "cell_type": "markdown",
   "id": "b279d3fe",
   "metadata": {},
   "source": [
    "# US v. controls per replicate"
   ]
  },
  {
   "cell_type": "markdown",
   "id": "3596337d",
   "metadata": {},
   "source": [
    "## not transformed"
   ]
  },
  {
   "cell_type": "code",
   "execution_count": 26,
   "id": "d902cd21",
   "metadata": {
    "ExecuteTime": {
     "end_time": "2023-11-16T00:49:21.285979Z",
     "start_time": "2023-11-16T00:49:21.027961Z"
    }
   },
   "outputs": [
    {
     "data": {
      "image/png": "[encoded data removed]",
      "text/plain": [
       "<Figure size 432x288 with 2 Axes>"
      ]
     },
     "metadata": {
      "needs_background": "light"
     },
     "output_type": "display_data"
    },
    {
     "data": {
      "image/png": "[encoded data removed]",
      "text/plain": [
       "<Figure size 432x288 with 2 Axes>"
      ]
     },
     "metadata": {
      "needs_background": "light"
     },
     "output_type": "display_data"
    }
   ],
   "source": [
    "data = df\n",
    "cols = ['l2.ratio.mean.ctrl', 'l2.ratio.mean.us',\n",
    "        'l2.ratio.med.ctrl','l2.ratio.med.us', \n",
    "        'l2.ratio.std.ctrl','l2.ratio.std.us']\n",
    "\n",
    "plotCorrHeatMap(data,cols)"
   ]
  },
  {
   "cell_type": "markdown",
   "id": "c3971ed6",
   "metadata": {},
   "source": [
    "### descriptive stats"
   ]
  },
  {
   "cell_type": "code",
   "execution_count": 27,
   "id": "daffe629",
   "metadata": {
    "ExecuteTime": {
     "end_time": "2023-11-16T00:49:21.307794Z",
     "start_time": "2023-11-16T00:49:21.286829Z"
    }
   },
   "outputs": [
    {
     "data": {
      "text/html": [
       "<div>\n",
       "<style scoped>\n",
       "    .dataframe tbody tr th:only-of-type {\n",
       "        vertical-align: middle;\n",
       "    }\n",
       "\n",
       "    .dataframe tbody tr th {\n",
       "        vertical-align: top;\n",
       "    }\n",
       "\n",
       "    .dataframe thead th {\n",
       "        text-align: right;\n",
       "    }\n",
       "</style>\n",
       "<table border=\"1\" class=\"dataframe\">\n",
       "  <thead>\n",
       "    <tr style=\"text-align: right;\">\n",
       "      <th></th>\n",
       "      <th>l2.ratio.mean.ctrl</th>\n",
       "      <th>l2.ratio.mean.us</th>\n",
       "      <th>l2.ratio.med.ctrl</th>\n",
       "      <th>l2.ratio.med.us</th>\n",
       "      <th>l2.ratio.std.ctrl</th>\n",
       "      <th>l2.ratio.std.us</th>\n",
       "    </tr>\n",
       "  </thead>\n",
       "  <tbody>\n",
       "    <tr>\n",
       "      <th>count</th>\n",
       "      <td>58333.000000</td>\n",
       "      <td>58333.000000</td>\n",
       "      <td>58333.000000</td>\n",
       "      <td>58333.000000</td>\n",
       "      <td>58333.000000</td>\n",
       "      <td>58333.000000</td>\n",
       "    </tr>\n",
       "    <tr>\n",
       "      <th>mean</th>\n",
       "      <td>-0.146814</td>\n",
       "      <td>-0.151555</td>\n",
       "      <td>-0.147043</td>\n",
       "      <td>-0.151846</td>\n",
       "      <td>0.104542</td>\n",
       "      <td>0.105496</td>\n",
       "    </tr>\n",
       "    <tr>\n",
       "      <th>std</th>\n",
       "      <td>0.470644</td>\n",
       "      <td>0.488555</td>\n",
       "      <td>0.472168</td>\n",
       "      <td>0.490006</td>\n",
       "      <td>0.079453</td>\n",
       "      <td>0.078234</td>\n",
       "    </tr>\n",
       "    <tr>\n",
       "      <th>min</th>\n",
       "      <td>-2.858338</td>\n",
       "      <td>-2.869390</td>\n",
       "      <td>-2.884952</td>\n",
       "      <td>-2.918264</td>\n",
       "      <td>0.000408</td>\n",
       "      <td>0.000779</td>\n",
       "    </tr>\n",
       "    <tr>\n",
       "      <th>25%</th>\n",
       "      <td>-0.426387</td>\n",
       "      <td>-0.447639</td>\n",
       "      <td>-0.426649</td>\n",
       "      <td>-0.448825</td>\n",
       "      <td>0.048010</td>\n",
       "      <td>0.049771</td>\n",
       "    </tr>\n",
       "    <tr>\n",
       "      <th>50%</th>\n",
       "      <td>-0.093083</td>\n",
       "      <td>-0.098858</td>\n",
       "      <td>-0.092891</td>\n",
       "      <td>-0.097897</td>\n",
       "      <td>0.084545</td>\n",
       "      <td>0.086176</td>\n",
       "    </tr>\n",
       "    <tr>\n",
       "      <th>75%</th>\n",
       "      <td>0.225519</td>\n",
       "      <td>0.237539</td>\n",
       "      <td>0.224935</td>\n",
       "      <td>0.236780</td>\n",
       "      <td>0.138896</td>\n",
       "      <td>0.139912</td>\n",
       "    </tr>\n",
       "    <tr>\n",
       "      <th>max</th>\n",
       "      <td>3.942584</td>\n",
       "      <td>4.220316</td>\n",
       "      <td>3.977579</td>\n",
       "      <td>4.217331</td>\n",
       "      <td>0.794111</td>\n",
       "      <td>0.781414</td>\n",
       "    </tr>\n",
       "  </tbody>\n",
       "</table>\n",
       "</div>"
      ],
      "text/plain": [
       "       l2.ratio.mean.ctrl  l2.ratio.mean.us  l2.ratio.med.ctrl  \\\n",
       "count        58333.000000      58333.000000       58333.000000   \n",
       "mean            -0.146814         -0.151555          -0.147043   \n",
       "std              0.470644          0.488555           0.472168   \n",
       "min             -2.858338         -2.869390          -2.884952   \n",
       "25%             -0.426387         -0.447639          -0.426649   \n",
       "50%             -0.093083         -0.098858          -0.092891   \n",
       "75%              0.225519          0.237539           0.224935   \n",
       "max              3.942584          4.220316           3.977579   \n",
       "\n",
       "       l2.ratio.med.us  l2.ratio.std.ctrl  l2.ratio.std.us  \n",
       "count     58333.000000       58333.000000     58333.000000  \n",
       "mean         -0.151846           0.104542         0.105496  \n",
       "std           0.490006           0.079453         0.078234  \n",
       "min          -2.918264           0.000408         0.000779  \n",
       "25%          -0.448825           0.048010         0.049771  \n",
       "50%          -0.097897           0.084545         0.086176  \n",
       "75%           0.236780           0.138896         0.139912  \n",
       "max           4.217331           0.794111         0.781414  "
      ]
     },
     "execution_count": 27,
     "metadata": {},
     "output_type": "execute_result"
    }
   ],
   "source": [
    "data[cols].describe()"
   ]
  },
  {
   "cell_type": "markdown",
   "id": "6d459e80",
   "metadata": {},
   "source": [
    "## transformed"
   ]
  },
  {
   "cell_type": "code",
   "execution_count": 28,
   "id": "6c9dc4c7",
   "metadata": {
    "ExecuteTime": {
     "end_time": "2023-11-16T00:49:21.563691Z",
     "start_time": "2023-11-16T00:49:21.308605Z"
    }
   },
   "outputs": [
    {
     "data": {
      "image/png": "[encoded data removed]",
      "text/plain": [
       "<Figure size 432x288 with 2 Axes>"
      ]
     },
     "metadata": {
      "needs_background": "light"
     },
     "output_type": "display_data"
    },
    {
     "data": {
      "image/png": "[encoded data removed]",
      "text/plain": [
       "<Figure size 432x288 with 2 Axes>"
      ]
     },
     "metadata": {
      "needs_background": "light"
     },
     "output_type": "display_data"
    }
   ],
   "source": [
    "# transformed data\n",
    "data = t\n",
    "\n",
    "plotCorrHeatMap(data,cols)"
   ]
  },
  {
   "cell_type": "markdown",
   "id": "a491d214",
   "metadata": {},
   "source": [
    "### descriptive stats"
   ]
  },
  {
   "cell_type": "code",
   "execution_count": 29,
   "id": "4f431c72",
   "metadata": {
    "ExecuteTime": {
     "end_time": "2023-11-16T00:49:21.585102Z",
     "start_time": "2023-11-16T00:49:21.564501Z"
    }
   },
   "outputs": [
    {
     "data": {
      "text/html": [
       "<div>\n",
       "<style scoped>\n",
       "    .dataframe tbody tr th:only-of-type {\n",
       "        vertical-align: middle;\n",
       "    }\n",
       "\n",
       "    .dataframe tbody tr th {\n",
       "        vertical-align: top;\n",
       "    }\n",
       "\n",
       "    .dataframe thead th {\n",
       "        text-align: right;\n",
       "    }\n",
       "</style>\n",
       "<table border=\"1\" class=\"dataframe\">\n",
       "  <thead>\n",
       "    <tr style=\"text-align: right;\">\n",
       "      <th></th>\n",
       "      <th>l2.ratio.mean.ctrl</th>\n",
       "      <th>l2.ratio.mean.us</th>\n",
       "      <th>l2.ratio.med.ctrl</th>\n",
       "      <th>l2.ratio.med.us</th>\n",
       "      <th>l2.ratio.std.ctrl</th>\n",
       "      <th>l2.ratio.std.us</th>\n",
       "    </tr>\n",
       "  </thead>\n",
       "  <tbody>\n",
       "    <tr>\n",
       "      <th>count</th>\n",
       "      <td>5.833300e+04</td>\n",
       "      <td>5.833300e+04</td>\n",
       "      <td>58333.000000</td>\n",
       "      <td>58333.000000</td>\n",
       "      <td>58333.000000</td>\n",
       "      <td>58333.000000</td>\n",
       "    </tr>\n",
       "    <tr>\n",
       "      <th>mean</th>\n",
       "      <td>-1.017097e-17</td>\n",
       "      <td>-7.887069e-18</td>\n",
       "      <td>-0.000387</td>\n",
       "      <td>-0.000718</td>\n",
       "      <td>0.216146</td>\n",
       "      <td>0.205784</td>\n",
       "    </tr>\n",
       "    <tr>\n",
       "      <th>std</th>\n",
       "      <td>9.750927e-01</td>\n",
       "      <td>9.774690e-01</td>\n",
       "      <td>0.978229</td>\n",
       "      <td>0.980686</td>\n",
       "      <td>0.164613</td>\n",
       "      <td>0.156555</td>\n",
       "    </tr>\n",
       "    <tr>\n",
       "      <th>min</th>\n",
       "      <td>-5.618572e+00</td>\n",
       "      <td>-5.470273e+00</td>\n",
       "      <td>-5.604151</td>\n",
       "      <td>-5.534922</td>\n",
       "      <td>0.000233</td>\n",
       "      <td>0.001443</td>\n",
       "    </tr>\n",
       "    <tr>\n",
       "      <th>25%</th>\n",
       "      <td>-5.791459e-01</td>\n",
       "      <td>-5.925725e-01</td>\n",
       "      <td>-0.579850</td>\n",
       "      <td>-0.594890</td>\n",
       "      <td>0.098709</td>\n",
       "      <td>0.093613</td>\n",
       "    </tr>\n",
       "    <tr>\n",
       "      <th>50%</th>\n",
       "      <td>1.118817e-01</td>\n",
       "      <td>1.057922e-01</td>\n",
       "      <td>0.112277</td>\n",
       "      <td>0.107445</td>\n",
       "      <td>0.175037</td>\n",
       "      <td>0.166886</td>\n",
       "    </tr>\n",
       "    <tr>\n",
       "      <th>75%</th>\n",
       "      <td>7.711860e-01</td>\n",
       "      <td>7.785388e-01</td>\n",
       "      <td>0.770627</td>\n",
       "      <td>0.777106</td>\n",
       "      <td>0.286881</td>\n",
       "      <td>0.274711</td>\n",
       "    </tr>\n",
       "    <tr>\n",
       "      <th>max</th>\n",
       "      <td>8.473488e+00</td>\n",
       "      <td>8.755107e+00</td>\n",
       "      <td>8.521717</td>\n",
       "      <td>8.738995</td>\n",
       "      <td>1.638308</td>\n",
       "      <td>1.699175</td>\n",
       "    </tr>\n",
       "  </tbody>\n",
       "</table>\n",
       "</div>"
      ],
      "text/plain": [
       "       l2.ratio.mean.ctrl  l2.ratio.mean.us  l2.ratio.med.ctrl  \\\n",
       "count        5.833300e+04      5.833300e+04       58333.000000   \n",
       "mean        -1.017097e-17     -7.887069e-18          -0.000387   \n",
       "std          9.750927e-01      9.774690e-01           0.978229   \n",
       "min         -5.618572e+00     -5.470273e+00          -5.604151   \n",
       "25%         -5.791459e-01     -5.925725e-01          -0.579850   \n",
       "50%          1.118817e-01      1.057922e-01           0.112277   \n",
       "75%          7.711860e-01      7.785388e-01           0.770627   \n",
       "max          8.473488e+00      8.755107e+00           8.521717   \n",
       "\n",
       "       l2.ratio.med.us  l2.ratio.std.ctrl  l2.ratio.std.us  \n",
       "count     58333.000000       58333.000000     58333.000000  \n",
       "mean         -0.000718           0.216146         0.205784  \n",
       "std           0.980686           0.164613         0.156555  \n",
       "min          -5.534922           0.000233         0.001443  \n",
       "25%          -0.594890           0.098709         0.093613  \n",
       "50%           0.107445           0.175037         0.166886  \n",
       "75%           0.777106           0.286881         0.274711  \n",
       "max           8.738995           1.638308         1.699175  "
      ]
     },
     "execution_count": 29,
     "metadata": {},
     "output_type": "execute_result"
    }
   ],
   "source": [
    "data[cols].describe()"
   ]
  },
  {
   "cell_type": "markdown",
   "id": "e78dec8a",
   "metadata": {},
   "source": [
    "## pvalues of transformed v. not transformed"
   ]
  },
  {
   "cell_type": "code",
   "execution_count": 30,
   "id": "b2e88f38",
   "metadata": {
    "ExecuteTime": {
     "end_time": "2023-11-16T00:49:21.610718Z",
     "start_time": "2023-11-16T00:49:21.585936Z"
    }
   },
   "outputs": [
    {
     "data": {
      "text/html": [
       "<div>\n",
       "<style scoped>\n",
       "    .dataframe tbody tr th:only-of-type {\n",
       "        vertical-align: middle;\n",
       "    }\n",
       "\n",
       "    .dataframe tbody tr th {\n",
       "        vertical-align: top;\n",
       "    }\n",
       "\n",
       "    .dataframe thead th {\n",
       "        text-align: right;\n",
       "    }\n",
       "</style>\n",
       "<table border=\"1\" class=\"dataframe\">\n",
       "  <thead>\n",
       "    <tr style=\"text-align: right;\">\n",
       "      <th></th>\n",
       "      <th>name</th>\n",
       "      <th>pval_transformed</th>\n",
       "      <th>pval_not_transformed</th>\n",
       "    </tr>\n",
       "  </thead>\n",
       "  <tbody>\n",
       "    <tr>\n",
       "      <th>0</th>\n",
       "      <td>SYNTHETIC:_Added_GGGGCGGGG_CAGAGCTG_CTGATAAGGA...</td>\n",
       "      <td>0.000679</td>\n",
       "      <td>0.000971</td>\n",
       "    </tr>\n",
       "    <tr>\n",
       "      <th>1</th>\n",
       "      <td>SYNTHETIC:_Added_TATACATA_GCCCGGGGG_TATACATA_A...</td>\n",
       "      <td>0.000095</td>\n",
       "      <td>0.000253</td>\n",
       "    </tr>\n",
       "    <tr>\n",
       "      <th>2</th>\n",
       "      <td>SYNTHETIC:_The_motif_CAGAGCTG_was_added_in_Pos...</td>\n",
       "      <td>0.009865</td>\n",
       "      <td>0.000293</td>\n",
       "    </tr>\n",
       "    <tr>\n",
       "      <th>3</th>\n",
       "      <td>SYNTHETIC:_The_motif_GAGATAAGGA_was_added_in_P...</td>\n",
       "      <td>0.000180</td>\n",
       "      <td>0.000247</td>\n",
       "    </tr>\n",
       "    <tr>\n",
       "      <th>4</th>\n",
       "      <td>k562_atac_up_chr1:67191823-67192092</td>\n",
       "      <td>0.011772</td>\n",
       "      <td>0.000230</td>\n",
       "    </tr>\n",
       "  </tbody>\n",
       "</table>\n",
       "</div>"
      ],
      "text/plain": [
       "                                                name  pval_transformed  \\\n",
       "0  SYNTHETIC:_Added_GGGGCGGGG_CAGAGCTG_CTGATAAGGA...          0.000679   \n",
       "1  SYNTHETIC:_Added_TATACATA_GCCCGGGGG_TATACATA_A...          0.000095   \n",
       "2  SYNTHETIC:_The_motif_CAGAGCTG_was_added_in_Pos...          0.009865   \n",
       "3  SYNTHETIC:_The_motif_GAGATAAGGA_was_added_in_P...          0.000180   \n",
       "4                k562_atac_up_chr1:67191823-67192092          0.011772   \n",
       "\n",
       "   pval_not_transformed  \n",
       "0              0.000971  \n",
       "1              0.000253  \n",
       "2              0.000293  \n",
       "3              0.000247  \n",
       "4              0.000230  "
      ]
     },
     "execution_count": 30,
     "metadata": {},
     "output_type": "execute_result"
    }
   ],
   "source": [
    "ps = pd.merge(t[[\"name\", 'pval']], df[[\"name\", 'pval']], \n",
    "              right_on = \"name\", left_on=\"name\", suffixes = (\"_transformed\", \"_not_transformed\"))\n",
    "\n",
    "\n",
    "ps.head()"
   ]
  },
  {
   "cell_type": "code",
   "execution_count": 31,
   "id": "7bed672f",
   "metadata": {
    "ExecuteTime": {
     "end_time": "2023-11-16T00:49:21.883712Z",
     "start_time": "2023-11-16T00:49:21.611556Z"
    }
   },
   "outputs": [
    {
     "name": "stdout",
     "output_type": "stream",
     "text": [
      "                      pval_not_transformed  pval_transformed\n",
      "pval_not_transformed              1.000000          0.909283\n",
      "pval_transformed                  0.909283          1.000000\n"
     ]
    },
    {
     "data": {
      "text/plain": [
       "<seaborn.axisgrid.JointGrid at 0x7faad8a6ef28>"
      ]
     },
     "execution_count": 31,
     "metadata": {},
     "output_type": "execute_result"
    },
    {
     "data": {
      "image/png": "[encoded data removed]",
      "text/plain": [
       "<Figure size 432x432 with 3 Axes>"
      ]
     },
     "metadata": {
      "needs_background": "light"
     },
     "output_type": "display_data"
    }
   ],
   "source": [
    "ps_cols =[\"pval_not_transformed\", \"pval_transformed\"]\n",
    "print(ps[ps_cols].corr())\n",
    "sns.jointplot(x=ps_cols[0], y=ps_cols[1], data=ps, kind='hist')"
   ]
  },
  {
   "cell_type": "code",
   "execution_count": 40,
   "id": "a9b658ef",
   "metadata": {
    "ExecuteTime": {
     "end_time": "2023-11-16T00:52:23.427388Z",
     "start_time": "2023-11-16T00:52:23.395064Z"
    }
   },
   "outputs": [
    {
     "data": {
      "text/html": [
       "<div>\n",
       "<style scoped>\n",
       "    .dataframe tbody tr th:only-of-type {\n",
       "        vertical-align: middle;\n",
       "    }\n",
       "\n",
       "    .dataframe tbody tr th {\n",
       "        vertical-align: top;\n",
       "    }\n",
       "\n",
       "    .dataframe thead th {\n",
       "        text-align: right;\n",
       "    }\n",
       "</style>\n",
       "<table border=\"1\" class=\"dataframe\">\n",
       "  <thead>\n",
       "    <tr style=\"text-align: right;\">\n",
       "      <th></th>\n",
       "      <th>name</th>\n",
       "      <th>label</th>\n",
       "      <th>ratio.med.ctrl</th>\n",
       "      <th>label.ctrl</th>\n",
       "      <th>ratio.1.ctrl</th>\n",
       "      <th>ratio.2.ctrl</th>\n",
       "      <th>ratio.3.ctrl</th>\n",
       "      <th>ratio.med.us</th>\n",
       "      <th>label.us</th>\n",
       "      <th>ratio.1.us</th>\n",
       "      <th>...</th>\n",
       "      <th>l2.ratio.med.ctrl</th>\n",
       "      <th>l2.ratio.mean.ctrl</th>\n",
       "      <th>l2.ratio.std.ctrl</th>\n",
       "      <th>l2.ratio.med.us</th>\n",
       "      <th>l2.ratio.mean.us</th>\n",
       "      <th>l2.ratio.std.us</th>\n",
       "      <th>delta.med</th>\n",
       "      <th>delta.mean</th>\n",
       "      <th>direction</th>\n",
       "      <th>-log10p</th>\n",
       "    </tr>\n",
       "  </thead>\n",
       "  <tbody>\n",
       "    <tr>\n",
       "      <th>0</th>\n",
       "      <td>SYNTHETIC:_Added_GGGGCGGGG_CAGAGCTG_CTGATAAGGA...</td>\n",
       "      <td>Synthetic</td>\n",
       "      <td>0.730707</td>\n",
       "      <td>0</td>\n",
       "      <td>0.732625</td>\n",
       "      <td>0.742659</td>\n",
       "      <td>0.716835</td>\n",
       "      <td>0.451288</td>\n",
       "      <td>0</td>\n",
       "      <td>0.453103</td>\n",
       "      <td>...</td>\n",
       "      <td>-0.448852</td>\n",
       "      <td>-0.452789</td>\n",
       "      <td>0.025756</td>\n",
       "      <td>-1.142089</td>\n",
       "      <td>-1.148879</td>\n",
       "      <td>0.065812</td>\n",
       "      <td>-0.693236</td>\n",
       "      <td>-0.696090</td>\n",
       "      <td>MORE_SILENT</td>\n",
       "      <td>3.012779</td>\n",
       "    </tr>\n",
       "    <tr>\n",
       "      <th>1</th>\n",
       "      <td>SYNTHETIC:_Added_TATACATA_GCCCGGGGG_TATACATA_A...</td>\n",
       "      <td>Synthetic</td>\n",
       "      <td>0.996278</td>\n",
       "      <td>0</td>\n",
       "      <td>0.986795</td>\n",
       "      <td>1.001141</td>\n",
       "      <td>1.000897</td>\n",
       "      <td>0.875492</td>\n",
       "      <td>0</td>\n",
       "      <td>0.863311</td>\n",
       "      <td>...</td>\n",
       "      <td>0.001294</td>\n",
       "      <td>-0.005413</td>\n",
       "      <td>0.011922</td>\n",
       "      <td>-0.184650</td>\n",
       "      <td>-0.191905</td>\n",
       "      <td>0.017670</td>\n",
       "      <td>-0.185943</td>\n",
       "      <td>-0.186492</td>\n",
       "      <td>US_DOWN</td>\n",
       "      <td>3.596080</td>\n",
       "    </tr>\n",
       "    <tr>\n",
       "      <th>2</th>\n",
       "      <td>SYNTHETIC:_The_motif_CAGAGCTG_was_added_in_Pos...</td>\n",
       "      <td>Synthetic</td>\n",
       "      <td>0.759033</td>\n",
       "      <td>0</td>\n",
       "      <td>0.758425</td>\n",
       "      <td>0.768487</td>\n",
       "      <td>0.750188</td>\n",
       "      <td>0.655631</td>\n",
       "      <td>0</td>\n",
       "      <td>0.667361</td>\n",
       "      <td>...</td>\n",
       "      <td>-0.398922</td>\n",
       "      <td>-0.397835</td>\n",
       "      <td>0.017409</td>\n",
       "      <td>-0.619700</td>\n",
       "      <td>-0.609161</td>\n",
       "      <td>0.022377</td>\n",
       "      <td>-0.220778</td>\n",
       "      <td>-0.211326</td>\n",
       "      <td>MORE_SILENT</td>\n",
       "      <td>3.532975</td>\n",
       "    </tr>\n",
       "    <tr>\n",
       "      <th>3</th>\n",
       "      <td>SYNTHETIC:_The_motif_GAGATAAGGA_was_added_in_P...</td>\n",
       "      <td>Synthetic</td>\n",
       "      <td>0.921166</td>\n",
       "      <td>0</td>\n",
       "      <td>0.898376</td>\n",
       "      <td>0.940726</td>\n",
       "      <td>0.924395</td>\n",
       "      <td>0.708869</td>\n",
       "      <td>0</td>\n",
       "      <td>0.707967</td>\n",
       "      <td>...</td>\n",
       "      <td>-0.113418</td>\n",
       "      <td>-0.118727</td>\n",
       "      <td>0.033544</td>\n",
       "      <td>-0.498247</td>\n",
       "      <td>-0.496759</td>\n",
       "      <td>0.038879</td>\n",
       "      <td>-0.384828</td>\n",
       "      <td>-0.378032</td>\n",
       "      <td>MORE_SILENT</td>\n",
       "      <td>3.607266</td>\n",
       "    </tr>\n",
       "    <tr>\n",
       "      <th>4</th>\n",
       "      <td>k562_atac_up_chr1:67191823-67192092</td>\n",
       "      <td>Differential_ATAC</td>\n",
       "      <td>1.195409</td>\n",
       "      <td>0</td>\n",
       "      <td>1.196577</td>\n",
       "      <td>1.187511</td>\n",
       "      <td>1.202138</td>\n",
       "      <td>1.281130</td>\n",
       "      <td>1</td>\n",
       "      <td>1.282186</td>\n",
       "      <td>...</td>\n",
       "      <td>0.258913</td>\n",
       "      <td>0.257486</td>\n",
       "      <td>0.008917</td>\n",
       "      <td>0.358605</td>\n",
       "      <td>0.357393</td>\n",
       "      <td>0.010083</td>\n",
       "      <td>0.099692</td>\n",
       "      <td>0.099907</td>\n",
       "      <td>MORE_ACTIVE</td>\n",
       "      <td>3.637373</td>\n",
       "    </tr>\n",
       "  </tbody>\n",
       "</table>\n",
       "<p>5 rows × 35 columns</p>\n",
       "</div>"
      ],
      "text/plain": [
       "                                                name              label  \\\n",
       "0  SYNTHETIC:_Added_GGGGCGGGG_CAGAGCTG_CTGATAAGGA...          Synthetic   \n",
       "1  SYNTHETIC:_Added_TATACATA_GCCCGGGGG_TATACATA_A...          Synthetic   \n",
       "2  SYNTHETIC:_The_motif_CAGAGCTG_was_added_in_Pos...          Synthetic   \n",
       "3  SYNTHETIC:_The_motif_GAGATAAGGA_was_added_in_P...          Synthetic   \n",
       "4                k562_atac_up_chr1:67191823-67192092  Differential_ATAC   \n",
       "\n",
       "   ratio.med.ctrl  label.ctrl  ratio.1.ctrl  ratio.2.ctrl  ratio.3.ctrl  \\\n",
       "0        0.730707           0      0.732625      0.742659      0.716835   \n",
       "1        0.996278           0      0.986795      1.001141      1.000897   \n",
       "2        0.759033           0      0.758425      0.768487      0.750188   \n",
       "3        0.921166           0      0.898376      0.940726      0.924395   \n",
       "4        1.195409           0      1.196577      1.187511      1.202138   \n",
       "\n",
       "   ratio.med.us  label.us  ratio.1.us  ...  l2.ratio.med.ctrl  \\\n",
       "0      0.451288         0    0.453103  ...          -0.448852   \n",
       "1      0.875492         0    0.863311  ...           0.001294   \n",
       "2      0.655631         0    0.667361  ...          -0.398922   \n",
       "3      0.708869         0    0.707967  ...          -0.113418   \n",
       "4      1.281130         1    1.282186  ...           0.258913   \n",
       "\n",
       "   l2.ratio.mean.ctrl  l2.ratio.std.ctrl  l2.ratio.med.us  l2.ratio.mean.us  \\\n",
       "0           -0.452789           0.025756        -1.142089         -1.148879   \n",
       "1           -0.005413           0.011922        -0.184650         -0.191905   \n",
       "2           -0.397835           0.017409        -0.619700         -0.609161   \n",
       "3           -0.118727           0.033544        -0.498247         -0.496759   \n",
       "4            0.257486           0.008917         0.358605          0.357393   \n",
       "\n",
       "   l2.ratio.std.us delta.med delta.mean    direction   -log10p  \n",
       "0         0.065812 -0.693236  -0.696090  MORE_SILENT  3.012779  \n",
       "1         0.017670 -0.185943  -0.186492      US_DOWN  3.596080  \n",
       "2         0.022377 -0.220778  -0.211326  MORE_SILENT  3.532975  \n",
       "3         0.038879 -0.384828  -0.378032  MORE_SILENT  3.607266  \n",
       "4         0.010083  0.099692   0.099907  MORE_ACTIVE  3.637373  \n",
       "\n",
       "[5 rows x 35 columns]"
      ]
     },
     "execution_count": 40,
     "metadata": {},
     "output_type": "execute_result"
    }
   ],
   "source": [
    "df.head()"
   ]
  },
  {
   "cell_type": "markdown",
   "id": "e470a584",
   "metadata": {},
   "source": [
    "# peaks"
   ]
  },
  {
   "cell_type": "markdown",
   "id": "513d4ee6",
   "metadata": {},
   "source": [
    "## load and compute peak-wise significance"
   ]
  },
  {
   "cell_type": "code",
   "execution_count": 32,
   "id": "5cc32195",
   "metadata": {
    "ExecuteTime": {
     "end_time": "2023-11-16T00:49:21.954449Z",
     "start_time": "2023-11-16T00:49:21.884612Z"
    }
   },
   "outputs": [
    {
     "name": "stdout",
     "output_type": "stream",
     "text": [
      "                                name              enh.id enh.name\n",
      "0  hob_k27ac_down_chr1:826978-827247  chr1:826978-827704    enh.0\n",
      "1  hob_k27ac_down_chr1:827110-827379  chr1:826978-827704    enh.0\n",
      "2  hob_k27ac_down_chr1:827377-827646  chr1:826978-827704    enh.0\n",
      "3  hob_k27ac_down_chr1:827435-827704  chr1:826978-827704    enh.0\n",
      "4  hob_k27ac_down_chr1:827891-828160  chr1:827891-828160    enh.1\n"
     ]
    }
   ],
   "source": [
    "# merge peaks with tiles\n",
    "TRANSFORMED_SCORE = False\n",
    "\n",
    "PEAK_ANNOT = \"/Users/sarahfong/Desktop/local_data/EMF/US/tilenames.x.enh.id.tsv\"\n",
    "peaks = pd.read_csv(PEAK_ANNOT, sep='\\t')\n",
    "print(peaks.head())\n",
    "\n",
    "if TRANSFORMED_SCORE is True:\n",
    "    peaks = pd.merge(t, peaks)\n",
    "    \n",
    "    # files to write\n",
    "    SIG_PEAK = os.path.join(DATA_PATH, f\"{CL}.US_MPRA.sig_peak.dif.act.tiles.standardscale.tsv\")\n",
    "    SIG_PEAK_TILES = os.path.join(DATA_PATH, f\"{CL}.US_MPRA.sig_peak.act.tiles.standardscale.tsv\")\n",
    "    out = os.path.join(DATA_PATH, f'{CL}.sig.peaks.standardscale.pdf')\n",
    "\n",
    "else:    \n",
    "    peaks = pd.merge(df, peaks)\n",
    "    \n",
    "    # files to write\n",
    "    SIG_PEAK = os.path.join(DATA_PATH, f\"{CL}.US_MPRA.sig_peak.dif.act.tiles.tsv\")\n",
    "    SIG_PEAK_TILES = os.path.join(DATA_PATH, f\"{CL}.US_MPRA.sig_peak.act.tiles.tsv\")\n",
    "    out = os.path.join(DATA_PATH, f'{CL}.sig.peaks.pdf')\n",
    "\n",
    "peaks[\"dif\"] = None\n",
    "peaks.loc[(peaks['label.us']==True) &\n",
    "         (peaks[\"label.ctrl\"]==False) &\n",
    "          (peaks[\"delta.med\"]<0), \"dif\"] = \"US.more.off\"\n",
    "peaks.loc[(peaks['label.us']==True) &\n",
    "         (peaks[\"label.ctrl\"]==False) &\n",
    "          (peaks[\"delta.med\"]>0), \"dif\"] = \"US.on\"\n",
    "\n",
    "peaks.loc[(peaks['label.us']==False) &\n",
    "         (peaks[\"label.ctrl\"]==True)&\n",
    "          (peaks[\"delta.med\"]<0), \"dif\"] = \"US.off\"\n",
    "peaks.loc[(peaks['label.us']==False) &\n",
    "         (peaks[\"label.ctrl\"]==True)&\n",
    "          (peaks[\"delta.med\"]>0), \"dif\"] = \"US.less.off\"\n",
    "\n",
    "peaks.loc[(peaks['label.us']==True) &\n",
    "         (peaks[\"label.ctrl\"]==True), \"dif\"] = \"no.effect.on\"\n",
    "peaks.loc[(peaks['label.us']==False) &\n",
    "         (peaks[\"label.ctrl\"]==False), \"dif\"] = \"no.effect.off\""
   ]
  },
  {
   "cell_type": "markdown",
   "id": "1aa1e421",
   "metadata": {},
   "source": [
    "### function - compute peakwise significance"
   ]
  },
  {
   "cell_type": "code",
   "execution_count": 33,
   "id": "fa358998",
   "metadata": {
    "ExecuteTime": {
     "end_time": "2023-11-16T00:49:21.958330Z",
     "start_time": "2023-11-16T00:49:21.955349Z"
    }
   },
   "outputs": [],
   "source": [
    "def peakwise(enh_id, df):\n",
    "    \"\"\" collect and perform related t-test on peak tiles in US/CTRL exposures\n",
    "        - treat all tiles in peaks as repeated measures in two different conditions - US and CTRL\n",
    "    \"\"\"\n",
    "    cols =[\"name\",\n",
    "        'l2.ratio.med.ctrl',\n",
    "        'label.ctrl',\n",
    "        'l2.ratio.1.ctrl',\n",
    "        'l2.ratio.2.ctrl',\n",
    "        'l2.ratio.3.ctrl',\n",
    "        'l2.ratio.med.us',\n",
    "        'label.us',\n",
    "        'l2.ratio.1.us',\n",
    "        'l2.ratio.2.us',\n",
    "        'l2.ratio.3.us', \n",
    "        'delta.med', \n",
    "        \"dif\", \"enh.id\", \"enh.name\"]\n",
    "    \n",
    "    # dget dataframe of enhancer only\n",
    "    enh = df.loc[df[\"enh.id\"]==enh_id, cols].copy()\n",
    "    \n",
    "    # treat all measurements as\n",
    "    ctrls = list(pd.melt(enh, \n",
    "                        value_vars = ['l2.ratio.1.ctrl',\n",
    "                        'l2.ratio.2.ctrl',\n",
    "                        'l2.ratio.3.ctrl'])[\"value\"])\n",
    "    us = list(pd.melt(enh, \n",
    "                    value_vars = [ 'l2.ratio.1.us',\n",
    "                    'l2.ratio.2.us',\n",
    "                    'l2.ratio.3.us', ])[\"value\"])\n",
    "    # two related samples t-test, https://docs.scipy.org/doc/scipy/reference/generated/scipy.stats.ttest_rel.html\n",
    "    s, p = stats.ttest_rel(ctrls, us)\n",
    "    enh[\"peak_p\"], enh[\"peak_stat\"] = p, s\n",
    "        \n",
    "    return s, p, enh"
   ]
  },
  {
   "cell_type": "markdown",
   "id": "05457761",
   "metadata": {},
   "source": [
    "### do computations per peak"
   ]
  },
  {
   "cell_type": "code",
   "execution_count": 34,
   "id": "96c95f07",
   "metadata": {
    "ExecuteTime": {
     "end_time": "2023-11-16T00:49:58.232183Z",
     "start_time": "2023-11-16T00:49:21.959157Z"
    }
   },
   "outputs": [
    {
     "data": {
      "text/html": [
       "<div>\n",
       "<style scoped>\n",
       "    .dataframe tbody tr th:only-of-type {\n",
       "        vertical-align: middle;\n",
       "    }\n",
       "\n",
       "    .dataframe tbody tr th {\n",
       "        vertical-align: top;\n",
       "    }\n",
       "\n",
       "    .dataframe thead th {\n",
       "        text-align: right;\n",
       "    }\n",
       "</style>\n",
       "<table border=\"1\" class=\"dataframe\">\n",
       "  <thead>\n",
       "    <tr style=\"text-align: right;\">\n",
       "      <th></th>\n",
       "      <th>name</th>\n",
       "      <th>label.ctrl</th>\n",
       "      <th>label.us</th>\n",
       "      <th>l2.ratio.med.ctrl</th>\n",
       "      <th>l2.ratio.med.us</th>\n",
       "      <th>delta.med</th>\n",
       "      <th>dif</th>\n",
       "      <th>peak_p</th>\n",
       "      <th>peak_stat</th>\n",
       "      <th>enh.id</th>\n",
       "      <th>enh.name</th>\n",
       "    </tr>\n",
       "  </thead>\n",
       "  <tbody>\n",
       "    <tr>\n",
       "      <th>10</th>\n",
       "      <td>hob_k27ac_up_chr8:109041277-109041546</td>\n",
       "      <td>0</td>\n",
       "      <td>1</td>\n",
       "      <td>0.294370</td>\n",
       "      <td>0.344973</td>\n",
       "      <td>0.050603</td>\n",
       "      <td>US.on</td>\n",
       "      <td>0.039543</td>\n",
       "      <td>-2.269859</td>\n",
       "      <td>chr8:109040745-109041546</td>\n",
       "      <td>enh.10473</td>\n",
       "    </tr>\n",
       "    <tr>\n",
       "      <th>8900</th>\n",
       "      <td>hob_k27ac_up_chr8:109040877-109041146</td>\n",
       "      <td>0</td>\n",
       "      <td>0</td>\n",
       "      <td>-1.279085</td>\n",
       "      <td>-1.216729</td>\n",
       "      <td>0.062355</td>\n",
       "      <td>no.effect.off</td>\n",
       "      <td>0.039543</td>\n",
       "      <td>-2.269859</td>\n",
       "      <td>chr8:109040745-109041546</td>\n",
       "      <td>enh.10473</td>\n",
       "    </tr>\n",
       "    <tr>\n",
       "      <th>13012</th>\n",
       "      <td>hob_k27ac_up_chr8:109040745-109041014</td>\n",
       "      <td>1</td>\n",
       "      <td>0</td>\n",
       "      <td>0.322673</td>\n",
       "      <td>0.305236</td>\n",
       "      <td>-0.017437</td>\n",
       "      <td>US.off</td>\n",
       "      <td>0.039543</td>\n",
       "      <td>-2.269859</td>\n",
       "      <td>chr8:109040745-109041546</td>\n",
       "      <td>enh.10473</td>\n",
       "    </tr>\n",
       "    <tr>\n",
       "      <th>20356</th>\n",
       "      <td>hob_k27ac_up_chr8:109041012-109041281</td>\n",
       "      <td>0</td>\n",
       "      <td>0</td>\n",
       "      <td>-0.055527</td>\n",
       "      <td>-0.061565</td>\n",
       "      <td>-0.006038</td>\n",
       "      <td>no.effect.off</td>\n",
       "      <td>0.039543</td>\n",
       "      <td>-2.269859</td>\n",
       "      <td>chr8:109040745-109041546</td>\n",
       "      <td>enh.10473</td>\n",
       "    </tr>\n",
       "    <tr>\n",
       "      <th>22364</th>\n",
       "      <td>hob_k27ac_up_chr8:109041144-109041413</td>\n",
       "      <td>0</td>\n",
       "      <td>0</td>\n",
       "      <td>-0.150783</td>\n",
       "      <td>-0.148649</td>\n",
       "      <td>0.002134</td>\n",
       "      <td>no.effect.off</td>\n",
       "      <td>0.039543</td>\n",
       "      <td>-2.269859</td>\n",
       "      <td>chr8:109040745-109041546</td>\n",
       "      <td>enh.10473</td>\n",
       "    </tr>\n",
       "  </tbody>\n",
       "</table>\n",
       "</div>"
      ],
      "text/plain": [
       "                                        name  label.ctrl  label.us  \\\n",
       "10     hob_k27ac_up_chr8:109041277-109041546           0         1   \n",
       "8900   hob_k27ac_up_chr8:109040877-109041146           0         0   \n",
       "13012  hob_k27ac_up_chr8:109040745-109041014           1         0   \n",
       "20356  hob_k27ac_up_chr8:109041012-109041281           0         0   \n",
       "22364  hob_k27ac_up_chr8:109041144-109041413           0         0   \n",
       "\n",
       "       l2.ratio.med.ctrl  l2.ratio.med.us  delta.med            dif    peak_p  \\\n",
       "10              0.294370         0.344973   0.050603          US.on  0.039543   \n",
       "8900           -1.279085        -1.216729   0.062355  no.effect.off  0.039543   \n",
       "13012           0.322673         0.305236  -0.017437         US.off  0.039543   \n",
       "20356          -0.055527        -0.061565  -0.006038  no.effect.off  0.039543   \n",
       "22364          -0.150783        -0.148649   0.002134  no.effect.off  0.039543   \n",
       "\n",
       "       peak_stat                    enh.id   enh.name  \n",
       "10     -2.269859  chr8:109040745-109041546  enh.10473  \n",
       "8900   -2.269859  chr8:109040745-109041546  enh.10473  \n",
       "13012  -2.269859  chr8:109040745-109041546  enh.10473  \n",
       "20356  -2.269859  chr8:109040745-109041546  enh.10473  \n",
       "22364  -2.269859  chr8:109040745-109041546  enh.10473  "
      ]
     },
     "execution_count": 34,
     "metadata": {},
     "output_type": "execute_result"
    }
   ],
   "source": [
    "sig_peaks = {}  # requires sig peak and categorical differential activity \n",
    "all_sig_peaks = {} # requires sig peak, DOES NOT REQUIRE categorical differential activity \n",
    "for enh_id in peaks[\"enh.id\"].unique():\n",
    "    \n",
    "    # perform repeated values t-test\n",
    "    s, p, enh = peakwise(enh_id, peaks)\n",
    "    \n",
    "    if p<0.05:  # filter significant\n",
    "        on_off= [\"US.on\", \"US.more.on\", \"US.off\", \"US.more.off\"]\n",
    "        enh[\"dif\"] =enh[\"dif\"].astype(str)\n",
    "        all_sig_peaks[enh_id] = enh\n",
    "        \n",
    "        # only pick differences \n",
    "        if len(set(enh[\"dif\"]).intersection(set(on_off)))>0:\n",
    "            sig_peaks[enh_id] = enh.loc[enh[\"dif\"]!=\"None\", \n",
    "                                        [\"name\", \n",
    "                                          \"label.ctrl\", \n",
    "                                          \"label.us\",\n",
    "                                          'l2.ratio.med.ctrl',\n",
    "                                          'l2.ratio.med.us',\n",
    "                                          \"delta.med\", \"dif\", \n",
    "                                          \"peak_p\", \"peak_stat\", \"enh.id\", \"enh.name\"]]\n",
    "    \n",
    "\n",
    "sig = pd.concat(sig_peaks.values())  # every significant peak, regardless if its tiles have different activity or not\n",
    "sig_all = pd.concat(all_sig_peaks.values()) # every significant peak with a tile that has different activity or not\n",
    "\n",
    "sig.head()"
   ]
  },
  {
   "cell_type": "markdown",
   "id": "e22855db",
   "metadata": {},
   "source": [
    "## find sig. peaks and differentially active tiles"
   ]
  },
  {
   "cell_type": "code",
   "execution_count": 35,
   "id": "2bbeadc6",
   "metadata": {
    "ExecuteTime": {
     "end_time": "2023-11-16T00:49:58.236436Z",
     "start_time": "2023-11-16T00:49:58.233133Z"
    }
   },
   "outputs": [
    {
     "name": "stdout",
     "output_type": "stream",
     "text": [
      "(484, 11) (176, 11) (1426, 17)\n"
     ]
    }
   ],
   "source": [
    "sig_dif = sig.loc[sig[\"dif\"].str.contains(\"US\")].sort_values(by = \"delta.med\", ascending=False)\n",
    "print(sig.shape, sig_dif.shape, sig_all.shape)"
   ]
  },
  {
   "cell_type": "markdown",
   "id": "22edc8ef",
   "metadata": {},
   "source": [
    "## write peaks"
   ]
  },
  {
   "cell_type": "code",
   "execution_count": 36,
   "id": "bf7b25bb",
   "metadata": {
    "ExecuteTime": {
     "end_time": "2023-11-16T00:49:58.260885Z",
     "start_time": "2023-11-16T00:49:58.237229Z"
    }
   },
   "outputs": [],
   "source": [
    "sig_dif.to_csv(SIG_PEAK, sep='\\t')  # only differentially active tiles \n",
    "sig_all.to_csv(SIG_PEAK_TILES, sep='\\t') # all tiles"
   ]
  },
  {
   "cell_type": "markdown",
   "id": "8197ed9b",
   "metadata": {},
   "source": [
    "## plot tile effect size and peak p-value "
   ]
  },
  {
   "cell_type": "code",
   "execution_count": 37,
   "id": "12e6e91b",
   "metadata": {
    "ExecuteTime": {
     "end_time": "2023-11-16T00:49:58.434282Z",
     "start_time": "2023-11-16T00:49:58.261792Z"
    }
   },
   "outputs": [
    {
     "name": "stderr",
     "output_type": "stream",
     "text": [
      "/Users/sarahfong/miniconda3/envs/base_venv/lib/python3.6/site-packages/ipykernel_launcher.py:9: MatplotlibDeprecationWarning: savefig() got unexpected keyword argument \"bbox_incehs\" which is no longer supported as of 3.3 and will become an error two minor releases later\n",
      "  if __name__ == '__main__':\n"
     ]
    },
    {
     "data": {
      "image/png": "[encoded data removed]",
      "text/plain": [
       "<Figure size 432x432 with 1 Axes>"
      ]
     },
     "metadata": {
      "needs_background": "light"
     },
     "output_type": "display_data"
    }
   ],
   "source": [
    "sig[\"-log10p\"] = -1*np.log10(sig[\"peak_p\"])\n",
    "\n",
    "fig,ax = plt.subplots(figsize=(6,6))\n",
    "sns.scatterplot(x='delta.med', y=\"-log10p\", data=sig.loc[sig[\"dif\"].str.contains(\"US\")], hue=\"dif\")\n",
    "ax.set(title=f\"{CL}-significant peaks\")\n",
    "plt.legend(bbox_to_anchor=(1,1))\n",
    "\n",
    "\n",
    "plt.savefig(out, bbox_incehs=\"tight\")"
   ]
  },
  {
   "cell_type": "markdown",
   "id": "8b013c0f",
   "metadata": {},
   "source": [
    "## transformed v. non-transformed peak significance  "
   ]
  },
  {
   "cell_type": "code",
   "execution_count": 38,
   "id": "c5a327bd",
   "metadata": {
    "ExecuteTime": {
     "end_time": "2023-11-16T00:49:58.441955Z",
     "start_time": "2023-11-16T00:49:58.435392Z"
    }
   },
   "outputs": [
    {
     "data": {
      "text/plain": [
       "(129, 197, 176)"
      ]
     },
     "execution_count": 38,
     "metadata": {},
     "output_type": "execute_result"
    }
   ],
   "source": [
    "TRANS = os.path.join(DATA_PATH, f\"{CL}.US_MPRA.sig_peak.dif.act.tiles.standardscale.tsv\")\n",
    "NOTRANS = os.path.join(DATA_PATH, f\"{CL}.US_MPRA.sig_peak.dif.act.tiles.tsv\")\n",
    "\n",
    "t_names = pd.read_csv(TRANS, sep='\\t', usecols =[\"name\"])\n",
    "nt_names = pd.read_csv(NOTRANS, sep='\\t', usecols =[\"name\"])\n",
    "\n",
    "trans_names = set(t_names[\"name\"])\n",
    "notrans_names = set(nt_names[\"name\"])\n",
    "\n",
    "len(trans_names.intersection(notrans_names)), len(trans_names), len(notrans_names)"
   ]
  }
 ],
 "metadata": {
  "kernelspec": {
   "display_name": "Python (mamba)",
   "language": "python",
   "name": "mamba"
  },
  "language_info": {
   "codemirror_mode": {
    "name": "ipython",
    "version": 3
   },
   "file_extension": ".py",
   "mimetype": "text/x-python",
   "name": "python",
   "nbconvert_exporter": "python",
   "pygments_lexer": "ipython3",
   "version": "3.9.16"
  },
  "toc": {
   "base_numbering": 1,
   "nav_menu": {},
   "number_sections": true,
   "sideBar": true,
   "skip_h1_title": false,
   "title_cell": "Table of Contents",
   "title_sidebar": "Contents",
   "toc_cell": false,
   "toc_position": {},
   "toc_section_display": true,
   "toc_window_display": true
  },
  "varInspector": {
   "cols": {
    "lenName": 16,
    "lenType": 16,
    "lenVar": 40
   },
   "kernels_config": {
    "python": {
     "delete_cmd_postfix": "",
     "delete_cmd_prefix": "del ",
     "library": "var_list.py",
     "varRefreshCmd": "print(var_dic_list())"
    },
    "r": {
     "delete_cmd_postfix": ") ",
     "delete_cmd_prefix": "rm(",
     "library": "var_list.r",
     "varRefreshCmd": "cat(var_dic_list()) "
    }
   },
   "oldHeight": 122.85,
   "position": {
    "height": "144.85px",
    "left": "1142px",
    "right": "20px",
    "top": "120px",
    "width": "350px"
   },
   "types_to_exclude": [
    "module",
    "function",
    "builtin_function_or_method",
    "instance",
    "_Feature"
   ],
   "varInspector_section_display": "block",
   "window_display": false
  }
 },
 "nbformat": 4,
 "nbformat_minor": 5
}
