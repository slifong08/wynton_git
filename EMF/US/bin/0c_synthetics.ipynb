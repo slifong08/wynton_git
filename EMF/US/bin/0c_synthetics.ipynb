{
 "cells": [
  {
   "cell_type": "markdown",
   "id": "ffd412a8-f39e-460d-b2e5-64d2421b24be",
   "metadata": {},
   "source": [
    "# 20240313\n",
    "sarah fong\n",
    "\n",
    "parse the synthetic motifs fasta file. "
   ]
  },
  {
   "cell_type": "code",
   "execution_count": 1,
   "id": "2032fc1b-d6da-4e2a-88d4-1c9e009c0516",
   "metadata": {
    "ExecuteTime": {
     "end_time": "2024-04-17T23:08:28.265365Z",
     "start_time": "2024-04-17T23:07:47.499120Z"
    }
   },
   "outputs": [],
   "source": [
    "from Bio.SeqIO.FastaIO import SimpleFastaParser as sfp\n",
    "from Bio.Seq import reverse_complement\n",
    "import numpy as np\n",
    "import os, sys\n",
    "import pandas as pd\n",
    "import seaborn as sns\n",
    "import matplotlib.pyplot as plt\n",
    "from scipy import stats\n",
    "import statsmodels.api as sm\n",
    "from statsmodels.formula.api import ols\n",
    "import config_readwrite as crw"
   ]
  },
  {
   "cell_type": "code",
   "execution_count": 28,
   "id": "24481654-6182-4f6e-9b5b-c7b7dd73964f",
   "metadata": {},
   "outputs": [],
   "source": [
    "LOCAL = False\n",
    "\n",
    "if LOCAL is True:\n",
    "    DATA_PATH = \"/Users/sarahfong/Desktop/local_data/US/MPRA\"\n",
    "    RE = \"/Users/sarahfong/Desktop/local_data/US/results/mpra/eda/synthetics\"\n",
    "    DESIGN = \"/Users/sarahfong/Desktop/local_data/US/results/CD_candidates/motifs_synthetic_noms.csv\"\n",
    "    sys.path.append(\"/Users/sarahfong/tools/py_/\")\n",
    "\n",
    "else:\n",
    "    DATA_PATH = '/wynton/group/ahituv/fongsl/projects/US/data/'  # need to check\n",
    "    RE = \"/wynton/group/ahituv/fongsl/projects/US/results/mpra/synthetics\"\n",
    "    DESIGN = \"/wynton/group/ahituv/fongsl/projects/US/results/CD_candidates/motifs_synthetic_noms.csv\"\n",
    "\n",
    "\n",
    "os.chdir(DATA_PATH)\n",
    "if os.path.exists(RE) is False:\n",
    "    os.mkdir(RE)\n",
    "    \n",
    "CLS = [\"hepg2\", \"bj\"]\n",
    "FA = \"./ultrasound_final_no_adapter.fa\"\n",
    "CLEAN_SYN_LIB = \"./clean_syn_mpra_lib.tsv\"\n",
    "CLEAN_DESIGN = \"./clean_motifs_synthetic_noms.tsv\"\n",
    "\n",
    "HEPG2_MPRA_SYN = f\"./{CLS[0]}_MPRA.clean.transformed.standard.scaled.synthetics.only.tsv\"\n",
    "HEPG2_MPRA_SYN_BS = f\"./{CLS[0]}.pos.exp.bs.tsv\"\n",
    "\n",
    "BJ_MPRA_SYN = f\"./{CLS[1]}_MPRA.clean.transformed.standard.scaled.synthetics.only.tsv\"\n",
    "BJ_MPRA_SYN_BS = f\"./{CLS[1]}.pos.exp.bs.tsv\"\n",
    "\n",
    "import bootstrap_dist as bd"
   ]
  },
  {
   "cell_type": "code",
   "execution_count": 29,
   "id": "83d81e26-f719-4c55-bbba-01baa9e83449",
   "metadata": {},
   "outputs": [],
   "source": [
    "config, cfn = crw.read(os.path.join(\"/wynton/home/ahituv/fongsl/EMF/US/\", \"config.ini\"))\n",
    "\n",
    "config_dict = {\n",
    "    \"CLEAN_SYN_LIB\":CLEAN_SYN_LIB, \n",
    "    \"CLEAN_DESIGN\":CLEAN_DESIGN, \n",
    "    \"HEPG2_MPRA_SYN\":HEPG2_MPRA_SYN, \n",
    "    \"BJ_MPRA_SYN\":BJ_MPRA_SYN,\n",
    "    \"HEPG2_MPRA_SYN_BS\":HEPG2_MPRA_SYN_BS, \n",
    "    \"BJ_MPRA_SYN_BS\":BJ_MPRA_SYN_BS, \n",
    "    \n",
    "}\n",
    "\n",
    "# make data section of config\n",
    "section = \"SYNTHETICS\"\n",
    "crw.check(config, section)\n",
    "\n",
    "# add dictionary to config\n",
    "for key, value in config_dict.items():\n",
    "    config[section][key] = value\n",
    "    \n",
    "# write to config    \n",
    "crw.write(config, cfn)"
   ]
  },
  {
   "cell_type": "markdown",
   "id": "cac7feb4-d91e-4098-8d07-0b884f36b0dd",
   "metadata": {},
   "source": [
    "# functions for motif parsing\n",
    "    - parse library fasta motif names\n",
    "\n",
    "## PROBLEM: multiple motif names\n",
    "\n",
    "    - SYNTHETIC:_The_motif_CCAGGAACAG_was_added_in_Pos:1\n",
    "    - Neg_shuffle_158_SYNTHETIC:_The_motif_TAATT_was_added_in_Pos:85_and_the_motif_CAGGAAGG_was_added_in_Pos:185\n",
    "    -SYNTHETIC:_Added_GCCCGGGGG,AGCAACCA,GGCCGTCTGG,GTATCAAAGT,GGATGAGTCATCG,CAAGTCAGCAATTTT,AATTA,TGTAACAA_at_positions_91,213,52,251,193,121,84,240"
   ]
  },
  {
   "cell_type": "code",
   "execution_count": 4,
   "id": "44223171-c8f1-4116-b3ef-dfe70a88f3f3",
   "metadata": {},
   "outputs": [],
   "source": [
    "def get_motifs(seq_id):\n",
    "    pos_motif ={} # collect motifs\n",
    "    next_motif, next_pos = -1,-1\n",
    "    \n",
    "    # str split motif ugly string\n",
    "    for n, i in enumerate(seq_id.split(\"_\")):\n",
    "        \n",
    "        if i == \"motif\" or i == \"Added\":  # prepare to read the motif info, SOME IDS READ 'THE_MOTIF_XXX_WAS_ADDED_IN_POS:YYY', OTHERS READ \"ADDED_XXX_AT__POSITIONS_Y1,Y2,Y3\". WTF.\n",
    "            next_motif=n+1\n",
    "                \n",
    "        elif n == next_motif:\n",
    "            #print(\"motif\", i)\n",
    "            motif = i # motif \n",
    "            next_motif = 0 # reset next_motif \n",
    "            \n",
    "        if i == \"in\" or i==\"positions\": # prepare to read the position info\n",
    "            next_pos = n+1\n",
    "            \n",
    "        elif n == next_pos:  # store position(s) and motif(s)\n",
    "            if 'Pos' in i:\n",
    "                pos = i.split(':')[1] # position (could be multiple)\n",
    "            else:\n",
    "                pos = i\n",
    "            if \",\" in motif:  # handle heterotypic insertion positions and motifs\n",
    "                for motif_, pos_ in zip(motif.split(\",\"), pos.split(\",\")):\n",
    "                    #print('pos', pos_, \"motif_\", motif_)\n",
    "                    pos_motif[pos_] = motif_\n",
    "            else:\n",
    "                for pos_ in pos.split(\",\"):  # split on comma if there are multiple insertions\n",
    "                \n",
    "                    pos_motif[pos_] = motif # add the position and motif to the dictionary\n",
    "                \n",
    "            next_motif, next_pos = -1,-1  # reset counters\n",
    "            motif, pos='',''  # reset motif and position values. \n",
    "    return pos_motif"
   ]
  },
  {
   "cell_type": "markdown",
   "id": "5d5bd975-723a-4641-b654-726043e4401a",
   "metadata": {},
   "source": [
    "## parse motifs"
   ]
  },
  {
   "cell_type": "code",
   "execution_count": 5,
   "id": "a3acc436-bd30-4b0f-b84c-f514a594b5a1",
   "metadata": {},
   "outputs": [
    {
     "data": {
      "text/plain": [
       "39180"
      ]
     },
     "execution_count": 5,
     "metadata": {},
     "output_type": "execute_result"
    }
   ],
   "source": [
    "fa_dict={}\n",
    "with open(FA, 'r') as fasta:\n",
    "    for value in sfp(fasta):\n",
    "        \n",
    "        seq_id, seq = value\n",
    "       \n",
    "        if \"SYN\" in seq_id:\n",
    "            \n",
    "            motif_dict = get_motifs(seq_id)\n",
    "        \n",
    "            fa_dict[seq_id] = motif_dict\n",
    "\n",
    "len(fa_dict.keys())"
   ]
  },
  {
   "cell_type": "markdown",
   "id": "52e9ec65-2b5d-49a9-acc9-30832301e04a",
   "metadata": {},
   "source": [
    "# per sequence motifs to a dataframe"
   ]
  },
  {
   "cell_type": "code",
   "execution_count": 6,
   "id": "18b3b4a0-d1be-46a8-a280-a46501cbfb2c",
   "metadata": {},
   "outputs": [
    {
     "name": "stdout",
     "output_type": "stream",
     "text": [
      "GGGGCGGGG GGGGCGGGG\n",
      "CCCCGCCCC CCCCGCCCC\n",
      "CCCCCCCC CCCCCCCC\n",
      "GGGGGGGG GGGGGGGG\n",
      "CCCCCCCCCCC CCCCCCCCCCC\n",
      "GGGGGGGGGGG GGGGGGGGGGG\n",
      "TAATT TAATT\n",
      "AATTA AATTA\n"
     ]
    }
   ],
   "source": [
    "# parse and make dataframe of seq results\n",
    "results = {}\n",
    "for key, value in fa_dict.items():\n",
    "\n",
    "    \"\"\"annotate homotypic, heterotypic, or single insertions, \n",
    "\n",
    "    annotate shuffled sequences\n",
    "    \"\"\"\n",
    "    d = pd.DataFrame(value.items(), columns=[\"pos\", \"motif\"])\n",
    "\n",
    "    d[\"shuf\"], d[\"seq\"] = False, key # columns to reannotate\n",
    "\n",
    "    # str split synthetic sequences\n",
    "    # synthetic\n",
    "    if d.shape[0] < 2:\n",
    "        d[\"insert_type\"] = \"single\"\n",
    "\n",
    "    # heterotypic\n",
    "    elif \"_and_the_motif\" in key:\n",
    "        d[\"insert_type\"] = \"het\"\n",
    "    # homotypic    \n",
    "    elif \"The\" in key:\n",
    "        d[\"insert_type\"] = \"homo\"\n",
    "        \n",
    "    elif \"_Added_\" in key:\n",
    "        d[\"insert_type\"] = \"het\"\n",
    "\n",
    "    # shuffled\n",
    "    if \"Neg_shuffle\" in key:\n",
    "        d[\"insert_type\"] = \"shuf-whole\"\n",
    "        d['shuf'] = True\n",
    "    elif 'The_shuffled_version' in key:\n",
    "\n",
    "        # need to avoid annotations like this - \"SYNTHETIC:_The_shuffled_version_of_the_motif_GGGGCGGGG_as_GGGGCGGGG_was_added_in_Pos:85\"\n",
    "        original_motif = (key.split(\"_as_\")[0]).split(\n",
    "            \"The_shuffled_version_of_the_motif_\")[1]\n",
    "        \n",
    "        shuffled_motif = (key.split(\"_as_\")[1]).split(\"_was_added_in_\")[0]\n",
    "\n",
    "        if original_motif == shuffled_motif:\n",
    "            print(original_motif, shuffled_motif)\n",
    "            d[\"insert_type\"] = \"single\"\n",
    "        else:\n",
    "            d[\"insert_type\"] = \"shuf-motif\"\n",
    "            d['shuf'] = True\n",
    "\n",
    "    results[key] = d"
   ]
  },
  {
   "cell_type": "markdown",
   "id": "f1e8f51b-59ad-4c70-a74d-c2da63176cf9",
   "metadata": {},
   "source": [
    "## add library"
   ]
  },
  {
   "cell_type": "code",
   "execution_count": 7,
   "id": "71d473b4-be48-4e91-9af0-c0c882f825f2",
   "metadata": {},
   "outputs": [
    {
     "name": "stdout",
     "output_type": "stream",
     "text": [
      "(196597, 5)\n"
     ]
    },
    {
     "data": {
      "text/html": [
       "<div>\n",
       "<style scoped>\n",
       "    .dataframe tbody tr th:only-of-type {\n",
       "        vertical-align: middle;\n",
       "    }\n",
       "\n",
       "    .dataframe tbody tr th {\n",
       "        vertical-align: top;\n",
       "    }\n",
       "\n",
       "    .dataframe thead th {\n",
       "        text-align: right;\n",
       "    }\n",
       "</style>\n",
       "<table border=\"1\" class=\"dataframe\">\n",
       "  <thead>\n",
       "    <tr style=\"text-align: right;\">\n",
       "      <th></th>\n",
       "      <th>pos</th>\n",
       "      <th>motif</th>\n",
       "      <th>shuf</th>\n",
       "      <th>seq</th>\n",
       "      <th>insert_type</th>\n",
       "    </tr>\n",
       "  </thead>\n",
       "  <tbody>\n",
       "    <tr>\n",
       "      <th>0</th>\n",
       "      <td>1</td>\n",
       "      <td>CCAGGAACAG</td>\n",
       "      <td>False</td>\n",
       "      <td>SYNTHETIC:_The_motif_CCAGGAACAG_was_added_in_P...</td>\n",
       "      <td>single</td>\n",
       "    </tr>\n",
       "    <tr>\n",
       "      <th>1</th>\n",
       "      <td>1</td>\n",
       "      <td>CTGTTCCTGG</td>\n",
       "      <td>False</td>\n",
       "      <td>SYNTHETIC:_The_motif_CTGTTCCTGG_was_added_in_P...</td>\n",
       "      <td>single</td>\n",
       "    </tr>\n",
       "    <tr>\n",
       "      <th>2</th>\n",
       "      <td>9</td>\n",
       "      <td>CCAGGAACAG</td>\n",
       "      <td>False</td>\n",
       "      <td>SYNTHETIC:_The_motif_CCAGGAACAG_was_added_in_P...</td>\n",
       "      <td>single</td>\n",
       "    </tr>\n",
       "    <tr>\n",
       "      <th>3</th>\n",
       "      <td>9</td>\n",
       "      <td>CTGTTCCTGG</td>\n",
       "      <td>False</td>\n",
       "      <td>SYNTHETIC:_The_motif_CTGTTCCTGG_was_added_in_P...</td>\n",
       "      <td>single</td>\n",
       "    </tr>\n",
       "    <tr>\n",
       "      <th>4</th>\n",
       "      <td>17</td>\n",
       "      <td>CCAGGAACAG</td>\n",
       "      <td>False</td>\n",
       "      <td>SYNTHETIC:_The_motif_CCAGGAACAG_was_added_in_P...</td>\n",
       "      <td>single</td>\n",
       "    </tr>\n",
       "  </tbody>\n",
       "</table>\n",
       "</div>"
      ],
      "text/plain": [
       "   pos       motif   shuf                                                seq  \\\n",
       "0    1  CCAGGAACAG  False  SYNTHETIC:_The_motif_CCAGGAACAG_was_added_in_P...   \n",
       "1    1  CTGTTCCTGG  False  SYNTHETIC:_The_motif_CTGTTCCTGG_was_added_in_P...   \n",
       "2    9  CCAGGAACAG  False  SYNTHETIC:_The_motif_CCAGGAACAG_was_added_in_P...   \n",
       "3    9  CTGTTCCTGG  False  SYNTHETIC:_The_motif_CTGTTCCTGG_was_added_in_P...   \n",
       "4   17  CCAGGAACAG  False  SYNTHETIC:_The_motif_CCAGGAACAG_was_added_in_P...   \n",
       "\n",
       "  insert_type  \n",
       "0      single  \n",
       "1      single  \n",
       "2      single  \n",
       "3      single  \n",
       "4      single  "
      ]
     },
     "execution_count": 7,
     "metadata": {},
     "output_type": "execute_result"
    }
   ],
   "source": [
    "# make dataframe combining all sequences\n",
    "lib = pd.concat(results.values()).reset_index(drop=True).drop_duplicates()\n",
    "lib[\"pos\"] = lib[\"pos\"].astype(int)\n",
    "print(lib.shape)\n",
    "lib.head()"
   ]
  },
  {
   "cell_type": "code",
   "execution_count": 8,
   "id": "8c664d53-ddb0-40d5-b395-27c18ac618c8",
   "metadata": {},
   "outputs": [
    {
     "name": "stdout",
     "output_type": "stream",
     "text": [
      "e.g. single SYNTHETIC:_The_motif_CCAGGAACAG_was_added_in_Pos:1\n",
      "e.g. homotypic SYNTHETIC:_The_motif_CCAGGAACAG_was_added_in_Pos:125,145\n",
      "e.g. heterotypic SYNTHETIC:_The_motif_CCAGGAACAG_was_added_in_Pos:85_and_the_motif_ACACACACAC_was_added_in_Pos:185\n",
      "e.g. shuf-whole Neg_shuffle_1_SYNTHETIC:_The_motif_ACTTTGATAC_was_added_in_Pos:41\n",
      "e.g. shuf-motif SYNTHETIC:_The_shuffled_version_of_the_motif_CCAGGAACAG_as_GAAGCACACG_was_added_in_Pos:85\n"
     ]
    }
   ],
   "source": [
    "#\n",
    "print(\"e.g. single\", lib.loc[lib['insert_type']==\"single\"][\"seq\"].iloc[0])\n",
    "print(\"e.g. homotypic\", lib.loc[lib['insert_type']==\"homo\"][\"seq\"].iloc[0])\n",
    "print(\"e.g. heterotypic\", lib.loc[lib['insert_type']==\"het\"][\"seq\"].iloc[0])\n",
    "print(\"e.g. shuf-whole\", lib.loc[lib['insert_type']==\"shuf-whole\"][\"seq\"].iloc[0])\n",
    "print(\"e.g. shuf-motif\", lib.loc[lib['insert_type']==\"shuf-motif\"][\"seq\"].iloc[0])\n"
   ]
  },
  {
   "cell_type": "markdown",
   "id": "ba607a3e-ed51-4dc4-9887-a23995e2fc82",
   "metadata": {},
   "source": [
    "## compute features of fasta library"
   ]
  },
  {
   "cell_type": "code",
   "execution_count": 9,
   "id": "bfbbedec-4aee-4fc1-9d09-a87a16bfca14",
   "metadata": {},
   "outputs": [],
   "source": [
    "# count the number of motifs inserted\n",
    "inserts = lib.groupby([\"seq\", 'insert_type'])['pos'].count().reset_index().copy().sort_values(by=\"pos\")\n",
    "inserts.rename(columns={\"pos\": \"n_inserts\"}, inplace=True)  # rename the count column\n",
    "\n",
    "# add n_inserts into lib dataframe\n",
    "lib = pd.merge(lib, inserts)  \n",
    "\n",
    "# measure motif length\n",
    "lib[\"motif_len\"] = lib[\"motif\"].apply(lambda x: len(x))"
   ]
  },
  {
   "cell_type": "code",
   "execution_count": 10,
   "id": "a5450529-9d4b-48f5-8574-3aec3f67dfdf",
   "metadata": {},
   "outputs": [
    {
     "data": {
      "text/html": [
       "<div>\n",
       "<style scoped>\n",
       "    .dataframe tbody tr th:only-of-type {\n",
       "        vertical-align: middle;\n",
       "    }\n",
       "\n",
       "    .dataframe tbody tr th {\n",
       "        vertical-align: top;\n",
       "    }\n",
       "\n",
       "    .dataframe thead th {\n",
       "        text-align: right;\n",
       "    }\n",
       "</style>\n",
       "<table border=\"1\" class=\"dataframe\">\n",
       "  <thead>\n",
       "    <tr style=\"text-align: right;\">\n",
       "      <th></th>\n",
       "      <th>pos</th>\n",
       "      <th>motif</th>\n",
       "      <th>shuf</th>\n",
       "      <th>seq</th>\n",
       "      <th>insert_type</th>\n",
       "      <th>n_inserts</th>\n",
       "      <th>motif_len</th>\n",
       "    </tr>\n",
       "  </thead>\n",
       "  <tbody>\n",
       "    <tr>\n",
       "      <th>0</th>\n",
       "      <td>1</td>\n",
       "      <td>CCAGGAACAG</td>\n",
       "      <td>False</td>\n",
       "      <td>SYNTHETIC:_The_motif_CCAGGAACAG_was_added_in_P...</td>\n",
       "      <td>single</td>\n",
       "      <td>1</td>\n",
       "      <td>10</td>\n",
       "    </tr>\n",
       "    <tr>\n",
       "      <th>1</th>\n",
       "      <td>1</td>\n",
       "      <td>CTGTTCCTGG</td>\n",
       "      <td>False</td>\n",
       "      <td>SYNTHETIC:_The_motif_CTGTTCCTGG_was_added_in_P...</td>\n",
       "      <td>single</td>\n",
       "      <td>1</td>\n",
       "      <td>10</td>\n",
       "    </tr>\n",
       "    <tr>\n",
       "      <th>2</th>\n",
       "      <td>9</td>\n",
       "      <td>CCAGGAACAG</td>\n",
       "      <td>False</td>\n",
       "      <td>SYNTHETIC:_The_motif_CCAGGAACAG_was_added_in_P...</td>\n",
       "      <td>single</td>\n",
       "      <td>1</td>\n",
       "      <td>10</td>\n",
       "    </tr>\n",
       "    <tr>\n",
       "      <th>3</th>\n",
       "      <td>9</td>\n",
       "      <td>CTGTTCCTGG</td>\n",
       "      <td>False</td>\n",
       "      <td>SYNTHETIC:_The_motif_CTGTTCCTGG_was_added_in_P...</td>\n",
       "      <td>single</td>\n",
       "      <td>1</td>\n",
       "      <td>10</td>\n",
       "    </tr>\n",
       "    <tr>\n",
       "      <th>4</th>\n",
       "      <td>17</td>\n",
       "      <td>CCAGGAACAG</td>\n",
       "      <td>False</td>\n",
       "      <td>SYNTHETIC:_The_motif_CCAGGAACAG_was_added_in_P...</td>\n",
       "      <td>single</td>\n",
       "      <td>1</td>\n",
       "      <td>10</td>\n",
       "    </tr>\n",
       "  </tbody>\n",
       "</table>\n",
       "</div>"
      ],
      "text/plain": [
       "   pos       motif   shuf                                                seq  \\\n",
       "0    1  CCAGGAACAG  False  SYNTHETIC:_The_motif_CCAGGAACAG_was_added_in_P...   \n",
       "1    1  CTGTTCCTGG  False  SYNTHETIC:_The_motif_CTGTTCCTGG_was_added_in_P...   \n",
       "2    9  CCAGGAACAG  False  SYNTHETIC:_The_motif_CCAGGAACAG_was_added_in_P...   \n",
       "3    9  CTGTTCCTGG  False  SYNTHETIC:_The_motif_CTGTTCCTGG_was_added_in_P...   \n",
       "4   17  CCAGGAACAG  False  SYNTHETIC:_The_motif_CCAGGAACAG_was_added_in_P...   \n",
       "\n",
       "  insert_type  n_inserts  motif_len  \n",
       "0      single          1         10  \n",
       "1      single          1         10  \n",
       "2      single          1         10  \n",
       "3      single          1         10  \n",
       "4      single          1         10  "
      ]
     },
     "execution_count": 10,
     "metadata": {},
     "output_type": "execute_result"
    }
   ],
   "source": [
    "lib.head()"
   ]
  },
  {
   "cell_type": "markdown",
   "id": "71128080-f12e-4f3b-b0a2-483bb44c1e03",
   "metadata": {},
   "source": [
    "## write cleaned synthetic library to tsv"
   ]
  },
  {
   "cell_type": "code",
   "execution_count": 11,
   "id": "4ac92591-e54d-4c55-88de-30b6644e64fa",
   "metadata": {},
   "outputs": [],
   "source": [
    "lib.rename(columns={\"seq\":\"name\"}).to_csv(CLEAN_SYN_LIB, sep='\\t', index=False)"
   ]
  },
  {
   "cell_type": "markdown",
   "id": "7162b516-0f4d-4085-b614-361a8b90e2e7",
   "metadata": {},
   "source": [
    "# design file"
   ]
  },
  {
   "cell_type": "code",
   "execution_count": 12,
   "id": "1f579897-d522-40cb-ba93-13a4f7602e18",
   "metadata": {},
   "outputs": [
    {
     "data": {
      "text/html": [
       "<div>\n",
       "<style scoped>\n",
       "    .dataframe tbody tr th:only-of-type {\n",
       "        vertical-align: middle;\n",
       "    }\n",
       "\n",
       "    .dataframe tbody tr th {\n",
       "        vertical-align: top;\n",
       "    }\n",
       "\n",
       "    .dataframe thead th {\n",
       "        text-align: right;\n",
       "    }\n",
       "</style>\n",
       "<table border=\"1\" class=\"dataframe\">\n",
       "  <thead>\n",
       "    <tr style=\"text-align: right;\">\n",
       "      <th></th>\n",
       "      <th>design_cl</th>\n",
       "      <th>design_assay</th>\n",
       "      <th>design_direction</th>\n",
       "      <th>design_motif</th>\n",
       "      <th>motif</th>\n",
       "      <th>motif_name</th>\n",
       "      <th>p</th>\n",
       "      <th>perc_target_w_motif</th>\n",
       "      <th>perc_bkgd_w_motif</th>\n",
       "      <th>quadrant</th>\n",
       "    </tr>\n",
       "  </thead>\n",
       "  <tbody>\n",
       "    <tr>\n",
       "      <th>0</th>\n",
       "      <td>bj</td>\n",
       "      <td>k27ac</td>\n",
       "      <td>up</td>\n",
       "      <td>known</td>\n",
       "      <td>CCAGGAACAG</td>\n",
       "      <td>AR-halfsite(NR)/LNCaP-AR-ChIP-Seq(GSE27824)/Homer</td>\n",
       "      <td>1.00E-50</td>\n",
       "      <td>82.0</td>\n",
       "      <td>47.00</td>\n",
       "      <td>1</td>\n",
       "    </tr>\n",
       "    <tr>\n",
       "      <th>1</th>\n",
       "      <td>bj</td>\n",
       "      <td>k27ac</td>\n",
       "      <td>up</td>\n",
       "      <td>de novo</td>\n",
       "      <td>ACACACACAC</td>\n",
       "      <td>KLF9/MA1107.2/Jaspar(0.745)</td>\n",
       "      <td>1.00E-55</td>\n",
       "      <td>84.0</td>\n",
       "      <td>47.00</td>\n",
       "      <td>1</td>\n",
       "    </tr>\n",
       "    <tr>\n",
       "      <th>2</th>\n",
       "      <td>bj</td>\n",
       "      <td>k27ac</td>\n",
       "      <td>down</td>\n",
       "      <td>known</td>\n",
       "      <td>GGCCGTCTGG</td>\n",
       "      <td>Smad4(MAD)/ESC-SMAD4-ChIP-Seq(GSE29422)/Homer</td>\n",
       "      <td>1.00E-06</td>\n",
       "      <td>76.0</td>\n",
       "      <td>24.00</td>\n",
       "      <td>1</td>\n",
       "    </tr>\n",
       "    <tr>\n",
       "      <th>3</th>\n",
       "      <td>bj</td>\n",
       "      <td>k27ac</td>\n",
       "      <td>down</td>\n",
       "      <td>de novo</td>\n",
       "      <td>AAGGCTGGGACC</td>\n",
       "      <td>POL011.1_XCPE1/Jaspar(0.642)</td>\n",
       "      <td>1.00E-08</td>\n",
       "      <td>14.0</td>\n",
       "      <td>0.01</td>\n",
       "      <td>1</td>\n",
       "    </tr>\n",
       "    <tr>\n",
       "      <th>4</th>\n",
       "      <td>hepg2</td>\n",
       "      <td>k27ac</td>\n",
       "      <td>up</td>\n",
       "      <td>known</td>\n",
       "      <td>AGGCCTGG</td>\n",
       "      <td>ZFX(Zf)/mES-Zfx-ChIP-Seq(GSE11431)/Homer</td>\n",
       "      <td>1.00E-07</td>\n",
       "      <td>77.0</td>\n",
       "      <td>37.00</td>\n",
       "      <td>1</td>\n",
       "    </tr>\n",
       "  </tbody>\n",
       "</table>\n",
       "</div>"
      ],
      "text/plain": [
       "  design_cl design_assay design_direction design_motif         motif  \\\n",
       "0        bj        k27ac               up        known    CCAGGAACAG   \n",
       "1        bj        k27ac               up      de novo    ACACACACAC   \n",
       "2        bj        k27ac             down        known    GGCCGTCTGG   \n",
       "3        bj        k27ac             down      de novo  AAGGCTGGGACC   \n",
       "4     hepg2        k27ac               up        known      AGGCCTGG   \n",
       "\n",
       "                                          motif_name         p  \\\n",
       "0  AR-halfsite(NR)/LNCaP-AR-ChIP-Seq(GSE27824)/Homer  1.00E-50   \n",
       "1                        KLF9/MA1107.2/Jaspar(0.745)  1.00E-55   \n",
       "2      Smad4(MAD)/ESC-SMAD4-ChIP-Seq(GSE29422)/Homer  1.00E-06   \n",
       "3                       POL011.1_XCPE1/Jaspar(0.642)  1.00E-08   \n",
       "4           ZFX(Zf)/mES-Zfx-ChIP-Seq(GSE11431)/Homer  1.00E-07   \n",
       "\n",
       "   perc_target_w_motif  perc_bkgd_w_motif  quadrant  \n",
       "0                 82.0              47.00         1  \n",
       "1                 84.0              47.00         1  \n",
       "2                 76.0              24.00         1  \n",
       "3                 14.0               0.01         1  \n",
       "4                 77.0              37.00         1  "
      ]
     },
     "execution_count": 12,
     "metadata": {},
     "output_type": "execute_result"
    }
   ],
   "source": [
    "design = pd.read_csv(DESIGN)\n",
    "design.columns=['design_cl', \"design_assay\", \"design_direction\", \n",
    "\"design_motif\", \"motif\", \"motif_name\", \"p\", \"perc_target_w_motif\", \"perc_bkgd_w_motif\", \"quadrant\"]\n",
    "\n",
    "design.head()"
   ]
  },
  {
   "cell_type": "markdown",
   "id": "b4c05125-549f-46fc-8982-10137f41c0f1",
   "metadata": {},
   "source": [
    "## reverse complement motifs"
   ]
  },
  {
   "cell_type": "code",
   "execution_count": 13,
   "id": "ddf3a97d-e156-4ccc-9cf1-585800538f0a",
   "metadata": {},
   "outputs": [
    {
     "name": "stdout",
     "output_type": "stream",
     "text": [
      "(64, 11)\n",
      "(128, 11)\n"
     ]
    }
   ],
   "source": [
    "if \"rev\" not in design.columns:\n",
    "    design[\"rev\"] = 0  # annotate reverse complement in column\n",
    "    \n",
    "    rev = design.copy().drop_duplicates()  # copy design file\n",
    "    \n",
    "    rev[\"rev\"] = 1  # re-annotate reverse complement (make binary column)\n",
    "    rev[\"motif\"] = rev[\"motif\"].apply(lambda x: reverse_complement(x))  # re-annotate reverse complement in motif column \n",
    "    \n",
    "    print(design.shape)\n",
    "    design = pd.concat([design, rev]) # combine forward and reverse complement motifs\n",
    "    print(design.shape)"
   ]
  },
  {
   "cell_type": "markdown",
   "id": "79817f9d-8e2c-4631-b918-701cb7cd3559",
   "metadata": {},
   "source": [
    "## write clean design with reverse complement information"
   ]
  },
  {
   "cell_type": "code",
   "execution_count": 14,
   "id": "f09457cf-cc89-492a-a17e-eaf29ad8d4a9",
   "metadata": {},
   "outputs": [],
   "source": [
    "design.to_csv(CLEAN_DESIGN, sep='\\t', index=False)"
   ]
  },
  {
   "cell_type": "markdown",
   "id": "feb59fb1-eee8-4568-8f4f-7b48ea2029b6",
   "metadata": {},
   "source": [
    "# MPRA "
   ]
  },
  {
   "cell_type": "markdown",
   "id": "740bab88-3bb3-4693-a1e2-73ff6a368297",
   "metadata": {},
   "source": [
    "## stupid function"
   ]
  },
  {
   "cell_type": "code",
   "execution_count": 22,
   "id": "70272010-1213-4366-8ef3-a5cf47fc9318",
   "metadata": {},
   "outputs": [],
   "source": [
    "\"\"\"\n",
    "## PROBLEM: MOTIF names are annotated differently \n",
    "same sequence in library and mpra dataframe\n",
    "    \n",
    "    lib.loc[lib[\"seq\"].str.contains(\"Neg_shuffle_156_SYNTHETIC:_\"), \"seq\"].iloc[0]\n",
    "\n",
    "    mpra.loc[mpra[\"name\"].str.contains(\"Neg_shuffle_156_SYNTHETIC:_\"), \"name\"].iloc[0]\n",
    "    \n",
    "library \n",
    "    \n",
    "    Neg_shuffle_156_SYNTHETIC:_Added_ATGCTGAC,TTTTATAA,TGTAACAA,AATTA,GTATCAAAGT,CCCCGGCGCCCCCTGGTGGC_at_positions_6,146,87,257,187,230\n",
    "mpra dataframe \n",
    "\n",
    "    Neg_shuffle_156_SYNTHETIC:_Added_ATGCTGAC_TTTTATAA_TGTAACAA_AATTA_GTATCAAAGT_CCCCGGCGCCCCCTGGTGGC_at_positions_6_146_87_257_187_230\n",
    "\"\"\"\n",
    "\n",
    "def stupidMPRAStrSplitID(seq_id):\n",
    "    \"\"\"position and motifs are not separated by commas, but underscores in the MPRA library file. \n",
    "    This is stupid. It took me a solid 30 minutes to figure this out and clean this up! F. \n",
    "    It does not match the fasta library file. \n",
    "    I have to very carefully change these annotations to match the library file and I think it is stupid. \n",
    "    In the future, there will be a better way of matching these ids with AN INDEX FOR EACH SEQUENCE ID. \n",
    "    WE DON\"T HAVE TO LIVE UNDER ROCKS\n",
    "    \"\"\"\n",
    "    full_id = []\n",
    "    next_motif, next_pos = -1,-1\n",
    "    motif, pos = [], []\n",
    "    end_motif, end_pos = -1, -1\n",
    "    for n, i in enumerate(seq_id.split(\"_\")):\n",
    "        \n",
    "        if i == \"Added\":\n",
    "            next_motif = n\n",
    "            full_id.append(i) # add to str\n",
    "        \n",
    "        elif n > next_motif and next_motif >0 and i!=\"at\":\n",
    "            motif.append(i)  # add to str\n",
    "        \n",
    "        elif i==\"at\":\n",
    "            full_id.append(\",\".join(motif)) # add to str\n",
    "            full_id.append(i) # add to str\n",
    "            \n",
    "            next_motif =-1\n",
    "            next_pos = n\n",
    "            \n",
    "        elif n >next_pos and next_pos>0 and i!=\"positions\":\n",
    "            \n",
    "            pos.append(i)\n",
    "        else:\n",
    "            full_id.append(i) # add to str\n",
    "    full_id.append(\",\".join(pos))\n",
    "    lib_matched_id = \"_\".join(full_id)\n",
    "\n",
    "    return lib_matched_id\n",
    "\n",
    "def analyzeBootstrap(list, quantile):\n",
    "    \"\"\"process the bootstrapping with a list of values and a quantile, \n",
    "       be conservative—return the most extreme of the 2.5% estimate or the max 97.5% estimate\n",
    "    \"\"\"\n",
    "    discrete, relative = bd.bootstrap(list, None, quantile)\n",
    "   \n",
    "    return discrete"
   ]
  },
  {
   "cell_type": "markdown",
   "id": "a43845ad-8ba2-42f1-b102-63cef51a9809",
   "metadata": {},
   "source": [
    "## clean and merge MPRA"
   ]
  },
  {
   "cell_type": "code",
   "execution_count": 30,
   "id": "b32a7ff3-32f4-4963-bf43-2471c3d23fa0",
   "metadata": {},
   "outputs": [
    {
     "name": "stdout",
     "output_type": "stream",
     "text": [
      "hepg2\n",
      "(31805, 25)\n",
      "(31805, 25) (31805, 25)\n",
      "dropped nas (148583, 32)\n",
      "bs single\n",
      "bs het\n",
      "bs shuf-motif\n"
     ]
    },
    {
     "name": "stderr",
     "output_type": "stream",
     "text": [
      "/scratch/fongsl/ipykernel_754932/3155740060.py:80: FutureWarning: arrays to stack must be passed as a \"sequence\" type such as list or tuple. Support for non-sequence iterables such as generators is deprecated as of NumPy 1.16 and will raise an error in the future.\n",
      "  bs_pos_results = pd.DataFrame(np.vstack(bs_positions.values()))\n"
     ]
    },
    {
     "name": "stdout",
     "output_type": "stream",
     "text": [
      "bj\n",
      "(31714, 24)\n",
      "(31714, 24) (31714, 24)\n",
      "dropped nas (147947, 31)\n",
      "bs single\n",
      "bs het\n",
      "bs shuf-motif\n"
     ]
    },
    {
     "name": "stderr",
     "output_type": "stream",
     "text": [
      "/scratch/fongsl/ipykernel_754932/3155740060.py:80: FutureWarning: arrays to stack must be passed as a \"sequence\" type such as list or tuple. Support for non-sequence iterables such as generators is deprecated as of NumPy 1.16 and will raise an error in the future.\n",
      "  bs_pos_results = pd.DataFrame(np.vstack(bs_positions.values()))\n"
     ]
    }
   ],
   "source": [
    "for CL in CLS:\n",
    "    print(CL)\n",
    "\n",
    "    bs_expectations = {}  # collect bootstrapped expectations\n",
    "\n",
    "    # read input data\n",
    "    MPRA = config[\"mpra\"][f\"{CL}.clean.trans.scaled\"]\n",
    "\n",
    "    # write\n",
    "    MPRA_SYN = config_dict[f\"{CL.upper()}_MPRA_SYN\"]\n",
    "    MPRA_SYN_BS = config_dict[f\"{CL.upper()}_MPRA_SYN_BS\"]\n",
    "\n",
    "    # load mpra data\n",
    "    mpra = pd.read_csv(MPRA, sep='\\t')\n",
    "    \n",
    "    # keep only synthetics\n",
    "    mpra = mpra.loc[mpra[\"name\"].str.contains(\"SYNTHETIC:\")]\n",
    "    print(mpra.shape)\n",
    "\n",
    "    # rectify stupid annotations not in the MPRA.\n",
    "    # separate the good mpra annotations that match the fasta library (n=10721)\n",
    "    fine = mpra.loc[mpra[\"name\"].isin(lib[\"seq\"])].copy()\n",
    "\n",
    "    # from the bad mpra annotations that do not match the fasta library (n=28459)\n",
    "    needs_resolve = mpra.loc[~mpra[\"name\"].isin(lib[\"seq\"])].copy()\n",
    "\n",
    "    # resolve annotation issue with str splitting function.\n",
    "    needs_resolve[\"name\"] = needs_resolve[\"name\"].apply(\n",
    "        lambda x: stupidMPRAStrSplitID(x))\n",
    "\n",
    "    resolved = pd.concat([fine, needs_resolve])  # combine the good annotations\n",
    "    print(resolved.shape, mpra.shape)\n",
    "\n",
    "    # merge lib with resolved mpra on seq name\n",
    "    df = pd.merge(lib, resolved, how=\"left\", left_on=\"seq\", right_on=\"name\")\n",
    "\n",
    "    # drop nas\n",
    "    df = df.loc[~df[\"delta.mean\"].isna()]\n",
    "\n",
    "    print(\"dropped nas\", df.shape)\n",
    "    \n",
    "    # write \n",
    "    df.to_csv(MPRA_SYN, sep='\\t', index=False)\n",
    "\n",
    "    # bootstrap by position\n",
    "    # - first check if there is a correlation between motif length and ctrl MPRA activity.\n",
    "    # - Spot checking position 1, 60, 227 - there is no correlation between motif leng and activity.\n",
    "\n",
    "    bs_positions = {}\n",
    "\n",
    "    # bootstrap CI of activity per position, per insertion type\n",
    "    for insertion in [\"single\", \"het\", 'shuf-motif']:\n",
    "        print(\"bs\", insertion)\n",
    "        for pos in set(df[\"pos\"]):\n",
    "            # df of position and insertion \n",
    "            posdf = df.loc[(df[\"pos\"] == pos) &\n",
    "                           (df[\"insert_type\"] == insertion)\n",
    "                           ].copy()  # subset the dataframe\n",
    "\n",
    "            # bs if observations are more than 30 (central limit theorem heuristic)\n",
    "            if posdf.shape[0]>30:\n",
    "    \n",
    "                data_list = [pos]\n",
    "                for n, activity_measure in enumerate([\"l2.ratio.med.ctrl\", \"l2.ratio.med.us\"]):\n",
    "    \n",
    "                    # get vector of activity values to bootstrap from\n",
    "                    activity_vector = list(posdf[[\"seq\", activity_measure]\n",
    "                                                 ].drop_duplicates()[activity_measure])\n",
    "    \n",
    "                    # bootstrap the vector fo confidence intervals\n",
    "                    bs025_lo, bs025_hi = analyzeBootstrap(activity_vector, 0.025)\n",
    "                    bs975_lo, bs975_hi = analyzeBootstrap(activity_vector, 0.975)\n",
    "    \n",
    "                    # add datalist to dictionary for each activity measure\n",
    "                    bs_positions[f\"{insertion}.{pos}.{n}\"] = data_list + \\\n",
    "                        [insertion, activity_measure, len(activity_vector),\n",
    "                         bs025_lo, bs025_hi, bs975_lo,  bs975_hi]\n",
    "\n",
    "    # concat results across positions\n",
    "    bs_pos_results = pd.DataFrame(np.vstack(bs_positions.values()))\n",
    "    bs_pos_results.columns = [\n",
    "        \"insert_type\", \"pos\", \"activity_measure\", \"vector_size\", \"bs025_lo\", 'bs025_hi', \"bs_975_lo\", \"bs_975_hi\"]\n",
    "\n",
    "    # write!\n",
    "    bs_pos_results.to_csv(MPRA_SYN_BS, sep='\\t', index=False)"
   ]
  },
  {
   "cell_type": "code",
   "execution_count": 33,
   "id": "5c790d5d-5652-4fcc-bdc3-72d4166535bb",
   "metadata": {},
   "outputs": [
    {
     "data": {
      "text/plain": [
       "pos\n",
       "het           526\n",
       "shuf-motif      2\n",
       "single         68\n",
       "Name: vector_size, dtype: int64"
      ]
     },
     "execution_count": 33,
     "metadata": {},
     "output_type": "execute_result"
    }
   ],
   "source": [
    "bs_pos_results.groupby([\"pos\", ])[\"vector_size\"].count()"
   ]
  },
  {
   "cell_type": "markdown",
   "id": "b3015dec-ef95-4a90-9b71-bccd81d8af7d",
   "metadata": {},
   "source": [
    "## annotate shuf-motif dist"
   ]
  },
  {
   "cell_type": "code",
   "execution_count": null,
   "id": "df4492b4-f526-43e5-b9af-9f0e14d60a0c",
   "metadata": {},
   "outputs": [],
   "source": [
    "\n",
    "###\n",
    "# annotate bootstrapped 95% CI from shuffled motifs - most appropriate for single insertion model. But bad control because limited to one positional insert.\n",
    "###\n",
    "\n",
    "\n",
    "# isolate the shuffled distribution\n",
    "shuf = df.loc[df[\"insert_type\"] == \"'shuf-motif'\"].drop_duplicates().copy()\n",
    "\n",
    "bs_shuf_exp = {}\n",
    "for activity_measure in [\"l2.ratio.med.ctrl\", \"l2.ratio.med.us\", \"delta.mean\"]:\n",
    "\n",
    "    # get vector of activity values to bootstrap from\n",
    "    activity_vector = list(shuf[[\"seq\", activity_measure]\n",
    "                                ].drop_duplicates()[activity_measure])\n",
    "\n",
    "    # bootstrap the vector fo confidence intervals\n",
    "    bs025_lo, bs025_hi = analyzeBootstrap(activity_vector, 0.025)\n",
    "    bs975_lo, bs975_hi = analyzeBootstrap(activity_vector, 0.975)\n",
    "\n",
    "    bs_shuf_exp[activity_measure] = [\n",
    "        bs025_lo, bs025_hi, bs975_lo,  bs975_hi]\n",
    "\n",
    "# annotate elements that exceed the shuffle bootstrap\n",
    "df['exceeds_shuf.delta'] = None\n",
    "df.loc[df[\"delta.mean\"] > bs_shuf_exp[\"delta.mean\"]\n",
    "       [-1], \"exceeds_shuf.delta\"] = \"UPPER\"\n",
    "df.loc[df[\"delta.mean\"] < bs_shuf_exp[\"delta.mean\"]\n",
    "       [0], \"exceeds_shuf.delta\"] = \"LOWER\"\n",
    "\n",
    "# annotate elements that exceed bootstraps in either environment.\n",
    "for col, activity_measure in zip([\"outside_shuf95.ctrl\", \"outside_shuf95.us\"],\n",
    "                                 [\"l2.ratio.med.ctrl\", \"l2.ratio.med.us\", ]):\n",
    "    df[col] = 0\n",
    "\n",
    "    # mark sequences that exceed the bootstrapped CIs\n",
    "    df.loc[(df[activity_measure] > bs_shuf_exp[activity_measure][-1]) |\n",
    "           (df[activity_measure] < bs_shuf_exp[activity_measure][0]), col] = 1\n",
    "\n",
    "    if col == \"outside_shuf95.ctrl\":\n",
    "        df[col] = df[col]*-1\n",
    "# if exceeds any ctrl or us difference, sum the bs exceeding labels -\n",
    "# if exceeds both us and ctrl, mark as zero because we're interested in gains or loss due to US sensitivity.\n",
    "df[\"outside_shuf95.dif\"] = df[\"outside_shuf95.ctrl\"]+df[\"outside_shuf95.us\"]\n",
    "\n",
    "\n",
    "\n",
    "# write bootstrapped dataframe to file.\n",
    "pd.DataFrame(bs_shuf_exp.items()).to_csv(\n",
    "    f\"{CL}.shuf.bs.tsv\", sep='\\t', index=False)"
   ]
  }
 ],
 "metadata": {
  "kernelspec": {
   "display_name": "Python (mamba)",
   "language": "python",
   "name": "mamba"
  },
  "language_info": {
   "codemirror_mode": {
    "name": "ipython",
    "version": 3
   },
   "file_extension": ".py",
   "mimetype": "text/x-python",
   "name": "python",
   "nbconvert_exporter": "python",
   "pygments_lexer": "ipython3",
   "version": "3.9.16"
  },
  "toc": {
   "base_numbering": 1,
   "nav_menu": {},
   "number_sections": true,
   "sideBar": true,
   "skip_h1_title": false,
   "title_cell": "Table of Contents",
   "title_sidebar": "Contents",
   "toc_cell": false,
   "toc_position": {},
   "toc_section_display": true,
   "toc_window_display": true
  },
  "varInspector": {
   "cols": {
    "lenName": 16,
    "lenType": 16,
    "lenVar": 40
   },
   "kernels_config": {
    "python": {
     "delete_cmd_postfix": "",
     "delete_cmd_prefix": "del ",
     "library": "var_list.py",
     "varRefreshCmd": "print(var_dic_list())"
    },
    "r": {
     "delete_cmd_postfix": ") ",
     "delete_cmd_prefix": "rm(",
     "library": "var_list.r",
     "varRefreshCmd": "cat(var_dic_list()) "
    }
   },
   "types_to_exclude": [
    "module",
    "function",
    "builtin_function_or_method",
    "instance",
    "_Feature"
   ],
   "window_display": false
  }
 },
 "nbformat": 4,
 "nbformat_minor": 5
}
