{
 "cells": [
  {
   "cell_type": "code",
   "execution_count": 1,
   "id": "220c131f",
   "metadata": {
    "ExecuteTime": {
     "end_time": "2024-04-22T17:07:38.157365Z",
     "start_time": "2024-04-22T17:07:07.739315Z"
    }
   },
   "outputs": [
    {
     "data": {
      "text/plain": [
       "('sans-serif', 'Arial', 18)"
      ]
     },
     "execution_count": 1,
     "metadata": {},
     "output_type": "execute_result"
    }
   ],
   "source": [
    "from Bio.SeqIO.FastaIO import SimpleFastaParser as sfp\n",
    "import os, sys\n",
    "import numpy as np\n",
    "import pandas as pd\n",
    "\n",
    "import config_readwrite as crw\n",
    "\n",
    "import matplotlib.pyplot as plt\n",
    "import seaborn as sns\n",
    "\n",
    "from scipy import stats\n",
    "\n",
    "import warnings\n",
    "warnings.filterwarnings(\"ignore\")\n",
    "import plot_params as pp\n",
    "\n",
    "pp.fonts()"
   ]
  },
  {
   "cell_type": "markdown",
   "id": "0f08314d",
   "metadata": {},
   "source": [
    "# config"
   ]
  },
  {
   "cell_type": "code",
   "execution_count": 2,
   "id": "1a082fb7",
   "metadata": {
    "ExecuteTime": {
     "end_time": "2024-04-22T17:08:02.119289Z",
     "start_time": "2024-04-22T17:08:02.059344Z"
    }
   },
   "outputs": [],
   "source": [
    "# read\n",
    "config, cfn = crw.read(os.path.join(os.path.dirname(os.getcwd()), \"config.ini\"))"
   ]
  },
  {
   "cell_type": "code",
   "execution_count": 5,
   "id": "4e3a4802",
   "metadata": {
    "ExecuteTime": {
     "end_time": "2024-04-22T17:08:09.541160Z",
     "start_time": "2024-04-22T17:08:09.529183Z"
    }
   },
   "outputs": [],
   "source": [
    "CL = \"HEPG2\"\n",
    "DATAHEPG2 = config[\"mpra\"][f'{CL}.clean.transformed'] \n",
    "\n",
    "CL = \"BJ\"\n",
    "DATABJ = config[\"mpra\"][f'{CL}.clean.transformed'] \n",
    "\n",
    "FASTA = config[\"mpra\"][\"fasta\"]\n",
    "\n",
    "MEME = config[\"meme\"][\"src\"]\n",
    "FIMO = config[\"fimo\"][\"src\"]\n",
    "RESULTS = config[\"path\"][\"results\"]\n",
    "BED = config[\"mpra\"][\"tile.bed\"]\n",
    "ls\n",
    "\n",
    "RE = os.path.join(RESULTS, \"jaspar\")\n",
    "RE_CL = os.path.join(RE, CL)\n",
    "\n",
    "# make the results\n",
    "for dirname in [RE, RE_CL]:\n",
    "    if os.path.exists(dirname) is False:\n",
    "        os.mkdir(dirname)\n",
    "\n",
    "# append meme path\n",
    "sys.path.append(MEME)\n",
    "\n",
    "# change directory \n",
    "os.chdir(RE_CL)"
   ]
  },
  {
   "cell_type": "code",
   "execution_count": 6,
   "id": "5ed98f72",
   "metadata": {
    "ExecuteTime": {
     "end_time": "2024-04-22T17:08:10.300104Z",
     "start_time": "2024-04-22T17:08:10.294006Z"
    }
   },
   "outputs": [],
   "source": [
    "# write\n",
    "\n",
    "section = \"JASPAR\"\n",
    "crw.check(config, section)\n",
    "\n",
    "JASPAR_MOTIFS = \"/wynton/group/ahituv/tfbs_motif/jaspar/JASPAR2022_CORE_non-redundant_pfms_meme.txt\"\n",
    "config[section]['meme_file']= JASPAR_MOTIFS\n",
    "config[section][f'results'] = RE\n",
    "config[section][CL] = RE_CL\n",
    "\n",
    "crw.write(config, cfn)"
   ]
  },
  {
   "cell_type": "markdown",
   "id": "1e277242",
   "metadata": {},
   "source": [
    "# load data"
   ]
  },
  {
   "cell_type": "code",
   "execution_count": 5,
   "id": "7c36385b",
   "metadata": {
    "ExecuteTime": {
     "end_time": "2024-04-17T22:57:12.695751Z",
     "start_time": "2024-04-17T22:57:12.584112Z"
    }
   },
   "outputs": [],
   "source": [
    "def openAndFilter(file_name):\n",
    "    df = pd.read_csv(file_name, sep='\\t')  # (58333, 38)\n",
    "    print(\"before filtering\", file_name,  df.shape)\n",
    "    df = df.loc[~df[\"label\"].str.contains(\"Synthetic\")].reset_index(\n",
    "        drop=True)  # (26803, 38)\n",
    "    print(\"filter out synthetics\", df.shape)\n",
    "    df = df.loc[~df[\"label\"].str.contains(\"Pos\")].reset_index(\n",
    "        drop=True)  # (26659, 38)\n",
    "    print(\"filter out positive controls\", df.shape, '\\n\\n')\n",
    "\n",
    "    return df"
   ]
  },
  {
   "cell_type": "code",
   "execution_count": 6,
   "id": "17c18a68",
   "metadata": {
    "ExecuteTime": {
     "end_time": "2024-04-17T22:57:13.765384Z",
     "start_time": "2024-04-17T22:57:12.697672Z"
    }
   },
   "outputs": [
    {
     "name": "stdout",
     "output_type": "stream",
     "text": [
      "before filtering /wynton/group/ahituv/fongsl/projects/US/data/full_bj_MPRA.clean.transformed.csv (58333, 38)\n",
      "filter out synthetics (26803, 38)\n",
      "filter out positive controls (26659, 38) \n",
      "\n",
      "\n"
     ]
    }
   ],
   "source": [
    "#hepg2 = openAndFilter(DATAHEPG2)\n",
    "bj = openAndFilter(DATABJ)"
   ]
  },
  {
   "cell_type": "code",
   "execution_count": 7,
   "id": "c48f975a",
   "metadata": {
    "ExecuteTime": {
     "end_time": "2024-04-17T22:57:13.770940Z",
     "start_time": "2024-04-17T22:57:13.767216Z"
    }
   },
   "outputs": [
    {
     "data": {
      "text/plain": [
       "(26659, 38)"
      ]
     },
     "execution_count": 7,
     "metadata": {},
     "output_type": "execute_result"
    }
   ],
   "source": [
    "bj.shape"
   ]
  },
  {
   "cell_type": "code",
   "execution_count": 8,
   "id": "763431fd",
   "metadata": {
    "ExecuteTime": {
     "end_time": "2024-04-17T22:57:14.062616Z",
     "start_time": "2024-04-17T22:57:13.772706Z"
    }
   },
   "outputs": [
    {
     "data": {
      "text/html": [
       "<div>\n",
       "<style scoped>\n",
       "    .dataframe tbody tr th:only-of-type {\n",
       "        vertical-align: middle;\n",
       "    }\n",
       "\n",
       "    .dataframe tbody tr th {\n",
       "        vertical-align: top;\n",
       "    }\n",
       "\n",
       "    .dataframe thead th {\n",
       "        text-align: right;\n",
       "    }\n",
       "</style>\n",
       "<table border=\"1\" class=\"dataframe\">\n",
       "  <thead>\n",
       "    <tr style=\"text-align: right;\">\n",
       "      <th></th>\n",
       "      <th>name</th>\n",
       "      <th>enh.id</th>\n",
       "      <th>enh.name</th>\n",
       "    </tr>\n",
       "  </thead>\n",
       "  <tbody>\n",
       "    <tr>\n",
       "      <th>0</th>\n",
       "      <td>hob_k27ac_down_chr1:826978-827247</td>\n",
       "      <td>chr1:826978-827704</td>\n",
       "      <td>enh.0</td>\n",
       "    </tr>\n",
       "    <tr>\n",
       "      <th>1</th>\n",
       "      <td>hob_k27ac_down_chr1:827110-827379</td>\n",
       "      <td>chr1:826978-827704</td>\n",
       "      <td>enh.0</td>\n",
       "    </tr>\n",
       "    <tr>\n",
       "      <th>2</th>\n",
       "      <td>hob_k27ac_down_chr1:827377-827646</td>\n",
       "      <td>chr1:826978-827704</td>\n",
       "      <td>enh.0</td>\n",
       "    </tr>\n",
       "    <tr>\n",
       "      <th>3</th>\n",
       "      <td>hob_k27ac_down_chr1:827435-827704</td>\n",
       "      <td>chr1:826978-827704</td>\n",
       "      <td>enh.0</td>\n",
       "    </tr>\n",
       "    <tr>\n",
       "      <th>4</th>\n",
       "      <td>hob_k27ac_down_chr1:827891-828160</td>\n",
       "      <td>chr1:827891-828160</td>\n",
       "      <td>enh.1</td>\n",
       "    </tr>\n",
       "  </tbody>\n",
       "</table>\n",
       "</div>"
      ],
      "text/plain": [
       "                                name              enh.id enh.name\n",
       "0  hob_k27ac_down_chr1:826978-827247  chr1:826978-827704    enh.0\n",
       "1  hob_k27ac_down_chr1:827110-827379  chr1:826978-827704    enh.0\n",
       "2  hob_k27ac_down_chr1:827377-827646  chr1:826978-827704    enh.0\n",
       "3  hob_k27ac_down_chr1:827435-827704  chr1:826978-827704    enh.0\n",
       "4  hob_k27ac_down_chr1:827891-828160  chr1:827891-828160    enh.1"
      ]
     },
     "execution_count": 8,
     "metadata": {},
     "output_type": "execute_result"
    }
   ],
   "source": [
    "enh = pd.read_csv(BED, sep='\\t')\n",
    "enh.head()"
   ]
  },
  {
   "cell_type": "code",
   "execution_count": 9,
   "id": "5c03a6b7",
   "metadata": {
    "ExecuteTime": {
     "end_time": "2024-04-17T22:57:14.118407Z",
     "start_time": "2024-04-17T22:57:14.066167Z"
    }
   },
   "outputs": [],
   "source": [
    "bj = pd.merge(bj, enh, how=\"left\")"
   ]
  },
  {
   "cell_type": "markdown",
   "id": "785307f0",
   "metadata": {},
   "source": [
    "# add direction "
   ]
  },
  {
   "cell_type": "code",
   "execution_count": 10,
   "id": "2631e96d",
   "metadata": {
    "ExecuteTime": {
     "end_time": "2024-04-17T22:57:14.234763Z",
     "start_time": "2024-04-17T22:57:14.120273Z"
    }
   },
   "outputs": [],
   "source": [
    "def labelDirection(df):\n",
    "\n",
    "    \"\"\"label sequences with different directions of change between US and Control\n",
    "    note\n",
    "\n",
    "    neg.US_UP == US MPRA activity is negative, but less negative than CTRL MPRA activity, which is also negative\n",
    "    pos.US_UP  == US MPRA activity is positive and more positive than CTRL MPRA activity, which is also positive. \n",
    "    US_UP == US activity is positive and higher than CTRL MPRA activity, which is negative. \n",
    "    \"\"\"\n",
    "    df[\"direction\"] = None\n",
    "\n",
    "    # Pos values only\n",
    "    df.loc[(df[\"l2.ratio.mean.us\"] > 0) &\n",
    "           (df[\"l2.ratio.mean.ctrl\"] > 0) &\n",
    "           (df[\"delta.mean\"] > 0),\n",
    "           \"direction\"] = \"Pos.US_UP\"\n",
    "\n",
    "    df.loc[(df[\"l2.ratio.mean.us\"] > 0) &\n",
    "           (df[\"l2.ratio.mean.ctrl\"] > 0) &\n",
    "           (df[\"delta.mean\"] < 0),\n",
    "           \"direction\"] = \"Pos.CTRL_UP\"\n",
    "\n",
    "    # Negtaive values only\n",
    "    df.loc[(df[\"l2.ratio.mean.us\"] < 0) &\n",
    "           (df[\"l2.ratio.mean.ctrl\"] < 0) &\n",
    "           (df[\"delta.mean\"] > 0),\n",
    "           \"direction\"] = \"Neg.CTRL_DOWN\"\n",
    "\n",
    "    df.loc[(df[\"l2.ratio.mean.us\"] < 0) &\n",
    "           (df[\"l2.ratio.mean.ctrl\"] < 0) &\n",
    "           (df[\"delta.mean\"] < 0),\n",
    "           \"direction\"] = \"Neg.US_DOWN\"\n",
    "\n",
    "    # crossing zero values only\n",
    "    df.loc[(df[\"l2.ratio.mean.us\"] > 0) &\n",
    "           (df[\"l2.ratio.mean.ctrl\"] < 0) &\n",
    "           (df[\"delta.mean\"] > 0),\n",
    "           \"direction\"] = \"US_UP\"\n",
    "\n",
    "    df.loc[(df[\"l2.ratio.mean.us\"] < 0) &\n",
    "           (df[\"l2.ratio.mean.ctrl\"] > 0) &\n",
    "           (df[\"delta.mean\"] < 0),\n",
    "           \"direction\"] = \"CTRL_UP\"\n",
    "\n",
    "    print(df.loc[df[\"direction\"] != None, [\"l2.ratio.mean.ctrl\",\n",
    "          \"l2.ratio.mean.us\", 'delta.mean', \"direction\"]].sample(n=20))\n",
    "    return df\n"
   ]
  },
  {
   "cell_type": "code",
   "execution_count": 11,
   "id": "e58bfb94",
   "metadata": {
    "ExecuteTime": {
     "end_time": "2024-04-17T22:57:14.396380Z",
     "start_time": "2024-04-17T22:57:14.236655Z"
    }
   },
   "outputs": [
    {
     "name": "stdout",
     "output_type": "stream",
     "text": [
      "       l2.ratio.mean.ctrl  l2.ratio.mean.us  delta.mean      direction\n",
      "10863            0.234363          0.306728    0.072364      Pos.US_UP\n",
      "1061             0.184807          0.284308    0.099501      Pos.US_UP\n",
      "19748           -0.843745         -0.874760   -0.031015    Neg.US_DOWN\n",
      "18972            0.007036         -0.003327   -0.010363        CTRL_UP\n",
      "13732            0.352636          0.376663    0.024027      Pos.US_UP\n",
      "22758            0.353077          0.332844   -0.020233    Pos.CTRL_UP\n",
      "13457            0.067166          0.200141    0.132976      Pos.US_UP\n",
      "24522           -0.401542         -0.415592   -0.014050    Neg.US_DOWN\n",
      "26020            0.415838          0.412063   -0.003775    Pos.CTRL_UP\n",
      "19299           -0.281141         -0.263704    0.017436  Neg.CTRL_DOWN\n",
      "17194            0.352811          0.376170    0.023359      Pos.US_UP\n",
      "9865             0.182454          0.265320    0.082866      Pos.US_UP\n",
      "7312             0.421308          0.455944    0.034636      Pos.US_UP\n",
      "18214            0.412247          0.427879    0.015632      Pos.US_UP\n",
      "4729            -1.148194         -0.948966    0.199228  Neg.CTRL_DOWN\n",
      "14950           -0.779261         -0.844578   -0.065318    Neg.US_DOWN\n",
      "7344             0.607489          0.660246    0.052757      Pos.US_UP\n",
      "13126            0.497659          0.519135    0.021476      Pos.US_UP\n",
      "24234           -0.623947         -0.597888    0.026059  Neg.CTRL_DOWN\n",
      "7144            -0.652787         -0.760363   -0.107577    Neg.US_DOWN\n"
     ]
    }
   ],
   "source": [
    "bj = labelDirection(bj)"
   ]
  },
  {
   "cell_type": "code",
   "execution_count": 12,
   "id": "bc63a946",
   "metadata": {
    "ExecuteTime": {
     "end_time": "2024-04-17T22:57:14.496539Z",
     "start_time": "2024-04-17T22:57:14.398292Z"
    }
   },
   "outputs": [
    {
     "data": {
      "text/plain": [
       "{'Differential_ATAC',\n",
       " 'Differential_H3K27ac',\n",
       " 'NegCtl_Ilias_MPRA',\n",
       " 'NegCtl_Vikram_MPRA',\n",
       " 'Non-differential',\n",
       " 'Promoter_DEG',\n",
       " 'Shuffle'}"
      ]
     },
     "execution_count": 12,
     "metadata": {},
     "output_type": "execute_result"
    }
   ],
   "source": [
    "set(bj[\"label\"])"
   ]
  },
  {
   "cell_type": "code",
   "execution_count": null,
   "id": "4b2dc6fe",
   "metadata": {
    "ExecuteTime": {
     "start_time": "2024-04-17T22:56:41.802Z"
    }
   },
   "outputs": [],
   "source": [
    "# \n",
    "#fig,ax = plt.subplots(figsize=(6,6))\n",
    "hue_order = ['US_UP',\n",
    "             'CTRL_UP',\n",
    "             'Neg.US_DOWN',\n",
    "             'Neg.CTRL_DOWN',\n",
    "             'Pos.US_UP',\n",
    "             'Pos.CTRL_UP',\n",
    "             ]\n",
    "\n",
    "g = sns.jointplot(x=\"l2.ratio.mean.ctrl\", y=\"l2.ratio.mean.us\",\n",
    "                  data=bj, hue=\"direction\", hue_order=hue_order,\n",
    "                  palette='tab20'\n",
    "                 )\n",
    "g.ax_joint.legend(frameon=False, bbox_to_anchor=(2, 1))"
   ]
  },
  {
   "cell_type": "markdown",
   "id": "d1102fd7",
   "metadata": {},
   "source": [
    "# US up - BJ"
   ]
  },
  {
   "cell_type": "markdown",
   "id": "ac9063e5",
   "metadata": {},
   "source": [
    "## functions"
   ]
  },
  {
   "cell_type": "code",
   "execution_count": null,
   "id": "36706ca0",
   "metadata": {
    "ExecuteTime": {
     "start_time": "2024-04-17T22:56:41.804Z"
    }
   },
   "outputs": [],
   "source": [
    "def getDfDirectionSub(df, direction):\n",
    "    \"\"\"subset dataframe by directino of effect\"\"\"\n",
    "\n",
    "    cols = [\"name\", \"label\", \"l2.ratio.mean.ctrl\",\n",
    "        'l2.ratio.mean.us', \"delta.mean\", \"direction\"]\n",
    "\n",
    "    df = df.loc[df[\"direction\"] == direction, cols].sort_values(\n",
    "        by='l2.ratio.mean.us', ascending=False).copy()\n",
    "\n",
    "    return df\n",
    "\n",
    "\n",
    "def getQuantileDelta(df, top_quantile, base_df, shuf_bkgd=False):\n",
    "    \"\"\"subset dataframe by delta.mean top/bottom quantiles, return dataframes, list of names\"\"\"\n",
    "\n",
    "    # top quantile of delta.means\n",
    "    pos = df.loc[df[\"delta.mean\"] >=\n",
    "                     df[\"delta.mean\"].quantile(top_quantile)].copy()\n",
    "\n",
    "    # pos list of names\n",
    "    pos_names = list(pos[\"name\"])\n",
    "\n",
    "    # bottom quantile of delta.means.\n",
    "    neg = df.loc[df[\"delta.mean\"] <=\n",
    "                     df[\"delta.mean\"].quantile(1-top_quantile)].copy()\n",
    "    if shuf_bkgd is True:\n",
    "        shuf = base_df.loc[base_df['label'] ==\n",
    "            \"Shuffle\"].copy().drop_duplicates()\n",
    "        neg = pd.concat([neg, shuf])\n",
    "\n",
    "    # neg list of names\n",
    "    neg_names = list(neg[\"name\"])\n",
    "\n",
    "    return pos, pos_names, neg, neg_names\n",
    "\n",
    "\n",
    "def makeQuantileFasta(pos_names, neg_names, direction, re, top_quantile, exp_name, fa):\n",
    "    \"\"\"write fastas for each quantile based on list of sequence names\"\"\"\n",
    "\n",
    "    bottom_quantile = round(1-top_quantile, 1)\n",
    "\n",
    "    # files to write\n",
    "    FA_POS = os.path.join(re, f\"{exp_name}.{direction}.pos.{top_quantile}.fa\")\n",
    "    FA_NEG = os.path.join(\n",
    "        re, f\"{exp_name}.{direction}.neg.{bottom_quantile}.fa\")\n",
    "\n",
    "    # write positive, negative names and sequences\n",
    "    for names, fa_write in [(pos_names, FA_POS), (neg_names, FA_NEG)]:\n",
    "\n",
    "        # filter and write fasta function\n",
    "        filterWriteFasta(fa_write, fa, names)\n",
    "\n",
    "    return FA_POS, FA_NEG\n",
    "\n",
    "\n",
    "def filterWriteFasta(fa_write_file, source_fa, seq_id_list):\n",
    "    \"\"\"provide file to write, source fasta, and sequence list\"\"\"\n",
    "    fa_writer = open(fa_write_file, \"w\")  # open fa file to write\n",
    "\n",
    "    with open(source_fa, \"r\") as reader:  # open the full fa file\n",
    "        for value in sfp(reader):\n",
    "            seq_id, seq = value  # get sequence id, sequence\n",
    "            if seq_id in seq_id_list:  # filter for sequences in pos/neg name list\n",
    "                # write those sequences to fa\n",
    "                fa_writer.write(f'>{seq_id}\\n{seq}\\n')\n",
    "    fa_writer.close()\n",
    "\n",
    "def getEnhSet(df, name_set):\n",
    "    \"\"\"return list of enhancer names and linked tiles to prevent data leakage\"\"\"\n",
    "    enh_names = df.loc[df[\"name\"].isin(name_set), \"enh.name\"].unique()\n",
    "    linkedtiles = df.loc[df[\"enh.name\"].isin(enh_names), \"name\"].unique()\n",
    "    \n",
    "    return enh_names, linkedtiles\n",
    "\n",
    "def runFimo(fimo, meme_txt, fa, direction, quantile):\n",
    "\n",
    "    OUTDIR = f\"./fimo/{direction}.{quantile}\"\n",
    "    cmd = \" \".join([fimo,\n",
    "                    #\"--skip-matched-sequence\", \n",
    "                   \"--best-site\", \n",
    "                    \"--oc\",\n",
    "                    OUTDIR,\n",
    "                    meme_txt,\n",
    "                    fa,\n",
    "\n",
    "                    ])\n",
    "    print(cmd)\n",
    "    if os.path.exists(OUTDIR) is False:\n",
    "        if os.path.exists(\"./fimo\") is False:\n",
    "            os.mkdir(\"./fimo\")\n",
    "        os.mkdir(OUTDIR)\n",
    "        #os.system(cmd)\n",
    "\n",
    "    return OUTDIR"
   ]
  },
  {
   "cell_type": "markdown",
   "id": "29b35e15",
   "metadata": {},
   "source": [
    "## Experiment 1: FIMO Motif finding on top 10% of US-increasing sequences v. bottom 10% of US-increasing sequences + shuff + . \n",
    "    - Hyp - top 10% reflects true signal, bottom 10% is noise, the shuffles are noise, the repressed sequences are a different set of elements. Motifs enriched in the top 10% of US-sensitive elements not found in bottom 10% are likely important for US-dependent TF binding. \n",
    "    - Data Universe: BJ MPRA, all of the sequences where the contrl MPRA value is negative and US MPRA value is positive"
   ]
  },
  {
   "cell_type": "code",
   "execution_count": null,
   "id": "cca40dcf",
   "metadata": {
    "ExecuteTime": {
     "start_time": "2024-04-17T22:56:41.804Z"
    }
   },
   "outputs": [],
   "source": [
    "EXP_NAME =\"exp1\"\n",
    "DIRECTION = \"US_UP\"\n",
    "NEG_DIRECTION=\"CTRL_UP\"\n",
    "df = bj\n",
    "TOP_QUANTILE = 0.9\n",
    "BOTTOM_QUANTILE = round((1-TOP_QUANTILE),1)"
   ]
  },
  {
   "cell_type": "markdown",
   "id": "d5d40fdb",
   "metadata": {},
   "source": [
    "### US-increasing sequences only"
   ]
  },
  {
   "cell_type": "code",
   "execution_count": null,
   "id": "d595be8e",
   "metadata": {
    "ExecuteTime": {
     "start_time": "2024-04-17T22:56:41.805Z"
    },
    "scrolled": true
   },
   "outputs": [],
   "source": [
    "### subset df by direction. \n",
    "\n",
    "df_dir = getDfDirectionSub(df, DIRECTION)\n",
    "neg_df_dir = getDfDirectionSub(df, NEG_DIRECTION)\n",
    "\n",
    "### top and bottom 10% of direction changes. \n",
    "\n",
    "# top quantile of delta.means\n",
    "pos, pos_names, neg, neg_names = getQuantileDelta(df_dir, TOP_QUANTILE, df, True)\n",
    "print(len(neg_names))\n",
    "# top US_down elements to add to the background\n",
    "neg_pos, neg_pos_names, neg_neg, neg_neg_names = getQuantileDelta(neg_df_dir, TOP_QUANTILE, df, True)\n",
    "\n",
    "# add top_US_down names to the negative list. \n",
    "neg_names.extend(neg_neg_names)\n",
    "neg = pd.concat([neg, neg_neg])\n",
    "print(len(neg_names))\n",
    "# make fasta files from quantiles. \n",
    "FA_POS, FA_NEG = makeQuantileFasta(pos_names, neg_names, DIRECTION, RE_CL, TOP_QUANTILE, EXP_NAME, FASTA)\n",
    "\n",
    "# add to config\n",
    "config[section][f'{CL}.{DIRECTION}.{TOP_QUANTILE}.fa'] = FA_POS\n",
    "config[section][f'{CL}.{DIRECTION}.{BOTTOM_QUANTILE}.fa'] = FA_NEG\n",
    "\n",
    "exp1up, exp1down = pos_names, neg_names"
   ]
  },
  {
   "cell_type": "code",
   "execution_count": null,
   "id": "42190819",
   "metadata": {
    "ExecuteTime": {
     "start_time": "2024-04-17T22:56:41.807Z"
    }
   },
   "outputs": [],
   "source": [
    "neg = neg.loc[~neg[\"name\"].isna()]\n",
    "neg.loc[neg[\"name\"].str.contains(\"shuf\")]"
   ]
  },
  {
   "cell_type": "code",
   "execution_count": null,
   "id": "ed0e5511",
   "metadata": {
    "ExecuteTime": {
     "start_time": "2024-04-17T22:56:41.808Z"
    }
   },
   "outputs": [],
   "source": [
    "plot = pd.concat([pos, neg])\n",
    "# fig,ax = plt.subplots(figsize=(6,6))\n",
    "hue_order = ['US_UP',\n",
    "             'CTRL_UP',\n",
    "             'Neg.US_DOWN',\n",
    "             'Neg.CTRL_DOWN',\n",
    "             'Pos.US_UP',\n",
    "             'Pos.CTRL_UP',\n",
    "             ]\n",
    "\n",
    "g = sns.jointplot(x=\"l2.ratio.mean.ctrl\", y=\"l2.ratio.mean.us\",\n",
    "                  data=plot, hue=\"direction\", hue_order=hue_order,\n",
    "                  palette='tab20'\n",
    "                 )\n",
    "g.ax_joint.legend(frameon=False, bbox_to_anchor=(2, 1))"
   ]
  },
  {
   "cell_type": "markdown",
   "id": "1446d71b",
   "metadata": {},
   "source": [
    "### Fimo on full dataset"
   ]
  },
  {
   "cell_type": "markdown",
   "id": "57f52300",
   "metadata": {},
   "source": [
    "        bottom 0.1 US_UP bkgd discovered motifs\n",
    "        CAGRCTCTCS\n",
    "        CCTGKRTGWGW\n",
    "        GAGRAGVMAGCMK\n",
    "        \n",
    "        bottom0.1 US_UP and shuffle bkgd\n",
    "        AGGAGGMAGC\n",
    "        AGRSCCCAGC\n",
    "        CARRCTCTCCT"
   ]
  },
  {
   "cell_type": "code",
   "execution_count": null,
   "id": "1b41e3ea",
   "metadata": {
    "ExecuteTime": {
     "start_time": "2024-04-17T22:56:41.808Z"
    }
   },
   "outputs": [],
   "source": [
    "#OUTDIR_ALL =  runFimo(FIMO, JASPAR_MOTIFS, FASTA, \"ALL\", 'ALL')"
   ]
  },
  {
   "cell_type": "markdown",
   "id": "e5344457",
   "metadata": {},
   "source": [
    "### fimo on top 90% "
   ]
  },
  {
   "cell_type": "code",
   "execution_count": null,
   "id": "7ee87927",
   "metadata": {
    "ExecuteTime": {
     "start_time": "2024-04-17T22:56:41.809Z"
    }
   },
   "outputs": [],
   "source": [
    "if os.path.exists(\"./fimo\") is False:\n",
    "    os.mkdir(\"./fimo\")\n",
    "\n",
    "OUTDIR_TOP =  runFimo(FIMO, JASPAR_MOTIFS, FA_POS, DIRECTION, TOP_QUANTILE)"
   ]
  },
  {
   "cell_type": "markdown",
   "id": "aaff2dd9",
   "metadata": {},
   "source": [
    "### fimo on bottom 10% + shuf + top 90% CTRL_UP"
   ]
  },
  {
   "cell_type": "code",
   "execution_count": null,
   "id": "e5483b12",
   "metadata": {
    "ExecuteTime": {
     "start_time": "2024-04-17T22:56:41.810Z"
    }
   },
   "outputs": [],
   "source": [
    "OUTDIR_BOTTOM =  runFimo(FIMO, JASPAR_MOTIFS, FA_NEG, DIRECTION, BOTTOM_QUANTILE)"
   ]
  },
  {
   "cell_type": "code",
   "execution_count": null,
   "id": "4f4daa93",
   "metadata": {
    "ExecuteTime": {
     "start_time": "2024-04-17T22:56:41.810Z"
    }
   },
   "outputs": [],
   "source": [
    "bottom_pred = os.path.join(OUTDIR_BOTTOM, \"fimo.tsv\")\n",
    "top_pred = os.path.join(OUTDIR_TOP, \"fimo.tsv\")\n",
    "\n",
    "tdf = pd.read_csv(top_pred, sep='\\t')\n",
    "tdf[\"quantile\"] = 'top0.9'\n",
    "tdf[\"-log10q\"]  = -1*np.log10(tdf[\"q-value\"])\n",
    "print(tdf.shape)\n",
    "\n",
    "\n",
    "bdf = pd.read_csv(bottom_pred, sep='\\t')\n",
    "bdf[\"quantile\"] = 'shuf'\n",
    "bdf[\"-log10q\"]  = -1*np.log10(bdf[\"q-value\"])\n",
    "print(bdf.shape)"
   ]
  },
  {
   "cell_type": "code",
   "execution_count": null,
   "id": "2a022ac9",
   "metadata": {
    "ExecuteTime": {
     "start_time": "2024-04-17T22:56:41.811Z"
    }
   },
   "outputs": [],
   "source": [
    "# concatenate the top and bottom values\n",
    "plot = pd.concat([tdf, bdf])\n",
    "\n",
    "plot = plot.loc[~plot[\"motif_alt_id\"].isna()]"
   ]
  },
  {
   "cell_type": "markdown",
   "id": "884a1d13",
   "metadata": {},
   "source": [
    "### filter for significance"
   ]
  },
  {
   "cell_type": "code",
   "execution_count": null,
   "id": "24707f04",
   "metadata": {
    "ExecuteTime": {
     "start_time": "2024-04-17T22:56:41.811Z"
    }
   },
   "outputs": [],
   "source": [
    "QTHRESH =0.01\n",
    "sigt, sigb=tdf.loc[tdf[\"q-value\"]<=QTHRESH].copy(), bdf.loc[bdf[\"q-value\"]<=QTHRESH].copy()\n",
    "len(set(sigt[\"motif_alt_id\"])), len(set(sigb[\"motif_alt_id\"]))"
   ]
  },
  {
   "cell_type": "code",
   "execution_count": null,
   "id": "69837478",
   "metadata": {
    "ExecuteTime": {
     "start_time": "2024-04-17T22:56:41.812Z"
    }
   },
   "outputs": [],
   "source": [
    "sigt"
   ]
  },
  {
   "cell_type": "code",
   "execution_count": null,
   "id": "95dd6572",
   "metadata": {
    "ExecuteTime": {
     "start_time": "2024-04-17T22:56:41.813Z"
    }
   },
   "outputs": [],
   "source": [
    "sigb[[\"sequence_name\", 'motif_alt_id']].drop_duplicates().sort_values(by=\"sequence_name\")#.iloc[0][0]"
   ]
  },
  {
   "cell_type": "markdown",
   "id": "29a224fa",
   "metadata": {},
   "source": [
    "### motifs found in top 90% of US_UP"
   ]
  },
  {
   "cell_type": "code",
   "execution_count": null,
   "id": "0b5d4f6b",
   "metadata": {
    "ExecuteTime": {
     "start_time": "2024-04-17T22:56:41.813Z"
    }
   },
   "outputs": [],
   "source": [
    "sigt.groupby([\"motif_alt_id\"])[\"motif_id\"].count().reset_index().sort_values(by=\"motif_id\", ascending=False)"
   ]
  },
  {
   "cell_type": "markdown",
   "id": "3e3712fc",
   "metadata": {},
   "source": [
    "### motifs found in the top 10% of US_UP"
   ]
  },
  {
   "cell_type": "code",
   "execution_count": null,
   "id": "3740f7ba",
   "metadata": {
    "ExecuteTime": {
     "start_time": "2024-04-17T22:56:41.814Z"
    }
   },
   "outputs": [],
   "source": [
    "sigb.groupby([\"motif_alt_id\"])[\"motif_id\"].count().reset_index().sort_values(by=\"motif_id\", ascending=False)"
   ]
  },
  {
   "cell_type": "markdown",
   "id": "d2c01432",
   "metadata": {},
   "source": [
    "## Shared motifs in top 90%and top 10% US_UP"
   ]
  },
  {
   "cell_type": "code",
   "execution_count": null,
   "id": "716efa3e",
   "metadata": {
    "ExecuteTime": {
     "start_time": "2024-04-17T22:56:41.815Z"
    }
   },
   "outputs": [],
   "source": [
    "# overlap between positive and negative sets\n",
    "print(len(set(sigt[\"motif_alt_id\"]).intersection(set(sigb[\"motif_alt_id\"]))))\n",
    "set(sigt[\"motif_alt_id\"]).intersection(set(sigb[\"motif_alt_id\"]))"
   ]
  },
  {
   "cell_type": "markdown",
   "id": "261042ee",
   "metadata": {},
   "source": [
    "## Unique motifs in top 90% US up"
   ]
  },
  {
   "cell_type": "code",
   "execution_count": null,
   "id": "b59b577e",
   "metadata": {
    "ExecuteTime": {
     "start_time": "2024-04-17T22:56:41.815Z"
    }
   },
   "outputs": [],
   "source": [
    "# motifs in positive, not in negative. \n",
    "us_up_motifs = set(sigt[\"motif_alt_id\"]).difference(set(sigb[\"motif_alt_id\"]))\n",
    "print(len(us_up_motifs))\n",
    "us_up_motifs"
   ]
  },
  {
   "cell_type": "code",
   "execution_count": null,
   "id": "66f38a52",
   "metadata": {
    "ExecuteTime": {
     "start_time": "2024-04-17T22:56:41.816Z"
    }
   },
   "outputs": [],
   "source": [
    "sigt.loc[sigt[\"motif_alt_id\"].isin(us_up_motifs), ['sequence_name', \"motif_alt_id\"]].drop_duplicates().groupby(\"motif_alt_id\")[\"sequence_name\"].count().reset_index().sort_values(by=\"sequence_name\", ascending=False)"
   ]
  },
  {
   "cell_type": "markdown",
   "id": "fa564fa3",
   "metadata": {},
   "source": [
    "## positive, us-sensitive TF motifs \n",
    "- from Yang 2023 - https://www.nature.com/articles/s42255-023-00804-z#Fig5"
   ]
  },
  {
   "cell_type": "code",
   "execution_count": null,
   "id": "f98bc08a",
   "metadata": {
    "ExecuteTime": {
     "start_time": "2024-04-17T22:56:41.817Z"
    }
   },
   "outputs": [],
   "source": [
    "POSITIVE_CONTROL=[\"FOS\", 'DUSP1', \"NR4A1\", \"EGR1\", \n",
    "                  \"Plagl1\" # not positive control, but found in BJ_U9\n",
    "                 ]\n",
    "motif_counts = sigt.groupby([\"motif_alt_id\"])[\"motif_id\"].count().reset_index().sort_values(by=\"motif_id\", ascending=False)\n",
    "motif_counts.loc[motif_counts[\"motif_alt_id\"].isin(POSITIVE_CONTROL)]"
   ]
  },
  {
   "cell_type": "code",
   "execution_count": null,
   "id": "1e8f9afb",
   "metadata": {
    "ExecuteTime": {
     "start_time": "2024-04-17T22:56:41.817Z"
    }
   },
   "outputs": [],
   "source": [
    "sigt.loc[sigt['motif_alt_id']==\"Plagl1\"]"
   ]
  },
  {
   "cell_type": "code",
   "execution_count": null,
   "id": "969ce22c",
   "metadata": {
    "ExecuteTime": {
     "start_time": "2024-04-17T22:56:41.818Z"
    }
   },
   "outputs": [],
   "source": [
    "sigb.loc[sigb['motif_alt_id']==\"Plagl1\"]"
   ]
  },
  {
   "cell_type": "markdown",
   "id": "f8759260",
   "metadata": {},
   "source": [
    "## Unique motifs in bottom 10%"
   ]
  },
  {
   "cell_type": "code",
   "execution_count": null,
   "id": "3c892f4c",
   "metadata": {
    "ExecuteTime": {
     "start_time": "2024-04-17T22:56:41.818Z"
    }
   },
   "outputs": [],
   "source": [
    "# motifs in negative set not in positive set\n",
    "len(set(sigb[\"motif_alt_id\"]).difference(set(sigb[\"motif_alt_id\"])))"
   ]
  },
  {
   "cell_type": "markdown",
   "id": "1f58d99d",
   "metadata": {},
   "source": [
    "# Luciferase data "
   ]
  },
  {
   "cell_type": "markdown",
   "id": "40f5b04b",
   "metadata": {},
   "source": [
    "## load experiment data "
   ]
  },
  {
   "cell_type": "code",
   "execution_count": null,
   "id": "1f80f72d",
   "metadata": {
    "ExecuteTime": {
     "start_time": "2024-04-17T22:56:41.818Z"
    }
   },
   "outputs": [],
   "source": [
    "LUC=\"/wynton/group/ahituv/fongsl/projects/US/data/validation_luc/Candidate_ID_table_luc.txt\"\n",
    "\n",
    "luc = pd.read_csv(LUC, sep='\\t')\n",
    "\n",
    "luc_names = list(luc[\"insert\"])  # list of tiles tested in luciferase\n",
    "\n",
    "\n",
    "# successful results where luciferase direction matches \n",
    "success = [\"BJ_D2\", \"BJ_D3\", \"BJ_D4\", \"BJ_D7\", \"BJ_D8\", 'BJ_D9', \"BJ_U9\"]\n",
    "\n",
    "# annotate dataframe with sucesses\n",
    "luc[\"success\"] = False\n",
    "luc.loc[luc[\"Sample name\"].isin(success), \"success\"] = True\n",
    "#luc.loc[~luc[\"Sample name\"].str.contains(CL), \"success\"] = \"other-cl\"\n",
    "\n",
    "luc.rename(columns = {\"insert\":\"sequence_name\", \n",
    "                     \"Sample name\": 'label_id'}, inplace=True)\n",
    "luc"
   ]
  },
  {
   "cell_type": "markdown",
   "id": "5a3b6e46",
   "metadata": {},
   "source": [
    "## make fasta"
   ]
  },
  {
   "cell_type": "code",
   "execution_count": null,
   "id": "65a0c456",
   "metadata": {
    "ExecuteTime": {
     "start_time": "2024-04-17T22:56:41.819Z"
    }
   },
   "outputs": [],
   "source": [
    "LUC_FA = LUC.strip(\".txt\") + '.fa'\n",
    "filterWriteFasta(LUC_FA, FASTA, luc_names)"
   ]
  },
  {
   "cell_type": "markdown",
   "id": "c37ab7a8",
   "metadata": {},
   "source": [
    "## fimo"
   ]
  },
  {
   "cell_type": "code",
   "execution_count": null,
   "id": "b663589c",
   "metadata": {
    "ExecuteTime": {
     "start_time": "2024-04-17T22:56:41.820Z"
    }
   },
   "outputs": [],
   "source": [
    "OUTDIR_LUC =  runFimo(FIMO, JASPAR_MOTIFS, LUC_FA, \"Luc\", \"all\")"
   ]
  },
  {
   "cell_type": "code",
   "execution_count": null,
   "id": "537adddb",
   "metadata": {
    "ExecuteTime": {
     "start_time": "2024-04-17T22:56:41.820Z"
    }
   },
   "outputs": [],
   "source": [
    "pred = os.path.join(OUTDIR_LUC, \"fimo.tsv\")\n",
    "\n",
    "tdf = pd.read_csv(pred, sep='\\t')\n",
    "tdf[\"quantile\"] = 'LUC.matches'\n",
    "tdf[\"-log10q\"]  = -1*np.log10(tdf[\"q-value\"])\n",
    "print(tdf.shape)\n",
    "tdf = tdf.loc[~tdf[\"motif_alt_id\"].isna()]\n",
    "tdf"
   ]
  },
  {
   "cell_type": "code",
   "execution_count": null,
   "id": "9c266f44",
   "metadata": {
    "ExecuteTime": {
     "start_time": "2024-04-17T22:56:41.821Z"
    }
   },
   "outputs": [],
   "source": [
    "# filter by q-vales\n",
    "luc_fimo = pd.merge(luc[[\"label_id\", \"sequence_name\", \"success\"]],\n",
    "                    tdf.loc[tdf[\"q-value\"]<=QTHRESH], how=\"right\").sort_values(by='success', ascending=False)\n",
    "luc_fimo['label_id_success'] = luc_fimo[\"label_id\"] + \".success.\" + luc_fimo['success'].map(str)\n",
    "\n",
    "luc_fimo.loc[luc_fimo['success']==True].sort_values(by='label_id')"
   ]
  },
  {
   "cell_type": "markdown",
   "id": "2f9ca341",
   "metadata": {},
   "source": [
    "# investigate luc elements with motifs q<=0.01"
   ]
  },
  {
   "cell_type": "code",
   "execution_count": null,
   "id": "90c2c1b9",
   "metadata": {
    "ExecuteTime": {
     "start_time": "2024-04-17T22:56:41.822Z"
    },
    "scrolled": false
   },
   "outputs": [],
   "source": [
    "for ID in luc_fimo.sort_values(by=\"success\", ascending=False)[\"label_id_success\"].unique():\n",
    "    print(ID)\n",
    "    if \"BJ\" in ID:\n",
    "        u9 = luc_fimo.loc[#(luc_fimo['success']==True)&\n",
    "                         (luc_fimo[\"label_id_success\"]==ID)].copy().sort_values(by=\"q-value\").reset_index(drop=True)\n",
    "\n",
    "\n",
    "        #PLOT_TOP=15  # plot the top X motifs (based on q-value, which is biased by motif len)\n",
    "        v=0\n",
    "        for n, row in u9.iterrows():\n",
    "            X= [row[\"start\"], row[\"stop\"]]\n",
    "\n",
    "            if row[\"strand\"] == \"-\":  # put negative strand ranks underneath the position\n",
    "                n = -n\n",
    "\n",
    "            y=[n,n]\n",
    "\n",
    "            v+=1\n",
    "\n",
    "            #if n<PLOT_TOP:\n",
    "            plt.plot(X, y, lw=10)\n",
    "            plt.text(row[\"start\"],n+0.01, row[\"motif_alt_id\"])\n",
    "        plt.axhline(0, ls= \"--\", color = \"grey\")\n",
    "            \n",
    "        plt.ylabel(\"rank\")    \n",
    "        plt.xlabel(\"pos\")\n",
    "        plt.title(row[\"label_id_success\"])\n",
    "        plt.xlim(0,270)\n",
    "        plt.show()\n",
    "\n"
   ]
  },
  {
   "cell_type": "code",
   "execution_count": null,
   "id": "05e9f8f0",
   "metadata": {
    "ExecuteTime": {
     "start_time": "2024-04-17T22:56:41.822Z"
    }
   },
   "outputs": [],
   "source": [
    "data=luc_fimo.loc[luc_fimo[\"success\"]==True].sort_values(by='success', ascending=False)\n",
    "table = data.groupby([\"motif_alt_id\", \"label_id\", \"success\"])['-log10q'].max().reset_index(\n",
    ").pivot(index=\"motif_alt_id\", columns=[ \"label_id\",], values=\"-log10q\")#.fillna(0)"
   ]
  },
  {
   "cell_type": "code",
   "execution_count": null,
   "id": "bcd84090",
   "metadata": {
    "ExecuteTime": {
     "start_time": "2024-04-17T22:56:41.823Z"
    }
   },
   "outputs": [],
   "source": [
    "fig, ax =plt.subplots(figsize=(6,6))\n",
    "sns.heatmap(table, mask=table<np.log10(0.05)*-1,\n",
    "            square=True, \n",
    "            cmap=\"bwr\", \n",
    "            #annot=True, \n",
    "            #center = np.log10(0.05)*-1,\n",
    "            cbar_kws={\"label\":\"-log10q\"},\n",
    "\n",
    "           )"
   ]
  },
  {
   "cell_type": "code",
   "execution_count": null,
   "id": "a6529bb1",
   "metadata": {},
   "outputs": [],
   "source": []
  }
 ],
 "metadata": {
  "kernelspec": {
   "display_name": "Python 3 (ipykernel)",
   "language": "python",
   "name": "python3"
  },
  "language_info": {
   "codemirror_mode": {
    "name": "ipython",
    "version": 3
   },
   "file_extension": ".py",
   "mimetype": "text/x-python",
   "name": "python",
   "nbconvert_exporter": "python",
   "pygments_lexer": "ipython3",
   "version": "3.9.16"
  },
  "toc": {
   "base_numbering": 1,
   "nav_menu": {},
   "number_sections": true,
   "sideBar": true,
   "skip_h1_title": false,
   "title_cell": "Table of Contents",
   "title_sidebar": "Contents",
   "toc_cell": false,
   "toc_position": {
    "height": "calc(100% - 180px)",
    "left": "10px",
    "top": "150px",
    "width": "512px"
   },
   "toc_section_display": true,
   "toc_window_display": true
  },
  "varInspector": {
   "cols": {
    "lenName": 16,
    "lenType": 16,
    "lenVar": 40
   },
   "kernels_config": {
    "python": {
     "delete_cmd_postfix": "",
     "delete_cmd_prefix": "del ",
     "library": "var_list.py",
     "varRefreshCmd": "print(var_dic_list())"
    },
    "r": {
     "delete_cmd_postfix": ") ",
     "delete_cmd_prefix": "rm(",
     "library": "var_list.r",
     "varRefreshCmd": "cat(var_dic_list()) "
    }
   },
   "types_to_exclude": [
    "module",
    "function",
    "builtin_function_or_method",
    "instance",
    "_Feature"
   ],
   "window_display": false
  }
 },
 "nbformat": 4,
 "nbformat_minor": 5
}
