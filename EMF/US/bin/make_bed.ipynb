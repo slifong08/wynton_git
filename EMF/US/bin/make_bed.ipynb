{
 "cells": [
  {
   "cell_type": "code",
   "execution_count": 1,
   "id": "439abc7d",
   "metadata": {
    "ExecuteTime": {
     "end_time": "2023-09-05T17:06:02.231155Z",
     "start_time": "2023-09-05T17:05:59.196576Z"
    }
   },
   "outputs": [],
   "source": [
    "from Bio.SeqIO.FastaIO import SimpleFastaParser\n",
    "import os, sys\n",
    "import config_readwrite as crw\n",
    "import pandas as pd\n",
    "import pybedtools as pbt"
   ]
  },
  {
   "cell_type": "code",
   "execution_count": 3,
   "id": "d8dc319c",
   "metadata": {
    "ExecuteTime": {
     "end_time": "2023-09-05T17:06:08.474176Z",
     "start_time": "2023-09-05T17:06:08.465120Z"
    }
   },
   "outputs": [],
   "source": [
    "config, cfn = crw.read(os.path.join(os.path.dirname(os.getcwd()), \"config.ini\"))\n",
    "\n",
    "FASTA = config['data'][\"fasta\"]\n",
    "BED = os.path.split(FASTA)[0] + \"/tiles.bed\"\n",
    "\n",
    "ATAC = \"/wynton/home/ahituv/fongsl/EMF/US/data/atac_diff.bed\"\n",
    "K27AC = \"/wynton/home/ahituv/fongsl/EMF/US/data/k27ac_diff.bed\"\n",
    "BOTH = \"/wynton/home/ahituv/fongsl/EMF/US/data/atac_k27ac_diff.bed\"\n",
    "ALL = \"/wynton/home/ahituv/fongsl/EMF/US/data/tiles.x.atac_k27ac_diff.bed\"\n",
    "\n",
    "config['data'][\"bed.atac\"] = ATAC\n",
    "config['data'][\"bed.k27ac\"] = K27AC\n",
    "config['data'][\"bed.atac.k27ac\"] = BOTH\n",
    "config['data'][\"bed.atac.k27ac.tiles\"] = ALL\n",
    "\n",
    "config['data'][\"bed\"] = BED\n",
    "crw.write(config, cfn)    "
   ]
  },
  {
   "cell_type": "code",
   "execution_count": 4,
   "id": "0cd51648",
   "metadata": {
    "ExecuteTime": {
     "end_time": "2023-09-05T17:06:09.028198Z",
     "start_time": "2023-09-05T17:06:09.024971Z"
    }
   },
   "outputs": [],
   "source": [
    "def cleanUp(variable):\n",
    "    \n",
    "    if \"_hg19\" in variable:\n",
    "        variable = variable.split(\"_hg19\")[0]\n",
    "    \n",
    "    return variable"
   ]
  },
  {
   "cell_type": "markdown",
   "id": "de6e361f",
   "metadata": {},
   "source": [
    "# FASTA -> bed"
   ]
  },
  {
   "cell_type": "code",
   "execution_count": 19,
   "id": "6f5b8848",
   "metadata": {
    "ExecuteTime": {
     "end_time": "2023-09-05T17:09:05.254842Z",
     "start_time": "2023-09-05T17:09:04.817553Z"
    }
   },
   "outputs": [],
   "source": [
    "bedwriter = open(BED, \"w\")\n",
    "mystery = {}\n",
    "with open(FASTA, 'r') as in_handle:\n",
    "    for v in SimpleFastaParser(in_handle):\n",
    "\n",
    "        name, seq = v\n",
    "    \n",
    "        if \"chr\" not in name:\n",
    "            \n",
    "            mystery[name]=seq\n",
    "        elif \"_motif_\" in name:\n",
    "            print(name)\n",
    "            mystery[name]=seq\n",
    "        elif len(name.split(\"chr\"))>1:\n",
    "            coor = \"chr\" + name.split(\"chr\")[1]\n",
    "            chr_ = coor.split(':')[0]\n",
    "            start = (coor.split(\":\")[1]).split(\"-\")[0]\n",
    "            end= (coor.split(\":\")[1]).split(\"-\")[1]\n",
    "\n",
    "            chr_ = cleanUp(chr_)\n",
    "            start = cleanUp(start)\n",
    "            end = cleanUp(end)\n",
    "\n",
    "            bedwriter.write(f\"{chr_}\\t{start}\\t{end}\\t{name}\\n\")\n",
    "    bedwriter.close()\n",
    "in_handle.close()"
   ]
  },
  {
   "cell_type": "markdown",
   "id": "37065792",
   "metadata": {},
   "source": [
    "# sort synthetic, positive, negative "
   ]
  },
  {
   "cell_type": "code",
   "execution_count": 26,
   "id": "cb5df753",
   "metadata": {
    "ExecuteTime": {
     "end_time": "2023-09-05T17:12:24.255333Z",
     "start_time": "2023-09-05T17:12:24.204190Z"
    }
   },
   "outputs": [],
   "source": [
    "synthetic = {}\n",
    "pos = {}\n",
    "neg = {}\n",
    "for k, v in mystery.items():\n",
    "    if 'SYNTHETIC' in k:\n",
    "        synthetic[k]=v.upper()\n",
    "    elif \"Pos\" in k:\n",
    "        pos[k]=v.upper()\n",
    "    elif \"Neg\" in k:\n",
    "        neg[k] =v.upper()\n",
    "    else:\n",
    "        print(k,v)\n"
   ]
  },
  {
   "cell_type": "markdown",
   "id": "dfe7b893",
   "metadata": {
    "ExecuteTime": {
     "end_time": "2023-09-01T22:03:43.235319Z",
     "start_time": "2023-09-01T22:03:41.619521Z"
    }
   },
   "source": [
    "## merge ATAC + H3K27ac\n",
    "\n",
    "- 43047 enhancers with ATAC, H3K27ac annotations"
   ]
  },
  {
   "cell_type": "code",
   "execution_count": null,
   "id": "b75baf48",
   "metadata": {
    "ExecuteTime": {
     "end_time": "2023-09-05T16:57:15.844796Z",
     "start_time": "2023-09-05T16:57:15.840237Z"
    }
   },
   "outputs": [],
   "source": [
    "cmd = ['cat', ATAC, K27AC, \">\", BOTH]\n",
    "if os.path.exists(BOTH) is False:\n",
    "    os.system(\" \".join(cmd))"
   ]
  },
  {
   "cell_type": "markdown",
   "id": "f5543cb9",
   "metadata": {},
   "source": [
    "## intersect tiles x enhancers\n",
    "- N= 43989 tiles + enhancers "
   ]
  },
  {
   "cell_type": "code",
   "execution_count": null,
   "id": "2b5d2b1c",
   "metadata": {
    "ExecuteTime": {
     "end_time": "2023-09-05T16:57:17.708569Z",
     "start_time": "2023-09-05T16:57:17.703335Z"
    }
   },
   "outputs": [],
   "source": [
    "if os.path.exists(ALL) is False:\n",
    "    tiles, enh = pbt.BedTool(BED), pbt.BedTool(BOTH)\n",
    "    \n",
    "    tiles.intersect(enh, wa =True, wb=True, output = ALL)\n",
    "    # n = 43989 tiles + 10639 enhancers "
   ]
  },
  {
   "cell_type": "markdown",
   "id": "f391a826",
   "metadata": {},
   "source": [
    "# add enhancer id to endogenous sequences"
   ]
  },
  {
   "cell_type": "code",
   "execution_count": 52,
   "id": "59fca355",
   "metadata": {
    "ExecuteTime": {
     "end_time": "2023-09-05T17:28:33.328414Z",
     "start_time": "2023-09-05T17:28:33.196324Z"
    }
   },
   "outputs": [
    {
     "data": {
      "text/html": [
       "<div>\n",
       "<style scoped>\n",
       "    .dataframe tbody tr th:only-of-type {\n",
       "        vertical-align: middle;\n",
       "    }\n",
       "\n",
       "    .dataframe tbody tr th {\n",
       "        vertical-align: top;\n",
       "    }\n",
       "\n",
       "    .dataframe thead th {\n",
       "        text-align: right;\n",
       "    }\n",
       "</style>\n",
       "<table border=\"1\" class=\"dataframe\">\n",
       "  <thead>\n",
       "    <tr style=\"text-align: right;\">\n",
       "      <th></th>\n",
       "      <th>#chr</th>\n",
       "      <th>start</th>\n",
       "      <th>end</th>\n",
       "      <th>name</th>\n",
       "      <th>#chr_</th>\n",
       "      <th>start_</th>\n",
       "      <th>end_</th>\n",
       "      <th>id</th>\n",
       "      <th>enh_id</th>\n",
       "    </tr>\n",
       "  </thead>\n",
       "  <tbody>\n",
       "    <tr>\n",
       "      <th>0</th>\n",
       "      <td>chr3</td>\n",
       "      <td>29837526</td>\n",
       "      <td>29837795</td>\n",
       "      <td>bj_k27ac_down_chr3:29837526-29837795</td>\n",
       "      <td>chr3</td>\n",
       "      <td>29837260</td>\n",
       "      <td>29838061</td>\n",
       "      <td>bj_k27ac_down</td>\n",
       "      <td>chr3:29837260-29838061|bj_k27ac_down</td>\n",
       "    </tr>\n",
       "    <tr>\n",
       "      <th>1</th>\n",
       "      <td>chr3</td>\n",
       "      <td>29837260</td>\n",
       "      <td>29837529</td>\n",
       "      <td>bj_k27ac_down_chr3:29837260-29837529</td>\n",
       "      <td>chr3</td>\n",
       "      <td>29837260</td>\n",
       "      <td>29838061</td>\n",
       "      <td>bj_k27ac_down</td>\n",
       "      <td>chr3:29837260-29838061|bj_k27ac_down</td>\n",
       "    </tr>\n",
       "    <tr>\n",
       "      <th>2</th>\n",
       "      <td>chr3</td>\n",
       "      <td>29837792</td>\n",
       "      <td>29838061</td>\n",
       "      <td>bj_k27ac_down_chr3:29837792-29838061</td>\n",
       "      <td>chr3</td>\n",
       "      <td>29837260</td>\n",
       "      <td>29838061</td>\n",
       "      <td>bj_k27ac_down</td>\n",
       "      <td>chr3:29837260-29838061|bj_k27ac_down</td>\n",
       "    </tr>\n",
       "    <tr>\n",
       "      <th>3</th>\n",
       "      <td>chr3</td>\n",
       "      <td>29837392</td>\n",
       "      <td>29837661</td>\n",
       "      <td>bj_k27ac_down_chr3:29837392-29837661</td>\n",
       "      <td>chr3</td>\n",
       "      <td>29837260</td>\n",
       "      <td>29838061</td>\n",
       "      <td>bj_k27ac_down</td>\n",
       "      <td>chr3:29837260-29838061|bj_k27ac_down</td>\n",
       "    </tr>\n",
       "    <tr>\n",
       "      <th>4</th>\n",
       "      <td>chr3</td>\n",
       "      <td>29837659</td>\n",
       "      <td>29837928</td>\n",
       "      <td>bj_k27ac_down_chr3:29837659-29837928</td>\n",
       "      <td>chr3</td>\n",
       "      <td>29837260</td>\n",
       "      <td>29838061</td>\n",
       "      <td>bj_k27ac_down</td>\n",
       "      <td>chr3:29837260-29838061|bj_k27ac_down</td>\n",
       "    </tr>\n",
       "  </tbody>\n",
       "</table>\n",
       "</div>"
      ],
      "text/plain": [
       "   #chr     start       end                                  name #chr_  \\\n",
       "0  chr3  29837526  29837795  bj_k27ac_down_chr3:29837526-29837795  chr3   \n",
       "1  chr3  29837260  29837529  bj_k27ac_down_chr3:29837260-29837529  chr3   \n",
       "2  chr3  29837792  29838061  bj_k27ac_down_chr3:29837792-29838061  chr3   \n",
       "3  chr3  29837392  29837661  bj_k27ac_down_chr3:29837392-29837661  chr3   \n",
       "4  chr3  29837659  29837928  bj_k27ac_down_chr3:29837659-29837928  chr3   \n",
       "\n",
       "     start_      end_             id                                enh_id  \n",
       "0  29837260  29838061  bj_k27ac_down  chr3:29837260-29838061|bj_k27ac_down  \n",
       "1  29837260  29838061  bj_k27ac_down  chr3:29837260-29838061|bj_k27ac_down  \n",
       "2  29837260  29838061  bj_k27ac_down  chr3:29837260-29838061|bj_k27ac_down  \n",
       "3  29837260  29838061  bj_k27ac_down  chr3:29837260-29838061|bj_k27ac_down  \n",
       "4  29837260  29838061  bj_k27ac_down  chr3:29837260-29838061|bj_k27ac_down  "
      ]
     },
     "execution_count": 52,
     "metadata": {},
     "output_type": "execute_result"
    }
   ],
   "source": [
    "if \"enh_id\" not in list(pd.read_csv(ALL, sep='\\t', nrows=1)):\n",
    "    df = pd.read_csv(ALL, sep='\\t', \n",
    "\n",
    "                 header=None, \n",
    "                 names=[\"#chr\", \"start\", \"end\", \"name\", \"#chr_\", \"start_\", \"end_\", \"id\"],\n",
    "                ).drop_duplicates()\n",
    "    print(df.shape)\n",
    "    \n",
    "    # annotate shuffles\n",
    "    df[\"shuf\"] = False\n",
    "    df.loc[df[\"name\"].str.contains(\"shuffle\"), \"shuf\"] = True\n",
    "\n",
    "    ## add enhancer id\n",
    "\n",
    "    enh = df[[\"#chr_\", \"start_\", \"end_\", \"id\"]].drop_duplicates().copy()\n",
    "\n",
    "    # add enhancer id\n",
    "    enh[\"enh_id\"] = enh[\"#chr_\"] + ':' + enh[\"start_\"].map(str) + \"-\" + enh[\"end_\"].map(str) + \"|\" + enh[\"id\"]\n",
    "    enh.head()\n",
    "\n",
    "    df = pd.merge(df, enh, how=\"left\")\n",
    "\n",
    "    df.to_csv(ALL, sep='\\t', index = False)\n",
    "else:\n",
    "    df =pd.read_csv(ALL, sep='\\t')\n",
    "df.head()"
   ]
  },
  {
   "cell_type": "code",
   "execution_count": 54,
   "id": "d319789a",
   "metadata": {
    "ExecuteTime": {
     "end_time": "2023-09-05T17:28:54.366523Z",
     "start_time": "2023-09-05T17:28:54.352004Z"
    }
   },
   "outputs": [
    {
     "data": {
      "text/html": [
       "<div>\n",
       "<style scoped>\n",
       "    .dataframe tbody tr th:only-of-type {\n",
       "        vertical-align: middle;\n",
       "    }\n",
       "\n",
       "    .dataframe tbody tr th {\n",
       "        vertical-align: top;\n",
       "    }\n",
       "\n",
       "    .dataframe thead th {\n",
       "        text-align: right;\n",
       "    }\n",
       "</style>\n",
       "<table border=\"1\" class=\"dataframe\">\n",
       "  <thead>\n",
       "    <tr style=\"text-align: right;\">\n",
       "      <th></th>\n",
       "      <th>#chr</th>\n",
       "      <th>start</th>\n",
       "      <th>end</th>\n",
       "      <th>name</th>\n",
       "      <th>#chr_</th>\n",
       "      <th>start_</th>\n",
       "      <th>end_</th>\n",
       "      <th>id</th>\n",
       "      <th>enh_id</th>\n",
       "      <th>shuf</th>\n",
       "    </tr>\n",
       "  </thead>\n",
       "  <tbody>\n",
       "    <tr>\n",
       "      <th>0</th>\n",
       "      <td>chr3</td>\n",
       "      <td>29837526</td>\n",
       "      <td>29837795</td>\n",
       "      <td>bj_k27ac_down_chr3:29837526-29837795</td>\n",
       "      <td>chr3</td>\n",
       "      <td>29837260</td>\n",
       "      <td>29838061</td>\n",
       "      <td>bj_k27ac_down</td>\n",
       "      <td>chr3:29837260-29838061|bj_k27ac_down</td>\n",
       "      <td>False</td>\n",
       "    </tr>\n",
       "    <tr>\n",
       "      <th>1</th>\n",
       "      <td>chr3</td>\n",
       "      <td>29837260</td>\n",
       "      <td>29837529</td>\n",
       "      <td>bj_k27ac_down_chr3:29837260-29837529</td>\n",
       "      <td>chr3</td>\n",
       "      <td>29837260</td>\n",
       "      <td>29838061</td>\n",
       "      <td>bj_k27ac_down</td>\n",
       "      <td>chr3:29837260-29838061|bj_k27ac_down</td>\n",
       "      <td>False</td>\n",
       "    </tr>\n",
       "    <tr>\n",
       "      <th>2</th>\n",
       "      <td>chr3</td>\n",
       "      <td>29837792</td>\n",
       "      <td>29838061</td>\n",
       "      <td>bj_k27ac_down_chr3:29837792-29838061</td>\n",
       "      <td>chr3</td>\n",
       "      <td>29837260</td>\n",
       "      <td>29838061</td>\n",
       "      <td>bj_k27ac_down</td>\n",
       "      <td>chr3:29837260-29838061|bj_k27ac_down</td>\n",
       "      <td>False</td>\n",
       "    </tr>\n",
       "    <tr>\n",
       "      <th>3</th>\n",
       "      <td>chr3</td>\n",
       "      <td>29837392</td>\n",
       "      <td>29837661</td>\n",
       "      <td>bj_k27ac_down_chr3:29837392-29837661</td>\n",
       "      <td>chr3</td>\n",
       "      <td>29837260</td>\n",
       "      <td>29838061</td>\n",
       "      <td>bj_k27ac_down</td>\n",
       "      <td>chr3:29837260-29838061|bj_k27ac_down</td>\n",
       "      <td>False</td>\n",
       "    </tr>\n",
       "    <tr>\n",
       "      <th>4</th>\n",
       "      <td>chr3</td>\n",
       "      <td>29837659</td>\n",
       "      <td>29837928</td>\n",
       "      <td>bj_k27ac_down_chr3:29837659-29837928</td>\n",
       "      <td>chr3</td>\n",
       "      <td>29837260</td>\n",
       "      <td>29838061</td>\n",
       "      <td>bj_k27ac_down</td>\n",
       "      <td>chr3:29837260-29838061|bj_k27ac_down</td>\n",
       "      <td>False</td>\n",
       "    </tr>\n",
       "  </tbody>\n",
       "</table>\n",
       "</div>"
      ],
      "text/plain": [
       "   #chr     start       end                                  name #chr_  \\\n",
       "0  chr3  29837526  29837795  bj_k27ac_down_chr3:29837526-29837795  chr3   \n",
       "1  chr3  29837260  29837529  bj_k27ac_down_chr3:29837260-29837529  chr3   \n",
       "2  chr3  29837792  29838061  bj_k27ac_down_chr3:29837792-29838061  chr3   \n",
       "3  chr3  29837392  29837661  bj_k27ac_down_chr3:29837392-29837661  chr3   \n",
       "4  chr3  29837659  29837928  bj_k27ac_down_chr3:29837659-29837928  chr3   \n",
       "\n",
       "     start_      end_             id                                enh_id  \\\n",
       "0  29837260  29838061  bj_k27ac_down  chr3:29837260-29838061|bj_k27ac_down   \n",
       "1  29837260  29838061  bj_k27ac_down  chr3:29837260-29838061|bj_k27ac_down   \n",
       "2  29837260  29838061  bj_k27ac_down  chr3:29837260-29838061|bj_k27ac_down   \n",
       "3  29837260  29838061  bj_k27ac_down  chr3:29837260-29838061|bj_k27ac_down   \n",
       "4  29837260  29838061  bj_k27ac_down  chr3:29837260-29838061|bj_k27ac_down   \n",
       "\n",
       "    shuf  \n",
       "0  False  \n",
       "1  False  \n",
       "2  False  \n",
       "3  False  \n",
       "4  False  "
      ]
     },
     "execution_count": 54,
     "metadata": {},
     "output_type": "execute_result"
    }
   ],
   "source": [
    "df.head()"
   ]
  },
  {
   "cell_type": "code",
   "execution_count": null,
   "id": "a65c0738",
   "metadata": {},
   "outputs": [],
   "source": []
  }
 ],
 "metadata": {
  "kernelspec": {
   "display_name": "Python (mamba)",
   "language": "python",
   "name": "mamba"
  },
  "language_info": {
   "codemirror_mode": {
    "name": "ipython",
    "version": 3
   },
   "file_extension": ".py",
   "mimetype": "text/x-python",
   "name": "python",
   "nbconvert_exporter": "python",
   "pygments_lexer": "ipython3",
   "version": "3.9.16"
  },
  "toc": {
   "base_numbering": 1,
   "nav_menu": {},
   "number_sections": true,
   "sideBar": true,
   "skip_h1_title": false,
   "title_cell": "Table of Contents",
   "title_sidebar": "Contents",
   "toc_cell": false,
   "toc_position": {},
   "toc_section_display": true,
   "toc_window_display": false
  },
  "varInspector": {
   "cols": {
    "lenName": 16,
    "lenType": 16,
    "lenVar": 40
   },
   "kernels_config": {
    "python": {
     "delete_cmd_postfix": "",
     "delete_cmd_prefix": "del ",
     "library": "var_list.py",
     "varRefreshCmd": "print(var_dic_list())"
    },
    "r": {
     "delete_cmd_postfix": ") ",
     "delete_cmd_prefix": "rm(",
     "library": "var_list.r",
     "varRefreshCmd": "cat(var_dic_list()) "
    }
   },
   "types_to_exclude": [
    "module",
    "function",
    "builtin_function_or_method",
    "instance",
    "_Feature"
   ],
   "window_display": false
  }
 },
 "nbformat": 4,
 "nbformat_minor": 5
}
