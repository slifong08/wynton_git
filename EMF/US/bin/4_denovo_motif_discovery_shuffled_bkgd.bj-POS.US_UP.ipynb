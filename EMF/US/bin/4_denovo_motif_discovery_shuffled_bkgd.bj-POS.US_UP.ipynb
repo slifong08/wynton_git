{
 "cells": [
  {
   "cell_type": "code",
   "execution_count": 1,
   "id": "220c131f",
   "metadata": {
    "ExecuteTime": {
     "end_time": "2024-04-10T22:53:56.833407Z",
     "start_time": "2024-04-10T22:53:50.755333Z"
    }
   },
   "outputs": [
    {
     "data": {
      "text/plain": [
       "('sans-serif', 'Arial', 18)"
      ]
     },
     "execution_count": 1,
     "metadata": {},
     "output_type": "execute_result"
    }
   ],
   "source": [
    "from Bio.SeqIO.FastaIO import SimpleFastaParser as sfp\n",
    "import os, sys\n",
    "import numpy as np\n",
    "import pandas as pd\n",
    "\n",
    "import config_readwrite as crw\n",
    "\n",
    "import matplotlib.pyplot as plt\n",
    "import seaborn as sns\n",
    "\n",
    "from scipy import stats\n",
    "\n",
    "import warnings\n",
    "warnings.filterwarnings(\"ignore\")\n",
    "import plot_params as pp\n",
    "\n",
    "pp.fonts()"
   ]
  },
  {
   "cell_type": "markdown",
   "id": "0f08314d",
   "metadata": {},
   "source": [
    "# config"
   ]
  },
  {
   "cell_type": "code",
   "execution_count": 2,
   "id": "1a082fb7",
   "metadata": {
    "ExecuteTime": {
     "end_time": "2024-04-10T22:53:56.842655Z",
     "start_time": "2024-04-10T22:53:56.835275Z"
    }
   },
   "outputs": [],
   "source": [
    "# read\n",
    "config, cfn = crw.read(os.path.join(os.path.dirname(os.getcwd()), \"config.ini\"))"
   ]
  },
  {
   "cell_type": "code",
   "execution_count": 3,
   "id": "4e3a4802",
   "metadata": {
    "ExecuteTime": {
     "end_time": "2024-04-10T22:53:57.263252Z",
     "start_time": "2024-04-10T22:53:56.845059Z"
    }
   },
   "outputs": [],
   "source": [
    "CL = \"HEPG2\"\n",
    "DATAHEPG2 = config[\"mpra\"][f'{CL}.clean.transformed'] \n",
    "\n",
    "CL = \"BJ\"\n",
    "DATABJ = config[\"mpra\"][f'{CL}.clean.transformed'] \n",
    "ANALYSIS = 'Pos.US_UP0.9_v_pos.US_UP0.1_shuf_Pos.CTRL_UP0.9'\n",
    "\n",
    "FASTA = config[\"mpra\"][\"fasta\"]\n",
    "\n",
    "MEME = config[\"meme\"][\"src\"]\n",
    "FIMO = config[\"fimo\"][\"src\"]\n",
    "RESULTS = config[\"path\"][\"results\"]\n",
    "BED = config[\"mpra\"][\"tile.bed\"]\n",
    "\n",
    "RE_MEME = os.path.join(RESULTS, \"meme\")\n",
    "RE_MEME_CL = os.path.join(RE_MEME, CL, ANALYSIS)\n",
    "\n",
    "# make the results\n",
    "for dirname in [RE_MEME, RE_MEME_CL]:\n",
    "    if os.path.exists(dirname) is False:\n",
    "        os.mkdir(dirname)\n",
    "\n",
    "# append meme path\n",
    "sys.path.append(MEME)\n",
    "\n",
    "# change directory \n",
    "os.chdir(RE_MEME_CL)"
   ]
  },
  {
   "cell_type": "code",
   "execution_count": 4,
   "id": "5ed98f72",
   "metadata": {
    "ExecuteTime": {
     "end_time": "2024-04-10T22:53:57.354845Z",
     "start_time": "2024-04-10T22:53:57.265124Z"
    }
   },
   "outputs": [],
   "source": [
    "# write\n",
    "\n",
    "section = \"meme\"\n",
    "\n",
    "config[section][f'results'] = RE_MEME\n",
    "config[section][CL] = RE_MEME_CL\n",
    "\n",
    "crw.write(config, cfn)"
   ]
  },
  {
   "cell_type": "markdown",
   "id": "1e277242",
   "metadata": {},
   "source": [
    "# load data"
   ]
  },
  {
   "cell_type": "code",
   "execution_count": 5,
   "id": "7c36385b",
   "metadata": {
    "ExecuteTime": {
     "end_time": "2024-04-10T22:53:57.407105Z",
     "start_time": "2024-04-10T22:53:57.356708Z"
    }
   },
   "outputs": [],
   "source": [
    "def openAndFilter(file_name):\n",
    "    df = pd.read_csv(file_name, sep='\\t')  # (58333, 38)\n",
    "    print(\"before filtering\", file_name,  df.shape)\n",
    "    df = df.loc[~df[\"label\"].str.contains(\"Synthetic\")].reset_index(\n",
    "        drop=True)  # (26803, 38)\n",
    "    print(\"filter out synthetics\", df.shape)\n",
    "    df = df.loc[~df[\"label\"].str.contains(\"Pos\")].reset_index(\n",
    "        drop=True)  # (26659, 38)\n",
    "    print(\"filter out positive controls\", df.shape, '\\n\\n')\n",
    "\n",
    "    return df"
   ]
  },
  {
   "cell_type": "code",
   "execution_count": 6,
   "id": "17c18a68",
   "metadata": {
    "ExecuteTime": {
     "end_time": "2024-04-10T22:53:58.209912Z",
     "start_time": "2024-04-10T22:53:57.408828Z"
    }
   },
   "outputs": [
    {
     "name": "stdout",
     "output_type": "stream",
     "text": [
      "before filtering /wynton/group/ahituv/fongsl/projects/US/data/full_bj_MPRA.clean.transformed.csv (58333, 38)\n",
      "filter out synthetics (26803, 38)\n",
      "filter out positive controls (26659, 38) \n",
      "\n",
      "\n"
     ]
    }
   ],
   "source": [
    "#hepg2 = openAndFilter(DATAHEPG2)\n",
    "bj = openAndFilter(DATABJ)"
   ]
  },
  {
   "cell_type": "code",
   "execution_count": 7,
   "id": "c48f975a",
   "metadata": {
    "ExecuteTime": {
     "end_time": "2024-04-10T22:53:58.215857Z",
     "start_time": "2024-04-10T22:53:58.211900Z"
    }
   },
   "outputs": [
    {
     "data": {
      "text/plain": [
       "(26659, 38)"
      ]
     },
     "execution_count": 7,
     "metadata": {},
     "output_type": "execute_result"
    }
   ],
   "source": [
    "bj.shape"
   ]
  },
  {
   "cell_type": "code",
   "execution_count": 8,
   "id": "763431fd",
   "metadata": {
    "ExecuteTime": {
     "end_time": "2024-04-10T22:53:58.472117Z",
     "start_time": "2024-04-10T22:53:58.217517Z"
    }
   },
   "outputs": [
    {
     "data": {
      "text/html": [
       "<div>\n",
       "<style scoped>\n",
       "    .dataframe tbody tr th:only-of-type {\n",
       "        vertical-align: middle;\n",
       "    }\n",
       "\n",
       "    .dataframe tbody tr th {\n",
       "        vertical-align: top;\n",
       "    }\n",
       "\n",
       "    .dataframe thead th {\n",
       "        text-align: right;\n",
       "    }\n",
       "</style>\n",
       "<table border=\"1\" class=\"dataframe\">\n",
       "  <thead>\n",
       "    <tr style=\"text-align: right;\">\n",
       "      <th></th>\n",
       "      <th>name</th>\n",
       "      <th>enh.id</th>\n",
       "      <th>enh.name</th>\n",
       "    </tr>\n",
       "  </thead>\n",
       "  <tbody>\n",
       "    <tr>\n",
       "      <th>0</th>\n",
       "      <td>hob_k27ac_down_chr1:826978-827247</td>\n",
       "      <td>chr1:826978-827704</td>\n",
       "      <td>enh.0</td>\n",
       "    </tr>\n",
       "    <tr>\n",
       "      <th>1</th>\n",
       "      <td>hob_k27ac_down_chr1:827110-827379</td>\n",
       "      <td>chr1:826978-827704</td>\n",
       "      <td>enh.0</td>\n",
       "    </tr>\n",
       "    <tr>\n",
       "      <th>2</th>\n",
       "      <td>hob_k27ac_down_chr1:827377-827646</td>\n",
       "      <td>chr1:826978-827704</td>\n",
       "      <td>enh.0</td>\n",
       "    </tr>\n",
       "    <tr>\n",
       "      <th>3</th>\n",
       "      <td>hob_k27ac_down_chr1:827435-827704</td>\n",
       "      <td>chr1:826978-827704</td>\n",
       "      <td>enh.0</td>\n",
       "    </tr>\n",
       "    <tr>\n",
       "      <th>4</th>\n",
       "      <td>hob_k27ac_down_chr1:827891-828160</td>\n",
       "      <td>chr1:827891-828160</td>\n",
       "      <td>enh.1</td>\n",
       "    </tr>\n",
       "  </tbody>\n",
       "</table>\n",
       "</div>"
      ],
      "text/plain": [
       "                                name              enh.id enh.name\n",
       "0  hob_k27ac_down_chr1:826978-827247  chr1:826978-827704    enh.0\n",
       "1  hob_k27ac_down_chr1:827110-827379  chr1:826978-827704    enh.0\n",
       "2  hob_k27ac_down_chr1:827377-827646  chr1:826978-827704    enh.0\n",
       "3  hob_k27ac_down_chr1:827435-827704  chr1:826978-827704    enh.0\n",
       "4  hob_k27ac_down_chr1:827891-828160  chr1:827891-828160    enh.1"
      ]
     },
     "execution_count": 8,
     "metadata": {},
     "output_type": "execute_result"
    }
   ],
   "source": [
    "enh = pd.read_csv(BED, sep='\\t')\n",
    "enh.head()"
   ]
  },
  {
   "cell_type": "code",
   "execution_count": 9,
   "id": "5c03a6b7",
   "metadata": {
    "ExecuteTime": {
     "end_time": "2024-04-10T22:53:58.509381Z",
     "start_time": "2024-04-10T22:53:58.476222Z"
    }
   },
   "outputs": [],
   "source": [
    "bj = pd.merge(bj, enh, how=\"left\")"
   ]
  },
  {
   "cell_type": "markdown",
   "id": "785307f0",
   "metadata": {},
   "source": [
    "# add direction "
   ]
  },
  {
   "cell_type": "code",
   "execution_count": 10,
   "id": "2631e96d",
   "metadata": {
    "ExecuteTime": {
     "end_time": "2024-04-10T22:53:58.574015Z",
     "start_time": "2024-04-10T22:53:58.511257Z"
    }
   },
   "outputs": [],
   "source": [
    "def labelDirection(df):\n",
    "\n",
    "    \"\"\"label sequences with different directions of change between US and Control\n",
    "    note\n",
    "\n",
    "    neg.US_UP == US MPRA activity is negative, but less negative than CTRL MPRA activity, which is also negative\n",
    "    pos.US_UP  == US MPRA activity is positive and more positive than CTRL MPRA activity, which is also positive. \n",
    "    US_UP == US activity is positive and higher than CTRL MPRA activity, which is negative. \n",
    "    \"\"\"\n",
    "    df[\"direction\"] = None\n",
    "\n",
    "    # Pos values only\n",
    "    df.loc[(df[\"l2.ratio.mean.us\"] > 0) &\n",
    "           (df[\"l2.ratio.mean.ctrl\"] > 0) &\n",
    "           (df[\"delta.mean\"] > 0),\n",
    "           \"direction\"] = \"Pos.US_UP\"\n",
    "\n",
    "    df.loc[(df[\"l2.ratio.mean.us\"] > 0) &\n",
    "           (df[\"l2.ratio.mean.ctrl\"] > 0) &\n",
    "           (df[\"delta.mean\"] < 0),\n",
    "           \"direction\"] = \"Pos.CTRL_UP\"\n",
    "\n",
    "    # Negtaive values only\n",
    "    df.loc[(df[\"l2.ratio.mean.us\"] < 0) &\n",
    "           (df[\"l2.ratio.mean.ctrl\"] < 0) &\n",
    "           (df[\"delta.mean\"] > 0),\n",
    "           \"direction\"] = \"Neg.CTRL_DOWN\"\n",
    "\n",
    "    df.loc[(df[\"l2.ratio.mean.us\"] < 0) &\n",
    "           (df[\"l2.ratio.mean.ctrl\"] < 0) &\n",
    "           (df[\"delta.mean\"] < 0),\n",
    "           \"direction\"] = \"Neg.US_DOWN\"\n",
    "\n",
    "    # crossing zero values only\n",
    "    df.loc[(df[\"l2.ratio.mean.us\"] > 0) &\n",
    "           (df[\"l2.ratio.mean.ctrl\"] < 0) &\n",
    "           (df[\"delta.mean\"] > 0),\n",
    "           \"direction\"] = \"US_UP\"\n",
    "\n",
    "    df.loc[(df[\"l2.ratio.mean.us\"] < 0) &\n",
    "           (df[\"l2.ratio.mean.ctrl\"] > 0) &\n",
    "           (df[\"delta.mean\"] < 0),\n",
    "           \"direction\"] = \"CTRL_UP\"\n",
    "\n",
    "    print(df.loc[df[\"direction\"] != None, [\"l2.ratio.mean.ctrl\",\n",
    "          \"l2.ratio.mean.us\", 'delta.mean', \"direction\"]].sample(n=20))\n",
    "    return df\n"
   ]
  },
  {
   "cell_type": "code",
   "execution_count": 11,
   "id": "e58bfb94",
   "metadata": {
    "ExecuteTime": {
     "end_time": "2024-04-10T22:53:58.706820Z",
     "start_time": "2024-04-10T22:53:58.575806Z"
    }
   },
   "outputs": [
    {
     "name": "stdout",
     "output_type": "stream",
     "text": [
      "       l2.ratio.mean.ctrl  l2.ratio.mean.us  delta.mean      direction\n",
      "10994            0.382578          0.482686    0.100108      Pos.US_UP\n",
      "13215            0.056176          0.163504    0.107329      Pos.US_UP\n",
      "21023            0.341647          0.329346   -0.012301    Pos.CTRL_UP\n",
      "14474           -0.166170         -0.116797    0.049374  Neg.CTRL_DOWN\n",
      "26009            0.072193          0.069302   -0.002891    Pos.CTRL_UP\n",
      "13440           -0.024974         -0.011175    0.013799  Neg.CTRL_DOWN\n",
      "25698            0.219006          0.217846   -0.001161    Pos.CTRL_UP\n",
      "15382           -0.122232         -0.093925    0.028307  Neg.CTRL_DOWN\n",
      "15484            0.276115          0.308738    0.032622      Pos.US_UP\n",
      "2973             0.169931          0.218986    0.049055      Pos.US_UP\n",
      "26103           -1.110899         -1.098531    0.012368  Neg.CTRL_DOWN\n",
      "9082            -2.174164         -2.665185   -0.491021    Neg.US_DOWN\n",
      "5216             0.501056          0.570590    0.069534      Pos.US_UP\n",
      "25108            0.192150          0.181760   -0.010390    Pos.CTRL_UP\n",
      "7697             0.432950          0.501143    0.068193      Pos.US_UP\n",
      "18272            0.345818          0.334058   -0.011761    Pos.CTRL_UP\n",
      "15639           -0.859740         -0.905476   -0.045735    Neg.US_DOWN\n",
      "6452            -0.083242         -0.165788   -0.082546    Neg.US_DOWN\n",
      "7339            -0.144841         -0.063717    0.081124  Neg.CTRL_DOWN\n",
      "20967            0.276396          0.289058    0.012662      Pos.US_UP\n"
     ]
    }
   ],
   "source": [
    "bj = labelDirection(bj)"
   ]
  },
  {
   "cell_type": "code",
   "execution_count": 12,
   "id": "bc63a946",
   "metadata": {
    "ExecuteTime": {
     "end_time": "2024-04-10T22:53:58.781079Z",
     "start_time": "2024-04-10T22:53:58.708550Z"
    }
   },
   "outputs": [
    {
     "data": {
      "text/plain": [
       "{'Differential_ATAC',\n",
       " 'Differential_H3K27ac',\n",
       " 'NegCtl_Ilias_MPRA',\n",
       " 'NegCtl_Vikram_MPRA',\n",
       " 'Non-differential',\n",
       " 'Promoter_DEG',\n",
       " 'Shuffle'}"
      ]
     },
     "execution_count": 12,
     "metadata": {},
     "output_type": "execute_result"
    }
   ],
   "source": [
    "set(bj[\"label\"])"
   ]
  },
  {
   "cell_type": "code",
   "execution_count": 13,
   "id": "4b2dc6fe",
   "metadata": {
    "ExecuteTime": {
     "end_time": "2024-04-10T22:54:01.318473Z",
     "start_time": "2024-04-10T22:53:58.782836Z"
    }
   },
   "outputs": [
    {
     "data": {
      "text/plain": [
       "<matplotlib.legend.Legend at 0x7f0cc5007850>"
      ]
     },
     "execution_count": 13,
     "metadata": {},
     "output_type": "execute_result"
    },
    {
     "data": {
      "image/png": "[encoded data removed]",
      "text/plain": [
       "<Figure size 600x600 with 3 Axes>"
      ]
     },
     "metadata": {},
     "output_type": "display_data"
    }
   ],
   "source": [
    "# \n",
    "#fig,ax = plt.subplots(figsize=(6,6))\n",
    "hue_order = ['US_UP',\n",
    "             'CTRL_UP',\n",
    "             'Neg.US_DOWN',\n",
    "             'Neg.CTRL_DOWN',\n",
    "             'Pos.US_UP',\n",
    "             'Pos.CTRL_UP',\n",
    "             ]\n",
    "\n",
    "g = sns.jointplot(x=\"l2.ratio.mean.ctrl\", y=\"l2.ratio.mean.us\",\n",
    "                  data=bj, hue=\"direction\", hue_order=hue_order,\n",
    "                  palette='tab20'\n",
    "                 )\n",
    "g.ax_joint.legend(frameon=False, bbox_to_anchor=(2, 1))"
   ]
  },
  {
   "cell_type": "markdown",
   "id": "d1102fd7",
   "metadata": {},
   "source": [
    "# US up - BJ"
   ]
  },
  {
   "cell_type": "markdown",
   "id": "ac9063e5",
   "metadata": {},
   "source": [
    "## functions"
   ]
  },
  {
   "cell_type": "code",
   "execution_count": 14,
   "id": "36706ca0",
   "metadata": {
    "ExecuteTime": {
     "end_time": "2024-04-10T22:54:01.331782Z",
     "start_time": "2024-04-10T22:54:01.320646Z"
    }
   },
   "outputs": [],
   "source": [
    "def getDfDirectionSub(df, direction):\n",
    "    \"\"\"subset dataframe by directino of effect\"\"\"\n",
    "\n",
    "    cols = [\"name\", \"label\", \"l2.ratio.mean.ctrl\",\n",
    "        'l2.ratio.mean.us', \"delta.mean\", \"direction\"]\n",
    "\n",
    "    df = df.loc[df[\"direction\"] == direction, cols].sort_values(\n",
    "        by='l2.ratio.mean.us', ascending=False).copy()\n",
    "\n",
    "    return df\n",
    "\n",
    "\n",
    "def getQuantileDelta(df, top_quantile, base_df, shuf_bkgd=False):\n",
    "    \"\"\"subset dataframe by delta.mean top/bottom quantiles, return dataframes, list of names\"\"\"\n",
    "\n",
    "    # top quantile of delta.means\n",
    "    pos = df.loc[df[\"delta.mean\"] >=\n",
    "                     df[\"delta.mean\"].quantile(top_quantile)].copy()\n",
    "\n",
    "    # pos list of names\n",
    "    pos_names = list(pos[\"name\"])\n",
    "\n",
    "    # bottom quantile of delta.means.\n",
    "    neg = df.loc[df[\"delta.mean\"] <=\n",
    "                     df[\"delta.mean\"].quantile(1-top_quantile)].copy()\n",
    "    if shuf_bkgd is True:\n",
    "        shuf = base_df.loc[base_df['label'] ==\n",
    "            \"Shuffle\"].copy().drop_duplicates()\n",
    "        neg = pd.concat([neg, shuf])\n",
    "\n",
    "    # neg list of names\n",
    "    neg_names = list(neg[\"name\"])\n",
    "\n",
    "    return pos, pos_names, neg, neg_names\n",
    "\n",
    "\n",
    "def makeQuantileFasta(pos_names, neg_names, direction, re, top_quantile, exp_name, fa):\n",
    "    \"\"\"write fastas for each quantile based on list of sequence names\"\"\"\n",
    "\n",
    "    bottom_quantile = round(1-top_quantile, 1)\n",
    "\n",
    "    # files to write\n",
    "    FA_POS = os.path.join(re, f\"{exp_name}.{direction}.pos.{top_quantile}.fa\")\n",
    "    FA_NEG = os.path.join(\n",
    "        re, f\"{exp_name}.{direction}.neg.{bottom_quantile}.fa\")\n",
    "\n",
    "    # write positive, negative names and sequences\n",
    "    for names, fa_write in [(pos_names, FA_POS), (neg_names, FA_NEG)]:\n",
    "\n",
    "        # filter and write fasta function\n",
    "        filterWriteFasta(fa_write, fa, names)\n",
    "\n",
    "    return FA_POS, FA_NEG\n",
    "\n",
    "\n",
    "def filterWriteFasta(fa_write_file, source_fa, seq_id_list):\n",
    "    \"\"\"provide file to write, source fasta, and sequence list\"\"\"\n",
    "    fa_writer = open(fa_write_file, \"w\")  # open fa file to write\n",
    "\n",
    "    with open(source_fa, \"r\") as reader:  # open the full fa file\n",
    "        for value in sfp(reader):\n",
    "            seq_id, seq = value  # get sequence id, sequence\n",
    "            if seq_id in seq_id_list:  # filter for sequences in pos/neg name list\n",
    "                # write those sequences to fa\n",
    "                fa_writer.write(f'>{seq_id}\\n{seq}\\n')\n",
    "    fa_writer.close()\n",
    "\n",
    "def getEnhSet(df, name_set):\n",
    "    \"\"\"return list of enhancer names and linked tiles to prevent data leakage\"\"\"\n",
    "    enh_names = df.loc[df[\"name\"].isin(name_set), \"enh.name\"].unique()\n",
    "    linkedtiles = df.loc[df[\"enh.name\"].isin(enh_names), \"name\"].unique()\n",
    "    \n",
    "    return enh_names, linkedtiles\n",
    "\n",
    "def runFimo(fimo, meme_txt, fa, direction, quantile):\n",
    "\n",
    "    OUTDIR = f\"./fimo/{direction}.{quantile}\"\n",
    "    if os.path.exists('./fimo') is False:\n",
    "        os.mkdir(\"./fimo/\")\n",
    "\n",
    "    cmd = \" \".join([fimo,\n",
    "                    \"--oc\",\n",
    "                    OUTDIR,\n",
    "                    meme_txt,\n",
    "                    fa,\n",
    "\n",
    "                    ])\n",
    "    if os.path.exists(OUTDIR) is False:\n",
    "        os.system(cmd)\n",
    "\n",
    "    return OUTDIR"
   ]
  },
  {
   "cell_type": "markdown",
   "id": "29b35e15",
   "metadata": {},
   "source": [
    "## Experiment 1: Motif discovery on top 10% of US-increasing sequences v. bottom 10% of US-increasing sequences. \n",
    "     - Hyp - top 10% reflects true signal, bottom 10% is noise, the shuffles are noise, the repressed sequences are a different set of elements. Motifs enriched in the top 10% of US-sensitive elements not found in bottom 10% are likely important for US-dependent TF binding. \n",
    "    - Data Universe: BJ MPRA, all of the sequences where the contrl MPRA value is negative and US MPRA value is positive"
   ]
  },
  {
   "cell_type": "code",
   "execution_count": 15,
   "id": "cca40dcf",
   "metadata": {
    "ExecuteTime": {
     "end_time": "2024-04-10T22:54:01.422749Z",
     "start_time": "2024-04-10T22:54:01.333450Z"
    }
   },
   "outputs": [],
   "source": [
    "EXP_NAME =\"exp1\"\n",
    "DIRECTION = \"Pos.US_UP\"\n",
    "NEG_DIRECTION=\"Pos.CTRL_UP\"\n",
    "df = bj\n",
    "TOP_QUANTILE = 0.9\n",
    "BOTTOM_QUANTILE = round((1-TOP_QUANTILE),1)"
   ]
  },
  {
   "cell_type": "markdown",
   "id": "d5d40fdb",
   "metadata": {},
   "source": [
    "### US-increasing sequences only"
   ]
  },
  {
   "cell_type": "code",
   "execution_count": 16,
   "id": "d595be8e",
   "metadata": {
    "ExecuteTime": {
     "end_time": "2024-04-10T22:54:06.489766Z",
     "start_time": "2024-04-10T22:54:01.424527Z"
    },
    "scrolled": true
   },
   "outputs": [
    {
     "name": "stdout",
     "output_type": "stream",
     "text": [
      "1240\n",
      "2207\n"
     ]
    }
   ],
   "source": [
    "### subset df by direction. \n",
    "\n",
    "df_dir = getDfDirectionSub(df, DIRECTION)\n",
    "neg_df_dir = getDfDirectionSub(df, NEG_DIRECTION)\n",
    "\n",
    "### top and bottom 10% of direction changes. \n",
    "\n",
    "# top quantile of delta.means\n",
    "pos, pos_names, neg, neg_names = getQuantileDelta(df_dir, TOP_QUANTILE, df, True)\n",
    "print(len(neg_names))\n",
    "# top US_down elements to add to the background\n",
    "neg_pos, neg_pos_names, neg_neg, neg_neg_names = getQuantileDelta(neg_df_dir, TOP_QUANTILE, df, True)\n",
    "\n",
    "# add top_US_down names to the negative list. \n",
    "neg_names.extend(neg_neg_names)\n",
    "neg = pd.concat([neg, neg_neg])\n",
    "print(len(neg_names))\n",
    "# make fasta files from quantiles. \n",
    "FA_POS, FA_NEG = makeQuantileFasta(pos_names, neg_names, DIRECTION, RE_MEME_CL, TOP_QUANTILE, EXP_NAME, FASTA)\n",
    "\n",
    "# add to config\n",
    "config[section][f'{CL}.{DIRECTION}.{TOP_QUANTILE}.fa'] = FA_POS\n",
    "config[section][f'{CL}.{DIRECTION}.{BOTTOM_QUANTILE}.fa'] = FA_NEG\n",
    "\n",
    "exp1up, exp1down = pos_names, neg_names"
   ]
  },
  {
   "cell_type": "code",
   "execution_count": 17,
   "id": "ed0e5511",
   "metadata": {
    "ExecuteTime": {
     "end_time": "2024-04-10T22:54:07.399725Z",
     "start_time": "2024-04-10T22:54:06.492379Z"
    }
   },
   "outputs": [
    {
     "data": {
      "text/plain": [
       "<matplotlib.legend.Legend at 0x7f0cc4984340>"
      ]
     },
     "execution_count": 17,
     "metadata": {},
     "output_type": "execute_result"
    },
    {
     "data": {
      "image/png": "[encoded data removed]",
      "text/plain": [
       "<Figure size 600x600 with 3 Axes>"
      ]
     },
     "metadata": {},
     "output_type": "display_data"
    }
   ],
   "source": [
    "plot = pd.concat([pos, neg])\n",
    "# fig,ax = plt.subplots(figsize=(6,6))\n",
    "hue_order = ['US_UP',\n",
    "             'CTRL_UP',\n",
    "             'Neg.US_DOWN',\n",
    "             'Neg.CTRL_DOWN',\n",
    "             'Pos.US_UP',\n",
    "             'Pos.CTRL_UP',\n",
    "             ]\n",
    "\n",
    "g = sns.jointplot(x=\"l2.ratio.mean.ctrl\", y=\"l2.ratio.mean.us\",\n",
    "                  data=plot, hue=\"direction\", hue_order=hue_order,\n",
    "                  palette='tab20'\n",
    "                 )\n",
    "g.ax_joint.legend(frameon=False, bbox_to_anchor=(2, 1))"
   ]
  },
  {
   "cell_type": "markdown",
   "id": "f2ec0909",
   "metadata": {},
   "source": [
    "### sanity check - delta scores are larger than expected from shuffle.  "
   ]
  },
  {
   "cell_type": "code",
   "execution_count": 18,
   "id": "19d43ada",
   "metadata": {
    "ExecuteTime": {
     "end_time": "2024-04-10T22:54:07.800257Z",
     "start_time": "2024-04-10T22:54:07.401482Z"
    }
   },
   "outputs": [
    {
     "data": {
      "text/plain": [
       "<matplotlib.legend.Legend at 0x7f0cc8843370>"
      ]
     },
     "execution_count": 18,
     "metadata": {},
     "output_type": "execute_result"
    },
    {
     "data": {
      "image/png": "[encoded data removed]",
      "text/plain": [
       "<Figure size 640x480 with 1 Axes>"
      ]
     },
     "metadata": {},
     "output_type": "display_data"
    }
   ],
   "source": [
    "shuf = bj.loc[bj[\"label\"] == \"Shuffle\"]\n",
    "genome = bj.loc[bj[\"label\"] != \"Shuffle\"]\n",
    "\n",
    "fig, ax = plt.subplots()\n",
    "\n",
    "\"\"\"\n",
    "sns.histplot(x=\"delta.mean\", data=df_dir,\n",
    "             label=f\"{DIRECTION}\", stat=\"percent\", kde=True,\n",
    "             color=\"w\", common_norm=False\n",
    "            )\n",
    "            \n",
    "\"\"\"\n",
    "sns.histplot(x=\"delta.mean\", data=neg, label=\"shuffle+neg\", kde=True,\n",
    "             stat=\"percent\", color=\"grey\", common_norm=False)\n",
    "\n",
    "# draw upper 97.5% line\n",
    "ax.axvline(neg[\"delta.mean\"].quantile(0.975), ls = \"--\", c=\"grey\")\n",
    "\n",
    "sns.histplot(x=\"delta.mean\", data=pos, label=f\"{DIRECTION} top {TOP_QUANTILE}\",\n",
    "             kde=True,common_norm=False,\n",
    "             stat=\"percent\")\n",
    "plt.legend(frameon=False, loc=\"upper left\")\n",
    "\n"
   ]
  },
  {
   "cell_type": "markdown",
   "id": "73e084f7",
   "metadata": {},
   "source": [
    "#### delta.mean stats - shuf, us_up"
   ]
  },
  {
   "cell_type": "code",
   "execution_count": 19,
   "id": "1a1ba547",
   "metadata": {
    "ExecuteTime": {
     "end_time": "2024-04-10T22:54:07.809144Z",
     "start_time": "2024-04-10T22:54:07.802004Z"
    }
   },
   "outputs": [
    {
     "data": {
      "text/plain": [
       "(0.11714332102258816,\n",
       " count    938.000000\n",
       " mean       0.199157\n",
       " std        0.065295\n",
       " min        0.134542\n",
       " 25%        0.150366\n",
       " 50%        0.178526\n",
       " 75%        0.226405\n",
       " max        0.558532\n",
       " Name: delta.mean, dtype: float64)"
      ]
     },
     "execution_count": 19,
     "metadata": {},
     "output_type": "execute_result"
    }
   ],
   "source": [
    "neg[\"delta.mean\"].quantile(0.975), pos[\"delta.mean\"].describe()"
   ]
  },
  {
   "cell_type": "markdown",
   "id": "c4f21011",
   "metadata": {},
   "source": [
    "### MEME motif discovery"
   ]
  },
  {
   "cell_type": "markdown",
   "id": "33b6fec7",
   "metadata": {},
   "source": [
    "#### MEME params"
   ]
  },
  {
   "cell_type": "code",
   "execution_count": 20,
   "id": "9d2d6439",
   "metadata": {
    "ExecuteTime": {
     "end_time": "2024-04-10T22:54:07.924140Z",
     "start_time": "2024-04-10T22:54:07.810642Z"
    }
   },
   "outputs": [],
   "source": [
    "# MEME PARAMS - https://meme-suite.org/meme/doc/meme.html?man_type=web\n",
    "OUTPUT_DIR = RE_MEME_CL\n",
    "OBJ_FUN = \"de\" # differential enrichment, uses multiple hypergeometric test (mhg) as stat to measure enrichment\n",
    "TEST = \"mhg\"\n",
    "MIN_WIDTH = 10\n",
    "MAX_WIDTH = 15\n",
    "\n",
    "N_SITES = 124  # find motifs with N sites\n",
    "N_MOTIFS = 3 # n motifes to find"
   ]
  },
  {
   "cell_type": "markdown",
   "id": "50862379",
   "metadata": {},
   "source": [
    "#### MEME cmd, run"
   ]
  },
  {
   "cell_type": "code",
   "execution_count": 21,
   "id": "c73f76ec",
   "metadata": {
    "ExecuteTime": {
     "end_time": "2024-04-10T23:06:44.171162Z",
     "start_time": "2024-04-10T22:54:07.925941Z"
    }
   },
   "outputs": [
    {
     "name": "stderr",
     "output_type": "stream",
     "text": [
      "The output directory '/wynton/group/ahituv/fongsl/projects/US/results/meme/BJ/Pos.US_UP0.9_v_pos.US_UP0.1_shuf_Pos.CTRL_UP0.9' already exists.\n",
      "Its contents will be overwritten.\n",
      "BACKGROUND: using background model of order 0\n",
      "PRIMARY (de): n 932 p0 371 p1 280 p2 281\n",
      "CONTROL (de): n 1882 c0 371 c1 755 c2 756\n",
      "SEQUENCE GROUP USAGE-- Starts/EM: p0 vs c0; Trim: p1 vs c1; pvalue: p2 vs c1,c2; nsites: p0,p1,p2 vs c0,c1,c2\n",
      "SEEDS: maxwords 60316 highwater mark: seq 232 pos 15\n",
      "all widths from min to max\n",
      "\n",
      "seqs=   932, min_w= 270, max_w=  270, total_size=   251640\n",
      "\n",
      "motif=1\n",
      "SEED DEPTHS: estimated from data\n",
      "SEED WIDTHS: 10 11 12 13 14 15\n",
      "starts: w=13, seq=45, l=270\t\t\t\t\t\r"
     ]
    }
   ],
   "source": [
    "args = [FA_POS,\n",
    "        \"-oc\", OUTPUT_DIR,\n",
    "        '-objfun', OBJ_FUN,\n",
    "        \"-neg\", FA_NEG,\n",
    "        \"-dna\",  # use DNA alphabet\n",
    "        \"-minw\", MIN_WIDTH,\n",
    "        '-maxw', MAX_WIDTH,\n",
    "        \"-allw\",  # test starts for all widths\n",
    "        \"-nsites\", N_SITES,  # number of sites for each motif\n",
    "        \"-nmotifs\", N_MOTIFS\n",
    "        ]\n",
    "\n",
    "# add meme args together\n",
    "cmd = [MEME] + args\n",
    "\n",
    "# transform into a str\n",
    "cmd = \" \".join([str(i) for i in cmd])\n",
    "\n",
    "# write the output meme file\n",
    "MEME_TXT = os.path.join(RE_MEME_CL, f\"{CL}.{DIRECTION}.{TOP_QUANTILE}.meme.txt\")\n",
    "\n",
    "if os.path.exists(MEME_TXT) is False:\n",
    "\n",
    "    # run MEME command\n",
    "    os.system(cmd)\n",
    "\n",
    "\n",
    "    # rename the membe file\n",
    "    os.system(f\"mv meme.txt {CL}.{DIRECTION}.{TOP_QUANTILE}.meme.txt\")\n",
    "\n",
    "    config[section][f'{CL}.{DIRECTION}.{TOP_QUANTILE}.meme'] = MEME_TXT\n",
    "\n",
    "    crw.write(config, cfn)"
   ]
  },
  {
   "cell_type": "markdown",
   "id": "5b7460b1",
   "metadata": {},
   "source": [
    "### MEME output\n",
    "     /wynton/group/ahituv/fongsl/projects/US/results/meme/BJ"
   ]
  },
  {
   "cell_type": "code",
   "execution_count": 22,
   "id": "3766650a",
   "metadata": {
    "ExecuteTime": {
     "end_time": "2024-04-10T23:06:44.261918Z",
     "start_time": "2024-04-10T23:06:44.173151Z"
    }
   },
   "outputs": [],
   "source": [
    "%%bash\n",
    "ls -l /wynton/group/ahituv/fongsl/projects/US/results/meme/BJ"
   ]
  },
  {
   "cell_type": "markdown",
   "id": "1446d71b",
   "metadata": {},
   "source": [
    "### Fimo on full dataset"
   ]
  },
  {
   "cell_type": "markdown",
   "id": "57f52300",
   "metadata": {},
   "source": [
    "        # without repressed (CTRL_UP, top 90%) in bkgd\n",
    "         top 90% US_UP bkgd discovered motifs with bkgd - bottom 10% US_UP, shuffle bkgd\n",
    "        CAGRCTCTCS\n",
    "        CCTGKRTGWGW\n",
    "        GAGRAGVMAGCMK\n",
    "        \n",
    "        \n",
    "        # WITH repressed in bkgd\n",
    "        top 90% US_UP bkgd discovered motifs with bkgd - bottom 10% US_UP, shuffle bkgd, and CTRL_UP top 90% (repressed) \n",
    "        TCTTCCTSCT\n",
    "        SCWGCAGHKCCM\n",
    "        CYTGGGAGGAG\n",
    "        "
   ]
  },
  {
   "cell_type": "code",
   "execution_count": 23,
   "id": "e5483b12",
   "metadata": {
    "ExecuteTime": {
     "end_time": "2024-04-10T23:06:44.465777Z",
     "start_time": "2024-04-10T23:06:44.263862Z"
    }
   },
   "outputs": [],
   "source": [
    "OUTDIR_TOP =  runFimo(FIMO, MEME_TXT, FA_POS, DIRECTION, TOP_QUANTILE)\n",
    "OUTDIR_BOTTOM =  runFimo(FIMO, MEME_TXT, FA_NEG, DIRECTION, BOTTOM_QUANTILE)"
   ]
  },
  {
   "cell_type": "code",
   "execution_count": 24,
   "id": "226462d6",
   "metadata": {
    "ExecuteTime": {
     "end_time": "2024-04-10T23:06:44.592511Z",
     "start_time": "2024-04-10T23:06:44.467426Z"
    }
   },
   "outputs": [],
   "source": [
    "%%bash\n",
    "ls -l"
   ]
  },
  {
   "cell_type": "code",
   "execution_count": 25,
   "id": "4f4daa93",
   "metadata": {
    "ExecuteTime": {
     "end_time": "2024-04-10T23:06:44.625266Z",
     "start_time": "2024-04-10T23:06:44.594514Z"
    }
   },
   "outputs": [],
   "source": [
    "bottom_pred = os.path.join(OUTDIR_BOTTOM, \"fimo.tsv\")\n",
    "top_pred = os.path.join(OUTDIR_TOP, \"fimo.tsv\")\n",
    "\n",
    "tdf = pd.read_csv(top_pred, sep='\\t')\n",
    "tdf[\"quantile\"] = 'top0.9'\n",
    "tdf[\"-log10q\"]  = -1*np.log10(tdf[\"q-value\"])\n",
    "print(tdf.shape)\n",
    "\n",
    "\n",
    "bdf = pd.read_csv(bottom_pred, sep='\\t')\n",
    "bdf[\"quantile\"] = 'shuf+bottom0.1+top0.9repressed'\n",
    "bdf[\"-log10q\"]  = -1*np.log10(bdf[\"q-value\"])\n",
    "print(bdf.shape)"
   ]
  },
  {
   "cell_type": "code",
   "execution_count": 26,
   "id": "2a022ac9",
   "metadata": {
    "ExecuteTime": {
     "end_time": "2024-04-10T23:06:44.747651Z",
     "start_time": "2024-04-10T23:06:44.626847Z"
    }
   },
   "outputs": [],
   "source": [
    "# concatenate the top and bottom values\n",
    "plot = pd.concat([tdf, bdf])\n",
    "\n",
    "plot = plot.loc[~plot[\"motif_alt_id\"].isna()]"
   ]
  },
  {
   "cell_type": "code",
   "execution_count": 27,
   "id": "8752d943",
   "metadata": {
    "ExecuteTime": {
     "end_time": "2024-04-10T23:06:45.127035Z",
     "start_time": "2024-04-10T23:06:44.754850Z"
    }
   },
   "outputs": [],
   "source": [
    "fig, ax= plt.subplots( figsize = (6,6))\n",
    "sns.violinplot(x=\"motif_alt_id\", y='-log10q', data= plot, hue=\"quantile\", \n",
    "               order = [\"MEME-1\", \"MEME-2\", \"MEME-3\"])\n",
    "ax.axhline(np.log10(0.05)*-1, ls=\"--\", color=\"grey\")\n",
    "ax.legend(frameon=False, loc='upper right')"
   ]
  },
  {
   "cell_type": "code",
   "execution_count": 28,
   "id": "50f08741",
   "metadata": {
    "ExecuteTime": {
     "end_time": "2024-04-10T23:06:45.143764Z",
     "start_time": "2024-04-10T23:06:45.128594Z"
    }
   },
   "outputs": [],
   "source": [
    "IDS = [\"MEME-1\", \"MEME-2\", \"MEME-3\"]\n",
    "VAL =  \"-log10q\" #\"score\"\n",
    "for ID in IDS: \n",
    "\n",
    "    a = tdf.loc[tdf[\"motif_alt_id\"]==ID, VAL]\n",
    "    b = bdf.loc[bdf[\"motif_alt_id\"]==ID, VAL]\n",
    "    print(ID, stats.mannwhitneyu(a,b))"
   ]
  },
  {
   "cell_type": "markdown",
   "id": "5c385974",
   "metadata": {},
   "source": [
    "# Validation"
   ]
  },
  {
   "cell_type": "markdown",
   "id": "ebe9e62e",
   "metadata": {
    "ExecuteTime": {
     "end_time": "2024-02-29T23:26:46.313584Z",
     "start_time": "2024-02-29T23:26:46.309755Z"
    }
   },
   "source": [
    "## Experiment 2: are motifs discovered in US_UP also discovered in POS.US_UP?\n",
    "    - hypothesis: top motifs in us_up are also driving increased activity in pos.US_up. \n",
    "    - approach: use FIMO to discover US_UP motifs in other data. \n",
    "    - data universe: sequences with positive baseline activity that increase activity w/ US"
   ]
  },
  {
   "cell_type": "code",
   "execution_count": 29,
   "id": "9729074c",
   "metadata": {
    "ExecuteTime": {
     "end_time": "2024-04-10T23:06:45.330943Z",
     "start_time": "2024-04-10T23:06:45.145320Z"
    }
   },
   "outputs": [],
   "source": [
    "EXP_NAME =\"exp2\"\n",
    "DIRECTION = \"US_UP\""
   ]
  },
  {
   "cell_type": "markdown",
   "id": "049471ae",
   "metadata": {},
   "source": [
    "### pos.us_up sequences only"
   ]
  },
  {
   "cell_type": "code",
   "execution_count": 30,
   "id": "5e8c24c4",
   "metadata": {
    "ExecuteTime": {
     "end_time": "2024-04-10T23:06:46.054619Z",
     "start_time": "2024-04-10T23:06:45.332458Z"
    }
   },
   "outputs": [],
   "source": [
    "### subset df by direction. \n",
    "\n",
    "df_dir = getDfDirectionSub(df, DIRECTION)\n",
    "\n",
    "### top and bottom 10% of direction changes. \n",
    "\n",
    "# top quantile of delta.means, no shuffle data leakage\n",
    "pos, pos_names, neg, neg_names = getQuantileDelta(df_dir, TOP_QUANTILE, df, False)\n",
    "\n",
    "plot = pd.concat([pos, neg])\n",
    "# fig,ax = plt.subplots(figsize=(6,6))\n",
    "hue_order = ['US_UP',\n",
    "             'CTRL_UP',\n",
    "             'Neg.US_DOWN',\n",
    "             'Neg.CTRL_DOWN',\n",
    "             'Pos.US_UP',\n",
    "             'Pos.CTRL_UP',\n",
    "             ]\n",
    "\n",
    "g = sns.jointplot(x=\"l2.ratio.mean.ctrl\", y=\"l2.ratio.mean.us\",\n",
    "                  data=plot, hue=\"direction\", hue_order=hue_order,\n",
    "                  palette='tab20'\n",
    "                 )\n",
    "g.ax_joint.legend(frameon=False, bbox_to_anchor=(2, 1))"
   ]
  },
  {
   "cell_type": "markdown",
   "id": "6462a1a8",
   "metadata": {
    "ExecuteTime": {
     "end_time": "2024-03-01T21:32:06.746337Z",
     "start_time": "2024-03-01T21:32:06.741997Z"
    }
   },
   "source": [
    "### clean up data leakage\n",
    "- tiled enhancers which may have overlapping information"
   ]
  },
  {
   "cell_type": "code",
   "execution_count": 31,
   "id": "f04f5f20",
   "metadata": {
    "ExecuteTime": {
     "end_time": "2024-04-10T23:06:46.071022Z",
     "start_time": "2024-04-10T23:06:46.056507Z"
    }
   },
   "outputs": [],
   "source": [
    "# get enh ids, linked tiles from exp1 dataset\n",
    "exp1pos_enhnames, exp1pos_linkedtiles = getEnhSet(bj, exp1up)\n",
    "exp1neg_enhnames, exp1neg_linkedtiles = getEnhSet(bj, exp1down)"
   ]
  },
  {
   "cell_type": "code",
   "execution_count": 32,
   "id": "99817ea1",
   "metadata": {
    "ExecuteTime": {
     "end_time": "2024-04-10T23:06:46.928792Z",
     "start_time": "2024-04-10T23:06:46.072565Z"
    }
   },
   "outputs": [],
   "source": [
    "# remove exp 1 linked tiles\n",
    "pos_names_clean = set(pos_names).difference(set(exp1pos_linkedtiles))\n",
    "neg_names_clean = set(neg_names).difference(set(exp1neg_linkedtiles))\n",
    "\n",
    "# make fasta files from quantiles. \n",
    "FA_POS, FA_NEG = makeQuantileFasta(pos_names_clean, neg_names_clean, DIRECTION, RE_MEME_CL, TOP_QUANTILE, EXP_NAME, FASTA)\n",
    "\n",
    "# add to config\n",
    "config[section][f'{CL}.{DIRECTION}.{TOP_QUANTILE}.fa'] = FA_POS\n",
    "config[section][f'{CL}.{DIRECTION}.{BOTTOM_QUANTILE}.fa'] = FA_NEG\n",
    "\n",
    "crw.write(config, cfn)"
   ]
  },
  {
   "cell_type": "markdown",
   "id": "6597d507",
   "metadata": {},
   "source": [
    "### sanity check"
   ]
  },
  {
   "cell_type": "code",
   "execution_count": 33,
   "id": "3905f773",
   "metadata": {
    "ExecuteTime": {
     "end_time": "2024-04-10T23:06:46.934141Z",
     "start_time": "2024-04-10T23:06:46.930488Z"
    }
   },
   "outputs": [],
   "source": [
    "pos.shape, neg.shape"
   ]
  },
  {
   "cell_type": "code",
   "execution_count": 34,
   "id": "969f940e",
   "metadata": {
    "ExecuteTime": {
     "end_time": "2024-04-10T23:06:47.253841Z",
     "start_time": "2024-04-10T23:06:46.935795Z"
    }
   },
   "outputs": [],
   "source": [
    "neg[\"delta.mean\"].describe()"
   ]
  },
  {
   "cell_type": "code",
   "execution_count": 35,
   "id": "437b3633",
   "metadata": {
    "ExecuteTime": {
     "end_time": "2024-04-10T23:06:48.098459Z",
     "start_time": "2024-04-10T23:06:47.255404Z"
    }
   },
   "outputs": [],
   "source": [
    "shuf = bj.loc[bj[\"label\"] == \"Shuffle\"]\n",
    "genome = bj.loc[bj[\"label\"] != \"Shuffle\"]\n",
    "\n",
    "fig, ax = plt.subplots()\n",
    "\n",
    "\"\"\"\n",
    "sns.histplot(x=\"delta.mean\", data=df_dir,\n",
    "             label=f\"{DIRECTION}\", stat=\"percent\", kde=True,\n",
    "             color=\"w\", common_norm=False\n",
    "            )\n",
    "            \n",
    "\"\"\"\n",
    "#sns.histplot(x=\"delta.mean\", data=shuf, label=\"shuffle\", kde=True,\n",
    " #            stat=\"percent\", color=\"grey\", common_norm=False)\n",
    "sns.histplot(x=\"delta.mean\", data=pos, label=f\"{DIRECTION} top {TOP_QUANTILE}\",\n",
    "             kde=True,common_norm=False,\n",
    "             stat=\"percent\")\n",
    "sns.histplot(x=\"delta.mean\", data=neg, label=f\"{DIRECTION} bottom {BOTTOM_QUANTILE}\",\n",
    "             kde=True,common_norm=False,\n",
    "             stat=\"percent\")\n",
    "# draw upper 97.5% line\n",
    "ax.axvline(neg[\"delta.mean\"].quantile(0.975), ls = \"--\", c=\"grey\")\n",
    "\n",
    "plt.legend(frameon=False, loc=\"upper left\")\n",
    "\n",
    "\n",
    "\n",
    "shuf[\"delta.mean\"].quantile(0.975), pos[\"delta.mean\"].describe()"
   ]
  },
  {
   "cell_type": "markdown",
   "id": "978fc1c2",
   "metadata": {},
   "source": [
    "### Fimo"
   ]
  },
  {
   "cell_type": "code",
   "execution_count": 36,
   "id": "d949e4a2",
   "metadata": {
    "ExecuteTime": {
     "end_time": "2024-04-10T23:06:48.103299Z",
     "start_time": "2024-04-10T23:06:48.100078Z"
    }
   },
   "outputs": [],
   "source": [
    "OUTDIR_TOP =  runFimo(FIMO, MEME_TXT, FA_POS, DIRECTION, TOP_QUANTILE)\n",
    "OUTDIR_BOTTOM =  runFimo(FIMO, MEME_TXT, FA_NEG, DIRECTION, BOTTOM_QUANTILE)"
   ]
  },
  {
   "cell_type": "markdown",
   "id": "a1c0fd3a",
   "metadata": {},
   "source": [
    "### FET enrichment"
   ]
  },
  {
   "cell_type": "code",
   "execution_count": 37,
   "id": "cfb42f16",
   "metadata": {
    "ExecuteTime": {
     "end_time": "2024-04-10T23:06:49.385932Z",
     "start_time": "2024-04-10T23:06:48.104876Z"
    }
   },
   "outputs": [],
   "source": [
    "bottom_pred = os.path.join(OUTDIR_BOTTOM, \"fimo.tsv\")\n",
    "top_pred = os.path.join(OUTDIR_TOP, \"fimo.tsv\")\n",
    "\n",
    "tdf = pd.read_csv(top_pred, sep='\\t')\n",
    "tdf[\"quantile\"] = 'top0.9'\n",
    "tdf[\"-log10q\"]  = -1*np.log10(tdf[\"q-value\"])\n",
    "print(tdf.shape)\n",
    "tdf.head()\n",
    "\n",
    "bdf = pd.read_csv(bottom_pred, sep='\\t')\n",
    "bdf[\"quantile\"] = 'bottom0.1'\n",
    "bdf[\"-log10q\"]  = -1*np.log10(bdf[\"q-value\"])\n",
    "print(bdf.shape)\n",
    "bdf.head()\n",
    "\n",
    "# concatenate the top and bottom values\n",
    "plot = pd.concat([tdf, bdf])\n",
    "plot = plot.loc[~plot[\"motif_alt_id\"].isna()]\n",
    "fig, ax= plt.subplots( figsize = (6,6))\n",
    "sns.violinplot(x=\"motif_alt_id\", y='-log10q', data= plot, hue=\"quantile\", \n",
    "               order = [\"MEME-1\", \"MEME-2\", \"MEME-3\"])\n",
    "ax.axhline(np.log10(0.05)*-1, ls=\"--\", color=\"grey\")\n",
    "ax.legend(frameon=False, loc='upper left')"
   ]
  },
  {
   "cell_type": "code",
   "execution_count": 38,
   "id": "ffc1c92f",
   "metadata": {
    "ExecuteTime": {
     "end_time": "2024-04-10T23:06:49.397924Z",
     "start_time": "2024-04-10T23:06:49.387548Z"
    }
   },
   "outputs": [],
   "source": [
    "IDS = [\"MEME-1\", \"MEME-2\", \"MEME-3\"]\n",
    "VAL =  \"-log10q\" #\"score\"\n",
    "for ID in IDS: \n",
    "\n",
    "    a = tdf.loc[tdf[\"motif_alt_id\"]==ID, VAL]\n",
    "    b = bdf.loc[bdf[\"motif_alt_id\"]==ID, VAL]\n",
    "    print(ID, stats.mannwhitneyu(a,b))"
   ]
  },
  {
   "cell_type": "code",
   "execution_count": 39,
   "id": "decc5535",
   "metadata": {
    "ExecuteTime": {
     "end_time": "2024-04-10T23:06:49.509055Z",
     "start_time": "2024-04-10T23:06:49.399568Z"
    }
   },
   "outputs": [],
   "source": [
    "plot.groupby([\"motif_alt_id\", \"quantile\"]).count()"
   ]
  },
  {
   "cell_type": "code",
   "execution_count": 40,
   "id": "a70d9e2a",
   "metadata": {
    "ExecuteTime": {
     "end_time": "2024-04-10T23:06:49.587889Z",
     "start_time": "2024-04-10T23:06:49.510666Z"
    }
   },
   "outputs": [],
   "source": [
    "# how many significant motifs in each group?\n",
    "plot.loc[plot[\"q-value\"]<=0.05].groupby([\"motif_alt_id\", \"quantile\"]).count()"
   ]
  },
  {
   "cell_type": "markdown",
   "id": "42d4be6a",
   "metadata": {},
   "source": [
    "## Experiment 3 - motif enrichment in repressed sequences? "
   ]
  },
  {
   "cell_type": "code",
   "execution_count": 41,
   "id": "385b1ea8",
   "metadata": {
    "ExecuteTime": {
     "end_time": "2024-04-10T23:06:50.308003Z",
     "start_time": "2024-04-10T23:06:49.589452Z"
    }
   },
   "outputs": [],
   "source": [
    "EXP_NAME =\"exp3\"\n",
    "DIRECTION = \"CTRL_UP\"\n",
    "\n",
    "### subset df by direction. \n",
    "\n",
    "df_dir = getDfDirectionSub(df, DIRECTION)\n",
    "\n",
    "### top and bottom 10% of direction changes. \n",
    "\n",
    "# top quantile of delta.means\n",
    "pos, pos_names, neg, neg_names = getQuantileDelta(df_dir, TOP_QUANTILE, df, False)\n",
    "\n",
    "plot = pd.concat([pos, neg])\n",
    "# fig,ax = plt.subplots(figsize=(6,6))\n",
    "hue_order = ['US_UP',\n",
    "             'CTRL_UP',\n",
    "             'Neg.US_DOWN',\n",
    "             'Neg.CTRL_DOWN',\n",
    "             'Pos.US_UP',\n",
    "             'Pos.CTRL_UP',\n",
    "             ]\n",
    "\n",
    "g = sns.jointplot(x=\"l2.ratio.mean.ctrl\", y=\"l2.ratio.mean.us\",\n",
    "                  data=plot, hue=\"direction\", hue_order=hue_order,\n",
    "                  palette='tab20'\n",
    "                 )\n",
    "g.ax_joint.legend(frameon=False, bbox_to_anchor=(2, 1))"
   ]
  },
  {
   "cell_type": "code",
   "execution_count": 42,
   "id": "53badbaf",
   "metadata": {
    "ExecuteTime": {
     "end_time": "2024-04-10T23:06:50.323535Z",
     "start_time": "2024-04-10T23:06:50.309648Z"
    }
   },
   "outputs": [],
   "source": [
    "# get enh ids, linked tiles from exp1 dataset\n",
    "exp1pos_enhnames, exp1pos_linkedtiles = getEnhSet(bj, exp1up)\n",
    "exp1neg_enhnames, exp1neg_linkedtiles = getEnhSet(bj, exp1down)"
   ]
  },
  {
   "cell_type": "code",
   "execution_count": 43,
   "id": "c19b8ba2",
   "metadata": {
    "ExecuteTime": {
     "end_time": "2024-04-10T23:06:51.481826Z",
     "start_time": "2024-04-10T23:06:50.325105Z"
    }
   },
   "outputs": [],
   "source": [
    "# remove exp 1 linked tiles\n",
    "pos_names_clean = set(pos_names).difference(set(exp1pos_linkedtiles))\n",
    "neg_names_clean = set(neg_names).difference(set(exp1neg_linkedtiles))\n",
    "\n",
    "# make fasta files from quantiles. \n",
    "FA_POS, FA_NEG = makeQuantileFasta(pos_names_clean, neg_names_clean, DIRECTION, RE_MEME_CL, TOP_QUANTILE, EXP_NAME, FASTA)\n",
    "\n",
    "\n",
    "# add to config\n",
    "config[section][f'{CL}.{DIRECTION}.{TOP_QUANTILE}.fa'] = FA_POS\n",
    "config[section][f'{CL}.{DIRECTION}.{BOTTOM_QUANTILE}.fa'] = FA_NEG\n",
    "\n",
    "crw.write(config, cfn)\n",
    "\n",
    "shuf = bj.loc[bj[\"label\"] == \"Shuffle\"]\n",
    "genome = bj.loc[bj[\"label\"] != \"Shuffle\"]\n",
    "\n",
    "fig, ax = plt.subplots()\n",
    "\n",
    "\"\"\"\n",
    "sns.histplot(x=\"delta.mean\", data=df_dir,\n",
    "             label=f\"{DIRECTION}\", stat=\"percent\", kde=True,\n",
    "             color=\"w\", common_norm=False\n",
    "            )\n",
    "            \n",
    "\"\"\"\n",
    "#sns.histplot(x=\"delta.mean\", data=shuf, label=\"shuffle\", kde=True,\n",
    " #            stat=\"percent\", color=\"grey\", common_norm=False)\n",
    "sns.histplot(x=\"delta.mean\", data=pos, label=f\"{DIRECTION} top {TOP_QUANTILE}\",\n",
    "             kde=True,common_norm=False, #color=\"orange\", \n",
    "             stat=\"percent\")\n",
    "sns.histplot(x=\"delta.mean\", data=neg, label=f\"{DIRECTION} bottom {BOTTOM_QUANTILE}\",\n",
    "             kde=True,common_norm=False, #color=\"blue\",\n",
    "             stat=\"percent\")\n",
    "plt.legend(frameon=False, loc=\"upper left\")\n",
    "\n",
    "shuf[\"delta.mean\"].quantile(0.975), pos[\"delta.mean\"].describe()\n",
    "\n",
    "pos.describe(), neg.describe()"
   ]
  },
  {
   "cell_type": "code",
   "execution_count": 44,
   "id": "d58909a0",
   "metadata": {
    "ExecuteTime": {
     "end_time": "2024-04-10T23:06:51.850435Z",
     "start_time": "2024-04-10T23:06:51.483465Z"
    }
   },
   "outputs": [],
   "source": [
    "OUTDIR_TOP =  runFimo(FIMO, MEME_TXT, FA_POS, DIRECTION, TOP_QUANTILE)\n",
    "OUTDIR_BOTTOM =  runFimo(FIMO, MEME_TXT, FA_NEG, DIRECTION, BOTTOM_QUANTILE)"
   ]
  },
  {
   "cell_type": "code",
   "execution_count": 45,
   "id": "c839e6d2",
   "metadata": {
    "ExecuteTime": {
     "end_time": "2024-04-10T23:06:52.125419Z",
     "start_time": "2024-04-10T23:06:51.852206Z"
    }
   },
   "outputs": [],
   "source": [
    "bottom_pred = os.path.join(OUTDIR_BOTTOM, \"fimo.tsv\")\n",
    "top_pred = os.path.join(OUTDIR_TOP, \"fimo.tsv\")\n",
    "\n",
    "tdf = pd.read_csv(top_pred, sep='\\t')\n",
    "tdf[\"quantile\"] = 'top0.9'\n",
    "tdf[\"-log10q\"] = -1*np.log10(tdf[\"q-value\"])\n",
    "print(tdf.shape)\n",
    "tdf.head()\n",
    "\n",
    "bdf = pd.read_csv(bottom_pred, sep='\\t')\n",
    "bdf[\"quantile\"] = 'bottom0.1'\n",
    "bdf[\"-log10q\"] = -1*np.log10(bdf[\"q-value\"])\n",
    "print(bdf.shape)\n",
    "bdf.head()\n",
    "\n",
    "# concatenate the top and bottom values\n",
    "plot = pd.concat([tdf, bdf])\n",
    "plot = plot.loc[~plot[\"motif_alt_id\"].isna()]\n",
    "\n",
    "fig, ax = plt.subplots(figsize=(6, 6))\n",
    "sns.violinplot(x=\"motif_alt_id\", y='-log10q', data=plot, hue=\"quantile\",\n",
    "               #hue_order=[\"bottom0.1\", \"top0.1\"],\n",
    "               order=[\"MEME-1\", \"MEME-2\", \"MEME-3\"])\n",
    "ax.axhline(np.log10(0.05)*-1, ls=\"--\", color=\"grey\")\n",
    "ax.legend(frameon=False, loc='upper left')"
   ]
  },
  {
   "cell_type": "code",
   "execution_count": 46,
   "id": "0df5a15e",
   "metadata": {
    "ExecuteTime": {
     "end_time": "2024-04-10T23:06:52.244899Z",
     "start_time": "2024-04-10T23:06:52.127051Z"
    }
   },
   "outputs": [],
   "source": [
    "IDS = [\"MEME-1\", \"MEME-2\", \"MEME-3\"]\n",
    "VAL =  \"-log10q\" #\"score\"\n",
    "for ID in IDS: \n",
    "\n",
    "    a = tdf.loc[tdf[\"motif_alt_id\"]==ID, VAL]\n",
    "    b = bdf.loc[bdf[\"motif_alt_id\"]==ID, VAL]\n",
    "    print(ID, stats.mannwhitneyu(a,b))"
   ]
  },
  {
   "cell_type": "code",
   "execution_count": 47,
   "id": "1dae3c52",
   "metadata": {
    "ExecuteTime": {
     "end_time": "2024-04-10T23:06:52.512195Z",
     "start_time": "2024-04-10T23:06:52.246475Z"
    }
   },
   "outputs": [],
   "source": [
    "plot.groupby([\"motif_alt_id\", \"quantile\"]).count()"
   ]
  },
  {
   "cell_type": "code",
   "execution_count": 48,
   "id": "8b3c221e",
   "metadata": {
    "ExecuteTime": {
     "end_time": "2024-04-10T23:06:52.982493Z",
     "start_time": "2024-04-10T23:06:52.513721Z"
    }
   },
   "outputs": [],
   "source": [
    "# how many significant motifs in each group?\n",
    "plot.loc[plot[\"q-value\"]<=0.05].groupby([\"motif_alt_id\", \"quantile\"]).count()"
   ]
  },
  {
   "cell_type": "markdown",
   "id": "7cfc18b5",
   "metadata": {},
   "source": [
    "## Experiment 4 - motifs in repressed sequences (CTRL positive, US reduced positive)"
   ]
  },
  {
   "cell_type": "code",
   "execution_count": 49,
   "id": "299587a2",
   "metadata": {
    "ExecuteTime": {
     "end_time": "2024-04-10T23:06:53.851597Z",
     "start_time": "2024-04-10T23:06:52.984199Z"
    }
   },
   "outputs": [],
   "source": [
    "EXP_NAME =\"exp4\"\n",
    "DIRECTION = \"Pos.CTRL_UP\"\n",
    "\n",
    "### subset df by direction. \n",
    "\n",
    "df_dir = getDfDirectionSub(df, DIRECTION)\n",
    "\n",
    "### top and bottom 10% of direction changes. \n",
    "\n",
    "# top quantile of delta.means\n",
    "pos, pos_names, neg, neg_names = getQuantileDelta(df_dir, TOP_QUANTILE, df, False)\n",
    "\n",
    "plot = pd.concat([pos, neg])\n",
    "# fig,ax = plt.subplots(figsize=(6,6))\n",
    "hue_order = ['US_UP',\n",
    "             'CTRL_UP',\n",
    "             'Neg.US_DOWN',\n",
    "             'Neg.CTRL_DOWN',\n",
    "             'Pos.US_UP',\n",
    "             'Pos.CTRL_UP',\n",
    "             ]\n",
    "\n",
    "g = sns.jointplot(x=\"l2.ratio.mean.ctrl\", y=\"l2.ratio.mean.us\",\n",
    "                  data=plot, hue=\"direction\", hue_order=hue_order,\n",
    "                  palette='tab20'\n",
    "                 )\n",
    "g.ax_joint.legend(frameon=False, bbox_to_anchor=(2, 1))"
   ]
  },
  {
   "cell_type": "code",
   "execution_count": 50,
   "id": "2f278af5",
   "metadata": {
    "ExecuteTime": {
     "end_time": "2024-04-10T23:06:53.868136Z",
     "start_time": "2024-04-10T23:06:53.853434Z"
    }
   },
   "outputs": [],
   "source": [
    "# get enh ids, linked tiles from exp1 dataset\n",
    "exp1pos_enhnames, exp1pos_linkedtiles = getEnhSet(bj, exp1up)\n",
    "exp1neg_enhnames, exp1neg_linkedtiles = getEnhSet(bj, exp1down)"
   ]
  },
  {
   "cell_type": "code",
   "execution_count": 51,
   "id": "ed64f5ad",
   "metadata": {
    "ExecuteTime": {
     "end_time": "2024-04-10T23:06:55.285136Z",
     "start_time": "2024-04-10T23:06:53.869967Z"
    }
   },
   "outputs": [],
   "source": [
    "# remove exp 1 linked tiles\n",
    "pos_names_clean = set(pos_names).difference(set(exp1pos_linkedtiles))\n",
    "neg_names_clean = set(neg_names).difference(set(exp1neg_linkedtiles))\n",
    "\n",
    "# make fasta files from quantiles. \n",
    "FA_POS, FA_NEG = makeQuantileFasta(pos_names_clean, neg_names_clean, DIRECTION, RE_MEME_CL, TOP_QUANTILE, EXP_NAME, FASTA)\n",
    "\n",
    "\n",
    "# add to config\n",
    "config[section][f'{CL}.{DIRECTION}.{TOP_QUANTILE}.fa'] = FA_POS\n",
    "config[section][f'{CL}.{DIRECTION}.{BOTTOM_QUANTILE}.fa'] = FA_NEG\n",
    "\n",
    "crw.write(config, cfn)\n",
    "\n",
    "shuf = bj.loc[bj[\"label\"] == \"Shuffle\"]\n",
    "genome = bj.loc[bj[\"label\"] != \"Shuffle\"]\n",
    "\n",
    "fig, ax = plt.subplots()\n",
    "\n",
    "\"\"\"\n",
    "sns.histplot(x=\"delta.mean\", data=df_dir,\n",
    "             label=f\"{DIRECTION}\", stat=\"percent\", kde=True,\n",
    "             color=\"w\", common_norm=False\n",
    "            )\n",
    "            \n",
    "\"\"\"\n",
    "#sns.histplot(x=\"delta.mean\", data=shuf, label=\"shuffle\", kde=True,\n",
    " #            stat=\"percent\", color=\"grey\", common_norm=False)\n",
    "sns.histplot(x=\"delta.mean\", data=pos, label=f\"{DIRECTION} top {TOP_QUANTILE}\",\n",
    "             kde=True,common_norm=False, #color=\"orange\", \n",
    "             stat=\"percent\")\n",
    "sns.histplot(x=\"delta.mean\", data=neg, label=f\"{DIRECTION} bottom {BOTTOM_QUANTILE}\",\n",
    "             kde=True,common_norm=False, #color=\"blue\",\n",
    "             stat=\"percent\")\n",
    "plt.legend(frameon=False, loc=\"upper left\")\n",
    "\n",
    "shuf[\"delta.mean\"].quantile(0.975), pos[\"delta.mean\"].describe()\n",
    "\n",
    "pos.describe(), neg.describe()"
   ]
  },
  {
   "cell_type": "code",
   "execution_count": 52,
   "id": "067c9c25",
   "metadata": {
    "ExecuteTime": {
     "end_time": "2024-04-10T23:06:55.921576Z",
     "start_time": "2024-04-10T23:06:55.287152Z"
    }
   },
   "outputs": [],
   "source": [
    "OUTDIR_TOP =  runFimo(FIMO, MEME_TXT, FA_POS, DIRECTION, TOP_QUANTILE)\n",
    "OUTDIR_BOTTOM =  runFimo(FIMO, MEME_TXT, FA_NEG, DIRECTION, BOTTOM_QUANTILE)"
   ]
  },
  {
   "cell_type": "code",
   "execution_count": 53,
   "id": "fd570d73",
   "metadata": {
    "ExecuteTime": {
     "end_time": "2024-04-10T23:06:55.943145Z",
     "start_time": "2024-04-10T23:06:55.923389Z"
    }
   },
   "outputs": [],
   "source": [
    "bottom_pred = os.path.join(OUTDIR_BOTTOM, \"fimo.tsv\")\n",
    "top_pred = os.path.join(OUTDIR_TOP, \"fimo.tsv\")\n",
    "\n",
    "tdf = pd.read_csv(top_pred, sep='\\t')\n",
    "tdf[\"quantile\"] = 'top0.9'\n",
    "tdf[\"-log10q\"] = -1*np.log10(tdf[\"q-value\"])\n",
    "print(tdf.shape)\n",
    "tdf.head()"
   ]
  },
  {
   "cell_type": "code",
   "execution_count": 54,
   "id": "10f0bfa1",
   "metadata": {
    "ExecuteTime": {
     "end_time": "2024-04-10T23:06:56.241021Z",
     "start_time": "2024-04-10T23:06:55.944745Z"
    }
   },
   "outputs": [],
   "source": [
    "bdf = pd.read_csv(bottom_pred, sep='\\t')\n",
    "bdf[\"quantile\"] = 'bottom0.1'\n",
    "#bdf[\"-log10q\"] = -1*np.log10(bdf[\"q-value\"])\n",
    "print(bdf.shape)\n",
    "bdf.head()"
   ]
  },
  {
   "cell_type": "code",
   "execution_count": 55,
   "id": "896d71a8",
   "metadata": {
    "ExecuteTime": {
     "end_time": "2024-04-10T23:06:56.571614Z",
     "start_time": "2024-04-10T23:06:56.242702Z"
    }
   },
   "outputs": [],
   "source": [
    "# concatenate the top and bottom values\n",
    "if bdf.shape[0]>3:\n",
    "    plot = pd.concat([tdf, bdf])\n",
    "else:\n",
    "    plot=tdf\n",
    "plot = plot.loc[~plot[\"motif_alt_id\"].isna()]\n",
    "\n",
    "fig, ax = plt.subplots(figsize=(6, 6))\n",
    "sns.violinplot(x=\"motif_alt_id\", y='-log10q', data=plot, hue=\"quantile\",\n",
    "               #hue_order=[\"bottom0.1\", \"top0.1\"],\n",
    "               order=[\"MEME-1\", \"MEME-2\", \"MEME-3\"])\n",
    "ax.axhline(np.log10(0.05)*-1, ls=\"--\", color=\"grey\")\n",
    "ax.legend(frameon=False, loc='upper left')"
   ]
  },
  {
   "cell_type": "code",
   "execution_count": 56,
   "id": "35579f01",
   "metadata": {
    "ExecuteTime": {
     "end_time": "2024-04-10T23:06:58.613794Z",
     "start_time": "2024-04-10T23:06:56.573432Z"
    }
   },
   "outputs": [],
   "source": [
    "IDS = [\"MEME-1\", \"MEME-2\", \"MEME-3\"]\n",
    "VAL =  \"-log10q\" #\"score\"\n",
    "for ID in IDS: \n",
    "\n",
    "    a = tdf.loc[tdf[\"motif_alt_id\"]==ID, VAL]\n",
    "    b = bdf.loc[bdf[\"motif_alt_id\"]==ID, VAL]\n",
    "    print(ID, stats.mannwhitneyu(a,b))"
   ]
  },
  {
   "cell_type": "code",
   "execution_count": null,
   "id": "a80abe81",
   "metadata": {
    "ExecuteTime": {
     "end_time": "2024-04-10T23:06:58.622954Z",
     "start_time": "2024-04-10T23:06:58.622937Z"
    }
   },
   "outputs": [],
   "source": [
    "plot.groupby([\"motif_alt_id\", \"quantile\"]).count()"
   ]
  },
  {
   "cell_type": "code",
   "execution_count": null,
   "id": "958d21a6",
   "metadata": {
    "ExecuteTime": {
     "end_time": "2024-04-10T23:06:58.624436Z",
     "start_time": "2024-04-10T23:06:58.624419Z"
    }
   },
   "outputs": [],
   "source": [
    "# how many significant motifs in each group?\n",
    "plot.loc[plot[\"q-value\"]<=0.05].groupby([\"motif_alt_id\", \"quantile\"]).count()"
   ]
  },
  {
   "cell_type": "markdown",
   "id": "c920d8dd",
   "metadata": {
    "ExecuteTime": {
     "end_time": "2024-03-08T16:08:37.830233Z",
     "start_time": "2024-03-08T16:08:37.827577Z"
    }
   },
   "source": [
    "# luciferase tested elements. "
   ]
  },
  {
   "cell_type": "markdown",
   "id": "40f5b04b",
   "metadata": {},
   "source": [
    "## load experiment data "
   ]
  },
  {
   "cell_type": "code",
   "execution_count": null,
   "id": "1f80f72d",
   "metadata": {
    "ExecuteTime": {
     "end_time": "2024-04-10T23:06:58.625664Z",
     "start_time": "2024-04-10T23:06:58.625647Z"
    }
   },
   "outputs": [],
   "source": [
    "LUC=\"/wynton/group/ahituv/fongsl/projects/US/data/validation_luc/Candidate_ID_table_luc.txt\"\n",
    "\n",
    "luc = pd.read_csv(LUC, sep='\\t')\n",
    "\n",
    "luc_names = list(luc[\"insert\"])  # list of tiles tested in luciferase\n",
    "\n",
    "\n",
    "# successful results where luciferase direction matches \n",
    "success = [\"BJ_D2\", \"BJ_D3\", \"BJ_D4\", \"BJ_D7\", \"BJ_D8\", 'BJ_D9', \"BJ_U9\"]\n",
    "\n",
    "# annotate dataframe with sucesses\n",
    "luc[\"success\"] = False\n",
    "luc.loc[luc[\"Sample name\"].isin(success), \"success\"] = True\n",
    "#luc.loc[~luc[\"Sample name\"].str.contains(CL), \"success\"] = \"other-cl\"\n",
    "\n",
    "luc.rename(columns = {\"insert\":\"sequence_name\", \n",
    "                     \"Sample name\": 'label_id'}, inplace=True)\n",
    "luc"
   ]
  },
  {
   "cell_type": "markdown",
   "id": "5a3b6e46",
   "metadata": {},
   "source": [
    "## make fasta"
   ]
  },
  {
   "cell_type": "code",
   "execution_count": null,
   "id": "65a0c456",
   "metadata": {
    "ExecuteTime": {
     "end_time": "2024-04-10T23:06:58.627061Z",
     "start_time": "2024-04-10T23:06:58.627045Z"
    }
   },
   "outputs": [],
   "source": [
    "LUC_FA = LUC.strip(\".txt\") + '.fa'\n",
    "filterWriteFasta(LUC_FA, FASTA, luc_names)"
   ]
  },
  {
   "cell_type": "markdown",
   "id": "c37ab7a8",
   "metadata": {},
   "source": [
    "## fimo"
   ]
  },
  {
   "cell_type": "code",
   "execution_count": null,
   "id": "b663589c",
   "metadata": {
    "ExecuteTime": {
     "end_time": "2024-04-10T23:06:58.628364Z",
     "start_time": "2024-04-10T23:06:58.628348Z"
    }
   },
   "outputs": [],
   "source": [
    "OUTDIR_LUC =  runFimo(FIMO, MEME_TXT, LUC_FA, \"Luc\", \"all\")"
   ]
  },
  {
   "cell_type": "code",
   "execution_count": null,
   "id": "537adddb",
   "metadata": {
    "ExecuteTime": {
     "end_time": "2024-04-10T23:06:58.629684Z",
     "start_time": "2024-04-10T23:06:58.629668Z"
    }
   },
   "outputs": [],
   "source": [
    "pred = os.path.join(OUTDIR_LUC, \"fimo.tsv\")\n",
    "\n",
    "tdf = pd.read_csv(pred, sep='\\t')\n",
    "tdf[\"quantile\"] = 'LUC.matches'\n",
    "tdf[\"-log10q\"]  = -1*np.log10(tdf[\"q-value\"])\n",
    "print(tdf.shape)\n",
    "tdf = tdf.loc[~tdf[\"motif_alt_id\"].isna()]\n",
    "tdf"
   ]
  },
  {
   "cell_type": "code",
   "execution_count": null,
   "id": "9c266f44",
   "metadata": {
    "ExecuteTime": {
     "end_time": "2024-04-10T23:06:58.630953Z",
     "start_time": "2024-04-10T23:06:58.630938Z"
    }
   },
   "outputs": [],
   "source": [
    "luc_fimo = pd.merge(luc[[\"label_id\", \"sequence_name\", \"success\"]],\n",
    "                    tdf, how=\"right\").sort_values(by='success', ascending=False)\n",
    "luc_fimo['label_id_success'] = luc_fimo[\"label_id\"] + \".success.\" + luc_fimo['success'].map(str)"
   ]
  },
  {
   "cell_type": "code",
   "execution_count": null,
   "id": "a38dc92e",
   "metadata": {
    "ExecuteTime": {
     "end_time": "2024-04-10T23:06:58.632340Z",
     "start_time": "2024-04-10T23:06:58.632324Z"
    }
   },
   "outputs": [],
   "source": [
    "x=\"motif_alt_id\"\n",
    "y=\"-log10q\"\n",
    "hue=\"label_id_success\"\n",
    "order=[\"MEME-1\", \"MEME-2\", \"MEME-3\"]\n",
    "data=luc_fimo.loc[luc_fimo[\"label_id\"].str.contains(CL)].sort_values(by='success', ascending=False)\n",
    "\n",
    "fig, ax = plt.subplots(figsize=(6,6))\n",
    "sns.stripplot(x=x,y=y, hue=hue, order=order, jitter=True,\n",
    "              data=data, dodge = True, s=10)\n",
    "ax.set(title=f\"{CL} luciferase\")\n",
    "ax.axhline(np.log10(0.05)*-1, ls=\"--\", color=\"grey\")\n",
    "ax.legend(title=\"success\", frameon=False, bbox_to_anchor=(1,1))"
   ]
  },
  {
   "cell_type": "code",
   "execution_count": null,
   "id": "0b343903",
   "metadata": {
    "ExecuteTime": {
     "end_time": "2024-04-10T23:06:58.633640Z",
     "start_time": "2024-04-10T23:06:58.633623Z"
    }
   },
   "outputs": [],
   "source": [
    "data.reset_index()"
   ]
  },
  {
   "cell_type": "code",
   "execution_count": null,
   "id": "05e9f8f0",
   "metadata": {
    "ExecuteTime": {
     "end_time": "2024-04-10T23:06:58.634909Z",
     "start_time": "2024-04-10T23:06:58.634893Z"
    }
   },
   "outputs": [],
   "source": [
    "table = data.groupby([\"motif_alt_id\", \"label_id\", \"success\"])['-log10q'].max().reset_index(\n",
    ").pivot(index=\"motif_alt_id\", columns=[ \"label_id\",], values=\"-log10q\")#.fillna(0)"
   ]
  },
  {
   "cell_type": "code",
   "execution_count": null,
   "id": "bcd84090",
   "metadata": {
    "ExecuteTime": {
     "end_time": "2024-04-10T23:06:58.636238Z",
     "start_time": "2024-04-10T23:06:58.636222Z"
    }
   },
   "outputs": [],
   "source": [
    "sns.heatmap(table,\n",
    "            mask=table<np.log10(0.05)*-1, \n",
    "            square=True, cmap=\"bwr\", \n",
    "            annot=True, \n",
    "            cbar_kws={\"label\":\"-log10q\"}\n",
    "           )"
   ]
  },
  {
   "cell_type": "code",
   "execution_count": null,
   "id": "d45e51ee",
   "metadata": {},
   "outputs": [],
   "source": []
  }
 ],
 "metadata": {
  "kernelspec": {
   "display_name": "Python 3 (ipykernel)",
   "language": "python",
   "name": "python3"
  },
  "language_info": {
   "codemirror_mode": {
    "name": "ipython",
    "version": 3
   },
   "file_extension": ".py",
   "mimetype": "text/x-python",
   "name": "python",
   "nbconvert_exporter": "python",
   "pygments_lexer": "ipython3",
   "version": "3.9.16"
  },
  "toc": {
   "base_numbering": 1,
   "nav_menu": {},
   "number_sections": true,
   "sideBar": true,
   "skip_h1_title": false,
   "title_cell": "Table of Contents",
   "title_sidebar": "Contents",
   "toc_cell": false,
   "toc_position": {
    "height": "calc(100% - 180px)",
    "left": "10px",
    "top": "150px",
    "width": "512px"
   },
   "toc_section_display": true,
   "toc_window_display": true
  },
  "varInspector": {
   "cols": {
    "lenName": 16,
    "lenType": 16,
    "lenVar": 40
   },
   "kernels_config": {
    "python": {
     "delete_cmd_postfix": "",
     "delete_cmd_prefix": "del ",
     "library": "var_list.py",
     "varRefreshCmd": "print(var_dic_list())"
    },
    "r": {
     "delete_cmd_postfix": ") ",
     "delete_cmd_prefix": "rm(",
     "library": "var_list.r",
     "varRefreshCmd": "cat(var_dic_list()) "
    }
   },
   "types_to_exclude": [
    "module",
    "function",
    "builtin_function_or_method",
    "instance",
    "_Feature"
   ],
   "window_display": false
  }
 },
 "nbformat": 4,
 "nbformat_minor": 5
}
