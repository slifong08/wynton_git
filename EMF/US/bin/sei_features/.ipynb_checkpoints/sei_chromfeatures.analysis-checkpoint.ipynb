{
 "cells": [
  {
   "cell_type": "code",
   "execution_count": 37,
   "id": "d34bdeb5",
   "metadata": {
    "ExecuteTime": {
     "end_time": "2023-09-07T00:30:33.364326Z",
     "start_time": "2023-09-07T00:30:33.354301Z"
    }
   },
   "outputs": [],
   "source": [
    "#from Bio.SeqIO.FastaIO import SimpleFastaParser\n",
    "from Bio.SeqUtils import gc_fraction\n",
    "\n",
    "import h5py\n",
    "# for plotting\n",
    "from matplotlib import cm\n",
    "import matplotlib.pyplot as plt\n",
    "from matplotlib.patches import Patch\n",
    "import seaborn as sns\n",
    "\n",
    "# for analysis\n",
    "import numpy as np\n",
    "import os\n",
    "import pandas as pd\n",
    "\n",
    "# for modeling\n",
    "from scipy.cluster.hierarchy import dendrogram, linkage\n",
    "from scipy.stats import spearmanr\n",
    "\n",
    "from sklearn.linear_model import Lasso, LinearRegression, LogisticRegression, Ridge, RidgeCV, ElasticNet\n",
    "\n",
    "from sklearn.decomposition import PCA\n",
    "from sklearn.preprocessing import StandardScaler\n",
    "from sklearn.model_selection import train_test_split, RepeatedKFold, GridSearchCV, cross_validate\n",
    "from sklearn.model_selection import GroupShuffleSplit, StratifiedGroupKFold, StratifiedKFold\n",
    "from sklearn.pipeline import Pipeline\n",
    "\n",
    "from sklearn.metrics import roc_curve, roc_auc_score, mean_squared_error, mean_absolute_error, precision_recall_curve, f1_score, auc, mean_squared_error,r2_score\n",
    "\n",
    "import statsmodels.api as sm\n",
    "\n",
    "import sys\n",
    "import config_readwrite as crw"
   ]
  },
  {
   "cell_type": "code",
   "execution_count": 2,
   "id": "b2acc809",
   "metadata": {
    "ExecuteTime": {
     "end_time": "2023-09-07T00:05:32.513433Z",
     "start_time": "2023-09-07T00:05:32.504880Z"
    }
   },
   "outputs": [],
   "source": [
    "config, cfn = crw.read(os.path.join(os.path.dirname(os.path.dirname(os.getcwd())), \"config.ini\"))\n",
    "\n",
    "sei_config, sei_cfn = crw.read(\"/wynton/home/ahituv/fongsl/EMF/US/data/sei.config.ini\")\n",
    "section = \"sei\"\n",
    "\n",
    "CHROM_PRED = sei_config[section][\"chrom_pred\"]\n",
    "CLASS_PRED = sei_config[section][\"class_pred\"]\n",
    "CLASS_TABLE = sei_config[section][\"class_table\"]\n",
    "FASTA = sei_config[section][\"fasta\"]\n",
    "FASTA_INDEX = sei_config[section]['fasta_index']\n",
    "LABEL = sei_config[section][\"LABELS\"]\n",
    "SEI_CHROM_LABELS = sei_config[section][\"SEI_CHROM_LABELS\"]\n",
    "\n",
    "RE = config[section][\"results\"]\n",
    "\n",
    "section= \"data\"\n",
    "MPRA = config[section][\"hepg2.clean.trans.scaled\"]\n",
    "TILEBED = config[section][\"bed.atac.k27ac.tiles\"]"
   ]
  },
  {
   "cell_type": "markdown",
   "id": "b55528e7",
   "metadata": {},
   "source": [
    "# functions"
   ]
  },
  {
   "cell_type": "code",
   "execution_count": 3,
   "id": "c768194b",
   "metadata": {
    "ExecuteTime": {
     "end_time": "2023-09-07T00:05:33.103729Z",
     "start_time": "2023-09-07T00:05:32.516231Z"
    }
   },
   "outputs": [],
   "source": [
    "def returnSequenceClassLabels():\n",
    "    file = \"/wynton/home/ahituv/fongsl/bin/sei-framework/sequence_class_labels.csv\"\n",
    "    lab = pd.read_csv(file)\n",
    "\n",
    "    return lab\n",
    "\n",
    "def processLabel(label_file, index_file):\n",
    "    \"\"\"\n",
    "    input \n",
    "        label_file  (str) - path with the labels for the sequences run through the DNN\n",
    "\n",
    "    Method\n",
    "        1. opens sequence label file as pd dataframe\n",
    "        2. if not none, read index file\n",
    "        3. return label or label+index file\n",
    "    \"\"\"\n",
    "\n",
    "    #1\n",
    "    label = pd.read_csv(label_file, sep='\\t', usecols = [\"name\"])\n",
    "    label = label.rename(columns={\"name\":\"seq_id\"})\n",
    "    print('label file', label.shape)\n",
    "\n",
    "    # if index file exists, read index file\n",
    "    if index_file is not None:\n",
    "        index = pd.read_csv(index_file, sep='\\t', header=None, names=[\"seq_id\",\"name\"])\n",
    "        print(\"index file\", index.shape)\n",
    "\n",
    "        \n",
    "        return pd.merge(label, index)\n",
    "    else:\n",
    "        return label\n",
    "    \n",
    "\n",
    "    \n",
    "def makeClassPredTable(class_pred, labels, index_file, table_file):\n",
    "\n",
    "    # get sequence class labels from function above\n",
    "    seqClass = returnSequenceClassLabels()\n",
    "    \n",
    "    # open npy data\n",
    "    data = np.load(class_pred, allow_pickle=True)\n",
    "\n",
    "    # turn into pd dataframe\n",
    "    df = pd.DataFrame(data)\n",
    "\n",
    "    # rename columns\n",
    "    df.columns = list(seqClass[\"#Sequence class label\"])[:-1]\n",
    "\n",
    "    # process labels file\n",
    "    lab = processLabel(labels, index_file)\n",
    "\n",
    "    # add labels and data together\n",
    "    df = pd.merge(lab, df, left_index=True, right_index=True)\n",
    "\n",
    "    # write table to table file. \n",
    "    df.to_csv(table_file, sep='\\t', index=False, compression=\"gzip\")\n",
    "    \n",
    "    return df\n",
    "\n",
    "def returnSequenceClassLabels():\n",
    "    file = \"/wynton/home/ahituv/fongsl/bin/sei-framework/sequence_class_labels.csv\"\n",
    "    lab = pd.read_csv(file)\n",
    "\n",
    "    return lab\n",
    "\n",
    "def seqClassLookup(annot_list):\n",
    "    print(seqClass.loc[seqClass[seqClass.columns[0]].isin(annot_list)])\n",
    "\n",
    "\n",
    "def getColorMap(col, df, cmap):\n",
    "    \n",
    "    lut = dict(zip(df[col].unique(), cmap))\n",
    "    print(lut)\n",
    "\n",
    "    row_colors = df[col].map(lut)\n",
    "\n",
    "    return row_colors, lut\n",
    "\n",
    "def plotClusterMap(table, outhandle, seq_coor):\n",
    "    sns.clustermap(table, cmap=\"bwr\", center=0,\n",
    "                       figsize=(15, 15))\n",
    "        \n",
    "    plt.savefig(os.path.join(RE, f\"{outhandle}.{seq_coor}.pdf\"))\n",
    "    plt.show()"
   ]
  },
  {
   "cell_type": "markdown",
   "id": "89ef2dac",
   "metadata": {},
   "source": [
    "# sei"
   ]
  },
  {
   "cell_type": "code",
   "execution_count": 4,
   "id": "2ed5c158",
   "metadata": {
    "ExecuteTime": {
     "end_time": "2023-09-07T00:05:34.016292Z",
     "start_time": "2023-09-07T00:05:33.106266Z"
    }
   },
   "outputs": [],
   "source": [
    "def readH5df(file):\n",
    "    h5in=h5py.File(file, \"r\")\n",
    "    hdf = pd.DataFrame(np.array(h5in[\"data\"]))\n",
    "    \n",
    "    return hdf\n",
    "\n",
    "def getQueryDf(chrom_df, col_indexes, col_names):\n",
    "    \n",
    "    query = chrom_df[col_indexes].copy()\n",
    "    query.columns = col_names\n",
    "    print(chrom_df.shape, query.shape)\n",
    "    \n",
    "    return query"
   ]
  },
  {
   "cell_type": "markdown",
   "id": "8283c001",
   "metadata": {},
   "source": [
    "## params - cell lines"
   ]
  },
  {
   "cell_type": "code",
   "execution_count": 5,
   "id": "ef113d54",
   "metadata": {
    "ExecuteTime": {
     "end_time": "2023-09-07T00:05:34.408674Z",
     "start_time": "2023-09-07T00:05:34.018678Z"
    }
   },
   "outputs": [],
   "source": [
    "QUERY = \"HepG2\""
   ]
  },
  {
   "cell_type": "markdown",
   "id": "3cba2b9f",
   "metadata": {},
   "source": [
    "## sei cell line predictions"
   ]
  },
  {
   "cell_type": "code",
   "execution_count": 6,
   "id": "af4f9779",
   "metadata": {
    "ExecuteTime": {
     "end_time": "2023-09-07T00:05:34.565842Z",
     "start_time": "2023-09-07T00:05:34.410641Z"
    }
   },
   "outputs": [
    {
     "name": "stdout",
     "output_type": "stream",
     "text": [
      "142 HepG2_Epithelium_Liver|CEBPA|ID:1374\n",
      "\n",
      "143 HepG2_Epithelium_Liver|CEBPA|ID:1375\n",
      "\n",
      "144 HepG2_Epithelium_Liver|CTCF|ID:1380\n",
      "\n",
      "145 HepG2_Epithelium_Liver|CTCF|ID:1381\n",
      "\n",
      "146 HepG2_Epithelium_Liver|CTCF|ID:1382\n",
      "\n",
      "147 HepG2_Epithelium_Liver|CTCF|ID:1383\n",
      "\n",
      "148 HepG2_Epithelium_Liver|HNF4A|ID:1447\n",
      "\n",
      "149 HepG2_Epithelium_Liver|HNF4A|ID:1448\n",
      "\n",
      "150 HepG2_Epithelium_Liver|HNF4A|ID:1449\n",
      "\n",
      "151 HepG2_Epithelium_Liver|NR2C2|ID:1463\n",
      "\n",
      "152 HepG2_Epithelium_Liver|NR2C2|ID:1464\n",
      "\n",
      "153 HepG2_Epithelium_Liver|RAD21|ID:1470\n",
      "\n",
      "154 HepG2_Epithelium_Liver|RAD21|ID:1471\n",
      "\n",
      "155 HepG2_Epithelium_Liver|STAG1|ID:1492\n",
      "\n",
      "156 HepG2_Epithelium_Liver|STAG1|ID:1493\n",
      "\n",
      "984 HepG2_Epithelium_Liver|DNase|ID:33596\n",
      "\n",
      "989 HepG2_Epithelium_Liver|FAIRE|ID:33602\n",
      "\n",
      "990 HepG2_Epithelium_Liver|DNase|ID:33603\n",
      "\n",
      "991 HepG2_Epithelium_Liver|FAIRE|ID:33605\n",
      "\n",
      "995 HepG2_Epithelium_Liver|FAIRE|ID:33609\n",
      "\n",
      "998 HepG2_Epithelium_Liver|DNase|ID:33612\n",
      "\n",
      "1525 HepG2_Epithelium_Liver|H3K4me3|ID:35922\n",
      "\n",
      "1526 HepG2_Epithelium_Liver|H3K4me3|ID:35923\n",
      "\n",
      "1739 HepG2_Epithelium_Liver|H3K4me3|ID:36576\n",
      "\n",
      "1745 HepG2_Epithelium_Liver|H3K9ac|ID:36584\n",
      "\n",
      "1749 HepG2_Epithelium_Liver|H3K4me2|ID:36590\n",
      "\n",
      "1755 HepG2_Epithelium_Liver|CTCF|ID:36602\n",
      "\n",
      "1756 HepG2_Epithelium_Liver|H3K27ac|ID:36604\n",
      "\n",
      "1757 HepG2_Epithelium_Liver|H3K9ac|ID:36606\n",
      "\n",
      "1762 HepG2_Epithelium_Liver|CTCF|ID:36612\n",
      "\n",
      "1765 HepG2_Epithelium_Liver|H3K27ac|ID:36617\n",
      "\n",
      "1780 HepG2_Epithelium_Liver|H3K4me3|ID:36641\n",
      "\n",
      "1787 HepG2_Epithelium_Liver|H3K4me1|ID:36651\n",
      "\n",
      "1789 HepG2_Epithelium_Liver|H3K4me2|ID:36653\n",
      "\n",
      "2921 HepG2_Epithelium_Liver|DNase|ID:40606\n",
      "\n",
      "3013 HepG2_Epithelium_Liver|DNase|ID:40772\n",
      "\n",
      "4574 HepG2_Epithelium_Liver|DNase|ID:44961\n",
      "\n",
      "4575 HepG2_Epithelium_Liver|DNase|ID:44962\n",
      "\n",
      "4840 HepG2_Epithelium_Liver|H3K79me2|ID:45292\n",
      "\n",
      "4841 HepG2_Epithelium_Liver|H3K4me3|ID:45293\n",
      "\n",
      "4842 HepG2_Epithelium_Liver|EZH2|ID:45294\n",
      "\n",
      "4843 HepG2_Epithelium_Liver|H2AZ|ID:45296\n",
      "\n",
      "4844 HepG2_Epithelium_Liver|H3K36me3|ID:45297\n",
      "\n",
      "4845 HepG2_Epithelium_Liver|H3K4me1|ID:45298\n",
      "\n",
      "4846 HepG2_Epithelium_Liver|H3K27ac|ID:45299\n",
      "\n",
      "4847 HepG2_Epithelium_Liver|H3K9me3|ID:45300\n",
      "\n",
      "4848 HepG2_Epithelium_Liver|H3K36me3|ID:45301\n",
      "\n",
      "4849 HepG2_Epithelium_Liver|H3K27me3|ID:45302\n",
      "\n",
      "4850 HepG2_Epithelium_Liver|CTCF|ID:45303\n",
      "\n",
      "4851 HepG2_Epithelium_Liver|H3K9ac|ID:45305\n",
      "\n",
      "4852 HepG2_Epithelium_Liver|H3K4me3|ID:45306\n",
      "\n",
      "4853 HepG2_Epithelium_Liver|H3K4me2|ID:45307\n",
      "\n",
      "5305 HepG2_Epithelium_Liver|MAZ|ID:45788\n",
      "\n",
      "5306 HepG2_Epithelium_Liver|CEBPB|ID:45789\n",
      "\n",
      "5307 HepG2_Epithelium_Liver|HNF4A|ID:45790\n",
      "\n",
      "5308 HepG2_Epithelium_Liver|TBP|ID:45791\n",
      "\n",
      "5309 HepG2_Epithelium_Liver|POLR2A|ID:45792\n",
      "\n",
      "5310 HepG2_Epithelium_Liver|SREBF1|ID:45793\n",
      "\n",
      "5311 HepG2_Epithelium_Liver|CTCF|ID:45794\n",
      "\n",
      "5312 HepG2_Epithelium_Liver|CTCF|ID:45795\n",
      "\n",
      "5313 HepG2_Epithelium_Liver|ESRRA|ID:45796\n",
      "\n",
      "5314 HepG2_Epithelium_Liver|MAX|ID:45797\n",
      "\n",
      "5315 HepG2_Epithelium_Liver|RCOR1|ID:45798\n",
      "\n",
      "5316 HepG2_Epithelium_Liver|PPARGC1A|ID:45799\n",
      "\n",
      "5317 HepG2_Epithelium_Liver|NR2C2|ID:45800\n",
      "\n",
      "5318 HepG2_Epithelium_Liver|MAFF|ID:45801\n",
      "\n",
      "5319 HepG2_Epithelium_Liver|CHD2|ID:45802\n",
      "\n",
      "5320 HepG2_Epithelium_Liver|GRP20|ID:45803\n",
      "\n",
      "5321 HepG2_Epithelium_Liver|USF2|ID:45804\n",
      "\n",
      "5322 HepG2_Epithelium_Liver|CEBPZ|ID:45805\n",
      "\n",
      "5323 HepG2_Epithelium_Liver|ARID3A|ID:45806\n",
      "\n",
      "5324 HepG2_Epithelium_Liver|BHLHE40|ID:45807\n",
      "\n",
      "5325 HepG2_Epithelium_Liver|CTCF|ID:45808\n",
      "\n",
      "5326 HepG2_Epithelium_Liver|BRCA1|ID:45809\n",
      "\n",
      "5327 HepG2_Epithelium_Liver|MXI1|ID:45810\n",
      "\n",
      "5328 HepG2_Epithelium_Liver|NRF1|ID:45813\n",
      "\n",
      "5329 HepG2_Epithelium_Liver|CEBPB|ID:45814\n",
      "\n",
      "5330 HepG2_Epithelium_Liver|MAFK|ID:45815\n",
      "\n",
      "5331 HepG2_Epithelium_Liver|SMC3|ID:45816\n",
      "\n",
      "5332 HepG2_Epithelium_Liver|MAFK|ID:45817\n",
      "\n",
      "5333 HepG2_Epithelium_Liver|RAD21|ID:45818\n",
      "\n",
      "5334 HepG2_Epithelium_Liver|POLR2A|ID:45819\n",
      "\n",
      "5335 HepG2_Epithelium_Liver|HSF1|ID:45820\n",
      "\n",
      "5336 HepG2_Epithelium_Liver|POLR2A|ID:45821\n",
      "\n",
      "5337 HepG2_Epithelium_Liver|EP300|ID:45822\n",
      "\n",
      "5338 HepG2_Epithelium_Liver|RFX5|ID:45823\n",
      "\n",
      "5339 HepG2_Epithelium_Liver|TCF7L2|ID:45825\n",
      "\n",
      "5340 HepG2_Epithelium_Liver|POLR2A|ID:45826\n",
      "\n",
      "5341 HepG2_Epithelium_Liver|MYC|ID:45827\n",
      "\n",
      "5342 HepG2_Epithelium_Liver|JUND|ID:45828\n",
      "\n",
      "5343 HepG2_Epithelium_Liver|POLR2A|ID:45829\n",
      "\n",
      "5344 HepG2_Epithelium_Liver|JUN|ID:45830\n",
      "\n",
      "5345 HepG2_Epithelium_Liver|IRF3|ID:45831\n",
      "\n",
      "5738 HepG2_Epithelium_Liver|SRF|ID:46223\n",
      "\n",
      "5739 HepG2_Epithelium_Liver|ZBTB7A|ID:46224\n",
      "\n",
      "5740 HepG2_Epithelium_Liver|EP300|ID:46225\n",
      "\n",
      "5741 HepG2_Epithelium_Liver|YY1|ID:46226\n",
      "\n",
      "5742 HepG2_Epithelium_Liver|FOXA2|ID:46227\n",
      "\n",
      "5743 HepG2_Epithelium_Liver|TCF12|ID:46228\n",
      "\n",
      "5744 HepG2_Epithelium_Liver|ZBTB33|ID:46229\n",
      "\n",
      "5745 HepG2_Epithelium_Liver|CEBPD|ID:46230\n",
      "\n",
      "5746 HepG2_Epithelium_Liver|CREB1|ID:46231\n",
      "\n",
      "5747 HepG2_Epithelium_Liver|JUND|ID:46232\n",
      "\n",
      "5748 HepG2_Epithelium_Liver|CEBPB|ID:46233\n",
      "\n",
      "5749 HepG2_Epithelium_Liver|SP1|ID:46234\n",
      "\n",
      "5750 HepG2_Epithelium_Liver|HDAC2|ID:46235\n",
      "\n",
      "5751 HepG2_Epithelium_Liver|SIN3A|ID:46236\n",
      "\n",
      "5752 HepG2_Epithelium_Liver|GABPA|ID:46237\n",
      "\n",
      "5753 HepG2_Epithelium_Liver|TEAD4|ID:46238\n",
      "\n",
      "5754 HepG2_Epithelium_Liver|HNF4G|ID:46239\n",
      "\n",
      "5755 HepG2_Epithelium_Liver|NFIC|ID:46240\n",
      "\n",
      "5756 HepG2_Epithelium_Liver|MYBL2|ID:46241\n",
      "\n",
      "5757 HepG2_Epithelium_Liver|RXRA|ID:46242\n",
      "\n",
      "5758 HepG2_Epithelium_Liver|FOSL2|ID:46243\n",
      "\n",
      "5759 HepG2_Epithelium_Liver|MAX|ID:46244\n",
      "\n",
      "5760 HepG2_Epithelium_Liver|ZEB1|ID:46245\n",
      "\n",
      "5761 HepG2_Epithelium_Liver|SP2|ID:46246\n",
      "\n",
      "5762 HepG2_Epithelium_Liver|POLR2A|ID:46247\n",
      "\n",
      "5763 HepG2_Epithelium_Liver|USF1|ID:46248\n",
      "\n",
      "5764 HepG2_Epithelium_Liver|NR2F2|ID:46249\n",
      "\n",
      "5765 HepG2_Epithelium_Liver|CTCF|ID:46250\n",
      "\n",
      "5766 HepG2_Epithelium_Liver|MBD4|ID:46251\n",
      "\n",
      "5767 HepG2_Epithelium_Liver|RAD21|ID:46252\n",
      "\n",
      "5768 HepG2_Epithelium_Liver|REST|ID:46253\n",
      "\n",
      "5769 HepG2_Epithelium_Liver|ELF1|ID:46254\n",
      "\n",
      "5770 HepG2_Epithelium_Liver|ZBTB33|ID:46255\n",
      "\n",
      "5771 HepG2_Epithelium_Liver|POLR2A|ID:46256\n",
      "\n",
      "5772 HepG2_Epithelium_Liver|REST|ID:46257\n",
      "\n",
      "5773 HepG2_Epithelium_Liver|TAF1|ID:46258\n",
      "\n",
      "7479 HepG2_Epithelium_Liver|KDM1B|ID:51251\n",
      "\n",
      "7480 HepG2_Epithelium_Liver|H3K4me1|ID:51255\n",
      "\n",
      "9044 HepG2_Epithelium_Liver|RAD21|ID:56037\n",
      "\n",
      "9045 HepG2_Epithelium_Liver|RAD21|ID:56038\n",
      "\n",
      "9046 HepG2_Epithelium_Liver|RAD21|ID:56039\n",
      "\n",
      "9047 HepG2_Epithelium_Liver|RAD21|ID:56040\n",
      "\n",
      "9048 HepG2_Epithelium_Liver|RAD21|ID:56041\n",
      "\n",
      "9049 HepG2_Epithelium_Liver|GABPA|ID:56042\n",
      "\n",
      "9050 HepG2_Epithelium_Liver|GABPA|ID:56043\n",
      "\n",
      "9051 HepG2_Epithelium_Liver|GABPA|ID:56044\n",
      "\n",
      "9052 HepG2_Epithelium_Liver|GABPA|ID:56045\n",
      "\n",
      "9053 HepG2_Epithelium_Liver|GABPA|ID:56046\n",
      "\n",
      "9054 HepG2_Epithelium_Liver|CREB1|ID:56047\n",
      "\n",
      "9055 HepG2_Epithelium_Liver|CREB1|ID:56048\n",
      "\n",
      "9056 HepG2_Epithelium_Liver|CREB1|ID:56049\n",
      "\n",
      "9057 HepG2_Epithelium_Liver|CREB1|ID:56050\n",
      "\n",
      "9058 HepG2_Epithelium_Liver|CREB1|ID:56051\n",
      "\n",
      "9059 HepG2_Epithelium_Liver|CREB1|ID:56052\n",
      "\n",
      "9060 HepG2_Epithelium_Liver|ATF1|ID:56053\n",
      "\n",
      "9061 HepG2_Epithelium_Liver|ATF1|ID:56054\n",
      "\n",
      "9230 HepG2_Epithelium_Liver|H3K4me3|ID:56569\n",
      "\n",
      "9231 HepG2_Epithelium_Liver|POLR2A|ID:56570\n",
      "\n",
      "9232 HepG2_Epithelium_Liver|H3K27ac|ID:56571\n",
      "\n",
      "9946 HepG2_Epithelium_Liver|ARID1A|ID:58462\n",
      "\n",
      "10792 HepG2_Epithelium_Liver|PLRG1|ID:62557\n",
      "\n",
      "10793 HepG2_Epithelium_Liver|PLRG1|ID:62558\n",
      "\n",
      "10818 HepG2_Epithelium_Liver|RAD21|ID:62607\n",
      "\n",
      "10819 HepG2_Epithelium_Liver|RAD21|ID:62608\n",
      "\n",
      "10846 HepG2_Epithelium_Liver|RAD51|ID:62652\n",
      "\n",
      "10847 HepG2_Epithelium_Liver|RAD51|ID:62653\n",
      "\n",
      "10894 HepG2_Epithelium_Liver|TFAP4|ID:62715\n",
      "\n",
      "10895 HepG2_Epithelium_Liver|TFAP4|ID:62716\n",
      "\n",
      "10977 HepG2_Epithelium_Liver|DNMT3B|ID:62874\n",
      "\n",
      "10978 HepG2_Epithelium_Liver|DNMT3B|ID:62875\n",
      "\n",
      "10997 HepG2_Epithelium_Liver|FOXK2|ID:62912\n",
      "\n",
      "10998 HepG2_Epithelium_Liver|FOXK2|ID:62913\n",
      "\n",
      "11118 HepG2_Epithelium_Liver|PRPF4|ID:63089\n",
      "\n",
      "11119 HepG2_Epithelium_Liver|PRPF4|ID:63090\n",
      "\n",
      "11131 HepG2_Epithelium_Liver|ATF1|ID:63104\n",
      "\n",
      "11132 HepG2_Epithelium_Liver|ATF1|ID:63105\n",
      "\n",
      "11136 HepG2_Epithelium_Liver|HNRNPLL|ID:63112\n",
      "\n",
      "11141 HepG2_Epithelium_Liver|MBD1_isoform2|ID:63122\n",
      "\n",
      "11142 HepG2_Epithelium_Liver|MBD1_isoform2|ID:63123\n",
      "\n",
      "11146 HepG2_Epithelium_Liver|MNT|ID:63127\n",
      "\n",
      "11147 HepG2_Epithelium_Liver|MNT|ID:63128\n",
      "\n",
      "11154 HepG2_Epithelium_Liver|FOXA1|ID:63146\n",
      "\n",
      "11155 HepG2_Epithelium_Liver|FOXA1|ID:63147\n",
      "\n",
      "11162 HepG2_Epithelium_Liver|GABP|ID:63155\n",
      "\n",
      "11163 HepG2_Epithelium_Liver|GABP|ID:63156\n",
      "\n",
      "11173 HepG2_Epithelium_Liver|IKZF1|ID:63179\n",
      "\n",
      "11174 HepG2_Epithelium_Liver|IKZF1|ID:63180\n",
      "\n",
      "11218 HepG2_Epithelium_Liver|DROSHA|ID:63270\n",
      "\n",
      "11219 HepG2_Epithelium_Liver|DROSHA|ID:63271\n",
      "\n",
      "11237 HepG2_Epithelium_Liver|CREB1|ID:63305\n",
      "\n",
      "11238 HepG2_Epithelium_Liver|CREB1|ID:63306\n",
      "\n",
      "11241 HepG2_Epithelium_Liver|SP1|ID:63311\n",
      "\n",
      "11242 HepG2_Epithelium_Liver|SP1|ID:63312\n",
      "\n",
      "11243 HepG2_Epithelium_Liver|HDAC2|ID:63314\n",
      "\n",
      "11244 HepG2_Epithelium_Liver|HDAC2|ID:63315\n",
      "\n",
      "11342 HepG2_Epithelium_Liver|MBD1_isoform1|ID:63464\n",
      "\n",
      "11343 HepG2_Epithelium_Liver|MBD1_isoform1|ID:63465\n",
      "\n",
      "11418 HepG2_Epithelium_Liver|TCF7|ID:63591\n",
      "\n",
      "11419 HepG2_Epithelium_Liver|TCF7|ID:63592\n",
      "\n",
      "11420 HepG2_Epithelium_Liver|SOX13|ID:63593\n",
      "\n",
      "11421 HepG2_Epithelium_Liver|SOX13|ID:63594\n",
      "\n",
      "11534 HepG2_Epithelium_Liver|NR2F6|ID:63771\n",
      "\n",
      "11535 HepG2_Epithelium_Liver|NR2F6|ID:63772\n",
      "\n",
      "11544 HepG2_Epithelium_Liver|RNF2|ID:63791\n",
      "\n",
      "11545 HepG2_Epithelium_Liver|RNF2|ID:63792\n",
      "\n",
      "11551 HepG2_Epithelium_Liver|ZBTB40|ID:63799\n",
      "\n",
      "11553 HepG2_Epithelium_Liver|ZBTB40|ID:63800\n",
      "\n",
      "11555 HepG2_Epithelium_Liver|HLF|ID:63808\n",
      "\n",
      "11556 HepG2_Epithelium_Liver|HLF|ID:63809\n",
      "\n",
      "11655 HepG2_Epithelium_Liver|SSRP1|ID:63942\n",
      "\n",
      "11656 HepG2_Epithelium_Liver|SSRP1|ID:63943\n",
      "\n",
      "11676 HepG2_Epithelium_Liver|GATA4|ID:63974\n",
      "\n",
      "11677 HepG2_Epithelium_Liver|GATA4|ID:63975\n",
      "\n",
      "11721 HepG2_Epithelium_Liver|HBP1|ID:64038\n",
      "\n",
      "11722 HepG2_Epithelium_Liver|HBP1|ID:64039\n",
      "\n",
      "11790 HepG2_Epithelium_Liver|HHEX|ID:64139\n",
      "\n",
      "11792 HepG2_Epithelium_Liver|HHEX|ID:64140\n",
      "\n",
      "11813 HepG2_Epithelium_Liver|ATF4|ID:64175\n",
      "\n",
      "11814 HepG2_Epithelium_Liver|ATF4|ID:64176\n",
      "\n",
      "11831 HepG2_Epithelium_Liver|ZNF207|ID:64209\n",
      "\n",
      "11833 HepG2_Epithelium_Liver|ZNF207|ID:64210\n",
      "\n",
      "11903 HepG2_Epithelium_Liver|ETV4|ID:64317\n",
      "\n",
      "11904 HepG2_Epithelium_Liver|ETV4|ID:64318\n",
      "\n",
      "12048 HepG2_Epithelium_Liver|YBX1|ID:64543\n",
      "\n",
      "12049 HepG2_Epithelium_Liver|YBX1|ID:64544\n",
      "\n",
      "12050 HepG2_Epithelium_Liver|HNF1A|ID:64546\n",
      "\n",
      "12051 HepG2_Epithelium_Liver|HNF1A|ID:64547\n",
      "\n",
      "12075 HepG2_Epithelium_Liver|CBX1|ID:64581\n",
      "\n",
      "12076 HepG2_Epithelium_Liver|CBX1|ID:64582\n",
      "\n",
      "12130 HepG2_Epithelium_Liver|ZMYM3|ID:64656\n",
      "\n",
      "12131 HepG2_Epithelium_Liver|ZMYM3|ID:64657\n",
      "\n",
      "12134 HepG2_Epithelium_Liver|PBX2|ID:64660\n",
      "\n",
      "12135 HepG2_Epithelium_Liver|PBX2|ID:64661\n",
      "\n",
      "12138 HepG2_Epithelium_Liver|NRF1|ID:64667\n",
      "\n",
      "12139 HepG2_Epithelium_Liver|NRF1|ID:64668\n",
      "\n",
      "12205 HepG2_Epithelium_Liver|SRSF3|ID:64770\n",
      "\n",
      "12206 HepG2_Epithelium_Liver|SRSF3|ID:64771\n",
      "\n",
      "12228 HepG2_Epithelium_Liver|CREM|ID:64797\n",
      "\n",
      "12229 HepG2_Epithelium_Liver|CREM|ID:64798\n",
      "\n",
      "12411 HepG2_Epithelium_Liver|TGIF2|ID:65056\n",
      "\n",
      "12412 HepG2_Epithelium_Liver|TGIF2|ID:65057\n",
      "\n",
      "14976 HepG2_hepatocellular_carcinoma|SMC1A|ID:71873\n",
      "\n",
      "14977 HepG2_hepatocellular_carcinoma|MED1|ID:71874\n",
      "\n",
      "14978 HepG2_hepatocellular_carcinoma|NIPBL|ID:71875\n",
      "\n",
      "14979 HepG2_hepatocellular_carcinoma|SMC1A|ID:71876\n",
      "\n",
      "14980 HepG2_hepatocellular_carcinoma|MED1|ID:71877\n",
      "\n",
      "14981 HepG2_hepatocellular_carcinoma|NIPBL|ID:71878\n",
      "\n",
      "15400 HepG2_Epithelium_Liver|ATF3|ID:7301\n",
      "\n",
      "15401 HepG2_Epithelium_Liver|BHLHE40|ID:7302\n",
      "\n",
      "15439 HepG2_Epithelium_Liver|FOXA1|ID:7322\n",
      "\n",
      "15440 HepG2_Epithelium_Liver|FOXA1|ID:7323\n",
      "\n",
      "15490 HepG2_Epithelium_Liver|HEY1|ID:7341\n",
      "\n",
      "15491 HepG2_Epithelium_Liver|HNF4A|ID:7343\n",
      "\n",
      "15579 HepG2_Epithelium_Liver|NR3C1|ID:73725\n",
      "\n",
      "15874 HepG2_Epithelium_Liver|ATF2|ID:74640\n",
      "\n",
      "15875 HepG2_Epithelium_Liver|SMAD4|ID:74641\n",
      "\n",
      "15876 HepG2_Epithelium_Liver|TSC22D4|ID:74642\n",
      "\n",
      "15877 HepG2_Epithelium_Liver|NFATC3|ID:74643\n",
      "\n",
      "15878 HepG2_Epithelium_Liver|HES1|ID:74644\n",
      "\n",
      "15889 HepG2_Epithelium_Liver|USF2|ID:74655\n",
      "\n",
      "15890 HepG2_Epithelium_Liver|ZMYM3|ID:74656\n",
      "\n",
      "15891 HepG2_Epithelium_Liver|ARID3A|ID:74657\n",
      "\n",
      "15892 HepG2_Epithelium_Liver|NRF1|ID:74658\n",
      "\n",
      "15893 HepG2_Epithelium_Liver|ZBTB2|ID:74659\n",
      "\n",
      "15895 HepG2_Epithelium_Liver|ZMYM3|ID:74661\n",
      "\n",
      "15903 HepG2_Epithelium_Liver|ZMYM3|ID:74669\n",
      "\n",
      "15906 HepG2_Epithelium_Liver|ZMYM3|ID:74672\n",
      "\n",
      "15907 HepG2_Epithelium_Liver|RUVBL1|ID:74673\n",
      "\n",
      "15908 HepG2_Epithelium_Liver|SMAD4|ID:74674\n",
      "\n",
      "15909 HepG2_Epithelium_Liver|SMAD4|ID:74675\n",
      "\n",
      "15910 HepG2_Epithelium_Liver|ZMYM3|ID:74676\n",
      "\n",
      "15911 HepG2_Epithelium_Liver|ZMYM3|ID:74677\n",
      "\n",
      "15915 HepG2_Epithelium_Liver|SMAD4|ID:74681\n",
      "\n",
      "15916 HepG2_Epithelium_Liver|FOXO3|ID:74682\n",
      "\n",
      "15919 HepG2_Epithelium_Liver|NFIL3|ID:74685\n",
      "\n",
      "15920 HepG2_Epithelium_Liver|KLF10|ID:74686\n",
      "\n",
      "16026 HepG2_hepatocellular_carcinoma|H2AFY2|ID:75046\n",
      "\n",
      "16567 HepG2_Epithelium_Liver|ZSCAN2|ID:77266\n",
      "\n",
      "16568 HepG2_Epithelium_Liver|NFIA|ID:77267\n",
      "\n",
      "16571 HepG2_Epithelium_Liver|L3MBTL4|ID:77271\n",
      "\n",
      "17105 HepG2_Epithelium_Liver|CTCF|ID:8103\n",
      "\n",
      "17109 HepG2_Epithelium_Liver|CTCF|ID:8104\n",
      "\n",
      "17111 HepG2_Epithelium_Liver|MYC|ID:8105\n",
      "\n",
      "17112 HepG2_Epithelium_Liver|MYC|ID:8106\n",
      "\n",
      "17114 HepG2_Epithelium_Liver|MYC|ID:8107\n",
      "\n",
      "17115 HepG2_Epithelium_Liver|POLR2A|ID:8108\n",
      "\n",
      "17116 HepG2_Epithelium_Liver|POLR2A|ID:8109\n",
      "\n",
      "17117 HepG2_Epithelium_Liver|POLR2A|ID:8110\n",
      "\n",
      "17149 HepG2_Epithelium_Liver|SMARCA4|ID:81230\n",
      "\n",
      "17582 HepG2_Epithelium_Liver|SMARCA4|ID:82422\n",
      "\n",
      "17583 HepG2_Epithelium_Liver|SMARCA4|ID:82423\n",
      "\n",
      "17686 HepG2_Epithelium_Liver|NFIC|ID:82639\n",
      "\n",
      "17687 HepG2_Epithelium_Liver|SATB1|ID:82642\n",
      "\n",
      "17785 HepG2_Epithelium_Liver|H3K27ac|ID:82897\n",
      "\n",
      "17990 HepG2_Epithelium_Liver|MCRS1|ID:83518\n",
      "\n",
      "17992 HepG2_Epithelium_Liver|RUVBL2|ID:83527\n",
      "\n",
      "18376 HepG2_Epithelium_Liver|H3K27ac|ID:84698\n",
      "\n",
      "18490 HepG2_Epithelium_Liver|INO80|ID:85027\n",
      "\n",
      "19411 HepG2_Epithelium_Liver|MCRS1|ID:87787\n",
      "\n",
      "19566 HepG2_Epithelium_Liver|H3K27ac|ID:88337\n",
      "\n",
      "19567 HepG2_Epithelium_Liver|H3K27ac|ID:88338\n",
      "\n",
      "19726 HepG2_Epithelium_Liver|INO80|ID:88784\n",
      "\n",
      "19727 HepG2_Epithelium_Liver|INO80|ID:88796\n",
      "\n",
      "20960 HepG2|ARID3A|ENCODE\n",
      "\n",
      "20961 HepG2|ATF3|ENCODE\n",
      "\n",
      "20962 HepG2|BHLHE40|ENCODE\n",
      "\n",
      "20963 HepG2|BHLHE40|ENCODE-1\n",
      "\n",
      "20964 HepG2|BRCA1|ENCODE\n",
      "\n",
      "20965 HepG2 (forskolin)|CEBPB|ENCODE\n",
      "\n",
      "20966 HepG2|CEBPB|ENCODE\n",
      "\n",
      "20967 HepG2|CEBPB|ENCODE-1\n",
      "\n",
      "20968 HepG2|CEBPD|ENCODE\n",
      "\n",
      "20969 HepG2|CHD2|ENCODE\n",
      "\n",
      "20970 HepG2|c-Jun|ENCODE\n",
      "\n",
      "20971 HepG2|c-Myc|ENCODE\n",
      "\n",
      "20972 HepG2|COREST|ENCODE\n",
      "\n",
      "20973 HepG2|CTCF|ENCODE\n",
      "\n",
      "20974 HepG2|CTCF|ENCODE-1\n",
      "\n",
      "20975 HepG2|CTCF|ENCODE-2\n",
      "\n",
      "20976 HepG2|CTCF|ENCODE-3\n",
      "\n",
      "20977 HepG2|DNase|ENCODE\n",
      "\n",
      "20978 HepG2|ELF1|ENCODE\n",
      "\n",
      "20979 HepG2 (forskolin)|ERRA|ENCODE\n",
      "\n",
      "20980 HepG2|EZH2|ENCODE\n",
      "\n",
      "20981 HepG2|FOSL2|ENCODE\n",
      "\n",
      "20982 HepG2|FOXA1|ENCODE\n",
      "\n",
      "20983 HepG2|FOXA1|ENCODE-1\n",
      "\n",
      "20984 HepG2|FOXA2|ENCODE\n",
      "\n",
      "20985 HepG2|GABP|ENCODE\n",
      "\n",
      "20986 HepG2 (forskolin)|GRp20|ENCODE\n",
      "\n",
      "20987 HepG2|HDAC2|ENCODE\n",
      "\n",
      "20988 HepG2_Hepatocellular_Carcinoma|DNase|Roadmap\n",
      "\n",
      "20989 HepG2_Hepatocellular_Carcinoma|H2A.Z|Roadmap\n",
      "\n",
      "20990 HepG2_Hepatocellular_Carcinoma|H3K27ac|Roadmap\n",
      "\n",
      "20991 HepG2_Hepatocellular_Carcinoma|H3K27me3|Roadmap\n",
      "\n",
      "20992 HepG2_Hepatocellular_Carcinoma|H3K36me3|Roadmap\n",
      "\n",
      "20993 HepG2_Hepatocellular_Carcinoma|H3K4me1|Roadmap\n",
      "\n",
      "20994 HepG2_Hepatocellular_Carcinoma|H3K4me2|Roadmap\n",
      "\n",
      "20995 HepG2_Hepatocellular_Carcinoma|H3K4me3|Roadmap\n",
      "\n",
      "20996 HepG2_Hepatocellular_Carcinoma|H3K79me2|Roadmap\n",
      "\n",
      "20997 HepG2_Hepatocellular_Carcinoma|H3K9ac|Roadmap\n",
      "\n",
      "20998 HepG2_Hepatocellular_Carcinoma|H3K9me3|Roadmap\n",
      "\n",
      "20999 HepG2_Hepatocellular_Carcinoma|H4K20me1|Roadmap\n",
      "\n",
      "21000 HepG2 (forskolin)|HNF4A|ENCODE\n",
      "\n",
      "21001 HepG2|HNF4A|ENCODE\n",
      "\n",
      "21002 HepG2|HNF4G|ENCODE\n",
      "\n",
      "21003 HepG2 (forskolin)|HSF1|ENCODE\n",
      "\n",
      "21004 HepG2|IRF3|ENCODE\n",
      "\n",
      "21005 HepG2|JunD|ENCODE\n",
      "\n",
      "21006 HepG2|JunD|ENCODE-1\n",
      "\n",
      "21007 HepG2|MafF|ENCODE\n",
      "\n",
      "21008 HepG2|MafK|ENCODE\n",
      "\n",
      "21009 HepG2|MafK|ENCODE-1\n",
      "\n",
      "21010 HepG2|Max|ENCODE\n",
      "\n",
      "21011 HepG2|MAZ|ENCODE\n",
      "\n",
      "21012 HepG2|MBD4|ENCODE\n",
      "\n",
      "21013 HepG2|Mxi1|ENCODE\n",
      "\n",
      "21014 HepG2|MYBL2|ENCODE\n",
      "\n",
      "21015 HepG2|NFIC|ENCODE\n",
      "\n",
      "21016 HepG2|Nrf1|ENCODE\n",
      "\n",
      "21017 HepG2|NRSF|ENCODE\n",
      "\n",
      "21018 HepG2|NRSF|ENCODE-1\n",
      "\n",
      "21019 HepG2|p300|ENCODE\n",
      "\n",
      "21020 HepG2|p300|ENCODE-1\n",
      "\n",
      "21021 HepG2 (forskolin)|PGC1A|ENCODE\n",
      "\n",
      "21022 HepG2|Pol2-4H8|ENCODE\n",
      "\n",
      "21023 HepG2 (forskolin)|Pol2|ENCODE\n",
      "\n",
      "21024 HepG2|Pol2|ENCODE\n",
      "\n",
      "21025 HepG2|Pol2|ENCODE-1\n",
      "\n",
      "21026 HepG2|Pol2|ENCODE-2\n",
      "\n",
      "21027 HepG2|Pol2(phosphoS2)|ENCODE\n",
      "\n",
      "21028 HepG2|Rad21|ENCODE\n",
      "\n",
      "21029 HepG2|Rad21|ENCODE-1\n",
      "\n",
      "21030 HepG2|RFX5|ENCODE\n",
      "\n",
      "21031 HepG2|RXRA|ENCODE\n",
      "\n",
      "21032 HepG2|Sin3Ak-20|ENCODE\n",
      "\n",
      "21033 HepG2|SMC3|ENCODE\n",
      "\n",
      "21034 HepG2|SP1|ENCODE\n",
      "\n",
      "21035 HepG2|SP2|ENCODE\n",
      "\n",
      "21036 HepG2 (insulin)|SREBP1|ENCODE\n",
      "\n",
      "21037 HepG2|SRF|ENCODE\n",
      "\n",
      "21038 HepG2|TAF1|ENCODE\n",
      "\n",
      "21039 HepG2|TBP|ENCODE\n",
      "\n",
      "21040 HepG2|TCF12|ENCODE\n",
      "\n",
      "21041 HepG2|TCF7L2|ENCODE\n",
      "\n",
      "21042 HepG2|TEAD4|ENCODE\n",
      "\n",
      "21043 HepG2|TR4|ENCODE\n",
      "\n",
      "21044 HepG2|USF-1|ENCODE\n",
      "\n",
      "21045 HepG2|USF2|ENCODE\n",
      "\n",
      "21046 HepG2|YY1|ENCODE\n",
      "\n",
      "21047 HepG2|ZBTB33|ENCODE\n",
      "\n",
      "21048 HepG2|ZBTB7A|ENCODE\n",
      "\n",
      "21049 HepG2|ZNF274|ENCODE\n",
      "\n"
     ]
    }
   ],
   "source": [
    "query_indexes, query_names =[], []\n",
    "\n",
    "with open(SEI_CHROM_LABELS, \"r\") as reader:\n",
    "    for n, label in enumerate(reader):\n",
    "        if QUERY in label:\n",
    "            query_indexes.append(n), query_names.append(label.strip(\"\\n\"))\n",
    "            print(n, label)"
   ]
  },
  {
   "cell_type": "markdown",
   "id": "818fc66e",
   "metadata": {},
   "source": [
    "## chromatin predictions"
   ]
  },
  {
   "cell_type": "code",
   "execution_count": 7,
   "id": "27b4f2ea",
   "metadata": {
    "ExecuteTime": {
     "end_time": "2023-09-07T00:06:29.358346Z",
     "start_time": "2023-09-07T00:05:34.567859Z"
    }
   },
   "outputs": [
    {
     "data": {
      "text/html": [
       "<div>\n",
       "<style scoped>\n",
       "    .dataframe tbody tr th:only-of-type {\n",
       "        vertical-align: middle;\n",
       "    }\n",
       "\n",
       "    .dataframe tbody tr th {\n",
       "        vertical-align: top;\n",
       "    }\n",
       "\n",
       "    .dataframe thead th {\n",
       "        text-align: right;\n",
       "    }\n",
       "</style>\n",
       "<table border=\"1\" class=\"dataframe\">\n",
       "  <thead>\n",
       "    <tr style=\"text-align: right;\">\n",
       "      <th></th>\n",
       "      <th>0</th>\n",
       "      <th>1</th>\n",
       "      <th>2</th>\n",
       "      <th>3</th>\n",
       "      <th>4</th>\n",
       "      <th>5</th>\n",
       "      <th>6</th>\n",
       "      <th>7</th>\n",
       "      <th>8</th>\n",
       "      <th>9</th>\n",
       "      <th>...</th>\n",
       "      <th>21897</th>\n",
       "      <th>21898</th>\n",
       "      <th>21899</th>\n",
       "      <th>21900</th>\n",
       "      <th>21901</th>\n",
       "      <th>21902</th>\n",
       "      <th>21903</th>\n",
       "      <th>21904</th>\n",
       "      <th>21905</th>\n",
       "      <th>21906</th>\n",
       "    </tr>\n",
       "  </thead>\n",
       "  <tbody>\n",
       "    <tr>\n",
       "      <th>0</th>\n",
       "      <td>0.000173</td>\n",
       "      <td>0.000720</td>\n",
       "      <td>0.000009</td>\n",
       "      <td>0.000110</td>\n",
       "      <td>0.000018</td>\n",
       "      <td>0.000168</td>\n",
       "      <td>0.000090</td>\n",
       "      <td>1.912478e-07</td>\n",
       "      <td>0.000002</td>\n",
       "      <td>0.000001</td>\n",
       "      <td>...</td>\n",
       "      <td>0.000502</td>\n",
       "      <td>0.000033</td>\n",
       "      <td>0.000016</td>\n",
       "      <td>0.000148</td>\n",
       "      <td>0.000112</td>\n",
       "      <td>0.000006</td>\n",
       "      <td>0.000259</td>\n",
       "      <td>3.824396e-06</td>\n",
       "      <td>0.000572</td>\n",
       "      <td>0.000360</td>\n",
       "    </tr>\n",
       "    <tr>\n",
       "      <th>1</th>\n",
       "      <td>0.000060</td>\n",
       "      <td>0.006822</td>\n",
       "      <td>0.000069</td>\n",
       "      <td>0.001058</td>\n",
       "      <td>0.000072</td>\n",
       "      <td>0.000455</td>\n",
       "      <td>0.000615</td>\n",
       "      <td>3.261040e-06</td>\n",
       "      <td>0.000013</td>\n",
       "      <td>0.000007</td>\n",
       "      <td>...</td>\n",
       "      <td>0.000995</td>\n",
       "      <td>0.000034</td>\n",
       "      <td>0.000020</td>\n",
       "      <td>0.000144</td>\n",
       "      <td>0.000233</td>\n",
       "      <td>0.000002</td>\n",
       "      <td>0.001239</td>\n",
       "      <td>1.094838e-06</td>\n",
       "      <td>0.000902</td>\n",
       "      <td>0.000227</td>\n",
       "    </tr>\n",
       "    <tr>\n",
       "      <th>2</th>\n",
       "      <td>0.000162</td>\n",
       "      <td>0.014394</td>\n",
       "      <td>0.001789</td>\n",
       "      <td>0.003007</td>\n",
       "      <td>0.000859</td>\n",
       "      <td>0.001558</td>\n",
       "      <td>0.017721</td>\n",
       "      <td>1.177286e-05</td>\n",
       "      <td>0.000022</td>\n",
       "      <td>0.000050</td>\n",
       "      <td>...</td>\n",
       "      <td>0.001575</td>\n",
       "      <td>0.000115</td>\n",
       "      <td>0.001025</td>\n",
       "      <td>0.018507</td>\n",
       "      <td>0.014362</td>\n",
       "      <td>0.000014</td>\n",
       "      <td>0.006498</td>\n",
       "      <td>4.700571e-05</td>\n",
       "      <td>0.034633</td>\n",
       "      <td>0.088095</td>\n",
       "    </tr>\n",
       "    <tr>\n",
       "      <th>3</th>\n",
       "      <td>0.000051</td>\n",
       "      <td>0.004095</td>\n",
       "      <td>0.000085</td>\n",
       "      <td>0.000956</td>\n",
       "      <td>0.000095</td>\n",
       "      <td>0.000747</td>\n",
       "      <td>0.000740</td>\n",
       "      <td>3.687764e-06</td>\n",
       "      <td>0.000013</td>\n",
       "      <td>0.000006</td>\n",
       "      <td>...</td>\n",
       "      <td>0.000571</td>\n",
       "      <td>0.000039</td>\n",
       "      <td>0.000014</td>\n",
       "      <td>0.000187</td>\n",
       "      <td>0.000182</td>\n",
       "      <td>0.000003</td>\n",
       "      <td>0.001382</td>\n",
       "      <td>6.385764e-07</td>\n",
       "      <td>0.000601</td>\n",
       "      <td>0.000109</td>\n",
       "    </tr>\n",
       "    <tr>\n",
       "      <th>4</th>\n",
       "      <td>0.000117</td>\n",
       "      <td>0.003649</td>\n",
       "      <td>0.000297</td>\n",
       "      <td>0.001196</td>\n",
       "      <td>0.000253</td>\n",
       "      <td>0.002025</td>\n",
       "      <td>0.030870</td>\n",
       "      <td>2.039543e-06</td>\n",
       "      <td>0.000005</td>\n",
       "      <td>0.000027</td>\n",
       "      <td>...</td>\n",
       "      <td>0.000906</td>\n",
       "      <td>0.000101</td>\n",
       "      <td>0.000856</td>\n",
       "      <td>0.041069</td>\n",
       "      <td>0.029421</td>\n",
       "      <td>0.000008</td>\n",
       "      <td>0.002488</td>\n",
       "      <td>4.848729e-05</td>\n",
       "      <td>0.150051</td>\n",
       "      <td>0.316450</td>\n",
       "    </tr>\n",
       "  </tbody>\n",
       "</table>\n",
       "<p>5 rows × 21907 columns</p>\n",
       "</div>"
      ],
      "text/plain": [
       "      0         1         2         3         4         5         6      \\\n",
       "0  0.000173  0.000720  0.000009  0.000110  0.000018  0.000168  0.000090   \n",
       "1  0.000060  0.006822  0.000069  0.001058  0.000072  0.000455  0.000615   \n",
       "2  0.000162  0.014394  0.001789  0.003007  0.000859  0.001558  0.017721   \n",
       "3  0.000051  0.004095  0.000085  0.000956  0.000095  0.000747  0.000740   \n",
       "4  0.000117  0.003649  0.000297  0.001196  0.000253  0.002025  0.030870   \n",
       "\n",
       "          7         8         9      ...     21897     21898     21899  \\\n",
       "0  1.912478e-07  0.000002  0.000001  ...  0.000502  0.000033  0.000016   \n",
       "1  3.261040e-06  0.000013  0.000007  ...  0.000995  0.000034  0.000020   \n",
       "2  1.177286e-05  0.000022  0.000050  ...  0.001575  0.000115  0.001025   \n",
       "3  3.687764e-06  0.000013  0.000006  ...  0.000571  0.000039  0.000014   \n",
       "4  2.039543e-06  0.000005  0.000027  ...  0.000906  0.000101  0.000856   \n",
       "\n",
       "      21900     21901     21902     21903         21904     21905     21906  \n",
       "0  0.000148  0.000112  0.000006  0.000259  3.824396e-06  0.000572  0.000360  \n",
       "1  0.000144  0.000233  0.000002  0.001239  1.094838e-06  0.000902  0.000227  \n",
       "2  0.018507  0.014362  0.000014  0.006498  4.700571e-05  0.034633  0.088095  \n",
       "3  0.000187  0.000182  0.000003  0.001382  6.385764e-07  0.000601  0.000109  \n",
       "4  0.041069  0.029421  0.000008  0.002488  4.848729e-05  0.150051  0.316450  \n",
       "\n",
       "[5 rows x 21907 columns]"
      ]
     },
     "execution_count": 7,
     "metadata": {},
     "output_type": "execute_result"
    }
   ],
   "source": [
    "chrom = readH5df(CHROM_PRED)\n",
    "\n",
    "chrom.head()"
   ]
  },
  {
   "cell_type": "markdown",
   "id": "d6e979c6",
   "metadata": {},
   "source": [
    "## get query df feature matrix subset"
   ]
  },
  {
   "cell_type": "code",
   "execution_count": 15,
   "id": "5f1594dc",
   "metadata": {
    "ExecuteTime": {
     "end_time": "2023-09-07T00:20:39.821337Z",
     "start_time": "2023-09-07T00:20:38.761525Z"
    }
   },
   "outputs": [
    {
     "name": "stdout",
     "output_type": "stream",
     "text": [
      "(82427, 21907) (82427, 386)\n"
     ]
    },
    {
     "data": {
      "text/html": [
       "<div>\n",
       "<style scoped>\n",
       "    .dataframe tbody tr th:only-of-type {\n",
       "        vertical-align: middle;\n",
       "    }\n",
       "\n",
       "    .dataframe tbody tr th {\n",
       "        vertical-align: top;\n",
       "    }\n",
       "\n",
       "    .dataframe thead th {\n",
       "        text-align: right;\n",
       "    }\n",
       "</style>\n",
       "<table border=\"1\" class=\"dataframe\">\n",
       "  <thead>\n",
       "    <tr style=\"text-align: right;\">\n",
       "      <th></th>\n",
       "      <th>HepG2_Epithelium_Liver|CEBPA|ID:1374</th>\n",
       "      <th>HepG2_Epithelium_Liver|CEBPA|ID:1375</th>\n",
       "      <th>HepG2_Epithelium_Liver|CTCF|ID:1380</th>\n",
       "      <th>HepG2_Epithelium_Liver|CTCF|ID:1381</th>\n",
       "      <th>HepG2_Epithelium_Liver|CTCF|ID:1382</th>\n",
       "      <th>HepG2_Epithelium_Liver|CTCF|ID:1383</th>\n",
       "      <th>HepG2_Epithelium_Liver|HNF4A|ID:1447</th>\n",
       "      <th>HepG2_Epithelium_Liver|HNF4A|ID:1448</th>\n",
       "      <th>HepG2_Epithelium_Liver|HNF4A|ID:1449</th>\n",
       "      <th>HepG2_Epithelium_Liver|NR2C2|ID:1463</th>\n",
       "      <th>...</th>\n",
       "      <th>HepG2|TCF12|ENCODE</th>\n",
       "      <th>HepG2|TCF7L2|ENCODE</th>\n",
       "      <th>HepG2|TEAD4|ENCODE</th>\n",
       "      <th>HepG2|TR4|ENCODE</th>\n",
       "      <th>HepG2|USF-1|ENCODE</th>\n",
       "      <th>HepG2|USF2|ENCODE</th>\n",
       "      <th>HepG2|YY1|ENCODE</th>\n",
       "      <th>HepG2|ZBTB33|ENCODE</th>\n",
       "      <th>HepG2|ZBTB7A|ENCODE</th>\n",
       "      <th>HepG2|ZNF274|ENCODE</th>\n",
       "    </tr>\n",
       "  </thead>\n",
       "  <tbody>\n",
       "    <tr>\n",
       "      <th>0</th>\n",
       "      <td>0.000005</td>\n",
       "      <td>0.000012</td>\n",
       "      <td>0.000154</td>\n",
       "      <td>0.000005</td>\n",
       "      <td>0.000004</td>\n",
       "      <td>0.000005</td>\n",
       "      <td>0.000006</td>\n",
       "      <td>0.000003</td>\n",
       "      <td>8.319064e-07</td>\n",
       "      <td>0.000002</td>\n",
       "      <td>...</td>\n",
       "      <td>7.216546e-07</td>\n",
       "      <td>0.000027</td>\n",
       "      <td>0.000024</td>\n",
       "      <td>0.000004</td>\n",
       "      <td>0.000108</td>\n",
       "      <td>0.000025</td>\n",
       "      <td>0.000002</td>\n",
       "      <td>0.000008</td>\n",
       "      <td>0.000004</td>\n",
       "      <td>0.000006</td>\n",
       "    </tr>\n",
       "    <tr>\n",
       "      <th>1</th>\n",
       "      <td>0.000014</td>\n",
       "      <td>0.000020</td>\n",
       "      <td>0.000077</td>\n",
       "      <td>0.000005</td>\n",
       "      <td>0.000009</td>\n",
       "      <td>0.000010</td>\n",
       "      <td>0.000020</td>\n",
       "      <td>0.000007</td>\n",
       "      <td>1.627981e-06</td>\n",
       "      <td>0.000005</td>\n",
       "      <td>...</td>\n",
       "      <td>2.254021e-06</td>\n",
       "      <td>0.000036</td>\n",
       "      <td>0.000025</td>\n",
       "      <td>0.000007</td>\n",
       "      <td>0.000035</td>\n",
       "      <td>0.000008</td>\n",
       "      <td>0.000004</td>\n",
       "      <td>0.000015</td>\n",
       "      <td>0.000012</td>\n",
       "      <td>0.000022</td>\n",
       "    </tr>\n",
       "    <tr>\n",
       "      <th>2</th>\n",
       "      <td>0.000042</td>\n",
       "      <td>0.000043</td>\n",
       "      <td>0.000993</td>\n",
       "      <td>0.000018</td>\n",
       "      <td>0.000055</td>\n",
       "      <td>0.000036</td>\n",
       "      <td>0.000131</td>\n",
       "      <td>0.000019</td>\n",
       "      <td>1.389099e-05</td>\n",
       "      <td>0.000007</td>\n",
       "      <td>...</td>\n",
       "      <td>1.103815e-05</td>\n",
       "      <td>0.000033</td>\n",
       "      <td>0.000480</td>\n",
       "      <td>0.000023</td>\n",
       "      <td>0.000078</td>\n",
       "      <td>0.000054</td>\n",
       "      <td>0.000011</td>\n",
       "      <td>0.000014</td>\n",
       "      <td>0.000024</td>\n",
       "      <td>0.000080</td>\n",
       "    </tr>\n",
       "    <tr>\n",
       "      <th>3</th>\n",
       "      <td>0.000014</td>\n",
       "      <td>0.000018</td>\n",
       "      <td>0.000098</td>\n",
       "      <td>0.000005</td>\n",
       "      <td>0.000011</td>\n",
       "      <td>0.000012</td>\n",
       "      <td>0.000014</td>\n",
       "      <td>0.000006</td>\n",
       "      <td>1.328542e-06</td>\n",
       "      <td>0.000003</td>\n",
       "      <td>...</td>\n",
       "      <td>1.525808e-06</td>\n",
       "      <td>0.000020</td>\n",
       "      <td>0.000010</td>\n",
       "      <td>0.000004</td>\n",
       "      <td>0.000034</td>\n",
       "      <td>0.000007</td>\n",
       "      <td>0.000003</td>\n",
       "      <td>0.000008</td>\n",
       "      <td>0.000008</td>\n",
       "      <td>0.000018</td>\n",
       "    </tr>\n",
       "    <tr>\n",
       "      <th>4</th>\n",
       "      <td>0.000070</td>\n",
       "      <td>0.000080</td>\n",
       "      <td>0.001686</td>\n",
       "      <td>0.000020</td>\n",
       "      <td>0.000030</td>\n",
       "      <td>0.000030</td>\n",
       "      <td>0.000225</td>\n",
       "      <td>0.000033</td>\n",
       "      <td>1.913480e-05</td>\n",
       "      <td>0.000008</td>\n",
       "      <td>...</td>\n",
       "      <td>2.830637e-05</td>\n",
       "      <td>0.000046</td>\n",
       "      <td>0.000673</td>\n",
       "      <td>0.000022</td>\n",
       "      <td>0.000363</td>\n",
       "      <td>0.000183</td>\n",
       "      <td>0.000009</td>\n",
       "      <td>0.000029</td>\n",
       "      <td>0.000021</td>\n",
       "      <td>0.000053</td>\n",
       "    </tr>\n",
       "  </tbody>\n",
       "</table>\n",
       "<p>5 rows × 386 columns</p>\n",
       "</div>"
      ],
      "text/plain": [
       "   HepG2_Epithelium_Liver|CEBPA|ID:1374  HepG2_Epithelium_Liver|CEBPA|ID:1375  \\\n",
       "0                              0.000005                              0.000012   \n",
       "1                              0.000014                              0.000020   \n",
       "2                              0.000042                              0.000043   \n",
       "3                              0.000014                              0.000018   \n",
       "4                              0.000070                              0.000080   \n",
       "\n",
       "   HepG2_Epithelium_Liver|CTCF|ID:1380  HepG2_Epithelium_Liver|CTCF|ID:1381  \\\n",
       "0                             0.000154                             0.000005   \n",
       "1                             0.000077                             0.000005   \n",
       "2                             0.000993                             0.000018   \n",
       "3                             0.000098                             0.000005   \n",
       "4                             0.001686                             0.000020   \n",
       "\n",
       "   HepG2_Epithelium_Liver|CTCF|ID:1382  HepG2_Epithelium_Liver|CTCF|ID:1383  \\\n",
       "0                             0.000004                             0.000005   \n",
       "1                             0.000009                             0.000010   \n",
       "2                             0.000055                             0.000036   \n",
       "3                             0.000011                             0.000012   \n",
       "4                             0.000030                             0.000030   \n",
       "\n",
       "   HepG2_Epithelium_Liver|HNF4A|ID:1447  HepG2_Epithelium_Liver|HNF4A|ID:1448  \\\n",
       "0                              0.000006                              0.000003   \n",
       "1                              0.000020                              0.000007   \n",
       "2                              0.000131                              0.000019   \n",
       "3                              0.000014                              0.000006   \n",
       "4                              0.000225                              0.000033   \n",
       "\n",
       "   HepG2_Epithelium_Liver|HNF4A|ID:1449  HepG2_Epithelium_Liver|NR2C2|ID:1463  \\\n",
       "0                          8.319064e-07                              0.000002   \n",
       "1                          1.627981e-06                              0.000005   \n",
       "2                          1.389099e-05                              0.000007   \n",
       "3                          1.328542e-06                              0.000003   \n",
       "4                          1.913480e-05                              0.000008   \n",
       "\n",
       "   ...  HepG2|TCF12|ENCODE  HepG2|TCF7L2|ENCODE  HepG2|TEAD4|ENCODE  \\\n",
       "0  ...        7.216546e-07             0.000027            0.000024   \n",
       "1  ...        2.254021e-06             0.000036            0.000025   \n",
       "2  ...        1.103815e-05             0.000033            0.000480   \n",
       "3  ...        1.525808e-06             0.000020            0.000010   \n",
       "4  ...        2.830637e-05             0.000046            0.000673   \n",
       "\n",
       "   HepG2|TR4|ENCODE  HepG2|USF-1|ENCODE  HepG2|USF2|ENCODE  HepG2|YY1|ENCODE  \\\n",
       "0          0.000004            0.000108           0.000025          0.000002   \n",
       "1          0.000007            0.000035           0.000008          0.000004   \n",
       "2          0.000023            0.000078           0.000054          0.000011   \n",
       "3          0.000004            0.000034           0.000007          0.000003   \n",
       "4          0.000022            0.000363           0.000183          0.000009   \n",
       "\n",
       "   HepG2|ZBTB33|ENCODE  HepG2|ZBTB7A|ENCODE  HepG2|ZNF274|ENCODE  \n",
       "0             0.000008             0.000004             0.000006  \n",
       "1             0.000015             0.000012             0.000022  \n",
       "2             0.000014             0.000024             0.000080  \n",
       "3             0.000008             0.000008             0.000018  \n",
       "4             0.000029             0.000021             0.000053  \n",
       "\n",
       "[5 rows x 386 columns]"
      ]
     },
     "execution_count": 15,
     "metadata": {},
     "output_type": "execute_result"
    }
   ],
   "source": [
    "qdf = getQueryDf(chrom, query_indexes, query_names)\n",
    "\n",
    "qdf.head()"
   ]
  },
  {
   "cell_type": "code",
   "execution_count": 16,
   "id": "5d57fabe",
   "metadata": {
    "ExecuteTime": {
     "end_time": "2023-09-07T00:20:40.939516Z",
     "start_time": "2023-09-07T00:20:40.405857Z"
    }
   },
   "outputs": [
    {
     "name": "stdout",
     "output_type": "stream",
     "text": [
      "label file (82427, 1)\n",
      "index file (82427, 2)\n"
     ]
    },
    {
     "data": {
      "text/html": [
       "<div>\n",
       "<style scoped>\n",
       "    .dataframe tbody tr th:only-of-type {\n",
       "        vertical-align: middle;\n",
       "    }\n",
       "\n",
       "    .dataframe tbody tr th {\n",
       "        vertical-align: top;\n",
       "    }\n",
       "\n",
       "    .dataframe thead th {\n",
       "        text-align: right;\n",
       "    }\n",
       "</style>\n",
       "<table border=\"1\" class=\"dataframe\">\n",
       "  <thead>\n",
       "    <tr style=\"text-align: right;\">\n",
       "      <th></th>\n",
       "      <th>seq_id</th>\n",
       "      <th>name</th>\n",
       "      <th>HepG2_Epithelium_Liver|CEBPA|ID:1374</th>\n",
       "      <th>HepG2_Epithelium_Liver|CEBPA|ID:1375</th>\n",
       "      <th>HepG2_Epithelium_Liver|CTCF|ID:1380</th>\n",
       "      <th>HepG2_Epithelium_Liver|CTCF|ID:1381</th>\n",
       "      <th>HepG2_Epithelium_Liver|CTCF|ID:1382</th>\n",
       "      <th>HepG2_Epithelium_Liver|CTCF|ID:1383</th>\n",
       "      <th>HepG2_Epithelium_Liver|HNF4A|ID:1447</th>\n",
       "      <th>HepG2_Epithelium_Liver|HNF4A|ID:1448</th>\n",
       "      <th>...</th>\n",
       "      <th>HepG2|TCF12|ENCODE</th>\n",
       "      <th>HepG2|TCF7L2|ENCODE</th>\n",
       "      <th>HepG2|TEAD4|ENCODE</th>\n",
       "      <th>HepG2|TR4|ENCODE</th>\n",
       "      <th>HepG2|USF-1|ENCODE</th>\n",
       "      <th>HepG2|USF2|ENCODE</th>\n",
       "      <th>HepG2|YY1|ENCODE</th>\n",
       "      <th>HepG2|ZBTB33|ENCODE</th>\n",
       "      <th>HepG2|ZBTB7A|ENCODE</th>\n",
       "      <th>HepG2|ZNF274|ENCODE</th>\n",
       "    </tr>\n",
       "  </thead>\n",
       "  <tbody>\n",
       "    <tr>\n",
       "      <th>0</th>\n",
       "      <td>seq.0</td>\n",
       "      <td>bj_k27ac_down_chr3:29837526-29837795</td>\n",
       "      <td>0.000005</td>\n",
       "      <td>0.000012</td>\n",
       "      <td>0.000154</td>\n",
       "      <td>0.000005</td>\n",
       "      <td>0.000004</td>\n",
       "      <td>0.000005</td>\n",
       "      <td>0.000006</td>\n",
       "      <td>0.000003</td>\n",
       "      <td>...</td>\n",
       "      <td>7.216546e-07</td>\n",
       "      <td>0.000027</td>\n",
       "      <td>0.000024</td>\n",
       "      <td>0.000004</td>\n",
       "      <td>0.000108</td>\n",
       "      <td>0.000025</td>\n",
       "      <td>0.000002</td>\n",
       "      <td>0.000008</td>\n",
       "      <td>0.000004</td>\n",
       "      <td>0.000006</td>\n",
       "    </tr>\n",
       "    <tr>\n",
       "      <th>1</th>\n",
       "      <td>seq.1</td>\n",
       "      <td>bj_k27ac_down_chr3:29837260-29837529</td>\n",
       "      <td>0.000014</td>\n",
       "      <td>0.000020</td>\n",
       "      <td>0.000077</td>\n",
       "      <td>0.000005</td>\n",
       "      <td>0.000009</td>\n",
       "      <td>0.000010</td>\n",
       "      <td>0.000020</td>\n",
       "      <td>0.000007</td>\n",
       "      <td>...</td>\n",
       "      <td>2.254021e-06</td>\n",
       "      <td>0.000036</td>\n",
       "      <td>0.000025</td>\n",
       "      <td>0.000007</td>\n",
       "      <td>0.000035</td>\n",
       "      <td>0.000008</td>\n",
       "      <td>0.000004</td>\n",
       "      <td>0.000015</td>\n",
       "      <td>0.000012</td>\n",
       "      <td>0.000022</td>\n",
       "    </tr>\n",
       "    <tr>\n",
       "      <th>2</th>\n",
       "      <td>seq.2</td>\n",
       "      <td>bj_k27ac_down_chr3:29837792-29838061</td>\n",
       "      <td>0.000042</td>\n",
       "      <td>0.000043</td>\n",
       "      <td>0.000993</td>\n",
       "      <td>0.000018</td>\n",
       "      <td>0.000055</td>\n",
       "      <td>0.000036</td>\n",
       "      <td>0.000131</td>\n",
       "      <td>0.000019</td>\n",
       "      <td>...</td>\n",
       "      <td>1.103815e-05</td>\n",
       "      <td>0.000033</td>\n",
       "      <td>0.000480</td>\n",
       "      <td>0.000023</td>\n",
       "      <td>0.000078</td>\n",
       "      <td>0.000054</td>\n",
       "      <td>0.000011</td>\n",
       "      <td>0.000014</td>\n",
       "      <td>0.000024</td>\n",
       "      <td>0.000080</td>\n",
       "    </tr>\n",
       "    <tr>\n",
       "      <th>3</th>\n",
       "      <td>seq.3</td>\n",
       "      <td>bj_k27ac_down_chr3:29837392-29837661</td>\n",
       "      <td>0.000014</td>\n",
       "      <td>0.000018</td>\n",
       "      <td>0.000098</td>\n",
       "      <td>0.000005</td>\n",
       "      <td>0.000011</td>\n",
       "      <td>0.000012</td>\n",
       "      <td>0.000014</td>\n",
       "      <td>0.000006</td>\n",
       "      <td>...</td>\n",
       "      <td>1.525808e-06</td>\n",
       "      <td>0.000020</td>\n",
       "      <td>0.000010</td>\n",
       "      <td>0.000004</td>\n",
       "      <td>0.000034</td>\n",
       "      <td>0.000007</td>\n",
       "      <td>0.000003</td>\n",
       "      <td>0.000008</td>\n",
       "      <td>0.000008</td>\n",
       "      <td>0.000018</td>\n",
       "    </tr>\n",
       "    <tr>\n",
       "      <th>4</th>\n",
       "      <td>seq.4</td>\n",
       "      <td>bj_k27ac_down_chr3:29837659-29837928</td>\n",
       "      <td>0.000070</td>\n",
       "      <td>0.000080</td>\n",
       "      <td>0.001686</td>\n",
       "      <td>0.000020</td>\n",
       "      <td>0.000030</td>\n",
       "      <td>0.000030</td>\n",
       "      <td>0.000225</td>\n",
       "      <td>0.000033</td>\n",
       "      <td>...</td>\n",
       "      <td>2.830637e-05</td>\n",
       "      <td>0.000046</td>\n",
       "      <td>0.000673</td>\n",
       "      <td>0.000022</td>\n",
       "      <td>0.000363</td>\n",
       "      <td>0.000183</td>\n",
       "      <td>0.000009</td>\n",
       "      <td>0.000029</td>\n",
       "      <td>0.000021</td>\n",
       "      <td>0.000053</td>\n",
       "    </tr>\n",
       "  </tbody>\n",
       "</table>\n",
       "<p>5 rows × 388 columns</p>\n",
       "</div>"
      ],
      "text/plain": [
       "  seq_id                                  name  \\\n",
       "0  seq.0  bj_k27ac_down_chr3:29837526-29837795   \n",
       "1  seq.1  bj_k27ac_down_chr3:29837260-29837529   \n",
       "2  seq.2  bj_k27ac_down_chr3:29837792-29838061   \n",
       "3  seq.3  bj_k27ac_down_chr3:29837392-29837661   \n",
       "4  seq.4  bj_k27ac_down_chr3:29837659-29837928   \n",
       "\n",
       "   HepG2_Epithelium_Liver|CEBPA|ID:1374  HepG2_Epithelium_Liver|CEBPA|ID:1375  \\\n",
       "0                              0.000005                              0.000012   \n",
       "1                              0.000014                              0.000020   \n",
       "2                              0.000042                              0.000043   \n",
       "3                              0.000014                              0.000018   \n",
       "4                              0.000070                              0.000080   \n",
       "\n",
       "   HepG2_Epithelium_Liver|CTCF|ID:1380  HepG2_Epithelium_Liver|CTCF|ID:1381  \\\n",
       "0                             0.000154                             0.000005   \n",
       "1                             0.000077                             0.000005   \n",
       "2                             0.000993                             0.000018   \n",
       "3                             0.000098                             0.000005   \n",
       "4                             0.001686                             0.000020   \n",
       "\n",
       "   HepG2_Epithelium_Liver|CTCF|ID:1382  HepG2_Epithelium_Liver|CTCF|ID:1383  \\\n",
       "0                             0.000004                             0.000005   \n",
       "1                             0.000009                             0.000010   \n",
       "2                             0.000055                             0.000036   \n",
       "3                             0.000011                             0.000012   \n",
       "4                             0.000030                             0.000030   \n",
       "\n",
       "   HepG2_Epithelium_Liver|HNF4A|ID:1447  HepG2_Epithelium_Liver|HNF4A|ID:1448  \\\n",
       "0                              0.000006                              0.000003   \n",
       "1                              0.000020                              0.000007   \n",
       "2                              0.000131                              0.000019   \n",
       "3                              0.000014                              0.000006   \n",
       "4                              0.000225                              0.000033   \n",
       "\n",
       "   ...  HepG2|TCF12|ENCODE  HepG2|TCF7L2|ENCODE  HepG2|TEAD4|ENCODE  \\\n",
       "0  ...        7.216546e-07             0.000027            0.000024   \n",
       "1  ...        2.254021e-06             0.000036            0.000025   \n",
       "2  ...        1.103815e-05             0.000033            0.000480   \n",
       "3  ...        1.525808e-06             0.000020            0.000010   \n",
       "4  ...        2.830637e-05             0.000046            0.000673   \n",
       "\n",
       "   HepG2|TR4|ENCODE  HepG2|USF-1|ENCODE  HepG2|USF2|ENCODE  HepG2|YY1|ENCODE  \\\n",
       "0          0.000004            0.000108           0.000025          0.000002   \n",
       "1          0.000007            0.000035           0.000008          0.000004   \n",
       "2          0.000023            0.000078           0.000054          0.000011   \n",
       "3          0.000004            0.000034           0.000007          0.000003   \n",
       "4          0.000022            0.000363           0.000183          0.000009   \n",
       "\n",
       "   HepG2|ZBTB33|ENCODE  HepG2|ZBTB7A|ENCODE  HepG2|ZNF274|ENCODE  \n",
       "0             0.000008             0.000004             0.000006  \n",
       "1             0.000015             0.000012             0.000022  \n",
       "2             0.000014             0.000024             0.000080  \n",
       "3             0.000008             0.000008             0.000018  \n",
       "4             0.000029             0.000021             0.000053  \n",
       "\n",
       "[5 rows x 388 columns]"
      ]
     },
     "execution_count": 16,
     "metadata": {},
     "output_type": "execute_result"
    }
   ],
   "source": [
    "# process labels file\n",
    "lab = processLabel(LABEL, FASTA_INDEX)\n",
    "\n",
    "# add seq_id, name labels to feature matrix\n",
    "sei = pd.merge(lab, qdf, left_index=True, right_index=True)\n",
    "\n",
    "sei.head()"
   ]
  },
  {
   "cell_type": "markdown",
   "id": "41923efe",
   "metadata": {},
   "source": [
    "# MPRA - scaled"
   ]
  },
  {
   "cell_type": "code",
   "execution_count": 10,
   "id": "16f0faf8",
   "metadata": {
    "ExecuteTime": {
     "end_time": "2023-09-07T00:06:31.158516Z",
     "start_time": "2023-09-07T00:06:30.777988Z"
    },
    "scrolled": true
   },
   "outputs": [
    {
     "data": {
      "text/html": [
       "<div>\n",
       "<style scoped>\n",
       "    .dataframe tbody tr th:only-of-type {\n",
       "        vertical-align: middle;\n",
       "    }\n",
       "\n",
       "    .dataframe tbody tr th {\n",
       "        vertical-align: top;\n",
       "    }\n",
       "\n",
       "    .dataframe thead th {\n",
       "        text-align: right;\n",
       "    }\n",
       "</style>\n",
       "<table border=\"1\" class=\"dataframe\">\n",
       "  <thead>\n",
       "    <tr style=\"text-align: right;\">\n",
       "      <th></th>\n",
       "      <th>name</th>\n",
       "      <th>l2.ratio.1.ctrl</th>\n",
       "      <th>l2.ratio.2.ctrl</th>\n",
       "      <th>l2.ratio.3.ctrl</th>\n",
       "      <th>l2.ratio.1.us</th>\n",
       "      <th>l2.ratio.2.us</th>\n",
       "      <th>l2.ratio.3.us</th>\n",
       "      <th>l2.ratio.med.ctrl</th>\n",
       "      <th>l2.ratio.mean.ctrl</th>\n",
       "      <th>l2.ratio.std.ctrl</th>\n",
       "      <th>l2.ratio.med.us</th>\n",
       "      <th>l2.ratio.mean.us</th>\n",
       "      <th>l2.ratio.std.us</th>\n",
       "      <th>delta.med</th>\n",
       "      <th>delta.mean</th>\n",
       "      <th>pval</th>\n",
       "      <th>label.ctrl</th>\n",
       "      <th>label.us</th>\n",
       "      <th>response</th>\n",
       "    </tr>\n",
       "  </thead>\n",
       "  <tbody>\n",
       "    <tr>\n",
       "      <th>0</th>\n",
       "      <td>SYNTHETIC:_Added_CCTTCCTG_GCCCGGGGG_TATACATA_a...</td>\n",
       "      <td>-1.734932</td>\n",
       "      <td>-1.567864</td>\n",
       "      <td>-1.754317</td>\n",
       "      <td>-1.296335</td>\n",
       "      <td>-1.276191</td>\n",
       "      <td>-1.294565</td>\n",
       "      <td>-1.734932</td>\n",
       "      <td>-1.685704</td>\n",
       "      <td>0.102512</td>\n",
       "      <td>-1.294565</td>\n",
       "      <td>-1.289030</td>\n",
       "      <td>0.011155</td>\n",
       "      <td>0.440367</td>\n",
       "      <td>0.396674</td>\n",
       "      <td>0.020518</td>\n",
       "      <td>False</td>\n",
       "      <td>False</td>\n",
       "      <td>False</td>\n",
       "    </tr>\n",
       "    <tr>\n",
       "      <th>1</th>\n",
       "      <td>hob_k27ac_up_chr1:67427680-67427949</td>\n",
       "      <td>-0.424418</td>\n",
       "      <td>-0.573461</td>\n",
       "      <td>-0.482278</td>\n",
       "      <td>-0.718239</td>\n",
       "      <td>-0.742376</td>\n",
       "      <td>-0.715355</td>\n",
       "      <td>-0.482278</td>\n",
       "      <td>-0.493385</td>\n",
       "      <td>0.075140</td>\n",
       "      <td>-0.718239</td>\n",
       "      <td>-0.725323</td>\n",
       "      <td>0.014838</td>\n",
       "      <td>-0.235962</td>\n",
       "      <td>-0.231938</td>\n",
       "      <td>0.029332</td>\n",
       "      <td>False</td>\n",
       "      <td>False</td>\n",
       "      <td>False</td>\n",
       "    </tr>\n",
       "    <tr>\n",
       "      <th>2</th>\n",
       "      <td>SYNTHETIC:_The_motif_ATTAAA_was_added_in_Pos:8...</td>\n",
       "      <td>-0.536486</td>\n",
       "      <td>-0.727045</td>\n",
       "      <td>-0.652711</td>\n",
       "      <td>-0.063230</td>\n",
       "      <td>-0.100000</td>\n",
       "      <td>-0.030887</td>\n",
       "      <td>-0.652711</td>\n",
       "      <td>-0.638747</td>\n",
       "      <td>0.096044</td>\n",
       "      <td>-0.063230</td>\n",
       "      <td>-0.064706</td>\n",
       "      <td>0.034580</td>\n",
       "      <td>0.589482</td>\n",
       "      <td>0.574042</td>\n",
       "      <td>0.004667</td>\n",
       "      <td>False</td>\n",
       "      <td>False</td>\n",
       "      <td>False</td>\n",
       "    </tr>\n",
       "    <tr>\n",
       "      <th>3</th>\n",
       "      <td>SYNTHETIC:_Added_TATGACTCATA_ACAGGTGTAC_ACAGGT...</td>\n",
       "      <td>0.035693</td>\n",
       "      <td>-0.341065</td>\n",
       "      <td>-0.087809</td>\n",
       "      <td>-0.984858</td>\n",
       "      <td>-1.007522</td>\n",
       "      <td>-0.870307</td>\n",
       "      <td>-0.087809</td>\n",
       "      <td>-0.131060</td>\n",
       "      <td>0.192067</td>\n",
       "      <td>-0.984858</td>\n",
       "      <td>-0.954229</td>\n",
       "      <td>0.073557</td>\n",
       "      <td>-0.897049</td>\n",
       "      <td>-0.823169</td>\n",
       "      <td>0.009918</td>\n",
       "      <td>False</td>\n",
       "      <td>False</td>\n",
       "      <td>False</td>\n",
       "    </tr>\n",
       "    <tr>\n",
       "      <th>4</th>\n",
       "      <td>k562_atac_up_chr15:78056378-78056647</td>\n",
       "      <td>1.793414</td>\n",
       "      <td>1.153666</td>\n",
       "      <td>1.886389</td>\n",
       "      <td>1.402855</td>\n",
       "      <td>1.376605</td>\n",
       "      <td>1.427877</td>\n",
       "      <td>1.793414</td>\n",
       "      <td>1.611156</td>\n",
       "      <td>0.398917</td>\n",
       "      <td>1.402855</td>\n",
       "      <td>1.402446</td>\n",
       "      <td>0.025639</td>\n",
       "      <td>-0.390560</td>\n",
       "      <td>-0.208711</td>\n",
       "      <td>0.460596</td>\n",
       "      <td>True</td>\n",
       "      <td>True</td>\n",
       "      <td>False</td>\n",
       "    </tr>\n",
       "  </tbody>\n",
       "</table>\n",
       "</div>"
      ],
      "text/plain": [
       "                                                name  l2.ratio.1.ctrl  \\\n",
       "0  SYNTHETIC:_Added_CCTTCCTG_GCCCGGGGG_TATACATA_a...        -1.734932   \n",
       "1                hob_k27ac_up_chr1:67427680-67427949        -0.424418   \n",
       "2  SYNTHETIC:_The_motif_ATTAAA_was_added_in_Pos:8...        -0.536486   \n",
       "3  SYNTHETIC:_Added_TATGACTCATA_ACAGGTGTAC_ACAGGT...         0.035693   \n",
       "4               k562_atac_up_chr15:78056378-78056647         1.793414   \n",
       "\n",
       "   l2.ratio.2.ctrl  l2.ratio.3.ctrl  l2.ratio.1.us  l2.ratio.2.us  \\\n",
       "0        -1.567864        -1.754317      -1.296335      -1.276191   \n",
       "1        -0.573461        -0.482278      -0.718239      -0.742376   \n",
       "2        -0.727045        -0.652711      -0.063230      -0.100000   \n",
       "3        -0.341065        -0.087809      -0.984858      -1.007522   \n",
       "4         1.153666         1.886389       1.402855       1.376605   \n",
       "\n",
       "   l2.ratio.3.us  l2.ratio.med.ctrl  l2.ratio.mean.ctrl  l2.ratio.std.ctrl  \\\n",
       "0      -1.294565          -1.734932           -1.685704           0.102512   \n",
       "1      -0.715355          -0.482278           -0.493385           0.075140   \n",
       "2      -0.030887          -0.652711           -0.638747           0.096044   \n",
       "3      -0.870307          -0.087809           -0.131060           0.192067   \n",
       "4       1.427877           1.793414            1.611156           0.398917   \n",
       "\n",
       "   l2.ratio.med.us  l2.ratio.mean.us  l2.ratio.std.us  delta.med  delta.mean  \\\n",
       "0        -1.294565         -1.289030         0.011155   0.440367    0.396674   \n",
       "1        -0.718239         -0.725323         0.014838  -0.235962   -0.231938   \n",
       "2        -0.063230         -0.064706         0.034580   0.589482    0.574042   \n",
       "3        -0.984858         -0.954229         0.073557  -0.897049   -0.823169   \n",
       "4         1.402855          1.402446         0.025639  -0.390560   -0.208711   \n",
       "\n",
       "       pval  label.ctrl  label.us  response  \n",
       "0  0.020518       False     False     False  \n",
       "1  0.029332       False     False     False  \n",
       "2  0.004667       False     False     False  \n",
       "3  0.009918       False     False     False  \n",
       "4  0.460596        True      True     False  "
      ]
     },
     "execution_count": 10,
     "metadata": {},
     "output_type": "execute_result"
    }
   ],
   "source": [
    "mpra = pd.read_csv(MPRA, sep='\\t')\n",
    "\n",
    "mpra.head()"
   ]
  },
  {
   "cell_type": "markdown",
   "id": "df303d50",
   "metadata": {},
   "source": [
    "# tiles x enhancers"
   ]
  },
  {
   "cell_type": "code",
   "execution_count": 17,
   "id": "086c695a",
   "metadata": {
    "ExecuteTime": {
     "end_time": "2023-09-07T00:20:46.669870Z",
     "start_time": "2023-09-07T00:20:46.499091Z"
    }
   },
   "outputs": [
    {
     "name": "stdout",
     "output_type": "stream",
     "text": [
      "shuffles 204\n",
      "pos controls 2\n"
     ]
    }
   ],
   "source": [
    "bed = pd.read_csv(TILEBED, sep='\\t',)\n",
    "bed.head()\n",
    "\n",
    "print(\"shuffles\",len(bed.loc[bed[\"shuf\"]== True, \"enh_id\"].drop_duplicates()))\n",
    "print(\"pos controls\", len(bed.loc[bed[\"name\"].str.contains(\"Pos\"), \"enh_id\"].drop_duplicates()))"
   ]
  },
  {
   "cell_type": "code",
   "execution_count": 18,
   "id": "e0ecc436",
   "metadata": {
    "ExecuteTime": {
     "end_time": "2023-09-07T00:20:47.106756Z",
     "start_time": "2023-09-07T00:20:47.034294Z"
    }
   },
   "outputs": [
    {
     "name": "stdout",
     "output_type": "stream",
     "text": [
      "n atac/k27ac in sei: 42308\n",
      "n sei not in atac (synthetics): 40119\n"
     ]
    }
   ],
   "source": [
    "print(\"n atac/k27ac in sei:\", len(set(bed[\"name\"]).intersection(set(sei[\"name\"]))))  # 24047 MPRA sequences missing sei data\n",
    "print(\"n sei not in atac (synthetics):\", len(set(sei[\"name\"]).difference(set(bed[\"name\"]))))  # 38480 sei sequences missing MPRA data"
   ]
  },
  {
   "cell_type": "markdown",
   "id": "3edfcd84",
   "metadata": {},
   "source": [
    "# merged sei + MPRA"
   ]
  },
  {
   "cell_type": "code",
   "execution_count": 19,
   "id": "610ca6fd",
   "metadata": {
    "ExecuteTime": {
     "end_time": "2023-09-07T00:20:54.589357Z",
     "start_time": "2023-09-07T00:20:53.699801Z"
    }
   },
   "outputs": [
    {
     "name": "stdout",
     "output_type": "stream",
     "text": [
      "n tiles w/ endogenous enhancer id, MPRA activity and sei predictions 32850\n",
      "n enhancer_ids w/ MPRA activity 9826\n"
     ]
    }
   ],
   "source": [
    "merged = pd.merge(mpra[[\"name\", 'delta.med', 'delta.mean', 'l2.ratio.mean.ctrl','l2.ratio.mean.us',]], sei)\n",
    "merged = pd.merge(merged, bed[['name', \"enh_id\", \"#chr\"]].drop_duplicates())\n",
    "print(\"n tiles w/ endogenous enhancer id, MPRA activity and sei predictions\",\n",
    "      merged.shape[0])\n",
    "print(\"n enhancer_ids w/ MPRA activity\", len(merged[\"enh_id\"].unique()))"
   ]
  },
  {
   "cell_type": "markdown",
   "id": "a3781820",
   "metadata": {},
   "source": [
    "# X and Y\n",
    "x = sei predictions\n",
    "y = delta activity"
   ]
  },
  {
   "cell_type": "code",
   "execution_count": 20,
   "id": "b3f07071",
   "metadata": {
    "ExecuteTime": {
     "end_time": "2023-09-07T00:20:57.610617Z",
     "start_time": "2023-09-07T00:20:57.414624Z"
    }
   },
   "outputs": [],
   "source": [
    "# params\n",
    "y_col = \"delta.mean\"\n",
    "#y_col = \"l2.ratio.mean.ctrl\"\n",
    "#y_col = \"l2.ratio.mean.us\"\n",
    "group_col = \"#chr\"\n",
    "train_size = 0.8\n",
    "data = merged\n",
    "feature_matrix = qdf\n",
    "\n",
    "# set up X and Y\n",
    "sei_cols = list(feature_matrix)[2:]\n",
    "X = np.array(data[sei_cols])\n",
    "y = np.array(data[y_col])\n",
    "groups = np.array(data[group_col])"
   ]
  },
  {
   "cell_type": "markdown",
   "id": "44770e93",
   "metadata": {},
   "source": [
    "## train test split "
   ]
  },
  {
   "cell_type": "code",
   "execution_count": 21,
   "id": "31515991",
   "metadata": {
    "ExecuteTime": {
     "end_time": "2023-09-07T00:20:58.916920Z",
     "start_time": "2023-09-07T00:20:58.908961Z"
    }
   },
   "outputs": [],
   "source": [
    "def train_test_split_Group(X, y, groups, train_size):\n",
    "    \"\"\" group split for train, test\n",
    "    inputs\n",
    "        X - np array of features\n",
    "        y - np array of predictor\n",
    "        groups - np array of group labels\n",
    "        train_size - float, fraction of training\n",
    "    \"\"\"\n",
    "    gss = GroupShuffleSplit(n_splits=1, train_size=train_size, random_state=42)\n",
    "    for train_index, test_index in gss.split(X, y, groups):\n",
    "        trainx, testx = X[train_index], X[test_index]\n",
    "\n",
    "        trainy, testy = y[train_index], y[test_index]\n",
    "        \n",
    "        print(f\"  Train: index={train_index}, group={np.unique(groups[train_index])}\")\n",
    "        print(f\"  Test:  index={test_index}, group={np.unique(groups[test_index])}\")\n",
    "        print(len(set(np.unique(groups[train_index])).intersection(set(np.unique(groups[test_index])))))\n",
    "\n",
    "    return trainx, trainy, testx, testy, train_index, test_index"
   ]
  },
  {
   "cell_type": "code",
   "execution_count": 22,
   "id": "7d3fbdd4",
   "metadata": {
    "ExecuteTime": {
     "end_time": "2023-09-07T00:21:00.031110Z",
     "start_time": "2023-09-07T00:20:59.844535Z"
    }
   },
   "outputs": [
    {
     "name": "stdout",
     "output_type": "stream",
     "text": [
      "  Train: index=[    1     2     3 ... 32843 32845 32848], group=['chr10' 'chr11' 'chr12' 'chr13' 'chr14' 'chr15' 'chr16' 'chr19' 'chr20'\n",
      " 'chr22' 'chr22_KI270733v1_random' 'chr3' 'chr4' 'chr5' 'chr6' 'chr7'\n",
      " 'chr9' 'chrUn_GL000195v1' 'chrUn_GL000219v1' 'chrX' 'chrY']\n",
      "  Test:  index=[    0     4    12 ... 32846 32847 32849], group=['chr1' 'chr17' 'chr18' 'chr2' 'chr21' 'chr8']\n",
      "0\n"
     ]
    }
   ],
   "source": [
    "trainX, trainy, testX, testy, traini, testi = train_test_split_Group(X, y, groups, train_size)"
   ]
  },
  {
   "cell_type": "markdown",
   "id": "678b3e0b",
   "metadata": {},
   "source": [
    "## pipeline"
   ]
  },
  {
   "cell_type": "code",
   "execution_count": 23,
   "id": "7ca5888d",
   "metadata": {
    "ExecuteTime": {
     "end_time": "2023-09-07T00:21:02.252644Z",
     "start_time": "2023-09-07T00:21:02.249200Z"
    }
   },
   "outputs": [],
   "source": [
    "pipe = Pipeline([('scaler', StandardScaler()),\n",
    "                 ('reg', LinearRegression())])"
   ]
  },
  {
   "cell_type": "code",
   "execution_count": 24,
   "id": "39cab18d",
   "metadata": {
    "ExecuteTime": {
     "end_time": "2023-09-07T00:21:04.013652Z",
     "start_time": "2023-09-07T00:21:02.581946Z"
    }
   },
   "outputs": [],
   "source": [
    "pipe.fit(trainX, trainy)\n",
    "\n",
    "pred_y = pipe.predict(testX)"
   ]
  },
  {
   "cell_type": "markdown",
   "id": "86f133de",
   "metadata": {},
   "source": [
    "## r2, rho"
   ]
  },
  {
   "cell_type": "code",
   "execution_count": 25,
   "id": "e768f010",
   "metadata": {
    "ExecuteTime": {
     "end_time": "2023-09-07T00:21:10.564603Z",
     "start_time": "2023-09-07T00:21:10.485364Z"
    }
   },
   "outputs": [
    {
     "data": {
      "text/plain": [
       "(-0.021151707742966375, 0.08811268571967656)"
      ]
     },
     "execution_count": 25,
     "metadata": {},
     "output_type": "execute_result"
    }
   ],
   "source": [
    "rsquared = pipe.score(testX, testy)\n",
    "rho, p = spearmanr(testy, pred_y)\n",
    "rsquared, rho"
   ]
  },
  {
   "cell_type": "markdown",
   "id": "16ff7de8",
   "metadata": {},
   "source": [
    "## mean squared error , mean abs error (robust)"
   ]
  },
  {
   "cell_type": "code",
   "execution_count": 26,
   "id": "3763156f",
   "metadata": {
    "ExecuteTime": {
     "end_time": "2023-09-07T00:21:32.294019Z",
     "start_time": "2023-09-07T00:21:32.287560Z"
    }
   },
   "outputs": [
    {
     "data": {
      "text/plain": [
       "(0.22957899261666628, 0.2799274006916222)"
      ]
     },
     "execution_count": 26,
     "metadata": {},
     "output_type": "execute_result"
    }
   ],
   "source": [
    "rmse = mean_squared_error(testy, pred_y)\n",
    "mae = mean_absolute_error(testy, pred_y)\n",
    "rmse, mae"
   ]
  },
  {
   "cell_type": "code",
   "execution_count": 27,
   "id": "16263267",
   "metadata": {
    "ExecuteTime": {
     "end_time": "2023-09-07T00:25:12.054416Z",
     "start_time": "2023-09-07T00:25:06.441124Z"
    }
   },
   "outputs": [
    {
     "data": {
      "image/png": "[encoded data removed]",
      "text/plain": [
       "<Figure size 600x600 with 3 Axes>"
      ]
     },
     "metadata": {},
     "output_type": "display_data"
    }
   ],
   "source": [
    "#fig, ax= plt.subplots(figsize=(6,6))\n",
    "j = sns.jointplot(x=testy, y=pred_y, alpha=0.7)\n",
    "j.set_axis_labels('obs', 'pred')\n",
    "\n",
    "j.fig.suptitle(f\"Linear regression\\n mean activity dif ~ 388 {QUERY} Sei chromatin features\")\n",
    "\n",
    "j.fig.text(0.65,0.1, f\"R2={round(rsquared, 2)}\\nRMSE={round(rmse, 2)}\")\n",
    "j.fig.text(0.65,0.2, f\"rho={round(rho, 2)}\\nMAE={round(mae, 2)}\")\n",
    "\n",
    "OUT = os.path.join(RE, f\"reg.mpra.{y_col}.obs.exp.pdf\")\n",
    "plt.savefig(OUT, bbox_inches=\"tight\")"
   ]
  },
  {
   "cell_type": "markdown",
   "id": "e930679f",
   "metadata": {},
   "source": [
    "## coeff weights"
   ]
  },
  {
   "cell_type": "code",
   "execution_count": 28,
   "id": "7ce96ebf",
   "metadata": {
    "ExecuteTime": {
     "end_time": "2023-09-07T00:25:19.066816Z",
     "start_time": "2023-09-07T00:25:19.062755Z"
    }
   },
   "outputs": [],
   "source": [
    "reg = pipe.named_steps[\"reg\"]\n",
    "\n",
    "coeff = {}\n",
    "for score, col in zip(reg.coef_, sei_cols):\n",
    "    coeff[col]=score\n",
    "\n",
    "cscores = pd.DataFrame(coeff.items())"
   ]
  },
  {
   "cell_type": "code",
   "execution_count": 29,
   "id": "5a5bb6cf",
   "metadata": {
    "ExecuteTime": {
     "end_time": "2023-09-07T00:25:20.546830Z",
     "start_time": "2023-09-07T00:25:20.532961Z"
    }
   },
   "outputs": [
    {
     "data": {
      "text/html": [
       "<div>\n",
       "<style scoped>\n",
       "    .dataframe tbody tr th:only-of-type {\n",
       "        vertical-align: middle;\n",
       "    }\n",
       "\n",
       "    .dataframe tbody tr th {\n",
       "        vertical-align: top;\n",
       "    }\n",
       "\n",
       "    .dataframe thead th {\n",
       "        text-align: right;\n",
       "    }\n",
       "</style>\n",
       "<table border=\"1\" class=\"dataframe\">\n",
       "  <thead>\n",
       "    <tr style=\"text-align: right;\">\n",
       "      <th></th>\n",
       "      <th>0</th>\n",
       "      <th>1</th>\n",
       "    </tr>\n",
       "  </thead>\n",
       "  <tbody>\n",
       "    <tr>\n",
       "      <th>0</th>\n",
       "      <td>HepG2_Epithelium_Liver|CTCF|ID:1380</td>\n",
       "      <td>-0.022698</td>\n",
       "    </tr>\n",
       "    <tr>\n",
       "      <th>1</th>\n",
       "      <td>HepG2_Epithelium_Liver|CTCF|ID:1381</td>\n",
       "      <td>0.090503</td>\n",
       "    </tr>\n",
       "    <tr>\n",
       "      <th>2</th>\n",
       "      <td>HepG2_Epithelium_Liver|CTCF|ID:1382</td>\n",
       "      <td>0.216765</td>\n",
       "    </tr>\n",
       "    <tr>\n",
       "      <th>3</th>\n",
       "      <td>HepG2_Epithelium_Liver|CTCF|ID:1383</td>\n",
       "      <td>-0.046453</td>\n",
       "    </tr>\n",
       "    <tr>\n",
       "      <th>4</th>\n",
       "      <td>HepG2_Epithelium_Liver|HNF4A|ID:1447</td>\n",
       "      <td>-0.027147</td>\n",
       "    </tr>\n",
       "    <tr>\n",
       "      <th>...</th>\n",
       "      <td>...</td>\n",
       "      <td>...</td>\n",
       "    </tr>\n",
       "    <tr>\n",
       "      <th>379</th>\n",
       "      <td>HepG2|USF2|ENCODE</td>\n",
       "      <td>-0.000671</td>\n",
       "    </tr>\n",
       "    <tr>\n",
       "      <th>380</th>\n",
       "      <td>HepG2|YY1|ENCODE</td>\n",
       "      <td>-0.017134</td>\n",
       "    </tr>\n",
       "    <tr>\n",
       "      <th>381</th>\n",
       "      <td>HepG2|ZBTB33|ENCODE</td>\n",
       "      <td>0.024238</td>\n",
       "    </tr>\n",
       "    <tr>\n",
       "      <th>382</th>\n",
       "      <td>HepG2|ZBTB7A|ENCODE</td>\n",
       "      <td>-0.012792</td>\n",
       "    </tr>\n",
       "    <tr>\n",
       "      <th>383</th>\n",
       "      <td>HepG2|ZNF274|ENCODE</td>\n",
       "      <td>-0.007227</td>\n",
       "    </tr>\n",
       "  </tbody>\n",
       "</table>\n",
       "<p>384 rows × 2 columns</p>\n",
       "</div>"
      ],
      "text/plain": [
       "                                        0         1\n",
       "0     HepG2_Epithelium_Liver|CTCF|ID:1380 -0.022698\n",
       "1     HepG2_Epithelium_Liver|CTCF|ID:1381  0.090503\n",
       "2     HepG2_Epithelium_Liver|CTCF|ID:1382  0.216765\n",
       "3     HepG2_Epithelium_Liver|CTCF|ID:1383 -0.046453\n",
       "4    HepG2_Epithelium_Liver|HNF4A|ID:1447 -0.027147\n",
       "..                                    ...       ...\n",
       "379                     HepG2|USF2|ENCODE -0.000671\n",
       "380                      HepG2|YY1|ENCODE -0.017134\n",
       "381                   HepG2|ZBTB33|ENCODE  0.024238\n",
       "382                   HepG2|ZBTB7A|ENCODE -0.012792\n",
       "383                   HepG2|ZNF274|ENCODE -0.007227\n",
       "\n",
       "[384 rows x 2 columns]"
      ]
     },
     "execution_count": 29,
     "metadata": {},
     "output_type": "execute_result"
    }
   ],
   "source": [
    "cscores"
   ]
  },
  {
   "cell_type": "code",
   "execution_count": 30,
   "id": "1d590dd7",
   "metadata": {
    "ExecuteTime": {
     "end_time": "2023-09-07T00:25:21.666859Z",
     "start_time": "2023-09-07T00:25:21.656704Z"
    }
   },
   "outputs": [
    {
     "data": {
      "text/html": [
       "<div>\n",
       "<style scoped>\n",
       "    .dataframe tbody tr th:only-of-type {\n",
       "        vertical-align: middle;\n",
       "    }\n",
       "\n",
       "    .dataframe tbody tr th {\n",
       "        vertical-align: top;\n",
       "    }\n",
       "\n",
       "    .dataframe thead th {\n",
       "        text-align: right;\n",
       "    }\n",
       "</style>\n",
       "<table border=\"1\" class=\"dataframe\">\n",
       "  <thead>\n",
       "    <tr style=\"text-align: right;\">\n",
       "      <th></th>\n",
       "      <th>chromatin</th>\n",
       "      <th>score</th>\n",
       "    </tr>\n",
       "  </thead>\n",
       "  <tbody>\n",
       "    <tr>\n",
       "      <th>56</th>\n",
       "      <td>HepG2_Epithelium_Liver|CTCF|ID:45794</td>\n",
       "      <td>-0.278533</td>\n",
       "    </tr>\n",
       "    <tr>\n",
       "      <th>133</th>\n",
       "      <td>HepG2_Epithelium_Liver|RAD21|ID:56041</td>\n",
       "      <td>-0.145133</td>\n",
       "    </tr>\n",
       "    <tr>\n",
       "      <th>145</th>\n",
       "      <td>HepG2_Epithelium_Liver|ATF1|ID:56053</td>\n",
       "      <td>-0.127552</td>\n",
       "    </tr>\n",
       "    <tr>\n",
       "      <th>85</th>\n",
       "      <td>HepG2_Epithelium_Liver|POLR2A|ID:45826</td>\n",
       "      <td>-0.124314</td>\n",
       "    </tr>\n",
       "    <tr>\n",
       "      <th>180</th>\n",
       "      <td>HepG2_Epithelium_Liver|CREB1|ID:63305</td>\n",
       "      <td>-0.082088</td>\n",
       "    </tr>\n",
       "    <tr>\n",
       "      <th>...</th>\n",
       "      <td>...</td>\n",
       "      <td>...</td>\n",
       "    </tr>\n",
       "    <tr>\n",
       "      <th>136</th>\n",
       "      <td>HepG2_Epithelium_Liver|GABPA|ID:56044</td>\n",
       "      <td>0.084271</td>\n",
       "    </tr>\n",
       "    <tr>\n",
       "      <th>11</th>\n",
       "      <td>HepG2_Epithelium_Liver|STAG1|ID:1492</td>\n",
       "      <td>0.090186</td>\n",
       "    </tr>\n",
       "    <tr>\n",
       "      <th>1</th>\n",
       "      <td>HepG2_Epithelium_Liver|CTCF|ID:1381</td>\n",
       "      <td>0.090503</td>\n",
       "    </tr>\n",
       "    <tr>\n",
       "      <th>229</th>\n",
       "      <td>HepG2_Epithelium_Liver|CREM|ID:64798</td>\n",
       "      <td>0.111373</td>\n",
       "    </tr>\n",
       "    <tr>\n",
       "      <th>2</th>\n",
       "      <td>HepG2_Epithelium_Liver|CTCF|ID:1382</td>\n",
       "      <td>0.216765</td>\n",
       "    </tr>\n",
       "  </tbody>\n",
       "</table>\n",
       "<p>384 rows × 2 columns</p>\n",
       "</div>"
      ],
      "text/plain": [
       "                                  chromatin     score\n",
       "56     HepG2_Epithelium_Liver|CTCF|ID:45794 -0.278533\n",
       "133   HepG2_Epithelium_Liver|RAD21|ID:56041 -0.145133\n",
       "145    HepG2_Epithelium_Liver|ATF1|ID:56053 -0.127552\n",
       "85   HepG2_Epithelium_Liver|POLR2A|ID:45826 -0.124314\n",
       "180   HepG2_Epithelium_Liver|CREB1|ID:63305 -0.082088\n",
       "..                                      ...       ...\n",
       "136   HepG2_Epithelium_Liver|GABPA|ID:56044  0.084271\n",
       "11     HepG2_Epithelium_Liver|STAG1|ID:1492  0.090186\n",
       "1       HepG2_Epithelium_Liver|CTCF|ID:1381  0.090503\n",
       "229    HepG2_Epithelium_Liver|CREM|ID:64798  0.111373\n",
       "2       HepG2_Epithelium_Liver|CTCF|ID:1382  0.216765\n",
       "\n",
       "[384 rows x 2 columns]"
      ]
     },
     "execution_count": 30,
     "metadata": {},
     "output_type": "execute_result"
    }
   ],
   "source": [
    "cscores.columns=[\"chromatin\", \"score\"]\n",
    "cscores.sort_values(by=\"score\")"
   ]
  },
  {
   "cell_type": "code",
   "execution_count": 32,
   "id": "0f34d558",
   "metadata": {
    "ExecuteTime": {
     "end_time": "2023-09-07T00:25:50.966335Z",
     "start_time": "2023-09-07T00:25:46.876152Z"
    }
   },
   "outputs": [
    {
     "data": {
      "image/png": "[encoded data removed]",
      "text/plain": [
       "<Figure size 600x600 with 1 Axes>"
      ]
     },
     "metadata": {},
     "output_type": "display_data"
    }
   ],
   "source": [
    "fig, ax= plt.subplots(figsize=(6,6))\n",
    "data = cscores.loc[cscores[\"score\"].abs() >0.1]\n",
    "x=\"score\" \n",
    "y=\"chromatin\"\n",
    "sns.barplot(x=x, y=y, data=data.sort_values(by=\"score\"))\n",
    "ax.set(title = f\"Coef. Linear regression\\n mean activity dif ~ {QUERY}  {data.shape[0]} Sei features\",\n",
    "       xlabel = \"coefficient weight\"\n",
    "      )\n",
    "OUT = os.path.join(RE, f\"reg.chromatin.{y_col}.coef.pdf\")\n",
    "\n",
    "plt.savefig(OUT, bbox_inches=\"tight\")"
   ]
  },
  {
   "cell_type": "markdown",
   "id": "1769cbfc",
   "metadata": {},
   "source": [
    "# regularization \n",
    "- lasso - doesn't work\n",
    "- ridge, gridsearchcv recommends alpha=100"
   ]
  },
  {
   "cell_type": "code",
   "execution_count": 33,
   "id": "d34d8eef",
   "metadata": {
    "ExecuteTime": {
     "end_time": "2023-09-07T00:26:01.315544Z",
     "start_time": "2023-09-07T00:26:00.942489Z"
    }
   },
   "outputs": [],
   "source": [
    "ytrain_df= np.array(merged.iloc[traini][y_col])\n",
    "xtrain_df= np.array(merged.iloc[traini][sei_cols])\n",
    "groups = np.array(merged.iloc[traini][group_col])\n",
    "\n",
    "#gridSearchModel(xtrain_df, ytrain_df, True, groups)  # gridsearch does not do stratified group split. "
   ]
  },
  {
   "cell_type": "code",
   "execution_count": 39,
   "id": "f30a46d4",
   "metadata": {
    "ExecuteTime": {
     "end_time": "2023-09-07T00:32:06.914520Z",
     "start_time": "2023-09-07T00:32:06.907091Z"
    }
   },
   "outputs": [],
   "source": [
    "def cv(x_, y_, groups, model_name):\n",
    "    \n",
    "    best_score, best_rho = 0, 0\n",
    "    \n",
    "    \n",
    "    last_test = set()\n",
    "    # shuffle split on \n",
    "    gss = GroupShuffleSplit(n_splits=10, train_size=0.9, \n",
    "                            #random_state=42\n",
    "                           )\n",
    "    sc = StandardScaler()\n",
    "    for alpha in [0.1,10,100, 1000]:\n",
    "        print(\"\\ntesting alpha\", alpha, \"\\n\")\n",
    "        mean_score, mean_rho = [],[]\n",
    "        n = 0\n",
    "        for train_index, test_index in gss.split(x_, y_, groups):\n",
    "        \n",
    "            print(\"fold\", n)\n",
    "            n+=1\n",
    "            trainx_, testx_ = x_[train_index], x_[test_index]\n",
    "            trainy_, testy_ = y_[train_index], y_[test_index]\n",
    "\n",
    "            #print(len(set(test_index).difference(last_test)))\n",
    "\n",
    "            # update last_test\n",
    "            last_test = test_index        \n",
    "            \n",
    "            if model_name == \"Ridge\":\n",
    "                model = Ridge(alpha=alpha)\n",
    "                \n",
    "            elif model_name == \"Lasso\":\n",
    "                model = Lasso(alpha=alpha)\n",
    "            \n",
    "            elif model_name ==\"elastic\":\n",
    "                model = ElasticNet(alpha=alpha)\n",
    "\n",
    "            # scale features\n",
    "            trainx_sc, testx_sc = sc.fit_transform(trainx_), sc.fit_transform(testx_)\n",
    "            \n",
    "            model.fit(trainx_sc, trainy_)\n",
    "            \n",
    "            y_pred = model.predict(testx_sc)\n",
    "            \n",
    "            score = model.score(testx_sc, testy_)\n",
    "            \n",
    "            rho, p = spearmanr(testy_, y_pred)\n",
    "            \n",
    "            # pearson\n",
    "            if score > best_score:\n",
    "                best_score = score\n",
    "            \n",
    "            # rho\n",
    "            if rho> best_rho:\n",
    "                best_rho = rho\n",
    "            \n",
    "            mean_score.append(score), mean_rho.append(rho)\n",
    "        print(model,alpha, \n",
    "              \"mean score\", np.mean(mean_score).round(2), \n",
    "              \"best pearson\", round(best_score,2),\n",
    "              \"mean rho\", np.mean(mean_rho).round(2), \n",
    "              \"best rho\", round(best_rho,2), \n",
    "              )"
   ]
  },
  {
   "cell_type": "code",
   "execution_count": 35,
   "id": "4a95194f",
   "metadata": {
    "ExecuteTime": {
     "end_time": "2023-09-07T00:26:15.626559Z",
     "start_time": "2023-09-07T00:26:03.326362Z"
    }
   },
   "outputs": [
    {
     "name": "stdout",
     "output_type": "stream",
     "text": [
      "\n",
      "testing alpha 0 \n",
      "\n",
      "3386\n",
      "best rho 0.052018074366127126 0\n",
      "2997\n",
      "best rho 0.07073860279572258 0\n",
      "17\n",
      "best rho 0.09980414395398829 0\n",
      "884\n",
      "4528\n",
      "2299\n",
      "1855\n",
      "2623\n",
      "4735\n",
      "3599\n",
      "Ridge(alpha=0) mean score 0.0 mean rho 0.07328530747907167 0\n",
      "\n",
      "testing alpha 10 \n",
      "\n",
      "2959\n",
      "best pearson 0.012911496138173995 10\n",
      "17\n",
      "3280\n",
      "best rho 0.10127942784130073 10\n",
      "4703\n",
      "best pearson 0.01890694710718377 10\n",
      "best rho 0.13320054548140126 10\n",
      "3228\n",
      "3037\n",
      "1268\n",
      "3710\n",
      "1696\n",
      "best pearson 0.02695139176882877 10\n",
      "1069\n",
      "Ridge(alpha=10) mean score 0.02695139176882877 mean rho 0.10277171141832664 10\n",
      "\n",
      "testing alpha 100 \n",
      "\n",
      "1988\n",
      "884\n",
      "3743\n",
      "2938\n",
      "2973\n",
      "1128\n",
      "3388\n",
      "2817\n",
      "2078\n",
      "4698\n",
      "Ridge(alpha=100) mean score 0.02695139176882877 mean rho 0.10218560182116618 100\n",
      "\n",
      "testing alpha 1000 \n",
      "\n",
      "2519\n",
      "1659\n",
      "10\n",
      "3936\n",
      "3586\n",
      "4985\n",
      "best rho 0.1369376815540072 1000\n",
      "4056\n",
      "2901\n",
      "2155\n",
      "4146\n",
      "Ridge(alpha=1000) mean score 0.02695139176882877 mean rho 0.10940007235996732 1000\n"
     ]
    }
   ],
   "source": [
    " cv(xtrain_df, ytrain_df, groups, \"Ridge\")"
   ]
  },
  {
   "cell_type": "code",
   "execution_count": 40,
   "id": "f394af00",
   "metadata": {
    "ExecuteTime": {
     "end_time": "2023-09-07T00:35:00.050654Z",
     "start_time": "2023-09-07T00:32:09.589352Z"
    }
   },
   "outputs": [
    {
     "name": "stdout",
     "output_type": "stream",
     "text": [
      "\n",
      "testing alpha 0 \n",
      "\n"
     ]
    },
    {
     "name": "stderr",
     "output_type": "stream",
     "text": [
      "/scratch/fongsl/ipykernel_23162/2795988854.py:34: UserWarning: With alpha=0, this algorithm does not converge well. You are advised to use the LinearRegression estimator\n",
      "  model.fit(trainx_, trainy_)\n",
      "/wynton/home/ahituv/fongsl/.conda/envs/mamba/lib/python3.9/site-packages/sklearn/linear_model/_coordinate_descent.py:631: UserWarning: Coordinate descent with no regularization may lead to unexpected results and is discouraged.\n",
      "  model = cd_fast.enet_coordinate_descent(\n",
      "/wynton/home/ahituv/fongsl/.conda/envs/mamba/lib/python3.9/site-packages/sklearn/linear_model/_coordinate_descent.py:631: ConvergenceWarning: Objective did not converge. You might want to increase the number of iterations, check the scale of the features or consider increasing regularisation. Duality gap: 2.111e+03, tolerance: 4.488e-01 Linear regression models with null weight for the l1 regularization term are more efficiently fitted using one of the solvers implemented in sklearn.linear_model.Ridge/RidgeCV instead.\n",
      "  model = cd_fast.enet_coordinate_descent(\n",
      "/scratch/fongsl/ipykernel_23162/2795988854.py:34: UserWarning: With alpha=0, this algorithm does not converge well. You are advised to use the LinearRegression estimator\n",
      "  model.fit(trainx_, trainy_)\n"
     ]
    },
    {
     "name": "stdout",
     "output_type": "stream",
     "text": [
      "best rho 0.06571625007558578 0\n"
     ]
    },
    {
     "name": "stderr",
     "output_type": "stream",
     "text": [
      "/wynton/home/ahituv/fongsl/.conda/envs/mamba/lib/python3.9/site-packages/sklearn/linear_model/_coordinate_descent.py:631: UserWarning: Coordinate descent with no regularization may lead to unexpected results and is discouraged.\n",
      "  model = cd_fast.enet_coordinate_descent(\n",
      "/wynton/home/ahituv/fongsl/.conda/envs/mamba/lib/python3.9/site-packages/sklearn/linear_model/_coordinate_descent.py:631: ConvergenceWarning: Objective did not converge. You might want to increase the number of iterations, check the scale of the features or consider increasing regularisation. Duality gap: 2.059e+03, tolerance: 4.384e-01 Linear regression models with null weight for the l1 regularization term are more efficiently fitted using one of the solvers implemented in sklearn.linear_model.Ridge/RidgeCV instead.\n",
      "  model = cd_fast.enet_coordinate_descent(\n",
      "/scratch/fongsl/ipykernel_23162/2795988854.py:34: UserWarning: With alpha=0, this algorithm does not converge well. You are advised to use the LinearRegression estimator\n",
      "  model.fit(trainx_, trainy_)\n",
      "/wynton/home/ahituv/fongsl/.conda/envs/mamba/lib/python3.9/site-packages/sklearn/linear_model/_coordinate_descent.py:631: UserWarning: Coordinate descent with no regularization may lead to unexpected results and is discouraged.\n",
      "  model = cd_fast.enet_coordinate_descent(\n",
      "/wynton/home/ahituv/fongsl/.conda/envs/mamba/lib/python3.9/site-packages/sklearn/linear_model/_coordinate_descent.py:631: ConvergenceWarning: Objective did not converge. You might want to increase the number of iterations, check the scale of the features or consider increasing regularisation. Duality gap: 2.007e+03, tolerance: 4.257e-01 Linear regression models with null weight for the l1 regularization term are more efficiently fitted using one of the solvers implemented in sklearn.linear_model.Ridge/RidgeCV instead.\n",
      "  model = cd_fast.enet_coordinate_descent(\n",
      "/scratch/fongsl/ipykernel_23162/2795988854.py:34: UserWarning: With alpha=0, this algorithm does not converge well. You are advised to use the LinearRegression estimator\n",
      "  model.fit(trainx_, trainy_)\n"
     ]
    },
    {
     "name": "stdout",
     "output_type": "stream",
     "text": [
      "best rho 0.09797983314131636 0\n"
     ]
    },
    {
     "name": "stderr",
     "output_type": "stream",
     "text": [
      "/wynton/home/ahituv/fongsl/.conda/envs/mamba/lib/python3.9/site-packages/sklearn/linear_model/_coordinate_descent.py:631: UserWarning: Coordinate descent with no regularization may lead to unexpected results and is discouraged.\n",
      "  model = cd_fast.enet_coordinate_descent(\n",
      "/wynton/home/ahituv/fongsl/.conda/envs/mamba/lib/python3.9/site-packages/sklearn/linear_model/_coordinate_descent.py:631: ConvergenceWarning: Objective did not converge. You might want to increase the number of iterations, check the scale of the features or consider increasing regularisation. Duality gap: 1.917e+03, tolerance: 4.078e-01 Linear regression models with null weight for the l1 regularization term are more efficiently fitted using one of the solvers implemented in sklearn.linear_model.Ridge/RidgeCV instead.\n",
      "  model = cd_fast.enet_coordinate_descent(\n",
      "/scratch/fongsl/ipykernel_23162/2795988854.py:34: UserWarning: With alpha=0, this algorithm does not converge well. You are advised to use the LinearRegression estimator\n",
      "  model.fit(trainx_, trainy_)\n",
      "/wynton/home/ahituv/fongsl/.conda/envs/mamba/lib/python3.9/site-packages/sklearn/linear_model/_coordinate_descent.py:631: UserWarning: Coordinate descent with no regularization may lead to unexpected results and is discouraged.\n",
      "  model = cd_fast.enet_coordinate_descent(\n",
      "/wynton/home/ahituv/fongsl/.conda/envs/mamba/lib/python3.9/site-packages/sklearn/linear_model/_coordinate_descent.py:631: ConvergenceWarning: Objective did not converge. You might want to increase the number of iterations, check the scale of the features or consider increasing regularisation. Duality gap: 2.080e+03, tolerance: 4.404e-01 Linear regression models with null weight for the l1 regularization term are more efficiently fitted using one of the solvers implemented in sklearn.linear_model.Ridge/RidgeCV instead.\n",
      "  model = cd_fast.enet_coordinate_descent(\n",
      "/scratch/fongsl/ipykernel_23162/2795988854.py:34: UserWarning: With alpha=0, this algorithm does not converge well. You are advised to use the LinearRegression estimator\n",
      "  model.fit(trainx_, trainy_)\n",
      "/wynton/home/ahituv/fongsl/.conda/envs/mamba/lib/python3.9/site-packages/sklearn/linear_model/_coordinate_descent.py:631: UserWarning: Coordinate descent with no regularization may lead to unexpected results and is discouraged.\n",
      "  model = cd_fast.enet_coordinate_descent(\n",
      "/wynton/home/ahituv/fongsl/.conda/envs/mamba/lib/python3.9/site-packages/sklearn/linear_model/_coordinate_descent.py:631: ConvergenceWarning: Objective did not converge. You might want to increase the number of iterations, check the scale of the features or consider increasing regularisation. Duality gap: 2.021e+03, tolerance: 4.289e-01 Linear regression models with null weight for the l1 regularization term are more efficiently fitted using one of the solvers implemented in sklearn.linear_model.Ridge/RidgeCV instead.\n",
      "  model = cd_fast.enet_coordinate_descent(\n",
      "/scratch/fongsl/ipykernel_23162/2795988854.py:34: UserWarning: With alpha=0, this algorithm does not converge well. You are advised to use the LinearRegression estimator\n",
      "  model.fit(trainx_, trainy_)\n",
      "/wynton/home/ahituv/fongsl/.conda/envs/mamba/lib/python3.9/site-packages/sklearn/linear_model/_coordinate_descent.py:631: UserWarning: Coordinate descent with no regularization may lead to unexpected results and is discouraged.\n",
      "  model = cd_fast.enet_coordinate_descent(\n",
      "/wynton/home/ahituv/fongsl/.conda/envs/mamba/lib/python3.9/site-packages/sklearn/linear_model/_coordinate_descent.py:631: ConvergenceWarning: Objective did not converge. You might want to increase the number of iterations, check the scale of the features or consider increasing regularisation. Duality gap: 2.387e+03, tolerance: 5.037e-01 Linear regression models with null weight for the l1 regularization term are more efficiently fitted using one of the solvers implemented in sklearn.linear_model.Ridge/RidgeCV instead.\n",
      "  model = cd_fast.enet_coordinate_descent(\n",
      "/scratch/fongsl/ipykernel_23162/2795988854.py:34: UserWarning: With alpha=0, this algorithm does not converge well. You are advised to use the LinearRegression estimator\n",
      "  model.fit(trainx_, trainy_)\n",
      "/wynton/home/ahituv/fongsl/.conda/envs/mamba/lib/python3.9/site-packages/sklearn/linear_model/_coordinate_descent.py:631: UserWarning: Coordinate descent with no regularization may lead to unexpected results and is discouraged.\n",
      "  model = cd_fast.enet_coordinate_descent(\n",
      "/wynton/home/ahituv/fongsl/.conda/envs/mamba/lib/python3.9/site-packages/sklearn/linear_model/_coordinate_descent.py:631: ConvergenceWarning: Objective did not converge. You might want to increase the number of iterations, check the scale of the features or consider increasing regularisation. Duality gap: 2.258e+03, tolerance: 4.769e-01 Linear regression models with null weight for the l1 regularization term are more efficiently fitted using one of the solvers implemented in sklearn.linear_model.Ridge/RidgeCV instead.\n",
      "  model = cd_fast.enet_coordinate_descent(\n",
      "/scratch/fongsl/ipykernel_23162/2795988854.py:34: UserWarning: With alpha=0, this algorithm does not converge well. You are advised to use the LinearRegression estimator\n",
      "  model.fit(trainx_, trainy_)\n",
      "/wynton/home/ahituv/fongsl/.conda/envs/mamba/lib/python3.9/site-packages/sklearn/linear_model/_coordinate_descent.py:631: UserWarning: Coordinate descent with no regularization may lead to unexpected results and is discouraged.\n",
      "  model = cd_fast.enet_coordinate_descent(\n",
      "/wynton/home/ahituv/fongsl/.conda/envs/mamba/lib/python3.9/site-packages/sklearn/linear_model/_coordinate_descent.py:631: ConvergenceWarning: Objective did not converge. You might want to increase the number of iterations, check the scale of the features or consider increasing regularisation. Duality gap: 2.246e+03, tolerance: 4.751e-01 Linear regression models with null weight for the l1 regularization term are more efficiently fitted using one of the solvers implemented in sklearn.linear_model.Ridge/RidgeCV instead.\n",
      "  model = cd_fast.enet_coordinate_descent(\n",
      "/scratch/fongsl/ipykernel_23162/2795988854.py:34: UserWarning: With alpha=0, this algorithm does not converge well. You are advised to use the LinearRegression estimator\n",
      "  model.fit(trainx_, trainy_)\n",
      "/wynton/home/ahituv/fongsl/.conda/envs/mamba/lib/python3.9/site-packages/sklearn/linear_model/_coordinate_descent.py:631: UserWarning: Coordinate descent with no regularization may lead to unexpected results and is discouraged.\n",
      "  model = cd_fast.enet_coordinate_descent(\n",
      "/wynton/home/ahituv/fongsl/.conda/envs/mamba/lib/python3.9/site-packages/sklearn/linear_model/_coordinate_descent.py:631: ConvergenceWarning: Objective did not converge. You might want to increase the number of iterations, check the scale of the features or consider increasing regularisation. Duality gap: 1.979e+03, tolerance: 4.208e-01 Linear regression models with null weight for the l1 regularization term are more efficiently fitted using one of the solvers implemented in sklearn.linear_model.Ridge/RidgeCV instead.\n",
      "  model = cd_fast.enet_coordinate_descent(\n"
     ]
    },
    {
     "name": "stdout",
     "output_type": "stream",
     "text": [
      "ElasticNet(alpha=0) mean score 0.0 mean rho 0.06895824224311733 0\n",
      "\n",
      "testing alpha 10 \n",
      "\n"
     ]
    },
    {
     "name": "stderr",
     "output_type": "stream",
     "text": [
      "/wynton/home/ahituv/fongsl/.conda/envs/mamba/lib/python3.9/site-packages/scipy/stats/_stats_py.py:4916: ConstantInputWarning: An input array is constant; the correlation coefficient is not defined.\n",
      "  warnings.warn(stats.ConstantInputWarning(warn_msg))\n",
      "/wynton/home/ahituv/fongsl/.conda/envs/mamba/lib/python3.9/site-packages/scipy/stats/_stats_py.py:4916: ConstantInputWarning: An input array is constant; the correlation coefficient is not defined.\n",
      "  warnings.warn(stats.ConstantInputWarning(warn_msg))\n",
      "/wynton/home/ahituv/fongsl/.conda/envs/mamba/lib/python3.9/site-packages/scipy/stats/_stats_py.py:4916: ConstantInputWarning: An input array is constant; the correlation coefficient is not defined.\n",
      "  warnings.warn(stats.ConstantInputWarning(warn_msg))\n",
      "/wynton/home/ahituv/fongsl/.conda/envs/mamba/lib/python3.9/site-packages/scipy/stats/_stats_py.py:4916: ConstantInputWarning: An input array is constant; the correlation coefficient is not defined.\n",
      "  warnings.warn(stats.ConstantInputWarning(warn_msg))\n",
      "/wynton/home/ahituv/fongsl/.conda/envs/mamba/lib/python3.9/site-packages/scipy/stats/_stats_py.py:4916: ConstantInputWarning: An input array is constant; the correlation coefficient is not defined.\n",
      "  warnings.warn(stats.ConstantInputWarning(warn_msg))\n",
      "/wynton/home/ahituv/fongsl/.conda/envs/mamba/lib/python3.9/site-packages/scipy/stats/_stats_py.py:4916: ConstantInputWarning: An input array is constant; the correlation coefficient is not defined.\n",
      "  warnings.warn(stats.ConstantInputWarning(warn_msg))\n",
      "/wynton/home/ahituv/fongsl/.conda/envs/mamba/lib/python3.9/site-packages/scipy/stats/_stats_py.py:4916: ConstantInputWarning: An input array is constant; the correlation coefficient is not defined.\n",
      "  warnings.warn(stats.ConstantInputWarning(warn_msg))\n",
      "/wynton/home/ahituv/fongsl/.conda/envs/mamba/lib/python3.9/site-packages/scipy/stats/_stats_py.py:4916: ConstantInputWarning: An input array is constant; the correlation coefficient is not defined.\n",
      "  warnings.warn(stats.ConstantInputWarning(warn_msg))\n",
      "/wynton/home/ahituv/fongsl/.conda/envs/mamba/lib/python3.9/site-packages/scipy/stats/_stats_py.py:4916: ConstantInputWarning: An input array is constant; the correlation coefficient is not defined.\n",
      "  warnings.warn(stats.ConstantInputWarning(warn_msg))\n",
      "/wynton/home/ahituv/fongsl/.conda/envs/mamba/lib/python3.9/site-packages/scipy/stats/_stats_py.py:4916: ConstantInputWarning: An input array is constant; the correlation coefficient is not defined.\n",
      "  warnings.warn(stats.ConstantInputWarning(warn_msg))\n"
     ]
    },
    {
     "name": "stdout",
     "output_type": "stream",
     "text": [
      "ElasticNet(alpha=10) mean score 0.0 mean rho nan 10\n",
      "\n",
      "testing alpha 100 \n",
      "\n"
     ]
    },
    {
     "name": "stderr",
     "output_type": "stream",
     "text": [
      "/wynton/home/ahituv/fongsl/.conda/envs/mamba/lib/python3.9/site-packages/scipy/stats/_stats_py.py:4916: ConstantInputWarning: An input array is constant; the correlation coefficient is not defined.\n",
      "  warnings.warn(stats.ConstantInputWarning(warn_msg))\n",
      "/wynton/home/ahituv/fongsl/.conda/envs/mamba/lib/python3.9/site-packages/scipy/stats/_stats_py.py:4916: ConstantInputWarning: An input array is constant; the correlation coefficient is not defined.\n",
      "  warnings.warn(stats.ConstantInputWarning(warn_msg))\n",
      "/wynton/home/ahituv/fongsl/.conda/envs/mamba/lib/python3.9/site-packages/scipy/stats/_stats_py.py:4916: ConstantInputWarning: An input array is constant; the correlation coefficient is not defined.\n",
      "  warnings.warn(stats.ConstantInputWarning(warn_msg))\n",
      "/wynton/home/ahituv/fongsl/.conda/envs/mamba/lib/python3.9/site-packages/scipy/stats/_stats_py.py:4916: ConstantInputWarning: An input array is constant; the correlation coefficient is not defined.\n",
      "  warnings.warn(stats.ConstantInputWarning(warn_msg))\n",
      "/wynton/home/ahituv/fongsl/.conda/envs/mamba/lib/python3.9/site-packages/scipy/stats/_stats_py.py:4916: ConstantInputWarning: An input array is constant; the correlation coefficient is not defined.\n",
      "  warnings.warn(stats.ConstantInputWarning(warn_msg))\n",
      "/wynton/home/ahituv/fongsl/.conda/envs/mamba/lib/python3.9/site-packages/scipy/stats/_stats_py.py:4916: ConstantInputWarning: An input array is constant; the correlation coefficient is not defined.\n",
      "  warnings.warn(stats.ConstantInputWarning(warn_msg))\n",
      "/wynton/home/ahituv/fongsl/.conda/envs/mamba/lib/python3.9/site-packages/scipy/stats/_stats_py.py:4916: ConstantInputWarning: An input array is constant; the correlation coefficient is not defined.\n",
      "  warnings.warn(stats.ConstantInputWarning(warn_msg))\n",
      "/wynton/home/ahituv/fongsl/.conda/envs/mamba/lib/python3.9/site-packages/scipy/stats/_stats_py.py:4916: ConstantInputWarning: An input array is constant; the correlation coefficient is not defined.\n",
      "  warnings.warn(stats.ConstantInputWarning(warn_msg))\n",
      "/wynton/home/ahituv/fongsl/.conda/envs/mamba/lib/python3.9/site-packages/scipy/stats/_stats_py.py:4916: ConstantInputWarning: An input array is constant; the correlation coefficient is not defined.\n",
      "  warnings.warn(stats.ConstantInputWarning(warn_msg))\n",
      "/wynton/home/ahituv/fongsl/.conda/envs/mamba/lib/python3.9/site-packages/scipy/stats/_stats_py.py:4916: ConstantInputWarning: An input array is constant; the correlation coefficient is not defined.\n",
      "  warnings.warn(stats.ConstantInputWarning(warn_msg))\n"
     ]
    },
    {
     "name": "stdout",
     "output_type": "stream",
     "text": [
      "ElasticNet(alpha=100) mean score 0.0 mean rho nan 100\n",
      "\n",
      "testing alpha 1000 \n",
      "\n"
     ]
    },
    {
     "name": "stderr",
     "output_type": "stream",
     "text": [
      "/wynton/home/ahituv/fongsl/.conda/envs/mamba/lib/python3.9/site-packages/scipy/stats/_stats_py.py:4916: ConstantInputWarning: An input array is constant; the correlation coefficient is not defined.\n",
      "  warnings.warn(stats.ConstantInputWarning(warn_msg))\n",
      "/wynton/home/ahituv/fongsl/.conda/envs/mamba/lib/python3.9/site-packages/scipy/stats/_stats_py.py:4916: ConstantInputWarning: An input array is constant; the correlation coefficient is not defined.\n",
      "  warnings.warn(stats.ConstantInputWarning(warn_msg))\n",
      "/wynton/home/ahituv/fongsl/.conda/envs/mamba/lib/python3.9/site-packages/scipy/stats/_stats_py.py:4916: ConstantInputWarning: An input array is constant; the correlation coefficient is not defined.\n",
      "  warnings.warn(stats.ConstantInputWarning(warn_msg))\n",
      "/wynton/home/ahituv/fongsl/.conda/envs/mamba/lib/python3.9/site-packages/scipy/stats/_stats_py.py:4916: ConstantInputWarning: An input array is constant; the correlation coefficient is not defined.\n",
      "  warnings.warn(stats.ConstantInputWarning(warn_msg))\n",
      "/wynton/home/ahituv/fongsl/.conda/envs/mamba/lib/python3.9/site-packages/scipy/stats/_stats_py.py:4916: ConstantInputWarning: An input array is constant; the correlation coefficient is not defined.\n",
      "  warnings.warn(stats.ConstantInputWarning(warn_msg))\n",
      "/wynton/home/ahituv/fongsl/.conda/envs/mamba/lib/python3.9/site-packages/scipy/stats/_stats_py.py:4916: ConstantInputWarning: An input array is constant; the correlation coefficient is not defined.\n",
      "  warnings.warn(stats.ConstantInputWarning(warn_msg))\n",
      "/wynton/home/ahituv/fongsl/.conda/envs/mamba/lib/python3.9/site-packages/scipy/stats/_stats_py.py:4916: ConstantInputWarning: An input array is constant; the correlation coefficient is not defined.\n",
      "  warnings.warn(stats.ConstantInputWarning(warn_msg))\n",
      "/wynton/home/ahituv/fongsl/.conda/envs/mamba/lib/python3.9/site-packages/scipy/stats/_stats_py.py:4916: ConstantInputWarning: An input array is constant; the correlation coefficient is not defined.\n",
      "  warnings.warn(stats.ConstantInputWarning(warn_msg))\n",
      "/wynton/home/ahituv/fongsl/.conda/envs/mamba/lib/python3.9/site-packages/scipy/stats/_stats_py.py:4916: ConstantInputWarning: An input array is constant; the correlation coefficient is not defined.\n",
      "  warnings.warn(stats.ConstantInputWarning(warn_msg))\n"
     ]
    },
    {
     "name": "stdout",
     "output_type": "stream",
     "text": [
      "ElasticNet(alpha=1000) mean score 0.0 mean rho nan 1000\n"
     ]
    },
    {
     "name": "stderr",
     "output_type": "stream",
     "text": [
      "/wynton/home/ahituv/fongsl/.conda/envs/mamba/lib/python3.9/site-packages/scipy/stats/_stats_py.py:4916: ConstantInputWarning: An input array is constant; the correlation coefficient is not defined.\n",
      "  warnings.warn(stats.ConstantInputWarning(warn_msg))\n"
     ]
    }
   ],
   "source": [
    " cv(xtrain_df, ytrain_df, groups, \"elastic\")"
   ]
  },
  {
   "cell_type": "code",
   "execution_count": 36,
   "id": "2200afbb",
   "metadata": {
    "ExecuteTime": {
     "end_time": "2023-09-07T00:28:58.112312Z",
     "start_time": "2023-09-07T00:26:17.789885Z"
    }
   },
   "outputs": [
    {
     "name": "stdout",
     "output_type": "stream",
     "text": [
      "\n",
      "testing alpha 0 \n",
      "\n",
      "3860\n"
     ]
    },
    {
     "name": "stderr",
     "output_type": "stream",
     "text": [
      "/scratch/fongsl/ipykernel_23162/1842531335.py:29: UserWarning: With alpha=0, this algorithm does not converge well. You are advised to use the LinearRegression estimator\n",
      "  model = Lasso(alpha=alpha).fit(trainx_, trainy_)\n",
      "/wynton/home/ahituv/fongsl/.conda/envs/mamba/lib/python3.9/site-packages/sklearn/linear_model/_coordinate_descent.py:631: UserWarning: Coordinate descent with no regularization may lead to unexpected results and is discouraged.\n",
      "  model = cd_fast.enet_coordinate_descent(\n",
      "/wynton/home/ahituv/fongsl/.conda/envs/mamba/lib/python3.9/site-packages/sklearn/linear_model/_coordinate_descent.py:631: ConvergenceWarning: Objective did not converge. You might want to increase the number of iterations, check the scale of the features or consider increasing regularisation. Duality gap: 2.135e+03, tolerance: 4.523e-01 Linear regression models with null weight for the l1 regularization term are more efficiently fitted using one of the solvers implemented in sklearn.linear_model.Ridge/RidgeCV instead.\n",
      "  model = cd_fast.enet_coordinate_descent(\n",
      "/scratch/fongsl/ipykernel_23162/1842531335.py:29: UserWarning: With alpha=0, this algorithm does not converge well. You are advised to use the LinearRegression estimator\n",
      "  model = Lasso(alpha=alpha).fit(trainx_, trainy_)\n"
     ]
    },
    {
     "name": "stdout",
     "output_type": "stream",
     "text": [
      "best rho 0.07309157628401787 0\n",
      "3647\n"
     ]
    },
    {
     "name": "stderr",
     "output_type": "stream",
     "text": [
      "/wynton/home/ahituv/fongsl/.conda/envs/mamba/lib/python3.9/site-packages/sklearn/linear_model/_coordinate_descent.py:631: UserWarning: Coordinate descent with no regularization may lead to unexpected results and is discouraged.\n",
      "  model = cd_fast.enet_coordinate_descent(\n",
      "/wynton/home/ahituv/fongsl/.conda/envs/mamba/lib/python3.9/site-packages/sklearn/linear_model/_coordinate_descent.py:631: ConvergenceWarning: Objective did not converge. You might want to increase the number of iterations, check the scale of the features or consider increasing regularisation. Duality gap: 1.979e+03, tolerance: 4.192e-01 Linear regression models with null weight for the l1 regularization term are more efficiently fitted using one of the solvers implemented in sklearn.linear_model.Ridge/RidgeCV instead.\n",
      "  model = cd_fast.enet_coordinate_descent(\n",
      "/scratch/fongsl/ipykernel_23162/1842531335.py:29: UserWarning: With alpha=0, this algorithm does not converge well. You are advised to use the LinearRegression estimator\n",
      "  model = Lasso(alpha=alpha).fit(trainx_, trainy_)\n"
     ]
    },
    {
     "name": "stdout",
     "output_type": "stream",
     "text": [
      "best rho 0.0998420263061004 0\n",
      "1391\n"
     ]
    },
    {
     "name": "stderr",
     "output_type": "stream",
     "text": [
      "/wynton/home/ahituv/fongsl/.conda/envs/mamba/lib/python3.9/site-packages/sklearn/linear_model/_coordinate_descent.py:631: UserWarning: Coordinate descent with no regularization may lead to unexpected results and is discouraged.\n",
      "  model = cd_fast.enet_coordinate_descent(\n",
      "/wynton/home/ahituv/fongsl/.conda/envs/mamba/lib/python3.9/site-packages/sklearn/linear_model/_coordinate_descent.py:631: ConvergenceWarning: Objective did not converge. You might want to increase the number of iterations, check the scale of the features or consider increasing regularisation. Duality gap: 2.072e+03, tolerance: 4.386e-01 Linear regression models with null weight for the l1 regularization term are more efficiently fitted using one of the solvers implemented in sklearn.linear_model.Ridge/RidgeCV instead.\n",
      "  model = cd_fast.enet_coordinate_descent(\n",
      "/scratch/fongsl/ipykernel_23162/1842531335.py:29: UserWarning: With alpha=0, this algorithm does not converge well. You are advised to use the LinearRegression estimator\n",
      "  model = Lasso(alpha=alpha).fit(trainx_, trainy_)\n"
     ]
    },
    {
     "name": "stdout",
     "output_type": "stream",
     "text": [
      "2809\n"
     ]
    },
    {
     "name": "stderr",
     "output_type": "stream",
     "text": [
      "/wynton/home/ahituv/fongsl/.conda/envs/mamba/lib/python3.9/site-packages/sklearn/linear_model/_coordinate_descent.py:631: UserWarning: Coordinate descent with no regularization may lead to unexpected results and is discouraged.\n",
      "  model = cd_fast.enet_coordinate_descent(\n",
      "/wynton/home/ahituv/fongsl/.conda/envs/mamba/lib/python3.9/site-packages/sklearn/linear_model/_coordinate_descent.py:631: ConvergenceWarning: Objective did not converge. You might want to increase the number of iterations, check the scale of the features or consider increasing regularisation. Duality gap: 2.125e+03, tolerance: 4.522e-01 Linear regression models with null weight for the l1 regularization term are more efficiently fitted using one of the solvers implemented in sklearn.linear_model.Ridge/RidgeCV instead.\n",
      "  model = cd_fast.enet_coordinate_descent(\n",
      "/scratch/fongsl/ipykernel_23162/1842531335.py:29: UserWarning: With alpha=0, this algorithm does not converge well. You are advised to use the LinearRegression estimator\n",
      "  model = Lasso(alpha=alpha).fit(trainx_, trainy_)\n"
     ]
    },
    {
     "name": "stdout",
     "output_type": "stream",
     "text": [
      "3223\n"
     ]
    },
    {
     "name": "stderr",
     "output_type": "stream",
     "text": [
      "/wynton/home/ahituv/fongsl/.conda/envs/mamba/lib/python3.9/site-packages/sklearn/linear_model/_coordinate_descent.py:631: UserWarning: Coordinate descent with no regularization may lead to unexpected results and is discouraged.\n",
      "  model = cd_fast.enet_coordinate_descent(\n",
      "/wynton/home/ahituv/fongsl/.conda/envs/mamba/lib/python3.9/site-packages/sklearn/linear_model/_coordinate_descent.py:631: ConvergenceWarning: Objective did not converge. You might want to increase the number of iterations, check the scale of the features or consider increasing regularisation. Duality gap: 2.107e+03, tolerance: 4.463e-01 Linear regression models with null weight for the l1 regularization term are more efficiently fitted using one of the solvers implemented in sklearn.linear_model.Ridge/RidgeCV instead.\n",
      "  model = cd_fast.enet_coordinate_descent(\n",
      "/scratch/fongsl/ipykernel_23162/1842531335.py:29: UserWarning: With alpha=0, this algorithm does not converge well. You are advised to use the LinearRegression estimator\n",
      "  model = Lasso(alpha=alpha).fit(trainx_, trainy_)\n"
     ]
    },
    {
     "name": "stdout",
     "output_type": "stream",
     "text": [
      "1683\n"
     ]
    },
    {
     "name": "stderr",
     "output_type": "stream",
     "text": [
      "/wynton/home/ahituv/fongsl/.conda/envs/mamba/lib/python3.9/site-packages/sklearn/linear_model/_coordinate_descent.py:631: UserWarning: Coordinate descent with no regularization may lead to unexpected results and is discouraged.\n",
      "  model = cd_fast.enet_coordinate_descent(\n",
      "/wynton/home/ahituv/fongsl/.conda/envs/mamba/lib/python3.9/site-packages/sklearn/linear_model/_coordinate_descent.py:631: ConvergenceWarning: Objective did not converge. You might want to increase the number of iterations, check the scale of the features or consider increasing regularisation. Duality gap: 2.090e+03, tolerance: 4.422e-01 Linear regression models with null weight for the l1 regularization term are more efficiently fitted using one of the solvers implemented in sklearn.linear_model.Ridge/RidgeCV instead.\n",
      "  model = cd_fast.enet_coordinate_descent(\n",
      "/scratch/fongsl/ipykernel_23162/1842531335.py:29: UserWarning: With alpha=0, this algorithm does not converge well. You are advised to use the LinearRegression estimator\n",
      "  model = Lasso(alpha=alpha).fit(trainx_, trainy_)\n"
     ]
    },
    {
     "name": "stdout",
     "output_type": "stream",
     "text": [
      "2934\n"
     ]
    },
    {
     "name": "stderr",
     "output_type": "stream",
     "text": [
      "/wynton/home/ahituv/fongsl/.conda/envs/mamba/lib/python3.9/site-packages/sklearn/linear_model/_coordinate_descent.py:631: UserWarning: Coordinate descent with no regularization may lead to unexpected results and is discouraged.\n",
      "  model = cd_fast.enet_coordinate_descent(\n",
      "/wynton/home/ahituv/fongsl/.conda/envs/mamba/lib/python3.9/site-packages/sklearn/linear_model/_coordinate_descent.py:631: ConvergenceWarning: Objective did not converge. You might want to increase the number of iterations, check the scale of the features or consider increasing regularisation. Duality gap: 2.044e+03, tolerance: 4.345e-01 Linear regression models with null weight for the l1 regularization term are more efficiently fitted using one of the solvers implemented in sklearn.linear_model.Ridge/RidgeCV instead.\n",
      "  model = cd_fast.enet_coordinate_descent(\n",
      "/scratch/fongsl/ipykernel_23162/1842531335.py:29: UserWarning: With alpha=0, this algorithm does not converge well. You are advised to use the LinearRegression estimator\n",
      "  model = Lasso(alpha=alpha).fit(trainx_, trainy_)\n"
     ]
    },
    {
     "name": "stdout",
     "output_type": "stream",
     "text": [
      "2916\n"
     ]
    },
    {
     "name": "stderr",
     "output_type": "stream",
     "text": [
      "/wynton/home/ahituv/fongsl/.conda/envs/mamba/lib/python3.9/site-packages/sklearn/linear_model/_coordinate_descent.py:631: UserWarning: Coordinate descent with no regularization may lead to unexpected results and is discouraged.\n",
      "  model = cd_fast.enet_coordinate_descent(\n",
      "/wynton/home/ahituv/fongsl/.conda/envs/mamba/lib/python3.9/site-packages/sklearn/linear_model/_coordinate_descent.py:631: ConvergenceWarning: Objective did not converge. You might want to increase the number of iterations, check the scale of the features or consider increasing regularisation. Duality gap: 2.141e+03, tolerance: 4.543e-01 Linear regression models with null weight for the l1 regularization term are more efficiently fitted using one of the solvers implemented in sklearn.linear_model.Ridge/RidgeCV instead.\n",
      "  model = cd_fast.enet_coordinate_descent(\n",
      "/scratch/fongsl/ipykernel_23162/1842531335.py:29: UserWarning: With alpha=0, this algorithm does not converge well. You are advised to use the LinearRegression estimator\n",
      "  model = Lasso(alpha=alpha).fit(trainx_, trainy_)\n"
     ]
    },
    {
     "name": "stdout",
     "output_type": "stream",
     "text": [
      "4453\n"
     ]
    },
    {
     "name": "stderr",
     "output_type": "stream",
     "text": [
      "/wynton/home/ahituv/fongsl/.conda/envs/mamba/lib/python3.9/site-packages/sklearn/linear_model/_coordinate_descent.py:631: UserWarning: Coordinate descent with no regularization may lead to unexpected results and is discouraged.\n",
      "  model = cd_fast.enet_coordinate_descent(\n",
      "/wynton/home/ahituv/fongsl/.conda/envs/mamba/lib/python3.9/site-packages/sklearn/linear_model/_coordinate_descent.py:631: ConvergenceWarning: Objective did not converge. You might want to increase the number of iterations, check the scale of the features or consider increasing regularisation. Duality gap: 1.919e+03, tolerance: 4.081e-01 Linear regression models with null weight for the l1 regularization term are more efficiently fitted using one of the solvers implemented in sklearn.linear_model.Ridge/RidgeCV instead.\n",
      "  model = cd_fast.enet_coordinate_descent(\n",
      "/scratch/fongsl/ipykernel_23162/1842531335.py:29: UserWarning: With alpha=0, this algorithm does not converge well. You are advised to use the LinearRegression estimator\n",
      "  model = Lasso(alpha=alpha).fit(trainx_, trainy_)\n"
     ]
    },
    {
     "name": "stdout",
     "output_type": "stream",
     "text": [
      "3187\n"
     ]
    },
    {
     "name": "stderr",
     "output_type": "stream",
     "text": [
      "/wynton/home/ahituv/fongsl/.conda/envs/mamba/lib/python3.9/site-packages/sklearn/linear_model/_coordinate_descent.py:631: UserWarning: Coordinate descent with no regularization may lead to unexpected results and is discouraged.\n",
      "  model = cd_fast.enet_coordinate_descent(\n",
      "/wynton/home/ahituv/fongsl/.conda/envs/mamba/lib/python3.9/site-packages/sklearn/linear_model/_coordinate_descent.py:631: ConvergenceWarning: Objective did not converge. You might want to increase the number of iterations, check the scale of the features or consider increasing regularisation. Duality gap: 1.975e+03, tolerance: 4.173e-01 Linear regression models with null weight for the l1 regularization term are more efficiently fitted using one of the solvers implemented in sklearn.linear_model.Ridge/RidgeCV instead.\n",
      "  model = cd_fast.enet_coordinate_descent(\n"
     ]
    },
    {
     "name": "stdout",
     "output_type": "stream",
     "text": [
      "Lasso(alpha=0) mean score 0.0 mean rho 0.07496346444947555 0\n",
      "\n",
      "testing alpha 10 \n",
      "\n",
      "3116\n"
     ]
    },
    {
     "name": "stderr",
     "output_type": "stream",
     "text": [
      "/wynton/home/ahituv/fongsl/.conda/envs/mamba/lib/python3.9/site-packages/scipy/stats/_stats_py.py:4916: ConstantInputWarning: An input array is constant; the correlation coefficient is not defined.\n",
      "  warnings.warn(stats.ConstantInputWarning(warn_msg))\n"
     ]
    },
    {
     "name": "stdout",
     "output_type": "stream",
     "text": [
      "2729\n"
     ]
    },
    {
     "name": "stderr",
     "output_type": "stream",
     "text": [
      "/wynton/home/ahituv/fongsl/.conda/envs/mamba/lib/python3.9/site-packages/scipy/stats/_stats_py.py:4916: ConstantInputWarning: An input array is constant; the correlation coefficient is not defined.\n",
      "  warnings.warn(stats.ConstantInputWarning(warn_msg))\n"
     ]
    },
    {
     "name": "stdout",
     "output_type": "stream",
     "text": [
      "730\n"
     ]
    },
    {
     "name": "stderr",
     "output_type": "stream",
     "text": [
      "/wynton/home/ahituv/fongsl/.conda/envs/mamba/lib/python3.9/site-packages/scipy/stats/_stats_py.py:4916: ConstantInputWarning: An input array is constant; the correlation coefficient is not defined.\n",
      "  warnings.warn(stats.ConstantInputWarning(warn_msg))\n"
     ]
    },
    {
     "name": "stdout",
     "output_type": "stream",
     "text": [
      "4370\n"
     ]
    },
    {
     "name": "stderr",
     "output_type": "stream",
     "text": [
      "/wynton/home/ahituv/fongsl/.conda/envs/mamba/lib/python3.9/site-packages/scipy/stats/_stats_py.py:4916: ConstantInputWarning: An input array is constant; the correlation coefficient is not defined.\n",
      "  warnings.warn(stats.ConstantInputWarning(warn_msg))\n"
     ]
    },
    {
     "name": "stdout",
     "output_type": "stream",
     "text": [
      "1141\n"
     ]
    },
    {
     "name": "stderr",
     "output_type": "stream",
     "text": [
      "/wynton/home/ahituv/fongsl/.conda/envs/mamba/lib/python3.9/site-packages/scipy/stats/_stats_py.py:4916: ConstantInputWarning: An input array is constant; the correlation coefficient is not defined.\n",
      "  warnings.warn(stats.ConstantInputWarning(warn_msg))\n"
     ]
    },
    {
     "name": "stdout",
     "output_type": "stream",
     "text": [
      "2901\n"
     ]
    },
    {
     "name": "stderr",
     "output_type": "stream",
     "text": [
      "/wynton/home/ahituv/fongsl/.conda/envs/mamba/lib/python3.9/site-packages/scipy/stats/_stats_py.py:4916: ConstantInputWarning: An input array is constant; the correlation coefficient is not defined.\n",
      "  warnings.warn(stats.ConstantInputWarning(warn_msg))\n"
     ]
    },
    {
     "name": "stdout",
     "output_type": "stream",
     "text": [
      "3037\n"
     ]
    },
    {
     "name": "stderr",
     "output_type": "stream",
     "text": [
      "/wynton/home/ahituv/fongsl/.conda/envs/mamba/lib/python3.9/site-packages/scipy/stats/_stats_py.py:4916: ConstantInputWarning: An input array is constant; the correlation coefficient is not defined.\n",
      "  warnings.warn(stats.ConstantInputWarning(warn_msg))\n"
     ]
    },
    {
     "name": "stdout",
     "output_type": "stream",
     "text": [
      "4684\n"
     ]
    },
    {
     "name": "stderr",
     "output_type": "stream",
     "text": [
      "/wynton/home/ahituv/fongsl/.conda/envs/mamba/lib/python3.9/site-packages/scipy/stats/_stats_py.py:4916: ConstantInputWarning: An input array is constant; the correlation coefficient is not defined.\n",
      "  warnings.warn(stats.ConstantInputWarning(warn_msg))\n"
     ]
    },
    {
     "name": "stdout",
     "output_type": "stream",
     "text": [
      "4146\n"
     ]
    },
    {
     "name": "stderr",
     "output_type": "stream",
     "text": [
      "/wynton/home/ahituv/fongsl/.conda/envs/mamba/lib/python3.9/site-packages/scipy/stats/_stats_py.py:4916: ConstantInputWarning: An input array is constant; the correlation coefficient is not defined.\n",
      "  warnings.warn(stats.ConstantInputWarning(warn_msg))\n"
     ]
    },
    {
     "name": "stdout",
     "output_type": "stream",
     "text": [
      "2781\n"
     ]
    },
    {
     "name": "stderr",
     "output_type": "stream",
     "text": [
      "/wynton/home/ahituv/fongsl/.conda/envs/mamba/lib/python3.9/site-packages/scipy/stats/_stats_py.py:4916: ConstantInputWarning: An input array is constant; the correlation coefficient is not defined.\n",
      "  warnings.warn(stats.ConstantInputWarning(warn_msg))\n"
     ]
    },
    {
     "name": "stdout",
     "output_type": "stream",
     "text": [
      "Lasso(alpha=10) mean score 0.0 mean rho nan 10\n",
      "\n",
      "testing alpha 100 \n",
      "\n",
      "3537\n"
     ]
    },
    {
     "name": "stderr",
     "output_type": "stream",
     "text": [
      "/wynton/home/ahituv/fongsl/.conda/envs/mamba/lib/python3.9/site-packages/scipy/stats/_stats_py.py:4916: ConstantInputWarning: An input array is constant; the correlation coefficient is not defined.\n",
      "  warnings.warn(stats.ConstantInputWarning(warn_msg))\n"
     ]
    },
    {
     "name": "stdout",
     "output_type": "stream",
     "text": [
      "1855\n"
     ]
    },
    {
     "name": "stderr",
     "output_type": "stream",
     "text": [
      "/wynton/home/ahituv/fongsl/.conda/envs/mamba/lib/python3.9/site-packages/scipy/stats/_stats_py.py:4916: ConstantInputWarning: An input array is constant; the correlation coefficient is not defined.\n",
      "  warnings.warn(stats.ConstantInputWarning(warn_msg))\n"
     ]
    },
    {
     "name": "stdout",
     "output_type": "stream",
     "text": [
      "3279\n"
     ]
    },
    {
     "name": "stderr",
     "output_type": "stream",
     "text": [
      "/wynton/home/ahituv/fongsl/.conda/envs/mamba/lib/python3.9/site-packages/scipy/stats/_stats_py.py:4916: ConstantInputWarning: An input array is constant; the correlation coefficient is not defined.\n",
      "  warnings.warn(stats.ConstantInputWarning(warn_msg))\n"
     ]
    },
    {
     "name": "stdout",
     "output_type": "stream",
     "text": [
      "4531\n"
     ]
    },
    {
     "name": "stderr",
     "output_type": "stream",
     "text": [
      "/wynton/home/ahituv/fongsl/.conda/envs/mamba/lib/python3.9/site-packages/scipy/stats/_stats_py.py:4916: ConstantInputWarning: An input array is constant; the correlation coefficient is not defined.\n",
      "  warnings.warn(stats.ConstantInputWarning(warn_msg))\n"
     ]
    },
    {
     "name": "stdout",
     "output_type": "stream",
     "text": [
      "2373\n"
     ]
    },
    {
     "name": "stderr",
     "output_type": "stream",
     "text": [
      "/wynton/home/ahituv/fongsl/.conda/envs/mamba/lib/python3.9/site-packages/scipy/stats/_stats_py.py:4916: ConstantInputWarning: An input array is constant; the correlation coefficient is not defined.\n",
      "  warnings.warn(stats.ConstantInputWarning(warn_msg))\n"
     ]
    },
    {
     "name": "stdout",
     "output_type": "stream",
     "text": [
      "4295\n"
     ]
    },
    {
     "name": "stderr",
     "output_type": "stream",
     "text": [
      "/wynton/home/ahituv/fongsl/.conda/envs/mamba/lib/python3.9/site-packages/scipy/stats/_stats_py.py:4916: ConstantInputWarning: An input array is constant; the correlation coefficient is not defined.\n",
      "  warnings.warn(stats.ConstantInputWarning(warn_msg))\n"
     ]
    },
    {
     "name": "stdout",
     "output_type": "stream",
     "text": [
      "1068\n"
     ]
    },
    {
     "name": "stderr",
     "output_type": "stream",
     "text": [
      "/wynton/home/ahituv/fongsl/.conda/envs/mamba/lib/python3.9/site-packages/scipy/stats/_stats_py.py:4916: ConstantInputWarning: An input array is constant; the correlation coefficient is not defined.\n",
      "  warnings.warn(stats.ConstantInputWarning(warn_msg))\n"
     ]
    },
    {
     "name": "stdout",
     "output_type": "stream",
     "text": [
      "3000\n"
     ]
    },
    {
     "name": "stderr",
     "output_type": "stream",
     "text": [
      "/wynton/home/ahituv/fongsl/.conda/envs/mamba/lib/python3.9/site-packages/scipy/stats/_stats_py.py:4916: ConstantInputWarning: An input array is constant; the correlation coefficient is not defined.\n",
      "  warnings.warn(stats.ConstantInputWarning(warn_msg))\n"
     ]
    },
    {
     "name": "stdout",
     "output_type": "stream",
     "text": [
      "2903\n"
     ]
    },
    {
     "name": "stderr",
     "output_type": "stream",
     "text": [
      "/wynton/home/ahituv/fongsl/.conda/envs/mamba/lib/python3.9/site-packages/scipy/stats/_stats_py.py:4916: ConstantInputWarning: An input array is constant; the correlation coefficient is not defined.\n",
      "  warnings.warn(stats.ConstantInputWarning(warn_msg))\n"
     ]
    },
    {
     "name": "stdout",
     "output_type": "stream",
     "text": [
      "2928\n"
     ]
    },
    {
     "name": "stderr",
     "output_type": "stream",
     "text": [
      "/wynton/home/ahituv/fongsl/.conda/envs/mamba/lib/python3.9/site-packages/scipy/stats/_stats_py.py:4916: ConstantInputWarning: An input array is constant; the correlation coefficient is not defined.\n",
      "  warnings.warn(stats.ConstantInputWarning(warn_msg))\n"
     ]
    },
    {
     "name": "stdout",
     "output_type": "stream",
     "text": [
      "Lasso(alpha=100) mean score 0.0 mean rho nan 100\n",
      "\n",
      "testing alpha 1000 \n",
      "\n",
      "2982\n"
     ]
    },
    {
     "name": "stderr",
     "output_type": "stream",
     "text": [
      "/wynton/home/ahituv/fongsl/.conda/envs/mamba/lib/python3.9/site-packages/scipy/stats/_stats_py.py:4916: ConstantInputWarning: An input array is constant; the correlation coefficient is not defined.\n",
      "  warnings.warn(stats.ConstantInputWarning(warn_msg))\n"
     ]
    },
    {
     "name": "stdout",
     "output_type": "stream",
     "text": [
      "2064\n"
     ]
    },
    {
     "name": "stderr",
     "output_type": "stream",
     "text": [
      "/wynton/home/ahituv/fongsl/.conda/envs/mamba/lib/python3.9/site-packages/scipy/stats/_stats_py.py:4916: ConstantInputWarning: An input array is constant; the correlation coefficient is not defined.\n",
      "  warnings.warn(stats.ConstantInputWarning(warn_msg))\n"
     ]
    },
    {
     "name": "stdout",
     "output_type": "stream",
     "text": [
      "3866\n"
     ]
    },
    {
     "name": "stderr",
     "output_type": "stream",
     "text": [
      "/wynton/home/ahituv/fongsl/.conda/envs/mamba/lib/python3.9/site-packages/scipy/stats/_stats_py.py:4916: ConstantInputWarning: An input array is constant; the correlation coefficient is not defined.\n",
      "  warnings.warn(stats.ConstantInputWarning(warn_msg))\n"
     ]
    },
    {
     "name": "stdout",
     "output_type": "stream",
     "text": [
      "3007\n"
     ]
    },
    {
     "name": "stderr",
     "output_type": "stream",
     "text": [
      "/wynton/home/ahituv/fongsl/.conda/envs/mamba/lib/python3.9/site-packages/scipy/stats/_stats_py.py:4916: ConstantInputWarning: An input array is constant; the correlation coefficient is not defined.\n",
      "  warnings.warn(stats.ConstantInputWarning(warn_msg))\n"
     ]
    },
    {
     "name": "stdout",
     "output_type": "stream",
     "text": [
      "4367\n"
     ]
    },
    {
     "name": "stderr",
     "output_type": "stream",
     "text": [
      "/wynton/home/ahituv/fongsl/.conda/envs/mamba/lib/python3.9/site-packages/scipy/stats/_stats_py.py:4916: ConstantInputWarning: An input array is constant; the correlation coefficient is not defined.\n",
      "  warnings.warn(stats.ConstantInputWarning(warn_msg))\n"
     ]
    },
    {
     "name": "stdout",
     "output_type": "stream",
     "text": [
      "2516\n"
     ]
    },
    {
     "name": "stderr",
     "output_type": "stream",
     "text": [
      "/wynton/home/ahituv/fongsl/.conda/envs/mamba/lib/python3.9/site-packages/scipy/stats/_stats_py.py:4916: ConstantInputWarning: An input array is constant; the correlation coefficient is not defined.\n",
      "  warnings.warn(stats.ConstantInputWarning(warn_msg))\n"
     ]
    },
    {
     "name": "stdout",
     "output_type": "stream",
     "text": [
      "2640\n"
     ]
    },
    {
     "name": "stderr",
     "output_type": "stream",
     "text": [
      "/wynton/home/ahituv/fongsl/.conda/envs/mamba/lib/python3.9/site-packages/scipy/stats/_stats_py.py:4916: ConstantInputWarning: An input array is constant; the correlation coefficient is not defined.\n",
      "  warnings.warn(stats.ConstantInputWarning(warn_msg))\n"
     ]
    },
    {
     "name": "stdout",
     "output_type": "stream",
     "text": [
      "4276\n"
     ]
    },
    {
     "name": "stderr",
     "output_type": "stream",
     "text": [
      "/wynton/home/ahituv/fongsl/.conda/envs/mamba/lib/python3.9/site-packages/scipy/stats/_stats_py.py:4916: ConstantInputWarning: An input array is constant; the correlation coefficient is not defined.\n",
      "  warnings.warn(stats.ConstantInputWarning(warn_msg))\n"
     ]
    },
    {
     "name": "stdout",
     "output_type": "stream",
     "text": [
      "2520\n"
     ]
    },
    {
     "name": "stderr",
     "output_type": "stream",
     "text": [
      "/wynton/home/ahituv/fongsl/.conda/envs/mamba/lib/python3.9/site-packages/scipy/stats/_stats_py.py:4916: ConstantInputWarning: An input array is constant; the correlation coefficient is not defined.\n",
      "  warnings.warn(stats.ConstantInputWarning(warn_msg))\n"
     ]
    },
    {
     "name": "stdout",
     "output_type": "stream",
     "text": [
      "2238\n",
      "Lasso(alpha=1000) mean score 0.0 mean rho nan 1000\n"
     ]
    },
    {
     "name": "stderr",
     "output_type": "stream",
     "text": [
      "/wynton/home/ahituv/fongsl/.conda/envs/mamba/lib/python3.9/site-packages/scipy/stats/_stats_py.py:4916: ConstantInputWarning: An input array is constant; the correlation coefficient is not defined.\n",
      "  warnings.warn(stats.ConstantInputWarning(warn_msg))\n"
     ]
    }
   ],
   "source": [
    " cv(xtrain_df, ytrain_df, groups, \"Lasso\")"
   ]
  },
  {
   "cell_type": "code",
   "execution_count": null,
   "id": "0dbb3885",
   "metadata": {
    "ExecuteTime": {
     "end_time": "2023-09-07T00:06:34.471967Z",
     "start_time": "2023-09-07T00:06:34.471953Z"
    }
   },
   "outputs": [],
   "source": [
    "def gridSearchModel(X_train, y_train, standard_scaler, group):\n",
    "    # select alpha for lasso regression? \n",
    "    \n",
    "    cv = RepeatedKFold(n_splits=10, n_repeats=3, random_state=1)\n",
    "\n",
    "    # Create StratifiedKFold object.\n",
    "    skf = StratifiedKFold(n_splits=10, shuffle=True, random_state=1)\n",
    "    \n",
    "    # try alphas - penalty weight\n",
    "    lasso_alphas = np.linspace(0, 100, 10)\n",
    "    grid = dict()\n",
    "    grid['alpha'] = lasso_alphas\n",
    "\n",
    "    \n",
    "    # scale data?\n",
    "    if standard_scaler is True:\n",
    "        sc = StandardScaler()\n",
    "        X_train = sc.fit_transform(X_train)\n",
    "        \n",
    "    # run grid search\n",
    "    model=Ridge()\n",
    "    \"\"\"\n",
    "    # stratified k fold does not work when group is continuous, not binary, or multiclass\n",
    "    lst_accu_stratified = []\n",
    "    for alpha in [0, 100, 10]:\n",
    "        print(\"alpha\", alpha)\n",
    "        \n",
    "        for train_index, test_index in skf.split(X_train, y_train, group):\n",
    "            x_train_fold, x_test_fold = X_train[train_index], X_train[test_index]\n",
    "            y_train_fold, y_test_fold = y_train[train_index], y_train[test_index]\n",
    "            model=Ridge(alpha=alpha)\n",
    "            model.fit(x_train_fold, y_train_fold)\n",
    "            lst_accu_stratified.append(model.score(x_test_fold, y_test_fold))\n",
    "            print((model.score(x_test_fold, y_test_fold)))\n",
    "    \"\"\"\n",
    "\n",
    "\n",
    "    search = GridSearchCV(model, grid, cv=cv).fit(X_train, y_train)\n",
    "\n",
    "    cvres = search.cv_results_\n",
    "    \n",
    "    # return best scores\n",
    "    print(\"\\n\\nbest params, score\", search.best_params_, search.best_score_, \"\\n\\n\")\n",
    "    for mean_score, params in zip(cvres[\"mean_test_score\"], cvres[\"params\"]):\n",
    "        print(np.sqrt(-mean_score), params)\n"
   ]
  },
  {
   "cell_type": "code",
   "execution_count": null,
   "id": "359b535d",
   "metadata": {},
   "outputs": [],
   "source": []
  }
 ],
 "metadata": {
  "kernelspec": {
   "display_name": "Python (mamba)",
   "language": "python",
   "name": "mamba"
  },
  "language_info": {
   "codemirror_mode": {
    "name": "ipython",
    "version": 3
   },
   "file_extension": ".py",
   "mimetype": "text/x-python",
   "name": "python",
   "nbconvert_exporter": "python",
   "pygments_lexer": "ipython3",
   "version": "3.9.16"
  },
  "toc": {
   "base_numbering": 1,
   "nav_menu": {},
   "number_sections": true,
   "sideBar": true,
   "skip_h1_title": false,
   "title_cell": "Table of Contents",
   "title_sidebar": "Contents",
   "toc_cell": false,
   "toc_position": {},
   "toc_section_display": true,
   "toc_window_display": false
  },
  "varInspector": {
   "cols": {
    "lenName": 16,
    "lenType": 16,
    "lenVar": 40
   },
   "kernels_config": {
    "python": {
     "delete_cmd_postfix": "",
     "delete_cmd_prefix": "del ",
     "library": "var_list.py",
     "varRefreshCmd": "print(var_dic_list())"
    },
    "r": {
     "delete_cmd_postfix": ") ",
     "delete_cmd_prefix": "rm(",
     "library": "var_list.r",
     "varRefreshCmd": "cat(var_dic_list()) "
    }
   },
   "types_to_exclude": [
    "module",
    "function",
    "builtin_function_or_method",
    "instance",
    "_Feature"
   ],
   "window_display": false
  }
 },
 "nbformat": 4,
 "nbformat_minor": 5
}
