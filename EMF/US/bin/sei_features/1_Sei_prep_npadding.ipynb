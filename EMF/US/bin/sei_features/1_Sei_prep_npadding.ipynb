{
 "cells": [
  {
   "cell_type": "code",
   "execution_count": 3,
   "id": "23367717",
   "metadata": {
    "ExecuteTime": {
     "end_time": "2023-09-01T22:25:21.413928Z",
     "start_time": "2023-09-01T22:25:21.221677Z"
    }
   },
   "outputs": [],
   "source": [
    "from Bio import SeqIO\n",
    "import config_readwrite as crw\n",
    "import os, sys"
   ]
  },
  {
   "cell_type": "code",
   "execution_count": 17,
   "id": "ddc4f864",
   "metadata": {
    "ExecuteTime": {
     "end_time": "2023-09-01T22:26:57.872045Z",
     "start_time": "2023-09-01T22:26:57.862364Z"
    }
   },
   "outputs": [],
   "source": [
    "config, cfn = crw.read(os.path.join(os.path.dirname(os.path.dirname(os.getcwd())), \"config.ini\"))\n",
    "\n",
    "section = \"local_path\"\n",
    "PATH=config[section][\"data\"]\n",
    "\n",
    "section = \"data\"\n",
    "FASTA=config[section][\"fasta\"]\n",
    "\n",
    "FASTA_SEI = os.path.splitext(FASTA)[0] + \".sei_padded.fa\"\n",
    "FASTA_SEI_TEST = os.path.splitext(FASTA)[0] + \".sei_padded.test.fa\"\n",
    "\n",
    "section = \"sei\"\n",
    "crw.check(config, section)\n",
    "\n",
    "config[section][\"fasta\"] = FASTA_SEI\n",
    "config[section][\"fasta_test\"] = FASTA_SEI_TEST\n",
    "crw.write(config, cfn)"
   ]
  },
  {
   "cell_type": "markdown",
   "id": "e44ea058",
   "metadata": {},
   "source": [
    "# function"
   ]
  },
  {
   "cell_type": "markdown",
   "id": "0e87b346",
   "metadata": {},
   "source": [
    "## for inserting sequence"
   ]
  },
  {
   "cell_type": "code",
   "execution_count": 5,
   "id": "38689989",
   "metadata": {
    "ExecuteTime": {
     "end_time": "2023-09-01T22:25:22.416797Z",
     "start_time": "2023-09-01T22:25:22.412726Z"
    }
   },
   "outputs": [],
   "source": [
    "def seqInsert(seq, insert_start, insert_seq):\n",
    "    \"\"\"\n",
    "    insert sequence fragment (insert_seq) at position (insert_start) within full sequence (seq)\n",
    "    \n",
    "    Insert into center if insert_start is None \n",
    "\n",
    "    return inserted sequence. \n",
    "    \"\"\"\n",
    "\n",
    "    insert_size = len(insert_seq)\n",
    "    \n",
    "    if insert_start is None:\n",
    "        \n",
    "        insert_start = (len(seq)/2) - (insert_size/2)\n",
    "        #print(insert_start)\n",
    "\n",
    "    insert_end = insert_start + insert_size  # find center end\n",
    "\n",
    "    return seq[:int(insert_start)] + insert_seq + seq[int(insert_end):]"
   ]
  },
  {
   "cell_type": "markdown",
   "id": "9f30e545",
   "metadata": {},
   "source": [
    "## parse fasta"
   ]
  },
  {
   "cell_type": "code",
   "execution_count": 6,
   "id": "dd5e0562",
   "metadata": {
    "ExecuteTime": {
     "end_time": "2023-09-01T22:25:23.028362Z",
     "start_time": "2023-09-01T22:25:23.022574Z"
    }
   },
   "outputs": [],
   "source": [
    "def trimSeq(seq, size):\n",
    "    \"\"\" find center of sequence and trim down to size\"\"\"\n",
    "    \n",
    "    center = len(seq)/2\n",
    "    start = center - (size/2)\n",
    "    end = center + (size/2) + 1\n",
    "    \n",
    "    return seq[start:end]\n",
    "\n",
    "def padSeq(fasta):\n",
    "    \"\"\" if sequence is shorter than 4096, pad, else trim\"\"\"\n",
    "    \n",
    "    max_len, PAD = 4096, \"N\"\n",
    "    OUT = os.path.splitext(fasta)[0] + \".sei_padded.fa\"\n",
    "    \n",
    "    sequences = [s for s in SeqIO.parse(FASTA, 'fasta')]\n",
    "\n",
    "    padded_sequences = []\n",
    "    \n",
    "    for n, seq in enumerate(sequences):\n",
    "        if len(seq.seq)<max_len:\n",
    "            padding = PAD*max_len # creating the padding string\n",
    "            padded_sequences.append(seqInsert(padding, None, seq)) # insert the sequence in the center, append to list\n",
    "        else:\n",
    "            padded_sequences.append(trimSeq(seq, max_len))\n",
    "   # SeqIO.write(padded_sequences, OUT, 'fasta')  # write all the sequences\n",
    "\n",
    "    return OUT\n"
   ]
  },
  {
   "cell_type": "markdown",
   "id": "953e756e",
   "metadata": {},
   "source": [
    "## Sei commands"
   ]
  },
  {
   "cell_type": "code",
   "execution_count": 7,
   "id": "e0e3ca71",
   "metadata": {
    "ExecuteTime": {
     "end_time": "2023-09-01T22:25:23.773441Z",
     "start_time": "2023-09-01T22:25:23.763642Z"
    }
   },
   "outputs": [],
   "source": [
    "def getHandles(fasta):\n",
    "    \"\"\"make a dictionary of all the output handles for one fasta file sei run\"\"\"\n",
    "    \n",
    "    SEI_SRC = \"/wynton/home/ahituv/fongsl/bin/sei-framework/\"\n",
    "    SEI_PATH = os.path.join(os.path.split(fasta)[0], \"sei_predictions\")\n",
    "\n",
    "    FASTA_CLEAN = os.path.splitext(fasta)[0] + \".clean.fa\"\n",
    "    FASTA_INDEX =  os.path.splitext(FASTA_CLEAN)[0] + \".index.txt\"\n",
    "    \n",
    "    PADDED  = os.path.splitext(FASTA_CLEAN)[0] + \".sei_padded.fa\"\n",
    "    PATH, HANDLE = os.path.split(PADDED)\n",
    "    HANDLE = HANDLE.split(\".fa\")[0]\n",
    "    \n",
    "    \n",
    "    CHROM_PATH= os.path.join(\n",
    "        SEI_PATH, \"chromatin-profiles-hdf5\")\n",
    "    \n",
    "    CHROM_OUT = os.path.join(CHROM_PATH, f\"{HANDLE}_predictions.h5\")\n",
    "    CLASS_OUT = os.path.join(CHROM_PATH, f\"{HANDLE}.raw_sequence_class_scores.npy\")\n",
    "    LABEL_OUT = os.path.join(CHROM_PATH, f\"{HANDLE}_row_labels.txt\")\n",
    "    CLASS_TABLE = os.path.join(CHROM_PATH, f\"{HANDLE}.raw_sequence_class_scores.table.tsv.gz\")\n",
    "    \n",
    "    \n",
    "    path_dict = {\n",
    "        \"FASTA\": fasta,\n",
    "        \"FASTA_CLEAN\":FASTA_CLEAN, \n",
    "        \"FASTA_INDEX\":FASTA_INDEX,\n",
    "        \"PADDED\":PADDED, \n",
    "        \"PATH\": PATH,\n",
    "        \"HANDLE\":HANDLE, \n",
    "        \"SEI_PATH\":SEI_PATH, \n",
    "        \"SEI_SRC\":SEI_SRC,\n",
    "        \"CHROM_PATH\": CHROM_PATH, \n",
    "        \"CHROM_PRED\": CHROM_OUT,\n",
    "        \"CLASS_PRED\" : CLASS_OUT, \n",
    "        \"LABELS\" : LABEL_OUT, \n",
    "        \"CLASS_TABLE\":CLASS_TABLE\n",
    "    }\n",
    "    \n",
    "    return path_dict\n",
    "\n",
    "def launchSei(fasta, build, gpu):\n",
    "\n",
    "    print(\"launching sei\")\n",
    "    \n",
    "    path_dict = getHandles(fasta)\n",
    "    \n",
    "    SEI_SRC = path_dict[\"SEI_SRC\"]\n",
    "    SEI_PATH = path_dict[\"SEI_PATH\"]\n",
    "    \n",
    "    CHROM_PRED = path_dict[\"CHROM_PRED\"]\n",
    "    CLASS_PRED = path_dict[\"CLASS_PRED\"]\n",
    "    \n",
    "    if os.path.exists(SEI_PATH) is False:\n",
    "        os.mkdir(SEI_PATH)\n",
    "        \n",
    "    print(SEI_PATH, \"\\n\", CLASS_PRED)\n",
    "\n",
    "    GPU_BOOL = \"True\" if gpu is True else \"False\"\n",
    "\n",
    "    SCRIPT = os.path.join(SEI_SRC, \"sarah_scripts/launch_qsub.py\")\n",
    "\n",
    "    cmd = \" \".join(['python',\n",
    "           SCRIPT,\n",
    "           fasta,\n",
    "           build,\n",
    "           SEI_PATH,\n",
    "           GPU_BOOL,\n",
    "           CHROM_PRED, \n",
    "           ])\n",
    "\n",
    "    if os.path.exists(CLASS_PRED) is False:\n",
    "        print(cmd)\n",
    "        os.system(cmd)\n",
    "    else:\n",
    "        print('ran sei already', CLASS_PRED)\n",
    "\n"
   ]
  },
  {
   "cell_type": "markdown",
   "id": "b42387c1",
   "metadata": {},
   "source": [
    "# Params"
   ]
  },
  {
   "cell_type": "code",
   "execution_count": null,
   "id": "1abb6197",
   "metadata": {
    "ExecuteTime": {
     "end_time": "2023-09-01T21:43:11.845350Z",
     "start_time": "2023-09-01T21:43:11.842474Z"
    }
   },
   "outputs": [],
   "source": [
    "GPU = True # if running on GPU node, need to login to gpudev1.wynton.ucsf.edu"
   ]
  },
  {
   "cell_type": "markdown",
   "id": "06d56bd7",
   "metadata": {},
   "source": [
    "# Main "
   ]
  },
  {
   "cell_type": "code",
   "execution_count": 18,
   "id": "4a4cf476",
   "metadata": {
    "ExecuteTime": {
     "end_time": "2023-09-01T22:27:10.040556Z",
     "start_time": "2023-09-01T22:27:05.938902Z"
    }
   },
   "outputs": [],
   "source": [
    "# sequence padding w n\n",
    "FASTA_CLEAN = padSeq(FASTA)"
   ]
  },
  {
   "cell_type": "code",
   "execution_count": null,
   "id": "bf65f41c",
   "metadata": {
    "ExecuteTime": {
     "end_time": "2023-09-01T21:46:59.412909Z",
     "start_time": "2023-09-01T21:46:59.142287Z"
    }
   },
   "outputs": [],
   "source": [
    "# part\n",
    "CHROM_PRED = launchSei(FASTA_CLEAN, \"hg38\", GPU)  "
   ]
  },
  {
   "cell_type": "code",
   "execution_count": 20,
   "id": "0b24f90a",
   "metadata": {
    "ExecuteTime": {
     "end_time": "2023-09-01T22:27:20.752779Z",
     "start_time": "2023-09-01T22:27:20.739157Z"
    }
   },
   "outputs": [],
   "source": [
    "# write to config\n",
    "path_dict = getHandles(FASTA)"
   ]
  },
  {
   "cell_type": "code",
   "execution_count": null,
   "id": "5fa806c9",
   "metadata": {
    "ExecuteTime": {
     "end_time": "2023-08-22T21:43:05.391652Z",
     "start_time": "2023-08-22T21:43:05.387269Z"
    }
   },
   "outputs": [],
   "source": [
    "for key, value in path_dict.items():\n",
    "    config[section][key] = value\n",
    "    \n",
    "crw.write(config, cfn)"
   ]
  },
  {
   "cell_type": "code",
   "execution_count": 22,
   "id": "dc8d1a65",
   "metadata": {
    "ExecuteTime": {
     "end_time": "2023-09-01T22:27:26.228713Z",
     "start_time": "2023-09-01T22:27:26.221180Z"
    }
   },
   "outputs": [
    {
     "data": {
      "text/plain": [
       "'/wynton/home/ahituv/fongsl/EMF/US/data/sei_predictions/chromatin-profiles-hdf5/ultrasound_final_no_adapter.clean.sei_padded_predictions.h5'"
      ]
     },
     "execution_count": 22,
     "metadata": {},
     "output_type": "execute_result"
    }
   ],
   "source": [
    "path_dict[\"CHROM_PRED\"]"
   ]
  },
  {
   "cell_type": "code",
   "execution_count": null,
   "id": "e116137d",
   "metadata": {},
   "outputs": [],
   "source": [
    "/ultrasound_final_no_adapter.sei_padded_predictions.h5 "
   ]
  }
 ],
 "metadata": {
  "kernelspec": {
   "display_name": "Python (mamba)",
   "language": "python",
   "name": "mamba"
  },
  "language_info": {
   "codemirror_mode": {
    "name": "ipython",
    "version": 3
   },
   "file_extension": ".py",
   "mimetype": "text/x-python",
   "name": "python",
   "nbconvert_exporter": "python",
   "pygments_lexer": "ipython3",
   "version": "3.9.16"
  },
  "toc": {
   "base_numbering": 1,
   "nav_menu": {},
   "number_sections": true,
   "sideBar": true,
   "skip_h1_title": false,
   "title_cell": "Table of Contents",
   "title_sidebar": "Contents",
   "toc_cell": false,
   "toc_position": {},
   "toc_section_display": true,
   "toc_window_display": false
  },
  "varInspector": {
   "cols": {
    "lenName": 16,
    "lenType": 16,
    "lenVar": 40
   },
   "kernels_config": {
    "python": {
     "delete_cmd_postfix": "",
     "delete_cmd_prefix": "del ",
     "library": "var_list.py",
     "varRefreshCmd": "print(var_dic_list())"
    },
    "r": {
     "delete_cmd_postfix": ") ",
     "delete_cmd_prefix": "rm(",
     "library": "var_list.r",
     "varRefreshCmd": "cat(var_dic_list()) "
    }
   },
   "types_to_exclude": [
    "module",
    "function",
    "builtin_function_or_method",
    "instance",
    "_Feature"
   ],
   "window_display": false
  }
 },
 "nbformat": 4,
 "nbformat_minor": 5
}
