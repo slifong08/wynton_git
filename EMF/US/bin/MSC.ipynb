{
 "cells": [
  {
   "cell_type": "code",
   "execution_count": 2,
   "id": "167faec0",
   "metadata": {
    "ExecuteTime": {
     "end_time": "2023-09-18T21:52:45.909742Z",
     "start_time": "2023-09-18T21:52:41.385537Z"
    }
   },
   "outputs": [],
   "source": [
    "import os, sys\n",
    "import pybedtools as pbt"
   ]
  },
  {
   "cell_type": "markdown",
   "id": "66156821",
   "metadata": {},
   "source": [
    "# MG63 bone PLS"
   ]
  },
  {
   "cell_type": "code",
   "execution_count": 43,
   "id": "b6195908",
   "metadata": {
    "ExecuteTime": {
     "end_time": "2023-09-18T23:45:13.874148Z",
     "start_time": "2023-09-18T23:45:13.867776Z"
    }
   },
   "outputs": [],
   "source": [
    "# screen\n",
    "PATH=\"/wynton/group/ahituv/data/encode/\"\n",
    "\n",
    "# mg63 cell line\n",
    "BONE = os.path.join(PATH, \"MG63\", \"PLS.MG63.bed\")\n",
    "\n",
    "# adipose-derived MSC - H3K4me3 only\n",
    "ADIPOSE_MSC = os.path.join(PATH, \"MSC\",  \"adipose_msc.bed\")\n",
    "\n",
    "# adipose-derived MSC from 41yo F and 59yo F - H3K4me3 only\n",
    "ADIPOSE_MSC_4159 = os.path.join(PATH, \"MSC\", \"adipose_msc_41F_59F.bed\")\n",
    "\n",
    "H1_MSC_PLS=os.path.join(PATH, \"MSC\",'PLS.H1_MSC.bed')\n",
    "H1_MSC_PELS=os.path.join(PATH, \"MSC\",'pELS.H1_MSC.bed')\n",
    "H1_MSC_DELS=os.path.join(PATH, \"MSC\",'dELS.H1_MSC.bed')"
   ]
  },
  {
   "cell_type": "code",
   "execution_count": 31,
   "id": "7d2cc3c9",
   "metadata": {
    "ExecuteTime": {
     "end_time": "2023-09-18T23:02:52.646312Z",
     "start_time": "2023-09-18T23:02:52.642570Z"
    }
   },
   "outputs": [],
   "source": [
    "# US MPRA tiles  + enhancer elements\n",
    "TILES=\"/wynton/home/ahituv/fongsl/EMF/US/data/tiles.x.atac_k27ac_diff.bed\""
   ]
  },
  {
   "cell_type": "code",
   "execution_count": 45,
   "id": "b98b4136",
   "metadata": {
    "ExecuteTime": {
     "end_time": "2023-09-18T23:45:33.020982Z",
     "start_time": "2023-09-18T23:45:32.698690Z"
    }
   },
   "outputs": [],
   "source": [
    "B = pbt.BedTool(BONE)  # bone MG63 cell line, ENCODE PLS, H3K4ME3+\n",
    "AMSC = pbt.BedTool(ADIPOSE_MSC)\n",
    "A4159 = pbt.BedTool(ADIPOSE_MSC_4159)\n",
    "H1PLS = pbt.BedTool(H1_MSC_PLS)\n",
    "H1PELS = pbt.BedTool(H1_MSC_PELS)\n",
    "H1DELS = pbt.BedTool(H1_MSC_DELS)\n",
    "\n",
    "T = pbt.BedTool(TILES)  # all endogenous US-sensitive MPRA elements from ATAC, K27AC\n",
    "\n",
    "i = T.intersect(B)  # intersection"
   ]
  },
  {
   "cell_type": "markdown",
   "id": "7d1cb39d",
   "metadata": {},
   "source": [
    "## function to count enhancers, tiles overlapping MPRA design"
   ]
  },
  {
   "cell_type": "code",
   "execution_count": 25,
   "id": "e00d61dc",
   "metadata": {
    "ExecuteTime": {
     "end_time": "2023-09-18T22:56:35.383971Z",
     "start_time": "2023-09-18T22:56:35.379757Z"
    }
   },
   "outputs": [],
   "source": [
    "def countEnhTileInt(intersection_object):\n",
    "    count, enhs = 0, []\n",
    "\n",
    "    for n, row in enumerate(intersection_object):\n",
    "        enhs.append(row[-2])\n",
    "        count+=1\n",
    "    print( \"n tiles\", count, \"n enhancers\", len(set(enhs)))"
   ]
  },
  {
   "cell_type": "code",
   "execution_count": 26,
   "id": "a1c239f6",
   "metadata": {
    "ExecuteTime": {
     "end_time": "2023-09-18T22:56:39.701720Z",
     "start_time": "2023-09-18T22:56:39.587465Z"
    }
   },
   "outputs": [
    {
     "name": "stdout",
     "output_type": "stream",
     "text": [
      "n tiles 9500 n enhancers 2507\n"
     ]
    }
   ],
   "source": [
    "countEnhTileInt(i)"
   ]
  },
  {
   "cell_type": "markdown",
   "id": "756e52e3",
   "metadata": {},
   "source": [
    "# Adipose-derived MSC"
   ]
  },
  {
   "cell_type": "code",
   "execution_count": 27,
   "id": "aa255b11",
   "metadata": {
    "ExecuteTime": {
     "end_time": "2023-09-18T22:57:56.912733Z",
     "start_time": "2023-09-18T22:57:51.971572Z"
    }
   },
   "outputs": [
    {
     "name": "stdout",
     "output_type": "stream",
     "text": [
      "n tiles 46811 n enhancers 9175\n"
     ]
    }
   ],
   "source": [
    "j = T.intersect(AMSC)\n",
    "countEnhTileInt(j)"
   ]
  },
  {
   "cell_type": "markdown",
   "id": "310c4837",
   "metadata": {},
   "source": [
    "# Adipose-derived 41yoF and 59yoF "
   ]
  },
  {
   "cell_type": "code",
   "execution_count": 29,
   "id": "a45832c2",
   "metadata": {
    "ExecuteTime": {
     "end_time": "2023-09-18T23:01:26.270082Z",
     "start_time": "2023-09-18T23:01:20.009985Z"
    }
   },
   "outputs": [
    {
     "name": "stdout",
     "output_type": "stream",
     "text": [
      "n tiles 46811 n enhancers 9175\n"
     ]
    }
   ],
   "source": [
    "k = T.intersect(A4159)\n",
    "countEnhTileInt(k)"
   ]
  },
  {
   "cell_type": "markdown",
   "id": "9dc580a5",
   "metadata": {},
   "source": [
    "# H1 MSC"
   ]
  },
  {
   "cell_type": "code",
   "execution_count": 41,
   "id": "48e7cdcb",
   "metadata": {
    "ExecuteTime": {
     "end_time": "2023-09-18T23:44:01.578093Z",
     "start_time": "2023-09-18T23:44:01.233020Z"
    }
   },
   "outputs": [
    {
     "name": "stdout",
     "output_type": "stream",
     "text": [
      "n tiles 9700 n enhancers 2494\n"
     ]
    }
   ],
   "source": [
    "l = T.intersect(H1PLS)\n",
    "countEnhTileInt(l)"
   ]
  },
  {
   "cell_type": "code",
   "execution_count": 46,
   "id": "972f0973",
   "metadata": {
    "ExecuteTime": {
     "end_time": "2023-09-18T23:45:45.148732Z",
     "start_time": "2023-09-18T23:45:44.688845Z"
    }
   },
   "outputs": [
    {
     "name": "stdout",
     "output_type": "stream",
     "text": [
      "n tiles 7363 n enhancers 1746\n"
     ]
    }
   ],
   "source": [
    "l = T.intersect(H1PELS)\n",
    "countEnhTileInt(l)"
   ]
  },
  {
   "cell_type": "code",
   "execution_count": 47,
   "id": "c5dd7b14",
   "metadata": {
    "ExecuteTime": {
     "end_time": "2023-09-18T23:46:00.645905Z",
     "start_time": "2023-09-18T23:46:00.013825Z"
    }
   },
   "outputs": [
    {
     "name": "stdout",
     "output_type": "stream",
     "text": [
      "n tiles 6004 n enhancers 1467\n"
     ]
    }
   ],
   "source": [
    "l = T.intersect(H1DELS)\n",
    "countEnhTileInt(l)"
   ]
  },
  {
   "cell_type": "code",
   "execution_count": null,
   "id": "09662be5",
   "metadata": {},
   "outputs": [],
   "source": []
  }
 ],
 "metadata": {
  "kernelspec": {
   "display_name": "Python (mamba)",
   "language": "python",
   "name": "mamba"
  },
  "language_info": {
   "codemirror_mode": {
    "name": "ipython",
    "version": 3
   },
   "file_extension": ".py",
   "mimetype": "text/x-python",
   "name": "python",
   "nbconvert_exporter": "python",
   "pygments_lexer": "ipython3",
   "version": "3.9.16"
  },
  "toc": {
   "base_numbering": 1,
   "nav_menu": {},
   "number_sections": true,
   "sideBar": true,
   "skip_h1_title": false,
   "title_cell": "Table of Contents",
   "title_sidebar": "Contents",
   "toc_cell": false,
   "toc_position": {},
   "toc_section_display": true,
   "toc_window_display": false
  },
  "varInspector": {
   "cols": {
    "lenName": 16,
    "lenType": 16,
    "lenVar": 40
   },
   "kernels_config": {
    "python": {
     "delete_cmd_postfix": "",
     "delete_cmd_prefix": "del ",
     "library": "var_list.py",
     "varRefreshCmd": "print(var_dic_list())"
    },
    "r": {
     "delete_cmd_postfix": ") ",
     "delete_cmd_prefix": "rm(",
     "library": "var_list.r",
     "varRefreshCmd": "cat(var_dic_list()) "
    }
   },
   "types_to_exclude": [
    "module",
    "function",
    "builtin_function_or_method",
    "instance",
    "_Feature"
   ],
   "window_display": false
  }
 },
 "nbformat": 4,
 "nbformat_minor": 5
}
