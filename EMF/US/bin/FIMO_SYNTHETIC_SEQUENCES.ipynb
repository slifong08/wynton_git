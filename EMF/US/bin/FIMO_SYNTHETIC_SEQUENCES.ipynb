{
 "cells": [
  {
   "cell_type": "markdown",
   "id": "221ebb9b",
   "metadata": {},
   "source": [
    "# 20240422\n",
    "Sarah Fong\n",
    "- preprocessed Fimo predictions w \n",
    "        \n",
    "        /$HOME/EMF/US/bin/features-FIMO-TFBS_make_max_score_pval_tables.ipynb"
   ]
  },
  {
   "cell_type": "code",
   "execution_count": 1,
   "id": "fcb476ab",
   "metadata": {
    "ExecuteTime": {
     "end_time": "2024-04-23T18:38:02.598721Z",
     "start_time": "2024-04-23T18:37:16.864631Z"
    }
   },
   "outputs": [],
   "source": [
    "from Bio.SeqIO.FastaIO import SimpleFastaParser\n",
    "from Bio.SeqUtils import gc_fraction\n",
    "\n",
    "import config_readwrite as crw\n",
    "import glob\n",
    "\n",
    "import matplotlib.pyplot as plt\n",
    "import numpy as np\n",
    "import os, sys\n",
    "\n",
    "import pandas as pd\n",
    "\n",
    "from scipy import stats\n",
    "import seaborn as sns\n",
    "\n",
    "from sklearn.linear_model import LinearRegression\n",
    "from sklearn.pipeline import Pipeline\n",
    "from sklearn.preprocessing import StandardScaler\n",
    "\n",
    "from plot_params import fonts"
   ]
  },
  {
   "cell_type": "code",
   "execution_count": 2,
   "id": "32744050",
   "metadata": {
    "ExecuteTime": {
     "end_time": "2024-04-23T18:39:36.918312Z",
     "start_time": "2024-04-23T18:39:36.914200Z"
    }
   },
   "outputs": [],
   "source": [
    "CL = \"hepg2\""
   ]
  },
  {
   "cell_type": "code",
   "execution_count": 3,
   "id": "88b1ea84",
   "metadata": {
    "ExecuteTime": {
     "end_time": "2024-04-23T18:39:37.412046Z",
     "start_time": "2024-04-23T18:39:37.361574Z"
    }
   },
   "outputs": [],
   "source": [
    "config, cfn = crw.read(os.path.join(os.path.dirname(os.getcwd()), \"config.ini\"))\n",
    "\n",
    "section = \"mpra\"\n",
    "FASTA = config[section][\"fasta\"]\n",
    "MPRA = config[section][f\"{CL}.clean.transformed\"]\n",
    "BUILD = \"hg38\"\n",
    "\n",
    "section = \"FIMO\"\n",
    "crw.check(config, section)\n",
    "FIMO_PATH = \"/wynton/home/ahituv/fongsl/EMF/US/data/fimo\"#config[section][\"path\"]\n",
    "FIMO_PRED = os.path.join(FIMO_PATH, \"fimo.txt\")#config[section][\"pred\"]\n",
    "FIMO_MOTIF_MAX = os.path.join(FIMO_PATH, \"fimo_motif.max_score.tsv.gz\")\n",
    "\n",
    "FIMO_MOTIF_MAX_TABLE = os.path.join(FIMO_PATH, \"fimo_motif.max_score_table.tsv.gz\")\n",
    "FIMO_MOTIF_MAX_PTABLE = os.path.join(FIMO_PATH, \"fimo_motif.max_score_pvalue.table.tsv.gz\")\n",
    "\n",
    "SYNTHETICS_PATH = \"/wynton/home/ahituv/fongsl/EMF/US/results/mpra/eda/synthetics\"\n",
    "SYNTHETICS_MPRA = os.path.join(SYNTHETICS_PATH, f\"synthetic.elements.in.{CL}.mpra.tsv\")\n",
    "\n",
    "\n",
    "# write\n",
    "config[section][\"max_score\"]= FIMO_MOTIF_MAX\n",
    "config[section][\"max_score_table\"]= FIMO_MOTIF_MAX_TABLE\n",
    "config[section][\"max_score_pval_table\"]= FIMO_MOTIF_MAX_PTABLE\n",
    "\n",
    "section = \"SYNTHETICS\"\n",
    "crw.check(config, section)\n",
    "\n",
    "config[section][\"path\"]= SYNTHETICS_PATH\n",
    "config[section][f\"mpra.{CL}\"] = SYNTHETICS_MPRA\n",
    "crw.write(config, cfn)\n"
   ]
  },
  {
   "cell_type": "markdown",
   "id": "98c9cd61",
   "metadata": {},
   "source": [
    "# set up fimo + jaspar run"
   ]
  },
  {
   "cell_type": "code",
   "execution_count": 4,
   "id": "27b0e50c",
   "metadata": {
    "ExecuteTime": {
     "end_time": "2024-04-23T18:39:38.247203Z",
     "start_time": "2024-04-23T18:39:38.241607Z"
    }
   },
   "outputs": [],
   "source": [
    "def runFimo(input_file, build, config):\n",
    "    \n",
    "    FIMO = os.path.join(os.environ[\"HOME\"], \"tools\", \"genome\", \"fimo.sh\") # .py if you want to run in cmd line\n",
    "    if os.path.exists(config) is False:\n",
    "        empty_config = os.path.join(os.getcwd(), \"config.ini\")\n",
    "        os.system(f\"touch {empty_config}\")\n",
    "    \n",
    "    cmd = \" \".join([\n",
    "        \"qsub\", \n",
    "        FIMO,\n",
    "        input_file,\n",
    "        f\"-c {config}\",\n",
    "        f\"-g {build}\"\n",
    "    ])\n",
    "    print(\"running fimo\", cmd)\n",
    "    os.system(cmd)"
   ]
  },
  {
   "cell_type": "markdown",
   "id": "c074254b",
   "metadata": {},
   "source": [
    "## run"
   ]
  },
  {
   "cell_type": "code",
   "execution_count": 5,
   "id": "ecf2bfd4",
   "metadata": {
    "ExecuteTime": {
     "end_time": "2024-04-23T18:39:39.120128Z",
     "start_time": "2024-04-23T18:39:39.115846Z"
    }
   },
   "outputs": [],
   "source": [
    "if os.path.exists(FIMO_PRED) is False:\n",
    "    runFimo(FASTA, BUILD, cfn)"
   ]
  },
  {
   "cell_type": "markdown",
   "id": "7ee76fbd",
   "metadata": {},
   "source": [
    "# GC content "
   ]
  },
  {
   "cell_type": "code",
   "execution_count": 7,
   "id": "19692f62",
   "metadata": {
    "ExecuteTime": {
     "end_time": "2024-04-23T18:39:47.082043Z",
     "start_time": "2024-04-23T18:39:46.240882Z"
    }
   },
   "outputs": [],
   "source": [
    "gc = {}\n",
    "with open(FASTA) as handle:\n",
    "\n",
    "    for values in SimpleFastaParser(handle):\n",
    "        name, seq = values\n",
    "        gc[name]=gc_fraction(seq)\n"
   ]
  },
  {
   "cell_type": "code",
   "execution_count": 8,
   "id": "8c3195da",
   "metadata": {
    "ExecuteTime": {
     "end_time": "2024-04-23T18:39:48.720576Z",
     "start_time": "2024-04-23T18:39:47.085550Z"
    }
   },
   "outputs": [
    {
     "data": {
      "text/html": [
       "<div>\n",
       "<style scoped>\n",
       "    .dataframe tbody tr th:only-of-type {\n",
       "        vertical-align: middle;\n",
       "    }\n",
       "\n",
       "    .dataframe tbody tr th {\n",
       "        vertical-align: top;\n",
       "    }\n",
       "\n",
       "    .dataframe thead th {\n",
       "        text-align: right;\n",
       "    }\n",
       "</style>\n",
       "<table border=\"1\" class=\"dataframe\">\n",
       "  <thead>\n",
       "    <tr style=\"text-align: right;\">\n",
       "      <th></th>\n",
       "      <th>name</th>\n",
       "      <th>gc</th>\n",
       "    </tr>\n",
       "  </thead>\n",
       "  <tbody>\n",
       "    <tr>\n",
       "      <th>0</th>\n",
       "      <td>bj_k27ac_down_chr3:29837526-29837795</td>\n",
       "      <td>0.281481</td>\n",
       "    </tr>\n",
       "    <tr>\n",
       "      <th>1</th>\n",
       "      <td>bj_k27ac_down_chr3:29837260-29837529</td>\n",
       "      <td>0.281481</td>\n",
       "    </tr>\n",
       "    <tr>\n",
       "      <th>2</th>\n",
       "      <td>bj_k27ac_down_chr3:29837792-29838061</td>\n",
       "      <td>0.355556</td>\n",
       "    </tr>\n",
       "    <tr>\n",
       "      <th>3</th>\n",
       "      <td>bj_k27ac_down_chr3:29837392-29837661</td>\n",
       "      <td>0.303704</td>\n",
       "    </tr>\n",
       "    <tr>\n",
       "      <th>4</th>\n",
       "      <td>bj_k27ac_down_chr3:29837659-29837928</td>\n",
       "      <td>0.311111</td>\n",
       "    </tr>\n",
       "  </tbody>\n",
       "</table>\n",
       "</div>"
      ],
      "text/plain": [
       "                                   name        gc\n",
       "0  bj_k27ac_down_chr3:29837526-29837795  0.281481\n",
       "1  bj_k27ac_down_chr3:29837260-29837529  0.281481\n",
       "2  bj_k27ac_down_chr3:29837792-29838061  0.355556\n",
       "3  bj_k27ac_down_chr3:29837392-29837661  0.303704\n",
       "4  bj_k27ac_down_chr3:29837659-29837928  0.311111"
      ]
     },
     "execution_count": 8,
     "metadata": {},
     "output_type": "execute_result"
    }
   ],
   "source": [
    "# make a dataframe of GC values for the entire MPRA library\n",
    "gcdf = pd.DataFrame(gc.items())\n",
    "gcdf.columns=[\"name\", \"gc\"]  # rename columns\n",
    "\n",
    "gcdf.head()"
   ]
  },
  {
   "cell_type": "code",
   "execution_count": 9,
   "id": "3f94fbe9",
   "metadata": {
    "ExecuteTime": {
     "end_time": "2024-04-23T18:39:52.777010Z",
     "start_time": "2024-04-23T18:39:48.722513Z"
    }
   },
   "outputs": [
    {
     "data": {
      "text/plain": [
       "<Axes: xlabel='gc', ylabel='Count'>"
      ]
     },
     "execution_count": 9,
     "metadata": {},
     "output_type": "execute_result"
    },
    {
     "data": {
      "image/png": "[encoded data removed]",
      "text/plain": [
       "<Figure size 640x480 with 1 Axes>"
      ]
     },
     "metadata": {},
     "output_type": "display_data"
    }
   ],
   "source": [
    "# histplot of % GC\n",
    "sns.histplot(gcdf[\"gc\"])"
   ]
  },
  {
   "cell_type": "markdown",
   "id": "8d964fa7",
   "metadata": {},
   "source": [
    "# MPRA ~ GC"
   ]
  },
  {
   "cell_type": "code",
   "execution_count": 10,
   "id": "35084b62",
   "metadata": {
    "ExecuteTime": {
     "end_time": "2024-04-23T18:39:53.446735Z",
     "start_time": "2024-04-23T18:39:52.778999Z"
    }
   },
   "outputs": [
    {
     "data": {
      "text/html": [
       "<div>\n",
       "<style scoped>\n",
       "    .dataframe tbody tr th:only-of-type {\n",
       "        vertical-align: middle;\n",
       "    }\n",
       "\n",
       "    .dataframe tbody tr th {\n",
       "        vertical-align: top;\n",
       "    }\n",
       "\n",
       "    .dataframe thead th {\n",
       "        text-align: right;\n",
       "    }\n",
       "</style>\n",
       "<table border=\"1\" class=\"dataframe\">\n",
       "  <thead>\n",
       "    <tr style=\"text-align: right;\">\n",
       "      <th></th>\n",
       "      <th>seq.id</th>\n",
       "      <th>name</th>\n",
       "      <th>label</th>\n",
       "      <th>ratio.med.ctrl</th>\n",
       "      <th>label.ctrl</th>\n",
       "      <th>ratio.1.ctrl</th>\n",
       "      <th>ratio.2.ctrl</th>\n",
       "      <th>ratio.3.ctrl</th>\n",
       "      <th>ratio.med.us</th>\n",
       "      <th>label.us</th>\n",
       "      <th>...</th>\n",
       "      <th>l2.ratio.2.us</th>\n",
       "      <th>l2.ratio.3.us</th>\n",
       "      <th>l2.ratio.med.ctrl</th>\n",
       "      <th>l2.ratio.mean.ctrl</th>\n",
       "      <th>l2.ratio.std.ctrl</th>\n",
       "      <th>l2.ratio.med.us</th>\n",
       "      <th>l2.ratio.mean.us</th>\n",
       "      <th>l2.ratio.std.us</th>\n",
       "      <th>delta.med</th>\n",
       "      <th>delta.mean</th>\n",
       "    </tr>\n",
       "  </thead>\n",
       "  <tbody>\n",
       "    <tr>\n",
       "      <th>0</th>\n",
       "      <td>seq.0</td>\n",
       "      <td>BJ_down-DEG-prom_ENSG00000258064_chr12:7167269...</td>\n",
       "      <td>Promoter_DEG</td>\n",
       "      <td>1.070365</td>\n",
       "      <td>0</td>\n",
       "      <td>1.107709</td>\n",
       "      <td>1.062185</td>\n",
       "      <td>1.041201</td>\n",
       "      <td>1.083715</td>\n",
       "      <td>0</td>\n",
       "      <td>...</td>\n",
       "      <td>0.138128</td>\n",
       "      <td>0.101153</td>\n",
       "      <td>0.087035</td>\n",
       "      <td>0.097621</td>\n",
       "      <td>0.045596</td>\n",
       "      <td>0.108409</td>\n",
       "      <td>0.115896</td>\n",
       "      <td>0.019592</td>\n",
       "      <td>0.021374</td>\n",
       "      <td>0.018276</td>\n",
       "    </tr>\n",
       "    <tr>\n",
       "      <th>1</th>\n",
       "      <td>seq.1</td>\n",
       "      <td>BJ_down-DEG-prom_ENSG00000258064_chr12:7167293...</td>\n",
       "      <td>Promoter_DEG</td>\n",
       "      <td>1.127867</td>\n",
       "      <td>0</td>\n",
       "      <td>1.121452</td>\n",
       "      <td>1.154453</td>\n",
       "      <td>1.107696</td>\n",
       "      <td>1.119848</td>\n",
       "      <td>0</td>\n",
       "      <td>...</td>\n",
       "      <td>0.176313</td>\n",
       "      <td>0.136387</td>\n",
       "      <td>0.165367</td>\n",
       "      <td>0.173380</td>\n",
       "      <td>0.030620</td>\n",
       "      <td>0.176313</td>\n",
       "      <td>0.163178</td>\n",
       "      <td>0.023204</td>\n",
       "      <td>0.010945</td>\n",
       "      <td>-0.010201</td>\n",
       "    </tr>\n",
       "    <tr>\n",
       "      <th>2</th>\n",
       "      <td>seq.2</td>\n",
       "      <td>BJ_down-DEG-prom_ENSG00000258064_chr12:7167318...</td>\n",
       "      <td>Promoter_DEG</td>\n",
       "      <td>1.045273</td>\n",
       "      <td>0</td>\n",
       "      <td>1.060571</td>\n",
       "      <td>1.040215</td>\n",
       "      <td>1.035032</td>\n",
       "      <td>1.046512</td>\n",
       "      <td>0</td>\n",
       "      <td>...</td>\n",
       "      <td>0.049738</td>\n",
       "      <td>0.063808</td>\n",
       "      <td>0.056882</td>\n",
       "      <td>0.063799</td>\n",
       "      <td>0.018576</td>\n",
       "      <td>0.063808</td>\n",
       "      <td>0.065525</td>\n",
       "      <td>0.016711</td>\n",
       "      <td>0.006926</td>\n",
       "      <td>0.001725</td>\n",
       "    </tr>\n",
       "    <tr>\n",
       "      <th>3</th>\n",
       "      <td>seq.3</td>\n",
       "      <td>BJ_down-DEG-prom_ENSG00000258064_chr12:7167342...</td>\n",
       "      <td>Promoter_DEG</td>\n",
       "      <td>1.388219</td>\n",
       "      <td>1</td>\n",
       "      <td>1.431877</td>\n",
       "      <td>1.349455</td>\n",
       "      <td>1.383327</td>\n",
       "      <td>1.418199</td>\n",
       "      <td>1</td>\n",
       "      <td>...</td>\n",
       "      <td>0.536480</td>\n",
       "      <td>0.474277</td>\n",
       "      <td>0.468142</td>\n",
       "      <td>0.472809</td>\n",
       "      <td>0.042956</td>\n",
       "      <td>0.500746</td>\n",
       "      <td>0.503834</td>\n",
       "      <td>0.031216</td>\n",
       "      <td>0.032604</td>\n",
       "      <td>0.031026</td>\n",
       "    </tr>\n",
       "    <tr>\n",
       "      <th>4</th>\n",
       "      <td>seq.4</td>\n",
       "      <td>BJ_down-DEG-prom_ENSG00000258064_chr12:7167367...</td>\n",
       "      <td>Promoter_DEG</td>\n",
       "      <td>1.098010</td>\n",
       "      <td>0</td>\n",
       "      <td>1.121973</td>\n",
       "      <td>1.074758</td>\n",
       "      <td>1.097298</td>\n",
       "      <td>1.103948</td>\n",
       "      <td>0</td>\n",
       "      <td>...</td>\n",
       "      <td>0.127767</td>\n",
       "      <td>0.095960</td>\n",
       "      <td>0.133955</td>\n",
       "      <td>0.134668</td>\n",
       "      <td>0.031019</td>\n",
       "      <td>0.127767</td>\n",
       "      <td>0.141982</td>\n",
       "      <td>0.054537</td>\n",
       "      <td>-0.006189</td>\n",
       "      <td>0.007313</td>\n",
       "    </tr>\n",
       "    <tr>\n",
       "      <th>...</th>\n",
       "      <td>...</td>\n",
       "      <td>...</td>\n",
       "      <td>...</td>\n",
       "      <td>...</td>\n",
       "      <td>...</td>\n",
       "      <td>...</td>\n",
       "      <td>...</td>\n",
       "      <td>...</td>\n",
       "      <td>...</td>\n",
       "      <td>...</td>\n",
       "      <td>...</td>\n",
       "      <td>...</td>\n",
       "      <td>...</td>\n",
       "      <td>...</td>\n",
       "      <td>...</td>\n",
       "      <td>...</td>\n",
       "      <td>...</td>\n",
       "      <td>...</td>\n",
       "      <td>...</td>\n",
       "      <td>...</td>\n",
       "      <td>...</td>\n",
       "    </tr>\n",
       "    <tr>\n",
       "      <th>58612</th>\n",
       "      <td>seq.82411</td>\n",
       "      <td>k562_k27ac_up_chr9:129402570-129402839</td>\n",
       "      <td>Differential_H3K27ac</td>\n",
       "      <td>0.617967</td>\n",
       "      <td>0</td>\n",
       "      <td>0.577024</td>\n",
       "      <td>0.583477</td>\n",
       "      <td>0.693402</td>\n",
       "      <td>0.684918</td>\n",
       "      <td>0</td>\n",
       "      <td>...</td>\n",
       "      <td>-0.552846</td>\n",
       "      <td>-0.666423</td>\n",
       "      <td>-0.777253</td>\n",
       "      <td>-0.699596</td>\n",
       "      <td>0.148618</td>\n",
       "      <td>-0.552846</td>\n",
       "      <td>-0.549269</td>\n",
       "      <td>0.118982</td>\n",
       "      <td>0.224407</td>\n",
       "      <td>0.150326</td>\n",
       "    </tr>\n",
       "    <tr>\n",
       "      <th>58613</th>\n",
       "      <td>seq.82417</td>\n",
       "      <td>k562_k27ac_up_chrX:154123331-154123600</td>\n",
       "      <td>Differential_H3K27ac</td>\n",
       "      <td>1.118351</td>\n",
       "      <td>0</td>\n",
       "      <td>1.562728</td>\n",
       "      <td>0.924180</td>\n",
       "      <td>0.868144</td>\n",
       "      <td>1.154907</td>\n",
       "      <td>0</td>\n",
       "      <td>...</td>\n",
       "      <td>0.044281</td>\n",
       "      <td>0.049939</td>\n",
       "      <td>-0.113753</td>\n",
       "      <td>0.108773</td>\n",
       "      <td>0.465769</td>\n",
       "      <td>0.049939</td>\n",
       "      <td>0.192641</td>\n",
       "      <td>0.252084</td>\n",
       "      <td>0.163692</td>\n",
       "      <td>0.083868</td>\n",
       "    </tr>\n",
       "    <tr>\n",
       "      <th>58614</th>\n",
       "      <td>seq.82418</td>\n",
       "      <td>k562_k27ac_up_chrX:154123463-154123732</td>\n",
       "      <td>Differential_H3K27ac</td>\n",
       "      <td>0.963361</td>\n",
       "      <td>0</td>\n",
       "      <td>0.911258</td>\n",
       "      <td>1.057504</td>\n",
       "      <td>0.921321</td>\n",
       "      <td>0.938231</td>\n",
       "      <td>0</td>\n",
       "      <td>...</td>\n",
       "      <td>0.018573</td>\n",
       "      <td>-0.014789</td>\n",
       "      <td>-0.118224</td>\n",
       "      <td>-0.057210</td>\n",
       "      <td>0.119664</td>\n",
       "      <td>-0.014789</td>\n",
       "      <td>-0.098928</td>\n",
       "      <td>0.175419</td>\n",
       "      <td>0.103435</td>\n",
       "      <td>-0.041718</td>\n",
       "    </tr>\n",
       "    <tr>\n",
       "      <th>58615</th>\n",
       "      <td>seq.82421</td>\n",
       "      <td>k562_k27ac_up_chrX:154123863-154124132</td>\n",
       "      <td>Differential_H3K27ac</td>\n",
       "      <td>0.911969</td>\n",
       "      <td>0</td>\n",
       "      <td>0.897749</td>\n",
       "      <td>1.138903</td>\n",
       "      <td>0.699253</td>\n",
       "      <td>0.776374</td>\n",
       "      <td>0</td>\n",
       "      <td>...</td>\n",
       "      <td>-0.027868</td>\n",
       "      <td>-0.426472</td>\n",
       "      <td>-0.155616</td>\n",
       "      <td>-0.161361</td>\n",
       "      <td>0.351914</td>\n",
       "      <td>-0.426472</td>\n",
       "      <td>-0.393769</td>\n",
       "      <td>0.350695</td>\n",
       "      <td>-0.270856</td>\n",
       "      <td>-0.232408</td>\n",
       "    </tr>\n",
       "    <tr>\n",
       "      <th>58616</th>\n",
       "      <td>seq.82426</td>\n",
       "      <td>k562_k27ac_up_chrX:48918912-48919181</td>\n",
       "      <td>Differential_H3K27ac</td>\n",
       "      <td>1.282443</td>\n",
       "      <td>1</td>\n",
       "      <td>1.276313</td>\n",
       "      <td>1.429864</td>\n",
       "      <td>1.141152</td>\n",
       "      <td>1.183649</td>\n",
       "      <td>0</td>\n",
       "      <td>...</td>\n",
       "      <td>0.167856</td>\n",
       "      <td>0.340127</td>\n",
       "      <td>0.351982</td>\n",
       "      <td>0.352784</td>\n",
       "      <td>0.162695</td>\n",
       "      <td>0.216224</td>\n",
       "      <td>0.241403</td>\n",
       "      <td>0.088853</td>\n",
       "      <td>-0.135757</td>\n",
       "      <td>-0.111381</td>\n",
       "    </tr>\n",
       "  </tbody>\n",
       "</table>\n",
       "<p>58617 rows × 34 columns</p>\n",
       "</div>"
      ],
      "text/plain": [
       "          seq.id                                               name  \\\n",
       "0          seq.0  BJ_down-DEG-prom_ENSG00000258064_chr12:7167269...   \n",
       "1          seq.1  BJ_down-DEG-prom_ENSG00000258064_chr12:7167293...   \n",
       "2          seq.2  BJ_down-DEG-prom_ENSG00000258064_chr12:7167318...   \n",
       "3          seq.3  BJ_down-DEG-prom_ENSG00000258064_chr12:7167342...   \n",
       "4          seq.4  BJ_down-DEG-prom_ENSG00000258064_chr12:7167367...   \n",
       "...          ...                                                ...   \n",
       "58612  seq.82411             k562_k27ac_up_chr9:129402570-129402839   \n",
       "58613  seq.82417             k562_k27ac_up_chrX:154123331-154123600   \n",
       "58614  seq.82418             k562_k27ac_up_chrX:154123463-154123732   \n",
       "58615  seq.82421             k562_k27ac_up_chrX:154123863-154124132   \n",
       "58616  seq.82426               k562_k27ac_up_chrX:48918912-48919181   \n",
       "\n",
       "                      label  ratio.med.ctrl  label.ctrl  ratio.1.ctrl  \\\n",
       "0              Promoter_DEG        1.070365           0      1.107709   \n",
       "1              Promoter_DEG        1.127867           0      1.121452   \n",
       "2              Promoter_DEG        1.045273           0      1.060571   \n",
       "3              Promoter_DEG        1.388219           1      1.431877   \n",
       "4              Promoter_DEG        1.098010           0      1.121973   \n",
       "...                     ...             ...         ...           ...   \n",
       "58612  Differential_H3K27ac        0.617967           0      0.577024   \n",
       "58613  Differential_H3K27ac        1.118351           0      1.562728   \n",
       "58614  Differential_H3K27ac        0.963361           0      0.911258   \n",
       "58615  Differential_H3K27ac        0.911969           0      0.897749   \n",
       "58616  Differential_H3K27ac        1.282443           1      1.276313   \n",
       "\n",
       "       ratio.2.ctrl  ratio.3.ctrl  ratio.med.us  label.us  ...  l2.ratio.2.us  \\\n",
       "0          1.062185      1.041201      1.083715         0  ...       0.138128   \n",
       "1          1.154453      1.107696      1.119848         0  ...       0.176313   \n",
       "2          1.040215      1.035032      1.046512         0  ...       0.049738   \n",
       "3          1.349455      1.383327      1.418199         1  ...       0.536480   \n",
       "4          1.074758      1.097298      1.103948         0  ...       0.127767   \n",
       "...             ...           ...           ...       ...  ...            ...   \n",
       "58612      0.583477      0.693402      0.684918         0  ...      -0.552846   \n",
       "58613      0.924180      0.868144      1.154907         0  ...       0.044281   \n",
       "58614      1.057504      0.921321      0.938231         0  ...       0.018573   \n",
       "58615      1.138903      0.699253      0.776374         0  ...      -0.027868   \n",
       "58616      1.429864      1.141152      1.183649         0  ...       0.167856   \n",
       "\n",
       "       l2.ratio.3.us  l2.ratio.med.ctrl  l2.ratio.mean.ctrl  \\\n",
       "0           0.101153           0.087035            0.097621   \n",
       "1           0.136387           0.165367            0.173380   \n",
       "2           0.063808           0.056882            0.063799   \n",
       "3           0.474277           0.468142            0.472809   \n",
       "4           0.095960           0.133955            0.134668   \n",
       "...              ...                ...                 ...   \n",
       "58612      -0.666423          -0.777253           -0.699596   \n",
       "58613       0.049939          -0.113753            0.108773   \n",
       "58614      -0.014789          -0.118224           -0.057210   \n",
       "58615      -0.426472          -0.155616           -0.161361   \n",
       "58616       0.340127           0.351982            0.352784   \n",
       "\n",
       "       l2.ratio.std.ctrl  l2.ratio.med.us  l2.ratio.mean.us l2.ratio.std.us  \\\n",
       "0               0.045596         0.108409          0.115896        0.019592   \n",
       "1               0.030620         0.176313          0.163178        0.023204   \n",
       "2               0.018576         0.063808          0.065525        0.016711   \n",
       "3               0.042956         0.500746          0.503834        0.031216   \n",
       "4               0.031019         0.127767          0.141982        0.054537   \n",
       "...                  ...              ...               ...             ...   \n",
       "58612           0.148618        -0.552846         -0.549269        0.118982   \n",
       "58613           0.465769         0.049939          0.192641        0.252084   \n",
       "58614           0.119664        -0.014789         -0.098928        0.175419   \n",
       "58615           0.351914        -0.426472         -0.393769        0.350695   \n",
       "58616           0.162695         0.216224          0.241403        0.088853   \n",
       "\n",
       "      delta.med delta.mean  \n",
       "0      0.021374   0.018276  \n",
       "1      0.010945  -0.010201  \n",
       "2      0.006926   0.001725  \n",
       "3      0.032604   0.031026  \n",
       "4     -0.006189   0.007313  \n",
       "...         ...        ...  \n",
       "58612  0.224407   0.150326  \n",
       "58613  0.163692   0.083868  \n",
       "58614  0.103435  -0.041718  \n",
       "58615 -0.270856  -0.232408  \n",
       "58616 -0.135757  -0.111381  \n",
       "\n",
       "[58617 rows x 34 columns]"
      ]
     },
     "execution_count": 10,
     "metadata": {},
     "output_type": "execute_result"
    }
   ],
   "source": [
    "df = pd.read_csv(MPRA, sep='\\t',)\n",
    "df"
   ]
  },
  {
   "cell_type": "markdown",
   "id": "249bbd81",
   "metadata": {},
   "source": [
    "## Merge MPRA w GC data"
   ]
  },
  {
   "cell_type": "code",
   "execution_count": 11,
   "id": "1f315df1",
   "metadata": {
    "ExecuteTime": {
     "end_time": "2024-04-23T18:39:53.599525Z",
     "start_time": "2024-04-23T18:39:53.449948Z"
    }
   },
   "outputs": [],
   "source": [
    "m = pd.merge(df, gcdf)"
   ]
  },
  {
   "cell_type": "code",
   "execution_count": 12,
   "id": "5b927b7e",
   "metadata": {
    "ExecuteTime": {
     "end_time": "2024-04-23T18:39:53.613659Z",
     "start_time": "2024-04-23T18:39:53.601640Z"
    }
   },
   "outputs": [
    {
     "data": {
      "text/plain": [
       "label\n",
       "Differential_ATAC       11432\n",
       "Differential_H3K27ac    14617\n",
       "NegCtl_Ilias_MPRA          54\n",
       "NegCtl_Vikram_MPRA         93\n",
       "Non-differential          117\n",
       "PosCtk_Vikram_MPRA         70\n",
       "PosCtl_Ilias_MPRA          58\n",
       "PosCtl_bj_luciferase       18\n",
       "Promoter_DEG              235\n",
       "Shuffle                   304\n",
       "Synthetic               31619\n",
       "Name: name, dtype: int64"
      ]
     },
     "execution_count": 12,
     "metadata": {},
     "output_type": "execute_result"
    }
   ],
   "source": [
    "# count of names in merge of MPRA + GC \n",
    "m.groupby([\"label\"])['name'].count()"
   ]
  },
  {
   "cell_type": "code",
   "execution_count": 13,
   "id": "954ee688",
   "metadata": {
    "ExecuteTime": {
     "end_time": "2024-04-23T18:39:54.030332Z",
     "start_time": "2024-04-23T18:39:53.615940Z"
    }
   },
   "outputs": [
    {
     "name": "stdout",
     "output_type": "stream",
     "text": [
      "7.494243969508041e-06\n"
     ]
    }
   ],
   "source": [
    "pipe = Pipeline([('scaler', StandardScaler()), ('reg', LinearRegression())])\n",
    "\n",
    "X = np.vstack(m[\"gc\"])\n",
    "y = np.vstack(m[\"logFC\"])\n",
    "\n",
    "pipe.fit(X, y)\n",
    "\n",
    "print(pipe.score(X, y))\n",
    "\n",
    "reg = pipe.named_steps[\"reg\"]"
   ]
  },
  {
   "cell_type": "markdown",
   "id": "38563dd7",
   "metadata": {},
   "source": [
    "## GC content is significantly associated with log2FC in activity, but effect is slight\n",
    "- r2 = 7.494243969508041e-06, coeff = -0.00028356"
   ]
  },
  {
   "cell_type": "markdown",
   "id": "85ad90d5",
   "metadata": {},
   "source": [
    "# synthetics \n",
    "- some HepG2 hypotheses from ./EMF/US/synthetics.ipynb indicate that position 50-100 is the most US sensitive. \n",
    "    - US increase: CCCCTCCCCC pos 57, TGTAACAA pos 17\n",
    "\n",
    "    - US decrease: TAATT pos1, TTTTATAA pos 41\n",
    "    - both us increase and decrease: CGCCACGGCGGGGGTGGAGGA pos 57, GAGGGGTCTT  pos 65, \n",
    "    \n",
    "- Evaluate motifs of entire element when synthetic sequence is added. "
   ]
  },
  {
   "cell_type": "code",
   "execution_count": 14,
   "id": "7f52a69b",
   "metadata": {
    "ExecuteTime": {
     "end_time": "2024-04-23T18:39:54.502132Z",
     "start_time": "2024-04-23T18:39:54.032493Z"
    }
   },
   "outputs": [
    {
     "data": {
      "text/html": [
       "<div>\n",
       "<style scoped>\n",
       "    .dataframe tbody tr th:only-of-type {\n",
       "        vertical-align: middle;\n",
       "    }\n",
       "\n",
       "    .dataframe tbody tr th {\n",
       "        vertical-align: top;\n",
       "    }\n",
       "\n",
       "    .dataframe thead th {\n",
       "        text-align: right;\n",
       "    }\n",
       "</style>\n",
       "<table border=\"1\" class=\"dataframe\">\n",
       "  <thead>\n",
       "    <tr style=\"text-align: right;\">\n",
       "      <th></th>\n",
       "      <th>pos</th>\n",
       "      <th>motif</th>\n",
       "      <th>shuf</th>\n",
       "      <th>seq</th>\n",
       "      <th>insert_type</th>\n",
       "      <th>n_inserts</th>\n",
       "      <th>motif_len</th>\n",
       "      <th>name</th>\n",
       "    </tr>\n",
       "  </thead>\n",
       "  <tbody>\n",
       "    <tr>\n",
       "      <th>0</th>\n",
       "      <td>1</td>\n",
       "      <td>CCAGGAACAG</td>\n",
       "      <td>False</td>\n",
       "      <td>SYNTHETIC:_The_motif_CCAGGAACAG_was_added_in_P...</td>\n",
       "      <td>single</td>\n",
       "      <td>1</td>\n",
       "      <td>10</td>\n",
       "      <td>SYNTHETIC:_The_motif_CCAGGAACAG_was_added_in_P...</td>\n",
       "    </tr>\n",
       "    <tr>\n",
       "      <th>1</th>\n",
       "      <td>1</td>\n",
       "      <td>CTGTTCCTGG</td>\n",
       "      <td>False</td>\n",
       "      <td>SYNTHETIC:_The_motif_CTGTTCCTGG_was_added_in_P...</td>\n",
       "      <td>single</td>\n",
       "      <td>1</td>\n",
       "      <td>10</td>\n",
       "      <td>SYNTHETIC:_The_motif_CTGTTCCTGG_was_added_in_P...</td>\n",
       "    </tr>\n",
       "    <tr>\n",
       "      <th>2</th>\n",
       "      <td>9</td>\n",
       "      <td>CCAGGAACAG</td>\n",
       "      <td>False</td>\n",
       "      <td>SYNTHETIC:_The_motif_CCAGGAACAG_was_added_in_P...</td>\n",
       "      <td>single</td>\n",
       "      <td>1</td>\n",
       "      <td>10</td>\n",
       "      <td>SYNTHETIC:_The_motif_CCAGGAACAG_was_added_in_P...</td>\n",
       "    </tr>\n",
       "    <tr>\n",
       "      <th>3</th>\n",
       "      <td>9</td>\n",
       "      <td>CTGTTCCTGG</td>\n",
       "      <td>False</td>\n",
       "      <td>SYNTHETIC:_The_motif_CTGTTCCTGG_was_added_in_P...</td>\n",
       "      <td>single</td>\n",
       "      <td>1</td>\n",
       "      <td>10</td>\n",
       "      <td>SYNTHETIC:_The_motif_CTGTTCCTGG_was_added_in_P...</td>\n",
       "    </tr>\n",
       "    <tr>\n",
       "      <th>4</th>\n",
       "      <td>17</td>\n",
       "      <td>CCAGGAACAG</td>\n",
       "      <td>False</td>\n",
       "      <td>SYNTHETIC:_The_motif_CCAGGAACAG_was_added_in_P...</td>\n",
       "      <td>single</td>\n",
       "      <td>1</td>\n",
       "      <td>10</td>\n",
       "      <td>SYNTHETIC:_The_motif_CCAGGAACAG_was_added_in_P...</td>\n",
       "    </tr>\n",
       "  </tbody>\n",
       "</table>\n",
       "</div>"
      ],
      "text/plain": [
       "   pos       motif   shuf                                                seq  \\\n",
       "0    1  CCAGGAACAG  False  SYNTHETIC:_The_motif_CCAGGAACAG_was_added_in_P...   \n",
       "1    1  CTGTTCCTGG  False  SYNTHETIC:_The_motif_CTGTTCCTGG_was_added_in_P...   \n",
       "2    9  CCAGGAACAG  False  SYNTHETIC:_The_motif_CCAGGAACAG_was_added_in_P...   \n",
       "3    9  CTGTTCCTGG  False  SYNTHETIC:_The_motif_CTGTTCCTGG_was_added_in_P...   \n",
       "4   17  CCAGGAACAG  False  SYNTHETIC:_The_motif_CCAGGAACAG_was_added_in_P...   \n",
       "\n",
       "  insert_type  n_inserts  motif_len  \\\n",
       "0      single          1         10   \n",
       "1      single          1         10   \n",
       "2      single          1         10   \n",
       "3      single          1         10   \n",
       "4      single          1         10   \n",
       "\n",
       "                                                name  \n",
       "0  SYNTHETIC:_The_motif_CCAGGAACAG_was_added_in_P...  \n",
       "1  SYNTHETIC:_The_motif_CTGTTCCTGG_was_added_in_P...  \n",
       "2  SYNTHETIC:_The_motif_CCAGGAACAG_was_added_in_P...  \n",
       "3  SYNTHETIC:_The_motif_CTGTTCCTGG_was_added_in_P...  \n",
       "4  SYNTHETIC:_The_motif_CCAGGAACAG_was_added_in_P...  "
      ]
     },
     "execution_count": 14,
     "metadata": {},
     "output_type": "execute_result"
    }
   ],
   "source": [
    "syn = pd.read_csv(SYNTHETICS_MPRA, sep='\\t')\n",
    "syn.head()"
   ]
  },
  {
   "cell_type": "code",
   "execution_count": 15,
   "id": "b27c855f",
   "metadata": {
    "ExecuteTime": {
     "end_time": "2024-04-23T18:39:55.344599Z",
     "start_time": "2024-04-23T18:39:54.504001Z"
    }
   },
   "outputs": [],
   "source": [
    "MOTIFS = [(\"CCCCTCCCCC\", 57), \n",
    "          (\"TGTAACAA\", 17), \n",
    "          (\"TAATT\", 1),\n",
    "          (\"TTTTATAA\", 41), \n",
    "          (\"CGCCACGGCGGGGGTGGAGGA\", 57), \n",
    "          (\"GAGGGGTCTT\", 65)\n",
    "         ]\n",
    "MOTIF, POS = MOTIFS[0]\n",
    "\n",
    "SINGLE = f\"SYNTHETIC:_The_motif_{MOTIF}_was_added_in_Pos:{POS}\"\n",
    "\n",
    "# all MPRA motifs sequences with this motif + position\n",
    "MOTIF_SEQS = syn.loc[(syn[\"motif\"]==MOTIF)&\n",
    "       (syn[\"pos\"]==POS), 'seq']  \n",
    "\n",
    "# both het and homo synthetic sequences\n",
    "MPRA_SEQS = m.loc[(m['name'].isin(MOTIF_SEQS)), \"name\"].unique()  # get the sequences that have been tested in MPRA. \n",
    "\n",
    "\n",
    "POSITIONS = syn.loc[(syn[\"motif\"] == MOTIF) &\n",
    "                    (syn['insert_type'] == \"single\"),\n",
    "                    \"pos\"\n",
    "                    ].to_list() # list of all the positions for a single motif"
   ]
  },
  {
   "cell_type": "markdown",
   "id": "f89a8d5c",
   "metadata": {},
   "source": [
    "# One motif insertion"
   ]
  },
  {
   "cell_type": "markdown",
   "id": "ce4ecd3e",
   "metadata": {},
   "source": [
    "## split FIMO predictions per motif"
   ]
  },
  {
   "cell_type": "code",
   "execution_count": 16,
   "id": "af929ac0",
   "metadata": {
    "ExecuteTime": {
     "end_time": "2024-04-23T18:39:55.627255Z",
     "start_time": "2024-04-23T18:39:55.347020Z"
    }
   },
   "outputs": [],
   "source": [
    "fs = glob.glob(os.path.join(FIMO_PATH, \"MA*.txt\"))"
   ]
  },
  {
   "cell_type": "markdown",
   "id": "6d26a9cd",
   "metadata": {},
   "source": [
    "## get motif names"
   ]
  },
  {
   "cell_type": "code",
   "execution_count": 17,
   "id": "ed7b614b",
   "metadata": {
    "ExecuteTime": {
     "end_time": "2024-04-23T18:39:56.245655Z",
     "start_time": "2024-04-23T18:39:55.629287Z"
    }
   },
   "outputs": [],
   "source": [
    "# \n",
    "NAMES_FILE = os.path.join(FIMO_PATH, \"motif_id.txt\")\n",
    "NAMES = list(pd.read_csv(NAMES_FILE, sep='\\t'))\n",
    "\n",
    "KEEP_COLS = [[\"motif_alt_id\",\n",
    "              'motif_id',\n",
    "             'sequence_name',\n",
    "             'score',\n",
    "             'p-value',\n",
    "             'matched_sequence'\n",
    "             ]]"
   ]
  },
  {
   "cell_type": "markdown",
   "id": "29ffdebf",
   "metadata": {},
   "source": [
    "## grep motifs for each element"
   ]
  },
  {
   "cell_type": "code",
   "execution_count": 18,
   "id": "1e55dc91",
   "metadata": {
    "ExecuteTime": {
     "end_time": "2024-04-23T18:39:56.386819Z",
     "start_time": "2024-04-23T18:39:56.248133Z"
    }
   },
   "outputs": [],
   "source": [
    "os.chdir(FIMO_PATH)"
   ]
  },
  {
   "cell_type": "code",
   "execution_count": 19,
   "id": "dad2d3fc",
   "metadata": {
    "ExecuteTime": {
     "end_time": "2024-04-23T18:39:56.982403Z",
     "start_time": "2024-04-23T18:39:56.388786Z"
    }
   },
   "outputs": [],
   "source": [
    "# ONE MOTIF, ALL SINGLE_INSERTION POSITIONS\n",
    "# make outdir\n",
    "RE = os.path.join(FIMO_PATH, f\"syn_single_insert_{MOTIF}\")\n",
    "\n",
    "if os.path.exists(RE) is False:\n",
    "    os.mkdir(RE)\n",
    "\n",
    "preds = {}\n",
    "for n, pos in enumerate(POSITIONS):\n",
    "\n",
    "    name = f\"SYNTHETIC:_The_motif_{MOTIF}_was_added_in_Pos:{pos}\"\n",
    "    out = os.path.join(RE, f\"pos_{pos}.{MOTIF}.txt\")\n",
    "\n",
    "    cmd = \" \".join([\"grep -w\",  # -\n",
    "                    name,\n",
    "                    \"MA*.txt >\",\n",
    "                    out\n",
    "                    ])\n",
    "    if os.path.exists(out) is False:\n",
    "        print(\"pos\", pos)\n",
    "        os.system(cmd)\n",
    "\n",
    "    # read dataframe\n",
    "    results = pd.read_csv(out, sep='\\t', header=None, names=NAMES)\n",
    "    results[\"insertion_pos\"] = pos  # annotate insertion position\n",
    "\n",
    "    preds[pos] = results"
   ]
  },
  {
   "cell_type": "markdown",
   "id": "26fd1641",
   "metadata": {},
   "source": [
    "## make background sequence"
   ]
  },
  {
   "cell_type": "code",
   "execution_count": 25,
   "id": "776e884c",
   "metadata": {
    "ExecuteTime": {
     "end_time": "2024-04-23T18:41:30.420491Z",
     "start_time": "2024-04-23T18:41:30.408675Z"
    }
   },
   "outputs": [],
   "source": [
    "def getbkgd(pos, motif):\n",
    "    \"\"\"return motifs in background - inside and outside insertion\n",
    "        return motifs created by insertion\n",
    "    \"\"\"\n",
    "    print(pos)\n",
    "    posdf = preds[pos]\n",
    "    bkgd_ins = preds[89]\n",
    "\n",
    "    # get motifs predicted around insertion site\n",
    "    bkgdg_outside_ins = posdf.loc[(posdf[\"start\"] > (pos+len(motif))) |\n",
    "                                  (posdf[\"stop\"] < pos)\n",
    "                                  ]\n",
    "\n",
    "    # get motifs predicted at insertion site using a different insertion dataset\n",
    "    bkgdg_inside_ins = bkgd_ins.loc[(bkgd_ins[\"start\"] <= (pos+len(motif))) &\n",
    "                                    (bkgd_ins[\"start\"] >= (pos))\n",
    "                                    ]\n",
    "\n",
    "    # get motifs predicted at insertion site using a different insertion dataset\n",
    "    print(\"foreground start is less than\", pos+len(motif), \"more than\", pos)\n",
    "\n",
    "    foregd = posdf.loc[(posdf[\"start\"] <= (pos+len(motif))) &\n",
    "                       (posdf[\"start\"] >= (pos))\n",
    "                       ]\n",
    "\n",
    "    fullbkgd = pd.concat([bkgdg_inside_ins, bkgdg_outside_ins]).sort_values(\n",
    "        by=[\"start\", \"stop\"]).drop_duplicates()\n",
    "\n",
    "    print(bkgdg_inside_ins.shape[0], bkgdg_outside_ins.shape[0],\n",
    "          fullbkgd.shape[0], foregd.shape[0])\n",
    "\n",
    "    return bkgdg_outside_ins, bkgdg_inside_ins, foregd\n",
    "\n",
    "\n",
    "def roundCoor(df_):\n",
    "    \"\"\" round start, stop coordinates to the nearest 10bp, keep strand\n",
    "        FILTER - pick the motif with the highest p-value in that segment\n",
    "    \"\"\"\n",
    "    df = df_.copy()\n",
    "    # round start, stop\n",
    "    if \"start_r\" not in list(df):\n",
    "\n",
    "        \n",
    "        # round to the nearest 10bp\n",
    "        df['start_r'] = df[\"start\"].round(-1)\n",
    "        df['stop_r'] = df[\"stop\"].round(-1)\n",
    "\n",
    "    # FILTER - summarize motifs for each bin by MOST SIGNIFICANT P-VALUE\n",
    "    grouped = df.groupby(['start_r', \"stop_r\", \"strand\"])[\n",
    "        \"p-value\"].min().reset_index()\n",
    "\n",
    "    # keep only most significant id, add back motif_alt_id\n",
    "    grouped = pd.merge(grouped, df[[\n",
    "                       'start_r', \"stop_r\", \"strand\", \"p-value\", \"motif_alt_id\"]]).drop_duplicates()\n",
    "\n",
    "    return df, grouped\n",
    "\n",
    "\n",
    "def plotLineGraph(df, color):\n",
    "    \"\"\"\n",
    "    plot line graph of motifs\n",
    "    \"\"\"\n",
    "    # plot background\n",
    "    v = 0\n",
    "    data = df.sort_values(by=\"p-value\")\n",
    "    # plot the top X motifs (based on q-value, which is biased by motif len)\n",
    "    PLOT_TOP = data.shape[0]\n",
    "    for n, row in data.iterrows():\n",
    "        if row[\"start_r\"] != row[\"stop_r\"]:\n",
    "            X = [row[\"start_r\"], row[\"stop_r\"]]\n",
    "        else:\n",
    "            X = [row[\"start_r\"], row[\"stop_r\"]+10]\n",
    "\n",
    "        if row[\"strand\"] == \"-\":  # put negative strand ranks underneath the position\n",
    "            n = -n\n",
    "\n",
    "        y = [n, n]\n",
    "\n",
    "        label = row[\"motif_alt_id\"]  # \" \".join(row[\"motif_alt_id\"])\n",
    "        # print(label, type(label), type(X), type(y))\n",
    "        v += 1\n",
    "        plt.plot(X, y, lw=3, color=color, alpha=0.3)\n",
    "        plt.annotate(label, (X[0], y[0]), color=color)\n",
    "        \n",
    "        if v == PLOT_TOP:\n",
    "            plt.axhline(0, ls=\"--\", color=color)\n",
    "            plt.ylabel(\"p-val rank\")\n",
    "            plt.xlabel(\"pos\")\n",
    "        plt.xlim(0, 270)"
   ]
  },
  {
   "cell_type": "code",
   "execution_count": 30,
   "id": "d34a8e34",
   "metadata": {
    "ExecuteTime": {
     "end_time": "2024-04-23T18:54:36.877023Z",
     "start_time": "2024-04-23T18:54:36.636619Z"
    }
   },
   "outputs": [
    {
     "name": "stdout",
     "output_type": "stream",
     "text": [
      "1\n",
      "1\n",
      "foreground start is less than 11 more than 1\n",
      "1 61 62 15\n",
      "dif lost {'ETV2::FOXI1'} \n",
      "current/last lost {'ETV2::FOXI1'} set() \n",
      " \n",
      "\n",
      "dif gained {'msn-1', 'Wt1', 'SP5', 'PATZ1'} \n",
      "current/last gain {'msn-1', 'Wt1', 'SP5', 'PATZ1'} set() \n",
      " \n",
      "\n",
      "9\n",
      "9\n",
      "foreground start is less than 19 more than 9\n",
      "1 60 61 21\n",
      "dif lost {'WRKY46'} \n",
      "current/last lost {'WRKY46'} {'ETV2::FOXI1'} \n",
      " \n",
      "\n",
      "dif gained {'ARF14', 'Znf423'} \n",
      "current/last gain {'ARF14', 'SP5', 'PATZ1', 'Znf423'} {'msn-1', 'Wt1', 'SP5', 'PATZ1'} \n",
      " \n",
      "\n",
      "17\n",
      "17\n",
      "foreground start is less than 27 more than 17\n",
      "6 54 60 13\n",
      "dif lost {'ZBTB26', 'Hand1::Tcf3', 'Smad4', 'sma-4', 'SMAD2'} \n",
      "current/last lost {'ZBTB26', 'Hand1::Tcf3', 'Smad4', 'sma-4', 'SMAD2'} {'WRKY46'} \n",
      " \n",
      "\n",
      "dif gained set() \n",
      "current/last gain {'SP5', 'PATZ1'} {'ARF14', 'SP5', 'PATZ1', 'Znf423'} \n",
      " \n",
      "\n",
      "25\n",
      "25\n",
      "foreground start is less than 35 more than 25\n",
      "4 54 58 13\n",
      "dif lost {'ZNF528'} \n",
      "current/last lost {'Smad4', 'Hand1::Tcf3', 'ZNF528', 'SMAD2'} {'ZBTB26', 'Hand1::Tcf3', 'Smad4', 'sma-4', 'SMAD2'} \n",
      " \n",
      "\n",
      "dif gained {'KLF5', 'btd', 'KLF16', 'KLF7'} \n",
      "current/last gain {'btd', 'KLF5', 'SP5', 'KLF16', 'PATZ1', 'KLF7'} {'SP5', 'PATZ1'} \n",
      " \n",
      "\n",
      "33\n",
      "33\n",
      "foreground start is less than 43 more than 33\n",
      "3 53 56 28\n",
      "dif lost {'ZNF16', 'Stat5a::Stat5b'} \n",
      "current/last lost {'ZNF16', 'Stat5a::Stat5b'} {'Smad4', 'Hand1::Tcf3', 'ZNF528', 'SMAD2'} \n",
      " \n",
      "\n",
      "dif gained {'Tfcp2l1', 'TFAP2B', 'Wt1', 'ZNF768'} \n",
      "current/last gain {'TFAP2B', 'btd', 'SP5', 'Tfcp2l1', 'PATZ1', 'ZNF768', 'Wt1'} {'btd', 'KLF5', 'SP5', 'KLF16', 'PATZ1', 'KLF7'} \n",
      " \n",
      "\n",
      "41\n",
      "41\n",
      "foreground start is less than 51 more than 41\n",
      "2 57 59 40\n",
      "dif lost {'ARF16'} \n",
      "current/last lost {'ZNF16', 'ARF16'} {'ZNF16', 'Stat5a::Stat5b'} \n",
      " \n",
      "\n",
      "dif gained {'CTCF', 'TFAP2A'} \n",
      "current/last gain {'SP5', 'PATZ1', 'Wt1', 'CTCF', 'TFAP2A'} {'TFAP2B', 'btd', 'SP5', 'Tfcp2l1', 'PATZ1', 'ZNF768', 'Wt1'} \n",
      " \n",
      "\n",
      "49\n",
      "49\n",
      "foreground start is less than 59 more than 49\n",
      "3 57 60 12\n",
      "dif lost {'ZKSCAN5', 'SoxB1'} \n",
      "current/last lost {'ZKSCAN5', 'ARF16', 'SoxB1'} {'ZNF16', 'ARF16'} \n",
      " \n",
      "\n",
      "dif gained {'ZBTB7A', 'SoxB1'} \n",
      "current/last gain {'SoxB1', 'ZBTB7A', 'SP5', 'PATZ1'} {'SP5', 'PATZ1', 'Wt1', 'CTCF', 'TFAP2A'} \n",
      " \n",
      "\n",
      "57\n",
      "57\n",
      "foreground start is less than 67 more than 57\n",
      "3 56 59 13\n",
      "dif lost {'ZAT10', 'MAF::NFE2'} \n",
      "current/last lost {'MAF::NFE2', 'ZAT10', 'SoxB1'} {'ZKSCAN5', 'ARF16', 'SoxB1'} \n",
      " \n",
      "\n",
      "dif gained {'ZNF76'} \n",
      "current/last gain {'ZNF76', 'SP5', 'PATZ1'} {'SoxB1', 'ZBTB7A', 'SP5', 'PATZ1'} \n",
      " \n",
      "\n"
     ]
    }
   ],
   "source": [
    "lastf1, lastkin = set(), set()\n",
    "for key in preds.keys():\n",
    "    \n",
    "    print(key)\n",
    "    kout, kin, f1= getbkgd(key, MOTIF)\n",
    "\n",
    "    f1, groupedf1 = roundCoor(f1) # round the forground\n",
    "\n",
    "    kout, groupedkout = roundCoor(kout) # round the background\n",
    "\n",
    "    kin, groupedkin = roundCoor(kin) # round the background\n",
    "\n",
    "    # plot\n",
    "    \"\"\"\n",
    "    plotLineGraph(groupedkout, \"grey\")\n",
    "    plt.title(f\"pos {key}, {MOTIF}\")\n",
    "    plt.show()\n",
    "    \n",
    "    plotLineGraph(groupedkin, \"red\")\n",
    "    plt.show()\n",
    "    plotLineGraph(groupedf1, \"black\")\n",
    "    \n",
    "    plt.title(f\"pos {key}, {MOTIF}\")\n",
    "    plt.show()\n",
    "    \"\"\"\n",
    "    \n",
    "    currentf1, currentkin=set(groupedf1[\"motif_alt_id\"]), set(groupedkin[\"motif_alt_id\"])\n",
    "\n",
    "    print(\"dif lost\", currentkin.difference(lastkin), \"\\ncurrent/last lost\", currentkin, lastkin, \"\\n\",  \"\\n\", ) # compare motifs that have been lost by insertion v last insertion\n",
    "    print(\"dif gained\", currentf1.difference(lastf1), \"\\ncurrent/last gain\",  currentf1, lastf1, \"\\n\",  \"\\n\", ) # compare motifs created by insertion v last insertion\n",
    "    \n",
    "    lastf1, lastkin =  currentf1, currentkin\n",
    "    \n",
    "\n",
    "    if key==57:\n",
    "        break"
   ]
  },
  {
   "cell_type": "markdown",
   "id": "867ae2b1",
   "metadata": {},
   "source": [
    "# figure out how to make sense of gains and losses. "
   ]
  },
  {
   "cell_type": "code",
   "execution_count": null,
   "id": "efe5e27e",
   "metadata": {},
   "outputs": [],
   "source": []
  }
 ],
 "metadata": {
  "kernelspec": {
   "display_name": "Python (mamba)",
   "language": "python",
   "name": "mamba"
  },
  "language_info": {
   "codemirror_mode": {
    "name": "ipython",
    "version": 3
   },
   "file_extension": ".py",
   "mimetype": "text/x-python",
   "name": "python",
   "nbconvert_exporter": "python",
   "pygments_lexer": "ipython3",
   "version": "3.9.16"
  },
  "toc": {
   "base_numbering": 1,
   "nav_menu": {},
   "number_sections": true,
   "sideBar": true,
   "skip_h1_title": false,
   "title_cell": "Table of Contents",
   "title_sidebar": "Contents",
   "toc_cell": false,
   "toc_position": {},
   "toc_section_display": true,
   "toc_window_display": false
  },
  "varInspector": {
   "cols": {
    "lenName": 16,
    "lenType": 16,
    "lenVar": 40
   },
   "kernels_config": {
    "python": {
     "delete_cmd_postfix": "",
     "delete_cmd_prefix": "del ",
     "library": "var_list.py",
     "varRefreshCmd": "print(var_dic_list())"
    },
    "r": {
     "delete_cmd_postfix": ") ",
     "delete_cmd_prefix": "rm(",
     "library": "var_list.r",
     "varRefreshCmd": "cat(var_dic_list()) "
    }
   },
   "types_to_exclude": [
    "module",
    "function",
    "builtin_function_or_method",
    "instance",
    "_Feature"
   ],
   "window_display": false
  }
 },
 "nbformat": 4,
 "nbformat_minor": 5
}
