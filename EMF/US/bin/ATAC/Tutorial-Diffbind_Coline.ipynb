{
 "cells": [
  {
   "cell_type": "markdown",
   "id": "ff8d3a88-0752-4296-8f75-d3f1a1c415ef",
   "metadata": {},
   "source": [
    "# 20240223 \n",
    "\n",
    "Sarah Fong\n",
    "\n",
    "- Goal: Call differential accessibility peak using diffbind\n",
    "\n",
    "- helpful websites\n",
    "    - tutorial:  \n",
    "        - https://hbctraining.github.io/Intro-to-ChIPseq/lessons/08_diffbind_differential_peaks.html\n",
    "    \n",
    "    - bioconductor manual and tutorial is here:\n",
    "        - https://bioconductor.org/packages/release/bioc/vignettes/DiffBind/inst/doc/DiffBind.pdf\n",
    "        - https://bioconductor.org/packages/release/bioc/manuals/DiffBind/man/DiffBind.pdf  # reference manual\n",
    "\n",
    "- for setting up wynton login and tunneling to jupyter notebooks\n",
    "    - https://github.com/slifong08/tools/blob/main/jupyter_tutorials/conda_jupyter_on_wynton.ipynb"
   ]
  },
  {
   "cell_type": "markdown",
   "id": "afc9023f-a054-4627-af46-9c7aa6750326",
   "metadata": {},
   "source": [
    "# download software"
   ]
  },
  {
   "cell_type": "code",
   "execution_count": null,
   "id": "6c340bdb-7ca0-4b77-a8cb-03f96c710f4a",
   "metadata": {},
   "outputs": [],
   "source": [
    "if (!require(\"BiocManager\", quietly = TRUE))\n",
    "    install.packages(\"BiocManager\")\n",
    "\n",
    "# install diffbind from BioConductor. \n",
    "if (!require(\"DiffBind\", quietly = TRUE))\n",
    "    BiocManager::install(\"DiffBind\")\n",
    "\n",
    "if (!require(\"tidyverse\", quietly = TRUE))\n",
    "    install.packages(\"tidyverse\")\n"
   ]
  },
  {
   "cell_type": "markdown",
   "id": "16dc5025-61f9-4b52-817b-5095c38737a0",
   "metadata": {},
   "source": [
    "# load software"
   ]
  },
  {
   "cell_type": "code",
   "execution_count": 1,
   "id": "9b1ea15b-3afb-4269-9854-8434bf8e5141",
   "metadata": {
    "scrolled": true
   },
   "outputs": [
    {
     "name": "stderr",
     "output_type": "stream",
     "text": [
      "Loading required package: GenomicRanges\n",
      "\n",
      "Loading required package: stats4\n",
      "\n",
      "Loading required package: BiocGenerics\n",
      "\n",
      "\n",
      "Attaching package: ‘BiocGenerics’\n",
      "\n",
      "\n",
      "The following objects are masked from ‘package:stats’:\n",
      "\n",
      "    IQR, mad, sd, var, xtabs\n",
      "\n",
      "\n",
      "The following objects are masked from ‘package:base’:\n",
      "\n",
      "    anyDuplicated, aperm, append, as.data.frame, basename, cbind,\n",
      "    colnames, dirname, do.call, duplicated, eval, evalq, Filter, Find,\n",
      "    get, grep, grepl, intersect, is.unsorted, lapply, Map, mapply,\n",
      "    match, mget, order, paste, pmax, pmax.int, pmin, pmin.int,\n",
      "    Position, rank, rbind, Reduce, rownames, sapply, setdiff, sort,\n",
      "    table, tapply, union, unique, unsplit, which.max, which.min\n",
      "\n",
      "\n",
      "Loading required package: S4Vectors\n",
      "\n",
      "\n",
      "Attaching package: ‘S4Vectors’\n",
      "\n",
      "\n",
      "The following object is masked from ‘package:utils’:\n",
      "\n",
      "    findMatches\n",
      "\n",
      "\n",
      "The following objects are masked from ‘package:base’:\n",
      "\n",
      "    expand.grid, I, unname\n",
      "\n",
      "\n",
      "Loading required package: IRanges\n",
      "\n",
      "Loading required package: GenomeInfoDb\n",
      "\n",
      "Loading required package: SummarizedExperiment\n",
      "\n",
      "Loading required package: MatrixGenerics\n",
      "\n",
      "Loading required package: matrixStats\n",
      "\n",
      "\n",
      "Attaching package: ‘MatrixGenerics’\n",
      "\n",
      "\n",
      "The following objects are masked from ‘package:matrixStats’:\n",
      "\n",
      "    colAlls, colAnyNAs, colAnys, colAvgsPerRowSet, colCollapse,\n",
      "    colCounts, colCummaxs, colCummins, colCumprods, colCumsums,\n",
      "    colDiffs, colIQRDiffs, colIQRs, colLogSumExps, colMadDiffs,\n",
      "    colMads, colMaxs, colMeans2, colMedians, colMins, colOrderStats,\n",
      "    colProds, colQuantiles, colRanges, colRanks, colSdDiffs, colSds,\n",
      "    colSums2, colTabulates, colVarDiffs, colVars, colWeightedMads,\n",
      "    colWeightedMeans, colWeightedMedians, colWeightedSds,\n",
      "    colWeightedVars, rowAlls, rowAnyNAs, rowAnys, rowAvgsPerColSet,\n",
      "    rowCollapse, rowCounts, rowCummaxs, rowCummins, rowCumprods,\n",
      "    rowCumsums, rowDiffs, rowIQRDiffs, rowIQRs, rowLogSumExps,\n",
      "    rowMadDiffs, rowMads, rowMaxs, rowMeans2, rowMedians, rowMins,\n",
      "    rowOrderStats, rowProds, rowQuantiles, rowRanges, rowRanks,\n",
      "    rowSdDiffs, rowSds, rowSums2, rowTabulates, rowVarDiffs, rowVars,\n",
      "    rowWeightedMads, rowWeightedMeans, rowWeightedMedians,\n",
      "    rowWeightedSds, rowWeightedVars\n",
      "\n",
      "\n",
      "Loading required package: Biobase\n",
      "\n",
      "Welcome to Bioconductor\n",
      "\n",
      "    Vignettes contain introductory material; view with\n",
      "    'browseVignettes()'. To cite Bioconductor, see\n",
      "    'citation(\"Biobase\")', and for packages 'citation(\"pkgname\")'.\n",
      "\n",
      "\n",
      "\n",
      "Attaching package: ‘Biobase’\n",
      "\n",
      "\n",
      "The following object is masked from ‘package:MatrixGenerics’:\n",
      "\n",
      "    rowMedians\n",
      "\n",
      "\n",
      "The following objects are masked from ‘package:matrixStats’:\n",
      "\n",
      "    anyMissing, rowMedians\n",
      "\n",
      "\n",
      " >>> DiffBind 3.12.0\n",
      "\n",
      "── \u001b[1mAttaching core tidyverse packages\u001b[22m ─────────────────────────────────────── tidyverse 2.0.0 ──\n",
      "\u001b[32m✔\u001b[39m \u001b[34mdplyr    \u001b[39m 1.1.4     \u001b[32m✔\u001b[39m \u001b[34mreadr    \u001b[39m 2.1.5\n",
      "\u001b[32m✔\u001b[39m \u001b[34mforcats  \u001b[39m 1.0.0     \u001b[32m✔\u001b[39m \u001b[34mstringr  \u001b[39m 1.5.1\n",
      "\u001b[32m✔\u001b[39m \u001b[34mggplot2  \u001b[39m 3.4.4     \u001b[32m✔\u001b[39m \u001b[34mtibble   \u001b[39m 3.2.1\n",
      "\u001b[32m✔\u001b[39m \u001b[34mlubridate\u001b[39m 1.9.3     \u001b[32m✔\u001b[39m \u001b[34mtidyr    \u001b[39m 1.3.0\n",
      "\u001b[32m✔\u001b[39m \u001b[34mpurrr    \u001b[39m 1.0.2     \n",
      "── \u001b[1mConflicts\u001b[22m ───────────────────────────────────────────────────────── tidyverse_conflicts() ──\n",
      "\u001b[31m✖\u001b[39m \u001b[34mlubridate\u001b[39m::\u001b[32m%within%()\u001b[39m masks \u001b[34mIRanges\u001b[39m::%within%()\n",
      "\u001b[31m✖\u001b[39m \u001b[34mdplyr\u001b[39m::\u001b[32mcollapse()\u001b[39m     masks \u001b[34mIRanges\u001b[39m::collapse()\n",
      "\u001b[31m✖\u001b[39m \u001b[34mdplyr\u001b[39m::\u001b[32mcombine()\u001b[39m      masks \u001b[34mBiobase\u001b[39m::combine(), \u001b[34mBiocGenerics\u001b[39m::combine()\n",
      "\u001b[31m✖\u001b[39m \u001b[34mdplyr\u001b[39m::\u001b[32mcount()\u001b[39m        masks \u001b[34mmatrixStats\u001b[39m::count()\n",
      "\u001b[31m✖\u001b[39m \u001b[34mdplyr\u001b[39m::\u001b[32mdesc()\u001b[39m         masks \u001b[34mIRanges\u001b[39m::desc()\n",
      "\u001b[31m✖\u001b[39m \u001b[34mtidyr\u001b[39m::\u001b[32mexpand()\u001b[39m       masks \u001b[34mS4Vectors\u001b[39m::expand()\n",
      "\u001b[31m✖\u001b[39m \u001b[34mdplyr\u001b[39m::\u001b[32mfilter()\u001b[39m       masks \u001b[34mstats\u001b[39m::filter()\n",
      "\u001b[31m✖\u001b[39m \u001b[34mdplyr\u001b[39m::\u001b[32mfirst()\u001b[39m        masks \u001b[34mS4Vectors\u001b[39m::first()\n",
      "\u001b[31m✖\u001b[39m \u001b[34mdplyr\u001b[39m::\u001b[32mlag()\u001b[39m          masks \u001b[34mstats\u001b[39m::lag()\n",
      "\u001b[31m✖\u001b[39m \u001b[34mggplot2\u001b[39m::\u001b[32mPosition()\u001b[39m   masks \u001b[34mBiocGenerics\u001b[39m::Position(), \u001b[34mbase\u001b[39m::Position()\n",
      "\u001b[31m✖\u001b[39m \u001b[34mpurrr\u001b[39m::\u001b[32mreduce()\u001b[39m       masks \u001b[34mGenomicRanges\u001b[39m::reduce(), \u001b[34mIRanges\u001b[39m::reduce()\n",
      "\u001b[31m✖\u001b[39m \u001b[34mdplyr\u001b[39m::\u001b[32mrename()\u001b[39m       masks \u001b[34mS4Vectors\u001b[39m::rename()\n",
      "\u001b[31m✖\u001b[39m \u001b[34mlubridate\u001b[39m::\u001b[32msecond()\u001b[39m   masks \u001b[34mS4Vectors\u001b[39m::second()\n",
      "\u001b[31m✖\u001b[39m \u001b[34mlubridate\u001b[39m::\u001b[32msecond<-()\u001b[39m masks \u001b[34mS4Vectors\u001b[39m::second<-()\n",
      "\u001b[31m✖\u001b[39m \u001b[34mdplyr\u001b[39m::\u001b[32mslice()\u001b[39m        masks \u001b[34mIRanges\u001b[39m::slice()\n",
      "\u001b[36mℹ\u001b[39m Use the conflicted package (\u001b[3m\u001b[34m<http://conflicted.r-lib.org/>\u001b[39m\u001b[23m) to force all conflicts to become errors\n"
     ]
    }
   ],
   "source": [
    "# load diffbind\n",
    "library(DiffBind)\n",
    "\n",
    "library(tidyverse)"
   ]
  },
  {
   "cell_type": "markdown",
   "id": "8f469ec2-b97c-416e-abc9-022751a32b6d",
   "metadata": {},
   "source": [
    "# load the data\n"
   ]
  },
  {
   "cell_type": "code",
   "execution_count": null,
   "id": "123077dc-92ea-4b4d-945f-265c447fe55d",
   "metadata": {},
   "outputs": [],
   "source": [
    "# Set your working directory\n",
    "setwd(\"/wynton/group/ahituv/data/US-MPRA/ChIP-seq_H3k27ac\")  # change \n",
    "\n",
    "sample_csv = \"samples_hepg2_chip.csv\"  # change\n",
    "samples <- read.csv(sample_csv)\n",
    "\n",
    "\n",
    "samples"
   ]
  },
  {
   "cell_type": "markdown",
   "id": "11b87619-9d32-493a-b6dc-86b1bace874c",
   "metadata": {},
   "source": [
    "# make diffbind object from samples sheet"
   ]
  },
  {
   "cell_type": "code",
   "execution_count": 7,
   "id": "8f324c89-f4f3-4eb1-98fb-3692cb7b47f2",
   "metadata": {},
   "outputs": [
    {
     "name": "stderr",
     "output_type": "stream",
     "text": [
      "HEPG2-C1 HEPG2 control   1 narrow\n",
      "\n",
      "HEPG2-C2 HEPG2 control   2 narrow\n",
      "\n",
      "HEPG2-C3 HEPG2 control   3 narrow\n",
      "\n",
      "HEPG2-T1 HEPG2 treatment   1 narrow\n",
      "\n",
      "HEPG2-T2 HEPG2 treatment   2 narrow\n",
      "\n",
      "HEPG2-T3 HEPG2 treatment   3 narrow\n",
      "\n"
     ]
    }
   ],
   "source": [
    "obj = dba(config=NULL, sampleSheet=sample_csv)  # if you want to change threshold, set th=0.xx here. "
   ]
  },
  {
   "cell_type": "code",
   "execution_count": 8,
   "id": "ce45c803-c848-4149-af03-203376d98a8a",
   "metadata": {},
   "outputs": [
    {
     "data": {
      "text/plain": [
       "6 Samples, 31723 sites in matrix (41338 total):\n",
       "        ID Tissue    Factor Replicate Intervals\n",
       "1 HEPG2-C1  HEPG2   control         1     30715\n",
       "2 HEPG2-C2  HEPG2   control         2     35948\n",
       "3 HEPG2-C3  HEPG2   control         3     33817\n",
       "4 HEPG2-T1  HEPG2 treatment         1     35956\n",
       "5 HEPG2-T2  HEPG2 treatment         2     34341\n",
       "6 HEPG2-T3  HEPG2 treatment         3     31338"
      ]
     },
     "metadata": {},
     "output_type": "display_data"
    }
   ],
   "source": [
    "obj"
   ]
  },
  {
   "cell_type": "code",
   "execution_count": 9,
   "id": "deccc59c-1ba2-4068-84ba-cda070b97d95",
   "metadata": {},
   "outputs": [
    {
     "data": {
      "image/png": "[encoded data removed]",
      "text/plain": [
       "Plot with title “Color Key\n",
       "and Histogram”"
      ]
     },
     "metadata": {
      "image/png": {
       "height": 420,
       "width": 420
      }
     },
     "output_type": "display_data"
    }
   ],
   "source": [
    "plot(obj)  # visualize correlation between samples, replicates, treatments"
   ]
  },
  {
   "cell_type": "markdown",
   "id": "cd0f7089-d689-4d52-bee5-d15a6ef41c9b",
   "metadata": {},
   "source": [
    "# run count function"
   ]
  },
  {
   "cell_type": "code",
   "execution_count": 12,
   "id": "33764808-799c-4d3c-afd5-0864c3d2ff5a",
   "metadata": {},
   "outputs": [
    {
     "name": "stderr",
     "output_type": "stream",
     "text": [
      "Computing summits...\n",
      "\n",
      "Re-centering peaks...\n",
      "\n"
     ]
    }
   ],
   "source": [
    "obj<- dba.count(obj,  \n",
    "                #bUseSummarizeOverlaps=TRUE\n",
    "               )  # returns normalized count matrix  \n",
    "                    # set summit here. "
   ]
  },
  {
   "cell_type": "code",
   "execution_count": 11,
   "id": "b98c7a3d-50f6-42d4-9908-0618c882b22e",
   "metadata": {},
   "outputs": [
    {
     "data": {
      "text/plain": [
       "6 Samples, 31723 sites in matrix (41338 total):\n",
       "        ID Tissue    Factor Replicate Intervals\n",
       "1 HEPG2-C1  HEPG2   control         1     30715\n",
       "2 HEPG2-C2  HEPG2   control         2     35948\n",
       "3 HEPG2-C3  HEPG2   control         3     33817\n",
       "4 HEPG2-T1  HEPG2 treatment         1     35956\n",
       "5 HEPG2-T2  HEPG2 treatment         2     34341\n",
       "6 HEPG2-T3  HEPG2 treatment         3     31338"
      ]
     },
     "metadata": {},
     "output_type": "display_data"
    }
   ],
   "source": [
    "obj"
   ]
  },
  {
   "cell_type": "markdown",
   "id": "5cf1076f-94f2-4aa2-ab9d-6ad1baf1b28a",
   "metadata": {},
   "source": [
    "# set contrast as control elements\n",
    "- categories can be one of DBA_TISSUE,DBA_FACTOR,DBA_CONDITION,DBA_TREATMENT"
   ]
  },
  {
   "cell_type": "code",
   "execution_count": 13,
   "id": "851c1af6-c360-4c6c-b3cd-9ff8bbb07da2",
   "metadata": {},
   "outputs": [
    {
     "name": "stderr",
     "output_type": "stream",
     "text": [
      "Computing results names...\n",
      "\n"
     ]
    }
   ],
   "source": [
    "obj <- dba.contrast(obj, categories=DBA_FACTOR, minMembers = 2)"
   ]
  },
  {
   "cell_type": "code",
   "execution_count": 14,
   "id": "7fbe2e24-7acf-421b-b96c-88bbe03b8874",
   "metadata": {},
   "outputs": [
    {
     "data": {
      "text/plain": [
       "6 Samples, 30886 sites in matrix:\n",
       "        ID Tissue    Factor Replicate    Reads FRiP\n",
       "1 HEPG2-C1  HEPG2   control         1 17011702 0.09\n",
       "2 HEPG2-C2  HEPG2   control         2 19169809 0.14\n",
       "3 HEPG2-C3  HEPG2   control         3 21862188 0.13\n",
       "4 HEPG2-T1  HEPG2 treatment         1 13502763 0.14\n",
       "5 HEPG2-T2  HEPG2 treatment         2 22634031 0.12\n",
       "6 HEPG2-T3  HEPG2 treatment         3 14477715 0.11\n",
       "\n",
       "Design: [~Factor] | 1 Contrast:\n",
       "  Factor     Group Samples  Group2 Samples2\n",
       "1 Factor treatment       3 control        3"
      ]
     },
     "metadata": {},
     "output_type": "display_data"
    }
   ],
   "source": [
    "obj"
   ]
  },
  {
   "cell_type": "markdown",
   "id": "5238f1ba-15da-4393-be0e-577fd1167d01",
   "metadata": {},
   "source": [
    "# analyze differentially accessible elements"
   ]
  },
  {
   "cell_type": "code",
   "execution_count": 17,
   "id": "d1162b5e-499f-4420-83b5-fd0597eb4c95",
   "metadata": {},
   "outputs": [
    {
     "name": "stderr",
     "output_type": "stream",
     "text": [
      "Analyzing...\n",
      "\n",
      "gene-wise dispersion estimates\n",
      "\n",
      "mean-dispersion relationship\n",
      "\n",
      "final dispersion estimates\n",
      "\n"
     ]
    }
   ],
   "source": [
    "obj <- dba.analyze(obj, method=DBA_DESEQ2)"
   ]
  },
  {
   "cell_type": "markdown",
   "id": "cb297468-07ab-44fa-aadf-3a15acd13ff0",
   "metadata": {},
   "source": [
    "## review report of the diff.accessible run"
   ]
  },
  {
   "cell_type": "code",
   "execution_count": 27,
   "id": "b46db886-8690-405c-a2f8-ca7c6a0895ae",
   "metadata": {},
   "outputs": [],
   "source": [
    "res_deseq <- dba.report(obj, method=DBA_DESEQ2, contrast = 1, th=1)"
   ]
  },
  {
   "cell_type": "code",
   "execution_count": 28,
   "id": "463b6891-ee1e-41b3-b83f-6d9816be8a71",
   "metadata": {},
   "outputs": [
    {
     "data": {
      "text/plain": [
       "GRanges object with 30860 ranges and 6 metadata columns:\n",
       "        seqnames              ranges strand |      Conc Conc_treatment\n",
       "           <Rle>           <IRanges>  <Rle> | <numeric>      <numeric>\n",
       "  28810     chr9   21084491-21084891      * |   5.47915        4.90217\n",
       "  27130     chr7 116953307-116953707      * |   6.01820        5.61062\n",
       "  28519     chr8 133559421-133559821      * |   5.68338        5.24155\n",
       "  10324    chr16     4271882-4272282      * |   5.30383        5.67410\n",
       "  30738     chrX 136130676-136131076      * |   4.25108        4.71488\n",
       "    ...      ...                 ...    ... .       ...            ...\n",
       "  27242     chr7 134992138-134992538      * |   7.80388        7.80521\n",
       "  18374    chr20   49219234-49219634      * |   5.95181        5.94871\n",
       "  27964     chr8   55988656-55989056      * |   4.18815        4.18050\n",
       "  27196     chr7 130486357-130486757      * |   4.30821        4.33032\n",
       "   7974    chr13   98199992-98200392      * |   5.44465        5.44210\n",
       "        Conc_control         Fold    p-value       FDR\n",
       "           <numeric>    <numeric>  <numeric> <numeric>\n",
       "  28810      5.89017  -0.00238212 0.00159102  0.999991\n",
       "  27130      6.33564  -0.00256982 0.00422097  0.999991\n",
       "  28519      6.02115  -0.00217766 0.00608990  0.999991\n",
       "  10324      4.80444   0.00197963 0.00712930  0.999991\n",
       "  30738      3.56335   0.00141969 0.00823455  0.999991\n",
       "    ...          ...          ...        ...       ...\n",
       "  27242      7.80255  3.45187e-08   0.999971  0.999991\n",
       "  18374      5.95490  3.18927e-08   0.999973  0.999991\n",
       "  27964      4.19575  1.66593e-08   0.999975  0.999991\n",
       "  27196      4.28576 -1.14170e-08   0.999983  0.999991\n",
       "   7974      5.44720  9.38074e-09   0.999991  0.999991\n",
       "  -------\n",
       "  seqinfo: 35 sequences from an unspecified genome; no seqlengths"
      ]
     },
     "metadata": {},
     "output_type": "display_data"
    }
   ],
   "source": [
    "res_deseq"
   ]
  },
  {
   "cell_type": "markdown",
   "id": "b9ee7ec4-5dc7-4bcb-a15c-f622931cd7b1",
   "metadata": {},
   "source": [
    "## write report"
   ]
  },
  {
   "cell_type": "code",
   "execution_count": 29,
   "id": "3369eafb-97e1-4ffe-888e-842aedaf3367",
   "metadata": {},
   "outputs": [],
   "source": [
    "out <- as.data.frame(res_deseq)\n",
    "write.table(out, file=\"Diffbind_report_deseq2.txt\", sep=\"\\t\", quote=F, row.names=F)\n",
    "\n"
   ]
  },
  {
   "cell_type": "markdown",
   "id": "fccd1ac9-df4e-4b45-9cd8-5ac723bd6268",
   "metadata": {},
   "source": [
    "# write bed files# Create bed files for each keeping only significant peaks (p < 0.05)"
   ]
  },
  {
   "cell_type": "code",
   "execution_count": null,
   "id": "57e8e469-33c9-4cf6-acb2-5938bef3d2a6",
   "metadata": {},
   "outputs": [],
   "source": [
    "bed <- out %>% \n",
    "  filter(FDR < 0.05 & Fold > 0) %>%  ## change? \n",
    "  select(seqnames, start, end)\n",
    "  "
   ]
  },
  {
   "cell_type": "code",
   "execution_count": null,
   "id": "6423d085-a4d7-44ed-9281-652039a3baed",
   "metadata": {},
   "outputs": [],
   "source": [
    "# Write to file\n",
    "write.table(bed, file=\"DiffAcc_enriched.bed\", sep=\"\\t\", quote=F, row.names=F, col.names=F)"
   ]
  },
  {
   "cell_type": "code",
   "execution_count": null,
   "id": "e146d8bd-37d9-4c01-a2eb-8e89d50a5847",
   "metadata": {},
   "outputs": [],
   "source": []
  }
 ],
 "metadata": {
  "kernelspec": {
   "display_name": "R",
   "language": "R",
   "name": "ir"
  },
  "language_info": {
   "codemirror_mode": "r",
   "file_extension": ".r",
   "mimetype": "text/x-r-source",
   "name": "R",
   "pygments_lexer": "r",
   "version": "4.3.1"
  }
 },
 "nbformat": 4,
 "nbformat_minor": 5
}
