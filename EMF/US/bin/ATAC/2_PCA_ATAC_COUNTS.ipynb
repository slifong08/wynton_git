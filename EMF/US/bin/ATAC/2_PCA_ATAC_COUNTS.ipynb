{
 "cells": [
  {
   "cell_type": "markdown",
   "id": "a38fcfaa-77c1-4bfb-abe0-05dbc4e4e87d",
   "metadata": {},
   "source": [
    "20240227\n",
    "\n",
    "SarahFong\n",
    "\n",
    "Take output from DiffBind summarized peak and count matrix and prepare data for \n",
    "1. Clean diffbind normalized count data (remove bad coordinates)\n",
    "2. perform PCA on ATAC read count data. "
   ]
  },
  {
   "cell_type": "code",
   "execution_count": 1,
   "id": "24791ba6-ba9e-47c8-99ff-824a21c53b9b",
   "metadata": {
    "ExecuteTime": {
     "end_time": "2024-03-09T19:45:42.480584Z",
     "start_time": "2024-03-09T19:45:22.939463Z"
    }
   },
   "outputs": [
    {
     "data": {
      "text/plain": [
       "('sans-serif', 'Arial', 18)"
      ]
     },
     "execution_count": 1,
     "metadata": {},
     "output_type": "execute_result"
    }
   ],
   "source": [
    "from Bio.SeqIO.FastaIO import SimpleFastaParser\n",
    "import matplotlib.pyplot as plt\n",
    "from matplotlib_venn import venn2\n",
    "import numpy as np\n",
    "import os, sys\n",
    "import pandas as pd\n",
    "import pybedtools as pbt\n",
    "\n",
    "from scipy import stats\n",
    "from scipy.stats import zscore, boxcox\n",
    "\n",
    "import seaborn as sns\n",
    "\n",
    "import warnings\n",
    "warnings.filterwarnings('ignore')\n",
    "\n",
    "import plot_params as pp\n",
    "pp.fonts()"
   ]
  },
  {
   "cell_type": "markdown",
   "id": "de4c9f36-8609-4502-8a4c-3279a57f5c77",
   "metadata": {},
   "source": [
    "# load data"
   ]
  },
  {
   "cell_type": "code",
   "execution_count": 2,
   "id": "15b0b616-7254-4b4e-be68-8d745f4a629f",
   "metadata": {
    "ExecuteTime": {
     "end_time": "2024-02-27T21:47:50.881715Z",
     "start_time": "2024-02-27T21:47:50.877185Z"
    }
   },
   "outputs": [],
   "source": [
    "PATH = \"/wynton/group/ahituv/data/US-MPRA/ATAC-seq\"\n",
    "os.chdir(PATH)\n",
    "\n",
    "# params\n",
    "CL = 'hepg2'\n",
    "ALL = f\"{CL}_counts.txt\"\n",
    "CONTROL = f\"{CL}c_counts.txt\"\n",
    "TREATED = f\"{CL}t_counts.txt\"\n",
    "\n",
    "# DESEQ2 information\n",
    "DIFF = './diffbind_results/hepg2_deseq2.csv'\n",
    "DIFF_BED = \"./\" + DIFF.strip(\".csv\") + \".bed\"\n",
    "\n",
    "# peak information\n",
    "PEAK_SIZE = 270\n",
    "\n",
    "# genome information\n",
    "HG38= \"/wynton/group/ahituv/data/dna/hg38/hg38.chrom.sizes\"\n",
    "FA_HG38=\"/wynton/group/ahituv/data/dna/hg38/hg38.fa\"\n",
    "\n",
    "# legnet OUTPUT files\n",
    "FULL = f\"{CL}.centered.coor.mean.reads.full.tsv\"\n",
    "HELD_OUT = f\"{CL}.heldoutchromosomes.tsv\"\n",
    "HELD_OUT_FA = f\"{CL}.heldoutchromosomes.fa\"\n",
    "TRAINING = f\"{CL}.training.tsv\""
   ]
  },
  {
   "cell_type": "markdown",
   "id": "1c13717b-4462-468b-aded-c85fa8632585",
   "metadata": {},
   "source": [
    "# functions"
   ]
  },
  {
   "cell_type": "markdown",
   "id": "6b1a306a-6a6f-4c5f-8c0c-ed8d27dc1153",
   "metadata": {},
   "source": [
    "## clean bed"
   ]
  },
  {
   "cell_type": "code",
   "execution_count": 3,
   "id": "f1e5e3b1-98ce-4ba9-b573-4213e3da74d0",
   "metadata": {
    "ExecuteTime": {
     "end_time": "2024-02-27T21:47:51.689761Z",
     "start_time": "2024-02-27T21:47:50.883401Z"
    }
   },
   "outputs": [],
   "source": [
    "def cleanBed(file):\n",
    "\n",
    "    # name of the outfile\n",
    "    outfile = \".\".join(file.split('.')[:-1]) + \".cleaned.bed\"\n",
    "\n",
    "    # python command for cleaning bed file\n",
    "    cmd = ' '.join([\n",
    "        \"python\", \n",
    "        \"/wynton/home/ahituv/fongsl/tools/genome/bed_clean.py\",  # custom script that removes bad coordinates (start>end, start<0)\n",
    "        file\n",
    "    ])\n",
    "\n",
    "    if os.path.exists(outfile) is False:  # if not already cleaned\n",
    "        os.system(cmd)  # execute command\n",
    "    else:\n",
    "        print(\"already made?\", outfile)\n",
    "\n",
    "    return outfile"
   ]
  },
  {
   "cell_type": "markdown",
   "id": "61b32da8-c08f-4840-ac7a-df3175679ae8",
   "metadata": {},
   "source": [
    "## compute replicate mean, peak centers"
   ]
  },
  {
   "cell_type": "code",
   "execution_count": 4,
   "id": "9bd307a4-c7c5-4209-8fab-1fc9c92ac061",
   "metadata": {
    "ExecuteTime": {
     "end_time": "2024-02-27T21:47:52.588338Z",
     "start_time": "2024-02-27T21:47:51.692461Z"
    }
   },
   "outputs": [],
   "source": [
    "def openDfComputeMean(file, cl, treatment):\n",
    "    \"\"\" compute mean of normalized read counts per cell line, treatment\n",
    "        inputs\n",
    "            file (str) - path to file to read\n",
    "            cl (str) - name of cell line\n",
    "            treatment(bool) - treated or not treated readcount values\n",
    "\n",
    "        method\n",
    "            1. open dataframe, name columns\n",
    "            2. determine number of replicates included in the dataframe\n",
    "            3. compute the mean normalized read count of the replicates, \n",
    "                print correlation\n",
    "            4. annotate with cl and treatment metadata, length, midpoints\n",
    "            5. drop zero values\n",
    "            6. write file\n",
    "\n",
    "        return \n",
    "            pd dataframe\n",
    "\n",
    "    \"\"\"\n",
    "    outfile = file.strip(\".bed\") + \".sum.bed\"\n",
    "\n",
    "# if os.path.exists(outfile) is False:\n",
    "\n",
    "    # 1 load and name columns\n",
    "    col_names = [\"#chr\", \"start\", \"end\", \"rep1\", \"rep2\", \"rep3\"]\n",
    "    df = pd.read_csv(file_clean, sep='\\t',\n",
    "                     header=None,\n",
    "                     )\n",
    "\n",
    "    # rename columns\n",
    "    df.columns = col_names[:len(list(df))]\n",
    "\n",
    "    # drop zeros\n",
    "    before = df.shape[0]\n",
    "    df = df[df != 0].dropna()\n",
    "    print(\"before zero drop\", before, \"after dropping zeros\", df.shape)\n",
    "\n",
    "    # 2 determine n reps\n",
    "    if \"rep3\" in list(df):\n",
    "        NREPS = 3\n",
    "    else:\n",
    "        NREPS = 2\n",
    "\n",
    "    # get replicate column names as list\n",
    "    rep_cols = list(df)[-NREPS:]\n",
    "\n",
    "    # 3 take mean of normalized readcounts for all N reps\n",
    "    print(\"rep normalized ATAC readcount correlation\", cl,\n",
    "          'treated', treatment, \"\\n\\n\", df[rep_cols].corr())\n",
    "    df[rep_cols] = df[rep_cols].astype(float)\n",
    "    \n",
    "    # mean and std\n",
    "    df[\"norm.readcount.mean\"] = df[rep_cols].mean(axis=1)\n",
    "    df[\"norm.readcount.std\"] = df[rep_cols].std(axis=1)\n",
    "\n",
    "    # 4 annotate metadata\n",
    "    df[\"cl\"] = cl\n",
    "    df[\"treatment\"] = treatment\n",
    "\n",
    "    df['len'] = df[\"end\"] - df[\"start\"]  # length of element\n",
    "    df[\"start_midpoint\"] = df[\"start\"] + df[\"len\"]/2  # element midpoint\n",
    "    # element end midpoint (remember, zero-start, half open)\n",
    "    df[\"end_midpoint\"] = df[\"start_midpoint\"] + 1\n",
    "    df[[\"start_midpoint\", \"end_midpoint\"]] = df[[\n",
    "        \"start_midpoint\", \"end_midpoint\"]].astype(int)\n",
    "\n",
    "    # 5 write\n",
    "    df.to_csv(outfile, sep='\\t', index=False)\n",
    "    # else:\n",
    "    #   df=pd.read_csv(outfile, sep='\\t')\n",
    "\n",
    "    return df, outfile"
   ]
  },
  {
   "cell_type": "markdown",
   "id": "44dc60b8-00a8-4904-b9a9-30757fca4446",
   "metadata": {},
   "source": [
    "## count pbt obj lines"
   ]
  },
  {
   "cell_type": "code",
   "execution_count": 5,
   "id": "cd9e3e4d-05c1-495e-86b9-2a20c7a32d31",
   "metadata": {
    "ExecuteTime": {
     "end_time": "2024-02-27T21:47:54.467722Z",
     "start_time": "2024-02-27T21:47:52.590131Z"
    }
   },
   "outputs": [],
   "source": [
    "def pbtCounter(pbt_obj):\n",
    "    \"\"\"count lines in pybedtool object, return count\"\"\"\n",
    "    \n",
    "    v = 0\n",
    "    for i in pbt_obj:\n",
    "        v+=1\n",
    "    print(v)\n",
    "    \n",
    "    return v"
   ]
  },
  {
   "cell_type": "markdown",
   "id": "cf8531bd-419d-4963-bfbe-fbc04d15a81a",
   "metadata": {},
   "source": [
    "## label elements w/ names"
   ]
  },
  {
   "cell_type": "code",
   "execution_count": 6,
   "id": "70c5993e-b492-48ac-b27e-423df1af4283",
   "metadata": {
    "ExecuteTime": {
     "end_time": "2024-02-27T21:47:55.088607Z",
     "start_time": "2024-02-27T21:47:54.469557Z"
    }
   },
   "outputs": [],
   "source": [
    "def labelDf(df, label_name, label_value):\n",
    "    \"\"\"add an indexed label to dataframe\"\"\"\n",
    "    df[\"label\"]= label_value\n",
    "    df[label_name]=label_value + \".\" + df.index.map(str)\n",
    "    \n",
    "    return df"
   ]
  },
  {
   "cell_type": "markdown",
   "id": "1fe8539a-2cd0-41d2-995f-71f99bb73ffb",
   "metadata": {},
   "source": [
    "## make fa into pd.df"
   ]
  },
  {
   "cell_type": "code",
   "execution_count": 7,
   "id": "af260271-5a56-4e0a-84fb-fe3b4de03521",
   "metadata": {
    "ExecuteTime": {
     "end_time": "2024-02-27T21:47:55.215709Z",
     "start_time": "2024-02-27T21:47:55.090459Z"
    }
   },
   "outputs": [],
   "source": [
    "def fastaDf(file):\n",
    "    \"\"\" turn fasta file into pd dataframe\"\"\"\n",
    "\n",
    "    fasta_df = {}\n",
    "    print(file)\n",
    "    \n",
    "    # parse open fasta file\n",
    "    with open(file, \"r\") as reader:\n",
    "        for value in SimpleFastaParser(reader):\n",
    "            seqid, seq = value\n",
    "            fasta_df[seqid] = seq\n",
    "            \n",
    "    # make dataframe\n",
    "    df = pd.DataFrame(fasta_df.items())\n",
    "\n",
    "    # name columns\n",
    "    df.columns = [\"seq.id\", \"seq\"]\n",
    "    return df"
   ]
  },
  {
   "cell_type": "markdown",
   "id": "0ba6c7d3-4107-4315-8748-e13b1108310b",
   "metadata": {},
   "source": [
    "## make chromosome list"
   ]
  },
  {
   "cell_type": "code",
   "execution_count": 8,
   "id": "947fbb71-5880-4453-8414-51db88678771",
   "metadata": {
    "ExecuteTime": {
     "end_time": "2024-02-27T21:47:55.301341Z",
     "start_time": "2024-02-27T21:47:55.217412Z"
    }
   },
   "outputs": [],
   "source": [
    "def chrList():\n",
    "    \"\"\"return  list of chromosomes\"\"\"\n",
    "    \n",
    "    chrs = []\n",
    "    \n",
    "    for n in np.arange(1,23):\n",
    "        chrs.append(f\"chr{n}\")\n",
    "    \n",
    "    # add sex chromosomes\n",
    "    chrs.append(\"chrX\")\n",
    "    chrs.append(\"chrY\")\n",
    "    \n",
    "    return chrs"
   ]
  },
  {
   "cell_type": "markdown",
   "id": "b6144f3a-643a-42f5-bacc-40d77de7f899",
   "metadata": {},
   "source": [
    "# Main"
   ]
  },
  {
   "cell_type": "markdown",
   "id": "9e6e23d8-f383-4567-a7bb-ad49825c524b",
   "metadata": {},
   "source": [
    "## clean bed files"
   ]
  },
  {
   "cell_type": "code",
   "execution_count": 9,
   "id": "98c744cd-5271-487e-af2a-7c37452cc5c1",
   "metadata": {
    "ExecuteTime": {
     "end_time": "2024-02-27T21:47:55.427340Z",
     "start_time": "2024-02-27T21:47:55.302981Z"
    }
   },
   "outputs": [
    {
     "name": "stdout",
     "output_type": "stream",
     "text": [
      "already made? hepg2c_counts.cleaned.bed\n",
      "already made? hepg2t_counts.cleaned.bed\n"
     ]
    }
   ],
   "source": [
    "# clean both files\n",
    "cleaned = []\n",
    "for file in [CONTROL, TREATED]:\n",
    "    cleaned.append(cleanBed(file))\n",
    "\n",
    "# make variables from cleaned list\n",
    "CLEAN_CONTROL, CLEAN_TREATED = cleaned"
   ]
  },
  {
   "cell_type": "code",
   "execution_count": 10,
   "id": "ed1ea1f3",
   "metadata": {
    "ExecuteTime": {
     "end_time": "2024-02-27T21:47:57.561632Z",
     "start_time": "2024-02-27T21:47:55.430861Z"
    }
   },
   "outputs": [
    {
     "name": "stdout",
     "output_type": "stream",
     "text": [
      "before zero drop 67447 after dropping zeros (67131, 5)\n",
      "rep normalized ATAC readcount correlation hepg2 treated False \n",
      "\n",
      "           rep1      rep2\n",
      "rep1  1.000000  0.968764\n",
      "rep2  0.968764  1.000000\n",
      "before zero drop 57397 after dropping zeros (57101, 5)\n",
      "rep normalized ATAC readcount correlation hepg2 treated True \n",
      "\n",
      "           rep1      rep2\n",
      "rep1  1.000000  0.977277\n",
      "rep2  0.977277  1.000000\n"
     ]
    },
    {
     "data": {
      "text/html": [
       "<div>\n",
       "<style scoped>\n",
       "    .dataframe tbody tr th:only-of-type {\n",
       "        vertical-align: middle;\n",
       "    }\n",
       "\n",
       "    .dataframe tbody tr th {\n",
       "        vertical-align: top;\n",
       "    }\n",
       "\n",
       "    .dataframe thead th {\n",
       "        text-align: right;\n",
       "    }\n",
       "</style>\n",
       "<table border=\"1\" class=\"dataframe\">\n",
       "  <thead>\n",
       "    <tr style=\"text-align: right;\">\n",
       "      <th></th>\n",
       "      <th>#chr</th>\n",
       "      <th>start</th>\n",
       "      <th>end</th>\n",
       "      <th>rep1</th>\n",
       "      <th>rep2</th>\n",
       "      <th>norm.readcount.mean</th>\n",
       "      <th>norm.readcount.std</th>\n",
       "      <th>cl</th>\n",
       "      <th>treatment</th>\n",
       "      <th>len</th>\n",
       "      <th>start_midpoint</th>\n",
       "      <th>end_midpoint</th>\n",
       "    </tr>\n",
       "  </thead>\n",
       "  <tbody>\n",
       "    <tr>\n",
       "      <th>0</th>\n",
       "      <td>chr1</td>\n",
       "      <td>9902</td>\n",
       "      <td>10302</td>\n",
       "      <td>17.945055</td>\n",
       "      <td>20.899360</td>\n",
       "      <td>19.422208</td>\n",
       "      <td>2.089010</td>\n",
       "      <td>hepg2</td>\n",
       "      <td>True</td>\n",
       "      <td>400</td>\n",
       "      <td>10102</td>\n",
       "      <td>10103</td>\n",
       "    </tr>\n",
       "    <tr>\n",
       "      <th>0</th>\n",
       "      <td>chr1</td>\n",
       "      <td>9906</td>\n",
       "      <td>10306</td>\n",
       "      <td>15.407020</td>\n",
       "      <td>37.819709</td>\n",
       "      <td>26.613365</td>\n",
       "      <td>15.848164</td>\n",
       "      <td>hepg2</td>\n",
       "      <td>False</td>\n",
       "      <td>400</td>\n",
       "      <td>10106</td>\n",
       "      <td>10107</td>\n",
       "    </tr>\n",
       "    <tr>\n",
       "      <th>1</th>\n",
       "      <td>chr1</td>\n",
       "      <td>180689</td>\n",
       "      <td>181089</td>\n",
       "      <td>34.868520</td>\n",
       "      <td>35.211454</td>\n",
       "      <td>35.039987</td>\n",
       "      <td>0.242491</td>\n",
       "      <td>hepg2</td>\n",
       "      <td>False</td>\n",
       "      <td>400</td>\n",
       "      <td>180889</td>\n",
       "      <td>180890</td>\n",
       "    </tr>\n",
       "    <tr>\n",
       "      <th>2</th>\n",
       "      <td>chr1</td>\n",
       "      <td>180693</td>\n",
       "      <td>181093</td>\n",
       "      <td>16.889463</td>\n",
       "      <td>20.899360</td>\n",
       "      <td>18.894412</td>\n",
       "      <td>2.835425</td>\n",
       "      <td>hepg2</td>\n",
       "      <td>True</td>\n",
       "      <td>400</td>\n",
       "      <td>180893</td>\n",
       "      <td>180894</td>\n",
       "    </tr>\n",
       "    <tr>\n",
       "      <th>2</th>\n",
       "      <td>chr1</td>\n",
       "      <td>598813</td>\n",
       "      <td>599213</td>\n",
       "      <td>3.243583</td>\n",
       "      <td>3.912384</td>\n",
       "      <td>3.577983</td>\n",
       "      <td>0.472913</td>\n",
       "      <td>hepg2</td>\n",
       "      <td>False</td>\n",
       "      <td>400</td>\n",
       "      <td>599013</td>\n",
       "      <td>599014</td>\n",
       "    </tr>\n",
       "  </tbody>\n",
       "</table>\n",
       "</div>"
      ],
      "text/plain": [
       "   #chr   start     end       rep1       rep2  norm.readcount.mean  \\\n",
       "0  chr1    9902   10302  17.945055  20.899360            19.422208   \n",
       "0  chr1    9906   10306  15.407020  37.819709            26.613365   \n",
       "1  chr1  180689  181089  34.868520  35.211454            35.039987   \n",
       "2  chr1  180693  181093  16.889463  20.899360            18.894412   \n",
       "2  chr1  598813  599213   3.243583   3.912384             3.577983   \n",
       "\n",
       "   norm.readcount.std     cl  treatment  len  start_midpoint  end_midpoint  \n",
       "0            2.089010  hepg2       True  400           10102         10103  \n",
       "0           15.848164  hepg2      False  400           10106         10107  \n",
       "1            0.242491  hepg2      False  400          180889        180890  \n",
       "2            2.835425  hepg2       True  400          180893        180894  \n",
       "2            0.472913  hepg2      False  400          599013        599014  "
      ]
     },
     "execution_count": 10,
     "metadata": {},
     "output_type": "execute_result"
    }
   ],
   "source": [
    "results = {}\n",
    "summary_beds = []\n",
    "for file_clean in cleaned:\n",
    "    \n",
    "    treatment = False  # annotate treatment from filename\n",
    "    \n",
    "    if \"t_\" in file_clean:\n",
    "         treatment = True\n",
    "    df, outfile = openDfComputeMean(file_clean, CL, treatment)\n",
    "    results[file_clean] = df\n",
    "    summary_beds.append(outfile)\n",
    "\n",
    "df = pd.concat(results.values())\n",
    "df.sort_values(by=['#chr', \"start\", \"end\"]).head()"
   ]
  },
  {
   "cell_type": "code",
   "execution_count": 11,
   "id": "15eac10c",
   "metadata": {
    "ExecuteTime": {
     "end_time": "2024-02-27T21:47:57.954210Z",
     "start_time": "2024-02-27T21:47:57.563839Z"
    }
   },
   "outputs": [],
   "source": [
    "df = pd.read_csv(FULL, sep='\\t')"
   ]
  },
  {
   "cell_type": "code",
   "execution_count": 12,
   "id": "71ecfc7b",
   "metadata": {
    "ExecuteTime": {
     "end_time": "2024-02-27T21:47:58.914830Z",
     "start_time": "2024-02-27T21:47:57.956032Z"
    }
   },
   "outputs": [
    {
     "data": {
      "text/html": [
       "<div>\n",
       "<style scoped>\n",
       "    .dataframe tbody tr th:only-of-type {\n",
       "        vertical-align: middle;\n",
       "    }\n",
       "\n",
       "    .dataframe tbody tr th {\n",
       "        vertical-align: top;\n",
       "    }\n",
       "\n",
       "    .dataframe thead th {\n",
       "        text-align: right;\n",
       "    }\n",
       "</style>\n",
       "<table border=\"1\" class=\"dataframe\">\n",
       "  <thead>\n",
       "    <tr style=\"text-align: right;\">\n",
       "      <th></th>\n",
       "      <th>#chr</th>\n",
       "      <th>start_trim</th>\n",
       "      <th>end_trim</th>\n",
       "      <th>type</th>\n",
       "      <th>ctrl</th>\n",
       "      <th>US</th>\n",
       "      <th>seq.id</th>\n",
       "      <th>seq</th>\n",
       "    </tr>\n",
       "  </thead>\n",
       "  <tbody>\n",
       "    <tr>\n",
       "      <th>0</th>\n",
       "      <td>chr1</td>\n",
       "      <td>598878</td>\n",
       "      <td>599149</td>\n",
       "      <td>ctrl-only.0</td>\n",
       "      <td>3.577983</td>\n",
       "      <td>0.0</td>\n",
       "      <td>chr1:598878-599149</td>\n",
       "      <td>gtgtgtgatgttctctctgattacattggaactgtgcgtttgcgga...</td>\n",
       "    </tr>\n",
       "    <tr>\n",
       "      <th>1</th>\n",
       "      <td>chr1</td>\n",
       "      <td>610594</td>\n",
       "      <td>610865</td>\n",
       "      <td>ctrl-only.1</td>\n",
       "      <td>2.273856</td>\n",
       "      <td>0.0</td>\n",
       "      <td>chr1:610594-610865</td>\n",
       "      <td>TCTGTGGCCAGCAGGCGGCGCTGCAGGAGAGGAGATGCCCAGGCCT...</td>\n",
       "    </tr>\n",
       "    <tr>\n",
       "      <th>2</th>\n",
       "      <td>chr1</td>\n",
       "      <td>1185478</td>\n",
       "      <td>1185749</td>\n",
       "      <td>ctrl-only.10</td>\n",
       "      <td>6.098455</td>\n",
       "      <td>0.0</td>\n",
       "      <td>chr1:1185478-1185749</td>\n",
       "      <td>GTCCTGGAGCAGCAGCAGCTGCCCGTGCAGGCCCGGACTCTCCCTA...</td>\n",
       "    </tr>\n",
       "    <tr>\n",
       "      <th>3</th>\n",
       "      <td>chr1</td>\n",
       "      <td>5652318</td>\n",
       "      <td>5652589</td>\n",
       "      <td>ctrl-only.100</td>\n",
       "      <td>7.561415</td>\n",
       "      <td>0.0</td>\n",
       "      <td>chr1:5652318-5652589</td>\n",
       "      <td>AGTCCACAAGAAGGCAGGAAAACTGAGCTCCTTCCTCCTGGAGCGC...</td>\n",
       "    </tr>\n",
       "    <tr>\n",
       "      <th>4</th>\n",
       "      <td>chr1</td>\n",
       "      <td>59422999</td>\n",
       "      <td>59423270</td>\n",
       "      <td>ctrl-only.1000</td>\n",
       "      <td>7.966863</td>\n",
       "      <td>0.0</td>\n",
       "      <td>chr1:59422999-59423270</td>\n",
       "      <td>GTTTGGATACTATTGTGCCAGGCAGCCTTTCCGAACACTCCAGCCT...</td>\n",
       "    </tr>\n",
       "  </tbody>\n",
       "</table>\n",
       "</div>"
      ],
      "text/plain": [
       "   #chr  start_trim  end_trim            type      ctrl   US  \\\n",
       "0  chr1      598878    599149     ctrl-only.0  3.577983  0.0   \n",
       "1  chr1      610594    610865     ctrl-only.1  2.273856  0.0   \n",
       "2  chr1     1185478   1185749    ctrl-only.10  6.098455  0.0   \n",
       "3  chr1     5652318   5652589   ctrl-only.100  7.561415  0.0   \n",
       "4  chr1    59422999  59423270  ctrl-only.1000  7.966863  0.0   \n",
       "\n",
       "                   seq.id                                                seq  \n",
       "0      chr1:598878-599149  gtgtgtgatgttctctctgattacattggaactgtgcgtttgcgga...  \n",
       "1      chr1:610594-610865  TCTGTGGCCAGCAGGCGGCGCTGCAGGAGAGGAGATGCCCAGGCCT...  \n",
       "2    chr1:1185478-1185749  GTCCTGGAGCAGCAGCAGCTGCCCGTGCAGGCCCGGACTCTCCCTA...  \n",
       "3    chr1:5652318-5652589  AGTCCACAAGAAGGCAGGAAAACTGAGCTCCTTCCTCCTGGAGCGC...  \n",
       "4  chr1:59422999-59423270  GTTTGGATACTATTGTGCCAGGCAGCCTTTCCGAACACTCCAGCCT...  "
      ]
     },
     "execution_count": 12,
     "metadata": {},
     "output_type": "execute_result"
    }
   ],
   "source": [
    "df.head()"
   ]
  },
  {
   "cell_type": "code",
   "execution_count": 13,
   "id": "303a9cf7",
   "metadata": {
    "ExecuteTime": {
     "end_time": "2024-02-27T21:47:59.387047Z",
     "start_time": "2024-02-27T21:47:58.916542Z"
    }
   },
   "outputs": [
    {
     "data": {
      "text/plain": [
       "(82515, 8)"
      ]
     },
     "execution_count": 13,
     "metadata": {},
     "output_type": "execute_result"
    }
   ],
   "source": [
    "df.shape"
   ]
  },
  {
   "cell_type": "markdown",
   "id": "2e8eef39",
   "metadata": {},
   "source": [
    "# data normalization"
   ]
  },
  {
   "cell_type": "code",
   "execution_count": 14,
   "id": "d8819229",
   "metadata": {
    "ExecuteTime": {
     "end_time": "2024-02-27T21:48:00.199346Z",
     "start_time": "2024-02-27T21:47:59.388712Z"
    }
   },
   "outputs": [],
   "source": [
    "def zscore(df, col):\n",
    "    \"\"\"compute z-score for a column\"\"\"\n",
    "    df[f'{col}.zscore'] = (df[col] - df[col].mean())/df[col].std()\n",
    "    \n",
    "    return df\n"
   ]
  },
  {
   "cell_type": "markdown",
   "id": "69a1c489",
   "metadata": {},
   "source": [
    "## keep only inner quantile of data "
   ]
  },
  {
   "cell_type": "code",
   "execution_count": 15,
   "id": "116df6c1",
   "metadata": {
    "ExecuteTime": {
     "end_time": "2024-02-27T21:48:00.508831Z",
     "start_time": "2024-02-27T21:48:00.201267Z"
    }
   },
   "outputs": [
    {
     "name": "stdout",
     "output_type": "stream",
     "text": [
      "27.63740371983405\n"
     ]
    }
   ],
   "source": [
    "# quantile \n",
    "print(df[\"ctrl\"].quantile(0.75))\n",
    "df = df.loc[(df[\"ctrl\"]< df[\"ctrl\"].quantile(0.75) )&\n",
    "           (df[\"ctrl\"]>df[\"ctrl\"].quantile(0.25))]\n",
    "\n",
    "# log2\n",
    "df[\"ctrl.log2\"] = np.log2(df[\"ctrl\"])\n",
    "\n",
    "df = zscore(df, \"ctrl\")\n",
    "df = zscore(df, \"ctrl.log2\")"
   ]
  },
  {
   "cell_type": "markdown",
   "id": "529c7eef",
   "metadata": {},
   "source": [
    "# data transformations"
   ]
  },
  {
   "cell_type": "markdown",
   "id": "bca3e393",
   "metadata": {},
   "source": [
    "## no transformation \n",
    "- plain read counts"
   ]
  },
  {
   "cell_type": "code",
   "execution_count": null,
   "id": "21640532",
   "metadata": {
    "ExecuteTime": {
     "end_time": "2024-02-27T21:46:57.230346Z",
     "start_time": "2024-02-27T21:46:56.971143Z"
    }
   },
   "outputs": [],
   "source": [
    "sns.histplot(x=\"ctrl\", data=df)"
   ]
  },
  {
   "cell_type": "markdown",
   "id": "06e1bf09",
   "metadata": {},
   "source": [
    "## log2 "
   ]
  },
  {
   "cell_type": "code",
   "execution_count": null,
   "id": "7bb55806",
   "metadata": {
    "ExecuteTime": {
     "end_time": "2024-02-27T21:24:39.486013Z",
     "start_time": "2024-02-27T21:24:39.235300Z"
    }
   },
   "outputs": [],
   "source": [
    "sns.histplot(x=\"rep1.log2\", data=us)"
   ]
  },
  {
   "cell_type": "markdown",
   "id": "1b46317a",
   "metadata": {},
   "source": [
    "## z score of read norm counts"
   ]
  },
  {
   "cell_type": "code",
   "execution_count": null,
   "id": "191b9f59",
   "metadata": {
    "ExecuteTime": {
     "end_time": "2024-02-27T21:24:40.853787Z",
     "start_time": "2024-02-27T21:24:40.608258Z"
    }
   },
   "outputs": [],
   "source": [
    "sns.histplot(x=\"rep1.zscore\", data=us)"
   ]
  },
  {
   "cell_type": "markdown",
   "id": "478fe273",
   "metadata": {},
   "source": [
    "## log2 zscore"
   ]
  },
  {
   "cell_type": "code",
   "execution_count": null,
   "id": "6271b6ed",
   "metadata": {
    "ExecuteTime": {
     "end_time": "2024-02-27T21:24:42.146750Z",
     "start_time": "2024-02-27T21:24:41.753481Z"
    }
   },
   "outputs": [],
   "source": [
    "sns.histplot(x=\"rep1.log2.zscore\", data=us)"
   ]
  },
  {
   "cell_type": "markdown",
   "id": "9bc1fb6a",
   "metadata": {},
   "source": [
    "## box cox"
   ]
  },
  {
   "cell_type": "code",
   "execution_count": null,
   "id": "9734b445",
   "metadata": {
    "ExecuteTime": {
     "end_time": "2024-02-27T21:24:43.119812Z",
     "start_time": "2024-02-27T21:24:42.876258Z"
    }
   },
   "outputs": [],
   "source": [
    "us['rep1.boxcox'] = boxcox(us[\"rep1\"], 0.5)  # 0 =log transformation, 0.5=sqrt transformation\n",
    "\n",
    "sns.histplot(x=\"rep1.boxcox\", data=us)"
   ]
  },
  {
   "cell_type": "code",
   "execution_count": null,
   "id": "f8d9f88b",
   "metadata": {
    "ExecuteTime": {
     "end_time": "2024-02-27T21:24:44.102529Z",
     "start_time": "2024-02-27T21:24:43.554987Z"
    }
   },
   "outputs": [],
   "source": [
    "us['rep1.sqrt'] = np.sqrt(us[\"rep1\"])\n",
    "\n",
    "sns.histplot(x=\"rep1.sqrt\", data=us)"
   ]
  },
  {
   "cell_type": "code",
   "execution_count": null,
   "id": "6dadcc7e",
   "metadata": {
    "ExecuteTime": {
     "end_time": "2024-02-27T21:25:29.369842Z",
     "start_time": "2024-02-27T21:25:15.796583Z"
    }
   },
   "outputs": [],
   "source": [
    "from sklearn.decomposition import PCA"
   ]
  },
  {
   "cell_type": "code",
   "execution_count": null,
   "id": "de349e0a",
   "metadata": {
    "ExecuteTime": {
     "end_time": "2024-02-27T21:31:29.149452Z",
     "start_time": "2024-02-27T21:31:29.094648Z"
    }
   },
   "outputs": [],
   "source": [
    "values = pd.merge(ctrl[[\"coor\", \"rep1\", \"rep2\", ]], us[[\"rep1\", \"rep2\", \"coor\"]], left_on=\"coor\", right_on=\"coor\")\n",
    "values"
   ]
  },
  {
   "cell_type": "code",
   "execution_count": null,
   "id": "9fd8a0fa",
   "metadata": {
    "ExecuteTime": {
     "end_time": "2024-02-27T21:32:32.665370Z",
     "start_time": "2024-02-27T21:32:32.661329Z"
    }
   },
   "outputs": [],
   "source": [
    "X = values[[\"rep1_x\", \"rep2_x\", \"rep1_y\", \"rep2_y\"]]#.pivot(columns = 'coor', values=['rep1', 'rep2'])"
   ]
  },
  {
   "cell_type": "code",
   "execution_count": null,
   "id": "f6300273",
   "metadata": {
    "ExecuteTime": {
     "end_time": "2024-02-27T21:41:03.065111Z",
     "start_time": "2024-02-27T21:41:03.057067Z"
    }
   },
   "outputs": [],
   "source": [
    "pca = PCA(n_components=4)\n",
    "X_ = pca.fit_transform(X)\n",
    "\n",
    "print(pca.explained_variance_ratio_) "
   ]
  },
  {
   "cell_type": "code",
   "execution_count": null,
   "id": "4b8b9f0a",
   "metadata": {
    "ExecuteTime": {
     "end_time": "2024-02-27T21:41:05.510796Z",
     "start_time": "2024-02-27T21:41:05.505638Z"
    }
   },
   "outputs": [],
   "source": [
    "X_"
   ]
  },
  {
   "cell_type": "code",
   "execution_count": null,
   "id": "9bccce96",
   "metadata": {},
   "outputs": [],
   "source": []
  }
 ],
 "metadata": {
  "kernelspec": {
   "display_name": "Python (mamba)",
   "language": "python",
   "name": "mamba"
  },
  "language_info": {
   "codemirror_mode": {
    "name": "ipython",
    "version": 3
   },
   "file_extension": ".py",
   "mimetype": "text/x-python",
   "name": "python",
   "nbconvert_exporter": "python",
   "pygments_lexer": "ipython3",
   "version": "3.9.16"
  },
  "toc": {
   "base_numbering": 1,
   "nav_menu": {},
   "number_sections": true,
   "sideBar": true,
   "skip_h1_title": false,
   "title_cell": "Table of Contents",
   "title_sidebar": "Contents",
   "toc_cell": false,
   "toc_position": {},
   "toc_section_display": true,
   "toc_window_display": true
  },
  "varInspector": {
   "cols": {
    "lenName": 16,
    "lenType": 16,
    "lenVar": 40
   },
   "kernels_config": {
    "python": {
     "delete_cmd_postfix": "",
     "delete_cmd_prefix": "del ",
     "library": "var_list.py",
     "varRefreshCmd": "print(var_dic_list())"
    },
    "r": {
     "delete_cmd_postfix": ") ",
     "delete_cmd_prefix": "rm(",
     "library": "var_list.r",
     "varRefreshCmd": "cat(var_dic_list()) "
    }
   },
   "types_to_exclude": [
    "module",
    "function",
    "builtin_function_or_method",
    "instance",
    "_Feature"
   ],
   "window_display": false
  }
 },
 "nbformat": 4,
 "nbformat_minor": 5
}
