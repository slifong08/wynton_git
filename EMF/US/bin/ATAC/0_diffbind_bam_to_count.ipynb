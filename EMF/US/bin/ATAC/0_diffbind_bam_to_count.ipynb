{
 "cells": [
  {
   "cell_type": "markdown",
   "id": "966ece6f-425d-45e0-a962-13b2267451c2",
   "metadata": {},
   "source": [
    "# downloads"
   ]
  },
  {
   "cell_type": "code",
   "execution_count": 1,
   "id": "490c82bd-e5aa-4ce0-8255-c2d9ae314e4f",
   "metadata": {
    "ExecuteTime": {
     "end_time": "2024-01-17T02:07:03.252311Z",
     "start_time": "2024-01-17T02:06:30.534Z"
    },
    "scrolled": true
   },
   "outputs": [
    {
     "name": "stderr",
     "output_type": "stream",
     "text": [
      "\n",
      "Attaching package: ‘BiocGenerics’\n",
      "\n",
      "\n",
      "The following objects are masked from ‘package:stats’:\n",
      "\n",
      "    IQR, mad, sd, var, xtabs\n",
      "\n",
      "\n",
      "The following objects are masked from ‘package:base’:\n",
      "\n",
      "    anyDuplicated, aperm, append, as.data.frame, basename, cbind,\n",
      "    colnames, dirname, do.call, duplicated, eval, evalq, Filter, Find,\n",
      "    get, grep, grepl, intersect, is.unsorted, lapply, Map, mapply,\n",
      "    match, mget, order, paste, pmax, pmax.int, pmin, pmin.int,\n",
      "    Position, rank, rbind, Reduce, rownames, sapply, setdiff, sort,\n",
      "    table, tapply, union, unique, unsplit, which.max, which.min\n",
      "\n",
      "\n",
      "\n",
      "Attaching package: ‘S4Vectors’\n",
      "\n",
      "\n",
      "The following object is masked from ‘package:utils’:\n",
      "\n",
      "    findMatches\n",
      "\n",
      "\n",
      "The following objects are masked from ‘package:base’:\n",
      "\n",
      "    expand.grid, I, unname\n",
      "\n",
      "\n",
      "\n",
      "Attaching package: ‘MatrixGenerics’\n",
      "\n",
      "\n",
      "The following objects are masked from ‘package:matrixStats’:\n",
      "\n",
      "    colAlls, colAnyNAs, colAnys, colAvgsPerRowSet, colCollapse,\n",
      "    colCounts, colCummaxs, colCummins, colCumprods, colCumsums,\n",
      "    colDiffs, colIQRDiffs, colIQRs, colLogSumExps, colMadDiffs,\n",
      "    colMads, colMaxs, colMeans2, colMedians, colMins, colOrderStats,\n",
      "    colProds, colQuantiles, colRanges, colRanks, colSdDiffs, colSds,\n",
      "    colSums2, colTabulates, colVarDiffs, colVars, colWeightedMads,\n",
      "    colWeightedMeans, colWeightedMedians, colWeightedSds,\n",
      "    colWeightedVars, rowAlls, rowAnyNAs, rowAnys, rowAvgsPerColSet,\n",
      "    rowCollapse, rowCounts, rowCummaxs, rowCummins, rowCumprods,\n",
      "    rowCumsums, rowDiffs, rowIQRDiffs, rowIQRs, rowLogSumExps,\n",
      "    rowMadDiffs, rowMads, rowMaxs, rowMeans2, rowMedians, rowMins,\n",
      "    rowOrderStats, rowProds, rowQuantiles, rowRanges, rowRanks,\n",
      "    rowSdDiffs, rowSds, rowSums2, rowTabulates, rowVarDiffs, rowVars,\n",
      "    rowWeightedMads, rowWeightedMeans, rowWeightedMedians,\n",
      "    rowWeightedSds, rowWeightedVars\n",
      "\n",
      "\n",
      "Welcome to Bioconductor\n",
      "\n",
      "    Vignettes contain introductory material; view with\n",
      "    'browseVignettes()'. To cite Bioconductor, see\n",
      "    'citation(\"Biobase\")', and for packages 'citation(\"pkgname\")'.\n",
      "\n",
      "\n",
      "\n",
      "Attaching package: ‘Biobase’\n",
      "\n",
      "\n",
      "The following object is masked from ‘package:MatrixGenerics’:\n",
      "\n",
      "    rowMedians\n",
      "\n",
      "\n",
      "The following objects are masked from ‘package:matrixStats’:\n",
      "\n",
      "    anyMissing, rowMedians\n",
      "\n",
      "\n",
      " >>> DiffBind 3.12.0\n",
      "\n",
      "── \u001b[1mAttaching core tidyverse packages\u001b[22m ──────────────────────────────────────────────────────────────────────────────── tidyverse 2.0.0 ──\n",
      "\u001b[32m✔\u001b[39m \u001b[34mdplyr    \u001b[39m 1.1.4     \u001b[32m✔\u001b[39m \u001b[34mreadr    \u001b[39m 2.1.5\n",
      "\u001b[32m✔\u001b[39m \u001b[34mforcats  \u001b[39m 1.0.0     \u001b[32m✔\u001b[39m \u001b[34mstringr  \u001b[39m 1.5.1\n",
      "\u001b[32m✔\u001b[39m \u001b[34mggplot2  \u001b[39m 3.4.4     \u001b[32m✔\u001b[39m \u001b[34mtibble   \u001b[39m 3.2.1\n",
      "\u001b[32m✔\u001b[39m \u001b[34mlubridate\u001b[39m 1.9.3     \u001b[32m✔\u001b[39m \u001b[34mtidyr    \u001b[39m 1.3.0\n",
      "\u001b[32m✔\u001b[39m \u001b[34mpurrr    \u001b[39m 1.0.2     \n",
      "── \u001b[1mConflicts\u001b[22m ────────────────────────────────────────────────────────────────────────────────────────────────── tidyverse_conflicts() ──\n",
      "\u001b[31m✖\u001b[39m \u001b[34mlubridate\u001b[39m::\u001b[32m%within%()\u001b[39m masks \u001b[34mIRanges\u001b[39m::%within%()\n",
      "\u001b[31m✖\u001b[39m \u001b[34mdplyr\u001b[39m::\u001b[32mcollapse()\u001b[39m     masks \u001b[34mIRanges\u001b[39m::collapse()\n",
      "\u001b[31m✖\u001b[39m \u001b[34mdplyr\u001b[39m::\u001b[32mcombine()\u001b[39m      masks \u001b[34mBiobase\u001b[39m::combine(), \u001b[34mBiocGenerics\u001b[39m::combine()\n",
      "\u001b[31m✖\u001b[39m \u001b[34mdplyr\u001b[39m::\u001b[32mcount()\u001b[39m        masks \u001b[34mmatrixStats\u001b[39m::count()\n",
      "\u001b[31m✖\u001b[39m \u001b[34mdplyr\u001b[39m::\u001b[32mdesc()\u001b[39m         masks \u001b[34mIRanges\u001b[39m::desc()\n",
      "\u001b[31m✖\u001b[39m \u001b[34mtidyr\u001b[39m::\u001b[32mexpand()\u001b[39m       masks \u001b[34mS4Vectors\u001b[39m::expand()\n",
      "\u001b[31m✖\u001b[39m \u001b[34mdplyr\u001b[39m::\u001b[32mfilter()\u001b[39m       masks \u001b[34mstats\u001b[39m::filter()\n",
      "\u001b[31m✖\u001b[39m \u001b[34mdplyr\u001b[39m::\u001b[32mfirst()\u001b[39m        masks \u001b[34mS4Vectors\u001b[39m::first()\n",
      "\u001b[31m✖\u001b[39m \u001b[34mdplyr\u001b[39m::\u001b[32mlag()\u001b[39m          masks \u001b[34mstats\u001b[39m::lag()\n",
      "\u001b[31m✖\u001b[39m \u001b[34mggplot2\u001b[39m::\u001b[32mPosition()\u001b[39m   masks \u001b[34mBiocGenerics\u001b[39m::Position(), \u001b[34mbase\u001b[39m::Position()\n",
      "\u001b[31m✖\u001b[39m \u001b[34mpurrr\u001b[39m::\u001b[32mreduce()\u001b[39m       masks \u001b[34mGenomicRanges\u001b[39m::reduce(), \u001b[34mIRanges\u001b[39m::reduce()\n",
      "\u001b[31m✖\u001b[39m \u001b[34mdplyr\u001b[39m::\u001b[32mrename()\u001b[39m       masks \u001b[34mS4Vectors\u001b[39m::rename()\n",
      "\u001b[31m✖\u001b[39m \u001b[34mlubridate\u001b[39m::\u001b[32msecond()\u001b[39m   masks \u001b[34mS4Vectors\u001b[39m::second()\n",
      "\u001b[31m✖\u001b[39m \u001b[34mlubridate\u001b[39m::\u001b[32msecond<-()\u001b[39m masks \u001b[34mS4Vectors\u001b[39m::second<-()\n",
      "\u001b[31m✖\u001b[39m \u001b[34mdplyr\u001b[39m::\u001b[32mslice()\u001b[39m        masks \u001b[34mIRanges\u001b[39m::slice()\n",
      "\u001b[36mℹ\u001b[39m Use the conflicted package (\u001b[3m\u001b[34m<http://conflicted.r-lib.org/>\u001b[39m\u001b[23m) to force all conflicts to become errors\n"
     ]
    }
   ],
   "source": [
    "\"\"\"\n",
    "if (!require(\"BiocManager\", quietly = TRUE))\n",
    "    install.packages(\"BiocManager\")\n",
    "\n",
    "# install diffbind from BioConductor. \n",
    "if (!require(\"DiffBind\", quietly = TRUE))\n",
    "    BiocManager::install(\"DiffBind\")\n",
    "\n",
    "if (!require(\"tidyverse\", quietly = TRUE))\n",
    "    install.packages(\"tidyverse\")\n",
    "\"\"\""
   ]
  },
  {
   "cell_type": "markdown",
   "id": "6e2d7fd4-96eb-421f-bf40-7882d06dddd0",
   "metadata": {},
   "source": [
    "# load libraries"
   ]
  },
  {
   "cell_type": "code",
   "execution_count": 1,
   "id": "fdbb101b-c7f8-43b2-9a20-e33b49c09955",
   "metadata": {
    "ExecuteTime": {
     "end_time": "2024-01-17T02:07:09.764636Z",
     "start_time": "2024-01-17T02:07:09.710Z"
    },
    "scrolled": true
   },
   "outputs": [
    {
     "name": "stderr",
     "output_type": "stream",
     "text": [
      "Loading required package: GenomicRanges\n",
      "\n",
      "Loading required package: stats4\n",
      "\n",
      "Loading required package: BiocGenerics\n",
      "\n",
      "\n",
      "Attaching package: ‘BiocGenerics’\n",
      "\n",
      "\n",
      "The following objects are masked from ‘package:stats’:\n",
      "\n",
      "    IQR, mad, sd, var, xtabs\n",
      "\n",
      "\n",
      "The following objects are masked from ‘package:base’:\n",
      "\n",
      "    anyDuplicated, aperm, append, as.data.frame, basename, cbind,\n",
      "    colnames, dirname, do.call, duplicated, eval, evalq, Filter, Find,\n",
      "    get, grep, grepl, intersect, is.unsorted, lapply, Map, mapply,\n",
      "    match, mget, order, paste, pmax, pmax.int, pmin, pmin.int,\n",
      "    Position, rank, rbind, Reduce, rownames, sapply, setdiff, sort,\n",
      "    table, tapply, union, unique, unsplit, which.max, which.min\n",
      "\n",
      "\n",
      "Loading required package: S4Vectors\n",
      "\n",
      "\n",
      "Attaching package: ‘S4Vectors’\n",
      "\n",
      "\n",
      "The following object is masked from ‘package:utils’:\n",
      "\n",
      "    findMatches\n",
      "\n",
      "\n",
      "The following objects are masked from ‘package:base’:\n",
      "\n",
      "    expand.grid, I, unname\n",
      "\n",
      "\n",
      "Loading required package: IRanges\n",
      "\n",
      "Loading required package: GenomeInfoDb\n",
      "\n",
      "Loading required package: SummarizedExperiment\n",
      "\n",
      "Loading required package: MatrixGenerics\n",
      "\n",
      "Loading required package: matrixStats\n",
      "\n",
      "\n",
      "Attaching package: ‘MatrixGenerics’\n",
      "\n",
      "\n",
      "The following objects are masked from ‘package:matrixStats’:\n",
      "\n",
      "    colAlls, colAnyNAs, colAnys, colAvgsPerRowSet, colCollapse,\n",
      "    colCounts, colCummaxs, colCummins, colCumprods, colCumsums,\n",
      "    colDiffs, colIQRDiffs, colIQRs, colLogSumExps, colMadDiffs,\n",
      "    colMads, colMaxs, colMeans2, colMedians, colMins, colOrderStats,\n",
      "    colProds, colQuantiles, colRanges, colRanks, colSdDiffs, colSds,\n",
      "    colSums2, colTabulates, colVarDiffs, colVars, colWeightedMads,\n",
      "    colWeightedMeans, colWeightedMedians, colWeightedSds,\n",
      "    colWeightedVars, rowAlls, rowAnyNAs, rowAnys, rowAvgsPerColSet,\n",
      "    rowCollapse, rowCounts, rowCummaxs, rowCummins, rowCumprods,\n",
      "    rowCumsums, rowDiffs, rowIQRDiffs, rowIQRs, rowLogSumExps,\n",
      "    rowMadDiffs, rowMads, rowMaxs, rowMeans2, rowMedians, rowMins,\n",
      "    rowOrderStats, rowProds, rowQuantiles, rowRanges, rowRanks,\n",
      "    rowSdDiffs, rowSds, rowSums2, rowTabulates, rowVarDiffs, rowVars,\n",
      "    rowWeightedMads, rowWeightedMeans, rowWeightedMedians,\n",
      "    rowWeightedSds, rowWeightedVars\n",
      "\n",
      "\n",
      "Loading required package: Biobase\n",
      "\n",
      "Welcome to Bioconductor\n",
      "\n",
      "    Vignettes contain introductory material; view with\n",
      "    'browseVignettes()'. To cite Bioconductor, see\n",
      "    'citation(\"Biobase\")', and for packages 'citation(\"pkgname\")'.\n",
      "\n",
      "\n",
      "\n",
      "Attaching package: ‘Biobase’\n",
      "\n",
      "\n",
      "The following object is masked from ‘package:MatrixGenerics’:\n",
      "\n",
      "    rowMedians\n",
      "\n",
      "\n",
      "The following objects are masked from ‘package:matrixStats’:\n",
      "\n",
      "    anyMissing, rowMedians\n",
      "\n",
      "\n",
      " >>> DiffBind 3.12.0\n",
      "\n",
      "── \u001b[1mAttaching core tidyverse packages\u001b[22m ───────────────────────────────── tidyverse 2.0.0 ──\n",
      "\u001b[32m✔\u001b[39m \u001b[34mdplyr    \u001b[39m 1.1.4     \u001b[32m✔\u001b[39m \u001b[34mreadr    \u001b[39m 2.1.5\n",
      "\u001b[32m✔\u001b[39m \u001b[34mforcats  \u001b[39m 1.0.0     \u001b[32m✔\u001b[39m \u001b[34mstringr  \u001b[39m 1.5.1\n",
      "\u001b[32m✔\u001b[39m \u001b[34mggplot2  \u001b[39m 3.4.4     \u001b[32m✔\u001b[39m \u001b[34mtibble   \u001b[39m 3.2.1\n",
      "\u001b[32m✔\u001b[39m \u001b[34mlubridate\u001b[39m 1.9.3     \u001b[32m✔\u001b[39m \u001b[34mtidyr    \u001b[39m 1.3.0\n",
      "\u001b[32m✔\u001b[39m \u001b[34mpurrr    \u001b[39m 1.0.2     \n",
      "── \u001b[1mConflicts\u001b[22m ─────────────────────────────────────────────────── tidyverse_conflicts() ──\n",
      "\u001b[31m✖\u001b[39m \u001b[34mlubridate\u001b[39m::\u001b[32m%within%()\u001b[39m masks \u001b[34mIRanges\u001b[39m::%within%()\n",
      "\u001b[31m✖\u001b[39m \u001b[34mdplyr\u001b[39m::\u001b[32mcollapse()\u001b[39m     masks \u001b[34mIRanges\u001b[39m::collapse()\n",
      "\u001b[31m✖\u001b[39m \u001b[34mdplyr\u001b[39m::\u001b[32mcombine()\u001b[39m      masks \u001b[34mBiobase\u001b[39m::combine(), \u001b[34mBiocGenerics\u001b[39m::combine()\n",
      "\u001b[31m✖\u001b[39m \u001b[34mdplyr\u001b[39m::\u001b[32mcount()\u001b[39m        masks \u001b[34mmatrixStats\u001b[39m::count()\n",
      "\u001b[31m✖\u001b[39m \u001b[34mdplyr\u001b[39m::\u001b[32mdesc()\u001b[39m         masks \u001b[34mIRanges\u001b[39m::desc()\n",
      "\u001b[31m✖\u001b[39m \u001b[34mtidyr\u001b[39m::\u001b[32mexpand()\u001b[39m       masks \u001b[34mS4Vectors\u001b[39m::expand()\n",
      "\u001b[31m✖\u001b[39m \u001b[34mdplyr\u001b[39m::\u001b[32mfilter()\u001b[39m       masks \u001b[34mstats\u001b[39m::filter()\n",
      "\u001b[31m✖\u001b[39m \u001b[34mdplyr\u001b[39m::\u001b[32mfirst()\u001b[39m        masks \u001b[34mS4Vectors\u001b[39m::first()\n",
      "\u001b[31m✖\u001b[39m \u001b[34mdplyr\u001b[39m::\u001b[32mlag()\u001b[39m          masks \u001b[34mstats\u001b[39m::lag()\n",
      "\u001b[31m✖\u001b[39m \u001b[34mggplot2\u001b[39m::\u001b[32mPosition()\u001b[39m   masks \u001b[34mBiocGenerics\u001b[39m::Position(), \u001b[34mbase\u001b[39m::Position()\n",
      "\u001b[31m✖\u001b[39m \u001b[34mpurrr\u001b[39m::\u001b[32mreduce()\u001b[39m       masks \u001b[34mGenomicRanges\u001b[39m::reduce(), \u001b[34mIRanges\u001b[39m::reduce()\n",
      "\u001b[31m✖\u001b[39m \u001b[34mdplyr\u001b[39m::\u001b[32mrename()\u001b[39m       masks \u001b[34mS4Vectors\u001b[39m::rename()\n",
      "\u001b[31m✖\u001b[39m \u001b[34mlubridate\u001b[39m::\u001b[32msecond()\u001b[39m   masks \u001b[34mS4Vectors\u001b[39m::second()\n",
      "\u001b[31m✖\u001b[39m \u001b[34mlubridate\u001b[39m::\u001b[32msecond<-()\u001b[39m masks \u001b[34mS4Vectors\u001b[39m::second<-()\n",
      "\u001b[31m✖\u001b[39m \u001b[34mdplyr\u001b[39m::\u001b[32mslice()\u001b[39m        masks \u001b[34mIRanges\u001b[39m::slice()\n",
      "\u001b[36mℹ\u001b[39m Use the conflicted package (\u001b[3m\u001b[34m<http://conflicted.r-lib.org/>\u001b[39m\u001b[23m) to force all conflicts to become errors\n"
     ]
    }
   ],
   "source": [
    "# load diffbind\n",
    "library(DiffBind)\n",
    "\n",
    "library(tidyverse)"
   ]
  },
  {
   "cell_type": "markdown",
   "id": "bf40b1a0-0ef2-487a-8a1d-ead77215573a",
   "metadata": {},
   "source": [
    "# load data\n",
    "## samples"
   ]
  },
  {
   "cell_type": "markdown",
   "id": "e80ef389-7080-4246-8ef2-790ee3ee8914",
   "metadata": {
    "jp-MarkdownHeadingCollapsed": true
   },
   "source": [
    "### example data"
   ]
  },
  {
   "cell_type": "code",
   "execution_count": 5,
   "id": "f069aac0-0d87-47f7-81c1-7b4ca414495b",
   "metadata": {},
   "outputs": [
    {
     "name": "stderr",
     "output_type": "stream",
     "text": [
      "Warning message in download.file(url, file.path(tmpdir, file)):\n",
      "“downloaded length 0 != reported length 0”\n",
      "Warning message in download.file(url, file.path(tmpdir, file)):\n",
      "“URL 'https://content.cruk.cam.ac.uk/bioinformatics/software/DiffBind/DiffBind_vignette_data.tar.gz': status was 'Transferred a partial file'”\n"
     ]
    },
    {
     "ename": "ERROR",
     "evalue": "Error in download.file(url, file.path(tmpdir, file)): download from 'https://content.cruk.cam.ac.uk/bioinformatics/software/DiffBind/DiffBind_vignette_data.tar.gz' failed\n",
     "output_type": "error",
     "traceback": [
      "Error in download.file(url, file.path(tmpdir, file)): download from 'https://content.cruk.cam.ac.uk/bioinformatics/software/DiffBind/DiffBind_vignette_data.tar.gz' failed\nTraceback:\n",
      "1. download.file(url, file.path(tmpdir, file))"
     ]
    }
   ],
   "source": [
    "tmpdir <- tempdir()\n",
    "url <- 'https://content.cruk.cam.ac.uk/bioinformatics/software/DiffBind/DiffBind_vignette_data.tar.gz'\n",
    "file <- basename(url)\n",
    "options(timeout=600)\n",
    "download.file(url, file.path(tmpdir,file))\n",
    "untar(file.path(tmpdir,file), exdir = tmpdir )\n",
    "setwd(file.path(tmpdir,\"DiffBind_Vignette\"))"
   ]
  },
  {
   "cell_type": "markdown",
   "id": "c441e9f3-1e77-42d3-95cf-2e81e18edc92",
   "metadata": {},
   "source": [
    "## US ATAC"
   ]
  },
  {
   "cell_type": "code",
   "execution_count": 2,
   "id": "03c2fd27-6de4-45c2-9ff9-718348acea6e",
   "metadata": {
    "ExecuteTime": {
     "end_time": "2024-01-17T02:07:10.957736Z",
     "start_time": "2024-01-17T02:07:10.914Z"
    }
   },
   "outputs": [
    {
     "data": {
      "text/html": [
       "<table class=\"dataframe\">\n",
       "<caption>A data.frame: 12 × 7</caption>\n",
       "<thead>\n",
       "\t<tr><th scope=col>SampleID</th><th scope=col>Tissue</th><th scope=col>Factor</th><th scope=col>Replicate</th><th scope=col>Peaks</th><th scope=col>PeakCaller</th><th scope=col>bamReads</th></tr>\n",
       "\t<tr><th scope=col>&lt;chr&gt;</th><th scope=col>&lt;chr&gt;</th><th scope=col>&lt;chr&gt;</th><th scope=col>&lt;int&gt;</th><th scope=col>&lt;chr&gt;</th><th scope=col>&lt;chr&gt;</th><th scope=col>&lt;chr&gt;</th></tr>\n",
       "</thead>\n",
       "<tbody>\n",
       "\t<tr><td>HEPG2-C1-ATAC-q.7_peaks.narrowPeak</td><td>HEPG2</td><td>control  </td><td>1</td><td>/wynton/group/ahituv/data/US-MPRA/ATAC-seq/narrowPeak/HEPG2-C1-ATAC-q.7_peaks.narrowPeak</td><td>narrow</td><td>/wynton/group/ahituv/data/US-MPRA/ATAC-seq/bam/HEPG2-C1-ATAC-rmChrM-rmDup.bam</td></tr>\n",
       "\t<tr><td>HEPG2-C3-ATAC-q.7_peaks.narrowPeak</td><td>HEPG2</td><td>control  </td><td>3</td><td>/wynton/group/ahituv/data/US-MPRA/ATAC-seq/narrowPeak/HEPG2-C3-ATAC-q.7_peaks.narrowPeak</td><td>narrow</td><td>/wynton/group/ahituv/data/US-MPRA/ATAC-seq/bam/HEPG2-C3-ATAC-rmChrM-rmDup.bam</td></tr>\n",
       "\t<tr><td>HEPG2-T1-ATAC-q.7_peaks.narrowPeak</td><td>HEPG2</td><td>treatment</td><td>1</td><td>/wynton/group/ahituv/data/US-MPRA/ATAC-seq/narrowPeak/HEPG2-T1-ATAC-q.7_peaks.narrowPeak</td><td>narrow</td><td>/wynton/group/ahituv/data/US-MPRA/ATAC-seq/bam/HEPG2-T1-ATAC-rmChrM-rmDup.bam</td></tr>\n",
       "\t<tr><td>HEPG2-T2-ATAC-q.7_peaks.narrowPeak</td><td>HEPG2</td><td>treatment</td><td>2</td><td>/wynton/group/ahituv/data/US-MPRA/ATAC-seq/narrowPeak/HEPG2-T2-ATAC-q.7_peaks.narrowPeak</td><td>narrow</td><td>/wynton/group/ahituv/data/US-MPRA/ATAC-seq/bam/HEPG2-T2-ATAC-rmChrM-rmDup.bam</td></tr>\n",
       "\t<tr><td>K562-C2-ATAC-q.7_peaks.narrowPeak </td><td>K562 </td><td>control  </td><td>2</td><td>/wynton/group/ahituv/data/US-MPRA/ATAC-seq/narrowPeak/K562-C2-ATAC-q.7_peaks.narrowPeak </td><td>narrow</td><td>/wynton/group/ahituv/data/US-MPRA/ATAC-seq/bam/K562-C2-ATAC-rmChrM-rmDup.bam </td></tr>\n",
       "\t<tr><td>K562-C3-ATAC-q.7_peaks.narrowPeak </td><td>K562 </td><td>control  </td><td>3</td><td>/wynton/group/ahituv/data/US-MPRA/ATAC-seq/narrowPeak/K562-C3-ATAC-q.7_peaks.narrowPeak </td><td>narrow</td><td>/wynton/group/ahituv/data/US-MPRA/ATAC-seq/bam/K562-C3-ATAC-rmChrM-rmDup.bam </td></tr>\n",
       "\t<tr><td>K562-T1-ATAC-q.7_peaks.narrowPeak </td><td>K562 </td><td>treatment</td><td>1</td><td>/wynton/group/ahituv/data/US-MPRA/ATAC-seq/narrowPeak/K562-T1-ATAC-q.7_peaks.narrowPeak </td><td>narrow</td><td>/wynton/group/ahituv/data/US-MPRA/ATAC-seq/bam/K562-T1-ATAC-rmChrM-rmDup.bam </td></tr>\n",
       "\t<tr><td>K562-T2-ATAC-q.7_peaks.narrowPeak </td><td>K562 </td><td>treatment</td><td>2</td><td>/wynton/group/ahituv/data/US-MPRA/ATAC-seq/narrowPeak/K562-T2-ATAC-q.7_peaks.narrowPeak </td><td>narrow</td><td>/wynton/group/ahituv/data/US-MPRA/ATAC-seq/bam/K562-T2-ATAC-rmChrM-rmDup.bam </td></tr>\n",
       "\t<tr><td>BJ-T1-ATAC-q.7_peaks.narrowPeak   </td><td>BJ   </td><td>treatment</td><td>1</td><td>/wynton/group/ahituv/data/US-MPRA/ATAC-seq/narrowPeak/BJ-T1-ATAC-q.7_peaks.narrowPeak   </td><td>narrow</td><td>/wynton/group/ahituv/data/US-MPRA/ATAC-seq/bam/BJ-T1-ATAC-rmChrM-rmDup.bam   </td></tr>\n",
       "\t<tr><td>HOB-C1-ATAC-q.7_peaks.narrowPeak  </td><td>HOB  </td><td>control  </td><td>1</td><td>/wynton/group/ahituv/data/US-MPRA/ATAC-seq/narrowPeak/HOB-C1-ATAC-q.7_peaks.narrowPeak  </td><td>narrow</td><td>/wynton/group/ahituv/data/US-MPRA/ATAC-seq/bam/HOB-C1-ATAC-rmChrM-rmDup.bam  </td></tr>\n",
       "\t<tr><td>HOB-C3-ATAC-q.7_peaks.narrowPeak  </td><td>HOB  </td><td>control  </td><td>3</td><td>/wynton/group/ahituv/data/US-MPRA/ATAC-seq/narrowPeak/HOB-C3-ATAC-q.7_peaks.narrowPeak  </td><td>narrow</td><td>/wynton/group/ahituv/data/US-MPRA/ATAC-seq/bam/HOB-C3-ATAC-rmChrM-rmDup.bam  </td></tr>\n",
       "\t<tr><td>HOB-T2-ATAC-q.7_peaks.narrowPeak  </td><td>HOB  </td><td>treatment</td><td>2</td><td>/wynton/group/ahituv/data/US-MPRA/ATAC-seq/narrowPeak/HOB-T2-ATAC-q.7_peaks.narrowPeak  </td><td>narrow</td><td>/wynton/group/ahituv/data/US-MPRA/ATAC-seq/bam/HOB-T2-ATAC-rmChrM-rmDup.bam  </td></tr>\n",
       "</tbody>\n",
       "</table>\n"
      ],
      "text/latex": [
       "A data.frame: 12 × 7\n",
       "\\begin{tabular}{lllllll}\n",
       " SampleID & Tissue & Factor & Replicate & Peaks & PeakCaller & bamReads\\\\\n",
       " <chr> & <chr> & <chr> & <int> & <chr> & <chr> & <chr>\\\\\n",
       "\\hline\n",
       "\t HEPG2-C1-ATAC-q.7\\_peaks.narrowPeak & HEPG2 & control   & 1 & /wynton/group/ahituv/data/US-MPRA/ATAC-seq/narrowPeak/HEPG2-C1-ATAC-q.7\\_peaks.narrowPeak & narrow & /wynton/group/ahituv/data/US-MPRA/ATAC-seq/bam/HEPG2-C1-ATAC-rmChrM-rmDup.bam\\\\\n",
       "\t HEPG2-C3-ATAC-q.7\\_peaks.narrowPeak & HEPG2 & control   & 3 & /wynton/group/ahituv/data/US-MPRA/ATAC-seq/narrowPeak/HEPG2-C3-ATAC-q.7\\_peaks.narrowPeak & narrow & /wynton/group/ahituv/data/US-MPRA/ATAC-seq/bam/HEPG2-C3-ATAC-rmChrM-rmDup.bam\\\\\n",
       "\t HEPG2-T1-ATAC-q.7\\_peaks.narrowPeak & HEPG2 & treatment & 1 & /wynton/group/ahituv/data/US-MPRA/ATAC-seq/narrowPeak/HEPG2-T1-ATAC-q.7\\_peaks.narrowPeak & narrow & /wynton/group/ahituv/data/US-MPRA/ATAC-seq/bam/HEPG2-T1-ATAC-rmChrM-rmDup.bam\\\\\n",
       "\t HEPG2-T2-ATAC-q.7\\_peaks.narrowPeak & HEPG2 & treatment & 2 & /wynton/group/ahituv/data/US-MPRA/ATAC-seq/narrowPeak/HEPG2-T2-ATAC-q.7\\_peaks.narrowPeak & narrow & /wynton/group/ahituv/data/US-MPRA/ATAC-seq/bam/HEPG2-T2-ATAC-rmChrM-rmDup.bam\\\\\n",
       "\t K562-C2-ATAC-q.7\\_peaks.narrowPeak  & K562  & control   & 2 & /wynton/group/ahituv/data/US-MPRA/ATAC-seq/narrowPeak/K562-C2-ATAC-q.7\\_peaks.narrowPeak  & narrow & /wynton/group/ahituv/data/US-MPRA/ATAC-seq/bam/K562-C2-ATAC-rmChrM-rmDup.bam \\\\\n",
       "\t K562-C3-ATAC-q.7\\_peaks.narrowPeak  & K562  & control   & 3 & /wynton/group/ahituv/data/US-MPRA/ATAC-seq/narrowPeak/K562-C3-ATAC-q.7\\_peaks.narrowPeak  & narrow & /wynton/group/ahituv/data/US-MPRA/ATAC-seq/bam/K562-C3-ATAC-rmChrM-rmDup.bam \\\\\n",
       "\t K562-T1-ATAC-q.7\\_peaks.narrowPeak  & K562  & treatment & 1 & /wynton/group/ahituv/data/US-MPRA/ATAC-seq/narrowPeak/K562-T1-ATAC-q.7\\_peaks.narrowPeak  & narrow & /wynton/group/ahituv/data/US-MPRA/ATAC-seq/bam/K562-T1-ATAC-rmChrM-rmDup.bam \\\\\n",
       "\t K562-T2-ATAC-q.7\\_peaks.narrowPeak  & K562  & treatment & 2 & /wynton/group/ahituv/data/US-MPRA/ATAC-seq/narrowPeak/K562-T2-ATAC-q.7\\_peaks.narrowPeak  & narrow & /wynton/group/ahituv/data/US-MPRA/ATAC-seq/bam/K562-T2-ATAC-rmChrM-rmDup.bam \\\\\n",
       "\t BJ-T1-ATAC-q.7\\_peaks.narrowPeak    & BJ    & treatment & 1 & /wynton/group/ahituv/data/US-MPRA/ATAC-seq/narrowPeak/BJ-T1-ATAC-q.7\\_peaks.narrowPeak    & narrow & /wynton/group/ahituv/data/US-MPRA/ATAC-seq/bam/BJ-T1-ATAC-rmChrM-rmDup.bam   \\\\\n",
       "\t HOB-C1-ATAC-q.7\\_peaks.narrowPeak   & HOB   & control   & 1 & /wynton/group/ahituv/data/US-MPRA/ATAC-seq/narrowPeak/HOB-C1-ATAC-q.7\\_peaks.narrowPeak   & narrow & /wynton/group/ahituv/data/US-MPRA/ATAC-seq/bam/HOB-C1-ATAC-rmChrM-rmDup.bam  \\\\\n",
       "\t HOB-C3-ATAC-q.7\\_peaks.narrowPeak   & HOB   & control   & 3 & /wynton/group/ahituv/data/US-MPRA/ATAC-seq/narrowPeak/HOB-C3-ATAC-q.7\\_peaks.narrowPeak   & narrow & /wynton/group/ahituv/data/US-MPRA/ATAC-seq/bam/HOB-C3-ATAC-rmChrM-rmDup.bam  \\\\\n",
       "\t HOB-T2-ATAC-q.7\\_peaks.narrowPeak   & HOB   & treatment & 2 & /wynton/group/ahituv/data/US-MPRA/ATAC-seq/narrowPeak/HOB-T2-ATAC-q.7\\_peaks.narrowPeak   & narrow & /wynton/group/ahituv/data/US-MPRA/ATAC-seq/bam/HOB-T2-ATAC-rmChrM-rmDup.bam  \\\\\n",
       "\\end{tabular}\n"
      ],
      "text/markdown": [
       "\n",
       "A data.frame: 12 × 7\n",
       "\n",
       "| SampleID &lt;chr&gt; | Tissue &lt;chr&gt; | Factor &lt;chr&gt; | Replicate &lt;int&gt; | Peaks &lt;chr&gt; | PeakCaller &lt;chr&gt; | bamReads &lt;chr&gt; |\n",
       "|---|---|---|---|---|---|---|\n",
       "| HEPG2-C1-ATAC-q.7_peaks.narrowPeak | HEPG2 | control   | 1 | /wynton/group/ahituv/data/US-MPRA/ATAC-seq/narrowPeak/HEPG2-C1-ATAC-q.7_peaks.narrowPeak | narrow | /wynton/group/ahituv/data/US-MPRA/ATAC-seq/bam/HEPG2-C1-ATAC-rmChrM-rmDup.bam |\n",
       "| HEPG2-C3-ATAC-q.7_peaks.narrowPeak | HEPG2 | control   | 3 | /wynton/group/ahituv/data/US-MPRA/ATAC-seq/narrowPeak/HEPG2-C3-ATAC-q.7_peaks.narrowPeak | narrow | /wynton/group/ahituv/data/US-MPRA/ATAC-seq/bam/HEPG2-C3-ATAC-rmChrM-rmDup.bam |\n",
       "| HEPG2-T1-ATAC-q.7_peaks.narrowPeak | HEPG2 | treatment | 1 | /wynton/group/ahituv/data/US-MPRA/ATAC-seq/narrowPeak/HEPG2-T1-ATAC-q.7_peaks.narrowPeak | narrow | /wynton/group/ahituv/data/US-MPRA/ATAC-seq/bam/HEPG2-T1-ATAC-rmChrM-rmDup.bam |\n",
       "| HEPG2-T2-ATAC-q.7_peaks.narrowPeak | HEPG2 | treatment | 2 | /wynton/group/ahituv/data/US-MPRA/ATAC-seq/narrowPeak/HEPG2-T2-ATAC-q.7_peaks.narrowPeak | narrow | /wynton/group/ahituv/data/US-MPRA/ATAC-seq/bam/HEPG2-T2-ATAC-rmChrM-rmDup.bam |\n",
       "| K562-C2-ATAC-q.7_peaks.narrowPeak  | K562  | control   | 2 | /wynton/group/ahituv/data/US-MPRA/ATAC-seq/narrowPeak/K562-C2-ATAC-q.7_peaks.narrowPeak  | narrow | /wynton/group/ahituv/data/US-MPRA/ATAC-seq/bam/K562-C2-ATAC-rmChrM-rmDup.bam  |\n",
       "| K562-C3-ATAC-q.7_peaks.narrowPeak  | K562  | control   | 3 | /wynton/group/ahituv/data/US-MPRA/ATAC-seq/narrowPeak/K562-C3-ATAC-q.7_peaks.narrowPeak  | narrow | /wynton/group/ahituv/data/US-MPRA/ATAC-seq/bam/K562-C3-ATAC-rmChrM-rmDup.bam  |\n",
       "| K562-T1-ATAC-q.7_peaks.narrowPeak  | K562  | treatment | 1 | /wynton/group/ahituv/data/US-MPRA/ATAC-seq/narrowPeak/K562-T1-ATAC-q.7_peaks.narrowPeak  | narrow | /wynton/group/ahituv/data/US-MPRA/ATAC-seq/bam/K562-T1-ATAC-rmChrM-rmDup.bam  |\n",
       "| K562-T2-ATAC-q.7_peaks.narrowPeak  | K562  | treatment | 2 | /wynton/group/ahituv/data/US-MPRA/ATAC-seq/narrowPeak/K562-T2-ATAC-q.7_peaks.narrowPeak  | narrow | /wynton/group/ahituv/data/US-MPRA/ATAC-seq/bam/K562-T2-ATAC-rmChrM-rmDup.bam  |\n",
       "| BJ-T1-ATAC-q.7_peaks.narrowPeak    | BJ    | treatment | 1 | /wynton/group/ahituv/data/US-MPRA/ATAC-seq/narrowPeak/BJ-T1-ATAC-q.7_peaks.narrowPeak    | narrow | /wynton/group/ahituv/data/US-MPRA/ATAC-seq/bam/BJ-T1-ATAC-rmChrM-rmDup.bam    |\n",
       "| HOB-C1-ATAC-q.7_peaks.narrowPeak   | HOB   | control   | 1 | /wynton/group/ahituv/data/US-MPRA/ATAC-seq/narrowPeak/HOB-C1-ATAC-q.7_peaks.narrowPeak   | narrow | /wynton/group/ahituv/data/US-MPRA/ATAC-seq/bam/HOB-C1-ATAC-rmChrM-rmDup.bam   |\n",
       "| HOB-C3-ATAC-q.7_peaks.narrowPeak   | HOB   | control   | 3 | /wynton/group/ahituv/data/US-MPRA/ATAC-seq/narrowPeak/HOB-C3-ATAC-q.7_peaks.narrowPeak   | narrow | /wynton/group/ahituv/data/US-MPRA/ATAC-seq/bam/HOB-C3-ATAC-rmChrM-rmDup.bam   |\n",
       "| HOB-T2-ATAC-q.7_peaks.narrowPeak   | HOB   | treatment | 2 | /wynton/group/ahituv/data/US-MPRA/ATAC-seq/narrowPeak/HOB-T2-ATAC-q.7_peaks.narrowPeak   | narrow | /wynton/group/ahituv/data/US-MPRA/ATAC-seq/bam/HOB-T2-ATAC-rmChrM-rmDup.bam   |\n",
       "\n"
      ],
      "text/plain": [
       "   SampleID                           Tissue Factor    Replicate\n",
       "1  HEPG2-C1-ATAC-q.7_peaks.narrowPeak HEPG2  control   1        \n",
       "2  HEPG2-C3-ATAC-q.7_peaks.narrowPeak HEPG2  control   3        \n",
       "3  HEPG2-T1-ATAC-q.7_peaks.narrowPeak HEPG2  treatment 1        \n",
       "4  HEPG2-T2-ATAC-q.7_peaks.narrowPeak HEPG2  treatment 2        \n",
       "5  K562-C2-ATAC-q.7_peaks.narrowPeak  K562   control   2        \n",
       "6  K562-C3-ATAC-q.7_peaks.narrowPeak  K562   control   3        \n",
       "7  K562-T1-ATAC-q.7_peaks.narrowPeak  K562   treatment 1        \n",
       "8  K562-T2-ATAC-q.7_peaks.narrowPeak  K562   treatment 2        \n",
       "9  BJ-T1-ATAC-q.7_peaks.narrowPeak    BJ     treatment 1        \n",
       "10 HOB-C1-ATAC-q.7_peaks.narrowPeak   HOB    control   1        \n",
       "11 HOB-C3-ATAC-q.7_peaks.narrowPeak   HOB    control   3        \n",
       "12 HOB-T2-ATAC-q.7_peaks.narrowPeak   HOB    treatment 2        \n",
       "   Peaks                                                                                   \n",
       "1  /wynton/group/ahituv/data/US-MPRA/ATAC-seq/narrowPeak/HEPG2-C1-ATAC-q.7_peaks.narrowPeak\n",
       "2  /wynton/group/ahituv/data/US-MPRA/ATAC-seq/narrowPeak/HEPG2-C3-ATAC-q.7_peaks.narrowPeak\n",
       "3  /wynton/group/ahituv/data/US-MPRA/ATAC-seq/narrowPeak/HEPG2-T1-ATAC-q.7_peaks.narrowPeak\n",
       "4  /wynton/group/ahituv/data/US-MPRA/ATAC-seq/narrowPeak/HEPG2-T2-ATAC-q.7_peaks.narrowPeak\n",
       "5  /wynton/group/ahituv/data/US-MPRA/ATAC-seq/narrowPeak/K562-C2-ATAC-q.7_peaks.narrowPeak \n",
       "6  /wynton/group/ahituv/data/US-MPRA/ATAC-seq/narrowPeak/K562-C3-ATAC-q.7_peaks.narrowPeak \n",
       "7  /wynton/group/ahituv/data/US-MPRA/ATAC-seq/narrowPeak/K562-T1-ATAC-q.7_peaks.narrowPeak \n",
       "8  /wynton/group/ahituv/data/US-MPRA/ATAC-seq/narrowPeak/K562-T2-ATAC-q.7_peaks.narrowPeak \n",
       "9  /wynton/group/ahituv/data/US-MPRA/ATAC-seq/narrowPeak/BJ-T1-ATAC-q.7_peaks.narrowPeak   \n",
       "10 /wynton/group/ahituv/data/US-MPRA/ATAC-seq/narrowPeak/HOB-C1-ATAC-q.7_peaks.narrowPeak  \n",
       "11 /wynton/group/ahituv/data/US-MPRA/ATAC-seq/narrowPeak/HOB-C3-ATAC-q.7_peaks.narrowPeak  \n",
       "12 /wynton/group/ahituv/data/US-MPRA/ATAC-seq/narrowPeak/HOB-T2-ATAC-q.7_peaks.narrowPeak  \n",
       "   PeakCaller\n",
       "1  narrow    \n",
       "2  narrow    \n",
       "3  narrow    \n",
       "4  narrow    \n",
       "5  narrow    \n",
       "6  narrow    \n",
       "7  narrow    \n",
       "8  narrow    \n",
       "9  narrow    \n",
       "10 narrow    \n",
       "11 narrow    \n",
       "12 narrow    \n",
       "   bamReads                                                                     \n",
       "1  /wynton/group/ahituv/data/US-MPRA/ATAC-seq/bam/HEPG2-C1-ATAC-rmChrM-rmDup.bam\n",
       "2  /wynton/group/ahituv/data/US-MPRA/ATAC-seq/bam/HEPG2-C3-ATAC-rmChrM-rmDup.bam\n",
       "3  /wynton/group/ahituv/data/US-MPRA/ATAC-seq/bam/HEPG2-T1-ATAC-rmChrM-rmDup.bam\n",
       "4  /wynton/group/ahituv/data/US-MPRA/ATAC-seq/bam/HEPG2-T2-ATAC-rmChrM-rmDup.bam\n",
       "5  /wynton/group/ahituv/data/US-MPRA/ATAC-seq/bam/K562-C2-ATAC-rmChrM-rmDup.bam \n",
       "6  /wynton/group/ahituv/data/US-MPRA/ATAC-seq/bam/K562-C3-ATAC-rmChrM-rmDup.bam \n",
       "7  /wynton/group/ahituv/data/US-MPRA/ATAC-seq/bam/K562-T1-ATAC-rmChrM-rmDup.bam \n",
       "8  /wynton/group/ahituv/data/US-MPRA/ATAC-seq/bam/K562-T2-ATAC-rmChrM-rmDup.bam \n",
       "9  /wynton/group/ahituv/data/US-MPRA/ATAC-seq/bam/BJ-T1-ATAC-rmChrM-rmDup.bam   \n",
       "10 /wynton/group/ahituv/data/US-MPRA/ATAC-seq/bam/HOB-C1-ATAC-rmChrM-rmDup.bam  \n",
       "11 /wynton/group/ahituv/data/US-MPRA/ATAC-seq/bam/HOB-C3-ATAC-rmChrM-rmDup.bam  \n",
       "12 /wynton/group/ahituv/data/US-MPRA/ATAC-seq/bam/HOB-T2-ATAC-rmChrM-rmDup.bam  "
      ]
     },
     "metadata": {},
     "output_type": "display_data"
    }
   ],
   "source": [
    "setwd(\"/wynton/group/ahituv/data/US-MPRA/ATAC-seq\")\n",
    "\n",
    "sample_csv = \"/wynton/group/ahituv/data/US-MPRA/ATAC-seq/diffbind_samples/samples_diffbind_red.csv\"\n",
    "samples <- read.csv(sample_csv)\n",
    "\n",
    "samples"
   ]
  },
  {
   "cell_type": "markdown",
   "id": "55d3b38c-702f-455a-855e-3ffa0846a98c",
   "metadata": {},
   "source": [
    "## DBA object"
   ]
  },
  {
   "cell_type": "code",
   "execution_count": 3,
   "id": "352ab206-5cdc-4cec-9cec-f9e05a2d773a",
   "metadata": {
    "ExecuteTime": {
     "end_time": "2024-01-17T02:18:03.169198Z",
     "start_time": "2024-01-17T02:17:45.827Z"
    }
   },
   "outputs": [
    {
     "name": "stderr",
     "output_type": "stream",
     "text": [
      "HEPG2-C1-ATAC-q.7_peaks.narrowPeak HEPG2 control   1 narrow\n",
      "\n",
      "HEPG2-C3-ATAC-q.7_peaks.narrowPeak HEPG2 control   3 narrow\n",
      "\n",
      "HEPG2-T1-ATAC-q.7_peaks.narrowPeak HEPG2 treatment   1 narrow\n",
      "\n",
      "HEPG2-T2-ATAC-q.7_peaks.narrowPeak HEPG2 treatment   2 narrow\n",
      "\n",
      "K562-C2-ATAC-q.7_peaks.narrowPeak K562 control   2 narrow\n",
      "\n",
      "K562-C3-ATAC-q.7_peaks.narrowPeak K562 control   3 narrow\n",
      "\n",
      "K562-T1-ATAC-q.7_peaks.narrowPeak K562 treatment   1 narrow\n",
      "\n",
      "K562-T2-ATAC-q.7_peaks.narrowPeak K562 treatment   2 narrow\n",
      "\n",
      "BJ-T1-ATAC-q.7_peaks.narrowPeak BJ treatment   1 narrow\n",
      "\n",
      "HOB-C1-ATAC-q.7_peaks.narrowPeak HOB control   1 narrow\n",
      "\n",
      "HOB-C3-ATAC-q.7_peaks.narrowPeak HOB control   3 narrow\n",
      "\n",
      "HOB-T2-ATAC-q.7_peaks.narrowPeak HOB treatment   2 narrow\n",
      "\n"
     ]
    },
    {
     "data": {
      "text/plain": [
       "12 Samples, 285059 sites in matrix (740920 total):\n",
       "                                   ID Tissue    Factor Replicate Intervals\n",
       "1  HEPG2-C1-ATAC-q.7_peaks.narrowPeak  HEPG2   control         1    241002\n",
       "2  HEPG2-C3-ATAC-q.7_peaks.narrowPeak  HEPG2   control         3    181583\n",
       "3  HEPG2-T1-ATAC-q.7_peaks.narrowPeak  HEPG2 treatment         1    164857\n",
       "4  HEPG2-T2-ATAC-q.7_peaks.narrowPeak  HEPG2 treatment         2    220768\n",
       "5   K562-C2-ATAC-q.7_peaks.narrowPeak   K562   control         2    121313\n",
       "6   K562-C3-ATAC-q.7_peaks.narrowPeak   K562   control         3    117677\n",
       "7   K562-T1-ATAC-q.7_peaks.narrowPeak   K562 treatment         1    103167\n",
       "8   K562-T2-ATAC-q.7_peaks.narrowPeak   K562 treatment         2    110553\n",
       "9     BJ-T1-ATAC-q.7_peaks.narrowPeak     BJ treatment         1    129908\n",
       "10   HOB-C1-ATAC-q.7_peaks.narrowPeak    HOB   control         1    148471\n",
       "11   HOB-C3-ATAC-q.7_peaks.narrowPeak    HOB   control         3    183228\n",
       "12   HOB-T2-ATAC-q.7_peaks.narrowPeak    HOB treatment         2    132311"
      ]
     },
     "metadata": {},
     "output_type": "display_data"
    }
   ],
   "source": [
    "obj = dba(config=NULL, sampleSheet=sample_csv, \n",
    "             #bSummarizedExperiment=TRUE  # returns summarized experiment object. Not sure what this does. \n",
    "             #bLowerScoreBetter= TRUE  # filter for high scoring elements # \n",
    "            )\n",
    "obj"
   ]
  },
  {
   "cell_type": "code",
   "execution_count": 42,
   "id": "cf14cb0b-e701-484f-82aa-9cdc6b24c63c",
   "metadata": {},
   "outputs": [
    {
     "data": {
      "image/png": "[encoded data removed]",
      "text/plain": [
       "Plot with title “Color Key\n",
       "and Histogram”"
      ]
     },
     "metadata": {
      "image/png": {
       "height": 420,
       "width": 420
      }
     },
     "output_type": "display_data"
    }
   ],
   "source": [
    "plot(obj)"
   ]
  },
  {
   "cell_type": "code",
   "execution_count": null,
   "id": "54436bd9-8e55-4492-a5bc-50e37fc587ac",
   "metadata": {
    "ExecuteTime": {
     "end_time": "2024-01-17T02:19:55.062947Z",
     "start_time": "2024-01-17T02:19:55.009Z"
    }
   },
   "outputs": [],
   "source": [
    "# differential peaks, don't need bam, but takes a while. \n",
    "# should run dba.count first\n",
    "# link blacklist?  dba.blacklist\n",
    "\n",
    "#dba.analyze(obj, method=DBA_DESEQ2) "
   ]
  },
  {
   "cell_type": "markdown",
   "id": "c6a00d61-a33c-4c12-80f2-002609af75fa",
   "metadata": {},
   "source": [
    "## bam dependent - count, normalize"
   ]
  },
  {
   "cell_type": "code",
   "execution_count": null,
   "id": "789e013a-f41d-4c7c-895d-8741ac9b96b6",
   "metadata": {
    "ExecuteTime": {
     "end_time": "2024-01-17T02:19:55.062947Z",
     "start_time": "2024-01-17T02:19:55.009Z"
    }
   },
   "outputs": [],
   "source": [
    "# need bam or external count file\n",
    "#dbaobj <- dba.count(dbaobj)\n",
    "\n",
    "# need bam files, count object\n",
    "#dbaobj <- dba.normalize(dbaobj)"
   ]
  },
  {
   "cell_type": "code",
   "execution_count": null,
   "id": "b14185d0-2bc2-49c6-b553-ee98faf457c0",
   "metadata": {},
   "outputs": [],
   "source": [
    "hepg2 <- dba(obj, mask=obj$masks$HEPG2)\n",
    "hepg2c <- dba(obj, mask=obj$masks$HEPG2 & obj$masks$control)\n",
    "hepg2t <- dba(obj, mask=obj$masks$HEPG2 & obj$masks$treatment)\n",
    "\n",
    "#k562c <- dba(obj, mask=obj$masks$K562 & obj$masks$control)\n",
    "#k562t <- dba(obj, mask=obj$masks$K562 & obj$masks$treatment)\n",
    "\n",
    "#bjc <- dba(obj, mask=obj$masks$BJ & obj$masks$control)\n",
    "#bjt <- dba(obj, mask=obj$masks$BJ & obj$masks$treatment)\n",
    "\n",
    "#hobc <- dba(obj, mask=obj$masks$HOB & obj$masks$control)\n",
    "#hobt <- dba(obj, mask=obj$masks$HOB & obj$masks$treatment)"
   ]
  },
  {
   "cell_type": "code",
   "execution_count": 5,
   "id": "5ab2173c-bb1c-4e6f-9896-c4f676628370",
   "metadata": {},
   "outputs": [
    {
     "data": {
      "text/html": [
       "<table class=\"dataframe\">\n",
       "<caption>A data.frame: 4 × 6</caption>\n",
       "<thead>\n",
       "\t<tr><th></th><th scope=col>ID</th><th scope=col>Tissue</th><th scope=col>Factor</th><th scope=col>Replicate</th><th scope=col>Caller</th><th scope=col>Intervals</th></tr>\n",
       "\t<tr><th></th><th scope=col>&lt;chr&gt;</th><th scope=col>&lt;chr&gt;</th><th scope=col>&lt;chr&gt;</th><th scope=col>&lt;chr&gt;</th><th scope=col>&lt;chr&gt;</th><th scope=col>&lt;dbl&gt;</th></tr>\n",
       "</thead>\n",
       "<tbody>\n",
       "\t<tr><th scope=row>1</th><td>HEPG2-C1-ATAC-q.7_peaks.narrowPeak</td><td>HEPG2</td><td>control  </td><td>1</td><td>narrow</td><td>241002</td></tr>\n",
       "\t<tr><th scope=row>2</th><td>HEPG2-C3-ATAC-q.7_peaks.narrowPeak</td><td>HEPG2</td><td>control  </td><td>3</td><td>narrow</td><td>181583</td></tr>\n",
       "\t<tr><th scope=row>3</th><td>HEPG2-T1-ATAC-q.7_peaks.narrowPeak</td><td>HEPG2</td><td>treatment</td><td>1</td><td>narrow</td><td>164857</td></tr>\n",
       "\t<tr><th scope=row>4</th><td>HEPG2-T2-ATAC-q.7_peaks.narrowPeak</td><td>HEPG2</td><td>treatment</td><td>2</td><td>narrow</td><td>220768</td></tr>\n",
       "</tbody>\n",
       "</table>\n"
      ],
      "text/latex": [
       "A data.frame: 4 × 6\n",
       "\\begin{tabular}{r|llllll}\n",
       "  & ID & Tissue & Factor & Replicate & Caller & Intervals\\\\\n",
       "  & <chr> & <chr> & <chr> & <chr> & <chr> & <dbl>\\\\\n",
       "\\hline\n",
       "\t1 & HEPG2-C1-ATAC-q.7\\_peaks.narrowPeak & HEPG2 & control   & 1 & narrow & 241002\\\\\n",
       "\t2 & HEPG2-C3-ATAC-q.7\\_peaks.narrowPeak & HEPG2 & control   & 3 & narrow & 181583\\\\\n",
       "\t3 & HEPG2-T1-ATAC-q.7\\_peaks.narrowPeak & HEPG2 & treatment & 1 & narrow & 164857\\\\\n",
       "\t4 & HEPG2-T2-ATAC-q.7\\_peaks.narrowPeak & HEPG2 & treatment & 2 & narrow & 220768\\\\\n",
       "\\end{tabular}\n"
      ],
      "text/markdown": [
       "\n",
       "A data.frame: 4 × 6\n",
       "\n",
       "| <!--/--> | ID &lt;chr&gt; | Tissue &lt;chr&gt; | Factor &lt;chr&gt; | Replicate &lt;chr&gt; | Caller &lt;chr&gt; | Intervals &lt;dbl&gt; |\n",
       "|---|---|---|---|---|---|---|\n",
       "| 1 | HEPG2-C1-ATAC-q.7_peaks.narrowPeak | HEPG2 | control   | 1 | narrow | 241002 |\n",
       "| 2 | HEPG2-C3-ATAC-q.7_peaks.narrowPeak | HEPG2 | control   | 3 | narrow | 181583 |\n",
       "| 3 | HEPG2-T1-ATAC-q.7_peaks.narrowPeak | HEPG2 | treatment | 1 | narrow | 164857 |\n",
       "| 4 | HEPG2-T2-ATAC-q.7_peaks.narrowPeak | HEPG2 | treatment | 2 | narrow | 220768 |\n",
       "\n"
      ],
      "text/plain": [
       "  ID                                 Tissue Factor    Replicate Caller\n",
       "1 HEPG2-C1-ATAC-q.7_peaks.narrowPeak HEPG2  control   1         narrow\n",
       "2 HEPG2-C3-ATAC-q.7_peaks.narrowPeak HEPG2  control   3         narrow\n",
       "3 HEPG2-T1-ATAC-q.7_peaks.narrowPeak HEPG2  treatment 1         narrow\n",
       "4 HEPG2-T2-ATAC-q.7_peaks.narrowPeak HEPG2  treatment 2         narrow\n",
       "  Intervals\n",
       "1 241002   \n",
       "2 181583   \n",
       "3 164857   \n",
       "4 220768   "
      ]
     },
     "metadata": {},
     "output_type": "display_data"
    }
   ],
   "source": [
    "dba.show(hepg2)"
   ]
  },
  {
   "cell_type": "markdown",
   "id": "e2f5233c-69fe-4f26-9683-2b19ff81e9a9",
   "metadata": {},
   "source": [
    "## make HepG2 control normalized readcount matrix\n",
    "- minoverlap=2\n",
    "- recenter peaks over summit and compute +/- 200 bp around summit"
   ]
  },
  {
   "cell_type": "markdown",
   "id": "2235bca0-6c4a-4591-9488-ba7ec87a0548",
   "metadata": {},
   "source": [
    "### all"
   ]
  },
  {
   "cell_type": "code",
   "execution_count": 6,
   "id": "477321a7-0acc-4e07-88b1-5cc6ffd4a076",
   "metadata": {},
   "outputs": [
    {
     "name": "stderr",
     "output_type": "stream",
     "text": [
      "Computing summits...\n",
      "\n",
      "Re-centering peaks...\n",
      "\n"
     ]
    }
   ],
   "source": [
    "hepg2<- dba.count(hepg2)  # returns normalized count matrix\n",
    "\n",
    "counts <- dba.peakset(hepg2, bRetrieve=TRUE, writeFile=\"hepg2_counts.txt\")"
   ]
  },
  {
   "cell_type": "code",
   "execution_count": 7,
   "id": "56fe73a7-95b6-4420-bdce-c08a22af5590",
   "metadata": {},
   "outputs": [
    {
     "data": {
      "text/plain": [
       "GRanges object with 125443 ranges and 4 metadata columns:\n",
       "         seqnames            ranges strand | HEPG2.C1.ATAC.q.7_peaks.narrowPeak\n",
       "            <Rle>         <IRanges>  <Rle> |                          <numeric>\n",
       "       1     chr1        9905-10305      * |                           13.68835\n",
       "       2     chr1     180691-181091      * |                           30.97889\n",
       "       3     chr1     596496-596896      * |                            2.16132\n",
       "       4     chr1     598790-599190      * |                            2.88176\n",
       "       5     chr1     629742-630142      * |                          122.47470\n",
       "     ...      ...               ...    ... .                                ...\n",
       "  125439     chrY 56857905-56858305      * |                           2.161318\n",
       "  125440     chrY 56858838-56859238      * |                           1.440879\n",
       "  125441     chrY 56867714-56868114      * |                           0.720439\n",
       "  125442     chrY 56868754-56869154      * |                           0.720439\n",
       "  125443     chrY 56870715-56871115      * |                           1.440879\n",
       "         HEPG2.C3.ATAC.q.7_peaks.narrowPeak HEPG2.T1.ATAC.q.7_peaks.narrowPeak\n",
       "                                  <numeric>                          <numeric>\n",
       "       1                           33.60088                           20.52170\n",
       "       2                           31.28357                           19.31454\n",
       "       3                            0.00000                            0.00000\n",
       "       4                            3.47595                            1.20716\n",
       "       5                          139.03810                          189.52397\n",
       "     ...                                ...                                ...\n",
       "  125439                            2.31730                            2.41432\n",
       "  125440                            2.31730                            1.20716\n",
       "  125441                            1.15865                            0.00000\n",
       "  125442                            0.00000                            3.62148\n",
       "  125443                            5.79325                            4.82864\n",
       "         HEPG2.T2.ATAC.q.7_peaks.narrowPeak\n",
       "                                  <numeric>\n",
       "       1                           23.90020\n",
       "       2                           23.90020\n",
       "       3                            4.34549\n",
       "       4                            3.25912\n",
       "       5                           99.94631\n",
       "     ...                                ...\n",
       "  125439                            1.08637\n",
       "  125440                            3.25912\n",
       "  125441                            5.43186\n",
       "  125442                            2.17275\n",
       "  125443                            0.00000\n",
       "  -------\n",
       "  seqinfo: 90 sequences from an unspecified genome; no seqlengths"
      ]
     },
     "metadata": {},
     "output_type": "display_data"
    }
   ],
   "source": [
    "counts"
   ]
  },
  {
   "cell_type": "markdown",
   "id": "37d79d47-a909-4b7f-99a8-60b60d7eb0d2",
   "metadata": {},
   "source": [
    "### Control"
   ]
  },
  {
   "cell_type": "code",
   "execution_count": null,
   "id": "bd9e7370-f195-4b97-a41d-0f0f64e40607",
   "metadata": {},
   "outputs": [],
   "source": [
    "hepg2c<- dba.count(hepg2c)  # returns normalized count matrix\n",
    "\n",
    "counts <- dba.peakset(hepg2c, bRetrieve=TRUE, writeFile=\"hepg2c_counts.txt\")"
   ]
  },
  {
   "cell_type": "markdown",
   "id": "ab518cce-b264-433f-b85d-a0d955a069f9",
   "metadata": {},
   "source": [
    "### treated"
   ]
  },
  {
   "cell_type": "code",
   "execution_count": 59,
   "id": "1aedf1ed-fcef-4cdf-8e6f-04493853d260",
   "metadata": {},
   "outputs": [
    {
     "name": "stderr",
     "output_type": "stream",
     "text": [
      "Computing summits...\n",
      "\n",
      "Re-centering peaks...\n",
      "\n"
     ]
    }
   ],
   "source": [
    "hepg2t<- dba.count(hepg2t)  # returns normalized count matrix\n",
    "\n",
    "counts <- dba.peakset(hepg2t, bRetrieve=TRUE, writeFile=\"hepg2t_counts.txt\")"
   ]
  }
 ],
 "metadata": {
  "kernelspec": {
   "display_name": "R",
   "language": "R",
   "name": "ir"
  },
  "language_info": {
   "codemirror_mode": "r",
   "file_extension": ".r",
   "mimetype": "text/x-r-source",
   "name": "R",
   "pygments_lexer": "r",
   "version": "4.3.1"
  },
  "toc": {
   "base_numbering": 1,
   "nav_menu": {},
   "number_sections": true,
   "sideBar": true,
   "skip_h1_title": false,
   "title_cell": "Table of Contents",
   "title_sidebar": "Contents",
   "toc_cell": false,
   "toc_position": {},
   "toc_section_display": true,
   "toc_window_display": false
  },
  "varInspector": {
   "cols": {
    "lenName": 16,
    "lenType": 16,
    "lenVar": 40
   },
   "kernels_config": {
    "python": {
     "delete_cmd_postfix": "",
     "delete_cmd_prefix": "del ",
     "library": "var_list.py",
     "varRefreshCmd": "print(var_dic_list())"
    },
    "r": {
     "delete_cmd_postfix": ") ",
     "delete_cmd_prefix": "rm(",
     "library": "var_list.r",
     "varRefreshCmd": "cat(var_dic_list()) "
    }
   },
   "types_to_exclude": [
    "module",
    "function",
    "builtin_function_or_method",
    "instance",
    "_Feature"
   ],
   "window_display": false
  }
 },
 "nbformat": 4,
 "nbformat_minor": 5
}
