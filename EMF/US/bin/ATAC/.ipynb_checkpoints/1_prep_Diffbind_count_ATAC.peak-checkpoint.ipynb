{
 "cells": [
  {
   "cell_type": "markdown",
   "id": "a38fcfaa-77c1-4bfb-abe0-05dbc4e4e87d",
   "metadata": {},
   "source": [
    "20240124\n",
    "\n",
    "SarahFong\n",
    "\n",
    "Take output from DiffBind summarized peak and count matrix and prepare data for \n",
    "1. Clean diffbind normalized count data (remove bad coordinates)\n",
    "2. Mean normalized read count: take mean of normalized count peaks, per condition\n",
    "3. Trim peaks: center 270 bp\n",
    "4. Format dataframe for LegNet, multitask\n",
    "5. Split into training and test set - randomly hold out 2 chromosomes. \n",
    "6. Add fold num to training set"
   ]
  },
  {
   "cell_type": "code",
   "execution_count": 1,
   "id": "24791ba6-ba9e-47c8-99ff-824a21c53b9b",
   "metadata": {
    "ExecuteTime": {
     "end_time": "2024-01-29T20:11:13.538687Z",
     "start_time": "2024-01-29T20:10:27.027176Z"
    }
   },
   "outputs": [
    {
     "data": {
      "text/plain": [
       "('sans-serif', 'Arial', 18)"
      ]
     },
     "execution_count": 1,
     "metadata": {},
     "output_type": "execute_result"
    }
   ],
   "source": [
    "from Bio.SeqIO.FastaIO import SimpleFastaParser\n",
    "import matplotlib.pyplot as plt\n",
    "from matplotlib_venn import venn2\n",
    "import numpy as np\n",
    "import os, sys\n",
    "import pandas as pd\n",
    "import pybedtools as pbt\n",
    "\n",
    "from scipy import stats\n",
    "\n",
    "import seaborn as sns\n",
    "\n",
    "import warnings\n",
    "warnings.filterwarnings('ignore')\n",
    "\n",
    "import plot_params as pp\n",
    "pp.fonts()"
   ]
  },
  {
   "cell_type": "markdown",
   "id": "de4c9f36-8609-4502-8a4c-3279a57f5c77",
   "metadata": {},
   "source": [
    "# load data"
   ]
  },
  {
   "cell_type": "code",
   "execution_count": 2,
   "id": "15b0b616-7254-4b4e-be68-8d745f4a629f",
   "metadata": {
    "ExecuteTime": {
     "end_time": "2024-01-29T20:11:13.547875Z",
     "start_time": "2024-01-29T20:11:13.541560Z"
    }
   },
   "outputs": [],
   "source": [
    "PATH = \"/wynton/group/ahituv/data/US-MPRA/ATAC-seq\"\n",
    "os.chdir(PATH)\n",
    "\n",
    "# params\n",
    "CL = 'hepg2'\n",
    "ALL = f\"{CL}_counts.txt\"\n",
    "CONTROL = f\"{CL}c_counts.txt\"\n",
    "TREATED = f\"{CL}t_counts.txt\"\n",
    "\n",
    "# DESEQ2 information\n",
    "DIFF = './diffbind_results/hepg2_deseq2.csv'\n",
    "DIFF_BED = \"./\" + DIFF.strip(\".csv\") + \".bed\"\n",
    "\n",
    "# peak information\n",
    "PEAK_SIZE = 270\n",
    "\n",
    "# genome information\n",
    "HG38= \"/wynton/group/ahituv/data/dna/hg38/hg38.chrom.sizes\"\n",
    "FA_HG38=\"/wynton/group/ahituv/data/dna/hg38/hg38.fa\"\n",
    "\n",
    "# legnet OUTPUT files\n",
    "FULL = f\"{CL}.centered.coor.mean.reads.full.tsv\"\n",
    "HELD_OUT = f\"{CL}.heldoutchromosomes.tsv\"\n",
    "HELD_OUT_FA = f\"{CL}.heldoutchromosomes.fa\"\n",
    "TRAINING = f\"{CL}.training.tsv\""
   ]
  },
  {
   "cell_type": "markdown",
   "id": "1c13717b-4462-468b-aded-c85fa8632585",
   "metadata": {},
   "source": [
    "# functions"
   ]
  },
  {
   "cell_type": "markdown",
   "id": "6b1a306a-6a6f-4c5f-8c0c-ed8d27dc1153",
   "metadata": {},
   "source": [
    "## clean bed"
   ]
  },
  {
   "cell_type": "code",
   "execution_count": 3,
   "id": "f1e5e3b1-98ce-4ba9-b573-4213e3da74d0",
   "metadata": {
    "ExecuteTime": {
     "end_time": "2024-01-29T20:11:14.111857Z",
     "start_time": "2024-01-29T20:11:13.549902Z"
    }
   },
   "outputs": [],
   "source": [
    "def cleanBed(file):\n",
    "\n",
    "    # name of the outfile\n",
    "    outfile = \".\".join(file.split('.')[:-1]) + \".cleaned.bed\"\n",
    "\n",
    "    # python command for cleaning bed file\n",
    "    cmd = ' '.join([\n",
    "        \"python\", \n",
    "        \"/wynton/home/ahituv/fongsl/tools/genome/bed_clean.py\",  # custom script that removes bad coordinates (start>end, start<0)\n",
    "        file\n",
    "    ])\n",
    "\n",
    "    if os.path.exists(outfile) is False:  # if not already cleaned\n",
    "        os.system(cmd)  # execute command\n",
    "    else:\n",
    "        print(\"already made?\", outfile)\n",
    "\n",
    "    return outfile"
   ]
  },
  {
   "cell_type": "markdown",
   "id": "61b32da8-c08f-4840-ac7a-df3175679ae8",
   "metadata": {},
   "source": [
    "## compute replicate mean, peak centers"
   ]
  },
  {
   "cell_type": "code",
   "execution_count": 4,
   "id": "9bd307a4-c7c5-4209-8fab-1fc9c92ac061",
   "metadata": {
    "ExecuteTime": {
     "end_time": "2024-01-29T20:11:14.182877Z",
     "start_time": "2024-01-29T20:11:14.115252Z"
    }
   },
   "outputs": [],
   "source": [
    "def openDfComputeMean(file, cl, treatment):\n",
    "    \"\"\" compute mean of normalized read counts per cell line, treatment\n",
    "        inputs\n",
    "            file (str) - path to file to read\n",
    "            cl (str) - name of cell line\n",
    "            treatment(bool) - treated or not treated readcount values\n",
    "\n",
    "        method\n",
    "            1. open dataframe, name columns\n",
    "            2. determine number of replicates included in the dataframe\n",
    "            3. compute the mean normalized read count of the replicates, \n",
    "                print correlation\n",
    "            4. annotate with cl and treatment metadata, length, midpoints\n",
    "            5. drop zero values\n",
    "            6. write file\n",
    "\n",
    "        return \n",
    "            pd dataframe\n",
    "\n",
    "    \"\"\"\n",
    "    outfile = file.strip(\".bed\") + \".sum.bed\"\n",
    "\n",
    "# if os.path.exists(outfile) is False:\n",
    "\n",
    "    # 1 load and name columns\n",
    "    col_names = [\"#chr\", \"start\", \"end\", \"rep1\", \"rep2\", \"rep3\"]\n",
    "    df = pd.read_csv(file_clean, sep='\\t',\n",
    "                     header=None,\n",
    "                     )\n",
    "\n",
    "    # rename columns\n",
    "    df.columns = col_names[:len(list(df))]\n",
    "\n",
    "    # drop zeros\n",
    "    before = df.shape[0]\n",
    "    df = df[df != 0].dropna()\n",
    "    print(\"before zero drop\", before, \"after dropping zeros\", df.shape)\n",
    "\n",
    "    # 2 determine n reps\n",
    "    if \"rep3\" in list(df):\n",
    "        NREPS = 3\n",
    "    else:\n",
    "        NREPS = 2\n",
    "\n",
    "    # get replicate column names as list\n",
    "    rep_cols = list(df)[-NREPS:]\n",
    "\n",
    "    # 3 take mean of normalized readcounts for all N reps\n",
    "    print(\"rep normalized ATAC readcount correlation\", cl,\n",
    "          'treated', treatment, \"\\n\\n\", df[rep_cols].corr())\n",
    "    df[rep_cols] = df[rep_cols].astype(float)\n",
    "    \n",
    "    # mean and std\n",
    "    df[\"norm.readcount.mean\"] = df[rep_cols].mean(axis=1)\n",
    "    df[\"norm.readcount.std\"] = df[rep_cols].std(axis=1)\n",
    "\n",
    "    # 4 annotate metadata\n",
    "    df[\"cl\"] = cl\n",
    "    df[\"treatment\"] = treatment\n",
    "\n",
    "    df['len'] = df[\"end\"] - df[\"start\"]  # length of element\n",
    "    df[\"start_midpoint\"] = df[\"start\"] + df[\"len\"]/2  # element midpoint\n",
    "    # element end midpoint (remember, zero-start, half open)\n",
    "    df[\"end_midpoint\"] = df[\"start_midpoint\"] + 1\n",
    "    df[[\"start_midpoint\", \"end_midpoint\"]] = df[[\n",
    "        \"start_midpoint\", \"end_midpoint\"]].astype(int)\n",
    "\n",
    "    # 5 write\n",
    "    df.to_csv(outfile, sep='\\t', index=False)\n",
    "    # else:\n",
    "    #   df=pd.read_csv(outfile, sep='\\t')\n",
    "\n",
    "    return df, outfile"
   ]
  },
  {
   "cell_type": "markdown",
   "id": "44dc60b8-00a8-4904-b9a9-30757fca4446",
   "metadata": {},
   "source": [
    "## count pbt obj lines"
   ]
  },
  {
   "cell_type": "code",
   "execution_count": 5,
   "id": "cd9e3e4d-05c1-495e-86b9-2a20c7a32d31",
   "metadata": {
    "ExecuteTime": {
     "end_time": "2024-01-29T20:11:14.312135Z",
     "start_time": "2024-01-29T20:11:14.185102Z"
    }
   },
   "outputs": [],
   "source": [
    "def pbtCounter(pbt_obj):\n",
    "    \"\"\"count lines in pybedtool object, return count\"\"\"\n",
    "    \n",
    "    v = 0\n",
    "    for i in pbt_obj:\n",
    "        v+=1\n",
    "    print(v)\n",
    "    \n",
    "    return v"
   ]
  },
  {
   "cell_type": "markdown",
   "id": "cf8531bd-419d-4963-bfbe-fbc04d15a81a",
   "metadata": {},
   "source": [
    "## label elements w/ names"
   ]
  },
  {
   "cell_type": "code",
   "execution_count": 6,
   "id": "70c5993e-b492-48ac-b27e-423df1af4283",
   "metadata": {
    "ExecuteTime": {
     "end_time": "2024-01-29T20:11:14.381753Z",
     "start_time": "2024-01-29T20:11:14.315060Z"
    }
   },
   "outputs": [],
   "source": [
    "def labelDf(df, label_name, label_value):\n",
    "    \"\"\"add an indexed label to dataframe\"\"\"\n",
    "    df[\"label\"]= label_value\n",
    "    df[label_name]=label_value + \".\" + df.index.map(str)\n",
    "    \n",
    "    return df"
   ]
  },
  {
   "cell_type": "markdown",
   "id": "1fe8539a-2cd0-41d2-995f-71f99bb73ffb",
   "metadata": {},
   "source": [
    "## make fa into pd.df"
   ]
  },
  {
   "cell_type": "code",
   "execution_count": 7,
   "id": "af260271-5a56-4e0a-84fb-fe3b4de03521",
   "metadata": {
    "ExecuteTime": {
     "end_time": "2024-01-29T20:11:14.481766Z",
     "start_time": "2024-01-29T20:11:14.384089Z"
    }
   },
   "outputs": [],
   "source": [
    "def fastaDf(file):\n",
    "    \"\"\" turn fasta file into pd dataframe\"\"\"\n",
    "\n",
    "    fasta_df = {}\n",
    "    print(file)\n",
    "    \n",
    "    # parse open fasta file\n",
    "    with open(file, \"r\") as reader:\n",
    "        for value in SimpleFastaParser(reader):\n",
    "            seqid, seq = value\n",
    "            fasta_df[seqid] = seq\n",
    "            \n",
    "    # make dataframe\n",
    "    df = pd.DataFrame(fasta_df.items())\n",
    "\n",
    "    # name columns\n",
    "    df.columns = [\"seq.id\", \"seq\"]\n",
    "    return df"
   ]
  },
  {
   "cell_type": "markdown",
   "id": "0ba6c7d3-4107-4315-8748-e13b1108310b",
   "metadata": {},
   "source": [
    "## make chromosome list"
   ]
  },
  {
   "cell_type": "code",
   "execution_count": 8,
   "id": "947fbb71-5880-4453-8414-51db88678771",
   "metadata": {
    "ExecuteTime": {
     "end_time": "2024-01-29T20:11:14.988337Z",
     "start_time": "2024-01-29T20:11:14.484161Z"
    }
   },
   "outputs": [],
   "source": [
    "def chrList():\n",
    "    \"\"\"return  list of chromosomes\"\"\"\n",
    "    \n",
    "    chrs = []\n",
    "    \n",
    "    for n in np.arange(1,23):\n",
    "        chrs.append(f\"chr{n}\")\n",
    "    \n",
    "    # add sex chromosomes\n",
    "    chrs.append(\"chrX\")\n",
    "    chrs.append(\"chrY\")\n",
    "    \n",
    "    return chrs"
   ]
  },
  {
   "cell_type": "markdown",
   "id": "b6144f3a-643a-42f5-bacc-40d77de7f899",
   "metadata": {},
   "source": [
    "# Main"
   ]
  },
  {
   "cell_type": "markdown",
   "id": "9e6e23d8-f383-4567-a7bb-ad49825c524b",
   "metadata": {},
   "source": [
    "## clean bed files"
   ]
  },
  {
   "cell_type": "code",
   "execution_count": 9,
   "id": "98c744cd-5271-487e-af2a-7c37452cc5c1",
   "metadata": {
    "ExecuteTime": {
     "end_time": "2024-01-29T20:11:15.116814Z",
     "start_time": "2024-01-29T20:11:14.990395Z"
    }
   },
   "outputs": [
    {
     "name": "stdout",
     "output_type": "stream",
     "text": [
      "already made? hepg2c_counts.cleaned.bed\n",
      "already made? hepg2t_counts.cleaned.bed\n"
     ]
    }
   ],
   "source": [
    "# clean both files\n",
    "cleaned = []\n",
    "for file in [CONTROL, TREATED]:\n",
    "    cleaned.append(cleanBed(file))\n",
    "\n",
    "# make variables from cleaned list\n",
    "CLEAN_CONTROL, CLEAN_TREATED = cleaned"
   ]
  },
  {
   "cell_type": "code",
   "execution_count": 10,
   "id": "c4084153-4000-464c-a24d-516e8a747f54",
   "metadata": {
    "ExecuteTime": {
     "end_time": "2024-01-29T20:11:17.217202Z",
     "start_time": "2024-01-29T20:11:15.121105Z"
    }
   },
   "outputs": [
    {
     "name": "stdout",
     "output_type": "stream",
     "text": [
      "before zero drop 67447 after dropping zeros (67131, 5)\n",
      "rep normalized ATAC readcount correlation hepg2 treated False \n",
      "\n",
      "           rep1      rep2\n",
      "rep1  1.000000  0.968764\n",
      "rep2  0.968764  1.000000\n",
      "before zero drop 57397 after dropping zeros (57101, 5)\n",
      "rep normalized ATAC readcount correlation hepg2 treated True \n",
      "\n",
      "           rep1      rep2\n",
      "rep1  1.000000  0.977277\n",
      "rep2  0.977277  1.000000\n"
     ]
    },
    {
     "data": {
      "text/html": [
       "<div>\n",
       "<style scoped>\n",
       "    .dataframe tbody tr th:only-of-type {\n",
       "        vertical-align: middle;\n",
       "    }\n",
       "\n",
       "    .dataframe tbody tr th {\n",
       "        vertical-align: top;\n",
       "    }\n",
       "\n",
       "    .dataframe thead th {\n",
       "        text-align: right;\n",
       "    }\n",
       "</style>\n",
       "<table border=\"1\" class=\"dataframe\">\n",
       "  <thead>\n",
       "    <tr style=\"text-align: right;\">\n",
       "      <th></th>\n",
       "      <th>#chr</th>\n",
       "      <th>start</th>\n",
       "      <th>end</th>\n",
       "      <th>rep1</th>\n",
       "      <th>rep2</th>\n",
       "      <th>norm.readcount.mean</th>\n",
       "      <th>norm.readcount.std</th>\n",
       "      <th>cl</th>\n",
       "      <th>treatment</th>\n",
       "      <th>len</th>\n",
       "      <th>start_midpoint</th>\n",
       "      <th>end_midpoint</th>\n",
       "    </tr>\n",
       "  </thead>\n",
       "  <tbody>\n",
       "    <tr>\n",
       "      <th>0</th>\n",
       "      <td>chr1</td>\n",
       "      <td>9902</td>\n",
       "      <td>10302</td>\n",
       "      <td>17.945055</td>\n",
       "      <td>20.899360</td>\n",
       "      <td>19.422208</td>\n",
       "      <td>2.089010</td>\n",
       "      <td>hepg2</td>\n",
       "      <td>True</td>\n",
       "      <td>400</td>\n",
       "      <td>10102</td>\n",
       "      <td>10103</td>\n",
       "    </tr>\n",
       "    <tr>\n",
       "      <th>0</th>\n",
       "      <td>chr1</td>\n",
       "      <td>9906</td>\n",
       "      <td>10306</td>\n",
       "      <td>15.407020</td>\n",
       "      <td>37.819709</td>\n",
       "      <td>26.613365</td>\n",
       "      <td>15.848164</td>\n",
       "      <td>hepg2</td>\n",
       "      <td>False</td>\n",
       "      <td>400</td>\n",
       "      <td>10106</td>\n",
       "      <td>10107</td>\n",
       "    </tr>\n",
       "    <tr>\n",
       "      <th>1</th>\n",
       "      <td>chr1</td>\n",
       "      <td>180689</td>\n",
       "      <td>181089</td>\n",
       "      <td>34.868520</td>\n",
       "      <td>35.211454</td>\n",
       "      <td>35.039987</td>\n",
       "      <td>0.242491</td>\n",
       "      <td>hepg2</td>\n",
       "      <td>False</td>\n",
       "      <td>400</td>\n",
       "      <td>180889</td>\n",
       "      <td>180890</td>\n",
       "    </tr>\n",
       "    <tr>\n",
       "      <th>2</th>\n",
       "      <td>chr1</td>\n",
       "      <td>180693</td>\n",
       "      <td>181093</td>\n",
       "      <td>16.889463</td>\n",
       "      <td>20.899360</td>\n",
       "      <td>18.894412</td>\n",
       "      <td>2.835425</td>\n",
       "      <td>hepg2</td>\n",
       "      <td>True</td>\n",
       "      <td>400</td>\n",
       "      <td>180893</td>\n",
       "      <td>180894</td>\n",
       "    </tr>\n",
       "    <tr>\n",
       "      <th>2</th>\n",
       "      <td>chr1</td>\n",
       "      <td>598813</td>\n",
       "      <td>599213</td>\n",
       "      <td>3.243583</td>\n",
       "      <td>3.912384</td>\n",
       "      <td>3.577983</td>\n",
       "      <td>0.472913</td>\n",
       "      <td>hepg2</td>\n",
       "      <td>False</td>\n",
       "      <td>400</td>\n",
       "      <td>599013</td>\n",
       "      <td>599014</td>\n",
       "    </tr>\n",
       "  </tbody>\n",
       "</table>\n",
       "</div>"
      ],
      "text/plain": [
       "   #chr   start     end       rep1       rep2  norm.readcount.mean  \\\n",
       "0  chr1    9902   10302  17.945055  20.899360            19.422208   \n",
       "0  chr1    9906   10306  15.407020  37.819709            26.613365   \n",
       "1  chr1  180689  181089  34.868520  35.211454            35.039987   \n",
       "2  chr1  180693  181093  16.889463  20.899360            18.894412   \n",
       "2  chr1  598813  599213   3.243583   3.912384             3.577983   \n",
       "\n",
       "   norm.readcount.std     cl  treatment  len  start_midpoint  end_midpoint  \n",
       "0            2.089010  hepg2       True  400           10102         10103  \n",
       "0           15.848164  hepg2      False  400           10106         10107  \n",
       "1            0.242491  hepg2      False  400          180889        180890  \n",
       "2            2.835425  hepg2       True  400          180893        180894  \n",
       "2            0.472913  hepg2      False  400          599013        599014  "
      ]
     },
     "execution_count": 10,
     "metadata": {},
     "output_type": "execute_result"
    }
   ],
   "source": [
    "results = {}\n",
    "summary_beds = []\n",
    "for file_clean in cleaned:\n",
    "    \n",
    "    treatment = False  # annotate treatment from filename\n",
    "    \n",
    "    if \"t_\" in file_clean:\n",
    "         treatment = True\n",
    "    df, outfile = openDfComputeMean(file_clean, CL, treatment)\n",
    "    results[file_clean] = df\n",
    "    summary_beds.append(outfile)\n",
    "\n",
    "df = pd.concat(results.values())\n",
    "df.sort_values(by=['#chr', \"start\", \"end\"]).head()"
   ]
  },
  {
   "cell_type": "markdown",
   "id": "2426c4ed-ce34-429f-9692-7b97e50547e4",
   "metadata": {},
   "source": [
    "### summary stats of ctrl, US peaks"
   ]
  },
  {
   "cell_type": "code",
   "execution_count": 11,
   "id": "1d272c1a-bcb6-42be-aa37-0fb35b0f2173",
   "metadata": {
    "ExecuteTime": {
     "end_time": "2024-01-29T20:11:17.232631Z",
     "start_time": "2024-01-29T20:11:17.219564Z"
    }
   },
   "outputs": [
    {
     "data": {
      "text/plain": [
       "{False, True}"
      ]
     },
     "execution_count": 11,
     "metadata": {},
     "output_type": "execute_result"
    }
   ],
   "source": [
    "set(df[\"treatment\"])"
   ]
  },
  {
   "cell_type": "code",
   "execution_count": 12,
   "id": "ff8b49c6-91e8-4000-af1d-a870f2d95925",
   "metadata": {
    "ExecuteTime": {
     "end_time": "2024-01-29T20:11:17.445035Z",
     "start_time": "2024-01-29T20:11:17.234572Z"
    }
   },
   "outputs": [
    {
     "data": {
      "text/html": [
       "<div>\n",
       "<style scoped>\n",
       "    .dataframe tbody tr th:only-of-type {\n",
       "        vertical-align: middle;\n",
       "    }\n",
       "\n",
       "    .dataframe tbody tr th {\n",
       "        vertical-align: top;\n",
       "    }\n",
       "\n",
       "    .dataframe thead th {\n",
       "        text-align: right;\n",
       "    }\n",
       "</style>\n",
       "<table border=\"1\" class=\"dataframe\">\n",
       "  <thead>\n",
       "    <tr style=\"text-align: right;\">\n",
       "      <th></th>\n",
       "      <th>treatment</th>\n",
       "      <th>False</th>\n",
       "      <th>True</th>\n",
       "    </tr>\n",
       "  </thead>\n",
       "  <tbody>\n",
       "    <tr>\n",
       "      <th rowspan=\"8\" valign=\"top\">norm.readcount.mean</th>\n",
       "      <th>count</th>\n",
       "      <td>67131.000000</td>\n",
       "      <td>57101.000000</td>\n",
       "    </tr>\n",
       "    <tr>\n",
       "      <th>mean</th>\n",
       "      <td>31.778828</td>\n",
       "      <td>25.964319</td>\n",
       "    </tr>\n",
       "    <tr>\n",
       "      <th>std</th>\n",
       "      <td>47.319029</td>\n",
       "      <td>39.221147</td>\n",
       "    </tr>\n",
       "    <tr>\n",
       "      <th>min</th>\n",
       "      <td>1.709576</td>\n",
       "      <td>1.530577</td>\n",
       "    </tr>\n",
       "    <tr>\n",
       "      <th>25%</th>\n",
       "      <td>7.561415</td>\n",
       "      <td>6.438862</td>\n",
       "    </tr>\n",
       "    <tr>\n",
       "      <th>50%</th>\n",
       "      <td>15.193877</td>\n",
       "      <td>12.508360</td>\n",
       "    </tr>\n",
       "    <tr>\n",
       "      <th>75%</th>\n",
       "      <td>35.056723</td>\n",
       "      <td>28.236304</td>\n",
       "    </tr>\n",
       "    <tr>\n",
       "      <th>max</th>\n",
       "      <td>1426.069100</td>\n",
       "      <td>1224.450790</td>\n",
       "    </tr>\n",
       "    <tr>\n",
       "      <th rowspan=\"8\" valign=\"top\">norm.readcount.std</th>\n",
       "      <th>count</th>\n",
       "      <td>67131.000000</td>\n",
       "      <td>57101.000000</td>\n",
       "    </tr>\n",
       "    <tr>\n",
       "      <th>mean</th>\n",
       "      <td>5.863965</td>\n",
       "      <td>5.986880</td>\n",
       "    </tr>\n",
       "    <tr>\n",
       "      <th>std</th>\n",
       "      <td>7.695722</td>\n",
       "      <td>9.260689</td>\n",
       "    </tr>\n",
       "    <tr>\n",
       "      <th>min</th>\n",
       "      <td>0.005801</td>\n",
       "      <td>0.000434</td>\n",
       "    </tr>\n",
       "    <tr>\n",
       "      <th>25%</th>\n",
       "      <td>1.294594</td>\n",
       "      <td>1.119407</td>\n",
       "    </tr>\n",
       "    <tr>\n",
       "      <th>50%</th>\n",
       "      <td>3.192048</td>\n",
       "      <td>2.762043</td>\n",
       "    </tr>\n",
       "    <tr>\n",
       "      <th>75%</th>\n",
       "      <td>7.471471</td>\n",
       "      <td>6.867547</td>\n",
       "    </tr>\n",
       "    <tr>\n",
       "      <th>max</th>\n",
       "      <td>334.297731</td>\n",
       "      <td>186.653883</td>\n",
       "    </tr>\n",
       "  </tbody>\n",
       "</table>\n",
       "</div>"
      ],
      "text/plain": [
       "treatment                         False         True \n",
       "norm.readcount.mean count  67131.000000  57101.000000\n",
       "                    mean      31.778828     25.964319\n",
       "                    std       47.319029     39.221147\n",
       "                    min        1.709576      1.530577\n",
       "                    25%        7.561415      6.438862\n",
       "                    50%       15.193877     12.508360\n",
       "                    75%       35.056723     28.236304\n",
       "                    max     1426.069100   1224.450790\n",
       "norm.readcount.std  count  67131.000000  57101.000000\n",
       "                    mean       5.863965      5.986880\n",
       "                    std        7.695722      9.260689\n",
       "                    min        0.005801      0.000434\n",
       "                    25%        1.294594      1.119407\n",
       "                    50%        3.192048      2.762043\n",
       "                    75%        7.471471      6.867547\n",
       "                    max      334.297731    186.653883"
      ]
     },
     "execution_count": 12,
     "metadata": {},
     "output_type": "execute_result"
    }
   ],
   "source": [
    "df.groupby(\"treatment\")[[\"norm.readcount.mean\", \"norm.readcount.std\"]].describe().T"
   ]
  },
  {
   "cell_type": "markdown",
   "id": "cb852987-e5b9-4644-8c44-35f59a2e1c3d",
   "metadata": {},
   "source": [
    "### mean v. standard deviation"
   ]
  },
  {
   "cell_type": "code",
   "execution_count": 13,
   "id": "86eb9a0b-bbb1-47ee-9272-8e4d58392dbe",
   "metadata": {
    "ExecuteTime": {
     "end_time": "2024-01-29T20:11:37.216537Z",
     "start_time": "2024-01-29T20:11:17.447377Z"
    }
   },
   "outputs": [
    {
     "data": {
      "text/plain": [
       "<seaborn.axisgrid.JointGrid at 0x7f3ce741ba00>"
      ]
     },
     "execution_count": 13,
     "metadata": {},
     "output_type": "execute_result"
    },
    {
     "data": {
      "image/png": "[encoded data removed]",
      "text/plain": [
       "<Figure size 600x600 with 3 Axes>"
      ]
     },
     "metadata": {},
     "output_type": "display_data"
    }
   ],
   "source": [
    "x = \"norm.readcount.mean\"\n",
    "y=\"norm.readcount.std\"\n",
    "data=df\n",
    "hue=\"treatment\"\n",
    "sns.jointplot(x=x, y=y, data=data, hue=hue, alpha=0.3)"
   ]
  },
  {
   "cell_type": "code",
   "execution_count": 14,
   "id": "2a8c1812-5433-4e24-a49a-5155a325fc66",
   "metadata": {
    "ExecuteTime": {
     "end_time": "2024-01-29T20:11:37.373025Z",
     "start_time": "2024-01-29T20:11:37.219298Z"
    }
   },
   "outputs": [
    {
     "data": {
      "text/plain": [
       "MannwhitneyuResult(statistic=2109644259.0, pvalue=3.5557576092682795e-206)"
      ]
     },
     "execution_count": 14,
     "metadata": {},
     "output_type": "execute_result"
    }
   ],
   "source": [
    "# are the readcount distributions from the same distribution or different distributions? \n",
    "stats.mannwhitneyu(df.loc[df[\"treatment\"]==False, \"norm.readcount.mean\"], \n",
    "          df.loc[df[\"treatment\"]!=False, \"norm.readcount.mean\"]\n",
    "         )"
   ]
  },
  {
   "cell_type": "markdown",
   "id": "7188ce2e-8b26-41a5-b380-75f263d5e6dc",
   "metadata": {},
   "source": [
    "## problem - need to intersect peaks between datasets"
   ]
  },
  {
   "cell_type": "code",
   "execution_count": 15,
   "id": "b03bbcae-dd91-43d4-bff3-11447c240fdd",
   "metadata": {
    "ExecuteTime": {
     "end_time": "2024-01-29T20:11:37.532213Z",
     "start_time": "2024-01-29T20:11:37.374891Z"
    }
   },
   "outputs": [
    {
     "data": {
      "text/html": [
       "<div>\n",
       "<style scoped>\n",
       "    .dataframe tbody tr th:only-of-type {\n",
       "        vertical-align: middle;\n",
       "    }\n",
       "\n",
       "    .dataframe tbody tr th {\n",
       "        vertical-align: top;\n",
       "    }\n",
       "\n",
       "    .dataframe thead th {\n",
       "        text-align: right;\n",
       "    }\n",
       "</style>\n",
       "<table border=\"1\" class=\"dataframe\">\n",
       "  <thead>\n",
       "    <tr style=\"text-align: right;\">\n",
       "      <th></th>\n",
       "      <th></th>\n",
       "      <th>treatment</th>\n",
       "      <th>False</th>\n",
       "      <th>True</th>\n",
       "    </tr>\n",
       "    <tr>\n",
       "      <th>#chr</th>\n",
       "      <th>start</th>\n",
       "      <th>end</th>\n",
       "      <th></th>\n",
       "      <th></th>\n",
       "    </tr>\n",
       "  </thead>\n",
       "  <tbody>\n",
       "    <tr>\n",
       "      <th rowspan=\"5\" valign=\"top\">chr1</th>\n",
       "      <th>9902</th>\n",
       "      <th>10302</th>\n",
       "      <td>NaN</td>\n",
       "      <td>19.422208</td>\n",
       "    </tr>\n",
       "    <tr>\n",
       "      <th>9906</th>\n",
       "      <th>10306</th>\n",
       "      <td>26.613365</td>\n",
       "      <td>NaN</td>\n",
       "    </tr>\n",
       "    <tr>\n",
       "      <th>180689</th>\n",
       "      <th>181089</th>\n",
       "      <td>35.039987</td>\n",
       "      <td>NaN</td>\n",
       "    </tr>\n",
       "    <tr>\n",
       "      <th>180693</th>\n",
       "      <th>181093</th>\n",
       "      <td>NaN</td>\n",
       "      <td>18.894412</td>\n",
       "    </tr>\n",
       "    <tr>\n",
       "      <th>598813</th>\n",
       "      <th>599213</th>\n",
       "      <td>3.577983</td>\n",
       "      <td>NaN</td>\n",
       "    </tr>\n",
       "    <tr>\n",
       "      <th>...</th>\n",
       "      <th>...</th>\n",
       "      <th>...</th>\n",
       "      <td>...</td>\n",
       "      <td>...</td>\n",
       "    </tr>\n",
       "    <tr>\n",
       "      <th rowspan=\"5\" valign=\"top\">chrY</th>\n",
       "      <th>56763320</th>\n",
       "      <th>56763720</th>\n",
       "      <td>NaN</td>\n",
       "      <td>6.966658</td>\n",
       "    </tr>\n",
       "    <tr>\n",
       "      <th>56832547</th>\n",
       "      <th>56832947</th>\n",
       "      <td>NaN</td>\n",
       "      <td>9.394396</td>\n",
       "    </tr>\n",
       "    <tr>\n",
       "      <th>56833244</th>\n",
       "      <th>56833644</th>\n",
       "      <td>NaN</td>\n",
       "      <td>11.083403</td>\n",
       "    </tr>\n",
       "    <tr>\n",
       "      <th>56839164</th>\n",
       "      <th>56839564</th>\n",
       "      <td>11.314967</td>\n",
       "      <td>NaN</td>\n",
       "    </tr>\n",
       "    <tr>\n",
       "      <th>56850929</th>\n",
       "      <th>56851329</th>\n",
       "      <td>3.331367</td>\n",
       "      <td>NaN</td>\n",
       "    </tr>\n",
       "  </tbody>\n",
       "</table>\n",
       "<p>123504 rows × 2 columns</p>\n",
       "</div>"
      ],
      "text/plain": [
       "treatment                   False      True \n",
       "#chr start    end                           \n",
       "chr1 9902     10302           NaN  19.422208\n",
       "     9906     10306     26.613365        NaN\n",
       "     180689   181089    35.039987        NaN\n",
       "     180693   181093          NaN  18.894412\n",
       "     598813   599213     3.577983        NaN\n",
       "...                           ...        ...\n",
       "chrY 56763320 56763720        NaN   6.966658\n",
       "     56832547 56832947        NaN   9.394396\n",
       "     56833244 56833644        NaN  11.083403\n",
       "     56839164 56839564  11.314967        NaN\n",
       "     56850929 56851329   3.331367        NaN\n",
       "\n",
       "[123504 rows x 2 columns]"
      ]
     },
     "execution_count": 15,
     "metadata": {},
     "output_type": "execute_result"
    }
   ],
   "source": [
    "pd.pivot(df, index=['#chr', 'start', 'end'], columns = \"treatment\", values=\"norm.readcount.mean\")"
   ]
  },
  {
   "cell_type": "markdown",
   "id": "c4fb3437-9cf2-4aec-81b8-5e141ec1a35b",
   "metadata": {},
   "source": [
    "## Solution\n",
    "\n",
    "- bedtools intersect ctrl and treatment with -wa -wb (write both read count values)\n",
    "- bedtools subtract ctrl from treatment (-v to keep treatment-only peaks)\n",
    "- bedtools subtract treatment from control (-v to keep ctrl-only peaks)"
   ]
  },
  {
   "cell_type": "markdown",
   "id": "6927ebc9",
   "metadata": {},
   "source": [
    "# bedtools intersections"
   ]
  },
  {
   "cell_type": "markdown",
   "id": "9e43b5e6-e6b3-4e35-a302-23b5bf1aa82a",
   "metadata": {},
   "source": [
    "## convert diffbind.csv to diffbind.bed"
   ]
  },
  {
   "cell_type": "code",
   "execution_count": 16,
   "id": "037f5356-7a30-432b-a4ef-4ee5688545c7",
   "metadata": {
    "ExecuteTime": {
     "end_time": "2024-01-29T20:11:37.538629Z",
     "start_time": "2024-01-29T20:11:37.534101Z"
    }
   },
   "outputs": [],
   "source": [
    "# open csv, make it a bed\n",
    "if os.path.exists(DIFF_BED) is False:\n",
    "    diff = pd.read_csv(DIFF)\n",
    "    diff.rename(columns={\"seqnames\":\"#chr\"}, inplace=True)\n",
    "\n",
    "    # keep only some columns\n",
    "    dif_cols = [\n",
    "                '#chr',\n",
    "                'start',\n",
    "                'end',\n",
    "                'width',\n",
    "                'strand',\n",
    "                'Conc',\n",
    "                'Conc_Ultrasound',\n",
    "                'Conc_Control'\n",
    "    ]\n",
    "    diff[dif_cols].to_csv(DIFF_BED, sep='\\t', index=False)"
   ]
  },
  {
   "cell_type": "markdown",
   "id": "1e64c35f-87d9-4f77-9e2c-f8257fb59c86",
   "metadata": {},
   "source": [
    "## make bedtool objects"
   ]
  },
  {
   "cell_type": "code",
   "execution_count": 17,
   "id": "35992d0b-088c-4e0b-aab4-45d39f99783a",
   "metadata": {
    "ExecuteTime": {
     "end_time": "2024-01-29T20:11:44.848733Z",
     "start_time": "2024-01-29T20:11:37.540429Z"
    }
   },
   "outputs": [],
   "source": [
    "ctrl = pbt.BedTool(summary_beds[0])\n",
    "trmt = pbt.BedTool(summary_beds[1])\n",
    "diffbind = pbt.BedTool(DIFF_BED)"
   ]
  },
  {
   "cell_type": "markdown",
   "id": "0bf79254-34b6-4c5e-928f-93517bec297d",
   "metadata": {},
   "source": [
    "## Joint Peaks"
   ]
  },
  {
   "cell_type": "code",
   "execution_count": 18,
   "id": "e9d3a631-f0c6-465f-ab33-0ed73acb1d27",
   "metadata": {
    "ExecuteTime": {
     "end_time": "2024-01-29T20:11:46.182735Z",
     "start_time": "2024-01-29T20:11:44.851457Z"
    }
   },
   "outputs": [
    {
     "name": "stdout",
     "output_type": "stream",
     "text": [
      "39415\n"
     ]
    }
   ],
   "source": [
    "OUTFILE = f\"{CL}.clean.summary.joint.bed\"\n",
    "\n",
    "# write intersection of a and b, requiring 50% reciprocal overlap (N=39512)\n",
    "joint = ctrl.intersect(trmt, wa=True, wb=True, \n",
    "                       f=0.5, r=True, \n",
    "                       output=OUTFILE\n",
    "                      )\n",
    "\n",
    "# count how many overlaps there are\n",
    "n_joint = pbtCounter(joint)"
   ]
  },
  {
   "cell_type": "markdown",
   "id": "0c9ce08e-43cb-4cd2-b696-fa75a79264c8",
   "metadata": {},
   "source": [
    "## treatment-only peaks"
   ]
  },
  {
   "cell_type": "code",
   "execution_count": 19,
   "id": "9e2b1c84-58d4-4012-94fa-0e889d2b328f",
   "metadata": {
    "ExecuteTime": {
     "end_time": "2024-01-29T20:11:46.989666Z",
     "start_time": "2024-01-29T20:11:46.185484Z"
    }
   },
   "outputs": [
    {
     "name": "stdout",
     "output_type": "stream",
     "text": [
      "16560\n"
     ]
    }
   ],
   "source": [
    "OUTFILE = f\"{CL}.clean.summary.treatmentOnly.bed\"\n",
    "\n",
    "# write intersection of a and b, requiring 50% reciprocal overlap (N=39512)\n",
    "trmt_only = trmt.intersect(ctrl, wa=True, \n",
    "                           v=True, \n",
    "                       output=OUTFILE\n",
    "                      )\n",
    "\n",
    "# count how many overlaps there are\n",
    "n_treatmentonly = pbtCounter(trmt_only)"
   ]
  },
  {
   "cell_type": "markdown",
   "id": "0126227b-af0d-4b6c-ab08-231140d81b72",
   "metadata": {},
   "source": [
    "## ctrl-only peaks"
   ]
  },
  {
   "cell_type": "code",
   "execution_count": 20,
   "id": "f8b24b3f-db1f-4e23-9cab-d5461c162091",
   "metadata": {
    "ExecuteTime": {
     "end_time": "2024-01-29T20:11:47.843409Z",
     "start_time": "2024-01-29T20:11:46.992305Z"
    }
   },
   "outputs": [
    {
     "name": "stdout",
     "output_type": "stream",
     "text": [
      "26540\n"
     ]
    }
   ],
   "source": [
    "OUTFILE = f\"{CL}.clean.summary.ctrlOnly.bed\"\n",
    "\n",
    "# write intersection of a and b, requiring 50% reciprocal overlap (N=39512)\n",
    "ctrl_only = ctrl.intersect(trmt, wa=True,\n",
    "                           v=True,\n",
    "                           output=OUTFILE\n",
    "                           )\n",
    "\n",
    "# count how many overlaps there are\n",
    "n_ctrlonly = pbtCounter(ctrl_only)"
   ]
  },
  {
   "cell_type": "markdown",
   "id": "de87fead",
   "metadata": {},
   "source": [
    "### peak overlap"
   ]
  },
  {
   "cell_type": "code",
   "execution_count": 21,
   "id": "6fec8068",
   "metadata": {
    "ExecuteTime": {
     "end_time": "2024-01-29T20:11:48.144994Z",
     "start_time": "2024-01-29T20:11:47.846271Z"
    }
   },
   "outputs": [
    {
     "data": {
      "text/plain": [
       "<matplotlib_venn._common.VennDiagram at 0x7f3ce72bd490>"
      ]
     },
     "execution_count": 21,
     "metadata": {},
     "output_type": "execute_result"
    },
    {
     "data": {
      "image/png": "[encoded data removed]",
      "text/plain": [
       "<Figure size 640x480 with 1 Axes>"
      ]
     },
     "metadata": {},
     "output_type": "display_data"
    }
   ],
   "source": [
    "venn2(subsets = (n_treatmentonly, n_ctrlonly, n_joint), \n",
    "      set_labels=[\"US-only peak\", \"CTRL-only peak\", \"Joint Acc. peak\"])"
   ]
  },
  {
   "cell_type": "markdown",
   "id": "fe8b7d8a-2bca-49b6-8220-dc2725e5c4df",
   "metadata": {},
   "source": [
    "## diffbind_intersections"
   ]
  },
  {
   "cell_type": "markdown",
   "id": "219b149b-ef5d-4b84-b6bc-aaf96a008d4f",
   "metadata": {},
   "source": [
    "### with ctrl-only peaks"
   ]
  },
  {
   "cell_type": "code",
   "execution_count": 22,
   "id": "fb42d8c0-4b89-48a4-8444-3693c7a14088",
   "metadata": {
    "ExecuteTime": {
     "end_time": "2024-01-29T20:11:48.287384Z",
     "start_time": "2024-01-29T20:11:48.146907Z"
    }
   },
   "outputs": [
    {
     "name": "stdout",
     "output_type": "stream",
     "text": [
      "535\n"
     ]
    }
   ],
   "source": [
    "# does diffbind overlap with control? \n",
    "OUTFILE = f\"{CL}.clean.summary.ctrl.x.diffbind.bed\"\n",
    "\n",
    "# write intersection of a and b, requiring 50% reciprocal overlap (N=39512)\n",
    "ctrl_diffbind = ctrl_only.intersect(diffbind, wa=True,  f=0.5,\n",
    "                       output=OUTFILE\n",
    "                      )\n",
    "\n",
    "# count how many overlaps there are\n",
    "ctrl_diffbindn = pbtCounter(ctrl_diffbind)"
   ]
  },
  {
   "cell_type": "markdown",
   "id": "29ae06a2-5389-4c8a-9c35-5bfd4c8fc667",
   "metadata": {},
   "source": [
    " ### with treatment only peaks"
   ]
  },
  {
   "cell_type": "code",
   "execution_count": 23,
   "id": "0c4cff83-ad0f-44b8-b687-6b6dd3f3f9ad",
   "metadata": {
    "ExecuteTime": {
     "end_time": "2024-01-29T20:11:48.453243Z",
     "start_time": "2024-01-29T20:11:48.289683Z"
    }
   },
   "outputs": [
    {
     "name": "stdout",
     "output_type": "stream",
     "text": [
      "424\n"
     ]
    }
   ],
   "source": [
    "# does diffbind overlap with treatment peaks? \n",
    "OUTFILE = f\"{CL}.clean.summary.trmt.x.diffbind.bed\"\n",
    "\n",
    "# write intersection of a and b, requiring 50% reciprocal overlap (N=39512)\n",
    "trmt_diffbind = trmt_only.intersect(diffbind, wa=True,  f=0.5,\n",
    "                       output=OUTFILE\n",
    "                      )\n",
    "\n",
    "# count how many overlaps there are\n",
    "trmt_diffbindn = pbtCounter(trmt_diffbind)"
   ]
  },
  {
   "cell_type": "markdown",
   "id": "c5201fe0-a263-4c0a-922c-3f2409ab6694",
   "metadata": {},
   "source": [
    "### for peaks accessible in both"
   ]
  },
  {
   "cell_type": "code",
   "execution_count": 24,
   "id": "8013ff3f-c43f-4d1e-a3e8-fee393b4bcee",
   "metadata": {
    "ExecuteTime": {
     "end_time": "2024-01-29T20:11:48.805879Z",
     "start_time": "2024-01-29T20:11:48.456286Z"
    }
   },
   "outputs": [
    {
     "name": "stdout",
     "output_type": "stream",
     "text": [
      "334\n"
     ]
    }
   ],
   "source": [
    "OUTFILE = f\"{CL}.clean.summary.joint.x.diffbind.bed\"\n",
    "\n",
    "# write intersection of a and b, requiring 50% reciprocal overlap (N=39512)\n",
    "jnt_diffbind = joint.intersect(diffbind, wa=True,  f=0.5,\n",
    "                       output=OUTFILE\n",
    "                      )\n",
    "\n",
    "# count how many overlaps there are\n",
    "jnt_diffbindn = pbtCounter(jnt_diffbind)"
   ]
  },
  {
   "cell_type": "markdown",
   "id": "99a4d8c6-c546-4ab7-96c7-3e1d6a6a66c0",
   "metadata": {},
   "source": [
    "### sum of diffbind peaks"
   ]
  },
  {
   "cell_type": "code",
   "execution_count": 25,
   "id": "e2be2969-16db-4267-8acc-bf33c77063dc",
   "metadata": {
    "ExecuteTime": {
     "end_time": "2024-01-29T20:11:48.828139Z",
     "start_time": "2024-01-29T20:11:48.808405Z"
    }
   },
   "outputs": [
    {
     "name": "stdout",
     "output_type": "stream",
     "text": [
      "1916\n"
     ]
    },
    {
     "data": {
      "text/plain": [
       "0.6748434237995825"
      ]
     },
     "execution_count": 25,
     "metadata": {},
     "output_type": "execute_result"
    }
   ],
   "source": [
    "(ctrl_diffbindn+trmt_diffbindn+jnt_diffbindn)/pbtCounter(diffbind)"
   ]
  },
  {
   "cell_type": "markdown",
   "id": "aae72667-ad7b-499a-95f1-6ef75e9d651d",
   "metadata": {},
   "source": [
    "# combine joint, ctrl-only, treatment-only peaks "
   ]
  },
  {
   "cell_type": "markdown",
   "id": "be6ada59-c635-49a8-b12a-a997b7b1f7aa",
   "metadata": {},
   "source": [
    "## read tables"
   ]
  },
  {
   "cell_type": "code",
   "execution_count": 26,
   "id": "eea76eb3-4b75-41d0-9d37-7ae57bb17586",
   "metadata": {
    "ExecuteTime": {
     "end_time": "2024-01-29T20:11:49.513162Z",
     "start_time": "2024-01-29T20:11:48.830323Z"
    }
   },
   "outputs": [
    {
     "data": {
      "text/html": [
       "<div>\n",
       "<style scoped>\n",
       "    .dataframe tbody tr th:only-of-type {\n",
       "        vertical-align: middle;\n",
       "    }\n",
       "\n",
       "    .dataframe tbody tr th {\n",
       "        vertical-align: top;\n",
       "    }\n",
       "\n",
       "    .dataframe thead th {\n",
       "        text-align: right;\n",
       "    }\n",
       "</style>\n",
       "<table border=\"1\" class=\"dataframe\">\n",
       "  <thead>\n",
       "    <tr style=\"text-align: right;\">\n",
       "      <th></th>\n",
       "      <th>#chr</th>\n",
       "      <th>start</th>\n",
       "      <th>end</th>\n",
       "      <th>rep1</th>\n",
       "      <th>rep2</th>\n",
       "      <th>norm.readcount.mean</th>\n",
       "      <th>norm.readcount.std</th>\n",
       "      <th>cl</th>\n",
       "      <th>treatment</th>\n",
       "      <th>len</th>\n",
       "      <th>start_midpoint</th>\n",
       "      <th>end_midpoint</th>\n",
       "    </tr>\n",
       "  </thead>\n",
       "  <tbody>\n",
       "    <tr>\n",
       "      <th>0</th>\n",
       "      <td>chr1</td>\n",
       "      <td>598813</td>\n",
       "      <td>599213</td>\n",
       "      <td>3.243583</td>\n",
       "      <td>3.912384</td>\n",
       "      <td>3.577983</td>\n",
       "      <td>0.472913</td>\n",
       "      <td>hepg2</td>\n",
       "      <td>False</td>\n",
       "      <td>400</td>\n",
       "      <td>599013</td>\n",
       "      <td>599014</td>\n",
       "    </tr>\n",
       "    <tr>\n",
       "      <th>1</th>\n",
       "      <td>chr1</td>\n",
       "      <td>610529</td>\n",
       "      <td>610929</td>\n",
       "      <td>3.243583</td>\n",
       "      <td>1.304128</td>\n",
       "      <td>2.273856</td>\n",
       "      <td>1.371402</td>\n",
       "      <td>hepg2</td>\n",
       "      <td>False</td>\n",
       "      <td>400</td>\n",
       "      <td>610729</td>\n",
       "      <td>610730</td>\n",
       "    </tr>\n",
       "    <tr>\n",
       "      <th>2</th>\n",
       "      <td>chr1</td>\n",
       "      <td>675331</td>\n",
       "      <td>675731</td>\n",
       "      <td>4.054479</td>\n",
       "      <td>1.304128</td>\n",
       "      <td>2.679303</td>\n",
       "      <td>1.944792</td>\n",
       "      <td>hepg2</td>\n",
       "      <td>False</td>\n",
       "      <td>400</td>\n",
       "      <td>675531</td>\n",
       "      <td>675532</td>\n",
       "    </tr>\n",
       "    <tr>\n",
       "      <th>3</th>\n",
       "      <td>chr1</td>\n",
       "      <td>906722</td>\n",
       "      <td>907122</td>\n",
       "      <td>20.272395</td>\n",
       "      <td>23.474302</td>\n",
       "      <td>21.873349</td>\n",
       "      <td>2.264090</td>\n",
       "      <td>hepg2</td>\n",
       "      <td>False</td>\n",
       "      <td>400</td>\n",
       "      <td>906922</td>\n",
       "      <td>906923</td>\n",
       "    </tr>\n",
       "    <tr>\n",
       "      <th>4</th>\n",
       "      <td>chr1</td>\n",
       "      <td>919617</td>\n",
       "      <td>920017</td>\n",
       "      <td>12.974333</td>\n",
       "      <td>14.345407</td>\n",
       "      <td>13.659870</td>\n",
       "      <td>0.969496</td>\n",
       "      <td>hepg2</td>\n",
       "      <td>False</td>\n",
       "      <td>400</td>\n",
       "      <td>919817</td>\n",
       "      <td>919818</td>\n",
       "    </tr>\n",
       "  </tbody>\n",
       "</table>\n",
       "</div>"
      ],
      "text/plain": [
       "   #chr   start     end       rep1       rep2  norm.readcount.mean  \\\n",
       "0  chr1  598813  599213   3.243583   3.912384             3.577983   \n",
       "1  chr1  610529  610929   3.243583   1.304128             2.273856   \n",
       "2  chr1  675331  675731   4.054479   1.304128             2.679303   \n",
       "3  chr1  906722  907122  20.272395  23.474302            21.873349   \n",
       "4  chr1  919617  920017  12.974333  14.345407            13.659870   \n",
       "\n",
       "   norm.readcount.std     cl  treatment  len  start_midpoint  end_midpoint  \n",
       "0            0.472913  hepg2      False  400          599013        599014  \n",
       "1            1.371402  hepg2      False  400          610729        610730  \n",
       "2            1.944792  hepg2      False  400          675531        675532  \n",
       "3            2.264090  hepg2      False  400          906922        906923  \n",
       "4            0.969496  hepg2      False  400          919817        919818  "
      ]
     },
     "execution_count": 26,
     "metadata": {},
     "output_type": "execute_result"
    }
   ],
   "source": [
    "ctrldf = pd.read_table(ctrl_only.fn, header=None, names=list(df))\n",
    "trmtdf = pd.read_table(trmt_only.fn, header=None, names=list(df))\n",
    "jointdfc = pd.read_table(joint.fn, header=None, usecols = np.arange(len(list(ctrldf))), names=list(df))\n",
    "jointdft = pd.read_table(joint.fn, header=None, usecols = np.arange(len(list(ctrldf)),len(list(ctrldf))*2), names=list(df))\n",
    "\n",
    "ctrldf.head()"
   ]
  },
  {
   "cell_type": "markdown",
   "id": "29092d50-eea5-4e3d-80ff-596d1e1e980a",
   "metadata": {},
   "source": [
    "### label everything"
   ]
  },
  {
   "cell_type": "code",
   "execution_count": 27,
   "id": "4a372d64-d216-4db4-824b-2ad54e352240",
   "metadata": {
    "ExecuteTime": {
     "end_time": "2024-01-29T20:11:49.567696Z",
     "start_time": "2024-01-29T20:11:49.515490Z"
    }
   },
   "outputs": [],
   "source": [
    "# list of labels and dfs to label (so that loci read counts are marked by variable\n",
    "# NOTE: Fasta file from joint will have to be made from center of summarized peaks. )\n",
    "label_list = [\n",
    "    (\"ctrl-only\", ctrldf), \n",
    "     (\"trmt-only\", trmtdf), \n",
    "     (\"joint\", jointdfc), \n",
    "     (\"joint\", jointdft), \n",
    "    ]\n",
    "for label, df_ in label_list:\n",
    "    df_ = labelDf(df_, \"type\",label)\n"
   ]
  },
  {
   "cell_type": "markdown",
   "id": "f5d818c5-2de0-4e79-b9a0-f2ba8876bd02",
   "metadata": {},
   "source": [
    "### full df - all coordinates"
   ]
  },
  {
   "cell_type": "code",
   "execution_count": 28,
   "id": "8c1cc374-7db3-4295-b9f4-9d564c7149d5",
   "metadata": {
    "ExecuteTime": {
     "end_time": "2024-01-29T20:11:49.743833Z",
     "start_time": "2024-01-29T20:11:49.576440Z"
    }
   },
   "outputs": [
    {
     "name": "stdout",
     "output_type": "stream",
     "text": [
      "(43100, 14)\n"
     ]
    },
    {
     "data": {
      "text/html": [
       "<div>\n",
       "<style scoped>\n",
       "    .dataframe tbody tr th:only-of-type {\n",
       "        vertical-align: middle;\n",
       "    }\n",
       "\n",
       "    .dataframe tbody tr th {\n",
       "        vertical-align: top;\n",
       "    }\n",
       "\n",
       "    .dataframe thead th {\n",
       "        text-align: right;\n",
       "    }\n",
       "</style>\n",
       "<table border=\"1\" class=\"dataframe\">\n",
       "  <thead>\n",
       "    <tr style=\"text-align: right;\">\n",
       "      <th></th>\n",
       "      <th>#chr</th>\n",
       "      <th>start</th>\n",
       "      <th>end</th>\n",
       "      <th>rep1</th>\n",
       "      <th>rep2</th>\n",
       "      <th>norm.readcount.mean</th>\n",
       "      <th>norm.readcount.std</th>\n",
       "      <th>cl</th>\n",
       "      <th>treatment</th>\n",
       "      <th>len</th>\n",
       "      <th>start_midpoint</th>\n",
       "      <th>end_midpoint</th>\n",
       "      <th>label</th>\n",
       "      <th>type</th>\n",
       "    </tr>\n",
       "  </thead>\n",
       "  <tbody>\n",
       "    <tr>\n",
       "      <th>16560</th>\n",
       "      <td>chr1</td>\n",
       "      <td>598813</td>\n",
       "      <td>599213</td>\n",
       "      <td>3.243583</td>\n",
       "      <td>3.912384</td>\n",
       "      <td>3.577983</td>\n",
       "      <td>0.472913</td>\n",
       "      <td>hepg2</td>\n",
       "      <td>False</td>\n",
       "      <td>400</td>\n",
       "      <td>599013</td>\n",
       "      <td>599014</td>\n",
       "      <td>ctrl-only</td>\n",
       "      <td>ctrl-only.0</td>\n",
       "    </tr>\n",
       "    <tr>\n",
       "      <th>16561</th>\n",
       "      <td>chr1</td>\n",
       "      <td>610529</td>\n",
       "      <td>610929</td>\n",
       "      <td>3.243583</td>\n",
       "      <td>1.304128</td>\n",
       "      <td>2.273856</td>\n",
       "      <td>1.371402</td>\n",
       "      <td>hepg2</td>\n",
       "      <td>False</td>\n",
       "      <td>400</td>\n",
       "      <td>610729</td>\n",
       "      <td>610730</td>\n",
       "      <td>ctrl-only</td>\n",
       "      <td>ctrl-only.1</td>\n",
       "    </tr>\n",
       "    <tr>\n",
       "      <th>16562</th>\n",
       "      <td>chr1</td>\n",
       "      <td>675331</td>\n",
       "      <td>675731</td>\n",
       "      <td>4.054479</td>\n",
       "      <td>1.304128</td>\n",
       "      <td>2.679303</td>\n",
       "      <td>1.944792</td>\n",
       "      <td>hepg2</td>\n",
       "      <td>False</td>\n",
       "      <td>400</td>\n",
       "      <td>675531</td>\n",
       "      <td>675532</td>\n",
       "      <td>ctrl-only</td>\n",
       "      <td>ctrl-only.2</td>\n",
       "    </tr>\n",
       "    <tr>\n",
       "      <th>0</th>\n",
       "      <td>chr1</td>\n",
       "      <td>817166</td>\n",
       "      <td>817566</td>\n",
       "      <td>5.277957</td>\n",
       "      <td>0.949971</td>\n",
       "      <td>3.113964</td>\n",
       "      <td>3.060348</td>\n",
       "      <td>hepg2</td>\n",
       "      <td>True</td>\n",
       "      <td>400</td>\n",
       "      <td>817366</td>\n",
       "      <td>817367</td>\n",
       "      <td>trmt-only</td>\n",
       "      <td>trmt-only.0</td>\n",
       "    </tr>\n",
       "    <tr>\n",
       "      <th>16563</th>\n",
       "      <td>chr1</td>\n",
       "      <td>906722</td>\n",
       "      <td>907122</td>\n",
       "      <td>20.272395</td>\n",
       "      <td>23.474302</td>\n",
       "      <td>21.873349</td>\n",
       "      <td>2.264090</td>\n",
       "      <td>hepg2</td>\n",
       "      <td>False</td>\n",
       "      <td>400</td>\n",
       "      <td>906922</td>\n",
       "      <td>906923</td>\n",
       "      <td>ctrl-only</td>\n",
       "      <td>ctrl-only.3</td>\n",
       "    </tr>\n",
       "  </tbody>\n",
       "</table>\n",
       "</div>"
      ],
      "text/plain": [
       "       #chr   start     end       rep1       rep2  norm.readcount.mean  \\\n",
       "16560  chr1  598813  599213   3.243583   3.912384             3.577983   \n",
       "16561  chr1  610529  610929   3.243583   1.304128             2.273856   \n",
       "16562  chr1  675331  675731   4.054479   1.304128             2.679303   \n",
       "0      chr1  817166  817566   5.277957   0.949971             3.113964   \n",
       "16563  chr1  906722  907122  20.272395  23.474302            21.873349   \n",
       "\n",
       "       norm.readcount.std     cl  treatment  len  start_midpoint  \\\n",
       "16560            0.472913  hepg2      False  400          599013   \n",
       "16561            1.371402  hepg2      False  400          610729   \n",
       "16562            1.944792  hepg2      False  400          675531   \n",
       "0                3.060348  hepg2       True  400          817366   \n",
       "16563            2.264090  hepg2      False  400          906922   \n",
       "\n",
       "       end_midpoint      label         type  \n",
       "16560        599014  ctrl-only  ctrl-only.0  \n",
       "16561        610730  ctrl-only  ctrl-only.1  \n",
       "16562        675532  ctrl-only  ctrl-only.2  \n",
       "0            817367  trmt-only  trmt-only.0  \n",
       "16563        906923  ctrl-only  ctrl-only.3  "
      ]
     },
     "execution_count": 28,
     "metadata": {},
     "output_type": "execute_result"
    }
   ],
   "source": [
    "full_df = pd.concat([#jointdfc,\n",
    "                     #jointdft, \n",
    "                     trmtdf, \n",
    "                     ctrldf\n",
    "                    ]).reset_index(drop=True).sort_values(by=['#chr', 'start'])\n",
    "print(full_df.shape)\n",
    "full_df.head()"
   ]
  },
  {
   "cell_type": "markdown",
   "id": "77d5e32b-7f03-4882-8f69-aee71a16c8a8",
   "metadata": {},
   "source": [
    "## summary stats for each df"
   ]
  },
  {
   "cell_type": "code",
   "execution_count": 29,
   "id": "63d036c8-d590-426c-9001-4c8d450ddcf3",
   "metadata": {
    "ExecuteTime": {
     "end_time": "2024-01-29T20:11:49.787117Z",
     "start_time": "2024-01-29T20:11:49.746596Z"
    }
   },
   "outputs": [
    {
     "data": {
      "text/html": [
       "<div>\n",
       "<style scoped>\n",
       "    .dataframe tbody tr th:only-of-type {\n",
       "        vertical-align: middle;\n",
       "    }\n",
       "\n",
       "    .dataframe tbody tr th {\n",
       "        vertical-align: top;\n",
       "    }\n",
       "\n",
       "    .dataframe thead tr th {\n",
       "        text-align: left;\n",
       "    }\n",
       "</style>\n",
       "<table border=\"1\" class=\"dataframe\">\n",
       "  <thead>\n",
       "    <tr>\n",
       "      <th></th>\n",
       "      <th>label</th>\n",
       "      <th>ctrl-only</th>\n",
       "      <th>trmt-only</th>\n",
       "    </tr>\n",
       "    <tr>\n",
       "      <th></th>\n",
       "      <th>treatment</th>\n",
       "      <th>False</th>\n",
       "      <th>True</th>\n",
       "    </tr>\n",
       "  </thead>\n",
       "  <tbody>\n",
       "    <tr>\n",
       "      <th rowspan=\"8\" valign=\"top\">norm.readcount.mean</th>\n",
       "      <th>count</th>\n",
       "      <td>26540.000000</td>\n",
       "      <td>16560.000000</td>\n",
       "    </tr>\n",
       "    <tr>\n",
       "      <th>mean</th>\n",
       "      <td>9.314742</td>\n",
       "      <td>6.610178</td>\n",
       "    </tr>\n",
       "    <tr>\n",
       "      <th>std</th>\n",
       "      <td>8.068633</td>\n",
       "      <td>5.662344</td>\n",
       "    </tr>\n",
       "    <tr>\n",
       "      <th>min</th>\n",
       "      <td>1.709576</td>\n",
       "      <td>1.530577</td>\n",
       "    </tr>\n",
       "    <tr>\n",
       "      <th>25%</th>\n",
       "      <td>4.794327</td>\n",
       "      <td>3.536139</td>\n",
       "    </tr>\n",
       "    <tr>\n",
       "      <th>50%</th>\n",
       "      <td>7.068183</td>\n",
       "      <td>5.066716</td>\n",
       "    </tr>\n",
       "    <tr>\n",
       "      <th>75%</th>\n",
       "      <td>11.139398</td>\n",
       "      <td>7.600074</td>\n",
       "    </tr>\n",
       "    <tr>\n",
       "      <th>max</th>\n",
       "      <td>179.889740</td>\n",
       "      <td>169.047846</td>\n",
       "    </tr>\n",
       "    <tr>\n",
       "      <th rowspan=\"8\" valign=\"top\">norm.readcount.std</th>\n",
       "      <th>count</th>\n",
       "      <td>26540.000000</td>\n",
       "      <td>16560.000000</td>\n",
       "    </tr>\n",
       "    <tr>\n",
       "      <th>mean</th>\n",
       "      <td>2.358921</td>\n",
       "      <td>2.033253</td>\n",
       "    </tr>\n",
       "    <tr>\n",
       "      <th>std</th>\n",
       "      <td>2.457459</td>\n",
       "      <td>2.523291</td>\n",
       "    </tr>\n",
       "    <tr>\n",
       "      <th>min</th>\n",
       "      <td>0.005801</td>\n",
       "      <td>0.000434</td>\n",
       "    </tr>\n",
       "    <tr>\n",
       "      <th>25%</th>\n",
       "      <td>0.774343</td>\n",
       "      <td>0.448110</td>\n",
       "    </tr>\n",
       "    <tr>\n",
       "      <th>50%</th>\n",
       "      <td>1.643362</td>\n",
       "      <td>1.194092</td>\n",
       "    </tr>\n",
       "    <tr>\n",
       "      <th>75%</th>\n",
       "      <td>3.091572</td>\n",
       "      <td>2.537554</td>\n",
       "    </tr>\n",
       "    <tr>\n",
       "      <th>max</th>\n",
       "      <td>39.983213</td>\n",
       "      <td>45.830976</td>\n",
       "    </tr>\n",
       "  </tbody>\n",
       "</table>\n",
       "</div>"
      ],
      "text/plain": [
       "label                         ctrl-only     trmt-only\n",
       "treatment                         False         True \n",
       "norm.readcount.mean count  26540.000000  16560.000000\n",
       "                    mean       9.314742      6.610178\n",
       "                    std        8.068633      5.662344\n",
       "                    min        1.709576      1.530577\n",
       "                    25%        4.794327      3.536139\n",
       "                    50%        7.068183      5.066716\n",
       "                    75%       11.139398      7.600074\n",
       "                    max      179.889740    169.047846\n",
       "norm.readcount.std  count  26540.000000  16560.000000\n",
       "                    mean       2.358921      2.033253\n",
       "                    std        2.457459      2.523291\n",
       "                    min        0.005801      0.000434\n",
       "                    25%        0.774343      0.448110\n",
       "                    50%        1.643362      1.194092\n",
       "                    75%        3.091572      2.537554\n",
       "                    max       39.983213     45.830976"
      ]
     },
     "execution_count": 29,
     "metadata": {},
     "output_type": "execute_result"
    }
   ],
   "source": [
    "full_df.groupby([\"label\", \"treatment\"])[[\"norm.readcount.mean\", \"norm.readcount.std\"]].describe().T"
   ]
  },
  {
   "cell_type": "markdown",
   "id": "7142632a-3b9c-4399-b08d-b45ec0c3dbc3",
   "metadata": {},
   "source": [
    "## table pivot"
   ]
  },
  {
   "cell_type": "code",
   "execution_count": 30,
   "id": "c63d5754-0c46-4de1-9de4-b75f1298c90a",
   "metadata": {
    "ExecuteTime": {
     "end_time": "2024-01-29T20:11:49.911426Z",
     "start_time": "2024-01-29T20:11:49.789164Z"
    }
   },
   "outputs": [
    {
     "data": {
      "text/html": [
       "<div>\n",
       "<style scoped>\n",
       "    .dataframe tbody tr th:only-of-type {\n",
       "        vertical-align: middle;\n",
       "    }\n",
       "\n",
       "    .dataframe tbody tr th {\n",
       "        vertical-align: top;\n",
       "    }\n",
       "\n",
       "    .dataframe thead th {\n",
       "        text-align: right;\n",
       "    }\n",
       "</style>\n",
       "<table border=\"1\" class=\"dataframe\">\n",
       "  <thead>\n",
       "    <tr style=\"text-align: right;\">\n",
       "      <th>treatment</th>\n",
       "      <th>type</th>\n",
       "      <th>ctrl</th>\n",
       "      <th>US</th>\n",
       "    </tr>\n",
       "  </thead>\n",
       "  <tbody>\n",
       "    <tr>\n",
       "      <th>26540</th>\n",
       "      <td>trmt-only.0</td>\n",
       "      <td>0.0</td>\n",
       "      <td>3.113964</td>\n",
       "    </tr>\n",
       "    <tr>\n",
       "      <th>26541</th>\n",
       "      <td>trmt-only.1</td>\n",
       "      <td>0.0</td>\n",
       "      <td>18.050061</td>\n",
       "    </tr>\n",
       "    <tr>\n",
       "      <th>26542</th>\n",
       "      <td>trmt-only.10</td>\n",
       "      <td>0.0</td>\n",
       "      <td>3.483329</td>\n",
       "    </tr>\n",
       "    <tr>\n",
       "      <th>26543</th>\n",
       "      <td>trmt-only.100</td>\n",
       "      <td>0.0</td>\n",
       "      <td>7.705695</td>\n",
       "    </tr>\n",
       "    <tr>\n",
       "      <th>26544</th>\n",
       "      <td>trmt-only.1000</td>\n",
       "      <td>0.0</td>\n",
       "      <td>7.547264</td>\n",
       "    </tr>\n",
       "    <tr>\n",
       "      <th>...</th>\n",
       "      <td>...</td>\n",
       "      <td>...</td>\n",
       "      <td>...</td>\n",
       "    </tr>\n",
       "    <tr>\n",
       "      <th>43095</th>\n",
       "      <td>trmt-only.9995</td>\n",
       "      <td>0.0</td>\n",
       "      <td>3.958314</td>\n",
       "    </tr>\n",
       "    <tr>\n",
       "      <th>43096</th>\n",
       "      <td>trmt-only.9996</td>\n",
       "      <td>0.0</td>\n",
       "      <td>7.336023</td>\n",
       "    </tr>\n",
       "    <tr>\n",
       "      <th>43097</th>\n",
       "      <td>trmt-only.9997</td>\n",
       "      <td>0.0</td>\n",
       "      <td>3.483329</td>\n",
       "    </tr>\n",
       "    <tr>\n",
       "      <th>43098</th>\n",
       "      <td>trmt-only.9998</td>\n",
       "      <td>0.0</td>\n",
       "      <td>15.463893</td>\n",
       "    </tr>\n",
       "    <tr>\n",
       "      <th>43099</th>\n",
       "      <td>trmt-only.9999</td>\n",
       "      <td>0.0</td>\n",
       "      <td>6.650103</td>\n",
       "    </tr>\n",
       "  </tbody>\n",
       "</table>\n",
       "<p>16560 rows × 3 columns</p>\n",
       "</div>"
      ],
      "text/plain": [
       "treatment            type  ctrl         US\n",
       "26540         trmt-only.0   0.0   3.113964\n",
       "26541         trmt-only.1   0.0  18.050061\n",
       "26542        trmt-only.10   0.0   3.483329\n",
       "26543       trmt-only.100   0.0   7.705695\n",
       "26544      trmt-only.1000   0.0   7.547264\n",
       "...                   ...   ...        ...\n",
       "43095      trmt-only.9995   0.0   3.958314\n",
       "43096      trmt-only.9996   0.0   7.336023\n",
       "43097      trmt-only.9997   0.0   3.483329\n",
       "43098      trmt-only.9998   0.0  15.463893\n",
       "43099      trmt-only.9999   0.0   6.650103\n",
       "\n",
       "[16560 rows x 3 columns]"
      ]
     },
     "execution_count": 30,
     "metadata": {},
     "output_type": "execute_result"
    }
   ],
   "source": [
    "table = pd.pivot(full_df, index=\"type\", columns = \"treatment\", values=\"norm.readcount.mean\" ).reset_index().fillna(0)\n",
    "\n",
    "# rename columns\n",
    "table.rename(columns={False:\"ctrl\", \n",
    "                      True:\"US\"}, inplace=True)\n",
    "\n",
    "# check the peaks accessible in one, but  not the other. \n",
    "table.loc[table['type'].str.contains(\"trmt\")]"
   ]
  },
  {
   "cell_type": "markdown",
   "id": "d0233cee-085e-459d-8377-c357af8a5aa8",
   "metadata": {},
   "source": [
    "## add coordinate midpoints \n",
    "- ctrl-only, treatment-only coordinates\n",
    "- joint coordinates - use ctrl-only coordinates. "
   ]
  },
  {
   "cell_type": "code",
   "execution_count": 31,
   "id": "4477536e-ece3-401b-bf12-4f011d4e2aa1",
   "metadata": {
    "ExecuteTime": {
     "end_time": "2024-01-29T20:12:20.221727Z",
     "start_time": "2024-01-29T20:11:49.913278Z"
    }
   },
   "outputs": [
    {
     "name": "stdout",
     "output_type": "stream",
     "text": [
      "hepg2.centered.peaks.treatment.only.tsv hepg2.centered.peaks.treatment.only.fa\n",
      "hepg2.centered.peaks.treatment.only.fa\n",
      "hepg2.centered.peaks.ctrl.only.tsv hepg2.centered.peaks.ctrl.only.fa\n",
      "hepg2.centered.peaks.ctrl.only.fa\n"
     ]
    }
   ],
   "source": [
    "# rearrange columns\n",
    "midpoint_cols = ['#chr', 'start_midpoint', 'end_midpoint',\n",
    "                 # 'norm.readcount.mean','norm.readcount.std',\n",
    "                 # 'cl','treatment','len',\n",
    "                 # 'start','end',\n",
    "                 # 'rep1','rep2',\n",
    "                 # 'label',\n",
    "                 'type'\n",
    "                 ]\n",
    "\n",
    "coors = [(\"treatment.only\", trmtdf),\n",
    "         (\"ctrl.only\", ctrldf),\n",
    "         #(\"joint.accessible\", jointdfc)\n",
    "         ]\n",
    "\n",
    "results, fastas = {}, {}\n",
    "\n",
    "for name, coordinate_df in coors:\n",
    "    # outfile to write\n",
    "    CENTERED_OUTFILE = f\"{CL}.centered.peaks.{name}.tsv\"\n",
    "    CENTERED_OUTFASTA = f\"{CL}.centered.peaks.{name}.fa\"\n",
    "    print(CENTERED_OUTFILE, CENTERED_OUTFASTA)\n",
    "\n",
    "    # make bedtool object from rearranged columns\n",
    "    coor = pbt.BedTool.from_dataframe(coordinate_df[midpoint_cols])\n",
    "\n",
    "    # expand coordinates from midpoint\n",
    "\n",
    "    # write bed\n",
    "    slopped = coor.slop(b=(PEAK_SIZE/2), g=HG38, output=CENTERED_OUTFILE)\n",
    "\n",
    "    # get sequences from fasta\n",
    "    #if os.path.exists(CENTERED_OUTFASTA) is False:\n",
    "    os.system(\" \".join([\"bedtools getfasta\",\n",
    "                        \"-fi\", FA_HG38,\n",
    "                        \"-bed\", CENTERED_OUTFILE,\n",
    "                        \">\", CENTERED_OUTFASTA\n",
    "                        ]))\n",
    "\n",
    "    # read in results as dataframes\n",
    "    results[name] = pd.read_csv(slopped.fn,\n",
    "                                sep='\\t',\n",
    "                                header=None, names=[\"#chr\", \"start_trim\", \"end_trim\", \"type\"])\n",
    "    fastas[name] = fastaDf(CENTERED_OUTFASTA)"
   ]
  },
  {
   "cell_type": "markdown",
   "id": "e0004de1-8175-4961-a2ef-ea0994307847",
   "metadata": {},
   "source": [
    "# combine all centered peak results"
   ]
  },
  {
   "cell_type": "code",
   "execution_count": 32,
   "id": "101298cd-249a-429a-9a44-35531a216948",
   "metadata": {
    "ExecuteTime": {
     "end_time": "2024-01-29T20:12:20.294197Z",
     "start_time": "2024-01-29T20:12:20.224843Z"
    }
   },
   "outputs": [],
   "source": [
    "coors = pd.concat(results.values())\n",
    "\n",
    "# add centered peak coordinates\n",
    "table = pd.merge(table, coors, how='left', left_on='type', right_on=\"type\")"
   ]
  },
  {
   "cell_type": "code",
   "execution_count": 33,
   "id": "0f648701-b08e-4810-b594-04b054b280d2",
   "metadata": {
    "ExecuteTime": {
     "end_time": "2024-01-29T20:12:20.467137Z",
     "start_time": "2024-01-29T20:12:20.297099Z"
    }
   },
   "outputs": [],
   "source": [
    "# rearrange columns\n",
    "table = table[['#chr', 'start_trim', 'end_trim', 'type', 'ctrl', 'US']]\n",
    "\n",
    "# add seq id columns\n",
    "table[\"seq.id\"] = table[\"#chr\"] + \":\"+ table[\"start_trim\"].map(str)+ \"-\" + table[\"end_trim\"].map(str)"
   ]
  },
  {
   "cell_type": "markdown",
   "id": "4e67bb52-48fb-4e9b-8759-9ee9b75e30ad",
   "metadata": {},
   "source": [
    "# merge table w/ fasta sequences"
   ]
  },
  {
   "cell_type": "markdown",
   "id": "d0727f3a-1256-4df5-9f96-d81252109585",
   "metadata": {},
   "source": [
    "### read fasta files"
   ]
  },
  {
   "cell_type": "code",
   "execution_count": 34,
   "id": "ab07bda9-726b-48db-a7ef-6a9a00081aa6",
   "metadata": {
    "ExecuteTime": {
     "end_time": "2024-01-29T20:12:20.529960Z",
     "start_time": "2024-01-29T20:12:20.469399Z"
    }
   },
   "outputs": [
    {
     "data": {
      "text/html": [
       "<div>\n",
       "<style scoped>\n",
       "    .dataframe tbody tr th:only-of-type {\n",
       "        vertical-align: middle;\n",
       "    }\n",
       "\n",
       "    .dataframe tbody tr th {\n",
       "        vertical-align: top;\n",
       "    }\n",
       "\n",
       "    .dataframe thead th {\n",
       "        text-align: right;\n",
       "    }\n",
       "</style>\n",
       "<table border=\"1\" class=\"dataframe\">\n",
       "  <thead>\n",
       "    <tr style=\"text-align: right;\">\n",
       "      <th></th>\n",
       "      <th>seq.id</th>\n",
       "      <th>seq</th>\n",
       "    </tr>\n",
       "  </thead>\n",
       "  <tbody>\n",
       "    <tr>\n",
       "      <th>0</th>\n",
       "      <td>chr1:817231-817502</td>\n",
       "      <td>gcaaactatgcatctgacaaaggcctaatatccagaatctacaggg...</td>\n",
       "    </tr>\n",
       "    <tr>\n",
       "      <th>1</th>\n",
       "      <td>chr1:941631-941902</td>\n",
       "      <td>GGCGCTCAAATGTAGACGCCGGCGCCGGATCTGTTCCCGGCACAGA...</td>\n",
       "    </tr>\n",
       "    <tr>\n",
       "      <th>2</th>\n",
       "      <td>chr1:1013287-1013558</td>\n",
       "      <td>TGCCGTCCGCTGTCCGGAGTCCCCGCCACTTTTGCTTTTCCCTGTC...</td>\n",
       "    </tr>\n",
       "    <tr>\n",
       "      <th>3</th>\n",
       "      <td>chr1:1157433-1157704</td>\n",
       "      <td>ctccgccccagcccagcccctccatccccgccccgcccgcagcccc...</td>\n",
       "    </tr>\n",
       "    <tr>\n",
       "      <th>4</th>\n",
       "      <td>chr1:1259134-1259405</td>\n",
       "      <td>ATGCCATCAGGACGCGTGTGTGCGTGTCTGAGTGTGTGCATGCCAT...</td>\n",
       "    </tr>\n",
       "  </tbody>\n",
       "</table>\n",
       "</div>"
      ],
      "text/plain": [
       "                 seq.id                                                seq\n",
       "0    chr1:817231-817502  gcaaactatgcatctgacaaaggcctaatatccagaatctacaggg...\n",
       "1    chr1:941631-941902  GGCGCTCAAATGTAGACGCCGGCGCCGGATCTGTTCCCGGCACAGA...\n",
       "2  chr1:1013287-1013558  TGCCGTCCGCTGTCCGGAGTCCCCGCCACTTTTGCTTTTCCCTGTC...\n",
       "3  chr1:1157433-1157704  ctccgccccagcccagcccctccatccccgccccgcccgcagcccc...\n",
       "4  chr1:1259134-1259405  ATGCCATCAGGACGCGTGTGTGCGTGTCTGAGTGTGTGCATGCCAT..."
      ]
     },
     "execution_count": 34,
     "metadata": {},
     "output_type": "execute_result"
    }
   ],
   "source": [
    "fas = pd.concat(fastas.values())\n",
    "fas.head()"
   ]
  },
  {
   "cell_type": "markdown",
   "id": "da6dc08f-dfdd-457e-baef-11f3b865c268",
   "metadata": {},
   "source": [
    "### merge table + fas"
   ]
  },
  {
   "cell_type": "code",
   "execution_count": 35,
   "id": "15247496-fa66-4d68-a777-07abb41b0cbb",
   "metadata": {
    "ExecuteTime": {
     "end_time": "2024-01-29T20:12:20.705742Z",
     "start_time": "2024-01-29T20:12:20.532568Z"
    }
   },
   "outputs": [],
   "source": [
    "table = pd.merge(table, fas)"
   ]
  },
  {
   "cell_type": "markdown",
   "id": "5c6e9ee4-374d-4013-b343-c5a58cf53c5f",
   "metadata": {},
   "source": [
    "## add column that combines the element name and the coordinate. "
   ]
  },
  {
   "cell_type": "code",
   "execution_count": 36,
   "id": "ef147127-59a5-4da5-82d9-a837ded67e1b",
   "metadata": {
    "ExecuteTime": {
     "end_time": "2024-01-29T20:12:20.750332Z",
     "start_time": "2024-01-29T20:12:20.708034Z"
    }
   },
   "outputs": [
    {
     "data": {
      "text/html": [
       "<div>\n",
       "<style scoped>\n",
       "    .dataframe tbody tr th:only-of-type {\n",
       "        vertical-align: middle;\n",
       "    }\n",
       "\n",
       "    .dataframe tbody tr th {\n",
       "        vertical-align: top;\n",
       "    }\n",
       "\n",
       "    .dataframe thead th {\n",
       "        text-align: right;\n",
       "    }\n",
       "</style>\n",
       "<table border=\"1\" class=\"dataframe\">\n",
       "  <thead>\n",
       "    <tr style=\"text-align: right;\">\n",
       "      <th></th>\n",
       "      <th>#chr</th>\n",
       "      <th>start_trim</th>\n",
       "      <th>end_trim</th>\n",
       "      <th>type</th>\n",
       "      <th>ctrl</th>\n",
       "      <th>US</th>\n",
       "      <th>seq.id</th>\n",
       "      <th>seq</th>\n",
       "      <th>coor.type</th>\n",
       "    </tr>\n",
       "  </thead>\n",
       "  <tbody>\n",
       "    <tr>\n",
       "      <th>0</th>\n",
       "      <td>chr1</td>\n",
       "      <td>598878</td>\n",
       "      <td>599149</td>\n",
       "      <td>ctrl-only.0</td>\n",
       "      <td>3.577983</td>\n",
       "      <td>0.0</td>\n",
       "      <td>chr1:598878-599149</td>\n",
       "      <td>gtgtgtgatgttctctctgattacattggaactgtgcgtttgcgga...</td>\n",
       "      <td>ctrl-only.0|chr1:598878-599149</td>\n",
       "    </tr>\n",
       "    <tr>\n",
       "      <th>1</th>\n",
       "      <td>chr1</td>\n",
       "      <td>610594</td>\n",
       "      <td>610865</td>\n",
       "      <td>ctrl-only.1</td>\n",
       "      <td>2.273856</td>\n",
       "      <td>0.0</td>\n",
       "      <td>chr1:610594-610865</td>\n",
       "      <td>TCTGTGGCCAGCAGGCGGCGCTGCAGGAGAGGAGATGCCCAGGCCT...</td>\n",
       "      <td>ctrl-only.1|chr1:610594-610865</td>\n",
       "    </tr>\n",
       "    <tr>\n",
       "      <th>2</th>\n",
       "      <td>chr1</td>\n",
       "      <td>1185478</td>\n",
       "      <td>1185749</td>\n",
       "      <td>ctrl-only.10</td>\n",
       "      <td>6.098455</td>\n",
       "      <td>0.0</td>\n",
       "      <td>chr1:1185478-1185749</td>\n",
       "      <td>GTCCTGGAGCAGCAGCAGCTGCCCGTGCAGGCCCGGACTCTCCCTA...</td>\n",
       "      <td>ctrl-only.10|chr1:1185478-1185749</td>\n",
       "    </tr>\n",
       "    <tr>\n",
       "      <th>3</th>\n",
       "      <td>chr1</td>\n",
       "      <td>5652318</td>\n",
       "      <td>5652589</td>\n",
       "      <td>ctrl-only.100</td>\n",
       "      <td>7.561415</td>\n",
       "      <td>0.0</td>\n",
       "      <td>chr1:5652318-5652589</td>\n",
       "      <td>AGTCCACAAGAAGGCAGGAAAACTGAGCTCCTTCCTCCTGGAGCGC...</td>\n",
       "      <td>ctrl-only.100|chr1:5652318-5652589</td>\n",
       "    </tr>\n",
       "    <tr>\n",
       "      <th>4</th>\n",
       "      <td>chr1</td>\n",
       "      <td>59422999</td>\n",
       "      <td>59423270</td>\n",
       "      <td>ctrl-only.1000</td>\n",
       "      <td>7.966863</td>\n",
       "      <td>0.0</td>\n",
       "      <td>chr1:59422999-59423270</td>\n",
       "      <td>GTTTGGATACTATTGTGCCAGGCAGCCTTTCCGAACACTCCAGCCT...</td>\n",
       "      <td>ctrl-only.1000|chr1:59422999-59423270</td>\n",
       "    </tr>\n",
       "  </tbody>\n",
       "</table>\n",
       "</div>"
      ],
      "text/plain": [
       "   #chr  start_trim  end_trim            type      ctrl   US  \\\n",
       "0  chr1      598878    599149     ctrl-only.0  3.577983  0.0   \n",
       "1  chr1      610594    610865     ctrl-only.1  2.273856  0.0   \n",
       "2  chr1     1185478   1185749    ctrl-only.10  6.098455  0.0   \n",
       "3  chr1     5652318   5652589   ctrl-only.100  7.561415  0.0   \n",
       "4  chr1    59422999  59423270  ctrl-only.1000  7.966863  0.0   \n",
       "\n",
       "                   seq.id                                                seq  \\\n",
       "0      chr1:598878-599149  gtgtgtgatgttctctctgattacattggaactgtgcgtttgcgga...   \n",
       "1      chr1:610594-610865  TCTGTGGCCAGCAGGCGGCGCTGCAGGAGAGGAGATGCCCAGGCCT...   \n",
       "2    chr1:1185478-1185749  GTCCTGGAGCAGCAGCAGCTGCCCGTGCAGGCCCGGACTCTCCCTA...   \n",
       "3    chr1:5652318-5652589  AGTCCACAAGAAGGCAGGAAAACTGAGCTCCTTCCTCCTGGAGCGC...   \n",
       "4  chr1:59422999-59423270  GTTTGGATACTATTGTGCCAGGCAGCCTTTCCGAACACTCCAGCCT...   \n",
       "\n",
       "                               coor.type  \n",
       "0         ctrl-only.0|chr1:598878-599149  \n",
       "1         ctrl-only.1|chr1:610594-610865  \n",
       "2      ctrl-only.10|chr1:1185478-1185749  \n",
       "3     ctrl-only.100|chr1:5652318-5652589  \n",
       "4  ctrl-only.1000|chr1:59422999-59423270  "
      ]
     },
     "execution_count": 36,
     "metadata": {},
     "output_type": "execute_result"
    }
   ],
   "source": [
    "table[\"coor.type\"] = table[\"type\"] + \"|\" + table[\"seq.id\"]\n",
    "table.head()"
   ]
  },
  {
   "cell_type": "markdown",
   "id": "15d164fb-cdad-4a7b-855d-0c636152536b",
   "metadata": {},
   "source": [
    "## save full table for reference"
   ]
  },
  {
   "cell_type": "code",
   "execution_count": 148,
   "id": "1e07a789-0168-4692-b5d7-fe767064304f",
   "metadata": {},
   "outputs": [],
   "source": [
    "table.to_csv(FULL,sep='\\t', index=False)"
   ]
  },
  {
   "cell_type": "markdown",
   "id": "23eabf61-9de3-431e-925d-bd0c84944124",
   "metadata": {},
   "source": [
    "# Data Analysis\n",
    "## joint accessibility readcount is stronger than ctrl-only or treatment-only"
   ]
  },
  {
   "cell_type": "code",
   "execution_count": null,
   "id": "796ba164-2ba8-475d-b9a2-ca6c0fe1abbd",
   "metadata": {},
   "outputs": [],
   "source": [
    "sns.histplot(x=\"norm.readcount.mean\", data=full_df,  hue =\"label\")\n",
    "\n",
    "plt.xlabel(\"mean normalized read counts\")\n",
    "plt.title(\"variable reads\")"
   ]
  },
  {
   "cell_type": "markdown",
   "id": "173eb10e-e6a0-414a-8c84-f9e2b57c9bbf",
   "metadata": {},
   "source": [
    "## plot in l2 values. "
   ]
  },
  {
   "cell_type": "code",
   "execution_count": null,
   "id": "0de6b379-08ae-4eea-8568-94c6077f84e0",
   "metadata": {},
   "outputs": [],
   "source": [
    "l2table = table.copy()\n",
    "\n",
    "# compute log2\n",
    "l2table[list(l2table)[1:]] = np.log2(l2table[list(l2table)[1:]])\n",
    "\n",
    "# replace -inf with 0\n",
    "l2table.replace(-np.inf, 0, inplace=True)"
   ]
  },
  {
   "cell_type": "code",
   "execution_count": null,
   "id": "a750df51-5c11-41a9-96cd-6f82d3f4f993",
   "metadata": {},
   "outputs": [],
   "source": [
    "#fig, ax=plt.subplots(figsize = (6,6))\n",
    "sns.jointplot(x = \"ctrl\", y=\"US\", data=l2table)\n",
    "plt.xlabel(\"ctrl\\nlog2(norm_read)\")\n",
    "plt.ylabel(\"US\\nlog2(norm_read)\")\n",
    "\n",
    "# strong correlation between jointly shared read-counts\n",
    "l2table[[\"US\", 'ctrl']].corr()"
   ]
  },
  {
   "cell_type": "markdown",
   "id": "3413b232-a987-4cf1-a019-76d430dcac37",
   "metadata": {},
   "source": [
    "### plot"
   ]
  },
  {
   "cell_type": "code",
   "execution_count": null,
   "id": "0ce16e66-cafb-4fca-801a-768c14a0926d",
   "metadata": {},
   "outputs": [],
   "source": []
  }
 ],
 "metadata": {
  "kernelspec": {
   "display_name": "Python (mamba)",
   "language": "python",
   "name": "mamba"
  },
  "language_info": {
   "codemirror_mode": {
    "name": "ipython",
    "version": 3
   },
   "file_extension": ".py",
   "mimetype": "text/x-python",
   "name": "python",
   "nbconvert_exporter": "python",
   "pygments_lexer": "ipython3",
   "version": "3.9.16"
  },
  "toc": {
   "base_numbering": 1,
   "nav_menu": {},
   "number_sections": true,
   "sideBar": true,
   "skip_h1_title": false,
   "title_cell": "Table of Contents",
   "title_sidebar": "Contents",
   "toc_cell": false,
   "toc_position": {},
   "toc_section_display": true,
   "toc_window_display": true
  },
  "varInspector": {
   "cols": {
    "lenName": 16,
    "lenType": 16,
    "lenVar": 40
   },
   "kernels_config": {
    "python": {
     "delete_cmd_postfix": "",
     "delete_cmd_prefix": "del ",
     "library": "var_list.py",
     "varRefreshCmd": "print(var_dic_list())"
    },
    "r": {
     "delete_cmd_postfix": ") ",
     "delete_cmd_prefix": "rm(",
     "library": "var_list.r",
     "varRefreshCmd": "cat(var_dic_list()) "
    }
   },
   "types_to_exclude": [
    "module",
    "function",
    "builtin_function_or_method",
    "instance",
    "_Feature"
   ],
   "window_display": false
  }
 },
 "nbformat": 4,
 "nbformat_minor": 5
}
