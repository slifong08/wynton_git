{
 "cells": [
  {
   "cell_type": "markdown",
   "id": "966ece6f-425d-45e0-a962-13b2267451c2",
   "metadata": {},
   "source": [
    "# downloads"
   ]
  },
  {
   "cell_type": "code",
   "execution_count": null,
   "id": "490c82bd-e5aa-4ce0-8255-c2d9ae314e4f",
   "metadata": {
    "ExecuteTime": {
     "end_time": "2024-01-17T02:07:03.252311Z",
     "start_time": "2024-01-17T02:06:30.534Z"
    },
    "scrolled": true
   },
   "outputs": [],
   "source": [
    "\"\"\"\n",
    "if (!require(\"BiocManager\", quietly = TRUE))\n",
    "    install.packages(\"BiocManager\")\n",
    "\n",
    "# install diffbind from BioConductor. \n",
    "if (!require(\"DiffBind\", quietly = TRUE))\n",
    "    BiocManager::install(\"DiffBind\")\n",
    "\n",
    "if (!require(\"tidyverse\", quietly = TRUE))\n",
    "    install.packages(\"tidyverse\")\n",
    "\"\"\""
   ]
  },
  {
   "cell_type": "markdown",
   "id": "6e2d7fd4-96eb-421f-bf40-7882d06dddd0",
   "metadata": {},
   "source": [
    "# load libraries"
   ]
  },
  {
   "cell_type": "code",
   "execution_count": 1,
   "id": "fdbb101b-c7f8-43b2-9a20-e33b49c09955",
   "metadata": {
    "ExecuteTime": {
     "end_time": "2024-01-17T02:07:09.764636Z",
     "start_time": "2024-01-17T02:07:09.710Z"
    },
    "scrolled": true
   },
   "outputs": [
    {
     "name": "stderr",
     "output_type": "stream",
     "text": [
      "Loading required package: GenomicRanges\n",
      "\n",
      "Loading required package: stats4\n",
      "\n",
      "Loading required package: BiocGenerics\n",
      "\n",
      "\n",
      "Attaching package: ‘BiocGenerics’\n",
      "\n",
      "\n",
      "The following objects are masked from ‘package:stats’:\n",
      "\n",
      "    IQR, mad, sd, var, xtabs\n",
      "\n",
      "\n",
      "The following objects are masked from ‘package:base’:\n",
      "\n",
      "    anyDuplicated, aperm, append, as.data.frame, basename, cbind,\n",
      "    colnames, dirname, do.call, duplicated, eval, evalq, Filter, Find,\n",
      "    get, grep, grepl, intersect, is.unsorted, lapply, Map, mapply,\n",
      "    match, mget, order, paste, pmax, pmax.int, pmin, pmin.int,\n",
      "    Position, rank, rbind, Reduce, rownames, sapply, setdiff, sort,\n",
      "    table, tapply, union, unique, unsplit, which.max, which.min\n",
      "\n",
      "\n",
      "Loading required package: S4Vectors\n",
      "\n",
      "\n",
      "Attaching package: ‘S4Vectors’\n",
      "\n",
      "\n",
      "The following object is masked from ‘package:utils’:\n",
      "\n",
      "    findMatches\n",
      "\n",
      "\n",
      "The following objects are masked from ‘package:base’:\n",
      "\n",
      "    expand.grid, I, unname\n",
      "\n",
      "\n",
      "Loading required package: IRanges\n",
      "\n",
      "Loading required package: GenomeInfoDb\n",
      "\n",
      "Loading required package: SummarizedExperiment\n",
      "\n",
      "Loading required package: MatrixGenerics\n",
      "\n",
      "Loading required package: matrixStats\n",
      "\n",
      "\n",
      "Attaching package: ‘MatrixGenerics’\n",
      "\n",
      "\n",
      "The following objects are masked from ‘package:matrixStats’:\n",
      "\n",
      "    colAlls, colAnyNAs, colAnys, colAvgsPerRowSet, colCollapse,\n",
      "    colCounts, colCummaxs, colCummins, colCumprods, colCumsums,\n",
      "    colDiffs, colIQRDiffs, colIQRs, colLogSumExps, colMadDiffs,\n",
      "    colMads, colMaxs, colMeans2, colMedians, colMins, colOrderStats,\n",
      "    colProds, colQuantiles, colRanges, colRanks, colSdDiffs, colSds,\n",
      "    colSums2, colTabulates, colVarDiffs, colVars, colWeightedMads,\n",
      "    colWeightedMeans, colWeightedMedians, colWeightedSds,\n",
      "    colWeightedVars, rowAlls, rowAnyNAs, rowAnys, rowAvgsPerColSet,\n",
      "    rowCollapse, rowCounts, rowCummaxs, rowCummins, rowCumprods,\n",
      "    rowCumsums, rowDiffs, rowIQRDiffs, rowIQRs, rowLogSumExps,\n",
      "    rowMadDiffs, rowMads, rowMaxs, rowMeans2, rowMedians, rowMins,\n",
      "    rowOrderStats, rowProds, rowQuantiles, rowRanges, rowRanks,\n",
      "    rowSdDiffs, rowSds, rowSums2, rowTabulates, rowVarDiffs, rowVars,\n",
      "    rowWeightedMads, rowWeightedMeans, rowWeightedMedians,\n",
      "    rowWeightedSds, rowWeightedVars\n",
      "\n",
      "\n",
      "Loading required package: Biobase\n",
      "\n",
      "Welcome to Bioconductor\n",
      "\n",
      "    Vignettes contain introductory material; view with\n",
      "    'browseVignettes()'. To cite Bioconductor, see\n",
      "    'citation(\"Biobase\")', and for packages 'citation(\"pkgname\")'.\n",
      "\n",
      "\n",
      "\n",
      "Attaching package: ‘Biobase’\n",
      "\n",
      "\n",
      "The following object is masked from ‘package:MatrixGenerics’:\n",
      "\n",
      "    rowMedians\n",
      "\n",
      "\n",
      "The following objects are masked from ‘package:matrixStats’:\n",
      "\n",
      "    anyMissing, rowMedians\n",
      "\n",
      "\n",
      " >>> DiffBind 3.12.0\n",
      "\n",
      "── \u001b[1mAttaching core tidyverse packages\u001b[22m ──────────────────────── tidyverse 2.0.0 ──\n",
      "\u001b[32m✔\u001b[39m \u001b[34mdplyr    \u001b[39m 1.1.4     \u001b[32m✔\u001b[39m \u001b[34mreadr    \u001b[39m 2.1.5\n",
      "\u001b[32m✔\u001b[39m \u001b[34mforcats  \u001b[39m 1.0.0     \u001b[32m✔\u001b[39m \u001b[34mstringr  \u001b[39m 1.5.1\n",
      "\u001b[32m✔\u001b[39m \u001b[34mggplot2  \u001b[39m 3.4.4     \u001b[32m✔\u001b[39m \u001b[34mtibble   \u001b[39m 3.2.1\n",
      "\u001b[32m✔\u001b[39m \u001b[34mlubridate\u001b[39m 1.9.3     \u001b[32m✔\u001b[39m \u001b[34mtidyr    \u001b[39m 1.3.0\n",
      "\u001b[32m✔\u001b[39m \u001b[34mpurrr    \u001b[39m 1.0.2     \n",
      "── \u001b[1mConflicts\u001b[22m ────────────────────────────────────────── tidyverse_conflicts() ──\n",
      "\u001b[31m✖\u001b[39m \u001b[34mlubridate\u001b[39m::\u001b[32m%within%()\u001b[39m masks \u001b[34mIRanges\u001b[39m::%within%()\n",
      "\u001b[31m✖\u001b[39m \u001b[34mdplyr\u001b[39m::\u001b[32mcollapse()\u001b[39m     masks \u001b[34mIRanges\u001b[39m::collapse()\n",
      "\u001b[31m✖\u001b[39m \u001b[34mdplyr\u001b[39m::\u001b[32mcombine()\u001b[39m      masks \u001b[34mBiobase\u001b[39m::combine(), \u001b[34mBiocGenerics\u001b[39m::combine()\n",
      "\u001b[31m✖\u001b[39m \u001b[34mdplyr\u001b[39m::\u001b[32mcount()\u001b[39m        masks \u001b[34mmatrixStats\u001b[39m::count()\n",
      "\u001b[31m✖\u001b[39m \u001b[34mdplyr\u001b[39m::\u001b[32mdesc()\u001b[39m         masks \u001b[34mIRanges\u001b[39m::desc()\n",
      "\u001b[31m✖\u001b[39m \u001b[34mtidyr\u001b[39m::\u001b[32mexpand()\u001b[39m       masks \u001b[34mS4Vectors\u001b[39m::expand()\n",
      "\u001b[31m✖\u001b[39m \u001b[34mdplyr\u001b[39m::\u001b[32mfilter()\u001b[39m       masks \u001b[34mstats\u001b[39m::filter()\n",
      "\u001b[31m✖\u001b[39m \u001b[34mdplyr\u001b[39m::\u001b[32mfirst()\u001b[39m        masks \u001b[34mS4Vectors\u001b[39m::first()\n",
      "\u001b[31m✖\u001b[39m \u001b[34mdplyr\u001b[39m::\u001b[32mlag()\u001b[39m          masks \u001b[34mstats\u001b[39m::lag()\n",
      "\u001b[31m✖\u001b[39m \u001b[34mggplot2\u001b[39m::\u001b[32mPosition()\u001b[39m   masks \u001b[34mBiocGenerics\u001b[39m::Position(), \u001b[34mbase\u001b[39m::Position()\n",
      "\u001b[31m✖\u001b[39m \u001b[34mpurrr\u001b[39m::\u001b[32mreduce()\u001b[39m       masks \u001b[34mGenomicRanges\u001b[39m::reduce(), \u001b[34mIRanges\u001b[39m::reduce()\n",
      "\u001b[31m✖\u001b[39m \u001b[34mdplyr\u001b[39m::\u001b[32mrename()\u001b[39m       masks \u001b[34mS4Vectors\u001b[39m::rename()\n",
      "\u001b[31m✖\u001b[39m \u001b[34mlubridate\u001b[39m::\u001b[32msecond()\u001b[39m   masks \u001b[34mS4Vectors\u001b[39m::second()\n",
      "\u001b[31m✖\u001b[39m \u001b[34mlubridate\u001b[39m::\u001b[32msecond<-()\u001b[39m masks \u001b[34mS4Vectors\u001b[39m::second<-()\n",
      "\u001b[31m✖\u001b[39m \u001b[34mdplyr\u001b[39m::\u001b[32mslice()\u001b[39m        masks \u001b[34mIRanges\u001b[39m::slice()\n",
      "\u001b[36mℹ\u001b[39m Use the conflicted package (\u001b[3m\u001b[34m<http://conflicted.r-lib.org/>\u001b[39m\u001b[23m) to force all conflicts to become errors\n"
     ]
    }
   ],
   "source": [
    "# load diffbind\n",
    "library(DiffBind)\n",
    "\n",
    "library(tidyverse)"
   ]
  },
  {
   "cell_type": "markdown",
   "id": "bf40b1a0-0ef2-487a-8a1d-ead77215573a",
   "metadata": {},
   "source": [
    "# load data\n",
    "## samples"
   ]
  },
  {
   "cell_type": "markdown",
   "id": "e80ef389-7080-4246-8ef2-790ee3ee8914",
   "metadata": {},
   "source": [
    "### example data"
   ]
  },
  {
   "cell_type": "code",
   "execution_count": null,
   "id": "f069aac0-0d87-47f7-81c1-7b4ca414495b",
   "metadata": {},
   "outputs": [],
   "source": [
    "#tmpdir <- tempdir()\n",
    "#url <- 'https://content.cruk.cam.ac.uk/bioinformatics/software/DiffBind/DiffBind_vignette_data.tar.gz'\n",
    "#file <- basename(url)\n",
    "#options(timeout=600)\n",
    "#download.file(url, file.path(tmpdir,file))\n",
    "#untar(file.path(tmpdir,file), exdir = tmpdir )\n",
    "#setwd(file.path(tmpdir,\"DiffBind_Vignette\"))\"\"\""
   ]
  },
  {
   "cell_type": "markdown",
   "id": "c441e9f3-1e77-42d3-95cf-2e81e18edc92",
   "metadata": {},
   "source": [
    "## US ATAC"
   ]
  },
  {
   "cell_type": "code",
   "execution_count": 2,
   "id": "03c2fd27-6de4-45c2-9ff9-718348acea6e",
   "metadata": {
    "ExecuteTime": {
     "end_time": "2024-01-17T02:07:10.957736Z",
     "start_time": "2024-01-17T02:07:10.914Z"
    }
   },
   "outputs": [
    {
     "data": {
      "text/html": [
       "<table class=\"dataframe\">\n",
       "<caption>A data.frame: 24 × 7</caption>\n",
       "<thead>\n",
       "\t<tr><th scope=col>SampleID</th><th scope=col>Tissue</th><th scope=col>Factor</th><th scope=col>Replicate</th><th scope=col>Peaks</th><th scope=col>PeakCaller</th><th scope=col>bamReads</th></tr>\n",
       "\t<tr><th scope=col>&lt;chr&gt;</th><th scope=col>&lt;chr&gt;</th><th scope=col>&lt;chr&gt;</th><th scope=col>&lt;int&gt;</th><th scope=col>&lt;chr&gt;</th><th scope=col>&lt;chr&gt;</th><th scope=col>&lt;chr&gt;</th></tr>\n",
       "</thead>\n",
       "<tbody>\n",
       "\t<tr><td>HEPG2-C1-ATAC-q.7_peaks.narrowPeak</td><td>HEPG2</td><td>control  </td><td>1</td><td>/wynton/group/ahituv/data/US-MPRA/ATAC-seq/narrowPeak/HEPG2-C1-ATAC-q.7_peaks.narrowPeak</td><td>narrow</td><td>/wynton/group/ahituv/data/US-MPRA/ATAC-seq/bam/HEPG2-C1-ATAC-rmChrM-rmDup.bam</td></tr>\n",
       "\t<tr><td>HEPG2-C2-ATAC-q.7_peaks.narrowPeak</td><td>HEPG2</td><td>control  </td><td>2</td><td>/wynton/group/ahituv/data/US-MPRA/ATAC-seq/narrowPeak/HEPG2-C2-ATAC-q.7_peaks.narrowPeak</td><td>narrow</td><td>/wynton/group/ahituv/data/US-MPRA/ATAC-seq/bam/HEPG2-C2-ATAC-rmChrM-rmDup.bam</td></tr>\n",
       "\t<tr><td>HEPG2-C3-ATAC-q.7_peaks.narrowPeak</td><td>HEPG2</td><td>control  </td><td>3</td><td>/wynton/group/ahituv/data/US-MPRA/ATAC-seq/narrowPeak/HEPG2-C3-ATAC-q.7_peaks.narrowPeak</td><td>narrow</td><td>/wynton/group/ahituv/data/US-MPRA/ATAC-seq/bam/HEPG2-C3-ATAC-rmChrM-rmDup.bam</td></tr>\n",
       "\t<tr><td>HEPG2-T1-ATAC-q.7_peaks.narrowPeak</td><td>HEPG2</td><td>treatment</td><td>1</td><td>/wynton/group/ahituv/data/US-MPRA/ATAC-seq/narrowPeak/HEPG2-T1-ATAC-q.7_peaks.narrowPeak</td><td>narrow</td><td>/wynton/group/ahituv/data/US-MPRA/ATAC-seq/bam/HEPG2-T1-ATAC-rmChrM-rmDup.bam</td></tr>\n",
       "\t<tr><td>HEPG2-T2-ATAC-q.7_peaks.narrowPeak</td><td>HEPG2</td><td>treatment</td><td>2</td><td>/wynton/group/ahituv/data/US-MPRA/ATAC-seq/narrowPeak/HEPG2-T2-ATAC-q.7_peaks.narrowPeak</td><td>narrow</td><td>/wynton/group/ahituv/data/US-MPRA/ATAC-seq/bam/HEPG2-T2-ATAC-rmChrM-rmDup.bam</td></tr>\n",
       "\t<tr><td>HEPG2-T3-ATAC-q.7_peaks.narrowPeak</td><td>HEPG2</td><td>treatment</td><td>3</td><td>/wynton/group/ahituv/data/US-MPRA/ATAC-seq/narrowPeak/HEPG2-T3-ATAC-q.7_peaks.narrowPeak</td><td>narrow</td><td>/wynton/group/ahituv/data/US-MPRA/ATAC-seq/bam/HEPG2-T3-ATAC-rmChrM-rmDup.bam</td></tr>\n",
       "\t<tr><td>K562-C1-ATAC-q.7_peaks.narrowPeak </td><td>K562 </td><td>control  </td><td>1</td><td>/wynton/group/ahituv/data/US-MPRA/ATAC-seq/narrowPeak/K562-C1-ATAC-q.7_peaks.narrowPeak </td><td>narrow</td><td>/wynton/group/ahituv/data/US-MPRA/ATAC-seq/bam/K562-C1-ATAC-rmChrM-rmDup.bam </td></tr>\n",
       "\t<tr><td>K562-C2-ATAC-q.7_peaks.narrowPeak </td><td>K562 </td><td>control  </td><td>2</td><td>/wynton/group/ahituv/data/US-MPRA/ATAC-seq/narrowPeak/K562-C2-ATAC-q.7_peaks.narrowPeak </td><td>narrow</td><td>/wynton/group/ahituv/data/US-MPRA/ATAC-seq/bam/K562-C2-ATAC-rmChrM-rmDup.bam </td></tr>\n",
       "\t<tr><td>K562-C3-ATAC-q.7_peaks.narrowPeak </td><td>K562 </td><td>control  </td><td>3</td><td>/wynton/group/ahituv/data/US-MPRA/ATAC-seq/narrowPeak/K562-C3-ATAC-q.7_peaks.narrowPeak </td><td>narrow</td><td>/wynton/group/ahituv/data/US-MPRA/ATAC-seq/bam/K562-C3-ATAC-rmChrM-rmDup.bam </td></tr>\n",
       "\t<tr><td>K562-T1-ATAC-q.7_peaks.narrowPeak </td><td>K562 </td><td>treatment</td><td>1</td><td>/wynton/group/ahituv/data/US-MPRA/ATAC-seq/narrowPeak/K562-T1-ATAC-q.7_peaks.narrowPeak </td><td>narrow</td><td>/wynton/group/ahituv/data/US-MPRA/ATAC-seq/bam/K562-T1-ATAC-rmChrM-rmDup.bam </td></tr>\n",
       "\t<tr><td>K562-T2-ATAC-q.7_peaks.narrowPeak </td><td>K562 </td><td>treatment</td><td>2</td><td>/wynton/group/ahituv/data/US-MPRA/ATAC-seq/narrowPeak/K562-T2-ATAC-q.7_peaks.narrowPeak </td><td>narrow</td><td>/wynton/group/ahituv/data/US-MPRA/ATAC-seq/bam/K562-T2-ATAC-rmChrM-rmDup.bam </td></tr>\n",
       "\t<tr><td>K562-T3-ATAC-q.7_peaks.narrowPeak </td><td>K562 </td><td>treatment</td><td>3</td><td>/wynton/group/ahituv/data/US-MPRA/ATAC-seq/narrowPeak/K562-T3-ATAC-q.7_peaks.narrowPeak </td><td>narrow</td><td>/wynton/group/ahituv/data/US-MPRA/ATAC-seq/bam/K562-T3-ATAC-rmChrM-rmDup.bam </td></tr>\n",
       "\t<tr><td>BJ-C1-ATAC-q.7_peaks.narrowPeak   </td><td>BJ   </td><td>control  </td><td>1</td><td>/wynton/group/ahituv/data/US-MPRA/ATAC-seq/narrowPeak/BJ-C1-ATAC-q.7_peaks.narrowPeak   </td><td>narrow</td><td>/wynton/group/ahituv/data/US-MPRA/ATAC-seq/bam/BJ-C1-ATAC-rmChrM-rmDup.bam   </td></tr>\n",
       "\t<tr><td>BJ-C2-ATAC-q.7_peaks.narrowPeak   </td><td>BJ   </td><td>control  </td><td>2</td><td>/wynton/group/ahituv/data/US-MPRA/ATAC-seq/narrowPeak/BJ-C2-ATAC-q.7_peaks.narrowPeak   </td><td>narrow</td><td>/wynton/group/ahituv/data/US-MPRA/ATAC-seq/bam/BJ-C2-ATAC-rmChrM-rmDup.bam   </td></tr>\n",
       "\t<tr><td>BJ-C3-ATAC-q.7_peaks.narrowPeak   </td><td>BJ   </td><td>control  </td><td>3</td><td>/wynton/group/ahituv/data/US-MPRA/ATAC-seq/narrowPeak/BJ-C3-ATAC-q.7_peaks.narrowPeak   </td><td>narrow</td><td>/wynton/group/ahituv/data/US-MPRA/ATAC-seq/bam/BJ-C3-ATAC-rmChrM-rmDup.bam   </td></tr>\n",
       "\t<tr><td>BJ-T1-ATAC-q.7_peaks.narrowPeak   </td><td>BJ   </td><td>treatment</td><td>1</td><td>/wynton/group/ahituv/data/US-MPRA/ATAC-seq/narrowPeak/BJ-T1-ATAC-q.7_peaks.narrowPeak   </td><td>narrow</td><td>/wynton/group/ahituv/data/US-MPRA/ATAC-seq/bam/BJ-T1-ATAC-rmChrM-rmDup.bam   </td></tr>\n",
       "\t<tr><td>BJ-T2-ATAC-q.7_peaks.narrowPeak   </td><td>BJ   </td><td>treatment</td><td>2</td><td>/wynton/group/ahituv/data/US-MPRA/ATAC-seq/narrowPeak/BJ-T2-ATAC-q.7_peaks.narrowPeak   </td><td>narrow</td><td>/wynton/group/ahituv/data/US-MPRA/ATAC-seq/bam/BJ-T2-ATAC-rmChrM-rmDup.bam   </td></tr>\n",
       "\t<tr><td>BJ-T3-ATAC-q.7_peaks.narrowPeak   </td><td>BJ   </td><td>treatment</td><td>3</td><td>/wynton/group/ahituv/data/US-MPRA/ATAC-seq/narrowPeak/BJ-T3-ATAC-q.7_peaks.narrowPeak   </td><td>narrow</td><td>/wynton/group/ahituv/data/US-MPRA/ATAC-seq/bam/BJ-T3-ATAC-rmChrM-rmDup.bam   </td></tr>\n",
       "\t<tr><td>HOB-C1-ATAC-q.7_peaks.narrowPeak  </td><td>HOB  </td><td>control  </td><td>1</td><td>/wynton/group/ahituv/data/US-MPRA/ATAC-seq/narrowPeak/HOB-C1-ATAC-q.7_peaks.narrowPeak  </td><td>narrow</td><td>/wynton/group/ahituv/data/US-MPRA/ATAC-seq/bam/HOB-C1-ATAC-rmChrM-rmDup.bam  </td></tr>\n",
       "\t<tr><td>HOB-C2-ATAC-q.7_peaks.narrowPeak  </td><td>HOB  </td><td>control  </td><td>2</td><td>/wynton/group/ahituv/data/US-MPRA/ATAC-seq/narrowPeak/HOB-C2-ATAC-q.7_peaks.narrowPeak  </td><td>narrow</td><td>/wynton/group/ahituv/data/US-MPRA/ATAC-seq/bam/HOB-C2-ATAC-rmChrM-rmDup.bam  </td></tr>\n",
       "\t<tr><td>HOB-C3-ATAC-q.7_peaks.narrowPeak  </td><td>HOB  </td><td>control  </td><td>3</td><td>/wynton/group/ahituv/data/US-MPRA/ATAC-seq/narrowPeak/HOB-C3-ATAC-q.7_peaks.narrowPeak  </td><td>narrow</td><td>/wynton/group/ahituv/data/US-MPRA/ATAC-seq/bam/HOB-C3-ATAC-rmChrM-rmDup.bam  </td></tr>\n",
       "\t<tr><td>HOB-T1-ATAC-q.7_peaks.narrowPeak  </td><td>HOB  </td><td>treatment</td><td>1</td><td>/wynton/group/ahituv/data/US-MPRA/ATAC-seq/narrowPeak/HOB-T1-ATAC-q.7_peaks.narrowPeak  </td><td>narrow</td><td>/wynton/group/ahituv/data/US-MPRA/ATAC-seq/bam/HOB-T1-ATAC-rmChrM-rmDup.bam  </td></tr>\n",
       "\t<tr><td>HOB-T2-ATAC-q.7_peaks.narrowPeak  </td><td>HOB  </td><td>treatment</td><td>2</td><td>/wynton/group/ahituv/data/US-MPRA/ATAC-seq/narrowPeak/HOB-T2-ATAC-q.7_peaks.narrowPeak  </td><td>narrow</td><td>/wynton/group/ahituv/data/US-MPRA/ATAC-seq/bam/HOB-T2-ATAC-rmChrM-rmDup.bam  </td></tr>\n",
       "\t<tr><td>HOB-T3-ATAC-q.7_peaks.narrowPeak  </td><td>HOB  </td><td>treatment</td><td>3</td><td>/wynton/group/ahituv/data/US-MPRA/ATAC-seq/narrowPeak/HOB-T3-ATAC-q.7_peaks.narrowPeak  </td><td>narrow</td><td>/wynton/group/ahituv/data/US-MPRA/ATAC-seq/bam/HOB-T3-ATAC-rmChrM-rmDup.bam  </td></tr>\n",
       "</tbody>\n",
       "</table>\n"
      ],
      "text/latex": [
       "A data.frame: 24 × 7\n",
       "\\begin{tabular}{lllllll}\n",
       " SampleID & Tissue & Factor & Replicate & Peaks & PeakCaller & bamReads\\\\\n",
       " <chr> & <chr> & <chr> & <int> & <chr> & <chr> & <chr>\\\\\n",
       "\\hline\n",
       "\t HEPG2-C1-ATAC-q.7\\_peaks.narrowPeak & HEPG2 & control   & 1 & /wynton/group/ahituv/data/US-MPRA/ATAC-seq/narrowPeak/HEPG2-C1-ATAC-q.7\\_peaks.narrowPeak & narrow & /wynton/group/ahituv/data/US-MPRA/ATAC-seq/bam/HEPG2-C1-ATAC-rmChrM-rmDup.bam\\\\\n",
       "\t HEPG2-C2-ATAC-q.7\\_peaks.narrowPeak & HEPG2 & control   & 2 & /wynton/group/ahituv/data/US-MPRA/ATAC-seq/narrowPeak/HEPG2-C2-ATAC-q.7\\_peaks.narrowPeak & narrow & /wynton/group/ahituv/data/US-MPRA/ATAC-seq/bam/HEPG2-C2-ATAC-rmChrM-rmDup.bam\\\\\n",
       "\t HEPG2-C3-ATAC-q.7\\_peaks.narrowPeak & HEPG2 & control   & 3 & /wynton/group/ahituv/data/US-MPRA/ATAC-seq/narrowPeak/HEPG2-C3-ATAC-q.7\\_peaks.narrowPeak & narrow & /wynton/group/ahituv/data/US-MPRA/ATAC-seq/bam/HEPG2-C3-ATAC-rmChrM-rmDup.bam\\\\\n",
       "\t HEPG2-T1-ATAC-q.7\\_peaks.narrowPeak & HEPG2 & treatment & 1 & /wynton/group/ahituv/data/US-MPRA/ATAC-seq/narrowPeak/HEPG2-T1-ATAC-q.7\\_peaks.narrowPeak & narrow & /wynton/group/ahituv/data/US-MPRA/ATAC-seq/bam/HEPG2-T1-ATAC-rmChrM-rmDup.bam\\\\\n",
       "\t HEPG2-T2-ATAC-q.7\\_peaks.narrowPeak & HEPG2 & treatment & 2 & /wynton/group/ahituv/data/US-MPRA/ATAC-seq/narrowPeak/HEPG2-T2-ATAC-q.7\\_peaks.narrowPeak & narrow & /wynton/group/ahituv/data/US-MPRA/ATAC-seq/bam/HEPG2-T2-ATAC-rmChrM-rmDup.bam\\\\\n",
       "\t HEPG2-T3-ATAC-q.7\\_peaks.narrowPeak & HEPG2 & treatment & 3 & /wynton/group/ahituv/data/US-MPRA/ATAC-seq/narrowPeak/HEPG2-T3-ATAC-q.7\\_peaks.narrowPeak & narrow & /wynton/group/ahituv/data/US-MPRA/ATAC-seq/bam/HEPG2-T3-ATAC-rmChrM-rmDup.bam\\\\\n",
       "\t K562-C1-ATAC-q.7\\_peaks.narrowPeak  & K562  & control   & 1 & /wynton/group/ahituv/data/US-MPRA/ATAC-seq/narrowPeak/K562-C1-ATAC-q.7\\_peaks.narrowPeak  & narrow & /wynton/group/ahituv/data/US-MPRA/ATAC-seq/bam/K562-C1-ATAC-rmChrM-rmDup.bam \\\\\n",
       "\t K562-C2-ATAC-q.7\\_peaks.narrowPeak  & K562  & control   & 2 & /wynton/group/ahituv/data/US-MPRA/ATAC-seq/narrowPeak/K562-C2-ATAC-q.7\\_peaks.narrowPeak  & narrow & /wynton/group/ahituv/data/US-MPRA/ATAC-seq/bam/K562-C2-ATAC-rmChrM-rmDup.bam \\\\\n",
       "\t K562-C3-ATAC-q.7\\_peaks.narrowPeak  & K562  & control   & 3 & /wynton/group/ahituv/data/US-MPRA/ATAC-seq/narrowPeak/K562-C3-ATAC-q.7\\_peaks.narrowPeak  & narrow & /wynton/group/ahituv/data/US-MPRA/ATAC-seq/bam/K562-C3-ATAC-rmChrM-rmDup.bam \\\\\n",
       "\t K562-T1-ATAC-q.7\\_peaks.narrowPeak  & K562  & treatment & 1 & /wynton/group/ahituv/data/US-MPRA/ATAC-seq/narrowPeak/K562-T1-ATAC-q.7\\_peaks.narrowPeak  & narrow & /wynton/group/ahituv/data/US-MPRA/ATAC-seq/bam/K562-T1-ATAC-rmChrM-rmDup.bam \\\\\n",
       "\t K562-T2-ATAC-q.7\\_peaks.narrowPeak  & K562  & treatment & 2 & /wynton/group/ahituv/data/US-MPRA/ATAC-seq/narrowPeak/K562-T2-ATAC-q.7\\_peaks.narrowPeak  & narrow & /wynton/group/ahituv/data/US-MPRA/ATAC-seq/bam/K562-T2-ATAC-rmChrM-rmDup.bam \\\\\n",
       "\t K562-T3-ATAC-q.7\\_peaks.narrowPeak  & K562  & treatment & 3 & /wynton/group/ahituv/data/US-MPRA/ATAC-seq/narrowPeak/K562-T3-ATAC-q.7\\_peaks.narrowPeak  & narrow & /wynton/group/ahituv/data/US-MPRA/ATAC-seq/bam/K562-T3-ATAC-rmChrM-rmDup.bam \\\\\n",
       "\t BJ-C1-ATAC-q.7\\_peaks.narrowPeak    & BJ    & control   & 1 & /wynton/group/ahituv/data/US-MPRA/ATAC-seq/narrowPeak/BJ-C1-ATAC-q.7\\_peaks.narrowPeak    & narrow & /wynton/group/ahituv/data/US-MPRA/ATAC-seq/bam/BJ-C1-ATAC-rmChrM-rmDup.bam   \\\\\n",
       "\t BJ-C2-ATAC-q.7\\_peaks.narrowPeak    & BJ    & control   & 2 & /wynton/group/ahituv/data/US-MPRA/ATAC-seq/narrowPeak/BJ-C2-ATAC-q.7\\_peaks.narrowPeak    & narrow & /wynton/group/ahituv/data/US-MPRA/ATAC-seq/bam/BJ-C2-ATAC-rmChrM-rmDup.bam   \\\\\n",
       "\t BJ-C3-ATAC-q.7\\_peaks.narrowPeak    & BJ    & control   & 3 & /wynton/group/ahituv/data/US-MPRA/ATAC-seq/narrowPeak/BJ-C3-ATAC-q.7\\_peaks.narrowPeak    & narrow & /wynton/group/ahituv/data/US-MPRA/ATAC-seq/bam/BJ-C3-ATAC-rmChrM-rmDup.bam   \\\\\n",
       "\t BJ-T1-ATAC-q.7\\_peaks.narrowPeak    & BJ    & treatment & 1 & /wynton/group/ahituv/data/US-MPRA/ATAC-seq/narrowPeak/BJ-T1-ATAC-q.7\\_peaks.narrowPeak    & narrow & /wynton/group/ahituv/data/US-MPRA/ATAC-seq/bam/BJ-T1-ATAC-rmChrM-rmDup.bam   \\\\\n",
       "\t BJ-T2-ATAC-q.7\\_peaks.narrowPeak    & BJ    & treatment & 2 & /wynton/group/ahituv/data/US-MPRA/ATAC-seq/narrowPeak/BJ-T2-ATAC-q.7\\_peaks.narrowPeak    & narrow & /wynton/group/ahituv/data/US-MPRA/ATAC-seq/bam/BJ-T2-ATAC-rmChrM-rmDup.bam   \\\\\n",
       "\t BJ-T3-ATAC-q.7\\_peaks.narrowPeak    & BJ    & treatment & 3 & /wynton/group/ahituv/data/US-MPRA/ATAC-seq/narrowPeak/BJ-T3-ATAC-q.7\\_peaks.narrowPeak    & narrow & /wynton/group/ahituv/data/US-MPRA/ATAC-seq/bam/BJ-T3-ATAC-rmChrM-rmDup.bam   \\\\\n",
       "\t HOB-C1-ATAC-q.7\\_peaks.narrowPeak   & HOB   & control   & 1 & /wynton/group/ahituv/data/US-MPRA/ATAC-seq/narrowPeak/HOB-C1-ATAC-q.7\\_peaks.narrowPeak   & narrow & /wynton/group/ahituv/data/US-MPRA/ATAC-seq/bam/HOB-C1-ATAC-rmChrM-rmDup.bam  \\\\\n",
       "\t HOB-C2-ATAC-q.7\\_peaks.narrowPeak   & HOB   & control   & 2 & /wynton/group/ahituv/data/US-MPRA/ATAC-seq/narrowPeak/HOB-C2-ATAC-q.7\\_peaks.narrowPeak   & narrow & /wynton/group/ahituv/data/US-MPRA/ATAC-seq/bam/HOB-C2-ATAC-rmChrM-rmDup.bam  \\\\\n",
       "\t HOB-C3-ATAC-q.7\\_peaks.narrowPeak   & HOB   & control   & 3 & /wynton/group/ahituv/data/US-MPRA/ATAC-seq/narrowPeak/HOB-C3-ATAC-q.7\\_peaks.narrowPeak   & narrow & /wynton/group/ahituv/data/US-MPRA/ATAC-seq/bam/HOB-C3-ATAC-rmChrM-rmDup.bam  \\\\\n",
       "\t HOB-T1-ATAC-q.7\\_peaks.narrowPeak   & HOB   & treatment & 1 & /wynton/group/ahituv/data/US-MPRA/ATAC-seq/narrowPeak/HOB-T1-ATAC-q.7\\_peaks.narrowPeak   & narrow & /wynton/group/ahituv/data/US-MPRA/ATAC-seq/bam/HOB-T1-ATAC-rmChrM-rmDup.bam  \\\\\n",
       "\t HOB-T2-ATAC-q.7\\_peaks.narrowPeak   & HOB   & treatment & 2 & /wynton/group/ahituv/data/US-MPRA/ATAC-seq/narrowPeak/HOB-T2-ATAC-q.7\\_peaks.narrowPeak   & narrow & /wynton/group/ahituv/data/US-MPRA/ATAC-seq/bam/HOB-T2-ATAC-rmChrM-rmDup.bam  \\\\\n",
       "\t HOB-T3-ATAC-q.7\\_peaks.narrowPeak   & HOB   & treatment & 3 & /wynton/group/ahituv/data/US-MPRA/ATAC-seq/narrowPeak/HOB-T3-ATAC-q.7\\_peaks.narrowPeak   & narrow & /wynton/group/ahituv/data/US-MPRA/ATAC-seq/bam/HOB-T3-ATAC-rmChrM-rmDup.bam  \\\\\n",
       "\\end{tabular}\n"
      ],
      "text/markdown": [
       "\n",
       "A data.frame: 24 × 7\n",
       "\n",
       "| SampleID &lt;chr&gt; | Tissue &lt;chr&gt; | Factor &lt;chr&gt; | Replicate &lt;int&gt; | Peaks &lt;chr&gt; | PeakCaller &lt;chr&gt; | bamReads &lt;chr&gt; |\n",
       "|---|---|---|---|---|---|---|\n",
       "| HEPG2-C1-ATAC-q.7_peaks.narrowPeak | HEPG2 | control   | 1 | /wynton/group/ahituv/data/US-MPRA/ATAC-seq/narrowPeak/HEPG2-C1-ATAC-q.7_peaks.narrowPeak | narrow | /wynton/group/ahituv/data/US-MPRA/ATAC-seq/bam/HEPG2-C1-ATAC-rmChrM-rmDup.bam |\n",
       "| HEPG2-C2-ATAC-q.7_peaks.narrowPeak | HEPG2 | control   | 2 | /wynton/group/ahituv/data/US-MPRA/ATAC-seq/narrowPeak/HEPG2-C2-ATAC-q.7_peaks.narrowPeak | narrow | /wynton/group/ahituv/data/US-MPRA/ATAC-seq/bam/HEPG2-C2-ATAC-rmChrM-rmDup.bam |\n",
       "| HEPG2-C3-ATAC-q.7_peaks.narrowPeak | HEPG2 | control   | 3 | /wynton/group/ahituv/data/US-MPRA/ATAC-seq/narrowPeak/HEPG2-C3-ATAC-q.7_peaks.narrowPeak | narrow | /wynton/group/ahituv/data/US-MPRA/ATAC-seq/bam/HEPG2-C3-ATAC-rmChrM-rmDup.bam |\n",
       "| HEPG2-T1-ATAC-q.7_peaks.narrowPeak | HEPG2 | treatment | 1 | /wynton/group/ahituv/data/US-MPRA/ATAC-seq/narrowPeak/HEPG2-T1-ATAC-q.7_peaks.narrowPeak | narrow | /wynton/group/ahituv/data/US-MPRA/ATAC-seq/bam/HEPG2-T1-ATAC-rmChrM-rmDup.bam |\n",
       "| HEPG2-T2-ATAC-q.7_peaks.narrowPeak | HEPG2 | treatment | 2 | /wynton/group/ahituv/data/US-MPRA/ATAC-seq/narrowPeak/HEPG2-T2-ATAC-q.7_peaks.narrowPeak | narrow | /wynton/group/ahituv/data/US-MPRA/ATAC-seq/bam/HEPG2-T2-ATAC-rmChrM-rmDup.bam |\n",
       "| HEPG2-T3-ATAC-q.7_peaks.narrowPeak | HEPG2 | treatment | 3 | /wynton/group/ahituv/data/US-MPRA/ATAC-seq/narrowPeak/HEPG2-T3-ATAC-q.7_peaks.narrowPeak | narrow | /wynton/group/ahituv/data/US-MPRA/ATAC-seq/bam/HEPG2-T3-ATAC-rmChrM-rmDup.bam |\n",
       "| K562-C1-ATAC-q.7_peaks.narrowPeak  | K562  | control   | 1 | /wynton/group/ahituv/data/US-MPRA/ATAC-seq/narrowPeak/K562-C1-ATAC-q.7_peaks.narrowPeak  | narrow | /wynton/group/ahituv/data/US-MPRA/ATAC-seq/bam/K562-C1-ATAC-rmChrM-rmDup.bam  |\n",
       "| K562-C2-ATAC-q.7_peaks.narrowPeak  | K562  | control   | 2 | /wynton/group/ahituv/data/US-MPRA/ATAC-seq/narrowPeak/K562-C2-ATAC-q.7_peaks.narrowPeak  | narrow | /wynton/group/ahituv/data/US-MPRA/ATAC-seq/bam/K562-C2-ATAC-rmChrM-rmDup.bam  |\n",
       "| K562-C3-ATAC-q.7_peaks.narrowPeak  | K562  | control   | 3 | /wynton/group/ahituv/data/US-MPRA/ATAC-seq/narrowPeak/K562-C3-ATAC-q.7_peaks.narrowPeak  | narrow | /wynton/group/ahituv/data/US-MPRA/ATAC-seq/bam/K562-C3-ATAC-rmChrM-rmDup.bam  |\n",
       "| K562-T1-ATAC-q.7_peaks.narrowPeak  | K562  | treatment | 1 | /wynton/group/ahituv/data/US-MPRA/ATAC-seq/narrowPeak/K562-T1-ATAC-q.7_peaks.narrowPeak  | narrow | /wynton/group/ahituv/data/US-MPRA/ATAC-seq/bam/K562-T1-ATAC-rmChrM-rmDup.bam  |\n",
       "| K562-T2-ATAC-q.7_peaks.narrowPeak  | K562  | treatment | 2 | /wynton/group/ahituv/data/US-MPRA/ATAC-seq/narrowPeak/K562-T2-ATAC-q.7_peaks.narrowPeak  | narrow | /wynton/group/ahituv/data/US-MPRA/ATAC-seq/bam/K562-T2-ATAC-rmChrM-rmDup.bam  |\n",
       "| K562-T3-ATAC-q.7_peaks.narrowPeak  | K562  | treatment | 3 | /wynton/group/ahituv/data/US-MPRA/ATAC-seq/narrowPeak/K562-T3-ATAC-q.7_peaks.narrowPeak  | narrow | /wynton/group/ahituv/data/US-MPRA/ATAC-seq/bam/K562-T3-ATAC-rmChrM-rmDup.bam  |\n",
       "| BJ-C1-ATAC-q.7_peaks.narrowPeak    | BJ    | control   | 1 | /wynton/group/ahituv/data/US-MPRA/ATAC-seq/narrowPeak/BJ-C1-ATAC-q.7_peaks.narrowPeak    | narrow | /wynton/group/ahituv/data/US-MPRA/ATAC-seq/bam/BJ-C1-ATAC-rmChrM-rmDup.bam    |\n",
       "| BJ-C2-ATAC-q.7_peaks.narrowPeak    | BJ    | control   | 2 | /wynton/group/ahituv/data/US-MPRA/ATAC-seq/narrowPeak/BJ-C2-ATAC-q.7_peaks.narrowPeak    | narrow | /wynton/group/ahituv/data/US-MPRA/ATAC-seq/bam/BJ-C2-ATAC-rmChrM-rmDup.bam    |\n",
       "| BJ-C3-ATAC-q.7_peaks.narrowPeak    | BJ    | control   | 3 | /wynton/group/ahituv/data/US-MPRA/ATAC-seq/narrowPeak/BJ-C3-ATAC-q.7_peaks.narrowPeak    | narrow | /wynton/group/ahituv/data/US-MPRA/ATAC-seq/bam/BJ-C3-ATAC-rmChrM-rmDup.bam    |\n",
       "| BJ-T1-ATAC-q.7_peaks.narrowPeak    | BJ    | treatment | 1 | /wynton/group/ahituv/data/US-MPRA/ATAC-seq/narrowPeak/BJ-T1-ATAC-q.7_peaks.narrowPeak    | narrow | /wynton/group/ahituv/data/US-MPRA/ATAC-seq/bam/BJ-T1-ATAC-rmChrM-rmDup.bam    |\n",
       "| BJ-T2-ATAC-q.7_peaks.narrowPeak    | BJ    | treatment | 2 | /wynton/group/ahituv/data/US-MPRA/ATAC-seq/narrowPeak/BJ-T2-ATAC-q.7_peaks.narrowPeak    | narrow | /wynton/group/ahituv/data/US-MPRA/ATAC-seq/bam/BJ-T2-ATAC-rmChrM-rmDup.bam    |\n",
       "| BJ-T3-ATAC-q.7_peaks.narrowPeak    | BJ    | treatment | 3 | /wynton/group/ahituv/data/US-MPRA/ATAC-seq/narrowPeak/BJ-T3-ATAC-q.7_peaks.narrowPeak    | narrow | /wynton/group/ahituv/data/US-MPRA/ATAC-seq/bam/BJ-T3-ATAC-rmChrM-rmDup.bam    |\n",
       "| HOB-C1-ATAC-q.7_peaks.narrowPeak   | HOB   | control   | 1 | /wynton/group/ahituv/data/US-MPRA/ATAC-seq/narrowPeak/HOB-C1-ATAC-q.7_peaks.narrowPeak   | narrow | /wynton/group/ahituv/data/US-MPRA/ATAC-seq/bam/HOB-C1-ATAC-rmChrM-rmDup.bam   |\n",
       "| HOB-C2-ATAC-q.7_peaks.narrowPeak   | HOB   | control   | 2 | /wynton/group/ahituv/data/US-MPRA/ATAC-seq/narrowPeak/HOB-C2-ATAC-q.7_peaks.narrowPeak   | narrow | /wynton/group/ahituv/data/US-MPRA/ATAC-seq/bam/HOB-C2-ATAC-rmChrM-rmDup.bam   |\n",
       "| HOB-C3-ATAC-q.7_peaks.narrowPeak   | HOB   | control   | 3 | /wynton/group/ahituv/data/US-MPRA/ATAC-seq/narrowPeak/HOB-C3-ATAC-q.7_peaks.narrowPeak   | narrow | /wynton/group/ahituv/data/US-MPRA/ATAC-seq/bam/HOB-C3-ATAC-rmChrM-rmDup.bam   |\n",
       "| HOB-T1-ATAC-q.7_peaks.narrowPeak   | HOB   | treatment | 1 | /wynton/group/ahituv/data/US-MPRA/ATAC-seq/narrowPeak/HOB-T1-ATAC-q.7_peaks.narrowPeak   | narrow | /wynton/group/ahituv/data/US-MPRA/ATAC-seq/bam/HOB-T1-ATAC-rmChrM-rmDup.bam   |\n",
       "| HOB-T2-ATAC-q.7_peaks.narrowPeak   | HOB   | treatment | 2 | /wynton/group/ahituv/data/US-MPRA/ATAC-seq/narrowPeak/HOB-T2-ATAC-q.7_peaks.narrowPeak   | narrow | /wynton/group/ahituv/data/US-MPRA/ATAC-seq/bam/HOB-T2-ATAC-rmChrM-rmDup.bam   |\n",
       "| HOB-T3-ATAC-q.7_peaks.narrowPeak   | HOB   | treatment | 3 | /wynton/group/ahituv/data/US-MPRA/ATAC-seq/narrowPeak/HOB-T3-ATAC-q.7_peaks.narrowPeak   | narrow | /wynton/group/ahituv/data/US-MPRA/ATAC-seq/bam/HOB-T3-ATAC-rmChrM-rmDup.bam   |\n",
       "\n"
      ],
      "text/plain": [
       "   SampleID                           Tissue Factor    Replicate\n",
       "1  HEPG2-C1-ATAC-q.7_peaks.narrowPeak HEPG2  control   1        \n",
       "2  HEPG2-C2-ATAC-q.7_peaks.narrowPeak HEPG2  control   2        \n",
       "3  HEPG2-C3-ATAC-q.7_peaks.narrowPeak HEPG2  control   3        \n",
       "4  HEPG2-T1-ATAC-q.7_peaks.narrowPeak HEPG2  treatment 1        \n",
       "5  HEPG2-T2-ATAC-q.7_peaks.narrowPeak HEPG2  treatment 2        \n",
       "6  HEPG2-T3-ATAC-q.7_peaks.narrowPeak HEPG2  treatment 3        \n",
       "7  K562-C1-ATAC-q.7_peaks.narrowPeak  K562   control   1        \n",
       "8  K562-C2-ATAC-q.7_peaks.narrowPeak  K562   control   2        \n",
       "9  K562-C3-ATAC-q.7_peaks.narrowPeak  K562   control   3        \n",
       "10 K562-T1-ATAC-q.7_peaks.narrowPeak  K562   treatment 1        \n",
       "11 K562-T2-ATAC-q.7_peaks.narrowPeak  K562   treatment 2        \n",
       "12 K562-T3-ATAC-q.7_peaks.narrowPeak  K562   treatment 3        \n",
       "13 BJ-C1-ATAC-q.7_peaks.narrowPeak    BJ     control   1        \n",
       "14 BJ-C2-ATAC-q.7_peaks.narrowPeak    BJ     control   2        \n",
       "15 BJ-C3-ATAC-q.7_peaks.narrowPeak    BJ     control   3        \n",
       "16 BJ-T1-ATAC-q.7_peaks.narrowPeak    BJ     treatment 1        \n",
       "17 BJ-T2-ATAC-q.7_peaks.narrowPeak    BJ     treatment 2        \n",
       "18 BJ-T3-ATAC-q.7_peaks.narrowPeak    BJ     treatment 3        \n",
       "19 HOB-C1-ATAC-q.7_peaks.narrowPeak   HOB    control   1        \n",
       "20 HOB-C2-ATAC-q.7_peaks.narrowPeak   HOB    control   2        \n",
       "21 HOB-C3-ATAC-q.7_peaks.narrowPeak   HOB    control   3        \n",
       "22 HOB-T1-ATAC-q.7_peaks.narrowPeak   HOB    treatment 1        \n",
       "23 HOB-T2-ATAC-q.7_peaks.narrowPeak   HOB    treatment 2        \n",
       "24 HOB-T3-ATAC-q.7_peaks.narrowPeak   HOB    treatment 3        \n",
       "   Peaks                                                                                   \n",
       "1  /wynton/group/ahituv/data/US-MPRA/ATAC-seq/narrowPeak/HEPG2-C1-ATAC-q.7_peaks.narrowPeak\n",
       "2  /wynton/group/ahituv/data/US-MPRA/ATAC-seq/narrowPeak/HEPG2-C2-ATAC-q.7_peaks.narrowPeak\n",
       "3  /wynton/group/ahituv/data/US-MPRA/ATAC-seq/narrowPeak/HEPG2-C3-ATAC-q.7_peaks.narrowPeak\n",
       "4  /wynton/group/ahituv/data/US-MPRA/ATAC-seq/narrowPeak/HEPG2-T1-ATAC-q.7_peaks.narrowPeak\n",
       "5  /wynton/group/ahituv/data/US-MPRA/ATAC-seq/narrowPeak/HEPG2-T2-ATAC-q.7_peaks.narrowPeak\n",
       "6  /wynton/group/ahituv/data/US-MPRA/ATAC-seq/narrowPeak/HEPG2-T3-ATAC-q.7_peaks.narrowPeak\n",
       "7  /wynton/group/ahituv/data/US-MPRA/ATAC-seq/narrowPeak/K562-C1-ATAC-q.7_peaks.narrowPeak \n",
       "8  /wynton/group/ahituv/data/US-MPRA/ATAC-seq/narrowPeak/K562-C2-ATAC-q.7_peaks.narrowPeak \n",
       "9  /wynton/group/ahituv/data/US-MPRA/ATAC-seq/narrowPeak/K562-C3-ATAC-q.7_peaks.narrowPeak \n",
       "10 /wynton/group/ahituv/data/US-MPRA/ATAC-seq/narrowPeak/K562-T1-ATAC-q.7_peaks.narrowPeak \n",
       "11 /wynton/group/ahituv/data/US-MPRA/ATAC-seq/narrowPeak/K562-T2-ATAC-q.7_peaks.narrowPeak \n",
       "12 /wynton/group/ahituv/data/US-MPRA/ATAC-seq/narrowPeak/K562-T3-ATAC-q.7_peaks.narrowPeak \n",
       "13 /wynton/group/ahituv/data/US-MPRA/ATAC-seq/narrowPeak/BJ-C1-ATAC-q.7_peaks.narrowPeak   \n",
       "14 /wynton/group/ahituv/data/US-MPRA/ATAC-seq/narrowPeak/BJ-C2-ATAC-q.7_peaks.narrowPeak   \n",
       "15 /wynton/group/ahituv/data/US-MPRA/ATAC-seq/narrowPeak/BJ-C3-ATAC-q.7_peaks.narrowPeak   \n",
       "16 /wynton/group/ahituv/data/US-MPRA/ATAC-seq/narrowPeak/BJ-T1-ATAC-q.7_peaks.narrowPeak   \n",
       "17 /wynton/group/ahituv/data/US-MPRA/ATAC-seq/narrowPeak/BJ-T2-ATAC-q.7_peaks.narrowPeak   \n",
       "18 /wynton/group/ahituv/data/US-MPRA/ATAC-seq/narrowPeak/BJ-T3-ATAC-q.7_peaks.narrowPeak   \n",
       "19 /wynton/group/ahituv/data/US-MPRA/ATAC-seq/narrowPeak/HOB-C1-ATAC-q.7_peaks.narrowPeak  \n",
       "20 /wynton/group/ahituv/data/US-MPRA/ATAC-seq/narrowPeak/HOB-C2-ATAC-q.7_peaks.narrowPeak  \n",
       "21 /wynton/group/ahituv/data/US-MPRA/ATAC-seq/narrowPeak/HOB-C3-ATAC-q.7_peaks.narrowPeak  \n",
       "22 /wynton/group/ahituv/data/US-MPRA/ATAC-seq/narrowPeak/HOB-T1-ATAC-q.7_peaks.narrowPeak  \n",
       "23 /wynton/group/ahituv/data/US-MPRA/ATAC-seq/narrowPeak/HOB-T2-ATAC-q.7_peaks.narrowPeak  \n",
       "24 /wynton/group/ahituv/data/US-MPRA/ATAC-seq/narrowPeak/HOB-T3-ATAC-q.7_peaks.narrowPeak  \n",
       "   PeakCaller\n",
       "1  narrow    \n",
       "2  narrow    \n",
       "3  narrow    \n",
       "4  narrow    \n",
       "5  narrow    \n",
       "6  narrow    \n",
       "7  narrow    \n",
       "8  narrow    \n",
       "9  narrow    \n",
       "10 narrow    \n",
       "11 narrow    \n",
       "12 narrow    \n",
       "13 narrow    \n",
       "14 narrow    \n",
       "15 narrow    \n",
       "16 narrow    \n",
       "17 narrow    \n",
       "18 narrow    \n",
       "19 narrow    \n",
       "20 narrow    \n",
       "21 narrow    \n",
       "22 narrow    \n",
       "23 narrow    \n",
       "24 narrow    \n",
       "   bamReads                                                                     \n",
       "1  /wynton/group/ahituv/data/US-MPRA/ATAC-seq/bam/HEPG2-C1-ATAC-rmChrM-rmDup.bam\n",
       "2  /wynton/group/ahituv/data/US-MPRA/ATAC-seq/bam/HEPG2-C2-ATAC-rmChrM-rmDup.bam\n",
       "3  /wynton/group/ahituv/data/US-MPRA/ATAC-seq/bam/HEPG2-C3-ATAC-rmChrM-rmDup.bam\n",
       "4  /wynton/group/ahituv/data/US-MPRA/ATAC-seq/bam/HEPG2-T1-ATAC-rmChrM-rmDup.bam\n",
       "5  /wynton/group/ahituv/data/US-MPRA/ATAC-seq/bam/HEPG2-T2-ATAC-rmChrM-rmDup.bam\n",
       "6  /wynton/group/ahituv/data/US-MPRA/ATAC-seq/bam/HEPG2-T3-ATAC-rmChrM-rmDup.bam\n",
       "7  /wynton/group/ahituv/data/US-MPRA/ATAC-seq/bam/K562-C1-ATAC-rmChrM-rmDup.bam \n",
       "8  /wynton/group/ahituv/data/US-MPRA/ATAC-seq/bam/K562-C2-ATAC-rmChrM-rmDup.bam \n",
       "9  /wynton/group/ahituv/data/US-MPRA/ATAC-seq/bam/K562-C3-ATAC-rmChrM-rmDup.bam \n",
       "10 /wynton/group/ahituv/data/US-MPRA/ATAC-seq/bam/K562-T1-ATAC-rmChrM-rmDup.bam \n",
       "11 /wynton/group/ahituv/data/US-MPRA/ATAC-seq/bam/K562-T2-ATAC-rmChrM-rmDup.bam \n",
       "12 /wynton/group/ahituv/data/US-MPRA/ATAC-seq/bam/K562-T3-ATAC-rmChrM-rmDup.bam \n",
       "13 /wynton/group/ahituv/data/US-MPRA/ATAC-seq/bam/BJ-C1-ATAC-rmChrM-rmDup.bam   \n",
       "14 /wynton/group/ahituv/data/US-MPRA/ATAC-seq/bam/BJ-C2-ATAC-rmChrM-rmDup.bam   \n",
       "15 /wynton/group/ahituv/data/US-MPRA/ATAC-seq/bam/BJ-C3-ATAC-rmChrM-rmDup.bam   \n",
       "16 /wynton/group/ahituv/data/US-MPRA/ATAC-seq/bam/BJ-T1-ATAC-rmChrM-rmDup.bam   \n",
       "17 /wynton/group/ahituv/data/US-MPRA/ATAC-seq/bam/BJ-T2-ATAC-rmChrM-rmDup.bam   \n",
       "18 /wynton/group/ahituv/data/US-MPRA/ATAC-seq/bam/BJ-T3-ATAC-rmChrM-rmDup.bam   \n",
       "19 /wynton/group/ahituv/data/US-MPRA/ATAC-seq/bam/HOB-C1-ATAC-rmChrM-rmDup.bam  \n",
       "20 /wynton/group/ahituv/data/US-MPRA/ATAC-seq/bam/HOB-C2-ATAC-rmChrM-rmDup.bam  \n",
       "21 /wynton/group/ahituv/data/US-MPRA/ATAC-seq/bam/HOB-C3-ATAC-rmChrM-rmDup.bam  \n",
       "22 /wynton/group/ahituv/data/US-MPRA/ATAC-seq/bam/HOB-T1-ATAC-rmChrM-rmDup.bam  \n",
       "23 /wynton/group/ahituv/data/US-MPRA/ATAC-seq/bam/HOB-T2-ATAC-rmChrM-rmDup.bam  \n",
       "24 /wynton/group/ahituv/data/US-MPRA/ATAC-seq/bam/HOB-T3-ATAC-rmChrM-rmDup.bam  "
      ]
     },
     "metadata": {},
     "output_type": "display_data"
    }
   ],
   "source": [
    "setwd(\"/wynton/group/ahituv/data/US-MPRA/ATAC-seq\")\n",
    "\n",
    "#sample_csv = \"/wynton/group/ahituv/data/US-MPRA/ATAC-seq/diffbind_samples/samples_diffbind_red.csv\"\n",
    "\n",
    "results_path = \"/wynton/group/ahituv/fongsl/projects/US/results/ATAC/\"\n",
    "sample_csv = \"/wynton/group/ahituv/data/US-MPRA/ATAC-seq/diffbind_samples/samples_diffbind.csv\"\n",
    "samples <- read.csv(sample_csv)\n",
    "\n",
    "samples"
   ]
  },
  {
   "cell_type": "markdown",
   "id": "55d3b38c-702f-455a-855e-3ffa0846a98c",
   "metadata": {},
   "source": [
    "## DBA object"
   ]
  },
  {
   "cell_type": "code",
   "execution_count": 3,
   "id": "352ab206-5cdc-4cec-9cec-f9e05a2d773a",
   "metadata": {
    "ExecuteTime": {
     "end_time": "2024-01-17T02:18:03.169198Z",
     "start_time": "2024-01-17T02:17:45.827Z"
    }
   },
   "outputs": [
    {
     "name": "stderr",
     "output_type": "stream",
     "text": [
      "HEPG2-C1-ATAC-q.7_peaks.narrowPeak HEPG2 control   1 narrow\n",
      "\n",
      "HEPG2-C2-ATAC-q.7_peaks.narrowPeak HEPG2 control   2 narrow\n",
      "\n",
      "HEPG2-C3-ATAC-q.7_peaks.narrowPeak HEPG2 control   3 narrow\n",
      "\n",
      "HEPG2-T1-ATAC-q.7_peaks.narrowPeak HEPG2 treatment   1 narrow\n",
      "\n",
      "HEPG2-T2-ATAC-q.7_peaks.narrowPeak HEPG2 treatment   2 narrow\n",
      "\n",
      "HEPG2-T3-ATAC-q.7_peaks.narrowPeak HEPG2 treatment   3 narrow\n",
      "\n",
      "K562-C1-ATAC-q.7_peaks.narrowPeak K562 control   1 narrow\n",
      "\n",
      "K562-C2-ATAC-q.7_peaks.narrowPeak K562 control   2 narrow\n",
      "\n",
      "K562-C3-ATAC-q.7_peaks.narrowPeak K562 control   3 narrow\n",
      "\n",
      "K562-T1-ATAC-q.7_peaks.narrowPeak K562 treatment   1 narrow\n",
      "\n",
      "K562-T2-ATAC-q.7_peaks.narrowPeak K562 treatment   2 narrow\n",
      "\n",
      "K562-T3-ATAC-q.7_peaks.narrowPeak K562 treatment   3 narrow\n",
      "\n",
      "BJ-C1-ATAC-q.7_peaks.narrowPeak BJ control   1 narrow\n",
      "\n",
      "BJ-C2-ATAC-q.7_peaks.narrowPeak BJ control   2 narrow\n",
      "\n",
      "BJ-C3-ATAC-q.7_peaks.narrowPeak BJ control   3 narrow\n",
      "\n",
      "BJ-T1-ATAC-q.7_peaks.narrowPeak BJ treatment   1 narrow\n",
      "\n",
      "BJ-T2-ATAC-q.7_peaks.narrowPeak BJ treatment   2 narrow\n",
      "\n",
      "BJ-T3-ATAC-q.7_peaks.narrowPeak BJ treatment   3 narrow\n",
      "\n",
      "HOB-C1-ATAC-q.7_peaks.narrowPeak HOB control   1 narrow\n",
      "\n",
      "HOB-C2-ATAC-q.7_peaks.narrowPeak HOB control   2 narrow\n",
      "\n",
      "HOB-C3-ATAC-q.7_peaks.narrowPeak HOB control   3 narrow\n",
      "\n",
      "HOB-T1-ATAC-q.7_peaks.narrowPeak HOB treatment   1 narrow\n",
      "\n",
      "HOB-T2-ATAC-q.7_peaks.narrowPeak HOB treatment   2 narrow\n",
      "\n",
      "HOB-T3-ATAC-q.7_peaks.narrowPeak HOB treatment   3 narrow\n",
      "\n"
     ]
    },
    {
     "data": {
      "text/plain": [
       "24 Samples, 383103 sites in matrix (951225 total):\n",
       "                                   ID Tissue    Factor Replicate Intervals\n",
       "1  HEPG2-C1-ATAC-q.7_peaks.narrowPeak  HEPG2   control         1    241002\n",
       "2  HEPG2-C2-ATAC-q.7_peaks.narrowPeak  HEPG2   control         2    205600\n",
       "3  HEPG2-C3-ATAC-q.7_peaks.narrowPeak  HEPG2   control         3    181583\n",
       "4  HEPG2-T1-ATAC-q.7_peaks.narrowPeak  HEPG2 treatment         1    164857\n",
       "5  HEPG2-T2-ATAC-q.7_peaks.narrowPeak  HEPG2 treatment         2    220768\n",
       "6  HEPG2-T3-ATAC-q.7_peaks.narrowPeak  HEPG2 treatment         3     96502\n",
       "7   K562-C1-ATAC-q.7_peaks.narrowPeak   K562   control         1     91160\n",
       "8   K562-C2-ATAC-q.7_peaks.narrowPeak   K562   control         2    121313\n",
       "9   K562-C3-ATAC-q.7_peaks.narrowPeak   K562   control         3    117677\n",
       "10  K562-T1-ATAC-q.7_peaks.narrowPeak   K562 treatment         1    103167\n",
       "11  K562-T2-ATAC-q.7_peaks.narrowPeak   K562 treatment         2    110553\n",
       "12  K562-T3-ATAC-q.7_peaks.narrowPeak   K562 treatment         3    105334\n",
       "13    BJ-C1-ATAC-q.7_peaks.narrowPeak     BJ   control         1    148578\n",
       "14    BJ-C2-ATAC-q.7_peaks.narrowPeak     BJ   control         2    140365\n",
       "15    BJ-C3-ATAC-q.7_peaks.narrowPeak     BJ   control         3     65066\n",
       "16    BJ-T1-ATAC-q.7_peaks.narrowPeak     BJ treatment         1    129908\n",
       "17    BJ-T2-ATAC-q.7_peaks.narrowPeak     BJ treatment         2     82377\n",
       "18    BJ-T3-ATAC-q.7_peaks.narrowPeak     BJ treatment         3    102249\n",
       "19   HOB-C1-ATAC-q.7_peaks.narrowPeak    HOB   control         1    148471\n",
       "20   HOB-C2-ATAC-q.7_peaks.narrowPeak    HOB   control         2    116879\n",
       "21   HOB-C3-ATAC-q.7_peaks.narrowPeak    HOB   control         3    183228\n",
       "22   HOB-T1-ATAC-q.7_peaks.narrowPeak    HOB treatment         1    177947\n",
       "23   HOB-T2-ATAC-q.7_peaks.narrowPeak    HOB treatment         2    132311\n",
       "24   HOB-T3-ATAC-q.7_peaks.narrowPeak    HOB treatment         3    171686"
      ]
     },
     "metadata": {},
     "output_type": "display_data"
    }
   ],
   "source": [
    "obj = dba(config=NULL, sampleSheet=sample_csv, \n",
    "             #bSummarizedExperiment=TRUE  # returns summarized experiment object. Not sure what this does. \n",
    "             #bLowerScoreBetter= TRUE  # filter for high scoring elements # \n",
    "            )\n",
    "obj"
   ]
  },
  {
   "cell_type": "code",
   "execution_count": 5,
   "id": "cf14cb0b-e701-484f-82aa-9cdc6b24c63c",
   "metadata": {},
   "outputs": [
    {
     "data": {
      "text/html": [
       "<strong>png:</strong> 2"
      ],
      "text/latex": [
       "\\textbf{png:} 2"
      ],
      "text/markdown": [
       "**png:** 2"
      ],
      "text/plain": [
       "png \n",
       "  2 "
      ]
     },
     "metadata": {},
     "output_type": "display_data"
    }
   ],
   "source": [
    "jpeg(file = file.path(results_path,  \"1_precount_4cl.jpg\"), \n",
    "    width=600, height=600)\n",
    "\n",
    "plot(obj, margin = 20)\n",
    "\n",
    "dev.off()"
   ]
  },
  {
   "cell_type": "code",
   "execution_count": null,
   "id": "54436bd9-8e55-4492-a5bc-50e37fc587ac",
   "metadata": {
    "ExecuteTime": {
     "end_time": "2024-01-17T02:19:55.062947Z",
     "start_time": "2024-01-17T02:19:55.009Z"
    }
   },
   "outputs": [],
   "source": [
    "# differential peaks, don't need bam, but takes a while. \n",
    "# should run dba.count first\n",
    "# link blacklist?  dba.blacklist\n",
    "\n",
    "#dba.analyze(obj, method=DBA_DESEQ2) "
   ]
  },
  {
   "cell_type": "markdown",
   "id": "c6a00d61-a33c-4c12-80f2-002609af75fa",
   "metadata": {},
   "source": [
    "## Count"
   ]
  },
  {
   "cell_type": "code",
   "execution_count": 6,
   "id": "193f4e8a-28a9-435a-b754-3d439dca1e95",
   "metadata": {
    "ExecuteTime": {
     "end_time": "2024-01-17T02:19:55.062947Z",
     "start_time": "2024-01-17T02:19:55.009Z"
    }
   },
   "outputs": [
    {
     "name": "stderr",
     "output_type": "stream",
     "text": [
      "Computing summits...\n",
      "\n",
      "Re-centering peaks...\n",
      "\n"
     ]
    }
   ],
   "source": [
    "# need bam or external count file\n",
    "obj <- dba.count(obj, summits=135)\n",
    "\n",
    "obj"
   ]
  },
  {
   "cell_type": "code",
   "execution_count": null,
   "id": "2dcc3c5a-3a29-429b-8a33-a8e50d7c103c",
   "metadata": {},
   "outputs": [],
   "source": [
    "# correlation based on count scores, \n",
    "jpeg(file = file.path(results_path,  \"2_count_4cl.jpg\"), \n",
    "    width=600, height=600)\n",
    "\n",
    "plot(obj)\n",
    "\n",
    "dev.off()"
   ]
  },
  {
   "cell_type": "markdown",
   "id": "18762dc3-d5d0-4866-bbce-fcb529089f52",
   "metadata": {},
   "source": [
    "# normalize"
   ]
  },
  {
   "cell_type": "code",
   "execution_count": null,
   "id": "c0134ecd-e0db-4dc3-a171-109e5bcfb144",
   "metadata": {},
   "outputs": [],
   "source": [
    "norm <- dba.normalize(obj)"
   ]
  },
  {
   "cell_type": "code",
   "execution_count": null,
   "id": "389c9ce1-1820-4f97-a4e8-5e6887669b42",
   "metadata": {},
   "outputs": [],
   "source": [
    "obj"
   ]
  },
  {
   "cell_type": "markdown",
   "id": "31fe43d3-9f67-4995-b58a-ae41ead423cf",
   "metadata": {},
   "source": [
    "# differential analysis"
   ]
  },
  {
   "cell_type": "markdown",
   "id": "2674168e-72b7-4882-b7d1-5de99eef01e1",
   "metadata": {},
   "source": [
    "## set contrast"
   ]
  },
  {
   "cell_type": "code",
   "execution_count": null,
   "id": "375ea2be-979c-4651-8e24-ab3791e052d8",
   "metadata": {},
   "outputs": [],
   "source": [
    "obj<-dba.contrast(obj, design=\"~Tissue+Factor\")"
   ]
  },
  {
   "cell_type": "markdown",
   "id": "707efc6c-e30d-43e4-9d0e-aff24bded262",
   "metadata": {},
   "source": [
    "### need to set contrast w tissue in mind "
   ]
  },
  {
   "cell_type": "code",
   "execution_count": null,
   "id": "96bfedea-fa94-4a19-bea1-e035919f5739",
   "metadata": {},
   "outputs": [],
   "source": [
    "obj <- dba.analyze(obj)"
   ]
  },
  {
   "cell_type": "code",
   "execution_count": null,
   "id": "ffb104e1-9300-4417-933c-4499eec2b529",
   "metadata": {},
   "outputs": [],
   "source": [
    "plot(obj, contrast=1)"
   ]
  },
  {
   "cell_type": "markdown",
   "id": "0d2ac065-d59c-4fae-90b7-3491230be40d",
   "metadata": {},
   "source": [
    "# hepG2 - call normalized read counts per condition. "
   ]
  },
  {
   "cell_type": "code",
   "execution_count": null,
   "id": "b14185d0-2bc2-49c6-b553-ee98faf457c0",
   "metadata": {},
   "outputs": [],
   "source": [
    "hepg2 <- dba(obj, mask=obj$masks$HEPG2)\n",
    "hepg2c <- dba(obj, mask=obj$masks$HEPG2 & obj$masks$control)\n",
    "hepg2t <- dba(obj, mask=obj$masks$HEPG2 & obj$masks$treatment)"
   ]
  },
  {
   "cell_type": "code",
   "execution_count": null,
   "id": "5ab2173c-bb1c-4e6f-9896-c4f676628370",
   "metadata": {},
   "outputs": [],
   "source": [
    "dba.show(hepg2)"
   ]
  },
  {
   "cell_type": "markdown",
   "id": "e2f5233c-69fe-4f26-9683-2b19ff81e9a9",
   "metadata": {},
   "source": [
    "## make HepG2 control normalized readcount matrix\n",
    "- minoverlap=2\n",
    "- recenter peaks over summit and compute +/- 200 bp around summit"
   ]
  },
  {
   "cell_type": "markdown",
   "id": "2235bca0-6c4a-4591-9488-ba7ec87a0548",
   "metadata": {},
   "source": [
    "### all"
   ]
  },
  {
   "cell_type": "code",
   "execution_count": null,
   "id": "477321a7-0acc-4e07-88b1-5cc6ffd4a076",
   "metadata": {},
   "outputs": [],
   "source": [
    "hepg2<- dba.count(hepg2)  # returns normalized count matrix\n",
    "\n",
    "counts <- dba.peakset(hepg2, bRetrieve=TRUE, writeFile=\"hepg2_counts.txt\")"
   ]
  },
  {
   "cell_type": "code",
   "execution_count": null,
   "id": "56fe73a7-95b6-4420-bdce-c08a22af5590",
   "metadata": {},
   "outputs": [],
   "source": [
    "counts"
   ]
  },
  {
   "cell_type": "markdown",
   "id": "37d79d47-a909-4b7f-99a8-60b60d7eb0d2",
   "metadata": {},
   "source": [
    "### Control"
   ]
  },
  {
   "cell_type": "code",
   "execution_count": null,
   "id": "bd9e7370-f195-4b97-a41d-0f0f64e40607",
   "metadata": {},
   "outputs": [],
   "source": [
    "hepg2c<- dba.count(hepg2c)  # returns normalized count matrix\n",
    "\n",
    "counts <- dba.peakset(hepg2c, bRetrieve=TRUE, writeFile=\"hepg2c_counts.txt\")"
   ]
  },
  {
   "cell_type": "markdown",
   "id": "ab518cce-b264-433f-b85d-a0d955a069f9",
   "metadata": {},
   "source": [
    "### treated"
   ]
  },
  {
   "cell_type": "code",
   "execution_count": null,
   "id": "1aedf1ed-fcef-4cdf-8e6f-04493853d260",
   "metadata": {},
   "outputs": [],
   "source": [
    "hepg2t<- dba.count(hepg2t)  # returns normalized count matrix\n",
    "\n",
    "counts <- dba.peakset(hepg2t, bRetrieve=TRUE, writeFile=\"hepg2t_counts.txt\")"
   ]
  },
  {
   "cell_type": "markdown",
   "id": "e77e0871-5d66-49c8-9164-2279bacccdb0",
   "metadata": {},
   "source": [
    "# K562 "
   ]
  },
  {
   "cell_type": "code",
   "execution_count": null,
   "id": "6ee2cba5-18b9-4158-9b76-4dedb755242f",
   "metadata": {},
   "outputs": [],
   "source": [
    "k562c <- dba(obj, mask=obj$masks$K562 & obj$masks$control)\n",
    "k562t <- dba(obj, mask=obj$masks$K562 & obj$masks$treatment)"
   ]
  },
  {
   "cell_type": "markdown",
   "id": "a0a3f520-1ea8-42f5-933d-fe7839cc74c8",
   "metadata": {},
   "source": [
    "## control"
   ]
  },
  {
   "cell_type": "code",
   "execution_count": null,
   "id": "57f3c3a9-b509-4287-8eab-53044b5a4f1a",
   "metadata": {},
   "outputs": [],
   "source": [
    "k562c<- dba.count(k562c)  # returns normalized count matrix\n",
    "\n",
    "counts <- dba.peakset(k562c, bRetrieve=TRUE, writeFile=\"k562c_counts.txt\")"
   ]
  },
  {
   "cell_type": "markdown",
   "id": "d3feb612-4569-4d38-a122-5dc7ee609825",
   "metadata": {},
   "source": [
    "## Treatment"
   ]
  },
  {
   "cell_type": "code",
   "execution_count": null,
   "id": "6bf647b7-3e76-46ae-bce3-d25e4ae702a7",
   "metadata": {},
   "outputs": [],
   "source": [
    "k562t<- dba.count(k562t)  # returns normalized count matrix\n",
    "\n",
    "counts <- dba.peakset(k562t, bRetrieve=TRUE, writeFile=\"k562t_counts.txt\")"
   ]
  },
  {
   "cell_type": "markdown",
   "id": "48384764-816b-4b43-ba87-9db731c3cf0c",
   "metadata": {},
   "source": [
    "# BJ"
   ]
  },
  {
   "cell_type": "code",
   "execution_count": null,
   "id": "02f47120-b91a-4c38-a368-9125f9bcddf0",
   "metadata": {},
   "outputs": [],
   "source": [
    "bjc <- dba(obj, mask=obj$masks$BJ & obj$masks$control)\n",
    "bjt <- dba(obj, mask=obj$masks$BJ & obj$masks$treatment)"
   ]
  },
  {
   "cell_type": "code",
   "execution_count": null,
   "id": "fd858835-e941-4fb5-8375-7b65f7547dae",
   "metadata": {},
   "outputs": [],
   "source": [
    "# control\n",
    "\n",
    "bjc<- dba.count(bjc)  # returns normalized count matrix\n",
    "\n",
    "counts <- dba.peakset(bjc, bRetrieve=TRUE, writeFile=\"bjc_counts.txt\")\n",
    "\n",
    "\n",
    "# treatment\n",
    "bjt<- dba.count(bjt)  # returns normalized count matrix\n",
    "\n",
    "counts <- dba.peakset(bjt, bRetrieve=TRUE, writeFile=\"bjt_counts.txt\")"
   ]
  },
  {
   "cell_type": "markdown",
   "id": "822c2983-fb4e-4e92-b44b-26b56a47ecb7",
   "metadata": {},
   "source": [
    "# HOB"
   ]
  },
  {
   "cell_type": "code",
   "execution_count": null,
   "id": "3e81b9da-071f-478e-b95d-3106093e0421",
   "metadata": {},
   "outputs": [],
   "source": [
    "hobc <- dba(obj, mask=obj$masks$HOB & obj$masks$control)\n",
    "hobt <- dba(obj, mask=obj$masks$HOB & obj$masks$treatment)"
   ]
  },
  {
   "cell_type": "code",
   "execution_count": null,
   "id": "892dd711-3574-4051-8e71-eb60961e6893",
   "metadata": {},
   "outputs": [],
   "source": [
    "hobc<- dba.count(hobc)  # returns normalized count matrix\n",
    "\n",
    "counts <- dba.peakset(hobc, bRetrieve=TRUE, writeFile=\"hobc_counts.txt\")\n",
    "\n",
    "hobt<- dba.count(hobt)  # returns normalized count matrix\n",
    "\n",
    "counts <- dba.peakset(hobt, bRetrieve=TRUE, writeFile=\"hobt_counts.txt\")"
   ]
  },
  {
   "cell_type": "code",
   "execution_count": null,
   "id": "a854e68a-599a-4031-a8e0-ff216f6cd506",
   "metadata": {},
   "outputs": [],
   "source": [
    "samples"
   ]
  },
  {
   "cell_type": "code",
   "execution_count": null,
   "id": "cc5f963a-af5e-4b1c-a3af-95f25f434688",
   "metadata": {},
   "outputs": [],
   "source": []
  }
 ],
 "metadata": {
  "kernelspec": {
   "display_name": "R",
   "language": "R",
   "name": "ir"
  },
  "language_info": {
   "codemirror_mode": "r",
   "file_extension": ".r",
   "mimetype": "text/x-r-source",
   "name": "R",
   "pygments_lexer": "r",
   "version": "4.3.1"
  },
  "toc": {
   "base_numbering": 1,
   "nav_menu": {},
   "number_sections": true,
   "sideBar": true,
   "skip_h1_title": false,
   "title_cell": "Table of Contents",
   "title_sidebar": "Contents",
   "toc_cell": false,
   "toc_position": {},
   "toc_section_display": true,
   "toc_window_display": false
  },
  "varInspector": {
   "cols": {
    "lenName": 16,
    "lenType": 16,
    "lenVar": 40
   },
   "kernels_config": {
    "python": {
     "delete_cmd_postfix": "",
     "delete_cmd_prefix": "del ",
     "library": "var_list.py",
     "varRefreshCmd": "print(var_dic_list())"
    },
    "r": {
     "delete_cmd_postfix": ") ",
     "delete_cmd_prefix": "rm(",
     "library": "var_list.r",
     "varRefreshCmd": "cat(var_dic_list()) "
    }
   },
   "types_to_exclude": [
    "module",
    "function",
    "builtin_function_or_method",
    "instance",
    "_Feature"
   ],
   "window_display": false
  }
 },
 "nbformat": 4,
 "nbformat_minor": 5
}
