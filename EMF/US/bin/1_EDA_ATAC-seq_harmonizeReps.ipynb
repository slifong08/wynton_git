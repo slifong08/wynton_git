{
 "cells": [
  {
   "cell_type": "markdown",
   "id": "5d023923-ab27-424e-9288-bcb3dc615a09",
   "metadata": {},
   "source": [
    "#20240105 \n",
    "Sarah Fong\n",
    "\n",
    "- Harmonize atac seq data across replicates w same treatment condition\n",
    "- Check spread of ATAC-seq scores. \n",
    "- Call differentially accessible peaks?\n",
    "- No. Chengyu has DEseq data for this, but we're going to predict the accessibility peak value. "
   ]
  },
  {
   "cell_type": "code",
   "execution_count": 1,
   "id": "bedb97a1-c3d4-431b-82d2-fd829b484cfe",
   "metadata": {
    "ExecuteTime": {
     "end_time": "2024-01-16T20:05:05.156834Z",
     "start_time": "2024-01-16T20:05:05.150179Z"
    }
   },
   "outputs": [],
   "source": [
    "LOCAL = False"
   ]
  },
  {
   "cell_type": "code",
   "execution_count": 9,
   "id": "196c30dd-fd90-4047-ba25-66d1ecac680b",
   "metadata": {
    "ExecuteTime": {
     "end_time": "2024-01-16T20:07:33.699637Z",
     "start_time": "2024-01-16T20:07:33.695248Z"
    }
   },
   "outputs": [],
   "source": [
    "import glob\n",
    "import matplotlib.pyplot as plt\n",
    "import numpy as np\n",
    "import os, sys\n",
    "import pandas as pd\n",
    "#import pybedtools as pbt\n",
    "from scipy import stats\n",
    "import seaborn as sns\n",
    "\n",
    "if LOCAL is True:\n",
    "    sys.path.append(\"/Users/sarahfong/tools/py_\")\n",
    "    DATA_PATH = \"/Users/sarahfong/Desktop/local_data/US/ATAC\"\n",
    "    section = \"data_local\"\n",
    "else:\n",
    "    DATA_PATH =\"/wynton/group/ahituv/data/US-MPRA/ATAC-seq/\"\n",
    "    section = \"data_wynton\"\n",
    "import config_readwrite as crw"
   ]
  },
  {
   "cell_type": "markdown",
   "id": "22424dd2-f5e1-4fa1-a178-ea52f5ccfcc3",
   "metadata": {},
   "source": [
    "# open config"
   ]
  },
  {
   "cell_type": "code",
   "execution_count": 3,
   "id": "3382fac9-91d6-475f-b686-09f80d6a2951",
   "metadata": {
    "ExecuteTime": {
     "end_time": "2024-01-16T20:07:02.490584Z",
     "start_time": "2024-01-16T20:07:02.486535Z"
    }
   },
   "outputs": [],
   "source": [
    "cfn_name = \"config.atac.ini\"\n",
    "config, cfn = crw.read(cfn_name)"
   ]
  },
  {
   "cell_type": "markdown",
   "id": "fbccd12f",
   "metadata": {},
   "source": [
    "## params"
   ]
  },
  {
   "cell_type": "code",
   "execution_count": 53,
   "id": "130487b9",
   "metadata": {
    "ExecuteTime": {
     "end_time": "2024-01-16T20:50:08.345267Z",
     "start_time": "2024-01-16T20:50:08.342277Z"
    }
   },
   "outputs": [],
   "source": [
    "PEAK_EXPANSION = 147\n",
    "MIN_OVERLAP = PEAK_EXPANSION"
   ]
  },
  {
   "cell_type": "markdown",
   "id": "3012eaf5-3570-4b85-8b98-01756e392b42",
   "metadata": {},
   "source": [
    "## add data paths"
   ]
  },
  {
   "cell_type": "code",
   "execution_count": 54,
   "id": "dab0e433-7c03-4563-ae35-146333e69a73",
   "metadata": {
    "ExecuteTime": {
     "end_time": "2024-01-16T20:50:10.885960Z",
     "start_time": "2024-01-16T20:50:10.880619Z"
    },
    "scrolled": true
   },
   "outputs": [],
   "source": [
    "crw.check(config, section)\n",
    "\n",
    "# write\n",
    "config[section][\"path\"] = DATA_PATH\n",
    "config[section][\"data\"] = \"%(path)s/*narrowPeak*\"\n",
    "config[section][\"peak_expansion\"] = str(PEAK_EXPANSION)\n",
    "\n",
    "crw.write(config, cfn)"
   ]
  },
  {
   "cell_type": "markdown",
   "id": "58af4eb9-cfe3-4855-a3bf-f0078fe93869",
   "metadata": {},
   "source": [
    "## input files"
   ]
  },
  {
   "cell_type": "code",
   "execution_count": 55,
   "id": "d65b6802-e478-443e-913a-1e256624ab31",
   "metadata": {
    "ExecuteTime": {
     "end_time": "2024-01-16T20:50:11.935032Z",
     "start_time": "2024-01-16T20:50:11.929107Z"
    }
   },
   "outputs": [
    {
     "data": {
      "text/plain": [
       "['BJ-C3-ATAC-q.7_peaks.narrowPeak',\n",
       " 'BJ-T1-ATAC-q.7_peaks.narrowPeak',\n",
       " 'BJ-T2-ATAC-q.7_peaks.narrowPeak',\n",
       " 'BJ-T3-ATAC-q.7_peaks.narrowPeak',\n",
       " 'HEPG2-C1-ATAC-q.7_peaks.narrowPeak',\n",
       " 'HEPG2-C2-ATAC-q.7_peaks.narrowPeak',\n",
       " 'HEPG2-C3-ATAC-q.7_peaks.narrowPeak',\n",
       " 'HEPG2-T1-ATAC-q.7_peaks.narrowPeak',\n",
       " 'HEPG2-T2-ATAC-q.7_peaks.narrowPeak',\n",
       " 'HEPG2-T3-ATAC-q.7_peaks.narrowPeak',\n",
       " 'HOB-C1-ATAC-q.7_peaks.narrowPeak',\n",
       " 'HOB-C2-ATAC-q.7_peaks.narrowPeak',\n",
       " 'HOB-C3-ATAC-q.7_peaks.narrowPeak',\n",
       " 'HOB-T1-ATAC-q.7_peaks.narrowPeak',\n",
       " 'HOB-T2-ATAC-q.7_peaks.narrowPeak',\n",
       " 'HOB-T3-ATAC-q.7_peaks.narrowPeak',\n",
       " 'K562-C1-ATAC-q.7_peaks.narrowPeak',\n",
       " 'K562-C2-ATAC-q.7_peaks.narrowPeak',\n",
       " 'K562-C3-ATAC-q.7_peaks.narrowPeak',\n",
       " 'K562-T1-ATAC-q.7_peaks.narrowPeak',\n",
       " 'K562-T2-ATAC-q.7_peaks.narrowPeak',\n",
       " 'K562-T3-ATAC-q.7_peaks.narrowPeak',\n",
       " 'BJ-C1-ATAC-q.7_peaks.narrowPeak',\n",
       " 'BJ-C2-ATAC-q.7_peaks.narrowPeak']"
      ]
     },
     "execution_count": 55,
     "metadata": {},
     "output_type": "execute_result"
    }
   ],
   "source": [
    "os.chdir(DATA_PATH)\n",
    "peaks = glob.glob( \"*.narrowPeak\")\n",
    "peaks"
   ]
  },
  {
   "cell_type": "code",
   "execution_count": 56,
   "id": "f591d1eb",
   "metadata": {
    "ExecuteTime": {
     "end_time": "2024-01-16T20:50:39.325301Z",
     "start_time": "2024-01-16T20:50:12.410536Z"
    },
    "scrolled": true
   },
   "outputs": [
    {
     "name": "stdout",
     "output_type": "stream",
     "text": [
      "BJ C3\n",
      "              score       score_q\n",
      "count  65066.000000  65066.000000\n",
      "mean     102.383103      0.500008\n",
      "std      299.491541      0.288249\n",
      "min        1.000000      0.000784\n",
      "25%       21.000000      0.248832\n",
      "50%       47.000000      0.502843\n",
      "75%      106.000000      0.749439\n",
      "max    30421.000000      1.000000\n",
      "BJ T1\n",
      "               score        score_q\n",
      "count  129908.000000  129908.000000\n",
      "mean      191.721895       0.500004\n",
      "std       399.286955       0.288394\n",
      "min         1.000000       0.000866\n",
      "25%        25.000000       0.268478\n",
      "50%        63.000000       0.485324\n",
      "75%       198.000000       0.750458\n",
      "max     33397.000000       1.000000\n",
      "BJ T2\n",
      "             score       score_q\n",
      "count  82377.00000  82377.000000\n",
      "mean     117.57056      0.500006\n",
      "std      311.51882      0.288216\n",
      "min        1.00000      0.000753\n",
      "25%       22.00000      0.283325\n",
      "50%       50.00000      0.509675\n",
      "75%      120.00000      0.749402\n",
      "max    32658.00000      1.000000\n",
      "BJ T3\n",
      "               score        score_q\n",
      "count  102249.000000  102249.000000\n",
      "mean       93.595986       0.500005\n",
      "std       289.158488       0.286653\n",
      "min         1.000000       0.001037\n",
      "25%         6.000000       0.152706\n",
      "50%        30.000000       0.515775\n",
      "75%        88.000000       0.748804\n",
      "max     34168.000000       1.000000\n",
      "HEPG2 C1\n",
      "               score        score_q\n",
      "count  241002.000000  241002.000000\n",
      "mean       75.475552       0.500002\n",
      "std       245.266157       0.285847\n",
      "min         1.000000       0.003228\n",
      "25%         3.000000       0.143739\n",
      "50%        13.000000       0.499178\n",
      "75%        57.000000       0.749299\n",
      "max     40235.000000       1.000000\n",
      "HEPG2 C2\n",
      "               score        score_q\n",
      "count  205600.000000  205600.000000\n",
      "mean       75.447130       0.500002\n",
      "std       267.008768       0.284417\n",
      "min         1.000000       0.003451\n",
      "25%         2.000000       0.151547\n",
      "50%        10.000000       0.440367\n",
      "75%        51.000000       0.749339\n",
      "max     37849.000000       1.000000\n",
      "HEPG2 C3\n",
      "               score        score_q\n",
      "count  181583.000000  181583.000000\n",
      "mean       45.933177       0.500003\n",
      "std       228.847969       0.282462\n",
      "min         1.000000       0.005207\n",
      "25%         3.000000       0.197832\n",
      "50%        11.000000       0.552747\n",
      "75%        25.000000       0.750406\n",
      "max     37457.000000       1.000000\n",
      "HEPG2 T1\n",
      "               score        score_q\n",
      "count  164857.000000  164857.000000\n",
      "mean       59.649945       0.500003\n",
      "std       253.070244       0.283893\n",
      "min         1.000000       0.002536\n",
      "25%         3.000000       0.177706\n",
      "50%        13.000000       0.498029\n",
      "75%        42.000000       0.749662\n",
      "max     37996.000000       1.000000\n",
      "HEPG2 T2\n",
      "               score        score_q\n",
      "count  220768.000000  220768.000000\n",
      "mean       35.514309       0.500002\n",
      "std       196.598106       0.280238\n",
      "min         1.000000       0.005250\n",
      "25%         2.000000       0.193855\n",
      "50%         9.000000       0.571090\n",
      "75%        19.000000       0.760719\n",
      "max     35099.000000       1.000000\n",
      "HEPG2 T3\n",
      "             score       score_q\n",
      "count  96502.00000  96502.000000\n",
      "mean      77.34791      0.500005\n",
      "std      264.09166      0.287053\n",
      "min        1.00000      0.001596\n",
      "25%        7.00000      0.174903\n",
      "50%       24.00000      0.497782\n",
      "75%       75.00000      0.752705\n",
      "max    32282.00000      1.000000\n",
      "HOB C1\n",
      "               score        score_q\n",
      "count  148471.000000  148471.000000\n",
      "mean      352.092685       0.500003\n",
      "std       664.215095       0.288637\n",
      "min         1.000000       0.000182\n",
      "25%        43.000000       0.262408\n",
      "50%       116.000000       0.500007\n",
      "75%       356.000000       0.749911\n",
      "max     43024.000000       1.000000\n",
      "HOB C2\n",
      "               score        score_q\n",
      "count  116879.000000  116879.000000\n",
      "mean      259.997947       0.500004\n",
      "std       558.327996       0.288608\n",
      "min         1.000000       0.000488\n",
      "25%        29.000000       0.251564\n",
      "50%        86.000000       0.508209\n",
      "75%       248.000000       0.750024\n",
      "max     35740.000000       1.000000\n",
      "HOB C3\n",
      "               score        score_q\n",
      "count  183228.000000  183228.000000\n",
      "mean      194.110098       0.500003\n",
      "std       477.522055       0.288093\n",
      "min         1.000000       0.054481\n",
      "25%         8.000000       0.193977\n",
      "50%        44.000000       0.508803\n",
      "75%       164.000000       0.749542\n",
      "max     35156.000000       1.000000\n",
      "HOB T1\n",
      "               score        score_q\n",
      "count  177947.000000  177947.000000\n",
      "mean      204.034628       0.500003\n",
      "std       500.817398       0.288149\n",
      "min         1.000000       0.001225\n",
      "25%        10.000000       0.250580\n",
      "50%        44.000000       0.495530\n",
      "75%       172.000000       0.749796\n",
      "max     35049.000000       1.000000\n",
      "HOB T2\n",
      "               score        score_q\n",
      "count  132311.000000  132311.000000\n",
      "mean      354.711936       0.500004\n",
      "std       672.164417       0.288635\n",
      "min         1.000000       0.000200\n",
      "25%        46.000000       0.249477\n",
      "50%       121.000000       0.493920\n",
      "75%       357.000000       0.750214\n",
      "max     37963.000000       1.000000\n",
      "HOB T3\n",
      "               score        score_q\n",
      "count  171686.000000  171686.000000\n",
      "mean      187.148067       0.500003\n",
      "std       448.546837       0.288229\n",
      "min         1.000000       0.001328\n",
      "25%        10.000000       0.203561\n",
      "50%        47.000000       0.499019\n",
      "75%       164.000000       0.749933\n",
      "max     34977.000000       1.000000\n",
      "K562 C1\n",
      "             score       score_q\n",
      "count  91160.00000  91160.000000\n",
      "mean     371.50339      0.500005\n",
      "std      807.94438      0.288570\n",
      "min        1.00000      0.000351\n",
      "25%       28.00000      0.247625\n",
      "50%       88.00000      0.505419\n",
      "75%      313.00000      0.750186\n",
      "max    45514.00000      1.000000\n",
      "K562 C2\n",
      "               score        score_q\n",
      "count  121313.000000  121313.000000\n",
      "mean      281.739014       0.500004\n",
      "std       700.759629       0.288146\n",
      "min         1.000000       0.048470\n",
      "25%        14.000000       0.248910\n",
      "50%        46.000000       0.500194\n",
      "75%       209.000000       0.751350\n",
      "max     46985.000000       1.000000\n",
      "K562 C3\n",
      "               score        score_q\n",
      "count  117677.000000  117677.000000\n",
      "mean      388.026590       0.500004\n",
      "std       858.965537       0.288529\n",
      "min         1.000000       0.000412\n",
      "25%        23.000000       0.255386\n",
      "50%        79.000000       0.502660\n",
      "75%       314.000000       0.749858\n",
      "max     38992.000000       1.000000\n",
      "K562 T1\n",
      "               score        score_q\n",
      "count  103167.000000  103167.000000\n",
      "mean      396.358816       0.500005\n",
      "std       881.606935       0.288551\n",
      "min         1.000000       0.000334\n",
      "25%        25.000000       0.247303\n",
      "50%        83.000000       0.497019\n",
      "75%       326.000000       0.750046\n",
      "max     47603.000000       1.000000\n",
      "K562 T2\n",
      "               score        score_q\n",
      "count  110553.000000  110553.000000\n",
      "mean      466.961503       0.500005\n",
      "std      1040.279995       0.288553\n",
      "min         1.000000       0.017331\n",
      "25%        22.000000       0.226317\n",
      "50%        88.000000       0.494713\n",
      "75%       371.000000       0.749790\n",
      "max     45127.000000       1.000000\n",
      "K562 T3\n",
      "               score        score_q\n",
      "count  105334.000000  105334.000000\n",
      "mean      367.800853       0.500005\n",
      "std       771.843564       0.288594\n",
      "min         1.000000       0.000328\n",
      "25%        29.000000       0.247665\n",
      "50%        91.000000       0.496691\n",
      "75%       335.000000       0.750456\n",
      "max     47193.000000       1.000000\n",
      "BJ C1\n",
      "               score        score_q\n",
      "count  148578.000000  148578.000000\n",
      "mean      175.672711       0.500003\n",
      "std       399.029335       0.287992\n",
      "min         1.000000       0.001144\n",
      "25%        12.000000       0.225235\n",
      "50%        47.000000       0.484193\n",
      "75%       168.000000       0.749714\n",
      "max     33414.000000       1.000000\n",
      "BJ C2\n",
      "               score        score_q\n",
      "count  140365.000000  140365.000000\n",
      "mean      176.779340       0.500004\n",
      "std       385.833308       0.288037\n",
      "min         1.000000       0.000702\n",
      "25%        12.000000       0.217636\n",
      "50%        54.000000       0.500769\n",
      "75%       174.000000       0.749735\n",
      "max     31389.000000       1.000000\n"
     ]
    }
   ],
   "source": [
    "data = {}\n",
    "for file in peaks:\n",
    "    # str split file\n",
    "    cl, rep = file.split(\"-\")[:2]\n",
    "\n",
    "    names = [\"#chr\", \"start\", \"end\", \"name\",\n",
    "             'score', \"strand\", \"signal_val\", \"p\", \"q\", \"peak\"]  # name columns\n",
    "\n",
    "    df = pd.read_csv(file, sep='\\t', header=None, names=names)  # open data\n",
    "    print(cl, rep)  # , df.shape)  # report info\n",
    "\n",
    "    df[\"cl\"], df[\"rep\"] = cl, rep  # name columns with info\n",
    "    df[\"exp\"] = df[\"rep\"].apply(lambda x: list(x)[0])  # add exposure column,\n",
    "\n",
    "    ###\n",
    "    # centering - 135 bases from peaks\n",
    "    ###\n",
    "\n",
    "    centered = df.copy()\n",
    "\n",
    "    centered[\"peakcenter_start\"] = centered[\"start\"] + centered[\"peak\"] - \\\n",
    "        PEAK_EXPANSION  # new start subtract from peak center\n",
    "    \n",
    "    centered[\"peakcenter_end\"] = centered[\"peakcenter_start\"] + (PEAK_EXPANSION*2)  # new end double the peak expansion\n",
    "    \n",
    "    centered.loc[centered['peakcenter_start']<0, \"peakcenter_start\"] = centered['start']\n",
    "\n",
    "    # quantile normalize scores for each replicate.\n",
    "    centered['score_q'] = centered[\"score\"].rank(pct=True)\n",
    "\n",
    "    # print some descricenteredptive stats\n",
    "    print(centered[[\"score\", \"score_q\"]].describe())\n",
    "\n",
    "    # add to dictionary\n",
    "    data[f'{cl+rep}'] = centered\n",
    "\n",
    "    # save centered file\n",
    "    out = f'{cl}.{rep}.centered.peaks'\n",
    "\n",
    "    new_names = ['#chr',\n",
    "                 \"peakcenter_start\",\n",
    "                 \"peakcenter_end\",\n",
    "                 'name',\n",
    "                 'score',\n",
    "                 'strand',\n",
    "                 'signal_val',\n",
    "                 'p',\n",
    "                 'q',\n",
    "                 'peak',\n",
    "                 'cl',\n",
    "                 'rep',\n",
    "                 'exp', \n",
    "                 'start',\n",
    "                 'end']\n",
    "    # if os.path.exists(out) is False:\n",
    "    centered[new_names].to_csv(out, sep='\\t', index=False)\n"
   ]
  },
  {
   "cell_type": "markdown",
   "id": "bac49465-114d-4551-9036-5b138086c707",
   "metadata": {},
   "source": [
    "### concat data"
   ]
  },
  {
   "cell_type": "code",
   "execution_count": 57,
   "id": "28ebe899-e79b-49ef-a26c-5e54a8661565",
   "metadata": {
    "ExecuteTime": {
     "end_time": "2024-01-16T20:51:33.153750Z",
     "start_time": "2024-01-16T20:51:32.678589Z"
    }
   },
   "outputs": [
    {
     "name": "stdout",
     "output_type": "stream",
     "text": [
      "(3358581, 16)\n"
     ]
    },
    {
     "data": {
      "text/html": [
       "<div>\n",
       "<style scoped>\n",
       "    .dataframe tbody tr th:only-of-type {\n",
       "        vertical-align: middle;\n",
       "    }\n",
       "\n",
       "    .dataframe tbody tr th {\n",
       "        vertical-align: top;\n",
       "    }\n",
       "\n",
       "    .dataframe thead th {\n",
       "        text-align: right;\n",
       "    }\n",
       "</style>\n",
       "<table border=\"1\" class=\"dataframe\">\n",
       "  <thead>\n",
       "    <tr style=\"text-align: right;\">\n",
       "      <th></th>\n",
       "      <th>#chr</th>\n",
       "      <th>start</th>\n",
       "      <th>end</th>\n",
       "      <th>name</th>\n",
       "      <th>score</th>\n",
       "      <th>strand</th>\n",
       "      <th>signal_val</th>\n",
       "      <th>p</th>\n",
       "      <th>q</th>\n",
       "      <th>peak</th>\n",
       "      <th>cl</th>\n",
       "      <th>rep</th>\n",
       "      <th>exp</th>\n",
       "      <th>peakcenter_start</th>\n",
       "      <th>peakcenter_end</th>\n",
       "      <th>score_q</th>\n",
       "    </tr>\n",
       "  </thead>\n",
       "  <tbody>\n",
       "    <tr>\n",
       "      <th>0</th>\n",
       "      <td>chr1</td>\n",
       "      <td>10003</td>\n",
       "      <td>10604</td>\n",
       "      <td>BJ-C3-ATAC-q.7_peak_1</td>\n",
       "      <td>509</td>\n",
       "      <td>.</td>\n",
       "      <td>21.67300</td>\n",
       "      <td>55.09760</td>\n",
       "      <td>50.99550</td>\n",
       "      <td>82</td>\n",
       "      <td>BJ</td>\n",
       "      <td>C3</td>\n",
       "      <td>C</td>\n",
       "      <td>9938</td>\n",
       "      <td>10232</td>\n",
       "      <td>0.970768</td>\n",
       "    </tr>\n",
       "    <tr>\n",
       "      <th>1</th>\n",
       "      <td>chr1</td>\n",
       "      <td>11189</td>\n",
       "      <td>11428</td>\n",
       "      <td>BJ-C3-ATAC-q.7_peak_2</td>\n",
       "      <td>28</td>\n",
       "      <td>.</td>\n",
       "      <td>4.17585</td>\n",
       "      <td>5.44473</td>\n",
       "      <td>2.87332</td>\n",
       "      <td>131</td>\n",
       "      <td>BJ</td>\n",
       "      <td>C3</td>\n",
       "      <td>C</td>\n",
       "      <td>11173</td>\n",
       "      <td>11467</td>\n",
       "      <td>0.358882</td>\n",
       "    </tr>\n",
       "    <tr>\n",
       "      <th>2</th>\n",
       "      <td>chr1</td>\n",
       "      <td>29113</td>\n",
       "      <td>29765</td>\n",
       "      <td>BJ-C3-ATAC-q.7_peak_3</td>\n",
       "      <td>161</td>\n",
       "      <td>.</td>\n",
       "      <td>9.78418</td>\n",
       "      <td>19.44800</td>\n",
       "      <td>16.15090</td>\n",
       "      <td>221</td>\n",
       "      <td>BJ</td>\n",
       "      <td>C3</td>\n",
       "      <td>C</td>\n",
       "      <td>29187</td>\n",
       "      <td>29481</td>\n",
       "      <td>0.840685</td>\n",
       "    </tr>\n",
       "    <tr>\n",
       "      <th>3</th>\n",
       "      <td>chr1</td>\n",
       "      <td>32558</td>\n",
       "      <td>32904</td>\n",
       "      <td>BJ-C3-ATAC-q.7_peak_4</td>\n",
       "      <td>109</td>\n",
       "      <td>.</td>\n",
       "      <td>6.91283</td>\n",
       "      <td>14.05880</td>\n",
       "      <td>10.96360</td>\n",
       "      <td>119</td>\n",
       "      <td>BJ</td>\n",
       "      <td>C3</td>\n",
       "      <td>C</td>\n",
       "      <td>32530</td>\n",
       "      <td>32824</td>\n",
       "      <td>0.755863</td>\n",
       "    </tr>\n",
       "    <tr>\n",
       "      <th>4</th>\n",
       "      <td>chr1</td>\n",
       "      <td>34426</td>\n",
       "      <td>34989</td>\n",
       "      <td>BJ-C3-ATAC-q.7_peak_5</td>\n",
       "      <td>142</td>\n",
       "      <td>.</td>\n",
       "      <td>8.62780</td>\n",
       "      <td>17.50700</td>\n",
       "      <td>14.27810</td>\n",
       "      <td>403</td>\n",
       "      <td>BJ</td>\n",
       "      <td>C3</td>\n",
       "      <td>C</td>\n",
       "      <td>34682</td>\n",
       "      <td>34976</td>\n",
       "      <td>0.815679</td>\n",
       "    </tr>\n",
       "  </tbody>\n",
       "</table>\n",
       "</div>"
      ],
      "text/plain": [
       "   #chr  start    end                   name  score strand  signal_val  \\\n",
       "0  chr1  10003  10604  BJ-C3-ATAC-q.7_peak_1    509      .    21.67300   \n",
       "1  chr1  11189  11428  BJ-C3-ATAC-q.7_peak_2     28      .     4.17585   \n",
       "2  chr1  29113  29765  BJ-C3-ATAC-q.7_peak_3    161      .     9.78418   \n",
       "3  chr1  32558  32904  BJ-C3-ATAC-q.7_peak_4    109      .     6.91283   \n",
       "4  chr1  34426  34989  BJ-C3-ATAC-q.7_peak_5    142      .     8.62780   \n",
       "\n",
       "          p         q  peak  cl rep exp  peakcenter_start  peakcenter_end  \\\n",
       "0  55.09760  50.99550    82  BJ  C3   C              9938           10232   \n",
       "1   5.44473   2.87332   131  BJ  C3   C             11173           11467   \n",
       "2  19.44800  16.15090   221  BJ  C3   C             29187           29481   \n",
       "3  14.05880  10.96360   119  BJ  C3   C             32530           32824   \n",
       "4  17.50700  14.27810   403  BJ  C3   C             34682           34976   \n",
       "\n",
       "    score_q  \n",
       "0  0.970768  \n",
       "1  0.358882  \n",
       "2  0.840685  \n",
       "3  0.755863  \n",
       "4  0.815679  "
      ]
     },
     "execution_count": 57,
     "metadata": {},
     "output_type": "execute_result"
    }
   ],
   "source": [
    "df = pd.concat(data.values())\n",
    "\n",
    "print(df.shape)\n",
    "\n",
    "df.head()"
   ]
  },
  {
   "cell_type": "markdown",
   "id": "59d77e02-6887-48b8-8c78-92d447fe1c58",
   "metadata": {},
   "source": [
    "## filter peaks criteria\n",
    "\n",
    "other ideas:\n",
    "- reproducible discovery rate\n",
    "- Frip - fraction of reads in peak score. \n",
    "- REMOVE blacklist!!! (mitochondrial reads)\n",
    "\n",
    "other followup\n",
    "- Get deseq2 calls - for classification model?\n",
    "- quantile normalization of scores. "
   ]
  },
  {
   "cell_type": "markdown",
   "id": "d22c1d02-1d03-4291-b716-b998cb76931c",
   "metadata": {},
   "source": [
    "## check raw score distribution, filtered for q-value, score<100"
   ]
  },
  {
   "cell_type": "code",
   "execution_count": 27,
   "id": "c6e8ad14-5101-46b3-9cb8-9c8a1ccda0e6",
   "metadata": {
    "ExecuteTime": {
     "end_time": "2024-01-16T20:21:49.007996Z",
     "start_time": "2024-01-16T20:21:30.233220Z"
    }
   },
   "outputs": [
    {
     "name": "stderr",
     "output_type": "stream",
     "text": [
      "/wynton/home/ahituv/fongsl/.conda/envs/mamba/lib/python3.9/site-packages/seaborn/_oldcore.py:1498: FutureWarning: is_categorical_dtype is deprecated and will be removed in a future version. Use isinstance(dtype, CategoricalDtype) instead\n",
      "  if pd.api.types.is_categorical_dtype(vector):\n",
      "/wynton/home/ahituv/fongsl/.conda/envs/mamba/lib/python3.9/site-packages/seaborn/_oldcore.py:1498: FutureWarning: is_categorical_dtype is deprecated and will be removed in a future version. Use isinstance(dtype, CategoricalDtype) instead\n",
      "  if pd.api.types.is_categorical_dtype(vector):\n",
      "/wynton/home/ahituv/fongsl/.conda/envs/mamba/lib/python3.9/site-packages/seaborn/_oldcore.py:1498: FutureWarning: is_categorical_dtype is deprecated and will be removed in a future version. Use isinstance(dtype, CategoricalDtype) instead\n",
      "  if pd.api.types.is_categorical_dtype(vector):\n",
      "/wynton/home/ahituv/fongsl/.conda/envs/mamba/lib/python3.9/site-packages/seaborn/_oldcore.py:1498: FutureWarning: is_categorical_dtype is deprecated and will be removed in a future version. Use isinstance(dtype, CategoricalDtype) instead\n",
      "  if pd.api.types.is_categorical_dtype(vector):\n",
      "/wynton/home/ahituv/fongsl/.conda/envs/mamba/lib/python3.9/site-packages/seaborn/_oldcore.py:1498: FutureWarning: is_categorical_dtype is deprecated and will be removed in a future version. Use isinstance(dtype, CategoricalDtype) instead\n",
      "  if pd.api.types.is_categorical_dtype(vector):\n",
      "/wynton/home/ahituv/fongsl/.conda/envs/mamba/lib/python3.9/site-packages/seaborn/_oldcore.py:1498: FutureWarning: is_categorical_dtype is deprecated and will be removed in a future version. Use isinstance(dtype, CategoricalDtype) instead\n",
      "  if pd.api.types.is_categorical_dtype(vector):\n",
      "/wynton/home/ahituv/fongsl/.conda/envs/mamba/lib/python3.9/site-packages/seaborn/_oldcore.py:1498: FutureWarning: is_categorical_dtype is deprecated and will be removed in a future version. Use isinstance(dtype, CategoricalDtype) instead\n",
      "  if pd.api.types.is_categorical_dtype(vector):\n",
      "/wynton/home/ahituv/fongsl/.conda/envs/mamba/lib/python3.9/site-packages/seaborn/_oldcore.py:1498: FutureWarning: is_categorical_dtype is deprecated and will be removed in a future version. Use isinstance(dtype, CategoricalDtype) instead\n",
      "  if pd.api.types.is_categorical_dtype(vector):\n",
      "/wynton/home/ahituv/fongsl/.conda/envs/mamba/lib/python3.9/site-packages/seaborn/_oldcore.py:1498: FutureWarning: is_categorical_dtype is deprecated and will be removed in a future version. Use isinstance(dtype, CategoricalDtype) instead\n",
      "  if pd.api.types.is_categorical_dtype(vector):\n",
      "/wynton/home/ahituv/fongsl/.conda/envs/mamba/lib/python3.9/site-packages/seaborn/_oldcore.py:1498: FutureWarning: is_categorical_dtype is deprecated and will be removed in a future version. Use isinstance(dtype, CategoricalDtype) instead\n",
      "  if pd.api.types.is_categorical_dtype(vector):\n",
      "/wynton/home/ahituv/fongsl/.conda/envs/mamba/lib/python3.9/site-packages/seaborn/_oldcore.py:1498: FutureWarning: is_categorical_dtype is deprecated and will be removed in a future version. Use isinstance(dtype, CategoricalDtype) instead\n",
      "  if pd.api.types.is_categorical_dtype(vector):\n",
      "/wynton/home/ahituv/fongsl/.conda/envs/mamba/lib/python3.9/site-packages/seaborn/_oldcore.py:1498: FutureWarning: is_categorical_dtype is deprecated and will be removed in a future version. Use isinstance(dtype, CategoricalDtype) instead\n",
      "  if pd.api.types.is_categorical_dtype(vector):\n",
      "/wynton/home/ahituv/fongsl/.conda/envs/mamba/lib/python3.9/site-packages/seaborn/_oldcore.py:1498: FutureWarning: is_categorical_dtype is deprecated and will be removed in a future version. Use isinstance(dtype, CategoricalDtype) instead\n",
      "  if pd.api.types.is_categorical_dtype(vector):\n",
      "/wynton/home/ahituv/fongsl/.conda/envs/mamba/lib/python3.9/site-packages/seaborn/_oldcore.py:1498: FutureWarning: is_categorical_dtype is deprecated and will be removed in a future version. Use isinstance(dtype, CategoricalDtype) instead\n",
      "  if pd.api.types.is_categorical_dtype(vector):\n",
      "/wynton/home/ahituv/fongsl/.conda/envs/mamba/lib/python3.9/site-packages/seaborn/_oldcore.py:1498: FutureWarning: is_categorical_dtype is deprecated and will be removed in a future version. Use isinstance(dtype, CategoricalDtype) instead\n",
      "  if pd.api.types.is_categorical_dtype(vector):\n"
     ]
    },
    {
     "data": {
      "image/png": "[encoded data removed]",
      "text/plain": [
       "<Figure size 600x600 with 1 Axes>"
      ]
     },
     "metadata": {},
     "output_type": "display_data"
    },
    {
     "data": {
      "image/png": "[encoded data removed]",
      "text/plain": [
       "<Figure size 600x600 with 1 Axes>"
      ]
     },
     "metadata": {},
     "output_type": "display_data"
    },
    {
     "data": {
      "image/png": "[encoded data removed]",
      "text/plain": [
       "<Figure size 600x600 with 1 Axes>"
      ]
     },
     "metadata": {},
     "output_type": "display_data"
    },
    {
     "data": {
      "image/png": "[encoded data removed]",
      "text/plain": [
       "<Figure size 600x600 with 1 Axes>"
      ]
     },
     "metadata": {},
     "output_type": "display_data"
    },
    {
     "data": {
      "image/png": "[encoded data removed]",
      "text/plain": [
       "<Figure size 600x600 with 1 Axes>"
      ]
     },
     "metadata": {},
     "output_type": "display_data"
    }
   ],
   "source": [
    "vals = [\"score\", \"signal_val\", \"p\", \"q\", \"score_q\"]\n",
    "x=\"cl\"\n",
    "\n",
    "data=df#.loc[df[\"cl\"]==\"BJ\"]#.sample(frac=0.1)\n",
    "hue =\"rep\"\n",
    "hue_order = ['C1', 'C2', 'C3', 'T1', 'T2', 'T3']\n",
    "palette='tab20c'\n",
    "\n",
    "for y in vals:\n",
    "    y=y\n",
    "    title= f\"raw filtered {y}\"\n",
    "\n",
    "    fig, ax=plt.subplots(figsize=(6,6))\n",
    "    sns.boxplot(x=x, y=y, data=data, \n",
    "                hue=hue, hue_order=hue_order, \n",
    "                palette=plt.cm.tab20c.colors[1:], \n",
    "                showfliers=False)\n",
    "    ax.set(title=title)\n",
    "    ax.legend(bbox_to_anchor=(1,1))"
   ]
  },
  {
   "cell_type": "markdown",
   "id": "48dbf02c-bd7a-4238-bb6f-ca9dd2c694cf",
   "metadata": {},
   "source": [
    "## count peaks per cell-type, rep"
   ]
  },
  {
   "cell_type": "code",
   "execution_count": 72,
   "id": "e5dece07-b934-4f44-8070-c2c2e58a0fd8",
   "metadata": {},
   "outputs": [
    {
     "data": {
      "text/plain": [
       "count        24.000000\n",
       "mean     139940.875000\n",
       "std       45415.927236\n",
       "min       65066.000000\n",
       "25%      104792.250000\n",
       "50%      131109.500000\n",
       "75%      173251.250000\n",
       "max      241002.000000\n",
       "Name: counts, dtype: float64"
      ]
     },
     "execution_count": 72,
     "metadata": {},
     "output_type": "execute_result"
    }
   ],
   "source": [
    "counts = df.groupby([\"cl\",\"exp\", \"rep\"])[\"score\"].count().reset_index()\n",
    "\n",
    "counts =counts.rename(columns={\"score\":\"counts\"})\n",
    "counts[\"counts\"].describe()  # summarize stats for all count data "
   ]
  },
  {
   "cell_type": "code",
   "execution_count": 73,
   "id": "0022dab7-ae81-4b0f-9ad3-c6b94a769964",
   "metadata": {},
   "outputs": [
    {
     "data": {
      "text/html": [
       "<div>\n",
       "<style scoped>\n",
       "    .dataframe tbody tr th:only-of-type {\n",
       "        vertical-align: middle;\n",
       "    }\n",
       "\n",
       "    .dataframe tbody tr th {\n",
       "        vertical-align: top;\n",
       "    }\n",
       "\n",
       "    .dataframe thead th {\n",
       "        text-align: right;\n",
       "    }\n",
       "</style>\n",
       "<table border=\"1\" class=\"dataframe\">\n",
       "  <thead>\n",
       "    <tr style=\"text-align: right;\">\n",
       "      <th></th>\n",
       "      <th></th>\n",
       "      <th>count</th>\n",
       "      <th>mean</th>\n",
       "      <th>std</th>\n",
       "      <th>min</th>\n",
       "      <th>25%</th>\n",
       "      <th>50%</th>\n",
       "      <th>75%</th>\n",
       "      <th>max</th>\n",
       "    </tr>\n",
       "    <tr>\n",
       "      <th>cl</th>\n",
       "      <th>exp</th>\n",
       "      <th></th>\n",
       "      <th></th>\n",
       "      <th></th>\n",
       "      <th></th>\n",
       "      <th></th>\n",
       "      <th></th>\n",
       "      <th></th>\n",
       "      <th></th>\n",
       "    </tr>\n",
       "  </thead>\n",
       "  <tbody>\n",
       "    <tr>\n",
       "      <th rowspan=\"2\" valign=\"top\">BJ</th>\n",
       "      <th>C</th>\n",
       "      <td>3.0</td>\n",
       "      <td>118003.000000</td>\n",
       "      <td>46028.337131</td>\n",
       "      <td>65066.0</td>\n",
       "      <td>102715.5</td>\n",
       "      <td>140365.0</td>\n",
       "      <td>144471.5</td>\n",
       "      <td>148578.0</td>\n",
       "    </tr>\n",
       "    <tr>\n",
       "      <th>T</th>\n",
       "      <td>3.0</td>\n",
       "      <td>104844.666667</td>\n",
       "      <td>23871.575238</td>\n",
       "      <td>82377.0</td>\n",
       "      <td>92313.0</td>\n",
       "      <td>102249.0</td>\n",
       "      <td>116078.5</td>\n",
       "      <td>129908.0</td>\n",
       "    </tr>\n",
       "    <tr>\n",
       "      <th rowspan=\"2\" valign=\"top\">HEPG2</th>\n",
       "      <th>C</th>\n",
       "      <td>3.0</td>\n",
       "      <td>209395.000000</td>\n",
       "      <td>29890.732828</td>\n",
       "      <td>181583.0</td>\n",
       "      <td>193591.5</td>\n",
       "      <td>205600.0</td>\n",
       "      <td>223301.0</td>\n",
       "      <td>241002.0</td>\n",
       "    </tr>\n",
       "    <tr>\n",
       "      <th>T</th>\n",
       "      <td>3.0</td>\n",
       "      <td>160709.000000</td>\n",
       "      <td>62236.758568</td>\n",
       "      <td>96502.0</td>\n",
       "      <td>130679.5</td>\n",
       "      <td>164857.0</td>\n",
       "      <td>192812.5</td>\n",
       "      <td>220768.0</td>\n",
       "    </tr>\n",
       "    <tr>\n",
       "      <th rowspan=\"2\" valign=\"top\">HOB</th>\n",
       "      <th>C</th>\n",
       "      <td>3.0</td>\n",
       "      <td>149526.000000</td>\n",
       "      <td>33187.079097</td>\n",
       "      <td>116879.0</td>\n",
       "      <td>132675.0</td>\n",
       "      <td>148471.0</td>\n",
       "      <td>165849.5</td>\n",
       "      <td>183228.0</td>\n",
       "    </tr>\n",
       "    <tr>\n",
       "      <th>T</th>\n",
       "      <td>3.0</td>\n",
       "      <td>160648.000000</td>\n",
       "      <td>24739.426166</td>\n",
       "      <td>132311.0</td>\n",
       "      <td>151998.5</td>\n",
       "      <td>171686.0</td>\n",
       "      <td>174816.5</td>\n",
       "      <td>177947.0</td>\n",
       "    </tr>\n",
       "    <tr>\n",
       "      <th rowspan=\"2\" valign=\"top\">K562</th>\n",
       "      <th>C</th>\n",
       "      <td>3.0</td>\n",
       "      <td>110050.000000</td>\n",
       "      <td>16459.927065</td>\n",
       "      <td>91160.0</td>\n",
       "      <td>104418.5</td>\n",
       "      <td>117677.0</td>\n",
       "      <td>119495.0</td>\n",
       "      <td>121313.0</td>\n",
       "    </tr>\n",
       "    <tr>\n",
       "      <th>T</th>\n",
       "      <td>3.0</td>\n",
       "      <td>106351.333333</td>\n",
       "      <td>3796.639874</td>\n",
       "      <td>103167.0</td>\n",
       "      <td>104250.5</td>\n",
       "      <td>105334.0</td>\n",
       "      <td>107943.5</td>\n",
       "      <td>110553.0</td>\n",
       "    </tr>\n",
       "  </tbody>\n",
       "</table>\n",
       "</div>"
      ],
      "text/plain": [
       "           count           mean           std       min       25%       50%  \\\n",
       "cl    exp                                                                     \n",
       "BJ    C      3.0  118003.000000  46028.337131   65066.0  102715.5  140365.0   \n",
       "      T      3.0  104844.666667  23871.575238   82377.0   92313.0  102249.0   \n",
       "HEPG2 C      3.0  209395.000000  29890.732828  181583.0  193591.5  205600.0   \n",
       "      T      3.0  160709.000000  62236.758568   96502.0  130679.5  164857.0   \n",
       "HOB   C      3.0  149526.000000  33187.079097  116879.0  132675.0  148471.0   \n",
       "      T      3.0  160648.000000  24739.426166  132311.0  151998.5  171686.0   \n",
       "K562  C      3.0  110050.000000  16459.927065   91160.0  104418.5  117677.0   \n",
       "      T      3.0  106351.333333   3796.639874  103167.0  104250.5  105334.0   \n",
       "\n",
       "                75%       max  \n",
       "cl    exp                      \n",
       "BJ    C    144471.5  148578.0  \n",
       "      T    116078.5  129908.0  \n",
       "HEPG2 C    223301.0  241002.0  \n",
       "      T    192812.5  220768.0  \n",
       "HOB   C    165849.5  183228.0  \n",
       "      T    174816.5  177947.0  \n",
       "K562  C    119495.0  121313.0  \n",
       "      T    107943.5  110553.0  "
      ]
     },
     "execution_count": 73,
     "metadata": {},
     "output_type": "execute_result"
    }
   ],
   "source": [
    "# summary of counts across replicates\n",
    "counts.groupby([\"cl\", \"exp\"])[\"counts\"].describe()"
   ]
  },
  {
   "cell_type": "code",
   "execution_count": 76,
   "id": "08e3ddff-3aa3-4355-ac1e-e2ba4cc200a3",
   "metadata": {},
   "outputs": [],
   "source": [
    "x=\"cl\"\n",
    "y=\"counts\"\n",
    "data=counts\n",
    "hue=\"rep\"\n",
    "title = \"peak counts, filtered on q<0.001 and score >100\""
   ]
  },
  {
   "cell_type": "code",
   "execution_count": 77,
   "id": "087a6512-3caf-46ec-bf1e-9bc1812bef92",
   "metadata": {},
   "outputs": [
    {
     "data": {
      "text/plain": [
       "[Text(0.5, 1.0, 'peak counts, filtered on q<0.001 and score >100')]"
      ]
     },
     "execution_count": 77,
     "metadata": {},
     "output_type": "execute_result"
    },
    {
     "data": {
      "image/png": "[encoded data removed]",
      "text/plain": [
       "<Figure size 600x600 with 1 Axes>"
      ]
     },
     "metadata": {},
     "output_type": "display_data"
    }
   ],
   "source": [
    "fig, ax = plt.subplots(figsize=(6,6))\n",
    "sns.swarmplot(x=x,y=y,data=data, \n",
    "              hue=hue, hue_order=hue_order, \n",
    "              palette=plt.cm.tab20c.colors[1:],\n",
    "             size=9)\n",
    "ax.legend(bbox_to_anchor=(1,1))\n",
    "ax.set(title=title)"
   ]
  },
  {
   "cell_type": "markdown",
   "id": "a4e9f746-9201-46c9-84d2-837cb4186855",
   "metadata": {},
   "source": [
    "# multi intersect"
   ]
  },
  {
   "cell_type": "code",
   "execution_count": 28,
   "id": "b875ad1a-01ea-4701-9d72-af6d52050546",
   "metadata": {
    "ExecuteTime": {
     "end_time": "2024-01-16T20:24:20.862553Z",
     "start_time": "2024-01-16T20:24:20.855957Z"
    }
   },
   "outputs": [
    {
     "name": "stdout",
     "output_type": "stream",
     "text": [
      "new key BJ.C BJ.C3.centered.peaks\n",
      "new key BJ.T BJ.T2.centered.peaks\n",
      "new key HEPG2.C HEPG2.C1.centered.peaks\n",
      "new key HEPG2.T HEPG2.T1.centered.peaks\n",
      "new key HOB.C HOB.C2.centered.peaks\n",
      "new key HOB.T HOB.T2.centered.peaks\n",
      "new key K562.C K562.C1.centered.peaks\n",
      "new key K562.T K562.T1.centered.peaks\n"
     ]
    }
   ],
   "source": [
    "centered_ = glob.glob(\"*centered.peaks\") # get all the files\n",
    "\n",
    "reps = {}\n",
    "for f in centered_:\n",
    "\n",
    "    # get cl and replicate\n",
    "    cl, rep = f.split(\".\")[:2]\n",
    "\n",
    "    # get exposure - treated or control\n",
    "    exposure=list(rep)[0]\n",
    "\n",
    "    # add cl+exposure and file to dictionary\n",
    "    key=f\"{cl}.{exposure}\"\n",
    "\n",
    "    \n",
    "    if key not in reps:\n",
    "        print(\"new key\", key, f)\n",
    "        reps[key] = [f]\n",
    "    else:\n",
    "        rep_list = reps[key]\n",
    "        rep_list.append(f)\n",
    "        reps[key] = rep_list\n",
    "    "
   ]
  },
  {
   "cell_type": "markdown",
   "id": "6afbcfed-6c6a-468f-81f3-601c3a32218d",
   "metadata": {},
   "source": [
    "## bedtoosl multiintersect command and filtering for peaks in all three datasets. "
   ]
  },
  {
   "cell_type": "code",
   "execution_count": 58,
   "id": "7e4018f1-e000-48ac-b09a-d0615e450e13",
   "metadata": {
    "ExecuteTime": {
     "end_time": "2024-01-16T20:52:19.363131Z",
     "start_time": "2024-01-16T20:51:38.883247Z"
    }
   },
   "outputs": [
    {
     "name": "stdout",
     "output_type": "stream",
     "text": [
      "before filtering overlaps (47220, 10)\n",
      "after filtering overlaps (43061, 10)\n",
      "BJ.C count    43061.000000\n",
      "mean       244.778454\n",
      "std         35.427614\n",
      "min        148.000000\n",
      "25%        222.000000\n",
      "50%        250.000000\n",
      "75%        273.000000\n",
      "max        572.000000\n",
      "Name: len, dtype: float64\n",
      "before filtering overlaps (48855, 10)\n",
      "after filtering overlaps (44428, 10)\n",
      "BJ.T count    44428.000000\n",
      "mean       242.783222\n",
      "std         35.602510\n",
      "min        148.000000\n",
      "25%        219.000000\n",
      "50%        248.000000\n",
      "75%        271.000000\n",
      "max        572.000000\n",
      "Name: len, dtype: float64\n",
      "before filtering overlaps (57476, 10)\n",
      "after filtering overlaps (50194, 10)\n",
      "HEPG2.C count    50194.000000\n",
      "mean       242.468980\n",
      "std         35.826575\n",
      "min        148.000000\n",
      "25%        219.000000\n",
      "50%        248.000000\n",
      "75%        271.000000\n",
      "max        573.000000\n",
      "Name: len, dtype: float64\n",
      "before filtering overlaps (40607, 10)\n",
      "after filtering overlaps (35396, 10)\n",
      "HEPG2.T count    35396.000000\n",
      "mean       238.709176\n",
      "std         36.478612\n",
      "min        148.000000\n",
      "25%        214.000000\n",
      "50%        244.000000\n",
      "75%        267.000000\n",
      "max        572.000000\n",
      "Name: len, dtype: float64\n",
      "before filtering overlaps (85204, 10)\n",
      "after filtering overlaps (79897, 10)\n",
      "HOB.C count    79897.000000\n",
      "mean       252.744171\n",
      "std         32.773846\n",
      "min        148.000000\n",
      "25%        233.000000\n",
      "50%        258.000000\n",
      "75%        281.000000\n",
      "max        572.000000\n",
      "Name: len, dtype: float64\n",
      "before filtering overlaps (93803, 10)\n",
      "after filtering overlaps (88481, 10)\n",
      "HOB.T count    88481.000000\n",
      "mean       253.823408\n",
      "std         32.542977\n",
      "min        148.000000\n",
      "25%        235.000000\n",
      "50%        260.000000\n",
      "75%        281.000000\n",
      "max        572.000000\n",
      "Name: len, dtype: float64\n",
      "before filtering overlaps (64054, 10)\n",
      "after filtering overlaps (58520, 10)\n",
      "K562.C count    58520.000000\n",
      "mean       251.023735\n",
      "std         34.133319\n",
      "min        148.000000\n",
      "25%        229.000000\n",
      "50%        256.000000\n",
      "75%        281.000000\n",
      "max        294.000000\n",
      "Name: len, dtype: float64\n",
      "before filtering overlaps (67943, 10)\n",
      "after filtering overlaps (62995, 10)\n",
      "K562.T count    62995.000000\n",
      "mean       253.451020\n",
      "std         33.202552\n",
      "min        148.000000\n",
      "25%        233.000000\n",
      "50%        259.000000\n",
      "75%        283.000000\n",
      "max        294.000000\n",
      "Name: len, dtype: float64\n"
     ]
    }
   ],
   "source": [
    "consensus_files = {}\n",
    "for key, val in reps.items():\n",
    "    out = key + \".centered.multi.bed\"  # file to write to\n",
    "    \n",
    "    for i in val:\n",
    "        os.system(f\"bedtools sort -i {i} > t && mv t {i}\")\n",
    "    \n",
    "    # build bedtools multi command\n",
    "    cmd =[\"bedtools multiinter -i\"]\n",
    "    cmd.extend(val)\n",
    "    cmd.append(f\" > {out}\")\n",
    "    cmd = \" \".join(cmd)\n",
    "\n",
    "    # perform multi-intersect, if not already done.\n",
    "    #if os.path.exists(out) is False:\n",
    "    os.system(cmd)\n",
    "\n",
    "    # get peaks found in all 3 datasets\n",
    "    consen_out = key + \".centered.multi.3.bed\"\n",
    "    test = pd.read_csv(out, sep='\\t', header=None)\n",
    "\n",
    "    # fitler\n",
    "    consen = test.loc[test[3]==3].copy() # keep only 3 overlaps\n",
    "    \n",
    "    # colunm formatting\n",
    "    consen.columns=[\"#chr\", \"start\", \"end\", \"count\", \"reps\", \"rep1\", 'rep2', \"rep3\"]\n",
    "    consen[\"len\"] = consen[\"end\"] - consen[\"start\"] # compute lengths of overlapping peaks\n",
    "    consen[\"cl.exp\"]= key  # add key identity\n",
    "    \n",
    "    print('before filtering overlaps', consen.shape)\n",
    "    # filter peaks with 200+ bp overlap\n",
    "    consen = consen.loc[consen[\"len\"]>PEAK_EXPANSION]\n",
    "    \n",
    "    print('after filtering overlaps', consen.shape)\n",
    "    \n",
    "    # filter - peak overlaps all three datasets\n",
    "    print(key, consen[\"len\"].describe())  # summary stat of length\n",
    "    \n",
    "    # write\n",
    "    consen[[\"#chr\", \"start\", \"end\", \"count\", \"len\",\"cl.exp\"]].to_csv(consen_out, sep='\\t', index=False)\n",
    "\n",
    "    consensus_files[consen_out] = consen[[\"#chr\", \"start\", \"end\", \"count\", \"len\",\"cl.exp\"]]"
   ]
  },
  {
   "cell_type": "code",
   "execution_count": 59,
   "id": "029ee919-1a71-4941-8d7c-a6025beade8b",
   "metadata": {
    "ExecuteTime": {
     "end_time": "2024-01-16T20:53:51.452151Z",
     "start_time": "2024-01-16T20:53:51.420972Z"
    }
   },
   "outputs": [
    {
     "name": "stdout",
     "output_type": "stream",
     "text": [
      "(462972, 6)\n"
     ]
    },
    {
     "data": {
      "text/html": [
       "<div>\n",
       "<style scoped>\n",
       "    .dataframe tbody tr th:only-of-type {\n",
       "        vertical-align: middle;\n",
       "    }\n",
       "\n",
       "    .dataframe tbody tr th {\n",
       "        vertical-align: top;\n",
       "    }\n",
       "\n",
       "    .dataframe thead th {\n",
       "        text-align: right;\n",
       "    }\n",
       "</style>\n",
       "<table border=\"1\" class=\"dataframe\">\n",
       "  <thead>\n",
       "    <tr style=\"text-align: right;\">\n",
       "      <th></th>\n",
       "      <th>#chr</th>\n",
       "      <th>start</th>\n",
       "      <th>end</th>\n",
       "      <th>count</th>\n",
       "      <th>len</th>\n",
       "      <th>cl.exp</th>\n",
       "    </tr>\n",
       "  </thead>\n",
       "  <tbody>\n",
       "    <tr>\n",
       "      <th>2</th>\n",
       "      <td>chr1</td>\n",
       "      <td>9941</td>\n",
       "      <td>10229</td>\n",
       "      <td>3</td>\n",
       "      <td>288</td>\n",
       "      <td>BJ.C</td>\n",
       "    </tr>\n",
       "    <tr>\n",
       "      <th>7</th>\n",
       "      <td>chr1</td>\n",
       "      <td>11173</td>\n",
       "      <td>11457</td>\n",
       "      <td>3</td>\n",
       "      <td>284</td>\n",
       "      <td>BJ.C</td>\n",
       "    </tr>\n",
       "    <tr>\n",
       "      <th>17</th>\n",
       "      <td>chr1</td>\n",
       "      <td>29190</td>\n",
       "      <td>29467</td>\n",
       "      <td>3</td>\n",
       "      <td>277</td>\n",
       "      <td>BJ.C</td>\n",
       "    </tr>\n",
       "    <tr>\n",
       "      <th>25</th>\n",
       "      <td>chr1</td>\n",
       "      <td>34682</td>\n",
       "      <td>34950</td>\n",
       "      <td>3</td>\n",
       "      <td>268</td>\n",
       "      <td>BJ.C</td>\n",
       "    </tr>\n",
       "    <tr>\n",
       "      <th>34</th>\n",
       "      <td>chr1</td>\n",
       "      <td>96535</td>\n",
       "      <td>96811</td>\n",
       "      <td>3</td>\n",
       "      <td>276</td>\n",
       "      <td>BJ.C</td>\n",
       "    </tr>\n",
       "  </tbody>\n",
       "</table>\n",
       "</div>"
      ],
      "text/plain": [
       "    #chr  start    end  count  len cl.exp\n",
       "2   chr1   9941  10229      3  288   BJ.C\n",
       "7   chr1  11173  11457      3  284   BJ.C\n",
       "17  chr1  29190  29467      3  277   BJ.C\n",
       "25  chr1  34682  34950      3  268   BJ.C\n",
       "34  chr1  96535  96811      3  276   BJ.C"
      ]
     },
     "execution_count": 59,
     "metadata": {},
     "output_type": "execute_result"
    }
   ],
   "source": [
    "con = pd.concat(consensus_files.values())\n",
    "print(con.shape)\n",
    "con.head()"
   ]
  },
  {
   "cell_type": "markdown",
   "id": "a83318f2-1dc4-4afa-ad69-de055fef1e4d",
   "metadata": {},
   "source": [
    "## consensus peak lengths per replicate"
   ]
  },
  {
   "cell_type": "code",
   "execution_count": 60,
   "id": "b2e66d9d-c7eb-49d1-bc8b-db140ae70b3f",
   "metadata": {
    "ExecuteTime": {
     "end_time": "2024-01-16T20:55:47.694030Z",
     "start_time": "2024-01-16T20:55:43.621687Z"
    }
   },
   "outputs": [
    {
     "name": "stderr",
     "output_type": "stream",
     "text": [
      "/wynton/home/ahituv/fongsl/.conda/envs/mamba/lib/python3.9/site-packages/seaborn/_oldcore.py:1498: FutureWarning: is_categorical_dtype is deprecated and will be removed in a future version. Use isinstance(dtype, CategoricalDtype) instead\n",
      "  if pd.api.types.is_categorical_dtype(vector):\n",
      "/wynton/home/ahituv/fongsl/.conda/envs/mamba/lib/python3.9/site-packages/seaborn/_oldcore.py:1498: FutureWarning: is_categorical_dtype is deprecated and will be removed in a future version. Use isinstance(dtype, CategoricalDtype) instead\n",
      "  if pd.api.types.is_categorical_dtype(vector):\n",
      "/wynton/home/ahituv/fongsl/.conda/envs/mamba/lib/python3.9/site-packages/seaborn/_oldcore.py:1498: FutureWarning: is_categorical_dtype is deprecated and will be removed in a future version. Use isinstance(dtype, CategoricalDtype) instead\n",
      "  if pd.api.types.is_categorical_dtype(vector):\n",
      "/wynton/home/ahituv/fongsl/.conda/envs/mamba/lib/python3.9/site-packages/seaborn/_oldcore.py:1498: FutureWarning: is_categorical_dtype is deprecated and will be removed in a future version. Use isinstance(dtype, CategoricalDtype) instead\n",
      "  if pd.api.types.is_categorical_dtype(vector):\n",
      "/wynton/home/ahituv/fongsl/.conda/envs/mamba/lib/python3.9/site-packages/seaborn/_oldcore.py:1119: FutureWarning: use_inf_as_na option is deprecated and will be removed in a future version. Convert inf values to NaN before operating instead.\n",
      "  with pd.option_context('mode.use_inf_as_na', True):\n"
     ]
    },
    {
     "data": {
      "text/plain": [
       "<Axes: xlabel='len', ylabel='Density'>"
      ]
     },
     "execution_count": 60,
     "metadata": {},
     "output_type": "execute_result"
    },
    {
     "data": {
      "image/png": "[encoded data removed]",
      "text/plain": [
       "<Figure size 640x480 with 1 Axes>"
      ]
     },
     "metadata": {},
     "output_type": "display_data"
    }
   ],
   "source": [
    "# consensus peak lengths per replicate\n",
    "sns.kdeplot(x=\"len\", data=con.sort_values(by=\"cl.exp\"), hue=\"cl.exp\", common_norm=False, palette=\"tab20\")"
   ]
  },
  {
   "cell_type": "markdown",
   "id": "fff9dd21",
   "metadata": {},
   "source": [
    "# back-intersect into each replicate"
   ]
  },
  {
   "cell_type": "code",
   "execution_count": 85,
   "id": "ae68ae45-8817-4ed9-b854-8531ac8005d3",
   "metadata": {
    "ExecuteTime": {
     "end_time": "2024-01-16T21:26:10.660781Z",
     "start_time": "2024-01-16T21:26:10.651679Z"
    }
   },
   "outputs": [],
   "source": [
    "# get mean scores for consensus peaks by back-intersecting w original data.\n",
    "peak_outs = {}\n",
    "for key in consensus_files.keys():\n",
    "    group = \".\".join(key.split(\".\")[:2])\n",
    "    for peak_file in centered_:\n",
    "        if group in peak_file:\n",
    "            \n",
    "            out = key.strip(\".bed\") + \".\" + peak_file + \".bed\"\n",
    "            cmd = \" \".join([\n",
    "                \"bedtools intersect -a\",\n",
    "                key,  # consensus peak set\n",
    "                \"-b\",\n",
    "                peak_file,  # replicate peak set\n",
    "                \"-f 0.5\",  # 50% of consensus peak must overlap in -b\n",
    "                \"-wa -wb >\", \n",
    "                out # write to file\n",
    "            ])\n",
    "            \n",
    "            if os.path.exists(out) is False:  # do intersection only once\n",
    "                os.system(cmd)\n",
    "                \n",
    "            # add file to dictionary\n",
    "            if group not in peak_outs.keys():\n",
    "                peak_outs[group] = [out]\n",
    "            else:\n",
    "                peak_outlist = peak_outs[group]\n",
    "                peak_outlist.append(out)\n",
    "                peak_outs[group] = peak_outlist\n"
   ]
  },
  {
   "cell_type": "markdown",
   "id": "1f2c23f0",
   "metadata": {},
   "source": [
    "## get scores for each peak in each replicate. "
   ]
  },
  {
   "cell_type": "code",
   "execution_count": 183,
   "id": "0459e549-2f0c-45e0-aad7-e48cb082d1f3",
   "metadata": {
    "ExecuteTime": {
     "end_time": "2024-01-16T22:39:35.077462Z",
     "start_time": "2024-01-16T22:39:28.609143Z"
    }
   },
   "outputs": [],
   "source": [
    "names = [\"#chr\", \"start_peakcons\", \"end_peakcons\", \"n_repcons\", \"lencons\",\n",
    "         \"group\", \"#chr_rep\", 'start_center_rep', \"end_center_rep\", \"sample_id\",\n",
    "         \"score\", 'strand', \"signal_val\", \"p\", \"q\", \"peak_center\",\n",
    "         \"cl\", \"rep\", \"treatment\",\n",
    "         \"start_rep\", 'end_rep'\n",
    "         ]  # column file names\n",
    "\n",
    "usecols = [\"#chr\", \"start_peakcons\", \"end_peakcons\", \"lencons\",\n",
    "           \"group\", \n",
    "           \"score\", \n",
    "           \"cl\", \"rep\", \n",
    "           ]  # column file names\n",
    "\n",
    "\n",
    "results={}\n",
    "for key, peak_files in peak_outs.items():  # per group\n",
    "    peaks = {}\n",
    "    for peak_file in peak_files:  # per file, load data\n",
    "        peaks[peak_file] = pd.read_csv(peak_file, sep='\\t',\n",
    "                           header=None,\n",
    "                           names=names, usecols=usecols\n",
    "                           )\n",
    "    # clean up peak/condition set\n",
    "    test = pd.concat(peaks.values()).drop_duplicates().reset_index(drop=True)\n",
    "\n",
    "    # make coordinate str\n",
    "    test[\"coor\"] = test[\"#chr\"] + \":\" + \\\n",
    "        test[\"start_peakcons\"].map(str) + '-' + test[\"end_peakcons\"].map(str)\n",
    "\n",
    "    # remove funny datapoint(s) that have more/less than 3 rep measurements\n",
    "    count_reps = test.groupby(\"coor\")[\"#chr\"].count().reset_index()\n",
    "    \n",
    "    # get ids that don't have 3 read measurements. \n",
    "    remove_coor = count_reps.loc[count_reps[\"#chr\"] != 3, \"coor\"]\n",
    "    test = test.loc[~test[\"coor\"].isin(remove_coor)]\n",
    "\n",
    "    # add to dictionary\n",
    "    results[key] = test"
   ]
  },
  {
   "cell_type": "code",
   "execution_count": 203,
   "id": "d8959194",
   "metadata": {
    "ExecuteTime": {
     "end_time": "2024-01-16T22:45:39.436150Z",
     "start_time": "2024-01-16T22:45:39.385236Z"
    }
   },
   "outputs": [
    {
     "data": {
      "text/plain": [
       "49828"
      ]
     },
     "execution_count": 203,
     "metadata": {},
     "output_type": "execute_result"
    }
   ],
   "source": [
    "len(set(results['HEPG2.C'][\"coor\"]).difference(set(results['HEPG2.T'][\"coor\"])))"
   ]
  },
  {
   "cell_type": "code",
   "execution_count": 205,
   "id": "93c9536a",
   "metadata": {
    "ExecuteTime": {
     "end_time": "2024-01-16T22:46:17.852324Z",
     "start_time": "2024-01-16T22:46:17.839321Z"
    }
   },
   "outputs": [
    {
     "data": {
      "text/html": [
       "<div>\n",
       "<style scoped>\n",
       "    .dataframe tbody tr th:only-of-type {\n",
       "        vertical-align: middle;\n",
       "    }\n",
       "\n",
       "    .dataframe tbody tr th {\n",
       "        vertical-align: top;\n",
       "    }\n",
       "\n",
       "    .dataframe thead th {\n",
       "        text-align: right;\n",
       "    }\n",
       "</style>\n",
       "<table border=\"1\" class=\"dataframe\">\n",
       "  <thead>\n",
       "    <tr style=\"text-align: right;\">\n",
       "      <th></th>\n",
       "      <th>#chr</th>\n",
       "      <th>start_peakcons</th>\n",
       "      <th>end_peakcons</th>\n",
       "      <th>lencons</th>\n",
       "      <th>group</th>\n",
       "      <th>score</th>\n",
       "      <th>cl</th>\n",
       "      <th>rep</th>\n",
       "      <th>coor</th>\n",
       "    </tr>\n",
       "  </thead>\n",
       "  <tbody>\n",
       "    <tr>\n",
       "      <th>0</th>\n",
       "      <td>chr1</td>\n",
       "      <td>9941</td>\n",
       "      <td>10234</td>\n",
       "      <td>293</td>\n",
       "      <td>HEPG2.C</td>\n",
       "      <td>2936</td>\n",
       "      <td>HEPG2</td>\n",
       "      <td>C1</td>\n",
       "      <td>chr1:9941-10234</td>\n",
       "    </tr>\n",
       "    <tr>\n",
       "      <th>1</th>\n",
       "      <td>chr1</td>\n",
       "      <td>11167</td>\n",
       "      <td>11461</td>\n",
       "      <td>294</td>\n",
       "      <td>HEPG2.C</td>\n",
       "      <td>217</td>\n",
       "      <td>HEPG2</td>\n",
       "      <td>C1</td>\n",
       "      <td>chr1:11167-11461</td>\n",
       "    </tr>\n",
       "    <tr>\n",
       "      <th>2</th>\n",
       "      <td>chr1</td>\n",
       "      <td>19853</td>\n",
       "      <td>20106</td>\n",
       "      <td>253</td>\n",
       "      <td>HEPG2.C</td>\n",
       "      <td>187</td>\n",
       "      <td>HEPG2</td>\n",
       "      <td>C1</td>\n",
       "      <td>chr1:19853-20106</td>\n",
       "    </tr>\n",
       "    <tr>\n",
       "      <th>3</th>\n",
       "      <td>chr1</td>\n",
       "      <td>29194</td>\n",
       "      <td>29460</td>\n",
       "      <td>266</td>\n",
       "      <td>HEPG2.C</td>\n",
       "      <td>371</td>\n",
       "      <td>HEPG2</td>\n",
       "      <td>C1</td>\n",
       "      <td>chr1:29194-29460</td>\n",
       "    </tr>\n",
       "    <tr>\n",
       "      <th>4</th>\n",
       "      <td>chr1</td>\n",
       "      <td>96587</td>\n",
       "      <td>96845</td>\n",
       "      <td>258</td>\n",
       "      <td>HEPG2.C</td>\n",
       "      <td>69</td>\n",
       "      <td>HEPG2</td>\n",
       "      <td>C1</td>\n",
       "      <td>chr1:96587-96845</td>\n",
       "    </tr>\n",
       "    <tr>\n",
       "      <th>...</th>\n",
       "      <td>...</td>\n",
       "      <td>...</td>\n",
       "      <td>...</td>\n",
       "      <td>...</td>\n",
       "      <td>...</td>\n",
       "      <td>...</td>\n",
       "      <td>...</td>\n",
       "      <td>...</td>\n",
       "      <td>...</td>\n",
       "    </tr>\n",
       "    <tr>\n",
       "      <th>150597</th>\n",
       "      <td>chrY</td>\n",
       "      <td>56765207</td>\n",
       "      <td>56765400</td>\n",
       "      <td>193</td>\n",
       "      <td>HEPG2.C</td>\n",
       "      <td>71</td>\n",
       "      <td>HEPG2</td>\n",
       "      <td>C2</td>\n",
       "      <td>chrY:56765207-56765400</td>\n",
       "    </tr>\n",
       "    <tr>\n",
       "      <th>150598</th>\n",
       "      <td>chrY</td>\n",
       "      <td>56767232</td>\n",
       "      <td>56767514</td>\n",
       "      <td>282</td>\n",
       "      <td>HEPG2.C</td>\n",
       "      <td>58</td>\n",
       "      <td>HEPG2</td>\n",
       "      <td>C2</td>\n",
       "      <td>chrY:56767232-56767514</td>\n",
       "    </tr>\n",
       "    <tr>\n",
       "      <th>150599</th>\n",
       "      <td>chrY</td>\n",
       "      <td>56768510</td>\n",
       "      <td>56768755</td>\n",
       "      <td>245</td>\n",
       "      <td>HEPG2.C</td>\n",
       "      <td>194</td>\n",
       "      <td>HEPG2</td>\n",
       "      <td>C2</td>\n",
       "      <td>chrY:56768510-56768755</td>\n",
       "    </tr>\n",
       "    <tr>\n",
       "      <th>150600</th>\n",
       "      <td>chrY</td>\n",
       "      <td>56839281</td>\n",
       "      <td>56839551</td>\n",
       "      <td>270</td>\n",
       "      <td>HEPG2.C</td>\n",
       "      <td>75</td>\n",
       "      <td>HEPG2</td>\n",
       "      <td>C2</td>\n",
       "      <td>chrY:56839281-56839551</td>\n",
       "    </tr>\n",
       "    <tr>\n",
       "      <th>150601</th>\n",
       "      <td>chrY</td>\n",
       "      <td>56850694</td>\n",
       "      <td>56850961</td>\n",
       "      <td>267</td>\n",
       "      <td>HEPG2.C</td>\n",
       "      <td>148</td>\n",
       "      <td>HEPG2</td>\n",
       "      <td>C2</td>\n",
       "      <td>chrY:56850694-56850961</td>\n",
       "    </tr>\n",
       "  </tbody>\n",
       "</table>\n",
       "<p>150528 rows × 9 columns</p>\n",
       "</div>"
      ],
      "text/plain": [
       "        #chr  start_peakcons  end_peakcons  lencons    group  score     cl  \\\n",
       "0       chr1            9941         10234      293  HEPG2.C   2936  HEPG2   \n",
       "1       chr1           11167         11461      294  HEPG2.C    217  HEPG2   \n",
       "2       chr1           19853         20106      253  HEPG2.C    187  HEPG2   \n",
       "3       chr1           29194         29460      266  HEPG2.C    371  HEPG2   \n",
       "4       chr1           96587         96845      258  HEPG2.C     69  HEPG2   \n",
       "...      ...             ...           ...      ...      ...    ...    ...   \n",
       "150597  chrY        56765207      56765400      193  HEPG2.C     71  HEPG2   \n",
       "150598  chrY        56767232      56767514      282  HEPG2.C     58  HEPG2   \n",
       "150599  chrY        56768510      56768755      245  HEPG2.C    194  HEPG2   \n",
       "150600  chrY        56839281      56839551      270  HEPG2.C     75  HEPG2   \n",
       "150601  chrY        56850694      56850961      267  HEPG2.C    148  HEPG2   \n",
       "\n",
       "       rep                    coor  \n",
       "0       C1         chr1:9941-10234  \n",
       "1       C1        chr1:11167-11461  \n",
       "2       C1        chr1:19853-20106  \n",
       "3       C1        chr1:29194-29460  \n",
       "4       C1        chr1:96587-96845  \n",
       "...     ..                     ...  \n",
       "150597  C2  chrY:56765207-56765400  \n",
       "150598  C2  chrY:56767232-56767514  \n",
       "150599  C2  chrY:56768510-56768755  \n",
       "150600  C2  chrY:56839281-56839551  \n",
       "150601  C2  chrY:56850694-56850961  \n",
       "\n",
       "[150528 rows x 9 columns]"
      ]
     },
     "execution_count": 205,
     "metadata": {},
     "output_type": "execute_result"
    }
   ],
   "source": [
    "results['HEPG2.C']"
   ]
  },
  {
   "cell_type": "markdown",
   "id": "d8ac8e77",
   "metadata": {},
   "source": [
    "## evaluate 1 cell type, 1 set of replicates"
   ]
  },
  {
   "cell_type": "code",
   "execution_count": 206,
   "id": "b7621279",
   "metadata": {
    "ExecuteTime": {
     "end_time": "2024-01-16T23:10:35.168553Z",
     "start_time": "2024-01-16T23:10:35.019187Z"
    }
   },
   "outputs": [
    {
     "data": {
      "text/html": [
       "<div>\n",
       "<style scoped>\n",
       "    .dataframe tbody tr th:only-of-type {\n",
       "        vertical-align: middle;\n",
       "    }\n",
       "\n",
       "    .dataframe tbody tr th {\n",
       "        vertical-align: top;\n",
       "    }\n",
       "\n",
       "    .dataframe thead th {\n",
       "        text-align: right;\n",
       "    }\n",
       "</style>\n",
       "<table border=\"1\" class=\"dataframe\">\n",
       "  <thead>\n",
       "    <tr style=\"text-align: right;\">\n",
       "      <th>rep</th>\n",
       "      <th>C1</th>\n",
       "      <th>C2</th>\n",
       "      <th>C3</th>\n",
       "    </tr>\n",
       "    <tr>\n",
       "      <th>coor</th>\n",
       "      <th></th>\n",
       "      <th></th>\n",
       "      <th></th>\n",
       "    </tr>\n",
       "  </thead>\n",
       "  <tbody>\n",
       "    <tr>\n",
       "      <th>chr10:100006476-100006646</th>\n",
       "      <td>279</td>\n",
       "      <td>168</td>\n",
       "      <td>85</td>\n",
       "    </tr>\n",
       "    <tr>\n",
       "      <th>chr10:100046103-100046327</th>\n",
       "      <td>77</td>\n",
       "      <td>64</td>\n",
       "      <td>52</td>\n",
       "    </tr>\n",
       "    <tr>\n",
       "      <th>chr10:100085664-100085939</th>\n",
       "      <td>261</td>\n",
       "      <td>332</td>\n",
       "      <td>170</td>\n",
       "    </tr>\n",
       "    <tr>\n",
       "      <th>chr10:100101602-100101853</th>\n",
       "      <td>472</td>\n",
       "      <td>764</td>\n",
       "      <td>263</td>\n",
       "    </tr>\n",
       "    <tr>\n",
       "      <th>chr10:100111770-100112005</th>\n",
       "      <td>73</td>\n",
       "      <td>20</td>\n",
       "      <td>11</td>\n",
       "    </tr>\n",
       "  </tbody>\n",
       "</table>\n",
       "</div>"
      ],
      "text/plain": [
       "rep                         C1   C2   C3\n",
       "coor                                    \n",
       "chr10:100006476-100006646  279  168   85\n",
       "chr10:100046103-100046327   77   64   52\n",
       "chr10:100085664-100085939  261  332  170\n",
       "chr10:100101602-100101853  472  764  263\n",
       "chr10:100111770-100112005   73   20   11"
      ]
     },
     "execution_count": 206,
     "metadata": {},
     "output_type": "execute_result"
    }
   ],
   "source": [
    "test = results['HEPG2.C']\n",
    "table = pd.pivot(test.fillna(0), index=\"coor\", columns=\"rep\", values=\"score\")\n",
    "table.head()"
   ]
  },
  {
   "cell_type": "code",
   "execution_count": 207,
   "id": "c90ba31e",
   "metadata": {
    "ExecuteTime": {
     "end_time": "2024-01-16T23:10:40.570925Z",
     "start_time": "2024-01-16T23:10:40.551645Z"
    }
   },
   "outputs": [
    {
     "data": {
      "text/html": [
       "<div>\n",
       "<style scoped>\n",
       "    .dataframe tbody tr th:only-of-type {\n",
       "        vertical-align: middle;\n",
       "    }\n",
       "\n",
       "    .dataframe tbody tr th {\n",
       "        vertical-align: top;\n",
       "    }\n",
       "\n",
       "    .dataframe thead th {\n",
       "        text-align: right;\n",
       "    }\n",
       "</style>\n",
       "<table border=\"1\" class=\"dataframe\">\n",
       "  <thead>\n",
       "    <tr style=\"text-align: right;\">\n",
       "      <th>rep</th>\n",
       "      <th>C1</th>\n",
       "      <th>C2</th>\n",
       "      <th>C3</th>\n",
       "    </tr>\n",
       "  </thead>\n",
       "  <tbody>\n",
       "    <tr>\n",
       "      <th>count</th>\n",
       "      <td>50176.000000</td>\n",
       "      <td>50176.000000</td>\n",
       "      <td>50176.000000</td>\n",
       "    </tr>\n",
       "    <tr>\n",
       "      <th>mean</th>\n",
       "      <td>269.235850</td>\n",
       "      <td>250.434790</td>\n",
       "      <td>136.961476</td>\n",
       "    </tr>\n",
       "    <tr>\n",
       "      <th>std</th>\n",
       "      <td>466.750725</td>\n",
       "      <td>484.915344</td>\n",
       "      <td>408.676956</td>\n",
       "    </tr>\n",
       "    <tr>\n",
       "      <th>min</th>\n",
       "      <td>1.000000</td>\n",
       "      <td>1.000000</td>\n",
       "      <td>1.000000</td>\n",
       "    </tr>\n",
       "    <tr>\n",
       "      <th>25%</th>\n",
       "      <td>69.000000</td>\n",
       "      <td>56.000000</td>\n",
       "      <td>26.000000</td>\n",
       "    </tr>\n",
       "    <tr>\n",
       "      <th>50%</th>\n",
       "      <td>150.000000</td>\n",
       "      <td>126.000000</td>\n",
       "      <td>60.000000</td>\n",
       "    </tr>\n",
       "    <tr>\n",
       "      <th>75%</th>\n",
       "      <td>328.000000</td>\n",
       "      <td>289.000000</td>\n",
       "      <td>145.000000</td>\n",
       "    </tr>\n",
       "    <tr>\n",
       "      <th>max</th>\n",
       "      <td>40235.000000</td>\n",
       "      <td>37849.000000</td>\n",
       "      <td>37457.000000</td>\n",
       "    </tr>\n",
       "  </tbody>\n",
       "</table>\n",
       "</div>"
      ],
      "text/plain": [
       "rep              C1            C2            C3\n",
       "count  50176.000000  50176.000000  50176.000000\n",
       "mean     269.235850    250.434790    136.961476\n",
       "std      466.750725    484.915344    408.676956\n",
       "min        1.000000      1.000000      1.000000\n",
       "25%       69.000000     56.000000     26.000000\n",
       "50%      150.000000    126.000000     60.000000\n",
       "75%      328.000000    289.000000    145.000000\n",
       "max    40235.000000  37849.000000  37457.000000"
      ]
     },
     "execution_count": 207,
     "metadata": {},
     "output_type": "execute_result"
    }
   ],
   "source": [
    "table.describe()"
   ]
  },
  {
   "cell_type": "code",
   "execution_count": 171,
   "id": "93fb6aa3",
   "metadata": {
    "ExecuteTime": {
     "end_time": "2024-01-16T22:03:08.703223Z",
     "start_time": "2024-01-16T22:03:08.700207Z"
    }
   },
   "outputs": [],
   "source": [
    "from sklearn.preprocessing import StandardScaler, RobustScaler"
   ]
  },
  {
   "cell_type": "code",
   "execution_count": 208,
   "id": "e615884d",
   "metadata": {
    "ExecuteTime": {
     "end_time": "2024-01-16T23:10:46.695111Z",
     "start_time": "2024-01-16T23:10:46.678112Z"
    }
   },
   "outputs": [
    {
     "name": "stderr",
     "output_type": "stream",
     "text": [
      "/wynton/home/ahituv/fongsl/.conda/envs/mamba/lib/python3.9/site-packages/sklearn/utils/validation.py:767: FutureWarning: is_sparse is deprecated and will be removed in a future version. Check `isinstance(dtype, pd.SparseDtype)` instead.\n",
      "  if not hasattr(array, \"sparse\") and array.dtypes.apply(is_sparse).any():\n",
      "/wynton/home/ahituv/fongsl/.conda/envs/mamba/lib/python3.9/site-packages/sklearn/utils/validation.py:605: FutureWarning: is_sparse is deprecated and will be removed in a future version. Check `isinstance(dtype, pd.SparseDtype)` instead.\n",
      "  if is_sparse(pd_dtype):\n",
      "/wynton/home/ahituv/fongsl/.conda/envs/mamba/lib/python3.9/site-packages/sklearn/utils/validation.py:614: FutureWarning: is_sparse is deprecated and will be removed in a future version. Check `isinstance(dtype, pd.SparseDtype)` instead.\n",
      "  if is_sparse(pd_dtype) or not is_extension_array_dtype(pd_dtype):\n",
      "/wynton/home/ahituv/fongsl/.conda/envs/mamba/lib/python3.9/site-packages/sklearn/utils/validation.py:767: FutureWarning: is_sparse is deprecated and will be removed in a future version. Check `isinstance(dtype, pd.SparseDtype)` instead.\n",
      "  if not hasattr(array, \"sparse\") and array.dtypes.apply(is_sparse).any():\n",
      "/wynton/home/ahituv/fongsl/.conda/envs/mamba/lib/python3.9/site-packages/sklearn/utils/validation.py:605: FutureWarning: is_sparse is deprecated and will be removed in a future version. Check `isinstance(dtype, pd.SparseDtype)` instead.\n",
      "  if is_sparse(pd_dtype):\n",
      "/wynton/home/ahituv/fongsl/.conda/envs/mamba/lib/python3.9/site-packages/sklearn/utils/validation.py:614: FutureWarning: is_sparse is deprecated and will be removed in a future version. Check `isinstance(dtype, pd.SparseDtype)` instead.\n",
      "  if is_sparse(pd_dtype) or not is_extension_array_dtype(pd_dtype):\n"
     ]
    }
   ],
   "source": [
    "ss = RobustScaler() #StandardScaler()\n",
    "scaled = ss.fit_transform(table)\n",
    "scaled = pd.DataFrame(scaled)\n",
    "scaled.columns = list(table)"
   ]
  },
  {
   "cell_type": "code",
   "execution_count": 209,
   "id": "2d103cc0",
   "metadata": {
    "ExecuteTime": {
     "end_time": "2024-01-16T23:10:49.179584Z",
     "start_time": "2024-01-16T23:10:49.169911Z"
    }
   },
   "outputs": [
    {
     "data": {
      "text/html": [
       "<div>\n",
       "<style scoped>\n",
       "    .dataframe tbody tr th:only-of-type {\n",
       "        vertical-align: middle;\n",
       "    }\n",
       "\n",
       "    .dataframe tbody tr th {\n",
       "        vertical-align: top;\n",
       "    }\n",
       "\n",
       "    .dataframe thead th {\n",
       "        text-align: right;\n",
       "    }\n",
       "</style>\n",
       "<table border=\"1\" class=\"dataframe\">\n",
       "  <thead>\n",
       "    <tr style=\"text-align: right;\">\n",
       "      <th></th>\n",
       "      <th>C1</th>\n",
       "      <th>C2</th>\n",
       "      <th>C3</th>\n",
       "    </tr>\n",
       "  </thead>\n",
       "  <tbody>\n",
       "    <tr>\n",
       "      <th>C1</th>\n",
       "      <td>1.000000</td>\n",
       "      <td>0.970168</td>\n",
       "      <td>0.932060</td>\n",
       "    </tr>\n",
       "    <tr>\n",
       "      <th>C2</th>\n",
       "      <td>0.970168</td>\n",
       "      <td>1.000000</td>\n",
       "      <td>0.956698</td>\n",
       "    </tr>\n",
       "    <tr>\n",
       "      <th>C3</th>\n",
       "      <td>0.932060</td>\n",
       "      <td>0.956698</td>\n",
       "      <td>1.000000</td>\n",
       "    </tr>\n",
       "  </tbody>\n",
       "</table>\n",
       "</div>"
      ],
      "text/plain": [
       "          C1        C2        C3\n",
       "C1  1.000000  0.970168  0.932060\n",
       "C2  0.970168  1.000000  0.956698\n",
       "C3  0.932060  0.956698  1.000000"
      ]
     },
     "execution_count": 209,
     "metadata": {},
     "output_type": "execute_result"
    }
   ],
   "source": [
    "scaled.corr()"
   ]
  },
  {
   "cell_type": "code",
   "execution_count": 210,
   "id": "d3f1a6b2",
   "metadata": {
    "ExecuteTime": {
     "end_time": "2024-01-16T23:10:55.743547Z",
     "start_time": "2024-01-16T23:10:55.724897Z"
    }
   },
   "outputs": [
    {
     "data": {
      "text/html": [
       "<div>\n",
       "<style scoped>\n",
       "    .dataframe tbody tr th:only-of-type {\n",
       "        vertical-align: middle;\n",
       "    }\n",
       "\n",
       "    .dataframe tbody tr th {\n",
       "        vertical-align: top;\n",
       "    }\n",
       "\n",
       "    .dataframe thead th {\n",
       "        text-align: right;\n",
       "    }\n",
       "</style>\n",
       "<table border=\"1\" class=\"dataframe\">\n",
       "  <thead>\n",
       "    <tr style=\"text-align: right;\">\n",
       "      <th></th>\n",
       "      <th>C1</th>\n",
       "      <th>C2</th>\n",
       "      <th>C3</th>\n",
       "    </tr>\n",
       "  </thead>\n",
       "  <tbody>\n",
       "    <tr>\n",
       "      <th>count</th>\n",
       "      <td>50176.000000</td>\n",
       "      <td>50176.000000</td>\n",
       "      <td>50176.000000</td>\n",
       "    </tr>\n",
       "    <tr>\n",
       "      <th>mean</th>\n",
       "      <td>0.460370</td>\n",
       "      <td>0.534055</td>\n",
       "      <td>0.646735</td>\n",
       "    </tr>\n",
       "    <tr>\n",
       "      <th>std</th>\n",
       "      <td>1.802126</td>\n",
       "      <td>2.081182</td>\n",
       "      <td>3.434260</td>\n",
       "    </tr>\n",
       "    <tr>\n",
       "      <th>min</th>\n",
       "      <td>-0.575290</td>\n",
       "      <td>-0.536481</td>\n",
       "      <td>-0.495798</td>\n",
       "    </tr>\n",
       "    <tr>\n",
       "      <th>25%</th>\n",
       "      <td>-0.312741</td>\n",
       "      <td>-0.300429</td>\n",
       "      <td>-0.285714</td>\n",
       "    </tr>\n",
       "    <tr>\n",
       "      <th>50%</th>\n",
       "      <td>0.000000</td>\n",
       "      <td>0.000000</td>\n",
       "      <td>0.000000</td>\n",
       "    </tr>\n",
       "    <tr>\n",
       "      <th>75%</th>\n",
       "      <td>0.687259</td>\n",
       "      <td>0.699571</td>\n",
       "      <td>0.714286</td>\n",
       "    </tr>\n",
       "    <tr>\n",
       "      <th>max</th>\n",
       "      <td>154.768340</td>\n",
       "      <td>161.901288</td>\n",
       "      <td>314.260504</td>\n",
       "    </tr>\n",
       "  </tbody>\n",
       "</table>\n",
       "</div>"
      ],
      "text/plain": [
       "                 C1            C2            C3\n",
       "count  50176.000000  50176.000000  50176.000000\n",
       "mean       0.460370      0.534055      0.646735\n",
       "std        1.802126      2.081182      3.434260\n",
       "min       -0.575290     -0.536481     -0.495798\n",
       "25%       -0.312741     -0.300429     -0.285714\n",
       "50%        0.000000      0.000000      0.000000\n",
       "75%        0.687259      0.699571      0.714286\n",
       "max      154.768340    161.901288    314.260504"
      ]
     },
     "execution_count": 210,
     "metadata": {},
     "output_type": "execute_result"
    }
   ],
   "source": [
    "scaled.describe()"
   ]
  },
  {
   "cell_type": "code",
   "execution_count": 211,
   "id": "b38cae9d",
   "metadata": {
    "ExecuteTime": {
     "end_time": "2024-01-16T23:11:24.700860Z",
     "start_time": "2024-01-16T23:11:24.689387Z"
    }
   },
   "outputs": [],
   "source": [
    "scaled[\"mean\"] = scaled.mean(axis=1)\n",
    "\n",
    "scaled[\"mean\"].describe()"
   ]
  },
  {
   "cell_type": "markdown",
   "id": "cbc9148e",
   "metadata": {},
   "source": [
    "## standard scaler"
   ]
  },
  {
   "cell_type": "code",
   "execution_count": 214,
   "id": "0f2311f5",
   "metadata": {
    "ExecuteTime": {
     "end_time": "2024-01-16T23:21:18.772610Z",
     "start_time": "2024-01-16T23:21:18.758449Z"
    }
   },
   "outputs": [
    {
     "name": "stderr",
     "output_type": "stream",
     "text": [
      "/wynton/home/ahituv/fongsl/.conda/envs/mamba/lib/python3.9/site-packages/sklearn/utils/validation.py:767: FutureWarning: is_sparse is deprecated and will be removed in a future version. Check `isinstance(dtype, pd.SparseDtype)` instead.\n",
      "  if not hasattr(array, \"sparse\") and array.dtypes.apply(is_sparse).any():\n",
      "/wynton/home/ahituv/fongsl/.conda/envs/mamba/lib/python3.9/site-packages/sklearn/utils/validation.py:605: FutureWarning: is_sparse is deprecated and will be removed in a future version. Check `isinstance(dtype, pd.SparseDtype)` instead.\n",
      "  if is_sparse(pd_dtype):\n",
      "/wynton/home/ahituv/fongsl/.conda/envs/mamba/lib/python3.9/site-packages/sklearn/utils/validation.py:614: FutureWarning: is_sparse is deprecated and will be removed in a future version. Check `isinstance(dtype, pd.SparseDtype)` instead.\n",
      "  if is_sparse(pd_dtype) or not is_extension_array_dtype(pd_dtype):\n",
      "/wynton/home/ahituv/fongsl/.conda/envs/mamba/lib/python3.9/site-packages/sklearn/utils/validation.py:767: FutureWarning: is_sparse is deprecated and will be removed in a future version. Check `isinstance(dtype, pd.SparseDtype)` instead.\n",
      "  if not hasattr(array, \"sparse\") and array.dtypes.apply(is_sparse).any():\n",
      "/wynton/home/ahituv/fongsl/.conda/envs/mamba/lib/python3.9/site-packages/sklearn/utils/validation.py:605: FutureWarning: is_sparse is deprecated and will be removed in a future version. Check `isinstance(dtype, pd.SparseDtype)` instead.\n",
      "  if is_sparse(pd_dtype):\n",
      "/wynton/home/ahituv/fongsl/.conda/envs/mamba/lib/python3.9/site-packages/sklearn/utils/validation.py:614: FutureWarning: is_sparse is deprecated and will be removed in a future version. Check `isinstance(dtype, pd.SparseDtype)` instead.\n",
      "  if is_sparse(pd_dtype) or not is_extension_array_dtype(pd_dtype):\n"
     ]
    }
   ],
   "source": [
    "ss = StandardScaler()\n",
    "stscaled = ss.fit_transform(table)\n",
    "stscaled = pd.DataFrame(stscaled)\n",
    "stscaled.columns = list(table)"
   ]
  },
  {
   "cell_type": "code",
   "execution_count": 215,
   "id": "943343bd",
   "metadata": {
    "ExecuteTime": {
     "end_time": "2024-01-16T23:21:19.733314Z",
     "start_time": "2024-01-16T23:21:19.480362Z"
    }
   },
   "outputs": [
    {
     "data": {
      "text/html": [
       "<div>\n",
       "<style scoped>\n",
       "    .dataframe tbody tr th:only-of-type {\n",
       "        vertical-align: middle;\n",
       "    }\n",
       "\n",
       "    .dataframe tbody tr th {\n",
       "        vertical-align: top;\n",
       "    }\n",
       "\n",
       "    .dataframe thead th {\n",
       "        text-align: right;\n",
       "    }\n",
       "</style>\n",
       "<table border=\"1\" class=\"dataframe\">\n",
       "  <thead>\n",
       "    <tr style=\"text-align: right;\">\n",
       "      <th></th>\n",
       "      <th>C1</th>\n",
       "      <th>C2</th>\n",
       "      <th>C3</th>\n",
       "    </tr>\n",
       "  </thead>\n",
       "  <tbody>\n",
       "    <tr>\n",
       "      <th>count</th>\n",
       "      <td>5.017600e+04</td>\n",
       "      <td>5.017600e+04</td>\n",
       "      <td>5.017600e+04</td>\n",
       "    </tr>\n",
       "    <tr>\n",
       "      <th>mean</th>\n",
       "      <td>-5.041319e-17</td>\n",
       "      <td>-3.398642e-18</td>\n",
       "      <td>-3.823472e-18</td>\n",
       "    </tr>\n",
       "    <tr>\n",
       "      <th>std</th>\n",
       "      <td>1.000010e+00</td>\n",
       "      <td>1.000010e+00</td>\n",
       "      <td>1.000010e+00</td>\n",
       "    </tr>\n",
       "    <tr>\n",
       "      <th>min</th>\n",
       "      <td>-5.746933e-01</td>\n",
       "      <td>-5.143934e-01</td>\n",
       "      <td>-3.326902e-01</td>\n",
       "    </tr>\n",
       "    <tr>\n",
       "      <th>25%</th>\n",
       "      <td>-4.290038e-01</td>\n",
       "      <td>-4.009705e-01</td>\n",
       "      <td>-2.715166e-01</td>\n",
       "    </tr>\n",
       "    <tr>\n",
       "      <th>50%</th>\n",
       "      <td>-2.554619e-01</td>\n",
       "      <td>-2.566139e-01</td>\n",
       "      <td>-1.883205e-01</td>\n",
       "    </tr>\n",
       "    <tr>\n",
       "      <th>75%</th>\n",
       "      <td>1.259018e-01</td>\n",
       "      <td>7.953057e-02</td>\n",
       "      <td>1.966983e-02</td>\n",
       "    </tr>\n",
       "    <tr>\n",
       "      <th>max</th>\n",
       "      <td>8.562635e+01</td>\n",
       "      <td>7.753712e+01</td>\n",
       "      <td>9.132008e+01</td>\n",
       "    </tr>\n",
       "  </tbody>\n",
       "</table>\n",
       "</div>"
      ],
      "text/plain": [
       "                 C1            C2            C3\n",
       "count  5.017600e+04  5.017600e+04  5.017600e+04\n",
       "mean  -5.041319e-17 -3.398642e-18 -3.823472e-18\n",
       "std    1.000010e+00  1.000010e+00  1.000010e+00\n",
       "min   -5.746933e-01 -5.143934e-01 -3.326902e-01\n",
       "25%   -4.290038e-01 -4.009705e-01 -2.715166e-01\n",
       "50%   -2.554619e-01 -2.566139e-01 -1.883205e-01\n",
       "75%    1.259018e-01  7.953057e-02  1.966983e-02\n",
       "max    8.562635e+01  7.753712e+01  9.132008e+01"
      ]
     },
     "execution_count": 215,
     "metadata": {},
     "output_type": "execute_result"
    }
   ],
   "source": [
    "stscaled.describe()"
   ]
  },
  {
   "cell_type": "code",
   "execution_count": 216,
   "id": "f5f39c74",
   "metadata": {
    "ExecuteTime": {
     "end_time": "2024-01-16T23:21:22.121477Z",
     "start_time": "2024-01-16T23:21:22.112143Z"
    }
   },
   "outputs": [
    {
     "data": {
      "text/html": [
       "<div>\n",
       "<style scoped>\n",
       "    .dataframe tbody tr th:only-of-type {\n",
       "        vertical-align: middle;\n",
       "    }\n",
       "\n",
       "    .dataframe tbody tr th {\n",
       "        vertical-align: top;\n",
       "    }\n",
       "\n",
       "    .dataframe thead th {\n",
       "        text-align: right;\n",
       "    }\n",
       "</style>\n",
       "<table border=\"1\" class=\"dataframe\">\n",
       "  <thead>\n",
       "    <tr style=\"text-align: right;\">\n",
       "      <th></th>\n",
       "      <th>C1</th>\n",
       "      <th>C2</th>\n",
       "      <th>C3</th>\n",
       "    </tr>\n",
       "  </thead>\n",
       "  <tbody>\n",
       "    <tr>\n",
       "      <th>C1</th>\n",
       "      <td>1.000000</td>\n",
       "      <td>0.970168</td>\n",
       "      <td>0.932060</td>\n",
       "    </tr>\n",
       "    <tr>\n",
       "      <th>C2</th>\n",
       "      <td>0.970168</td>\n",
       "      <td>1.000000</td>\n",
       "      <td>0.956698</td>\n",
       "    </tr>\n",
       "    <tr>\n",
       "      <th>C3</th>\n",
       "      <td>0.932060</td>\n",
       "      <td>0.956698</td>\n",
       "      <td>1.000000</td>\n",
       "    </tr>\n",
       "  </tbody>\n",
       "</table>\n",
       "</div>"
      ],
      "text/plain": [
       "          C1        C2        C3\n",
       "C1  1.000000  0.970168  0.932060\n",
       "C2  0.970168  1.000000  0.956698\n",
       "C3  0.932060  0.956698  1.000000"
      ]
     },
     "execution_count": 216,
     "metadata": {},
     "output_type": "execute_result"
    }
   ],
   "source": [
    "stscaled.corr()"
   ]
  },
  {
   "cell_type": "code",
   "execution_count": 217,
   "id": "8cfb5b46",
   "metadata": {
    "ExecuteTime": {
     "end_time": "2024-01-16T23:21:34.911193Z",
     "start_time": "2024-01-16T23:21:34.894223Z"
    }
   },
   "outputs": [
    {
     "data": {
      "text/plain": [
       "count    5.017600e+04\n",
       "mean    -1.642677e-17\n",
       "std      9.842102e-01\n",
       "min     -4.718099e-01\n",
       "25%     -3.579901e-01\n",
       "50%     -2.325759e-01\n",
       "75%      6.983548e-02\n",
       "max      8.290945e+01\n",
       "Name: mean, dtype: float64"
      ]
     },
     "execution_count": 217,
     "metadata": {},
     "output_type": "execute_result"
    }
   ],
   "source": [
    "stscaled[\"mean\"] = stscaled.mean(axis=1)\n",
    "\n",
    "stscaled[\"mean\"].describe()"
   ]
  },
  {
   "cell_type": "code",
   "execution_count": null,
   "id": "313f2da5",
   "metadata": {},
   "outputs": [],
   "source": []
  }
 ],
 "metadata": {
  "kernelspec": {
   "display_name": "Python (mamba)",
   "language": "python",
   "name": "mamba"
  },
  "language_info": {
   "codemirror_mode": {
    "name": "ipython",
    "version": 3
   },
   "file_extension": ".py",
   "mimetype": "text/x-python",
   "name": "python",
   "nbconvert_exporter": "python",
   "pygments_lexer": "ipython3",
   "version": "3.9.16"
  },
  "toc": {
   "base_numbering": 1,
   "nav_menu": {},
   "number_sections": true,
   "sideBar": true,
   "skip_h1_title": false,
   "title_cell": "Table of Contents",
   "title_sidebar": "Contents",
   "toc_cell": false,
   "toc_position": {},
   "toc_section_display": true,
   "toc_window_display": false
  },
  "varInspector": {
   "cols": {
    "lenName": 16,
    "lenType": 16,
    "lenVar": 40
   },
   "kernels_config": {
    "python": {
     "delete_cmd_postfix": "",
     "delete_cmd_prefix": "del ",
     "library": "var_list.py",
     "varRefreshCmd": "print(var_dic_list())"
    },
    "r": {
     "delete_cmd_postfix": ") ",
     "delete_cmd_prefix": "rm(",
     "library": "var_list.r",
     "varRefreshCmd": "cat(var_dic_list()) "
    }
   },
   "types_to_exclude": [
    "module",
    "function",
    "builtin_function_or_method",
    "instance",
    "_Feature"
   ],
   "window_display": false
  }
 },
 "nbformat": 4,
 "nbformat_minor": 5
}
