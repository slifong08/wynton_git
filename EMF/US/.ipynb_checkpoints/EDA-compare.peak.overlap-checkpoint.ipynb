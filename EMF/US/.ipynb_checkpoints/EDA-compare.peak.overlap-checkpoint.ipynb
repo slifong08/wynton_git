{
 "cells": [
  {
   "cell_type": "code",
   "execution_count": 67,
   "metadata": {},
   "outputs": [],
   "source": [
    "import matplotlib.pyplot as plt\n",
    "import matplotlib_venn as venn\n",
    "import numpy as np\n",
    "import os\n",
    "import sys\n",
    "\n",
    "import pandas as pd\n",
    "\n",
    "import seaborn as sns\n",
    "from scipy import stats\n",
    "from sklearn.preprocessing import RobustScaler, StandardScaler\n",
    "\n",
    "import sys"
   ]
  },
  {
   "cell_type": "code",
   "execution_count": 3,
   "metadata": {},
   "outputs": [],
   "source": [
    "LOCAL = True\n",
    "if LOCAL is True:\n",
    "    sys.path.append(\"/Users/sarahfong/tools/py_\")\n",
    "    DATA_PATH = \"/Users/sarahfong/Desktop/local_data/EMF/US\"\n",
    "import plot_params as pp\n",
    "import config_readwrite as crw\n"
   ]
  },
  {
   "cell_type": "code",
   "execution_count": 4,
   "metadata": {},
   "outputs": [],
   "source": [
    "# read\n",
    "config, cfn = crw.read(os.path.join(\n",
    "    os.path.dirname(os.getcwd()), \"config.ini\"))\n",
    "\n",
    "# path\n",
    "# DATA_PATH = config[\"local_path\"][\"data\"]\n",
    "\n",
    "# make dictionary of values to write to config\n",
    "config_dict = {\n",
    "    \"HEPG2\": os.path.join(DATA_PATH, \"full_hepg2_MPRA.csv\"),\n",
    "    \"HEPG2.clean\": os.path.join(DATA_PATH, \"full_hepg2_MPRA.clean.csv\"),\n",
    "    \"HEPG2.clean.transformed\": os.path.join(DATA_PATH, \"full_hepg2_MPRA.clean.transformed.csv\"),\n",
    "    \"HEPG2.clean.trans.scaled\": os.path.join(DATA_PATH, \"full_hepg2_MPRA.clean.transformed.standard.scaled.csv\"),\n",
    "    \"BJ\": os.path.join(DATA_PATH, \"full_bj_MPRA.csv\"),\n",
    "    \"BJ.clean\": os.path.join(DATA_PATH, \"full_bj_MPRA.clean.csv\"),\n",
    "    \"BJ.clean.transformed\": os.path.join(DATA_PATH, \"full_bj_MPRA.clean.transformed.csv\"),\n",
    "    \"BJ.clean.trans.scaled\": os.path.join(DATA_PATH, \"full_bj_MPRA.clean.transformed.standard.scaled.csv\"),\n",
    "    \"FASTA\": os.path.join(DATA_PATH, \"ultrasound_final_no_adapter.fasta\")\n",
    "}\n",
    "\n",
    "# make data section of config\n",
    "section = \"data\"\n",
    "crw.check(config, section)\n",
    "\n",
    "# add dictionary to config\n",
    "for key, value in config_dict.items():\n",
    "    config[section][key] = value\n",
    "\n",
    "# write to config\n",
    "crw.write(config, cfn)"
   ]
  },
  {
   "cell_type": "markdown",
   "metadata": {},
   "source": [
    "## sig different peaks"
   ]
  },
  {
   "cell_type": "code",
   "execution_count": 54,
   "metadata": {},
   "outputs": [
    {
     "data": {
      "text/html": [
       "<div>\n",
       "<style scoped>\n",
       "    .dataframe tbody tr th:only-of-type {\n",
       "        vertical-align: middle;\n",
       "    }\n",
       "\n",
       "    .dataframe tbody tr th {\n",
       "        vertical-align: top;\n",
       "    }\n",
       "\n",
       "    .dataframe thead th {\n",
       "        text-align: right;\n",
       "    }\n",
       "</style>\n",
       "<table border=\"1\" class=\"dataframe\">\n",
       "  <thead>\n",
       "    <tr style=\"text-align: right;\">\n",
       "      <th></th>\n",
       "      <th>name</th>\n",
       "      <th>pval</th>\n",
       "      <th>cl</th>\n",
       "    </tr>\n",
       "  </thead>\n",
       "  <tbody>\n",
       "    <tr>\n",
       "      <th>0</th>\n",
       "      <td>SYNTHETIC:_Added_GGGGCGGGG_CAGAGCTG_CTGATAAGGA...</td>\n",
       "      <td>0.000679</td>\n",
       "      <td>BJ</td>\n",
       "    </tr>\n",
       "    <tr>\n",
       "      <th>1</th>\n",
       "      <td>SYNTHETIC:_Added_TATACATA_GCCCGGGGG_TATACATA_A...</td>\n",
       "      <td>0.000095</td>\n",
       "      <td>BJ</td>\n",
       "    </tr>\n",
       "    <tr>\n",
       "      <th>2</th>\n",
       "      <td>SYNTHETIC:_The_motif_CAGAGCTG_was_added_in_Pos...</td>\n",
       "      <td>0.009865</td>\n",
       "      <td>BJ</td>\n",
       "    </tr>\n",
       "    <tr>\n",
       "      <th>3</th>\n",
       "      <td>SYNTHETIC:_The_motif_GAGATAAGGA_was_added_in_P...</td>\n",
       "      <td>0.000180</td>\n",
       "      <td>BJ</td>\n",
       "    </tr>\n",
       "    <tr>\n",
       "      <th>4</th>\n",
       "      <td>k562_atac_up_chr1:67191823-67192092</td>\n",
       "      <td>0.011772</td>\n",
       "      <td>BJ</td>\n",
       "    </tr>\n",
       "  </tbody>\n",
       "</table>\n",
       "</div>"
      ],
      "text/plain": [
       "                                                name      pval  cl\n",
       "0  SYNTHETIC:_Added_GGGGCGGGG_CAGAGCTG_CTGATAAGGA...  0.000679  BJ\n",
       "1  SYNTHETIC:_Added_TATACATA_GCCCGGGGG_TATACATA_A...  0.000095  BJ\n",
       "2  SYNTHETIC:_The_motif_CAGAGCTG_was_added_in_Pos...  0.009865  BJ\n",
       "3  SYNTHETIC:_The_motif_GAGATAAGGA_was_added_in_P...  0.000180  BJ\n",
       "4                k562_atac_up_chr1:67191823-67192092  0.011772  BJ"
      ]
     },
     "execution_count": 54,
     "metadata": {},
     "output_type": "execute_result"
    }
   ],
   "source": [
    "CLS = [\"BJ\", \"HEPG2\"]\n",
    "PEAKS = False\n",
    "sigs = {}\n",
    "for CL in CLS:\n",
    "    if PEAKS is True:\n",
    "\n",
    "        SIG_PEAK = os.path.join(\n",
    "        DATA_PATH, f\"{CL}.US_MPRA.sig_peak.act.tiles.standardscale.tsv\") #f\"{CL}.US_MPRA.sig_peak.dif.act.tiles.standardscale.tsv\"\n",
    "        df = pd.read_csv(SIG_PEAK, sep='\\t')\n",
    "    else:\n",
    "        SIG_TILES = config_dict[f'{CL}.clean.trans.scaled']\n",
    "        df = pd.read_csv(SIG_TILES, sep='\\t', usecols =[\"name\", \"pval\"])\n",
    "        df = df.loc[df[\"pval\"]<0.05]\n",
    "        \n",
    "    df[\"cl\"] = CL\n",
    "    sigs[CL] = df\n",
    "df = pd.concat(sigs.values())\n",
    "\n",
    "df.head()"
   ]
  },
  {
   "cell_type": "markdown",
   "metadata": {},
   "source": [
    "# sig different tiles"
   ]
  },
  {
   "cell_type": "code",
   "execution_count": 55,
   "metadata": {},
   "outputs": [
    {
     "data": {
      "text/html": [
       "<div>\n",
       "<style scoped>\n",
       "    .dataframe tbody tr th:only-of-type {\n",
       "        vertical-align: middle;\n",
       "    }\n",
       "\n",
       "    .dataframe tbody tr th {\n",
       "        vertical-align: top;\n",
       "    }\n",
       "\n",
       "    .dataframe thead th {\n",
       "        text-align: right;\n",
       "    }\n",
       "</style>\n",
       "<table border=\"1\" class=\"dataframe\">\n",
       "  <thead>\n",
       "    <tr style=\"text-align: right;\">\n",
       "      <th></th>\n",
       "      <th>name</th>\n",
       "    </tr>\n",
       "    <tr>\n",
       "      <th>cl</th>\n",
       "      <th></th>\n",
       "    </tr>\n",
       "  </thead>\n",
       "  <tbody>\n",
       "    <tr>\n",
       "      <th>BJ</th>\n",
       "      <td>2040</td>\n",
       "    </tr>\n",
       "    <tr>\n",
       "      <th>BJHEPG2</th>\n",
       "      <td>66</td>\n",
       "    </tr>\n",
       "    <tr>\n",
       "      <th>HEPG2</th>\n",
       "      <td>1821</td>\n",
       "    </tr>\n",
       "  </tbody>\n",
       "</table>\n",
       "</div>"
      ],
      "text/plain": [
       "         name\n",
       "cl           \n",
       "BJ       2040\n",
       "BJHEPG2    66\n",
       "HEPG2    1821"
      ]
     },
     "execution_count": 55,
     "metadata": {},
     "output_type": "execute_result"
    }
   ],
   "source": [
    "cdf = df.groupby(\"name\")[\"cl\"].sum().reset_index()\n",
    "\n",
    "cdf.groupby(\"cl\").count()"
   ]
  },
  {
   "cell_type": "code",
   "execution_count": 71,
   "metadata": {},
   "outputs": [
    {
     "data": {
      "image/png": "[encoded data removed]",
      "text/plain": [
       "<Figure size 288x288 with 1 Axes>"
      ]
     },
     "metadata": {},
     "output_type": "display_data"
    }
   ],
   "source": [
    "pp.fonts()\n",
    "fig, ax = plt.subplots(figsize=(4,4))\n",
    "cmap = [\"yellow\", \"purple\", \"blue\"]\n",
    "v = venn.venn2(subsets = (2040, 1821, 66 ), set_labels = ('BJ', 'HepG2'),\n",
    "           #cmap=cmap\n",
    "          )\n",
    "\n",
    "v.get_patch_by_id('100').set_color('yellow')\n",
    "v.get_patch_by_id('010').set_color('purple')\n",
    "#ax.set(title=\"significant LIPUS-response elements\")\n",
    "plt.savefig(os.path.join(DATA_PATH, \"venn.sig.tile.png\"))\n",
    "plt.show()"
   ]
  },
  {
   "cell_type": "code",
   "execution_count": 72,
   "metadata": {},
   "outputs": [
    {
     "data": {
      "text/plain": [
       "0.9686609686609686"
      ]
     },
     "execution_count": 72,
     "metadata": {},
     "output_type": "execute_result"
    }
   ],
   "source": [
    "2040/2106"
   ]
  },
  {
   "cell_type": "code",
   "execution_count": 57,
   "metadata": {},
   "outputs": [
    {
     "data": {
      "text/plain": [
       "'/Users/sarahfong/Desktop/local_data/EMF/US'"
      ]
     },
     "execution_count": 57,
     "metadata": {},
     "output_type": "execute_result"
    }
   ],
   "source": [
    "DATA_PATH"
   ]
  },
  {
   "cell_type": "code",
   "execution_count": null,
   "metadata": {},
   "outputs": [],
   "source": []
  }
 ],
 "metadata": {
  "kernelspec": {
   "display_name": "Python (base_venv)",
   "language": "python",
   "name": "base_venv"
  },
  "language_info": {
   "codemirror_mode": {
    "name": "ipython",
    "version": 3
   },
   "file_extension": ".py",
   "mimetype": "text/x-python",
   "name": "python",
   "nbconvert_exporter": "python",
   "pygments_lexer": "ipython3",
   "version": "3.6.10"
  },
  "toc": {
   "base_numbering": 1,
   "nav_menu": {},
   "number_sections": true,
   "sideBar": true,
   "skip_h1_title": false,
   "title_cell": "Table of Contents",
   "title_sidebar": "Contents",
   "toc_cell": false,
   "toc_position": {},
   "toc_section_display": true,
   "toc_window_display": false
  }
 },
 "nbformat": 4,
 "nbformat_minor": 2
}
