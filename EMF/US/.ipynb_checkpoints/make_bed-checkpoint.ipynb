{
 "cells": [
  {
   "cell_type": "code",
   "execution_count": 15,
   "id": "b0b84c81",
   "metadata": {},
   "outputs": [],
   "source": [
    "import os, sys\n",
    "#import config_readwrite as crw\n",
    "import pybedtools as pb\n",
    "import pandas as pd"
   ]
  },
  {
   "cell_type": "code",
   "execution_count": 2,
   "id": "c99ca6c8",
   "metadata": {},
   "outputs": [],
   "source": [
    "LOCAL = True\n",
    "if LOCAL is True:\n",
    "    sys.path.append(\"/Users/sarahfong/tools/py_\")\n",
    "    DATA_PATH = \"/Users/sarahfong/Desktop/local_data/EMF/US\"\n",
    "import config_readwrite as crw\n",
    "from plot_params import fonts"
   ]
  },
  {
   "cell_type": "code",
   "execution_count": 3,
   "id": "577f6bfc",
   "metadata": {},
   "outputs": [],
   "source": [
    "config, cfn = crw.read(os.path.join(os.path.dirname(os.getcwd()), \"config.ini\"))"
   ]
  },
  {
   "cell_type": "code",
   "execution_count": 172,
   "id": "510b5b91",
   "metadata": {},
   "outputs": [],
   "source": [
    "MPRA = config['data'][\"hepg2\"]\n",
    "BED = os.path.join(os.path.split(MPRA)[0],  \"full.bed\")\n",
    "TILES = os.path.join(os.path.split(MPRA)[0],  \"tiles.bed\")\n",
    "TILES_META = os.path.join(os.path.split(MPRA)[0],  \"tiles.meta.tsv\")\n",
    "TILES_X_BED = os.path.join(os.path.split(MPRA)[0],  \"tiles.x.full.bed\")\n",
    "TILES_X_BED_ANNOT = os.path.join(os.path.split(MPRA)[0],  \"tilenames.x.enh.id.tsv\")"
   ]
  },
  {
   "cell_type": "code",
   "execution_count": 5,
   "id": "5f856ee7",
   "metadata": {},
   "outputs": [],
   "source": [
    "config['data'][\"bed\"] = BED\n",
    "crw.write(config, cfn)    "
   ]
  },
  {
   "cell_type": "code",
   "execution_count": 55,
   "id": "d45622b4",
   "metadata": {},
   "outputs": [],
   "source": [
    "FA = os.path.join(DATA_PATH, \"ultrasound_final_no_adapter.fasta\")\n",
    "\n",
    "fa_data = {}\n",
    "with open(FA, \"r\") as reader:\n",
    "    for line in reader:\n",
    "        if \">\" and \"chr\" in line:\n",
    "            line = (line.strip(\"\\n\")).split(\">\")[1]\n",
    "            coor = \"chr\" + line.split(\"chr\")[1]\n",
    "            build = \"hg38\"\n",
    "            strand = None\n",
    "            datatype = None\n",
    "            celltype = None\n",
    "            direction = None\n",
    "            \n",
    "            # set build\n",
    "            if \"_hg19\" in coor:\n",
    "                build = \"hg19\"\n",
    "                coor = coor.strip(\"_hg19\")\n",
    "\n",
    "            # handle strands\n",
    "            if \":+\" in coor:\n",
    "                strand = \"+\"\n",
    "                coor = coor.strip(\":+\")\n",
    "            if ':-' in coor:\n",
    "                strand = \"-\"\n",
    "                coor = coor.strip(\":-\")\n",
    "                \n",
    "            dtypes = [\"Neg\", \"atac\", \"k27ac\", \"DEG\", \"Pos\", \"shuffle\"]\n",
    "            cls = [\"bj\", \"hepg2\", \"k562\", 'hob']\n",
    "            dirs = [\"up\", \"down\"]\n",
    "            \n",
    "            for d in dtypes: \n",
    "                if d in line:\n",
    "                    datatype = d\n",
    "            for cl in cls:\n",
    "                if cl in line:\n",
    "                    celltype=cl\n",
    "            for d_ in dirs:\n",
    "                if d_ in line:\n",
    "                    direction=d_\n",
    "                    \n",
    "            # get bed coordinates\n",
    "            chr_ = (coor.split(\":\")[0])\n",
    "            start = (coor.split(\":\")[1]).split(\"-\")[0]\n",
    "            end = (coor.split(\":\")[1]).split(\"-\")[1]\n",
    "            \n",
    "            # turn information into dataframe\n",
    "            a = pd.DataFrame([chr_, start, end, line, build, strand, datatype, celltype, direction])\n",
    "\n",
    "            # store information in dictionary\n",
    "            fa_data[line]=a.T"
   ]
  },
  {
   "cell_type": "code",
   "execution_count": 58,
   "id": "0e64237c",
   "metadata": {},
   "outputs": [],
   "source": [
    "tiles = pd.concat(fa_data.values())\n",
    "tiles.columns =[\"#chr\", \"start\", \"end\", \"name\", \"build\", \"strand\", \"assay\", \"cl_origin\", \"direction\"]\n",
    "\n",
    "tiles.head()"
   ]
  },
  {
   "cell_type": "code",
   "execution_count": 85,
   "id": "636be602",
   "metadata": {},
   "outputs": [],
   "source": [
    "# deal with problems in end\n",
    "problems = [\"Neg_vikram_50_ENSG00000122477_Reversed:_chr1:100643590-100643859_hg19\", \n",
    "           \"Neg_vikram_14_ENSG00000004846_chr7:20655142-20655411_hg19\"]\n",
    "tiles.loc[tiles.name==\"Neg_vikram_50_ENSG00000122477_Reversed:_chr1:100643590-100643859_hg19\", \"end\"] = \"100643859\"\n",
    "tiles.loc[tiles.name==\"Neg_vikram_14_ENSG00000004846_chr7:20655142-20655411_hg19\", \"end\"] = \"20655411\""
   ]
  },
  {
   "cell_type": "code",
   "execution_count": 111,
   "id": "313aae1f",
   "metadata": {},
   "outputs": [],
   "source": [
    "#tiles\n",
    "# write\n",
    "tiles[[\"#chr\", \"start\", \"end\", \"name\"]].to_csv(TILES, sep='\\t', index=False)"
   ]
  },
  {
   "cell_type": "markdown",
   "id": "fcbbe089",
   "metadata": {},
   "source": [
    "## tiles bedtool object"
   ]
  },
  {
   "cell_type": "code",
   "execution_count": 112,
   "id": "cf620a32",
   "metadata": {},
   "outputs": [
    {
     "data": {
      "text/plain": [
       "<BedTool(/var/folders/py/l9twpqw15t1gsthcfk_tk2c80000gn/T/pybedtools.034qdefd.tmp)>"
      ]
     },
     "execution_count": 112,
     "metadata": {},
     "output_type": "execute_result"
    }
   ],
   "source": [
    "t = pb.BedTool(TILES)\n",
    "t.sort()"
   ]
  },
  {
   "cell_type": "markdown",
   "id": "57446fd0",
   "metadata": {},
   "source": [
    "## merge tiles to make enhancer peaks"
   ]
  },
  {
   "cell_type": "code",
   "execution_count": 106,
   "id": "ec84e853",
   "metadata": {},
   "outputs": [],
   "source": [
    "merged = t.sort().merge(output=BED)\n",
    "\n",
    "len(merged)"
   ]
  },
  {
   "cell_type": "markdown",
   "id": "5190ac4d",
   "metadata": {},
   "source": [
    "## write tiles intersected w/peaks"
   ]
  },
  {
   "cell_type": "code",
   "execution_count": 123,
   "id": "e39834d5",
   "metadata": {},
   "outputs": [],
   "source": [
    "txr = t.intersect(merged, wa=True, wb=True, output=TILES_X_BED)"
   ]
  },
  {
   "cell_type": "code",
   "execution_count": 116,
   "id": "220752b3",
   "metadata": {},
   "outputs": [
    {
     "name": "stdout",
     "output_type": "stream",
     "text": [
      "chr3\t29837526\t29837795\tbj_k27ac_down_chr3:29837526-29837795\tchr3\t29837260\t29838061\n",
      "\n"
     ]
    }
   ],
   "source": [
    "for i in txr:\n",
    "    print(i)\n",
    "    break"
   ]
  },
  {
   "cell_type": "code",
   "execution_count": 162,
   "id": "378ff6ea",
   "metadata": {},
   "outputs": [
    {
     "data": {
      "text/html": [
       "<div>\n",
       "<style scoped>\n",
       "    .dataframe tbody tr th:only-of-type {\n",
       "        vertical-align: middle;\n",
       "    }\n",
       "\n",
       "    .dataframe tbody tr th {\n",
       "        vertical-align: top;\n",
       "    }\n",
       "\n",
       "    .dataframe thead th {\n",
       "        text-align: right;\n",
       "    }\n",
       "</style>\n",
       "<table border=\"1\" class=\"dataframe\">\n",
       "  <thead>\n",
       "    <tr style=\"text-align: right;\">\n",
       "      <th></th>\n",
       "      <th>#chr</th>\n",
       "      <th>start.tile</th>\n",
       "      <th>end.tile</th>\n",
       "      <th>name</th>\n",
       "      <th>#chr.enh</th>\n",
       "      <th>start.enh</th>\n",
       "      <th>end.enh</th>\n",
       "      <th>enh.id</th>\n",
       "    </tr>\n",
       "  </thead>\n",
       "  <tbody>\n",
       "    <tr>\n",
       "      <th>0</th>\n",
       "      <td>chr3</td>\n",
       "      <td>29837526</td>\n",
       "      <td>29837795</td>\n",
       "      <td>bj_k27ac_down_chr3:29837526-29837795</td>\n",
       "      <td>chr3</td>\n",
       "      <td>29837260</td>\n",
       "      <td>29838061</td>\n",
       "      <td>chr3:29837260-29838061</td>\n",
       "    </tr>\n",
       "    <tr>\n",
       "      <th>1</th>\n",
       "      <td>chr3</td>\n",
       "      <td>29837260</td>\n",
       "      <td>29837529</td>\n",
       "      <td>bj_k27ac_down_chr3:29837260-29837529</td>\n",
       "      <td>chr3</td>\n",
       "      <td>29837260</td>\n",
       "      <td>29838061</td>\n",
       "      <td>chr3:29837260-29838061</td>\n",
       "    </tr>\n",
       "    <tr>\n",
       "      <th>2</th>\n",
       "      <td>chr3</td>\n",
       "      <td>29837792</td>\n",
       "      <td>29838061</td>\n",
       "      <td>bj_k27ac_down_chr3:29837792-29838061</td>\n",
       "      <td>chr3</td>\n",
       "      <td>29837260</td>\n",
       "      <td>29838061</td>\n",
       "      <td>chr3:29837260-29838061</td>\n",
       "    </tr>\n",
       "    <tr>\n",
       "      <th>3</th>\n",
       "      <td>chr3</td>\n",
       "      <td>29837392</td>\n",
       "      <td>29837661</td>\n",
       "      <td>bj_k27ac_down_chr3:29837392-29837661</td>\n",
       "      <td>chr3</td>\n",
       "      <td>29837260</td>\n",
       "      <td>29838061</td>\n",
       "      <td>chr3:29837260-29838061</td>\n",
       "    </tr>\n",
       "    <tr>\n",
       "      <th>4</th>\n",
       "      <td>chr3</td>\n",
       "      <td>29837659</td>\n",
       "      <td>29837928</td>\n",
       "      <td>bj_k27ac_down_chr3:29837659-29837928</td>\n",
       "      <td>chr3</td>\n",
       "      <td>29837260</td>\n",
       "      <td>29838061</td>\n",
       "      <td>chr3:29837260-29838061</td>\n",
       "    </tr>\n",
       "  </tbody>\n",
       "</table>\n",
       "</div>"
      ],
      "text/plain": [
       "   #chr  start.tile  end.tile                                  name #chr.enh  \\\n",
       "0  chr3    29837526  29837795  bj_k27ac_down_chr3:29837526-29837795     chr3   \n",
       "1  chr3    29837260  29837529  bj_k27ac_down_chr3:29837260-29837529     chr3   \n",
       "2  chr3    29837792  29838061  bj_k27ac_down_chr3:29837792-29838061     chr3   \n",
       "3  chr3    29837392  29837661  bj_k27ac_down_chr3:29837392-29837661     chr3   \n",
       "4  chr3    29837659  29837928  bj_k27ac_down_chr3:29837659-29837928     chr3   \n",
       "\n",
       "   start.enh   end.enh                  enh.id  \n",
       "0   29837260  29838061  chr3:29837260-29838061  \n",
       "1   29837260  29838061  chr3:29837260-29838061  \n",
       "2   29837260  29838061  chr3:29837260-29838061  \n",
       "3   29837260  29838061  chr3:29837260-29838061  \n",
       "4   29837260  29838061  chr3:29837260-29838061  "
      ]
     },
     "execution_count": 162,
     "metadata": {},
     "output_type": "execute_result"
    }
   ],
   "source": [
    "txr = pd.read_csv(TILES_X_BED, sep='\\t', nrows=1)\n",
    "\n",
    "# check if column names\n",
    "if \"#chr\" not in list(txr):\n",
    "    \n",
    "    names = [\"#chr\", \"start.tile\", \"end.tile\", \"name\", \"#chr.enh\", \"start.enh\", \"end.enh\"]\n",
    "\n",
    "    # load, name columns\n",
    "    txr = pd.read_csv(TILES_X_BED, sep='\\t', header=None, names = names)\n",
    "\n",
    "    # add enh id\n",
    "    txr[\"enh.id\"] = txr[\"#chr.enh\"] + \":\" +  txr[\"start.enh\"].map(str) + \"-\"+txr[\"end.enh\"].map(str) \n",
    "    \n",
    "    # sort by coordinates\n",
    "    txr = txr.sort_values(by = [\"#chr\", \"start.tile\", \"end.tile\"])\n",
    "    \n",
    "    # assign unique enhancer name\n",
    "    enh = txr[[\"enh.id\"]].drop_duplicates().copy().reset_index()\n",
    "\n",
    "    enh = enh.sort_values(by=\"enh.id\")\n",
    "\n",
    "    # make enhancer name\n",
    "    enh[\"enh.name\"] = \"enh.\"+ enh.index.map(str)\n",
    "\n",
    "    # add name back to txr dataframe\n",
    "    txr = pd.merge(txr, enh[[\"enh.id\", \"enh.name\"]])\n",
    "    \n",
    "    # save headers\n",
    "    txr.to_csv(TILES_X_BED, sep='\\t', index=False)\n",
    "else:\n",
    "    txr = pd.read_csv(TILES_X_BED, sep='\\t')\n",
    "\n",
    "txr.head()"
   ]
  },
  {
   "cell_type": "code",
   "execution_count": 173,
   "id": "59d8fb2f",
   "metadata": {},
   "outputs": [],
   "source": [
    "if os.path.exists(TILES_X_BED_ANNOT) is False:\n",
    "    txr[[\"name\", \"enh.id\", \"enh.name\"]].to_csv(TILES_X_BED_ANNOT, sep='\\t', index=False)"
   ]
  },
  {
   "cell_type": "code",
   "execution_count": 174,
   "id": "1832507c",
   "metadata": {},
   "outputs": [
    {
     "data": {
      "text/plain": [
       "'/Users/sarahfong/Desktop/local_data/EMF/US/tilenames.x.enh.id.tsv'"
      ]
     },
     "execution_count": 174,
     "metadata": {},
     "output_type": "execute_result"
    }
   ],
   "source": [
    "TILES_X_BED_ANNOT"
   ]
  },
  {
   "cell_type": "code",
   "execution_count": null,
   "id": "f0e1ce58",
   "metadata": {},
   "outputs": [],
   "source": []
  }
 ],
 "metadata": {
  "kernelspec": {
   "display_name": "mambaenv",
   "language": "python",
   "name": "mambaenv"
  },
  "language_info": {
   "codemirror_mode": {
    "name": "ipython",
    "version": 3
   },
   "file_extension": ".py",
   "mimetype": "text/x-python",
   "name": "python",
   "nbconvert_exporter": "python",
   "pygments_lexer": "ipython3",
   "version": "3.11.6"
  }
 },
 "nbformat": 4,
 "nbformat_minor": 5
}
