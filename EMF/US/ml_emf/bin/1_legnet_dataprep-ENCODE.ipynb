{
 "cells": [
  {
   "cell_type": "code",
   "execution_count": 3,
   "id": "64de4626",
   "metadata": {
    "ExecuteTime": {
     "end_time": "2024-02-21T03:52:45.063784Z",
     "start_time": "2024-02-21T03:52:41.883966Z"
    }
   },
   "outputs": [],
   "source": [
    "from Bio.SeqIO.FastaIO import SimpleFastaParser\n",
    "import os, sys\n",
    "import pandas as pd\n",
    "import numpy as np"
   ]
  },
  {
   "cell_type": "code",
   "execution_count": 10,
   "id": "8d082cb9",
   "metadata": {
    "ExecuteTime": {
     "end_time": "2024-02-21T03:56:52.425189Z",
     "start_time": "2024-02-21T03:56:52.421834Z"
    }
   },
   "outputs": [],
   "source": [
    "PATH = \"/wynton/home/ahituv/fongsl/MPRA/agarwal_2023\"\n",
    "\n",
    "MPRA_ACTIVITY = os.path.join(PATH, \"all_cell_types_summary.csv\")  # sequence names + MPRA activity\n",
    "MPRA_LIB = os.path.join(PATH, \"joint_library.fa\")  # coordinates\n",
    "MPRA_BED = os.path.join(PATH, \"joint_library.bed\") # coordinates + names"
   ]
  },
  {
   "cell_type": "markdown",
   "id": "4c2ddbae",
   "metadata": {},
   "source": [
    "# fasta"
   ]
  },
  {
   "cell_type": "code",
   "execution_count": 4,
   "id": "b56ceee9",
   "metadata": {
    "ExecuteTime": {
     "end_time": "2024-02-21T03:53:56.843041Z",
     "start_time": "2024-02-21T03:53:56.447631Z"
    }
   },
   "outputs": [],
   "source": [
    "mpra_seq = {}\n",
    "\n",
    "with open(MPRA_LIB, \"r\") as reader:\n",
    "    for value in SimpleFastaParser(reader):\n",
    "        seq_id, seq = value\n",
    "        mpra_seq[seq_id] = seq"
   ]
  },
  {
   "cell_type": "code",
   "execution_count": 6,
   "id": "22830ac3",
   "metadata": {
    "ExecuteTime": {
     "end_time": "2024-02-21T03:55:06.443589Z",
     "start_time": "2024-02-21T03:55:06.411224Z"
    }
   },
   "outputs": [],
   "source": [
    "fa = pd.DataFrame(mpra_seq.items())\n",
    "fa.columns = [\"seq_id\", \"seq\"]"
   ]
  },
  {
   "cell_type": "markdown",
   "id": "fb3c3038",
   "metadata": {},
   "source": [
    "# MPRA activity"
   ]
  },
  {
   "cell_type": "code",
   "execution_count": 9,
   "id": "dc01b193",
   "metadata": {
    "ExecuteTime": {
     "end_time": "2024-02-21T03:55:38.621444Z",
     "start_time": "2024-02-21T03:55:38.603538Z"
    }
   },
   "outputs": [
    {
     "data": {
      "text/html": [
       "<div>\n",
       "<style scoped>\n",
       "    .dataframe tbody tr th:only-of-type {\n",
       "        vertical-align: middle;\n",
       "    }\n",
       "\n",
       "    .dataframe tbody tr th {\n",
       "        vertical-align: top;\n",
       "    }\n",
       "\n",
       "    .dataframe thead th {\n",
       "        text-align: right;\n",
       "    }\n",
       "</style>\n",
       "<table border=\"1\" class=\"dataframe\">\n",
       "  <thead>\n",
       "    <tr style=\"text-align: right;\">\n",
       "      <th></th>\n",
       "      <th>name</th>\n",
       "      <th>HepG2 [log2(rna/dna)]</th>\n",
       "      <th>K562 [log2(rna/dna)]</th>\n",
       "      <th>WTC11 [log2(rna/dna)]</th>\n",
       "    </tr>\n",
       "  </thead>\n",
       "  <tbody>\n",
       "    <tr>\n",
       "      <th>0</th>\n",
       "      <td>WTC11_seq9998_F</td>\n",
       "      <td>-1.018</td>\n",
       "      <td>-1.018</td>\n",
       "      <td>-1.254</td>\n",
       "    </tr>\n",
       "    <tr>\n",
       "      <th>1</th>\n",
       "      <td>WTC11_seq9987_F</td>\n",
       "      <td>0.320</td>\n",
       "      <td>-0.439</td>\n",
       "      <td>-1.505</td>\n",
       "    </tr>\n",
       "    <tr>\n",
       "      <th>2</th>\n",
       "      <td>WTC11_seq998_F</td>\n",
       "      <td>0.003</td>\n",
       "      <td>-0.217</td>\n",
       "      <td>-0.462</td>\n",
       "    </tr>\n",
       "    <tr>\n",
       "      <th>3</th>\n",
       "      <td>WTC11_seq9970_F</td>\n",
       "      <td>-0.794</td>\n",
       "      <td>-1.026</td>\n",
       "      <td>-1.414</td>\n",
       "    </tr>\n",
       "    <tr>\n",
       "      <th>4</th>\n",
       "      <td>WTC11_seq9967_F</td>\n",
       "      <td>-0.485</td>\n",
       "      <td>-0.592</td>\n",
       "      <td>-1.346</td>\n",
       "    </tr>\n",
       "  </tbody>\n",
       "</table>\n",
       "</div>"
      ],
      "text/plain": [
       "              name  HepG2 [log2(rna/dna)]  K562 [log2(rna/dna)]  \\\n",
       "0  WTC11_seq9998_F                 -1.018                -1.018   \n",
       "1  WTC11_seq9987_F                  0.320                -0.439   \n",
       "2   WTC11_seq998_F                  0.003                -0.217   \n",
       "3  WTC11_seq9970_F                 -0.794                -1.026   \n",
       "4  WTC11_seq9967_F                 -0.485                -0.592   \n",
       "\n",
       "   WTC11 [log2(rna/dna)]  \n",
       "0                 -1.254  \n",
       "1                 -1.505  \n",
       "2                 -0.462  \n",
       "3                 -1.414  \n",
       "4                 -1.346  "
      ]
     },
     "execution_count": 9,
     "metadata": {},
     "output_type": "execute_result"
    }
   ],
   "source": [
    "mpra_df = pd.read_csv(MPRA_ACTIVITY,  nrows=5)"
   ]
  },
  {
   "cell_type": "markdown",
   "id": "327e0739",
   "metadata": {},
   "source": [
    "# MPRA coordinate to name mapping"
   ]
  },
  {
   "cell_type": "code",
   "execution_count": 15,
   "id": "878923e1",
   "metadata": {
    "ExecuteTime": {
     "end_time": "2024-02-21T03:59:19.041033Z",
     "start_time": "2024-02-21T03:59:19.030207Z"
    }
   },
   "outputs": [],
   "source": [
    "bed = pd.read_csv(MPRA_BED, sep='\\t', nrows=5)\n",
    "\n",
    "\n",
    "bed[\"seq_id\"] = bed[\"#chr\"] + \":\" + bed[\"start.hg38\"].map(str) + \"-\" + bed[\"stop.hg38\"].map(str)"
   ]
  },
  {
   "cell_type": "code",
   "execution_count": null,
   "id": "1d74ebbb",
   "metadata": {},
   "outputs": [],
   "source": []
  }
 ],
 "metadata": {
  "kernelspec": {
   "display_name": "Python 3 (ipykernel)",
   "language": "python",
   "name": "python3"
  },
  "language_info": {
   "codemirror_mode": {
    "name": "ipython",
    "version": 3
   },
   "file_extension": ".py",
   "mimetype": "text/x-python",
   "name": "python",
   "nbconvert_exporter": "python",
   "pygments_lexer": "ipython3",
   "version": "3.9.16"
  },
  "toc": {
   "base_numbering": 1,
   "nav_menu": {},
   "number_sections": true,
   "sideBar": true,
   "skip_h1_title": false,
   "title_cell": "Table of Contents",
   "title_sidebar": "Contents",
   "toc_cell": false,
   "toc_position": {},
   "toc_section_display": true,
   "toc_window_display": false
  },
  "varInspector": {
   "cols": {
    "lenName": 16,
    "lenType": 16,
    "lenVar": 40
   },
   "kernels_config": {
    "python": {
     "delete_cmd_postfix": "",
     "delete_cmd_prefix": "del ",
     "library": "var_list.py",
     "varRefreshCmd": "print(var_dic_list())"
    },
    "r": {
     "delete_cmd_postfix": ") ",
     "delete_cmd_prefix": "rm(",
     "library": "var_list.r",
     "varRefreshCmd": "cat(var_dic_list()) "
    }
   },
   "types_to_exclude": [
    "module",
    "function",
    "builtin_function_or_method",
    "instance",
    "_Feature"
   ],
   "window_display": false
  }
 },
 "nbformat": 4,
 "nbformat_minor": 5
}
