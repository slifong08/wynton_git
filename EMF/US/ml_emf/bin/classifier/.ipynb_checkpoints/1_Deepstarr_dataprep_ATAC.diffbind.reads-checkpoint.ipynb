{
 "cells": [
  {
   "cell_type": "markdown",
   "id": "a38fcfaa-77c1-4bfb-abe0-05dbc4e4e87d",
   "metadata": {},
   "source": [
    "20240124\n",
    "\n",
    "SarahFong\n",
    "\n",
    "Take output from DiffBind summarized peak and count matrix and prepare data for \n",
    "1. Clean diffbind normalized count data (remove bad coordinates)\n",
    "2. Mean normalized read count: take mean of normalized count peaks, per condition\n",
    "3. Trim peaks: center 270 bp\n",
    "4. Format dataframe for LegNet, multitask\n",
    "5. Split into training and test set - randomly hold out 2 chromosomes. \n",
    "6. Add fold num to training set"
   ]
  },
  {
   "cell_type": "code",
   "execution_count": 1,
   "id": "24791ba6-ba9e-47c8-99ff-824a21c53b9b",
   "metadata": {
    "ExecuteTime": {
     "end_time": "2024-02-22T23:20:03.904147Z",
     "start_time": "2024-02-22T23:19:25.388742Z"
    }
   },
   "outputs": [
    {
     "data": {
      "text/plain": [
       "('sans-serif', 'Arial', 18)"
      ]
     },
     "execution_count": 1,
     "metadata": {},
     "output_type": "execute_result"
    }
   ],
   "source": [
    "from Bio.SeqIO.FastaIO import SimpleFastaParser\n",
    "import config_readwrite as crw\n",
    "import matplotlib.pyplot as plt\n",
    "import numpy as np\n",
    "import os, sys\n",
    "import pandas as pd\n",
    "\n",
    "from scipy import stats\n",
    "\n",
    "import seaborn as sns\n",
    "\n",
    "import warnings\n",
    "warnings.filterwarnings('ignore')\n",
    "\n",
    "import plot_params as pp\n",
    "pp.fonts()"
   ]
  },
  {
   "cell_type": "code",
   "execution_count": 2,
   "id": "4b15ddcf",
   "metadata": {
    "ExecuteTime": {
     "end_time": "2024-02-22T23:20:03.910633Z",
     "start_time": "2024-02-22T23:20:03.906420Z"
    }
   },
   "outputs": [],
   "source": [
    "config_name =os.path.join(os.getcwd(), \"config.multi.ini\")\n",
    "config, cfn = crw.read(config_name)"
   ]
  },
  {
   "cell_type": "markdown",
   "id": "de4c9f36-8609-4502-8a4c-3279a57f5c77",
   "metadata": {},
   "source": [
    "# load data"
   ]
  },
  {
   "cell_type": "markdown",
   "id": "3a8cce8b",
   "metadata": {},
   "source": [
    "## params"
   ]
  },
  {
   "cell_type": "code",
   "execution_count": 3,
   "id": "2ad78f44",
   "metadata": {
    "ExecuteTime": {
     "end_time": "2024-02-22T23:20:04.081158Z",
     "start_time": "2024-02-22T23:20:03.913174Z"
    }
   },
   "outputs": [],
   "source": [
    "CL = 'hepg2'\n",
    "\n",
    "PATH = \"/wynton/group/ahituv/data/US-MPRA/ATAC-seq\"\n",
    "DATA_PATH = \"/wynton/home/ahituv/fongsl/EMF/US/ml_emf/data/deepstarr\"\n",
    "\n",
    "TEST_CHR = [\"chr8\", \"chr17\"]\n",
    "VAL_CHR = \"chr12\"\n",
    "\n",
    "\n",
    "# peak information\n",
    "PEAK_SIZE = 270\n",
    "MIN_READ_DEPTH = 4\n",
    "\n",
    "# genome information\n",
    "HG38= \"/wynton/group/ahituv/data/dna/hg38/hg38.chrom.sizes\"\n",
    "FA_HG38=\"/wynton/group/ahituv/data/dna/hg38/hg38.fa\"\n",
    "\n",
    "\n",
    "cols = ['coor.type', \"seq\", \"ctrl\", \"US\", \"fold_num\"]\n",
    "fa_cols = ['coor.type', \"seq\"]\n",
    "\n",
    "\n",
    "os.chdir(PATH)"
   ]
  },
  {
   "cell_type": "markdown",
   "id": "66204a19",
   "metadata": {},
   "source": [
    "### set prefix"
   ]
  },
  {
   "cell_type": "code",
   "execution_count": 4,
   "id": "9f046089",
   "metadata": {
    "ExecuteTime": {
     "end_time": "2024-02-22T23:20:04.259719Z",
     "start_time": "2024-02-22T23:20:04.082915Z"
    }
   },
   "outputs": [],
   "source": [
    "PREFIX = \"class.all\"\n",
    "\n",
    "if PREFIX ==\"class.all\":\n",
    "    QUANTILE_FILTER=False\n",
    "    MIN_READ_DEPTH_FILTER=False\n",
    "    JOINT_ACCESSIBLE=True\n",
    "    CLASS_LABEL = True\n",
    "    \n",
    "if PREFIX ==\"class.nojoint\":\n",
    "    QUANTILE_FILTER=False\n",
    "    MIN_READ_DEPTH_FILTER=True\n",
    "    JOINT_ACCESSIBLE=False\n",
    "    CLASS_LABEL = True\n",
    "    "
   ]
  },
  {
   "cell_type": "markdown",
   "id": "790211dc",
   "metadata": {},
   "source": [
    "## base files"
   ]
  },
  {
   "cell_type": "code",
   "execution_count": 5,
   "id": "15b0b616-7254-4b4e-be68-8d745f4a629f",
   "metadata": {
    "ExecuteTime": {
     "end_time": "2024-02-22T23:20:04.433656Z",
     "start_time": "2024-02-22T23:20:04.261178Z"
    }
   },
   "outputs": [],
   "source": [
    "# files\n",
    "ALL = f\"{CL}_counts.txt\"\n",
    "CONTROL = f\"{CL}c_counts.txt\"\n",
    "TREATED = f\"{CL}t_counts.txt\"\n",
    "\n",
    "# DESEQ2 information\n",
    "DIFF = './diffbind_results/hepg2_deseq2.csv'\n",
    "DIFF_BED = \"./\" + DIFF.strip(\".csv\") + \".bed\"\n",
    "\n",
    "# write training, test files\n",
    "FULL = f\"{CL}.centered.coor.mean.reads.full.tsv\"\n",
    "HELD_OUT = f\"{CL}.heldoutchromosomes.tsv\"\n",
    "HELD_OUT_FA = f\"{CL}.heldoutchromosomes.fa\"\n",
    "TRAINING = f\"{CL}.training.tsv\""
   ]
  },
  {
   "cell_type": "markdown",
   "id": "2a594843",
   "metadata": {},
   "source": [
    "## base config"
   ]
  },
  {
   "cell_type": "code",
   "execution_count": 6,
   "id": "69437363",
   "metadata": {
    "ExecuteTime": {
     "end_time": "2024-02-22T23:20:04.600749Z",
     "start_time": "2024-02-22T23:20:04.435184Z"
    }
   },
   "outputs": [],
   "source": [
    "section = f\"{CL}-ATAC\"\n",
    "crw.check(config, section)\n",
    "\n",
    "config[section]\n",
    "config[section][\"path\"]= PATH\n",
    "\n",
    "config[section][\"all_norm_read_counts\"] = \"%(path)s/\" + ALL\n",
    "config[section][\"ctrl_norm_read_counts\"] = \"%(path)s/\" +CONTROL\n",
    "config[section][\"trmt_norm_read_counts\"] = \"%(path)s/\" +TREATED\n",
    "\n",
    "config[section][\"diff_bind_results\"] = \"%(path)s/\" +DIFF\n",
    "config[section][\"diff_bind_results_bed\"] = \"%(path)s/\" +DIFF_BED\n",
    "\n",
    "# full genomic dataset filtered by mind read depth\n",
    "config[section][\"HELD_OUT\"] = \"%(path)s/\" +HELD_OUT\n",
    "config[section][\"HELD_OUT_FA\"] = \"%(path)s/\" +HELD_OUT_FA\n",
    "config[section][\"TRAINING\"] = \"%(path)s/\" +TRAINING\n"
   ]
  },
  {
   "cell_type": "markdown",
   "id": "1e17b5f6",
   "metadata": {},
   "source": [
    "## deepstarr files"
   ]
  },
  {
   "cell_type": "code",
   "execution_count": 7,
   "id": "11f80268",
   "metadata": {
    "ExecuteTime": {
     "end_time": "2024-02-22T23:20:04.761630Z",
     "start_time": "2024-02-22T23:20:04.602265Z"
    }
   },
   "outputs": [],
   "source": [
    "# file inputs for training, testing\n",
    "## x\n",
    "TRAIN_FA = f\"{PREFIX}.Sequences_Train.fa\"\n",
    "VAL_FA = f\"{PREFIX}.Sequences_Val.fa\"\n",
    "TEST_FA = f\"{PREFIX}.Sequences_Test.fa\"\n",
    "\n",
    "## y\n",
    "TRAIN_TARGET = f\"{PREFIX}.Sequences_activity_Train.txt\"\n",
    "VAL_TARGET = f\"{PREFIX}.Sequences_activity_Val.txt\"\n",
    "TEST_TARGET = f\"{PREFIX}.Sequences_activity_Test.txt\""
   ]
  },
  {
   "cell_type": "markdown",
   "id": "dab495f0",
   "metadata": {},
   "source": [
    "## deepstarr config "
   ]
  },
  {
   "cell_type": "code",
   "execution_count": 8,
   "id": "c97596de",
   "metadata": {
    "ExecuteTime": {
     "end_time": "2024-02-22T23:20:04.970006Z",
     "start_time": "2024-02-22T23:20:04.763151Z"
    }
   },
   "outputs": [],
   "source": [
    "section = f\"Hepg2.atac.deepstarr\"\n",
    "crw.check(config, section)\n",
    "\n",
    "# deepstar config\n",
    "config[section][\"data_path\"] = DATA_PATH\n",
    "config[section][\"held_out_chr\"] = \",\".join(TEST_CHR)\n",
    "config[section][\"val_chr\"] = VAL_CHR\n",
    "\n",
    "\n",
    "# deepstarr prefix config\n",
    "section = f\"Hepg2.atac.deepstarr.{PREFIX}\"\n",
    "crw.check(config, section)\n",
    "\n",
    "config[section][\"train_fa\"] = TRAIN_FA\n",
    "config[section][\"val_fa\"] = VAL_FA\n",
    "config[section][\"test_fa\"] = TEST_FA\n",
    "\n",
    "config[section][\"train_target\"] = TRAIN_TARGET\n",
    "config[section][\"tval_target\"] = VAL_TARGET\n",
    "config[section][\"test_target\"] = TEST_TARGET\n",
    "\n",
    "\n",
    "config[section][\"filter_min_read_depth\"] = str(MIN_READ_DEPTH_FILTER)\n",
    "if MIN_READ_DEPTH_FILTER is True:\n",
    "    config[section][\"min_read_depth\"] = str(MIN_READ_DEPTH)\n",
    "    \n",
    "config[section][\"filter_quantile\"] = str(QUANTILE_FILTER)\n",
    "config[section][\"filter_jointaccessible\"] = str(JOINT_ACCESSIBLE)\n",
    "config[section][\"classlabel\"] = str(CLASS_LABEL)"
   ]
  },
  {
   "cell_type": "code",
   "execution_count": 9,
   "id": "3ae59352",
   "metadata": {
    "ExecuteTime": {
     "end_time": "2024-02-22T23:20:05.401104Z",
     "start_time": "2024-02-22T23:20:04.973342Z"
    }
   },
   "outputs": [],
   "source": [
    "crw.write(config, cfn)"
   ]
  },
  {
   "cell_type": "markdown",
   "id": "1c13717b-4462-468b-aded-c85fa8632585",
   "metadata": {},
   "source": [
    "# functions"
   ]
  },
  {
   "cell_type": "markdown",
   "id": "0ba6c7d3-4107-4315-8748-e13b1108310b",
   "metadata": {},
   "source": [
    "## make chromosome list"
   ]
  },
  {
   "cell_type": "code",
   "execution_count": 10,
   "id": "947fbb71-5880-4453-8414-51db88678771",
   "metadata": {
    "ExecuteTime": {
     "end_time": "2024-02-22T23:20:05.604793Z",
     "start_time": "2024-02-22T23:20:05.402632Z"
    }
   },
   "outputs": [],
   "source": [
    "def chrList():\n",
    "    \"\"\"return  list of chromosomes\"\"\"\n",
    "    \n",
    "    chrs = []\n",
    "    \n",
    "    for n in np.arange(1,23):\n",
    "        chrs.append(f\"chr{n}\")\n",
    "    \n",
    "    # add sex chromosomes\n",
    "    chrs.append(\"chrX\")\n",
    "    chrs.append(\"chrY\")\n",
    "    \n",
    "    return chrs"
   ]
  },
  {
   "cell_type": "markdown",
   "id": "91c587c3",
   "metadata": {},
   "source": [
    "## write fa"
   ]
  },
  {
   "cell_type": "code",
   "execution_count": 11,
   "id": "84051dad",
   "metadata": {
    "ExecuteTime": {
     "end_time": "2024-02-22T23:20:05.833037Z",
     "start_time": "2024-02-22T23:20:05.606353Z"
    }
   },
   "outputs": [],
   "source": [
    "def writeFa(heldout_df, heldout_fa):\n",
    "    with open(heldout_fa, \"w\") as writer:\n",
    "        for row in heldout_df.iterrows():\n",
    "            seqid, seq=row[1][:2]\n",
    "            writer.write(f\">{seqid}\\n{seq}\\n\")"
   ]
  },
  {
   "cell_type": "markdown",
   "id": "1e894b82",
   "metadata": {},
   "source": [
    "## train test split on chromosome"
   ]
  },
  {
   "cell_type": "code",
   "execution_count": 12,
   "id": "01b01445",
   "metadata": {
    "ExecuteTime": {
     "end_time": "2024-02-22T23:20:05.983570Z",
     "start_time": "2024-02-22T23:20:05.834582Z"
    }
   },
   "outputs": [],
   "source": [
    "def splitTrainTestVal(df, val_chr_list=None, test_chr_list=None):\n",
    "    \"\"\"randomly sample and hold out 2 chromosomes for testing, validation\"\"\"\n",
    "    \n",
    "    cols =['coor.type',\"seq\"]\n",
    "    \n",
    "    # randomly sample test chromosomes (n=2)\n",
    "    if test_chr_list is None:\n",
    "        print('randomly sampling chromosomes for test')\n",
    "\n",
    "\n",
    "        # randomly sample\n",
    "        test_chr_list = list(np.random.choice(chrs, 2))\n",
    "   \n",
    "    # randomly sample validation chromosome (n=1)\n",
    "    if val_chr_list is None:\n",
    "        print('randomly sampling chromosomes for val')\n",
    "\n",
    "        # remove test chromosomes\n",
    "        for chr_ in test_chr_list:\n",
    "            chrs.remove(chr_)\n",
    "\n",
    "        # randomly sample\n",
    "        val_chr_list = list(np.random.choice(chrs, 1))\n",
    "\n",
    "    # separate held out chromosomes from  training chromosomes\n",
    "    test = df.loc[df[\"#chr\"].isin(test_chr_list)].copy()\n",
    "    val = df.loc[df[\"#chr\"].isin(val_chr_list)].copy()\n",
    "    train = df.loc[(~df[\"#chr\"].isin(test_chr_list))&\n",
    "                  (~df[\"#chr\"].isin(val_chr_list))].copy()\n",
    "\n",
    "    return train, val, test\n"
   ]
  },
  {
   "cell_type": "markdown",
   "id": "5f4dc9fb",
   "metadata": {},
   "source": [
    "## filters"
   ]
  },
  {
   "cell_type": "code",
   "execution_count": 13,
   "id": "f8f99643",
   "metadata": {
    "ExecuteTime": {
     "end_time": "2024-02-22T23:20:06.210331Z",
     "start_time": "2024-02-22T23:20:05.985223Z"
    }
   },
   "outputs": [],
   "source": [
    "def minReadDepthFilter(table, min_read_depth):\n",
    "    print(\"before read depth filter:\", table.shape)\n",
    "    table = table.loc[(table[\"ctrl\"]>min_read_depth )| (table[\"US\"]>min_read_depth)].copy()\n",
    "    print(\"after:\", table.shape)\n",
    "    \n",
    "    return table\n",
    "\n",
    "def quantileFilter(table, quantile=0.99):\n",
    "    \"\"\"upper quantile filter for read count values\"\"\"\n",
    "    \n",
    "    print(\"before quantile filter:\", table.shape)\n",
    "    \n",
    "    # quantiles\n",
    "    ctrl_thresh, us_thresh = table[[\"ctrl\", \"US\"]].quantile(quantile)\n",
    "\n",
    "    # filter table\n",
    "    table = table.loc[(table[\"ctrl\"]<ctrl_thresh)&\n",
    "                (table[\"US\"]<us_thresh)]\n",
    "\n",
    "    print(\"after:\", table.shape)\n",
    "    \n",
    "    return table\n",
    "\n",
    "def jointAccessibleFilter(table):\n",
    "    \n",
    "    \"\"\"remove joint accessible regions, scramble new dataframe\"\"\"\n",
    "    \n",
    "    print(\"before joint_accessible filter:\", table.shape)\n",
    "    \n",
    "    # filter table\n",
    "    ctrl_only = table.loc[(table[\"ctrl\"]>0)&\n",
    "                (table[\"US\"]==0)].copy()\n",
    "    \n",
    "    US_only = table.loc[(table[\"ctrl\"]==0)&\n",
    "                (table[\"US\"]>0)].copy()\n",
    "    \n",
    "    # combine us and ctrl\n",
    "    # shuffle dataframe\n",
    "    table = pd.concat([ctrl_only, US_only]).sample(frac=1).reset_index(drop=True)\n",
    "    \n",
    "    print(\"after:\", table.shape)\n",
    "    \n",
    "    return table\n",
    "\n",
    "## binarize\n",
    "\n",
    "def classLabel(table):\n",
    "    \n",
    "    \"\"\"binarize read count column\"\"\"\n",
    "    cols_to_label =['ctrl', 'US']\n",
    "    for col in cols_to_label:\n",
    "        table[col] = table[col].apply(lambda x: 0 if x==0 else 1)\n",
    "        \n",
    "    return table\n",
    "\n",
    "# scramble df\n",
    "\n",
    "def dfShuffle(df):\n",
    "    \"\"\"scramble dataframe\"\"\"\n",
    "    return df.sample(frac=1).reset_index(drop=True)"
   ]
  },
  {
   "cell_type": "markdown",
   "id": "b6144f3a-643a-42f5-bacc-40d77de7f899",
   "metadata": {},
   "source": [
    "# Main"
   ]
  },
  {
   "cell_type": "code",
   "execution_count": 14,
   "id": "e040f54f",
   "metadata": {
    "ExecuteTime": {
     "end_time": "2024-02-22T23:20:06.373323Z",
     "start_time": "2024-02-22T23:20:06.211941Z"
    }
   },
   "outputs": [
    {
     "data": {
      "text/plain": [
       "'hepg2.centered.coor.mean.reads.full.tsv'"
      ]
     },
     "execution_count": 14,
     "metadata": {},
     "output_type": "execute_result"
    }
   ],
   "source": [
    "FULL"
   ]
  },
  {
   "cell_type": "code",
   "execution_count": 15,
   "id": "8c1cc374-7db3-4295-b9f4-9d564c7149d5",
   "metadata": {
    "ExecuteTime": {
     "end_time": "2024-02-22T23:20:07.122706Z",
     "start_time": "2024-02-22T23:20:06.374779Z"
    }
   },
   "outputs": [],
   "source": [
    "table = pd.read_csv(FULL, sep='\\t')\n",
    "table[\"coor.type\"] = table[\"type\"] + \"|\" + table[\"seq.id\"]"
   ]
  },
  {
   "cell_type": "markdown",
   "id": "3ad03ee2",
   "metadata": {},
   "source": [
    "##  min read depth filter"
   ]
  },
  {
   "cell_type": "code",
   "execution_count": 16,
   "id": "b4542bb3",
   "metadata": {
    "ExecuteTime": {
     "end_time": "2024-02-22T23:20:07.175594Z",
     "start_time": "2024-02-22T23:20:07.124600Z"
    }
   },
   "outputs": [],
   "source": [
    "## mean read depth filter\n",
    "if MIN_READ_DEPTH_FILTER is True:\n",
    "    table = minReadDepthFilter(table, MIN_READ_DEPTH) \n",
    "\n",
    "## quantile filter\n",
    "if QUANTILE_FILTER is True:\n",
    "\n",
    "    table = quantileFilter(table, quantile=0.99)\n",
    "\n",
    "## joint accessible filter\n",
    "if JOINT_ACCESSIBLE is False:\n",
    "    table = jointAccessibleFilter(table)\n",
    "\n",
    "## apply class label\n",
    "if CLASS_LABEL is True:\n",
    "    table = classLabel(table)"
   ]
  },
  {
   "cell_type": "markdown",
   "id": "13a17409-e10e-487f-b353-873e94160c14",
   "metadata": {},
   "source": [
    "## train on all atac peaks"
   ]
  },
  {
   "cell_type": "code",
   "execution_count": 17,
   "id": "ea3c0458",
   "metadata": {
    "ExecuteTime": {
     "end_time": "2024-02-22T23:20:07.351519Z",
     "start_time": "2024-02-22T23:20:07.177211Z"
    }
   },
   "outputs": [
    {
     "data": {
      "text/plain": [
       "ctrl  US\n",
       "0     1     16560\n",
       "1     0     26540\n",
       "      1     39415\n",
       "Name: #chr, dtype: int64"
      ]
     },
     "execution_count": 17,
     "metadata": {},
     "output_type": "execute_result"
    }
   ],
   "source": [
    "table.groupby(['ctrl', \"US\"])['#chr'].count()"
   ]
  },
  {
   "cell_type": "code",
   "execution_count": 18,
   "id": "0a74d00b-8db6-42ed-acf5-87354608e58d",
   "metadata": {
    "ExecuteTime": {
     "end_time": "2024-02-22T23:20:15.195284Z",
     "start_time": "2024-02-22T23:20:07.353303Z"
    }
   },
   "outputs": [],
   "source": [
    "os.chdir(DATA_PATH)\n",
    "\n",
    "table = dfShuffle(table)  # shuffle the table before splitting\n",
    "train, val, test = splitTrainTestVal(table, val_chr_list=[VAL_CHR], test_chr_list=TEST_CHR)\n",
    "\n",
    "writeFa(test[fa_cols], TEST_FA)\n",
    "writeFa(train[fa_cols], TRAIN_FA)\n",
    "writeFa(val[fa_cols], VAL_FA)\n",
    "\n",
    "cols = [\"US\", \"ctrl\"]\n",
    "test[cols].to_csv(TEST_TARGET, sep='\\t', index=False)\n",
    "train[cols].to_csv(TRAIN_TARGET, sep='\\t', index=False)\n",
    "val[cols].to_csv(VAL_TARGET, sep='\\t', index=False)"
   ]
  },
  {
   "cell_type": "code",
   "execution_count": null,
   "id": "b8e52064",
   "metadata": {},
   "outputs": [],
   "source": []
  }
 ],
 "metadata": {
  "kernelspec": {
   "display_name": "Python (mamba)",
   "language": "python",
   "name": "mamba"
  },
  "language_info": {
   "codemirror_mode": {
    "name": "ipython",
    "version": 3
   },
   "file_extension": ".py",
   "mimetype": "text/x-python",
   "name": "python",
   "nbconvert_exporter": "python",
   "pygments_lexer": "ipython3",
   "version": "3.9.16"
  },
  "toc": {
   "base_numbering": 1,
   "nav_menu": {},
   "number_sections": true,
   "sideBar": true,
   "skip_h1_title": false,
   "title_cell": "Table of Contents",
   "title_sidebar": "Contents",
   "toc_cell": false,
   "toc_position": {},
   "toc_section_display": true,
   "toc_window_display": true
  },
  "varInspector": {
   "cols": {
    "lenName": 16,
    "lenType": 16,
    "lenVar": 40
   },
   "kernels_config": {
    "python": {
     "delete_cmd_postfix": "",
     "delete_cmd_prefix": "del ",
     "library": "var_list.py",
     "varRefreshCmd": "print(var_dic_list())"
    },
    "r": {
     "delete_cmd_postfix": ") ",
     "delete_cmd_prefix": "rm(",
     "library": "var_list.r",
     "varRefreshCmd": "cat(var_dic_list()) "
    }
   },
   "types_to_exclude": [
    "module",
    "function",
    "builtin_function_or_method",
    "instance",
    "_Feature"
   ],
   "window_display": false
  }
 },
 "nbformat": 4,
 "nbformat_minor": 5
}
