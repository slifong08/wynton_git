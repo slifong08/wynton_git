{
 "cells": [
  {
   "cell_type": "markdown",
   "id": "a38fcfaa-77c1-4bfb-abe0-05dbc4e4e87d",
   "metadata": {},
   "source": [
    "20240306\n",
    "\n",
    "SarahFong\n",
    "\n",
    "Take output from DiffBind deseq2 formatting\n",
    "\n",
    "          $HOME/EMF/US/bin/ATAC/1_prep_deseq2_ATAC.ipynb \n",
    "          \n",
    "Prepare data: \n",
    "1. Clean diffbind deseq2 conc data (remove bad coordinates)\n",
    "4. Format dataframe for LegNet, multitask, deepstarr multitask\n",
    "5. Split into training and test set - randomly hold out 2 chromosomes. \n",
    "6. Add fold num to training set"
   ]
  },
  {
   "cell_type": "code",
   "execution_count": 1,
   "id": "24791ba6-ba9e-47c8-99ff-824a21c53b9b",
   "metadata": {
    "ExecuteTime": {
     "end_time": "2024-03-13T05:46:18.087964Z",
     "start_time": "2024-03-13T05:46:13.452671Z"
    }
   },
   "outputs": [
    {
     "data": {
      "text/plain": [
       "('sans-serif', 'Arial', 18)"
      ]
     },
     "execution_count": 1,
     "metadata": {},
     "output_type": "execute_result"
    }
   ],
   "source": [
    "from Bio.SeqIO.FastaIO import SimpleFastaParser\n",
    "import config_readwrite as crw\n",
    "import matplotlib.pyplot as plt\n",
    "import numpy as np\n",
    "import os, sys\n",
    "import pandas as pd\n",
    "\n",
    "from scipy import stats\n",
    "\n",
    "import seaborn as sns\n",
    "\n",
    "import warnings\n",
    "warnings.filterwarnings('ignore')\n",
    "\n",
    "import plot_params as pp\n",
    "pp.fonts()"
   ]
  },
  {
   "cell_type": "code",
   "execution_count": 2,
   "id": "4b15ddcf",
   "metadata": {
    "ExecuteTime": {
     "end_time": "2024-03-13T05:46:22.787915Z",
     "start_time": "2024-03-13T05:46:22.763939Z"
    }
   },
   "outputs": [],
   "source": [
    "config_name =os.path.join(os.getcwd(), \"config.multi.ini\")\n",
    "config, cfn = crw.read(config_name)"
   ]
  },
  {
   "cell_type": "markdown",
   "id": "1c13717b-4462-468b-aded-c85fa8632585",
   "metadata": {},
   "source": [
    "# functions"
   ]
  },
  {
   "cell_type": "code",
   "execution_count": 12,
   "id": "1c6894bc",
   "metadata": {
    "ExecuteTime": {
     "end_time": "2024-03-13T05:46:41.866830Z",
     "start_time": "2024-03-13T05:46:41.862526Z"
    }
   },
   "outputs": [],
   "source": [
    "def setPrefixRules(prefix):\n",
    "    \"\"\" rules for processing datasets\"\"\"\n",
    "    if \"class.all\" in prefix:\n",
    "        QUANTILE_FILTER=False\n",
    "        MIN_CONC_FILTER=False\n",
    "        JOINT_ACCESSIBLE=True\n",
    "        CLASS_LABEL = True\n",
    "\n",
    "    elif \"class.nojoint\" in prefix:\n",
    "        QUANTILE_FILTER=False\n",
    "        MIN_CONC_FILTER=True\n",
    "        JOINT_ACCESSIBLE=False\n",
    "        CLASS_LABEL = True\n",
    "\n",
    "    elif \"reg.all\" in PREFIX:\n",
    "        QUANTILE_FILTER=False\n",
    "        MIN_CONC_FILTER=True\n",
    "        JOINT_ACCESSIBLE=True\n",
    "        CLASS_LABEL = False\n",
    "\n",
    "    elif \"reg.nojoint\" in prefix:\n",
    "        QUANTILE_FILTER=False\n",
    "        MIN_CONC_FILTER=True\n",
    "        JOINT_ACCESSIBLE=False\n",
    "        CLASS_LABEL = False\n",
    "    else:\n",
    "        print('need to add rules for', prefix)\n",
    "        \n",
    "    return QUANTILE_FILTER, MIN_CONC_FILTER, JOINT_ACCESSIBLE, CLASS_LABEL\n"
   ]
  },
  {
   "cell_type": "markdown",
   "id": "0ba6c7d3-4107-4315-8748-e13b1108310b",
   "metadata": {},
   "source": [
    "## make chromosome list"
   ]
  },
  {
   "cell_type": "code",
   "execution_count": 3,
   "id": "947fbb71-5880-4453-8414-51db88678771",
   "metadata": {
    "ExecuteTime": {
     "end_time": "2024-03-13T05:46:25.029675Z",
     "start_time": "2024-03-13T05:46:25.025167Z"
    }
   },
   "outputs": [],
   "source": [
    "def chrList():\n",
    "    \"\"\"return  list of chromosomes\"\"\"\n",
    "    \n",
    "    chrs = []\n",
    "    \n",
    "    for n in np.arange(1,23):\n",
    "        chrs.append(f\"chr{n}\")\n",
    "    \n",
    "    # add sex chromosomes\n",
    "    chrs.append(\"chrX\")\n",
    "    chrs.append(\"chrY\")\n",
    "    \n",
    "    return chrs"
   ]
  },
  {
   "cell_type": "markdown",
   "id": "91c587c3",
   "metadata": {},
   "source": [
    "## write fa"
   ]
  },
  {
   "cell_type": "code",
   "execution_count": 4,
   "id": "84051dad",
   "metadata": {
    "ExecuteTime": {
     "end_time": "2024-03-13T05:46:25.728285Z",
     "start_time": "2024-03-13T05:46:25.724174Z"
    }
   },
   "outputs": [],
   "source": [
    "def writeFa(heldout_df, heldout_fa):\n",
    "    with open(heldout_fa, \"w\") as writer:\n",
    "        for row in heldout_df.iterrows():\n",
    "            seqid, seq=row[1][:2]\n",
    "            writer.write(f\">{seqid}\\n{seq}\\n\")"
   ]
  },
  {
   "cell_type": "markdown",
   "id": "1e894b82",
   "metadata": {},
   "source": [
    "## train test split on chromosome"
   ]
  },
  {
   "cell_type": "code",
   "execution_count": 11,
   "id": "01b01445",
   "metadata": {
    "ExecuteTime": {
     "end_time": "2024-03-13T05:46:39.424950Z",
     "start_time": "2024-03-13T05:46:39.419192Z"
    }
   },
   "outputs": [],
   "source": [
    "def splitTrainTestVal(df, val_chr_list=None, test_chr_list=None):\n",
    "    \"\"\"randomly sample and hold out 2 chromosomes for testing, validation\"\"\"\n",
    "    \n",
    "    cols =['coor.type',\"seq\"]\n",
    "    \n",
    "    # randomly sample test chromosomes (n=2)\n",
    "    if test_chr_list is None:\n",
    "        print('randomly sampling chromosomes for test')\n",
    "\n",
    "\n",
    "        # randomly sample\n",
    "        test_chr_list = list(np.random.choice(chrs, 2))\n",
    "   \n",
    "    # randomly sample validation chromosome (n=1)\n",
    "    if val_chr_list is None:\n",
    "        print('randomly sampling chromosomes for val')\n",
    "\n",
    "        # remove test chromosomes\n",
    "        for chr_ in test_chr_list:\n",
    "            chrs.remove(chr_)\n",
    "\n",
    "        # randomly sample\n",
    "        val_chr_list = list(np.random.choice(chrs, 1))\n",
    "\n",
    "    # separate held out chromosomes from  training chromosomes\n",
    "    test = df.loc[df[\"#chr\"].isin(test_chr_list)].copy()\n",
    "    val = df.loc[df[\"#chr\"].isin(val_chr_list)].copy()\n",
    "    train = df.loc[(~df[\"#chr\"].isin(test_chr_list))&\n",
    "                  (~df[\"#chr\"].isin(val_chr_list))].copy()\n",
    "\n",
    "    return train, val, test\n"
   ]
  },
  {
   "cell_type": "markdown",
   "id": "5f4dc9fb",
   "metadata": {},
   "source": [
    "## filters"
   ]
  },
  {
   "cell_type": "code",
   "execution_count": 9,
   "id": "f8f99643",
   "metadata": {
    "ExecuteTime": {
     "end_time": "2024-03-13T05:46:36.227896Z",
     "start_time": "2024-03-13T05:46:36.218344Z"
    }
   },
   "outputs": [],
   "source": [
    "def minReadDepthFilter(table, MIN_CONC):\n",
    "\n",
    "    print(\"before read depth filter:\", table.shape)\n",
    "    table = table.loc[(table[\"ctrl\"] > MIN_CONC) |\n",
    "                      (table[\"US\"] > MIN_CONC)].copy()\n",
    "    print(\"after:\", table.shape)\n",
    "\n",
    "    return table\n",
    "\n",
    "\n",
    "def quantileFilter(table, quantile=0.99):\n",
    "    \"\"\"upper quantile filter for read count values\"\"\"\n",
    "\n",
    "    print(\"before quantile filter:\", table.shape)\n",
    "\n",
    "    # quantiles\n",
    "    ctrl_thresh, us_thresh = table[[\"ctrl\", \"US\"]].quantile(quantile)\n",
    "\n",
    "    # filter table\n",
    "    table = table.loc[(table[\"ctrl\"] < ctrl_thresh) &\n",
    "                      (table[\"US\"] < us_thresh)]\n",
    "\n",
    "    print(\"after:\", table.shape)\n",
    "\n",
    "    return table\n",
    "\n",
    "\n",
    "def jointAccessibleFilter(table):\n",
    "    \"\"\"remove joint accessible regions, scramble new dataframe\"\"\"\n",
    "\n",
    "    print(\"before joint_accessible filter:\", table.shape)\n",
    "\n",
    "    # filter table\n",
    "    ctrl_only = table.loc[(table[\"ctrl\"] > 0) &\n",
    "                          (table[\"US\"] == 0)].copy()\n",
    "\n",
    "    US_only = table.loc[(table[\"ctrl\"] == 0) &\n",
    "                        (table[\"US\"] > 0)].copy()\n",
    "\n",
    "    # combine us and ctrl\n",
    "    # shuffle dataframe\n",
    "    table = pd.concat([ctrl_only, US_only]).sample(\n",
    "        frac=1).reset_index(drop=True)\n",
    "\n",
    "    print(\"after:\", table.shape)\n",
    "\n",
    "    return table\n",
    "\n",
    "# binarize\n",
    "\n",
    "\n",
    "def classLabel(table):\n",
    "    \"\"\"binarize read count column\"\"\"\n",
    "    cols_to_label = ['ctrl', 'US']\n",
    "    for col in cols_to_label:\n",
    "        table[col] = table[col].apply(lambda x: 0 if x == 0 else 1)\n",
    "\n",
    "    return table\n",
    "\n",
    "# scramble df\n",
    "\n",
    "\n",
    "def dfShuffle(df):\n",
    "    \"\"\"scramble dataframe\"\"\"\n",
    "    return df.sample(frac=1).reset_index(drop=True)\n",
    "\n",
    "def directionFilter(table):\n",
    "    \"\"\"filter for positive directional changes in activity\"\"\"\n",
    "\n",
    "    table = table.loc[table[\"US_DIF\"]<0] #where US_DIF = ctrl - US, and US_dif <0 means US has more activity than control\n",
    "    \n",
    "    return table"
   ]
  },
  {
   "cell_type": "code",
   "execution_count": 10,
   "id": "9ae92b41",
   "metadata": {
    "ExecuteTime": {
     "end_time": "2024-03-13T05:46:37.051225Z",
     "start_time": "2024-03-13T05:46:37.047694Z"
    }
   },
   "outputs": [],
   "source": [
    "def directionFilter(table):\n",
    "    \"\"\"filter for positive directional changes in activity\"\"\"\n",
    "\n",
    "    table = table.loc[table[\"US_DIF\"]<0] #where US_DIF = ctrl - US, and US_dif <0 means US has more activity than control\n",
    "    \n",
    "    return table"
   ]
  },
  {
   "cell_type": "markdown",
   "id": "b6144f3a-643a-42f5-bacc-40d77de7f899",
   "metadata": {},
   "source": [
    "# Main"
   ]
  },
  {
   "cell_type": "markdown",
   "id": "a28d43ff",
   "metadata": {},
   "source": [
    "## load data"
   ]
  },
  {
   "cell_type": "code",
   "execution_count": 13,
   "id": "7775086b",
   "metadata": {
    "ExecuteTime": {
     "end_time": "2024-03-13T05:46:44.557255Z",
     "start_time": "2024-03-13T05:46:44.533829Z"
    }
   },
   "outputs": [],
   "source": [
    "CL = 'hob'\n",
    "PREFIX = \"reg.all.2tasks.posonly\"\n",
    "\n",
    "PATH = \"/wynton/group/ahituv/data/US-MPRA/ATAC-seq/Diffbind_results\"\n",
    "DATA_PATH = f\"/wynton/home/ahituv/fongsl/EMF/US/ml_emf/data/deepstarr/deseq2/{CL}/{PREFIX}\"\n",
    "\n",
    "TEST_CHR = [\"chr8\"]\n",
    "VAL_CHR = \"chr12\"\n",
    "\n",
    "\n",
    "# peak information\n",
    "PEAK_SIZE = 270\n",
    "MIN_CONC = 3\n",
    "\n",
    "# genome information\n",
    "HG38= \"/wynton/group/ahituv/data/dna/hg38/hg38.chrom.sizes\"\n",
    "FA_HG38=\"/wynton/group/ahituv/data/dna/hg38/hg38.fa\"\n",
    "\n",
    "\n",
    "cols = ['coor.type', \"seq\", \"ctrl\", \"US\", \"US_DIF\", \"fold_num\"]\n",
    "fa_cols = ['coor.type', \"seq\"]\n",
    "\n",
    "\n",
    "if os.path.exists(DATA_PATH) is False:\n",
    "    if os.path.dirname(DATA_PATH) is False:\n",
    "        os.mkdir(os.path.dirname(DATA_PATH))\n",
    "    os.mkdir(DATA_PATH)\n",
    "\n",
    "## base files\n",
    "\n",
    "# files\n",
    "\n",
    "# DESEQ2 information\n",
    "DIFF = f'./diffbind_results/{CL}_deseq2.csv'\n",
    "NODIFF = f'./diffbind_results/{CL}_deseq2-nodiff.csv'\n",
    "DIFF_BED = \"./\" + DIFF.strip(\".csv\") + \".bed\"\n",
    "\n",
    "# write training, test files\n",
    "FULL = f\"{CL}_deseq2-nondiff.trimmed.full.csv\"\n",
    "\n",
    "\n",
    "## base config\n",
    "\n",
    "section = f\"{CL}-ATAC-DESEQ2\"\n",
    "crw.check(config, section)\n",
    "\n",
    "config[section][\"path\"] = PATH\n",
    "\n",
    "config[section][\"nondiff_bind_results\"] = \"%(path)s/\" + NODIFF\n",
    "config[section][\"diff_bind_results\"] = \"%(path)s/\" + DIFF\n",
    "config[section][\"diff_bind_results_bed\"] = \"%(path)s/\" + DIFF_BED\n",
    "\n",
    "\n",
    "## deepstarr files\n",
    "\n",
    "# file inputs for training, testing\n",
    "## x\n",
    "TRAIN_FA = f\"{PREFIX}.Sequences_Train.fa\"\n",
    "VAL_FA = f\"{PREFIX}.Sequences_Val.fa\"\n",
    "TEST_FA = f\"{PREFIX}.Sequences_Test.fa\"\n",
    "\n",
    "## y\n",
    "TRAIN_TARGET = f\"{PREFIX}.Sequences_activity_Train.txt\"\n",
    "VAL_TARGET = f\"{PREFIX}.Sequences_activity_Val.txt\"\n",
    "TEST_TARGET = f\"{PREFIX}.Sequences_activity_Test.txt\"\n",
    "\n",
    "## rules\n",
    "\n",
    "## deepstarr config \n",
    "\n",
    "section = f\"{CL}.atac.deseq2.deepstarr\"\n",
    "crw.check(config, section)\n",
    "\n",
    "# deepstar config\n",
    "config[section][\"data_path\"] = DATA_PATH\n",
    "config[section][\"held_out_chr\"] = \",\".join(TEST_CHR)\n",
    "config[section][\"val_chr\"] = VAL_CHR\n",
    "\n",
    "## deepstarr+prefix config\n",
    "\n",
    "# rules for data\n",
    "QUANTILE_FILTER, MIN_CONC_FILTER, JOINT_ACCESSIBLE, CLASS_LABEL = setPrefixRules(PREFIX)\n",
    "\n",
    "DIRECTION_FILTER = True\n",
    "\n",
    "# deepstarr prefix config\n",
    "section = f\"Hepg2.atac.deseq2.deepstarr.{PREFIX}\"\n",
    "crw.check(config, section)\n",
    "\n",
    "config[section][\"train_fa\"] = TRAIN_FA\n",
    "config[section][\"val_fa\"] = VAL_FA\n",
    "config[section][\"test_fa\"] = TEST_FA\n",
    "\n",
    "config[section][\"train_target\"] = TRAIN_TARGET\n",
    "config[section][\"tval_target\"] = VAL_TARGET\n",
    "config[section][\"test_target\"] = TEST_TARGET\n",
    "\n",
    "\n",
    "config[section][\"filter_MIN_CONC\"] = str(MIN_CONC_FILTER)\n",
    "if MIN_CONC_FILTER is True:\n",
    "    config[section][\"MIN_CONC\"] = str(MIN_CONC)\n",
    "    \n",
    "config[section][\"filter_quantile\"] = str(QUANTILE_FILTER)\n",
    "config[section][\"filter_jointaccessible\"] = str(JOINT_ACCESSIBLE)\n",
    "config[section][\"classlabel\"] = str(CLASS_LABEL)\n",
    "\n",
    "crw.write(config, cfn)"
   ]
  },
  {
   "cell_type": "code",
   "execution_count": 14,
   "id": "8c1cc374-7db3-4295-b9f4-9d564c7149d5",
   "metadata": {
    "ExecuteTime": {
     "end_time": "2024-03-13T05:46:47.277608Z",
     "start_time": "2024-03-13T05:46:46.446322Z"
    }
   },
   "outputs": [
    {
     "data": {
      "text/html": [
       "<div>\n",
       "<style scoped>\n",
       "    .dataframe tbody tr th:only-of-type {\n",
       "        vertical-align: middle;\n",
       "    }\n",
       "\n",
       "    .dataframe tbody tr th {\n",
       "        vertical-align: top;\n",
       "    }\n",
       "\n",
       "    .dataframe thead th {\n",
       "        text-align: right;\n",
       "    }\n",
       "</style>\n",
       "<table border=\"1\" class=\"dataframe\">\n",
       "  <thead>\n",
       "    <tr style=\"text-align: right;\">\n",
       "      <th></th>\n",
       "      <th>#chr</th>\n",
       "      <th>start_trim</th>\n",
       "      <th>end_trim</th>\n",
       "      <th>type</th>\n",
       "      <th>seq.id</th>\n",
       "      <th>US</th>\n",
       "      <th>ctrl</th>\n",
       "      <th>US_DIF</th>\n",
       "      <th>seq</th>\n",
       "      <th>coor.type</th>\n",
       "    </tr>\n",
       "  </thead>\n",
       "  <tbody>\n",
       "    <tr>\n",
       "      <th>0</th>\n",
       "      <td>chr20</td>\n",
       "      <td>35771828</td>\n",
       "      <td>35772099</td>\n",
       "      <td>hob.1</td>\n",
       "      <td>chr20:35771828-35772099</td>\n",
       "      <td>8.646043</td>\n",
       "      <td>8.194171</td>\n",
       "      <td>-0.451872</td>\n",
       "      <td>TAGGGCGCGGGCCTGTTTCCCGCGCGTCAGGGTAGTGGGCGTGGCC...</td>\n",
       "      <td>hob.1|chr20:35771828-35772099</td>\n",
       "    </tr>\n",
       "    <tr>\n",
       "      <th>1</th>\n",
       "      <td>chr3</td>\n",
       "      <td>127075008</td>\n",
       "      <td>127075279</td>\n",
       "      <td>hob.2</td>\n",
       "      <td>chr3:127075008-127075279</td>\n",
       "      <td>7.579306</td>\n",
       "      <td>6.978627</td>\n",
       "      <td>-0.600679</td>\n",
       "      <td>GTGAGCTGGGCTATGCTTGGTTGGTCTGGGCTGAGCTCCACGGTCT...</td>\n",
       "      <td>hob.2|chr3:127075008-127075279</td>\n",
       "    </tr>\n",
       "    <tr>\n",
       "      <th>2</th>\n",
       "      <td>chr16</td>\n",
       "      <td>82016933</td>\n",
       "      <td>82017204</td>\n",
       "      <td>hob.3</td>\n",
       "      <td>chr16:82016933-82017204</td>\n",
       "      <td>4.529926</td>\n",
       "      <td>3.056418</td>\n",
       "      <td>-1.473507</td>\n",
       "      <td>CTAGAAACATAGCCTTTAGAGACAGAGTGATGGAGATTTGGATCCT...</td>\n",
       "      <td>hob.3|chr16:82016933-82017204</td>\n",
       "    </tr>\n",
       "    <tr>\n",
       "      <th>3</th>\n",
       "      <td>chr10</td>\n",
       "      <td>72334959</td>\n",
       "      <td>72335230</td>\n",
       "      <td>hob.4</td>\n",
       "      <td>chr10:72334959-72335230</td>\n",
       "      <td>8.425374</td>\n",
       "      <td>7.987680</td>\n",
       "      <td>-0.437694</td>\n",
       "      <td>CCCCCATTCGCCGGGCTGCAGAAGGAGGGAGCCTGCTACCAGCAAC...</td>\n",
       "      <td>hob.4|chr10:72334959-72335230</td>\n",
       "    </tr>\n",
       "    <tr>\n",
       "      <th>4</th>\n",
       "      <td>chr3</td>\n",
       "      <td>79005150</td>\n",
       "      <td>79005421</td>\n",
       "      <td>hob.5</td>\n",
       "      <td>chr3:79005150-79005421</td>\n",
       "      <td>6.222658</td>\n",
       "      <td>5.418704</td>\n",
       "      <td>-0.803954</td>\n",
       "      <td>TTGGTGACGGTTTCCAGCTTCAAATGAATCAGCTCTCCTTGCCCAG...</td>\n",
       "      <td>hob.5|chr3:79005150-79005421</td>\n",
       "    </tr>\n",
       "  </tbody>\n",
       "</table>\n",
       "</div>"
      ],
      "text/plain": [
       "    #chr  start_trim   end_trim   type                    seq.id        US  \\\n",
       "0  chr20    35771828   35772099  hob.1   chr20:35771828-35772099  8.646043   \n",
       "1   chr3   127075008  127075279  hob.2  chr3:127075008-127075279  7.579306   \n",
       "2  chr16    82016933   82017204  hob.3   chr16:82016933-82017204  4.529926   \n",
       "3  chr10    72334959   72335230  hob.4   chr10:72334959-72335230  8.425374   \n",
       "4   chr3    79005150   79005421  hob.5    chr3:79005150-79005421  6.222658   \n",
       "\n",
       "       ctrl    US_DIF                                                seq  \\\n",
       "0  8.194171 -0.451872  TAGGGCGCGGGCCTGTTTCCCGCGCGTCAGGGTAGTGGGCGTGGCC...   \n",
       "1  6.978627 -0.600679  GTGAGCTGGGCTATGCTTGGTTGGTCTGGGCTGAGCTCCACGGTCT...   \n",
       "2  3.056418 -1.473507  CTAGAAACATAGCCTTTAGAGACAGAGTGATGGAGATTTGGATCCT...   \n",
       "3  7.987680 -0.437694  CCCCCATTCGCCGGGCTGCAGAAGGAGGGAGCCTGCTACCAGCAAC...   \n",
       "4  5.418704 -0.803954  TTGGTGACGGTTTCCAGCTTCAAATGAATCAGCTCTCCTTGCCCAG...   \n",
       "\n",
       "                        coor.type  \n",
       "0   hob.1|chr20:35771828-35772099  \n",
       "1  hob.2|chr3:127075008-127075279  \n",
       "2   hob.3|chr16:82016933-82017204  \n",
       "3   hob.4|chr10:72334959-72335230  \n",
       "4    hob.5|chr3:79005150-79005421  "
      ]
     },
     "execution_count": 14,
     "metadata": {},
     "output_type": "execute_result"
    }
   ],
   "source": [
    "os.chdir(PATH)\n",
    "table = pd.read_csv(FULL, sep='\\t').drop_duplicates()\n",
    "\n",
    "table[\"coor.type\"] = table[\"type\"] + \"|\" + table[\"seq.id\"]\n",
    "\n",
    "if \"Conc_Ultrasound_dif\" not in list(table):\n",
    "    table[\"Conc_Ultrasound_dif\"] = table[\"Conc_Control\"] - \\\n",
    "        table[\"Conc_Ultrasound\"]\n",
    "\n",
    "table.rename(columns={\"Conc_Ultrasound\": \"US\",\n",
    "                      \"Conc_Control\": \"ctrl\",\n",
    "                      \"Conc_Ultrasound_dif\": \"US_DIF\"}, inplace=True)\n",
    "\n",
    "\n",
    "table.head()"
   ]
  },
  {
   "cell_type": "code",
   "execution_count": 15,
   "id": "7cd12a22",
   "metadata": {
    "ExecuteTime": {
     "end_time": "2024-03-13T05:46:56.462536Z",
     "start_time": "2024-03-13T05:46:56.457790Z"
    }
   },
   "outputs": [
    {
     "data": {
      "text/plain": [
       "(80892, 10)"
      ]
     },
     "execution_count": 15,
     "metadata": {},
     "output_type": "execute_result"
    }
   ],
   "source": [
    "table.shape"
   ]
  },
  {
   "cell_type": "markdown",
   "id": "3ad03ee2",
   "metadata": {},
   "source": [
    "##  min read depth filter"
   ]
  },
  {
   "cell_type": "code",
   "execution_count": 16,
   "id": "b4542bb3",
   "metadata": {
    "ExecuteTime": {
     "end_time": "2024-03-13T05:46:59.493126Z",
     "start_time": "2024-03-13T05:46:59.429159Z"
    }
   },
   "outputs": [
    {
     "name": "stdout",
     "output_type": "stream",
     "text": [
      "before read depth filter: (80892, 10)\n",
      "after: (80892, 10)\n"
     ]
    }
   ],
   "source": [
    "## mean read depth filter\n",
    "if MIN_CONC_FILTER is True:\n",
    "    table = minReadDepthFilter(table, MIN_CONC) \n",
    "\n",
    "## quantile filter\n",
    "if QUANTILE_FILTER is True:\n",
    "\n",
    "    table = quantileFilter(table, quantile=0.99)\n",
    "\n",
    "## joint accessible filter\n",
    "if JOINT_ACCESSIBLE is False:\n",
    "    table = jointAccessibleFilter(table)\n",
    "\n",
    "## apply class label\n",
    "if CLASS_LABEL is True:\n",
    "    table = classLabel(table)\n",
    "    print(table.groupby(['ctrl', \"US\", \"US_DIF\"])['#chr'].count())\n",
    "    \n",
    "if DIRECTION_FILTER is True:\n",
    "    table = directionFilter(table)"
   ]
  },
  {
   "cell_type": "markdown",
   "id": "13a17409-e10e-487f-b353-873e94160c14",
   "metadata": {},
   "source": [
    "## train on all atac peaks"
   ]
  },
  {
   "cell_type": "code",
   "execution_count": 17,
   "id": "94c6f773",
   "metadata": {
    "ExecuteTime": {
     "end_time": "2024-03-13T05:47:23.060998Z",
     "start_time": "2024-03-13T05:47:17.596536Z"
    }
   },
   "outputs": [],
   "source": [
    "os.chdir(DATA_PATH)\n",
    "\n",
    "table = dfShuffle(table)  # shuffle the table before splitting\n",
    "\n",
    "train, val, test = splitTrainTestVal(table, val_chr_list=[VAL_CHR], test_chr_list=TEST_CHR)\n",
    "\n",
    "writeFa(test[fa_cols], TEST_FA)\n",
    "writeFa(train[fa_cols], TRAIN_FA)\n",
    "writeFa(val[fa_cols], VAL_FA)"
   ]
  },
  {
   "cell_type": "code",
   "execution_count": 18,
   "id": "0a74d00b-8db6-42ed-acf5-87354608e58d",
   "metadata": {
    "ExecuteTime": {
     "end_time": "2024-03-13T05:47:24.662784Z",
     "start_time": "2024-03-13T05:47:24.409253Z"
    }
   },
   "outputs": [],
   "source": [
    "cols = [\"coor.type\",\n",
    "        # \"US\",\n",
    "        \"ctrl\", \"US_DIF\"]\n",
    "test[cols].to_csv(TEST_TARGET, sep='\\t', index=False)\n",
    "train[cols].to_csv(TRAIN_TARGET, sep='\\t', index=False)\n",
    "val[cols].to_csv(VAL_TARGET, sep='\\t', index=False)"
   ]
  },
  {
   "cell_type": "code",
   "execution_count": 19,
   "id": "e5a18fec",
   "metadata": {
    "ExecuteTime": {
     "end_time": "2024-03-13T05:47:25.862218Z",
     "start_time": "2024-03-13T05:47:25.857928Z"
    }
   },
   "outputs": [
    {
     "data": {
      "text/plain": [
       "((2823, 10), (52606, 10), (2472, 10))"
      ]
     },
     "execution_count": 19,
     "metadata": {},
     "output_type": "execute_result"
    }
   ],
   "source": [
    "val.shape, train.shape, test.shape"
   ]
  },
  {
   "cell_type": "code",
   "execution_count": null,
   "id": "064f5f39",
   "metadata": {
    "ExecuteTime": {
     "end_time": "2024-03-08T23:40:35.720237Z",
     "start_time": "2024-03-08T23:40:35.720221Z"
    }
   },
   "outputs": [],
   "source": [
    "table.loc[table[\"US_DIF\"]<0] # ctrl - US <0 means US has more activity than control"
   ]
  },
  {
   "cell_type": "code",
   "execution_count": null,
   "id": "43901a50",
   "metadata": {},
   "outputs": [],
   "source": []
  }
 ],
 "metadata": {
  "kernelspec": {
   "display_name": "Python (mamba)",
   "language": "python",
   "name": "mamba"
  },
  "language_info": {
   "codemirror_mode": {
    "name": "ipython",
    "version": 3
   },
   "file_extension": ".py",
   "mimetype": "text/x-python",
   "name": "python",
   "nbconvert_exporter": "python",
   "pygments_lexer": "ipython3",
   "version": "3.9.16"
  },
  "toc": {
   "base_numbering": 1,
   "nav_menu": {},
   "number_sections": true,
   "sideBar": true,
   "skip_h1_title": false,
   "title_cell": "Table of Contents",
   "title_sidebar": "Contents",
   "toc_cell": false,
   "toc_position": {
    "height": "calc(100% - 180px)",
    "left": "10px",
    "top": "150px",
    "width": "302.4px"
   },
   "toc_section_display": true,
   "toc_window_display": true
  },
  "varInspector": {
   "cols": {
    "lenName": 16,
    "lenType": 16,
    "lenVar": 40
   },
   "kernels_config": {
    "python": {
     "delete_cmd_postfix": "",
     "delete_cmd_prefix": "del ",
     "library": "var_list.py",
     "varRefreshCmd": "print(var_dic_list())"
    },
    "r": {
     "delete_cmd_postfix": ") ",
     "delete_cmd_prefix": "rm(",
     "library": "var_list.r",
     "varRefreshCmd": "cat(var_dic_list()) "
    }
   },
   "types_to_exclude": [
    "module",
    "function",
    "builtin_function_or_method",
    "instance",
    "_Feature"
   ],
   "window_display": false
  }
 },
 "nbformat": 4,
 "nbformat_minor": 5
}
