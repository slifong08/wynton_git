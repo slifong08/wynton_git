{
 "cells": [
  {
   "cell_type": "markdown",
   "id": "a38fcfaa-77c1-4bfb-abe0-05dbc4e4e87d",
   "metadata": {},
   "source": [
    "20240306\n",
    "\n",
    "SarahFong\n",
    "\n",
    "Take output from DiffBind deseq2 formatting\n",
    "\n",
    "          $HOME/EMF/US/bin/ATAC/1_prep_deseq2_ATAC.ipynb \n",
    "          \n",
    "Prepare data: \n",
    "1. Clean diffbind deseq2 conc data (remove bad coordinates)\n",
    "4. Format dataframe for LegNet, multitask, deepstarr multitask\n",
    "5. Split into training and test set - randomly hold out 2 chromosomes. \n",
    "6. Add fold num to training set"
   ]
  },
  {
   "cell_type": "code",
   "execution_count": 1,
   "id": "24791ba6-ba9e-47c8-99ff-824a21c53b9b",
   "metadata": {
    "ExecuteTime": {
     "end_time": "2024-03-25T22:10:30.637832Z",
     "start_time": "2024-03-25T22:09:28.727277Z"
    }
   },
   "outputs": [
    {
     "data": {
      "text/plain": [
       "('sans-serif', 'Arial', 18)"
      ]
     },
     "execution_count": 1,
     "metadata": {},
     "output_type": "execute_result"
    }
   ],
   "source": [
    "from Bio.SeqIO.FastaIO import SimpleFastaParser\n",
    "import config_readwrite as crw\n",
    "import matplotlib.pyplot as plt\n",
    "import numpy as np\n",
    "import os, sys\n",
    "import pandas as pd\n",
    "import pybedtools as pbt\n",
    "\n",
    "from scipy import stats\n",
    "\n",
    "import seaborn as sns\n",
    "\n",
    "import warnings\n",
    "warnings.filterwarnings('ignore')\n",
    "\n",
    "import plot_params as pp\n",
    "pp.fonts()"
   ]
  },
  {
   "cell_type": "code",
   "execution_count": 2,
   "id": "4b15ddcf",
   "metadata": {
    "ExecuteTime": {
     "end_time": "2024-03-25T22:10:30.649420Z",
     "start_time": "2024-03-25T22:10:30.640302Z"
    }
   },
   "outputs": [],
   "source": [
    "config_name =os.path.join(os.getcwd(), \"config.multi.ini\")\n",
    "config, cfn = crw.read(config_name)"
   ]
  },
  {
   "cell_type": "markdown",
   "id": "1c13717b-4462-468b-aded-c85fa8632585",
   "metadata": {
    "heading_collapsed": true
   },
   "source": [
    "# functions"
   ]
  },
  {
   "cell_type": "code",
   "execution_count": 3,
   "id": "1c6894bc",
   "metadata": {
    "ExecuteTime": {
     "end_time": "2024-03-25T22:10:31.266907Z",
     "start_time": "2024-03-25T22:10:30.651219Z"
    },
    "hidden": true
   },
   "outputs": [],
   "source": [
    "def setPrefixRules(prefix):\n",
    "    \"\"\" rules for processing datasets\"\"\"\n",
    "    if \"class.all\" in prefix:\n",
    "        QUANTILE_FILTER=False\n",
    "        MIN_CONC_FILTER=False\n",
    "        JOINT_ACCESSIBLE=True\n",
    "        CLASS_LABEL = True\n",
    "\n",
    "    elif \"class.nojoint\" in prefix:\n",
    "        QUANTILE_FILTER=False\n",
    "        MIN_CONC_FILTER=True\n",
    "        JOINT_ACCESSIBLE=False\n",
    "        CLASS_LABEL = True\n",
    "\n",
    "    elif \"reg.all\" in PREFIX:\n",
    "        QUANTILE_FILTER=False\n",
    "        MIN_CONC_FILTER=True\n",
    "        JOINT_ACCESSIBLE=True\n",
    "        CLASS_LABEL = False\n",
    "\n",
    "    elif \"reg.nojoint\" in prefix:\n",
    "        QUANTILE_FILTER=False\n",
    "        MIN_CONC_FILTER=True\n",
    "        JOINT_ACCESSIBLE=False\n",
    "        CLASS_LABEL = False\n",
    "    else:\n",
    "        print('need to add rules for', prefix)\n",
    "        \n",
    "    return QUANTILE_FILTER, MIN_CONC_FILTER, JOINT_ACCESSIBLE, CLASS_LABEL\n"
   ]
  },
  {
   "cell_type": "markdown",
   "id": "0ba6c7d3-4107-4315-8748-e13b1108310b",
   "metadata": {
    "heading_collapsed": true,
    "hidden": true
   },
   "source": [
    "## make chromosome list"
   ]
  },
  {
   "cell_type": "code",
   "execution_count": 4,
   "id": "947fbb71-5880-4453-8414-51db88678771",
   "metadata": {
    "ExecuteTime": {
     "end_time": "2024-03-25T22:10:31.534543Z",
     "start_time": "2024-03-25T22:10:31.268800Z"
    },
    "hidden": true
   },
   "outputs": [],
   "source": [
    "def chrList():\n",
    "    \"\"\"return  list of chromosomes\"\"\"\n",
    "    \n",
    "    chrs = []\n",
    "    \n",
    "    for n in np.arange(1,23):\n",
    "        chrs.append(f\"chr{n}\")\n",
    "    \n",
    "    # add sex chromosomes\n",
    "    chrs.append(\"chrX\")\n",
    "    chrs.append(\"chrY\")\n",
    "    \n",
    "    return chrs"
   ]
  },
  {
   "cell_type": "markdown",
   "id": "91c587c3",
   "metadata": {
    "heading_collapsed": true,
    "hidden": true
   },
   "source": [
    "## write fa"
   ]
  },
  {
   "cell_type": "code",
   "execution_count": 5,
   "id": "84051dad",
   "metadata": {
    "ExecuteTime": {
     "end_time": "2024-03-25T22:10:31.828618Z",
     "start_time": "2024-03-25T22:10:31.537607Z"
    },
    "hidden": true
   },
   "outputs": [],
   "source": [
    "def writeFa(heldout_df, heldout_fa):\n",
    "    with open(heldout_fa, \"w\") as writer:\n",
    "        for row in heldout_df.iterrows():\n",
    "            seqid, seq=row[1][:2]\n",
    "            writer.write(f\">{seqid}\\n{seq}\\n\")"
   ]
  },
  {
   "cell_type": "markdown",
   "id": "1e894b82",
   "metadata": {
    "heading_collapsed": true,
    "hidden": true
   },
   "source": [
    "## train test split on chromosome"
   ]
  },
  {
   "cell_type": "code",
   "execution_count": 6,
   "id": "01b01445",
   "metadata": {
    "ExecuteTime": {
     "end_time": "2024-03-25T22:10:33.111659Z",
     "start_time": "2024-03-25T22:10:31.830466Z"
    },
    "hidden": true
   },
   "outputs": [],
   "source": [
    "def splitTrainTestVal(df, val_chr_list=None, test_chr_list=None):\n",
    "    \"\"\"randomly sample and hold out 2 chromosomes for testing, validation\"\"\"\n",
    "    \n",
    "    cols =['coor.type',\"seq\"]\n",
    "    \n",
    "    # randomly sample test chromosomes (n=2)\n",
    "    if test_chr_list is None:\n",
    "        print('randomly sampling chromosomes for test')\n",
    "\n",
    "\n",
    "        # randomly sample\n",
    "        test_chr_list = list(np.random.choice(chrs, 2))\n",
    "   \n",
    "    # randomly sample validation chromosome (n=1)\n",
    "    if val_chr_list is None:\n",
    "        print('randomly sampling chromosomes for val')\n",
    "\n",
    "        # remove test chromosomes\n",
    "        for chr_ in test_chr_list:\n",
    "            chrs.remove(chr_)\n",
    "\n",
    "        # randomly sample\n",
    "        val_chr_list = list(np.random.choice(chrs, 1))\n",
    "\n",
    "    # separate held out chromosomes from  training chromosomes\n",
    "    test = df.loc[df[\"#chr\"].isin(test_chr_list)].copy()\n",
    "    val = df.loc[df[\"#chr\"].isin(val_chr_list)].copy()\n",
    "    train = df.loc[(~df[\"#chr\"].isin(test_chr_list))&\n",
    "                  (~df[\"#chr\"].isin(val_chr_list))].copy()\n",
    "\n",
    "    return train, val, test\n"
   ]
  },
  {
   "cell_type": "markdown",
   "id": "5f4dc9fb",
   "metadata": {
    "hidden": true
   },
   "source": [
    "## filters"
   ]
  },
  {
   "cell_type": "markdown",
   "id": "e8ba0f17",
   "metadata": {
    "hidden": true
   },
   "source": [
    "### need a deseq2 filter. "
   ]
  },
  {
   "cell_type": "code",
   "execution_count": 7,
   "id": "f8f99643",
   "metadata": {
    "ExecuteTime": {
     "end_time": "2024-03-25T22:10:33.517223Z",
     "start_time": "2024-03-25T22:10:33.113786Z"
    },
    "hidden": true
   },
   "outputs": [],
   "source": [
    "def minReadDepthFilter(table, MIN_CONC):\n",
    "\n",
    "    print(\"before read depth filter:\", table.shape)\n",
    "    table = table.loc[(table[\"ctrl\"] > MIN_CONC) |\n",
    "                      (table[\"US\"] > MIN_CONC)].copy()\n",
    "    print(\"after:\", table.shape)\n",
    "\n",
    "    return table\n",
    "\n",
    "\n",
    "def quantileFilter(table, quantile=0.99):\n",
    "    \"\"\"upper quantile filter for read count values\"\"\"\n",
    "\n",
    "    print(\"before quantile filter:\", table.shape)\n",
    "\n",
    "    # quantiles\n",
    "    ctrl_thresh, us_thresh = table[[\"ctrl\", \"US\"]].quantile(quantile)\n",
    "\n",
    "    # filter table\n",
    "    table = table.loc[(table[\"ctrl\"] < ctrl_thresh) &\n",
    "                      (table[\"US\"] < us_thresh)]\n",
    "\n",
    "    print(\"after:\", table.shape)\n",
    "\n",
    "    return table\n",
    "\n",
    "\n",
    "def jointAccessibleFilter(table):\n",
    "    \"\"\"remove joint accessible regions, scramble new dataframe\"\"\"\n",
    "\n",
    "    print(\"before joint_accessible filter:\", table.shape)\n",
    "\n",
    "    # filter table\n",
    "    ctrl_only = table.loc[(table[\"ctrl\"] > 0) &\n",
    "                          (table[\"US\"] == 0)].copy()\n",
    "\n",
    "    US_only = table.loc[(table[\"ctrl\"] == 0) &\n",
    "                        (table[\"US\"] > 0)].copy()\n",
    "\n",
    "    # combine us and ctrl\n",
    "    # shuffle dataframe\n",
    "    table = pd.concat([ctrl_only, US_only]).sample(\n",
    "        frac=1).reset_index(drop=True)\n",
    "\n",
    "    print(\"after:\", table.shape)\n",
    "\n",
    "    return table\n",
    "\n",
    "# binarize\n",
    "\n",
    "\n",
    "def classLabel(table):\n",
    "    \"\"\"binarize read count column\"\"\"\n",
    "    cols_to_label = ['ctrl', 'US']\n",
    "    for col in cols_to_label:\n",
    "        table[col] = table[col].apply(lambda x: 0 if x<MIN_CONC else 1)\n",
    "\n",
    "    return table\n",
    "\n",
    "# label deseq DiffAcc peaks\n",
    "def diffAccLabel(table, diff_bed):\n",
    "    \"\"\" Annotate elements that overlap desseq2 differentially accessible peak calls\n",
    "        Return dataframe of overlapping elements. \n",
    "    \"\"\"\n",
    "    table_bed = pbt.BedTool.from_dataframe(table[table.columns[:4]])\n",
    "    deseq_bed = pbt.BedTool(diff_bed)\n",
    "\n",
    "    table_deseq = table_bed.intersect(deseq_bed, wao=True)\n",
    "\n",
    "    table_deseq = pd.read_csv(table_deseq.fn, sep='\\t', header=None)\n",
    "    table_deseq.columns=['#chr', \"start_trim\", \"end_trim\", \"type\", \n",
    "                         \"#chr_deseq\", \"start_deseq\", \"end_deseq\", \n",
    "                         \"deseq_id\", \"diffAcc\"\n",
    "                        ]\n",
    "\n",
    "    #annotate diffAcc overlap as 1 or 0\n",
    "    table_deseq[\"diffAcc\"] = table_deseq[\"diffAcc\"].apply(lambda x: 1 if x>0 else 0) \n",
    "\n",
    "    # merge annotations with original table\n",
    "    table = pd.merge(table, table_deseq[[\"type\",\"diffAcc\"]]).drop_duplicates()\n",
    "    \n",
    "    return table\n",
    "\n",
    "# scramble df\n",
    "\n",
    "\n",
    "def dfShuffle(df):\n",
    "    \"\"\"scramble dataframe\"\"\"\n",
    "    return df.sample(frac=1).reset_index(drop=True)\n",
    "\n",
    "def directionFilter(table):\n",
    "    \"\"\"filter for positive directional changes in activity\"\"\"\n",
    "\n",
    "    table = table.loc[table[\"US_DIF\"]<0] #where US_DIF = ctrl - US, and US_dif <0 means US has more activity than control\n",
    "    \n",
    "    return table"
   ]
  },
  {
   "cell_type": "markdown",
   "id": "b6144f3a-643a-42f5-bacc-40d77de7f899",
   "metadata": {},
   "source": [
    "# Main"
   ]
  },
  {
   "cell_type": "markdown",
   "id": "a28d43ff",
   "metadata": {},
   "source": [
    "## load data"
   ]
  },
  {
   "cell_type": "code",
   "execution_count": 15,
   "id": "7775086b",
   "metadata": {
    "ExecuteTime": {
     "end_time": "2024-03-25T22:12:32.897219Z",
     "start_time": "2024-03-25T22:12:32.881369Z"
    }
   },
   "outputs": [],
   "source": [
    "CL = 'hob'\n",
    "PREFIX = \"class.all.2tasks\"\n",
    "\n",
    "PATH = \"/wynton/group/ahituv/data/US-MPRA/ATAC-seq/Diffbind_results\"\n",
    "DATA_PATH = f\"/wynton/home/ahituv/fongsl/EMF/US/ml_emf/data/deepstarr/deseq2/{CL}/{PREFIX}\"\n",
    "\n",
    "TEST_CHR = [\"chr8\"]\n",
    "VAL_CHR = \"chr12\"\n",
    "\n",
    "\n",
    "# peak information\n",
    "PEAK_SIZE = 270\n",
    "MIN_CONC = 3\n",
    "DIRECTION_FILTER = False  # keep only positive changes? Negative changes? \n",
    "\n",
    "# genome information\n",
    "HG38= \"/wynton/group/ahituv/data/dna/hg38/hg38.chrom.sizes\"\n",
    "FA_HG38=\"/wynton/group/ahituv/data/dna/hg38/hg38.fa\"\n",
    "\n",
    "\n",
    "if \"class\" in PREFIX:\n",
    "    cols=['coor.type', \"seq\", \"diffAcc\", \"fold_num\"]\n",
    "else:\n",
    "    cols = ['coor.type', \"seq\", \"ctrl\", \"US\", \"US_DIF\", \"fold_num\"]\n",
    "    \n",
    "fa_cols = ['coor.type', \"seq\"]\n",
    "\n",
    "\n",
    "if os.path.exists(DATA_PATH) is False:\n",
    "    if os.path.dirname(DATA_PATH) is False:\n",
    "        os.mkdir(os.path.dirname(DATA_PATH))\n",
    "    os.mkdir(DATA_PATH)\n",
    "\n",
    "## base files\n",
    "\n",
    "# files\n",
    "\n",
    "# DESEQ2 information\n",
    "DIFF = f'./{CL}_deseq2.csv'\n",
    "NODIFF = f'./{CL}_deseq2-nodiff.csv'\n",
    "DIFF_BED = \"./\" + DIFF.strip(\".csv\") + \".bed\"\n",
    "\n",
    "# write training, test files\n",
    "FULL = f\"{CL}_deseq2-nondiff.trimmed.full.csv\"\n",
    "\n",
    "\n",
    "## base config\n",
    "\n",
    "section = f\"{CL}-ATAC-DESEQ2\"\n",
    "crw.check(config, section)\n",
    "\n",
    "config[section][\"path\"] = PATH\n",
    "\n",
    "config[section][\"nondiff_bind_results\"] = \"%(path)s/\" + NODIFF\n",
    "config[section][\"diff_bind_results\"] = \"%(path)s/\" + DIFF\n",
    "config[section][\"diff_bind_results_bed\"] = \"%(path)s/\" + DIFF_BED\n",
    "\n",
    "\n",
    "## deepstarr files\n",
    "\n",
    "# file inputs for training, testing\n",
    "## x\n",
    "TRAIN_FA = f\"{PREFIX}.Sequences_Train.fa\"\n",
    "VAL_FA = f\"{PREFIX}.Sequences_Val.fa\"\n",
    "TEST_FA = f\"{PREFIX}.Sequences_Test.fa\"\n",
    "\n",
    "## y\n",
    "TRAIN_TARGET = f\"{PREFIX}.Sequences_activity_Train.txt\"\n",
    "VAL_TARGET = f\"{PREFIX}.Sequences_activity_Val.txt\"\n",
    "TEST_TARGET = f\"{PREFIX}.Sequences_activity_Test.txt\"\n",
    "\n",
    "## rules\n",
    "\n",
    "## deepstarr config \n",
    "\n",
    "section = f\"{CL}.atac.deseq2.deepstarr\"\n",
    "crw.check(config, section)\n",
    "\n",
    "# deepstar config\n",
    "config[section][\"data_path\"] = DATA_PATH\n",
    "config[section][\"held_out_chr\"] = \",\".join(TEST_CHR)\n",
    "config[section][\"val_chr\"] = VAL_CHR\n",
    "\n",
    "## deepstarr+prefix config\n",
    "\n",
    "# rules for data\n",
    "QUANTILE_FILTER, MIN_CONC_FILTER, JOINT_ACCESSIBLE, CLASS_LABEL = setPrefixRules(PREFIX)\n",
    "\n",
    "\n",
    "# deepstarr prefix config\n",
    "section = f\"{CL}.atac.deseq2.deepstarr.{PREFIX}\"\n",
    "crw.check(config, section)\n",
    "\n",
    "config[section][\"train_fa\"] = TRAIN_FA\n",
    "config[section][\"val_fa\"] = VAL_FA\n",
    "config[section][\"test_fa\"] = TEST_FA\n",
    "\n",
    "config[section][\"train_target\"] = TRAIN_TARGET\n",
    "config[section][\"tval_target\"] = VAL_TARGET\n",
    "config[section][\"test_target\"] = TEST_TARGET\n",
    "\n",
    "\n",
    "config[section][\"filter_MIN_CONC\"] = str(MIN_CONC_FILTER)\n",
    "if MIN_CONC_FILTER is True:\n",
    "    config[section][\"MIN_CONC\"] = str(MIN_CONC)\n",
    "    \n",
    "config[section][\"filter_quantile\"] = str(QUANTILE_FILTER)\n",
    "config[section][\"filter_jointaccessible\"] = str(JOINT_ACCESSIBLE)\n",
    "config[section][\"classlabel\"] = str(CLASS_LABEL)\n",
    "\n",
    "crw.write(config, cfn)"
   ]
  },
  {
   "cell_type": "code",
   "execution_count": 10,
   "id": "8c1cc374-7db3-4295-b9f4-9d564c7149d5",
   "metadata": {
    "ExecuteTime": {
     "end_time": "2024-03-25T22:10:38.412288Z",
     "start_time": "2024-03-25T22:10:35.788738Z"
    }
   },
   "outputs": [
    {
     "data": {
      "text/html": [
       "<div>\n",
       "<style scoped>\n",
       "    .dataframe tbody tr th:only-of-type {\n",
       "        vertical-align: middle;\n",
       "    }\n",
       "\n",
       "    .dataframe tbody tr th {\n",
       "        vertical-align: top;\n",
       "    }\n",
       "\n",
       "    .dataframe thead th {\n",
       "        text-align: right;\n",
       "    }\n",
       "</style>\n",
       "<table border=\"1\" class=\"dataframe\">\n",
       "  <thead>\n",
       "    <tr style=\"text-align: right;\">\n",
       "      <th></th>\n",
       "      <th>#chr</th>\n",
       "      <th>start_trim</th>\n",
       "      <th>end_trim</th>\n",
       "      <th>type</th>\n",
       "      <th>seq.id</th>\n",
       "      <th>US</th>\n",
       "      <th>ctrl</th>\n",
       "      <th>US_DIF</th>\n",
       "      <th>seq</th>\n",
       "      <th>coor.type</th>\n",
       "    </tr>\n",
       "  </thead>\n",
       "  <tbody>\n",
       "    <tr>\n",
       "      <th>0</th>\n",
       "      <td>chr20</td>\n",
       "      <td>35771828</td>\n",
       "      <td>35772099</td>\n",
       "      <td>hob.1</td>\n",
       "      <td>chr20:35771828-35772099</td>\n",
       "      <td>8.646043</td>\n",
       "      <td>8.194171</td>\n",
       "      <td>-0.451872</td>\n",
       "      <td>TAGGGCGCGGGCCTGTTTCCCGCGCGTCAGGGTAGTGGGCGTGGCC...</td>\n",
       "      <td>hob.1|chr20:35771828-35772099</td>\n",
       "    </tr>\n",
       "    <tr>\n",
       "      <th>1</th>\n",
       "      <td>chr3</td>\n",
       "      <td>127075008</td>\n",
       "      <td>127075279</td>\n",
       "      <td>hob.2</td>\n",
       "      <td>chr3:127075008-127075279</td>\n",
       "      <td>7.579306</td>\n",
       "      <td>6.978627</td>\n",
       "      <td>-0.600679</td>\n",
       "      <td>GTGAGCTGGGCTATGCTTGGTTGGTCTGGGCTGAGCTCCACGGTCT...</td>\n",
       "      <td>hob.2|chr3:127075008-127075279</td>\n",
       "    </tr>\n",
       "    <tr>\n",
       "      <th>2</th>\n",
       "      <td>chr16</td>\n",
       "      <td>82016933</td>\n",
       "      <td>82017204</td>\n",
       "      <td>hob.3</td>\n",
       "      <td>chr16:82016933-82017204</td>\n",
       "      <td>4.529926</td>\n",
       "      <td>3.056418</td>\n",
       "      <td>-1.473507</td>\n",
       "      <td>CTAGAAACATAGCCTTTAGAGACAGAGTGATGGAGATTTGGATCCT...</td>\n",
       "      <td>hob.3|chr16:82016933-82017204</td>\n",
       "    </tr>\n",
       "    <tr>\n",
       "      <th>3</th>\n",
       "      <td>chr10</td>\n",
       "      <td>72334959</td>\n",
       "      <td>72335230</td>\n",
       "      <td>hob.4</td>\n",
       "      <td>chr10:72334959-72335230</td>\n",
       "      <td>8.425374</td>\n",
       "      <td>7.987680</td>\n",
       "      <td>-0.437694</td>\n",
       "      <td>CCCCCATTCGCCGGGCTGCAGAAGGAGGGAGCCTGCTACCAGCAAC...</td>\n",
       "      <td>hob.4|chr10:72334959-72335230</td>\n",
       "    </tr>\n",
       "    <tr>\n",
       "      <th>4</th>\n",
       "      <td>chr3</td>\n",
       "      <td>79005150</td>\n",
       "      <td>79005421</td>\n",
       "      <td>hob.5</td>\n",
       "      <td>chr3:79005150-79005421</td>\n",
       "      <td>6.222658</td>\n",
       "      <td>5.418704</td>\n",
       "      <td>-0.803954</td>\n",
       "      <td>TTGGTGACGGTTTCCAGCTTCAAATGAATCAGCTCTCCTTGCCCAG...</td>\n",
       "      <td>hob.5|chr3:79005150-79005421</td>\n",
       "    </tr>\n",
       "  </tbody>\n",
       "</table>\n",
       "</div>"
      ],
      "text/plain": [
       "    #chr  start_trim   end_trim   type                    seq.id        US  \\\n",
       "0  chr20    35771828   35772099  hob.1   chr20:35771828-35772099  8.646043   \n",
       "1   chr3   127075008  127075279  hob.2  chr3:127075008-127075279  7.579306   \n",
       "2  chr16    82016933   82017204  hob.3   chr16:82016933-82017204  4.529926   \n",
       "3  chr10    72334959   72335230  hob.4   chr10:72334959-72335230  8.425374   \n",
       "4   chr3    79005150   79005421  hob.5    chr3:79005150-79005421  6.222658   \n",
       "\n",
       "       ctrl    US_DIF                                                seq  \\\n",
       "0  8.194171 -0.451872  TAGGGCGCGGGCCTGTTTCCCGCGCGTCAGGGTAGTGGGCGTGGCC...   \n",
       "1  6.978627 -0.600679  GTGAGCTGGGCTATGCTTGGTTGGTCTGGGCTGAGCTCCACGGTCT...   \n",
       "2  3.056418 -1.473507  CTAGAAACATAGCCTTTAGAGACAGAGTGATGGAGATTTGGATCCT...   \n",
       "3  7.987680 -0.437694  CCCCCATTCGCCGGGCTGCAGAAGGAGGGAGCCTGCTACCAGCAAC...   \n",
       "4  5.418704 -0.803954  TTGGTGACGGTTTCCAGCTTCAAATGAATCAGCTCTCCTTGCCCAG...   \n",
       "\n",
       "                        coor.type  \n",
       "0   hob.1|chr20:35771828-35772099  \n",
       "1  hob.2|chr3:127075008-127075279  \n",
       "2   hob.3|chr16:82016933-82017204  \n",
       "3   hob.4|chr10:72334959-72335230  \n",
       "4    hob.5|chr3:79005150-79005421  "
      ]
     },
     "execution_count": 10,
     "metadata": {},
     "output_type": "execute_result"
    }
   ],
   "source": [
    "os.chdir(PATH)\n",
    "table = pd.read_csv(FULL, sep='\\t').drop_duplicates()\n",
    "\n",
    "table[\"coor.type\"] = table[\"type\"] + \"|\" + table[\"seq.id\"]\n",
    "\n",
    "if \"Conc_Ultrasound_dif\" not in list(table):\n",
    "    table[\"Conc_Ultrasound_dif\"] = table[\"Conc_Control\"] - \\\n",
    "        table[\"Conc_Ultrasound\"]\n",
    "\n",
    "table.rename(columns={\"Conc_Ultrasound\": \"US\",\n",
    "                      \"Conc_Control\": \"ctrl\",\n",
    "                      \"Conc_Ultrasound_dif\": \"US_DIF\"}, inplace=True)\n",
    "\n",
    "\n",
    "table.head()"
   ]
  },
  {
   "cell_type": "code",
   "execution_count": 11,
   "id": "7cd12a22",
   "metadata": {
    "ExecuteTime": {
     "end_time": "2024-03-25T22:10:39.137841Z",
     "start_time": "2024-03-25T22:10:38.414301Z"
    }
   },
   "outputs": [
    {
     "data": {
      "text/plain": [
       "(80892, 10)"
      ]
     },
     "execution_count": 11,
     "metadata": {},
     "output_type": "execute_result"
    }
   ],
   "source": [
    "table.shape"
   ]
  },
  {
   "cell_type": "markdown",
   "id": "3ad03ee2",
   "metadata": {},
   "source": [
    "##  min read depth filter"
   ]
  },
  {
   "cell_type": "code",
   "execution_count": 12,
   "id": "b4542bb3",
   "metadata": {
    "ExecuteTime": {
     "end_time": "2024-03-25T22:10:58.581660Z",
     "start_time": "2024-03-25T22:10:57.617123Z"
    }
   },
   "outputs": [
    {
     "name": "stdout",
     "output_type": "stream",
     "text": [
      "ctrl       US         US_DIF     diffAcc\n",
      "2.735509   4.092141   -1.356631  1          1\n",
      "2.861325   4.300509   -1.439185  1          1\n",
      "2.921416   4.008265   -1.086850  0          1\n",
      "2.932169   4.040911   -1.108742  0          1\n",
      "2.938538   4.264894   -1.326356  1          1\n",
      "                                           ..\n",
      "10.519145  10.680225  -0.161080  0          1\n",
      "10.523657  10.680369  -0.156712  0          1\n",
      "10.527785  10.750965  -0.223180  0          1\n",
      "10.549858  10.750119  -0.200261  0          1\n",
      "10.632526  10.815728  -0.183202  0          1\n",
      "Name: #chr, Length: 80878, dtype: int64\n"
     ]
    }
   ],
   "source": [
    "## mean read depth filter\n",
    "if MIN_CONC_FILTER is True:\n",
    "    table = minReadDepthFilter(table, MIN_CONC) \n",
    "\n",
    "## quantile filter\n",
    "if QUANTILE_FILTER is True:\n",
    "\n",
    "    table = quantileFilter(table, quantile=0.99)\n",
    "\n",
    "## joint accessible filter\n",
    "if JOINT_ACCESSIBLE is False:\n",
    "    table = jointAccessibleFilter(table)\n",
    "\n",
    "## apply class label\n",
    "if CLASS_LABEL is True:\n",
    "    table = diffAccLabel(table, DIFF_BED)\n",
    "    print(table.groupby(['ctrl', \"US\", \"US_DIF\", \"diffAcc\"])['#chr'].count())\n",
    "    \n",
    "if DIRECTION_FILTER is True:\n",
    "    table = directionFilter(table)"
   ]
  },
  {
   "cell_type": "code",
   "execution_count": 13,
   "id": "a9d412d1",
   "metadata": {
    "ExecuteTime": {
     "end_time": "2024-03-25T22:11:12.992181Z",
     "start_time": "2024-03-25T22:11:12.976801Z"
    }
   },
   "outputs": [
    {
     "data": {
      "text/html": [
       "<div>\n",
       "<style scoped>\n",
       "    .dataframe tbody tr th:only-of-type {\n",
       "        vertical-align: middle;\n",
       "    }\n",
       "\n",
       "    .dataframe tbody tr th {\n",
       "        vertical-align: top;\n",
       "    }\n",
       "\n",
       "    .dataframe thead th {\n",
       "        text-align: right;\n",
       "    }\n",
       "</style>\n",
       "<table border=\"1\" class=\"dataframe\">\n",
       "  <thead>\n",
       "    <tr style=\"text-align: right;\">\n",
       "      <th></th>\n",
       "      <th>#chr</th>\n",
       "      <th>start_trim</th>\n",
       "      <th>end_trim</th>\n",
       "      <th>type</th>\n",
       "      <th>seq.id</th>\n",
       "      <th>US</th>\n",
       "      <th>ctrl</th>\n",
       "      <th>US_DIF</th>\n",
       "      <th>seq</th>\n",
       "      <th>coor.type</th>\n",
       "      <th>diffAcc</th>\n",
       "    </tr>\n",
       "  </thead>\n",
       "  <tbody>\n",
       "    <tr>\n",
       "      <th>0</th>\n",
       "      <td>chr20</td>\n",
       "      <td>35771828</td>\n",
       "      <td>35772099</td>\n",
       "      <td>hob.1</td>\n",
       "      <td>chr20:35771828-35772099</td>\n",
       "      <td>8.646043</td>\n",
       "      <td>8.194171</td>\n",
       "      <td>-0.451872</td>\n",
       "      <td>TAGGGCGCGGGCCTGTTTCCCGCGCGTCAGGGTAGTGGGCGTGGCC...</td>\n",
       "      <td>hob.1|chr20:35771828-35772099</td>\n",
       "      <td>1</td>\n",
       "    </tr>\n",
       "    <tr>\n",
       "      <th>1</th>\n",
       "      <td>chr3</td>\n",
       "      <td>127075008</td>\n",
       "      <td>127075279</td>\n",
       "      <td>hob.2</td>\n",
       "      <td>chr3:127075008-127075279</td>\n",
       "      <td>7.579306</td>\n",
       "      <td>6.978627</td>\n",
       "      <td>-0.600679</td>\n",
       "      <td>GTGAGCTGGGCTATGCTTGGTTGGTCTGGGCTGAGCTCCACGGTCT...</td>\n",
       "      <td>hob.2|chr3:127075008-127075279</td>\n",
       "      <td>1</td>\n",
       "    </tr>\n",
       "    <tr>\n",
       "      <th>2</th>\n",
       "      <td>chr16</td>\n",
       "      <td>82016933</td>\n",
       "      <td>82017204</td>\n",
       "      <td>hob.3</td>\n",
       "      <td>chr16:82016933-82017204</td>\n",
       "      <td>4.529926</td>\n",
       "      <td>3.056418</td>\n",
       "      <td>-1.473507</td>\n",
       "      <td>CTAGAAACATAGCCTTTAGAGACAGAGTGATGGAGATTTGGATCCT...</td>\n",
       "      <td>hob.3|chr16:82016933-82017204</td>\n",
       "      <td>1</td>\n",
       "    </tr>\n",
       "    <tr>\n",
       "      <th>3</th>\n",
       "      <td>chr10</td>\n",
       "      <td>72334959</td>\n",
       "      <td>72335230</td>\n",
       "      <td>hob.4</td>\n",
       "      <td>chr10:72334959-72335230</td>\n",
       "      <td>8.425374</td>\n",
       "      <td>7.987680</td>\n",
       "      <td>-0.437694</td>\n",
       "      <td>CCCCCATTCGCCGGGCTGCAGAAGGAGGGAGCCTGCTACCAGCAAC...</td>\n",
       "      <td>hob.4|chr10:72334959-72335230</td>\n",
       "      <td>1</td>\n",
       "    </tr>\n",
       "    <tr>\n",
       "      <th>4</th>\n",
       "      <td>chr3</td>\n",
       "      <td>79005150</td>\n",
       "      <td>79005421</td>\n",
       "      <td>hob.5</td>\n",
       "      <td>chr3:79005150-79005421</td>\n",
       "      <td>6.222658</td>\n",
       "      <td>5.418704</td>\n",
       "      <td>-0.803954</td>\n",
       "      <td>TTGGTGACGGTTTCCAGCTTCAAATGAATCAGCTCTCCTTGCCCAG...</td>\n",
       "      <td>hob.5|chr3:79005150-79005421</td>\n",
       "      <td>1</td>\n",
       "    </tr>\n",
       "    <tr>\n",
       "      <th>...</th>\n",
       "      <td>...</td>\n",
       "      <td>...</td>\n",
       "      <td>...</td>\n",
       "      <td>...</td>\n",
       "      <td>...</td>\n",
       "      <td>...</td>\n",
       "      <td>...</td>\n",
       "      <td>...</td>\n",
       "      <td>...</td>\n",
       "      <td>...</td>\n",
       "      <td>...</td>\n",
       "    </tr>\n",
       "    <tr>\n",
       "      <th>80887</th>\n",
       "      <td>chr1</td>\n",
       "      <td>45550657</td>\n",
       "      <td>45550928</td>\n",
       "      <td>hob.159532</td>\n",
       "      <td>chr1:45550657-45550928</td>\n",
       "      <td>7.216230</td>\n",
       "      <td>7.218726</td>\n",
       "      <td>0.002495</td>\n",
       "      <td>ACGGATGGCATTGTGAATCCGGAGGGCCGACACCAGAAGAACCTGC...</td>\n",
       "      <td>hob.159532|chr1:45550657-45550928</td>\n",
       "      <td>0</td>\n",
       "    </tr>\n",
       "    <tr>\n",
       "      <th>80888</th>\n",
       "      <td>chr3</td>\n",
       "      <td>194494080</td>\n",
       "      <td>194494351</td>\n",
       "      <td>hob.159535</td>\n",
       "      <td>chr3:194494080-194494351</td>\n",
       "      <td>6.065404</td>\n",
       "      <td>6.066099</td>\n",
       "      <td>0.000695</td>\n",
       "      <td>actttgctccagggccaaactcttgaccactatAACCAAATGAAGC...</td>\n",
       "      <td>hob.159535|chr3:194494080-194494351</td>\n",
       "      <td>0</td>\n",
       "    </tr>\n",
       "    <tr>\n",
       "      <th>80889</th>\n",
       "      <td>chr8</td>\n",
       "      <td>25418233</td>\n",
       "      <td>25418504</td>\n",
       "      <td>hob.159536</td>\n",
       "      <td>chr8:25418233-25418504</td>\n",
       "      <td>4.884313</td>\n",
       "      <td>4.883241</td>\n",
       "      <td>-0.001072</td>\n",
       "      <td>GCAAGTTATCTGAAATTTGTTTTTTTTTTTCCAATGGTCTCATAGC...</td>\n",
       "      <td>hob.159536|chr8:25418233-25418504</td>\n",
       "      <td>0</td>\n",
       "    </tr>\n",
       "    <tr>\n",
       "      <th>80890</th>\n",
       "      <td>chr8</td>\n",
       "      <td>53917937</td>\n",
       "      <td>53918208</td>\n",
       "      <td>hob.159537</td>\n",
       "      <td>chr8:53917937-53918208</td>\n",
       "      <td>4.223117</td>\n",
       "      <td>4.214222</td>\n",
       "      <td>-0.008895</td>\n",
       "      <td>ctctagacatacctgttctgggcatttcatgtacaagtattataca...</td>\n",
       "      <td>hob.159537|chr8:53917937-53918208</td>\n",
       "      <td>0</td>\n",
       "    </tr>\n",
       "    <tr>\n",
       "      <th>80891</th>\n",
       "      <td>chr10</td>\n",
       "      <td>112137466</td>\n",
       "      <td>112137737</td>\n",
       "      <td>hob.159539</td>\n",
       "      <td>chr10:112137466-112137737</td>\n",
       "      <td>4.992942</td>\n",
       "      <td>4.993020</td>\n",
       "      <td>0.000078</td>\n",
       "      <td>ACACGGTGCTTCTGAGGCCCTGAGACGCCCCAAACCTCTTCCATTC...</td>\n",
       "      <td>hob.159539|chr10:112137466-112137737</td>\n",
       "      <td>0</td>\n",
       "    </tr>\n",
       "  </tbody>\n",
       "</table>\n",
       "<p>80892 rows × 11 columns</p>\n",
       "</div>"
      ],
      "text/plain": [
       "        #chr  start_trim   end_trim        type                     seq.id  \\\n",
       "0      chr20    35771828   35772099       hob.1    chr20:35771828-35772099   \n",
       "1       chr3   127075008  127075279       hob.2   chr3:127075008-127075279   \n",
       "2      chr16    82016933   82017204       hob.3    chr16:82016933-82017204   \n",
       "3      chr10    72334959   72335230       hob.4    chr10:72334959-72335230   \n",
       "4       chr3    79005150   79005421       hob.5     chr3:79005150-79005421   \n",
       "...      ...         ...        ...         ...                        ...   \n",
       "80887   chr1    45550657   45550928  hob.159532     chr1:45550657-45550928   \n",
       "80888   chr3   194494080  194494351  hob.159535   chr3:194494080-194494351   \n",
       "80889   chr8    25418233   25418504  hob.159536     chr8:25418233-25418504   \n",
       "80890   chr8    53917937   53918208  hob.159537     chr8:53917937-53918208   \n",
       "80891  chr10   112137466  112137737  hob.159539  chr10:112137466-112137737   \n",
       "\n",
       "             US      ctrl    US_DIF  \\\n",
       "0      8.646043  8.194171 -0.451872   \n",
       "1      7.579306  6.978627 -0.600679   \n",
       "2      4.529926  3.056418 -1.473507   \n",
       "3      8.425374  7.987680 -0.437694   \n",
       "4      6.222658  5.418704 -0.803954   \n",
       "...         ...       ...       ...   \n",
       "80887  7.216230  7.218726  0.002495   \n",
       "80888  6.065404  6.066099  0.000695   \n",
       "80889  4.884313  4.883241 -0.001072   \n",
       "80890  4.223117  4.214222 -0.008895   \n",
       "80891  4.992942  4.993020  0.000078   \n",
       "\n",
       "                                                     seq  \\\n",
       "0      TAGGGCGCGGGCCTGTTTCCCGCGCGTCAGGGTAGTGGGCGTGGCC...   \n",
       "1      GTGAGCTGGGCTATGCTTGGTTGGTCTGGGCTGAGCTCCACGGTCT...   \n",
       "2      CTAGAAACATAGCCTTTAGAGACAGAGTGATGGAGATTTGGATCCT...   \n",
       "3      CCCCCATTCGCCGGGCTGCAGAAGGAGGGAGCCTGCTACCAGCAAC...   \n",
       "4      TTGGTGACGGTTTCCAGCTTCAAATGAATCAGCTCTCCTTGCCCAG...   \n",
       "...                                                  ...   \n",
       "80887  ACGGATGGCATTGTGAATCCGGAGGGCCGACACCAGAAGAACCTGC...   \n",
       "80888  actttgctccagggccaaactcttgaccactatAACCAAATGAAGC...   \n",
       "80889  GCAAGTTATCTGAAATTTGTTTTTTTTTTTCCAATGGTCTCATAGC...   \n",
       "80890  ctctagacatacctgttctgggcatttcatgtacaagtattataca...   \n",
       "80891  ACACGGTGCTTCTGAGGCCCTGAGACGCCCCAAACCTCTTCCATTC...   \n",
       "\n",
       "                                  coor.type  diffAcc  \n",
       "0             hob.1|chr20:35771828-35772099        1  \n",
       "1            hob.2|chr3:127075008-127075279        1  \n",
       "2             hob.3|chr16:82016933-82017204        1  \n",
       "3             hob.4|chr10:72334959-72335230        1  \n",
       "4              hob.5|chr3:79005150-79005421        1  \n",
       "...                                     ...      ...  \n",
       "80887     hob.159532|chr1:45550657-45550928        0  \n",
       "80888   hob.159535|chr3:194494080-194494351        0  \n",
       "80889     hob.159536|chr8:25418233-25418504        0  \n",
       "80890     hob.159537|chr8:53917937-53918208        0  \n",
       "80891  hob.159539|chr10:112137466-112137737        0  \n",
       "\n",
       "[80892 rows x 11 columns]"
      ]
     },
     "execution_count": 13,
     "metadata": {},
     "output_type": "execute_result"
    }
   ],
   "source": [
    "table"
   ]
  },
  {
   "cell_type": "markdown",
   "id": "13a17409-e10e-487f-b353-873e94160c14",
   "metadata": {},
   "source": [
    "## train on all atac peaks"
   ]
  },
  {
   "cell_type": "code",
   "execution_count": 16,
   "id": "94c6f773",
   "metadata": {
    "ExecuteTime": {
     "end_time": "2024-03-25T22:12:48.317855Z",
     "start_time": "2024-03-25T22:12:40.104390Z"
    }
   },
   "outputs": [],
   "source": [
    "os.chdir(DATA_PATH)\n",
    "\n",
    "table = dfShuffle(table)  # shuffle the table before splitting\n",
    "\n",
    "train, val, test = splitTrainTestVal(table, val_chr_list=[VAL_CHR], test_chr_list=TEST_CHR)\n",
    "\n",
    "writeFa(test[fa_cols], TEST_FA)\n",
    "writeFa(train[fa_cols], TRAIN_FA)\n",
    "writeFa(val[fa_cols], VAL_FA)"
   ]
  },
  {
   "cell_type": "code",
   "execution_count": 18,
   "id": "0a74d00b-8db6-42ed-acf5-87354608e58d",
   "metadata": {
    "ExecuteTime": {
     "end_time": "2024-03-25T22:13:36.726536Z",
     "start_time": "2024-03-25T22:13:35.946689Z"
    }
   },
   "outputs": [],
   "source": [
    "if \"reg\" in PREFIX:\n",
    "    \n",
    "    cols = [\"coor.type\",\n",
    "        \"US\",\n",
    "        \"ctrl\", \n",
    "       # \"US_DIF\"\n",
    "       ]\n",
    "elif \"class\" in PREFIX:\n",
    "    cols=[\"coor.type\", \"diffAcc\"]\n",
    "    \n",
    "test[cols].to_csv(TEST_TARGET, sep='\\t', index=False)\n",
    "train[cols].to_csv(TRAIN_TARGET, sep='\\t', index=False)\n",
    "val[cols].to_csv(VAL_TARGET, sep='\\t', index=False)"
   ]
  },
  {
   "cell_type": "code",
   "execution_count": 19,
   "id": "e5a18fec",
   "metadata": {
    "ExecuteTime": {
     "end_time": "2024-03-25T22:13:38.281087Z",
     "start_time": "2024-03-25T22:13:38.276679Z"
    }
   },
   "outputs": [
    {
     "data": {
      "text/plain": [
       "((4011, 11), (73339, 11), (3542, 11))"
      ]
     },
     "execution_count": 19,
     "metadata": {},
     "output_type": "execute_result"
    }
   ],
   "source": [
    "val.shape, train.shape, test.shape"
   ]
  },
  {
   "cell_type": "code",
   "execution_count": 24,
   "id": "064f5f39",
   "metadata": {
    "ExecuteTime": {
     "end_time": "2024-03-25T22:40:08.086936Z",
     "start_time": "2024-03-25T22:40:08.070051Z"
    }
   },
   "outputs": [
    {
     "data": {
      "text/html": [
       "<div>\n",
       "<style scoped>\n",
       "    .dataframe tbody tr th:only-of-type {\n",
       "        vertical-align: middle;\n",
       "    }\n",
       "\n",
       "    .dataframe tbody tr th {\n",
       "        vertical-align: top;\n",
       "    }\n",
       "\n",
       "    .dataframe thead th {\n",
       "        text-align: right;\n",
       "    }\n",
       "</style>\n",
       "<table border=\"1\" class=\"dataframe\">\n",
       "  <thead>\n",
       "    <tr style=\"text-align: right;\">\n",
       "      <th></th>\n",
       "      <th>#chr</th>\n",
       "      <th>start_trim</th>\n",
       "      <th>end_trim</th>\n",
       "      <th>type</th>\n",
       "      <th>seq.id</th>\n",
       "      <th>US</th>\n",
       "      <th>ctrl</th>\n",
       "      <th>US_DIF</th>\n",
       "      <th>seq</th>\n",
       "      <th>coor.type</th>\n",
       "      <th>diffAcc</th>\n",
       "    </tr>\n",
       "  </thead>\n",
       "  <tbody>\n",
       "    <tr>\n",
       "      <th>148</th>\n",
       "      <td>chr22</td>\n",
       "      <td>26471549</td>\n",
       "      <td>26471820</td>\n",
       "      <td>hob.974</td>\n",
       "      <td>chr22:26471549-26471820</td>\n",
       "      <td>5.845527</td>\n",
       "      <td>5.294266</td>\n",
       "      <td>-0.551261</td>\n",
       "      <td>ATTCTTCATAGCCTCAAGACTGTGCCATCCCAGCCAGCCATTCTAT...</td>\n",
       "      <td>hob.974|chr22:26471549-26471820</td>\n",
       "      <td>1</td>\n",
       "    </tr>\n",
       "    <tr>\n",
       "      <th>229</th>\n",
       "      <td>chr17</td>\n",
       "      <td>40486124</td>\n",
       "      <td>40486395</td>\n",
       "      <td>hob.1494</td>\n",
       "      <td>chr17:40486124-40486395</td>\n",
       "      <td>8.916594</td>\n",
       "      <td>8.677527</td>\n",
       "      <td>-0.239067</td>\n",
       "      <td>TGCTAGAGCTTAGCTTCTGGGTTTACTGCTTGGGTTTGTTCTTCTT...</td>\n",
       "      <td>hob.1494|chr17:40486124-40486395</td>\n",
       "      <td>1</td>\n",
       "    </tr>\n",
       "    <tr>\n",
       "      <th>276</th>\n",
       "      <td>chr14</td>\n",
       "      <td>69317134</td>\n",
       "      <td>69317405</td>\n",
       "      <td>hob.2060</td>\n",
       "      <td>chr14:69317134-69317405</td>\n",
       "      <td>7.749388</td>\n",
       "      <td>7.454315</td>\n",
       "      <td>-0.295073</td>\n",
       "      <td>ccaggatctccagtctcttgagctggtccagatatagctcctcatg...</td>\n",
       "      <td>hob.2060|chr14:69317134-69317405</td>\n",
       "      <td>1</td>\n",
       "    </tr>\n",
       "    <tr>\n",
       "      <th>310</th>\n",
       "      <td>chr15</td>\n",
       "      <td>92882411</td>\n",
       "      <td>92882682</td>\n",
       "      <td>hob.92</td>\n",
       "      <td>chr15:92882411-92882682</td>\n",
       "      <td>9.313575</td>\n",
       "      <td>9.011314</td>\n",
       "      <td>-0.302260</td>\n",
       "      <td>CTCAAGAAAACCAGAAACGCCTACGGACAGTGAATGGCACTAAGGC...</td>\n",
       "      <td>hob.92|chr15:92882411-92882682</td>\n",
       "      <td>1</td>\n",
       "    </tr>\n",
       "    <tr>\n",
       "      <th>380</th>\n",
       "      <td>chr19</td>\n",
       "      <td>48325951</td>\n",
       "      <td>48326222</td>\n",
       "      <td>hob.1502</td>\n",
       "      <td>chr19:48325951-48326222</td>\n",
       "      <td>7.404366</td>\n",
       "      <td>7.067680</td>\n",
       "      <td>-0.336686</td>\n",
       "      <td>TGGGAGGCTAACTCCTTCTTGGGCCTCTCTTCCCCCCAGCGCGAAT...</td>\n",
       "      <td>hob.1502|chr19:48325951-48326222</td>\n",
       "      <td>1</td>\n",
       "    </tr>\n",
       "    <tr>\n",
       "      <th>...</th>\n",
       "      <td>...</td>\n",
       "      <td>...</td>\n",
       "      <td>...</td>\n",
       "      <td>...</td>\n",
       "      <td>...</td>\n",
       "      <td>...</td>\n",
       "      <td>...</td>\n",
       "      <td>...</td>\n",
       "      <td>...</td>\n",
       "      <td>...</td>\n",
       "      <td>...</td>\n",
       "    </tr>\n",
       "    <tr>\n",
       "      <th>80805</th>\n",
       "      <td>chr10</td>\n",
       "      <td>48306416</td>\n",
       "      <td>48306687</td>\n",
       "      <td>hob.336</td>\n",
       "      <td>chr10:48306416-48306687</td>\n",
       "      <td>8.305881</td>\n",
       "      <td>8.012875</td>\n",
       "      <td>-0.293006</td>\n",
       "      <td>GCCGCCACAGGGCCCGCCCCTCCCGCTCCAGGCCACGCCCCTCACC...</td>\n",
       "      <td>hob.336|chr10:48306416-48306687</td>\n",
       "      <td>1</td>\n",
       "    </tr>\n",
       "    <tr>\n",
       "      <th>80842</th>\n",
       "      <td>chr19</td>\n",
       "      <td>44870158</td>\n",
       "      <td>44870429</td>\n",
       "      <td>hob.1228</td>\n",
       "      <td>chr19:44870158-44870429</td>\n",
       "      <td>6.380349</td>\n",
       "      <td>5.924097</td>\n",
       "      <td>-0.456252</td>\n",
       "      <td>GCACAAAATCACCAACCAAAACCCCAAAGTGGGTGGAGGCAGAGAC...</td>\n",
       "      <td>hob.1228|chr19:44870158-44870429</td>\n",
       "      <td>1</td>\n",
       "    </tr>\n",
       "    <tr>\n",
       "      <th>80859</th>\n",
       "      <td>chr10</td>\n",
       "      <td>48634381</td>\n",
       "      <td>48634652</td>\n",
       "      <td>hob.341</td>\n",
       "      <td>chr10:48634381-48634652</td>\n",
       "      <td>7.744561</td>\n",
       "      <td>7.359510</td>\n",
       "      <td>-0.385051</td>\n",
       "      <td>TGCTGGGTGCAGAGGGCGGTGAGCCTGCACTGTGGTTTGCCCATTT...</td>\n",
       "      <td>hob.341|chr10:48634381-48634652</td>\n",
       "      <td>1</td>\n",
       "    </tr>\n",
       "    <tr>\n",
       "      <th>80866</th>\n",
       "      <td>chr5</td>\n",
       "      <td>73448639</td>\n",
       "      <td>73448910</td>\n",
       "      <td>hob.2049</td>\n",
       "      <td>chr5:73448639-73448910</td>\n",
       "      <td>8.334268</td>\n",
       "      <td>8.088882</td>\n",
       "      <td>-0.245387</td>\n",
       "      <td>CTCGGAGCAGCTTTTGCCCCGTCAGCTGAGGAGGGGGTGGCGGGGC...</td>\n",
       "      <td>hob.2049|chr5:73448639-73448910</td>\n",
       "      <td>1</td>\n",
       "    </tr>\n",
       "    <tr>\n",
       "      <th>80872</th>\n",
       "      <td>chr6</td>\n",
       "      <td>72827126</td>\n",
       "      <td>72827397</td>\n",
       "      <td>hob.3146</td>\n",
       "      <td>chr6:72827126-72827397</td>\n",
       "      <td>6.404170</td>\n",
       "      <td>6.024079</td>\n",
       "      <td>-0.380091</td>\n",
       "      <td>gtggtacacctcagttgatgctgtatcttggctattgtgaatagtg...</td>\n",
       "      <td>hob.3146|chr6:72827126-72827397</td>\n",
       "      <td>1</td>\n",
       "    </tr>\n",
       "  </tbody>\n",
       "</table>\n",
       "<p>1835 rows × 11 columns</p>\n",
       "</div>"
      ],
      "text/plain": [
       "        #chr  start_trim  end_trim      type                   seq.id  \\\n",
       "148    chr22    26471549  26471820   hob.974  chr22:26471549-26471820   \n",
       "229    chr17    40486124  40486395  hob.1494  chr17:40486124-40486395   \n",
       "276    chr14    69317134  69317405  hob.2060  chr14:69317134-69317405   \n",
       "310    chr15    92882411  92882682    hob.92  chr15:92882411-92882682   \n",
       "380    chr19    48325951  48326222  hob.1502  chr19:48325951-48326222   \n",
       "...      ...         ...       ...       ...                      ...   \n",
       "80805  chr10    48306416  48306687   hob.336  chr10:48306416-48306687   \n",
       "80842  chr19    44870158  44870429  hob.1228  chr19:44870158-44870429   \n",
       "80859  chr10    48634381  48634652   hob.341  chr10:48634381-48634652   \n",
       "80866   chr5    73448639  73448910  hob.2049   chr5:73448639-73448910   \n",
       "80872   chr6    72827126  72827397  hob.3146   chr6:72827126-72827397   \n",
       "\n",
       "             US      ctrl    US_DIF  \\\n",
       "148    5.845527  5.294266 -0.551261   \n",
       "229    8.916594  8.677527 -0.239067   \n",
       "276    7.749388  7.454315 -0.295073   \n",
       "310    9.313575  9.011314 -0.302260   \n",
       "380    7.404366  7.067680 -0.336686   \n",
       "...         ...       ...       ...   \n",
       "80805  8.305881  8.012875 -0.293006   \n",
       "80842  6.380349  5.924097 -0.456252   \n",
       "80859  7.744561  7.359510 -0.385051   \n",
       "80866  8.334268  8.088882 -0.245387   \n",
       "80872  6.404170  6.024079 -0.380091   \n",
       "\n",
       "                                                     seq  \\\n",
       "148    ATTCTTCATAGCCTCAAGACTGTGCCATCCCAGCCAGCCATTCTAT...   \n",
       "229    TGCTAGAGCTTAGCTTCTGGGTTTACTGCTTGGGTTTGTTCTTCTT...   \n",
       "276    ccaggatctccagtctcttgagctggtccagatatagctcctcatg...   \n",
       "310    CTCAAGAAAACCAGAAACGCCTACGGACAGTGAATGGCACTAAGGC...   \n",
       "380    TGGGAGGCTAACTCCTTCTTGGGCCTCTCTTCCCCCCAGCGCGAAT...   \n",
       "...                                                  ...   \n",
       "80805  GCCGCCACAGGGCCCGCCCCTCCCGCTCCAGGCCACGCCCCTCACC...   \n",
       "80842  GCACAAAATCACCAACCAAAACCCCAAAGTGGGTGGAGGCAGAGAC...   \n",
       "80859  TGCTGGGTGCAGAGGGCGGTGAGCCTGCACTGTGGTTTGCCCATTT...   \n",
       "80866  CTCGGAGCAGCTTTTGCCCCGTCAGCTGAGGAGGGGGTGGCGGGGC...   \n",
       "80872  gtggtacacctcagttgatgctgtatcttggctattgtgaatagtg...   \n",
       "\n",
       "                              coor.type  diffAcc  \n",
       "148     hob.974|chr22:26471549-26471820        1  \n",
       "229    hob.1494|chr17:40486124-40486395        1  \n",
       "276    hob.2060|chr14:69317134-69317405        1  \n",
       "310      hob.92|chr15:92882411-92882682        1  \n",
       "380    hob.1502|chr19:48325951-48326222        1  \n",
       "...                                 ...      ...  \n",
       "80805   hob.336|chr10:48306416-48306687        1  \n",
       "80842  hob.1228|chr19:44870158-44870429        1  \n",
       "80859   hob.341|chr10:48634381-48634652        1  \n",
       "80866   hob.2049|chr5:73448639-73448910        1  \n",
       "80872   hob.3146|chr6:72827126-72827397        1  \n",
       "\n",
       "[1835 rows x 11 columns]"
      ]
     },
     "execution_count": 24,
     "metadata": {},
     "output_type": "execute_result"
    }
   ],
   "source": [
    "train.loc[train[\"diffAcc\"]>0] # ctrl - US <0 means US has more activity than control"
   ]
  },
  {
   "cell_type": "code",
   "execution_count": 25,
   "id": "43901a50",
   "metadata": {
    "ExecuteTime": {
     "end_time": "2024-03-25T22:40:33.801650Z",
     "start_time": "2024-03-25T22:40:33.794361Z"
    }
   },
   "outputs": [
    {
     "data": {
      "text/plain": [
       "0.025020793847748128"
      ]
     },
     "execution_count": 25,
     "metadata": {},
     "output_type": "execute_result"
    }
   ],
   "source": [
    "train.loc[train[\"diffAcc\"]>0].shape[0]/train.shape[0]"
   ]
  },
  {
   "cell_type": "code",
   "execution_count": 26,
   "id": "27c7a9c1",
   "metadata": {
    "ExecuteTime": {
     "end_time": "2024-03-25T22:41:00.577831Z",
     "start_time": "2024-03-25T22:41:00.572787Z"
    }
   },
   "outputs": [
    {
     "data": {
      "text/plain": [
       "0.02144103714784343"
      ]
     },
     "execution_count": 26,
     "metadata": {},
     "output_type": "execute_result"
    }
   ],
   "source": [
    "val.loc[val[\"diffAcc\"]>0].shape[0]/val.shape[0]"
   ]
  },
  {
   "cell_type": "code",
   "execution_count": 27,
   "id": "b12a09f5",
   "metadata": {
    "ExecuteTime": {
     "end_time": "2024-03-25T22:41:07.373074Z",
     "start_time": "2024-03-25T22:41:07.368127Z"
    }
   },
   "outputs": [
    {
     "data": {
      "text/plain": [
       "0.018351214003387916"
      ]
     },
     "execution_count": 27,
     "metadata": {},
     "output_type": "execute_result"
    }
   ],
   "source": [
    "test.loc[test[\"diffAcc\"]>0].shape[0]/test.shape[0]"
   ]
  },
  {
   "cell_type": "code",
   "execution_count": 30,
   "id": "25a19db1",
   "metadata": {
    "ExecuteTime": {
     "end_time": "2024-03-25T22:42:47.642720Z",
     "start_time": "2024-03-25T22:42:47.638257Z"
    }
   },
   "outputs": [
    {
     "data": {
      "text/plain": [
       "0.01396255743874337"
      ]
     },
     "execution_count": 30,
     "metadata": {},
     "output_type": "execute_result"
    }
   ],
   "source": [
    "1024/train.shape[0]"
   ]
  },
  {
   "cell_type": "code",
   "execution_count": 31,
   "id": "de9f4ae8",
   "metadata": {
    "ExecuteTime": {
     "end_time": "2024-03-25T22:43:26.460897Z",
     "start_time": "2024-03-25T22:43:26.457025Z"
    }
   },
   "outputs": [
    {
     "data": {
      "text/plain": [
       "0.0008726598399214606"
      ]
     },
     "execution_count": 31,
     "metadata": {},
     "output_type": "execute_result"
    }
   ],
   "source": [
    "64/train.shape[0]"
   ]
  },
  {
   "cell_type": "code",
   "execution_count": null,
   "id": "e6b6bcd2",
   "metadata": {},
   "outputs": [],
   "source": []
  }
 ],
 "metadata": {
  "kernelspec": {
   "display_name": "Python (mamba)",
   "language": "python",
   "name": "mamba"
  },
  "language_info": {
   "codemirror_mode": {
    "name": "ipython",
    "version": 3
   },
   "file_extension": ".py",
   "mimetype": "text/x-python",
   "name": "python",
   "nbconvert_exporter": "python",
   "pygments_lexer": "ipython3",
   "version": "3.9.16"
  },
  "toc": {
   "base_numbering": 1,
   "nav_menu": {},
   "number_sections": true,
   "sideBar": true,
   "skip_h1_title": false,
   "title_cell": "Table of Contents",
   "title_sidebar": "Contents",
   "toc_cell": false,
   "toc_position": {
    "height": "calc(100% - 180px)",
    "left": "10px",
    "top": "150px",
    "width": "302.4px"
   },
   "toc_section_display": true,
   "toc_window_display": true
  },
  "varInspector": {
   "cols": {
    "lenName": 16,
    "lenType": 16,
    "lenVar": 40
   },
   "kernels_config": {
    "python": {
     "delete_cmd_postfix": "",
     "delete_cmd_prefix": "del ",
     "library": "var_list.py",
     "varRefreshCmd": "print(var_dic_list())"
    },
    "r": {
     "delete_cmd_postfix": ") ",
     "delete_cmd_prefix": "rm(",
     "library": "var_list.r",
     "varRefreshCmd": "cat(var_dic_list()) "
    }
   },
   "types_to_exclude": [
    "module",
    "function",
    "builtin_function_or_method",
    "instance",
    "_Feature"
   ],
   "window_display": false
  }
 },
 "nbformat": 4,
 "nbformat_minor": 5
}
