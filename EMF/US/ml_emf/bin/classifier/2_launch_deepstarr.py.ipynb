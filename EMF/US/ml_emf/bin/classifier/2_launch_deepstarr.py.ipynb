{
 "cells": [
  {
   "cell_type": "code",
   "execution_count": 1,
   "id": "398b9a09",
   "metadata": {
    "ExecuteTime": {
     "end_time": "2024-02-22T23:35:18.852880Z",
     "start_time": "2024-02-22T23:35:18.849823Z"
    }
   },
   "outputs": [],
   "source": [
    "import os, sys"
   ]
  },
  {
   "cell_type": "code",
   "execution_count": 2,
   "id": "aa764a4d",
   "metadata": {
    "ExecuteTime": {
     "end_time": "2024-02-22T23:37:46.915524Z",
     "start_time": "2024-02-22T23:37:46.911801Z"
    }
   },
   "outputs": [],
   "source": [
    "prefix = \"class.all\"\n",
    "data_path = \"/wynton/home/ahituv/fongsl/EMF/US/ml_emf/data/deepstarr\"\n",
    "prediction_task = \"class\" # \"reg\""
   ]
  },
  {
   "cell_type": "code",
   "execution_count": 4,
   "id": "73e1a91e",
   "metadata": {
    "ExecuteTime": {
     "end_time": "2024-02-22T23:37:59.625821Z",
     "start_time": "2024-02-22T23:37:59.622062Z"
    }
   },
   "outputs": [],
   "source": [
    "def launchCmd(prefix, data_path, terminal=\"qsub\"):\n",
    "    if terminal == \"python\":\n",
    "        cmd = [\"python\",\n",
    "               \"deepstarr.py\",\n",
    "               prefix,\n",
    "               data_path\n",
    "               ]\n",
    "\n",
    "    elif terminal == \"qsub\":\n",
    "        cmd = [\"qsub\",\n",
    "               \"deepstarr.cpu.sh\",\n",
    "               prefix,\n",
    "               data_path\n",
    "               ]\n",
    "    return \" \".join(cmd)"
   ]
  },
  {
   "cell_type": "code",
   "execution_count": 5,
   "id": "7ab95d5f",
   "metadata": {
    "ExecuteTime": {
     "end_time": "2024-02-22T23:38:06.854967Z",
     "start_time": "2024-02-22T23:38:06.846937Z"
    }
   },
   "outputs": [
    {
     "data": {
      "text/plain": [
       "'qsub deepstarr.cpu.sh class.all /wynton/home/ahituv/fongsl/EMF/US/ml_emf/data/deepstarr'"
      ]
     },
     "execution_count": 5,
     "metadata": {},
     "output_type": "execute_result"
    }
   ],
   "source": [
    "launchCmd(prefix, data_path, terminal=\"qsub\")"
   ]
  },
  {
   "cell_type": "code",
   "execution_count": null,
   "id": "1ce39143",
   "metadata": {},
   "outputs": [],
   "source": []
  }
 ],
 "metadata": {
  "kernelspec": {
   "display_name": "DeepSTARR",
   "language": "python",
   "name": "deepstarr"
  },
  "language_info": {
   "codemirror_mode": {
    "name": "ipython",
    "version": 3
   },
   "file_extension": ".py",
   "mimetype": "text/x-python",
   "name": "python",
   "nbconvert_exporter": "python",
   "pygments_lexer": "ipython3",
   "version": "3.7.16"
  },
  "toc": {
   "base_numbering": 1,
   "nav_menu": {},
   "number_sections": true,
   "sideBar": true,
   "skip_h1_title": false,
   "title_cell": "Table of Contents",
   "title_sidebar": "Contents",
   "toc_cell": false,
   "toc_position": {},
   "toc_section_display": true,
   "toc_window_display": false
  },
  "varInspector": {
   "cols": {
    "lenName": 16,
    "lenType": 16,
    "lenVar": 40
   },
   "kernels_config": {
    "python": {
     "delete_cmd_postfix": "",
     "delete_cmd_prefix": "del ",
     "library": "var_list.py",
     "varRefreshCmd": "print(var_dic_list())"
    },
    "r": {
     "delete_cmd_postfix": ") ",
     "delete_cmd_prefix": "rm(",
     "library": "var_list.r",
     "varRefreshCmd": "cat(var_dic_list()) "
    }
   },
   "types_to_exclude": [
    "module",
    "function",
    "builtin_function_or_method",
    "instance",
    "_Feature"
   ],
   "window_display": false
  }
 },
 "nbformat": 4,
 "nbformat_minor": 5
}
