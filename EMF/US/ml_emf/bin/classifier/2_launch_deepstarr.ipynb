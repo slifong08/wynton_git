{
 "cells": [
  {
   "cell_type": "markdown",
   "id": "d859b7fc-cb6b-4c60-abf0-bc77d4bee367",
   "metadata": {},
   "source": [
    "# launch deepstarr"
   ]
  },
  {
   "cell_type": "code",
   "execution_count": 10,
   "id": "398b9a09",
   "metadata": {
    "ExecuteTime": {
     "end_time": "2024-04-19T22:11:11.520446Z",
     "start_time": "2024-04-19T22:11:11.517725Z"
    }
   },
   "outputs": [],
   "source": [
    "import os, sys"
   ]
  },
  {
   "cell_type": "code",
   "execution_count": 13,
   "id": "aa764a4d",
   "metadata": {
    "ExecuteTime": {
     "end_time": "2024-04-19T22:11:12.709236Z",
     "start_time": "2024-04-19T22:11:12.705584Z"
    }
   },
   "outputs": [
    {
     "name": "stdout",
     "output_type": "stream",
     "text": [
      "/wynton/home/ahituv/fongsl/EMF/US/ml_emf/data/deepstarr/deseq2/pos/class.all.balanced_window\n"
     ]
    }
   ],
   "source": [
    "cl = \"pos\"#'hepg2'\n",
    "peak_calls = \"deseq2\"  # or count_matrix\n",
    "prefix = f\"class.all\" #\"reg.all.8tasks.25epoch\" # class.all class.nojoint reg.all reg.nojoint\n",
    "\n",
    "balanced_window = \".balanced_window\"\n",
    "if balanced_window is not None:\n",
    "    data_path = os.path.join(\"/wynton/home/ahituv/fongsl/EMF/US/ml_emf/data/deepstarr/\", \n",
    "                         peak_calls, cl, prefix+balanced_window)\n",
    "else:\n",
    "    data_path = os.path.join(\"/wynton/home/ahituv/fongsl/EMF/US/ml_emf/data/deepstarr/\", \n",
    "                         peak_calls, cl, prefix)\n",
    "\n",
    "#data_path = \"/wynton/home/ahituv/fongsl/MPRA/agarwal_2023/\"\n",
    "#prefix = f\"class.{cl}.balanced\" #\"reg.all.8tasks.25epoch\" # class.all class.nojoint reg.all reg.nojoint\n",
    "\n",
    "if \"reg\" in prefix:\n",
    "    prediction_task = \"reg\"\n",
    "else:\n",
    "    prediction_task = \"class\"\n",
    "    \n",
    "#standard_scaling = \"False\"\n",
    "print(data_path)"
   ]
  },
  {
   "cell_type": "code",
   "execution_count": 14,
   "id": "73e1a91e",
   "metadata": {
    "ExecuteTime": {
     "end_time": "2024-04-19T22:11:17.122171Z",
     "start_time": "2024-04-19T22:11:17.118210Z"
    }
   },
   "outputs": [],
   "source": [
    "def launchCmd(prefix, data_path, prediction_task, terminal=\"qsub\"):\n",
    "    if terminal == \"python\":\n",
    "        cmd = [\"python\",\n",
    "               \"deepstarr.py\",\n",
    "               prefix,\n",
    "               data_path,\n",
    "               prediction_task,\n",
    "               #standard_scaling, \n",
    "\n",
    "               ]\n",
    "\n",
    "    elif terminal == \"qsub\":\n",
    "        cmd = [\"qsub\",\n",
    "               \"deepstarr.cpu.sh\",\n",
    "               prefix,\n",
    "               data_path,\n",
    "               prediction_task,\n",
    "               #standard_scaling, \n",
    "\n",
    "               ]\n",
    "    elif terminal == \"qsub-q\":\n",
    "        cmd = [\"qsub -q gpu.q\",\n",
    "               \"deepstarr.gpu.sh\",\n",
    "               prefix,\n",
    "               data_path,\n",
    "               prediction_task,\n",
    "               #standard_scaling, \n",
    "\n",
    "               ]\n",
    "\n",
    "    return \" \".join(cmd)"
   ]
  },
  {
   "cell_type": "code",
   "execution_count": 15,
   "id": "7ab95d5f",
   "metadata": {
    "ExecuteTime": {
     "end_time": "2024-04-19T22:12:11.220906Z",
     "start_time": "2024-04-19T22:12:11.216810Z"
    }
   },
   "outputs": [
    {
     "data": {
      "text/plain": [
       "'qsub deepstarr.cpu.sh class.all /wynton/home/ahituv/fongsl/EMF/US/ml_emf/data/deepstarr/deseq2/pos/class.all.balanced_window class'"
      ]
     },
     "execution_count": 15,
     "metadata": {},
     "output_type": "execute_result"
    }
   ],
   "source": [
    "cmd = launchCmd(prefix, data_path, prediction_task, terminal=\"qsub\")\n",
    "cmd"
   ]
  },
  {
   "cell_type": "code",
   "execution_count": 16,
   "id": "1ce39143",
   "metadata": {
    "ExecuteTime": {
     "end_time": "2024-04-19T22:12:12.960217Z",
     "start_time": "2024-04-19T22:12:12.905225Z"
    }
   },
   "outputs": [
    {
     "name": "stdout",
     "output_type": "stream",
     "text": [
      "Your job 1208968 (\"deepstarr.cpu.sh\") has been submitted\n"
     ]
    },
    {
     "data": {
      "text/plain": [
       "0"
      ]
     },
     "execution_count": 16,
     "metadata": {},
     "output_type": "execute_result"
    }
   ],
   "source": [
    "os.system(cmd)"
   ]
  },
  {
   "cell_type": "code",
   "execution_count": 9,
   "id": "bc5602f8",
   "metadata": {
    "ExecuteTime": {
     "end_time": "2024-04-19T22:45:29.050172Z",
     "start_time": "2024-04-19T22:43:54.817333Z"
    }
   },
   "outputs": [
    {
     "name": "stderr",
     "output_type": "stream",
     "text": [
      "2024-04-19 15:43:57.833707: I tensorflow/tsl/cuda/cudart_stub.cc:28] Could not find cuda drivers on your machine, GPU will not be used.\n",
      "2024-04-19 15:43:58.344597: I tensorflow/tsl/cuda/cudart_stub.cc:28] Could not find cuda drivers on your machine, GPU will not be used.\n",
      "2024-04-19 15:43:58.346112: I tensorflow/core/platform/cpu_feature_guard.cc:182] This TensorFlow binary is optimized to use available CPU instructions in performance-critical operations.\n",
      "To enable the following instructions: AVX2 FMA, in other operations, rebuild TensorFlow with the appropriate compiler flags.\n",
      "2024-04-19 15:44:28.315261: W tensorflow/compiler/tf2tensorrt/utils/py_utils.cc:38] TF-TRT Warning: Could not find TensorRT\n"
     ]
    }
   ],
   "source": [
    "import tensorflow as tf"
   ]
  },
  {
   "cell_type": "code",
   "execution_count": null,
   "id": "7faadae5",
   "metadata": {},
   "outputs": [],
   "source": []
  }
 ],
 "metadata": {
  "kernelspec": {
   "display_name": "Python (mamba)",
   "language": "python",
   "name": "mamba"
  },
  "language_info": {
   "codemirror_mode": {
    "name": "ipython",
    "version": 3
   },
   "file_extension": ".py",
   "mimetype": "text/x-python",
   "name": "python",
   "nbconvert_exporter": "python",
   "pygments_lexer": "ipython3",
   "version": "3.9.16"
  },
  "toc": {
   "base_numbering": 1,
   "nav_menu": {},
   "number_sections": true,
   "sideBar": true,
   "skip_h1_title": false,
   "title_cell": "Table of Contents",
   "title_sidebar": "Contents",
   "toc_cell": false,
   "toc_position": {},
   "toc_section_display": true,
   "toc_window_display": false
  },
  "varInspector": {
   "cols": {
    "lenName": 16,
    "lenType": 16,
    "lenVar": 40
   },
   "kernels_config": {
    "python": {
     "delete_cmd_postfix": "",
     "delete_cmd_prefix": "del ",
     "library": "var_list.py",
     "varRefreshCmd": "print(var_dic_list())"
    },
    "r": {
     "delete_cmd_postfix": ") ",
     "delete_cmd_prefix": "rm(",
     "library": "var_list.r",
     "varRefreshCmd": "cat(var_dic_list()) "
    }
   },
   "types_to_exclude": [
    "module",
    "function",
    "builtin_function_or_method",
    "instance",
    "_Feature"
   ],
   "window_display": false
  }
 },
 "nbformat": 4,
 "nbformat_minor": 5
}
