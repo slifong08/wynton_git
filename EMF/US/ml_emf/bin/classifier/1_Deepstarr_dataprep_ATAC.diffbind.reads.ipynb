{
 "cells": [
  {
   "cell_type": "markdown",
   "id": "a38fcfaa-77c1-4bfb-abe0-05dbc4e4e87d",
   "metadata": {},
   "source": [
    "20240124\n",
    "\n",
    "SarahFong\n",
    "\n",
    "Take output from DiffBind summarized peak and count matrix and prepare data for \n",
    "1. Clean diffbind normalized count data (remove bad coordinates)\n",
    "2. Mean normalized read count: take mean of normalized count peaks, per condition\n",
    "3. Trim peaks: center 270 bp\n",
    "4. Format dataframe for LegNet, multitask\n",
    "5. Split into training and test set - randomly hold out 2 chromosomes. \n",
    "6. Add fold num to training set"
   ]
  },
  {
   "cell_type": "code",
   "execution_count": 1,
   "id": "24791ba6-ba9e-47c8-99ff-824a21c53b9b",
   "metadata": {
    "ExecuteTime": {
     "end_time": "2024-03-06T21:37:40.731430Z",
     "start_time": "2024-03-06T21:37:23.447402Z"
    }
   },
   "outputs": [
    {
     "data": {
      "text/plain": [
       "('sans-serif', 'Arial', 18)"
      ]
     },
     "execution_count": 1,
     "metadata": {},
     "output_type": "execute_result"
    }
   ],
   "source": [
    "from Bio.SeqIO.FastaIO import SimpleFastaParser\n",
    "import config_readwrite as crw\n",
    "import matplotlib.pyplot as plt\n",
    "import numpy as np\n",
    "import os, sys\n",
    "import pandas as pd\n",
    "\n",
    "from scipy import stats\n",
    "\n",
    "import seaborn as sns\n",
    "\n",
    "import warnings\n",
    "warnings.filterwarnings('ignore')\n",
    "\n",
    "import plot_params as pp\n",
    "pp.fonts()"
   ]
  },
  {
   "cell_type": "code",
   "execution_count": 3,
   "id": "4b15ddcf",
   "metadata": {
    "ExecuteTime": {
     "end_time": "2024-03-06T21:53:44.251726Z",
     "start_time": "2024-03-06T21:53:44.175908Z"
    }
   },
   "outputs": [],
   "source": [
    "config_name =os.path.join(os.getcwd(), \"config.multi.ini\")\n",
    "config, cfn = crw.read(config_name)"
   ]
  },
  {
   "cell_type": "markdown",
   "id": "de4c9f36-8609-4502-8a4c-3279a57f5c77",
   "metadata": {},
   "source": [
    "# load data"
   ]
  },
  {
   "cell_type": "markdown",
   "id": "3a8cce8b",
   "metadata": {},
   "source": [
    "## params"
   ]
  },
  {
   "cell_type": "code",
   "execution_count": 2,
   "id": "2ad78f44",
   "metadata": {
    "ExecuteTime": {
     "end_time": "2024-03-06T21:53:40.270817Z",
     "start_time": "2024-03-06T21:53:40.265368Z"
    }
   },
   "outputs": [],
   "source": [
    "CL = 'hepg2'\n",
    "\n",
    "PATH = \"/wynton/group/ahituv/data/US-MPRA/ATAC-seq\"\n",
    "DATA_PATH = \"/wynton/home/ahituv/fongsl/EMF/US/ml_emf/data/deepstarr\"\n",
    "\n",
    "TEST_CHR = [\"chr8\", \"chr17\"]\n",
    "VAL_CHR = \"chr12\"\n",
    "\n",
    "\n",
    "# peak information\n",
    "PEAK_SIZE = 270\n",
    "MIN_READ_DEPTH = 4\n",
    "\n",
    "# genome information\n",
    "HG38= \"/wynton/group/ahituv/data/dna/hg38/hg38.chrom.sizes\"\n",
    "FA_HG38=\"/wynton/group/ahituv/data/dna/hg38/hg38.fa\"\n",
    "\n",
    "\n",
    "cols = ['coor.type', \"seq\", \"ctrl\", \"US\", \"fold_num\"]\n",
    "fa_cols = ['coor.type', \"seq\"]\n"
   ]
  },
  {
   "cell_type": "markdown",
   "id": "66204a19",
   "metadata": {},
   "source": [
    "### set prefix"
   ]
  },
  {
   "cell_type": "code",
   "execution_count": 4,
   "id": "9f046089",
   "metadata": {
    "ExecuteTime": {
     "end_time": "2024-03-06T21:53:47.715888Z",
     "start_time": "2024-03-06T21:53:47.710025Z"
    }
   },
   "outputs": [],
   "source": [
    "PREFIX = \"class.all\"\n",
    "\n",
    "def setPrefixRules(prefix):\n",
    "    \"\"\" rules for processing datasets\"\"\"\n",
    "    if PREFIX ==\"class.all\":\n",
    "        QUANTILE_FILTER=False\n",
    "        MIN_READ_DEPTH_FILTER=False\n",
    "        JOINT_ACCESSIBLE=True\n",
    "        CLASS_LABEL = True\n",
    "\n",
    "    elif PREFIX ==\"class.nojoint\":\n",
    "        QUANTILE_FILTER=False\n",
    "        MIN_READ_DEPTH_FILTER=True\n",
    "        JOINT_ACCESSIBLE=False\n",
    "        CLASS_LABEL = True\n",
    "\n",
    "    elif PREFIX ==\"reg.all\":\n",
    "        QUANTILE_FILTER=False\n",
    "        MIN_READ_DEPTH_FILTER=False\n",
    "        JOINT_ACCESSIBLE=True\n",
    "        CLASS_LABEL = False\n",
    "\n",
    "    elif PREFIX ==\"reg.nojoint\":\n",
    "        QUANTILE_FILTER=False\n",
    "        MIN_READ_DEPTH_FILTER=True\n",
    "        JOINT_ACCESSIBLE=False\n",
    "        CLASS_LABEL = False\n",
    "    else:\n",
    "        print('need to add rules for', prefix)\n",
    "        \n",
    "    return QUANTILE_FILTER, MIN_READ_DEPTH_FILTER, JOINT_ACCESSIBLE, CLASS_LABEL\n"
   ]
  },
  {
   "cell_type": "markdown",
   "id": "790211dc",
   "metadata": {},
   "source": [
    "## base files"
   ]
  },
  {
   "cell_type": "code",
   "execution_count": 5,
   "id": "15b0b616-7254-4b4e-be68-8d745f4a629f",
   "metadata": {
    "ExecuteTime": {
     "end_time": "2024-03-06T21:53:48.294491Z",
     "start_time": "2024-03-06T21:53:48.289886Z"
    }
   },
   "outputs": [],
   "source": [
    "# files\n",
    "ALL = f\"{CL}_counts.txt\"\n",
    "CONTROL = f\"{CL}c_counts.txt\"\n",
    "TREATED = f\"{CL}t_counts.txt\"\n",
    "\n",
    "# DESEQ2 information\n",
    "DIFF = './diffbind_results/hepg2_deseq2.csv'\n",
    "DIFF_BED = \"./\" + DIFF.strip(\".csv\") + \".bed\"\n",
    "\n",
    "# write training, test files\n",
    "FULL = f\"{CL}.centered.coor.mean.reads.full.tsv\"\n",
    "HELD_OUT = f\"{CL}.heldoutchromosomes.tsv\"\n",
    "HELD_OUT_FA = f\"{CL}.heldoutchromosomes.fa\"\n",
    "TRAINING = f\"{CL}.training.tsv\""
   ]
  },
  {
   "cell_type": "markdown",
   "id": "2a594843",
   "metadata": {},
   "source": [
    "## base config"
   ]
  },
  {
   "cell_type": "code",
   "execution_count": 6,
   "id": "69437363",
   "metadata": {
    "ExecuteTime": {
     "end_time": "2024-03-06T21:53:49.014009Z",
     "start_time": "2024-03-06T21:53:49.008526Z"
    }
   },
   "outputs": [],
   "source": [
    "section = f\"{CL}-ATAC\"\n",
    "crw.check(config, section)\n",
    "\n",
    "config[section]\n",
    "config[section][\"path\"] = PATH\n",
    "\n",
    "config[section][\"all_norm_read_counts\"] = \"%(path)s/\" + ALL\n",
    "config[section][\"ctrl_norm_read_counts\"] = \"%(path)s/\" + CONTROL\n",
    "config[section][\"trmt_norm_read_counts\"] = \"%(path)s/\" + TREATED\n",
    "\n",
    "config[section][\"diff_bind_results\"] = \"%(path)s/\" + DIFF\n",
    "config[section][\"diff_bind_results_bed\"] = \"%(path)s/\" + DIFF_BED\n",
    "\n",
    "# full genomic dataset filtered by mind read depth\n",
    "config[section][\"HELD_OUT\"] = \"%(path)s/\" + HELD_OUT\n",
    "config[section][\"HELD_OUT_FA\"] = \"%(path)s/\" + HELD_OUT_FA\n",
    "config[section][\"TRAINING\"] = \"%(path)s/\" + TRAINING"
   ]
  },
  {
   "cell_type": "markdown",
   "id": "1e17b5f6",
   "metadata": {},
   "source": [
    "## deepstarr files"
   ]
  },
  {
   "cell_type": "code",
   "execution_count": 7,
   "id": "11f80268",
   "metadata": {
    "ExecuteTime": {
     "end_time": "2024-03-06T21:53:49.824175Z",
     "start_time": "2024-03-06T21:53:49.820061Z"
    }
   },
   "outputs": [],
   "source": [
    "# file inputs for training, testing\n",
    "## x\n",
    "TRAIN_FA = f\"{PREFIX}.Sequences_Train.fa\"\n",
    "VAL_FA = f\"{PREFIX}.Sequences_Val.fa\"\n",
    "TEST_FA = f\"{PREFIX}.Sequences_Test.fa\"\n",
    "\n",
    "## y\n",
    "TRAIN_TARGET = f\"{PREFIX}.Sequences_activity_Train.txt\"\n",
    "VAL_TARGET = f\"{PREFIX}.Sequences_activity_Val.txt\"\n",
    "TEST_TARGET = f\"{PREFIX}.Sequences_activity_Test.txt\"\n",
    "\n",
    "## rules"
   ]
  },
  {
   "cell_type": "markdown",
   "id": "dab495f0",
   "metadata": {},
   "source": [
    "## deepstarr config "
   ]
  },
  {
   "cell_type": "code",
   "execution_count": 8,
   "id": "33b6969d",
   "metadata": {
    "ExecuteTime": {
     "end_time": "2024-03-06T21:53:50.820349Z",
     "start_time": "2024-03-06T21:53:50.815952Z"
    }
   },
   "outputs": [],
   "source": [
    "section = f\"Hepg2.atac.deepstarr\"\n",
    "crw.check(config, section)\n",
    "\n",
    "# deepstar config\n",
    "config[section][\"data_path\"] = DATA_PATH\n",
    "config[section][\"held_out_chr\"] = \",\".join(TEST_CHR)\n",
    "config[section][\"val_chr\"] = VAL_CHR"
   ]
  },
  {
   "cell_type": "markdown",
   "id": "dfbc5a32",
   "metadata": {},
   "source": [
    "## deepstarr+prefix config"
   ]
  },
  {
   "cell_type": "code",
   "execution_count": 9,
   "id": "c97596de",
   "metadata": {
    "ExecuteTime": {
     "end_time": "2024-03-06T21:53:51.626737Z",
     "start_time": "2024-03-06T21:53:51.620885Z"
    }
   },
   "outputs": [],
   "source": [
    "# rules for data\n",
    "QUANTILE_FILTER, MIN_READ_DEPTH_FILTER, JOINT_ACCESSIBLE, CLASS_LABEL = setPrefixRules(PREFIX)\n",
    "\n",
    "# deepstarr prefix config\n",
    "section = f\"Hepg2.atac.deepstarr.{PREFIX}\"\n",
    "crw.check(config, section)\n",
    "\n",
    "config[section][\"train_fa\"] = TRAIN_FA\n",
    "config[section][\"val_fa\"] = VAL_FA\n",
    "config[section][\"test_fa\"] = TEST_FA\n",
    "\n",
    "config[section][\"train_target\"] = TRAIN_TARGET\n",
    "config[section][\"tval_target\"] = VAL_TARGET\n",
    "config[section][\"test_target\"] = TEST_TARGET\n",
    "\n",
    "\n",
    "config[section][\"filter_min_read_depth\"] = str(MIN_READ_DEPTH_FILTER)\n",
    "if MIN_READ_DEPTH_FILTER is True:\n",
    "    config[section][\"min_read_depth\"] = str(MIN_READ_DEPTH)\n",
    "    \n",
    "config[section][\"filter_quantile\"] = str(QUANTILE_FILTER)\n",
    "config[section][\"filter_jointaccessible\"] = str(JOINT_ACCESSIBLE)\n",
    "config[section][\"classlabel\"] = str(CLASS_LABEL)"
   ]
  },
  {
   "cell_type": "code",
   "execution_count": 10,
   "id": "3ae59352",
   "metadata": {
    "ExecuteTime": {
     "end_time": "2024-03-06T21:53:52.522399Z",
     "start_time": "2024-03-06T21:53:52.315119Z"
    }
   },
   "outputs": [],
   "source": [
    "crw.write(config, cfn)"
   ]
  },
  {
   "cell_type": "markdown",
   "id": "1c13717b-4462-468b-aded-c85fa8632585",
   "metadata": {},
   "source": [
    "# functions"
   ]
  },
  {
   "cell_type": "markdown",
   "id": "0ba6c7d3-4107-4315-8748-e13b1108310b",
   "metadata": {},
   "source": [
    "## make chromosome list"
   ]
  },
  {
   "cell_type": "code",
   "execution_count": 11,
   "id": "947fbb71-5880-4453-8414-51db88678771",
   "metadata": {
    "ExecuteTime": {
     "end_time": "2024-03-06T21:53:53.538588Z",
     "start_time": "2024-03-06T21:53:53.534213Z"
    }
   },
   "outputs": [],
   "source": [
    "def chrList():\n",
    "    \"\"\"return  list of chromosomes\"\"\"\n",
    "    \n",
    "    chrs = []\n",
    "    \n",
    "    for n in np.arange(1,23):\n",
    "        chrs.append(f\"chr{n}\")\n",
    "    \n",
    "    # add sex chromosomes\n",
    "    chrs.append(\"chrX\")\n",
    "    chrs.append(\"chrY\")\n",
    "    \n",
    "    return chrs"
   ]
  },
  {
   "cell_type": "markdown",
   "id": "91c587c3",
   "metadata": {},
   "source": [
    "## write fa"
   ]
  },
  {
   "cell_type": "code",
   "execution_count": 12,
   "id": "84051dad",
   "metadata": {
    "ExecuteTime": {
     "end_time": "2024-03-06T21:53:54.146214Z",
     "start_time": "2024-03-06T21:53:54.142196Z"
    }
   },
   "outputs": [],
   "source": [
    "def writeFa(heldout_df, heldout_fa):\n",
    "    with open(heldout_fa, \"w\") as writer:\n",
    "        for row in heldout_df.iterrows():\n",
    "            seqid, seq=row[1][:2]\n",
    "            writer.write(f\">{seqid}\\n{seq}\\n\")"
   ]
  },
  {
   "cell_type": "markdown",
   "id": "1e894b82",
   "metadata": {},
   "source": [
    "## train test split on chromosome"
   ]
  },
  {
   "cell_type": "code",
   "execution_count": 13,
   "id": "01b01445",
   "metadata": {
    "ExecuteTime": {
     "end_time": "2024-03-06T21:53:55.162409Z",
     "start_time": "2024-03-06T21:53:55.156382Z"
    }
   },
   "outputs": [],
   "source": [
    "def splitTrainTestVal(df, val_chr_list=None, test_chr_list=None):\n",
    "    \"\"\"randomly sample and hold out 2 chromosomes for testing, validation\"\"\"\n",
    "    \n",
    "    cols =['coor.type',\"seq\"]\n",
    "    \n",
    "    # randomly sample test chromosomes (n=2)\n",
    "    if test_chr_list is None:\n",
    "        print('randomly sampling chromosomes for test')\n",
    "\n",
    "\n",
    "        # randomly sample\n",
    "        test_chr_list = list(np.random.choice(chrs, 2))\n",
    "   \n",
    "    # randomly sample validation chromosome (n=1)\n",
    "    if val_chr_list is None:\n",
    "        print('randomly sampling chromosomes for val')\n",
    "\n",
    "        # remove test chromosomes\n",
    "        for chr_ in test_chr_list:\n",
    "            chrs.remove(chr_)\n",
    "\n",
    "        # randomly sample\n",
    "        val_chr_list = list(np.random.choice(chrs, 1))\n",
    "\n",
    "    # separate held out chromosomes from  training chromosomes\n",
    "    test = df.loc[df[\"#chr\"].isin(test_chr_list)].copy()\n",
    "    val = df.loc[df[\"#chr\"].isin(val_chr_list)].copy()\n",
    "    train = df.loc[(~df[\"#chr\"].isin(test_chr_list))&\n",
    "                  (~df[\"#chr\"].isin(val_chr_list))].copy()\n",
    "\n",
    "    return train, val, test\n"
   ]
  },
  {
   "cell_type": "markdown",
   "id": "5f4dc9fb",
   "metadata": {},
   "source": [
    "## filters"
   ]
  },
  {
   "cell_type": "code",
   "execution_count": 14,
   "id": "f8f99643",
   "metadata": {
    "ExecuteTime": {
     "end_time": "2024-03-06T21:53:56.134989Z",
     "start_time": "2024-03-06T21:53:56.125877Z"
    }
   },
   "outputs": [],
   "source": [
    "def minReadDepthFilter(table, min_read_depth):\n",
    "    print(\"before read depth filter:\", table.shape)\n",
    "    table = table.loc[(table[\"ctrl\"]>min_read_depth )| (table[\"US\"]>min_read_depth)].copy()\n",
    "    print(\"after:\", table.shape)\n",
    "    \n",
    "    return table\n",
    "\n",
    "def quantileFilter(table, quantile=0.99):\n",
    "    \"\"\"upper quantile filter for read count values\"\"\"\n",
    "    \n",
    "    print(\"before quantile filter:\", table.shape)\n",
    "    \n",
    "    # quantiles\n",
    "    ctrl_thresh, us_thresh = table[[\"ctrl\", \"US\"]].quantile(quantile)\n",
    "\n",
    "    # filter table\n",
    "    table = table.loc[(table[\"ctrl\"]<ctrl_thresh)&\n",
    "                (table[\"US\"]<us_thresh)]\n",
    "\n",
    "    print(\"after:\", table.shape)\n",
    "    \n",
    "    return table\n",
    "\n",
    "def jointAccessibleFilter(table):\n",
    "    \n",
    "    \"\"\"remove joint accessible regions, scramble new dataframe\"\"\"\n",
    "    \n",
    "    print(\"before joint_accessible filter:\", table.shape)\n",
    "    \n",
    "    # filter table\n",
    "    ctrl_only = table.loc[(table[\"ctrl\"]>0)&\n",
    "                (table[\"US\"]==0)].copy()\n",
    "    \n",
    "    US_only = table.loc[(table[\"ctrl\"]==0)&\n",
    "                (table[\"US\"]>0)].copy()\n",
    "    \n",
    "    # combine us and ctrl\n",
    "    # shuffle dataframe\n",
    "    table = pd.concat([ctrl_only, US_only]).sample(frac=1).reset_index(drop=True)\n",
    "    \n",
    "    print(\"after:\", table.shape)\n",
    "    \n",
    "    return table\n",
    "\n",
    "## binarize\n",
    "\n",
    "def classLabel(table):\n",
    "    \n",
    "    \"\"\"binarize read count column\"\"\"\n",
    "    cols_to_label =['ctrl', 'US']\n",
    "    for col in cols_to_label:\n",
    "        table[col] = table[col].apply(lambda x: 0 if x==0 else 1)\n",
    "        \n",
    "    return table\n",
    "\n",
    "# scramble df\n",
    "\n",
    "def dfShuffle(df):\n",
    "    \"\"\"scramble dataframe\"\"\"\n",
    "    return df.sample(frac=1).reset_index(drop=True)"
   ]
  },
  {
   "cell_type": "markdown",
   "id": "b6144f3a-643a-42f5-bacc-40d77de7f899",
   "metadata": {},
   "source": [
    "# Main"
   ]
  },
  {
   "cell_type": "code",
   "execution_count": 15,
   "id": "8c1cc374-7db3-4295-b9f4-9d564c7149d5",
   "metadata": {
    "ExecuteTime": {
     "end_time": "2024-03-06T21:53:59.129972Z",
     "start_time": "2024-03-06T21:53:58.280644Z"
    }
   },
   "outputs": [],
   "source": [
    "os.chdir(PATH)\n",
    "table = pd.read_csv(FULL, sep='\\t')\n",
    "table[\"coor.type\"] = table[\"type\"] + \"|\" + table[\"seq.id\"]"
   ]
  },
  {
   "cell_type": "code",
   "execution_count": 16,
   "id": "925d8c33",
   "metadata": {
    "ExecuteTime": {
     "end_time": "2024-03-06T21:54:01.136610Z",
     "start_time": "2024-03-06T21:54:01.107267Z"
    }
   },
   "outputs": [
    {
     "data": {
      "text/html": [
       "<div>\n",
       "<style scoped>\n",
       "    .dataframe tbody tr th:only-of-type {\n",
       "        vertical-align: middle;\n",
       "    }\n",
       "\n",
       "    .dataframe tbody tr th {\n",
       "        vertical-align: top;\n",
       "    }\n",
       "\n",
       "    .dataframe thead th {\n",
       "        text-align: right;\n",
       "    }\n",
       "</style>\n",
       "<table border=\"1\" class=\"dataframe\">\n",
       "  <thead>\n",
       "    <tr style=\"text-align: right;\">\n",
       "      <th></th>\n",
       "      <th>#chr</th>\n",
       "      <th>start_trim</th>\n",
       "      <th>end_trim</th>\n",
       "      <th>type</th>\n",
       "      <th>ctrl</th>\n",
       "      <th>US</th>\n",
       "      <th>seq.id</th>\n",
       "      <th>seq</th>\n",
       "      <th>coor.type</th>\n",
       "    </tr>\n",
       "  </thead>\n",
       "  <tbody>\n",
       "    <tr>\n",
       "      <th>0</th>\n",
       "      <td>chr1</td>\n",
       "      <td>598878</td>\n",
       "      <td>599149</td>\n",
       "      <td>ctrl-only.0</td>\n",
       "      <td>3.577983</td>\n",
       "      <td>0.000000</td>\n",
       "      <td>chr1:598878-599149</td>\n",
       "      <td>gtgtgtgatgttctctctgattacattggaactgtgcgtttgcgga...</td>\n",
       "      <td>ctrl-only.0|chr1:598878-599149</td>\n",
       "    </tr>\n",
       "    <tr>\n",
       "      <th>1</th>\n",
       "      <td>chr1</td>\n",
       "      <td>610594</td>\n",
       "      <td>610865</td>\n",
       "      <td>ctrl-only.1</td>\n",
       "      <td>2.273856</td>\n",
       "      <td>0.000000</td>\n",
       "      <td>chr1:610594-610865</td>\n",
       "      <td>TCTGTGGCCAGCAGGCGGCGCTGCAGGAGAGGAGATGCCCAGGCCT...</td>\n",
       "      <td>ctrl-only.1|chr1:610594-610865</td>\n",
       "    </tr>\n",
       "    <tr>\n",
       "      <th>2</th>\n",
       "      <td>chr1</td>\n",
       "      <td>1185478</td>\n",
       "      <td>1185749</td>\n",
       "      <td>ctrl-only.10</td>\n",
       "      <td>6.098455</td>\n",
       "      <td>0.000000</td>\n",
       "      <td>chr1:1185478-1185749</td>\n",
       "      <td>GTCCTGGAGCAGCAGCAGCTGCCCGTGCAGGCCCGGACTCTCCCTA...</td>\n",
       "      <td>ctrl-only.10|chr1:1185478-1185749</td>\n",
       "    </tr>\n",
       "    <tr>\n",
       "      <th>3</th>\n",
       "      <td>chr1</td>\n",
       "      <td>5652318</td>\n",
       "      <td>5652589</td>\n",
       "      <td>ctrl-only.100</td>\n",
       "      <td>7.561415</td>\n",
       "      <td>0.000000</td>\n",
       "      <td>chr1:5652318-5652589</td>\n",
       "      <td>AGTCCACAAGAAGGCAGGAAAACTGAGCTCCTTCCTCCTGGAGCGC...</td>\n",
       "      <td>ctrl-only.100|chr1:5652318-5652589</td>\n",
       "    </tr>\n",
       "    <tr>\n",
       "      <th>4</th>\n",
       "      <td>chr1</td>\n",
       "      <td>59422999</td>\n",
       "      <td>59423270</td>\n",
       "      <td>ctrl-only.1000</td>\n",
       "      <td>7.966863</td>\n",
       "      <td>0.000000</td>\n",
       "      <td>chr1:59422999-59423270</td>\n",
       "      <td>GTTTGGATACTATTGTGCCAGGCAGCCTTTCCGAACACTCCAGCCT...</td>\n",
       "      <td>ctrl-only.1000|chr1:59422999-59423270</td>\n",
       "    </tr>\n",
       "    <tr>\n",
       "      <th>...</th>\n",
       "      <td>...</td>\n",
       "      <td>...</td>\n",
       "      <td>...</td>\n",
       "      <td>...</td>\n",
       "      <td>...</td>\n",
       "      <td>...</td>\n",
       "      <td>...</td>\n",
       "      <td>...</td>\n",
       "      <td>...</td>\n",
       "    </tr>\n",
       "    <tr>\n",
       "      <th>82510</th>\n",
       "      <td>chr20</td>\n",
       "      <td>38298819</td>\n",
       "      <td>38299090</td>\n",
       "      <td>trmt-only.9995</td>\n",
       "      <td>0.000000</td>\n",
       "      <td>3.958314</td>\n",
       "      <td>chr20:38298819-38299090</td>\n",
       "      <td>TCTCGGGGCTCAGCCTGTTGGGCCTTGGCTGGGCACATACGTATTT...</td>\n",
       "      <td>trmt-only.9995|chr20:38298819-38299090</td>\n",
       "    </tr>\n",
       "    <tr>\n",
       "      <th>82511</th>\n",
       "      <td>chr20</td>\n",
       "      <td>38356236</td>\n",
       "      <td>38356507</td>\n",
       "      <td>trmt-only.9996</td>\n",
       "      <td>0.000000</td>\n",
       "      <td>7.336023</td>\n",
       "      <td>chr20:38356236-38356507</td>\n",
       "      <td>cctacacacagacagcacccacacacaccacacgcaccccctacac...</td>\n",
       "      <td>trmt-only.9996|chr20:38356236-38356507</td>\n",
       "    </tr>\n",
       "    <tr>\n",
       "      <th>82512</th>\n",
       "      <td>chr20</td>\n",
       "      <td>38367068</td>\n",
       "      <td>38367339</td>\n",
       "      <td>trmt-only.9997</td>\n",
       "      <td>0.000000</td>\n",
       "      <td>3.483329</td>\n",
       "      <td>chr20:38367068-38367339</td>\n",
       "      <td>CTGGCATAGTCCATAAAATGTACCCTAATGaacagcagctaacaat...</td>\n",
       "      <td>trmt-only.9997|chr20:38367068-38367339</td>\n",
       "    </tr>\n",
       "    <tr>\n",
       "      <th>82513</th>\n",
       "      <td>chr20</td>\n",
       "      <td>38666379</td>\n",
       "      <td>38666650</td>\n",
       "      <td>trmt-only.9998</td>\n",
       "      <td>0.000000</td>\n",
       "      <td>15.463893</td>\n",
       "      <td>chr20:38666379-38666650</td>\n",
       "      <td>TGTGAAGCAAGGAGAGGGGGCTGGGACCTGGCTCCAGGCTCCCCCA...</td>\n",
       "      <td>trmt-only.9998|chr20:38666379-38666650</td>\n",
       "    </tr>\n",
       "    <tr>\n",
       "      <th>82514</th>\n",
       "      <td>chr20</td>\n",
       "      <td>38693042</td>\n",
       "      <td>38693313</td>\n",
       "      <td>trmt-only.9999</td>\n",
       "      <td>0.000000</td>\n",
       "      <td>6.650103</td>\n",
       "      <td>chr20:38693042-38693313</td>\n",
       "      <td>AGGCTGTCACTGGCTCCCAGAGATAAGGAAACAATGGGCGACCCCT...</td>\n",
       "      <td>trmt-only.9999|chr20:38693042-38693313</td>\n",
       "    </tr>\n",
       "  </tbody>\n",
       "</table>\n",
       "<p>82515 rows × 9 columns</p>\n",
       "</div>"
      ],
      "text/plain": [
       "        #chr  start_trim  end_trim            type      ctrl         US  \\\n",
       "0       chr1      598878    599149     ctrl-only.0  3.577983   0.000000   \n",
       "1       chr1      610594    610865     ctrl-only.1  2.273856   0.000000   \n",
       "2       chr1     1185478   1185749    ctrl-only.10  6.098455   0.000000   \n",
       "3       chr1     5652318   5652589   ctrl-only.100  7.561415   0.000000   \n",
       "4       chr1    59422999  59423270  ctrl-only.1000  7.966863   0.000000   \n",
       "...      ...         ...       ...             ...       ...        ...   \n",
       "82510  chr20    38298819  38299090  trmt-only.9995  0.000000   3.958314   \n",
       "82511  chr20    38356236  38356507  trmt-only.9996  0.000000   7.336023   \n",
       "82512  chr20    38367068  38367339  trmt-only.9997  0.000000   3.483329   \n",
       "82513  chr20    38666379  38666650  trmt-only.9998  0.000000  15.463893   \n",
       "82514  chr20    38693042  38693313  trmt-only.9999  0.000000   6.650103   \n",
       "\n",
       "                        seq.id  \\\n",
       "0           chr1:598878-599149   \n",
       "1           chr1:610594-610865   \n",
       "2         chr1:1185478-1185749   \n",
       "3         chr1:5652318-5652589   \n",
       "4       chr1:59422999-59423270   \n",
       "...                        ...   \n",
       "82510  chr20:38298819-38299090   \n",
       "82511  chr20:38356236-38356507   \n",
       "82512  chr20:38367068-38367339   \n",
       "82513  chr20:38666379-38666650   \n",
       "82514  chr20:38693042-38693313   \n",
       "\n",
       "                                                     seq  \\\n",
       "0      gtgtgtgatgttctctctgattacattggaactgtgcgtttgcgga...   \n",
       "1      TCTGTGGCCAGCAGGCGGCGCTGCAGGAGAGGAGATGCCCAGGCCT...   \n",
       "2      GTCCTGGAGCAGCAGCAGCTGCCCGTGCAGGCCCGGACTCTCCCTA...   \n",
       "3      AGTCCACAAGAAGGCAGGAAAACTGAGCTCCTTCCTCCTGGAGCGC...   \n",
       "4      GTTTGGATACTATTGTGCCAGGCAGCCTTTCCGAACACTCCAGCCT...   \n",
       "...                                                  ...   \n",
       "82510  TCTCGGGGCTCAGCCTGTTGGGCCTTGGCTGGGCACATACGTATTT...   \n",
       "82511  cctacacacagacagcacccacacacaccacacgcaccccctacac...   \n",
       "82512  CTGGCATAGTCCATAAAATGTACCCTAATGaacagcagctaacaat...   \n",
       "82513  TGTGAAGCAAGGAGAGGGGGCTGGGACCTGGCTCCAGGCTCCCCCA...   \n",
       "82514  AGGCTGTCACTGGCTCCCAGAGATAAGGAAACAATGGGCGACCCCT...   \n",
       "\n",
       "                                    coor.type  \n",
       "0              ctrl-only.0|chr1:598878-599149  \n",
       "1              ctrl-only.1|chr1:610594-610865  \n",
       "2           ctrl-only.10|chr1:1185478-1185749  \n",
       "3          ctrl-only.100|chr1:5652318-5652589  \n",
       "4       ctrl-only.1000|chr1:59422999-59423270  \n",
       "...                                       ...  \n",
       "82510  trmt-only.9995|chr20:38298819-38299090  \n",
       "82511  trmt-only.9996|chr20:38356236-38356507  \n",
       "82512  trmt-only.9997|chr20:38367068-38367339  \n",
       "82513  trmt-only.9998|chr20:38666379-38666650  \n",
       "82514  trmt-only.9999|chr20:38693042-38693313  \n",
       "\n",
       "[82515 rows x 9 columns]"
      ]
     },
     "execution_count": 16,
     "metadata": {},
     "output_type": "execute_result"
    }
   ],
   "source": [
    "table"
   ]
  },
  {
   "cell_type": "markdown",
   "id": "3ad03ee2",
   "metadata": {},
   "source": [
    "##  min read depth filter"
   ]
  },
  {
   "cell_type": "code",
   "execution_count": 16,
   "id": "b4542bb3",
   "metadata": {
    "ExecuteTime": {
     "end_time": "2024-02-22T23:20:07.175594Z",
     "start_time": "2024-02-22T23:20:07.124600Z"
    }
   },
   "outputs": [],
   "source": [
    "## mean read depth filter\n",
    "if MIN_READ_DEPTH_FILTER is True:\n",
    "    table = minReadDepthFilter(table, MIN_READ_DEPTH) \n",
    "\n",
    "## quantile filter\n",
    "if QUANTILE_FILTER is True:\n",
    "\n",
    "    table = quantileFilter(table, quantile=0.99)\n",
    "\n",
    "## joint accessible filter\n",
    "if JOINT_ACCESSIBLE is False:\n",
    "    table = jointAccessibleFilter(table)\n",
    "\n",
    "## apply class label\n",
    "if CLASS_LABEL is True:\n",
    "    table = classLabel(table)"
   ]
  },
  {
   "cell_type": "markdown",
   "id": "13a17409-e10e-487f-b353-873e94160c14",
   "metadata": {},
   "source": [
    "## train on all atac peaks"
   ]
  },
  {
   "cell_type": "code",
   "execution_count": 17,
   "id": "ea3c0458",
   "metadata": {
    "ExecuteTime": {
     "end_time": "2024-02-22T23:20:07.351519Z",
     "start_time": "2024-02-22T23:20:07.177211Z"
    }
   },
   "outputs": [
    {
     "data": {
      "text/plain": [
       "ctrl  US\n",
       "0     1     16560\n",
       "1     0     26540\n",
       "      1     39415\n",
       "Name: #chr, dtype: int64"
      ]
     },
     "execution_count": 17,
     "metadata": {},
     "output_type": "execute_result"
    }
   ],
   "source": [
    "table.groupby(['ctrl', \"US\"])['#chr'].count()"
   ]
  },
  {
   "cell_type": "code",
   "execution_count": 25,
   "id": "0a74d00b-8db6-42ed-acf5-87354608e58d",
   "metadata": {
    "ExecuteTime": {
     "end_time": "2024-02-22T23:41:36.140926Z",
     "start_time": "2024-02-22T23:41:28.476753Z"
    }
   },
   "outputs": [],
   "source": [
    "os.chdir(DATA_PATH)\n",
    "\n",
    "table = dfShuffle(table)  # shuffle the table before splitting\n",
    "train, val, test = splitTrainTestVal(table, val_chr_list=[VAL_CHR], test_chr_list=TEST_CHR)\n",
    "\n",
    "writeFa(test[fa_cols], TEST_FA)\n",
    "writeFa(train[fa_cols], TRAIN_FA)\n",
    "writeFa(val[fa_cols], VAL_FA)\n",
    "\n",
    "cols = [\"coor.type\", \"US\", \"ctrl\"]\n",
    "test[cols].to_csv(TEST_TARGET, sep='\\t', index=False)\n",
    "train[cols].to_csv(TRAIN_TARGET, sep='\\t', index=False)\n",
    "val[cols].to_csv(VAL_TARGET, sep='\\t', index=False)"
   ]
  },
  {
   "cell_type": "code",
   "execution_count": null,
   "id": "e5a18fec",
   "metadata": {},
   "outputs": [],
   "source": []
  }
 ],
 "metadata": {
  "kernelspec": {
   "display_name": "Python (mamba)",
   "language": "python",
   "name": "mamba"
  },
  "language_info": {
   "codemirror_mode": {
    "name": "ipython",
    "version": 3
   },
   "file_extension": ".py",
   "mimetype": "text/x-python",
   "name": "python",
   "nbconvert_exporter": "python",
   "pygments_lexer": "ipython3",
   "version": "3.9.16"
  },
  "toc": {
   "base_numbering": 1,
   "nav_menu": {},
   "number_sections": true,
   "sideBar": true,
   "skip_h1_title": false,
   "title_cell": "Table of Contents",
   "title_sidebar": "Contents",
   "toc_cell": false,
   "toc_position": {},
   "toc_section_display": true,
   "toc_window_display": true
  },
  "varInspector": {
   "cols": {
    "lenName": 16,
    "lenType": 16,
    "lenVar": 40
   },
   "kernels_config": {
    "python": {
     "delete_cmd_postfix": "",
     "delete_cmd_prefix": "del ",
     "library": "var_list.py",
     "varRefreshCmd": "print(var_dic_list())"
    },
    "r": {
     "delete_cmd_postfix": ") ",
     "delete_cmd_prefix": "rm(",
     "library": "var_list.r",
     "varRefreshCmd": "cat(var_dic_list()) "
    }
   },
   "types_to_exclude": [
    "module",
    "function",
    "builtin_function_or_method",
    "instance",
    "_Feature"
   ],
   "window_display": false
  }
 },
 "nbformat": 4,
 "nbformat_minor": 5
}
