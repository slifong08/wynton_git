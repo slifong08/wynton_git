{
 "cells": [
  {
   "cell_type": "markdown",
   "id": "d859b7fc-cb6b-4c60-abf0-bc77d4bee367",
   "metadata": {},
   "source": [
    "# "
   ]
  },
  {
   "cell_type": "code",
   "execution_count": 1,
   "id": "398b9a09",
   "metadata": {
    "ExecuteTime": {
     "end_time": "2024-03-09T00:24:46.373282Z",
     "start_time": "2024-03-09T00:24:46.366841Z"
    }
   },
   "outputs": [],
   "source": [
    "import os, sys"
   ]
  },
  {
   "cell_type": "code",
   "execution_count": 11,
   "id": "aa764a4d",
   "metadata": {
    "ExecuteTime": {
     "end_time": "2024-03-09T00:35:37.385675Z",
     "start_time": "2024-03-09T00:35:37.381681Z"
    }
   },
   "outputs": [],
   "source": [
    "cl = 'all'\n",
    "prefix = \"reg.all.8task\" # class.all class.nojoint reg.all reg.nojoint\n",
    "\n",
    "peak_calls = \"deseq2\"  # or count_matrix\n",
    "\n",
    "data_path = os.path.join(\"/wynton/home/ahituv/fongsl/EMF/US/ml_emf/data/deepstarr/\", \n",
    "                         peak_calls, cl, prefix)\n",
    "\n",
    "\n",
    "if \"reg\" in prefix:\n",
    "    prediction_task = \"reg\"\n",
    "else:\n",
    "    prediction_task = \"class\"\n",
    "    \n",
    "standard_scaling = \"True\"\n",
    "n_pred_task = \"8\""
   ]
  },
  {
   "cell_type": "code",
   "execution_count": 12,
   "id": "73e1a91e",
   "metadata": {
    "ExecuteTime": {
     "end_time": "2024-03-09T00:35:37.847803Z",
     "start_time": "2024-03-09T00:35:37.839687Z"
    }
   },
   "outputs": [],
   "source": [
    "def launchCmd(prefix, data_path, prediction_task, terminal=\"qsub\"):\n",
    "    if terminal == \"python\":\n",
    "        cmd = [\"python\",\n",
    "               \"deepstarr.py\",\n",
    "               prefix,\n",
    "               data_path,\n",
    "               prediction_task,\n",
    "               standard_scaling, \n",
    "               n_pred_task\n",
    "               ]\n",
    "\n",
    "    elif terminal == \"qsub\":\n",
    "        cmd = [\"qsub\",\n",
    "               \"deepstarr.cpu.sh\",\n",
    "               prefix,\n",
    "               data_path,\n",
    "               prediction_task,\n",
    "               standard_scaling, \n",
    "               n_pred_task\n",
    "               ]\n",
    "    elif terminal == \"qsub-q\":\n",
    "        cmd = [\"qsub -q gpu.q\",\n",
    "               \"deepstarr.cpu.sh\",\n",
    "               prefix,\n",
    "               data_path,\n",
    "               prediction_task,\n",
    "               standard_scaling, \n",
    "               n_pred_task\n",
    "               ]\n",
    "\n",
    "    return \" \".join(cmd)"
   ]
  },
  {
   "cell_type": "code",
   "execution_count": 15,
   "id": "7ab95d5f",
   "metadata": {
    "ExecuteTime": {
     "end_time": "2024-03-09T00:37:12.896081Z",
     "start_time": "2024-03-09T00:37:12.891612Z"
    }
   },
   "outputs": [
    {
     "data": {
      "text/plain": [
       "'qsub deepstarr.cpu.sh reg.all.8task /wynton/home/ahituv/fongsl/EMF/US/ml_emf/data/deepstarr/deseq2/all/reg.all.8task reg True 8'"
      ]
     },
     "execution_count": 15,
     "metadata": {},
     "output_type": "execute_result"
    }
   ],
   "source": [
    "cmd = launchCmd(prefix, data_path,prediction_task, terminal=\"qsub\")\n",
    "cmd"
   ]
  },
  {
   "cell_type": "code",
   "execution_count": 18,
   "id": "1ce39143",
   "metadata": {
    "ExecuteTime": {
     "end_time": "2024-03-09T00:51:48.818231Z",
     "start_time": "2024-03-09T00:51:48.434218Z"
    }
   },
   "outputs": [
    {
     "name": "stdout",
     "output_type": "stream",
     "text": [
      "Your job 597842 (\"deepstarr.cpu.sh\") has been submitted\n"
     ]
    },
    {
     "data": {
      "text/plain": [
       "0"
      ]
     },
     "execution_count": 18,
     "metadata": {},
     "output_type": "execute_result"
    }
   ],
   "source": [
    "os.system(cmd)"
   ]
  },
  {
   "cell_type": "code",
   "execution_count": null,
   "id": "6c5c09bd",
   "metadata": {},
   "outputs": [],
   "source": []
  }
 ],
 "metadata": {
  "kernelspec": {
   "display_name": "DeepSTARR",
   "language": "python",
   "name": "deepstarr"
  },
  "language_info": {
   "codemirror_mode": {
    "name": "ipython",
    "version": 3
   },
   "file_extension": ".py",
   "mimetype": "text/x-python",
   "name": "python",
   "nbconvert_exporter": "python",
   "pygments_lexer": "ipython3",
   "version": "3.7.16"
  },
  "toc": {
   "base_numbering": 1,
   "nav_menu": {},
   "number_sections": true,
   "sideBar": true,
   "skip_h1_title": false,
   "title_cell": "Table of Contents",
   "title_sidebar": "Contents",
   "toc_cell": false,
   "toc_position": {},
   "toc_section_display": true,
   "toc_window_display": false
  },
  "varInspector": {
   "cols": {
    "lenName": 16,
    "lenType": 16,
    "lenVar": 40
   },
   "kernels_config": {
    "python": {
     "delete_cmd_postfix": "",
     "delete_cmd_prefix": "del ",
     "library": "var_list.py",
     "varRefreshCmd": "print(var_dic_list())"
    },
    "r": {
     "delete_cmd_postfix": ") ",
     "delete_cmd_prefix": "rm(",
     "library": "var_list.r",
     "varRefreshCmd": "cat(var_dic_list()) "
    }
   },
   "types_to_exclude": [
    "module",
    "function",
    "builtin_function_or_method",
    "instance",
    "_Feature"
   ],
   "window_display": false
  }
 },
 "nbformat": 4,
 "nbformat_minor": 5
}
