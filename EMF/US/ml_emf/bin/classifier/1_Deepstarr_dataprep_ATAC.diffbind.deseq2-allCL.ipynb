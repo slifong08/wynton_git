{
 "cells": [
  {
   "cell_type": "markdown",
   "id": "a38fcfaa-77c1-4bfb-abe0-05dbc4e4e87d",
   "metadata": {},
   "source": [
    "20240306\n",
    "\n",
    "SarahFong\n",
    "\n",
    "Take output from DiffBind deseq2 formatting\n",
    "\n",
    "          $HOME/EMF/US/bin/ATAC/1_prep_deseq2_ATAC.ipynb \n",
    "          \n",
    "Prepare data: \n",
    "1. Load data per cl\n",
    "2. Apply filters for min conc, quantile inclusion, jointaccessibility based on min conc, class labeling\n",
    "3. Split into training, validation and test set - hold out chr12 for validation, chr8 for testing\n",
    "4. Optional-Downsample training data\n",
    "6. Shuffle and Add fold num to training set"
   ]
  },
  {
   "cell_type": "code",
   "execution_count": 1,
   "id": "24791ba6-ba9e-47c8-99ff-824a21c53b9b",
   "metadata": {
    "ExecuteTime": {
     "end_time": "2024-04-08T18:26:54.357681Z",
     "start_time": "2024-04-08T18:26:47.750200Z"
    }
   },
   "outputs": [
    {
     "data": {
      "text/plain": [
       "('sans-serif', 'Arial', 18)"
      ]
     },
     "execution_count": 1,
     "metadata": {},
     "output_type": "execute_result"
    }
   ],
   "source": [
    "from Bio.SeqIO.FastaIO import SimpleFastaParser\n",
    "import config_readwrite as crw\n",
    "import matplotlib.pyplot as plt\n",
    "import numpy as np\n",
    "import os, sys\n",
    "import pandas as pd\n",
    "import pybedtools as pbt\n",
    "\n",
    "from scipy import stats\n",
    "\n",
    "import seaborn as sns\n",
    "\n",
    "import warnings\n",
    "warnings.filterwarnings('ignore')\n",
    "\n",
    "import plot_params as pp\n",
    "pp.fonts()"
   ]
  },
  {
   "cell_type": "code",
   "execution_count": 2,
   "id": "4b15ddcf",
   "metadata": {
    "ExecuteTime": {
     "end_time": "2024-04-08T18:26:54.367572Z",
     "start_time": "2024-04-08T18:26:54.359664Z"
    }
   },
   "outputs": [],
   "source": [
    "config_name =os.path.join(os.getcwd(), \"config.multi.ini\")\n",
    "config, cfn = crw.read(config_name)"
   ]
  },
  {
   "cell_type": "markdown",
   "id": "1c13717b-4462-468b-aded-c85fa8632585",
   "metadata": {},
   "source": [
    "# functions"
   ]
  },
  {
   "cell_type": "code",
   "execution_count": 3,
   "id": "1c6894bc",
   "metadata": {
    "ExecuteTime": {
     "end_time": "2024-04-08T18:26:54.462312Z",
     "start_time": "2024-04-08T18:26:54.369986Z"
    }
   },
   "outputs": [],
   "source": [
    "def setPrefixRules(prefix):\n",
    "    \"\"\" rules for processing datasets\"\"\"\n",
    "    if \"class.all\" in prefix:\n",
    "        QUANTILE_FILTER=False  # don't remove top quantile\n",
    "        MIN_CONC_FILTER=True  # do require peak to meet min conc threshold in one of conditions\n",
    "        JOINT_ACCESSIBLE=True  # do keep joint accessible elements\n",
    "        CLASS_LABEL = True  # label classes w/deseq2 for classification tasks\n",
    "\n",
    "    elif \"class.nojoint\" in prefix:\n",
    "        QUANTILE_FILTER=False\n",
    "        MIN_CONC_FILTER=True\n",
    "        JOINT_ACCESSIBLE=False  # remove joint accessible elements\n",
    "        CLASS_LABEL = True\n",
    "\n",
    "    elif \"reg.all\" in PREFIX:\n",
    "        QUANTILE_FILTER=False\n",
    "        MIN_CONC_FILTER=True\n",
    "        JOINT_ACCESSIBLE=True\n",
    "        CLASS_LABEL = False  # use min_conc values for regression task\n",
    "\n",
    "    elif \"reg.nojoint\" in prefix:\n",
    "        QUANTILE_FILTER=False\n",
    "        MIN_CONC_FILTER=True\n",
    "        JOINT_ACCESSIBLE=False  # remove joint accessible elements\n",
    "        CLASS_LABEL = False  # use min_conc values for regression task\n",
    "    else:\n",
    "        print('need to add rules for', prefix)\n",
    "        \n",
    "    return QUANTILE_FILTER, MIN_CONC_FILTER, JOINT_ACCESSIBLE, CLASS_LABEL\n"
   ]
  },
  {
   "cell_type": "markdown",
   "id": "0ba6c7d3-4107-4315-8748-e13b1108310b",
   "metadata": {},
   "source": [
    "## make chromosome list"
   ]
  },
  {
   "cell_type": "code",
   "execution_count": 4,
   "id": "947fbb71-5880-4453-8414-51db88678771",
   "metadata": {
    "ExecuteTime": {
     "end_time": "2024-04-08T18:26:54.570678Z",
     "start_time": "2024-04-08T18:26:54.463830Z"
    }
   },
   "outputs": [],
   "source": [
    "def chrList():\n",
    "    \"\"\"return  list of chromosomes\"\"\"\n",
    "    \n",
    "    chrs = []\n",
    "    \n",
    "    for n in np.arange(1,23):\n",
    "        chrs.append(f\"chr{n}\")\n",
    "    \n",
    "    # add sex chromosomes\n",
    "    chrs.append(\"chrX\")\n",
    "    chrs.append(\"chrY\")\n",
    "    \n",
    "    return chrs"
   ]
  },
  {
   "cell_type": "markdown",
   "id": "91c587c3",
   "metadata": {
    "heading_collapsed": true
   },
   "source": [
    "## write fa"
   ]
  },
  {
   "cell_type": "code",
   "execution_count": 5,
   "id": "84051dad",
   "metadata": {
    "ExecuteTime": {
     "end_time": "2024-04-08T18:26:54.692526Z",
     "start_time": "2024-04-08T18:26:54.572371Z"
    },
    "hidden": true
   },
   "outputs": [],
   "source": [
    "def writeFa(heldout_df, heldout_fa):\n",
    "    with open(heldout_fa, \"w\") as writer:\n",
    "        for row in heldout_df.iterrows():\n",
    "            seqid, seq=row[1][:2]\n",
    "            writer.write(f\">{seqid}\\n{seq}\\n\")"
   ]
  },
  {
   "cell_type": "markdown",
   "id": "1e894b82",
   "metadata": {
    "heading_collapsed": true
   },
   "source": [
    "## train test split on chromosome"
   ]
  },
  {
   "cell_type": "code",
   "execution_count": 6,
   "id": "01b01445",
   "metadata": {
    "ExecuteTime": {
     "end_time": "2024-04-08T18:26:54.796545Z",
     "start_time": "2024-04-08T18:26:54.694154Z"
    },
    "hidden": true
   },
   "outputs": [],
   "source": [
    "def splitTrainTestVal(df, val_chr_list=None, test_chr_list=None):\n",
    "    \"\"\"randomly sample and hold out 2 chromosomes for testing, validation\"\"\"\n",
    "    \n",
    "    cols =['coor.type',\"seq\"]\n",
    "    \n",
    "    # randomly sample test chromosomes (n=2)\n",
    "    if test_chr_list is None:\n",
    "        print('randomly sampling chromosomes for test')\n",
    "\n",
    "\n",
    "        # randomly sample\n",
    "        test_chr_list = list(np.random.choice(chrs, 2))\n",
    "   \n",
    "    # randomly sample validation chromosome (n=1)\n",
    "    if val_chr_list is None:\n",
    "        print('randomly sampling chromosomes for val')\n",
    "\n",
    "        # remove test chromosomes\n",
    "        for chr_ in test_chr_list:\n",
    "            chrs.remove(chr_)\n",
    "\n",
    "        # randomly sample\n",
    "        val_chr_list = list(np.random.choice(chrs, 1))\n",
    "\n",
    "    # separate held out chromosomes from  training chromosomes\n",
    "    test = df.loc[df[\"#chr\"].isin(test_chr_list)].copy()\n",
    "    val = df.loc[df[\"#chr\"].isin(val_chr_list)].copy()\n",
    "    train = df.loc[(~df[\"#chr\"].isin(test_chr_list))&\n",
    "                  (~df[\"#chr\"].isin(val_chr_list))].copy()\n",
    "\n",
    "    return train, val, test\n"
   ]
  },
  {
   "cell_type": "markdown",
   "id": "5f4dc9fb",
   "metadata": {},
   "source": [
    "## filters"
   ]
  },
  {
   "cell_type": "code",
   "execution_count": 64,
   "id": "f8f99643",
   "metadata": {
    "ExecuteTime": {
     "end_time": "2024-04-08T18:44:37.688444Z",
     "start_time": "2024-04-08T18:44:37.674357Z"
    }
   },
   "outputs": [],
   "source": [
    "def minConcFilter(table, min_conc, filter_bool=True):\n",
    "    \"\"\"Filter control and US atac for a min concentration threshold\n",
    "        Require threshold in control OR ultrasound, but both not necessary (differentially accessible)\n",
    "    \"\"\"\n",
    "    if filter_bool is True:\n",
    "        print(\"before minconc filter:\", table.shape)\n",
    "        table = table.loc[(table[\"ctrl\"] > min_conc) |\n",
    "                          (table[\"US\"] > min_conc)].copy()\n",
    "        print(\"after:\", table.shape)\n",
    "    else:\n",
    "        print(\"no min conc filtering\")\n",
    "\n",
    "    return table\n",
    "\n",
    "\n",
    "def quantileFilter(table, filter_bool=False, quantile=0.99):\n",
    "    \"\"\"upper quantile filter for read count values. Only upper because lower threshold is zero.\"\"\"\n",
    "\n",
    "    if filter_bool is True:\n",
    "        print(\"before quantile filter:\", table.shape)\n",
    "\n",
    "        # quantiles\n",
    "        ctrl_thresh, us_thresh = table[[\"ctrl\", \"US\"]].quantile(quantile)\n",
    "\n",
    "        # filter table\n",
    "        table = table.loc[(table[\"ctrl\"] < ctrl_thresh) &\n",
    "                          (table[\"US\"] < us_thresh)]\n",
    "\n",
    "        print(\"after:\", table.shape)\n",
    "    else:\n",
    "        print(\"no quantile filter\")\n",
    "\n",
    "    return table\n",
    "\n",
    "\n",
    "def jointAccessibleFilter(table, filter_bool=True):\n",
    "    \"\"\"remove joint accessible regions, scramble new dataframe\"\"\"\n",
    "\n",
    "    if filter_bool is False:\n",
    "        print(\"before joint_accessible filter:\", table.shape)\n",
    "\n",
    "        # filter table\n",
    "        ctrl_only = table.loc[(table[\"ctrl\"] > 0) &\n",
    "                              (table[\"US\"] == 0)].copy()\n",
    "\n",
    "        US_only = table.loc[(table[\"ctrl\"] == 0) &\n",
    "                            (table[\"US\"] > 0)].copy()\n",
    "\n",
    "        # combine us and ctrl, shuffle dataframe\n",
    "        table = dfShuffle(pd.concat([ctrl_only, US_only]))\n",
    "\n",
    "        print(\"after:\", table.shape)\n",
    "    else:\n",
    "        print('keeping jointly accessible elements')\n",
    "\n",
    "    return table\n",
    "\n",
    "# label based on min_conc value\n",
    "def minConcClassLabel(table):\n",
    "    \"\"\" RETIRED-binarize read count column based on min_conc\"\"\"\n",
    "    cols_to_label = ['ctrl', 'US']\n",
    "    for col in cols_to_label:\n",
    "        table[col] = table[col].apply(lambda x: 0 if x<MIN_CONC else 1)\n",
    "\n",
    "    return table\n",
    "\n",
    "# label deseq2 DiffAcc peaks\n",
    "def diffAccLabel(table, diff_bed, filter_bool=False):\n",
    "    \"\"\" Annotate elements that overlap desseq2 differentially accessible peak calls\n",
    "        Intersect peaks w/ DESEQ2 differentially accessible peaks.\n",
    "        Label any peak with 1+ bp overlapping DESEQ2 element. \n",
    "        Return dataframe of overlapping elements. \n",
    "    \"\"\"\n",
    "    if filter_bool is True:\n",
    "        print(\"labeling peaks overlapping deseq2 diffAcc by >=1 bp\")\n",
    "        table_bed = pbt.BedTool.from_dataframe(table[table.columns[:4]])\n",
    "        deseq_bed = pbt.BedTool(diff_bed)\n",
    "\n",
    "        # intersect table x deseq2, write all present, absent overlaps. \n",
    "        table_deseq = table_bed.intersect(deseq_bed, wao=True)\n",
    "\n",
    "        # load intersection results\n",
    "        table_deseq = pd.read_csv(table_deseq.fn, sep='\\t', header=None)\n",
    "        table_deseq.columns=['#chr', \"start_trim\", \"end_trim\", \"type\", \n",
    "                             \"#chr_deseq\", \"start_deseq\", \"end_deseq\", \n",
    "                             \"deseq_id\", \"diffAcc\"\n",
    "                            ]\n",
    "\n",
    "        # if peak overlaps DESEQ2 element by 1+ bp \n",
    "        # annotate diffAcc overlap as 1 or 0 \n",
    "        table_deseq[\"diffAcc\"] = table_deseq[\"diffAcc\"].apply(lambda x: 1 if x>=1 else 0) \n",
    "\n",
    "        # merge annotations with original table\n",
    "        table = pd.merge(table, table_deseq[[\"type\",\"diffAcc\"]]).drop_duplicates()\n",
    "    else:\n",
    "        print('not labeling deseq2-overlapping peaks. What is your label again?')\n",
    "    \n",
    "    # return dataframe w/ names and deseq2 overlaps\n",
    "    return table\n",
    "\n",
    "\n",
    "# scramble df\n",
    "def dfShuffle(df):\n",
    "    \"\"\"scramble dataframe\"\"\"\n",
    "    return df.sample(frac=1).reset_index(drop=True)\n",
    "\n",
    "\n",
    "# sequences where US increases activity only\n",
    "def directionFilter(table, filter_bool=False):\n",
    "    \"\"\"filter for positive directional changes in activity\"\"\"\n",
    "    if filter_bool is True:\n",
    "        print('include sequences that increase activity w US')\n",
    "        table = table.loc[table[\"US_DIF\"]<0] #where US_DIF = ctrl - US, and US_dif <0 means US has more activity than control\n",
    "        \n",
    "    else:\n",
    "        print('include ALL sequences that increase|decrease|no activity change w US')\n",
    "    return table\n",
    "\n",
    "\n",
    "# downsample\n",
    "def downsampleNegClass(train, filter_bool=False):\n",
    "    \"\"\"downsample training set only\"\"\"\n",
    "    \n",
    "    if filter_bool is True:\n",
    "        # get positive and negatives\n",
    "        pos, neg = train.loc[train[\"diffAcc\"]>0].copy(), train.loc[train[\"diffAcc\"]==0].copy()\n",
    "\n",
    "        # count the positive examples\n",
    "        n_pos = pos.shape[0] # ctrl - US <0 means US has more activity than control\n",
    "\n",
    "        print(\"downsampling training data!\\n percent with a positive label:\", \n",
    "              round(n_pos/train.shape[0], 2), \n",
    "              \"\\n\"\n",
    "             )\n",
    "\n",
    "        # randomly sample negative examples\n",
    "        neg_downsample = neg.sample(n=n_pos)\n",
    "\n",
    "        # return concatenated dataframe of downsampled negative class. \n",
    "        return pd.concat([pos, neg_downsample])"
   ]
  },
  {
   "cell_type": "markdown",
   "id": "b6144f3a-643a-42f5-bacc-40d77de7f899",
   "metadata": {},
   "source": [
    "# Main"
   ]
  },
  {
   "cell_type": "markdown",
   "id": "60cfa392",
   "metadata": {},
   "source": [
    "## params"
   ]
  },
  {
   "cell_type": "code",
   "execution_count": 65,
   "id": "a2b767ed",
   "metadata": {
    "ExecuteTime": {
     "end_time": "2024-04-08T18:44:43.474344Z",
     "start_time": "2024-04-08T18:44:43.470868Z"
    }
   },
   "outputs": [],
   "source": [
    "PREFIX = \"class.all.1task\"  \n",
    "PATH = \"/wynton/group/ahituv/data/US-MPRA/ATAC-seq/Diffbind_results\"\n",
    "TEST_CHR = [\"chr1\"]\n",
    "VAL_CHR = \"chr12\"\n",
    "\n",
    "\n",
    "# peak information\n",
    "PEAK_SIZE = 270\n",
    "MIN_CONC = 2  #NOTE -  $HOME/EMF/US/bin/ATAC/1_prep_deseq2_ATAC.ipynb may have pre-filtered the min_conc value\n",
    "DIRECTION_FILTER = False  # keep only positive changes? Negative changes? \n",
    "DOWNSAMPLE=True\n",
    "\n",
    "# genome information\n",
    "HG38= \"/wynton/group/ahituv/data/dna/hg38/hg38.chrom.sizes\"\n",
    "FA_HG38=\"/wynton/group/ahituv/data/dna/hg38/hg38.fa\""
   ]
  },
  {
   "cell_type": "markdown",
   "id": "a28d43ff",
   "metadata": {},
   "source": [
    "## load data + filter per cell line "
   ]
  },
  {
   "cell_type": "code",
   "execution_count": 67,
   "id": "7775086b",
   "metadata": {
    "ExecuteTime": {
     "end_time": "2024-04-08T18:45:28.174634Z",
     "start_time": "2024-04-08T18:45:12.329962Z"
    }
   },
   "outputs": [
    {
     "name": "stdout",
     "output_type": "stream",
     "text": [
      "hob\n",
      "original dataset shape (156659, 10)\n",
      "before minconc filter: (156659, 10)\n",
      "after: (156659, 10)\n",
      "no quantile filter\n",
      "keeping jointly accessible elements\n",
      "labeling peaks overlapping deseq2 diffAcc by >=1 bp\n",
      "ctrl       US         US_DIF     diffAcc\n",
      "0.000000   2.031034   -2.031034  0          1\n",
      "           2.034355   -2.034355  0          1\n",
      "           2.108923   -2.108923  0          1\n",
      "           2.109045   -2.109045  0          1\n",
      "           2.117857   -2.117857  0          2\n",
      "                                           ..\n",
      "10.519145  10.680225  -0.161080  0          1\n",
      "10.523657  10.680369  -0.156712  0          1\n",
      "10.527785  10.750965  -0.223180  0          1\n",
      "10.549858  10.750119  -0.200261  0          1\n",
      "10.632526  10.815728  -0.183202  0          1\n",
      "Name: #chr, Length: 155410, dtype: int64\n",
      "include ALL sequences that increase|decrease|no activity change w US\n",
      "positives in val, test diffAcc\n",
      "0    7349\n",
      "1      94\n",
      "Name: seq, dtype: int64 diffAcc\n",
      "0    13898\n",
      "1      198\n",
      "Name: seq, dtype: int64\n",
      "downsampling training data!\n",
      " percent with a positive label: 0.01 \n",
      "\n",
      "(7443, 12) (4012, 12) (14096, 12) \n",
      "\n",
      "\n",
      "hepg2\n",
      "original dataset shape (82757, 10)\n",
      "before minconc filter: (82757, 10)\n",
      "after: (82757, 10)\n",
      "no quantile filter\n",
      "keeping jointly accessible elements\n",
      "labeling peaks overlapping deseq2 diffAcc by >=1 bp\n",
      "ctrl      US         US_DIF     diffAcc\n",
      "0.000000  2.005733   -2.005733  0          6\n",
      "                                1          3\n",
      "          2.012395   -2.012395  0          5\n",
      "                                1          2\n",
      "          2.015043   -2.015043  0          1\n",
      "                                          ..\n",
      "8.976288  9.210271   -0.233984  0          1\n",
      "9.057087  9.151392   -0.094305  0          1\n",
      "9.087828  9.175692   -0.087864  0          1\n",
      "9.392623  9.682429   -0.289806  0          1\n",
      "9.882399  10.077630  -0.195231  0          1\n",
      "Name: #chr, Length: 80460, dtype: int64\n",
      "include ALL sequences that increase|decrease|no activity change w US\n",
      "positives in val, test diffAcc\n",
      "0    3571\n",
      "1      54\n",
      "Name: seq, dtype: int64 diffAcc\n",
      "0    7505\n",
      "1      95\n",
      "Name: seq, dtype: int64\n",
      "downsampling training data!\n",
      " percent with a positive label: 0.02 \n",
      "\n",
      "(3625, 12) (2178, 12) (7600, 12) \n",
      "\n",
      "\n",
      "k562\n",
      "original dataset shape (100873, 10)\n",
      "before minconc filter: (100873, 10)\n",
      "after: (100873, 10)\n",
      "no quantile filter\n",
      "keeping jointly accessible elements\n",
      "labeling peaks overlapping deseq2 diffAcc by >=1 bp\n",
      "ctrl       US         US_DIF     diffAcc\n",
      "0.000000   2.052293   -2.052293  0          2\n",
      "           2.076685   -2.076685  1          1\n",
      "           2.085296   -2.085296  0          1\n",
      "           2.100125   -2.100125  0          1\n",
      "           2.115344   -2.115344  0          1\n",
      "                                           ..\n",
      "11.109262  11.081247   0.028015  0          1\n",
      "11.170854  11.165841   0.005013  0          1\n",
      "11.228282  11.216069   0.012213  0          1\n",
      "11.376734  11.529442  -0.152707  0          1\n",
      "11.379861  11.359185   0.020676  0          1\n",
      "Name: #chr, Length: 100520, dtype: int64\n",
      "include ALL sequences that increase|decrease|no activity change w US\n",
      "positives in val, test diffAcc\n",
      "0    4721\n",
      "1      44\n",
      "Name: seq, dtype: int64 diffAcc\n",
      "0    11394\n",
      "1       89\n",
      "Name: seq, dtype: int64\n",
      "downsampling training data!\n",
      " percent with a positive label: 0.01 \n",
      "\n",
      "(4765, 12) (1276, 12) (11483, 12) \n",
      "\n",
      "\n",
      "bj\n",
      "original dataset shape (96945, 10)\n",
      "before minconc filter: (96945, 10)\n",
      "after: (96945, 10)\n",
      "no quantile filter\n",
      "keeping jointly accessible elements\n",
      "labeling peaks overlapping deseq2 diffAcc by >=1 bp\n",
      "ctrl       US         US_DIF     diffAcc\n",
      "0.000000   2.004280   -2.004280  1          1\n",
      "           2.006133   -2.006133  0          3\n",
      "           2.030299   -2.030299  0          1\n",
      "           2.032119   -2.032119  0          2\n",
      "           2.035753   -2.035753  1          1\n",
      "                                           ..\n",
      "9.864848   9.856621    0.008227  0          1\n",
      "9.899500   9.983593   -0.084093  0          1\n",
      "9.915346   9.936785   -0.021439  0          1\n",
      "9.969156   10.067123  -0.097967  0          1\n",
      "10.220348  10.314482  -0.094134  0          1\n",
      "Name: #chr, Length: 94666, dtype: int64\n",
      "include ALL sequences that increase|decrease|no activity change w US\n",
      "positives in val, test diffAcc\n",
      "0    4870\n",
      "1      15\n",
      "Name: seq, dtype: int64 diffAcc\n",
      "0    9356\n",
      "1      38\n",
      "Name: seq, dtype: int64\n",
      "downsampling training data!\n",
      " percent with a positive label: 0.0 \n",
      "\n",
      "(4885, 12) (634, 12) (9394, 12) \n",
      "\n",
      "\n"
     ]
    }
   ],
   "source": [
    "# collect cell-specific annotations\n",
    "train_dict, val_dict, test_dict = {}, {}, {}\n",
    "\n",
    "# set columns \n",
    "if \"class\" in PREFIX:\n",
    "    # classification task\n",
    "    cols=[\"coor.type\", \"diffAcc\"]\n",
    "else:\n",
    "    # regression task\n",
    "    cols = [\"coor.type\",\"US\",\"ctrl\", # \"US_DIF\"\n",
    "           ]\n",
    "\n",
    "fa_cols = ['coor.type', \"seq\"]\n",
    "\n",
    "\n",
    "for CL in [\"hob\", \"hepg2\", \"k562\", \"bj\"]:  #CL = 'hob'\n",
    "    print(CL)\n",
    "            \n",
    "    # Instantiate cell- and task-specific path.\n",
    "    DATA_PATH = f\"/wynton/home/ahituv/fongsl/EMF/US/ml_emf/data/deepstarr/deseq2/{CL}/{PREFIX}\"\n",
    "    \n",
    "    # make cl- and task-specific datapath\n",
    "    if os.path.exists(DATA_PATH) is False:\n",
    "        if os.path.dirname(DATA_PATH) is False:\n",
    "            os.mkdir(os.path.dirname(DATA_PATH))\n",
    "        os.mkdir(DATA_PATH)\n",
    "\n",
    "\n",
    "    ## cell-specific base files\n",
    "\n",
    "    # DESEQ2 files\n",
    "    DIFF = f'./{CL}_deseq2.csv'\n",
    "    NODIFF = f'./{CL}_deseq2-nodiff.csv'\n",
    "    DIFF_BED = \"./\" + DIFF.strip(\".csv\") + \".bed\"\n",
    "\n",
    "    # FULL peakset called from deseq2, trimmed to 270bp. \n",
    "    FULL = f\"{CL}_deseq2-nondiff.trimmed.min_conc.{MIN_CONC}.full.csv\"\n",
    "\n",
    "    \n",
    "    ### Write CONFIG FILE ###\n",
    "    ## base config\n",
    "    section = f\"{CL}-ATAC-DESEQ2\"\n",
    "    crw.check(config, section)\n",
    "\n",
    "    config[section][\"path\"] = PATH\n",
    "\n",
    "    config[section][\"nondiff_bind_results\"] = \"%(path)s/\" + NODIFF\n",
    "    config[section][\"diff_bind_results\"] = \"%(path)s/\" + DIFF\n",
    "    config[section][\"diff_bind_results_bed\"] = \"%(path)s/\" + DIFF_BED\n",
    "\n",
    "\n",
    "    ## deepstarr files\n",
    "\n",
    "    # file inputs for training, testing\n",
    "    TRAIN_FA = f\"{PREFIX}.Sequences_Train.fa\"\n",
    "    VAL_FA = f\"{PREFIX}.Sequences_Val.fa\"\n",
    "    TEST_FA = f\"{PREFIX}.Sequences_Test.fa\"\n",
    "\n",
    "    ## y\n",
    "    TRAIN_TARGET = f\"{PREFIX}.Sequences_activity_Train.txt\"\n",
    "    VAL_TARGET = f\"{PREFIX}.Sequences_activity_Val.txt\"\n",
    "    TEST_TARGET = f\"{PREFIX}.Sequences_activity_Test.txt\"\n",
    "\n",
    "    ## rules\n",
    "\n",
    "    ## deepstarr config \n",
    "    section = f\"{CL}.atac.deseq2.deepstarr\"\n",
    "    crw.check(config, section)\n",
    "\n",
    "    config[section][\"data_path\"] = DATA_PATH\n",
    "    config[section][\"held_out_chr\"] = \",\".join(TEST_CHR)\n",
    "    config[section][\"val_chr\"] = VAL_CHR\n",
    "\n",
    "    ## deepstarr+prefix config\n",
    "\n",
    "    # rules for data\n",
    "    QUANTILE_FILTER, MIN_CONC_FILTER, JOINT_ACCESSIBLE, CLASS_LABEL = setPrefixRules(PREFIX)\n",
    "\n",
    "    # deepstarr prefix config\n",
    "    section = f\"{CL}.atac.deseq2.deepstarr.{PREFIX}\"\n",
    "    crw.check(config, section)\n",
    "\n",
    "    config[section][\"train_fa\"] = TRAIN_FA\n",
    "    config[section][\"val_fa\"] = VAL_FA\n",
    "    config[section][\"test_fa\"] = TEST_FA\n",
    "\n",
    "    config[section][\"train_target\"] = TRAIN_TARGET\n",
    "    config[section][\"tval_target\"] = VAL_TARGET\n",
    "    config[section][\"test_target\"] = TEST_TARGET\n",
    "\n",
    "    config[section][\"filter_MIN_CONC\"] = str(MIN_CONC_FILTER)\n",
    "    if MIN_CONC_FILTER is True:\n",
    "        config[section][\"MIN_CONC\"] = str(MIN_CONC)\n",
    "\n",
    "    config[section][\"filter_quantile\"] = str(QUANTILE_FILTER)\n",
    "    config[section][\"filter_jointaccessible\"] = str(JOINT_ACCESSIBLE)\n",
    "    config[section][\"classlabel\"] = str(CLASS_LABEL)\n",
    "\n",
    "    crw.write(config, cfn)\n",
    "\n",
    "    ### load data ###\n",
    "    os.chdir(PATH)\n",
    "    table = pd.read_csv(FULL, sep='\\t').drop_duplicates()\n",
    "\n",
    "    table[\"coor.type\"] = table[\"type\"] + \"|\" + table[\"seq.id\"]\n",
    "\n",
    "    if \"Conc_Ultrasound_dif\" not in list(table):\n",
    "        table[\"Conc_Ultrasound_dif\"] = table[\"Conc_Control\"] - \\\n",
    "            table[\"Conc_Ultrasound\"]\n",
    "\n",
    "    table.rename(columns={\"Conc_Ultrasound\": \"US\",\n",
    "                          \"Conc_Control\": \"ctrl\",\n",
    "                          \"Conc_Ultrasound_dif\": \"US_DIF\"}, inplace=True)\n",
    "    \n",
    "    # remove alternative chromosome alignments\n",
    "    table = table.loc[~table['#chr'].str.contains('v')]\n",
    "\n",
    "    print(\"original dataset shape\", table.shape)\n",
    "\n",
    "    ### FILTER ###\n",
    "\n",
    "    ## mean read depth filter\n",
    "    # remove noisy peaks with low read counts. \n",
    "    table = minConcFilter(table, MIN_CONC, MIN_CONC_FILTER) \n",
    "\n",
    "    ## quantile filter - remove any peaks above the quantile. \n",
    "    # important for regression-task\n",
    "    table = quantileFilter(table, QUANTILE_FILTER, quantile=0.99)\n",
    "\n",
    "    ## joint accessible filter\n",
    "    table = jointAccessibleFilter(table, JOINT_ACCESSIBLE)\n",
    "\n",
    "    ## apply class label—1 if CONC>MIN_CONC, 0 if CONC<MIN_CONC\n",
    "\n",
    "    table = diffAccLabel(table, DIFF_BED, CLASS_LABEL)\n",
    "    #print(table.groupby(['ctrl', \"US\", \"US_DIF\", \"diffAcc\"])['#chr'].count())\n",
    "\n",
    "    # filter for us-increasing sequences? \n",
    "    table = directionFilter(table, DIRECTION_FILTER)\n",
    "\n",
    "    # annotate which cl this is\n",
    "    table[\"cl\"]=CL\n",
    "\n",
    "    ### TRAIN TEST SPLIT ###\n",
    "    ## train on atac peaks\n",
    "    os.chdir(DATA_PATH)\n",
    "\n",
    "    table = dfShuffle(table)  # shuffle the table before splitting\n",
    "\n",
    "    train, val, test = splitTrainTestVal(table, val_chr_list=[VAL_CHR], test_chr_list=TEST_CHR)\n",
    "    \n",
    "    print(\"positives in val, test\", val.groupby(\"diffAcc\")[\"seq\"].count(), test.groupby(\"diffAcc\")[\"seq\"].count())\n",
    "    \n",
    "    # downsample training data\n",
    "    train = downsampleNegClass(train, DOWNSAMPLE)\n",
    "\n",
    "    writeFa(test[fa_cols], TEST_FA)\n",
    "    writeFa(train[fa_cols], TRAIN_FA)\n",
    "    writeFa(val[fa_cols], VAL_FA)\n",
    "        \n",
    "\n",
    "    test[cols].to_csv(TEST_TARGET, sep='\\t', index=False)\n",
    "    train[cols].to_csv(TRAIN_TARGET, sep='\\t', index=False)\n",
    "    val[cols].to_csv(VAL_TARGET, sep='\\t', index=False)\n",
    "    print(val.shape, train.shape, test.shape, \"\\n\\n\")\n",
    "\n",
    "    train_dict[CL], val_dict[CL], test_dict[CL] = train, val, test"
   ]
  },
  {
   "cell_type": "markdown",
   "id": "2989d0ab",
   "metadata": {},
   "source": [
    "# combine training, test data across cell types. "
   ]
  },
  {
   "cell_type": "markdown",
   "id": "b9e9ed65",
   "metadata": {},
   "source": [
    "## config - write"
   ]
  },
  {
   "cell_type": "code",
   "execution_count": 118,
   "id": "855d9025",
   "metadata": {
    "ExecuteTime": {
     "end_time": "2024-04-08T20:04:08.684685Z",
     "start_time": "2024-04-08T20:04:08.662923Z"
    }
   },
   "outputs": [],
   "source": [
    "DATA_PATH = \"/wynton/home/ahituv/fongsl/EMF/US/ml_emf/data/deepstarr/deseq2/all/class.all.balanced\"\n",
    "if os.path.exists(DATA_PATH) is False:\n",
    "    os.mkdir(DATA_PATH)\n",
    "os.chdir(DATA_PATH)\n",
    "CL = \"allcl\"\n",
    "PREFIX=\"general\"\n",
    "\n",
    "\n",
    "# file inputs for training, testing\n",
    "TRAIN_FA = f\"{PREFIX}.Sequences_Train.fa\"\n",
    "VAL_FA = f\"{PREFIX}.Sequences_Val.fa\"\n",
    "TEST_FA = f\"{PREFIX}.Sequences_Test.fa\"\n",
    "\n",
    "## y\n",
    "TRAIN_TARGET = f\"{PREFIX}.Sequences_activity_Train.txt\"\n",
    "VAL_TARGET = f\"{PREFIX}.Sequences_activity_Val.txt\"\n",
    "TEST_TARGET = f\"{PREFIX}.Sequences_activity_Test.txt\"\n",
    "\n",
    "## rules\n",
    "\n",
    "## deepstarr config \n",
    "section = f\"{CL}.atac.deseq2.deepstarr\"\n",
    "crw.check(config, section)\n",
    "\n",
    "config[section][\"data_path\"] = DATA_PATH\n",
    "config[section][\"held_out_chr\"] = \",\".join(TEST_CHR)\n",
    "config[section][\"val_chr\"] = VAL_CHR\n",
    "\n",
    "# deepstarr prefix config\n",
    "section = f\"{CL}.atac.deseq2.deepstarr.{PREFIX}\"\n",
    "crw.check(config, section)\n",
    "\n",
    "config[section][\"train_fa\"] = TRAIN_FA\n",
    "config[section][\"val_fa\"] = VAL_FA\n",
    "config[section][\"test_fa\"] = TEST_FA\n",
    "\n",
    "config[section][\"train_target\"] = TRAIN_TARGET\n",
    "config[section][\"tval_target\"] = VAL_TARGET\n",
    "config[section][\"test_target\"] = TEST_TARGET\n",
    "\n",
    "config[section][\"filter_MIN_CONC\"] = str(MIN_CONC_FILTER)\n",
    "if MIN_CONC_FILTER is True:\n",
    "    config[section][\"MIN_CONC\"] = str(MIN_CONC)\n",
    "\n",
    "config[section][\"filter_quantile\"] = str(QUANTILE_FILTER)\n",
    "config[section][\"filter_jointaccessible\"] = str(JOINT_ACCESSIBLE)\n",
    "config[section][\"classlabel\"] = str(CLASS_LABEL)\n",
    "\n",
    "crw.write(config, cfn)"
   ]
  },
  {
   "cell_type": "markdown",
   "id": "507aa148",
   "metadata": {},
   "source": [
    "## concat dictionaries"
   ]
  },
  {
   "cell_type": "code",
   "execution_count": 119,
   "id": "9177fe96",
   "metadata": {
    "ExecuteTime": {
     "end_time": "2024-04-08T20:04:13.548499Z",
     "start_time": "2024-04-08T20:04:13.462427Z"
    }
   },
   "outputs": [],
   "source": [
    "train_full = pd.concat(train_dict.values())\n",
    "val_full = pd.concat(val_dict.values())\n",
    "test_full = pd.concat(test_dict.values())"
   ]
  },
  {
   "cell_type": "markdown",
   "id": "108cfc8b",
   "metadata": {},
   "source": [
    "## write full tables"
   ]
  },
  {
   "cell_type": "code",
   "execution_count": 120,
   "id": "01b0bfe4",
   "metadata": {
    "ExecuteTime": {
     "end_time": "2024-04-08T20:04:22.648389Z",
     "start_time": "2024-04-08T20:04:15.413626Z"
    }
   },
   "outputs": [
    {
     "data": {
      "text/plain": [
       "(8100, 20718, 42573)"
      ]
     },
     "execution_count": 120,
     "metadata": {},
     "output_type": "execute_result"
    }
   ],
   "source": [
    "# write fasta\n",
    "writeFa(test_full[fa_cols], TEST_FA)\n",
    "writeFa(train_full[fa_cols], TRAIN_FA)\n",
    "writeFa(val_full[fa_cols], VAL_FA)\n",
    "\n",
    "# write fasta\n",
    "test_full[cols].to_csv(TEST_TARGET, sep='\\t', index=False)\n",
    "train_full[cols].to_csv(TRAIN_TARGET, sep='\\t', index=False)\n",
    "val_full[cols].to_csv(VAL_TARGET, sep='\\t', index=False)\n",
    "\n",
    "# report nrows\n",
    "train_full.shape[0], val_full.shape[0], test_full.shape[0]"
   ]
  },
  {
   "cell_type": "markdown",
   "id": "00fb5cef",
   "metadata": {},
   "source": [
    "## table pivot \n",
    "- 1 = diff accessible element. \n",
    "- 0 = not dif accessible OR NOT accessible. This might be a problem, as some sequences may be predicted zero because they are not differentially accessible or because they are not present in a cell type at all. \n",
    "\n",
    "\n",
    "### Experimental question\n",
    "- should US-sensitivity be predicted as a cell-type-specific task? or just in general?\n",
    "\n",
    "    - One hypothesis for in general: DA elements have sequence similarity between cell lines, but are accessible at different loci depending on cell-type. This suggests similar trans-regulatory responses, but cis-regulatory effects that are cell-type-specific. In this case, predicting DA based on sequence, regardless of cell type, is an appropriate classification task. \n",
    "    \n",
    "    - One hypothesis for in cl-specific: DA elements have distinct sequences across cell lines and are accessible at different loci depending on cell-type. This would suggest different trans-regulatory responses per cell line, producing different cis-regulatory effects that are cell-type-specific. In this case, predicting DA based on both sequence AND cell type is appropriate. "
   ]
  },
  {
   "cell_type": "code",
   "execution_count": 122,
   "id": "c42c91fb",
   "metadata": {
    "ExecuteTime": {
     "end_time": "2024-04-08T20:20:31.940914Z",
     "start_time": "2024-04-08T20:20:31.926745Z"
    }
   },
   "outputs": [],
   "source": [
    "DATA_PATH = \"/wynton/home/ahituv/fongsl/EMF/US/ml_emf/data/deepstarr/deseq2/all/class.all.balanced\"\n",
    "if os.path.exists(DATA_PATH) is False:\n",
    "    os.mkdir(DATA_PATH)\n",
    "os.chdir(DATA_PATH)\n",
    "CL = \"allcl-stratified\"\n",
    "PREFIX=\"cl-specific\"\n",
    "\n",
    "\n",
    "# file inputs for training, testing\n",
    "TRAIN_FA = f\"{PREFIX}.Sequences_Train.fa\"\n",
    "VAL_FA = f\"{PREFIX}.Sequences_Val.fa\"\n",
    "TEST_FA = f\"{PREFIX}.Sequences_Test.fa\"\n",
    "\n",
    "## y\n",
    "TRAIN_TARGET = f\"{PREFIX}.Sequences_activity_Train.txt\"\n",
    "VAL_TARGET = f\"{PREFIX}.Sequences_activity_Val.txt\"\n",
    "TEST_TARGET = f\"{PREFIX}.Sequences_activity_Test.txt\"\n",
    "\n",
    "## rules\n",
    "\n",
    "## deepstarr config \n",
    "section = f\"{CL}.atac.deseq2.deepstarr\"\n",
    "crw.check(config, section)\n",
    "\n",
    "config[section][\"data_path\"] = DATA_PATH\n",
    "config[section][\"held_out_chr\"] = \",\".join(TEST_CHR)\n",
    "config[section][\"val_chr\"] = VAL_CHR\n",
    "\n",
    "# deepstarr prefix config\n",
    "section = f\"{CL}.atac.deseq2.deepstarr.{PREFIX}\"\n",
    "crw.check(config, section)\n",
    "\n",
    "config[section][\"train_fa\"] = TRAIN_FA\n",
    "config[section][\"val_fa\"] = VAL_FA\n",
    "config[section][\"test_fa\"] = TEST_FA\n",
    "\n",
    "config[section][\"train_target\"] = TRAIN_TARGET\n",
    "config[section][\"tval_target\"] = VAL_TARGET\n",
    "config[section][\"test_target\"] = TEST_TARGET\n",
    "\n",
    "config[section][\"filter_MIN_CONC\"] = str(MIN_CONC_FILTER)\n",
    "if MIN_CONC_FILTER is True:\n",
    "    config[section][\"MIN_CONC\"] = str(MIN_CONC)\n",
    "\n",
    "config[section][\"filter_quantile\"] = str(QUANTILE_FILTER)\n",
    "config[section][\"filter_jointaccessible\"] = str(JOINT_ACCESSIBLE)\n",
    "config[section][\"classlabel\"] = str(CLASS_LABEL)\n",
    "\n",
    "crw.write(config, cfn)"
   ]
  },
  {
   "cell_type": "code",
   "execution_count": 128,
   "id": "3692e5bb",
   "metadata": {
    "ExecuteTime": {
     "end_time": "2024-04-08T20:23:16.072330Z",
     "start_time": "2024-04-08T20:23:15.874532Z"
    }
   },
   "outputs": [],
   "source": [
    "# pivot tables. \n",
    "train_full_table=pd.pivot(train_full, columns = \"cl\", index=\"coor.type\", values=\"diffAcc\").fillna(0).reset_index()\n",
    "val_full_table=pd.pivot(val_full, columns = \"cl\", index=\"coor.type\", values=\"diffAcc\").fillna(0).reset_index()\n",
    "test_full_table=pd.pivot(test_full, columns = \"cl\", index=\"coor.type\", values=\"diffAcc\").fillna(0).reset_index()\n",
    "\n",
    "# add sequences bak\n",
    "train_full_table=pd.merge(train_full[[\"coor.type\", \"seq\"]], train_full_table)\n",
    "val_full_table=pd.merge(val_full[[\"coor.type\", \"seq\"]], val_full_table)\n",
    "test_full_table=pd.merge(test_full[[\"coor.type\", \"seq\"]], test_full_table)"
   ]
  },
  {
   "cell_type": "markdown",
   "id": "56ee0026",
   "metadata": {},
   "source": [
    "### write pivot tables"
   ]
  },
  {
   "cell_type": "code",
   "execution_count": 143,
   "id": "f2765298",
   "metadata": {
    "ExecuteTime": {
     "end_time": "2024-04-08T21:17:18.121732Z",
     "start_time": "2024-04-08T21:17:11.022646Z"
    }
   },
   "outputs": [
    {
     "data": {
      "text/plain": [
       "(8100, 20718, 42573)"
      ]
     },
     "execution_count": 143,
     "metadata": {},
     "output_type": "execute_result"
    }
   ],
   "source": [
    "# write fasta\n",
    "writeFa(test_full_table[fa_cols], TEST_FA)\n",
    "writeFa(train_full_table[fa_cols], TRAIN_FA)\n",
    "writeFa(val_full_table[fa_cols], VAL_FA)\n",
    "\n",
    "# write target\n",
    "cols = list(test_full_table.columns)\n",
    "cols.remove(\"seq\")\n",
    "\n",
    "test_full_table[cols].to_csv(TEST_TARGET, sep='\\t', index=False)\n",
    "train_full_table[cols].to_csv(TRAIN_TARGET, sep='\\t', index=False)\n",
    "val_full_table[cols].to_csv(VAL_TARGET, sep='\\t', index=False)\n",
    "\n",
    "# report nrows\n",
    "train_full_table.shape[0], val_full_table.shape[0], test_full_table.shape[0]"
   ]
  },
  {
   "cell_type": "markdown",
   "id": "c7fb266e",
   "metadata": {},
   "source": [
    "### side quest - DiffAcc elements are cell type-specific "
   ]
  },
  {
   "cell_type": "code",
   "execution_count": 69,
   "id": "aa06d024",
   "metadata": {
    "ExecuteTime": {
     "end_time": "2024-04-08T18:46:03.685348Z",
     "start_time": "2024-04-08T18:46:03.526092Z"
    }
   },
   "outputs": [
    {
     "data": {
      "text/html": [
       "<div>\n",
       "<style scoped>\n",
       "    .dataframe tbody tr th:only-of-type {\n",
       "        vertical-align: middle;\n",
       "    }\n",
       "\n",
       "    .dataframe tbody tr th {\n",
       "        vertical-align: top;\n",
       "    }\n",
       "\n",
       "    .dataframe thead th {\n",
       "        text-align: right;\n",
       "    }\n",
       "</style>\n",
       "<table border=\"1\" class=\"dataframe\">\n",
       "  <thead>\n",
       "    <tr style=\"text-align: right;\">\n",
       "      <th></th>\n",
       "      <th>coor.type</th>\n",
       "      <th>0</th>\n",
       "    </tr>\n",
       "  </thead>\n",
       "  <tbody>\n",
       "    <tr>\n",
       "      <th>8099</th>\n",
       "      <td>k562.9|chr2:171598770-171599041</td>\n",
       "      <td>1.0</td>\n",
       "    </tr>\n",
       "    <tr>\n",
       "      <th>6276</th>\n",
       "      <td>hob.7609|chr11:2471850-2472121</td>\n",
       "      <td>1.0</td>\n",
       "    </tr>\n",
       "    <tr>\n",
       "      <th>3490</th>\n",
       "      <td>hob.131|chr7:84194994-84195265</td>\n",
       "      <td>1.0</td>\n",
       "    </tr>\n",
       "    <tr>\n",
       "      <th>3489</th>\n",
       "      <td>hob.1319|chr9:129838741-129839012</td>\n",
       "      <td>1.0</td>\n",
       "    </tr>\n",
       "    <tr>\n",
       "      <th>6226</th>\n",
       "      <td>hob.737|chr7:134793016-134793287</td>\n",
       "      <td>1.0</td>\n",
       "    </tr>\n",
       "    <tr>\n",
       "      <th>...</th>\n",
       "      <td>...</td>\n",
       "      <td>...</td>\n",
       "    </tr>\n",
       "    <tr>\n",
       "      <th>3350</th>\n",
       "      <td>hob.125505|chr13:95628567-95628838</td>\n",
       "      <td>0.0</td>\n",
       "    </tr>\n",
       "    <tr>\n",
       "      <th>3349</th>\n",
       "      <td>hob.125419|chr4:76558468-76558739</td>\n",
       "      <td>0.0</td>\n",
       "    </tr>\n",
       "    <tr>\n",
       "      <th>3348</th>\n",
       "      <td>hob.125367|chr6:79813944-79814215</td>\n",
       "      <td>0.0</td>\n",
       "    </tr>\n",
       "    <tr>\n",
       "      <th>3347</th>\n",
       "      <td>hob.125358|chr8:11571836-11572107</td>\n",
       "      <td>0.0</td>\n",
       "    </tr>\n",
       "    <tr>\n",
       "      <th>4050</th>\n",
       "      <td>hob.159372|chr5:163347637-163347908</td>\n",
       "      <td>0.0</td>\n",
       "    </tr>\n",
       "  </tbody>\n",
       "</table>\n",
       "<p>8100 rows × 2 columns</p>\n",
       "</div>"
      ],
      "text/plain": [
       "                                coor.type    0\n",
       "8099      k562.9|chr2:171598770-171599041  1.0\n",
       "6276       hob.7609|chr11:2471850-2472121  1.0\n",
       "3490       hob.131|chr7:84194994-84195265  1.0\n",
       "3489    hob.1319|chr9:129838741-129839012  1.0\n",
       "6226     hob.737|chr7:134793016-134793287  1.0\n",
       "...                                   ...  ...\n",
       "3350   hob.125505|chr13:95628567-95628838  0.0\n",
       "3349    hob.125419|chr4:76558468-76558739  0.0\n",
       "3348    hob.125367|chr6:79813944-79814215  0.0\n",
       "3347    hob.125358|chr8:11571836-11572107  0.0\n",
       "4050  hob.159372|chr5:163347637-163347908  0.0\n",
       "\n",
       "[8100 rows x 2 columns]"
      ]
     },
     "execution_count": 69,
     "metadata": {},
     "output_type": "execute_result"
    }
   ],
   "source": [
    "# there are no training examples where a regulatory element has US sensitive activity >1 cell type. See col 0\n",
    "train_full_table.sum(axis=1).reset_index().sort_values(by=0, ascending=False)  "
   ]
  },
  {
   "cell_type": "code",
   "execution_count": 70,
   "id": "e5a18fec",
   "metadata": {
    "ExecuteTime": {
     "end_time": "2024-04-08T18:46:04.739341Z",
     "start_time": "2024-04-08T18:46:04.735160Z"
    }
   },
   "outputs": [
    {
     "data": {
      "text/plain": [
       "(8100, 20718, 42573)"
      ]
     },
     "execution_count": 70,
     "metadata": {},
     "output_type": "execute_result"
    }
   ],
   "source": []
  },
  {
   "cell_type": "markdown",
   "id": "9b3aeed5",
   "metadata": {},
   "source": [
    "## EDA"
   ]
  },
  {
   "cell_type": "markdown",
   "id": "bf110369",
   "metadata": {},
   "source": [
    "### per cell line - N training elements "
   ]
  },
  {
   "cell_type": "code",
   "execution_count": 85,
   "id": "064f5f39",
   "metadata": {
    "ExecuteTime": {
     "end_time": "2024-04-08T18:50:13.161914Z",
     "start_time": "2024-04-08T18:50:12.899183Z"
    },
    "scrolled": false
   },
   "outputs": [
    {
     "data": {
      "text/plain": [
       "[Text(0.5, 1.0, 'Training dataset\\nn elements per cell line'),\n",
       " Text(0, 0.5, 'n elements')]"
      ]
     },
     "execution_count": 85,
     "metadata": {},
     "output_type": "execute_result"
    },
    {
     "data": {
      "image/png": "[encoded data removed]",
      "text/plain": [
       "<Figure size 400x400 with 1 Axes>"
      ]
     },
     "metadata": {},
     "output_type": "display_data"
    }
   ],
   "source": [
    "plot = train_full.groupby([\"cl\", \"diffAcc\"]).count().reset_index()\n",
    "\n",
    "# plot\n",
    "fig, ax=plt.subplots(figsize=(4,4))\n",
    "sns.barplot(x=\"cl\", y=\"#chr\", data=plot, hue=\"diffAcc\")\n",
    "ax.set(title=\"Training dataset\\nn elements per cell line\", \n",
    "      ylabel=\"n elements\")"
   ]
  },
  {
   "cell_type": "markdown",
   "id": "34e3ceff",
   "metadata": {},
   "source": [
    "### per cell line - N test elements "
   ]
  },
  {
   "cell_type": "code",
   "execution_count": 102,
   "id": "38a233cf",
   "metadata": {
    "ExecuteTime": {
     "end_time": "2024-04-08T18:55:15.880833Z",
     "start_time": "2024-04-08T18:55:15.569180Z"
    }
   },
   "outputs": [
    {
     "data": {
      "text/plain": [
       "[Text(0.5, 1.0, 'Test dataset\\nn elements per cell line'),\n",
       " Text(0, 0.5, 'n elements')]"
      ]
     },
     "execution_count": 102,
     "metadata": {},
     "output_type": "execute_result"
    },
    {
     "data": {
      "image/png": "[encoded data removed]",
      "text/plain": [
       "<Figure size 400x400 with 1 Axes>"
      ]
     },
     "metadata": {},
     "output_type": "display_data"
    }
   ],
   "source": [
    "plot = test_full.groupby([\"cl\", \"diffAcc\"]).count().reset_index()\n",
    "\n",
    "# plot\n",
    "fig, ax=plt.subplots(figsize=(4,4))\n",
    "sns.barplot(x=\"cl\", y=\"#chr\", data=plot, hue=\"diffAcc\")\n",
    "ax.set(title=\"Test dataset\\nn elements per cell line\", \n",
    "      ylabel=\"n elements\")"
   ]
  },
  {
   "cell_type": "markdown",
   "id": "4bbe3d91",
   "metadata": {},
   "source": [
    "### per cell line, chromosome, N training elements"
   ]
  },
  {
   "cell_type": "code",
   "execution_count": 101,
   "id": "33e571a8",
   "metadata": {
    "ExecuteTime": {
     "end_time": "2024-04-08T18:54:19.807046Z",
     "start_time": "2024-04-08T18:54:18.912392Z"
    }
   },
   "outputs": [
    {
     "data": {
      "text/plain": [
       "<matplotlib.legend.Legend at 0x7fade7add760>"
      ]
     },
     "execution_count": 101,
     "metadata": {},
     "output_type": "execute_result"
    },
    {
     "data": {
      "image/png": "[encoded data removed]",
      "text/plain": [
       "<Figure size 400x400 with 1 Axes>"
      ]
     },
     "metadata": {},
     "output_type": "display_data"
    }
   ],
   "source": [
    "plot = train_full.groupby([\"#chr\", \"cl\"]).count().reset_index()\n",
    "\n",
    "chr_list = chrList()\n",
    "chr_list.remove(TEST_CHR[0]) \n",
    "chr_list.remove(VAL_CHR)\n",
    "\n",
    "# plot\n",
    "fig, ax=plt.subplots(figsize=(4,4))\n",
    "sns.barplot(x=\"cl\", y=\"start_trim\", data=plot, hue=\"#chr\", hue_order=chr_list)\n",
    "ax.set(title=\"Training dataset\\nn elements per chromosome, cell line\", \n",
    "      ylabel=\"n elements\")\n",
    "ax.legend(bbox_to_anchor=(1,1))"
   ]
  },
  {
   "cell_type": "code",
   "execution_count": 104,
   "id": "c25bf55c",
   "metadata": {
    "ExecuteTime": {
     "end_time": "2024-04-08T19:00:18.303197Z",
     "start_time": "2024-04-08T19:00:18.008047Z"
    }
   },
   "outputs": [
    {
     "data": {
      "text/plain": [
       "[Text(0.5, 1.0, 'Val dataset\\nn elements per cell line'),\n",
       " Text(0, 0.5, 'n elements')]"
      ]
     },
     "execution_count": 104,
     "metadata": {},
     "output_type": "execute_result"
    },
    {
     "data": {
      "image/png": "[encoded data removed]",
      "text/plain": [
       "<Figure size 400x400 with 1 Axes>"
      ]
     },
     "metadata": {},
     "output_type": "display_data"
    }
   ],
   "source": [
    "plot = val_full.groupby([\"cl\", \"diffAcc\"]).count().reset_index()\n",
    "\n",
    "# plot\n",
    "fig, ax=plt.subplots(figsize=(4,4))\n",
    "sns.barplot(x=\"cl\", y=\"#chr\", data=plot, hue=\"diffAcc\")\n",
    "ax.set(title=\"Val dataset\\nn elements per cell line\", \n",
    "      ylabel=\"n elements\")"
   ]
  },
  {
   "cell_type": "markdown",
   "id": "2a6e3b01",
   "metadata": {},
   "source": [
    "### peak at training dataframe"
   ]
  },
  {
   "cell_type": "code",
   "execution_count": 75,
   "id": "ee4753e8",
   "metadata": {
    "ExecuteTime": {
     "end_time": "2024-04-08T18:46:23.530627Z",
     "start_time": "2024-04-08T18:46:23.512628Z"
    }
   },
   "outputs": [
    {
     "data": {
      "text/html": [
       "<div>\n",
       "<style scoped>\n",
       "    .dataframe tbody tr th:only-of-type {\n",
       "        vertical-align: middle;\n",
       "    }\n",
       "\n",
       "    .dataframe tbody tr th {\n",
       "        vertical-align: top;\n",
       "    }\n",
       "\n",
       "    .dataframe thead th {\n",
       "        text-align: right;\n",
       "    }\n",
       "</style>\n",
       "<table border=\"1\" class=\"dataframe\">\n",
       "  <thead>\n",
       "    <tr style=\"text-align: right;\">\n",
       "      <th></th>\n",
       "      <th>#chr</th>\n",
       "      <th>start_trim</th>\n",
       "      <th>end_trim</th>\n",
       "      <th>type</th>\n",
       "      <th>seq.id</th>\n",
       "      <th>US</th>\n",
       "      <th>ctrl</th>\n",
       "      <th>US_DIF</th>\n",
       "      <th>seq</th>\n",
       "      <th>coor.type</th>\n",
       "      <th>diffAcc</th>\n",
       "      <th>cl</th>\n",
       "    </tr>\n",
       "  </thead>\n",
       "  <tbody>\n",
       "    <tr>\n",
       "      <th>56532</th>\n",
       "      <td>chrX</td>\n",
       "      <td>130704419</td>\n",
       "      <td>130704690</td>\n",
       "      <td>hepg2.37</td>\n",
       "      <td>chrX:130704419-130704690</td>\n",
       "      <td>0.000000</td>\n",
       "      <td>3.065094</td>\n",
       "      <td>3.065094</td>\n",
       "      <td>TACATGTACACAGTGTTGGGAGAGATATAGTCATGAGTCATCTGAG...</td>\n",
       "      <td>hepg2.37|chrX:130704419-130704690</td>\n",
       "      <td>1</td>\n",
       "      <td>hepg2</td>\n",
       "    </tr>\n",
       "    <tr>\n",
       "      <th>26486</th>\n",
       "      <td>chr16</td>\n",
       "      <td>74738120</td>\n",
       "      <td>74738391</td>\n",
       "      <td>bj.144</td>\n",
       "      <td>chr16:74738120-74738391</td>\n",
       "      <td>0.000000</td>\n",
       "      <td>2.663705</td>\n",
       "      <td>2.663705</td>\n",
       "      <td>CAGAGTAGGCCTCCACATCCTCCCAGGGCCCAGCCCTCGCCCTTCC...</td>\n",
       "      <td>bj.144|chr16:74738120-74738391</td>\n",
       "      <td>1</td>\n",
       "      <td>bj</td>\n",
       "    </tr>\n",
       "    <tr>\n",
       "      <th>55425</th>\n",
       "      <td>chr6</td>\n",
       "      <td>33134103</td>\n",
       "      <td>33134374</td>\n",
       "      <td>hepg2.2858</td>\n",
       "      <td>chr6:33134103-33134374</td>\n",
       "      <td>0.000000</td>\n",
       "      <td>2.089445</td>\n",
       "      <td>2.089445</td>\n",
       "      <td>tttccaagaatgtggagggatccttctcagttgtgagatcatgaag...</td>\n",
       "      <td>hepg2.2858|chr6:33134103-33134374</td>\n",
       "      <td>1</td>\n",
       "      <td>hepg2</td>\n",
       "    </tr>\n",
       "    <tr>\n",
       "      <th>21276</th>\n",
       "      <td>chr17</td>\n",
       "      <td>82599854</td>\n",
       "      <td>82600125</td>\n",
       "      <td>bj.323</td>\n",
       "      <td>chr17:82599854-82600125</td>\n",
       "      <td>0.000000</td>\n",
       "      <td>2.040915</td>\n",
       "      <td>2.040915</td>\n",
       "      <td>GGCAAGTCCCCCTCCCACATCTCTAGGCACCAGGGCGTAGCGTACC...</td>\n",
       "      <td>bj.323|chr17:82599854-82600125</td>\n",
       "      <td>1</td>\n",
       "      <td>bj</td>\n",
       "    </tr>\n",
       "    <tr>\n",
       "      <th>19121</th>\n",
       "      <td>chr8</td>\n",
       "      <td>127859878</td>\n",
       "      <td>127860149</td>\n",
       "      <td>bj.194</td>\n",
       "      <td>chr8:127859878-127860149</td>\n",
       "      <td>0.000000</td>\n",
       "      <td>2.810927</td>\n",
       "      <td>2.810927</td>\n",
       "      <td>CTCTACAAGCAGAGAGGCTGAGTCATACAGATCCTGAGGGGAGATC...</td>\n",
       "      <td>bj.194|chr8:127859878-127860149</td>\n",
       "      <td>1</td>\n",
       "      <td>bj</td>\n",
       "    </tr>\n",
       "    <tr>\n",
       "      <th>...</th>\n",
       "      <td>...</td>\n",
       "      <td>...</td>\n",
       "      <td>...</td>\n",
       "      <td>...</td>\n",
       "      <td>...</td>\n",
       "      <td>...</td>\n",
       "      <td>...</td>\n",
       "      <td>...</td>\n",
       "      <td>...</td>\n",
       "      <td>...</td>\n",
       "      <td>...</td>\n",
       "      <td>...</td>\n",
       "    </tr>\n",
       "    <tr>\n",
       "      <th>8355</th>\n",
       "      <td>chr17</td>\n",
       "      <td>82022945</td>\n",
       "      <td>82023216</td>\n",
       "      <td>hob.1129</td>\n",
       "      <td>chr17:82022945-82023216</td>\n",
       "      <td>10.235839</td>\n",
       "      <td>10.001215</td>\n",
       "      <td>-0.234624</td>\n",
       "      <td>CCGCGCCCCTAGCCAATGAGTCCGAAGCGCCTGCTCTCGGAGCCCC...</td>\n",
       "      <td>hob.1129|chr17:82022945-82023216</td>\n",
       "      <td>1</td>\n",
       "      <td>hob</td>\n",
       "    </tr>\n",
       "    <tr>\n",
       "      <th>90060</th>\n",
       "      <td>chr17</td>\n",
       "      <td>81860739</td>\n",
       "      <td>81861010</td>\n",
       "      <td>hob.298</td>\n",
       "      <td>chr17:81860739-81861010</td>\n",
       "      <td>10.260538</td>\n",
       "      <td>10.034846</td>\n",
       "      <td>-0.225692</td>\n",
       "      <td>CCTGGCCTTCGTTCGGGATTGGCCGAGGACCTCGCGCTCGCTGTCT...</td>\n",
       "      <td>hob.298|chr17:81860739-81861010</td>\n",
       "      <td>1</td>\n",
       "      <td>hob</td>\n",
       "    </tr>\n",
       "    <tr>\n",
       "      <th>35023</th>\n",
       "      <td>chr20</td>\n",
       "      <td>31572944</td>\n",
       "      <td>31573215</td>\n",
       "      <td>hob.977</td>\n",
       "      <td>chr20:31572944-31573215</td>\n",
       "      <td>10.281258</td>\n",
       "      <td>10.055790</td>\n",
       "      <td>-0.225469</td>\n",
       "      <td>TATCAGGGGCGGGGCCTCAGGGGCCTGCCCCTGCCTCCCCGCCCTG...</td>\n",
       "      <td>hob.977|chr20:31572944-31573215</td>\n",
       "      <td>1</td>\n",
       "      <td>hob</td>\n",
       "    </tr>\n",
       "    <tr>\n",
       "      <th>140941</th>\n",
       "      <td>chr19</td>\n",
       "      <td>797032</td>\n",
       "      <td>797303</td>\n",
       "      <td>hob.16060</td>\n",
       "      <td>chr19:797032-797303</td>\n",
       "      <td>10.319324</td>\n",
       "      <td>10.197688</td>\n",
       "      <td>-0.121636</td>\n",
       "      <td>CAGGCGGGCGGGTCCTGCCCACTTGCAAGATGGCGGCAGCCTGGGC...</td>\n",
       "      <td>hob.16060|chr19:797032-797303</td>\n",
       "      <td>0</td>\n",
       "      <td>hob</td>\n",
       "    </tr>\n",
       "    <tr>\n",
       "      <th>33348</th>\n",
       "      <td>chr22</td>\n",
       "      <td>19723312</td>\n",
       "      <td>19723583</td>\n",
       "      <td>k562.69187</td>\n",
       "      <td>chr22:19723312-19723583</td>\n",
       "      <td>10.680029</td>\n",
       "      <td>10.645665</td>\n",
       "      <td>-0.034364</td>\n",
       "      <td>GAACGTCGCAGCGGGTGTCCGAGTGCTCCGTGTGCCCCTGAGAGCG...</td>\n",
       "      <td>k562.69187|chr22:19723312-19723583</td>\n",
       "      <td>0</td>\n",
       "      <td>k562</td>\n",
       "    </tr>\n",
       "  </tbody>\n",
       "</table>\n",
       "<p>8100 rows × 12 columns</p>\n",
       "</div>"
      ],
      "text/plain": [
       "         #chr  start_trim   end_trim        type                    seq.id  \\\n",
       "56532    chrX   130704419  130704690    hepg2.37  chrX:130704419-130704690   \n",
       "26486   chr16    74738120   74738391      bj.144   chr16:74738120-74738391   \n",
       "55425    chr6    33134103   33134374  hepg2.2858    chr6:33134103-33134374   \n",
       "21276   chr17    82599854   82600125      bj.323   chr17:82599854-82600125   \n",
       "19121    chr8   127859878  127860149      bj.194  chr8:127859878-127860149   \n",
       "...       ...         ...        ...         ...                       ...   \n",
       "8355    chr17    82022945   82023216    hob.1129   chr17:82022945-82023216   \n",
       "90060   chr17    81860739   81861010     hob.298   chr17:81860739-81861010   \n",
       "35023   chr20    31572944   31573215     hob.977   chr20:31572944-31573215   \n",
       "140941  chr19      797032     797303   hob.16060       chr19:797032-797303   \n",
       "33348   chr22    19723312   19723583  k562.69187   chr22:19723312-19723583   \n",
       "\n",
       "               US       ctrl    US_DIF  \\\n",
       "56532    0.000000   3.065094  3.065094   \n",
       "26486    0.000000   2.663705  2.663705   \n",
       "55425    0.000000   2.089445  2.089445   \n",
       "21276    0.000000   2.040915  2.040915   \n",
       "19121    0.000000   2.810927  2.810927   \n",
       "...           ...        ...       ...   \n",
       "8355    10.235839  10.001215 -0.234624   \n",
       "90060   10.260538  10.034846 -0.225692   \n",
       "35023   10.281258  10.055790 -0.225469   \n",
       "140941  10.319324  10.197688 -0.121636   \n",
       "33348   10.680029  10.645665 -0.034364   \n",
       "\n",
       "                                                      seq  \\\n",
       "56532   TACATGTACACAGTGTTGGGAGAGATATAGTCATGAGTCATCTGAG...   \n",
       "26486   CAGAGTAGGCCTCCACATCCTCCCAGGGCCCAGCCCTCGCCCTTCC...   \n",
       "55425   tttccaagaatgtggagggatccttctcagttgtgagatcatgaag...   \n",
       "21276   GGCAAGTCCCCCTCCCACATCTCTAGGCACCAGGGCGTAGCGTACC...   \n",
       "19121   CTCTACAAGCAGAGAGGCTGAGTCATACAGATCCTGAGGGGAGATC...   \n",
       "...                                                   ...   \n",
       "8355    CCGCGCCCCTAGCCAATGAGTCCGAAGCGCCTGCTCTCGGAGCCCC...   \n",
       "90060   CCTGGCCTTCGTTCGGGATTGGCCGAGGACCTCGCGCTCGCTGTCT...   \n",
       "35023   TATCAGGGGCGGGGCCTCAGGGGCCTGCCCCTGCCTCCCCGCCCTG...   \n",
       "140941  CAGGCGGGCGGGTCCTGCCCACTTGCAAGATGGCGGCAGCCTGGGC...   \n",
       "33348   GAACGTCGCAGCGGGTGTCCGAGTGCTCCGTGTGCCCCTGAGAGCG...   \n",
       "\n",
       "                                 coor.type  diffAcc     cl  \n",
       "56532    hepg2.37|chrX:130704419-130704690        1  hepg2  \n",
       "26486       bj.144|chr16:74738120-74738391        1     bj  \n",
       "55425    hepg2.2858|chr6:33134103-33134374        1  hepg2  \n",
       "21276       bj.323|chr17:82599854-82600125        1     bj  \n",
       "19121      bj.194|chr8:127859878-127860149        1     bj  \n",
       "...                                    ...      ...    ...  \n",
       "8355      hob.1129|chr17:82022945-82023216        1    hob  \n",
       "90060      hob.298|chr17:81860739-81861010        1    hob  \n",
       "35023      hob.977|chr20:31572944-31573215        1    hob  \n",
       "140941       hob.16060|chr19:797032-797303        0    hob  \n",
       "33348   k562.69187|chr22:19723312-19723583        0   k562  \n",
       "\n",
       "[8100 rows x 12 columns]"
      ]
     },
     "execution_count": 75,
     "metadata": {},
     "output_type": "execute_result"
    }
   ],
   "source": [
    "train_full.sort_values(by=\"US\")"
   ]
  },
  {
   "cell_type": "code",
   "execution_count": null,
   "id": "9565495a",
   "metadata": {},
   "outputs": [],
   "source": []
  }
 ],
 "metadata": {
  "kernelspec": {
   "display_name": "Python (mamba)",
   "language": "python",
   "name": "mamba"
  },
  "language_info": {
   "codemirror_mode": {
    "name": "ipython",
    "version": 3
   },
   "file_extension": ".py",
   "mimetype": "text/x-python",
   "name": "python",
   "nbconvert_exporter": "python",
   "pygments_lexer": "ipython3",
   "version": "3.9.16"
  },
  "toc": {
   "base_numbering": 1,
   "nav_menu": {},
   "number_sections": true,
   "sideBar": true,
   "skip_h1_title": false,
   "title_cell": "Table of Contents",
   "title_sidebar": "Contents",
   "toc_cell": false,
   "toc_position": {
    "height": "calc(100% - 180px)",
    "left": "10px",
    "top": "150px",
    "width": "302.4px"
   },
   "toc_section_display": true,
   "toc_window_display": true
  },
  "varInspector": {
   "cols": {
    "lenName": 16,
    "lenType": 16,
    "lenVar": 40
   },
   "kernels_config": {
    "python": {
     "delete_cmd_postfix": "",
     "delete_cmd_prefix": "del ",
     "library": "var_list.py",
     "varRefreshCmd": "print(var_dic_list())"
    },
    "r": {
     "delete_cmd_postfix": ") ",
     "delete_cmd_prefix": "rm(",
     "library": "var_list.r",
     "varRefreshCmd": "cat(var_dic_list()) "
    }
   },
   "types_to_exclude": [
    "module",
    "function",
    "builtin_function_or_method",
    "instance",
    "_Feature"
   ],
   "window_display": false
  }
 },
 "nbformat": 4,
 "nbformat_minor": 5
}
