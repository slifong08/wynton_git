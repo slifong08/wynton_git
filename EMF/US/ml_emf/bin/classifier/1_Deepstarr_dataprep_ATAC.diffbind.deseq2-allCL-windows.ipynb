{
 "cells": [
  {
   "cell_type": "markdown",
   "id": "a38fcfaa-77c1-4bfb-abe0-05dbc4e4e87d",
   "metadata": {},
   "source": [
    "20240306\n",
    "\n",
    "SarahFong\n",
    "\n",
    "Take output from DiffBind deseq2 formatting\n",
    "\n",
    "          $HOME/EMF/US/bin/ATAC/1_prep_deseq2_ATAC.ipynb \n",
    "          \n",
    "Prepare data: \n",
    "1. Load data per cl\n",
    "2. Apply filters for min conc, quantile inclusion, jointaccessibility based on min conc, class labeling\n",
    "3. Split into training, validation and test set - hold out chr12 for validation, chr8 for testing\n",
    "4. Optional-Downsample training data\n",
    "6. Shuffle and Add fold num to training set"
   ]
  },
  {
   "cell_type": "code",
   "execution_count": 2,
   "id": "24791ba6-ba9e-47c8-99ff-824a21c53b9b",
   "metadata": {
    "ExecuteTime": {
     "end_time": "2024-04-19T22:07:07.957287Z",
     "start_time": "2024-04-19T22:06:57.031049Z"
    }
   },
   "outputs": [
    {
     "data": {
      "text/plain": [
       "('sans-serif', 'Arial', 18)"
      ]
     },
     "execution_count": 2,
     "metadata": {},
     "output_type": "execute_result"
    }
   ],
   "source": [
    "from Bio.SeqIO.FastaIO import SimpleFastaParser\n",
    "from Bio.Seq import reverse_complement, Seq\n",
    "import config_readwrite as crw\n",
    "import matplotlib.pyplot as plt\n",
    "import numpy as np\n",
    "import os, sys\n",
    "import pandas as pd\n",
    "import pybedtools as pbt\n",
    "\n",
    "from scipy import stats\n",
    "\n",
    "import seaborn as sns\n",
    "from sklearn.preprocessing import LabelEncoder\n",
    "import warnings\n",
    "warnings.filterwarnings('ignore')\n",
    "\n",
    "import plot_params as pp\n",
    "pp.fonts()"
   ]
  },
  {
   "cell_type": "code",
   "execution_count": 3,
   "id": "4b15ddcf",
   "metadata": {
    "ExecuteTime": {
     "end_time": "2024-04-19T22:07:07.978947Z",
     "start_time": "2024-04-19T22:07:07.959424Z"
    }
   },
   "outputs": [],
   "source": [
    "config_name =os.path.join(os.getcwd(), \"config.multi.ini\")\n",
    "config, cfn = crw.read(config_name)"
   ]
  },
  {
   "cell_type": "markdown",
   "id": "1c13717b-4462-468b-aded-c85fa8632585",
   "metadata": {},
   "source": [
    "# functions"
   ]
  },
  {
   "cell_type": "code",
   "execution_count": 4,
   "id": "1c6894bc",
   "metadata": {
    "ExecuteTime": {
     "end_time": "2024-04-19T22:07:08.092848Z",
     "start_time": "2024-04-19T22:07:07.981673Z"
    }
   },
   "outputs": [],
   "source": [
    "def setPrefixRules(prefix):\n",
    "    \"\"\" rules for processing datasets\"\"\"\n",
    "    if \"class.all\" in prefix:\n",
    "        QUANTILE_FILTER=False  # don't remove top quantile\n",
    "        MIN_CONC_FILTER=True  # do require peak to meet min conc threshold in one of conditions\n",
    "        JOINT_ACCESSIBLE=True  # do keep joint accessible elements\n",
    "        CLASS_LABEL = True  # label classes w/deseq2 for classification tasks\n",
    "\n",
    "    elif \"class.nojoint\" in prefix:\n",
    "        QUANTILE_FILTER=False\n",
    "        MIN_CONC_FILTER=True\n",
    "        JOINT_ACCESSIBLE=False  # remove joint accessible elements\n",
    "        CLASS_LABEL = True\n",
    "\n",
    "    elif \"reg.all\" in PREFIX:\n",
    "        QUANTILE_FILTER=False\n",
    "        MIN_CONC_FILTER=True\n",
    "        JOINT_ACCESSIBLE=True\n",
    "        CLASS_LABEL = False  # use min_conc values for regression task\n",
    "\n",
    "    elif \"reg.nojoint\" in prefix:\n",
    "        QUANTILE_FILTER=False\n",
    "        MIN_CONC_FILTER=True\n",
    "        JOINT_ACCESSIBLE=False  # remove joint accessible elements\n",
    "        CLASS_LABEL = False  # use min_conc values for regression task\n",
    "    else:\n",
    "        print('need to add rules for', prefix)\n",
    "        \n",
    "    return QUANTILE_FILTER, MIN_CONC_FILTER, JOINT_ACCESSIBLE, CLASS_LABEL\n"
   ]
  },
  {
   "cell_type": "markdown",
   "id": "0ba6c7d3-4107-4315-8748-e13b1108310b",
   "metadata": {},
   "source": [
    "## make chromosome list"
   ]
  },
  {
   "cell_type": "code",
   "execution_count": 5,
   "id": "947fbb71-5880-4453-8414-51db88678771",
   "metadata": {
    "ExecuteTime": {
     "end_time": "2024-04-19T22:07:08.226610Z",
     "start_time": "2024-04-19T22:07:08.094422Z"
    }
   },
   "outputs": [],
   "source": [
    "def chrList():\n",
    "    \"\"\"return  list of chromosomes\"\"\"\n",
    "\n",
    "    chrs = []\n",
    "\n",
    "    for n in np.arange(1, 23):\n",
    "        chrs.append(f\"chr{n}\")\n",
    "\n",
    "    # add sex chromosomes\n",
    "    chrs.append(\"chrX\")\n",
    "    chrs.append(\"chrY\")\n",
    "\n",
    "    return chrs"
   ]
  },
  {
   "cell_type": "markdown",
   "id": "91c587c3",
   "metadata": {},
   "source": [
    "## write fa"
   ]
  },
  {
   "cell_type": "code",
   "execution_count": 6,
   "id": "84051dad",
   "metadata": {
    "ExecuteTime": {
     "end_time": "2024-04-19T22:07:08.332192Z",
     "start_time": "2024-04-19T22:07:08.228247Z"
    }
   },
   "outputs": [],
   "source": [
    "def writeFa(heldout_df, heldout_fa):\n",
    "    with open(heldout_fa, \"w\") as writer:\n",
    "        for row in heldout_df.iterrows():\n",
    "            seqid, seq = row[1][:2]\n",
    "            writer.write(f\">{seqid}\\n{seq}\\n\")"
   ]
  },
  {
   "cell_type": "markdown",
   "id": "1e894b82",
   "metadata": {},
   "source": [
    "## train test split on chromosome"
   ]
  },
  {
   "cell_type": "code",
   "execution_count": 7,
   "id": "01b01445",
   "metadata": {
    "ExecuteTime": {
     "end_time": "2024-04-19T22:07:08.513108Z",
     "start_time": "2024-04-19T22:07:08.333865Z"
    }
   },
   "outputs": [],
   "source": [
    "def splitTrainTestVal(df, val_chr_list=None, test_chr_list=None):\n",
    "    \"\"\"randomly sample and hold out 2 chromosomes for testing, validation\"\"\"\n",
    "\n",
    "    cols = ['coor.type', \"seq\"]\n",
    "\n",
    "    # randomly sample test chromosomes (n=2)\n",
    "    if test_chr_list is None:\n",
    "        print('randomly sampling chromosomes for test')\n",
    "\n",
    "        # randomly sample\n",
    "        test_chr_list = list(np.random.choice(chrs, 2))\n",
    "\n",
    "    # randomly sample validation chromosome (n=1)\n",
    "    if val_chr_list is None:\n",
    "        print('randomly sampling chromosomes for val')\n",
    "\n",
    "        # remove test chromosomes\n",
    "        for chr_ in test_chr_list:\n",
    "            chrs.remove(chr_)\n",
    "\n",
    "        # randomly sample\n",
    "        val_chr_list = list(np.random.choice(chrs, 1))\n",
    "\n",
    "    # separate held out chromosomes from  training chromosomes\n",
    "    test = df.loc[df[\"#chr\"].isin(test_chr_list)].copy()\n",
    "    val = df.loc[df[\"#chr\"].isin(val_chr_list)].copy()\n",
    "    train = df.loc[(~df[\"#chr\"].isin(test_chr_list)) &\n",
    "                   (~df[\"#chr\"].isin(val_chr_list))].copy()\n",
    "\n",
    "    return train, val, test"
   ]
  },
  {
   "cell_type": "markdown",
   "id": "5f4dc9fb",
   "metadata": {},
   "source": [
    "## filters"
   ]
  },
  {
   "cell_type": "code",
   "execution_count": 8,
   "id": "f8f99643",
   "metadata": {
    "ExecuteTime": {
     "end_time": "2024-04-19T22:07:08.905219Z",
     "start_time": "2024-04-19T22:07:08.515132Z"
    }
   },
   "outputs": [],
   "source": [
    "def minConcFilter(table, min_conc, filter_bool=True):\n",
    "    \"\"\"Filter control and US atac for a min concentration threshold\n",
    "        Require threshold in control OR ultrasound, but both not necessary (differentially accessible)\n",
    "    \"\"\"\n",
    "    if filter_bool is True:\n",
    "        print(\"before minconc filter:\", table.shape)\n",
    "        table = table.loc[(table[\"ctrl\"] > min_conc) |\n",
    "                          (table[\"US\"] > min_conc)].copy()\n",
    "        print(\"after:\", table.shape)\n",
    "    else:\n",
    "        print(\"no min conc filtering\")\n",
    "\n",
    "    return table\n",
    "\n",
    "\n",
    "def quantileFilter(table, filter_bool=False, quantile=0.99):\n",
    "    \"\"\"upper quantile filter for read count values. Only upper because lower threshold is zero.\"\"\"\n",
    "\n",
    "    if filter_bool is True:\n",
    "        print(\"before quantile filter:\", table.shape)\n",
    "\n",
    "        # quantiles\n",
    "        ctrl_thresh, us_thresh = table[[\"ctrl\", \"US\"]].quantile(quantile)\n",
    "\n",
    "        # filter table\n",
    "        table = table.loc[(table[\"ctrl\"] < ctrl_thresh) &\n",
    "                          (table[\"US\"] < us_thresh)]\n",
    "\n",
    "        print(\"after:\", table.shape)\n",
    "    else:\n",
    "        print(\"no quantile filter\")\n",
    "\n",
    "    return table\n",
    "\n",
    "\n",
    "def jointAccessibleFilter(table, filter_bool=True):\n",
    "    \"\"\"remove joint accessible regions, scramble new dataframe\"\"\"\n",
    "\n",
    "    if filter_bool is False:\n",
    "        print(\"before joint_accessible filter:\", table.shape)\n",
    "\n",
    "        # filter table\n",
    "        ctrl_only = table.loc[(table[\"ctrl\"] > 0) &\n",
    "                              (table[\"US\"] == 0)].copy()\n",
    "\n",
    "        US_only = table.loc[(table[\"ctrl\"] == 0) &\n",
    "                            (table[\"US\"] > 0)].copy()\n",
    "\n",
    "        # combine us and ctrl, shuffle dataframe\n",
    "        table = dfShuffle(pd.concat([ctrl_only, US_only]))\n",
    "\n",
    "        print(\"after:\", table.shape)\n",
    "    else:\n",
    "        print('keeping jointly accessible elements')\n",
    "\n",
    "    return table\n",
    "\n",
    "# label based on min_conc value\n",
    "\n",
    "\n",
    "def minConcClassLabel(table):\n",
    "    \"\"\" RETIRED-binarize read count column based on min_conc\"\"\"\n",
    "    cols_to_label = ['ctrl', 'US']\n",
    "    for col in cols_to_label:\n",
    "        table[col] = table[col].apply(lambda x: 0 if x < MIN_CONC else 1)\n",
    "\n",
    "    return table\n",
    "\n",
    "# label deseq2 DiffAcc peaks\n",
    "\n",
    "\n",
    "def diffAccLabel(table, diff_bed, filter_bool=False):\n",
    "    \"\"\" Annotate elements that overlap desseq2 differentially accessible peak calls\n",
    "        Intersect peaks w/ DESEQ2 differentially accessible peaks.\n",
    "        Label any peak with 1+ bp overlapping DESEQ2 element. \n",
    "        Return dataframe of overlapping elements. \n",
    "    \"\"\"\n",
    "    if filter_bool is True:\n",
    "        print(\"labeling peaks overlapping deseq2 diffAcc by >=1 bp\")\n",
    "        table_bed = pbt.BedTool.from_dataframe(table[table.columns[:4]])\n",
    "        deseq_bed = pbt.BedTool(diff_bed)\n",
    "\n",
    "        # intersect table x deseq2, write all present, absent overlaps.\n",
    "        table_deseq = table_bed.intersect(deseq_bed, wao=True)\n",
    "\n",
    "        # load intersection results\n",
    "        table_deseq = pd.read_csv(table_deseq.fn, sep='\\t', header=None)\n",
    "        table_deseq.columns = ['#chr', \"start_trim\", \"end_trim\", \"id\",\n",
    "                               \"#chr_deseq\", \"start_deseq\", \"end_deseq\",\n",
    "                               \"deseq_id\", \"diffAcc\"\n",
    "                               ]\n",
    "\n",
    "        # if peak overlaps DESEQ2 element by 1+ bp\n",
    "        # annotate diffAcc overlap as 1 or 0\n",
    "        table_deseq[\"diffAcc\"] = table_deseq[\"diffAcc\"].apply(\n",
    "            lambda x: 1 if x >= 1 else 0)\n",
    "\n",
    "        # merge annotations with original table\n",
    "        table = pd.merge(\n",
    "            table, table_deseq[[\"id\", \"diffAcc\"]]).drop_duplicates()\n",
    "    else:\n",
    "        print('not labeling deseq2-overlapping peaks. What is your label again?')\n",
    "\n",
    "    # return dataframe w/ names and deseq2 overlaps\n",
    "    return table\n",
    "\n",
    "\n",
    "# scramble df\n",
    "def dfShuffle(df):\n",
    "    \"\"\"scramble dataframe\"\"\"\n",
    "    return df.sample(frac=1).reset_index(drop=True)\n",
    "\n",
    "\n",
    "# sequences where US increases activity only\n",
    "def directionFilter(table, filter_bool=False):\n",
    "    \"\"\"filter for positive directional changes in activity\"\"\"\n",
    "    if filter_bool is True:\n",
    "        print('include sequences that increase activity w US')\n",
    "        # where US_DIF = ctrl - US, and US_dif <0 means US has more activity than control\n",
    "        table = table.loc[table[\"US_DIF\"] < 0]\n",
    "\n",
    "    else:\n",
    "        print('include ALL sequences that increase|decrease|no activity change w US')\n",
    "    return table\n",
    "\n",
    "\n",
    "# downsample\n",
    "def downsampleNegClass(train, filter_bool=False):\n",
    "    \"\"\"downsample training set only\"\"\"\n",
    "\n",
    "    if filter_bool is True:\n",
    "        # get positive and negatives\n",
    "        pos, neg = train.loc[train[\"diffAcc\"] > 0].copy(\n",
    "        ), train.loc[train[\"diffAcc\"] == 0].copy()\n",
    "\n",
    "        # count the positive examples\n",
    "        # ctrl - US <0 means US has more activity than control\n",
    "        n_pos = pos.shape[0]\n",
    "\n",
    "        print(\"downsampling training data!\\n percent with a positive label:\",\n",
    "              round(n_pos/train.shape[0], 2), n_pos,\n",
    "              \"\\n\"\n",
    "              )\n",
    "\n",
    "        # randomly sample negative examples\n",
    "        neg_downsample = neg.sample(n=n_pos)\n",
    "        print(\"\\n\\n AFTER DOWNSAMPLING\", len(neg_downsample))\n",
    "\n",
    "        # return concatenated dataframe of downsampled negative class.\n",
    "        return pd.concat([pos, neg_downsample])"
   ]
  },
  {
   "cell_type": "code",
   "execution_count": 9,
   "id": "9696e5fa",
   "metadata": {
    "ExecuteTime": {
     "end_time": "2024-04-19T22:07:09.006772Z",
     "start_time": "2024-04-19T22:07:08.907127Z"
    }
   },
   "outputs": [],
   "source": [
    "def reverseSeq(df):\n",
    "    \"\"\"make reverse complement and annotate df \n",
    "    \"\"\"\n",
    "    df_r = df.copy()  # copy df\n",
    "\n",
    "    df_r[\"reverse\"] = 1  # annotated reverse complement\n",
    "\n",
    "    # make reverse complement\n",
    "    df_r['seq'] = df_r[\"seq\"].apply(lambda x: str(reverse_complement(Seq(x))))\n",
    "\n",
    "    # annotate reverse in coor.type\n",
    "    df_r['coor.type'] = df_r[\"coor.type\"] + \"|r\"\n",
    "\n",
    "    # annoate forward in coor.type\n",
    "    df[\"reverse\"] = 0\n",
    "    df['coor.type'] = df[\"coor.type\"] + \"|f\"\n",
    "\n",
    "    # concat forward and reverse\n",
    "    df_concat = pd.concat([df, df_r])\n",
    "\n",
    "    return df_concat"
   ]
  },
  {
   "cell_type": "markdown",
   "id": "b6144f3a-643a-42f5-bacc-40d77de7f899",
   "metadata": {},
   "source": [
    "# Main"
   ]
  },
  {
   "cell_type": "markdown",
   "id": "60cfa392",
   "metadata": {},
   "source": [
    "## params"
   ]
  },
  {
   "cell_type": "code",
   "execution_count": 10,
   "id": "a2b767ed",
   "metadata": {
    "ExecuteTime": {
     "end_time": "2024-04-19T22:07:10.019172Z",
     "start_time": "2024-04-19T22:07:09.008522Z"
    }
   },
   "outputs": [],
   "source": [
    "WINDOW = True\n",
    "if WINDOW is True:\n",
    "    PREFIX = \"class.all.1task_windows\"\n",
    "else:\n",
    "    PREFIX = \"class.all.1task\"\n",
    "PATH = \"/wynton/group/ahituv/data/US-MPRA/ATAC-seq/Diffbind_results\"\n",
    "TEST_CHR = [\"chr1\"]\n",
    "VAL_CHR = [\"chr12\"]\n",
    "\n",
    "\n",
    "# peak information\n",
    "PEAK_SIZE = 270\n",
    "MIN_CONC = 2  # NOTE -  $HOME/EMF/US/bin/ATAC/1_prep_deseq2_ATAC.ipynb may have pre-filtered the min_conc value\n",
    "DIRECTION_FILTER = False  # keep only positive changes? Negative changes?\n",
    "DOWNSAMPLE = True\n",
    "\n",
    "# genome information\n",
    "HG38 = \"/wynton/group/ahituv/data/dna/hg38/hg38.chrom.sizes\"\n",
    "FA_HG38 = \"/wynton/group/ahituv/data/dna/hg38/hg38.fa\""
   ]
  },
  {
   "cell_type": "markdown",
   "id": "a28d43ff",
   "metadata": {},
   "source": [
    "## load data + filter per cell line "
   ]
  },
  {
   "cell_type": "code",
   "execution_count": 11,
   "id": "cc4753b4",
   "metadata": {
    "ExecuteTime": {
     "end_time": "2024-04-19T22:09:25.316576Z",
     "start_time": "2024-04-19T22:07:10.021373Z"
    }
   },
   "outputs": [
    {
     "name": "stdout",
     "output_type": "stream",
     "text": [
      "hob\n",
      "original dataset shape (492730, 12)\n",
      "no quantile filter\n",
      "keeping jointly accessible elements\n",
      "labeling peaks overlapping deseq2 diffAcc by >=1 bp\n",
      "include ALL sequences that increase|decrease|no activity change w US\n",
      "positives in train diffAcc\n",
      "0    476661\n",
      "1     16069\n",
      "Name: seq, dtype: int64\n",
      "positives in val, test diffAcc\n",
      "0    22792\n",
      "1      658\n",
      "Name: seq, dtype: int64 diffAcc\n",
      "0    43190\n",
      "1     1386\n",
      "Name: seq, dtype: int64\n",
      "downsampling training data!\n",
      " percent with a positive label: 0.03 14025 \n",
      "\n",
      "\n",
      "\n",
      " AFTER DOWNSAMPLING 14025\n",
      "train after downsampling diffAcc\n",
      "0    14025\n",
      "1    14025\n",
      "Name: seq, dtype: int64\n",
      "reversing the sequences\n",
      "(56100, 15) (46900, 15) (89152, 15) \n",
      "\n",
      "\n",
      "hepg2\n",
      "original dataset shape (579299, 12)\n",
      "no quantile filter\n",
      "keeping jointly accessible elements\n",
      "labeling peaks overlapping deseq2 diffAcc by >=1 bp\n",
      "include ALL sequences that increase|decrease|no activity change w US\n",
      "positives in train diffAcc\n",
      "0    570649\n",
      "1      8650\n",
      "Name: seq, dtype: int64\n",
      "positives in val, test diffAcc\n",
      "0    24997\n",
      "1      378\n",
      "Name: seq, dtype: int64 diffAcc\n",
      "0    52538\n",
      "1      662\n",
      "Name: seq, dtype: int64\n",
      "downsampling training data!\n",
      " percent with a positive label: 0.02 7610 \n",
      "\n",
      "\n",
      "\n",
      " AFTER DOWNSAMPLING 7610\n",
      "train after downsampling diffAcc\n",
      "0    7610\n",
      "1    7610\n",
      "Name: seq, dtype: int64\n",
      "reversing the sequences\n",
      "(30440, 15) (50750, 15) (106400, 15) \n",
      "\n",
      "\n",
      "k562\n",
      "original dataset shape (706111, 12)\n",
      "no quantile filter\n",
      "keeping jointly accessible elements\n",
      "labeling peaks overlapping deseq2 diffAcc by >=1 bp\n",
      "include ALL sequences that increase|decrease|no activity change w US\n",
      "positives in train diffAcc\n",
      "0    700711\n",
      "1      5400\n",
      "Name: seq, dtype: int64\n",
      "positives in val, test diffAcc\n",
      "0    33047\n",
      "1      308\n",
      "Name: seq, dtype: int64 diffAcc\n",
      "0    79758\n",
      "1      623\n",
      "Name: seq, dtype: int64\n",
      "downsampling training data!\n",
      " percent with a positive label: 0.01 4469 \n",
      "\n",
      "\n",
      "\n",
      " AFTER DOWNSAMPLING 4469\n",
      "train after downsampling diffAcc\n",
      "0    4469\n",
      "1    4469\n",
      "Name: seq, dtype: int64\n",
      "reversing the sequences\n",
      "(17876, 15) (66710, 15) (160762, 15) \n",
      "\n",
      "\n",
      "bj\n",
      "original dataset shape (678615, 12)\n",
      "no quantile filter\n",
      "keeping jointly accessible elements\n",
      "labeling peaks overlapping deseq2 diffAcc by >=1 bp\n",
      "include ALL sequences that increase|decrease|no activity change w US\n",
      "positives in train diffAcc\n",
      "0    676025\n",
      "1      2590\n",
      "Name: seq, dtype: int64\n",
      "positives in val, test diffAcc\n",
      "0    34090\n",
      "1      105\n",
      "Name: seq, dtype: int64 diffAcc\n",
      "0    65492\n",
      "1      266\n",
      "Name: seq, dtype: int64\n",
      "downsampling training data!\n",
      " percent with a positive label: 0.0 2219 \n",
      "\n",
      "\n",
      "\n",
      " AFTER DOWNSAMPLING 2219\n",
      "train after downsampling diffAcc\n",
      "0    2219\n",
      "1    2219\n",
      "Name: seq, dtype: int64\n",
      "reversing the sequences\n",
      "(8876, 15) (68390, 15) (131516, 15) \n",
      "\n",
      "\n"
     ]
    }
   ],
   "source": [
    "# collect cell-specific annotations\n",
    "train_dict, val_dict, test_dict = {}, {}, {}\n",
    "\n",
    "# set columns\n",
    "if \"class\" in PREFIX:\n",
    "    # classification task\n",
    "    cols = [\"coor.type\", \"diffAcc\"]\n",
    "else:\n",
    "    # regression task\n",
    "    cols = [\"coor.type\", \"US\", \"ctrl\",  # \"US_DIF\"\n",
    "            ]\n",
    "\n",
    "fa_cols = ['coor.type', \"seq\"]\n",
    "\n",
    "\n",
    "for CL in [\"hob\", \"hepg2\", \"k562\", \"bj\"]:  # CL = 'hob'\n",
    "    print(CL)\n",
    "\n",
    "    # Instantiate cell- and task-specific path.\n",
    "    DATA_PATH = f\"/wynton/home/ahituv/fongsl/EMF/US/ml_emf/data/deepstarr/deseq2/{CL}/{PREFIX}\"\n",
    "\n",
    "    # make cl- and task-specific datapath\n",
    "    if os.path.exists(DATA_PATH) is False:\n",
    "        if os.path.dirname(DATA_PATH) is False:\n",
    "            os.mkdir(os.path.dirname(DATA_PATH))\n",
    "        os.mkdir(DATA_PATH)\n",
    "\n",
    "    # cell-specific base files\n",
    "\n",
    "    # DESEQ2 files\n",
    "    DIFF = f'./{CL}_deseq2.csv'\n",
    "    NODIFF = f'./{CL}_deseq2-nodiff.csv'\n",
    "    DIFF_BED = \"./\" + DIFF.strip(\".csv\") + \".bed\"\n",
    "\n",
    "    # FULL peakset called from deseq2, trimmed to 270bp.\n",
    "    if WINDOW is True:\n",
    "        FULL = f\"{CL}_deseq2-nondiff.window.min_conc.{MIN_CONC}.full.csv\"\n",
    "    else:\n",
    "        FULL = f\"{CL}_deseq2-nondiff.trimmed.min_conc.{MIN_CONC}.full.csv\"\n",
    "\n",
    "    os.chdir(DATA_PATH)\n",
    "    ### Write CONFIG FILE ###\n",
    "    # base config\n",
    "    section = f\"{CL}-ATAC-DESEQ2\"\n",
    "    crw.check(config, section)\n",
    "\n",
    "    config[section][\"path\"] = PATH\n",
    "\n",
    "    config[section][\"nondiff_bind_results\"] = \"%(path)s/\" + NODIFF\n",
    "    config[section][\"diff_bind_results\"] = \"%(path)s/\" + DIFF\n",
    "    config[section][\"diff_bind_results_bed\"] = \"%(path)s/\" + DIFF_BED\n",
    "\n",
    "    # deepstarr files\n",
    "\n",
    "    # file inputs for training, testing\n",
    "    TRAIN_FA = f\"{PREFIX}.Sequences_Train.fa\"\n",
    "    VAL_FA = f\"{PREFIX}.Sequences_Val.fa\"\n",
    "    TEST_FA = f\"{PREFIX}.Sequences_Test.fa\"\n",
    "\n",
    "    # y\n",
    "    TRAIN_TARGET = f\"{PREFIX}.Sequences_activity_Train.txt\"\n",
    "    VAL_TARGET = f\"{PREFIX}.Sequences_activity_Val.txt\"\n",
    "    TEST_TARGET = f\"{PREFIX}.Sequences_activity_Test.txt\"\n",
    "\n",
    "    # rules\n",
    "\n",
    "    # deepstarr config\n",
    "    section = f\"{CL}.atac.deseq2.deepstarr\"\n",
    "    crw.check(config, section)\n",
    "\n",
    "    config[section][\"data_path\"] = DATA_PATH\n",
    "    config[section][\"held_out_chr\"] = \",\".join(TEST_CHR)\n",
    "    config[section][\"val_chr\"] = \",\".join(VAL_CHR)\n",
    "\n",
    "    # deepstarr+prefix config\n",
    "\n",
    "    # rules for data\n",
    "    QUANTILE_FILTER, MIN_CONC_FILTER, JOINT_ACCESSIBLE, CLASS_LABEL = setPrefixRules(\n",
    "        PREFIX)\n",
    "\n",
    "    # deepstarr prefix config\n",
    "    section = f\"{CL}.atac.deseq2.deepstarr.{PREFIX}\"\n",
    "    crw.check(config, section)\n",
    "\n",
    "    config[section][\"train_fa\"] = TRAIN_FA\n",
    "    config[section][\"val_fa\"] = VAL_FA\n",
    "    config[section][\"test_fa\"] = TEST_FA\n",
    "\n",
    "    config[section][\"train_target\"] = TRAIN_TARGET\n",
    "    config[section][\"tval_target\"] = VAL_TARGET\n",
    "    config[section][\"test_target\"] = TEST_TARGET\n",
    "\n",
    "    config[section][\"filter_MIN_CONC\"] = str(MIN_CONC_FILTER)\n",
    "    if MIN_CONC_FILTER is True:\n",
    "        config[section][\"MIN_CONC\"] = str(MIN_CONC)\n",
    "\n",
    "    config[section][\"filter_quantile\"] = str(QUANTILE_FILTER)\n",
    "    config[section][\"filter_jointaccessible\"] = str(JOINT_ACCESSIBLE)\n",
    "    config[section][\"classlabel\"] = str(CLASS_LABEL)\n",
    "\n",
    "    crw.write(config, cfn)\n",
    "\n",
    "    ### load data ###\n",
    "    os.chdir(PATH)\n",
    "    table = pd.read_csv(FULL, sep='\\t').drop_duplicates()\n",
    "\n",
    "    table[\"coor.type\"] = table[\"type\"] + \"|\" + table[\"seq.id\"]\n",
    "\n",
    "    if \"Conc_Ultrasound_dif\" not in list(table):\n",
    "        table[\"Conc_Ultrasound_dif\"] = table[\"Conc_Control\"] - \\\n",
    "            table[\"Conc_Ultrasound\"]\n",
    "\n",
    "    table.rename(columns={\"Conc_Ultrasound\": \"US\",\n",
    "                          \"Conc_Control\": \"ctrl\",\n",
    "                          \"Conc_Ultrasound_dif\": \"US_DIF\"}, inplace=True)\n",
    "\n",
    "    # remove alternative chromosome alignments\n",
    "    table = table.loc[~table['#chr'].str.contains('v')]\n",
    "\n",
    "    print(\"original dataset shape\", table.shape)\n",
    "\n",
    "    ### FILTER ###\n",
    "\n",
    "    # mean read depth filter\n",
    "    # remove noisy peaks with low read counts.\n",
    "    # table = minConcFilter(table, MIN_CONC, MIN_CONC_FILTER) # not needed, done in the previous step\n",
    "\n",
    "    # quantile filter - remove any peaks above the quantile.\n",
    "    # important for regression-task\n",
    "    table = quantileFilter(table, QUANTILE_FILTER, quantile=0.99)\n",
    "\n",
    "    # joint accessible filter\n",
    "    table = jointAccessibleFilter(table, JOINT_ACCESSIBLE)\n",
    "\n",
    "    # apply class label—1 if diffAcc, 0 if not.\n",
    "\n",
    "    table = diffAccLabel(table, DIFF_BED, CLASS_LABEL)\n",
    "    # print(table.groupby(['ctrl', \"US\", \"US_DIF\", \"diffAcc\"])['#chr'].count())\n",
    "\n",
    "    # filter for us-increasing sequences?\n",
    "    table = directionFilter(table, DIRECTION_FILTER)\n",
    "\n",
    "    # annotate which cl this is\n",
    "    table[\"cl\"] = CL\n",
    "\n",
    "    ### TRAIN TEST SPLIT ###\n",
    "    # train on atac peaks\n",
    "    os.chdir(DATA_PATH)\n",
    "\n",
    "    table = dfShuffle(table)  # shuffle the table before splitting\n",
    "\n",
    "    train, val, test = splitTrainTestVal(\n",
    "        table, val_chr_list=VAL_CHR, test_chr_list=TEST_CHR)\n",
    "\n",
    "    print(\"positives in train\", table.groupby(\"diffAcc\")[\n",
    "          \"seq\"].count())\n",
    "    print(\"positives in val, test\", val.groupby(\"diffAcc\")[\n",
    "          \"seq\"].count(), test.groupby(\"diffAcc\")[\"seq\"].count())\n",
    "\n",
    "    # downsample training data\n",
    "    train = downsampleNegClass(train, DOWNSAMPLE)\n",
    "    print(\"train after downsampling\", train.groupby(['diffAcc'])[\"seq\"].count())\n",
    "\n",
    "    # add reverse complement to sequences in table\n",
    "    print(\"reversing the sequences\")\n",
    "    \n",
    "    train = reverseSeq(train)\n",
    "    val = reverseSeq(val)\n",
    "    test = reverseSeq(test)\n",
    "\n",
    "    # shuffle the training set for good measure\n",
    "    train = dfShuffle(train)\n",
    "    \n",
    "    writeFa(train[fa_cols], TRAIN_FA)\n",
    "    writeFa(val[fa_cols], VAL_FA)\n",
    "    writeFa(test[fa_cols], TEST_FA)\n",
    "\n",
    "    \n",
    "    train[cols].to_csv(TRAIN_TARGET, sep='\\t', index=False)\n",
    "    val[cols].to_csv(VAL_TARGET, sep='\\t', index=False)\n",
    "    test[cols].to_csv(TEST_TARGET, sep='\\t', index=False)\n",
    "    print(train.shape, val.shape, test.shape, \"\\n\\n\")\n",
    "\n",
    "    train_dict[CL], val_dict[CL], test_dict[CL] = train, val, test\n",
    "    "
   ]
  },
  {
   "cell_type": "markdown",
   "id": "2989d0ab",
   "metadata": {},
   "source": [
    "# combine training, test data across cell types. "
   ]
  },
  {
   "cell_type": "markdown",
   "id": "b9e9ed65",
   "metadata": {},
   "source": [
    "## config - write"
   ]
  },
  {
   "cell_type": "code",
   "execution_count": 12,
   "id": "855d9025",
   "metadata": {
    "ExecuteTime": {
     "end_time": "2024-04-19T22:09:25.639327Z",
     "start_time": "2024-04-19T22:09:25.534838Z"
    }
   },
   "outputs": [],
   "source": [
    "if WINDOW is True:\n",
    "    DATA_PATH = \"/wynton/home/ahituv/fongsl/EMF/US/ml_emf/data/deepstarr/deseq2/all/class.all.balanced_window\"\n",
    "else:\n",
    "    DATA_PATH = \"/wynton/home/ahituv/fongsl/EMF/US/ml_emf/data/deepstarr/deseq2/all/class.all.balanced\"\n",
    "if os.path.exists(DATA_PATH) is False:\n",
    "    os.mkdir(DATA_PATH)\n",
    "os.chdir(DATA_PATH)\n",
    "CL = \"allcl\"\n",
    "PREFIX=\"general\"\n",
    "\n",
    "\n",
    "# file inputs for training, testing\n",
    "TRAIN_FA = f\"{PREFIX}.Sequences_Train.fa\"\n",
    "VAL_FA = f\"{PREFIX}.Sequences_Val.fa\"\n",
    "TEST_FA = f\"{PREFIX}.Sequences_Test.fa\"\n",
    "\n",
    "## y\n",
    "TRAIN_TARGET = f\"{PREFIX}.Sequences_activity_Train.txt\"\n",
    "VAL_TARGET = f\"{PREFIX}.Sequences_activity_Val.txt\"\n",
    "TEST_TARGET = f\"{PREFIX}.Sequences_activity_Test.txt\"\n",
    "\n",
    "## rules\n",
    "\n",
    "## deepstarr config \n",
    "section = f\"{CL}.atac.deseq2.deepstarr\"\n",
    "crw.check(config, section)\n",
    "\n",
    "config[section][\"data_path\"] = DATA_PATH\n",
    "config[section][\"held_out_chr\"] = \",\".join(TEST_CHR)\n",
    "config[section][\"val_chr\"] = \",\".join(VAL_CHR)\n",
    "\n",
    "# deepstarr prefix config\n",
    "section = f\"{CL}.atac.deseq2.deepstarr.{PREFIX}\"\n",
    "crw.check(config, section)\n",
    "\n",
    "config[section][\"train_fa\"] = TRAIN_FA\n",
    "config[section][\"val_fa\"] = VAL_FA\n",
    "config[section][\"test_fa\"] = TEST_FA\n",
    "\n",
    "config[section][\"train_target\"] = TRAIN_TARGET\n",
    "config[section][\"tval_target\"] = VAL_TARGET\n",
    "config[section][\"test_target\"] = TEST_TARGET\n",
    "\n",
    "config[section][\"filter_MIN_CONC\"] = str(MIN_CONC_FILTER)\n",
    "if MIN_CONC_FILTER is True:\n",
    "    config[section][\"MIN_CONC\"] = str(MIN_CONC)\n",
    "\n",
    "config[section][\"filter_quantile\"] = str(QUANTILE_FILTER)\n",
    "config[section][\"filter_jointaccessible\"] = str(JOINT_ACCESSIBLE)\n",
    "config[section][\"classlabel\"] = str(CLASS_LABEL)\n",
    "\n",
    "crw.write(config, cfn)"
   ]
  },
  {
   "cell_type": "markdown",
   "id": "507aa148",
   "metadata": {},
   "source": [
    "## concat dictionaries"
   ]
  },
  {
   "cell_type": "code",
   "execution_count": 13,
   "id": "9177fe96",
   "metadata": {
    "ExecuteTime": {
     "end_time": "2024-04-19T22:09:26.125285Z",
     "start_time": "2024-04-19T22:09:25.641158Z"
    }
   },
   "outputs": [],
   "source": [
    "train_full = pd.concat(train_dict.values())\n",
    "val_full = pd.concat(val_dict.values())\n",
    "test_full = pd.concat(test_dict.values())"
   ]
  },
  {
   "cell_type": "code",
   "execution_count": 14,
   "id": "30572624",
   "metadata": {
    "ExecuteTime": {
     "end_time": "2024-04-19T22:09:26.140800Z",
     "start_time": "2024-04-19T22:09:26.127276Z"
    }
   },
   "outputs": [
    {
     "data": {
      "text/html": [
       "<div>\n",
       "<style scoped>\n",
       "    .dataframe tbody tr th:only-of-type {\n",
       "        vertical-align: middle;\n",
       "    }\n",
       "\n",
       "    .dataframe tbody tr th {\n",
       "        vertical-align: top;\n",
       "    }\n",
       "\n",
       "    .dataframe thead th {\n",
       "        text-align: right;\n",
       "    }\n",
       "</style>\n",
       "<table border=\"1\" class=\"dataframe\">\n",
       "  <thead>\n",
       "    <tr style=\"text-align: right;\">\n",
       "      <th></th>\n",
       "      <th>#chr</th>\n",
       "      <th>start</th>\n",
       "      <th>end</th>\n",
       "      <th>id</th>\n",
       "      <th>type</th>\n",
       "      <th>winnum</th>\n",
       "      <th>seq.id</th>\n",
       "      <th>US</th>\n",
       "      <th>ctrl</th>\n",
       "      <th>US_DIF</th>\n",
       "      <th>seq</th>\n",
       "      <th>coor.type</th>\n",
       "      <th>diffAcc</th>\n",
       "      <th>cl</th>\n",
       "      <th>reverse</th>\n",
       "    </tr>\n",
       "  </thead>\n",
       "  <tbody>\n",
       "    <tr>\n",
       "      <th>0</th>\n",
       "      <td>chr6</td>\n",
       "      <td>167797154</td>\n",
       "      <td>167797424</td>\n",
       "      <td>hob.2370_4</td>\n",
       "      <td>hob.2370</td>\n",
       "      <td>4</td>\n",
       "      <td>chr6:167797154-167797424</td>\n",
       "      <td>2.816497</td>\n",
       "      <td>1.229946</td>\n",
       "      <td>-1.586551</td>\n",
       "      <td>CACGCGCTGGCCCTCCCCGTCCACAGCAGCAGCGGCATCCTCCCCA...</td>\n",
       "      <td>hob.2370|chr6:167797154-167797424|f</td>\n",
       "      <td>1</td>\n",
       "      <td>hob</td>\n",
       "      <td>0</td>\n",
       "    </tr>\n",
       "    <tr>\n",
       "      <th>1</th>\n",
       "      <td>chr10</td>\n",
       "      <td>1110158</td>\n",
       "      <td>1110428</td>\n",
       "      <td>hob.41899_3</td>\n",
       "      <td>hob.41899</td>\n",
       "      <td>3</td>\n",
       "      <td>chr10:1110158-1110428</td>\n",
       "      <td>4.884773</td>\n",
       "      <td>4.587460</td>\n",
       "      <td>-0.297313</td>\n",
       "      <td>CGGAGACAAAGGCAAGTGTTACTAAGAAGACACCTCAGATGAAACA...</td>\n",
       "      <td>hob.41899|chr10:1110158-1110428|r</td>\n",
       "      <td>0</td>\n",
       "      <td>hob</td>\n",
       "      <td>1</td>\n",
       "    </tr>\n",
       "    <tr>\n",
       "      <th>2</th>\n",
       "      <td>chr16</td>\n",
       "      <td>46831297</td>\n",
       "      <td>46831567</td>\n",
       "      <td>hob.245_1</td>\n",
       "      <td>hob.245</td>\n",
       "      <td>1</td>\n",
       "      <td>chr16:46831297-46831567</td>\n",
       "      <td>8.756711</td>\n",
       "      <td>8.465767</td>\n",
       "      <td>-0.290945</td>\n",
       "      <td>CTGGGCGCCAAGGGGGCGGGGCGGAGCGTCGGCCGGCGGCTCCTGG...</td>\n",
       "      <td>hob.245|chr16:46831297-46831567|f</td>\n",
       "      <td>1</td>\n",
       "      <td>hob</td>\n",
       "      <td>0</td>\n",
       "    </tr>\n",
       "    <tr>\n",
       "      <th>3</th>\n",
       "      <td>chr8</td>\n",
       "      <td>37779901</td>\n",
       "      <td>37780171</td>\n",
       "      <td>hob.4772_3</td>\n",
       "      <td>hob.4772</td>\n",
       "      <td>3</td>\n",
       "      <td>chr8:37779901-37780171</td>\n",
       "      <td>6.362822</td>\n",
       "      <td>6.013889</td>\n",
       "      <td>-0.348932</td>\n",
       "      <td>agctggtatcgaacccctgaggctcTGCAAGTCACACTATCACTTG...</td>\n",
       "      <td>hob.4772|chr8:37779901-37780171|r</td>\n",
       "      <td>1</td>\n",
       "      <td>hob</td>\n",
       "      <td>1</td>\n",
       "    </tr>\n",
       "    <tr>\n",
       "      <th>4</th>\n",
       "      <td>chr3</td>\n",
       "      <td>197394688</td>\n",
       "      <td>197394958</td>\n",
       "      <td>hob.2589_6</td>\n",
       "      <td>hob.2589</td>\n",
       "      <td>6</td>\n",
       "      <td>chr3:197394688-197394958</td>\n",
       "      <td>7.422553</td>\n",
       "      <td>7.129143</td>\n",
       "      <td>-0.293410</td>\n",
       "      <td>CTGGTTCTCAAGGTTTCGGTGATGAGTCACCTCGTTCCCCCTCACC...</td>\n",
       "      <td>hob.2589|chr3:197394688-197394958|f</td>\n",
       "      <td>1</td>\n",
       "      <td>hob</td>\n",
       "      <td>0</td>\n",
       "    </tr>\n",
       "  </tbody>\n",
       "</table>\n",
       "</div>"
      ],
      "text/plain": [
       "    #chr      start        end           id       type  winnum  \\\n",
       "0   chr6  167797154  167797424   hob.2370_4   hob.2370       4   \n",
       "1  chr10    1110158    1110428  hob.41899_3  hob.41899       3   \n",
       "2  chr16   46831297   46831567    hob.245_1    hob.245       1   \n",
       "3   chr8   37779901   37780171   hob.4772_3   hob.4772       3   \n",
       "4   chr3  197394688  197394958   hob.2589_6   hob.2589       6   \n",
       "\n",
       "                     seq.id        US      ctrl    US_DIF  \\\n",
       "0  chr6:167797154-167797424  2.816497  1.229946 -1.586551   \n",
       "1     chr10:1110158-1110428  4.884773  4.587460 -0.297313   \n",
       "2   chr16:46831297-46831567  8.756711  8.465767 -0.290945   \n",
       "3    chr8:37779901-37780171  6.362822  6.013889 -0.348932   \n",
       "4  chr3:197394688-197394958  7.422553  7.129143 -0.293410   \n",
       "\n",
       "                                                 seq  \\\n",
       "0  CACGCGCTGGCCCTCCCCGTCCACAGCAGCAGCGGCATCCTCCCCA...   \n",
       "1  CGGAGACAAAGGCAAGTGTTACTAAGAAGACACCTCAGATGAAACA...   \n",
       "2  CTGGGCGCCAAGGGGGCGGGGCGGAGCGTCGGCCGGCGGCTCCTGG...   \n",
       "3  agctggtatcgaacccctgaggctcTGCAAGTCACACTATCACTTG...   \n",
       "4  CTGGTTCTCAAGGTTTCGGTGATGAGTCACCTCGTTCCCCCTCACC...   \n",
       "\n",
       "                             coor.type  diffAcc   cl  reverse  \n",
       "0  hob.2370|chr6:167797154-167797424|f        1  hob        0  \n",
       "1    hob.41899|chr10:1110158-1110428|r        0  hob        1  \n",
       "2    hob.245|chr16:46831297-46831567|f        1  hob        0  \n",
       "3    hob.4772|chr8:37779901-37780171|r        1  hob        1  \n",
       "4  hob.2589|chr3:197394688-197394958|f        1  hob        0  "
      ]
     },
     "execution_count": 14,
     "metadata": {},
     "output_type": "execute_result"
    }
   ],
   "source": [
    "train_full.head()"
   ]
  },
  {
   "cell_type": "markdown",
   "id": "108cfc8b",
   "metadata": {},
   "source": [
    "## write full tables"
   ]
  },
  {
   "cell_type": "code",
   "execution_count": 15,
   "id": "01b0bfe4",
   "metadata": {
    "ExecuteTime": {
     "end_time": "2024-04-19T22:10:45.759958Z",
     "start_time": "2024-04-19T22:09:26.142566Z"
    }
   },
   "outputs": [
    {
     "data": {
      "text/plain": [
       "(113292, 232750, 487830)"
      ]
     },
     "execution_count": 15,
     "metadata": {},
     "output_type": "execute_result"
    }
   ],
   "source": [
    "# write fasta\n",
    "writeFa(test_full[fa_cols], TEST_FA)\n",
    "writeFa(train_full[fa_cols], TRAIN_FA)\n",
    "writeFa(val_full[fa_cols], VAL_FA)\n",
    "\n",
    "# write fasta\n",
    "test_full[cols].to_csv(TEST_TARGET, sep='\\t', index=False)\n",
    "train_full[cols].to_csv(TRAIN_TARGET, sep='\\t', index=False)\n",
    "val_full[cols].to_csv(VAL_TARGET, sep='\\t', index=False)\n",
    "\n",
    "# report nrows\n",
    "train_full.shape[0], val_full.shape[0], test_full.shape[0]"
   ]
  },
  {
   "cell_type": "markdown",
   "id": "103b82a1-7980-447d-9f5a-7f3420ec9736",
   "metadata": {},
   "source": [
    "## write HepG2+K562 positive control sets"
   ]
  },
  {
   "cell_type": "code",
   "execution_count": 22,
   "id": "313ff173-1d60-431d-a7a8-a945b2d74476",
   "metadata": {},
   "outputs": [],
   "source": [
    "if WINDOW is True:\n",
    "    DATA_PATH = \"/wynton/home/ahituv/fongsl/EMF/US/ml_emf/data/deepstarr/deseq2/pos/class.all.balanced_window\"\n",
    "else:\n",
    "    DATA_PATH = \"/wynton/home/ahituv/fongsl/EMF/US/ml_emf/data/deepstarr/deseq2/pos/class.pos.balanced\"\n",
    "if os.path.exists(DATA_PATH) is False:\n",
    "    os.mkdir(DATA_PATH)\n",
    "os.chdir(DATA_PATH)\n",
    "CL = \"pos\"\n",
    "PREFIX=\"class.all\"\n",
    "\n",
    "\n",
    "# file inputs for training, testing\n",
    "TRAIN_FA = f\"{PREFIX}.Sequences_Train.fa\"\n",
    "VAL_FA = f\"{PREFIX}.Sequences_Val.fa\"\n",
    "TEST_FA = f\"{PREFIX}.Sequences_Test.fa\"\n",
    "\n",
    "## y\n",
    "TRAIN_TARGET = f\"{PREFIX}.Sequences_activity_Train.txt\"\n",
    "VAL_TARGET = f\"{PREFIX}.Sequences_activity_Val.txt\"\n",
    "TEST_TARGET = f\"{PREFIX}.Sequences_activity_Test.txt\"\n",
    "\n",
    "## rules\n",
    "\n",
    "## deepstarr config \n",
    "section = f\"{CL}.atac.deseq2.deepstarr\"\n",
    "crw.check(config, section)\n",
    "\n",
    "config[section][\"data_path\"] = DATA_PATH\n",
    "config[section][\"held_out_chr\"] = \",\".join(TEST_CHR)\n",
    "config[section][\"val_chr\"] = \",\".join(VAL_CHR)\n",
    "\n",
    "# deepstarr prefix config\n",
    "section = f\"{CL}.atac.deseq2.deepstarr.{PREFIX}\"\n",
    "crw.check(config, section)\n",
    "\n",
    "config[section][\"train_fa\"] = TRAIN_FA\n",
    "config[section][\"val_fa\"] = VAL_FA\n",
    "config[section][\"test_fa\"] = TEST_FA\n",
    "\n",
    "config[section][\"train_target\"] = TRAIN_TARGET\n",
    "config[section][\"tval_target\"] = VAL_TARGET\n",
    "config[section][\"test_target\"] = TEST_TARGET\n",
    "\n",
    "config[section][\"filter_MIN_CONC\"] = str(MIN_CONC_FILTER)\n",
    "if MIN_CONC_FILTER is True:\n",
    "    config[section][\"MIN_CONC\"] = str(MIN_CONC)\n",
    "\n",
    "config[section][\"filter_quantile\"] = str(QUANTILE_FILTER)\n",
    "config[section][\"filter_jointaccessible\"] = str(JOINT_ACCESSIBLE)\n",
    "config[section][\"classlabel\"] = str(CLASS_LABEL)\n",
    "\n",
    "crw.write(config, cfn)"
   ]
  },
  {
   "cell_type": "markdown",
   "id": "59f68c67-7be8-4b69-b8fe-5ccba381bce4",
   "metadata": {},
   "source": [
    "## keep only HepG2 and k562 data"
   ]
  },
  {
   "cell_type": "code",
   "execution_count": 23,
   "id": "62ffaea6-4aeb-445d-a787-5da4dccf8fe6",
   "metadata": {},
   "outputs": [],
   "source": [
    "def relabelDiffAcc(df):\n",
    "    # change diff_acc column to reflect cell line (0-hepg2, 1-k562)\n",
    "    # this way, instead of predicting US-response, I predict whether a sequence is HepG2 or K562-specific\n",
    "    \n",
    "    df.loc[df[\"cl\"]==\"hepg2\", \"diffAcc\"]=0\n",
    "    df.loc[df[\"cl\"]==\"k562\", \"diffAcc\"]=1\n",
    "    print(df.groupby(\"cl\")[\"seq\"].count())\n",
    "    \n",
    "    return df"
   ]
  },
  {
   "cell_type": "code",
   "execution_count": 24,
   "id": "958d56c1-7361-4a0f-b51e-21fb1cd4aff0",
   "metadata": {},
   "outputs": [
    {
     "name": "stdout",
     "output_type": "stream",
     "text": [
      "cl\n",
      "hepg2    30440\n",
      "k562     17876\n",
      "Name: seq, dtype: int64\n",
      "cl\n",
      "hepg2    50750\n",
      "k562     66710\n",
      "Name: seq, dtype: int64\n",
      "cl\n",
      "hepg2    106400\n",
      "k562     160762\n",
      "Name: seq, dtype: int64\n"
     ]
    }
   ],
   "source": [
    "pos_cl=[\"hepg2\", \"k562\"]\n",
    "train_pos = train_full.loc[train_full[\"cl\"].isin(pos_cl)].copy()\n",
    "val_pos = val_full.loc[val_full[\"cl\"].isin(pos_cl)].copy()\n",
    "test_pos = test_full.loc[test_full[\"cl\"].isin(pos_cl)].copy()\n",
    "\n",
    "# relabel diffacc column with cell-type-specific peaks\n",
    "train_pos, val_pos, test_pos = relabelDiffAcc(train_pos), relabelDiffAcc(val_pos), relabelDiffAcc(test_pos)"
   ]
  },
  {
   "cell_type": "code",
   "execution_count": 25,
   "id": "9adb3100-c7e3-404a-8387-93d4134dbd4c",
   "metadata": {},
   "outputs": [
    {
     "data": {
      "text/plain": [
       "(48316, 117460, 267162)"
      ]
     },
     "execution_count": 25,
     "metadata": {},
     "output_type": "execute_result"
    }
   ],
   "source": [
    "# write fasta\n",
    "\n",
    "writeFa(train_pos[fa_cols], TRAIN_FA)\n",
    "writeFa(val_pos[fa_cols], VAL_FA)\n",
    "writeFa(test_pos[fa_cols], TEST_FA)\n",
    "\n",
    "# write fasta\n",
    "\n",
    "train_pos[cols].to_csv(TRAIN_TARGET, sep='\\t', index=False)\n",
    "val_pos[cols].to_csv(VAL_TARGET, sep='\\t', index=False)\n",
    "test_pos[cols].to_csv(TEST_TARGET, sep='\\t', index=False)\n",
    "\n",
    "# report nrows\n",
    "train_pos.shape[0], val_pos.shape[0], test_pos.shape[0]"
   ]
  },
  {
   "cell_type": "code",
   "execution_count": 26,
   "id": "049a34b4-bb7a-4c4e-aa41-ec8d3aae5212",
   "metadata": {},
   "outputs": [
    {
     "data": {
      "text/plain": [
       "'/wynton/home/ahituv/fongsl/EMF/US/ml_emf/data/deepstarr/deseq2/pos/class.all.balanced_window'"
      ]
     },
     "execution_count": 26,
     "metadata": {},
     "output_type": "execute_result"
    }
   ],
   "source": [
    "DATA_PATH"
   ]
  },
  {
   "cell_type": "markdown",
   "id": "00fb5cef",
   "metadata": {},
   "source": [
    "## table pivot \n",
    "- 1 = diff accessible element. \n",
    "- 0 = not dif accessible OR NOT accessible. This might be a problem, as some sequences may be predicted zero because they are not differentially accessible or because they are not present in a cell type at all. \n",
    "\n",
    "\n",
    "### Experimental question\n",
    "- should US-sensitivity be predicted as a cell-type-specific task? or just in general?\n",
    "\n",
    "    - One hypothesis for in general: DA elements have sequence similarity between cell lines, but are accessible at different loci depending on cell-type. This suggests similar trans-regulatory responses, but cis-regulatory effects that are cell-type-specific. In this case, predicting DA based on sequence, regardless of cell type, is an appropriate classification task. \n",
    "    \n",
    "    - One hypothesis for in cl-specific: DA elements have distinct sequences across cell lines and are accessible at different loci depending on cell-type. This would suggest different trans-regulatory responses per cell line, producing different cis-regulatory effects that are cell-type-specific. In this case, predicting DA based on both sequence AND cell type is appropriate. "
   ]
  },
  {
   "cell_type": "code",
   "execution_count": 55,
   "id": "c42c91fb",
   "metadata": {
    "ExecuteTime": {
     "end_time": "2024-04-19T22:10:45.773742Z",
     "start_time": "2024-04-19T22:10:45.762276Z"
    }
   },
   "outputs": [],
   "source": [
    "\n",
    "CL = \"allcl-stratified\"\n",
    "PREFIX=\"cl-specific\"\n",
    "\n",
    "\n",
    "# file inputs for training, testing\n",
    "TRAIN_FA = f\"{PREFIX}.Sequences_Train.fa\"\n",
    "VAL_FA = f\"{PREFIX}.Sequences_Val.fa\"\n",
    "TEST_FA = f\"{PREFIX}.Sequences_Test.fa\"\n",
    "\n",
    "## y\n",
    "TRAIN_TARGET = f\"{PREFIX}.Sequences_activity_Train.txt\"\n",
    "VAL_TARGET = f\"{PREFIX}.Sequences_activity_Val.txt\"\n",
    "TEST_TARGET = f\"{PREFIX}.Sequences_activity_Test.txt\"\n",
    "\n",
    "## rules\n",
    "\n",
    "## deepstarr config \n",
    "section = f\"{CL}.atac.deseq2.deepstarr\"\n",
    "crw.check(config, section)\n",
    "\n",
    "config[section][\"data_path\"] = DATA_PATH\n",
    "config[section][\"held_out_chr\"] = \",\".join(TEST_CHR)\n",
    "config[section][\"val_chr\"] = \",\".join(VAL_CHR)\n",
    "\n",
    "# deepstarr prefix config\n",
    "section = f\"{CL}.atac.deseq2.deepstarr.{PREFIX}\"\n",
    "crw.check(config, section)\n",
    "\n",
    "config[section][\"train_fa\"] = TRAIN_FA\n",
    "config[section][\"val_fa\"] = VAL_FA\n",
    "config[section][\"test_fa\"] = TEST_FA\n",
    "\n",
    "config[section][\"train_target\"] = TRAIN_TARGET\n",
    "config[section][\"tval_target\"] = VAL_TARGET\n",
    "config[section][\"test_target\"] = TEST_TARGET\n",
    "\n",
    "config[section][\"filter_MIN_CONC\"] = str(MIN_CONC_FILTER)\n",
    "if MIN_CONC_FILTER is True:\n",
    "    config[section][\"MIN_CONC\"] = str(MIN_CONC)\n",
    "\n",
    "config[section][\"filter_quantile\"] = str(QUANTILE_FILTER)\n",
    "config[section][\"filter_jointaccessible\"] = str(JOINT_ACCESSIBLE)\n",
    "config[section][\"classlabel\"] = str(CLASS_LABEL)\n",
    "\n",
    "crw.write(config, cfn)"
   ]
  },
  {
   "cell_type": "code",
   "execution_count": 56,
   "id": "3692e5bb",
   "metadata": {
    "ExecuteTime": {
     "end_time": "2024-04-19T22:10:48.453384Z",
     "start_time": "2024-04-19T22:10:45.775452Z"
    }
   },
   "outputs": [],
   "source": [
    "# pivot tables. \n",
    "train_full_table=pd.pivot(train_full, columns = \"cl\", index=\"coor.type\", values=\"diffAcc\").fillna(0).reset_index()\n",
    "val_full_table=pd.pivot(val_full, columns = \"cl\", index=\"coor.type\", values=\"diffAcc\").fillna(0).reset_index()\n",
    "test_full_table=pd.pivot(test_full, columns = \"cl\", index=\"coor.type\", values=\"diffAcc\").fillna(0).reset_index()\n",
    "\n",
    "# add sequences bak\n",
    "train_full_table=pd.merge(train_full[[\"coor.type\", \"seq\"]], train_full_table)\n",
    "val_full_table=pd.merge(val_full[[\"coor.type\", \"seq\"]], val_full_table)\n",
    "test_full_table=pd.merge(test_full[[\"coor.type\", \"seq\"]], test_full_table)"
   ]
  },
  {
   "cell_type": "markdown",
   "id": "56ee0026",
   "metadata": {},
   "source": [
    "### write pivot tables"
   ]
  },
  {
   "cell_type": "code",
   "execution_count": 19,
   "id": "f2765298",
   "metadata": {
    "ExecuteTime": {
     "end_time": "2024-04-19T22:12:10.454128Z",
     "start_time": "2024-04-19T22:10:48.455268Z"
    }
   },
   "outputs": [
    {
     "data": {
      "text/plain": [
       "(113292, 232750, 487830)"
      ]
     },
     "execution_count": 19,
     "metadata": {},
     "output_type": "execute_result"
    }
   ],
   "source": [
    "# write fasta\n",
    "writeFa(test_full_table[fa_cols], TEST_FA)\n",
    "writeFa(train_full_table[fa_cols], TRAIN_FA)\n",
    "writeFa(val_full_table[fa_cols], VAL_FA)\n",
    "\n",
    "# write target\n",
    "cols = list(test_full_table.columns)\n",
    "cols.remove(\"seq\")\n",
    "\n",
    "test_full_table[cols].to_csv(TEST_TARGET, sep='\\t', index=False)\n",
    "train_full_table[cols].to_csv(TRAIN_TARGET, sep='\\t', index=False)\n",
    "val_full_table[cols].to_csv(VAL_TARGET, sep='\\t', index=False)\n",
    "\n",
    "# report nrows\n",
    "train_full_table.shape[0], val_full_table.shape[0], test_full_table.shape[0]"
   ]
  },
  {
   "cell_type": "markdown",
   "id": "c7fb266e",
   "metadata": {},
   "source": [
    "### side quest - DiffAcc elements are cell type-specific "
   ]
  },
  {
   "cell_type": "code",
   "execution_count": 20,
   "id": "aa06d024",
   "metadata": {
    "ExecuteTime": {
     "end_time": "2024-04-19T22:14:08.992475Z",
     "start_time": "2024-04-19T22:14:06.395090Z"
    }
   },
   "outputs": [
    {
     "ename": "TypeError",
     "evalue": "can only concatenate str (not \"float\") to str",
     "output_type": "error",
     "traceback": [
      "\u001b[0;31m---------------------------------------------------------------------------\u001b[0m",
      "\u001b[0;31mTypeError\u001b[0m                                 Traceback (most recent call last)",
      "Cell \u001b[0;32mIn[20], line 2\u001b[0m\n\u001b[1;32m      1\u001b[0m \u001b[38;5;66;03m# there are no training examples where a regulatory element has US sensitive activity >1 cell type. See col 0\u001b[39;00m\n\u001b[0;32m----> 2\u001b[0m \u001b[43mtrain_full_table\u001b[49m\u001b[38;5;241;43m.\u001b[39;49m\u001b[43msum\u001b[49m\u001b[43m(\u001b[49m\u001b[43maxis\u001b[49m\u001b[38;5;241;43m=\u001b[39;49m\u001b[38;5;241;43m1\u001b[39;49m\u001b[43m)\u001b[49m\u001b[38;5;241m.\u001b[39mreset_index()\u001b[38;5;241m.\u001b[39msort_values(by\u001b[38;5;241m=\u001b[39m\u001b[38;5;241m0\u001b[39m, ascending\u001b[38;5;241m=\u001b[39m\u001b[38;5;28;01mFalse\u001b[39;00m)  \n",
      "File \u001b[0;32m~/.conda/envs/mamba/lib/python3.9/site-packages/pandas/core/frame.py:11315\u001b[0m, in \u001b[0;36mDataFrame.sum\u001b[0;34m(self, axis, skipna, numeric_only, min_count, **kwargs)\u001b[0m\n\u001b[1;32m  11306\u001b[0m \u001b[38;5;129m@doc\u001b[39m(make_doc(\u001b[38;5;124m\"\u001b[39m\u001b[38;5;124msum\u001b[39m\u001b[38;5;124m\"\u001b[39m, ndim\u001b[38;5;241m=\u001b[39m\u001b[38;5;241m2\u001b[39m))\n\u001b[1;32m  11307\u001b[0m \u001b[38;5;28;01mdef\u001b[39;00m \u001b[38;5;21msum\u001b[39m(\n\u001b[1;32m  11308\u001b[0m     \u001b[38;5;28mself\u001b[39m,\n\u001b[0;32m   (...)\u001b[0m\n\u001b[1;32m  11313\u001b[0m     \u001b[38;5;241m*\u001b[39m\u001b[38;5;241m*\u001b[39mkwargs,\n\u001b[1;32m  11314\u001b[0m ):\n\u001b[0;32m> 11315\u001b[0m     result \u001b[38;5;241m=\u001b[39m \u001b[38;5;28;43msuper\u001b[39;49m\u001b[43m(\u001b[49m\u001b[43m)\u001b[49m\u001b[38;5;241;43m.\u001b[39;49m\u001b[43msum\u001b[49m\u001b[43m(\u001b[49m\u001b[43maxis\u001b[49m\u001b[43m,\u001b[49m\u001b[43m \u001b[49m\u001b[43mskipna\u001b[49m\u001b[43m,\u001b[49m\u001b[43m \u001b[49m\u001b[43mnumeric_only\u001b[49m\u001b[43m,\u001b[49m\u001b[43m \u001b[49m\u001b[43mmin_count\u001b[49m\u001b[43m,\u001b[49m\u001b[43m \u001b[49m\u001b[38;5;241;43m*\u001b[39;49m\u001b[38;5;241;43m*\u001b[39;49m\u001b[43mkwargs\u001b[49m\u001b[43m)\u001b[49m\n\u001b[1;32m  11316\u001b[0m     \u001b[38;5;28;01mreturn\u001b[39;00m result\u001b[38;5;241m.\u001b[39m__finalize__(\u001b[38;5;28mself\u001b[39m, method\u001b[38;5;241m=\u001b[39m\u001b[38;5;124m\"\u001b[39m\u001b[38;5;124msum\u001b[39m\u001b[38;5;124m\"\u001b[39m)\n",
      "File \u001b[0;32m~/.conda/envs/mamba/lib/python3.9/site-packages/pandas/core/generic.py:12064\u001b[0m, in \u001b[0;36mNDFrame.sum\u001b[0;34m(self, axis, skipna, numeric_only, min_count, **kwargs)\u001b[0m\n\u001b[1;32m  12056\u001b[0m \u001b[38;5;28;01mdef\u001b[39;00m \u001b[38;5;21msum\u001b[39m(\n\u001b[1;32m  12057\u001b[0m     \u001b[38;5;28mself\u001b[39m,\n\u001b[1;32m  12058\u001b[0m     axis: Axis \u001b[38;5;241m|\u001b[39m \u001b[38;5;28;01mNone\u001b[39;00m \u001b[38;5;241m=\u001b[39m \u001b[38;5;241m0\u001b[39m,\n\u001b[0;32m   (...)\u001b[0m\n\u001b[1;32m  12062\u001b[0m     \u001b[38;5;241m*\u001b[39m\u001b[38;5;241m*\u001b[39mkwargs,\n\u001b[1;32m  12063\u001b[0m ):\n\u001b[0;32m> 12064\u001b[0m     \u001b[38;5;28;01mreturn\u001b[39;00m \u001b[38;5;28;43mself\u001b[39;49m\u001b[38;5;241;43m.\u001b[39;49m\u001b[43m_min_count_stat_function\u001b[49m\u001b[43m(\u001b[49m\n\u001b[1;32m  12065\u001b[0m \u001b[43m        \u001b[49m\u001b[38;5;124;43m\"\u001b[39;49m\u001b[38;5;124;43msum\u001b[39;49m\u001b[38;5;124;43m\"\u001b[39;49m\u001b[43m,\u001b[49m\u001b[43m \u001b[49m\u001b[43mnanops\u001b[49m\u001b[38;5;241;43m.\u001b[39;49m\u001b[43mnansum\u001b[49m\u001b[43m,\u001b[49m\u001b[43m \u001b[49m\u001b[43maxis\u001b[49m\u001b[43m,\u001b[49m\u001b[43m \u001b[49m\u001b[43mskipna\u001b[49m\u001b[43m,\u001b[49m\u001b[43m \u001b[49m\u001b[43mnumeric_only\u001b[49m\u001b[43m,\u001b[49m\u001b[43m \u001b[49m\u001b[43mmin_count\u001b[49m\u001b[43m,\u001b[49m\u001b[43m \u001b[49m\u001b[38;5;241;43m*\u001b[39;49m\u001b[38;5;241;43m*\u001b[39;49m\u001b[43mkwargs\u001b[49m\n\u001b[1;32m  12066\u001b[0m \u001b[43m    \u001b[49m\u001b[43m)\u001b[49m\n",
      "File \u001b[0;32m~/.conda/envs/mamba/lib/python3.9/site-packages/pandas/core/generic.py:12047\u001b[0m, in \u001b[0;36mNDFrame._min_count_stat_function\u001b[0;34m(self, name, func, axis, skipna, numeric_only, min_count, **kwargs)\u001b[0m\n\u001b[1;32m  12044\u001b[0m \u001b[38;5;28;01melif\u001b[39;00m axis \u001b[38;5;129;01mis\u001b[39;00m lib\u001b[38;5;241m.\u001b[39mno_default:\n\u001b[1;32m  12045\u001b[0m     axis \u001b[38;5;241m=\u001b[39m \u001b[38;5;241m0\u001b[39m\n\u001b[0;32m> 12047\u001b[0m \u001b[38;5;28;01mreturn\u001b[39;00m \u001b[38;5;28;43mself\u001b[39;49m\u001b[38;5;241;43m.\u001b[39;49m\u001b[43m_reduce\u001b[49m\u001b[43m(\u001b[49m\n\u001b[1;32m  12048\u001b[0m \u001b[43m    \u001b[49m\u001b[43mfunc\u001b[49m\u001b[43m,\u001b[49m\n\u001b[1;32m  12049\u001b[0m \u001b[43m    \u001b[49m\u001b[43mname\u001b[49m\u001b[38;5;241;43m=\u001b[39;49m\u001b[43mname\u001b[49m\u001b[43m,\u001b[49m\n\u001b[1;32m  12050\u001b[0m \u001b[43m    \u001b[49m\u001b[43maxis\u001b[49m\u001b[38;5;241;43m=\u001b[39;49m\u001b[43maxis\u001b[49m\u001b[43m,\u001b[49m\n\u001b[1;32m  12051\u001b[0m \u001b[43m    \u001b[49m\u001b[43mskipna\u001b[49m\u001b[38;5;241;43m=\u001b[39;49m\u001b[43mskipna\u001b[49m\u001b[43m,\u001b[49m\n\u001b[1;32m  12052\u001b[0m \u001b[43m    \u001b[49m\u001b[43mnumeric_only\u001b[49m\u001b[38;5;241;43m=\u001b[39;49m\u001b[43mnumeric_only\u001b[49m\u001b[43m,\u001b[49m\n\u001b[1;32m  12053\u001b[0m \u001b[43m    \u001b[49m\u001b[43mmin_count\u001b[49m\u001b[38;5;241;43m=\u001b[39;49m\u001b[43mmin_count\u001b[49m\u001b[43m,\u001b[49m\n\u001b[1;32m  12054\u001b[0m \u001b[43m\u001b[49m\u001b[43m)\u001b[49m\n",
      "File \u001b[0;32m~/.conda/envs/mamba/lib/python3.9/site-packages/pandas/core/frame.py:11207\u001b[0m, in \u001b[0;36mDataFrame._reduce\u001b[0;34m(self, op, name, axis, skipna, numeric_only, filter_type, **kwds)\u001b[0m\n\u001b[1;32m  11203\u001b[0m     df \u001b[38;5;241m=\u001b[39m df\u001b[38;5;241m.\u001b[39mT\n\u001b[1;32m  11205\u001b[0m \u001b[38;5;66;03m# After possibly _get_data and transposing, we are now in the\u001b[39;00m\n\u001b[1;32m  11206\u001b[0m \u001b[38;5;66;03m#  simple case where we can use BlockManager.reduce\u001b[39;00m\n\u001b[0;32m> 11207\u001b[0m res \u001b[38;5;241m=\u001b[39m \u001b[43mdf\u001b[49m\u001b[38;5;241;43m.\u001b[39;49m\u001b[43m_mgr\u001b[49m\u001b[38;5;241;43m.\u001b[39;49m\u001b[43mreduce\u001b[49m\u001b[43m(\u001b[49m\u001b[43mblk_func\u001b[49m\u001b[43m)\u001b[49m\n\u001b[1;32m  11208\u001b[0m out \u001b[38;5;241m=\u001b[39m df\u001b[38;5;241m.\u001b[39m_constructor_from_mgr(res, axes\u001b[38;5;241m=\u001b[39mres\u001b[38;5;241m.\u001b[39maxes)\u001b[38;5;241m.\u001b[39miloc[\u001b[38;5;241m0\u001b[39m]\n\u001b[1;32m  11209\u001b[0m \u001b[38;5;28;01mif\u001b[39;00m out_dtype \u001b[38;5;129;01mis\u001b[39;00m \u001b[38;5;129;01mnot\u001b[39;00m \u001b[38;5;28;01mNone\u001b[39;00m \u001b[38;5;129;01mand\u001b[39;00m out\u001b[38;5;241m.\u001b[39mdtype \u001b[38;5;241m!=\u001b[39m \u001b[38;5;124m\"\u001b[39m\u001b[38;5;124mboolean\u001b[39m\u001b[38;5;124m\"\u001b[39m:\n",
      "File \u001b[0;32m~/.conda/envs/mamba/lib/python3.9/site-packages/pandas/core/internals/managers.py:1459\u001b[0m, in \u001b[0;36mBlockManager.reduce\u001b[0;34m(self, func)\u001b[0m\n\u001b[1;32m   1457\u001b[0m res_blocks: \u001b[38;5;28mlist\u001b[39m[Block] \u001b[38;5;241m=\u001b[39m []\n\u001b[1;32m   1458\u001b[0m \u001b[38;5;28;01mfor\u001b[39;00m blk \u001b[38;5;129;01min\u001b[39;00m \u001b[38;5;28mself\u001b[39m\u001b[38;5;241m.\u001b[39mblocks:\n\u001b[0;32m-> 1459\u001b[0m     nbs \u001b[38;5;241m=\u001b[39m \u001b[43mblk\u001b[49m\u001b[38;5;241;43m.\u001b[39;49m\u001b[43mreduce\u001b[49m\u001b[43m(\u001b[49m\u001b[43mfunc\u001b[49m\u001b[43m)\u001b[49m\n\u001b[1;32m   1460\u001b[0m     res_blocks\u001b[38;5;241m.\u001b[39mextend(nbs)\n\u001b[1;32m   1462\u001b[0m index \u001b[38;5;241m=\u001b[39m Index([\u001b[38;5;28;01mNone\u001b[39;00m])  \u001b[38;5;66;03m# placeholder\u001b[39;00m\n",
      "File \u001b[0;32m~/.conda/envs/mamba/lib/python3.9/site-packages/pandas/core/internals/blocks.py:377\u001b[0m, in \u001b[0;36mBlock.reduce\u001b[0;34m(self, func)\u001b[0m\n\u001b[1;32m    371\u001b[0m \u001b[38;5;129m@final\u001b[39m\n\u001b[1;32m    372\u001b[0m \u001b[38;5;28;01mdef\u001b[39;00m \u001b[38;5;21mreduce\u001b[39m(\u001b[38;5;28mself\u001b[39m, func) \u001b[38;5;241m-\u001b[39m\u001b[38;5;241m>\u001b[39m \u001b[38;5;28mlist\u001b[39m[Block]:\n\u001b[1;32m    373\u001b[0m     \u001b[38;5;66;03m# We will apply the function and reshape the result into a single-row\u001b[39;00m\n\u001b[1;32m    374\u001b[0m     \u001b[38;5;66;03m#  Block with the same mgr_locs; squeezing will be done at a higher level\u001b[39;00m\n\u001b[1;32m    375\u001b[0m     \u001b[38;5;28;01massert\u001b[39;00m \u001b[38;5;28mself\u001b[39m\u001b[38;5;241m.\u001b[39mndim \u001b[38;5;241m==\u001b[39m \u001b[38;5;241m2\u001b[39m\n\u001b[0;32m--> 377\u001b[0m     result \u001b[38;5;241m=\u001b[39m \u001b[43mfunc\u001b[49m\u001b[43m(\u001b[49m\u001b[38;5;28;43mself\u001b[39;49m\u001b[38;5;241;43m.\u001b[39;49m\u001b[43mvalues\u001b[49m\u001b[43m)\u001b[49m\n\u001b[1;32m    379\u001b[0m     \u001b[38;5;28;01mif\u001b[39;00m \u001b[38;5;28mself\u001b[39m\u001b[38;5;241m.\u001b[39mvalues\u001b[38;5;241m.\u001b[39mndim \u001b[38;5;241m==\u001b[39m \u001b[38;5;241m1\u001b[39m:\n\u001b[1;32m    380\u001b[0m         res_values \u001b[38;5;241m=\u001b[39m result\n",
      "File \u001b[0;32m~/.conda/envs/mamba/lib/python3.9/site-packages/pandas/core/frame.py:11139\u001b[0m, in \u001b[0;36mDataFrame._reduce.<locals>.blk_func\u001b[0;34m(values, axis)\u001b[0m\n\u001b[1;32m  11137\u001b[0m         \u001b[38;5;28;01mreturn\u001b[39;00m np\u001b[38;5;241m.\u001b[39marray([result])\n\u001b[1;32m  11138\u001b[0m \u001b[38;5;28;01melse\u001b[39;00m:\n\u001b[0;32m> 11139\u001b[0m     \u001b[38;5;28;01mreturn\u001b[39;00m \u001b[43mop\u001b[49m\u001b[43m(\u001b[49m\u001b[43mvalues\u001b[49m\u001b[43m,\u001b[49m\u001b[43m \u001b[49m\u001b[43maxis\u001b[49m\u001b[38;5;241;43m=\u001b[39;49m\u001b[43maxis\u001b[49m\u001b[43m,\u001b[49m\u001b[43m \u001b[49m\u001b[43mskipna\u001b[49m\u001b[38;5;241;43m=\u001b[39;49m\u001b[43mskipna\u001b[49m\u001b[43m,\u001b[49m\u001b[43m \u001b[49m\u001b[38;5;241;43m*\u001b[39;49m\u001b[38;5;241;43m*\u001b[39;49m\u001b[43mkwds\u001b[49m\u001b[43m)\u001b[49m\n",
      "File \u001b[0;32m~/.conda/envs/mamba/lib/python3.9/site-packages/pandas/core/nanops.py:85\u001b[0m, in \u001b[0;36mdisallow.__call__.<locals>._f\u001b[0;34m(*args, **kwargs)\u001b[0m\n\u001b[1;32m     81\u001b[0m     \u001b[38;5;28;01mraise\u001b[39;00m \u001b[38;5;167;01mTypeError\u001b[39;00m(\n\u001b[1;32m     82\u001b[0m         \u001b[38;5;124mf\u001b[39m\u001b[38;5;124m\"\u001b[39m\u001b[38;5;124mreduction operation \u001b[39m\u001b[38;5;124m'\u001b[39m\u001b[38;5;132;01m{\u001b[39;00mf_name\u001b[38;5;132;01m}\u001b[39;00m\u001b[38;5;124m'\u001b[39m\u001b[38;5;124m not allowed for this dtype\u001b[39m\u001b[38;5;124m\"\u001b[39m\n\u001b[1;32m     83\u001b[0m     )\n\u001b[1;32m     84\u001b[0m \u001b[38;5;28;01mtry\u001b[39;00m:\n\u001b[0;32m---> 85\u001b[0m     \u001b[38;5;28;01mreturn\u001b[39;00m \u001b[43mf\u001b[49m\u001b[43m(\u001b[49m\u001b[38;5;241;43m*\u001b[39;49m\u001b[43margs\u001b[49m\u001b[43m,\u001b[49m\u001b[43m \u001b[49m\u001b[38;5;241;43m*\u001b[39;49m\u001b[38;5;241;43m*\u001b[39;49m\u001b[43mkwargs\u001b[49m\u001b[43m)\u001b[49m\n\u001b[1;32m     86\u001b[0m \u001b[38;5;28;01mexcept\u001b[39;00m \u001b[38;5;167;01mValueError\u001b[39;00m \u001b[38;5;28;01mas\u001b[39;00m e:\n\u001b[1;32m     87\u001b[0m     \u001b[38;5;66;03m# we want to transform an object array\u001b[39;00m\n\u001b[1;32m     88\u001b[0m     \u001b[38;5;66;03m# ValueError message to the more typical TypeError\u001b[39;00m\n\u001b[1;32m     89\u001b[0m     \u001b[38;5;66;03m# e.g. this is normally a disallowed function on\u001b[39;00m\n\u001b[1;32m     90\u001b[0m     \u001b[38;5;66;03m# object arrays that contain strings\u001b[39;00m\n\u001b[1;32m     91\u001b[0m     \u001b[38;5;28;01mif\u001b[39;00m is_object_dtype(args[\u001b[38;5;241m0\u001b[39m]):\n",
      "File \u001b[0;32m~/.conda/envs/mamba/lib/python3.9/site-packages/pandas/core/nanops.py:404\u001b[0m, in \u001b[0;36m_datetimelike_compat.<locals>.new_func\u001b[0;34m(values, axis, skipna, mask, **kwargs)\u001b[0m\n\u001b[1;32m    401\u001b[0m \u001b[38;5;28;01mif\u001b[39;00m datetimelike \u001b[38;5;129;01mand\u001b[39;00m mask \u001b[38;5;129;01mis\u001b[39;00m \u001b[38;5;28;01mNone\u001b[39;00m:\n\u001b[1;32m    402\u001b[0m     mask \u001b[38;5;241m=\u001b[39m isna(values)\n\u001b[0;32m--> 404\u001b[0m result \u001b[38;5;241m=\u001b[39m \u001b[43mfunc\u001b[49m\u001b[43m(\u001b[49m\u001b[43mvalues\u001b[49m\u001b[43m,\u001b[49m\u001b[43m \u001b[49m\u001b[43maxis\u001b[49m\u001b[38;5;241;43m=\u001b[39;49m\u001b[43maxis\u001b[49m\u001b[43m,\u001b[49m\u001b[43m \u001b[49m\u001b[43mskipna\u001b[49m\u001b[38;5;241;43m=\u001b[39;49m\u001b[43mskipna\u001b[49m\u001b[43m,\u001b[49m\u001b[43m \u001b[49m\u001b[43mmask\u001b[49m\u001b[38;5;241;43m=\u001b[39;49m\u001b[43mmask\u001b[49m\u001b[43m,\u001b[49m\u001b[43m \u001b[49m\u001b[38;5;241;43m*\u001b[39;49m\u001b[38;5;241;43m*\u001b[39;49m\u001b[43mkwargs\u001b[49m\u001b[43m)\u001b[49m\n\u001b[1;32m    406\u001b[0m \u001b[38;5;28;01mif\u001b[39;00m datetimelike:\n\u001b[1;32m    407\u001b[0m     result \u001b[38;5;241m=\u001b[39m _wrap_results(result, orig_values\u001b[38;5;241m.\u001b[39mdtype, fill_value\u001b[38;5;241m=\u001b[39miNaT)\n",
      "File \u001b[0;32m~/.conda/envs/mamba/lib/python3.9/site-packages/pandas/core/nanops.py:477\u001b[0m, in \u001b[0;36mmaybe_operate_rowwise.<locals>.newfunc\u001b[0;34m(values, axis, **kwargs)\u001b[0m\n\u001b[1;32m    474\u001b[0m         results \u001b[38;5;241m=\u001b[39m [func(x, \u001b[38;5;241m*\u001b[39m\u001b[38;5;241m*\u001b[39mkwargs) \u001b[38;5;28;01mfor\u001b[39;00m x \u001b[38;5;129;01min\u001b[39;00m arrs]\n\u001b[1;32m    475\u001b[0m     \u001b[38;5;28;01mreturn\u001b[39;00m np\u001b[38;5;241m.\u001b[39marray(results)\n\u001b[0;32m--> 477\u001b[0m \u001b[38;5;28;01mreturn\u001b[39;00m \u001b[43mfunc\u001b[49m\u001b[43m(\u001b[49m\u001b[43mvalues\u001b[49m\u001b[43m,\u001b[49m\u001b[43m \u001b[49m\u001b[43maxis\u001b[49m\u001b[38;5;241;43m=\u001b[39;49m\u001b[43maxis\u001b[49m\u001b[43m,\u001b[49m\u001b[43m \u001b[49m\u001b[38;5;241;43m*\u001b[39;49m\u001b[38;5;241;43m*\u001b[39;49m\u001b[43mkwargs\u001b[49m\u001b[43m)\u001b[49m\n",
      "File \u001b[0;32m~/.conda/envs/mamba/lib/python3.9/site-packages/pandas/core/nanops.py:646\u001b[0m, in \u001b[0;36mnansum\u001b[0;34m(values, axis, skipna, min_count, mask)\u001b[0m\n\u001b[1;32m    643\u001b[0m \u001b[38;5;28;01melif\u001b[39;00m dtype\u001b[38;5;241m.\u001b[39mkind \u001b[38;5;241m==\u001b[39m \u001b[38;5;124m\"\u001b[39m\u001b[38;5;124mm\u001b[39m\u001b[38;5;124m\"\u001b[39m:\n\u001b[1;32m    644\u001b[0m     dtype_sum \u001b[38;5;241m=\u001b[39m np\u001b[38;5;241m.\u001b[39mdtype(np\u001b[38;5;241m.\u001b[39mfloat64)\n\u001b[0;32m--> 646\u001b[0m the_sum \u001b[38;5;241m=\u001b[39m \u001b[43mvalues\u001b[49m\u001b[38;5;241;43m.\u001b[39;49m\u001b[43msum\u001b[49m\u001b[43m(\u001b[49m\u001b[43maxis\u001b[49m\u001b[43m,\u001b[49m\u001b[43m \u001b[49m\u001b[43mdtype\u001b[49m\u001b[38;5;241;43m=\u001b[39;49m\u001b[43mdtype_sum\u001b[49m\u001b[43m)\u001b[49m\n\u001b[1;32m    647\u001b[0m the_sum \u001b[38;5;241m=\u001b[39m _maybe_null_out(the_sum, axis, mask, values\u001b[38;5;241m.\u001b[39mshape, min_count\u001b[38;5;241m=\u001b[39mmin_count)\n\u001b[1;32m    649\u001b[0m \u001b[38;5;28;01mreturn\u001b[39;00m the_sum\n",
      "File \u001b[0;32m~/.local/lib/python3.9/site-packages/numpy/core/_methods.py:49\u001b[0m, in \u001b[0;36m_sum\u001b[0;34m(a, axis, dtype, out, keepdims, initial, where)\u001b[0m\n\u001b[1;32m     47\u001b[0m \u001b[38;5;28;01mdef\u001b[39;00m \u001b[38;5;21m_sum\u001b[39m(a, axis\u001b[38;5;241m=\u001b[39m\u001b[38;5;28;01mNone\u001b[39;00m, dtype\u001b[38;5;241m=\u001b[39m\u001b[38;5;28;01mNone\u001b[39;00m, out\u001b[38;5;241m=\u001b[39m\u001b[38;5;28;01mNone\u001b[39;00m, keepdims\u001b[38;5;241m=\u001b[39m\u001b[38;5;28;01mFalse\u001b[39;00m,\n\u001b[1;32m     48\u001b[0m          initial\u001b[38;5;241m=\u001b[39m_NoValue, where\u001b[38;5;241m=\u001b[39m\u001b[38;5;28;01mTrue\u001b[39;00m):\n\u001b[0;32m---> 49\u001b[0m     \u001b[38;5;28;01mreturn\u001b[39;00m \u001b[43mumr_sum\u001b[49m\u001b[43m(\u001b[49m\u001b[43ma\u001b[49m\u001b[43m,\u001b[49m\u001b[43m \u001b[49m\u001b[43maxis\u001b[49m\u001b[43m,\u001b[49m\u001b[43m \u001b[49m\u001b[43mdtype\u001b[49m\u001b[43m,\u001b[49m\u001b[43m \u001b[49m\u001b[43mout\u001b[49m\u001b[43m,\u001b[49m\u001b[43m \u001b[49m\u001b[43mkeepdims\u001b[49m\u001b[43m,\u001b[49m\u001b[43m \u001b[49m\u001b[43minitial\u001b[49m\u001b[43m,\u001b[49m\u001b[43m \u001b[49m\u001b[43mwhere\u001b[49m\u001b[43m)\u001b[49m\n",
      "\u001b[0;31mTypeError\u001b[0m: can only concatenate str (not \"float\") to str"
     ]
    }
   ],
   "source": [
    "# there are no training examples where a regulatory element has US sensitive activity >1 cell type. See col 0\n",
    "train_full_table.sum(axis=1).reset_index().sort_values(by=0, ascending=False)  "
   ]
  },
  {
   "cell_type": "markdown",
   "id": "3ac0f9f5",
   "metadata": {},
   "source": [
    "# compare before and after windowing and reverse complement"
   ]
  },
  {
   "cell_type": "markdown",
   "id": "cda03609",
   "metadata": {},
   "source": [
    "## balanced training "
   ]
  },
  {
   "cell_type": "code",
   "execution_count": 28,
   "id": "e5a18fec",
   "metadata": {
    "ExecuteTime": {
     "end_time": "2024-04-19T22:19:08.993779Z",
     "start_time": "2024-04-19T22:19:08.934408Z"
    }
   },
   "outputs": [
    {
     "data": {
      "text/plain": [
       "cl     diffAcc\n",
       "bj     0           2194\n",
       "       1            317\n",
       "hepg2  0           7254\n",
       "       1           1089\n",
       "hob    0          12666\n",
       "       1           2005\n",
       "k562   0           4366\n",
       "       1            640\n",
       "Name: type, dtype: int64"
      ]
     },
     "execution_count": 28,
     "metadata": {},
     "output_type": "execute_result"
    }
   ],
   "source": [
    "train_full[[\"type\", \"diffAcc\", \"cl\"]].drop_duplicates().groupby([\"cl\", \"diffAcc\"])[\"type\"].count()"
   ]
  },
  {
   "cell_type": "code",
   "execution_count": 29,
   "id": "ec6ef832",
   "metadata": {
    "ExecuteTime": {
     "end_time": "2024-04-19T22:19:10.343209Z",
     "start_time": "2024-04-19T22:19:10.241094Z"
    }
   },
   "outputs": [
    {
     "data": {
      "text/plain": [
       "cl     diffAcc\n",
       "bj     0           4438\n",
       "       1           4438\n",
       "hepg2  0          15220\n",
       "       1          15220\n",
       "hob    0          28050\n",
       "       1          28050\n",
       "k562   0           8938\n",
       "       1           8938\n",
       "Name: id, dtype: int64"
      ]
     },
     "execution_count": 29,
     "metadata": {},
     "output_type": "execute_result"
    }
   ],
   "source": [
    "train_full[[\"id\", \"coor.type\", \"diffAcc\", \"cl\"]].drop_duplicates().groupby([\"cl\", \"diffAcc\"])[\"id\"].count()"
   ]
  },
  {
   "cell_type": "markdown",
   "id": "dfa0d6a5",
   "metadata": {},
   "source": [
    "##  validation"
   ]
  },
  {
   "cell_type": "code",
   "execution_count": 30,
   "id": "db34231e",
   "metadata": {
    "ExecuteTime": {
     "end_time": "2024-04-19T22:19:29.016536Z",
     "start_time": "2024-04-19T22:19:28.955169Z"
    }
   },
   "outputs": [
    {
     "data": {
      "text/plain": [
       "cl     diffAcc\n",
       "bj     0          4870\n",
       "       1            15\n",
       "hepg2  0          3571\n",
       "       1            54\n",
       "hob    0          3256\n",
       "       1            94\n",
       "k562   0          4721\n",
       "       1            44\n",
       "Name: type, dtype: int64"
      ]
     },
     "execution_count": 30,
     "metadata": {},
     "output_type": "execute_result"
    }
   ],
   "source": [
    "val_full[[\"type\", \"diffAcc\", \"cl\"]].drop_duplicates().groupby([\"cl\", \"diffAcc\"])[\"type\"].count()"
   ]
  },
  {
   "cell_type": "code",
   "execution_count": 31,
   "id": "41cd4292",
   "metadata": {
    "ExecuteTime": {
     "end_time": "2024-04-19T22:19:42.113661Z",
     "start_time": "2024-04-19T22:19:41.808291Z"
    }
   },
   "outputs": [
    {
     "data": {
      "text/plain": [
       "cl     diffAcc\n",
       "bj     0          68180\n",
       "       1            210\n",
       "hepg2  0          49994\n",
       "       1            756\n",
       "hob    0          45584\n",
       "       1           1316\n",
       "k562   0          66094\n",
       "       1            616\n",
       "Name: id, dtype: int64"
      ]
     },
     "execution_count": 31,
     "metadata": {},
     "output_type": "execute_result"
    }
   ],
   "source": [
    "val_full[[\"id\", \"coor.type\", \"diffAcc\", \"cl\"]].drop_duplicates().groupby([\"cl\", \"diffAcc\"])[\"id\"].count()"
   ]
  },
  {
   "cell_type": "markdown",
   "id": "6db4cbaa",
   "metadata": {},
   "source": [
    "## test"
   ]
  },
  {
   "cell_type": "code",
   "execution_count": 58,
   "id": "7ef9f87d",
   "metadata": {
    "ExecuteTime": {
     "end_time": "2024-04-19T22:22:05.469544Z",
     "start_time": "2024-04-19T22:22:05.338289Z"
    }
   },
   "outputs": [
    {
     "data": {
      "text/plain": [
       "cl     diffAcc\n",
       "bj     0           9356\n",
       "       1             38\n",
       "hepg2  0           7506\n",
       "       1             95\n",
       "hob    0           6170\n",
       "       1            198\n",
       "k562   0          11394\n",
       "       1             89\n",
       "Name: type, dtype: int64"
      ]
     },
     "execution_count": 58,
     "metadata": {},
     "output_type": "execute_result"
    }
   ],
   "source": [
    "test_full[[\"type\", \"diffAcc\", \"cl\"]].drop_duplicates().groupby([\"cl\", \"diffAcc\"])[\"type\"].count()"
   ]
  },
  {
   "cell_type": "code",
   "execution_count": 34,
   "id": "7331fb9c",
   "metadata": {
    "ExecuteTime": {
     "end_time": "2024-04-19T22:22:14.731073Z",
     "start_time": "2024-04-19T22:22:14.220955Z"
    }
   },
   "outputs": [
    {
     "data": {
      "text/plain": [
       "cl     diffAcc\n",
       "bj     0          130984\n",
       "       1             532\n",
       "hepg2  0          105076\n",
       "       1            1324\n",
       "hob    0           86380\n",
       "       1            2772\n",
       "k562   0          159516\n",
       "       1            1246\n",
       "Name: id, dtype: int64"
      ]
     },
     "execution_count": 34,
     "metadata": {},
     "output_type": "execute_result"
    }
   ],
   "source": [
    "test_full[[\"id\", \"coor.type\", \"diffAcc\", \"cl\"]].drop_duplicates().groupby([\"cl\", \"diffAcc\"])[\"id\"].count()"
   ]
  },
  {
   "cell_type": "markdown",
   "id": "9b3aeed5",
   "metadata": {},
   "source": [
    "## EDA"
   ]
  },
  {
   "cell_type": "markdown",
   "id": "bf110369",
   "metadata": {},
   "source": [
    "### per cell line - N training elements "
   ]
  },
  {
   "cell_type": "code",
   "execution_count": 59,
   "id": "62ee1a45-4966-4c06-ba04-8e03ad7fe4ae",
   "metadata": {},
   "outputs": [],
   "source": [
    "RE = \"/wynton/home/ahituv/fongsl/EMF/US/ml_emf/results/eda\""
   ]
  },
  {
   "cell_type": "code",
   "execution_count": 60,
   "id": "064f5f39",
   "metadata": {
    "ExecuteTime": {
     "end_time": "2024-04-19T22:23:49.742505Z",
     "start_time": "2024-04-19T22:23:49.176070Z"
    }
   },
   "outputs": [
    {
     "data": {
      "image/png": "[encoded data removed]",
      "text/plain": [
       "<Figure size 400x400 with 1 Axes>"
      ]
     },
     "metadata": {},
     "output_type": "display_data"
    }
   ],
   "source": [
    "plot = train_full.groupby([\"cl\", \"diffAcc\"]).count().reset_index()\n",
    "\n",
    "# plot\n",
    "fig, ax=plt.subplots(figsize=(4,4))\n",
    "sns.barplot(x=\"cl\", y=\"#chr\", data=plot, hue=\"diffAcc\")\n",
    "ax.set(title=\"Training dataset\\nn elements per cell line\", \n",
    "      ylabel=\"n elements\")\n",
    "out = os.path.join(RE, \"training.balanced.windowed.per.cl.pdf\")\n",
    "plt.savefig(out, bbox_inches=\"tight\")"
   ]
  },
  {
   "cell_type": "markdown",
   "id": "34e3ceff",
   "metadata": {},
   "source": [
    "### per cell line - N test elements "
   ]
  },
  {
   "cell_type": "code",
   "execution_count": 69,
   "id": "38a233cf",
   "metadata": {
    "ExecuteTime": {
     "end_time": "2024-04-19T22:24:08.298866Z",
     "start_time": "2024-04-19T22:24:07.687295Z"
    }
   },
   "outputs": [
    {
     "data": {
      "image/png": "[encoded data removed]",
      "text/plain": [
       "<Figure size 400x400 with 1 Axes>"
      ]
     },
     "metadata": {},
     "output_type": "display_data"
    }
   ],
   "source": [
    "plot = test_full.groupby([\"cl\", \"diffAcc\"]).count().reset_index()\n",
    "\n",
    "# plot\n",
    "fig, ax=plt.subplots(figsize=(4,4))\n",
    "sns.barplot(x=\"cl\", y=\"#chr\", data=plot, hue=\"diffAcc\")\n",
    "ax.set(title=\"Test dataset\\nn elements per cell line\", \n",
    "      ylabel=\"n elements\")\n",
    "out = os.path.join(RE, f\"test.{TEST_CHR[0]}.windowed.per.cl.pdf\")\n",
    "plt.savefig(out, bbox_inches=\"tight\")"
   ]
  },
  {
   "cell_type": "markdown",
   "id": "4bbe3d91",
   "metadata": {},
   "source": [
    "### per cell line, chromosome, N training elements"
   ]
  },
  {
   "cell_type": "code",
   "execution_count": 70,
   "id": "33e571a8",
   "metadata": {
    "ExecuteTime": {
     "end_time": "2024-04-19T22:24:10.481671Z",
     "start_time": "2024-04-19T22:24:10.383604Z"
    }
   },
   "outputs": [
    {
     "data": {
      "text/plain": [
       "<matplotlib.legend.Legend at 0x7efe289587c0>"
      ]
     },
     "execution_count": 70,
     "metadata": {},
     "output_type": "execute_result"
    },
    {
     "data": {
      "image/png": "[encoded data removed]",
      "text/plain": [
       "<Figure size 400x400 with 1 Axes>"
      ]
     },
     "metadata": {},
     "output_type": "display_data"
    }
   ],
   "source": [
    "plot = train_full.groupby([\"#chr\", \"cl\"]).count().reset_index()\n",
    "\n",
    "chr_list = chrList()\n",
    "chr_list.remove(TEST_CHR[0]) \n",
    "chr_list.remove(VAL_CHR[0])\n",
    "\n",
    "# plot\n",
    "fig, ax=plt.subplots(figsize=(4,4))\n",
    "sns.barplot(x=\"cl\", y=\"start\", data=plot, hue=\"#chr\", hue_order=chr_list)\n",
    "ax.set(title=\"Training dataset\\nn elements per chromosome, cell line\", \n",
    "      ylabel=\"n elements\")\n",
    "ax.legend(bbox_to_anchor=(1,1))"
   ]
  },
  {
   "cell_type": "code",
   "execution_count": 71,
   "id": "c25bf55c",
   "metadata": {
    "ExecuteTime": {
     "end_time": "2024-04-19T22:24:14.297324Z",
     "start_time": "2024-04-19T22:24:13.864362Z"
    }
   },
   "outputs": [
    {
     "data": {
      "image/png": "[encoded data removed]",
      "text/plain": [
       "<Figure size 400x400 with 1 Axes>"
      ]
     },
     "metadata": {},
     "output_type": "display_data"
    }
   ],
   "source": [
    "plot = val_full.groupby([\"cl\", \"diffAcc\"]).count().reset_index()\n",
    "\n",
    "# plot\n",
    "fig, ax=plt.subplots(figsize=(4,4))\n",
    "sns.barplot(x=\"cl\", y=\"#chr\", data=plot, hue=\"diffAcc\")\n",
    "ax.set(title=\"Val dataset\\nn elements per cell line\", \n",
    "      ylabel=\"n elements\")\n",
    "out = os.path.join(RE, f\"val.{VAL_CHR[0]}.windowed.per.cl.pdf\")\n",
    "plt.savefig(out, bbox_inches=\"tight\")"
   ]
  },
  {
   "cell_type": "markdown",
   "id": "2a6e3b01",
   "metadata": {},
   "source": [
    "### peak at training dataframe"
   ]
  },
  {
   "cell_type": "code",
   "execution_count": null,
   "id": "9565495a",
   "metadata": {},
   "outputs": [],
   "source": []
  }
 ],
 "metadata": {
  "kernelspec": {
   "display_name": "Python (mamba)",
   "language": "python",
   "name": "mamba"
  },
  "language_info": {
   "codemirror_mode": {
    "name": "ipython",
    "version": 3
   },
   "file_extension": ".py",
   "mimetype": "text/x-python",
   "name": "python",
   "nbconvert_exporter": "python",
   "pygments_lexer": "ipython3",
   "version": "3.9.16"
  },
  "toc": {
   "base_numbering": 1,
   "nav_menu": {},
   "number_sections": true,
   "sideBar": true,
   "skip_h1_title": false,
   "title_cell": "Table of Contents",
   "title_sidebar": "Contents",
   "toc_cell": false,
   "toc_position": {
    "height": "calc(100% - 180px)",
    "left": "10px",
    "top": "150px",
    "width": "302.4px"
   },
   "toc_section_display": true,
   "toc_window_display": true
  },
  "varInspector": {
   "cols": {
    "lenName": 16,
    "lenType": 16,
    "lenVar": 40
   },
   "kernels_config": {
    "python": {
     "delete_cmd_postfix": "",
     "delete_cmd_prefix": "del ",
     "library": "var_list.py",
     "varRefreshCmd": "print(var_dic_list())"
    },
    "r": {
     "delete_cmd_postfix": ") ",
     "delete_cmd_prefix": "rm(",
     "library": "var_list.r",
     "varRefreshCmd": "cat(var_dic_list()) "
    }
   },
   "types_to_exclude": [
    "module",
    "function",
    "builtin_function_or_method",
    "instance",
    "_Feature"
   ],
   "window_display": false
  }
 },
 "nbformat": 4,
 "nbformat_minor": 5
}
