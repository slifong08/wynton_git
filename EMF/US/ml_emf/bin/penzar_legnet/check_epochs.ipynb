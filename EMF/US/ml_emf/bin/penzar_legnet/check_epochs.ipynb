{
 "cells": [
  {
   "cell_type": "code",
   "execution_count": 1,
   "id": "d57d3ea2",
   "metadata": {
    "ExecuteTime": {
     "end_time": "2023-10-20T21:33:40.319560Z",
     "start_time": "2023-10-20T21:33:34.278002Z"
    }
   },
   "outputs": [],
   "source": [
    "import config_readwrite as crw\n",
    "import matplotlib.pyplot as plt\n",
    "import numpy as np\n",
    "import os, sys\n",
    "import pandas as pd\n",
    "from scipy import stats\n",
    "import seaborn as sns"
   ]
  },
  {
   "cell_type": "markdown",
   "id": "4273ba76",
   "metadata": {},
   "source": [
    "# files"
   ]
  },
  {
   "cell_type": "code",
   "execution_count": 2,
   "id": "220d0724",
   "metadata": {
    "ExecuteTime": {
     "end_time": "2023-10-20T21:33:40.330373Z",
     "start_time": "2023-10-20T21:33:40.325935Z"
    }
   },
   "outputs": [],
   "source": [
    "cfn = os.path.join(os.path.dirname(os.getcwd()), \"config.ini\")\n",
    "config, cfn = crw.read(cfn)"
   ]
  },
  {
   "cell_type": "code",
   "execution_count": 4,
   "id": "98033972",
   "metadata": {
    "ExecuteTime": {
     "end_time": "2023-10-20T21:33:51.123997Z",
     "start_time": "2023-10-20T21:33:51.121143Z"
    }
   },
   "outputs": [],
   "source": [
    "PREFIX = \"AGARWAL.seqs\"\n",
    "section = \"agarwal_mpra\"\n",
    "\n",
    "TRUTH = config[section][\"MPRA_ACTIVITY\"] # US activity in HepG2\n",
    "\n",
    "PRED_PATH = \"/wynton/home/ahituv/fongsl/EMF/US/ml_emf/data/legnet/output/\"\n",
    "PRED = os.path.join(PRED_PATH, f\"inference.{PREFIX}.retrain.tsv\")  # legnet predictions\n",
    "INFO = config[section][\"MPRA_INFO\"]"
   ]
  },
  {
   "cell_type": "code",
   "execution_count": 5,
   "id": "18269491",
   "metadata": {
    "ExecuteTime": {
     "end_time": "2023-10-20T21:33:51.512608Z",
     "start_time": "2023-10-20T21:33:51.509673Z"
    }
   },
   "outputs": [],
   "source": [
    "CL = 'wtc11'\n",
    "SIZE = \"0.9\"\n",
    "TRAIN = config[section][f\"training.{CL}.{SIZE}\"] # fake training data\n",
    "TEST = config[section][f\"test.{CL}.{SIZE}\"] # fake training data\n",
    "\n",
    "\n",
    "SEQ_SIZE = 200\n",
    "config[section][\"SEQ_SIZE\"] = str(SEQ_SIZE)"
   ]
  },
  {
   "cell_type": "code",
   "execution_count": 6,
   "id": "edd7e53d",
   "metadata": {
    "ExecuteTime": {
     "end_time": "2023-10-20T21:33:52.043162Z",
     "start_time": "2023-10-20T21:33:52.036465Z"
    }
   },
   "outputs": [],
   "source": [
    "section = \"LegNet.agarwal\"\n",
    "crw.check(config, section)\n",
    "\n",
    "# legnet \n",
    "infile = os.path.split(TRAIN)[1]\n",
    "model_dir = os.path.join(PRED_PATH, \"retrain.\" + \".\".join(infile.split(\".\")[:-1]))\n",
    "MODEL = os.path.join(model_dir, \"model_10.pth\")\n",
    "INFERENCE = os.path.join(PRED_PATH, f\"inference.test.{CL.upper()}.{SIZE}.tsv\")\n",
    "\n",
    "config[section][\"path\"] = PRED_PATH\n",
    "config[section][\"model_dir\"]=model_dir\n",
    "config[section][\"model_10\"]= MODEL\n",
    "config[section][\"inference\"]= INFERENCE\n",
    "\n",
    "crw.write(config, cfn)"
   ]
  },
  {
   "cell_type": "markdown",
   "id": "5fffd475",
   "metadata": {},
   "source": [
    "# run legnet"
   ]
  },
  {
   "cell_type": "code",
   "execution_count": 7,
   "id": "53a96cc8",
   "metadata": {
    "ExecuteTime": {
     "end_time": "2023-10-20T21:33:54.216477Z",
     "start_time": "2023-10-20T21:33:54.212098Z"
    }
   },
   "outputs": [],
   "source": [
    "def launchLegNetTrain(input_file, seqsize):\n",
    "    \"\"\" predict 18 bins using input sequence, write to output file, specify sequence size\"\"\"\n",
    "\n",
    "    PATH = \"/wynton/home/ahituv/fongsl/EMF/US/ml_emf/bin/\"\n",
    "    TRAIN_LEGNET_SH = os.path.join(PATH, \"train_transfer.sh\")\n",
    "\n",
    "    OUTPUT_PATH = \"/wynton/home/ahituv/fongsl/EMF/US/ml_emf/data/legnet/output/\"\n",
    "\n",
    "    # str split to make output file a copy of the input file.\n",
    "    infile = os.path.split(input_file)[1]\n",
    "    model_dir = os.path.join(OUTPUT_PATH, \"retrain.\" + \".\".join(infile.split(\".\")[:-1]))\n",
    "\n",
    "    cmd = \" \".join([\"qsub -q gpu.q\",\n",
    "                   TRAIN_LEGNET_SH,\n",
    "                   input_file,\n",
    "                   str(seqsize), \n",
    "                    model_dir\n",
    "                   ])\n",
    "    print(cmd)\n",
    "    #os.system(cmd)\n",
    "    if os.path.exists(model_dir) is False:\n",
    "        os.system(cmd)\n",
    "    else:\n",
    "        print(\"trained already?\")\n",
    "        \n",
    "    return model_dir"
   ]
  },
  {
   "cell_type": "markdown",
   "id": "da37e1a3",
   "metadata": {},
   "source": [
    "# Retrain?"
   ]
  },
  {
   "cell_type": "code",
   "execution_count": 8,
   "id": "7ec0b2b3",
   "metadata": {
    "ExecuteTime": {
     "end_time": "2023-10-20T21:33:55.010783Z",
     "start_time": "2023-10-20T21:33:55.006044Z"
    }
   },
   "outputs": [
    {
     "name": "stdout",
     "output_type": "stream",
     "text": [
      "qsub -q gpu.q /wynton/home/ahituv/fongsl/EMF/US/ml_emf/bin/train_transfer.sh /wynton/home/ahituv/fongsl/EMF/US/data/training.WTC11.0.9.txt 200 /wynton/home/ahituv/fongsl/EMF/US/ml_emf/data/legnet/output/retrain.training.WTC11.0.9\n",
      "trained already?\n"
     ]
    }
   ],
   "source": [
    "model_dir = launchLegNetTrain(TRAIN, SEQ_SIZE)"
   ]
  },
  {
   "cell_type": "markdown",
   "id": "dfcb66ef",
   "metadata": {},
   "source": [
    "# test"
   ]
  },
  {
   "cell_type": "code",
   "execution_count": 16,
   "id": "8b862538",
   "metadata": {
    "ExecuteTime": {
     "end_time": "2023-10-20T21:38:41.725057Z",
     "start_time": "2023-10-20T21:38:41.720558Z"
    }
   },
   "outputs": [],
   "source": [
    "def launchLegNetInference(input_file, seqsize, model, i):\n",
    "    \"\"\" predict 18 bins using input sequence, write to output file, specify sequence size\"\"\"\n",
    "\n",
    "    PATH = \"/wynton/home/ahituv/fongsl/EMF/US/ml_emf/bin/\"\n",
    "    LEGNET_SH = os.path.join(PATH, \"legnet_inference.sh\")\n",
    "\n",
    "    OUTPUT_PATH = \"/wynton/home/ahituv/fongsl/EMF/US/ml_emf/data/legnet/output/\"\n",
    "\n",
    "    # str split to make output file a copy of the input file.\n",
    "    infile = os.path.split(input_file)[1]\n",
    "    outfile = os.path.join(OUTPUT_PATH, \"inference.\" + \".\".join(infile.split(\".\")[:-1]) + f\"{i}.tsv\")\n",
    "\n",
    "    cmd = \" \".join([\"qsub -q gpu.q\",\n",
    "                   LEGNET_SH,\n",
    "                   input_file,\n",
    "                   outfile,\n",
    "                   str(seqsize),\n",
    "                    model\n",
    "                   ])\n",
    "    print(cmd)\n",
    "    #os.system(cmd)\n",
    "    if os.path.exists(outfile) is False:\n",
    "        print(\"running...\")\n",
    "        os.system(cmd)\n",
    "    else:\n",
    "        print(\"skipping...\", outfile)\n",
    "    return outfile"
   ]
  },
  {
   "cell_type": "markdown",
   "id": "ea4b67a9",
   "metadata": {},
   "source": [
    "## Inference "
   ]
  },
  {
   "cell_type": "code",
   "execution_count": 17,
   "id": "81fc56d7",
   "metadata": {
    "ExecuteTime": {
     "end_time": "2023-10-20T21:38:44.225945Z",
     "start_time": "2023-10-20T21:38:43.295469Z"
    }
   },
   "outputs": [
    {
     "name": "stdout",
     "output_type": "stream",
     "text": [
      "qsub -q gpu.q /wynton/home/ahituv/fongsl/EMF/US/ml_emf/bin/legnet_inference.sh /wynton/home/ahituv/fongsl/EMF/US/data/test.WTC11.0.9.txt /wynton/home/ahituv/fongsl/EMF/US/ml_emf/data/legnet/output/inference.test.WTC11.0.91.tsv 200 /wynton/home/ahituv/fongsl/EMF/US/ml_emf/data/legnet/output/retrain.training.WTC11.0.9/model_1.pth\n",
      "running...\n",
      "qsub -q gpu.q /wynton/home/ahituv/fongsl/EMF/US/ml_emf/bin/legnet_inference.sh /wynton/home/ahituv/fongsl/EMF/US/data/test.WTC11.0.9.txt /wynton/home/ahituv/fongsl/EMF/US/ml_emf/data/legnet/output/inference.test.WTC11.0.92.tsv 200 /wynton/home/ahituv/fongsl/EMF/US/ml_emf/data/legnet/output/retrain.training.WTC11.0.9/model_2.pth\n",
      "running...\n",
      "qsub -q gpu.q /wynton/home/ahituv/fongsl/EMF/US/ml_emf/bin/legnet_inference.sh /wynton/home/ahituv/fongsl/EMF/US/data/test.WTC11.0.9.txt /wynton/home/ahituv/fongsl/EMF/US/ml_emf/data/legnet/output/inference.test.WTC11.0.93.tsv 200 /wynton/home/ahituv/fongsl/EMF/US/ml_emf/data/legnet/output/retrain.training.WTC11.0.9/model_3.pth\n",
      "running...\n",
      "qsub -q gpu.q /wynton/home/ahituv/fongsl/EMF/US/ml_emf/bin/legnet_inference.sh /wynton/home/ahituv/fongsl/EMF/US/data/test.WTC11.0.9.txt /wynton/home/ahituv/fongsl/EMF/US/ml_emf/data/legnet/output/inference.test.WTC11.0.94.tsv 200 /wynton/home/ahituv/fongsl/EMF/US/ml_emf/data/legnet/output/retrain.training.WTC11.0.9/model_4.pth\n",
      "running...\n",
      "qsub -q gpu.q /wynton/home/ahituv/fongsl/EMF/US/ml_emf/bin/legnet_inference.sh /wynton/home/ahituv/fongsl/EMF/US/data/test.WTC11.0.9.txt /wynton/home/ahituv/fongsl/EMF/US/ml_emf/data/legnet/output/inference.test.WTC11.0.95.tsv 200 /wynton/home/ahituv/fongsl/EMF/US/ml_emf/data/legnet/output/retrain.training.WTC11.0.9/model_5.pth\n",
      "running...\n",
      "qsub -q gpu.q /wynton/home/ahituv/fongsl/EMF/US/ml_emf/bin/legnet_inference.sh /wynton/home/ahituv/fongsl/EMF/US/data/test.WTC11.0.9.txt /wynton/home/ahituv/fongsl/EMF/US/ml_emf/data/legnet/output/inference.test.WTC11.0.96.tsv 200 /wynton/home/ahituv/fongsl/EMF/US/ml_emf/data/legnet/output/retrain.training.WTC11.0.9/model_6.pth\n",
      "running...\n",
      "qsub -q gpu.q /wynton/home/ahituv/fongsl/EMF/US/ml_emf/bin/legnet_inference.sh /wynton/home/ahituv/fongsl/EMF/US/data/test.WTC11.0.9.txt /wynton/home/ahituv/fongsl/EMF/US/ml_emf/data/legnet/output/inference.test.WTC11.0.97.tsv 200 /wynton/home/ahituv/fongsl/EMF/US/ml_emf/data/legnet/output/retrain.training.WTC11.0.9/model_7.pth\n",
      "running...\n",
      "qsub -q gpu.q /wynton/home/ahituv/fongsl/EMF/US/ml_emf/bin/legnet_inference.sh /wynton/home/ahituv/fongsl/EMF/US/data/test.WTC11.0.9.txt /wynton/home/ahituv/fongsl/EMF/US/ml_emf/data/legnet/output/inference.test.WTC11.0.98.tsv 200 /wynton/home/ahituv/fongsl/EMF/US/ml_emf/data/legnet/output/retrain.training.WTC11.0.9/model_8.pth\n",
      "running...\n",
      "qsub -q gpu.q /wynton/home/ahituv/fongsl/EMF/US/ml_emf/bin/legnet_inference.sh /wynton/home/ahituv/fongsl/EMF/US/data/test.WTC11.0.9.txt /wynton/home/ahituv/fongsl/EMF/US/ml_emf/data/legnet/output/inference.test.WTC11.0.99.tsv 200 /wynton/home/ahituv/fongsl/EMF/US/ml_emf/data/legnet/output/retrain.training.WTC11.0.9/model_9.pth\n",
      "running...\n",
      "qsub -q gpu.q /wynton/home/ahituv/fongsl/EMF/US/ml_emf/bin/legnet_inference.sh /wynton/home/ahituv/fongsl/EMF/US/data/test.WTC11.0.9.txt /wynton/home/ahituv/fongsl/EMF/US/ml_emf/data/legnet/output/inference.test.WTC11.0.910.tsv 200 /wynton/home/ahituv/fongsl/EMF/US/ml_emf/data/legnet/output/retrain.training.WTC11.0.9/model_10.pth\n",
      "running...\n"
     ]
    }
   ],
   "source": [
    "inferences = []\n",
    "for i in np.arange(1,11):\n",
    "    MODEL = os.path.join(model_dir, f\"model_{i}.pth\")\n",
    "    inf = launchLegNetInference(TEST, SEQ_SIZE, MODEL, i)\n",
    "    inferences.append(inf)"
   ]
  },
  {
   "cell_type": "markdown",
   "id": "87a1f3d4",
   "metadata": {},
   "source": [
    "# Truth v. Pred"
   ]
  },
  {
   "cell_type": "markdown",
   "id": "d756f8c2",
   "metadata": {},
   "source": [
    "## load data"
   ]
  },
  {
   "cell_type": "markdown",
   "id": "b6f4f7f5",
   "metadata": {},
   "source": [
    "### load MPRA activity truth"
   ]
  },
  {
   "cell_type": "code",
   "execution_count": 68,
   "id": "c62fe9a1",
   "metadata": {
    "ExecuteTime": {
     "end_time": "2023-10-20T21:17:47.417149Z",
     "start_time": "2023-10-20T21:17:47.352203Z"
    }
   },
   "outputs": [
    {
     "data": {
      "text/html": [
       "<div>\n",
       "<style scoped>\n",
       "    .dataframe tbody tr th:only-of-type {\n",
       "        vertical-align: middle;\n",
       "    }\n",
       "\n",
       "    .dataframe tbody tr th {\n",
       "        vertical-align: top;\n",
       "    }\n",
       "\n",
       "    .dataframe thead th {\n",
       "        text-align: right;\n",
       "    }\n",
       "</style>\n",
       "<table border=\"1\" class=\"dataframe\">\n",
       "  <thead>\n",
       "    <tr style=\"text-align: right;\">\n",
       "      <th></th>\n",
       "      <th>name</th>\n",
       "      <th>HepG2 [log2(rna/dna)]</th>\n",
       "      <th>K562 [log2(rna/dna)]</th>\n",
       "      <th>WTC11 [log2(rna/dna)]</th>\n",
       "    </tr>\n",
       "  </thead>\n",
       "  <tbody>\n",
       "    <tr>\n",
       "      <th>0</th>\n",
       "      <td>WTC11_seq9998_F</td>\n",
       "      <td>-1.018</td>\n",
       "      <td>-1.018</td>\n",
       "      <td>-1.254</td>\n",
       "    </tr>\n",
       "    <tr>\n",
       "      <th>1</th>\n",
       "      <td>WTC11_seq9987_F</td>\n",
       "      <td>0.320</td>\n",
       "      <td>-0.439</td>\n",
       "      <td>-1.505</td>\n",
       "    </tr>\n",
       "    <tr>\n",
       "      <th>2</th>\n",
       "      <td>WTC11_seq998_F</td>\n",
       "      <td>0.003</td>\n",
       "      <td>-0.217</td>\n",
       "      <td>-0.462</td>\n",
       "    </tr>\n",
       "    <tr>\n",
       "      <th>3</th>\n",
       "      <td>WTC11_seq9970_F</td>\n",
       "      <td>-0.794</td>\n",
       "      <td>-1.026</td>\n",
       "      <td>-1.414</td>\n",
       "    </tr>\n",
       "    <tr>\n",
       "      <th>4</th>\n",
       "      <td>WTC11_seq9967_F</td>\n",
       "      <td>-0.485</td>\n",
       "      <td>-0.592</td>\n",
       "      <td>-1.346</td>\n",
       "    </tr>\n",
       "  </tbody>\n",
       "</table>\n",
       "</div>"
      ],
      "text/plain": [
       "              name  HepG2 [log2(rna/dna)]  K562 [log2(rna/dna)]  \\\n",
       "0  WTC11_seq9998_F                 -1.018                -1.018   \n",
       "1  WTC11_seq9987_F                  0.320                -0.439   \n",
       "2   WTC11_seq998_F                  0.003                -0.217   \n",
       "3  WTC11_seq9970_F                 -0.794                -1.026   \n",
       "4  WTC11_seq9967_F                 -0.485                -0.592   \n",
       "\n",
       "   WTC11 [log2(rna/dna)]  \n",
       "0                 -1.254  \n",
       "1                 -1.505  \n",
       "2                 -0.462  \n",
       "3                 -1.414  \n",
       "4                 -1.346  "
      ]
     },
     "execution_count": 68,
     "metadata": {},
     "output_type": "execute_result"
    }
   ],
   "source": [
    "# load truth\n",
    "\n",
    "truth = pd.read_csv(TRUTH) # load data\n",
    "\n",
    "truth.head()"
   ]
  },
  {
   "cell_type": "code",
   "execution_count": 18,
   "id": "affd8fb1",
   "metadata": {
    "ExecuteTime": {
     "end_time": "2023-10-20T21:49:48.280515Z",
     "start_time": "2023-10-20T21:49:48.018441Z"
    }
   },
   "outputs": [],
   "source": [
    "## merge seq_id, pred, bed, truth\n",
    "\n",
    "# merge truth and prediction\n",
    "info = pd.read_csv(INFO, sep='\\t')"
   ]
  },
  {
   "cell_type": "markdown",
   "id": "f55d31f9",
   "metadata": {},
   "source": [
    "### load LegNet predictions"
   ]
  },
  {
   "cell_type": "code",
   "execution_count": 25,
   "id": "3a32325a",
   "metadata": {
    "ExecuteTime": {
     "end_time": "2023-10-20T21:52:36.801627Z",
     "start_time": "2023-10-20T21:52:36.319986Z"
    }
   },
   "outputs": [],
   "source": [
    "# load predictions\n",
    "corr = {}\n",
    "for i in inferences:\n",
    "\n",
    "    # str split for epoch\n",
    "    epoch = (i.split('.')[-2]).split(\"9\")[1]\n",
    "    if epoch ==\"\":\n",
    "        epoch =9\n",
    "\n",
    "    pred = pd.read_csv(i, sep='\\t', header=None, names=[\"seq\", \"pred\"])\n",
    "    pred[\"epoch\"] = epoch\n",
    "\n",
    "    # merge activity with predictions\n",
    "    merged = pd.merge(info, pred)\n",
    "    # fill na\n",
    "    test = merged.fillna(0)\n",
    "\n",
    "    x = \"WTC11 [log2(rna/dna)]\"\n",
    "    y = \"pred\"\n",
    "    # pearson, spearman\n",
    "    \n",
    "    r, p = stats.pearsonr(test[x], test[y])\n",
    "    rho, ps=stats.spearmanr(test[x], test[y])\n",
    "    corr[epoch]=[epoch, r, p, rho, ps]"
   ]
  },
  {
   "cell_type": "code",
   "execution_count": 23,
   "id": "3c15797b",
   "metadata": {
    "ExecuteTime": {
     "end_time": "2023-10-20T21:52:08.498731Z",
     "start_time": "2023-10-20T21:52:08.494195Z"
    }
   },
   "outputs": [
    {
     "data": {
      "text/plain": [
       "((5635, 3), (5635, 11))"
      ]
     },
     "execution_count": 23,
     "metadata": {},
     "output_type": "execute_result"
    }
   ],
   "source": [
    "pred.shape, merged.shape, "
   ]
  },
  {
   "cell_type": "code",
   "execution_count": 30,
   "id": "06797152",
   "metadata": {
    "ExecuteTime": {
     "end_time": "2023-10-20T21:53:38.588803Z",
     "start_time": "2023-10-20T21:53:38.585478Z"
    }
   },
   "outputs": [],
   "source": [
    "corr_df = pd.DataFrame(corr.values(), columns= [\"epoch\", \"pearson\", \"pearson_p\", \"spearman\", \"spearman_p\"])"
   ]
  },
  {
   "cell_type": "code",
   "execution_count": 34,
   "id": "cd22ea54",
   "metadata": {
    "ExecuteTime": {
     "end_time": "2023-10-20T21:54:33.742495Z",
     "start_time": "2023-10-20T21:54:33.739678Z"
    }
   },
   "outputs": [],
   "source": [
    "corr_df['epoch'] = corr_df['epoch'].map(int)"
   ]
  },
  {
   "cell_type": "code",
   "execution_count": 36,
   "id": "5120b086",
   "metadata": {
    "ExecuteTime": {
     "end_time": "2023-10-20T21:54:44.039814Z",
     "start_time": "2023-10-20T21:54:44.031220Z"
    }
   },
   "outputs": [
    {
     "data": {
      "text/html": [
       "<div>\n",
       "<style scoped>\n",
       "    .dataframe tbody tr th:only-of-type {\n",
       "        vertical-align: middle;\n",
       "    }\n",
       "\n",
       "    .dataframe tbody tr th {\n",
       "        vertical-align: top;\n",
       "    }\n",
       "\n",
       "    .dataframe thead th {\n",
       "        text-align: right;\n",
       "    }\n",
       "</style>\n",
       "<table border=\"1\" class=\"dataframe\">\n",
       "  <thead>\n",
       "    <tr style=\"text-align: right;\">\n",
       "      <th></th>\n",
       "      <th>epoch</th>\n",
       "      <th>pearson</th>\n",
       "      <th>pearson_p</th>\n",
       "      <th>spearman</th>\n",
       "      <th>spearman_p</th>\n",
       "    </tr>\n",
       "  </thead>\n",
       "  <tbody>\n",
       "    <tr>\n",
       "      <th>0</th>\n",
       "      <td>1</td>\n",
       "      <td>0.696712</td>\n",
       "      <td>0.0</td>\n",
       "      <td>0.713375</td>\n",
       "      <td>0.0</td>\n",
       "    </tr>\n",
       "    <tr>\n",
       "      <th>1</th>\n",
       "      <td>2</td>\n",
       "      <td>0.719950</td>\n",
       "      <td>0.0</td>\n",
       "      <td>0.720883</td>\n",
       "      <td>0.0</td>\n",
       "    </tr>\n",
       "    <tr>\n",
       "      <th>2</th>\n",
       "      <td>3</td>\n",
       "      <td>0.617214</td>\n",
       "      <td>0.0</td>\n",
       "      <td>0.718688</td>\n",
       "      <td>0.0</td>\n",
       "    </tr>\n",
       "    <tr>\n",
       "      <th>3</th>\n",
       "      <td>4</td>\n",
       "      <td>0.586187</td>\n",
       "      <td>0.0</td>\n",
       "      <td>0.646609</td>\n",
       "      <td>0.0</td>\n",
       "    </tr>\n",
       "    <tr>\n",
       "      <th>4</th>\n",
       "      <td>5</td>\n",
       "      <td>0.739815</td>\n",
       "      <td>0.0</td>\n",
       "      <td>0.746928</td>\n",
       "      <td>0.0</td>\n",
       "    </tr>\n",
       "    <tr>\n",
       "      <th>5</th>\n",
       "      <td>6</td>\n",
       "      <td>0.720529</td>\n",
       "      <td>0.0</td>\n",
       "      <td>0.763067</td>\n",
       "      <td>0.0</td>\n",
       "    </tr>\n",
       "    <tr>\n",
       "      <th>6</th>\n",
       "      <td>7</td>\n",
       "      <td>0.689927</td>\n",
       "      <td>0.0</td>\n",
       "      <td>0.761748</td>\n",
       "      <td>0.0</td>\n",
       "    </tr>\n",
       "    <tr>\n",
       "      <th>7</th>\n",
       "      <td>8</td>\n",
       "      <td>0.730165</td>\n",
       "      <td>0.0</td>\n",
       "      <td>0.771608</td>\n",
       "      <td>0.0</td>\n",
       "    </tr>\n",
       "    <tr>\n",
       "      <th>8</th>\n",
       "      <td>9</td>\n",
       "      <td>0.729675</td>\n",
       "      <td>0.0</td>\n",
       "      <td>0.771709</td>\n",
       "      <td>0.0</td>\n",
       "    </tr>\n",
       "    <tr>\n",
       "      <th>9</th>\n",
       "      <td>10</td>\n",
       "      <td>0.729893</td>\n",
       "      <td>0.0</td>\n",
       "      <td>0.771953</td>\n",
       "      <td>0.0</td>\n",
       "    </tr>\n",
       "  </tbody>\n",
       "</table>\n",
       "</div>"
      ],
      "text/plain": [
       "   epoch   pearson  pearson_p  spearman  spearman_p\n",
       "0      1  0.696712        0.0  0.713375         0.0\n",
       "1      2  0.719950        0.0  0.720883         0.0\n",
       "2      3  0.617214        0.0  0.718688         0.0\n",
       "3      4  0.586187        0.0  0.646609         0.0\n",
       "4      5  0.739815        0.0  0.746928         0.0\n",
       "5      6  0.720529        0.0  0.763067         0.0\n",
       "6      7  0.689927        0.0  0.761748         0.0\n",
       "7      8  0.730165        0.0  0.771608         0.0\n",
       "8      9  0.729675        0.0  0.771709         0.0\n",
       "9     10  0.729893        0.0  0.771953         0.0"
      ]
     },
     "execution_count": 36,
     "metadata": {},
     "output_type": "execute_result"
    }
   ],
   "source": [
    "corr_df"
   ]
  },
  {
   "cell_type": "code",
   "execution_count": 39,
   "id": "510e89ac",
   "metadata": {
    "ExecuteTime": {
     "end_time": "2023-10-20T23:19:41.470517Z",
     "start_time": "2023-10-20T23:19:40.742585Z"
    }
   },
   "outputs": [
    {
     "data": {
      "text/plain": [
       "<matplotlib.legend.Legend at 0x7f00bfddc5c0>"
      ]
     },
     "execution_count": 39,
     "metadata": {},
     "output_type": "execute_result"
    },
    {
     "data": {
      "image/png": "[encoded data removed]",
      "text/plain": [
       "<Figure size 360x360 with 1 Axes>"
      ]
     },
     "metadata": {
      "needs_background": "light"
     },
     "output_type": "display_data"
    }
   ],
   "source": [
    "fig, ax = plt.subplots(figsize=(5,5))\n",
    "sns.lineplot(x=\"epoch\", y=\"pearson\", data=corr_df, label=\"pearson\")\n",
    "sns.lineplot(x=\"epoch\", y=\"spearman\", data=corr_df, label=\"spearman\", ls=\"--\")\n",
    "ax.set(ylabel = \"correlation\")\n",
    "ax.legend()"
   ]
  },
  {
   "cell_type": "markdown",
   "id": "d22e13a8",
   "metadata": {},
   "source": [
    "# interpretations\n",
    "Base line:\n",
    "- WTC11 looks the best. Pearson's R= 0.32, Spearman = 0.32\n",
    "\n",
    "- HepG2 is the worst. Pearson's R = 0.12, Spearman (robust) = 0.15\n",
    "\n",
    "- k562 is intermediate. Pearson's R = 0.18, Spearman = 0.17\n",
    "\n",
    "retraining: \n",
    "\n",
    "- improvements are greatest for WTC11, not for Hepg2, but dependent variable and training task is trying to predict WTC11, so I think the retraining is working.\n",
    "- need to figure out:\n",
    "    - how to optimize for other cell types. More output nodes. \n",
    "    - increase the number of training examples/training size of the dataset. \n",
    "    "
   ]
  }
 ],
 "metadata": {
  "kernelspec": {
   "display_name": "torch",
   "language": "python",
   "name": "torch"
  },
  "language_info": {
   "codemirror_mode": {
    "name": "ipython",
    "version": 3
   },
   "file_extension": ".py",
   "mimetype": "text/x-python",
   "name": "python",
   "nbconvert_exporter": "python",
   "pygments_lexer": "ipython3",
   "version": "3.6.13"
  },
  "toc": {
   "base_numbering": 1,
   "nav_menu": {},
   "number_sections": true,
   "sideBar": true,
   "skip_h1_title": false,
   "title_cell": "Table of Contents",
   "title_sidebar": "Contents",
   "toc_cell": false,
   "toc_position": {},
   "toc_section_display": true,
   "toc_window_display": false
  },
  "varInspector": {
   "cols": {
    "lenName": 16,
    "lenType": 16,
    "lenVar": 40
   },
   "kernels_config": {
    "python": {
     "delete_cmd_postfix": "",
     "delete_cmd_prefix": "del ",
     "library": "var_list.py",
     "varRefreshCmd": "print(var_dic_list())"
    },
    "r": {
     "delete_cmd_postfix": ") ",
     "delete_cmd_prefix": "rm(",
     "library": "var_list.r",
     "varRefreshCmd": "cat(var_dic_list()) "
    }
   },
   "types_to_exclude": [
    "module",
    "function",
    "builtin_function_or_method",
    "instance",
    "_Feature"
   ],
   "window_display": false
  }
 },
 "nbformat": 4,
 "nbformat_minor": 5
}
