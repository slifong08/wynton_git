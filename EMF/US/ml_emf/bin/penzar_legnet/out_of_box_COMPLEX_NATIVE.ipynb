{
 "cells": [
  {
   "cell_type": "code",
   "execution_count": 2,
   "id": "4c78e7f2",
   "metadata": {
    "ExecuteTime": {
     "end_time": "2023-10-18T17:41:50.161369Z",
     "start_time": "2023-10-18T17:41:50.158733Z"
    }
   },
   "outputs": [],
   "source": [
    "import os, sys\n",
    "import pandas as pd\n",
    "\n",
    "from scipy import stats\n",
    "import matplotlib.pyplot as plt\n",
    "import seaborn as sns"
   ]
  },
  {
   "cell_type": "markdown",
   "id": "89b01ca3",
   "metadata": {},
   "source": [
    "# path "
   ]
  },
  {
   "cell_type": "code",
   "execution_count": 3,
   "id": "1bdb3980",
   "metadata": {
    "ExecuteTime": {
     "end_time": "2023-10-18T17:41:57.530050Z",
     "start_time": "2023-10-18T17:41:57.527005Z"
    }
   },
   "outputs": [],
   "source": [
    "PATH = \"/wynton/home/ahituv/fongsl/EMF/US/ml_emf/\"\n",
    "BIN_PATH = os.path.join(PATH, \"bin\")\n",
    "DATA_PATH = os.path.join(PATH, \"data\", \"legnet\")\n",
    "OUTPUT_PATH = os.path.join(DATA_PATH, \"output\")\n",
    "\n",
    "LEGNET_SH = os.path.join(BIN_PATH, \"legnet_inference.sh\")"
   ]
  },
  {
   "cell_type": "markdown",
   "id": "3559fcdc",
   "metadata": {},
   "source": [
    "## test files \n",
    "- 3929 sequences, 80 bp, from GPRA"
   ]
  },
  {
   "cell_type": "code",
   "execution_count": 4,
   "id": "a39907f9",
   "metadata": {
    "ExecuteTime": {
     "end_time": "2023-10-18T17:41:58.574669Z",
     "start_time": "2023-10-18T17:41:58.571901Z"
    }
   },
   "outputs": [],
   "source": [
    "COMPLEX_NATIVE = os.path.join(DATA_PATH, \"complex_Native.txt\")  # original test set\n",
    "COMPLEX_NATIVE_NOBIN = os.path.join(DATA_PATH, \"complex_Native_nobin.txt\")  # no bin activity column\n",
    "COMPLEX_NATIVE_NOBIN_270 = os.path.join(DATA_PATH, \"complex_Native_nobin.270.txt\")  # no bin activity column +  include another 190 bp from promoterscaffold, plasmid sequence"
   ]
  },
  {
   "cell_type": "code",
   "execution_count": 7,
   "id": "c3738578",
   "metadata": {
    "ExecuteTime": {
     "end_time": "2023-10-18T17:42:16.665873Z",
     "start_time": "2023-10-18T17:42:16.661071Z"
    }
   },
   "outputs": [],
   "source": [
    "def launchLegNet(input_file, seqsize):\n",
    "    \"\"\" predict 18 bins using input sequence, write to output file, specify sequence size\"\"\"\n",
    "\n",
    "    PATH = \"/wynton/home/ahituv/fongsl/EMF/US/ml_emf/bin/\"\n",
    "    LEGNET_SH = os.path.join(PATH, \"legnet_inference.sh\")\n",
    "\n",
    "    OUTPUT_PATH = \"/wynton/home/ahituv/fongsl/EMF/US/ml_emf/data/legnet/output/\"\n",
    "\n",
    "    # str split to make output file a copy of the input file.\n",
    "    infile = os.path.split(input_file)[1]\n",
    "    outfile = os.path.join(OUTPUT_PATH, \"inference.\" + \".\".join(infile.split(\".\")[:-1]) + \".tsv\")\n",
    "\n",
    "    cmd = \" \".join([\"qsub -q gpu.q\",\n",
    "                   LEGNET_SH,\n",
    "                   input_file,\n",
    "                   outfile,\n",
    "                   str(seqsize)\n",
    "                   ])\n",
    "    print(cmd)\n",
    "    os.system(cmd)\n",
    "    if os.path.exists(outfile) is False:\n",
    "        print(\"running...\")\n",
    "        \n",
    "    else:\n",
    "        print(\"skipping...\", outfile)"
   ]
  },
  {
   "cell_type": "markdown",
   "id": "f9eb2443",
   "metadata": {},
   "source": [
    "# test out of box"
   ]
  },
  {
   "cell_type": "code",
   "execution_count": 12,
   "id": "dd662387",
   "metadata": {
    "ExecuteTime": {
     "end_time": "2023-10-18T18:06:11.248759Z",
     "start_time": "2023-10-18T18:06:11.135316Z"
    }
   },
   "outputs": [
    {
     "name": "stdout",
     "output_type": "stream",
     "text": [
      "qsub -q gpu.q /wynton/home/ahituv/fongsl/EMF/US/ml_emf/bin/legnet_inference.sh /wynton/home/ahituv/fongsl/EMF/US/ml_emf/data/legnet/complex_Native.txt /wynton/home/ahituv/fongsl/EMF/US/ml_emf/data/legnet/output/inference.complex_Native.tsv 110\n",
      "skipping... /wynton/home/ahituv/fongsl/EMF/US/ml_emf/data/legnet/output/inference.complex_Native.tsv\n"
     ]
    }
   ],
   "source": [
    "# out-of-box test set\n",
    "launchLegNet(COMPLEX_NATIVE, 110)"
   ]
  },
  {
   "cell_type": "code",
   "execution_count": 6,
   "id": "5a30f6c8",
   "metadata": {
    "ExecuteTime": {
     "end_time": "2023-10-17T19:42:25.710023Z",
     "start_time": "2023-10-17T19:42:24.616007Z"
    }
   },
   "outputs": [
    {
     "name": "stdout",
     "output_type": "stream",
     "text": [
      "qsub -q gpu.q /wynton/home/ahituv/fongsl/EMF/US/ml_emf/bin/legnet_model_300.sh /wynton/home/ahituv/fongsl/EMF/US/ml_emf/data/legnet/complex_Native_nobin.txt /wynton/home/ahituv/fongsl/EMF/US/ml_emf/data/legnet/output/inference.complex_Native_nobin.tsv 150\n",
      "running...\n"
     ]
    }
   ],
   "source": [
    "# test set w/o bin activities\n",
    "launchLegNet(COMPLEX_NATIVE_NOBIN, 150)"
   ]
  },
  {
   "cell_type": "code",
   "execution_count": 25,
   "id": "390a23b7",
   "metadata": {
    "ExecuteTime": {
     "end_time": "2023-10-17T19:48:46.022968Z",
     "start_time": "2023-10-17T19:48:45.879893Z"
    }
   },
   "outputs": [
    {
     "name": "stdout",
     "output_type": "stream",
     "text": [
      "running...\n"
     ]
    }
   ],
   "source": [
    "# test set with longer sequence? \n",
    "\n",
    "launchLegNet(COMPLEX_NATIVE_NOBIN_270, 270)"
   ]
  },
  {
   "cell_type": "markdown",
   "id": "445256be",
   "metadata": {},
   "source": [
    "# compare results "
   ]
  },
  {
   "cell_type": "code",
   "execution_count": 27,
   "id": "a04b2a1a",
   "metadata": {
    "ExecuteTime": {
     "end_time": "2023-10-17T19:52:02.524181Z",
     "start_time": "2023-10-17T19:52:02.436716Z"
    }
   },
   "outputs": [
    {
     "name": "stdout",
     "output_type": "stream",
     "text": [
      "complex_Native.inference.nobin.200bp.txt\n",
      "complex_Native.inference.nobin.txt\n",
      "complex_Native.inference.txt\n",
      "inference.complex_Native_nobin.270.tsv\n",
      "inference.complex_Native_nobin.tsv\n",
      "inference.complex_Native.tsv\n",
      "US.seqs.inference.txt\n"
     ]
    }
   ],
   "source": [
    "%%bash\n",
    "ls /wynton/home/ahituv/fongsl/EMF/US/ml_emf/data/legnet/output"
   ]
  },
  {
   "cell_type": "code",
   "execution_count": 28,
   "id": "6835090a",
   "metadata": {
    "ExecuteTime": {
     "end_time": "2023-10-17T19:52:10.833796Z",
     "start_time": "2023-10-17T19:52:10.830910Z"
    }
   },
   "outputs": [],
   "source": [
    "out1 = os.path.join(OUTPUT_PATH, \"inference.complex_Native.tsv\")\n",
    "out2 = os.path.join(OUTPUT_PATH, \"inference.complex_Native_nobin.tsv\")\n",
    "out3 = os.path.join(OUTPUT_PATH, \"inference.complex_Native_nobin.270.tsv\")"
   ]
  },
  {
   "cell_type": "code",
   "execution_count": 29,
   "id": "d1d6b954",
   "metadata": {
    "ExecuteTime": {
     "end_time": "2023-10-17T19:52:11.318880Z",
     "start_time": "2023-10-17T19:52:11.280648Z"
    }
   },
   "outputs": [],
   "source": [
    "df1 = pd.read_csv(out1, sep='\\t', header=None, names=[\"seq\", \"pred1\"])\n",
    "df2 = pd.read_csv(out2, sep='\\t', header=None, names=[\"seq\", \"pred2\"])\n",
    "df3 = pd.read_csv(out3, sep='\\t', header=None, names=[\"seq\", \"pred3\"])"
   ]
  },
  {
   "cell_type": "code",
   "execution_count": 30,
   "id": "a2404d77",
   "metadata": {
    "ExecuteTime": {
     "end_time": "2023-10-17T19:52:14.425860Z",
     "start_time": "2023-10-17T19:52:12.068101Z"
    }
   },
   "outputs": [
    {
     "data": {
      "text/html": [
       "<div>\n",
       "<style scoped>\n",
       "    .dataframe tbody tr th:only-of-type {\n",
       "        vertical-align: middle;\n",
       "    }\n",
       "\n",
       "    .dataframe tbody tr th {\n",
       "        vertical-align: top;\n",
       "    }\n",
       "\n",
       "    .dataframe thead th {\n",
       "        text-align: right;\n",
       "    }\n",
       "</style>\n",
       "<table border=\"1\" class=\"dataframe\">\n",
       "  <thead>\n",
       "    <tr style=\"text-align: right;\">\n",
       "      <th></th>\n",
       "      <th>seq</th>\n",
       "      <th>pred1</th>\n",
       "      <th>pred2</th>\n",
       "      <th>pred3</th>\n",
       "    </tr>\n",
       "  </thead>\n",
       "  <tbody>\n",
       "    <tr>\n",
       "      <th>0</th>\n",
       "      <td>TGCATTTTTTTCACATCAAAAAAAAAAAGAAAAACAAAGAAAAAGG...</td>\n",
       "      <td>14.675456</td>\n",
       "      <td>14.883397</td>\n",
       "      <td>13.896811</td>\n",
       "    </tr>\n",
       "    <tr>\n",
       "      <th>1</th>\n",
       "      <td>TGCATTTTTTTCACATCAAAAAAAAAAAGAAAAAGAAACAAAAAGG...</td>\n",
       "      <td>14.855910</td>\n",
       "      <td>15.061954</td>\n",
       "      <td>13.804238</td>\n",
       "    </tr>\n",
       "    <tr>\n",
       "      <th>2</th>\n",
       "      <td>TGCATTTTTTTCACATCAAAAAAAAAAAGAAAAAGAAAGAAAAAGA...</td>\n",
       "      <td>14.958251</td>\n",
       "      <td>15.171226</td>\n",
       "      <td>13.844028</td>\n",
       "    </tr>\n",
       "    <tr>\n",
       "      <th>3</th>\n",
       "      <td>TGCATTTTTTTCACATCAAAAAAAAAAAGAAAAAGAAAGAAAAAGG...</td>\n",
       "      <td>12.072526</td>\n",
       "      <td>12.165880</td>\n",
       "      <td>12.038105</td>\n",
       "    </tr>\n",
       "    <tr>\n",
       "      <th>4</th>\n",
       "      <td>TGCATTTTTTTCACATCAAAAAAAAAAAGAAAAAGAAAGAAAAAGG...</td>\n",
       "      <td>15.284714</td>\n",
       "      <td>15.501473</td>\n",
       "      <td>13.764419</td>\n",
       "    </tr>\n",
       "    <tr>\n",
       "      <th>...</th>\n",
       "      <td>...</td>\n",
       "      <td>...</td>\n",
       "      <td>...</td>\n",
       "      <td>...</td>\n",
       "    </tr>\n",
       "    <tr>\n",
       "      <th>3924</th>\n",
       "      <td>TGCATTTTTTTCACATCTTTTTTGATGCGCTATCATCCATTATTCT...</td>\n",
       "      <td>6.664516</td>\n",
       "      <td>6.817938</td>\n",
       "      <td>5.017213</td>\n",
       "    </tr>\n",
       "    <tr>\n",
       "      <th>3925</th>\n",
       "      <td>TGCATTTTTTTCACATCTTTTTTGATGCGCTATCATCCATTATTCT...</td>\n",
       "      <td>5.736858</td>\n",
       "      <td>5.900172</td>\n",
       "      <td>4.682234</td>\n",
       "    </tr>\n",
       "    <tr>\n",
       "      <th>3926</th>\n",
       "      <td>TGCATTTTTTTCACATCTTTTTTGATGCGCTATCATCCATTATTCT...</td>\n",
       "      <td>6.379897</td>\n",
       "      <td>6.527392</td>\n",
       "      <td>4.868117</td>\n",
       "    </tr>\n",
       "    <tr>\n",
       "      <th>3927</th>\n",
       "      <td>TGCATTTTTTTCACATCTTTTTTGATGCGCTATCATCCCTTATTCT...</td>\n",
       "      <td>6.765811</td>\n",
       "      <td>6.887493</td>\n",
       "      <td>5.031179</td>\n",
       "    </tr>\n",
       "    <tr>\n",
       "      <th>3928</th>\n",
       "      <td>TGCATTTTTTTCACATCTTTTTTGATGCGCTATCATCCGTTATTCT...</td>\n",
       "      <td>7.675462</td>\n",
       "      <td>7.736826</td>\n",
       "      <td>5.533506</td>\n",
       "    </tr>\n",
       "  </tbody>\n",
       "</table>\n",
       "<p>3929 rows × 4 columns</p>\n",
       "</div>"
      ],
      "text/plain": [
       "                                                    seq      pred1      pred2  \\\n",
       "0     TGCATTTTTTTCACATCAAAAAAAAAAAGAAAAACAAAGAAAAAGG...  14.675456  14.883397   \n",
       "1     TGCATTTTTTTCACATCAAAAAAAAAAAGAAAAAGAAACAAAAAGG...  14.855910  15.061954   \n",
       "2     TGCATTTTTTTCACATCAAAAAAAAAAAGAAAAAGAAAGAAAAAGA...  14.958251  15.171226   \n",
       "3     TGCATTTTTTTCACATCAAAAAAAAAAAGAAAAAGAAAGAAAAAGG...  12.072526  12.165880   \n",
       "4     TGCATTTTTTTCACATCAAAAAAAAAAAGAAAAAGAAAGAAAAAGG...  15.284714  15.501473   \n",
       "...                                                 ...        ...        ...   \n",
       "3924  TGCATTTTTTTCACATCTTTTTTGATGCGCTATCATCCATTATTCT...   6.664516   6.817938   \n",
       "3925  TGCATTTTTTTCACATCTTTTTTGATGCGCTATCATCCATTATTCT...   5.736858   5.900172   \n",
       "3926  TGCATTTTTTTCACATCTTTTTTGATGCGCTATCATCCATTATTCT...   6.379897   6.527392   \n",
       "3927  TGCATTTTTTTCACATCTTTTTTGATGCGCTATCATCCCTTATTCT...   6.765811   6.887493   \n",
       "3928  TGCATTTTTTTCACATCTTTTTTGATGCGCTATCATCCGTTATTCT...   7.675462   7.736826   \n",
       "\n",
       "          pred3  \n",
       "0     13.896811  \n",
       "1     13.804238  \n",
       "2     13.844028  \n",
       "3     12.038105  \n",
       "4     13.764419  \n",
       "...         ...  \n",
       "3924   5.017213  \n",
       "3925   4.682234  \n",
       "3926   4.868117  \n",
       "3927   5.031179  \n",
       "3928   5.533506  \n",
       "\n",
       "[3929 rows x 4 columns]"
      ]
     },
     "execution_count": 30,
     "metadata": {},
     "output_type": "execute_result"
    }
   ],
   "source": [
    "df1 = pd.merge(df1, df2)\n",
    "df1 = pd.merge(df1, df3)\n",
    "df1"
   ]
  },
  {
   "cell_type": "markdown",
   "id": "9d2a7ca8",
   "metadata": {},
   "source": [
    "# pearson\n",
    "- pred 1 v. pred 2 = identical data\n",
    "- pred 1 v. pred 3 = similar data, pred3 sequence size is larger. "
   ]
  },
  {
   "cell_type": "code",
   "execution_count": 31,
   "id": "502dddd8",
   "metadata": {
    "ExecuteTime": {
     "end_time": "2023-10-17T19:52:16.669014Z",
     "start_time": "2023-10-17T19:52:16.664582Z"
    }
   },
   "outputs": [
    {
     "data": {
      "text/plain": [
       "(0.9984217246143716, 0.0)"
      ]
     },
     "execution_count": 31,
     "metadata": {},
     "output_type": "execute_result"
    }
   ],
   "source": [
    "stats.pearsonr(df1[\"pred1\"], df1[\"pred2\"]) # identical data, nearly identical predictions"
   ]
  },
  {
   "cell_type": "code",
   "execution_count": 32,
   "id": "9d88d77c",
   "metadata": {
    "ExecuteTime": {
     "end_time": "2023-10-17T19:52:19.818677Z",
     "start_time": "2023-10-17T19:52:19.814559Z"
    }
   },
   "outputs": [
    {
     "data": {
      "text/plain": [
       "(0.904194538887592, 0.0)"
      ]
     },
     "execution_count": 32,
     "metadata": {},
     "output_type": "execute_result"
    }
   ],
   "source": [
    "stats.pearsonr(df1[\"pred1\"], df1[\"pred3\"])  # increasing window size to 270 reduces prediction to 0.904"
   ]
  },
  {
   "cell_type": "markdown",
   "id": "eaeec32b",
   "metadata": {},
   "source": [
    "# spearman"
   ]
  },
  {
   "cell_type": "code",
   "execution_count": 33,
   "id": "91a51f66",
   "metadata": {
    "ExecuteTime": {
     "end_time": "2023-10-17T19:52:24.252356Z",
     "start_time": "2023-10-17T19:52:24.246418Z"
    }
   },
   "outputs": [
    {
     "data": {
      "text/plain": [
       "SpearmanrResult(correlation=0.9988139517636504, pvalue=0.0)"
      ]
     },
     "execution_count": 33,
     "metadata": {},
     "output_type": "execute_result"
    }
   ],
   "source": [
    "stats.spearmanr(df1[\"pred1\"], df1[\"pred2\"])   # identical data"
   ]
  },
  {
   "cell_type": "code",
   "execution_count": 34,
   "id": "72f88c0d",
   "metadata": {
    "ExecuteTime": {
     "end_time": "2023-10-17T19:52:27.266443Z",
     "start_time": "2023-10-17T19:52:27.260894Z"
    }
   },
   "outputs": [
    {
     "data": {
      "text/plain": [
       "SpearmanrResult(correlation=0.9807884141233121, pvalue=0.0)"
      ]
     },
     "execution_count": 34,
     "metadata": {},
     "output_type": "execute_result"
    }
   ],
   "source": [
    "stats.spearmanr(df1[\"pred1\"], df1[\"pred3\"])  # increasing window size to 200"
   ]
  },
  {
   "cell_type": "code",
   "execution_count": null,
   "id": "f49af5c5",
   "metadata": {},
   "outputs": [],
   "source": []
  }
 ],
 "metadata": {
  "kernelspec": {
   "display_name": "torch",
   "language": "python",
   "name": "torch"
  },
  "language_info": {
   "codemirror_mode": {
    "name": "ipython",
    "version": 3
   },
   "file_extension": ".py",
   "mimetype": "text/x-python",
   "name": "python",
   "nbconvert_exporter": "python",
   "pygments_lexer": "ipython3",
   "version": "3.6.13"
  },
  "toc": {
   "base_numbering": 1,
   "nav_menu": {},
   "number_sections": true,
   "sideBar": true,
   "skip_h1_title": false,
   "title_cell": "Table of Contents",
   "title_sidebar": "Contents",
   "toc_cell": false,
   "toc_position": {},
   "toc_section_display": true,
   "toc_window_display": false
  },
  "varInspector": {
   "cols": {
    "lenName": 16,
    "lenType": 16,
    "lenVar": 40
   },
   "kernels_config": {
    "python": {
     "delete_cmd_postfix": "",
     "delete_cmd_prefix": "del ",
     "library": "var_list.py",
     "varRefreshCmd": "print(var_dic_list())"
    },
    "r": {
     "delete_cmd_postfix": ") ",
     "delete_cmd_prefix": "rm(",
     "library": "var_list.r",
     "varRefreshCmd": "cat(var_dic_list()) "
    }
   },
   "types_to_exclude": [
    "module",
    "function",
    "builtin_function_or_method",
    "instance",
    "_Feature"
   ],
   "window_display": false
  }
 },
 "nbformat": 4,
 "nbformat_minor": 5
}
