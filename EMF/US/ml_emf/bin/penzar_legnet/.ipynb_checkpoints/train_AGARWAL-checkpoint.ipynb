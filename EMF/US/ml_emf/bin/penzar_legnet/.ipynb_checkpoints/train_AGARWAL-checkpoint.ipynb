{
 "cells": [
  {
   "cell_type": "code",
   "execution_count": 1,
   "id": "d57d3ea2",
   "metadata": {
    "ExecuteTime": {
     "end_time": "2023-10-26T23:04:07.081245Z",
     "start_time": "2023-10-26T23:04:04.498527Z"
    }
   },
   "outputs": [],
   "source": [
    "import config_readwrite as crw\n",
    "import glob\n",
    "import json\n",
    "import matplotlib.pyplot as plt\n",
    "import numpy as np\n",
    "import os, sys\n",
    "import pandas as pd\n",
    "from scipy import stats\n",
    "import seaborn as sns"
   ]
  },
  {
   "cell_type": "markdown",
   "id": "4273ba76",
   "metadata": {},
   "source": [
    "# files"
   ]
  },
  {
   "cell_type": "code",
   "execution_count": 2,
   "id": "220d0724",
   "metadata": {
    "ExecuteTime": {
     "end_time": "2023-10-26T23:04:08.942444Z",
     "start_time": "2023-10-26T23:04:07.095853Z"
    }
   },
   "outputs": [],
   "source": [
    "cfn = os.path.join(os.path.dirname(os.getcwd()), \"config.ini\")\n",
    "config, cfn = crw.read(cfn)"
   ]
  },
  {
   "cell_type": "code",
   "execution_count": 3,
   "id": "76a2767d",
   "metadata": {
    "ExecuteTime": {
     "end_time": "2023-10-26T23:04:21.162769Z",
     "start_time": "2023-10-26T23:04:21.160045Z"
    }
   },
   "outputs": [],
   "source": [
    "# strategy : [add_layers (bool), freeze_layers (bool), unfreeze_layers (int)]\n",
    "strategies = {\"first_n_last\": [True, True, 0], \n",
    "             \"everything\":[True, False, 10],\n",
    "             \"unfreeze_1layer\":[True, True, 1] # TBD\n",
    "              #\"multioutput\":[]\n",
    "             }"
   ]
  },
  {
   "cell_type": "code",
   "execution_count": 5,
   "id": "18269491",
   "metadata": {
    "ExecuteTime": {
     "end_time": "2023-10-26T23:04:39.694021Z",
     "start_time": "2023-10-26T23:04:39.690586Z"
    }
   },
   "outputs": [],
   "source": [
    "CL = 'hepg2'\n",
    "SIZE = \"0.9\"\n",
    "EPOCHS = 10\n",
    "BATCHSIZE=10\n",
    "SEQ_SIZE = 200\n",
    "\n",
    "STRATEGY = \"unfreeze_1layer\"\n",
    "\n",
    "ADD_LAYERS, FREEZE, UNFREEZE_N = strategies[STRATEGY]\n",
    "\n",
    "\n",
    "section = f\"LegNet.agarwal.{STRATEGY}.EPOCHS.{EPOCHS}.BATCHSIZE.{BATCHSIZE}\"\n",
    "crw.check(config, section)\n",
    "\n",
    "config[section][\"SEQ_SIZE\"] = str(SEQ_SIZE)"
   ]
  },
  {
   "cell_type": "code",
   "execution_count": 6,
   "id": "98033972",
   "metadata": {
    "ExecuteTime": {
     "end_time": "2023-10-26T23:04:40.490650Z",
     "start_time": "2023-10-26T23:04:40.487005Z"
    }
   },
   "outputs": [],
   "source": [
    "\n",
    "PREFIX = \"AGARWAL.seqs\"\n",
    "section = \"agarwal_mpra\"\n",
    "\n",
    "TRUTH = config[section][\"MPRA_ACTIVITY\"] # US activity in HepG2\n",
    "\n",
    "TRAIN = config[section][f\"training.{CL}.{SIZE}\"] # training data\n",
    "TEST = config[section][f\"test.{CL}.{SIZE}\"] # training data\n",
    "\n",
    "PRED_PATH = \"/wynton/home/ahituv/fongsl/EMF/US/ml_emf/data/legnet/output/\"\n",
    "PRED = os.path.join(PRED_PATH, f\"inference.{PREFIX}.{STRATEGY}.EPOCHS.{EPOCHS}.BATCHSIZE.{BATCHSIZE}.{CL}.retrain.tsv\")  # legnet predictions\n",
    "INFO = config[section][\"MPRA_INFO\"]"
   ]
  },
  {
   "cell_type": "code",
   "execution_count": 7,
   "id": "4862876f",
   "metadata": {
    "ExecuteTime": {
     "end_time": "2023-10-26T23:04:41.955801Z",
     "start_time": "2023-10-26T23:04:41.951203Z"
    }
   },
   "outputs": [
    {
     "data": {
      "text/plain": [
       "(True, True, 1)"
      ]
     },
     "execution_count": 7,
     "metadata": {},
     "output_type": "execute_result"
    }
   ],
   "source": [
    "ADD_LAYERS, FREEZE, UNFREEZE_N"
   ]
  },
  {
   "cell_type": "code",
   "execution_count": 8,
   "id": "edd7e53d",
   "metadata": {
    "ExecuteTime": {
     "end_time": "2023-10-26T23:04:45.713872Z",
     "start_time": "2023-10-26T23:04:43.545345Z"
    }
   },
   "outputs": [],
   "source": [
    "section = f\"LegNet.agarwal.{STRATEGY}.EPOCHS.{EPOCHS}.BATCHSIZE.{BATCHSIZE}\"\n",
    "crw.check(config, section)\n",
    "# legnet \n",
    "infile = os.path.split(TRAIN)[1]\n",
    "model_dir = os.path.join(PRED_PATH, \"re\" + \".\".join(infile.split(\".\")[:-1]) + \".\" + STRATEGY\n",
    "        + \".epochs\" + EPOCHS \".batchsize-\" + BATCHSIZE \".unfreeze-\" + UNFREEZE)\n",
    "\n",
    "MODEL = os.path.join(model_dir, \"model_9.pth\")\n",
    "INFERENCE = os.path.join(PRED_PATH, f\"inference.test.{CL.upper()}.{SEQ_SIZE}.{STRATEGY}.EPOCHS.{EPOCHS}.BATCHSIZE.{BATCHSIZE}.tsv\")\n",
    "\n",
    "config[section][\"path\"] = PRED_PATH\n",
    "config[section][\"model_dir\"]=model_dir\n",
    "config[section][\"model_10\"]= MODEL\n",
    "config[section][\"inference\"]= INFERENCE\n",
    "config[section][\"epochs\"] = str(EPOCHS)\n",
    "config[section][\"batchsize\"] = str(BATCHSIZE)\n",
    "config[section][\"freeze_layers\"] = str(FREEZE)\n",
    "config[section][\"unfreeze_layers\"] = str(UNFREEZE_N)\n",
    "\n",
    "crw.write(config, cfn)"
   ]
  },
  {
   "cell_type": "markdown",
   "id": "5fffd475",
   "metadata": {},
   "source": [
    "# run legnet"
   ]
  },
  {
   "cell_type": "code",
   "execution_count": 13,
   "id": "53f2f9a5",
   "metadata": {
    "ExecuteTime": {
     "end_time": "2023-10-26T23:05:11.835886Z",
     "start_time": "2023-10-26T23:05:11.831043Z"
    }
   },
   "outputs": [],
   "source": [
    "def parseTrainArgs(train_input, seqsize, new_layers, freeze, model_dir, epochs=10, batchsize=100, unfreeze=0):\n",
    "\n",
    "    args = [\n",
    "        \"--train_valid_path\", train_input,\n",
    "        \"--foldify\",\n",
    "        \"--delimiter tab\",\n",
    "        \"--seed 42\",\n",
    "        \"--train_batch_size 1024\",\n",
    "        \"--train_workers 8\",\n",
    "        \"--valid_batch_size 4098\",\n",
    "        \"--valid_workers 8\",\n",
    "        \"--epoch_num\", str(epochs), \n",
    "        \"--batch_per_epoch\", str(batchsize),\n",
    "        \"--weights uniform\",\n",
    "        \"--seqsize\", str(seqsize),\n",
    "        \"--temp .TEMPDIR\",\n",
    "        \"--use_single_channel\",\n",
    "        \"--singleton_definition integer\",\n",
    "        \"--gpu 0\",\n",
    "        \"--model_dir\",model_dir, \n",
    "        \"--ks 7\",\n",
    "        \"--blocks 256 128 128 64 64 64 64\",\n",
    "        \"--resize_factor 4\",\n",
    "        \"--se_reduction 4\",\n",
    "        \"--shift 0.5\",\n",
    "        \"--scale 0.5\",\n",
    "        \"--loss kl\",\n",
    "        \"--final_ch 18\",\n",
    "        \"--optimizer adamw\",\n",
    "        \"--model /wynton/home/ahituv/fongsl/EMF/US/ml_emf/data/legnet/model_300.pth\"]\n",
    "    \n",
    "    print(unfreeze)\n",
    "    if new_layers is True:\n",
    "        args.append(\"--tl_layers\")\n",
    "    if freeze is True:\n",
    "        args.append(\"--freeze_layers\")\n",
    "    if unfreeze >0:\n",
    "        args.append(f\"--unfrozen_layers {unfreeze}\")\n",
    "\n",
    "    return \" \".join(args)"
   ]
  },
  {
   "cell_type": "code",
   "execution_count": 16,
   "id": "53a96cc8",
   "metadata": {
    "ExecuteTime": {
     "end_time": "2023-10-26T23:05:53.257952Z",
     "start_time": "2023-10-26T23:05:53.252538Z"
    }
   },
   "outputs": [],
   "source": [
    "def launchLegNetTrain(train_input, seqsize, new_layers, freeze, strategy, epochs, batchsize, unfreeze):\n",
    "    \"\"\" predict 18 bins using input sequence, write to output file, specify sequence size\"\"\"\n",
    "\n",
    "    PATH = \"/wynton/home/ahituv/fongsl/EMF/US/ml_emf/bin/\"\n",
    "    TRAIN_LEGNET_SH = os.path.join(PATH, \"train_transfer_lastlayer.sh\")\n",
    "\n",
    "    OUTPUT_PATH = \"/wynton/home/ahituv/fongsl/EMF/US/ml_emf/data/legnet/output/\"\n",
    "\n",
    "    # str split to make output file a copy of the input file.\n",
    "    infile = os.path.split(train_input)[1]\n",
    "    model_dir = os.path.join(\n",
    "        OUTPUT_PATH, \"re\" + \".\".join(infile.split(\".\")[:-1]) + \".\" + strategy\n",
    "        + \".epochs\" + epochs \".batchsize-\" + batchsize \".unfreeze-\" + unfreeze)\n",
    "\n",
    "    # legnet training arguments\n",
    "    args = parseTrainArgs(train_input, seqsize, new_layers, \n",
    "                          freeze, model_dir, epochs, batchsize, unfreeze)  # get arguments for LegNet\n",
    "   \n",
    "    cmd = \" \".join([\"qsub -q gpu.q\",\n",
    "                   TRAIN_LEGNET_SH               \n",
    "                    ])\n",
    "    \n",
    "    # add arguments to command\n",
    "    cmd = cmd + \" \" + args\n",
    "    \n",
    "    print(cmd)\n",
    "    \n",
    "    #os.system(cmd)\n",
    "    if os.path.exists(model_dir) is False:\n",
    "        os.system(cmd)\n",
    "    else:\n",
    "        print(\"trained already?\")\n",
    "\n",
    "    return model_dir"
   ]
  },
  {
   "cell_type": "markdown",
   "id": "da37e1a3",
   "metadata": {},
   "source": [
    "# Retrain?"
   ]
  },
  {
   "cell_type": "code",
   "execution_count": 17,
   "id": "8b270e19",
   "metadata": {
    "ExecuteTime": {
     "end_time": "2023-10-26T23:05:54.896605Z",
     "start_time": "2023-10-26T23:05:54.893349Z"
    }
   },
   "outputs": [
    {
     "data": {
      "text/plain": [
       "1"
      ]
     },
     "execution_count": 17,
     "metadata": {},
     "output_type": "execute_result"
    }
   ],
   "source": [
    "UNFREEZE_N"
   ]
  },
  {
   "cell_type": "code",
   "execution_count": 18,
   "id": "7ec0b2b3",
   "metadata": {
    "ExecuteTime": {
     "end_time": "2023-10-26T23:05:55.272461Z",
     "start_time": "2023-10-26T23:05:55.115621Z"
    }
   },
   "outputs": [
    {
     "name": "stdout",
     "output_type": "stream",
     "text": [
      "2\n",
      "qsub -q gpu.q /wynton/home/ahituv/fongsl/EMF/US/ml_emf/bin/train_transfer_lastlayer.sh --train_valid_path /wynton/home/ahituv/fongsl/EMF/US/data/training.HepG2.0.9.txt --foldify --delimiter tab --seed 42 --train_batch_size 1024 --train_workers 8 --valid_batch_size 4098 --valid_workers 8 --epoch_num 10 --batch_per_epoch 10 --weights uniform --seqsize 200 --temp .TEMPDIR --use_single_channel --singleton_definition integer --gpu 0 --model_dir /wynton/home/ahituv/fongsl/EMF/US/ml_emf/data/legnet/output/retraining.HepG2.0.9.unfreeze_1layer --ks 7 --blocks 256 128 128 64 64 64 64 --resize_factor 4 --se_reduction 4 --shift 0.5 --scale 0.5 --loss kl --final_ch 18 --optimizer adamw --model /wynton/home/ahituv/fongsl/EMF/US/ml_emf/data/legnet/model_300.pth --tl_layers --freeze_layers --unfrozen_layers 2\n"
     ]
    }
   ],
   "source": [
    "model_dir = launchLegNetTrain(TRAIN, SEQ_SIZE, ADD_LAYERS, FREEZE, STRATEGY, EPOCHS, BATCHSIZE, 2)"
   ]
  },
  {
   "cell_type": "markdown",
   "id": "dfcb66ef",
   "metadata": {},
   "source": [
    "# test"
   ]
  },
  {
   "cell_type": "code",
   "execution_count": null,
   "id": "b95c7d04",
   "metadata": {
    "ExecuteTime": {
     "end_time": "2023-10-26T22:24:33.840166Z",
     "start_time": "2023-10-26T22:24:33.836491Z"
    }
   },
   "outputs": [],
   "source": [
    "def parseTestArgs(test_input, test_output, seqsize, model, new_layers):\n",
    "    args = [\n",
    "        \"--target\",  test_input,\n",
    "        \"--output\", test_output,\n",
    "        \"--seed 42\",\n",
    "        \"--valid_batch_size 124\",\n",
    "        \"--valid_workers 8\",\n",
    "        \"--seqsize\", str(seqsize),\n",
    "        \"--temp .TEMPDIR\",\n",
    "        \"--use_single_channel\",\n",
    "        \"--singleton_definition integer\",\n",
    "        \"--gpu 0\", \"--ks 7\",\n",
    "        \"--blocks 256 128 128 64 64 64 64\",\n",
    "        \" --resize_factor 4\",\n",
    "        \"--se_reduction 4\",\n",
    "        \"--final_ch 18\",\n",
    "        \"--delimiter tab\",\n",
    "        \"--output_format tsv\",\n",
    "        \"--model\",  model\n",
    "    ]\n",
    "    if new_layers is True:\n",
    "        args.append(\"--tl_layers\")\n",
    "    return \" \".join(args)"
   ]
  },
  {
   "cell_type": "code",
   "execution_count": null,
   "id": "8b862538",
   "metadata": {
    "ExecuteTime": {
     "end_time": "2023-10-26T21:53:35.416340Z",
     "start_time": "2023-10-26T21:53:35.410990Z"
    }
   },
   "outputs": [],
   "source": [
    "def launchLegNetInference(test_input, seqsize, model, cl, strategy, add_layers):\n",
    "    \"\"\" predict 18 bins using input sequence, write to output file, specify sequence size\"\"\"\n",
    "\n",
    "    PATH = \"/wynton/home/ahituv/fongsl/EMF/US/ml_emf/bin/\"\n",
    "    LEGNET_SH = os.path.join(PATH, \"legnet_inference.sh\")\n",
    "\n",
    "    OUTPUT_PATH = \"/wynton/home/ahituv/fongsl/EMF/US/ml_emf/data/legnet/output/\"\n",
    "\n",
    "    # str split to make output file a copy of the input file.\n",
    "    infile = os.path.split(test_input)[1]\n",
    "    test_output = os.path.join(OUTPUT_PATH, f\"inference.test.{cl.upper()}.{seqsize}.{strategy}.tsv\")\n",
    "\n",
    "    cmd = \" \".join([\"qsub -q gpu.q\",\n",
    "                   LEGNET_SH\n",
    "                   ])\n",
    "    args = parseTestArgs(test_input, test_output, seqsize, model, add_layers)\n",
    "    \n",
    "    \n",
    "    cmd = cmd + \" \" + args\n",
    "    \n",
    "    print(cmd)\n",
    "    #os.system(cmd)\n",
    "    if os.path.exists(test_output) is False:\n",
    "        print(\"running...\")\n",
    "        os.system(cmd)\n",
    "    else:\n",
    "        print(\"skipping...\", test_output)"
   ]
  },
  {
   "cell_type": "markdown",
   "id": "ea4b67a9",
   "metadata": {},
   "source": [
    "## Inference "
   ]
  },
  {
   "cell_type": "code",
   "execution_count": null,
   "id": "81fc56d7",
   "metadata": {
    "ExecuteTime": {
     "end_time": "2023-10-26T22:13:38.158288Z",
     "start_time": "2023-10-26T22:13:38.045876Z"
    }
   },
   "outputs": [],
   "source": [
    "launchLegNetInference(TEST, SEQ_SIZE, MODEL, CL, STRATEGY, ADD_LAYERS)"
   ]
  },
  {
   "cell_type": "markdown",
   "id": "71ce94d6",
   "metadata": {},
   "source": [
    "## plot training scores"
   ]
  },
  {
   "cell_type": "code",
   "execution_count": null,
   "id": "c297da88",
   "metadata": {
    "ExecuteTime": {
     "end_time": "2023-10-26T22:18:11.082008Z",
     "start_time": "2023-10-26T22:18:11.048521Z"
    }
   },
   "outputs": [],
   "source": [
    "scores = glob.glob(os.path.join(model_dir, \"scores*\"))\n",
    "score_dict={}\n",
    "for score in scores:\n",
    "    with open(score, \"r\") as reader:\n",
    "        line=json.load(reader)\n",
    "        score_cols = list(line)\n",
    "        pearson = line[list(line)[0]]\n",
    "        mse = line[list(line)[1]]\n",
    "        spearman = line[list(line)[2]]\n",
    "        score_dict[os.path.split(score)[1]] = [pearson, mse, spearman, os.path.split(score)[1]]\n",
    "score_cols.append(\"iter\")  # add iter number column\n",
    "scoredf = pd.DataFrame(score_dict.values())  # name dataframe\n",
    "scoredf.columns = score_cols  # plot names\n",
    "\n",
    "scoredf.head()"
   ]
  },
  {
   "cell_type": "code",
   "execution_count": null,
   "id": "63a3598a",
   "metadata": {
    "ExecuteTime": {
     "end_time": "2023-10-26T22:18:12.312621Z",
     "start_time": "2023-10-26T22:18:11.490584Z"
    }
   },
   "outputs": [],
   "source": [
    "fig, ax = plt.subplots(figsize =(4,4))\n",
    "x = scoredf.index\n",
    "y = 'train_pearson'\n",
    "sns.lineplot(x=x, y=y, data= scoredf, label=y)\n",
    "\n",
    "y = 'train_spearman'\n",
    "sns.lineplot(x=x, y=y, data= scoredf, label=y)\n",
    "ax.set(xlabel = 'epoch', ylabel=\"corr\", title=STRATEGY + \"-\" + CL)\n",
    "\n",
    "out =os.path.join()"
   ]
  }
 ],
 "metadata": {
  "kernelspec": {
   "display_name": "torch",
   "language": "python",
   "name": "torch"
  },
  "language_info": {
   "codemirror_mode": {
    "name": "ipython",
    "version": 3
   },
   "file_extension": ".py",
   "mimetype": "text/x-python",
   "name": "python",
   "nbconvert_exporter": "python",
   "pygments_lexer": "ipython3",
   "version": "3.6.13"
  },
  "toc": {
   "base_numbering": 1,
   "nav_menu": {},
   "number_sections": true,
   "sideBar": true,
   "skip_h1_title": false,
   "title_cell": "Table of Contents",
   "title_sidebar": "Contents",
   "toc_cell": false,
   "toc_position": {},
   "toc_section_display": true,
   "toc_window_display": false
  },
  "varInspector": {
   "cols": {
    "lenName": 16,
    "lenType": 16,
    "lenVar": 40
   },
   "kernels_config": {
    "python": {
     "delete_cmd_postfix": "",
     "delete_cmd_prefix": "del ",
     "library": "var_list.py",
     "varRefreshCmd": "print(var_dic_list())"
    },
    "r": {
     "delete_cmd_postfix": ") ",
     "delete_cmd_prefix": "rm(",
     "library": "var_list.r",
     "varRefreshCmd": "cat(var_dic_list()) "
    }
   },
   "types_to_exclude": [
    "module",
    "function",
    "builtin_function_or_method",
    "instance",
    "_Feature"
   ],
   "window_display": false
  }
 },
 "nbformat": 4,
 "nbformat_minor": 5
}
