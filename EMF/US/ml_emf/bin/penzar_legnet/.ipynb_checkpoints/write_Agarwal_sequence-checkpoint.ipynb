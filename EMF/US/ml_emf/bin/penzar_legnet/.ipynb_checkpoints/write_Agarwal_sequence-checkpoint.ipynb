{
 "cells": [
  {
   "cell_type": "code",
   "execution_count": 1,
   "id": "9e1b68b3",
   "metadata": {
    "ExecuteTime": {
     "end_time": "2023-10-20T18:24:34.851253Z",
     "start_time": "2023-10-20T18:24:31.811519Z"
    }
   },
   "outputs": [],
   "source": [
    "import config_readwrite as crw\n",
    "import os, sys\n",
    "import pandas as pd"
   ]
  },
  {
   "cell_type": "markdown",
   "id": "88b8207c",
   "metadata": {},
   "source": [
    "# config"
   ]
  },
  {
   "cell_type": "code",
   "execution_count": 2,
   "id": "1ade17ba",
   "metadata": {
    "ExecuteTime": {
     "end_time": "2023-10-20T18:24:34.877538Z",
     "start_time": "2023-10-20T18:24:34.853402Z"
    }
   },
   "outputs": [],
   "source": [
    "cfn = os.path.join(os.path.dirname(os.getcwd()), \"config.ini\")\n",
    "config, cfn = crw.read(cfn)"
   ]
  },
  {
   "cell_type": "code",
   "execution_count": 3,
   "id": "38d3306e",
   "metadata": {
    "ExecuteTime": {
     "end_time": "2023-10-20T18:24:35.349486Z",
     "start_time": "2023-10-20T18:24:34.879436Z"
    }
   },
   "outputs": [],
   "source": [
    "section = \"agarwal_mpra\"\n",
    "crw.check(config, section)\n",
    "\n",
    "AGARWAL_PATH =\"/wynton/home/ahituv/fongsl/MPRA/agarwal_2023\"\n",
    "PATH = \"/wynton/home/ahituv/fongsl/EMF/US/data\"\n",
    "FA = os.path.join(AGARWAL_PATH, \"joint_library.fa\")\n",
    "OUT_PRE = os.path.join(PATH, \"AGARWAL.seqs.txt\")\n",
    "OUT_ALL = os.path.join(PATH, \"AGARWAL.seqs.all.tsv\")\n",
    "\n",
    "config[section][\"PATH\"] = AGARWAL_PATH\n",
    "config[section][\"FA\"] = FA\n",
    "config[section][\"seq_only\"] = OUT_PRE\n",
    "config[section][\"seq.id_seq\"] = OUT_ALL"
   ]
  },
  {
   "cell_type": "markdown",
   "id": "54e45888",
   "metadata": {},
   "source": [
    "# write sequence to file"
   ]
  },
  {
   "cell_type": "code",
   "execution_count": 4,
   "id": "92427039",
   "metadata": {
    "ExecuteTime": {
     "end_time": "2023-10-20T18:24:35.737551Z",
     "start_time": "2023-10-20T18:24:35.351331Z"
    }
   },
   "outputs": [],
   "source": [
    "# read the fasta file into \n",
    "fa_dict={}\n",
    "with open(FA, \"r\") as reader:\n",
    "    key = \"\"\n",
    "    for line in reader:\n",
    "        if \">\" in line:  # handle sequence id\n",
    "            key = (line.strip(\"\\n\")).split(\">\")[1]\n",
    "        else:  # handle actual sequence\n",
    "\n",
    "            fa_dict[key]=line.strip(\"\\n\")\n",
    "            key = \"\"\n"
   ]
  },
  {
   "cell_type": "markdown",
   "id": "de42bca6",
   "metadata": {},
   "source": [
    "# make fasta dataframe"
   ]
  },
  {
   "cell_type": "code",
   "execution_count": 5,
   "id": "614d5485",
   "metadata": {
    "ExecuteTime": {
     "end_time": "2023-10-20T18:24:35.811904Z",
     "start_time": "2023-10-20T18:24:35.738983Z"
    }
   },
   "outputs": [
    {
     "data": {
      "text/html": [
       "<div>\n",
       "<style scoped>\n",
       "    .dataframe tbody tr th:only-of-type {\n",
       "        vertical-align: middle;\n",
       "    }\n",
       "\n",
       "    .dataframe tbody tr th {\n",
       "        vertical-align: top;\n",
       "    }\n",
       "\n",
       "    .dataframe thead th {\n",
       "        text-align: right;\n",
       "    }\n",
       "</style>\n",
       "<table border=\"1\" class=\"dataframe\">\n",
       "  <thead>\n",
       "    <tr style=\"text-align: right;\">\n",
       "      <th></th>\n",
       "      <th>seq.id</th>\n",
       "      <th>seq</th>\n",
       "    </tr>\n",
       "  </thead>\n",
       "  <tbody>\n",
       "    <tr>\n",
       "      <th>0</th>\n",
       "      <td>chr1:19461350-19461550</td>\n",
       "      <td>GTAGGACCAGGCTCTGCCTCCTTCTCTCTCCCCCGACCCACCTGCC...</td>\n",
       "    </tr>\n",
       "    <tr>\n",
       "      <th>1</th>\n",
       "      <td>chr10:88965538-88965738</td>\n",
       "      <td>TGTACTTGCCTTAGGAGGTCAAACACATTAGGTATACCAACATATC...</td>\n",
       "    </tr>\n",
       "    <tr>\n",
       "      <th>2</th>\n",
       "      <td>chr10:89029900-89030100</td>\n",
       "      <td>TAGCTCAACACAAATCCATCACTGAAAGCAGTGCAACCAAGGCAGC...</td>\n",
       "    </tr>\n",
       "    <tr>\n",
       "      <th>3</th>\n",
       "      <td>chr10:89032143-89032343</td>\n",
       "      <td>GACCCTAAATCAGTATGGGGAAAGGTCCCCACTGCAGCACTTTCTA...</td>\n",
       "    </tr>\n",
       "    <tr>\n",
       "      <th>4</th>\n",
       "      <td>chr10:89111910-89112110</td>\n",
       "      <td>GTGATCTCAGCTTACTGCAACCTCTGCCTCCTGGGTTCAAGCAATT...</td>\n",
       "    </tr>\n",
       "  </tbody>\n",
       "</table>\n",
       "</div>"
      ],
      "text/plain": [
       "                    seq.id                                                seq\n",
       "0   chr1:19461350-19461550  GTAGGACCAGGCTCTGCCTCCTTCTCTCTCCCCCGACCCACCTGCC...\n",
       "1  chr10:88965538-88965738  TGTACTTGCCTTAGGAGGTCAAACACATTAGGTATACCAACATATC...\n",
       "2  chr10:89029900-89030100  TAGCTCAACACAAATCCATCACTGAAAGCAGTGCAACCAAGGCAGC...\n",
       "3  chr10:89032143-89032343  GACCCTAAATCAGTATGGGGAAAGGTCCCCACTGCAGCACTTTCTA...\n",
       "4  chr10:89111910-89112110  GTGATCTCAGCTTACTGCAACCTCTGCCTCCTGGGTTCAAGCAATT..."
      ]
     },
     "execution_count": 5,
     "metadata": {},
     "output_type": "execute_result"
    }
   ],
   "source": [
    "# make dataframe of sequences\n",
    "df = pd.DataFrame(fa_dict.items(), columns =[\"seq.id\", \"seq\"])\n",
    "\n",
    "df.head()"
   ]
  },
  {
   "cell_type": "markdown",
   "id": "35381e04",
   "metadata": {},
   "source": [
    "## write sequences only"
   ]
  },
  {
   "cell_type": "code",
   "execution_count": 6,
   "id": "2c7d819c",
   "metadata": {
    "ExecuteTime": {
     "end_time": "2023-10-20T18:24:36.177238Z",
     "start_time": "2023-10-20T18:24:35.813446Z"
    }
   },
   "outputs": [
    {
     "data": {
      "text/plain": [
       "200"
      ]
     },
     "execution_count": 6,
     "metadata": {},
     "output_type": "execute_result"
    }
   ],
   "source": [
    "# save only sequences to a file\n",
    "df[\"seq\"].to_csv(OUT_PRE, sep='\\t', header=None, index=None)\n",
    "\n",
    "len(line.strip(\"\\n\"))"
   ]
  },
  {
   "cell_type": "markdown",
   "id": "0fb796c3",
   "metadata": {},
   "source": [
    "## write seq.id + sequence"
   ]
  },
  {
   "cell_type": "code",
   "execution_count": 7,
   "id": "90a89fe8",
   "metadata": {
    "ExecuteTime": {
     "end_time": "2023-10-20T18:24:36.512822Z",
     "start_time": "2023-10-20T18:24:36.178742Z"
    }
   },
   "outputs": [
    {
     "data": {
      "text/html": [
       "<div>\n",
       "<style scoped>\n",
       "    .dataframe tbody tr th:only-of-type {\n",
       "        vertical-align: middle;\n",
       "    }\n",
       "\n",
       "    .dataframe tbody tr th {\n",
       "        vertical-align: top;\n",
       "    }\n",
       "\n",
       "    .dataframe thead th {\n",
       "        text-align: right;\n",
       "    }\n",
       "</style>\n",
       "<table border=\"1\" class=\"dataframe\">\n",
       "  <thead>\n",
       "    <tr style=\"text-align: right;\">\n",
       "      <th></th>\n",
       "      <th>seq.id</th>\n",
       "      <th>seq</th>\n",
       "    </tr>\n",
       "  </thead>\n",
       "  <tbody>\n",
       "    <tr>\n",
       "      <th>0</th>\n",
       "      <td>chr1:19461350-19461550</td>\n",
       "      <td>GTAGGACCAGGCTCTGCCTCCTTCTCTCTCCCCCGACCCACCTGCC...</td>\n",
       "    </tr>\n",
       "    <tr>\n",
       "      <th>1</th>\n",
       "      <td>chr10:88965538-88965738</td>\n",
       "      <td>TGTACTTGCCTTAGGAGGTCAAACACATTAGGTATACCAACATATC...</td>\n",
       "    </tr>\n",
       "    <tr>\n",
       "      <th>2</th>\n",
       "      <td>chr10:89029900-89030100</td>\n",
       "      <td>TAGCTCAACACAAATCCATCACTGAAAGCAGTGCAACCAAGGCAGC...</td>\n",
       "    </tr>\n",
       "    <tr>\n",
       "      <th>3</th>\n",
       "      <td>chr10:89032143-89032343</td>\n",
       "      <td>GACCCTAAATCAGTATGGGGAAAGGTCCCCACTGCAGCACTTTCTA...</td>\n",
       "    </tr>\n",
       "    <tr>\n",
       "      <th>4</th>\n",
       "      <td>chr10:89111910-89112110</td>\n",
       "      <td>GTGATCTCAGCTTACTGCAACCTCTGCCTCCTGGGTTCAAGCAATT...</td>\n",
       "    </tr>\n",
       "  </tbody>\n",
       "</table>\n",
       "</div>"
      ],
      "text/plain": [
       "                    seq.id                                                seq\n",
       "0   chr1:19461350-19461550  GTAGGACCAGGCTCTGCCTCCTTCTCTCTCCCCCGACCCACCTGCC...\n",
       "1  chr10:88965538-88965738  TGTACTTGCCTTAGGAGGTCAAACACATTAGGTATACCAACATATC...\n",
       "2  chr10:89029900-89030100  TAGCTCAACACAAATCCATCACTGAAAGCAGTGCAACCAAGGCAGC...\n",
       "3  chr10:89032143-89032343  GACCCTAAATCAGTATGGGGAAAGGTCCCCACTGCAGCACTTTCTA...\n",
       "4  chr10:89111910-89112110  GTGATCTCAGCTTACTGCAACCTCTGCCTCCTGGGTTCAAGCAATT..."
      ]
     },
     "execution_count": 7,
     "metadata": {},
     "output_type": "execute_result"
    }
   ],
   "source": [
    "df.to_csv(OUT_ALL, sep='\\t', header=None, index=None)\n",
    "\n",
    "df.head()"
   ]
  },
  {
   "cell_type": "markdown",
   "id": "65142a16",
   "metadata": {},
   "source": [
    "# write activity"
   ]
  },
  {
   "cell_type": "code",
   "execution_count": 8,
   "id": "2cb09a33",
   "metadata": {
    "ExecuteTime": {
     "end_time": "2023-10-20T18:24:36.521662Z",
     "start_time": "2023-10-20T18:24:36.515194Z"
    }
   },
   "outputs": [],
   "source": [
    "PREFIX = \"AGARWAL.seqs\"\n",
    "TRUTH = os.path.join(AGARWAL_PATH, \"all_cell_types_summary.csv\")  # US activity in HepG2\n",
    "PRED_COOR = os.path.join(AGARWAL_PATH, f\"joint_library.bed\")  # seq.id + seq\n",
    "\n",
    "INFO = os.path.join(AGARWAL_PATH, f\"joint_info.tsv\")  # seq.id + seq\n",
    "MULTI_BIN = os.path.join(PATH, f\"agarwal.multibin.txt\")  # seq.id + seq\n",
    "\n",
    "config[section][\"MPRA_ACTIVITY\"]=TRUTH\n",
    "config[section][\"BED_COOR\"]=PRED_COOR\n",
    "config[section][\"MPRA_INFO\"]=INFO\n",
    "\n",
    "config[section][\"MULTIBIN\"]=MULTI_BIN\n",
    "config[section][\"MULTIBIN_training\"]=MULTI_BIN\n",
    "crw.write(config, cfn)"
   ]
  },
  {
   "cell_type": "markdown",
   "id": "a4c5a7de",
   "metadata": {
    "ExecuteTime": {
     "end_time": "2023-10-19T22:49:19.850134Z",
     "start_time": "2023-10-19T22:49:19.442797Z"
    }
   },
   "source": [
    "## load"
   ]
  },
  {
   "cell_type": "markdown",
   "id": "9daa9bc5",
   "metadata": {},
   "source": [
    "## MPRA activity"
   ]
  },
  {
   "cell_type": "code",
   "execution_count": 9,
   "id": "6c1f2329",
   "metadata": {
    "ExecuteTime": {
     "end_time": "2023-10-20T18:24:36.703912Z",
     "start_time": "2023-10-20T18:24:36.523594Z"
    }
   },
   "outputs": [
    {
     "data": {
      "text/html": [
       "<div>\n",
       "<style scoped>\n",
       "    .dataframe tbody tr th:only-of-type {\n",
       "        vertical-align: middle;\n",
       "    }\n",
       "\n",
       "    .dataframe tbody tr th {\n",
       "        vertical-align: top;\n",
       "    }\n",
       "\n",
       "    .dataframe thead th {\n",
       "        text-align: right;\n",
       "    }\n",
       "</style>\n",
       "<table border=\"1\" class=\"dataframe\">\n",
       "  <thead>\n",
       "    <tr style=\"text-align: right;\">\n",
       "      <th></th>\n",
       "      <th>name</th>\n",
       "      <th>HepG2 [log2(rna/dna)]</th>\n",
       "      <th>K562 [log2(rna/dna)]</th>\n",
       "      <th>WTC11 [log2(rna/dna)]</th>\n",
       "    </tr>\n",
       "  </thead>\n",
       "  <tbody>\n",
       "    <tr>\n",
       "      <th>0</th>\n",
       "      <td>WTC11_seq9998_F</td>\n",
       "      <td>-1.018</td>\n",
       "      <td>-1.018</td>\n",
       "      <td>-1.254</td>\n",
       "    </tr>\n",
       "    <tr>\n",
       "      <th>1</th>\n",
       "      <td>WTC11_seq9987_F</td>\n",
       "      <td>0.320</td>\n",
       "      <td>-0.439</td>\n",
       "      <td>-1.505</td>\n",
       "    </tr>\n",
       "    <tr>\n",
       "      <th>2</th>\n",
       "      <td>WTC11_seq998_F</td>\n",
       "      <td>0.003</td>\n",
       "      <td>-0.217</td>\n",
       "      <td>-0.462</td>\n",
       "    </tr>\n",
       "    <tr>\n",
       "      <th>3</th>\n",
       "      <td>WTC11_seq9970_F</td>\n",
       "      <td>-0.794</td>\n",
       "      <td>-1.026</td>\n",
       "      <td>-1.414</td>\n",
       "    </tr>\n",
       "    <tr>\n",
       "      <th>4</th>\n",
       "      <td>WTC11_seq9967_F</td>\n",
       "      <td>-0.485</td>\n",
       "      <td>-0.592</td>\n",
       "      <td>-1.346</td>\n",
       "    </tr>\n",
       "  </tbody>\n",
       "</table>\n",
       "</div>"
      ],
      "text/plain": [
       "              name  HepG2 [log2(rna/dna)]  K562 [log2(rna/dna)]  \\\n",
       "0  WTC11_seq9998_F                 -1.018                -1.018   \n",
       "1  WTC11_seq9987_F                  0.320                -0.439   \n",
       "2   WTC11_seq998_F                  0.003                -0.217   \n",
       "3  WTC11_seq9970_F                 -0.794                -1.026   \n",
       "4  WTC11_seq9967_F                 -0.485                -0.592   \n",
       "\n",
       "   WTC11 [log2(rna/dna)]  \n",
       "0                 -1.254  \n",
       "1                 -1.505  \n",
       "2                 -0.462  \n",
       "3                 -1.414  \n",
       "4                 -1.346  "
      ]
     },
     "execution_count": 9,
     "metadata": {},
     "output_type": "execute_result"
    }
   ],
   "source": [
    "truth = pd.read_csv(TRUTH) # load data\n",
    "\n",
    "truth.head()"
   ]
  },
  {
   "cell_type": "markdown",
   "id": "78094609",
   "metadata": {
    "ExecuteTime": {
     "end_time": "2023-10-19T22:51:18.967339Z",
     "start_time": "2023-10-19T22:51:18.834414Z"
    }
   },
   "source": [
    "## load bedfile"
   ]
  },
  {
   "cell_type": "code",
   "execution_count": 10,
   "id": "b3d29d5c",
   "metadata": {
    "ExecuteTime": {
     "end_time": "2023-10-20T18:24:36.950634Z",
     "start_time": "2023-10-20T18:24:36.705326Z"
    }
   },
   "outputs": [
    {
     "data": {
      "text/html": [
       "<div>\n",
       "<style scoped>\n",
       "    .dataframe tbody tr th:only-of-type {\n",
       "        vertical-align: middle;\n",
       "    }\n",
       "\n",
       "    .dataframe tbody tr th {\n",
       "        vertical-align: top;\n",
       "    }\n",
       "\n",
       "    .dataframe thead th {\n",
       "        text-align: right;\n",
       "    }\n",
       "</style>\n",
       "<table border=\"1\" class=\"dataframe\">\n",
       "  <thead>\n",
       "    <tr style=\"text-align: right;\">\n",
       "      <th></th>\n",
       "      <th>#chr</th>\n",
       "      <th>start.hg38</th>\n",
       "      <th>stop.hg38</th>\n",
       "      <th>name</th>\n",
       "      <th>str.hg38</th>\n",
       "      <th>seq.id</th>\n",
       "    </tr>\n",
       "  </thead>\n",
       "  <tbody>\n",
       "    <tr>\n",
       "      <th>0</th>\n",
       "      <td>chr1</td>\n",
       "      <td>19461350</td>\n",
       "      <td>19461550</td>\n",
       "      <td>WTC11_seq1000_F</td>\n",
       "      <td>+</td>\n",
       "      <td>chr1:19461350-19461550</td>\n",
       "    </tr>\n",
       "    <tr>\n",
       "      <th>1</th>\n",
       "      <td>chr10</td>\n",
       "      <td>88965538</td>\n",
       "      <td>88965738</td>\n",
       "      <td>WTC11_seq10002_F</td>\n",
       "      <td>+</td>\n",
       "      <td>chr10:88965538-88965738</td>\n",
       "    </tr>\n",
       "    <tr>\n",
       "      <th>2</th>\n",
       "      <td>chr10</td>\n",
       "      <td>89029900</td>\n",
       "      <td>89030100</td>\n",
       "      <td>WTC11_seq10004_F</td>\n",
       "      <td>+</td>\n",
       "      <td>chr10:89029900-89030100</td>\n",
       "    </tr>\n",
       "    <tr>\n",
       "      <th>3</th>\n",
       "      <td>chr10</td>\n",
       "      <td>89032143</td>\n",
       "      <td>89032343</td>\n",
       "      <td>WTC11_seq10005_F</td>\n",
       "      <td>+</td>\n",
       "      <td>chr10:89032143-89032343</td>\n",
       "    </tr>\n",
       "    <tr>\n",
       "      <th>4</th>\n",
       "      <td>chr10</td>\n",
       "      <td>89111910</td>\n",
       "      <td>89112110</td>\n",
       "      <td>WTC11_seq10007_F</td>\n",
       "      <td>+</td>\n",
       "      <td>chr10:89111910-89112110</td>\n",
       "    </tr>\n",
       "  </tbody>\n",
       "</table>\n",
       "</div>"
      ],
      "text/plain": [
       "    #chr  start.hg38  stop.hg38              name str.hg38  \\\n",
       "0   chr1    19461350   19461550   WTC11_seq1000_F        +   \n",
       "1  chr10    88965538   88965738  WTC11_seq10002_F        +   \n",
       "2  chr10    89029900   89030100  WTC11_seq10004_F        +   \n",
       "3  chr10    89032143   89032343  WTC11_seq10005_F        +   \n",
       "4  chr10    89111910   89112110  WTC11_seq10007_F        +   \n",
       "\n",
       "                    seq.id  \n",
       "0   chr1:19461350-19461550  \n",
       "1  chr10:88965538-88965738  \n",
       "2  chr10:89029900-89030100  \n",
       "3  chr10:89032143-89032343  \n",
       "4  chr10:89111910-89112110  "
      ]
     },
     "execution_count": 10,
     "metadata": {},
     "output_type": "execute_result"
    }
   ],
   "source": [
    "bed = pd.read_csv(PRED_COOR, sep='\\t')\n",
    "bed[\"seq.id\"] = bed[\"#chr\"] + \":\"+ bed[\"start.hg38\"].map(str) + \"-\" + bed[\"stop.hg38\"].map(str)\n",
    "bed.head()"
   ]
  },
  {
   "cell_type": "code",
   "execution_count": 11,
   "id": "345af34e",
   "metadata": {
    "ExecuteTime": {
     "end_time": "2023-10-20T18:24:37.053037Z",
     "start_time": "2023-10-20T18:24:36.952071Z"
    }
   },
   "outputs": [
    {
     "data": {
      "text/html": [
       "<div>\n",
       "<style scoped>\n",
       "    .dataframe tbody tr th:only-of-type {\n",
       "        vertical-align: middle;\n",
       "    }\n",
       "\n",
       "    .dataframe tbody tr th {\n",
       "        vertical-align: top;\n",
       "    }\n",
       "\n",
       "    .dataframe thead th {\n",
       "        text-align: right;\n",
       "    }\n",
       "</style>\n",
       "<table border=\"1\" class=\"dataframe\">\n",
       "  <thead>\n",
       "    <tr style=\"text-align: right;\">\n",
       "      <th></th>\n",
       "      <th>seq.id</th>\n",
       "      <th>seq</th>\n",
       "      <th>name</th>\n",
       "      <th>HepG2 [log2(rna/dna)]</th>\n",
       "      <th>K562 [log2(rna/dna)]</th>\n",
       "      <th>WTC11 [log2(rna/dna)]</th>\n",
       "    </tr>\n",
       "  </thead>\n",
       "  <tbody>\n",
       "    <tr>\n",
       "      <th>0</th>\n",
       "      <td>chr1:19461350-19461550</td>\n",
       "      <td>GTAGGACCAGGCTCTGCCTCCTTCTCTCTCCCCCGACCCACCTGCC...</td>\n",
       "      <td>WTC11_seq1000_F</td>\n",
       "      <td>0.633</td>\n",
       "      <td>0.080</td>\n",
       "      <td>-0.387</td>\n",
       "    </tr>\n",
       "    <tr>\n",
       "      <th>1</th>\n",
       "      <td>chr10:88965538-88965738</td>\n",
       "      <td>TGTACTTGCCTTAGGAGGTCAAACACATTAGGTATACCAACATATC...</td>\n",
       "      <td>WTC11_seq10002_F</td>\n",
       "      <td>-1.157</td>\n",
       "      <td>-1.147</td>\n",
       "      <td>-1.507</td>\n",
       "    </tr>\n",
       "    <tr>\n",
       "      <th>2</th>\n",
       "      <td>chr10:89029900-89030100</td>\n",
       "      <td>TAGCTCAACACAAATCCATCACTGAAAGCAGTGCAACCAAGGCAGC...</td>\n",
       "      <td>WTC11_seq10004_F</td>\n",
       "      <td>-0.066</td>\n",
       "      <td>0.186</td>\n",
       "      <td>0.655</td>\n",
       "    </tr>\n",
       "    <tr>\n",
       "      <th>3</th>\n",
       "      <td>chr10:89032143-89032343</td>\n",
       "      <td>GACCCTAAATCAGTATGGGGAAAGGTCCCCACTGCAGCACTTTCTA...</td>\n",
       "      <td>WTC11_seq10005_F</td>\n",
       "      <td>0.846</td>\n",
       "      <td>1.212</td>\n",
       "      <td>-0.637</td>\n",
       "    </tr>\n",
       "    <tr>\n",
       "      <th>4</th>\n",
       "      <td>chr10:89111910-89112110</td>\n",
       "      <td>GTGATCTCAGCTTACTGCAACCTCTGCCTCCTGGGTTCAAGCAATT...</td>\n",
       "      <td>WTC11_seq10007_F</td>\n",
       "      <td>-0.784</td>\n",
       "      <td>-0.630</td>\n",
       "      <td>-0.612</td>\n",
       "    </tr>\n",
       "  </tbody>\n",
       "</table>\n",
       "</div>"
      ],
      "text/plain": [
       "                    seq.id                                                seq  \\\n",
       "0   chr1:19461350-19461550  GTAGGACCAGGCTCTGCCTCCTTCTCTCTCCCCCGACCCACCTGCC...   \n",
       "1  chr10:88965538-88965738  TGTACTTGCCTTAGGAGGTCAAACACATTAGGTATACCAACATATC...   \n",
       "2  chr10:89029900-89030100  TAGCTCAACACAAATCCATCACTGAAAGCAGTGCAACCAAGGCAGC...   \n",
       "3  chr10:89032143-89032343  GACCCTAAATCAGTATGGGGAAAGGTCCCCACTGCAGCACTTTCTA...   \n",
       "4  chr10:89111910-89112110  GTGATCTCAGCTTACTGCAACCTCTGCCTCCTGGGTTCAAGCAATT...   \n",
       "\n",
       "               name  HepG2 [log2(rna/dna)]  K562 [log2(rna/dna)]  \\\n",
       "0   WTC11_seq1000_F                  0.633                 0.080   \n",
       "1  WTC11_seq10002_F                 -1.157                -1.147   \n",
       "2  WTC11_seq10004_F                 -0.066                 0.186   \n",
       "3  WTC11_seq10005_F                  0.846                 1.212   \n",
       "4  WTC11_seq10007_F                 -0.784                -0.630   \n",
       "\n",
       "   WTC11 [log2(rna/dna)]  \n",
       "0                 -0.387  \n",
       "1                 -1.507  \n",
       "2                  0.655  \n",
       "3                 -0.637  \n",
       "4                 -0.612  "
      ]
     },
     "execution_count": 11,
     "metadata": {},
     "output_type": "execute_result"
    }
   ],
   "source": [
    "# merge prediction with sequence id\n",
    "seq_id = pd.merge(df, bed[['seq.id', \"name\"]])\n",
    "\n",
    "# merge truth and prediction\n",
    "merged = pd.merge(seq_id, truth)\n",
    "merged.head()"
   ]
  },
  {
   "cell_type": "code",
   "execution_count": 12,
   "id": "fedda251",
   "metadata": {
    "ExecuteTime": {
     "end_time": "2023-10-20T18:24:37.093463Z",
     "start_time": "2023-10-20T18:24:37.054755Z"
    }
   },
   "outputs": [
    {
     "data": {
      "text/html": [
       "<div>\n",
       "<style scoped>\n",
       "    .dataframe tbody tr th:only-of-type {\n",
       "        vertical-align: middle;\n",
       "    }\n",
       "\n",
       "    .dataframe tbody tr th {\n",
       "        vertical-align: top;\n",
       "    }\n",
       "\n",
       "    .dataframe thead th {\n",
       "        text-align: right;\n",
       "    }\n",
       "</style>\n",
       "<table border=\"1\" class=\"dataframe\">\n",
       "  <thead>\n",
       "    <tr style=\"text-align: right;\">\n",
       "      <th></th>\n",
       "      <th>seq.id</th>\n",
       "      <th>seq</th>\n",
       "      <th>name</th>\n",
       "      <th>HepG2 [log2(rna/dna)]</th>\n",
       "      <th>K562 [log2(rna/dna)]</th>\n",
       "      <th>WTC11 [log2(rna/dna)]</th>\n",
       "      <th>WTC11_q</th>\n",
       "      <th>HepG2_q</th>\n",
       "      <th>K562_q</th>\n",
       "    </tr>\n",
       "  </thead>\n",
       "  <tbody>\n",
       "    <tr>\n",
       "      <th>0</th>\n",
       "      <td>chr1:19461350-19461550</td>\n",
       "      <td>GTAGGACCAGGCTCTGCCTCCTTCTCTCTCCCCCGACCCACCTGCC...</td>\n",
       "      <td>WTC11_seq1000_F</td>\n",
       "      <td>0.633</td>\n",
       "      <td>0.080</td>\n",
       "      <td>-0.387</td>\n",
       "      <td>12.0</td>\n",
       "      <td>15.0</td>\n",
       "      <td>12.0</td>\n",
       "    </tr>\n",
       "    <tr>\n",
       "      <th>1</th>\n",
       "      <td>chr10:88965538-88965738</td>\n",
       "      <td>TGTACTTGCCTTAGGAGGTCAAACACATTAGGTATACCAACATATC...</td>\n",
       "      <td>WTC11_seq10002_F</td>\n",
       "      <td>-1.157</td>\n",
       "      <td>-1.147</td>\n",
       "      <td>-1.507</td>\n",
       "      <td>2.0</td>\n",
       "      <td>1.0</td>\n",
       "      <td>0.0</td>\n",
       "    </tr>\n",
       "    <tr>\n",
       "      <th>2</th>\n",
       "      <td>chr10:89029900-89030100</td>\n",
       "      <td>TAGCTCAACACAAATCCATCACTGAAAGCAGTGCAACCAAGGCAGC...</td>\n",
       "      <td>WTC11_seq10004_F</td>\n",
       "      <td>-0.066</td>\n",
       "      <td>0.186</td>\n",
       "      <td>0.655</td>\n",
       "      <td>15.0</td>\n",
       "      <td>11.0</td>\n",
       "      <td>13.0</td>\n",
       "    </tr>\n",
       "    <tr>\n",
       "      <th>3</th>\n",
       "      <td>chr10:89032143-89032343</td>\n",
       "      <td>GACCCTAAATCAGTATGGGGAAAGGTCCCCACTGCAGCACTTTCTA...</td>\n",
       "      <td>WTC11_seq10005_F</td>\n",
       "      <td>0.846</td>\n",
       "      <td>1.212</td>\n",
       "      <td>-0.637</td>\n",
       "      <td>10.0</td>\n",
       "      <td>16.0</td>\n",
       "      <td>16.0</td>\n",
       "    </tr>\n",
       "    <tr>\n",
       "      <th>4</th>\n",
       "      <td>chr10:89111910-89112110</td>\n",
       "      <td>GTGATCTCAGCTTACTGCAACCTCTGCCTCCTGGGTTCAAGCAATT...</td>\n",
       "      <td>WTC11_seq10007_F</td>\n",
       "      <td>-0.784</td>\n",
       "      <td>-0.630</td>\n",
       "      <td>-0.612</td>\n",
       "      <td>10.0</td>\n",
       "      <td>3.0</td>\n",
       "      <td>5.0</td>\n",
       "    </tr>\n",
       "  </tbody>\n",
       "</table>\n",
       "</div>"
      ],
      "text/plain": [
       "                    seq.id                                                seq  \\\n",
       "0   chr1:19461350-19461550  GTAGGACCAGGCTCTGCCTCCTTCTCTCTCCCCCGACCCACCTGCC...   \n",
       "1  chr10:88965538-88965738  TGTACTTGCCTTAGGAGGTCAAACACATTAGGTATACCAACATATC...   \n",
       "2  chr10:89029900-89030100  TAGCTCAACACAAATCCATCACTGAAAGCAGTGCAACCAAGGCAGC...   \n",
       "3  chr10:89032143-89032343  GACCCTAAATCAGTATGGGGAAAGGTCCCCACTGCAGCACTTTCTA...   \n",
       "4  chr10:89111910-89112110  GTGATCTCAGCTTACTGCAACCTCTGCCTCCTGGGTTCAAGCAATT...   \n",
       "\n",
       "               name  HepG2 [log2(rna/dna)]  K562 [log2(rna/dna)]  \\\n",
       "0   WTC11_seq1000_F                  0.633                 0.080   \n",
       "1  WTC11_seq10002_F                 -1.157                -1.147   \n",
       "2  WTC11_seq10004_F                 -0.066                 0.186   \n",
       "3  WTC11_seq10005_F                  0.846                 1.212   \n",
       "4  WTC11_seq10007_F                 -0.784                -0.630   \n",
       "\n",
       "   WTC11 [log2(rna/dna)]  WTC11_q  HepG2_q  K562_q  \n",
       "0                 -0.387     12.0     15.0    12.0  \n",
       "1                 -1.507      2.0      1.0     0.0  \n",
       "2                  0.655     15.0     11.0    13.0  \n",
       "3                 -0.637     10.0     16.0    16.0  \n",
       "4                 -0.612     10.0      3.0     5.0  "
      ]
     },
     "execution_count": 12,
     "metadata": {},
     "output_type": "execute_result"
    }
   ],
   "source": [
    "for CL in [\"WTC11\", \"HepG2\", \"K562\"]:\n",
    "    merged[f'{CL}_q'] = pd.qcut(merged[f'{CL} [log2(rna/dna)]'], 18, labels=np.arange(18))\n",
    "    merged[f'{CL}_q'] = merged[f'{CL}_q'].astype(float)\n",
    "\n",
    "merged.head()"
   ]
  },
  {
   "cell_type": "markdown",
   "id": "f904d664",
   "metadata": {},
   "source": [
    "## write merged file w/ info"
   ]
  },
  {
   "cell_type": "code",
   "execution_count": 13,
   "id": "020b8a38",
   "metadata": {
    "ExecuteTime": {
     "end_time": "2023-10-20T18:24:37.726467Z",
     "start_time": "2023-10-20T18:24:37.094805Z"
    }
   },
   "outputs": [],
   "source": [
    "merged.to_csv(INFO, sep='\\t', index=False)"
   ]
  },
  {
   "cell_type": "markdown",
   "id": "8c48288f",
   "metadata": {},
   "source": [
    "## write multipred file \n",
    "- predict multiple bins"
   ]
  },
  {
   "cell_type": "code",
   "execution_count": 14,
   "id": "47ccff45",
   "metadata": {
    "ExecuteTime": {
     "end_time": "2023-10-20T18:24:38.226812Z",
     "start_time": "2023-10-20T18:24:37.727938Z"
    }
   },
   "outputs": [],
   "source": [
    "merged[[\"seq\", 'WTC11_q', 'HepG2_q', 'K562_q']].drop_duplicates().to_csv(MULTI_BIN, sep='\\t', index=False)"
   ]
  },
  {
   "cell_type": "markdown",
   "id": "6443aae9",
   "metadata": {},
   "source": [
    "## write cell-specific input prediction file"
   ]
  },
  {
   "cell_type": "code",
   "execution_count": 15,
   "id": "d0435ecc",
   "metadata": {
    "ExecuteTime": {
     "end_time": "2023-10-20T18:24:38.235455Z",
     "start_time": "2023-10-20T18:24:38.228312Z"
    }
   },
   "outputs": [],
   "source": [
    "for CL in [\"WTC11\", \"HepG2\", \"K562\"]:\n",
    "    PREFIX2 = f\"AGARWAL.seqs.{CL}.binnedMPRA\"\n",
    "    INPUT_DATA = os.path.join(PATH, f\"{PREFIX2}.txt\")  # file to write\n",
    "    \n",
    "    config[section][PREFIX2]=INPUT_DATA\n",
    "    \n",
    "    if os.path.exists(INPUT_DATA) is False:\n",
    "        merged[[\"seq\", f'{CL}_q']].drop_duplicates().to_csv(\n",
    "        INPUT_DATA, sep='\\t',  header=False, index=False)\n",
    "\n",
    "crw.write(config, cfn)"
   ]
  },
  {
   "cell_type": "code",
   "execution_count": 16,
   "id": "8650ec30",
   "metadata": {
    "ExecuteTime": {
     "end_time": "2023-10-20T18:24:45.693613Z",
     "start_time": "2023-10-20T18:24:43.870850Z"
    }
   },
   "outputs": [],
   "source": [
    "for CL in [\"WTC11\", \"HepG2\", \"K562\"]:\n",
    "    for size in [5000, 0.9]:\n",
    "        \n",
    "        PREFIX_TRAIN, PREFIX_TEST = f\"training.{CL}.{size}\", f\"test.{CL}.{size}\"\n",
    "        INPUT_TRAINING = os.path.join(PATH, f\"{PREFIX_TRAIN}.txt\")  # file to write\n",
    "        INPUT_TESTING =  os.path.join(PATH, f\"{PREFIX_TEST}.txt\")  # file to write\n",
    "        \n",
    "        cols = ['seq', f'{CL}_q']\n",
    "        \n",
    "        if os.path.exists(INPUT_DATA) is False:\n",
    "            if size>1:\n",
    "                training = merged.sample(n=size)  # sample size\n",
    "            else:\n",
    "                training = merged.sample(frac=size)\n",
    "\n",
    "            # test set\n",
    "            test = merged.loc[~merged[\"seq\"].isin(set(training['seq']))]\n",
    "            \n",
    "            training[cols].drop_duplicates().to_csv(\n",
    "                    INPUT_TRAINING, sep='\\t',  header=False, index=False)\n",
    "            test[cols].drop_duplicates().to_csv(\n",
    "                    INPUT_TESTING, sep='\\t',  header=False, index=False)\n",
    "        else:\n",
    "            training = pd.read_csv(INPUT_TRAINING, sep='\\t', header=None, names=cols)\n",
    "            test = merged.loc[~merged[\"seq\"].isin(set(training['seq']))]\n",
    "            test[cols].drop_duplicates().to_csv(\n",
    "                    INPUT_TESTING, sep='\\t',  header=False, index=False)\n",
    "\n",
    "        config[section][PREFIX_TRAIN]=INPUT_TRAINING  # write to config\n",
    "        config[section][PREFIX_TEST]=INPUT_TESTING  # write to config\n",
    "\n",
    "crw.write(config, cfn)"
   ]
  },
  {
   "cell_type": "markdown",
   "id": "a92ab785",
   "metadata": {},
   "source": [
    "## multibin training"
   ]
  },
  {
   "cell_type": "code",
   "execution_count": 17,
   "id": "e7ba8be1",
   "metadata": {
    "ExecuteTime": {
     "end_time": "2023-10-20T18:26:34.006216Z",
     "start_time": "2023-10-20T18:26:32.868631Z"
    }
   },
   "outputs": [],
   "source": [
    "for size in [5000, 0.9]:\n",
    "    \n",
    "    PREFIX_TRAIN, PREFIX_TEST = f\"training.multibin.{size}\", f\"test.multibin.{size}\"\n",
    "    \n",
    "    INPUT_TRAINING = os.path.join(PATH, f\"{PREFIX_TRAIN}.txt\")  # file to write\n",
    "    INPUT_TESTING = os.path.join(PATH, f\"{PREFIX_TEST}.txt\")  # file to write\n",
    "    cols = [\"seq\", 'WTC11_q', 'HepG2_q', 'K562_q']\n",
    "    if size>1:\n",
    "        training = merged.sample(n=size)  # sample size\n",
    "    else:\n",
    "        training = merged.sample(frac=size)\n",
    "\n",
    "    test = merged.loc[~merged[\"seq\"].isin(set(training['seq']))]\n",
    "    \n",
    "    if os.path.exists(INPUT_TRAINING) is False:\n",
    "        training[cols].drop_duplicates().to_csv(\n",
    "                INPUT_TRAINING, sep='\\t',  header=False, index=False)\n",
    "        test[cols].drop_duplicates().to_csv(\n",
    "                INPUT_TESTING, sep='\\t',  header=False, index=False)\n",
    "\n",
    "    config[section][PREFIX_TRAIN]=INPUT_TRAINING  # write to config\n",
    "    config[section][PREFIX_TEST]=INPUT_TESTING  # write to config\n",
    "\n",
    "crw.write(config, cfn)"
   ]
  },
  {
   "cell_type": "code",
   "execution_count": 20,
   "id": "23b66577",
   "metadata": {
    "ExecuteTime": {
     "end_time": "2023-10-20T18:27:00.731884Z",
     "start_time": "2023-10-20T18:27:00.721568Z"
    }
   },
   "outputs": [
    {
     "data": {
      "text/html": [
       "<div>\n",
       "<style scoped>\n",
       "    .dataframe tbody tr th:only-of-type {\n",
       "        vertical-align: middle;\n",
       "    }\n",
       "\n",
       "    .dataframe tbody tr th {\n",
       "        vertical-align: top;\n",
       "    }\n",
       "\n",
       "    .dataframe thead th {\n",
       "        text-align: right;\n",
       "    }\n",
       "</style>\n",
       "<table border=\"1\" class=\"dataframe\">\n",
       "  <thead>\n",
       "    <tr style=\"text-align: right;\">\n",
       "      <th></th>\n",
       "      <th>seq</th>\n",
       "      <th>WTC11_q</th>\n",
       "      <th>HepG2_q</th>\n",
       "      <th>K562_q</th>\n",
       "    </tr>\n",
       "  </thead>\n",
       "  <tbody>\n",
       "    <tr>\n",
       "      <th>19</th>\n",
       "      <td>CGAGTAGGGAACTGGAATGGGAGAGGATTAGGGAGGCGCCCTCCCT...</td>\n",
       "      <td>10.0</td>\n",
       "      <td>2.0</td>\n",
       "      <td>2.0</td>\n",
       "    </tr>\n",
       "    <tr>\n",
       "      <th>25</th>\n",
       "      <td>GGTGTGGGCATGGAGCCCAGCTGACCGAGGCAGCTGGGAACTGTTT...</td>\n",
       "      <td>16.0</td>\n",
       "      <td>15.0</td>\n",
       "      <td>11.0</td>\n",
       "    </tr>\n",
       "    <tr>\n",
       "      <th>30</th>\n",
       "      <td>GGACACTGTTGGAGACGCTTCCTCTCCACCTCTCTGGGAAAGTCTT...</td>\n",
       "      <td>8.0</td>\n",
       "      <td>9.0</td>\n",
       "      <td>9.0</td>\n",
       "    </tr>\n",
       "    <tr>\n",
       "      <th>44</th>\n",
       "      <td>GAGCCTCCACTTGGTGCTGATCTGTCTTGAATGCCTTTCTTTGAAA...</td>\n",
       "      <td>3.0</td>\n",
       "      <td>1.0</td>\n",
       "      <td>0.0</td>\n",
       "    </tr>\n",
       "    <tr>\n",
       "      <th>45</th>\n",
       "      <td>CACACACGGTACTGGTAGCACAGGCGTACACCTGGTGGGCATTGTG...</td>\n",
       "      <td>14.0</td>\n",
       "      <td>10.0</td>\n",
       "      <td>10.0</td>\n",
       "    </tr>\n",
       "  </tbody>\n",
       "</table>\n",
       "</div>"
      ],
      "text/plain": [
       "                                                  seq  WTC11_q  HepG2_q  \\\n",
       "19  CGAGTAGGGAACTGGAATGGGAGAGGATTAGGGAGGCGCCCTCCCT...     10.0      2.0   \n",
       "25  GGTGTGGGCATGGAGCCCAGCTGACCGAGGCAGCTGGGAACTGTTT...     16.0     15.0   \n",
       "30  GGACACTGTTGGAGACGCTTCCTCTCCACCTCTCTGGGAAAGTCTT...      8.0      9.0   \n",
       "44  GAGCCTCCACTTGGTGCTGATCTGTCTTGAATGCCTTTCTTTGAAA...      3.0      1.0   \n",
       "45  CACACACGGTACTGGTAGCACAGGCGTACACCTGGTGGGCATTGTG...     14.0     10.0   \n",
       "\n",
       "    K562_q  \n",
       "19     2.0  \n",
       "25    11.0  \n",
       "30     9.0  \n",
       "44     0.0  \n",
       "45    10.0  "
      ]
     },
     "execution_count": 20,
     "metadata": {},
     "output_type": "execute_result"
    }
   ],
   "source": [
    "test[cols].head()"
   ]
  },
  {
   "cell_type": "code",
   "execution_count": null,
   "id": "f9a11588",
   "metadata": {},
   "outputs": [],
   "source": []
  }
 ],
 "metadata": {
  "kernelspec": {
   "display_name": "torch",
   "language": "python",
   "name": "torch"
  },
  "language_info": {
   "codemirror_mode": {
    "name": "ipython",
    "version": 3
   },
   "file_extension": ".py",
   "mimetype": "text/x-python",
   "name": "python",
   "nbconvert_exporter": "python",
   "pygments_lexer": "ipython3",
   "version": "3.6.13"
  },
  "toc": {
   "base_numbering": 1,
   "nav_menu": {},
   "number_sections": true,
   "sideBar": true,
   "skip_h1_title": false,
   "title_cell": "Table of Contents",
   "title_sidebar": "Contents",
   "toc_cell": false,
   "toc_position": {},
   "toc_section_display": true,
   "toc_window_display": false
  },
  "varInspector": {
   "cols": {
    "lenName": 16,
    "lenType": 16,
    "lenVar": 40
   },
   "kernels_config": {
    "python": {
     "delete_cmd_postfix": "",
     "delete_cmd_prefix": "del ",
     "library": "var_list.py",
     "varRefreshCmd": "print(var_dic_list())"
    },
    "r": {
     "delete_cmd_postfix": ") ",
     "delete_cmd_prefix": "rm(",
     "library": "var_list.r",
     "varRefreshCmd": "cat(var_dic_list()) "
    }
   },
   "types_to_exclude": [
    "module",
    "function",
    "builtin_function_or_method",
    "instance",
    "_Feature"
   ],
   "window_display": false
  }
 },
 "nbformat": 4,
 "nbformat_minor": 5
}
