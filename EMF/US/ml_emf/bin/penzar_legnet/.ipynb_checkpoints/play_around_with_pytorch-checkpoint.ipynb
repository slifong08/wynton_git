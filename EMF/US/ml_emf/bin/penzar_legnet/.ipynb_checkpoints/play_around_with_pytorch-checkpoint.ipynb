{
 "cells": [
  {
   "cell_type": "code",
   "execution_count": 7,
   "id": "22141af7",
   "metadata": {
    "ExecuteTime": {
     "end_time": "2023-10-25T00:34:20.981794Z",
     "start_time": "2023-10-25T00:34:20.978049Z"
    }
   },
   "outputs": [],
   "source": [
    "import torch\n",
    "import torch.nn as nn\n",
    "import torch.nn.functional as F"
   ]
  },
  {
   "cell_type": "code",
   "execution_count": 23,
   "id": "e6a6ea38",
   "metadata": {
    "ExecuteTime": {
     "end_time": "2023-10-25T00:56:31.973522Z",
     "start_time": "2023-10-25T00:56:31.941319Z"
    }
   },
   "outputs": [
    {
     "ename": "NameError",
     "evalue": "name 'learn' is not defined",
     "output_type": "error",
     "traceback": [
      "\u001b[0;31m---------------------------------------------------------------------------\u001b[0m",
      "\u001b[0;31mNameError\u001b[0m                                 Traceback (most recent call last)",
      "\u001b[0;32m<ipython-input-23-817c1267d000>\u001b[0m in \u001b[0;36m<module>\u001b[0;34m\u001b[0m\n\u001b[1;32m      1\u001b[0m \u001b[0;32mfrom\u001b[0m \u001b[0mtorchsummary\u001b[0m \u001b[0;32mimport\u001b[0m \u001b[0msummary\u001b[0m\u001b[0;34m\u001b[0m\u001b[0;34m\u001b[0m\u001b[0m\n\u001b[0;32m----> 2\u001b[0;31m \u001b[0msummary\u001b[0m\u001b[0;34m(\u001b[0m\u001b[0mlearn\u001b[0m\u001b[0;34m.\u001b[0m\u001b[0mmodel\u001b[0m\u001b[0;34m,\u001b[0m \u001b[0minput_size\u001b[0m\u001b[0;34m=\u001b[0m\u001b[0;34m(\u001b[0m\u001b[0;36m3\u001b[0m\u001b[0;34m,\u001b[0m \u001b[0;36m128\u001b[0m\u001b[0;34m,\u001b[0m \u001b[0;36m128\u001b[0m\u001b[0;34m)\u001b[0m\u001b[0;34m)\u001b[0m\u001b[0;34m\u001b[0m\u001b[0;34m\u001b[0m\u001b[0m\n\u001b[0m",
      "\u001b[0;31mNameError\u001b[0m: name 'learn' is not defined"
     ]
    }
   ],
   "source": [
    "from torchsummary import summary\n"
   ]
  },
  {
   "cell_type": "code",
   "execution_count": 18,
   "id": "9e9c8e0c",
   "metadata": {
    "ExecuteTime": {
     "end_time": "2023-10-25T00:44:48.534243Z",
     "start_time": "2023-10-25T00:44:48.513272Z"
    }
   },
   "outputs": [
    {
     "name": "stdout",
     "output_type": "stream",
     "text": [
      "TinyModel(\n",
      "  (linear1): Linear(in_features=100, out_features=200, bias=True)\n",
      "  (activation): ReLU()\n",
      "  (linear2): Linear(in_features=200, out_features=10, bias=True)\n",
      "  (softmax): Softmax(dim=None)\n",
      "  (classifier): Linear(in_features=100, out_features=200, bias=True)\n",
      ")\n",
      "The model:\n",
      "TinyModel(\n",
      "  (linear1): Linear(in_features=100, out_features=200, bias=True)\n",
      "  (activation): ReLU()\n",
      "  (linear2): Linear(in_features=200, out_features=10, bias=True)\n",
      "  (softmax): Softmax(dim=None)\n",
      "  (classifier): Linear(in_features=100, out_features=200, bias=True)\n",
      ")\n",
      "\n",
      "\n",
      "Just one layer:\n",
      "Linear(in_features=200, out_features=10, bias=True)\n",
      "\n",
      "\n",
      "Model params:\n",
      "Parameter containing:\n",
      "tensor([[ 0.0170, -0.0512, -0.0486,  ..., -0.0719, -0.0253, -0.0539],\n",
      "        [-0.0653,  0.0861, -0.0538,  ...,  0.0426,  0.0531,  0.0747],\n",
      "        [-0.0457,  0.0910, -0.0546,  ...,  0.0326, -0.0698,  0.0477],\n",
      "        ...,\n",
      "        [-0.0360, -0.0926, -0.0949,  ..., -0.0639, -0.0498,  0.0462],\n",
      "        [-0.0043,  0.0621,  0.0027,  ...,  0.0750,  0.0711,  0.0193],\n",
      "        [-0.0870,  0.0676, -0.0239,  ...,  0.0151, -0.0148,  0.0204]],\n",
      "       requires_grad=True)\n",
      "Parameter containing:\n",
      "tensor([-0.0211,  0.0749,  0.0460, -0.0979, -0.0079, -0.0215,  0.0146, -0.0552,\n",
      "        -0.0822,  0.0534,  0.0353, -0.0386,  0.0320, -0.0219,  0.0714, -0.0942,\n",
      "         0.0976,  0.0238,  0.0445,  0.0467, -0.0672, -0.0861, -0.0819,  0.0380,\n",
      "         0.0800,  0.0153, -0.0333, -0.0630, -0.0376, -0.0563,  0.0443, -0.0932,\n",
      "        -0.0759,  0.0279, -0.0859,  0.0818, -0.0109, -0.0616, -0.0280, -0.0344,\n",
      "         0.0685,  0.0521, -0.0353, -0.0225, -0.0341,  0.0855, -0.0139, -0.0093,\n",
      "         0.0350, -0.0461, -0.0238,  0.0170,  0.0890,  0.0812, -0.0335, -0.0281,\n",
      "         0.0415, -0.0289, -0.0634,  0.0204, -0.0841, -0.0829, -0.0009, -0.0028,\n",
      "        -0.0988, -0.0086,  0.0135,  0.0465,  0.0732, -0.0519,  0.0163,  0.0313,\n",
      "         0.0936, -0.0124, -0.0832, -0.0195,  0.0591, -0.0927,  0.0667,  0.0480,\n",
      "        -0.0323,  0.0131, -0.0702,  0.0647, -0.0475, -0.0734, -0.0616, -0.0583,\n",
      "        -0.0395, -0.0816,  0.0868,  0.0446,  0.0148, -0.0807, -0.0873,  0.0652,\n",
      "         0.0173,  0.0746, -0.0006, -0.0982, -0.0046,  0.0064,  0.0692,  0.0716,\n",
      "        -0.0897, -0.0948,  0.0981,  0.0205,  0.0699, -0.0482,  0.0635,  0.0969,\n",
      "         0.0262,  0.0210,  0.0945, -0.0873,  0.0541,  0.0490,  0.0431,  0.0357,\n",
      "         0.0812,  0.0049,  0.0321, -0.0244, -0.0044, -0.0927, -0.0200, -0.0733,\n",
      "        -0.0563,  0.0174,  0.0592,  0.0394, -0.0231,  0.0002,  0.0700, -0.0688,\n",
      "        -0.0251, -0.0407, -0.0505,  0.0558, -0.0717,  0.0533, -0.0522,  0.0165,\n",
      "         0.0822,  0.0435,  0.0843, -0.0799, -0.0462, -0.0694, -0.0275,  0.0559,\n",
      "         0.0957,  0.0016,  0.0461,  0.0928,  0.0458, -0.0369, -0.0537,  0.0454,\n",
      "         0.0631, -0.0087,  0.0644,  0.0831, -0.0389, -0.0301, -0.0831,  0.0318,\n",
      "        -0.0870,  0.0333,  0.0726,  0.0710,  0.0049,  0.0582,  0.0393,  0.0063,\n",
      "         0.0774,  0.0663, -0.0496, -0.0231,  0.0403,  0.0974, -0.0570,  0.0818,\n",
      "        -0.0197, -0.0640, -0.0433, -0.0513, -0.0252,  0.0572,  0.0926, -0.0195,\n",
      "        -0.0620,  0.0963,  0.0755,  0.0570,  0.0975,  0.0319, -0.0880, -0.0164],\n",
      "       requires_grad=True)\n",
      "Parameter containing:\n",
      "tensor([[ 0.0238,  0.0083,  0.0455,  ...,  0.0582, -0.0671,  0.0623],\n",
      "        [ 0.0003,  0.0051, -0.0341,  ..., -0.0554, -0.0403,  0.0163],\n",
      "        [ 0.0703, -0.0154, -0.0025,  ...,  0.0105,  0.0619,  0.0412],\n",
      "        ...,\n",
      "        [-0.0020, -0.0432, -0.0081,  ..., -0.0389, -0.0235,  0.0078],\n",
      "        [ 0.0444, -0.0312, -0.0652,  ...,  0.0147, -0.0157,  0.0494],\n",
      "        [ 0.0053, -0.0071, -0.0599,  ..., -0.0597, -0.0092, -0.0632]],\n",
      "       requires_grad=True)\n",
      "Parameter containing:\n",
      "tensor([-0.0012, -0.0308,  0.0206,  0.0054, -0.0160, -0.0018, -0.0272, -0.0590,\n",
      "         0.0226, -0.0584], requires_grad=True)\n",
      "Parameter containing:\n",
      "tensor([[ 0.0733,  0.0553,  0.0494,  ..., -0.0285, -0.0060,  0.0469],\n",
      "        [-0.0933, -0.0373,  0.0415,  ..., -0.0336,  0.0882,  0.0582],\n",
      "        [ 0.0070,  0.0523, -0.0067,  ..., -0.0593,  0.0357,  0.0223],\n",
      "        ...,\n",
      "        [-0.0785,  0.0096, -0.0272,  ..., -0.0087,  0.0503, -0.0968],\n",
      "        [-0.0078, -0.0963, -0.0828,  ..., -0.0107,  0.0897,  0.0832],\n",
      "        [-0.0091, -0.0012, -0.0793,  ...,  0.0276,  0.0939, -0.0094]],\n",
      "       requires_grad=True)\n",
      "Parameter containing:\n",
      "tensor([ 0.0736, -0.0415, -0.0527, -0.0173, -0.0258,  0.0999, -0.0980, -0.0032,\n",
      "        -0.0451,  0.0248, -0.0903, -0.0356, -0.0254,  0.0023,  0.0438, -0.0395,\n",
      "         0.0881, -0.0734,  0.0507, -0.0788,  0.0033, -0.0043, -0.0098,  0.0694,\n",
      "        -0.0144,  0.0929,  0.0917,  0.0610,  0.0759, -0.0812,  0.0483,  0.0928,\n",
      "         0.0452, -0.0248, -0.0806, -0.0252,  0.0994, -0.0420, -0.0326,  0.0043,\n",
      "         0.0616, -0.0142, -0.0430, -0.0977, -0.0975,  0.0654, -0.0186, -0.0025,\n",
      "         0.0167,  0.0599,  0.0088,  0.0405, -0.0977, -0.0582,  0.0305, -0.0381,\n",
      "         0.0387, -0.0558, -0.0346,  0.0563, -0.0405, -0.0786, -0.0361, -0.0948,\n",
      "        -0.0174,  0.0514, -0.0048,  0.0317,  0.0402,  0.0014,  0.0315, -0.0798,\n",
      "         0.0295,  0.0392, -0.0099,  0.0625,  0.0572,  0.0837,  0.0332, -0.0021,\n",
      "         0.0377, -0.0708, -0.0449, -0.0630, -0.0409, -0.0996,  0.0484,  0.0407,\n",
      "         0.0456, -0.0730, -0.0009, -0.0594, -0.0774,  0.0090, -0.0720, -0.0724,\n",
      "        -0.0285, -0.0205, -0.0835, -0.0726, -0.0155,  0.0746, -0.0171,  0.0589,\n",
      "         0.0349, -0.0114,  0.0783,  0.0035, -0.0280,  0.0643, -0.0981,  0.0557,\n",
      "         0.0352, -0.0148, -0.0982, -0.0892, -0.0278,  0.0224,  0.0879,  0.0668,\n",
      "         0.0073,  0.0095, -0.0063, -0.0709,  0.0399,  0.0847,  0.0690, -0.0708,\n",
      "        -0.0906,  0.0929, -0.0061, -0.0638, -0.0172, -0.0030, -0.0067, -0.0280,\n",
      "         0.0408, -0.0405, -0.0971,  0.0143, -0.0657, -0.0693,  0.0318,  0.0775,\n",
      "         0.0850,  0.0949, -0.0262, -0.0625,  0.0531, -0.0324,  0.0047, -0.0253,\n",
      "         0.0734, -0.0357, -0.0979, -0.0518,  0.0236, -0.0989, -0.0303,  0.0596,\n",
      "        -0.0027,  0.0222,  0.0438,  0.0356,  0.0736, -0.0512, -0.0708, -0.0860,\n",
      "         0.0252,  0.0559,  0.0005,  0.0136,  0.0405, -0.0588,  0.0448, -0.0571,\n",
      "         0.0775, -0.0549, -0.0621, -0.0414, -0.0170, -0.0921, -0.0046,  0.0798,\n",
      "        -0.0033, -0.0323, -0.0973,  0.0090,  0.0333, -0.0810,  0.0820, -0.0566,\n",
      "        -0.0867,  0.0674,  0.0813,  0.0393, -0.0359, -0.0465, -0.0716, -0.0498],\n",
      "       requires_grad=True)\n",
      "\n",
      "\n",
      "Layer params:\n",
      "Parameter containing:\n",
      "tensor([[ 0.0238,  0.0083,  0.0455,  ...,  0.0582, -0.0671,  0.0623],\n",
      "        [ 0.0003,  0.0051, -0.0341,  ..., -0.0554, -0.0403,  0.0163],\n",
      "        [ 0.0703, -0.0154, -0.0025,  ...,  0.0105,  0.0619,  0.0412],\n",
      "        ...,\n",
      "        [-0.0020, -0.0432, -0.0081,  ..., -0.0389, -0.0235,  0.0078],\n",
      "        [ 0.0444, -0.0312, -0.0652,  ...,  0.0147, -0.0157,  0.0494],\n",
      "        [ 0.0053, -0.0071, -0.0599,  ..., -0.0597, -0.0092, -0.0632]],\n",
      "       requires_grad=True)\n",
      "Parameter containing:\n",
      "tensor([-0.0012, -0.0308,  0.0206,  0.0054, -0.0160, -0.0018, -0.0272, -0.0590,\n",
      "         0.0226, -0.0584], requires_grad=True)\n"
     ]
    }
   ],
   "source": [
    "class TinyModel(torch.nn.Module):\n",
    "\n",
    "    def __init__(self):\n",
    "        super(TinyModel, self).__init__()\n",
    "\n",
    "        self.linear1 = torch.nn.Linear(100, 200)\n",
    "        self.activation = torch.nn.ReLU()\n",
    "        self.linear2 = torch.nn.Linear(200, 10)\n",
    "        self.softmax = torch.nn.Softmax()\n",
    "\n",
    "    def forward(self, x):\n",
    "        x = self.linear1(x)\n",
    "        x = self.activation(x)\n",
    "        x = self.linear2(x)\n",
    "        x = self.softmax(x)\n",
    "        return x\n",
    "tinymodel.classifier = nn.Linear(100, 200)\n",
    "tinymodel = TinyModel()\n",
    "\n",
    "tinymodel.classifier = nn.Linear(100, 200)\n",
    "print(tinymodel)\n",
    "\n",
    "print('The model:')\n",
    "print(tinymodel)\n",
    "\n",
    "print('\\n\\nJust one layer:')\n",
    "print(tinymodel.linear2)\n",
    "\n",
    "print('\\n\\nModel params:')\n",
    "for param in tinymodel.parameters():\n",
    "    print(param)\n",
    "\n",
    "print('\\n\\nLayer params:')\n",
    "for param in tinymodel.linear2.parameters():\n",
    "    print(param)"
   ]
  },
  {
   "cell_type": "code",
   "execution_count": 19,
   "id": "03e8b6be",
   "metadata": {
    "ExecuteTime": {
     "end_time": "2023-10-25T00:48:13.750191Z",
     "start_time": "2023-10-25T00:48:13.744715Z"
    }
   },
   "outputs": [
    {
     "data": {
      "text/plain": [
       "<generator object Module.children at 0x2ac2f86caa40>"
      ]
     },
     "execution_count": 19,
     "metadata": {},
     "output_type": "execute_result"
    }
   ],
   "source": [
    "tinymodel.children()"
   ]
  },
  {
   "cell_type": "code",
   "execution_count": 21,
   "id": "e785697f",
   "metadata": {
    "ExecuteTime": {
     "end_time": "2023-10-25T00:51:21.305957Z",
     "start_time": "2023-10-25T00:51:21.299424Z"
    }
   },
   "outputs": [
    {
     "data": {
      "text/plain": [
       "ModuleList(\n",
       "  (0): Linear(in_features=100, out_features=200, bias=True)\n",
       "  (1): ReLU()\n",
       "  (2): Linear(in_features=200, out_features=10, bias=True)\n",
       "  (3): Softmax(dim=None)\n",
       ")"
      ]
     },
     "execution_count": 21,
     "metadata": {},
     "output_type": "execute_result"
    }
   ],
   "source": [
    " nn.ModuleList(tinymodel.children())[:-1]"
   ]
  },
  {
   "cell_type": "code",
   "execution_count": 22,
   "id": "2bfcff7e",
   "metadata": {
    "ExecuteTime": {
     "end_time": "2023-10-25T00:51:29.405503Z",
     "start_time": "2023-10-25T00:51:29.398910Z"
    }
   },
   "outputs": [
    {
     "data": {
      "text/plain": [
       "ModuleList(\n",
       "  (0): Linear(in_features=100, out_features=200, bias=True)\n",
       "  (1): ReLU()\n",
       "  (2): Linear(in_features=200, out_features=10, bias=True)\n",
       "  (3): Softmax(dim=None)\n",
       "  (4): Linear(in_features=100, out_features=200, bias=True)\n",
       ")"
      ]
     },
     "execution_count": 22,
     "metadata": {},
     "output_type": "execute_result"
    }
   ],
   "source": [
    "nn.ModuleList(tinymodel.children())[:]"
   ]
  },
  {
   "cell_type": "code",
   "execution_count": 31,
   "id": "afbdc921",
   "metadata": {
    "ExecuteTime": {
     "end_time": "2023-10-25T00:57:46.415081Z",
     "start_time": "2023-10-25T00:57:46.292485Z"
    }
   },
   "outputs": [
    {
     "name": "stdout",
     "output_type": "stream",
     "text": [
      "----------------------------------------------------------------\n",
      "        Layer (type)               Output Shape         Param #\n",
      "================================================================\n",
      "            Linear-1          [-1, 3, 100, 200]          20,200\n",
      "              ReLU-2          [-1, 3, 100, 200]               0\n",
      "            Linear-3           [-1, 3, 100, 10]           2,010\n",
      "           Softmax-4           [-1, 3, 100, 10]               0\n",
      "================================================================\n",
      "Total params: 22,210\n",
      "Trainable params: 22,210\n",
      "Non-trainable params: 0\n",
      "----------------------------------------------------------------\n",
      "Input size (MB): 0.11\n",
      "Forward/backward pass size (MB): 0.96\n",
      "Params size (MB): 0.08\n",
      "Estimated Total Size (MB): 1.16\n",
      "----------------------------------------------------------------\n"
     ]
    },
    {
     "name": "stderr",
     "output_type": "stream",
     "text": [
      "/wynton/home/ahituv/fongsl/.conda/envs/torch/lib/python3.6/site-packages/ipykernel_launcher.py:15: UserWarning: Implicit dimension choice for softmax has been deprecated. Change the call to include dim=X as an argument.\n",
      "  from ipykernel import kernelapp as app\n"
     ]
    }
   ],
   "source": [
    "summary(tinymodel, input_size=(3, 100, 100))"
   ]
  },
  {
   "cell_type": "code",
   "execution_count": null,
   "id": "af32dcb7",
   "metadata": {},
   "outputs": [],
   "source": []
  }
 ],
 "metadata": {
  "kernelspec": {
   "display_name": "torch",
   "language": "python",
   "name": "torch"
  },
  "language_info": {
   "codemirror_mode": {
    "name": "ipython",
    "version": 3
   },
   "file_extension": ".py",
   "mimetype": "text/x-python",
   "name": "python",
   "nbconvert_exporter": "python",
   "pygments_lexer": "ipython3",
   "version": "3.6.13"
  },
  "toc": {
   "base_numbering": 1,
   "nav_menu": {},
   "number_sections": true,
   "sideBar": true,
   "skip_h1_title": false,
   "title_cell": "Table of Contents",
   "title_sidebar": "Contents",
   "toc_cell": false,
   "toc_position": {},
   "toc_section_display": true,
   "toc_window_display": false
  },
  "varInspector": {
   "cols": {
    "lenName": 16,
    "lenType": 16,
    "lenVar": 40
   },
   "kernels_config": {
    "python": {
     "delete_cmd_postfix": "",
     "delete_cmd_prefix": "del ",
     "library": "var_list.py",
     "varRefreshCmd": "print(var_dic_list())"
    },
    "r": {
     "delete_cmd_postfix": ") ",
     "delete_cmd_prefix": "rm(",
     "library": "var_list.r",
     "varRefreshCmd": "cat(var_dic_list()) "
    }
   },
   "types_to_exclude": [
    "module",
    "function",
    "builtin_function_or_method",
    "instance",
    "_Feature"
   ],
   "window_display": false
  }
 },
 "nbformat": 4,
 "nbformat_minor": 5
}
