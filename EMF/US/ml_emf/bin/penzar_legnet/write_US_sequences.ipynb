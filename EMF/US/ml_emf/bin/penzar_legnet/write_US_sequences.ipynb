{
 "cells": [
  {
   "cell_type": "code",
   "execution_count": 1,
   "id": "9e1b68b3",
   "metadata": {
    "ExecuteTime": {
     "end_time": "2023-10-16T22:00:01.373149Z",
     "start_time": "2023-10-16T21:59:59.933990Z"
    }
   },
   "outputs": [],
   "source": [
    "import os, sys\n",
    "import pandas as pd"
   ]
  },
  {
   "cell_type": "code",
   "execution_count": 2,
   "id": "38d3306e",
   "metadata": {
    "ExecuteTime": {
     "end_time": "2023-10-16T22:00:01.379214Z",
     "start_time": "2023-10-16T22:00:01.375790Z"
    }
   },
   "outputs": [],
   "source": [
    "PATH = \"/wynton/home/ahituv/fongsl/EMF/US/data\"\n",
    "FA = os.path.join(PATH, \"ultrasound_final_no_adapter.fa\")\n",
    "OUT_PRE = os.path.join(PATH, \"US.seqs.txt\")\n",
    "OUT_ALL = os.path.join(PATH, \"US.seqs.all.tsv\")"
   ]
  },
  {
   "cell_type": "code",
   "execution_count": 3,
   "id": "92427039",
   "metadata": {
    "ExecuteTime": {
     "end_time": "2023-10-16T22:00:01.766122Z",
     "start_time": "2023-10-16T22:00:01.381185Z"
    }
   },
   "outputs": [],
   "source": [
    "# read the fasta file into \n",
    "fa_dict={}\n",
    "with open(FA, \"r\") as reader:\n",
    "    key = \"\"\n",
    "    for line in reader:\n",
    "        if \">\" in line:  # handle sequence id\n",
    "            key = (line.strip(\"\\n\")).split(\">\")[1]\n",
    "        else:  # handle actual sequence\n",
    "\n",
    "            fa_dict[key]=line.strip(\"\\n\")\n",
    "            key = \"\"\n"
   ]
  },
  {
   "cell_type": "code",
   "execution_count": 4,
   "id": "614d5485",
   "metadata": {
    "ExecuteTime": {
     "end_time": "2023-10-16T22:00:02.793378Z",
     "start_time": "2023-10-16T22:00:01.768616Z"
    }
   },
   "outputs": [
    {
     "data": {
      "text/html": [
       "<div>\n",
       "<style scoped>\n",
       "    .dataframe tbody tr th:only-of-type {\n",
       "        vertical-align: middle;\n",
       "    }\n",
       "\n",
       "    .dataframe tbody tr th {\n",
       "        vertical-align: top;\n",
       "    }\n",
       "\n",
       "    .dataframe thead th {\n",
       "        text-align: right;\n",
       "    }\n",
       "</style>\n",
       "<table border=\"1\" class=\"dataframe\">\n",
       "  <thead>\n",
       "    <tr style=\"text-align: right;\">\n",
       "      <th></th>\n",
       "      <th>seq.id</th>\n",
       "      <th>seq</th>\n",
       "    </tr>\n",
       "  </thead>\n",
       "  <tbody>\n",
       "    <tr>\n",
       "      <th>0</th>\n",
       "      <td>bj_k27ac_down_chr3:29837526-29837795</td>\n",
       "      <td>TAAAAGTTTGTACCCCCTCCCCGTCTGTATTGAGCTGCTCATGCAT...</td>\n",
       "    </tr>\n",
       "    <tr>\n",
       "      <th>1</th>\n",
       "      <td>bj_k27ac_down_chr3:29837260-29837529</td>\n",
       "      <td>AATATTTTTAAACTCTTTATATTGTTGTTTATTACTATTTCTTAAA...</td>\n",
       "    </tr>\n",
       "    <tr>\n",
       "      <th>2</th>\n",
       "      <td>bj_k27ac_down_chr3:29837792-29838061</td>\n",
       "      <td>CCTGAGTCATTTTCTTTTAAATGATGTATTTGTGCATTCCTTCATA...</td>\n",
       "    </tr>\n",
       "    <tr>\n",
       "      <th>3</th>\n",
       "      <td>bj_k27ac_down_chr3:29837392-29837661</td>\n",
       "      <td>TAGTTATAATTGTTATACATTTAGAACATTTAATCTGGATTTTTGT...</td>\n",
       "    </tr>\n",
       "    <tr>\n",
       "      <th>4</th>\n",
       "      <td>bj_k27ac_down_chr3:29837659-29837928</td>\n",
       "      <td>TGAACATATATATATATATATATATATATATATATATATATATATA...</td>\n",
       "    </tr>\n",
       "  </tbody>\n",
       "</table>\n",
       "</div>"
      ],
      "text/plain": [
       "                                 seq.id  \\\n",
       "0  bj_k27ac_down_chr3:29837526-29837795   \n",
       "1  bj_k27ac_down_chr3:29837260-29837529   \n",
       "2  bj_k27ac_down_chr3:29837792-29838061   \n",
       "3  bj_k27ac_down_chr3:29837392-29837661   \n",
       "4  bj_k27ac_down_chr3:29837659-29837928   \n",
       "\n",
       "                                                 seq  \n",
       "0  TAAAAGTTTGTACCCCCTCCCCGTCTGTATTGAGCTGCTCATGCAT...  \n",
       "1  AATATTTTTAAACTCTTTATATTGTTGTTTATTACTATTTCTTAAA...  \n",
       "2  CCTGAGTCATTTTCTTTTAAATGATGTATTTGTGCATTCCTTCATA...  \n",
       "3  TAGTTATAATTGTTATACATTTAGAACATTTAATCTGGATTTTTGT...  \n",
       "4  TGAACATATATATATATATATATATATATATATATATATATATATA...  "
      ]
     },
     "execution_count": 4,
     "metadata": {},
     "output_type": "execute_result"
    }
   ],
   "source": [
    "# make dataframe of sequences\n",
    "df = pd.DataFrame(fa_dict.items(), columns =[\"seq.id\", \"seq\"])\n",
    "\n",
    "df.head()"
   ]
  },
  {
   "cell_type": "code",
   "execution_count": 5,
   "id": "2c7d819c",
   "metadata": {
    "ExecuteTime": {
     "end_time": "2023-10-16T22:00:03.449484Z",
     "start_time": "2023-10-16T22:00:02.794986Z"
    }
   },
   "outputs": [],
   "source": [
    "# save only sequences to a file\n",
    "df[\"seq\"].to_csv(OUT_PRE, sep='\\t', header=None, index=None)"
   ]
  },
  {
   "cell_type": "code",
   "execution_count": 6,
   "id": "5408351f",
   "metadata": {
    "ExecuteTime": {
     "end_time": "2023-10-16T22:00:03.456126Z",
     "start_time": "2023-10-16T22:00:03.451833Z"
    }
   },
   "outputs": [
    {
     "data": {
      "text/plain": [
       "270"
      ]
     },
     "execution_count": 6,
     "metadata": {},
     "output_type": "execute_result"
    }
   ],
   "source": [
    "len(line.strip(\"\\n\"))"
   ]
  },
  {
   "cell_type": "code",
   "execution_count": 7,
   "id": "90a89fe8",
   "metadata": {
    "ExecuteTime": {
     "end_time": "2023-10-16T22:00:04.759090Z",
     "start_time": "2023-10-16T22:00:03.460706Z"
    }
   },
   "outputs": [
    {
     "data": {
      "text/html": [
       "<div>\n",
       "<style scoped>\n",
       "    .dataframe tbody tr th:only-of-type {\n",
       "        vertical-align: middle;\n",
       "    }\n",
       "\n",
       "    .dataframe tbody tr th {\n",
       "        vertical-align: top;\n",
       "    }\n",
       "\n",
       "    .dataframe thead th {\n",
       "        text-align: right;\n",
       "    }\n",
       "</style>\n",
       "<table border=\"1\" class=\"dataframe\">\n",
       "  <thead>\n",
       "    <tr style=\"text-align: right;\">\n",
       "      <th></th>\n",
       "      <th>seq.id</th>\n",
       "      <th>seq</th>\n",
       "    </tr>\n",
       "  </thead>\n",
       "  <tbody>\n",
       "    <tr>\n",
       "      <th>0</th>\n",
       "      <td>bj_k27ac_down_chr3:29837526-29837795</td>\n",
       "      <td>TAAAAGTTTGTACCCCCTCCCCGTCTGTATTGAGCTGCTCATGCAT...</td>\n",
       "    </tr>\n",
       "    <tr>\n",
       "      <th>1</th>\n",
       "      <td>bj_k27ac_down_chr3:29837260-29837529</td>\n",
       "      <td>AATATTTTTAAACTCTTTATATTGTTGTTTATTACTATTTCTTAAA...</td>\n",
       "    </tr>\n",
       "    <tr>\n",
       "      <th>2</th>\n",
       "      <td>bj_k27ac_down_chr3:29837792-29838061</td>\n",
       "      <td>CCTGAGTCATTTTCTTTTAAATGATGTATTTGTGCATTCCTTCATA...</td>\n",
       "    </tr>\n",
       "    <tr>\n",
       "      <th>3</th>\n",
       "      <td>bj_k27ac_down_chr3:29837392-29837661</td>\n",
       "      <td>TAGTTATAATTGTTATACATTTAGAACATTTAATCTGGATTTTTGT...</td>\n",
       "    </tr>\n",
       "    <tr>\n",
       "      <th>4</th>\n",
       "      <td>bj_k27ac_down_chr3:29837659-29837928</td>\n",
       "      <td>TGAACATATATATATATATATATATATATATATATATATATATATA...</td>\n",
       "    </tr>\n",
       "  </tbody>\n",
       "</table>\n",
       "</div>"
      ],
      "text/plain": [
       "                                 seq.id  \\\n",
       "0  bj_k27ac_down_chr3:29837526-29837795   \n",
       "1  bj_k27ac_down_chr3:29837260-29837529   \n",
       "2  bj_k27ac_down_chr3:29837792-29838061   \n",
       "3  bj_k27ac_down_chr3:29837392-29837661   \n",
       "4  bj_k27ac_down_chr3:29837659-29837928   \n",
       "\n",
       "                                                 seq  \n",
       "0  TAAAAGTTTGTACCCCCTCCCCGTCTGTATTGAGCTGCTCATGCAT...  \n",
       "1  AATATTTTTAAACTCTTTATATTGTTGTTTATTACTATTTCTTAAA...  \n",
       "2  CCTGAGTCATTTTCTTTTAAATGATGTATTTGTGCATTCCTTCATA...  \n",
       "3  TAGTTATAATTGTTATACATTTAGAACATTTAATCTGGATTTTTGT...  \n",
       "4  TGAACATATATATATATATATATATATATATATATATATATATATA...  "
      ]
     },
     "execution_count": 7,
     "metadata": {},
     "output_type": "execute_result"
    }
   ],
   "source": [
    "df.to_csv(OUT_ALL, sep='\\t', header=None, index=None)\n",
    "\n",
    "df.head()"
   ]
  },
  {
   "cell_type": "code",
   "execution_count": 9,
   "id": "bbf518af",
   "metadata": {
    "ExecuteTime": {
     "end_time": "2023-10-16T22:00:11.936284Z",
     "start_time": "2023-10-16T22:00:11.929702Z"
    }
   },
   "outputs": [
    {
     "data": {
      "text/plain": [
       "('/wynton/home/ahituv/fongsl/EMF/US/data/US.seqs.txt',\n",
       " '/wynton/home/ahituv/fongsl/EMF/US/data/US.seqs.all.tsv')"
      ]
     },
     "execution_count": 9,
     "metadata": {},
     "output_type": "execute_result"
    }
   ],
   "source": [
    "OUT_PRE, OUT_ALL"
   ]
  },
  {
   "cell_type": "code",
   "execution_count": null,
   "id": "34978d69",
   "metadata": {},
   "outputs": [],
   "source": []
  }
 ],
 "metadata": {
  "kernelspec": {
   "display_name": "torch",
   "language": "python",
   "name": "torch"
  },
  "language_info": {
   "codemirror_mode": {
    "name": "ipython",
    "version": 3
   },
   "file_extension": ".py",
   "mimetype": "text/x-python",
   "name": "python",
   "nbconvert_exporter": "python",
   "pygments_lexer": "ipython3",
   "version": "3.6.13"
  },
  "toc": {
   "base_numbering": 1,
   "nav_menu": {},
   "number_sections": true,
   "sideBar": true,
   "skip_h1_title": false,
   "title_cell": "Table of Contents",
   "title_sidebar": "Contents",
   "toc_cell": false,
   "toc_position": {},
   "toc_section_display": true,
   "toc_window_display": false
  },
  "varInspector": {
   "cols": {
    "lenName": 16,
    "lenType": 16,
    "lenVar": 40
   },
   "kernels_config": {
    "python": {
     "delete_cmd_postfix": "",
     "delete_cmd_prefix": "del ",
     "library": "var_list.py",
     "varRefreshCmd": "print(var_dic_list())"
    },
    "r": {
     "delete_cmd_postfix": ") ",
     "delete_cmd_prefix": "rm(",
     "library": "var_list.r",
     "varRefreshCmd": "cat(var_dic_list()) "
    }
   },
   "types_to_exclude": [
    "module",
    "function",
    "builtin_function_or_method",
    "instance",
    "_Feature"
   ],
   "window_display": false
  }
 },
 "nbformat": 4,
 "nbformat_minor": 5
}
