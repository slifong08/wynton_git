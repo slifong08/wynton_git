{
 "cells": [
  {
   "cell_type": "code",
   "execution_count": 4,
   "id": "b27935c5",
   "metadata": {
    "ExecuteTime": {
     "end_time": "2024-01-25T04:53:55.837315Z",
     "start_time": "2024-01-25T04:53:55.830819Z"
    }
   },
   "outputs": [
    {
     "data": {
      "text/plain": [
       "('sans-serif', 'Arial', 18)"
      ]
     },
     "execution_count": 4,
     "metadata": {},
     "output_type": "execute_result"
    }
   ],
   "source": [
    "import config_readwrite as crw\n",
    "import glob\n",
    "import matplotlib.pyplot as plt\n",
    "import numpy as np\n",
    "import os\n",
    "import pandas as pd\n",
    "\n",
    "from scipy import stats\n",
    "import seaborn as sns\n",
    "import statsmodels.api as sm\n",
    "import sys\n",
    "\n",
    "import warnings\n",
    "warnings.filterwarnings(\"ignore\")\n",
    "from statsmodels.formula.api import ols\n",
    "\n",
    "import plot_params as pp\n",
    "pp.fonts()"
   ]
  },
  {
   "cell_type": "code",
   "execution_count": 2,
   "id": "c8a663b6",
   "metadata": {
    "ExecuteTime": {
     "end_time": "2024-01-25T04:53:43.555602Z",
     "start_time": "2024-01-25T04:53:43.550515Z"
    }
   },
   "outputs": [],
   "source": [
    "CONFIG = \"/wynton/home/ahituv/fongsl/EMF/config.ini\"\n",
    "\n",
    "config, cfn = crw.read(CONFIG)\n",
    "\n",
    "RE = \"/wynton/home/ahituv/fongsl/EMF/results/\"\n",
    "RE_DDCT = os.path.join(RE, f\"*.ddCTs.tsv\")\n",
    "\n",
    "# go to datapath\n",
    "os.chdir(RE)"
   ]
  },
  {
   "cell_type": "code",
   "execution_count": 6,
   "id": "e988be6b",
   "metadata": {
    "ExecuteTime": {
     "end_time": "2024-01-25T04:54:04.014152Z",
     "start_time": "2024-01-25T04:54:04.010713Z"
    }
   },
   "outputs": [],
   "source": [
    "fs = glob.glob(RE_DDCT)"
   ]
  },
  {
   "cell_type": "code",
   "execution_count": 41,
   "id": "a9fd8f52",
   "metadata": {
    "ExecuteTime": {
     "end_time": "2024-01-25T05:46:53.917253Z",
     "start_time": "2024-01-25T05:46:53.866012Z"
    }
   },
   "outputs": [],
   "source": [
    "results = {}\n",
    "for f in fs:\n",
    "    results[f] = pd.read_csv(f, sep='\\t') \n",
    "    "
   ]
  },
  {
   "cell_type": "code",
   "execution_count": 42,
   "id": "ed263aa2",
   "metadata": {
    "ExecuteTime": {
     "end_time": "2024-01-25T05:46:54.716637Z",
     "start_time": "2024-01-25T05:46:54.249979Z"
    }
   },
   "outputs": [
    {
     "data": {
      "text/html": [
       "<div>\n",
       "<style scoped>\n",
       "    .dataframe tbody tr th:only-of-type {\n",
       "        vertical-align: middle;\n",
       "    }\n",
       "\n",
       "    .dataframe tbody tr th {\n",
       "        vertical-align: top;\n",
       "    }\n",
       "\n",
       "    .dataframe thead th {\n",
       "        text-align: right;\n",
       "    }\n",
       "</style>\n",
       "<table border=\"1\" class=\"dataframe\">\n",
       "  <thead>\n",
       "    <tr style=\"text-align: right;\">\n",
       "      <th></th>\n",
       "      <th>Well Position</th>\n",
       "      <th>CT</th>\n",
       "      <th>plate</th>\n",
       "      <th>primers</th>\n",
       "      <th>sample_name</th>\n",
       "      <th>rep</th>\n",
       "      <th>Experiment</th>\n",
       "      <th>Control_mean</th>\n",
       "      <th>dCT</th>\n",
       "      <th>Control_dCT_mean</th>\n",
       "      <th>ddCT</th>\n",
       "      <th>fold_change</th>\n",
       "      <th>control_gene</th>\n",
       "      <th>date</th>\n",
       "    </tr>\n",
       "  </thead>\n",
       "  <tbody>\n",
       "    <tr>\n",
       "      <th>0</th>\n",
       "      <td>B1</td>\n",
       "      <td>14.908525</td>\n",
       "      <td>plate1.xls</td>\n",
       "      <td>GAPDH</td>\n",
       "      <td>Control 30' exp1</td>\n",
       "      <td>1.0</td>\n",
       "      <td>1.0</td>\n",
       "      <td>26.109299</td>\n",
       "      <td>-11.200775</td>\n",
       "      <td>-11.398504</td>\n",
       "      <td>0.197730</td>\n",
       "      <td>0.871921</td>\n",
       "      <td>ACTB</td>\n",
       "      <td>20240123</td>\n",
       "    </tr>\n",
       "    <tr>\n",
       "      <th>1</th>\n",
       "      <td>B2</td>\n",
       "      <td>14.369675</td>\n",
       "      <td>plate1.xls</td>\n",
       "      <td>GAPDH</td>\n",
       "      <td>Control 30' exp1</td>\n",
       "      <td>2.0</td>\n",
       "      <td>1.0</td>\n",
       "      <td>26.109299</td>\n",
       "      <td>-11.739624</td>\n",
       "      <td>-11.398504</td>\n",
       "      <td>-0.341120</td>\n",
       "      <td>1.266740</td>\n",
       "      <td>ACTB</td>\n",
       "      <td>20240123</td>\n",
       "    </tr>\n",
       "    <tr>\n",
       "      <th>2</th>\n",
       "      <td>B3</td>\n",
       "      <td>15.763824</td>\n",
       "      <td>plate1.xls</td>\n",
       "      <td>GAPDH</td>\n",
       "      <td>Control 30' exp1</td>\n",
       "      <td>3.0</td>\n",
       "      <td>1.0</td>\n",
       "      <td>26.109299</td>\n",
       "      <td>-10.345476</td>\n",
       "      <td>-11.398504</td>\n",
       "      <td>1.053029</td>\n",
       "      <td>0.481955</td>\n",
       "      <td>ACTB</td>\n",
       "      <td>20240123</td>\n",
       "    </tr>\n",
       "    <tr>\n",
       "      <th>3</th>\n",
       "      <td>B4</td>\n",
       "      <td>13.756628</td>\n",
       "      <td>plate1.xls</td>\n",
       "      <td>GAPDH</td>\n",
       "      <td>PEMF 60' exp1</td>\n",
       "      <td>1.0</td>\n",
       "      <td>1.0</td>\n",
       "      <td>26.447333</td>\n",
       "      <td>-12.690705</td>\n",
       "      <td>-11.398504</td>\n",
       "      <td>-1.292200</td>\n",
       "      <td>2.449012</td>\n",
       "      <td>ACTB</td>\n",
       "      <td>20240123</td>\n",
       "    </tr>\n",
       "    <tr>\n",
       "      <th>4</th>\n",
       "      <td>B5</td>\n",
       "      <td>15.132206</td>\n",
       "      <td>plate1.xls</td>\n",
       "      <td>GAPDH</td>\n",
       "      <td>PEMF 60' exp1</td>\n",
       "      <td>2.0</td>\n",
       "      <td>1.0</td>\n",
       "      <td>26.447333</td>\n",
       "      <td>-11.315127</td>\n",
       "      <td>-11.398504</td>\n",
       "      <td>0.083378</td>\n",
       "      <td>0.943845</td>\n",
       "      <td>ACTB</td>\n",
       "      <td>20240123</td>\n",
       "    </tr>\n",
       "  </tbody>\n",
       "</table>\n",
       "</div>"
      ],
      "text/plain": [
       "  Well Position         CT       plate primers       sample_name  rep  \\\n",
       "0            B1  14.908525  plate1.xls   GAPDH  Control 30' exp1  1.0   \n",
       "1            B2  14.369675  plate1.xls   GAPDH  Control 30' exp1  2.0   \n",
       "2            B3  15.763824  plate1.xls   GAPDH  Control 30' exp1  3.0   \n",
       "3            B4  13.756628  plate1.xls   GAPDH     PEMF 60' exp1  1.0   \n",
       "4            B5  15.132206  plate1.xls   GAPDH     PEMF 60' exp1  2.0   \n",
       "\n",
       "   Experiment  Control_mean        dCT  Control_dCT_mean      ddCT  \\\n",
       "0         1.0     26.109299 -11.200775        -11.398504  0.197730   \n",
       "1         1.0     26.109299 -11.739624        -11.398504 -0.341120   \n",
       "2         1.0     26.109299 -10.345476        -11.398504  1.053029   \n",
       "3         1.0     26.447333 -12.690705        -11.398504 -1.292200   \n",
       "4         1.0     26.447333 -11.315127        -11.398504  0.083378   \n",
       "\n",
       "   fold_change control_gene      date  \n",
       "0     0.871921         ACTB  20240123  \n",
       "1     1.266740         ACTB  20240123  \n",
       "2     0.481955         ACTB  20240123  \n",
       "3     2.449012         ACTB  20240123  \n",
       "4     0.943845         ACTB  20240123  "
      ]
     },
     "execution_count": 42,
     "metadata": {},
     "output_type": "execute_result"
    }
   ],
   "source": [
    "df = pd.concat(results.values())\n",
    "df = df.loc[~df[\"primers\"].isna()]\n",
    "df.head()"
   ]
  },
  {
   "cell_type": "code",
   "execution_count": 43,
   "id": "8c8bd209",
   "metadata": {
    "ExecuteTime": {
     "end_time": "2024-01-25T05:46:55.282727Z",
     "start_time": "2024-01-25T05:46:55.277053Z"
    }
   },
   "outputs": [],
   "source": [
    "df.loc[(df[\"date\"]==20231115)&\n",
    "      (df[\"primers\"] == \"IL6\"), \"primer\"] = \"IL6-original \""
   ]
  },
  {
   "cell_type": "code",
   "execution_count": 44,
   "id": "8b6fe0f6",
   "metadata": {
    "ExecuteTime": {
     "end_time": "2024-01-25T05:46:55.739778Z",
     "start_time": "2024-01-25T05:46:55.734240Z"
    }
   },
   "outputs": [],
   "source": [
    "df.loc[(df[\"date\"]==20231212)&\n",
    "      (df[\"primers\"] == \"IL6\"), \"primers\"]=\"IL6-2\"\n",
    "#, \"primer\"] = \"IL6-original\""
   ]
  },
  {
   "cell_type": "code",
   "execution_count": 45,
   "id": "d04f5ffc",
   "metadata": {
    "ExecuteTime": {
     "end_time": "2024-01-25T05:48:11.713476Z",
     "start_time": "2024-01-25T05:48:11.708882Z"
    }
   },
   "outputs": [
    {
     "data": {
      "text/plain": [
       "{'ACTB',\n",
       " 'BGLAP',\n",
       " 'BMP2',\n",
       " 'COL1A1',\n",
       " 'GAPDH',\n",
       " 'HSP1A1',\n",
       " 'HSP70A',\n",
       " 'HSP70C',\n",
       " 'HSP70b',\n",
       " 'IL6',\n",
       " 'IL6-1',\n",
       " 'IL6-2',\n",
       " 'IL6-original ',\n",
       " 'No rt - IL6-2',\n",
       " 'VEGF',\n",
       " 'empty'}"
      ]
     },
     "execution_count": 45,
     "metadata": {},
     "output_type": "execute_result"
    }
   ],
   "source": [
    "set(df[\"primers\"])"
   ]
  },
  {
   "cell_type": "code",
   "execution_count": null,
   "id": "b31c440c",
   "metadata": {},
   "outputs": [],
   "source": []
  }
 ],
 "metadata": {
  "kernelspec": {
   "display_name": "Python (mamba)",
   "language": "python",
   "name": "mamba"
  },
  "language_info": {
   "codemirror_mode": {
    "name": "ipython",
    "version": 3
   },
   "file_extension": ".py",
   "mimetype": "text/x-python",
   "name": "python",
   "nbconvert_exporter": "python",
   "pygments_lexer": "ipython3",
   "version": "3.9.16"
  },
  "toc": {
   "base_numbering": 1,
   "nav_menu": {},
   "number_sections": true,
   "sideBar": true,
   "skip_h1_title": false,
   "title_cell": "Table of Contents",
   "title_sidebar": "Contents",
   "toc_cell": false,
   "toc_position": {},
   "toc_section_display": true,
   "toc_window_display": false
  },
  "varInspector": {
   "cols": {
    "lenName": 16,
    "lenType": 16,
    "lenVar": 40
   },
   "kernels_config": {
    "python": {
     "delete_cmd_postfix": "",
     "delete_cmd_prefix": "del ",
     "library": "var_list.py",
     "varRefreshCmd": "print(var_dic_list())"
    },
    "r": {
     "delete_cmd_postfix": ") ",
     "delete_cmd_prefix": "rm(",
     "library": "var_list.r",
     "varRefreshCmd": "cat(var_dic_list()) "
    }
   },
   "types_to_exclude": [
    "module",
    "function",
    "builtin_function_or_method",
    "instance",
    "_Feature"
   ],
   "window_display": false
  }
 },
 "nbformat": 4,
 "nbformat_minor": 5
}
