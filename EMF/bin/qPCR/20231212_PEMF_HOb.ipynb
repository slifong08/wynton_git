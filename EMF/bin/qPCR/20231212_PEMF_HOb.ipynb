{
 "cells": [
  {
   "cell_type": "code",
   "execution_count": 2,
   "id": "072b030e",
   "metadata": {
    "ExecuteTime": {
     "end_time": "2024-01-25T04:48:18.039626Z",
     "start_time": "2024-01-25T04:48:12.060542Z"
    }
   },
   "outputs": [],
   "source": [
    "import config_readwrite as crw\n",
    "import matplotlib.pyplot as plt\n",
    "import numpy as np\n",
    "import os\n",
    "import pandas as pd\n",
    "\n",
    "from scipy import stats\n",
    "import seaborn as sns\n",
    "import statsmodels.api as sm\n",
    "import sys\n",
    "\n",
    "import warnings\n",
    "warnings.filterwarnings(\"ignore\")\n",
    "from statsmodels.formula.api import ols"
   ]
  },
  {
   "cell_type": "markdown",
   "id": "6a30ad75",
   "metadata": {},
   "source": [
    "# read and write to config"
   ]
  },
  {
   "cell_type": "code",
   "execution_count": 25,
   "id": "d5a8ce96",
   "metadata": {
    "ExecuteTime": {
     "end_time": "2024-01-25T04:51:03.910860Z",
     "start_time": "2024-01-25T04:51:03.899421Z"
    }
   },
   "outputs": [],
   "source": [
    "CONFIG = \"/wynton/home/ahituv/fongsl/EMF/config.ini\"\n",
    "\n",
    "config, cfn = crw.read(CONFIG)\n",
    "\n",
    "DATE=\"20231212\"\n",
    "section = f\"{DATE}_PEMF_HOb\"\n",
    "crw.check(config, section)\n",
    "\n",
    "# read\n",
    "DATA_PATH = config[\"local_path\"][\"data\"]\n",
    "\n",
    "# load\n",
    "QPCR_PATH = os.path.join(DATA_PATH, \"qpcr\", section)\n",
    "MELT = \"HJL_2023-12-12_113307_MeltCurveResult_20231212_135235.xlsx\"\n",
    "RESULT = \"HJL_2023-12-12_113307_Result_20231212_135235.xlsx\"\n",
    "STANDARD_RESULT = \"HJL_2023-12-12_113307_Standard_Curve_Result_20231212_135233.xlsx\"\n",
    "COMBINED = \"qRT_PEMF.xlsx\"\n",
    "LABELS = f\"{DATE}_qPCR_labels.xlsx\"\n",
    "\n",
    "# write\n",
    "config[section][\"path\"] = QPCR_PATH\n",
    "config[section][\"melt\"] = f\"%(path)s/{MELT}\"\n",
    "config[section][\"result\"] = f\"%(path)s/{RESULT}\"\n",
    "config[section][\"standard_result\"] = f\"%(path)s/{STANDARD_RESULT}\"\n",
    "config[section][\"standard_result\"] = f\"%(path)s/{LABELS}\"\n",
    "config[section][\"plate_combined\"] = f\"%(path)s/{COMBINED}\"\n",
    "\n",
    "RE = \"/wynton/home/ahituv/fongsl/EMF/results/\"\n",
    "RE_DDCT = os.path.join(RE, f\"{DATE}.ddCTs.tsv\")\n",
    "\n",
    "crw.write(config, cfn)\n",
    "\n",
    "# go to datapath\n",
    "os.chdir(QPCR_PATH)"
   ]
  },
  {
   "cell_type": "markdown",
   "id": "539fd902",
   "metadata": {},
   "source": [
    "# labels"
   ]
  },
  {
   "cell_type": "code",
   "execution_count": 5,
   "id": "8bb99566",
   "metadata": {
    "ExecuteTime": {
     "end_time": "2024-01-25T04:48:29.789599Z",
     "start_time": "2024-01-25T04:48:29.141084Z"
    }
   },
   "outputs": [
    {
     "data": {
      "text/html": [
       "<div>\n",
       "<style scoped>\n",
       "    .dataframe tbody tr th:only-of-type {\n",
       "        vertical-align: middle;\n",
       "    }\n",
       "\n",
       "    .dataframe tbody tr th {\n",
       "        vertical-align: top;\n",
       "    }\n",
       "\n",
       "    .dataframe thead th {\n",
       "        text-align: right;\n",
       "    }\n",
       "</style>\n",
       "<table border=\"1\" class=\"dataframe\">\n",
       "  <thead>\n",
       "    <tr style=\"text-align: right;\">\n",
       "      <th></th>\n",
       "      <th>sample_id</th>\n",
       "      <th>sample_name</th>\n",
       "      <th>rep</th>\n",
       "      <th>plate</th>\n",
       "    </tr>\n",
       "  </thead>\n",
       "  <tbody>\n",
       "    <tr>\n",
       "      <th>0</th>\n",
       "      <td>S1</td>\n",
       "      <td>Control</td>\n",
       "      <td>1</td>\n",
       "      <td>1</td>\n",
       "    </tr>\n",
       "    <tr>\n",
       "      <th>1</th>\n",
       "      <td>S2</td>\n",
       "      <td>Control</td>\n",
       "      <td>2</td>\n",
       "      <td>1</td>\n",
       "    </tr>\n",
       "    <tr>\n",
       "      <th>2</th>\n",
       "      <td>S3</td>\n",
       "      <td>Control</td>\n",
       "      <td>3</td>\n",
       "      <td>1</td>\n",
       "    </tr>\n",
       "    <tr>\n",
       "      <th>3</th>\n",
       "      <td>S4</td>\n",
       "      <td>PEMF-physiostim</td>\n",
       "      <td>1</td>\n",
       "      <td>1</td>\n",
       "    </tr>\n",
       "    <tr>\n",
       "      <th>4</th>\n",
       "      <td>S5</td>\n",
       "      <td>PEMF-physiostim</td>\n",
       "      <td>2</td>\n",
       "      <td>1</td>\n",
       "    </tr>\n",
       "    <tr>\n",
       "      <th>5</th>\n",
       "      <td>S6</td>\n",
       "      <td>PEMF-physiostim</td>\n",
       "      <td>3</td>\n",
       "      <td>1</td>\n",
       "    </tr>\n",
       "    <tr>\n",
       "      <th>6</th>\n",
       "      <td>S10</td>\n",
       "      <td>PEMF-HF-physiostim</td>\n",
       "      <td>1</td>\n",
       "      <td>1</td>\n",
       "    </tr>\n",
       "    <tr>\n",
       "      <th>7</th>\n",
       "      <td>S11</td>\n",
       "      <td>PEMF-HF-physiostim</td>\n",
       "      <td>2</td>\n",
       "      <td>1</td>\n",
       "    </tr>\n",
       "    <tr>\n",
       "      <th>8</th>\n",
       "      <td>S12</td>\n",
       "      <td>PEMF-HF-physiostim</td>\n",
       "      <td>3</td>\n",
       "      <td>1</td>\n",
       "    </tr>\n",
       "  </tbody>\n",
       "</table>\n",
       "</div>"
      ],
      "text/plain": [
       "  sample_id         sample_name  rep  plate\n",
       "0        S1             Control    1      1\n",
       "1        S2             Control    2      1\n",
       "2        S3             Control    3      1\n",
       "3        S4     PEMF-physiostim    1      1\n",
       "4        S5     PEMF-physiostim    2      1\n",
       "5        S6     PEMF-physiostim    3      1\n",
       "6       S10  PEMF-HF-physiostim    1      1\n",
       "7       S11  PEMF-HF-physiostim    2      1\n",
       "8       S12  PEMF-HF-physiostim    3      1"
      ]
     },
     "execution_count": 5,
     "metadata": {},
     "output_type": "execute_result"
    }
   ],
   "source": [
    "sample=pd.read_excel(LABELS, sheet_name=\"sample\")\n",
    "sample = sample.rename(columns={\"Sample\":'sample_id',\n",
    "                               \"Sample_group\":\"sample_name\", \n",
    "                               \"Replicate_w\": \"rep\", \n",
    "                               \"Plate\":\"plate\"\n",
    "                              })\n",
    "sample"
   ]
  },
  {
   "cell_type": "markdown",
   "id": "446bf0bb",
   "metadata": {},
   "source": [
    "## function"
   ]
  },
  {
   "cell_type": "code",
   "execution_count": 6,
   "id": "54c21176",
   "metadata": {
    "ExecuteTime": {
     "end_time": "2024-01-25T04:48:31.714319Z",
     "start_time": "2024-01-25T04:48:31.709911Z"
    }
   },
   "outputs": [],
   "source": [
    "def plateToLongform(df, col_name):\n",
    "    \"\"\"transpose plate format into longform dataframe, name column\"\"\"\n",
    "    transpose={}\n",
    "    for n, row in df.iterrows():\n",
    "        transpose[n] = row\n",
    "    \n",
    "    # make dataframe\n",
    "    dfT = pd.DataFrame(pd.concat(transpose.values())).reset_index()\n",
    "\n",
    "    # rename columns\n",
    "    dfT.columns = [\"col_pos\", col_name]\n",
    "    return dfT\n",
    "    "
   ]
  },
  {
   "cell_type": "code",
   "execution_count": 7,
   "id": "30bf6247",
   "metadata": {
    "ExecuteTime": {
     "end_time": "2024-01-25T04:48:32.093092Z",
     "start_time": "2024-01-25T04:48:32.089257Z"
    }
   },
   "outputs": [],
   "source": [
    "def mergeDataFrames(df1, df2, col=None):\n",
    "    \"\"\"left merge two dataframes on index\"\"\"\n",
    "    \n",
    "    if col != None:\n",
    "        merged = pd.merge(df1, df2, on=col)\n",
    "    else:\n",
    "        merged = pd.merge(df1, df2, left_index=True, right_index=True)\n",
    "    return merged"
   ]
  },
  {
   "cell_type": "markdown",
   "id": "d4ee9f8a",
   "metadata": {},
   "source": [
    "## primers"
   ]
  },
  {
   "cell_type": "code",
   "execution_count": 8,
   "id": "293a9882",
   "metadata": {
    "ExecuteTime": {
     "end_time": "2024-01-25T04:48:33.884529Z",
     "start_time": "2024-01-25T04:48:33.855066Z"
    }
   },
   "outputs": [
    {
     "data": {
      "text/html": [
       "<div>\n",
       "<style scoped>\n",
       "    .dataframe tbody tr th:only-of-type {\n",
       "        vertical-align: middle;\n",
       "    }\n",
       "\n",
       "    .dataframe tbody tr th {\n",
       "        vertical-align: top;\n",
       "    }\n",
       "\n",
       "    .dataframe thead th {\n",
       "        text-align: right;\n",
       "    }\n",
       "</style>\n",
       "<table border=\"1\" class=\"dataframe\">\n",
       "  <thead>\n",
       "    <tr style=\"text-align: right;\">\n",
       "      <th></th>\n",
       "      <th>col_pos</th>\n",
       "      <th>primers</th>\n",
       "    </tr>\n",
       "  </thead>\n",
       "  <tbody>\n",
       "    <tr>\n",
       "      <th>0</th>\n",
       "      <td>1</td>\n",
       "      <td>IL6</td>\n",
       "    </tr>\n",
       "    <tr>\n",
       "      <th>1</th>\n",
       "      <td>2</td>\n",
       "      <td>NaN</td>\n",
       "    </tr>\n",
       "    <tr>\n",
       "      <th>2</th>\n",
       "      <td>3</td>\n",
       "      <td>NaN</td>\n",
       "    </tr>\n",
       "    <tr>\n",
       "      <th>3</th>\n",
       "      <td>4</td>\n",
       "      <td>NaN</td>\n",
       "    </tr>\n",
       "    <tr>\n",
       "      <th>4</th>\n",
       "      <td>5</td>\n",
       "      <td>NaN</td>\n",
       "    </tr>\n",
       "    <tr>\n",
       "      <th>...</th>\n",
       "      <td>...</td>\n",
       "      <td>...</td>\n",
       "    </tr>\n",
       "    <tr>\n",
       "      <th>91</th>\n",
       "      <td>8</td>\n",
       "      <td>ACTB</td>\n",
       "    </tr>\n",
       "    <tr>\n",
       "      <th>92</th>\n",
       "      <td>9</td>\n",
       "      <td>ACTB</td>\n",
       "    </tr>\n",
       "    <tr>\n",
       "      <th>93</th>\n",
       "      <td>10</td>\n",
       "      <td>ACTB</td>\n",
       "    </tr>\n",
       "    <tr>\n",
       "      <th>94</th>\n",
       "      <td>11</td>\n",
       "      <td>ACTB</td>\n",
       "    </tr>\n",
       "    <tr>\n",
       "      <th>95</th>\n",
       "      <td>12</td>\n",
       "      <td>ACTB</td>\n",
       "    </tr>\n",
       "  </tbody>\n",
       "</table>\n",
       "<p>96 rows × 2 columns</p>\n",
       "</div>"
      ],
      "text/plain": [
       "    col_pos primers\n",
       "0         1     IL6\n",
       "1         2     NaN\n",
       "2         3     NaN\n",
       "3         4     NaN\n",
       "4         5     NaN\n",
       "..      ...     ...\n",
       "91        8    ACTB\n",
       "92        9    ACTB\n",
       "93       10    ACTB\n",
       "94       11    ACTB\n",
       "95       12    ACTB\n",
       "\n",
       "[96 rows x 2 columns]"
      ]
     },
     "execution_count": 8,
     "metadata": {},
     "output_type": "execute_result"
    }
   ],
   "source": [
    "# assumes no header names\n",
    "primers=pd.read_excel(LABELS, sheet_name=\"platemap-primers\",header=None, names=np.arange(1,13))\n",
    "\n",
    "col_name=\"primers\"\n",
    "primersT= plateToLongform(primers, col_name)\n",
    "primersT.loc[primersT[\"primers\"]==\"Hsp70c\", 'primers'] = \"HSP70C\"\n",
    "primersT.loc[primersT[\"primers\"]==\"HSP70c\", 'primers'] = \"HSP70C\"\n",
    "primersT"
   ]
  },
  {
   "cell_type": "markdown",
   "id": "1ac8ed61",
   "metadata": {},
   "source": [
    "## cdna"
   ]
  },
  {
   "cell_type": "code",
   "execution_count": 9,
   "id": "344e74ad",
   "metadata": {
    "ExecuteTime": {
     "end_time": "2024-01-25T04:48:35.458127Z",
     "start_time": "2024-01-25T04:48:35.430925Z"
    }
   },
   "outputs": [
    {
     "data": {
      "text/html": [
       "<div>\n",
       "<style scoped>\n",
       "    .dataframe tbody tr th:only-of-type {\n",
       "        vertical-align: middle;\n",
       "    }\n",
       "\n",
       "    .dataframe tbody tr th {\n",
       "        vertical-align: top;\n",
       "    }\n",
       "\n",
       "    .dataframe thead th {\n",
       "        text-align: right;\n",
       "    }\n",
       "</style>\n",
       "<table border=\"1\" class=\"dataframe\">\n",
       "  <thead>\n",
       "    <tr style=\"text-align: right;\">\n",
       "      <th></th>\n",
       "      <th>col_pos</th>\n",
       "      <th>sample_id</th>\n",
       "    </tr>\n",
       "  </thead>\n",
       "  <tbody>\n",
       "    <tr>\n",
       "      <th>91</th>\n",
       "      <td>8</td>\n",
       "      <td>S12</td>\n",
       "    </tr>\n",
       "    <tr>\n",
       "      <th>92</th>\n",
       "      <td>9</td>\n",
       "      <td>S12</td>\n",
       "    </tr>\n",
       "    <tr>\n",
       "      <th>93</th>\n",
       "      <td>10</td>\n",
       "      <td>S11</td>\n",
       "    </tr>\n",
       "    <tr>\n",
       "      <th>94</th>\n",
       "      <td>11</td>\n",
       "      <td>S11</td>\n",
       "    </tr>\n",
       "    <tr>\n",
       "      <th>95</th>\n",
       "      <td>12</td>\n",
       "      <td>S11</td>\n",
       "    </tr>\n",
       "  </tbody>\n",
       "</table>\n",
       "</div>"
      ],
      "text/plain": [
       "    col_pos sample_id\n",
       "91        8       S12\n",
       "92        9       S12\n",
       "93       10       S11\n",
       "94       11       S11\n",
       "95       12       S11"
      ]
     },
     "execution_count": 9,
     "metadata": {},
     "output_type": "execute_result"
    }
   ],
   "source": [
    "cdna = pd.read_excel(LABELS, sheet_name=\"platemap-cdna\",\n",
    "                     header=None, names=np.arange(1, 13))\n",
    "\n",
    "col_name = \"sample_id\"\n",
    "cdnaT = plateToLongform(cdna, col_name)\n",
    "cdnaT.loc[cdnaT['sample_id']==\"empty\", 'sample_id'] = 'noRT'\n",
    "cdnaT.loc[cdnaT['sample_id'].isna(), 'sample_id'] = 'noRT'\n",
    "cdnaT.tail()"
   ]
  },
  {
   "cell_type": "markdown",
   "id": "fa960749",
   "metadata": {},
   "source": [
    "## results"
   ]
  },
  {
   "cell_type": "code",
   "execution_count": 10,
   "id": "ad846300",
   "metadata": {
    "ExecuteTime": {
     "end_time": "2024-01-25T04:48:36.737018Z",
     "start_time": "2024-01-25T04:48:36.649141Z"
    }
   },
   "outputs": [
    {
     "data": {
      "text/html": [
       "<div>\n",
       "<style scoped>\n",
       "    .dataframe tbody tr th:only-of-type {\n",
       "        vertical-align: middle;\n",
       "    }\n",
       "\n",
       "    .dataframe tbody tr th {\n",
       "        vertical-align: top;\n",
       "    }\n",
       "\n",
       "    .dataframe thead th {\n",
       "        text-align: right;\n",
       "    }\n",
       "</style>\n",
       "<table border=\"1\" class=\"dataframe\">\n",
       "  <thead>\n",
       "    <tr style=\"text-align: right;\">\n",
       "      <th></th>\n",
       "      <th>Well Position</th>\n",
       "      <th>Cq</th>\n",
       "    </tr>\n",
       "  </thead>\n",
       "  <tbody>\n",
       "    <tr>\n",
       "      <th>91</th>\n",
       "      <td>H8</td>\n",
       "      <td>26.069767</td>\n",
       "    </tr>\n",
       "    <tr>\n",
       "      <th>92</th>\n",
       "      <td>H9</td>\n",
       "      <td>26.412451</td>\n",
       "    </tr>\n",
       "    <tr>\n",
       "      <th>93</th>\n",
       "      <td>H10</td>\n",
       "      <td>26.266643</td>\n",
       "    </tr>\n",
       "    <tr>\n",
       "      <th>94</th>\n",
       "      <td>H11</td>\n",
       "      <td>26.721056</td>\n",
       "    </tr>\n",
       "    <tr>\n",
       "      <th>95</th>\n",
       "      <td>H12</td>\n",
       "      <td>26.572889</td>\n",
       "    </tr>\n",
       "  </tbody>\n",
       "</table>\n",
       "</div>"
      ],
      "text/plain": [
       "   Well Position         Cq\n",
       "91            H8  26.069767\n",
       "92            H9  26.412451\n",
       "93           H10  26.266643\n",
       "94           H11  26.721056\n",
       "95           H12  26.572889"
      ]
     },
     "execution_count": 10,
     "metadata": {},
     "output_type": "execute_result"
    }
   ],
   "source": [
    "plate1 = pd.read_excel(RESULT, skiprows=23, header=1, usecols = [\"Well Position\", \"Cq\"])\n",
    "\n",
    "# replace undetermined with None\n",
    "plate1.loc[plate1[\"Cq\"]==\"Undetermined\", \"Cq\"] = None\n",
    "plate1.tail()"
   ]
  },
  {
   "cell_type": "markdown",
   "id": "0492b35c",
   "metadata": {},
   "source": [
    "## merge"
   ]
  },
  {
   "cell_type": "code",
   "execution_count": 11,
   "id": "180bb1d5",
   "metadata": {
    "ExecuteTime": {
     "end_time": "2024-01-25T04:48:38.669835Z",
     "start_time": "2024-01-25T04:48:38.646133Z"
    }
   },
   "outputs": [
    {
     "data": {
      "text/html": [
       "<div>\n",
       "<style scoped>\n",
       "    .dataframe tbody tr th:only-of-type {\n",
       "        vertical-align: middle;\n",
       "    }\n",
       "\n",
       "    .dataframe tbody tr th {\n",
       "        vertical-align: top;\n",
       "    }\n",
       "\n",
       "    .dataframe thead th {\n",
       "        text-align: right;\n",
       "    }\n",
       "</style>\n",
       "<table border=\"1\" class=\"dataframe\">\n",
       "  <thead>\n",
       "    <tr style=\"text-align: right;\">\n",
       "      <th></th>\n",
       "      <th>Well Position</th>\n",
       "      <th>Cq</th>\n",
       "      <th>col_pos_x</th>\n",
       "      <th>primers</th>\n",
       "      <th>col_pos_y</th>\n",
       "      <th>sample_id</th>\n",
       "      <th>sample_name</th>\n",
       "      <th>rep</th>\n",
       "      <th>plate</th>\n",
       "    </tr>\n",
       "  </thead>\n",
       "  <tbody>\n",
       "    <tr>\n",
       "      <th>91</th>\n",
       "      <td>H8</td>\n",
       "      <td>26.069767</td>\n",
       "      <td>8</td>\n",
       "      <td>ACTB</td>\n",
       "      <td>8</td>\n",
       "      <td>S12</td>\n",
       "      <td>PEMF-HF-physiostim</td>\n",
       "      <td>3.0</td>\n",
       "      <td>1.0</td>\n",
       "    </tr>\n",
       "    <tr>\n",
       "      <th>92</th>\n",
       "      <td>H9</td>\n",
       "      <td>26.412451</td>\n",
       "      <td>9</td>\n",
       "      <td>ACTB</td>\n",
       "      <td>9</td>\n",
       "      <td>S12</td>\n",
       "      <td>PEMF-HF-physiostim</td>\n",
       "      <td>3.0</td>\n",
       "      <td>1.0</td>\n",
       "    </tr>\n",
       "    <tr>\n",
       "      <th>93</th>\n",
       "      <td>H10</td>\n",
       "      <td>26.266643</td>\n",
       "      <td>10</td>\n",
       "      <td>ACTB</td>\n",
       "      <td>10</td>\n",
       "      <td>S11</td>\n",
       "      <td>PEMF-HF-physiostim</td>\n",
       "      <td>2.0</td>\n",
       "      <td>1.0</td>\n",
       "    </tr>\n",
       "    <tr>\n",
       "      <th>94</th>\n",
       "      <td>H11</td>\n",
       "      <td>26.721056</td>\n",
       "      <td>11</td>\n",
       "      <td>ACTB</td>\n",
       "      <td>11</td>\n",
       "      <td>S11</td>\n",
       "      <td>PEMF-HF-physiostim</td>\n",
       "      <td>2.0</td>\n",
       "      <td>1.0</td>\n",
       "    </tr>\n",
       "    <tr>\n",
       "      <th>95</th>\n",
       "      <td>H12</td>\n",
       "      <td>26.572889</td>\n",
       "      <td>12</td>\n",
       "      <td>ACTB</td>\n",
       "      <td>12</td>\n",
       "      <td>S11</td>\n",
       "      <td>PEMF-HF-physiostim</td>\n",
       "      <td>2.0</td>\n",
       "      <td>1.0</td>\n",
       "    </tr>\n",
       "  </tbody>\n",
       "</table>\n",
       "</div>"
      ],
      "text/plain": [
       "   Well Position         Cq  col_pos_x primers  col_pos_y sample_id  \\\n",
       "91            H8  26.069767          8    ACTB          8       S12   \n",
       "92            H9  26.412451          9    ACTB          9       S12   \n",
       "93           H10  26.266643         10    ACTB         10       S11   \n",
       "94           H11  26.721056         11    ACTB         11       S11   \n",
       "95           H12  26.572889         12    ACTB         12       S11   \n",
       "\n",
       "           sample_name  rep  plate  \n",
       "91  PEMF-HF-physiostim  3.0    1.0  \n",
       "92  PEMF-HF-physiostim  3.0    1.0  \n",
       "93  PEMF-HF-physiostim  2.0    1.0  \n",
       "94  PEMF-HF-physiostim  2.0    1.0  \n",
       "95  PEMF-HF-physiostim  2.0    1.0  "
      ]
     },
     "execution_count": 11,
     "metadata": {},
     "output_type": "execute_result"
    }
   ],
   "source": [
    "### primer information\n",
    "\n",
    "df = mergeDataFrames(plate1, primersT)\n",
    "\n",
    "### sample information\n",
    "\n",
    "df = mergeDataFrames(df, cdnaT)\n",
    "\n",
    "### sample name\n",
    "\n",
    "df = pd.merge(df, sample, how=\"left\", on=\"sample_id\")\n",
    "df[\"sample_name\"] = df[\"sample_name\"].fillna(\"noRT\")\n",
    "df.tail()"
   ]
  },
  {
   "cell_type": "markdown",
   "id": "a3125de6",
   "metadata": {},
   "source": [
    "# results "
   ]
  },
  {
   "cell_type": "markdown",
   "id": "354c579e",
   "metadata": {},
   "source": [
    "## ct values"
   ]
  },
  {
   "cell_type": "code",
   "execution_count": 12,
   "id": "8b503370",
   "metadata": {
    "ExecuteTime": {
     "end_time": "2024-01-25T04:48:43.748857Z",
     "start_time": "2024-01-25T04:48:42.464499Z"
    }
   },
   "outputs": [
    {
     "data": {
      "text/plain": [
       "<Axes: xlabel='sample_name', ylabel='Cq'>"
      ]
     },
     "execution_count": 12,
     "metadata": {},
     "output_type": "execute_result"
    },
    {
     "data": {
      "image/png": "[encoded data removed]",
      "text/plain": [
       "<Figure size 640x480 with 1 Axes>"
      ]
     },
     "metadata": {},
     "output_type": "display_data"
    }
   ],
   "source": [
    "x=\"sample_name\"\n",
    "y=\"Cq\"\n",
    "data=df.loc[df[\"col_pos_x\"].astype(int)!= 12]\n",
    "hue=\"primers\"\n",
    "sns.swarmplot(x=x, y=y, data=data, hue=hue)"
   ]
  },
  {
   "cell_type": "code",
   "execution_count": 13,
   "id": "0dd07980",
   "metadata": {
    "ExecuteTime": {
     "end_time": "2024-01-25T04:48:45.817576Z",
     "start_time": "2024-01-25T04:48:44.606267Z"
    }
   },
   "outputs": [
    {
     "data": {
      "text/plain": [
       "<Axes: xlabel='sample_name', ylabel='Cq'>"
      ]
     },
     "execution_count": 13,
     "metadata": {},
     "output_type": "execute_result"
    },
    {
     "data": {
      "image/png": "[encoded data removed]",
      "text/plain": [
       "<Figure size 640x480 with 1 Axes>"
      ]
     },
     "metadata": {},
     "output_type": "display_data"
    }
   ],
   "source": [
    "x=\"sample_name\"\n",
    "y=\"Cq\"\n",
    "data=df.loc[df[\"col_pos_x\"].astype(int)!= 4]\n",
    "hue=\"primers\"\n",
    "sns.swarmplot(x=x, y=y, data=data, hue=hue)"
   ]
  },
  {
   "cell_type": "markdown",
   "id": "cf330aba",
   "metadata": {},
   "source": [
    "## ANOVA"
   ]
  },
  {
   "cell_type": "code",
   "execution_count": 14,
   "id": "2d738d3b",
   "metadata": {
    "ExecuteTime": {
     "end_time": "2024-01-25T04:48:53.022127Z",
     "start_time": "2024-01-25T04:48:52.977565Z"
    }
   },
   "outputs": [
    {
     "name": "stdout",
     "output_type": "stream",
     "text": [
      "                            OLS Regression Results                            \n",
      "==============================================================================\n",
      "Dep. Variable:                     Cq   R-squared:                       0.976\n",
      "Model:                            OLS   Adj. R-squared:                  0.970\n",
      "Method:                 Least Squares   F-statistic:                     174.2\n",
      "Date:                Wed, 24 Jan 2024   Prob (F-statistic):           2.04e-46\n",
      "Time:                        20:48:53   Log-Likelihood:                 9.9712\n",
      "No. Observations:                  81   AIC:                             12.06\n",
      "Df Residuals:                      65   BIC:                             50.37\n",
      "Df Model:                          15                                         \n",
      "Covariance Type:            nonrobust                                         \n",
      "========================================================================================================\n",
      "                                           coef    std err          t      P>|t|      [0.025      0.975]\n",
      "--------------------------------------------------------------------------------------------------------\n",
      "Intercept                               26.4921      0.178    148.822      0.000      26.137      26.848\n",
      "C(col_pos_x)[T.10]                      -0.0675      0.207     -0.326      0.745      -0.481       0.346\n",
      "C(col_pos_x)[T.11]                       0.2522      0.207      1.220      0.227      -0.161       0.665\n",
      "C(col_pos_x)[T.12]                       0.5908      0.207      2.857      0.006       0.178       1.004\n",
      "C(col_pos_x)[T.2]                        0.0060      0.138      0.043      0.966      -0.269       0.281\n",
      "C(col_pos_x)[T.3]                       -0.2082      0.138     -1.510      0.136      -0.484       0.067\n",
      "C(col_pos_x)[T.4]                       -0.2355      0.178     -1.323      0.191      -0.591       0.120\n",
      "C(col_pos_x)[T.5]                       -0.4130      0.178     -2.320      0.023      -0.769      -0.058\n",
      "C(col_pos_x)[T.6]                       -0.1912      0.178     -1.074      0.287      -0.547       0.164\n",
      "C(col_pos_x)[T.7]                        0.0886      0.184      0.481      0.632      -0.279       0.457\n",
      "C(col_pos_x)[T.8]                        0.1167      0.184      0.633      0.529      -0.251       0.485\n",
      "C(col_pos_x)[T.9]                        0.1900      0.184      1.031      0.306      -0.178       0.558\n",
      "C(primers)[T.HSP70C]                    -1.7931      0.152    -11.763      0.000      -2.098      -1.489\n",
      "C(primers)[T.IL6]                        1.4365      0.152      9.424      0.000       1.132       1.741\n",
      "C(sample_name)[T.PEMF-HF-physiostim]    -0.3837      0.126     -3.048      0.003      -0.635      -0.132\n",
      "C(sample_name)[T.PEMF-physiostim]        0.0833      0.113      0.740      0.462      -0.141       0.308\n",
      "==============================================================================\n",
      "Omnibus:                       19.567   Durbin-Watson:                   1.551\n",
      "Prob(Omnibus):                  0.000   Jarque-Bera (JB):               57.214\n",
      "Skew:                           0.663   Prob(JB):                     3.77e-13\n",
      "Kurtosis:                       6.898   Cond. No.                         23.1\n",
      "==============================================================================\n",
      "\n",
      "Notes:\n",
      "[1] Standard Errors assume that the covariance matrix of the errors is correctly specified.\n"
     ]
    }
   ],
   "source": [
    "test = df.loc[df[\"Cq\"].astype(str)!=\"None\"].copy()\n",
    "\n",
    "# change datatypes\n",
    "test[[\"col_pos_x\", \"primers\", \"sample_id\"]] = test[[\"col_pos_x\", \"primers\", \"sample_id\"]].astype(str) \n",
    "\n",
    "test[\"Cq\"] = test[\"Cq\"].astype(float)\n",
    "test = sm.add_constant(test)\n",
    "\n",
    "mod = ols(\"Cq ~ C(col_pos_x) + C(primers) + C(sample_name)\" , data=test)\n",
    "res = mod.fit()\n",
    "print(res.summary())"
   ]
  },
  {
   "cell_type": "code",
   "execution_count": 15,
   "id": "9ffaf666",
   "metadata": {
    "ExecuteTime": {
     "end_time": "2024-01-25T04:48:55.542258Z",
     "start_time": "2024-01-25T04:48:53.583606Z"
    }
   },
   "outputs": [
    {
     "data": {
      "image/png": "[encoded data removed]",
      "text/plain": [
       "<Figure size 640x480 with 1 Axes>"
      ]
     },
     "metadata": {},
     "output_type": "display_data"
    }
   ],
   "source": [
    "x=\"sample_name\"\n",
    "y=\"Cq\"\n",
    "data=df.loc[~df[\"col_pos_x\"].isin([4, 12])]\n",
    "hue=\"primers\"\n",
    "sns.swarmplot(x=x, y=y, data=data, hue=hue)\n",
    "plt.savefig(os.path.join(RE, \"20231218_Cq_vals\"), bbox_inches=\"tight\")"
   ]
  },
  {
   "cell_type": "code",
   "execution_count": null,
   "id": "1db4192b",
   "metadata": {
    "ExecuteTime": {
     "end_time": "2024-01-25T04:48:55.615028Z",
     "start_time": "2024-01-25T04:48:55.615003Z"
    }
   },
   "outputs": [],
   "source": [
    "x=\"col_pos_x\"\n",
    "y=\"Cq\"\n",
    "data=df\n",
    "hue=\"primers\"\n",
    "sns.scatterplot(x=x, y=y, data=data, hue=hue)"
   ]
  },
  {
   "cell_type": "code",
   "execution_count": 16,
   "id": "a34d65bc",
   "metadata": {
    "ExecuteTime": {
     "end_time": "2024-01-25T04:48:59.008460Z",
     "start_time": "2024-01-25T04:48:59.003211Z"
    }
   },
   "outputs": [],
   "source": [
    "def computeCT(df, control_gene):\n",
    "\n",
    "    # mean ACTB CT per sample\n",
    "    mean_ctrl = df[df['primers'] == control_gene].groupby('sample_name')['Cq'].mean().reset_index()\n",
    "\n",
    "    # rename columns\n",
    "    mean_ctrl.rename(columns={'Cq': 'Control_mean'}, inplace=True)\n",
    "\n",
    "    # Merge mean ACTB values per sample\n",
    "    test = pd.merge(df, mean_ctrl, on='sample_name', how='left')\n",
    "\n",
    "    # dCT = obs CT - ACTB mean CT\n",
    "    test['dCT'] = test['Cq'] - test['Control_mean']\n",
    "\n",
    "    # mean dCT per gene for control sample\n",
    "    control_dCTs = test[test['sample_name'] == 'Control'].groupby(['primers'])['dCT'].mean().reset_index()  \n",
    "\n",
    "    # rename columns\n",
    "    control_dCTs.rename(columns={'dCT': 'Control_dCT_mean'}, inplace=True)\n",
    "\n",
    "    # Merge control sample dCT values per gene\n",
    "    test = pd.merge(test, control_dCTs, on='primers', how='left')\n",
    "    test\n",
    "\n",
    "    # ddCT = mean(dCT) sample - mean(dCT) control sample\n",
    "    test['ddCT'] = test['dCT'] - test['Control_dCT_mean']\n",
    "\n",
    "    # Assuming 'test' contains the 'ddCT' values for each gene\n",
    "\n",
    "    # Calculate fold change using the formula 2^(-ddCT)\n",
    "    test['fold_change'] = 2 ** (-test['ddCT'])\n",
    "    \n",
    "    return test"
   ]
  },
  {
   "cell_type": "markdown",
   "id": "43a5080b",
   "metadata": {},
   "source": [
    "## compute ddCT with all datapoints"
   ]
  },
  {
   "cell_type": "markdown",
   "id": "e35f102f",
   "metadata": {},
   "source": [
    "### ACTB"
   ]
  },
  {
   "cell_type": "code",
   "execution_count": 17,
   "id": "d16074ef",
   "metadata": {
    "ExecuteTime": {
     "end_time": "2024-01-25T04:49:04.217113Z",
     "start_time": "2024-01-25T04:49:04.197447Z"
    }
   },
   "outputs": [],
   "source": [
    "control_gene='ACTB'\n",
    "df_ = computeCT(df, control_gene)"
   ]
  },
  {
   "cell_type": "code",
   "execution_count": 19,
   "id": "808fe049",
   "metadata": {
    "ExecuteTime": {
     "end_time": "2024-01-25T04:49:28.317944Z",
     "start_time": "2024-01-25T04:49:20.100989Z"
    }
   },
   "outputs": [
    {
     "name": "stdout",
     "output_type": "stream",
     "text": [
      "PEMF v. ctrl IL6 Ttest_indResult(statistic=3.219576002226698, pvalue=0.005352840692407388)\n",
      "PEMF-HF v. ctrl IL6 Ttest_indResult(statistic=-3.35133072653635, pvalue=0.004055892865835964)\n"
     ]
    },
    {
     "data": {
      "image/png": "[encoded data removed]",
      "text/plain": [
       "<Figure size 500x500 with 1 Axes>"
      ]
     },
     "metadata": {},
     "output_type": "display_data"
    },
    {
     "name": "stdout",
     "output_type": "stream",
     "text": [
      "PEMF v. ctrl ACTB Ttest_indResult(statistic=-1.4491724774177107e-14, pvalue=0.9999999999999887)\n",
      "PEMF-HF v. ctrl ACTB Ttest_indResult(statistic=0.0, pvalue=1.0)\n"
     ]
    },
    {
     "data": {
      "image/png": "[encoded data removed]",
      "text/plain": [
       "<Figure size 500x500 with 1 Axes>"
      ]
     },
     "metadata": {},
     "output_type": "display_data"
    },
    {
     "name": "stdout",
     "output_type": "stream",
     "text": [
      "PEMF v. ctrl HSP70C Ttest_indResult(statistic=2.590881194717395, pvalue=0.019702219885485494)\n",
      "PEMF-HF v. ctrl HSP70C Ttest_indResult(statistic=-3.881859756849358, pvalue=0.0013233992694796442)\n"
     ]
    },
    {
     "data": {
      "image/png": "[encoded data removed]",
      "text/plain": [
       "<Figure size 500x500 with 1 Axes>"
      ]
     },
     "metadata": {},
     "output_type": "display_data"
    }
   ],
   "source": [
    "# Assuming 'df_' contains the 'fold_change' values, and you want to create a boxplot with points\n",
    "\n",
    "# Set up the boxplot and swarmplot using Seaborn\n",
    "\n",
    "for gene in set(df_['primers']):\n",
    "    if str(gene) != \"nan\":\n",
    "        fig, ax = plt.subplots(figsize=(5, 5))\n",
    "\n",
    "        # get gene-specific df\n",
    "        data_ = df_.loc[(df_['sample_name'] != \"noRT\") &\n",
    "                        (df_[\"primers\"] == gene)\n",
    "                        ].copy()\n",
    "        data_.loc[data_[\"sample_name\"] == \"PEMF-HF-physiostim\",\n",
    "                  \"sample_name\"] = \"PEMF-HF-physiostim.l1\"\n",
    "\n",
    "        # groupby sample_name, rep\n",
    "        # take mean fold change across technical qPCR reps\n",
    "        plot = data_.groupby([\"sample_name\", \"primers\", \"rep\"])[\n",
    "            \"fold_change\"].mean().reset_index()\n",
    "\n",
    "       \n",
    "        print(\"PEMF v. ctrl\", gene,\n",
    "              stats.ttest_ind(data_.loc[data_[\"sample_name\"] == \"Control\", \"dCT\"].to_list(),\n",
    "                              data_.loc[data_[\"sample_name\"] == \"PEMF-physiostim\", \"dCT\"].to_list()))\n",
    "        print(\"PEMF-HF v. ctrl\", gene,\n",
    "              stats.ttest_ind(data_.loc[data_[\"sample_name\"] == \"Control\", \"dCT\"].to_list(),\n",
    "                              data_.loc[data_[\"sample_name\"] == \"PEMF-HF-physiostim.l1\", \"dCT\"].to_list()))\n",
    "        x = \"sample_name\"\n",
    "        y = 'fold_change'\n",
    "        hue = \"rep\"\n",
    "        order = [\n",
    "            # 'Control',\n",
    "            'PEMF-physiostim', 'PEMF-HF-physiostim.l1']\n",
    "        data = plot\n",
    "\n",
    "        sns.boxplot(data=data,\n",
    "                    x=x, y=y,\n",
    "                    order=order,\n",
    "                    color=\"grey\",\n",
    "\n",
    "                    )\n",
    "\n",
    "        sns.swarmplot(data=data, x=x, y=y,\n",
    "                      hue=hue,\n",
    "                      palette=\"Set2\",\n",
    "                      order=order,\n",
    "                      alpha=0.8)\n",
    "\n",
    "        ax.set(xlabel='',\n",
    "               ylabel='Fold Change (ddCT)',\n",
    "               title=gene,\n",
    "\n",
    "               )\n",
    "        ax.axhline(1, ls=\"--\", color=\"grey\", alpha=0.2)\n",
    "        # plt.legend(title='replicate', bbox_to_anchor=(1, 1))\n",
    "\n",
    "        plt.savefig(os.path.join(\n",
    "            RE, f\"{DATE}_.{gene}.pdf\"), bbox_inches=\"tight\")\n",
    "\n",
    "        # Show the plot\n",
    "        plt.show()"
   ]
  },
  {
   "cell_type": "code",
   "execution_count": 20,
   "id": "073e2920",
   "metadata": {
    "ExecuteTime": {
     "end_time": "2024-01-25T04:49:53.433128Z",
     "start_time": "2024-01-25T04:49:53.429946Z"
    }
   },
   "outputs": [],
   "source": [
    "write_cols = ['Well Position',\n",
    "              'CT',\n",
    "              'plate',\n",
    "              'primers',\n",
    "              'sample_name',\n",
    "              'rep',\n",
    "              'Experiment',\n",
    "              'Control_mean',\n",
    "              'dCT',\n",
    "              'Control_dCT_mean',\n",
    "              'ddCT',\n",
    "              'fold_change', \n",
    "             \"control_gene\", \n",
    "             \"date\"]\n"
   ]
  },
  {
   "cell_type": "code",
   "execution_count": 26,
   "id": "77a417c1",
   "metadata": {
    "ExecuteTime": {
     "end_time": "2024-01-25T04:51:25.389652Z",
     "start_time": "2024-01-25T04:51:25.348411Z"
    }
   },
   "outputs": [],
   "source": [
    "df_.rename(columns={\"plate_x\": \"plate\", \"Cq\": \"CT\"}, inplace=True)\n",
    "df_[\"control_gene\"]= control_gene\n",
    "df_['Experiment'] = 2\n",
    "df_[\"date\"] = DATE\n",
    "df_[write_cols].to_csv(RE_DDCT, sep='\\t', index=False)"
   ]
  },
  {
   "cell_type": "code",
   "execution_count": null,
   "id": "98ba0321",
   "metadata": {},
   "outputs": [],
   "source": []
  }
 ],
 "metadata": {
  "kernelspec": {
   "display_name": "Python (mamba)",
   "language": "python",
   "name": "mamba"
  },
  "language_info": {
   "codemirror_mode": {
    "name": "ipython",
    "version": 3
   },
   "file_extension": ".py",
   "mimetype": "text/x-python",
   "name": "python",
   "nbconvert_exporter": "python",
   "pygments_lexer": "ipython3",
   "version": "3.9.16"
  },
  "toc": {
   "base_numbering": 1,
   "nav_menu": {},
   "number_sections": true,
   "sideBar": true,
   "skip_h1_title": false,
   "title_cell": "Table of Contents",
   "title_sidebar": "Contents",
   "toc_cell": false,
   "toc_position": {},
   "toc_section_display": true,
   "toc_window_display": false
  },
  "varInspector": {
   "cols": {
    "lenName": 16,
    "lenType": 16,
    "lenVar": 40
   },
   "kernels_config": {
    "python": {
     "delete_cmd_postfix": "",
     "delete_cmd_prefix": "del ",
     "library": "var_list.py",
     "varRefreshCmd": "print(var_dic_list())"
    },
    "r": {
     "delete_cmd_postfix": ") ",
     "delete_cmd_prefix": "rm(",
     "library": "var_list.r",
     "varRefreshCmd": "cat(var_dic_list()) "
    }
   },
   "types_to_exclude": [
    "module",
    "function",
    "builtin_function_or_method",
    "instance",
    "_Feature"
   ],
   "window_display": false
  }
 },
 "nbformat": 4,
 "nbformat_minor": 5
}
