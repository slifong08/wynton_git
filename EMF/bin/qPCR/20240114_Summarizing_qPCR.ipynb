{
 "cells": [
  {
   "cell_type": "code",
   "execution_count": 2,
   "id": "b27935c5",
   "metadata": {
    "ExecuteTime": {
     "end_time": "2024-01-25T18:19:06.768491Z",
     "start_time": "2024-01-25T18:18:54.757569Z"
    }
   },
   "outputs": [
    {
     "data": {
      "text/plain": [
       "('sans-serif', 'Arial', 18)"
      ]
     },
     "execution_count": 2,
     "metadata": {},
     "output_type": "execute_result"
    }
   ],
   "source": [
    "import config_readwrite as crw\n",
    "import glob\n",
    "import matplotlib.pyplot as plt\n",
    "import numpy as np\n",
    "import os\n",
    "import pandas as pd\n",
    "\n",
    "from scipy import stats\n",
    "import seaborn as sns\n",
    "import statsmodels.api as sm\n",
    "import sys\n",
    "\n",
    "import warnings\n",
    "warnings.filterwarnings(\"ignore\")\n",
    "from statsmodels.formula.api import ols\n",
    "\n",
    "import plot_params as pp\n",
    "pp.fonts()"
   ]
  },
  {
   "cell_type": "code",
   "execution_count": 3,
   "id": "c8a663b6",
   "metadata": {
    "ExecuteTime": {
     "end_time": "2024-01-25T18:19:06.787082Z",
     "start_time": "2024-01-25T18:19:06.771109Z"
    }
   },
   "outputs": [],
   "source": [
    "CONFIG = \"/wynton/home/ahituv/fongsl/EMF/config.ini\"\n",
    "\n",
    "config, cfn = crw.read(CONFIG)\n",
    "\n",
    "RE = \"/wynton/home/ahituv/fongsl/EMF/results/\"\n",
    "RE_DDCT = os.path.join(RE, f\"*.ddCTs.tsv\")\n",
    "\n",
    "# go to datapath\n",
    "os.chdir(RE)"
   ]
  },
  {
   "cell_type": "code",
   "execution_count": 4,
   "id": "e988be6b",
   "metadata": {
    "ExecuteTime": {
     "end_time": "2024-01-25T18:19:07.258400Z",
     "start_time": "2024-01-25T18:19:06.788729Z"
    }
   },
   "outputs": [],
   "source": [
    "fs = glob.glob(RE_DDCT)"
   ]
  },
  {
   "cell_type": "code",
   "execution_count": 5,
   "id": "a9fd8f52",
   "metadata": {
    "ExecuteTime": {
     "end_time": "2024-01-25T18:19:08.053191Z",
     "start_time": "2024-01-25T18:19:07.260269Z"
    }
   },
   "outputs": [],
   "source": [
    "results = {}\n",
    "for f in fs:\n",
    "    results[f] = pd.read_csv(f, sep='\\t') \n",
    "    "
   ]
  },
  {
   "cell_type": "code",
   "execution_count": 6,
   "id": "ed263aa2",
   "metadata": {
    "ExecuteTime": {
     "end_time": "2024-01-25T18:19:08.898547Z",
     "start_time": "2024-01-25T18:19:08.056219Z"
    }
   },
   "outputs": [
    {
     "data": {
      "text/html": [
       "<div>\n",
       "<style scoped>\n",
       "    .dataframe tbody tr th:only-of-type {\n",
       "        vertical-align: middle;\n",
       "    }\n",
       "\n",
       "    .dataframe tbody tr th {\n",
       "        vertical-align: top;\n",
       "    }\n",
       "\n",
       "    .dataframe thead th {\n",
       "        text-align: right;\n",
       "    }\n",
       "</style>\n",
       "<table border=\"1\" class=\"dataframe\">\n",
       "  <thead>\n",
       "    <tr style=\"text-align: right;\">\n",
       "      <th></th>\n",
       "      <th>Well Position</th>\n",
       "      <th>CT</th>\n",
       "      <th>plate</th>\n",
       "      <th>primers</th>\n",
       "      <th>sample_name</th>\n",
       "      <th>rep</th>\n",
       "      <th>Experiment</th>\n",
       "      <th>Control_mean</th>\n",
       "      <th>dCT</th>\n",
       "      <th>Control_dCT_mean</th>\n",
       "      <th>ddCT</th>\n",
       "      <th>fold_change</th>\n",
       "      <th>control_gene</th>\n",
       "      <th>date</th>\n",
       "    </tr>\n",
       "  </thead>\n",
       "  <tbody>\n",
       "    <tr>\n",
       "      <th>0</th>\n",
       "      <td>B1</td>\n",
       "      <td>14.908525</td>\n",
       "      <td>plate1.xls</td>\n",
       "      <td>GAPDH</td>\n",
       "      <td>Control 30' exp1</td>\n",
       "      <td>1.0</td>\n",
       "      <td>1.0</td>\n",
       "      <td>26.109299</td>\n",
       "      <td>-11.200775</td>\n",
       "      <td>-11.398504</td>\n",
       "      <td>0.197730</td>\n",
       "      <td>0.871921</td>\n",
       "      <td>ACTB</td>\n",
       "      <td>20240123</td>\n",
       "    </tr>\n",
       "    <tr>\n",
       "      <th>1</th>\n",
       "      <td>B2</td>\n",
       "      <td>14.369675</td>\n",
       "      <td>plate1.xls</td>\n",
       "      <td>GAPDH</td>\n",
       "      <td>Control 30' exp1</td>\n",
       "      <td>2.0</td>\n",
       "      <td>1.0</td>\n",
       "      <td>26.109299</td>\n",
       "      <td>-11.739624</td>\n",
       "      <td>-11.398504</td>\n",
       "      <td>-0.341120</td>\n",
       "      <td>1.266740</td>\n",
       "      <td>ACTB</td>\n",
       "      <td>20240123</td>\n",
       "    </tr>\n",
       "    <tr>\n",
       "      <th>2</th>\n",
       "      <td>B3</td>\n",
       "      <td>15.763824</td>\n",
       "      <td>plate1.xls</td>\n",
       "      <td>GAPDH</td>\n",
       "      <td>Control 30' exp1</td>\n",
       "      <td>3.0</td>\n",
       "      <td>1.0</td>\n",
       "      <td>26.109299</td>\n",
       "      <td>-10.345476</td>\n",
       "      <td>-11.398504</td>\n",
       "      <td>1.053029</td>\n",
       "      <td>0.481955</td>\n",
       "      <td>ACTB</td>\n",
       "      <td>20240123</td>\n",
       "    </tr>\n",
       "    <tr>\n",
       "      <th>3</th>\n",
       "      <td>B4</td>\n",
       "      <td>13.756628</td>\n",
       "      <td>plate1.xls</td>\n",
       "      <td>GAPDH</td>\n",
       "      <td>PEMF 60' exp1</td>\n",
       "      <td>1.0</td>\n",
       "      <td>1.0</td>\n",
       "      <td>26.447333</td>\n",
       "      <td>-12.690705</td>\n",
       "      <td>-11.398504</td>\n",
       "      <td>-1.292200</td>\n",
       "      <td>2.449012</td>\n",
       "      <td>ACTB</td>\n",
       "      <td>20240123</td>\n",
       "    </tr>\n",
       "    <tr>\n",
       "      <th>4</th>\n",
       "      <td>B5</td>\n",
       "      <td>15.132206</td>\n",
       "      <td>plate1.xls</td>\n",
       "      <td>GAPDH</td>\n",
       "      <td>PEMF 60' exp1</td>\n",
       "      <td>2.0</td>\n",
       "      <td>1.0</td>\n",
       "      <td>26.447333</td>\n",
       "      <td>-11.315127</td>\n",
       "      <td>-11.398504</td>\n",
       "      <td>0.083378</td>\n",
       "      <td>0.943845</td>\n",
       "      <td>ACTB</td>\n",
       "      <td>20240123</td>\n",
       "    </tr>\n",
       "  </tbody>\n",
       "</table>\n",
       "</div>"
      ],
      "text/plain": [
       "  Well Position         CT       plate primers       sample_name  rep  \\\n",
       "0            B1  14.908525  plate1.xls   GAPDH  Control 30' exp1  1.0   \n",
       "1            B2  14.369675  plate1.xls   GAPDH  Control 30' exp1  2.0   \n",
       "2            B3  15.763824  plate1.xls   GAPDH  Control 30' exp1  3.0   \n",
       "3            B4  13.756628  plate1.xls   GAPDH     PEMF 60' exp1  1.0   \n",
       "4            B5  15.132206  plate1.xls   GAPDH     PEMF 60' exp1  2.0   \n",
       "\n",
       "   Experiment  Control_mean        dCT  Control_dCT_mean      ddCT  \\\n",
       "0         1.0     26.109299 -11.200775        -11.398504  0.197730   \n",
       "1         1.0     26.109299 -11.739624        -11.398504 -0.341120   \n",
       "2         1.0     26.109299 -10.345476        -11.398504  1.053029   \n",
       "3         1.0     26.447333 -12.690705        -11.398504 -1.292200   \n",
       "4         1.0     26.447333 -11.315127        -11.398504  0.083378   \n",
       "\n",
       "   fold_change control_gene      date  \n",
       "0     0.871921         ACTB  20240123  \n",
       "1     1.266740         ACTB  20240123  \n",
       "2     0.481955         ACTB  20240123  \n",
       "3     2.449012         ACTB  20240123  \n",
       "4     0.943845         ACTB  20240123  "
      ]
     },
     "execution_count": 6,
     "metadata": {},
     "output_type": "execute_result"
    }
   ],
   "source": [
    "df = pd.concat(results.values())\n",
    "df = df.loc[~df[\"primers\"].isna()]\n",
    "df.head()"
   ]
  },
  {
   "cell_type": "code",
   "execution_count": 26,
   "id": "8c8bd209",
   "metadata": {
    "ExecuteTime": {
     "end_time": "2024-01-25T18:38:06.817089Z",
     "start_time": "2024-01-25T18:38:06.804601Z"
    }
   },
   "outputs": [],
   "source": [
    "# reformat some names\n",
    "\n",
    "# 20231115\n",
    "df.loc[(df[\"date\"]==20231115)&\n",
    "      (df[\"primers\"] == \"IL6\"), \"primer\"] = \"IL6-original \"\n",
    "\n",
    "df.loc[(df[\"date\"]==20231115)&\n",
    "      (df[\"sample_name\"] == \"PEMF-physiostim 60'\"), \"sample_name\"] = \"PEMF 60' exp1\"\n",
    "\n",
    "df.loc[(df[\"date\"]==20231115)&\n",
    "      (df[\"sample_name\"] == \"PEMF-physiostim 30'\"), \"sample_name\"] = \"PEMF 30' exp1\"\n",
    "\n",
    "df.loc[(df[\"date\"]==20231115)&\n",
    "      (df[\"sample_name\"] == \"Control\"), \"sample_name\"] = \"Control 30' exp1\"\n",
    "\n",
    "# 20231212\n",
    "df.loc[(df[\"date\"]==20231212)&\n",
    "      (df[\"primers\"] == \"IL6\"), \"primers\"]=\"IL6-2\"\n",
    "\n",
    "df.loc[(df[\"date\"]==20231212)&\n",
    "      (df[\"sample_name\"] == \"PEMF-physiostim\"), \"sample_name\"] = \"PEMF 60' exp2\"\n",
    "\n",
    "df.loc[(df[\"date\"]==20231212)&\n",
    "      (df[\"sample_name\"] == \"Control\"), \"sample_name\"] = \"Control 60' exp2\"\n",
    "\n",
    "#20231222\n",
    "df.loc[(df[\"date\"]==20231222)&\n",
    "      (df[\"sample_name\"] == \"PEMF-physiostim\"), \"primers\"]=\"PEMF 60' exp2\"\n",
    "\n",
    "df.loc[(df[\"date\"]==20231222)&\n",
    "      (df[\"sample_name\"] == \"Control\"), \"sample_name\"] = \"Control 60' exp2\""
   ]
  },
  {
   "cell_type": "code",
   "execution_count": 27,
   "id": "d04f5ffc",
   "metadata": {
    "ExecuteTime": {
     "end_time": "2024-01-25T18:38:07.905935Z",
     "start_time": "2024-01-25T18:38:07.894427Z"
    }
   },
   "outputs": [
    {
     "data": {
      "text/html": [
       "<div>\n",
       "<style scoped>\n",
       "    .dataframe tbody tr th:only-of-type {\n",
       "        vertical-align: middle;\n",
       "    }\n",
       "\n",
       "    .dataframe tbody tr th {\n",
       "        vertical-align: top;\n",
       "    }\n",
       "\n",
       "    .dataframe thead th {\n",
       "        text-align: right;\n",
       "    }\n",
       "</style>\n",
       "<table border=\"1\" class=\"dataframe\">\n",
       "  <thead>\n",
       "    <tr style=\"text-align: right;\">\n",
       "      <th></th>\n",
       "      <th>sample_name</th>\n",
       "      <th>date</th>\n",
       "    </tr>\n",
       "  </thead>\n",
       "  <tbody>\n",
       "    <tr>\n",
       "      <th>18</th>\n",
       "      <td>Control 30' exp1</td>\n",
       "      <td>20240123</td>\n",
       "    </tr>\n",
       "    <tr>\n",
       "      <th>96</th>\n",
       "      <td>Control 30' exp1</td>\n",
       "      <td>20231115</td>\n",
       "    </tr>\n",
       "    <tr>\n",
       "      <th>109</th>\n",
       "      <td>Control 60' exp2</td>\n",
       "      <td>20240123</td>\n",
       "    </tr>\n",
       "    <tr>\n",
       "      <th>108</th>\n",
       "      <td>Control 60' exp2</td>\n",
       "      <td>20231222</td>\n",
       "    </tr>\n",
       "    <tr>\n",
       "      <th>12</th>\n",
       "      <td>Control 60' exp2</td>\n",
       "      <td>20231212</td>\n",
       "    </tr>\n",
       "    <tr>\n",
       "      <th>108</th>\n",
       "      <td>PEMF 30' exp1</td>\n",
       "      <td>20231115</td>\n",
       "    </tr>\n",
       "    <tr>\n",
       "      <th>21</th>\n",
       "      <td>PEMF 60' exp1</td>\n",
       "      <td>20240123</td>\n",
       "    </tr>\n",
       "    <tr>\n",
       "      <th>120</th>\n",
       "      <td>PEMF 60' exp1</td>\n",
       "      <td>20231115</td>\n",
       "    </tr>\n",
       "    <tr>\n",
       "      <th>90</th>\n",
       "      <td>PEMF 60' exp2</td>\n",
       "      <td>20240123</td>\n",
       "    </tr>\n",
       "    <tr>\n",
       "      <th>15</th>\n",
       "      <td>PEMF 60' exp2</td>\n",
       "      <td>20231212</td>\n",
       "    </tr>\n",
       "    <tr>\n",
       "      <th>18</th>\n",
       "      <td>PEMF-HF-physiostim</td>\n",
       "      <td>20231212</td>\n",
       "    </tr>\n",
       "    <tr>\n",
       "      <th>117</th>\n",
       "      <td>PEMF-HF-physiostim l1</td>\n",
       "      <td>20231222</td>\n",
       "    </tr>\n",
       "    <tr>\n",
       "      <th>114</th>\n",
       "      <td>PEMF-HF-physiostim l3</td>\n",
       "      <td>20231222</td>\n",
       "    </tr>\n",
       "    <tr>\n",
       "      <th>99</th>\n",
       "      <td>noRT</td>\n",
       "      <td>20231222</td>\n",
       "    </tr>\n",
       "    <tr>\n",
       "      <th>178</th>\n",
       "      <td>noRT</td>\n",
       "      <td>20231115</td>\n",
       "    </tr>\n",
       "    <tr>\n",
       "      <th>0</th>\n",
       "      <td>noRT</td>\n",
       "      <td>20231212</td>\n",
       "    </tr>\n",
       "  </tbody>\n",
       "</table>\n",
       "</div>"
      ],
      "text/plain": [
       "               sample_name      date\n",
       "18        Control 30' exp1  20240123\n",
       "96        Control 30' exp1  20231115\n",
       "109       Control 60' exp2  20240123\n",
       "108       Control 60' exp2  20231222\n",
       "12        Control 60' exp2  20231212\n",
       "108          PEMF 30' exp1  20231115\n",
       "21           PEMF 60' exp1  20240123\n",
       "120          PEMF 60' exp1  20231115\n",
       "90           PEMF 60' exp2  20240123\n",
       "15           PEMF 60' exp2  20231212\n",
       "18      PEMF-HF-physiostim  20231212\n",
       "117  PEMF-HF-physiostim l1  20231222\n",
       "114  PEMF-HF-physiostim l3  20231222\n",
       "99                    noRT  20231222\n",
       "178                   noRT  20231115\n",
       "0                     noRT  20231212"
      ]
     },
     "execution_count": 27,
     "metadata": {},
     "output_type": "execute_result"
    }
   ],
   "source": [
    "il6genes = ['IL6',\n",
    "            'IL6-1',\n",
    "            'IL6-2',\n",
    "            'IL6-original ']\n",
    "\n",
    "il6 = df.loc[df[\"primers\"].isin(il6genes)].copy()\n",
    "\n",
    "il6.head()\n",
    "\n",
    "il6[[\"sample_name\", \"date\"]].drop_duplicates().sort_values(by='sample_name')"
   ]
  },
  {
   "cell_type": "code",
   "execution_count": 29,
   "id": "b76ba4c7",
   "metadata": {
    "ExecuteTime": {
     "end_time": "2024-01-25T18:38:41.855787Z",
     "start_time": "2024-01-25T18:38:41.836524Z"
    }
   },
   "outputs": [
    {
     "data": {
      "text/html": [
       "<div>\n",
       "<style scoped>\n",
       "    .dataframe tbody tr th:only-of-type {\n",
       "        vertical-align: middle;\n",
       "    }\n",
       "\n",
       "    .dataframe tbody tr th {\n",
       "        vertical-align: top;\n",
       "    }\n",
       "\n",
       "    .dataframe thead th {\n",
       "        text-align: right;\n",
       "    }\n",
       "</style>\n",
       "<table border=\"1\" class=\"dataframe\">\n",
       "  <thead>\n",
       "    <tr style=\"text-align: right;\">\n",
       "      <th></th>\n",
       "      <th>Well Position</th>\n",
       "      <th>CT</th>\n",
       "      <th>plate</th>\n",
       "      <th>primers</th>\n",
       "      <th>sample_name</th>\n",
       "      <th>rep</th>\n",
       "      <th>Experiment</th>\n",
       "      <th>Control_mean</th>\n",
       "      <th>dCT</th>\n",
       "      <th>Control_dCT_mean</th>\n",
       "      <th>ddCT</th>\n",
       "      <th>fold_change</th>\n",
       "      <th>control_gene</th>\n",
       "      <th>date</th>\n",
       "      <th>primer</th>\n",
       "    </tr>\n",
       "  </thead>\n",
       "  <tbody>\n",
       "    <tr>\n",
       "      <th>18</th>\n",
       "      <td>E1</td>\n",
       "      <td>28.364365</td>\n",
       "      <td>plate1.xls</td>\n",
       "      <td>IL6-original</td>\n",
       "      <td>Control 30' exp1</td>\n",
       "      <td>1.0</td>\n",
       "      <td>1.0</td>\n",
       "      <td>26.109299</td>\n",
       "      <td>2.255065</td>\n",
       "      <td>2.433622</td>\n",
       "      <td>-0.178556</td>\n",
       "      <td>1.131751</td>\n",
       "      <td>ACTB</td>\n",
       "      <td>20240123</td>\n",
       "      <td>NaN</td>\n",
       "    </tr>\n",
       "    <tr>\n",
       "      <th>19</th>\n",
       "      <td>E2</td>\n",
       "      <td>27.789349</td>\n",
       "      <td>plate1.xls</td>\n",
       "      <td>IL6-original</td>\n",
       "      <td>Control 30' exp1</td>\n",
       "      <td>2.0</td>\n",
       "      <td>1.0</td>\n",
       "      <td>26.109299</td>\n",
       "      <td>1.680049</td>\n",
       "      <td>2.433622</td>\n",
       "      <td>-0.753572</td>\n",
       "      <td>1.685962</td>\n",
       "      <td>ACTB</td>\n",
       "      <td>20240123</td>\n",
       "      <td>NaN</td>\n",
       "    </tr>\n",
       "    <tr>\n",
       "      <th>20</th>\n",
       "      <td>E3</td>\n",
       "      <td>28.858532</td>\n",
       "      <td>plate1.xls</td>\n",
       "      <td>IL6-original</td>\n",
       "      <td>Control 30' exp1</td>\n",
       "      <td>3.0</td>\n",
       "      <td>1.0</td>\n",
       "      <td>26.109299</td>\n",
       "      <td>2.749233</td>\n",
       "      <td>2.433622</td>\n",
       "      <td>0.315611</td>\n",
       "      <td>0.803510</td>\n",
       "      <td>ACTB</td>\n",
       "      <td>20240123</td>\n",
       "      <td>NaN</td>\n",
       "    </tr>\n",
       "    <tr>\n",
       "      <th>21</th>\n",
       "      <td>E4</td>\n",
       "      <td>29.004190</td>\n",
       "      <td>plate1.xls</td>\n",
       "      <td>IL6-original</td>\n",
       "      <td>PEMF 60' exp1</td>\n",
       "      <td>1.0</td>\n",
       "      <td>1.0</td>\n",
       "      <td>26.447333</td>\n",
       "      <td>2.556858</td>\n",
       "      <td>2.433622</td>\n",
       "      <td>0.123236</td>\n",
       "      <td>0.918126</td>\n",
       "      <td>ACTB</td>\n",
       "      <td>20240123</td>\n",
       "      <td>NaN</td>\n",
       "    </tr>\n",
       "    <tr>\n",
       "      <th>22</th>\n",
       "      <td>E5</td>\n",
       "      <td>29.830538</td>\n",
       "      <td>plate1.xls</td>\n",
       "      <td>IL6-original</td>\n",
       "      <td>PEMF 60' exp1</td>\n",
       "      <td>2.0</td>\n",
       "      <td>1.0</td>\n",
       "      <td>26.447333</td>\n",
       "      <td>3.383205</td>\n",
       "      <td>2.433622</td>\n",
       "      <td>0.949584</td>\n",
       "      <td>0.517782</td>\n",
       "      <td>ACTB</td>\n",
       "      <td>20240123</td>\n",
       "      <td>NaN</td>\n",
       "    </tr>\n",
       "  </tbody>\n",
       "</table>\n",
       "</div>"
      ],
      "text/plain": [
       "   Well Position         CT       plate        primers       sample_name  rep  \\\n",
       "18            E1  28.364365  plate1.xls  IL6-original   Control 30' exp1  1.0   \n",
       "19            E2  27.789349  plate1.xls  IL6-original   Control 30' exp1  2.0   \n",
       "20            E3  28.858532  plate1.xls  IL6-original   Control 30' exp1  3.0   \n",
       "21            E4  29.004190  plate1.xls  IL6-original      PEMF 60' exp1  1.0   \n",
       "22            E5  29.830538  plate1.xls  IL6-original      PEMF 60' exp1  2.0   \n",
       "\n",
       "    Experiment  Control_mean       dCT  Control_dCT_mean      ddCT  \\\n",
       "18         1.0     26.109299  2.255065          2.433622 -0.178556   \n",
       "19         1.0     26.109299  1.680049          2.433622 -0.753572   \n",
       "20         1.0     26.109299  2.749233          2.433622  0.315611   \n",
       "21         1.0     26.447333  2.556858          2.433622  0.123236   \n",
       "22         1.0     26.447333  3.383205          2.433622  0.949584   \n",
       "\n",
       "    fold_change control_gene      date primer  \n",
       "18     1.131751         ACTB  20240123    NaN  \n",
       "19     1.685962         ACTB  20240123    NaN  \n",
       "20     0.803510         ACTB  20240123    NaN  \n",
       "21     0.918126         ACTB  20240123    NaN  \n",
       "22     0.517782         ACTB  20240123    NaN  "
      ]
     },
     "execution_count": 29,
     "metadata": {},
     "output_type": "execute_result"
    }
   ],
   "source": [
    "il6.head()"
   ]
  },
  {
   "cell_type": "code",
   "execution_count": 30,
   "id": "68f70d61",
   "metadata": {
    "ExecuteTime": {
     "end_time": "2024-01-25T18:40:01.873655Z",
     "start_time": "2024-01-25T18:40:01.869850Z"
    }
   },
   "outputs": [],
   "source": [
    "x=\"primer\"\n",
    "y=\"fold_change\"\n",
    "hue='sample_name'\n",
    "data = il6.loc[il6[\"control_gene\"]==\"ACTB\"].copy()"
   ]
  },
  {
   "cell_type": "code",
   "execution_count": 32,
   "id": "5f199bbd",
   "metadata": {
    "ExecuteTime": {
     "end_time": "2024-01-25T19:05:03.482908Z",
     "start_time": "2024-01-25T19:05:03.179320Z"
    }
   },
   "outputs": [
    {
     "data": {
      "text/plain": [
       "<matplotlib.legend.Legend at 0x7fd541f53c10>"
      ]
     },
     "execution_count": 32,
     "metadata": {},
     "output_type": "execute_result"
    },
    {
     "data": {
      "image/png": "[encoded data removed]",
      "text/plain": [
       "<Figure size 640x480 with 1 Axes>"
      ]
     },
     "metadata": {},
     "output_type": "display_data"
    }
   ],
   "source": [
    "sns.boxplot(x=x, y=y, data=data, hue=hue)\n",
    "plt.legend(bbox_to_anchor=(1,1))"
   ]
  },
  {
   "cell_type": "code",
   "execution_count": null,
   "id": "5357df2b",
   "metadata": {},
   "outputs": [],
   "source": []
  }
 ],
 "metadata": {
  "kernelspec": {
   "display_name": "Python (mamba)",
   "language": "python",
   "name": "mamba"
  },
  "language_info": {
   "codemirror_mode": {
    "name": "ipython",
    "version": 3
   },
   "file_extension": ".py",
   "mimetype": "text/x-python",
   "name": "python",
   "nbconvert_exporter": "python",
   "pygments_lexer": "ipython3",
   "version": "3.9.16"
  },
  "toc": {
   "base_numbering": 1,
   "nav_menu": {},
   "number_sections": true,
   "sideBar": true,
   "skip_h1_title": false,
   "title_cell": "Table of Contents",
   "title_sidebar": "Contents",
   "toc_cell": false,
   "toc_position": {},
   "toc_section_display": true,
   "toc_window_display": false
  },
  "varInspector": {
   "cols": {
    "lenName": 16,
    "lenType": 16,
    "lenVar": 40
   },
   "kernels_config": {
    "python": {
     "delete_cmd_postfix": "",
     "delete_cmd_prefix": "del ",
     "library": "var_list.py",
     "varRefreshCmd": "print(var_dic_list())"
    },
    "r": {
     "delete_cmd_postfix": ") ",
     "delete_cmd_prefix": "rm(",
     "library": "var_list.r",
     "varRefreshCmd": "cat(var_dic_list()) "
    }
   },
   "types_to_exclude": [
    "module",
    "function",
    "builtin_function_or_method",
    "instance",
    "_Feature"
   ],
   "window_display": false
  }
 },
 "nbformat": 4,
 "nbformat_minor": 5
}
