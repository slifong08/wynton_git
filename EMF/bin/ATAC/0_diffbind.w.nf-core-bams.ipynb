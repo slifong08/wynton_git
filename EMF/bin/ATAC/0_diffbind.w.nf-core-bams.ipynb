{
 "cells": [
  {
   "cell_type": "code",
   "execution_count": 1,
   "id": "a2779cff-6ae7-457b-a7f0-cb468e118210",
   "metadata": {
    "scrolled": true
   },
   "outputs": [
    {
     "name": "stderr",
     "output_type": "stream",
     "text": [
      "Loading required package: GenomicRanges\n",
      "\n",
      "Loading required package: stats4\n",
      "\n",
      "Loading required package: BiocGenerics\n",
      "\n",
      "\n",
      "Attaching package: ‘BiocGenerics’\n",
      "\n",
      "\n",
      "The following objects are masked from ‘package:stats’:\n",
      "\n",
      "    IQR, mad, sd, var, xtabs\n",
      "\n",
      "\n",
      "The following objects are masked from ‘package:base’:\n",
      "\n",
      "    anyDuplicated, aperm, append, as.data.frame, basename, cbind,\n",
      "    colnames, dirname, do.call, duplicated, eval, evalq, Filter, Find,\n",
      "    get, grep, grepl, intersect, is.unsorted, lapply, Map, mapply,\n",
      "    match, mget, order, paste, pmax, pmax.int, pmin, pmin.int,\n",
      "    Position, rank, rbind, Reduce, rownames, sapply, setdiff, sort,\n",
      "    table, tapply, union, unique, unsplit, which.max, which.min\n",
      "\n",
      "\n",
      "Loading required package: S4Vectors\n",
      "\n",
      "\n",
      "Attaching package: ‘S4Vectors’\n",
      "\n",
      "\n",
      "The following object is masked from ‘package:utils’:\n",
      "\n",
      "    findMatches\n",
      "\n",
      "\n",
      "The following objects are masked from ‘package:base’:\n",
      "\n",
      "    expand.grid, I, unname\n",
      "\n",
      "\n",
      "Loading required package: IRanges\n",
      "\n",
      "Loading required package: GenomeInfoDb\n",
      "\n",
      "Loading required package: SummarizedExperiment\n",
      "\n",
      "Loading required package: MatrixGenerics\n",
      "\n",
      "Loading required package: matrixStats\n",
      "\n",
      "\n",
      "Attaching package: ‘MatrixGenerics’\n",
      "\n",
      "\n",
      "The following objects are masked from ‘package:matrixStats’:\n",
      "\n",
      "    colAlls, colAnyNAs, colAnys, colAvgsPerRowSet, colCollapse,\n",
      "    colCounts, colCummaxs, colCummins, colCumprods, colCumsums,\n",
      "    colDiffs, colIQRDiffs, colIQRs, colLogSumExps, colMadDiffs,\n",
      "    colMads, colMaxs, colMeans2, colMedians, colMins, colOrderStats,\n",
      "    colProds, colQuantiles, colRanges, colRanks, colSdDiffs, colSds,\n",
      "    colSums2, colTabulates, colVarDiffs, colVars, colWeightedMads,\n",
      "    colWeightedMeans, colWeightedMedians, colWeightedSds,\n",
      "    colWeightedVars, rowAlls, rowAnyNAs, rowAnys, rowAvgsPerColSet,\n",
      "    rowCollapse, rowCounts, rowCummaxs, rowCummins, rowCumprods,\n",
      "    rowCumsums, rowDiffs, rowIQRDiffs, rowIQRs, rowLogSumExps,\n",
      "    rowMadDiffs, rowMads, rowMaxs, rowMeans2, rowMedians, rowMins,\n",
      "    rowOrderStats, rowProds, rowQuantiles, rowRanges, rowRanks,\n",
      "    rowSdDiffs, rowSds, rowSums2, rowTabulates, rowVarDiffs, rowVars,\n",
      "    rowWeightedMads, rowWeightedMeans, rowWeightedMedians,\n",
      "    rowWeightedSds, rowWeightedVars\n",
      "\n",
      "\n",
      "Loading required package: Biobase\n",
      "\n",
      "Welcome to Bioconductor\n",
      "\n",
      "    Vignettes contain introductory material; view with\n",
      "    'browseVignettes()'. To cite Bioconductor, see\n",
      "    'citation(\"Biobase\")', and for packages 'citation(\"pkgname\")'.\n",
      "\n",
      "\n",
      "\n",
      "Attaching package: ‘Biobase’\n",
      "\n",
      "\n",
      "The following object is masked from ‘package:MatrixGenerics’:\n",
      "\n",
      "    rowMedians\n",
      "\n",
      "\n",
      "The following objects are masked from ‘package:matrixStats’:\n",
      "\n",
      "    anyMissing, rowMedians\n",
      "\n",
      "\n",
      " >>> DiffBind 3.12.0\n",
      "\n",
      "── \u001b[1mAttaching core tidyverse packages\u001b[22m ──────────────────────── tidyverse 2.0.0 ──\n",
      "\u001b[32m✔\u001b[39m \u001b[34mdplyr    \u001b[39m 1.1.4     \u001b[32m✔\u001b[39m \u001b[34mreadr    \u001b[39m 2.1.5\n",
      "\u001b[32m✔\u001b[39m \u001b[34mforcats  \u001b[39m 1.0.0     \u001b[32m✔\u001b[39m \u001b[34mstringr  \u001b[39m 1.5.1\n",
      "\u001b[32m✔\u001b[39m \u001b[34mggplot2  \u001b[39m 3.5.1     \u001b[32m✔\u001b[39m \u001b[34mtibble   \u001b[39m 3.2.1\n",
      "\u001b[32m✔\u001b[39m \u001b[34mlubridate\u001b[39m 1.9.3     \u001b[32m✔\u001b[39m \u001b[34mtidyr    \u001b[39m 1.3.1\n",
      "\u001b[32m✔\u001b[39m \u001b[34mpurrr    \u001b[39m 1.0.2     \n",
      "── \u001b[1mConflicts\u001b[22m ────────────────────────────────────────── tidyverse_conflicts() ──\n",
      "\u001b[31m✖\u001b[39m \u001b[34mlubridate\u001b[39m::\u001b[32m%within%()\u001b[39m masks \u001b[34mIRanges\u001b[39m::%within%()\n",
      "\u001b[31m✖\u001b[39m \u001b[34mdplyr\u001b[39m::\u001b[32mcollapse()\u001b[39m     masks \u001b[34mIRanges\u001b[39m::collapse()\n",
      "\u001b[31m✖\u001b[39m \u001b[34mdplyr\u001b[39m::\u001b[32mcombine()\u001b[39m      masks \u001b[34mBiobase\u001b[39m::combine(), \u001b[34mBiocGenerics\u001b[39m::combine()\n",
      "\u001b[31m✖\u001b[39m \u001b[34mdplyr\u001b[39m::\u001b[32mcount()\u001b[39m        masks \u001b[34mmatrixStats\u001b[39m::count()\n",
      "\u001b[31m✖\u001b[39m \u001b[34mdplyr\u001b[39m::\u001b[32mdesc()\u001b[39m         masks \u001b[34mIRanges\u001b[39m::desc()\n",
      "\u001b[31m✖\u001b[39m \u001b[34mtidyr\u001b[39m::\u001b[32mexpand()\u001b[39m       masks \u001b[34mS4Vectors\u001b[39m::expand()\n",
      "\u001b[31m✖\u001b[39m \u001b[34mdplyr\u001b[39m::\u001b[32mfilter()\u001b[39m       masks \u001b[34mstats\u001b[39m::filter()\n",
      "\u001b[31m✖\u001b[39m \u001b[34mdplyr\u001b[39m::\u001b[32mfirst()\u001b[39m        masks \u001b[34mS4Vectors\u001b[39m::first()\n",
      "\u001b[31m✖\u001b[39m \u001b[34mdplyr\u001b[39m::\u001b[32mlag()\u001b[39m          masks \u001b[34mstats\u001b[39m::lag()\n",
      "\u001b[31m✖\u001b[39m \u001b[34mggplot2\u001b[39m::\u001b[32mPosition()\u001b[39m   masks \u001b[34mBiocGenerics\u001b[39m::Position(), \u001b[34mbase\u001b[39m::Position()\n",
      "\u001b[31m✖\u001b[39m \u001b[34mpurrr\u001b[39m::\u001b[32mreduce()\u001b[39m       masks \u001b[34mGenomicRanges\u001b[39m::reduce(), \u001b[34mIRanges\u001b[39m::reduce()\n",
      "\u001b[31m✖\u001b[39m \u001b[34mdplyr\u001b[39m::\u001b[32mrename()\u001b[39m       masks \u001b[34mS4Vectors\u001b[39m::rename()\n",
      "\u001b[31m✖\u001b[39m \u001b[34mlubridate\u001b[39m::\u001b[32msecond()\u001b[39m   masks \u001b[34mS4Vectors\u001b[39m::second()\n",
      "\u001b[31m✖\u001b[39m \u001b[34mlubridate\u001b[39m::\u001b[32msecond<-()\u001b[39m masks \u001b[34mS4Vectors\u001b[39m::second<-()\n",
      "\u001b[31m✖\u001b[39m \u001b[34mdplyr\u001b[39m::\u001b[32mslice()\u001b[39m        masks \u001b[34mIRanges\u001b[39m::slice()\n",
      "\u001b[36mℹ\u001b[39m Use the conflicted package (\u001b[3m\u001b[34m<http://conflicted.r-lib.org/>\u001b[39m\u001b[23m) to force all conflicts to become errors\n",
      "\n",
      "\n",
      "ChIPseeker v1.38.0\n",
      "\n",
      "If you use ChIPseeker in published research, please cite:\n",
      "Qianwen Wang, Ming Li, Tianzhi Wu, Li Zhan, Lin Li, Meijun Chen, Wenqin Xie, Zijing Xie, Erqiang Hu, Shuangbin Xu, Guangchuang Yu. Exploring epigenomic datasets by ChIPseeker. Current Protocols 2022, 2(10): e585\n",
      "\n",
      "Loading required package: GenomicFeatures\n",
      "\n",
      "Loading required package: AnnotationDbi\n",
      "\n",
      "\n",
      "Attaching package: ‘AnnotationDbi’\n",
      "\n",
      "\n",
      "The following object is masked from ‘package:dplyr’:\n",
      "\n",
      "    select\n",
      "\n",
      "\n",
      "'getOption(\"repos\")' replaces Bioconductor standard repositories, see\n",
      "'help(\"repositories\", package = \"BiocManager\")' for details.\n",
      "Replacement repositories:\n",
      "    CRAN: https://cran.r-project.org\n",
      "\n",
      "Bioconductor version 3.18 (BiocManager 1.30.22), R 4.3.1 (2023-06-16)\n",
      "\n",
      "Warning message:\n",
      "“package(s) not installed when version(s) same as or greater than current; use\n",
      "  `force = TRUE` to re-install: 'plyranges'”\n",
      "Old packages: 'backports', 'BiocManager', 'broom', 'cachem', 'DBI', 'evaluate',\n",
      "  'farver', 'fastmap', 'fs', 'ggfun', 'GSA', 'gtable', 'highr', 'KernSmooth',\n",
      "  'knitr', 'mvtnorm', 'nlme', 'openssl', 'ragg', 'RcppArmadillo', 'rlang',\n",
      "  'rmarkdown', 'rSEA', 'RSQLite', 'scatterpie', 'SparseM', 'stringi',\n",
      "  'survival', 'systemfonts', 'textshaping', 'tinytex', 'xfun'\n",
      "\n",
      "\n",
      "Attaching package: ‘plyranges’\n",
      "\n",
      "\n",
      "The following object is masked from ‘package:AnnotationDbi’:\n",
      "\n",
      "    select\n",
      "\n",
      "\n",
      "The following objects are masked from ‘package:dplyr’:\n",
      "\n",
      "    between, n, n_distinct\n",
      "\n",
      "\n",
      "The following object is masked from ‘package:IRanges’:\n",
      "\n",
      "    slice\n",
      "\n",
      "\n",
      "The following object is masked from ‘package:stats’:\n",
      "\n",
      "    filter\n",
      "\n",
      "\n"
     ]
    }
   ],
   "source": [
    "#BiocManager::install(\"ChIPseeker\")\n",
    "\n",
    "# load diffbind\n",
    "library(DiffBind)\n",
    "\n",
    "library(tidyverse)\n",
    "\n",
    "library(ChIPseeker)\n",
    "library(ggplot2)\n",
    "library(TxDb.Hsapiens.UCSC.hg38.knownGene) \n",
    "txdb <- TxDb.Hsapiens.UCSC.hg38.knownGene\n",
    "\n",
    "# for filtering ranges\n",
    "BiocManager::install('plyranges')\n",
    "library(plyranges)"
   ]
  },
  {
   "cell_type": "markdown",
   "id": "c3b2e9a8-65e6-4bbb-a32c-d0fa916b529b",
   "metadata": {},
   "source": [
    "## load sample sheet"
   ]
  },
  {
   "cell_type": "code",
   "execution_count": 2,
   "id": "338f5a7e-6481-4f15-9d46-fac85217c002",
   "metadata": {},
   "outputs": [
    {
     "data": {
      "text/html": [
       "<table class=\"dataframe\">\n",
       "<caption>A data.frame: 7 × 7</caption>\n",
       "<thead>\n",
       "\t<tr><th scope=col>SampleID</th><th scope=col>Tissue</th><th scope=col>Factor</th><th scope=col>Replicate</th><th scope=col>Peaks</th><th scope=col>PeakCaller</th><th scope=col>bamReads</th></tr>\n",
       "\t<tr><th scope=col>&lt;chr&gt;</th><th scope=col>&lt;chr&gt;</th><th scope=col>&lt;chr&gt;</th><th scope=col>&lt;int&gt;</th><th scope=col>&lt;chr&gt;</th><th scope=col>&lt;chr&gt;</th><th scope=col>&lt;chr&gt;</th></tr>\n",
       "</thead>\n",
       "<tbody>\n",
       "\t<tr><td>WTC11.NGN2.2.ctrl1</td><td>WTC11.NGN2</td><td>control  </td><td>1</td><td>/wynton/group/ahituv/fongsl/projects/EMF/data/ATAC/WTC11NGN2.1/results/bwa/merged_library/macs2/broad_peak/control_REP1.mLb.clN_peaks.broadPeak</td><td>broad</td><td>/wynton/group/ahituv/fongsl/projects/EMF/data/ATAC/WTC11NGN2.1/results/bwa/merged_library/control_REP1.mLb.clN.sorted.bam</td></tr>\n",
       "\t<tr><td>WTC11.NGN2.2.ctrl3</td><td>WTC11.NGN2</td><td>control  </td><td>2</td><td>/wynton/group/ahituv/fongsl/projects/EMF/data/ATAC/WTC11NGN2.1/results/bwa/merged_library/macs2/broad_peak/control_REP2.mLb.clN_peaks.broadPeak</td><td>broad</td><td>/wynton/group/ahituv/fongsl/projects/EMF/data/ATAC/WTC11NGN2.1/results/bwa/merged_library/control_REP2.mLb.clN.sorted.bam</td></tr>\n",
       "\t<tr><td>WTC11.NGN2.2.ctrl4</td><td>WTC11.NGN2</td><td>control  </td><td>3</td><td>/wynton/group/ahituv/fongsl/projects/EMF/data/ATAC/WTC11NGN2.1/results/bwa/merged_library/macs2/broad_peak/control_REP3.mLb.clN_peaks.broadPeak</td><td>broad</td><td>/wynton/group/ahituv/fongsl/projects/EMF/data/ATAC/WTC11NGN2.1/results/bwa/merged_library/control_REP3.mLb.clN.sorted.bam</td></tr>\n",
       "\t<tr><td>WTC11.NGN2.2.PEMF1</td><td>WTC11.NGN2</td><td>treatment</td><td>1</td><td>/wynton/group/ahituv/fongsl/projects/EMF/data/ATAC/WTC11NGN2.1/results/bwa/merged_library/macs2/broad_peak/PEMF_REP1.mLb.clN_peaks.broadPeak   </td><td>broad</td><td>/wynton/group/ahituv/fongsl/projects/EMF/data/ATAC/WTC11NGN2.1/results/bwa/merged_library/PEMF_REP1.mLb.clN.sorted.bam   </td></tr>\n",
       "\t<tr><td>WTC11.NGN2.2.PEMF2</td><td>WTC11.NGN2</td><td>treatment</td><td>2</td><td>/wynton/group/ahituv/fongsl/projects/EMF/data/ATAC/WTC11NGN2.1/results/bwa/merged_library/macs2/broad_peak/PEMF_REP2.mLb.clN_peaks.broadPeak   </td><td>broad</td><td>/wynton/group/ahituv/fongsl/projects/EMF/data/ATAC/WTC11NGN2.1/results/bwa/merged_library/PEMF_REP2.mLb.clN.sorted.bam   </td></tr>\n",
       "\t<tr><td>WTC11.NGN2.2.PEMF3</td><td>WTC11.NGN2</td><td>treatment</td><td>3</td><td>/wynton/group/ahituv/fongsl/projects/EMF/data/ATAC/WTC11NGN2.1/results/bwa/merged_library/macs2/broad_peak/PEMF_REP3.mLb.clN_peaks.broadPeak   </td><td>broad</td><td>/wynton/group/ahituv/fongsl/projects/EMF/data/ATAC/WTC11NGN2.1/results/bwa/merged_library/PEMF_REP3.mLb.clN.sorted.bam   </td></tr>\n",
       "\t<tr><td>WTC11.NGN2.2.PEMF4</td><td>WTC11.NGN2</td><td>treatment</td><td>4</td><td>/wynton/group/ahituv/fongsl/projects/EMF/data/ATAC/WTC11NGN2.1/results/bwa/merged_library/macs2/broad_peak/PEMF_REP4.mLb.clN_peaks.broadPeak   </td><td>broad</td><td>/wynton/group/ahituv/fongsl/projects/EMF/data/ATAC/WTC11NGN2.1/results/bwa/merged_library/PEMF_REP4.mLb.clN.sorted.bam   </td></tr>\n",
       "</tbody>\n",
       "</table>\n"
      ],
      "text/latex": [
       "A data.frame: 7 × 7\n",
       "\\begin{tabular}{lllllll}\n",
       " SampleID & Tissue & Factor & Replicate & Peaks & PeakCaller & bamReads\\\\\n",
       " <chr> & <chr> & <chr> & <int> & <chr> & <chr> & <chr>\\\\\n",
       "\\hline\n",
       "\t WTC11.NGN2.2.ctrl1 & WTC11.NGN2 & control   & 1 & /wynton/group/ahituv/fongsl/projects/EMF/data/ATAC/WTC11NGN2.1/results/bwa/merged\\_library/macs2/broad\\_peak/control\\_REP1.mLb.clN\\_peaks.broadPeak & broad & /wynton/group/ahituv/fongsl/projects/EMF/data/ATAC/WTC11NGN2.1/results/bwa/merged\\_library/control\\_REP1.mLb.clN.sorted.bam\\\\\n",
       "\t WTC11.NGN2.2.ctrl3 & WTC11.NGN2 & control   & 2 & /wynton/group/ahituv/fongsl/projects/EMF/data/ATAC/WTC11NGN2.1/results/bwa/merged\\_library/macs2/broad\\_peak/control\\_REP2.mLb.clN\\_peaks.broadPeak & broad & /wynton/group/ahituv/fongsl/projects/EMF/data/ATAC/WTC11NGN2.1/results/bwa/merged\\_library/control\\_REP2.mLb.clN.sorted.bam\\\\\n",
       "\t WTC11.NGN2.2.ctrl4 & WTC11.NGN2 & control   & 3 & /wynton/group/ahituv/fongsl/projects/EMF/data/ATAC/WTC11NGN2.1/results/bwa/merged\\_library/macs2/broad\\_peak/control\\_REP3.mLb.clN\\_peaks.broadPeak & broad & /wynton/group/ahituv/fongsl/projects/EMF/data/ATAC/WTC11NGN2.1/results/bwa/merged\\_library/control\\_REP3.mLb.clN.sorted.bam\\\\\n",
       "\t WTC11.NGN2.2.PEMF1 & WTC11.NGN2 & treatment & 1 & /wynton/group/ahituv/fongsl/projects/EMF/data/ATAC/WTC11NGN2.1/results/bwa/merged\\_library/macs2/broad\\_peak/PEMF\\_REP1.mLb.clN\\_peaks.broadPeak    & broad & /wynton/group/ahituv/fongsl/projects/EMF/data/ATAC/WTC11NGN2.1/results/bwa/merged\\_library/PEMF\\_REP1.mLb.clN.sorted.bam   \\\\\n",
       "\t WTC11.NGN2.2.PEMF2 & WTC11.NGN2 & treatment & 2 & /wynton/group/ahituv/fongsl/projects/EMF/data/ATAC/WTC11NGN2.1/results/bwa/merged\\_library/macs2/broad\\_peak/PEMF\\_REP2.mLb.clN\\_peaks.broadPeak    & broad & /wynton/group/ahituv/fongsl/projects/EMF/data/ATAC/WTC11NGN2.1/results/bwa/merged\\_library/PEMF\\_REP2.mLb.clN.sorted.bam   \\\\\n",
       "\t WTC11.NGN2.2.PEMF3 & WTC11.NGN2 & treatment & 3 & /wynton/group/ahituv/fongsl/projects/EMF/data/ATAC/WTC11NGN2.1/results/bwa/merged\\_library/macs2/broad\\_peak/PEMF\\_REP3.mLb.clN\\_peaks.broadPeak    & broad & /wynton/group/ahituv/fongsl/projects/EMF/data/ATAC/WTC11NGN2.1/results/bwa/merged\\_library/PEMF\\_REP3.mLb.clN.sorted.bam   \\\\\n",
       "\t WTC11.NGN2.2.PEMF4 & WTC11.NGN2 & treatment & 4 & /wynton/group/ahituv/fongsl/projects/EMF/data/ATAC/WTC11NGN2.1/results/bwa/merged\\_library/macs2/broad\\_peak/PEMF\\_REP4.mLb.clN\\_peaks.broadPeak    & broad & /wynton/group/ahituv/fongsl/projects/EMF/data/ATAC/WTC11NGN2.1/results/bwa/merged\\_library/PEMF\\_REP4.mLb.clN.sorted.bam   \\\\\n",
       "\\end{tabular}\n"
      ],
      "text/markdown": [
       "\n",
       "A data.frame: 7 × 7\n",
       "\n",
       "| SampleID &lt;chr&gt; | Tissue &lt;chr&gt; | Factor &lt;chr&gt; | Replicate &lt;int&gt; | Peaks &lt;chr&gt; | PeakCaller &lt;chr&gt; | bamReads &lt;chr&gt; |\n",
       "|---|---|---|---|---|---|---|\n",
       "| WTC11.NGN2.2.ctrl1 | WTC11.NGN2 | control   | 1 | /wynton/group/ahituv/fongsl/projects/EMF/data/ATAC/WTC11NGN2.1/results/bwa/merged_library/macs2/broad_peak/control_REP1.mLb.clN_peaks.broadPeak | broad | /wynton/group/ahituv/fongsl/projects/EMF/data/ATAC/WTC11NGN2.1/results/bwa/merged_library/control_REP1.mLb.clN.sorted.bam |\n",
       "| WTC11.NGN2.2.ctrl3 | WTC11.NGN2 | control   | 2 | /wynton/group/ahituv/fongsl/projects/EMF/data/ATAC/WTC11NGN2.1/results/bwa/merged_library/macs2/broad_peak/control_REP2.mLb.clN_peaks.broadPeak | broad | /wynton/group/ahituv/fongsl/projects/EMF/data/ATAC/WTC11NGN2.1/results/bwa/merged_library/control_REP2.mLb.clN.sorted.bam |\n",
       "| WTC11.NGN2.2.ctrl4 | WTC11.NGN2 | control   | 3 | /wynton/group/ahituv/fongsl/projects/EMF/data/ATAC/WTC11NGN2.1/results/bwa/merged_library/macs2/broad_peak/control_REP3.mLb.clN_peaks.broadPeak | broad | /wynton/group/ahituv/fongsl/projects/EMF/data/ATAC/WTC11NGN2.1/results/bwa/merged_library/control_REP3.mLb.clN.sorted.bam |\n",
       "| WTC11.NGN2.2.PEMF1 | WTC11.NGN2 | treatment | 1 | /wynton/group/ahituv/fongsl/projects/EMF/data/ATAC/WTC11NGN2.1/results/bwa/merged_library/macs2/broad_peak/PEMF_REP1.mLb.clN_peaks.broadPeak    | broad | /wynton/group/ahituv/fongsl/projects/EMF/data/ATAC/WTC11NGN2.1/results/bwa/merged_library/PEMF_REP1.mLb.clN.sorted.bam    |\n",
       "| WTC11.NGN2.2.PEMF2 | WTC11.NGN2 | treatment | 2 | /wynton/group/ahituv/fongsl/projects/EMF/data/ATAC/WTC11NGN2.1/results/bwa/merged_library/macs2/broad_peak/PEMF_REP2.mLb.clN_peaks.broadPeak    | broad | /wynton/group/ahituv/fongsl/projects/EMF/data/ATAC/WTC11NGN2.1/results/bwa/merged_library/PEMF_REP2.mLb.clN.sorted.bam    |\n",
       "| WTC11.NGN2.2.PEMF3 | WTC11.NGN2 | treatment | 3 | /wynton/group/ahituv/fongsl/projects/EMF/data/ATAC/WTC11NGN2.1/results/bwa/merged_library/macs2/broad_peak/PEMF_REP3.mLb.clN_peaks.broadPeak    | broad | /wynton/group/ahituv/fongsl/projects/EMF/data/ATAC/WTC11NGN2.1/results/bwa/merged_library/PEMF_REP3.mLb.clN.sorted.bam    |\n",
       "| WTC11.NGN2.2.PEMF4 | WTC11.NGN2 | treatment | 4 | /wynton/group/ahituv/fongsl/projects/EMF/data/ATAC/WTC11NGN2.1/results/bwa/merged_library/macs2/broad_peak/PEMF_REP4.mLb.clN_peaks.broadPeak    | broad | /wynton/group/ahituv/fongsl/projects/EMF/data/ATAC/WTC11NGN2.1/results/bwa/merged_library/PEMF_REP4.mLb.clN.sorted.bam    |\n",
       "\n"
      ],
      "text/plain": [
       "  SampleID           Tissue     Factor    Replicate\n",
       "1 WTC11.NGN2.2.ctrl1 WTC11.NGN2 control   1        \n",
       "2 WTC11.NGN2.2.ctrl3 WTC11.NGN2 control   2        \n",
       "3 WTC11.NGN2.2.ctrl4 WTC11.NGN2 control   3        \n",
       "4 WTC11.NGN2.2.PEMF1 WTC11.NGN2 treatment 1        \n",
       "5 WTC11.NGN2.2.PEMF2 WTC11.NGN2 treatment 2        \n",
       "6 WTC11.NGN2.2.PEMF3 WTC11.NGN2 treatment 3        \n",
       "7 WTC11.NGN2.2.PEMF4 WTC11.NGN2 treatment 4        \n",
       "  Peaks                                                                                                                                          \n",
       "1 /wynton/group/ahituv/fongsl/projects/EMF/data/ATAC/WTC11NGN2.1/results/bwa/merged_library/macs2/broad_peak/control_REP1.mLb.clN_peaks.broadPeak\n",
       "2 /wynton/group/ahituv/fongsl/projects/EMF/data/ATAC/WTC11NGN2.1/results/bwa/merged_library/macs2/broad_peak/control_REP2.mLb.clN_peaks.broadPeak\n",
       "3 /wynton/group/ahituv/fongsl/projects/EMF/data/ATAC/WTC11NGN2.1/results/bwa/merged_library/macs2/broad_peak/control_REP3.mLb.clN_peaks.broadPeak\n",
       "4 /wynton/group/ahituv/fongsl/projects/EMF/data/ATAC/WTC11NGN2.1/results/bwa/merged_library/macs2/broad_peak/PEMF_REP1.mLb.clN_peaks.broadPeak   \n",
       "5 /wynton/group/ahituv/fongsl/projects/EMF/data/ATAC/WTC11NGN2.1/results/bwa/merged_library/macs2/broad_peak/PEMF_REP2.mLb.clN_peaks.broadPeak   \n",
       "6 /wynton/group/ahituv/fongsl/projects/EMF/data/ATAC/WTC11NGN2.1/results/bwa/merged_library/macs2/broad_peak/PEMF_REP3.mLb.clN_peaks.broadPeak   \n",
       "7 /wynton/group/ahituv/fongsl/projects/EMF/data/ATAC/WTC11NGN2.1/results/bwa/merged_library/macs2/broad_peak/PEMF_REP4.mLb.clN_peaks.broadPeak   \n",
       "  PeakCaller\n",
       "1 broad     \n",
       "2 broad     \n",
       "3 broad     \n",
       "4 broad     \n",
       "5 broad     \n",
       "6 broad     \n",
       "7 broad     \n",
       "  bamReads                                                                                                                 \n",
       "1 /wynton/group/ahituv/fongsl/projects/EMF/data/ATAC/WTC11NGN2.1/results/bwa/merged_library/control_REP1.mLb.clN.sorted.bam\n",
       "2 /wynton/group/ahituv/fongsl/projects/EMF/data/ATAC/WTC11NGN2.1/results/bwa/merged_library/control_REP2.mLb.clN.sorted.bam\n",
       "3 /wynton/group/ahituv/fongsl/projects/EMF/data/ATAC/WTC11NGN2.1/results/bwa/merged_library/control_REP3.mLb.clN.sorted.bam\n",
       "4 /wynton/group/ahituv/fongsl/projects/EMF/data/ATAC/WTC11NGN2.1/results/bwa/merged_library/PEMF_REP1.mLb.clN.sorted.bam   \n",
       "5 /wynton/group/ahituv/fongsl/projects/EMF/data/ATAC/WTC11NGN2.1/results/bwa/merged_library/PEMF_REP2.mLb.clN.sorted.bam   \n",
       "6 /wynton/group/ahituv/fongsl/projects/EMF/data/ATAC/WTC11NGN2.1/results/bwa/merged_library/PEMF_REP3.mLb.clN.sorted.bam   \n",
       "7 /wynton/group/ahituv/fongsl/projects/EMF/data/ATAC/WTC11NGN2.1/results/bwa/merged_library/PEMF_REP4.mLb.clN.sorted.bam   "
      ]
     },
     "metadata": {},
     "output_type": "display_data"
    }
   ],
   "source": [
    "setwd(\"/wynton/group/ahituv/fongsl/projects/EMF/data/ATAC/WTC11NGN2.1\")\n",
    "\n",
    "#sample_csv = \"/wynton/group/ahituv/data/US-MPRA/ATAC-seq/diffbind_samples/samples_diffbind_red.csv\"\n",
    "\n",
    "results_path = \"/wynton/group/ahituv/fongsl/projects/EMF/results/ATAC/WTC11NGN2.1\"\n",
    "sample_csv = \"/wynton/group/ahituv/fongsl/projects/EMF/data/ATAC/WTC11NGN2.1/samples_diffbind_wtc11.csv\"\n",
    "sample_csv1 = \"/wynton/group/ahituv/fongsl/projects/EMF/data/ATAC/WTC11NGN2.1/samples_diffbind_wtc11_maskctrl1.csv\"\n",
    "samples <- read.csv(sample_csv)\n",
    "\n",
    "samples"
   ]
  },
  {
   "cell_type": "markdown",
   "id": "0ee10012-17b6-486f-b381-7409041b940c",
   "metadata": {},
   "source": [
    "## load object"
   ]
  },
  {
   "cell_type": "code",
   "execution_count": 3,
   "id": "999d71e3-5f91-4d70-a07c-16df8d1bc645",
   "metadata": {},
   "outputs": [
    {
     "name": "stderr",
     "output_type": "stream",
     "text": [
      "WTC11.NGN2.2.ctrl1 WTC11.NGN2 control   1 broad\n",
      "\n",
      "WTC11.NGN2.2.ctrl3 WTC11.NGN2 control   2 broad\n",
      "\n",
      "WTC11.NGN2.2.ctrl4 WTC11.NGN2 control   3 broad\n",
      "\n",
      "WTC11.NGN2.2.PEMF1 WTC11.NGN2 treatment   1 broad\n",
      "\n",
      "WTC11.NGN2.2.PEMF2 WTC11.NGN2 treatment   2 broad\n",
      "\n",
      "WTC11.NGN2.2.PEMF3 WTC11.NGN2 treatment   3 broad\n",
      "\n",
      "WTC11.NGN2.2.PEMF4 WTC11.NGN2 treatment   4 broad\n",
      "\n"
     ]
    },
    {
     "data": {
      "text/plain": [
       "7 Samples, 133126 sites in matrix (199485 total):\n",
       "                  ID     Tissue    Factor Replicate Intervals\n",
       "1 WTC11.NGN2.2.ctrl1 WTC11.NGN2   control         1     89580\n",
       "2 WTC11.NGN2.2.ctrl3 WTC11.NGN2   control         2    117371\n",
       "3 WTC11.NGN2.2.ctrl4 WTC11.NGN2   control         3    125424\n",
       "4 WTC11.NGN2.2.PEMF1 WTC11.NGN2 treatment         1    116128\n",
       "5 WTC11.NGN2.2.PEMF2 WTC11.NGN2 treatment         2    113990\n",
       "6 WTC11.NGN2.2.PEMF3 WTC11.NGN2 treatment         3    108875\n",
       "7 WTC11.NGN2.2.PEMF4 WTC11.NGN2 treatment         4    110978"
      ]
     },
     "metadata": {},
     "output_type": "display_data"
    }
   ],
   "source": [
    "obj = dba(sampleSheet=sample_csv, scoreCol=5,  # if broadpeak, scoreCol is 5 - https://support.bioconductor.org/p/9151399/\n",
    "          config = data.frame(AnalysisMethod=DBA_DESEQ2) \n",
    "         )\n",
    "obj"
   ]
  },
  {
   "cell_type": "markdown",
   "id": "fdd61e58-c2c9-457e-885b-545f8041d7ca",
   "metadata": {},
   "source": [
    "## Make read count affinity matrix \n",
    "- requires bam or external count file"
   ]
  },
  {
   "cell_type": "code",
   "execution_count": 4,
   "id": "ee0152c3-4d9b-48f8-bb25-dc52d9f6e54d",
   "metadata": {},
   "outputs": [
    {
     "name": "stderr",
     "output_type": "stream",
     "text": [
      "Computing summits...\n",
      "\n",
      "Re-centering peaks...\n",
      "\n"
     ]
    },
    {
     "data": {
      "text/plain": [
       "7 Samples, 132722 sites in matrix:\n",
       "                  ID     Tissue    Factor Replicate    Reads FRiP\n",
       "1 WTC11.NGN2.2.ctrl1 WTC11.NGN2   control         1 18318017 0.22\n",
       "2 WTC11.NGN2.2.ctrl3 WTC11.NGN2   control         2 20077834 0.28\n",
       "3 WTC11.NGN2.2.ctrl4 WTC11.NGN2   control         3 24572668 0.29\n",
       "4 WTC11.NGN2.2.PEMF1 WTC11.NGN2 treatment         1 16289116 0.37\n",
       "5 WTC11.NGN2.2.PEMF2 WTC11.NGN2 treatment         2 16704248 0.42\n",
       "6 WTC11.NGN2.2.PEMF3 WTC11.NGN2 treatment         3 15638662 0.43\n",
       "7 WTC11.NGN2.2.PEMF4 WTC11.NGN2 treatment         4 19713445 0.38"
      ]
     },
     "metadata": {},
     "output_type": "display_data"
    }
   ],
   "source": [
    "obj <- dba.count(obj, score=DBA_SCORE_RPKM_FOLD)\n",
    "\n",
    "obj"
   ]
  },
  {
   "cell_type": "markdown",
   "id": "7824359d-b1e7-4deb-8b6e-cec9d8c903d0",
   "metadata": {},
   "source": [
    "## correlate count scores"
   ]
  },
  {
   "cell_type": "code",
   "execution_count": 5,
   "id": "2d0a1b02-30f6-46e9-8a58-8d9574d01b27",
   "metadata": {},
   "outputs": [
    {
     "data": {
      "text/html": [
       "<strong>png:</strong> 2"
      ],
      "text/latex": [
       "\\textbf{png:} 2"
      ],
      "text/markdown": [
       "**png:** 2"
      ],
      "text/plain": [
       "png \n",
       "  2 "
      ]
     },
     "metadata": {},
     "output_type": "display_data"
    }
   ],
   "source": [
    "# correlation based on count scores, \n",
    "jpeg(file = file.path(results_path,  \"2_count.jpg\"), \n",
    "    width=600, height=600)\n",
    "\n",
    "plot(obj)\n",
    "\n",
    "dev.off()"
   ]
  },
  {
   "cell_type": "markdown",
   "id": "2fa295a4-a59e-4602-b21c-292eb76c0fc3",
   "metadata": {},
   "source": [
    "## Constrast setup"
   ]
  },
  {
   "cell_type": "code",
   "execution_count": 6,
   "id": "07a5a95d-0c72-409d-808a-4794025944bf",
   "metadata": {},
   "outputs": [
    {
     "name": "stderr",
     "output_type": "stream",
     "text": [
      "Computing results names...\n",
      "\n"
     ]
    }
   ],
   "source": [
    "# set up contrast for differential accessibility analysis\n",
    "obj_contrast <- dba.contrast(obj,\n",
    "                              categories=DBA_FACTOR,\n",
    "                              minMembers=3)  # default"
   ]
  },
  {
   "cell_type": "markdown",
   "id": "b0054281-05ea-4b47-92cf-5a1862c2d282",
   "metadata": {},
   "source": [
    "## DESeq2 run"
   ]
  },
  {
   "cell_type": "code",
   "execution_count": 7,
   "id": "174464ef-9d2a-48d6-8086-0373f2c6b034",
   "metadata": {},
   "outputs": [
    {
     "name": "stderr",
     "output_type": "stream",
     "text": [
      "Applying Blacklist/Greylists...\n",
      "\n",
      "Genome detected: Hsapiens.UCSC.hg38\n",
      "\n",
      "Applying blacklist...\n",
      "\n",
      "Removed: 28 of 132722 intervals.\n",
      "\n",
      "Removed 28 (of 132722) consensus peaks.\n",
      "\n",
      "Normalize edgeR with defaults...\n",
      "\n",
      "Normalize DESeq2 with defaults...\n",
      "\n",
      "Analyzing...\n",
      "\n"
     ]
    }
   ],
   "source": [
    "# do differential accessibility analysis - generates consensus peak set, read counting, normalization, differentially accessible peaks using contrasts\n",
    "obj_analyze <- dba.analyze(obj_contrast,\n",
    "                            method=DBA_ALL_METHODS)  # do both edger and deseg2"
   ]
  },
  {
   "cell_type": "markdown",
   "id": "b373fd9f-1708-47a8-af75-ab5c5f2a5396",
   "metadata": {},
   "source": [
    "## report differentially accessible peaks from DESeq2"
   ]
  },
  {
   "cell_type": "code",
   "execution_count": 8,
   "id": "2d3b58b0-33d3-4583-8e6f-03ccc36f20e0",
   "metadata": {},
   "outputs": [
    {
     "data": {
      "text/html": [
       "40299"
      ],
      "text/latex": [
       "40299"
      ],
      "text/markdown": [
       "40299"
      ],
      "text/plain": [
       "[1] 40299"
      ]
     },
     "metadata": {},
     "output_type": "display_data"
    },
    {
     "data": {
      "text/html": [
       "2"
      ],
      "text/latex": [
       "2"
      ],
      "text/markdown": [
       "2"
      ],
      "text/plain": [
       "[1] 2"
      ]
     },
     "metadata": {},
     "output_type": "display_data"
    },
    {
     "data": {
      "text/html": [
       "1"
      ],
      "text/latex": [
       "1"
      ],
      "text/markdown": [
       "1"
      ],
      "text/plain": [
       "[1] 1"
      ]
     },
     "metadata": {},
     "output_type": "display_data"
    }
   ],
   "source": [
    "obj.deseq2 <- dba.report(obj_analyze,\n",
    "                          contrast=1,\n",
    "                          method=DBA_DESEQ2)\n",
    "\n",
    "# write\n",
    "write.csv(data.frame(obj.deseq2), file=paste(results_path, \"deseq2.csv\", sep='/'), row.names=FALSE)\n",
    "\n",
    "# report number of sig differentially accessible peaks, fc >1, fc<1\n",
    "sum(obj.deseq2$FDR<0.05)\n",
    "sum(obj.deseq2$Fold>1)\n",
    "sum(obj.deseq2$Fold<-1)"
   ]
  },
  {
   "cell_type": "markdown",
   "id": "a7bea8ad-8c68-4fe8-97c9-203e27e9fdd5",
   "metadata": {},
   "source": [
    "## write all peaks, regardless of differentially bound (DB) or not (notDB)"
   ]
  },
  {
   "cell_type": "code",
   "execution_count": 9,
   "id": "e121d220-3f20-4197-b486-bca14ac9e1de",
   "metadata": {},
   "outputs": [
    {
     "data": {
      "text/html": [
       "92395"
      ],
      "text/latex": [
       "92395"
      ],
      "text/markdown": [
       "92395"
      ],
      "text/plain": [
       "[1] 92395"
      ]
     },
     "metadata": {},
     "output_type": "display_data"
    }
   ],
   "source": [
    "obj.deseq2_nodb <- dba.report(obj_analyze,\n",
    "                            contrast = 1,\n",
    "                            th=1,\n",
    "                            method = DBA_DESEQ2)\n",
    "\n",
    "# write\n",
    "write.csv(data.frame(obj.deseq2_nodb), file=paste(results_path,\"deseq2_notDB.csv\",sep='/'), row.names=FALSE)\n",
    "\n",
    "sum(obj.deseq2_nodb$FDR>0.05)"
   ]
  },
  {
   "cell_type": "markdown",
   "id": "06f9ae41-373e-4e8d-b74d-53901ecb4e4b",
   "metadata": {},
   "source": [
    "## filter chromosomes"
   ]
  },
  {
   "cell_type": "code",
   "execution_count": 10,
   "id": "cac31b07-2280-4fdd-9981-76aade6377b7",
   "metadata": {},
   "outputs": [
    {
     "data": {
      "text/plain": [
       "GRanges object with 40299 ranges and 0 metadata columns:\n",
       "                 seqnames              ranges strand\n",
       "                    <Rle>           <IRanges>  <Rle>\n",
       "  129633 chrUn_KI270438v1       111952-112352      *\n",
       "  129631 chrUn_KI270438v1       103862-104262      *\n",
       "  129632 chrUn_KI270438v1       109645-110045      *\n",
       "  129637 chrUn_KI270467v1           2884-3284      *\n",
       "   45307            chr16   46387732-46388132      *\n",
       "     ...              ...                 ...    ...\n",
       "   95726             chr5   34474514-34474914      *\n",
       "  117425             chr8       697538-697938      *\n",
       "  117335             chr7 158304172-158304572      *\n",
       "  105688             chr6   71934469-71934869      *\n",
       "   58626            chr19   58581142-58581542      *\n",
       "  -------\n",
       "  seqinfo: 39 sequences from an unspecified genome; no seqlengths"
      ]
     },
     "metadata": {},
     "output_type": "display_data"
    },
    {
     "data": {
      "text/plain": [
       "GRanges object with 4009 ranges and 0 metadata columns:\n",
       "        seqnames              ranges strand\n",
       "           <Rle>           <IRanges>  <Rle>\n",
       "   1885     chr1   28369485-28369885      *\n",
       "    506     chr1     7704444-7704844      *\n",
       "   9282     chr1 202341816-202342216      *\n",
       "   1821     chr1   27321974-27322374      *\n",
       "   3365     chr1   52702894-52703294      *\n",
       "    ...      ...                 ...    ...\n",
       "   2333     chr1   34870409-34870809      *\n",
       "  11357     chr1 240122890-240123290      *\n",
       "   7461     chr1 163977836-163978236      *\n",
       "   9507     chr1 204975647-204976047      *\n",
       "  11680     chr1 246301565-246301965      *\n",
       "  -------\n",
       "  seqinfo: 39 sequences from an unspecified genome; no seqlengths"
      ]
     },
     "metadata": {},
     "output_type": "display_data"
    }
   ],
   "source": [
    "data_GR = makeGRangesFromDataFrame(obj.deseq2)\n",
    "\n",
    "data_GR\n",
    "\n",
    "data_GR %>% \n",
    "  filter(seqnames == 'chr1')"
   ]
  },
  {
   "cell_type": "markdown",
   "id": "084318d9-1539-4ade-aca6-68c753eba6b2",
   "metadata": {},
   "source": [
    "## plot heatmap"
   ]
  },
  {
   "cell_type": "code",
   "execution_count": 11,
   "id": "534bd78f-b8ff-45b5-aae3-006584ff8c03",
   "metadata": {},
   "outputs": [
    {
     "data": {
      "text/html": [
       "<strong>png:</strong> 2"
      ],
      "text/latex": [
       "\\textbf{png:} 2"
      ],
      "text/markdown": [
       "**png:** 2"
      ],
      "text/plain": [
       "png \n",
       "  2 "
      ]
     },
     "metadata": {},
     "output_type": "display_data"
    }
   ],
   "source": [
    "# heatmap\n",
    "pdf(file = file.path(results_path,  \"3_after_analyze.pdf\"), width=8,height=8)\n",
    "plot(obj_analyze)\n",
    "dev.off()"
   ]
  },
  {
   "cell_type": "markdown",
   "id": "538e89f1-2292-4778-a090-e9cfe813d970",
   "metadata": {},
   "source": [
    "## plot PCA"
   ]
  },
  {
   "cell_type": "code",
   "execution_count": 12,
   "id": "db540e2a-eedc-4d30-adc1-ddb90f12344a",
   "metadata": {},
   "outputs": [
    {
     "data": {
      "text/html": [
       "<strong>png:</strong> 2"
      ],
      "text/latex": [
       "\\textbf{png:} 2"
      ],
      "text/markdown": [
       "**png:** 2"
      ],
      "text/plain": [
       "png \n",
       "  2 "
      ]
     },
     "metadata": {},
     "output_type": "display_data"
    }
   ],
   "source": [
    "# PCA\n",
    "pdf(file = file.path(results_path,  \"4_pca.pdf\"), width=8,height=8)\n",
    "dba.plotPCA(obj_analyze)\n",
    "dev.off()"
   ]
  },
  {
   "cell_type": "markdown",
   "id": "4004536c-f3fd-4b8d-803f-e216c42056ee",
   "metadata": {},
   "source": [
    "## annotate peaks"
   ]
  },
  {
   "cell_type": "markdown",
   "id": "61048f50-bc46-4e67-ad2c-47f4a186eb65",
   "metadata": {},
   "source": [
    "library(TxDb.Hsapiens.UCSC.hg38.knownGene) "
   ]
  },
  {
   "cell_type": "code",
   "execution_count": 13,
   "id": "a69292e4-81d9-4ea7-8674-700abae3a32d",
   "metadata": {},
   "outputs": [],
   "source": [
    "txdb <- TxDb.Hsapiens.UCSC.hg38.knownGene"
   ]
  },
  {
   "cell_type": "code",
   "execution_count": 14,
   "id": "0cb65c51-09f5-48d7-82e5-a8f413fe062d",
   "metadata": {},
   "outputs": [
    {
     "name": "stdout",
     "output_type": "stream",
     "text": [
      ">> preparing features information...\t\t 2024-06-13 04:20:35 PM \n",
      ">> identifying nearest features...\t\t 2024-06-13 04:20:37 PM \n",
      ">> calculating distance from peak to TSS...\t 2024-06-13 04:20:38 PM \n",
      ">> assigning genomic annotation...\t\t 2024-06-13 04:20:38 PM \n",
      ">> adding gene annotation...\t\t\t 2024-06-13 04:21:25 PM \n"
     ]
    },
    {
     "name": "stderr",
     "output_type": "stream",
     "text": [
      "Loading required package: org.Hs.eg.db\n",
      "\n",
      "\n",
      "\n",
      "'select()' returned 1:many mapping between keys and columns\n",
      "\n"
     ]
    },
    {
     "name": "stdout",
     "output_type": "stream",
     "text": [
      ">> assigning chromosome lengths\t\t\t 2024-06-13 04:21:27 PM \n",
      ">> done...\t\t\t\t\t 2024-06-13 04:21:27 PM \n"
     ]
    }
   ],
   "source": [
    "# for deseq2 sig peaks\n",
    "peakAnno <- annotatePeak(obj.deseq2, \n",
    "                       tssRegion=c(-1000, 1000),\n",
    "                       TxDb=txdb, \n",
    "                       annoDb=\"org.Hs.eg.db\")\n",
    "\n",
    "# write\n",
    "write.csv(data.frame(peakAnno), file=paste(results_path,\"deseq2_peakAnno.csv\",sep='/'), row.names=FALSE)"
   ]
  },
  {
   "cell_type": "code",
   "execution_count": 15,
   "id": "ae324e52-34ad-47dc-acfe-b1e8ccb9676d",
   "metadata": {},
   "outputs": [
    {
     "name": "stdout",
     "output_type": "stream",
     "text": [
      ">> preparing features information...\t\t 2024-06-13 04:21:28 PM \n",
      ">> identifying nearest features...\t\t 2024-06-13 04:21:28 PM \n",
      ">> calculating distance from peak to TSS...\t 2024-06-13 04:21:31 PM \n",
      ">> assigning genomic annotation...\t\t 2024-06-13 04:21:31 PM \n",
      ">> adding gene annotation...\t\t\t 2024-06-13 04:21:38 PM \n"
     ]
    },
    {
     "name": "stderr",
     "output_type": "stream",
     "text": [
      "'select()' returned 1:many mapping between keys and columns\n",
      "\n"
     ]
    },
    {
     "name": "stdout",
     "output_type": "stream",
     "text": [
      ">> assigning chromosome lengths\t\t\t 2024-06-13 04:21:39 PM \n",
      ">> done...\t\t\t\t\t 2024-06-13 04:21:39 PM \n"
     ]
    }
   ],
   "source": [
    "peakAnno <- annotatePeak(obj.deseq2_nodb, \n",
    "                       tssRegion=c(-1000, 1000),\n",
    "                       TxDb=txdb, \n",
    "                       annoDb=\"org.Hs.eg.db\")\n",
    "\n",
    "# write\n",
    "write.csv(data.frame(peakAnno), file=paste(results_path,\"deseq2_notDB_peakAnno.csv\",sep='/'), row.names=FALSE)"
   ]
  },
  {
   "cell_type": "markdown",
   "id": "8557975f-ecb9-4aa2-bb67-0ec4e7aae25d",
   "metadata": {},
   "source": [
    "## plot annotations"
   ]
  },
  {
   "cell_type": "code",
   "execution_count": 17,
   "id": "b98dd45e-ab7d-43ac-ba44-976a7ace4afe",
   "metadata": {},
   "outputs": [
    {
     "data": {
      "text/html": [
       "<strong>png:</strong> 2"
      ],
      "text/latex": [
       "\\textbf{png:} 2"
      ],
      "text/markdown": [
       "**png:** 2"
      ],
      "text/plain": [
       "png \n",
       "  2 "
      ]
     },
     "metadata": {},
     "output_type": "display_data"
    }
   ],
   "source": [
    "pdf(file = file.path(results_path,  \"5_peakAnno_all.pdf\"), width=8,height=8)\n",
    "plotAnnoBar(peakAnno)\n",
    "dev.off()"
   ]
  },
  {
   "cell_type": "markdown",
   "id": "fc142b3d-ab5d-412b-9e99-e640b307ee62",
   "metadata": {},
   "source": [
    "# mask control 1"
   ]
  },
  {
   "cell_type": "code",
   "execution_count": null,
   "id": "1eb75ae7-f858-4ca9-abdb-226b98880338",
   "metadata": {},
   "outputs": [],
   "source": [
    "obj = dba(sampleSheet=sample_csv1, scoreCol=5,  # if broadpeak, scoreCol is 5 - https://support.bioconductor.org/p/9151399/\n",
    "          config = data.frame(AnalysisMethod=DBA_DESEQ2) \n",
    "         )\n",
    "obj\n",
    "\n",
    "obj <- dba.count(obj, score=DBA_SCORE_RPKM_FOLD)\n",
    "\n",
    "obj\n",
    "\n",
    "# correlation based on count scores, \n",
    "jpeg(file = file.path(results_path,  \"2_count_no_ctrl1.jpg\"), \n",
    "    width=600, height=600)\n",
    "\n",
    "plot(obj)\n",
    "\n",
    "dev.off()\n",
    "\n",
    "# set up contrast for differential accessibility analysis\n",
    "obj_contrast <- dba.contrast(obj,\n",
    "                              categories=DBA_FACTOR,\n",
    "                              minMembers=2)  # changed to accomodate 2 ctrl samples\n",
    "\n",
    "# do differential accessibility analysis - generates consensus peak set, read counting, normalization, differentially accessible peaks using contrasts\n",
    "obj_analyze <- dba.analyze(obj_contrast,\n",
    "                            method=DBA_ALL_METHODS)  # do both edger and deseg2\n",
    "\n",
    "obj.deseq2 <- dba.report(obj_analyze,\n",
    "                          contrast=1,\n",
    "                          method=DBA_DESEQ2)\n",
    "\n",
    "# write\n",
    "write.csv(data.frame(obj.deseq2), file=paste(results_path, \"deseq2_noctrl1.csv\", sep='/'), row.names=FALSE)\n",
    "\n",
    "# report number of sig differentially accessible peaks, fc >1, fc<1\n",
    "sum(obj.deseq2$FDR<0.05)\n",
    "sum(obj.deseq2$Fold>1)\n",
    "sum(obj.deseq2$Fold<-1)\n",
    "\n",
    "# heatmap\n",
    "pdf(file = file.path(results_path,  \"3_after_analyze_noctrl.pdf\"), width=8,height=8)\n",
    "plot(obj_analyze)\n",
    "dev.off()\n",
    "\n",
    "# PCA\n",
    "pdf(file = file.path(results_path,  \"4_pca_noctrl.pdf\"), width=8,height=8)\n",
    "dba.plotPCA(obj_analyze)\n",
    "dev.off()"
   ]
  }
 ],
 "metadata": {
  "kernelspec": {
   "display_name": "R",
   "language": "R",
   "name": "ir"
  },
  "language_info": {
   "codemirror_mode": "r",
   "file_extension": ".r",
   "mimetype": "text/x-r-source",
   "name": "R",
   "pygments_lexer": "r",
   "version": "4.3.1"
  }
 },
 "nbformat": 4,
 "nbformat_minor": 5
}
